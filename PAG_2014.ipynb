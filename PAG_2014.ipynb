{
 "metadata": {
  "name": ""
 },
 "nbformat": 3,
 "nbformat_minor": 0,
 "worksheets": [
  {
   "cells": [
    {
     "cell_type": "heading",
     "level": 1,
     "metadata": {},
     "source": [
      "What I learned at PAGXXII"
     ]
    },
    {
     "cell_type": "heading",
     "level": 2,
     "metadata": {},
     "source": [
      "Friday"
     ]
    },
    {
     "cell_type": "markdown",
     "metadata": {},
     "source": [
      "![summ](files/img/agen-3.png)"
     ]
    },
    {
     "cell_type": "markdown",
     "metadata": {},
     "source": [
      "![agenda](files/img/agen.png)"
     ]
    },
    {
     "cell_type": "markdown",
     "metadata": {},
     "source": [
      "Summary- Interesting insight from Birney; next step is reports from session to Scientific Committee where they will outline a white paper\n",
      "\n",
      "###Notes"
     ]
    },
    {
     "cell_type": "markdown",
     "metadata": {},
     "source": [
      "![notes](http://eagle.fish.washington.edu/cnidarian/skitch/agencode.png)"
     ]
    },
    {
     "cell_type": "markdown",
     "metadata": {},
     "source": [
      "![notes](http://eagle.fish.washington.edu/cnidarian/skitch/agencode2.png)"
     ]
    },
    {
     "cell_type": "markdown",
     "metadata": {},
     "source": [
      "![notes](http://eagle.fish.washington.edu/cnidarian/skitch/agencode3.png)"
     ]
    },
    {
     "cell_type": "heading",
     "level": 2,
     "metadata": {},
     "source": [
      "Saturday - Aquaculture Workshop"
     ]
    },
    {
     "cell_type": "code",
     "collapsed": false,
     "input": [],
     "language": "python",
     "metadata": {},
     "outputs": []
    },
    {
     "cell_type": "markdown",
     "metadata": {},
     "source": [
      "Date: Saturday, January 11, 2014 \n",
      "Time: 8:00 AM-6:10 PM\n",
      "Room: Royal Palm Salons 3-4\n",
      "Organizer:\n",
      "Steven Roberts\n",
      "8:00 AM\n",
      "Welcoming Remarks \n",
      "\n",
      "\n",
      "8:15 AM W036\n",
      "A Genome Map for a Species with Male Tetrasomic Inheritance, Coho Salmon, and Location of Quantitative Trait Loci \n",
      "Miyako Kodama, University of Washington; Marine Brieuc, University of Washington; Robert Devlin, Fisheries and Oceans Canada; Jeff Hard, Northwest Fisheries Science Center; Kerry Naish, University of Washington \n",
      "\n",
      "8:30 AM W037\n",
      "Genomic Regions Potentially Under Selection in a Hybridized Population of Westslope Cutthroat Trout (Oncorhynchus clarkii Lewisi) \n",
      "Daniel P. Drinan, University of Washington \n",
      "\n",
      "8:45 AM W038\n",
      "Transcriptome Assembly and Digital Gene Expression Atlas of the Rainbow Trout \n",
      "Bam D Paneru, Middle Tennessee State University \n",
      "\n",
      "9:00 AM W039\n",
      "Genomic Selection Applied to Pisciricketsia salmonis Resistance in Chilean Atlantic Salmon \n",
      "Victor Martinez, FAVET-INBIOGEN. University of Chile \n",
      "\n",
      "9:15 AM W040\n",
      "Bulk Segregant RNA-Seq Reveals Expression and Positional Candidate Genes and Allele-Specific Expression for Disease Resistance Against Enteric Septicemia of Catfish \n",
      "Ruijia Wang, The Fish Molecular Genetics and Biotechnology Laboratory; Luyang Sun, The Fish Molecular Genetics and Biotechnology Laboratory; Lisui Bao, The Fish Molecular Genetics and Biotechnology Laboratory; Jiaren Zhang, The Fish Molecular Genetics and Biotechnology Laboratory; Yanliang Jiang, The Fish Molecular Genetics and Biotechnology Laboratory; Jun Yao, The Fish Molecular Genetics and Biotechnology Laboratory; Lin Song, The Fish Molecular Genetics and Biotechnology Laboratory; Jianbin Feng, The Fish Molecular Genetics and Biotechnology Laboratory; Shikai Liu, The Fish Molecular Genetics and Biotechnology Laboratory; John Liu, The Fish Molecular Genetics and Biotechnology Laboratory \n",
      "\n",
      "9:30 AM W041\n",
      "Dietary Conditioning in Poultry By Limiting Specific Nutrients Early in Life Involves Altered DNA Methylation \n",
      "\n",
      "\n",
      "10:20 AM\n",
      "Break \n",
      "\n",
      "\n",
      "10:35 AM W042\n",
      "How Aquaculture Research and Development Could Contribute to Food Security in Developing Countries: Finding Solutions to Agricultural Problems That Affect People Everyday, from Field to Table \n",
      "\n",
      "\n",
      "10:50 AM W043\n",
      "Genome Dynamism in a Basal Vertebrate: Challenges and Biological Implications \n",
      "Chris Amemiya, Benaroya Research Institute; Jeramiah J. Smith, University of Kentucky \n",
      "\n",
      "11:40 AM\n",
      "Lunch \n",
      "\n",
      "\n",
      "1:10 PM W044\n",
      "Developing Molecular Markers for Population and Quantitative Genetic Analysis of Seriola lalandi Using Transcriptome Sequencing \n",
      "Victor Martinez, FAVET-INBIOGEN. University of Chile; Alok Patel, FAVET-INBIOGEN. UNIVERSIDAD DE CHILE \n",
      "\n",
      "1:25 PM W045\n",
      "A Comprehensive Methylome for Crassostrea gigas Provides Insight into the Role of DNA Methylation in Bivalves \n",
      "Mackenzie Gavery, University of Washington; Steven Roberts, University of Washington \n",
      "\n",
      "1:40 PM W046\n",
      "Evaluating the Effectiveness of Managed Gene Flow to Reduce Adaptation to Captivity in Supportive Breeding Programs \n",
      "Charles D. Waters, University of Washington; Marine S. O. Brieuc, University of Washington; Curtis M. Knudsen, Oncorh Consulting; David E. Fast, Yakama Nation Fisheries; Jeff Hard, Northwest Fisheries Science Center; Kenneth I. Warheit, Washington Department of Fish and Wildlife; Kerry Naish, University of Washington \n",
      "\n",
      "1:55 PM W047\n",
      "A Dense Linkage Map for Chinook Salmon (Oncorhynchus tshawytscha) Reveals Variable Chromosomal Divergence Following an Ancestral Whole Genome Duplication Event \n",
      "Marine S.O. Brieuc, University of Washington; Charles D. Waters, University of Washington; James E. Seeb, University of Washington; Kerry A. Naish, University of Washington \n",
      "\n",
      "2:10 PM W048\n",
      "Microbial and Tissue-Specific Regulation of Gene Transcription in the Zebrafish Intestine \n",
      "John F. Rawls, Duke University \n",
      "\n",
      "3:00 PM\n",
      "Intermission \n",
      "\n",
      "\n",
      "3:15 PM W049\n",
      "Tissue\u2010Specific Alternative Splicing in Rainbow Trout \n",
      "Rafet Al-Tobasei, Middle Tennessee State University \n",
      "\n",
      "3:30 PM W050\n",
      "Atlantic Salmon Liver Transcriptome Response to Diets Containing Camelina Products \n",
      "Xi Xue, Memorial University of Newfoundland; Tiago S. Hori, Memorial University of Newfoundland; Marije Booman, Memorial University of Newfoundland; Stefanie M. Hixson, Memorial University of Newfoundland; Christopher C. Parrish, Memorial University of Newfoundland; Kim Johnstone, Genome Atlantic; Derek M. Anderson, Dalhousie Agricultural Campus; Matthew L. Rise, Memorial University of Newfoundland \n",
      "\n",
      "3:45 PM W051\n",
      "SNP Discovery in Blue Catfish (Ictalurus furcatus) Populations via Genotyping\u2013by-Sequencing \n",
      "Eric Peatman, Auburn University; Chao Li, Auburn University; Wilawan Thongda, Auburn University; Benjamin Beck, USDA-ARS Stuttgart National Aquaculture Research Center; Brian Bosworth, USDA-ARS Warmwater Aquaculture Research Unit; Geoff Waldbieser, USDA-ARS Warmwater Aquaculture Research Unit \n",
      "\n",
      "4:00 PM W052\n",
      "Characterization of Rainbow Trout (Oncorhynchus mykiss) Spleen Transcriptome and Identification of Immune-Related Genes \n",
      "Ali R. Ali, Middle Tennessee State University \n",
      "\n",
      "4:15 PM W053\n",
      "Influence of Camelina Oil-Containing Diets on the Atlantic Cod Antiviral Immune Transcriptome and Elovl Family Transcript Expression \n",
      "Matthew L. Rise, Memorial University of Newfoundland; Marije Booman, Memorial University of Newfoundland; Xi Xue, Memorial University of Newfoundland; Qingheng Xu, Memorial University of Newfoundland; Stefanie M. Hixson, Memorial University of Newfoundland; Christopher C. Parrish, Memorial University of Newfoundland; Kim Johnstone, Genome Atlantic; Charles Y. Feng, Memorial University of Newfoundland; Derek M. Anderson, Dalhousie Agricultural Campus \n",
      "\n",
      "4:30 PM\n",
      "NRSP-8 Bioinformatics coordinator - Reecy \n",
      "\n",
      "\n",
      "4:45 PM\n",
      "AgEncode "
     ]
    },
    {
     "cell_type": "markdown",
     "metadata": {},
     "source": [
      "###Notes\n",
      "![aq](http://eagle.fish.washington.edu/cnidarian/skitch/aq.png)"
     ]
    },
    {
     "cell_type": "heading",
     "level": 2,
     "metadata": {},
     "source": [
      "Sunday"
     ]
    },
    {
     "cell_type": "heading",
     "level": 4,
     "metadata": {},
     "source": [
      "AM EBI"
     ]
    },
    {
     "cell_type": "markdown",
     "metadata": {},
     "source": [
      "**This session will introduce a number of key bioinformatic resources either hosted at, or contributed to by, the European Bioinformatics Institute and made freely available to the user community**. The featured resources have been selected as being key to genome annotation and analysis.\n",
      "Date: Sunday, January 12, 2014 \n",
      "    \n",
      "Time: 8:00 AM-12:40 PM\n",
      "Room: California\n",
      "Organizer:\n",
      "Sandra Orchard\n",
      "8:00 AM W357\n",
      "Introduction to Public Domain Resources at the EBI \n",
      "Sandra Orchard, EMBL-EBI \n",
      "\n",
      "8:15 AM W358\n",
      "Genome Resources at the EBI - Ensembl and Ensembl Genomes \n",
      "Bert Overduin, European Bioinformatics Institute (EMBL-EBI); Ensembl Team, N/A; Ensembl Genomes Team, N/A \n",
      "\n",
      "9:15 AM W359\n",
      "The Vertebrate Genome Annotation Database (VEGA) and the Use of Otterlace As a Community Annotation Tool \n",
      "Jane Loveland, Wellcome Trust Sanger Institute \n",
      "\n",
      "9:45 AM W360\n",
      "Expert Curation in UniProtKB \n",
      "Michel Schneider, Swiss Institute of Bioinformatics; UniProt Consortium, n/a \n",
      "\n",
      "10:15 AM W361\n",
      "The UniProt-Gene Ontology Annotation (UniProt-GOA) Project: Central Resource for Multi-Species GO Annotation \n",
      "Rachael Huntley, EMBL-EBI \n",
      "\n",
      "10:45 AM W362\n",
      "Automatic Annotation of New Genomes \n",
      "Sandra Orchard, EMBL-EBI \n",
      "\n",
      "11:15 AM W363\n",
      "Functional Genomics Data and Expression look-up tools: ArrayExpress and new Expression Atlas \n",
      "Amy Tang, EMBL-European Bioinformatics Institute \n",
      "\n",
      "11:45 AM W364\n",
      "Train Online: Web-Based Learning for Life Scientists \n",
      "Katrina Costa, EMBL-EBI \n"
     ]
    },
    {
     "cell_type": "markdown",
     "metadata": {},
     "source": [
      "###Notes\n",
      "Genome annotations\n",
      "Stand 303\n",
      "\n",
      "\n",
      "Bert overduin\n",
      "Genome resources \n",
      "Ensembl AND ensembl Genome\n",
      "\n",
      "**Oyster genome browser** \n",
      "<http://metazoa.ensembl.org/Crassostrea_gigas/Info/Index>\n",
      "\n",
      "_Rest api_\n",
      "There is one for ensembl gen\n",
      "Consul\n",
      "Gets url\n",
      "Awesome\n",
      "Try\n",
      "\n",
      "**Train online !!!**\n",
      "\n",
      "\n",
      "\n",
      "Goa annotations\n",
      "\n",
      "Extended go annotation new\n",
      "\n",
      "amigo blast\n",
      "Blast2go\n",
      "\n",
      "\n",
      "Interproscan\n",
      "\n",
      "Neurolex . org\n",
      "\n",
      "Quick go should have slim\n",
      "\n",
      "----\n",
      "interpro and interproscan\n",
      "Hyak\n",
      "\n",
      "Array express\n",
      "\n",
      "Co- expression \n",
      "Epistatic network\n",
      "\n",
      "\n",
      "\n",
      "Programattic access at\n",
      "Array express\n",
      "Rest\n",
      "\n",
      "\n",
      "\n"
     ]
    },
    {
     "cell_type": "markdown",
     "metadata": {},
     "source": [
      "###More talks \n",
      "\n",
      "Networks.     Toni Reverter\n",
      "Pcit algorithm\n",
      "Seems like tf is important \n",
      "\n",
      "Animal tf DATABASE\n",
      "<http://www.bioguo.org/AnimalTFDB/>\n",
      "\n",
      "Gorilla\n"
     ]
    },
    {
     "cell_type": "heading",
     "level": 2,
     "metadata": {},
     "source": [
      "Monday"
     ]
    },
    {
     "cell_type": "heading",
     "level": 3,
     "metadata": {},
     "source": [
      "AM Posters!! "
     ]
    },
    {
     "cell_type": "markdown",
     "metadata": {},
     "source": [
      "<img src=\"http://eagle.fish.washington.edu/cnidarian/skitch/2014-01-13_07_51_02_jpg_188EA296.png\" alt=\"2014-01-13_07_51_02_jpg_188EA296_png\"/>"
     ]
    },
    {
     "cell_type": "markdown",
     "metadata": {},
     "source": [
      "<img src=\"http://eagle.fish.washington.edu/cnidarian/skitch/2014-01-13_07_54_34_jpg_188EA2F1.png\" alt=\"2014-01-13_07_54_34_jpg_188EA2F1_png\"/>"
     ]
    },
    {
     "cell_type": "markdown",
     "metadata": {},
     "source": [
      "For above poster <https://github.com/jguhlin/UTR-import>"
     ]
    },
    {
     "cell_type": "markdown",
     "metadata": {},
     "source": [
      "<img src=\"http://eagle.fish.washington.edu/cnidarian/skitch/2014-01-13_07_57_59_jpg_and_2014-01-13_07_54_40_jpg_188EA3BF.png\" alt=\"2014-01-13_07_57_59_jpg_and_2014-01-13_07_54_40_jpg_188EA3BF.png\"/>"
     ]
    },
    {
     "cell_type": "markdown",
     "metadata": {},
     "source": [
      "<img src=\"http://eagle.fish.washington.edu/cnidarian/skitch/2014-01-13_07_58_53_jpg_and_2014-01-13_07_57_59_jpg_188EA41C.png\" alt=\"2014-01-13_07_58_53_jpg_and_2014-01-13_07_57_59_jpg_188EA41C_png\"/>"
     ]
    },
    {
     "cell_type": "markdown",
     "metadata": {},
     "source": [
      "<img src=\"http://eagle.fish.washington.edu/cnidarian/skitch/Galaxy___RepeatExplorer_188EA49F.png\" alt=\"Galaxy___RepeatExplorer_188EA49F_png\"/>\n",
      "\n",
      "\n",
      "---"
     ]
    },
    {
     "cell_type": "markdown",
     "metadata": {},
     "source": [
      "<img src=\"http://eagle.fish.washington.edu/cnidarian/skitch/2014-01-13_08_23_24_jpg_188EA594.png\" alt=\"2014-01-13_08_23_24_jpg_188EA594_png\"/>"
     ]
    },
    {
     "cell_type": "heading",
     "level": 3,
     "metadata": {},
     "source": [
      "Poster EmbryoGENE\n"
     ]
    },
    {
     "cell_type": "code",
     "collapsed": false,
     "input": [
      "from IPython.display import YouTubeVideo\n",
      "#An overview of the EmbryoGENE platforms for those visiting my PAG XXII poster in my absence.\n",
      "YouTubeVideo('lZnnq1APceI')"
     ],
     "language": "python",
     "metadata": {},
     "outputs": [
      {
       "html": [
        "\n",
        "        <iframe\n",
        "            width=\"400\"\n",
        "            height=300\"\n",
        "            src=\"http://www.youtube.com/embed/lZnnq1APceI\"\n",
        "            frameborder=\"0\"\n",
        "            allowfullscreen\n",
        "        ></iframe>\n",
        "        "
       ],
       "metadata": {},
       "output_type": "pyout",
       "prompt_number": 9,
       "text": [
        "<IPython.lib.display.YouTubeVideo at 0x1044c8550>"
       ]
      }
     ],
     "prompt_number": 9
    },
    {
     "cell_type": "markdown",
     "metadata": {},
     "source": [
      "High resolution figures\n",
      "<http://www.flickr.com/photos/112046442@N02/>"
     ]
    },
    {
     "cell_type": "code",
     "collapsed": false,
     "input": [
      "from IPython.display import YouTubeVideo\n",
      "# A presentation of the EmbryoGENE transcriptomic platform by Dr Claude Robert.\n",
      "YouTubeVideo('ble2V8d5WdQ')"
     ],
     "language": "python",
     "metadata": {},
     "outputs": [
      {
       "html": [
        "\n",
        "        <iframe\n",
        "            width=\"400\"\n",
        "            height=300\"\n",
        "            src=\"http://www.youtube.com/embed/ble2V8d5WdQ\"\n",
        "            frameborder=\"0\"\n",
        "            allowfullscreen\n",
        "        ></iframe>\n",
        "        "
       ],
       "metadata": {},
       "output_type": "pyout",
       "prompt_number": 8,
       "text": [
        "<IPython.lib.display.YouTubeVideo at 0x1044c85d0>"
       ]
      }
     ],
     "prompt_number": 8
    },
    {
     "cell_type": "code",
     "collapsed": false,
     "input": [
      "from IPython.display import YouTubeVideo\n",
      "# A presentation of the EmbryioGENE epigenetic platform by Dr Claude Robert.\n",
      "YouTubeVideo('MVMQAMiihpw')"
     ],
     "language": "python",
     "metadata": {},
     "outputs": [
      {
       "html": [
        "\n",
        "        <iframe\n",
        "            width=\"400\"\n",
        "            height=300\"\n",
        "            src=\"http://www.youtube.com/embed/MVMQAMiihpw\"\n",
        "            frameborder=\"0\"\n",
        "            allowfullscreen\n",
        "        ></iframe>\n",
        "        "
       ],
       "metadata": {},
       "output_type": "pyout",
       "prompt_number": 7,
       "text": [
        "<IPython.lib.display.YouTubeVideo at 0x1044c8710>"
       ]
      }
     ],
     "prompt_number": 7
    },
    {
     "cell_type": "markdown",
     "metadata": {},
     "source": [
      "<img src=\"http://eagle.fish.washington.edu/cnidarian/skitch/2014-01-13_13_08_56_jpg_188DF4CA.png\" alt=\"2014-01-13_13_08_56_jpg_188DF4CA_png\"/>"
     ]
    },
    {
     "cell_type": "code",
     "collapsed": false,
     "input": [],
     "language": "python",
     "metadata": {},
     "outputs": []
    }
   ],
   "metadata": {}
  }
 ]
}