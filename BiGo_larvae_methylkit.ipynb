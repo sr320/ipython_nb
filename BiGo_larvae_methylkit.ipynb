{
 "metadata": {
  "name": ""
 },
 "nbformat": 3,
 "nbformat_minor": 0,
 "worksheets": [
  {
   "cells": [
    {
     "cell_type": "heading",
     "level": 1,
     "metadata": {},
     "source": [
      "Converting methratio files for methylkit analysis"
     ]
    },
    {
     "cell_type": "raw",
     "metadata": {},
     "source": [
      "M3"
     ]
    },
    {
     "cell_type": "markdown",
     "metadata": {},
     "source": [
      "```sql\n",
      "SELECT \n",
      "  chr as chr,\n",
      "  pos as start,\n",
      "  '+' as strand,\n",
      "  cast (CT_count as float) as CT_count,\n",
      "  cast (C_count as float) as C_count\n",
      "FROM [sr320@washington.edu].[BiGo_lar_M3]\n",
      "  where \n",
      "context like '__CG_'\n",
      "and\n",
      "  CT_Count >= 5 \n",
      "and \n",
      "  ratio <> 'NA'\n",
      "```"
     ]
    },
    {
     "cell_type": "markdown",
     "metadata": {},
     "source": [
      "```\n",
      "SELECT \n",
      " chr as chr,\n",
      "  start as start,\n",
      "  strand as strand,\n",
      "  CT_count as CT_count,\n",
      " C_count as C_count,\n",
      "  C_count/CT_count as freqC  \n",
      "  \n",
      "  \n",
      "  FROM [sr320@washington.edu].[_M3methylkit_s1]\u200b\n",
      "``` "
     ]
    },
    {
     "cell_type": "markdown",
     "metadata": {},
     "source": [
      "```\n",
      "SELECT  \n",
      "  chr as chr,\n",
      "  start as start,\n",
      "  strand as strand,\n",
      "  CT_count as CT_count,\n",
      "  freqC as freqC,\n",
      "    1-freqC as freqT\n",
      "  \n",
      "  FROM [sr320@washington.edu].[_M3mehthykit_step2]\u200b\n",
      "    ```"
     ]
    },
    {
     "cell_type": "code",
     "collapsed": false,
     "input": [
      "!head /Volumes/web/cnidarian/BiGo_lar_M3_methylkit_input.csv"
     ],
     "language": "python",
     "metadata": {},
     "outputs": [
      {
       "output_type": "stream",
       "stream": "stdout",
       "text": [
        "chr,start,strand,CT_count,freqC,freqT\r",
        "\r\n",
        "C10295,38,+,15,0,1\r",
        "\r\n",
        "C10295,51,+,21,0,1\r",
        "\r\n",
        "C10295,142,+,9,0,1\r",
        "\r\n",
        "C10845,110,+,6,0,1\r",
        "\r\n",
        "C10845,145,+,6,0,1\r",
        "\r\n",
        "C11248,71,+,5,0,1\r",
        "\r\n",
        "C11870,109,+,6,0,1\r",
        "\r\n",
        "C12272,65,+,5,1,0\r",
        "\r\n",
        "C14220,96,+,6,0,1\r",
        "\r\n"
       ]
      }
     ],
     "prompt_number": 3
    },
    {
     "cell_type": "code",
     "collapsed": false,
     "input": [],
     "language": "python",
     "metadata": {},
     "outputs": []
    }
   ],
   "metadata": {}
  }
 ]
}