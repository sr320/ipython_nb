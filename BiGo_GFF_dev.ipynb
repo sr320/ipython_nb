{
 "metadata": {
  "name": "BiGo_GFF_dev"
 },
 "nbformat": 3,
 "nbformat_minor": 0,
 "worksheets": [
  {
   "cells": [
    {
     "cell_type": "markdown",
     "metadata": {},
     "source": "#Developing BiGO GFF for Oyster Genome Browser"
    },
    {
     "cell_type": "markdown",
     "metadata": {},
     "source": "See \n<https://github.com/uwescience/sqlshare/wiki/Workflow:-Analysis-of-BSMAP-data>\nfor background."
    },
    {
     "cell_type": "markdown",
     "metadata": {},
     "source": "<img src=\"https://www.evernote.com/shard/s10/sh/fd20133d-8c1b-4c6d-a353-ecfcce2719bb/a3074d79597d380e0198811b419b26f0/deep/0/Screenshot%205/27/13%209:11%20AM.jpg\" alt=\"Screenshot%205/27/13%209:11%20AM\" width = 50%/>"
    },
    {
     "cell_type": "markdown",
     "metadata": {},
     "source": "_GFF format was created from methratio file that only has info for CpG and 10x coverage_"
    },
    {
     "cell_type": "markdown",
     "metadata": {},
     "source": "**SQLSHare Code**\n"
    },
    {
     "cell_type": "markdown",
     "metadata": {},
     "source": "    SELECT \n    chr as seqname,  \n    'methratio' as source,  \n    'CpG' as feature, \n    pos as start,\n    pos + 1 as [end],\n    ratio as score,  \n    strand,  \n    '.' as frame,  \n    '.' as attribute  \n\n    FROM [sr320@washington.edu].     \n    [BiGO_betty_plain_methratio_v1.txt] betty \n    where \n    context like '__CG_' --_=single character wildcard\n    and\n    CT_Count > 9"
    },
    {
     "cell_type": "markdown",
     "metadata": {},
     "source": "##Downloading as tsv in python tools"
    },
    {
     "cell_type": "raw",
     "metadata": {},
     "source": "python fetchdata.py -d \"[sr320@washington.edu].[BiGO_Methylation_oysterv9_GFF]\u200b\" -f tsv -o /Volumes/web/cnidarian/BiGO_Methylation10x_oysterv9.gff"
    },
    {
     "cell_type": "markdown",
     "metadata": {},
     "source": "Also will create new gff with 5x coverage in SQLShare \n"
    },
    {
     "cell_type": "raw",
     "metadata": {},
     "source": "python fetchdata.py -d \"[sr320@washington.edu].[BiGO_Methylation5x_oysterv9_GFF]\u200b\u200b\" -f tsv -o /Volumes/web/cnidarian/BiGO_Methylation5x_oysterv9.gff"
    },
    {
     "cell_type": "code",
     "collapsed": false,
     "input": "!head /Volumes/web/cnidarian/BiGO_Methylation5x_oysterv9.gff",
     "language": "python",
     "metadata": {},
     "outputs": [
      {
       "output_type": "stream",
       "stream": "stdout",
       "text": "seqname\tsource\tfeature\tstart\tend\tscore\tstrand\tframe\tattribute\r\r\nC10005\tmethratio\tCpG\t57\t58\t0.000\t+\t.\t.\r\r\nC10009\tmethratio\tCpG\t70\t71\t0.000\t+\t.\t.\r\r\nC10009\tmethratio\tCpG\t124\t125\t0.000\t+\t.\t.\r\r\nC10009\tmethratio\tCpG\t128\t129\t0.000\t+\t.\t.\r\r\nC10009\tmethratio\tCpG\t136\t137\t0.000\t+\t.\t.\r\r\nC10011\tmethratio\tCpG\t51\t52\t0.000\t+\t.\t.\r\r\nC10011\tmethratio\tCpG\t62\t63\t0.000\t+\t.\t.\r\r\nC10011\tmethratio\tCpG\t101\t102\t0.000\t+\t.\t.\r\r\nC10011\tmethratio\tCpG\t108\t109\t0.000\t+\t.\t.\r\r\n"
      }
     ],
     "prompt_number": 8
    },
    {
     "cell_type": "code",
     "collapsed": false,
     "input": "",
     "language": "python",
     "metadata": {},
     "outputs": [],
     "prompt_number": 7
    },
    {
     "cell_type": "code",
     "collapsed": false,
     "input": "",
     "language": "python",
     "metadata": {},
     "outputs": []
    }
   ],
   "metadata": {}
  }
 ]
}