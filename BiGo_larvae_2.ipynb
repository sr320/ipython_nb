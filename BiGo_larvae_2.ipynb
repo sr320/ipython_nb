{
 "metadata": {
  "name": ""
 },
 "nbformat": 3,
 "nbformat_minor": 0,
 "worksheets": [
  {
   "cells": [
    {
     "cell_type": "heading",
     "level": 1,
     "metadata": {},
     "source": [
      "Bisulfite Sequencing - Larvae 5 day Trial"
     ]
    },
    {
     "cell_type": "raw",
     "metadata": {},
     "source": [
      "Summary: 7 libraries were made. Egg, Sperm 1, Larvae1_day3, Larvae1_day5, Sperm 3, Larvae3_day3, Larvae3_day5. Egg sample has consistenly failed at sequencing, but have two sets of sequencing for everything else. The first step will be to compile libraries. MAYBE? check and see if data is different between technical reps."
     ]
    },
    {
     "cell_type": "code",
     "collapsed": false,
     "input": [],
     "language": "python",
     "metadata": {},
     "outputs": []
    }
   ],
   "metadata": {}
  }
 ]
}