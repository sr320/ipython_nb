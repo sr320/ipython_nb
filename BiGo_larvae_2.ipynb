{
 "metadata": {
  "name": "",
  "signature": "sha256:695358de82e5a57b986fa36f075ffa4e4d013b2634734a66a7835a4f6fb78106"
 },
 "nbformat": 3,
 "nbformat_minor": 0,
 "worksheets": [
  {
   "cells": [
    {
     "cell_type": "heading",
     "level": 1,
     "metadata": {},
     "source": [
      "Bisulfite Sequencing - Larvae 5 day Trial"
     ]
    },
    {
     "cell_type": "code",
     "collapsed": false,
     "input": [
      "#SR edits - html embeds not working on html so generatinv nbviewer linke\n",
      "!date"
     ],
     "language": "python",
     "metadata": {},
     "outputs": [
      {
       "output_type": "stream",
       "stream": "stdout",
       "text": [
        "Fri Feb 21 07:39:49 PST 2014\r\n"
       ]
      }
     ],
     "prompt_number": 16
    },
    {
     "cell_type": "code",
     "collapsed": false,
     "input": [
      "filename='BiGo_larvae_2'"
     ],
     "language": "python",
     "metadata": {},
     "outputs": [],
     "prompt_number": 4
    },
    {
     "cell_type": "code",
     "collapsed": false,
     "input": [
      "#ipynb viewer format:\n",
      "!echo 'http://nbviewer.ipython.org/github/sr320/ipython_nb/blob/master/''{filename}''.ipynb'"
     ],
     "language": "python",
     "metadata": {},
     "outputs": [
      {
       "output_type": "stream",
       "stream": "stdout",
       "text": [
        "http://nbviewer.ipython.org/github/sr320/ipython_nb/blob/master/BiGo_larvae_2.ipynb\r\n"
       ]
      }
     ],
     "prompt_number": 5
    },
    {
     "cell_type": "code",
     "collapsed": false,
     "input": [
      "#ipynb file:\n",
      "!echo 'https://github.com/sr320/ipython_nb/blob/master/''{filename}''.ipynb'"
     ],
     "language": "python",
     "metadata": {},
     "outputs": [
      {
       "output_type": "stream",
       "stream": "stdout",
       "text": [
        "https://github.com/sr320/ipython_nb/blob/master/BiGo_larvae_2.ipynb\r\n"
       ]
      }
     ],
     "prompt_number": 6
    },
    {
     "cell_type": "heading",
     "level": 3,
     "metadata": {},
     "source": [
      "TOC"
     ]
    },
    {
     "cell_type": "markdown",
     "metadata": {},
     "source": [
      "[Sept QC data](#September-Run-FastQC-Reports)"
     ]
    },
    {
     "cell_type": "code",
     "collapsed": false,
     "input": [],
     "language": "python",
     "metadata": {},
     "outputs": []
    },
    {
     "cell_type": "code",
     "collapsed": false,
     "input": [],
     "language": "python",
     "metadata": {},
     "outputs": []
    },
    {
     "cell_type": "markdown",
     "metadata": {},
     "source": [
      "Summary: 7 libraries were made. Egg, Sperm 1, Larvae1_day3, Larvae1_day5, Sperm 3, Larvae3_day3, Larvae3_day5. Egg sample has consistenly failed at sequencing, but have two sets of sequencing for everything else. The first step will be to compile libraries. MAYBE? check and see if data is different between technical reps."
     ]
    },
    {
     "cell_type": "code",
     "collapsed": false,
     "input": [
      "! /Volumes/Bay3/Software/BSMAP/bsmap-2.74/bsmap -a /Volumes/web/trilobite/Crassostrea_gigas_HTSdata/FCC3ATL/BS_CgF_ACAGTG_L004_R1_001.fastq.gz -d /Volumes/web/cnidarian/oyster.v9.fa -o /Volumes/web/cnidarian/BiGo_egg_redo.sam -p 4"
     ],
     "language": "python",
     "metadata": {},
     "outputs": [
      {
       "output_type": "stream",
       "stream": "stdout",
       "text": [
        "\r\n",
        "BSMAP v2.74\r\n"
       ]
      },
      {
       "output_type": "stream",
       "stream": "stdout",
       "text": [
        "Start at:  Wed Jan 22 18:16:14 2014\r\n",
        "\r\n",
        "Input reference file: /Volumes/web/cnidarian/oyster.v9.fa"
       ]
      },
      {
       "output_type": "stream",
       "stream": "stdout",
       "text": [
        " \t(format: FASTA)\r\n"
       ]
      },
      {
       "output_type": "stream",
       "stream": "stdout",
       "text": [
        "Load in 11969 db seqs, total size 558601156 bp. 26 secs passed\r\n",
        "total_kmers: 43046721\r\n"
       ]
      },
      {
       "output_type": "stream",
       "stream": "stdout",
       "text": [
        "Create seed table. 97 secs passed\r\n",
        "max number of mismatches: read_length * 8% \tmax gap size: 0\r\n",
        "kmer cut-off ratio: 5e-07\r\n",
        "max multi-hits: 100\tmax Ns: 5\tseed size: 16\tindex interval: 4\r\n",
        "quality cutoff: 0\tbase quality char: '!'\r\n",
        "min fragment size:28\tmax fragemt size:500\r\n",
        "start from read #1\tend at read #4294967295\r\n",
        "additional alignment: T in reads => C in reference\r\n",
        "mapping strand: ++,-+\r\n",
        "Single-end alignment(4 threads)\r\n",
        "Input read file: /Volumes/web/trilobite/Crassostrea_gigas_HTSdata/FCC3ATL/BS_CgF_ACAGTG_L004_R1_001.fastq.gz"
       ]
      },
      {
       "output_type": "stream",
       "stream": "stdout",
       "text": [
        " \t(format: gzipped FASTQ)\r\n",
        "Output file: /Volumes/web/cnidarian/BiGo_egg_redo.sam\t (format: SAM)\r\n"
       ]
      },
      {
       "output_type": "stream",
       "stream": "stdout",
       "text": [
        "Thread #1: \t150000 reads finished. 126 secs passed\r\n"
       ]
      },
      {
       "output_type": "stream",
       "stream": "stdout",
       "text": [
        "Thread #2: \t100000 reads finished. 126 secs passed\r\n",
        "Thread #3: \t200000 reads finished. 126 secs passed\r\n"
       ]
      },
      {
       "output_type": "stream",
       "stream": "stdout",
       "text": [
        "Thread #0: \t50000 reads finished. 126 secs passed\r\n"
       ]
      },
      {
       "output_type": "stream",
       "stream": "stdout",
       "text": [
        "Thread #1: \t250000 reads finished. 162 secs passed\r\n"
       ]
      },
      {
       "output_type": "stream",
       "stream": "stdout",
       "text": [
        "Thread #3: \t350000 reads finished. 162 secs passed\r\n"
       ]
      },
      {
       "output_type": "stream",
       "stream": "stdout",
       "text": [
        "Thread #2: \t300000 reads finished. 163 secs passed\r\n"
       ]
      },
      {
       "output_type": "stream",
       "stream": "stdout",
       "text": [
        "Thread #0: \t400000 reads finished. 164 secs passed\r\n"
       ]
      },
      {
       "output_type": "stream",
       "stream": "stdout",
       "text": [
        "Thread #1: \t450000 reads finished. 193 secs passed\r\n"
       ]
      },
      {
       "output_type": "stream",
       "stream": "stdout",
       "text": [
        "Thread #3: \t500000 reads finished. 193 secs passed\r\n"
       ]
      },
      {
       "output_type": "stream",
       "stream": "stdout",
       "text": [
        "Thread #2: \t550000 reads finished. 193 secs passed\r\n"
       ]
      },
      {
       "output_type": "stream",
       "stream": "stdout",
       "text": [
        "Thread #0: \t600000 reads finished. 194 secs passed\r\n"
       ]
      },
      {
       "output_type": "stream",
       "stream": "stdout",
       "text": [
        "Thread #1: \t650000 reads finished. 228 secs passed\r\n"
       ]
      },
      {
       "output_type": "stream",
       "stream": "stdout",
       "text": [
        "Thread #3: \t700000 reads finished. 229 secs passed\r\n"
       ]
      },
      {
       "output_type": "stream",
       "stream": "stdout",
       "text": [
        "Thread #2: \t750000 reads finished. 229 secs passed\r\n"
       ]
      },
      {
       "output_type": "stream",
       "stream": "stdout",
       "text": [
        "Thread #0: \t800000 reads finished. 230 secs passed\r\n"
       ]
      },
      {
       "output_type": "stream",
       "stream": "stdout",
       "text": [
        "Thread #1: \t850000 reads finished. 260 secs passed\r\n"
       ]
      },
      {
       "output_type": "stream",
       "stream": "stdout",
       "text": [
        "Thread #3: \t900000 reads finished. 261 secs passed\r\n"
       ]
      },
      {
       "output_type": "stream",
       "stream": "stdout",
       "text": [
        "Thread #2: \t950000 reads finished. 262 secs passed\r\n"
       ]
      },
      {
       "output_type": "stream",
       "stream": "stdout",
       "text": [
        "Thread #0: \t1000000 reads finished. 262 secs passed\r\n"
       ]
      },
      {
       "output_type": "stream",
       "stream": "stdout",
       "text": [
        "Thread #1: \t1050000 reads finished. 290 secs passed\r\n"
       ]
      },
      {
       "output_type": "stream",
       "stream": "stdout",
       "text": [
        "Thread #3: \t1100000 reads finished. 291 secs passed\r\n"
       ]
      },
      {
       "output_type": "stream",
       "stream": "stdout",
       "text": [
        "Thread #2: \t1150000 reads finished. 292 secs passed\r\n"
       ]
      },
      {
       "output_type": "stream",
       "stream": "stdout",
       "text": [
        "Thread #0: \t1200000 reads finished. 293 secs passed\r\n"
       ]
      },
      {
       "output_type": "stream",
       "stream": "stdout",
       "text": [
        "Thread #1: \t1250000 reads finished. 317 secs passed\r\n"
       ]
      },
      {
       "output_type": "stream",
       "stream": "stdout",
       "text": [
        "Thread #3: \t1300000 reads finished. 319 secs passed\r\n"
       ]
      },
      {
       "output_type": "stream",
       "stream": "stdout",
       "text": [
        "Thread #2: \t1350000 reads finished. 320 secs passed\r\n"
       ]
      },
      {
       "output_type": "stream",
       "stream": "stdout",
       "text": [
        "Thread #0: \t1400000 reads finished. 320 secs passed\r\n"
       ]
      },
      {
       "output_type": "stream",
       "stream": "stdout",
       "text": [
        "Thread #1: \t1450000 reads finished. 348 secs passed\r\n"
       ]
      },
      {
       "output_type": "stream",
       "stream": "stdout",
       "text": [
        "Thread #3: \t1500000 reads finished. 349 secs passed\r\n"
       ]
      },
      {
       "output_type": "stream",
       "stream": "stdout",
       "text": [
        "Thread #2: \t1550000 reads finished. 350 secs passed\r\n"
       ]
      },
      {
       "output_type": "stream",
       "stream": "stdout",
       "text": [
        "Thread #0: \t1600000 reads finished. 350 secs passed\r\n"
       ]
      },
      {
       "output_type": "stream",
       "stream": "stdout",
       "text": [
        "Thread #1: \t1650000 reads finished. 380 secs passed\r\n"
       ]
      },
      {
       "output_type": "stream",
       "stream": "stdout",
       "text": [
        "Thread #3: \t1700000 reads finished. 382 secs passed\r\n"
       ]
      },
      {
       "output_type": "stream",
       "stream": "stdout",
       "text": [
        "Thread #2: \t1750000 reads finished. 383 secs passed\r\n"
       ]
      },
      {
       "output_type": "stream",
       "stream": "stdout",
       "text": [
        "Thread #0: \t1800000 reads finished. 384 secs passed\r\n"
       ]
      },
      {
       "output_type": "stream",
       "stream": "stdout",
       "text": [
        "Thread #1: \t1850000 reads finished. 407 secs passed\r\n"
       ]
      },
      {
       "output_type": "stream",
       "stream": "stdout",
       "text": [
        "Thread #3: \t1900000 reads finished. 408 secs passed\r\n"
       ]
      },
      {
       "output_type": "stream",
       "stream": "stdout",
       "text": [
        "Thread #0: \t2000000 reads finished. 409 secs passed\r\n"
       ]
      },
      {
       "output_type": "stream",
       "stream": "stdout",
       "text": [
        "Thread #2: \t1950000 reads finished. 409 secs passed\r\n"
       ]
      },
      {
       "output_type": "stream",
       "stream": "stdout",
       "text": [
        "Thread #2: \t2151969 reads finished. 411 secs passed\r\n"
       ]
      },
      {
       "output_type": "stream",
       "stream": "stdout",
       "text": [
        "Thread #1: \t2050000 reads finished. 431 secs passed\r\n"
       ]
      },
      {
       "output_type": "stream",
       "stream": "stdout",
       "text": [
        "Thread #3: \t2100000 reads finished. 432 secs passed\r\n"
       ]
      },
      {
       "output_type": "stream",
       "stream": "stdout",
       "text": [
        "Thread #0: \t2150000 reads finished. 432 secs passed\r\n"
       ]
      },
      {
       "output_type": "stream",
       "stream": "stdout",
       "text": [
        "Total number of aligned reads: 593117 (28%)\r\n",
        "Done.\r\n",
        "Finished at Wed Jan 22 18:23:27 2014\r\n",
        "Total time consumed:  433 secs\r\n"
       ]
      }
     ],
     "prompt_number": 2
    },
    {
     "cell_type": "code",
     "collapsed": false,
     "input": [
      "#FEB 13 redux looking at  R1 AND R2\n",
      "! /Volumes/Bay3/Software/BSMAP/bsmap-2.74/bsmap -a /Volumes/web/trilobite/Crassostrea_gigas_HTSdata/batterbox/FCC3ATL/BS_CgF_ACAGTG_L004_R1_001.fastq.gz -b /Volumes/web/trilobite/Crassostrea_gigas_HTSdata/batterbox/FCC3ATL/BS_CgF_ACAGTG_L004_R2_001.fastq.gz  -d /Volumes/web/cnidarian/oyster.v9.fa -o /Volumes/web/cnidarian/BiGo_egg_redo4.sam -p 4"
     ],
     "language": "python",
     "metadata": {},
     "outputs": [
      {
       "output_type": "stream",
       "stream": "stdout",
       "text": [
        "\r\n",
        "BSMAP v2.74\r\n",
        "Start at:  Thu Feb 13 17:26:33 2014\r\n",
        "\r\n",
        "Input reference file: /Volumes/web/cnidarian/oyster.v9.fa \t(format: FASTA)\r\n"
       ]
      },
      {
       "output_type": "stream",
       "stream": "stdout",
       "text": [
        "Load in 11969 db seqs, total size 558601156 bp. 17 secs passed\r\n",
        "total_kmers: 43046721\r\n"
       ]
      },
      {
       "output_type": "stream",
       "stream": "stdout",
       "text": [
        "Create seed table. 91 secs passed\r\n",
        "max number of mismatches: read_length * 8% \tmax gap size: 0\r\n",
        "kmer cut-off ratio: 5e-07\r\n",
        "max multi-hits: 100\tmax Ns: 5\tseed size: 16\tindex interval: 4\r\n",
        "quality cutoff: 0\tbase quality char: '!'\r\n",
        "min fragment size:28\tmax fragemt size:500\r\n",
        "start from read #1\tend at read #4294967295\r\n",
        "additional alignment: T in reads => C in reference\r\n",
        "mapping strand (read_1): ++,-+\r\n",
        "mapping strand (read_2): +-,--\r\n",
        "Pair-end alignment(4 threads)\r\n",
        "Input read file #1: /Volumes/web/trilobite/Crassostrea_gigas_HTSdata/batterbox/FCC3ATL/BS_CgF_ACAGTG_L004_R1_001.fastq.gz"
       ]
      },
      {
       "output_type": "stream",
       "stream": "stdout",
       "text": [
        " \t(format: gzipped FASTQ)\r\n",
        "Input read file #2: /Volumes/web/trilobite/Crassostrea_gigas_HTSdata/batterbox/FCC3ATL/BS_CgF_ACAGTG_L004_R2_001.fastq.gz \t(format: gzipped FASTQ)\r\n",
        "Output file: /Volumes/web/cnidarian/BiGo_egg_redo4.sam\t (format: SAM)\r\n"
       ]
      },
      {
       "output_type": "stream",
       "stream": "stdout",
       "text": [
        "Thread #3: \t50000 read pairs finished. 229 secs passed\r\n"
       ]
      },
      {
       "output_type": "stream",
       "stream": "stdout",
       "text": [
        "Thread #1: \t100000 read pairs finished. 232 secs passed\r\n"
       ]
      },
      {
       "output_type": "stream",
       "stream": "stdout",
       "text": [
        "Thread #2: \t150000 read pairs finished. 235 secs passed\r\n"
       ]
      },
      {
       "output_type": "stream",
       "stream": "stdout",
       "text": [
        "Thread #0: \t200000 read pairs finished. 239 secs passed\r\n"
       ]
      },
      {
       "output_type": "stream",
       "stream": "stdout",
       "text": [
        "Thread #3: \t250000 read pairs finished. 354 secs passed\r\n"
       ]
      },
      {
       "output_type": "stream",
       "stream": "stdout",
       "text": [
        "Thread #0: \t400000 read pairs finished. 356 secs passed\r\n"
       ]
      },
      {
       "output_type": "stream",
       "stream": "stdout",
       "text": [
        "Thread #1: \t300000 read pairs finished. 359 secs passed\r\n"
       ]
      },
      {
       "output_type": "stream",
       "stream": "stdout",
       "text": [
        "Thread #2: \t350000 read pairs finished. 364 secs passed\r\n"
       ]
      },
      {
       "output_type": "stream",
       "stream": "stdout",
       "text": [
        "Thread #3: \t450000 read pairs finished. 473 secs passed\r\n"
       ]
      },
      {
       "output_type": "stream",
       "stream": "stdout",
       "text": [
        "Thread #0: \t500000 read pairs finished. 477 secs passed\r\n"
       ]
      },
      {
       "output_type": "stream",
       "stream": "stdout",
       "text": [
        "Thread #1: \t550000 read pairs finished. 481 secs passed\r\n"
       ]
      },
      {
       "output_type": "stream",
       "stream": "stdout",
       "text": [
        "Thread #2: \t600000 read pairs finished. 489 secs passed\r\n"
       ]
      },
      {
       "output_type": "stream",
       "stream": "stdout",
       "text": [
        "Thread #1: \t750000 read pairs finished. 582 secs passed\r\n"
       ]
      },
      {
       "output_type": "stream",
       "stream": "stdout",
       "text": [
        "Thread #3: \t650000 read pairs finished. 583 secs passed\r\n"
       ]
      },
      {
       "output_type": "stream",
       "stream": "stdout",
       "text": [
        "Thread #0: \t700000 read pairs finished. 590 secs passed\r\n"
       ]
      },
      {
       "output_type": "stream",
       "stream": "stdout",
       "text": [
        "Thread #2: \t800000 read pairs finished. 590 secs passed\r\n"
       ]
      },
      {
       "output_type": "stream",
       "stream": "stdout",
       "text": [
        "Thread #1: \t850000 read pairs finished. 682 secs passed\r\n"
       ]
      },
      {
       "output_type": "stream",
       "stream": "stdout",
       "text": [
        "Thread #3: \t900000 read pairs finished. 688 secs passed\r\n"
       ]
      },
      {
       "output_type": "stream",
       "stream": "stdout",
       "text": [
        "Thread #0: \t950000 read pairs finished. 697 secs passed\r\n"
       ]
      },
      {
       "output_type": "stream",
       "stream": "stdout",
       "text": [
        "Thread #2: \t1000000 read pairs finished. 700 secs passed\r\n"
       ]
      },
      {
       "output_type": "stream",
       "stream": "stdout",
       "text": [
        "Thread #3: \t1100000 read pairs finished. 791 secs passed\r\n"
       ]
      },
      {
       "output_type": "stream",
       "stream": "stdout",
       "text": [
        "Thread #1: \t1050000 read pairs finished. 795 secs passed\r\n"
       ]
      },
      {
       "output_type": "stream",
       "stream": "stdout",
       "text": [
        "Thread #0: \t1150000 read pairs finished. 795 secs passed\r\n"
       ]
      },
      {
       "output_type": "stream",
       "stream": "stdout",
       "text": [
        "Thread #2: \t1200000 read pairs finished. 801 secs passed\r\n"
       ]
      },
      {
       "output_type": "stream",
       "stream": "stdout",
       "text": [
        "Thread #3: \t1250000 read pairs finished. 896 secs passed\r\n"
       ]
      },
      {
       "output_type": "stream",
       "stream": "stdout",
       "text": [
        "Thread #1: \t1300000 read pairs finished. 903 secs passed\r\n"
       ]
      },
      {
       "output_type": "stream",
       "stream": "stdout",
       "text": [
        "Thread #0: \t1350000 read pairs finished. 907 secs passed\r\n"
       ]
      },
      {
       "output_type": "stream",
       "stream": "stdout",
       "text": [
        "Thread #2: \t1400000 read pairs finished. 914 secs passed\r\n"
       ]
      },
      {
       "output_type": "stream",
       "stream": "stdout",
       "text": [
        "Thread #1: \t1500000 read pairs finished. 1004 secs passed\r\n"
       ]
      },
      {
       "output_type": "stream",
       "stream": "stdout",
       "text": [
        "Thread #3: \t1450000 read pairs finished. 1007 secs passed\r\n"
       ]
      },
      {
       "output_type": "stream",
       "stream": "stdout",
       "text": [
        "Thread #0: \t1550000 read pairs finished. 1008 secs passed\r\n"
       ]
      },
      {
       "output_type": "stream",
       "stream": "stdout",
       "text": [
        "Thread #2: \t1600000 read pairs finished. 1018 secs passed\r\n"
       ]
      },
      {
       "output_type": "stream",
       "stream": "stdout",
       "text": [
        "Thread #1: \t1650000 read pairs finished. 1109 secs passed\r\n"
       ]
      },
      {
       "output_type": "stream",
       "stream": "stdout",
       "text": [
        "Thread #3: \t1700000 read pairs finished. 1114 secs passed\r\n"
       ]
      },
      {
       "output_type": "stream",
       "stream": "stdout",
       "text": [
        "Thread #0: \t1750000 read pairs finished. 1117 secs passed\r\n"
       ]
      },
      {
       "output_type": "stream",
       "stream": "stdout",
       "text": [
        "Thread #2: \t1800000 read pairs finished. 1126 secs passed\r\n"
       ]
      },
      {
       "output_type": "stream",
       "stream": "stdout",
       "text": [
        "Thread #1: \t1850000 read pairs finished. 1205 secs passed\r\n"
       ]
      },
      {
       "output_type": "stream",
       "stream": "stdout",
       "text": [
        "Thread #3: \t1900000 read pairs finished. 1210 secs passed\r\n"
       ]
      },
      {
       "output_type": "stream",
       "stream": "stdout",
       "text": [
        "Thread #0: \t1950000 read pairs finished. 1215 secs passed\r\n"
       ]
      },
      {
       "output_type": "stream",
       "stream": "stdout",
       "text": [
        "Thread #2: \t2000000 read pairs finished. 1228 secs passed\r\n"
       ]
      },
      {
       "output_type": "stream",
       "stream": "stdout",
       "text": [
        "Thread #2: \t2151969 read pairs finished. 1232 secs passed\r\n"
       ]
      },
      {
       "output_type": "stream",
       "stream": "stdout",
       "text": [
        "Thread #1: \t2050000 read pairs finished. 1280 secs passed\r\n"
       ]
      },
      {
       "output_type": "stream",
       "stream": "stdout",
       "text": [
        "Thread #3: \t2100000 read pairs finished. 1283 secs passed\r\n"
       ]
      },
      {
       "output_type": "stream",
       "stream": "stdout",
       "text": [
        "Thread #0: \t2150000 read pairs finished. 1285 secs passed\r\n"
       ]
      },
      {
       "output_type": "stream",
       "stream": "stdout",
       "text": [
        "Total number of aligned reads: \r\n",
        "pairs:       455489 (21%)\r\n",
        "single a:    189879 (8.8%)\r\n",
        "single b:    483377 (22%)\r\n",
        "Done.\r\n",
        "Finished at Thu Feb 13 17:47:59 2014\r\n",
        "Total time consumed:  1286 secs\r\n"
       ]
      }
     ],
     "prompt_number": 2
    },
    {
     "cell_type": "code",
     "collapsed": false,
     "input": [
      "#FEB 13 redux looking at filtered R1\n",
      "! /Volumes/Bay3/Software/BSMAP/bsmap-2.74/bsmap -a /Volumes/web/trilobite/Crassostrea_gigas_HTSdata/batterbox/FCC3ATL/filtered_BS_CgF_ACAGTG_L004_R1.fastq.gz -d /Volumes/web/cnidarian/oyster.v9.fa -o /Volumes/web/cnidarian/BiGo_egg_redo3.sam -p 4"
     ],
     "language": "python",
     "metadata": {},
     "outputs": [
      {
       "output_type": "stream",
       "stream": "stdout",
       "text": [
        "\r\n",
        "BSMAP v2.74\r\n",
        "Start at:  Thu Feb 13 17:20:34 2014\r\n",
        "\r\n",
        "Input reference file: /Volumes/web/cnidarian/oyster.v9.fa"
       ]
      },
      {
       "output_type": "stream",
       "stream": "stdout",
       "text": [
        " \t(format: FASTA)\r\n"
       ]
      },
      {
       "output_type": "stream",
       "stream": "stdout",
       "text": [
        "Load in 11969 db seqs, total size 558601156 bp. 30 secs passed\r\n",
        "total_kmers: 43046721\r\n"
       ]
      },
      {
       "output_type": "stream",
       "stream": "stdout",
       "text": [
        "Create seed table. 120 secs passed\r\n",
        "max number of mismatches: read_length * 8% \tmax gap size: 0\r\n",
        "kmer cut-off ratio: 5e-07\r\n",
        "max multi-hits: 100\tmax Ns: 5\tseed size: 16\tindex interval: 4\r\n",
        "quality cutoff: 0\tbase quality char: '!'\r\n",
        "min fragment size:28\tmax fragemt size:500\r\n",
        "start from read #1\tend at read #4294967295\r\n",
        "additional alignment: T in reads => C in reference\r\n",
        "mapping strand: ++,-+\r\n",
        "Single-end alignment(4 threads)\r\n",
        "Input read file: /Volumes/web/trilobite/Crassostrea_gigas_HTSdata/batterbox/FCC3ATL/filtered_BS_CgF_ACAGTG_L004_R1.fastq.gz \t(format: gzipped FASTQ)\r\n",
        "Output file: /Volumes/web/cnidarian/BiGo_egg_redo3.sam\t (format: SAM)\r\n"
       ]
      },
      {
       "output_type": "stream",
       "stream": "stdout",
       "text": [
        "Thread #1: \t50000 reads finished. 145 secs passed\r\n"
       ]
      },
      {
       "output_type": "stream",
       "stream": "stdout",
       "text": [
        "Thread #0: \t100000 reads finished. 145 secs passed\r\n"
       ]
      },
      {
       "output_type": "stream",
       "stream": "stdout",
       "text": [
        "Thread #3: \t150000 reads finished. 147 secs passed\r\n"
       ]
      },
      {
       "output_type": "stream",
       "stream": "stdout",
       "text": [
        "Thread #2: \t200000 reads finished. 147 secs passed\r\n"
       ]
      },
      {
       "output_type": "stream",
       "stream": "stdout",
       "text": [
        "Thread #1: \t250000 reads finished. 169 secs passed\r\n"
       ]
      },
      {
       "output_type": "stream",
       "stream": "stdout",
       "text": [
        "Thread #0: \t300000 reads finished. 169 secs passed\r\n"
       ]
      },
      {
       "output_type": "stream",
       "stream": "stdout",
       "text": [
        "Thread #3: \t350000 reads finished. 170 secs passed\r\n"
       ]
      },
      {
       "output_type": "stream",
       "stream": "stdout",
       "text": [
        "Thread #2: \t400000 reads finished. 171 secs passed\r\n"
       ]
      },
      {
       "output_type": "stream",
       "stream": "stdout",
       "text": [
        "Thread #1: \t450000 reads finished. 191 secs passed\r\n"
       ]
      },
      {
       "output_type": "stream",
       "stream": "stdout",
       "text": [
        "Thread #0: \t500000 reads finished. 191 secs passed\r\n"
       ]
      },
      {
       "output_type": "stream",
       "stream": "stdout",
       "text": [
        "Thread #3: \t550000 reads finished. 192 secs passed\r\n"
       ]
      },
      {
       "output_type": "stream",
       "stream": "stdout",
       "text": [
        "Thread #2: \t600000 reads finished. 193 secs passed\r\n"
       ]
      },
      {
       "output_type": "stream",
       "stream": "stdout",
       "text": [
        "Thread #1: \t650000 reads finished. 215 secs passed\r\n"
       ]
      },
      {
       "output_type": "stream",
       "stream": "stdout",
       "text": [
        "Thread #0: \t700000 reads finished. 215 secs passed\r\n"
       ]
      },
      {
       "output_type": "stream",
       "stream": "stdout",
       "text": [
        "Thread #"
       ]
      },
      {
       "output_type": "stream",
       "stream": "stdout",
       "text": [
        "3: \t750000 reads finished. 216 secs passed\r\n"
       ]
      },
      {
       "output_type": "stream",
       "stream": "stdout",
       "text": [
        "Thread #2: \t800000 reads finished. 217 secs passed\r\n"
       ]
      },
      {
       "output_type": "stream",
       "stream": "stdout",
       "text": [
        "Thread #1: \t850000 reads finished. 240 secs passed\r\n"
       ]
      },
      {
       "output_type": "stream",
       "stream": "stdout",
       "text": [
        "Thread #0: \t900000 reads finished. 241 secs passed\r\n"
       ]
      },
      {
       "output_type": "stream",
       "stream": "stdout",
       "text": [
        "Thread #3: \t950000 reads finished. 242 secs passed\r\n"
       ]
      },
      {
       "output_type": "stream",
       "stream": "stdout",
       "text": [
        "Thread #2: \t1000000 reads finished. 243 secs passed\r\n"
       ]
      },
      {
       "output_type": "stream",
       "stream": "stdout",
       "text": [
        "Thread #1: \t1050000 reads finished. 267 secs passed\r\n"
       ]
      },
      {
       "output_type": "stream",
       "stream": "stdout",
       "text": [
        "Thread #0: \t1100000 reads finished. 267 secs passed\r\n"
       ]
      },
      {
       "output_type": "stream",
       "stream": "stdout",
       "text": [
        "Thread #3: \t1150000 reads finished. 269 secs passed\r\n"
       ]
      },
      {
       "output_type": "stream",
       "stream": "stdout",
       "text": [
        "Thread #2: \t1200000 reads finished. 270 secs passed\r\n"
       ]
      },
      {
       "output_type": "stream",
       "stream": "stdout",
       "text": [
        "Thread #1: \t1250000 reads finished. 296 secs passed\r\n"
       ]
      },
      {
       "output_type": "stream",
       "stream": "stdout",
       "text": [
        "Thread #0: \t1300000 reads finished. 298 secs passed\r\n"
       ]
      },
      {
       "output_type": "stream",
       "stream": "stdout",
       "text": [
        "Thread #"
       ]
      },
      {
       "output_type": "stream",
       "stream": "stdout",
       "text": [
        "3: \t1350000 reads finished. 300 secs passed\r\n"
       ]
      },
      {
       "output_type": "stream",
       "stream": "stdout",
       "text": [
        "Thread #2: \t1400000 reads finished. 302 secs passed\r\n"
       ]
      },
      {
       "output_type": "stream",
       "stream": "stdout",
       "text": [
        "Thread #1: \t1450000 reads finished. 326 secs passed\r\n"
       ]
      },
      {
       "output_type": "stream",
       "stream": "stdout",
       "text": [
        "Thread #0: \t1500000 reads finished. 327 secs passed\r\n"
       ]
      },
      {
       "output_type": "stream",
       "stream": "stdout",
       "text": [
        "Thread #3: \t1550000 reads finished. 329 secs passed\r\n"
       ]
      },
      {
       "output_type": "stream",
       "stream": "stdout",
       "text": [
        "Thread #2: \t1600000 reads finished. 330 secs passed\r\n"
       ]
      },
      {
       "output_type": "stream",
       "stream": "stdout",
       "text": [
        "Thread #2: \t1786493 reads finished. 353 secs passed\r\n"
       ]
      },
      {
       "output_type": "stream",
       "stream": "stdout",
       "text": [
        "Thread #1: \t1650000 reads finished. 356 secs passed\r\n"
       ]
      },
      {
       "output_type": "stream",
       "stream": "stdout",
       "text": [
        "Thread #0: \t1700000 reads finished. 356 secs passed\r\n"
       ]
      },
      {
       "output_type": "stream",
       "stream": "stdout",
       "text": [
        "Thread #3: \t1750000 reads finished. 358 secs passed\r\n"
       ]
      },
      {
       "output_type": "stream",
       "stream": "stdout",
       "text": [
        "Total number of aligned reads: 573217 (32%)\r\n",
        "Done.\r\n",
        "Finished at Thu Feb 13 17:26:32 2014\r\n",
        "Total time consumed:  358 secs\r\n"
       ]
      }
     ],
     "prompt_number": 1
    },
    {
     "cell_type": "code",
     "collapsed": false,
     "input": [
      "from IPython.display import Image\n",
      "Image(url= 'http://eagle.fish.washington.edu/cnidarian/skitch/BiGo_larvae_1892C389.png')"
     ],
     "language": "python",
     "metadata": {},
     "outputs": [
      {
       "html": [
        "<img src=\"http://eagle.fish.washington.edu/cnidarian/skitch/BiGo_larvae_1892C389.png\"/>"
       ],
       "metadata": {},
       "output_type": "pyout",
       "prompt_number": 15,
       "text": [
        "<IPython.core.display.Image at 0x102172e50>"
       ]
      }
     ],
     "prompt_number": 15
    },
    {
     "cell_type": "markdown",
     "metadata": {},
     "source": [
      "Coverage is different but other samples were paired and longer?"
     ]
    },
    {
     "cell_type": "code",
     "collapsed": false,
     "input": [
      "#Lets run good sperm sample with only one end...\n",
      "#M3\n",
      "! /Volumes/Bay3/Software/BSMAP/bsmap-2.74/bsmap -a /Volumes/NGS\\ Drive/NGS\\ Raw\\ Data/Cg_larvae_BSseq/filtered_BS_CgM3_GATCAG_L007_R1.fastq.gz -d /Volumes/web/cnidarian/oyster.v9.fa -o /Volumes/web/cnidarian/BiGo_lar_M3_1side.sam -p 3"
     ],
     "language": "python",
     "metadata": {},
     "outputs": [
      {
       "output_type": "stream",
       "stream": "stdout",
       "text": [
        "\r\n",
        "BSMAP v2.74\r\n",
        "Start at:  Fri Jan 24 07:54:19 2014\r\n",
        "\r\n",
        "Input reference file: /Volumes/web/cnidarian/oyster.v9.fa"
       ]
      },
      {
       "output_type": "stream",
       "stream": "stdout",
       "text": [
        " \t(format: FASTA)\r\n"
       ]
      },
      {
       "output_type": "stream",
       "stream": "stdout",
       "text": [
        "Load in 11969 db seqs, total size 558601156 bp. 19 secs passed\r\n",
        "total_kmers: 43046721\r\n"
       ]
      },
      {
       "output_type": "stream",
       "stream": "stdout",
       "text": [
        "Create seed table. 76 secs passed\r\n",
        "max number of mismatches: read_length * 8% \tmax gap size: 0\r\n",
        "kmer cut-off ratio: 5e-07\r\n",
        "max multi-hits: 100\tmax Ns: 5\tseed size: 16\tindex interval: 4\r\n",
        "quality cutoff: 0\tbase quality char: '!'\r\n",
        "min fragment size:28\tmax fragemt size:500\r\n",
        "start from read #1\tend at read #4294967295\r\n",
        "additional alignment: T in reads => C in reference\r\n",
        "mapping strand: ++,-+\r\n",
        "Single-end alignment(3 threads)\r\n",
        "Input read file: /Volumes/NGS Drive/NGS Raw Data/Cg_larvae_BSseq/filtered_BS_CgM3_GATCAG_L007_R1.fastq.gz"
       ]
      },
      {
       "output_type": "stream",
       "stream": "stdout",
       "text": [
        " \t(format: gzipped FASTQ)\r\n",
        "Output file: /Volumes/web/cnidarian/BiGo_lar_M3_1side.sam\t (format: SAM)\r\n"
       ]
      },
      {
       "output_type": "stream",
       "stream": "stdout",
       "text": [
        "Thread #0: \t50000 reads finished. 102 secs passed\r\n"
       ]
      },
      {
       "output_type": "stream",
       "stream": "stdout",
       "text": [
        "Thread #2: \t100000 reads finished. 103 secs passed\r\n"
       ]
      },
      {
       "output_type": "stream",
       "stream": "stdout",
       "text": [
        "Thread #1: \t150000 reads finished. 103 secs passed\r\n"
       ]
      },
      {
       "output_type": "stream",
       "stream": "stdout",
       "text": [
        "Thread #0: \t200000 reads finished. 128 secs passed\r\n"
       ]
      },
      {
       "output_type": "stream",
       "stream": "stdout",
       "text": [
        "Thread #2: \t250000 reads finished. 129 secs passed\r\n"
       ]
      },
      {
       "output_type": "stream",
       "stream": "stdout",
       "text": [
        "Thread #1: \t300000 reads finished. 129 secs passed\r\n"
       ]
      },
      {
       "output_type": "stream",
       "stream": "stdout",
       "text": [
        "Thread #0: \t350000 reads finished. 149 secs passed\r\n"
       ]
      },
      {
       "output_type": "stream",
       "stream": "stdout",
       "text": [
        "Thread #2: \t400000 reads finished. 150 secs passed\r\n"
       ]
      },
      {
       "output_type": "stream",
       "stream": "stdout",
       "text": [
        "Thread #1: \t450000 reads finished. 151 secs passed\r\n"
       ]
      },
      {
       "output_type": "stream",
       "stream": "stdout",
       "text": [
        "Thread #0: \t500000 reads finished. 172 secs passed\r\n"
       ]
      },
      {
       "output_type": "stream",
       "stream": "stdout",
       "text": [
        "Thread #2: \t550000 reads finished. 173 secs passed\r\n"
       ]
      },
      {
       "output_type": "stream",
       "stream": "stdout",
       "text": [
        "Thread #1: \t600000 reads finished. 173 secs passed\r\n"
       ]
      },
      {
       "output_type": "stream",
       "stream": "stdout",
       "text": [
        "Thread #0: \t650000 reads finished. 194 secs passed\r\n"
       ]
      },
      {
       "output_type": "stream",
       "stream": "stdout",
       "text": [
        "Thread #2: \t700000 reads finished. 196 secs passed\r\n"
       ]
      },
      {
       "output_type": "stream",
       "stream": "stdout",
       "text": [
        "Thread #1: \t750000 reads finished. 197 secs passed\r\n"
       ]
      },
      {
       "output_type": "stream",
       "stream": "stdout",
       "text": [
        "Thread #0: \t800000 reads finished. 224 secs passed\r\n"
       ]
      },
      {
       "output_type": "stream",
       "stream": "stdout",
       "text": [
        "Thread #2: \t850000 reads finished. 226 secs passed\r\n"
       ]
      },
      {
       "output_type": "stream",
       "stream": "stdout",
       "text": [
        "Thread #1: \t900000 reads finished. 227 secs passed\r\n"
       ]
      },
      {
       "output_type": "stream",
       "stream": "stdout",
       "text": [
        "Thread #0: \t950000 reads finished. 261 secs passed\r\n"
       ]
      },
      {
       "output_type": "stream",
       "stream": "stdout",
       "text": [
        "Thread #2: \t1000000 reads finished. 264 secs passed\r\n"
       ]
      },
      {
       "output_type": "stream",
       "stream": "stdout",
       "text": [
        "Thread #1: \t1050000 reads finished. 265 secs passed\r\n"
       ]
      },
      {
       "output_type": "stream",
       "stream": "stdout",
       "text": [
        "Thread #0: \t1100000 reads finished. 288 secs passed\r\n"
       ]
      },
      {
       "output_type": "stream",
       "stream": "stdout",
       "text": [
        "Thread #2: \t1150000 reads finished. 290 secs passed\r\n"
       ]
      },
      {
       "output_type": "stream",
       "stream": "stdout",
       "text": [
        "Thread #1: \t1200000 reads finished. 291 secs passed\r\n"
       ]
      },
      {
       "output_type": "stream",
       "stream": "stdout",
       "text": [
        "Thread #0: \t1250000 reads finished. 309 secs passed\r\n"
       ]
      },
      {
       "output_type": "stream",
       "stream": "stdout",
       "text": [
        "Thread #2: \t1300000 reads finished. 311 secs passed\r\n"
       ]
      },
      {
       "output_type": "stream",
       "stream": "stdout",
       "text": [
        "Thread #1: \t1350000 reads finished. 312 secs passed\r\n"
       ]
      },
      {
       "output_type": "stream",
       "stream": "stdout",
       "text": [
        "Thread #0: \t1400000 reads finished. 329 secs passed\r\n"
       ]
      },
      {
       "output_type": "stream",
       "stream": "stdout",
       "text": [
        "Thread #2: \t1450000 reads finished. 330 secs passed\r\n"
       ]
      },
      {
       "output_type": "stream",
       "stream": "stdout",
       "text": [
        "Thread #1: \t1500000 reads finished. 330 secs passed\r\n"
       ]
      },
      {
       "output_type": "stream",
       "stream": "stdout",
       "text": [
        "Thread #0: \t1550000 reads finished. 349 secs passed\r\n"
       ]
      },
      {
       "output_type": "stream",
       "stream": "stdout",
       "text": [
        "Thread #2: \t1600000 reads finished. 349 secs passed\r\n"
       ]
      },
      {
       "output_type": "stream",
       "stream": "stdout",
       "text": [
        "Thread #1: \t1650000 reads finished. 350 secs passed\r\n"
       ]
      },
      {
       "output_type": "stream",
       "stream": "stdout",
       "text": [
        "Thread #0: \t1700000 reads finished. 375 secs passed\r\n"
       ]
      },
      {
       "output_type": "stream",
       "stream": "stdout",
       "text": [
        "Thread #2: \t1750000 reads finished. 376 secs passed\r\n"
       ]
      },
      {
       "output_type": "stream",
       "stream": "stdout",
       "text": [
        "Thread #1: \t1800000 reads finished. 377 secs passed\r\n"
       ]
      },
      {
       "output_type": "stream",
       "stream": "stdout",
       "text": [
        "Thread #0: \t1850000 reads finished. 403 secs passed\r\n"
       ]
      },
      {
       "output_type": "stream",
       "stream": "stdout",
       "text": [
        "Thread #1: \t1950000 reads finished. 405 secs passed\r\n"
       ]
      },
      {
       "output_type": "stream",
       "stream": "stdout",
       "text": [
        "Thread #2: \t1900000 reads finished. 405 secs passed\r\n"
       ]
      },
      {
       "output_type": "stream",
       "stream": "stdout",
       "text": [
        "Thread #0: \t2000000 reads finished. 429 secs passed\r\n"
       ]
      },
      {
       "output_type": "stream",
       "stream": "stdout",
       "text": [
        "Thread #1: \t2050000 reads finished. 430 secs passed\r\n"
       ]
      },
      {
       "output_type": "stream",
       "stream": "stdout",
       "text": [
        "Thread #2: \t2100000 reads finished. 430 secs passed\r\n"
       ]
      },
      {
       "output_type": "stream",
       "stream": "stdout",
       "text": [
        "Thread #0: \t2150000 reads finished. 448 secs passed\r\n"
       ]
      },
      {
       "output_type": "stream",
       "stream": "stdout",
       "text": [
        "Thread #1: \t2200000 reads finished. 449 secs passed\r\n"
       ]
      },
      {
       "output_type": "stream",
       "stream": "stdout",
       "text": [
        "Thread #2: \t2250000 reads finished. 450 secs passed\r\n"
       ]
      },
      {
       "output_type": "stream",
       "stream": "stdout",
       "text": [
        "Thread #0: \t2300000 reads finished. 470 secs passed\r\n"
       ]
      },
      {
       "output_type": "stream",
       "stream": "stdout",
       "text": [
        "Thread #1: \t2350000 reads finished. 470 secs passed\r\n"
       ]
      },
      {
       "output_type": "stream",
       "stream": "stdout",
       "text": [
        "Thread #2: \t2400000 reads finished. 471 secs passed\r\n"
       ]
      },
      {
       "output_type": "stream",
       "stream": "stdout",
       "text": [
        "Thread #0: \t2450000 reads finished. 495 secs passed\r\n"
       ]
      },
      {
       "output_type": "stream",
       "stream": "stdout",
       "text": [
        "Thread #1: \t2500000 reads finished. 496 secs passed\r\n"
       ]
      },
      {
       "output_type": "stream",
       "stream": "stdout",
       "text": [
        "Thread #2: \t2550000 reads finished. 497 secs passed\r\n"
       ]
      },
      {
       "output_type": "stream",
       "stream": "stdout",
       "text": [
        "Thread #0: \t2600000 reads finished. 522 secs passed\r\n"
       ]
      },
      {
       "output_type": "stream",
       "stream": "stdout",
       "text": [
        "Thread #1: \t2650000 reads finished. 524 secs passed\r\n"
       ]
      },
      {
       "output_type": "stream",
       "stream": "stdout",
       "text": [
        "Thread #2: \t2700000 reads finished. 524 secs passed\r\n"
       ]
      },
      {
       "output_type": "stream",
       "stream": "stdout",
       "text": [
        "Thread #0: \t2750000 reads finished. 549 secs passed\r\n"
       ]
      },
      {
       "output_type": "stream",
       "stream": "stdout",
       "text": [
        "Thread #1: \t2800000 reads finished. 551 secs passed\r\n"
       ]
      },
      {
       "output_type": "stream",
       "stream": "stdout",
       "text": [
        "Thread #2: \t2850000 reads finished. 552 secs passed\r\n"
       ]
      },
      {
       "output_type": "stream",
       "stream": "stdout",
       "text": [
        "Thread #0: \t2900000 reads finished. 572 secs passed\r\n"
       ]
      },
      {
       "output_type": "stream",
       "stream": "stdout",
       "text": [
        "Thread #1: \t2950000 reads finished. 573 secs passed\r\n"
       ]
      },
      {
       "output_type": "stream",
       "stream": "stdout",
       "text": [
        "Thread #2: \t3000000 reads finished. 574 secs passed\r\n"
       ]
      },
      {
       "output_type": "stream",
       "stream": "stdout",
       "text": [
        "Thread #0: \t3050000 reads finished. 589 secs passed\r\n"
       ]
      },
      {
       "output_type": "stream",
       "stream": "stdout",
       "text": [
        "Thread #1: \t3100000 reads finished. 591 secs passed\r\n"
       ]
      },
      {
       "output_type": "stream",
       "stream": "stdout",
       "text": [
        "Thread #2: \t3150000 reads finished. 592 secs passed\r\n"
       ]
      },
      {
       "output_type": "stream",
       "stream": "stdout",
       "text": [
        "Thread #0: \t3200000 reads finished. 609 secs passed\r\n"
       ]
      },
      {
       "output_type": "stream",
       "stream": "stdout",
       "text": [
        "Thread #1: \t3250000 reads finished. 612 secs passed\r\n"
       ]
      },
      {
       "output_type": "stream",
       "stream": "stdout",
       "text": [
        "Thread #2: \t3300000 reads finished. 614 secs passed\r\n"
       ]
      },
      {
       "output_type": "stream",
       "stream": "stdout",
       "text": [
        "Thread #0: \t3350000 reads finished. 635 secs passed\r\n"
       ]
      },
      {
       "output_type": "stream",
       "stream": "stdout",
       "text": [
        "Thread #1: \t3400000 reads finished. 638 secs passed\r\n"
       ]
      },
      {
       "output_type": "stream",
       "stream": "stdout",
       "text": [
        "Thread #2: \t3450000 reads finished. 639 secs passed\r\n"
       ]
      },
      {
       "output_type": "stream",
       "stream": "stdout",
       "text": [
        "Thread #0: \t3500000 reads finished. 661 secs passed\r\n"
       ]
      },
      {
       "output_type": "stream",
       "stream": "stdout",
       "text": [
        "Thread #1: \t3550000 reads finished. 663 secs passed\r\n"
       ]
      },
      {
       "output_type": "stream",
       "stream": "stdout",
       "text": [
        "Thread #2: \t3600000 reads finished. 664 secs passed\r\n"
       ]
      },
      {
       "output_type": "stream",
       "stream": "stdout",
       "text": [
        "Thread #0: \t3650000 reads finished. 681 secs passed\r\n"
       ]
      },
      {
       "output_type": "stream",
       "stream": "stdout",
       "text": [
        "Thread #1: \t3700000 reads finished. 684 secs passed\r\n"
       ]
      },
      {
       "output_type": "stream",
       "stream": "stdout",
       "text": [
        "Thread #2: \t3750000 reads finished. 685 secs passed\r\n"
       ]
      },
      {
       "output_type": "stream",
       "stream": "stdout",
       "text": [
        "Thread #0: \t3800000 reads finished. 701 secs passed\r\n"
       ]
      },
      {
       "output_type": "stream",
       "stream": "stdout",
       "text": [
        "Thread #1: \t3850000 reads finished. 704 secs passed\r\n"
       ]
      },
      {
       "output_type": "stream",
       "stream": "stdout",
       "text": [
        "Thread #2: \t3900000 reads finished. 705 secs passed\r\n"
       ]
      },
      {
       "output_type": "stream",
       "stream": "stdout",
       "text": [
        "Thread #0: \t3950000 reads finished. 722 secs passed\r\n"
       ]
      },
      {
       "output_type": "stream",
       "stream": "stdout",
       "text": [
        "Thread #1: \t4000000 reads finished. 724 secs passed\r\n"
       ]
      },
      {
       "output_type": "stream",
       "stream": "stdout",
       "text": [
        "Thread #2: \t4050000 reads finished. 725 secs passed\r\n"
       ]
      },
      {
       "output_type": "stream",
       "stream": "stdout",
       "text": [
        "Thread #0: \t4100000 reads finished. 743 secs passed\r\n"
       ]
      },
      {
       "output_type": "stream",
       "stream": "stdout",
       "text": [
        "Thread #1: \t4150000 reads finished. 746 secs passed\r\n"
       ]
      },
      {
       "output_type": "stream",
       "stream": "stdout",
       "text": [
        "Thread #2: \t4200000 reads finished. 747 secs passed\r\n"
       ]
      },
      {
       "output_type": "stream",
       "stream": "stdout",
       "text": [
        "Thread #0: \t4250000 reads finished. 765 secs passed\r\n"
       ]
      },
      {
       "output_type": "stream",
       "stream": "stdout",
       "text": [
        "Thread #1: \t4300000 reads finished. 768 secs passed\r\n"
       ]
      },
      {
       "output_type": "stream",
       "stream": "stdout",
       "text": [
        "Thread #2: \t4350000 reads finished. 769 secs passed\r\n"
       ]
      },
      {
       "output_type": "stream",
       "stream": "stdout",
       "text": [
        "Thread #0: \t4400000 reads finished. 785 secs passed\r\n"
       ]
      },
      {
       "output_type": "stream",
       "stream": "stdout",
       "text": [
        "Thread #1: \t4450000 reads finished. 788 secs passed\r\n"
       ]
      },
      {
       "output_type": "stream",
       "stream": "stdout",
       "text": [
        "Thread #2: \t4500000 reads finished. 789 secs passed\r\n"
       ]
      },
      {
       "output_type": "stream",
       "stream": "stdout",
       "text": [
        "Thread #0: \t4550000 reads finished. 805 secs passed\r\n"
       ]
      },
      {
       "output_type": "stream",
       "stream": "stdout",
       "text": [
        "Thread #1: \t4600000 reads finished. 808 secs passed\r\n"
       ]
      },
      {
       "output_type": "stream",
       "stream": "stdout",
       "text": [
        "Thread #2: \t4650000 reads finished. 810 secs passed\r\n"
       ]
      },
      {
       "output_type": "stream",
       "stream": "stdout",
       "text": [
        "Thread #0: \t4700000 reads finished. 825 secs passed\r\n"
       ]
      },
      {
       "output_type": "stream",
       "stream": "stdout",
       "text": [
        "Thread #1: \t4750000 reads finished. 830 secs passed\r\n"
       ]
      },
      {
       "output_type": "stream",
       "stream": "stdout",
       "text": [
        "Thread #2: \t4800000 reads finished. 832 secs passed\r\n"
       ]
      },
      {
       "output_type": "stream",
       "stream": "stdout",
       "text": [
        "Thread #0: \t4850000 reads finished. 847 secs passed\r\n"
       ]
      },
      {
       "output_type": "stream",
       "stream": "stdout",
       "text": [
        "Thread #1: \t4900000 reads finished. 852 secs passed\r\n"
       ]
      },
      {
       "output_type": "stream",
       "stream": "stdout",
       "text": [
        "Thread #2: \t4950000 reads finished. 853 secs passed\r\n"
       ]
      },
      {
       "output_type": "stream",
       "stream": "stdout",
       "text": [
        "Thread #0: \t5000000 reads finished. 869 secs passed\r\n"
       ]
      },
      {
       "output_type": "stream",
       "stream": "stdout",
       "text": [
        "Thread #1: \t5050000 reads finished. 874 secs passed\r\n"
       ]
      },
      {
       "output_type": "stream",
       "stream": "stdout",
       "text": [
        "Thread #2: \t5100000 reads finished. 875 secs passed\r\n"
       ]
      },
      {
       "output_type": "stream",
       "stream": "stdout",
       "text": [
        "Thread #0: \t5150000 reads finished. 888 secs passed\r\n"
       ]
      },
      {
       "output_type": "stream",
       "stream": "stdout",
       "text": [
        "Thread #1: \t5200000 reads finished. 894 secs passed\r\n"
       ]
      },
      {
       "output_type": "stream",
       "stream": "stdout",
       "text": [
        "Thread #2: \t5250000 reads finished. 895 secs passed\r\n"
       ]
      },
      {
       "output_type": "stream",
       "stream": "stdout",
       "text": [
        "Thread #0: \t5300000 reads finished. 909 secs passed\r\n"
       ]
      },
      {
       "output_type": "stream",
       "stream": "stdout",
       "text": [
        "Thread #1: \t5350000 reads finished. 914 secs passed\r\n"
       ]
      },
      {
       "output_type": "stream",
       "stream": "stdout",
       "text": [
        "Thread #2: \t5400000 reads finished. 915 secs passed\r\n"
       ]
      },
      {
       "output_type": "stream",
       "stream": "stdout",
       "text": [
        "Thread #2: \t5526741 reads finished. 926 secs passed\r\n"
       ]
      },
      {
       "output_type": "stream",
       "stream": "stdout",
       "text": [
        "Thread #0: \t5450000 reads finished. 929 secs passed\r\n"
       ]
      },
      {
       "output_type": "stream",
       "stream": "stdout",
       "text": [
        "Thread #1: \t5500000 reads finished. 933 secs passed\r\n"
       ]
      },
      {
       "output_type": "stream",
       "stream": "stdout",
       "text": [
        "Total number of aligned reads: 3707307 (67%)\r\n",
        "Done.\r\n",
        "Finished at Fri Jan 24 08:09:52 2014\r\n",
        "Total time consumed:  933 secs\r\n"
       ]
      }
     ],
     "prompt_number": 16
    },
    {
     "cell_type": "raw",
     "metadata": {},
     "source": [
      "Total number of aligned reads: 3707307 (67%)\n",
      "Done.\n",
      "Finished at Fri Jan 24 08:09:52 2014\n",
      "Total time consumed:  933 secs"
     ]
    },
    {
     "cell_type": "heading",
     "level": 1,
     "metadata": {},
     "source": [
      "Going Forward with Sperm and Larvae - Combining "
     ]
    },
    {
     "cell_type": "code",
     "collapsed": false,
     "input": [
      "#stop\n",
      "#issue with files\n",
      "from IPython.display import Image\n",
      "Image(url= 'http://eagle.fish.washington.edu/cnidarian/skitch/trilobite_and_BiGo_Larvae_and_Mackenzie_Gavery_1892E4D6.png')"
     ],
     "language": "python",
     "metadata": {},
     "outputs": [
      {
       "html": [
        "<img src=\"http://eagle.fish.washington.edu/cnidarian/skitch/trilobite_and_BiGo_Larvae_and_Mackenzie_Gavery_1892E4D6.png\"/>"
       ],
       "metadata": {},
       "output_type": "pyout",
       "prompt_number": 5,
       "text": [
        "<IPython.core.display.Image at 0x10589af10>"
       ]
      }
     ],
     "prompt_number": 5
    },
    {
     "cell_type": "code",
     "collapsed": false,
     "input": [
      "Only 1 filtered fasta"
     ],
     "language": "python",
     "metadata": {},
     "outputs": []
    },
    {
     "cell_type": "heading",
     "level": 2,
     "metadata": {},
     "source": [
      "September Run"
     ]
    },
    {
     "cell_type": "raw",
     "metadata": {},
     "source": [
      "Code from core - FCD2CA8"
     ]
    },
    {
     "cell_type": "code",
     "collapsed": false,
     "input": [
      "Lets QC in IPlant DE"
     ],
     "language": "python",
     "metadata": {},
     "outputs": []
    },
    {
     "cell_type": "code",
     "collapsed": false,
     "input": [
      "!ils"
     ],
     "language": "python",
     "metadata": {},
     "outputs": [
      {
       "output_type": "stream",
       "stream": "stdout",
       "text": [
        "/iplant/home/sr320:\r\n"
       ]
      },
      {
       "output_type": "stream",
       "stream": "stdout",
       "text": [
        "  filtered_400_NoIndex_L006_R1.fastq.gz\r\n",
        "  Galaxy10-[Cut_on_data_7].tabular\r\n",
        "  Gil_1.fq.gz\r\n",
        "  Gil_2.fq.gz\r\n",
        "  oyster.v9.fa\r\n",
        "  oyster.v9.glean.final.rename.CDS.gff\r\n",
        "  solid0078_20091105_BB3.fastq\r\n",
        "  solid0078_20091105_DH3.fastq\r\n",
        "  SPID_and_GO_number.tabular\r\n",
        "  Transcriptome_module1_blastxout_CE_modified.txt\r\n",
        "  Unknown_Transcriptome_31545_contigs.fa\r\n"
       ]
      },
      {
       "output_type": "stream",
       "stream": "stdout",
       "text": [
        "  C- /iplant/home/sr320/AltSplice\r\n"
       ]
      },
      {
       "output_type": "stream",
       "stream": "stdout",
       "text": [
        "  C- /iplant/home/sr320/analyses\r\n",
        "  C- /iplant/home/sr320/bamout\r\n",
        "  C- /iplant/home/sr320/bisque_data\r\n",
        "  C- /iplant/home/sr320/Black_Abalone\r\n",
        "  C- /iplant/home/sr320/cacheServiceTempDir\r\n",
        "  C- /iplant/home/sr320/ce\r\n",
        "  C- /iplant/home/sr320/Cgigas_v9\r\n",
        "  C- /iplant/home/sr320/coge_data\r\n",
        "  C- /iplant/home/sr320/fish546\r\n",
        "  C- /iplant/home/sr320/iplant_ws\r\n",
        "  C- /iplant/home/sr320/OlympiaOyster\r\n",
        "  C- /iplant/home/sr320/OlyO_PacBio\r\n",
        "  C- /iplant/home/sr320/OlyO_SNPhunt\r\n",
        "  C- /iplant/home/sr320/qdod\r\n",
        "  C- /iplant/home/sr320/RNAseq_co_BS\r\n"
       ]
      }
     ],
     "prompt_number": 10
    },
    {
     "cell_type": "code",
     "collapsed": false,
     "input": [
      "!imkdir BiGo_larvae"
     ],
     "language": "python",
     "metadata": {},
     "outputs": [],
     "prompt_number": 11
    },
    {
     "cell_type": "code",
     "collapsed": false,
     "input": [
      "!ils"
     ],
     "language": "python",
     "metadata": {},
     "outputs": [
      {
       "output_type": "stream",
       "stream": "stdout",
       "text": [
        "/iplant/home/sr320:\r\n"
       ]
      },
      {
       "output_type": "stream",
       "stream": "stdout",
       "text": [
        "  filtered_400_NoIndex_L006_R1.fastq.gz\r\n",
        "  Galaxy10-[Cut_on_data_7].tabular\r\n",
        "  Gil_1.fq.gz\r\n",
        "  Gil_2.fq.gz\r\n",
        "  oyster.v9.fa\r\n",
        "  oyster.v9.glean.final.rename.CDS.gff\r\n",
        "  solid0078_20091105_BB3.fastq\r\n",
        "  solid0078_20091105_DH3.fastq\r\n",
        "  SPID_and_GO_number.tabular\r\n",
        "  Transcriptome_module1_blastxout_CE_modified.txt\r\n",
        "  Unknown_Transcriptome_31545_contigs.fa\r\n"
       ]
      },
      {
       "output_type": "stream",
       "stream": "stdout",
       "text": [
        "  C- /iplant/home/sr320/AltSplice\r\n",
        "  C- /iplant/home/sr320/analyses\r\n",
        "  C- /iplant/home/sr320/bamout\r\n",
        "  C- /iplant/home/sr320/BiGo_larvae\r\n",
        "  C- /iplant/home/sr320/bisque_data\r\n",
        "  C- /iplant/home/sr320/Black_Abalone\r\n",
        "  C- /iplant/home/sr320/cacheServiceTempDir\r\n",
        "  C- /iplant/home/sr320/ce\r\n",
        "  C- /iplant/home/sr320/Cgigas_v9\r\n",
        "  C- /iplant/home/sr320/coge_data\r\n",
        "  C- /iplant/home/sr320/fish546\r\n",
        "  C- /iplant/home/sr320/iplant_ws\r\n",
        "  C- /iplant/home/sr320/OlympiaOyster\r\n",
        "  C- /iplant/home/sr320/OlyO_PacBio\r\n",
        "  C- /iplant/home/sr320/OlyO_SNPhunt\r\n",
        "  C- /iplant/home/sr320/qdod\r\n",
        "  C- /iplant/home/sr320/RNAseq_co_BS\r\n"
       ]
      }
     ],
     "prompt_number": 12
    },
    {
     "cell_type": "code",
     "collapsed": false,
     "input": [
      "!icd BiGo_larvae"
     ],
     "language": "python",
     "metadata": {},
     "outputs": [],
     "prompt_number": 15
    },
    {
     "cell_type": "code",
     "collapsed": false,
     "input": [
      "!iput -f -V -r /Volumes/web/trilobite/Crassostrea_gigas_HTSdata/batterbox/BiGo_Larvae"
     ],
     "language": "python",
     "metadata": {},
     "outputs": [
      {
       "output_type": "stream",
       "stream": "stdout",
       "text": [
        "NOTICE: irodsHost=data.iplantcollaborative.org\r\n",
        "NOTICE: irodsPort=1247\r\n",
        "NOTICE: irodsUserName=sr320\r\n",
        "NOTICE: irodsZone=iplant\r\n",
        "NOTICE: created irodsHome=/iplant/home/sr320\r\n",
        "NOTICE: created irodsCwd=/iplant/home/sr320\r\n",
        "NOTICE: irodsCwd=/iplant/home/sr320/BiGo_larvae\r\n"
       ]
      },
      {
       "output_type": "stream",
       "stream": "stdout",
       "text": [
        "C- /iplant/home/sr320/BiGo_larvae/BiGo_Larvae:\r\n"
       ]
      },
      {
       "output_type": "stream",
       "stream": "stdout",
       "text": [
        "From server: NumThreads=11, addr:128.196.172.248, port:20049, cookie=1784423902\r\n"
       ]
      },
      {
       "output_type": "stream",
       "stream": "stdout",
       "text": [
        "   filtered_BS_CgM3_GATCAG_L     329.845 MB | 19.206 sec | 11 thr | 17.174 MB/s\r\n"
       ]
      },
      {
       "output_type": "stream",
       "stream": "stdout",
       "text": [
        "From server: NumThreads=10, addr:128.196.172.248, port:20240, cookie=874741332\r\n"
       ]
      },
      {
       "output_type": "stream",
       "stream": "stdout",
       "text": [
        "   filtered_BS_CgM3_GATCAG_L     290.549 MB | 17.154 sec | 10 thr | 16.937 MB/s\r\n"
       ]
      },
      {
       "output_type": "stream",
       "stream": "stdout",
       "text": [
        "From server: NumThreads=11, addr:128.196.172.248, port:20001, cookie=1488887683\r\n"
       ]
      },
      {
       "output_type": "stream",
       "stream": "stdout",
       "text": [
        "   filtered_BS_CgM1_ACTTGA_L     330.421 MB | 16.623 sec | 11 thr | 19.878 MB/s\r\n"
       ]
      },
      {
       "output_type": "stream",
       "stream": "stdout",
       "text": [
        "From server: NumThreads=10, addr:128.196.172.248, port:20362, cookie=696179826\r\n"
       ]
      },
      {
       "output_type": "stream",
       "stream": "stdout",
       "text": [
        "   filtered_BS_CgM1_ACTTGA_L     290.698 MB | 18.305 sec | 10 thr | 15.881 MB/s\r\n"
       ]
      },
      {
       "output_type": "stream",
       "stream": "stdout",
       "text": [
        "From server: NumThreads=11, addr:128.196.172.248, port:20022, cookie=2050863989\r\n"
       ]
      },
      {
       "output_type": "stream",
       "stream": "stdout",
       "text": [
        "   filtered_Bs_CgLarve_T3D3_     348.038 MB | 14.489 sec | 11 thr | 24.020 MB/s\r\n"
       ]
      },
      {
       "output_type": "stream",
       "stream": "stdout",
       "text": [
        "From server: NumThreads=10, addr:128.196.172.248, port:20148, cookie=551333819\r\n"
       ]
      },
      {
       "output_type": "stream",
       "stream": "stdout",
       "text": [
        "   filtered_Bs_CgLarve_T3D3_     306.693 MB | 13.414 sec | 10 thr | 22.864 MB/s\r\n"
       ]
      },
      {
       "output_type": "stream",
       "stream": "stdout",
       "text": [
        "From server: NumThreads=9, addr:128.196.172.248, port:20086, cookie=2112982237\r\n"
       ]
      },
      {
       "output_type": "stream",
       "stream": "stdout",
       "text": [
        "   filtered_BS_CgLarv_T3D5_C     264.221 MB | 13.685 sec | 9 thr | 19.308 MB/s\r\n"
       ]
      },
      {
       "output_type": "stream",
       "stream": "stdout",
       "text": [
        "From server: NumThreads=8, addr:128.196.172.248, port:20253, cookie=295873469\r\n"
       ]
      },
      {
       "output_type": "stream",
       "stream": "stdout",
       "text": [
        "   filtered_BS_CgLarv_T3D5_C     232.154 MB | 10.373 sec | 8 thr | 22.380 MB/s\r\n"
       ]
      },
      {
       "output_type": "stream",
       "stream": "stdout",
       "text": [
        "From server: NumThreads=6, addr:128.196.172.248, port:20259, cookie=1552130862\r\n"
       ]
      },
      {
       "output_type": "stream",
       "stream": "stdout",
       "text": [
        "   filtered_BS_CgLarv_T1D5_A     162.282 MB | 10.573 sec | 6 thr | 15.349 MB/s\r\n"
       ]
      },
      {
       "output_type": "stream",
       "stream": "stdout",
       "text": [
        "From server: NumThreads=5, addr:128.196.172.248, port:20268, cookie=102187342\r\n"
       ]
      },
      {
       "output_type": "stream",
       "stream": "stdout",
       "text": [
        "   filtered_BS_CgLarv_T1D5_A     142.537 MB | 11.286 sec | 5 thr | 12.630 MB/s\r\n"
       ]
      },
      {
       "output_type": "stream",
       "stream": "stdout",
       "text": [
        "From server: NumThreads=7, addr:128.196.172.248, port:20240, cookie=1903399127\r\n"
       ]
      },
      {
       "output_type": "stream",
       "stream": "stdout",
       "text": [
        "   filtered_BS_CgLarv_T1D3_T     200.030 MB | 68.625 sec | 7 thr |  2.915 MB/s\r\n"
       ]
      },
      {
       "output_type": "stream",
       "stream": "stdout",
       "text": [
        "From server: NumThreads=6, addr:128.196.172.248, port:20128, cookie=648041722\r\n"
       ]
      },
      {
       "output_type": "stream",
       "stream": "stdout",
       "text": [
        "   filtered_BS_CgLarv_T1D3_T     175.973 MB | 63.189 sec | 6 thr |  2.785 MB/s\r\n"
       ]
      },
      {
       "output_type": "stream",
       "stream": "stdout",
       "text": [
        "   filtered_BS_CgF_TTAGGC_L0      19.369 MB | 13.399 sec | 0 thr |  1.446 MB/s\r\n"
       ]
      },
      {
       "output_type": "stream",
       "stream": "stdout",
       "text": [
        "   filtered_BS_CgF_TTAGGC_L0      17.302 MB | 2.144 sec | 0 thr |  8.070 MB/s\r\n"
       ]
      },
      {
       "output_type": "stream",
       "stream": "stdout",
       "text": [
        "From server: NumThreads=2, addr:128.196.172.248, port:20085, cookie=258361285\r\n"
       ]
      },
      {
       "output_type": "stream",
       "stream": "stdout",
       "text": [
        "   filtered_BS_CgF_TTAGGC_L0      62.435 MB | 13.086 sec | 2 thr |  4.771 MB/s\r\n"
       ]
      },
      {
       "output_type": "stream",
       "stream": "stdout",
       "text": [
        "   .DS_Store                       0.006 MB | 0.184 sec | 0 thr |  0.032 MB/s\r\n"
       ]
      }
     ],
     "prompt_number": 16
    },
    {
     "cell_type": "markdown",
     "metadata": {},
     "source": [
      "No QC by Core - using iPlant DE"
     ]
    },
    {
     "cell_type": "code",
     "collapsed": false,
     "input": [
      "!ils"
     ],
     "language": "python",
     "metadata": {},
     "outputs": [
      {
       "output_type": "stream",
       "stream": "stdout",
       "text": [
        "/iplant/home/sr320/BiGo_larvae:\r\n"
       ]
      },
      {
       "output_type": "stream",
       "stream": "stdout",
       "text": [
        "  filtered_BS_CgF_TTAGGC_L007_R1.fastq\r\n",
        "  filtered_BS_CgF_TTAGGC_L007_R2.fastq\r\n",
        "  filtered_Bs_CgLarve_T3D3_GCCAAT_L007_R1.fastq\r\n",
        "  filtered_Bs_CgLarve_T3D3_GCCAAT_L007_R2.fastq\r\n",
        "  filtered_BS_CgLarv_T1D3_TGACCA_L007_R1.fastq\r\n",
        "  filtered_BS_CgLarv_T1D3_TGACCA_L007_R2.fastq\r\n",
        "  filtered_BS_CgLarv_T1D5_ACAGTG_L007_R1.fastq\r\n",
        "  filtered_BS_CgLarv_T1D5_ACAGTG_L007_R2.fastq\r\n",
        "  filtered_BS_CgLarv_T3D5_CAGATC_L007_R1.fastq\r\n",
        "  filtered_BS_CgLarv_T3D5_CAGATC_L007_R2.fastq\r\n",
        "  filtered_BS_CgM1_ACTTGA_L007_R1.fastq\r\n",
        "  filtered_BS_CgM1_ACTTGA_L007_R2.fastq\r\n",
        "  filtered_BS_CgM3_GATCAG_L007_R1.fastq\r\n",
        "  filtered_BS_CgM3_GATCAG_L007_R2.fastq\r\n"
       ]
      },
      {
       "output_type": "stream",
       "stream": "stdout",
       "text": [
        "  C- /iplant/home/sr320/BiGo_larvae/FastQC_0.10.1__multi-file__analysis1-2014-02-03-09-29-30.603\r\n"
       ]
      }
     ],
     "prompt_number": 51
    },
    {
     "cell_type": "code",
     "collapsed": false,
     "input": [
      "!iget -r FastQC_0.10.1__multi-file__analysis1-2014-02-03-09-29-30.603"
     ],
     "language": "python",
     "metadata": {},
     "outputs": [],
     "prompt_number": 53
    },
    {
     "cell_type": "code",
     "collapsed": false,
     "input": [
      "cd /Volumes/web/cnidarian"
     ],
     "language": "python",
     "metadata": {},
     "outputs": [
      {
       "output_type": "stream",
       "stream": "stdout",
       "text": [
        "/Volumes/web/cnidarian\n"
       ]
      }
     ],
     "prompt_number": 38
    },
    {
     "cell_type": "heading",
     "level": 3,
     "metadata": {},
     "source": [
      "September Run FastQC Reports"
     ]
    },
    {
     "cell_type": "code",
     "collapsed": false,
     "input": [
      "from IPython.display import HTML\n",
      "HTML('<iframe src=http://eagle.fish.washington.edu/cnidarian/FastQC_0.10.1_020314/filtered_BS_CgF_TTAGGC_L007_R1_fastqc/fastqc_report.html width=100% height=550></iframe>')"
     ],
     "language": "python",
     "metadata": {},
     "outputs": [
      {
       "html": [
        "<iframe src=http://eagle.fish.washington.edu/cnidarian/FastQC_0.10.1_020314/filtered_BS_CgF_TTAGGC_L007_R1_fastqc/fastqc_report.html width=100% height=550></iframe>"
       ],
       "metadata": {},
       "output_type": "pyout",
       "prompt_number": 3,
       "text": [
        "<IPython.core.display.HTML at 0x1059c4c90>"
       ]
      }
     ],
     "prompt_number": 3
    },
    {
     "cell_type": "code",
     "collapsed": false,
     "input": [
      "from IPython.display import HTML\n",
      "HTML('<iframe src=http://eagle.fish.washington.edu/cnidarian/FastQC_0.10.1_020314/filtered_BS_CgF_TTAGGC_L007_R2_fastqc/fastqc_report.html width=100% height=550></iframe>')"
     ],
     "language": "python",
     "metadata": {},
     "outputs": [
      {
       "html": [
        "<iframe src=http://eagle.fish.washington.edu/cnidarian/FastQC_0.10.1_020314/filtered_BS_CgF_TTAGGC_L007_R2_fastqc/fastqc_report.html width=100% height=550></iframe>"
       ],
       "metadata": {},
       "output_type": "pyout",
       "prompt_number": 60,
       "text": [
        "<IPython.core.display.HTML at 0x1058b16d0>"
       ]
      }
     ],
     "prompt_number": 60
    },
    {
     "cell_type": "code",
     "collapsed": false,
     "input": [
      "from IPython.display import HTML\n",
      "HTML('<iframe src=http://eagle.fish.washington.edu/cnidarian/FastQC_0.10.1_020314/filtered_Bs_CgLarve_T3D3_GCCAAT_L007_R1_fastqc/fastqc_report.html width=100% height=550></iframe>')"
     ],
     "language": "python",
     "metadata": {},
     "outputs": [
      {
       "html": [
        "<iframe src=http://eagle.fish.washington.edu/cnidarian/FastQC_0.10.1_020314/filtered_Bs_CgLarve_T3D3_GCCAAT_L007_R1_fastqc/fastqc_report.html width=100% height=550></iframe>"
       ],
       "metadata": {},
       "output_type": "pyout",
       "prompt_number": 61,
       "text": [
        "<IPython.core.display.HTML at 0x1058b1610>"
       ]
      }
     ],
     "prompt_number": 61
    },
    {
     "cell_type": "code",
     "collapsed": false,
     "input": [
      "from IPython.display import HTML\n",
      "HTML('<iframe src=http://eagle.fish.washington.edu/cnidarian/FastQC_0.10.1_020314/filtered_Bs_CgLarve_T3D3_GCCAAT_L007_R2_fastqc/fastqc_report.html width=100% height=550></iframe>')"
     ],
     "language": "python",
     "metadata": {},
     "outputs": [
      {
       "html": [
        "<iframe src=http://eagle.fish.washington.edu/cnidarian/FastQC_0.10.1_020314/filtered_Bs_CgLarve_T3D3_GCCAAT_L007_R2_fastqc/fastqc_report.html width=100% height=550></iframe>"
       ],
       "metadata": {},
       "output_type": "pyout",
       "prompt_number": 62,
       "text": [
        "<IPython.core.display.HTML at 0x1058b1b10>"
       ]
      }
     ],
     "prompt_number": 62
    },
    {
     "cell_type": "heading",
     "level": 4,
     "metadata": {},
     "source": [
      "Check \"non-filtered\" T3D3 files"
     ]
    },
    {
     "cell_type": "code",
     "collapsed": false,
     "input": [
      "pwd"
     ],
     "language": "python",
     "metadata": {},
     "outputs": [
      {
       "metadata": {},
       "output_type": "pyout",
       "prompt_number": 74,
       "text": [
        "u'/Volumes/web/cnidarian'"
       ]
      }
     ],
     "prompt_number": 74
    },
    {
     "cell_type": "code",
     "collapsed": false,
     "input": [
      "!iget -r FastQC_0.10.1__multi-file__analysis1-2014-02-03-11-29-22.343"
     ],
     "language": "python",
     "metadata": {},
     "outputs": [],
     "prompt_number": 75
    },
    {
     "cell_type": "code",
     "collapsed": false,
     "input": [
      "from IPython.display import HTML\n",
      "HTML('<iframe src=http://eagle.fish.washington.edu/cnidarian/FastQC_0.10.1_020314b/Bs_CgLarve_T3D3_GCCAAT_L007_R1_001_fastqc/fastqc_report.html width=100% height=550></iframe>')"
     ],
     "language": "python",
     "metadata": {},
     "outputs": [
      {
       "html": [
        "<iframe src=http://eagle.fish.washington.edu/cnidarian/FastQC_0.10.1_020314b/Bs_CgLarve_T3D3_GCCAAT_L007_R1_001_fastqc/fastqc_report.html width=100% height=550></iframe>"
       ],
       "metadata": {},
       "output_type": "pyout",
       "prompt_number": 79,
       "text": [
        "<IPython.core.display.HTML at 0x1058b1f90>"
       ]
      }
     ],
     "prompt_number": 79
    },
    {
     "cell_type": "code",
     "collapsed": false,
     "input": [
      "from IPython.display import HTML\n",
      "HTML('<iframe src=http://eagle.fish.washington.edu/cnidarian/FastQC_0.10.1_020314b/Bs_CgLarve_T3D3_GCCAAT_L007_R2_001_fastqc/fastqc_report.html width=100% height=550></iframe>')"
     ],
     "language": "python",
     "metadata": {},
     "outputs": [
      {
       "html": [
        "<iframe src=http://eagle.fish.washington.edu/cnidarian/FastQC_0.10.1_020314b/Bs_CgLarve_T3D3_GCCAAT_L007_R2_001_fastqc/fastqc_report.html width=100% height=550></iframe>"
       ],
       "metadata": {},
       "output_type": "pyout",
       "prompt_number": 80,
       "text": [
        "<IPython.core.display.HTML at 0x1058b1e90>"
       ]
      }
     ],
     "prompt_number": 80
    },
    {
     "cell_type": "markdown",
     "metadata": {},
     "source": [
      "---"
     ]
    },
    {
     "cell_type": "code",
     "collapsed": false,
     "input": [
      "from IPython.display import HTML\n",
      "HTML('<iframe src=http://eagle.fish.washington.edu/cnidarian/FastQC_0.10.1_020314/filtered_BS_CgLarv_T1D3_TGACCA_L007_R1_fastqc/fastqc_report.html width=100% height=550></iframe>')"
     ],
     "language": "python",
     "metadata": {},
     "outputs": [
      {
       "html": [
        "<iframe src=http://eagle.fish.washington.edu/cnidarian/FastQC_0.10.1_020314/filtered_BS_CgLarv_T1D3_TGACCA_L007_R1_fastqc/fastqc_report.html width=100% height=550></iframe>"
       ],
       "metadata": {},
       "output_type": "pyout",
       "prompt_number": 63,
       "text": [
        "<IPython.core.display.HTML at 0x1058b1b50>"
       ]
      }
     ],
     "prompt_number": 63
    },
    {
     "cell_type": "code",
     "collapsed": false,
     "input": [
      "from IPython.display import HTML\n",
      "HTML('<iframe src=http://eagle.fish.washington.edu/cnidarian/FastQC_0.10.1_020314/filtered_BS_CgLarv_T1D3_TGACCA_L007_R2_fastqc/fastqc_report.html width=100% height=550></iframe>')"
     ],
     "language": "python",
     "metadata": {},
     "outputs": [
      {
       "html": [
        "<iframe src=http://eagle.fish.washington.edu/cnidarian/FastQC_0.10.1_020314/filtered_BS_CgLarv_T1D3_TGACCA_L007_R2_fastqc/fastqc_report.html width=100% height=550></iframe>"
       ],
       "metadata": {},
       "output_type": "pyout",
       "prompt_number": 64,
       "text": [
        "<IPython.core.display.HTML at 0x1058b1b90>"
       ]
      }
     ],
     "prompt_number": 64
    },
    {
     "cell_type": "code",
     "collapsed": false,
     "input": [
      "from IPython.display import HTML\n",
      "HTML('<iframe src=http://eagle.fish.washington.edu/cnidarian/FastQC_0.10.1_020314/filtered_BS_CgLarv_T1D5_ACAGTG_L007_R1_fastqc/fastqc_report.html width=100% height=550></iframe>')"
     ],
     "language": "python",
     "metadata": {},
     "outputs": [
      {
       "html": [
        "<iframe src=http://eagle.fish.washington.edu/cnidarian/FastQC_0.10.1_020314/filtered_BS_CgLarv_T1D5_ACAGTG_L007_R1_fastqc/fastqc_report.html width=100% height=550></iframe>"
       ],
       "metadata": {},
       "output_type": "pyout",
       "prompt_number": 65,
       "text": [
        "<IPython.core.display.HTML at 0x1058b1bd0>"
       ]
      }
     ],
     "prompt_number": 65
    },
    {
     "cell_type": "code",
     "collapsed": false,
     "input": [
      "from IPython.display import HTML\n",
      "HTML('<iframe src=http://eagle.fish.washington.edu/cnidarian/FastQC_0.10.1_020314/filtered_BS_CgLarv_T1D5_ACAGTG_L007_R2_fastqc/fastqc_report.html width=100% height=550></iframe>')"
     ],
     "language": "python",
     "metadata": {},
     "outputs": [
      {
       "html": [
        "<iframe src=http://eagle.fish.washington.edu/cnidarian/FastQC_0.10.1_020314/filtered_BS_CgLarv_T1D5_ACAGTG_L007_R2_fastqc/fastqc_report.html width=100% height=550></iframe>"
       ],
       "metadata": {},
       "output_type": "pyout",
       "prompt_number": 66,
       "text": [
        "<IPython.core.display.HTML at 0x1058b1810>"
       ]
      }
     ],
     "prompt_number": 66
    },
    {
     "cell_type": "code",
     "collapsed": false,
     "input": [
      "from IPython.display import HTML\n",
      "HTML('<iframe src=http://eagle.fish.washington.edu/cnidarian/FastQC_0.10.1_020314/filtered_BS_CgLarv_T3D5_CAGATC_L007_R1_fastqc/fastqc_report.html width=100% height=550></iframe>')"
     ],
     "language": "python",
     "metadata": {},
     "outputs": [
      {
       "html": [
        "<iframe src=http://eagle.fish.washington.edu/cnidarian/FastQC_0.10.1_020314/filtered_BS_CgLarv_T3D5_CAGATC_L007_R1_fastqc/fastqc_report.html width=100% height=550></iframe>"
       ],
       "metadata": {},
       "output_type": "pyout",
       "prompt_number": 67,
       "text": [
        "<IPython.core.display.HTML at 0x1058b1c50>"
       ]
      }
     ],
     "prompt_number": 67
    },
    {
     "cell_type": "code",
     "collapsed": false,
     "input": [
      "from IPython.display import HTML\n",
      "HTML('<iframe src=http://eagle.fish.washington.edu/cnidarian/FastQC_0.10.1_020314/filtered_BS_CgLarv_T3D5_CAGATC_L007_R2_fastqc/fastqc_report.html width=100% height=550></iframe>')"
     ],
     "language": "python",
     "metadata": {},
     "outputs": [
      {
       "html": [
        "<iframe src=http://eagle.fish.washington.edu/cnidarian/FastQC_0.10.1_020314/filtered_BS_CgLarv_T3D5_CAGATC_L007_R2_fastqc/fastqc_report.html width=100% height=550></iframe>"
       ],
       "metadata": {},
       "output_type": "pyout",
       "prompt_number": 68,
       "text": [
        "<IPython.core.display.HTML at 0x1058b1d10>"
       ]
      }
     ],
     "prompt_number": 68
    },
    {
     "cell_type": "code",
     "collapsed": false,
     "input": [
      "from IPython.display import HTML\n",
      "HTML('<iframe src=http://eagle.fish.washington.edu/cnidarian/FastQC_0.10.1_020314/filtered_BS_CgM1_ACTTGA_L007_R1_fastqc/fastqc_report.html width=100% height=550></iframe>')"
     ],
     "language": "python",
     "metadata": {},
     "outputs": [
      {
       "html": [
        "<iframe src=http://eagle.fish.washington.edu/cnidarian/FastQC_0.10.1_020314/filtered_BS_CgM1_ACTTGA_L007_R1_fastqc/fastqc_report.html width=100% height=550></iframe>"
       ],
       "metadata": {},
       "output_type": "pyout",
       "prompt_number": 69,
       "text": [
        "<IPython.core.display.HTML at 0x1058b1c90>"
       ]
      }
     ],
     "prompt_number": 69
    },
    {
     "cell_type": "code",
     "collapsed": false,
     "input": [
      "from IPython.display import HTML\n",
      "HTML('<iframe src=http://eagle.fish.washington.edu/cnidarian/FastQC_0.10.1_020314/filtered_BS_CgM1_ACTTGA_L007_R2_fastqc/fastqc_report.html width=100% height=550></iframe>')"
     ],
     "language": "python",
     "metadata": {},
     "outputs": [
      {
       "html": [
        "<iframe src=http://eagle.fish.washington.edu/cnidarian/FastQC_0.10.1_020314/filtered_BS_CgM1_ACTTGA_L007_R2_fastqc/fastqc_report.html width=100% height=550></iframe>"
       ],
       "metadata": {},
       "output_type": "pyout",
       "prompt_number": 70,
       "text": [
        "<IPython.core.display.HTML at 0x1058b1cd0>"
       ]
      }
     ],
     "prompt_number": 70
    },
    {
     "cell_type": "code",
     "collapsed": false,
     "input": [
      "from IPython.display import HTML\n",
      "HTML('<iframe src=http://eagle.fish.washington.edu/cnidarian/FastQC_0.10.1_020314/filtered_BS_CgM3_GATCAG_L007_R1_fastqc/fastqc_report.html width=100% height=550></iframe>')"
     ],
     "language": "python",
     "metadata": {},
     "outputs": [
      {
       "html": [
        "<iframe src=http://eagle.fish.washington.edu/cnidarian/FastQC_0.10.1_020314/filtered_BS_CgM3_GATCAG_L007_R1_fastqc/fastqc_report.html width=100% height=550></iframe>"
       ],
       "metadata": {},
       "output_type": "pyout",
       "prompt_number": 71,
       "text": [
        "<IPython.core.display.HTML at 0x1058b1d90>"
       ]
      }
     ],
     "prompt_number": 71
    },
    {
     "cell_type": "code",
     "collapsed": false,
     "input": [
      "from IPython.display import HTML\n",
      "HTML('<iframe src=http://eagle.fish.washington.edu/cnidarian/FastQC_0.10.1_020314/filtered_BS_CgM3_GATCAG_L007_R2_fastqc/fastqc_report.html width=100% height=550></iframe>')"
     ],
     "language": "python",
     "metadata": {},
     "outputs": [
      {
       "html": [
        "<iframe src=http://eagle.fish.washington.edu/cnidarian/FastQC_0.10.1_020314/filtered_BS_CgM3_GATCAG_L007_R2_fastqc/fastqc_report.html width=100% height=550></iframe>"
       ],
       "metadata": {},
       "output_type": "pyout",
       "prompt_number": 72,
       "text": [
        "<IPython.core.display.HTML at 0x1058b1410>"
       ]
      }
     ],
     "prompt_number": 72
    },
    {
     "cell_type": "heading",
     "level": 2,
     "metadata": {},
     "source": [
      "November Run"
     ]
    },
    {
     "cell_type": "raw",
     "metadata": {},
     "source": [
      "Core ID FCC39EM\n",
      "Issue is only 1 filtered file for PE data....\n",
      "What does filtered mean?"
     ]
    },
    {
     "cell_type": "heading",
     "level": 1,
     "metadata": {},
     "source": [
      "Joining / Merging"
     ]
    },
    {
     "cell_type": "markdown",
     "metadata": {},
     "source": [
      "Lets have a look at a Pair of files"
     ]
    },
    {
     "cell_type": "code",
     "collapsed": false,
     "input": [
      "first need to de compress "
     ],
     "language": "python",
     "metadata": {},
     "outputs": []
    },
    {
     "cell_type": "raw",
     "metadata": {},
     "source": [
      "!head /Volumes/web/trilobite/Crassostrea_gigas_HTSdata/BiGo_Larvae/filtered_BS_CgM1_ACTTGA_L007_R1.fastq.gz"
     ]
    }
   ],
   "metadata": {}
  }
 ]
}