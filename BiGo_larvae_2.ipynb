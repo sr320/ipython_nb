{
 "metadata": {
  "name": ""
 },
 "nbformat": 3,
 "nbformat_minor": 0,
 "worksheets": [
  {
   "cells": [
    {
     "cell_type": "heading",
     "level": 1,
     "metadata": {},
     "source": [
      "Bisulfite Sequencing - Larvae 5 day Trial"
     ]
    },
    {
     "cell_type": "raw",
     "metadata": {},
     "source": [
      "Summary: 7 libraries were made. Egg, Sperm 1, Larvae1_day3, Larvae1_day5, Sperm 3, Larvae3_day3, Larvae3_day5. Egg sample has consistenly failed at sequencing, but have two sets of sequencing for everything else. The first step will be to compile libraries. MAYBE? check and see if data is different between technical reps."
     ]
    },
    {
     "cell_type": "code",
     "collapsed": false,
     "input": [
      "! /Volumes/Bay3/Software/BSMAP/bsmap-2.74/bsmap -a /Volumes/web/trilobite/Crassostrea_gigas_HTSdata/FCC3ATL/BS_CgF_ACAGTG_L004_R1_001.fastq.gz -d /Volumes/web/cnidarian/oyster.v9.fa -o /Volumes/web/cnidarian/BiGo_egg_redo.sam -p 4"
     ],
     "language": "python",
     "metadata": {},
     "outputs": [
      {
       "output_type": "stream",
       "stream": "stdout",
       "text": [
        "\r\n",
        "BSMAP v2.74\r\n"
       ]
      },
      {
       "output_type": "stream",
       "stream": "stdout",
       "text": [
        "Start at:  Wed Jan 22 18:16:14 2014\r\n",
        "\r\n",
        "Input reference file: /Volumes/web/cnidarian/oyster.v9.fa"
       ]
      },
      {
       "output_type": "stream",
       "stream": "stdout",
       "text": [
        " \t(format: FASTA)\r\n"
       ]
      },
      {
       "output_type": "stream",
       "stream": "stdout",
       "text": [
        "Load in 11969 db seqs, total size 558601156 bp. 26 secs passed\r\n",
        "total_kmers: 43046721\r\n"
       ]
      },
      {
       "output_type": "stream",
       "stream": "stdout",
       "text": [
        "Create seed table. 97 secs passed\r\n",
        "max number of mismatches: read_length * 8% \tmax gap size: 0\r\n",
        "kmer cut-off ratio: 5e-07\r\n",
        "max multi-hits: 100\tmax Ns: 5\tseed size: 16\tindex interval: 4\r\n",
        "quality cutoff: 0\tbase quality char: '!'\r\n",
        "min fragment size:28\tmax fragemt size:500\r\n",
        "start from read #1\tend at read #4294967295\r\n",
        "additional alignment: T in reads => C in reference\r\n",
        "mapping strand: ++,-+\r\n",
        "Single-end alignment(4 threads)\r\n",
        "Input read file: /Volumes/web/trilobite/Crassostrea_gigas_HTSdata/FCC3ATL/BS_CgF_ACAGTG_L004_R1_001.fastq.gz"
       ]
      },
      {
       "output_type": "stream",
       "stream": "stdout",
       "text": [
        " \t(format: gzipped FASTQ)\r\n",
        "Output file: /Volumes/web/cnidarian/BiGo_egg_redo.sam\t (format: SAM)\r\n"
       ]
      },
      {
       "output_type": "stream",
       "stream": "stdout",
       "text": [
        "Thread #1: \t150000 reads finished. 126 secs passed\r\n"
       ]
      },
      {
       "output_type": "stream",
       "stream": "stdout",
       "text": [
        "Thread #2: \t100000 reads finished. 126 secs passed\r\n",
        "Thread #3: \t200000 reads finished. 126 secs passed\r\n"
       ]
      },
      {
       "output_type": "stream",
       "stream": "stdout",
       "text": [
        "Thread #0: \t50000 reads finished. 126 secs passed\r\n"
       ]
      },
      {
       "output_type": "stream",
       "stream": "stdout",
       "text": [
        "Thread #1: \t250000 reads finished. 162 secs passed\r\n"
       ]
      },
      {
       "output_type": "stream",
       "stream": "stdout",
       "text": [
        "Thread #3: \t350000 reads finished. 162 secs passed\r\n"
       ]
      },
      {
       "output_type": "stream",
       "stream": "stdout",
       "text": [
        "Thread #2: \t300000 reads finished. 163 secs passed\r\n"
       ]
      },
      {
       "output_type": "stream",
       "stream": "stdout",
       "text": [
        "Thread #0: \t400000 reads finished. 164 secs passed\r\n"
       ]
      },
      {
       "output_type": "stream",
       "stream": "stdout",
       "text": [
        "Thread #1: \t450000 reads finished. 193 secs passed\r\n"
       ]
      },
      {
       "output_type": "stream",
       "stream": "stdout",
       "text": [
        "Thread #3: \t500000 reads finished. 193 secs passed\r\n"
       ]
      },
      {
       "output_type": "stream",
       "stream": "stdout",
       "text": [
        "Thread #2: \t550000 reads finished. 193 secs passed\r\n"
       ]
      },
      {
       "output_type": "stream",
       "stream": "stdout",
       "text": [
        "Thread #0: \t600000 reads finished. 194 secs passed\r\n"
       ]
      },
      {
       "output_type": "stream",
       "stream": "stdout",
       "text": [
        "Thread #1: \t650000 reads finished. 228 secs passed\r\n"
       ]
      },
      {
       "output_type": "stream",
       "stream": "stdout",
       "text": [
        "Thread #3: \t700000 reads finished. 229 secs passed\r\n"
       ]
      },
      {
       "output_type": "stream",
       "stream": "stdout",
       "text": [
        "Thread #2: \t750000 reads finished. 229 secs passed\r\n"
       ]
      },
      {
       "output_type": "stream",
       "stream": "stdout",
       "text": [
        "Thread #0: \t800000 reads finished. 230 secs passed\r\n"
       ]
      },
      {
       "output_type": "stream",
       "stream": "stdout",
       "text": [
        "Thread #1: \t850000 reads finished. 260 secs passed\r\n"
       ]
      },
      {
       "output_type": "stream",
       "stream": "stdout",
       "text": [
        "Thread #3: \t900000 reads finished. 261 secs passed\r\n"
       ]
      },
      {
       "output_type": "stream",
       "stream": "stdout",
       "text": [
        "Thread #2: \t950000 reads finished. 262 secs passed\r\n"
       ]
      },
      {
       "output_type": "stream",
       "stream": "stdout",
       "text": [
        "Thread #0: \t1000000 reads finished. 262 secs passed\r\n"
       ]
      },
      {
       "output_type": "stream",
       "stream": "stdout",
       "text": [
        "Thread #1: \t1050000 reads finished. 290 secs passed\r\n"
       ]
      },
      {
       "output_type": "stream",
       "stream": "stdout",
       "text": [
        "Thread #3: \t1100000 reads finished. 291 secs passed\r\n"
       ]
      },
      {
       "output_type": "stream",
       "stream": "stdout",
       "text": [
        "Thread #2: \t1150000 reads finished. 292 secs passed\r\n"
       ]
      },
      {
       "output_type": "stream",
       "stream": "stdout",
       "text": [
        "Thread #0: \t1200000 reads finished. 293 secs passed\r\n"
       ]
      },
      {
       "output_type": "stream",
       "stream": "stdout",
       "text": [
        "Thread #1: \t1250000 reads finished. 317 secs passed\r\n"
       ]
      },
      {
       "output_type": "stream",
       "stream": "stdout",
       "text": [
        "Thread #3: \t1300000 reads finished. 319 secs passed\r\n"
       ]
      },
      {
       "output_type": "stream",
       "stream": "stdout",
       "text": [
        "Thread #2: \t1350000 reads finished. 320 secs passed\r\n"
       ]
      },
      {
       "output_type": "stream",
       "stream": "stdout",
       "text": [
        "Thread #0: \t1400000 reads finished. 320 secs passed\r\n"
       ]
      },
      {
       "output_type": "stream",
       "stream": "stdout",
       "text": [
        "Thread #1: \t1450000 reads finished. 348 secs passed\r\n"
       ]
      },
      {
       "output_type": "stream",
       "stream": "stdout",
       "text": [
        "Thread #3: \t1500000 reads finished. 349 secs passed\r\n"
       ]
      },
      {
       "output_type": "stream",
       "stream": "stdout",
       "text": [
        "Thread #2: \t1550000 reads finished. 350 secs passed\r\n"
       ]
      },
      {
       "output_type": "stream",
       "stream": "stdout",
       "text": [
        "Thread #0: \t1600000 reads finished. 350 secs passed\r\n"
       ]
      },
      {
       "output_type": "stream",
       "stream": "stdout",
       "text": [
        "Thread #1: \t1650000 reads finished. 380 secs passed\r\n"
       ]
      },
      {
       "output_type": "stream",
       "stream": "stdout",
       "text": [
        "Thread #3: \t1700000 reads finished. 382 secs passed\r\n"
       ]
      },
      {
       "output_type": "stream",
       "stream": "stdout",
       "text": [
        "Thread #2: \t1750000 reads finished. 383 secs passed\r\n"
       ]
      },
      {
       "output_type": "stream",
       "stream": "stdout",
       "text": [
        "Thread #0: \t1800000 reads finished. 384 secs passed\r\n"
       ]
      },
      {
       "output_type": "stream",
       "stream": "stdout",
       "text": [
        "Thread #1: \t1850000 reads finished. 407 secs passed\r\n"
       ]
      },
      {
       "output_type": "stream",
       "stream": "stdout",
       "text": [
        "Thread #3: \t1900000 reads finished. 408 secs passed\r\n"
       ]
      },
      {
       "output_type": "stream",
       "stream": "stdout",
       "text": [
        "Thread #0: \t2000000 reads finished. 409 secs passed\r\n"
       ]
      },
      {
       "output_type": "stream",
       "stream": "stdout",
       "text": [
        "Thread #2: \t1950000 reads finished. 409 secs passed\r\n"
       ]
      },
      {
       "output_type": "stream",
       "stream": "stdout",
       "text": [
        "Thread #2: \t2151969 reads finished. 411 secs passed\r\n"
       ]
      },
      {
       "output_type": "stream",
       "stream": "stdout",
       "text": [
        "Thread #1: \t2050000 reads finished. 431 secs passed\r\n"
       ]
      },
      {
       "output_type": "stream",
       "stream": "stdout",
       "text": [
        "Thread #3: \t2100000 reads finished. 432 secs passed\r\n"
       ]
      },
      {
       "output_type": "stream",
       "stream": "stdout",
       "text": [
        "Thread #0: \t2150000 reads finished. 432 secs passed\r\n"
       ]
      },
      {
       "output_type": "stream",
       "stream": "stdout",
       "text": [
        "Total number of aligned reads: 593117 (28%)\r\n",
        "Done.\r\n",
        "Finished at Wed Jan 22 18:23:27 2014\r\n",
        "Total time consumed:  433 secs\r\n"
       ]
      }
     ],
     "prompt_number": 2
    },
    {
     "cell_type": "code",
     "collapsed": false,
     "input": [
      "http://eagle.fish.washington.edu/trilobite/Crassostrea_gigas_HTSdata/FCC3ATL/BS_CgF_ACAGTG_L004_R1_001.fastq.gz"
     ],
     "language": "python",
     "metadata": {},
     "outputs": []
    }
   ],
   "metadata": {}
  }
 ]
}