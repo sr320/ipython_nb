{
 "metadata": {
  "name": "Ruphi_OA_RNAseq",
  "signature": "sha256:6f392d898b9b6c9e79c2fdc38edfd2f831ff1201ffc2d4989b088af0dc49350d"
 },
 "nbformat": 3,
 "nbformat_minor": 0,
 "worksheets": [
  {
   "cells": [
    {
     "cell_type": "markdown",
     "metadata": {},
     "source": [
      "#Evaluating RNA-seq analysis of Manila Clam larvae experiment\n",
      "\n",
      "Manscript review indicated qPCR was needed to corroborate. Replicating RNA-Seq work to confirm expression differences so target genes can be identified\n",
      "\n",
      "\n",
      "_Updated July 22, 2013 9:50PDT_"
     ]
    },
    {
     "cell_type": "markdown",
     "metadata": {},
     "source": [
      "*from manuscript (methods)*\n",
      "\n",
      "###RNA-Seq analysis was carried out to determine differential gene expression patterns between the two libraries (ambient and elevated pCO2). RNA-Seq was performed using the following parameters; unspecific match limit = 10, maximum number of mismatches = 2, minimum number of reads = 10. Expression values were measured in RPKM (reads per kilobase of exon model per million mapped reads; see Mortazavi et al., 2008). Differentially expressed genes were identified as having > 1.5 fold difference between libraries and a p-value < 0.10 (Baggerly et al. 2003). Hypergeometric tests on annotations were performed to identify enriched biological processes. This test procedure was performed using CLC Genomics Workbench v4.0 and is similar to the unconditional GOstats test of Falcon and Gentleman (2007). Significantly enriched (p <0.10) GO terms and associated p-values were visualized using REViGO (Reduce + Visualize Gene Ontology) (Supek et al. 2011). ###\n",
      "\n",
      "and results\n",
      "\n",
      "###RNA-Seq analysis using Ruphibase as the scaffold identified 3954 differentially expressed contigs. Of those, 162 contigs were expressed at a lower level in larvae exposed to elevated pCO2 conditions, and 3792 were expressed at an elevated level (Figure 3). Among differentially expressed contigs, 204 were expressed over 10-fold higher in elevated pCO2 conditions including the calcification gene Perlucin 6, which was expressed 133 fold higher under elevated pCO2 conditions. Only 8 contigs were expressed 10-fold lower under elevated pCO2 conditions. A complete list of all differentially expressed genes is provided in Supplemental Table 1.###\n"
     ]
    },
    {
     "cell_type": "markdown",
     "metadata": {},
     "source": [
      "In CLC   \n",
      "<img src=\"https://www.evernote.com/shard/s10/sh/9f390025-b75f-43ea-95cf-e969608bb5e2/82fff594bd3b4486a66bb8ee0afc4db7/deep/0/Screenshot%207/10/13%208:58%20AM.png\" alt=\"Screenshot%207/10/13%208:58%20AM\" />"
     ]
    },
    {
     "cell_type": "markdown",
     "metadata": {},
     "source": [
      "---\n",
      "Issue is numbers do not jive   \n",
      "<img src=\"https://www.evernote.com/shard/s10/sh/40cb724c-b12a-4dd1-ae70-dd887fe42ebb/c0f919a0e90c0b50ce83b2b9d4e12ef8/deep/0/Screenshot%207/10/13%209:10%20AM.png\" alt=\"Screenshot%207/10/13%209:10%20AM\" />"
     ]
    },
    {
     "cell_type": "markdown",
     "metadata": {},
     "source": [
      "Seems to be a rounding issue   \n",
      "\n",
      "Below is screenshot of Supplemental file (that needs work).\n",
      "\n",
      "<img src=\"https://www.evernote.com/shard/s10/sh/b165af93-bc69-4d2a-97a5-36b24917226a/3e3bc2e29734c7446684ae78a8a5789b/deep/0/Screenshot%207/10/13%209:20%20AM.png\" alt=\"Screenshot%207/10/13%209:20%20AM\" />\n"
     ]
    },
    {
     "cell_type": "code",
     "collapsed": false,
     "input": [
      "#Solution is to change text to </= 0.1"
     ],
     "language": "python",
     "metadata": {},
     "outputs": [],
     "prompt_number": 2
    },
    {
     "cell_type": "code",
     "collapsed": false,
     "input": [
      "#Lets get into SQLShare."
     ],
     "language": "python",
     "metadata": {},
     "outputs": [],
     "prompt_number": 3
    },
    {
     "cell_type": "code",
     "collapsed": false,
     "input": [
      "#Seems like bigger issue is that excel file and CLC file do no match - likely silly excel error"
     ],
     "language": "python",
     "metadata": {},
     "outputs": [],
     "prompt_number": 4
    },
    {
     "cell_type": "markdown",
     "metadata": {},
     "source": [
      "Going to get file straight from CLC in SQLshare and join.   \n",
      "\n",
      "<img src=\"https://www.evernote.com/shard/s10/sh/6efb599a-31a6-4173-a388-955fd7204866/7701d25031c4f30fd161ba23482be461/deep/0/Screenshot%207/10/13%209:56%20AM.png\" alt=\"Screenshot%207/10/13%209:56%20AM\" />"
     ]
    },
    {
     "cell_type": "markdown",
     "metadata": {},
     "source": [
      "```\n",
      "SELECT\n",
      " clc.\"Feature ID\" as CLCID,\n",
      " ex.\"Feature ID\" as SuppID,\n",
      " ex.\"Target description\",\n",
      " ex.\"GO enrichment\",\n",
      " ex.\"GO biological process\",\n",
      " clc.\"Baggerley's test: 1000 vs 400 original values - P-value\" as CLCp,\n",
      " ex.\"P-value\" as SuppP, \n",
      " clc.\"Experiment - Fold Change (original values)\" as CLCfold, \n",
      " ex.\"Fold Change (original values)\" as SuppFold, \n",
      " clc.\"400 - Means\" as CLC400,\n",
      " ex.RPKM1 as SuppRPKM1, \n",
      " clc.\"1000 - Means\" as CLC1000,\n",
      " ex.RPKM as SuppRPKM \n",
      "```\n",
      "  \n",
      "\n",
      "```  \n",
      "FROM [sr320@washington.edu].[table_CLC_Ruphi_400_1000.csv]clc\n",
      "left join  [sr320@washington.edu].[table_Ruphi_RNAseq_supp.csv]ex\n",
      "  on clc.\u200b[Feature ID] = ex.[Feature ID]\u200b\u200b\u200b\u200b\u200b\u200b\u200b\u200b\u200b\u200b\u200b\u200b\u200b\u200b\u200b\u200b\u200b\u200b\u200b\u200b\u200b\u200b\u200b\u200b\u200b\u200b\u200b\u200b\u200b\u200b\u200b\u200b\u200b\u200b\n",
      "```\n",
      "\n",
      "\n",
      "<https://sqlshare.escience.washington.edu/sqlshare#s=query/sr320%40washington.edu/CLCvExcel_RuphiRNAseq>\n",
      "    \n",
      "---    \n",
      "enriched genes  \n",
      "<https://sqlshare.escience.washington.edu/sqlshare#s=query/sr320%40washington.edu/Ruphi%20Enriched%20Genes>    \n",
      "    "
     ]
    },
    {
     "cell_type": "markdown",
     "metadata": {},
     "source": [
      "---\n",
      "##Comparing qPCR with RNA-Seq\n",
      "\n",
      "RNA-Seq was carried out using pooled libraries at day 7. Two chambers from each treatment were harvested. August 5th, 2011 was day 7.   \n",
      "Based on Dave's Notebook it is deduced that for 400ppm, Jars were 4C1 and 4C3. For 1000ppm, -- 1C3 and 1C4.\n",
      "\n",
      "_Confirmed in Dave's Notebook Dated September 7, 2011._\n",
      "\n",
      "---\n",
      "**CORRECTED DATA** (see below)  \n",
      "\n",
      "<http://eagle.fish.washington.edu/Arabidopsis/qPCR/Opticon/Sam_20121108_150936_2Points.xlsx>\n",
      "    \n",
      "<http://eagle.fish.washington.edu/Arabidopsis/qPCR/Opticon/Sam_20121108_161738_2Points.xlsx>\n",
      "    \n",
      "<http://eagle.fish.washington.edu/Arabidopsis/qPCR/Opticon/Sam_20121108_172259_2Points.xlsx>    \n",
      "\n",
      "\n",
      "<img src=\"https://www.evernote.com/shard/s10/sh/fcc27b51-6fea-4f64-9bee-ad1a05be5b14/5cddd5b3d68ff5d26c3c2df415ee5229/deep/0/Sam_20121108_150936_2Points.xlsx.png\" alt=\"Sam_20121108_150936_2Points.xlsx\" />\n",
      "\n",
      "\n",
      "---\n",
      "\n",
      "\n",
      "<img src=\"https://www.evernote.com/shard/s10/sh/4e907bca-85dd-454a-b425-a897714b7cee/5350c9665a7b5dff48a1822c6fcff298/deep/0/Sam_20121108_150936_2Points.xlsx.png\" alt=\"Sam_20121108_150936_2Points.xlsx\" />\n",
      "\n",
      "\n",
      "---\n",
      "\n",
      "\n",
      "<img src=\"https://www.evernote.com/shard/s10/sh/2a2c6123-739b-4a3e-8b30-3f54082da8ff/ca08275887a63cb94f92f7a0e3ca1bde/deep/0/Sam_20121108_161738_2Points.xlsx.png\" alt=\"Sam_20121108_161738_2Points.xlsx\" />\n",
      "\n",
      "\n",
      "---\n",
      "\n",
      "\n",
      "<img src=\"https://www.evernote.com/shard/s10/sh/f8f1db89-d247-4f51-ad69-92a95eed8301/39a8541bfd3b5fea8eddd694dfa45292/deep/0/Sam_20121108_161738_2Points.xlsx.png\" alt=\"Sam_20121108_161738_2Points.xlsx\" />\n",
      "\n",
      "\n",
      "---\n",
      "\n",
      "<img src=\"https://www.evernote.com/shard/s10/sh/4fc09b45-f3b4-4c33-9987-689577b6f121/8dffeba8018daf911be212d9113a09d3/deep/0/Sam_20121108_172259_2Points.xlsx.png\" alt=\"Sam_20121108_172259_2Points.xlsx\" />\n",
      "\n",
      "\n",
      "\n",
      "\n",
      "\n",
      "\n",
      "\n",
      "\n",
      "---\n",
      "**EXCEL ERROR - ALL DATA BELOW WRONG**   \n",
      "\n",
      "Sam did qPCR on select genes, data @\n",
      "\n",
      "http://eagle.fish.washington.edu/Arabidopsis/qPCR/Opticon/Sam_20121108_172259.xlsx\n",
      "\n",
      "http://eagle.fish.washington.edu/Arabidopsis/qPCR/Opticon/Sam_20121108_161738.xlsx\n",
      "\n",
      "http://eagle.fish.washington.edu/Arabidopsis/qPCR/Opticon/Sam_20121108_150936.xlsx\n",
      "\n",
      "\n",
      "---\n",
      "\n",
      "<img src=\"https://www.evernote.com/shard/s10/sh/e454debc-77db-49f0-b314-8efb0438839a/a57d88deb2bcf5706f178cb1596919b3/deep/0/Screenshot%207/17/13%207:44%20AM.png\" alt=\"Screenshot%207/17/13%207:44%20AM\" width = 40%/>  \n",
      "\n",
      "---\n",
      "<img src=\"https://www.evernote.com/shard/s10/sh/1f1fb748-ecd4-4ea0-bd86-08b869721444/dc726dda44dbf4898983f3ea17c6f506/deep/0/Screenshot%207/17/13%207:42%20AM.png\" alt=\"Screenshot%207/17/13%207:42%20AM\" width = 70%/>\n",
      "\n",
      "---\n",
      "<img src=\"https://www.evernote.com/shard/s10/sh/27049d7e-b9c1-4968-bdac-2627cfb14359/8e257c2abb179e18666f5869b92a6bdd/deep/0/Sam_20121108_150936.xlsx.png\" alt=\"Sam_20121108_150936.xlsx\" width = 70%/>\n"
     ]
    },
    {
     "cell_type": "code",
     "collapsed": false,
     "input": [],
     "language": "python",
     "metadata": {},
     "outputs": []
    }
   ],
   "metadata": {}
  }
 ]
}