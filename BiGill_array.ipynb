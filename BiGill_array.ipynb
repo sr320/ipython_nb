{
 "metadata": {
  "name": ""
 },
 "nbformat": 3,
 "nbformat_minor": 0,
 "worksheets": [
  {
   "cells": [
    {
     "cell_type": "heading",
     "level": 2,
     "metadata": {},
     "source": [
      "Quick Look at Array data"
     ]
    },
    {
     "cell_type": "markdown",
     "metadata": {},
     "source": [
      "<http://eagle.fish.washington.edu/cnidarian/BiGill_array_track1.mov>"
     ]
    },
    {
     "cell_type": "markdown",
     "metadata": {},
     "source": [
      "<img src=\"http://eagle.fish.washington.edu/cnidarian/skitch/CLC_Genomics_Workbench_6.5_17E8EF30.png\" alt=\"CLC_Genomics_Workbench_6.5_17E8EF30.png\"/>"
     ]
    },
    {
     "cell_type": "markdown",
     "metadata": {},
     "source": [
      "<img src=\"http://eagle.fish.washington.edu/cnidarian/skitch/CLC_Genomics_Workbench_6.5_17E8EF4F.png\" alt=\"CLC_Genomics_Workbench_6.5_17E8EF4F.png\"/>"
     ]
    },
    {
     "cell_type": "markdown",
     "metadata": {},
     "source": [
      "<img src=\"http://eagle.fish.washington.edu/cnidarian/skitch/CLC_Genomics_Workbench_6.5_17E8EF74.png\" alt=\"CLC_Genomics_Workbench_6.5_17E8EF74.png\"/>"
     ]
    },
    {
     "cell_type": "markdown",
     "metadata": {},
     "source": [
      "<img src=\"http://eagle.fish.washington.edu/cnidarian/skitch/CLC_Genomics_Workbench_6.5_17E8F00A.png\" alt=\"CLC_Genomics_Workbench_6.5_17E8F00A.png\"/>"
     ]
    },
    {
     "cell_type": "markdown",
     "metadata": {},
     "source": [
      "<img src=\"http://eagle.fish.washington.edu/cnidarian/skitch/CLC_Genomics_Workbench_6.5_17E8F10C.png\" alt=\"CLC_Genomics_Workbench_6.5_17E8F10C.png\"/>"
     ]
    },
    {
     "cell_type": "markdown",
     "metadata": {},
     "source": [
      "<img src=\"http://eagle.fish.washington.edu/cnidarian/skitch/CLC_Genomics_Workbench_6.5_17E8F136.png\" alt=\"CLC_Genomics_Workbench_6.5_17E8F136.png\"/>"
     ]
    },
    {
     "cell_type": "heading",
     "level": 1,
     "metadata": {},
     "source": [
      "Characterizing the 42 genes with differential methylation"
     ]
    },
    {
     "cell_type": "code",
     "collapsed": false,
     "input": [
      "!head /Volumes/web/cnidarian/DMRmgavery_mRNA_annotated.csv"
     ],
     "language": "python",
     "metadata": {},
     "outputs": [
      {
       "output_type": "stream",
       "stream": "stdout",
       "text": [
        "DMR_chr,DMR_source,DMR_type,DMR_start,DMR_stop,gene_chr,gene_source,gene_type,gene_start,gene_stop,gene_score,gene_strand,gene_CGI,gene_SPID,gene_eval,gene_description\r\n",
        "scaffold1017,MBD_ChIP,HYPO,117844,118366,scaffold1017,GLEAN,mRNA,89381,134984,0.662353,+,CGI_10024982,P45844,0,ATP-binding cassette sub-family G member 1\r\n",
        "scaffold1017,MBD_ChIP,HYPO,120083,120710,scaffold1017,GLEAN,mRNA,89381,134984,0.662353,+,CGI_10024982,P45844,0,ATP-binding cassette sub-family G member 1\r\n",
        "scaffold1174,MBD_ChIP,HYPER,585061,585688,scaffold1174,GLEAN,mRNA,584434,586898,1,-,CGI_10026054,P10155,1.00E-113,60 kDa SS-A/Ro ribonucleoprotein\r\n",
        "scaffold1179,MBD_ChIP,HYPER,1238509,1239014,scaffold1179,GLEAN,mRNA,1232531,1260961,0.415854,-,CGI_10027416,Q8C8U0,4.00E-146,Liprin-beta-1\r\n",
        "scaffold13,MBD_ChIP,HYPER,106323,106835,scaffold13,GLEAN,mRNA,104907,109173,0.999981,+,CGI_10013201,P02595,1.00E-21,Calmodulin\r\n",
        "scaffold13,MBD_ChIP,HYPER,107092,107468,scaffold13,GLEAN,mRNA,104907,109173,0.999981,+,CGI_10013201,P02595,1.00E-21,Calmodulin\r\n",
        "scaffold1301,MBD_ChIP,HYPER,958441,958944,scaffold1301,GLEAN,mRNA,940827,961246,0.536299,+,CGI_10027751,O15027,4.00E-123,Protein transport protein Sec16A\r\n",
        "scaffold1337,MBD_ChIP,HYPER,331697,331825,scaffold1337,GLEAN,mRNA,330650,341044,0.999409,-,CGI_10012845,Q9JHU4,1.00E-93,Cytoplasmic dynein 1 heavy chain 1\r\n",
        "scaffold1409,MBD_ChIP,HYPO,145389,145656,scaffold1409,GLEAN,mRNA,123560,153776,0.210676,-,CGI_10013783,Q8TDB6,1.00E-52,E3 ubiquitin-protein ligase DTX3L\r\n"
       ]
      }
     ],
     "prompt_number": 2
    },
    {
     "cell_type": "code",
     "collapsed": false,
     "input": [
      "#upload to SQLShare"
     ],
     "language": "python",
     "metadata": {},
     "outputs": [],
     "prompt_number": 3
    },
    {
     "cell_type": "code",
     "collapsed": false,
     "input": [
      "!python /Users/sr320/sqlshare-pythonclient/tools/singleupload.py -d DMRmgavery_mRNA_annotated /Volumes/web/cnidarian/DMRmgavery_mRNA_annotated.csv"
     ],
     "language": "python",
     "metadata": {},
     "outputs": [
      {
       "output_type": "stream",
       "stream": "stdout",
       "text": [
        "processing chunk line 0 to 47 (0.00136613845825 s elapsed)\r\n",
        "pushing /Volumes/web/cnidarian/DMRmgavery_mRNA_annotated.csv...\r\n"
       ]
      },
      {
       "output_type": "stream",
       "stream": "stdout",
       "text": [
        "parsing BB469E48...\r\n"
       ]
      },
      {
       "output_type": "stream",
       "stream": "stdout",
       "text": [
        "finished DMRmgavery_mRNA_annotated\r\n"
       ]
      }
     ],
     "prompt_number": 5
    },
    {
     "cell_type": "heading",
     "level": 2,
     "metadata": {},
     "source": [
      "Joining CCD_domain_concise_Superfamily"
     ]
    },
    {
     "cell_type": "markdown",
     "metadata": {},
     "source": [
      "```\n",
      "SELECT * FROM [sr320@washington.edu].[DMRmgavery_mRNA_annotated]dmr\n",
      "  left join\n",
      "  [sr320@washington.edu].[TJGR_CCD_domain_concise_Superfamily_def]sf\n",
      "  on dmr.gene_CGI = sf.CGI_ID\n",
      "  ```\n",
      "  \n"
     ]
    },
    {
     "cell_type": "code",
     "collapsed": false,
     "input": [
      "!head -2 /Volumes/web/cnidarian/DMRmgavery_prodom.csv"
     ],
     "language": "python",
     "metadata": {},
     "outputs": [
      {
       "output_type": "stream",
       "stream": "stdout",
       "text": [
        "DMR_chr,DMR_source,DMR_type,DMR_start,DMR_stop,gene_chr,gene_source,gene_type,gene_start,gene_stop,gene_score,gene_strand,gene_CGI,gene_SPID,gene_eval,gene_description,Query,CGI_ID,Hit type,PSSM-ID,From,To,E-Value,Bitscore,Accession,Short name,Incomplete,Superfamily,Definition\r",
        "\r\n",
        "scaffold601,MBD_ChIP,HYPER,1116073,1116588,scaffold601,GLEAN,mRNA,1099885,1117707,0.780387,+,CGI_10026858,P41436,8E-31,Apoptosis inhibitor IAP,Q#10321 -,CGI_10026858,superfamily,241564,281,335,1.01E-21,88.4767,cl00035,BIR superfamily,C,-,\"\"\"Baculoviral inhibition of apoptosis protein repeat domain; Found in inhibitors of apoptosis proteins (IAPs) and other proteins. In higher eukaryotes, BIR domains inhibit apoptosis by acting as direct inhibitors of the caspase family of protease enzymes. In yeast, BIR domains are involved in regulating cytokinesis. This novel fold is stabilized by zinc tetrahedrally coordinated by one histidine and three cysteine residues and resembles a classical zinc finger.\"\"\"\r",
        "\r\n"
       ]
      }
     ],
     "prompt_number": 9
    },
    {
     "cell_type": "heading",
     "level": 2,
     "metadata": {},
     "source": [
      "Joining for GO!"
     ]
    },
    {
     "cell_type": "markdown",
     "metadata": {},
     "source": [
      "```\n",
      "SELECT distinct * FROM [sr320@washington.edu].[DMRmgavery_mRNA_annotated]dmr\n",
      "  left join\n",
      "  [sr320@washington.edu].[qDOD_Cgigas_GO_GOslim]sf\n",
      "  on dmr.gene_CGI = sf.CGI_ID\n",
      "  ```"
     ]
    },
    {
     "cell_type": "code",
     "collapsed": false,
     "input": [
      "!head -2 /Volumes/web/cnidarian/DMRmgavery_GO.csv"
     ],
     "language": "python",
     "metadata": {},
     "outputs": [
      {
       "output_type": "stream",
       "stream": "stdout",
       "text": [
        "DMR_chr,DMR_source,DMR_type,DMR_start,DMR_stop,gene_chr,gene_source,gene_type,gene_start,gene_stop,gene_score,gene_strand,gene_CGI,gene_SPID,gene_eval,gene_description,CGI_ID,SPID,evalue,Description,SPID1,GOID,GO_id,term,GOSlim_bin,aspect\r",
        "\r\n",
        "scaffold1017,MBD_ChIP,HYPO,117844,118366,scaffold1017,GLEAN,mRNA,89381,134984,0.662353,+,CGI_10024982,P45844,0,ATP-binding cassette sub-family G member 1,CGI_10024982,P45844,0,ATP-binding cassette sub-family G member 1,P45844,GO:0000139,GO:0000139,Golgi membrane,ER/Golgi,C\r",
        "\r\n"
       ]
      }
     ],
     "prompt_number": 10
    },
    {
     "cell_type": "markdown",
     "metadata": {},
     "source": [
      "<img src=\"http://eagle.fish.washington.edu/cnidarian/skitch/REVIGO_Output_18521FBB.png\" alt=\"REVIGO_Output_18521FBB.png\"/>"
     ]
    },
    {
     "cell_type": "heading",
     "level": 3,
     "metadata": {},
     "source": [
      "GOslim Pie"
     ]
    },
    {
     "cell_type": "markdown",
     "metadata": {},
     "source": [
      "<img src=\"http://eagle.fish.washington.edu/cnidarian/skitch/Screenshot_12_6_13_7_18_AM_18522243.png\" alt=\"Screenshot_12_6_13_7_18_AM_18522243.png\"/>"
     ]
    },
    {
     "cell_type": "markdown",
     "metadata": {},
     "source": [
      "<img src=\"http://eagle.fish.washington.edu/cnidarian/skitch/Screenshot_12_6_13_7_19_AM_185222A2.png\" alt=\"Screenshot_12_6_13_7_19_AM_185222A2.png\"/>"
     ]
    },
    {
     "cell_type": "markdown",
     "metadata": {},
     "source": [
      "<img src=\"http://eagle.fish.washington.edu/cnidarian/skitch/Screenshot_12_6_13_7_21_AM_18522312.png\" alt=\"Screenshot_12_6_13_7_21_AM_18522312.png\"/>\n"
     ]
    },
    {
     "cell_type": "heading",
     "level": 2,
     "metadata": {},
     "source": [
      "IGV "
     ]
    },
    {
     "cell_type": "code",
     "collapsed": false,
     "input": [
      "!head /Volumes/web/cnidarian/DMRmgavery_track1.bed"
     ],
     "language": "python",
     "metadata": {},
     "outputs": [
      {
       "output_type": "stream",
       "stream": "stdout",
       "text": [
        "scaffold1017\t117844\t118366\tHYPO\r\n",
        "scaffold1017\t120083\t120710\tHYPO\r\n",
        "scaffold1174\t585061\t585688\tHYPER\r\n",
        "scaffold1179\t1238509\t1239014\tHYPER\r\n",
        "scaffold1301\t958441\t958944\tHYPER\r\n",
        "scaffold1337\t331697\t331825\tHYPER\r\n",
        "scaffold1409\t145389\t145656\tHYPO\r\n",
        "scaffold146\t686526\t687786\tHYPO\r\n",
        "scaffold1532\t587965\t588458\tHYPO\r\n",
        "scaffold1562\t130359\t130794\tHYPER\r\n"
       ]
      }
     ],
     "prompt_number": 12
    },
    {
     "cell_type": "code",
     "collapsed": false,
     "input": [
      "#spot checks"
     ],
     "language": "python",
     "metadata": {},
     "outputs": [],
     "prompt_number": 14
    },
    {
     "cell_type": "markdown",
     "metadata": {},
     "source": [
      "<img src=\"http://eagle.fish.washington.edu/cnidarian/skitch/IGV_and_sr320_\u2014_igv.command_\u2014_java_\u2014_80\u00d724_18522760.png\" alt=\"IGV_and_sr320_\u2014_igv.command_\u2014_java_\u2014_80\u00d724_18522760.png\"/>"
     ]
    },
    {
     "cell_type": "markdown",
     "metadata": {},
     "source": [
      "<img src=\"http://eagle.fish.washington.edu/cnidarian/skitch/Liprin-beta-1_-_Homo_sapiens__Human__18522884.png\" alt=\"Liprin-beta-1_-_Homo_sapiens__Human__18522884.png\"/>"
     ]
    },
    {
     "cell_type": "markdown",
     "metadata": {},
     "source": [
      "<hr>"
     ]
    },
    {
     "cell_type": "markdown",
     "metadata": {},
     "source": [
      "<img src=\"http://eagle.fish.washington.edu/cnidarian/skitch/IGV_and_sr320_\u2014_igv.command_\u2014_java_\u2014_80\u00d724_18522A8B.png\" alt=\"IGV_and_sr320_\u2014_igv.command_\u2014_java_\u2014_80\u00d724_18522A8B.png\"/>"
     ]
    },
    {
     "cell_type": "code",
     "collapsed": false,
     "input": [],
     "language": "python",
     "metadata": {},
     "outputs": []
    }
   ],
   "metadata": {}
  }
 ]
}