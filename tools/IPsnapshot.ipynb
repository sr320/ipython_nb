{
 "metadata": {
  "name": ""
 },
 "nbformat": 3,
 "nbformat_minor": 0,
 "worksheets": [
  {
   "cells": [
    {
     "cell_type": "heading",
     "level": 1,
     "metadata": {},
     "source": [
      "Script to take html snapshot of IPython notebook "
     ]
    },
    {
     "cell_type": "code",
     "collapsed": false,
     "input": [
      "so it can be posted automatically online"
     ],
     "language": "python",
     "metadata": {},
     "outputs": []
    },
    {
     "cell_type": "code",
     "collapsed": false,
     "input": [
      "#NOTEBOOK NAME\n",
      "nb='BlackAb_Annot'\n",
      "\n",
      "#NOTEBOOK LOCATION\n",
      "nbloc='/Volumes/Shoelace/Dropbox/Steven/ipython_nb/'\n",
      "#nbloc='/Volumes/Shoelace/Dropbox/Steven/ipython_nb/fish546/'\n",
      "#nbloc='/Volumes/Shoelace/Dropbox/Steven/qdod/'\n",
      "#nbloc='/Users/sr320/Dropbox/Steven/ipython_nb/fish546/'\n",
      "\n",
      "#TIMESTAMP\n",
      "date=!date +%m%d_%H%M\n",
      "\n",
      "#LOCATION OF POST DIRECTORY\n",
      "#post='/Users/sr320/Dropbox/Public/ip/post'\n",
      "post='/Volumes/Shoelace/Dropbox/Public/ip/post'\n"
     ],
     "language": "python",
     "metadata": {},
     "outputs": [],
     "prompt_number": 1
    },
    {
     "cell_type": "code",
     "collapsed": false,
     "input": [
      "cd {post}\n"
     ],
     "language": "python",
     "metadata": {},
     "outputs": [
      {
       "output_type": "stream",
       "stream": "stdout",
       "text": [
        "/Volumes/Shoelace/Dropbox/Public/ip/post\n"
       ]
      }
     ],
     "prompt_number": 2
    },
    {
     "cell_type": "code",
     "collapsed": false,
     "input": [
      "!ipython nbconvert {nbloc}{nb} --to html --template full --output {nb}{date}\n"
     ],
     "language": "python",
     "metadata": {},
     "outputs": [
      {
       "output_type": "stream",
       "stream": "stdout",
       "text": [
        "/Users/sr320/anaconda/lib/python2.7/site-packages/IPython/frontend.py:30: UserWarning: The top-level `frontend` package has been deprecated. All its subpackages have been moved to the top `IPython` level.\r\n",
        "  warn(\"The top-level `frontend` package has been deprecated. \"\r\n"
       ]
      },
      {
       "output_type": "stream",
       "stream": "stdout",
       "text": [
        "[NbConvertApp] Using existing profile dir: u'/Users/sr320/.ipython/profile_default'\r\n",
        "[NbConvertApp] Converting notebook /Volumes/Shoelace/Dropbox/Steven/ipython_nb/BlackAb_Annot.ipynb to html\r\n",
        "[NbConvertApp] Support files will be in BlackAb_Annot[0214_1530]_files/\r\n"
       ]
      },
      {
       "output_type": "stream",
       "stream": "stdout",
       "text": [
        "[NbConvertApp] Loaded template html_full.tpl\r\n"
       ]
      },
      {
       "output_type": "stream",
       "stream": "stdout",
       "text": [
        "[NbConvertApp] Writing 283567 bytes to BlackAb_Annot[0214_1530].html\r\n"
       ]
      }
     ],
     "prompt_number": 3
    },
    {
     "cell_type": "code",
     "collapsed": false,
     "input": [],
     "language": "python",
     "metadata": {},
     "outputs": []
    }
   ],
   "metadata": {}
  }
 ]
}