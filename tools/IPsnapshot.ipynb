{
 "metadata": {
  "name": ""
 },
 "nbformat": 3,
 "nbformat_minor": 0,
 "worksheets": [
  {
   "cells": [
    {
     "cell_type": "heading",
     "level": 1,
     "metadata": {},
     "source": [
      "Script to take html snapshot of IPython notebook "
     ]
    },
    {
     "cell_type": "code",
     "collapsed": false,
     "input": [
      "so it can be posted automatically online"
     ],
     "language": "python",
     "metadata": {},
     "outputs": []
    },
    {
     "cell_type": "code",
     "collapsed": false,
     "input": [
      "#NOTEBOOK NAME\n",
      "nb='w3_RNAseq'\n",
      "\n",
      "#NOTEBOOK LOCATION\n",
      "#nbloc='/Volumes/Shoelace/Dropbox/Steven/ipython_nb/'\n",
      "#nbloc='/Volumes/Shoelace/Dropbox/Steven/ipython_nb/fish546/'\n",
      "#nbloc='/Volumes/Shoelace/Dropbox/Steven/qdod/'\n",
      "nbloc='/Users/sr320/Dropbox/Steven/ipython_nb/fish546/'\n",
      "\n",
      "#TIMESTAMP\n",
      "date=!date +%m%d_%H%M\n",
      "\n",
      "#LOCATION OF POST DIRECTORY\n",
      "post='/Users/sr320/Dropbox/Public/ip/post'\n",
      "#post='/Volumes/Shoelace/Dropbox/Public/ip/post'\n"
     ],
     "language": "python",
     "metadata": {},
     "outputs": [],
     "prompt_number": 7
    },
    {
     "cell_type": "code",
     "collapsed": false,
     "input": [
      "cd {post}\n"
     ],
     "language": "python",
     "metadata": {},
     "outputs": [
      {
       "output_type": "stream",
       "stream": "stdout",
       "text": [
        "/Users/sr320/Dropbox/Public/ip/post\n"
       ]
      }
     ],
     "prompt_number": 8
    },
    {
     "cell_type": "code",
     "collapsed": false,
     "input": [
      "!ipython nbconvert {nbloc}{nb} --to html --template full --output {nb}{date}\n"
     ],
     "language": "python",
     "metadata": {},
     "outputs": [
      {
       "output_type": "stream",
       "stream": "stdout",
       "text": [
        "[NbConvertApp] Using existing profile dir: u'/Users/sr320/.ipython/profile_default'\r\n"
       ]
      },
      {
       "output_type": "stream",
       "stream": "stdout",
       "text": [
        "[NbConvertApp] Converting notebook /Users/sr320/Dropbox/Steven/ipython_nb/fish546/w3_RNAseq.ipynb to html\r\n",
        "[NbConvertApp] Support files will be in w3_RNAseq[0214_1323]_files/\r\n"
       ]
      },
      {
       "output_type": "stream",
       "stream": "stdout",
       "text": [
        "[NbConvertApp] Loaded template html_full.tpl\r\n"
       ]
      },
      {
       "output_type": "stream",
       "stream": "stdout",
       "text": [
        "[NbConvertApp] Writing 625751 bytes to w3_RNAseq[0214_1323].html\r\n"
       ]
      }
     ],
     "prompt_number": 9
    },
    {
     "cell_type": "code",
     "collapsed": false,
     "input": [],
     "language": "python",
     "metadata": {},
     "outputs": []
    }
   ],
   "metadata": {}
  }
 ]
}