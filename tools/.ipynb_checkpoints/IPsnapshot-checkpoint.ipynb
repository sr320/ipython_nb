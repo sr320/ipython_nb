{
 "metadata": {
  "name": ""
 },
 "nbformat": 3,
 "nbformat_minor": 0,
 "worksheets": [
  {
   "cells": [
    {
     "cell_type": "heading",
     "level": 1,
     "metadata": {},
     "source": [
      "Script to take html snapshot of IPython notebook "
     ]
    },
    {
     "cell_type": "code",
     "collapsed": false,
     "input": [
      "so it can be posted automatically online"
     ],
     "language": "python",
     "metadata": {},
     "outputs": []
    },
    {
     "cell_type": "code",
     "collapsed": false,
     "input": [
      "#NOTEBOOK NAME\n",
      "nb='qDOD\\ RNAseq'\n",
      "\n",
      "#NOTEBOOK LOCATION\n",
      "#nbloc='/Volumes/Shoelace/Dropbox/Steven/ipython_nb/'\n",
      "#nbloc='/Volumes/Shoelace/Dropbox/Steven/ipython_nb/fish546/'\n",
      "nbloc='/Volumes/Shoelace/Dropbox/Steven/qdod/'\n",
      "\n",
      "#TIMESTAMP\n",
      "date=!date +%m%d_%H%M\n",
      "\n",
      "#LOCATION OF POST DIRECTORY\n",
      "#post='/Users/sr320/Dropbox/Public/ip/post'\n",
      "post='/Volumes/Shoelace/Dropbox/Public/ip/post'\n"
     ],
     "language": "python",
     "metadata": {},
     "outputs": []
    },
    {
     "cell_type": "code",
     "collapsed": false,
     "input": [
      "cd {post}\n"
     ],
     "language": "python",
     "metadata": {},
     "outputs": []
    },
    {
     "cell_type": "code",
     "collapsed": false,
     "input": [
      "!ipython nbconvert {nbloc}{nb} --to html --template full --output {nb}{date}\n"
     ],
     "language": "python",
     "metadata": {},
     "outputs": []
    }
   ],
   "metadata": {}
  }
 ]
}