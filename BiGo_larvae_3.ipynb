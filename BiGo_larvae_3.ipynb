{
 "metadata": {
  "name": "",
  "signature": "sha256:1c5d8b9ea76f0c77d08e86e4f944e8e585a42fb9cb9c7dbbf2dee18be088f4c8"
 },
 "nbformat": 3,
 "nbformat_minor": 0,
 "worksheets": [
  {
   "cells": [
    {
     "cell_type": "heading",
     "level": 1,
     "metadata": {},
     "source": [
      "Goal: Larvae BS data (adaptor trimmed) from methratio to genome feature tracks"
     ]
    },
    {
     "cell_type": "heading",
     "level": 2,
     "metadata": {},
     "source": [
      "methratio files"
     ]
    },
    {
     "cell_type": "markdown",
     "metadata": {},
     "source": [
      "<img src=\"http://eagle.fish.washington.edu/cnidarian/skitch/Index_of__Volumes_web_Mollusk_bs_larvae_exp_AdapterTrimmed_methratio_files__19198F3E.png\" width=75% alt=\"Index_of__Volumes_web_Mollusk_bs_larvae_exp_AdapterTrimmed_methratio_files__19198F3E.png\"/>"
     ]
    },
    {
     "cell_type": "markdown",
     "metadata": {},
     "source": [
      "<http://eagle.fish.washington.edu/Mollusk/index.php?dir=bs_larvae_exp%2FAdapterTrimmed_methratio_files%2F>"
     ]
    },
    {
     "cell_type": "code",
     "collapsed": false,
     "input": [
      "!head /Volumes/web/Mollusk/bs_larvae_exp/AdapterTrimmed_methratio_files/methratio_out_M1.txt"
     ],
     "language": "python",
     "metadata": {},
     "outputs": [
      {
       "output_type": "stream",
       "stream": "stdout",
       "text": [
        "chr\tpos\tstrand\tcontext\tratio\teff_CT_count\tC_count\tCT_count\trev_G_count\trev_GA_count\tCI_lower\tCI_upper\r\n",
        "C12706\t51\t-\tCAGAG\t0.000\t1.00\t0\t1\t0\t0\t0.000\t0.793\r\n",
        "C12706\t53\t-\tGAGAG\t0.000\t1.00\t0\t1\t0\t0\t0.000\t0.793\r\n",
        "C12706\t55\t-\tGAGGG\t0.000\t1.00\t0\t1\t0\t0\t0.000\t0.793\r\n",
        "C12706\t60\t-\tAAGAA\t0.000\t1.00\t0\t1\t0\t0\t0.000\t0.793\r\n",
        "C12706\t69\t+\tTCCGC\t0.000\t1.00\t0\t1\t1\t1\t0.000\t0.793\r\n",
        "C12706\t71\t+\tCGCGT\t0.000\t1.00\t0\t1\t1\t1\t0.000\t0.793\r\n",
        "C12706\t78\t-\tTTGAA\t0.000\t1.00\t0\t1\t0\t0\t0.000\t0.793\r\n",
        "C12706\t82\t-\tATGTC\t0.000\t1.00\t0\t1\t0\t0\t0.000\t0.793\r\n",
        "C12706\t95\t-\tTTGCA\t0.000\t1.00\t0\t1\t0\t0\t0.000\t0.793\r\n"
       ]
      }
     ],
     "prompt_number": 3
    },
    {
     "cell_type": "heading",
     "level": 2,
     "metadata": {},
     "source": [
      "Convert with awk"
     ]
    },
    {
     "cell_type": "markdown",
     "metadata": {},
     "source": [
      "take above file and generate table as such  \n",
      "```\n",
      "chr as seqname, 'methratio' as source, 'CpG' as feature, pos as start, pos + 1 as [end], ratio as score, strand, '.' as frame, '.' as attribute\n",
      "\n",
      "where \n",
      "context like '__CG_' \n",
      "and\n",
      "CT_Count > 3\n",
      "```\n",
      "\n",
      "example output\n",
      "```\n",
      "    seqname source feature start end score strand frame attribute\n",
      "    C12706 methratio CpG 71 72\t0.000 +\t. . \n",
      "```    "
     ]
    },
    {
     "cell_type": "code",
     "collapsed": false,
     "input": [],
     "language": "python",
     "metadata": {},
     "outputs": []
    },
    {
     "cell_type": "heading",
     "level": 2,
     "metadata": {},
     "source": [
      "Conversion to GFF using SQLShare"
     ]
    },
    {
     "cell_type": "code",
     "collapsed": false,
     "input": [
      "!python /Users/sr320/sqlshare-pythonclient/tools/singleupload.py -d scratch_methratio_out /Volumes/web/Mollusk/bs_larvae_exp/AdapterTrimmed_methratio_files/methratio_out_M1.txt\n"
     ],
     "language": "python",
     "metadata": {},
     "outputs": [
      {
       "output_type": "stream",
       "stream": "stdout",
       "text": [
        "processing chunk line 0 to 1945274 (3.89732503891 s elapsed)\r\n"
       ]
      },
      {
       "output_type": "stream",
       "stream": "stdout",
       "text": [
        "pushing /Volumes/web/Mollusk/bs_larvae_exp/AdapterTrimmed_methratio_files/methratio_out_M1.txt...\r\n"
       ]
      },
      {
       "output_type": "stream",
       "stream": "stdout",
       "text": [
        "parsing ED163753...\r\n"
       ]
      },
      {
       "output_type": "stream",
       "stream": "stdout",
       "text": [
        "processing chunk line 1945274 to 3736796 (273.087306023 s elapsed)\r\n"
       ]
      },
      {
       "output_type": "stream",
       "stream": "stdout",
       "text": [
        "pushing /Volumes/web/Mollusk/bs_larvae_exp/AdapterTrimmed_methratio_files/methratio_out_M1.txt...\r\n"
       ]
      },
      {
       "output_type": "stream",
       "stream": "stdout",
       "text": [
        "parsing 53DD1195...\r\n"
       ]
      },
      {
       "output_type": "stream",
       "stream": "stdout",
       "text": [
        "processing chunk line 3736796 to 5525892 (546.91216898 s elapsed)\r\n"
       ]
      },
      {
       "output_type": "stream",
       "stream": "stdout",
       "text": [
        "pushing /Volumes/web/Mollusk/bs_larvae_exp/AdapterTrimmed_methratio_files/methratio_out_M1.txt...\r\n"
       ]
      }
     ]
    },
    {
     "cell_type": "code",
     "collapsed": false,
     "input": [],
     "language": "python",
     "metadata": {},
     "outputs": []
    }
   ],
   "metadata": {}
  }
 ]
}