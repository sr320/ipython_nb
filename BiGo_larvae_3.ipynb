{
 "metadata": {
  "name": "",
  "signature": "sha256:82b278365a909ca2b254310dbd0f195393659170ac6cc6e2ffd502d9119e5baf"
 },
 "nbformat": 3,
 "nbformat_minor": 0,
 "worksheets": [
  {
   "cells": [
    {
     "cell_type": "heading",
     "level": 1,
     "metadata": {},
     "source": [
      "Goal: Larvae BS data (adaptor trimmed) - getting it analyzed."
     ]
    },
    {
     "cell_type": "markdown",
     "metadata": {},
     "source": [
      "This has morphed a bit based on data exploration and options for analysis."
     ]
    },
    {
     "cell_type": "code",
     "collapsed": false,
     "input": [],
     "language": "python",
     "metadata": {},
     "outputs": []
    },
    {
     "cell_type": "heading",
     "level": 2,
     "metadata": {},
     "source": [
      "methratio files"
     ]
    },
    {
     "cell_type": "markdown",
     "metadata": {},
     "source": [
      "<img src=\"http://eagle.fish.washington.edu/cnidarian/skitch/Index_of__Volumes_web_Mollusk_bs_larvae_exp_AdapterTrimmed_methratio_files__19198F3E.png\" width=75% alt=\"Index_of__Volumes_web_Mollusk_bs_larvae_exp_AdapterTrimmed_methratio_files__19198F3E.png\"/>"
     ]
    },
    {
     "cell_type": "markdown",
     "metadata": {},
     "source": [
      "<http://eagle.fish.washington.edu/Mollusk/index.php?dir=bs_larvae_exp%2FAdapterTrimmed_methratio_files%2F>"
     ]
    },
    {
     "cell_type": "code",
     "collapsed": false,
     "input": [
      "!head /Volumes/web/Mollusk/bs_larvae_exp/AdapterTrimmed_methratio_files/methratio_out_M1.txt"
     ],
     "language": "python",
     "metadata": {},
     "outputs": [
      {
       "output_type": "stream",
       "stream": "stdout",
       "text": [
        "chr\tpos\tstrand\tcontext\tratio\teff_CT_count\tC_count\tCT_count\trev_G_count\trev_GA_count\tCI_lower\tCI_upper\r\n",
        "C12706\t51\t-\tCAGAG\t0.000\t1.00\t0\t1\t0\t0\t0.000\t0.793\r\n",
        "C12706\t53\t-\tGAGAG\t0.000\t1.00\t0\t1\t0\t0\t0.000\t0.793\r\n",
        "C12706\t55\t-\tGAGGG\t0.000\t1.00\t0\t1\t0\t0\t0.000\t0.793\r\n",
        "C12706\t60\t-\tAAGAA\t0.000\t1.00\t0\t1\t0\t0\t0.000\t0.793\r\n",
        "C12706\t69\t+\tTCCGC\t0.000\t1.00\t0\t1\t1\t1\t0.000\t0.793\r\n",
        "C12706\t71\t+\tCGCGT\t0.000\t1.00\t0\t1\t1\t1\t0.000\t0.793\r\n",
        "C12706\t78\t-\tTTGAA\t0.000\t1.00\t0\t1\t0\t0\t0.000\t0.793\r\n",
        "C12706\t82\t-\tATGTC\t0.000\t1.00\t0\t1\t0\t0\t0.000\t0.793\r\n",
        "C12706\t95\t-\tTTGCA\t0.000\t1.00\t0\t1\t0\t0\t0.000\t0.793\r\n"
       ]
      }
     ],
     "prompt_number": 3
    },
    {
     "cell_type": "heading",
     "level": 2,
     "metadata": {},
     "source": [
      "Convert with awk"
     ]
    },
    {
     "cell_type": "markdown",
     "metadata": {},
     "source": [
      "take above file and generate table as such  \n",
      "```\n",
      "chr as seqname, 'methratio' as source, 'CpG' as feature, pos as start, pos + 1 as [end], ratio as score, strand, '.' as frame, '.' as attribute\n",
      "\n",
      "where \n",
      "context like '__CG_' \n",
      "and\n",
      "CT_Count > 3\n",
      "```\n",
      "\n",
      "example output\n",
      "```\n",
      "    seqname source feature start end score strand frame attribute\n",
      "    C12706 methratio CpG 71 72\t0.000 +\t. . \n",
      "```    "
     ]
    },
    {
     "cell_type": "heading",
     "level": 3,
     "metadata": {},
     "source": [
      "via grep / awk"
     ]
    },
    {
     "cell_type": "code",
     "collapsed": false,
     "input": [
      "cd /Volumes/web/cnidarian/BiGo_larvae_3"
     ],
     "language": "python",
     "metadata": {},
     "outputs": [
      {
       "output_type": "stream",
       "stream": "stdout",
       "text": [
        "/Volumes/web/cnidarian/BiGo_larvae_3\n"
       ]
      }
     ],
     "prompt_number": 16
    },
    {
     "cell_type": "code",
     "collapsed": false,
     "input": [
      "ls"
     ],
     "language": "python",
     "metadata": {},
     "outputs": [
      {
       "output_type": "stream",
       "stream": "stdout",
       "text": [
        "methratio_out_M1.txt    methratio_out_T1D3.txt  methratio_out_T3D3.txt\r\n",
        "methratio_out_M3.txt    methratio_out_T1D5.txt  methratio_out_T3D5.txt\r\n"
       ]
      }
     ],
     "prompt_number": 17
    },
    {
     "cell_type": "code",
     "collapsed": false,
     "input": [
      "samp=\"M1\""
     ],
     "language": "python",
     "metadata": {},
     "outputs": [],
     "prompt_number": 18
    },
    {
     "cell_type": "code",
     "collapsed": false,
     "input": [
      "#command for only obtaining the context '__CG_'\n",
      "!grep \"[A-Z][A-Z]CG[A-Z]\" <methratio_out_{samp}.txt> methratio_out_{samp}_CG.txt \n",
      "#53x coverage\n",
      "!awk '{if ($8 >= 3) print $1,\"methratio\",\"CpG\",$2,$2+1,$5,\".\",\".\"}' <methratio_out_{samp}_CG.txt> filt_methratio_out_{samp}_CG.gff \n",
      "!tr ' ' \"\\t\" <filt_methratio_out_{samp}_CG.gff> filt3_{samp}.gff"
     ],
     "language": "python",
     "metadata": {},
     "outputs": [
      {
       "output_type": "stream",
       "stream": "stdout",
       "text": [
        "/bin/sh: methratio_out_{samp}_CG.txt: No such file or directory\r\n"
       ]
      },
      {
       "output_type": "stream",
       "stream": "stdout",
       "text": [
        "/bin/sh: filt_methratio_out_M1_CG.gff: No such file or directory\r\n"
       ]
      }
     ],
     "prompt_number": 19
    },
    {
     "cell_type": "code",
     "collapsed": false,
     "input": [
      "#command for only obtaining the context '__CG_'\n",
      "!grep \"[A-Z][A-Z]CG[A-Z]\" <methratio_out_M1.txt> methratio_out_M1_CG.txt \n",
      "#3x coverage\n",
      "!awk '{if ($8 >= 3) print $1,\"methratio\",\"CpG\",$2,$2+1,$5,\".\",\".\"}' <methratio_out_M1_CG.txt> filt_methratio_out_M1_CG.gff \n",
      "!tr ' ' \"\\t\" <filt_methratio_out_M1_CG.gff> filt3_M1.gff"
     ],
     "language": "python",
     "metadata": {},
     "outputs": [],
     "prompt_number": 21
    },
    {
     "cell_type": "code",
     "collapsed": false,
     "input": [
      "!head filt3_M1.gff"
     ],
     "language": "python",
     "metadata": {},
     "outputs": [
      {
       "output_type": "stream",
       "stream": "stdout",
       "text": [
        "C12768\tmethratio\tCpG\t103\t104\t0.167\t.\t.\r\n",
        "C12768\tmethratio\tCpG\t119\t120\t0.250\t.\t.\r\n",
        "C12768\tmethratio\tCpG\t145\t146\t0.000\t.\t.\r\n",
        "C12806\tmethratio\tCpG\t56\t57\t0.000\t.\t.\r\n",
        "C12806\tmethratio\tCpG\t76\t77\t0.200\t.\t.\r\n",
        "C12806\tmethratio\tCpG\t78\t79\t0.200\t.\t.\r\n",
        "C12806\tmethratio\tCpG\t105\t106\t0.250\t.\t.\r\n",
        "C12806\tmethratio\tCpG\t142\t143\t0.375\t.\t.\r\n",
        "C12924\tmethratio\tCpG\t19\t20\t0.000\t.\t.\r\n",
        "C12924\tmethratio\tCpG\t30\t31\t0.000\t.\t.\r\n"
       ]
      }
     ],
     "prompt_number": 22
    },
    {
     "cell_type": "code",
     "collapsed": false,
     "input": [
      "#make igv\n",
      "!awk '{if ($8 >= 3) print $1,$2-1,$2+1,\"CpG\",$5}' <methratio_out_M1_CG.txt> filt_methratio_out_M1_CG.igv \n",
      "!tr ' ' \"\\t\" <filt_methratio_out_M1_CG.igv> filt3_M1.igv"
     ],
     "language": "python",
     "metadata": {},
     "outputs": [],
     "prompt_number": 23
    },
    {
     "cell_type": "code",
     "collapsed": false,
     "input": [
      "#make igv\n",
      "!grep \"[A-Z][A-Z]CG[A-Z]\" <methratio_out_M3.txt> methratio_out_M3_CG.txt \n",
      "!awk '{if ($8 >= 3) print $1,$2-1,$2+1,\"CpG\",$5}' <methratio_out_M3_CG.txt> filt_methratio_out_M3_CG.igv \n",
      "!tr ' ' \"\\t\" <filt_methratio_out_M3_CG.igv> filt3_M3.igv"
     ],
     "language": "python",
     "metadata": {},
     "outputs": [],
     "prompt_number": 24
    },
    {
     "cell_type": "code",
     "collapsed": false,
     "input": [
      "#make igv with join column\n",
      "!awk '{if ($8 >= 3) print $1\"_\"$2-1,$1,$2-1,$2+1,\"CpG\",$5,$8}' <methratio_out_M3_CG.txt> filt_methratio_out_M3_CGj.txt \n",
      "!tr ' ' \"\\t\" <filt_methratio_out_M3_CGj.txt> filt3_M3j.txt"
     ],
     "language": "python",
     "metadata": {},
     "outputs": [],
     "prompt_number": 42
    },
    {
     "cell_type": "code",
     "collapsed": false,
     "input": [
      "#make igv with join column\n",
      "!awk '{if ($8 >= 3) print $1\"_\"$2-1,$1,$2-1,$2+1,\"CpG\",$5,$8}' <methratio_out_M1_CG.txt> filt_methratio_out_M1_CGj.txt \n",
      "!tr ' ' \"\\t\" <filt_methratio_out_M1_CGj.txt> filt3_M1j.txt"
     ],
     "language": "python",
     "metadata": {},
     "outputs": [],
     "prompt_number": 41
    },
    {
     "cell_type": "code",
     "collapsed": false,
     "input": [
      "!head filt3_M1j.txt"
     ],
     "language": "python",
     "metadata": {},
     "outputs": [
      {
       "output_type": "stream",
       "stream": "stdout",
       "text": [
        "C12768_102\tC12768\t102\t104\tCpG\t0.167\r\n",
        "C12768_118\tC12768\t118\t120\tCpG\t0.250\r\n",
        "C12768_144\tC12768\t144\t146\tCpG\t0.000\r\n",
        "C12806_55\tC12806\t55\t57\tCpG\t0.000\r\n",
        "C12806_75\tC12806\t75\t77\tCpG\t0.200\r\n",
        "C12806_77\tC12806\t77\t79\tCpG\t0.200\r\n",
        "C12806_104\tC12806\t104\t106\tCpG\t0.250\r\n",
        "C12806_141\tC12806\t141\t143\tCpG\t0.375\r\n",
        "C12924_18\tC12924\t18\t20\tCpG\t0.000\r\n",
        "C12924_29\tC12924\t29\t31\tCpG\t0.000\r\n"
       ]
      }
     ],
     "prompt_number": 39
    },
    {
     "cell_type": "code",
     "collapsed": false,
     "input": [
      "!echo \"M3ID M3scaffold M3start M3end M3feat M3ratio M3coverage\" >> m3head"
     ],
     "language": "python",
     "metadata": {},
     "outputs": [],
     "prompt_number": 77
    },
    {
     "cell_type": "code",
     "collapsed": false,
     "input": [
      "!head m1head"
     ],
     "language": "python",
     "metadata": {},
     "outputs": [
      {
       "output_type": "stream",
       "stream": "stdout",
       "text": [
        "M1ID M1scaffold M1start M1end M1feat M1ratio M1coverage\r\n"
       ]
      }
     ],
     "prompt_number": 78
    },
    {
     "cell_type": "code",
     "collapsed": false,
     "input": [
      "ls"
     ],
     "language": "python",
     "metadata": {},
     "outputs": [
      {
       "output_type": "stream",
       "stream": "stdout",
       "text": [
        "filt3_M1.gff                     hdfilt_methratio_out_M1_CGj.txt\r\n",
        "filt3_M1.igv                     m1head\r\n",
        "filt3_M1j.txt                    methratio_out_M1.txt\r\n",
        "filt3_M3.igv                     methratio_out_M1_CG.txt\r\n",
        "filt3_M3j.igv                    methratio_out_M3.txt\r\n",
        "filt3_M3j.txt                    methratio_out_M3_CG.txt\r\n",
        "filt_methratio_out_M1_CG.gff     methratio_out_T1D3.txt\r\n",
        "filt_methratio_out_M1_CG.igv     methratio_out_T1D5.txt\r\n",
        "filt_methratio_out_M1_CGj.txt    methratio_out_T3D3.txt\r\n",
        "filt_methratio_out_M3_CG.igv     methratio_out_T3D5.txt\r\n",
        "filt_methratio_out_M3_CGj.igv    test\r\n",
        "filt_methratio_out_M3_CGj.txt    test2\r\n"
       ]
      }
     ],
     "prompt_number": 69
    },
    {
     "cell_type": "code",
     "collapsed": false,
     "input": [
      "!cat m3head filt_methratio_out_M3_CGj.txt > hdfilt_methratio_out_M3_CGj.txt"
     ],
     "language": "python",
     "metadata": {},
     "outputs": [],
     "prompt_number": 79
    },
    {
     "cell_type": "code",
     "collapsed": false,
     "input": [
      "!head hdfilt_methratio_out_M3_CGj.txt"
     ],
     "language": "python",
     "metadata": {},
     "outputs": [
      {
       "output_type": "stream",
       "stream": "stdout",
       "text": [
        "M3ID M3scaffold M3start M3end M3feat M3ratio M3coverage\r\n",
        "C12806_141 C12806 141 143 CpG 0.000 4\r\n",
        "C12866_161 C12866 161 163 CpG 0.000 3\r\n",
        "C12960_122 C12960 122 124 CpG 0.000 3\r\n",
        "C12994_133 C12994 133 135 CpG 0.000 3\r\n",
        "C13046_75 C13046 75 77 CpG 0.000 3\r\n",
        "C13074_145 C13074 145 147 CpG 0.000 3\r\n",
        "C13080_101 C13080 101 103 CpG 0.000 3\r\n",
        "C13080_110 C13080 110 112 CpG 0.000 3\r\n",
        "C13080_129 C13080 129 131 CpG 0.000 3\r\n"
       ]
      }
     ],
     "prompt_number": 82
    },
    {
     "cell_type": "code",
     "collapsed": false,
     "input": [
      "!tr ' ' \"\\t\" <hdfilt_methratio_out_M1_CGj.txt> filt3_M1j.txt"
     ],
     "language": "python",
     "metadata": {},
     "outputs": [],
     "prompt_number": 75
    },
    {
     "cell_type": "code",
     "collapsed": false,
     "input": [
      "!tr ' ' \"\\t\" <hdfilt_methratio_out_M3_CGj.txt> filt3_M3j.txt"
     ],
     "language": "python",
     "metadata": {},
     "outputs": [],
     "prompt_number": 84
    },
    {
     "cell_type": "code",
     "collapsed": false,
     "input": [
      "!python /Users/sr320/sqlshare-pythonclient/tools/singleupload.py -d filt3_M3 filt3_M3j.txt\n"
     ],
     "language": "python",
     "metadata": {},
     "outputs": [
      {
       "output_type": "stream",
       "stream": "stdout",
       "text": [
        "processing chunk line 0 to 1364437 (0.66103887558 s elapsed)\r\n"
       ]
      },
      {
       "output_type": "stream",
       "stream": "stdout",
       "text": [
        "pushing filt3_M3j.txt...\r\n"
       ]
      },
      {
       "output_type": "stream",
       "stream": "stdout",
       "text": [
        "parsing B0EB1C71...\r\n"
       ]
      },
      {
       "output_type": "stream",
       "stream": "stdout",
       "text": [
        "finished filt3_M3\r\n"
       ]
      }
     ],
     "prompt_number": 85
    },
    {
     "cell_type": "code",
     "collapsed": false,
     "input": [
      "!python /Users/sr320/sqlshare-pythonclient/tools/singleupload.py -d filt3_M1 filt3_M1j.txt\n"
     ],
     "language": "python",
     "metadata": {},
     "outputs": [
      {
       "output_type": "stream",
       "stream": "stdout",
       "text": [
        "processing chunk line 0 to 1218606 (0.596918106079 s elapsed)\r\n"
       ]
      },
      {
       "output_type": "stream",
       "stream": "stdout",
       "text": [
        "pushing filt3_M1j.txt...\r\n"
       ]
      },
      {
       "output_type": "stream",
       "stream": "stdout",
       "text": [
        "parsing B993D808...\r\n"
       ]
      },
      {
       "output_type": "stream",
       "stream": "stdout",
       "text": [
        "finished filt3_M1\r\n"
       ]
      }
     ],
     "prompt_number": 76
    },
    {
     "cell_type": "heading",
     "level": 3,
     "metadata": {},
     "source": [
      "Clean convert"
     ]
    },
    {
     "cell_type": "code",
     "collapsed": false,
     "input": [
      "smp=\"M1\"\n",
      "#Need to manually change id in awk line."
     ],
     "language": "python",
     "metadata": {},
     "outputs": [],
     "prompt_number": 130
    },
    {
     "cell_type": "code",
     "collapsed": false,
     "input": [
      "#cg only\n",
      "#!grep \"[A-Z][A-Z]CG[A-Z]\" <methratio_out_{smp}.txt> methratio_out_{smp}_CG.txt \n",
      "#!sed '/NA/d' methratio_out_{smp}_CG.txt > methratio_out_{smp}_CGna.txt\n",
      "#make join column, 3x etc\n",
      "!awk '{if ($8 >= 3) print $1\"_\"$2,$1,$2,$2+1,\"CpG\",$5,$8}' <methratio_out_M1_CGna.txt> filt_methratio_out_M1_CGj.txt \n",
      "#print header\n",
      "!echo \"{smp}ID {smp}scaffold {smp}start {smp}end {smp}feat {smp}ratio {smp}coverage\" >> {smp}head\n",
      "#add header\n",
      "!cat {smp}head filt_methratio_out_{smp}_CGj.txt > hdfilt_methratio_out_{smp}_CGj.txt\n",
      "!tr ' ' \"\\t\" <hdfilt_methratio_out_{smp}_CGj.txt> filt3_{smp}j.txt\n",
      "#upload to sqlshare\n",
      "!python /Users/sr320/sqlshare-pythonclient/tools/singleupload.py -d filt3_{smp} filt3_{smp}j.txt"
     ],
     "language": "python",
     "metadata": {},
     "outputs": [
      {
       "output_type": "stream",
       "stream": "stdout",
       "text": [
        "processing chunk line 0 to 1212751 (0.757140159607 s elapsed)\r\n"
       ]
      },
      {
       "output_type": "stream",
       "stream": "stdout",
       "text": [
        "pushing filt3_M1j.txt...\r\n"
       ]
      },
      {
       "output_type": "stream",
       "stream": "stdout",
       "text": [
        "parsing 57755226...\r\n"
       ]
      },
      {
       "output_type": "stream",
       "stream": "stdout",
       "text": [
        "finished filt3_M1\r\n"
       ]
      }
     ],
     "prompt_number": 132
    },
    {
     "cell_type": "code",
     "collapsed": false,
     "input": [
      "smp=\"M3\""
     ],
     "language": "python",
     "metadata": {},
     "outputs": [],
     "prompt_number": 133
    },
    {
     "cell_type": "code",
     "collapsed": false,
     "input": [
      "#cg only\n",
      "!grep \"[A-Z][A-Z]CG[A-Z]\" <methratio_out_{smp}.txt> methratio_out_{smp}_CG.txt \n",
      "!sed '/NA/d' methratio_out_{smp}_CG.txt > methratio_out_{smp}_CGna.txt\n",
      "#make join column, 3x etc\n",
      "!awk '{if ($8 >= 3) print $1\"_\"$2,$1,$2,$2+1,\"CpG\",$5,$8}' <methratio_out_M3_CGna.txt> filt_methratio_out_M3_CGj.txt \n",
      "#print header\n",
      "!echo \"{smp}ID {smp}scaffold {smp}start {smp}end {smp}feat {smp}ratio {smp}coverage\" >> {smp}head\n",
      "#add header\n",
      "!cat {smp}head filt_methratio_out_{smp}_CGj.txt > hdfilt_methratio_out_{smp}_CGj.txt\n",
      "!tr ' ' \"\\t\" <hdfilt_methratio_out_{smp}_CGj.txt> filt3_{smp}j.txt\n",
      "#upload to sqlshare\n",
      "!python /Users/sr320/sqlshare-pythonclient/tools/singleupload.py -d filt3_{smp} filt3_{smp}j.txt"
     ],
     "language": "python",
     "metadata": {},
     "outputs": [
      {
       "output_type": "stream",
       "stream": "stdout",
       "text": [
        "processing chunk line 0 to 1360752 (0.855348110199 s elapsed)\r\n"
       ]
      },
      {
       "output_type": "stream",
       "stream": "stdout",
       "text": [
        "pushing filt3_M3j.txt...\r\n"
       ]
      },
      {
       "output_type": "stream",
       "stream": "stdout",
       "text": [
        "parsing 831E6928...\r\n"
       ]
      },
      {
       "output_type": "stream",
       "stream": "stdout",
       "text": [
        "finished filt3_M3\r\n"
       ]
      }
     ],
     "prompt_number": 134
    },
    {
     "cell_type": "code",
     "collapsed": false,
     "input": [
      "smp=\"T1D3\""
     ],
     "language": "python",
     "metadata": {},
     "outputs": [],
     "prompt_number": 135
    },
    {
     "cell_type": "code",
     "collapsed": false,
     "input": [
      "#cg only\n",
      "!grep \"[A-Z][A-Z]CG[A-Z]\" <methratio_out_{smp}.txt> methratio_out_{smp}_CG.txt \n",
      "!sed '/NA/d' methratio_out_{smp}_CG.txt > methratio_out_{smp}_CGna.txt\n",
      "#make join column, 3x etc\n",
      "!awk '{if ($8 >= 3) print $1\"_\"$2,$1,$2,$2+1,\"CpG\",$5,$8}' <methratio_out_T1D3_CGna.txt> filt_methratio_out_T1D3_CGj.txt \n",
      "#print header\n",
      "!echo \"{smp}ID {smp}scaffold {smp}start {smp}end {smp}feat {smp}ratio {smp}coverage\" >> {smp}head\n",
      "#add header\n",
      "!cat {smp}head filt_methratio_out_{smp}_CGj.txt > hdfilt_methratio_out_{smp}_CGj.txt\n",
      "!tr ' ' \"\\t\" <hdfilt_methratio_out_{smp}_CGj.txt> filt3_{smp}j.txt\n",
      "#upload to sqlshare\n",
      "!python /Users/sr320/sqlshare-pythonclient/tools/singleupload.py -d filt3_{smp} filt3_{smp}j.txt"
     ],
     "language": "python",
     "metadata": {},
     "outputs": [
      {
       "output_type": "stream",
       "stream": "stdout",
       "text": [
        "processing chunk line 0 to 251459 (0.165581941605 s elapsed)\r\n"
       ]
      },
      {
       "output_type": "stream",
       "stream": "stdout",
       "text": [
        "pushing filt3_T1D3j.txt...\r\n"
       ]
      },
      {
       "output_type": "stream",
       "stream": "stdout",
       "text": [
        "parsing 582E2A55...\r\n"
       ]
      },
      {
       "output_type": "stream",
       "stream": "stdout",
       "text": [
        "finished filt3_T1D3\r\n"
       ]
      }
     ],
     "prompt_number": 136
    },
    {
     "cell_type": "code",
     "collapsed": false,
     "input": [
      "smp=\"T1D5\""
     ],
     "language": "python",
     "metadata": {},
     "outputs": [],
     "prompt_number": 137
    },
    {
     "cell_type": "code",
     "collapsed": false,
     "input": [
      "#cg only\n",
      "!grep \"[A-Z][A-Z]CG[A-Z]\" <methratio_out_{smp}.txt> methratio_out_{smp}_CG.txt \n",
      "!sed '/NA/d' methratio_out_{smp}_CG.txt > methratio_out_{smp}_CGna.txt\n",
      "#make join column, 3x etc\n",
      "!awk '{if ($8 >= 3) print $1\"_\"$2,$1,$2,$2+1,\"CpG\",$5,$8}' <methratio_out_T1D5_CGna.txt> filt_methratio_out_T1D5_CGj.txt \n",
      "#print header\n",
      "!echo \"{smp}ID {smp}scaffold {smp}start {smp}end {smp}feat {smp}ratio {smp}coverage\" >> {smp}head\n",
      "#add header\n",
      "!cat {smp}head filt_methratio_out_{smp}_CGj.txt > hdfilt_methratio_out_{smp}_CGj.txt\n",
      "!tr ' ' \"\\t\" <hdfilt_methratio_out_{smp}_CGj.txt> filt3_{smp}j.txt\n",
      "#upload to sqlshare\n",
      "!python /Users/sr320/sqlshare-pythonclient/tools/singleupload.py -d filt3_{smp} filt3_{smp}j.txt"
     ],
     "language": "python",
     "metadata": {},
     "outputs": [
      {
       "output_type": "stream",
       "stream": "stdout",
       "text": [
        "processing chunk line 0 to 873151 (0.512318849564 s elapsed)\r\n",
        "pushing filt3_T1D5j.txt...\r\n"
       ]
      },
      {
       "output_type": "stream",
       "stream": "stdout",
       "text": [
        "parsing C5B90BB9...\r\n"
       ]
      },
      {
       "output_type": "stream",
       "stream": "stdout",
       "text": [
        "finished filt3_T1D5\r\n"
       ]
      }
     ],
     "prompt_number": 138
    },
    {
     "cell_type": "code",
     "collapsed": false,
     "input": [
      "smp=\"T3D3\""
     ],
     "language": "python",
     "metadata": {},
     "outputs": [],
     "prompt_number": 139
    },
    {
     "cell_type": "code",
     "collapsed": false,
     "input": [
      "#cg only\n",
      "!grep \"[A-Z][A-Z]CG[A-Z]\" <methratio_out_{smp}.txt> methratio_out_{smp}_CG.txt \n",
      "!sed '/NA/d' methratio_out_{smp}_CG.txt > methratio_out_{smp}_CGna.txt\n",
      "#make join column, 3x etc\n",
      "!awk '{if ($8 >= 3) print $1\"_\"$2,$1,$2,$2+1,\"CpG\",$5,$8}' <methratio_out_T3D3_CGna.txt> filt_methratio_out_T3D3_CGj.txt \n",
      "#print header\n",
      "!echo \"{smp}ID {smp}scaffold {smp}start {smp}end {smp}feat {smp}ratio {smp}coverage\" >> {smp}head\n",
      "#add header\n",
      "!cat {smp}head filt_methratio_out_{smp}_CGj.txt > hdfilt_methratio_out_{smp}_CGj.txt\n",
      "!tr ' ' \"\\t\" <hdfilt_methratio_out_{smp}_CGj.txt> filt3_{smp}j.txt\n",
      "#upload to sqlshare\n",
      "!python /Users/sr320/sqlshare-pythonclient/tools/singleupload.py -d filt3_{smp} filt3_{smp}j.txt"
     ],
     "language": "python",
     "metadata": {},
     "outputs": [
      {
       "output_type": "stream",
       "stream": "stdout",
       "text": [
        "processing chunk line 0 to 1157485 (1.06684994698 s elapsed)\r\n"
       ]
      },
      {
       "output_type": "stream",
       "stream": "stdout",
       "text": [
        "pushing filt3_T3D3j.txt...\r\n"
       ]
      },
      {
       "output_type": "stream",
       "stream": "stdout",
       "text": [
        "parsing 927E672B...\r\n"
       ]
      },
      {
       "output_type": "stream",
       "stream": "stdout",
       "text": [
        "finished filt3_T3D3\r\n"
       ]
      }
     ],
     "prompt_number": 140
    },
    {
     "cell_type": "code",
     "collapsed": false,
     "input": [
      "smp=\"T3D5\""
     ],
     "language": "python",
     "metadata": {},
     "outputs": [],
     "prompt_number": 141
    },
    {
     "cell_type": "code",
     "collapsed": false,
     "input": [
      "#cg only\n",
      "!grep \"[A-Z][A-Z]CG[A-Z]\" <methratio_out_{smp}.txt> methratio_out_{smp}_CG.txt \n",
      "!sed '/NA/d' methratio_out_{smp}_CG.txt > methratio_out_{smp}_CGna.txt\n",
      "#make join column, 3x etc\n",
      "!awk '{if ($8 >= 3) print $1\"_\"$2,$1,$2,$2+1,\"CpG\",$5,$8}' <methratio_out_T3D5_CGna.txt> filt_methratio_out_T3D5_CGj.txt \n",
      "#print header\n",
      "!echo \"{smp}ID {smp}scaffold {smp}start {smp}end {smp}feat {smp}ratio {smp}coverage\" >> {smp}head\n",
      "#add header\n",
      "!cat {smp}head filt_methratio_out_{smp}_CGj.txt > hdfilt_methratio_out_{smp}_CGj.txt\n",
      "!tr ' ' \"\\t\" <hdfilt_methratio_out_{smp}_CGj.txt> filt3_{smp}j.txt\n",
      "#upload to sqlshare\n",
      "!python /Users/sr320/sqlshare-pythonclient/tools/singleupload.py -d filt3_{smp} filt3_{smp}j.txt"
     ],
     "language": "python",
     "metadata": {},
     "outputs": [
      {
       "output_type": "stream",
       "stream": "stdout",
       "text": [
        "processing chunk line 0 to 1183434 (1.03248810768 s elapsed)\r\n"
       ]
      },
      {
       "output_type": "stream",
       "stream": "stdout",
       "text": [
        "pushing filt3_T3D5j.txt...\r\n"
       ]
      },
      {
       "output_type": "stream",
       "stream": "stdout",
       "text": [
        "parsing 0165A793...\r\n"
       ]
      },
      {
       "output_type": "stream",
       "stream": "stdout",
       "text": [
        "finished filt3_T3D5\r\n"
       ]
      }
     ],
     "prompt_number": 142
    },
    {
     "cell_type": "heading",
     "level": 2,
     "metadata": {},
     "source": [
      "Using SQLShare to bin CpG in M1 / M3 comparison"
     ]
    },
    {
     "cell_type": "code",
     "collapsed": false,
     "input": [
      "SELECT * FROM [sr320@washington.edu].[filt3_M1]m1\n",
      " join\n",
      "  [sr320@washington.edu].[filt3_M3]m3\n",
      "  on\n",
      "  m1.M1ID=m3.M3ID\n",
      "  left join\n",
      "    [sr320@washington.edu].[CG_Ensembl_featurejoin]cg\n",
      "    on\n",
      "    m1.M1ID=cg.ChrStart"
     ],
     "language": "python",
     "metadata": {},
     "outputs": []
    },
    {
     "cell_type": "code",
     "collapsed": false,
     "input": [
      "#confirmed will work in theory? meaning joined to feature"
     ],
     "language": "python",
     "metadata": {},
     "outputs": []
    },
    {
     "cell_type": "code",
     "collapsed": false,
     "input": [
      "SELECT * FROM [sr320@washington.edu].[filt3M1_M3_CGfeature]\n",
      "  where M1ratio > 0.5\n",
      "  and\n",
      "  M3ratio > 0.5"
     ],
     "language": "python",
     "metadata": {},
     "outputs": []
    },
    {
     "cell_type": "code",
     "collapsed": false,
     "input": [
      "!python /Users/sr320/sqlshare-pythonclient/tools/fetchdata.py -s \"SELECT * FROM [sr320@washington.edu].[filt3M1_M3_CGfeature] where M1ratio > 0.5 and M3ratio > 0.5\" -f tsv -o /Volumes/web/cnidarian/M1_M3_05.txt"
     ],
     "language": "python",
     "metadata": {},
     "outputs": []
    },
    {
     "cell_type": "code",
     "collapsed": false,
     "input": [
      "!head /Volumes/web/cnidarian/M1_M3_05.txt"
     ],
     "language": "python",
     "metadata": {},
     "outputs": [],
     "prompt_number": 2
    },
    {
     "cell_type": "code",
     "collapsed": false,
     "input": [
      "!wc /Volumes/web/cnidarian/M1_M3_05.txt"
     ],
     "language": "python",
     "metadata": {},
     "outputs": [
      {
       "output_type": "stream",
       "stream": "stdout",
       "text": [
        "       0       0       0 /Volumes/web/cnidarian/M1_M3_05.txt\r\n"
       ]
      }
     ],
     "prompt_number": 3
    },
    {
     "cell_type": "code",
     "collapsed": false,
     "input": [
      "#above was done with join on feature tracks\n",
      "#lets do with just simple Joins on samples"
     ],
     "language": "python",
     "metadata": {},
     "outputs": []
    },
    {
     "cell_type": "raw",
     "metadata": {},
     "source": [
      "!python /Users/sr320/sqlshare-pythonclient/tools/fetchdata.py -s \"SELECT * FROM [sr320@washington.edu].[filt3_M1]m1 join [sr320@washington.edu].[filt3_M3]m3 on m1.M1ID=m3.M3ID where M1ratio > 0.5 and M3ratio > 0.5\" -f tsv -o /Volumes/web/cnidarian/M1_M3_05_simple.txt"
     ]
    },
    {
     "cell_type": "code",
     "collapsed": false,
     "input": [
      "!head /Volumes/web/cnidarian/M1_M3_05_simple.txt"
     ],
     "language": "python",
     "metadata": {},
     "outputs": [
      {
       "output_type": "stream",
       "stream": "stdout",
       "text": [
        "M1ID\tM1scaffold\tM1start\tM1end\tM1feat\tM1ratio\tM1coverage\tM3ID\tM3scaffold\tM3start\tM3end\tM3feat\tM3ratio\tM3coverage\r",
        "\r\n",
        "C14796_69\tC14796\t69\t70\tCpG\t0.688\t16\tC14796_69\tC14796\t69\t70\tCpG\t1\t11\r",
        "\r\n",
        "C17036_390\tC17036\t390\t391\tCpG\t0.667\t3\tC17036_390\tC17036\t390\t391\tCpG\t1\t3\r",
        "\r\n",
        "C18254_490\tC18254\t490\t491\tCpG\t1\t4\tC18254_490\tC18254\t490\t491\tCpG\t0.8\t5\r",
        "\r\n",
        "C18396_534\tC18396\t534\t535\tCpG\t1\t3\tC18396_534\tC18396\t534\t535\tCpG\t1\t3\r",
        "\r\n",
        "C19784_561\tC19784\t561\t562\tCpG\t0.667\t3\tC19784_561\tC19784\t561\t562\tCpG\t0.667\t3\r",
        "\r\n",
        "C19902_141\tC19902\t141\t142\tCpG\t0.737\t185\tC19902_141\tC19902\t141\t142\tCpG\t0.781\t108\r",
        "\r\n",
        "C19902_166\tC19902\t166\t167\tCpG\t0.764\t234\tC19902_166\tC19902\t166\t167\tCpG\t0.734\t155\r",
        "\r\n",
        "C19902_184\tC19902\t184\t185\tCpG\t0.743\t397\tC19902_184\tC19902\t184\t185\tCpG\t0.624\t239\r",
        "\r\n",
        "C19902_775\tC19902\t775\t776\tCpG\t0.744\t187\tC19902_775\tC19902\t775\t776\tCpG\t0.656\t97\r",
        "\r\n"
       ]
      }
     ],
     "prompt_number": 5
    },
    {
     "cell_type": "code",
     "collapsed": false,
     "input": [
      "#lets do heatmaps\n",
      "#need to get Methylation levels for all 6 samples (common loci)"
     ],
     "language": "python",
     "metadata": {},
     "outputs": [],
     "prompt_number": 6
    },
    {
     "cell_type": "heading",
     "level": 1,
     "metadata": {},
     "source": [
      "Towards Hierarchical Clustering and Heatmaps\n"
     ]
    },
    {
     "cell_type": "markdown",
     "metadata": {},
     "source": [
      "Step1: Getting table with information from all 6 samples"
     ]
    },
    {
     "cell_type": "markdown",
     "metadata": {},
     "source": [
      "```\n",
      "SELECT * FROM [sr320@washington.edu].[filt3_M1]m1\n",
      "  join\n",
      "  [sr320@washington.edu].[filt3_M3]m3\n",
      "  on \n",
      "  m1.M1ID=m3.M3ID\n",
      "  join\n",
      "  [sr320@washington.edu].[filt3_T1D3]t1d3\n",
      "  on \n",
      "  m1.M1ID=t1d3.T1D3ID\n",
      "    join\n",
      "  [sr320@washington.edu].[filt3_T1D5]t1d5\n",
      "  on \n",
      "  m1.M1ID=t1d5.T1D5ID\n",
      "  join\n",
      "  [sr320@washington.edu].[filt3_T3D3]t3d3\n",
      "  on \n",
      "  m1.M1ID=t3d3.T3D3ID\n",
      "join\n",
      "  [sr320@washington.edu].[filt3_T3D5]t3d5\n",
      "  on \n",
      "  m1.M1ID=t3d5.T3D5ID\n",
      "```   "
     ]
    },
    {
     "cell_type": "markdown",
     "metadata": {},
     "source": [
      "```\n",
      "SELECT M1ID,M1ratio,M3ratio,T1D3ratio,T1D5ratio,T3D3ratio,T3D5ratio \n",
      "  \n",
      "  FROM [sr320@washington.edu].[filt3_M1]m1\n",
      "  join\n",
      "  [sr320@washington.edu].[filt3_M3]m3\n",
      "  on \n",
      "  m1.M1ID=m3.M3ID\n",
      "  join\n",
      "  [sr320@washington.edu].[filt3_T1D3]t1d3\n",
      "  on \n",
      "  m1.M1ID=t1d3.T1D3ID\n",
      "    join\n",
      "  [sr320@washington.edu].[filt3_T1D5]t1d5\n",
      "  on \n",
      "  m1.M1ID=t1d5.T1D5ID\n",
      "  join\n",
      "  [sr320@washington.edu].[filt3_T3D3]t3d3\n",
      "  on \n",
      "  m1.M1ID=t3d3.T3D3ID\n",
      "join\n",
      "  [sr320@washington.edu].[filt3_T3D5]t3d5\n",
      "  on \n",
      "  m1.M1ID=t3d5.T3D5ID\n",
      "```  "
     ]
    },
    {
     "cell_type": "code",
     "collapsed": false,
     "input": [
      "!python /Users/sr320/sqlshare-pythonclient/tools/fetchdata.py -s \"SELECT M1ID,M1ratio,M3ratio,T1D3ratio,T1D5ratio,T3D3ratio,T3D5ratio FROM [sr320@washington.edu].[filt3_M1]m1 join [sr320@washington.edu].[filt3_M3]m3 on m1.M1ID=m3.M3ID join [sr320@washington.edu].[filt3_T1D3]t1d3 on m1.M1ID=t1d3.T1D3ID join [sr320@washington.edu].[filt3_T1D5]t1d5 on m1.M1ID=t1d5.T1D5ID join [sr320@washington.edu].[filt3_T3D3]t3d3 on m1.M1ID=t3d3.T3D3ID join [sr320@washington.edu].[filt3_T3D5]t3d5 on m1.M1ID=t3d5.T3D5ID\" -f tsv -o /Volumes/web/cnidarian/filt3_BiGoLarvae_common.txt"
     ],
     "language": "python",
     "metadata": {},
     "outputs": [],
     "prompt_number": 9
    },
    {
     "cell_type": "code",
     "collapsed": false,
     "input": [
      "!python /Users/sr320/sqlshare-pythonclient/tools/fetchdata.py -s \"SELECT M1ratio,M3ratio,T1D3ratio,T1D5ratio,T3D3ratio,T3D5ratio FROM [sr320@washington.edu].[filt3_M1]m1 join [sr320@washington.edu].[filt3_M3]m3 on m1.M1ID=m3.M3ID join [sr320@washington.edu].[filt3_T1D3]t1d3 on m1.M1ID=t1d3.T1D3ID join [sr320@washington.edu].[filt3_T1D5]t1d5 on m1.M1ID=t1d5.T1D5ID join [sr320@washington.edu].[filt3_T3D3]t3d3 on m1.M1ID=t3d3.T3D3ID join [sr320@washington.edu].[filt3_T3D5]t3d5 on m1.M1ID=t3d5.T3D5ID\" -f tsv -o /Volumes/web/cnidarian/filt3_BiGoLarvae_common2.txt"
     ],
     "language": "python",
     "metadata": {},
     "outputs": [],
     "prompt_number": 33
    },
    {
     "cell_type": "code",
     "collapsed": false,
     "input": [
      "!head /Volumes/web/cnidarian/filt3_BiGoLarvae_common2.txt"
     ],
     "language": "python",
     "metadata": {},
     "outputs": [
      {
       "output_type": "stream",
       "stream": "stdout",
       "text": [
        "M1ratio\tM3ratio\tT1D3ratio\tT1D5ratio\tT3D3ratio\tT3D5ratio\r",
        "\r\n",
        "0\t0\t0\t0\t0\t0\r",
        "\r\n",
        "0\t0\t0\t0\t0\t0\r",
        "\r\n",
        "0\t0\t0\t0\t0\t0\r",
        "\r\n",
        "0\t0\t0\t0\t0\t0\r",
        "\r\n",
        "0.688\t1\t1\t0.857\t1\t0.786\r",
        "\r\n",
        "0\t0\t0\t0\t0\t0\r",
        "\r\n",
        "0\t0\t0\t0\t0\t0\r",
        "\r\n",
        "0\t0\t0\t0\t0\t0\r",
        "\r\n",
        "0\t0\t0\t0\t0\t0\r",
        "\r\n"
       ]
      }
     ],
     "prompt_number": 34
    },
    {
     "cell_type": "code",
     "collapsed": false,
     "input": [
      "import pandas as pd\n",
      "import matplotlib.pyplot as plt\n",
      "import matplotlib.gridspec as gridspec\n",
      "import scipy.spatial.distance as distance\n",
      "import scipy.cluster.hierarchy as sch"
     ],
     "language": "python",
     "metadata": {},
     "outputs": [],
     "prompt_number": 1
    },
    {
     "cell_type": "heading",
     "level": 3,
     "metadata": {},
     "source": [
      "test data"
     ]
    },
    {
     "cell_type": "code",
     "collapsed": false,
     "input": [
      "testDF.shape\n"
     ],
     "language": "python",
     "metadata": {},
     "outputs": [
      {
       "ename": "NameError",
       "evalue": "name 'testDF' is not defined",
       "output_type": "pyerr",
       "traceback": [
        "\u001b[0;31m---------------------------------------------------------------------------\u001b[0m\n\u001b[0;31mNameError\u001b[0m                                 Traceback (most recent call last)",
        "\u001b[0;32m<ipython-input-6-cddb38ed45ab>\u001b[0m in \u001b[0;36m<module>\u001b[0;34m()\u001b[0m\n\u001b[0;32m----> 1\u001b[0;31m \u001b[0mtestDF\u001b[0m\u001b[0;34m.\u001b[0m\u001b[0mshape\u001b[0m\u001b[0;34m\u001b[0m\u001b[0m\n\u001b[0m",
        "\u001b[0;31mNameError\u001b[0m: name 'testDF' is not defined"
       ]
      }
     ],
     "prompt_number": 6
    },
    {
     "cell_type": "code",
     "collapsed": false,
     "input": [
      "print(testDF)"
     ],
     "language": "python",
     "metadata": {},
     "outputs": [
      {
       "ename": "NameError",
       "evalue": "name 'testDF' is not defined",
       "output_type": "pyerr",
       "traceback": [
        "\u001b[0;31m---------------------------------------------------------------------------\u001b[0m\n\u001b[0;31mNameError\u001b[0m                                 Traceback (most recent call last)",
        "\u001b[0;32m<ipython-input-7-38028a8e5e97>\u001b[0m in \u001b[0;36m<module>\u001b[0;34m()\u001b[0m\n\u001b[0;32m----> 1\u001b[0;31m \u001b[0;32mprint\u001b[0m\u001b[0;34m(\u001b[0m\u001b[0mtestDF\u001b[0m\u001b[0;34m)\u001b[0m\u001b[0;34m\u001b[0m\u001b[0m\n\u001b[0m",
        "\u001b[0;31mNameError\u001b[0m: name 'testDF' is not defined"
       ]
      }
     ],
     "prompt_number": 7
    },
    {
     "cell_type": "code",
     "collapsed": false,
     "input": [
      "from pandas import *\n",
      "\n",
      "# read data from data file into a pandas DataFrame  \n",
      "larDB = read_table(\"http://eagle.fish.washington.edu/cnidarian/filt3_BiGoLarvae_common3.txt\", # name of the data file\n",
      "            #sep=\",\", # what character separates each column?\n",
      "            na_values=[\"\", \" \"]) # what values should be considered \"blank\" values?"
     ],
     "language": "python",
     "metadata": {},
     "outputs": [],
     "prompt_number": 2
    },
    {
     "cell_type": "code",
     "collapsed": false,
     "input": [
      "print(larDB)"
     ],
     "language": "python",
     "metadata": {},
     "outputs": [
      {
       "output_type": "stream",
       "stream": "stdout",
       "text": [
        "<class 'pandas.core.frame.DataFrame'>\n",
        "Int64Index: 5129 entries, 0 to 5128\n",
        "Data columns (total 6 columns):\n",
        "M1ratio      5128  non-null values\n",
        "M3ratio      5128  non-null values\n",
        "T1D3ratio    5128  non-null values\n",
        "T1D5ratio    5128  non-null values\n",
        "T3D3ratio    5128  non-null values\n",
        "T3D5ratio    5128  non-null values\n",
        "dtypes: float64(6)\n"
       ]
      }
     ],
     "prompt_number": 3
    },
    {
     "cell_type": "code",
     "collapsed": false,
     "input": [
      "\n",
      "# helper for cleaning up axes by removing ticks, tick labels, frame, etc.\n",
      "def clean_axis(ax):\n",
      "    \"\"\"Remove ticks, tick labels, and frame from axis\"\"\"\n",
      "    ax.get_xaxis().set_ticks([])\n",
      "    ax.get_yaxis().set_ticks([])\n",
      "    for sp in ax.spines.values():\n",
      "        sp.set_visible(False)"
     ],
     "language": "python",
     "metadata": {},
     "outputs": [],
     "prompt_number": 4
    },
    {
     "cell_type": "code",
     "collapsed": false,
     "input": [
      "# look at raw data\n",
      "axi = imshow(larDB,interpolation='nearest',cmap=cm.RdBu)\n",
      "ax = axi.get_axes()\n",
      "clean_axis(ax)"
     ],
     "language": "python",
     "metadata": {},
     "outputs": [
      {
       "metadata": {},
       "output_type": "display_data",
       "png": "[encoded data removed]",
       "text": [
        "<matplotlib.figure.Figure at 0x1056b71d0>"
       ]
      }
     ],
     "prompt_number": 5
    },
    {
     "cell_type": "code",
     "collapsed": false,
     "input": [
      "# calculate pairwise distances for rows\n",
      "pairwise_dists = distance.squareform(distance.pdist(larDB))\n",
      "print 'Number of rows: {0}'.format(larDB.shape[0])\n",
      "print 'Size of distance matrix: {0}'.format(pairwise_dists.shape)"
     ],
     "language": "python",
     "metadata": {},
     "outputs": [
      {
       "output_type": "stream",
       "stream": "stdout",
       "text": [
        "Number of rows: 5129\n",
        "Size of distance matrix: (5129, 5129)\n"
       ]
      }
     ],
     "prompt_number": 6
    },
    {
     "cell_type": "code",
     "collapsed": false,
     "input": [
      "# cluster\n",
      "clusters = sch.linkage(pairwise_dists,method='complete')"
     ],
     "language": "python",
     "metadata": {},
     "outputs": [],
     "prompt_number": 7
    },
    {
     "cell_type": "code",
     "collapsed": false,
     "input": [
      "# dendrogram\n",
      "den = sch.dendrogram(clusters)"
     ],
     "language": "python",
     "metadata": {},
     "outputs": [
      {
       "metadata": {},
       "output_type": "display_data",
       "png": "[encoded data removed]",
       "text": [
        "<matplotlib.figure.Figure at 0x106ffe690>"
       ]
      }
     ],
     "prompt_number": 8
    },
    {
     "cell_type": "code",
     "collapsed": false,
     "input": [
      "\n",
      "axi = imshow(larDB.ix[den['leaves']],interpolation='nearest',cmap=cm.RdBu)\n",
      "ax = axi.get_axes()\n",
      "clean_axis(ax)"
     ],
     "language": "python",
     "metadata": {},
     "outputs": [
      {
       "metadata": {},
       "output_type": "display_data",
       "png": "[encoded data removed]",
       "text": [
        "<matplotlib.figure.Figure at 0x117d8bf90>"
       ]
      }
     ],
     "prompt_number": 11
    },
    {
     "cell_type": "heading",
     "level": 1,
     "metadata": {},
     "source": [
      "Moving up to 5x coverage - CLC"
     ]
    },
    {
     "cell_type": "code",
     "collapsed": false,
     "input": [
      "!python /Users/sr320/sqlshare-pythonclient/tools/fetchdata.py -s \"SELECT M1ID,M1ratio,M3ratio,T1D3ratio,T1D5ratio,T3D3ratio,T3D5ratio FROM [sr320@washington.edu].[filt3_M1]m1 join [sr320@washington.edu].[filt3_M3]m3 on m1.M1ID=m3.M3ID join [sr320@washington.edu].[filt3_T1D3]t1d3 on m1.M1ID=t1d3.T1D3ID join [sr320@washington.edu].[filt3_T1D5]t1d5 on m1.M1ID=t1d5.T1D5ID join [sr320@washington.edu].[filt3_T3D3]t3d3 on m1.M1ID=t3d3.T3D3ID join [sr320@washington.edu].[filt3_T3D5]t3d5 on m1.M1ID=t3d5.T3D5ID where [M1coverage] >= '5' and [M3coverage] >= '5' and [T1D3coverage] >= '5' and [T1D5coverage] >= '5' and [T3D3coverage] >= '5' and [T3D5coverage] >= '5'\" -f tsv -o /Volumes/web/cnidarian/filt5_BiGoLarvae_common.txt"
     ],
     "language": "python",
     "metadata": {},
     "outputs": []
    },
    {
     "cell_type": "markdown",
     "metadata": {},
     "source": [
      "<img src=\"http://eagle.fish.washington.edu/cnidarian/skitch/greenbird_19226E44.png\" alt=\"greenbird_19226E44.png\"/>"
     ]
    },
    {
     "cell_type": "heading",
     "level": 2,
     "metadata": {},
     "source": [
      "Revisiting specific queries using SQLShare"
     ]
    },
    {
     "cell_type": "markdown",
     "metadata": {},
     "source": [
      "```\n",
      "SELECT M1ID,M1ratio,M3ratio,T1D3ratio,T1D5ratio,T3D3ratio,T3D5ratio\n",
      "FROM [sr320@washington.edu].[filt3_M1]m1 \n",
      "  join\n",
      "  [sr320@washington.edu].[filt3_M3]m3\n",
      "  on \n",
      "  m1.M1ID=m3.M3ID\n",
      "  join\n",
      "  [sr320@washington.edu].[filt3_T1D3]t1d3\n",
      "  on \n",
      "  m1.M1ID=t1d3.T1D3ID\n",
      "    join\n",
      "  [sr320@washington.edu].[filt3_T1D5]t1d5\n",
      "  on \n",
      "  m1.M1ID=t1d5.T1D5ID\n",
      "  join\n",
      "  [sr320@washington.edu].[filt3_T3D3]t3d3\n",
      "  on \n",
      "  m1.M1ID=t3d3.T3D3ID\n",
      "join\n",
      "  [sr320@washington.edu].[filt3_T3D5]t3d5\n",
      "  on \n",
      "  m1.M1ID=t3d5.T3D5ID\n",
      "  where\n",
      "  [M1coverage] >= '5'\n",
      "  and \n",
      "  [M3coverage] >= '5'\n",
      "  and\n",
      "  [T1D3coverage] >= '5'\n",
      "  and\n",
      "  [T1D5coverage] >= '5'\n",
      "  and\n",
      "  [T3D3coverage] >= '5'\n",
      "  and\n",
      "  [T3D5coverage] >= '5'\n",
      "  and \n",
      "  M1ratio >= 0.5\n",
      "  and \n",
      "  T1D3ratio >= 0.5\n",
      "  and \n",
      "  T1D5ratio >= 0.5\n",
      "  and \n",
      "  M3ratio < 0.5\n",
      "  and \n",
      "  T3D3ratio < 0.5\n",
      "  and \n",
      "  T3D5ratio < 0.5\n",
      "```"
     ]
    },
    {
     "cell_type": "markdown",
     "metadata": {},
     "source": [
      "<img src=\"http://eagle.fish.washington.edu/cnidarian/skitch/Run_Query_192284C8.png\" alt=\"Run_Query_192284C8.png\"/>"
     ]
    },
    {
     "cell_type": "markdown",
     "metadata": {},
     "source": [
      "```\n",
      "SELECT M1ID,M1ratio,M3ratio,T1D3ratio,T1D5ratio,T3D3ratio,T3D5ratio\n",
      "FROM [sr320@washington.edu].[filt3_M1]m1 \n",
      "  join\n",
      "  [sr320@washington.edu].[filt3_M3]m3\n",
      "  on \n",
      "  m1.M1ID=m3.M3ID\n",
      "  join\n",
      "  [sr320@washington.edu].[filt3_T1D3]t1d3\n",
      "  on \n",
      "  m1.M1ID=t1d3.T1D3ID\n",
      "    join\n",
      "  [sr320@washington.edu].[filt3_T1D5]t1d5\n",
      "  on \n",
      "  m1.M1ID=t1d5.T1D5ID\n",
      "  join\n",
      "  [sr320@washington.edu].[filt3_T3D3]t3d3\n",
      "  on \n",
      "  m1.M1ID=t3d3.T3D3ID\n",
      "join\n",
      "  [sr320@washington.edu].[filt3_T3D5]t3d5\n",
      "  on \n",
      "  m1.M1ID=t3d5.T3D5ID\n",
      "  where\n",
      "  [M1coverage] >= '5'\n",
      "  and \n",
      "  [M3coverage] >= '5'\n",
      "  and\n",
      "  [T1D3coverage] >= '5'\n",
      "  and\n",
      "  [T1D5coverage] >= '5'\n",
      "  and\n",
      "  [T3D3coverage] >= '5'\n",
      "  and\n",
      "  [T3D5coverage] >= '5'\n",
      "  and \n",
      "  M1ratio >= 0.8\n",
      "  and \n",
      "  T1D3ratio >= 0.8\n",
      "  and \n",
      "  T1D5ratio >= 0.8\n",
      "  and \n",
      "  M3ratio >= 0.8\n",
      "  and \n",
      "  T3D3ratio >= 0.8\n",
      "  and \n",
      "  T3D5ratio >= 0.8\n",
      "```"
     ]
    },
    {
     "cell_type": "markdown",
     "metadata": {},
     "source": [
      "<img src=\"http://eagle.fish.washington.edu/cnidarian/skitch/Run_Query_192285CA.png\" alt=\"Run_Query_192285CA.png\"/>"
     ]
    },
    {
     "cell_type": "markdown",
     "metadata": {},
     "source": [
      "```\n",
      "SELECT M1ID,M1ratio,M3ratio,T1D3ratio,T1D5ratio,T3D3ratio,T3D5ratio\n",
      "FROM [sr320@washington.edu].[filt3_M1]m1 \n",
      "  join\n",
      "  [sr320@washington.edu].[filt3_M3]m3\n",
      "  on \n",
      "  m1.M1ID=m3.M3ID\n",
      "  join\n",
      "  [sr320@washington.edu].[filt3_T1D3]t1d3\n",
      "  on \n",
      "  m1.M1ID=t1d3.T1D3ID\n",
      "    join\n",
      "  [sr320@washington.edu].[filt3_T1D5]t1d5\n",
      "  on \n",
      "  m1.M1ID=t1d5.T1D5ID\n",
      "  join\n",
      "  [sr320@washington.edu].[filt3_T3D3]t3d3\n",
      "  on \n",
      "  m1.M1ID=t3d3.T3D3ID\n",
      "join\n",
      "  [sr320@washington.edu].[filt3_T3D5]t3d5\n",
      "  on \n",
      "  m1.M1ID=t3d5.T3D5ID\n",
      "  where\n",
      "  [M1coverage] >= '5'\n",
      "  and \n",
      "  [M3coverage] >= '5'\n",
      "  and\n",
      "  [T1D3coverage] >= '5'\n",
      "  and\n",
      "  [T1D5coverage] >= '5'\n",
      "  and\n",
      "  [T3D3coverage] >= '5'\n",
      "  and\n",
      "  [T3D5coverage] >= '5'\n",
      "  and \n",
      "  M1ratio = 0\n",
      "  and \n",
      "  T1D3ratio = 0\n",
      "  and \n",
      "  T1D5ratio = 0\n",
      "  and \n",
      "  M3ratio = 0\n",
      "  and \n",
      "  T3D3ratio = 0\n",
      "  and \n",
      "  T3D5ratio = 0\n",
      "```"
     ]
    },
    {
     "cell_type": "code",
     "collapsed": false,
     "input": [
      "!python /Users/sr320/sqlshare-pythonclient/tools/fetchdata.py -s \"SELECT M1ID,M1ratio,M3ratio,T1D3ratio,T1D5ratio,T3D3ratio,T3D5ratio FROM [sr320@washington.edu].[filt3_M1]m1 join [sr320@washington.edu].[filt3_M3]m3 on m1.M1ID=m3.M3ID join [sr320@washington.edu].[filt3_T1D3]t1d3 on m1.M1ID=t1d3.T1D3ID join [sr320@washington.edu].[filt3_T1D5]t1d5 on m1.M1ID=t1d5.T1D5ID join [sr320@washington.edu].[filt3_T3D3]t3d3 on m1.M1ID=t3d3.T3D3ID join [sr320@washington.edu].[filt3_T3D5]t3d5 on m1.M1ID=t3d5.T3D5ID where [M1coverage] >= '5' and [M3coverage] >= '5' and [T1D3coverage] >= '5' and [T1D5coverage] >= '5' and [T3D3coverage] >= '5' and [T3D5coverage] >= '5' and M1ratio = 0 and T1D3ratio = 0 and T1D5ratio = 0 and M3ratio = 0 and T3D3ratio = 0 and T3D5ratio = 0\" -f tsv -o /Volumes/web/cnidarian/filt5_BiGoLarvae_allzero.txt\n"
     ],
     "language": "python",
     "metadata": {},
     "outputs": [],
     "prompt_number": 2
    },
    {
     "cell_type": "code",
     "collapsed": false,
     "input": [
      "!head /Volumes/web/cnidarian/filt5_BiGoLarvae_allzero.txt"
     ],
     "language": "python",
     "metadata": {},
     "outputs": [
      {
       "output_type": "stream",
       "stream": "stdout",
       "text": [
        "M1ID\tM1ratio\tM3ratio\tT1D3ratio\tT1D5ratio\tT3D3ratio\tT3D5ratio\r",
        "\r\n",
        "C16318_177\t0\t0\t0\t0\t0\t0\r",
        "\r\n",
        "C16318_196\t0\t0\t0\t0\t0\t0\r",
        "\r\n",
        "C16318_203\t0\t0\t0\t0\t0\t0\r",
        "\r\n",
        "C16318_206\t0\t0\t0\t0\t0\t0\r",
        "\r\n",
        "C16318_302\t0\t0\t0\t0\t0\t0\r",
        "\r\n",
        "C19344_342\t0\t0\t0\t0\t0\t0\r",
        "\r\n",
        "C19356_107\t0\t0\t0\t0\t0\t0\r",
        "\r\n",
        "C19356_120\t0\t0\t0\t0\t0\t0\r",
        "\r\n",
        "C19356_123\t0\t0\t0\t0\t0\t0\r",
        "\r\n"
       ]
      }
     ],
     "prompt_number": 3
    },
    {
     "cell_type": "code",
     "collapsed": false,
     "input": [
      "!wc /Volumes/web/cnidarian/filt5_BiGoLarvae_allzero.txt"
     ],
     "language": "python",
     "metadata": {},
     "outputs": [
      {
       "output_type": "stream",
       "stream": "stdout",
       "text": [
        "    5053   35371  158327 /Volumes/web/cnidarian/filt5_BiGoLarvae_allzero.txt\r\n"
       ]
      }
     ],
     "prompt_number": 4
    },
    {
     "cell_type": "code",
     "collapsed": false,
     "input": [
      "!wc /Volumes/web/cnidarian/filt5_BiGoLarvae_common.txt"
     ],
     "language": "python",
     "metadata": {},
     "outputs": [
      {
       "output_type": "stream",
       "stream": "stdout",
       "text": [
        "   11210   78470  427112 /Volumes/web/cnidarian/filt5_BiGoLarvae_common.txt\r\n"
       ]
      }
     ],
     "prompt_number": 5
    },
    {
     "cell_type": "markdown",
     "metadata": {},
     "source": [
      "---\n",
      "<img src=\"http://eagle.fish.washington.edu/cnidarian/skitch/Run_Query_1922992D.png\" alt=\"Run_Query_1922992D.png\"/>"
     ]
    },
    {
     "cell_type": "markdown",
     "metadata": {},
     "source": [
      "---\n",
      "```\n",
      "SELECT M1ID,M1ratio,T1D3ratio,T1D5ratio,((m1ratio + T1D3ratio + T1D5ratio)/3) as mean_1lin,\n",
      "  (Select stdev(v) from (values (M1ratio), (T1D3ratio), (T1D5ratio)) as value(v)) as [stdev],\n",
      "  (Select stdev(v) from (values (M1ratio), (T1D3ratio), (T1D5ratio)) as value(v)) / ((m1ratio + T1D3ratio + T1D5ratio)/3) as CI\n",
      "FROM [sr320@washington.edu].[filt3_M1]m1 \n",
      "  join\n",
      "  [sr320@washington.edu].[filt3_M3]m3\n",
      "  on \n",
      "  m1.M1ID=m3.M3ID\n",
      "  join\n",
      "  [sr320@washington.edu].[filt3_T1D3]t1d3\n",
      "  on \n",
      "  m1.M1ID=t1d3.T1D3ID\n",
      "    join\n",
      "  [sr320@washington.edu].[filt3_T1D5]t1d5\n",
      "  on \n",
      "  m1.M1ID=t1d5.T1D5ID\n",
      "  join\n",
      "  [sr320@washington.edu].[filt3_T3D3]t3d3\n",
      "  on \n",
      "  m1.M1ID=t3d3.T3D3ID\n",
      "join\n",
      "  [sr320@washington.edu].[filt3_T3D5]t3d5\n",
      "  on \n",
      "  m1.M1ID=t3d5.T3D5ID\n",
      "  where\n",
      "  [M1coverage] >= '5'\n",
      "  and \n",
      "  [M3coverage] >= '5'\n",
      "  and\n",
      "  [T1D3coverage] >= '5'\n",
      "  and\n",
      "  [T1D5coverage] >= '5'\n",
      "  and\n",
      "  [T3D3coverage] >= '5'\n",
      "  and\n",
      "  [T3D5coverage] >= '5'\n",
      "  and \n",
      "  M1ratio > 0\n",
      "```  "
     ]
    },
    {
     "cell_type": "markdown",
     "metadata": {},
     "source": [
      "<img src=\"http://eagle.fish.washington.edu/cnidarian/skitch/Screenshot_5_14_14_7_54_AM_1923BB2C.png\" alt=\"Screenshot_5_14_14_7_54_AM_1923BB2C.png\"/>"
     ]
    },
    {
     "cell_type": "code",
     "collapsed": false,
     "input": [
      "#lets consider taking 674 1 lineaage with cv <0.2 and get info. this is on 11,000 that match across 6"
     ],
     "language": "python",
     "metadata": {},
     "outputs": []
    },
    {
     "cell_type": "heading",
     "level": 1,
     "metadata": {},
     "source": [
      "Creating IGV files"
     ]
    },
    {
     "cell_type": "code",
     "collapsed": false,
     "input": [
      "cd /Volumes/web/cnidarian/BiGo_larvae_3/"
     ],
     "language": "python",
     "metadata": {},
     "outputs": [
      {
       "output_type": "stream",
       "stream": "stdout",
       "text": [
        "/Volumes/web/cnidarian/BiGo_larvae_3\n"
       ]
      }
     ],
     "prompt_number": 1
    },
    {
     "cell_type": "code",
     "collapsed": false,
     "input": [
      "mkdir igv"
     ],
     "language": "python",
     "metadata": {},
     "outputs": [],
     "prompt_number": 2
    },
    {
     "cell_type": "code",
     "collapsed": false,
     "input": [
      "cd igv"
     ],
     "language": "python",
     "metadata": {},
     "outputs": [
      {
       "output_type": "stream",
       "stream": "stdout",
       "text": [
        "/Volumes/web/cnidarian/BiGo_larvae_3/igv\n"
       ]
      }
     ],
     "prompt_number": 3
    },
    {
     "cell_type": "code",
     "collapsed": false,
     "input": [
      "sp=\"M3\""
     ],
     "language": "python",
     "metadata": {},
     "outputs": [],
     "prompt_number": 16
    },
    {
     "cell_type": "code",
     "collapsed": false,
     "input": [
      "#command for only obtaining the context '__CG_'\n",
      "#!grep \"[A-Z][A-Z]CG[A-Z]\" </Volumes/web/cnidarian/BiGo_larvae_3/methratio_out_{sp}.txt> {sp}_methratio_CG.txt\n",
      "#5x coverage\n",
      "!awk '{if ($8 >= 5) print $1,$2-1,$2+1,\"CpG\",$5}' <M1_methratio_CG.txt> M1_methratio_CG5x.igv \n",
      "!tr ' ' \"\\t\" <M1_methratio_CG5x.igv> M1_CG5x.igv \n",
      "\n"
     ],
     "language": "python",
     "metadata": {},
     "outputs": [],
     "prompt_number": 14
    },
    {
     "cell_type": "code",
     "collapsed": false,
     "input": [
      "!head M1_CG5x.igv "
     ],
     "language": "python",
     "metadata": {},
     "outputs": [
      {
       "output_type": "stream",
       "stream": "stdout",
       "text": [
        "C12768\t102\t104\tCpG\t0.167\r\n",
        "C12806\t75\t77\tCpG\t0.200\r\n",
        "C12806\t77\t79\tCpG\t0.200\r\n",
        "C12806\t141\t143\tCpG\t0.375\r\n",
        "C12924\t29\t31\tCpG\t0.000\r\n",
        "C12924\t37\t39\tCpG\t0.000\r\n",
        "C12924\t51\t53\tCpG\t0.000\r\n",
        "C12924\t59\t61\tCpG\t0.000\r\n",
        "C12924\t126\t128\tCpG\t0.000\r\n",
        "C12924\t135\t137\tCpG\t0.000\r\n"
       ]
      }
     ],
     "prompt_number": 15
    },
    {
     "cell_type": "code",
     "collapsed": false,
     "input": [
      "#command for only obtaining the context '__CG_'\n",
      "!grep \"[A-Z][A-Z]CG[A-Z]\" </Volumes/web/cnidarian/BiGo_larvae_3/methratio_out_{sp}.txt> {sp}_methratio_CG.txt"
     ],
     "language": "python",
     "metadata": {},
     "outputs": [],
     "prompt_number": 17
    },
    {
     "cell_type": "code",
     "collapsed": false,
     "input": [
      "sp=\"T1D3\""
     ],
     "language": "python",
     "metadata": {},
     "outputs": [],
     "prompt_number": 18
    },
    {
     "cell_type": "code",
     "collapsed": false,
     "input": [
      "#command for only obtaining the context '__CG_'\n",
      "!grep \"[A-Z][A-Z]CG[A-Z]\" </Volumes/web/cnidarian/BiGo_larvae_3/methratio_out_{sp}.txt> {sp}_methratio_CG.txt"
     ],
     "language": "python",
     "metadata": {},
     "outputs": [],
     "prompt_number": 19
    },
    {
     "cell_type": "code",
     "collapsed": false,
     "input": [
      "sp=\"T1D5\""
     ],
     "language": "python",
     "metadata": {},
     "outputs": [],
     "prompt_number": 20
    },
    {
     "cell_type": "code",
     "collapsed": false,
     "input": [
      "#command for only obtaining the context '__CG_'\n",
      "!grep \"[A-Z][A-Z]CG[A-Z]\" </Volumes/web/cnidarian/BiGo_larvae_3/methratio_out_{sp}.txt> {sp}_methratio_CG.txt"
     ],
     "language": "python",
     "metadata": {},
     "outputs": [
      {
       "output_type": "stream",
       "stream": "stdout",
       "text": [
        "grep: (standard input): Input/output error\r\n"
       ]
      }
     ],
     "prompt_number": 21
    },
    {
     "cell_type": "code",
     "collapsed": false,
     "input": [
      "sp=\"M3\""
     ],
     "language": "python",
     "metadata": {},
     "outputs": [],
     "prompt_number": 22
    },
    {
     "cell_type": "code",
     "collapsed": false,
     "input": [
      "#command for only obtaining the context '__CG_'\n",
      "!grep \"[A-Z][A-Z]CG[A-Z]\" </Volumes/web/cnidarian/BiGo_larvae_3/methratio_out_{sp}.txt> {sp}_methratio_CG.txt"
     ],
     "language": "python",
     "metadata": {},
     "outputs": [
      {
       "output_type": "stream",
       "stream": "stdout",
       "text": [
        "shell-init: error retrieving current directory: getcwd: cannot access parent directories: No such file or directory\r\n"
       ]
      },
      {
       "output_type": "stream",
       "stream": "stdout",
       "text": [
        "/bin/sh: /Volumes/web/cnidarian/BiGo_larvae_3/methratio_out_M3.txt: No such file or directory\r\n"
       ]
      }
     ],
     "prompt_number": 23
    },
    {
     "cell_type": "code",
     "collapsed": false,
     "input": [
      "sp=\"T3D3\""
     ],
     "language": "python",
     "metadata": {},
     "outputs": [],
     "prompt_number": 24
    },
    {
     "cell_type": "code",
     "collapsed": false,
     "input": [
      "#command for only obtaining the context '__CG_'\n",
      "!grep \"[A-Z][A-Z]CG[A-Z]\" </Volumes/web/cnidarian/BiGo_larvae_3/methratio_out_{sp}.txt> {sp}_methratio_CG.txt"
     ],
     "language": "python",
     "metadata": {},
     "outputs": [
      {
       "output_type": "stream",
       "stream": "stdout",
       "text": [
        "shell-init: error retrieving current directory: getcwd: cannot access parent directories: No such file or directory\r\n",
        "/bin/sh: /Volumes/web/cnidarian/BiGo_larvae_3/methratio_out_T3D3.txt: No such file or directory\r\n"
       ]
      }
     ],
     "prompt_number": 25
    },
    {
     "cell_type": "code",
     "collapsed": false,
     "input": [
      "sp=\"T3D5\""
     ],
     "language": "python",
     "metadata": {},
     "outputs": [],
     "prompt_number": 26
    },
    {
     "cell_type": "code",
     "collapsed": false,
     "input": [
      "#command for only obtaining the context '__CG_'\n",
      "!grep \"[A-Z][A-Z]CG[A-Z]\" </Volumes/web/cnidarian/BiGo_larvae_3/methratio_out_{sp}.txt> {sp}_methratio_CG.txt"
     ],
     "language": "python",
     "metadata": {},
     "outputs": [
      {
       "output_type": "stream",
       "stream": "stdout",
       "text": [
        "shell-init: error retrieving current directory: getcwd: cannot access parent directories: No such file or directory\r\n",
        "/bin/sh: /Volumes/web/cnidarian/BiGo_larvae_3/methratio_out_T3D5.txt: No such file or directory\r\n"
       ]
      }
     ],
     "prompt_number": 27
    },
    {
     "cell_type": "code",
     "collapsed": false,
     "input": [],
     "language": "python",
     "metadata": {},
     "outputs": []
    }
   ],
   "metadata": {}
  }
 ]
}