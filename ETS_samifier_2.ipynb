{
 "metadata": {
  "name": ""
 },
 "nbformat": 3,
 "nbformat_minor": 0,
 "worksheets": [
  {
   "cells": [
    {
     "cell_type": "code",
     "collapsed": false,
     "input": [
      "#Setting up variables\n",
      "#sloc='/Volumes/Bay3/Software/ap11_samifier-master/dist/'\n",
      "sloc='/Applications/ap11_samifier-master/dist/'\n",
      "#timestamp\n",
      "date=!date +%m%d_%H%M"
     ],
     "language": "python",
     "metadata": {},
     "outputs": [],
     "prompt_number": 3
    },
    {
     "cell_type": "code",
     "collapsed": false,
     "input": [
      "!java -jar {sloc}samifier.jar \\\n",
      "-r /Volumes/web/oyster/bioinformatics/xml_files/interact-20120821_103B_251_QE_02.prot.mzid \\\n",
      "-m /Volumes/web/oyster/bioinformatics/103B_251_02_mappingfile.txt \\\n",
      "-g /Volumes/web/cnidarian/ets_v9_q.gff \\\n",
      "-c /Volumes/web/cnidarian/v9_multi \\\n",
      "-o /Volumes/web/cnidarian/Cg_samifier_out{date} \\\n",
      "-l /Volumes/web/cnidarian/log_{date} \\\n",
      "-b /Volumes/web/cnidarian/Cg_{date}.bed "
     ],
     "language": "python",
     "metadata": {},
     "outputs": [
      {
       "output_type": "stream",
       "stream": "stdout",
       "text": [
        "Start document\r\n"
       ]
      },
      {
       "output_type": "stream",
       "stream": "stdout",
       "text": [
        "End document!\r\n",
        "Run exception thrown\r\n",
        "java.lang.NumberFormatException: null\r\n",
        "\tat java.lang.Integer.parseInt(Integer.java:454)\r\n",
        "\tat java.lang.Integer.parseInt(Integer.java:527)\r\n",
        "\tat au.org.intersect.samifier.parser.mzidentml.MzidReader.build(MzidReader.java:113)\r\n",
        "\tat au.org.intersect.samifier.parser.mzidentml.MzidReader.processEvidence(MzidReader.java:137)\r\n",
        "\tat au.org.intersect.samifier.parser.mzidentml.MzidReader.run(MzidReader.java:54)\r\n",
        "\tat au.org.intersect.samifier.parser.PeptideSearchResultsParserImpl.parseMascotPeptideSearchResultsMzidentMLFormat(PeptideSearchResultsParserImpl.java:129)\r\n",
        "\tat au.org.intersect.samifier.parser.PeptideSearchResultsParserImpl.parseResults(PeptideSearchResultsParserImpl.java:79)\r\n",
        "\tat au.org.intersect.samifier.parser.PeptideSearchResultsParserImpl.parseResults(PeptideSearchResultsParserImpl.java:56)\r\n",
        "\tat au.org.intersect.samifier.runner.SamifierRunner.run(SamifierRunner.java:90)\r\n",
        "\tat au.org.intersect.samifier.Samifier.main(Samifier.java:125)\r\n",
        "Version = 1.0.9\r\n",
        "java.lang.NullPointerException\r\n",
        "usage: samifier [-b <bedFile>] -c <chromosomeDir> -g <genomeFile> [-l\r\n",
        "       <logFile>] -m <mappingFile> -o <outputFile> -r <searchResultsFile>\r\n",
        "       [-s <Confidence Score thresold>]\r\n",
        " -b <bedFile>                     Filename to write IGV regions of\r\n",
        "                                  interest (BED) file to\r\n",
        " -c <chromosomeDir>               Directory containing the chromosome\r\n",
        "                                  files in FASTA format for the given\r\n",
        "                                  genome\r\n",
        " -g <genomeFile>                  Genome file in gff format\r\n",
        " -l <logFile>                     Filename to write the log into\r\n",
        " -m <mappingFile>                 File mapping protein identifier to\r\n",
        "                                  ordered locus name\r\n",
        " -o <outputFile>                  Filename to write the SAM format file to\r\n",
        " -r <searchResultsFile>           Mascot search results file in txt format\r\n",
        " -s <Confidence Score thresold>   Minimum confidence score for peptides to\r\n",
        "                                  be included\r\n",
        "java.lang.NullPointerException\r\n",
        "\tat java.util.ArrayList.addAll(ArrayList.java:559)\r\n",
        "\tat au.org.intersect.samifier.parser.PeptideSearchResultsParserImpl.parseResults(PeptideSearchResultsParserImpl.java:56)\r\n",
        "\tat au.org.intersect.samifier.runner.SamifierRunner.run(SamifierRunner.java:90)\r\n"
       ]
      },
      {
       "output_type": "stream",
       "stream": "stdout",
       "text": [
        "\tat au.org.intersect.samifier.Samifier.main(Samifier.java:125)\r\n"
       ]
      }
     ],
     "prompt_number": 4
    },
    {
     "cell_type": "code",
     "collapsed": false,
     "input": [],
     "language": "python",
     "metadata": {},
     "outputs": []
    }
   ],
   "metadata": {}
  }
 ]
}