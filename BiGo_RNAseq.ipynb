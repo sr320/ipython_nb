{
 "metadata": {
  "name": "BiGo_RNAseq"
 },
 "nbformat": 3,
 "nbformat_minor": 0,
 "worksheets": [
  {
   "cells": [
    {
     "cell_type": "markdown",
     "metadata": {},
     "source": [
      "#RNA-Seq data corresponding to BS-Seq Oyster Sperm sample   \n",
      "\n",
      "Now going with direct edits to sync with github!   \n",
      "Updated July 23, 2013 14:30PDT - samtools    \n",
      "Updated July 23, 2013 14:00PDT"
     ]
    },
    {
     "cell_type": "markdown",
     "metadata": {},
     "source": [
      "---\n",
      "Data\n",
      "\n",
      "RNA-seq data from both the sperm and pooled gill samples were provided by the core facility.   \n",
      "Originally BAM files were provided, later followed up with fastq files.\n",
      "\n",
      "<img src=\"https://www.evernote.com/shard/s10/sh/4ac2434b-495e-4fee-8a51-d236cdadcb26/6c0134c45ca4589276b60472a92d19d9/deep/0/72975_GACTAAGA%20et%20al%20and%20(274)%20Discovery%20Environment.png\" alt=\"72975_GACTAAGA%20et%20al%20and%20(274)%20Discovery%20Environment\" width = 350/>\n",
      "\n",
      "\n",
      "\n",
      "\n",
      "Sperm data = 72976/GTGTCTAC\n",
      "\n",
      "\n",
      "\n"
     ]
    },
    {
     "cell_type": "markdown",
     "metadata": {},
     "source": [
      "---\n",
      "##CLC \n",
      "fastq import   (s_1.GTGTCTAC_1 (paired)-1)   \n",
      "51,084,360 sequences\n",
      "\n",
      "`\n",
      "          Discard read names = Yes\n",
      "          Discard quality scores = No\n",
      "          Paired orientation = Paired reads (forward-reverse)\n",
      "          Minimum distance = 180\n",
      "          Maximum distance = 250\n",
      "          Original sequence resource = /Volumes/NGS Drive/NGS Raw Data/RNA_complement_BS/C25GNACXX.oyster.fastqs/s_1.GTGTCTAC_1.fastq\n",
      "          Original sequence resource = /Volumes/NGS Drive/NGS Raw Data/RNA_complement_BS/C25GNACXX.oyster.fastqs/s_1.GTGTCTAC_2.fastq\n",
      "          Quality score = NCBI/Sanger or Illumina Pipeline 1.8 and later\n",
      "          MiSeq de-multiplexing = No\n",
      "`\n",
      "\n",
      "####QC Report\n",
      "<https://docs.google.com/file/d/0B9V_gF766XZAS0dRTE1LSDFBcXc/preview>\n",
      "\n",
      "####Supp QC Report\n",
      "<https://docs.google.com/file/d/0B9V_gF766XZAZ2dYLTk3QmVvQVE/preview>\n"
     ]
    },
    {
     "cell_type": "markdown",
     "metadata": {},
     "source": [
      "---\n",
      "Trimming   \n",
      "\n",
      "<img src=\"https://www.evernote.com/shard/s10/sh/da2de123-a038-4673-ac96-e820495da318/d9bc04d24be8189106a8492d31c94a25/deep/0/CLC%20Genomics%20Workbench%206.0.2.png\" alt=\"CLC%20Genomics%20Workbench%206.0.2\" width = 350 />\n",
      "\n",
      "\n",
      "\n",
      "\n",
      "\n",
      "\n",
      "\n",
      "\n",
      "---\n",
      "\n",
      "###RNA-seq  \n",
      "\n",
      "Input file\n",
      "\n",
      "<img src=\"https://www.evernote.com/shard/s10/sh/321c68fe-66cb-445f-97e1-9e1f6a42b111/569fbda2a23eb2a3060d45061c4b6e32/deep/0/CLC%20Genomics%20Workbench%206.0.2.png\" alt=\"CLC%20Genomics%20Workbench%206.0.2\" />  \n",
      "\n",
      "\n",
      "\n",
      "*Need to modify GFF so that CLC recognizes to annotate*\n",
      "\n",
      "<http://eagle.fish.washington.edu/cnidarian/oyster.v9.gene_mRNA.gff>"
     ]
    },
    {
     "cell_type": "code",
     "collapsed": false,
     "input": [
      "!head /Volumes/web/cnidarian/oyster.v9.gene_mRNA.gff"
     ],
     "language": "python",
     "metadata": {},
     "outputs": [
      {
       "output_type": "stream",
       "stream": "stdout",
       "text": [
        "C16582\tGLEAN\tgene\t35\t385\t0.555898\t-\t.\tID=CGI_10000001;\r\n",
        "C16582\tGLEAN\tmrna\t35\t385\t.\t-\t0\tParent=CGI_10000001;\r\n",
        "C17212\tGLEAN\tgene\t31\t363\t0.999572\t+\t.\tID=CGI_10000002;\r\n",
        "C17212\tGLEAN\tmrna\t31\t363\t.\t+\t0\tParent=CGI_10000002;\r\n",
        "C17316\tGLEAN\tgene\t30\t257\t0.555898\t+\t.\tID=CGI_10000003;\r\n",
        "C17316\tGLEAN\tmrna\t30\t257\t.\t+\t0\tParent=CGI_10000003;\r\n",
        "C17476\tGLEAN\tgene\t34\t257\t0.998947\t-\t.\tID=CGI_10000004;\r\n",
        "C17476\tGLEAN\tmrna\t104\t257\t.\t-\t0\tParent=CGI_10000004;\r\n",
        "C17476\tGLEAN\tmrna\t34\t74\t.\t-\t2\tParent=CGI_10000004;\r\n",
        "C17998\tGLEAN\tgene\t196\t387\t1\t-\t.\tID=CGI_10000005;\r\n"
       ]
      }
     ],
     "prompt_number": 3
    },
    {
     "cell_type": "code",
     "collapsed": false,
     "input": [
      "!wc /Volumes/web/cnidarian/oyster.v9.gene_mRNA.gff"
     ],
     "language": "python",
     "metadata": {},
     "outputs": [
      {
       "output_type": "stream",
       "stream": "stdout",
       "text": [
        "  224718 2022462 14376214 /Volumes/web/cnidarian/oyster.v9.gene_mRNA.gff\r\n"
       ]
      }
     ],
     "prompt_number": 4
    },
    {
     "cell_type": "markdown",
     "metadata": {},
     "source": [
      "Annotated version 9 of oyster genome then ran RNA-seq with Exon Discovery and Expression value as transcripts. Only using paired data.\n",
      "\n",
      "\n",
      "<img src=\"https://www.evernote.com/shard/s10/sh/9fda72d7-e91d-4ed9-abb5-131a5d9e86b5/161bdfe15d31164df439659822f22303/deep/0/RNA-Seq%20Analysis.png\" alt=\"RNA-Seq%20Analysis\" />\n",
      "\n",
      "\n",
      "##_Concerned about the number of mapped reads_  \n",
      "\n",
      "\n",
      "<img src=\"http://eagle.fish.washington.edu/cnidarian/skitch/CLC_Genomics_Workbench_6.0.2_179F262E.png\" alt=\"CLC_Genomics_Workbench_6.0.2_179F262E.png\"/>\n",
      "\n",
      "Full Report \n",
      "\n",
      "<http://eagle.fish.washington.edu/cnidarian/BiGo_RNAseq_report_072313a>\n"
     ]
    },
    {
     "cell_type": "markdown",
     "metadata": {},
     "source": [
      "<img src=\"http://eagle.fish.washington.edu/cnidarian/skitch/CLC_Genomics_Workbench_6.0.2_17AB0078.png\" alt=\"CLC_Genomics_Workbench_6.0.2_17AB0078.png\"/>"
     ]
    },
    {
     "cell_type": "code",
     "collapsed": false,
     "input": [
      "#export of transcript-based table\n",
      "!wc /Volumes/web/cnidarian/BiGoRNAseq_exon_exp_1.txt"
     ],
     "language": "python",
     "metadata": {},
     "outputs": [
      {
       "output_type": "stream",
       "stream": "stdout",
       "text": [
        "  196692 2753710 15000644 /Volumes/web/cnidarian/BiGoRNAseq_exon_exp_1.txt\r\n"
       ]
      }
     ],
     "prompt_number": 5
    },
    {
     "cell_type": "code",
     "collapsed": false,
     "input": [
      "!head /Volumes/web/cnidarian/BiGoRNAseq_exon_exp_1.txt"
     ],
     "language": "python",
     "metadata": {},
     "outputs": [
      {
       "output_type": "stream",
       "stream": "stdout",
       "text": [
        "\"Feature ID\"\t\"Expression values\"\t\"Gene name\"\t\"Transcripts annotated\"\t\"Transcript length\"\t\"Transcript ID\"\t\"Unique transcript reads\"\t\"Total transcript reads\"\t\"Ratio of unique to total (transcript reads)\"\t\"Exons\"\t\"RPKM\"\t\"Relative RPKM\"\t\"Chromosome\"\t\"Chromosome region start\"\t\"Chromosome region end\"\r\n",
        "CGI_10000780.1\t0\tCGI_10000780\t2\t1248\t\t0\t0\t?\t1\t0\t1\tscaffold350\t1959\t3206\r\n",
        "CGI_10000780.2\t0\tCGI_10000780\t2\t102\t\t0\t0\t?\t1\t0\t1\tscaffold350\t1105\t1206\r\n",
        "CGI_10000456.1\t0\tCGI_10000456\t4\t97\t\t0\t0\t?\t1\t0\t1\tscaffold28720\t349\t445\r\n",
        "CGI_10000456.2\t0\tCGI_10000456\t4\t151\t\t0\t0\t?\t1\t0\t1\tscaffold28720\t943\t1093\r\n",
        "CGI_10000456.3\t0\tCGI_10000456\t4\t124\t\t0\t0\t?\t1\t0\t1\tscaffold28720\t1481\t1604\r\n",
        "CGI_10000456.4\t0\tCGI_10000456\t4\t66\t\t0\t0\t?\t1\t0\t1\tscaffold28720\t1973\t2038\r\n",
        "CGI_10000457.1\t0\tCGI_10000457\t7\t94\t\t0\t0\t?\t1\t0\t1\tscaffold28720\t5599\t5692\r\n",
        "CGI_10000457.2\t0\tCGI_10000457\t7\t138\t\t0\t0\t?\t1\t0\t1\tscaffold28720\t5175\t5312\r\n",
        "CGI_10000457.3\t0\tCGI_10000457\t7\t50\t\t0\t0\t?\t1\t0\t1\tscaffold28720\t4978\t5027\r\n"
       ]
      }
     ],
     "prompt_number": 8
    },
    {
     "cell_type": "code",
     "collapsed": false,
     "input": [
      "from pandas import *\n",
      "\n",
      "# read data from data file into a pandas DataFrame  \n",
      "BiGoRNAseq_exon = read_table(\"/Volumes/web/cnidarian/BiGoRNAseq_exon_exp_1.txt\", # name of the data file\n",
      "            #sep=\",\", # what character separates each column?\n",
      "            na_values=[\"\", \" \"]) # what values should be considered \"blank\" values?"
     ],
     "language": "python",
     "metadata": {},
     "outputs": [],
     "prompt_number": 17
    },
    {
     "cell_type": "code",
     "collapsed": false,
     "input": [
      "BiGoRNAseq_exon.dtypes"
     ],
     "language": "python",
     "metadata": {},
     "outputs": [
      {
       "output_type": "pyout",
       "prompt_number": 43,
       "text": [
        "Feature ID                                      object\n",
        "Expression values                              float64\n",
        "Gene name                                       object\n",
        "Transcripts annotated                            int64\n",
        "Transcript length                                int64\n",
        "Transcript ID                                  float64\n",
        "Unique transcript reads                          int64\n",
        "Total transcript reads                           int64\n",
        "Ratio of unique to total (transcript reads)     object\n",
        "Exons                                            int64\n",
        "RPKM                                           float64\n",
        "Relative RPKM                                  float64\n",
        "Chromosome                                      object\n",
        "Chromosome region start                          int64\n",
        "Chromosome region end                            int64"
       ]
      }
     ],
     "prompt_number": 43
    },
    {
     "cell_type": "code",
     "collapsed": false,
     "input": [
      "print BiGoRNAseq_exon"
     ],
     "language": "python",
     "metadata": {},
     "outputs": [
      {
       "output_type": "stream",
       "stream": "stdout",
       "text": [
        "<class 'pandas.core.frame.DataFrame'>\n",
        "Int64Index: 196691 entries, 0 to 196690\n",
        "Data columns:\n",
        "Feature ID                                     196691  non-null values\n",
        "Expression values                              196691  non-null values\n",
        "Gene name                                      196691  non-null values\n",
        "Transcripts annotated                          196691  non-null values\n",
        "Transcript length                              196691  non-null values\n",
        "Transcript ID                                  0  non-null values\n",
        "Unique transcript reads                        196691  non-null values\n",
        "Total transcript reads                         196691  non-null values\n",
        "Ratio of unique to total (transcript reads)    196691  non-null values\n",
        "Exons                                          196691  non-null values\n",
        "RPKM                                           196691  non-null values\n",
        "Relative RPKM                                  196691  non-null values\n",
        "Chromosome                                     196691  non-null values\n",
        "Chromosome region start                        196691  non-null values\n",
        "Chromosome region end                          196691  non-null values\n",
        "dtypes: float64(4), int64(7), object(4)"
       ]
      },
      {
       "output_type": "stream",
       "stream": "stdout",
       "text": [
        "\n"
       ]
      }
     ],
     "prompt_number": 22
    },
    {
     "cell_type": "code",
     "collapsed": false,
     "input": [
      "BiGoRNAseq_exon['RPKM'].hist(bins=100);\n",
      "#Axis limits are changed using the axis([xmin, xmax, ymin, ymax]) function.\n",
      "#axis([0, 1000, 0, 1000000])\n"
     ],
     "language": "python",
     "metadata": {},
     "outputs": [
      {
       "output_type": "pyout",
       "prompt_number": 47,
       "text": [
        "<matplotlib.axes.AxesSubplot at 0x11e4d8a90>"
       ]
      },
      {
       "output_type": "display_data",
       "png": "[encoded data removed]"
      }
     ],
     "prompt_number": 47
    },
    {
     "cell_type": "code",
     "collapsed": false,
     "input": [
      "BiGoRNAseq_exon(x='Transcripts annotated', y='Transcripts length', style='o');"
     ],
     "language": "python",
     "metadata": {},
     "outputs": [
      {
       "ename": "TypeError",
       "evalue": "'DataFrame' object is not callable",
       "output_type": "pyerr",
       "traceback": [
        "\u001b[0;31m---------------------------------------------------------------------------\u001b[0m\n\u001b[0;31mTypeError\u001b[0m                                 Traceback (most recent call last)",
        "\u001b[0;32m<ipython-input-44-35489418b778>\u001b[0m in \u001b[0;36m<module>\u001b[0;34m()\u001b[0m\n\u001b[0;32m----> 1\u001b[0;31m \u001b[0mBiGoRNAseq_exon\u001b[0m\u001b[0;34m(\u001b[0m\u001b[0mx\u001b[0m\u001b[0;34m=\u001b[0m\u001b[0;34m'Transcripts annotated'\u001b[0m\u001b[0;34m,\u001b[0m \u001b[0my\u001b[0m\u001b[0;34m=\u001b[0m\u001b[0;34m'Transcripts length'\u001b[0m\u001b[0;34m,\u001b[0m \u001b[0mstyle\u001b[0m\u001b[0;34m=\u001b[0m\u001b[0;34m'o'\u001b[0m\u001b[0;34m)\u001b[0m\u001b[0;34m;\u001b[0m\u001b[0;34m\u001b[0m\u001b[0m\n\u001b[0m",
        "\u001b[0;31mTypeError\u001b[0m: 'DataFrame' object is not callable"
       ]
      }
     ],
     "prompt_number": 44
    },
    {
     "cell_type": "markdown",
     "metadata": {},
     "source": [
      "---   \n",
      "###Upload to SQLShare\n",
      "\n",
      "Query to get Genome track\n",
      "\n",
      "```\n",
      "SELECT\n",
      " [\"Chromosome\"] as seqname,\n",
      " 'CLC_RNAseq' as source,\n",
      " 'TranscriptExp' as feature, \n",
      " [\"Chromosome region start\"] as start,\n",
      "  [\"Chromosome region start\"] as [end],\n",
      "  [\"RPKM\"] as score,\n",
      "  '.' as strand,\n",
      "   '.' as frame,\n",
      "   [\"Gene name\"] as attribute\n",
      "  FROM [sr320@washington.edu].[table_BiGoRNAseq_exon_exp_1.txt]\u200b\n",
      "```    \n",
      "\n",
      "\n"
     ]
    },
    {
     "cell_type": "code",
     "collapsed": false,
     "input": [
      "!head /Volumes/web/cnidarian/BiGoRNAseq_exon_exp_track.csv"
     ],
     "language": "python",
     "metadata": {},
     "outputs": [
      {
       "output_type": "stream",
       "stream": "stdout",
       "text": [
        "seqname,source,feature,start,end,score,strand,frame,attribute\r",
        "\r\n",
        "C16582,CLC_RNAseq,TranscriptExp,35,35,31.6,.,.,CGI_10000001\r",
        "\r\n",
        "C17212,CLC_RNAseq,TranscriptExp,31,31,2.776,.,.,CGI_10000002\r",
        "\r\n",
        "C17316,CLC_RNAseq,TranscriptExp,30,30,0,.,.,CGI_10000003\r",
        "\r\n",
        "C17476,CLC_RNAseq,TranscriptExp,217,217,0,.,.,CGI_10000004\r",
        "\r\n",
        "C17476,CLC_RNAseq,TranscriptExp,34,34,0,.,.,CGI_10000004\r",
        "\r\n",
        "C17998,CLC_RNAseq,TranscriptExp,196,196,0,.,.,CGI_10000005\r",
        "\r\n",
        "C18346,CLC_RNAseq,TranscriptExp,174,174,14.671,.,.,CGI_10000009\r",
        "\r\n",
        "C18428,CLC_RNAseq,TranscriptExp,286,286,240.811,.,.,CGI_10000010\r",
        "\r\n",
        "C18964,CLC_RNAseq,TranscriptExp,203,203,0,.,.,CGI_10000011\r",
        "\r\n"
       ]
      }
     ],
     "prompt_number": 49
    },
    {
     "cell_type": "code",
     "collapsed": false,
     "input": [
      "!tr ',' \"\\t\" </Volumes/web/cnidarian/BiGoRNAseq_exon_exp_track.csv> /Volumes/web/cnidarian/BiGoRNAseq_exon_exp_track.gff"
     ],
     "language": "python",
     "metadata": {},
     "outputs": [],
     "prompt_number": 52
    },
    {
     "cell_type": "code",
     "collapsed": false,
     "input": [
      "!head /Volumes/web/cnidarian/BiGoRNAseq_exon_exp_track.gff"
     ],
     "language": "python",
     "metadata": {},
     "outputs": [
      {
       "output_type": "stream",
       "stream": "stdout",
       "text": [
        "seqname\tsource\tfeature\tstart\tend\tscore\tstrand\tframe\tattribute\r",
        "\r\n",
        "C16582\tCLC_RNAseq\tTranscriptExp\t35\t35\t31.6\t.\t.\tCGI_10000001\r",
        "\r\n",
        "C17212\tCLC_RNAseq\tTranscriptExp\t31\t31\t2.776\t.\t.\tCGI_10000002\r",
        "\r\n",
        "C17316\tCLC_RNAseq\tTranscriptExp\t30\t30\t0\t.\t.\tCGI_10000003\r",
        "\r\n",
        "C17476\tCLC_RNAseq\tTranscriptExp\t217\t217\t0\t.\t.\tCGI_10000004\r",
        "\r\n",
        "C17476\tCLC_RNAseq\tTranscriptExp\t34\t34\t0\t.\t.\tCGI_10000004\r",
        "\r\n",
        "C17998\tCLC_RNAseq\tTranscriptExp\t196\t196\t0\t.\t.\tCGI_10000005\r",
        "\r\n",
        "C18346\tCLC_RNAseq\tTranscriptExp\t174\t174\t14.671\t.\t.\tCGI_10000009\r",
        "\r\n",
        "C18428\tCLC_RNAseq\tTranscriptExp\t286\t286\t240.811\t.\t.\tCGI_10000010\r",
        "\r\n",
        "C18964\tCLC_RNAseq\tTranscriptExp\t203\t203\t0\t.\t.\tCGI_10000011\r",
        "\r\n"
       ]
      }
     ],
     "prompt_number": 53
    },
    {
     "cell_type": "code",
     "collapsed": false,
     "input": [
      "!wc /Volumes/web/cnidarian/BiGoRNAseq_exon_exp_track.gff"
     ],
     "language": "python",
     "metadata": {},
     "outputs": [
      {
       "output_type": "stream",
       "stream": "stdout",
       "text": [
        "  196692 1770228 14001279 /Volumes/web/cnidarian/BiGoRNAseq_exon_exp_track.gff\r\n"
       ]
      }
     ],
     "prompt_number": 54
    },
    {
     "cell_type": "code",
     "collapsed": false,
     "input": [
      "!head /Volumes/web/cnidarian/BiGoRNAseq_exon_exp_track2.csv"
     ],
     "language": "python",
     "metadata": {},
     "outputs": [
      {
       "output_type": "stream",
       "stream": "stdout",
       "text": [
        "seqname,start,end,feature,score\r",
        "\r\n",
        "C16582,35,385,tr_expression,31.6\r",
        "\r\n",
        "C17212,31,363,tr_expression,2.776\r",
        "\r\n",
        "C17316,30,257,tr_expression,0\r",
        "\r\n",
        "C17476,217,257,tr_expression,0\r",
        "\r\n",
        "C17476,34,187,tr_expression,0\r",
        "\r\n",
        "C17998,196,387,tr_expression,0\r",
        "\r\n",
        "C18346,174,551,tr_expression,14.671\r",
        "\r\n",
        "C18428,286,546,tr_expression,240.811\r",
        "\r\n",
        "C18964,203,658,tr_expression,0\r",
        "\r\n"
       ]
      }
     ],
     "prompt_number": 60
    },
    {
     "cell_type": "code",
     "collapsed": false,
     "input": [
      "!tr ',' \"\\t\" </Volumes/web/cnidarian/BiGoRNAseq_exon_exp_track2.csv> /Volumes/web/cnidarian/BiGoRNAseq_exon_exp_track2.igv"
     ],
     "language": "python",
     "metadata": {},
     "outputs": [],
     "prompt_number": 61
    },
    {
     "cell_type": "markdown",
     "metadata": {},
     "source": [
      "IGV file based on exons / transcripts\n",
      "\n",
      "<http://eagle.fish.washington.edu/cnidarian/BiGoRNAseq_exon_exp_track2.sorted.igv>"
     ]
    },
    {
     "cell_type": "code",
     "collapsed": false,
     "input": [
      "#WHY not just run bedtools on Accepted hit bam?\n",
      "\n"
     ],
     "language": "python",
     "metadata": {},
     "outputs": [],
     "prompt_number": 62
    },
    {
     "cell_type": "markdown",
     "metadata": {},
     "source": [
      "\n",
      "\n",
      "---\n",
      "\n",
      "\n",
      "\n",
      "##RefMap (to see what proportion map)\n",
      "\n",
      "<img src=\"http://eagle.fish.washington.edu/cnidarian/skitch/greenbird_17A05407.png\" alt=\"greenbird_17A05407.png\"/>\n",
      "\n",
      "Report    \n",
      "<http://eagle.fish.washington.edu/cnidarian/BiGo_RNA_refmap_report_a>\n",
      "\n",
      "    \n",
      "Only about 50% of reads map?\n",
      "    \n",
      "Will run again an try to assemble unmapped reads to determine what they are..\n",
      "    \n",
      "Running- reduced stringency to default, ignore vs random, kept unmapped reads, and output set as track    \n",
      "\n",
      "<img src=\"http://eagle.fish.washington.edu/cnidarian/skitch/CLC_Genomics_Workbench_6.0.2_17A1B50E.png\" alt=\"CLC_Genomics_Workbench_6.0.2_17A1B50E.png\"/>    \n",
      "    \n",
      "<img src=\"http://eagle.fish.washington.edu/cnidarian/skitch/CLC_Genomics_Workbench_6.0.2_17A1B4E8.png\" alt=\"CLC_Genomics_Workbench_6.0.2_17A1B4E8.png\"/>  \n",
      "    \n",
      "    \n",
      "---\n",
      "    \n",
      "\n",
      "##De novo assembly of reads that did not map\n",
      "    \n",
      "Fast de novo on 21M unmapped    \n",
      "    \n",
      "    \n",
      "<img src=\"http://eagle.fish.washington.edu/cnidarian/skitch/CLC_Genomics_Workbench_6.5_Beta_3_17A6B13D.png\" alt=\"CLC_Genomics_Workbench_6.5_Beta_3_17A6B13D.png\"/>\n",
      "    \n",
      "    \n",
      "    \n"
     ]
    },
    {
     "cell_type": "code",
     "collapsed": false,
     "input": [
      "!head /Volumes/web/cnidarian/BiGo_RNAseq_unmapped.fa"
     ],
     "language": "python",
     "metadata": {},
     "outputs": [
      {
       "output_type": "stream",
       "stream": "stdout",
       "text": [
        ">s_1.GTGTCTAC_1_(paired)-1_trimmed_(paired)_un-mapped_reads_[no_read_group]_(single)_contig_1\r\n",
        "CCAGTCTAAAGCTCGGGCGCCTCCGGGAATAACTGTTATTATGTTAGTAATCACAGTTAA\r\n",
        "GCCCCAGTAAGACATGACCCCTCAAGGAAGGACATACCCTAAAAACCCAACTCCCATAGA\r\n",
        "CAATAAATACAAAGTTAGTCCGCTATACCAGACATGCGTATTTTTTAAATATGCCCCAAA\r\n",
        "ATAGACCCCACGAGCAATATGCATGTAAATTAGAGCAAAAAATATAGATGCGCCTCCCAT\r\n",
        "ATGAAGCCTTCGAATAATTCAACCATAATTCGCATCGCGTATAATATAATCCACACTCAC\r\n",
        "AACAGCAAGCTGCTCATCTGCAGTATAGTTTATTGTGAGTATAACACCAGTCAAAATTTG\r\n",
        "CGCCCCTAAAATTAAAAATAGTATAGACCCCATATTTCATCAAACACTTAAATTTGGAGG\r\n",
        "ACAAGGATACTTTAAAGCCTCATAATAATAATTAGATACTCTTTTCCCCGGGCCGTCATC\r\n",
        "AGCCCTAGCCTCTACGAACCTAACGCTCAGTAGTAATCTGAACGAGAGAAAGATTGCCCT\r\n"
       ]
      }
     ],
     "prompt_number": 1
    },
    {
     "cell_type": "code",
     "collapsed": false,
     "input": [
      "!blastx -query /Volumes/web/cnidarian/BiGo_RNAseq_unmapped.fa -db /Volumes/web/whale/fish546/blast/db/swissprot -out /Volumes/web/cnidarian/BiGoRNAseq_unmapped_swissprot_blastout -outfmt 6 -evalue 1E-10 -max_target_seqs 1 -num_threads 2"
     ],
     "language": "python",
     "metadata": {},
     "outputs": [
      {
       "output_type": "stream",
       "stream": "stdout",
       "text": [
        "Selenocysteine (U) at position 690 replaced by X\r\n",
        "Selenocysteine (U) at position 690 replaced by X\r\n"
       ]
      },
      {
       "output_type": "stream",
       "stream": "stdout",
       "text": [
        "Selenocysteine (U) at position 690 replaced by X\r\n"
       ]
      },
      {
       "output_type": "stream",
       "stream": "stdout",
       "text": [
        "Selenocysteine (U) at position 140 replaced by X\r\n"
       ]
      },
      {
       "output_type": "stream",
       "stream": "stdout",
       "text": [
        "Selenocysteine (U) at position 196 replaced by X\r\n"
       ]
      },
      {
       "output_type": "stream",
       "stream": "stdout",
       "text": [
        "Selenocysteine (U) at position 204 replaced by X\r\n",
        "Selenocysteine (U) at position 196 replaced by X\r\n",
        "Selenocysteine (U) at position 193 replaced by X\r\n"
       ]
      },
      {
       "output_type": "stream",
       "stream": "stdout",
       "text": [
        "Selenocysteine (U) at position 493 replaced by X\r\n"
       ]
      },
      {
       "output_type": "stream",
       "stream": "stdout",
       "text": [
        "Selenocysteine (U) at position 24 replaced by X\r\n",
        "Selenocysteine (U) at position 63 replaced by X\r\n"
       ]
      },
      {
       "output_type": "stream",
       "stream": "stdout",
       "text": [
        "Selenocysteine (U) at position 25 replaced by X\r\n"
       ]
      },
      {
       "output_type": "stream",
       "stream": "stdout",
       "text": [
        "Selenocysteine (U) at position 63 replaced by X\r\n"
       ]
      },
      {
       "output_type": "stream",
       "stream": "stdout",
       "text": [
        "Selenocysteine (U) at position 60 replaced by X\r\n"
       ]
      },
      {
       "output_type": "stream",
       "stream": "stdout",
       "text": [
        "Selenocysteine (U) at position 73 replaced by X\r\n"
       ]
      },
      {
       "output_type": "stream",
       "stream": "stdout",
       "text": [
        "Selenocysteine (U) at position 73 replaced by X\r\n",
        "Selenocysteine (U) at position 73 replaced by X\r\n",
        "Selenocysteine (U) at position 73 replaced by X\r\n"
       ]
      },
      {
       "output_type": "stream",
       "stream": "stdout",
       "text": [
        "Selenocysteine (U) at position 73 replaced by X\r\n",
        "Selenocysteine (U) at position 73 replaced by X\r\n",
        "Selenocysteine (U) at position 73 replaced by X\r\n",
        "Selenocysteine (U) at position 73 replaced by X\r\n",
        "Selenocysteine (U) at position 73 replaced by X\r\n",
        "Selenocysteine (U) at position 73 replaced by X\r\n",
        "Selenocysteine (U) at position 73 replaced by X\r\n"
       ]
      },
      {
       "output_type": "stream",
       "stream": "stdout",
       "text": [
        "Selenocysteine (U) at position 43 replaced by X\r\n",
        "Selenocysteine (U) at position 73 replaced by X\r\n"
       ]
      }
     ],
     "prompt_number": 3
    },
    {
     "cell_type": "code",
     "collapsed": false,
     "input": [
      "!head /Volumes/web/cnidarian/BiGoRNAseq_unmapped_swissprot_blastout"
     ],
     "language": "python",
     "metadata": {},
     "outputs": [
      {
       "output_type": "stream",
       "stream": "stdout",
       "text": [
        "s_1.GTGTCTAC_1_(paired)-1_trimmed_(paired)_un-mapped_reads_[no_read_group]_(single)_contig_1\tgi|3121895|sp|Q37705.1|COX1_ARTSF\t55.23\t507\t224\t2\t4105\t2594\t5\t511\t2e-140\t 457\r\n",
        "s_1.GTGTCTAC_1_(paired)-1_trimmed_(paired)_un-mapped_reads_[no_read_group]_(single)_contig_4\tgi|3914777|sp|O61463.1|RLA2_CRYST\t56.25\t112\t47\t1\t392\t57\t1\t110\t9e-21\t86.7\r\n",
        "s_1.GTGTCTAC_1_(paired)-1_trimmed_(paired)_un-mapped_reads_[no_read_group]_(single)_contig_5\tgi|54041577|sp|P13418.2|POLS_CRPVC\t22.81\t754\t440\t25\t2769\t787\t43\t747\t1e-25\t 118\r\n",
        "s_1.GTGTCTAC_1_(paired)-1_trimmed_(paired)_un-mapped_reads_[no_read_group]_(single)_contig_6\tgi|135489|sp|P11833.1|TBB_PARLI\t99.29\t420\t3\t0\t1425\t166\t11\t430\t0.0\t 839\r\n",
        "s_1.GTGTCTAC_1_(paired)-1_trimmed_(paired)_un-mapped_reads_[no_read_group]_(single)_contig_7\tgi|341941223|sp|P29341.2|PABP1_MOUSE\t85.23\t88\t13\t0\t1063\t800\t536\t623\t2e-38\t 150\r\n",
        "s_1.GTGTCTAC_1_(paired)-1_trimmed_(paired)_un-mapped_reads_[no_read_group]_(single)_contig_8\tgi|2500286|sp|Q26481.3|RL5_STYCL\t75.93\t295\t70\t1\t1168\t284\t1\t294\t1e-134\t 395\r\n",
        "s_1.GTGTCTAC_1_(paired)-1_trimmed_(paired)_un-mapped_reads_[no_read_group]_(single)_contig_9\tgi|109940067|sp|P00428.2|COX5B_BOVIN\t52.94\t51\t23\t1\t430\t281\t72\t122\t7e-13\t65.9\r\n",
        "s_1.GTGTCTAC_1_(paired)-1_trimmed_(paired)_un-mapped_reads_[no_read_group]_(single)_contig_10\tgi|71151870|sp|Q8TC29.1|ENKUR_HUMAN\t49.79\t235\t112\t2\t891\t187\t26\t254\t1e-67\t 218\r\n",
        "s_1.GTGTCTAC_1_(paired)-1_trimmed_(paired)_un-mapped_reads_[no_read_group]_(single)_contig_13\tgi|115305840|sp|Q2NKZ1.1|TCPH_BOVIN\t82.76\t116\t20\t0\t1089\t742\t299\t414\t3e-108\t 212\r\n",
        "s_1.GTGTCTAC_1_(paired)-1_trimmed_(paired)_un-mapped_reads_[no_read_group]_(single)_contig_14\tgi|6094094|sp|O57592.3|RL7A_FUGRU\t77.08\t240\t53\t1\t770\t51\t29\t266\t1e-125\t 366\r\n"
       ]
      }
     ],
     "prompt_number": 4
    },
    {
     "cell_type": "code",
     "collapsed": false,
     "input": [
      "!wc /Volumes/web/cnidarian/BiGoRNAseq_unmapped_swissprot_blastout"
     ],
     "language": "python",
     "metadata": {},
     "outputs": [
      {
       "output_type": "stream",
       "stream": "stdout",
       "text": [
        "    1600   19200  271972 /Volumes/web/cnidarian/BiGoRNAseq_unmapped_swissprot_blastout\r\n"
       ]
      }
     ],
     "prompt_number": 5
    },
    {
     "cell_type": "code",
     "collapsed": false,
     "input": [
      "##Blast againa and get taxonomy info\n",
      "# ./blastn -query /Volumes/web/cnidarian/BiGo_RNAseq_unmapped.fa -db /Volumes/CLC_blastdatabases/nt -out /Volumes/web/cnidarian/BiGo_RNAseq_unmapped_nt_blastout_taxa2 -outfmt \"6 std stitle staxids sscinames scomnames sblastnames\" -evalue 1E-20 -max_target_seqs 1 -task blastn -num_threads 6"
     ],
     "language": "python",
     "metadata": {},
     "outputs": [
      {
       "output_type": "stream",
       "stream": "stdout",
       "text": [
        "^C\r\n"
       ]
      }
     ],
     "prompt_number": 2
    },
    {
     "cell_type": "code",
     "collapsed": false,
     "input": [
      "!wc /Volumes/web/cnidarian/BiGo_RNAseq_unmapped_nt_blastout_taxa2"
     ],
     "language": "python",
     "metadata": {},
     "outputs": [
      {
       "output_type": "stream",
       "stream": "stdout",
       "text": [
        "      22     556    5720 /Volumes/web/cnidarian/BiGo_RNAseq_unmapped_nt_blastout_taxa2\r\n"
       ]
      }
     ],
     "prompt_number": 50
    },
    {
     "cell_type": "markdown",
     "metadata": {},
     "source": [
      "---  \n",
      "\n",
      "\n",
      "##Tophat Analysis   \n",
      "\n",
      "\n",
      "--\n",
      "\n",
      "<img src=\"https://www.evernote.com/shard/s10/sh/bcebc40c-4ef5-4db0-b1e8-2badf9e3fa18/108103c1cab7c7b6ab9b9cbd1f3768b3/deep/0/(274)%20Discovery%20Environment.png\" alt=\"(274)%20Discovery%20Environment\" />\n",
      "\n",
      "\n",
      "TopHat Output\n",
      "\n",
      "The tophat script produces a number of files in the directory in which it was invoked. Most of these files are internal, intermediate files that are generated for use within the pipeline. The output files you will likely want to look at are:\n",
      "\n",
      "accepted_hits.bam. A list of read alignments in SAM format. SAM is a compact short read alignment format that is increasingly being adopted. The formal specification is here.    \n",
      "\n",
      "junctions.bed. A UCSC BED track of junctions reported by TopHat. Each junction consists of two connected BED blocks, where each block is as long as the maximal overhang of any read spanning the junction. The score is the number of alignments spanning the junction.  \n",
      "\n",
      "insertions.bed and deletions.bed. UCSC BED tracks of insertions and deletions reported by TopHat.    \n",
      "\n",
      "Insertions.bed - chromLeft refers to the last genomic base before the insertion.    \n",
      "\n",
      "Deletions.bed - chromLeft refers to the first genomic base of the deletion.  \n",
      "\n",
      "---\n",
      "\n",
      "Data @ <http://eagle.fish.washington.edu/cnidarian/index.php?dir=tophat_071313%2F>\n",
      "\n",
      "\n"
     ]
    },
    {
     "cell_type": "code",
     "collapsed": false,
     "input": [
      "ls /Volumes/web/cnidarian/tophat_071313"
     ],
     "language": "python",
     "metadata": {},
     "outputs": [
      {
       "output_type": "stream",
       "stream": "stdout",
       "text": [
        "\u001b[31maccepted_hits.bam\u001b[m\u001b[m*             \u001b[31mprep_reads.info\u001b[m\u001b[m*\r\n",
        "\u001b[31mdeletions.bed\u001b[m\u001b[m*                 \u001b[31ms_1.bam\u001b[m\u001b[m*\r\n",
        "\u001b[31minsertions.bed\u001b[m\u001b[m*                \u001b[31ms_1.bam.bai\u001b[m\u001b[m*\r\n",
        "\u001b[31mjunctions.bed\u001b[m\u001b[m*                 \u001b[31munmapped.bam\u001b[m\u001b[m*\r\n",
        "\u001b[31mlookup_roberts_grc_oyster.xls\u001b[m\u001b[m*\r\n"
       ]
      }
     ],
     "prompt_number": 2
    },
    {
     "cell_type": "code",
     "collapsed": false,
     "input": [
      "!head /Volumes/web/cnidarian/tophat_071313/junctions.bed"
     ],
     "language": "python",
     "metadata": {},
     "outputs": [
      {
       "output_type": "stream",
       "stream": "stdout",
       "text": [
        "track name=junctions description=\"TopHat junctions\"\r\n",
        "C14162\t6\t239\tJUNC00000001\t12\t-\t6\t239\t255,0,0\t2\t36,49\t0,184\r\n",
        "C14832\t78\t229\tJUNC00000002\t4\t-\t78\t229\t255,0,0\t2\t43,27\t0,124\r\n",
        "C17940\t206\t349\tJUNC00000003\t1\t-\t206\t349\t255,0,0\t2\t31,19\t0,124\r\n",
        "C17998\t32\t262\tJUNC00000004\t734\t-\t32\t262\t255,0,0\t2\t49,49\t0,181\r\n",
        "C18186\t378\t530\tJUNC00000005\t1\t+\t378\t530\t255,0,0\t2\t29,21\t0,131\r\n",
        "C18450\t359\t554\tJUNC00000006\t6\t+\t359\t554\t255,0,0\t2\t38,49\t0,146\r\n",
        "C18694\t57\t245\tJUNC00000007\t1\t-\t57\t245\t255,0,0\t2\t30,20\t0,168\r\n",
        "C18754\t51\t472\tJUNC00000008\t6\t+\t51\t472\t255,0,0\t2\t47,32\t0,389\r\n",
        "C19028\t89\t279\tJUNC00000009\t76\t+\t89\t279\t255,0,0\t2\t40,49\t0,141\r\n"
       ]
      }
     ],
     "prompt_number": 2
    },
    {
     "cell_type": "markdown",
     "metadata": {},
     "source": [
      "<img src=\"https://www.evernote.com/shard/s10/sh/d3dbbda3-3a86-410f-a480-fffa618a17e5/70715205c903c9d0e6be3447f745f7b1/deep/0/IGV%20-%20Session:%20http://eagle.fish.washington.edu/cnidarian/oyster_v9_igv_session.xml%20and%20Home%20%7C%20TWiT.TV.png\" alt=\"IGV%20-%20Session:%20http://eagle.fish.washington.edu/cnidarian/oyster_v9_igv_session.xml%20and%20Home%20%7C%20TWiT.TV\" />"
     ]
    },
    {
     "cell_type": "markdown",
     "metadata": {},
     "source": [
      "URL to load IGV Session corresponding to screenshot above.   \n",
      "\n",
      "`http://eagle.fish.washington.edu/cnidarian/BiGo_RNAseq_072213_igv_session.xml`"
     ]
    },
    {
     "cell_type": "markdown",
     "metadata": {},
     "source": [
      "---\n",
      "## Using Samtools to interogate TopHat Bam file\n",
      "\n",
      "reference: <http://left.subtree.org/2012/04/13/counting-the-number-of-reads-in-a-bam-file/>"
     ]
    },
    {
     "cell_type": "code",
     "collapsed": false,
     "input": [
      "cd /Volumes/Bay3/Software/BSMAP/bsmap-2.74/samtools"
     ],
     "language": "python",
     "metadata": {},
     "outputs": [
      {
       "output_type": "stream",
       "stream": "stdout",
       "text": [
        "/Volumes/Bay3/Software/BSMAP/bsmap-2.74/samtools"
       ]
      },
      {
       "output_type": "stream",
       "stream": "stdout",
       "text": [
        "\n"
       ]
      }
     ],
     "prompt_number": 6
    },
    {
     "cell_type": "code",
     "collapsed": false,
     "input": [
      "ls"
     ],
     "language": "python",
     "metadata": {},
     "outputs": [
      {
       "output_type": "stream",
       "stream": "stdout",
       "text": [
        "AUTHORS          bam_index.o      bedidx.o         kstring.c\r\n",
        "COPYING          bam_lpileup.c    bgzf.c           kstring.h\r\n",
        "ChangeLog        bam_lpileup.o    bgzf.h           kstring.o\r\n",
        "INSTALL          bam_mate.c       bgzf.o           libbam.a\r\n",
        "Makefile         bam_mate.o       bgzip.c          \u001b[34mmisc\u001b[m\u001b[m/\r\n",
        "Makefile.mingw   bam_md.c         cut_target.c     phase.c\r\n",
        "NEWS             bam_md.o         cut_target.o     phase.o\r\n",
        "bam.c            bam_pileup.c     errmod.c         razf.c\r\n",
        "bam.h            bam_pileup.o     errmod.h         razf.h\r\n",
        "bam.o            bam_plcmd.c      errmod.o         razf.o\r\n",
        "bam2bcf.c        bam_plcmd.o      \u001b[34mexamples\u001b[m\u001b[m/        razip.c\r\n",
        "bam2bcf.h        bam_reheader.c   faidx.c          sam.c\r\n",
        "bam2bcf.o        bam_reheader.o   faidx.h          sam.h\r\n",
        "bam2bcf_indel.c  bam_rmdup.c      faidx.o          sam.o\r\n",
        "bam2bcf_indel.o  bam_rmdup.o      kaln.c           sam_header.c\r\n",
        "bam2depth.c      bam_rmdupse.c    kaln.h           sam_header.h\r\n",
        "bam2depth.o      bam_rmdupse.o    kaln.o           sam_header.o\r\n",
        "bam_aux.c        bam_sort.c       khash.h          sam_view.c\r\n",
        "bam_aux.o        bam_sort.o       klist.h          sam_view.o\r\n",
        "bam_cat.c        bam_stat.c       knetfile.c       sample.c\r\n",
        "bam_cat.o        bam_stat.o       knetfile.h       sample.h\r\n",
        "bam_color.c      bam_tview.c      knetfile.o       sample.o\r\n",
        "bam_color.o      bam_tview.o      kprobaln.c       \u001b[31msamtools\u001b[m\u001b[m*\r\n",
        "bam_endian.h     bamtk.c          kprobaln.h       samtools.1\r\n",
        "bam_import.c     bamtk.o          kprobaln.o       \u001b[34mwin32\u001b[m\u001b[m/\r\n",
        "bam_import.o     \u001b[34mbcftools\u001b[m\u001b[m/        kseq.h\r\n",
        "bam_index.c      bedidx.c         ksort.h\r\n"
       ]
      }
     ],
     "prompt_number": 7
    },
    {
     "cell_type": "code",
     "collapsed": false,
     "input": [
      "!samtools"
     ],
     "language": "python",
     "metadata": {},
     "outputs": [
      {
       "output_type": "stream",
       "stream": "stdout",
       "text": [
        "/bin/sh: samtools: command not found\r\n"
       ]
      }
     ],
     "prompt_number": 8
    },
    {
     "cell_type": "code",
     "collapsed": false,
     "input": [
      "cp samtools /usr/local/bin"
     ],
     "language": "python",
     "metadata": {},
     "outputs": [],
     "prompt_number": 9
    },
    {
     "cell_type": "code",
     "collapsed": false,
     "input": [
      "!samtools"
     ],
     "language": "python",
     "metadata": {},
     "outputs": [
      {
       "output_type": "stream",
       "stream": "stdout",
       "text": [
        "\r\n",
        "Program: samtools (Tools for alignments in the SAM format)\r\n",
        "Version: 0.1.18 (r982:295)\r\n",
        "\r\n",
        "Usage:   samtools <command> [options]\r\n",
        "\r\n",
        "Command: view        SAM<->BAM conversion\r\n",
        "         sort        sort alignment file\r\n",
        "         mpileup     multi-way pileup\r\n",
        "         depth       compute the depth\r\n",
        "         faidx       index/extract FASTA\r\n",
        "         index       index alignment\r\n",
        "         idxstats    BAM index stats (r595 or later)\r\n",
        "         fixmate     fix mate information\r\n",
        "         flagstat    simple stats\r\n",
        "         calmd       recalculate MD/NM tags and '=' bases\r\n",
        "         merge       merge sorted alignments\r\n",
        "         rmdup       remove PCR duplicates\r\n",
        "         reheader    replace BAM header\r\n",
        "         cat         concatenate BAMs\r\n",
        "         targetcut   cut fosmid regions (for fosmid pool only)\r\n",
        "         phase       phase heterozygotes\r\n",
        "\r\n"
       ]
      }
     ],
     "prompt_number": 10
    },
    {
     "cell_type": "code",
     "collapsed": false,
     "input": [
      "!samtools view -c /Volumes/web/cnidarian/tophat_071313/s_1.bam"
     ],
     "language": "python",
     "metadata": {},
     "outputs": [
      {
       "output_type": "stream",
       "stream": "stdout",
       "text": [
        "164718919\r\n"
       ]
      }
     ],
     "prompt_number": 11
    },
    {
     "cell_type": "code",
     "collapsed": false,
     "input": [
      "#only mapped reads\n",
      "!samtools view -c -F 4 /Volumes/web/cnidarian/tophat_071313/s_1.bam"
     ],
     "language": "python",
     "metadata": {},
     "outputs": [
      {
       "output_type": "stream",
       "stream": "stdout",
       "text": [
        "164718919\r\n"
       ]
      }
     ],
     "prompt_number": 12
    },
    {
     "cell_type": "code",
     "collapsed": false,
     "input": [
      "#unmapped reads\n",
      "!samtools view -c -f 4 /Volumes/web/cnidarian/tophat_071313/s_1.bam"
     ],
     "language": "python",
     "metadata": {},
     "outputs": [
      {
       "output_type": "stream",
       "stream": "stdout",
       "text": [
        "0\r\n"
       ]
      }
     ],
     "prompt_number": 13
    },
    {
     "cell_type": "code",
     "collapsed": false,
     "input": [
      "!samtools view -c /Volumes/web/cnidarian/tophat_071313/accepted_hits.bam"
     ],
     "language": "python",
     "metadata": {},
     "outputs": [
      {
       "output_type": "stream",
       "stream": "stdout",
       "text": [
        "164718919\r\n"
       ]
      }
     ],
     "prompt_number": 19
    },
    {
     "cell_type": "code",
     "collapsed": false,
     "input": [
      "!samtools view -c /Volumes/web/cnidarian/tophat_071313/unmapped.bam"
     ],
     "language": "python",
     "metadata": {},
     "outputs": [
      {
       "output_type": "stream",
       "stream": "stdout",
       "text": [
        "7263587\r\n"
       ]
      }
     ],
     "prompt_number": 22
    },
    {
     "cell_type": "code",
     "collapsed": false,
     "input": [
      "!samtools flagstat /Volumes/web/cnidarian/tophat_071313/s_1.bam"
     ],
     "language": "python",
     "metadata": {},
     "outputs": [
      {
       "output_type": "stream",
       "stream": "stdout",
       "text": [
        "164718919 + 0 in total (QC-passed reads + QC-failed reads)\r\n",
        "0 + 0 duplicates\r\n",
        "164718919 + 0 mapped (100.00%:nan%)\r\n",
        "164718919 + 0 paired in sequencing\r\n",
        "82181831 + 0 read1\r\n",
        "82537088 + 0 read2\r\n",
        "42418114 + 0 properly paired (25.75%:nan%)\r\n",
        "161646608 + 0 with itself and mate mapped\r\n",
        "3072311 + 0 singletons (1.87%:nan%)\r\n",
        "1264082 + 0 with mate mapped to a different chr\r\n",
        "395312 + 0 with mate mapped to a different chr (mapQ>=5)\r\n"
       ]
      },
      {
       "output_type": "stream",
       "stream": "stdout",
       "text": [
        "164718919 + 0 in total (QC-passed reads + QC-failed reads)\r\n",
        "0 + 0 duplicates\r\n",
        "164718919 + 0 mapped (100.00%:nan%)\r\n",
        "164718919 + 0 paired in sequencing\r\n",
        "82181831 + 0 read1\r\n",
        "82537088 + 0 read2\r\n",
        "42418114 + 0 properly paired (25.75%:nan%)\r\n",
        "161646608 + 0 with itself and mate mapped\r\n",
        "3072311 + 0 singletons (1.87%:nan%)\r\n",
        "1264082 + 0 with mate mapped to a different chr\r\n",
        "395312 + 0 with mate mapped to a different chr (mapQ>=5)\r\n"
       ]
      }
     ],
     "prompt_number": 18
    },
    {
     "cell_type": "code",
     "collapsed": false,
     "input": [
      "!samtools flagstat /Volumes/web/cnidarian/tophat_071313/accepted_hits.bam"
     ],
     "language": "python",
     "metadata": {},
     "outputs": [
      {
       "output_type": "stream",
       "stream": "stdout",
       "text": [
        "164718919 + 0 in total (QC-passed reads + QC-failed reads)\r\n",
        "0 + 0 duplicates\r\n",
        "164718919 + 0 mapped (100.00%:nan%)\r\n",
        "164718919 + 0 paired in sequencing\r\n",
        "82181831 + 0 read1\r\n",
        "82537088 + 0 read2\r\n",
        "42418114 + 0 properly paired (25.75%:nan%)\r\n",
        "161646608 + 0 with itself and mate mapped\r\n",
        "3072311 + 0 singletons (1.87%:nan%)\r\n",
        "1264082 + 0 with mate mapped to a different chr\r\n",
        "395312 + 0 with mate mapped to a different chr (mapQ>=5)\r\n"
       ]
      }
     ],
     "prompt_number": 15
    },
    {
     "cell_type": "code",
     "collapsed": false,
     "input": [
      "!samtools flagstat /Volumes/web/cnidarian/tophat_071313/unmapped.bam"
     ],
     "language": "python",
     "metadata": {},
     "outputs": [
      {
       "output_type": "stream",
       "stream": "stdout",
       "text": [
        "7161175 + 102412 in total (QC-passed reads + QC-failed reads)\r\n",
        "0 + 0 duplicates\r\n",
        "0 + 0 mapped (0.00%:0.00%)\r\n",
        "7161175 + 102412 paired in sequencing\r\n",
        "3670234 + 76916 read1\r\n",
        "3490941 + 25496 read2\r\n",
        "0 + 0 properly paired (0.00%:0.00%)\r\n",
        "0 + 0 with itself and mate mapped\r\n",
        "0 + 0 singletons (0.00%:0.00%)\r\n",
        "0 + 0 with mate mapped to a different chr\r\n",
        "0 + 0 with mate mapped to a different chr (mapQ>=5)\r\n"
       ]
      }
     ],
     "prompt_number": 16
    },
    {
     "cell_type": "markdown",
     "metadata": {},
     "source": [
      "##Tophat Data Into Cufflinks (IPlant)"
     ]
    },
    {
     "cell_type": "code",
     "collapsed": false,
     "input": [
      "#cufflinks fail"
     ],
     "language": "python",
     "metadata": {},
     "outputs": []
    },
    {
     "cell_type": "markdown",
     "metadata": {},
     "source": [
      "---\n",
      "##Quality Trimming in iPlant\n"
     ]
    },
    {
     "cell_type": "markdown",
     "metadata": {},
     "source": [
      "<img src=\"http://eagle.fish.washington.edu/cnidarian/skitch/_264__Discovery_Environment_17A1B77F.png\" alt=\"_264__Discovery_Environment_17A1B77F.png\"/>    \n",
      "\n"
     ]
    },
    {
     "cell_type": "markdown",
     "metadata": {},
     "source": [
      "Pre-Process Complete, generating one file   \n",
      "\n",
      "Downloading and running through Fastx quality Trimmer"
     ]
    },
    {
     "cell_type": "code",
     "collapsed": false,
     "input": [
      "!wc /Volumes/web/cnidarian/BiGo_RNAseq_fastx_qual.fastq"
     ],
     "language": "python",
     "metadata": {},
     "outputs": [
      {
       "output_type": "stream",
       "stream": "stdout",
       "text": [
        " 190998292 190998292 6469564027 /Volumes/web/cnidarian/BiGo_RNAseq_fastx_qual.fastq\r\n"
       ]
      }
     ],
     "prompt_number": 3
    },
    {
     "cell_type": "code",
     "collapsed": false,
     "input": [
      "!wc /Volumes/web/cnidarian/BiGo_RNAseq_PreProcess.fastq"
     ],
     "language": "python",
     "metadata": {},
     "outputs": [
      {
       "output_type": "stream",
       "stream": "stdout",
       "text": [
        " 191927856 191927856 6501051882 /Volumes/web/cnidarian/BiGo_RNAseq_PreProcess.fastq\r\n"
       ]
      },
      {
       "output_type": "stream",
       "stream": "stdout",
       "text": [
        " 191927856 191927856 6501051882 /Volumes/web/cnidarian/BiGo_RNAseq_PreProcess.fastq\r\n"
       ]
      }
     ],
     "prompt_number": 6
    },
    {
     "cell_type": "code",
     "collapsed": false,
     "input": [],
     "language": "python",
     "metadata": {},
     "outputs": []
    }
   ],
   "metadata": {}
  }
 ]
}