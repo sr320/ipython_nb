{
 "metadata": {
  "name": "BiGo_RNAseq"
 },
 "nbformat": 3,
 "nbformat_minor": 0,
 "worksheets": [
  {
   "cells": [
    {
     "cell_type": "markdown",
     "metadata": {},
     "source": [
      "#RNA-Seq data corresponding to BS-Seq Oyster Sperm sample   \n",
      "\n",
      "Now going with direct edits to sync with github!\n",
      "Updated July 23, 2013 14:30PDT - samtools    \n",
      "Updated July 23, 2013 14:00PDT"
     ]
    },
    {
     "cell_type": "markdown",
     "metadata": {},
     "source": [
      "---\n",
      "Data\n",
      "\n",
      "RNA-seq data from both the sperm and pooled gill samples were provided by the core facility.   \n",
      "Originally BAM files were provided, later followed up with fastq files.\n",
      "\n",
      "<img src=\"https://www.evernote.com/shard/s10/sh/4ac2434b-495e-4fee-8a51-d236cdadcb26/6c0134c45ca4589276b60472a92d19d9/deep/0/72975_GACTAAGA%20et%20al%20and%20(274)%20Discovery%20Environment.png\" alt=\"72975_GACTAAGA%20et%20al%20and%20(274)%20Discovery%20Environment\" width = 350/>\n",
      "\n",
      "\n",
      "\n",
      "\n",
      "Sperm data = 72976/GTGTCTAC\n",
      "\n",
      "\n",
      "\n"
     ]
    },
    {
     "cell_type": "markdown",
     "metadata": {},
     "source": [
      "---\n",
      "##CLC \n",
      "fastq import   (s_1.GTGTCTAC_1 (paired)-1)   \n",
      "51,084,360 sequences\n",
      "\n",
      "`\n",
      "          Discard read names = Yes\n",
      "          Discard quality scores = No\n",
      "          Paired orientation = Paired reads (forward-reverse)\n",
      "          Minimum distance = 180\n",
      "          Maximum distance = 250\n",
      "          Original sequence resource = /Volumes/NGS Drive/NGS Raw Data/RNA_complement_BS/C25GNACXX.oyster.fastqs/s_1.GTGTCTAC_1.fastq\n",
      "          Original sequence resource = /Volumes/NGS Drive/NGS Raw Data/RNA_complement_BS/C25GNACXX.oyster.fastqs/s_1.GTGTCTAC_2.fastq\n",
      "          Quality score = NCBI/Sanger or Illumina Pipeline 1.8 and later\n",
      "          MiSeq de-multiplexing = No\n",
      "`\n",
      "\n",
      "####QC Report\n",
      "<https://docs.google.com/file/d/0B9V_gF766XZAS0dRTE1LSDFBcXc/preview>\n",
      "\n",
      "####Supp QC Report\n",
      "<https://docs.google.com/file/d/0B9V_gF766XZAZ2dYLTk3QmVvQVE/preview>\n"
     ]
    },
    {
     "cell_type": "markdown",
     "metadata": {},
     "source": [
      "---\n",
      "Trimming   \n",
      "\n",
      "<img src=\"https://www.evernote.com/shard/s10/sh/da2de123-a038-4673-ac96-e820495da318/d9bc04d24be8189106a8492d31c94a25/deep/0/CLC%20Genomics%20Workbench%206.0.2.png\" alt=\"CLC%20Genomics%20Workbench%206.0.2\" width = 350 />\n",
      "\n",
      "\n",
      "\n",
      "\n",
      "\n",
      "\n",
      "\n",
      "\n",
      "---\n",
      "\n",
      "###RNA-seq  \n",
      "\n",
      "Input file\n",
      "\n",
      "<img src=\"https://www.evernote.com/shard/s10/sh/321c68fe-66cb-445f-97e1-9e1f6a42b111/569fbda2a23eb2a3060d45061c4b6e32/deep/0/CLC%20Genomics%20Workbench%206.0.2.png\" alt=\"CLC%20Genomics%20Workbench%206.0.2\" />  \n",
      "\n",
      "\n",
      "\n",
      "*Need to modify GFF so that CLC recognizes to annotate*\n",
      "\n",
      "<http://eagle.fish.washington.edu/cnidarian/oyster.v9.gene_mRNA.gff>"
     ]
    },
    {
     "cell_type": "code",
     "collapsed": false,
     "input": [
      "!head /Volumes/web/cnidarian/oyster.v9.gene_mRNA.gff"
     ],
     "language": "python",
     "metadata": {},
     "outputs": [
      {
       "output_type": "stream",
       "stream": "stdout",
       "text": [
        "C16582\tGLEAN\tgene\t35\t385\t0.555898\t-\t.\tID=CGI_10000001;\r\n",
        "C16582\tGLEAN\tmrna\t35\t385\t.\t-\t0\tParent=CGI_10000001;\r\n",
        "C17212\tGLEAN\tgene\t31\t363\t0.999572\t+\t.\tID=CGI_10000002;\r\n",
        "C17212\tGLEAN\tmrna\t31\t363\t.\t+\t0\tParent=CGI_10000002;\r\n",
        "C17316\tGLEAN\tgene\t30\t257\t0.555898\t+\t.\tID=CGI_10000003;\r\n",
        "C17316\tGLEAN\tmrna\t30\t257\t.\t+\t0\tParent=CGI_10000003;\r\n",
        "C17476\tGLEAN\tgene\t34\t257\t0.998947\t-\t.\tID=CGI_10000004;\r\n",
        "C17476\tGLEAN\tmrna\t104\t257\t.\t-\t0\tParent=CGI_10000004;\r\n",
        "C17476\tGLEAN\tmrna\t34\t74\t.\t-\t2\tParent=CGI_10000004;\r\n",
        "C17998\tGLEAN\tgene\t196\t387\t1\t-\t.\tID=CGI_10000005;\r\n"
       ]
      }
     ],
     "prompt_number": 3
    },
    {
     "cell_type": "code",
     "collapsed": false,
     "input": [
      "!wc /Volumes/web/cnidarian/oyster.v9.gene_mRNA.gff"
     ],
     "language": "python",
     "metadata": {},
     "outputs": [
      {
       "output_type": "stream",
       "stream": "stdout",
       "text": [
        "  224718 2022462 14376214 /Volumes/web/cnidarian/oyster.v9.gene_mRNA.gff\r\n"
       ]
      }
     ],
     "prompt_number": 4
    },
    {
     "cell_type": "markdown",
     "metadata": {},
     "source": [
      "Annotated version 9 of oyster genome then ran RNA-seq with Exon Discovery and Expression value as transcripts. Only using paired data.\n",
      "\n",
      "\n",
      "<img src=\"https://www.evernote.com/shard/s10/sh/9fda72d7-e91d-4ed9-abb5-131a5d9e86b5/161bdfe15d31164df439659822f22303/deep/0/RNA-Seq%20Analysis.png\" alt=\"RNA-Seq%20Analysis\" />\n",
      "\n",
      "\n",
      "##_Concerned about the number of mapped reads_  \n",
      "\n",
      "\n",
      "<img src=\"http://eagle.fish.washington.edu/cnidarian/skitch/CLC_Genomics_Workbench_6.0.2_179F262E.png\" alt=\"CLC_Genomics_Workbench_6.0.2_179F262E.png\"/>\n",
      "\n",
      "Full Report \n",
      "\n",
      "<http://eagle.fish.washington.edu/cnidarian/BiGo_RNAseq_report_072313a>\n"
     ]
    },
    {
     "cell_type": "markdown",
     "metadata": {},
     "source": [
      "---\n",
      "\n",
      "##RNA-Seq on genes (for Comparison)\n",
      "\n",
      "\n",
      "---\n",
      "\n",
      "\n",
      "\n",
      "##RefMap (to see what proportion map)\n",
      "\n",
      "<img src=\"http://eagle.fish.washington.edu/cnidarian/skitch/greenbird_17A05407.png\" alt=\"greenbird_17A05407.png\"/>\n",
      "\n",
      "Report    \n",
      "<http://eagle.fish.washington.edu/cnidarian/BiGo_RNA_refmap_report_a>\n",
      "\n",
      "    \n",
      "Only about 50% of reads map?\n",
      "    \n",
      "Will run again an try to assemble unmapped reads to determine what they are..\n",
      "    \n",
      "    \n",
      "\n"
     ]
    },
    {
     "cell_type": "markdown",
     "metadata": {},
     "source": [
      "---  \n",
      "\n",
      "\n",
      "##Tophat Analysis   \n",
      "\n",
      "\n",
      "--\n",
      "\n",
      "<img src=\"https://www.evernote.com/shard/s10/sh/bcebc40c-4ef5-4db0-b1e8-2badf9e3fa18/108103c1cab7c7b6ab9b9cbd1f3768b3/deep/0/(274)%20Discovery%20Environment.png\" alt=\"(274)%20Discovery%20Environment\" />\n",
      "\n",
      "\n",
      "TopHat Output\n",
      "\n",
      "The tophat script produces a number of files in the directory in which it was invoked. Most of these files are internal, intermediate files that are generated for use within the pipeline. The output files you will likely want to look at are:\n",
      "\n",
      "accepted_hits.bam. A list of read alignments in SAM format. SAM is a compact short read alignment format that is increasingly being adopted. The formal specification is here.    \n",
      "\n",
      "junctions.bed. A UCSC BED track of junctions reported by TopHat. Each junction consists of two connected BED blocks, where each block is as long as the maximal overhang of any read spanning the junction. The score is the number of alignments spanning the junction.  \n",
      "\n",
      "insertions.bed and deletions.bed. UCSC BED tracks of insertions and deletions reported by TopHat.    \n",
      "\n",
      "Insertions.bed - chromLeft refers to the last genomic base before the insertion.    \n",
      "\n",
      "Deletions.bed - chromLeft refers to the first genomic base of the deletion.  \n",
      "\n",
      "---\n",
      "\n",
      "Data @ <http://eagle.fish.washington.edu/cnidarian/index.php?dir=tophat_071313%2F>\n",
      "\n",
      "\n"
     ]
    },
    {
     "cell_type": "code",
     "collapsed": false,
     "input": [
      "ls /Volumes/web/cnidarian/tophat_071313"
     ],
     "language": "python",
     "metadata": {},
     "outputs": [
      {
       "output_type": "stream",
       "stream": "stdout",
       "text": [
        "\u001b[31maccepted_hits.bam\u001b[m\u001b[m*             \u001b[31mprep_reads.info\u001b[m\u001b[m*\r\n",
        "\u001b[31mdeletions.bed\u001b[m\u001b[m*                 \u001b[31ms_1.bam\u001b[m\u001b[m*\r\n",
        "\u001b[31minsertions.bed\u001b[m\u001b[m*                \u001b[31ms_1.bam.bai\u001b[m\u001b[m*\r\n",
        "\u001b[31mjunctions.bed\u001b[m\u001b[m*                 \u001b[31munmapped.bam\u001b[m\u001b[m*\r\n",
        "\u001b[31mlookup_roberts_grc_oyster.xls\u001b[m\u001b[m*\r\n"
       ]
      }
     ],
     "prompt_number": 2
    },
    {
     "cell_type": "markdown",
     "metadata": {},
     "source": [
      "<img src=\"https://www.evernote.com/shard/s10/sh/d3dbbda3-3a86-410f-a480-fffa618a17e5/70715205c903c9d0e6be3447f745f7b1/deep/0/IGV%20-%20Session:%20http://eagle.fish.washington.edu/cnidarian/oyster_v9_igv_session.xml%20and%20Home%20%7C%20TWiT.TV.png\" alt=\"IGV%20-%20Session:%20http://eagle.fish.washington.edu/cnidarian/oyster_v9_igv_session.xml%20and%20Home%20%7C%20TWiT.TV\" />"
     ]
    },
    {
     "cell_type": "markdown",
     "metadata": {},
     "source": [
      "URL to load IGV Session corresponding to screenshot above.   \n",
      "\n",
      "`http://eagle.fish.washington.edu/cnidarian/BiGo_RNAseq_072213_igv_session.xml`"
     ]
    },
    {
     "cell_type": "markdown",
     "metadata": {},
     "source": [
      "---\n",
      "## Using Samtools to interogate TopHat Bam file\n",
      "\n",
      "reference: <http://left.subtree.org/2012/04/13/counting-the-number-of-reads-in-a-bam-file/>"
     ]
    },
    {
     "cell_type": "code",
     "collapsed": false,
     "input": [
      "cd /Volumes/Bay3/Software/BSMAP/bsmap-2.74/samtools"
     ],
     "language": "python",
     "metadata": {},
     "outputs": [
      {
       "output_type": "stream",
       "stream": "stdout",
       "text": [
        "/Volumes/Bay3/Software/BSMAP/bsmap-2.74/samtools"
       ]
      },
      {
       "output_type": "stream",
       "stream": "stdout",
       "text": [
        "\n"
       ]
      }
     ],
     "prompt_number": 6
    },
    {
     "cell_type": "code",
     "collapsed": false,
     "input": [
      "ls"
     ],
     "language": "python",
     "metadata": {},
     "outputs": [
      {
       "output_type": "stream",
       "stream": "stdout",
       "text": [
        "AUTHORS          bam_index.o      bedidx.o         kstring.c\r\n",
        "COPYING          bam_lpileup.c    bgzf.c           kstring.h\r\n",
        "ChangeLog        bam_lpileup.o    bgzf.h           kstring.o\r\n",
        "INSTALL          bam_mate.c       bgzf.o           libbam.a\r\n",
        "Makefile         bam_mate.o       bgzip.c          \u001b[34mmisc\u001b[m\u001b[m/\r\n",
        "Makefile.mingw   bam_md.c         cut_target.c     phase.c\r\n",
        "NEWS             bam_md.o         cut_target.o     phase.o\r\n",
        "bam.c            bam_pileup.c     errmod.c         razf.c\r\n",
        "bam.h            bam_pileup.o     errmod.h         razf.h\r\n",
        "bam.o            bam_plcmd.c      errmod.o         razf.o\r\n",
        "bam2bcf.c        bam_plcmd.o      \u001b[34mexamples\u001b[m\u001b[m/        razip.c\r\n",
        "bam2bcf.h        bam_reheader.c   faidx.c          sam.c\r\n",
        "bam2bcf.o        bam_reheader.o   faidx.h          sam.h\r\n",
        "bam2bcf_indel.c  bam_rmdup.c      faidx.o          sam.o\r\n",
        "bam2bcf_indel.o  bam_rmdup.o      kaln.c           sam_header.c\r\n",
        "bam2depth.c      bam_rmdupse.c    kaln.h           sam_header.h\r\n",
        "bam2depth.o      bam_rmdupse.o    kaln.o           sam_header.o\r\n",
        "bam_aux.c        bam_sort.c       khash.h          sam_view.c\r\n",
        "bam_aux.o        bam_sort.o       klist.h          sam_view.o\r\n",
        "bam_cat.c        bam_stat.c       knetfile.c       sample.c\r\n",
        "bam_cat.o        bam_stat.o       knetfile.h       sample.h\r\n",
        "bam_color.c      bam_tview.c      knetfile.o       sample.o\r\n",
        "bam_color.o      bam_tview.o      kprobaln.c       \u001b[31msamtools\u001b[m\u001b[m*\r\n",
        "bam_endian.h     bamtk.c          kprobaln.h       samtools.1\r\n",
        "bam_import.c     bamtk.o          kprobaln.o       \u001b[34mwin32\u001b[m\u001b[m/\r\n",
        "bam_import.o     \u001b[34mbcftools\u001b[m\u001b[m/        kseq.h\r\n",
        "bam_index.c      bedidx.c         ksort.h\r\n"
       ]
      }
     ],
     "prompt_number": 7
    },
    {
     "cell_type": "code",
     "collapsed": false,
     "input": [
      "!samtools"
     ],
     "language": "python",
     "metadata": {},
     "outputs": [
      {
       "output_type": "stream",
       "stream": "stdout",
       "text": [
        "/bin/sh: samtools: command not found\r\n"
       ]
      }
     ],
     "prompt_number": 8
    },
    {
     "cell_type": "code",
     "collapsed": false,
     "input": [
      "cp samtools /usr/local/bin"
     ],
     "language": "python",
     "metadata": {},
     "outputs": [],
     "prompt_number": 9
    },
    {
     "cell_type": "code",
     "collapsed": false,
     "input": [
      "!samtools"
     ],
     "language": "python",
     "metadata": {},
     "outputs": [
      {
       "output_type": "stream",
       "stream": "stdout",
       "text": [
        "\r\n",
        "Program: samtools (Tools for alignments in the SAM format)\r\n",
        "Version: 0.1.18 (r982:295)\r\n",
        "\r\n",
        "Usage:   samtools <command> [options]\r\n",
        "\r\n",
        "Command: view        SAM<->BAM conversion\r\n",
        "         sort        sort alignment file\r\n",
        "         mpileup     multi-way pileup\r\n",
        "         depth       compute the depth\r\n",
        "         faidx       index/extract FASTA\r\n",
        "         index       index alignment\r\n",
        "         idxstats    BAM index stats (r595 or later)\r\n",
        "         fixmate     fix mate information\r\n",
        "         flagstat    simple stats\r\n",
        "         calmd       recalculate MD/NM tags and '=' bases\r\n",
        "         merge       merge sorted alignments\r\n",
        "         rmdup       remove PCR duplicates\r\n",
        "         reheader    replace BAM header\r\n",
        "         cat         concatenate BAMs\r\n",
        "         targetcut   cut fosmid regions (for fosmid pool only)\r\n",
        "         phase       phase heterozygotes\r\n",
        "\r\n"
       ]
      }
     ],
     "prompt_number": 10
    },
    {
     "cell_type": "code",
     "collapsed": false,
     "input": [
      "!samtools view -c /Volumes/web/cnidarian/tophat_071313/s_1.bam"
     ],
     "language": "python",
     "metadata": {},
     "outputs": [
      {
       "output_type": "stream",
       "stream": "stdout",
       "text": [
        "164718919\r\n"
       ]
      }
     ],
     "prompt_number": 11
    },
    {
     "cell_type": "code",
     "collapsed": false,
     "input": [
      "#only mapped reads\n",
      "!samtools view -c -F 4 /Volumes/web/cnidarian/tophat_071313/s_1.bam"
     ],
     "language": "python",
     "metadata": {},
     "outputs": [
      {
       "output_type": "stream",
       "stream": "stdout",
       "text": [
        "164718919\r\n"
       ]
      }
     ],
     "prompt_number": 12
    },
    {
     "cell_type": "code",
     "collapsed": false,
     "input": [
      "#unmapped reads\n",
      "!samtools view -c -f 4 /Volumes/web/cnidarian/tophat_071313/s_1.bam"
     ],
     "language": "python",
     "metadata": {},
     "outputs": [
      {
       "output_type": "stream",
       "stream": "stdout",
       "text": [
        "0\r\n"
       ]
      }
     ],
     "prompt_number": 13
    },
    {
     "cell_type": "code",
     "collapsed": false,
     "input": [
      "!samtools view -c /Volumes/web/cnidarian/tophat_071313/accepted_hits.bam"
     ],
     "language": "python",
     "metadata": {},
     "outputs": [
      {
       "output_type": "stream",
       "stream": "stdout",
       "text": [
        "164718919\r\n"
       ]
      }
     ],
     "prompt_number": 19
    },
    {
     "cell_type": "code",
     "collapsed": false,
     "input": [
      "!samtools view -c /Volumes/web/cnidarian/tophat_071313/unmapped.bam"
     ],
     "language": "python",
     "metadata": {},
     "outputs": [
      {
       "output_type": "stream",
       "stream": "stdout",
       "text": [
        "7263587\r\n"
       ]
      }
     ],
     "prompt_number": 22
    },
    {
     "cell_type": "code",
     "collapsed": false,
     "input": [
      "!samtools flagstat /Volumes/web/cnidarian/tophat_071313/s_1.bam"
     ],
     "language": "python",
     "metadata": {},
     "outputs": [
      {
       "output_type": "stream",
       "stream": "stdout",
       "text": [
        "164718919 + 0 in total (QC-passed reads + QC-failed reads)\r\n",
        "0 + 0 duplicates\r\n",
        "164718919 + 0 mapped (100.00%:nan%)\r\n",
        "164718919 + 0 paired in sequencing\r\n",
        "82181831 + 0 read1\r\n",
        "82537088 + 0 read2\r\n",
        "42418114 + 0 properly paired (25.75%:nan%)\r\n",
        "161646608 + 0 with itself and mate mapped\r\n",
        "3072311 + 0 singletons (1.87%:nan%)\r\n",
        "1264082 + 0 with mate mapped to a different chr\r\n",
        "395312 + 0 with mate mapped to a different chr (mapQ>=5)\r\n"
       ]
      },
      {
       "output_type": "stream",
       "stream": "stdout",
       "text": [
        "164718919 + 0 in total (QC-passed reads + QC-failed reads)\r\n",
        "0 + 0 duplicates\r\n",
        "164718919 + 0 mapped (100.00%:nan%)\r\n",
        "164718919 + 0 paired in sequencing\r\n",
        "82181831 + 0 read1\r\n",
        "82537088 + 0 read2\r\n",
        "42418114 + 0 properly paired (25.75%:nan%)\r\n",
        "161646608 + 0 with itself and mate mapped\r\n",
        "3072311 + 0 singletons (1.87%:nan%)\r\n",
        "1264082 + 0 with mate mapped to a different chr\r\n",
        "395312 + 0 with mate mapped to a different chr (mapQ>=5)\r\n"
       ]
      }
     ],
     "prompt_number": 18
    },
    {
     "cell_type": "code",
     "collapsed": false,
     "input": [
      "!samtools flagstat /Volumes/web/cnidarian/tophat_071313/accepted_hits.bam"
     ],
     "language": "python",
     "metadata": {},
     "outputs": [
      {
       "output_type": "stream",
       "stream": "stdout",
       "text": [
        "164718919 + 0 in total (QC-passed reads + QC-failed reads)\r\n",
        "0 + 0 duplicates\r\n",
        "164718919 + 0 mapped (100.00%:nan%)\r\n",
        "164718919 + 0 paired in sequencing\r\n",
        "82181831 + 0 read1\r\n",
        "82537088 + 0 read2\r\n",
        "42418114 + 0 properly paired (25.75%:nan%)\r\n",
        "161646608 + 0 with itself and mate mapped\r\n",
        "3072311 + 0 singletons (1.87%:nan%)\r\n",
        "1264082 + 0 with mate mapped to a different chr\r\n",
        "395312 + 0 with mate mapped to a different chr (mapQ>=5)\r\n"
       ]
      }
     ],
     "prompt_number": 15
    },
    {
     "cell_type": "code",
     "collapsed": false,
     "input": [
      "!samtools flagstat /Volumes/web/cnidarian/tophat_071313/unmapped.bam"
     ],
     "language": "python",
     "metadata": {},
     "outputs": [
      {
       "output_type": "stream",
       "stream": "stdout",
       "text": [
        "7161175 + 102412 in total (QC-passed reads + QC-failed reads)\r\n",
        "0 + 0 duplicates\r\n",
        "0 + 0 mapped (0.00%:0.00%)\r\n",
        "7161175 + 102412 paired in sequencing\r\n",
        "3670234 + 76916 read1\r\n",
        "3490941 + 25496 read2\r\n",
        "0 + 0 properly paired (0.00%:0.00%)\r\n",
        "0 + 0 with itself and mate mapped\r\n",
        "0 + 0 singletons (0.00%:0.00%)\r\n",
        "0 + 0 with mate mapped to a different chr\r\n",
        "0 + 0 with mate mapped to a different chr (mapQ>=5)\r\n"
       ]
      }
     ],
     "prompt_number": 16
    },
    {
     "cell_type": "code",
     "collapsed": false,
     "input": [],
     "language": "python",
     "metadata": {},
     "outputs": []
    }
   ],
   "metadata": {}
  }
 ]
}