{
 "metadata": {
  "name": "BiGo_RNAseq"
 },
 "nbformat": 3,
 "nbformat_minor": 0,
 "worksheets": [
  {
   "cells": [
    {
     "cell_type": "markdown",
     "metadata": {},
     "source": [
      "#RNA-Seq data corresponding to BS-Seq Oyster Sperm sample   \n",
      "\n",
      "Now going with direct edits to sync with github!   \n",
      "Updated July 23, 2013 14:30PDT - samtools    \n",
      "Updated July 23, 2013 14:00PDT"
     ]
    },
    {
     "cell_type": "markdown",
     "metadata": {},
     "source": [
      "---\n",
      "Data\n",
      "\n",
      "RNA-seq data from both the sperm and pooled gill samples were provided by the core facility.   \n",
      "Originally BAM files were provided, later followed up with fastq files.\n",
      "\n",
      "<img src=\"https://www.evernote.com/shard/s10/sh/4ac2434b-495e-4fee-8a51-d236cdadcb26/6c0134c45ca4589276b60472a92d19d9/deep/0/72975_GACTAAGA%20et%20al%20and%20(274)%20Discovery%20Environment.png\" alt=\"72975_GACTAAGA%20et%20al%20and%20(274)%20Discovery%20Environment\" width = 350/>\n",
      "\n",
      "\n",
      "\n",
      "\n",
      "Sperm data = 72976/GTGTCTAC\n",
      "\n",
      "\n",
      "\n"
     ]
    },
    {
     "cell_type": "markdown",
     "metadata": {},
     "source": [
      "---\n",
      "##CLC \n",
      "fastq import   (s_1.GTGTCTAC_1 (paired)-1)   \n",
      "51,084,360 sequences\n",
      "\n",
      "`\n",
      "          Discard read names = Yes\n",
      "          Discard quality scores = No\n",
      "          Paired orientation = Paired reads (forward-reverse)\n",
      "          Minimum distance = 180\n",
      "          Maximum distance = 250\n",
      "          Original sequence resource = /Volumes/NGS Drive/NGS Raw Data/RNA_complement_BS/C25GNACXX.oyster.fastqs/s_1.GTGTCTAC_1.fastq\n",
      "          Original sequence resource = /Volumes/NGS Drive/NGS Raw Data/RNA_complement_BS/C25GNACXX.oyster.fastqs/s_1.GTGTCTAC_2.fastq\n",
      "          Quality score = NCBI/Sanger or Illumina Pipeline 1.8 and later\n",
      "          MiSeq de-multiplexing = No\n",
      "`\n",
      "\n",
      "####QC Report\n",
      "<https://docs.google.com/file/d/0B9V_gF766XZAS0dRTE1LSDFBcXc/preview>\n",
      "\n",
      "####Supp QC Report\n",
      "<https://docs.google.com/file/d/0B9V_gF766XZAZ2dYLTk3QmVvQVE/preview>\n"
     ]
    },
    {
     "cell_type": "markdown",
     "metadata": {},
     "source": [
      "---\n",
      "Trimming   \n",
      "\n",
      "<img src=\"https://www.evernote.com/shard/s10/sh/da2de123-a038-4673-ac96-e820495da318/d9bc04d24be8189106a8492d31c94a25/deep/0/CLC%20Genomics%20Workbench%206.0.2.png\" alt=\"CLC%20Genomics%20Workbench%206.0.2\" width = 350 />\n",
      "\n",
      "\n",
      "\n",
      "\n",
      "\n",
      "\n",
      "\n",
      "\n",
      "---\n",
      "\n",
      "###RNA-seq  \n",
      "\n",
      "Input file\n",
      "\n",
      "<img src=\"https://www.evernote.com/shard/s10/sh/321c68fe-66cb-445f-97e1-9e1f6a42b111/569fbda2a23eb2a3060d45061c4b6e32/deep/0/CLC%20Genomics%20Workbench%206.0.2.png\" alt=\"CLC%20Genomics%20Workbench%206.0.2\" />  \n",
      "\n",
      "\n",
      "\n",
      "*Need to modify GFF so that CLC recognizes to annotate*\n",
      "\n",
      "<http://eagle.fish.washington.edu/cnidarian/oyster.v9.gene_mRNA.gff>"
     ]
    },
    {
     "cell_type": "code",
     "collapsed": false,
     "input": [
      "!head /Volumes/web/cnidarian/oyster.v9.gene_mRNA.gff"
     ],
     "language": "python",
     "metadata": {},
     "outputs": [
      {
       "output_type": "stream",
       "stream": "stdout",
       "text": [
        "C16582\tGLEAN\tgene\t35\t385\t0.555898\t-\t.\tID=CGI_10000001;\r\n",
        "C16582\tGLEAN\tmrna\t35\t385\t.\t-\t0\tParent=CGI_10000001;\r\n",
        "C17212\tGLEAN\tgene\t31\t363\t0.999572\t+\t.\tID=CGI_10000002;\r\n",
        "C17212\tGLEAN\tmrna\t31\t363\t.\t+\t0\tParent=CGI_10000002;\r\n",
        "C17316\tGLEAN\tgene\t30\t257\t0.555898\t+\t.\tID=CGI_10000003;\r\n",
        "C17316\tGLEAN\tmrna\t30\t257\t.\t+\t0\tParent=CGI_10000003;\r\n",
        "C17476\tGLEAN\tgene\t34\t257\t0.998947\t-\t.\tID=CGI_10000004;\r\n",
        "C17476\tGLEAN\tmrna\t104\t257\t.\t-\t0\tParent=CGI_10000004;\r\n",
        "C17476\tGLEAN\tmrna\t34\t74\t.\t-\t2\tParent=CGI_10000004;\r\n",
        "C17998\tGLEAN\tgene\t196\t387\t1\t-\t.\tID=CGI_10000005;\r\n"
       ]
      }
     ],
     "prompt_number": 3
    },
    {
     "cell_type": "code",
     "collapsed": false,
     "input": [
      "!wc /Volumes/web/cnidarian/oyster.v9.gene_mRNA.gff"
     ],
     "language": "python",
     "metadata": {},
     "outputs": [
      {
       "output_type": "stream",
       "stream": "stdout",
       "text": [
        "  224718 2022462 14376214 /Volumes/web/cnidarian/oyster.v9.gene_mRNA.gff\r\n"
       ]
      }
     ],
     "prompt_number": 4
    },
    {
     "cell_type": "markdown",
     "metadata": {},
     "source": [
      "Annotated version 9 of oyster genome then ran RNA-seq with Exon Discovery and Expression value as transcripts. Only using paired data.\n",
      "\n",
      "\n",
      "<img src=\"https://www.evernote.com/shard/s10/sh/9fda72d7-e91d-4ed9-abb5-131a5d9e86b5/161bdfe15d31164df439659822f22303/deep/0/RNA-Seq%20Analysis.png\" alt=\"RNA-Seq%20Analysis\" />\n",
      "\n",
      "\n",
      "##_Concerned about the number of mapped reads_  \n",
      "\n",
      "\n",
      "<img src=\"http://eagle.fish.washington.edu/cnidarian/skitch/CLC_Genomics_Workbench_6.0.2_179F262E.png\" alt=\"CLC_Genomics_Workbench_6.0.2_179F262E.png\"/>\n",
      "\n",
      "Full Report \n",
      "\n",
      "<http://eagle.fish.washington.edu/cnidarian/BiGo_RNAseq_report_072313a>\n"
     ]
    },
    {
     "cell_type": "markdown",
     "metadata": {},
     "source": [
      "---\n",
      "\n",
      "##RNA-Seq on genes (for Comparison)\n",
      "\n",
      "\n",
      "---\n",
      "\n",
      "\n",
      "\n",
      "##RefMap (to see what proportion map)\n",
      "\n",
      "<img src=\"http://eagle.fish.washington.edu/cnidarian/skitch/greenbird_17A05407.png\" alt=\"greenbird_17A05407.png\"/>\n",
      "\n",
      "Report    \n",
      "<http://eagle.fish.washington.edu/cnidarian/BiGo_RNA_refmap_report_a>\n",
      "\n",
      "    \n",
      "Only about 50% of reads map?\n",
      "    \n",
      "Will run again an try to assemble unmapped reads to determine what they are..\n",
      "    \n",
      "Running- reduced stringency to default, ignore vs random, kept unmapped reads, and output set as track    \n",
      "\n",
      "<img src=\"http://eagle.fish.washington.edu/cnidarian/skitch/CLC_Genomics_Workbench_6.0.2_17A1B50E.png\" alt=\"CLC_Genomics_Workbench_6.0.2_17A1B50E.png\"/>    \n",
      "    \n",
      "<img src=\"http://eagle.fish.washington.edu/cnidarian/skitch/CLC_Genomics_Workbench_6.0.2_17A1B4E8.png\" alt=\"CLC_Genomics_Workbench_6.0.2_17A1B4E8.png\"/>  \n",
      "    \n",
      "    \n",
      "---\n",
      "    \n",
      "###De novo assembly of reads that did not map\n",
      "    \n",
      "Fast de novo on 21M unmapped    \n",
      "    \n",
      "    \n",
      "<img src=\"http://eagle.fish.washington.edu/cnidarian/skitch/CLC_Genomics_Workbench_6.5_Beta_3_17A6B13D.png\" alt=\"CLC_Genomics_Workbench_6.5_Beta_3_17A6B13D.png\"/>\n",
      "    \n",
      "    \n",
      "    \n"
     ]
    },
    {
     "cell_type": "code",
     "collapsed": false,
     "input": [
      "!head /Volumes/web/cnidarian/BiGo_RNAseq_unmapped.fa"
     ],
     "language": "python",
     "metadata": {},
     "outputs": [
      {
       "output_type": "stream",
       "stream": "stdout",
       "text": [
        ">s_1.GTGTCTAC_1_(paired)-1_trimmed_(paired)_un-mapped_reads_[no_read_group]_(single)_contig_1\r\n",
        "CCAGTCTAAAGCTCGGGCGCCTCCGGGAATAACTGTTATTATGTTAGTAATCACAGTTAA\r\n",
        "GCCCCAGTAAGACATGACCCCTCAAGGAAGGACATACCCTAAAAACCCAACTCCCATAGA\r\n",
        "CAATAAATACAAAGTTAGTCCGCTATACCAGACATGCGTATTTTTTAAATATGCCCCAAA\r\n",
        "ATAGACCCCACGAGCAATATGCATGTAAATTAGAGCAAAAAATATAGATGCGCCTCCCAT\r\n",
        "ATGAAGCCTTCGAATAATTCAACCATAATTCGCATCGCGTATAATATAATCCACACTCAC\r\n",
        "AACAGCAAGCTGCTCATCTGCAGTATAGTTTATTGTGAGTATAACACCAGTCAAAATTTG\r\n",
        "CGCCCCTAAAATTAAAAATAGTATAGACCCCATATTTCATCAAACACTTAAATTTGGAGG\r\n",
        "ACAAGGATACTTTAAAGCCTCATAATAATAATTAGATACTCTTTTCCCCGGGCCGTCATC\r\n",
        "AGCCCTAGCCTCTACGAACCTAACGCTCAGTAGTAATCTGAACGAGAGAAAGATTGCCCT\r\n"
       ]
      }
     ],
     "prompt_number": 1
    },
    {
     "cell_type": "code",
     "collapsed": false,
     "input": [
      "!blastx -query /Volumes/web/cnidarian/BiGo_RNAseq_unmapped.fa -db /Volumes/web/whale/fish546/blast/db/swissprot -out /Volumes/web/cnidarian/BiGoRNAseq_unmapped_swissprot_blastout -outfmt 6 -evalue 1E-10 -max_target_seqs 1 -num_threads 2"
     ],
     "language": "python",
     "metadata": {},
     "outputs": [
      {
       "output_type": "stream",
       "stream": "stdout",
       "text": [
        "Selenocysteine (U) at position 690 replaced by X\r\n",
        "Selenocysteine (U) at position 690 replaced by X\r\n"
       ]
      },
      {
       "output_type": "stream",
       "stream": "stdout",
       "text": [
        "Selenocysteine (U) at position 690 replaced by X\r\n"
       ]
      },
      {
       "output_type": "stream",
       "stream": "stdout",
       "text": [
        "Selenocysteine (U) at position 140 replaced by X\r\n"
       ]
      },
      {
       "output_type": "stream",
       "stream": "stdout",
       "text": [
        "Selenocysteine (U) at position 196 replaced by X\r\n"
       ]
      },
      {
       "output_type": "stream",
       "stream": "stdout",
       "text": [
        "Selenocysteine (U) at position 204 replaced by X\r\n",
        "Selenocysteine (U) at position 196 replaced by X\r\n",
        "Selenocysteine (U) at position 193 replaced by X\r\n"
       ]
      },
      {
       "output_type": "stream",
       "stream": "stdout",
       "text": [
        "Selenocysteine (U) at position 493 replaced by X\r\n"
       ]
      },
      {
       "output_type": "stream",
       "stream": "stdout",
       "text": [
        "Selenocysteine (U) at position 24 replaced by X\r\n",
        "Selenocysteine (U) at position 63 replaced by X\r\n"
       ]
      },
      {
       "output_type": "stream",
       "stream": "stdout",
       "text": [
        "Selenocysteine (U) at position 25 replaced by X\r\n"
       ]
      },
      {
       "output_type": "stream",
       "stream": "stdout",
       "text": [
        "Selenocysteine (U) at position 63 replaced by X\r\n"
       ]
      },
      {
       "output_type": "stream",
       "stream": "stdout",
       "text": [
        "Selenocysteine (U) at position 60 replaced by X\r\n"
       ]
      },
      {
       "output_type": "stream",
       "stream": "stdout",
       "text": [
        "Selenocysteine (U) at position 73 replaced by X\r\n"
       ]
      },
      {
       "output_type": "stream",
       "stream": "stdout",
       "text": [
        "Selenocysteine (U) at position 73 replaced by X\r\n",
        "Selenocysteine (U) at position 73 replaced by X\r\n",
        "Selenocysteine (U) at position 73 replaced by X\r\n"
       ]
      },
      {
       "output_type": "stream",
       "stream": "stdout",
       "text": [
        "Selenocysteine (U) at position 73 replaced by X\r\n",
        "Selenocysteine (U) at position 73 replaced by X\r\n",
        "Selenocysteine (U) at position 73 replaced by X\r\n",
        "Selenocysteine (U) at position 73 replaced by X\r\n",
        "Selenocysteine (U) at position 73 replaced by X\r\n",
        "Selenocysteine (U) at position 73 replaced by X\r\n",
        "Selenocysteine (U) at position 73 replaced by X\r\n"
       ]
      },
      {
       "output_type": "stream",
       "stream": "stdout",
       "text": [
        "Selenocysteine (U) at position 43 replaced by X\r\n",
        "Selenocysteine (U) at position 73 replaced by X\r\n"
       ]
      }
     ],
     "prompt_number": 3
    },
    {
     "cell_type": "code",
     "collapsed": false,
     "input": [
      "!head /Volumes/web/cnidarian/BiGoRNAseq_unmapped_swissprot_blastout"
     ],
     "language": "python",
     "metadata": {},
     "outputs": [
      {
       "output_type": "stream",
       "stream": "stdout",
       "text": [
        "s_1.GTGTCTAC_1_(paired)-1_trimmed_(paired)_un-mapped_reads_[no_read_group]_(single)_contig_1\tgi|3121895|sp|Q37705.1|COX1_ARTSF\t55.23\t507\t224\t2\t4105\t2594\t5\t511\t2e-140\t 457\r\n",
        "s_1.GTGTCTAC_1_(paired)-1_trimmed_(paired)_un-mapped_reads_[no_read_group]_(single)_contig_4\tgi|3914777|sp|O61463.1|RLA2_CRYST\t56.25\t112\t47\t1\t392\t57\t1\t110\t9e-21\t86.7\r\n",
        "s_1.GTGTCTAC_1_(paired)-1_trimmed_(paired)_un-mapped_reads_[no_read_group]_(single)_contig_5\tgi|54041577|sp|P13418.2|POLS_CRPVC\t22.81\t754\t440\t25\t2769\t787\t43\t747\t1e-25\t 118\r\n",
        "s_1.GTGTCTAC_1_(paired)-1_trimmed_(paired)_un-mapped_reads_[no_read_group]_(single)_contig_6\tgi|135489|sp|P11833.1|TBB_PARLI\t99.29\t420\t3\t0\t1425\t166\t11\t430\t0.0\t 839\r\n",
        "s_1.GTGTCTAC_1_(paired)-1_trimmed_(paired)_un-mapped_reads_[no_read_group]_(single)_contig_7\tgi|341941223|sp|P29341.2|PABP1_MOUSE\t85.23\t88\t13\t0\t1063\t800\t536\t623\t2e-38\t 150\r\n",
        "s_1.GTGTCTAC_1_(paired)-1_trimmed_(paired)_un-mapped_reads_[no_read_group]_(single)_contig_8\tgi|2500286|sp|Q26481.3|RL5_STYCL\t75.93\t295\t70\t1\t1168\t284\t1\t294\t1e-134\t 395\r\n",
        "s_1.GTGTCTAC_1_(paired)-1_trimmed_(paired)_un-mapped_reads_[no_read_group]_(single)_contig_9\tgi|109940067|sp|P00428.2|COX5B_BOVIN\t52.94\t51\t23\t1\t430\t281\t72\t122\t7e-13\t65.9\r\n",
        "s_1.GTGTCTAC_1_(paired)-1_trimmed_(paired)_un-mapped_reads_[no_read_group]_(single)_contig_10\tgi|71151870|sp|Q8TC29.1|ENKUR_HUMAN\t49.79\t235\t112\t2\t891\t187\t26\t254\t1e-67\t 218\r\n",
        "s_1.GTGTCTAC_1_(paired)-1_trimmed_(paired)_un-mapped_reads_[no_read_group]_(single)_contig_13\tgi|115305840|sp|Q2NKZ1.1|TCPH_BOVIN\t82.76\t116\t20\t0\t1089\t742\t299\t414\t3e-108\t 212\r\n",
        "s_1.GTGTCTAC_1_(paired)-1_trimmed_(paired)_un-mapped_reads_[no_read_group]_(single)_contig_14\tgi|6094094|sp|O57592.3|RL7A_FUGRU\t77.08\t240\t53\t1\t770\t51\t29\t266\t1e-125\t 366\r\n"
       ]
      }
     ],
     "prompt_number": 4
    },
    {
     "cell_type": "code",
     "collapsed": false,
     "input": [
      "!wc /Volumes/web/cnidarian/BiGoRNAseq_unmapped_swissprot_blastout"
     ],
     "language": "python",
     "metadata": {},
     "outputs": [
      {
       "output_type": "stream",
       "stream": "stdout",
       "text": [
        "    1600   19200  271972 /Volumes/web/cnidarian/BiGoRNAseq_unmapped_swissprot_blastout\r\n"
       ]
      }
     ],
     "prompt_number": 5
    },
    {
     "cell_type": "code",
     "collapsed": false,
     "input": [],
     "language": "python",
     "metadata": {},
     "outputs": [
      {
       "output_type": "stream",
       "stream": "stdout",
       "text": [
        "USAGE\r\n",
        "  blastn [-h] [-help] [-import_search_strategy filename]\r\n",
        "    [-export_search_strategy filename] [-task task_name] [-db database_name]\r\n",
        "    [-dbsize num_letters] [-gilist filename] [-seqidlist filename]\r\n",
        "    [-negative_gilist filename] [-entrez_query entrez_query]\r\n",
        "    [-db_soft_mask filtering_algorithm] [-db_hard_mask filtering_algorithm]\r\n",
        "    [-subject subject_input_file] [-subject_loc range] [-query input_file]\r\n",
        "    [-out output_file] [-evalue evalue] [-word_size int_value]\r\n",
        "    [-gapopen open_penalty] [-gapextend extend_penalty]\r\n",
        "    [-perc_identity float_value] [-xdrop_ungap float_value]\r\n",
        "    [-xdrop_gap float_value] [-xdrop_gap_final float_value]\r\n",
        "    [-searchsp int_value] [-max_hsps_per_subject int_value] [-penalty penalty]\r\n",
        "    [-reward reward] [-no_greedy] [-min_raw_gapped_score int_value]\r\n",
        "    [-template_type type] [-template_length int_value] [-dust DUST_options]\r\n",
        "    [-filtering_db filtering_database]\r\n",
        "    [-window_masker_taxid window_masker_taxid]\r\n",
        "    [-window_masker_db window_masker_db] [-soft_masking soft_masking]\r\n",
        "    [-ungapped] [-culling_limit int_value] [-best_hit_overhang float_value]\r\n",
        "    [-best_hit_score_edge float_value] [-window_size int_value]\r\n",
        "    [-off_diagonal_range int_value] [-use_index boolean] [-index_name string]\r\n",
        "    [-lcase_masking] [-query_loc range] [-strand strand] [-parse_deflines]\r\n",
        "    [-outfmt format] [-show_gis] [-num_descriptions int_value]\r\n",
        "    [-num_alignments int_value] [-html] [-max_target_seqs num_sequences]\r\n",
        "    [-num_threads int_value] [-remote] [-version]\r\n",
        "\r\n",
        "DESCRIPTION\r\n",
        "   Nucleotide-Nucleotide BLAST 2.2.27+\r\n",
        "\r\n",
        "Use '-help' to print detailed descriptions of command line arguments\r\n",
        "========================================================================\r\n",
        "\r\n",
        "Error: Unknown argument: \"type\"\r\n"
       ]
      }
     ],
     "prompt_number": 6
    },
    {
     "cell_type": "markdown",
     "metadata": {},
     "source": [
      "---  \n",
      "\n",
      "\n",
      "##Tophat Analysis   \n",
      "\n",
      "\n",
      "--\n",
      "\n",
      "<img src=\"https://www.evernote.com/shard/s10/sh/bcebc40c-4ef5-4db0-b1e8-2badf9e3fa18/108103c1cab7c7b6ab9b9cbd1f3768b3/deep/0/(274)%20Discovery%20Environment.png\" alt=\"(274)%20Discovery%20Environment\" />\n",
      "\n",
      "\n",
      "TopHat Output\n",
      "\n",
      "The tophat script produces a number of files in the directory in which it was invoked. Most of these files are internal, intermediate files that are generated for use within the pipeline. The output files you will likely want to look at are:\n",
      "\n",
      "accepted_hits.bam. A list of read alignments in SAM format. SAM is a compact short read alignment format that is increasingly being adopted. The formal specification is here.    \n",
      "\n",
      "junctions.bed. A UCSC BED track of junctions reported by TopHat. Each junction consists of two connected BED blocks, where each block is as long as the maximal overhang of any read spanning the junction. The score is the number of alignments spanning the junction.  \n",
      "\n",
      "insertions.bed and deletions.bed. UCSC BED tracks of insertions and deletions reported by TopHat.    \n",
      "\n",
      "Insertions.bed - chromLeft refers to the last genomic base before the insertion.    \n",
      "\n",
      "Deletions.bed - chromLeft refers to the first genomic base of the deletion.  \n",
      "\n",
      "---\n",
      "\n",
      "Data @ <http://eagle.fish.washington.edu/cnidarian/index.php?dir=tophat_071313%2F>\n",
      "\n",
      "\n"
     ]
    },
    {
     "cell_type": "code",
     "collapsed": false,
     "input": [
      "ls /Volumes/web/cnidarian/tophat_071313"
     ],
     "language": "python",
     "metadata": {},
     "outputs": [
      {
       "output_type": "stream",
       "stream": "stdout",
       "text": [
        "\u001b[31maccepted_hits.bam\u001b[m\u001b[m*             \u001b[31mprep_reads.info\u001b[m\u001b[m*\r\n",
        "\u001b[31mdeletions.bed\u001b[m\u001b[m*                 \u001b[31ms_1.bam\u001b[m\u001b[m*\r\n",
        "\u001b[31minsertions.bed\u001b[m\u001b[m*                \u001b[31ms_1.bam.bai\u001b[m\u001b[m*\r\n",
        "\u001b[31mjunctions.bed\u001b[m\u001b[m*                 \u001b[31munmapped.bam\u001b[m\u001b[m*\r\n",
        "\u001b[31mlookup_roberts_grc_oyster.xls\u001b[m\u001b[m*\r\n"
       ]
      }
     ],
     "prompt_number": 2
    },
    {
     "cell_type": "code",
     "collapsed": false,
     "input": [
      "!head /Volumes/web/cnidarian/tophat_071313/junctions.bed"
     ],
     "language": "python",
     "metadata": {},
     "outputs": [
      {
       "output_type": "stream",
       "stream": "stdout",
       "text": [
        "track name=junctions description=\"TopHat junctions\"\r\n",
        "C14162\t6\t239\tJUNC00000001\t12\t-\t6\t239\t255,0,0\t2\t36,49\t0,184\r\n",
        "C14832\t78\t229\tJUNC00000002\t4\t-\t78\t229\t255,0,0\t2\t43,27\t0,124\r\n",
        "C17940\t206\t349\tJUNC00000003\t1\t-\t206\t349\t255,0,0\t2\t31,19\t0,124\r\n",
        "C17998\t32\t262\tJUNC00000004\t734\t-\t32\t262\t255,0,0\t2\t49,49\t0,181\r\n",
        "C18186\t378\t530\tJUNC00000005\t1\t+\t378\t530\t255,0,0\t2\t29,21\t0,131\r\n",
        "C18450\t359\t554\tJUNC00000006\t6\t+\t359\t554\t255,0,0\t2\t38,49\t0,146\r\n",
        "C18694\t57\t245\tJUNC00000007\t1\t-\t57\t245\t255,0,0\t2\t30,20\t0,168\r\n",
        "C18754\t51\t472\tJUNC00000008\t6\t+\t51\t472\t255,0,0\t2\t47,32\t0,389\r\n",
        "C19028\t89\t279\tJUNC00000009\t76\t+\t89\t279\t255,0,0\t2\t40,49\t0,141\r\n"
       ]
      }
     ],
     "prompt_number": 2
    },
    {
     "cell_type": "markdown",
     "metadata": {},
     "source": [
      "<img src=\"https://www.evernote.com/shard/s10/sh/d3dbbda3-3a86-410f-a480-fffa618a17e5/70715205c903c9d0e6be3447f745f7b1/deep/0/IGV%20-%20Session:%20http://eagle.fish.washington.edu/cnidarian/oyster_v9_igv_session.xml%20and%20Home%20%7C%20TWiT.TV.png\" alt=\"IGV%20-%20Session:%20http://eagle.fish.washington.edu/cnidarian/oyster_v9_igv_session.xml%20and%20Home%20%7C%20TWiT.TV\" />"
     ]
    },
    {
     "cell_type": "markdown",
     "metadata": {},
     "source": [
      "URL to load IGV Session corresponding to screenshot above.   \n",
      "\n",
      "`http://eagle.fish.washington.edu/cnidarian/BiGo_RNAseq_072213_igv_session.xml`"
     ]
    },
    {
     "cell_type": "markdown",
     "metadata": {},
     "source": [
      "---\n",
      "## Using Samtools to interogate TopHat Bam file\n",
      "\n",
      "reference: <http://left.subtree.org/2012/04/13/counting-the-number-of-reads-in-a-bam-file/>"
     ]
    },
    {
     "cell_type": "code",
     "collapsed": false,
     "input": [
      "cd /Volumes/Bay3/Software/BSMAP/bsmap-2.74/samtools"
     ],
     "language": "python",
     "metadata": {},
     "outputs": [
      {
       "output_type": "stream",
       "stream": "stdout",
       "text": [
        "/Volumes/Bay3/Software/BSMAP/bsmap-2.74/samtools"
       ]
      },
      {
       "output_type": "stream",
       "stream": "stdout",
       "text": [
        "\n"
       ]
      }
     ],
     "prompt_number": 6
    },
    {
     "cell_type": "code",
     "collapsed": false,
     "input": [
      "ls"
     ],
     "language": "python",
     "metadata": {},
     "outputs": [
      {
       "output_type": "stream",
       "stream": "stdout",
       "text": [
        "AUTHORS          bam_index.o      bedidx.o         kstring.c\r\n",
        "COPYING          bam_lpileup.c    bgzf.c           kstring.h\r\n",
        "ChangeLog        bam_lpileup.o    bgzf.h           kstring.o\r\n",
        "INSTALL          bam_mate.c       bgzf.o           libbam.a\r\n",
        "Makefile         bam_mate.o       bgzip.c          \u001b[34mmisc\u001b[m\u001b[m/\r\n",
        "Makefile.mingw   bam_md.c         cut_target.c     phase.c\r\n",
        "NEWS             bam_md.o         cut_target.o     phase.o\r\n",
        "bam.c            bam_pileup.c     errmod.c         razf.c\r\n",
        "bam.h            bam_pileup.o     errmod.h         razf.h\r\n",
        "bam.o            bam_plcmd.c      errmod.o         razf.o\r\n",
        "bam2bcf.c        bam_plcmd.o      \u001b[34mexamples\u001b[m\u001b[m/        razip.c\r\n",
        "bam2bcf.h        bam_reheader.c   faidx.c          sam.c\r\n",
        "bam2bcf.o        bam_reheader.o   faidx.h          sam.h\r\n",
        "bam2bcf_indel.c  bam_rmdup.c      faidx.o          sam.o\r\n",
        "bam2bcf_indel.o  bam_rmdup.o      kaln.c           sam_header.c\r\n",
        "bam2depth.c      bam_rmdupse.c    kaln.h           sam_header.h\r\n",
        "bam2depth.o      bam_rmdupse.o    kaln.o           sam_header.o\r\n",
        "bam_aux.c        bam_sort.c       khash.h          sam_view.c\r\n",
        "bam_aux.o        bam_sort.o       klist.h          sam_view.o\r\n",
        "bam_cat.c        bam_stat.c       knetfile.c       sample.c\r\n",
        "bam_cat.o        bam_stat.o       knetfile.h       sample.h\r\n",
        "bam_color.c      bam_tview.c      knetfile.o       sample.o\r\n",
        "bam_color.o      bam_tview.o      kprobaln.c       \u001b[31msamtools\u001b[m\u001b[m*\r\n",
        "bam_endian.h     bamtk.c          kprobaln.h       samtools.1\r\n",
        "bam_import.c     bamtk.o          kprobaln.o       \u001b[34mwin32\u001b[m\u001b[m/\r\n",
        "bam_import.o     \u001b[34mbcftools\u001b[m\u001b[m/        kseq.h\r\n",
        "bam_index.c      bedidx.c         ksort.h\r\n"
       ]
      }
     ],
     "prompt_number": 7
    },
    {
     "cell_type": "code",
     "collapsed": false,
     "input": [
      "!samtools"
     ],
     "language": "python",
     "metadata": {},
     "outputs": [
      {
       "output_type": "stream",
       "stream": "stdout",
       "text": [
        "/bin/sh: samtools: command not found\r\n"
       ]
      }
     ],
     "prompt_number": 8
    },
    {
     "cell_type": "code",
     "collapsed": false,
     "input": [
      "cp samtools /usr/local/bin"
     ],
     "language": "python",
     "metadata": {},
     "outputs": [],
     "prompt_number": 9
    },
    {
     "cell_type": "code",
     "collapsed": false,
     "input": [
      "!samtools"
     ],
     "language": "python",
     "metadata": {},
     "outputs": [
      {
       "output_type": "stream",
       "stream": "stdout",
       "text": [
        "\r\n",
        "Program: samtools (Tools for alignments in the SAM format)\r\n",
        "Version: 0.1.18 (r982:295)\r\n",
        "\r\n",
        "Usage:   samtools <command> [options]\r\n",
        "\r\n",
        "Command: view        SAM<->BAM conversion\r\n",
        "         sort        sort alignment file\r\n",
        "         mpileup     multi-way pileup\r\n",
        "         depth       compute the depth\r\n",
        "         faidx       index/extract FASTA\r\n",
        "         index       index alignment\r\n",
        "         idxstats    BAM index stats (r595 or later)\r\n",
        "         fixmate     fix mate information\r\n",
        "         flagstat    simple stats\r\n",
        "         calmd       recalculate MD/NM tags and '=' bases\r\n",
        "         merge       merge sorted alignments\r\n",
        "         rmdup       remove PCR duplicates\r\n",
        "         reheader    replace BAM header\r\n",
        "         cat         concatenate BAMs\r\n",
        "         targetcut   cut fosmid regions (for fosmid pool only)\r\n",
        "         phase       phase heterozygotes\r\n",
        "\r\n"
       ]
      }
     ],
     "prompt_number": 10
    },
    {
     "cell_type": "code",
     "collapsed": false,
     "input": [
      "!samtools view -c /Volumes/web/cnidarian/tophat_071313/s_1.bam"
     ],
     "language": "python",
     "metadata": {},
     "outputs": [
      {
       "output_type": "stream",
       "stream": "stdout",
       "text": [
        "164718919\r\n"
       ]
      }
     ],
     "prompt_number": 11
    },
    {
     "cell_type": "code",
     "collapsed": false,
     "input": [
      "#only mapped reads\n",
      "!samtools view -c -F 4 /Volumes/web/cnidarian/tophat_071313/s_1.bam"
     ],
     "language": "python",
     "metadata": {},
     "outputs": [
      {
       "output_type": "stream",
       "stream": "stdout",
       "text": [
        "164718919\r\n"
       ]
      }
     ],
     "prompt_number": 12
    },
    {
     "cell_type": "code",
     "collapsed": false,
     "input": [
      "#unmapped reads\n",
      "!samtools view -c -f 4 /Volumes/web/cnidarian/tophat_071313/s_1.bam"
     ],
     "language": "python",
     "metadata": {},
     "outputs": [
      {
       "output_type": "stream",
       "stream": "stdout",
       "text": [
        "0\r\n"
       ]
      }
     ],
     "prompt_number": 13
    },
    {
     "cell_type": "code",
     "collapsed": false,
     "input": [
      "!samtools view -c /Volumes/web/cnidarian/tophat_071313/accepted_hits.bam"
     ],
     "language": "python",
     "metadata": {},
     "outputs": [
      {
       "output_type": "stream",
       "stream": "stdout",
       "text": [
        "164718919\r\n"
       ]
      }
     ],
     "prompt_number": 19
    },
    {
     "cell_type": "code",
     "collapsed": false,
     "input": [
      "!samtools view -c /Volumes/web/cnidarian/tophat_071313/unmapped.bam"
     ],
     "language": "python",
     "metadata": {},
     "outputs": [
      {
       "output_type": "stream",
       "stream": "stdout",
       "text": [
        "7263587\r\n"
       ]
      }
     ],
     "prompt_number": 22
    },
    {
     "cell_type": "code",
     "collapsed": false,
     "input": [
      "!samtools flagstat /Volumes/web/cnidarian/tophat_071313/s_1.bam"
     ],
     "language": "python",
     "metadata": {},
     "outputs": [
      {
       "output_type": "stream",
       "stream": "stdout",
       "text": [
        "164718919 + 0 in total (QC-passed reads + QC-failed reads)\r\n",
        "0 + 0 duplicates\r\n",
        "164718919 + 0 mapped (100.00%:nan%)\r\n",
        "164718919 + 0 paired in sequencing\r\n",
        "82181831 + 0 read1\r\n",
        "82537088 + 0 read2\r\n",
        "42418114 + 0 properly paired (25.75%:nan%)\r\n",
        "161646608 + 0 with itself and mate mapped\r\n",
        "3072311 + 0 singletons (1.87%:nan%)\r\n",
        "1264082 + 0 with mate mapped to a different chr\r\n",
        "395312 + 0 with mate mapped to a different chr (mapQ>=5)\r\n"
       ]
      },
      {
       "output_type": "stream",
       "stream": "stdout",
       "text": [
        "164718919 + 0 in total (QC-passed reads + QC-failed reads)\r\n",
        "0 + 0 duplicates\r\n",
        "164718919 + 0 mapped (100.00%:nan%)\r\n",
        "164718919 + 0 paired in sequencing\r\n",
        "82181831 + 0 read1\r\n",
        "82537088 + 0 read2\r\n",
        "42418114 + 0 properly paired (25.75%:nan%)\r\n",
        "161646608 + 0 with itself and mate mapped\r\n",
        "3072311 + 0 singletons (1.87%:nan%)\r\n",
        "1264082 + 0 with mate mapped to a different chr\r\n",
        "395312 + 0 with mate mapped to a different chr (mapQ>=5)\r\n"
       ]
      }
     ],
     "prompt_number": 18
    },
    {
     "cell_type": "code",
     "collapsed": false,
     "input": [
      "!samtools flagstat /Volumes/web/cnidarian/tophat_071313/accepted_hits.bam"
     ],
     "language": "python",
     "metadata": {},
     "outputs": [
      {
       "output_type": "stream",
       "stream": "stdout",
       "text": [
        "164718919 + 0 in total (QC-passed reads + QC-failed reads)\r\n",
        "0 + 0 duplicates\r\n",
        "164718919 + 0 mapped (100.00%:nan%)\r\n",
        "164718919 + 0 paired in sequencing\r\n",
        "82181831 + 0 read1\r\n",
        "82537088 + 0 read2\r\n",
        "42418114 + 0 properly paired (25.75%:nan%)\r\n",
        "161646608 + 0 with itself and mate mapped\r\n",
        "3072311 + 0 singletons (1.87%:nan%)\r\n",
        "1264082 + 0 with mate mapped to a different chr\r\n",
        "395312 + 0 with mate mapped to a different chr (mapQ>=5)\r\n"
       ]
      }
     ],
     "prompt_number": 15
    },
    {
     "cell_type": "code",
     "collapsed": false,
     "input": [
      "!samtools flagstat /Volumes/web/cnidarian/tophat_071313/unmapped.bam"
     ],
     "language": "python",
     "metadata": {},
     "outputs": [
      {
       "output_type": "stream",
       "stream": "stdout",
       "text": [
        "7161175 + 102412 in total (QC-passed reads + QC-failed reads)\r\n",
        "0 + 0 duplicates\r\n",
        "0 + 0 mapped (0.00%:0.00%)\r\n",
        "7161175 + 102412 paired in sequencing\r\n",
        "3670234 + 76916 read1\r\n",
        "3490941 + 25496 read2\r\n",
        "0 + 0 properly paired (0.00%:0.00%)\r\n",
        "0 + 0 with itself and mate mapped\r\n",
        "0 + 0 singletons (0.00%:0.00%)\r\n",
        "0 + 0 with mate mapped to a different chr\r\n",
        "0 + 0 with mate mapped to a different chr (mapQ>=5)\r\n"
       ]
      }
     ],
     "prompt_number": 16
    },
    {
     "cell_type": "markdown",
     "metadata": {},
     "source": [
      "##Tophat Data Into Cufflinks (IPlant)"
     ]
    },
    {
     "cell_type": "code",
     "collapsed": false,
     "input": [],
     "language": "python",
     "metadata": {},
     "outputs": []
    },
    {
     "cell_type": "markdown",
     "metadata": {},
     "source": [
      "---\n",
      "##Quality Trimming in iPlant\n"
     ]
    },
    {
     "cell_type": "markdown",
     "metadata": {},
     "source": [
      "<img src=\"http://eagle.fish.washington.edu/cnidarian/skitch/_264__Discovery_Environment_17A1B77F.png\" alt=\"_264__Discovery_Environment_17A1B77F.png\"/>    \n",
      "\n"
     ]
    },
    {
     "cell_type": "markdown",
     "metadata": {},
     "source": [
      "Pre-Process Complete, generating one file   \n",
      "\n",
      "Downloading and running through Fastx quality Trimmer"
     ]
    },
    {
     "cell_type": "code",
     "collapsed": false,
     "input": [
      "!wc /Volumes/web/cnidarian/BiGo_RNAseq_fastx_qual.fastq"
     ],
     "language": "python",
     "metadata": {},
     "outputs": [
      {
       "output_type": "stream",
       "stream": "stdout",
       "text": [
        " 190998292 190998292 6469564027 /Volumes/web/cnidarian/BiGo_RNAseq_fastx_qual.fastq\r\n"
       ]
      }
     ],
     "prompt_number": 3
    },
    {
     "cell_type": "code",
     "collapsed": false,
     "input": [
      "!wc /Volumes/web/cnidarian/BiGo_RNAseq_PreProcess.fastq"
     ],
     "language": "python",
     "metadata": {},
     "outputs": [
      {
       "output_type": "stream",
       "stream": "stdout",
       "text": [
        " 191927856 191927856 6501051882 /Volumes/web/cnidarian/BiGo_RNAseq_PreProcess.fastq\r\n"
       ]
      },
      {
       "output_type": "stream",
       "stream": "stdout",
       "text": [
        " 191927856 191927856 6501051882 /Volumes/web/cnidarian/BiGo_RNAseq_PreProcess.fastq\r\n"
       ]
      }
     ],
     "prompt_number": 6
    },
    {
     "cell_type": "code",
     "collapsed": false,
     "input": [],
     "language": "python",
     "metadata": {},
     "outputs": []
    }
   ],
   "metadata": {}
  }
 ]
}