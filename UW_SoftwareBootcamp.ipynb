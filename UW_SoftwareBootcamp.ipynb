{
 "metadata": {
  "name": "",
  "signature": "sha256:eb26e70e28307b617b19607b6a250cb72e90efed77a02ddb762567b9e00b8024"
 },
 "nbformat": 3,
 "nbformat_minor": 0,
 "worksheets": [
  {
   "cells": [
    {
     "cell_type": "code",
     "collapsed": false,
     "input": [
      "pwd"
     ],
     "language": "python",
     "metadata": {},
     "outputs": [
      {
       "metadata": {},
       "output_type": "pyout",
       "prompt_number": 1,
       "text": [
        "u'/Users/sr320/Dropbox/Steven/ipython_nb'"
       ]
      }
     ],
     "prompt_number": 1
    },
    {
     "cell_type": "code",
     "collapsed": false,
     "input": [
      "!ssh -i ~/Desktop/uw-bootcamp.pem root@ec2-54-221-27-81.compute-1.amazonaws.com"
     ],
     "language": "python",
     "metadata": {},
     "outputs": [
      {
       "output_type": "stream",
       "stream": "stdout",
       "text": [
        "          _                 _           _\r\n",
        "__/\\_____| |_ __ _ _ __ ___| |_   _ ___| |_ ___ _ __\r\n",
        "\\    / __| __/ _` | '__/ __| | | | / __| __/ _ \\ '__|\r\n",
        "/_  _\\__ \\ || (_| | | | (__| | |_| \\__ \\ ||  __/ |\r\n",
        "  \\/ |___/\\__\\__,_|_|  \\___|_|\\__,_|___/\\__\\___|_|\r\n",
        "\r\n",
        "StarCluster Ubuntu 11.10 AMI\r\n",
        "Software Tools for Academics and Researchers (STAR)\r\n",
        "Homepage: http://web.mit.edu/starcluster\r\n",
        "Documentation: http://web.mit.edu/starcluster/docs/latest\r\n",
        "Code: https://github.com/jtriley/StarCluster\r\n",
        "Mailing list: starcluster@mit.edu\r\n",
        "\r\n",
        "This AMI Contains:\r\n",
        "\r\n",
        "  * Custom-Compiled Atlas, Numpy, Scipy, etc\r\n",
        "  * Open Grid Scheduler (OGS) queuing system\r\n",
        "  * Condor workload management system\r\n",
        "  * OpenMPI compiled with Open Grid Scheduler support\r\n",
        "  * IPython 0.12 with parallel support\r\n",
        "  * and more! (use 'dpkg -l' to show all installed packages)\r\n",
        "\r\n",
        "Open Grid Scheduler/Condor cheat sheet:\r\n",
        "\r\n",
        "  * qstat/condor_q - show status of batch jobs\r\n",
        "  * qhost/condor_status- show status of hosts, queues, and jobs\r\n",
        "  * qsub/condor_submit - submit batch jobs (e.g. qsub -cwd ./jobscript.sh)\r\n",
        "  * qdel/condor_rm - delete batch jobs (e.g. qdel 7)\r\n",
        "  * qconf - configure Open Grid Scheduler system\r\n",
        "\r\n",
        "Current System Stats:\r\n",
        "\r\n",
        "  System load:  0.0               Processes:           109\r\n",
        "  Usage of /:   32.9% of 9.84GB   Users logged in:     1\r\n",
        "  Memory usage: 2%                IP address for eth0: 10.166.18.199\r\n",
        "  Swap usage:   0%\r\n",
        "\r\n"
       ]
      },
      {
       "output_type": "stream",
       "stream": "stdout",
       "text": [
        "\u001b]0;root@ip-10-166-18-199: ~\u0007\u001b[01;32mroot@ip-10-166-18-199\u001b[00m:\u001b[01;34m~\u001b[00m# "
       ]
      },
      {
       "output_type": "stream",
       "stream": "stdout",
       "text": [
        "^C\r\n",
        "\u001b]0;root@ip-10-166-18-199: ~\u0007\u001b[01;32mroot@ip-10-166-18-199\u001b[00m:\u001b[01;34m~\u001b[00m# \r\n",
        "\u001b]0;root@ip-10-166-18-199: ~\u0007\u001b[01;32mroot@ip-10-166-18-199\u001b[00m:\u001b[01;34m~\u001b[00m# "
       ]
      }
     ],
     "prompt_number": 7
    },
    {
     "cell_type": "code",
     "collapsed": false,
     "input": [
      "!pwd\n",
      "\n"
     ],
     "language": "python",
     "metadata": {},
     "outputs": [
      {
       "output_type": "stream",
       "stream": "stdout",
       "text": [
        "/Users/sr320/Dropbox/Steven/ipython_nb\r\n"
       ]
      }
     ],
     "prompt_number": 8
    },
    {
     "cell_type": "code",
     "collapsed": false,
     "input": [
      "!nano"
     ],
     "language": "python",
     "metadata": {},
     "outputs": [
      {
       "output_type": "stream",
       "stream": "stdout",
       "text": [
        "\u001b)0\u001b7\u001b[?47h\u001b[1;31r\u001b[m\u001b[4l\u001b[?1h\u001b=\u001b[?1h\u001b=\u001b[?1h\u001b=\u001b[m\u001b[m\u001b[m\u001b[H\u001b[2J\u001b[7m  GNU nano 2.0.6                         New Buffer                                                         \u001b[30;1H^G\u001b[m Get Help\u001b[7C\u001b[7m^O\u001b[m WriteOut\u001b[7C\u001b[7m^R\u001b[m Read File\u001b[6C\u001b[7m^Y\u001b[m Prev Page\u001b[6C\u001b[7m^K\u001b[m Cut Text\u001b[7C\u001b[7m^C\u001b[m Cur Pos\r",
        "\u001b[1B\u001b[7m^X\u001b[m Exit\u001b[31;19H\u001b[7m^J\u001b[m Justify\u001b[31;37H\u001b[7m^W\u001b[m Where Is\u001b[7C\u001b[7m^V\u001b[m Next Page\u001b[6C\u001b[7m^U\u001b[m UnCut Text     \u001b[7m^T\u001b[m To Spell\r",
        "\u001b[28A"
       ]
      },
      {
       "output_type": "stream",
       "stream": "stdout",
       "text": [
        "\u001b[29;30H\u001b[7m[ line 1/1 (100%), col 1/1 (100%), char 0/0 (0%) ]\r",
        "\u001b[26A\u001b[m"
       ]
      }
     ],
     "prompt_number": 9
    },
    {
     "cell_type": "code",
     "collapsed": false,
     "input": [],
     "language": "python",
     "metadata": {},
     "outputs": []
    }
   ],
   "metadata": {}
  }
 ]
}