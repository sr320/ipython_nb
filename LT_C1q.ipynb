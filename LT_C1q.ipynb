{
 "metadata": {
  "name": "",
  "signature": "sha256:ff6d9726dd7dbb7688774c44fcffc5664df9411ea6f3efeac67e3931235a8a20"
 },
 "nbformat": 3,
 "nbformat_minor": 0,
 "worksheets": [
  {
   "cells": [
    {
     "cell_type": "heading",
     "level": 2,
     "metadata": {},
     "source": [
      "Sequences"
     ]
    },
    {
     "cell_type": "code",
     "collapsed": false,
     "input": [
      "!head /Volumes/web/cnidarian/LT_L6_4000_C1q.fasta"
     ],
     "language": "python",
     "metadata": {},
     "outputs": [
      {
       "output_type": "stream",
       "stream": "stdout",
       "text": [
        ">L6_4000_C1q -\r\n",
        "CCATACCTCTCCACTTCTTCCTCTTTCCCTTTACAATTTTTATTTTTTTTAAATAATAAAGTGATGATTTATTTAT\r\n",
        "TGGTTAAAGAGGAAAATCCTCACATCACAGAATGGTGCTGTCCTCACACAGGGAAGAGCAGGAAGCCACTGAAGGT\r\n",
        "GTTGTGGTTATCATGGCTATCATGGAGACCCTGGTCTTCAGGGAGACGAAGGTAGACCACATCCTCCTTCTCCAGC\r\n",
        "TCTAGTGTCAACGCATTAGATATGTACTGCCAACCCCCAACTGTATTTCTTTCTACATTATATAGAACTCTTTGAT\r\n",
        "TATTGTGAAACATCATGATGCCCATGAGTTGTGGGTGGCGGGATGACATGGCCGTGAATCTGAAGAAGTAGACTCC\r\n",
        "TTTCACTGATGCTGTGAAGATGCCTGCATCAGAGGAGAAATAGAGTGATATCAGCACTGTCTGTCTCATGTTGCTG\r\n",
        "TAGCTTTAATGTTTTTAACAAATAAACTCAGCAAAAAAAGAAATGTCCCTTTTCAGGACCCTGTCTTTCAAAGATA\r\n",
        "ATTCGTAAAAATCCAAATAACTTCACAGATCTTCATTTTAAAGGGTTTAAACACTGTTTCCCATGCTTCTTCAATG\r\n",
        "AACCATAAACAATTAATGAACATGCACCTGTGGAACGGTCGTTAAGACACTAACAGCTTACAGACGGTAGGCAGTT\r\n"
       ]
      }
     ],
     "prompt_number": 4
    },
    {
     "cell_type": "code",
     "collapsed": false,
     "input": [
      "!head /Volumes/web/cnidarian/LT_S7_4000_C1q.fasta"
     ],
     "language": "python",
     "metadata": {},
     "outputs": [
      {
       "output_type": "stream",
       "stream": "stdout",
       "text": [
        ">S7_4000_C1q -\r\n",
        "CCATACCTCTCCACTTCTTCCTCTTTCCCTTTACAATTTTTATTTTTTTTAAATAATAAAGTGATGATTTATTTAT\r\n",
        "TGGTTAAAGAGGAAAATCCTCACATCACAGAATGGTGCTGTCCTCACACAGGGAAGAGCAGGAAGCCACTGAAGGT\r\n",
        "GTTGTGGTTATCATGGCTATCATGGAGACCCTGGTCTTCAGGGAGACGAAGGTAGACCACATCCTCCTTCTCCAGC\r\n",
        "TCTAGTGTCAACGCATTAGATATGTACTGCCAACCCCCAACTGTATTTCTTTCTACATTATATAGAACTCTTTGAT\r\n",
        "TATTGTGAAACATCATGATGCCCATGAGTTGTGGGTGGCGGGATGACATGGCCGTGAATCTGAAGAAGTAGACTCC\r\n",
        "TTTCACTGATGCTGTGAAGATGCCTGCATCAGAGGAGAAATAGAGTGATATCAGCACTGTCTGTCTCATGTTGCTG\r\n",
        "TAGCTGGAATGTTTTTAACAAATAAACTCAGCAAAAAAAGAAATGTCCCTTTTCAGGACCCTGTCTTTCAAAGATA\r\n",
        "ATTCGTAAAAATCCAAATAACTTCACAGATCTTCATTTTAAAGGGTTTAAACACTGTTTCCCATGCTTCTTCAATG\r\n",
        "AACCATAAACAATTAATGAACATGCACCTGTGGAACGGTCGTTAAGACACTAACAGCTTACAGACGGTAGGCAGTT\r\n"
       ]
      }
     ],
     "prompt_number": 5
    },
    {
     "cell_type": "code",
     "collapsed": false,
     "input": [
      "#This is in reverse order 3' to 5'. \n",
      "#The line marked C1q is the lean cDNA and the one marked Contig1S7cDNA is the siscowet cDNA \n",
      "#you see it misses some of the sequence present in the lean cDNA at about 3125 to 3145. \n",
      "#They are both being compared to the siscowet genomic sequence. \n",
      "!head /Volumes/web/cnidarian/LT_C1q_align.txt"
     ],
     "language": "python",
     "metadata": {},
     "outputs": [
      {
       "output_type": "stream",
       "stream": "stdout",
       "text": [
        "                      10        20        30        40        50        60        70        80        90       100\r\n",
        "Contig_1      CCATACCTCTCCACTTCTTCCTCTTTCCCTTTACAATTTTTATTTTTTTTAAATAATAAAGTGATGATTTATTTATTGGTTAAAGAGGAAAATCCTCACA\r\n",
        "              ~~~~~~~~~~~~~~~~~~~~~~~~~~~~~~~~~~~~~~~~~~~~~~~~~~~~~~~~~~~~~~~~~~~~~~~~~~~~~~~~~~~~~~~~~~~~~~~~~~~~\r\n",
        "Consensus:    CCATACCTCTCCACTTCTTCCTCTTTCCCTTTACAATTTTTATTTTTTTTAAATAATAAAGTGATGATTTATTTATTGGTTAAAGAGGAAAATCCTCACA\r\n",
        "              ~~~~~~~~~~~~~~~~~~~~~~~~~~~~~~~~~~~~~~~~~~~~~~~~~~~~~~~~~~~~~~~~~~~~~~~~~~~~~~~~~~~~~~~~~~~~~~~~~~~~\r\n",
        "C1q           CCATACCTCTCCACTTCTTCCTCTTTCCCTTTACAATTTTTATTTTTTTTAAATAATAAAGTGATGATTTATTTATTGGTTAAAGAGGAAAATCCTCACA\r\n",
        "Contig1S7cDNA CCATACCTCTCCACTTCTTCCTCTTTCCCTTTACAATTTTTATTTTTTTTAAATAATAAAGTGATGATTTATTTATTGGTTAAAGAGGAAAATCCTCACA\r\n",
        "S7 4000 C1q   CCATACCTCTCCACTTCTTCCTCTTTCCCTTTACAATTTTTATTTTTTTTAAATAATAAAGTGATGATTTATTTATTGGTTAAAGAGGAAAATCCTCACA\r\n",
        "\r\n",
        "                     110       120       130       140       150       160       170       180"
       ]
      },
      {
       "output_type": "stream",
       "stream": "stdout",
       "text": [
        "       190       200\r\n"
       ]
      }
     ],
     "prompt_number": 8
    },
    {
     "cell_type": "markdown",
     "metadata": {},
     "source": [
      "*linkout*\n",
      "\n",
      "<http://eagle.fish.washington.edu/cnidarian/LT_C1q_align.txt>"
     ]
    },
    {
     "cell_type": "code",
     "collapsed": false,
     "input": [],
     "language": "python",
     "metadata": {},
     "outputs": []
    },
    {
     "cell_type": "code",
     "collapsed": false,
     "input": [],
     "language": "python",
     "metadata": {},
     "outputs": []
    }
   ],
   "metadata": {}
  }
 ]
}