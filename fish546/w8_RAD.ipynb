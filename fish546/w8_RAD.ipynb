{
 "metadata": {
  "name": ""
 },
 "nbformat": 3,
 "nbformat_minor": 0,
 "worksheets": [
  {
   "cells": [
    {
     "cell_type": "heading",
     "level": 1,
     "metadata": {},
     "source": [
      "RAD Data"
     ]
    },
    {
     "cell_type": "markdown",
     "metadata": {},
     "source": [
      "We will explore how to handle RAD data - trying to use IPlant - Stacks"
     ]
    },
    {
     "cell_type": "markdown",
     "metadata": {},
     "source": [
      "Some clam data"
     ]
    },
    {
     "cell_type": "code",
     "collapsed": false,
     "input": [
      "cd /Volumes/web/whale/"
     ],
     "language": "python",
     "metadata": {},
     "outputs": [
      {
       "output_type": "stream",
       "stream": "stdout",
       "text": [
        "/Volumes/web/whale\n"
       ]
      }
     ],
     "prompt_number": 1
    },
    {
     "cell_type": "code",
     "collapsed": false,
     "input": [
      "ls"
     ],
     "language": "python",
     "metadata": {},
     "outputs": [
      {
       "output_type": "stream",
       "stream": "stdout",
       "text": [
        "\u001b[30m\u001b[43m000\u001b[m\u001b[m/\r\n",
        "\u001b[30m\u001b[43m2011-12-16175D-Zhang_supplementary_tables\u001b[m\u001b[m/\r\n",
        "\u001b[30m\u001b[43m20120821_QE\u001b[m\u001b[m/\r\n",
        "\u001b[31mAna_Prezi.mov\u001b[m\u001b[m*\r\n",
        "\u001b[30m\u001b[43mBIO533\u001b[m\u001b[m/\r\n",
        "\u001b[30m\u001b[43mBert and Ernie\u001b[m\u001b[m/\r\n",
        "\u001b[30m\u001b[43mC25GNACXX.oyster.fastqs\u001b[m\u001b[m/\r\n",
        "\u001b[30m\u001b[43mCLC\u001b[m\u001b[m/\r\n",
        "\u001b[31mDisease Plenary Talks A.mp4\u001b[m\u001b[m*\r\n",
        "\u001b[30m\u001b[43mEIMD\u001b[m\u001b[m/\r\n",
        "\u001b[30m\u001b[43mFrH\u001b[m\u001b[m/\r\n",
        "\u001b[30m\u001b[43mFriedman_Oly_broodstock\u001b[m\u001b[m/\r\n",
        "\u001b[30m\u001b[43mGE\u001b[m\u001b[m/\r\n",
        "Galaxy-History-Oyster_Genome.tar.gz\r\n",
        "Galaxy-History-SP_and_GO.tar.gz\r\n",
        "\u001b[31mGalaxy1-[associations_uni_swisspro_012410.txt].tabular\u001b[m\u001b[m*\r\n",
        "\u001b[31mGalaxy5-[GO_to_GOslim.txt].tabular\u001b[m\u001b[m*\r\n",
        "\u001b[31mGalaxy6.tabular\u001b[m\u001b[m*\r\n",
        "\u001b[31mGalaxy98-[Cut_on_data_97].tabular\u001b[m\u001b[m*\r\n",
        "\u001b[31mIEP_Xenobiotics.mov\u001b[m\u001b[m*\r\n",
        "\u001b[30m\u001b[43mJGI\u001b[m\u001b[m/\r\n",
        "\u001b[31mKiller Squid.m4v\u001b[m\u001b[m*\r\n",
        "\u001b[30m\u001b[43mLISA\u001b[m\u001b[m/\r\n",
        "\u001b[31mLab_1.ipynb\u001b[m\u001b[m*\r\n",
        "\u001b[30m\u001b[43mLakeTrout_101612\u001b[m\u001b[m/\r\n",
        "\u001b[31mLog\u001b[m\u001b[m*\r\n",
        "\u001b[31mNSF_RCN_BIO533.mov\u001b[m\u001b[m*\r\n",
        "\u001b[31mNSF_RCN_BIO533_480.mov\u001b[m\u001b[m*\r\n",
        "\u001b[30m\u001b[43mOlurida_ms\u001b[m\u001b[m/\r\n",
        "PEERTA_syll.pdf\r\n",
        "\u001b[30m\u001b[43mPat\u001b[m\u001b[m/\r\n",
        "QPX_transcriptome_v1.fasta\r\n",
        "\u001b[31mQPX_transcriptome_v1.fasta.zip\u001b[m\u001b[m*\r\n",
        "QPXtrans_v1_GOslim_annotation2.txt\r\n",
        "\u001b[31mRoberts_PT_StudentEvals.pdf\u001b[m\u001b[m*\r\n",
        "S2_QPXtransriptome_SPannotations.txt\r\n",
        "S5_QPX_Experiment_UniqueReads.txt\r\n",
        "S7b_SNPtable_transcriptome.txt\r\n",
        "S8_SNPtable_genome.txt\r\n",
        "\u001b[30m\u001b[43mSB_MOTH\u001b[m\u001b[m/\r\n",
        "\u001b[30m\u001b[43mSQLshare_files\u001b[m\u001b[m/\r\n",
        "Steven R.mov\r\n",
        "\u001b[30m\u001b[43mString\u001b[m\u001b[m/\r\n",
        "\u001b[30m\u001b[43mTGIT Fall 2013\u001b[m\u001b[m/\r\n",
        "\u001b[30m\u001b[43mTWIF\u001b[m\u001b[m/\r\n",
        "\u001b[31mThumbs.db\u001b[m\u001b[m*\r\n",
        "\u001b[30m\u001b[43mTopHat2-SE_analysis1-2014-02-05-16-28-28.598\u001b[m\u001b[m/\r\n",
        "\u001b[30m\u001b[43mTophat_Gil_oysterv9.90\u001b[m\u001b[m/\r\n",
        "\u001b[31mWeb Analytics.ipynb\u001b[m\u001b[m*\r\n",
        "\u001b[30m\u001b[43map11_samifier-master\u001b[m\u001b[m/\r\n",
        "\u001b[30m\u001b[43mbedtools\u001b[m\u001b[m/\r\n",
        "\u001b[30m\u001b[43mblast\u001b[m\u001b[m/\r\n",
        "\u001b[30m\u001b[43mburge\u001b[m\u001b[m/\r\n",
        "\u001b[30m\u001b[43mce_bs\u001b[m\u001b[m/\r\n",
        "claire_goes_ipython.html\r\n",
        "clam_RAD_s_1_sequence.txt.txt\r\n",
        "clam_RAD_s_1_sequence.txt.txt.gz\r\n",
        "\u001b[30m\u001b[43mconstruction\u001b[m\u001b[m/\r\n",
        "dav\r\n",
        "dav1\r\n",
        "\u001b[30m\u001b[43mdlf\u001b[m\u001b[m/\r\n",
        "\u001b[30m\u001b[43mdoc\u001b[m\u001b[m/\r\n",
        "\u001b[30m\u001b[43meap\u001b[m\u001b[m/\r\n",
        "\u001b[30m\u001b[43meap1\u001b[m\u001b[m/\r\n",
        "\u001b[30m\u001b[43mensembl\u001b[m\u001b[m/\r\n",
        "\u001b[31mepigenome.mp4\u001b[m\u001b[m*\r\n",
        "\u001b[30m\u001b[43mevocam\u001b[m\u001b[m/\r\n",
        "\u001b[30m\u001b[43mfb\u001b[m\u001b[m/\r\n",
        "\u001b[31mfiltered_2000_NoIndex_L007_R1.fastq.gz\u001b[m\u001b[m*\r\n",
        "\u001b[31mfiltered_400_NoIndex_L006_R1.fastq.gz\u001b[m\u001b[m*\r\n",
        "\u001b[31mfiltered_Unlabeled_NoIndex_L003_R1.fastq.gz\u001b[m\u001b[m*\r\n",
        "\u001b[30m\u001b[43mfish310\u001b[m\u001b[m/\r\n",
        "\u001b[30m\u001b[43mfish441\u001b[m\u001b[m/\r\n",
        "\u001b[30m\u001b[43mfish441_papers\u001b[m\u001b[m/\r\n",
        "\u001b[30m\u001b[43mfish546\u001b[m\u001b[m/\r\n",
        "\u001b[31mindex.php\u001b[m\u001b[m*\r\n",
        "\u001b[30m\u001b[43mipy_co\u001b[m\u001b[m/\r\n",
        "\u001b[30m\u001b[43mlft_05\u001b[m\u001b[m/\r\n",
        "\u001b[30m\u001b[43mmkblasttmp3957485\u001b[m\u001b[m/\r\n",
        "nature11413-s2.zip\r\n",
        "nr.gz\r\n",
        "oyster.v9_M.fa\r\n",
        "\u001b[30m\u001b[43mpinctada_genome\u001b[m\u001b[m/\r\n",
        "\u001b[30m\u001b[43mpub\u001b[m\u001b[m/\r\n",
        "\u001b[30m\u001b[43mpub1\u001b[m\u001b[m/\r\n",
        "qdod.html\r\n",
        "\u001b[30m\u001b[43mqpx_figs\u001b[m\u001b[m/\r\n",
        "qpx_figs.zip\r\n",
        "\u001b[31mredot.jpg\u001b[m\u001b[m*\r\n",
        "\u001b[31mscreenshot4.png\u001b[m\u001b[m*\r\n",
        "\u001b[31mskitch.png\u001b[m\u001b[m*\r\n",
        "\u001b[30m\u001b[43msoap\u001b[m\u001b[m/\r\n",
        "\u001b[30m\u001b[43msrlab_user\u001b[m\u001b[m/\r\n",
        "\u001b[30m\u001b[43mstorer\u001b[m\u001b[m/\r\n",
        "\u001b[31msuckers.mov\u001b[m\u001b[m*\r\n",
        "\u001b[30m\u001b[43mtmp\u001b[m\u001b[m/\r\n",
        "\u001b[30m\u001b[43mtrf\u001b[m\u001b[m/\r\n",
        "\u001b[30m\u001b[43mtrout_parasite\u001b[m\u001b[m/\r\n",
        "\u001b[30m\u001b[43muntitled folder\u001b[m\u001b[m/\r\n",
        "\u001b[30m\u001b[43muntitled folder 2\u001b[m\u001b[m/\r\n",
        "\u001b[31muntitled text 2\u001b[m\u001b[m*\r\n",
        "url\r\n",
        "\u001b[30m\u001b[43mwiki_test_cases\u001b[m\u001b[m/\r\n"
       ]
      }
     ],
     "prompt_number": 2
    },
    {
     "cell_type": "code",
     "collapsed": false,
     "input": [
      "!gunzip clam_RAD_s_1_sequence.txt.txt.gz"
     ],
     "language": "python",
     "metadata": {},
     "outputs": [
      {
       "output_type": "stream",
       "stream": "stdout",
       "text": [
        "^C\r\n"
       ]
      }
     ],
     "prompt_number": 3
    },
    {
     "cell_type": "code",
     "collapsed": false,
     "input": [
      "!head clam_RAD_s_1_sequence.txt.txt"
     ],
     "language": "python",
     "metadata": {},
     "outputs": [
      {
       "output_type": "stream",
       "stream": "stdout",
       "text": [
        "@HWI-ST700693_0075:1:1101:1225:2121#0/1\r\n",
        "GNCTACATGCTGTGTACTCTTGTGGCGAAACTGCTG\r\n",
        "+HWI-ST700693_0075:1:1101:1225:2121#0/1\r\n",
        "^BV^\\bcbbceeeeeeeeeeeeeeeeeeeedeeee_\r\n",
        "@HWI-ST700693_0075:1:1101:1224:2148#0/1\r\n",
        "AGTAGGTGCAGGCACAAATTGATAGTATTTACCAGT\r\n",
        "+HWI-ST700693_0075:1:1101:1224:2148#0/1\r\n",
        "dffafdffcfedd_eeddeedaedeefefffbdffe\r\n",
        "@HWI-ST700693_0075:1:1101:1199:2158#0/1\r\n",
        "AGGTGTTGCAGGACTGGATACTTAAAATATATTGCA\r\n"
       ]
      }
     ],
     "prompt_number": 3
    },
    {
     "cell_type": "markdown",
     "metadata": {},
     "source": [
      "_Some text for perspective - methods:_\n",
      "    \n",
      "Restriction site associated DNA (RAD) marker library preparation    \n",
      "Restriction site associated DNA (RAD) marker libraries were constructed to identify diagnostic markers among cohorts. Genomic DNA was isolated separately from the gill tissue BARN (n=4) and MASH (n=4) clams using DNAzol (Molecular Research Center) as per manufacturers recommendations. Libraries were prepared as described by Miller et al 2007. Briefly samples (n=8) were digested Sbf-1 (New England Biolabs), then each hybridized with a unique barcode, and RAD adapters (PI and P2) were ligated on DNA fragments. Size selection of DNA fragments was achieved by running PCR on a 1% EZ gel (Invitrogen) with E-gel 1 kb Plus DNA ladder followed by purification using the MiniElute gel purification protocol. Subsequent library construction and sequencing was carried out by the University of Washington High Throughput Genomics Unit (HTGU) using the Illumina HiSeq2000 system.    \n",
      "\n",
      "---\n",
      "    \n",
      "Restriction site associated DNA (RAD) marker library analysis   \n",
      "Initial sequence read processing of RAD tags was carried out as previously described by Miller et (2012). Quality scores were used to remove raw sequencing reads with a probability of sequencing error greater than 10%. Using custom perl scripts (Miller et al. 2012) we then grouped raw sequences reads by individual and removed barcodes and restriction sites for a total sequence read length of 24 base pairs.\n",
      "\n",
      "Two types SNP analyses were performed including population specific SNP variation characterization and the identification of SNPs that could potentially distinguish populations. In order to examine population specific SNP variation quality trimmed reads from each cohort (BARN and MASH) were assembled independently using the following parameters; limit = 8, and mismatch cost = 2 (Genomics Workbench 4.0; CLC Bio). SNP detection was carried out using the following parameters:  maximum gap and mismatch count = 2,  minimum average quality = 15, minimum central quality = 20, minimum coverage = 10, minimum variant frequency = 35% (Genomics Workbench 4.0; CLC Bio). \n",
      "\n",
      "For the second form of SNP analysis Novoindex and Novoalign (Novocraft Technologies) were used to aseemble RAD-tags to identify RAD-tags within a cohort that were identical (lacked any polymorphisms. These \u201cisotigs\u201d from each cohort were then compared by assembling reads and carrying out SNP detection as described above. Any SNP that was identified indicated that the locus is fixed for the individuals in each cohort examined."
     ]
    },
    {
     "cell_type": "markdown",
     "metadata": {},
     "source": [
      "https://www.evernote.com/shard/s10/sh/83c8adea-e40f-417b-a211-92b0a3a2b04f/1919679c5d1b0d3cdc66ca4273f1598b"
     ]
    },
    {
     "cell_type": "markdown",
     "metadata": {},
     "source": [
      "_results_ \n",
      "\n",
      "RAD\n",
      "After quality trimming there 14.5 million reads remained from BARN clams (n=4) and 8.4 million reads from MASH clams (n=4), with a read length of 24bp. All but one individuals (MASH) had between 2.4 and 4.7 millions reads. To assess overall genetic diversity between the populations, reads were characterized in silico for each cohort. A de novo assembly of BARN reads resulted in 4,491 contigs containing 543 putative SNPs [Additional File 1](http://aquacul4.fish.washington.edu/~steven/armina/BARN_RAD_SNPtable.txt). This corresponds to approximately 5.0 SNPs / 1kb.  Assembly of the MASH reads resulted in 9,824 contigs containing 1372 SNPs [Additional File 2](http://aquacul4.fish.washington.edu/~steven/armina/MASH_RAD_SNPtable.txt). For this MASH library this corresponds to approximately 5.8 SNPs / 1kb. \n",
      "\n",
      "In addition to characterizing putative SNP within cohorts, we also set out to identify fixed loci that could be used to distinguish between cohorts.  The number of identical contigs for each library was 8606 and 4845 for MASH and BARN, respectively. Comparing these two sets of isotigs revealed 2090 analogous sequences across cohorts with 1945 identical matches. The remaining 145 putative SNPs thus provide diagnostic markers to distinguish strains based on the samples used here. Of the 145 corresponding contigs only one mapped back to the transcriptome and this transcript was not annotated.\n",
      " "
     ]
    },
    {
     "cell_type": "markdown",
     "metadata": {},
     "source": [
      "**via Storer Evernote**\n",
      "\n",
      "Download sequence files in Illumina fastq format. \n",
      "This will not open in notepad. \n",
      "Need program such as \"Large Text File Viewer\". Link to this will be on catalyst site.\n",
      "these file are 16-20 GB\n",
      "\n",
      "First letters of seq are barcode. Second line are quality score for each sequence\n",
      "\n",
      "EXAMPLE\n",
      "@name (line also contains information on samples location on slide)\n",
      "sequence\n",
      "+ name\n",
      "quality scores\n",
      "\n",
      "typically first sequences are low quality\n",
      "\n",
      "General notes:\n",
      "> (carrot symbol) tells perl to write a file \n",
      "Unix format needs \n",
      "up key spits out previous command so that you can edit\n",
      "\n",
      "line 9 is telling it to read file line by line\n",
      "lines 11-14 is telling it to read the code line by line\n",
      "\n",
      "x+++ Note:What does it mean?\n",
      "\n",
      "\n",
      "Why do we want to count the number of sequences?\n",
      "We can filter sequences based on the number of counts (eg too low or too high such as 10,000) \n",
      "Cutoff based on distribution of read counts\n",
      "\n",
      "Novoalign: longest step (24hrs) This assembly is program is good because it does not make any assumptions about trying to lengthen sequences eg creates stacks\n",
      "\n",
      "Can only run on cluster need 64 bit unix system\n",
      "Installed on node 4\n",
      "Navigate to Novocraft folder on desktop\n",
      "open terminal create directory (cd) in Novocraft \n",
      "\n",
      "Next Step is align sequences back to their index\n",
      "\n",
      "The higher the scores the worse the alignment. The score is the number of mismatched basepairs.\n",
      "\n",
      "To get the files on and off the cluster use DENALI\n",
      "\n",
      "NOVO file interpretation \n",
      "R-matched to other sequences\n",
      "U-only matched to itself\n",
      "Next is the score and then the sequences it has matched to\n",
      "Sometimes a score of 30 indicates a single nucleotide difference\n",
      "\n",
      "For next week...\n",
      "rerun scripts and try running the other Novo align script"
     ]
    },
    {
     "cell_type": "markdown",
     "metadata": {},
     "source": [
      "<img src=\"http://eagle.fish.washington.edu/cnidarian/skitch/_40__Discovery_Environment_18BCD1C5.png\" alt=\"_40__Discovery_Environment_18BCD1C5_png\"/>"
     ]
    },
    {
     "cell_type": "heading",
     "level": 1,
     "metadata": {},
     "source": [
      "Git Diversion"
     ]
    },
    {
     "cell_type": "markdown",
     "metadata": {},
     "source": [
      "<img src=\"http://eagle.fish.washington.edu/cnidarian/skitch/sr320_fish546_18BD03A5.png\" alt=\"sr320_fish546_18BD03A5_png\"/>"
     ]
    },
    {
     "cell_type": "code",
     "collapsed": false,
     "input": [
      "cd  /Volumes/Shoelace/Dropbox/Steven/"
     ],
     "language": "python",
     "metadata": {},
     "outputs": [
      {
       "output_type": "stream",
       "stream": "stdout",
       "text": [
        "/Volumes/Shoelace/Dropbox/Steven\n"
       ]
      }
     ],
     "prompt_number": 12
    },
    {
     "cell_type": "code",
     "collapsed": false,
     "input": [
      "mkdir gt"
     ],
     "language": "python",
     "metadata": {},
     "outputs": [],
     "prompt_number": 15
    },
    {
     "cell_type": "code",
     "collapsed": false,
     "input": [
      "cd gt"
     ],
     "language": "python",
     "metadata": {},
     "outputs": [
      {
       "output_type": "stream",
       "stream": "stdout",
       "text": [
        "/Volumes/Shoelace/Dropbox/Steven/gt\n"
       ]
      }
     ],
     "prompt_number": 16
    },
    {
     "cell_type": "code",
     "collapsed": false,
     "input": [
      "!git clone https://github.com/sr320/fish546.git "
     ],
     "language": "python",
     "metadata": {},
     "outputs": [
      {
       "output_type": "stream",
       "stream": "stdout",
       "text": [
        "Cloning into fish546...\r\n"
       ]
      },
      {
       "output_type": "stream",
       "stream": "stdout",
       "text": [
        "remote: Counting objects: 3, done.\u001b[K\r\n",
        "remote: Total 3 (delta 0), reused 0 (delta 0)\u001b[K\r\n",
        "Unpacking objects:  33% (1/3)   \r",
        "Unpacking objects:  66% (2/3)   \r",
        "Unpacking objects: 100% (3/3)   \r",
        "Unpacking objects: 100% (3/3), done.\r\n"
       ]
      }
     ],
     "prompt_number": 17
    },
    {
     "cell_type": "code",
     "collapsed": false,
     "input": [
      "ls"
     ],
     "language": "python",
     "metadata": {},
     "outputs": [
      {
       "output_type": "stream",
       "stream": "stdout",
       "text": [
        "\u001b[34mfish546\u001b[m\u001b[m/\r\n"
       ]
      }
     ],
     "prompt_number": 18
    },
    {
     "cell_type": "code",
     "collapsed": false,
     "input": [
      "cd fish546/"
     ],
     "language": "python",
     "metadata": {},
     "outputs": [
      {
       "output_type": "stream",
       "stream": "stdout",
       "text": [
        "/Volumes/Shoelace/Dropbox/Steven/gt/fish546\n"
       ]
      }
     ],
     "prompt_number": 23
    },
    {
     "cell_type": "code",
     "collapsed": false,
     "input": [
      "ls"
     ],
     "language": "python",
     "metadata": {},
     "outputs": [
      {
       "output_type": "stream",
       "stream": "stdout",
       "text": [
        "README.md\r\n"
       ]
      }
     ],
     "prompt_number": 24
    },
    {
     "cell_type": "code",
     "collapsed": false,
     "input": [
      "drag some files in ....."
     ],
     "language": "python",
     "metadata": {},
     "outputs": []
    },
    {
     "cell_type": "code",
     "collapsed": false,
     "input": [
      "!git status"
     ],
     "language": "python",
     "metadata": {},
     "outputs": [
      {
       "output_type": "stream",
       "stream": "stdout",
       "text": [
        "# On branch master\r\n",
        "# Untracked files:\r\n",
        "#   (use \"git add <file>...\" to include in what will be committed)\r\n",
        "#\r\n",
        "#\t.DS_Store\r\n",
        "#\tRad_perl_pipeline/\r\n",
        "nothing added to commit but untracked files present (use \"git add\" to track)\r\n"
       ]
      }
     ],
     "prompt_number": 26
    },
    {
     "cell_type": "code",
     "collapsed": false,
     "input": [
      "!git add Rad_perl_pipeline/"
     ],
     "language": "python",
     "metadata": {},
     "outputs": [],
     "prompt_number": 27
    },
    {
     "cell_type": "code",
     "collapsed": false,
     "input": [
      "!git commit -m \"adding perl scripts courtesy of Storer\""
     ],
     "language": "python",
     "metadata": {},
     "outputs": [
      {
       "output_type": "stream",
       "stream": "stdout",
       "text": [
        "[master a3ee1d3] adding perl scripts courtesy of Storer\r\n",
        " 10 files changed, 360 insertions(+), 0 deletions(-)\r\n",
        " create mode 100644 Rad_perl_pipeline/.DS_Store\r\n",
        " create mode 100644 Rad_perl_pipeline/perlpipelinefiles.zip\r\n",
        " create mode 100644 Rad_perl_pipeline/perlpipelinefiles/.DS_Store\r\n",
        " create mode 100755 Rad_perl_pipeline/perlpipelinefiles/BarcodeSplit.pl\r\n",
        " create mode 100755 Rad_perl_pipeline/perlpipelinefiles/FilterLoci.pl\r\n",
        " create mode 100755 Rad_perl_pipeline/perlpipelinefiles/HashSeqs.pl\r\n",
        " create mode 100755 Rad_perl_pipeline/perlpipelinefiles/IdentifyLoci.pl\r\n",
        " create mode 100755 Rad_perl_pipeline/perlpipelinefiles/QualityFilter.pl\r\n",
        " create mode 100755 Rad_perl_pipeline/perlpipelinefiles/SNPLocation.pl\r\n",
        " create mode 100755 Rad_perl_pipeline/perlpipelinefiles/pipeline.txt\r\n"
       ]
      }
     ],
     "prompt_number": 37
    },
    {
     "cell_type": "code",
     "collapsed": false,
     "input": [
      "!git status"
     ],
     "language": "python",
     "metadata": {},
     "outputs": [
      {
       "output_type": "stream",
       "stream": "stdout",
       "text": [
        "# On branch master\r\n",
        "# Your branch is ahead of 'origin/master' by 1 commit.\r\n",
        "#\r\n",
        "# Untracked files:\r\n",
        "#   (use \"git add <file>...\" to include in what will be committed)\r\n",
        "#\r\n",
        "#\t.DS_Store\r\n",
        "nothing added to commit but untracked files present (use \"git add\" to track)\r\n"
       ]
      }
     ],
     "prompt_number": 38
    },
    {
     "cell_type": "code",
     "collapsed": false,
     "input": [
      "!git commit"
     ],
     "language": "python",
     "metadata": {},
     "outputs": [
      {
       "output_type": "stream",
       "stream": "stdout",
       "text": [
        "# On branch master\r\n",
        "# Your branch is ahead of 'origin/master' by 1 commit.\r\n",
        "#\r\n",
        "# Untracked files:\r\n",
        "#   (use \"git add <file>...\" to include in what will be committed)\r\n",
        "#\r\n",
        "#\t.DS_Store\r\n",
        "nothing added to commit but untracked files present (use \"git add\" to track)\r\n"
       ]
      }
     ],
     "prompt_number": 40
    },
    {
     "cell_type": "code",
     "collapsed": false,
     "input": [
      "!git add IMG_1566.jpg"
     ],
     "language": "python",
     "metadata": {},
     "outputs": [],
     "prompt_number": 41
    },
    {
     "cell_type": "code",
     "collapsed": false,
     "input": [
      "!git commit -m \"adding image\""
     ],
     "language": "python",
     "metadata": {},
     "outputs": [
      {
       "output_type": "stream",
       "stream": "stdout",
       "text": [
        "[master e6ccb50] adding image\r\n",
        " 1 files changed, 0 insertions(+), 0 deletions(-)\r\n",
        " create mode 100644 IMG_1566.jpg\r\n"
       ]
      }
     ],
     "prompt_number": 42
    },
    {
     "cell_type": "code",
     "collapsed": false,
     "input": [],
     "language": "python",
     "metadata": {},
     "outputs": []
    }
   ],
   "metadata": {}
  }
 ]
}