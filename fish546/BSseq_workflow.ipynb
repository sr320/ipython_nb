{
 "metadata": {
  "name": "",
  "signature": "sha256:a1ec1625b12ddbf8ab11dd078df8224c9a807baba7e3d424a6ee8d04097aa080"
 },
 "nbformat": 3,
 "nbformat_minor": 0,
 "worksheets": [
  {
   "cells": [
    {
     "cell_type": "heading",
     "level": 1,
     "metadata": {},
     "source": [
      "Workflow for processing BSseq Data"
     ]
    },
    {
     "cell_type": "markdown",
     "metadata": {},
     "source": [
      "This example will use _C gigas_ larvae data."
     ]
    },
    {
     "cell_type": "heading",
     "level": 2,
     "metadata": {},
     "source": [
      "File extraction"
     ]
    },
    {
     "cell_type": "code",
     "collapsed": false,
     "input": [
      "!gunzip /Volumes/web/trilobite/Crassostrea_gigas_HTSdata/filtered_Y54_Mix_GTGGCC_L005_R1.fastq.gz"
     ],
     "language": "python",
     "metadata": {},
     "outputs": [],
     "prompt_number": 4
    },
    {
     "cell_type": "code",
     "collapsed": false,
     "input": [
      "!gunzip /Volumes/web/trilobite/Crassostrea_gigas_HTSdata/filtered_Y54_Mix_GTGGCC_L005_R2.fastq.gz"
     ],
     "language": "python",
     "metadata": {},
     "outputs": [],
     "prompt_number": 5
    },
    {
     "cell_type": "code",
     "collapsed": false,
     "input": [
      "!head /Volumes/web/trilobite/Crassostrea_gigas_HTSdata/filtered_Y54_Mix_GTGGCC_L005_R1.fastq"
     ],
     "language": "python",
     "metadata": {},
     "outputs": [
      {
       "output_type": "stream",
       "stream": "stdout",
       "text": [
        "@HWI-ST700693:378:C39KLACXX:5:1101:1432:1973\r\n",
        "NTTTAGATGGTATTATTATTGATTTTATTTTTTTGG\r\n",
        "+\r\n",
        "#41B44242222AAGGIIJJIJJJJJIJJJJJGIIB\r\n",
        "@HWI-ST700693:378:C39KLACXX:5:1101:1985:1979\r\n",
        "NATAGATAAAGGTTATATTGGTGTATATGAGATTAG\r\n",
        "+\r\n",
        "#11A42224222>AFGIJJJJIIFHIJJJJIIJJJJ\r\n",
        "@HWI-ST700693:378:C39KLACXX:5:1101:1887:1990\r\n",
        "NATTTATTTGTAAATAGGTAGTTAATTATAATGATT\r\n"
       ]
      }
     ],
     "prompt_number": 7
    },
    {
     "cell_type": "heading",
     "level": 2,
     "metadata": {},
     "source": [
      "Quality Check (cloud option)"
     ]
    },
    {
     "cell_type": "markdown",
     "metadata": {},
     "source": [
      "Running fastQC in IPlant"
     ]
    },
    {
     "cell_type": "code",
     "collapsed": false,
     "input": [
      "!ipwd"
     ],
     "language": "python",
     "metadata": {},
     "outputs": [
      {
       "output_type": "stream",
       "stream": "stdout",
       "text": [
        "/iplant/home/sr320/Cgigas_yan_larvae\r\n"
       ]
      }
     ],
     "prompt_number": 13
    },
    {
     "cell_type": "code",
     "collapsed": false,
     "input": [
      "!iput /Volumes/web/trilobite/Crassostrea_gigas_HTSdata/filtered_Y54_Mix_GTGGCC_L005_R1.fastq"
     ],
     "language": "python",
     "metadata": {},
     "outputs": [],
     "prompt_number": 14
    },
    {
     "cell_type": "code",
     "collapsed": false,
     "input": [
      "!iput /Volumes/web/trilobite/Crassostrea_gigas_HTSdata/filtered_Y54_Mix_GTGGCC_L005_R2.fastq"
     ],
     "language": "python",
     "metadata": {},
     "outputs": [],
     "prompt_number": 15
    },
    {
     "cell_type": "code",
     "collapsed": false,
     "input": [
      "!ils"
     ],
     "language": "python",
     "metadata": {},
     "outputs": [
      {
       "output_type": "stream",
       "stream": "stdout",
       "text": [
        "/iplant/home/sr320/Cgigas_yan_larvae:\r\n"
       ]
      },
      {
       "output_type": "stream",
       "stream": "stdout",
       "text": [
        "  filtered_Y54_Mix_GTGGCC_L005_R1.fastq\r\n",
        "  filtered_Y54_Mix_GTGGCC_L005_R2.fastq\r\n"
       ]
      }
     ],
     "prompt_number": 16
    },
    {
     "cell_type": "markdown",
     "metadata": {},
     "source": [
      "running fastqc in iplant\n",
      "<img src=\"http://eagle.fish.washington.edu/cnidarian/skitch/_3__Discovery_Environment_193E7754.png\" alt=\"_3__Discovery_Environment_193E7754.png\"/>"
     ]
    },
    {
     "cell_type": "code",
     "collapsed": false,
     "input": [
      "cd /Volumes/web/cnidarian/"
     ],
     "language": "python",
     "metadata": {},
     "outputs": [
      {
       "output_type": "stream",
       "stream": "stdout",
       "text": [
        "/Volumes/web/cnidarian\n"
       ]
      }
     ],
     "prompt_number": 25
    },
    {
     "cell_type": "code",
     "collapsed": false,
     "input": [
      "!wget http://de.iplantcollaborative.org/dl/d/B2362EE9-1E20-4F72-9724-64F261655EDA/filtered_Y54_Mix_GTGGCC_L005_R1_fastqc.zip"
     ],
     "language": "python",
     "metadata": {},
     "outputs": [
      {
       "output_type": "stream",
       "stream": "stdout",
       "text": [
        "--2014-06-03 14:49:28--  http://de.iplantcollaborative.org/dl/d/B2362EE9-1E20-4F72-9724-64F261655EDA/filtered_Y54_Mix_GTGGCC_L005_R1_fastqc.zip\r\n",
        "Resolving de.iplantcollaborative.org... "
       ]
      },
      {
       "output_type": "stream",
       "stream": "stdout",
       "text": [
        "150.135.78.218\r\n",
        "Connecting to de.iplantcollaborative.org|150.135.78.218|:80... "
       ]
      },
      {
       "output_type": "stream",
       "stream": "stdout",
       "text": [
        "connected.\r\n",
        "HTTP request sent, awaiting response... "
       ]
      },
      {
       "output_type": "stream",
       "stream": "stdout",
       "text": [
        "200 OK\r\n",
        "Length: unspecified [application/zip]\r\n"
       ]
      },
      {
       "output_type": "stream",
       "stream": "stdout",
       "text": [
        "Saving to: `filtered_Y54_Mix_GTGGCC_L005_R1_fastqc.zip.1'\r\n",
        "\r\n",
        "\r",
        "    [<=>                                    ] 0           --.-K/s              "
       ]
      },
      {
       "output_type": "stream",
       "stream": "stdout",
       "text": [
        "\r",
        "    [ <=>                                   ] 167,556      725K/s              "
       ]
      },
      {
       "output_type": "stream",
       "stream": "stdout",
       "text": [
        "\r",
        "    [  <=>                                  ] 226,475      834K/s   in 0.3s    \r\n",
        "\r\n",
        "2014-06-03 14:49:30 (834 KB/s) - `filtered_Y54_Mix_GTGGCC_L005_R1_fastqc.zip.1' saved [226475]\r\n",
        "\r\n"
       ]
      }
     ],
     "prompt_number": 26
    },
    {
     "cell_type": "heading",
     "level": 2,
     "metadata": {},
     "source": [
      "Quality Check (local)"
     ]
    },
    {
     "cell_type": "code",
     "collapsed": false,
     "input": [
      "!/Volumes/Bay3/Software/FastQC/fastqc /Volumes/web/trilobite/Crassostrea_gigas_HTSdata/filtered_Y54_Mix_GTGGCC_L005_R1.fastq -o /Volumes/web/cnidarian/"
     ],
     "language": "python",
     "metadata": {},
     "outputs": [
      {
       "output_type": "stream",
       "stream": "stdout",
       "text": [
        "Started analysis of filtered_Y54_Mix_GTGGCC_L005_R1.fastq\r\n"
       ]
      },
      {
       "output_type": "stream",
       "stream": "stdout",
       "text": [
        "Approx 5% complete for filtered_Y54_Mix_GTGGCC_L005_R1.fastq\r\n"
       ]
      },
      {
       "output_type": "stream",
       "stream": "stdout",
       "text": [
        "Approx 10% complete for filtered_Y54_Mix_GTGGCC_L005_R1.fastq\r\n"
       ]
      },
      {
       "output_type": "stream",
       "stream": "stdout",
       "text": [
        "Approx 15% complete for filtered_Y54_Mix_GTGGCC_L005_R1.fastq\r\n"
       ]
      },
      {
       "output_type": "stream",
       "stream": "stdout",
       "text": [
        "Approx 20% complete for filtered_Y54_Mix_GTGGCC_L005_R1.fastq\r\n"
       ]
      },
      {
       "output_type": "stream",
       "stream": "stdout",
       "text": [
        "Approx 25% complete for filtered_Y54_Mix_GTGGCC_L005_R1.fastq\r\n"
       ]
      },
      {
       "output_type": "stream",
       "stream": "stdout",
       "text": [
        "Approx 30% complete for filtered_Y54_Mix_GTGGCC_L005_R1.fastq\r\n"
       ]
      },
      {
       "output_type": "stream",
       "stream": "stdout",
       "text": [
        "Approx 35% complete for filtered_Y54_Mix_GTGGCC_L005_R1.fastq\r\n"
       ]
      },
      {
       "output_type": "stream",
       "stream": "stdout",
       "text": [
        "Approx 40% complete for filtered_Y54_Mix_GTGGCC_L005_R1.fastq\r\n"
       ]
      },
      {
       "output_type": "stream",
       "stream": "stdout",
       "text": [
        "Approx 45% complete for filtered_Y54_Mix_GTGGCC_L005_R1.fastq\r\n"
       ]
      },
      {
       "output_type": "stream",
       "stream": "stdout",
       "text": [
        "Approx 50% complete for filtered_Y54_Mix_GTGGCC_L005_R1.fastq\r\n"
       ]
      },
      {
       "output_type": "stream",
       "stream": "stdout",
       "text": [
        "Approx 55% complete for filtered_Y54_Mix_GTGGCC_L005_R1.fastq\r\n"
       ]
      },
      {
       "output_type": "stream",
       "stream": "stdout",
       "text": [
        "Approx 60% complete for filtered_Y54_Mix_GTGGCC_L005_R1.fastq\r\n"
       ]
      },
      {
       "output_type": "stream",
       "stream": "stdout",
       "text": [
        "Approx 65% complete for filtered_Y54_Mix_GTGGCC_L005_R1.fastq\r\n"
       ]
      },
      {
       "output_type": "stream",
       "stream": "stdout",
       "text": [
        "Approx 70% complete for filtered_Y54_Mix_GTGGCC_L005_R1.fastq\r\n"
       ]
      },
      {
       "output_type": "stream",
       "stream": "stdout",
       "text": [
        "Approx 75% complete for filtered_Y54_Mix_GTGGCC_L005_R1.fastq\r\n"
       ]
      },
      {
       "output_type": "stream",
       "stream": "stdout",
       "text": [
        "Approx 80% complete for filtered_Y54_Mix_GTGGCC_L005_R1.fastq\r\n"
       ]
      },
      {
       "output_type": "stream",
       "stream": "stdout",
       "text": [
        "Approx 85% complete for filtered_Y54_Mix_GTGGCC_L005_R1.fastq\r\n"
       ]
      },
      {
       "output_type": "stream",
       "stream": "stdout",
       "text": [
        "Approx 90% complete for filtered_Y54_Mix_GTGGCC_L005_R1.fastq\r\n"
       ]
      },
      {
       "output_type": "stream",
       "stream": "stdout",
       "text": [
        "Approx 95% complete for filtered_Y54_Mix_GTGGCC_L005_R1.fastq\r\n"
       ]
      },
      {
       "output_type": "stream",
       "stream": "stdout",
       "text": [
        "Approx 100% complete for filtered_Y54_Mix_GTGGCC_L005_R1.fastq\r\n",
        "Analysis complete for filtered_Y54_Mix_GTGGCC_L005_R1.fastq\r\n"
       ]
      }
     ],
     "prompt_number": 23
    },
    {
     "cell_type": "code",
     "collapsed": false,
     "input": [
      "!/Volumes/Bay3/Software/FastQC/fastqc /Volumes/web/trilobite/Crassostrea_gigas_HTSdata/filtered_Y54_Mix_GTGGCC_L005_R2.fastq -q -o /Volumes/web/cnidarian/"
     ],
     "language": "python",
     "metadata": {},
     "outputs": [],
     "prompt_number": 29
    },
    {
     "cell_type": "markdown",
     "metadata": {},
     "source": [
      "<http://eagle.fish.washington.edu/cnidarian/filtered_Y54_Mix_GTGGCC_L005_R1_fastqc/fastqc_report.html>"
     ]
    },
    {
     "cell_type": "markdown",
     "metadata": {},
     "source": [
      "<http://eagle.fish.washington.edu/cnidarian/filtered_Y54_Mix_GTGGCC_L005_R2_fastqc/fastqc_report.html>"
     ]
    },
    {
     "cell_type": "heading",
     "level": 2,
     "metadata": {},
     "source": [
      "Removing Overpresented sequences"
     ]
    },
    {
     "cell_type": "markdown",
     "metadata": {},
     "source": [
      "<img src=\"http://eagle.fish.washington.edu/cnidarian/skitch/filtered_Y54_Mix_GTGGCC_L005_R1_fastq_FastQC_Report_193E7D6C.png\" alt=\"filtered_Y54_Mix_GTGGCC_L005_R1_fastq_FastQC_Report_193E7D6C.png\"/>"
     ]
    },
    {
     "cell_type": "markdown",
     "metadata": {},
     "source": [
      "<img src=\"http://eagle.fish.washington.edu/cnidarian/skitch/filtered_Y54_Mix_GTGGCC_L005_R2_fastq_FastQC_Report_193E7D24.png\" alt=\"filtered_Y54_Mix_GTGGCC_L005_R2_fastq_FastQC_Report_193E7D24.png\"/>"
     ]
    },
    {
     "cell_type": "code",
     "collapsed": false,
     "input": [
      "!echo \">TruSeq Adapter, Index 1\\nGATCGGAAGAGCACACGTCTGAACTCCAGTCACGTG\\n>Illumina Single End PCR Primer 1\\nGATCGGAAGAGCGTCGTGTAGGGAAAGAGTGTAGAT\" \\\n",
      "> YE_overrepresent.txt"
     ],
     "language": "python",
     "metadata": {},
     "outputs": [],
     "prompt_number": 47
    },
    {
     "cell_type": "code",
     "collapsed": false,
     "input": [
      "!cat YE_overrepresent.txt"
     ],
     "language": "python",
     "metadata": {},
     "outputs": [
      {
       "output_type": "stream",
       "stream": "stdout",
       "text": [
        ">TruSeq Adapter, Index 1\r\n",
        "GATCGGAAGAGCACACGTCTGAACTCCAGTCACGTG\r\n",
        ">Illumina Single End PCR Primer 1\r\n",
        "GATCGGAAGAGCGTCGTGTAGGGAAAGAGTGTAGAT\r\n"
       ]
      }
     ],
     "prompt_number": 48
    },
    {
     "cell_type": "code",
     "collapsed": false,
     "input": [
      "!/Volumes/Bay3/Software/ea-utils.1.1.2-537/fastq-mcf \\\n",
      "-o /Volumes/web/cnidarian/filtered_Y54_Mix_GTGGCC_L005_R1_tr.fastq \\\n",
      "-o /Volumes/web/cnidarian/filtered_Y54_Mix_GTGGCC_L005_R2_tr.fastq \\\n",
      "/Volumes/web/cnidarian/YE_overrepresent.txt \\\n",
      "/Volumes/web/trilobite/Crassostrea_gigas_HTSdata/filtered_Y54_Mix_GTGGCC_L005_R1.fastq \\\n",
      "/Volumes/web/trilobite/Crassostrea_gigas_HTSdata/filtered_Y54_Mix_GTGGCC_L005_R2.fastq"
     ],
     "language": "python",
     "metadata": {},
     "outputs": [
      {
       "output_type": "stream",
       "stream": "stdout",
       "text": [
        "Scale used: 2.2\r\n"
       ]
      },
      {
       "output_type": "stream",
       "stream": "stdout",
       "text": [
        "Phred: 33\r\n"
       ]
      },
      {
       "output_type": "stream",
       "stream": "stdout",
       "text": [
        "Within-read Skew: Position 4 from the start of reads is skewed!\r\n",
        "Within-read Skew: Position 5 from the start of reads is skewed!\r\n",
        "Within-read Skew: Position 6 from the start of reads is skewed!\r\n",
        "Within-read Skew: Position 7 from the start of reads is skewed!\r\n",
        "Within-read Skew: Position 8 from the start of reads is skewed!\r\n",
        "Within-read Skew: Position 9 from the start of reads is skewed!\r\n",
        "Within-read Skew: Position 10 from the start of reads is skewed!\r\n",
        "Within-read Skew: Position 12 from the start of reads is skewed!\r\n",
        "Within-read Skew: Position 14 from the start of reads is skewed!\r\n",
        "Within-read Skew: Position 16 from the start of reads is skewed!\r\n",
        "Within-read Skew: Position 17 from the start of reads is skewed!\r\n",
        "Within-read Skew: Position 4 from the end of reads is skewed!\r\n",
        "Within-read Skew: Position 6 from the end of reads is skewed!\r\n",
        "Within-read Skew: Position 7 from the end of reads is skewed!\r\n",
        "Within-read Skew: Position 8 from the end of reads is skewed!\r\n",
        "Within-read Skew: Position 11 from the end of reads is skewed!\r\n",
        "Within-read Skew: Position 13 from the end of reads is skewed!\r\n",
        "Within-read Skew: Position 14 from the end of reads is skewed!\r\n",
        "Within-read Skew: Position 15 from the end of reads is skewed!\r\n",
        "Within-read Skew: Position 16 from the end of reads is skewed!\r\n",
        "Within-read Skew: Position 6 from the end of reads is skewed!\r\n",
        "Within-read Skew: Position 7 from the end of reads is skewed!\r\n",
        "Within-read Skew: Position 8 from the end of reads is skewed!\r\n",
        "Within-read Skew: Position 9 from the end of reads is skewed!\r\n",
        "Within-read Skew: Position 10 from the end of reads is skewed!\r\n",
        "Within-read Skew: Position 11 from the end of reads is skewed!\r\n",
        "Within-read Skew: Position 12 from the end of reads is skewed!\r\n",
        "Within-read Skew: Position 13 from the end of reads is skewed!\r\n",
        "Within-read Skew: Position 14 from the end of reads is skewed!\r\n",
        "Within-read Skew: Position 15 from the end of reads is skewed!\r\n",
        "Within-read Skew: Position 16 from the end of reads is skewed!\r\n",
        "Within-read Skew: Position 17 from the end of reads is skewed!\r\n",
        "Warning: Too much skewing found (23), disabling skew clipping\r\n",
        "Threshold used: 751 out of 300000\r\n",
        "Adapter TruSeq Adapter, Index 1 (GATCGGAAGAGCACACGTCTGAACTCCAGTCACGTG): counted 29857 at the 'start' of '/Volumes/web/trilobite/Crassostrea_gigas_HTSdata/filtered_Y54_Mix_GTGGCC_L005_R1.fastq', clip set to 2\r\n"
       ]
      },
      {
       "output_type": "stream",
       "stream": "stdout",
       "text": [
        "Files: 2\r\n"
       ]
      },
      {
       "output_type": "stream",
       "stream": "stdout",
       "text": [
        "Total reads: 15646291\r\n",
        "Too short after clip: 2233969\r\n",
        "Clipped 'start' reads (/Volumes/web/trilobite/Crassostrea_gigas_HTSdata/filtered_Y54_Mix_GTGGCC_L005_R1.fastq): Count 949702, Mean: 2.32, Sd: 0.51\r\n",
        "Trimmed 276107 reads (/Volumes/web/trilobite/Crassostrea_gigas_HTSdata/filtered_Y54_Mix_GTGGCC_L005_R1.fastq) by an average of 7.78 bases on quality < 7\r\n",
        "Trimmed 540082 reads (/Volumes/web/trilobite/Crassostrea_gigas_HTSdata/filtered_Y54_Mix_GTGGCC_L005_R2.fastq) by an average of 22.66 bases on quality < 7\r\n"
       ]
      }
     ],
     "prompt_number": 49
    },
    {
     "cell_type": "code",
     "collapsed": false,
     "input": [
      "!/Volumes/Bay3/Software/FastQC/fastqc /Volumes/web/cnidarian/filtered_Y54_Mix_GTGGCC_L005_R1_tr.fastq -q -o /Volumes/web/cnidarian/"
     ],
     "language": "python",
     "metadata": {},
     "outputs": [],
     "prompt_number": 53
    },
    {
     "cell_type": "code",
     "collapsed": false,
     "input": [
      "!/Volumes/Bay3/Software/FastQC/fastqc /Volumes/web/cnidarian/filtered_Y54_Mix_GTGGCC_L005_R2_tr.fastq -q -o /Volumes/web/cnidarian/"
     ],
     "language": "python",
     "metadata": {},
     "outputs": []
    },
    {
     "cell_type": "heading",
     "level": 2,
     "metadata": {},
     "source": [
      "BSMAP"
     ]
    },
    {
     "cell_type": "code",
     "collapsed": false,
     "input": [
      "! /Volumes/Bay3/Software/BSMAP/bsmap-2.74/bsmap \\\n",
      "-a /Volumes/web/cnidarian/filtered_Y54_Mix_GTGGCC_L005_R1_tr.fastq \\\n",
      "-b /Volumes/web/cnidarian/filtered_Y54_Mix_GTGGCC_L005_R2_tr.fastq \\\n",
      "-d /Volumes/web/cnidarian/oyster.v9.fa \\\n",
      "-o /Volumes/web/cnidarian/BiLar_YE_mix_t.sam \\\n",
      "-p 4"
     ],
     "language": "python",
     "metadata": {},
     "outputs": [
      {
       "output_type": "stream",
       "stream": "stdout",
       "text": [
        "\r\n",
        "BSMAP v2.74\r\n",
        "Start at:  Tue Jun  3 15:33:16 2014\r\n",
        "\r\n",
        "Input reference file: /Volumes/web/cnidarian/oyster.v9.fa"
       ]
      },
      {
       "output_type": "stream",
       "stream": "stdout",
       "text": [
        " \t(format: FASTA)\r\n"
       ]
      },
      {
       "output_type": "stream",
       "stream": "stdout",
       "text": [
        "Load in 11969 db seqs, total size 558601156 bp. 30 secs passed\r\n",
        "total_kmers: 43046721\r\n"
       ]
      },
      {
       "output_type": "stream",
       "stream": "stdout",
       "text": [
        "Create seed table. 119 secs passed\r\n",
        "max number of mismatches: read_length * 8% \tmax gap size: 0\r\n",
        "kmer cut-off ratio: 5e-07\r\n",
        "max multi-hits: 100\tmax Ns: 5\tseed size: 16\tindex interval: 4\r\n",
        "quality cutoff: 0\tbase quality char: '!'\r\n",
        "min fragment size:28\tmax fragemt size:500\r\n",
        "start from read #1\tend at read #4294967295\r\n",
        "additional alignment: T in reads => C in reference\r\n",
        "mapping strand (read_1): ++,-+\r\n",
        "mapping strand (read_2): +-,--\r\n",
        "Pair-end alignment(4 threads)\r\n",
        "Input read file #1: /Volumes/web/cnidarian/filtered_Y54_Mix_GTGGCC_L005_R1_tr.fastq \t(format: FASTQ)\r\n",
        "Input read file #2: /Volumes/web/cnidarian/filtered_Y54_Mix_GTGGCC_L005_R2_tr.fastq"
       ]
      },
      {
       "output_type": "stream",
       "stream": "stdout",
       "text": [
        " \t(format: FASTQ)\r\n",
        "Output file: /Volumes/web/cnidarian/BiLar_YE_mix_t.sam\t (format: SAM)\r\n"
       ]
      }
     ]
    },
    {
     "cell_type": "code",
     "collapsed": false,
     "input": [],
     "language": "python",
     "metadata": {},
     "outputs": []
    }
   ],
   "metadata": {}
  }
 ]
}