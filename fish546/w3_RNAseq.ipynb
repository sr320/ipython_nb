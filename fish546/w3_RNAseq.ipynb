{
 "metadata": {
  "name": ""
 },
 "nbformat": 3,
 "nbformat_minor": 0,
 "worksheets": [
  {
   "cells": [
    {
     "cell_type": "heading",
     "level": 1,
     "metadata": {},
     "source": [
      "RNA-Seq"
     ]
    },
    {
     "cell_type": "markdown",
     "metadata": {},
     "source": [
      "Module 3- Comparing counts in libraries; Differential expression with goal of getting a nice plot. There are a few ways to go about this. Essentially you will be mapping reads to scaffold and counting (with a little statistics). I will outline a few ways to about this below."
     ]
    },
    {
     "cell_type": "markdown",
     "metadata": {},
     "source": [
      "**HotLink** A primary skillset for this module is making a plot of DEGs in R.\n",
      "A great tutorial can be carried out be simply downloading this zipped directory - <http://eagle.fish.washington.edu/whale/fish546/DESeq.zip>. \n",
      "Inside is a Lake Trout RNA-seq table, and commented out R script. All you have to do is run the commands."
     ]
    },
    {
     "cell_type": "markdown",
     "metadata": {},
     "source": [
      "###TOC   \n",
      "- [CLC](#CLC)\n",
      "- [DESeq](#DESeq)\n",
      "- [IPlant Tuxedo](#IPlant)"
     ]
    },
    {
     "cell_type": "heading",
     "level": 2,
     "metadata": {},
     "source": [
      "CLC"
     ]
    },
    {
     "cell_type": "markdown",
     "metadata": {},
     "source": [
      "CLC is probably the easiest way to get a table with count data.."
     ]
    },
    {
     "cell_type": "code",
     "collapsed": false,
     "input": [
      "#video how-to run RNA-seq on CLC\n",
      "from IPython.display import YouTubeVideo\n",
      "\n",
      "YouTubeVideo('8q60pm8LrIc')"
     ],
     "language": "python",
     "metadata": {},
     "outputs": [
      {
       "html": [
        "\n",
        "        <iframe\n",
        "            width=\"400\"\n",
        "            height=300\"\n",
        "            src=\"http://www.youtube.com/embed/8q60pm8LrIc\"\n",
        "            frameborder=\"0\"\n",
        "            allowfullscreen\n",
        "        ></iframe>\n",
        "        "
       ],
       "metadata": {},
       "output_type": "pyout",
       "prompt_number": 2,
       "text": [
        "<IPython.lib.display.YouTubeVideo at 0x1024954d0>"
       ]
      }
     ],
     "prompt_number": 2
    },
    {
     "cell_type": "markdown",
     "metadata": {},
     "source": [
      "Once you have RNA-seq files you can take a join, but it makes more sense to \"Run an Experiment in CLC\""
     ]
    },
    {
     "cell_type": "markdown",
     "metadata": {},
     "source": [
      "<img src=\"http://eagle.fish.washington.edu/cnidarian/skitch/Set_Up_Experiment_and_CLC_Genomics_Workbench_4.0.3__Current_workspace__Default__18917CDB.png\" alt=\"Set_Up_Experiment_and_CLC_Genomics_Workbench_4.0.3__Current_workspace__Default__18917CDB.png\"/>"
     ]
    },
    {
     "cell_type": "markdown",
     "metadata": {},
     "source": [
      "---"
     ]
    },
    {
     "cell_type": "markdown",
     "metadata": {},
     "source": [
      "<img src=\"http://eagle.fish.washington.edu/cnidarian/skitch/CLC_Genomics_Workbench_4.0.3__Current_workspace__Default__18917D70.png\" alt=\"CLC_Genomics_Workbench_4.0.3__Current_workspace__Default__18917D70.png\"/>"
     ]
    },
    {
     "cell_type": "markdown",
     "metadata": {},
     "source": [
      "<img src=\"http://eagle.fish.washington.edu/cnidarian/skitch/greenbird_189AB0DA.png\" alt=\"greenbird_189AB0DA_png\"/>"
     ]
    },
    {
     "cell_type": "code",
     "collapsed": false,
     "input": [
      "#exported from version 6 - tab delimne\n",
      "!head -2 /Volumes/web/cnidarian/fish546_0lyMF"
     ],
     "language": "python",
     "metadata": {},
     "outputs": [
      {
       "output_type": "stream",
       "stream": "stdout",
       "text": [
        "\"Feature ID\"\t\"Experiment - Range (original values)\"\t\"Experiment - IQR (original values)\"\t\"Experiment - Difference (original values)\"\t\"Experiment - Fold Change (original values)\"\t\"Male - filtered_106A_Male_Mix_TAGCTT_L004_R1 (paired) RNA-Seq - Expression values\"\t\"Male - filtered_106A_Male_Mix_TAGCTT_L004_R1 (paired) RNA-Seq - Gene length\"\t\"Male - filtered_106A_Male_Mix_TAGCTT_L004_R1 (paired) RNA-Seq - Unique gene reads\"\t\"Male - filtered_106A_Male_Mix_TAGCTT_L004_R1 (paired) RNA-Seq - Total gene reads\"\t\"Male - filtered_106A_Male_Mix_TAGCTT_L004_R1 (paired) RNA-Seq - RPKM\"\t\"Male - Means\"\t\"Female - filtered_106A_Female_Mix_GATCAG_L004_R1 (paired) RNA-Seq - Expression values\"\t\"Female - filtered_106A_Female_Mix_GATCAG_L004_R1 (paired) RNA-Seq - Gene length\"\t\"Female - filtered_106A_Female_Mix_GATCAG_L004_R1 (paired) RNA-Seq - Unique gene reads\"\t\"Female - filtered_106A_Female_Mix_GATCAG_L004_R1 (paired) RNA-Seq - Total gene reads\"\t\"Female - filtered_106A_Female_Mix_GATCAG_L004_R1 (paired) RNA-Seq - RPKM\"\t\"Female - Means\"\r\n",
        "comp10002_c0_seq1\t5\t5\t-5\t-2.667\t8\t569\t8\t8\t0.513\t8\t3\t569\t3\t3\t0.294\t3\r\n"
       ]
      }
     ],
     "prompt_number": 7
    },
    {
     "cell_type": "code",
     "collapsed": false,
     "input": [
      "!awk -F '\\t' '{print $1,$9,$15}' </Volumes/web/cnidarian/fish546_0lyMF> /Volumes/web/cnidarian/fish546_0lyMF2"
     ],
     "language": "python",
     "metadata": {},
     "outputs": []
    },
    {
     "cell_type": "code",
     "collapsed": false,
     "input": [
      "!head /Volumes/web/cnidarian/fish546_0lyMF2"
     ],
     "language": "python",
     "metadata": {},
     "outputs": [
      {
       "output_type": "stream",
       "stream": "stdout",
       "text": [
        "\"Feature ID\" \"Male - filtered_106A_Male_Mix_TAGCTT_L004_R1 (paired) RNA-Seq - Total gene reads\" \"Female - filtered_106A_Female_Mix_GATCAG_L004_R1 (paired) RNA-Seq - Total gene reads\"\r\n",
        "comp10002_c0_seq1 8 3\r\n",
        "comp10005_c0_seq1 6 4\r\n",
        "comp10007_c0_seq1 21431 4484\r\n",
        "comp10008_c0_seq1 8360 4759\r\n",
        "comp10009_c0_seq1 16064 8768\r\n",
        "comp1000_c0_seq1 52 5\r\n",
        "comp10010_c0_seq1 15 8\r\n",
        "comp10012_c0_seq1 4 1\r\n",
        "comp10013_c0_seq1 5 3\r\n"
       ]
      }
     ],
     "prompt_number": 15
    },
    {
     "cell_type": "code",
     "collapsed": false,
     "input": [
      "!sed 's/\"Feature ID\" \"Male - filtered_106A_Male_Mix_TAGCTT_L004_R1 (paired) RNA-Seq - Total gene reads\" \"Female - filtered_106A_Female_Mix_GATCAG_L004_R1 (paired) RNA-Seq - Total gene reads\"/Feature M F/g' </Volumes/web/cnidarian/fish546_0lyMF2> /Volumes/web/cnidarian/fish546_0lyMF3\n",
      "#sed 's/abc/XYZ/g' <infile> outfile"
     ],
     "language": "python",
     "metadata": {},
     "outputs": [],
     "prompt_number": 16
    },
    {
     "cell_type": "code",
     "collapsed": false,
     "input": [
      "!head /Volumes/web/cnidarian/fish546_0lyMF3"
     ],
     "language": "python",
     "metadata": {},
     "outputs": [
      {
       "output_type": "stream",
       "stream": "stdout",
       "text": [
        "Feature M F\r\n",
        "comp10002_c0_seq1 8 3\r\n",
        "comp10005_c0_seq1 6 4\r\n",
        "comp10007_c0_seq1 21431 4484\r\n",
        "comp10008_c0_seq1 8360 4759\r\n",
        "comp10009_c0_seq1 16064 8768\r\n",
        "comp1000_c0_seq1 52 5\r\n",
        "comp10010_c0_seq1 15 8\r\n",
        "comp10012_c0_seq1 4 1\r\n",
        "comp10013_c0_seq1 5 3\r\n"
       ]
      }
     ],
     "prompt_number": 17
    },
    {
     "cell_type": "heading",
     "level": 4,
     "metadata": {},
     "source": [
      "Just xy plot?"
     ]
    },
    {
     "cell_type": "code",
     "collapsed": false,
     "input": [
      "from pandas import *\n",
      "\n",
      "frank = read_table(\"/Volumes/web/cnidarian/fish546_0lyMF3\", # name of the data file\n",
      "            sep=\" \", # what character separates each column?\n",
      "            na_values=[\"\", \" \"]) # what values should be considered \"blank\" values?"
     ],
     "language": "python",
     "metadata": {},
     "outputs": [],
     "prompt_number": 20
    },
    {
     "cell_type": "code",
     "collapsed": false,
     "input": [
      "frank.tail()"
     ],
     "language": "python",
     "metadata": {},
     "outputs": [
      {
       "html": [
        "<div style=\"max-height:1000px;max-width:1500px;overflow:auto;\">\n",
        "<table border=\"1\" class=\"dataframe\">\n",
        "  <thead>\n",
        "    <tr style=\"text-align: right;\">\n",
        "      <th></th>\n",
        "      <th>Feature</th>\n",
        "      <th>M</th>\n",
        "      <th>F</th>\n",
        "    </tr>\n",
        "  </thead>\n",
        "  <tbody>\n",
        "    <tr>\n",
        "      <th>110062</th>\n",
        "      <td> comp9993_c0_seq2</td>\n",
        "      <td>    42</td>\n",
        "      <td>   32</td>\n",
        "    </tr>\n",
        "    <tr>\n",
        "      <th>110063</th>\n",
        "      <td> comp9994_c0_seq1</td>\n",
        "      <td>     6</td>\n",
        "      <td>    2</td>\n",
        "    </tr>\n",
        "    <tr>\n",
        "      <th>110064</th>\n",
        "      <td> comp9996_c0_seq1</td>\n",
        "      <td>     3</td>\n",
        "      <td>    1</td>\n",
        "    </tr>\n",
        "    <tr>\n",
        "      <th>110065</th>\n",
        "      <td> comp9998_c0_seq1</td>\n",
        "      <td> 10965</td>\n",
        "      <td> 6158</td>\n",
        "    </tr>\n",
        "    <tr>\n",
        "      <th>110066</th>\n",
        "      <td>   comp99_c0_seq1</td>\n",
        "      <td>     1</td>\n",
        "      <td>    1</td>\n",
        "    </tr>\n",
        "  </tbody>\n",
        "</table>\n",
        "</div>"
       ],
       "metadata": {},
       "output_type": "pyout",
       "prompt_number": 21,
       "text": [
        "                 Feature      M     F\n",
        "110062  comp9993_c0_seq2     42    32\n",
        "110063  comp9994_c0_seq1      6     2\n",
        "110064  comp9996_c0_seq1      3     1\n",
        "110065  comp9998_c0_seq1  10965  6158\n",
        "110066    comp99_c0_seq1      1     1"
       ]
      }
     ],
     "prompt_number": 21
    },
    {
     "cell_type": "code",
     "collapsed": false,
     "input": [
      "%pylab inline"
     ],
     "language": "python",
     "metadata": {},
     "outputs": [
      {
       "output_type": "stream",
       "stream": "stdout",
       "text": [
        "Populating the interactive namespace from numpy and matplotlib\n"
       ]
      },
      {
       "output_type": "stream",
       "stream": "stderr",
       "text": [
        "WARNING: pylab import has clobbered these variables: ['load', 'info', 'datetime', 'save', 'set_printoptions', 'unique']\n",
        "`%pylab --no-import-all` prevents importing * from pylab and numpy\n"
       ]
      }
     ],
     "prompt_number": 23
    },
    {
     "cell_type": "code",
     "collapsed": false,
     "input": [
      "\n",
      "import matplotlib.pyplot as plt\n",
      "import numpy as np\n",
      "\n",
      "M = frank.M\n",
      "F = frank.F\n",
      "\n",
      "#plot the data\n",
      "plt.plot(M, F, 'bo')\n",
      "plt.show()"
     ],
     "language": "python",
     "metadata": {},
     "outputs": [
      {
       "metadata": {},
       "output_type": "display_data",
       "png": "[encoded data removed]",
       "text": [
        "<matplotlib.figure.Figure at 0x1088a8490>"
       ]
      }
     ],
     "prompt_number": 24
    },
    {
     "cell_type": "code",
     "collapsed": false,
     "input": [],
     "language": "python",
     "metadata": {},
     "outputs": []
    },
    {
     "cell_type": "code",
     "collapsed": false,
     "input": [
      "plt.plot(F, M, 'gs')\n"
     ],
     "language": "python",
     "metadata": {},
     "outputs": [
      {
       "metadata": {},
       "output_type": "pyout",
       "prompt_number": 25,
       "text": [
        "[<matplotlib.lines.Line2D at 0x1088db190>]"
       ]
      },
      {
       "metadata": {},
       "output_type": "display_data",
       "png": "[encoded data removed]",
       "text": [
        "<matplotlib.figure.Figure at 0x108375650>"
       ]
      }
     ],
     "prompt_number": 25
    },
    {
     "cell_type": "code",
     "collapsed": false,
     "input": [
      "plt.scatter(M, F)\n",
      "xlim(0, 2000); ylim(0, 2000)"
     ],
     "language": "python",
     "metadata": {},
     "outputs": [
      {
       "metadata": {},
       "output_type": "pyout",
       "prompt_number": 26,
       "text": [
        "(0, 2000)"
       ]
      },
      {
       "metadata": {},
       "output_type": "display_data",
       "png": "[encoded data removed]",
       "text": [
        "<matplotlib.figure.Figure at 0x1088cca90>"
       ]
      }
     ],
     "prompt_number": 26
    },
    {
     "cell_type": "code",
     "collapsed": false,
     "input": [
      "fig = plt.loglog(M, F, 'gs')\n",
      "plt.xlabel('Male Expression', fontsize=20)\n",
      "plt.ylabel('Female Expression', fontsize=20)\n",
      "\n",
      "plt.axis([0, 1000000, 0, 1000000])\n"
     ],
     "language": "python",
     "metadata": {},
     "outputs": [
      {
       "metadata": {},
       "output_type": "pyout",
       "prompt_number": 30,
       "text": [
        "[0, 1000000, 0, 1000000]"
       ]
      },
      {
       "metadata": {},
       "output_type": "display_data",
       "png": "[encoded data removed]",
       "text": [
        "<matplotlib.figure.Figure at 0x1085db1d0>"
       ]
      }
     ],
     "prompt_number": 30
    },
    {
     "cell_type": "heading",
     "level": 1,
     "metadata": {},
     "source": [
      "DESeq"
     ]
    },
    {
     "cell_type": "code",
     "collapsed": false,
     "input": [
      "%reload_ext rmagic  "
     ],
     "language": "python",
     "metadata": {},
     "outputs": [],
     "prompt_number": 30
    },
    {
     "cell_type": "code",
     "collapsed": false,
     "input": [
      "%R library( \"DESeq\" )\n"
     ],
     "language": "python",
     "metadata": {},
     "outputs": [
      {
       "metadata": {},
       "output_type": "display_data",
       "text": [
        "Loading required package: Biobase\n",
        "Loading required package: BiocGenerics\n",
        "\n",
        "Attaching package: \u2018BiocGenerics\u2019\n",
        "\n",
        "The following object(s) are masked from \u2018package:stats\u2019:\n",
        "\n",
        "    xtabs\n",
        "\n",
        "The following object(s) are masked from \u2018package:base\u2019:\n",
        "\n",
        "    anyDuplicated, cbind, colnames, duplicated, eval, Filter, Find,\n",
        "    get, intersect, lapply, Map, mapply, mget, order, paste, pmax,\n",
        "    pmax.int, pmin, pmin.int, Position, rbind, Reduce, rep.int,\n",
        "    rownames, sapply, setdiff, table, tapply, union, unique\n",
        "\n",
        "Welcome to Bioconductor\n",
        "\n",
        "    Vignettes contain introductory material; view with\n",
        "    'browseVignettes()'. To cite Bioconductor, see\n",
        "    'citation(\"Biobase\")', and for packages 'citation(\"pkgname\")'.\n",
        "\n",
        "Loading required package: locfit\n",
        "locfit 1.5-8 \t 2012-04-25\n"
       ]
      }
     ],
     "prompt_number": 32
    },
    {
     "cell_type": "code",
     "collapsed": false,
     "input": [
      "%R CountData<- read.table(\"/Volumes/web/cnidarian/fish546_0lyMF3\",row.names=1, header=TRUE,)\n"
     ],
     "language": "python",
     "metadata": {},
     "outputs": [
      {
       "metadata": {},
       "output_type": "pyout",
       "prompt_number": 33,
       "text": [
        "array([[    8,     6, 21431, ...,     3, 10965,     1],\n",
        "       [    3,     4,  4484, ...,     1,  6158,     1]], dtype=int32)"
       ]
      }
     ],
     "prompt_number": 33
    },
    {
     "cell_type": "code",
     "collapsed": false,
     "input": [
      "%R summary(CountData)"
     ],
     "language": "python",
     "metadata": {},
     "outputs": [
      {
       "metadata": {},
       "output_type": "pyout",
       "prompt_number": 34,
       "text": [
        "array(['Min.   :      0.0  ', '1st Qu.:      3.0  ', 'Median :     13.0  ',\n",
        "       'Mean   :    249.1  ', '3rd Qu.:     76.0  ', 'Max.   :1863281.0  ',\n",
        "       'Min.   :      0.0  ', '1st Qu.:      2.0  ', 'Median :      9.0  ',\n",
        "       'Mean   :    162.7  ', '3rd Qu.:     51.0  ', 'Max.   :1602661.0  '], \n",
        "      dtype='|S19')"
       ]
      }
     ],
     "prompt_number": 34
    },
    {
     "cell_type": "code",
     "collapsed": false,
     "input": [
      "# check that it is correct \n",
      "%R head (CountData)"
     ],
     "language": "python",
     "metadata": {},
     "outputs": [
      {
       "metadata": {},
       "output_type": "pyout",
       "prompt_number": 35,
       "text": [
        "array([[    8,     6, 21431,  8360, 16064,    52],\n",
        "       [    3,     4,  4484,  4759,  8768,     5]], dtype=int32)"
       ]
      }
     ],
     "prompt_number": 35
    },
    {
     "cell_type": "code",
     "collapsed": false,
     "input": [
      "# assign factors\n",
      "%R Treatment <- factor( c(\"Male\",\"Female\") )"
     ],
     "language": "python",
     "metadata": {},
     "outputs": [
      {
       "metadata": {},
       "output_type": "pyout",
       "prompt_number": 36,
       "text": [
        "array([2, 1], dtype=int32)"
       ]
      }
     ],
     "prompt_number": 36
    },
    {
     "cell_type": "code",
     "collapsed": false,
     "input": [
      "# create a new data set\n",
      "%R cds <- newCountDataSet( CountData, Treatment )"
     ],
     "language": "python",
     "metadata": {},
     "outputs": [
      {
       "metadata": {},
       "output_type": "pyout",
       "prompt_number": 37,
       "text": [
        "array(<rpy2.rinterface.SexpS4 - Python:0x10e869600 / R:0x114d17958>, dtype=object)"
       ]
      }
     ],
     "prompt_number": 37
    },
    {
     "cell_type": "code",
     "collapsed": false,
     "input": [
      "# Estimate effective library size\n",
      "%R LibrarySize <- estimateSizeFactors( cds )\n",
      "%R sizeFactors( LibrarySize )\n"
     ],
     "language": "python",
     "metadata": {},
     "outputs": [
      {
       "metadata": {},
       "output_type": "pyout",
       "prompt_number": 38,
       "text": [
        "array([ 1.21854359,  0.82065181])"
       ]
      }
     ],
     "prompt_number": 38
    },
    {
     "cell_type": "code",
     "collapsed": false,
     "input": [
      "#estimate Dispersons without replication\n",
      "%R Dispersons <- estimateDispersions( LibrarySize, method=\"blind\", sharingMode=\"fit-only\" )\n"
     ],
     "language": "python",
     "metadata": {},
     "outputs": [
      {
       "metadata": {},
       "output_type": "pyout",
       "prompt_number": 39,
       "text": [
        "array(<rpy2.rinterface.SexpS4 - Python:0x10e8696d8 / R:0x115688ee0>, dtype=object)"
       ]
      }
     ],
     "prompt_number": 39
    },
    {
     "cell_type": "code",
     "collapsed": false,
     "input": [
      "# calculate differential gene expression \n",
      "%R DE <- nbinomTest( Dispersons, \"Male\", \"Female\" )"
     ],
     "language": "python",
     "metadata": {},
     "outputs": [
      {
       "metadata": {},
       "output_type": "pyout",
       "prompt_number": 40,
       "text": [
        "array([['comp10002_c0_seq1', 'comp10005_c0_seq1', 'comp10007_c0_seq1', ...,\n",
        "        'comp9996_c0_seq1', 'comp9998_c0_seq1', 'comp99_c0_seq1'],\n",
        "       ['5.11042261413', '4.89904260332', '11525.6691667', ...,\n",
        "        '1.84024950582', '8251.11924876', '1.01959769917'],\n",
        "       ['6.56521445319', '4.92391083989', '17587.3888683', ...,\n",
        "        '2.46195541994', '8998.4470599', '0.820651806648'],\n",
        "       ..., \n",
        "       ['-0.844721774522', '-0.0146467759644', '-1.68652526171', ...,\n",
        "        '-1.01464677596', '-0.262056314759', '0.570315724757'],\n",
        "       ['0.885218680234', '1.0', '0.147533184865', ..., '0.987554518138',\n",
        "        '0.820202806666', '1.0'],\n",
        "       ['1.0', '1.0', '1.0', ..., '1.0', '1.0', '1.0']], \n",
        "      dtype='|S19')"
       ]
      }
     ],
     "prompt_number": 40
    },
    {
     "cell_type": "code",
     "collapsed": false,
     "input": [
      "#check data\n",
      "\n",
      "%R head (DE)\n"
     ],
     "language": "python",
     "metadata": {},
     "outputs": [
      {
       "metadata": {},
       "output_type": "pyout",
       "prompt_number": 42,
       "text": [
        "array([['comp10002_c0_seq1', 'comp10005_c0_seq1', 'comp10007_c0_seq1',\n",
        "        'comp10008_c0_seq1', 'comp10009_c0_seq1', 'comp1000_c0_seq1'],\n",
        "       ['5.11042261413', '4.89904260332', '11525.6691667', '6329.84902822',\n",
        "        '11933.570417', '24.3833059521'],\n",
        "       ['6.56521445319', '4.92391083989', '17587.3888683', '6860.64910358',\n",
        "        '13182.950622', '42.6738939457'],\n",
        "       ['3.65563077507', '4.87417436676', '5463.94946514', '5799.04895285',\n",
        "        '10684.1902119', '6.09271795845'],\n",
        "       ['0.556818181818', '0.989898989899', '0.310674285197',\n",
        "        '0.845262432942', '0.810455149101', '0.142773892774'],\n",
        "       ['-0.844721774522', '-0.0146467759644', '-1.68652526171',\n",
        "        '-0.242528763051', '-0.303195746233', '-2.8081958985'],\n",
        "       ['0.885218680234', '1.0', '0.147533184865', '0.833689827989',\n",
        "        '0.792097629318', '0.159574074145'],\n",
        "       ['1.0', '1.0', '1.0', '1.0', '1.0', '1.0']], \n",
        "      dtype='|S17')"
       ]
      }
     ],
     "prompt_number": 42
    },
    {
     "cell_type": "code",
     "collapsed": false,
     "input": [
      "%R test.func <- function(x) {x^2}\n"
     ],
     "language": "python",
     "metadata": {},
     "outputs": [
      {
       "metadata": {},
       "output_type": "pyout",
       "prompt_number": 13,
       "text": [
        "array(<rpy2.rinterface.SexpClosure - Python:0x107469480 / R:0x10244f470>, dtype=object)"
       ]
      }
     ],
     "prompt_number": 13
    },
    {
     "cell_type": "code",
     "collapsed": false,
     "input": [
      "%R test.func(939399339)"
     ],
     "language": "python",
     "metadata": {},
     "outputs": [
      {
       "metadata": {},
       "output_type": "pyout",
       "prompt_number": 16,
       "text": [
        "array([  8.82471118e+17])"
       ]
      }
     ],
     "prompt_number": 16
    },
    {
     "cell_type": "code",
     "collapsed": false,
     "input": [
      "%R plot(1:10,1:10)"
     ],
     "language": "python",
     "metadata": {},
     "outputs": [
      {
       "metadata": {},
       "output_type": "display_data",
       "png": "[encoded data removed]"
      }
     ],
     "prompt_number": 17
    },
    {
     "cell_type": "code",
     "collapsed": false,
     "input": [
      "%%R plotDE <- function (DE)\n",
      "plot(\n",
      "DE$baseMean,DE$log2FoldChange,log=\"x\", pch=20, cex=.3\n",
      ")"
     ],
     "language": "python",
     "metadata": {},
     "outputs": [
      {
       "ename": "RRuntimeError",
       "evalue": "Error in png(\"/var/folders/28/07h2q2ms7nd609f1ft3mj1240000gn/T/tmpyjbUQB/Rplots%03d.png\",  : \n  too many open devices\n",
       "output_type": "pyerr",
       "traceback": [
        "\u001b[0;31m---------------------------------------------------------------------------\u001b[0m\n\u001b[0;31mRRuntimeError\u001b[0m                             Traceback (most recent call last)",
        "\u001b[0;32m<ipython-input-45-9f148f99388e>\u001b[0m in \u001b[0;36m<module>\u001b[0;34m()\u001b[0m\n\u001b[0;32m----> 1\u001b[0;31m \u001b[0mget_ipython\u001b[0m\u001b[0;34m(\u001b[0m\u001b[0;34m)\u001b[0m\u001b[0;34m.\u001b[0m\u001b[0mrun_cell_magic\u001b[0m\u001b[0;34m(\u001b[0m\u001b[0;34mu'R'\u001b[0m\u001b[0;34m,\u001b[0m \u001b[0;34mu'plotDE <- function (DE)'\u001b[0m\u001b[0;34m,\u001b[0m \u001b[0;34mu'plot(\\nDE$baseMean,DE$log2FoldChange,log=\"x\", pch=20, cex=.3\\n)'\u001b[0m\u001b[0;34m)\u001b[0m\u001b[0;34m\u001b[0m\u001b[0m\n\u001b[0m",
        "\u001b[0;32m/Users/sr320/anaconda/lib/python2.7/site-packages/IPython/core/interactiveshell.pyc\u001b[0m in \u001b[0;36mrun_cell_magic\u001b[0;34m(self, magic_name, line, cell)\u001b[0m\n\u001b[1;32m   2127\u001b[0m             \u001b[0mmagic_arg_s\u001b[0m \u001b[0;34m=\u001b[0m \u001b[0mself\u001b[0m\u001b[0;34m.\u001b[0m\u001b[0mvar_expand\u001b[0m\u001b[0;34m(\u001b[0m\u001b[0mline\u001b[0m\u001b[0;34m,\u001b[0m \u001b[0mstack_depth\u001b[0m\u001b[0;34m)\u001b[0m\u001b[0;34m\u001b[0m\u001b[0m\n\u001b[1;32m   2128\u001b[0m             \u001b[0;32mwith\u001b[0m \u001b[0mself\u001b[0m\u001b[0;34m.\u001b[0m\u001b[0mbuiltin_trap\u001b[0m\u001b[0;34m:\u001b[0m\u001b[0;34m\u001b[0m\u001b[0m\n\u001b[0;32m-> 2129\u001b[0;31m                 \u001b[0mresult\u001b[0m \u001b[0;34m=\u001b[0m \u001b[0mfn\u001b[0m\u001b[0;34m(\u001b[0m\u001b[0mmagic_arg_s\u001b[0m\u001b[0;34m,\u001b[0m \u001b[0mcell\u001b[0m\u001b[0;34m)\u001b[0m\u001b[0;34m\u001b[0m\u001b[0m\n\u001b[0m\u001b[1;32m   2130\u001b[0m             \u001b[0;32mreturn\u001b[0m \u001b[0mresult\u001b[0m\u001b[0;34m\u001b[0m\u001b[0m\n\u001b[1;32m   2131\u001b[0m \u001b[0;34m\u001b[0m\u001b[0m\n",
        "\u001b[0;32m/Users/sr320/anaconda/lib/python2.7/site-packages/IPython/extensions/rmagic.pyc\u001b[0m in \u001b[0;36mR\u001b[0;34m(self, line, cell, local_ns)\u001b[0m\n",
        "\u001b[0;32m/Users/sr320/anaconda/lib/python2.7/site-packages/IPython/core/magic.pyc\u001b[0m in \u001b[0;36m<lambda>\u001b[0;34m(f, *a, **k)\u001b[0m\n\u001b[1;32m    189\u001b[0m     \u001b[0;31m# but it's overkill for just that one bit of state.\u001b[0m\u001b[0;34m\u001b[0m\u001b[0;34m\u001b[0m\u001b[0m\n\u001b[1;32m    190\u001b[0m     \u001b[0;32mdef\u001b[0m \u001b[0mmagic_deco\u001b[0m\u001b[0;34m(\u001b[0m\u001b[0marg\u001b[0m\u001b[0;34m)\u001b[0m\u001b[0;34m:\u001b[0m\u001b[0;34m\u001b[0m\u001b[0m\n\u001b[0;32m--> 191\u001b[0;31m         \u001b[0mcall\u001b[0m \u001b[0;34m=\u001b[0m \u001b[0;32mlambda\u001b[0m \u001b[0mf\u001b[0m\u001b[0;34m,\u001b[0m \u001b[0;34m*\u001b[0m\u001b[0ma\u001b[0m\u001b[0;34m,\u001b[0m \u001b[0;34m**\u001b[0m\u001b[0mk\u001b[0m\u001b[0;34m:\u001b[0m \u001b[0mf\u001b[0m\u001b[0;34m(\u001b[0m\u001b[0;34m*\u001b[0m\u001b[0ma\u001b[0m\u001b[0;34m,\u001b[0m \u001b[0;34m**\u001b[0m\u001b[0mk\u001b[0m\u001b[0;34m)\u001b[0m\u001b[0;34m\u001b[0m\u001b[0m\n\u001b[0m\u001b[1;32m    192\u001b[0m \u001b[0;34m\u001b[0m\u001b[0m\n\u001b[1;32m    193\u001b[0m         \u001b[0;32mif\u001b[0m \u001b[0mcallable\u001b[0m\u001b[0;34m(\u001b[0m\u001b[0marg\u001b[0m\u001b[0;34m)\u001b[0m\u001b[0;34m:\u001b[0m\u001b[0;34m\u001b[0m\u001b[0m\n",
        "\u001b[0;32m/Users/sr320/anaconda/lib/python2.7/site-packages/IPython/extensions/rmagic.pyc\u001b[0m in \u001b[0;36mR\u001b[0;34m(self, line, cell, local_ns)\u001b[0m\n\u001b[1;32m    575\u001b[0m \u001b[0;34m\u001b[0m\u001b[0m\n\u001b[1;32m    576\u001b[0m         \u001b[0mtmpd\u001b[0m \u001b[0;34m=\u001b[0m \u001b[0mtempfile\u001b[0m\u001b[0;34m.\u001b[0m\u001b[0mmkdtemp\u001b[0m\u001b[0;34m(\u001b[0m\u001b[0;34m)\u001b[0m\u001b[0;34m\u001b[0m\u001b[0m\n\u001b[0;32m--> 577\u001b[0;31m         \u001b[0mself\u001b[0m\u001b[0;34m.\u001b[0m\u001b[0mr\u001b[0m\u001b[0;34m(\u001b[0m\u001b[0;34m'png(\"%s/Rplots%%03d.png\",%s)'\u001b[0m \u001b[0;34m%\u001b[0m \u001b[0;34m(\u001b[0m\u001b[0mtmpd\u001b[0m\u001b[0;34m.\u001b[0m\u001b[0mreplace\u001b[0m\u001b[0;34m(\u001b[0m\u001b[0;34m'\\\\'\u001b[0m\u001b[0;34m,\u001b[0m \u001b[0;34m'/'\u001b[0m\u001b[0;34m)\u001b[0m\u001b[0;34m,\u001b[0m \u001b[0mpng_args\u001b[0m\u001b[0;34m)\u001b[0m\u001b[0;34m)\u001b[0m\u001b[0;34m\u001b[0m\u001b[0m\n\u001b[0m\u001b[1;32m    578\u001b[0m \u001b[0;34m\u001b[0m\u001b[0m\n\u001b[1;32m    579\u001b[0m         \u001b[0mtext_output\u001b[0m \u001b[0;34m=\u001b[0m \u001b[0;34m''\u001b[0m\u001b[0;34m\u001b[0m\u001b[0m\n",
        "\u001b[0;32m/Users/sr320/anaconda/lib/python2.7/site-packages/rpy2-2.3.8-py2.7-macosx-10.5-x86_64.egg/rpy2/robjects/__init__.pyc\u001b[0m in \u001b[0;36m__call__\u001b[0;34m(self, string)\u001b[0m\n\u001b[1;32m    238\u001b[0m     \u001b[0;32mdef\u001b[0m \u001b[0m__call__\u001b[0m\u001b[0;34m(\u001b[0m\u001b[0mself\u001b[0m\u001b[0;34m,\u001b[0m \u001b[0mstring\u001b[0m\u001b[0;34m)\u001b[0m\u001b[0;34m:\u001b[0m\u001b[0;34m\u001b[0m\u001b[0m\n\u001b[1;32m    239\u001b[0m         \u001b[0mp\u001b[0m \u001b[0;34m=\u001b[0m \u001b[0mrinterface\u001b[0m\u001b[0;34m.\u001b[0m\u001b[0mparse\u001b[0m\u001b[0;34m(\u001b[0m\u001b[0mstring\u001b[0m\u001b[0;34m)\u001b[0m\u001b[0;34m\u001b[0m\u001b[0m\n\u001b[0;32m--> 240\u001b[0;31m         \u001b[0mres\u001b[0m \u001b[0;34m=\u001b[0m \u001b[0mself\u001b[0m\u001b[0;34m.\u001b[0m\u001b[0meval\u001b[0m\u001b[0;34m(\u001b[0m\u001b[0mp\u001b[0m\u001b[0;34m)\u001b[0m\u001b[0;34m\u001b[0m\u001b[0m\n\u001b[0m\u001b[1;32m    241\u001b[0m         \u001b[0;32mreturn\u001b[0m \u001b[0mres\u001b[0m\u001b[0;34m\u001b[0m\u001b[0m\n\u001b[1;32m    242\u001b[0m \u001b[0;34m\u001b[0m\u001b[0m\n",
        "\u001b[0;32m/Users/sr320/anaconda/lib/python2.7/site-packages/rpy2-2.3.8-py2.7-macosx-10.5-x86_64.egg/rpy2/robjects/functions.pyc\u001b[0m in \u001b[0;36m__call__\u001b[0;34m(self, *args, **kwargs)\u001b[0m\n\u001b[1;32m     84\u001b[0m                 \u001b[0mv\u001b[0m \u001b[0;34m=\u001b[0m \u001b[0mkwargs\u001b[0m\u001b[0;34m.\u001b[0m\u001b[0mpop\u001b[0m\u001b[0;34m(\u001b[0m\u001b[0mk\u001b[0m\u001b[0;34m)\u001b[0m\u001b[0;34m\u001b[0m\u001b[0m\n\u001b[1;32m     85\u001b[0m                 \u001b[0mkwargs\u001b[0m\u001b[0;34m[\u001b[0m\u001b[0mr_k\u001b[0m\u001b[0;34m]\u001b[0m \u001b[0;34m=\u001b[0m \u001b[0mv\u001b[0m\u001b[0;34m\u001b[0m\u001b[0m\n\u001b[0;32m---> 86\u001b[0;31m         \u001b[0;32mreturn\u001b[0m \u001b[0msuper\u001b[0m\u001b[0;34m(\u001b[0m\u001b[0mSignatureTranslatedFunction\u001b[0m\u001b[0;34m,\u001b[0m \u001b[0mself\u001b[0m\u001b[0;34m)\u001b[0m\u001b[0;34m.\u001b[0m\u001b[0m__call__\u001b[0m\u001b[0;34m(\u001b[0m\u001b[0;34m*\u001b[0m\u001b[0margs\u001b[0m\u001b[0;34m,\u001b[0m \u001b[0;34m**\u001b[0m\u001b[0mkwargs\u001b[0m\u001b[0;34m)\u001b[0m\u001b[0;34m\u001b[0m\u001b[0m\n\u001b[0m",
        "\u001b[0;32m/Users/sr320/anaconda/lib/python2.7/site-packages/rpy2-2.3.8-py2.7-macosx-10.5-x86_64.egg/rpy2/robjects/functions.pyc\u001b[0m in \u001b[0;36m__call__\u001b[0;34m(self, *args, **kwargs)\u001b[0m\n\u001b[1;32m     33\u001b[0m         \u001b[0;32mfor\u001b[0m \u001b[0mk\u001b[0m\u001b[0;34m,\u001b[0m \u001b[0mv\u001b[0m \u001b[0;32min\u001b[0m \u001b[0mkwargs\u001b[0m\u001b[0;34m.\u001b[0m\u001b[0miteritems\u001b[0m\u001b[0;34m(\u001b[0m\u001b[0;34m)\u001b[0m\u001b[0;34m:\u001b[0m\u001b[0;34m\u001b[0m\u001b[0m\n\u001b[1;32m     34\u001b[0m             \u001b[0mnew_kwargs\u001b[0m\u001b[0;34m[\u001b[0m\u001b[0mk\u001b[0m\u001b[0;34m]\u001b[0m \u001b[0;34m=\u001b[0m \u001b[0mconversion\u001b[0m\u001b[0;34m.\u001b[0m\u001b[0mpy2ri\u001b[0m\u001b[0;34m(\u001b[0m\u001b[0mv\u001b[0m\u001b[0;34m)\u001b[0m\u001b[0;34m\u001b[0m\u001b[0m\n\u001b[0;32m---> 35\u001b[0;31m         \u001b[0mres\u001b[0m \u001b[0;34m=\u001b[0m \u001b[0msuper\u001b[0m\u001b[0;34m(\u001b[0m\u001b[0mFunction\u001b[0m\u001b[0;34m,\u001b[0m \u001b[0mself\u001b[0m\u001b[0;34m)\u001b[0m\u001b[0;34m.\u001b[0m\u001b[0m__call__\u001b[0m\u001b[0;34m(\u001b[0m\u001b[0;34m*\u001b[0m\u001b[0mnew_args\u001b[0m\u001b[0;34m,\u001b[0m \u001b[0;34m**\u001b[0m\u001b[0mnew_kwargs\u001b[0m\u001b[0;34m)\u001b[0m\u001b[0;34m\u001b[0m\u001b[0m\n\u001b[0m\u001b[1;32m     36\u001b[0m         \u001b[0mres\u001b[0m \u001b[0;34m=\u001b[0m \u001b[0mconversion\u001b[0m\u001b[0;34m.\u001b[0m\u001b[0mri2py\u001b[0m\u001b[0;34m(\u001b[0m\u001b[0mres\u001b[0m\u001b[0;34m)\u001b[0m\u001b[0;34m\u001b[0m\u001b[0m\n\u001b[1;32m     37\u001b[0m         \u001b[0;32mreturn\u001b[0m \u001b[0mres\u001b[0m\u001b[0;34m\u001b[0m\u001b[0m\n",
        "\u001b[0;31mRRuntimeError\u001b[0m: Error in png(\"/var/folders/28/07h2q2ms7nd609f1ft3mj1240000gn/T/tmpyjbUQB/Rplots%03d.png\",  : \n  too many open devices\n"
       ]
      }
     ],
     "prompt_number": 45
    },
    {
     "cell_type": "code",
     "collapsed": false,
     "input": [
      "%R plotDE <- function(DE) {\n",
      "%R plot(DE$baseMean,DE$log2FoldChange,log=\"x\", pch=20, cex=.3)\n",
      "%R }\t\n"
     ],
     "language": "python",
     "metadata": {},
     "outputs": [
      {
       "ename": "RRuntimeError",
       "evalue": "Error in png(\"/var/folders/28/07h2q2ms7nd609f1ft3mj1240000gn/T/tmpo5lt_R/Rplots%03d.png\",  : \n  too many open devices\n",
       "output_type": "pyerr",
       "traceback": [
        "\u001b[0;31m---------------------------------------------------------------------------\u001b[0m\n\u001b[0;31mRRuntimeError\u001b[0m                             Traceback (most recent call last)",
        "\u001b[0;32m<ipython-input-33-7dfee8f87d37>\u001b[0m in \u001b[0;36m<module>\u001b[0;34m()\u001b[0m\n\u001b[0;32m----> 1\u001b[0;31m \u001b[0mget_ipython\u001b[0m\u001b[0;34m(\u001b[0m\u001b[0;34m)\u001b[0m\u001b[0;34m.\u001b[0m\u001b[0mmagic\u001b[0m\u001b[0;34m(\u001b[0m\u001b[0;34mu'R plotDE <- function(DE) {'\u001b[0m\u001b[0;34m)\u001b[0m\u001b[0;34m\u001b[0m\u001b[0m\n\u001b[0m\u001b[1;32m      2\u001b[0m \u001b[0mget_ipython\u001b[0m\u001b[0;34m(\u001b[0m\u001b[0;34m)\u001b[0m\u001b[0;34m.\u001b[0m\u001b[0mmagic\u001b[0m\u001b[0;34m(\u001b[0m\u001b[0;34mu'R plot(DE$baseMean,DE$log2FoldChange,log=\"x\", pch=20, cex=.3)'\u001b[0m\u001b[0;34m)\u001b[0m\u001b[0;34m\u001b[0m\u001b[0m\n\u001b[1;32m      3\u001b[0m \u001b[0mget_ipython\u001b[0m\u001b[0;34m(\u001b[0m\u001b[0;34m)\u001b[0m\u001b[0;34m.\u001b[0m\u001b[0mmagic\u001b[0m\u001b[0;34m(\u001b[0m\u001b[0;34mu'R }'\u001b[0m\u001b[0;34m)\u001b[0m\u001b[0;34m\u001b[0m\u001b[0m\n",
        "\u001b[0;32m/Users/sr320/anaconda/lib/python2.7/site-packages/IPython/core/interactiveshell.pyc\u001b[0m in \u001b[0;36mmagic\u001b[0;34m(self, arg_s)\u001b[0m\n\u001b[1;32m   2170\u001b[0m         \u001b[0mmagic_name\u001b[0m\u001b[0;34m,\u001b[0m \u001b[0m_\u001b[0m\u001b[0;34m,\u001b[0m \u001b[0mmagic_arg_s\u001b[0m \u001b[0;34m=\u001b[0m \u001b[0marg_s\u001b[0m\u001b[0;34m.\u001b[0m\u001b[0mpartition\u001b[0m\u001b[0;34m(\u001b[0m\u001b[0;34m' '\u001b[0m\u001b[0;34m)\u001b[0m\u001b[0;34m\u001b[0m\u001b[0m\n\u001b[1;32m   2171\u001b[0m         \u001b[0mmagic_name\u001b[0m \u001b[0;34m=\u001b[0m \u001b[0mmagic_name\u001b[0m\u001b[0;34m.\u001b[0m\u001b[0mlstrip\u001b[0m\u001b[0;34m(\u001b[0m\u001b[0mprefilter\u001b[0m\u001b[0;34m.\u001b[0m\u001b[0mESC_MAGIC\u001b[0m\u001b[0;34m)\u001b[0m\u001b[0;34m\u001b[0m\u001b[0m\n\u001b[0;32m-> 2172\u001b[0;31m         \u001b[0;32mreturn\u001b[0m \u001b[0mself\u001b[0m\u001b[0;34m.\u001b[0m\u001b[0mrun_line_magic\u001b[0m\u001b[0;34m(\u001b[0m\u001b[0mmagic_name\u001b[0m\u001b[0;34m,\u001b[0m \u001b[0mmagic_arg_s\u001b[0m\u001b[0;34m)\u001b[0m\u001b[0;34m\u001b[0m\u001b[0m\n\u001b[0m\u001b[1;32m   2173\u001b[0m \u001b[0;34m\u001b[0m\u001b[0m\n\u001b[1;32m   2174\u001b[0m     \u001b[0;31m#-------------------------------------------------------------------------\u001b[0m\u001b[0;34m\u001b[0m\u001b[0;34m\u001b[0m\u001b[0m\n",
        "\u001b[0;32m/Users/sr320/anaconda/lib/python2.7/site-packages/IPython/core/interactiveshell.pyc\u001b[0m in \u001b[0;36mrun_line_magic\u001b[0;34m(self, magic_name, line)\u001b[0m\n\u001b[1;32m   2091\u001b[0m                 \u001b[0mkwargs\u001b[0m\u001b[0;34m[\u001b[0m\u001b[0;34m'local_ns'\u001b[0m\u001b[0;34m]\u001b[0m \u001b[0;34m=\u001b[0m \u001b[0msys\u001b[0m\u001b[0;34m.\u001b[0m\u001b[0m_getframe\u001b[0m\u001b[0;34m(\u001b[0m\u001b[0mstack_depth\u001b[0m\u001b[0;34m)\u001b[0m\u001b[0;34m.\u001b[0m\u001b[0mf_locals\u001b[0m\u001b[0;34m\u001b[0m\u001b[0m\n\u001b[1;32m   2092\u001b[0m             \u001b[0;32mwith\u001b[0m \u001b[0mself\u001b[0m\u001b[0;34m.\u001b[0m\u001b[0mbuiltin_trap\u001b[0m\u001b[0;34m:\u001b[0m\u001b[0;34m\u001b[0m\u001b[0m\n\u001b[0;32m-> 2093\u001b[0;31m                 \u001b[0mresult\u001b[0m \u001b[0;34m=\u001b[0m \u001b[0mfn\u001b[0m\u001b[0;34m(\u001b[0m\u001b[0;34m*\u001b[0m\u001b[0margs\u001b[0m\u001b[0;34m,\u001b[0m\u001b[0;34m**\u001b[0m\u001b[0mkwargs\u001b[0m\u001b[0;34m)\u001b[0m\u001b[0;34m\u001b[0m\u001b[0m\n\u001b[0m\u001b[1;32m   2094\u001b[0m             \u001b[0;32mreturn\u001b[0m \u001b[0mresult\u001b[0m\u001b[0;34m\u001b[0m\u001b[0m\n\u001b[1;32m   2095\u001b[0m \u001b[0;34m\u001b[0m\u001b[0m\n",
        "\u001b[0;32m/Users/sr320/anaconda/lib/python2.7/site-packages/IPython/extensions/rmagic.pyc\u001b[0m in \u001b[0;36mR\u001b[0;34m(self, line, cell, local_ns)\u001b[0m\n",
        "\u001b[0;32m/Users/sr320/anaconda/lib/python2.7/site-packages/IPython/core/magic.pyc\u001b[0m in \u001b[0;36m<lambda>\u001b[0;34m(f, *a, **k)\u001b[0m\n\u001b[1;32m    189\u001b[0m     \u001b[0;31m# but it's overkill for just that one bit of state.\u001b[0m\u001b[0;34m\u001b[0m\u001b[0;34m\u001b[0m\u001b[0m\n\u001b[1;32m    190\u001b[0m     \u001b[0;32mdef\u001b[0m \u001b[0mmagic_deco\u001b[0m\u001b[0;34m(\u001b[0m\u001b[0marg\u001b[0m\u001b[0;34m)\u001b[0m\u001b[0;34m:\u001b[0m\u001b[0;34m\u001b[0m\u001b[0m\n\u001b[0;32m--> 191\u001b[0;31m         \u001b[0mcall\u001b[0m \u001b[0;34m=\u001b[0m \u001b[0;32mlambda\u001b[0m \u001b[0mf\u001b[0m\u001b[0;34m,\u001b[0m \u001b[0;34m*\u001b[0m\u001b[0ma\u001b[0m\u001b[0;34m,\u001b[0m \u001b[0;34m**\u001b[0m\u001b[0mk\u001b[0m\u001b[0;34m:\u001b[0m \u001b[0mf\u001b[0m\u001b[0;34m(\u001b[0m\u001b[0;34m*\u001b[0m\u001b[0ma\u001b[0m\u001b[0;34m,\u001b[0m \u001b[0;34m**\u001b[0m\u001b[0mk\u001b[0m\u001b[0;34m)\u001b[0m\u001b[0;34m\u001b[0m\u001b[0m\n\u001b[0m\u001b[1;32m    192\u001b[0m \u001b[0;34m\u001b[0m\u001b[0m\n\u001b[1;32m    193\u001b[0m         \u001b[0;32mif\u001b[0m \u001b[0mcallable\u001b[0m\u001b[0;34m(\u001b[0m\u001b[0marg\u001b[0m\u001b[0;34m)\u001b[0m\u001b[0;34m:\u001b[0m\u001b[0;34m\u001b[0m\u001b[0m\n",
        "\u001b[0;32m/Users/sr320/anaconda/lib/python2.7/site-packages/IPython/extensions/rmagic.pyc\u001b[0m in \u001b[0;36mR\u001b[0;34m(self, line, cell, local_ns)\u001b[0m\n\u001b[1;32m    575\u001b[0m \u001b[0;34m\u001b[0m\u001b[0m\n\u001b[1;32m    576\u001b[0m         \u001b[0mtmpd\u001b[0m \u001b[0;34m=\u001b[0m \u001b[0mtempfile\u001b[0m\u001b[0;34m.\u001b[0m\u001b[0mmkdtemp\u001b[0m\u001b[0;34m(\u001b[0m\u001b[0;34m)\u001b[0m\u001b[0;34m\u001b[0m\u001b[0m\n\u001b[0;32m--> 577\u001b[0;31m         \u001b[0mself\u001b[0m\u001b[0;34m.\u001b[0m\u001b[0mr\u001b[0m\u001b[0;34m(\u001b[0m\u001b[0;34m'png(\"%s/Rplots%%03d.png\",%s)'\u001b[0m \u001b[0;34m%\u001b[0m \u001b[0;34m(\u001b[0m\u001b[0mtmpd\u001b[0m\u001b[0;34m.\u001b[0m\u001b[0mreplace\u001b[0m\u001b[0;34m(\u001b[0m\u001b[0;34m'\\\\'\u001b[0m\u001b[0;34m,\u001b[0m \u001b[0;34m'/'\u001b[0m\u001b[0;34m)\u001b[0m\u001b[0;34m,\u001b[0m \u001b[0mpng_args\u001b[0m\u001b[0;34m)\u001b[0m\u001b[0;34m)\u001b[0m\u001b[0;34m\u001b[0m\u001b[0m\n\u001b[0m\u001b[1;32m    578\u001b[0m \u001b[0;34m\u001b[0m\u001b[0m\n\u001b[1;32m    579\u001b[0m         \u001b[0mtext_output\u001b[0m \u001b[0;34m=\u001b[0m \u001b[0;34m''\u001b[0m\u001b[0;34m\u001b[0m\u001b[0m\n",
        "\u001b[0;32m/Users/sr320/anaconda/lib/python2.7/site-packages/rpy2-2.3.8-py2.7-macosx-10.5-x86_64.egg/rpy2/robjects/__init__.pyc\u001b[0m in \u001b[0;36m__call__\u001b[0;34m(self, string)\u001b[0m\n\u001b[1;32m    238\u001b[0m     \u001b[0;32mdef\u001b[0m \u001b[0m__call__\u001b[0m\u001b[0;34m(\u001b[0m\u001b[0mself\u001b[0m\u001b[0;34m,\u001b[0m \u001b[0mstring\u001b[0m\u001b[0;34m)\u001b[0m\u001b[0;34m:\u001b[0m\u001b[0;34m\u001b[0m\u001b[0m\n\u001b[1;32m    239\u001b[0m         \u001b[0mp\u001b[0m \u001b[0;34m=\u001b[0m \u001b[0mrinterface\u001b[0m\u001b[0;34m.\u001b[0m\u001b[0mparse\u001b[0m\u001b[0;34m(\u001b[0m\u001b[0mstring\u001b[0m\u001b[0;34m)\u001b[0m\u001b[0;34m\u001b[0m\u001b[0m\n\u001b[0;32m--> 240\u001b[0;31m         \u001b[0mres\u001b[0m \u001b[0;34m=\u001b[0m \u001b[0mself\u001b[0m\u001b[0;34m.\u001b[0m\u001b[0meval\u001b[0m\u001b[0;34m(\u001b[0m\u001b[0mp\u001b[0m\u001b[0;34m)\u001b[0m\u001b[0;34m\u001b[0m\u001b[0m\n\u001b[0m\u001b[1;32m    241\u001b[0m         \u001b[0;32mreturn\u001b[0m \u001b[0mres\u001b[0m\u001b[0;34m\u001b[0m\u001b[0m\n\u001b[1;32m    242\u001b[0m \u001b[0;34m\u001b[0m\u001b[0m\n",
        "\u001b[0;32m/Users/sr320/anaconda/lib/python2.7/site-packages/rpy2-2.3.8-py2.7-macosx-10.5-x86_64.egg/rpy2/robjects/functions.pyc\u001b[0m in \u001b[0;36m__call__\u001b[0;34m(self, *args, **kwargs)\u001b[0m\n\u001b[1;32m     84\u001b[0m                 \u001b[0mv\u001b[0m \u001b[0;34m=\u001b[0m \u001b[0mkwargs\u001b[0m\u001b[0;34m.\u001b[0m\u001b[0mpop\u001b[0m\u001b[0;34m(\u001b[0m\u001b[0mk\u001b[0m\u001b[0;34m)\u001b[0m\u001b[0;34m\u001b[0m\u001b[0m\n\u001b[1;32m     85\u001b[0m                 \u001b[0mkwargs\u001b[0m\u001b[0;34m[\u001b[0m\u001b[0mr_k\u001b[0m\u001b[0;34m]\u001b[0m \u001b[0;34m=\u001b[0m \u001b[0mv\u001b[0m\u001b[0;34m\u001b[0m\u001b[0m\n\u001b[0;32m---> 86\u001b[0;31m         \u001b[0;32mreturn\u001b[0m \u001b[0msuper\u001b[0m\u001b[0;34m(\u001b[0m\u001b[0mSignatureTranslatedFunction\u001b[0m\u001b[0;34m,\u001b[0m \u001b[0mself\u001b[0m\u001b[0;34m)\u001b[0m\u001b[0;34m.\u001b[0m\u001b[0m__call__\u001b[0m\u001b[0;34m(\u001b[0m\u001b[0;34m*\u001b[0m\u001b[0margs\u001b[0m\u001b[0;34m,\u001b[0m \u001b[0;34m**\u001b[0m\u001b[0mkwargs\u001b[0m\u001b[0;34m)\u001b[0m\u001b[0;34m\u001b[0m\u001b[0m\n\u001b[0m",
        "\u001b[0;32m/Users/sr320/anaconda/lib/python2.7/site-packages/rpy2-2.3.8-py2.7-macosx-10.5-x86_64.egg/rpy2/robjects/functions.pyc\u001b[0m in \u001b[0;36m__call__\u001b[0;34m(self, *args, **kwargs)\u001b[0m\n\u001b[1;32m     33\u001b[0m         \u001b[0;32mfor\u001b[0m \u001b[0mk\u001b[0m\u001b[0;34m,\u001b[0m \u001b[0mv\u001b[0m \u001b[0;32min\u001b[0m \u001b[0mkwargs\u001b[0m\u001b[0;34m.\u001b[0m\u001b[0miteritems\u001b[0m\u001b[0;34m(\u001b[0m\u001b[0;34m)\u001b[0m\u001b[0;34m:\u001b[0m\u001b[0;34m\u001b[0m\u001b[0m\n\u001b[1;32m     34\u001b[0m             \u001b[0mnew_kwargs\u001b[0m\u001b[0;34m[\u001b[0m\u001b[0mk\u001b[0m\u001b[0;34m]\u001b[0m \u001b[0;34m=\u001b[0m \u001b[0mconversion\u001b[0m\u001b[0;34m.\u001b[0m\u001b[0mpy2ri\u001b[0m\u001b[0;34m(\u001b[0m\u001b[0mv\u001b[0m\u001b[0;34m)\u001b[0m\u001b[0;34m\u001b[0m\u001b[0m\n\u001b[0;32m---> 35\u001b[0;31m         \u001b[0mres\u001b[0m \u001b[0;34m=\u001b[0m \u001b[0msuper\u001b[0m\u001b[0;34m(\u001b[0m\u001b[0mFunction\u001b[0m\u001b[0;34m,\u001b[0m \u001b[0mself\u001b[0m\u001b[0;34m)\u001b[0m\u001b[0;34m.\u001b[0m\u001b[0m__call__\u001b[0m\u001b[0;34m(\u001b[0m\u001b[0;34m*\u001b[0m\u001b[0mnew_args\u001b[0m\u001b[0;34m,\u001b[0m \u001b[0;34m**\u001b[0m\u001b[0mnew_kwargs\u001b[0m\u001b[0;34m)\u001b[0m\u001b[0;34m\u001b[0m\u001b[0m\n\u001b[0m\u001b[1;32m     36\u001b[0m         \u001b[0mres\u001b[0m \u001b[0;34m=\u001b[0m \u001b[0mconversion\u001b[0m\u001b[0;34m.\u001b[0m\u001b[0mri2py\u001b[0m\u001b[0;34m(\u001b[0m\u001b[0mres\u001b[0m\u001b[0;34m)\u001b[0m\u001b[0;34m\u001b[0m\u001b[0m\n\u001b[1;32m     37\u001b[0m         \u001b[0;32mreturn\u001b[0m \u001b[0mres\u001b[0m\u001b[0;34m\u001b[0m\u001b[0m\n",
        "\u001b[0;31mRRuntimeError\u001b[0m: Error in png(\"/var/folders/28/07h2q2ms7nd609f1ft3mj1240000gn/T/tmpo5lt_R/Rplots%03d.png\",  : \n  too many open devices\n"
       ]
      }
     ],
     "prompt_number": 33
    },
    {
     "cell_type": "code",
     "collapsed": false,
     "input": [
      "#Write out\n",
      "%R write.table(DE, \"/Volumes/web/cnidarian/fish546_0lyMF_DElist\", row.names = FALSE, sep=\"\\t\")\n"
     ],
     "language": "python",
     "metadata": {},
     "outputs": [],
     "prompt_number": 45
    },
    {
     "cell_type": "code",
     "collapsed": false,
     "input": [],
     "language": "python",
     "metadata": {},
     "outputs": []
    },
    {
     "cell_type": "code",
     "collapsed": false,
     "input": [
      "from pandas import *\n",
      "\n",
      "pls2 = read_table(\"/Users/sr320/Desktop/DE.txt\", # name of the data file\n",
      "           sep=\" \", # what character separates each column?\n",
      "           na_values=[\"NA\",\"\", \" \"]) # what values should be considered \"blank\" values?"
     ],
     "language": "python",
     "metadata": {},
     "outputs": [],
     "prompt_number": 117
    },
    {
     "cell_type": "code",
     "collapsed": false,
     "input": [
      "pls2.tail()\n"
     ],
     "language": "python",
     "metadata": {},
     "outputs": [
      {
       "html": [
        "<pre>\n",
        "&ltclass 'pandas.core.frame.DataFrame'&gt\n",
        "Int64Index: 5 entries, 9360 to 9364\n",
        "Data columns (total 8 columns):\n",
        "id                5  non-null values\n",
        "baseMean          5  non-null values\n",
        "baseMeanA         5  non-null values\n",
        "baseMeanB         5  non-null values\n",
        "foldChange        5  non-null values\n",
        "log2FoldChange    5  non-null values\n",
        "pval              5  non-null values\n",
        "padj              5  non-null values\n",
        "dtypes: float64(5), object(3)\n",
        "</pre>"
       ],
       "metadata": {},
       "output_type": "pyout",
       "prompt_number": 119,
       "text": [
        "                   id   baseMean  baseMeanA  baseMeanB foldChange  \\\n",
        "9360  Snamaycush_9360  56.050275  36.514837  75.585713       2.07   \n",
        "9361  Snamaycush_9361  12.049896  10.954451  13.145341        1.2   \n",
        "9362  Snamaycush_9362  13.054054  11.867322  14.240786        1.2   \n",
        "9363  Snamaycush_9363   6.663958   4.564355   8.763561       1.92   \n",
        "9364  Snamaycush_9364   3.651484   1.825742   5.477226          3   \n",
        "\n",
        "         log2FoldChange      pval  padj  \n",
        "9360    1.0496307677246  0.095633     1  \n",
        "9361  0.263034405833794  0.904282     1  \n",
        "9362  0.263034405833794  0.894099     1  \n",
        "9363  0.941106310946432  0.661405     1  \n",
        "9364   1.58496250072116  0.627976     1  "
       ]
      }
     ],
     "prompt_number": 119
    },
    {
     "cell_type": "code",
     "collapsed": false,
     "input": [
      "#import matplotlib.pyplot as plt\n",
      "#import numpy as np\n",
      "#plot log2 fold changes against base means \n",
      "\n",
      "base = pls2.baseMean\n",
      "log = pls2.log2FoldChange\n",
      "\n",
      "#plot the data\n",
      "plt.plot(base, log, 'bo')\n",
      "plt.show()"
     ],
     "language": "python",
     "metadata": {},
     "outputs": [
      {
       "metadata": {},
       "output_type": "display_data",
       "png": "[encoded data removed]",
       "text": [
        "<matplotlib.figure.Figure at 0x10e31aa90>"
       ]
      }
     ],
     "prompt_number": 120
    },
    {
     "cell_type": "code",
     "collapsed": false,
     "input": [
      "fig = plt.semilogy(base, log, 'rs')\n",
      "plt.xlabel('my label', fontsize=20)\n",
      "plt.axis([0, 10000, 0.0001, 100])"
     ],
     "language": "python",
     "metadata": {},
     "outputs": [
      {
       "metadata": {},
       "output_type": "pyout",
       "prompt_number": 130,
       "text": [
        "[0, 10000, 0.0001, 100]"
       ]
      },
      {
       "metadata": {},
       "output_type": "display_data",
       "png": "[encoded data removed]",
       "text": [
        "<matplotlib.figure.Figure at 0x10e313e10>"
       ]
      }
     ],
     "prompt_number": 130
    },
    {
     "cell_type": "code",
     "collapsed": false,
     "input": [
      "fig = plt.loglog(base, log, 'rs')\n",
      "plt.xlabel('my label', fontsize=20)\n",
      "plt.axis([0, 10000, 0.0001, 100])"
     ],
     "language": "python",
     "metadata": {},
     "outputs": [
      {
       "metadata": {},
       "output_type": "pyout",
       "prompt_number": 131,
       "text": [
        "[0, 10000, 0.0001, 100]"
       ]
      },
      {
       "metadata": {},
       "output_type": "display_data",
       "png": "[encoded data removed]",
       "text": [
        "<matplotlib.figure.Figure at 0x116d7f290>"
       ]
      }
     ],
     "prompt_number": 131
    },
    {
     "cell_type": "code",
     "collapsed": false,
     "input": [
      "%R\tplot(\n",
      "%R\t\tDE$baseMean, \n",
      "%R\t\tDE$log2FoldChange,\n",
      "%R\t\tlog=\"x\", pch=20, cex=.3,\n",
      "%R\t\tcol = ifelse (DE$padj < .05, \"red\", \"black\"))\n",
      "\t\t\n",
      "%R plotDE(DE)\t\t"
     ],
     "language": "python",
     "metadata": {},
     "outputs": []
    },
    {
     "cell_type": "raw",
     "metadata": {},
     "source": [
      "# Getting the data and setting up the conditional factor vector\n",
      "deseq.sums.countData_l <- sums.count.data[,c(1:6, 13:18)]\n",
      "deseq.sums.conds_l <- factor(c(rep(\"NPL\", 6), rep(\"PL\", 6)))\n",
      "# Creating the DESeq data object\n",
      "deseq.sums.cds_l <- newCountDataSet(countData = deseq.sums.countData_l, conditions = deseq.sums.conds_l)\n",
      "# Normalizing\n",
      "deseq.sums.cds_l <- estimateSizeFactors(deseq.sums.cds_l)\n",
      "# Doing the variance calculation\n",
      "deseq.sums.cds_l <- estimateDispersions(deseq.sums.cds_l)\n",
      "# Running the test and getting the results\n",
      "deseq.sums.res_l <- nbinomTest(deseq.sums.cds_l, \"NPL\", \"PL\")"
     ]
    },
    {
     "cell_type": "heading",
     "level": 2,
     "metadata": {},
     "source": [
      "IPlant"
     ]
    },
    {
     "cell_type": "markdown",
     "metadata": {},
     "source": [
      "Running the Tuxedo Suite- Two Trocophore and Two Umbo stage larvae libraries were compared. Modelled after this tutorial <http://www.iplantcollaborative.org/learning-center/discovery-environment/differential-expression-rna-seq-tuxedo-method>"
     ]
    },
    {
     "cell_type": "code",
     "collapsed": false,
     "input": [
      "from IPython.display import IFrame\n",
      "IFrame('http://www.iplantcollaborative.org/learning-center/discovery-environment/differential-expression-rna-seq-tuxedo-method', width=700, height=350)"
     ],
     "language": "python",
     "metadata": {},
     "outputs": [
      {
       "html": [
        "\n",
        "        <iframe\n",
        "            width=\"700\"\n",
        "            height=350\"\n",
        "            src=\"http://www.iplantcollaborative.org/learning-center/discovery-environment/differential-expression-rna-seq-tuxedo-method\"\n",
        "            frameborder=\"0\"\n",
        "            allowfullscreen\n",
        "        ></iframe>\n",
        "        "
       ],
       "metadata": {},
       "output_type": "pyout",
       "prompt_number": 27,
       "text": [
        "<IPython.lib.display.IFrame at 0x1059d9450>"
       ]
      }
     ],
     "prompt_number": 27
    },
    {
     "cell_type": "code",
     "collapsed": false,
     "input": [
      "!ils"
     ],
     "language": "python",
     "metadata": {},
     "outputs": [
      {
       "output_type": "stream",
       "stream": "stdout",
       "text": [
        "/iplant/home/sr320:\r\n"
       ]
      },
      {
       "output_type": "stream",
       "stream": "stdout",
       "text": [
        "  filtered_400_NoIndex_L006_R1.fastq.gz\r\n",
        "  Galaxy10-[Cut_on_data_7].tabular\r\n",
        "  Gil_1.fq.gz\r\n",
        "  Gil_2.fq.gz\r\n",
        "  oyster.v9.fa\r\n",
        "  oyster.v9.glean.final.rename.CDS.gff\r\n",
        "  solid0078_20091105_BB3.fastq\r\n",
        "  solid0078_20091105_DH3.fastq\r\n",
        "  SPID_and_GO_number.tabular\r\n",
        "  Transcriptome_module1_blastxout_CE_modified.txt\r\n",
        "  Unknown_Transcriptome_31545_contigs.fa\r\n"
       ]
      },
      {
       "output_type": "stream",
       "stream": "stdout",
       "text": [
        "  C- /iplant/home/sr320/AltSplice\r\n",
        "  C- /iplant/home/sr320/analyses\r\n",
        "  C- /iplant/home/sr320/bamout\r\n",
        "  C- /iplant/home/sr320/BiGo_larvae\r\n",
        "  C- /iplant/home/sr320/bisque_data\r\n",
        "  C- /iplant/home/sr320/Black_Abalone\r\n",
        "  C- /iplant/home/sr320/cacheServiceTempDir\r\n",
        "  C- /iplant/home/sr320/ce\r\n",
        "  C- /iplant/home/sr320/Cgigas_v9\r\n",
        "  C- /iplant/home/sr320/coge_data\r\n",
        "  C- /iplant/home/sr320/fish546\r\n",
        "  C- /iplant/home/sr320/iplant_ws\r\n",
        "  C- /iplant/home/sr320/OlympiaOyster\r\n",
        "  C- /iplant/home/sr320/OlyO_PacBio\r\n",
        "  C- /iplant/home/sr320/OlyO_SNPhunt\r\n",
        "  C- /iplant/home/sr320/qdod\r\n",
        "  C- /iplant/home/sr320/RNAseq_co_BS\r\n"
       ]
      }
     ],
     "prompt_number": 1
    },
    {
     "cell_type": "code",
     "collapsed": false,
     "input": [
      "!icd Cgigas_v9"
     ],
     "language": "python",
     "metadata": {},
     "outputs": [],
     "prompt_number": 3
    },
    {
     "cell_type": "code",
     "collapsed": false,
     "input": [
      "!ipwd"
     ],
     "language": "python",
     "metadata": {},
     "outputs": [
      {
       "output_type": "stream",
       "stream": "stdout",
       "text": [
        "/iplant/home/sr320/Cgigas_v9\r\n"
       ]
      }
     ],
     "prompt_number": 4
    },
    {
     "cell_type": "code",
     "collapsed": false,
     "input": [
      "!ils"
     ],
     "language": "python",
     "metadata": {},
     "outputs": [
      {
       "output_type": "stream",
       "stream": "stdout",
       "text": [
        "/iplant/home/sr320/Cgigas_v9:\r\n"
       ]
      },
      {
       "output_type": "stream",
       "stream": "stdout",
       "text": [
        "  BiGillRNA_GACTAAGA_1.fastq\r\n",
        "  BiGillRNA_GACTAAGA_2.fastq\r\n",
        "  BiGoRNA_GTGTCTAC_1.fastq\r\n",
        "  BiGoRNA_GTGTCTAC_2.fastq\r\n",
        "  Crassostrea_gigas.GCA_000297895.1.21.dna_rm.toplevel.fa\r\n",
        "  Crassostrea_gigas.GCA_000297895.1.21.gff3\r\n",
        "  Crassostrea_gigas.GCA_000297895.1.21.gtf\r\n",
        "  oyster.v9.glean.final.rename.gff\r\n",
        "  T1.fq.gz\r\n",
        "  T2.fq.gz\r\n",
        "  U1.fq.gz\r\n",
        "  U2.fq.gz\r\n"
       ]
      },
      {
       "output_type": "stream",
       "stream": "stdout",
       "text": [
        "  C- /iplant/home/sr320/Cgigas_v9/Cuffdiff2_analysis1-2014-02-06-10-06-21.400\r\n",
        "  C- /iplant/home/sr320/Cgigas_v9/Cufflinks2_analysis1-2014-02-06-07-11-47.565\r\n",
        "  C- /iplant/home/sr320/Cgigas_v9/Cuffmerge2_analysis1-2014-02-06-09-54-32.913\r\n",
        "  C- /iplant/home/sr320/Cgigas_v9/logs\r\n",
        "  C- /iplant/home/sr320/Cgigas_v9/TopHat2-PE_BiGill_BiGo-2014-02-02-09-12-25.697\r\n",
        "  C- /iplant/home/sr320/Cgigas_v9/TopHat2-PE_BiGill_BiGo-2014-02-02-09-12-31.220\r\n",
        "  C- /iplant/home/sr320/Cgigas_v9/TopHat2-SE_analysis1-2014-02-05-16-28-28.598\r\n",
        "  C- /iplant/home/sr320/Cgigas_v9/Uncompress_files_with_gunzip_analysis1-2014-02-05-15-59-31.208\r\n"
       ]
      }
     ],
     "prompt_number": 5
    },
    {
     "cell_type": "code",
     "collapsed": false,
     "input": [
      "!iget -f -V -r TopHat2-SE_analysis1-2014-02-05-16-28-28.598 /Volumes/web/whale/fish546/iplant"
     ],
     "language": "python",
     "metadata": {},
     "outputs": [
      {
       "output_type": "stream",
       "stream": "stdout",
       "text": [
        "NOTICE: irodsHost=data.iplantcollaborative.org\r\n",
        "NOTICE: irodsPort=1247\r\n",
        "NOTICE: irodsUserName=sr320\r\n",
        "NOTICE: irodsZone=iplant\r\n",
        "NOTICE: created irodsHome=/iplant/home/sr320\r\n",
        "NOTICE: created irodsCwd=/iplant/home/sr320\r\n",
        "NOTICE: irodsCwd=/iplant/home/sr320/Cgigas_v9\r\n"
       ]
      },
      {
       "output_type": "stream",
       "stream": "stdout",
       "text": [
        "D- /Volumes/web/whale/fish546/iplant/TopHat2-SE_analysis1-2014-02-05-16-28-28.598 :\r\n"
       ]
      },
      {
       "output_type": "stream",
       "stream": "stdout",
       "text": [
        "D- /Volumes/web/whale/fish546/iplant/TopHat2-SE_analysis1-2014-02-05-16-28-28.598/bam :\r\n"
       ]
      },
      {
       "output_type": "stream",
       "stream": "stdout",
       "text": [
        "From server: NumThreads=16, addr:128.196.172.248, port:20095, cookie=1785312142\r\n"
       ]
      },
      {
       "output_type": "stream",
       "stream": "stdout",
       "text": [
        "   T1.bam                        524.354 MB | 40.243 sec | 16 thr | 13.030 MB/s\r\n"
       ]
      },
      {
       "output_type": "stream",
       "stream": "stdout",
       "text": [
        "   T1.bam.bai                      1.514 MB | 1.044 sec | 0 thr |  1.449 MB/s\r\n"
       ]
      },
      {
       "output_type": "stream",
       "stream": "stdout",
       "text": [
        "From server: NumThreads=16, addr:128.196.172.248, port:20195, cookie=493382347\r\n"
       ]
      },
      {
       "output_type": "stream",
       "stream": "stdout",
       "text": [
        "   T2.bam                        561.110 MB | 53.398 sec | 16 thr | 10.508 MB/s\r\n"
       ]
      },
      {
       "output_type": "stream",
       "stream": "stdout",
       "text": [
        "   T2.bam.bai                      1.474 MB | 1.217 sec | 0 thr |  1.211 MB/s\r\n"
       ]
      },
      {
       "output_type": "stream",
       "stream": "stdout",
       "text": [
        "From server: NumThreads=16, addr:128.196.172.248, port:20387, cookie=789239133\r\n"
       ]
      },
      {
       "output_type": "stream",
       "stream": "stdout",
       "text": [
        "   U1.bam                       1085.350 MB | 112.228 sec | 16 thr |  9.671 MB/s\r\n"
       ]
      },
      {
       "output_type": "stream",
       "stream": "stdout",
       "text": [
        "   U1.bam.bai                      1.612 MB | 1.238 sec | 0 thr |  1.303 MB/s\r\n"
       ]
      },
      {
       "output_type": "stream",
       "stream": "stdout",
       "text": [
        "From server: NumThreads=16, addr:128.196.172.248, port:20256, cookie=81450217\r\n"
       ]
      },
      {
       "output_type": "stream",
       "stream": "stdout",
       "text": [
        "   U2.bam                       1016.442 MB | 136.988 sec | 16 thr |  7.420 MB/s\r\n"
       ]
      },
      {
       "output_type": "stream",
       "stream": "stdout",
       "text": [
        "   U2.bam.bai                      1.616 MB | 1.398 sec | 0 thr |  1.156 MB/s\r\n"
       ]
      },
      {
       "output_type": "stream",
       "stream": "stdout",
       "text": [
        "D- /Volumes/web/whale/fish546/iplant/TopHat2-SE_analysis1-2014-02-05-16-28-28.598/logs :\r\n"
       ]
      },
      {
       "output_type": "stream",
       "stream": "stdout",
       "text": [
        "   condor-0-input-0-stderr         0.000 MB | 0.222 sec | 0 thr |  0.000 MB/s\r\n"
       ]
      },
      {
       "output_type": "stream",
       "stream": "stdout",
       "text": [
        "   condor-0-input-0-stdout         0.035 MB | 0.095 sec | 0 thr |  0.374 MB/s\r\n"
       ]
      },
      {
       "output_type": "stream",
       "stream": "stdout",
       "text": [
        "   condor-0-input-1-stderr         0.000 MB | 0.080 sec | 0 thr |  0.000 MB/s\r\n"
       ]
      },
      {
       "output_type": "stream",
       "stream": "stdout",
       "text": [
        "   condor-0-input-1-stdout         0.035 MB | 0.094 sec | 0 thr |  0.376 MB/s\r\n"
       ]
      },
      {
       "output_type": "stream",
       "stream": "stdout",
       "text": [
        "   condor-0-input-2-stderr         0.000 MB | 0.085 sec | 0 thr |  0.000 MB/s\r\n"
       ]
      },
      {
       "output_type": "stream",
       "stream": "stdout",
       "text": [
        "   condor-0-input-2-stdout         0.035 MB | 0.111 sec | 0 thr |  0.321 MB/s\r\n"
       ]
      },
      {
       "output_type": "stream",
       "stream": "stdout",
       "text": [
        "   condor-0-input-3-stderr         0.000 MB | 0.095 sec | 0 thr |  0.000 MB/s\r\n"
       ]
      },
      {
       "output_type": "stream",
       "stream": "stdout",
       "text": [
        "   condor-0-input-3-stdout         0.035 MB | 0.105 sec | 0 thr |  0.339 MB/s\r\n"
       ]
      },
      {
       "output_type": "stream",
       "stream": "stdout",
       "text": [
        "   condor-0-input-4-stderr         0.000 MB | 0.084 sec | 0 thr |  0.000 MB/s\r\n"
       ]
      },
      {
       "output_type": "stream",
       "stream": "stdout",
       "text": [
        "   condor-0-input-4-stdout         0.035 MB | 0.089 sec | 0 thr |  0.398 MB/s\r\n"
       ]
      },
      {
       "output_type": "stream",
       "stream": "stdout",
       "text": [
        "   condor-0-input-5-stderr         0.000 MB | 0.086 sec | 0 thr |  0.000 MB/s\r\n"
       ]
      },
      {
       "output_type": "stream",
       "stream": "stdout",
       "text": [
        "   condor-0-input-5-stdout         0.034 MB | 0.092 sec | 0 thr |  0.370 MB/s\r\n"
       ]
      },
      {
       "output_type": "stream",
       "stream": "stdout",
       "text": [
        "   condor-stderr-0                 0.026 MB | 0.088 sec | 0 thr |  0.302 MB/s\r\n"
       ]
      },
      {
       "output_type": "stream",
       "stream": "stdout",
       "text": [
        "   condor-stdout-0                 0.011 MB | 0.098 sec | 0 thr |  0.114 MB/s\r\n"
       ]
      },
      {
       "output_type": "stream",
       "stream": "stdout",
       "text": [
        "   iplant.cmd                      0.001 MB | 0.098 sec | 0 thr |  0.006 MB/s\r\n"
       ]
      },
      {
       "output_type": "stream",
       "stream": "stdout",
       "text": [
        "   iplant.sh                       0.005 MB | 0.087 sec | 0 thr |  0.060 MB/s\r\n"
       ]
      },
      {
       "output_type": "stream",
       "stream": "stdout",
       "text": [
        "   output-last-stderr              0.000 MB | 0.088 sec | 0 thr |  0.000 MB/s\r\n"
       ]
      },
      {
       "output_type": "stream",
       "stream": "stdout",
       "text": [
        "   output-last-stdout              6.236 MB | 2.514 sec | 0 thr |  2.481 MB/s\r\n"
       ]
      },
      {
       "output_type": "stream",
       "stream": "stdout",
       "text": [
        "   script-condor-log               0.003 MB | 0.098 sec | 0 thr |  0.032 MB/s\r\n"
       ]
      },
      {
       "output_type": "stream",
       "stream": "stdout",
       "text": [
        "   script-error.log                0.000 MB | 0.213 sec | 0 thr |  0.000 MB/s\r\n"
       ]
      },
      {
       "output_type": "stream",
       "stream": "stdout",
       "text": [
        "   script-output.log               0.000 MB | 0.222 sec | 0 thr |  0.000 MB/s\r\n"
       ]
      },
      {
       "output_type": "stream",
       "stream": "stdout",
       "text": [
        "D- /Volumes/web/whale/fish546/iplant/TopHat2-SE_analysis1-2014-02-05-16-28-28.598/T1_out :\r\n"
       ]
      },
      {
       "output_type": "stream",
       "stream": "stdout",
       "text": [
        "D- /Volumes/web/whale/fish546/iplant/TopHat2-SE_analysis1-2014-02-05-16-28-28.598/T1_out/logs :\r\n"
       ]
      },
      {
       "output_type": "stream",
       "stream": "stdout",
       "text": [
        "   bam_merge_um.log                0.000 MB | 0.095 sec | 0 thr |  0.002 MB/s\r\n"
       ]
      },
      {
       "output_type": "stream",
       "stream": "stdout",
       "text": [
        "   bowtie_build.log                0.011 MB | 0.087 sec | 0 thr |  0.124 MB/s\r\n"
       ]
      },
      {
       "output_type": "stream",
       "stream": "stdout",
       "text": [
        "   bowtie.left_kept_reads.lo       0.000 MB | 0.087 sec | 0 thr |  0.002 MB/s\r\n"
       ]
      },
      {
       "output_type": "stream",
       "stream": "stdout",
       "text": [
        "   bowtie.left_kept_reads.m2       0.000 MB | 0.084 sec | 0 thr |  0.002 MB/s\r\n"
       ]
      },
      {
       "output_type": "stream",
       "stream": "stdout",
       "text": [
        "   bowtie.left_kept_reads.m2       0.000 MB | 0.082 sec | 0 thr |  0.003 MB/s\r\n"
       ]
      },
      {
       "output_type": "stream",
       "stream": "stdout",
       "text": [
        "   bowtie.left_kept_reads.m2       0.000 MB | 0.084 sec | 0 thr |  0.002 MB/s\r\n"
       ]
      },
      {
       "output_type": "stream",
       "stream": "stdout",
       "text": [
        "   g2f.err                         0.000 MB | 0.079 sec | 0 thr |  0.002 MB/s\r\n"
       ]
      },
      {
       "output_type": "stream",
       "stream": "stdout",
       "text": [
        "   g2f.out                         0.000 MB | 0.081 sec | 0 thr |  0.001 MB/s\r\n"
       ]
      },
      {
       "output_type": "stream",
       "stream": "stdout",
       "text": [
        "   gtf_juncs.log                   0.000 MB | 0.077 sec | 0 thr |  0.004 MB/s\r\n"
       ]
      },
      {
       "output_type": "stream",
       "stream": "stdout",
       "text": [
        "   juncs_db.log                    0.190 MB | 0.303 sec | 0 thr |  0.627 MB/s\r\n"
       ]
      },
      {
       "output_type": "stream",
       "stream": "stdout",
       "text": [
        "   long_spanning_reads.segs.       0.106 MB | 0.149 sec | 0 thr |  0.712 MB/s\r\n"
       ]
      },
      {
       "output_type": "stream",
       "stream": "stdout",
       "text": [
        "   m2g_left_kept_reads.err         0.001 MB | 0.104 sec | 0 thr |  0.008 MB/s\r\n"
       ]
      },
      {
       "output_type": "stream",
       "stream": "stdout",
       "text": [
        "   m2g_left_kept_reads.out         0.000 MB | 0.083 sec | 0 thr |  0.002 MB/s\r\n"
       ]
      },
      {
       "output_type": "stream",
       "stream": "stdout",
       "text": [
        "   prep_reads.log                  0.000 MB | 0.084 sec | 0 thr |  0.003 MB/s\r\n"
       ]
      },
      {
       "output_type": "stream",
       "stream": "stdout",
       "text": [
        "   reports.log                     0.190 MB | 0.181 sec | 0 thr |  1.049 MB/s\r\n"
       ]
      },
      {
       "output_type": "stream",
       "stream": "stdout",
       "text": [
        "   reports.merge_bam.log           0.000 MB | 0.109 sec | 0 thr |  0.000 MB/s\r\n"
       ]
      },
      {
       "output_type": "stream",
       "stream": "stdout",
       "text": [
        "   reports.samtools_sort.log       0.000 MB | 0.083 sec | 0 thr |  0.000 MB/s\r\n"
       ]
      },
      {
       "output_type": "stream",
       "stream": "stdout",
       "text": [
        "   reports.samtools_sort.log       0.000 MB | 0.084 sec | 0 thr |  0.000 MB/s\r\n"
       ]
      },
      {
       "output_type": "stream",
       "stream": "stdout",
       "text": [
        "   reports.samtools_sort.log       0.000 MB | 0.083 sec | 0 thr |  0.000 MB/s\r\n"
       ]
      },
      {
       "output_type": "stream",
       "stream": "stdout",
       "text": [
        "   reports.samtools_sort.log       0.000 MB | 0.085 sec | 0 thr |  0.000 MB/s\r\n"
       ]
      },
      {
       "output_type": "stream",
       "stream": "stdout",
       "text": [
        "   reports.samtools_sort.log       0.000 MB | 0.096 sec | 0 thr |  0.000 MB/s\r\n"
       ]
      },
      {
       "output_type": "stream",
       "stream": "stdout",
       "text": [
        "   reports.samtools_sort.log       0.000 MB | 0.089 sec | 0 thr |  0.000 MB/s\r\n"
       ]
      },
      {
       "output_type": "stream",
       "stream": "stdout",
       "text": [
        "   run.log                         0.013 MB | 0.082 sec | 0 thr |  0.154 MB/s\r\n"
       ]
      },
      {
       "output_type": "stream",
       "stream": "stdout",
       "text": [
        "   segment_juncs.log               0.493 MB | 0.271 sec | 0 thr |  1.818 MB/s\r\n"
       ]
      },
      {
       "output_type": "stream",
       "stream": "stdout",
       "text": [
        "   tophat.log                      0.003 MB | 0.100 sec | 0 thr |  0.035 MB/s\r\n"
       ]
      },
      {
       "output_type": "stream",
       "stream": "stdout",
       "text": [
        "From server: NumThreads=16, addr:128.196.172.248, port:20291, cookie=688945789\r\n"
       ]
      },
      {
       "output_type": "stream",
       "stream": "stdout",
       "text": [
        "   accepted_hits.bam             524.354 MB | 41.036 sec | 16 thr | 12.778 MB/s\r\n"
       ]
      },
      {
       "output_type": "stream",
       "stream": "stdout",
       "text": [
        "   align_summary.txt               0.000 MB | 0.149 sec | 0 thr |  0.001 MB/s\r\n"
       ]
      },
      {
       "output_type": "stream",
       "stream": "stdout",
       "text": [
        "   deletions.bed                   0.002 MB | 0.149 sec | 0 thr |  0.017 MB/s\r\n"
       ]
      },
      {
       "output_type": "stream",
       "stream": "stdout",
       "text": [
        "   insertions.bed                  0.003 MB | 0.165 sec | 0 thr |  0.019 MB/s\r\n"
       ]
      },
      {
       "output_type": "stream",
       "stream": "stdout",
       "text": [
        "   junctions.bed                   7.478 MB | 3.221 sec | 0 thr |  2.321 MB/s\r\n"
       ]
      },
      {
       "output_type": "stream",
       "stream": "stdout",
       "text": [
        "   prep_reads.info                 0.000 MB | 0.183 sec | 0 thr |  0.000 MB/s\r\n"
       ]
      },
      {
       "output_type": "stream",
       "stream": "stdout",
       "text": [
        "From server: NumThreads=5, addr:128.196.172.248, port:20353, cookie=2048619364\r\n"
       ]
      },
      {
       "output_type": "stream",
       "stream": "stdout",
       "text": [
        "   unmapped.bam                  159.029 MB | 18.098 sec | 5 thr |  8.787 MB/s\r\n"
       ]
      },
      {
       "output_type": "stream",
       "stream": "stdout",
       "text": [
        "D- /Volumes/web/whale/fish546/iplant/TopHat2-SE_analysis1-2014-02-05-16-28-28.598/T2_out :\r\n"
       ]
      },
      {
       "output_type": "stream",
       "stream": "stdout",
       "text": [
        "D- /Volumes/web/whale/fish546/iplant/TopHat2-SE_analysis1-2014-02-05-16-28-28.598/T2_out/logs :\r\n"
       ]
      },
      {
       "output_type": "stream",
       "stream": "stdout",
       "text": [
        "   bam_merge_um.log                0.000 MB | 0.102 sec | 0 thr |  0.002 MB/s\r\n"
       ]
      },
      {
       "output_type": "stream",
       "stream": "stdout",
       "text": [
        "   bowtie_build.log                0.011 MB | 0.152 sec | 0 thr |  0.075 MB/s\r\n"
       ]
      },
      {
       "output_type": "stream",
       "stream": "stdout",
       "text": [
        "   bowtie.left_kept_reads.lo       0.000 MB | 0.084 sec | 0 thr |  0.003 MB/s\r\n"
       ]
      },
      {
       "output_type": "stream",
       "stream": "stdout",
       "text": [
        "   bowtie.left_kept_reads.m2       0.000 MB | 0.130 sec | 0 thr |  0.002 MB/s\r\n"
       ]
      },
      {
       "output_type": "stream",
       "stream": "stdout",
       "text": [
        "   bowtie.left_kept_reads.m2       0.000 MB | 0.099 sec | 0 thr |  0.002 MB/s\r\n"
       ]
      },
      {
       "output_type": "stream",
       "stream": "stdout",
       "text": [
        "   bowtie.left_kept_reads.m2       0.000 MB | 0.093 sec | 0 thr |  0.002 MB/s\r\n"
       ]
      },
      {
       "output_type": "stream",
       "stream": "stdout",
       "text": [
        "   g2f.err                         0.000 MB | 0.087 sec | 0 thr |  0.002 MB/s\r\n"
       ]
      },
      {
       "output_type": "stream",
       "stream": "stdout",
       "text": [
        "   g2f.out                         0.000 MB | 0.083 sec | 0 thr |  0.001 MB/s\r\n"
       ]
      },
      {
       "output_type": "stream",
       "stream": "stdout",
       "text": [
        "   gtf_juncs.log                   0.000 MB | 0.094 sec | 0 thr |  0.003 MB/s\r\n"
       ]
      },
      {
       "output_type": "stream",
       "stream": "stdout",
       "text": [
        "   juncs_db.log                    0.190 MB | 0.294 sec | 0 thr |  0.646 MB/s\r\n"
       ]
      },
      {
       "output_type": "stream",
       "stream": "stdout",
       "text": [
        "   long_spanning_reads.segs.       0.079 MB | 0.157 sec | 0 thr |  0.501 MB/s\r\n"
       ]
      },
      {
       "output_type": "stream",
       "stream": "stdout",
       "text": [
        "   m2g_left_kept_reads.err         0.003 MB | 0.088 sec | 0 thr |  0.031 MB/s\r\n"
       ]
      },
      {
       "output_type": "stream",
       "stream": "stdout",
       "text": [
        "   m2g_left_kept_reads.out         0.000 MB | 0.304 sec | 0 thr |  0.001 MB/s\r\n"
       ]
      },
      {
       "output_type": "stream",
       "stream": "stdout",
       "text": [
        "   prep_reads.log                  0.000 MB | 0.085 sec | 0 thr |  0.003 MB/s\r\n"
       ]
      },
      {
       "output_type": "stream",
       "stream": "stdout",
       "text": [
        "   reports.log                     0.190 MB | 0.249 sec | 0 thr |  0.763 MB/s\r\n"
       ]
      },
      {
       "output_type": "stream",
       "stream": "stdout",
       "text": [
        "   reports.merge_bam.log           0.000 MB | 0.079 sec | 0 thr |  0.000 MB/s\r\n"
       ]
      },
      {
       "output_type": "stream",
       "stream": "stdout",
       "text": [
        "   reports.samtools_sort.log       0.000 MB | 0.088 sec | 0 thr |  0.000 MB/s\r\n"
       ]
      },
      {
       "output_type": "stream",
       "stream": "stdout",
       "text": [
        "   reports.samtools_sort.log       0.000 MB | 0.109 sec | 0 thr |  0.000 MB/s\r\n"
       ]
      },
      {
       "output_type": "stream",
       "stream": "stdout",
       "text": [
        "   reports.samtools_sort.log       0.000 MB | 0.091 sec | 0 thr |  0.000 MB/s\r\n"
       ]
      },
      {
       "output_type": "stream",
       "stream": "stdout",
       "text": [
        "   reports.samtools_sort.log       0.000 MB | 0.139 sec | 0 thr |  0.000 MB/s\r\n"
       ]
      },
      {
       "output_type": "stream",
       "stream": "stdout",
       "text": [
        "   reports.samtools_sort.log       0.000 MB | 0.082 sec | 0 thr |  0.000 MB/s\r\n"
       ]
      },
      {
       "output_type": "stream",
       "stream": "stdout",
       "text": [
        "   reports.samtools_sort.log       0.000 MB | 0.091 sec | 0 thr |  0.000 MB/s\r\n"
       ]
      },
      {
       "output_type": "stream",
       "stream": "stdout",
       "text": [
        "   run.log                         0.013 MB | 0.090 sec | 0 thr |  0.141 MB/s\r\n"
       ]
      },
      {
       "output_type": "stream",
       "stream": "stdout",
       "text": [
        "   segment_juncs.log               0.484 MB | 0.316 sec | 0 thr |  1.535 MB/s\r\n"
       ]
      },
      {
       "output_type": "stream",
       "stream": "stdout",
       "text": [
        "   tophat.log                      0.003 MB | 0.100 sec | 0 thr |  0.035 MB/s\r\n"
       ]
      },
      {
       "output_type": "stream",
       "stream": "stdout",
       "text": [
        "From server: NumThreads=16, addr:128.196.172.248, port:20166, cookie=582043986\r\n"
       ]
      },
      {
       "output_type": "stream",
       "stream": "stdout",
       "text": [
        "   accepted_hits.bam             561.110 MB | 35.878 sec | 16 thr | 15.639 MB/s\r\n"
       ]
      },
      {
       "output_type": "stream",
       "stream": "stdout",
       "text": [
        "   align_summary.txt               0.000 MB | 0.121 sec | 0 thr |  0.002 MB/s\r\n"
       ]
      },
      {
       "output_type": "stream",
       "stream": "stdout",
       "text": [
        "   deletions.bed                   0.074 MB | 0.263 sec | 0 thr |  0.280 MB/s\r\n"
       ]
      },
      {
       "output_type": "stream",
       "stream": "stdout",
       "text": [
        "   insertions.bed                  0.018 MB | 0.103 sec | 0 thr |  0.178 MB/s\r\n"
       ]
      },
      {
       "output_type": "stream",
       "stream": "stdout",
       "text": [
        "   junctions.bed                   7.312 MB | 3.096 sec | 0 thr |  2.362 MB/s\r\n"
       ]
      },
      {
       "output_type": "stream",
       "stream": "stdout",
       "text": [
        "   prep_reads.info                 0.000 MB | 0.080 sec | 0 thr |  0.001 MB/s\r\n"
       ]
      },
      {
       "output_type": "stream",
       "stream": "stdout",
       "text": [
        "From server: NumThreads=4, addr:128.196.172.248, port:20378, cookie=711356739\r\n"
       ]
      },
      {
       "output_type": "stream",
       "stream": "stdout",
       "text": [
        "   unmapped.bam                  100.407 MB | 14.381 sec | 4 thr |  6.982 MB/s\r\n"
       ]
      },
      {
       "output_type": "stream",
       "stream": "stdout",
       "text": [
        "D- /Volumes/web/whale/fish546/iplant/TopHat2-SE_analysis1-2014-02-05-16-28-28.598/U1_out :\r\n"
       ]
      },
      {
       "output_type": "stream",
       "stream": "stdout",
       "text": [
        "D- /Volumes/web/whale/fish546/iplant/TopHat2-SE_analysis1-2014-02-05-16-28-28.598/U1_out/logs :\r\n"
       ]
      },
      {
       "output_type": "stream",
       "stream": "stdout",
       "text": [
        "   bam_merge_um.log                0.000 MB | 0.171 sec | 0 thr |  0.001 MB/s\r\n"
       ]
      },
      {
       "output_type": "stream",
       "stream": "stdout",
       "text": [
        "   bowtie_build.log                0.012 MB | 0.128 sec | 0 thr |  0.092 MB/s\r\n"
       ]
      },
      {
       "output_type": "stream",
       "stream": "stdout",
       "text": [
        "   bowtie.left_kept_reads.lo       0.000 MB | 0.094 sec | 0 thr |  0.002 MB/s\r\n"
       ]
      },
      {
       "output_type": "stream",
       "stream": "stdout",
       "text": [
        "   bowtie.left_kept_reads.m2       0.000 MB | 0.093 sec | 0 thr |  0.002 MB/s\r\n"
       ]
      },
      {
       "output_type": "stream",
       "stream": "stdout",
       "text": [
        "   bowtie.left_kept_reads.m2       0.000 MB | 0.087 sec | 0 thr |  0.002 MB/s\r\n"
       ]
      },
      {
       "output_type": "stream",
       "stream": "stdout",
       "text": [
        "   bowtie.left_kept_reads.m2       0.000 MB | 0.089 sec | 0 thr |  0.002 MB/s\r\n"
       ]
      },
      {
       "output_type": "stream",
       "stream": "stdout",
       "text": [
        "   g2f.err                         0.000 MB | 0.098 sec | 0 thr |  0.002 MB/s\r\n"
       ]
      },
      {
       "output_type": "stream",
       "stream": "stdout",
       "text": [
        "   g2f.out                         0.000 MB | 0.088 sec | 0 thr |  0.001 MB/s\r\n"
       ]
      },
      {
       "output_type": "stream",
       "stream": "stdout",
       "text": [
        "   gtf_juncs.log                   0.000 MB | 0.083 sec | 0 thr |  0.003 MB/s\r\n"
       ]
      },
      {
       "output_type": "stream",
       "stream": "stdout",
       "text": [
        "   juncs_db.log                    0.190 MB | 0.334 sec | 0 thr |  0.569 MB/s\r\n"
       ]
      },
      {
       "output_type": "stream",
       "stream": "stdout",
       "text": [
        "   long_spanning_reads.segs.       0.116 MB | 0.172 sec | 0 thr |  0.676 MB/s\r\n"
       ]
      },
      {
       "output_type": "stream",
       "stream": "stdout",
       "text": [
        "   m2g_left_kept_reads.err         0.004 MB | 0.083 sec | 0 thr |  0.045 MB/s\r\n"
       ]
      },
      {
       "output_type": "stream",
       "stream": "stdout",
       "text": [
        "   m2g_left_kept_reads.out         0.000 MB | 0.094 sec | 0 thr |  0.002 MB/s\r\n"
       ]
      },
      {
       "output_type": "stream",
       "stream": "stdout",
       "text": [
        "   prep_reads.log                  0.000 MB | 0.207 sec | 0 thr |  0.001 MB/s\r\n"
       ]
      },
      {
       "output_type": "stream",
       "stream": "stdout",
       "text": [
        "   reports.log                     0.190 MB | 0.185 sec | 0 thr |  1.025 MB/s\r\n"
       ]
      },
      {
       "output_type": "stream",
       "stream": "stdout",
       "text": [
        "   reports.merge_bam.log           0.000 MB | 0.091 sec | 0 thr |  0.000 MB/s\r\n"
       ]
      },
      {
       "output_type": "stream",
       "stream": "stdout",
       "text": [
        "   reports.samtools_sort.log       0.000 MB | 0.087 sec | 0 thr |  0.000 MB/s\r\n"
       ]
      },
      {
       "output_type": "stream",
       "stream": "stdout",
       "text": [
        "   reports.samtools_sort.log       0.000 MB | 0.089 sec | 0 thr |  0.000 MB/s\r\n"
       ]
      },
      {
       "output_type": "stream",
       "stream": "stdout",
       "text": [
        "   reports.samtools_sort.log       0.000 MB | 0.090 sec | 0 thr |  0.000 MB/s\r\n"
       ]
      },
      {
       "output_type": "stream",
       "stream": "stdout",
       "text": [
        "   reports.samtools_sort.log       0.000 MB | 0.090 sec | 0 thr |  0.000 MB/s\r\n"
       ]
      },
      {
       "output_type": "stream",
       "stream": "stdout",
       "text": [
        "   reports.samtools_sort.log       0.000 MB | 0.090 sec | 0 thr |  0.000 MB/s\r\n"
       ]
      },
      {
       "output_type": "stream",
       "stream": "stdout",
       "text": [
        "   reports.samtools_sort.log       0.000 MB | 0.094 sec | 0 thr |  0.000 MB/s\r\n"
       ]
      },
      {
       "output_type": "stream",
       "stream": "stdout",
       "text": [
        "   run.log                         0.013 MB | 0.096 sec | 0 thr |  0.133 MB/s\r\n"
       ]
      },
      {
       "output_type": "stream",
       "stream": "stdout",
       "text": [
        "   segment_juncs.log               0.504 MB | 0.269 sec | 0 thr |  1.874 MB/s\r\n"
       ]
      },
      {
       "output_type": "stream",
       "stream": "stdout",
       "text": [
        "   tophat.log                      0.003 MB | 0.155 sec | 0 thr |  0.022 MB/s\r\n"
       ]
      },
      {
       "output_type": "stream",
       "stream": "stdout",
       "text": [
        "From server: NumThreads=16, addr:128.196.172.248, port:20187, cookie=445338951\r\n"
       ]
      },
      {
       "output_type": "stream",
       "stream": "stdout",
       "text": [
        "   accepted_hits.bam            1085.350 MB | 148.014 sec | 16 thr |  7.333 MB/s\r\n"
       ]
      },
      {
       "output_type": "stream",
       "stream": "stdout",
       "text": [
        "   align_summary.txt               0.000 MB | 0.182 sec | 0 thr |  0.001 MB/s\r\n"
       ]
      },
      {
       "output_type": "stream",
       "stream": "stdout",
       "text": [
        "   deletions.bed                   0.071 MB | 0.419 sec | 0 thr |  0.168 MB/s\r\n"
       ]
      },
      {
       "output_type": "stream",
       "stream": "stdout",
       "text": [
        "   insertions.bed                  0.030 MB | 0.140 sec | 0 thr |  0.211 MB/s\r\n"
       ]
      },
      {
       "output_type": "stream",
       "stream": "stdout",
       "text": [
        "   junctions.bed                  10.573 MB | 5.249 sec | 0 thr |  2.014 MB/s\r\n"
       ]
      },
      {
       "output_type": "stream",
       "stream": "stdout",
       "text": [
        "   prep_reads.info                 0.000 MB | 0.083 sec | 0 thr |  0.001 MB/s\r\n"
       ]
      },
      {
       "output_type": "stream",
       "stream": "stdout",
       "text": [
        "From server: NumThreads=7, addr:128.196.172.248, port:20398, cookie=869595600\r\n"
       ]
      },
      {
       "output_type": "stream",
       "stream": "stdout",
       "text": [
        "   unmapped.bam                  217.499 MB | 21.016 sec | 7 thr | 10.349 MB/s\r\n"
       ]
      },
      {
       "output_type": "stream",
       "stream": "stdout",
       "text": [
        "D- /Volumes/web/whale/fish546/iplant/TopHat2-SE_analysis1-2014-02-05-16-28-28.598/U2_out :\r\n"
       ]
      },
      {
       "output_type": "stream",
       "stream": "stdout",
       "text": [
        "D- /Volumes/web/whale/fish546/iplant/TopHat2-SE_analysis1-2014-02-05-16-28-28.598/U2_out/logs :\r\n"
       ]
      },
      {
       "output_type": "stream",
       "stream": "stdout",
       "text": [
        "   bam_merge_um.log                0.000 MB | 0.093 sec | 0 thr |  0.002 MB/s\r\n"
       ]
      },
      {
       "output_type": "stream",
       "stream": "stdout",
       "text": [
        "   bowtie_build.log                0.011 MB | 0.156 sec | 0 thr |  0.072 MB/s\r\n"
       ]
      },
      {
       "output_type": "stream",
       "stream": "stdout",
       "text": [
        "   bowtie.left_kept_reads.lo       0.000 MB | 0.087 sec | 0 thr |  0.002 MB/s\r\n"
       ]
      },
      {
       "output_type": "stream",
       "stream": "stdout",
       "text": [
        "   bowtie.left_kept_reads.m2       0.000 MB | 0.083 sec | 0 thr |  0.003 MB/s\r\n"
       ]
      },
      {
       "output_type": "stream",
       "stream": "stdout",
       "text": [
        "   bowtie.left_kept_reads.m2       0.000 MB | 0.084 sec | 0 thr |  0.002 MB/s\r\n"
       ]
      },
      {
       "output_type": "stream",
       "stream": "stdout",
       "text": [
        "   bowtie.left_kept_reads.m2       0.000 MB | 0.110 sec | 0 thr |  0.002 MB/s\r\n"
       ]
      },
      {
       "output_type": "stream",
       "stream": "stdout",
       "text": [
        "   g2f.err                         0.000 MB | 0.080 sec | 0 thr |  0.002 MB/s\r\n"
       ]
      },
      {
       "output_type": "stream",
       "stream": "stdout",
       "text": [
        "   g2f.out                         0.000 MB | 0.134 sec | 0 thr |  0.000 MB/s\r\n"
       ]
      },
      {
       "output_type": "stream",
       "stream": "stdout",
       "text": [
        "   gtf_juncs.log                   0.000 MB | 0.073 sec | 0 thr |  0.004 MB/s\r\n"
       ]
      },
      {
       "output_type": "stream",
       "stream": "stdout",
       "text": [
        "   juncs_db.log                    0.190 MB | 0.330 sec | 0 thr |  0.575 MB/s\r\n"
       ]
      },
      {
       "output_type": "stream",
       "stream": "stdout",
       "text": [
        "   long_spanning_reads.segs.       0.086 MB | 0.133 sec | 0 thr |  0.643 MB/s\r\n"
       ]
      },
      {
       "output_type": "stream",
       "stream": "stdout",
       "text": [
        "   m2g_left_kept_reads.err         0.002 MB | 0.100 sec | 0 thr |  0.023 MB/s\r\n"
       ]
      },
      {
       "output_type": "stream",
       "stream": "stdout",
       "text": [
        "   m2g_left_kept_reads.out         0.000 MB | 0.089 sec | 0 thr |  0.002 MB/s\r\n"
       ]
      },
      {
       "output_type": "stream",
       "stream": "stdout",
       "text": [
        "   prep_reads.log                  0.000 MB | 0.110 sec | 0 thr |  0.002 MB/s\r\n"
       ]
      },
      {
       "output_type": "stream",
       "stream": "stdout",
       "text": [
        "   reports.log                     0.190 MB | 0.189 sec | 0 thr |  1.005 MB/s\r\n"
       ]
      },
      {
       "output_type": "stream",
       "stream": "stdout",
       "text": [
        "   reports.merge_bam.log           0.000 MB | 0.075 sec | 0 thr |  0.000 MB/s\r\n"
       ]
      },
      {
       "output_type": "stream",
       "stream": "stdout",
       "text": [
        "   reports.samtools_sort.log       0.000 MB | 0.077 sec | 0 thr |  0.000 MB/s\r\n"
       ]
      },
      {
       "output_type": "stream",
       "stream": "stdout",
       "text": [
        "   reports.samtools_sort.log       0.000 MB | 0.078 sec | 0 thr |  0.000 MB/s\r\n"
       ]
      },
      {
       "output_type": "stream",
       "stream": "stdout",
       "text": [
        "   reports.samtools_sort.log       0.000 MB | 0.097 sec | 0 thr |  0.000 MB/s\r\n"
       ]
      },
      {
       "output_type": "stream",
       "stream": "stdout",
       "text": [
        "   reports.samtools_sort.log       0.000 MB | 0.083 sec | 0 thr |  0.000 MB/s\r\n"
       ]
      },
      {
       "output_type": "stream",
       "stream": "stdout",
       "text": [
        "   reports.samtools_sort.log       0.000 MB | 0.089 sec | 0 thr |  0.000 MB/s\r\n"
       ]
      },
      {
       "output_type": "stream",
       "stream": "stdout",
       "text": [
        "   reports.samtools_sort.log       0.000 MB | 0.084 sec | 0 thr |  0.000 MB/s\r\n"
       ]
      },
      {
       "output_type": "stream",
       "stream": "stdout",
       "text": [
        "   run.log                         0.013 MB | 0.094 sec | 0 thr |  0.135 MB/s\r\n"
       ]
      },
      {
       "output_type": "stream",
       "stream": "stdout",
       "text": [
        "   segment_juncs.log               0.505 MB | 0.421 sec | 0 thr |  1.201 MB/s\r\n"
       ]
      },
      {
       "output_type": "stream",
       "stream": "stdout",
       "text": [
        "   tophat.log                      0.003 MB | 0.093 sec | 0 thr |  0.037 MB/s\r\n"
       ]
      },
      {
       "output_type": "stream",
       "stream": "stdout",
       "text": [
        "From server: NumThreads=16, addr:128.196.172.248, port:20056, cookie=1573138072\r\n"
       ]
      },
      {
       "output_type": "stream",
       "stream": "stdout",
       "text": [
        "   accepted_hits.bam            1016.442 MB | 129.945 sec | 16 thr |  7.822 MB/s\r\n"
       ]
      },
      {
       "output_type": "stream",
       "stream": "stdout",
       "text": [
        "   align_summary.txt               0.000 MB | 0.224 sec | 0 thr |  0.001 MB/s\r\n"
       ]
      },
      {
       "output_type": "stream",
       "stream": "stdout",
       "text": [
        "   deletions.bed                   0.049 MB | 0.215 sec | 0 thr |  0.226 MB/s\r\n"
       ]
      },
      {
       "output_type": "stream",
       "stream": "stdout",
       "text": [
        "   insertions.bed                  0.016 MB | 0.171 sec | 0 thr |  0.094 MB/s\r\n"
       ]
      },
      {
       "output_type": "stream",
       "stream": "stdout",
       "text": [
        "   junctions.bed                  10.519 MB | 4.404 sec | 0 thr |  2.389 MB/s\r\n"
       ]
      },
      {
       "output_type": "stream",
       "stream": "stdout",
       "text": [
        "   prep_reads.info                 0.000 MB | 0.079 sec | 0 thr |  0.001 MB/s\r\n"
       ]
      },
      {
       "output_type": "stream",
       "stream": "stdout",
       "text": [
        "From server: NumThreads=10, addr:128.196.172.248, port:20231, cookie=640055026\r\n"
       ]
      },
      {
       "output_type": "stream",
       "stream": "stdout",
       "text": [
        "   unmapped.bam                  299.451 MB | 24.648 sec | 10 thr | 12.149 MB/s\r\n"
       ]
      }
     ],
     "prompt_number": 23
    },
    {
     "cell_type": "code",
     "collapsed": false,
     "input": [
      "!iget -f -V -r Cufflinks2_analysis1-2014-02-06-07-11-47.565 /Volumes/web/whale/fish546/iplant"
     ],
     "language": "python",
     "metadata": {},
     "outputs": [
      {
       "output_type": "stream",
       "stream": "stdout",
       "text": [
        "NOTICE: irodsHost=data.iplantcollaborative.org\r\n",
        "NOTICE: irodsPort=1247\r\n",
        "NOTICE: irodsUserName=sr320\r\n",
        "NOTICE: irodsZone=iplant\r\n",
        "NOTICE: created irodsHome=/iplant/home/sr320\r\n",
        "NOTICE: created irodsCwd=/iplant/home/sr320\r\n",
        "NOTICE: irodsCwd=/iplant/home/sr320/Cgigas_v9\r\n"
       ]
      },
      {
       "output_type": "stream",
       "stream": "stdout",
       "text": [
        "D- /Volumes/web/whale/fish546/iplant/Cufflinks2_analysis1-2014-02-06-07-11-47.565 :\r\n"
       ]
      },
      {
       "output_type": "stream",
       "stream": "stdout",
       "text": [
        "D- /Volumes/web/whale/fish546/iplant/Cufflinks2_analysis1-2014-02-06-07-11-47.565/gtf :\r\n"
       ]
      },
      {
       "output_type": "stream",
       "stream": "stdout",
       "text": [
        "From server: NumThreads=2, addr:128.196.172.248, port:20052, cookie=1212704161\r\n"
       ]
      },
      {
       "output_type": "stream",
       "stream": "stdout",
       "text": [
        "   T1_transcripts.gtf             35.832 MB | 7.305 sec | 2 thr |  4.905 MB/s\r\n"
       ]
      },
      {
       "output_type": "stream",
       "stream": "stdout",
       "text": [
        "From server: NumThreads=2, addr:128.196.172.248, port:20283, cookie=180616609\r\n"
       ]
      },
      {
       "output_type": "stream",
       "stream": "stdout",
       "text": [
        "   T2_transcripts.gtf             33.549 MB | 6.560 sec | 2 thr |  5.114 MB/s\r\n"
       ]
      },
      {
       "output_type": "stream",
       "stream": "stdout",
       "text": [
        "From server: NumThreads=2, addr:128.196.172.248, port:20212, cookie=809785660\r\n"
       ]
      },
      {
       "output_type": "stream",
       "stream": "stdout",
       "text": [
        "   U1_transcripts.gtf             51.636 MB | 9.592 sec | 2 thr |  5.383 MB/s\r\n"
       ]
      },
      {
       "output_type": "stream",
       "stream": "stdout",
       "text": [
        "From server: NumThreads=2, addr:128.196.172.248, port:20354, cookie=776720173\r\n"
       ]
      },
      {
       "output_type": "stream",
       "stream": "stdout",
       "text": [
        "   U2_transcripts.gtf             51.753 MB | 9.405 sec | 2 thr |  5.503 MB/s\r\n"
       ]
      },
      {
       "output_type": "stream",
       "stream": "stdout",
       "text": [
        "D- /Volumes/web/whale/fish546/iplant/Cufflinks2_analysis1-2014-02-06-07-11-47.565/logs :\r\n"
       ]
      },
      {
       "output_type": "stream",
       "stream": "stdout",
       "text": [
        "   condor-0-input-0-stderr         0.000 MB | 0.483 sec | 0 thr |  0.000 MB/s\r\n"
       ]
      },
      {
       "output_type": "stream",
       "stream": "stdout",
       "text": [
        "   condor-0-input-0-stdout         0.034 MB | 0.743 sec | 0 thr |  0.046 MB/s\r\n"
       ]
      },
      {
       "output_type": "stream",
       "stream": "stdout",
       "text": [
        "   condor-0-input-1-stderr         0.000 MB | 0.081 sec | 0 thr |  0.000 MB/s\r\n"
       ]
      },
      {
       "output_type": "stream",
       "stream": "stdout",
       "text": [
        "   condor-0-input-1-stdout         0.034 MB | 0.128 sec | 0 thr |  0.268 MB/s\r\n"
       ]
      },
      {
       "output_type": "stream",
       "stream": "stdout",
       "text": [
        "   condor-0-input-2-stderr         0.000 MB | 0.083 sec | 0 thr |  0.000 MB/s\r\n"
       ]
      },
      {
       "output_type": "stream",
       "stream": "stdout",
       "text": [
        "   condor-0-input-2-stdout         0.035 MB | 0.127 sec | 0 thr |  0.272 MB/s\r\n"
       ]
      },
      {
       "output_type": "stream",
       "stream": "stdout",
       "text": [
        "   condor-0-input-3-stderr         0.000 MB | 0.082 sec | 0 thr |  0.000 MB/s\r\n"
       ]
      },
      {
       "output_type": "stream",
       "stream": "stdout",
       "text": [
        "   condor-0-input-3-stdout         0.035 MB | 0.246 sec | 0 thr |  0.140 MB/s\r\n"
       ]
      },
      {
       "output_type": "stream",
       "stream": "stdout",
       "text": [
        "From server: NumThreads=6, addr:128.196.172.248, port:20331, cookie=910006227\r\n"
       ]
      },
      {
       "output_type": "stream",
       "stream": "stdout",
       "text": [
        "   condor-stderr-0               178.741 MB | 20.473 sec | 6 thr |  8.730 MB/s\r\n"
       ]
      },
      {
       "output_type": "stream",
       "stream": "stdout",
       "text": [
        "   condor-stdout-0                 0.000 MB | 0.098 sec | 0 thr |  0.000 MB/s\r\n"
       ]
      },
      {
       "output_type": "stream",
       "stream": "stdout",
       "text": [
        "   iplant.cmd                      0.001 MB | 0.123 sec | 0 thr |  0.005 MB/s\r\n"
       ]
      },
      {
       "output_type": "stream",
       "stream": "stdout",
       "text": [
        "   iplant.sh                       0.004 MB | 0.140 sec | 0 thr |  0.028 MB/s\r\n"
       ]
      },
      {
       "output_type": "stream",
       "stream": "stdout",
       "text": [
        "   output-last-stderr              0.000 MB | 0.135 sec | 0 thr |  0.000 MB/s\r\n"
       ]
      },
      {
       "output_type": "stream",
       "stream": "stdout",
       "text": [
        "   output-last-stdout              1.257 MB | 0.808 sec | 0 thr |  1.555 MB/s\r\n"
       ]
      },
      {
       "output_type": "stream",
       "stream": "stdout",
       "text": [
        "   script-condor-log               0.002 MB | 0.279 sec | 0 thr |  0.006 MB/s\r\n"
       ]
      },
      {
       "output_type": "stream",
       "stream": "stdout",
       "text": [
        "   script-error.log                0.000 MB | 0.078 sec | 0 thr |  0.000 MB/s\r\n"
       ]
      },
      {
       "output_type": "stream",
       "stream": "stdout",
       "text": [
        "   script-output.log               0.000 MB | 0.083 sec | 0 thr |  0.001 MB/s\r\n"
       ]
      },
      {
       "output_type": "stream",
       "stream": "stdout",
       "text": [
        "D- /Volumes/web/whale/fish546/iplant/Cufflinks2_analysis1-2014-02-06-07-11-47.565/T1_out :\r\n"
       ]
      },
      {
       "output_type": "stream",
       "stream": "stdout",
       "text": [
        "   genes.fpkm_tracking             2.993 MB | 1.424 sec | 0 thr |  2.102 MB/s\r\n"
       ]
      },
      {
       "output_type": "stream",
       "stream": "stdout",
       "text": [
        "   isoforms.fpkm_tracking          3.670 MB | 1.632 sec | 0 thr |  2.249 MB/s\r\n"
       ]
      },
      {
       "output_type": "stream",
       "stream": "stdout",
       "text": [
        "   skipped.gtf                     0.000 MB | 0.095 sec | 0 thr |  0.002 MB/s\r\n"
       ]
      },
      {
       "output_type": "stream",
       "stream": "stdout",
       "text": [
        "From server: NumThreads=2, addr:128.196.172.248, port:20351, cookie=1911159344\r\n"
       ]
      },
      {
       "output_type": "stream",
       "stream": "stdout",
       "text": [
        "   transcripts.gtf                35.832 MB | 7.785 sec | 2 thr |  4.603 MB/s\r\n"
       ]
      },
      {
       "output_type": "stream",
       "stream": "stdout",
       "text": [
        "D- /Volumes/web/whale/fish546/iplant/Cufflinks2_analysis1-2014-02-06-07-11-47.565/T2_out :\r\n"
       ]
      },
      {
       "output_type": "stream",
       "stream": "stdout",
       "text": [
        "   genes.fpkm_tracking             2.517 MB | 1.488 sec | 0 thr |  1.692 MB/s\r\n"
       ]
      },
      {
       "output_type": "stream",
       "stream": "stdout",
       "text": [
        "   isoforms.fpkm_tracking          3.097 MB | 1.356 sec | 0 thr |  2.284 MB/s\r\n"
       ]
      },
      {
       "output_type": "stream",
       "stream": "stdout",
       "text": [
        "   skipped.gtf                     0.000 MB | 0.142 sec | 0 thr |  0.000 MB/s\r\n"
       ]
      },
      {
       "output_type": "stream",
       "stream": "stdout",
       "text": [
        "From server: NumThreads=2, addr:128.196.172.248, port:20230, cookie=1418556777\r\n"
       ]
      },
      {
       "output_type": "stream",
       "stream": "stdout",
       "text": [
        "   transcripts.gtf                33.549 MB | 6.448 sec | 2 thr |  5.203 MB/s\r\n"
       ]
      },
      {
       "output_type": "stream",
       "stream": "stdout",
       "text": [
        "D- /Volumes/web/whale/fish546/iplant/Cufflinks2_analysis1-2014-02-06-07-11-47.565/U1_out :\r\n"
       ]
      },
      {
       "output_type": "stream",
       "stream": "stdout",
       "text": [
        "   genes.fpkm_tracking             3.839 MB | 2.035 sec | 0 thr |  1.886 MB/s\r\n"
       ]
      },
      {
       "output_type": "stream",
       "stream": "stdout",
       "text": [
        "   isoforms.fpkm_tracking          4.807 MB | 1.982 sec | 0 thr |  2.425 MB/s\r\n"
       ]
      },
      {
       "output_type": "stream",
       "stream": "stdout",
       "text": [
        "   skipped.gtf                     0.001 MB | 0.091 sec | 0 thr |  0.006 MB/s\r\n"
       ]
      },
      {
       "output_type": "stream",
       "stream": "stdout",
       "text": [
        "From server: NumThreads=2, addr:128.196.172.248, port:20059, cookie=991686081\r\n"
       ]
      },
      {
       "output_type": "stream",
       "stream": "stdout",
       "text": [
        "   transcripts.gtf                51.636 MB | 9.319 sec | 2 thr |  5.541 MB/s\r\n"
       ]
      },
      {
       "output_type": "stream",
       "stream": "stdout",
       "text": [
        "D- /Volumes/web/whale/fish546/iplant/Cufflinks2_analysis1-2014-02-06-07-11-47.565/U2_out :\r\n"
       ]
      },
      {
       "output_type": "stream",
       "stream": "stdout",
       "text": [
        "   genes.fpkm_tracking             3.987 MB | 2.132 sec | 0 thr |  1.870 MB/s\r\n"
       ]
      },
      {
       "output_type": "stream",
       "stream": "stdout",
       "text": [
        "   isoforms.fpkm_tracking          4.969 MB | 2.130 sec | 0 thr |  2.333 MB/s\r\n"
       ]
      },
      {
       "output_type": "stream",
       "stream": "stdout",
       "text": [
        "   skipped.gtf                     0.000 MB | 0.093 sec | 0 thr |  0.002 MB/s\r\n"
       ]
      },
      {
       "output_type": "stream",
       "stream": "stdout",
       "text": [
        "From server: NumThreads=2, addr:128.196.172.248, port:20305, cookie=1058677661\r\n"
       ]
      },
      {
       "output_type": "stream",
       "stream": "stdout",
       "text": [
        "   transcripts.gtf                51.753 MB | 9.649 sec | 2 thr |  5.363 MB/s\r\n"
       ]
      }
     ],
     "prompt_number": 24
    },
    {
     "cell_type": "code",
     "collapsed": false,
     "input": [
      "!iget -f -V -r Cuffmerge2_analysis1-2014-02-06-09-54-32.913 /Volumes/web/whale/fish546/iplant"
     ],
     "language": "python",
     "metadata": {},
     "outputs": [
      {
       "output_type": "stream",
       "stream": "stdout",
       "text": [
        "NOTICE: irodsHost=data.iplantcollaborative.org\r\n",
        "NOTICE: irodsPort=1247\r\n",
        "NOTICE: irodsUserName=sr320\r\n",
        "NOTICE: irodsZone=iplant\r\n",
        "NOTICE: created irodsHome=/iplant/home/sr320\r\n",
        "NOTICE: created irodsCwd=/iplant/home/sr320\r\n",
        "NOTICE: irodsCwd=/iplant/home/sr320/Cgigas_v9\r\n"
       ]
      },
      {
       "output_type": "stream",
       "stream": "stdout",
       "text": [
        "D- /Volumes/web/whale/fish546/iplant/Cuffmerge2_analysis1-2014-02-06-09-54-32.913 :\r\n"
       ]
      },
      {
       "output_type": "stream",
       "stream": "stdout",
       "text": [
        "D- /Volumes/web/whale/fish546/iplant/Cuffmerge2_analysis1-2014-02-06-09-54-32.913/cuffmerge_out :\r\n"
       ]
      },
      {
       "output_type": "stream",
       "stream": "stdout",
       "text": [
        "D- /Volumes/web/whale/fish546/iplant/Cuffmerge2_analysis1-2014-02-06-09-54-32.913/cuffmerge_out/logs :\r\n"
       ]
      },
      {
       "output_type": "stream",
       "stream": "stdout",
       "text": [
        "   run.log                         0.001 MB | 0.617 sec | 0 thr |  0.002 MB/s\r\n"
       ]
      },
      {
       "output_type": "stream",
       "stream": "stdout",
       "text": [
        "From server: NumThreads=4, addr:128.196.172.248, port:20254, cookie=1892227713\r\n"
       ]
      },
      {
       "output_type": "stream",
       "stream": "stdout",
       "text": [
        "   merged.gtf                    104.946 MB | 11.997 sec | 4 thr |  8.748 MB/s\r\n"
       ]
      },
      {
       "output_type": "stream",
       "stream": "stdout",
       "text": [
        "From server: NumThreads=3, addr:128.196.172.248, port:20214, cookie=1985952212\r\n"
       ]
      },
      {
       "output_type": "stream",
       "stream": "stdout",
       "text": [
        "   merged_with_ref_ids.gtf        89.735 MB | 14.238 sec | 3 thr |  6.303 MB/s\r\n"
       ]
      },
      {
       "output_type": "stream",
       "stream": "stdout",
       "text": [
        "D- /Volumes/web/whale/fish546/iplant/Cuffmerge2_analysis1-2014-02-06-09-54-32.913/logs :\r\n"
       ]
      },
      {
       "output_type": "stream",
       "stream": "stdout",
       "text": [
        "   condor-0-input-0-stderr         0.000 MB | 0.306 sec | 0 thr |  0.000 MB/s\r\n"
       ]
      },
      {
       "output_type": "stream",
       "stream": "stdout",
       "text": [
        "   condor-0-input-0-stdout         0.035 MB | 0.250 sec | 0 thr |  0.141 MB/s\r\n"
       ]
      },
      {
       "output_type": "stream",
       "stream": "stdout",
       "text": [
        "   condor-0-input-1-stderr         0.000 MB | 0.085 sec | 0 thr |  0.000 MB/s\r\n"
       ]
      },
      {
       "output_type": "stream",
       "stream": "stdout",
       "text": [
        "   condor-0-input-1-stdout         0.035 MB | 0.146 sec | 0 thr |  0.242 MB/s\r\n"
       ]
      },
      {
       "output_type": "stream",
       "stream": "stdout",
       "text": [
        "   condor-0-input-2-stderr         0.000 MB | 0.087 sec | 0 thr |  0.000 MB/s\r\n"
       ]
      },
      {
       "output_type": "stream",
       "stream": "stdout",
       "text": [
        "   condor-0-input-2-stdout         0.035 MB | 0.191 sec | 0 thr |  0.185 MB/s\r\n"
       ]
      },
      {
       "output_type": "stream",
       "stream": "stdout",
       "text": [
        "   condor-0-input-3-stderr         0.000 MB | 0.075 sec | 0 thr |  0.000 MB/s\r\n"
       ]
      },
      {
       "output_type": "stream",
       "stream": "stdout",
       "text": [
        "   condor-0-input-3-stdout         0.035 MB | 0.106 sec | 0 thr |  0.332 MB/s\r\n"
       ]
      },
      {
       "output_type": "stream",
       "stream": "stdout",
       "text": [
        "   condor-0-input-4-stderr         0.000 MB | 0.079 sec | 0 thr |  0.000 MB/s\r\n"
       ]
      },
      {
       "output_type": "stream",
       "stream": "stdout",
       "text": [
        "   condor-0-input-4-stdout         0.034 MB | 0.093 sec | 0 thr |  0.368 MB/s\r\n"
       ]
      },
      {
       "output_type": "stream",
       "stream": "stdout",
       "text": [
        "   condor-0-input-5-stderr         0.000 MB | 0.080 sec | 0 thr |  0.000 MB/s\r\n"
       ]
      },
      {
       "output_type": "stream",
       "stream": "stdout",
       "text": [
        "   condor-0-input-5-stdout         0.035 MB | 0.083 sec | 0 thr |  0.427 MB/s\r\n"
       ]
      },
      {
       "output_type": "stream",
       "stream": "stdout",
       "text": [
        "   condor-stderr-0                 0.003 MB | 0.115 sec | 0 thr |  0.024 MB/s\r\n"
       ]
      },
      {
       "output_type": "stream",
       "stream": "stdout",
       "text": [
        "   condor-stdout-0                 0.000 MB | 0.078 sec | 0 thr |  0.000 MB/s\r\n"
       ]
      },
      {
       "output_type": "stream",
       "stream": "stdout",
       "text": [
        "   iplant.cmd                      0.001 MB | 0.081 sec | 0 thr |  0.008 MB/s\r\n"
       ]
      },
      {
       "output_type": "stream",
       "stream": "stdout",
       "text": [
        "   iplant.sh                       0.005 MB | 0.080 sec | 0 thr |  0.061 MB/s\r\n"
       ]
      },
      {
       "output_type": "stream",
       "stream": "stdout",
       "text": [
        "   output-last-stderr              0.000 MB | 0.074 sec | 0 thr |  0.000 MB/s\r\n"
       ]
      },
      {
       "output_type": "stream",
       "stream": "stdout",
       "text": [
        "   output-last-stdout              0.987 MB | 0.532 sec | 0 thr |  1.856 MB/s\r\n"
       ]
      },
      {
       "output_type": "stream",
       "stream": "stdout",
       "text": [
        "   script-condor-log               0.001 MB | 0.164 sec | 0 thr |  0.007 MB/s\r\n"
       ]
      },
      {
       "output_type": "stream",
       "stream": "stdout",
       "text": [
        "   script-error.log                0.000 MB | 0.076 sec | 0 thr |  0.000 MB/s\r\n"
       ]
      },
      {
       "output_type": "stream",
       "stream": "stdout",
       "text": [
        "   script-output.log               0.000 MB | 0.081 sec | 0 thr |  0.001 MB/s\r\n"
       ]
      },
      {
       "output_type": "stream",
       "stream": "stdout",
       "text": [
        "   Crassostrea_gigas.GCA_000       0.216 MB | 0.172 sec | 0 thr |  1.260 MB/s\r\n"
       ]
      }
     ],
     "prompt_number": 25
    },
    {
     "cell_type": "code",
     "collapsed": false,
     "input": [
      "!iget -f -V -r Cuffdiff2_analysis1-2014-02-06-10-06-21.400 /Volumes/web/whale/fish546/iplant"
     ],
     "language": "python",
     "metadata": {},
     "outputs": [
      {
       "output_type": "stream",
       "stream": "stdout",
       "text": [
        "NOTICE: irodsHost=data.iplantcollaborative.org\r\n",
        "NOTICE: irodsPort=1247\r\n",
        "NOTICE: irodsUserName=sr320\r\n",
        "NOTICE: irodsZone=iplant\r\n",
        "NOTICE: created irodsHome=/iplant/home/sr320\r\n",
        "NOTICE: created irodsCwd=/iplant/home/sr320\r\n",
        "NOTICE: irodsCwd=/iplant/home/sr320/Cgigas_v9\r\n"
       ]
      },
      {
       "output_type": "stream",
       "stream": "stdout",
       "text": [
        "D- /Volumes/web/whale/fish546/iplant/Cuffdiff2_analysis1-2014-02-06-10-06-21.400 :\r\n"
       ]
      },
      {
       "output_type": "stream",
       "stream": "stdout",
       "text": [
        "D- /Volumes/web/whale/fish546/iplant/Cuffdiff2_analysis1-2014-02-06-10-06-21.400/cuffdiff_out :\r\n"
       ]
      },
      {
       "output_type": "stream",
       "stream": "stdout",
       "text": [
        "   basic_plots.R                   0.000 MB | 0.605 sec | 0 thr |  0.000 MB/s\r\n"
       ]
      },
      {
       "output_type": "stream",
       "stream": "stdout",
       "text": [
        "   bias_params.info                0.000 MB | 0.149 sec | 0 thr |  0.000 MB/s\r\n"
       ]
      },
      {
       "output_type": "stream",
       "stream": "stdout",
       "text": [
        "   cds.count_tracking              1.322 MB | 0.896 sec | 0 thr |  1.475 MB/s\r\n"
       ]
      },
      {
       "output_type": "stream",
       "stream": "stdout",
       "text": [
        "   cds.diff                        2.174 MB | 0.873 sec | 0 thr |  2.491 MB/s\r\n"
       ]
      },
      {
       "output_type": "stream",
       "stream": "stdout",
       "text": [
        "   cds_exp.diff                    2.732 MB | 1.227 sec | 0 thr |  2.227 MB/s\r\n"
       ]
      },
      {
       "output_type": "stream",
       "stream": "stdout",
       "text": [
        "   cds.fpkm_tracking               2.856 MB | 1.225 sec | 0 thr |  2.330 MB/s\r\n"
       ]
      },
      {
       "output_type": "stream",
       "stream": "stdout",
       "text": [
        "   cds.read_group_tracking         4.213 MB | 1.683 sec | 0 thr |  2.504 MB/s\r\n"
       ]
      },
      {
       "output_type": "stream",
       "stream": "stdout",
       "text": [
        "From server: NumThreads=3, addr:128.196.172.248, port:20372, cookie=1374012470\r\n"
       ]
      },
      {
       "output_type": "stream",
       "stream": "stdout",
       "text": [
        "   cuffData.db                    93.927 MB | 12.684 sec | 3 thr |  7.405 MB/s\r\n"
       ]
      },
      {
       "output_type": "stream",
       "stream": "stdout",
       "text": [
        "   gene_exp.diff                   4.112 MB | 2.264 sec | 0 thr |  1.816 MB/s\r\n"
       ]
      },
      {
       "output_type": "stream",
       "stream": "stdout",
       "text": [
        "   genes.count_tracking            2.037 MB | 1.028 sec | 0 thr |  1.981 MB/s\r\n"
       ]
      },
      {
       "output_type": "stream",
       "stream": "stdout",
       "text": [
        "   genes.fpkm_tracking             4.516 MB | 1.886 sec | 0 thr |  2.395 MB/s\r\n"
       ]
      },
      {
       "output_type": "stream",
       "stream": "stdout",
       "text": [
        "   genes.read_group_tracking       6.641 MB | 2.658 sec | 0 thr |  2.499 MB/s\r\n"
       ]
      },
      {
       "output_type": "stream",
       "stream": "stdout",
       "text": [
        "   isoform_exp.diff                6.575 MB | 2.683 sec | 0 thr |  2.451 MB/s\r\n"
       ]
      },
      {
       "output_type": "stream",
       "stream": "stdout",
       "text": [
        "   isoforms.count_tracking         3.393 MB | 1.490 sec | 0 thr |  2.277 MB/s\r\n"
       ]
      },
      {
       "output_type": "stream",
       "stream": "stdout",
       "text": [
        "   isoforms.fpkm_tracking          7.012 MB | 2.997 sec | 0 thr |  2.340 MB/s\r\n"
       ]
      },
      {
       "output_type": "stream",
       "stream": "stdout",
       "text": [
        "   isoforms.read_group_track      11.120 MB | 7.705 sec | 0 thr |  1.443 MB/s\r\n"
       ]
      },
      {
       "output_type": "stream",
       "stream": "stdout",
       "text": [
        "   promoters.diff                  2.885 MB | 2.147 sec | 0 thr |  1.344 MB/s\r\n"
       ]
      },
      {
       "output_type": "stream",
       "stream": "stdout",
       "text": [
        "   read_groups.info                0.000 MB | 0.103 sec | 0 thr |  0.003 MB/s\r\n"
       ]
      },
      {
       "output_type": "stream",
       "stream": "stdout",
       "text": [
        "   run.info                        0.000 MB | 0.085 sec | 0 thr |  0.003 MB/s\r\n"
       ]
      },
      {
       "output_type": "stream",
       "stream": "stdout",
       "text": [
        "   splicing.diff                   4.130 MB | 2.844 sec | 0 thr |  1.452 MB/s\r\n"
       ]
      },
      {
       "output_type": "stream",
       "stream": "stdout",
       "text": [
        "   tss_group_exp.diff              5.279 MB | 3.740 sec | 0 thr |  1.411 MB/s\r\n"
       ]
      },
      {
       "output_type": "stream",
       "stream": "stdout",
       "text": [
        "   tss_groups.count_tracking       2.620 MB | 2.040 sec | 0 thr |  1.284 MB/s\r\n"
       ]
      },
      {
       "output_type": "stream",
       "stream": "stdout",
       "text": [
        "   tss_groups.fpkm_tracking        5.406 MB | 3.736 sec | 0 thr |  1.447 MB/s\r\n"
       ]
      },
      {
       "output_type": "stream",
       "stream": "stdout",
       "text": [
        "   tss_groups.read_group_tra       8.435 MB | 5.813 sec | 0 thr |  1.451 MB/s\r\n"
       ]
      },
      {
       "output_type": "stream",
       "stream": "stdout",
       "text": [
        "   var_model.info                  4.365 MB | 3.146 sec | 0 thr |  1.387 MB/s\r\n"
       ]
      },
      {
       "output_type": "stream",
       "stream": "stdout",
       "text": [
        "D- /Volumes/web/whale/fish546/iplant/Cuffdiff2_analysis1-2014-02-06-10-06-21.400/graphs :\r\n"
       ]
      },
      {
       "output_type": "stream",
       "stream": "stdout",
       "text": [
        "   density_plot.png                0.016 MB | 0.171 sec | 0 thr |  0.095 MB/s\r\n"
       ]
      },
      {
       "output_type": "stream",
       "stream": "stdout",
       "text": [
        "   Troco_Umbo_scatter_plot.p       0.043 MB | 0.130 sec | 0 thr |  0.331 MB/s\r\n"
       ]
      },
      {
       "output_type": "stream",
       "stream": "stdout",
       "text": [
        "   Troco_Umbo_volcano_plot.p       0.021 MB | 0.089 sec | 0 thr |  0.232 MB/s\r\n"
       ]
      },
      {
       "output_type": "stream",
       "stream": "stdout",
       "text": [
        "D- /Volumes/web/whale/fish546/iplant/Cuffdiff2_analysis1-2014-02-06-10-06-21.400/logs :\r\n"
       ]
      },
      {
       "output_type": "stream",
       "stream": "stdout",
       "text": [
        "   condor-0-input-0-stderr         0.000 MB | 0.161 sec | 0 thr |  0.000 MB/s\r\n"
       ]
      },
      {
       "output_type": "stream",
       "stream": "stdout",
       "text": [
        "   condor-0-input-0-stdout         0.034 MB | 0.119 sec | 0 thr |  0.290 MB/s\r\n"
       ]
      },
      {
       "output_type": "stream",
       "stream": "stdout",
       "text": [
        "   condor-0-input-1-stderr         0.000 MB | 0.089 sec | 0 thr |  0.000 MB/s\r\n"
       ]
      },
      {
       "output_type": "stream",
       "stream": "stdout",
       "text": [
        "   condor-0-input-1-stdout         0.034 MB | 0.090 sec | 0 thr |  0.382 MB/s\r\n"
       ]
      },
      {
       "output_type": "stream",
       "stream": "stdout",
       "text": [
        "   condor-0-input-2-stderr         0.000 MB | 0.088 sec | 0 thr |  0.000 MB/s\r\n"
       ]
      },
      {
       "output_type": "stream",
       "stream": "stdout",
       "text": [
        "   condor-0-input-2-stdout         0.035 MB | 0.111 sec | 0 thr |  0.312 MB/s\r\n"
       ]
      },
      {
       "output_type": "stream",
       "stream": "stdout",
       "text": [
        "   condor-0-input-3-stderr         0.000 MB | 0.086 sec | 0 thr |  0.000 MB/s\r\n"
       ]
      },
      {
       "output_type": "stream",
       "stream": "stdout",
       "text": [
        "   condor-0-input-3-stdout         0.035 MB | 0.175 sec | 0 thr |  0.197 MB/s\r\n"
       ]
      },
      {
       "output_type": "stream",
       "stream": "stdout",
       "text": [
        "   condor-0-input-4-stderr         0.000 MB | 0.087 sec | 0 thr |  0.000 MB/s\r\n"
       ]
      },
      {
       "output_type": "stream",
       "stream": "stdout",
       "text": [
        "   condor-0-input-4-stdout         0.036 MB | 0.089 sec | 0 thr |  0.410 MB/s\r\n"
       ]
      },
      {
       "output_type": "stream",
       "stream": "stdout",
       "text": [
        "   condor-stderr-0                 0.003 MB | 0.089 sec | 0 thr |  0.032 MB/s\r\n"
       ]
      },
      {
       "output_type": "stream",
       "stream": "stdout",
       "text": [
        "   condor-stdout-0                 0.001 MB | 0.082 sec | 0 thr |  0.012 MB/s\r\n"
       ]
      },
      {
       "output_type": "stream",
       "stream": "stdout",
       "text": [
        "   iplant.cmd                      0.001 MB | 0.090 sec | 0 thr |  0.007 MB/s\r\n"
       ]
      },
      {
       "output_type": "stream",
       "stream": "stdout",
       "text": [
        "   iplant.sh                       0.004 MB | 0.102 sec | 0 thr |  0.041 MB/s\r\n"
       ]
      },
      {
       "output_type": "stream",
       "stream": "stdout",
       "text": [
        "   output-last-stderr              0.000 MB | 0.084 sec | 0 thr |  0.000 MB/s\r\n"
       ]
      },
      {
       "output_type": "stream",
       "stream": "stdout",
       "text": [
        "   output-last-stdout              1.599 MB | 1.225 sec | 0 thr |  1.305 MB/s\r\n"
       ]
      },
      {
       "output_type": "stream",
       "stream": "stdout",
       "text": [
        "   script-condor-log               0.002 MB | 0.112 sec | 0 thr |  0.021 MB/s\r\n"
       ]
      },
      {
       "output_type": "stream",
       "stream": "stdout",
       "text": [
        "   script-error.log                0.000 MB | 0.080 sec | 0 thr |  0.000 MB/s\r\n"
       ]
      },
      {
       "output_type": "stream",
       "stream": "stdout",
       "text": [
        "   script-output.log               0.000 MB | 0.114 sec | 0 thr |  0.001 MB/s\r\n"
       ]
      },
      {
       "output_type": "stream",
       "stream": "stdout",
       "text": [
        "D- /Volumes/web/whale/fish546/iplant/Cuffdiff2_analysis1-2014-02-06-10-06-21.400/sorted_data :\r\n"
       ]
      },
      {
       "output_type": "stream",
       "stream": "stdout",
       "text": [
        "   genes.sorted_by_expressio       0.165 MB | 0.257 sec | 0 thr |  0.643 MB/s\r\n"
       ]
      },
      {
       "output_type": "stream",
       "stream": "stdout",
       "text": [
        "   genes.sorted_by_expressio       1.015 MB | 0.833 sec | 0 thr |  1.218 MB/s\r\n"
       ]
      },
      {
       "output_type": "stream",
       "stream": "stdout",
       "text": [
        "   genes.sorted_by_fold.sig.       0.165 MB | 0.213 sec | 0 thr |  0.774 MB/s\r\n"
       ]
      },
      {
       "output_type": "stream",
       "stream": "stdout",
       "text": [
        "   genes.sorted_by_fold.txt        1.015 MB | 0.938 sec | 0 thr |  1.082 MB/s\r\n"
       ]
      },
      {
       "output_type": "stream",
       "stream": "stdout",
       "text": [
        "   transcripts.sorted_by_exp       0.258 MB | 0.318 sec | 0 thr |  0.812 MB/s\r\n"
       ]
      },
      {
       "output_type": "stream",
       "stream": "stdout",
       "text": [
        "   transcripts.sorted_by_exp       2.252 MB | 1.778 sec | 0 thr |  1.266 MB/s\r\n"
       ]
      },
      {
       "output_type": "stream",
       "stream": "stdout",
       "text": [
        "   transcripts.sorted_by_fol       0.258 MB | 0.354 sec | 0 thr |  0.729 MB/s\r\n"
       ]
      },
      {
       "output_type": "stream",
       "stream": "stdout",
       "text": [
        "   transcripts.sorted_by_fol       2.252 MB | 1.613 sec | 0 thr |  1.396 MB/s\r\n"
       ]
      },
      {
       "output_type": "stream",
       "stream": "stdout",
       "text": [
        "   cuffdiff.stderr                 2.543 MB | 1.863 sec | 0 thr |  1.365 MB/s\r\n"
       ]
      },
      {
       "output_type": "stream",
       "stream": "stdout",
       "text": [
        "From server: NumThreads=6, addr:128.196.172.248, port:20279, cookie=1191899484\r\n"
       ]
      },
      {
       "output_type": "stream",
       "stream": "stdout",
       "text": [
        "   rebuilt.gtf                   179.009 MB | 33.993 sec | 6 thr |  5.266 MB/s\r\n"
       ]
      }
     ],
     "prompt_number": 26
    },
    {
     "cell_type": "code",
     "collapsed": false,
     "input": [
      "cd /Volumes/web/whale/fish546/iplant/ "
     ],
     "language": "python",
     "metadata": {},
     "outputs": [
      {
       "output_type": "stream",
       "stream": "stdout",
       "text": [
        "/Volumes/web/whale/fish546/iplant\n"
       ]
      }
     ],
     "prompt_number": 30
    },
    {
     "cell_type": "code",
     "collapsed": false,
     "input": [
      "ls"
     ],
     "language": "python",
     "metadata": {},
     "outputs": [
      {
       "output_type": "stream",
       "stream": "stdout",
       "text": [
        "\u001b[30m\u001b[43mCuffdiff2_analysis1-2014-02-06-10-06-21.400\u001b[m\u001b[m/\r\n",
        "\u001b[30m\u001b[43mCufflinks2_analysis1-2014-02-06-07-11-47.565\u001b[m\u001b[m/\r\n",
        "\u001b[30m\u001b[43mCuffmerge2_analysis1-2014-02-06-09-54-32.913\u001b[m\u001b[m/\r\n",
        "\u001b[30m\u001b[43mTopHat2-SE_analysis1-2014-02-05-16-28-28.598\u001b[m\u001b[m/\r\n"
       ]
      }
     ],
     "prompt_number": 33
    },
    {
     "cell_type": "code",
     "collapsed": false,
     "input": [
      "cd TopHat2-SE_analysis1-2014-02-05-16-28-28.598/"
     ],
     "language": "python",
     "metadata": {},
     "outputs": [
      {
       "output_type": "stream",
       "stream": "stdout",
       "text": [
        "/Volumes/web/whale/fish546/iplant/TopHat2-SE_analysis1-2014-02-05-16-28-28.598\n"
       ]
      }
     ],
     "prompt_number": 34
    },
    {
     "cell_type": "code",
     "collapsed": false,
     "input": [
      "ls"
     ],
     "language": "python",
     "metadata": {},
     "outputs": [
      {
       "output_type": "stream",
       "stream": "stdout",
       "text": [
        "\u001b[30m\u001b[43mT1_out\u001b[m\u001b[m/ \u001b[30m\u001b[43mT2_out\u001b[m\u001b[m/ \u001b[30m\u001b[43mU1_out\u001b[m\u001b[m/ \u001b[30m\u001b[43mU2_out\u001b[m\u001b[m/ \u001b[30m\u001b[43mbam\u001b[m\u001b[m/    \u001b[30m\u001b[43mlogs\u001b[m\u001b[m/\r\n"
       ]
      }
     ],
     "prompt_number": 35
    },
    {
     "cell_type": "code",
     "collapsed": false,
     "input": [
      "cd Cufflinks2_analysis1-2014-02-06-07-11-47.565/"
     ],
     "language": "python",
     "metadata": {},
     "outputs": [
      {
       "output_type": "stream",
       "stream": "stdout",
       "text": [
        "/Volumes/web/whale/fish546/iplant/Cufflinks2_analysis1-2014-02-06-07-11-47.565\n"
       ]
      }
     ],
     "prompt_number": 37
    },
    {
     "cell_type": "code",
     "collapsed": false,
     "input": [
      "ls"
     ],
     "language": "python",
     "metadata": {},
     "outputs": [
      {
       "output_type": "stream",
       "stream": "stdout",
       "text": [
        "\u001b[30m\u001b[43mT1_out\u001b[m\u001b[m/ \u001b[30m\u001b[43mT2_out\u001b[m\u001b[m/ \u001b[30m\u001b[43mU1_out\u001b[m\u001b[m/ \u001b[30m\u001b[43mU2_out\u001b[m\u001b[m/ \u001b[30m\u001b[43mgtf\u001b[m\u001b[m/    \u001b[30m\u001b[43mlogs\u001b[m\u001b[m/\r\n"
       ]
      }
     ],
     "prompt_number": 38
    },
    {
     "cell_type": "code",
     "collapsed": false,
     "input": [
      "cd Cuffmerge2_analysis1-2014-02-06-09-54-32.913/"
     ],
     "language": "python",
     "metadata": {},
     "outputs": [
      {
       "output_type": "stream",
       "stream": "stdout",
       "text": [
        "/Volumes/web/whale/fish546/iplant/Cuffmerge2_analysis1-2014-02-06-09-54-32.913\n"
       ]
      }
     ],
     "prompt_number": 40
    },
    {
     "cell_type": "code",
     "collapsed": false,
     "input": [
      "ls"
     ],
     "language": "python",
     "metadata": {},
     "outputs": [
      {
       "output_type": "stream",
       "stream": "stdout",
       "text": [
        "Crassostrea_gigas.GCA_000297895.1.21.dna_rm.toplevel.fa.fai\r\n",
        "\u001b[30m\u001b[43mcuffmerge_out\u001b[m\u001b[m/\r\n",
        "\u001b[30m\u001b[43mlogs\u001b[m\u001b[m/\r\n"
       ]
      }
     ],
     "prompt_number": 41
    },
    {
     "cell_type": "code",
     "collapsed": false,
     "input": [
      "cd Cuffdiff2_analysis1-2014-02-06-10-06-21.400/"
     ],
     "language": "python",
     "metadata": {},
     "outputs": [
      {
       "output_type": "stream",
       "stream": "stdout",
       "text": [
        "/Volumes/web/whale/fish546/iplant/Cuffdiff2_analysis1-2014-02-06-10-06-21.400\n"
       ]
      }
     ],
     "prompt_number": 43
    },
    {
     "cell_type": "code",
     "collapsed": false,
     "input": [
      "ls"
     ],
     "language": "python",
     "metadata": {},
     "outputs": [
      {
       "output_type": "stream",
       "stream": "stdout",
       "text": [
        "cuffdiff.stderr  \u001b[30m\u001b[43mgraphs\u001b[m\u001b[m/          rebuilt.gtf\r\n",
        "\u001b[30m\u001b[43mcuffdiff_out\u001b[m\u001b[m/    \u001b[30m\u001b[43mlogs\u001b[m\u001b[m/            \u001b[30m\u001b[43msorted_data\u001b[m\u001b[m/\r\n"
       ]
      }
     ],
     "prompt_number": 44
    },
    {
     "cell_type": "code",
     "collapsed": false,
     "input": [
      "cd graphs/"
     ],
     "language": "python",
     "metadata": {},
     "outputs": [
      {
       "output_type": "stream",
       "stream": "stdout",
       "text": [
        "/Volumes/web/whale/fish546/iplant/Cuffdiff2_analysis1-2014-02-06-10-06-21.400/graphs\n"
       ]
      }
     ],
     "prompt_number": 45
    },
    {
     "cell_type": "code",
     "collapsed": false,
     "input": [
      "ls"
     ],
     "language": "python",
     "metadata": {},
     "outputs": [
      {
       "output_type": "stream",
       "stream": "stdout",
       "text": [
        "Troco_Umbo_scatter_plot.png  density_plot.png\r\n",
        "Troco_Umbo_volcano_plot.png\r\n"
       ]
      }
     ],
     "prompt_number": 46
    },
    {
     "cell_type": "code",
     "collapsed": false,
     "input": [
      "%pylab inline"
     ],
     "language": "python",
     "metadata": {},
     "outputs": [
      {
       "output_type": "stream",
       "stream": "stdout",
       "text": [
        "Populating the interactive namespace from numpy and matplotlib\n"
       ]
      }
     ],
     "prompt_number": 50
    },
    {
     "cell_type": "markdown",
     "metadata": {},
     "source": [
      "![xy](http://eagle.fish.washington.edu/whale/fish546/iplant/Cuffdiff2_analysis1-2014-02-06-10-06-21.400/graphs/Troco_Umbo_scatter_plot.png)"
     ]
    },
    {
     "cell_type": "markdown",
     "metadata": {},
     "source": [
      "All data <http://eagle.fish.washington.edu/whale/index.php?dir=fish546%2Fiplant%2F>"
     ]
    },
    {
     "cell_type": "raw",
     "metadata": {},
     "source": [
      "!head /Volumes/web/whale/fish546/iplant/Cuffdiff2_analysis1-2014-02-06-10-06-21.400/sorted_data/genes.sorted_by_expression.sig.txt"
     ]
    },
    {
     "cell_type": "code",
     "collapsed": false,
     "input": [
      "!sort -k8 -n /Volumes/web/whale/fish546/iplant/Cuffdiff2_analysis1-2014-02-06-10-06-21.400/sorted_data/genes.sorted_by_expression.sig.txt >/Volumes/web/cnidarian/fish546sort_gene.txt"
     ],
     "language": "python",
     "metadata": {},
     "outputs": [],
     "prompt_number": 8
    },
    {
     "cell_type": "code",
     "collapsed": false,
     "input": [
      "!tail -100 /Volumes/web/cnidarian/fish546sort_gene.txt"
     ],
     "language": "python",
     "metadata": {},
     "outputs": [
      {
       "output_type": "stream",
       "stream": "stdout",
       "text": [
        "EKC37475\tCGI_10004362\tTroco\tUmbo\t14.84\tUP\t2.26\t0.0453296\t\r\n",
        "EKC39735\tCGI_10018153\tTroco\tUmbo\t2.44\tDOWN\t20.77\t0.0453296\t\r\n",
        "XLOC_008830\t-\tTroco\tUmbo\t6.27\tUP\t12.18\t0.0453296\t\r\n",
        "XLOC_019776\t-\tTroco\tUmbo\t2.10\tDOWN\t73.97\t0.0453296\t\r\n",
        "XLOC_036014\t-\tTroco\tUmbo\t10.79\tDOWN\t3.87\t0.0453296\t\r\n",
        "EKC38006\tCGI_10006955\tTroco\tUmbo\t3.40\tDOWN\t19.78\t0.0455229\t\r\n",
        "EKC39499\tCGI_10027904\tTroco\tUmbo\t4.51\tDOWN\t3.57\t0.0455229\t\r\n",
        "XLOC_028766\t-\tTroco\tUmbo\t2.17\tUP\t89.68\t0.0455229\t\r\n",
        "EKC20773\tCGI_10005392\tTroco\tUmbo\t3.65\tUP\t7.95\t0.0457067\t\r\n",
        "EKC30357\tCGI_10021831\tTroco\tUmbo\t2.72\tDOWN\t53.16\t0.0457067\t\r\n",
        "XLOC_008243\t-\tTroco\tUmbo\t2.33\tDOWN\t47.08\t0.0457067\t\r\n",
        "EKC20007\tCGI_10007068\tTroco\tUmbo\t21.26\tUP\t17.52\t0.0458809\t\r\n",
        "EKC22340\tCGI_10002457\tTroco\tUmbo\t2.17\tUP\t19.26\t0.0458809\t\r\n",
        "XLOC_016380\t-\tTroco\tUmbo\t5.37\tUP\t23.55\t0.0458809\t\r\n",
        "XLOC_029734\t-\tTroco\tUmbo\t3.07\tUP\t169.21\t0.0458809\t\r\n",
        "XLOC_033553\t-\tTroco\tUmbo\t2.93\tUP\t305.69\t0.0458809\t\r\n",
        "EKC19008\tCGI_10009987\tTroco\tUmbo\t4.07\tDOWN\t5.55\t0.0460453\t\r\n",
        "EKC28352\tCGI_10011576\tTroco\tUmbo\t2.09\tDOWN\t102.97\t0.0460453\t\r\n",
        "EKC30991\tCGI_10024990\tTroco\tUmbo\t2.69\tDOWN\t404.78\t0.0460453\t\r\n",
        "EKC36284\tCGI_10010991\tTroco\tUmbo\t6.61\tDOWN\t1.57\t0.0460453\t\r\n",
        "EKC37698\tCGI_10020451\tTroco\tUmbo\t5.62\tDOWN\t18.89\t0.0460453\t\r\n",
        "EKC28941\tCGI_10016445\tTroco\tUmbo\t4.33\tUP\t4.63\t0.0462281\t\r\n",
        "EKC36463\tCGI_10026996\tTroco\tUmbo\t3.58\tUP\t4.17\t0.0462281\t\r\n",
        "EKC39516\tCGI_10027926\tTroco\tUmbo\t6.64\tUP\t14.89\t0.0462281\t\r\n",
        "XLOC_000090\t-\tTroco\tUmbo\t2.01\tDOWN\t3655.26\t0.0462281\t\r\n",
        "EKC24470\tCGI_10019572\tTroco\tUmbo\t2.60\tDOWN\t7.05\t0.0464106\t\r\n",
        "XLOC_003648\t-\tTroco\tUmbo\t2.29\tUP\t58.71\t0.0464106\t\r\n",
        "XLOC_025872\t-\tTroco\tUmbo\t4.58\tDOWN\t7.88\t0.0464106\t\r\n",
        "XLOC_025928\tCGI_10010307\tTroco\tUmbo\t3.12\tDOWN\t57.19\t0.0464106\t\r\n",
        "EKC23378\tCGI_10012127\tTroco\tUmbo\t2.96\tDOWN\t244.69\t0.0465834\t\r\n",
        "EKC35004\tCGI_10023624\tTroco\tUmbo\t13.31\tUP\t3.17\t0.0465834\t\r\n",
        "XLOC_000133\t-\tTroco\tUmbo\t5.34\tDOWN\t841.51\t0.0465834\t\r\n",
        "XLOC_004846\tCGI_10004899\tTroco\tUmbo\t2.64\tUP\t8.34\t0.0465834\t\r\n",
        "XLOC_005195\t-\tTroco\tUmbo\t4.05\tUP\t42.18\t0.0465834\t\r\n",
        "XLOC_023099\t-\tTroco\tUmbo\t2.19\tDOWN\t90.02\t0.0467936\t\r\n",
        "EKC23538\tCGI_10007959\tTroco\tUmbo\t2.09\tDOWN\t51.83\t0.0469848\t\r\n",
        "EKC40818\tCGI_10026501\tTroco\tUmbo\t17.09\tUP\t3.20\t0.0469848\t\r\n",
        "XLOC_014332\t-\tTroco\tUmbo\t2.59\tUP\t14.38\t0.0469848\t\r\n",
        "EKC22776\tCGI_10001495\tTroco\tUmbo\t64.30\tDOWN\t18.74\t0.0471853\t\r\n",
        "EKC24585\tCGI_10024373\tTroco\tUmbo\t21.03\tDOWN\t13.52\t0.0471853\t\r\n",
        "EKC22688\tCGI_10001711\tTroco\tUmbo\t10.52\tUP\t14.58\t0.047376\t\r\n",
        "EKC35331\tCGI_10009319\tTroco\tUmbo\t8.81\tDOWN\t13.78\t0.047376\t\r\n",
        "EKC37827\tCGI_10017650\tTroco\tUmbo\t3.03\tDOWN\t49.91\t0.047376\t\r\n",
        "EKC32649\tCGI_10011464\tTroco\tUmbo\t13.03\tUP\t2.31\t0.0475377\t\r\n",
        "EKC40671\tCGI_10014094\tTroco\tUmbo\t13.22\tUP\t2.50\t0.0475377\t\r\n",
        "EKC42689\tCGI_10023910\tTroco\tUmbo\t13.66\tUP\t4.16\t0.0475377\t\r\n",
        "XLOC_001186\tCGI_10000991\tTroco\tUmbo\t3.80\tDOWN\t95.81\t0.0475377\t\r\n",
        "XLOC_004854\t-\tTroco\tUmbo\t3.19\tDOWN\t494.38\t0.0475377\t\r\n",
        "XLOC_031373\t-\tTroco\tUmbo\t13.67\tUP\t6.56\t0.0475377\t\r\n",
        "EKC19599\tCGI_10008154\tTroco\tUmbo\t2.77\tDOWN\t18.33\t0.0477086\t\r\n",
        "EKC20292\tCGI_10006339\tTroco\tUmbo\t5391.68\tUP\t1.01\t0.0477086\t\r\n",
        "EKC24893\tCGI_10021492\tTroco\tUmbo\t3.96\tDOWN\t7.22\t0.0477086\t\r\n",
        "EKC26706\tCGI_10028240\tTroco\tUmbo\t4.54\tUP\t2.42\t0.0477086\t\r\n",
        "EKC34691\tCGI_10026828\tTroco\tUmbo\t2.48\tUP\t14.28\t0.0477086\t\r\n",
        "EKC39440\tCGI_10020043\tTroco\tUmbo\t2.65\tUP\t2.88\t0.0479082\t\r\n",
        "EKC39718\tCGI_10018135\tTroco\tUmbo\t2.11\tUP\t43.18\t0.0479082\t\r\n",
        "EKC24748\tCGI_10016919\tTroco\tUmbo\t2.56\tDOWN\t41.02\t0.0480688\t\r\n",
        "EKC31094\tCGI_10028719\tTroco\tUmbo\t2.80\tUP\t94.15\t0.0480688\t\r\n",
        "EKC35815\tCGI_10019085\tTroco\tUmbo\t5.28\tDOWN\t15.91\t0.0480688\t\r\n",
        "EKC38040\tCGI_10007775\tTroco\tUmbo\t4.30\tUP\t2.77\t0.0480688\t\r\n",
        "EKC42277\tCGI_10017847\tTroco\tUmbo\t4.09\tUP\t12.63\t0.0480688\t\r\n",
        "XLOC_010164\t-\tTroco\tUmbo\t2.15\tDOWN\t54.85\t0.0480688\t\r\n",
        "EKC17945\tCGI_10000015\tTroco\tUmbo\t2.13\tDOWN\t450.32\t0.0482194\t\r\n",
        "EKC26388\tCGI_10025849\tTroco\tUmbo\t1.98\tDOWN\t1418.81\t0.0482194\t\r\n",
        "EKC30309\tCGI_10024543\tTroco\tUmbo\t5.79\tUP\t2.08\t0.0482194\t\r\n",
        "EKC31639\tCGI_10009151\tTroco\tUmbo\t8.18\tUP\t3.93\t0.0482194\t\r\n",
        "EKC32392\tCGI_10022269\tTroco\tUmbo\t3.80\tUP\t1.96\t0.0482194\t\r\n",
        "EKC36697\tCGI_10010964\tTroco\tUmbo\t2.16\tDOWN\t38.89\t0.0482194\t\r\n",
        "EKC41655\tCGI_10015739\tTroco\tUmbo\t2.83\tDOWN\t19.54\t0.0482194\t\r\n",
        "EKC19211\tCGI_10009331\tTroco\tUmbo\t7.09\tUP\t3.80\t0.0484084\t\r\n",
        "XLOC_030085\tCGI_10023149\tTroco\tUmbo\t2.18\tDOWN\t63.54\t0.0484084\t\r\n",
        "XLOC_034191\t-\tTroco\tUmbo\t15.88\tDOWN\t151.36\t0.0484084\t\r\n",
        "EKC23049\tCGI_10000765\tTroco\tUmbo\t51.81\tUP\t3.02\t0.0485777\t\r\n",
        "EKC24201\tCGI_10011140\tTroco\tUmbo\t16.59\tUP\t11.20\t0.0485777\t\r\n",
        "EKC38577\tCGI_10025930\tTroco\tUmbo\t10.45\tDOWN\t3.83\t0.0485777\t\r\n",
        "XLOC_006086\t-\tTroco\tUmbo\t5.11\tDOWN\t311.86\t0.0485777\t\r\n",
        "XLOC_013300\tCGI_10011136\tTroco\tUmbo\t9.23\tUP\t3.76\t0.0485777\t\r\n",
        "EKC42205\tCGI_10028002\tTroco\tUmbo\t2.91\tDOWN\t20.39\t0.0487857\t\r\n",
        "EKC36733\tCGI_10024965\tTroco\tUmbo\t2.74\tUP\t5.98\t0.0489839\t\r\n",
        "XLOC_006644\t-\tTroco\tUmbo\t10.24\tDOWN\t44.54\t0.0489839\t\r\n",
        "EKC27759\tCGI_10015674\tTroco\tUmbo\t8.21\tUP\t2.12\t0.049172\t\r\n",
        "XLOC_014884\t-\tTroco\tUmbo\t6.49\tUP\t7.11\t0.049172\t\r\n",
        "EKC22964\tCGI_10001026\tTroco\tUmbo\t110.46\tUP\t26.53\t0.0493302\t\r\n",
        "EKC23640\tCGI_10009021\tTroco\tUmbo\t205.22\tUP\t48.28\t0.0493302\t\r\n",
        "EKC26438\tCGI_10016881\tTroco\tUmbo\t140.92\tUP\t54.66\t0.0493302\t\r\n",
        "XLOC_011538\t-\tTroco\tUmbo\t19.76\tDOWN\t17404.94\t0.0493302\t\r\n",
        "XLOC_013596\t-\tTroco\tUmbo\t67.10\tUP\t97.19\t0.0493302\t\r\n",
        "EKC26111\tCGI_10010243\tTroco\tUmbo\t2.10\tDOWN\t39.36\t0.0495079\t\r\n",
        "EKC29657\tCGI_10026039\tTroco\tUmbo\t4.69\tUP\t24.15\t0.0495079\t\r\n",
        "EKC30968\tCGI_10019769\tTroco\tUmbo\t2.62\tDOWN\t15.17\t0.0495079\t\r\n",
        "XLOC_015656\tCGI_10028852\tTroco\tUmbo\t2.89\tDOWN\t34.63\t0.0495079\t\r\n",
        "EKC35109\tCGI_10015126\tTroco\tUmbo\t2.21\tUP\t18.44\t0.0496952\t\r\n",
        "EKC35839\tCGI_10019251\tTroco\tUmbo\t9.81\tDOWN\t2.33\t0.0496952\t\r\n",
        "XLOC_030804\tCGI_10010458\tTroco\tUmbo\t5.40\tUP\t22.03\t0.0496952\t\r\n",
        "EKC18589\tCGI_10011745\tTroco\tUmbo\t12.30\tUP\t2.92\t0.0498525\t\r\n",
        "EKC22366\tCGI_10002407\tTroco\tUmbo\t1.98\tDOWN\t38.02\t0.0498525\t\r\n",
        "EKC26781\tCGI_10013211\tTroco\tUmbo\t12.60\tUP\t22.29\t0.0498525\t\r\n",
        "EKC30487\tCGI_10000421\tTroco\tUmbo\t2.80\tDOWN\t111.80\t0.0498525\t\r\n",
        "EKC31928\tCGI_10012144\tTroco\tUmbo\t2.02\tDOWN\t30.63\t0.0498525\t\r\n",
        "XLOC_000878\t-\tTroco\tUmbo\t12.54\tUP\t7.81\t0.0498525\t\r\n"
       ]
      }
     ],
     "prompt_number": 13
    },
    {
     "cell_type": "code",
     "collapsed": false,
     "input": [
      "!python /Users/sr320/sqlshare-pythonclient/tools/singleupload.py -d fish546_DEgene_out /Volumes/web/cnidarian/fish546sort_gene.txt"
     ],
     "language": "python",
     "metadata": {},
     "outputs": [
      {
       "output_type": "stream",
       "stream": "stdout",
       "text": [
        "processing chunk line 0 to 2988 (0.50559592247 s elapsed)\r\n",
        "pushing /Volumes/web/cnidarian/fish546sort_gene.txt...\r\n"
       ]
      },
      {
       "output_type": "stream",
       "stream": "stdout",
       "text": [
        "parsing 25D12DC3...\r\n"
       ]
      },
      {
       "output_type": "stream",
       "stream": "stdout",
       "text": [
        "finished fish546_DEgene_out\r\n"
       ]
      }
     ],
     "prompt_number": 21
    },
    {
     "cell_type": "code",
     "collapsed": false,
     "input": [
      "cd /Volumes/web/cnidarian/"
     ],
     "language": "python",
     "metadata": {},
     "outputs": [
      {
       "output_type": "stream",
       "stream": "stdout",
       "text": [
        "/Volumes/web/cnidarian\n"
       ]
      }
     ],
     "prompt_number": 23
    },
    {
     "cell_type": "code",
     "collapsed": false,
     "input": [
      "!python /Users/sr320/sqlshare-pythonclient/tools/fetchdata.py -s \"SELECT * FROM [sr320@washington.edu].[fish546_DEgene_out]deg left join [sr320@washington.edu].[qDOD Cgigas Gene Descriptions (Swiss-prot)]sp on deg.gene_name = sp.CGI_ID\" -f tsv -o fish546_DEGjoinSP.txt"
     ],
     "language": "python",
     "metadata": {},
     "outputs": [],
     "prompt_number": 24
    },
    {
     "cell_type": "code",
     "collapsed": false,
     "input": [
      "!head fish546_DEGjoinSP.txt"
     ],
     "language": "python",
     "metadata": {},
     "outputs": [
      {
       "output_type": "stream",
       "stream": "stdout",
       "text": [
        "gene_id\tgene_name\tsample1\tsample2\tfold_change\tdirection\ttotal_fpkm\tq-value\tgene_description\tCGI_ID\tSPID\tevalue\tDescription\r",
        "\r\n",
        "XLOC_000003\t-\tTroco\tUmbo\t3.98\tDOWN\t535.89\t0.00168522\t\t\t\t\t\r",
        "\r\n",
        "XLOC_000004\t-\tTroco\tUmbo\t3.11\tUP\t883.48\t0.0125195\t\t\t\t\t\r",
        "\r\n",
        "XLOC_000014\t-\tTroco\tUmbo\t3.27\tUP\t102.63\t0.0303472\t\t\t\t\t\r",
        "\r\n",
        "XLOC_000018\t-\tTroco\tUmbo\t11.28\tUP\t86.26\t0.0153821\t\t\t\t\t\r",
        "\r\n",
        "XLOC_000022\t-\tTroco\tUmbo\t4.2\tDOWN\t105.07\t0.00764577\t\t\t\t\t\r",
        "\r\n",
        "XLOC_000028\t-\tTroco\tUmbo\t2.97\tUP\t310.33\t0.00398356\t\t\t\t\t\r",
        "\r\n",
        "XLOC_000051\t-\tTroco\tUmbo\t2.98\tDOWN\t277.81\t0.0125195\t\t\t\t\t\r",
        "\r\n",
        "XLOC_000060\t-\tTroco\tUmbo\t3.35\tDOWN\t129.55\t0.0399222\t\t\t\t\t\r",
        "\r\n",
        "XLOC_000085\t-\tTroco\tUmbo\t2.52\tDOWN\t128.84\t0.0105174\t\t\t\t\t\r",
        "\r\n"
       ]
      }
     ],
     "prompt_number": 25
    },
    {
     "cell_type": "code",
     "collapsed": false,
     "input": [
      "!awk '{ print $10 }' fish546_DEGjoinSP.txt > fish546_DEGjoinSPonly.txt"
     ],
     "language": "python",
     "metadata": {},
     "outputs": [],
     "prompt_number": 28
    },
    {
     "cell_type": "code",
     "collapsed": false,
     "input": [
      "!cat fish546_DEGjoinSPonly.txt"
     ],
     "language": "python",
     "metadata": {},
     "outputs": [
      {
       "output_type": "stream",
       "stream": "stdout",
       "text": [
        "CGI_ID\r\n",
        "\r\n",
        "\r\n",
        "\r\n",
        "\r\n",
        "\r\n",
        "\r\n",
        "\r\n",
        "\r\n",
        "\r\n",
        "\r\n",
        "\r\n",
        "\r\n",
        "\r\n",
        "\r\n",
        "\r\n",
        "\r\n",
        "\r\n",
        "\r\n",
        "\r\n",
        "\r\n",
        "\r\n",
        "\r\n",
        "\r\n",
        "\r\n",
        "\r\n",
        "\r\n",
        "\r\n",
        "\r\n",
        "\r\n",
        "\r\n",
        "\r\n",
        "\r\n",
        "\r\n",
        "\r\n",
        "\r\n",
        "\r\n",
        "\r\n",
        "\r\n",
        "\r\n",
        "\r\n",
        "\r\n",
        "\r\n",
        "\r\n",
        "\r\n",
        "\r\n",
        "\r\n",
        "\r\n",
        "\r\n",
        "\r\n",
        "\r\n",
        "\r\n",
        "\r\n",
        "\r\n",
        "\r\n",
        "\r\n",
        "\r\n",
        "\r\n",
        "\r\n",
        "\r\n",
        "\r\n",
        "\r\n",
        "\r\n",
        "\r\n",
        "\r\n",
        "\r\n",
        "\r\n",
        "\r\n",
        "\r\n",
        "\r\n",
        "\r\n",
        "\r\n",
        "\r\n",
        "\r\n",
        "\r\n",
        "\r\n",
        "\r\n",
        "\r\n",
        "\r\n",
        "\r\n",
        "\r\n",
        "\r\n",
        "\r\n",
        "\r\n",
        "\r\n",
        "\r\n",
        "\r\n",
        "\r\n",
        "\r\n",
        "\r\n",
        "\r\n",
        "\r\n",
        "\r\n",
        "\r\n",
        "\r\n",
        "\r\n",
        "\r\n",
        "\r\n",
        "\r\n",
        "\r\n",
        "\r\n",
        "\r\n",
        "\r\n",
        "\r\n",
        "\r\n",
        "\r\n",
        "\r\n",
        "\r\n",
        "\r\n",
        "\r\n",
        "\r\n",
        "\r\n",
        "\r\n",
        "\r\n",
        "\r\n",
        "\r\n",
        "\r\n",
        "\r\n",
        "\r\n",
        "\r\n",
        "\r\n",
        "\r\n",
        "\r\n",
        "\r\n",
        "\r\n",
        "\r\n",
        "\r\n",
        "\r\n",
        "\r\n",
        "\r\n",
        "\r\n",
        "\r\n",
        "\r\n",
        "\r\n",
        "\r\n",
        "\r\n",
        "\r\n",
        "\r\n",
        "\r\n",
        "\r\n",
        "\r\n",
        "\r\n",
        "\r\n",
        "\r\n",
        "\r\n",
        "\r\n",
        "\r\n",
        "\r\n",
        "\r\n",
        "\r\n",
        "\r\n",
        "\r\n",
        "\r\n",
        "\r\n",
        "\r\n",
        "\r\n",
        "\r\n",
        "\r\n",
        "\r\n",
        "\r\n",
        "\r\n",
        "\r\n",
        "\r\n",
        "\r\n",
        "\r\n",
        "\r\n",
        "\r\n",
        "\r\n",
        "\r\n",
        "\r\n",
        "\r\n",
        "\r\n",
        "\r\n",
        "\r\n",
        "\r\n",
        "\r\n",
        "\r\n",
        "\r\n",
        "\r\n",
        "\r\n",
        "\r\n",
        "\r\n",
        "\r\n",
        "\r\n",
        "\r\n",
        "\r\n",
        "\r\n",
        "\r\n",
        "\r\n",
        "\r\n",
        "\r\n",
        "\r\n",
        "\r\n",
        "\r\n",
        "\r\n",
        "\r\n",
        "\r\n",
        "\r\n",
        "\r\n",
        "\r\n",
        "\r\n",
        "\r\n",
        "\r\n",
        "\r\n",
        "\r\n",
        "\r\n",
        "\r\n",
        "\r\n",
        "\r\n",
        "\r\n",
        "\r\n",
        "\r\n",
        "\r\n",
        "\r\n",
        "\r\n",
        "\r\n",
        "\r\n",
        "\r\n",
        "\r\n",
        "\r\n",
        "\r\n",
        "\r\n",
        "\r\n",
        "\r\n",
        "\r\n",
        "\r\n",
        "\r\n",
        "\r\n",
        "\r\n",
        "\r\n",
        "\r\n",
        "\r\n",
        "\r\n",
        "\r\n",
        "\r\n",
        "\r\n",
        "\r\n",
        "\r\n",
        "\r\n",
        "\r\n",
        "\r\n",
        "\r\n",
        "\r\n",
        "\r\n",
        "\r\n",
        "\r\n",
        "\r\n",
        "\r\n",
        "\r\n",
        "\r\n",
        "\r\n",
        "\r\n",
        "\r\n",
        "\r\n",
        "\r\n",
        "\r\n",
        "\r\n",
        "\r\n",
        "\r\n",
        "\r\n",
        "\r\n",
        "\r\n",
        "\r\n",
        "\r\n",
        "\r\n",
        "\r\n",
        "\r\n",
        "\r\n",
        "\r\n",
        "\r\n",
        "\r\n",
        "\r\n",
        "\r\n",
        "\r\n",
        "\r\n",
        "\r\n",
        "\r\n",
        "\r\n",
        "\r\n",
        "\r\n",
        "\r\n",
        "\r\n",
        "\r\n",
        "\r\n",
        "\r\n",
        "\r\n",
        "\r\n",
        "\r\n",
        "\r\n",
        "\r\n",
        "\r\n",
        "\r\n",
        "\r\n",
        "\r\n",
        "\r\n",
        "\r\n",
        "\r\n",
        "\r\n",
        "\r\n",
        "\r\n",
        "\r\n",
        "\r\n",
        "\r\n",
        "\r\n",
        "\r\n",
        "\r\n",
        "\r\n",
        "\r\n",
        "\r\n",
        "\r\n",
        "\r\n",
        "\r\n",
        "\r\n",
        "\r\n",
        "\r\n",
        "\r\n",
        "\r\n",
        "\r\n",
        "\r\n",
        "\r\n",
        "\r\n",
        "\r\n",
        "\r\n",
        "\r\n",
        "\r\n",
        "\r\n",
        "\r\n",
        "\r\n",
        "\r\n",
        "\r\n",
        "\r\n",
        "\r\n",
        "\r\n",
        "\r\n",
        "\r\n",
        "\r\n",
        "\r\n",
        "\r\n",
        "\r\n",
        "\r\n",
        "\r\n",
        "\r\n",
        "\r\n",
        "\r\n",
        "\r\n",
        "\r\n",
        "\r\n",
        "\r\n",
        "\r\n",
        "\r\n",
        "\r\n",
        "\r\n",
        "\r\n",
        "\r\n",
        "\r\n",
        "\r\n",
        "\r\n",
        "\r\n",
        "\r\n",
        "\r\n",
        "\r\n",
        "\r\n",
        "\r\n",
        "\r\n",
        "\r\n",
        "\r\n",
        "\r\n",
        "\r\n",
        "\r\n",
        "\r\n",
        "\r\n",
        "\r\n",
        "\r\n",
        "\r\n",
        "\r\n",
        "\r\n",
        "\r\n",
        "\r\n",
        "\r\n",
        "\r\n",
        "\r\n",
        "\r\n",
        "\r\n",
        "\r\n",
        "\r\n",
        "\r\n",
        "\r\n",
        "\r\n",
        "\r\n",
        "\r\n",
        "\r\n",
        "\r\n",
        "\r\n",
        "\r\n",
        "\r\n",
        "\r\n",
        "\r\n",
        "\r\n",
        "\r\n",
        "\r\n",
        "\r\n",
        "\r\n",
        "\r\n",
        "\r\n",
        "\r\n",
        "\r\n",
        "\r\n",
        "\r\n",
        "\r\n",
        "\r\n",
        "\r\n",
        "\r\n",
        "\r\n",
        "\r\n",
        "\r\n",
        "\r\n",
        "\r\n",
        "\r\n",
        "\r\n",
        "\r\n",
        "\r\n",
        "\r\n",
        "\r\n",
        "\r\n",
        "\r\n",
        "\r\n",
        "\r\n",
        "\r\n",
        "\r\n",
        "\r\n",
        "\r\n",
        "\r\n",
        "\r\n",
        "\r\n",
        "\r\n",
        "\r\n",
        "\r\n",
        "\r\n",
        "\r\n",
        "\r\n",
        "\r\n",
        "\r\n",
        "\r\n",
        "\r\n",
        "\r\n",
        "\r\n",
        "\r\n",
        "\r\n",
        "\r\n",
        "\r\n",
        "\r\n",
        "\r\n",
        "\r\n",
        "\r\n",
        "\r\n",
        "\r\n",
        "\r\n",
        "\r\n",
        "\r\n",
        "\r\n",
        "\r\n",
        "\r\n",
        "\r\n",
        "\r\n",
        "\r\n",
        "\r\n",
        "\r\n",
        "\r\n",
        "\r\n",
        "\r\n",
        "\r\n",
        "\r\n",
        "\r\n",
        "\r\n",
        "\r\n",
        "\r\n",
        "\r\n",
        "\r\n",
        "\r\n",
        "\r\n",
        "\r\n",
        "\r\n",
        "\r\n",
        "\r\n",
        "\r\n",
        "\r\n",
        "\r\n",
        "\r\n",
        "\r\n",
        "\r\n",
        "\r\n",
        "\r\n",
        "\r\n",
        "\r\n",
        "\r\n",
        "\r\n",
        "\r\n",
        "\r\n",
        "\r\n",
        "\r\n",
        "\r\n",
        "\r\n",
        "\r\n",
        "\r\n",
        "\r\n",
        "\r\n",
        "\r\n",
        "\r\n",
        "\r\n",
        "\r\n",
        "\r\n",
        "\r\n",
        "\r\n",
        "\r\n",
        "\r\n",
        "\r\n",
        "\r\n",
        "\r\n",
        "\r\n",
        "\r\n",
        "\r\n",
        "\r\n",
        "\r\n",
        "\r\n",
        "\r\n",
        "\r\n",
        "\r\n",
        "\r\n",
        "\r\n",
        "\r\n",
        "\r\n",
        "\r\n",
        "\r\n",
        "\r\n",
        "\r\n",
        "\r\n",
        "\r\n",
        "\r\n",
        "\r\n",
        "\r\n",
        "\r\n",
        "\r\n",
        "\r\n",
        "\r\n",
        "\r\n",
        "\r\n",
        "\r\n",
        "\r\n",
        "\r\n",
        "\r\n",
        "\r\n",
        "\r\n",
        "\r\n",
        "\r\n",
        "\r\n",
        "\r\n",
        "\r\n",
        "\r\n",
        "\r\n",
        "\r\n",
        "\r\n",
        "\r\n",
        "\r\n",
        "\r\n",
        "\r\n",
        "\r\n",
        "\r\n",
        "\r\n",
        "\r\n",
        "\r\n",
        "\r\n",
        "\r\n",
        "\r\n",
        "\r\n",
        "\r\n",
        "\r\n",
        "\r\n",
        "\r\n",
        "\r\n",
        "\r\n",
        "\r\n",
        "\r\n",
        "\r\n",
        "\r\n",
        "\r\n",
        "\r\n",
        "\r\n",
        "\r\n",
        "\r\n",
        "\r\n",
        "\r\n",
        "\r\n",
        "\r\n",
        "\r\n",
        "\r\n",
        "\r\n",
        "\r\n",
        "\r\n",
        "\r\n",
        "\r\n",
        "\r\n",
        "\r\n",
        "\r\n",
        "\r\n",
        "\r\n",
        "\r\n",
        "\r\n",
        "\r\n",
        "\r\n",
        "\r\n",
        "\r\n",
        "\r\n",
        "\r\n",
        "\r\n",
        "\r\n",
        "\r\n",
        "\r\n",
        "\r\n",
        "\r\n",
        "\r\n",
        "\r\n",
        "\r\n",
        "\r\n",
        "\r\n",
        "\r\n",
        "\r\n",
        "\r\n",
        "\r\n",
        "\r\n",
        "\r\n",
        "\r\n",
        "\r\n",
        "\r\n",
        "\r\n",
        "\r\n",
        "\r\n",
        "\r\n",
        "\r\n",
        "\r\n",
        "\r\n",
        "\r\n",
        "\r\n",
        "\r\n",
        "\r\n",
        "\r\n",
        "\r\n",
        "\r\n",
        "\r\n",
        "\r\n",
        "\r\n",
        "\r\n",
        "\r\n",
        "\r\n",
        "\r\n",
        "\r\n",
        "\r\n",
        "\r\n",
        "\r\n",
        "\r\n",
        "\r\n",
        "\r\n",
        "\r\n",
        "\r\n",
        "\r\n",
        "\r\n",
        "\r\n",
        "\r\n",
        "\r\n",
        "\r\n",
        "\r\n",
        "\r\n",
        "\r\n",
        "\r\n",
        "\r\n",
        "\r\n",
        "\r\n",
        "\r\n",
        "\r\n",
        "\r\n",
        "\r\n",
        "\r\n",
        "\r\n",
        "\r\n",
        "\r\n",
        "\r\n",
        "\r\n",
        "\r\n",
        "\r\n",
        "\r\n",
        "\r\n",
        "\r\n",
        "\r\n",
        "\r\n",
        "\r\n",
        "\r\n",
        "\r\n",
        "\r\n",
        "\r\n",
        "\r\n",
        "\r\n",
        "\r\n",
        "\r\n",
        "\r\n",
        "\r\n",
        "\r\n",
        "\r\n",
        "\r\n",
        "\r\n",
        "\r\n",
        "\r\n",
        "\r\n",
        "\r\n",
        "\r\n",
        "\r\n",
        "\r\n",
        "\r\n",
        "\r\n",
        "\r\n",
        "\r\n",
        "\r\n",
        "\r\n",
        "\r\n",
        "\r\n",
        "\r\n",
        "\r\n",
        "\r\n",
        "\r\n",
        "\r\n",
        "\r\n",
        "\r\n",
        "\r\n",
        "\r\n",
        "\r\n",
        "\r\n",
        "\r\n",
        "\r\n",
        "\r\n",
        "\r\n",
        "\r\n",
        "\r\n",
        "\r\n",
        "\r\n",
        "\r\n",
        "\r\n",
        "\r\n",
        "\r\n",
        "\r\n",
        "\r\n",
        "\r\n",
        "\r\n",
        "\r\n",
        "\r\n",
        "\r\n",
        "\r\n",
        "\r\n",
        "\r\n",
        "\r\n",
        "\r\n",
        "\r\n",
        "\r\n",
        "\r\n",
        "\r\n",
        "\r\n",
        "\r\n",
        "\r\n",
        "\r\n",
        "\r\n",
        "\r\n",
        "\r\n",
        "\r\n",
        "\r\n",
        "\r\n",
        "\r\n",
        "\r\n",
        "\r\n",
        "\r\n",
        "\r\n",
        "\r\n",
        "\r\n",
        "\r\n",
        "\r\n",
        "\r\n",
        "\r\n",
        "\r\n",
        "\r\n",
        "\r\n",
        "\r\n",
        "\r\n",
        "\r\n",
        "\r\n",
        "\r\n",
        "\r\n",
        "\r\n",
        "\r\n",
        "\r\n",
        "\r\n",
        "\r\n",
        "\r\n",
        "\r\n",
        "\r\n",
        "\r\n",
        "\r\n",
        "\r\n",
        "\r\n",
        "\r\n",
        "\r\n",
        "\r\n",
        "\r\n",
        "\r\n",
        "\r\n",
        "\r\n",
        "\r\n",
        "\r\n",
        "\r\n",
        "\r\n",
        "\r\n",
        "\r\n",
        "\r\n",
        "\r\n",
        "\r\n",
        "\r\n",
        "\r\n",
        "\r\n",
        "\r\n",
        "\r\n",
        "\r\n",
        "\r\n",
        "\r\n",
        "\r\n",
        "Q9BYW2\r\n",
        "P47835\r\n",
        "Q99NE9\r\n",
        "P10817\r\n",
        "Q5RF33\r\n",
        "A7Y2W8\r\n",
        "P84245\r\n",
        "P23038\r\n",
        "P47727\r\n",
        "\r\n",
        "P37380\r\n",
        "\r\n",
        "\r\n",
        "\r\n",
        "D2GXS7\r\n",
        "P39963\r\n",
        "Q91755\r\n",
        "\r\n",
        "O70277\r\n",
        "O61462\r\n",
        "O75382\r\n",
        "P49165\r\n",
        "\r\n",
        "O35783\r\n",
        "Q9ESN6\r\n",
        "Q8WPJ2\r\n",
        "\r\n",
        "\r\n",
        "Q8C525\r\n",
        "\r\n",
        "\r\n",
        "Q801E2\r\n",
        "O75382\r\n",
        "O75382\r\n",
        "P40631\r\n",
        "\r\n",
        "Q6FY25\r\n",
        "Q1HR24\r\n",
        "Q60648\r\n",
        "Q00341\r\n",
        "\r\n",
        "P10039\r\n",
        "\r\n",
        "P14543\r\n",
        "\r\n",
        "Q7ZWG9\r\n",
        "Q9CTN8\r\n",
        "P54412\r\n",
        "Q9ESN6\r\n",
        "\r\n",
        "Q5BJP6\r\n",
        "Q9VUL9\r\n",
        "\r\n",
        "O75382\r\n",
        "P24044\r\n",
        "P61958\r\n",
        "Q4GZT3\r\n",
        "Q27245\r\n",
        "A4IF63\r\n",
        "\r\n",
        "\r\n",
        "\r\n",
        "O73792\r\n",
        "Q8K0U4\r\n",
        "Q8R431\r\n",
        "\r\n",
        "Q5PQ71\r\n",
        "Q717R8\r\n",
        "\r\n",
        "Q9GJU1\r\n",
        "B9A8D7\r\n",
        "\r\n",
        "Q9BXJ4\r\n",
        "\r\n",
        "\r\n",
        "P95896\r\n",
        "Q8VI63\r\n",
        "Q9JLF6\r\n",
        "P50430\r\n",
        "\r\n",
        "Q8R2Q0\r\n",
        "Q09654\r\n",
        "O42409\r\n",
        "P70627\r\n",
        "P08991\r\n",
        "\r\n",
        "P18142\r\n",
        "P61217\r\n",
        "Q3UIW5\r\n",
        "P57080\r\n",
        "\r\n",
        "P10079\r\n",
        "\r\n",
        "Q99758\r\n",
        "A1L1W9\r\n",
        "Q9BWU0\r\n",
        "Q9QXE5\r\n",
        "\r\n",
        "Q5HCP3\r\n",
        "\r\n",
        "\r\n",
        "Q2MKA5\r\n",
        "\r\n",
        "Q8WUD4\r\n",
        "\r\n",
        "Q9EQW6\r\n",
        "Q07837\r\n",
        "Q90YC0\r\n",
        "Q09654\r\n",
        "Q9Y345\r\n",
        "D2GXS7\r\n",
        "Q9ESN6\r\n",
        "P82003\r\n",
        "\r\n",
        "O96064\r\n",
        "P49242\r\n",
        "\r\n",
        "Q9BY12\r\n",
        "Q9Y3Q0\r\n",
        "\r\n",
        "Q5UU75\r\n",
        "Q61P40\r\n",
        "Q6GLT8\r\n",
        "P19623\r\n",
        "O15460\r\n",
        "\r\n",
        "P42765\r\n",
        "\r\n",
        "P82198\r\n",
        "Q5RBP9\r\n",
        "\r\n",
        "Q92600\r\n",
        "Q9WVR8\r\n",
        "Q6PFY8\r\n",
        "D3ZQG6\r\n",
        "Q8BFR2\r\n",
        "Q86XK2\r\n",
        "D2GXS7\r\n",
        "A0MGZ7\r\n",
        "\r\n",
        "\r\n",
        "Q8K3P0\r\n",
        "\r\n",
        "O77819\r\n",
        "Q2KJA2\r\n",
        "\r\n",
        "P08011\r\n",
        "Q08830\r\n",
        "P19477\r\n",
        "A8K0R7\r\n",
        "Q92038\r\n",
        "\r\n",
        "\r\n",
        "A8Y1P7\r\n",
        "\r\n",
        "P21439\r\n",
        "Q9I9H2\r\n",
        "Q92113\r\n",
        "A4K526\r\n",
        "P05790\r\n",
        "Q920Q2\r\n",
        "Q9ESN6\r\n",
        "\r\n",
        "\r\n",
        "Q9Y6N5\r\n",
        "P31430\r\n",
        "\r\n",
        "Q9H307\r\n",
        "P12394\r\n",
        "Q9U943\r\n",
        "Q0P5B7\r\n",
        "Q9H204\r\n",
        "C3YWU0\r\n",
        "Q53T59\r\n",
        "P53007\r\n",
        "Q8TE56\r\n",
        "Q8N413\r\n",
        "\r\n",
        "\r\n",
        "Q8BID8\r\n",
        "P62866\r\n",
        "\r\n",
        "\r\n",
        "Q9CQ60\r\n",
        "P19327\r\n",
        "Q6TLH3\r\n",
        "Q95WA4\r\n",
        "P90893\r\n",
        "P16157\r\n",
        "\r\n",
        "\r\n",
        "\r\n",
        "P45961\r\n",
        "A2RUS2\r\n",
        "\r\n",
        "P51521\r\n",
        "Q13247\r\n",
        "O61462\r\n",
        "Q90837\r\n",
        "Q1T7C1\r\n",
        "O95479\r\n",
        "Q5E9K0\r\n",
        "D2GXS7\r\n",
        "P19827\r\n",
        "Q9GZV8\r\n",
        "Q9VCA2\r\n",
        "Q5XKA2\r\n",
        "\r\n",
        "B1WB06\r\n",
        "Q8R151\r\n",
        "Q3ZBH3\r\n",
        "Q6AXS0\r\n",
        "\r\n",
        "D2GXS7\r\n",
        "P41827\r\n",
        "\r\n",
        "P49011\r\n",
        "\r\n",
        "Q13263\r\n",
        "Q9H4A6\r\n",
        "\r\n",
        "Q9R1K5\r\n",
        "\r\n",
        "\r\n",
        "\r\n",
        "Q8MPM1\r\n",
        "\r\n",
        "Q3U1V8\r\n",
        "P34925\r\n",
        "Q8BMZ5\r\n",
        "Q63245\r\n",
        "Q9NVA4\r\n",
        "Q80X19\r\n",
        "Q5SPB6\r\n",
        "Q16534\r\n",
        "Q3T0L7\r\n",
        "Q9H477\r\n",
        "Q5ZI03\r\n",
        "P97414\r\n",
        "Q15418\r\n",
        "\r\n",
        "O14975\r\n",
        "\r\n",
        "Q561R0\r\n",
        "Q5BK43\r\n",
        "O43301\r\n",
        "P54513\r\n",
        "\r\n",
        "P36956\r\n",
        "O08623\r\n",
        "\r\n",
        "Q20363\r\n",
        "\r\n",
        "\r\n",
        "\r\n",
        "Q8R0S2\r\n",
        "Q02357\r\n",
        "\r\n",
        "Q4KTY1\r\n",
        "O75382\r\n",
        "Q5EGE1\r\n",
        "Q8K1K9\r\n",
        "O14522\r\n",
        "A0JM12\r\n",
        "A0JMK9\r\n",
        "Q5TGI0\r\n",
        "Q60648\r\n",
        "Q562C7\r\n",
        "\r\n",
        "P61594\r\n",
        "Q2M1K9\r\n",
        "Q7T3F7\r\n",
        "P36954\r\n",
        "Q09621\r\n",
        "Q8N5R6\r\n",
        "Q24423\r\n",
        "Q566L4\r\n",
        "P07686\r\n",
        "O18373\r\n",
        "Q4R3E0\r\n",
        "Q0P5Y3\r\n",
        "Q6PCJ1\r\n",
        "Q460N5\r\n",
        "P38650\r\n",
        "Q9P2K9\r\n",
        "\r\n",
        "Q174D3\r\n",
        "Q99KH8\r\n",
        "\r\n",
        "P04167\r\n",
        "\r\n",
        "\r\n",
        "\r\n",
        "Q04786\r\n",
        "P50429\r\n",
        "Q0VA40\r\n",
        "\r\n",
        "Q04861\r\n",
        "Q8C8H8\r\n",
        "\r\n",
        "\r\n",
        "O01666\r\n",
        "Q8C8N3\r\n",
        "Q29RI9\r\n",
        "O70277\r\n",
        "Q92051\r\n",
        "P0C7B7\r\n",
        "Q8WXK3\r\n",
        "Q9Y0A7\r\n",
        "Q9U3W6\r\n",
        "O95208\r\n",
        "Q6PFY8\r\n",
        "Q9QYH9\r\n",
        "O43557\r\n",
        "P48067\r\n",
        "\r\n",
        "Q5FW46\r\n",
        "Q8JHV9\r\n",
        "\r\n",
        "Q9QYE0\r\n",
        "Q8R0S2\r\n",
        "P23634\r\n",
        "D2GXS7\r\n",
        "P15800\r\n",
        "\r\n",
        "P98164\r\n",
        "Q9NWM8\r\n",
        "Q9Z254\r\n",
        "P50238\r\n",
        "Q13490\r\n",
        "\r\n",
        "P86789\r\n",
        "Q8NHP8\r\n",
        "\r\n",
        "Q0WR59\r\n",
        "\r\n",
        "\r\n",
        "Q8IED2\r\n",
        "Q14315\r\n",
        "Q91W82\r\n",
        "Q5U239\r\n",
        "Q3USL1\r\n",
        "Q64709\r\n",
        "\r\n",
        "A7KAU2\r\n",
        "\r\n",
        "Q6B966\r\n",
        "D2GXS7\r\n",
        "Q800H9\r\n",
        "Q99MR0\r\n",
        "Q9LQV2\r\n",
        "Q96B67\r\n",
        "O35261\r\n",
        "P17439\r\n",
        "A7RM45\r\n",
        "Q92626\r\n",
        "Q9H2H8\r\n",
        "O75396\r\n",
        "Q9EQD2\r\n",
        "Q96MM6\r\n",
        "Q9ESN6\r\n",
        "O07552\r\n",
        "Q24799\r\n",
        "Q24799\r\n",
        "Q503I8\r\n",
        "Q95044\r\n",
        "\r\n",
        "Q9IBG7\r\n",
        "\r\n",
        "\r\n",
        "Q6VFT6\r\n",
        "\r\n",
        "Q2TBT5\r\n",
        "\r\n",
        "Q9CPY6\r\n",
        "Q8VHS2\r\n",
        "Q7ZYA2\r\n",
        "C0H906\r\n",
        "P50429\r\n",
        "Q6DFQ5\r\n",
        "\r\n",
        "\r\n",
        "Q9BXW9\r\n",
        "P16924\r\n",
        "P97524\r\n",
        "Q8N695\r\n",
        "Q8CJ12\r\n",
        "Q5RBP9\r\n",
        "Q28BT4\r\n",
        "P77735\r\n",
        "O75897\r\n",
        "Q15397\r\n",
        "Q5JTW2\r\n",
        "Q07553\r\n",
        "O17185\r\n",
        "Q8JIR0\r\n",
        "Q91648\r\n",
        "P25386\r\n",
        "P00639\r\n",
        "O75581\r\n",
        "P49165\r\n",
        "Q9ESN6\r\n",
        "\r\n",
        "O59922\r\n",
        "Q7SXV2\r\n",
        "O75382\r\n",
        "Q2PZI1\r\n",
        "Q96RW7\r\n",
        "P39087\r\n",
        "Q91755\r\n",
        "O43301\r\n",
        "\r\n",
        "P20742\r\n",
        "Q9ERE8\r\n",
        "P50416\r\n",
        "\r\n",
        "Q96RW7\r\n",
        "\r\n",
        "Q08CS6\r\n",
        "Q05209\r\n",
        "\r\n",
        "\r\n",
        "Q3KQ23\r\n",
        "\r\n",
        "Q9NDE8\r\n",
        "P24528\r\n",
        "Q9ESN6\r\n",
        "Q8BI84\r\n",
        "Q8C8H8\r\n",
        "\r\n",
        "Q8SWR2\r\n",
        "\r\n",
        "Q9H299\r\n",
        "Q8N0W4\r\n",
        "\r\n",
        "Q8BNU0\r\n",
        "Q05695\r\n",
        "Q99735\r\n",
        "Q9WYG0\r\n",
        "Q8R0K9\r\n",
        "Q969N2\r\n",
        "P18163\r\n",
        "P42664\r\n",
        "P21775\r\n",
        "P21775\r\n",
        "Q9BXA5\r\n",
        "Q60MF5\r\n",
        "Q5RFE6\r\n",
        "Q9VE46\r\n",
        "P18172\r\n",
        "P18503\r\n",
        "P56533\r\n",
        "Q63HN8\r\n",
        "Q63HN8\r\n",
        "O75901\r\n",
        "Q9BG93\r\n",
        "O14524\r\n",
        "Q8BYF6\r\n",
        "Q9ESN6\r\n",
        "P24775\r\n",
        "Q15428\r\n",
        "Q80ZE5\r\n",
        "Q50D79\r\n",
        "Q9NFT7\r\n",
        "\r\n",
        "C3YWU0\r\n",
        "\r\n",
        "Q9PTU6\r\n",
        "\r\n",
        "Q7ZVK3\r\n",
        "\r\n",
        "\r\n",
        "Q61425\r\n",
        "P29375\r\n",
        "O75382\r\n",
        "P10632\r\n",
        "\r\n",
        "O11780\r\n",
        "Q15582\r\n",
        "O11780\r\n",
        "Q9CZJ2\r\n",
        "Q63425\r\n",
        "\r\n",
        "P86956\r\n",
        "Q01279\r\n",
        "Q9BZW4\r\n",
        "Q2QL79\r\n",
        "\r\n",
        "O07552\r\n",
        "Q863A5\r\n",
        "Q5I2E5\r\n",
        "A2TJ54\r\n",
        "\r\n",
        "P16066\r\n",
        "\r\n",
        "Q4TZY1\r\n",
        "P30280\r\n",
        "\r\n",
        "P49579\r\n",
        "Q6WV74\r\n",
        "P19374\r\n",
        "P84051\r\n",
        "P15870\r\n",
        "P02299\r\n",
        "P15870\r\n",
        "\r\n",
        "A6NN14\r\n",
        "P36633\r\n",
        "O93430\r\n",
        "Q9HC56\r\n",
        "\r\n",
        "Q5M9G6\r\n",
        "O88280\r\n",
        "Q0II68\r\n",
        "Q49YE0\r\n",
        "Q65JE7\r\n",
        "P98161\r\n",
        "Q8IV36\r\n",
        "Q28727\r\n",
        "Q865F7\r\n",
        "\r\n",
        "\r\n",
        "Q8N6F8\r\n",
        "P32251\r\n",
        "Q8BWF0\r\n",
        "Q5RAL7\r\n",
        "Q8VHW8\r\n",
        "\r\n",
        "\r\n",
        "Q9Y2G4\r\n",
        "\r\n",
        "Q61143\r\n",
        "Q04164\r\n",
        "O13008\r\n",
        "Q504Y0\r\n",
        "Q6ZRF8\r\n",
        "\r\n",
        "Q9UL36\r\n",
        "Q61140\r\n",
        "P24862\r\n",
        "\r\n",
        "\r\n",
        "\r\n",
        "\r\n",
        "Q6DDL7\r\n",
        "\r\n",
        "P18700\r\n",
        "O13085\r\n",
        "Q0WYX8\r\n",
        "Q15822\r\n",
        "\r\n",
        "Q460N3\r\n",
        "Q95JW3\r\n",
        "Q0P5V2\r\n",
        "Q1L8G7\r\n",
        "Q96HJ9\r\n",
        "Q54QQ2\r\n",
        "Q8C827\r\n",
        "Q8K199\r\n",
        "\r\n",
        "\r\n",
        "\r\n",
        "\r\n",
        "Q5I7T1\r\n",
        "Q52L14\r\n",
        "\r\n",
        "\r\n",
        "Q9D554\r\n",
        "G3V8T1\r\n",
        "Q6NS23\r\n",
        "Q8BHL8\r\n",
        "Q54J55\r\n",
        "Q9C040\r\n",
        "O43172\r\n",
        "Q2TBX6\r\n",
        "A1A5Y0\r\n",
        "P27447\r\n",
        "Q54RV9\r\n",
        "Q49LS8\r\n",
        "\r\n",
        "\r\n",
        "\r\n",
        "A3KPN8\r\n",
        "\r\n",
        "Q7Z5P4\r\n",
        "P15308\r\n",
        "\r\n",
        "P30050\r\n",
        "\r\n",
        "Q8WU66\r\n",
        "Q2M389\r\n",
        "\r\n",
        "Q96P09\r\n",
        "\r\n",
        "Q91Z53\r\n",
        "Q8N2E2\r\n",
        "\r\n",
        "Q6AYN4\r\n",
        "Q6WYY1\r\n",
        "P34269\r\n",
        "Q92847\r\n",
        "Q7Z6M2\r\n",
        "Q5JXM2\r\n",
        "Q8AXU4\r\n",
        "Q9CQR6\r\n",
        "O75382\r\n",
        "Q9ESN6\r\n",
        "P20965\r\n",
        "Q62186\r\n",
        "\r\n",
        "Q8R2E9\r\n",
        "\r\n",
        "Q1LUS8\r\n",
        "A2IBY8\r\n",
        "Q92831\r\n",
        "P22033\r\n",
        "\r\n",
        "\r\n",
        "Q8MJD6\r\n",
        "Q865K9\r\n",
        "Q86WK9\r\n",
        "Q40588\r\n",
        "\r\n",
        "Q99P60\r\n",
        "Q96JA1\r\n",
        "O57590\r\n",
        "\r\n",
        "Q54G96\r\n",
        "O09131\r\n",
        "Q6GLJ1\r\n",
        "P97607\r\n",
        "\r\n",
        "\r\n",
        "Q86Z23\r\n",
        "Q9H1Q7\r\n",
        "P49109\r\n",
        "P53809\r\n",
        "Q2EY13\r\n",
        "Q1LYM3\r\n",
        "P42325\r\n",
        "P42325\r\n",
        "Q86V71\r\n",
        "Q96BD0\r\n",
        "O05218\r\n",
        "\r\n",
        "\r\n",
        "Q8WVM8\r\n",
        "Q8N3Y7\r\n",
        "P09487\r\n",
        "P09487\r\n",
        "\r\n",
        "P50133\r\n",
        "Q4KL91\r\n",
        "Q9Y284\r\n",
        "Q5UR67\r\n",
        "Q9NPJ3\r\n",
        "Q9Y662\r\n",
        "Q96IG2\r\n",
        "P22897\r\n",
        "\r\n",
        "P32870\r\n",
        "Q5F415\r\n",
        "Q09654\r\n",
        "Q61627\r\n",
        "Q6TL19\r\n",
        "Q3MHN0\r\n",
        "Q6GQ53\r\n",
        "\r\n",
        "Q9JKP8\r\n",
        "Q9ESN6\r\n",
        "Q8C8H8\r\n",
        "Q8C8H8\r\n",
        "Q8C8H8\r\n",
        "Q8C8H8\r\n",
        "\r\n",
        "P46013\r\n",
        "P43646\r\n",
        "\r\n",
        "Q5R4Q3\r\n",
        "\r\n",
        "P58751\r\n",
        "Q9Y264\r\n",
        "O95786\r\n",
        "\r\n",
        "P82198\r\n",
        "Q90YP3\r\n",
        "Q6TFL4\r\n",
        "Q8IZR5\r\n",
        "O75382\r\n",
        "\r\n",
        "A1L3F4\r\n",
        "O60346\r\n",
        "Q60FC1\r\n",
        "\r\n",
        "Q9IAL1\r\n",
        "Q8AYK6\r\n",
        "Q8AVQ6\r\n",
        "Q9VUL9\r\n",
        "O93233\r\n",
        "P34642\r\n",
        "Q641K5\r\n",
        "\r\n",
        "Q9DG68\r\n",
        "Q9JIP0\r\n",
        "P98063\r\n",
        "Q6UWX4\r\n",
        "P62277\r\n",
        "Q8WVX9\r\n",
        "Q9HBU6\r\n",
        "Q3B8G0\r\n",
        "P49869\r\n",
        "P11046\r\n",
        "Q3SZJ4\r\n",
        "\r\n",
        "\r\n",
        "P18426\r\n",
        "Q09654\r\n",
        "A3KMV5\r\n",
        "\r\n",
        "Q93098\r\n",
        "\r\n",
        "\r\n",
        "P22488\r\n",
        "Q923Z4\r\n",
        "B2RUP2\r\n",
        "O43614\r\n",
        "Q5RAE3\r\n",
        "Q59I64\r\n",
        "Q8CEE6\r\n",
        "Q80X19\r\n",
        "\r\n",
        "\r\n",
        "Q9UET6\r\n",
        "\r\n",
        "Q4VUF1\r\n",
        "Q09225\r\n",
        "\r\n",
        "\r\n",
        "E1BD59\r\n",
        "P09848\r\n",
        "P41996\r\n",
        "Q07837\r\n",
        "\r\n",
        "\r\n",
        "\r\n",
        "Q02241\r\n",
        "\r\n",
        "Q7ZUP0\r\n",
        "Q6FY25\r\n",
        "Q6AYL5\r\n",
        "A6YLM6\r\n",
        "\r\n",
        "P33527\r\n",
        "Q923L3\r\n",
        "Q2M389\r\n",
        "P41041\r\n",
        "Q9XZP2\r\n",
        "Q4L9P0\r\n",
        "\r\n",
        "Q24617\r\n",
        "Q95WA4\r\n",
        "\r\n",
        "Q8N3Y7\r\n",
        "Q26619\r\n",
        "\r\n",
        "O43915\r\n",
        "\r\n",
        "\r\n",
        "\r\n",
        "Q64127\r\n",
        "\r\n",
        "P41594\r\n",
        "D2GXS7\r\n",
        "\r\n",
        "Q9W6B4\r\n",
        "A4IF63\r\n",
        "P70660\r\n",
        "Q3UFB2\r\n",
        "A1XQU1\r\n",
        "Q5VT40\r\n",
        "P27426\r\n",
        "Q9DBB9\r\n",
        "A9C3P0\r\n",
        "\r\n",
        "P54611\r\n",
        "\r\n",
        "Q99853\r\n",
        "Q8N9I0\r\n",
        "\r\n",
        "P08125\r\n",
        "Q5XI65\r\n",
        "Q9UBB5\r\n",
        "Q8N7M0\r\n",
        "Q28728\r\n",
        "\r\n",
        "\r\n",
        "Q9DCD5\r\n",
        "Q504Y2\r\n",
        "O02833\r\n",
        "P20481\r\n",
        "Q2FTH0\r\n",
        "O54998\r\n",
        "\r\n",
        "D2GXS7\r\n",
        "Q96SQ7\r\n",
        "P23206\r\n",
        "\r\n",
        "Q5M7L9\r\n",
        "Q868Z9\r\n",
        "P70627\r\n",
        "Q3SZ31\r\n",
        "O15457\r\n",
        "Q9ESN6\r\n",
        "\r\n",
        "Q6DGE9\r\n",
        "P0AGE7\r\n",
        "Q6TLF6\r\n",
        "D3ZBE5\r\n",
        "Q54QQ1\r\n",
        "O43451\r\n",
        "Q9V0D5\r\n",
        "O14815\r\n",
        "Q8VIJ6\r\n",
        "Q0P4S0\r\n",
        "\r\n",
        "O35566\r\n",
        "\r\n",
        "Q6IRM9\r\n",
        "Q04896\r\n",
        "Q04896\r\n",
        "\r\n",
        "Q9EQG7\r\n",
        "Q86Z23\r\n",
        "Q920R0\r\n",
        "D2GXS7\r\n",
        "Q27589\r\n",
        "Q5XG92\r\n",
        "Q90XD2\r\n",
        "P91766\r\n",
        "P11678\r\n",
        "Q9R0T8\r\n",
        "P53356\r\n",
        "Q6WV66\r\n",
        "A2AX52\r\n",
        "Q08D64\r\n",
        "A7SM54\r\n",
        "Q8IV50\r\n",
        "P80912\r\n",
        "\r\n",
        "P32251\r\n",
        "\r\n",
        "\r\n",
        "\r\n",
        "P68252\r\n",
        "Q5U3A7\r\n",
        "Q95221\r\n",
        "P33198\r\n",
        "Q9VKA4\r\n",
        "A4IF62\r\n",
        "Q9GZR5\r\n",
        "P43143\r\n",
        "P81178\r\n",
        "P83876\r\n",
        "Q9P802\r\n",
        "Q9P2F8\r\n",
        "\r\n",
        "Q5UQ35\r\n",
        "Q8JZL3\r\n",
        "O46160\r\n",
        "A4IH24\r\n",
        "Q9SHH8\r\n",
        "\r\n",
        "\r\n",
        "Q5BIM1\r\n",
        "\r\n",
        "Q86Z23\r\n",
        "O13395\r\n",
        "P55006\r\n",
        "O88450\r\n",
        "P23416\r\n",
        "P15287\r\n",
        "O08839\r\n",
        "\r\n",
        "Q9Z1P6\r\n",
        "\r\n",
        "O35165\r\n",
        "Q0WYX8\r\n",
        "Q9VF87\r\n",
        "Q5M9G1\r\n",
        "P49640\r\n",
        "P06602\r\n",
        "Q30HU9\r\n",
        "P49013\r\n",
        "Q61191\r\n",
        "P30568\r\n",
        "P18445\r\n",
        "P39098\r\n",
        "Q60HD7\r\n",
        "Q9SIY8\r\n",
        "Q8SPU6\r\n",
        "P04464\r\n",
        "Q9NZG7\r\n",
        "\r\n",
        "O76217\r\n",
        "Q9I8E6\r\n",
        "\r\n",
        "Q7Z3E1\r\n",
        "\r\n",
        "A8XMW6\r\n",
        "Q9UM22\r\n",
        "P30437\r\n",
        "Q9P0K7\r\n",
        "Q80UC8\r\n",
        "\r\n",
        "\r\n",
        "P23377\r\n",
        "Q91770\r\n",
        "P23286\r\n",
        "\r\n",
        "Q61466\r\n",
        "P15408\r\n",
        "O15973\r\n",
        "Q66IC8\r\n",
        "O18404\r\n",
        "\r\n",
        "P0C6B8\r\n",
        "Q96RW7\r\n",
        "O73672\r\n",
        "Q8K0U4\r\n",
        "Q55CT5\r\n",
        "O15973\r\n",
        "E5RJM6\r\n",
        "P43021\r\n",
        "\r\n",
        "P35479\r\n",
        "\r\n",
        "\r\n",
        "\r\n",
        "\r\n",
        "Q9BPX1\r\n",
        "P60330\r\n",
        "P13903\r\n",
        "P51521\r\n",
        "P60924\r\n",
        "Q8R323\r\n",
        "Q6ZSB9\r\n",
        "\r\n",
        "Q8WPW2\r\n",
        "O70277\r\n",
        "\r\n",
        "O15254\r\n",
        "O15254\r\n",
        "Q6PFY8\r\n",
        "P59325\r\n",
        "\r\n",
        "P07201\r\n",
        "P35659\r\n",
        "Q5T200\r\n",
        "\r\n",
        "Q5DTM8\r\n",
        "\r\n",
        "Q8CH18\r\n",
        "P09482\r\n",
        "Q14624\r\n",
        "Q5EA79\r\n",
        "Q96FN9\r\n",
        "Q13115\r\n",
        "Q1LZH1\r\n",
        "Q6GNT9\r\n",
        "Q8R0M8\r\n",
        "\r\n",
        "P62924\r\n",
        "P09487\r\n",
        "Q9C040\r\n",
        "Q96EZ8\r\n",
        "P83298\r\n",
        "P24399\r\n",
        "\r\n",
        "Q6NT55\r\n",
        "Q6NT55\r\n",
        "Q6NT55\r\n",
        "O43193\r\n",
        "\r\n",
        "O18373\r\n",
        "O75095\r\n",
        "Q9VUL9\r\n",
        "Q16TM5\r\n",
        "\r\n",
        "Q8CHS2\r\n",
        "Q7ZYF1\r\n",
        "\r\n",
        "P86952\r\n",
        "Q56A24\r\n",
        "Q08C93\r\n",
        "Q05609\r\n",
        "\r\n",
        "Q9TV36\r\n",
        "Q09621\r\n",
        "A3R064\r\n",
        "Q2NL00\r\n",
        "\r\n",
        "A6QPN6\r\n",
        "\r\n",
        "Q5IS99\r\n",
        "Q96RW7\r\n",
        "Q96JI7\r\n",
        "Q8C1A3\r\n",
        "Q80TP3\r\n",
        "Q9ULU4\r\n",
        "Q80SX5\r\n",
        "\r\n",
        "\r\n",
        "Q8IYB5\r\n",
        "Q9U943\r\n",
        "Q5ZJR8\r\n",
        "Q6B9X6\r\n",
        "Q28I39\r\n",
        "Q812E0\r\n",
        "\r\n",
        "\r\n",
        "\r\n",
        "Q90YT1\r\n",
        "\r\n",
        "P58743\r\n",
        "Q9JKQ2\r\n",
        "Q8IWY4\r\n",
        "A8WQK3\r\n",
        "O60494\r\n",
        "Q5RGQ2\r\n",
        "Q2KIR8\r\n",
        "Q64424\r\n",
        "P42325\r\n",
        "Q3T127\r\n",
        "P50164\r\n",
        "Q6PE01\r\n",
        "\r\n",
        "Q9LFD1\r\n",
        "Q5PQY6\r\n",
        "F1LMY4\r\n",
        "P62752\r\n",
        "\r\n",
        "Q9NQV7\r\n",
        "Q9D4B2\r\n",
        "P11230\r\n",
        "Q9W4Y2\r\n",
        "\r\n",
        "\r\n",
        "\r\n",
        "Q1LUQ4\r\n",
        "A0JPF9\r\n",
        "Q6GQR8\r\n",
        "\r\n",
        "Q5XI06\r\n",
        "Q2TA14\r\n",
        "O02467\r\n",
        "Q28735\r\n",
        "P08510\r\n",
        "P21163\r\n",
        "P19217\r\n",
        "P10076\r\n",
        "Q7ZVP8\r\n",
        "Q6PID6\r\n",
        "Q0R4F1\r\n",
        "Q8NBH2\r\n",
        "Q8CIV2\r\n",
        "\r\n",
        "P07872\r\n",
        "O61463\r\n",
        "P45377\r\n",
        "O70277\r\n",
        "\r\n",
        "P09481\r\n",
        "\r\n",
        "\r\n",
        "\r\n",
        "Q5SVD0\r\n",
        "P51452\r\n",
        "Q9ER74\r\n",
        "Q6PCJ1\r\n",
        "Q9VUL9\r\n",
        "P70684\r\n",
        "P50430\r\n",
        "Q94126\r\n",
        "Q9HAT2\r\n",
        "\r\n",
        "\r\n",
        "O60262\r\n",
        "Q6TLF6\r\n",
        "O54891\r\n",
        "\r\n",
        "Q66J69\r\n",
        "Q3B725\r\n",
        "P25153\r\n",
        "Q2KJC9\r\n",
        "Q864S8\r\n",
        "P79782\r\n",
        "Q5ZKI4\r\n",
        "Q80WQ6\r\n",
        "\r\n",
        "Q8AWB5\r\n",
        "\r\n",
        "Q9BUJ2\r\n",
        "Q6NYL3\r\n",
        "Q9NRL2\r\n",
        "Q9ESN6\r\n",
        "D2GXS7\r\n",
        "Q13263\r\n",
        "Q9ESQ4\r\n",
        "Q3T052\r\n",
        "Q4R744\r\n",
        "Q8R1B8\r\n",
        "A2VDD2\r\n",
        "Q9H5F2\r\n",
        "\r\n",
        "Q8R0F5\r\n",
        "Q9VUL9\r\n",
        "P46088\r\n",
        "\r\n",
        "\r\n",
        "\r\n",
        "\r\n",
        "Q9VCA2\r\n",
        "Q8N697\r\n",
        "\r\n",
        "\r\n",
        "\r\n",
        "P51824\r\n",
        "\r\n",
        "P02469\r\n",
        "Q9C585\r\n",
        "A4QN56\r\n",
        "P12812\r\n",
        "P11976\r\n",
        "Q2EMV9\r\n",
        "Q2EMV9\r\n",
        "\r\n",
        "Q6NX31\r\n",
        "Q8N9L1\r\n",
        "O73689\r\n",
        "Q15915\r\n",
        "P13908\r\n",
        "Q7QC84\r\n",
        "Q5BJW3\r\n",
        "Q9BX70\r\n",
        "Q93356\r\n",
        "A8WGA3\r\n",
        "A8WGA3\r\n",
        "\r\n",
        "P17336\r\n",
        "P70080\r\n",
        "Q64459\r\n",
        "Q9H6U6\r\n",
        "Q9IBC8\r\n",
        "\r\n",
        "Q13489\r\n",
        "P41437\r\n",
        "Q8JHV9\r\n",
        "Q53H80\r\n",
        "Q91Y25\r\n",
        "Q9QZ05\r\n",
        "Q3SYV5\r\n",
        "\r\n",
        "Q5IFJ8\r\n",
        "\r\n",
        "Q9NYL5\r\n",
        "P0CB42\r\n",
        "Q07837\r\n",
        "\r\n",
        "\r\n",
        "\r\n",
        "Q9ESN6\r\n",
        "Q96D21\r\n",
        "P62256\r\n",
        "Q26636\r\n",
        "Q94126\r\n",
        "Q7Z3U7\r\n",
        "Q54U44\r\n",
        "O97788\r\n",
        "P49020\r\n",
        "P17970\r\n",
        "\r\n",
        "B5X5N3\r\n",
        "\r\n",
        "P11799\r\n",
        "Q93050\r\n",
        "O08848\r\n",
        "Q9ESN6\r\n",
        "\r\n",
        "Q95114\r\n",
        "P43143\r\n",
        "Q6PDY2\r\n",
        "Q9P218\r\n",
        "Q5RBX2\r\n",
        "\r\n",
        "\r\n",
        "O01393\r\n",
        "Q04861\r\n",
        "Q12893\r\n",
        "\r\n",
        "Q20930\r\n",
        "Q80WR1\r\n",
        "Q6GMK8\r\n",
        "P91753\r\n",
        "Q575S8\r\n",
        "\r\n",
        "A2CG63\r\n",
        "Q61P40\r\n",
        "Q3ZCX4\r\n",
        "\r\n",
        "A7MCS3\r\n",
        "P29691\r\n",
        "C0HBB2\r\n",
        "Q8CBC6\r\n",
        "P49614\r\n",
        "Q9N2M8\r\n",
        "P04179\r\n",
        "Q6GL42\r\n",
        "\r\n",
        "Q3T0V9\r\n",
        "P86789\r\n",
        "Q9GPR3\r\n",
        "O54904\r\n",
        "Q9H5L6\r\n",
        "O57337\r\n",
        "Q8J0I9\r\n",
        "Q80TB8\r\n",
        "C7G0B5\r\n",
        "P18910\r\n",
        "\r\n",
        "O86938\r\n",
        "\r\n",
        "\r\n",
        "Q9ULX7\r\n",
        "P04792\r\n",
        "Q9VCA2\r\n",
        "Q9GP71\r\n",
        "Q90259\r\n",
        "Q90259\r\n",
        "P19359\r\n",
        "\r\n",
        "O54910\r\n",
        "P00507\r\n",
        "Q8VC12\r\n",
        "Q8BGX7\r\n",
        "Q61850\r\n",
        "Q12952\r\n",
        "P58197\r\n",
        "\r\n",
        "\r\n",
        "\r\n",
        "Q8JG69\r\n",
        "Q6PIX5\r\n",
        "Q6PIX5\r\n",
        "Q2YGT9\r\n",
        "A5D6U8\r\n",
        "\r\n",
        "Q8WQA4\r\n",
        "Q9VAC5\r\n",
        "Q9LJN4\r\n",
        "Q9PW38\r\n",
        "Q9NQX3\r\n",
        "B4PN49\r\n",
        "Q9EPR4\r\n",
        "Q5RFQ6\r\n",
        "Q803A7\r\n",
        "Q9NYM4\r\n",
        "P27048\r\n",
        "\r\n",
        "A6NN14\r\n",
        "Q5DWN0\r\n",
        "O08746\r\n",
        "\r\n",
        "Q9CZJ2\r\n",
        "Q9EQC4\r\n",
        "Q5S007\r\n",
        "\r\n",
        "P98163\r\n",
        "Q7L2J0\r\n",
        "P08183\r\n",
        "D2GXS7\r\n",
        "Q05974\r\n",
        "Q9Z306\r\n",
        "P79384\r\n",
        "P24781\r\n",
        "\r\n",
        "Q91642\r\n",
        "Q96RW7\r\n",
        "Q2NLB0\r\n",
        "Q6DJN2\r\n",
        "Q9BQS2\r\n",
        "Q6AXR5\r\n",
        "O55076\r\n",
        "\r\n",
        "Q9V3A4\r\n",
        "\r\n",
        "Q8BS45\r\n",
        "\r\n",
        "P05370\r\n",
        "Q3URE9\r\n",
        "Q9W6S8\r\n",
        "\r\n",
        "Q7KM13\r\n",
        "Q8NEG2\r\n",
        "Q5RJQ0\r\n",
        "P17141\r\n",
        "Q3SWX9\r\n",
        "O93384\r\n",
        "O54904\r\n",
        "Q90830\r\n",
        "C3Y431\r\n",
        "\r\n",
        "P83298\r\n",
        "P05090\r\n",
        "Q24157\r\n",
        "Q9D172\r\n",
        "P47727\r\n",
        "P04069\r\n",
        "Q6GL69\r\n",
        "Q5E946\r\n",
        "P41562\r\n",
        "Q6NXH2\r\n",
        "Q9NQZ6\r\n",
        "O70215\r\n",
        "Q9NWT6\r\n",
        "Q9UIL4\r\n",
        "Q61555\r\n",
        "Q96SL1\r\n",
        "Q9Y236\r\n",
        "Q9QYG6\r\n",
        "P51589\r\n",
        "\r\n",
        "Q8WVK2\r\n",
        "P48180\r\n",
        "Q5ZLD3\r\n",
        "\r\n",
        "\r\n",
        "\r\n",
        "Q2TV84\r\n",
        "Q8VHZ7\r\n",
        "Q7RTY1\r\n",
        "D2GXS7\r\n",
        "P17900\r\n",
        "\r\n",
        "\r\n",
        "Q7XA40\r\n",
        "Q9ESN6\r\n",
        "Q3MHL8\r\n",
        "P35663\r\n",
        "Q8R116\r\n",
        "\r\n",
        "\r\n",
        "P31695\r\n",
        "\r\n",
        "Q6NVM6\r\n",
        "P40720\r\n",
        "O35130\r\n",
        "\r\n",
        "Q9BYN7\r\n",
        "Q66JL1\r\n",
        "\r\n",
        "P54922\r\n",
        "Q2NL00\r\n",
        "Q1PSW8\r\n",
        "Q9BYV1\r\n",
        "P51523\r\n",
        "\r\n",
        "Q61241\r\n",
        "Q96BY9\r\n",
        "\r\n",
        "Q8WWF8\r\n",
        "B0FXQ5\r\n",
        "Q08CM4\r\n",
        "A9JTP3\r\n",
        "\r\n",
        "Q810V0\r\n",
        "\r\n",
        "Q80UC8\r\n",
        "\r\n",
        "Q5REV9\r\n",
        "Q58DU5\r\n",
        "P08428\r\n",
        "P30568\r\n",
        "Q3UPW2\r\n",
        "Q9HCK4\r\n",
        "Q6V0I7\r\n",
        "O88582\r\n",
        "B4LXW1\r\n",
        "P12276\r\n",
        "Q9NZW4\r\n",
        "P19073\r\n",
        "Q6P9Z4\r\n",
        "P97367\r\n",
        "\r\n",
        "\r\n",
        "Q5PPM5\r\n",
        "\r\n",
        "Q8NA69\r\n",
        "O15050\r\n",
        "Q63118\r\n",
        "\r\n",
        "A5YM72\r\n",
        "P49395\r\n",
        "Q8BUR3\r\n",
        "Q6NT55\r\n",
        "A5JSS2\r\n",
        "Q8CGC6\r\n",
        "\r\n",
        "Q6TEK3\r\n",
        "Q2NL00\r\n",
        "P11833\r\n",
        "\r\n",
        "\r\n",
        "Q5ZKN1\r\n",
        "Q9VEU1\r\n",
        "\r\n",
        "\r\n",
        "Q9NV56\r\n",
        "O19071\r\n",
        "\r\n",
        "B2RVL6\r\n",
        "Q3MHZ2\r\n",
        "Q710D6\r\n",
        "Q6DIB5\r\n",
        "Q9V4M2\r\n",
        "P32138\r\n",
        "\r\n",
        "\r\n",
        "O07552\r\n",
        "\r\n",
        "Q90XB3\r\n",
        "Q2Q1W2\r\n",
        "O15943\r\n",
        "O95450\r\n",
        "P48545\r\n",
        "\r\n",
        "\r\n",
        "P25386\r\n",
        "Q9YGS0\r\n",
        "\r\n",
        "\r\n",
        "Q2HJC9\r\n",
        "Q29503\r\n",
        "D2GXS7\r\n",
        "O74549\r\n",
        "P07192\r\n",
        "P14318\r\n",
        "Q61554\r\n",
        "Q5F364\r\n",
        "\r\n",
        "O75445\r\n",
        "Q62186\r\n",
        "Q9EPW2\r\n",
        "P0CP40\r\n",
        "Q67XX3\r\n",
        "Q6P9Z4\r\n",
        "P46531\r\n",
        "Q28DB0\r\n",
        "Q92785\r\n",
        "\r\n",
        "P41233\r\n",
        "Q939N5\r\n",
        "Q9VGG5\r\n",
        "Q2YDR3\r\n",
        "\r\n",
        "P52742\r\n",
        "Q6PCG7\r\n",
        "O02721\r\n",
        "\r\n",
        "\r\n",
        "A2XYY8\r\n",
        "Q8BJ64\r\n",
        "\r\n",
        "Q8JIS3\r\n",
        "\r\n",
        "Q9UHB9\r\n",
        "Q98ST7\r\n",
        "\r\n",
        "\r\n",
        "P98164\r\n",
        "O46644\r\n",
        "Q6NRT3\r\n",
        "B4KCD5\r\n",
        "P51893\r\n",
        "P24862\r\n",
        "Q804S5\r\n",
        "Q3SX11\r\n",
        "Q5ZIJ9\r\n",
        "Q8NFZ3\r\n",
        "Q711G3\r\n",
        "Q9JLB4\r\n",
        "\r\n",
        "Q9BYX4\r\n",
        "Q6FY25\r\n",
        "Q6ZMT9\r\n",
        "Q5I085\r\n",
        "Q96A72\r\n",
        "Q9H3H1\r\n",
        "Q0VCS9\r\n",
        "Q7L211\r\n",
        "Q6XDT4\r\n",
        "Q9UBQ7\r\n",
        "P86733\r\n",
        "\r\n",
        "\r\n",
        "\r\n",
        "Q8IRC7\r\n",
        "\r\n",
        "Q9BSW7\r\n",
        "Q3UP23\r\n",
        "Q8N6T7\r\n",
        "\r\n",
        "Q5EFZ4\r\n",
        "Q8VID6\r\n",
        "P42891\r\n",
        "P62249\r\n",
        "Q9EQC4\r\n",
        "Q5M7D6\r\n",
        "\r\n",
        "\r\n",
        "Q9NTJ4\r\n",
        "O75382\r\n",
        "O75095\r\n",
        "Q9ESN6\r\n",
        "\r\n",
        "Q5ZIP4\r\n",
        "P43699\r\n",
        "\r\n",
        "\r\n",
        "A5PJA8\r\n",
        "Q01768\r\n",
        "\r\n",
        "Q5FVK8\r\n",
        "Q7T3H9\r\n",
        "Q55G11\r\n",
        "P61026\r\n",
        "A0JM12\r\n",
        "O08585\r\n",
        "Q6RUV5\r\n",
        "P35822\r\n",
        "Q9VUL9\r\n",
        "D2GXS7\r\n",
        "Q00651\r\n",
        "\r\n",
        "Q66IB8\r\n",
        "Q9NVE5\r\n",
        "O35623\r\n",
        "P04177\r\n",
        "P97399\r\n",
        "Q767L0\r\n",
        "Q8JZL1\r\n",
        "\r\n",
        "Q68FF9\r\n",
        "Q99996\r\n",
        "P18754\r\n",
        "O60264\r\n",
        "Q60980\r\n",
        "O43670\r\n",
        "\r\n",
        "Q99MV5\r\n",
        "Q14588\r\n",
        "Q90YS3\r\n",
        "P41340\r\n",
        "Q27640\r\n",
        "Q8K0U4\r\n",
        "\r\n",
        "Q9VCA2\r\n",
        "Q9NR97\r\n",
        "Q27J81\r\n",
        "Q8CDF7\r\n",
        "\r\n",
        "\r\n",
        "Q04721\r\n",
        "Q7M6Y2\r\n",
        "Q90YL3\r\n",
        "P26446\r\n",
        "Q5PQQ2\r\n",
        "P13214\r\n",
        "P20072\r\n",
        "P50994\r\n",
        "Q3SZ90\r\n",
        "Q13263\r\n",
        "O95714\r\n",
        "Q7ZWS2\r\n",
        "P83088\r\n",
        "O93279\r\n",
        "\r\n",
        "P0CE10\r\n",
        "P0CE10\r\n",
        "Q7Z020\r\n",
        "\r\n",
        "Q8JFY9\r\n",
        "Q17QM4\r\n",
        "Q9JKA9\r\n",
        "P14576\r\n",
        "O57592\r\n",
        "Q29RQ5\r\n",
        "Q761V0\r\n",
        "P67999\r\n",
        "\r\n",
        "P24470\r\n",
        "B2GV54\r\n",
        "Q2PC93\r\n",
        "O97504\r\n",
        "P08953\r\n",
        "O43301\r\n",
        "\r\n",
        "Q90610\r\n",
        "Q9YGJ7\r\n",
        "\r\n",
        "A5YM72\r\n",
        "P51798\r\n",
        "Q9R0P6\r\n",
        "Q19269\r\n",
        "P27169\r\n",
        "Q6DGQ0\r\n",
        "Q04336\r\n",
        "\r\n",
        "E9Q555\r\n",
        "\r\n",
        "\r\n",
        "O13997\r\n",
        "Q6G8L7\r\n",
        "D2GXS7\r\n",
        "Q92122\r\n",
        "Q8IV03\r\n",
        "A4FV97\r\n",
        "Q7ZUG0\r\n",
        "O00422\r\n",
        "Q4UMH6\r\n",
        "P05934\r\n",
        "O14095\r\n",
        "Q80W92\r\n",
        "\r\n",
        "Q6DCQ5\r\n",
        "O54834\r\n",
        "\r\n",
        "Q8TCT0\r\n",
        "Q9BV10\r\n",
        "P10079\r\n",
        "P29508\r\n",
        "P29508\r\n",
        "Q8R2Q0\r\n",
        "\r\n",
        "\r\n",
        "Q2QL79\r\n",
        "A4IF63\r\n",
        "Q9ESN6\r\n",
        "Q9P0L9\r\n",
        "\r\n",
        "D3ZQG6\r\n",
        "O08699\r\n",
        "P81431\r\n",
        "Q8C8H8\r\n",
        "Q1JPD3\r\n",
        "\r\n",
        "\r\n",
        "O15455\r\n",
        "Q9WVB4\r\n",
        "Q9J5A7\r\n",
        "Q9VGH7\r\n",
        "Q6VVD7\r\n",
        "Q9ES90\r\n",
        "Q9VN14\r\n",
        "Q24157\r\n",
        "Q8R5F7\r\n",
        "P18146\r\n",
        "Q9CQW1\r\n",
        "Q91502\r\n",
        "\r\n",
        "Q5BJQ6\r\n",
        "P18111\r\n",
        "Q8BLR2\r\n",
        "P23514\r\n",
        "Q5JXM2\r\n",
        "\r\n",
        "\r\n",
        "Q9Z1S0\r\n",
        "P58374\r\n",
        "P24399\r\n",
        "Q1XA76\r\n",
        "Q4UMH6\r\n",
        "\r\n",
        "P04069\r\n",
        "Q682S0\r\n",
        "Q8BJM3\r\n",
        "A8TX70\r\n",
        "O08738\r\n",
        "P42573\r\n",
        "Q9UH65\r\n",
        "P15384\r\n",
        "Q8CG65\r\n",
        "\r\n",
        "Q0Q028\r\n",
        "Q86RS3\r\n",
        "Q9QXA6\r\n",
        "\r\n",
        "C3YWU0\r\n",
        "Q9NY15\r\n",
        "Q15063\r\n",
        "Q6PHZ5\r\n",
        "Q96C86\r\n",
        "P10079\r\n",
        "P16537\r\n",
        "P17560\r\n",
        "Q9UM47\r\n",
        "Q9D1A2\r\n",
        "Q4R866\r\n",
        "P48509\r\n",
        "Q9BXT4\r\n",
        "Q96PY6\r\n",
        "P24044\r\n",
        "\r\n",
        "Q8N6T7\r\n",
        "Q90655\r\n",
        "Q96JC9\r\n",
        "P13280\r\n",
        "Q5RA77\r\n",
        "O76094\r\n",
        "Q09711\r\n",
        "B3DLU1\r\n",
        "Q04786\r\n",
        "Q96RW7\r\n",
        "Q8C8H8\r\n",
        "A4IF63\r\n",
        "\r\n",
        "O73853\r\n",
        "Q6XD76\r\n",
        "Q8BTH6\r\n",
        "\r\n",
        "\r\n",
        "\r\n",
        "\r\n",
        "Q6DEY8\r\n",
        "\r\n",
        "\r\n",
        "Q10984\r\n",
        "Q9VFP2\r\n",
        "A0JPI9\r\n",
        "Q80WR1\r\n",
        "Q99MH6\r\n",
        "\r\n",
        "\r\n",
        "Q9QXX0\r\n",
        "Q80Y19\r\n",
        "\r\n",
        "P21837\r\n",
        "O43301\r\n",
        "Q8TD23\r\n",
        "P57102\r\n",
        "P56721\r\n",
        "P16066\r\n",
        "\r\n",
        "Q3MI03\r\n",
        "\r\n",
        "Q09470\r\n",
        "Q8IZJ3\r\n",
        "Q95R48\r\n",
        "\r\n",
        "Q9ESN6\r\n",
        "Q5ZK40\r\n",
        "P21265\r\n",
        "Q9UEE5\r\n",
        "P79763\r\n",
        "Q8BP74\r\n",
        "Q9GR88\r\n",
        "A2A5Z6\r\n",
        "\r\n",
        "Q8QGW7\r\n",
        "Q8QGW7\r\n",
        "Q8QGW7\r\n",
        "Q90268\r\n",
        "\r\n",
        "Q15013\r\n",
        "Q90844\r\n",
        "O35075\r\n",
        "O75626\r\n",
        "P11029\r\n",
        "Q8K4C0\r\n",
        "\r\n",
        "Q6NW85\r\n",
        "\r\n",
        "\r\n",
        "Q9JMD3\r\n",
        "P60510\r\n",
        "Q7YRA3\r\n",
        "\r\n",
        "\r\n",
        "P04464\r\n",
        "P78329\r\n",
        "Q64077\r\n",
        "\r\n",
        "\r\n",
        "Q96GQ5\r\n",
        "Q2HJH3\r\n",
        "Q09288\r\n",
        "P54001\r\n",
        "\r\n",
        "Q9D7H3\r\n",
        "\r\n",
        "Q9NXZ2\r\n",
        "Q8CFF0\r\n",
        "Q8N7M0\r\n",
        "\r\n",
        "O43396\r\n",
        "\r\n",
        "Q86AZ6\r\n",
        "O43301\r\n",
        "Q9D287\r\n",
        "\r\n",
        "Q96PR1\r\n",
        "\r\n",
        "A2CES0\r\n",
        "Q6ZWH5\r\n",
        "Q94126\r\n",
        "Q7Z0T3\r\n",
        "P41436\r\n",
        "Q02372\r\n",
        "Q460N5\r\n",
        "\r\n",
        "Q96FV2\r\n",
        "\r\n",
        "Q9NQM4\r\n",
        "Q71RP9\r\n",
        "Q8BJ64\r\n",
        "Q69ZJ7\r\n",
        "P09324\r\n",
        "P18461\r\n",
        "Q2T9K6\r\n",
        "\r\n",
        "\r\n",
        "\r\n",
        "Q9QXN3\r\n",
        "\r\n",
        "Q9GLK0\r\n",
        "Q9VPQ6\r\n",
        "Q6QQT1\r\n",
        "P06144\r\n",
        "\r\n",
        "\r\n",
        "Q29451\r\n",
        "A8XMW6\r\n",
        "Q7ZV80\r\n",
        "Q66I21\r\n",
        "Q925N0\r\n",
        "Q5BLE8\r\n",
        "Q5TAA0\r\n",
        "O75382\r\n",
        "P47758\r\n",
        "Q9Y6Q3\r\n",
        "\r\n",
        "Q58D31\r\n",
        "\r\n",
        "Q9JLC8\r\n",
        "P59889\r\n",
        "P15858\r\n",
        "P25931\r\n",
        "Q6NZC7\r\n",
        "Q8MSU3\r\n",
        "Q93075\r\n",
        "Q80Y14\r\n",
        "Q04446\r\n",
        "Q9UBT7\r\n",
        "Q9WVI4\r\n",
        "Q4P9K9\r\n",
        "Q54TR1\r\n",
        "\r\n",
        "P37137\r\n",
        "Q1JPB9\r\n",
        "Q9H2B2\r\n",
        "\r\n",
        "Q9V0D5\r\n",
        "\r\n",
        "Q9U641\r\n",
        "Q1LY51\r\n",
        "Q8K1R7\r\n",
        "\r\n",
        "\r\n",
        "Q92485\r\n",
        "\r\n",
        "Q6ZPJ0\r\n",
        "O08796\r\n",
        "A6QR16\r\n",
        "\r\n",
        "P20239\r\n",
        "\r\n",
        "P70122\r\n",
        "Q4R7D9\r\n",
        "\r\n",
        "\r\n",
        "\r\n",
        "\r\n",
        "C3YWU0\r\n",
        "C3YWU0\r\n",
        "Q8K2J9\r\n",
        "\r\n",
        "\r\n",
        "Q7RTY7\r\n",
        "\r\n",
        "O95140\r\n",
        "Q8N960\r\n",
        "P60517\r\n",
        "P21127\r\n",
        "\r\n",
        "Q9GMT4\r\n",
        "\r\n",
        "\r\n",
        "\r\n",
        "\r\n",
        "\r\n",
        "P05995\r\n",
        "\r\n",
        "O42249\r\n",
        "Q96NR8\r\n",
        "Q10471\r\n",
        "Q9DCF9\r\n",
        "Q7YR26\r\n",
        "A7YY53\r\n",
        "Q9CQC9\r\n",
        "P10155\r\n",
        "\r\n",
        "Q9Y3C5\r\n",
        "Q96GX9\r\n",
        "Q13247\r\n",
        "O75096\r\n",
        "P37167\r\n",
        "\r\n",
        "\r\n",
        "Q06A98\r\n",
        "P81942\r\n",
        "Q8N554\r\n",
        "A7E2Y6\r\n",
        "Q8JHV9\r\n",
        "\r\n",
        "Q2YGT9\r\n",
        "Q9VR50\r\n",
        "Q8BZ39\r\n",
        "\r\n",
        "\r\n",
        "Q91560\r\n",
        "Q0P4F7\r\n",
        "Q02543\r\n",
        "\r\n",
        "\r\n",
        "B1H1Z8\r\n",
        "O05389\r\n",
        "\r\n",
        "P47239\r\n",
        "Q8N8K9\r\n",
        "P36633\r\n",
        "P69478\r\n",
        "Q8N556\r\n",
        "Q9JLI3\r\n",
        "Q9D5U8\r\n",
        "Q9BXT6\r\n",
        "O44437\r\n",
        "Q9WU62\r\n",
        "O95394\r\n",
        "P54513\r\n",
        "P17278\r\n",
        "Q9ESN6\r\n",
        "Q13231\r\n",
        "Q9W5U2\r\n",
        "Q9QXV1\r\n",
        "\r\n",
        "Q91677\r\n",
        "Q0IIF9\r\n",
        "O08837\r\n",
        "A3KPQ7\r\n",
        "Q9ES45\r\n",
        "\r\n",
        "Q91987\r\n",
        "Q6PFY8\r\n",
        "Q9BLJ6\r\n",
        "\r\n",
        "Q29RU2\r\n",
        "Q12767\r\n",
        "Q90421\r\n",
        "Q9WTK7\r\n",
        "Q00174\r\n",
        "Q5ZI51\r\n",
        "Q19417\r\n",
        "\r\n",
        "\r\n",
        "Q5U4X5\r\n",
        "\r\n",
        "Q14162\r\n",
        "Q0VFV7\r\n",
        "P43245\r\n",
        "A8WHP3\r\n",
        "A1E295\r\n",
        "P08799\r\n",
        "A2RUV5\r\n",
        "Q9Y5Y6\r\n",
        "Q8TB36\r\n",
        "Q91766\r\n",
        "P00507\r\n",
        "\r\n",
        "Q5ZKW0\r\n",
        "D9HP19\r\n",
        "Q01528\r\n",
        "Q9Y6R7\r\n",
        "P61962\r\n",
        "Q5F408\r\n",
        "Q9FWW6\r\n",
        "O60500\r\n",
        "\r\n",
        "Q4UMH6\r\n",
        "Q28811\r\n",
        "P17078\r\n",
        "Q01484\r\n",
        "Q6INE5\r\n",
        "\r\n",
        "Q8CI08\r\n",
        "Q8AVS8\r\n",
        "\r\n",
        "P35033\r\n",
        "Q02455\r\n",
        "\r\n",
        "\r\n",
        "P07314\r\n",
        "Q2YDL5\r\n",
        "Q9LIK5\r\n",
        "O35015\r\n",
        "\r\n",
        "Q6NRM6\r\n",
        "O43704\r\n",
        "P13277\r\n",
        "\r\n",
        "Q8BGW0\r\n",
        "O44252\r\n",
        "P51865\r\n",
        "Q03333\r\n",
        "Q6VEU3\r\n",
        "Q9GL65\r\n",
        "P60519\r\n",
        "P70110\r\n",
        "\r\n",
        "\r\n",
        "F7H9X2\r\n",
        "Q8K0U4\r\n",
        "\r\n",
        "Q7ZXB1\r\n",
        "P26446\r\n",
        "\r\n",
        "P19971\r\n",
        "\r\n",
        "Q9Y5X4\r\n",
        "Q7Z6K4\r\n",
        "\r\n",
        "\r\n",
        "P47238\r\n",
        "Q9BV40\r\n",
        "D9HP19\r\n",
        "Q96JB1\r\n",
        "\r\n",
        "\r\n",
        "Q8VBV4\r\n",
        "\r\n",
        "Q6UXK5\r\n",
        "\r\n",
        "Q9BZ19\r\n",
        "\r\n",
        "Q2M385\r\n",
        "Q2KJC3\r\n",
        "Q7SZE5\r\n",
        "Q66IC8\r\n",
        "Q9ER47\r\n",
        "Q8C8H8\r\n",
        "Q8C8H8\r\n",
        "Q8C8H8\r\n",
        "Q80YG3\r\n",
        "A8WHP3\r\n",
        "P70684\r\n",
        "\r\n",
        "P30044\r\n",
        "Q2HJ46\r\n",
        "P59742\r\n",
        "\r\n",
        "Q9R0W9\r\n",
        "P48060\r\n",
        "C7G0B5\r\n",
        "\r\n",
        "P55210\r\n",
        "Q62902\r\n",
        "Q9X248\r\n",
        "Q19673\r\n",
        "Q96RW7\r\n",
        "O54879\r\n",
        "D2GXS7\r\n",
        "Q86FP7\r\n",
        "Q6PCM2\r\n",
        "Q641X3\r\n",
        "\r\n",
        "Q13614\r\n",
        "Q14DK5\r\n",
        "Q0VE29\r\n",
        "Q6P2U9\r\n",
        "A8DYE2\r\n",
        "Q64127\r\n",
        "Q8VHG2\r\n",
        "Q6IRN2\r\n",
        "Q9D0P0\r\n",
        "Q5ZKC1\r\n",
        "P17666\r\n",
        "O55071\r\n",
        "Q5SZK8\r\n",
        "Q8C8H8\r\n",
        "\r\n",
        "Q8HYL8\r\n",
        "Q8HZK2\r\n",
        "Q03145\r\n",
        "\r\n",
        "\r\n",
        "Q8N2R8\r\n",
        "O43451\r\n",
        "\r\n",
        "P54269\r\n",
        "Q9UJX6\r\n",
        "Q9JJL4\r\n",
        "Q68Y52\r\n",
        "P40793\r\n",
        "Q9H4E5\r\n",
        "Q8BP56\r\n",
        "P39922\r\n",
        "P56213\r\n",
        "P51692\r\n",
        "\r\n",
        "Q6DJ08\r\n",
        "Q3TEA8\r\n",
        "P42125\r\n",
        "Q09654\r\n",
        "\r\n",
        "Q9YH71\r\n",
        "O17582\r\n",
        "Q8WUN7\r\n",
        "Q91379\r\n",
        "Q7TSV3\r\n",
        "\r\n",
        "\r\n",
        "\r\n",
        "\r\n",
        "\r\n",
        "\r\n",
        "\r\n",
        "\r\n",
        "\r\n",
        "\r\n",
        "\r\n",
        "\r\n",
        "\r\n",
        "\r\n",
        "\r\n",
        "\r\n",
        "\r\n",
        "\r\n",
        "\r\n",
        "\r\n",
        "\r\n",
        "\r\n"
       ]
      }
     ],
     "prompt_number": 30
    },
    {
     "cell_type": "code",
     "collapsed": false,
     "input": [],
     "language": "python",
     "metadata": {},
     "outputs": []
    },
    {
     "cell_type": "code",
     "collapsed": false,
     "input": [],
     "language": "python",
     "metadata": {},
     "outputs": []
    }
   ],
   "metadata": {}
  }
 ]
}