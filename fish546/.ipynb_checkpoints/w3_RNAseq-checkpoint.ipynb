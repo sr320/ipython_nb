{
 "metadata": {
  "name": ""
 },
 "nbformat": 3,
 "nbformat_minor": 0,
 "worksheets": [
  {
   "cells": [
    {
     "cell_type": "heading",
     "level": 1,
     "metadata": {},
     "source": [
      "RNA-Seq"
     ]
    },
    {
     "cell_type": "markdown",
     "metadata": {},
     "source": [
      "Module 3- Comparing counts in libraries; Differential expression with goal of getting a nice plot. There are a few ways to go about this. Essentially you will be mapping reads to scaffold and counting (with a little statistics). I will outline a few ways to about this below."
     ]
    },
    {
     "cell_type": "heading",
     "level": 2,
     "metadata": {},
     "source": [
      "CLC"
     ]
    },
    {
     "cell_type": "markdown",
     "metadata": {},
     "source": [
      "CLC is probably the easiest way to get a table with count data.."
     ]
    },
    {
     "cell_type": "code",
     "collapsed": false,
     "input": [
      "#video how-to run RNA-seq on CLC\n",
      "from IPython.display import YouTubeVideo\n",
      "\n",
      "YouTubeVideo('8q60pm8LrIc')"
     ],
     "language": "python",
     "metadata": {},
     "outputs": [
      {
       "html": [
        "\n",
        "        <iframe\n",
        "            width=\"400\"\n",
        "            height=300\"\n",
        "            src=\"http://www.youtube.com/embed/8q60pm8LrIc\"\n",
        "            frameborder=\"0\"\n",
        "            allowfullscreen\n",
        "        ></iframe>\n",
        "        "
       ],
       "metadata": {},
       "output_type": "pyout",
       "prompt_number": 2,
       "text": [
        "<IPython.lib.display.YouTubeVideo at 0x1024954d0>"
       ]
      }
     ],
     "prompt_number": 2
    },
    {
     "cell_type": "heading",
     "level": 2,
     "metadata": {},
     "source": [
      "IPlant"
     ]
    },
    {
     "cell_type": "markdown",
     "metadata": {},
     "source": [
      "<img src=\"http://eagle.fish.washington.edu/cnidarian/skitch/_1__Discovery_Environment_188B2E8C.png\" alt=\"_1__Discovery_Environment_188B2E8C_png\"/>"
     ]
    },
    {
     "cell_type": "markdown",
     "metadata": {},
     "source": [
      "After uploading Data I used Tophat to align the PE reads to the transcriptome. The primary product is a set of BAM files. "
     ]
    },
    {
     "cell_type": "markdown",
     "metadata": {},
     "source": [
      "<img src=\"http://eagle.fish.washington.edu/cnidarian/skitch/_14__Discovery_Environment_188DB212.png\" alt=\"_14__Discovery_Environment_188DB212_png\"/>"
     ]
    },
    {
     "cell_type": "markdown",
     "metadata": {},
     "source": [
      "In theory Cuffdiff is the next step in the pipeline but I have yet to get to run without an error"
     ]
    },
    {
     "cell_type": "heading",
     "level": 2,
     "metadata": {},
     "source": [
      "Galaxy"
     ]
    },
    {
     "cell_type": "code",
     "collapsed": false,
     "input": [],
     "language": "python",
     "metadata": {},
     "outputs": []
    }
   ],
   "metadata": {}
  }
 ]
}