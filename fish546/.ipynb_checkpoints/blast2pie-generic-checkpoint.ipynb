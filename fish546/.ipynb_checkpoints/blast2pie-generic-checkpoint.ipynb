{
 "metadata": {
  "name": ""
 },
 "nbformat": 3,
 "nbformat_minor": 0,
 "worksheets": [
  {
   "cells": [
    {
     "cell_type": "heading",
     "level": 1,
     "metadata": {},
     "source": [
      "Automating a Workflow: Beyond Blast - to GO Slim"
     ]
    },
    {
     "cell_type": "markdown",
     "metadata": {},
     "source": [
      "The concept is that you can take a fasta file in a working directory and end up with GO slim information all within a single notebook that is automated. Currently this work by writing (and overwriting) as scracth file to SQLShare. Assumptions are that you are working in a directory with fasta file named `query.fa`. And blast algorithms are in PATH. \n"
     ]
    },
    {
     "cell_type": "code",
     "collapsed": false,
     "input": [
      "#allows plots to be shown inline\n",
      "%pylab inline"
     ],
     "language": "python",
     "metadata": {},
     "outputs": [
      {
       "output_type": "stream",
       "stream": "stdout",
       "text": [
        "Populating the interactive namespace from numpy and matplotlib\n"
       ]
      }
     ],
     "prompt_number": 13
    },
    {
     "cell_type": "code",
     "collapsed": false,
     "input": [
      "#Setting Working Directory\n",
      "wd=\"/Volumes/web/whale/fish546/qpx_go_val\"\n",
      "#Setting directory of Blast Databases\n",
      "dbd=\"/Volumes/Bay3/Software/ncbi-blast-2.2.29\\+/db/\"\n",
      "#Database name\n",
      "dbn=\"uniprot_sprot_r2013_12\"\n",
      "#Blast algorithim\n",
      "ba=\"blastx\"\n",
      "#Location of SQLShare python tools: you can empty (\"\") if tools are in PATH\n",
      "spd=\"/Users/sr320/sqlshare-pythonclient/tools/\""
     ],
     "language": "python",
     "metadata": {},
     "outputs": [],
     "prompt_number": 4
    },
    {
     "cell_type": "code",
     "collapsed": false,
     "input": [
      "cd {wd}"
     ],
     "language": "python",
     "metadata": {},
     "outputs": [
      {
       "output_type": "stream",
       "stream": "stdout",
       "text": [
        "/Volumes/web/whale/fish546/qpx_go_val\n"
       ]
      }
     ],
     "prompt_number": 5
    },
    {
     "cell_type": "code",
     "collapsed": false,
     "input": [
      "!{ba} -query query.fa -db {dbd}{dbn} -out {dbn}_{ba}_out.tab -evalue 1E-50 -num_threads 4 -max_hsps_per_subject 1 -max_target_seqs 1 -outfmt 6"
     ],
     "language": "python",
     "metadata": {},
     "outputs": [
      {
       "output_type": "stream",
       "stream": "stdout",
       "text": [
        "BLAST Database error: No alias or index file found for protein database [/Volumes/Bay3/Software/ncbi-blast-2.2.29+/db/uniprot_sprot_r2013_12] in search path [/Volumes/web/whale/fish546/pipeline_test_dir4::]\r\n"
       ]
      }
     ],
     "prompt_number": 5
    },
    {
     "cell_type": "code",
     "collapsed": false,
     "input": [
      "!head -1 {dbn}_{ba}_out.tab"
     ],
     "language": "python",
     "metadata": {},
     "outputs": [
      {
       "output_type": "stream",
       "stream": "stdout",
       "text": [
        "QPX_transcriptome_v1_Contig_2\tsp|P52712|CBPX_ORYSJ\t43.75\t416\t213\t12\t2095\t869\t6\t407\t3e-98\t 326\r\n"
       ]
      }
     ],
     "prompt_number": 6
    },
    {
     "cell_type": "code",
     "collapsed": false,
     "input": [
      "#Translate pipes to tab so SPID is in separate column for Joining\n",
      "!tr '|' \"\\t\" <{dbn}_{ba}_out.tab> {dbn}_{ba}_out2.tab"
     ],
     "language": "python",
     "metadata": {},
     "outputs": [],
     "prompt_number": 17
    },
    {
     "cell_type": "code",
     "collapsed": false,
     "input": [
      "!head -1 {dbn}_{ba}_out2.tab"
     ],
     "language": "python",
     "metadata": {},
     "outputs": [],
     "prompt_number": 18
    },
    {
     "cell_type": "code",
     "collapsed": false,
     "input": [
      "#Uploads formatted blast table to SQLshare; currently has generic name and meant to be temporary: Warning will overwrite.\n",
      "!python {spd}singleupload.py -d scratchblast_out {dbn}_{ba}_out2.tab"
     ],
     "language": "python",
     "metadata": {},
     "outputs": [
      {
       "output_type": "stream",
       "stream": "stdout",
       "text": [
        "processing chunk line 0 to 1512 (0.378393888474 s elapsed)\r\n",
        "pushing uniprot_sprot_r2013_12_blastx_out2.tab...\r\n"
       ]
      },
      {
       "output_type": "stream",
       "stream": "stdout",
       "text": [
        "parsing 8A0C3E42...\r\n"
       ]
      },
      {
       "output_type": "stream",
       "stream": "stdout",
       "text": [
        "finished scratchblast_out\r\n"
       ]
      }
     ],
     "prompt_number": 8
    },
    {
     "cell_type": "code",
     "collapsed": false,
     "input": [
      "!python {spd}fetchdata.py -s \"SELECT * FROM [sr320@washington.edu].[scratchblast_out]blast Left Join [sr320@washington.edu].[uniprot-reviewed_wGO_010714]unp ON blast.Column3 = unp.Entry Left Join [sr320@washington.edu].[SPID and GO Numbers]go ON unp.Entry = go.SPID Left Join [sr320@washington.edu].[GO_to_GOslim]slim ON slim.GO_id = go.GOID\" -f tsv -o {dbn}_join2goslim.txt"
     ],
     "language": "python",
     "metadata": {},
     "outputs": [],
     "prompt_number": 9
    },
    {
     "cell_type": "code",
     "collapsed": false,
     "input": [
      "!head -2 {dbn}_join2goslim.txt"
     ],
     "language": "python",
     "metadata": {},
     "outputs": [
      {
       "output_type": "stream",
       "stream": "stdout",
       "text": [
        "Column1\tColumn2\tColumn3\tColumn4\tColumn5\tColumn6\tColumn7\tColumn8\tColumn9\tColumn10\tColumn11\tColumn12\tColumn13\tColumn14\tEntry\tEntry name\tGene ontology IDs\tInteracts with\tCross-reference (GO)\tGene ontology (GO)\tStatus\tInterPro\tPathway\tProtein names\tGene names\tOrganism\tLength\tSPID\tGOID\tGO_id\tterm\tGOSlim_bin\taspect\r",
        "\r\n",
        "QPX_transcriptome_v1_Contig_5704\tsp\tB0BNA9\tCNO11_RAT\t74.19\t217\t55\t1\t990\t343\t274\t490\t1E-103\t329\tB0BNA9\tCNO11_RAT\tGO:0030014; GO:0005737; GO:0031047; GO:0005634; GO:0006355; GO:0006417; GO:0006351\t\t\tCCR4-NOT complex; cytoplasm; gene silencing by RNA; nucleus; regulation of transcription, DNA-dependent; regulation of translation; transcription, DNA-dependent\treviewed\tIPR019312;\t\tCCR4-NOT transcription complex subunit 11\tCnot11\tRattus norvegicus (Rat)\t504\t\t\t\t\t\t\r",
        "\r\n"
       ]
      }
     ],
     "prompt_number": 10
    },
    {
     "cell_type": "code",
     "collapsed": false,
     "input": [
      "!python {spd}singleupload.py -d scratchjoin_slim {dbn}_join2goslim.txt"
     ],
     "language": "python",
     "metadata": {},
     "outputs": [
      {
       "output_type": "stream",
       "stream": "stdout",
       "text": [
        "processing chunk line 0 to 18037 (0.0718240737915 s elapsed)\r\n",
        "pushing uniprot_sprot_r2013_12_join2goslim.txt...\r\n"
       ]
      },
      {
       "output_type": "stream",
       "stream": "stdout",
       "text": [
        "parsing 9A18D989...\r\n"
       ]
      },
      {
       "output_type": "stream",
       "stream": "stdout",
       "text": [
        "finished scratchjoin_slim\r\n"
       ]
      }
     ],
     "prompt_number": 11
    },
    {
     "cell_type": "code",
     "collapsed": false,
     "input": [
      "#Sets GO aspect \n",
      "!python {spd}fetchdata.py -s \"SELECT Distinct Column1 as query, Column3 as SPID, GOSlim_bin FROM [sr320@washington.edu].[scratchjoin_slim] Where aspect = 'P'\" -f tsv -o justslim.txt"
     ],
     "language": "python",
     "metadata": {},
     "outputs": [],
     "prompt_number": 12
    },
    {
     "cell_type": "code",
     "collapsed": false,
     "input": [
      "!head justslim.txt"
     ],
     "language": "python",
     "metadata": {},
     "outputs": [
      {
       "output_type": "stream",
       "stream": "stdout",
       "text": [
        "query\tSPID\tGOSlim_bin\r",
        "\r\n",
        "QPX_transcriptome_v1_Contig_10\tQ17770\tdevelopmental processes\r",
        "\r\n",
        "QPX_transcriptome_v1_Contig_10\tQ17770\tother biological processes\r",
        "\r\n",
        "QPX_transcriptome_v1_Contig_10\tQ17770\tother metabolic processes\r",
        "\r\n",
        "QPX_transcriptome_v1_Contig_10\tQ17770\tsignal transduction\r",
        "\r\n",
        "QPX_transcriptome_v1_Contig_10\tQ17770\tstress response\r",
        "\r\n",
        "QPX_transcriptome_v1_Contig_1003\tQ9UEW8\tother metabolic processes\r",
        "\r\n",
        "QPX_transcriptome_v1_Contig_1003\tQ9UEW8\tprotein metabolism\r",
        "\r\n",
        "QPX_transcriptome_v1_Contig_1003\tQ9UEW8\tstress response\r",
        "\r\n",
        "QPX_transcriptome_v1_Contig_1003\tQ9UEW8\ttransport\r",
        "\r\n"
       ]
      }
     ],
     "prompt_number": 13
    },
    {
     "cell_type": "code",
     "collapsed": false,
     "input": [
      "from pandas import *\n",
      "\n",
      "jslim = read_table(\"justslim.txt\", # name of the data file\n",
      "            #sep=\",\", # what character separates each column?\n",
      "            na_values=[\"\", \" \"]) # what values should be considered \"blank\" values?"
     ],
     "language": "python",
     "metadata": {},
     "outputs": [],
     "prompt_number": 15
    },
    {
     "cell_type": "code",
     "collapsed": false,
     "input": [
      "jslim.groupby('GOSlim_bin').query.count().plot(kind='bar')\n"
     ],
     "language": "python",
     "metadata": {},
     "outputs": [
      {
       "metadata": {},
       "output_type": "pyout",
       "prompt_number": 16,
       "text": [
        "<matplotlib.axes.AxesSubplot at 0x1067a5550>"
       ]
      },
      {
       "metadata": {},
       "output_type": "display_data",
       "png": "[encoded data removed]",
       "text": [
        "<matplotlib.figure.Figure at 0x106773fd0>"
       ]
      }
     ],
     "prompt_number": 16
    },
    {
     "cell_type": "code",
     "collapsed": false,
     "input": [],
     "language": "python",
     "metadata": {},
     "outputs": []
    },
    {
     "cell_type": "code",
     "collapsed": false,
     "input": [],
     "language": "python",
     "metadata": {},
     "outputs": []
    },
    {
     "cell_type": "code",
     "collapsed": false,
     "input": [
      "!python {spd}singleupload.py -d scratchjoin_slim {dbn}_join2goslim.txt"
     ],
     "language": "python",
     "metadata": {},
     "outputs": [
      {
       "output_type": "stream",
       "stream": "stdout",
       "text": [
        "processing chunk line 0 to 17730 (0.107241153717 s elapsed)\r\n"
       ]
      },
      {
       "output_type": "stream",
       "stream": "stdout",
       "text": [
        "pushing uniprot_sprot_r2013_12_join2goslim.txt...\r\n"
       ]
      },
      {
       "output_type": "stream",
       "stream": "stdout",
       "text": [
        "parsing 9474190F...\r\n"
       ]
      },
      {
       "output_type": "stream",
       "stream": "stdout",
       "text": [
        "finished scratchjoin_slim\r\n"
       ]
      }
     ],
     "prompt_number": 10
    },
    {
     "cell_type": "code",
     "collapsed": false,
     "input": [
      "#Sets GO aspect \n",
      "!python {spd}fetchdata.py -s \"SELECT Distinct Column1 as query, Column3 as SPID, GOSlim_bin FROM [sr320@washington.edu].[scratchjoin_slim] Where aspect = 'P'\" -f tsv -o justslim.txt"
     ],
     "language": "python",
     "metadata": {},
     "outputs": [],
     "prompt_number": 11
    },
    {
     "cell_type": "code",
     "collapsed": false,
     "input": [
      "!head justslim.txt"
     ],
     "language": "python",
     "metadata": {},
     "outputs": [
      {
       "output_type": "stream",
       "stream": "stdout",
       "text": [
        "query\tSPID\tGOSlim_bin\r",
        "\r\n",
        "ConsensusfromContig10\tQ9PVZ4\tcell organization and biogenesis\r",
        "\r\n",
        "ConsensusfromContig10\tQ9PVZ4\tdevelopmental processes\r",
        "\r\n",
        "ConsensusfromContig10\tQ9PVZ4\tother metabolic processes\r",
        "\r\n",
        "ConsensusfromContig10\tQ9PVZ4\tprotein metabolism\r",
        "\r\n",
        "ConsensusfromContig10\tQ9PVZ4\tsignal transduction\r",
        "\r\n",
        "ConsensusfromContig1003\tQ92922\tcell organization and biogenesis\r",
        "\r\n",
        "ConsensusfromContig1003\tQ92922\tdevelopmental processes\r",
        "\r\n",
        "ConsensusfromContig1003\tQ92922\tRNA metabolism\r",
        "\r\n",
        "ConsensusfromContig1003\tQ92922\tsignal transduction\r",
        "\r\n"
       ]
      }
     ],
     "prompt_number": 20
    },
    {
     "cell_type": "code",
     "collapsed": false,
     "input": [
      "#from pandas import *\n",
      "\n",
      "jslim = read_table(\"justslim.txt\", # name of the data file\n",
      "            #sep=\",\", # what character separates each column?\n",
      "            na_values=[\"\", \" \"]) # what values should be considered \"blank\" values?"
     ],
     "language": "python",
     "metadata": {},
     "outputs": [],
     "prompt_number": 31
    },
    {
     "cell_type": "code",
     "collapsed": false,
     "input": [
      "jslim.groupby('GOSlim_bin').query.count().plot(kind='bar')\n"
     ],
     "language": "python",
     "metadata": {},
     "outputs": [
      {
       "metadata": {},
       "output_type": "pyout",
       "prompt_number": 32,
       "text": [
        "<matplotlib.axes.AxesSubplot at 0x1068c1790>"
       ]
      },
      {
       "metadata": {},
       "output_type": "display_data",
       "png": "[encoded data removed]",
       "text": [
        "<matplotlib.figure.Figure at 0x1053cff90>"
       ]
      }
     ],
     "prompt_number": 32
    },
    {
     "cell_type": "code",
     "collapsed": false,
     "input": [
      "!say \"hash tag winning\""
     ],
     "language": "python",
     "metadata": {},
     "outputs": [],
     "prompt_number": 33
    },
    {
     "cell_type": "heading",
     "level": 3,
     "metadata": {},
     "source": [
      "Below is optional"
     ]
    },
    {
     "cell_type": "code",
     "collapsed": false,
     "input": [
      "#could also upload again to get a simple table\n",
      "#could be done in pandas\n",
      "\n",
      "#!python {spd}singleupload.py -d scratchpie justslim.txt"
     ],
     "language": "python",
     "metadata": {},
     "outputs": [
      {
       "output_type": "stream",
       "stream": "stdout",
       "text": [
        "processing chunk line 0 to 2538 (0.00250601768494 s elapsed)\r\n",
        "pushing justslim.txt...\r\n"
       ]
      },
      {
       "output_type": "stream",
       "stream": "stdout",
       "text": [
        "parsing 87B0B7A8...\r\n"
       ]
      },
      {
       "output_type": "stream",
       "stream": "stdout",
       "text": [
        "finished scratchpie\r\n"
       ]
      }
     ],
     "prompt_number": 13
    },
    {
     "cell_type": "code",
     "collapsed": false,
     "input": [
      "#fetching data grouped by GObin\n",
      "\n",
      "#!python {spd}fetchdata.py -s \"SELECT GOSlim_bin, COUNT(GOSlim_bin) as termcount from [sr320@washington.edu].[scratchpie] Group by GOSlim_bin\" -f tsv -o justpie.txt"
     ],
     "language": "python",
     "metadata": {},
     "outputs": [],
     "prompt_number": 14
    },
    {
     "cell_type": "code",
     "collapsed": false,
     "input": [],
     "language": "python",
     "metadata": {},
     "outputs": []
    }
   ],
   "metadata": {}
  }
 ]
}