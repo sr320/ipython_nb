{
 "metadata": {
  "name": ""
 },
 "nbformat": 3,
 "nbformat_minor": 0,
 "worksheets": [
  {
   "cells": [
    {
     "cell_type": "heading",
     "level": 1,
     "metadata": {},
     "source": [
      "RAD Data"
     ]
    },
    {
     "cell_type": "markdown",
     "metadata": {},
     "source": [
      "We will explore how to handle RAD data - trying to use IPlant - Stacks"
     ]
    },
    {
     "cell_type": "markdown",
     "metadata": {},
     "source": [
      "Some clam data"
     ]
    },
    {
     "cell_type": "code",
     "collapsed": false,
     "input": [
      "cd /Volumes/web/whale/"
     ],
     "language": "python",
     "metadata": {},
     "outputs": [
      {
       "output_type": "stream",
       "stream": "stdout",
       "text": [
        "/Volumes/web/whale\n"
       ]
      }
     ],
     "prompt_number": 2
    },
    {
     "cell_type": "code",
     "collapsed": false,
     "input": [
      "!gunzip clam_RAD_s_1_sequence.txt.txt.gz"
     ],
     "language": "python",
     "metadata": {},
     "outputs": [],
     "prompt_number": "*"
    },
    {
     "cell_type": "markdown",
     "metadata": {},
     "source": [
      "_Some text for perspective - methods:_\n",
      "    \n",
      "Restriction site associated DNA (RAD) marker library preparation    \n",
      "Restriction site associated DNA (RAD) marker libraries were constructed to identify diagnostic markers among cohorts. Genomic DNA was isolated separately from the gill tissue BARN (n=4) and MASH (n=4) clams using DNAzol (Molecular Research Center) as per manufacturers recommendations. Libraries were prepared as described by Miller et al 2007. Briefly samples (n=8) were digested Sbf-1 (New England Biolabs), then each hybridized with a unique barcode, and RAD adapters (PI and P2) were ligated on DNA fragments. Size selection of DNA fragments was achieved by running PCR on a 1% EZ gel (Invitrogen) with E-gel 1 kb Plus DNA ladder followed by purification using the MiniElute gel purification protocol. Subsequent library construction and sequencing was carried out by the University of Washington High Throughput Genomics Unit (HTGU) using the Illumina HiSeq2000 system.    \n",
      "\n",
      "---\n",
      "    \n",
      "Restriction site associated DNA (RAD) marker library analysis   \n",
      "Initial sequence read processing of RAD tags was carried out as previously described by Miller et (2012). Quality scores were used to remove raw sequencing reads with a probability of sequencing error greater than 10%. Using custom perl scripts (Miller et al. 2012) we then grouped raw sequences reads by individual and removed barcodes and restriction sites for a total sequence read length of 24 base pairs.\n",
      "\n",
      "Two types SNP analyses were performed including population specific SNP variation characterization and the identification of SNPs that could potentially distinguish populations. In order to examine population specific SNP variation quality trimmed reads from each cohort (BARN and MASH) were assembled independently using the following parameters; limit = 8, and mismatch cost = 2 (Genomics Workbench 4.0; CLC Bio). SNP detection was carried out using the following parameters:  maximum gap and mismatch count = 2,  minimum average quality = 15, minimum central quality = 20, minimum coverage = 10, minimum variant frequency = 35% (Genomics Workbench 4.0; CLC Bio). \n",
      "\n",
      "For the second form of SNP analysis Novoindex and Novoalign (Novocraft Technologies) were used to aseemble RAD-tags to identify RAD-tags within a cohort that were identical (lacked any polymorphisms. These \u201cisotigs\u201d from each cohort were then compared by assembling reads and carrying out SNP detection as described above. Any SNP that was identified indicated that the locus is fixed for the individuals in each cohort examined."
     ]
    },
    {
     "cell_type": "markdown",
     "metadata": {},
     "source": [
      "https://www.evernote.com/shard/s10/sh/83c8adea-e40f-417b-a211-92b0a3a2b04f/1919679c5d1b0d3cdc66ca4273f1598b"
     ]
    },
    {
     "cell_type": "code",
     "collapsed": false,
     "input": [
      "from IPython.display import HTML\n",
      "HTML('<iframe src=https://www.evernote.com/shard/s10/sh/83c8adea-e40f-417b-a211-92b0a3a2b04f/1919679c5d1b0d3cdc66ca4273f1598bl width=100% height=550></iframe>')"
     ],
     "language": "python",
     "metadata": {},
     "outputs": [],
     "prompt_number": "*"
    },
    {
     "cell_type": "markdown",
     "metadata": {},
     "source": [
      "_results_ \n",
      "\n",
      "RAD\n",
      "After quality trimming there 14.5 million reads remained from BARN clams (n=4) and 8.4 million reads from MASH clams (n=4), with a read length of 24bp. All but one individuals (MASH) had between 2.4 and 4.7 millions reads. To assess overall genetic diversity between the populations, reads were characterized in silico for each cohort. A de novo assembly of BARN reads resulted in 4,491 contigs containing 543 putative SNPs [Additional File 1](http://aquacul4.fish.washington.edu/~steven/armina/BARN_RAD_SNPtable.txt). This corresponds to approximately 5.0 SNPs / 1kb.  Assembly of the MASH reads resulted in 9,824 contigs containing 1372 SNPs [Additional File 2](http://aquacul4.fish.washington.edu/~steven/armina/MASH_RAD_SNPtable.txt). For this MASH library this corresponds to approximately 5.8 SNPs / 1kb. \n",
      "\n",
      "In addition to characterizing putative SNP within cohorts, we also set out to identify fixed loci that could be used to distinguish between cohorts.  The number of identical contigs for each library was 8606 and 4845 for MASH and BARN, respectively. Comparing these two sets of isotigs revealed 2090 analogous sequences across cohorts with 1945 identical matches. The remaining 145 putative SNPs thus provide diagnostic markers to distinguish strains based on the samples used here. Of the 145 corresponding contigs only one mapped back to the transcriptome and this transcript was not annotated.\n",
      " "
     ]
    },
    {
     "cell_type": "markdown",
     "metadata": {},
     "source": [
      "**via Storer Evernote**\n",
      "\n",
      "Download sequence files in Illumina fastq format. \n",
      "This will not open in notepad. \n",
      "Need program such as \"Large Text File Viewer\". Link to this will be on catalyst site.\n",
      "these file are 16-20 GB\n",
      "\n",
      "First letters of seq are barcode. Second line are quality score for each sequence\n",
      "\n",
      "EXAMPLE\n",
      "@name (line also contains information on samples location on slide)\n",
      "sequence\n",
      "+ name\n",
      "quality scores\n",
      "\n",
      "typically first sequences are low quality\n",
      "\n",
      "General notes:\n",
      "> (carrot symbol) tells perl to write a file \n",
      "Unix format needs \n",
      "up key spits out previous command so that you can edit\n",
      "\n",
      "line 9 is telling it to read file line by line\n",
      "lines 11-14 is telling it to read the code line by line\n",
      "\n",
      "x+++ Note:What does it mean?\n",
      "\n",
      "\n",
      "Why do we want to count the number of sequences?\n",
      "We can filter sequences based on the number of counts (eg too low or too high such as 10,000) \n",
      "Cutoff based on distribution of read counts\n",
      "\n",
      "Novoalign: longest step (24hrs) This assembly is program is good because it does not make any assumptions about trying to lengthen sequences eg creates stacks\n",
      "\n",
      "Can only run on cluster need 64 bit unix system\n",
      "Installed on node 4\n",
      "Navigate to Novocraft folder on desktop\n",
      "open terminal create directory (cd) in Novocraft \n",
      "\n",
      "Next Step is align sequences back to their index\n",
      "\n",
      "The higher the scores the worse the alignment. The score is the number of mismatched basepairs.\n",
      "\n",
      "To get the files on and off the cluster use DENALI\n",
      "\n",
      "NOVO file interpretation \n",
      "R-matched to other sequences\n",
      "U-only matched to itself\n",
      "Next is the score and then the sequences it has matched to\n",
      "Sometimes a score of 30 indicates a single nucleotide difference\n",
      "\n",
      "For next week...\n",
      "rerun scripts and try running the other Novo align script"
     ]
    },
    {
     "cell_type": "markdown",
     "metadata": {},
     "source": [
      "<img src=\"http://eagle.fish.washington.edu/cnidarian/skitch/_40__Discovery_Environment_18BCD1C5.png\" alt=\"_40__Discovery_Environment_18BCD1C5_png\"/>"
     ]
    },
    {
     "cell_type": "code",
     "collapsed": false,
     "input": [],
     "language": "python",
     "metadata": {},
     "outputs": []
    }
   ],
   "metadata": {}
  }
 ]
}