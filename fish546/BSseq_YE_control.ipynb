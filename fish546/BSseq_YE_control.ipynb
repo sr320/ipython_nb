{
 "metadata": {
  "name": "",
  "signature": "sha256:cd1c48e107b0cf29347434460e381cf2b8d515810e230cc0f868e318be85c510"
 },
 "nbformat": 3,
 "nbformat_minor": 0,
 "worksheets": [
  {
   "cells": [
    {
     "cell_type": "heading",
     "level": 1,
     "metadata": {},
     "source": [
      "Workflow for processing BSseq Data"
     ]
    },
    {
     "cell_type": "markdown",
     "metadata": {},
     "source": [
      "This example will use _C gigas_ larvae data."
     ]
    },
    {
     "cell_type": "code",
     "collapsed": false,
     "input": [
      "#Setting Variables\n",
      "R1=\"filtered_Y38_control_GTGAAA_L005_R1\"\n",
      "R2=\"filtered_Y38_control_GTGAAA_L005_R2\""
     ],
     "language": "python",
     "metadata": {},
     "outputs": [],
     "prompt_number": 6
    },
    {
     "cell_type": "heading",
     "level": 2,
     "metadata": {},
     "source": [
      "File extraction"
     ]
    },
    {
     "cell_type": "code",
     "collapsed": false,
     "input": [
      "!gunzip /Volumes/web/trilobite/Crassostrea_gigas_HTSdata/{R1}.fastq.gz"
     ],
     "language": "python",
     "metadata": {},
     "outputs": [],
     "prompt_number": 13
    },
    {
     "cell_type": "code",
     "collapsed": false,
     "input": [
      "!gunzip /Volumes/web/trilobite/Crassostrea_gigas_HTSdata/{R2}.fastq.gz"
     ],
     "language": "python",
     "metadata": {},
     "outputs": [],
     "prompt_number": 14
    },
    {
     "cell_type": "heading",
     "level": 2,
     "metadata": {},
     "source": [
      "Quality Check (local)"
     ]
    },
    {
     "cell_type": "code",
     "collapsed": false,
     "input": [
      "!/Volumes/Bay3/Software/FastQC/fastqc \\\n",
      "/Volumes/web/trilobite/Crassostrea_gigas_HTSdata/{R1}.fastq \\\n",
      "-o /Volumes/web/cnidarian/"
     ],
     "language": "python",
     "metadata": {},
     "outputs": [
      {
       "output_type": "stream",
       "stream": "stdout",
       "text": [
        "Started analysis of filtered_Y38_control_GTGAAA_L005_R1.fastq\r\n"
       ]
      },
      {
       "output_type": "stream",
       "stream": "stdout",
       "text": [
        "Approx 5% complete for filtered_Y38_control_GTGAAA_L005_R1.fastq\r\n"
       ]
      },
      {
       "output_type": "stream",
       "stream": "stdout",
       "text": [
        "Approx 10% complete for filtered_Y38_control_GTGAAA_L005_R1.fastq\r\n"
       ]
      },
      {
       "output_type": "stream",
       "stream": "stdout",
       "text": [
        "Approx 15% complete for filtered_Y38_control_GTGAAA_L005_R1.fastq\r\n"
       ]
      },
      {
       "output_type": "stream",
       "stream": "stdout",
       "text": [
        "Approx 20% complete for filtered_Y38_control_GTGAAA_L005_R1.fastq\r\n"
       ]
      },
      {
       "output_type": "stream",
       "stream": "stdout",
       "text": [
        "Approx 25% complete for filtered_Y38_control_GTGAAA_L005_R1.fastq\r\n"
       ]
      },
      {
       "output_type": "stream",
       "stream": "stdout",
       "text": [
        "Approx 30% complete for filtered_Y38_control_GTGAAA_L005_R1.fastq\r\n"
       ]
      },
      {
       "output_type": "stream",
       "stream": "stdout",
       "text": [
        "Approx 35% complete for filtered_Y38_control_GTGAAA_L005_R1.fastq\r\n"
       ]
      },
      {
       "output_type": "stream",
       "stream": "stdout",
       "text": [
        "Approx 40% complete for filtered_Y38_control_GTGAAA_L005_R1.fastq\r\n"
       ]
      },
      {
       "output_type": "stream",
       "stream": "stdout",
       "text": [
        "Approx 45% complete for filtered_Y38_control_GTGAAA_L005_R1.fastq\r\n"
       ]
      },
      {
       "output_type": "stream",
       "stream": "stdout",
       "text": [
        "Approx 50% complete for filtered_Y38_control_GTGAAA_L005_R1.fastq\r\n"
       ]
      },
      {
       "output_type": "stream",
       "stream": "stdout",
       "text": [
        "Approx 55% complete for filtered_Y38_control_GTGAAA_L005_R1.fastq\r\n"
       ]
      },
      {
       "output_type": "stream",
       "stream": "stdout",
       "text": [
        "Approx 60% complete for filtered_Y38_control_GTGAAA_L005_R1.fastq\r\n"
       ]
      },
      {
       "output_type": "stream",
       "stream": "stdout",
       "text": [
        "Approx 65% complete for filtered_Y38_control_GTGAAA_L005_R1.fastq\r\n"
       ]
      },
      {
       "output_type": "stream",
       "stream": "stdout",
       "text": [
        "Approx 70% complete for filtered_Y38_control_GTGAAA_L005_R1.fastq\r\n"
       ]
      },
      {
       "output_type": "stream",
       "stream": "stdout",
       "text": [
        "Approx 75% complete for filtered_Y38_control_GTGAAA_L005_R1.fastq\r\n"
       ]
      },
      {
       "output_type": "stream",
       "stream": "stdout",
       "text": [
        "Approx 80% complete for filtered_Y38_control_GTGAAA_L005_R1.fastq\r\n"
       ]
      },
      {
       "output_type": "stream",
       "stream": "stdout",
       "text": [
        "Approx 85% complete for filtered_Y38_control_GTGAAA_L005_R1.fastq\r\n"
       ]
      },
      {
       "output_type": "stream",
       "stream": "stdout",
       "text": [
        "Approx 90% complete for filtered_Y38_control_GTGAAA_L005_R1.fastq\r\n"
       ]
      },
      {
       "output_type": "stream",
       "stream": "stdout",
       "text": [
        "Approx 95% complete for filtered_Y38_control_GTGAAA_L005_R1.fastq\r\n"
       ]
      },
      {
       "output_type": "stream",
       "stream": "stdout",
       "text": [
        "Approx 100% complete for filtered_Y38_control_GTGAAA_L005_R1.fastq\r\n"
       ]
      },
      {
       "output_type": "stream",
       "stream": "stdout",
       "text": [
        "Analysis complete for filtered_Y38_control_GTGAAA_L005_R1.fastq\r\n"
       ]
      }
     ],
     "prompt_number": 15
    },
    {
     "cell_type": "code",
     "collapsed": false,
     "input": [
      "!/Volumes/Bay3/Software/FastQC/fastqc \\\n",
      "/Volumes/web/trilobite/Crassostrea_gigas_HTSdata/{R2}.fastq \\\n",
      "-q \\\n",
      "-o /Volumes/web/cnidarian/"
     ],
     "language": "python",
     "metadata": {},
     "outputs": [],
     "prompt_number": 16
    },
    {
     "cell_type": "markdown",
     "metadata": {},
     "source": [
      "<http://eagle.fish.washington.edu/cnidarian/filtered_Y38_control_GTGAAA_L005_R1_fastqc/fastqc_report.html>"
     ]
    },
    {
     "cell_type": "markdown",
     "metadata": {},
     "source": [
      "<http://eagle.fish.washington.edu/cnidarian/filtered_Y38_control_GTGAAA_L005_R2_fastqc/fastqc_report.html>"
     ]
    },
    {
     "cell_type": "code",
     "collapsed": false,
     "input": [
      "!grep -A 5 \"Overrepresented\" /Volumes/web/cnidarian/{R1}_fastqc/fastqc_data.txt"
     ],
     "language": "python",
     "metadata": {},
     "outputs": [
      {
       "output_type": "stream",
       "stream": "stdout",
       "text": [
        ">>Overrepresented sequences\tfail\r\n",
        "#Sequence\tCount\tPercentage\tPossible Source\r\n",
        "GATCGGAAGAGCACACGTCTGAACTCCAGTCACGTG\t77030\t2.233517550930463\tTruSeq Adapter, Index 1 (97% over 35bp)\r\n",
        ">>END_MODULE\r\n",
        ">>Kmer Content\tfail\r\n",
        "#Sequence\tCount\tObs/Exp Overall\tObs/Exp Max\tMax Obs/Exp Position\r\n"
       ]
      }
     ],
     "prompt_number": 17
    },
    {
     "cell_type": "code",
     "collapsed": false,
     "input": [
      "!grep -A 6 \"Overrepresented\" /Volumes/web/cnidarian/{R2}_fastqc/fastqc_data.txt"
     ],
     "language": "python",
     "metadata": {},
     "outputs": [
      {
       "output_type": "stream",
       "stream": "stdout",
       "text": [
        ">>Overrepresented sequences\twarn\r\n",
        "#Sequence\tCount\tPercentage\tPossible Source\r\n",
        "GATCGGAAGAGCGTCGTGTAGGGAAAGAGTGTAGAT\t21905\t0.6351447741546384\tIllumina Single End PCR Primer 1 (100% over 36bp)\r\n",
        "NNNNNNNNNNNNNNNNNNNNNNNNNNNNNNNNNNNN\t9464\t0.27441269767630666\tNo Hit\r\n",
        "GATCGGAAGAGCGTCGGGTAGGGAAAGAGGGTAGAT\t7464\t0.2164218486322858\tIllumina Single End PCR Primer 1 (96% over 29bp)\r\n",
        "GATCGGAAGAGCGTCGGGTAGGGAAAGAGTGTAGAT\t6997\t0.20288098538050695\tIllumina Single End PCR Primer 1 (97% over 36bp)\r\n",
        ">>END_MODULE\r\n"
       ]
      }
     ],
     "prompt_number": 18
    },
    {
     "cell_type": "code",
     "collapsed": false,
     "input": [
      "!sed -n \"/>>Overrepresented/,/>>END_MODULE/p\" /Volumes/web/cnidarian/{R2}_fastqc/fastqc_data.txt"
     ],
     "language": "python",
     "metadata": {},
     "outputs": [
      {
       "output_type": "stream",
       "stream": "stdout",
       "text": [
        ">>Overrepresented sequences\twarn\r\n",
        "#Sequence\tCount\tPercentage\tPossible Source\r\n",
        "GATCGGAAGAGCGTCGTGTAGGGAAAGAGTGTAGAT\t21905\t0.6351447741546384\tIllumina Single End PCR Primer 1 (100% over 36bp)\r\n",
        "NNNNNNNNNNNNNNNNNNNNNNNNNNNNNNNNNNNN\t9464\t0.27441269767630666\tNo Hit\r\n",
        "GATCGGAAGAGCGTCGGGTAGGGAAAGAGGGTAGAT\t7464\t0.2164218486322858\tIllumina Single End PCR Primer 1 (96% over 29bp)\r\n",
        "GATCGGAAGAGCGTCGGGTAGGGAAAGAGTGTAGAT\t6997\t0.20288098538050695\tIllumina Single End PCR Primer 1 (97% over 36bp)\r\n",
        ">>END_MODULE\r\n"
       ]
      }
     ],
     "prompt_number": 8
    },
    {
     "cell_type": "heading",
     "level": 2,
     "metadata": {},
     "source": [
      "Removing Overpresented sequences"
     ]
    },
    {
     "cell_type": "code",
     "collapsed": false,
     "input": [
      "!cat /Volumes/web/cnidarian/YE_overrepresent.txt"
     ],
     "language": "python",
     "metadata": {},
     "outputs": [
      {
       "output_type": "stream",
       "stream": "stdout",
       "text": [
        ">TruSeq Adapter, Index 1\r\n",
        "GATCGGAAGAGCACACGTCTGAACTCCAGTCACGTG\r\n",
        ">Illumina Single End PCR Primer 1\r\n",
        "GATCGGAAGAGCGTCGTGTAGGGAAAGAGTGTAGAT\r\n"
       ]
      }
     ],
     "prompt_number": 10
    },
    {
     "cell_type": "code",
     "collapsed": false,
     "input": [
      "!/Volumes/Bay3/Software/ea-utils.1.1.2-537/fastq-mcf \\\n",
      "-o /Volumes/web/cnidarian/{R1}_tr.fastq \\\n",
      "-o /Volumes/web/cnidarian/{R2}_tr.fastq \\\n",
      "/Volumes/web/cnidarian/YE_overrepresent.txt \\\n",
      "/Volumes/web/trilobite/Crassostrea_gigas_HTSdata/{R1}.fastq \\\n",
      "/Volumes/web/trilobite/Crassostrea_gigas_HTSdata/{R2}.fastq"
     ],
     "language": "python",
     "metadata": {},
     "outputs": [
      {
       "output_type": "stream",
       "stream": "stdout",
       "text": [
        "Scale used: 2.2\r\n"
       ]
      },
      {
       "output_type": "stream",
       "stream": "stdout",
       "text": [
        "Phred: 33\r\n"
       ]
      },
      {
       "output_type": "stream",
       "stream": "stdout",
       "text": [
        "Within-read Skew: Position 4 from the start of reads is skewed!\r\n",
        "Within-read Skew: Position 5 from the start of reads is skewed!\r\n",
        "Within-read Skew: Position 6 from the start of reads is skewed!\r\n",
        "Within-read Skew: Position 7 from the start of reads is skewed!\r\n",
        "Within-read Skew: Position 8 from the start of reads is skewed!\r\n",
        "Within-read Skew: Position 9 from the start of reads is skewed!\r\n",
        "Within-read Skew: Position 10 from the start of reads is skewed!\r\n",
        "Within-read Skew: Position 12 from the start of reads is skewed!\r\n",
        "Within-read Skew: Position 14 from the start of reads is skewed!\r\n",
        "Within-read Skew: Position 16 from the start of reads is skewed!\r\n",
        "Within-read Skew: Position 17 from the start of reads is skewed!\r\n",
        "Within-read Skew: Position 4 from the end of reads is skewed!\r\n",
        "Within-read Skew: Position 6 from the end of reads is skewed!\r\n",
        "Within-read Skew: Position 7 from the end of reads is skewed!\r\n",
        "Within-read Skew: Position 8 from the end of reads is skewed!\r\n",
        "Within-read Skew: Position 11 from the end of reads is skewed!\r\n",
        "Within-read Skew: Position 13 from the end of reads is skewed!\r\n",
        "Within-read Skew: Position 14 from the end of reads is skewed!\r\n",
        "Within-read Skew: Position 15 from the end of reads is skewed!\r\n",
        "Within-read Skew: Position 16 from the end of reads is skewed!\r\n",
        "Warning: Too much skewing found (36), disabling skew clipping\r\n",
        "Threshold used: 751 out of 300000\r\n",
        "Adapter TruSeq Adapter, Index 1 (GATCGGAAGAGCACACGTCTGAACTCCAGTCACGTG): counted 8753 at the 'start' of '/Volumes/web/trilobite/Crassostrea_gigas_HTSdata/filtered_Y38_control_GTGAAA_L005_R1.fastq', clip set to 4\r\n",
        "Files: 2\r\n"
       ]
      },
      {
       "output_type": "stream",
       "stream": "stdout",
       "text": [
        "Total reads: 3448820\r\n",
        "Too short after clip: 186681\r\n",
        "Clipped 'start' reads (/Volumes/web/trilobite/Crassostrea_gigas_HTSdata/filtered_Y38_control_GTGAAA_L005_R1.fastq): Count 993, Mean: 4.51, Sd: 1.78\r\n",
        "Trimmed 68594 reads (/Volumes/web/trilobite/Crassostrea_gigas_HTSdata/filtered_Y38_control_GTGAAA_L005_R1.fastq) by an average of 7.77 bases on quality < 7\r\n",
        "Trimmed 140063 reads (/Volumes/web/trilobite/Crassostrea_gigas_HTSdata/filtered_Y38_control_GTGAAA_L005_R2.fastq) by an average of 21.59 bases on quality < 7\r\n"
       ]
      }
     ],
     "prompt_number": 19
    },
    {
     "cell_type": "code",
     "collapsed": false,
     "input": [
      "#confirming\n",
      "!/Volumes/Bay3/Software/FastQC/fastqc \\\n",
      "/Volumes/web/cnidarian/{R1}_tr.fastq \\\n",
      "-q \\\n",
      "-o /Volumes/web/cnidarian/"
     ],
     "language": "python",
     "metadata": {},
     "outputs": [],
     "prompt_number": 25
    },
    {
     "cell_type": "code",
     "collapsed": false,
     "input": [
      "!grep -A 5 \"Overrepresented\" /Volumes/web/cnidarian/{R1}_tr_fastqc/fastqc_data.txt"
     ],
     "language": "python",
     "metadata": {},
     "outputs": [
      {
       "output_type": "stream",
       "stream": "stdout",
       "text": [
        ">>Overrepresented sequences\tpass\r\n",
        ">>END_MODULE\r\n",
        ">>Kmer Content\tfail\r\n",
        "#Sequence\tCount\tObs/Exp Overall\tObs/Exp Max\tMax Obs/Exp Position\r\n",
        "CCCCC\t50\t509094.34\t1651751.6\t32\r\n",
        "CTCCC\t130\t10524.399\t324060.84\t24\r\n"
       ]
      }
     ],
     "prompt_number": 26
    },
    {
     "cell_type": "code",
     "collapsed": false,
     "input": [
      "#confirming\n",
      "!/Volumes/Bay3/Software/FastQC/fastqc \\\n",
      "/Volumes/web/cnidarian/{R2}_tr.fastq \\\n",
      "-q \\\n",
      "-o /Volumes/web/cnidarian/"
     ],
     "language": "python",
     "metadata": {},
     "outputs": [],
     "prompt_number": 27
    },
    {
     "cell_type": "code",
     "collapsed": false,
     "input": [
      "!grep -A 5 \"Overrepresented\" /Volumes/web/cnidarian/{R2}_tr_fastqc/fastqc_data.txt"
     ],
     "language": "python",
     "metadata": {},
     "outputs": [
      {
       "output_type": "stream",
       "stream": "stdout",
       "text": [
        ">>Overrepresented sequences\tpass\r\n",
        ">>END_MODULE\r\n",
        ">>Kmer Content\tfail\r\n",
        "#Sequence\tCount\tObs/Exp Overall\tObs/Exp Max\tMax Obs/Exp Position\r\n",
        "GGGGG\t60\t331473.72\t4440570.5\t27\r\n",
        "GAGGG\t235\t11672.065\t199613.89\t27\r\n"
       ]
      }
     ],
     "prompt_number": 28
    },
    {
     "cell_type": "heading",
     "level": 2,
     "metadata": {},
     "source": [
      "BSMAP"
     ]
    },
    {
     "cell_type": "code",
     "collapsed": false,
     "input": [
      "! /Volumes/Bay3/Software/BSMAP/bsmap-2.74/bsmap \\\n",
      "-a /Volumes/web/cnidarian/{R1}_tr.fastq \\\n",
      "-b /Volumes/web/cnidarian/{R2}_tr.fastq \\\n",
      "-d /Volumes/web/trilobite/Crassostrea_gigas_ensembl_tracks/Crassostrea_gigas.GCA_000297895.1.22.dna_sm.genome.fa.gz \\\n",
      "-o /Volumes/web/cnidarian/BiLar_YE_control_t.sam \\\n",
      "-p 4"
     ],
     "language": "python",
     "metadata": {},
     "outputs": [
      {
       "output_type": "stream",
       "stream": "stdout",
       "text": [
        "\r\n",
        "BSMAP v2.74\r\n",
        "Start at:  Tue Jun  3 15:33:16 2014\r\n",
        "\r\n",
        "Input reference file: /Volumes/web/cnidarian/oyster.v9.fa"
       ]
      },
      {
       "output_type": "stream",
       "stream": "stdout",
       "text": [
        " \t(format: FASTA)\r\n"
       ]
      },
      {
       "output_type": "stream",
       "stream": "stdout",
       "text": [
        "Load in 11969 db seqs, total size 558601156 bp. 30 secs passed\r\n",
        "total_kmers: 43046721\r\n"
       ]
      },
      {
       "output_type": "stream",
       "stream": "stdout",
       "text": [
        "Create seed table. 119 secs passed\r\n",
        "max number of mismatches: read_length * 8% \tmax gap size: 0\r\n",
        "kmer cut-off ratio: 5e-07\r\n",
        "max multi-hits: 100\tmax Ns: 5\tseed size: 16\tindex interval: 4\r\n",
        "quality cutoff: 0\tbase quality char: '!'\r\n",
        "min fragment size:28\tmax fragemt size:500\r\n",
        "start from read #1\tend at read #4294967295\r\n",
        "additional alignment: T in reads => C in reference\r\n",
        "mapping strand (read_1): ++,-+\r\n",
        "mapping strand (read_2): +-,--\r\n",
        "Pair-end alignment(4 threads)\r\n",
        "Input read file #1: /Volumes/web/cnidarian/filtered_Y54_Mix_GTGGCC_L005_R1_tr.fastq \t(format: FASTQ)\r\n",
        "Input read file #2: /Volumes/web/cnidarian/filtered_Y54_Mix_GTGGCC_L005_R2_tr.fastq"
       ]
      },
      {
       "output_type": "stream",
       "stream": "stdout",
       "text": [
        " \t(format: FASTQ)\r\n",
        "Output file: /Volumes/web/cnidarian/BiLar_YE_mix_t.sam\t (format: SAM)\r\n"
       ]
      },
      {
       "output_type": "stream",
       "stream": "stdout",
       "text": [
        "Thread #1: \t50000 read pairs finished. 290 secs passed\r\n"
       ]
      },
      {
       "output_type": "stream",
       "stream": "stdout",
       "text": [
        "Thread #0: \t150000 read pairs finished. 294 secs passed\r\n"
       ]
      },
      {
       "output_type": "stream",
       "stream": "stdout",
       "text": [
        "Thread #2: \t100000 read pairs finished. 294 secs passed\r\n"
       ]
      },
      {
       "output_type": "stream",
       "stream": "stdout",
       "text": [
        "Thread #3: \t200000 read pairs finished. 297 secs passed\r\n"
       ]
      },
      {
       "output_type": "stream",
       "stream": "stdout",
       "text": [
        "Thread #1: \t250000 read pairs finished. 446 secs passed\r\n"
       ]
      },
      {
       "output_type": "stream",
       "stream": "stdout",
       "text": [
        "Thread #0: \t300000 read pairs finished. 447 secs passed\r\n"
       ]
      },
      {
       "output_type": "stream",
       "stream": "stdout",
       "text": [
        "Thread #2: \t350000 read pairs finished. 449 secs passed\r\n"
       ]
      },
      {
       "output_type": "stream",
       "stream": "stdout",
       "text": [
        "Thread #3: \t400000 read pairs finished. 450 secs passed\r\n"
       ]
      },
      {
       "output_type": "stream",
       "stream": "stdout",
       "text": [
        "Thread #1: \t450000 read pairs finished. 589 secs passed\r\n"
       ]
      },
      {
       "output_type": "stream",
       "stream": "stdout",
       "text": [
        "Thread #0: \t500000 read pairs finished. 591 secs passed\r\n"
       ]
      },
      {
       "output_type": "stream",
       "stream": "stdout",
       "text": [
        "Thread #2: \t550000 read pairs finished. 593 secs passed\r\n"
       ]
      },
      {
       "output_type": "stream",
       "stream": "stdout",
       "text": [
        "Thread #3: \t600000 read pairs finished. 597 secs passed\r\n"
       ]
      },
      {
       "output_type": "stream",
       "stream": "stdout",
       "text": [
        "Thread #1: \t650000 read pairs finished. 724 secs passed\r\n"
       ]
      },
      {
       "output_type": "stream",
       "stream": "stdout",
       "text": [
        "Thread #0: \t700000 read pairs finished. 724 secs passed\r\n"
       ]
      },
      {
       "output_type": "stream",
       "stream": "stdout",
       "text": [
        "Thread #2: \t750000 read pairs finished. 728 secs passed\r\n"
       ]
      },
      {
       "output_type": "stream",
       "stream": "stdout",
       "text": [
        "Thread #3: \t800000 read pairs finished. 732 secs passed\r\n"
       ]
      },
      {
       "output_type": "stream",
       "stream": "stdout",
       "text": [
        "Thread #0: \t900000 read pairs finished. 848 secs passed\r\n"
       ]
      },
      {
       "output_type": "stream",
       "stream": "stdout",
       "text": [
        "Thread #1: \t850000 read pairs finished. 848 secs passed\r\n"
       ]
      },
      {
       "output_type": "stream",
       "stream": "stdout",
       "text": [
        "Thread #2: \t950000 read pairs finished. 850 secs passed\r\n"
       ]
      },
      {
       "output_type": "stream",
       "stream": "stdout",
       "text": [
        "Thread #3: \t1000000 read pairs finished. 856 secs passed\r\n"
       ]
      },
      {
       "output_type": "stream",
       "stream": "stdout",
       "text": [
        "Thread #0: \t1050000 read pairs finished. 979 secs passed\r\n"
       ]
      },
      {
       "output_type": "stream",
       "stream": "stdout",
       "text": [
        "Thread #1: \t1100000 read pairs finished. 981 secs passed\r\n"
       ]
      },
      {
       "output_type": "stream",
       "stream": "stdout",
       "text": [
        "Thread #2: \t1150000 read pairs finished. 982 secs passed\r\n"
       ]
      },
      {
       "output_type": "stream",
       "stream": "stdout",
       "text": [
        "Thread #3: \t1200000 read pairs finished. 989 secs passed\r\n"
       ]
      },
      {
       "output_type": "stream",
       "stream": "stdout",
       "text": [
        "Thread #0: \t1250000 read pairs finished. 1104 secs passed\r\n"
       ]
      },
      {
       "output_type": "stream",
       "stream": "stdout",
       "text": [
        "Thread #1: \t1300000 read pairs finished. 1105 secs passed\r\n"
       ]
      },
      {
       "output_type": "stream",
       "stream": "stdout",
       "text": [
        "Thread #2: \t1350000 read pairs finished. 1107 secs passed\r\n"
       ]
      },
      {
       "output_type": "stream",
       "stream": "stdout",
       "text": [
        "Thread #3: \t1400000 read pairs finished. 1114 secs passed\r\n"
       ]
      },
      {
       "output_type": "stream",
       "stream": "stdout",
       "text": [
        "Thread #0: \t1450000 read pairs finished. 1227 secs passed\r\n"
       ]
      },
      {
       "output_type": "stream",
       "stream": "stdout",
       "text": [
        "Thread #1: \t1500000 read pairs finished. 1230 secs passed\r\n"
       ]
      },
      {
       "output_type": "stream",
       "stream": "stdout",
       "text": [
        "Thread #2: \t1550000 read pairs finished. 1231 secs passed\r\n"
       ]
      },
      {
       "output_type": "stream",
       "stream": "stdout",
       "text": [
        "Thread #3: \t1600000 read pairs finished. 1239 secs passed\r\n"
       ]
      },
      {
       "output_type": "stream",
       "stream": "stdout",
       "text": [
        "Thread #0: \t1650000 read pairs finished. 1377 secs passed\r\n"
       ]
      },
      {
       "output_type": "stream",
       "stream": "stdout",
       "text": [
        "Thread #1: \t1700000 read pairs finished. 1382 secs passed\r\n"
       ]
      },
      {
       "output_type": "stream",
       "stream": "stdout",
       "text": [
        "Thread #2: \t1750000 read pairs finished. 1411 secs passed\r\n"
       ]
      },
      {
       "output_type": "stream",
       "stream": "stdout",
       "text": [
        "Thread #3: \t1800000 read pairs finished. 1411 secs passed\r\n"
       ]
      },
      {
       "output_type": "stream",
       "stream": "stdout",
       "text": [
        "Thread #0: \t1850000 read pairs finished. 1460 secs passed\r\n"
       ]
      },
      {
       "output_type": "stream",
       "stream": "stdout",
       "text": [
        "Thread #1: \t1900000 read pairs finished. 1602 secs passed\r\n"
       ]
      },
      {
       "output_type": "stream",
       "stream": "stdout",
       "text": [
        "Thread #2: \t1950000 read pairs finished. 1604 secs passed\r\n"
       ]
      },
      {
       "output_type": "stream",
       "stream": "stdout",
       "text": [
        "Thread #3: \t2000000 read pairs finished. 1608 secs passed\r\n"
       ]
      },
      {
       "output_type": "stream",
       "stream": "stdout",
       "text": [
        "Thread #0: \t2050000 read pairs finished. 1651 secs passed\r\n"
       ]
      },
      {
       "output_type": "stream",
       "stream": "stdout",
       "text": [
        "Thread #1: \t2100000 read pairs finished. 1797 secs passed\r\n"
       ]
      },
      {
       "output_type": "stream",
       "stream": "stdout",
       "text": [
        "Thread #2: \t2150000 read pairs finished. 1798 secs passed\r\n"
       ]
      },
      {
       "output_type": "stream",
       "stream": "stdout",
       "text": [
        "Thread #3: \t2200000 read pairs finished. 1802 secs passed\r\n"
       ]
      },
      {
       "output_type": "stream",
       "stream": "stdout",
       "text": [
        "Thread #0: \t2250000 read pairs finished. 1848 secs passed\r\n"
       ]
      },
      {
       "output_type": "stream",
       "stream": "stdout",
       "text": [
        "Thread #1: \t2300000 read pairs finished. 1992 secs passed\r\n"
       ]
      },
      {
       "output_type": "stream",
       "stream": "stdout",
       "text": [
        "Thread #2: \t2350000 read pairs finished. 1993 secs passed\r\n"
       ]
      },
      {
       "output_type": "stream",
       "stream": "stdout",
       "text": [
        "Thread #3: \t2400000 read pairs finished. 1996 secs passed\r\n"
       ]
      },
      {
       "output_type": "stream",
       "stream": "stdout",
       "text": [
        "Thread #0: \t2450000 read pairs finished. 2040 secs passed\r\n"
       ]
      },
      {
       "output_type": "stream",
       "stream": "stdout",
       "text": [
        "Thread #1: \t2500000 read pairs finished. 2143 secs passed\r\n"
       ]
      },
      {
       "output_type": "stream",
       "stream": "stdout",
       "text": [
        "Thread #2: \t2550000 read pairs finished. 2144 secs passed\r\n"
       ]
      },
      {
       "output_type": "stream",
       "stream": "stdout",
       "text": [
        "Thread #3: \t2600000 read pairs finished. 2145 secs passed\r\n"
       ]
      },
      {
       "output_type": "stream",
       "stream": "stdout",
       "text": [
        "Thread #0: \t2650000 read pairs finished. 2173 secs passed\r\n"
       ]
      },
      {
       "output_type": "stream",
       "stream": "stdout",
       "text": [
        "Thread #1: \t2700000 read pairs finished. 2268 secs passed\r\n"
       ]
      },
      {
       "output_type": "stream",
       "stream": "stdout",
       "text": [
        "Thread #2: \t2750000 read pairs finished. 2270 secs passed\r\n"
       ]
      },
      {
       "output_type": "stream",
       "stream": "stdout",
       "text": [
        "Thread #3: \t2800000 read pairs finished. 2272 secs passed\r\n"
       ]
      },
      {
       "output_type": "stream",
       "stream": "stdout",
       "text": [
        "Thread #0: \t2850000 read pairs finished. 2300 secs passed\r\n"
       ]
      },
      {
       "output_type": "stream",
       "stream": "stdout",
       "text": [
        "Thread #1: \t2900000 read pairs finished. 2396 secs passed\r\n"
       ]
      },
      {
       "output_type": "stream",
       "stream": "stdout",
       "text": [
        "Thread #2: \t2950000 read pairs finished. 2400 secs passed\r\n"
       ]
      },
      {
       "output_type": "stream",
       "stream": "stdout",
       "text": [
        "Thread #3: \t3000000 read pairs finished. 2402 secs passed\r\n"
       ]
      },
      {
       "output_type": "stream",
       "stream": "stdout",
       "text": [
        "Thread #0: \t3050000 read pairs finished. 2430 secs passed\r\n"
       ]
      },
      {
       "output_type": "stream",
       "stream": "stdout",
       "text": [
        "Thread #1: \t3100000 read pairs finished. 2526 secs passed\r\n"
       ]
      },
      {
       "output_type": "stream",
       "stream": "stdout",
       "text": [
        "Thread #2: \t3150000 read pairs finished. 2529 secs passed\r\n"
       ]
      },
      {
       "output_type": "stream",
       "stream": "stdout",
       "text": [
        "Thread #3: \t3200000 read pairs finished. 2532 secs passed\r\n"
       ]
      },
      {
       "output_type": "stream",
       "stream": "stdout",
       "text": [
        "Thread #0: \t3250000 read pairs finished. 2558 secs passed\r\n"
       ]
      },
      {
       "output_type": "stream",
       "stream": "stdout",
       "text": [
        "Thread #1: \t3300000 read pairs finished. 2651 secs passed\r\n"
       ]
      },
      {
       "output_type": "stream",
       "stream": "stdout",
       "text": [
        "Thread #2: \t3350000 read pairs finished. 2655 secs passed\r\n"
       ]
      },
      {
       "output_type": "stream",
       "stream": "stdout",
       "text": [
        "Thread #3: \t3400000 read pairs finished. 2658 secs passed\r\n"
       ]
      },
      {
       "output_type": "stream",
       "stream": "stdout",
       "text": [
        "Thread #0: \t3450000 read pairs finished. 2683 secs passed\r\n"
       ]
      },
      {
       "output_type": "stream",
       "stream": "stdout",
       "text": [
        "Thread #1: \t3500000 read pairs finished. 2784 secs passed\r\n"
       ]
      },
      {
       "output_type": "stream",
       "stream": "stdout",
       "text": [
        "Thread #2: \t3550000 read pairs finished. 2788 secs passed\r\n"
       ]
      },
      {
       "output_type": "stream",
       "stream": "stdout",
       "text": [
        "Thread #3: \t3600000 read pairs finished. 2793 secs passed\r\n"
       ]
      },
      {
       "output_type": "stream",
       "stream": "stdout",
       "text": [
        "Thread #0: \t3650000 read pairs finished. 2822 secs passed\r\n"
       ]
      },
      {
       "output_type": "stream",
       "stream": "stdout",
       "text": [
        "Thread #1: \t3700000 read pairs finished. 2932 secs passed\r\n"
       ]
      },
      {
       "output_type": "stream",
       "stream": "stdout",
       "text": [
        "Thread #2: \t3750000 read pairs finished. 2938 secs passed\r\n"
       ]
      },
      {
       "output_type": "stream",
       "stream": "stdout",
       "text": [
        "Thread #3: \t3800000 read pairs finished. 2945 secs passed\r\n"
       ]
      },
      {
       "output_type": "stream",
       "stream": "stdout",
       "text": [
        "Thread #"
       ]
      },
      {
       "output_type": "stream",
       "stream": "stdout",
       "text": [
        "0: \t3850000 read pairs finished. 2969 secs passed\r\n"
       ]
      },
      {
       "output_type": "stream",
       "stream": "stdout",
       "text": [
        "Thread #1: \t3900000 read pairs finished. 3070 secs passed\r\n"
       ]
      },
      {
       "output_type": "stream",
       "stream": "stdout",
       "text": [
        "Thread #2: \t3950000 read pairs finished. 3073 secs passed\r\n"
       ]
      },
      {
       "output_type": "stream",
       "stream": "stdout",
       "text": [
        "Thread #3: \t4000000 read pairs finished. 3082 secs passed\r\n"
       ]
      },
      {
       "output_type": "stream",
       "stream": "stdout",
       "text": [
        "Thread #0: \t4050000 read pairs finished. 3105 secs passed\r\n"
       ]
      },
      {
       "output_type": "stream",
       "stream": "stdout",
       "text": [
        "Thread #1: \t4100000 read pairs finished. 3204 secs passed\r\n"
       ]
      },
      {
       "output_type": "stream",
       "stream": "stdout",
       "text": [
        "Thread #2: \t4150000 read pairs finished. 3207 secs passed\r\n"
       ]
      },
      {
       "output_type": "stream",
       "stream": "stdout",
       "text": [
        "Thread #3: \t4200000 read pairs finished. 3215 secs passed\r\n"
       ]
      },
      {
       "output_type": "stream",
       "stream": "stdout",
       "text": [
        "Thread #0: \t4250000 read pairs finished. 3236 secs passed\r\n"
       ]
      },
      {
       "output_type": "stream",
       "stream": "stdout",
       "text": [
        "Thread #1: \t4300000 read pairs finished. 3333 secs passed\r\n"
       ]
      },
      {
       "output_type": "stream",
       "stream": "stdout",
       "text": [
        "Thread #2: \t4350000 read pairs finished. 3336 secs passed\r\n"
       ]
      },
      {
       "output_type": "stream",
       "stream": "stdout",
       "text": [
        "Thread #3: \t4400000 read pairs finished. 3344 secs passed\r\n"
       ]
      },
      {
       "output_type": "stream",
       "stream": "stdout",
       "text": [
        "Thread #0: \t4450000 read pairs finished. 3364 secs passed\r\n"
       ]
      },
      {
       "output_type": "stream",
       "stream": "stdout",
       "text": [
        "Thread #1: \t4500000 read pairs finished. 3462 secs passed\r\n"
       ]
      },
      {
       "output_type": "stream",
       "stream": "stdout",
       "text": [
        "Thread #2: \t4550000 read pairs finished. 3464 secs passed\r\n"
       ]
      },
      {
       "output_type": "stream",
       "stream": "stdout",
       "text": [
        "Thread #3: \t4600000 read pairs finished. 3474 secs passed\r\n"
       ]
      },
      {
       "output_type": "stream",
       "stream": "stdout",
       "text": [
        "Thread #0: \t4650000 read pairs finished. 3494 secs passed\r\n"
       ]
      },
      {
       "output_type": "stream",
       "stream": "stdout",
       "text": [
        "Thread #1: \t4700000 read pairs finished. 3600 secs passed\r\n"
       ]
      },
      {
       "output_type": "stream",
       "stream": "stdout",
       "text": [
        "Thread #2: \t4750000 read pairs finished. 3603 secs passed\r\n"
       ]
      },
      {
       "output_type": "stream",
       "stream": "stdout",
       "text": [
        "Thread #3: \t4800000 read pairs finished. 3615 secs passed\r\n"
       ]
      },
      {
       "output_type": "stream",
       "stream": "stdout",
       "text": [
        "Thread #0: \t4850000 read pairs finished. 3637 secs passed\r\n"
       ]
      },
      {
       "output_type": "stream",
       "stream": "stdout",
       "text": [
        "Thread #1: \t4900000 read pairs finished. 3734 secs passed\r\n"
       ]
      },
      {
       "output_type": "stream",
       "stream": "stdout",
       "text": [
        "Thread #2: \t4950000 read pairs finished. 3736 secs passed\r\n"
       ]
      },
      {
       "output_type": "stream",
       "stream": "stdout",
       "text": [
        "Thread #3: \t5000000 read pairs finished. 3748 secs passed\r\n"
       ]
      },
      {
       "output_type": "stream",
       "stream": "stdout",
       "text": [
        "Thread #0: \t5050000 read pairs finished. 3766 secs passed\r\n"
       ]
      },
      {
       "output_type": "stream",
       "stream": "stdout",
       "text": [
        "Thread #1: \t5100000 read pairs finished. 3864 secs passed\r\n"
       ]
      },
      {
       "output_type": "stream",
       "stream": "stdout",
       "text": [
        "Thread #2: \t5150000 read pairs finished. 3866 secs passed\r\n"
       ]
      },
      {
       "output_type": "stream",
       "stream": "stdout",
       "text": [
        "Thread #3: \t5200000 read pairs finished. 3880 secs passed\r\n"
       ]
      },
      {
       "output_type": "stream",
       "stream": "stdout",
       "text": [
        "Thread #0: \t5250000 read pairs finished. 3897 secs passed\r\n"
       ]
      },
      {
       "output_type": "stream",
       "stream": "stdout",
       "text": [
        "Thread #1: \t5300000 read pairs finished. 3995 secs passed\r\n"
       ]
      },
      {
       "output_type": "stream",
       "stream": "stdout",
       "text": [
        "Thread #2: \t5350000 read pairs finished. 3996 secs passed\r\n"
       ]
      },
      {
       "output_type": "stream",
       "stream": "stdout",
       "text": [
        "Thread #3: \t5400000 read pairs finished. 4010 secs passed\r\n"
       ]
      },
      {
       "output_type": "stream",
       "stream": "stdout",
       "text": [
        "Thread #0: \t5450000 read pairs finished. 4029 secs passed\r\n"
       ]
      },
      {
       "output_type": "stream",
       "stream": "stdout",
       "text": [
        "Thread #1: \t5500000 read pairs finished. 4132 secs passed\r\n"
       ]
      },
      {
       "output_type": "stream",
       "stream": "stdout",
       "text": [
        "Thread #2: \t5550000 read pairs finished. 4132 secs passed\r\n"
       ]
      },
      {
       "output_type": "stream",
       "stream": "stdout",
       "text": [
        "Thread #3: \t5600000 read pairs finished. 4148 secs passed\r\n"
       ]
      },
      {
       "output_type": "stream",
       "stream": "stdout",
       "text": [
        "Thread #0: \t5650000 read pairs finished. 4164 secs passed\r\n"
       ]
      },
      {
       "output_type": "stream",
       "stream": "stdout",
       "text": [
        "Thread #1: \t5700000 read pairs finished. 4261 secs passed\r\n"
       ]
      },
      {
       "output_type": "stream",
       "stream": "stdout",
       "text": [
        "Thread #2: \t5750000 read pairs finished. 4262 secs passed\r\n"
       ]
      },
      {
       "output_type": "stream",
       "stream": "stdout",
       "text": [
        "Thread #3: \t5800000 read pairs finished. 4277 secs passed\r\n"
       ]
      },
      {
       "output_type": "stream",
       "stream": "stdout",
       "text": [
        "Thread #0: \t5850000 read pairs finished. 4293 secs passed\r\n"
       ]
      },
      {
       "output_type": "stream",
       "stream": "stdout",
       "text": [
        "Thread #1: \t5900000 read pairs finished. 4389 secs passed\r\n"
       ]
      },
      {
       "output_type": "stream",
       "stream": "stdout",
       "text": [
        "Thread #2: \t5950000 read pairs finished. 4390 secs passed\r\n"
       ]
      },
      {
       "output_type": "stream",
       "stream": "stdout",
       "text": [
        "Thread #3: \t6000000 read pairs finished. 4405 secs passed\r\n"
       ]
      },
      {
       "output_type": "stream",
       "stream": "stdout",
       "text": [
        "Thread #0: \t6050000 read pairs finished. 4421 secs passed\r\n"
       ]
      },
      {
       "output_type": "stream",
       "stream": "stdout",
       "text": [
        "Thread #"
       ]
      },
      {
       "output_type": "stream",
       "stream": "stdout",
       "text": [
        "1: \t6100000 read pairs finished. 4517 secs passed\r\n"
       ]
      },
      {
       "output_type": "stream",
       "stream": "stdout",
       "text": [
        "Thread #2: \t6150000 read pairs finished. 4519 secs passed\r\n"
       ]
      },
      {
       "output_type": "stream",
       "stream": "stdout",
       "text": [
        "Thread #3: \t6200000 read pairs finished. 4534 secs passed\r\n"
       ]
      },
      {
       "output_type": "stream",
       "stream": "stdout",
       "text": [
        "Thread #0: \t6250000 read pairs finished. 4549 secs passed\r\n"
       ]
      },
      {
       "output_type": "stream",
       "stream": "stdout",
       "text": [
        "Thread #1: \t6300000 read pairs finished. 4647 secs passed\r\n"
       ]
      },
      {
       "output_type": "stream",
       "stream": "stdout",
       "text": [
        "Thread #2: \t6350000 read pairs finished. 4650 secs passed\r\n"
       ]
      },
      {
       "output_type": "stream",
       "stream": "stdout",
       "text": [
        "Thread #3: \t6400000 read pairs finished. 4668 secs passed\r\n"
       ]
      },
      {
       "output_type": "stream",
       "stream": "stdout",
       "text": [
        "Thread #0: \t6450000 read pairs finished. 4681 secs passed\r\n"
       ]
      },
      {
       "output_type": "stream",
       "stream": "stdout",
       "text": [
        "Thread #1: \t6500000 read pairs finished. 4774 secs passed\r\n"
       ]
      },
      {
       "output_type": "stream",
       "stream": "stdout",
       "text": [
        "Thread #2: \t6550000 read pairs finished. 4778 secs passed\r\n"
       ]
      },
      {
       "output_type": "stream",
       "stream": "stdout",
       "text": [
        "Thread #3: \t6600000 read pairs finished. 4797 secs passed\r\n"
       ]
      },
      {
       "output_type": "stream",
       "stream": "stdout",
       "text": [
        "Thread #"
       ]
      },
      {
       "output_type": "stream",
       "stream": "stdout",
       "text": [
        "0: \t6650000 read pairs finished. 4815 secs passed\r\n"
       ]
      },
      {
       "output_type": "stream",
       "stream": "stdout",
       "text": [
        "Thread #1: \t6700000 read pairs finished. 4909 secs passed\r\n"
       ]
      },
      {
       "output_type": "stream",
       "stream": "stdout",
       "text": [
        "Thread #2: \t6750000 read pairs finished. 4913 secs passed\r\n"
       ]
      },
      {
       "output_type": "stream",
       "stream": "stdout",
       "text": [
        "Thread #3: \t6800000 read pairs finished. 4930 secs passed\r\n"
       ]
      },
      {
       "output_type": "stream",
       "stream": "stdout",
       "text": [
        "Thread #0: \t6850000 read pairs finished. 4942 secs passed\r\n"
       ]
      },
      {
       "output_type": "stream",
       "stream": "stdout",
       "text": [
        "Thread #1: \t6900000 read pairs finished. 5035 secs passed\r\n"
       ]
      },
      {
       "output_type": "stream",
       "stream": "stdout",
       "text": [
        "Thread #2: \t6950000 read pairs finished. 5038 secs passed\r\n"
       ]
      },
      {
       "output_type": "stream",
       "stream": "stdout",
       "text": [
        "Thread #3: \t7000000 read pairs finished. 5057 secs passed\r\n"
       ]
      },
      {
       "output_type": "stream",
       "stream": "stdout",
       "text": [
        "Thread #0: \t7050000 read pairs finished. 5071 secs passed\r\n"
       ]
      },
      {
       "output_type": "stream",
       "stream": "stdout",
       "text": [
        "Thread #1: \t7100000 read pairs finished. 5168 secs passed\r\n"
       ]
      },
      {
       "output_type": "stream",
       "stream": "stdout",
       "text": [
        "Thread #2: \t7150000 read pairs finished. 5172 secs passed\r\n"
       ]
      },
      {
       "output_type": "stream",
       "stream": "stdout",
       "text": [
        "Thread #3: \t7200000 read pairs finished. 5191 secs passed\r\n"
       ]
      },
      {
       "output_type": "stream",
       "stream": "stdout",
       "text": [
        "Thread #0: \t7250000 read pairs finished. 5202 secs passed\r\n"
       ]
      },
      {
       "output_type": "stream",
       "stream": "stdout",
       "text": [
        "Thread #1: \t7300000 read pairs finished. 5296 secs passed\r\n"
       ]
      },
      {
       "output_type": "stream",
       "stream": "stdout",
       "text": [
        "Thread #2: \t7350000 read pairs finished. 5300 secs passed\r\n"
       ]
      },
      {
       "output_type": "stream",
       "stream": "stdout",
       "text": [
        "Thread #3: \t7400000 read pairs finished. 5319 secs passed\r\n"
       ]
      },
      {
       "output_type": "stream",
       "stream": "stdout",
       "text": [
        "Thread #0: \t7450000 read pairs finished. 5331 secs passed\r\n"
       ]
      },
      {
       "output_type": "stream",
       "stream": "stdout",
       "text": [
        "Thread #1: \t7500000 read pairs finished. 5424 secs passed\r\n"
       ]
      },
      {
       "output_type": "stream",
       "stream": "stdout",
       "text": [
        "Thread #2: \t7550000 read pairs finished. 5428 secs passed\r\n"
       ]
      },
      {
       "output_type": "stream",
       "stream": "stdout",
       "text": [
        "Thread #3: \t7600000 read pairs finished. 5447 secs passed\r\n"
       ]
      },
      {
       "output_type": "stream",
       "stream": "stdout",
       "text": [
        "Thread #0: \t7650000 read pairs finished. 5457 secs passed\r\n"
       ]
      },
      {
       "output_type": "stream",
       "stream": "stdout",
       "text": [
        "Thread #1: \t7700000 read pairs finished. 5550 secs passed\r\n"
       ]
      },
      {
       "output_type": "stream",
       "stream": "stdout",
       "text": [
        "Thread #2: \t7750000 read pairs finished. 5556 secs passed\r\n"
       ]
      },
      {
       "output_type": "stream",
       "stream": "stdout",
       "text": [
        "Thread #3: \t7800000 read pairs finished. 5575 secs passed\r\n"
       ]
      },
      {
       "output_type": "stream",
       "stream": "stdout",
       "text": [
        "Thread #0: \t7850000 read pairs finished. 5584 secs passed\r\n"
       ]
      },
      {
       "output_type": "stream",
       "stream": "stdout",
       "text": [
        "Thread #1: \t7900000 read pairs finished. 5676 secs passed\r\n"
       ]
      },
      {
       "output_type": "stream",
       "stream": "stdout",
       "text": [
        "Thread #2: \t7950000 read pairs finished. 5682 secs passed\r\n"
       ]
      },
      {
       "output_type": "stream",
       "stream": "stdout",
       "text": [
        "Thread #3: \t8000000 read pairs finished. 5699 secs passed\r\n"
       ]
      },
      {
       "output_type": "stream",
       "stream": "stdout",
       "text": [
        "Thread #0: \t8050000 read pairs finished. 5710 secs passed\r\n"
       ]
      },
      {
       "output_type": "stream",
       "stream": "stdout",
       "text": [
        "Thread #1: \t8100000 read pairs finished. 5802 secs passed\r\n"
       ]
      },
      {
       "output_type": "stream",
       "stream": "stdout",
       "text": [
        "Thread #2: \t8150000 read pairs finished. 5808 secs passed\r\n"
       ]
      },
      {
       "output_type": "stream",
       "stream": "stdout",
       "text": [
        "Thread #3: \t8200000 read pairs finished. 5827 secs passed\r\n"
       ]
      },
      {
       "output_type": "stream",
       "stream": "stdout",
       "text": [
        "Thread #0: \t8250000 read pairs finished. 5837 secs passed\r\n"
       ]
      },
      {
       "output_type": "stream",
       "stream": "stdout",
       "text": [
        "Thread #1: \t8300000 read pairs finished. 5928 secs passed\r\n"
       ]
      },
      {
       "output_type": "stream",
       "stream": "stdout",
       "text": [
        "Thread #"
       ]
      },
      {
       "output_type": "stream",
       "stream": "stdout",
       "text": [
        "2: \t8350000 read pairs finished. 5935 secs passed\r\n"
       ]
      },
      {
       "output_type": "stream",
       "stream": "stdout",
       "text": [
        "Thread #3: \t8400000 read pairs finished. 5954 secs passed\r\n"
       ]
      },
      {
       "output_type": "stream",
       "stream": "stdout",
       "text": [
        "Thread #0: \t8450000 read pairs finished. 5963 secs passed\r\n"
       ]
      },
      {
       "output_type": "stream",
       "stream": "stdout",
       "text": [
        "Thread #1: \t8500000 read pairs finished. 6054 secs passed\r\n"
       ]
      },
      {
       "output_type": "stream",
       "stream": "stdout",
       "text": [
        "Thread #2: \t8550000 read pairs finished. 6061 secs passed\r\n"
       ]
      },
      {
       "output_type": "stream",
       "stream": "stdout",
       "text": [
        "Thread #3: \t8600000 read pairs finished. 6080 secs passed\r\n"
       ]
      },
      {
       "output_type": "stream",
       "stream": "stdout",
       "text": [
        "Thread #0: \t8650000 read pairs finished. 6089 secs passed\r\n"
       ]
      },
      {
       "output_type": "stream",
       "stream": "stdout",
       "text": [
        "Thread #1: \t8700000 read pairs finished. 6185 secs passed\r\n"
       ]
      },
      {
       "output_type": "stream",
       "stream": "stdout",
       "text": [
        "Thread #2: \t8750000 read pairs finished. 6192 secs passed\r\n"
       ]
      },
      {
       "output_type": "stream",
       "stream": "stdout",
       "text": [
        "Thread #3: \t8800000 read pairs finished. 6213 secs passed\r\n"
       ]
      },
      {
       "output_type": "stream",
       "stream": "stdout",
       "text": [
        "Thread #0: \t8850000 read pairs finished. 6222 secs passed\r\n"
       ]
      },
      {
       "output_type": "stream",
       "stream": "stdout",
       "text": [
        "Thread #1: \t8900000 read pairs finished. 6316 secs passed\r\n"
       ]
      },
      {
       "output_type": "stream",
       "stream": "stdout",
       "text": [
        "Thread #2: \t8950000 read pairs finished. 6323 secs passed\r\n"
       ]
      },
      {
       "output_type": "stream",
       "stream": "stdout",
       "text": [
        "Thread #3: \t9000000 read pairs finished. 6342 secs passed\r\n"
       ]
      },
      {
       "output_type": "stream",
       "stream": "stdout",
       "text": [
        "Thread #0: \t9050000 read pairs finished. 6350 secs passed\r\n"
       ]
      },
      {
       "output_type": "stream",
       "stream": "stdout",
       "text": [
        "Thread #1: \t9100000 read pairs finished. 6454 secs passed\r\n"
       ]
      },
      {
       "output_type": "stream",
       "stream": "stdout",
       "text": [
        "Thread #2: \t9150000 read pairs finished. 6461 secs passed\r\n"
       ]
      },
      {
       "output_type": "stream",
       "stream": "stdout",
       "text": [
        "Thread #3: \t9200000 read pairs finished. 6485 secs passed\r\n"
       ]
      },
      {
       "output_type": "stream",
       "stream": "stdout",
       "text": [
        "Thread #0: \t9250000 read pairs finished. 6493 secs passed\r\n"
       ]
      },
      {
       "output_type": "stream",
       "stream": "stdout",
       "text": [
        "Thread #1: \t9300000 read pairs finished. 6605 secs passed\r\n"
       ]
      },
      {
       "output_type": "stream",
       "stream": "stdout",
       "text": [
        "Thread #2: \t9350000 read pairs finished. 6611 secs passed\r\n"
       ]
      },
      {
       "output_type": "stream",
       "stream": "stdout",
       "text": [
        "Thread #3: \t9400000 read pairs finished. 6633 secs passed\r\n"
       ]
      },
      {
       "output_type": "stream",
       "stream": "stdout",
       "text": [
        "Thread #0: \t9450000 read pairs finished. 6639 secs passed\r\n"
       ]
      },
      {
       "output_type": "stream",
       "stream": "stdout",
       "text": [
        "Thread #1: \t9500000 read pairs finished. 6735 secs passed\r\n"
       ]
      },
      {
       "output_type": "stream",
       "stream": "stdout",
       "text": [
        "Thread #2: \t9550000 read pairs finished. 6741 secs passed\r\n"
       ]
      },
      {
       "output_type": "stream",
       "stream": "stdout",
       "text": [
        "Thread #3: \t9600000 read pairs finished. 6762 secs passed\r\n"
       ]
      },
      {
       "output_type": "stream",
       "stream": "stdout",
       "text": [
        "Thread #0: \t9650000 read pairs finished. 6768 secs passed\r\n"
       ]
      },
      {
       "output_type": "stream",
       "stream": "stdout",
       "text": [
        "Thread #1: \t9700000 read pairs finished. 6861 secs passed\r\n"
       ]
      },
      {
       "output_type": "stream",
       "stream": "stdout",
       "text": [
        "Thread #2: \t9750000 read pairs finished. 6866 secs passed\r\n"
       ]
      },
      {
       "output_type": "stream",
       "stream": "stdout",
       "text": [
        "Thread #3: \t9800000 read pairs finished. 6889 secs passed\r\n"
       ]
      },
      {
       "output_type": "stream",
       "stream": "stdout",
       "text": [
        "Thread #0: \t9850000 read pairs finished. 6895 secs passed\r\n"
       ]
      },
      {
       "output_type": "stream",
       "stream": "stdout",
       "text": [
        "Thread #1: \t9900000 read pairs finished. 6990 secs passed\r\n"
       ]
      },
      {
       "output_type": "stream",
       "stream": "stdout",
       "text": [
        "Thread #2: \t9950000 read pairs finished. 6995 secs passed\r\n"
       ]
      },
      {
       "output_type": "stream",
       "stream": "stdout",
       "text": [
        "Thread #3: \t10000000 read pairs finished. 7018 secs passed\r\n"
       ]
      },
      {
       "output_type": "stream",
       "stream": "stdout",
       "text": [
        "Thread #0: \t10050000 read pairs finished. 7023 secs passed\r\n"
       ]
      },
      {
       "output_type": "stream",
       "stream": "stdout",
       "text": [
        "Thread #1: \t10100000 read pairs finished. 7116 secs passed\r\n"
       ]
      },
      {
       "output_type": "stream",
       "stream": "stdout",
       "text": [
        "Thread #2: \t10150000 read pairs finished. 7122 secs passed\r\n"
       ]
      },
      {
       "output_type": "stream",
       "stream": "stdout",
       "text": [
        "Thread #3: \t10200000 read pairs finished. 7147 secs passed\r\n"
       ]
      },
      {
       "output_type": "stream",
       "stream": "stdout",
       "text": [
        "Thread #0: \t10250000 read pairs finished. 7150 secs passed\r\n"
       ]
      },
      {
       "output_type": "stream",
       "stream": "stdout",
       "text": [
        "Thread #1: \t10300000 read pairs finished. 7249 secs passed\r\n"
       ]
      },
      {
       "output_type": "stream",
       "stream": "stdout",
       "text": [
        "Thread #2: \t10350000 read pairs finished. 7257 secs passed\r\n"
       ]
      },
      {
       "output_type": "stream",
       "stream": "stdout",
       "text": [
        "Thread #3: \t10400000 read pairs finished. 7284 secs passed\r\n"
       ]
      },
      {
       "output_type": "stream",
       "stream": "stdout",
       "text": [
        "Thread #0: \t10450000 read pairs finished. 7286 secs passed\r\n"
       ]
      },
      {
       "output_type": "stream",
       "stream": "stdout",
       "text": [
        "Thread #1: \t10500000 read pairs finished. 7378 secs passed\r\n"
       ]
      },
      {
       "output_type": "stream",
       "stream": "stdout",
       "text": [
        "Thread #2: \t10550000 read pairs finished. 7384 secs passed\r\n"
       ]
      },
      {
       "output_type": "stream",
       "stream": "stdout",
       "text": [
        "Thread #0: \t10650000 read pairs finished. 7411 secs passed\r\n"
       ]
      },
      {
       "output_type": "stream",
       "stream": "stdout",
       "text": [
        "Thread #3: \t10600000 read pairs finished. 7423 secs passed\r\n"
       ]
      },
      {
       "output_type": "stream",
       "stream": "stdout",
       "text": [
        "Thread #1: \t10700000 read pairs finished. 7491 secs passed\r\n"
       ]
      },
      {
       "output_type": "stream",
       "stream": "stdout",
       "text": [
        "Thread #2: \t10750000 read pairs finished. 7495 secs passed\r\n"
       ]
      },
      {
       "output_type": "stream",
       "stream": "stdout",
       "text": [
        "Thread #0: \t10800000 read pairs finished. 7549 secs passed\r\n"
       ]
      },
      {
       "output_type": "stream",
       "stream": "stdout",
       "text": [
        "Thread #3: \t10850000 read pairs finished. 7552 secs passed\r\n"
       ]
      },
      {
       "output_type": "stream",
       "stream": "stdout",
       "text": [
        "Thread #1: \t10900000 read pairs finished. 7617 secs passed\r\n"
       ]
      },
      {
       "output_type": "stream",
       "stream": "stdout",
       "text": [
        "Thread #2: \t10950000 read pairs finished. 7622 secs passed\r\n"
       ]
      },
      {
       "output_type": "stream",
       "stream": "stdout",
       "text": [
        "Thread #0: \t11000000 read pairs finished. 7675 secs passed\r\n"
       ]
      },
      {
       "output_type": "stream",
       "stream": "stdout",
       "text": [
        "Thread #3: \t11050000 read pairs finished. 7678 secs passed\r\n"
       ]
      },
      {
       "output_type": "stream",
       "stream": "stdout",
       "text": [
        "Thread #1: \t11100000 read pairs finished. 7741 secs passed\r\n"
       ]
      },
      {
       "output_type": "stream",
       "stream": "stdout",
       "text": [
        "Thread #2: \t11150000 read pairs finished. 7746 secs passed\r\n"
       ]
      },
      {
       "output_type": "stream",
       "stream": "stdout",
       "text": [
        "Thread #0: \t11200000 read pairs finished. 7799 secs passed\r\n"
       ]
      },
      {
       "output_type": "stream",
       "stream": "stdout",
       "text": [
        "Thread #3: \t11250000 read pairs finished. 7804 secs passed\r\n"
       ]
      },
      {
       "output_type": "stream",
       "stream": "stdout",
       "text": [
        "Thread #1: \t11300000 read pairs finished. 7865 secs passed\r\n"
       ]
      },
      {
       "output_type": "stream",
       "stream": "stdout",
       "text": [
        "Thread #2: \t11350000 read pairs finished. 7870 secs passed\r\n"
       ]
      },
      {
       "output_type": "stream",
       "stream": "stdout",
       "text": [
        "Thread #0: \t11400000 read pairs finished. 7923 secs passed\r\n"
       ]
      },
      {
       "output_type": "stream",
       "stream": "stdout",
       "text": [
        "Thread #3: \t11450000 read pairs finished. 7929 secs passed\r\n"
       ]
      },
      {
       "output_type": "stream",
       "stream": "stdout",
       "text": [
        "Thread #1: \t11500000 read pairs finished. 7989 secs passed\r\n"
       ]
      },
      {
       "output_type": "stream",
       "stream": "stdout",
       "text": [
        "Thread #2: \t11550000 read pairs finished. 7996 secs passed\r\n"
       ]
      },
      {
       "output_type": "stream",
       "stream": "stdout",
       "text": [
        "Thread #0: \t11600000 read pairs finished. 8047 secs passed\r\n"
       ]
      },
      {
       "output_type": "stream",
       "stream": "stdout",
       "text": [
        "Thread #3: \t11650000 read pairs finished. 8054 secs passed\r\n"
       ]
      },
      {
       "output_type": "stream",
       "stream": "stdout",
       "text": [
        "Thread #1: \t11700000 read pairs finished. 8114 secs passed\r\n"
       ]
      },
      {
       "output_type": "stream",
       "stream": "stdout",
       "text": [
        "Thread #2: \t11750000 read pairs finished. 8121 secs passed\r\n"
       ]
      },
      {
       "output_type": "stream",
       "stream": "stdout",
       "text": [
        "Thread #0: \t11800000 read pairs finished. 8173 secs passed\r\n"
       ]
      },
      {
       "output_type": "stream",
       "stream": "stdout",
       "text": [
        "Thread #3: \t11850000 read pairs finished. 8182 secs passed\r\n"
       ]
      },
      {
       "output_type": "stream",
       "stream": "stdout",
       "text": [
        "Thread #1: \t11900000 read pairs finished. 8243 secs passed\r\n"
       ]
      },
      {
       "output_type": "stream",
       "stream": "stdout",
       "text": [
        "Thread #2: \t11950000 read pairs finished. 8249 secs passed\r\n"
       ]
      },
      {
       "output_type": "stream",
       "stream": "stdout",
       "text": [
        "Thread #0: \t12000000 read pairs finished. 8300 secs passed\r\n"
       ]
      },
      {
       "output_type": "stream",
       "stream": "stdout",
       "text": [
        "Thread #3: \t12050000 read pairs finished. 8311 secs passed\r\n"
       ]
      },
      {
       "output_type": "stream",
       "stream": "stdout",
       "text": [
        "Thread #1: \t12100000 read pairs finished. 8370 secs passed\r\n"
       ]
      },
      {
       "output_type": "stream",
       "stream": "stdout",
       "text": [
        "Thread #2: \t12150000 read pairs finished. 8375 secs passed\r\n"
       ]
      },
      {
       "output_type": "stream",
       "stream": "stdout",
       "text": [
        "Thread #0: \t12200000 read pairs finished. 8425 secs passed\r\n"
       ]
      },
      {
       "output_type": "stream",
       "stream": "stdout",
       "text": [
        "Thread #3: \t12250000 read pairs finished. 8437 secs passed\r\n"
       ]
      },
      {
       "output_type": "stream",
       "stream": "stdout",
       "text": [
        "Thread #1: \t12300000 read pairs finished. 8495 secs passed\r\n"
       ]
      },
      {
       "output_type": "stream",
       "stream": "stdout",
       "text": [
        "Thread #2: \t12350000 read pairs finished. 8500 secs passed\r\n"
       ]
      },
      {
       "output_type": "stream",
       "stream": "stdout",
       "text": [
        "Thread #0: \t12400000 read pairs finished. 8550 secs passed\r\n"
       ]
      },
      {
       "output_type": "stream",
       "stream": "stdout",
       "text": [
        "Thread #3: \t12450000 read pairs finished. 8563 secs passed\r\n"
       ]
      },
      {
       "output_type": "stream",
       "stream": "stdout",
       "text": [
        "Thread #1: \t12500000 read pairs finished. 8619 secs passed\r\n"
       ]
      },
      {
       "output_type": "stream",
       "stream": "stdout",
       "text": [
        "Thread #2: \t12550000 read pairs finished. 8625 secs passed\r\n"
       ]
      },
      {
       "output_type": "stream",
       "stream": "stdout",
       "text": [
        "Thread #0: \t12600000 read pairs finished. 8674 secs passed\r\n"
       ]
      },
      {
       "output_type": "stream",
       "stream": "stdout",
       "text": [
        "Thread #"
       ]
      },
      {
       "output_type": "stream",
       "stream": "stdout",
       "text": [
        "3: \t12650000 read pairs finished. 8688 secs passed\r\n"
       ]
      },
      {
       "output_type": "stream",
       "stream": "stdout",
       "text": [
        "Thread #1: \t12700000 read pairs finished. 8744 secs passed\r\n"
       ]
      },
      {
       "output_type": "stream",
       "stream": "stdout",
       "text": [
        "Thread #2: \t12750000 read pairs finished. 8750 secs passed\r\n"
       ]
      },
      {
       "output_type": "stream",
       "stream": "stdout",
       "text": [
        "Thread #0: \t12800000 read pairs finished. 8799 secs passed\r\n"
       ]
      },
      {
       "output_type": "stream",
       "stream": "stdout",
       "text": [
        "Thread #3: \t12850000 read pairs finished. 8813 secs passed\r\n"
       ]
      },
      {
       "output_type": "stream",
       "stream": "stdout",
       "text": [
        "Thread #1: \t12900000 read pairs finished. 8868 secs passed\r\n"
       ]
      },
      {
       "output_type": "stream",
       "stream": "stdout",
       "text": [
        "Thread #2: \t12950000 read pairs finished. 8875 secs passed\r\n"
       ]
      },
      {
       "output_type": "stream",
       "stream": "stdout",
       "text": [
        "Thread #0: \t13000000 read pairs finished. 8924 secs passed\r\n"
       ]
      },
      {
       "output_type": "stream",
       "stream": "stdout",
       "text": [
        "Thread #3: \t13050000 read pairs finished. 8938 secs passed\r\n"
       ]
      },
      {
       "output_type": "stream",
       "stream": "stdout",
       "text": [
        "Thread #1: \t13100000 read pairs finished. 8994 secs passed\r\n"
       ]
      },
      {
       "output_type": "stream",
       "stream": "stdout",
       "text": [
        "Thread #2: \t13150000 read pairs finished. 9002 secs passed\r\n"
       ]
      },
      {
       "output_type": "stream",
       "stream": "stdout",
       "text": [
        "Thread #0: \t13200000 read pairs finished. 9050 secs passed\r\n"
       ]
      },
      {
       "output_type": "stream",
       "stream": "stdout",
       "text": [
        "Thread #3: \t13250000 read pairs finished. 9067 secs passed\r\n"
       ]
      },
      {
       "output_type": "stream",
       "stream": "stdout",
       "text": [
        "Thread #3: \t13412322 read pairs finished. 9098 secs passed\r\n"
       ]
      },
      {
       "output_type": "stream",
       "stream": "stdout",
       "text": [
        "Thread #1: \t13300000 read pairs finished. 9115 secs passed\r\n"
       ]
      },
      {
       "output_type": "stream",
       "stream": "stdout",
       "text": [
        "Thread #2: \t13350000 read pairs finished. 9121 secs passed\r\n"
       ]
      },
      {
       "output_type": "stream",
       "stream": "stdout",
       "text": [
        "Thread #0: \t13400000 read pairs finished. 9136 secs passed\r\n"
       ]
      },
      {
       "output_type": "stream",
       "stream": "stdout",
       "text": [
        "Total number of aligned reads: \r\n",
        "pairs:       7934451 (59%)\r\n",
        "single a:    2762270 (21%)\r\n",
        "single b:    2440630 (18%)\r\n",
        "Done.\r\n",
        "Finished at Tue Jun  3 18:05:32 2014\r\n",
        "Total time consumed:  9136 secs\r\n"
       ]
      }
     ],
     "prompt_number": 55
    },
    {
     "cell_type": "code",
     "collapsed": false,
     "input": [
      "! /Users/Shared/Apps/bsmap-2.74/bsmap \\\n",
      "-a /Volumes/web/cnidarian/{R1}_tr.fastq \\\n",
      "-b /Volumes/web/cnidarian/{R2}_tr.fastq \\\n",
      "-d /Volumes/web/trilobite/Crassostrea_gigas_ensembl_tracks/Crassostrea_gigas.GCA_000297895.1.22.dna_sm.genome.fa.gz \\\n",
      "-o /Volumes/web/cnidarian/BiLar_YE_control_t.sam \\\n",
      "-p 8"
     ],
     "language": "python",
     "metadata": {},
     "outputs": [
      {
       "output_type": "stream",
       "stream": "stdout",
       "text": [
        "\r\n",
        "BSMAP v2.74\r\n",
        "Start at:  Fri Jun  6 08:18:53 2014\r\n",
        "\r\n",
        "Input reference file: /Volumes/web/trilobite/Crassostrea_gigas_ensembl_tracks/Crassostrea_gigas.GCA_000297895.1.22.dna_sm.genome.fa.gz \t(format: gzipped FASTA)\r\n"
       ]
      },
      {
       "output_type": "stream",
       "stream": "stdout",
       "text": [
        "Load in 7658 db seqs, total size 557717710 bp. 15 secs passed\r\n",
        "total_kmers: 43046721\r\n"
       ]
      },
      {
       "output_type": "stream",
       "stream": "stdout",
       "text": [
        "Create seed table. 33 secs passed\r\n",
        "max number of mismatches: read_length * 8% \tmax gap size: 0\r\n",
        "kmer cut-off ratio: 5e-07\r\n",
        "max multi-hits: 100\tmax Ns: 5\tseed size: 16\tindex interval: 4\r\n",
        "quality cutoff: 0\tbase quality char: '!'\r\n",
        "min fragment size:28\tmax fragemt size:500\r\n",
        "start from read #1\tend at read #4294967295\r\n",
        "additional alignment: T in reads => C in reference\r\n",
        "mapping strand (read_1): ++,-+\r\n",
        "mapping strand (read_2): +-,--\r\n",
        "Pair-end alignment(8 threads)\r\n",
        "Input read file #1: /Volumes/web/cnidarian/filtered_Y38_control_GTGAAA_L005_R1_tr.fastq"
       ]
      },
      {
       "output_type": "stream",
       "stream": "stdout",
       "text": [
        " \t(format: FASTQ)\r\n",
        "Input read file #2: /Volumes/web/cnidarian/filtered_Y38_control_GTGAAA_L005_R2_tr.fastq \t(format: FASTQ)\r\n",
        "Output file: /Volumes/web/cnidarian/BiLar_YE_control_t.sam\t (format: SAM)\r\n"
       ]
      },
      {
       "output_type": "stream",
       "stream": "stdout",
       "text": [
        "Thread #1: \t50000 read pairs finished. 80 secs passed\r\n"
       ]
      },
      {
       "output_type": "stream",
       "stream": "stdout",
       "text": [
        "Thread #0: \t100000 read pairs finished. 83 secs passed\r\n"
       ]
      },
      {
       "output_type": "stream",
       "stream": "stdout",
       "text": [
        "Thread #3: \t150000 read pairs finished. 84 secs passed\r\n"
       ]
      },
      {
       "output_type": "stream",
       "stream": "stdout",
       "text": [
        "Thread #4: \t200000 read pairs finished. 85 secs passed\r\n"
       ]
      },
      {
       "output_type": "stream",
       "stream": "stdout",
       "text": [
        "Thread #5: \t250000 read pairs finished. 87 secs passed\r\n"
       ]
      },
      {
       "output_type": "stream",
       "stream": "stdout",
       "text": [
        "Thread #7: \t350000 read pairs finished. 88 secs passed\r\n"
       ]
      },
      {
       "output_type": "stream",
       "stream": "stdout",
       "text": [
        "Thread #2: \t300000 read pairs finished. 89 secs passed\r\n"
       ]
      },
      {
       "output_type": "stream",
       "stream": "stdout",
       "text": [
        "Thread #6: \t400000 read pairs finished. 90 secs passed\r\n"
       ]
      },
      {
       "output_type": "stream",
       "stream": "stdout",
       "text": [
        "Thread #1: \t450000 read pairs finished. 131 secs passed\r\n"
       ]
      },
      {
       "output_type": "stream",
       "stream": "stdout",
       "text": [
        "Thread #0: \t500000 read pairs finished. 134 secs passed\r\n"
       ]
      },
      {
       "output_type": "stream",
       "stream": "stdout",
       "text": [
        "Thread #3: \t550000 read pairs finished. 136 secs passed\r\n"
       ]
      },
      {
       "output_type": "stream",
       "stream": "stdout",
       "text": [
        "Thread #4: \t600000 read pairs finished. 137 secs passed\r\n"
       ]
      },
      {
       "output_type": "stream",
       "stream": "stdout",
       "text": [
        "Thread #5: \t650000 read pairs finished. 138 secs passed\r\n"
       ]
      },
      {
       "output_type": "stream",
       "stream": "stdout",
       "text": [
        "Thread #7: \t700000 read pairs finished. 141 secs passed\r\n"
       ]
      },
      {
       "output_type": "stream",
       "stream": "stdout",
       "text": [
        "Thread #6: \t800000 read pairs finished. 147 secs passed\r\n"
       ]
      },
      {
       "output_type": "stream",
       "stream": "stdout",
       "text": [
        "Thread #2: \t750000 read pairs finished. 148 secs passed\r\n"
       ]
      },
      {
       "output_type": "stream",
       "stream": "stdout",
       "text": [
        "Thread #1: \t850000 read pairs finished. 181 secs passed\r\n"
       ]
      },
      {
       "output_type": "stream",
       "stream": "stdout",
       "text": [
        "Thread #0: \t900000 read pairs finished. 183 secs passed\r\n"
       ]
      },
      {
       "output_type": "stream",
       "stream": "stdout",
       "text": [
        "Thread #3: \t950000 read pairs finished. 185 secs passed\r\n"
       ]
      },
      {
       "output_type": "stream",
       "stream": "stdout",
       "text": [
        "Thread #4: \t1000000 read pairs finished. 187 secs passed\r\n"
       ]
      },
      {
       "output_type": "stream",
       "stream": "stdout",
       "text": [
        "Thread #5: \t1050000 read pairs finished. 188 secs passed\r\n"
       ]
      },
      {
       "output_type": "stream",
       "stream": "stdout",
       "text": [
        "Thread #7: \t1100000 read pairs finished. 190 secs passed\r\n"
       ]
      },
      {
       "output_type": "stream",
       "stream": "stdout",
       "text": [
        "Thread #6: \t1150000 read pairs finished. 199 secs passed\r\n"
       ]
      },
      {
       "output_type": "stream",
       "stream": "stdout",
       "text": [
        "Thread #2: \t1200000 read pairs finished. 202 secs passed\r\n"
       ]
      },
      {
       "output_type": "stream",
       "stream": "stdout",
       "text": [
        "Thread #1: \t1250000 read pairs finished. 233 secs passed\r\n"
       ]
      },
      {
       "output_type": "stream",
       "stream": "stdout",
       "text": [
        "Thread #0: \t1300000 read pairs finished. 236 secs passed\r\n"
       ]
      },
      {
       "output_type": "stream",
       "stream": "stdout",
       "text": [
        "Thread #3: \t1350000 read pairs finished. 238 secs passed\r\n"
       ]
      },
      {
       "output_type": "stream",
       "stream": "stdout",
       "text": [
        "Thread #4: \t1400000 read pairs finished. 239 secs passed\r\n"
       ]
      },
      {
       "output_type": "stream",
       "stream": "stdout",
       "text": [
        "Thread #5: \t1450000 read pairs finished. 240 secs passed\r\n"
       ]
      },
      {
       "output_type": "stream",
       "stream": "stdout",
       "text": [
        "Thread #7: \t1500000 read pairs finished. 243 secs passed\r\n"
       ]
      },
      {
       "output_type": "stream",
       "stream": "stdout",
       "text": [
        "Thread #6: \t1550000 read pairs finished. 252 secs passed\r\n"
       ]
      },
      {
       "output_type": "stream",
       "stream": "stdout",
       "text": [
        "Thread #2: \t1600000 read pairs finished. 256 secs passed\r\n"
       ]
      },
      {
       "output_type": "stream",
       "stream": "stdout",
       "text": [
        "Thread #"
       ]
      },
      {
       "output_type": "stream",
       "stream": "stdout",
       "text": [
        "1: \t1650000 read pairs finished. 285 secs passed\r\n"
       ]
      },
      {
       "output_type": "stream",
       "stream": "stdout",
       "text": [
        "Thread #0: \t1700000 read pairs finished. 288 secs passed\r\n"
       ]
      },
      {
       "output_type": "stream",
       "stream": "stdout",
       "text": [
        "Thread #3: \t1750000 read pairs finished. 291 secs passed\r\n"
       ]
      },
      {
       "output_type": "stream",
       "stream": "stdout",
       "text": [
        "Thread #4: \t1800000 read pairs finished. 292 secs passed\r\n"
       ]
      },
      {
       "output_type": "stream",
       "stream": "stdout",
       "text": [
        "Thread #5: \t1850000 read pairs finished. 293 secs passed\r\n"
       ]
      },
      {
       "output_type": "stream",
       "stream": "stdout",
       "text": [
        "Thread #7: \t1900000 read pairs finished. 296 secs passed\r\n"
       ]
      },
      {
       "output_type": "stream",
       "stream": "stdout",
       "text": [
        "Thread #6: \t1950000 read pairs finished. 304 secs passed\r\n"
       ]
      },
      {
       "output_type": "stream",
       "stream": "stdout",
       "text": [
        "Thread #2: \t2000000 read pairs finished. 310 secs passed\r\n"
       ]
      },
      {
       "output_type": "stream",
       "stream": "stdout",
       "text": [
        "Thread #1: \t2050000 read pairs finished. 339 secs passed\r\n"
       ]
      },
      {
       "output_type": "stream",
       "stream": "stdout",
       "text": [
        "Thread #0: \t2100000 read pairs finished. 342 secs passed\r\n"
       ]
      },
      {
       "output_type": "stream",
       "stream": "stdout",
       "text": [
        "Thread #3: \t2150000 read pairs finished. 345 secs passed\r\n"
       ]
      },
      {
       "output_type": "stream",
       "stream": "stdout",
       "text": [
        "Thread #4: \t2200000 read pairs finished. 346 secs passed\r\n"
       ]
      },
      {
       "output_type": "stream",
       "stream": "stdout",
       "text": [
        "Thread #5: \t2250000 read pairs finished. 347 secs passed\r\n"
       ]
      },
      {
       "output_type": "stream",
       "stream": "stdout",
       "text": [
        "Thread #7: \t2300000 read pairs finished. 351 secs passed\r\n"
       ]
      },
      {
       "output_type": "stream",
       "stream": "stdout",
       "text": [
        "Thread #6: \t2350000 read pairs finished. 361 secs passed\r\n"
       ]
      },
      {
       "output_type": "stream",
       "stream": "stdout",
       "text": [
        "Thread #2: \t2400000 read pairs finished. 365 secs passed\r\n"
       ]
      },
      {
       "output_type": "stream",
       "stream": "stdout",
       "text": [
        "Thread #1: \t2450000 read pairs finished. 395 secs passed\r\n"
       ]
      },
      {
       "output_type": "stream",
       "stream": "stdout",
       "text": [
        "Thread #0: \t2500000 read pairs finished. 397 secs passed\r\n"
       ]
      },
      {
       "output_type": "stream",
       "stream": "stdout",
       "text": [
        "Thread #3: \t2550000 read pairs finished. 401 secs passed\r\n"
       ]
      },
      {
       "output_type": "stream",
       "stream": "stdout",
       "text": [
        "Thread #4: \t2600000 read pairs finished. 402 secs passed\r\n"
       ]
      },
      {
       "output_type": "stream",
       "stream": "stdout",
       "text": [
        "Thread #5: \t2650000 read pairs finished. 403 secs passed\r\n"
       ]
      },
      {
       "output_type": "stream",
       "stream": "stdout",
       "text": [
        "Thread #7: \t2700000 read pairs finished. 407 secs passed\r\n"
       ]
      },
      {
       "output_type": "stream",
       "stream": "stdout",
       "text": [
        "Thread #6: \t2750000 read pairs finished. 417 secs passed\r\n"
       ]
      },
      {
       "output_type": "stream",
       "stream": "stdout",
       "text": [
        "Thread #2: \t2800000 read pairs finished. 422 secs passed\r\n"
       ]
      },
      {
       "output_type": "stream",
       "stream": "stdout",
       "text": [
        "Thread #1: \t2850000 read pairs finished. 451 secs passed\r\n"
       ]
      },
      {
       "output_type": "stream",
       "stream": "stdout",
       "text": [
        "Thread #0: \t2900000 read pairs finished. 453 secs passed\r\n"
       ]
      },
      {
       "output_type": "stream",
       "stream": "stdout",
       "text": [
        "Thread #3: \t2950000 read pairs finished. 457 secs passed\r\n"
       ]
      },
      {
       "output_type": "stream",
       "stream": "stdout",
       "text": [
        "Thread #4: \t3000000 read pairs finished. 458 secs passed\r\n"
       ]
      },
      {
       "output_type": "stream",
       "stream": "stdout",
       "text": [
        "Thread #5: \t3050000 read pairs finished. 459 secs passed\r\n"
       ]
      },
      {
       "output_type": "stream",
       "stream": "stdout",
       "text": [
        "Thread #7: \t3100000 read pairs finished. 461 secs passed\r\n"
       ]
      },
      {
       "output_type": "stream",
       "stream": "stdout",
       "text": [
        "Thread #0: \t3262139 read pairs finished. 462 secs passed\r\n"
       ]
      },
      {
       "output_type": "stream",
       "stream": "stdout",
       "text": [
        "Thread #6: \t3150000 read pairs finished. 464 secs passed\r\n"
       ]
      },
      {
       "output_type": "stream",
       "stream": "stdout",
       "text": [
        "Thread #2: \t3200000 read pairs finished. 465 secs passed\r\n"
       ]
      },
      {
       "output_type": "stream",
       "stream": "stdout",
       "text": [
        "Thread #1: \t3250000 read pairs finished. 471 secs passed\r\n"
       ]
      },
      {
       "output_type": "stream",
       "stream": "stdout",
       "text": [
        "Total number of aligned reads: \r\n",
        "pairs:       1817795 (56%)\r\n",
        "single a:    771957 (24%)\r\n",
        "single b:    635567 (19%)\r\n",
        "Done.\r\n",
        "Finished at Fri Jun  6 08:26:44 2014\r\n",
        "Total time consumed:  471 secs\r\n"
       ]
      }
     ],
     "prompt_number": 3
    },
    {
     "cell_type": "code",
     "collapsed": false,
     "input": [
      "!head /Volumes/web/cnidarian/BiLar_YE_control_t.sam"
     ],
     "language": "python",
     "metadata": {},
     "outputs": [
      {
       "output_type": "stream",
       "stream": "stdout",
       "text": [
        "@HD\tVN:1.0\r\n",
        "@SQ\tSN:C12728\tLN:200\r\n",
        "@SQ\tSN:C12722\tLN:200\r\n",
        "@SQ\tSN:C12706\tLN:200\r\n",
        "@SQ\tSN:C12718\tLN:200\r\n",
        "@SQ\tSN:C12732\tLN:200\r\n",
        "@SQ\tSN:C12726\tLN:200\r\n",
        "@SQ\tSN:C12708\tLN:200\r\n",
        "@SQ\tSN:C12730\tLN:200\r\n",
        "@SQ\tSN:C12724\tLN:200\r\n"
       ]
      }
     ],
     "prompt_number": 2
    },
    {
     "cell_type": "code",
     "collapsed": false,
     "input": [
      "#where is bsmap\n",
      "#bsmap=\"/Users/Shared/Apps/bsmap-2.74/\"\n",
      "bsmap=\"/Volumes/Bay3/Software/BSMAP/bsmap-2.74/\"\n",
      "\n",
      "#genome\n",
      "#genome=\"/Users/Steven/Downloads/Crassostrea_gigas.GCA_000297895.1.22.dna_sm.genome.fa\"\n",
      "genome=\"/Volumes/web/trilobite/Crassostrea_gigas_ensembl_tracks/Crassostrea_gigas.GCA_000297895.1.22.dna_sm.genome.fa\""
     ],
     "language": "python",
     "metadata": {},
     "outputs": [],
     "prompt_number": 3
    },
    {
     "cell_type": "code",
     "collapsed": false,
     "input": [
      "!python {bsmap}methratio.py -d {genome} -u -z -g -o /Volumes/web/cnidarian/YE_control_22sm_methratio_out.txt -s {bsmap}samtools /Volumes/web/cnidarian/BiLar_YE_control_t.sam\n"
     ],
     "language": "python",
     "metadata": {},
     "outputs": [
      {
       "output_type": "stream",
       "stream": "stdout",
       "text": [
        "@ Fri Jun  6 08:34:48 2014: reading reference /Volumes/web/trilobite/Crassostrea_gigas_ensembl_tracks/Crassostrea_gigas.GCA_000297895.1.22.dna_sm.genome.fa ...\r\n"
       ]
      },
      {
       "output_type": "stream",
       "stream": "stdout",
       "text": [
        "@ Fri Jun  6 08:36:31 2014: reading /Volumes/web/cnidarian/BiLar_YE_control_t.sam ...\r\n"
       ]
      },
      {
       "output_type": "stream",
       "stream": "stdout",
       "text": [
        "[samopen] SAM header is present: 7658 sequences.\r\n"
       ]
      },
      {
       "output_type": "stream",
       "stream": "stdout",
       "text": [
        "@ Fri Jun  6 08:44:24 2014: combining CpG methylation from both strands ...\r\n"
       ]
      },
      {
       "output_type": "stream",
       "stream": "stdout",
       "text": [
        "@ Fri Jun  6 08:45:40 2014: writing /Volumes/web/cnidarian/YE_control_22sm_methratio_out.txt ...\r\n"
       ]
      },
      {
       "output_type": "stream",
       "stream": "stdout",
       "text": [
        "@ Fri Jun  6 08:52:48 2014: done.\r\n",
        "total 3509466 valid mappings, 16975201 covered cytosines, average coverage: 1.15 fold.\r\n"
       ]
      }
     ],
     "prompt_number": 4
    },
    {
     "cell_type": "code",
     "collapsed": false,
     "input": [
      "!head /Volumes/web/cnidarian/YE_control_22sm_methratio_out.txt"
     ],
     "language": "python",
     "metadata": {},
     "outputs": [
      {
       "output_type": "stream",
       "stream": "stdout",
       "text": [
        "chr\tpos\tstrand\tcontext\tratio\teff_CT_count\tC_count\tCT_count\trev_G_count\trev_GA_count\tCI_lower\tCI_upper\r\n",
        "C12798\t41\t+\tAACAA\t0.000\t1.00\t0\t1\t0\t0\t0.000\t0.793\r\n",
        "C12798\t45\t+\tAACTT\t0.000\t1.00\t0\t1\t0\t0\t0.000\t0.793\r\n",
        "C12798\t52\t+\tATCCC\t0.000\t1.00\t0\t1\t0\t0\t0.000\t0.793\r\n",
        "C12798\t53\t+\tTCCCC\t0.000\t1.00\t0\t1\t0\t0\t0.000\t0.793\r\n",
        "C12798\t54\t+\tCCCCT\t0.000\t1.00\t0\t1\t0\t0\t0.000\t0.793\r\n",
        "C12798\t55\t+\tCCCTT\t0.000\t1.00\t0\t1\t0\t0\t0.000\t0.793\r\n",
        "C12798\t58\t+\tTTCAC\t0.000\t1.00\t0\t1\t0\t0\t0.000\t0.793\r\n",
        "C12798\t60\t+\tCACCT\t0.000\t1.00\t0\t1\t0\t0\t0.000\t0.793\r\n",
        "C12798\t61\t+\tACCTA\t0.000\t1.00\t0\t1\t0\t0\t0.000\t0.793\r\n"
       ]
      }
     ],
     "prompt_number": 5
    },
    {
     "cell_type": "code",
     "collapsed": false,
     "input": [
      "#command for only obtaining the context '__CG_'\n",
      "#!grep \"[A-Z][A-Z]CG[A-Z]\" </Volumes/web/cnidarian/YE_mix_22sm_methratio_out.txt> /Volumes/web/cnidarian/YE_mix_22sm_methratio_outCG.txt \n",
      "#5x coverage\n",
      "!awk '{if ($8 >= 3) print $1,$2-1,$2+1,\"CpG\",$5}' </Volumes/web/cnidarian/YE_control_22sm_methratio_outCG.txt> /Volumes/web/cnidarian/YE_control_22sm_outCG3x.igv \n",
      "!tr ' ' \"\\t\" </Volumes/web/cnidarian/YE_control_22sm_outCG3x.igv> /Volumes/web/cnidarian/filt_YE_control_22smCG3x.igv"
     ],
     "language": "python",
     "metadata": {},
     "outputs": [],
     "prompt_number": 61
    },
    {
     "cell_type": "code",
     "collapsed": false,
     "input": [
      "!head /Volumes/web/cnidarian/YE_mix_22sm_methratio_out.txt"
     ],
     "language": "python",
     "metadata": {},
     "outputs": [
      {
       "output_type": "stream",
       "stream": "stdout",
       "text": [
        "chr\tpos\tstrand\tcontext\tratio\teff_CT_count\tC_count\tCT_count\trev_G_count\trev_GA_count\tCI_lower\tCI_upper\r\n",
        "C12706\t112\t+\tTTCTA\t0.000\t1.00\t0\t1\t0\t0\t0.000\t0.793\r\n",
        "C12706\t135\t+\tGACTC\t0.000\t1.00\t0\t1\t0\t0\t0.000\t0.793\r\n",
        "C12706\t137\t+\tCTCTT\t0.000\t1.00\t0\t1\t0\t0\t0.000\t0.793\r\n",
        "C12706\t148\t+\tATCAA\t0.000\t1.00\t0\t1\t0\t0\t0.000\t0.793\r\n",
        "C12706\t151\t+\tAACTT\t0.000\t1.00\t0\t1\t0\t0\t0.000\t0.793\r\n",
        "C12706\t159\t+\tAGCCT\t0.000\t1.00\t0\t1\t0\t0\t0.000\t0.793\r\n",
        "C12706\t160\t+\tGCCTA\t0.000\t1.00\t0\t1\t0\t0\t0.000\t0.793\r\n",
        "C12706\t163\t+\tTACAA\t0.000\t1.00\t0\t1\t0\t0\t0.000\t0.793\r\n",
        "C12706\t170\t-\tAAGGT\t0.000\t1.00\t0\t1\t2\t2\t0.000\t0.793\r\n"
       ]
      }
     ],
     "prompt_number": 5
    },
    {
     "cell_type": "code",
     "collapsed": false,
     "input": [],
     "language": "python",
     "metadata": {},
     "outputs": []
    },
    {
     "cell_type": "code",
     "collapsed": false,
     "input": [
      "#command for only obtaining the context '__CG_'\n",
      "#!grep \"[A-Z][A-Z]CG[A-Z]\" </Volumes/web/cnidarian/YE_mix_22sm_methratio_out.txt> /Volumes/web/cnidarian/YE_mix_22sm_methratio_outCG.txt \n",
      "#5x coverage\n",
      "!awk '{if ($8 >= 3) print $1\"_\"$2-1,$1,$2-1,$2+1,\"CpG\",$5}' </Volumes/web/cnidarian/YE_mix_22sm_methratio_outCG.txt> /Volumes/web/cnidarian/YE_mix_22sm_outCG3x.igv \n",
      "!tr ' ' \"\\t\" </Volumes/web/cnidarian/YE_mix_22sm_outCG3x.igv> /Volumes/web/cnidarian/filt_YE_mix_22smCG3xj.txt"
     ],
     "language": "python",
     "metadata": {},
     "outputs": [],
     "prompt_number": 26
    },
    {
     "cell_type": "code",
     "collapsed": false,
     "input": [
      "!head /Volumes/web/cnidarian/filt_YE_mix_22smCG3xj.txt"
     ],
     "language": "python",
     "metadata": {},
     "outputs": [
      {
       "output_type": "stream",
       "stream": "stdout",
       "text": [
        "C12764_118\tC12764\t118\t120\tCpG\t0.000\r\n",
        "C12764_128\tC12764\t128\t130\tCpG\t0.000\r\n",
        "C12764_131\tC12764\t131\t133\tCpG\t0.000\r\n",
        "C12778_113\tC12778\t113\t115\tCpG\t0.000\r\n",
        "C12802_118\tC12802\t118\t120\tCpG\t0.000\r\n",
        "C12860_104\tC12860\t104\t106\tCpG\t0.000\r\n",
        "C12860_112\tC12860\t112\t114\tCpG\t0.000\r\n",
        "C12860_115\tC12860\t115\t117\tCpG\t0.000\r\n",
        "C12860_120\tC12860\t120\t122\tCpG\t0.000\r\n",
        "C12860_158\tC12860\t158\t160\tCpG\t0.000\r\n"
       ]
      }
     ],
     "prompt_number": 27
    },
    {
     "cell_type": "code",
     "collapsed": false,
     "input": [
      "#command for only obtaining the context '__CG_'\n",
      "#!grep \"[A-Z][A-Z]CG[A-Z]\" </Volumes/web/cnidarian/YE_control_22sm_methratio_out.txt> /Volumes/web/cnidarian/YE_control_22sm_methratio_outCG.txt \n",
      "#5x coverage\n",
      "!awk '{if ($8 >= 3) print $1\"_\"$2-1,$1,$2-1,$2+1,\"CpG\",$5}' </Volumes/web/cnidarian/YE_control_22sm_methratio_outCG.txt> /Volumes/web/cnidarian/YE_control_22sm_outCG3x.igv \n",
      "!tr ' ' \"\\t\" </Volumes/web/cnidarian/YE_control_22sm_outCG3x.igv> /Volumes/web/cnidarian/filt_YE_control_22smCG3xj.txt"
     ],
     "language": "python",
     "metadata": {},
     "outputs": [],
     "prompt_number": 28
    },
    {
     "cell_type": "code",
     "collapsed": false,
     "input": [
      "!head /Volumes/web/cnidarian/filt_YE_control_22smCG3xj.txt"
     ],
     "language": "python",
     "metadata": {},
     "outputs": [
      {
       "output_type": "stream",
       "stream": "stdout",
       "text": [
        "C13288_100\tC13288\t100\t102\tCpG\t0.000\r\n",
        "C13288_107\tC13288\t107\t109\tCpG\t0.000\r\n",
        "C13448_36\tC13448\t36\t38\tCpG\t0.000\r\n",
        "C13800_97\tC13800\t97\t99\tCpG\t0.000\r\n",
        "C14308_113\tC14308\t113\t115\tCpG\t0.000\r\n",
        "C14308_120\tC14308\t120\t122\tCpG\t0.000\r\n",
        "C14966_93\tC14966\t93\t95\tCpG\t0.000\r\n",
        "C15066_81\tC15066\t81\t83\tCpG\t0.333\r\n",
        "C15066_88\tC15066\t88\t90\tCpG\t0.000\r\n",
        "C15066_260\tC15066\t260\t262\tCpG\t0.000\r\n"
       ]
      }
     ],
     "prompt_number": 30
    },
    {
     "cell_type": "code",
     "collapsed": false,
     "input": [
      "spd=\"/Users/sr320/sqlshare-pythonclient/tools/\" "
     ],
     "language": "python",
     "metadata": {},
     "outputs": [],
     "prompt_number": 12
    },
    {
     "cell_type": "code",
     "collapsed": false,
     "input": [
      "!python {spd}singleupload.py -d filt_YE_control_22smCG3x /Volumes/web/cnidarian/filt_YE_control_22smCG3xj.txt"
     ],
     "language": "python",
     "metadata": {},
     "outputs": [
      {
       "output_type": "stream",
       "stream": "stdout",
       "text": [
        "processing chunk line 0 to 77742 (0.0385191440582 s elapsed)\r\n",
        "pushing /Volumes/web/cnidarian/filt_YE_control_22smCG3xj.txt...\r\n"
       ]
      },
      {
       "output_type": "stream",
       "stream": "stdout",
       "text": [
        "parsing 41B4A049...\r\n"
       ]
      },
      {
       "output_type": "stream",
       "stream": "stdout",
       "text": [
        "finished filt_YE_control_22smCG3x\r\n"
       ]
      }
     ],
     "prompt_number": 31
    },
    {
     "cell_type": "code",
     "collapsed": false,
     "input": [
      "!python {spd}singleupload.py -d filt_YE_mix_22smCG3x /Volumes/web/cnidarian/filt_YE_mix_22smCG3xj.txt"
     ],
     "language": "python",
     "metadata": {},
     "outputs": [
      {
       "output_type": "stream",
       "stream": "stdout",
       "text": [
        "processing chunk line 0 to 1434021 (8.93834710121 s elapsed)\r\n",
        "pushing /Volumes/web/cnidarian/filt_YE_mix_22smCG3xj.txt...\r\n"
       ]
      },
      {
       "output_type": "stream",
       "stream": "stdout",
       "text": [
        "parsing ED260C3F...\r\n"
       ]
      },
      {
       "output_type": "stream",
       "stream": "stdout",
       "text": [
        "finished filt_YE_mix_22smCG3x\r\n"
       ]
      }
     ],
     "prompt_number": 32
    },
    {
     "cell_type": "heading",
     "level": 1,
     "metadata": {},
     "source": [
      "SQLShare Join\n"
     ]
    },
    {
     "cell_type": "markdown",
     "metadata": {},
     "source": [
      "`\n",
      "SELECT * FROM [sr320@washington.edu].[filt_YE_control_22smCG3x]c\n",
      "  left join\n",
      "  [sr320@washington.edu].[filt_YE_mix_22smCG3x]m\n",
      "  on\n",
      "  c.Column1=m.Column1\n",
      "  where m.Column1 <> ' '\n",
      "`    "
     ]
    },
    {
     "cell_type": "code",
     "collapsed": false,
     "input": [
      "!head /Volumes/web/cnidarian/YE_mvc_3xjoin.csv"
     ],
     "language": "python",
     "metadata": {},
     "outputs": [
      {
       "output_type": "stream",
       "stream": "stdout",
       "text": [
        "Column1,Column2,Column3,Column4,Column5,Column6,Column1,Column2,Column3,Column4,Column5,Column6\r",
        "\r\n",
        "C14308_113,C14308,113,115,CpG,0.000,C14308_113,C14308,113,115,CpG,0.000\r",
        "\r\n",
        "C15156_18,C15156,18,20,CpG,0.000,C15156_18,C15156,18,20,CpG,0.000\r",
        "\r\n",
        "C15156_23,C15156,23,25,CpG,0.000,C15156_23,C15156,23,25,CpG,0.000\r",
        "\r\n",
        "C15646_218,C15646,218,220,CpG,0.000,C15646_218,C15646,218,220,CpG,0.000\r",
        "\r\n",
        "C15646_223,C15646,223,225,CpG,0.250,C15646_223,C15646,223,225,CpG,0.000\r",
        "\r\n",
        "C15646_282,C15646,282,284,CpG,0.000,C15646_282,C15646,282,284,CpG,0.000\r",
        "\r\n",
        "C15646_284,C15646,284,286,CpG,0.000,C15646_284,C15646,284,286,CpG,0.000\r",
        "\r\n",
        "C15646_293,C15646,293,295,CpG,0.000,C15646_293,C15646,293,295,CpG,0.000\r",
        "\r\n",
        "C15646_295,C15646,295,297,CpG,0.000,C15646_295,C15646,295,297,CpG,0.000\r",
        "\r\n"
       ]
      }
     ],
     "prompt_number": 33
    },
    {
     "cell_type": "code",
     "collapsed": false,
     "input": [
      "!wc -l /Volumes/web/cnidarian/YE_mvc_3xjoin.csv"
     ],
     "language": "python",
     "metadata": {},
     "outputs": [
      {
       "output_type": "stream",
       "stream": "stdout",
       "text": [
        "   35430 /Volumes/web/cnidarian/YE_mvc_3xjoin.csv\r\n"
       ]
      }
     ],
     "prompt_number": 34
    },
    {
     "cell_type": "code",
     "collapsed": false,
     "input": [
      "!head /Volumes/web/cnidarian/YE_mixHYPO.txt"
     ],
     "language": "python",
     "metadata": {},
     "outputs": [
      {
       "output_type": "stream",
       "stream": "stdout",
       "text": [
        "ratio_control\tColumn1\tColumn2\tColumn3\tColumn4\tColumn5\tratio_mix\r\n",
        "1\tC26536_1511\tC26536\t1511\t1513\tCpG\t0\r\n",
        "1\tscaffold1179_1120799\tscaffold1179\t1120799\t1120801\tCpG\t0\r\n",
        "1\tscaffold1189_665949\tscaffold1189\t665949\t665951\tCpG\t0\r\n",
        "1\tscaffold1532_1178565\tscaffold1532\t1178565\t1178567\tCpG\t0\r\n",
        "1\tscaffold1532_888871\tscaffold1532\t888871\t888873\tCpG\t0\r\n",
        "1\tscaffold1656_129879\tscaffold1656\t129879\t129881\tCpG\t0\r\n",
        "1\tscaffold1682_233873\tscaffold1682\t233873\t233875\tCpG\t0\r\n",
        "1\tscaffold1733_67696\tscaffold1733\t67696\t67698\tCpG\t0\r\n",
        "1\tscaffold1860_178219\tscaffold1860\t178219\t178221\tCpG\t0\r\n"
       ]
      }
     ],
     "prompt_number": 35
    },
    {
     "cell_type": "code",
     "collapsed": false,
     "input": [
      "!wc -l /Volumes/web/cnidarian/YE_mixHYPO.txt"
     ],
     "language": "python",
     "metadata": {},
     "outputs": [
      {
       "output_type": "stream",
       "stream": "stdout",
       "text": [
        "     279 /Volumes/web/cnidarian/YE_mixHYPO.txt\r\n"
       ]
      }
     ],
     "prompt_number": 38
    },
    {
     "cell_type": "code",
     "collapsed": false,
     "input": [
      "!head /Volumes/web/cnidarian/YE_mixHYPER.txt"
     ],
     "language": "python",
     "metadata": {},
     "outputs": [
      {
       "output_type": "stream",
       "stream": "stdout",
       "text": [
        "ratio_control\tColumn1\tColumn2\tColumn3\tColumn4\tColumn5\tratio_mix\r\n",
        "0\tC27742_4663\tC27742\t4663\t4665\tCpG\t1\r\n",
        "0\tscaffold1021_12097\tscaffold1021\t12097\t12099\tCpG\t1\r\n",
        "0\tscaffold1032_211526\tscaffold1032\t211526\t211528\tCpG\t1\r\n",
        "0\tscaffold105_434416\tscaffold105\t434416\t434418\tCpG\t1\r\n",
        "0\tscaffold1086_656185\tscaffold1086\t656185\t656187\tCpG\t1\r\n",
        "0\tscaffold1086_656188\tscaffold1086\t656188\t656190\tCpG\t1\r\n",
        "0\tscaffold1087_9508\tscaffold1087\t9508\t9510\tCpG\t1\r\n",
        "0\tscaffold109_358907\tscaffold109\t358907\t358909\tCpG\t1\r\n",
        "0\tscaffold1132_613494\tscaffold1132\t613494\t613496\tCpG\t1\r\n"
       ]
      }
     ],
     "prompt_number": 36
    },
    {
     "cell_type": "code",
     "collapsed": false,
     "input": [
      "!wc -l /Volumes/web/cnidarian/YE_mixHYPER.txt"
     ],
     "language": "python",
     "metadata": {},
     "outputs": [
      {
       "output_type": "stream",
       "stream": "stdout",
       "text": [
        "     544 /Volumes/web/cnidarian/YE_mixHYPER.txt\r\n"
       ]
      }
     ],
     "prompt_number": 39
    },
    {
     "cell_type": "code",
     "collapsed": false,
     "input": [
      "#make a mix_hyper igv track.."
     ],
     "language": "python",
     "metadata": {},
     "outputs": [],
     "prompt_number": 40
    },
    {
     "cell_type": "code",
     "collapsed": false,
     "input": [
      "!awk '{print $3,$4,$5,$6,$7}' </Volumes/web/cnidarian/YE_mixHYPER.txt> /Volumes/web/cnidarian/YE_mixHYPER.igv \n"
     ],
     "language": "python",
     "metadata": {},
     "outputs": [],
     "prompt_number": 43
    },
    {
     "cell_type": "code",
     "collapsed": false,
     "input": [
      "!head /Volumes/web/cnidarian/YE_mixHYPER.igv "
     ],
     "language": "python",
     "metadata": {},
     "outputs": [
      {
       "output_type": "stream",
       "stream": "stdout",
       "text": [
        "Column2 Column3 Column4 Column5 ratio_mix\r\n",
        "C27742 4663 4665 CpG 1\r\n",
        "scaffold1021 12097 12099 CpG 1\r\n",
        "scaffold1032 211526 211528 CpG 1\r\n",
        "scaffold105 434416 434418 CpG 1\r\n",
        "scaffold1086 656185 656187 CpG 1\r\n",
        "scaffold1086 656188 656190 CpG 1\r\n",
        "scaffold1087 9508 9510 CpG 1\r\n",
        "scaffold109 358907 358909 CpG 1\r\n",
        "scaffold1132 613494 613496 CpG 1\r\n"
       ]
      }
     ],
     "prompt_number": 44
    },
    {
     "cell_type": "code",
     "collapsed": false,
     "input": [
      "!tail -n +2 /Volumes/web/cnidarian/YE_mixHYPER.igv > /Volumes/web/cnidarian/YE_mixHYPERc.igv "
     ],
     "language": "python",
     "metadata": {},
     "outputs": [],
     "prompt_number": 46
    },
    {
     "cell_type": "code",
     "collapsed": false,
     "input": [
      "!head /Volumes/web/cnidarian/YE_mixHYPERc.igv "
     ],
     "language": "python",
     "metadata": {},
     "outputs": [
      {
       "output_type": "stream",
       "stream": "stdout",
       "text": [
        "C27742 4663 4665 CpG 1\r\n",
        "scaffold1021 12097 12099 CpG 1\r\n",
        "scaffold1032 211526 211528 CpG 1\r\n",
        "scaffold105 434416 434418 CpG 1\r\n",
        "scaffold1086 656185 656187 CpG 1\r\n",
        "scaffold1086 656188 656190 CpG 1\r\n",
        "scaffold1087 9508 9510 CpG 1\r\n",
        "scaffold109 358907 358909 CpG 1\r\n",
        "scaffold1132 613494 613496 CpG 1\r\n",
        "scaffold1142 97241 97243 CpG 1\r\n"
       ]
      }
     ],
     "prompt_number": 47
    },
    {
     "cell_type": "code",
     "collapsed": false,
     "input": [
      "!awk '{print $1,$2,$3,\"HYPER\"}' </Volumes/web/cnidarian/YE_mixHYPERc.igv > /Volumes/web/cnidarian/YE_mixHYPER.bed \n"
     ],
     "language": "python",
     "metadata": {},
     "outputs": [],
     "prompt_number": 58
    },
    {
     "cell_type": "code",
     "collapsed": false,
     "input": [
      "!head /Volumes/web/cnidarian/YE_mixHYPER.bed "
     ],
     "language": "python",
     "metadata": {},
     "outputs": [
      {
       "output_type": "stream",
       "stream": "stdout",
       "text": [
        "C27742 4663 4665 HYPER\r\n",
        "scaffold1021 12097 12099 HYPER\r\n",
        "scaffold1032 211526 211528 HYPER\r\n",
        "scaffold105 434416 434418 HYPER\r\n",
        "scaffold1086 656185 656187 HYPER\r\n",
        "scaffold1086 656188 656190 HYPER\r\n",
        "scaffold1087 9508 9510 HYPER\r\n",
        "scaffold109 358907 358909 HYPER\r\n",
        "scaffold1132 613494 613496 HYPER\r\n",
        "scaffold1142 97241 97243 HYPER\r\n"
       ]
      }
     ],
     "prompt_number": 59
    },
    {
     "cell_type": "code",
     "collapsed": false,
     "input": [
      "#make a mix_hypo igv track.."
     ],
     "language": "python",
     "metadata": {},
     "outputs": []
    },
    {
     "cell_type": "code",
     "collapsed": false,
     "input": [
      "!awk '{print $3,$4,$5,$6,-$1}' </Volumes/web/cnidarian/YE_mixHYPO.txt> /Volumes/web/cnidarian/YE_mixHYPO.igv \n"
     ],
     "language": "python",
     "metadata": {},
     "outputs": [],
     "prompt_number": 48
    },
    {
     "cell_type": "code",
     "collapsed": false,
     "input": [
      "!head /Volumes/web/cnidarian/YE_mixHYPO.igv"
     ],
     "language": "python",
     "metadata": {},
     "outputs": [
      {
       "output_type": "stream",
       "stream": "stdout",
       "text": [
        "Column2 Column3 Column4 Column5 -0\r\n",
        "C26536 1511 1513 CpG -1\r\n",
        "scaffold1179 1120799 1120801 CpG -1\r\n",
        "scaffold1189 665949 665951 CpG -1\r\n",
        "scaffold1532 1178565 1178567 CpG -1\r\n",
        "scaffold1532 888871 888873 CpG -1\r\n",
        "scaffold1656 129879 129881 CpG -1\r\n",
        "scaffold1682 233873 233875 CpG -1\r\n",
        "scaffold1733 67696 67698 CpG -1\r\n",
        "scaffold1860 178219 178221 CpG -1\r\n"
       ]
      }
     ],
     "prompt_number": 51
    },
    {
     "cell_type": "code",
     "collapsed": false,
     "input": [
      "!tail -n +2 /Volumes/web/cnidarian/YE_mixHYPO.igv > /Volumes/web/cnidarian/YE_mixHYPOc.igv"
     ],
     "language": "python",
     "metadata": {},
     "outputs": [],
     "prompt_number": 52
    },
    {
     "cell_type": "code",
     "collapsed": false,
     "input": [
      "!head /Volumes/web/cnidarian/YE_mixHYPOc.igv"
     ],
     "language": "python",
     "metadata": {},
     "outputs": [
      {
       "output_type": "stream",
       "stream": "stdout",
       "text": [
        "C26536 1511 1513 CpG -1\r\n",
        "scaffold1179 1120799 1120801 CpG -1\r\n",
        "scaffold1189 665949 665951 CpG -1\r\n",
        "scaffold1532 1178565 1178567 CpG -1\r\n",
        "scaffold1532 888871 888873 CpG -1\r\n",
        "scaffold1656 129879 129881 CpG -1\r\n",
        "scaffold1682 233873 233875 CpG -1\r\n",
        "scaffold1733 67696 67698 CpG -1\r\n",
        "scaffold1860 178219 178221 CpG -1\r\n",
        "scaffold1891 93285 93287 CpG -1\r\n"
       ]
      }
     ],
     "prompt_number": 53
    },
    {
     "cell_type": "code",
     "collapsed": false,
     "input": [
      "!awk '{print $1,$2,$3,\"HYPO\"}' </Volumes/web/cnidarian/YE_mixHYPOc.igv > /Volumes/web/cnidarian/YE_mixHYPO.bed \n"
     ],
     "language": "python",
     "metadata": {},
     "outputs": [],
     "prompt_number": 60
    },
    {
     "cell_type": "code",
     "collapsed": false,
     "input": [
      "!intersectbed"
     ],
     "language": "python",
     "metadata": {},
     "outputs": [
      {
       "output_type": "stream",
       "stream": "stdout",
       "text": [
        "/bin/sh: intersectbed: command not found\r\n"
       ]
      }
     ],
     "prompt_number": 55
    },
    {
     "cell_type": "code",
     "collapsed": false,
     "input": [],
     "language": "python",
     "metadata": {},
     "outputs": []
    }
   ],
   "metadata": {}
  }
 ]
}