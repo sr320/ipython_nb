{
 "metadata": {
  "name": ""
 },
 "nbformat": 3,
 "nbformat_minor": 0,
 "worksheets": [
  {
   "cells": [
    {
     "cell_type": "heading",
     "level": 1,
     "metadata": {},
     "source": [
      "Troubleshooting Oly Blast issue"
     ]
    },
    {
     "cell_type": "code",
     "collapsed": false,
     "input": [
      "cd Volumes/Bay3/Software/ncbi-blast-2.2.29+/db"
     ],
     "language": "python",
     "metadata": {},
     "outputs": [
      {
       "output_type": "stream",
       "stream": "stdout",
       "text": [
        "/Volumes/Bay3/Software/ncbi-blast-2.2.29+/db\n"
       ]
      }
     ],
     "prompt_number": 7
    },
    {
     "cell_type": "code",
     "collapsed": false,
     "input": [
      "!wget http://eagle.fish.washington.edu/cnidarian/Olurida_transcriptome_v3.fasta"
     ],
     "language": "python",
     "metadata": {},
     "outputs": [
      {
       "output_type": "stream",
       "stream": "stdout",
       "text": [
        "--2014-01-10 10:35:25--  http://eagle.fish.washington.edu/cnidarian/Olurida_transcriptome_v3.fasta\r\n",
        "Resolving eagle.fish.washington.edu... 128.95.149.81\r\n",
        "Connecting to eagle.fish.washington.edu|128.95.149.81|:80... connected.\r\n",
        "HTTP request sent, awaiting response... 200 OK\r\n",
        "Length: 203983992 (195M) [text/plain]\r\n"
       ]
      },
      {
       "output_type": "stream",
       "stream": "stdout",
       "text": [
        "Saving to: `Olurida_transcriptome_v3.fasta'\r\n",
        "\r\n",
        "\r",
        " 0% [                                       ] 0           --.-K/s              "
       ]
      },
      {
       "output_type": "stream",
       "stream": "stdout",
       "text": [
        "\r",
        " 8% [==>                                    ] 17,851,320  85.1M/s              "
       ]
      },
      {
       "output_type": "stream",
       "stream": "stdout",
       "text": [
        "\r",
        "15% [====>                                  ] 30,875,728  73.6M/s              "
       ]
      },
      {
       "output_type": "stream",
       "stream": "stdout",
       "text": [
        "\r",
        "20% [======>                                ] 41,071,256  65.3M/s              "
       ]
      },
      {
       "output_type": "stream",
       "stream": "stdout",
       "text": [
        "\r",
        "27% [=========>                             ] 55,243,552  65.8M/s              "
       ]
      },
      {
       "output_type": "stream",
       "stream": "stdout",
       "text": [
        "\r",
        "33% [============>                          ] 68,689,920  65.2M/s              "
       ]
      },
      {
       "output_type": "stream",
       "stream": "stdout",
       "text": [
        "\r",
        "40% [==============>                        ] 83,383,016  66.0M/s              "
       ]
      },
      {
       "output_type": "stream",
       "stream": "stdout",
       "text": [
        "\r",
        "49% [==================>                    ] 100,147,200 67.8M/s              "
       ]
      },
      {
       "output_type": "stream",
       "stream": "stdout",
       "text": [
        "\r",
        "52% [===================>                   ] 106,967,136 63.2M/s              "
       ]
      },
      {
       "output_type": "stream",
       "stream": "stdout",
       "text": [
        "\r",
        "58% [=====================>                 ] 120,208,928 63.2M/s              "
       ]
      },
      {
       "output_type": "stream",
       "stream": "stdout",
       "text": [
        "\r",
        "64% [========================>              ] 132,523,960 62.7M/s              "
       ]
      },
      {
       "output_type": "stream",
       "stream": "stdout",
       "text": [
        "\r",
        "72% [===========================>           ] 147,325,656 63.4M/s              "
       ]
      },
      {
       "output_type": "stream",
       "stream": "stdout",
       "text": [
        "\r",
        "77% [=============================>         ] 157,295,928 60.8M/s              "
       ]
      },
      {
       "output_type": "stream",
       "stream": "stdout",
       "text": [
        "\r",
        "83% [===============================>       ] 170,386,136 60.9M/s              "
       ]
      },
      {
       "output_type": "stream",
       "stream": "stdout",
       "text": [
        "\r",
        "90% [==================================>    ] 183,749,520 61.1M/s              "
       ]
      },
      {
       "output_type": "stream",
       "stream": "stdout",
       "text": [
        "\r",
        "97% [====================================>  ] 198,721,536 61.8M/s  eta 0s      "
       ]
      },
      {
       "output_type": "stream",
       "stream": "stdout",
       "text": [
        "\r",
        "100%[======================================>] 203,983,992 62.4M/s   in 3.1s    \r\n",
        "\r\n",
        "2014-01-10 10:35:29 (62.4 MB/s) - `Olurida_transcriptome_v3.fasta' saved [203983992/203983992]\r\n",
        "\r\n"
       ]
      }
     ],
     "prompt_number": 8
    },
    {
     "cell_type": "code",
     "collapsed": false,
     "input": [
      "ls"
     ],
     "language": "python",
     "metadata": {},
     "outputs": [
      {
       "output_type": "stream",
       "stream": "stdout",
       "text": [
        "Olurida_transcriptome_v3.fasta  uniprot_sprot_r2013_12.pin\r\n",
        "uniprot_sprot.fasta             uniprot_sprot_r2013_12.psq\r\n",
        "uniprot_sprot_r2013_12.phr\r\n"
       ]
      }
     ],
     "prompt_number": 9
    },
    {
     "cell_type": "code",
     "collapsed": false,
     "input": [
      "cd bin"
     ],
     "language": "python",
     "metadata": {},
     "outputs": [
      {
       "output_type": "stream",
       "stream": "stdout",
       "text": [
        "/Volumes/Bay3/Software/ncbi-blast-2.2.29+/bin\n"
       ]
      }
     ],
     "prompt_number": 11
    },
    {
     "cell_type": "code",
     "collapsed": false,
     "input": [
      "ls"
     ],
     "language": "python",
     "metadata": {},
     "outputs": [
      {
       "output_type": "stream",
       "stream": "stdout",
       "text": [
        "\u001b[31mblast_formatter\u001b[m\u001b[m*   \u001b[31mdeltablast\u001b[m\u001b[m*        \u001b[31mrpstblastn\u001b[m\u001b[m*\r\n",
        "\u001b[31mblastdb_aliastool\u001b[m\u001b[m* \u001b[31mdustmasker\u001b[m\u001b[m*        \u001b[31msegmasker\u001b[m\u001b[m*\r\n",
        "\u001b[31mblastdbcheck\u001b[m\u001b[m*      \u001b[31mlegacy_blast.pl\u001b[m\u001b[m*   \u001b[31mtblastn\u001b[m\u001b[m*\r\n",
        "\u001b[31mblastdbcmd\u001b[m\u001b[m*        \u001b[31mmakeblastdb\u001b[m\u001b[m*       \u001b[31mtblastx\u001b[m\u001b[m*\r\n",
        "\u001b[31mblastn\u001b[m\u001b[m*            \u001b[31mmakembindex\u001b[m\u001b[m*       \u001b[31mupdate_blastdb.pl\u001b[m\u001b[m*\r\n",
        "\u001b[31mblastp\u001b[m\u001b[m*            \u001b[31mmakeprofiledb\u001b[m\u001b[m*     \u001b[31mwindowmasker\u001b[m\u001b[m*\r\n",
        "\u001b[31mblastx\u001b[m\u001b[m*            \u001b[31mpsiblast\u001b[m\u001b[m*\r\n",
        "\u001b[31mconvert2blastmask\u001b[m\u001b[m* \u001b[31mrpsblast\u001b[m\u001b[m*\r\n"
       ]
      }
     ],
     "prompt_number": 12
    },
    {
     "cell_type": "code",
     "collapsed": false,
     "input": [
      "!makeblastdb -in  -dbtype prot -out uniprot_sprot_r2013_12 "
     ],
     "language": "python",
     "metadata": {},
     "outputs": [
      {
       "output_type": "stream",
       "stream": "stdout",
       "text": [
        "USAGE\r\n",
        "  makeblastdb [-h] [-help] [-in input_file] [-input_type type]\r\n",
        "    -dbtype molecule_type [-title database_title] [-parse_seqids]\r\n",
        "    [-hash_index] [-mask_data mask_data_files] [-gi_mask]\r\n",
        "    [-gi_mask_name gi_based_mask_names] [-out database_name]\r\n",
        "    [-max_file_sz number_of_bytes] [-taxid TaxID] [-taxid_map TaxIDMapFile]\r\n",
        "    [-logfile File_Name] [-version]\r\n",
        "\r\n",
        "DESCRIPTION\r\n",
        "   Application to create BLAST databases, version 2.2.28+\r\n",
        "\r\n",
        "Use '-help' to print detailed descriptions of command line arguments\r\n",
        "========================================================================\r\n",
        "\r\n",
        "Error: Argument \"dbtype\". Mandatory value is missing:  `String, `nucl', `prot''\r\n"
       ]
      }
     ],
     "prompt_number": 13
    },
    {
     "cell_type": "code",
     "collapsed": false,
     "input": [
      "cd db"
     ],
     "language": "python",
     "metadata": {},
     "outputs": [
      {
       "output_type": "stream",
       "stream": "stdout",
       "text": [
        "/Volumes/Bay3/Software/ncbi-blast-2.2.29+/db\n"
       ]
      }
     ],
     "prompt_number": 15
    },
    {
     "cell_type": "code",
     "collapsed": false,
     "input": [
      "!makeblastdb -in Olurida_transcriptome_v3.fasta -dbtype nucl -out Olurida_transcriptome_v3"
     ],
     "language": "python",
     "metadata": {},
     "outputs": [
      {
       "output_type": "stream",
       "stream": "stdout",
       "text": [
        "\r\n",
        "\r\n",
        "Building a new DB, current time: 01/10/2014 10:40:05\r\n",
        "New DB name:   Olurida_transcriptome_v3\r\n",
        "New DB title:  Olurida_transcriptome_v3.fasta\r\n",
        "Sequence type: Nucleotide\r\n",
        "Keep Linkouts: T\r\n",
        "Keep MBits: T\r\n",
        "Maximum file size: 1000000000B\r\n"
       ]
      },
      {
       "output_type": "stream",
       "stream": "stdout",
       "text": [
        "Adding sequences from FASTA; added 110067 sequences in 9.61759 seconds.\r\n"
       ]
      }
     ],
     "prompt_number": 17
    },
    {
     "cell_type": "code",
     "collapsed": false,
     "input": [
      "ls"
     ],
     "language": "python",
     "metadata": {},
     "outputs": [
      {
       "output_type": "stream",
       "stream": "stdout",
       "text": [
        "Olurida_transcriptome_v3.fasta  uniprot_sprot.fasta\r\n",
        "Olurida_transcriptome_v3.nhr    uniprot_sprot_r2013_12.phr\r\n",
        "Olurida_transcriptome_v3.nin    uniprot_sprot_r2013_12.pin\r\n",
        "Olurida_transcriptome_v3.nsq    uniprot_sprot_r2013_12.psq\r\n"
       ]
      }
     ],
     "prompt_number": 18
    },
    {
     "cell_type": "code",
     "collapsed": false,
     "input": [
      "pwd"
     ],
     "language": "python",
     "metadata": {},
     "outputs": [
      {
       "metadata": {},
       "output_type": "pyout",
       "prompt_number": 19,
       "text": [
        "u'/Volumes/Bay3/Software/ncbi-blast-2.2.29+/db'"
       ]
      }
     ],
     "prompt_number": 19
    },
    {
     "cell_type": "code",
     "collapsed": false,
     "input": [
      "!head Olurida_transcriptome_v3.fasta"
     ],
     "language": "python",
     "metadata": {},
     "outputs": [
      {
       "output_type": "stream",
       "stream": "stdout",
       "text": [
        ">comp13_c0_seq1 len=486 path=[5581:0-485]\r\n",
        "ATAAAGAGGATATGATGAATCGACATGATTGGTTAGAAAGGGCAGTATCCAACAGCAATC\r\n",
        "ACTACATCTTCATTGTGACCAAACAAATGGGAGAAATATTTAATGAACCACTCTCGGAGG\r\n",
        "AAAGAGAAGATAGAATGCGTTTGTTGACAGAGTGCGAGGATGGAACGTGTGCGTATACAG\r\n",
        "TCAATTTGATAAGAAACAAATTTATCAAAAGCCGAAAGAACCCTGGATCATGTCACTTGG\r\n",
        "TAAGTTTTGAAGAGGAGGACGAGAAAGTCGTCTCGCAGTTAAAACATGGACTTCAGTTGT\r\n",
        "TTCAGAATGTCAGAACACATTGCTACCATTTATATACTGGAAAACGGTTCAGATATAACG\r\n",
        "CCGCATGCAGCATAATCAATAATATCAAGAAAATAGAGTGATCAAGGAACCGGAAGACTA\r\n",
        "ATCAGACTTTTGACTGGGTTTCTCAAAAACCTTGGTTCAGCTCAACCAGTGGTTAAATAC\r\n",
        "TGTGTA\r\n"
       ]
      }
     ],
     "prompt_number": 20
    },
    {
     "cell_type": "code",
     "collapsed": false,
     "input": [],
     "language": "python",
     "metadata": {},
     "outputs": []
    }
   ],
   "metadata": {}
  }
 ]
}