{
 "metadata": {
  "name": ""
 },
 "nbformat": 3,
 "nbformat_minor": 0,
 "worksheets": [
  {
   "cells": [
    {
     "cell_type": "heading",
     "level": 1,
     "metadata": {},
     "source": [
      "De novo Assembly"
     ]
    },
    {
     "cell_type": "code",
     "collapsed": false,
     "input": [
      "Here are two files to be used for de novo assembly"
     ],
     "language": "python",
     "metadata": {},
     "outputs": []
    },
    {
     "cell_type": "code",
     "collapsed": false,
     "input": [
      "#file filtered_106A_Female_Mix_GATCAG_L004_R1.fastq\n",
      "from IPython.display import IFrame\n",
      "IFrame('http://de.iplantcollaborative.org/dl/6ffe582a-6920-468a-a234-92893412c49a', width=1000, height=350)"
     ],
     "language": "python",
     "metadata": {},
     "outputs": [
      {
       "html": [
        "\n",
        "        <iframe\n",
        "            width=\"1000\"\n",
        "            height=350\"\n",
        "            src=\"http://de.iplantcollaborative.org/dl/6ffe582a-6920-468a-a234-92893412c49a\"\n",
        "            frameborder=\"0\"\n",
        "            allowfullscreen\n",
        "        ></iframe>\n",
        "        "
       ],
       "metadata": {},
       "output_type": "pyout",
       "prompt_number": 6,
       "text": [
        "<IPython.lib.display.IFrame at 0x105853510>"
       ]
      }
     ],
     "prompt_number": 6
    },
    {
     "cell_type": "code",
     "collapsed": false,
     "input": [
      "#file filtered_106A_Female_Mix_GATCAG_L004_R2.fastq\n",
      "from IPython.display import IFrame\n",
      "IFrame('http://de.iplantcollaborative.org/dl/d1ce64ee-4a53-4799-b93a-03c05eb4439b', width=1000, height=350)"
     ],
     "language": "python",
     "metadata": {},
     "outputs": [
      {
       "html": [
        "\n",
        "        <iframe\n",
        "            width=\"1000\"\n",
        "            height=350\"\n",
        "            src=\"http://de.iplantcollaborative.org/dl/d1ce64ee-4a53-4799-b93a-03c05eb4439b\"\n",
        "            frameborder=\"0\"\n",
        "            allowfullscreen\n",
        "        ></iframe>\n",
        "        "
       ],
       "metadata": {},
       "output_type": "pyout",
       "prompt_number": 7,
       "text": [
        "<IPython.lib.display.IFrame at 0x105853110>"
       ]
      }
     ],
     "prompt_number": 7
    },
    {
     "cell_type": "heading",
     "level": 1,
     "metadata": {},
     "source": [
      "Running Trinity on Iplant"
     ]
    },
    {
     "cell_type": "code",
     "collapsed": false,
     "input": [
      "cd /Volumes/web/whale/fish546/"
     ],
     "language": "python",
     "metadata": {},
     "outputs": [
      {
       "output_type": "stream",
       "stream": "stdout",
       "text": [
        "/Volumes/web/whale/fish546\n"
       ]
      }
     ],
     "prompt_number": 7
    },
    {
     "cell_type": "raw",
     "metadata": {},
     "source": [
      "!iget -r Trinity_r2013-08-14_analysis1-2014-02-08-20-44-13.233"
     ]
    },
    {
     "cell_type": "code",
     "collapsed": false,
     "input": [
      "from IPython.display import IFrame\n",
      "IFrame('http://de.iplantcollaborative.org/dl/bcbac543-5778-4826-87d4-aadf6e4a1540', width=1000, height=350)\n",
      "\n"
     ],
     "language": "python",
     "metadata": {},
     "outputs": [
      {
       "html": [
        "\n",
        "        <iframe\n",
        "            width=\"1000\"\n",
        "            height=350\"\n",
        "            src=\"http://de.iplantcollaborative.org/dl/bcbac543-5778-4826-87d4-aadf6e4a1540\"\n",
        "            frameborder=\"0\"\n",
        "            allowfullscreen\n",
        "        ></iframe>\n",
        "        "
       ],
       "metadata": {},
       "output_type": "pyout",
       "prompt_number": 10,
       "text": [
        "<IPython.lib.display.IFrame at 0x105853610>"
       ]
      }
     ],
     "prompt_number": 10
    },
    {
     "cell_type": "code",
     "collapsed": false,
     "input": [
      "pwd"
     ],
     "language": "python",
     "metadata": {},
     "outputs": [
      {
       "metadata": {},
       "output_type": "pyout",
       "prompt_number": 11,
       "text": [
        "u'/Users/sr320/Dropbox/Steven/ipython_nb/fish546'"
       ]
      }
     ],
     "prompt_number": 11
    },
    {
     "cell_type": "code",
     "collapsed": false,
     "input": [
      "cd /Volumes/web/cnidarian/"
     ],
     "language": "python",
     "metadata": {},
     "outputs": [
      {
       "output_type": "stream",
       "stream": "stdout",
       "text": [
        "/Volumes/web/cnidarian\n"
       ]
      }
     ],
     "prompt_number": 12
    },
    {
     "cell_type": "code",
     "collapsed": false,
     "input": [
      "!curl -o 'fish546_14_Trinity.fasta' 'http://de.iplantcollaborative.org/dl/d/bcbac543-5778-4826-87d4-aadf6e4a1540/Trinity.fasta'"
     ],
     "language": "python",
     "metadata": {},
     "outputs": [
      {
       "output_type": "stream",
       "stream": "stdout",
       "text": [
        "  % Total    % Received % Xferd  Average Speed   Time    Time     Time  Current\r\n",
        "                                 Dload  Upload   Total   Spent    Left  Speed\r\n",
        "\r",
        "  0     0    0     0    0     0      0      0 --:--:-- --:--:-- --:--:--     0"
       ]
      },
      {
       "output_type": "stream",
       "stream": "stdout",
       "text": [
        "\r",
        "  0     0    0     0    0     0      0      0 --:--:--  0:00:01 --:--:--     0"
       ]
      },
      {
       "output_type": "stream",
       "stream": "stdout",
       "text": [
        "\r",
        "100  1149    0  1149    0     0    590      0 --:--:--  0:00:01 --:--:--   750"
       ]
      },
      {
       "output_type": "stream",
       "stream": "stdout",
       "text": [
        "\r",
        "100  389k    0  389k    0     0   134k      0 --:--:--  0:00:02 --:--:--  156k"
       ]
      },
      {
       "output_type": "stream",
       "stream": "stdout",
       "text": [
        "\r",
        "100  420k    0  420k    0     0   103k      0 --:--:--  0:00:04 --:--:--  115k"
       ]
      },
      {
       "output_type": "stream",
       "stream": "stdout",
       "text": [
        "\r",
        "100  664k    0  664k    0     0   135k      0 --:--:--  0:00:04 --:--:--  148k"
       ]
      },
      {
       "output_type": "stream",
       "stream": "stdout",
       "text": [
        "\r",
        "100  921k    0  921k    0     0   155k      0 --:--:--  0:00:05 --:--:--  207k"
       ]
      },
      {
       "output_type": "stream",
       "stream": "stdout",
       "text": [
        "\r",
        "100 1537k    0 1537k    0     0   220k      0 --:--:--  0:00:06 --:--:--  305k"
       ]
      },
      {
       "output_type": "stream",
       "stream": "stdout",
       "text": [
        "\r",
        "100 1637k    0 1637k    0     0   207k      0 --:--:--  0:00:07 --:--:--  249k"
       ]
      },
      {
       "output_type": "stream",
       "stream": "stdout",
       "text": [
        "\r",
        "100 1817k    0 1817k    0     0   204k      0 --:--:--  0:00:08 --:--:--  289k"
       ]
      },
      {
       "output_type": "stream",
       "stream": "stdout",
       "text": [
        "\r",
        "100 2096k    0 2096k    0     0   211k      0 --:--:--  0:00:09 --:--:--  285k"
       ]
      },
      {
       "output_type": "stream",
       "stream": "stdout",
       "text": [
        "\r",
        "100 2663k    0 2663k    0     0   243k      0 --:--:--  0:00:10 --:--:--  346k"
       ]
      },
      {
       "output_type": "stream",
       "stream": "stdout",
       "text": [
        "\r",
        "100 2940k    0 2940k    0     0   246k      0 --:--:--  0:00:11 --:--:--  284k"
       ]
      },
      {
       "output_type": "stream",
       "stream": "stdout",
       "text": [
        "\r",
        "100 3009k    0 3009k    0     0   222k      0 --:--:--  0:00:13 --:--:--  243k"
       ]
      },
      {
       "output_type": "stream",
       "stream": "stdout",
       "text": [
        "\r",
        "100 3041k    0 3041k    0     0   218k      0 --:--:--  0:00:13 --:--:--  242k"
       ]
      },
      {
       "output_type": "stream",
       "stream": "stdout",
       "text": [
        "\r",
        "100 3220k    0 3220k    0     0   215k      0 --:--:--  0:00:14 --:--:--  224k"
       ]
      },
      {
       "output_type": "stream",
       "stream": "stdout",
       "text": [
        "\r",
        "100 3534k    0 3534k    0     0   222k      0 --:--:--  0:00:15 --:--:--  175k"
       ]
      },
      {
       "output_type": "stream",
       "stream": "stdout",
       "text": [
        "\r",
        "100 3948k    0 3948k    0     0   233k      0 --:--:--  0:00:16 --:--:--  201k"
       ]
      },
      {
       "output_type": "stream",
       "stream": "stdout",
       "text": [
        "\r",
        "100 4065k    0 4065k    0     0   227k      0 --:--:--  0:00:17 --:--:--  241k"
       ]
      },
      {
       "output_type": "stream",
       "stream": "stdout",
       "text": [
        "\r",
        "100 4278k    0 4278k    0     0   226k      0 --:--:--  0:00:18 --:--:--  249k"
       ]
      },
      {
       "output_type": "stream",
       "stream": "stdout",
       "text": [
        "\r",
        "100 4724k    0 4724k    0     0   237k      0 --:--:--  0:00:19 --:--:--  302k"
       ]
      },
      {
       "output_type": "stream",
       "stream": "stdout",
       "text": [
        "\r",
        "100 5345k    0 5345k    0     0   254k      0 --:--:--  0:00:20 --:--:--  357k"
       ]
      },
      {
       "output_type": "stream",
       "stream": "stdout",
       "text": [
        "\r",
        "100 5557k    0 5557k    0     0   253k      0 --:--:--  0:00:21 --:--:--  322k"
       ]
      },
      {
       "output_type": "stream",
       "stream": "stdout",
       "text": [
        "\r",
        "100 5681k    0 5681k    0     0   247k      0 --:--:--  0:00:22 --:--:--  321k"
       ]
      },
      {
       "output_type": "stream",
       "stream": "stdout",
       "text": [
        "\r",
        "100 5889k    0 5889k    0     0   245k      0 --:--:--  0:00:23 --:--:--  319k"
       ]
      },
      {
       "output_type": "stream",
       "stream": "stdout",
       "text": [
        "\r",
        "100 6288k    0 6288k    0     0   252k      0 --:--:--  0:00:24 --:--:--  311k"
       ]
      },
      {
       "output_type": "stream",
       "stream": "stdout",
       "text": [
        "\r",
        "100 6659k    0 6659k    0     0   257k      0 --:--:--  0:00:25 --:--:--  266k"
       ]
      },
      {
       "output_type": "stream",
       "stream": "stdout",
       "text": [
        "\r",
        "100 6749k    0 6749k    0     0   250k      0 --:--:--  0:00:26 --:--:--  237k"
       ]
      },
      {
       "output_type": "stream",
       "stream": "stdout",
       "text": [
        "\r",
        "100 6780k    0 6780k    0     0   242k      0 --:--:--  0:00:27 --:--:--  221k"
       ]
      },
      {
       "output_type": "stream",
       "stream": "stdout",
       "text": [
        "\r",
        "100 7124k    0 7124k    0     0   246k      0 --:--:--  0:00:28 --:--:--  248k"
       ]
      },
      {
       "output_type": "stream",
       "stream": "stdout",
       "text": [
        "\r",
        "100 7447k    0 7447k    0     0   249k      0 --:--:--  0:00:29 --:--:--  232k"
       ]
      },
      {
       "output_type": "stream",
       "stream": "stdout",
       "text": [
        "\r",
        "100 7796k    0 7796k    0     0   252k      0 --:--:--  0:00:30 --:--:--  227k"
       ]
      },
      {
       "output_type": "stream",
       "stream": "stdout",
       "text": [
        "\r",
        "100 8124k    0 8124k    0     0   254k      0 --:--:--  0:00:31 --:--:--  276k"
       ]
      },
      {
       "output_type": "stream",
       "stream": "stdout",
       "text": [
        "\r",
        "100 8449k    0 8449k    0     0   256k      0 --:--:--  0:00:32 --:--:--  333k"
       ]
      },
      {
       "output_type": "stream",
       "stream": "stdout",
       "text": [
        "\r",
        "100 8612k    0 8612k    0     0   246k      0 --:--:--  0:00:34 --:--:--  245k"
       ]
      },
      {
       "output_type": "stream",
       "stream": "stdout",
       "text": [
        "\r",
        "100 8924k    0 8924k    0     0   194k      0 --:--:--  0:00:45 --:--:-- 94696"
       ]
      },
      {
       "output_type": "stream",
       "stream": "stdout",
       "text": [
        "\r",
        "100 9437k    0 9437k    0     0   205k      0 --:--:--  0:00:45 --:--:--  109k"
       ]
      },
      {
       "output_type": "stream",
       "stream": "stdout",
       "text": [
        "\r",
        "100 9720k    0 9720k    0     0   207k      0 --:--:--  0:00:46 --:--:--  106k"
       ]
      },
      {
       "output_type": "stream",
       "stream": "stdout",
       "text": [
        "\r",
        "100  9.8M    0  9.8M    0     0   209k      0 --:--:--  0:00:47 --:--:--  105k"
       ]
      },
      {
       "output_type": "stream",
       "stream": "stdout",
       "text": [
        "\r",
        "100 10.1M    0 10.1M    0     0   212k      0 --:--:--  0:00:48 --:--:--  128k"
       ]
      },
      {
       "output_type": "stream",
       "stream": "stdout",
       "text": [
        "\r",
        "100 10.5M    0 10.5M    0     0   216k      0 --:--:--  0:00:49 --:--:--  472k"
       ]
      },
      {
       "output_type": "stream",
       "stream": "stdout",
       "text": [
        "\r",
        "100 10.9M    0 10.9M    0     0   220k      0 --:--:--  0:00:50 --:--:--  361k"
       ]
      },
      {
       "output_type": "stream",
       "stream": "stdout",
       "text": [
        "\r",
        "100 11.3M    0 11.3M    0     0   223k      0 --:--:--  0:00:51 --:--:--  378k"
       ]
      },
      {
       "output_type": "stream",
       "stream": "stdout",
       "text": [
        "\r",
        "100 11.5M    0 11.5M    0     0   224k      0 --:--:--  0:00:52 --:--:--  364k"
       ]
      },
      {
       "output_type": "stream",
       "stream": "stdout",
       "text": [
        "\r",
        "100 11.8M    0 11.8M    0     0   225k      0 --:--:--  0:00:53 --:--:--  352k"
       ]
      },
      {
       "output_type": "stream",
       "stream": "stdout",
       "text": [
        "\r",
        "100 12.4M    0 12.4M    0     0   231k      0 --:--:--  0:00:54 --:--:--  372k"
       ]
      },
      {
       "output_type": "stream",
       "stream": "stdout",
       "text": [
        "\r",
        "100 12.5M    0 12.5M    0     0   230k      0 --:--:--  0:00:55 --:--:--  326k"
       ]
      },
      {
       "output_type": "stream",
       "stream": "stdout",
       "text": [
        "\r",
        "100 12.6M    0 12.6M    0     0   225k      0 --:--:--  0:00:57 --:--:--  248k"
       ]
      },
      {
       "output_type": "stream",
       "stream": "stdout",
       "text": [
        "\r",
        "100 12.6M    0 12.6M    0     0   224k      0 --:--:--  0:00:57 --:--:--  228k"
       ]
      },
      {
       "output_type": "stream",
       "stream": "stdout",
       "text": [
        "\r",
        "100 12.8M    0 12.8M    0     0   223k      0 --:--:--  0:00:58 --:--:--  198k"
       ]
      },
      {
       "output_type": "stream",
       "stream": "stdout",
       "text": [
        "\r",
        "100 13.1M    0 13.1M    0     0   224k      0 --:--:--  0:00:59 --:--:--  147k"
       ]
      },
      {
       "output_type": "stream",
       "stream": "stdout",
       "text": [
        "\r",
        "100 13.6M    0 13.6M    0     0   229k      0 --:--:--  0:01:00 --:--:--  219k"
       ]
      },
      {
       "output_type": "stream",
       "stream": "stdout",
       "text": [
        "\r",
        "100 13.9M    0 13.9M    0     0   231k      0 --:--:--  0:01:01 --:--:--  301k"
       ]
      },
      {
       "output_type": "stream",
       "stream": "stdout",
       "text": [
        "\r",
        "100 14.3M    0 14.3M    0     0   232k      0 --:--:--  0:01:02 --:--:--  331k"
       ]
      },
      {
       "output_type": "stream",
       "stream": "stdout",
       "text": [
        "\r",
        "100 14.6M    0 14.6M    0   "
       ]
      },
      {
       "output_type": "stream",
       "stream": "stdout",
       "text": [
        "  0   234k      0 --:--:--  0:01:03 --:--:--  365k"
       ]
      },
      {
       "output_type": "stream",
       "stream": "stdout",
       "text": [
        "\r",
        "100 14.9M    0 14.9M    0     0   235k      0 --:--:--  0:01:05 --:--:--  365k"
       ]
      },
      {
       "output_type": "stream",
       "stream": "stdout",
       "text": [
        "\r",
        "100 15.2M    0 15.2M    0     0   236k      0 --:--:--  0:01:05 --:--:--  327k"
       ]
      },
      {
       "output_type": "stream",
       "stream": "stdout",
       "text": [
        "\r",
        "100 15.5M    0 15.5M    0     0   238k      0 --:--:--  0:01:06 --:--:--  323k"
       ]
      },
      {
       "output_type": "stream",
       "stream": "stdout",
       "text": [
        "\r",
        "100 15.8M    0 15.8M    0     0   238k      0 --:--:--  0:01:07 --:--:--  309k"
       ]
      },
      {
       "output_type": "stream",
       "stream": "stdout",
       "text": [
        "\r",
        "100 16.0M    0 16.0M    0     0   239k      0 --:--:--  0:01:08 --:--:--  299k"
       ]
      },
      {
       "output_type": "stream",
       "stream": "stdout",
       "text": [
        "\r",
        "100 16.3M    0 16.3M    0     0   239k      0 --:--:--  0:01:09 --:--:--  292k"
       ]
      },
      {
       "output_type": "stream",
       "stream": "stdout",
       "text": [
        "\r",
        "100 16.5M    0 16.5M    0     0   236k      0 --:--:--  0:01:11 --:--:--  228k"
       ]
      },
      {
       "output_type": "stream",
       "stream": "stdout",
       "text": [
        "\r",
        "100 16.5M    0 16.5M    0     0   235k      0 --:--:--  0:01:11 --:--:--  202k"
       ]
      },
      {
       "output_type": "stream",
       "stream": "stdout",
       "text": [
        "\r",
        "100 16.6M    0 16.6M    0     0   233k      0 --:--:--  0:01:12 --:--:--  160k"
       ]
      },
      {
       "output_type": "stream",
       "stream": "stdout",
       "text": [
        "\r",
        "100 16.7M    0 16.7M    0     0   228k      0 --:--:--  0:01:14 --:--:--  108k"
       ]
      },
      {
       "output_type": "stream",
       "stream": "stdout",
       "text": [
        "\r",
        "100 16.9M    0 16.9M    0     0   232k      0 --:--:--  0:01:14 --:--:--  130k"
       ]
      },
      {
       "output_type": "stream",
       "stream": "stdout",
       "text": [
        "\r",
        "100 17.2M    0 17.2M    0     0   233k      0 --:--:--  0:01:15 --:--:--  181k"
       ]
      },
      {
       "output_type": "stream",
       "stream": "stdout",
       "text": [
        "\r",
        "100 17.3M    0 17.3M    0     0   203k      0 --:--:--  0:01:27 --:--:-- 52233"
       ]
      },
      {
       "output_type": "stream",
       "stream": "stdout",
       "text": [
        "\r",
        "100 17.9M    0 17.9M    0     0   208k      0 --:--:--  0:01:27 --:--:-- 91242"
       ]
      },
      {
       "output_type": "stream",
       "stream": "stdout",
       "text": [
        "\r",
        "100 18.1M    0 18.1M    0     0   208k      0 --:--:--  0:01:28 --:--:--  102k"
       ]
      },
      {
       "output_type": "stream",
       "stream": "stdout",
       "text": [
        "\r",
        "100 18.3M    0 18.3M    0     0   209k      0 --:--:--  0:01:29 --:--:-- 97853"
       ]
      },
      {
       "output_type": "stream",
       "stream": "stdout",
       "text": [
        "\r",
        "100 18.6M    0 18.6M    0     0   210k      0 --:--:--  0:01:30 --:--:-- 97665"
       ]
      },
      {
       "output_type": "stream",
       "stream": "stdout",
       "text": [
        "\r",
        "100 18.9M    0 18.9M    0     0   211k      0 --:--:--  0:01:31 --:--:--  362k"
       ]
      },
      {
       "output_type": "stream",
       "stream": "stdout",
       "text": [
        "\r",
        "100 19.2M    0 19.2M    0     0   212k      0 --:--:--  0:01:32 --:--:--  270k"
       ]
      },
      {
       "output_type": "stream",
       "stream": "stdout",
       "text": [
        "\r",
        "100 19.5M    0 19.5M    0     0   213k      0 --:--:--  0:01:33 --:--:--  299k"
       ]
      },
      {
       "output_type": "stream",
       "stream": "stdout",
       "text": [
        "\r",
        "100 20.1M    0 20.1M    0     0   217k      0 --:--:--  0:01:34 --:--:--  357k"
       ]
      },
      {
       "output_type": "stream",
       "stream": "stdout",
       "text": [
        "\r",
        "100 20.7M    0 20.7M    0     0   221k      0 --:--:--  0:01:35 --:--:--  421k"
       ]
      },
      {
       "output_type": "stream",
       "stream": "stdout",
       "text": [
        "\r",
        "100 21.0M    0 21.0M    0     0   222k      0 --:--:--  0:01:36 --:--:--  433k"
       ]
      },
      {
       "output_type": "stream",
       "stream": "stdout",
       "text": [
        "\r",
        "100 21.3M    0 21.3M    0     0   222k      0 --:--:--  0:01:37 --:--:--  426k"
       ]
      },
      {
       "output_type": "stream",
       "stream": "stdout",
       "text": [
        "\r",
        "100 21.6M    0 21.6M    0     0   223k      0 --:--:--  0:01:38 --:--:--  411k"
       ]
      },
      {
       "output_type": "stream",
       "stream": "stdout",
       "text": [
        "\r",
        "100 21.8M    0 21.8M    0     0   223k      0 --:--:--  0:01:39 --:--:--  350k"
       ]
      },
      {
       "output_type": "stream",
       "stream": "stdout",
       "text": [
        "\r",
        "100 21.9M    0 21.9M    0     0   221k      0 --:--:--  0:01:41 --:--:--  217k"
       ]
      },
      {
       "output_type": "stream",
       "stream": "stdout",
       "text": [
        "\r",
        "100 22.0M    0 22.0M    0     0   220k      0 --:--:--  0:01:42 --:--:--  176k"
       ]
      },
      {
       "output_type": "stream",
       "stream": "stdout",
       "text": [
        "\r",
        "100 22.1M    0 22.1M    0     0   220k      0 --:--:--  0:01:42 --:--:--  178k"
       ]
      },
      {
       "output_type": "stream",
       "stream": "stdout",
       "text": [
        "\r",
        "100 22.5M    0 22.5M    0     0   222k      0 --:--:--  0:01:43 --:--:--  191k"
       ]
      },
      {
       "output_type": "stream",
       "stream": "stdout",
       "text": [
        "\r",
        "100 22.8M    0 22.8M    0     0   223k      0 --:--:--  0:01:44 --:--:--  213k"
       ]
      },
      {
       "output_type": "stream",
       "stream": "stdout",
       "text": [
        "\r",
        "100 23.2M    0 23.2M    0     0   224k      0 --:--:--  0:01:45 --:--:--  299k"
       ]
      },
      {
       "output_type": "stream",
       "stream": "stdout",
       "text": [
        "\r",
        "100 23.5M    0 23.5M    0     0   225k      0 --:--:--  0:01:46 --:--:--  340k"
       ]
      },
      {
       "output_type": "stream",
       "stream": "stdout",
       "text": [
        "\r",
        "100 23.9M    0 23.9M    0     0   226k      0 --:--:--  0:01:47 --:--:--  350k"
       ]
      },
      {
       "output_type": "stream",
       "stream": "stdout",
       "text": [
        "\r",
        "100 24.2M    0 24.2M    0     0   227k      0 --:--:--  0:01:48 --:--:--  345k"
       ]
      },
      {
       "output_type": "stream",
       "stream": "stdout",
       "text": [
        "\r",
        "100 24.5M    0 24.5M    0     0   228k      0 --:--:--  0:01:49 --:--:--  342k"
       ]
      },
      {
       "output_type": "stream",
       "stream": "stdout",
       "text": [
        "\r",
        "100 24.8M    0 24.8M    0     0   229k      0 --:--:--  0:01:50 --:--:--  340k"
       ]
      },
      {
       "output_type": "stream",
       "stream": "stdout",
       "text": [
        "\r",
        "100 24.9M    0 24.9M    0     0   228k      0 --:--:--  0:01:51 --:--:--  289k"
       ]
      },
      {
       "output_type": "stream",
       "stream": "stdout",
       "text": [
        "\r",
        "100 25.1M    0 25.1M    0     0   227k      0 --:--:--  0:01:52 --:--:--  250k"
       ]
      },
      {
       "output_type": "stream",
       "stream": "stdout",
       "text": [
        "\r",
        "100 25.3M    0 25.3M    0     0   224k      0 --:--:--  0:01:55 --:--:--  171k"
       ]
      },
      {
       "output_type": "stream",
       "stream": "stdout",
       "text": [
        "\r",
        "100 25.7M    0 25.7M    0     0   227k      0 --:--:--  0:01:55 --:--:--  205k"
       ]
      },
      {
       "output_type": "stream",
       "stream": "stdout",
       "text": [
        "\r",
        "100 26.3M    0 26.3M    0     0   227k      0 --:--:--  0:01:58 --:--:--  200k"
       ]
      },
      {
       "output_type": "stream",
       "stream": "stdout",
       "text": [
        "\r",
        "100 26.4M    0 26.4M    0     0   208k      0 --:--:--  0:02:09 --:--:-- 86066"
       ]
      },
      {
       "output_type": "stream",
       "stream": "stdout",
       "text": [
        "\r",
        "100 26.9M    0 26.9M    0     0   212k      0 --:--:--  0:02:09 --:--:--  109k"
       ]
      },
      {
       "output_type": "stream",
       "stream": "stdout",
       "text": [
        "\r",
        "100 27.2M    0 27.2M    0     0   213k      0 --:--:--  0:02:10 --:--:--  126k"
       ]
      },
      {
       "output_type": "stream",
       "stream": "stdout",
       "text": [
        "\r",
        "100 27.7M    0 27.7M    0     0   214k      0 --:--:--  0:02:12 --:--:--  122k"
       ]
      },
      {
       "output_type": "stream",
       "stream": "stdout",
       "text": [
        "\r",
        "100 27.7M    0 27.7M    0     0   213k      0 --:--:--  0:02:13 --:--:--   98k"
       ]
      },
      {
       "output_type": "stream",
       "stream": "stdout",
       "text": [
        "\r",
        "100 27.8M    0 27.8M    0     0   212k      0 --:--:--  0:02:13 --:--:--  352k"
       ]
      },
      {
       "output_type": "stream",
       "stream": "stdout",
       "text": [
        "\r",
        "100 28.2M    0 28.2M    0     0   214k      0 --:--:--  0:02:14 --:--:--  267k"
       ]
      },
      {
       "output_type": "stream",
       "stream": "stdout",
       "text": [
        "\r",
        "100 28.5M    0 28.5M    0     0   215k      0 --:--:--  0:02:15 --:--:--  271k"
       ]
      },
      {
       "output_type": "stream",
       "stream": "stdout",
       "text": [
        "\r",
        "100 28.9M    0 28.9M    0     0   216k      0 --:--:--  0:02:16 --:--:--  270k"
       ]
      },
      {
       "output_type": "stream",
       "stream": "stdout",
       "text": [
        "\r",
        "100 29.0M    0 29.0M    0     0   215k      0 --:--:--  0:02:17 --:--:--  284k"
       ]
      },
      {
       "output_type": "stream",
       "stream": "stdout",
       "text": [
        "\r",
        "100 29.1M    0 29.1M    0     0   215k      0 --:--:--  0:02:18 --:--:--  271k"
       ]
      },
      {
       "output_type": "stream",
       "stream": "stdout",
       "text": [
        "\r",
        "100 29.4M    0 29.4M    0     0   215k      0 --:--:--  0:02:19 --:--:--  237k"
       ]
      },
      {
       "output_type": "stream",
       "stream": "stdout",
       "text": [
        "\r",
        "100 29.8M    0 29.8M    0     0   216k      0 --:--:--  0:02:20 --:--:--  259k"
       ]
      },
      {
       "output_type": "stream",
       "stream": "stdout",
       "text": [
        "\r",
        "100 30.1M    0 30.1M    0     0   217k      0 --:--:--  0:02:21 --:--:--  265k"
       ]
      },
      {
       "output_type": "stream",
       "stream": "stdout",
       "text": [
        "\r",
        "100 30.5M    0 30.5M    0     0   219k      0 --:--:--  0:02:22 --:--:--  321k"
       ]
      },
      {
       "output_type": "stream",
       "stream": "stdout",
       "text": [
        "\r",
        "100 30.9M    0 30.9M    0     0   220k      0 --:--:--  0:02:23 --:--:--  359k"
       ]
      },
      {
       "output_type": "stream",
       "stream": "stdout",
       "text": [
        "\r",
        "100 31.3M    0 31.3M    0     0   221k      0 --:--:--  0:02:24 --:--:--  390k"
       ]
      },
      {
       "output_type": "stream",
       "stream": "stdout",
       "text": [
        "\r",
        "100 31.5M    0 31.5M    0     0   221k      0 --:--:--  0:02:25 --:--:--  347k"
       ]
      },
      {
       "output_type": "stream",
       "stream": "stdout",
       "text": [
        "\r",
        "100 31.7M    0 31.7M    0     0   221k      0 --:--:--  0:02:26 --:--:--  318k"
       ]
      },
      {
       "output_type": "stream",
       "stream": "stdout",
       "text": [
        "\r",
        "100 31.7M    0 31.7M    0     0   220k      0 --:--:--  0:02:27 --:--:--  247k"
       ]
      },
      {
       "output_type": "stream",
       "stream": "stdout",
       "text": [
        "\r",
        "100 31.8M    0 31.8M    0     0   219k      0 --:--:--  0:02:29 --:--:--  190k"
       ]
      },
      {
       "output_type": "stream",
       "stream": "stdout",
       "text": [
        "\r",
        "100 32.1M    0 32.1M    0     0   219k      0 --:--:--  0:02:29 --:--:--  172k"
       ]
      },
      {
       "output_type": "stream",
       "stream": "stdout",
       "text": [
        "\r",
        "100 32.4M    0 32.4M    0     0   220k      0 --:--:--  0:02:30 --:--:--  192k"
       ]
      },
      {
       "output_type": "stream",
       "stream": "stdout",
       "text": [
        "\r",
        "100 32.7M    0 32.7M    0     0   220k      0 --:--:--  0:02:31 --:--:--  209k"
       ]
      },
      {
       "output_type": "stream",
       "stream": "stdout",
       "text": [
        "\r",
        "100 33.0M    0 33.0M    0     0   221k      0 --:--:--  0:02:32 --:--:--  267k"
       ]
      },
      {
       "output_type": "stream",
       "stream": "stdout",
       "text": [
        "\r",
        "100 33.4M    0 33.4M    0     0   222k      0 --:--:--  0:02:33 --:--:--  323k"
       ]
      },
      {
       "output_type": "stream",
       "stream": "stdout",
       "text": [
        "\r",
        "100 33.7M    0 33.7M    0     0   223k      0 --:--:--  0:02:34 --:--:--  325k"
       ]
      },
      {
       "output_type": "stream",
       "stream": "stdout",
       "text": [
        "\r",
        "100 34.0M    0 34.0M    0     0   223k      0 --:--:--  0:02:35 --:--:--  326k"
       ]
      },
      {
       "output_type": "stream",
       "stream": "stdout",
       "text": [
        "\r",
        "100 34.3M    0 34.3M    0     0   224k      0 --:--:--  0:02:36 --:--:--  328k"
       ]
      },
      {
       "output_type": "stream",
       "stream": "stdout",
       "text": [
        "\r",
        "100 34.4M    0 34.4M    0     0   222k      0 --:--:--  0:02:38 --:--:--  241k"
       ]
      },
      {
       "output_type": "stream",
       "stream": "stdout",
       "text": [
        "\r",
        "100 34.8M    0 34.8M    0     0   224k      0 --:--:--  0:02:38 --:--:--  282k"
       ]
      },
      {
       "output_type": "stream",
       "stream": "stdout",
       "text": [
        "\r",
        "100 35.1M    0 35.1M    0     0   225k      0 --:--:--  0:02:39 --:--:--  293k"
       ]
      },
      {
       "output_type": "stream",
       "stream": "stdout",
       "text": [
        "\r",
        "100 35.2M    0 35.2M    0     0   210k      0 --:--:--  0:02:51 --:--:-- 77698"
       ]
      },
      {
       "output_type": "stream",
       "stream": "stdout",
       "text": [
        "\r",
        "100 35.7M    0 35.7M    0     0   212k      0 --:--:--  0:02:51 --:--:-- 96755"
       ]
      },
      {
       "output_type": "stream",
       "stream": "stdout",
       "text": [
        "\r",
        "100 36.0M    0 36.0M    0     0   213k      0 --:--:--  0:02:52 --:--:--  117k"
       ]
      },
      {
       "output_type": "stream",
       "stream": "stdout",
       "text": [
        "\r",
        "100 36.4M    0 36.4M    0     0   214k      0 --:--:--  0:02:53 --:--:--  111k"
       ]
      },
      {
       "output_type": "stream",
       "stream": "stdout",
       "text": [
        "\r",
        "100 36.7M    0 36.7M    0     0   215k      0 --:--:--  0:02:54 --:--:--  109k"
       ]
      },
      {
       "output_type": "stream",
       "stream": "stdout",
       "text": [
        "\r",
        "100 37.2M    0 37.2M    0     0   216k      0 --:--:--  0:02:55 --:--:--  467k"
       ]
      },
      {
       "output_type": "stream",
       "stream": "stdout",
       "text": [
        "\r",
        "100 37.5M    0 37.5M    0     0   217k      0 --:--:--  0:02:56 --:--:--  359k"
       ]
      },
      {
       "output_type": "stream",
       "stream": "stdout",
       "text": [
        "\r",
        "100 37.7M    0 37.7M    0     0   217k      0 --:--:--  0:02:57 --:--:--  349k"
       ]
      },
      {
       "output_type": "stream",
       "stream": "stdout",
       "text": [
        "\r",
        "100 38.0M    0 38.0M    0     0   217k      0 --:--:--  0:02:59 --:--:--  299k"
       ]
      },
      {
       "output_type": "stream",
       "stream": "stdout",
       "text": [
        "\r",
        "100 38.1M    0 38.1M    0     0   216k      0 --:--:--  0:02:59 --:--:--  268k"
       ]
      },
      {
       "output_type": "stream",
       "stream": "stdout",
       "text": [
        "\r",
        "100 38.3M    0 38.3M    0     0   217k      0 --:--:--  0:03:00 --:--:--  235k"
       ]
      },
      {
       "output_type": "stream",
       "stream": "stdout",
       "text": [
        "\r",
        "100 38.6M    0 38.6M    0     0   217k      0 --:--:--  0:03:01 --:--:--  231k"
       ]
      },
      {
       "output_type": "stream",
       "stream": "stdout",
       "text": [
        "\r",
        "100 38.9M    0 38.9M    0     0   217k      0 --:--:--  0:03:02 --:--:--  232k"
       ]
      },
      {
       "output_type": "stream",
       "stream": "stdout",
       "text": [
        "\r",
        "100 39.3M    0 39.3M    0     0   219k      0 --:--:--  0:03:03 --:--:--  300k"
       ]
      },
      {
       "output_type": "stream",
       "stream": "stdout",
       "text": [
        "\r",
        "100 39.8M    0 39.8M    0     0   220k      0 --:--:--  0:03:04 --:--:--  360k"
       ]
      },
      {
       "output_type": "stream",
       "stream": "stdout",
       "text": [
        "\r",
        "100 39.9M    0 39.9M    0     0   220k      0 --:--:--  0:03:05 --:--:--  323k"
       ]
      },
      {
       "output_type": "stream",
       "stream": "stdout",
       "text": [
        "\r",
        "100 40.1M    0 40.1M    0     0   219k      0 --:--:--  0:03:06 --:--:--  307k"
       ]
      },
      {
       "output_type": "stream",
       "stream": "stdout",
       "text": [
        "\r",
        "100 40.5M    0 40.5M    0     0   220k      0 --:--:--  0:03:08 --:--:--  330k"
       ]
      },
      {
       "output_type": "stream",
       "stream": "stdout",
       "text": [
        "\r",
        "100 41.0M    0 41.0M    0     0   222k      0 --:--:--  0:03:08 --:--:--  340k"
       ]
      },
      {
       "output_type": "stream",
       "stream": "stdout",
       "text": [
        "\r",
        "100 41.4M    0 41.4M    0     0   223k      0 --:--:--  0:03:09 --:--:--  335k"
       ]
      },
      {
       "output_type": "stream",
       "stream": "stdout",
       "text": [
        "\r",
        "100 41.7M    0 41.7M    0     0   223k      0 --:--:--  0:03:10 --:--:--  369k"
       ]
      },
      {
       "output_type": "stream",
       "stream": "stdout",
       "text": [
        "\r",
        "100 42.0M    0 42.0M    0     0   224k      0 --:--:--  0:03:11 --:--:--  386k"
       ]
      },
      {
       "output_type": "stream",
       "stream": "stdout",
       "text": [
        "\r",
        "100 42.1M    0 42.1M    0     0   223k      0 --:--:--  0:03:12 --:--:--  334k"
       ]
      },
      {
       "output_type": "stream",
       "stream": "stdout",
       "text": [
        "\r",
        "100 42.3M    0 42.3M    0     0   223k      0 --:--:--  0:03:13 --:--:--  267k"
       ]
      },
      {
       "output_type": "stream",
       "stream": "stdout",
       "text": [
        "\r",
        "100 42.4M    0 42.4M    0     0   222k      0 --:--:--  0:03:15 --:--:--  184k"
       ]
      },
      {
       "output_type": "stream",
       "stream": "stdout",
       "text": [
        "\r",
        "100 42.6M    0 42.6M    0     0   222k      0 --:--:--  0:03:15 --:--:--  175k"
       ]
      },
      {
       "output_type": "stream",
       "stream": "stdout",
       "text": [
        "\r",
        "100 43.0M    0 43.0M    0     0   223k      0 --:--:--  0:03:16 --:--:--  206k"
       ]
      },
      {
       "output_type": "stream",
       "stream": "stdout",
       "text": [
        "\r",
        "100 43.2M    0 43.2M    0     0   222k      0 --:--:--  0:03:18 --:--:--  181k\r",
        "100 43.4M    0 43.4M    0 "
       ]
      },
      {
       "output_type": "stream",
       "stream": "stdout",
       "text": [
        "    0   223k      0 --:--:--  0:03:18 --:--:--  236k"
       ]
      },
      {
       "output_type": "stream",
       "stream": "stdout",
       "text": [
        "\r",
        "100 44.0M    0 44.0M    0     0   225k      0 --:--:--  0:03:19 --:--:--  350k"
       ]
      },
      {
       "output_type": "stream",
       "stream": "stdout",
       "text": [
        "\r",
        "100 44.2M    0 44.2M    0     0   224k      0 --:--:--  0:03:21 --:--:--  281k"
       ]
      },
      {
       "output_type": "stream",
       "stream": "stdout",
       "text": [
        "\r",
        "100 44.5M    0 44.5M    0     0   212k      0 --:--:--  0:03:34 --:--:-- 88917"
       ]
      },
      {
       "output_type": "stream",
       "stream": "stdout",
       "text": [
        "\r",
        "100 45.1M    0 45.1M    0     0   214k      0 --:--:--  0:03:34 --:--:--  120k"
       ]
      },
      {
       "output_type": "stream",
       "stream": "stdout",
       "text": [
        "\r",
        "100 45.3M    0 45.3M    0     0   215k      0 --:--:--  0:03:35 --:--:--  114k"
       ]
      },
      {
       "output_type": "stream",
       "stream": "stdout",
       "text": [
        "\r",
        "100 45.8M    0 45.8M    0     0   216k      0 --:--:--  0:03:36 --:--:--  103k"
       ]
      },
      {
       "output_type": "stream",
       "stream": "stdout",
       "text": [
        "\r",
        "100 46.6M    0 46.6M    0     0   219k      0 --:--:--  0:03:37 --:--:--  155k"
       ]
      },
      {
       "output_type": "stream",
       "stream": "stdout",
       "text": [
        "\r",
        "100 47.0M    0 47.0M    0     0   220k      0 --:--:--  0:03:38 --:--:--  552k"
       ]
      },
      {
       "output_type": "stream",
       "stream": "stdout",
       "text": [
        "\r",
        "100 47.2M    0 47.2M    0     0   219k      0 --:--:--  0:03:39 --:--:--  429k"
       ]
      },
      {
       "output_type": "stream",
       "stream": "stdout",
       "text": [
        "\r",
        "100 47.3M    0 47.3M    0     0   219k      0 --:--:--  0:03:40 --:--:--  412k"
       ]
      },
      {
       "output_type": "stream",
       "stream": "stdout",
       "text": [
        "\r",
        "100 47.6M    0 47.6M    0     0   219k      0 --:--:--  0:03:41 --:--:--  368k"
       ]
      },
      {
       "output_type": "stream",
       "stream": "stdout",
       "text": [
        "\r",
        "100 48.0M    0 48.0M    0     0   220k      0 --:--:--  0:03:42 --:--:--  290k"
       ]
      },
      {
       "output_type": "stream",
       "stream": "stdout",
       "text": [
        "\r",
        "100 48.3M    0 48.3M    0     0   220k      0 --:--:--  0:03:44 --:--:--  244k"
       ]
      },
      {
       "output_type": "stream",
       "stream": "stdout",
       "text": [
        "\r",
        "100 48.3M    0 48.3M    0     0   219k      0 --:--:--  0:03:45 --:--:--  222k"
       ]
      },
      {
       "output_type": "stream",
       "stream": "stdout",
       "text": [
        "\r",
        "100 48.5M    0 48.5M    0     0   220k      0 --:--:--  0:03:45 --:--:--  250k"
       ]
      },
      {
       "output_type": "stream",
       "stream": "stdout",
       "text": [
        "\r",
        "100 48.9M    0 48.9M    0     0   220k      0 --:--:--  0:03:46 --:--:--  273k"
       ]
      },
      {
       "output_type": "stream",
       "stream": "stdout",
       "text": [
        "\r",
        "100 49.2M    0 49.2M    0     0   221k      0 --:--:--  0:03:47 --:--:--  242k"
       ]
      },
      {
       "output_type": "stream",
       "stream": "stdout",
       "text": [
        "\r",
        "100 49.5M    0 49.5M    0     0   221k      0 --:--:--  0:03:48 --:--:--  284k"
       ]
      },
      {
       "output_type": "stream",
       "stream": "stdout",
       "text": [
        "\r",
        "100 49.9M    0 49.9M    0     0   222k      0 --:--:--  0:03:49 --:--:--  344k"
       ]
      },
      {
       "output_type": "stream",
       "stream": "stdout",
       "text": [
        "\r",
        "100 50.2M    0 50.2M    0     0   222k      0 --:--:--  0:03:50 --:--:--  338k"
       ]
      },
      {
       "output_type": "stream",
       "stream": "stdout",
       "text": [
        "\r",
        "100 50.4M    0 50.4M    0     0   222k      0 --:--:--  0:03:51 --:--:--  301k"
       ]
      },
      {
       "output_type": "stream",
       "stream": "stdout",
       "text": [
        "\r",
        "100 50.5M    0 50.5M    0     0   222k      0 --:--:--  0:03:52 --:--:--  269k"
       ]
      },
      {
       "output_type": "stream",
       "stream": "stdout",
       "text": [
        "\r",
        "100 50.9M    0 50.9M    0     0   222k      0 --:--:--  0:03:53 --:--:--  267k"
       ]
      },
      {
       "output_type": "stream",
       "stream": "stdout",
       "text": [
        "\r",
        "100 51.5M    0 51.5M    0     0   224k      0 --:--:--  0:03:54 --:--:--  316k"
       ]
      },
      {
       "output_type": "stream",
       "stream": "stdout",
       "text": [
        "\r",
        "100 51.6M    0 51.6M    0     0   224k      0 --:--:--  0:03:55 --:--:--  290k"
       ]
      },
      {
       "output_type": "stream",
       "stream": "stdout",
       "text": [
        "\r",
        "100 51.8M    0 51.8M    0     0   224k      0 --:--:--  0:03:56 --:--:--  289k"
       ]
      },
      {
       "output_type": "stream",
       "stream": "stdout",
       "text": [
        "\r",
        "100 52.0M    0 52.0M    0     0   224k      0 --:--:--  0:03:57 --:--:--  303k"
       ]
      },
      {
       "output_type": "stream",
       "stream": "stdout",
       "text": [
        "\r",
        "100 52.2M    0 52.2M    0     0   223k      0 --:--:--  0:03:59 --:--:--  233k"
       ]
      },
      {
       "output_type": "stream",
       "stream": "stdout",
       "text": [
        "\r",
        "100 52.2M    0 52.2M    0     0   223k      0 --:--:--  0:03:59 --:--:--  157k"
       ]
      },
      {
       "output_type": "stream",
       "stream": "stdout",
       "text": [
        "\r",
        "100 52.4M    0 52.4M    0     0   222k      0 --:--:--  0:04:00 --:--:--  151k"
       ]
      },
      {
       "output_type": "stream",
       "stream": "stdout",
       "text": [
        "\r",
        "100 52.5M    0 52.5M    0     0   221k      0 --:--:--  0:04:02 --:--:--  121k"
       ]
      },
      {
       "output_type": "stream",
       "stream": "stdout",
       "text": [
        "\r",
        "100 52.9M    0 52.9M    0     0   223k      0 --:--:--  0:04:02 --:--:--  176k"
       ]
      },
      {
       "output_type": "stream",
       "stream": "stdout",
       "text": [
        "\r",
        "100 53.3M    0 53.3M    0     0   224k      0 --:--:--  0:04:03 --:--:--  275k"
       ]
      },
      {
       "output_type": "stream",
       "stream": "stdout",
       "text": [
        "\r",
        "100 53.4M    0 53.4M    0     0   213k      0 --:--:--  0:04:16 --:--:-- 77534"
       ]
      },
      {
       "output_type": "stream",
       "stream": "stdout",
       "text": [
        "\r",
        "100 54.1M    0 54.1M    0     0   215k      0 --:--:--  0:04:16 --:--:--  109k"
       ]
      },
      {
       "output_type": "stream",
       "stream": "stdout",
       "text": [
        "\r",
        "100 54.8M    0 54.8M    0     0   217k      0 --:--:--  0:04:17 --:--:--  157k"
       ]
      },
      {
       "output_type": "stream",
       "stream": "stdout",
       "text": [
        "\r",
        "100 55.5M    0 55.5M    0     0   219k      0 --:--:--  0:04:19 --:--:--  164k"
       ]
      },
      {
       "output_type": "stream",
       "stream": "stdout",
       "text": [
        "\r",
        "100 55.6M    0 55.6M    0     0   219k      0 --:--:--  0:04:19 --:--:--  143k"
       ]
      },
      {
       "output_type": "stream",
       "stream": "stdout",
       "text": [
        "\r",
        "100 55.8M    0 55.8M    0     0   219k      0 --:--:--  0:04:20 --:--:--  508k"
       ]
      },
      {
       "output_type": "stream",
       "stream": "stdout",
       "text": [
        "\r",
        "100 56.1M    0 56.1M    0     0   219k      0 --:--:--  0:04:21 --:--:--  424k"
       ]
      },
      {
       "output_type": "stream",
       "stream": "stdout",
       "text": [
        "\r",
        "100 56.7M    0 56.7M    0     0   221k      0 --:--:--  0:04:22 --:--:--  390k"
       ]
      },
      {
       "output_type": "stream",
       "stream": "stdout",
       "text": [
        "\r",
        "100 57.1M    0 57.1M    0     0   221k      0 --:--:--  0:04:23 --:--:--  337k"
       ]
      },
      {
       "output_type": "stream",
       "stream": "stdout",
       "text": [
        "\r",
        "100 57.4M    0 57.4M    0     0   222k      0 --:--:--  0:04:24 --:--:--  382k"
       ]
      },
      {
       "output_type": "stream",
       "stream": "stdout",
       "text": [
        "\r",
        "100 57.8M    0 57.8M    0     0   222k      0 --:--:--  0:04:25 --:--:--  408k"
       ]
      },
      {
       "output_type": "stream",
       "stream": "stdout",
       "text": [
        "\r",
        "100 57.9M    0 57.9M    0     0   222k      0 --:--:--  0:04:26 --:--:--  357k"
       ]
      },
      {
       "output_type": "stream",
       "stream": "stdout",
       "text": [
        "\r",
        "100 58.1M    0 58.1M    0     0   222k      0 --:--:--  0:04:27 --:--:--  272k"
       ]
      },
      {
       "output_type": "stream",
       "stream": "stdout",
       "text": [
        "\r",
        "100 58.3M    0 58.3M    0     0   222k      0 --:--:--  0:04:28 --:--:--  253k"
       ]
      },
      {
       "output_type": "stream",
       "stream": "stdout",
       "text": [
        "\r",
        "100 58.6M    0 58.6M    0     0   221k      0 --:--:--  0:04:30 --:--:--  204k"
       ]
      },
      {
       "output_type": "stream",
       "stream": "stdout",
       "text": [
        "\r",
        "100 58.6M    0 58.6M    0     0   221k      0 --:--:--  0:04:30 --:--:--  171k"
       ]
      },
      {
       "output_type": "stream",
       "stream": "stdout",
       "text": [
        "\r",
        "100 58.9M    0 58.9M    0     0   221k      0 --:--:--  0:04:31 --:--:--  197k"
       ]
      },
      {
       "output_type": "stream",
       "stream": "stdout",
       "text": [
        "\r",
        "100 59.0M    0 59.0M    0     0   221k      0 --:--:--  0:04:32 --:--:--  195k"
       ]
      },
      {
       "output_type": "stream",
       "stream": "stdout",
       "text": [
        "\r",
        "100 59.2M    0 59.2M    0     0   221k      0 --:--:--  0:04:33 --:--:--  179k"
       ]
      },
      {
       "output_type": "stream",
       "stream": "stdout",
       "text": [
        "\r",
        "100 59.5M    0 59.5M    0     0   221k      0 --:--:--  0:04:34 --:--:--  214k"
       ]
      },
      {
       "output_type": "stream",
       "stream": "stdout",
       "text": [
        "\r",
        "100 60.1M    0 60.1M    0     0   223k      0 --:--:--  0:04:35 --:--:--  307k"
       ]
      },
      {
       "output_type": "stream",
       "stream": "stdout",
       "text": [
        "\r",
        "100 60.5M    0 60.5M    0     0   224k      0 --:--:--  0:04:36 --:--:--  344k"
       ]
      },
      {
       "output_type": "stream",
       "stream": "stdout",
       "text": [
        "\r",
        "100 60.7M    0 60.7M    0     0   223k      0 --:--:--  0:04:37 --:--:--  339k"
       ]
      },
      {
       "output_type": "stream",
       "stream": "stdout",
       "text": [
        "\r",
        "100 60.9M    0 60.9M    0     0   223k      0 --:--:--  0:04:38 --:--:--  346k"
       ]
      },
      {
       "output_type": "stream",
       "stream": "stdout",
       "text": [
        "\r",
        "100 61.3M    0 61.3M    0     0   224k      0 --:--:--  0:04:39 --:--:--  383k"
       ]
      },
      {
       "output_type": "stream",
       "stream": "stdout",
       "text": [
        "\r",
        "100 61.4M    0 61.4M    0     0   223k      0 --:--:--  0:04:41 --:--:--  242k"
       ]
      },
      {
       "output_type": "stream",
       "stream": "stdout",
       "text": [
        "\r",
        "100 61.7M    0 61.7M    0     0   224k      0 --:--:--  0:04:41 --:--:--  245k"
       ]
      },
      {
       "output_type": "stream",
       "stream": "stdout",
       "text": [
        "\r",
        "100 62.3M    0 62.3M    0     0   225k      0 --:--:--  0:04:42 --:--:--  341k"
       ]
      },
      {
       "output_type": "stream",
       "stream": "stdout",
       "text": [
        "\r",
        "100 62.4M    0 62.4M    0     0   224k      0 --:--:--  0:04:44 --:--:--  263k"
       ]
      },
      {
       "output_type": "stream",
       "stream": "stdout",
       "text": [
        "\r",
        "100 62.6M    0 62.6M    0     0   224k      0 --:--:--  0:04:46 --:--:--  215k"
       ]
      },
      {
       "output_type": "stream",
       "stream": "stdout",
       "text": [
        "\r",
        "100 62.7M    0 62.7M    0     0   216k      0 --:--:--  0:04:57 --:--:-- 83690"
       ]
      },
      {
       "output_type": "stream",
       "stream": "stdout",
       "text": [
        "\r",
        "100 63.3M    0 63.3M    0     0   217k      0 --:--:--  0:04:57 --:--:--  102k"
       ]
      },
      {
       "output_type": "stream",
       "stream": "stdout",
       "text": [
        "\r",
        "100 63.6M    0 63.6M    0     0   218k      0 --:--:--  0:04:58 --:--:-- 84256"
       ]
      },
      {
       "output_type": "stream",
       "stream": "stdout",
       "text": [
        "\r",
        "100 63.9M    0 63.9M    0     0   218k      0 --:--:--  0:04:59 --:--:--  103k"
       ]
      },
      {
       "output_type": "stream",
       "stream": "stdout",
       "text": [
        "\r",
        "100 64.2M    0 64.2M    0     0   218k      0 --:--:--  0:05:00 --:--:--  109k"
       ]
      },
      {
       "output_type": "stream",
       "stream": "stdout",
       "text": [
        "\r",
        "100 64.4M    0 64.4M    0     0   218k      0 --:--:--  0:05:01 --:--:--  371k"
       ]
      },
      {
       "output_type": "stream",
       "stream": "stdout",
       "text": [
        "\r",
        "100 64.7M    0 64.7M    0     0   218k      0 --:--:--  0:05:02 --:--:--  281k"
       ]
      },
      {
       "output_type": "stream",
       "stream": "stdout",
       "text": [
        "\r",
        "100 65.1M    0 65.1M    0     0   219k      0 --:--:--  0:05:03 --:--:--  293k"
       ]
      },
      {
       "output_type": "stream",
       "stream": "stdout",
       "text": [
        "\r",
        "100 65.4M    0 65.4M    0     0   219k      0 --:--:--  0:05:04 --:--:--  296k"
       ]
      },
      {
       "output_type": "stream",
       "stream": "stdout",
       "text": [
        "\r",
        "100 65.7M    0 65.7M    0     0   220k      0 --:--:--  0:05:05 --:--:--  297k"
       ]
      },
      {
       "output_type": "stream",
       "stream": "stdout",
       "text": [
        "\r",
        "100 66.0M    0 66.0M    0     0   220k      0 --:--:--  0:05:06 --:--:--  326k"
       ]
      },
      {
       "output_type": "stream",
       "stream": "stdout",
       "text": [
        "\r",
        "100 66.4M    0 66.4M    0     0   221k      0 --:--:--  0:05:07 --:--:--  347k"
       ]
      },
      {
       "output_type": "stream",
       "stream": "stdout",
       "text": [
        "\r",
        "100 66.8M    0 66.8M    0     0   221k      0 --:--:--  0:05:08 --:--:--  356k"
       ]
      },
      {
       "output_type": "stream",
       "stream": "stdout",
       "text": [
        "\r",
        "100 67.0M    0 67.0M    0     0   221k      0 --:--:--  0:05:09 --:--:--  328k"
       ]
      },
      {
       "output_type": "stream",
       "stream": "stdout",
       "text": [
        "\r",
        "100 67.3M    0 67.3M    0     0   221k      0 --:--:--  0:05:10 --:--:--  340k"
       ]
      },
      {
       "output_type": "stream",
       "stream": "stdout",
       "text": [
        "\r",
        "100 67.5M    0 67.5M    0     0   221k      0 --:--:--  0:05:11 --:--:--  298k"
       ]
      },
      {
       "output_type": "stream",
       "stream": "stdout",
       "text": [
        "\r",
        "100 68.0M    0 68.0M    0     0   222k      0 --:--:--  0:05:12 --:--:--  313k"
       ]
      },
      {
       "output_type": "stream",
       "stream": "stdout",
       "text": [
        "\r",
        "100 68.2M    0 68.2M    0     0   222k      0 --:--:--  0:05:13 --:--:--  279k"
       ]
      },
      {
       "output_type": "stream",
       "stream": "stdout",
       "text": [
        "\r",
        "100 68.5M    0 68.5M    0     0   222k      0 --:--:--  0:05:14 --:--:--  302k"
       ]
      },
      {
       "output_type": "stream",
       "stream": "stdout",
       "text": [
        "\r",
        "100 68.5M    0 68.5M    0     0   222k      0 --:--:--  0:05:16 --:--:--  241k"
       ]
      },
      {
       "output_type": "stream",
       "stream": "stdout",
       "text": [
        "\r",
        "100 68.7M    0 68.7M    0     0   222k      0 --:--:--  0:05:16 --:--:--  243k"
       ]
      },
      {
       "output_type": "stream",
       "stream": "stdout",
       "text": [
        "\r",
        "100 69.0M    0 69.0M    0     0   222k      0 --:--:--  0:05:17 --:--:--  217k"
       ]
      },
      {
       "output_type": "stream",
       "stream": "stdout",
       "text": [
        "\r",
        "100 69.2M    0 69.2M    0     0   222k      0 --:--:--  0:05:18 --:--:--  221k"
       ]
      },
      {
       "output_type": "stream",
       "stream": "stdout",
       "text": [
        "\r",
        "100 69.6M    0 69"
       ]
      },
      {
       "output_type": "stream",
       "stream": "stdout",
       "text": [
        ".6M    0     0   222k      0 --:--:--  0:05:19 --:--:--  220k"
       ]
      },
      {
       "output_type": "stream",
       "stream": "stdout",
       "text": [
        "\r",
        "100 69.9M    0 69.9M    0     0   223k      0 --:--:--  0:05:20 --:--:--  279k"
       ]
      },
      {
       "output_type": "stream",
       "stream": "stdout",
       "text": [
        "\r",
        "100 70.3M    0 70.3M    0     0   223k      0 --:--:--  0:05:21 --:--:--  323k"
       ]
      },
      {
       "output_type": "stream",
       "stream": "stdout",
       "text": [
        "\r",
        "100 70.5M    0 70.5M    0     0   223k      0 --:--:--  0:05:22 --:--:--  313k"
       ]
      },
      {
       "output_type": "stream",
       "stream": "stdout",
       "text": [
        "\r",
        "100 71.1M    0 71.1M    0     0   224k      0 --:--:--  0:05:23 --:--:--  379k"
       ]
      },
      {
       "output_type": "stream",
       "stream": "stdout",
       "text": [
        "\r",
        "100 71.5M    0 71.5M    0     0   225k      0 --:--:--  0:05:24 --:--:--  410k"
       ]
      },
      {
       "output_type": "stream",
       "stream": "stdout",
       "text": [
        "\r",
        "100 71.7M    0 71.7M    0     0   224k      0 --:--:--  0:05:27 --:--:--  290k"
       ]
      },
      {
       "output_type": "stream",
       "stream": "stdout",
       "text": [
        "\r",
        "100 71.9M    0 71.9M    0     0   222k      0 --:--:--  0:05:31 --:--:--  175k"
       ]
      },
      {
       "output_type": "stream",
       "stream": "stdout",
       "text": [
        "\r",
        "100 72.4M    0 72.4M    0     0   223k      0 --:--:--  0:05:31 --:--:--  212k"
       ]
      },
      {
       "output_type": "stream",
       "stream": "stdout",
       "text": [
        "\r",
        "100 72.7M    0 72.7M    0     0   223k      0 --:--:--  0:05:32 --:--:--  182k"
       ]
      },
      {
       "output_type": "stream",
       "stream": "stdout",
       "text": [
        "\r",
        "100 73.3M    0 73.3M    0     0   224k      0 --:--:--  0:05:33 --:--:--  195k"
       ]
      },
      {
       "output_type": "stream",
       "stream": "stdout",
       "text": [
        "\r",
        "100 73.6M    0 73.6M    0     0   225k      0 --:--:--  0:05:34 --:--:--  259k"
       ]
      },
      {
       "output_type": "stream",
       "stream": "stdout",
       "text": [
        "\r",
        "100 74.3M    0 74.3M    0     0   226k      0 --:--:--  0:05:35 --:--:--  539k"
       ]
      },
      {
       "output_type": "stream",
       "stream": "stdout",
       "text": [
        "\r",
        "100 74.5M    0 74.5M    0     0   226k      0 --:--:--  0:05:36 --:--:--  431k"
       ]
      },
      {
       "output_type": "stream",
       "stream": "stdout",
       "text": [
        "\r",
        "100 74.7M    0 74.7M    0     0   226k      0 --:--:--  0:05:37 --:--:--  403k"
       ]
      },
      {
       "output_type": "stream",
       "stream": "stdout",
       "text": [
        "\r",
        "100 74.9M    0 74.9M    0     0   226k      0 --:--:--  0:05:38 --:--:--  337k"
       ]
      },
      {
       "output_type": "stream",
       "stream": "stdout",
       "text": [
        "\r",
        "100 75.4M    0 75.4M    0     0   227k      0 --:--:--  0:05:39 --:--:--  371k"
       ]
      },
      {
       "output_type": "stream",
       "stream": "stdout",
       "text": [
        "\r",
        "100 75.9M    0 75.9M    0     0   228k      0 --:--:--  0:05:40 --:--:--  317k"
       ]
      },
      {
       "output_type": "stream",
       "stream": "stdout",
       "text": [
        "\r",
        "100 76.3M    0 76.3M    0     0   228k      0 --:--:--  0:05:41 --:--:--  369k"
       ]
      },
      {
       "output_type": "stream",
       "stream": "stdout",
       "text": [
        "\r",
        "100 76.7M    0 76.7M    0     0   229k      0 --:--:--  0:05:42 --:--:--  404k"
       ]
      },
      {
       "output_type": "stream",
       "stream": "stdout",
       "text": [
        "\r",
        "100 77.0M    0 77.0M    0     0   229k      0 --:--:--  0:05:43 --:--:--  422k"
       ]
      },
      {
       "output_type": "stream",
       "stream": "stdout",
       "text": [
        "\r",
        "100 77.1M    0 77.1M    0     0   228k      0 --:--:--  0:05:45 --:--:--  333k"
       ]
      },
      {
       "output_type": "stream",
       "stream": "stdout",
       "text": [
        "\r",
        "100 77.2M    0 77.2M    0     0   228k      0 --:--:--  0:05:46 --:--:--  260k"
       ]
      },
      {
       "output_type": "stream",
       "stream": "stdout",
       "text": [
        "\r",
        "100 77.2M    0 77.2M    0     0   228k      0 --:--:--  0:05:46 --:--:--  183k"
       ]
      },
      {
       "output_type": "stream",
       "stream": "stdout",
       "text": [
        "\r",
        "100 77.4M    0 77.4M    0     0   227k      0 --:--:--  0:05:47 --:--:--  143k"
       ]
      },
      {
       "output_type": "stream",
       "stream": "stdout",
       "text": [
        "\r",
        "100 77.5M    0 77.5M    0     0   227k      0 --:--:--  0:05:48 --:--:--  115k"
       ]
      },
      {
       "output_type": "stream",
       "stream": "stdout",
       "text": [
        "\r",
        "100 77.6M    0 77.6M    0     0   227k      0 --:--:--  0:05:49 --:--:--  105k"
       ]
      },
      {
       "output_type": "stream",
       "stream": "stdout",
       "text": [
        "\r",
        "100 77.8M    0 77.8M    0     0   227k      0 --:--:--  0:05:50 --:--:--  131k"
       ]
      },
      {
       "output_type": "stream",
       "stream": "stdout",
       "text": [
        "\r",
        "100 78.1M    0 78.1M    0     0   227k      0 --:--:--  0:05:51 --:--:--  175k"
       ]
      },
      {
       "output_type": "stream",
       "stream": "stdout",
       "text": [
        "\r",
        "100 78.6M    0 78.6M    0     0   228k      0 --:--:--  0:05:52 --:--:--  261k"
       ]
      },
      {
       "output_type": "stream",
       "stream": "stdout",
       "text": [
        "\r",
        "100 79.1M    0 79.1M    0     0   228k      0 --:--:--  0:05:53 --:--:--  315k"
       ]
      },
      {
       "output_type": "stream",
       "stream": "stdout",
       "text": [
        "\r",
        "100 79.5M    0 79.5M    0     0   229k      0 --:--:--  0:05:54 --:--:--  385k"
       ]
      },
      {
       "output_type": "stream",
       "stream": "stdout",
       "text": [
        "\r",
        "100 80.1M    0 80.1M    0     0   230k      0 --:--:--  0:05:55 --:--:--  465k"
       ]
      },
      {
       "output_type": "stream",
       "stream": "stdout",
       "text": [
        "\r",
        "100 80.5M    0 80.5M    0     0   231k      0 --:--:--  0:05:56 --:--:--  496k"
       ]
      },
      {
       "output_type": "stream",
       "stream": "stdout",
       "text": [
        "\r",
        "100 80.8M    0 80.8M    0     0   231k      0 --:--:--  0:05:57 --:--:--  447k"
       ]
      },
      {
       "output_type": "stream",
       "stream": "stdout",
       "text": [
        "\r",
        "100 81.0M    0 81.0M    0     0   231k      0 --:--:--  0:05:58 --:--:--  399k"
       ]
      },
      {
       "output_type": "stream",
       "stream": "stdout",
       "text": [
        "\r",
        "100 81.3M    0 81.3M    0     0   230k      0 --:--:--  0:06:00 --:--:--  312k"
       ]
      },
      {
       "output_type": "stream",
       "stream": "stdout",
       "text": [
        "\r",
        "100 81.3M    0 81.3M    0     0   230k      0 --:--:--  0:06:00 --:--:--  256k"
       ]
      },
      {
       "output_type": "stream",
       "stream": "stdout",
       "text": [
        "\r",
        "100 81.3M    0 81.3M    0     0   226k      0 --:--:--  0:06:08 --:--:-- 76457"
       ]
      },
      {
       "output_type": "stream",
       "stream": "stdout",
       "text": [
        "\r",
        "100 81.9M    0 81.9M    0     0   227k      0 --:--:--  0:06:08 --:--:--  105k"
       ]
      },
      {
       "output_type": "stream",
       "stream": "stdout",
       "text": [
        "\r",
        "100 82.1M    0 82.1M    0     0   227k      0 --:--:--  0:06:09 --:--:--  103k"
       ]
      },
      {
       "output_type": "stream",
       "stream": "stdout",
       "text": [
        "\r",
        "100 82.6M    0 82.6M    0     0   228k      0 --:--:--  0:06:10 --:--:--  134k"
       ]
      },
      {
       "output_type": "stream",
       "stream": "stdout",
       "text": [
        "\r",
        "100 83.0M    0 83.0M    0     0   228k      0 --:--:--  0:06:11 --:--:--  152k"
       ]
      },
      {
       "output_type": "stream",
       "stream": "stdout",
       "text": [
        "\r",
        "100 83.3M    0 83.3M    0     0   228k      0 --:--:--  0:06:12 --:--:--  416k"
       ]
      },
      {
       "output_type": "stream",
       "stream": "stdout",
       "text": [
        "\r",
        "100 83.6M    0 83.6M    0     0   229k      0 --:--:--  0:06:13 --:--:--  345k"
       ]
      },
      {
       "output_type": "stream",
       "stream": "stdout",
       "text": [
        "\r",
        "100 84.0M    0 84.0M    0     0   229k      0 --:--:--  0:06:14 --:--:--  374k"
       ]
      },
      {
       "output_type": "stream",
       "stream": "stdout",
       "text": [
        "\r",
        "100 84.2M    0 84.2M    0     0   229k      0 --:--:--  0:06:15 --:--:--  331k"
       ]
      },
      {
       "output_type": "stream",
       "stream": "stdout",
       "text": [
        "\r",
        "100 84.4M    0 84.4M    0     0   229k      0 --:--:--  0:06:16 --:--:--  299k"
       ]
      },
      {
       "output_type": "stream",
       "stream": "stdout",
       "text": [
        "\r",
        "100 84.5M    0 84.5M    0     0   229k      0 --:--:--  0:06:17 --:--:--  258k"
       ]
      },
      {
       "output_type": "stream",
       "stream": "stdout",
       "text": [
        "\r",
        "100 84.8M    0 84.8M    0     0   229k      0 --:--:--  0:06:18 --:--:--  235k"
       ]
      },
      {
       "output_type": "stream",
       "stream": "stdout",
       "text": [
        "\r",
        "100 84.8M    0 84.8M    0     0   228k      0 --:--:--  0:06:19 --:--:--  176k"
       ]
      },
      {
       "output_type": "stream",
       "stream": "stdout",
       "text": [
        "\r",
        "100 84.9M    0 84.9M    0     0   228k      0 --:--:--  0:06:20 --:--:--  133k"
       ]
      },
      {
       "output_type": "stream",
       "stream": "stdout",
       "text": [
        "\r",
        "100 85.3M    0 85.3M    0     0   228k      0 --:--:--  0:06:21 --:--:--  189k"
       ]
      },
      {
       "output_type": "stream",
       "stream": "stdout",
       "text": [
        "\r",
        "100 85.7M    0 85.7M    0     0   229k      0 --:--:--  0:06:22 --:--:--  230k"
       ]
      },
      {
       "output_type": "stream",
       "stream": "stdout",
       "text": [
        "\r",
        "100 86.0M    0 86.0M    0     0   229k      0 --:--:--  0:06:23 --:--:--  252k"
       ]
      },
      {
       "output_type": "stream",
       "stream": "stdout",
       "text": [
        "\r",
        "100 86.3M    0 86.3M    0     0   229k      0 --:--:--  0:06:24 --:--:--  301k"
       ]
      },
      {
       "output_type": "stream",
       "stream": "stdout",
       "text": [
        "\r",
        "100 86.6M    0 86.6M    0     0   229k      0 --:--:--  0:06:25 --:--:--  357k"
       ]
      },
      {
       "output_type": "stream",
       "stream": "stdout",
       "text": [
        "\r",
        "100 87.0M    0 87.0M    0     0   230k      0 --:--:--  0:06:26 --:--:--  349k"
       ]
      },
      {
       "output_type": "stream",
       "stream": "stdout",
       "text": [
        "\r",
        "100 87.4M    0 87.4M    0     0   230k      0 --:--:--  0:06:27 --:--:--  345k"
       ]
      },
      {
       "output_type": "stream",
       "stream": "stdout",
       "text": [
        "\r",
        "100 87.7M    0 87.7M    0     0   231k      0 --:--:--  0:06:28 --:--:--  345k"
       ]
      },
      {
       "output_type": "stream",
       "stream": "stdout",
       "text": [
        "\r",
        "100 88.1M    0 88.1M    0     0   231k      0 --:--:--  0:06:29 --:--:--  355k"
       ]
      },
      {
       "output_type": "stream",
       "stream": "stdout",
       "text": [
        "\r",
        "100 88.4M    0 88.4M    0     0   231k      0 --:--:--  0:06:31 --:--:--  360k"
       ]
      },
      {
       "output_type": "stream",
       "stream": "stdout",
       "text": [
        "\r",
        "100 88.7M    0 88.7M    0     0   231k      0 --:--:--  0:06:31 --:--:--  333k"
       ]
      },
      {
       "output_type": "stream",
       "stream": "stdout",
       "text": [
        "\r",
        "100 88.9M    0 88.9M    0     0   231k      0 --:--:--  0:06:32 --:--:--  316k"
       ]
      },
      {
       "output_type": "stream",
       "stream": "stdout",
       "text": [
        "\r",
        "100 89.0M    0 89.0M    0     0   231k      0 --:--:--  0:06:33 --:--:--  271k"
       ]
      },
      {
       "output_type": "stream",
       "stream": "stdout",
       "text": [
        "\r",
        "100 89.2M    0 89.2M    0     0   231k      0 --:--:--  0:06:34 --:--:--  236k"
       ]
      },
      {
       "output_type": "stream",
       "stream": "stdout",
       "text": [
        "\r",
        "100 89.3M    0 89.3M    0     0   231k      0 --:--:--  0:06:35 --:--:--  181k"
       ]
      },
      {
       "output_type": "stream",
       "stream": "stdout",
       "text": [
        "\r",
        "100 89.3M    0 89.3M    0     0   230k      0 --:--:--  0:06:37 --:--:--  116k"
       ]
      },
      {
       "output_type": "stream",
       "stream": "stdout",
       "text": [
        "\r",
        "100 89.6M    0 89.6M    0     0   230k      0 --:--:--  0:06:37 --:--:--  143k"
       ]
      },
      {
       "output_type": "stream",
       "stream": "stdout",
       "text": [
        "\r",
        "100 89.7M    0 89.7M    0     0   224k      0 --:--:--  0:06:49 --:--:-- 45346"
       ]
      },
      {
       "output_type": "stream",
       "stream": "stdout",
       "text": [
        "\r",
        "100 90.4M    0 90.4M    0     0   225k      0 --:--:--  0:06:49 --:--:-- 79502"
       ]
      },
      {
       "output_type": "stream",
       "stream": "stdout",
       "text": [
        "\r",
        "100 90.9M    0 90.9M    0     0   226k      0 --:--:--  0:06:50 --:--:--  109k"
       ]
      },
      {
       "output_type": "stream",
       "stream": "stdout",
       "text": [
        "\r",
        "100 91.2M    0 91.2M    0     0   226k      0 --:--:--  0:06:51 --:--:--  133k"
       ]
      },
      {
       "output_type": "stream",
       "stream": "stdout",
       "text": [
        "\r",
        "100 91.5M    0 91.5M    0     0   227k      0 --:--:--  0:06:52 --:--:--  132k"
       ]
      },
      {
       "output_type": "stream",
       "stream": "stdout",
       "text": [
        "\r",
        "100 91.8M    0 91.8M    0     0   227k      0 --:--:--  0:06:53 --:--:--  469k"
       ]
      },
      {
       "output_type": "stream",
       "stream": "stdout",
       "text": [
        "\r",
        "100 92.2M    0 92.2M    0     0   227k      0 --:--:--  0:06:54 --:--:--  376k"
       ]
      },
      {
       "output_type": "stream",
       "stream": "stdout",
       "text": [
        "\r",
        "100 92.5M    0 92.5M    0     0   227k      0 --:--:--  0:06:55 --:--:--  318k"
       ]
      },
      {
       "output_type": "stream",
       "stream": "stdout",
       "text": [
        "\r",
        "100 92.7M    0 92.7M    0     0   227k      0 --:--:--  0:06:56 --:--:--  318k"
       ]
      },
      {
       "output_type": "stream",
       "stream": "stdout",
       "text": [
        "\r",
        "100 93.0M    0 93.0M    0     0   228k      0 --:--:--  0:06:57 --:--:--  302k"
       ]
      },
      {
       "output_type": "stream",
       "stream": "stdout",
       "text": [
        "\r",
        "100 93.3M    0 93.3M    0     0   228k      0 --:--:--  0:06:58 --:--:--  297k"
       ]
      },
      {
       "output_type": "stream",
       "stream": "stdout",
       "text": [
        "\r",
        "100 93.6M    0 93.6M    0     0   228k      0 --:--:--  0:06:59 --:--:--  290k"
       ]
      },
      {
       "output_type": "stream",
       "stream": "stdout",
       "text": [
        "\r",
        "100 94.1M    0 94.1M    0     0   228k      0 --:--:--  0:07:00 --:--:--  330k"
       ]
      },
      {
       "output_type": "stream",
       "stream": "stdout",
       "text": [
        "\r",
        "100 94.5M    0 94.5M    0     0   229k      0 --:--:--  0:07:01 --:--:--  369k"
       ]
      },
      {
       "output_type": "stream",
       "stream": "stdout",
       "text": [
        "\r",
        "100 94.6M    0 94.6M    0     0   229k      0 --:--:--  0:07:02 --:--:--  329k"
       ]
      },
      {
       "output_type": "stream",
       "stream": "stdout",
       "text": [
        "\r",
        "100 94.8M    0 94.8M    0     0   229k      0 --:--:--  0:07:03 --:--:--  314k"
       ]
      },
      {
       "output_type": "stream",
       "stream": "stdout",
       "text": [
        "\r",
        "100 95.2M    0 95.2M    0     0   229k      0 --:--:--  0:07:04 --:--:--  332k"
       ]
      },
      {
       "output_type": "stream",
       "stream": "stdout",
       "text": [
        "\r",
        "100 95.4M    0 95.4M    0     0   229k      0 --:--:--  0:07:06 --:--:--  243k"
       ]
      },
      {
       "output_type": "stream",
       "stream": "stdout",
       "text": [
        "\r",
        "100 95.4M    0 95.4M    0     0   228k      0 --:--:--  0:07:06 --:--:--  172k"
       ]
      },
      {
       "output_type": "stream",
       "stream": "stdout",
       "text": [
        "\r",
        "100 95.7M    0 95.7M    0     0   229k      0 --:--:--  0:07:07 --:--:--  225k"
       ]
      },
      {
       "output_type": "stream",
       "stream": "stdout",
       "text": [
        "\r",
        "100 96.1M    0 96.1M    0     0   229k      0 --:--:--  0:07:08 --:--:--  253k"
       ]
      },
      {
       "output_type": "stream",
       "stream": "stdout",
       "text": [
        "\r",
        "100 96.2M    0 96.2M    0     0   229k      0 --:--:--  0:07:09 --:--:--  204k"
       ]
      },
      {
       "output_type": "stream",
       "stream": "stdout",
       "text": [
        "\r",
        "100 96.4M    0 96.4M    0     0   229k      0 --:--:--  0:07:10 --:--:--  230k"
       ]
      },
      {
       "output_type": "stream",
       "stream": "stdout",
       "text": [
        "\r",
        "100 96.6M    0 96.6M    0     0   229k      0 --:--:--  0:07:11 --:--:--  256k"
       ]
      },
      {
       "output_type": "stream",
       "stream": "stdout",
       "text": [
        "\r",
        "100 97.3M    0 97.3M    0     0   230k      0 --:--:--  0:07:12 --:--:--  330k"
       ]
      },
      {
       "output_type": "stream",
       "stream": "stdout",
       "text": [
        "\r",
        "100 97.7M    0 97.7M    0     0   230k      0 --:--:--  0:07:15 --:--:--  269k"
       ]
      },
      {
       "output_type": "stream",
       "stream": "stdout",
       "text": [
        "\r",
        "100 98.0M    0 98.0M    0     0   230k      0 --:--:--  0:07:15 --:--:--  295k"
       ]
      },
      {
       "output_type": "stream",
       "stream": "stdout",
       "text": [
        "\r",
        "100 98.2M    0 98.2M    0     0   230k      0 --:--:--  0:07:16 --:--:--  306k"
       ]
      },
      {
       "output_type": "stream",
       "stream": "stdout",
       "text": [
        "\r",
        "100 98.6M    0 98.6M    0     0   230k      0 --:--:--  0:07:17 --:--:--  334k"
       ]
      },
      {
       "output_type": "stream",
       "stream": "stdout",
       "text": [
        "\r",
        "100 98.7M    0 98.7M    0     0   229k      0 --:--:--  0:07:20 --:--:--  188k"
       ]
      },
      {
       "output_type": "stream",
       "stream": "stdout",
       "text": [
        "\r",
        "100 99.0M    0 99.0M    0     0   224k      0 --:--:--  0:07:31 --:--:-- 80513"
       ]
      },
      {
       "output_type": "stream",
       "stream": "stdout",
       "text": [
        "\r",
        "100 99.5M    0 99.5M    0     0   225k      0 --:--:--  0:07:31 --:--:-- 99730"
       ]
      },
      {
       "output_type": "stream",
       "stream": "stdout",
       "text": [
        "\r",
        "100 99.9M    0 99.9M    0     0   225k      0 --:--:--  0:07:32 --:--:--  108k"
       ]
      },
      {
       "output_type": "stream",
       "stream": "stdout",
       "text": [
        "\r",
        "100  100M    0  100M    0     0   226k      0 --:--:--  0:07:33 --:--:--  101k"
       ]
      },
      {
       "output_type": "stream",
       "stream": "stdout",
       "text": [
        "\r",
        "100  100M    0  100M    0     0   226k      0 --:--:--  0:07:34 --:--:--  126k"
       ]
      },
      {
       "output_type": "stream",
       "stream": "stdout",
       "text": [
        "\r",
        "100  100M    0  100M    0     0   226k      0 --:--:--  0:07:35 --:--:--  449k"
       ]
      },
      {
       "output_type": "stream",
       "stream": "stdout",
       "text": [
        "\r",
        "100  101M    0  101M    0     0   226k      0 --:--:--  0:07:36 --:--:--  338k"
       ]
      },
      {
       "output_type": "stream",
       "stream": "stdout",
       "text": [
        "\r",
        "100  101M    0  101M    0     0   226k      0 --:--:--  0:07:37 --:--:--  320k"
       ]
      },
      {
       "output_type": "stream",
       "stream": "stdout",
       "text": [
        "\r",
        "100  101M    0  101M    0     0   227k      0 --:--:--  0:07:38 --:--:--  335k"
       ]
      },
      {
       "output_type": "stream",
       "stream": "stdout",
       "text": [
        "\r",
        "100  102M    0  102M    0     0   227k      0 --:--:--  0:07:39 --:--:--  349k"
       ]
      },
      {
       "output_type": "stream",
       "stream": "stdout",
       "text": [
        "\r",
        "100  102M    0  102M    0     0   228k      0 --:--:--  0:07:40 --:--:--  366k"
       ]
      },
      {
       "output_type": "stream",
       "stream": "stdout",
       "text": [
        "\r",
        "100  103M    0  103M    0     0   228k      0 --:--:--  0:07:41 --:--:--  382k"
       ]
      },
      {
       "output_type": "stream",
       "stream": "stdout",
       "text": [
        "\r",
        "100  103M    0  103M    0     0   228k      0 --:--:--  0:07:42 --:--:--  382k"
       ]
      },
      {
       "output_type": "stream",
       "stream": "stdout",
       "text": [
        "\r",
        "100  103M    0  103M    0     0   228k      0 --:--:--  0:07:43 --:--:--  356k"
       ]
      },
      {
       "output_type": "stream",
       "stream": "stdout",
       "text": [
        "\r",
        "100  103M    0  103M    0     0   228k      0 --:--:--  0:07:44 --:--:--  335k"
       ]
      },
      {
       "output_type": "stream",
       "stream": "stdout",
       "text": [
        "\r",
        "100  104M    0  104M    0     0   228k      0 --:--:--  0:07:45 --:--:--  311k"
       ]
      },
      {
       "output_type": "stream",
       "stream": "stdout",
       "text": [
        "\r",
        "100  104M    0  104M    0     0   229k      0 --:--:--  0:07:46 --:--:--  291k"
       ]
      },
      {
       "output_type": "stream",
       "stream": "stdout",
       "text": [
        "\r",
        "100  104M    0  104M    0     0   229k      0 --:--:--  0:07:47 --:--:--  315k"
       ]
      },
      {
       "output_type": "stream",
       "stream": "stdout",
       "text": [
        "\r",
        "100  105M    0  105M    0     0   230k      0 --:--:--  0:07:48 --:--:--  393k"
       ]
      },
      {
       "output_type": "stream",
       "stream": "stdout",
       "text": [
        "\r",
        "100  106M    0  106M    0     0   231k      0 --:--:--  0:07:49 --:--:--  448k"
       ]
      },
      {
       "output_type": "stream",
       "stream": "stdout",
       "text": [
        "\r",
        "100  106M    0  106M    0     0   231k      0 --:--:--  0:07:50 --:--:--  484k"
       ]
      },
      {
       "output_type": "stream",
       "stream": "stdout",
       "text": [
        "\r",
        "100  106M    0  106M    0     0   231k      0 --:--:--  0:07:51 --:--:--  490k"
       ]
      },
      {
       "output_type": "stream",
       "stream": "stdout",
       "text": [
        "\r",
        "100  107M    0  107M    0     0   231k      0 --:--:--  0:07:53 --:--:--  369k"
       ]
      },
      {
       "output_type": "stream",
       "stream": "stdout",
       "text": [
        "\r",
        "100  107M    0  107M    0     0   231k      0 --:--:--  0:07:53 --:--:--  373k"
       ]
      },
      {
       "output_type": "stream",
       "stream": "stdout",
       "text": [
        "\r",
        "100  107M    0  107M    0     0   232k      0 --:--:--  0:07:54 --:--:--  330k"
       ]
      },
      {
       "output_type": "stream",
       "stream": "stdout",
       "text": [
        "\r",
        "100  108M    0  108M    0     0   231k      0 --:--:--  0:07:57 --:--:--  237k"
       ]
      },
      {
       "output_type": "stream",
       "stream": "stdout",
       "text": [
        "\r",
        "100  108M    0  108M    0     0   232k      0 --:--:--  0:07:57 --:--:--  275k"
       ]
      },
      {
       "output_type": "stream",
       "stream": "stdout",
       "text": [
        "\r",
        "100  108M    0  108M    0     0   232k      0 --:--:--  0:07:58 --:--:--  383k"
       ]
      },
      {
       "output_type": "stream",
       "stream": "stdout",
       "text": [
        "\r",
        "100  109M    0  109M    0     0   232k      0 --:--:--  0:08:00 --:--:--  257k"
       ]
      },
      {
       "output_type": "stream",
       "stream": "stdout",
       "text": [
        "\r",
        "100  109M    0  109M    0     0   233k      0 --:--:--  0:08:00 --:--:--  296k"
       ]
      },
      {
       "output_type": "stream",
       "stream": "stdout",
       "text": [
        "\r",
        "100  109M    0  109M    0     0   227k      0 --:--:--  0:08:13 --:--:--  112k"
       ]
      },
      {
       "output_type": "stream",
       "stream": "stdout",
       "text": [
        "\r",
        "100  110M    0  110M    0     0   228k      0 --:--:--  0:08:13 --:--:--  118k"
       ]
      },
      {
       "output_type": "stream",
       "stream": "stdout",
       "text": [
        "\r",
        "100  110M    0  110M    0     0   228k      0 --:--:--  0:08:14 --:--:--  109k"
       ]
      },
      {
       "output_type": "stream",
       "stream": "stdout",
       "text": [
        "\r",
        "100  110M    0  110M    0     0   229k      0 --:--:--  0:08:15 --:--:--  132k"
       ]
      },
      {
       "output_type": "stream",
       "stream": "stdout",
       "text": [
        "\r",
        "100  111M    0  111M    0     0   229k      0 --:--:--  0:08:16 --:--:--  120k"
       ]
      },
      {
       "output_type": "stream",
       "stream": "stdout",
       "text": [
        "\r",
        "100  111M    0  111M    0     0   229k      0 --:--:--  0:08:17 --:--:--  454k"
       ]
      },
      {
       "output_type": "stream",
       "stream": "stdout",
       "text": [
        "\r",
        "100  111M    0  111M    0     0   229k      0 --:--:--  0:08:18 --:--:--  325k"
       ]
      },
      {
       "output_type": "stream",
       "stream": "stdout",
       "text": [
        "\r",
        "100  112M    0  112M    0     0   230k      0 --:--:--  0:08:19 --:--:--  393k"
       ]
      },
      {
       "output_type": "stream",
       "stream": "stdout",
       "text": [
        "\r",
        "100  112M    0  112M    0     0   230k      0 --:--:--  0:08:20 --:--:--  341k"
       ]
      },
      {
       "output_type": "stream",
       "stream": "stdout",
       "text": [
        "\r",
        "100  112M    0  112M    0     0   230k      0 --:--:--  0:08:21 --:--:--  296k"
       ]
      },
      {
       "output_type": "stream",
       "stream": "stdout",
       "text": [
        "\r",
        "100  112M    0  112M    0     0   229k      0 --:--:--  0:08:22 --:--:--  238k"
       ]
      },
      {
       "output_type": "stream",
       "stream": "stdout",
       "text": [
        "\r",
        "100  113M    0  113M    0     0   229k      0 --:--:--  0:08:23 --:--:--  227k"
       ]
      },
      {
       "output_type": "stream",
       "stream": "stdout",
       "text": [
        "\r",
        "100  113M    0  113M    0     0   229k      0 --:--:--  0:08:24 --:--:--  142k"
       ]
      },
      {
       "output_type": "stream",
       "stream": "stdout",
       "text": [
        "\r",
        "100  113M    0  113M    0     0   230k      0 --:--:--  0:08:25 --:--:--  198k"
       ]
      },
      {
       "output_type": "stream",
       "stream": "stdout",
       "text": [
        "\r",
        "100  114M    0  114M    0     0   231k      0 --:--:--  0:08:26 --:--:--  337k"
       ]
      },
      {
       "output_type": "stream",
       "stream": "stdout",
       "text": [
        "\r",
        "100  114M    0  114M    0     0   231k      0 --:--:--  0:08:27 --:--:--  407k"
       ]
      },
      {
       "output_type": "stream",
       "stream": "stdout",
       "text": [
        "\r",
        "100  115M    0  115M    0     0   232k      0 --:--:--  0:08:28 --:--:--  463k"
       ]
      },
      {
       "output_type": "stream",
       "stream": "stdout",
       "text": [
        "\r",
        "100  115M    0  115M    0     0   232k      0 --:--:--  0:08:29 --:--:--  490k"
       ]
      },
      {
       "output_type": "stream",
       "stream": "stdout",
       "text": [
        "\r",
        "100  115M    0  115M    0     0   232k      0 --:--:--  0:08:30 --:--:--  474k"
       ]
      },
      {
       "output_type": "stream",
       "stream": "stdout",
       "text": [
        "\r",
        "100  116M    0  116M    0     0   232k      0 --:--:--  0:08:31 --:--:--  374k"
       ]
      },
      {
       "output_type": "stream",
       "stream": "stdout",
       "text": [
        "\r",
        "100  116M    0  116M    0     0   232k      0 --:--:--  0:08:32 --:--:--  334k"
       ]
      },
      {
       "output_type": "stream",
       "stream": "stdout",
       "text": [
        "\r",
        "100  116M    0  116M    0     0   232k      0 --:--:--  0:08:33 --:--:--  298k"
       ]
      },
      {
       "output_type": "stream",
       "stream": "stdout",
       "text": [
        "\r",
        "100  117M    0  117M    0     0   232k      0 --:--:--  0:08:34 --:--:--  273k"
       ]
      },
      {
       "output_type": "stream",
       "stream": "stdout",
       "text": [
        "\r",
        "100  117M    0  117M    0     0   232k      0 --:--:--  0:08:35 --:--:--  238k"
       ]
      },
      {
       "output_type": "stream",
       "stream": "stdout",
       "text": [
        "\r",
        "100  117M    0  117M    0     0   232k      0 --:--:--  0:08:36 --:--:--  225k"
       ]
      },
      {
       "output_type": "stream",
       "stream": "stdout",
       "text": [
        "\r",
        "100  117M    0  117M    0     0   232k      0 --:--:--  0:08:37 --:--:--  269k"
       ]
      },
      {
       "output_type": "stream",
       "stream": "stdout",
       "text": [
        "\r",
        "100  118M    0  118M    0     0   233k      0 --:--:--  0:08:38 --:--:--  339k"
       ]
      },
      {
       "output_type": "stream",
       "stream": "stdout",
       "text": [
        "\r",
        "100  118M    0  118M    0     0   233k      0 --:--:--  0:08:39 --:--:--  349k"
       ]
      },
      {
       "output_type": "stream",
       "stream": "stdout",
       "text": [
        "\r",
        "100  119M    0  119M    0     0   233k      0 --:--:--  0:08:40 --:--:--  390k"
       ]
      },
      {
       "output_type": "stream",
       "stream": "stdout",
       "text": [
        "\r",
        "100  119M    0  119M    0     0   234k      0 --:--:--  0:08:41 --:--:--  402k"
       ]
      },
      {
       "output_type": "stream",
       "stream": "stdout",
       "text": [
        "\r",
        "100  119M    0  119M    0     0   234k      0 --:--:--  0:08:42 --:--:--  353k"
       ]
      },
      {
       "output_type": "stream",
       "stream": "stdout",
       "text": [
        "\r",
        "100  119M    0  119M    0     0   231k      0 --:--:--  0:08:49 --:--:--  131k"
       ]
      },
      {
       "output_type": "stream",
       "stream": "stdout",
       "text": [
        "\r",
        "100  120M    0  120M    0     0   232k      0 --:--:--  0:08:49 --:--:--  174k"
       ]
      },
      {
       "output_type": "stream",
       "stream": "stdout",
       "text": [
        "\r",
        "100  120M    0  120M    0     0   233k      0 --:--:--  0:08:50 --:--:--  181k"
       ]
      },
      {
       "output_type": "stream",
       "stream": "stdout",
       "text": [
        "\r",
        "100  121M    0  121M    0     0   233k      0 --:--:--  0:08:51 --:--:--  193k"
       ]
      },
      {
       "output_type": "stream",
       "stream": "stdout",
       "text": [
        "\r",
        "100  121M    0  121M    0     0   233k      0 --:--:--  0:08:52 --:--:--  206k"
       ]
      },
      {
       "output_type": "stream",
       "stream": "stdout",
       "text": [
        "\r",
        "100  121M    0  121M    0     0   233k      0 --:--:--  0:08:53 --:--:--  479k"
       ]
      },
      {
       "output_type": "stream",
       "stream": "stdout",
       "text": [
        "\r",
        "100  122M    0  122M    0     0   234k      0 --:--:--  0:08:54 --:--:--  390k"
       ]
      },
      {
       "output_type": "stream",
       "stream": "stdout",
       "text": [
        "\r",
        "100  122M    0  122M    0     0   234k      0 --:--:--  0:08:55 --:--:--  386k"
       ]
      },
      {
       "output_type": "stream",
       "stream": "stdout",
       "text": [
        "\r",
        "100  123M    0  123M    0     0   234k      0 --:--:--  0:08:56 --:--:--  393k"
       ]
      },
      {
       "output_type": "stream",
       "stream": "stdout",
       "text": [
        "\r",
        "100  123M    0  123M    0     0   235k      0 --:--:--  0:08:57 --:--:--  402k"
       ]
      },
      {
       "output_type": "stream",
       "stream": "stdout",
       "text": [
        "\r",
        "100  123M    0  123M    0     0   235k      0 --:--:--  0:08:58 --:--:--  387k"
       ]
      },
      {
       "output_type": "stream",
       "stream": "stdout",
       "text": [
        "\r",
        "100  124M    0  124M    0     0   235k      0 --:--:--  0:09:00 --:--:--  346k"
       ]
      },
      {
       "output_type": "stream",
       "stream": "stdout",
       "text": [
        "\r",
        "100  124M    0  124M    0     0   234k      0 --:--:--  0:09:01 --:--:--  292k"
       ]
      },
      {
       "output_type": "stream",
       "stream": "stdout",
       "text": [
        "\r",
        "100  124M    0  124M    0     0   234k      0 --:--:--  0:09:02 --:--:--  228k"
       ]
      },
      {
       "output_type": "stream",
       "stream": "stdout",
       "text": [
        "\r",
        "100  124M    0  124M    0     0   234k      0 --:--:--  0:09:02 --:--:--  197k"
       ]
      },
      {
       "output_type": "stream",
       "stream": "stdout",
       "text": [
        "\r",
        "100  124M    0  124M    0     0   235k      0 --:--:--  0:09:03 --:--:--  229k"
       ]
      },
      {
       "output_type": "stream",
       "stream": "stdout",
       "text": [
        "\r",
        "100  125M    0  125M    0     0   235k      0 --:--:--  0:09:04 --:--:--  273k"
       ]
      },
      {
       "output_type": "stream",
       "stream": "stdout",
       "text": [
        "\r",
        "100  125M    0  125M    0     0   235k      0 --:--:--  0:09:05 --:--:--  340k"
       ]
      },
      {
       "output_type": "stream",
       "stream": "stdout",
       "text": [
        "\r",
        "100  126M    0  126M    0     0   236k      0 --:--:--  0:09:06 --:--:--  412k"
       ]
      },
      {
       "output_type": "stream",
       "stream": "stdout",
       "text": [
        "\r",
        "100  126M    0  126M    0     0   236k      0 --:--:--  0:09:07 --:--:--  434k"
       ]
      },
      {
       "output_type": "stream",
       "stream": "stdout",
       "text": [
        "\r",
        "100  126M    0  126M    0     0   236k      0 --:--:--  0:09:08 --:--:--  396k"
       ]
      },
      {
       "output_type": "stream",
       "stream": "stdout",
       "text": [
        "\r",
        "100  127M    0  127M    0     0   236k      0 --:--:--  0:09:09 --:--:--  378k"
       ]
      },
      {
       "output_type": "stream",
       "stream": "stdout",
       "text": [
        "\r",
        "100  127M    0  127M    0     0   236k      0 --:--:--  0:09:10 --:--:--  315k"
       ]
      },
      {
       "output_type": "stream",
       "stream": "stdout",
       "text": [
        "\r",
        "100  127M    0  127M    0     0   236k      0 --:--:--  0:09:11 --:--:--  262k"
       ]
      },
      {
       "output_type": "stream",
       "stream": "stdout",
       "text": [
        "\r",
        "100  127M    0  127M    0     0   236k      0 --:--:--  0:09:12 --:--:--  230k"
       ]
      },
      {
       "output_type": "stream",
       "stream": "stdout",
       "text": [
        "\r",
        "100  127M    0  127M    0     0   236k      0 --:--:--  0:09:14 --:--:--  165k"
       ]
      },
      {
       "output_type": "stream",
       "stream": "stdout",
       "text": [
        "\r",
        "100  128M    0  128M    0     0   236k      0 --:--:--  0:09:14 --:--:--  234k"
       ]
      },
      {
       "output_type": "stream",
       "stream": "stdout",
       "text": [
        "\r",
        "100  128M    0  128M    0     0   236k      0 --:--:--  0:09:17 --:--:--  241k"
       ]
      },
      {
       "output_type": "stream",
       "stream": "stdout",
       "text": [
        "\r",
        "100  129M    0  129M    0     0   237k      0 --:--:--  0:09:17 --:--:--  321k"
       ]
      },
      {
       "output_type": "stream",
       "stream": "stdout",
       "text": [
        "\r",
        "100  129M    0  129M    0     0   237k      0 --:--:--  0:09:18 --:--:--  342k"
       ]
      },
      {
       "output_type": "stream",
       "stream": "stdout",
       "text": [
        "\r",
        "100  129M    0  129M    0     0   237k      0 --:--:--  0:09:20 --:--:--  344k"
       ]
      },
      {
       "output_type": "stream",
       "stream": "stdout",
       "text": [
        "\r",
        "100  130M    0  130M    0     0   233k      0 --:--:--  0:09:31 --:--:--  110k"
       ]
      },
      {
       "output_type": "stream",
       "stream": "stdout",
       "text": [
        "\r",
        "100  130M    0  130M    0     0   234k      0 --:--:--  0:09:31 --:--:--  131k"
       ]
      },
      {
       "output_type": "stream",
       "stream": "stdout",
       "text": [
        "\r",
        "100  130M    0  130M    0     0   233k      0 --:--:--  0:09:32 --:--:--  103k"
       ]
      },
      {
       "output_type": "stream",
       "stream": "stdout",
       "text": [
        "\r",
        "100  131M    0  131M    0     0   234k      0 --:--:--  0:09:33 --:--:--  102k"
       ]
      },
      {
       "output_type": "stream",
       "stream": "stdout",
       "text": [
        "\r",
        "100  132M    0  132M    0     0   235k      0 --:--:--  0:09:34 --:--:--  156k"
       ]
      },
      {
       "output_type": "stream",
       "stream": "stdout",
       "text": [
        "\r",
        "100  132M    0  132M    0     0   235k      0 --:--:--  0:09:35 --:--:--  529k"
       ]
      },
      {
       "output_type": "stream",
       "stream": "stdout",
       "text": [
        "\r",
        "100  132M    0  132M    0     0   235k      0 --:--:--  0:09:37 --:--:--  418k"
       ]
      },
      {
       "output_type": "stream",
       "stream": "stdout",
       "text": [
        "\r",
        "100  132M    0  132M    0     0   235k      0 --:--:--  0:09:37 --:--:--  400k"
       ]
      },
      {
       "output_type": "stream",
       "stream": "stdout",
       "text": [
        "\r",
        "100  133M    0  133M    0     0   235k      0 --:--:--  0:09:38 --:--:--  354k"
       ]
      },
      {
       "output_type": "stream",
       "stream": "stdout",
       "text": [
        "\r",
        "100  133M    0  133M    0     0   235k      0 --:--:--  0:09:39 --:--:--  270k"
       ]
      },
      {
       "output_type": "stream",
       "stream": "stdout",
       "text": [
        "\r",
        "100  133M    0  133M    0     0   235k      0 --:--:--  0:09:40 --:--:--  248k"
       ]
      },
      {
       "output_type": "stream",
       "stream": "stdout",
       "text": [
        "\r",
        "100  134M    0  134M    0     0   236k      0 --:--:--  0:09:41 --:--:--  334k"
       ]
      },
      {
       "output_type": "stream",
       "stream": "stdout",
       "text": [
        "\r",
        "100  134M    0  134M    0     0   236k      0 --:--:--  0:09:42 --:--:--  369k"
       ]
      },
      {
       "output_type": "stream",
       "stream": "stdout",
       "text": [
        "\r",
        "100  134M    0  134M    0     0   236k      0 --:--:--  0:09:43 --:--:--  351k"
       ]
      },
      {
       "output_type": "stream",
       "stream": "stdout",
       "text": [
        "\r",
        "100  134M    0  134M    0     0   236k      0 --:--:--  0:09:44 --:--:--  325k"
       ]
      },
      {
       "output_type": "stream",
       "stream": "stdout",
       "text": [
        "\r",
        "100  135M    0  135M    0     0   236k      0 --:--:--  0:09:45 --:--:--  317k"
       ]
      },
      {
       "output_type": "stream",
       "stream": "stdout",
       "text": [
        "\r",
        "100  135M    0  135M    0     0   237k      0 --:--:--  0:09:46 --:--:--  299k"
       ]
      },
      {
       "output_type": "stream",
       "stream": "stdout",
       "text": [
        "\r",
        "100  136M    0  136M    0     0   237k      0 --:--:--  0:09:47 --:--:--  310k"
       ]
      },
      {
       "output_type": "stream",
       "stream": "stdout",
       "text": [
        "\r",
        "100  136M    0  136M    0     0   237k      0 --:--:--  0:09:48 --:--:--  363k"
       ]
      },
      {
       "output_type": "stream",
       "stream": "stdout",
       "text": [
        "\r",
        "100  136M    0  136M    0     0   237k      0 --:--:--  0:09:49 --:--:--  382k"
       ]
      },
      {
       "output_type": "stream",
       "stream": "stdout",
       "text": [
        "\r",
        "100  136M    0  136M    0     0   237k      0 --:--:--  0:09:50 --:--:--  348k"
       ]
      },
      {
       "output_type": "stream",
       "stream": "stdout",
       "text": [
        "\r",
        "100  137M    0  137M    0     0   237k      0 --:--:--  0:09:51 --:--:--  259k"
       ]
      },
      {
       "output_type": "stream",
       "stream": "stdout",
       "text": [
        "\r",
        "100  137M    0  137M    0     0   237k      0 --:--:--  0:09:52 --:--:--  227k"
       ]
      },
      {
       "output_type": "stream",
       "stream": "stdout",
       "text": [
        "\r",
        "100  137M    0  137M    0     0   237k      0 --:--:--  0:09:53 --:--:--  198k"
       ]
      },
      {
       "output_type": "stream",
       "stream": "stdout",
       "text": [
        "\r",
        "100  137M    0  137M    0     0   236k      0 --:--:--  0:09:54 --:--:--  177k"
       ]
      },
      {
       "output_type": "stream",
       "stream": "stdout",
       "text": [
        "\r",
        "100  137M    0  137M    0     0   236k      0 --:--:--  0:09:55 --:--:--  187k"
       ]
      },
      {
       "output_type": "stream",
       "stream": "stdout",
       "text": [
        "\r",
        "100  138M    0  138M    0     0   236k      0 --:--:--  0:09:56 --:--:--  189k"
       ]
      },
      {
       "output_type": "stream",
       "stream": "stdout",
       "text": [
        "\r",
        "100  138M    0  138M    0     0   236k      0 --:--:--  0:09:57 --:--:--  196k"
       ]
      },
      {
       "output_type": "stream",
       "stream": "stdout",
       "text": [
        "\r",
        "100  138M    0  138M    0     0   237k      0 --:--:--  0:09:58 --:--:--  231k"
       ]
      },
      {
       "output_type": "stream",
       "stream": "stdout",
       "text": [
        "\r",
        "100  139M    0  139M    0     0   237k      0 --:--:--  0:09:59 --:--:--  309k"
       ]
      },
      {
       "output_type": "stream",
       "stream": "stdout",
       "text": [
        "\r",
        "100  139M    0  139M    0     0   237k      0 --:--:--  0:10:00 --:--:--  362k"
       ]
      },
      {
       "output_type": "stream",
       "stream": "stdout",
       "text": [
        "\r",
        "100  140M    0  140M    0     0   235k      0 --:--:--  0:10:09 --:--:--  172k"
       ]
      },
      {
       "output_type": "stream",
       "stream": "stdout",
       "text": [
        "\r",
        "100  140M    0  140M    0     0   236k      0 --:--:--  0:10:09 --:--:--  221k"
       ]
      },
      {
       "output_type": "stream",
       "stream": "stdout",
       "text": [
        "\r",
        "100  141M    0  141M    0     0   237k      0 --:--:--  0:10:10 --:--:--  246k"
       ]
      },
      {
       "output_type": "stream",
       "stream": "stdout",
       "text": [
        "\r",
        "100  142M    0  142M    0     0   237k      0 --:--:--  0:10:11 --:--:--  246k"
       ]
      },
      {
       "output_type": "stream",
       "stream": "stdout",
       "text": [
        "\r",
        "100  142M    0  142M    0     0   237k      0 --:--:--  0:10:12 --:--:--  230k"
       ]
      },
      {
       "output_type": "stream",
       "stream": "stdout",
       "text": [
        "\r",
        "100  142M    0  142M    0     0   238k      0 --:--:--  0:10:13 --:--:--  558k"
       ]
      },
      {
       "output_type": "stream",
       "stream": "stdout",
       "text": [
        "\r",
        "100  143M    0  143M    0     0   238k      0 --:--:--  0:10:14 --:--:--  450k"
       ]
      },
      {
       "output_type": "stream",
       "stream": "stdout",
       "text": [
        "\r",
        "100  143M    0  143M    0     0   238k      0 --:--:--  0:10:15 --:--:--  380k"
       ]
      },
      {
       "output_type": "stream",
       "stream": "stdout",
       "text": [
        "\r",
        "100  143M    0  143M    0     0   238k      0 --:--:--  0:10:16 --:--:--  320k"
       ]
      },
      {
       "output_type": "stream",
       "stream": "stdout",
       "text": [
        "\r",
        "100  143M    0  143M    0     0   238k      0 --:--:--  0:10:17 --:--:--  312k"
       ]
      },
      {
       "output_type": "stream",
       "stream": "stdout",
       "text": [
        "\r",
        "100  144M    0  144M    0     0   238k      0 --:--:--  0:10:18 --:--:--  304k"
       ]
      },
      {
       "output_type": "stream",
       "stream": "stdout",
       "text": [
        "\r",
        "100  144M    0  144M    0     0   238k      0 --:--:--  0:10:20 --:--:--  306k"
       ]
      },
      {
       "output_type": "stream",
       "stream": "stdout",
       "text": [
        "\r",
        "100  144M    0  144M    0     0   238k      0 --:--:--  0:10:20 --:--:--  278k"
       ]
      },
      {
       "output_type": "stream",
       "stream": "stdout",
       "text": [
        "\r",
        "100  144M    0  144M    0     0   238k      0 --:--:--  0:10:21 --:--:--  256k"
       ]
      },
      {
       "output_type": "stream",
       "stream": "stdout",
       "text": [
        "\r",
        "100  145M    0  145M    0    "
       ]
      },
      {
       "output_type": "stream",
       "stream": "stdout",
       "text": [
        " 0   238k      0 --:--:--  0:10:22 --:--:--  250k"
       ]
      },
      {
       "output_type": "stream",
       "stream": "stdout",
       "text": [
        "\r",
        "100  145M    0  145M    0     0   239k      0 --:--:--  0:10:23 --:--:--  302k"
       ]
      },
      {
       "output_type": "stream",
       "stream": "stdout",
       "text": [
        "\r",
        "100  146M    0  146M    0     0   239k      0 --:--:--  0:10:25 --:--:--  310k"
       ]
      },
      {
       "output_type": "stream",
       "stream": "stdout",
       "text": [
        "\r",
        "100  146M    0  146M    0     0   239k      0 --:--:--  0:10:25 --:--:--  299k"
       ]
      },
      {
       "output_type": "stream",
       "stream": "stdout",
       "text": [
        "\r",
        "100  146M    0  146M    0     0   239k      0 --:--:--  0:10:26 --:--:--  306k"
       ]
      },
      {
       "output_type": "stream",
       "stream": "stdout",
       "text": [
        "\r",
        "100  146M    0  146M    0     0   239k      0 --:--:--  0:10:27 --:--:--  319k"
       ]
      },
      {
       "output_type": "stream",
       "stream": "stdout",
       "text": [
        "\r",
        "100  147M    0  147M    0     0   239k      0 --:--:--  0:10:28 --:--:--  293k"
       ]
      },
      {
       "output_type": "stream",
       "stream": "stdout",
       "text": [
        "\r",
        "100  147M    0  147M    0     0   239k      0 --:--:--  0:10:29 --:--:--  285k"
       ]
      },
      {
       "output_type": "stream",
       "stream": "stdout",
       "text": [
        "\r",
        "100  147M    0  147M    0     0   239k      0 --:--:--  0:10:30 --:--:--  334k"
       ]
      },
      {
       "output_type": "stream",
       "stream": "stdout",
       "text": [
        "\r",
        "100  148M    0  148M    0     0   239k      0 --:--:--  0:10:33 --:--:--  281k"
       ]
      },
      {
       "output_type": "stream",
       "stream": "stdout",
       "text": [
        "\r",
        "100  148M    0  148M    0     0   240k      0 --:--:--  0:10:33 --:--:--  346k"
       ]
      },
      {
       "output_type": "stream",
       "stream": "stdout",
       "text": [
        "\r",
        "100  149M    0  149M    0     0   239k      0 --:--:--  0:10:36 --:--:--  270k"
       ]
      },
      {
       "output_type": "stream",
       "stream": "stdout",
       "text": [
        "\r",
        "100  149M    0  149M    0     0   240k      0 --:--:--  0:10:36 --:--:--  304k"
       ]
      },
      {
       "output_type": "stream",
       "stream": "stdout",
       "text": [
        "\r",
        "100  149M    0  149M    0     0   240k      0 --:--:--  0:10:37 --:--:--  314k"
       ]
      },
      {
       "output_type": "stream",
       "stream": "stdout",
       "text": [
        "\r",
        "100  150M    0  150M    0     0   240k      0 --:--:--  0:10:39 --:--:--  314k"
       ]
      },
      {
       "output_type": "stream",
       "stream": "stdout",
       "text": [
        "\r",
        "100  150M    0  150M    0     0   236k      0 --:--:--  0:10:51 --:--:--   99k"
       ]
      },
      {
       "output_type": "stream",
       "stream": "stdout",
       "text": [
        "\r",
        "100  150M    0  150M    0     0   237k      0 --:--:--  0:10:51 --:--:--  123k"
       ]
      },
      {
       "output_type": "stream",
       "stream": "stdout",
       "text": [
        "\r",
        "100  151M    0  151M    0     0   236k      0 --:--:--  0:10:52 --:--:--   99k"
       ]
      },
      {
       "output_type": "stream",
       "stream": "stdout",
       "text": [
        "\r",
        "100  151M    0  151M    0     0   236k      0 --:--:--  0:10:53 --:--:-- 89503"
       ]
      },
      {
       "output_type": "stream",
       "stream": "stdout",
       "text": [
        "\r",
        "100  151M    0  151M    0     0   237k      0 --:--:--  0:10:54 --:--:--  121k"
       ]
      },
      {
       "output_type": "stream",
       "stream": "stdout",
       "text": [
        "\r",
        "100  152M    0  152M    0     0   238k      0 --:--:--  0:10:55 --:--:--  496k"
       ]
      },
      {
       "output_type": "stream",
       "stream": "stdout",
       "text": [
        "\r",
        "100  152M    0  152M    0     0   238k      0 --:--:--  0:10:56 --:--:--  408k"
       ]
      },
      {
       "output_type": "stream",
       "stream": "stdout",
       "text": [
        "\r",
        "100  153M    0  153M    0     0   238k      0 --:--:--  0:10:57 --:--:--  432k"
       ]
      },
      {
       "output_type": "stream",
       "stream": "stdout",
       "text": [
        "\r",
        "100  153M    0  153M    0     0   238k      0 --:--:--  0:10:59 --:--:--  412k"
       ]
      },
      {
       "output_type": "stream",
       "stream": "stdout",
       "text": [
        "\r",
        "100  153M    0  153M    0     0   238k      0 --:--:--  0:11:00 --:--:--  305k"
       ]
      },
      {
       "output_type": "stream",
       "stream": "stdout",
       "text": [
        "\r",
        "100  153M    0  153M    0     0   237k      0 --:--:--  0:11:00 --:--:--  211k"
       ]
      },
      {
       "output_type": "stream",
       "stream": "stdout",
       "text": [
        "\r",
        "100  153M    0  153M    0     0   237k      0 --:--:--  0:11:01 --:--:--  142k"
       ]
      },
      {
       "output_type": "stream",
       "stream": "stdout",
       "text": [
        "\r",
        "100  153M    0  153M    0     0   237k      0 --:--:--  0:11:02 --:--:--  142k"
       ]
      },
      {
       "output_type": "stream",
       "stream": "stdout",
       "text": [
        "\r",
        "100  154M    0  154M    0     0   238k      0 --:--:--  0:11:03 --:--:--  221k"
       ]
      },
      {
       "output_type": "stream",
       "stream": "stdout",
       "text": [
        "\r",
        "100  154M    0  154M    0     0   238k      0 --:--:--  0:11:04 --:--:--  306k"
       ]
      },
      {
       "output_type": "stream",
       "stream": "stdout",
       "text": [
        "\r",
        "100  155M    0  155M    0     0   238k      0 --:--:--  0:11:05 --:--:--  367k"
       ]
      },
      {
       "output_type": "stream",
       "stream": "stdout",
       "text": [
        "\r",
        "100  155M    0  155M    0     0   238k      0 --:--:--  0:11:06 --:--:--  408k"
       ]
      },
      {
       "output_type": "stream",
       "stream": "stdout",
       "text": [
        "\r",
        "100  156M    0  156M    0     0   239k      0 --:--:--  0:11:07 --:--:--  444k"
       ]
      },
      {
       "output_type": "stream",
       "stream": "stdout",
       "text": [
        "\r",
        "100  156M    0  156M    0     0   239k      0 --:--:--  0:11:08 --:--:--  421k"
       ]
      },
      {
       "output_type": "stream",
       "stream": "stdout",
       "text": [
        "\r",
        "100  156M    0  156M    0     0   239k      0 --:--:--  0:11:09 --:--:--  409k"
       ]
      },
      {
       "output_type": "stream",
       "stream": "stdout",
       "text": [
        "\r",
        "100  157M    0  157M    0     0   239k      0 --:--:--  0:11:10 --:--:--  354k"
       ]
      },
      {
       "output_type": "stream",
       "stream": "stdout",
       "text": [
        "\r",
        "100  157M    0  157M    0     0   239k      0 --:--:--  0:11:11 --:--:--  319k"
       ]
      },
      {
       "output_type": "stream",
       "stream": "stdout",
       "text": [
        "\r",
        "100  157M    0  157M    0     0   239k      0 --:--:--  0:11:12 --:--:--  298k\r\n"
       ]
      }
     ],
     "prompt_number": 14
    },
    {
     "cell_type": "markdown",
     "metadata": {},
     "source": [
      "count  |\tsum_len\t  | N50  |\tmin_len\t| max_len |\tmed_len |\tave_len\t| sd_len |\tfile    \n",
      "113679 |\t136406223 |\t2375 |\t201     |\t32089 |\t572\t    |1200       |\t1545 |\tTrinity.fasta"
     ]
    },
    {
     "cell_type": "code",
     "collapsed": false,
     "input": [
      "import pandas\n"
     ],
     "language": "python",
     "metadata": {},
     "outputs": [],
     "prompt_number": 16
    },
    {
     "cell_type": "code",
     "collapsed": false,
     "input": [
      "%%file data.csv\n",
      "count,sum_len,N50,min_len,max_len,med_len,ave_len,sd_len,file\n",
      "113679,136406223,2375,201,32089,572,1200,1545,Trinity.fasta"
     ],
     "language": "python",
     "metadata": {},
     "outputs": [
      {
       "output_type": "stream",
       "stream": "stdout",
       "text": [
        "Overwriting data.csv\n"
       ]
      }
     ],
     "prompt_number": 20
    },
    {
     "cell_type": "code",
     "collapsed": false,
     "input": [
      "df = pandas.read_csv('data.csv')\n"
     ],
     "language": "python",
     "metadata": {},
     "outputs": [],
     "prompt_number": 21
    },
    {
     "cell_type": "code",
     "collapsed": false,
     "input": [
      "from IPython.display import HTML\n"
     ],
     "language": "python",
     "metadata": {},
     "outputs": [],
     "prompt_number": 25
    },
    {
     "cell_type": "code",
     "collapsed": false,
     "input": [],
     "language": "python",
     "metadata": {},
     "outputs": []
    },
    {
     "cell_type": "code",
     "collapsed": false,
     "input": [
      "df.head"
     ],
     "language": "python",
     "metadata": {},
     "outputs": [
      {
       "metadata": {},
       "output_type": "pyout",
       "prompt_number": 34,
       "text": [
        "<bound method DataFrame.head of     count    sum_len   N50  min_len  max_len  med_len  ave_len  sd_len  \\\n",
        "0  113679  136406223  2375      201    32089      572     1200    1545   \n",
        "\n",
        "            file  \n",
        "0  Trinity.fasta  >"
       ]
      }
     ],
     "prompt_number": 34
    },
    {
     "cell_type": "code",
     "collapsed": false,
     "input": [
      "cd Desktop/"
     ],
     "language": "python",
     "metadata": {},
     "outputs": [
      {
       "output_type": "stream",
       "stream": "stdout",
       "text": [
        "/Users/sr320/Desktop\n"
       ]
      }
     ],
     "prompt_number": 36
    },
    {
     "cell_type": "code",
     "collapsed": false,
     "input": [
      "!perl count_fasta.pl"
     ],
     "language": "python",
     "metadata": {},
     "outputs": [
      {
       "output_type": "stream",
       "stream": "stdout",
       "text": [
        "\r\n",
        "\r\n",
        "usage: count_fasta.pl [-i <interval size in # of residues>] <fasta file(s)>\r\n",
        "Produces a histogram of sequence lengths and other measures to standard out.\r\n",
        "\r\n",
        "-i #          specify bin size for histogram (default 100)\r\n",
        "\r\n"
       ]
      }
     ],
     "prompt_number": 37
    },
    {
     "cell_type": "code",
     "collapsed": false,
     "input": [
      "!perl count_fasta.pl /Volumes/web/cnidarian/fish546_14_Trinity.fasta"
     ],
     "language": "python",
     "metadata": {},
     "outputs": [
      {
       "output_type": "stream",
       "stream": "stdout",
       "text": [
        "\r\n",
        "200:299 \t29818\r\n",
        "300:399 \t13977\r\n",
        "400:499 \t8480\r\n",
        "500:599 \t6072\r\n",
        "600:699 \t4794\r\n",
        "700:799 \t4036\r\n",
        "800:899 \t3484\r\n",
        "900:999 \t3054\r\n",
        "1000:1099 \t2767\r\n",
        "1100:1199 \t2498\r\n",
        "1200:1299 \t2327\r\n",
        "1300:1399 \t2165\r\n",
        "1400:1499 \t2026\r\n",
        "1500:1599 \t1895\r\n",
        "1600:1699 \t1684\r\n",
        "1700:1799 \t1518\r\n",
        "1800:1899 \t1439\r\n",
        "1900:1999 \t1289\r\n",
        "2000:2099 \t1220\r\n",
        "2100:2199 \t1097\r\n",
        "2200:2299 \t1061\r\n",
        "2300:2399 \t970\r\n",
        "2400:2499 \t1017\r\n",
        "2500:2599 \t880\r\n",
        "2600:2699 \t865\r\n",
        "2700:2799 \t792\r\n",
        "2800:2899 \t717\r\n",
        "2900:2999 \t652\r\n",
        "3000:3099 \t601\r\n",
        "3100:3199 \t609\r\n",
        "3200:3299 \t554\r\n",
        "3300:3399 \t513\r\n",
        "3400:3499 \t415\r\n",
        "3500:3599 \t477\r\n",
        "3600:3699 \t410\r\n",
        "3700:3799 \t415\r\n",
        "3800:3899 \t365\r\n",
        "3900:3999 \t393\r\n",
        "4000:4099 \t320\r\n",
        "4100:4199 \t371\r\n",
        "4200:4299 \t268\r\n",
        "4300:4399 \t251\r\n",
        "4400:4499 \t257\r\n",
        "4500:4599 \t253\r\n",
        "4600:4699 \t286\r\n",
        "4700:4799 \t251\r\n",
        "4800:4899 \t184\r\n",
        "4900:4999 \t148\r\n",
        "5000:5099 \t181\r\n",
        "5100:5199 \t171\r\n",
        "5200:5299 \t197\r\n",
        "5300:5399 \t143\r\n",
        "5400:5499 \t163\r\n",
        "5500:5599 \t140\r\n",
        "5600:5699 \t186\r\n",
        "5700:5799 \t134\r\n",
        "5800:5899 \t157\r\n",
        "5900:5999 \t110\r\n",
        "6000:6099 \t104\r\n",
        "6100:6199 \t84\r\n",
        "6200:6299 \t99\r\n",
        "6300:6399 \t97\r\n",
        "6400:6499 \t83\r\n",
        "6500:6599 \t65\r\n",
        "6600:6699 \t80\r\n",
        "6700:6799 \t59\r\n",
        "6800:6899 \t74\r\n",
        "6900:6999 \t68\r\n",
        "7000:7099 \t91\r\n",
        "7100:7199 \t53\r\n",
        "7200:7299 \t81\r\n",
        "7300:7399 \t50\r\n",
        "7400:7499 \t56\r\n",
        "7500:7599 \t62\r\n",
        "7600:7699 \t62\r\n",
        "7700:7799 \t48\r\n",
        "7800:7899 \t36\r\n",
        "7900:7999 \t33\r\n",
        "8000:8099 \t40\r\n",
        "8100:8199 \t33\r\n",
        "8200:8299 \t14\r\n",
        "8300:8399 \t15\r\n",
        "8400:8499 \t30\r\n",
        "8500:8599 \t48\r\n",
        "8600:8699 \t36\r\n",
        "8700:8799 \t44\r\n",
        "8800:8899 \t36\r\n",
        "8900:8999 \t14\r\n",
        "9000:9099 \t10\r\n",
        "9100:9199 \t8\r\n",
        "9200:9299 \t15\r\n",
        "9300:9399 \t11\r\n",
        "9400:9499 \t28\r\n",
        "9500:9599 \t15\r\n",
        "9600:9699 \t7\r\n",
        "9700:9799 \t12\r\n",
        "9800:9899 \t8\r\n",
        "9900:9999 \t5\r\n",
        "10000:10099 \t8\r\n",
        "10100:10199 \t8\r\n",
        "10200:10299 \t4\r\n",
        "10300:10399 \t5\r\n",
        "10400:10499 \t6\r\n",
        "10500:10599 \t13\r\n",
        "10600:10699 \t8\r\n",
        "10700:10799 \t6\r\n",
        "10800:10899 \t7\r\n",
        "10900:10999 \t1\r\n",
        "11000:11099 \t6\r\n",
        "11100:11199 \t9\r\n",
        "11200:11299 \t3\r\n",
        "11300:11399 \t0\r\n",
        "11400:11499 \t5\r\n",
        "11500:11599 \t5\r\n",
        "11600:11699 \t13\r\n",
        "11700:11799 \t0\r\n",
        "11800:11899 \t1\r\n",
        "11900:11999 \t6\r\n",
        "12000:12099 \t4\r\n",
        "12100:12199 \t3\r\n",
        "12200:12299 \t5\r\n",
        "12300:12399 \t3\r\n",
        "12400:12499 \t10\r\n",
        "12500:12599 \t7\r\n",
        "12600:12699 \t13\r\n",
        "12700:12799 \t6\r\n",
        "12800:12899 \t7\r\n",
        "12900:12999 \t15\r\n",
        "13000:13099 \t7\r\n",
        "13100:13199 \t2\r\n",
        "13200:13299 \t2\r\n",
        "13300:13399 \t0\r\n",
        "13400:13499 \t1\r\n",
        "13500:13599 \t9\r\n",
        "13600:13699 \t5\r\n",
        "13700:13799 \t8\r\n",
        "13800:13899 \t2\r\n",
        "13900:13999 \t7\r\n",
        "14000:14099 \t5\r\n",
        "14100:14199 \t4\r\n",
        "14200:14299 \t2\r\n",
        "14300:14399 \t0\r\n",
        "14400:14499 \t0\r\n",
        "14500:14599 \t3\r\n",
        "14600:14699 \t3\r\n",
        "14700:14799 \t7\r\n",
        "14800:14899 \t5\r\n",
        "14900:14999 \t5\r\n",
        "15000:15099 \t4\r\n",
        "15100:15199 \t6\r\n",
        "15200:15299 \t5\r\n",
        "15300:15399 \t0\r\n",
        "15400:15499 \t0\r\n",
        "15500:15599 \t8\r\n",
        "15600:15699 \t2\r\n",
        "15700:15799 \t3\r\n",
        "15800:15899 \t1\r\n",
        "15900:15999 \t0\r\n",
        "16000:16099 \t1\r\n",
        "16100:16199 \t1\r\n",
        "16200:16299 \t0\r\n",
        "16300:16399 \t0\r\n",
        "16400:16499 \t0\r\n",
        "16500:16599 \t2\r\n",
        "16600:16699 \t0\r\n",
        "16700:16799 \t0\r\n",
        "16800:16899 \t1\r\n",
        "16900:16999 \t0\r\n",
        "17000:17099 \t0\r\n",
        "17100:17199 \t1\r\n",
        "17200:17299 \t8\r\n",
        "17300:17399 \t10\r\n",
        "17400:17499 \t13\r\n",
        "17500:17599 \t3\r\n",
        "17600:17699 \t0\r\n",
        "17700:17799 \t0\r\n",
        "17800:17899 \t0\r\n",
        "17900:17999 \t1\r\n",
        "18000:18099 \t0\r\n",
        "18100:18199 \t0\r\n",
        "18200:18299 \t0\r\n",
        "18300:18399 \t0\r\n",
        "18400:18499 \t5\r\n",
        "18500:18599 \t0\r\n",
        "18600:18699 \t0\r\n",
        "18700:18799 \t0\r\n",
        "18800:18899 \t4\r\n",
        "18900:18999 \t0\r\n",
        "19000:19099 \t0\r\n",
        "19100:19199 \t0\r\n",
        "19200:19299 \t0\r\n",
        "19300:19399 \t0\r\n",
        "19400:19499 \t0\r\n",
        "19500:19599 \t0\r\n",
        "19600:19699 \t0\r\n",
        "19700:19799 \t0\r\n",
        "19800:19899 \t0\r\n",
        "19900:19999 \t0\r\n",
        "20000:20099 \t0\r\n",
        "20100:20199 \t0\r\n",
        "20200:20299 \t0\r\n",
        "20300:20399 \t0\r\n",
        "20400:20499 \t0\r\n",
        "20500:20599 \t0\r\n",
        "20600:20699 \t0\r\n",
        "20700:20799 \t0\r\n",
        "20800:20899 \t0\r\n",
        "20900:20999 \t2\r\n",
        "21000:21099 \t1\r\n",
        "21100:21199 \t0\r\n",
        "21200:21299 \t0\r\n",
        "21300:21399 \t0\r\n",
        "21400:21499 \t0\r\n",
        "21500:21599 \t0\r\n",
        "21600:21699 \t0\r\n",
        "21700:21799 \t0\r\n",
        "21800:21899 \t0\r\n",
        "21900:21999 \t0\r\n",
        "22000:22099 \t0\r\n",
        "22100:22199 \t0\r\n",
        "22200:22299 \t0\r\n",
        "22300:22399 \t0\r\n",
        "22400:22499 \t0\r\n",
        "22500:22599 \t0\r\n",
        "22600:22699 \t0\r\n",
        "22700:22799 \t0\r\n",
        "22800:22899 \t0\r\n",
        "22900:22999 \t0\r\n",
        "23000:23099 \t0\r\n",
        "23100:23199 \t0\r\n",
        "23200:23299 \t0\r\n",
        "23300:23399 \t0\r\n",
        "23400:23499 \t0\r\n",
        "23500:23599 \t0\r\n",
        "23600:23699 \t0\r\n",
        "23700:23799 \t0\r\n",
        "23800:23899 \t0\r\n",
        "23900:23999 \t0\r\n",
        "24000:24099 \t0\r\n",
        "24100:24199 \t0\r\n",
        "24200:24299 \t0\r\n",
        "24300:24399 \t0\r\n",
        "24400:24499 \t0\r\n",
        "24500:24599 \t0\r\n",
        "24600:24699 \t0\r\n",
        "24700:24799 \t0\r\n",
        "24800:24899 \t0\r\n",
        "24900:24999 \t0\r\n",
        "25000:25099 \t0\r\n",
        "25100:25199 \t0\r\n",
        "25200:25299 \t0\r\n",
        "25300:25399 \t0\r\n",
        "25400:25499 \t0\r\n",
        "25500:25599 \t0\r\n",
        "25600:25699 \t0\r\n",
        "25700:25799 \t0\r\n",
        "25800:25899 \t0\r\n",
        "25900:25999 \t0\r\n",
        "26000:26099 \t0\r\n",
        "26100:26199 \t0\r\n",
        "26200:26299 \t0\r\n",
        "26300:26399 \t0\r\n",
        "26400:26499 \t0\r\n",
        "26500:26599 \t0\r\n",
        "26600:26699 \t0\r\n",
        "26700:26799 \t0\r\n",
        "26800:26899 \t0\r\n",
        "26900:26999 \t0\r\n",
        "27000:27099 \t0\r\n",
        "27100:27199 \t0\r\n",
        "27200:27299 \t0\r\n",
        "27300:27399 \t0\r\n",
        "27400:27499 \t0\r\n",
        "27500:27599 \t0\r\n",
        "27600:27699 \t0\r\n",
        "27700:27799 \t0\r\n",
        "27800:27899 \t0\r\n",
        "27900:27999 \t0\r\n",
        "28000:28099 \t0\r\n",
        "28100:28199 \t0\r\n",
        "28200:28299 \t0\r\n",
        "28300:28399 \t0\r\n",
        "28400:28499 \t0\r\n",
        "28500:28599 \t0\r\n",
        "28600:28699 \t0\r\n",
        "28700:28799 \t0\r\n",
        "28800:28899 \t0\r\n",
        "28900:28999 \t0\r\n",
        "29000:29099 \t0\r\n",
        "29100:29199 \t0\r\n",
        "29200:29299 \t0\r\n",
        "29300:29399 \t0\r\n",
        "29400:29499 \t0\r\n",
        "29500:29599 \t0\r\n",
        "29600:29699 \t0\r\n",
        "29700:29799 \t0\r\n",
        "29800:29899 \t0\r\n",
        "29900:29999 \t0\r\n",
        "30000:30099 \t0\r\n",
        "30100:30199 \t0\r\n",
        "30200:30299 \t0\r\n",
        "30300:30399 \t0\r\n",
        "30400:30499 \t0\r\n",
        "30500:30599 \t0\r\n",
        "30600:30699 \t0\r\n",
        "30700:30799 \t0\r\n",
        "30800:30899 \t0\r\n",
        "30900:30999 \t0\r\n",
        "31000:31099 \t0\r\n",
        "31100:31199 \t0\r\n",
        "31200:31299 \t0\r\n",
        "31300:31399 \t0\r\n",
        "31400:31499 \t0\r\n",
        "31500:31599 \t0\r\n",
        "31600:31699 \t0\r\n",
        "31700:31799 \t0\r\n",
        "31800:31899 \t0\r\n",
        "31900:31999 \t0\r\n",
        "32000:32099 \t2\r\n",
        "\r\n",
        "Total length of sequence:\t136406223 bp\r\n",
        "Total number of sequences:\t113679\r\n",
        "N25 stats:\t\t\t25% of total sequence length is contained in the 5366 sequences >= 4305 bp\r\n",
        "N50 stats:\t\t\t50% of total sequence length is contained in the 16227 sequences >= 2375 bp\r\n",
        "N75 stats:\t\t\t75% of total sequence length is contained in the 37135 sequences >= 1102 bp\r\n",
        "Total GC count:\t\t\t54597739 bp\r\n",
        "GC %:\t\t\t\t40.03 %\r\n",
        "\r\n"
       ]
      }
     ],
     "prompt_number": 40
    },
    {
     "cell_type": "code",
     "collapsed": false,
     "input": [
      "from pandas import *\n",
      "\n",
      "# read data from data file into a pandas DataFrame  \n",
      "hi = read_table(\"/Users/sr320/Desktop/histo.txt\") # name of the data file\n",
      "            #sep=\",\", # what character separates each column?\n",
      "            #na_values=[\"\", \" \"]) # what values should be considered \"blank\" values?"
     ],
     "language": "python",
     "metadata": {},
     "outputs": [],
     "prompt_number": 115
    },
    {
     "cell_type": "code",
     "collapsed": false,
     "input": [
      "print hi"
     ],
     "language": "python",
     "metadata": {},
     "outputs": [
      {
       "output_type": "stream",
       "stream": "stdout",
       "text": [
        "<class 'pandas.core.frame.DataFrame'>\n",
        "Int64Index: 319 entries, 0 to 318\n",
        "Data columns (total 2 columns):\n",
        "INT              319  non-null values\n",
        "        count    319  non-null values\n",
        "dtypes: int64(1), object(1)\n"
       ]
      }
     ],
     "prompt_number": 116
    },
    {
     "cell_type": "code",
     "collapsed": false,
     "input": [
      "hi"
     ],
     "language": "python",
     "metadata": {},
     "outputs": [
      {
       "html": [
        "<pre>\n",
        "&ltclass 'pandas.core.frame.DataFrame'&gt\n",
        "Int64Index: 319 entries, 0 to 318\n",
        "Data columns (total 2 columns):\n",
        "INT              319  non-null values\n",
        "        count    319  non-null values\n",
        "dtypes: int64(1), object(1)\n",
        "</pre>"
       ],
       "metadata": {},
       "output_type": "pyout",
       "prompt_number": 117,
       "text": [
        "<class 'pandas.core.frame.DataFrame'>\n",
        "Int64Index: 319 entries, 0 to 318\n",
        "Data columns (total 2 columns):\n",
        "INT              319  non-null values\n",
        "        count    319  non-null values\n",
        "dtypes: int64(1), object(1)"
       ]
      }
     ],
     "prompt_number": 117
    },
    {
     "cell_type": "code",
     "collapsed": false,
     "input": [
      "hi.head()"
     ],
     "language": "python",
     "metadata": {},
     "outputs": [
      {
       "html": [
        "<div style=\"max-height:1000px;max-width:1500px;overflow:auto;\">\n",
        "<table border=\"1\" class=\"dataframe\">\n",
        "  <thead>\n",
        "    <tr style=\"text-align: right;\">\n",
        "      <th></th>\n",
        "      <th>INT</th>\n",
        "      <th>        count</th>\n",
        "    </tr>\n",
        "  </thead>\n",
        "  <tbody>\n",
        "    <tr>\n",
        "      <th>0</th>\n",
        "      <td> 200:299 </td>\n",
        "      <td> 29818</td>\n",
        "    </tr>\n",
        "    <tr>\n",
        "      <th>1</th>\n",
        "      <td> 300:399 </td>\n",
        "      <td> 13977</td>\n",
        "    </tr>\n",
        "    <tr>\n",
        "      <th>2</th>\n",
        "      <td> 400:499 </td>\n",
        "      <td>  8480</td>\n",
        "    </tr>\n",
        "    <tr>\n",
        "      <th>3</th>\n",
        "      <td> 500:599 </td>\n",
        "      <td>  6072</td>\n",
        "    </tr>\n",
        "    <tr>\n",
        "      <th>4</th>\n",
        "      <td> 600:699 </td>\n",
        "      <td>  4794</td>\n",
        "    </tr>\n",
        "  </tbody>\n",
        "</table>\n",
        "</div>"
       ],
       "metadata": {},
       "output_type": "pyout",
       "prompt_number": 118,
       "text": [
        "        INT          count\n",
        "0  200:299           29818\n",
        "1  300:399           13977\n",
        "2  400:499            8480\n",
        "3  500:599            6072\n",
        "4  600:699            4794"
       ]
      }
     ],
     "prompt_number": 118
    },
    {
     "cell_type": "code",
     "collapsed": false,
     "input": [
      "----"
     ],
     "language": "python",
     "metadata": {},
     "outputs": [
      {
       "ename": "SyntaxError",
       "evalue": "invalid syntax (<ipython-input-77-404fb44d22bf>, line 1)",
       "output_type": "pyerr",
       "traceback": [
        "\u001b[0;36m  File \u001b[0;32m\"<ipython-input-77-404fb44d22bf>\"\u001b[0;36m, line \u001b[0;32m1\u001b[0m\n\u001b[0;31m    ----\u001b[0m\n\u001b[0m        ^\u001b[0m\n\u001b[0;31mSyntaxError\u001b[0m\u001b[0;31m:\u001b[0m invalid syntax\n"
       ]
      }
     ],
     "prompt_number": 77
    },
    {
     "cell_type": "markdown",
     "metadata": {},
     "source": [
      "<http://sysbio.harvard.edu/csb/resources/computational/scriptome/unix/Protocols/Sequences.html>"
     ]
    },
    {
     "cell_type": "code",
     "collapsed": false,
     "input": [
      "!perl -e '$count=0; $len=0; while(<>) {s/\\r?\\n//; s/\\t/ /g; if (s/^>//) { if ($. != 1) {print \"\\n\"} s/ |$/\\t/; $count++; $_ .= \"\\t\";} else {s/ //g; $len += length($_)} print $_;} print \"\\n\"; warn \"\\nConverted $count FASTA records in $. lines to tabular format\\nTotal sequence length: $len\\n\\n\";' /Volumes/web/cnidarian/fish546_14_Trinity.fasta > /Volumes/web/cnidarian/fish546_14_Trinity.tab"
     ],
     "language": "python",
     "metadata": {},
     "outputs": [
      {
       "output_type": "stream",
       "stream": "stdout",
       "text": [
        "\r\n",
        "Converted 113679 FASTA records in 2442378 lines to tabular format\r\n",
        "Total sequence length: 136406223\r\n",
        "\r\n"
       ]
      }
     ],
     "prompt_number": 78
    },
    {
     "cell_type": "code",
     "collapsed": false,
     "input": [
      "!perl -e '$col = 2;' -e 'while (<>) { s/\\r?\\n//; @F = split /\\t/, $_; $len = length($F[$col]); print \"$_\\t$len\\n\" } warn \"\\nAdded column with length of column $col for $. lines.\\n\\n\";' /Volumes/web/cnidarian/fish546_14_Trinity.tab > /Volumes/web/cnidarian/fish546_14_Trinity_ls_length2.tab"
     ],
     "language": "python",
     "metadata": {},
     "outputs": [
      {
       "output_type": "stream",
       "stream": "stdout",
       "text": [
        "\r\n",
        "Added column with length of column 2 for 113679 lines.\r\n",
        "\r\n"
       ]
      }
     ],
     "prompt_number": 99
    },
    {
     "cell_type": "code",
     "collapsed": false,
     "input": [
      "!head -2 /Volumes/web/cnidarian/fish546_14_Trinity_ls_length2.tab"
     ],
     "language": "python",
     "metadata": {},
     "outputs": [
      {
       "output_type": "stream",
       "stream": "stdout",
       "text": [
        "comp0_c0_seq1\tlen=526 path=[4411:0-525]\tTCTGTGCCGATATATATATACATGTATCTATGCACAGTCATGTTTTATCGAGTACGACTGTAAAAAAGATCCAAAGTATACTCAAAAAATCTTCAGCAAGTGAGTCCATTTGAGTATGAGAATGATATTATCAAAGTTTTAAAACAATTTAGAGCATAGAGGTTGAGTCCGTGTATGAAAATGTGCTCAAAAAAGTAAATATAACTTCCAGGACAATTATTTTTACCGGCGTCTACTTGTATCTGTACGTATATTAAAAGTCTTAACGGCCACTGAACGAGCCAGCCTATTTATAAACTTGTTAACGCTTCCTTAAATGGCTGTAACTGAAGCTCCAAGCAAGTACTTAGCTAGAAAACACCCAGACGTACGTAAAAGTTTCCTTATTTACTGAAAATTTAAATGTATTCACCCAGTAGCACCCGGGGCCTTGATGAGGCCACGATAAATCTGCTTTTCAACAACCATAATGATTTGTTAATTCATAAGAAACACGCTCATGTATAGACTTCGATTTCAGGATAAG\t526\r\n",
        "comp1_c0_seq1\tlen=265 path=[1100:0-54 2691:55-264]\tGGGGAATTCAGCTAACATACCTCGATGATGAGGGGGAGCCGTCCTGTCAAAACTCCAATAATCTGAATTATACACTGCTGAAGCACTTAACACGTCAAGATGTGGGGTGTGCCTTAGATACAACATCTACAAAAATAAATCTAGACACTGACCTGGACTCCAGAGCCGATACAGACACTGTCCTTACTGAAATTACCAAACCTGGCAAGTATTGAACGTGTACCAAAACTTATAGATTTTGTATATGGTATTAATTTCTCTGGTG\t265\r\n"
       ]
      }
     ],
     "prompt_number": 100
    },
    {
     "cell_type": "code",
     "collapsed": false,
     "input": [
      "from pandas import *\n",
      "\n",
      "# read data from data file into a pandas DataFrame  \n",
      "la = read_table(\"http://eagle.fish.washington.edu/cnidarian/fish546_14_Trinity_ls_length2.tab\", # name of the data file\n",
      "            #sep=\",\", # what character separates each column?\n",
      "            na_values=[\"\", \" \"]) # what values should be considered \"blank\" values?"
     ],
     "language": "python",
     "metadata": {},
     "outputs": [],
     "prompt_number": 101
    },
    {
     "cell_type": "code",
     "collapsed": false,
     "input": [
      "la.head()"
     ],
     "language": "python",
     "metadata": {},
     "outputs": [
      {
       "html": [
        "<pre>\n",
        "&ltclass 'pandas.core.frame.DataFrame'&gt\n",
        "Int64Index: 5 entries, 0 to 4\n",
        "Data columns (total 4 columns):\n",
        "comp0_c0_seq1                                                                                                                                                                                                                                                                                                                                                                                                                                                                                                                                     5  non-null values\n",
        "len=526 path=[4411:0-525]                                                                                                                                                                                                                                                                                                                                                                                                                                                                                                                         5  non-null values\n",
        "TCTGTGCCGATATATATATACATGTATCTATGCACAGTCATGTTTTATCGAGTACGACTGTAAAAAAGATCCAAAGTATACTCAAAAAATCTTCAGCAAGTGAGTCCATTTGAGTATGAGAATGATATTATCAAAGTTTTAAAACAATTTAGAGCATAGAGGTTGAGTCCGTGTATGAAAATGTGCTCAAAAAAGTAAATATAACTTCCAGGACAATTATTTTTACCGGCGTCTACTTGTATCTGTACGTATATTAAAAGTCTTAACGGCCACTGAACGAGCCAGCCTATTTATAAACTTGTTAACGCTTCCTTAAATGGCTGTAACTGAAGCTCCAAGCAAGTACTTAGCTAGAAAACACCCAGACGTACGTAAAAGTTTCCTTATTTACTGAAAATTTAAATGTATTCACCCAGTAGCACCCGGGGCCTTGATGAGGCCACGATAAATCTGCTTTTCAACAACCATAATGATTTGTTAATTCATAAGAAACACGCTCATGTATAGACTTCGATTTCAGGATAAG    5  non-null values\n",
        "526                                                                                                                                                                                                                                                                                                                                                                                                                                                                                                                                               5  non-null values\n",
        "dtypes: int64(1), object(3)\n",
        "</pre>"
       ],
       "metadata": {},
       "output_type": "pyout",
       "prompt_number": 103,
       "text": [
        "   comp0_c0_seq1                          len=526 path=[4411:0-525]  \\\n",
        "0  comp1_c0_seq1               len=265 path=[1100:0-54 2691:55-264]   \n",
        "1  comp2_c0_seq1              len=284 path=[8218:0-178 713:179-283]   \n",
        "2  comp3_c0_seq1            len=591 path=[36159:0-115 8073:116-590]   \n",
        "3  comp3_c0_seq2                len=869 path=[3:0-393 8073:394-868]   \n",
        "4  comp4_c0_seq1  len=693 path=[13985:0-396 29716:397-409 22754:...   \n",
        "\n",
        "  TCTGTGCCGATATATATATACATGTATCTATGCACAGTCATGTTTTATCGAGTACGACTGTAAAAAAGATCCAAAGTATACTCAAAAAATCTTCAGCAAGTGAGTCCATTTGAGTATGAGAATGATATTATCAAAGTTTTAAAACAATTTAGAGCATAGAGGTTGAGTCCGTGTATGAAAATGTGCTCAAAAAAGTAAATATAACTTCCAGGACAATTATTTTTACCGGCGTCTACTTGTATCTGTACGTATATTAAAAGTCTTAACGGCCACTGAACGAGCCAGCCTATTTATAAACTTGTTAACGCTTCCTTAAATGGCTGTAACTGAAGCTCCAAGCAAGTACTTAGCTAGAAAACACCCAGACGTACGTAAAAGTTTCCTTATTTACTGAAAATTTAAATGTATTCACCCAGTAGCACCCGGGGCCTTGATGAGGCCACGATAAATCTGCTTTTCAACAACCATAATGATTTGTTAATTCATAAGAAACACGCTCATGTATAGACTTCGATTTCAGGATAAG  \\\n",
        "0  GGGGAATTCAGCTAACATACCTCGATGATGAGGGGGAGCCGTCCTG...                                                                                                                                                                                                                                                                                                                                                                                                                                                                                               \n",
        "1  GCGAGATGTACATGTAACCCAAATTAAGCATGTTAAATCATTAGCT...                                                                                                                                                                                                                                                                                                                                                                                                                                                                                               \n",
        "2  CCAATCTTTAGTAAGTTTATATTAATTTCTATGATAATATTTGAAA...                                                                                                                                                                                                                                                                                                                                                                                                                                                                                               \n",
        "3  GTATAATGCTGACCTTGAACATTTTCATCGCTTCATGACTGACGTT...                                                                                                                                                                                                                                                                                                                                                                                                                                                                                               \n",
        "4  TGTTTCTTGTTATAATTATTGTGTACGTTGTTTCGTATCTGACGTC...                                                                                                                                                                                                                                                                                                                                                                                                                                                                                               \n",
        "\n",
        "   526  \n",
        "0  265  \n",
        "1  284  \n",
        "2  591  \n",
        "3  869  \n",
        "4  693  "
       ]
      }
     ],
     "prompt_number": 103
    },
    {
     "cell_type": "code",
     "collapsed": false,
     "input": [
      "la ['526'].hist(bins=1000);\n",
      "#Axis limits are changed using the axis([xmin, xmax, ymin, ymax]) function.\n",
      "plt.axis([0, 4000, 0, 11000])\n"
     ],
     "language": "python",
     "metadata": {},
     "outputs": [
      {
       "metadata": {},
       "output_type": "pyout",
       "prompt_number": 113,
       "text": [
        "[0, 4000, 0, 11000]"
       ]
      },
      {
       "metadata": {},
       "output_type": "display_data",
       "png": "[encoded data removed]",
       "text": [
        "<matplotlib.figure.Figure at 0x10c5b8bd0>"
       ]
      }
     ],
     "prompt_number": 113
    },
    {
     "cell_type": "code",
     "collapsed": false,
     "input": [
      "!perl /Users/sr320/Desktop/trinityrnaseq_r20131110/util/TrinityStats.pl /Volumes/web/cnidarian/fish546_14_Trinity.fasta\n"
     ],
     "language": "python",
     "metadata": {},
     "outputs": [
      {
       "output_type": "stream",
       "stream": "stdout",
       "text": [
        "\r\n",
        "\r\n",
        "################################\r\n",
        "## Counts of transcripts, etc.\r\n",
        "################################\r\n",
        "Total trinity transcripts:\t113679\r\n",
        "Total trinity components:\t69205\r\n",
        "Percent GC: 40.03\r\n",
        "\r\n",
        "########################################\r\n",
        "Stats based on ALL transcript contigs:\r\n",
        "########################################\r\n",
        "\r\n"
       ]
      },
      {
       "output_type": "stream",
       "stream": "stdout",
       "text": [
        "\tContig N10: 6804\r\n",
        "\tContig N20: 4912\r\n",
        "\tContig N30: 3808\r\n",
        "\tContig N40: 2996\r\n",
        "\tContig N50: 2375\r\n",
        "\r\n",
        "\tMedian contig length: 572\r\n"
       ]
      },
      {
       "output_type": "stream",
       "stream": "stdout",
       "text": [
        "\tAverage contig: 1199.92\r\n",
        "\tTotal assembled bases: 136406223\r\n",
        "\r\n",
        "\r\n",
        "#####################################################\r\n",
        "## Stats based on ONLY LONGEST ISOFORM per COMPONENT:\r\n",
        "#####################################################\r\n",
        "\r\n"
       ]
      },
      {
       "output_type": "stream",
       "stream": "stdout",
       "text": [
        "\tContig N10: 5174\r\n",
        "\tContig N20: 3631\r\n",
        "\tContig N30: 2726\r\n",
        "\tContig N40: 2099\r\n",
        "\tContig N50: 1604\r\n",
        "\r\n",
        "\tMedian contig length: 382\r\n"
       ]
      },
      {
       "output_type": "stream",
       "stream": "stdout",
       "text": [
        "\tAverage contig: 823.03\r\n",
        "\tTotal assembled bases: 56957585\r\n",
        "\r\n",
        "\r\n",
        "\r\n"
       ]
      }
     ],
     "prompt_number": 120
    },
    {
     "cell_type": "heading",
     "level": 1,
     "metadata": {},
     "source": [
      "Running CD-Hit on IPlant\n"
     ]
    },
    {
     "cell_type": "code",
     "collapsed": false,
     "input": [
      "cd /Volumes/web/cnidarian/"
     ],
     "language": "python",
     "metadata": {},
     "outputs": [
      {
       "output_type": "stream",
       "stream": "stdout",
       "text": [
        "/Volumes/web/cnidarian\n"
       ]
      }
     ],
     "prompt_number": 2
    },
    {
     "cell_type": "code",
     "collapsed": false,
     "input": [
      "!curl -o 'fishfe6_oCD-HITout.fa' 'http://de.iplantcollaborative.org/dl/d/26cb3b68-ea18-4a9f-a723-247e03c0166a/CD-HITout.fa'"
     ],
     "language": "python",
     "metadata": {},
     "outputs": [
      {
       "output_type": "stream",
       "stream": "stdout",
       "text": [
        "  % Total    % Received % Xferd  Average Speed   Time    Time     Time  Current\r\n",
        "                                 Dload  Upload   Total   Spent    Left  Speed\r\n",
        "\r",
        "  0     0    0     0    0     0      0      0 --:--:--  0:00:02 --:--:--     0"
       ]
      },
      {
       "output_type": "stream",
       "stream": "stdout",
       "text": [
        "\r",
        "100  1150    0  1150    0     0    359      0 --:--:--  0:00:03 --:--:--  1046"
       ]
      },
      {
       "output_type": "stream",
       "stream": "stdout",
       "text": [
        "\r",
        "100  161k    0  161k    0     0  47063      0 --:--:--  0:00:03 --:--:--  114k"
       ]
      },
      {
       "output_type": "stream",
       "stream": "stdout",
       "text": [
        "\r",
        "100  514k    0  514k    0     0   112k      0 --:--:--  0:00:04 --:--:--  207k"
       ]
      },
      {
       "output_type": "stream",
       "stream": "stdout",
       "text": [
        "\r",
        "100  836k    0  836k    0     0   151k      0 --:--:--  0:00:05 --:--:--  243k"
       ]
      },
      {
       "output_type": "stream",
       "stream": "stdout",
       "text": [
        "\r",
        "100 1189k    0 1189k    0     0   181k      0 --:--:--  0:00:06 --:--:--  266k"
       ]
      },
      {
       "output_type": "stream",
       "stream": "stdout",
       "text": [
        "\r",
        "100 1476k    0 1476k    0     0   194k      0 --:--:--  0:00:07 --:--:--  336k"
       ]
      },
      {
       "output_type": "stream",
       "stream": "stdout",
       "text": [
        "\r",
        "100 1798k    0 1798k    0     0   210k      0 --:--:--  0:00:08 --:--:--  325k"
       ]
      },
      {
       "output_type": "stream",
       "stream": "stdout",
       "text": [
        "\r",
        "100 2145k    0 2145k    0     0   223k      0 --:--:--  0:00:09 --:--:--  325k"
       ]
      },
      {
       "output_type": "stream",
       "stream": "stdout",
       "text": [
        "\r",
        "100 2468k    0 2468k    0     0   233k      0 --:--:--  0:00:10 --:--:--  324k"
       ]
      },
      {
       "output_type": "stream",
       "stream": "stdout",
       "text": [
        "\r",
        "100 2785k    0 2785k    0     0   242k      0 --:--:--  0:00:11 --:--:--  323k"
       ]
      },
      {
       "output_type": "stream",
       "stream": "stdout",
       "text": [
        "\r",
        "100 3138k    0 3138k    0     0   249k      0 --:--:--  0:00:12 --:--:--  331k"
       ]
      },
      {
       "output_type": "stream",
       "stream": "stdout",
       "text": [
        "\r",
        "100 3462k    0 3462k    0     0   255k      0 --:--:--  0:00:13 --:--:--  332k"
       ]
      },
      {
       "output_type": "stream",
       "stream": "stdout",
       "text": [
        "\r",
        "100 3810k    0 3810k    0     0   261k      0 --:--:--  0:00:14 --:--:--  332k"
       ]
      },
      {
       "output_type": "stream",
       "stream": "stdout",
       "text": [
        "\r",
        "100 4130k    0 4130k    0     0   265k      0 --:--:--  0:00:15 --:--:--  332k"
       ]
      },
      {
       "output_type": "stream",
       "stream": "stdout",
       "text": [
        "\r",
        "100 4482k    0 4482k    0     0   270k      0 --:--:--  0:00:16 --:--:--  334k"
       ]
      },
      {
       "output_type": "stream",
       "stream": "stdout",
       "text": [
        "\r",
        "100 4772k    0 4772k    0     0   272k      0 --:--:--  0:00:17 --:--:--  331k"
       ]
      },
      {
       "output_type": "stream",
       "stream": "stdout",
       "text": [
        "\r",
        "100 5129k    0 5129k    0     0   276k      0 --:--:--  0:00:18 --:--:--  333k"
       ]
      },
      {
       "output_type": "stream",
       "stream": "stdout",
       "text": [
        "\r",
        "100 5487k    0 5487k    0     0   280k      0 --:--:--  0:00:19 --:--:--  335k"
       ]
      },
      {
       "output_type": "stream",
       "stream": "stdout",
       "text": [
        "\r",
        "100 5802k    0 5802k    0     0   282k      0 --:--:--  0:00:20 --:--:--  336k"
       ]
      },
      {
       "output_type": "stream",
       "stream": "stdout",
       "text": [
        "\r",
        "100 6159k    0 6159k    0     0   285k      0 --:--:--  0:00:21 --:--:--  335k"
       ]
      },
      {
       "output_type": "stream",
       "stream": "stdout",
       "text": [
        "\r",
        "100 6437k    0 6437k    0     0   285k      0 --:--:--  0:00:22 --:--:--  333k"
       ]
      },
      {
       "output_type": "stream",
       "stream": "stdout",
       "text": [
        "\r",
        "100 6797k    0 6797k    0     0   288k      0 --:--:--  0:00:23 --:--:--  332k"
       ]
      },
      {
       "output_type": "stream",
       "stream": "stdout",
       "text": [
        "\r",
        "100 7114k    0 7114k    0     0   290k      0 --:--:--  0:00:24 --:--:--  328k"
       ]
      },
      {
       "output_type": "stream",
       "stream": "stdout",
       "text": [
        "\r",
        "100 7471k    0 7471k    0     0   292k      0 --:--:--  0:00:25 --:--:--  330k"
       ]
      },
      {
       "output_type": "stream",
       "stream": "stdout",
       "text": [
        "\r",
        "100 7791k    0 7791k    0     0   293k      0 "
       ]
      },
      {
       "output_type": "stream",
       "stream": "stdout",
       "text": [
        "--:--:--  0:00:26 --:--:--  331k"
       ]
      },
      {
       "output_type": "stream",
       "stream": "stdout",
       "text": [
        "\r",
        "100 8143k    0 8143k    0     0   295k      0 --:--:--  0:00:27 --:--:--  338k"
       ]
      },
      {
       "output_type": "stream",
       "stream": "stdout",
       "text": [
        "\r",
        "100 8495k    0 8495k    0     0   297k      0 --:--:--  0:00:28 --:--:--  337k"
       ]
      },
      {
       "output_type": "stream",
       "stream": "stdout",
       "text": [
        "\r",
        "100 8782k    0 8782k    0     0   297k      0 --:--:--  0:00:29 --:--:--  333k"
       ]
      },
      {
       "output_type": "stream",
       "stream": "stdout",
       "text": [
        "\r",
        "100 9161k    0 9161k    0     0   299k      0 --:--:--  0:00:30 --:--:--  339k"
       ]
      },
      {
       "output_type": "stream",
       "stream": "stdout",
       "text": [
        "\r",
        "100 9487k    0 9487k    0     0   301k      0 --:--:--  0:00:31 --:--:--  338k"
       ]
      },
      {
       "output_type": "stream",
       "stream": "stdout",
       "text": [
        "\r",
        "100 9775k    0 9775k    0     0   300k      0 --:--:--  0:00:32 --:--:--  329k"
       ]
      },
      {
       "output_type": "stream",
       "stream": "stdout",
       "text": [
        "\r",
        "100  9.8M    0  9.8M    0     0   301k      0 --:--:--  0:00:33 --:--:--  328k"
       ]
      },
      {
       "output_type": "stream",
       "stream": "stdout",
       "text": [
        "\r",
        "100 10.2M    0 10.2M    0     0   302k    "
       ]
      },
      {
       "output_type": "stream",
       "stream": "stdout",
       "text": [
        "  0 --:--:--  0:00:34 --:--:--  336k"
       ]
      },
      {
       "output_type": "stream",
       "stream": "stdout",
       "text": [
        "\r",
        "100 10.5M    0 10.5M    0     0   304k      0 --:--:--  0:00:35 --:--:--  330k"
       ]
      },
      {
       "output_type": "stream",
       "stream": "stdout",
       "text": [
        "\r",
        "100 10.8M    0 10.8M    0     0   305k      0 --:--:--  0:00:36 --:--:--  330k"
       ]
      },
      {
       "output_type": "stream",
       "stream": "stdout",
       "text": [
        "\r",
        "100 11.1M    0 11.1M    0     0   304k      0 --:--:--  0:00:37 --:--:--  330k"
       ]
      },
      {
       "output_type": "stream",
       "stream": "stdout",
       "text": [
        "\r",
        "100 11.5M    0 11.5M    0     0   305k      0 --:--:--  0:00:38 --:--:--  329k"
       ]
      },
      {
       "output_type": "stream",
       "stream": "stdout",
       "text": [
        "\r",
        "100 11.8M    0 11.8M    0     0   306k      0 --:--:--  0:00:39 --:--:--  329k"
       ]
      },
      {
       "output_type": "stream",
       "stream": "stdout",
       "text": [
        "\r",
        "100 12.1M    0 12.1M    0     0   306k      0 --:--:--  0:00:40 --:--:--  327k"
       ]
      },
      {
       "output_type": "stream",
       "stream": "stdout",
       "text": [
        "\r",
        "100 12.5M    0 12.5M    0     0   307k      0 --:--:--  0:00:41 --:--:--  327k"
       ]
      },
      {
       "output_type": "stream",
       "stream": "stdout",
       "text": [
        "\r",
        "100 12.8M    0 12.8M    0     0   308k      0 --:--:--  0:00:42 --:--:--  336k"
       ]
      },
      {
       "output_type": "stream",
       "stream": "stdout",
       "text": [
        "\r",
        "100 13.1M    0 13.1M    0     0   309k      0 --:--:--  0:00:43 --:--:--  338k"
       ]
      },
      {
       "output_type": "stream",
       "stream": "stdout",
       "text": [
        "\r",
        "100 13.4M    0 13.4M    0     0   309k      0 --:--:--  0:00:44 --:--:--  336k"
       ]
      },
      {
       "output_type": "stream",
       "stream": "stdout",
       "text": [
        "\r",
        "100 13.7M    0 13.7M    0     0   310k      0 --:--:--  0:00:45 --:--:--  338k"
       ]
      },
      {
       "output_type": "stream",
       "stream": "stdout",
       "text": [
        "\r",
        "100 14.1M    0 14.1M    0     0   310k      0 --:--:--  0:00:46 --:--:--  337k"
       ]
      },
      {
       "output_type": "stream",
       "stream": "stdout",
       "text": [
        "\r",
        "100 14.4M    0 14.4M    0     0   310k      0 --:--:--  0:00:47 --:--:--  326k"
       ]
      },
      {
       "output_type": "stream",
       "stream": "stdout",
       "text": [
        "\r",
        "100 14.7M    0 14.7M    0     0   310k      0 --:--:--  0:00:48 --:--:--  325k"
       ]
      },
      {
       "output_type": "stream",
       "stream": "stdout",
       "text": [
        "\r",
        "100 15.0M    0 15.0M    0     0   311k      0 --:--:--  0:00:49 --:--:--  326k"
       ]
      },
      {
       "output_type": "stream",
       "stream": "stdout",
       "text": [
        "\r",
        "100 15.3M    0 15.3M    0     0   311k      0 --:--:--  0:00:50 --:--:--  323k"
       ]
      },
      {
       "output_type": "stream",
       "stream": "stdout",
       "text": [
        "\r",
        "100 15.7M    0 15.7M    0     0   312k      0 --:--:--  0:00:51 --:--:--  324k"
       ]
      },
      {
       "output_type": "stream",
       "stream": "stdout",
       "text": [
        "\r",
        "100 16.0M    0 16.0M    0     0   312k      0 --:--:--  0:00:52 --:--:--  331k"
       ]
      },
      {
       "output_type": "stream",
       "stream": "stdout",
       "text": [
        "\r",
        "100 16.3M    0 16.3M    0     0   312k      0 --:--:--  0:00:53 --:--:--  333k"
       ]
      },
      {
       "output_type": "stream",
       "stream": "stdout",
       "text": [
        "\r",
        "100 16.6M    0 16.6M    0     0   313k      0 --:--:--  0:00:54 --:--:--  332k"
       ]
      },
      {
       "output_type": "stream",
       "stream": "stdout",
       "text": [
        "\r",
        "100 17.0M    0 17.0M    0     0   313k      0 --:--:--  0:00:55 --:--:--  333k"
       ]
      },
      {
       "output_type": "stream",
       "stream": "stdout",
       "text": [
        "\r",
        "100 17.3M    0 17.3M    0     0   314k      0 --:--:--  0:00:56 --:--:--  335k"
       ]
      },
      {
       "output_type": "stream",
       "stream": "stdout",
       "text": [
        "\r",
        "100 17.6M    0 17.6M    0     0   314k      0 --:--:--  0:00:57 --:--:--  333k"
       ]
      },
      {
       "output_type": "stream",
       "stream": "stdout",
       "text": [
        "\r",
        "100 17.9M    0 17.9M    0     0   314k      0 --:--:--  0:00:58 --:--:--  331k"
       ]
      },
      {
       "output_type": "stream",
       "stream": "stdout",
       "text": [
        "\r",
        "100 18.3M    0 18.3M    0     0   315k      0 --:--:--  0:00:59 --:--:--  335k"
       ]
      },
      {
       "output_type": "stream",
       "stream": "stdout",
       "text": [
        "\r",
        "100 18.6M    0 18.6M    0     0   315k      0 --:--:--  0:01:00 --:--:--  338k"
       ]
      },
      {
       "output_type": "stream",
       "stream": "stdout",
       "text": [
        "\r",
        "100 19.0M    0 19.0M    0     0   315k      0 --:--:--  0:01:01 --:--:--  334k"
       ]
      },
      {
       "output_type": "stream",
       "stream": "stdout",
       "text": [
        "\r",
        "100 19.3M    0 19.3M    0     0   316k      0 --:--:--  0:01:02 --:--:--  341k"
       ]
      },
      {
       "output_type": "stream",
       "stream": "stdout",
       "text": [
        "\r",
        "100 19.6M    0 19.6M    0     0   316k      0 --:--:--  0:01:03 --:--:--  339k"
       ]
      },
      {
       "output_type": "stream",
       "stream": "stdout",
       "text": [
        "\r",
        "100 19.9M    0 19.9M    0     0   316k      0 --:--:--  0:01:04 --:--:--  336k"
       ]
      },
      {
       "output_type": "stream",
       "stream": "stdout",
       "text": [
        "\r",
        "100 20.2M    0 20.2M    0     0   317k      0 --:--:--  0:01:05 --:--:--  333k"
       ]
      },
      {
       "output_type": "stream",
       "stream": "stdout",
       "text": [
        "\r",
        "100 20.6M    0 20.6M    0     0   317k      0 --:--:--  0:01:06 --:--:--  337k"
       ]
      },
      {
       "output_type": "stream",
       "stream": "stdout",
       "text": [
        "\r",
        "100 20.9M    0 20.9M    0     0   317k      0 --:--:--  0:01:07 --:--:--  330k"
       ]
      },
      {
       "output_type": "stream",
       "stream": "stdout",
       "text": [
        "\r",
        "100 21.2M    0 21.2M    0     0   317k      0 --:--:--  0:01:08 --:--:--  332k"
       ]
      },
      {
       "output_type": "stream",
       "stream": "stdout",
       "text": [
        "\r",
        "100 21.5M    0 21.5M    0     0   317k      0 --:--:--  0:01:09 --:--:--  332k"
       ]
      },
      {
       "output_type": "stream",
       "stream": "stdout",
       "text": [
        "\r",
        "100 21.9M    0 21.9M    0     0   318k      0 --:--:--  0:01:10 --:--:--  337k"
       ]
      },
      {
       "output_type": "stream",
       "stream": "stdout",
       "text": [
        "\r",
        "100 22.2M    0 22.2M    0     0   318k      0 --:--:--  0:01:11 --:--:--  334k"
       ]
      },
      {
       "output_type": "stream",
       "stream": "stdout",
       "text": [
        "\r",
        "100 22.5M    0 22.5M    0     0   318k      0 --:--:--  0:01:12 --:--:--  336k"
       ]
      },
      {
       "output_type": "stream",
       "stream": "stdout",
       "text": [
        "\r",
        "100 22.9M    0 22.9M    0     0   319k      0 --:--:--  0:01:13 --:--:--  338k"
       ]
      },
      {
       "output_type": "stream",
       "stream": "stdout",
       "text": [
        "\r",
        "100 23.2M    0 23.2M    0     0   319k      0 --:--:--  0:01:14 --:--:--  340k"
       ]
      },
      {
       "output_type": "stream",
       "stream": "stdout",
       "text": [
        "\r",
        "100 23.5M    0 23.5M    0     0   319k      0 --:--:--  0:01:15 --:--:--  337k"
       ]
      },
      {
       "output_type": "stream",
       "stream": "stdout",
       "text": [
        "\r",
        "100 23.9M    0 23.9M    0     0   319k      0 --:--:--  0:01:16 --:--:--  335k"
       ]
      },
      {
       "output_type": "stream",
       "stream": "stdout",
       "text": [
        "\r",
        "100 24.2M    0 24.2M    0     0   319k      0 --:--:--  0:01:17 --:--:--  333k"
       ]
      },
      {
       "output_type": "stream",
       "stream": "stdout",
       "text": [
        "\r",
        "100 24.5M    0 24.5M    0     0   319k      0 --:--:--  0:01:18 --:--:--  331k"
       ]
      },
      {
       "output_type": "stream",
       "stream": "stdout",
       "text": [
        "\r",
        "100 24.8M    0 24.8M    0     0   320k      0 --:--:--  0:01:19 --:--:--  331k"
       ]
      },
      {
       "output_type": "stream",
       "stream": "stdout",
       "text": [
        "\r",
        "100 25.1M    0 25.1M    0     0   320k      0 --:--:--  0:01:20 --:--:--  331k"
       ]
      },
      {
       "output_type": "stream",
       "stream": "stdout",
       "text": [
        "\r",
        "100 25.5M    0 25.5M    0     0   320k      0 --:--:--  0:01:21 --:--:--  332k"
       ]
      },
      {
       "output_type": "stream",
       "stream": "stdout",
       "text": [
        "\r",
        "100 25.8M    0 25.8M    0     0   320k      0 --:--:--  0:01:22 --:--:--  330k"
       ]
      },
      {
       "output_type": "stream",
       "stream": "stdout",
       "text": [
        "\r",
        "100 26.1M    0 26.1M    0  "
       ]
      },
      {
       "output_type": "stream",
       "stream": "stdout",
       "text": [
        "   0   320k      0 --:--:--  0:01:23 --:--:--  330k"
       ]
      },
      {
       "output_type": "stream",
       "stream": "stdout",
       "text": [
        "\r",
        "100 26.5M    0 26.5M    0     0   320k      0 --:--:--  0:01:24 --:--:--  333k"
       ]
      },
      {
       "output_type": "stream",
       "stream": "stdout",
       "text": [
        "\r",
        "100 26.8M    0 26.8M    0     0   321k      0 --:--:--  0:01:25 --:--:--  330k"
       ]
      },
      {
       "output_type": "stream",
       "stream": "stdout",
       "text": [
        "\r",
        "100 27.1M    0 27.1M    0     0   321k      0 --:--:--  0:01:26 --:--:--  334k"
       ]
      },
      {
       "output_type": "stream",
       "stream": "stdout",
       "text": [
        "\r",
        "100 27.4M    0 27.4M    0     0   321k      0 --:--:--  0:01:27 --:--:--  341k"
       ]
      },
      {
       "output_type": "stream",
       "stream": "stdout",
       "text": [
        "\r",
        "100 27.8M    0 27.8M    0     0   321k      0 --:--:--  0:01:28 --:--:--  341k"
       ]
      },
      {
       "output_type": "stream",
       "stream": "stdout",
       "text": [
        "\r",
        "100 28.1M    0 28.1M    0     0   321k      0 --:--:--  0:01:29 --:--:--  337k"
       ]
      },
      {
       "output_type": "stream",
       "stream": "stdout",
       "text": [
        "\r",
        "100 28.4M    0 28.4M    0     0   322k      0 --:--:--  0:01:30 --:--:--  339k"
       ]
      },
      {
       "output_type": "stream",
       "stream": "stdout",
       "text": [
        "\r",
        "100 28.8M    0 28.8M    0     0   322k      0 --:--:--  0:01:31 --:--:--  338k"
       ]
      },
      {
       "output_type": "stream",
       "stream": "stdout",
       "text": [
        "\r",
        "100 29.1M    0 29.1M    0     0   322k      0 --:--:--  0:01:32 --:--:--  336k"
       ]
      },
      {
       "output_type": "stream",
       "stream": "stdout",
       "text": [
        "\r",
        "100 29.4M    0 29.4M    0     0   322k      0 --:--:--  0:01:33 --:--:--  338k"
       ]
      },
      {
       "output_type": "stream",
       "stream": "stdout",
       "text": [
        "\r",
        "100 29.7M    0 29.7M    0     0   322k      0 --:--:--  0:01:34 --:--:--  340k"
       ]
      },
      {
       "output_type": "stream",
       "stream": "stdout",
       "text": [
        "\r",
        "100 30.1M    0 30.1M    0     0   322k      0 --:--:--  0:01:35 --:--:--  338k"
       ]
      },
      {
       "output_type": "stream",
       "stream": "stdout",
       "text": [
        "\r",
        "100 30.4M    0 30.4M    0     0   323k      0 --:--:--  0:01:36 --:--:--  335k"
       ]
      },
      {
       "output_type": "stream",
       "stream": "stdout",
       "text": [
        "\r",
        "100 30.7M    0 30.7M    0     0   323k      0 --:--:--  0:01:37 --:--:--  337k"
       ]
      },
      {
       "output_type": "stream",
       "stream": "stdout",
       "text": [
        "\r",
        "100 31.0M    0 31.0M    0     0   323k      0 --:--:--  0:01:38 --:--:--  331k"
       ]
      },
      {
       "output_type": "stream",
       "stream": "stdout",
       "text": [
        "\r",
        "100 31.4M    0 31.4M    0     0   323k      0 --:--:--  0:01:39 --:--:--  335k"
       ]
      },
      {
       "output_type": "stream",
       "stream": "stdout",
       "text": [
        "\r",
        "100 31.7M    0 31.7M    0     0   323k      0 --:--:--  0:01:40 --:--:--  333k"
       ]
      },
      {
       "output_type": "stream",
       "stream": "stdout",
       "text": [
        "\r",
        "100 32.1M    0 32.1M    0     0   323k      0 --:--:--  0:01:41 --:--:--  338k"
       ]
      },
      {
       "output_type": "stream",
       "stream": "stdout",
       "text": [
        "\r",
        "100 32.4M    0 32.4M    0     0   323k      0 --:--:--  0:01:42 --:--:--  335k"
       ]
      },
      {
       "output_type": "stream",
       "stream": "stdout",
       "text": [
        "\r",
        "100 32.7M    0 32.7M    0   "
       ]
      },
      {
       "output_type": "stream",
       "stream": "stdout",
       "text": [
        "  0   323k      0 --:--:--  0:01:43 --:--:--  339k"
       ]
      },
      {
       "output_type": "stream",
       "stream": "stdout",
       "text": [
        "\r",
        "100 33.0M    0 33.0M    0     0   323k      0 --:--:--  0:01:44 --:--:--  334k"
       ]
      },
      {
       "output_type": "stream",
       "stream": "stdout",
       "text": [
        "\r",
        "100 33.4M    0 33.4M    0     0   324k      0 --:--:--  0:01:45 --:--:--  339k"
       ]
      },
      {
       "output_type": "stream",
       "stream": "stdout",
       "text": [
        "\r",
        "100 33.7M    0 33.7M    0     0   324k      0 --:--:--  0:01:46 --:--:--  334k"
       ]
      },
      {
       "output_type": "stream",
       "stream": "stdout",
       "text": [
        "\r",
        "100 34.0M    0 34.0M    0     0   324k      0 --:--:--  0:01:47 --:--:--  336k"
       ]
      },
      {
       "output_type": "stream",
       "stream": "stdout",
       "text": [
        "\r",
        "100 34.3M    0 34.3M    0     0   324k      0 --:--:--  0:01:48 --:--:--  334k"
       ]
      },
      {
       "output_type": "stream",
       "stream": "stdout",
       "text": [
        "\r",
        "100 34.7M    0 34.7M    0     0   324k      0 --:--:--  0:01:49 --:--:--  338k"
       ]
      },
      {
       "output_type": "stream",
       "stream": "stdout",
       "text": [
        "\r",
        "100 35.0M    0 35.0M    0     0   324k      0 --:--:--  0:01:50 --:--:--  324k"
       ]
      },
      {
       "output_type": "stream",
       "stream": "stdout",
       "text": [
        "\r",
        "100 35.3M    0 35.3M    0     0   324k      0 --:--:--  0:01:51 --:--:--  323k"
       ]
      },
      {
       "output_type": "stream",
       "stream": "stdout",
       "text": [
        "\r",
        "100 35.6M    0 35.6M    0     0   324k      0 --:--:--  0:01:52 --:--:--  325k"
       ]
      },
      {
       "output_type": "stream",
       "stream": "stdout",
       "text": [
        "\r",
        "100 35.9M    0 35.9M    0     0   324k      0 --:--:--  0:01:53 --:--:--  327k"
       ]
      },
      {
       "output_type": "stream",
       "stream": "stdout",
       "text": [
        "\r",
        "100 36.3M    0 36.3M    0     0   324k      0 --:--:--  0:01:54 --:--:--  326k"
       ]
      },
      {
       "output_type": "stream",
       "stream": "stdout",
       "text": [
        "\r",
        "100 36.6M    0 36.6M    0     0   324k      0 --:--:--  0:01:55 --:--:--  337k"
       ]
      },
      {
       "output_type": "stream",
       "stream": "stdout",
       "text": [
        "\r",
        "100 36.9M    0 36.9M    0     0   324k      0 --:--:--  0:01:56 --:--:--  341k"
       ]
      },
      {
       "output_type": "stream",
       "stream": "stdout",
       "text": [
        "\r",
        "100 37.3M    0 37.3M    0     0   325k      0 --:--:--  0:01:57 --:--:--  338k"
       ]
      },
      {
       "output_type": "stream",
       "stream": "stdout",
       "text": [
        "\r",
        "100 37.6M    0 37.6M    0     0   325k      0 --:--:--  0:01:58 --:--:--  338k"
       ]
      },
      {
       "output_type": "stream",
       "stream": "stdout",
       "text": [
        "\r",
        "100 37.9M    0 37.9M    0     0   325k      0 --:--:--  0:01:59 --:--:--  339k"
       ]
      },
      {
       "output_type": "stream",
       "stream": "stdout",
       "text": [
        "\r",
        "100 38.2M    0 38.2M    0     0   325k      0 --:--:--  0:02:00 --:--:--  337k"
       ]
      },
      {
       "output_type": "stream",
       "stream": "stdout",
       "text": [
        "\r",
        "100 38.6M    0 38.6M    0     0   325k      0 --:--:--  0:02:01 --:--:--  336k"
       ]
      },
      {
       "output_type": "stream",
       "stream": "stdout",
       "text": [
        "\r",
        "100 38.9M    0 38.9M    0     0   325k      0 --:--:--  0:02:02 --:--:--  335k"
       ]
      },
      {
       "output_type": "stream",
       "stream": "stdout",
       "text": [
        "\r",
        "100 39.2M    0 39.2M    0     0   325k      0 --:--:--  0:02:03 --:--:--  334k"
       ]
      },
      {
       "output_type": "stream",
       "stream": "stdout",
       "text": [
        "\r",
        "100 39.6M    0 39.6M    0     0   325k      0 --:--:--  0:02:04 --:--:--  331k"
       ]
      },
      {
       "output_type": "stream",
       "stream": "stdout",
       "text": [
        "\r",
        "100 39.9M    0 39.9M    0     0   325k      0 --:--:--  0:02:05 --:--:--  331k"
       ]
      },
      {
       "output_type": "stream",
       "stream": "stdout",
       "text": [
        "\r",
        "100 40.2M    0 40.2M    0     0   325k      0 --:--:--  0:02:06 --:--:--  332k"
       ]
      },
      {
       "output_type": "stream",
       "stream": "stdout",
       "text": [
        "\r",
        "100 40.5M    0 40.5M    0     0   325k      0 --:--:--  0:02:07 --:--:--  328k"
       ]
      },
      {
       "output_type": "stream",
       "stream": "stdout",
       "text": [
        "\r",
        "100 40.8M    0 40.8M    0     0   325k      0 --:--:--  0:02:08 --:--:--  331k"
       ]
      },
      {
       "output_type": "stream",
       "stream": "stdout",
       "text": [
        "\r",
        "100 41.2M    0 41.2M    0     0   325k      0 --:--:--  0:02:09 --:--:--  334k"
       ]
      },
      {
       "output_type": "stream",
       "stream": "stdout",
       "text": [
        "\r",
        "100 41.5M    0 41.5M    0     0   325k      0 --:--:--  0:02:10 --:--:--  335k"
       ]
      },
      {
       "output_type": "stream",
       "stream": "stdout",
       "text": [
        "\r",
        "100 41.8M    0 41.8M    0     0   326k      0 --:--:--  0:02:11 --:--:--  333k"
       ]
      },
      {
       "output_type": "stream",
       "stream": "stdout",
       "text": [
        "\r",
        "100 42.2M    0 42.2M    0     0   326k      0 --:--:--  0:02:12 --:--:--  337k"
       ]
      },
      {
       "output_type": "stream",
       "stream": "stdout",
       "text": [
        "\r",
        "100 42.5M    0 42.5M    0     0   326k      0 --:--:--  0:02:13 --:--:--  335k"
       ]
      },
      {
       "output_type": "stream",
       "stream": "stdout",
       "text": [
        "\r",
        "100 42.8M    0 42.8M    0     0   326k      0 --:--:--  0:02:14 --:--:--  332k"
       ]
      },
      {
       "output_type": "stream",
       "stream": "stdout",
       "text": [
        "\r",
        "100 43.2M    0 43.2M    0     0   326k      0 --:--:--  0:02:15 --:--:--  334k"
       ]
      },
      {
       "output_type": "stream",
       "stream": "stdout",
       "text": [
        "\r",
        "100 43.5M    0 43.5M    0     0   326k      0 --:--:--  0:02:16 --:--:--  335k"
       ]
      },
      {
       "output_type": "stream",
       "stream": "stdout",
       "text": [
        "\r",
        "100 43.8M    0 43.8M    0     0   326k      0 --:--:--  0:02:17 --:--:--  339k"
       ]
      },
      {
       "output_type": "stream",
       "stream": "stdout",
       "text": [
        "\r",
        "100 44.2M    0 44.2M    0     0   326k      0 --:--:--  0:02:18 --:--:--  340k"
       ]
      },
      {
       "output_type": "stream",
       "stream": "stdout",
       "text": [
        "\r",
        "100 44.5M    0 44.5M    0     0   326k      0 --:--:--  0:02:19 --:--:--  342k"
       ]
      },
      {
       "output_type": "stream",
       "stream": "stdout",
       "text": [
        "\r",
        "100 44.8M    0 44.8M    0     0   326k      0 --:--:--  0:02:20 --:--:--  340k"
       ]
      },
      {
       "output_type": "stream",
       "stream": "stdout",
       "text": [
        "\r",
        "100 45.2M    0 45.2M    0     0   326k      0 --:--:--  0:02:21 --:--:--  341k"
       ]
      },
      {
       "output_type": "stream",
       "stream": "stdout",
       "text": [
        "\r",
        "100 45.5M    0 45.5M    0     0   326k      0 --:--:--  0:02:22 --:--:--  339k"
       ]
      },
      {
       "output_type": "stream",
       "stream": "stdout",
       "text": [
        "\r",
        "100 45.8M    0 45.8M    0     0   327k      0 --:--:--  0:02:23 --:--:--  342k"
       ]
      },
      {
       "output_type": "stream",
       "stream": "stdout",
       "text": [
        "\r",
        "100 46.2M    0 46.2M    0     0   327k      0 --:--:--  0:02:24 --:--:--  340k"
       ]
      },
      {
       "output_type": "stream",
       "stream": "stdout",
       "text": [
        "\r",
        "100 46.5M    0 46.5M    0     0   327k      0 --:--:--  0:02:25 --:--:--  338k"
       ]
      },
      {
       "output_type": "stream",
       "stream": "stdout",
       "text": [
        "\r",
        "100 46.8M    0 46.8M    0     0   327k      0 --:--:--  0:02:26 --:--:--  340k"
       ]
      },
      {
       "output_type": "stream",
       "stream": "stdout",
       "text": [
        "\r",
        "100 47.2M    0 47.2M    0     0   327k      0 --:--:--  0:02:27 --:--:--  342k"
       ]
      },
      {
       "output_type": "stream",
       "stream": "stdout",
       "text": [
        "\r",
        "100 47.5M    0 47.5M    0     0   327k      0 --:--:--  0:02:28 --:--:--  339k"
       ]
      },
      {
       "output_type": "stream",
       "stream": "stdout",
       "text": [
        "\r",
        "100 47.8M    0 47.8M    0     0   327k      0 --:--:--  0:02:29 --:--:--  333k"
       ]
      },
      {
       "output_type": "stream",
       "stream": "stdout",
       "text": [
        "\r",
        "100 48.1M    0 48.1M    0     0   327k      0 --:--:--  0:02:30 --:--:--  336k"
       ]
      },
      {
       "output_type": "stream",
       "stream": "stdout",
       "text": [
        "\r",
        "100 48.4M    0 48.4M    0     0   327k      0 --:--:--  0:02:31 --:--:--  334k"
       ]
      },
      {
       "output_type": "stream",
       "stream": "stdout",
       "text": [
        "\r",
        "100 48.8M    0 48.8M    0     0   327k      0 --:--:--  0:02:32 --:--:--  335k"
       ]
      },
      {
       "output_type": "stream",
       "stream": "stdout",
       "text": [
        "\r",
        "100 49.1M    0 49.1M    0     0   327k      0 --:--:--  0:02:33 --:--:--  336k"
       ]
      },
      {
       "output_type": "stream",
       "stream": "stdout",
       "text": [
        "\r",
        "100 49.4M    0 49.4M    0     0   327k      0 --:--:--  0:02:34 --:--:--  340k"
       ]
      },
      {
       "output_type": "stream",
       "stream": "stdout",
       "text": [
        "\r",
        "100 49.8M    0 49.8M    0     0   327k      0 --:--:--  0:02:35 --:--:--  340k"
       ]
      },
      {
       "output_type": "stream",
       "stream": "stdout",
       "text": [
        "\r",
        "100 50.1M    0 50.1M    0     0   327k      0 --:--:--  0:02:36 --:--:--  338k"
       ]
      },
      {
       "output_type": "stream",
       "stream": "stdout",
       "text": [
        "\r",
        "100 50.4M    0 50.4M    0     0   328k      0 --:--:--  0:02:37 --:--:--  336k"
       ]
      },
      {
       "output_type": "stream",
       "stream": "stdout",
       "text": [
        "\r",
        "100 50.7M    0 50.7M    0     0   328k      0 --:--:--  0:02:38 --:--:--  334k"
       ]
      },
      {
       "output_type": "stream",
       "stream": "stdout",
       "text": [
        "\r",
        "100 51.1M    0 51.1M    0     0   328k      0 --:--:--  0:02:39 --:--:--  334k"
       ]
      },
      {
       "output_type": "stream",
       "stream": "stdout",
       "text": [
        "\r",
        "100 51.4M    0 51.4M    0     0   328k      0 --:--:--  0:02:40 --:--:--  333k"
       ]
      },
      {
       "output_type": "stream",
       "stream": "stdout",
       "text": [
        "\r",
        "100 51.7M    0 51.7M    0     0   328k      0 --:--:--  0:02:41 --:--:--  335k"
       ]
      },
      {
       "output_type": "stream",
       "stream": "stdout",
       "text": [
        "\r",
        "100 52.0M    0 52.0M    0     0   328k      0 --:--:--  0:02:42 --:--:--  333k"
       ]
      },
      {
       "output_type": "stream",
       "stream": "stdout",
       "text": [
        "\r",
        "100 52.4M    0 52.4M    0     0   328k      0 --:--:--  0:02:43 --:--:--  339k"
       ]
      },
      {
       "output_type": "stream",
       "stream": "stdout",
       "text": [
        "\r",
        "100 52.7M    0 52.7M    0     0   328k      0 --:--:--  0:02:44 --:--:--  334k"
       ]
      },
      {
       "output_type": "stream",
       "stream": "stdout",
       "text": [
        "\r",
        "100 53.0M    0 53.0M    0     0   328k      0 --:--:--  0:02:45 --:--:--  333k"
       ]
      },
      {
       "output_type": "stream",
       "stream": "stdout",
       "text": [
        "\r",
        "100 53.4M    0 53.4M    0     0   328k      0 --:--:--  0:02:46 --:--:--  330k"
       ]
      },
      {
       "output_type": "stream",
       "stream": "stdout",
       "text": [
        "\r",
        "100 53.7M    0 53.7M    0     0   328k      0 --:--:--  0:02:47 --:--:--  333k"
       ]
      },
      {
       "output_type": "stream",
       "stream": "stdout",
       "text": [
        "\r",
        "100 54.0M    0 54.0M    0     0   328k      0 --:--:--  0:02:48 --:--:--  331k"
       ]
      },
      {
       "output_type": "stream",
       "stream": "stdout",
       "text": [
        "\r",
        "100 54.3M    0 54.3M    0     0   328k      0 --:--:--  0:02:49 --:--:--  330k"
       ]
      },
      {
       "output_type": "stream",
       "stream": "stdout",
       "text": [
        "\r",
        "100 54.6M    0 54.6M    0     0   328k      0 --:--:--  0:02:50 --:--:--  332k"
       ]
      },
      {
       "output_type": "stream",
       "stream": "stdout",
       "text": [
        "\r",
        "100 55.0M    0 55.0M    0     0   328k      0 --:--:--  0:02:51 --:--:--  334k"
       ]
      },
      {
       "output_type": "stream",
       "stream": "stdout",
       "text": [
        "\r",
        "100 55.3M    0 55.3M    0     0   328k      0 --:--:--  0:02:52 --:--:--  334k"
       ]
      },
      {
       "output_type": "stream",
       "stream": "stdout",
       "text": [
        "\r",
        "100 55.6M    0 55.6M    0     0   328k      0 --:--:--  0:02:53 --:--:--  333k"
       ]
      },
      {
       "output_type": "stream",
       "stream": "stdout",
       "text": [
        "\r",
        "100 55.9M    0 55.9M    0     0   328k      0 --:--:--  0:02:54 --:--:--  336k"
       ]
      },
      {
       "output_type": "stream",
       "stream": "stdout",
       "text": [
        "\r",
        "100 56.3M    0 56.3M    0     0   328k      0 --:--:--  0:02:55 --:--:--  331k"
       ]
      },
      {
       "output_type": "stream",
       "stream": "stdout",
       "text": [
        "\r",
        "100 56.6M    0 56.6M    0     0   328k      0 --:--:--  0:02:56 --:--:--  333k"
       ]
      },
      {
       "output_type": "stream",
       "stream": "stdout",
       "text": [
        "\r",
        "100 57.0M    0 57.0M    0     0   328k      0 --:--:--  0:02:57 --:--:--  333k"
       ]
      },
      {
       "output_type": "stream",
       "stream": "stdout",
       "text": [
        "\r",
        "100 57.2M    0 57.2M    0     0   328k      0 --:--:--  0:02:58 --:--:--  324k"
       ]
      },
      {
       "output_type": "stream",
       "stream": "stdout",
       "text": [
        "\r",
        "100 57.6M    0 57.6M    0     0   328k      0 --:--:--  0:02:59 --:--:--  328k"
       ]
      },
      {
       "output_type": "stream",
       "stream": "stdout",
       "text": [
        "\r",
        "100 57.9M    0 57.9M    0     0   328k      0 --:--:--  0:03:00 --:--:--  329k"
       ]
      },
      {
       "output_type": "stream",
       "stream": "stdout",
       "text": [
        "\r",
        "100 58.2M    0 58.2M    0     0   328"
       ]
      },
      {
       "output_type": "stream",
       "stream": "stdout",
       "text": [
        "k      0 --:--:--  0:03:01 --:--:--  317k"
       ]
      },
      {
       "output_type": "stream",
       "stream": "stdout",
       "text": [
        "\r",
        "100 58.5M    0 58.5M    0     0   328k      0 --:--:--  0:03:02 --:--:--  325k"
       ]
      },
      {
       "output_type": "stream",
       "stream": "stdout",
       "text": [
        "\r",
        "100 58.8M    0 58.8M    0     0   328k      0 --:--:--  0:03:03 --:--:--  328k"
       ]
      },
      {
       "output_type": "stream",
       "stream": "stdout",
       "text": [
        "\r",
        "100 59.1M    0 59.1M    0     0   328k      0 --:--:--  0:03:04 --:--:--  327k"
       ]
      },
      {
       "output_type": "stream",
       "stream": "stdout",
       "text": [
        "\r",
        "100 59.5M    0 59.5M    0     0   328k      0 --:--:--  0:03:05 --:--:--  329k"
       ]
      },
      {
       "output_type": "stream",
       "stream": "stdout",
       "text": [
        "\r",
        "100 59.8M    0 59.8M    0     0   328k      0 --:--:--  0:03:06 --:--:--  333k"
       ]
      },
      {
       "output_type": "stream",
       "stream": "stdout",
       "text": [
        "\r",
        "100 60.1M    0 60.1M    0     0   328k      0 --:--:--  0:03:07 --:--:--  322k"
       ]
      },
      {
       "output_type": "stream",
       "stream": "stdout",
       "text": [
        "\r",
        "100 60.4M    0 60.4M    0     0   328k      0 --:--:--  0:03:08 --:--:--  325k"
       ]
      },
      {
       "output_type": "stream",
       "stream": "stdout",
       "text": [
        "\r",
        "100 60.7M    0 60.7M    0     0   328k      0 --:--:--  0:03:09 --:--:--  311k"
       ]
      },
      {
       "output_type": "stream",
       "stream": "stdout",
       "text": [
        "\r",
        "100 61.0M    0 61.0M    0     0   327k      0 --:--:--  0:03:10 --:--:--  303k"
       ]
      },
      {
       "output_type": "stream",
       "stream": "stdout",
       "text": [
        "\r",
        "100 61.3M    0 61.3M    0     0   327k      0 --:--:--  0:03:11 --:--:--  307k"
       ]
      },
      {
       "output_type": "stream",
       "stream": "stdout",
       "text": [
        "\r",
        "100 61.6M    0 61.6M    0     0   327k      0 --:--:--  0:03:12 --:--:--  305k"
       ]
      },
      {
       "output_type": "stream",
       "stream": "stdout",
       "text": [
        "\r",
        "100 61.9M    0 61.9M    0     0   327k      0 --:--:--  0:03:13 --:--:--  303k"
       ]
      },
      {
       "output_type": "stream",
       "stream": "stdout",
       "text": [
        "\r",
        "100 62.2M    0 62.2M    0     0   327k      0 --:--:--  0:03:14 --:--:--  322k"
       ]
      },
      {
       "output_type": "stream",
       "stream": "stdout",
       "text": [
        "\r",
        "100 62.6M    0 62.6M    0     0   327k      0 --:--:--  0:03:15 --:--:--  329k"
       ]
      },
      {
       "output_type": "stream",
       "stream": "stdout",
       "text": [
        "\r",
        "100 62.9M    0 62.9M    0     0   327k      0 --:--:--  0:03:16 --:--:--  328k"
       ]
      },
      {
       "output_type": "stream",
       "stream": "stdout",
       "text": [
        "\r",
        "100 63.2M    0 63.2M    0     0   327k      0 --:--:--  0:03:17 --:--:--  329k"
       ]
      },
      {
       "output_type": "stream",
       "stream": "stdout",
       "text": [
        "\r",
        "100 63.5M    0 63.5M    0     0   327k      0 --:--:--  0:03:18 --:--:--  326k"
       ]
      },
      {
       "output_type": "stream",
       "stream": "stdout",
       "text": [
        "\r",
        "100 63.9M    0 63.9M    0     0   327k      0 --:--:--  0:03:19 --:--:--  332k"
       ]
      },
      {
       "output_type": "stream",
       "stream": "stdout",
       "text": [
        "\r",
        "100 64.1M    0 64.1M    0     0   327k      0 --:--:--  0:03:20 --:--:--  324k"
       ]
      },
      {
       "output_type": "stream",
       "stream": "stdout",
       "text": [
        "\r",
        "100 64.5M    0 64.5M    0     0   327k      0 --:--:--  0:03:21 --:--:--  327k"
       ]
      },
      {
       "output_type": "stream",
       "stream": "stdout",
       "text": [
        "\r",
        "100 64.8M    0 64.8M    0     0   327k      0 --:--:--  0:03:22 --:--:--  329k"
       ]
      },
      {
       "output_type": "stream",
       "stream": "stdout",
       "text": [
        "\r",
        "100 65.1M    0 65.1M    0     0   327k      0 --:--:--  0:03:23 --:--:--  336k"
       ]
      },
      {
       "output_type": "stream",
       "stream": "stdout",
       "text": [
        "\r",
        "100 65.4M    0 65.4M    0     0   327k      0 --:--:--  0:03:24 --:--:--  319k"
       ]
      },
      {
       "output_type": "stream",
       "stream": "stdout",
       "text": [
        "\r",
        "100 65.7M    0 65.7M    0     0   327k      0 --:--:--  0:03:25 --:--:--  324k"
       ]
      },
      {
       "output_type": "stream",
       "stream": "stdout",
       "text": [
        "\r",
        "100 66.1M    0 66.1M    0     0   327k      0 --:--:--  0:03:26 --:--:--  323k"
       ]
      },
      {
       "output_type": "stream",
       "stream": "stdout",
       "text": [
        "\r",
        "100 66.4M    0 66.4M    0     0   327k      0 --:--:--  0:03:27 --:--:--  324k"
       ]
      },
      {
       "output_type": "stream",
       "stream": "stdout",
       "text": [
        "\r",
        "100 66.7M    0 66.7M    0     0   327k      0 --:--:--  0:03:28 --:--:--  325k"
       ]
      },
      {
       "output_type": "stream",
       "stream": "stdout",
       "text": [
        "\r",
        "100 67.0M    0 67.0M    0     0   327k      0 --:--:--  0:03:29 --:--:--  327k"
       ]
      },
      {
       "output_type": "stream",
       "stream": "stdout",
       "text": [
        "\r",
        "100 67.4M    0 67.4M    0     0   327k      0 --:--:--  0:03:30 --:--:--  330k"
       ]
      },
      {
       "output_type": "stream",
       "stream": "stdout",
       "text": [
        "\r",
        "100 67.7M    0 67.7M    0     0   327k      0 --:--:--  0:03:31 --:--:--  329k"
       ]
      },
      {
       "output_type": "stream",
       "stream": "stdout",
       "text": [
        "\r",
        "100 68.0M    0 68.0M    0     0   327k      0 --:--:--  0:03:32 --:--:--  329k"
       ]
      },
      {
       "output_type": "stream",
       "stream": "stdout",
       "text": [
        "\r",
        "100 68.3M    0 68.3M    0     0   327k      0 --:--:--  0:03:33 --:--:--  327k"
       ]
      },
      {
       "output_type": "stream",
       "stream": "stdout",
       "text": [
        "\r",
        "100 68.6M    0 68.6M    0     0   327k      0 --:--:--  0:03:34 --:--:--  323k"
       ]
      },
      {
       "output_type": "stream",
       "stream": "stdout",
       "text": [
        "\r",
        "100 68.9M    0 68.9M    0     0   327k      0 --:--:--  0:03:35 --:--:--  322k"
       ]
      },
      {
       "output_type": "stream",
       "stream": "stdout",
       "text": [
        "\r",
        "100 69.3M    0 69.3M    0     0   327k      0 --:--:--  0:03:36 --:--:--  326k"
       ]
      },
      {
       "output_type": "stream",
       "stream": "stdout",
       "text": [
        "\r",
        "100 69.6M    0 69.6M    0     0   327k      0 --:--:--  0:03:37 --:--:--  326k"
       ]
      },
      {
       "output_type": "stream",
       "stream": "stdout",
       "text": [
        "\r",
        "100 69.9M    0 69.9M    0     0   327k      0 --:--:--  0:03:38 --:--:--  325k"
       ]
      },
      {
       "output_type": "stream",
       "stream": "stdout",
       "text": [
        "\r",
        "100 70.2M    0 70.2M    0     0   327k      0 --:--:--  0:03:39 --:--:--  333k"
       ]
      },
      {
       "output_type": "stream",
       "stream": "stdout",
       "text": [
        "\r",
        "100 70.5M    0 70.5M    0     0   327k      0 --:--:--  0:03:40 --:--:--  331k"
       ]
      },
      {
       "output_type": "stream",
       "stream": "stdout",
       "text": [
        "\r",
        "100 70.9M    0 70.9M    0     0   327k      0 --:--:--  0:03:41 --:--:--  331k"
       ]
      },
      {
       "output_type": "stream",
       "stream": "stdout",
       "text": [
        "\r",
        "100 71.2M    0 71.2M    0     0   327k      0 --:--:--  0:03:42 --:--:--  327k"
       ]
      },
      {
       "output_type": "stream",
       "stream": "stdout",
       "text": [
        "\r",
        "100 71.5M    0 71.5M    0     0   327k      0 --:--:--  0:03:43 --:--:--  331k"
       ]
      },
      {
       "output_type": "stream",
       "stream": "stdout",
       "text": [
        "\r",
        "100 71.8M    0 71.8M    0     0   327k      0 --:--:--  0:03:44 --:--:--  327k"
       ]
      },
      {
       "output_type": "stream",
       "stream": "stdout",
       "text": [
        "\r",
        "100 72.1M    0 72.1M    0     0   327k      0 --:--:--  0:03:45 --:--:--  327k"
       ]
      },
      {
       "output_type": "stream",
       "stream": "stdout",
       "text": [
        "\r",
        "100 72.5M    0 72.5M    0     0   327k      0 --:--:--  0:03:46 --:--:--  326k"
       ]
      },
      {
       "output_type": "stream",
       "stream": "stdout",
       "text": [
        "\r",
        "100 72.8M    0 72.8M    0     0   327k      0 --:--:--  0:03:47 --:--:--  329k"
       ]
      },
      {
       "output_type": "stream",
       "stream": "stdout",
       "text": [
        "\r",
        "100 73.2M    0 73.2M    0     0   327k      0 --:--:--  0:03:48 --:--:--  328k"
       ]
      },
      {
       "output_type": "stream",
       "stream": "stdout",
       "text": [
        "\r",
        "100 73.4M    0 73.4M    0     0   327k      0 --:--:--  0:03:49 --:--:--  330k"
       ]
      },
      {
       "output_type": "stream",
       "stream": "stdout",
       "text": [
        "\r",
        "100 73.8M    0 73.8M    0     0   327k      0 --:--:--  0:03:50 --:--:--  330k"
       ]
      },
      {
       "output_type": "stream",
       "stream": "stdout",
       "text": [
        "\r",
        "100 74.1M    0 74.1M    0     0   327k      0 --:--:--  0:03:51 --:--:--  328k"
       ]
      },
      {
       "output_type": "stream",
       "stream": "stdout",
       "text": [
        "\r",
        "100 74.4M    0 74.4M    0     0   327k      0 --:--:--  0:03:52 --:--:--  328k"
       ]
      },
      {
       "output_type": "stream",
       "stream": "stdout",
       "text": [
        "\r",
        "100 74.8M    0 74.8M    0     0   328k      0 --:--:--  0:03:53 --:--:--  329k"
       ]
      },
      {
       "output_type": "stream",
       "stream": "stdout",
       "text": [
        "\r",
        "100 75.0M    0 75.0M    0     0   327k      0 --:--:--  0:03:54 --:--:--  326k"
       ]
      },
      {
       "output_type": "stream",
       "stream": "stdout",
       "text": [
        "\r",
        "100 75.4M    0 75.4M    0     0   327k      0 --:--:--  0:03:55 --:--:--  333k"
       ]
      },
      {
       "output_type": "stream",
       "stream": "stdout",
       "text": [
        "\r",
        "100 75.7M    0 75.7M    0     0   327k      0 --:--:--  0:03:56 --:--:--  332k"
       ]
      },
      {
       "output_type": "stream",
       "stream": "stdout",
       "text": [
        "\r",
        "100 76.0M    0 76.0M    0     0   328k      0 --:--:--  0:03:57 --:--:--  333k"
       ]
      },
      {
       "output_type": "stream",
       "stream": "stdout",
       "text": [
        "\r",
        "100 76.4M    0 76.4M    0     0   327k      0 --:--:--  0:03:58 --:--:--  318k"
       ]
      },
      {
       "output_type": "stream",
       "stream": "stdout",
       "text": [
        "\r",
        "100 76.6M    0 76.6M    0     0   327k      0 --:--:--  0:03:59 --:--:--  315k"
       ]
      },
      {
       "output_type": "stream",
       "stream": "stdout",
       "text": [
        "\r",
        "100 76.9M    0 76.9M    0     0   327k      0 --:--:--  0:04:00 --:--:--  314k"
       ]
      },
      {
       "output_type": "stream",
       "stream": "stdout",
       "text": [
        "\r",
        "100 77.2M    0 77.2M    0     0   327k      0 --:--:--  0:04:01 --:--:--  313k"
       ]
      },
      {
       "output_type": "stream",
       "stream": "stdout",
       "text": [
        "\r",
        "100 77.6M    0 77.6M    0     0   327k      0 --:--:--  0:04:02 --:--:--  311k"
       ]
      },
      {
       "output_type": "stream",
       "stream": "stdout",
       "text": [
        "\r",
        "100 77.8M    0 77.8M    0     0   327k      0 --:--:--  0:04:03 --:--:--  315k"
       ]
      },
      {
       "output_type": "stream",
       "stream": "stdout",
       "text": [
        "\r",
        "100 78.2M    0 78.2M    0     0   327k      0 --:--:--  0:04:04 --:--:--  325k"
       ]
      },
      {
       "output_type": "stream",
       "stream": "stdout",
       "text": [
        "\r",
        "100 78.5M    0 78.5M    0     0   327k      0 --:--:--  0:04:05 --:--:--  320k"
       ]
      },
      {
       "output_type": "stream",
       "stream": "stdout",
       "text": [
        "\r",
        "100 78.8M    0 78.8M    0     0   327k      0 --:--:--  0:04:06 --:--:--  318k"
       ]
      },
      {
       "output_type": "stream",
       "stream": "stdout",
       "text": [
        "\r",
        "100 79.1M    0 79.1M    0     0   327k      0 --:--:--  0:04:07 --:--:--  321k"
       ]
      },
      {
       "output_type": "stream",
       "stream": "stdout",
       "text": [
        "\r",
        "100 79.5M    0 79.5M    0     0   327k      0 --:--:--  0:04:08 --:--:--  328k"
       ]
      },
      {
       "output_type": "stream",
       "stream": "stdout",
       "text": [
        "\r",
        "100 79.7M    0 79.7M    0     0   327k      0 --:--:--  0:04:09 --:--:--  323k"
       ]
      },
      {
       "output_type": "stream",
       "stream": "stdout",
       "text": [
        "\r",
        "100 80.1M    0 80.1M    0     0   327k      0 --:--:--  0:04:10 --:--:--  327k"
       ]
      },
      {
       "output_type": "stream",
       "stream": "stdout",
       "text": [
        "\r",
        "100 80.4M    0 80.4M    0     0   327k      0 --:--:--  0:04:11 --:--:--  328k"
       ]
      },
      {
       "output_type": "stream",
       "stream": "stdout",
       "text": [
        "\r",
        "100 80.7M    0 80.7M    0     0   327k      0 --:--:--  0:04:12 --:--:--  326k"
       ]
      },
      {
       "output_type": "stream",
       "stream": "stdout",
       "text": [
        "\r",
        "100 81.1M    0 81.1M    0     0   327k      0 --:--:--  0:04:13 --:--:--  327k"
       ]
      },
      {
       "output_type": "stream",
       "stream": "stdout",
       "text": [
        "\r",
        "100 81.4M    0 81.4M    0     0   327k      0 --:--:--  0:04:14 --:--:--  333k"
       ]
      },
      {
       "output_type": "stream",
       "stream": "stdout",
       "text": [
        "\r",
        "100 81.7M    0 81.7M    0     0   327k      0 --:--:--  0:04:15 --:--:--  334k"
       ]
      },
      {
       "output_type": "stream",
       "stream": "stdout",
       "text": [
        "\r",
        "100 82.0M    0 82.0M    0     0   327k      0 --:--:--  0:04:16 --:--:--  335k"
       ]
      },
      {
       "output_type": "stream",
       "stream": "stdout",
       "text": [
        "\r",
        "100 82.4M    0 82.4M    0     0   327k      0 --:--:--  0:04:17 --:--:--  332k"
       ]
      },
      {
       "output_type": "stream",
       "stream": "stdout",
       "text": [
        "\r",
        "100 82.7M    0 82.7M    0     0   327k      0 --:--:--  0:04:18 --:--:--  328k"
       ]
      },
      {
       "output_type": "stream",
       "stream": "stdout",
       "text": [
        "\r",
        "100 83.0M    0 83.0M    0     0   327k      0 --:--:--  0:04:19 --:--:--  329k"
       ]
      },
      {
       "output_type": "stream",
       "stream": "stdout",
       "text": [
        "\r",
        "100 83.3M    0 83.3M    0     0   327k      0 --:--:--  0:04:20 --:--:--  327k"
       ]
      },
      {
       "output_type": "stream",
       "stream": "stdout",
       "text": [
        "\r",
        "100 83.6M    0 83.6M    0     0   327k      0 --:--:--  0:04:21 --:--:--  328k"
       ]
      },
      {
       "output_type": "stream",
       "stream": "stdout",
       "text": [
        "\r",
        "100 84.0M    0 84.0M    0     0   327k      0 --:--:--  0:04:22 --:--:--  332k\r\n"
       ]
      }
     ],
     "prompt_number": 3
    },
    {
     "cell_type": "code",
     "collapsed": false,
     "input": [
      "!head fishfe6_oCD-HITout.fa"
     ],
     "language": "python",
     "metadata": {},
     "outputs": [
      {
       "output_type": "stream",
       "stream": "stdout",
       "text": [
        ">comp0_c0_seq1 len=526 path=[4411:0-525]\r\n",
        "TCTGTGCCGATATATATATACATGTATCTATGCACAGTCATGTTTTATCGAGTACGACTG\r\n",
        "TAAAAAAGATCCAAAGTATACTCAAAAAATCTTCAGCAAGTGAGTCCATTTGAGTATGAG\r\n",
        "AATGATATTATCAAAGTTTTAAAACAATTTAGAGCATAGAGGTTGAGTCCGTGTATGAAA\r\n",
        "ATGTGCTCAAAAAAGTAAATATAACTTCCAGGACAATTATTTTTACCGGCGTCTACTTGT\r\n",
        "ATCTGTACGTATATTAAAAGTCTTAACGGCCACTGAACGAGCCAGCCTATTTATAAACTT\r\n",
        "GTTAACGCTTCCTTAAATGGCTGTAACTGAAGCTCCAAGCAAGTACTTAGCTAGAAAACA\r\n",
        "CCCAGACGTACGTAAAAGTTTCCTTATTTACTGAAAATTTAAATGTATTCACCCAGTAGC\r\n",
        "ACCCGGGGCCTTGATGAGGCCACGATAAATCTGCTTTTCAACAACCATAATGATTTGTTA\r\n",
        "ATTCATAAGAAACACGCTCATGTATAGACTTCGATTTCAGGATAAG\r\n"
       ]
      }
     ],
     "prompt_number": 4
    },
    {
     "cell_type": "code",
     "collapsed": false,
     "input": [
      "!cat fishfe6_oCD-HITout.fa | awk '((NR-2)%4==0){read=$1;total++;count[read]++}END{for(read in count){if(!max||count[read]>max) {max=count[read];maxRead=read};if(count[read]==1){unique++}};print total,unique,unique*100/total,maxRead,count[maxRead],count[maxRead]*100/total}'\n"
     ],
     "language": "python",
     "metadata": {},
     "outputs": [
      {
       "output_type": "stream",
       "stream": "stdout",
       "text": [
        "340785 321619 94.3759 G 126 0.0369735\r\n"
       ]
      }
     ],
     "prompt_number": 5
    },
    {
     "cell_type": "code",
     "collapsed": false,
     "input": [
      "!fgrep -c \">\" fishfe6_oCD-HITout.fa"
     ],
     "language": "python",
     "metadata": {},
     "outputs": [
      {
       "output_type": "stream",
       "stream": "stdout",
       "text": [
        "81885\r\n"
       ]
      }
     ],
     "prompt_number": 6
    },
    {
     "cell_type": "heading",
     "level": 1,
     "metadata": {},
     "source": [
      "Bowtie on IPlant to get alignment"
     ]
    },
    {
     "cell_type": "code",
     "collapsed": false,
     "input": [
      "!head BowtieOut.sam"
     ],
     "language": "python",
     "metadata": {},
     "outputs": [
      {
       "output_type": "stream",
       "stream": "stdout",
       "text": [
        "^C\r\n"
       ]
      }
     ],
     "prompt_number": 10
    },
    {
     "cell_type": "code",
     "collapsed": false,
     "input": [
      "!/Volumes/Bay3/Software/BSMAP/bsmap-2.74/samtools/samtools -help"
     ],
     "language": "python",
     "metadata": {},
     "outputs": [
      {
       "output_type": "stream",
       "stream": "stdout",
       "text": [
        "[main] unrecognized command '-help'\r\n"
       ]
      }
     ],
     "prompt_number": 13
    },
    {
     "cell_type": "heading",
     "level": 1,
     "metadata": {},
     "source": [
      "Tophat on IPlant to get alignment"
     ]
    },
    {
     "cell_type": "code",
     "collapsed": false,
     "input": [
      "Visualized in IGV"
     ],
     "language": "python",
     "metadata": {},
     "outputs": []
    },
    {
     "cell_type": "markdown",
     "metadata": {},
     "source": [
      "<img src=\"http://eagle.fish.washington.edu/cnidarian/skitch/greenbird_18AA510D.png\" alt=\"greenbird_18AA510D_png\"/>"
     ]
    },
    {
     "cell_type": "heading",
     "level": 1,
     "metadata": {},
     "source": [
      "mpileup on IPlant"
     ]
    },
    {
     "cell_type": "markdown",
     "metadata": {},
     "source": [
      "![ss](http://eagle.fish.washington.edu/cnidarian/skitch/Screenshot_2_11_14_9_00_AM_18AA8EAD.png)"
     ]
    },
    {
     "cell_type": "heading",
     "level": 1,
     "metadata": {},
     "source": [
      "-- Trinity on hummingbird\n"
     ]
    },
    {
     "cell_type": "code",
     "collapsed": false,
     "input": [
      "!/usr/local/bioinformatics/trinity/Trinity.pl"
     ],
     "language": "python",
     "metadata": {},
     "outputs": [
      {
       "output_type": "stream",
       "stream": "stdout",
       "text": [
        "\r\n",
        "\r\n",
        "###############################################################################\r\n",
        "#\r\n",
        "#     ______  ____   ____  ____   ____  ______  __ __\r\n",
        "#    |      ||    \\ |    ||    \\ |    ||      ||  |  |\r\n",
        "#    |      ||  D  ) |  | |  _  | |  | |      ||  |  |\r\n",
        "#    |_|  |_||    /  |  | |  |  | |  | |_|  |_||  ~  |\r\n",
        "#      |  |  |    \\  |  | |  |  | |  |   |  |  |___, |\r\n",
        "#      |  |  |  .  \\ |  | |  |  | |  |   |  |  |     |\r\n",
        "#      |__|  |__|\\_||____||__|__||____|  |__|  |____/\r\n",
        "#\r\n",
        "###############################################################################\r\n",
        "#\r\n",
        "# Required:\r\n",
        "#\r\n",
        "#  --seqType <string>      :type of reads: ( fa, or fq )\r\n",
        "#\r\n",
        "#  --JM <string>            :(Jellyfish Memory) number of GB of system memory to use for \r\n",
        "#                            k-mer counting by jellyfish  (eg. 10G) *include the 'G' char \r\n",
        "#\r\n",
        "#  If paired reads:\r\n",
        "#      --left  <string>    :left reads, one or more (separated by space)\r\n",
        "#      --right <string>    :right reads, one or more (separated by space)\r\n",
        "#\r\n",
        "#  Or, if unpaired reads:\r\n",
        "#      --single <string>   :single reads, one or more (note, if single file contains pairs, can use flag: --run_as_paired )\r\n",
        "#\r\n",
        "####################################\r\n",
        "##  Misc:  #########################\r\n",
        "#\r\n",
        "#  --SS_lib_type <string>          :Strand-specific RNA-Seq read orientation.\r\n",
        "#                                   if paired: RF or FR,\r\n",
        "#                                   if single: F or R.   (dUTP method = RF)\r\n",
        "#                                   See web documentation.\r\n",
        "#\r\n",
        "#  --output <string>               :name of directory for output (will be\r\n",
        "#                                   created if it doesn't already exist)\r\n",
        "#                                   default( \"/Users/steven/Dropbox/Steven/ipython_nb/fish546/trinity_out_dir\" )\r\n",
        "#  --CPU <int>                     :number of CPUs to use, default: 2\r\n",
        "#  --min_contig_length <int>       :minimum assembled contig length to report\r\n",
        "#                                   (def=200)\r\n",
        "#  --genome_guided                 :set to genome guided mode, only retains assembly fasta file.\r\n",
        "#  --jaccard_clip                  :option, set if you have paired reads and\r\n",
        "#                                   you expect high gene density with UTR\r\n",
        "#                                   overlap (use FASTQ input file format\r\n",
        "#                                   for reads).\r\n",
        "#                                   (note: jaccard_clip is an expensive\r\n",
        "#                                   operation, so avoid using it unless\r\n",
        "#                                   necessary due to finding excessive fusion\r\n",
        "#                                   transcripts w/o it.)\r\n",
        "#  \r\n",
        "#  --prep                          :Only prepare files (high I/O usage) and stop before kmer counting.\r\n",
        "#\r\n",
        "#  --no_cleanup                    :retain all intermediate input files.\r\n",
        "#  --full_cleanup                  :only retain the Trinity fasta file, rename as ${output_dir}.Trinity.fasta\r\n",
        "#\r\n",
        "#  --cite                          :show the Trinity literature citation\r\n",
        "#\r\n",
        "#  --version                       :reports Trinity version (Trinityrnaseq_r20131110) and exits.\r\n",
        "#\r\n",
        "####################################################\r\n",
        "# Inchworm and K-mer counting-related options: #####\r\n",
        "#\r\n",
        "#  --min_kmer_cov <int>           :min count for K-mers to be assembled by\r\n",
        "#                                  Inchworm (default: 1)\r\n",
        "#  --inchworm_cpu <int>           :number of CPUs to use for Inchworm, default is min(6, --CPU option)\r\n",
        "#\r\n",
        "#  --no_run_inchworm              :stop after running jellyfish, before inchworm.\r\n",
        "#\r\n",
        "###################################\r\n",
        "# Chrysalis-related options: ######\r\n",
        "#\r\n",
        "#  --max_reads_per_graph <int>    :maximum number of reads to anchor within\r\n",
        "#                                  a single graph (default: 200000)\r\n",
        "#  --no_run_chrysalis             :stop Trinity after Inchworm and before\r\n",
        "#                                  running Chrysalis\r\n",
        "#  --no_run_quantifygraph         :stop Trinity just before running the\r\n",
        "#                                  parallel QuantifyGraph computes, to\r\n",
        "#                                  leverage a compute farm and massively\r\n",
        "#                                  parallel execution..\r\n",
        "#\r\n",
        "#  --chrysalis_output <string>    :name of directory for chrysalis output (will be\r\n",
        "#                                  created if it doesn't already exist)\r\n",
        "#                                  default( \"chrysalis\" )\r\n",
        "#\r\n",
        "#  --no_bowtie                    :dont run bowtie to use pair info in chrysalis clustering.\r\n",
        "#\r\n",
        "#####################################\r\n",
        "###  Butterfly-related options:  ####\r\n",
        "#\r\n",
        "#  --bfly_opts <string>            :additional parameters to pass through to butterfly\r\n",
        "#                                   (see butterfly options: java -jar Butterfly.jar ).\r\n",
        "#                                   (note: only for expert or experimental use.  Commonly used parameters are exposed through this Trinity menu here).\r\n",
        "#\r\n",
        "#    //////////////////////////////////\r\n",
        "#    Alternative reconstruction modes:\r\n",
        "#                                  Default mode is the 'regular' Butterfly transcript reconstruction by graph node extension.\r\n",
        "#\r\n",
        "#       --PasaFly                  PASA-like algorithm for maximally-supported isoforms (conservative reconstructions, fewer isoforms)\r\n",
        "#           or\r\n",
        "#       --CuffFly                  Cufflinks-like algorithm to report minimum transcripts (fewest isoforms)\r\n",
        "#\r\n",
        "#\r\n",
        "#  Butterfly read-pair grouping settings (used for all reconstruction modes to define 'pair paths'):\r\n",
        "#\r\n",
        "#  --group_pairs_distance <int>    :maximum length expected between fragment pairs (default: 500)\r\n",
        "#                                   (reads outside this distance are treated as single-end)\r\n",
        "#\r\n",
        "#  ///////////////////////////////////////////////\r\n",
        "#  Butterfly default reconstruction mode settings. (no CuffFly or PasaFly custom settings are currently available).\r\n",
        "#                                   \r\n",
        "#  --path_reinforcement_distance <int>   :minimum overlap of reads with growing transcript \r\n",
        "#                                         path (default: PE: 75, SE: 25)\r\n",
        "#                                         Set to 1 for the most lenient path extension requirements.\r\n",
        "#\r\n",
        "#  --triplet_lock               : (increase stringency of regular butterfly reconstruction)\r\n",
        "#                                  lock triplet-supported nodes: node 'c' having read path 'A-B-C' disables 'Z-B-C' if no such read support exists.\r\n",
        "#\r\n",
        "#  --extended_lock              : (further increase the stringency of regular butterfy reconstruction) \r\n",
        "#                                  extend the triplet lock to include longer range read path information.\r\n",
        "#                                 ex.  in extending path 'A-B-Z' to 'A-B-Z-D', we only find read support for 'A-B-C-D', that 'A-B-Z' extension to 'D' will be blocked.\r\n",
        "#                                  (assumes --triplet_lock)\r\n",
        "#\r\n",
        "#  /////////////////////////////////////////\r\n",
        "#  Butterfly transcript reduction settings:\r\n",
        "#\r\n",
        "#  --no_path_merging            : all transcript candidates are output (including SNP variations, however, some SNPs may be unphased)  \r\n",
        "#\r\n",
        "#  By default, alternative transcript candidates are merged (in reality, discarded) if they are found to be too similar, according to the following logic:\r\n",
        "#\r\n",
        "#  (identity=(numberOfMatches/shorterLen) > 95.0% or if we have <= 2 mismatches) and if we have internal gap lengths <= 10\r\n",
        "#\r\n",
        "#  with parameters as:\r\n",
        "#      \r\n",
        "#      --min_per_id_same_path <int>          default: 95     min percent identity for two paths to be merged into single paths\r\n",
        "#      --max_diffs_same_path <int>           default: 2      max allowed differences encountered between path sequences to combine them\r\n",
        "#      --max_internal_gap_same_path <int>    default: 10     maximum number of internal consecutive gap characters allowed for paths to be merged into single paths.\r\n",
        "#\r\n",
        "#      If, in a comparison between two alternative transcripts, they are found too similar, the transcript with the greatest cumulative \r\n",
        "#      compatible read (pair-path) support is retained, and the other is discarded.\r\n",
        "#\r\n",
        "#\r\n",
        "#  //////////////////////////////////////////////\r\n",
        "#  Butterfly Java and parallel execution settings.\r\n",
        "#\r\n",
        "#  --bflyHeapSpaceMax <string>     :java max heap space setting for butterfly\r\n",
        "#                                   (default: 10G) => yields command\r\n",
        "#                  'java -Xmx10G -jar Butterfly.jar ... $bfly_opts'\r\n",
        "#  --bflyHeapSpaceInit <string>    :java initial hap space settings for\r\n",
        "#                                   butterfly (default: 1G) => yields command\r\n",
        "#                  'java -Xms1G -jar Butterfly.jar ... $bfly_opts'\r\n",
        "#  --bflyGCThreads <int>           :threads for garbage collection\r\n",
        "#                                   (default, not specified, so java decides)\r\n",
        "#  --bflyCPU <int>                 :CPUs to use (default will be normal \r\n",
        "#                                   number of CPUs; e.g., 2)\r\n",
        "#  --bflyCalculateCPU              :Calculate CPUs based on 80% of max_memory\r\n",
        "#                                   divided by maxbflyHeapSpaceMax\r\n",
        "#  --no_run_butterfly              :stops after the Chrysalis stage. You'll\r\n",
        "#                                   need to run the Butterfly computes\r\n",
        "#                                   separately, such as on a computing grid.\r\n",
        "#                  Then, concatenate all the Butterfly assemblies by running:\r\n",
        "#                  'find trinity_out_dir/ -name \"*allProbPaths.fasta\" \r\n",
        "#                   -exec cat {} + > trinity_out_dir/Trinity.fasta'\r\n",
        "#\r\n",
        "#################################\r\n",
        "# Grid-computing options: #######\r\n",
        "#\r\n",
        "#  --grid_computing_module <string>  : Perl module in /usr/local/bioinformatics/trinityrnaseq_r20131110/PerlLibAdaptors/ \r\n",
        "#                                      that implements 'run_on_grid()' \r\n",
        "#                                      for naively parallel cmds. (eg. 'BroadInstGridRunner')\r\n",
        "#\r\n",
        "#\r\n",
        "###############################################################################\r\n",
        "#\r\n",
        "#  *Note, a typical Trinity command might be:\r\n",
        "#        Trinity.pl --seqType fq --JM 100G --left reads_1.fq  --right reads_2.fq --CPU 6\r\n",
        "#\r\n",
        "#     see: /usr/local/bioinformatics/trinityrnaseq_r20131110/sample_data/test_Trinity_Assembly/\r\n",
        "#          for sample data and 'runMe.sh' for example Trinity execution\r\n",
        "#     For more details, visit: http://trinityrnaseq.sf.net\r\n",
        "#\r\n",
        "###############################################################################\r\n",
        "\r\n",
        "\r\n",
        "\r\n",
        "\r\n",
        "\r\n"
       ]
      }
     ],
     "prompt_number": 3
    },
    {
     "cell_type": "code",
     "collapsed": false,
     "input": [
      "cd /Volumes/Data/sr320_scratch/"
     ],
     "language": "python",
     "metadata": {},
     "outputs": [
      {
       "output_type": "stream",
       "stream": "stdout",
       "text": [
        "/Volumes/Data/sr320_scratch\n"
       ]
      }
     ],
     "prompt_number": 2
    },
    {
     "cell_type": "code",
     "collapsed": false,
     "input": [
      "pwd"
     ],
     "language": "python",
     "metadata": {},
     "outputs": [
      {
       "metadata": {},
       "output_type": "pyout",
       "prompt_number": 3,
       "text": [
        "u'/Volumes/Data/sr320_scratch'"
       ]
      }
     ],
     "prompt_number": 3
    },
    {
     "cell_type": "raw",
     "metadata": {},
     "source": [
      "!/usr/local/bioinformatics/trinity/Trinity.pl -seqType fq --JM 20G --left 3filtered_106A_Female_Mix_GATCAG_L004_R1.fastq --right 3filtered_106A_Female_Mix_GATCAG_L004_R2.fastq  --CPU 14 --output /Volumes/Data/sr320_scratch/trinity_out_dir "
     ]
    },
    {
     "cell_type": "code",
     "collapsed": false,
     "input": [],
     "language": "python",
     "metadata": {},
     "outputs": []
    }
   ],
   "metadata": {}
  }
 ]
}