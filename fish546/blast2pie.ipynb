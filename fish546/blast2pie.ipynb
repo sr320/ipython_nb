{
 "metadata": {
  "name": ""
 },
 "nbformat": 3,
 "nbformat_minor": 0,
 "worksheets": [
  {
   "cells": [
    {
     "cell_type": "heading",
     "level": 2,
     "metadata": {},
     "source": [
      "Setting up Variables"
     ]
    },
    {
     "cell_type": "markdown",
     "metadata": {},
     "source": [
      "Assumptions are that you are working in a directory with fasta file named `query.fa`. And blast algorithms are in PATH."
     ]
    },
    {
     "cell_type": "code",
     "collapsed": false,
     "input": [
      "#Setting Working Directory\n",
      "wd=\"/Volumes/web/whale/fish546/pipeline_test_dir\"\n",
      "#Setting directory of Blast Databases\n",
      "dbd=\"/Volumes/Bay3/Software/ncbi-blast-2.2.29\\+/db/\"\n",
      "#Database name\n",
      "dbn=\"uniprot_sprot_r2013_12\"\n",
      "#Blast algorithim\n",
      "ba=\"blastx\"\n",
      "#Location of SQLShare python tools: you can empty (\"\") if tools are in PATH\n",
      "spd=\"/Users/sr320/sqlshare-pythonclient/tools/\""
     ],
     "language": "python",
     "metadata": {},
     "outputs": [],
     "prompt_number": 22
    },
    {
     "cell_type": "code",
     "collapsed": false,
     "input": [
      "cd {wd}"
     ],
     "language": "python",
     "metadata": {},
     "outputs": [
      {
       "output_type": "stream",
       "stream": "stdout",
       "text": [
        "/Volumes/web/whale/fish546/pipeline_test_dir\n"
       ]
      }
     ],
     "prompt_number": 23
    },
    {
     "cell_type": "code",
     "collapsed": false,
     "input": [
      "!{ba} -query query.fa -db {dbd}{dbn} -out {dbn}_{ba}_out.tab -evalue 1E-50 -num_threads 4 -max_hsps_per_subject 1 -max_target_seqs 1 -outfmt 6"
     ],
     "language": "python",
     "metadata": {},
     "outputs": [
      {
       "output_type": "stream",
       "stream": "stdout",
       "text": [
        "Selenocysteine (U) at position 52 replaced by X\r\n",
        "Selenocysteine (U) at position 49 replaced by X\r\n"
       ]
      },
      {
       "output_type": "stream",
       "stream": "stdout",
       "text": [
        "Selenocysteine (U) at position 47 replaced by X\r\n",
        "Selenocysteine (U) at position 47 replaced by X\r\n",
        "Selenocysteine (U) at position 47 replaced by X\r\n",
        "Selenocysteine (U) at position 47 replaced by X\r\n",
        "Selenocysteine (U) at position 47 replaced by X\r\n",
        "Selenocysteine (U) at position 40 replaced by X\r\n",
        "Selenocysteine (U) at position 40 replaced by X\r\n",
        "Selenocysteine (U) at position 40 replaced by X\r\n",
        "Selenocysteine (U) at position 40 replaced by X\r\n"
       ]
      },
      {
       "output_type": "stream",
       "stream": "stdout",
       "text": [
        "Selenocysteine (U) at position 690 replaced by X\r\n",
        "Selenocysteine (U) at position 690 replaced by X\r\n",
        "Selenocysteine (U) at position 667 replaced by X\r\n",
        "Selenocysteine (U) at position 667 replaced by X\r\n",
        "Selenocysteine (U) at position 665 replaced by X\r\n",
        "Selenocysteine (U) at position 665 replaced by X\r\n"
       ]
      },
      {
       "output_type": "stream",
       "stream": "stdout",
       "text": [
        "^C\r\n"
       ]
      }
     ],
     "prompt_number": 15
    },
    {
     "cell_type": "code",
     "collapsed": false,
     "input": [
      "!head -1 {dbn}_{ba}_out.tab"
     ],
     "language": "python",
     "metadata": {},
     "outputs": [
      {
       "output_type": "stream",
       "stream": "stdout",
       "text": [
        "ConsensusfromContig5\tsp|Q9JHQ5|LZTL1_MOUSE\t74.40\t125\t31\t1\t7\t378\t24\t148\t1e-59\t 192\r\n"
       ]
      }
     ],
     "prompt_number": 16
    },
    {
     "cell_type": "code",
     "collapsed": false,
     "input": [
      "#Translate pipes to tab so SPID is in separate column for Joining\n",
      "!tr '|' \"\\t\" <{dbn}_{ba}_out.tab> {dbn}_{ba}_out2.tab"
     ],
     "language": "python",
     "metadata": {},
     "outputs": [],
     "prompt_number": 17
    },
    {
     "cell_type": "code",
     "collapsed": false,
     "input": [
      "!head -1 {dbn}_{ba}_out2.tab"
     ],
     "language": "python",
     "metadata": {},
     "outputs": [
      {
       "output_type": "stream",
       "stream": "stdout",
       "text": [
        "ConsensusfromContig5\tsp\tQ9JHQ5\tLZTL1_MOUSE\t74.40\t125\t31\t1\t7\t378\t24\t148\t1e-59\t 192\r\n"
       ]
      }
     ],
     "prompt_number": 24
    },
    {
     "cell_type": "code",
     "collapsed": false,
     "input": [
      "!python {spd}singleupload.py -d {dbn}_{ba}_out2.tab {dbn}_{ba}_out2.tab"
     ],
     "language": "python",
     "metadata": {},
     "outputs": [
      {
       "output_type": "stream",
       "stream": "stdout",
       "text": [
        "processing chunk line 0 to 106 (0.000654935836792 s elapsed)\r\n",
        "pushing uniprot_sprot_r2013_12_blastx_out2.tab...\r\n"
       ]
      }
     ],
     "prompt_number": "*"
    },
    {
     "cell_type": "raw",
     "metadata": {},
     "source": [
      "!python {spd}fetchdata.py -s \"SELECT * FROM [sr320@washington.edu].[test_uniprot_blastx_out]blast Left Join [samwhite@washington.edu].[UniprotProtNamesReviewed_yes20130610]unp ON blast.Column3 = unp.SPID\" -o uniprot_join.csv"
     ]
    },
    {
     "cell_type": "code",
     "collapsed": false,
     "input": [
      "!head uniprot_join.csv"
     ],
     "language": "python",
     "metadata": {},
     "outputs": [
      {
       "output_type": "stream",
       "stream": "stdout",
       "text": [
        "Column1,Column2,Column3,Column4,Column5,Column6,Column7,Column8,Column9,Column10,Column11,Column12,Column13,Column14,SPID,Status,ProteinName,GeneName,Organism,Length\r",
        "\r\n",
        "solid0078_20110412_FRAG_BC_WHITE_WHITE_F3_QV_SE_trimmed_contig_3,sp,O42248,GBLP_DANRE,82.46,171,30,0,1,513,35,205,2E-104,309,O42248,reviewed,Guanine nucleotide-binding protein subunit beta-2-like 1 (Receptor of activated protein kinase C) (RACK),gnb2l1 rack1,Danio rerio (Zebrafish) (Brachydanio rerio),317\r",
        "\r\n",
        "solid0078_20110412_FRAG_BC_WHITE_WHITE_F3_QV_SE_trimmed_contig_32,sp,Q641Y2,NDUS2_RAT,88.03,117,14,0,2,352,334,450,1E-68,219,Q641Y2,reviewed,\"\"\"NADH dehydrogenase [ubiquinone] iron-sulfur protein 2, mitochondrial (EC 1.6.5.3) (EC 1.6.99.3) (Complex I-49kD) (CI-49kD) (NADH-ubiquinone oxidoreductase 49 kDa subunit)\"\"\",Ndufs2,Rattus norvegicus (Rat),463\r",
        "\r\n",
        "solid0078_20110412_FRAG_BC_WHITE_WHITE_F3_QV_SE_trimmed_contig_40,sp,P46778,RL21_HUMAN,68.89,135,42,0,17,421,1,135,5E-66,204,P46778,reviewed,60S ribosomal protein L21,RPL21,Homo sapiens (Human),160\r",
        "\r\n",
        "solid0078_20110412_FRAG_BC_WHITE_WHITE_F3_QV_SE_trimmed_contig_41,sp,Q3SZ90,RL13A_BOVIN,70.59,153,45,0,3,461,16,168,4E-73,225,Q3SZ90,reviewed,60S ribosomal protein L13a,RPL13A,Bos taurus (Bovine),203\r",
        "\r\n",
        "solid0078_20110412_FRAG_BC_WHITE_WHITE_F3_QV_SE_trimmed_contig_57,sp,Q05825,ATPB_DROME,91.1,382,34,0,3,1148,63,444,0,648,Q05825,reviewed,\"\"\"ATP synthase subunit beta, mitochondrial (EC 3.6.3.14)\"\"\",ATPsyn-beta CG11154,Drosophila melanogaster (Fruit fly),505\r",
        "\r\n",
        "solid0078_20110412_FRAG_BC_WHITE_WHITE_F3_QV_SE_trimmed_contig_68,sp,O01802,RL7_CAEEL,61.81,199,76,0,1,597,42,240,3E-92,276,O01802,reviewed,60S ribosomal protein L7,rpl-7 F53G12.10,Caenorhabditis elegans,244\r",
        "\r\n",
        "solid0078_20110412_FRAG_BC_WHITE_WHITE_F3_QV_SE_trimmed_contig_77,sp,P49393,RS13_XENLA,94.25,87,5,0,3,263,40,126,2E-51,164,P49393,reviewed,40S ribosomal protein S13,rps13,Xenopus laevis (African clawed frog),151\r",
        "\r\n",
        "solid0078_20110412_FRAG_BC_WHITE_WHITE_F3_QV_SE_trimmed_contig_85,sp,P02993,EF1A_ARTSA,90.07,141,14,0,1,423,56,196,4E-84,260,P02993,reviewed,Elongation factor 1-alpha (EF-1-alpha),,Artemia salina (Brine shrimp),462\r",
        "\r\n"
       ]
      }
     ],
     "prompt_number": 35
    },
    {
     "cell_type": "raw",
     "metadata": {},
     "source": [
      "\n",
      "Yes you can declare variables in the command line use a \"=\" to set it and just make sure that you have a \"$\" when you want to refer to them.   The spacing matters.  I like to use them to save file paths with to make working in a single directory easier on hyak.   +Giles Goetz told me to wrap them with curly braces but I have seen examples that don't use them.\n",
      " \n",
      "works like this...\n",
      "Line 1:  test=\"This is not a test.\"\n",
      "Line2: echo ${test}\n",
      "\n",
      "Should come back as \"This is not a test.\"\ufeff"
     ]
    }
   ],
   "metadata": {}
  }
 ]
}