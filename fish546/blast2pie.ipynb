{
 "metadata": {
  "name": ""
 },
 "nbformat": 3,
 "nbformat_minor": 0,
 "worksheets": [
  {
   "cells": [
    {
     "cell_type": "heading",
     "level": 2,
     "metadata": {},
     "source": [
      "Setting up Variables"
     ]
    },
    {
     "cell_type": "markdown",
     "metadata": {},
     "source": [
      "Assumptions are that you are working in a directory with fasta file named `query.fa`. And blast algorithms are in PATH."
     ]
    },
    {
     "cell_type": "code",
     "collapsed": false,
     "input": [
      "#Setting Working Directory\n",
      "wd=\"/Volumes/web/whale/fish546/pipeline_test_dir2\"\n",
      "#Setting directory of Blast Databases\n",
      "dbd=\"/Volumes/Bay3/Software/ncbi-blast-2.2.29\\+/db/\"\n",
      "#Database name\n",
      "dbn=\"uniprot_sprot_r2013_12\"\n",
      "#Blast algorithim\n",
      "ba=\"blastx\"\n",
      "#Location of SQLShare python tools: you can empty (\"\") if tools are in PATH\n",
      "spd=\"/Users/sr320/sqlshare-pythonclient/tools/\""
     ],
     "language": "python",
     "metadata": {},
     "outputs": [],
     "prompt_number": 23
    },
    {
     "cell_type": "code",
     "collapsed": false,
     "input": [
      "cd {wd}"
     ],
     "language": "python",
     "metadata": {},
     "outputs": [
      {
       "output_type": "stream",
       "stream": "stdout",
       "text": [
        "/Volumes/web/whale/fish546/pipeline_test_dir2\n"
       ]
      }
     ],
     "prompt_number": 24
    },
    {
     "cell_type": "code",
     "collapsed": false,
     "input": [
      "!{ba} -query query.fa -db {dbd}{dbn} -out {dbn}_{ba}_out.tab -evalue 1E-50 -num_threads 4 -max_hsps_per_subject 1 -max_target_seqs 1 -outfmt 6"
     ],
     "language": "python",
     "metadata": {},
     "outputs": [
      {
       "output_type": "stream",
       "stream": "stdout",
       "text": [
        "Selenocysteine (U) at position 52 replaced by X\r\n",
        "Selenocysteine (U) at position 49 replaced by X\r\n",
        "Selenocysteine (U) at position 47 replaced by X\r\n",
        "Selenocysteine (U) at position 47 replaced by X\r\n",
        "Selenocysteine (U) at position 47 replaced by X\r\n",
        "Selenocysteine (U) at position 47 replaced by X\r\n",
        "Selenocysteine (U) at position 47 replaced by X\r\n",
        "Selenocysteine (U) at position 40 replaced by X\r\n",
        "Selenocysteine (U) at position 40 replaced by X\r\n",
        "Selenocysteine (U) at position 40 replaced by X\r\n",
        "Selenocysteine (U) at position 40 replaced by X\r\n"
       ]
      },
      {
       "output_type": "stream",
       "stream": "stdout",
       "text": [
        "Selenocysteine (U) at position 690 replaced by X\r\n",
        "Selenocysteine (U) at position 690 replaced by X\r\n",
        "Selenocysteine (U) at position 667 replaced by X\r\n",
        "Selenocysteine (U) at position 667 replaced by X\r\n",
        "Selenocysteine (U) at position 665 replaced by X\r\n",
        "Selenocysteine (U) at position 665 replaced by X\r\n"
       ]
      },
      {
       "output_type": "stream",
       "stream": "stdout",
       "text": [
        "^C\r\n"
       ]
      }
     ],
     "prompt_number": 60
    },
    {
     "cell_type": "code",
     "collapsed": false,
     "input": [
      "!head -1 {dbn}_{ba}_out.tab"
     ],
     "language": "python",
     "metadata": {},
     "outputs": [
      {
       "output_type": "stream",
       "stream": "stdout",
       "text": [
        "ConsensusfromContig5\tsp|Q9JHQ5|LZTL1_MOUSE\t74.40\t125\t31\t1\t7\t378\t24\t148\t1e-59\t 192\r\n"
       ]
      }
     ],
     "prompt_number": 25
    },
    {
     "cell_type": "code",
     "collapsed": false,
     "input": [
      "#Translate pipes to tab so SPID is in separate column for Joining\n",
      "!tr '|' \"\\t\" <{dbn}_{ba}_out.tab> {dbn}_{ba}_out2.tab"
     ],
     "language": "python",
     "metadata": {},
     "outputs": [],
     "prompt_number": 26
    },
    {
     "cell_type": "code",
     "collapsed": false,
     "input": [
      "!head -1 {dbn}_{ba}_out2.tab"
     ],
     "language": "python",
     "metadata": {},
     "outputs": [
      {
       "output_type": "stream",
       "stream": "stdout",
       "text": [
        "ConsensusfromContig5\tsp\tQ9JHQ5\tLZTL1_MOUSE\t74.40\t125\t31\t1\t7\t378\t24\t148\t1e-59\t 192\r\n"
       ]
      }
     ],
     "prompt_number": 27
    },
    {
     "cell_type": "code",
     "collapsed": false,
     "input": [
      "#Uploads formatted blast table to SQLshare; currently has generic name and meant to be temporary: Warning will overwrite.\n",
      "!python {spd}singleupload.py -d scratchblast_out {dbn}_{ba}_out2.tab"
     ],
     "language": "python",
     "metadata": {},
     "outputs": [
      {
       "output_type": "stream",
       "stream": "stdout",
       "text": [
        "processing chunk line 0 to 40 (0.00313496589661 s elapsed)\r\n",
        "pushing uniprot_sprot_r2013_12_blastx_out2.tab...\r\n"
       ]
      },
      {
       "output_type": "stream",
       "stream": "stdout",
       "text": [
        "parsing A8B22F78...\r\n"
       ]
      },
      {
       "output_type": "stream",
       "stream": "stdout",
       "text": [
        "finished scratchblast_out\r\n"
       ]
      }
     ],
     "prompt_number": 64
    },
    {
     "cell_type": "code",
     "collapsed": false,
     "input": [
      "!python {spd}fetchdata.py -s \"SELECT * FROM [sr320@washington.edu].[scratchblast_out]blast Left Join [sr320@washington.edu].[uniprot-reviewed_wGO_010714]unp ON blast.Column3 = unp.Entry Left Join [sr320@washington.edu].[SPID and GO Numbers]go ON unp.Entry = go.SPID Left Join [sr320@washington.edu].[GO_to_GOslim]slim ON slim.GO_id = go.GOID\" -f tsv -o {dbn}_join2goslim.txt"
     ],
     "language": "python",
     "metadata": {},
     "outputs": [],
     "prompt_number": 121
    },
    {
     "cell_type": "code",
     "collapsed": false,
     "input": [
      "!head -2 {dbn}_join2goslim.txt"
     ],
     "language": "python",
     "metadata": {},
     "outputs": [
      {
       "output_type": "stream",
       "stream": "stdout",
       "text": [
        "Column1\tColumn2\tColumn3\tColumn4\tColumn5\tColumn6\tColumn7\tColumn8\tColumn9\tColumn10\tColumn11\tColumn12\tColumn13\tColumn14\tEntry\tEntry name\tGene ontology IDs\tInteracts with\tCross-reference (GO)\tGene ontology (GO)\tStatus\tInterPro\tPathway\tProtein names\tGene names\tOrganism\tLength\tSPID\tGOID\tGO_id\tterm\tGOSlim_bin\taspect\r",
        "\r\n",
        "ConsensusfromContig10\tsp\tQ9PVZ4\tINSR_XENLA\t59.65\t171\t65\t2\t83\t586\t255\t424\t6E-67\t228\tQ9PVZ4\tINSR_XENLA\tGO:0005524; GO:0051425; GO:0042169; GO:0043559; GO:0043560; GO:0005009; GO:0005887; GO:0007275; GO:0043548; GO:0046777; GO:0051290\t\t\tATP binding; PTB domain binding; SH2 domain binding; insulin binding; insulin receptor substrate binding; insulin-activated receptor activity; integral to plasma membrane; multicellular organismal development; phosphatidylinositol 3-kinase binding; protein autophosphorylation; protein heterotetramerization\treviewed\tIPR000494; IPR003961; IPR006211; IPR006212; IPR009030; IPR013783; IPR011009; IPR000719; IPR017441; IPR001245; IPR008266; IPR020635; IPR016246; IPR002011;\t\tInsulin receptor (IR) (EC 2.7.10.1) (XTK-1b) (Xe-InsR) [Cleaved into: Insulin receptor subunit alpha; Insulin receptor subunit beta]\tinsr\tXenopus laevis (African clawed frog)\t1362\tQ9PVZ4\tGO:0000166\tGO:0000166\tnucleotide binding\tother molecular function\tF\r",
        "\r\n"
       ]
      }
     ],
     "prompt_number": 28
    },
    {
     "cell_type": "code",
     "collapsed": false,
     "input": [
      "!python {spd}singleupload.py -d scratchjoin_slim {dbn}_join2goslim.txt"
     ],
     "language": "python",
     "metadata": {},
     "outputs": [
      {
       "output_type": "stream",
       "stream": "stdout",
       "text": [
        "processing chunk line 0 to 524 (0.0025041103363 s elapsed)\r\n",
        "pushing uniprot_sprot_r2013_12_join2goslim.txt...\r\n"
       ]
      },
      {
       "output_type": "stream",
       "stream": "stdout",
       "text": [
        "parsing 5E6BED79...\r\n"
       ]
      },
      {
       "output_type": "stream",
       "stream": "stdout",
       "text": [
        "finished scratchjoin_slim\r\n"
       ]
      }
     ],
     "prompt_number": 123
    },
    {
     "cell_type": "code",
     "collapsed": false,
     "input": [
      "!python {spd}fetchdata.py -s \"SELECT Distinct Column1 as query, Column3 as SPID, GOSlim_bin FROM [sr320@washington.edu].[scratchjoin_slim] Where aspect = 'P'\" -f tsv -o justslim.txt"
     ],
     "language": "python",
     "metadata": {},
     "outputs": [],
     "prompt_number": 154
    },
    {
     "cell_type": "code",
     "collapsed": false,
     "input": [
      "!head justslim.txt"
     ],
     "language": "python",
     "metadata": {},
     "outputs": [
      {
       "output_type": "stream",
       "stream": "stdout",
       "text": [
        "query\tSPID\tGOSlim_bin\r",
        "\r\n",
        "ConsensusfromContig10\tQ9PVZ4\tcell organization and biogenesis\r",
        "\r\n",
        "ConsensusfromContig10\tQ9PVZ4\tdevelopmental processes\r",
        "\r\n",
        "ConsensusfromContig10\tQ9PVZ4\tother metabolic processes\r",
        "\r\n",
        "ConsensusfromContig10\tQ9PVZ4\tprotein metabolism\r",
        "\r\n",
        "ConsensusfromContig10\tQ9PVZ4\tsignal transduction\r",
        "\r\n",
        "ConsensusfromContig107\tQ5R8W6\tdeath\r",
        "\r\n",
        "ConsensusfromContig107\tQ5R8W6\tRNA metabolism\r",
        "\r\n",
        "ConsensusfromContig107\tQ5R8W6\tstress response\r",
        "\r\n",
        "ConsensusfromContig117\tA6QR55\tother biological processes\r",
        "\r\n"
       ]
      }
     ],
     "prompt_number": 29
    },
    {
     "cell_type": "code",
     "collapsed": false,
     "input": [
      "!python {spd}singleupload.py -d scratchpie justslim.txt"
     ],
     "language": "python",
     "metadata": {},
     "outputs": [
      {
       "output_type": "stream",
       "stream": "stdout",
       "text": [
        "processing chunk line 0 to 88 (0.00108480453491 s elapsed)\r\n",
        "pushing justslim.txt...\r\n"
       ]
      },
      {
       "output_type": "stream",
       "stream": "stdout",
       "text": [
        "parsing B7C2B72D...\r\n"
       ]
      },
      {
       "output_type": "stream",
       "stream": "stdout",
       "text": [
        "finished scratchpie\r\n"
       ]
      }
     ],
     "prompt_number": 158
    },
    {
     "cell_type": "code",
     "collapsed": false,
     "input": [
      "!python {spd}fetchdata.py -s \"SELECT GOSlim_bin, COUNT(GOSlim_bin) as termcount from [sr320@washington.edu].[scratchpie] Group by GOSlim_bin\" -f tsv -o justpie.txt"
     ],
     "language": "python",
     "metadata": {},
     "outputs": [],
     "prompt_number": 30
    },
    {
     "cell_type": "code",
     "collapsed": false,
     "input": [
      "#for now have to add file name\n",
      "from pandas import *\n",
      "\n",
      "# read data from data file into a pandas DataFrame  \n",
      "slimpie = read_table(\"justpie.txt\", # name of the data file\n",
      "            #sep=\",\", # what character separates each column?\n",
      "            na_values=[\"\", \" \"]) # what values should be considered \"blank\" values?"
     ],
     "language": "python",
     "metadata": {},
     "outputs": [],
     "prompt_number": 40
    },
    {
     "cell_type": "code",
     "collapsed": false,
     "input": [
      "slimpie.head()"
     ],
     "language": "python",
     "metadata": {},
     "outputs": [
      {
       "html": [
        "<div style=\"max-height:1000px;max-width:1500px;overflow:auto;\">\n",
        "<table border=\"1\" class=\"dataframe\">\n",
        "  <thead>\n",
        "    <tr style=\"text-align: right;\">\n",
        "      <th></th>\n",
        "      <th>GOSlim_bin</th>\n",
        "      <th>termcount</th>\n",
        "    </tr>\n",
        "  </thead>\n",
        "  <tbody>\n",
        "    <tr>\n",
        "      <th>0</th>\n",
        "      <td>                    cell adhesion</td>\n",
        "      <td> 1</td>\n",
        "    </tr>\n",
        "    <tr>\n",
        "      <th>1</th>\n",
        "      <td>     cell cycle and proliferation</td>\n",
        "      <td> 1</td>\n",
        "    </tr>\n",
        "    <tr>\n",
        "      <th>2</th>\n",
        "      <td> cell organization and biogenesis</td>\n",
        "      <td> 6</td>\n",
        "    </tr>\n",
        "    <tr>\n",
        "      <th>3</th>\n",
        "      <td>              cell-cell signaling</td>\n",
        "      <td> 1</td>\n",
        "    </tr>\n",
        "    <tr>\n",
        "      <th>4</th>\n",
        "      <td>                            death</td>\n",
        "      <td> 2</td>\n",
        "    </tr>\n",
        "  </tbody>\n",
        "</table>\n",
        "</div>"
       ],
       "metadata": {},
       "output_type": "pyout",
       "prompt_number": 59,
       "text": [
        "                         GOSlim_bin  termcount\n",
        "0                     cell adhesion          1\n",
        "1      cell cycle and proliferation          1\n",
        "2  cell organization and biogenesis          6\n",
        "3               cell-cell signaling          1\n",
        "4                             death          2"
       ]
      }
     ],
     "prompt_number": 59
    },
    {
     "cell_type": "code",
     "collapsed": false,
     "input": [
      "slimpie"
     ],
     "language": "python",
     "metadata": {},
     "outputs": [
      {
       "html": [
        "<div style=\"max-height:1000px;max-width:1500px;overflow:auto;\">\n",
        "<table border=\"1\" class=\"dataframe\">\n",
        "  <thead>\n",
        "    <tr style=\"text-align: right;\">\n",
        "      <th></th>\n",
        "      <th>GOSlim_bin</th>\n",
        "      <th>termcount</th>\n",
        "    </tr>\n",
        "  </thead>\n",
        "  <tbody>\n",
        "    <tr>\n",
        "      <th>0 </th>\n",
        "      <td>                    cell adhesion</td>\n",
        "      <td>  1</td>\n",
        "    </tr>\n",
        "    <tr>\n",
        "      <th>1 </th>\n",
        "      <td>     cell cycle and proliferation</td>\n",
        "      <td>  1</td>\n",
        "    </tr>\n",
        "    <tr>\n",
        "      <th>2 </th>\n",
        "      <td> cell organization and biogenesis</td>\n",
        "      <td>  6</td>\n",
        "    </tr>\n",
        "    <tr>\n",
        "      <th>3 </th>\n",
        "      <td>              cell-cell signaling</td>\n",
        "      <td>  1</td>\n",
        "    </tr>\n",
        "    <tr>\n",
        "      <th>4 </th>\n",
        "      <td>                            death</td>\n",
        "      <td>  2</td>\n",
        "    </tr>\n",
        "    <tr>\n",
        "      <th>5 </th>\n",
        "      <td>          developmental processes</td>\n",
        "      <td>  6</td>\n",
        "    </tr>\n",
        "    <tr>\n",
        "      <th>6 </th>\n",
        "      <td>       other biological processes</td>\n",
        "      <td> 13</td>\n",
        "    </tr>\n",
        "    <tr>\n",
        "      <th>7 </th>\n",
        "      <td>        other metabolic processes</td>\n",
        "      <td> 16</td>\n",
        "    </tr>\n",
        "    <tr>\n",
        "      <th>8 </th>\n",
        "      <td>               protein metabolism</td>\n",
        "      <td> 14</td>\n",
        "    </tr>\n",
        "    <tr>\n",
        "      <th>9 </th>\n",
        "      <td>                   RNA metabolism</td>\n",
        "      <td>  6</td>\n",
        "    </tr>\n",
        "    <tr>\n",
        "      <th>10</th>\n",
        "      <td>              signal transduction</td>\n",
        "      <td>  8</td>\n",
        "    </tr>\n",
        "    <tr>\n",
        "      <th>11</th>\n",
        "      <td>                  stress response</td>\n",
        "      <td>  6</td>\n",
        "    </tr>\n",
        "    <tr>\n",
        "      <th>12</th>\n",
        "      <td>                        transport</td>\n",
        "      <td>  7</td>\n",
        "    </tr>\n",
        "  </tbody>\n",
        "</table>\n",
        "</div>"
       ],
       "metadata": {},
       "output_type": "pyout",
       "prompt_number": 61,
       "text": [
        "                          GOSlim_bin  termcount\n",
        "0                      cell adhesion          1\n",
        "1       cell cycle and proliferation          1\n",
        "2   cell organization and biogenesis          6\n",
        "3                cell-cell signaling          1\n",
        "4                              death          2\n",
        "5            developmental processes          6\n",
        "6         other biological processes         13\n",
        "7          other metabolic processes         16\n",
        "8                 protein metabolism         14\n",
        "9                     RNA metabolism          6\n",
        "10               signal transduction          8\n",
        "11                   stress response          6\n",
        "12                         transport          7"
       ]
      }
     ],
     "prompt_number": 61
    },
    {
     "cell_type": "code",
     "collapsed": false,
     "input": [
      "%load http://matplotlib.org/mpl_examples/pylab_examples/barchart_demo.py"
     ],
     "language": "python",
     "metadata": {},
     "outputs": [],
     "prompt_number": 65
    },
    {
     "cell_type": "code",
     "collapsed": false,
     "input": [
      "\"\"\"\n",
      "Bar chart demo with pairs of bars grouped for easy comparison.\n",
      "\"\"\"\n",
      "import numpy as np\n",
      "import matplotlib.pyplot as plt\n",
      "\n",
      "\n",
      "n_groups = 5\n",
      "\n",
      "means_men = (20, 35, 30, 35, 27)\n",
      "std_men = (2, 3, 4, 1, 2)\n",
      "\n",
      "means_women = (25, 32, 34, 20, 25)\n",
      "std_women = (3, 5, 2, 3, 3)\n",
      "\n",
      "fig, ax = plt.subplots()\n",
      "\n",
      "index = np.arange(n_groups)\n",
      "bar_width = 0.35\n",
      "\n",
      "opacity = 0.4\n",
      "error_config = {'ecolor': '0.3'}\n",
      "\n",
      "rects1 = plt.bar(index, means_men, bar_width,\n",
      "                 alpha=opacity,\n",
      "                 color='b',\n",
      "                 yerr=std_men,\n",
      "                 error_kw=error_config,\n",
      "                 label='Men')\n",
      "\n",
      "rects2 = plt.bar(index + bar_width, means_women, bar_width,\n",
      "                 alpha=opacity,\n",
      "                 color='r',\n",
      "                 yerr=std_women,\n",
      "                 error_kw=error_config,\n",
      "                 label='Women')\n",
      "\n",
      "plt.xlabel('Group')\n",
      "plt.ylabel('Scores')\n",
      "plt.title('Scores by group and gender')\n",
      "plt.xticks(index + bar_width, ('A', 'B', 'C', 'D', 'E'))\n",
      "plt.legend()\n",
      "\n",
      "plt.tight_layout()\n",
      "plt.show()\n"
     ],
     "language": "python",
     "metadata": {},
     "outputs": []
    },
    {
     "cell_type": "code",
     "collapsed": false,
     "input": [
      "\"\"\"\n",
      "Bar chart demo with pairs of bars grouped for easy comparison.\n",
      "\"\"\"\n",
      "import numpy as np\n",
      "import matplotlib.pyplot as plt\n",
      "\n",
      "\n",
      "n_groups = 5\n",
      "\n",
      "means_men = (20, 35, 30, 35, 27)\n",
      "std_men = (2, 3, 4, 1, 2)\n",
      "\n",
      "means_women = (25, 32, 34, 20, 25)\n",
      "std_women = (3, 5, 2, 3, 3)\n",
      "\n",
      "fig, ax = plt.subplots()\n",
      "\n",
      "index = np.arange(n_groups)\n",
      "bar_width = 0.35\n",
      "\n",
      "opacity = 0.4\n",
      "error_config = {'ecolor': '0.3'}\n",
      "\n",
      "rects1 = plt.bar(index, means_men, bar_width,\n",
      "                 alpha=opacity,\n",
      "                 color='b',\n",
      "                 yerr=std_men,\n",
      "                 error_kw=error_config,\n",
      "                 label='Men')\n",
      "\n",
      "rects2 = plt.bar(index + bar_width, means_women, bar_width,\n",
      "                 alpha=opacity,\n",
      "                 color='r',\n",
      "                 yerr=std_women,\n",
      "                 error_kw=error_config,\n",
      "                 label='Women')\n",
      "\n",
      "plt.xlabel('Group')\n",
      "plt.ylabel('Scores')\n",
      "plt.title('Scores by group and gender')\n",
      "plt.xticks(index + bar_width, ('A', 'B', 'C', 'D', 'E'))\n",
      "plt.legend()\n",
      "\n",
      "plt.tight_layout()\n",
      "plt.show()\n"
     ],
     "language": "python",
     "metadata": {},
     "outputs": [],
     "prompt_number": "*"
    },
    {
     "cell_type": "markdown",
     "metadata": {},
     "source": [
      "Fun Stuff from SQLShare graph\n",
      "\n",
      "<br>\n",
      "<iframe sandbox=\"allow-scripts\" seamless src=\"http://sqlshare-graphs.herokuapp.com/api/dataset?sql=SELECT GOSlim_bin, COUNT(GOSlim_bin) as termcount from [sr320@washington.edu].[scratchpie] Group by GOSlim_bin&height=600&x_axis=index&y_axes=termcount,&graph_type=bar&styled=true\" width=\"100%\" height=\"600px\">"
     ]
    },
    {
     "cell_type": "code",
     "collapsed": false,
     "input": [
      "\n",
      "\n"
     ],
     "language": "python",
     "metadata": {},
     "outputs": []
    }
   ],
   "metadata": {}
  }
 ]
}