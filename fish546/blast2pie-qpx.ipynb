{
 "metadata": {
  "name": ""
 },
 "nbformat": 3,
 "nbformat_minor": 0,
 "worksheets": [
  {
   "cells": [
    {
     "cell_type": "heading",
     "level": 1,
     "metadata": {},
     "source": [
      "Reproducing the GO slim results for QPX transcriptome "
     ]
    },
    {
     "cell_type": "markdown",
     "metadata": {},
     "source": [
      "Assumptions are that you are working in a directory with fasta file named `query.fa`. And blast algorithms are in PATH."
     ]
    },
    {
     "cell_type": "code",
     "collapsed": false,
     "input": [
      "#Setting Working Directory\n",
      "wd=\"/Volumes/web/whale/fish546/qpx_go_val\"\n",
      "#Setting directory of Blast Databases\n",
      "dbd=\"/Volumes/Bay3/Software/ncbi-blast-2.2.29\\+/db/\"\n",
      "#Database name\n",
      "dbn=\"uniprot_sprot_r2013_12\"\n",
      "#Blast algorithim\n",
      "ba=\"blastx\"\n",
      "#Location of SQLShare python tools: you can empty (\"\") if tools are in PATH\n",
      "spd=\"/Users/sr320/sqlshare-pythonclient/tools/\""
     ],
     "language": "python",
     "metadata": {},
     "outputs": [],
     "prompt_number": 1
    },
    {
     "cell_type": "code",
     "collapsed": false,
     "input": [
      "cd {wd}"
     ],
     "language": "python",
     "metadata": {},
     "outputs": [
      {
       "output_type": "stream",
       "stream": "stdout",
       "text": [
        "/Volumes/web/whale/fish546/qpx_go_val\n"
       ]
      }
     ],
     "prompt_number": 2
    },
    {
     "cell_type": "code",
     "collapsed": false,
     "input": [
      "!{ba} -query query.fa -db {dbd}{dbn} -out {dbn}_{ba}_out.tab -evalue 1E-50 -num_threads 1 -max_hsps_per_subject 1 -max_target_seqs 1 -outfmt 6"
     ],
     "language": "python",
     "metadata": {},
     "outputs": [],
     "prompt_number": "*"
    },
    {
     "cell_type": "code",
     "collapsed": false,
     "input": [
      "!head -1 {dbn}_{ba}_out.tab"
     ],
     "language": "python",
     "metadata": {},
     "outputs": [],
     "prompt_number": "*"
    },
    {
     "cell_type": "code",
     "collapsed": false,
     "input": [
      "#Translate pipes to tab so SPID is in separate column for Joining\n",
      "!tr '|' \"\\t\" <{dbn}_{ba}_out.tab> {dbn}_{ba}_out2.tab"
     ],
     "language": "python",
     "metadata": {},
     "outputs": [],
     "prompt_number": "*"
    },
    {
     "cell_type": "code",
     "collapsed": false,
     "input": [
      "!head -1 {dbn}_{ba}_out2.tab"
     ],
     "language": "python",
     "metadata": {},
     "outputs": [],
     "prompt_number": "*"
    },
    {
     "cell_type": "code",
     "collapsed": false,
     "input": [
      "#Uploads formatted blast table to SQLshare; currently has generic name and meant to be temporary: Warning will overwrite.\n",
      "!python {spd}singleupload.py -d scratchblast_out {dbn}_{ba}_out2.tab"
     ],
     "language": "python",
     "metadata": {},
     "outputs": [],
     "prompt_number": "*"
    },
    {
     "cell_type": "code",
     "collapsed": false,
     "input": [
      "!python {spd}fetchdata.py -s \"SELECT * FROM [sr320@washington.edu].[scratchblast_out]blast Left Join [sr320@washington.edu].[uniprot-reviewed_wGO_010714]unp ON blast.Column3 = unp.Entry Left Join [sr320@washington.edu].[SPID and GO Numbers]go ON unp.Entry = go.SPID Left Join [sr320@washington.edu].[GO_to_GOslim]slim ON slim.GO_id = go.GOID\" -f tsv -o {dbn}_join2goslim.txt"
     ],
     "language": "python",
     "metadata": {},
     "outputs": [],
     "prompt_number": "*"
    },
    {
     "cell_type": "code",
     "collapsed": false,
     "input": [
      "!head -2 {dbn}_join2goslim.txt"
     ],
     "language": "python",
     "metadata": {},
     "outputs": [],
     "prompt_number": "*"
    },
    {
     "cell_type": "code",
     "collapsed": false,
     "input": [
      "!python {spd}singleupload.py -d scratchjoin_slim {dbn}_join2goslim.txt"
     ],
     "language": "python",
     "metadata": {},
     "outputs": [],
     "prompt_number": "*"
    },
    {
     "cell_type": "code",
     "collapsed": false,
     "input": [
      "!python {spd}fetchdata.py -s \"SELECT Distinct Column1 as query, Column3 as SPID, GOSlim_bin FROM [sr320@washington.edu].[scratchjoin_slim] Where aspect = 'P'\" -f tsv -o justslim.txt"
     ],
     "language": "python",
     "metadata": {},
     "outputs": [],
     "prompt_number": "*"
    },
    {
     "cell_type": "code",
     "collapsed": false,
     "input": [
      "!head justslim.txt"
     ],
     "language": "python",
     "metadata": {},
     "outputs": [],
     "prompt_number": "*"
    },
    {
     "cell_type": "code",
     "collapsed": false,
     "input": [
      "!python {spd}singleupload.py -d scratchpie justslim.txt"
     ],
     "language": "python",
     "metadata": {},
     "outputs": [],
     "prompt_number": "*"
    },
    {
     "cell_type": "code",
     "collapsed": false,
     "input": [
      "!python {spd}fetchdata.py -s \"SELECT GOSlim_bin, COUNT(GOSlim_bin) as termcount from [sr320@washington.edu].[scratchpie] Group by GOSlim_bin\" -f tsv -o justpie.txt"
     ],
     "language": "python",
     "metadata": {},
     "outputs": [],
     "prompt_number": "*"
    },
    {
     "cell_type": "code",
     "collapsed": false,
     "input": [
      "#for now have to add file name\n",
      "from pandas import *\n",
      "\n",
      "# read data from data file into a pandas DataFrame  \n",
      "slimpie = read_table(\"justpie.txt\", # name of the data file\n",
      "            #sep=\",\", # what character separates each column?\n",
      "            na_values=[\"\", \" \"]) # what values should be considered \"blank\" values?"
     ],
     "language": "python",
     "metadata": {},
     "outputs": [],
     "prompt_number": "*"
    },
    {
     "cell_type": "code",
     "collapsed": false,
     "input": [
      "slimpie"
     ],
     "language": "python",
     "metadata": {},
     "outputs": [],
     "prompt_number": "*"
    },
    {
     "cell_type": "markdown",
     "metadata": {},
     "source": [
      "Fun Stuff from SQLShare graph\n",
      "\n",
      "<br>\n",
      "<iframe sandbox=\"allow-scripts\" seamless src=\"http://sqlshare-graphs.herokuapp.com/api/dataset?sql=SELECT GOSlim_bin, COUNT(GOSlim_bin) as termcount from [sr320@washington.edu].[scratchpie] Group by GOSlim_bin&height=600&x_axis=index&y_axes=termcount,&graph_type=bar&styled=true\" width=\"100%\" height=\"600px\">"
     ]
    }
   ],
   "metadata": {}
  }
 ]
}