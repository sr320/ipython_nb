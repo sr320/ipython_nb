{
 "metadata": {
  "name": ""
 },
 "nbformat": 3,
 "nbformat_minor": 0,
 "worksheets": [
  {
   "cells": [
    {
     "cell_type": "heading",
     "level": 1,
     "metadata": {},
     "source": [
      "Quality Check of BiGo Larvae Experiment"
     ]
    },
    {
     "cell_type": "code",
     "collapsed": false,
     "input": [
      "#directory on greenbird\n",
      "ls /Volumes/NGS\\ Drive/NGS\\ Raw\\ Data/Cg_larvae_BSseq "
     ],
     "language": "python",
     "metadata": {},
     "outputs": [
      {
       "output_type": "stream",
       "stream": "stdout",
       "text": [
        "FCD2CA8.tar\r\n",
        "filtered_BS_CgF_TTAGGC_L007_R1.fastq.gz\r\n",
        "filtered_BS_CgF_TTAGGC_L007_R2.fastq.gz\r\n",
        "filtered_BS_CgLarv_T1D3_TGACCA_L007_R1.fastq.gz\r\n",
        "filtered_BS_CgLarv_T1D3_TGACCA_L007_R2.fastq.gz\r\n",
        "filtered_BS_CgLarv_T1D5_ACAGTG_L007_R1.fastq.gz\r\n",
        "filtered_BS_CgLarv_T1D5_ACAGTG_L007_R2.fastq.gz\r\n",
        "filtered_BS_CgLarv_T3D5_CAGATC_L007_R1.fastq.gz\r\n",
        "filtered_BS_CgLarv_T3D5_CAGATC_L007_R2.fastq.gz\r\n",
        "filtered_BS_CgM1_ACTTGA_L007_R1.fastq.gz\r\n",
        "filtered_BS_CgM1_ACTTGA_L007_R2.fastq.gz\r\n",
        "filtered_BS_CgM3_GATCAG_L007_R1.fastq.gz\r\n",
        "filtered_BS_CgM3_GATCAG_L007_R2.fastq.gz\r\n",
        "filtered_Bs_CgLarve_T3D3_GCCAAT_L007_R1.fastq.gz\r\n",
        "filtered_Bs_CgLarve_T3D3_GCCAAT_L007_R2.fastq.gz\r\n"
       ]
      }
     ],
     "prompt_number": 23
    },
    {
     "cell_type": "code",
     "collapsed": false,
     "input": [
      "cd Shared/Apps/bsmap-2.73/"
     ],
     "language": "python",
     "metadata": {},
     "outputs": [
      {
       "output_type": "stream",
       "stream": "stdout",
       "text": [
        "/Users/Shared/Apps/bsmap-2.73\n"
       ]
      }
     ],
     "prompt_number": 32
    },
    {
     "cell_type": "code",
     "collapsed": false,
     "input": [
      "! /Users/Shared/Apps/bsmap-2.73/bsmap"
     ],
     "language": "python",
     "metadata": {},
     "outputs": [
      {
       "output_type": "stream",
       "stream": "stdout",
       "text": [
        "\r\n",
        "BSMAP v2.73\r\n",
        "Usage:\tbsmap [options]\r\n",
        "       -a  <str>   query a file, FASTA/FASTQ/BAM format\r\n",
        "       -d  <str>   reference sequences file, FASTA format\r\n",
        "       -o  <str>   output alignment file, BSP/SAM/BAM format, if omitted, the output will be written to STDOUT in SAM format.\r\n",
        "\r\n",
        "  Options for alignment:\r\n",
        "       -s  <int>   seed size, default=16(WGBS mode), 12(RRBS mode). min=8, max=16.\r\n",
        "       -v  <float> if this value is between 0 and 1, it's interpreted as the mismatch rate w.r.t to the read length.\r\n",
        "                   otherwise it's interpreted as the maximum number of mismatches allowed on a read, <=15.\r\n",
        "                   example: -v 5 (max #mismatches = 5), -v 0.1 (max #mismatches = read_length * 10%)\r\n",
        "                   default=0.08.\r\n",
        "       -g  <int>   gap size, BSMAP only allow 1 continuous gap (insert or deletion) with up to 3 nucleotides\r\n",
        "                   default=0\r\n",
        "       -w  <int>   maximum number of equal best hits to count, <=1000\r\n",
        "       -B  <int>   start from the Nth read or read pair, default: 1\r\n",
        "       -E  <int>   end at the Nth read or read pair, default: 4,294,967,295\r\n",
        "       -I  <int>   index interval, default=4\r\n",
        "       -k  <float> set the cut-off ratio for over-represented kmers, default=5e-07\r\n",
        "                   example: -k 1e-6 means the top 0.0001% over-represented kmer will be skipped in alignment\r\n",
        "       -p  <int>   number of processors to use, default=8\r\n",
        "       -D  <str>   activating RRBS mapping mode and set restriction enzyme digestion sites. \r\n",
        "                   digestion position marked by '-', example: -D C-CGG for MspI digestion.\r\n",
        "                   default: none (whole genome shotgun bisulfite mapping mode)\r\n",
        "       -S  <int>   seed for random number generation used in selecting multiple hits\r\n",
        "                   other seed values generate pseudo random number based on read index number, to allow reproducible mapping results. \r\n",
        "                   default=0. (get seed from system clock, mapping results not resproducible.)\r\n",
        "       -n  [0,1]   set mapping strand information. default: 0\r\n",
        "                   -n 0: only map to 2 forward strands, i.e. BSW(++) and BSC(-+), \r\n",
        "                   for PE sequencing, map read#1 to ++ and -+, read#2 to +- and --.\r\n",
        "                   -n 1: map SE or PE reads to all 4 strands, i.e. ++, +-, -+, -- \r\n",
        "       -M  <str>   set alignment information for the additional nucleotide transition. \r\n",
        "                   <str> is in the form of two different nucleotides N1N2, \r\n",
        "                   indicating N1 in the reads could be mapped to N2 in the reference sequences.\r\n",
        "                   default: -M TC, corresponds to C=>U(T) transition in bisulfite conversion. \r\n",
        "                   example: -M GA could be used to detect A=>I(G) transition in RNA editing. \r\n",
        "\r\n",
        "  Options for trimming:\r\n",
        "       -q  <int>   quality threshold in trimming, 0-40, default=0 (no trim)\r\n",
        "       -z  <int>   base quality, default=33 [Illumina is using 64, Sanger Institute is using 33]\r\n",
        "       -f  <int>   filter low-quality reads containing >n Ns, default=5\r\n",
        "       -A  <str>   3-end adapter sequence, default: none (no trim)\r\n",
        "       -L  <int>   map the first N nucleotides of the read, default:144 (map the whole read).\r\n",
        "\r\n",
        "  Options for reporting:\r\n",
        "       -r  [0,1]   how to report repeat hits, 0=none(unique hit/pair only); 1=random one, default:1.\r\n",
        "       -R          print corresponding reference sequences in SAM output, default=off\r\n",
        "       -u          report unmapped reads, default=off\r\n",
        "       -H          do not print header information in SAM format output\r\n",
        "\r\n",
        "  Options for pair-end alignment:\r\n",
        "       -b  <str>   query b file\r\n",
        "       -m  <int>   minimal insert size allowed, default=28\r\n",
        "       -x  <int>   maximal insert size allowed, default=500\r\n",
        "\r\n",
        "       -h          help\r\n",
        "\r\n"
       ]
      }
     ],
     "prompt_number": 34
    },
    {
     "cell_type": "heading",
     "level": 3,
     "metadata": {},
     "source": [
      "Female"
     ]
    },
    {
     "cell_type": "code",
     "collapsed": false,
     "input": [
      "#F\n",
      "! /Users/Shared/Apps/bsmap-2.73/bsmap -a /Volumes/NGS\\ Drive/NGS\\ Raw\\ Data/Cg_larvae_BSseq/filtered_BS_CgF_TTAGGC_L007_R1.fastq.gz -b /Volumes/NGS\\ Drive/NGS\\ Raw\\ Data/Cg_larvae_BSseq/filtered_BS_CgF_TTAGGC_L007_R2.fastq.gz -d /Volumes/web/cnidarian/oyster.v9.fa -o /Volumes/web/cnidarian/BiGo_lar_F.sam -p 8"
     ],
     "language": "python",
     "metadata": {},
     "outputs": [
      {
       "output_type": "stream",
       "stream": "stdout",
       "text": [
        "\r\n",
        "BSMAP v2.73\r\n",
        "Start at:  Tue Oct  1 15:12:31 2013\r\n",
        "\r\n",
        "Input reference file: /Volumes/web/cnidarian/oyster.v9.fa"
       ]
      },
      {
       "output_type": "stream",
       "stream": "stdout",
       "text": [
        " \t(format: FASTA)\r\n"
       ]
      },
      {
       "output_type": "stream",
       "stream": "stdout",
       "text": [
        "Load in 11969 db seqs, total size 558601156 bp. 19 secs passed\r\n",
        "total_kmers: 43046721\r\n"
       ]
      },
      {
       "output_type": "stream",
       "stream": "stdout",
       "text": [
        "Create seed table. 34 secs passed\r\n",
        "max number of mismatches: read_length * 8% \tmax gap size: 0\r\n",
        "kmer cut-off ratio:5e-07\r\n",
        "max multi-hits: 100\tmax Ns: 5\tseed size: 16\tindex interval: 4\r\n",
        "quality cutoff: 0\tbase quality char: '!'\r\n",
        "min fragment size:28\tmax fragemt size:500\r\n",
        "start from read #1\tend at read #4294967295\r\n",
        "additional alignment: T in reads => C in reference\r\n",
        "mapping strand (read_1): ++,-+\r\n",
        "mapping strand (read_2): +-,--\r\n",
        "Pair-end alignment(8 threads)\r\n",
        "Input read file #1: /Volumes/NGS Drive/NGS Raw Data/Cg_larvae_BSseq/filtered_BS_CgF_TTAGGC_L007_R1.fastq.gz"
       ]
      },
      {
       "output_type": "stream",
       "stream": "stdout",
       "text": [
        " \t(format: gzipped FASTQ)\r\n",
        "Input read file #2: /Volumes/NGS Drive/NGS Raw Data/Cg_larvae_BSseq/filtered_BS_CgF_TTAGGC_L007_R2.fastq.gz"
       ]
      },
      {
       "output_type": "stream",
       "stream": "stdout",
       "text": [
        " \t(format: gzipped FASTQ)\r\n",
        "Output file: /Volumes/web/cnidarian/BiGo_lar_F.sam\t (format: SAM)\r\n"
       ]
      },
      {
       "output_type": "stream",
       "stream": "stdout",
       "text": [
        "Thread #4: \t323336 read pairs finished. 76 secs passed\r\n"
       ]
      },
      {
       "output_type": "stream",
       "stream": "stdout",
       "text": [
        "Thread #2: \t50000 read pairs finished. 101 secs passed\r\n"
       ]
      },
      {
       "output_type": "stream",
       "stream": "stdout",
       "text": [
        "Thread #0: \t150000 read pairs finished. 104 secs passed\r\n"
       ]
      },
      {
       "output_type": "stream",
       "stream": "stdout",
       "text": [
        "Thread #6: \t100000 read pairs finished. 104 secs passed\r\n"
       ]
      },
      {
       "output_type": "stream",
       "stream": "stdout",
       "text": [
        "Thread #1: \t200000 read pairs finished. 105 secs passed\r\n"
       ]
      },
      {
       "output_type": "stream",
       "stream": "stdout",
       "text": [
        "Thread #3: \t300000 read pairs finished. 106 secs passed\r\n"
       ]
      },
      {
       "output_type": "stream",
       "stream": "stdout",
       "text": [
        "Thread #5: \t250000 read pairs finished. 106 secs passed\r\n"
       ]
      },
      {
       "output_type": "stream",
       "stream": "stdout",
       "text": [
        "Total number of aligned reads: \r\n",
        "pairs:       180566 (56%)\r\n",
        "single a:    48357 (15%)\r\n",
        "single b:    37390 (12%)\r\n",
        "Done.\r\n",
        "Finished at Tue Oct  1 15:14:18 2013\r\n",
        "Total time consumed:  107 secs\r\n"
       ]
      }
     ],
     "prompt_number": 41
    },
    {
     "cell_type": "code",
     "collapsed": false,
     "input": [
      "#methratio on female \n",
      "!python /Users/Shared/Apps/bsmap-2.74/methratio.py -d /Volumes/web/cnidarian/oyster.v9.fa -u -z -g -o  /Volumes/web/cnidarian/BiGo_lar_F_methratio_v9_A.txt -s /Users/Shared/Apps/bsmap-2.74/samtools /Volumes/web/cnidarian/BiGo_lar_F.sam"
     ],
     "language": "python",
     "metadata": {},
     "outputs": [
      {
       "output_type": "stream",
       "stream": "stdout",
       "text": [
        "@ Wed Oct  2 12:26:36 2013: reading reference /Volumes/web/cnidarian/oyster.v9.fa ...\r\n"
       ]
      },
      {
       "output_type": "stream",
       "stream": "stdout",
       "text": [
        "@ Wed Oct  2 12:27:19 2013: reading /Volumes/web/cnidarian/BiGo_lar_F.sam ...\r\n"
       ]
      },
      {
       "output_type": "stream",
       "stream": "stdout",
       "text": [
        "[samopen] SAM header is present: 11969 sequences.\r\n"
       ]
      },
      {
       "output_type": "stream",
       "stream": "stdout",
       "text": [
        "@ Wed Oct  2 12:27:41 2013: combining CpG methylation from both strands ...\r\n"
       ]
      },
      {
       "output_type": "stream",
       "stream": "stdout",
       "text": [
        "@ Wed Oct  2 12:28:25 2013: writing /Volumes/web/cnidarian/BiGo_lar_F_methratio_v9_A.txt ...\r\n"
       ]
      },
      {
       "output_type": "stream",
       "stream": "stdout",
       "text": [
        "@ Wed Oct  2 12:31:18 2013: done.\r\n",
        "total 351170 valid mappings, 2879485 covered cytosines, average coverage: 1.09 fold.\r\n"
       ]
      }
     ],
     "prompt_number": 3
    },
    {
     "cell_type": "code",
     "collapsed": false,
     "input": [
      "from pandas import *\n",
      "\n",
      "# read data from data file into a pandas DataFrame  \n",
      "F = read_table(\"http://eagle.fish.washington.edu/cnidarian/BiGo_lar_F_methratio_v9_A.txt\", # name of the data file\n",
      "           # sep=\",\", # what character separates each column?\n",
      "            na_values=[\"\", \" \"]) # what values should be considered \"blank\" values?"
     ],
     "language": "python",
     "metadata": {},
     "outputs": [],
     "prompt_number": 2
    },
    {
     "cell_type": "code",
     "collapsed": false,
     "input": [
      "!head /Volumes/web/cnidarian/BiGo_lar_F_methratio_v9_A.txt"
     ],
     "language": "python",
     "metadata": {},
     "outputs": [
      {
       "output_type": "stream",
       "stream": "stdout",
       "text": [
        "chr\tpos\tstrand\tcontext\tratio\teff_CT_count\tC_count\tCT_count\trev_G_count\trev_GA_count\tCI_lower\tCI_upper\r\n",
        "C10211\t59\t+\tTGCTG\t0.000\t1.00\t0\t1\t0\t0\t0.000\t0.793\r\n",
        "C10211\t70\t+\tGACAA\t0.000\t1.00\t0\t1\t0\t0\t0.000\t0.793\r\n",
        "C10211\t75\t+\tGACGT\t0.000\t1.00\t0\t1\t1\t1\t0.000\t0.793\r\n",
        "C10211\t79\t+\tTTCAC\t0.000\t1.00\t0\t1\t0\t0\t0.000\t0.793\r\n",
        "C10211\t81\t+\tCACCT\t0.000\t1.00\t0\t1\t0\t0\t0.000\t0.793\r\n",
        "C10211\t82\t+\tACCTT\t0.000\t1.00\t0\t1\t0\t0\t0.000\t0.793\r\n",
        "C10211\t99\t+\tTTCCT\t0.000\t1.00\t0\t1\t0\t0\t0.000\t0.793\r\n",
        "C10211\t100\t+\tTCCTG\t0.000\t1.00\t0\t1\t0\t0\t0.000\t0.793\r\n",
        "C10211\t106\t+\tAACTG\t0.000\t1.00\t0\t1\t0\t0\t0.000\t0.793\r\n"
       ]
      }
     ],
     "prompt_number": 7
    },
    {
     "cell_type": "code",
     "collapsed": false,
     "input": [
      "F['ratio'].hist(bins=100);\n",
      "#Axis limits are changed using the axis([xmin, xmax, ymin, ymax]) function.\n",
      "#plt.axis([0, 1, 0, 50000])\n"
     ],
     "language": "python",
     "metadata": {},
     "outputs": [
      {
       "metadata": {},
       "output_type": "pyout",
       "prompt_number": 3,
       "text": [
        "<matplotlib.axes.AxesSubplot at 0x1067e5f50>"
       ]
      },
      {
       "metadata": {},
       "output_type": "display_data",
       "png": "[encoded data removed]",
       "text": [
        "<matplotlib.figure.Figure at 0x1067e5a50>"
       ]
      }
     ],
     "prompt_number": 3
    },
    {
     "cell_type": "heading",
     "level": 3,
     "metadata": {},
     "source": [
      "TID3 Larvae"
     ]
    },
    {
     "cell_type": "code",
     "collapsed": false,
     "input": [
      "#TID3\n",
      "! /Users/Shared/Apps/bsmap-2.73/bsmap -a /Volumes/NGS\\ Drive/NGS\\ Raw\\ Data/Cg_larvae_BSseq/filtered_BS_CgLarv_T1D3_TGACCA_L007_R1.fastq.gz -b /Volumes/NGS\\ Drive/NGS\\ Raw\\ Data/Cg_larvae_BSseq/filtered_BS_CgLarv_T1D3_TGACCA_L007_R2.fastq.gz -d /Volumes/web/cnidarian/oyster.v9.fa -o /Volumes/web/cnidarian/BiGo_lar_T1D3.sam -p 8"
     ],
     "language": "python",
     "metadata": {},
     "outputs": [
      {
       "output_type": "stream",
       "stream": "stdout",
       "text": [
        "\r\n",
        "BSMAP v2.73\r\n",
        "Start at:  Tue Oct  1 13:33:06 2013\r\n",
        "\r\n",
        "Input reference file: /Volumes/web/cnidarian/oyster.v9.fa \t(format: FASTA)\r\n"
       ]
      },
      {
       "output_type": "stream",
       "stream": "stdout",
       "text": [
        "Load in 11969 db seqs, total size 558601156 bp. 8 secs passed\r\n",
        "total_kmers: 43046721\r\n"
       ]
      },
      {
       "output_type": "stream",
       "stream": "stdout",
       "text": [
        "Create seed table. 23 secs passed\r\n",
        "max number of mismatches: read_length * 8% \tmax gap size: 0\r\n",
        "kmer cut-off ratio:5e-07\r\n",
        "max multi-hits: 100\tmax Ns: 5\tseed size: 16\tindex interval: 4\r\n",
        "quality cutoff: 0\tbase quality char: '!'\r\n",
        "min fragment size:28\tmax fragemt size:500\r\n",
        "start from read #1\tend at read #4294967295\r\n",
        "additional alignment: T in reads => C in reference\r\n",
        "mapping strand (read_1): ++,-+\r\n",
        "mapping strand (read_2): +-,--\r\n",
        "Pair-end alignment(8 threads)\r\n",
        "Input read file #1: /Volumes/NGS Drive/NGS Raw Data/Cg_larvae_BSseq/filtered_BS_CgLarv_T1D3_TGACCA_L007_R1.fastq.gz"
       ]
      },
      {
       "output_type": "stream",
       "stream": "stdout",
       "text": [
        " \t(format: gzipped FASTQ)\r\n",
        "Input read file #2: /Volumes/NGS Drive/NGS Raw Data/Cg_larvae_BSseq/filtered_BS_CgLarv_T1D3_TGACCA_L007_R2.fastq.gz"
       ]
      },
      {
       "output_type": "stream",
       "stream": "stdout",
       "text": [
        " \t(format: gzipped FASTQ)\r\n",
        "Output file: /Volumes/web/cnidarian/BiGo_lar_T1D3.sam\t (format: SAM)\r\n"
       ]
      },
      {
       "output_type": "stream",
       "stream": "stdout",
       "text": [
        "Thread #7: \t100000 read pairs finished. 120 secs passed\r\n"
       ]
      },
      {
       "output_type": "stream",
       "stream": "stdout",
       "text": [
        "Thread #3: \t150000 read pairs finished. 121 secs passed\r\n"
       ]
      },
      {
       "output_type": "stream",
       "stream": "stdout",
       "text": [
        "Thread #0: \t50000 read pairs finished. 122 secs passed\r\n"
       ]
      },
      {
       "output_type": "stream",
       "stream": "stdout",
       "text": [
        "Thread #5: \t200000 read pairs finished. 123 secs passed\r\n"
       ]
      },
      {
       "output_type": "stream",
       "stream": "stdout",
       "text": [
        "Thread #6: \t250000 read pairs finished. 124 secs passed\r\n"
       ]
      },
      {
       "output_type": "stream",
       "stream": "stdout",
       "text": [
        "Thread #1: \t300000 read pairs finished. 125 secs passed\r\n"
       ]
      },
      {
       "output_type": "stream",
       "stream": "stdout",
       "text": [
        "Thread #2: \t350000 read pairs finished. 126 secs passed\r\n"
       ]
      },
      {
       "output_type": "stream",
       "stream": "stdout",
       "text": [
        "Thread #4: \t400000 read pairs finished. 127 secs passed\r\n"
       ]
      },
      {
       "output_type": "stream",
       "stream": "stdout",
       "text": [
        "Thread #7: \t450000 read pairs finished. 212 secs passed\r\n"
       ]
      },
      {
       "output_type": "stream",
       "stream": "stdout",
       "text": [
        "Thread #3: \t500000 read pairs finished. 213 secs passed\r\n"
       ]
      },
      {
       "output_type": "stream",
       "stream": "stdout",
       "text": [
        "Thread #0: \t550000 read pairs finished. 214 secs passed\r\n"
       ]
      },
      {
       "output_type": "stream",
       "stream": "stdout",
       "text": [
        "Thread #2: \t750000 read pairs finished. 220 secs passed\r\n"
       ]
      },
      {
       "output_type": "stream",
       "stream": "stdout",
       "text": [
        "Thread #1: \t700000 read pairs finished. 220 secs passed\r\n"
       ]
      },
      {
       "output_type": "stream",
       "stream": "stdout",
       "text": [
        "Thread #4: \t800000 read pairs finished. 221 secs passed\r\n"
       ]
      },
      {
       "output_type": "stream",
       "stream": "stdout",
       "text": [
        "Thread #6: \t650000 read pairs finished. 224 secs passed\r\n"
       ]
      },
      {
       "output_type": "stream",
       "stream": "stdout",
       "text": [
        "Thread #5: \t600000 read pairs finished. 231 secs passed\r\n"
       ]
      },
      {
       "output_type": "stream",
       "stream": "stdout",
       "text": [
        "Thread #7: \t850000 read pairs finished. 313 secs passed\r\n"
       ]
      },
      {
       "output_type": "stream",
       "stream": "stdout",
       "text": [
        "Thread #3: \t900000 read pairs finished. 315 secs passed\r\n"
       ]
      },
      {
       "output_type": "stream",
       "stream": "stdout",
       "text": [
        "Thread #0: \t950000 read pairs finished. 316 secs passed\r\n"
       ]
      },
      {
       "output_type": "stream",
       "stream": "stdout",
       "text": [
        "Thread #2: \t1000000 read pairs finished. 321 secs passed\r\n"
       ]
      },
      {
       "output_type": "stream",
       "stream": "stdout",
       "text": [
        "Thread #1: \t1050000 read pairs finished. 323 secs passed\r\n"
       ]
      },
      {
       "output_type": "stream",
       "stream": "stdout",
       "text": [
        "Thread #4: \t1100000 read pairs finished. 325 secs passed\r\n"
       ]
      },
      {
       "output_type": "stream",
       "stream": "stdout",
       "text": [
        "Thread #6: \t1150000 read pairs finished. 327 secs passed\r\n"
       ]
      },
      {
       "output_type": "stream",
       "stream": "stdout",
       "text": [
        "Thread #5: \t1200000 read pairs finished. 334 secs passed\r\n"
       ]
      },
      {
       "output_type": "stream",
       "stream": "stdout",
       "text": [
        "Thread #7: \t1250000 read pairs finished. 415 secs passed\r\n"
       ]
      },
      {
       "output_type": "stream",
       "stream": "stdout",
       "text": [
        "Thread #3: \t1300000 read pairs finished. 418 secs passed\r\n"
       ]
      },
      {
       "output_type": "stream",
       "stream": "stdout",
       "text": [
        "Thread #0: \t1350000 read pairs finished. 418 secs passed\r\n"
       ]
      },
      {
       "output_type": "stream",
       "stream": "stdout",
       "text": [
        "Thread #2: \t1400000 read pairs finished. 424 secs passed\r\n"
       ]
      },
      {
       "output_type": "stream",
       "stream": "stdout",
       "text": [
        "Thread #1: \t1450000 read pairs finished. 426 secs passed\r\n"
       ]
      },
      {
       "output_type": "stream",
       "stream": "stdout",
       "text": [
        "Thread #4: \t1500000 read pairs finished. 428 secs passed\r\n"
       ]
      },
      {
       "output_type": "stream",
       "stream": "stdout",
       "text": [
        "Thread #6: \t1550000 read pairs finished. 430 secs passed\r\n"
       ]
      },
      {
       "output_type": "stream",
       "stream": "stdout",
       "text": [
        "Thread #5: \t1600000 read pairs finished. 438 secs passed\r\n"
       ]
      },
      {
       "output_type": "stream",
       "stream": "stdout",
       "text": [
        "Thread #7: \t1650000 read pairs finished. 520 secs passed\r\n"
       ]
      },
      {
       "output_type": "stream",
       "stream": "stdout",
       "text": [
        "Thread #0: \t1750000 read pairs finished. 524 secs passed\r\n"
       ]
      },
      {
       "output_type": "stream",
       "stream": "stdout",
       "text": [
        "Thread #3: \t1700000 read pairs finished. 525 secs passed\r\n"
       ]
      },
      {
       "output_type": "stream",
       "stream": "stdout",
       "text": [
        "Thread #2: \t1800000 read pairs finished. 528 secs passed\r\n"
       ]
      },
      {
       "output_type": "stream",
       "stream": "stdout",
       "text": [
        "Thread #1: \t1850000 read pairs finished. 529 secs passed\r\n"
       ]
      },
      {
       "output_type": "stream",
       "stream": "stdout",
       "text": [
        "Thread #4: \t1900000 read pairs finished. 532 secs passed\r\n"
       ]
      },
      {
       "output_type": "stream",
       "stream": "stdout",
       "text": [
        "Thread #6: \t1950000 read pairs finished. 534 secs passed\r\n"
       ]
      },
      {
       "output_type": "stream",
       "stream": "stdout",
       "text": [
        "Thread #5: \t2000000 read pairs finished. 542 secs passed\r\n"
       ]
      },
      {
       "output_type": "stream",
       "stream": "stdout",
       "text": [
        "Thread #7: \t2050000 read pairs finished. 621 secs passed\r\n"
       ]
      },
      {
       "output_type": "stream",
       "stream": "stdout",
       "text": [
        "Thread #0: \t2100000 read pairs finished. 624 secs passed\r\n"
       ]
      },
      {
       "output_type": "stream",
       "stream": "stdout",
       "text": [
        "Thread #3: \t2150000 read pairs finished. 625 secs passed\r\n"
       ]
      },
      {
       "output_type": "stream",
       "stream": "stdout",
       "text": [
        "Thread #2: \t2200000 read pairs finished. 628 secs passed\r\n"
       ]
      },
      {
       "output_type": "stream",
       "stream": "stdout",
       "text": [
        "Thread #6: \t2350000 read pairs finished. 638 secs passed\r\n"
       ]
      },
      {
       "output_type": "stream",
       "stream": "stdout",
       "text": [
        "Thread #1: \t2250000 read pairs finished. 639 secs passed\r\n"
       ]
      },
      {
       "output_type": "stream",
       "stream": "stdout",
       "text": [
        "Thread #4: \t2300000 read pairs finished. 642 secs passed\r\n"
       ]
      },
      {
       "output_type": "stream",
       "stream": "stdout",
       "text": [
        "Thread #5: \t2400000 read pairs finished. 644 secs passed\r\n"
       ]
      },
      {
       "output_type": "stream",
       "stream": "stdout",
       "text": [
        "Thread #7: \t2450000 read pairs finished. 722 secs passed\r\n"
       ]
      },
      {
       "output_type": "stream",
       "stream": "stdout",
       "text": [
        "Thread #0: \t2500000 read pairs finished. 726 secs passed\r\n"
       ]
      },
      {
       "output_type": "stream",
       "stream": "stdout",
       "text": [
        "Thread #3: \t2550000 read pairs finished. 728 secs passed\r\n"
       ]
      },
      {
       "output_type": "stream",
       "stream": "stdout",
       "text": [
        "Thread #2: \t2600000 read pairs finished. 730 secs passed\r\n"
       ]
      },
      {
       "output_type": "stream",
       "stream": "stdout",
       "text": [
        "Thread #6: \t2650000 read pairs finished. 739 secs passed\r\n"
       ]
      },
      {
       "output_type": "stream",
       "stream": "stdout",
       "text": [
        "Thread #1: \t2700000 read pairs finished. 741 secs passed\r\n"
       ]
      },
      {
       "output_type": "stream",
       "stream": "stdout",
       "text": [
        "Thread #4: \t2750000 read pairs finished. 744 secs passed\r\n"
       ]
      },
      {
       "output_type": "stream",
       "stream": "stdout",
       "text": [
        "Thread #5: \t2800000 read pairs finished. 748 secs passed\r\n"
       ]
      },
      {
       "output_type": "stream",
       "stream": "stdout",
       "text": [
        "Thread #7: \t2850000 read pairs finished. 824 secs passed\r\n"
       ]
      },
      {
       "output_type": "stream",
       "stream": "stdout",
       "text": [
        "Thread #0: \t2900000 read pairs finished. 827 secs passed\r\n"
       ]
      },
      {
       "output_type": "stream",
       "stream": "stdout",
       "text": [
        "Thread #3: \t2950000 read pairs finished. 828 secs passed\r\n"
       ]
      },
      {
       "output_type": "stream",
       "stream": "stdout",
       "text": [
        "Thread #2: \t3000000 read pairs finished. 831 secs passed\r\n"
       ]
      },
      {
       "output_type": "stream",
       "stream": "stdout",
       "text": [
        "Thread #6: \t3050000 read pairs finished. 840 secs passed\r\n"
       ]
      },
      {
       "output_type": "stream",
       "stream": "stdout",
       "text": [
        "Thread #1: \t3100000 read pairs finished. 841 secs passed\r\n"
       ]
      },
      {
       "output_type": "stream",
       "stream": "stdout",
       "text": [
        "Thread #4: \t3150000 read pairs finished. 843 secs passed\r\n"
       ]
      },
      {
       "output_type": "stream",
       "stream": "stdout",
       "text": [
        "Thread #5: \t3200000 read pairs finished. 845 secs passed\r\n"
       ]
      },
      {
       "output_type": "stream",
       "stream": "stdout",
       "text": [
        "Thread #3: \t3343987 read pairs finished. 860 secs passed\r\n"
       ]
      },
      {
       "output_type": "stream",
       "stream": "stdout",
       "text": [
        "Thread #7: \t3250000 read pairs finished. 861 secs passed\r\n"
       ]
      },
      {
       "output_type": "stream",
       "stream": "stdout",
       "text": [
        "Thread #0: \t3300000 read pairs finished. 862 secs passed\r\n"
       ]
      },
      {
       "output_type": "stream",
       "stream": "stdout",
       "text": [
        "Total number of aligned reads: \r\n",
        "pairs:       1639918 (49%)\r\n",
        "single a:    709577 (21%)\r\n",
        "single b:    541078 (16%)\r\n",
        "Done.\r\n",
        "Finished at Tue Oct  1 13:47:34 2013\r\n",
        "Total time consumed:  868 secs\r\n"
       ]
      }
     ],
     "prompt_number": 39
    },
    {
     "cell_type": "code",
     "collapsed": false,
     "input": [
      "#TID3 methratio\n",
      "!python /Users/Shared/Apps/bsmap-2.74/methratio.py -d /Volumes/web/cnidarian/oyster.v9.fa -u -z -g -o  /Volumes/web/cnidarian/BiGo_lar_TID3_methratio_v9_A.txt -s /Users/Shared/Apps/bsmap-2.74/samtools /Volumes/web/cnidarian/BiGo_lar_T1D3.sam"
     ],
     "language": "python",
     "metadata": {},
     "outputs": [
      {
       "output_type": "stream",
       "stream": "stdout",
       "text": [
        "@ Wed Oct  2 12:37:26 2013: reading reference /Volumes/web/cnidarian/oyster.v9.fa ...\r\n"
       ]
      },
      {
       "output_type": "stream",
       "stream": "stdout",
       "text": [
        "@ Wed Oct  2 12:37:59 2013: reading /Volumes/web/cnidarian/BiGo_lar_T1D3.sam ...\r\n"
       ]
      },
      {
       "output_type": "stream",
       "stream": "stdout",
       "text": [
        "[samopen] SAM header is present: 11969 sequences.\r\n"
       ]
      },
      {
       "output_type": "stream",
       "stream": "stdout",
       "text": [
        "@ Wed Oct  2 12:41:29 2013: combining CpG methylation from both strands ...\r\n"
       ]
      },
      {
       "output_type": "stream",
       "stream": "stdout",
       "text": [
        "@ Wed Oct  2 12:42:09 2013: writing /Volumes/web/cnidarian/BiGo_lar_TID3_methratio_v9_A.txt ...\r\n"
       ]
      },
      {
       "output_type": "stream",
       "stream": "stdout",
       "text": [
        "@ Wed Oct  2 12:51:24 2013: done.\r\n",
        "total 3716891 valid mappings, 27890024 covered cytosines, average coverage: 1.34 fold.\r\n"
       ]
      }
     ],
     "prompt_number": 4
    },
    {
     "cell_type": "code",
     "collapsed": false,
     "input": [
      "from pandas import *\n",
      "\n",
      "# read data from data file into a pandas DataFrame  \n",
      "TID3 = read_table(\"http://eagle.fish.washington.edu/cnidarian/BiGo_lar_TID3_methratio_v9_A.txt\", # name of the data file\n",
      "           # sep=\",\", # what character separates each column?\n",
      "            na_values=[\"\", \" \"]) # what values should be considered \"blank\" values?"
     ],
     "language": "python",
     "metadata": {},
     "outputs": [],
     "prompt_number": 16
    },
    {
     "cell_type": "code",
     "collapsed": false,
     "input": [
      "TID3['ratio'].hist(bins=100);\n",
      "#Axis limits are changed using the axis([xmin, xmax, ymin, ymax]) function.\n",
      "#plt.axis([0, 1, 0, 50000])\n"
     ],
     "language": "python",
     "metadata": {},
     "outputs": [
      {
       "metadata": {},
       "output_type": "pyout",
       "prompt_number": 18,
       "text": [
        "<matplotlib.axes.AxesSubplot at 0x106a80750>"
       ]
      },
      {
       "metadata": {},
       "output_type": "display_data",
       "png": "[encoded data removed]",
       "text": [
        "<matplotlib.figure.Figure at 0x1074a70d0>"
       ]
      }
     ],
     "prompt_number": 18
    },
    {
     "cell_type": "heading",
     "level": 3,
     "metadata": {},
     "source": [
      "T1D5"
     ]
    },
    {
     "cell_type": "code",
     "collapsed": false,
     "input": [
      "#T1D5\n",
      "! /Users/Shared/Apps/bsmap-2.73/bsmap -a /Volumes/NGS\\ Drive/NGS\\ Raw\\ Data/Cg_larvae_BSseq/filtered_BS_CgLarv_T1D5_ACAGTG_L007_R1.fastq.gz -b /Volumes/NGS\\ Drive/NGS\\ Raw\\ Data/Cg_larvae_BSseq/filtered_BS_CgLarv_T1D5_ACAGTG_L007_R2.fastq.gz -d /Volumes/web/cnidarian/oyster.v9.fa -o /Volumes/web/cnidarian/BiGo_lar_T1D5.sam -p 8"
     ],
     "language": "python",
     "metadata": {},
     "outputs": [
      {
       "output_type": "stream",
       "stream": "stdout",
       "text": [
        "\r\n",
        "BSMAP v2.73\r\n",
        "Start at:  Tue Oct  1 13:47:35 2013\r\n",
        "\r\n",
        "Input reference file: /Volumes/web/cnidarian/oyster.v9.fa \t(format: FASTA)\r\n"
       ]
      },
      {
       "output_type": "stream",
       "stream": "stdout",
       "text": [
        "Load in 11969 db seqs, total size 558601156 bp. 8 secs passed\r\n",
        "total_kmers: 43046721\r\n"
       ]
      },
      {
       "output_type": "stream",
       "stream": "stdout",
       "text": [
        "Create seed table. 24 secs passed\r\n",
        "max number of mismatches: read_length * 8% \tmax gap size: 0\r\n",
        "kmer cut-off ratio:5e-07\r\n",
        "max multi-hits: 100\tmax Ns: 5\tseed size: 16\tindex interval: 4\r\n",
        "quality cutoff: 0\tbase quality char: '!'\r\n",
        "min fragment size:28\tmax fragemt size:500\r\n",
        "start from read #1\tend at read #4294967295\r\n",
        "additional alignment: T in reads => C in reference\r\n",
        "mapping strand (read_1): ++,-+\r\n",
        "mapping strand (read_2): +-,--\r\n",
        "Pair-end alignment(8 threads)\r\n",
        "Input read file #1: /Volumes/NGS Drive/NGS Raw Data/Cg_larvae_BSseq/filtered_BS_CgLarv_T1D5_ACAGTG_L007_R1.fastq.gz"
       ]
      },
      {
       "output_type": "stream",
       "stream": "stdout",
       "text": [
        " \t(format: gzipped FASTQ)\r\n",
        "Input read file #2: /Volumes/NGS Drive/NGS Raw Data/Cg_larvae_BSseq/filtered_BS_CgLarv_T1D5_ACAGTG_L007_R2.fastq.gz"
       ]
      },
      {
       "output_type": "stream",
       "stream": "stdout",
       "text": [
        " \t(format: gzipped FASTQ)\r\n",
        "Output file: /Volumes/web/cnidarian/BiGo_lar_T1D5.sam\t (format: SAM)\r\n"
       ]
      },
      {
       "output_type": "stream",
       "stream": "stdout",
       "text": [
        "Thread #7: \t100000 read pairs finished. 128 secs passed\r\n"
       ]
      },
      {
       "output_type": "stream",
       "stream": "stdout",
       "text": [
        "Thread #3: \t150000 read pairs finished. 129 secs passed\r\n"
       ]
      },
      {
       "output_type": "stream",
       "stream": "stdout",
       "text": [
        "Thread #5: \t50000 read pairs finished. 130 secs passed\r\n"
       ]
      },
      {
       "output_type": "stream",
       "stream": "stdout",
       "text": [
        "Thread #4: \t200000 read pairs finished. 131 secs passed\r\n"
       ]
      },
      {
       "output_type": "stream",
       "stream": "stdout",
       "text": [
        "Thread #6: \t250000 read pairs finished. 132 secs passed\r\n"
       ]
      },
      {
       "output_type": "stream",
       "stream": "stdout",
       "text": [
        "Thread #2: \t300000 read pairs finished. 133 secs passed\r\n"
       ]
      },
      {
       "output_type": "stream",
       "stream": "stdout",
       "text": [
        "Thread #1: \t350000 read pairs finished. 134 secs passed\r\n"
       ]
      },
      {
       "output_type": "stream",
       "stream": "stdout",
       "text": [
        "Thread #0: \t400000 read pairs finished. 134 secs passed\r\n"
       ]
      },
      {
       "output_type": "stream",
       "stream": "stdout",
       "text": [
        "Thread #7: \t450000 read pairs finished. 228 secs passed\r\n"
       ]
      },
      {
       "output_type": "stream",
       "stream": "stdout",
       "text": [
        "Thread #4: \t600000 read pairs finished. 232 secs passed\r\n"
       ]
      },
      {
       "output_type": "stream",
       "stream": "stdout",
       "text": [
        "Thread #6: \t650000 read pairs finished. 233 secs passed\r\n"
       ]
      },
      {
       "output_type": "stream",
       "stream": "stdout",
       "text": [
        "Thread #5: \t550000 read pairs finished. 234 secs passed\r\n"
       ]
      },
      {
       "output_type": "stream",
       "stream": "stdout",
       "text": [
        "Thread #2: \t700000 read pairs finished. 235 secs passed\r\n"
       ]
      },
      {
       "output_type": "stream",
       "stream": "stdout",
       "text": [
        "Thread #1: \t750000 read pairs finished. 236 secs passed\r\n"
       ]
      },
      {
       "output_type": "stream",
       "stream": "stdout",
       "text": [
        "Thread #0: \t800000 read pairs finished. 236 secs passed\r\n"
       ]
      },
      {
       "output_type": "stream",
       "stream": "stdout",
       "text": [
        "Thread #3: \t500000 read pairs finished. 243 secs passed\r\n"
       ]
      },
      {
       "output_type": "stream",
       "stream": "stdout",
       "text": [
        "Thread #7: \t850000 read pairs finished. 329 secs passed\r\n"
       ]
      },
      {
       "output_type": "stream",
       "stream": "stdout",
       "text": [
        "Thread #4: \t900000 read pairs finished. 335 secs passed\r\n"
       ]
      },
      {
       "output_type": "stream",
       "stream": "stdout",
       "text": [
        "Thread #6: \t950000 read pairs finished. 336 secs passed\r\n"
       ]
      },
      {
       "output_type": "stream",
       "stream": "stdout",
       "text": [
        "Thread #5: \t1000000 read pairs finished. 336 secs passed\r\n"
       ]
      },
      {
       "output_type": "stream",
       "stream": "stdout",
       "text": [
        "Thread #2: \t1050000 read pairs finished. 337 secs passed\r\n"
       ]
      },
      {
       "output_type": "stream",
       "stream": "stdout",
       "text": [
        "Thread #1: \t1100000 read pairs finished. 337 secs passed\r\n"
       ]
      },
      {
       "output_type": "stream",
       "stream": "stdout",
       "text": [
        "Thread #0: \t1150000 read pairs finished. 339 secs passed\r\n"
       ]
      },
      {
       "output_type": "stream",
       "stream": "stdout",
       "text": [
        "Thread #3: \t1200000 read pairs finished. 345 secs passed\r\n"
       ]
      },
      {
       "output_type": "stream",
       "stream": "stdout",
       "text": [
        "Thread #7: \t1250000 read pairs finished. 431 secs passed\r\n"
       ]
      },
      {
       "output_type": "stream",
       "stream": "stdout",
       "text": [
        "Thread #4: \t1300000 read pairs finished. 438 secs passed\r\n"
       ]
      },
      {
       "output_type": "stream",
       "stream": "stdout",
       "text": [
        "Thread #2: \t1450000 read pairs finished. 442 secs passed\r\n"
       ]
      },
      {
       "output_type": "stream",
       "stream": "stdout",
       "text": [
        "Thread #6: \t1350000 read pairs finished. 442 secs passed\r\n"
       ]
      },
      {
       "output_type": "stream",
       "stream": "stdout",
       "text": [
        "Thread #1: \t1500000 read pairs finished. 443 secs passed\r\n"
       ]
      },
      {
       "output_type": "stream",
       "stream": "stdout",
       "text": [
        "Thread #5: \t1400000 read pairs finished. 443 secs passed\r\n"
       ]
      },
      {
       "output_type": "stream",
       "stream": "stdout",
       "text": [
        "Thread #0: \t1550000 read pairs finished. 444 secs passed\r\n"
       ]
      },
      {
       "output_type": "stream",
       "stream": "stdout",
       "text": [
        "Thread #3: \t1600000 read pairs finished. 448 secs passed\r\n"
       ]
      },
      {
       "output_type": "stream",
       "stream": "stdout",
       "text": [
        "Thread #7: \t1650000 read pairs finished. 533 secs passed\r\n"
       ]
      },
      {
       "output_type": "stream",
       "stream": "stdout",
       "text": [
        "Thread #4: \t1700000 read pairs finished. 541 secs passed\r\n"
       ]
      },
      {
       "output_type": "stream",
       "stream": "stdout",
       "text": [
        "Thread #2: \t1750000 read pairs finished. 544 secs passed\r\n"
       ]
      },
      {
       "output_type": "stream",
       "stream": "stdout",
       "text": [
        "Thread #6: \t1800000 read pairs finished. 546 secs passed\r\n"
       ]
      },
      {
       "output_type": "stream",
       "stream": "stdout",
       "text": [
        "Thread #0: \t1950000 read pairs finished. 549 secs passed\r\n"
       ]
      },
      {
       "output_type": "stream",
       "stream": "stdout",
       "text": [
        "Thread #5: \t1900000 read pairs finished. 551 secs passed\r\n"
       ]
      },
      {
       "output_type": "stream",
       "stream": "stdout",
       "text": [
        "Thread #3: \t2000000 read pairs finished. 553 secs passed\r\n"
       ]
      },
      {
       "output_type": "stream",
       "stream": "stdout",
       "text": [
        "Thread #1: \t1850000 read pairs finished. 558 secs passed\r\n"
       ]
      },
      {
       "output_type": "stream",
       "stream": "stdout",
       "text": [
        "Thread #7: \t2050000 read pairs finished. 635 secs passed\r\n"
       ]
      },
      {
       "output_type": "stream",
       "stream": "stdout",
       "text": [
        "Thread #4: \t2100000 read pairs finished. 643 secs passed\r\n"
       ]
      },
      {
       "output_type": "stream",
       "stream": "stdout",
       "text": [
        "Thread #2: \t2150000 read pairs finished. 647 secs passed\r\n"
       ]
      },
      {
       "output_type": "stream",
       "stream": "stdout",
       "text": [
        "Thread #6: \t2200000 read pairs finished. 648 secs passed\r\n"
       ]
      },
      {
       "output_type": "stream",
       "stream": "stdout",
       "text": [
        "Thread #0: \t2250000 read pairs finished. 652 secs passed\r\n"
       ]
      },
      {
       "output_type": "stream",
       "stream": "stdout",
       "text": [
        "Thread #5: \t2300000 read pairs finished. 654 secs passed\r\n"
       ]
      },
      {
       "output_type": "stream",
       "stream": "stdout",
       "text": [
        "Thread #3: \t2350000 read pairs finished. 655 secs passed\r\n"
       ]
      },
      {
       "output_type": "stream",
       "stream": "stdout",
       "text": [
        "Thread #1: \t2400000 read pairs finished. 661 secs passed\r\n"
       ]
      },
      {
       "output_type": "stream",
       "stream": "stdout",
       "text": [
        "Thread #3: \t2709822 read pairs finished. 674 secs passed\r\n"
       ]
      },
      {
       "output_type": "stream",
       "stream": "stdout",
       "text": [
        "Thread #7: \t2450000 read pairs finished. 717 secs passed\r\n"
       ]
      },
      {
       "output_type": "stream",
       "stream": "stdout",
       "text": [
        "Thread #4: \t2500000 read pairs finished. 721 secs passed\r\n"
       ]
      },
      {
       "output_type": "stream",
       "stream": "stdout",
       "text": [
        "Thread #2: \t2550000 read pairs finished. 723 secs passed\r\n"
       ]
      },
      {
       "output_type": "stream",
       "stream": "stdout",
       "text": [
        "Thread #6: \t2600000 read pairs finished. 724 secs passed\r\n"
       ]
      },
      {
       "output_type": "stream",
       "stream": "stdout",
       "text": [
        "Thread #0: \t2650000 read pairs finished. 724 secs passed\r\n"
       ]
      },
      {
       "output_type": "stream",
       "stream": "stdout",
       "text": [
        "Thread #5: \t2700000 read pairs finished. 725 secs passed\r\n"
       ]
      },
      {
       "output_type": "stream",
       "stream": "stdout",
       "text": [
        "Total number of aligned reads: \r\n",
        "pairs:       1142766 (42%)\r\n",
        "single a:    764422 (28%)\r\n",
        "single b:    567963 (21%)\r\n",
        "Done.\r\n",
        "Finished at Tue Oct  1 13:59:46 2013\r\n",
        "Total time consumed:  731 secs\r\n"
       ]
      }
     ],
     "prompt_number": 40
    },
    {
     "cell_type": "code",
     "collapsed": false,
     "input": [
      "#TID5 methratio\n",
      "!python /Users/Shared/Apps/bsmap-2.74/methratio.py -d /Volumes/web/cnidarian/oyster.v9.fa -u -z -g -o  /Volumes/web/cnidarian/BiGo_lar_TID5_methratio_v9_A.txt -s /Users/Shared/Apps/bsmap-2.74/samtools /Volumes/web/cnidarian/BiGo_lar_T1D5.sam"
     ],
     "language": "python",
     "metadata": {},
     "outputs": [
      {
       "output_type": "stream",
       "stream": "stdout",
       "text": [
        "@ Wed Oct  2 12:54:31 2013: reading reference /Volumes/web/cnidarian/oyster.v9.fa ...\r\n"
       ]
      },
      {
       "output_type": "stream",
       "stream": "stdout",
       "text": [
        "@ Wed Oct  2 12:55:04 2013: reading /Volumes/web/cnidarian/BiGo_lar_T1D5.sam ...\r\n"
       ]
      },
      {
       "output_type": "stream",
       "stream": "stdout",
       "text": [
        "[samopen] SAM header is present: 11969 sequences.\r\n"
       ]
      },
      {
       "output_type": "stream",
       "stream": "stdout",
       "text": [
        "@ Wed Oct  2 12:57:52 2013: combining CpG methylation from both strands ...\r\n"
       ]
      },
      {
       "output_type": "stream",
       "stream": "stdout",
       "text": [
        "@ Wed Oct  2 12:58:33 2013: writing /Volumes/web/cnidarian/BiGo_lar_TID5_methratio_v9_A.txt ...\r\n"
       ]
      },
      {
       "output_type": "stream",
       "stream": "stdout",
       "text": [
        "@ Wed Oct  2 13:07:53 2013: done.\r\n",
        "total 2964457 valid mappings, 24242913 covered cytosines, average coverage: 1.26 fold.\r\n"
       ]
      }
     ],
     "prompt_number": 5
    },
    {
     "cell_type": "heading",
     "level": 3,
     "metadata": {},
     "source": [
      "T3D3"
     ]
    },
    {
     "cell_type": "code",
     "collapsed": false,
     "input": [
      "#T3D3\n",
      "! /Users/Shared/Apps/bsmap-2.73/bsmap -a /Volumes/NGS\\ Drive/NGS\\ Raw\\ Data/Cg_larvae_BSseq/filtered_Bs_CgLarve_T3D3_GCCAAT_L007_R1.fastq.gz -b /Volumes/NGS\\ Drive/NGS\\ Raw\\ Data/Cg_larvae_BSseq/filtered_Bs_CgLarve_T3D3_GCCAAT_L007_R2.fastq.gz -d /Volumes/web/cnidarian/oyster.v9.fa -o /Volumes/web/cnidarian/BiGo_lar_T3D3.sam -p 8"
     ],
     "language": "python",
     "metadata": {},
     "outputs": [
      {
       "output_type": "stream",
       "stream": "stdout",
       "text": [
        "\r\n",
        "BSMAP v2.73\r\n",
        "Start at:  Wed Oct  2 07:01:57 2013\r\n",
        "\r\n",
        "Input reference file: /Volumes/web/cnidarian/oyster.v9.fa"
       ]
      },
      {
       "output_type": "stream",
       "stream": "stdout",
       "text": [
        " \t(format: FASTA)\r\n"
       ]
      },
      {
       "output_type": "stream",
       "stream": "stdout",
       "text": [
        "Load in 11969 db seqs, total size 558601156 bp. 15 secs passed\r\n",
        "total_kmers: 43046721\r\n"
       ]
      },
      {
       "output_type": "stream",
       "stream": "stdout",
       "text": [
        "Create seed table. 29 secs passed\r\n",
        "max number of mismatches: read_length * 8% \tmax gap size: 0\r\n",
        "kmer cut-off ratio:5e-07\r\n",
        "max multi-hits: 100\tmax Ns: 5\tseed size: 16\tindex interval: 4\r\n",
        "quality cutoff: 0\tbase quality char: '!'\r\n",
        "min fragment size:28\tmax fragemt size:500\r\n",
        "start from read #1\tend at read #4294967295\r\n",
        "additional alignment: T in reads => C in reference\r\n",
        "mapping strand (read_1): ++,-+\r\n",
        "mapping strand (read_2): +-,--\r\n",
        "Pair-end alignment(8 threads)\r\n",
        "Input read file #1: /Volumes/NGS Drive/NGS Raw Data/Cg_larvae_BSseq/filtered_Bs_CgLarve_T3D3_GCCAAT_L007_R1.fastq.gz"
       ]
      },
      {
       "output_type": "stream",
       "stream": "stdout",
       "text": [
        " \t(format: gzipped FASTQ)\r\n",
        "Input read file #2: /Volumes/NGS Drive/NGS Raw Data/Cg_larvae_BSseq/filtered_Bs_CgLarve_T3D3_GCCAAT_L007_R2.fastq.gz"
       ]
      },
      {
       "output_type": "stream",
       "stream": "stdout",
       "text": [
        " \t(format: gzipped FASTQ)\r\n",
        "Output file: /Volumes/web/cnidarian/BiGo_lar_T3D3.sam\t (format: SAM)\r\n"
       ]
      },
      {
       "output_type": "stream",
       "stream": "stdout",
       "text": [
        "Thread #2: \t50000 read pairs finished. 122 secs passed\r\n"
       ]
      },
      {
       "output_type": "stream",
       "stream": "stdout",
       "text": [
        "Thread #3: \t150000 read pairs finished. 122 secs passed\r\n"
       ]
      },
      {
       "output_type": "stream",
       "stream": "stdout",
       "text": [
        "Thread #5: \t100000 read pairs finished. 123 secs passed\r\n"
       ]
      },
      {
       "output_type": "stream",
       "stream": "stdout",
       "text": [
        "Thread #1: \t250000 read pairs finished. 123 secs passed\r\n"
       ]
      },
      {
       "output_type": "stream",
       "stream": "stdout",
       "text": [
        "Thread #4: \t300000 read pairs finished. 125 secs passed\r\n"
       ]
      },
      {
       "output_type": "stream",
       "stream": "stdout",
       "text": [
        "Thread #6: \t200000 read pairs finished. 125 secs passed\r\n"
       ]
      },
      {
       "output_type": "stream",
       "stream": "stdout",
       "text": [
        "Thread #0: \t350000 read pairs finished. 126 secs passed\r\n"
       ]
      },
      {
       "output_type": "stream",
       "stream": "stdout",
       "text": [
        "Thread #7: \t400000 read pairs finished. 127 secs passed\r\n"
       ]
      },
      {
       "output_type": "stream",
       "stream": "stdout",
       "text": [
        "Thread #2: \t450000 read pairs finished. 215 secs passed\r\n"
       ]
      },
      {
       "output_type": "stream",
       "stream": "stdout",
       "text": [
        "Thread #3: \t500000 read pairs finished. 217 secs passed\r\n"
       ]
      },
      {
       "output_type": "stream",
       "stream": "stdout",
       "text": [
        "Thread #5: \t550000 read pairs finished. 218 secs passed\r\n"
       ]
      },
      {
       "output_type": "stream",
       "stream": "stdout",
       "text": [
        "Thread #1: \t600000 read pairs finished. 219 secs passed\r\n"
       ]
      },
      {
       "output_type": "stream",
       "stream": "stdout",
       "text": [
        "Thread #4: \t650000 read pairs finished. 220 secs passed\r\n"
       ]
      },
      {
       "output_type": "stream",
       "stream": "stdout",
       "text": [
        "Thread #0: \t750000 read pairs finished. 221 secs passed\r\n"
       ]
      },
      {
       "output_type": "stream",
       "stream": "stdout",
       "text": [
        "Thread #7: \t800000 read pairs finished. 223 secs passed\r\n"
       ]
      },
      {
       "output_type": "stream",
       "stream": "stdout",
       "text": [
        "Thread #6: \t700000 read pairs finished. 224 secs passed\r\n"
       ]
      },
      {
       "output_type": "stream",
       "stream": "stdout",
       "text": [
        "Thread #2: \t850000 read pairs finished. 304 secs passed\r\n"
       ]
      },
      {
       "output_type": "stream",
       "stream": "stdout",
       "text": [
        "Thread #3: \t900000 read pairs finished. 307 secs passed\r\n"
       ]
      },
      {
       "output_type": "stream",
       "stream": "stdout",
       "text": [
        "Thread #5: \t950000 read pairs finished. 307 secs passed\r\n"
       ]
      },
      {
       "output_type": "stream",
       "stream": "stdout",
       "text": [
        "Thread #7: \t1150000 read pairs finished. 317 secs passed\r\n"
       ]
      },
      {
       "output_type": "stream",
       "stream": "stdout",
       "text": [
        "Thread #6: \t1200000 read pairs finished. 319 secs passed\r\n"
       ]
      },
      {
       "output_type": "stream",
       "stream": "stdout",
       "text": [
        "Thread #0: \t1100000 read pairs finished. 319 secs passed\r\n"
       ]
      },
      {
       "output_type": "stream",
       "stream": "stdout",
       "text": [
        "Thread #1: \t1000000 read pairs finished. 322 secs passed\r\n"
       ]
      },
      {
       "output_type": "stream",
       "stream": "stdout",
       "text": [
        "Thread #4: \t1050000 read pairs finished. 324 secs passed\r\n"
       ]
      },
      {
       "output_type": "stream",
       "stream": "stdout",
       "text": [
        "Thread #2: \t1250000 read pairs finished. 396 secs passed\r\n"
       ]
      },
      {
       "output_type": "stream",
       "stream": "stdout",
       "text": [
        "Thread #3: \t1300000 read pairs finished. 400 secs passed\r\n"
       ]
      },
      {
       "output_type": "stream",
       "stream": "stdout",
       "text": [
        "Thread #5: \t1350000 read pairs finished. 401 secs passed\r\n"
       ]
      },
      {
       "output_type": "stream",
       "stream": "stdout",
       "text": [
        "Thread #7: \t1400000 read pairs finished. 411 secs passed\r\n"
       ]
      },
      {
       "output_type": "stream",
       "stream": "stdout",
       "text": [
        "Thread #0: \t1500000 read pairs finished. 415 secs passed\r\n"
       ]
      },
      {
       "output_type": "stream",
       "stream": "stdout",
       "text": [
        "Thread #6: \t1450000 read pairs finished. 416 secs passed\r\n"
       ]
      },
      {
       "output_type": "stream",
       "stream": "stdout",
       "text": [
        "Thread #1: \t1550000 read pairs finished. 417 secs passed\r\n"
       ]
      },
      {
       "output_type": "stream",
       "stream": "stdout",
       "text": [
        "Thread #4: \t1600000 read pairs finished. 419 secs passed\r\n"
       ]
      },
      {
       "output_type": "stream",
       "stream": "stdout",
       "text": [
        "Thread #2: \t1650000 read pairs finished. 494 secs passed\r\n"
       ]
      },
      {
       "output_type": "stream",
       "stream": "stdout",
       "text": [
        "Thread #3: \t1700000 read pairs finished. 498 secs passed\r\n"
       ]
      },
      {
       "output_type": "stream",
       "stream": "stdout",
       "text": [
        "Thread #5: \t1750000 read pairs finished. 499 secs passed\r\n"
       ]
      },
      {
       "output_type": "stream",
       "stream": "stdout",
       "text": [
        "Thread #7: \t1800000 read pairs finished. 509 secs passed\r\n"
       ]
      },
      {
       "output_type": "stream",
       "stream": "stdout",
       "text": [
        "Thread #0: \t1850000 read pairs finished. 513 secs passed\r\n"
       ]
      },
      {
       "output_type": "stream",
       "stream": "stdout",
       "text": [
        "Thread #1: \t1950000 read pairs finished. 517 secs passed\r\n"
       ]
      },
      {
       "output_type": "stream",
       "stream": "stdout",
       "text": [
        "Thread #4: \t2000000 read pairs finished. 518 secs passed\r\n"
       ]
      },
      {
       "output_type": "stream",
       "stream": "stdout",
       "text": [
        "Thread #6: \t1900000 read pairs finished. 519 secs passed\r\n"
       ]
      },
      {
       "output_type": "stream",
       "stream": "stdout",
       "text": [
        "Thread #2: \t2050000 read pairs finished. 592 secs passed\r\n"
       ]
      },
      {
       "output_type": "stream",
       "stream": "stdout",
       "text": [
        "Thread #3: \t2100000 read pairs finished. 597 secs passed\r\n"
       ]
      },
      {
       "output_type": "stream",
       "stream": "stdout",
       "text": [
        "Thread #5: \t2150000 read pairs finished. 597 secs passed\r\n"
       ]
      },
      {
       "output_type": "stream",
       "stream": "stdout",
       "text": [
        "Thread #7: \t2200000 read pairs finished. 608 secs passed\r\n"
       ]
      },
      {
       "output_type": "stream",
       "stream": "stdout",
       "text": [
        "Thread #0: \t2250000 read pairs finished. 611 secs passed\r\n"
       ]
      },
      {
       "output_type": "stream",
       "stream": "stdout",
       "text": [
        "Thread #1: \t2300000 read pairs finished. 615 secs passed\r\n"
       ]
      },
      {
       "output_type": "stream",
       "stream": "stdout",
       "text": [
        "Thread #4: \t2350000 read pairs finished. 617 secs passed\r\n"
       ]
      },
      {
       "output_type": "stream",
       "stream": "stdout",
       "text": [
        "Thread #6: \t2400000 read pairs finished. 621 secs passed\r\n"
       ]
      },
      {
       "output_type": "stream",
       "stream": "stdout",
       "text": [
        "Thread #2: \t2450000 read pairs finished. 690 secs passed\r\n"
       ]
      },
      {
       "output_type": "stream",
       "stream": "stdout",
       "text": [
        "Thread #3: \t2500000 read pairs finished. 696 secs passed\r\n"
       ]
      },
      {
       "output_type": "stream",
       "stream": "stdout",
       "text": [
        "Thread #5: \t2550000 read pairs finished. 697 secs passed\r\n"
       ]
      },
      {
       "output_type": "stream",
       "stream": "stdout",
       "text": [
        "Thread #7: \t2600000 read pairs finished. 707 secs passed\r\n"
       ]
      },
      {
       "output_type": "stream",
       "stream": "stdout",
       "text": [
        "Thread #0: \t2650000 read pairs finished. 710 secs passed\r\n"
       ]
      },
      {
       "output_type": "stream",
       "stream": "stdout",
       "text": [
        "Thread #1: \t2700000 read pairs finished. 713 secs passed\r\n"
       ]
      },
      {
       "output_type": "stream",
       "stream": "stdout",
       "text": [
        "Thread #4: \t2750000 read pairs finished. 716 secs passed\r\n"
       ]
      },
      {
       "output_type": "stream",
       "stream": "stdout",
       "text": [
        "Thread #6: \t2800000 read pairs finished. 722 secs passed\r\n"
       ]
      },
      {
       "output_type": "stream",
       "stream": "stdout",
       "text": [
        "Thread #2: \t2850000 read pairs finished. 787 secs passed\r\n"
       ]
      },
      {
       "output_type": "stream",
       "stream": "stdout",
       "text": [
        "Thread #5: \t2950000 read pairs finished. 799 secs passed\r\n"
       ]
      },
      {
       "output_type": "stream",
       "stream": "stdout",
       "text": [
        "Thread #3: \t2900000 read pairs finished. 800 secs passed\r\n"
       ]
      },
      {
       "output_type": "stream",
       "stream": "stdout",
       "text": [
        "Thread #7: \t3000000 read pairs finished. 807 secs passed\r\n"
       ]
      },
      {
       "output_type": "stream",
       "stream": "stdout",
       "text": [
        "Thread #0: \t3050000 read pairs finished. 808 secs passed\r\n"
       ]
      },
      {
       "output_type": "stream",
       "stream": "stdout",
       "text": [
        "Thread #1: \t3100000 read pairs finished. 811 secs passed\r\n"
       ]
      },
      {
       "output_type": "stream",
       "stream": "stdout",
       "text": [
        "Thread #4: \t3150000 read pairs finished. 813 secs passed\r\n"
       ]
      },
      {
       "output_type": "stream",
       "stream": "stdout",
       "text": [
        "Thread #6: \t3200000 read pairs finished. 822 secs passed\r\n"
       ]
      },
      {
       "output_type": "stream",
       "stream": "stdout",
       "text": [
        "Thread #2: \t3250000 read pairs finished. 884 secs passed\r\n"
       ]
      },
      {
       "output_type": "stream",
       "stream": "stdout",
       "text": [
        "Thread #5: \t3300000 read pairs finished. 897 secs passed\r\n"
       ]
      },
      {
       "output_type": "stream",
       "stream": "stdout",
       "text": [
        "Thread #3: \t3350000 read pairs finished. 899 secs passed\r\n"
       ]
      },
      {
       "output_type": "stream",
       "stream": "stdout",
       "text": [
        "Thread #7: \t3400000 read pairs finished. 907 secs passed\r\n"
       ]
      },
      {
       "output_type": "stream",
       "stream": "stdout",
       "text": [
        "Thread #0: \t3450000 read pairs finished. 907 secs passed\r\n"
       ]
      },
      {
       "output_type": "stream",
       "stream": "stdout",
       "text": [
        "Thread #1: \t3500000 read pairs finished. 910 secs passed\r\n"
       ]
      },
      {
       "output_type": "stream",
       "stream": "stdout",
       "text": [
        "Thread #4: \t3550000 read pairs finished. 913 secs passed\r\n"
       ]
      },
      {
       "output_type": "stream",
       "stream": "stdout",
       "text": [
        "Thread #6: \t3600000 read pairs finished. 924 secs passed\r\n"
       ]
      },
      {
       "output_type": "stream",
       "stream": "stdout",
       "text": [
        "Thread #2: \t3650000 read pairs finished. 980 secs passed\r\n"
       ]
      },
      {
       "output_type": "stream",
       "stream": "stdout",
       "text": [
        "Thread #5: \t3700000 read pairs finished. 993 secs passed\r\n"
       ]
      },
      {
       "output_type": "stream",
       "stream": "stdout",
       "text": [
        "Thread #3: \t3750000 read pairs finished. 995 secs passed\r\n"
       ]
      },
      {
       "output_type": "stream",
       "stream": "stdout",
       "text": [
        "Thread #7: \t3800000 read pairs finished. 1002 secs passed\r\n"
       ]
      },
      {
       "output_type": "stream",
       "stream": "stdout",
       "text": [
        "Thread #0: \t3850000 read pairs finished. 1003 secs passed\r\n"
       ]
      },
      {
       "output_type": "stream",
       "stream": "stdout",
       "text": [
        "Thread #1: \t3900000 read pairs finished. 1015 secs passed\r\n"
       ]
      },
      {
       "output_type": "stream",
       "stream": "stdout",
       "text": [
        "Thread #4: \t3950000 read pairs finished. 1024 secs passed\r\n"
       ]
      },
      {
       "output_type": "stream",
       "stream": "stdout",
       "text": [
        "Thread #6: \t4000000 read pairs finished. 1032 secs passed\r\n"
       ]
      },
      {
       "output_type": "stream",
       "stream": "stdout",
       "text": [
        "Thread #2: \t4050000 read pairs finished. 1081 secs passed\r\n"
       ]
      },
      {
       "output_type": "stream",
       "stream": "stdout",
       "text": [
        "Thread #5: \t4100000 read pairs finished. 1092 secs passed\r\n"
       ]
      },
      {
       "output_type": "stream",
       "stream": "stdout",
       "text": [
        "Thread #3: \t4150000 read pairs finished. 1093 secs passed\r\n"
       ]
      },
      {
       "output_type": "stream",
       "stream": "stdout",
       "text": [
        "Thread #7: \t4200000 read pairs finished. 1100 secs passed\r\n"
       ]
      },
      {
       "output_type": "stream",
       "stream": "stdout",
       "text": [
        "Thread #0: \t4250000 read pairs finished. 1101 secs passed\r\n"
       ]
      },
      {
       "output_type": "stream",
       "stream": "stdout",
       "text": [
        "Thread #1: \t4300000 read pairs finished. 1114 secs passed\r\n"
       ]
      },
      {
       "output_type": "stream",
       "stream": "stdout",
       "text": [
        "Thread #4: \t4350000 read pairs finished. 1123 secs passed\r\n"
       ]
      },
      {
       "output_type": "stream",
       "stream": "stdout",
       "text": [
        "Thread #6: \t4400000 read pairs finished. 1135 secs passed\r\n"
       ]
      },
      {
       "output_type": "stream",
       "stream": "stdout",
       "text": [
        "Thread #2: \t4450000 read pairs finished. 1181 secs passed\r\n"
       ]
      },
      {
       "output_type": "stream",
       "stream": "stdout",
       "text": [
        "Thread #5: \t4500000 read pairs finished. 1191 secs passed\r\n"
       ]
      },
      {
       "output_type": "stream",
       "stream": "stdout",
       "text": [
        "Thread #3: \t4550000 read pairs finished. 1192 secs passed\r\n"
       ]
      },
      {
       "output_type": "stream",
       "stream": "stdout",
       "text": [
        "Thread #7: \t4600000 read pairs finished. 1199 secs passed\r\n"
       ]
      },
      {
       "output_type": "stream",
       "stream": "stdout",
       "text": [
        "Thread #0: \t4650000 read pairs finished. 1200 secs passed\r\n"
       ]
      },
      {
       "output_type": "stream",
       "stream": "stdout",
       "text": [
        "Thread #1: \t4700000 read pairs finished. 1212 secs passed\r\n"
       ]
      },
      {
       "output_type": "stream",
       "stream": "stdout",
       "text": [
        "Thread #4: \t4750000 read pairs finished. 1222 secs passed\r\n"
       ]
      },
      {
       "output_type": "stream",
       "stream": "stdout",
       "text": [
        "Thread #6: \t4800000 read pairs finished. 1236 secs passed\r\n"
       ]
      },
      {
       "output_type": "stream",
       "stream": "stdout",
       "text": [
        "Thread #2: \t4850000 read pairs finished. 1282 secs passed\r\n"
       ]
      },
      {
       "output_type": "stream",
       "stream": "stdout",
       "text": [
        "Thread #3: \t4950000 read pairs finished. 1292 secs passed\r\n"
       ]
      },
      {
       "output_type": "stream",
       "stream": "stdout",
       "text": [
        "Thread #5: \t4900000 read pairs finished. 1292 secs passed\r\n"
       ]
      },
      {
       "output_type": "stream",
       "stream": "stdout",
       "text": [
        "Thread #7: \t5000000 read pairs finished. 1297 secs passed\r\n"
       ]
      },
      {
       "output_type": "stream",
       "stream": "stdout",
       "text": [
        "Thread #0: \t5050000 read pairs finished. 1299 secs passed\r\n"
       ]
      },
      {
       "output_type": "stream",
       "stream": "stdout",
       "text": [
        "Thread #1: \t5100000 read pairs finished. 1310 secs passed\r\n"
       ]
      },
      {
       "output_type": "stream",
       "stream": "stdout",
       "text": [
        "Thread #4: \t5150000 read pairs finished. 1321 secs passed\r\n"
       ]
      },
      {
       "output_type": "stream",
       "stream": "stdout",
       "text": [
        "Thread #6: \t5200000 read pairs finished. 1338 secs passed\r\n"
       ]
      },
      {
       "output_type": "stream",
       "stream": "stdout",
       "text": [
        "Thread #2: \t5250000 read pairs finished. 1380 secs passed\r\n"
       ]
      },
      {
       "output_type": "stream",
       "stream": "stdout",
       "text": [
        "Thread #3: \t5300000 read pairs finished. 1390 secs passed\r\n"
       ]
      },
      {
       "output_type": "stream",
       "stream": "stdout",
       "text": [
        "Thread #5: \t5350000 read pairs finished. 1392 secs passed\r\n"
       ]
      },
      {
       "output_type": "stream",
       "stream": "stdout",
       "text": [
        "Thread #7: \t5400000 read pairs finished. 1398 secs passed\r\n"
       ]
      },
      {
       "output_type": "stream",
       "stream": "stdout",
       "text": [
        "Thread #0: \t5450000 read pairs finished. 1399 secs passed\r\n"
       ]
      },
      {
       "output_type": "stream",
       "stream": "stdout",
       "text": [
        "Thread #1: \t5500000 read pairs finished. 1410 secs passed\r\n"
       ]
      },
      {
       "output_type": "stream",
       "stream": "stdout",
       "text": [
        "Thread #4: \t5550000 read pairs finished. 1420 secs passed\r\n"
       ]
      },
      {
       "output_type": "stream",
       "stream": "stdout",
       "text": [
        "Thread #6: \t5600000 read pairs finished. 1433 secs passed\r\n"
       ]
      },
      {
       "output_type": "stream",
       "stream": "stdout",
       "text": [
        "Thread #0: \t5837666 read pairs finished. 1449 secs passed\r\n"
       ]
      },
      {
       "output_type": "stream",
       "stream": "stdout",
       "text": [
        "Thread #2: \t5650000 read pairs finished. 1451 secs passed\r\n"
       ]
      },
      {
       "output_type": "stream",
       "stream": "stdout",
       "text": [
        "Thread #3: \t5700000 read pairs finished. 1453 secs passed\r\n"
       ]
      },
      {
       "output_type": "stream",
       "stream": "stdout",
       "text": [
        "Thread #5: \t5750000 read pairs finished. 1454 secs passed\r\n"
       ]
      },
      {
       "output_type": "stream",
       "stream": "stdout",
       "text": [
        "Thread #7: \t5800000 read pairs finished. 1455 secs passed\r\n"
       ]
      },
      {
       "output_type": "stream",
       "stream": "stdout",
       "text": [
        "Total number of aligned reads: \r\n",
        "pairs:       3130107 (54%)\r\n",
        "single a:    1140569 (20%)\r\n",
        "single b:    880396 (15%)\r\n",
        "Done.\r\n",
        "Finished at Wed Oct  2 07:26:12 2013\r\n",
        "Total time consumed:  1455 secs\r\n"
       ]
      }
     ],
     "prompt_number": 1
    },
    {
     "cell_type": "code",
     "collapsed": false,
     "input": [
      "#T3D3 methratio\n",
      "!python /Users/Shared/Apps/bsmap-2.74/methratio.py -d /Volumes/web/cnidarian/oyster.v9.fa -u -z -g -o  /Volumes/web/cnidarian/BiGo_lar_T3D3_methratio_v9_A.txt -s /Users/Shared/Apps/bsmap-2.74/samtools /Volumes/web/cnidarian/BiGo_lar_T3D3.sam"
     ],
     "language": "python",
     "metadata": {},
     "outputs": [
      {
       "output_type": "stream",
       "stream": "stdout",
       "text": [
        "@ Wed Oct  2 13:07:54 2013: reading reference /Volumes/web/cnidarian/oyster.v9.fa ...\r\n"
       ]
      },
      {
       "output_type": "stream",
       "stream": "stdout",
       "text": [
        "@ Wed Oct  2 13:08:27 2013: reading /Volumes/web/cnidarian/BiGo_lar_T3D3.sam ...\r\n"
       ]
      },
      {
       "output_type": "stream",
       "stream": "stdout",
       "text": [
        "[samopen] SAM header is present: 11969 sequences.\r\n"
       ]
      },
      {
       "output_type": "stream",
       "stream": "stdout",
       "text": [
        "@ Wed Oct  2 13:15:01 2013: combining CpG methylation from both strands ...\r\n"
       ]
      },
      {
       "output_type": "stream",
       "stream": "stdout",
       "text": [
        "@ Wed Oct  2 13:15:41 2013: writing /Volumes/web/cnidarian/BiGo_lar_T3D3_methratio_v9_A.txt ...\r\n"
       ]
      },
      {
       "output_type": "stream",
       "stream": "stdout",
       "text": [
        "@ Wed Oct  2 13:29:25 2013: done.\r\n",
        "total 6941630 valid mappings, 45580028 covered cytosines, average coverage: 1.55 fold.\r\n"
       ]
      }
     ],
     "prompt_number": 6
    },
    {
     "cell_type": "heading",
     "level": 3,
     "metadata": {},
     "source": [
      "T3D5"
     ]
    },
    {
     "cell_type": "code",
     "collapsed": false,
     "input": [
      "#T3D5\n",
      "! /Users/Shared/Apps/bsmap-2.73/bsmap -a /Volumes/NGS\\ Drive/NGS\\ Raw\\ Data/Cg_larvae_BSseq/filtered_BS_CgLarv_T3D5_CAGATC_L007_R1.fastq.gz -b /Volumes/NGS\\ Drive/NGS\\ Raw\\ Data/Cg_larvae_BSseq/filtered_BS_CgLarv_T3D5_CAGATC_L007_R2.fastq.gz -d /Volumes/web/cnidarian/oyster.v9.fa -o /Volumes/web/cnidarian/BiGo_lar_T3D5.sam -p 8"
     ],
     "language": "python",
     "metadata": {},
     "outputs": [
      {
       "output_type": "stream",
       "stream": "stdout",
       "text": [
        "\r\n",
        "BSMAP v2.73\r\n",
        "Start at:  Wed Oct  2 07:26:12 2013\r\n",
        "\r\n",
        "Input reference file: /Volumes/web/cnidarian/oyster.v9.fa \t(format: FASTA)\r\n"
       ]
      },
      {
       "output_type": "stream",
       "stream": "stdout",
       "text": [
        "Load in 11969 db seqs, total size 558601156 bp. 8 secs passed\r\n",
        "total_kmers: 43046721\r\n"
       ]
      },
      {
       "output_type": "stream",
       "stream": "stdout",
       "text": [
        "Create seed table. 24 secs passed\r\n",
        "max number of mismatches: read_length * 8% \tmax gap size: 0\r\n",
        "kmer cut-off ratio:5e-07\r\n",
        "max multi-hits: 100\tmax Ns: 5\tseed size: 16\tindex interval: 4\r\n",
        "quality cutoff: 0\tbase quality char: '!'\r\n",
        "min fragment size:28\tmax fragemt size:500\r\n",
        "start from read #1\tend at read #4294967295\r\n",
        "additional alignment: T in reads => C in reference\r\n",
        "mapping strand (read_1): ++,-+\r\n",
        "mapping strand (read_2): +-,--\r\n",
        "Pair-end alignment(8 threads)\r\n",
        "Input read file #1: /Volumes/NGS Drive/NGS Raw Data/Cg_larvae_BSseq/filtered_BS_CgLarv_T3D5_CAGATC_L007_R1.fastq.gz"
       ]
      },
      {
       "output_type": "stream",
       "stream": "stdout",
       "text": [
        " \t(format: gzipped FASTQ)\r\n",
        "Input read file #2: /Volumes/NGS Drive/NGS Raw Data/Cg_larvae_BSseq/filtered_BS_CgLarv_T3D5_CAGATC_L007_R2.fastq.gz \t(format: gzipped FASTQ)\r\n",
        "Output file: /Volumes/web/cnidarian/BiGo_lar_T3D5.sam\t (format: SAM)\r\n"
       ]
      },
      {
       "output_type": "stream",
       "stream": "stdout",
       "text": [
        "Thread #5: \t100000 read pairs finished. 120 secs passed\r\n"
       ]
      },
      {
       "output_type": "stream",
       "stream": "stdout",
       "text": [
        "Thread #0: \t150000 read pairs finished. 120 secs passed\r\n"
       ]
      },
      {
       "output_type": "stream",
       "stream": "stdout",
       "text": [
        "Thread #3: \t50000 read pairs finished. 121 secs passed\r\n"
       ]
      },
      {
       "output_type": "stream",
       "stream": "stdout",
       "text": [
        "Thread #6: \t200000 read pairs finished. 121 secs passed\r\n"
       ]
      },
      {
       "output_type": "stream",
       "stream": "stdout",
       "text": [
        "Thread #4: \t250000 read pairs finished. 122 secs passed\r\n"
       ]
      },
      {
       "output_type": "stream",
       "stream": "stdout",
       "text": [
        "Thread #7: \t300000 read pairs finished. 123 secs passed\r\n"
       ]
      },
      {
       "output_type": "stream",
       "stream": "stdout",
       "text": [
        "Thread #1: \t350000 read pairs finished. 124 secs passed\r\n"
       ]
      },
      {
       "output_type": "stream",
       "stream": "stdout",
       "text": [
        "Thread #2: \t400000 read pairs finished. 125 secs passed\r\n"
       ]
      },
      {
       "output_type": "stream",
       "stream": "stdout",
       "text": [
        "Thread #5: \t450000 read pairs finished. 216 secs passed\r\n"
       ]
      },
      {
       "output_type": "stream",
       "stream": "stdout",
       "text": [
        "Thread #0: \t500000 read pairs finished. 216 secs passed\r\n"
       ]
      },
      {
       "output_type": "stream",
       "stream": "stdout",
       "text": [
        "Thread #3: \t550000 read pairs finished. 218 secs passed\r\n"
       ]
      },
      {
       "output_type": "stream",
       "stream": "stdout",
       "text": [
        "Thread #6: \t600000 read pairs finished. 218 secs passed\r\n"
       ]
      },
      {
       "output_type": "stream",
       "stream": "stdout",
       "text": [
        "Thread #4: \t650000 read pairs finished. 220 secs passed\r\n"
       ]
      },
      {
       "output_type": "stream",
       "stream": "stdout",
       "text": [
        "Thread #7: \t700000 read pairs finished. 220 secs passed\r\n"
       ]
      },
      {
       "output_type": "stream",
       "stream": "stdout",
       "text": [
        "Thread #1: \t750000 read pairs finished. 227 secs passed\r\n"
       ]
      },
      {
       "output_type": "stream",
       "stream": "stdout",
       "text": [
        "Thread #2: \t800000 read pairs finished. 237 secs passed\r\n"
       ]
      },
      {
       "output_type": "stream",
       "stream": "stdout",
       "text": [
        "Thread #0: \t900000 read pairs finished. 316 secs passed\r\n"
       ]
      },
      {
       "output_type": "stream",
       "stream": "stdout",
       "text": [
        "Thread #3: \t950000 read pairs finished. 316 secs passed\r\n"
       ]
      },
      {
       "output_type": "stream",
       "stream": "stdout",
       "text": [
        "Thread #6: \t1000000 read pairs finished. 316 secs passed\r\n"
       ]
      },
      {
       "output_type": "stream",
       "stream": "stdout",
       "text": [
        "Thread #4: \t1050000 read pairs finished. 317 secs passed\r\n"
       ]
      },
      {
       "output_type": "stream",
       "stream": "stdout",
       "text": [
        "Thread #7: \t1100000 read pairs finished. 317 secs passed\r\n"
       ]
      },
      {
       "output_type": "stream",
       "stream": "stdout",
       "text": [
        "Thread #5: \t850000 read pairs finished. 319 secs passed\r\n"
       ]
      },
      {
       "output_type": "stream",
       "stream": "stdout",
       "text": [
        "Thread #1: \t1150000 read pairs finished. 324 secs passed\r\n"
       ]
      },
      {
       "output_type": "stream",
       "stream": "stdout",
       "text": [
        "Thread #2: \t1200000 read pairs finished. 334 secs passed\r\n"
       ]
      },
      {
       "output_type": "stream",
       "stream": "stdout",
       "text": [
        "Thread #0: \t1250000 read pairs finished. 413 secs passed\r\n"
       ]
      },
      {
       "output_type": "stream",
       "stream": "stdout",
       "text": [
        "Thread #3: \t1300000 read pairs finished. 414 secs passed\r\n"
       ]
      },
      {
       "output_type": "stream",
       "stream": "stdout",
       "text": [
        "Thread #6: \t1350000 read pairs finished. 415 secs passed\r\n"
       ]
      },
      {
       "output_type": "stream",
       "stream": "stdout",
       "text": [
        "Thread #4: \t1400000 read pairs finished. 416 secs passed\r\n"
       ]
      },
      {
       "output_type": "stream",
       "stream": "stdout",
       "text": [
        "Thread #7: \t1450000 read pairs finished. 419 secs passed\r\n"
       ]
      },
      {
       "output_type": "stream",
       "stream": "stdout",
       "text": [
        "Thread #5: \t1500000 read pairs finished. 419 secs passed\r\n"
       ]
      },
      {
       "output_type": "stream",
       "stream": "stdout",
       "text": [
        "Thread #1: \t1550000 read pairs finished. 423 secs passed\r\n"
       ]
      },
      {
       "output_type": "stream",
       "stream": "stdout",
       "text": [
        "Thread #2: \t1600000 read pairs finished. 433 secs passed\r\n"
       ]
      },
      {
       "output_type": "stream",
       "stream": "stdout",
       "text": [
        "Thread #0: \t1650000 read pairs finished. 511 secs passed\r\n"
       ]
      },
      {
       "output_type": "stream",
       "stream": "stdout",
       "text": [
        "Thread #3: \t1700000 read pairs finished. 512 secs passed\r\n"
       ]
      },
      {
       "output_type": "stream",
       "stream": "stdout",
       "text": [
        "Thread #6: \t1750000 read pairs finished. 513 secs passed\r\n"
       ]
      },
      {
       "output_type": "stream",
       "stream": "stdout",
       "text": [
        "Thread #4: \t1800000 read pairs finished. 514 secs passed\r\n"
       ]
      },
      {
       "output_type": "stream",
       "stream": "stdout",
       "text": [
        "Thread #7: \t1850000 read pairs finished. 518 secs passed\r\n"
       ]
      },
      {
       "output_type": "stream",
       "stream": "stdout",
       "text": [
        "Thread #5: \t1900000 read pairs finished. 520 secs passed\r\n"
       ]
      },
      {
       "output_type": "stream",
       "stream": "stdout",
       "text": [
        "Thread #1: \t1950000 read pairs finished. 523 secs passed\r\n"
       ]
      },
      {
       "output_type": "stream",
       "stream": "stdout",
       "text": [
        "Thread #2: \t2000000 read pairs finished. 532 secs passed\r\n"
       ]
      },
      {
       "output_type": "stream",
       "stream": "stdout",
       "text": [
        "Thread #0: \t2050000 read pairs finished. 609 secs passed\r\n"
       ]
      },
      {
       "output_type": "stream",
       "stream": "stdout",
       "text": [
        "Thread #3: \t2100000 read pairs finished. 611 secs passed\r\n"
       ]
      },
      {
       "output_type": "stream",
       "stream": "stdout",
       "text": [
        "Thread #6: \t2150000 read pairs finished. 611 secs passed\r\n"
       ]
      },
      {
       "output_type": "stream",
       "stream": "stdout",
       "text": [
        "Thread #4: \t2200000 read pairs finished. 618 secs passed\r\n"
       ]
      },
      {
       "output_type": "stream",
       "stream": "stdout",
       "text": [
        "Thread #5: \t2300000 read pairs finished. 619 secs passed\r\n"
       ]
      },
      {
       "output_type": "stream",
       "stream": "stdout",
       "text": [
        "Thread #7: \t2250000 read pairs finished. 620 secs passed\r\n"
       ]
      },
      {
       "output_type": "stream",
       "stream": "stdout",
       "text": [
        "Thread #1: \t2350000 read pairs finished. 621 secs passed\r\n"
       ]
      },
      {
       "output_type": "stream",
       "stream": "stdout",
       "text": [
        "Thread #2: \t2400000 read pairs finished. 631 secs passed\r\n"
       ]
      },
      {
       "output_type": "stream",
       "stream": "stdout",
       "text": [
        "Thread #0: \t2450000 read pairs finished. 707 secs passed\r\n"
       ]
      },
      {
       "output_type": "stream",
       "stream": "stdout",
       "text": [
        "Thread #3: \t2500000 read pairs finished. 710 secs passed\r\n"
       ]
      },
      {
       "output_type": "stream",
       "stream": "stdout",
       "text": [
        "Thread #6: \t2550000 read pairs finished. 711 secs passed\r\n"
       ]
      },
      {
       "output_type": "stream",
       "stream": "stdout",
       "text": [
        "Thread #4: \t2600000 read pairs finished. 716 secs passed\r\n"
       ]
      },
      {
       "output_type": "stream",
       "stream": "stdout",
       "text": [
        "Thread #5: \t2650000 read pairs finished. 719 secs passed\r\n"
       ]
      },
      {
       "output_type": "stream",
       "stream": "stdout",
       "text": [
        "Thread #7: \t2700000 read pairs finished. 720 secs passed\r\n"
       ]
      },
      {
       "output_type": "stream",
       "stream": "stdout",
       "text": [
        "Thread #1: \t2750000 read pairs finished. 721 secs passed\r\n"
       ]
      },
      {
       "output_type": "stream",
       "stream": "stdout",
       "text": [
        "Thread #2: \t2800000 read pairs finished. 730 secs passed\r\n"
       ]
      },
      {
       "output_type": "stream",
       "stream": "stdout",
       "text": [
        "Thread #0: \t2850000 read pairs finished. 803 secs passed\r\n"
       ]
      },
      {
       "output_type": "stream",
       "stream": "stdout",
       "text": [
        "Thread #3: \t2900000 read pairs finished. 805 secs passed\r\n"
       ]
      },
      {
       "output_type": "stream",
       "stream": "stdout",
       "text": [
        "Thread #6: \t2950000 read pairs finished. 814 secs passed\r\n"
       ]
      },
      {
       "output_type": "stream",
       "stream": "stdout",
       "text": [
        "Thread #1: \t3150000 read pairs finished. 818 secs passed\r\n"
       ]
      },
      {
       "output_type": "stream",
       "stream": "stdout",
       "text": [
        "Thread #7: \t3100000 read pairs finished. 819 secs passed\r\n"
       ]
      },
      {
       "output_type": "stream",
       "stream": "stdout",
       "text": [
        "Thread #5: \t3050000 read pairs finished. 822 secs passed\r\n"
       ]
      },
      {
       "output_type": "stream",
       "stream": "stdout",
       "text": [
        "Thread #4: \t3000000 read pairs finished. 826 secs passed\r\n"
       ]
      },
      {
       "output_type": "stream",
       "stream": "stdout",
       "text": [
        "Thread #2: \t3200000 read pairs finished. 828 secs passed\r\n"
       ]
      },
      {
       "output_type": "stream",
       "stream": "stdout",
       "text": [
        "Thread #0: \t3250000 read pairs finished. 901 secs passed\r\n"
       ]
      },
      {
       "output_type": "stream",
       "stream": "stdout",
       "text": [
        "Thread #3: \t3300000 read pairs finished. 905 secs passed\r\n"
       ]
      },
      {
       "output_type": "stream",
       "stream": "stdout",
       "text": [
        "Thread #6: \t3350000 read pairs finished. 913 secs passed\r\n"
       ]
      },
      {
       "output_type": "stream",
       "stream": "stdout",
       "text": [
        "Thread #1: \t3400000 read pairs finished. 918 secs passed\r\n"
       ]
      },
      {
       "output_type": "stream",
       "stream": "stdout",
       "text": [
        "Thread #7: \t3450000 read pairs finished. 919 secs passed\r\n"
       ]
      },
      {
       "output_type": "stream",
       "stream": "stdout",
       "text": [
        "Thread #5: \t3500000 read pairs finished. 921 secs passed\r\n"
       ]
      },
      {
       "output_type": "stream",
       "stream": "stdout",
       "text": [
        "Thread #4: \t3550000 read pairs finished. 925 secs passed\r\n"
       ]
      },
      {
       "output_type": "stream",
       "stream": "stdout",
       "text": [
        "Thread #2: \t3600000 read pairs finished. 927 secs passed\r\n"
       ]
      },
      {
       "output_type": "stream",
       "stream": "stdout",
       "text": [
        "Thread #0: \t3650000 read pairs finished. 1000 secs passed\r\n"
       ]
      },
      {
       "output_type": "stream",
       "stream": "stdout",
       "text": [
        "Thread #3: \t3700000 read pairs finished. 1007 secs passed\r\n"
       ]
      },
      {
       "output_type": "stream",
       "stream": "stdout",
       "text": [
        "Thread #6: \t3750000 read pairs finished. 1014 secs passed\r\n"
       ]
      },
      {
       "output_type": "stream",
       "stream": "stdout",
       "text": [
        "Thread #1: \t3800000 read pairs finished. 1018 secs passed\r\n"
       ]
      },
      {
       "output_type": "stream",
       "stream": "stdout",
       "text": [
        "Thread #7: \t3850000 read pairs finished. 1024 secs passed\r\n"
       ]
      },
      {
       "output_type": "stream",
       "stream": "stdout",
       "text": [
        "Thread #5: \t3900000 read pairs finished. 1025 secs passed\r\n"
       ]
      },
      {
       "output_type": "stream",
       "stream": "stdout",
       "text": [
        "Thread #4: \t3950000 read pairs finished. 1025 secs passed\r\n"
       ]
      },
      {
       "output_type": "stream",
       "stream": "stdout",
       "text": [
        "Thread #2: \t4000000 read pairs finished. 1026 secs passed\r\n"
       ]
      },
      {
       "output_type": "stream",
       "stream": "stdout",
       "text": [
        "Thread #0: \t4050000 read pairs finished. 1094 secs passed\r\n"
       ]
      },
      {
       "output_type": "stream",
       "stream": "stdout",
       "text": [
        "Thread #3: \t4100000 read pairs finished. 1101 secs passed\r\n"
       ]
      },
      {
       "output_type": "stream",
       "stream": "stdout",
       "text": [
        "Thread #6: \t4150000 read pairs finished. 1107 secs passed\r\n"
       ]
      },
      {
       "output_type": "stream",
       "stream": "stdout",
       "text": [
        "Thread #1: \t4200000 read pairs finished. 1111 secs passed\r\n"
       ]
      },
      {
       "output_type": "stream",
       "stream": "stdout",
       "text": [
        "Thread #7: \t4250000 read pairs finished. 1115 secs passed\r\n"
       ]
      },
      {
       "output_type": "stream",
       "stream": "stdout",
       "text": [
        "Thread #5: \t4300000 read pairs finished. 1116 secs passed\r\n"
       ]
      },
      {
       "output_type": "stream",
       "stream": "stdout",
       "text": [
        "Thread #4: \t4350000 read pairs finished. 1117 secs passed\r\n"
       ]
      },
      {
       "output_type": "stream",
       "stream": "stdout",
       "text": [
        "Thread #2: \t4400000 read pairs finished. 1117 secs passed\r\n"
       ]
      },
      {
       "output_type": "stream",
       "stream": "stdout",
       "text": [
        "Thread #0: \t4421486 read pairs finished. 1118 secs passed\r\n"
       ]
      },
      {
       "output_type": "stream",
       "stream": "stdout",
       "text": [
        "Total number of aligned reads: \r\n",
        "pairs:       2414419 (55%)\r\n",
        "single a:    819661 (19%)\r\n",
        "single b:    637662 (14%)\r\n",
        "Done.\r\n",
        "Finished at Wed Oct  2 07:44:50 2013\r\n",
        "Total time consumed:  1118 secs\r\n"
       ]
      }
     ],
     "prompt_number": 2
    },
    {
     "cell_type": "code",
     "collapsed": false,
     "input": [
      "#T3D5 methratio\n",
      "!python /Users/Shared/Apps/bsmap-2.74/methratio.py -d /Volumes/web/cnidarian/oyster.v9.fa -u -z -g -o  /Volumes/web/cnidarian/BiGo_lar_T3D5_methratio_v9_A.txt -s /Users/Shared/Apps/bsmap-2.74/samtools /Volumes/web/cnidarian/BiGo_lar_T3D5.sam"
     ],
     "language": "python",
     "metadata": {},
     "outputs": [
      {
       "output_type": "stream",
       "stream": "stdout",
       "text": [
        "@ Wed Oct  2 13:29:26 2013: reading reference /Volumes/web/cnidarian/oyster.v9.fa ...\r\n"
       ]
      },
      {
       "output_type": "stream",
       "stream": "stdout",
       "text": [
        "@ Wed Oct  2 13:30:10 2013: reading /Volumes/web/cnidarian/BiGo_lar_T3D5.sam ...\r\n"
       ]
      },
      {
       "output_type": "stream",
       "stream": "stdout",
       "text": [
        "[samopen] SAM header is present: 11969 sequences.\r\n"
       ]
      },
      {
       "output_type": "stream",
       "stream": "stdout",
       "text": [
        "@ Wed Oct  2 13:35:11 2013: combining CpG methylation from both strands ...\r\n"
       ]
      },
      {
       "output_type": "stream",
       "stream": "stdout",
       "text": [
        "@ Wed Oct  2 13:35:52 2013: writing /Volumes/web/cnidarian/BiGo_lar_T3D5_methratio_v9_A.txt ...\r\n"
       ]
      },
      {
       "output_type": "stream",
       "stream": "stdout",
       "text": [
        "@ Wed Oct  2 13:47:24 2013: done.\r\n",
        "total 5275651 valid mappings, 37156094 covered cytosines, average coverage: 1.45 fold.\r\n"
       ]
      }
     ],
     "prompt_number": 7
    },
    {
     "cell_type": "heading",
     "level": 3,
     "metadata": {},
     "source": [
      "M1"
     ]
    },
    {
     "cell_type": "code",
     "collapsed": false,
     "input": [
      "#M1\n",
      "! /Users/Shared/Apps/bsmap-2.73/bsmap -a /Volumes/NGS\\ Drive/NGS\\ Raw\\ Data/Cg_larvae_BSseq/filtered_BS_CgM1_ACTTGA_L007_R1.fastq.gz -b /Volumes/NGS\\ Drive/NGS\\ Raw\\ Data/Cg_larvae_BSseq/filtered_BS_CgM1_ACTTGA_L007_R2.fastq.gz -d /Volumes/web/cnidarian/oyster.v9.fa -o /Volumes/web/cnidarian/BiGo_lar_M1.sam -p 8"
     ],
     "language": "python",
     "metadata": {},
     "outputs": [
      {
       "output_type": "stream",
       "stream": "stdout",
       "text": [
        "\r\n",
        "BSMAP v2.73\r\n",
        "Start at:  Wed Oct  2 07:44:50 2013\r\n",
        "\r\n",
        "Input reference file: /Volumes/web/cnidarian/oyster.v9.fa \t(format: FASTA)\r\n"
       ]
      },
      {
       "output_type": "stream",
       "stream": "stdout",
       "text": [
        "Load in 11969 db seqs, total size 558601156 bp. 8 secs passed\r\n",
        "total_kmers: 43046721\r\n"
       ]
      },
      {
       "output_type": "stream",
       "stream": "stdout",
       "text": [
        "Create seed table. 24 secs passed\r\n",
        "max number of mismatches: read_length * 8% \tmax gap size: 0\r\n",
        "kmer cut-off ratio:5e-07\r\n",
        "max multi-hits: 100\tmax Ns: 5\tseed size: 16\tindex interval: 4\r\n",
        "quality cutoff: 0\tbase quality char: '!'\r\n",
        "min fragment size:28\tmax fragemt size:500\r\n",
        "start from read #1\tend at read #4294967295\r\n",
        "additional alignment: T in reads => C in reference\r\n",
        "mapping strand (read_1): ++,-+\r\n",
        "mapping strand (read_2): +-,--\r\n",
        "Pair-end alignment(8 threads)\r\n",
        "Input read file #1: /Volumes/NGS Drive/NGS Raw Data/Cg_larvae_BSseq/filtered_BS_CgM1_ACTTGA_L007_R1.fastq.gz"
       ]
      },
      {
       "output_type": "stream",
       "stream": "stdout",
       "text": [
        " \t(format: gzipped FASTQ)\r\n",
        "Input read file #2: /Volumes/NGS Drive/NGS Raw Data/Cg_larvae_BSseq/filtered_BS_CgM1_ACTTGA_L007_R2.fastq.gz \t(format: gzipped FASTQ)\r\n",
        "Output file: /Volumes/web/cnidarian/BiGo_lar_M1.sam\t (format: SAM)\r\n"
       ]
      },
      {
       "output_type": "stream",
       "stream": "stdout",
       "text": [
        "Thread #0: \t100000 read pairs finished. 122 secs passed\r\n"
       ]
      },
      {
       "output_type": "stream",
       "stream": "stdout",
       "text": [
        "Thread #1: \t50000 read pairs finished. 122 secs passed\r\n"
       ]
      },
      {
       "output_type": "stream",
       "stream": "stdout",
       "text": [
        "Thread #7: \t200000 read pairs finished. 122 secs passed\r\n"
       ]
      },
      {
       "output_type": "stream",
       "stream": "stdout",
       "text": [
        "Thread #2: \t150000 read pairs finished. 123 secs passed\r\n"
       ]
      },
      {
       "output_type": "stream",
       "stream": "stdout",
       "text": [
        "Thread #6: \t250000 read pairs finished. 123 secs passed\r\n"
       ]
      },
      {
       "output_type": "stream",
       "stream": "stdout",
       "text": [
        "Thread #3: \t300000 read pairs finished. 124 secs passed\r\n"
       ]
      },
      {
       "output_type": "stream",
       "stream": "stdout",
       "text": [
        "Thread #5: \t350000 read pairs finished. 124 secs passed\r\n"
       ]
      },
      {
       "output_type": "stream",
       "stream": "stdout",
       "text": [
        "Thread #4: \t400000 read pairs finished. 125 secs passed\r\n"
       ]
      },
      {
       "output_type": "stream",
       "stream": "stdout",
       "text": [
        "Thread #0: \t450000 read pairs finished. 216 secs passed\r\n"
       ]
      },
      {
       "output_type": "stream",
       "stream": "stdout",
       "text": [
        "Thread #1: \t500000 read pairs finished. 218 secs passed\r\n"
       ]
      },
      {
       "output_type": "stream",
       "stream": "stdout",
       "text": [
        "Thread #7: \t550000 read pairs finished. 220 secs passed\r\n"
       ]
      },
      {
       "output_type": "stream",
       "stream": "stdout",
       "text": [
        "Thread #2: \t600000 read pairs finished. 222 secs passed\r\n"
       ]
      },
      {
       "output_type": "stream",
       "stream": "stdout",
       "text": [
        "Thread #6: \t650000 read pairs finished. 223 secs passed\r\n"
       ]
      },
      {
       "output_type": "stream",
       "stream": "stdout",
       "text": [
        "Thread #3: \t700000 read pairs finished. 224 secs passed\r\n"
       ]
      },
      {
       "output_type": "stream",
       "stream": "stdout",
       "text": [
        "Thread #5: \t750000 read pairs finished. 225 secs passed\r\n"
       ]
      },
      {
       "output_type": "stream",
       "stream": "stdout",
       "text": [
        "Thread #4: \t800000 read pairs finished. 225 secs passed\r\n"
       ]
      },
      {
       "output_type": "stream",
       "stream": "stdout",
       "text": [
        "Thread #0: \t850000 read pairs finished. 312 secs passed\r\n"
       ]
      },
      {
       "output_type": "stream",
       "stream": "stdout",
       "text": [
        "Thread #1: \t900000 read pairs finished. 313 secs passed\r\n"
       ]
      },
      {
       "output_type": "stream",
       "stream": "stdout",
       "text": [
        "Thread #5: \t1150000 read pairs finished. 322 secs passed\r\n"
       ]
      },
      {
       "output_type": "stream",
       "stream": "stdout",
       "text": [
        "Thread #4: \t1200000 read pairs finished. 323 secs passed\r\n"
       ]
      },
      {
       "output_type": "stream",
       "stream": "stdout",
       "text": [
        "Thread #3: \t1100000 read pairs finished. 324 secs passed\r\n"
       ]
      },
      {
       "output_type": "stream",
       "stream": "stdout",
       "text": [
        "Thread #6: \t1050000 read pairs finished. 326 secs passed\r\n"
       ]
      },
      {
       "output_type": "stream",
       "stream": "stdout",
       "text": [
        "Thread #7: \t950000 read pairs finished. 327 secs passed\r\n"
       ]
      },
      {
       "output_type": "stream",
       "stream": "stdout",
       "text": [
        "Thread #2: \t1000000 read pairs finished. 330 secs passed\r\n"
       ]
      },
      {
       "output_type": "stream",
       "stream": "stdout",
       "text": [
        "Thread #0: \t1250000 read pairs finished. 410 secs passed\r\n"
       ]
      },
      {
       "output_type": "stream",
       "stream": "stdout",
       "text": [
        "Thread #1: \t1300000 read pairs finished. 411 secs passed\r\n"
       ]
      },
      {
       "output_type": "stream",
       "stream": "stdout",
       "text": [
        "Thread #5: \t1350000 read pairs finished. 421 secs passed\r\n"
       ]
      },
      {
       "output_type": "stream",
       "stream": "stdout",
       "text": [
        "Thread #4: \t1400000 read pairs finished. 422 secs passed\r\n"
       ]
      },
      {
       "output_type": "stream",
       "stream": "stdout",
       "text": [
        "Thread #3: \t1450000 read pairs finished. 423 secs passed\r\n"
       ]
      },
      {
       "output_type": "stream",
       "stream": "stdout",
       "text": [
        "Thread #6: \t1500000 read pairs finished. 426 secs passed\r\n"
       ]
      },
      {
       "output_type": "stream",
       "stream": "stdout",
       "text": [
        "Thread #7: \t1550000 read pairs finished. 427 secs passed\r\n"
       ]
      },
      {
       "output_type": "stream",
       "stream": "stdout",
       "text": [
        "Thread #2: \t1600000 read pairs finished. 430 secs passed\r\n"
       ]
      },
      {
       "output_type": "stream",
       "stream": "stdout",
       "text": [
        "Thread #0: \t1650000 read pairs finished. 510 secs passed\r\n"
       ]
      },
      {
       "output_type": "stream",
       "stream": "stdout",
       "text": [
        "Thread #1: \t1700000 read pairs finished. 510 secs passed\r\n"
       ]
      },
      {
       "output_type": "stream",
       "stream": "stdout",
       "text": [
        "Thread #5: \t1750000 read pairs finished. 519 secs passed\r\n"
       ]
      },
      {
       "output_type": "stream",
       "stream": "stdout",
       "text": [
        "Thread #4: \t1800000 read pairs finished. 522 secs passed\r\n"
       ]
      },
      {
       "output_type": "stream",
       "stream": "stdout",
       "text": [
        "Thread #3: \t1850000 read pairs finished. 524 secs passed\r\n"
       ]
      },
      {
       "output_type": "stream",
       "stream": "stdout",
       "text": [
        "Thread #6: \t1900000 read pairs finished. 526 secs passed\r\n"
       ]
      },
      {
       "output_type": "stream",
       "stream": "stdout",
       "text": [
        "Thread #7: \t1950000 read pairs finished. 527 secs passed\r\n"
       ]
      },
      {
       "output_type": "stream",
       "stream": "stdout",
       "text": [
        "Thread #2: \t2000000 read pairs finished. 530 secs passed\r\n"
       ]
      },
      {
       "output_type": "stream",
       "stream": "stdout",
       "text": [
        "Thread #0: \t2050000 read pairs finished. 609 secs passed\r\n"
       ]
      },
      {
       "output_type": "stream",
       "stream": "stdout",
       "text": [
        "Thread #1: \t2100000 read pairs finished. 610 secs passed\r\n"
       ]
      },
      {
       "output_type": "stream",
       "stream": "stdout",
       "text": [
        "Thread #5: \t2150000 read pairs finished. 619 secs passed\r\n"
       ]
      },
      {
       "output_type": "stream",
       "stream": "stdout",
       "text": [
        "Thread #4: \t2200000 read pairs finished. 621 secs passed\r\n"
       ]
      },
      {
       "output_type": "stream",
       "stream": "stdout",
       "text": [
        "Thread #3: \t2250000 read pairs finished. 623 secs passed\r\n"
       ]
      },
      {
       "output_type": "stream",
       "stream": "stdout",
       "text": [
        "Thread #6: \t2300000 read pairs finished. 627 secs passed\r\n"
       ]
      },
      {
       "output_type": "stream",
       "stream": "stdout",
       "text": [
        "Thread #7: \t2350000 read pairs finished. 628 secs passed\r\n"
       ]
      },
      {
       "output_type": "stream",
       "stream": "stdout",
       "text": [
        "Thread #2: \t2400000 read pairs finished. 632 secs passed\r\n"
       ]
      },
      {
       "output_type": "stream",
       "stream": "stdout",
       "text": [
        "Thread #0: \t2450000 read pairs finished. 709 secs passed\r\n"
       ]
      },
      {
       "output_type": "stream",
       "stream": "stdout",
       "text": [
        "Thread #1: \t2500000 read pairs finished. 710 secs passed\r\n"
       ]
      },
      {
       "output_type": "stream",
       "stream": "stdout",
       "text": [
        "Thread #5: \t2550000 read pairs finished. 717 secs passed\r\n"
       ]
      },
      {
       "output_type": "stream",
       "stream": "stdout",
       "text": [
        "Thread #4: \t2600000 read pairs finished. 720 secs passed\r\n"
       ]
      },
      {
       "output_type": "stream",
       "stream": "stdout",
       "text": [
        "Thread #3: \t2650000 read pairs finished. 722 secs passed\r\n"
       ]
      },
      {
       "output_type": "stream",
       "stream": "stdout",
       "text": [
        "Thread #6: \t2700000 read pairs finished. 726 secs passed\r\n"
       ]
      },
      {
       "output_type": "stream",
       "stream": "stdout",
       "text": [
        "Thread #7: \t2750000 read pairs finished. 731 secs passed\r\n"
       ]
      },
      {
       "output_type": "stream",
       "stream": "stdout",
       "text": [
        "Thread #2: \t2800000 read pairs finished. 735 secs passed\r\n"
       ]
      },
      {
       "output_type": "stream",
       "stream": "stdout",
       "text": [
        "Thread #1: \t2900000 read pairs finished. 810 secs passed\r\n"
       ]
      },
      {
       "output_type": "stream",
       "stream": "stdout",
       "text": [
        "Thread #0: \t2850000 read pairs finished. 811 secs passed\r\n"
       ]
      },
      {
       "output_type": "stream",
       "stream": "stdout",
       "text": [
        "Thread #5: \t2950000 read pairs finished. 816 secs passed\r\n"
       ]
      },
      {
       "output_type": "stream",
       "stream": "stdout",
       "text": [
        "Thread #4: \t3000000 read pairs finished. 819 secs passed\r\n"
       ]
      },
      {
       "output_type": "stream",
       "stream": "stdout",
       "text": [
        "Thread #3: \t3050000 read pairs finished. 822 secs passed\r\n"
       ]
      },
      {
       "output_type": "stream",
       "stream": "stdout",
       "text": [
        "Thread #6: \t3100000 read pairs finished. 825 secs passed\r\n"
       ]
      },
      {
       "output_type": "stream",
       "stream": "stdout",
       "text": [
        "Thread #7: \t3150000 read pairs finished. 831 secs passed\r\n"
       ]
      },
      {
       "output_type": "stream",
       "stream": "stdout",
       "text": [
        "Thread #2: \t3200000 read pairs finished. 836 secs passed\r\n"
       ]
      },
      {
       "output_type": "stream",
       "stream": "stdout",
       "text": [
        "Thread #1: \t3250000 read pairs finished. 910 secs passed\r\n"
       ]
      },
      {
       "output_type": "stream",
       "stream": "stdout",
       "text": [
        "Thread #0: \t3300000 read pairs finished. 912 secs passed\r\n"
       ]
      },
      {
       "output_type": "stream",
       "stream": "stdout",
       "text": [
        "Thread #5: \t3350000 read pairs finished. 916 secs passed\r\n"
       ]
      },
      {
       "output_type": "stream",
       "stream": "stdout",
       "text": [
        "Thread #4: \t3400000 read pairs finished. 919 secs passed\r\n"
       ]
      },
      {
       "output_type": "stream",
       "stream": "stdout",
       "text": [
        "Thread #3: \t3450000 read pairs finished. 921 secs passed\r\n"
       ]
      },
      {
       "output_type": "stream",
       "stream": "stdout",
       "text": [
        "Thread #6: \t3500000 read pairs finished. 927 secs passed\r\n"
       ]
      },
      {
       "output_type": "stream",
       "stream": "stdout",
       "text": [
        "Thread #7: \t3550000 read pairs finished. 929 secs passed\r\n"
       ]
      },
      {
       "output_type": "stream",
       "stream": "stdout",
       "text": [
        "Thread #2: \t3600000 read pairs finished. 935 secs passed\r\n"
       ]
      },
      {
       "output_type": "stream",
       "stream": "stdout",
       "text": [
        "Thread #1: \t3650000 read pairs finished. 1006 secs passed\r\n"
       ]
      },
      {
       "output_type": "stream",
       "stream": "stdout",
       "text": [
        "Thread #0: \t3700000 read pairs finished. 1015 secs passed\r\n"
       ]
      },
      {
       "output_type": "stream",
       "stream": "stdout",
       "text": [
        "Thread #3: \t3850000 read pairs finished. 1022 secs passed\r\n"
       ]
      },
      {
       "output_type": "stream",
       "stream": "stdout",
       "text": [
        "Thread #4: \t3800000 read pairs finished. 1023 secs passed\r\n"
       ]
      },
      {
       "output_type": "stream",
       "stream": "stdout",
       "text": [
        "Thread #5: \t3750000 read pairs finished. 1026 secs passed\r\n"
       ]
      },
      {
       "output_type": "stream",
       "stream": "stdout",
       "text": [
        "Thread #6: \t3900000 read pairs finished. 1026 secs passed\r\n"
       ]
      },
      {
       "output_type": "stream",
       "stream": "stdout",
       "text": [
        "Thread #7: \t3950000 read pairs finished. 1027 secs passed\r\n"
       ]
      },
      {
       "output_type": "stream",
       "stream": "stdout",
       "text": [
        "Thread #2: \t4000000 read pairs finished. 1033 secs passed\r\n"
       ]
      },
      {
       "output_type": "stream",
       "stream": "stdout",
       "text": [
        "Thread #1: \t4050000 read pairs finished. 1104 secs passed\r\n"
       ]
      },
      {
       "output_type": "stream",
       "stream": "stdout",
       "text": [
        "Thread #0: \t4100000 read pairs finished. 1115 secs passed\r\n"
       ]
      },
      {
       "output_type": "stream",
       "stream": "stdout",
       "text": [
        "Thread #3: \t4150000 read pairs finished. 1122 secs passed\r\n"
       ]
      },
      {
       "output_type": "stream",
       "stream": "stdout",
       "text": [
        "Thread #4: \t4200000 read pairs finished. 1123 secs passed\r\n"
       ]
      },
      {
       "output_type": "stream",
       "stream": "stdout",
       "text": [
        "Thread #5: \t4250000 read pairs finished. 1126 secs passed\r\n"
       ]
      },
      {
       "output_type": "stream",
       "stream": "stdout",
       "text": [
        "Thread #6: \t4300000 read pairs finished. 1128 secs passed\r\n"
       ]
      },
      {
       "output_type": "stream",
       "stream": "stdout",
       "text": [
        "Thread #7: \t4350000 read pairs finished. 1128 secs passed\r\n"
       ]
      },
      {
       "output_type": "stream",
       "stream": "stdout",
       "text": [
        "Thread #2: \t4400000 read pairs finished. 1136 secs passed\r\n"
       ]
      },
      {
       "output_type": "stream",
       "stream": "stdout",
       "text": [
        "Thread #1: \t4450000 read pairs finished. 1202 secs passed\r\n"
       ]
      },
      {
       "output_type": "stream",
       "stream": "stdout",
       "text": [
        "Thread #0: \t4500000 read pairs finished. 1213 secs passed\r\n"
       ]
      },
      {
       "output_type": "stream",
       "stream": "stdout",
       "text": [
        "Thread #3: \t4550000 read pairs finished. 1220 secs passed\r\n"
       ]
      },
      {
       "output_type": "stream",
       "stream": "stdout",
       "text": [
        "Thread #4: \t4600000 read pairs finished. 1223 secs passed\r\n"
       ]
      },
      {
       "output_type": "stream",
       "stream": "stdout",
       "text": [
        "Thread #5: \t4650000 read pairs finished. 1226 secs passed\r\n"
       ]
      },
      {
       "output_type": "stream",
       "stream": "stdout",
       "text": [
        "Thread #6: \t4700000 read pairs finished. 1228 secs passed\r\n"
       ]
      },
      {
       "output_type": "stream",
       "stream": "stdout",
       "text": [
        "Thread #7: \t4750000 read pairs finished. 1229 secs passed\r\n"
       ]
      },
      {
       "output_type": "stream",
       "stream": "stdout",
       "text": [
        "Thread #2: \t4800000 read pairs finished. 1236 secs passed\r\n"
       ]
      },
      {
       "output_type": "stream",
       "stream": "stdout",
       "text": [
        "Thread #1: \t4850000 read pairs finished. 1302 secs passed\r\n"
       ]
      },
      {
       "output_type": "stream",
       "stream": "stdout",
       "text": [
        "Thread #0: \t4900000 read pairs finished. 1314 secs passed\r\n"
       ]
      },
      {
       "output_type": "stream",
       "stream": "stdout",
       "text": [
        "Thread #3: \t4950000 read pairs finished. 1320 secs passed\r\n"
       ]
      },
      {
       "output_type": "stream",
       "stream": "stdout",
       "text": [
        "Thread #4: \t5000000 read pairs finished. 1322 secs passed\r\n"
       ]
      },
      {
       "output_type": "stream",
       "stream": "stdout",
       "text": [
        "Thread #5: \t5050000 read pairs finished. 1326 secs passed\r\n"
       ]
      },
      {
       "output_type": "stream",
       "stream": "stdout",
       "text": [
        "Thread #6: \t5100000 read pairs finished. 1329 secs passed\r\n"
       ]
      },
      {
       "output_type": "stream",
       "stream": "stdout",
       "text": [
        "Thread #7: \t5150000 read pairs finished. 1330 secs passed\r\n"
       ]
      },
      {
       "output_type": "stream",
       "stream": "stdout",
       "text": [
        "Thread #2: \t5200000 read pairs finished. 1336 secs passed\r\n"
       ]
      },
      {
       "output_type": "stream",
       "stream": "stdout",
       "text": [
        "Thread #1: \t5250000 read pairs finished. 1393 secs passed\r\n"
       ]
      },
      {
       "output_type": "stream",
       "stream": "stdout",
       "text": [
        "Thread #0: \t5300000 read pairs finished. 1401 secs passed\r\n"
       ]
      },
      {
       "output_type": "stream",
       "stream": "stdout",
       "text": [
        "Thread #7: \t5543163 read pairs finished. 1403 secs passed\r\n"
       ]
      },
      {
       "output_type": "stream",
       "stream": "stdout",
       "text": [
        "Thread #3: \t5350000 read pairs finished. 1403 secs passed\r\n"
       ]
      },
      {
       "output_type": "stream",
       "stream": "stdout",
       "text": [
        "Thread #4: \t5400000 read pairs finished. 1404 secs passed\r\n"
       ]
      },
      {
       "output_type": "stream",
       "stream": "stdout",
       "text": [
        "Thread #5: \t5450000 read pairs finished. 1405 secs passed\r\n"
       ]
      },
      {
       "output_type": "stream",
       "stream": "stdout",
       "text": [
        "Thread #6: \t5500000 read pairs finished. 1405 secs passed\r\n"
       ]
      },
      {
       "output_type": "stream",
       "stream": "stdout",
       "text": [
        "Total number of aligned reads: \r\n",
        "pairs:       2600662 (47%)\r\n",
        "single a:    1090658 (20%)\r\n",
        "single b:    894893 (16%)\r\n",
        "Done.\r\n",
        "Finished at Wed Oct  2 08:08:15 2013\r\n",
        "Total time consumed:  1405 secs\r\n"
       ]
      }
     ],
     "prompt_number": 3
    },
    {
     "cell_type": "code",
     "collapsed": false,
     "input": [
      "#M1 methratio\n",
      "!python /Users/Shared/Apps/bsmap-2.74/methratio.py -d /Volumes/web/cnidarian/oyster.v9.fa -u -z -g -o  /Volumes/web/cnidarian/BiGo_lar_M1_methratio_v9_A.txt -s /Users/Shared/Apps/bsmap-2.74/samtools /Volumes/web/cnidarian/BiGo_lar_M1.sam"
     ],
     "language": "python",
     "metadata": {},
     "outputs": [
      {
       "output_type": "stream",
       "stream": "stdout",
       "text": [
        "@ Wed Oct  2 13:47:24 2013: reading reference /Volumes/web/cnidarian/oyster.v9.fa ...\r\n"
       ]
      },
      {
       "output_type": "stream",
       "stream": "stdout",
       "text": [
        "@ Wed Oct  2 13:47:58 2013: reading /Volumes/web/cnidarian/BiGo_lar_M1.sam ...\r\n"
       ]
      },
      {
       "output_type": "stream",
       "stream": "stdout",
       "text": [
        "[samopen] SAM header is present: 11969 sequences.\r\n"
       ]
      },
      {
       "output_type": "stream",
       "stream": "stdout",
       "text": [
        "@ Wed Oct  2 13:53:31 2013: combining CpG methylation from both strands ...\r\n"
       ]
      },
      {
       "output_type": "stream",
       "stream": "stdout",
       "text": [
        "@ Wed Oct  2 13:54:11 2013: writing /Volumes/web/cnidarian/BiGo_lar_M1_methratio_v9_A.txt ...\r\n"
       ]
      },
      {
       "output_type": "stream",
       "stream": "stdout",
       "text": [
        "@ Wed Oct  2 14:07:48 2013: done.\r\n",
        "total 5799674 valid mappings, 37975071 covered cytosines, average coverage: 1.57 fold.\r\n"
       ]
      }
     ],
     "prompt_number": 8
    },
    {
     "cell_type": "heading",
     "level": 3,
     "metadata": {},
     "source": [
      "M3"
     ]
    },
    {
     "cell_type": "code",
     "collapsed": false,
     "input": [
      "#M3\n",
      "! /Users/Shared/Apps/bsmap-2.73/bsmap -a /Volumes/NGS\\ Drive/NGS\\ Raw\\ Data/Cg_larvae_BSseq/filtered_BS_CgM3_GATCAG_L007_R1.fastq.gz -b /Volumes/NGS\\ Drive/NGS\\ Raw\\ Data/Cg_larvae_BSseq/filtered_BS_CgM3_GATCAG_L007_R2.fastq.gz -d /Volumes/web/cnidarian/oyster.v9.fa -o /Volumes/web/cnidarian/BiGo_lar_M3.sam -p 8"
     ],
     "language": "python",
     "metadata": {},
     "outputs": [
      {
       "output_type": "stream",
       "stream": "stdout",
       "text": [
        "\r\n",
        "BSMAP v2.73\r\n",
        "Start at:  Wed Oct  2 08:08:16 2013\r\n",
        "\r\n",
        "Input reference file: /Volumes/web/cnidarian/oyster.v9.fa \t(format: FASTA)\r\n"
       ]
      },
      {
       "output_type": "stream",
       "stream": "stdout",
       "text": [
        "Load in 11969 db seqs, total size 558601156 bp. 8 secs passed\r\n",
        "total_kmers: 43046721\r\n"
       ]
      },
      {
       "output_type": "stream",
       "stream": "stdout",
       "text": [
        "Create seed table. 24 secs passed\r\n",
        "max number of mismatches: read_length * 8% \tmax gap size: 0\r\n",
        "kmer cut-off ratio:5e-07\r\n",
        "max multi-hits: 100\tmax Ns: 5\tseed size: 16\tindex interval: 4\r\n",
        "quality cutoff: 0\tbase quality char: '!'\r\n",
        "min fragment size:28\tmax fragemt size:500\r\n",
        "start from read #1\tend at read #4294967295\r\n",
        "additional alignment: T in reads => C in reference\r\n",
        "mapping strand (read_1): ++,-+\r\n",
        "mapping strand (read_2): +-,--\r\n",
        "Pair-end alignment(8 threads)\r\n",
        "Input read file #1: /Volumes/NGS Drive/NGS Raw Data/Cg_larvae_BSseq/filtered_BS_CgM3_GATCAG_L007_R1.fastq.gz"
       ]
      },
      {
       "output_type": "stream",
       "stream": "stdout",
       "text": [
        " \t(format: gzipped FASTQ)\r\n",
        "Input read file #2: /Volumes/NGS Drive/NGS Raw Data/Cg_larvae_BSseq/filtered_BS_CgM3_GATCAG_L007_R2.fastq.gz"
       ]
      },
      {
       "output_type": "stream",
       "stream": "stdout",
       "text": [
        " \t(format: gzipped FASTQ)\r\n"
       ]
      },
      {
       "output_type": "stream",
       "stream": "stdout",
       "text": [
        "Output file: /Volumes/web/cnidarian/BiGo_lar_M3.sam\t (format: SAM)\r\n"
       ]
      },
      {
       "output_type": "stream",
       "stream": "stdout",
       "text": [
        "Thread #1: \t100000 read pairs finished. 121 secs passed\r\n"
       ]
      },
      {
       "output_type": "stream",
       "stream": "stdout",
       "text": [
        "Thread #0: \t150000 read pairs finished. 122 secs passed\r\n"
       ]
      },
      {
       "output_type": "stream",
       "stream": "stdout",
       "text": [
        "Thread #2: \t200000 read pairs finished. 122 secs passed\r\n"
       ]
      },
      {
       "output_type": "stream",
       "stream": "stdout",
       "text": [
        "Thread #4: \t250000 read pairs finished. 123 secs passed\r\n"
       ]
      },
      {
       "output_type": "stream",
       "stream": "stdout",
       "text": [
        "Thread #5: \t300000 read pairs finished. 123 secs passed\r\n"
       ]
      },
      {
       "output_type": "stream",
       "stream": "stdout",
       "text": [
        "Thread #3: \t50000 read pairs finished. 124 secs passed\r\n"
       ]
      },
      {
       "output_type": "stream",
       "stream": "stdout",
       "text": [
        "Thread #6: \t350000 read pairs finished. 124 secs passed\r\n"
       ]
      },
      {
       "output_type": "stream",
       "stream": "stdout",
       "text": [
        "Thread #7: \t400000 read pairs finished. 124 secs passed\r\n"
       ]
      },
      {
       "output_type": "stream",
       "stream": "stdout",
       "text": [
        "Thread #1: \t450000 read pairs finished. 216 secs passed\r\n"
       ]
      },
      {
       "output_type": "stream",
       "stream": "stdout",
       "text": [
        "Thread #0: \t500000 read pairs finished. 218 secs passed\r\n"
       ]
      },
      {
       "output_type": "stream",
       "stream": "stdout",
       "text": [
        "Thread #2: \t550000 read pairs finished. 219 secs passed\r\n"
       ]
      },
      {
       "output_type": "stream",
       "stream": "stdout",
       "text": [
        "Thread #4: \t600000 read pairs finished. 220 secs passed\r\n"
       ]
      },
      {
       "output_type": "stream",
       "stream": "stdout",
       "text": [
        "Thread #5: \t650000 read pairs finished. 221 secs passed\r\n"
       ]
      },
      {
       "output_type": "stream",
       "stream": "stdout",
       "text": [
        "Thread #6: \t750000 read pairs finished. 224 secs passed\r\n"
       ]
      },
      {
       "output_type": "stream",
       "stream": "stdout",
       "text": [
        "Thread #7: \t800000 read pairs finished. 225 secs passed\r\n"
       ]
      },
      {
       "output_type": "stream",
       "stream": "stdout",
       "text": [
        "Thread #3: \t700000 read pairs finished. 226 secs passed\r\n"
       ]
      },
      {
       "output_type": "stream",
       "stream": "stdout",
       "text": [
        "Thread #1: \t850000 read pairs finished. 309 secs passed\r\n"
       ]
      },
      {
       "output_type": "stream",
       "stream": "stdout",
       "text": [
        "Thread #0: \t900000 read pairs finished. 312 secs passed\r\n"
       ]
      },
      {
       "output_type": "stream",
       "stream": "stdout",
       "text": [
        "Thread #7: \t1150000 read pairs finished. 322 secs passed\r\n"
       ]
      },
      {
       "output_type": "stream",
       "stream": "stdout",
       "text": [
        "Thread #6: \t1100000 read pairs finished. 323 secs passed\r\n"
       ]
      },
      {
       "output_type": "stream",
       "stream": "stdout",
       "text": [
        "Thread #5: \t1050000 read pairs finished. 324 secs passed\r\n"
       ]
      },
      {
       "output_type": "stream",
       "stream": "stdout",
       "text": [
        "Thread #3: \t1200000 read pairs finished. 324 secs passed\r\n"
       ]
      },
      {
       "output_type": "stream",
       "stream": "stdout",
       "text": [
        "Thread #2: \t950000 read pairs finished. 325 secs passed\r\n"
       ]
      },
      {
       "output_type": "stream",
       "stream": "stdout",
       "text": [
        "Thread #4: \t1000000 read pairs finished. 328 secs passed\r\n"
       ]
      },
      {
       "output_type": "stream",
       "stream": "stdout",
       "text": [
        "Thread #1: \t1250000 read pairs finished. 406 secs passed\r\n"
       ]
      },
      {
       "output_type": "stream",
       "stream": "stdout",
       "text": [
        "Thread #0: \t1300000 read pairs finished. 409 secs passed\r\n"
       ]
      },
      {
       "output_type": "stream",
       "stream": "stdout",
       "text": [
        "Thread #7: \t1350000 read pairs finished. 420 secs passed\r\n"
       ]
      },
      {
       "output_type": "stream",
       "stream": "stdout",
       "text": [
        "Thread #6: \t1400000 read pairs finished. 421 secs passed\r\n"
       ]
      },
      {
       "output_type": "stream",
       "stream": "stdout",
       "text": [
        "Thread #5: \t1450000 read pairs finished. 422 secs passed\r\n"
       ]
      },
      {
       "output_type": "stream",
       "stream": "stdout",
       "text": [
        "Thread #2: \t1550000 read pairs finished. 424 secs passed\r\n"
       ]
      },
      {
       "output_type": "stream",
       "stream": "stdout",
       "text": [
        "Thread #3: \t1500000 read pairs finished. 426 secs passed\r\n"
       ]
      },
      {
       "output_type": "stream",
       "stream": "stdout",
       "text": [
        "Thread #4: \t1600000 read pairs finished. 427 secs passed\r\n"
       ]
      },
      {
       "output_type": "stream",
       "stream": "stdout",
       "text": [
        "Thread #1: \t1650000 read pairs finished. 504 secs passed\r\n"
       ]
      },
      {
       "output_type": "stream",
       "stream": "stdout",
       "text": [
        "Thread #0: \t1700000 read pairs finished. 507 secs passed\r\n"
       ]
      },
      {
       "output_type": "stream",
       "stream": "stdout",
       "text": [
        "Thread #7: \t1750000 read pairs finished. 518 secs passed\r\n"
       ]
      },
      {
       "output_type": "stream",
       "stream": "stdout",
       "text": [
        "Thread #6: \t1800000 read pairs finished. 521 secs passed\r\n"
       ]
      },
      {
       "output_type": "stream",
       "stream": "stdout",
       "text": [
        "Thread #5: \t1850000 read pairs finished. 523 secs passed\r\n"
       ]
      },
      {
       "output_type": "stream",
       "stream": "stdout",
       "text": [
        "Thread #2: \t1900000 read pairs finished. 524 secs passed\r\n"
       ]
      },
      {
       "output_type": "stream",
       "stream": "stdout",
       "text": [
        "Thread #4: \t2000000 read pairs finished. 526 secs passed\r\n"
       ]
      },
      {
       "output_type": "stream",
       "stream": "stdout",
       "text": [
        "Thread #3: \t1950000 read pairs finished. 527 secs passed\r\n"
       ]
      },
      {
       "output_type": "stream",
       "stream": "stdout",
       "text": [
        "Thread #1: \t2050000 read pairs finished. 602 secs passed\r\n"
       ]
      },
      {
       "output_type": "stream",
       "stream": "stdout",
       "text": [
        "Thread #0: \t2100000 read pairs finished. 605 secs passed\r\n"
       ]
      },
      {
       "output_type": "stream",
       "stream": "stdout",
       "text": [
        "Thread #7: \t2150000 read pairs finished. 617 secs passed\r\n"
       ]
      },
      {
       "output_type": "stream",
       "stream": "stdout",
       "text": [
        "Thread #6: \t2200000 read pairs finished. 619 secs passed\r\n"
       ]
      },
      {
       "output_type": "stream",
       "stream": "stdout",
       "text": [
        "Thread #5: \t2250000 read pairs finished. 621 secs passed\r\n"
       ]
      },
      {
       "output_type": "stream",
       "stream": "stdout",
       "text": [
        "Thread #2: \t2300000 read pairs finished. 622 secs passed\r\n"
       ]
      },
      {
       "output_type": "stream",
       "stream": "stdout",
       "text": [
        "Thread #4: \t2350000 read pairs finished. 625 secs passed\r\n"
       ]
      },
      {
       "output_type": "stream",
       "stream": "stdout",
       "text": [
        "Thread #3: \t2400000 read pairs finished. 629 secs passed\r\n"
       ]
      },
      {
       "output_type": "stream",
       "stream": "stdout",
       "text": [
        "Thread #1: \t2450000 read pairs finished. 700 secs passed\r\n"
       ]
      },
      {
       "output_type": "stream",
       "stream": "stdout",
       "text": [
        "Thread #0: \t2500000 read pairs finished. 704 secs passed\r\n"
       ]
      },
      {
       "output_type": "stream",
       "stream": "stdout",
       "text": [
        "Thread #7: \t2550000 read pairs finished. 715 secs passed\r\n"
       ]
      },
      {
       "output_type": "stream",
       "stream": "stdout",
       "text": [
        "Thread #6: \t2600000 read pairs finished. 718 secs passed\r\n"
       ]
      },
      {
       "output_type": "stream",
       "stream": "stdout",
       "text": [
        "Thread #5: \t2650000 read pairs finished. 719 secs passed\r\n"
       ]
      },
      {
       "output_type": "stream",
       "stream": "stdout",
       "text": [
        "Thread #2: \t2700000 read pairs finished. 720 secs passed\r\n"
       ]
      },
      {
       "output_type": "stream",
       "stream": "stdout",
       "text": [
        "Thread #4: \t2750000 read pairs finished. 726 secs passed\r\n"
       ]
      },
      {
       "output_type": "stream",
       "stream": "stdout",
       "text": [
        "Thread #3: \t2800000 read pairs finished. 734 secs passed\r\n"
       ]
      },
      {
       "output_type": "stream",
       "stream": "stdout",
       "text": [
        "Thread #1: \t2850000 read pairs finished. 800 secs passed\r\n"
       ]
      },
      {
       "output_type": "stream",
       "stream": "stdout",
       "text": [
        "Thread #0: \t2900000 read pairs finished. 803 secs passed\r\n"
       ]
      },
      {
       "output_type": "stream",
       "stream": "stdout",
       "text": [
        "Thread #7: \t2950000 read pairs finished. 814 secs passed\r\n"
       ]
      },
      {
       "output_type": "stream",
       "stream": "stdout",
       "text": [
        "Thread #6: \t3000000 read pairs finished. 817 secs passed\r\n"
       ]
      },
      {
       "output_type": "stream",
       "stream": "stdout",
       "text": [
        "Thread #5: \t3050000 read pairs finished. 818 secs passed\r\n"
       ]
      },
      {
       "output_type": "stream",
       "stream": "stdout",
       "text": [
        "Thread #2: \t3100000 read pairs finished. 819 secs passed\r\n"
       ]
      },
      {
       "output_type": "stream",
       "stream": "stdout",
       "text": [
        "Thread #4: \t3150000 read pairs finished. 826 secs passed\r\n"
       ]
      },
      {
       "output_type": "stream",
       "stream": "stdout",
       "text": [
        "Thread #3: \t3200000 read pairs finished. 835 secs passed\r\n"
       ]
      },
      {
       "output_type": "stream",
       "stream": "stdout",
       "text": [
        "Thread #1: \t3250000 read pairs finished. 899 secs passed\r\n"
       ]
      },
      {
       "output_type": "stream",
       "stream": "stdout",
       "text": [
        "Thread #0: \t3300000 read pairs finished. 902 secs passed\r\n"
       ]
      },
      {
       "output_type": "stream",
       "stream": "stdout",
       "text": [
        "Thread #7: \t3350000 read pairs finished. 914 secs passed\r\n"
       ]
      },
      {
       "output_type": "stream",
       "stream": "stdout",
       "text": [
        "Thread #6: \t3400000 read pairs finished. 916 secs passed\r\n"
       ]
      },
      {
       "output_type": "stream",
       "stream": "stdout",
       "text": [
        "Thread #5: \t3450000 read pairs finished. 917 secs passed\r\n"
       ]
      },
      {
       "output_type": "stream",
       "stream": "stdout",
       "text": [
        "Thread #2: \t3500000 read pairs finished. 917 secs passed\r\n"
       ]
      },
      {
       "output_type": "stream",
       "stream": "stdout",
       "text": [
        "Thread #4: \t3550000 read pairs finished. 924 secs passed\r\n"
       ]
      },
      {
       "output_type": "stream",
       "stream": "stdout",
       "text": [
        "Thread #3: \t3600000 read pairs finished. 935 secs passed\r\n"
       ]
      },
      {
       "output_type": "stream",
       "stream": "stdout",
       "text": [
        "Thread #1: \t3650000 read pairs finished. 993 secs passed\r\n"
       ]
      },
      {
       "output_type": "stream",
       "stream": "stdout",
       "text": [
        "Thread #0: \t3700000 read pairs finished. 1004 secs passed\r\n"
       ]
      },
      {
       "output_type": "stream",
       "stream": "stdout",
       "text": [
        "Thread #2: \t3900000 read pairs finished. 1015 secs passed\r\n"
       ]
      },
      {
       "output_type": "stream",
       "stream": "stdout",
       "text": [
        "Thread #5: \t3850000 read pairs finished. 1016 secs passed\r\n"
       ]
      },
      {
       "output_type": "stream",
       "stream": "stdout",
       "text": [
        "Thread #6: \t3800000 read pairs finished. 1020 secs passed\r\n"
       ]
      },
      {
       "output_type": "stream",
       "stream": "stdout",
       "text": [
        "Thread #4: \t3950000 read pairs finished. 1021 secs passed\r\n"
       ]
      },
      {
       "output_type": "stream",
       "stream": "stdout",
       "text": [
        "Thread #7: \t3750000 read pairs finished. 1023 secs passed\r\n"
       ]
      },
      {
       "output_type": "stream",
       "stream": "stdout",
       "text": [
        "Thread #3: \t4000000 read pairs finished. 1033 secs passed\r\n"
       ]
      },
      {
       "output_type": "stream",
       "stream": "stdout",
       "text": [
        "Thread #1: \t4050000 read pairs finished. 1090 secs passed\r\n"
       ]
      },
      {
       "output_type": "stream",
       "stream": "stdout",
       "text": [
        "Thread #0: \t4100000 read pairs finished. 1103 secs passed\r\n"
       ]
      },
      {
       "output_type": "stream",
       "stream": "stdout",
       "text": [
        "Thread #2: \t4150000 read pairs finished. 1115 secs passed\r\n"
       ]
      },
      {
       "output_type": "stream",
       "stream": "stdout",
       "text": [
        "Thread #5: \t4200000 read pairs finished. 1116 secs passed\r\n"
       ]
      },
      {
       "output_type": "stream",
       "stream": "stdout",
       "text": [
        "Thread #6: \t4250000 read pairs finished. 1120 secs passed\r\n"
       ]
      },
      {
       "output_type": "stream",
       "stream": "stdout",
       "text": [
        "Thread #4: \t4300000 read pairs finished. 1120 secs passed\r\n"
       ]
      },
      {
       "output_type": "stream",
       "stream": "stdout",
       "text": [
        "Thread #7: \t4350000 read pairs finished. 1122 secs passed\r\n"
       ]
      },
      {
       "output_type": "stream",
       "stream": "stdout",
       "text": [
        "Thread #3: \t4400000 read pairs finished. 1135 secs passed\r\n"
       ]
      },
      {
       "output_type": "stream",
       "stream": "stdout",
       "text": [
        "Thread #1: \t4450000 read pairs finished. 1187 secs passed\r\n"
       ]
      },
      {
       "output_type": "stream",
       "stream": "stdout",
       "text": [
        "Thread #0: \t4500000 read pairs finished. 1201 secs passed\r\n"
       ]
      },
      {
       "output_type": "stream",
       "stream": "stdout",
       "text": [
        "Thread #2: \t4550000 read pairs finished. 1213 secs passed\r\n"
       ]
      },
      {
       "output_type": "stream",
       "stream": "stdout",
       "text": [
        "Thread #5: \t4600000 read pairs finished. 1216 secs passed\r\n"
       ]
      },
      {
       "output_type": "stream",
       "stream": "stdout",
       "text": [
        "Thread #4: \t4700000 read pairs finished. 1220 secs passed\r\n"
       ]
      },
      {
       "output_type": "stream",
       "stream": "stdout",
       "text": [
        "Thread #7: \t4750000 read pairs finished. 1221 secs passed\r\n"
       ]
      },
      {
       "output_type": "stream",
       "stream": "stdout",
       "text": [
        "Thread #6: \t4650000 read pairs finished. 1222 secs passed\r\n"
       ]
      },
      {
       "output_type": "stream",
       "stream": "stdout",
       "text": [
        "Thread #3: \t4800000 read pairs finished. 1235 secs passed\r\n"
       ]
      },
      {
       "output_type": "stream",
       "stream": "stdout",
       "text": [
        "Thread #1: \t4850000 read pairs finished. 1285 secs passed\r\n"
       ]
      },
      {
       "output_type": "stream",
       "stream": "stdout",
       "text": [
        "Thread #0: \t4900000 read pairs finished. 1299 secs passed\r\n"
       ]
      },
      {
       "output_type": "stream",
       "stream": "stdout",
       "text": [
        "Thread #2: \t4950000 read pairs finished. 1311 secs passed\r\n"
       ]
      },
      {
       "output_type": "stream",
       "stream": "stdout",
       "text": [
        "Thread #5: \t5000000 read pairs finished. 1314 secs passed\r\n"
       ]
      },
      {
       "output_type": "stream",
       "stream": "stdout",
       "text": [
        "Thread #4: \t5050000 read pairs finished. 1319 secs passed\r\n"
       ]
      },
      {
       "output_type": "stream",
       "stream": "stdout",
       "text": [
        "Thread #7: \t5100000 read pairs finished. 1321 secs passed\r\n"
       ]
      },
      {
       "output_type": "stream",
       "stream": "stdout",
       "text": [
        "Thread #6: \t5150000 read pairs finished. 1322 secs passed\r\n"
       ]
      },
      {
       "output_type": "stream",
       "stream": "stdout",
       "text": [
        "Thread #3: \t5200000 read pairs finished. 1337 secs passed\r\n"
       ]
      },
      {
       "output_type": "stream",
       "stream": "stdout",
       "text": [
        "Thread #6: \t5526741 read pairs finished. 1370 secs passed\r\n"
       ]
      },
      {
       "output_type": "stream",
       "stream": "stdout",
       "text": [
        "Thread #1: \t5250000 read pairs finished. 1375 secs passed\r\n"
       ]
      },
      {
       "output_type": "stream",
       "stream": "stdout",
       "text": [
        "Thread #0: \t5300000 read pairs finished. 1382 secs passed\r\n"
       ]
      },
      {
       "output_type": "stream",
       "stream": "stdout",
       "text": [
        "Thread #2: \t5350000 read pairs finished. 1386 secs passed\r\n"
       ]
      },
      {
       "output_type": "stream",
       "stream": "stdout",
       "text": [
        "Thread #5: \t5400000 read pairs finished. 1387 secs passed\r\n"
       ]
      },
      {
       "output_type": "stream",
       "stream": "stdout",
       "text": [
        "Thread #4: \t5450000 read pairs finished. 1388 secs passed\r\n"
       ]
      },
      {
       "output_type": "stream",
       "stream": "stdout",
       "text": [
        "Thread #7: \t5500000 read pairs finished. 1389 secs passed\r\n"
       ]
      },
      {
       "output_type": "stream",
       "stream": "stdout",
       "text": [
        "Total number of aligned reads: \r\n",
        "pairs:       3032870 (55%)\r\n",
        "single a:    996127 (18%)\r\n",
        "single b:    789107 (14%)\r\n",
        "Done.\r\n",
        "Finished at Wed Oct  2 08:31:25 2013\r\n",
        "Total time consumed:  1389 secs\r\n"
       ]
      }
     ],
     "prompt_number": 4
    },
    {
     "cell_type": "code",
     "collapsed": false,
     "input": [
      "#M3 methratio\n",
      "!python /Users/Shared/Apps/bsmap-2.74/methratio.py -d /Volumes/web/cnidarian/oyster.v9.fa -u -z -g -o  /Volumes/web/cnidarian/BiGo_lar_M3_methratio_v9_A.txt -s /Users/Shared/Apps/bsmap-2.74/samtools /Volumes/web/cnidarian/BiGo_lar_M3.sam"
     ],
     "language": "python",
     "metadata": {},
     "outputs": [
      {
       "output_type": "stream",
       "stream": "stdout",
       "text": [
        "@ Wed Oct  2 14:07:49 2013: reading reference /Volumes/web/cnidarian/oyster.v9.fa ...\r\n"
       ]
      },
      {
       "output_type": "stream",
       "stream": "stdout",
       "text": [
        "@ Wed Oct  2 14:08:28 2013: reading /Volumes/web/cnidarian/BiGo_lar_M3.sam ...\r\n"
       ]
      },
      {
       "output_type": "stream",
       "stream": "stdout",
       "text": [
        "[samopen] SAM header is present: 11969 sequences.\r\n"
       ]
      },
      {
       "output_type": "stream",
       "stream": "stdout",
       "text": [
        "@ Wed Oct  2 14:14:44 2013: combining CpG methylation from both strands ...\r\n"
       ]
      },
      {
       "output_type": "stream",
       "stream": "stdout",
       "text": [
        "@ Wed Oct  2 14:15:25 2013: writing /Volumes/web/cnidarian/BiGo_lar_M3_methratio_v9_A.txt ...\r\n"
       ]
      },
      {
       "output_type": "stream",
       "stream": "stdout",
       "text": [
        "@ Wed Oct  2 14:28:16 2013: done.\r\n",
        "total 6636061 valid mappings, 42369117 covered cytosines, average coverage: 1.57 fold.\r\n"
       ]
      }
     ],
     "prompt_number": 9
    },
    {
     "cell_type": "heading",
     "level": 2,
     "metadata": {},
     "source": [
      "Mapping Summary"
     ]
    },
    {
     "cell_type": "raw",
     "metadata": {},
     "source": [
      "Female\n",
      "pairs:       180566 (56%)\n",
      "single a:    48357 (15%)\n",
      "single b:    37390 (12%)\n",
      "    \n",
      "T1D3\n",
      "pairs:       1639918 (49%)\n",
      "single a:    709577 (21%)\n",
      "single b:    541078 (16%)\n",
      "\n",
      "T1D5\n",
      "pairs:       1142766 (42%)\n",
      "single a:    764422 (28%)\n",
      "single b:    567963 (21%)\n",
      "\n",
      "T3D3    \n",
      "pairs:       3130107 (54%)\n",
      "single a:    1140569 (20%)\n",
      "single b:    880396 (15%)\n",
      "\n",
      "T3D5\n",
      "pairs:       2414419 (55%)\n",
      "single a:    819661 (19%)\n",
      "single b:    637662 (14%)\n",
      "\n",
      "M1\n",
      "pairs:       2600662 (47%)\n",
      "single a:    1090658 (20%)\n",
      "single b:    894893 (16%)\n",
      "\n",
      "M3\n",
      "pairs:       3032870 (55%)\n",
      "single a:    996127 (18%)\n",
      "single b:    789107 (14%)\n",
      "\n",
      "\n",
      "All methratio coverage about 1.3x"
     ]
    },
    {
     "cell_type": "markdown",
     "metadata": {},
     "source": [
      "<img src=\"http://eagle.fish.washington.edu/cnidarian/skitch/BiGo_larvae_180350D3.png\" alt=\"BiGo_larvae_180350D3.png\"/>"
     ]
    },
    {
     "cell_type": "markdown",
     "metadata": {},
     "source": []
    },
    {
     "cell_type": "heading",
     "level": 1,
     "metadata": {},
     "source": [
      "Uploading methratio files to SQLShare"
     ]
    },
    {
     "cell_type": "code",
     "collapsed": false,
     "input": [
      "!python /Users/sr320/sqlshare-pythonclient/tools/singleupload.py -h"
     ],
     "language": "python",
     "metadata": {},
     "outputs": [
      {
       "output_type": "stream",
       "stream": "stdout",
       "text": [
        "Usage: singleupload.py [options] <filename>\r\n",
        "\r\n",
        "Options:\r\n",
        "  -h, --help            show this help message and exit\r\n",
        "  -u USERNAME, --user=USERNAME\r\n",
        "                        SQLshare user name\r\n",
        "  -p PASSWORD, --password=PASSWORD\r\n",
        "                        SQLshare password\r\n",
        "  -d DATASETNAME, --datasetname=DATASETNAME\r\n",
        "                        Dataset name (defaults to filename if not supplied\r\n"
       ]
      }
     ],
     "prompt_number": 21
    },
    {
     "cell_type": "heading",
     "level": 3,
     "metadata": {},
     "source": [
      "M3"
     ]
    },
    {
     "cell_type": "code",
     "collapsed": true,
     "input": [
      "!python /Users/sr320/sqlshare-pythonclient/tools/singleupload.py -d BiGo_lar_M3 /Volumes/web/cnidarian/BiGo_lar_M3_methratio_v9_A.txt"
     ],
     "language": "python",
     "metadata": {},
     "outputs": [
      {
       "output_type": "stream",
       "stream": "stdout",
       "text": [
        "processing chunk line 0 to 1926287 (3.07229495049 s elapsed)\r\n"
       ]
      },
      {
       "output_type": "stream",
       "stream": "stdout",
       "text": [
        "pushing /Volumes/web/cnidarian/BiGo_lar_M3_methratio_v9_A.txt...\r\n"
       ]
      },
      {
       "output_type": "stream",
       "stream": "stdout",
       "text": [
        "parsing 704BFE00...\r\n"
       ]
      },
      {
       "output_type": "stream",
       "stream": "stdout",
       "text": [
        "processing chunk line 1926287 to 3718827 (254.949650049 s elapsed)\r\n"
       ]
      },
      {
       "output_type": "stream",
       "stream": "stdout",
       "text": [
        "pushing /Volumes/web/cnidarian/BiGo_lar_M3_methratio_v9_A.txt...\r\n"
       ]
      },
      {
       "output_type": "stream",
       "stream": "stdout",
       "text": [
        "parsing 30ACB1F6...\r\n"
       ]
      },
      {
       "output_type": "stream",
       "stream": "stdout",
       "text": [
        "processing chunk line 3718827 to 5509581 (489.635212898 s elapsed)\r\n"
       ]
      },
      {
       "output_type": "stream",
       "stream": "stdout",
       "text": [
        "pushing /Volumes/web/cnidarian/BiGo_lar_M3_methratio_v9_A.txt...\r\n"
       ]
      },
      {
       "output_type": "stream",
       "stream": "stdout",
       "text": [
        "parsing C9318947...\r\n"
       ]
      },
      {
       "output_type": "stream",
       "stream": "stdout",
       "text": [
        "processing chunk line 5509581 to 7300118 (729.857811928 s elapsed)\r\n"
       ]
      },
      {
       "output_type": "stream",
       "stream": "stdout",
       "text": [
        "pushing /Volumes/web/cnidarian/BiGo_lar_M3_methratio_v9_A.txt...\r\n"
       ]
      },
      {
       "output_type": "stream",
       "stream": "stdout",
       "text": [
        "parsing 44AE237C...\r\n"
       ]
      },
      {
       "output_type": "stream",
       "stream": "stdout",
       "text": [
        "processing chunk line 7300118 to 9096215 (964.025758028 s elapsed)\r\n"
       ]
      },
      {
       "output_type": "stream",
       "stream": "stdout",
       "text": [
        "pushing /Volumes/web/cnidarian/BiGo_lar_M3_methratio_v9_A.txt...\r\n"
       ]
      },
      {
       "output_type": "stream",
       "stream": "stdout",
       "text": [
        "parsing 6C2E3540...\r\n"
       ]
      },
      {
       "output_type": "stream",
       "stream": "stdout",
       "text": [
        "processing chunk line 9096215 to 10889797 (1200.68903494 s elapsed)\r\n"
       ]
      },
      {
       "output_type": "stream",
       "stream": "stdout",
       "text": [
        "pushing /Volumes/web/cnidarian/BiGo_lar_M3_methratio_v9_A.txt...\r\n"
       ]
      },
      {
       "output_type": "stream",
       "stream": "stdout",
       "text": [
        "parsing 638AC568...\r\n"
       ]
      },
      {
       "output_type": "stream",
       "stream": "stdout",
       "text": [
        "processing chunk line 10889797 to 12685202 (1435.80549598 s elapsed)\r\n"
       ]
      },
      {
       "output_type": "stream",
       "stream": "stdout",
       "text": [
        "pushing /Volumes/web/cnidarian/BiGo_lar_M3_methratio_v9_A.txt...\r\n"
       ]
      },
      {
       "output_type": "stream",
       "stream": "stdout",
       "text": [
        "parsing F3AA33E9...\r\n"
       ]
      },
      {
       "output_type": "stream",
       "stream": "stdout",
       "text": [
        "processing chunk line 12685202 to 14477691 (1691.31131506 s elapsed)\r\n"
       ]
      },
      {
       "output_type": "stream",
       "stream": "stdout",
       "text": [
        "pushing /Volumes/web/cnidarian/BiGo_lar_M3_methratio_v9_A.txt...\r\n"
       ]
      },
      {
       "output_type": "stream",
       "stream": "stdout",
       "text": [
        "parsing 7104B1E4...\r\n"
       ]
      },
      {
       "output_type": "stream",
       "stream": "stdout",
       "text": [
        "processing chunk line 14477691 to 16269483 (1937.94667792 s elapsed)\r\n"
       ]
      },
      {
       "output_type": "stream",
       "stream": "stdout",
       "text": [
        "pushing /Volumes/web/cnidarian/BiGo_lar_M3_methratio_v9_A.txt...\r\n"
       ]
      },
      {
       "output_type": "stream",
       "stream": "stdout",
       "text": [
        "parsing 6409AE80...\r\n"
       ]
      },
      {
       "output_type": "stream",
       "stream": "stdout",
       "text": [
        "processing chunk line 16269483 to 18082264 (2170.47720408 s elapsed)\r\n"
       ]
      },
      {
       "output_type": "stream",
       "stream": "stdout",
       "text": [
        "pushing /Volumes/web/cnidarian/BiGo_lar_M3_methratio_v9_A.txt...\r\n"
       ]
      },
      {
       "output_type": "stream",
       "stream": "stdout",
       "text": [
        "parsing C85B750D...\r\n"
       ]
      },
      {
       "output_type": "stream",
       "stream": "stdout",
       "text": [
        "processing chunk line 18082264 to 19901282 (2408.55820608 s elapsed)\r\n"
       ]
      },
      {
       "output_type": "stream",
       "stream": "stdout",
       "text": [
        "pushing /Volumes/web/cnidarian/BiGo_lar_M3_methratio_v9_A.txt...\r\n"
       ]
      },
      {
       "output_type": "stream",
       "stream": "stdout",
       "text": [
        "parsing 621711F8...\r\n"
       ]
      },
      {
       "output_type": "stream",
       "stream": "stdout",
       "text": [
        "processing chunk line 19901282 to 21704953 (2648.27426004 s elapsed)\r\n"
       ]
      },
      {
       "output_type": "stream",
       "stream": "stdout",
       "text": [
        "pushing /Volumes/web/cnidarian/BiGo_lar_M3_methratio_v9_A.txt...\r\n"
       ]
      },
      {
       "output_type": "stream",
       "stream": "stdout",
       "text": [
        "parsing 4379177B...\r\n"
       ]
      },
      {
       "output_type": "stream",
       "stream": "stdout",
       "text": [
        "processing chunk line 21704953 to 23501037 (2889.14680409 s elapsed)\r\n"
       ]
      },
      {
       "output_type": "stream",
       "stream": "stdout",
       "text": [
        "pushing /Volumes/web/cnidarian/BiGo_lar_M3_methratio_v9_A.txt...\r\n"
       ]
      },
      {
       "output_type": "stream",
       "stream": "stdout",
       "text": [
        "parsing 9ACE3EA4...\r\n"
       ]
      },
      {
       "output_type": "stream",
       "stream": "stdout",
       "text": [
        "processing chunk line 23501037 to 25295830 (3130.25040698 s elapsed)\r\n"
       ]
      },
      {
       "output_type": "stream",
       "stream": "stdout",
       "text": [
        "pushing /Volumes/web/cnidarian/BiGo_lar_M3_methratio_v9_A.txt...\r\n"
       ]
      },
      {
       "output_type": "stream",
       "stream": "stdout",
       "text": [
        "parsing A0AF1579...\r\n"
       ]
      },
      {
       "output_type": "stream",
       "stream": "stdout",
       "text": [
        "processing chunk line 25295830 to 27079106 (3371.74482894 s elapsed)\r\n"
       ]
      },
      {
       "output_type": "stream",
       "stream": "stdout",
       "text": [
        "pushing /Volumes/web/cnidarian/BiGo_lar_M3_methratio_v9_A.txt...\r\n"
       ]
      },
      {
       "output_type": "stream",
       "stream": "stdout",
       "text": [
        "parsing E006D70C...\r\n"
       ]
      },
      {
       "output_type": "stream",
       "stream": "stdout",
       "text": [
        "processing chunk line 27079106 to 28851317 (3612.66357493 s elapsed)\r\n"
       ]
      },
      {
       "output_type": "stream",
       "stream": "stdout",
       "text": [
        "pushing /Volumes/web/cnidarian/BiGo_lar_M3_methratio_v9_A.txt...\r\n"
       ]
      },
      {
       "output_type": "stream",
       "stream": "stdout",
       "text": [
        "parsing C5480BDF...\r\n"
       ]
      },
      {
       "output_type": "stream",
       "stream": "stdout",
       "text": [
        "processing chunk line 28851317 to 30616437 (3856.90636301 s elapsed)\r\n"
       ]
      },
      {
       "output_type": "stream",
       "stream": "stdout",
       "text": [
        "pushing /Volumes/web/cnidarian/BiGo_lar_M3_methratio_v9_A.txt...\r\n"
       ]
      },
      {
       "output_type": "stream",
       "stream": "stdout",
       "text": [
        "parsing CF356F20...\r\n"
       ]
      },
      {
       "output_type": "stream",
       "stream": "stdout",
       "text": [
        "processing chunk line 30616437 to 32408791 (4098.50668693 s elapsed)\r\n"
       ]
      },
      {
       "output_type": "stream",
       "stream": "stdout",
       "text": [
        "pushing /Volumes/web/cnidarian/BiGo_lar_M3_methratio_v9_A.txt...\r\n"
       ]
      },
      {
       "output_type": "stream",
       "stream": "stdout",
       "text": [
        "parsing F145A0F7...\r\n"
       ]
      },
      {
       "output_type": "stream",
       "stream": "stdout",
       "text": [
        "processing chunk line 32408791 to 34227695 (4355.93375707 s elapsed)\r\n"
       ]
      },
      {
       "output_type": "stream",
       "stream": "stdout",
       "text": [
        "pushing /Volumes/web/cnidarian/BiGo_lar_M3_methratio_v9_A.txt...\r\n"
       ]
      },
      {
       "output_type": "stream",
       "stream": "stdout",
       "text": [
        "parsing D0951DE8...\r\n"
       ]
      },
      {
       "output_type": "stream",
       "stream": "stdout",
       "text": [
        "processing chunk line 34227695 to 36048579 (4604.04690909 s elapsed)\r\n"
       ]
      },
      {
       "output_type": "stream",
       "stream": "stdout",
       "text": [
        "pushing /Volumes/web/cnidarian/BiGo_lar_M3_methratio_v9_A.txt...\r\n"
       ]
      },
      {
       "output_type": "stream",
       "stream": "stdout",
       "text": [
        "parsing 7489D1B8...\r\n"
       ]
      },
      {
       "output_type": "stream",
       "stream": "stdout",
       "text": [
        "processing chunk line 36048579 to 37871315 (4850.912606 s elapsed)\r\n"
       ]
      },
      {
       "output_type": "stream",
       "stream": "stdout",
       "text": [
        "pushing /Volumes/web/cnidarian/BiGo_lar_M3_methratio_v9_A.txt...\r\n"
       ]
      },
      {
       "output_type": "stream",
       "stream": "stdout",
       "text": [
        "parsing EBA6E84C...\r\n"
       ]
      },
      {
       "output_type": "stream",
       "stream": "stdout",
       "text": [
        "processing chunk line 37871315 to 39692752 (5096.43392396 s elapsed)\r\n"
       ]
      },
      {
       "output_type": "stream",
       "stream": "stdout",
       "text": [
        "pushing /Volumes/web/cnidarian/BiGo_lar_M3_methratio_v9_A.txt...\r\n"
       ]
      },
      {
       "output_type": "stream",
       "stream": "stdout",
       "text": [
        "parsing 9CA6101F...\r\n"
       ]
      },
      {
       "output_type": "stream",
       "stream": "stdout",
       "text": [
        "processing chunk line 39692752 to 41517309 (5351.73488307 s elapsed)\r\n"
       ]
      },
      {
       "output_type": "stream",
       "stream": "stdout",
       "text": [
        "pushing /Volumes/web/cnidarian/BiGo_lar_M3_methratio_v9_A.txt...\r\n"
       ]
      },
      {
       "output_type": "stream",
       "stream": "stdout",
       "text": [
        "parsing F02DAF3C...\r\n"
       ]
      },
      {
       "output_type": "stream",
       "stream": "stdout",
       "text": [
        "processing chunk line 41517309 to 42369118 (5598.58962893 s elapsed)\r\n"
       ]
      },
      {
       "output_type": "stream",
       "stream": "stdout",
       "text": [
        "pushing /Volumes/web/cnidarian/BiGo_lar_M3_methratio_v9_A.txt...\r\n"
       ]
      },
      {
       "output_type": "stream",
       "stream": "stdout",
       "text": [
        "parsing FC4070AB...\r\n"
       ]
      },
      {
       "output_type": "stream",
       "stream": "stdout",
       "text": [
        "finished BiGo_lar_M3\r\n"
       ]
      }
     ],
     "prompt_number": 1
    },
    {
     "cell_type": "code",
     "collapsed": false,
     "input": [
      "#Creating GFF of CG with 5x\n",
      "!python /Users/sr320/sqlshare-pythonclient/tools/fetchdata.py -s \"SELECT chr as seqname,'methratio' as source,'CpG' as feature, pos as start, pos + 1 as [end], ratio as score, strand, '.' as frame, '.' as attribute FROM [sr320@washington.edu].[BiGO_lar_M3] where context like '__CG_' and CT_Count > 5\" -f tsv -o /Volumes/web/cnidarian/BiGo_lar_M3_methratio_CG.txt"
     ],
     "language": "python",
     "metadata": {},
     "outputs": [],
     "prompt_number": 6
    },
    {
     "cell_type": "heading",
     "level": 3,
     "metadata": {},
     "source": [
      "T3D3"
     ]
    },
    {
     "cell_type": "code",
     "collapsed": false,
     "input": [
      "!python /Users/sr320/sqlshare-pythonclient/tools/singleupload.py -d BiGo_lar_T3D3 /Volumes/web/cnidarian/BiGo_lar_T3D3_methratio_v9_A.txt"
     ],
     "language": "python",
     "metadata": {},
     "outputs": [
      {
       "output_type": "stream",
       "stream": "stdout",
       "text": [
        "processing chunk line 0 to 1937237 (2.63954401016 s elapsed)\r\n"
       ]
      },
      {
       "output_type": "stream",
       "stream": "stdout",
       "text": [
        "pushing /Volumes/web/cnidarian/BiGo_lar_T3D3_methratio_v9_A.txt...\r\n"
       ]
      },
      {
       "output_type": "stream",
       "stream": "stdout",
       "text": [
        "parsing C6D00CCA...\r\n"
       ]
      }
     ],
     "prompt_number": "*"
    },
    {
     "cell_type": "code",
     "collapsed": false,
     "input": [
      "!python /Users/sr320/sqlshare-pythonclient/tools/fetchdata.py -s \"SELECT chr as seqname,'methratio' as source,'CpG' as feature, pos as start, pos + 1 as [end], ratio as score, strand, '.' as frame, '.' as attribute FROM [sr320@washington.edu].[BiGO_lar_T3D3] where context like '__CG_' and CT_Count > 5\" -f tsv -o /Volumes/web/cnidarian/BiGo_lar_T3D3_methratio_CG.txt"
     ],
     "language": "python",
     "metadata": {},
     "outputs": [],
     "prompt_number": "*"
    },
    {
     "cell_type": "heading",
     "level": 3,
     "metadata": {},
     "source": [
      "T3D5"
     ]
    },
    {
     "cell_type": "code",
     "collapsed": false,
     "input": [
      "!python /Users/sr320/sqlshare-pythonclient/tools/singleupload.py -d BiGo_lar_T3D5 /Volumes/web/cnidarian/BiGo_lar_T3D5_methratio_v9_A.txt"
     ],
     "language": "python",
     "metadata": {},
     "outputs": []
    },
    {
     "cell_type": "code",
     "collapsed": false,
     "input": [
      "!python /Users/sr320/sqlshare-pythonclient/tools/fetchdata.py -s \"SELECT chr as seqname,'methratio' as source,'CpG' as feature, pos as start, pos + 1 as [end], ratio as score, strand, '.' as frame, '.' as attribute FROM [sr320@washington.edu].[BiGO_lar_T3D5] where context like '__CG_' and CT_Count > 5\" -f tsv -o /Volumes/web/cnidarian/BiGo_lar_T3D5_methratio_CG.txt"
     ],
     "language": "python",
     "metadata": {},
     "outputs": []
    },
    {
     "cell_type": "heading",
     "level": 3,
     "metadata": {},
     "source": [
      "M1"
     ]
    },
    {
     "cell_type": "code",
     "collapsed": false,
     "input": [
      "#M1\n",
      "!python /Users/sr320/sqlshare-pythonclient/tools/singleupload.py -d BiGo_lar_M1 /Volumes/web/cnidarian/BiGo_lar_M1_methratio_v9_A.txt"
     ],
     "language": "python",
     "metadata": {},
     "outputs": [
      {
       "output_type": "stream",
       "stream": "stdout",
       "text": [
        "processing chunk line 0 to 1914203 (2.65032696724 s elapsed)\r\n"
       ]
      },
      {
       "output_type": "stream",
       "stream": "stdout",
       "text": [
        "pushing /Volumes/web/cnidarian/BiGo_lar_M1_methratio_v9_A.txt...\r\n"
       ]
      },
      {
       "output_type": "stream",
       "stream": "stdout",
       "text": [
        "parsing 4942AF32...\r\n"
       ]
      },
      {
       "output_type": "stream",
       "stream": "stdout",
       "text": [
        "processing chunk line 1914203 to 3707769 (241.177401066 s elapsed)\r\n"
       ]
      },
      {
       "output_type": "stream",
       "stream": "stdout",
       "text": [
        "pushing /Volumes/web/cnidarian/BiGo_lar_M1_methratio_v9_A.txt...\r\n"
       ]
      },
      {
       "output_type": "stream",
       "stream": "stdout",
       "text": [
        "parsing 4F965951...\r\n"
       ]
      },
      {
       "output_type": "stream",
       "stream": "stdout",
       "text": [
        "processing chunk line 3707769 to 5499087 (474.987231016 s elapsed)\r\n"
       ]
      },
      {
       "output_type": "stream",
       "stream": "stdout",
       "text": [
        "pushing /Volumes/web/cnidarian/BiGo_lar_M1_methratio_v9_A.txt...\r\n"
       ]
      },
      {
       "output_type": "stream",
       "stream": "stdout",
       "text": [
        "parsing 9D822C1B...\r\n"
       ]
      },
      {
       "output_type": "stream",
       "stream": "stdout",
       "text": [
        "processing chunk line 5499087 to 7290548 (710.098507881 s elapsed)\r\n"
       ]
      },
      {
       "output_type": "stream",
       "stream": "stdout",
       "text": [
        "pushing /Volumes/web/cnidarian/BiGo_lar_M1_methratio_v9_A.txt...\r\n"
       ]
      },
      {
       "output_type": "stream",
       "stream": "stdout",
       "text": [
        "parsing 3164AA12...\r\n"
       ]
      },
      {
       "output_type": "stream",
       "stream": "stdout",
       "text": [
        "processing chunk line 7290548 to 9087335 (956.481744051 s elapsed)\r\n"
       ]
      },
      {
       "output_type": "stream",
       "stream": "stdout",
       "text": [
        "pushing /Volumes/web/cnidarian/BiGo_lar_M1_methratio_v9_A.txt...\r\n"
       ]
      },
      {
       "output_type": "stream",
       "stream": "stdout",
       "text": [
        "parsing 8874D24D...\r\n"
       ]
      },
      {
       "output_type": "stream",
       "stream": "stdout",
       "text": [
        "processing chunk line 9087335 to 10882268 (1189.40272784 s elapsed)\r\n"
       ]
      },
      {
       "output_type": "stream",
       "stream": "stdout",
       "text": [
        "pushing /Volumes/web/cnidarian/BiGo_lar_M1_methratio_v9_A.txt...\r\n"
       ]
      },
      {
       "output_type": "stream",
       "stream": "stdout",
       "text": [
        "parsing AB2EDFCC...\r\n"
       ]
      },
      {
       "output_type": "stream",
       "stream": "stdout",
       "text": [
        "processing chunk line 10882268 to 12676537 (1426.55913591 s elapsed)\r\n"
       ]
      },
      {
       "output_type": "stream",
       "stream": "stdout",
       "text": [
        "pushing /Volumes/web/cnidarian/BiGo_lar_M1_methratio_v9_A.txt...\r\n"
       ]
      },
      {
       "output_type": "stream",
       "stream": "stdout",
       "text": [
        "parsing 70F4400E...\r\n"
       ]
      },
      {
       "output_type": "stream",
       "stream": "stdout",
       "text": [
        "processing chunk line 12676537 to 14469534 (1676.53050089 s elapsed)\r\n"
       ]
      },
      {
       "output_type": "stream",
       "stream": "stdout",
       "text": [
        "pushing /Volumes/web/cnidarian/BiGo_lar_M1_methratio_v9_A.txt...\r\n"
       ]
      },
      {
       "output_type": "stream",
       "stream": "stdout",
       "text": [
        "parsing E3185686...\r\n"
       ]
      },
      {
       "output_type": "stream",
       "stream": "stdout",
       "text": [
        "processing chunk line 14469534 to 16282655 (1915.30709291 s elapsed)\r\n"
       ]
      },
      {
       "output_type": "stream",
       "stream": "stdout",
       "text": [
        "pushing /Volumes/web/cnidarian/BiGo_lar_M1_methratio_v9_A.txt...\r\n"
       ]
      },
      {
       "output_type": "stream",
       "stream": "stdout",
       "text": [
        "parsing E48EF49E...\r\n"
       ]
      },
      {
       "output_type": "stream",
       "stream": "stdout",
       "text": [
        "processing chunk line 16282655 to 18100457 (2160.12649894 s elapsed)\r\n"
       ]
      },
      {
       "output_type": "stream",
       "stream": "stdout",
       "text": [
        "pushing /Volumes/web/cnidarian/BiGo_lar_M1_methratio_v9_A.txt...\r\n"
       ]
      },
      {
       "output_type": "stream",
       "stream": "stdout",
       "text": [
        "parsing 076C6727...\r\n"
       ]
      },
      {
       "output_type": "stream",
       "stream": "stdout",
       "text": [
        "processing chunk line 18100457 to 19902928 (2399.14282203 s elapsed)\r\n"
       ]
      },
      {
       "output_type": "stream",
       "stream": "stdout",
       "text": [
        "pushing /Volumes/web/cnidarian/BiGo_lar_M1_methratio_v9_A.txt...\r\n"
       ]
      },
      {
       "output_type": "stream",
       "stream": "stdout",
       "text": [
        "parsing 6D1BF13D...\r\n"
       ]
      },
      {
       "output_type": "stream",
       "stream": "stdout",
       "text": [
        "processing chunk line 19902928 to 21697108 (2636.89273787 s elapsed)\r\n"
       ]
      },
      {
       "output_type": "stream",
       "stream": "stdout",
       "text": [
        "pushing /Volumes/web/cnidarian/BiGo_lar_M1_methratio_v9_A.txt...\r\n"
       ]
      },
      {
       "output_type": "stream",
       "stream": "stdout",
       "text": [
        "parsing 1737036D...\r\n"
       ]
      },
      {
       "output_type": "stream",
       "stream": "stdout",
       "text": [
        "processing chunk line 21697108 to 23488733 (2880.17217803 s elapsed)\r\n"
       ]
      },
      {
       "output_type": "stream",
       "stream": "stdout",
       "text": [
        "pushing /Volumes/web/cnidarian/BiGo_lar_M1_methratio_v9_A.txt...\r\n"
       ]
      },
      {
       "output_type": "stream",
       "stream": "stdout",
       "text": [
        "parsing 650E9F3D...\r\n"
       ]
      },
      {
       "output_type": "stream",
       "stream": "stdout",
       "text": [
        "processing chunk line 23488733 to 25267525 (3120.61586404 s elapsed)\r\n"
       ]
      },
      {
       "output_type": "stream",
       "stream": "stdout",
       "text": [
        "pushing /Volumes/web/cnidarian/BiGo_lar_M1_methratio_v9_A.txt...\r\n"
       ]
      },
      {
       "output_type": "stream",
       "stream": "stdout",
       "text": [
        "parsing F4EB0EF1...\r\n"
       ]
      },
      {
       "output_type": "stream",
       "stream": "stdout",
       "text": [
        "processing chunk line 25267525 to 27036869 (3364.64700294 s elapsed)\r\n"
       ]
      },
      {
       "output_type": "stream",
       "stream": "stdout",
       "text": [
        "pushing /Volumes/web/cnidarian/BiGo_lar_M1_methratio_v9_A.txt...\r\n"
       ]
      },
      {
       "output_type": "stream",
       "stream": "stdout",
       "text": [
        "parsing 2B2DB663...\r\n"
       ]
      },
      {
       "output_type": "stream",
       "stream": "stdout",
       "text": [
        "processing chunk line 27036869 to 28818585 (3603.17266893 s elapsed)\r\n"
       ]
      },
      {
       "output_type": "stream",
       "stream": "stdout",
       "text": [
        "pushing /Volumes/web/cnidarian/BiGo_lar_M1_methratio_v9_A.txt...\r\n"
       ]
      },
      {
       "output_type": "stream",
       "stream": "stdout",
       "text": [
        "parsing 9392D856...\r\n"
       ]
      },
      {
       "output_type": "stream",
       "stream": "stdout",
       "text": [
        "processing chunk line 28818585 to 30638898 (3842.82249403 s elapsed)\r\n"
       ]
      },
      {
       "output_type": "stream",
       "stream": "stdout",
       "text": [
        "pushing /Volumes/web/cnidarian/BiGo_lar_M1_methratio_v9_A.txt...\r\n"
       ]
      },
      {
       "output_type": "stream",
       "stream": "stdout",
       "text": [
        "parsing E1A83D16...\r\n"
       ]
      },
      {
       "output_type": "stream",
       "stream": "stdout",
       "text": [
        "processing chunk line 30638898 to 32459779 (4084.22851491 s elapsed)\r\n"
       ]
      },
      {
       "output_type": "stream",
       "stream": "stdout",
       "text": [
        "pushing /Volumes/web/cnidarian/BiGo_lar_M1_methratio_v9_A.txt...\r\n"
       ]
      },
      {
       "output_type": "stream",
       "stream": "stdout",
       "text": [
        "parsing 4449465C...\r\n"
       ]
      },
      {
       "output_type": "stream",
       "stream": "stdout",
       "text": [
        "processing chunk line 32459779 to 34282522 (4328.33319592 s elapsed)\r\n"
       ]
      },
      {
       "output_type": "stream",
       "stream": "stdout",
       "text": [
        "pushing /Volumes/web/cnidarian/BiGo_lar_M1_methratio_v9_A.txt...\r\n"
       ]
      },
      {
       "output_type": "stream",
       "stream": "stdout",
       "text": [
        "parsing 0DB6E88F...\r\n"
       ]
      },
      {
       "output_type": "stream",
       "stream": "stdout",
       "text": [
        "processing chunk line 34282522 to 36106900 (4575.06277585 s elapsed)\r\n"
       ]
      },
      {
       "output_type": "stream",
       "stream": "stdout",
       "text": [
        "pushing /Volumes/web/cnidarian/BiGo_lar_M1_methratio_v9_A.txt...\r\n"
       ]
      },
      {
       "output_type": "stream",
       "stream": "stdout",
       "text": [
        "parsing 4DE8FE90...\r\n"
       ]
      },
      {
       "output_type": "stream",
       "stream": "stdout",
       "text": [
        "processing chunk line 36106900 to 37928931 (4827.68771791 s elapsed)\r\n"
       ]
      },
      {
       "output_type": "stream",
       "stream": "stdout",
       "text": [
        "pushing /Volumes/web/cnidarian/BiGo_lar_M1_methratio_v9_A.txt...\r\n"
       ]
      },
      {
       "output_type": "stream",
       "stream": "stdout",
       "text": [
        "parsing A757D52E...\r\n"
       ]
      },
      {
       "output_type": "stream",
       "stream": "stdout",
       "text": [
        "processing chunk line 37928931 to 37975072 (5070.4182899 s elapsed)\r\n",
        "pushing /Volumes/web/cnidarian/BiGo_lar_M1_methratio_v9_A.txt...\r\n"
       ]
      },
      {
       "output_type": "stream",
       "stream": "stdout",
       "text": [
        "parsing 073F8705...\r\n"
       ]
      },
      {
       "output_type": "stream",
       "stream": "stdout",
       "text": [
        "finished BiGo_lar_M1\r\n"
       ]
      }
     ],
     "prompt_number": 12
    },
    {
     "cell_type": "code",
     "collapsed": false,
     "input": [
      "#Creating GFF of CG 5x\n",
      "!python /Users/sr320/sqlshare-pythonclient/tools/fetchdata.py -s \"SELECT chr as seqname,'methratio' as source,'CpG' as feature, pos as start, pos + 1 as [end], ratio as score, strand, '.' as frame, '.' as attribute FROM [sr320@washington.edu].[BiGo_lar_M1] where context like '__CG_' and CT_Count > 5\" -f tsv -o /Volumes/web/cnidarian/BiGo_lar_M1_methratio_CG.txt"
     ],
     "language": "python",
     "metadata": {},
     "outputs": [],
     "prompt_number": 13
    },
    {
     "cell_type": "heading",
     "level": 3,
     "metadata": {},
     "source": [
      "TID3"
     ]
    },
    {
     "cell_type": "code",
     "collapsed": false,
     "input": [
      "#Creating GFF of CG 5x\n",
      "!python /Users/sr320/sqlshare-pythonclient/tools/fetchdata.py -s \"SELECT chr as seqname,'methratio' as source,'CpG' as feature, pos as start, pos + 1 as [end], ratio as score, strand, '.' as frame, '.' as attribute FROM [sr320@washington.edu].[BiGO_lar_T1D3] where context like '__CG_' and CT_Count > 5\" -f tsv -o /Volumes/web/cnidarian/BiGo_lar_T1D3_methratio_CG.txt"
     ],
     "language": "python",
     "metadata": {},
     "outputs": [],
     "prompt_number": 8
    },
    {
     "cell_type": "heading",
     "level": 3,
     "metadata": {},
     "source": [
      "T1D5"
     ]
    },
    {
     "cell_type": "code",
     "collapsed": false,
     "input": [
      "#uploading T1D5\n",
      "!python /Users/sr320/sqlshare-pythonclient/tools/singleupload.py -d BiGo_lar_T1D5 /Volumes/web/cnidarian/BiGo_lar_TID5_methratio_v9_A.txt"
     ],
     "language": "python",
     "metadata": {},
     "outputs": [
      {
       "output_type": "stream",
       "stream": "stdout",
       "text": [
        "processing chunk line 0 to 1871173 (2.50428009033 s elapsed)\r\n"
       ]
      },
      {
       "output_type": "stream",
       "stream": "stdout",
       "text": [
        "pushing /Volumes/web/cnidarian/BiGo_lar_TID5_methratio_v9_A.txt...\r\n"
       ]
      },
      {
       "output_type": "stream",
       "stream": "stdout",
       "text": [
        "parsing 90802450...\r\n"
       ]
      },
      {
       "output_type": "stream",
       "stream": "stdout",
       "text": [
        "processing chunk line 1871173 to 3663442 (247.303070068 s elapsed)\r\n"
       ]
      },
      {
       "output_type": "stream",
       "stream": "stdout",
       "text": [
        "pushing /Volumes/web/cnidarian/BiGo_lar_TID5_methratio_v9_A.txt...\r\n"
       ]
      },
      {
       "output_type": "stream",
       "stream": "stdout",
       "text": [
        "parsing 028BBD67...\r\n"
       ]
      },
      {
       "output_type": "stream",
       "stream": "stdout",
       "text": [
        "processing chunk line 3663442 to 5458933 (476.486818075 s elapsed)\r\n"
       ]
      },
      {
       "output_type": "stream",
       "stream": "stdout",
       "text": [
        "pushing /Volumes/web/cnidarian/BiGo_lar_TID5_methratio_v9_A.txt...\r\n"
       ]
      },
      {
       "output_type": "stream",
       "stream": "stdout",
       "text": [
        "parsing 28D87D98...\r\n"
       ]
      },
      {
       "output_type": "stream",
       "stream": "stdout",
       "text": [
        "processing chunk line 5458933 to 7253223 (710.011958122 s elapsed)\r\n"
       ]
      },
      {
       "output_type": "stream",
       "stream": "stdout",
       "text": [
        "pushing /Volumes/web/cnidarian/BiGo_lar_TID5_methratio_v9_A.txt...\r\n"
       ]
      },
      {
       "output_type": "stream",
       "stream": "stdout",
       "text": [
        "parsing 99A8901A...\r\n"
       ]
      },
      {
       "output_type": "stream",
       "stream": "stdout",
       "text": [
        "processing chunk line 7253223 to 9046005 (958.407089949 s elapsed)\r\n"
       ]
      },
      {
       "output_type": "stream",
       "stream": "stdout",
       "text": [
        "pushing /Volumes/web/cnidarian/BiGo_lar_TID5_methratio_v9_A.txt...\r\n"
       ]
      },
      {
       "output_type": "stream",
       "stream": "stdout",
       "text": [
        "parsing 02D3125D...\r\n"
       ]
      },
      {
       "output_type": "stream",
       "stream": "stdout",
       "text": [
        "processing chunk line 9046005 to 10857553 (1194.479213 s elapsed)\r\n"
       ]
      },
      {
       "output_type": "stream",
       "stream": "stdout",
       "text": [
        "pushing /Volumes/web/cnidarian/BiGo_lar_TID5_methratio_v9_A.txt...\r\n"
       ]
      },
      {
       "output_type": "stream",
       "stream": "stdout",
       "text": [
        "parsing 1124948D...\r\n"
       ]
      },
      {
       "output_type": "stream",
       "stream": "stdout",
       "text": [
        "processing chunk line 10857553 to 12667016 (1437.00030994 s elapsed)\r\n"
       ]
      },
      {
       "output_type": "stream",
       "stream": "stdout",
       "text": [
        "pushing /Volumes/web/cnidarian/BiGo_lar_TID5_methratio_v9_A.txt...\r\n"
       ]
      },
      {
       "output_type": "stream",
       "stream": "stdout",
       "text": [
        "parsing 47A00721...\r\n"
       ]
      },
      {
       "output_type": "stream",
       "stream": "stdout",
       "text": [
        "processing chunk line 12667016 to 14463026 (1684.63456011 s elapsed)\r\n"
       ]
      },
      {
       "output_type": "stream",
       "stream": "stdout",
       "text": [
        "pushing /Volumes/web/cnidarian/BiGo_lar_TID5_methratio_v9_A.txt...\r\n"
       ]
      },
      {
       "output_type": "stream",
       "stream": "stdout",
       "text": [
        "parsing F731C24C...\r\n"
       ]
      },
      {
       "output_type": "stream",
       "stream": "stdout",
       "text": [
        "processing chunk line 14463026 to 16243026 (1919.55414295 s elapsed)\r\n"
       ]
      },
      {
       "output_type": "stream",
       "stream": "stdout",
       "text": [
        "pushing /Volumes/web/cnidarian/BiGo_lar_TID5_methratio_v9_A.txt...\r\n"
       ]
      },
      {
       "output_type": "stream",
       "stream": "stdout",
       "text": [
        "parsing 29C0AEA6...\r\n"
       ]
      },
      {
       "output_type": "stream",
       "stream": "stdout",
       "text": [
        "processing chunk line 16243026 to 18009217 (2155.419595 s elapsed)\r\n"
       ]
      },
      {
       "output_type": "stream",
       "stream": "stdout",
       "text": [
        "pushing /Volumes/web/cnidarian/BiGo_lar_TID5_methratio_v9_A.txt...\r\n"
       ]
      },
      {
       "output_type": "stream",
       "stream": "stdout",
       "text": [
        "parsing FB34A640...\r\n"
       ]
      },
      {
       "output_type": "stream",
       "stream": "stdout",
       "text": [
        "processing chunk line 18009217 to 19828442 (2394.01386905 s elapsed)\r\n"
       ]
      },
      {
       "output_type": "stream",
       "stream": "stdout",
       "text": [
        "pushing /Volumes/web/cnidarian/BiGo_lar_TID5_methratio_v9_A.txt...\r\n"
       ]
      },
      {
       "output_type": "stream",
       "stream": "stdout",
       "text": [
        "parsing EFAFC190...\r\n"
       ]
      },
      {
       "output_type": "stream",
       "stream": "stdout",
       "text": [
        "processing chunk line 19828442 to 21651312 (2637.01132607 s elapsed)\r\n"
       ]
      },
      {
       "output_type": "stream",
       "stream": "stdout",
       "text": [
        "pushing /Volumes/web/cnidarian/BiGo_lar_TID5_methratio_v9_A.txt...\r\n"
       ]
      },
      {
       "output_type": "stream",
       "stream": "stdout",
       "text": [
        "parsing F0E3FA81...\r\n"
       ]
      },
      {
       "output_type": "stream",
       "stream": "stdout",
       "text": [
        "processing chunk line 21651312 to 23474703 (2880.31882596 s elapsed)\r\n"
       ]
      },
      {
       "output_type": "stream",
       "stream": "stdout",
       "text": [
        "pushing /Volumes/web/cnidarian/BiGo_lar_TID5_methratio_v9_A.txt...\r\n"
       ]
      },
      {
       "output_type": "stream",
       "stream": "stdout",
       "text": [
        "parsing 45F713FD...\r\n"
       ]
      },
      {
       "output_type": "stream",
       "stream": "stdout",
       "text": [
        "processing chunk line 23474703 to 24242914 (3119.95345712 s elapsed)\r\n"
       ]
      },
      {
       "output_type": "stream",
       "stream": "stdout",
       "text": [
        "pushing /Volumes/web/cnidarian/BiGo_lar_TID5_methratio_v9_A.txt...\r\n"
       ]
      },
      {
       "output_type": "stream",
       "stream": "stdout",
       "text": [
        "parsing 89D514E4...\r\n"
       ]
      },
      {
       "output_type": "stream",
       "stream": "stdout",
       "text": [
        "finished BiGo_lar_T1D5\r\n"
       ]
      }
     ],
     "prompt_number": 9
    },
    {
     "cell_type": "code",
     "collapsed": false,
     "input": [
      "#Creating GFF of CG \n",
      "!python /Users/sr320/sqlshare-pythonclient/tools/fetchdata.py -s \"SELECT chr as seqname,'methratio' as source,'CpG' as feature, pos as start, pos + 1 as [end], ratio as score, strand, '.' as frame, '.' as attribute FROM [sr320@washington.edu].[BiGo_lar_T1D5] where context like '__CG_' and CT_Count > 5\" -f tsv -o /Volumes/web/cnidarian/BiGo_lar_T1D5_methratio_CG.txt"
     ],
     "language": "python",
     "metadata": {},
     "outputs": [],
     "prompt_number": 11
    },
    {
     "cell_type": "heading",
     "level": 3,
     "metadata": {},
     "source": [
      "misc"
     ]
    },
    {
     "cell_type": "code",
     "collapsed": false,
     "input": [
      "from IPython.display import HTML\n",
      "HTML('<iframe src=https://www.evernote.com/shard/s74/sh/051a489f-2851-4320-a613-ee1402417b30/ef6a40b2af6e77ae6c03fa0dda46b527 width=700 height=350></iframe>')"
     ],
     "language": "python",
     "metadata": {},
     "outputs": [
      {
       "html": [
        "<iframe src=https://www.evernote.com/shard/s74/sh/051a489f-2851-4320-a613-ee1402417b30/ef6a40b2af6e77ae6c03fa0dda46b527 width=700 height=350></iframe>"
       ],
       "metadata": {},
       "output_type": "pyout",
       "prompt_number": 3,
       "text": [
        "<IPython.core.display.HTML at 0x105956290>"
       ]
      }
     ],
     "prompt_number": 3
    },
    {
     "cell_type": "code",
     "collapsed": false,
     "input": [],
     "language": "python",
     "metadata": {},
     "outputs": []
    }
   ],
   "metadata": {}
  }
 ]
}