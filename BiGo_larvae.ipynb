{
 "metadata": {
  "name": "BiGo_larvae"
 },
 "nbformat": 3,
 "nbformat_minor": 0,
 "worksheets": [
  {
   "cells": [
    {
     "cell_type": "heading",
     "level": 1,
     "metadata": {},
     "source": [
      "Quality Check of BiGo Larvae Experiment"
     ]
    },
    {
     "cell_type": "code",
     "collapsed": false,
     "input": [
      "#directory on greenbird\n",
      "ls /Volumes/NGS\\ Drive/NGS\\ Raw\\ Data/Cg_larvae_BSseq "
     ],
     "language": "python",
     "metadata": {},
     "outputs": [
      {
       "output_type": "stream",
       "stream": "stdout",
       "text": [
        "FCD2CA8.tar\r\n",
        "filtered_BS_CgF_TTAGGC_L007_R1.fastq.gz\r\n",
        "filtered_BS_CgF_TTAGGC_L007_R2.fastq.gz\r\n",
        "filtered_BS_CgLarv_T1D3_TGACCA_L007_R1.fastq.gz\r\n",
        "filtered_BS_CgLarv_T1D3_TGACCA_L007_R2.fastq.gz\r\n",
        "filtered_BS_CgLarv_T1D5_ACAGTG_L007_R1.fastq.gz\r\n",
        "filtered_BS_CgLarv_T1D5_ACAGTG_L007_R2.fastq.gz\r\n",
        "filtered_BS_CgLarv_T3D5_CAGATC_L007_R1.fastq.gz\r\n",
        "filtered_BS_CgLarv_T3D5_CAGATC_L007_R2.fastq.gz\r\n",
        "filtered_BS_CgM1_ACTTGA_L007_R1.fastq.gz\r\n",
        "filtered_BS_CgM1_ACTTGA_L007_R2.fastq.gz\r\n",
        "filtered_BS_CgM3_GATCAG_L007_R1.fastq.gz\r\n",
        "filtered_BS_CgM3_GATCAG_L007_R2.fastq.gz\r\n",
        "filtered_Bs_CgLarve_T3D3_GCCAAT_L007_R1.fastq.gz\r\n",
        "filtered_Bs_CgLarve_T3D3_GCCAAT_L007_R2.fastq.gz\r\n"
       ]
      }
     ],
     "prompt_number": 23
    },
    {
     "cell_type": "code",
     "collapsed": false,
     "input": [
      "cd Shared/Apps/bsmap-2.73/"
     ],
     "language": "python",
     "metadata": {},
     "outputs": [
      {
       "output_type": "stream",
       "stream": "stdout",
       "text": [
        "/Users/Shared/Apps/bsmap-2.73\n"
       ]
      }
     ],
     "prompt_number": 32
    },
    {
     "cell_type": "code",
     "collapsed": false,
     "input": [
      "! /Users/Shared/Apps/bsmap-2.73/bsmap"
     ],
     "language": "python",
     "metadata": {},
     "outputs": [
      {
       "output_type": "stream",
       "stream": "stdout",
       "text": [
        "\r\n",
        "BSMAP v2.73\r\n",
        "Usage:\tbsmap [options]\r\n",
        "       -a  <str>   query a file, FASTA/FASTQ/BAM format\r\n",
        "       -d  <str>   reference sequences file, FASTA format\r\n",
        "       -o  <str>   output alignment file, BSP/SAM/BAM format, if omitted, the output will be written to STDOUT in SAM format.\r\n",
        "\r\n",
        "  Options for alignment:\r\n",
        "       -s  <int>   seed size, default=16(WGBS mode), 12(RRBS mode). min=8, max=16.\r\n",
        "       -v  <float> if this value is between 0 and 1, it's interpreted as the mismatch rate w.r.t to the read length.\r\n",
        "                   otherwise it's interpreted as the maximum number of mismatches allowed on a read, <=15.\r\n",
        "                   example: -v 5 (max #mismatches = 5), -v 0.1 (max #mismatches = read_length * 10%)\r\n",
        "                   default=0.08.\r\n",
        "       -g  <int>   gap size, BSMAP only allow 1 continuous gap (insert or deletion) with up to 3 nucleotides\r\n",
        "                   default=0\r\n",
        "       -w  <int>   maximum number of equal best hits to count, <=1000\r\n",
        "       -B  <int>   start from the Nth read or read pair, default: 1\r\n",
        "       -E  <int>   end at the Nth read or read pair, default: 4,294,967,295\r\n",
        "       -I  <int>   index interval, default=4\r\n",
        "       -k  <float> set the cut-off ratio for over-represented kmers, default=5e-07\r\n",
        "                   example: -k 1e-6 means the top 0.0001% over-represented kmer will be skipped in alignment\r\n",
        "       -p  <int>   number of processors to use, default=8\r\n",
        "       -D  <str>   activating RRBS mapping mode and set restriction enzyme digestion sites. \r\n",
        "                   digestion position marked by '-', example: -D C-CGG for MspI digestion.\r\n",
        "                   default: none (whole genome shotgun bisulfite mapping mode)\r\n",
        "       -S  <int>   seed for random number generation used in selecting multiple hits\r\n",
        "                   other seed values generate pseudo random number based on read index number, to allow reproducible mapping results. \r\n",
        "                   default=0. (get seed from system clock, mapping results not resproducible.)\r\n",
        "       -n  [0,1]   set mapping strand information. default: 0\r\n",
        "                   -n 0: only map to 2 forward strands, i.e. BSW(++) and BSC(-+), \r\n",
        "                   for PE sequencing, map read#1 to ++ and -+, read#2 to +- and --.\r\n",
        "                   -n 1: map SE or PE reads to all 4 strands, i.e. ++, +-, -+, -- \r\n",
        "       -M  <str>   set alignment information for the additional nucleotide transition. \r\n",
        "                   <str> is in the form of two different nucleotides N1N2, \r\n",
        "                   indicating N1 in the reads could be mapped to N2 in the reference sequences.\r\n",
        "                   default: -M TC, corresponds to C=>U(T) transition in bisulfite conversion. \r\n",
        "                   example: -M GA could be used to detect A=>I(G) transition in RNA editing. \r\n",
        "\r\n",
        "  Options for trimming:\r\n",
        "       -q  <int>   quality threshold in trimming, 0-40, default=0 (no trim)\r\n",
        "       -z  <int>   base quality, default=33 [Illumina is using 64, Sanger Institute is using 33]\r\n",
        "       -f  <int>   filter low-quality reads containing >n Ns, default=5\r\n",
        "       -A  <str>   3-end adapter sequence, default: none (no trim)\r\n",
        "       -L  <int>   map the first N nucleotides of the read, default:144 (map the whole read).\r\n",
        "\r\n",
        "  Options for reporting:\r\n",
        "       -r  [0,1]   how to report repeat hits, 0=none(unique hit/pair only); 1=random one, default:1.\r\n",
        "       -R          print corresponding reference sequences in SAM output, default=off\r\n",
        "       -u          report unmapped reads, default=off\r\n",
        "       -H          do not print header information in SAM format output\r\n",
        "\r\n",
        "  Options for pair-end alignment:\r\n",
        "       -b  <str>   query b file\r\n",
        "       -m  <int>   minimal insert size allowed, default=28\r\n",
        "       -x  <int>   maximal insert size allowed, default=500\r\n",
        "\r\n",
        "       -h          help\r\n",
        "\r\n"
       ]
      }
     ],
     "prompt_number": 34
    },
    {
     "cell_type": "code",
     "collapsed": false,
     "input": [
      "#F\n",
      "! /Users/Shared/Apps/bsmap-2.73/bsmap -a /Volumes/NGS\\ Drive/NGS\\ Raw\\ Data/Cg_larvae_BSseq/filtered_BS_CgF_TTAGGC_L007_R1.fastq.gz -b /Volumes/NGS\\ Drive/NGS\\ Raw\\ Data/Cg_larvae_BSseq/filtered_BS_CgF_TTAGGC_L007_R2.fastq.gz -d /Volumes/web/cnidarian/oyster.v9.fa -o /Volumes/web/cnidarian/BiGo_lar_F.sam -p 8"
     ],
     "language": "python",
     "metadata": {},
     "outputs": [
      {
       "output_type": "stream",
       "stream": "stdout",
       "text": [
        "\r\n",
        "BSMAP v2.73\r\n",
        "Start at:  Tue Oct  1 15:12:31 2013\r\n",
        "\r\n",
        "Input reference file: /Volumes/web/cnidarian/oyster.v9.fa"
       ]
      },
      {
       "output_type": "stream",
       "stream": "stdout",
       "text": [
        " \t(format: FASTA)\r\n"
       ]
      },
      {
       "output_type": "stream",
       "stream": "stdout",
       "text": [
        "Load in 11969 db seqs, total size 558601156 bp. 19 secs passed\r\n",
        "total_kmers: 43046721\r\n"
       ]
      },
      {
       "output_type": "stream",
       "stream": "stdout",
       "text": [
        "Create seed table. 34 secs passed\r\n",
        "max number of mismatches: read_length * 8% \tmax gap size: 0\r\n",
        "kmer cut-off ratio:5e-07\r\n",
        "max multi-hits: 100\tmax Ns: 5\tseed size: 16\tindex interval: 4\r\n",
        "quality cutoff: 0\tbase quality char: '!'\r\n",
        "min fragment size:28\tmax fragemt size:500\r\n",
        "start from read #1\tend at read #4294967295\r\n",
        "additional alignment: T in reads => C in reference\r\n",
        "mapping strand (read_1): ++,-+\r\n",
        "mapping strand (read_2): +-,--\r\n",
        "Pair-end alignment(8 threads)\r\n",
        "Input read file #1: /Volumes/NGS Drive/NGS Raw Data/Cg_larvae_BSseq/filtered_BS_CgF_TTAGGC_L007_R1.fastq.gz"
       ]
      },
      {
       "output_type": "stream",
       "stream": "stdout",
       "text": [
        " \t(format: gzipped FASTQ)\r\n",
        "Input read file #2: /Volumes/NGS Drive/NGS Raw Data/Cg_larvae_BSseq/filtered_BS_CgF_TTAGGC_L007_R2.fastq.gz"
       ]
      },
      {
       "output_type": "stream",
       "stream": "stdout",
       "text": [
        " \t(format: gzipped FASTQ)\r\n",
        "Output file: /Volumes/web/cnidarian/BiGo_lar_F.sam\t (format: SAM)\r\n"
       ]
      },
      {
       "output_type": "stream",
       "stream": "stdout",
       "text": [
        "Thread #4: \t323336 read pairs finished. 76 secs passed\r\n"
       ]
      },
      {
       "output_type": "stream",
       "stream": "stdout",
       "text": [
        "Thread #2: \t50000 read pairs finished. 101 secs passed\r\n"
       ]
      },
      {
       "output_type": "stream",
       "stream": "stdout",
       "text": [
        "Thread #0: \t150000 read pairs finished. 104 secs passed\r\n"
       ]
      },
      {
       "output_type": "stream",
       "stream": "stdout",
       "text": [
        "Thread #6: \t100000 read pairs finished. 104 secs passed\r\n"
       ]
      },
      {
       "output_type": "stream",
       "stream": "stdout",
       "text": [
        "Thread #1: \t200000 read pairs finished. 105 secs passed\r\n"
       ]
      },
      {
       "output_type": "stream",
       "stream": "stdout",
       "text": [
        "Thread #3: \t300000 read pairs finished. 106 secs passed\r\n"
       ]
      },
      {
       "output_type": "stream",
       "stream": "stdout",
       "text": [
        "Thread #5: \t250000 read pairs finished. 106 secs passed\r\n"
       ]
      },
      {
       "output_type": "stream",
       "stream": "stdout",
       "text": [
        "Total number of aligned reads: \r\n",
        "pairs:       180566 (56%)\r\n",
        "single a:    48357 (15%)\r\n",
        "single b:    37390 (12%)\r\n",
        "Done.\r\n",
        "Finished at Tue Oct  1 15:14:18 2013\r\n",
        "Total time consumed:  107 secs\r\n"
       ]
      }
     ],
     "prompt_number": 41
    },
    {
     "cell_type": "code",
     "collapsed": false,
     "input": [],
     "language": "python",
     "metadata": {},
     "outputs": []
    },
    {
     "cell_type": "code",
     "collapsed": false,
     "input": [
      "#TID3\n",
      "! /Users/Shared/Apps/bsmap-2.73/bsmap -a /Volumes/NGS\\ Drive/NGS\\ Raw\\ Data/Cg_larvae_BSseq/filtered_BS_CgLarv_T1D3_TGACCA_L007_R1.fastq.gz -b /Volumes/NGS\\ Drive/NGS\\ Raw\\ Data/Cg_larvae_BSseq/filtered_BS_CgLarv_T1D3_TGACCA_L007_R2.fastq.gz -d /Volumes/web/cnidarian/oyster.v9.fa -o /Volumes/web/cnidarian/BiGo_lar_T1D3.sam -p 8"
     ],
     "language": "python",
     "metadata": {},
     "outputs": [
      {
       "output_type": "stream",
       "stream": "stdout",
       "text": [
        "\r\n",
        "BSMAP v2.73\r\n",
        "Start at:  Tue Oct  1 13:33:06 2013\r\n",
        "\r\n",
        "Input reference file: /Volumes/web/cnidarian/oyster.v9.fa \t(format: FASTA)\r\n"
       ]
      },
      {
       "output_type": "stream",
       "stream": "stdout",
       "text": [
        "Load in 11969 db seqs, total size 558601156 bp. 8 secs passed\r\n",
        "total_kmers: 43046721\r\n"
       ]
      },
      {
       "output_type": "stream",
       "stream": "stdout",
       "text": [
        "Create seed table. 23 secs passed\r\n",
        "max number of mismatches: read_length * 8% \tmax gap size: 0\r\n",
        "kmer cut-off ratio:5e-07\r\n",
        "max multi-hits: 100\tmax Ns: 5\tseed size: 16\tindex interval: 4\r\n",
        "quality cutoff: 0\tbase quality char: '!'\r\n",
        "min fragment size:28\tmax fragemt size:500\r\n",
        "start from read #1\tend at read #4294967295\r\n",
        "additional alignment: T in reads => C in reference\r\n",
        "mapping strand (read_1): ++,-+\r\n",
        "mapping strand (read_2): +-,--\r\n",
        "Pair-end alignment(8 threads)\r\n",
        "Input read file #1: /Volumes/NGS Drive/NGS Raw Data/Cg_larvae_BSseq/filtered_BS_CgLarv_T1D3_TGACCA_L007_R1.fastq.gz"
       ]
      },
      {
       "output_type": "stream",
       "stream": "stdout",
       "text": [
        " \t(format: gzipped FASTQ)\r\n",
        "Input read file #2: /Volumes/NGS Drive/NGS Raw Data/Cg_larvae_BSseq/filtered_BS_CgLarv_T1D3_TGACCA_L007_R2.fastq.gz"
       ]
      },
      {
       "output_type": "stream",
       "stream": "stdout",
       "text": [
        " \t(format: gzipped FASTQ)\r\n",
        "Output file: /Volumes/web/cnidarian/BiGo_lar_T1D3.sam\t (format: SAM)\r\n"
       ]
      },
      {
       "output_type": "stream",
       "stream": "stdout",
       "text": [
        "Thread #7: \t100000 read pairs finished. 120 secs passed\r\n"
       ]
      },
      {
       "output_type": "stream",
       "stream": "stdout",
       "text": [
        "Thread #3: \t150000 read pairs finished. 121 secs passed\r\n"
       ]
      },
      {
       "output_type": "stream",
       "stream": "stdout",
       "text": [
        "Thread #0: \t50000 read pairs finished. 122 secs passed\r\n"
       ]
      },
      {
       "output_type": "stream",
       "stream": "stdout",
       "text": [
        "Thread #5: \t200000 read pairs finished. 123 secs passed\r\n"
       ]
      },
      {
       "output_type": "stream",
       "stream": "stdout",
       "text": [
        "Thread #6: \t250000 read pairs finished. 124 secs passed\r\n"
       ]
      },
      {
       "output_type": "stream",
       "stream": "stdout",
       "text": [
        "Thread #1: \t300000 read pairs finished. 125 secs passed\r\n"
       ]
      },
      {
       "output_type": "stream",
       "stream": "stdout",
       "text": [
        "Thread #2: \t350000 read pairs finished. 126 secs passed\r\n"
       ]
      },
      {
       "output_type": "stream",
       "stream": "stdout",
       "text": [
        "Thread #4: \t400000 read pairs finished. 127 secs passed\r\n"
       ]
      },
      {
       "output_type": "stream",
       "stream": "stdout",
       "text": [
        "Thread #7: \t450000 read pairs finished. 212 secs passed\r\n"
       ]
      },
      {
       "output_type": "stream",
       "stream": "stdout",
       "text": [
        "Thread #3: \t500000 read pairs finished. 213 secs passed\r\n"
       ]
      },
      {
       "output_type": "stream",
       "stream": "stdout",
       "text": [
        "Thread #0: \t550000 read pairs finished. 214 secs passed\r\n"
       ]
      },
      {
       "output_type": "stream",
       "stream": "stdout",
       "text": [
        "Thread #2: \t750000 read pairs finished. 220 secs passed\r\n"
       ]
      },
      {
       "output_type": "stream",
       "stream": "stdout",
       "text": [
        "Thread #1: \t700000 read pairs finished. 220 secs passed\r\n"
       ]
      },
      {
       "output_type": "stream",
       "stream": "stdout",
       "text": [
        "Thread #4: \t800000 read pairs finished. 221 secs passed\r\n"
       ]
      },
      {
       "output_type": "stream",
       "stream": "stdout",
       "text": [
        "Thread #6: \t650000 read pairs finished. 224 secs passed\r\n"
       ]
      },
      {
       "output_type": "stream",
       "stream": "stdout",
       "text": [
        "Thread #5: \t600000 read pairs finished. 231 secs passed\r\n"
       ]
      },
      {
       "output_type": "stream",
       "stream": "stdout",
       "text": [
        "Thread #7: \t850000 read pairs finished. 313 secs passed\r\n"
       ]
      },
      {
       "output_type": "stream",
       "stream": "stdout",
       "text": [
        "Thread #3: \t900000 read pairs finished. 315 secs passed\r\n"
       ]
      },
      {
       "output_type": "stream",
       "stream": "stdout",
       "text": [
        "Thread #0: \t950000 read pairs finished. 316 secs passed\r\n"
       ]
      },
      {
       "output_type": "stream",
       "stream": "stdout",
       "text": [
        "Thread #2: \t1000000 read pairs finished. 321 secs passed\r\n"
       ]
      },
      {
       "output_type": "stream",
       "stream": "stdout",
       "text": [
        "Thread #1: \t1050000 read pairs finished. 323 secs passed\r\n"
       ]
      },
      {
       "output_type": "stream",
       "stream": "stdout",
       "text": [
        "Thread #4: \t1100000 read pairs finished. 325 secs passed\r\n"
       ]
      },
      {
       "output_type": "stream",
       "stream": "stdout",
       "text": [
        "Thread #6: \t1150000 read pairs finished. 327 secs passed\r\n"
       ]
      },
      {
       "output_type": "stream",
       "stream": "stdout",
       "text": [
        "Thread #5: \t1200000 read pairs finished. 334 secs passed\r\n"
       ]
      },
      {
       "output_type": "stream",
       "stream": "stdout",
       "text": [
        "Thread #7: \t1250000 read pairs finished. 415 secs passed\r\n"
       ]
      },
      {
       "output_type": "stream",
       "stream": "stdout",
       "text": [
        "Thread #3: \t1300000 read pairs finished. 418 secs passed\r\n"
       ]
      },
      {
       "output_type": "stream",
       "stream": "stdout",
       "text": [
        "Thread #0: \t1350000 read pairs finished. 418 secs passed\r\n"
       ]
      },
      {
       "output_type": "stream",
       "stream": "stdout",
       "text": [
        "Thread #2: \t1400000 read pairs finished. 424 secs passed\r\n"
       ]
      },
      {
       "output_type": "stream",
       "stream": "stdout",
       "text": [
        "Thread #1: \t1450000 read pairs finished. 426 secs passed\r\n"
       ]
      },
      {
       "output_type": "stream",
       "stream": "stdout",
       "text": [
        "Thread #4: \t1500000 read pairs finished. 428 secs passed\r\n"
       ]
      },
      {
       "output_type": "stream",
       "stream": "stdout",
       "text": [
        "Thread #6: \t1550000 read pairs finished. 430 secs passed\r\n"
       ]
      },
      {
       "output_type": "stream",
       "stream": "stdout",
       "text": [
        "Thread #5: \t1600000 read pairs finished. 438 secs passed\r\n"
       ]
      },
      {
       "output_type": "stream",
       "stream": "stdout",
       "text": [
        "Thread #7: \t1650000 read pairs finished. 520 secs passed\r\n"
       ]
      },
      {
       "output_type": "stream",
       "stream": "stdout",
       "text": [
        "Thread #0: \t1750000 read pairs finished. 524 secs passed\r\n"
       ]
      },
      {
       "output_type": "stream",
       "stream": "stdout",
       "text": [
        "Thread #3: \t1700000 read pairs finished. 525 secs passed\r\n"
       ]
      },
      {
       "output_type": "stream",
       "stream": "stdout",
       "text": [
        "Thread #2: \t1800000 read pairs finished. 528 secs passed\r\n"
       ]
      },
      {
       "output_type": "stream",
       "stream": "stdout",
       "text": [
        "Thread #1: \t1850000 read pairs finished. 529 secs passed\r\n"
       ]
      },
      {
       "output_type": "stream",
       "stream": "stdout",
       "text": [
        "Thread #4: \t1900000 read pairs finished. 532 secs passed\r\n"
       ]
      },
      {
       "output_type": "stream",
       "stream": "stdout",
       "text": [
        "Thread #6: \t1950000 read pairs finished. 534 secs passed\r\n"
       ]
      },
      {
       "output_type": "stream",
       "stream": "stdout",
       "text": [
        "Thread #5: \t2000000 read pairs finished. 542 secs passed\r\n"
       ]
      },
      {
       "output_type": "stream",
       "stream": "stdout",
       "text": [
        "Thread #7: \t2050000 read pairs finished. 621 secs passed\r\n"
       ]
      },
      {
       "output_type": "stream",
       "stream": "stdout",
       "text": [
        "Thread #0: \t2100000 read pairs finished. 624 secs passed\r\n"
       ]
      },
      {
       "output_type": "stream",
       "stream": "stdout",
       "text": [
        "Thread #3: \t2150000 read pairs finished. 625 secs passed\r\n"
       ]
      },
      {
       "output_type": "stream",
       "stream": "stdout",
       "text": [
        "Thread #2: \t2200000 read pairs finished. 628 secs passed\r\n"
       ]
      },
      {
       "output_type": "stream",
       "stream": "stdout",
       "text": [
        "Thread #6: \t2350000 read pairs finished. 638 secs passed\r\n"
       ]
      },
      {
       "output_type": "stream",
       "stream": "stdout",
       "text": [
        "Thread #1: \t2250000 read pairs finished. 639 secs passed\r\n"
       ]
      },
      {
       "output_type": "stream",
       "stream": "stdout",
       "text": [
        "Thread #4: \t2300000 read pairs finished. 642 secs passed\r\n"
       ]
      },
      {
       "output_type": "stream",
       "stream": "stdout",
       "text": [
        "Thread #5: \t2400000 read pairs finished. 644 secs passed\r\n"
       ]
      },
      {
       "output_type": "stream",
       "stream": "stdout",
       "text": [
        "Thread #7: \t2450000 read pairs finished. 722 secs passed\r\n"
       ]
      },
      {
       "output_type": "stream",
       "stream": "stdout",
       "text": [
        "Thread #0: \t2500000 read pairs finished. 726 secs passed\r\n"
       ]
      },
      {
       "output_type": "stream",
       "stream": "stdout",
       "text": [
        "Thread #3: \t2550000 read pairs finished. 728 secs passed\r\n"
       ]
      },
      {
       "output_type": "stream",
       "stream": "stdout",
       "text": [
        "Thread #2: \t2600000 read pairs finished. 730 secs passed\r\n"
       ]
      },
      {
       "output_type": "stream",
       "stream": "stdout",
       "text": [
        "Thread #6: \t2650000 read pairs finished. 739 secs passed\r\n"
       ]
      },
      {
       "output_type": "stream",
       "stream": "stdout",
       "text": [
        "Thread #1: \t2700000 read pairs finished. 741 secs passed\r\n"
       ]
      },
      {
       "output_type": "stream",
       "stream": "stdout",
       "text": [
        "Thread #4: \t2750000 read pairs finished. 744 secs passed\r\n"
       ]
      },
      {
       "output_type": "stream",
       "stream": "stdout",
       "text": [
        "Thread #5: \t2800000 read pairs finished. 748 secs passed\r\n"
       ]
      },
      {
       "output_type": "stream",
       "stream": "stdout",
       "text": [
        "Thread #7: \t2850000 read pairs finished. 824 secs passed\r\n"
       ]
      },
      {
       "output_type": "stream",
       "stream": "stdout",
       "text": [
        "Thread #0: \t2900000 read pairs finished. 827 secs passed\r\n"
       ]
      },
      {
       "output_type": "stream",
       "stream": "stdout",
       "text": [
        "Thread #3: \t2950000 read pairs finished. 828 secs passed\r\n"
       ]
      },
      {
       "output_type": "stream",
       "stream": "stdout",
       "text": [
        "Thread #2: \t3000000 read pairs finished. 831 secs passed\r\n"
       ]
      },
      {
       "output_type": "stream",
       "stream": "stdout",
       "text": [
        "Thread #6: \t3050000 read pairs finished. 840 secs passed\r\n"
       ]
      },
      {
       "output_type": "stream",
       "stream": "stdout",
       "text": [
        "Thread #1: \t3100000 read pairs finished. 841 secs passed\r\n"
       ]
      },
      {
       "output_type": "stream",
       "stream": "stdout",
       "text": [
        "Thread #4: \t3150000 read pairs finished. 843 secs passed\r\n"
       ]
      },
      {
       "output_type": "stream",
       "stream": "stdout",
       "text": [
        "Thread #5: \t3200000 read pairs finished. 845 secs passed\r\n"
       ]
      },
      {
       "output_type": "stream",
       "stream": "stdout",
       "text": [
        "Thread #3: \t3343987 read pairs finished. 860 secs passed\r\n"
       ]
      },
      {
       "output_type": "stream",
       "stream": "stdout",
       "text": [
        "Thread #7: \t3250000 read pairs finished. 861 secs passed\r\n"
       ]
      },
      {
       "output_type": "stream",
       "stream": "stdout",
       "text": [
        "Thread #0: \t3300000 read pairs finished. 862 secs passed\r\n"
       ]
      },
      {
       "output_type": "stream",
       "stream": "stdout",
       "text": [
        "Total number of aligned reads: \r\n",
        "pairs:       1639918 (49%)\r\n",
        "single a:    709577 (21%)\r\n",
        "single b:    541078 (16%)\r\n",
        "Done.\r\n",
        "Finished at Tue Oct  1 13:47:34 2013\r\n",
        "Total time consumed:  868 secs\r\n"
       ]
      }
     ],
     "prompt_number": 39
    },
    {
     "cell_type": "code",
     "collapsed": false,
     "input": [
      "#T1D5\n",
      "! /Users/Shared/Apps/bsmap-2.73/bsmap -a /Volumes/NGS\\ Drive/NGS\\ Raw\\ Data/Cg_larvae_BSseq/filtered_BS_CgLarv_T1D5_ACAGTG_L007_R1.fastq.gz -b /Volumes/NGS\\ Drive/NGS\\ Raw\\ Data/Cg_larvae_BSseq/filtered_BS_CgLarv_T1D5_ACAGTG_L007_R2.fastq.gz -d /Volumes/web/cnidarian/oyster.v9.fa -o /Volumes/web/cnidarian/BiGo_lar_T1D5.sam -p 8"
     ],
     "language": "python",
     "metadata": {},
     "outputs": [
      {
       "output_type": "stream",
       "stream": "stdout",
       "text": [
        "\r\n",
        "BSMAP v2.73\r\n",
        "Start at:  Tue Oct  1 13:47:35 2013\r\n",
        "\r\n",
        "Input reference file: /Volumes/web/cnidarian/oyster.v9.fa \t(format: FASTA)\r\n"
       ]
      },
      {
       "output_type": "stream",
       "stream": "stdout",
       "text": [
        "Load in 11969 db seqs, total size 558601156 bp. 8 secs passed\r\n",
        "total_kmers: 43046721\r\n"
       ]
      },
      {
       "output_type": "stream",
       "stream": "stdout",
       "text": [
        "Create seed table. 24 secs passed\r\n",
        "max number of mismatches: read_length * 8% \tmax gap size: 0\r\n",
        "kmer cut-off ratio:5e-07\r\n",
        "max multi-hits: 100\tmax Ns: 5\tseed size: 16\tindex interval: 4\r\n",
        "quality cutoff: 0\tbase quality char: '!'\r\n",
        "min fragment size:28\tmax fragemt size:500\r\n",
        "start from read #1\tend at read #4294967295\r\n",
        "additional alignment: T in reads => C in reference\r\n",
        "mapping strand (read_1): ++,-+\r\n",
        "mapping strand (read_2): +-,--\r\n",
        "Pair-end alignment(8 threads)\r\n",
        "Input read file #1: /Volumes/NGS Drive/NGS Raw Data/Cg_larvae_BSseq/filtered_BS_CgLarv_T1D5_ACAGTG_L007_R1.fastq.gz"
       ]
      },
      {
       "output_type": "stream",
       "stream": "stdout",
       "text": [
        " \t(format: gzipped FASTQ)\r\n",
        "Input read file #2: /Volumes/NGS Drive/NGS Raw Data/Cg_larvae_BSseq/filtered_BS_CgLarv_T1D5_ACAGTG_L007_R2.fastq.gz"
       ]
      },
      {
       "output_type": "stream",
       "stream": "stdout",
       "text": [
        " \t(format: gzipped FASTQ)\r\n",
        "Output file: /Volumes/web/cnidarian/BiGo_lar_T1D5.sam\t (format: SAM)\r\n"
       ]
      },
      {
       "output_type": "stream",
       "stream": "stdout",
       "text": [
        "Thread #7: \t100000 read pairs finished. 128 secs passed\r\n"
       ]
      },
      {
       "output_type": "stream",
       "stream": "stdout",
       "text": [
        "Thread #3: \t150000 read pairs finished. 129 secs passed\r\n"
       ]
      },
      {
       "output_type": "stream",
       "stream": "stdout",
       "text": [
        "Thread #5: \t50000 read pairs finished. 130 secs passed\r\n"
       ]
      },
      {
       "output_type": "stream",
       "stream": "stdout",
       "text": [
        "Thread #4: \t200000 read pairs finished. 131 secs passed\r\n"
       ]
      },
      {
       "output_type": "stream",
       "stream": "stdout",
       "text": [
        "Thread #6: \t250000 read pairs finished. 132 secs passed\r\n"
       ]
      },
      {
       "output_type": "stream",
       "stream": "stdout",
       "text": [
        "Thread #2: \t300000 read pairs finished. 133 secs passed\r\n"
       ]
      },
      {
       "output_type": "stream",
       "stream": "stdout",
       "text": [
        "Thread #1: \t350000 read pairs finished. 134 secs passed\r\n"
       ]
      },
      {
       "output_type": "stream",
       "stream": "stdout",
       "text": [
        "Thread #0: \t400000 read pairs finished. 134 secs passed\r\n"
       ]
      },
      {
       "output_type": "stream",
       "stream": "stdout",
       "text": [
        "Thread #7: \t450000 read pairs finished. 228 secs passed\r\n"
       ]
      },
      {
       "output_type": "stream",
       "stream": "stdout",
       "text": [
        "Thread #4: \t600000 read pairs finished. 232 secs passed\r\n"
       ]
      },
      {
       "output_type": "stream",
       "stream": "stdout",
       "text": [
        "Thread #6: \t650000 read pairs finished. 233 secs passed\r\n"
       ]
      },
      {
       "output_type": "stream",
       "stream": "stdout",
       "text": [
        "Thread #5: \t550000 read pairs finished. 234 secs passed\r\n"
       ]
      },
      {
       "output_type": "stream",
       "stream": "stdout",
       "text": [
        "Thread #2: \t700000 read pairs finished. 235 secs passed\r\n"
       ]
      },
      {
       "output_type": "stream",
       "stream": "stdout",
       "text": [
        "Thread #1: \t750000 read pairs finished. 236 secs passed\r\n"
       ]
      },
      {
       "output_type": "stream",
       "stream": "stdout",
       "text": [
        "Thread #0: \t800000 read pairs finished. 236 secs passed\r\n"
       ]
      },
      {
       "output_type": "stream",
       "stream": "stdout",
       "text": [
        "Thread #3: \t500000 read pairs finished. 243 secs passed\r\n"
       ]
      },
      {
       "output_type": "stream",
       "stream": "stdout",
       "text": [
        "Thread #7: \t850000 read pairs finished. 329 secs passed\r\n"
       ]
      },
      {
       "output_type": "stream",
       "stream": "stdout",
       "text": [
        "Thread #4: \t900000 read pairs finished. 335 secs passed\r\n"
       ]
      },
      {
       "output_type": "stream",
       "stream": "stdout",
       "text": [
        "Thread #6: \t950000 read pairs finished. 336 secs passed\r\n"
       ]
      },
      {
       "output_type": "stream",
       "stream": "stdout",
       "text": [
        "Thread #5: \t1000000 read pairs finished. 336 secs passed\r\n"
       ]
      },
      {
       "output_type": "stream",
       "stream": "stdout",
       "text": [
        "Thread #2: \t1050000 read pairs finished. 337 secs passed\r\n"
       ]
      },
      {
       "output_type": "stream",
       "stream": "stdout",
       "text": [
        "Thread #1: \t1100000 read pairs finished. 337 secs passed\r\n"
       ]
      },
      {
       "output_type": "stream",
       "stream": "stdout",
       "text": [
        "Thread #0: \t1150000 read pairs finished. 339 secs passed\r\n"
       ]
      },
      {
       "output_type": "stream",
       "stream": "stdout",
       "text": [
        "Thread #3: \t1200000 read pairs finished. 345 secs passed\r\n"
       ]
      },
      {
       "output_type": "stream",
       "stream": "stdout",
       "text": [
        "Thread #7: \t1250000 read pairs finished. 431 secs passed\r\n"
       ]
      },
      {
       "output_type": "stream",
       "stream": "stdout",
       "text": [
        "Thread #4: \t1300000 read pairs finished. 438 secs passed\r\n"
       ]
      },
      {
       "output_type": "stream",
       "stream": "stdout",
       "text": [
        "Thread #2: \t1450000 read pairs finished. 442 secs passed\r\n"
       ]
      },
      {
       "output_type": "stream",
       "stream": "stdout",
       "text": [
        "Thread #6: \t1350000 read pairs finished. 442 secs passed\r\n"
       ]
      },
      {
       "output_type": "stream",
       "stream": "stdout",
       "text": [
        "Thread #1: \t1500000 read pairs finished. 443 secs passed\r\n"
       ]
      },
      {
       "output_type": "stream",
       "stream": "stdout",
       "text": [
        "Thread #5: \t1400000 read pairs finished. 443 secs passed\r\n"
       ]
      },
      {
       "output_type": "stream",
       "stream": "stdout",
       "text": [
        "Thread #0: \t1550000 read pairs finished. 444 secs passed\r\n"
       ]
      },
      {
       "output_type": "stream",
       "stream": "stdout",
       "text": [
        "Thread #3: \t1600000 read pairs finished. 448 secs passed\r\n"
       ]
      },
      {
       "output_type": "stream",
       "stream": "stdout",
       "text": [
        "Thread #7: \t1650000 read pairs finished. 533 secs passed\r\n"
       ]
      },
      {
       "output_type": "stream",
       "stream": "stdout",
       "text": [
        "Thread #4: \t1700000 read pairs finished. 541 secs passed\r\n"
       ]
      },
      {
       "output_type": "stream",
       "stream": "stdout",
       "text": [
        "Thread #2: \t1750000 read pairs finished. 544 secs passed\r\n"
       ]
      },
      {
       "output_type": "stream",
       "stream": "stdout",
       "text": [
        "Thread #6: \t1800000 read pairs finished. 546 secs passed\r\n"
       ]
      },
      {
       "output_type": "stream",
       "stream": "stdout",
       "text": [
        "Thread #0: \t1950000 read pairs finished. 549 secs passed\r\n"
       ]
      },
      {
       "output_type": "stream",
       "stream": "stdout",
       "text": [
        "Thread #5: \t1900000 read pairs finished. 551 secs passed\r\n"
       ]
      },
      {
       "output_type": "stream",
       "stream": "stdout",
       "text": [
        "Thread #3: \t2000000 read pairs finished. 553 secs passed\r\n"
       ]
      },
      {
       "output_type": "stream",
       "stream": "stdout",
       "text": [
        "Thread #1: \t1850000 read pairs finished. 558 secs passed\r\n"
       ]
      },
      {
       "output_type": "stream",
       "stream": "stdout",
       "text": [
        "Thread #7: \t2050000 read pairs finished. 635 secs passed\r\n"
       ]
      },
      {
       "output_type": "stream",
       "stream": "stdout",
       "text": [
        "Thread #4: \t2100000 read pairs finished. 643 secs passed\r\n"
       ]
      },
      {
       "output_type": "stream",
       "stream": "stdout",
       "text": [
        "Thread #2: \t2150000 read pairs finished. 647 secs passed\r\n"
       ]
      },
      {
       "output_type": "stream",
       "stream": "stdout",
       "text": [
        "Thread #6: \t2200000 read pairs finished. 648 secs passed\r\n"
       ]
      },
      {
       "output_type": "stream",
       "stream": "stdout",
       "text": [
        "Thread #0: \t2250000 read pairs finished. 652 secs passed\r\n"
       ]
      },
      {
       "output_type": "stream",
       "stream": "stdout",
       "text": [
        "Thread #5: \t2300000 read pairs finished. 654 secs passed\r\n"
       ]
      },
      {
       "output_type": "stream",
       "stream": "stdout",
       "text": [
        "Thread #3: \t2350000 read pairs finished. 655 secs passed\r\n"
       ]
      },
      {
       "output_type": "stream",
       "stream": "stdout",
       "text": [
        "Thread #1: \t2400000 read pairs finished. 661 secs passed\r\n"
       ]
      },
      {
       "output_type": "stream",
       "stream": "stdout",
       "text": [
        "Thread #3: \t2709822 read pairs finished. 674 secs passed\r\n"
       ]
      },
      {
       "output_type": "stream",
       "stream": "stdout",
       "text": [
        "Thread #7: \t2450000 read pairs finished. 717 secs passed\r\n"
       ]
      },
      {
       "output_type": "stream",
       "stream": "stdout",
       "text": [
        "Thread #4: \t2500000 read pairs finished. 721 secs passed\r\n"
       ]
      },
      {
       "output_type": "stream",
       "stream": "stdout",
       "text": [
        "Thread #2: \t2550000 read pairs finished. 723 secs passed\r\n"
       ]
      },
      {
       "output_type": "stream",
       "stream": "stdout",
       "text": [
        "Thread #6: \t2600000 read pairs finished. 724 secs passed\r\n"
       ]
      },
      {
       "output_type": "stream",
       "stream": "stdout",
       "text": [
        "Thread #0: \t2650000 read pairs finished. 724 secs passed\r\n"
       ]
      },
      {
       "output_type": "stream",
       "stream": "stdout",
       "text": [
        "Thread #5: \t2700000 read pairs finished. 725 secs passed\r\n"
       ]
      },
      {
       "output_type": "stream",
       "stream": "stdout",
       "text": [
        "Total number of aligned reads: \r\n",
        "pairs:       1142766 (42%)\r\n",
        "single a:    764422 (28%)\r\n",
        "single b:    567963 (21%)\r\n",
        "Done.\r\n",
        "Finished at Tue Oct  1 13:59:46 2013\r\n",
        "Total time consumed:  731 secs\r\n"
       ]
      }
     ],
     "prompt_number": 40
    },
    {
     "cell_type": "code",
     "collapsed": false,
     "input": [
      "#T3D3\n",
      "! /Users/Shared/Apps/bsmap-2.73/bsmap -a /Volumes/NGS\\ Drive/NGS\\ Raw\\ Data/Cg_larvae_BSseq/filtered_Bs_CgLarve_T3D3_GCCAAT_L007_R1.fastq.gz -b /Volumes/NGS\\ Drive/NGS\\ Raw\\ Data/Cg_larvae_BSseq/filtered_Bs_CgLarve_T3D3_GCCAAT_L007_R1.fastq.gz -d /Volumes/web/cnidarian/oyster.v9.fa -o /Volumes/web/cnidarian/BiGo_lar_T3D3.sam -p 8"
     ],
     "language": "python",
     "metadata": {},
     "outputs": [],
     "prompt_number": "*"
    },
    {
     "cell_type": "code",
     "collapsed": false,
     "input": [
      "#T3D5\n",
      "! /Users/Shared/Apps/bsmap-2.73/bsmap -a /Volumes/NGS\\ Drive/NGS\\ Raw\\ Data/Cg_larvae_BSseq/filtered_BS_CgLarv_T3D5_CAGATC_L007_R1.fastq.gz -b /Volumes/NGS\\ Drive/NGS\\ Raw\\ Data/Cg_larvae_BSseq/filtered_BS_CgLarv_T3D5_CAGATC_L007_R1.fastq.gz -d /Volumes/web/cnidarian/oyster.v9.fa -o /Volumes/web/cnidarian/BiGo_lar_T3D5.sam -p 8"
     ],
     "language": "python",
     "metadata": {},
     "outputs": [
      {
       "output_type": "stream",
       "stream": "stdout",
       "text": [
        "\r\n",
        "BSMAP v2.73\r\n",
        "Start at:  Tue Oct  1 15:14:32 2013\r\n",
        "\r\n",
        "Input reference file: /Volumes/web/cnidarian/oyster.v9.fa \t(format: FASTA)\r\n"
       ]
      },
      {
       "output_type": "stream",
       "stream": "stdout",
       "text": [
        "Load in 11969 db seqs, total size 558601156 bp. 7 secs passed\r\n",
        "total_kmers: 43046721\r\n"
       ]
      },
      {
       "output_type": "stream",
       "stream": "stdout",
       "text": [
        "Create seed table. 22 secs passed\r\n",
        "max number of mismatches: read_length * 8% \tmax gap size: 0\r\n",
        "kmer cut-off ratio:5e-07\r\n",
        "max multi-hits: 100\tmax Ns: 5\tseed size: 16\tindex interval: 4\r\n",
        "quality cutoff: 0\tbase quality char: '!'\r\n",
        "min fragment size:28\tmax fragemt size:500\r\n",
        "start from read #1\tend at read #4294967295\r\n",
        "additional alignment: T in reads => C in reference\r\n",
        "mapping strand (read_1): ++,-+\r\n",
        "mapping strand (read_2): +-,--\r\n",
        "Pair-end alignment(8 threads)\r\n",
        "Input read file #1: /Volumes/NGS Drive/NGS Raw Data/Cg_larvae_BSseq/filtered_BS_CgLarv_T3D5_CAGATC_L007_R1.fastq.gz"
       ]
      },
      {
       "output_type": "stream",
       "stream": "stdout",
       "text": [
        " \t(format: gzipped FASTQ)\r\n",
        "Input read file #2: /Volumes/NGS Drive/NGS Raw Data/Cg_larvae_BSseq/filtered_BS_CgLarv_T3D5_CAGATC_L007_R1.fastq.gz \t(format: gzipped FASTQ)\r\n",
        "Output file: /Volumes/web/cnidarian/BiGo_lar_T3D5.sam\t (format: SAM)\r\n"
       ]
      },
      {
       "output_type": "stream",
       "stream": "stdout",
       "text": [
        "Thread #1: \t50000 read pairs finished. 128 secs passed\r\n"
       ]
      },
      {
       "output_type": "stream",
       "stream": "stdout",
       "text": [
        "Thread #3: \t100000 read pairs finished. 130 secs passed\r\n"
       ]
      },
      {
       "output_type": "stream",
       "stream": "stdout",
       "text": [
        "Thread #6: \t150000 read pairs finished. 132 secs passed\r\n"
       ]
      },
      {
       "output_type": "stream",
       "stream": "stdout",
       "text": [
        "Thread #5: \t200000 read pairs finished. 133 secs passed\r\n"
       ]
      },
      {
       "output_type": "stream",
       "stream": "stdout",
       "text": [
        "Thread #4: \t250000 read pairs finished. 134 secs passed\r\n"
       ]
      },
      {
       "output_type": "stream",
       "stream": "stdout",
       "text": [
        "Thread #0: \t300000 read pairs finished. 135 secs passed\r\n"
       ]
      },
      {
       "output_type": "stream",
       "stream": "stdout",
       "text": [
        "Thread #7: \t350000 read pairs finished. 135 secs passed\r\n"
       ]
      },
      {
       "output_type": "stream",
       "stream": "stdout",
       "text": [
        "Thread #2: \t400000 read pairs finished. 136 secs passed\r\n"
       ]
      },
      {
       "output_type": "stream",
       "stream": "stdout",
       "text": [
        "Thread #1: \t450000 read pairs finished. 237 secs passed\r\n"
       ]
      },
      {
       "output_type": "stream",
       "stream": "stdout",
       "text": [
        "Thread #3: \t500000 read pairs finished. 239 secs passed\r\n"
       ]
      },
      {
       "output_type": "stream",
       "stream": "stdout",
       "text": [
        "Thread #6: \t550000 read pairs finished. 242 secs passed\r\n"
       ]
      },
      {
       "output_type": "stream",
       "stream": "stdout",
       "text": [
        "Thread #5: \t600000 read pairs finished. 243 secs passed\r\n"
       ]
      },
      {
       "output_type": "stream",
       "stream": "stdout",
       "text": [
        "Thread #4: \t650000 read pairs finished. 244 secs passed\r\n"
       ]
      },
      {
       "output_type": "stream",
       "stream": "stdout",
       "text": [
        "Thread #0: \t700000 read pairs finished. 245 secs passed\r\n"
       ]
      },
      {
       "output_type": "stream",
       "stream": "stdout",
       "text": [
        "Thread #7: \t750000 read pairs finished. 245 secs passed\r\n"
       ]
      },
      {
       "output_type": "stream",
       "stream": "stdout",
       "text": [
        "Thread #2: \t800000 read pairs finished. 247 secs passed\r\n"
       ]
      },
      {
       "output_type": "stream",
       "stream": "stdout",
       "text": [
        "Thread #1: \t850000 read pairs finished. 350 secs passed\r\n"
       ]
      },
      {
       "output_type": "stream",
       "stream": "stdout",
       "text": [
        "Thread #3: \t900000 read pairs finished. 352 secs passed\r\n"
       ]
      },
      {
       "output_type": "stream",
       "stream": "stdout",
       "text": [
        "Thread #6: \t950000 read pairs finished. 357 secs passed\r\n"
       ]
      },
      {
       "output_type": "stream",
       "stream": "stdout",
       "text": [
        "Thread #5: \t1000000 read pairs finished. 357 secs passed\r\n"
       ]
      },
      {
       "output_type": "stream",
       "stream": "stdout",
       "text": [
        "Thread #4: \t1050000 read pairs finished. 357 secs passed\r\n"
       ]
      },
      {
       "output_type": "stream",
       "stream": "stdout",
       "text": [
        "Thread #0: \t1100000 read pairs finished. 358 secs passed\r\n"
       ]
      },
      {
       "output_type": "stream",
       "stream": "stdout",
       "text": [
        "Thread #7: \t1150000 read pairs finished. 358 secs passed\r\n"
       ]
      },
      {
       "output_type": "stream",
       "stream": "stdout",
       "text": [
        "Thread #2: \t1200000 read pairs finished. 360 secs passed\r\n"
       ]
      },
      {
       "output_type": "stream",
       "stream": "stdout",
       "text": [
        "Thread #1: \t1250000 read pairs finished. 463 secs passed\r\n"
       ]
      },
      {
       "output_type": "stream",
       "stream": "stdout",
       "text": [
        "Thread #3: \t1300000 read pairs finished. 465 secs passed\r\n"
       ]
      },
      {
       "output_type": "stream",
       "stream": "stdout",
       "text": [
        "Thread #6: \t1350000 read pairs finished. 471 secs passed\r\n"
       ]
      },
      {
       "output_type": "stream",
       "stream": "stdout",
       "text": [
        "Thread #5: \t1400000 read pairs finished. 471 secs passed\r\n"
       ]
      },
      {
       "output_type": "stream",
       "stream": "stdout",
       "text": [
        "Thread #4: \t1450000 read pairs finished. 472 secs passed\r\n"
       ]
      },
      {
       "output_type": "stream",
       "stream": "stdout",
       "text": [
        "Thread #0: \t1500000 read pairs finished. 473 secs passed\r\n"
       ]
      },
      {
       "output_type": "stream",
       "stream": "stdout",
       "text": [
        "Thread #7: \t1550000 read pairs finished. 473 secs passed\r\n"
       ]
      },
      {
       "output_type": "stream",
       "stream": "stdout",
       "text": [
        "Thread #2: \t1600000 read pairs finished. 475 secs passed\r\n"
       ]
      },
      {
       "output_type": "stream",
       "stream": "stdout",
       "text": [
        "Thread #1: \t1650000 read pairs finished. 578 secs passed\r\n"
       ]
      },
      {
       "output_type": "stream",
       "stream": "stdout",
       "text": [
        "Thread #3: \t1700000 read pairs finished. 580 secs passed\r\n"
       ]
      },
      {
       "output_type": "stream",
       "stream": "stdout",
       "text": [
        "Thread #6: \t1750000 read pairs finished. 585 secs passed\r\n"
       ]
      },
      {
       "output_type": "stream",
       "stream": "stdout",
       "text": [
        "Thread #5: \t1800000 read pairs finished. 586 secs passed\r\n"
       ]
      },
      {
       "output_type": "stream",
       "stream": "stdout",
       "text": [
        "Thread #4: \t1850000 read pairs finished. 587 secs passed\r\n"
       ]
      },
      {
       "output_type": "stream",
       "stream": "stdout",
       "text": [
        "Thread #0: \t1900000 read pairs finished. 588 secs passed\r\n"
       ]
      },
      {
       "output_type": "stream",
       "stream": "stdout",
       "text": [
        "Thread #7: \t1950000 read pairs finished. 589 secs passed\r\n"
       ]
      },
      {
       "output_type": "stream",
       "stream": "stdout",
       "text": [
        "Thread #2: \t2000000 read pairs finished. 590 secs passed\r\n"
       ]
      },
      {
       "output_type": "stream",
       "stream": "stdout",
       "text": [
        "Thread #1: \t2050000 read pairs finished. 691 secs passed\r\n"
       ]
      },
      {
       "output_type": "stream",
       "stream": "stdout",
       "text": [
        "Thread #3: \t2100000 read pairs finished. 694 secs passed\r\n"
       ]
      }
     ],
     "prompt_number": "*"
    },
    {
     "cell_type": "code",
     "collapsed": false,
     "input": [
      "#M1\n",
      "! /Users/Shared/Apps/bsmap-2.73/bsmap -a /Volumes/NGS\\ Drive/NGS\\ Raw\\ Data/Cg_larvae_BSseq/filtered_BS_CgM1_ACTTGA_L007_R1.fastq.gz -b /Volumes/NGS\\ Drive/NGS\\ Raw\\ Data/Cg_larvae_BSseq/filtered_BS_CgM1_ACTTGA_L007_R1.fastq.gz -d /Volumes/web/cnidarian/oyster.v9.fa -o /Volumes/web/cnidarian/BiGo_lar_M1.sam -p 8"
     ],
     "language": "python",
     "metadata": {},
     "outputs": [],
     "prompt_number": "*"
    },
    {
     "cell_type": "code",
     "collapsed": false,
     "input": [
      "#M3\n",
      "! /Users/Shared/Apps/bsmap-2.73/bsmap -a /Volumes/NGS\\ Drive/NGS\\ Raw\\ Data/Cg_larvae_BSseq/filtered_BS_CgM3_GATCAG_L007_R1.fastq.gz -b /Volumes/NGS\\ Drive/NGS\\ Raw\\ Data/Cg_larvae_BSseq/filtered_BS_CgM3_GATCAG_L007_R1.fastq.gz -d /Volumes/web/cnidarian/oyster.v9.fa -o /Volumes/web/cnidarian/BiGo_lar_M3.sam -p 8"
     ],
     "language": "python",
     "metadata": {},
     "outputs": [],
     "prompt_number": "*"
    },
    {
     "cell_type": "code",
     "collapsed": false,
     "input": [],
     "language": "python",
     "metadata": {},
     "outputs": []
    }
   ],
   "metadata": {}
  }
 ]
}