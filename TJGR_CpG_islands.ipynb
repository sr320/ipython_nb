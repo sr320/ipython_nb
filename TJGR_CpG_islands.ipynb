{
 "metadata": {
  "name": ""
 },
 "nbformat": 3,
 "nbformat_minor": 0,
 "worksheets": [
  {
   "cells": [
    {
     "cell_type": "heading",
     "level": 1,
     "metadata": {},
     "source": [
      "Identifying CpG islands in the Oyster Genome"
     ]
    },
    {
     "cell_type": "markdown",
     "metadata": {},
     "source": [
      "Thinking about comparing CpG islands (evolutionary deplete with methylation) with experiementally determined regions to see what might be transient"
     ]
    },
    {
     "cell_type": "markdown",
     "metadata": {},
     "source": [
      "##CpG Report\n",
      "<img src=\"http://eagle.fish.washington.edu/cnidarian/skitch/_266__Discovery_Environment_17BBF393.png\" alt=\"_266__Discovery_Environment_17BBF393.png\"/>"
     ]
    },
    {
     "cell_type": "code",
     "collapsed": false,
     "input": [
      "!head /Volumes/web/cnidarian/TJGR_v9_cpgreport_1.output"
     ],
     "language": "python",
     "metadata": {},
     "outputs": [
      {
       "output_type": "stream",
       "stream": "stdout",
       "text": [
        "\r\n",
        "\r\n",
        "CPGREPORT of scaffold360 from 1 to 280\r\n",
        "\r\n",
        "Sequence              Begin    End Score        CpG   %CG  CG/GC\r\n",
        "scaffold360              60     61    17          1 100.0    -\r\n",
        "scaffold360              96     97    17          1 100.0    -\r\n",
        "scaffold360             120    121    17          1 100.0    -\r\n",
        "scaffold360             187    188    17          1 100.0    -\r\n",
        "\r\n"
       ]
      }
     ],
     "prompt_number": 1
    },
    {
     "cell_type": "code",
     "collapsed": false,
     "input": [
      "!head /Volumes/web/cnidarian/TJGR_v9_cpgreport_1.gff"
     ],
     "language": "python",
     "metadata": {},
     "outputs": [
      {
       "output_type": "stream",
       "stream": "stdout",
       "text": [
        "##gff-version 3\r\n",
        "##sequence-region scaffold360 1 1964554\r\n",
        "#!Date 2013-08-14\r\n",
        "#!Type DNA\r\n",
        "#!Source-version EMBOSS 6.4.0.0\r\n",
        "scaffold360\tcpgreport\tsequence_feature\t1\t13910\t13703.000\t+\t.\tID=scaffold360.5581277\r\n",
        "scaffold360\tcpgreport\tsequence_feature\t1\t7092\t9397.000\t+\t.\tID=scaffold360.5530319\r\n",
        "scaffold360\tcpgreport\tsequence_feature\t1\t2866\t3093.000\t+\t.\tID=scaffold360.5465795\r\n",
        "scaffold360\tcpgreport\tsequence_feature\t1\t1259\t452.000\t+\t.\tID=scaffold360.5437400\r\n",
        "scaffold360\tcpgreport\tsequence_feature\t1\t725\t572.000\t+\t.\tID=scaffold360.5433333\r\n"
       ]
      }
     ],
     "prompt_number": 3
    },
    {
     "cell_type": "markdown",
     "metadata": {},
     "source": [
      "---   \n",
      "##newCpG Report  \n",
      "<img src=\"http://eagle.fish.washington.edu/cnidarian/skitch/_270__Discovery_Environment_17BBF46B.png\" alt=\"_270__Discovery_Environment_17BBF46B.png\"/>"
     ]
    },
    {
     "cell_type": "code",
     "collapsed": false,
     "input": [
      "!head /Volumes/web/cnidarian/TJGR_v9_newcpgreport_1.output"
     ],
     "language": "python",
     "metadata": {},
     "outputs": [
      {
       "output_type": "stream",
       "stream": "stdout",
       "text": [
        "ID   scaffold360  280 BP.\r\n",
        "XX\r\n",
        "DE   CpG Island report.\r\n",
        "XX\r\n",
        "CC   Obs/Exp ratio > 0.60.\r\n",
        "CC   % C + % G > 50.00.\r\n",
        "CC   Length > 200.\r\n",
        "XX\r\n",
        "FH   Key              Location/Qualifiers\r\n",
        "FT   no islands detected\r\n"
       ]
      }
     ],
     "prompt_number": 2
    },
    {
     "cell_type": "heading",
     "level": 2,
     "metadata": {},
     "source": [
      "CpG Plot (Galaxy)"
     ]
    },
    {
     "cell_type": "markdown",
     "metadata": {},
     "source": [
      "<img src=\"http://eagle.fish.washington.edu/cnidarian/skitch/Galaxy_17C94754.png\" alt=\"Galaxy_17C94754.png\"/>"
     ]
    },
    {
     "cell_type": "code",
     "collapsed": false,
     "input": [
      "Failed"
     ],
     "language": "python",
     "metadata": {},
     "outputs": []
    },
    {
     "cell_type": "markdown",
     "metadata": {},
     "source": [
      "<img src=\"http://eagle.fish.washington.edu/cnidarian/skitch/Galaxy_17CA59B4.png\" alt=\"Galaxy_17CA59B4.png\"/>"
     ]
    },
    {
     "cell_type": "heading",
     "level": 2,
     "metadata": {},
     "source": [
      "Commandline CpGPlot"
     ]
    },
    {
     "cell_type": "raw",
     "metadata": {},
     "source": [
      "./cpgplot -sequence /Volumes/Bay3/Software/bismark_v0.6.4/genomes/oyster.v9.fa\n"
     ]
    },
    {
     "cell_type": "markdown",
     "metadata": {},
     "source": [
      "`\n",
      "Window size [100]: \n",
      "Minimum length of an island [200]: \n",
      "Minimum observed/expected [0.6]: \n",
      "Minimum percentage [50.]: \n",
      "`    "
     ]
    },
    {
     "cell_type": "code",
     "collapsed": false,
     "input": [
      "!head /Volumes/web/cnidarian/TJGR_v9cpgplot1.gff\n"
     ],
     "language": "python",
     "metadata": {},
     "outputs": [
      {
       "output_type": "stream",
       "stream": "stdout",
       "text": [
        "##gff-version 3\r\n",
        "##sequence-region scaffold360 1 0\r\n",
        "#!Date 2013-08-26\r\n",
        "#!Type DNA\r\n",
        "#!Source-version EMBOSS 6.5.7.0\r\n",
        "##gff-version 3\r\n",
        "##sequence-region scaffold18356 1 0\r\n",
        "#!Date 2013-08-26\r\n",
        "#!Type DNA\r\n",
        "#!Source-version EMBOSS 6.5.7.0\r\n"
       ]
      }
     ],
     "prompt_number": 1
    },
    {
     "cell_type": "markdown",
     "metadata": {},
     "source": [
      "http://eagle.fish.washington.edu/cnidarian/TJGR_v9cpgplot1.gff"
     ]
    },
    {
     "cell_type": "code",
     "collapsed": false,
     "input": [],
     "language": "python",
     "metadata": {},
     "outputs": []
    }
   ],
   "metadata": {}
  }
 ]
}