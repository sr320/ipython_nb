{
 "metadata": {
  "name": "TJGR_CpG_islands"
 },
 "nbformat": 3,
 "nbformat_minor": 0,
 "worksheets": [
  {
   "cells": [
    {
     "cell_type": "heading",
     "level": 1,
     "metadata": {},
     "source": [
      "Identifying CpG islands in the Oyster Genome"
     ]
    },
    {
     "cell_type": "markdown",
     "metadata": {},
     "source": [
      "Thinking about comparing CpG islands (evolutionary deplete with methylation) with experiementally determined regions to see what might be transient"
     ]
    },
    {
     "cell_type": "markdown",
     "metadata": {},
     "source": [
      "##CpG Report\n",
      "<img src=\"http://eagle.fish.washington.edu/cnidarian/skitch/_266__Discovery_Environment_17BBF393.png\" alt=\"_266__Discovery_Environment_17BBF393.png\"/>"
     ]
    },
    {
     "cell_type": "markdown",
     "metadata": {},
     "source": [
      "---   \n",
      "##newCpG Report  \n",
      "<img src=\"http://eagle.fish.washington.edu/cnidarian/skitch/_270__Discovery_Environment_17BBF46B.png\" alt=\"_270__Discovery_Environment_17BBF46B.png\"/>"
     ]
    },
    {
     "cell_type": "code",
     "collapsed": false,
     "input": [],
     "language": "python",
     "metadata": {},
     "outputs": []
    }
   ],
   "metadata": {}
  }
 ]
}