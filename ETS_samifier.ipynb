{
 "metadata": {
  "name": ""
 },
 "nbformat": 3,
 "nbformat_minor": 0,
 "worksheets": [
  {
   "cells": [
    {
     "cell_type": "heading",
     "level": 1,
     "metadata": {},
     "source": [
      "Visualizing Emma's Proteomic Data in Genome Browser"
     ]
    },
    {
     "cell_type": "code",
     "collapsed": false,
     "input": [
      "!java -jar samifier.jar -r /Volumes/web/oyster/bioinformatics/xml_files/interact-20120821_103B_251_QE_02.pep.mzid -m /Volumes/web/oyster/bioinformatics/103B_251_02_mappingfile.txt -g /Volumes/web/oyster/bioinformatics/oyster.v9.glean.final.rename.fixed.gff -c /Volumes/web/oyster/bioinformatics/Crassostrea_gigas.GCA_000297895.1.21.dna.genome.fa.fa -o /Users/emmatimminsschiffman/Documents/winter_2014/Bioinformatics/Cg_samifier_out20140220 -l /Users/emmatimminsschiffman/Documents/winter_2014/Bioinformatics/log_20140220 -b /Users/emmatimminsschiffman/Documents/winter_2014/Cg_20140220.bed \n"
     ],
     "language": "python",
     "metadata": {},
     "outputs": []
    },
    {
     "cell_type": "code",
     "collapsed": false,
     "input": [
      "!java -jar /Users/sr320/Desktop/ap11_samifier-master/dist/samifier.jar -r"
     ],
     "language": "python",
     "metadata": {},
     "outputs": [
      {
       "output_type": "stream",
       "stream": "stdout",
       "text": [
        "org.apache.commons.cli.MissingOptionException: Missing required options: r, m, g, c, o\r\n",
        "Version = 1.0.9\r\n"
       ]
      },
      {
       "output_type": "stream",
       "stream": "stdout",
       "text": [
        "usage: samifier [-b <bedFile>] -c <chromosomeDir> -g <genomeFile> [-l\r\n",
        "       <logFile>] -m <mappingFile> -o <outputFile> -r <searchResultsFile>\r\n",
        "       [-s <Confidence Score thresold>]\r\n",
        " -b <bedFile>                     Filename to write IGV regions of\r\n",
        "                                  interest (BED) file to\r\n",
        " -c <chromosomeDir>               Directory containing the chromosome\r\n",
        "                                  files in FASTA format for the given\r\n",
        "                                  genome\r\n",
        " -g <genomeFile>                  Genome file in gff format\r\n",
        " -l <logFile>                     Filename to write the log into\r\n",
        " -m <mappingFile>                 File mapping protein identifier to\r\n",
        "                                  ordered locus name\r\n",
        " -o <outputFile>                  Filename to write the SAM format file to\r\n",
        " -r <searchResultsFile>           Mascot search results file in txt format\r\n",
        " -s <Confidence Score thresold>   Minimum confidence score for peptides to\r\n",
        "                                  be included\r\n"
       ]
      }
     ],
     "prompt_number": 2
    },
    {
     "cell_type": "code",
     "collapsed": false,
     "input": [
      "# -r <searchResultsFile>           Mascot search results file in txt format\n",
      "!head -50 /Volumes/web/oyster/bioinformatics/xml_files/interact-20120821_103B_251_QE_02.pep.mzid"
     ],
     "language": "python",
     "metadata": {},
     "outputs": [
      {
       "output_type": "stream",
       "stream": "stdout",
       "text": [
        "<?xml version=\"1.0\" encoding=\"ISO-8859-1\"?>\r\n",
        "<MzIdentML id=\"\" creationDate=\"2012-09-20T03:13:18\" version=\"1.1.0\" xsi:schemaLocation=\"http://psidev.info/psi/pi/mzIdentML/1.1 http://psidev.info/files/mzIdentML1.1.0.xsd\" xmlns=\"http://psidev.info/psi/pi/mzIdentML/1.1\" xmlns:xsi=\"http://www.w3.org/2001/XMLSchema-instance\">\r\n",
        "  <cvList>\r\n",
        "    <cv id=\"MS\" fullName=\"Proteomics Standards Initiative Mass Spectrometry Ontology\" version=\"3.53.0\" uri=\"http://psidev.cvs.sourceforge.net/*checkout*/psidev/psi/psi-ms/mzML/controlledVocabulary/psi-ms.obo\"/>\r\n",
        "    <cv id=\"UNIMOD\" fullName=\"UNIMOD\" version=\"2013-05-31\" uri=\"http://www.unimod.org/obo/unimod.obo\"/>\r\n",
        "    <cv id=\"UO\" fullName=\"Unit Ontology\" version=\"12:10:2011\" uri=\"http://obo.cvs.sourceforge.net/*checkout*/obo/obo/ontology/phenotype/unit.obo\"/>\r\n",
        "  </cvList>\r\n",
        "  <AnalysisSoftwareList>\r\n",
        "    <AnalysisSoftware id=\"AS_peptideprophet_\" name=\"peptideprophet\">\r\n",
        "      <SoftwareName><cvParam cvRef=\"MS\" accession=\"MS:1001456\" name=\"analysis software\" value=\"peptideprophet\"/></SoftwareName>\r\n",
        "    </AnalysisSoftware>\r\n",
        "    <AnalysisSoftware id=\"AS_database_refresh_\" name=\"database_refresh\">\r\n",
        "      <SoftwareName><cvParam cvRef=\"MS\" accession=\"MS:1001456\" name=\"analysis software\" value=\"database_refresh\"/></SoftwareName>\r\n",
        "    </AnalysisSoftware>\r\n",
        "    <AnalysisSoftware id=\"AS_interact_\" name=\"interact\">\r\n",
        "      <SoftwareName><cvParam cvRef=\"MS\" accession=\"MS:1001456\" name=\"analysis software\" value=\"interact\"/></SoftwareName>\r\n",
        "    </AnalysisSoftware>\r\n",
        "    <AnalysisSoftware id=\"AS_Sequest\" name=\"Sequest\">\r\n",
        "      <SoftwareName><cvParam cvRef=\"MS\" accession=\"MS:1001208\" name=\"SEQUEST\" value=\"\"/></SoftwareName>\r\n",
        "    </AnalysisSoftware>\r\n",
        "    <AnalysisSoftware id=\"pwiz_3.0.5519\" name=\"ProteoWizard MzIdentML\" version=\"3.0.5519\">\r\n",
        "      <ContactRole contact_ref=\"ORG_PWIZ\">\r\n",
        "        <Role><cvParam cvRef=\"MS\" accession=\"MS:1001267\" name=\"software vendor\" value=\"\"/></Role>\r\n",
        "      </ContactRole>\r\n",
        "      <SoftwareName><cvParam cvRef=\"MS\" accession=\"MS:1000615\" name=\"ProteoWizard software\" value=\"\"/></SoftwareName>\r\n",
        "    </AnalysisSoftware>\r\n",
        "  </AnalysisSoftwareList>\r\n",
        "  <AuditCollection>\r\n",
        "    <Organization id=\"ORG_PWIZ\" name=\"ProteoWizard\">\r\n",
        "      <cvParam cvRef=\"MS\" accession=\"MS:1000589\" name=\"contact email\" value=\"support@proteowizard.org\"/>\r\n",
        "    </Organization>\r\n",
        "  </AuditCollection>\r\n",
        "  <SequenceCollection>\r\n",
        "    <DBSequence id=\"DBSeq_CGI_10027476\" accession=\"CGI_10027476\" searchDatabase_ref=\"oyster.v9.glean.final.rename.gff.pep\"/>\r\n",
        "    <DBSequence id=\"DBSeq_CGI_10022468\" accession=\"CGI_10022468\" searchDatabase_ref=\"oyster.v9.glean.final.rename.gff.pep\"/>\r\n",
        "    <DBSequence id=\"DBSeq_CGI_10008057\" accession=\"CGI_10008057\" searchDatabase_ref=\"oyster.v9.glean.final.rename.gff.pep\"/>\r\n",
        "    <DBSequence id=\"DBSeq_CGI_10008062\" accession=\"CGI_10008062\" searchDatabase_ref=\"oyster.v9.glean.final.rename.gff.pep\"/>\r\n",
        "    <DBSequence id=\"DBSeq_CGI_10008068\" accession=\"CGI_10008068\" searchDatabase_ref=\"oyster.v9.glean.final.rename.gff.pep\"/>\r\n",
        "    <DBSequence id=\"DBSeq_CGI_10008073\" accession=\"CGI_10008073\" searchDatabase_ref=\"oyster.v9.glean.final.rename.gff.pep\"/>\r\n",
        "    <DBSequence id=\"DBSeq_CGI_10008078\" accession=\"CGI_10008078\" searchDatabase_ref=\"oyster.v9.glean.final.rename.gff.pep\"/>\r\n",
        "    <DBSequence id=\"DBSeq_CGI_10008083\" accession=\"CGI_10008083\" searchDatabase_ref=\"oyster.v9.glean.final.rename.gff.pep\"/>\r\n",
        "    <DBSequence id=\"DBSeq_CGI_10011811\" accession=\"CGI_10011811\" searchDatabase_ref=\"oyster.v9.glean.final.rename.gff.pep\"/>\r\n",
        "    <DBSequence id=\"DBSeq_CGI_10028133\" accession=\"CGI_10028133\" searchDatabase_ref=\"oyster.v9.glean.final.rename.gff.pep\"/>\r\n",
        "    <DBSequence id=\"DBSeq_CGI_10014966\" accession=\"CGI_10014966\" searchDatabase_ref=\"oyster.v9.glean.final.rename.gff.pep\"/>\r\n",
        "    <DBSequence id=\"DBSeq_CGI_10024399\" accession=\"CGI_10024399\" searchDatabase_ref=\"oyster.v9.glean.final.rename.gff.pep\"/>\r\n",
        "    <DBSequence id=\"DBSeq_CGI_10020326\" accession=\"CGI_10020326\" searchDatabase_ref=\"oyster.v9.glean.final.rename.gff.pep\"/>\r\n",
        "    <DBSequence id=\"DBSeq_CGI_10024572\" accession=\"CGI_10024572\" searchDatabase_ref=\"oyster.v9.glean.final.rename.gff.pep\"/>\r\n"
       ]
      },
      {
       "output_type": "stream",
       "stream": "stdout",
       "text": [
        "    <DBSequence id=\"DBSeq_CGI_10024579\" accession=\"CGI_10024579\" searchDatabase_ref=\"oyster.v9.glean.final.rename.gff.pep\"/>\r\n",
        "    <DBSequence id=\"DBSeq_CGI_10021674\" accession=\"CGI_10021674\" searchDatabase_ref=\"oyster.v9.glean.final.rename.gff.pep\"/>\r\n",
        "    <DBSequence id=\"DBSeq_CGI_10003490\" accession=\"CGI_10003490\" searchDatabase_ref=\"oyster.v9.glean.final.rename.gff.pep\"/>\r\n"
       ]
      }
     ],
     "prompt_number": 5
    },
    {
     "cell_type": "markdown",
     "metadata": {},
     "source": [
      "<http://eagle.fish.washington.edu/oyster/bioinformatics/xml_files/interact-20120821_103B_251_QE_02.pep.mzid>"
     ]
    },
    {
     "cell_type": "code",
     "collapsed": false,
     "input": [
      "!java -jar /Users/sr320/Desktop/ap11_samifier-master/dist/samifier.jar -r /Volumes/web/oyster/bioinformatics/xml_files/interact-20120821_103B_251_QE_02.pep.mzid -m /Volumes/we!b/oyster/bioinformatics/103B_251_02_mappingfile.txt -g /Volumes/web/oyster/bioinformatics/oyster.v9.glean.final.rename.fixed.gff -c /Volumes/web/oyster/bioinformatics/Crassostrea_gigas.GCA_000297895.1.21.dna.genome.fa.fa -o /Users/sr320/Desktop/Cg_samifier_out20140220 -l /Users/sr320/Desktop/log_20140220 -b /Users/sr320/Desktop/Cg_20140220.bed "
     ],
     "language": "python",
     "metadata": {},
     "outputs": [
      {
       "output_type": "stream",
       "stream": "stdout",
       "text": [
        "Version = 1.0.9\r\n",
        "au.org.intersect.samifier.parser.GenomeFileParsingException: Error in /Volumes/web/oyster/bioinformatics/oyster.v9.glean.final.rename.fixed.gff:23 C19392\tGLEAN\tCDS\t452\t610\t.\t+\t0\tParent=CGI_10000015;\r\n",
        " > Stop of sequence in gene CGI_10000015 overflows gene\r\n",
        "usage: samifier [-b <bedFile>] -c <chromosomeDir> -g <genomeFile> [-l\r\n",
        "       <logFile>] -m <mappingFile> -o <outputFile> -r <searchResultsFile>\r\n",
        "       [-s <Confidence Score thresold>]\r\n",
        " -b <bedFile>                     Filename to write IGV regions of\r\n",
        "                                  interest (BED) file to\r\n",
        " -c <chromosomeDir>               Directory containing the chromosome\r\n",
        "                                  files in FASTA format for the given\r\n",
        "                                  genome\r\n",
        " -g <genomeFile>                  Genome file in gff format\r\n",
        " -l <logFile>                     Filename to write the log into\r\n",
        " -m <mappingFile>                 File mapping protein identifier to\r\n",
        "                                  ordered locus name\r\n",
        " -o <outputFile>                  Filename to write the SAM format file to\r\n",
        " -r <searchResultsFile>           Mascot search results file in txt format\r\n",
        " -s <Confidence Score thresold>   Minimum confidence score for peptides to\r\n",
        "                                  be included\r\n",
        "au.org.intersect.samifier.parser.GenomeFileParsingException: Error in /Volumes/web/oyster/bioinformatics/oyster.v9.glean.final.rename.fixed.gff:23 C19392\tGLEAN\tCDS\t452\t610\t.\t+\t0\tParent=CGI_10000015;\r\n",
        " > Stop of sequence in gene CGI_10000015 overflows gene\r\n",
        "\tat au.org.intersect.samifier.parser.GenomeParserImpl.throwParsingException(GenomeParserImpl.java:98)\r\n",
        "\tat au.org.intersect.samifier.parser.GenomeParserImpl.processSequence(GenomeParserImpl.java:181)\r\n",
        "\tat au.org.intersect.samifier.parser.GenomeParserImpl.doParsing(GenomeParserImpl.java:84)\r\n",
        "\tat au.org.intersect.samifier.parser.GenomeParserImpl.parseGenomeFile(GenomeParserImpl.java:46)\r\n",
        "\tat au.org.intersect.samifier.runner.SamifierRunner.run(SamifierRunner.java:84)\r\n",
        "\tat au.org.intersect.samifier.Samifier.main(Samifier.java:125)\r\n"
       ]
      }
     ],
     "prompt_number": 9
    },
    {
     "cell_type": "code",
     "collapsed": false,
     "input": [
      "!head -50 /Volumes/web/oyster/bioinformatics/oyster.v9.glean.final.rename.fixed.gff"
     ],
     "language": "python",
     "metadata": {},
     "outputs": [
      {
       "output_type": "stream",
       "stream": "stdout",
       "text": [
        "C16582\tGLEAN\tmRNA\t35\t385\t0.555898\t-\t.\tID=CGI_10000001;\r\n",
        "C16582\tGLEAN\tCDS\t35\t385\t.\t-\t0\tParent=CGI_10000001;\r\n",
        "C17212\tGLEAN\tmRNA\t31\t363\t0.999572\t+\t.\tID=CGI_10000002;\r\n",
        "C17212\tGLEAN\tCDS\t31\t363\t.\t+\t0\tParent=CGI_10000002;\r\n",
        "C17316\tGLEAN\tmRNA\t30\t257\t0.555898\t+\t.\tID=CGI_10000003;\r\n",
        "C17316\tGLEAN\tCDS\t30\t257\t.\t+\t0\tParent=CGI_10000003;\r\n",
        "C17998\tGLEAN\tmRNA\t196\t387\t1\t-\t.\tID=CGI_10000005;\r\n",
        "C17998\tGLEAN\tCDS\t196\t387\t.\t-\t0\tParent=CGI_10000005;\r\n",
        "C18346\tGLEAN\tmRNA\t174\t551\t1\t+\t.\tID=CGI_10000009;\r\n",
        "C18346\tGLEAN\tCDS\t174\t551\t.\t+\t0\tParent=CGI_10000009;\r\n",
        "C18428\tGLEAN\tmRNA\t286\t546\t0.555898\t-\t.\tID=CGI_10000010;\r\n",
        "C18428\tGLEAN\tCDS\t286\t546\t.\t-\t0\tParent=CGI_10000010;\r\n",
        "C18964\tGLEAN\tmRNA\t203\t658\t0.999572\t-\t.\tID=CGI_10000011;\r\n",
        "C18964\tGLEAN\tCDS\t203\t658\t.\t-\t0\tParent=CGI_10000011;\r\n",
        "C18980\tGLEAN\tmRNA\t30\t674\t0.555898\t+\t.\tID=CGI_10000012;\r\n",
        "C18980\tGLEAN\tCDS\t30\t674\t.\t+\t0\tParent=CGI_10000012;\r\n",
        "C19100\tGLEAN\tmRNA\t160\t681\t0.999955\t-\t.\tID=CGI_10000013;\r\n",
        "C19100\tGLEAN\tCDS\t160\t681\t.\t-\t0\tParent=CGI_10000013;\r\n",
        "C19356\tGLEAN\tmRNA\t355\t597\t1\t+\t.\tID=CGI_10000014;\r\n",
        "C19356\tGLEAN\tCDS\t355\t597\t.\t+\t0\tParent=CGI_10000014;\r\n",
        "C19392\tGLEAN\tmRNA\t46\t610\t1\t+\t.\tID=CGI_10000015;\r\n",
        "C19392\tGLEAN\tCDS\t46\t183\t.\t+\t0\tParent=CGI_10000015;\r\n",
        "C19392\tGLEAN\tCDS\t452\t610\t.\t+\t0\tParent=CGI_10000015;\r\n",
        "C19510\tGLEAN\tmRNA\t451\t702\t1\t+\t.\tID=CGI_10000016;\r\n",
        "C19510\tGLEAN\tCDS\t451\t702\t.\t+\t0\tParent=CGI_10000016;\r\n",
        "C19532\tGLEAN\tmRNA\t155\t601\t0.575455\t-\t.\tID=CGI_10000017;\r\n",
        "C19532\tGLEAN\tCDS\t155\t601\t.\t-\t0\tParent=CGI_10000017;\r\n",
        "C19570\tGLEAN\tmRNA\t208\t411\t0.555898\t-\t.\tID=CGI_10000018;\r\n",
        "C19570\tGLEAN\tCDS\t208\t411\t.\t-\t0\tParent=CGI_10000018;\r\n",
        "C19626\tGLEAN\tmRNA\t347\t814\t0.999572\t-\t.\tID=CGI_10000019;\r\n",
        "C19626\tGLEAN\tCDS\t347\t814\t.\t-\t0\tParent=CGI_10000019;\r\n",
        "C19672\tGLEAN\tmRNA\t132\t464\t1\t+\t.\tID=CGI_10000021;\r\n",
        "C19672\tGLEAN\tCDS\t132\t464\t.\t+\t0\tParent=CGI_10000021;\r\n",
        "C20188\tGLEAN\tmRNA\t437\t967\t0.999572\t-\t.\tID=CGI_10000024;\r\n",
        "C20188\tGLEAN\tCDS\t437\t967\t.\t-\t0\tParent=CGI_10000024;\r\n",
        "C20262\tGLEAN\tmRNA\t222\t1005\t1\t-\t.\tID=CGI_10000025;\r\n",
        "C20262\tGLEAN\tCDS\t872\t1005\t.\t-\t0\tParent=CGI_10000025;\r\n",
        "C20262\tGLEAN\tCDS\t642\t649\t.\t-\t1\tParent=CGI_10000025;\r\n",
        "C20262\tGLEAN\tCDS\t222\t538\t.\t-\t2\tParent=CGI_10000025;\r\n",
        "C20282\tGLEAN\tmRNA\t330\t980\t1\t+\t.\tID=CGI_10000026;\r\n",
        "C20282\tGLEAN\tCDS\t330\t980\t.\t+\t0\tParent=CGI_10000026;\r\n",
        "scaffold1224\tGLEAN\tmRNA\t107\t775\t0.639435\t-\t.\tID=CGI_10000027;\r\n",
        "scaffold1224\tGLEAN\tCDS\t107\t775\t.\t-\t0\tParent=CGI_10000027;\r\n",
        "C20334\tGLEAN\tmRNA\t273\t1027\t1\t-\t.\tID=CGI_10000028;\r\n",
        "C20334\tGLEAN\tCDS\t868\t1027\t.\t-\t0\tParent=CGI_10000028;\r\n",
        "C20334\tGLEAN\tCDS\t273\t523\t.\t-\t2\tParent=CGI_10000028;\r\n",
        "C20412\tGLEAN\tmRNA\t73\t776\t1\t-\t.\tID=CGI_10000029;\r\n",
        "C20412\tGLEAN\tCDS\t706\t776\t.\t-\t0\tParent=CGI_10000029;\r\n",
        "C20412\tGLEAN\tCDS\t410\t463\t.\t-\t1\tParent=CGI_10000029;\r\n",
        "C20412\tGLEAN\tCDS\t73\t214\t.\t-\t1\tParent=CGI_10000029;\r\n"
       ]
      }
     ],
     "prompt_number": 10
    },
    {
     "cell_type": "code",
     "collapsed": false,
     "input": [
      "!sed 's/CDS/exon/g' </Volumes/web/oyster/bioinformatics/oyster.v9.glean.final.rename.fixed.gff> /Volumes/web/cnidarian/ets_v9.gff"
     ],
     "language": "python",
     "metadata": {},
     "outputs": [],
     "prompt_number": 13
    },
    {
     "cell_type": "code",
     "collapsed": false,
     "input": [
      "!head /Volumes/web/cnidarian/ets_v9.gff"
     ],
     "language": "python",
     "metadata": {},
     "outputs": [
      {
       "output_type": "stream",
       "stream": "stdout",
       "text": [
        "C16582\tGLEAN\tmRNA\t35\t385\t0.555898\t-\t.\tID=CGI_10000001;\r\n",
        "C16582\tGLEAN\texon\t35\t385\t.\t-\t0\tParent=CGI_10000001;\r\n",
        "C17212\tGLEAN\tmRNA\t31\t363\t0.999572\t+\t.\tID=CGI_10000002;\r\n",
        "C17212\tGLEAN\texon\t31\t363\t.\t+\t0\tParent=CGI_10000002;\r\n",
        "C17316\tGLEAN\tmRNA\t30\t257\t0.555898\t+\t.\tID=CGI_10000003;\r\n",
        "C17316\tGLEAN\texon\t30\t257\t.\t+\t0\tParent=CGI_10000003;\r\n",
        "C17998\tGLEAN\tmRNA\t196\t387\t1\t-\t.\tID=CGI_10000005;\r\n",
        "C17998\tGLEAN\texon\t196\t387\t.\t-\t0\tParent=CGI_10000005;\r\n",
        "C18346\tGLEAN\tmRNA\t174\t551\t1\t+\t.\tID=CGI_10000009;\r\n",
        "C18346\tGLEAN\texon\t174\t551\t.\t+\t0\tParent=CGI_10000009;\r\n"
       ]
      }
     ],
     "prompt_number": 14
    },
    {
     "cell_type": "code",
     "collapsed": false,
     "input": [
      "!sed 's/mRNA/CDS/g' </Volumes/web/cnidarian/ets_v9.gff> /Volumes/web/cnidarian/ets_v9_b.gff"
     ],
     "language": "python",
     "metadata": {},
     "outputs": [],
     "prompt_number": 16
    },
    {
     "cell_type": "code",
     "collapsed": false,
     "input": [
      "!head /Volumes/web/cnidarian/ets_v9_b.gff"
     ],
     "language": "python",
     "metadata": {},
     "outputs": [
      {
       "output_type": "stream",
       "stream": "stdout",
       "text": [
        "C16582\tGLEAN\tCDS\t35\t385\t0.555898\t-\t.\tID=CGI_10000001;\r\n",
        "C16582\tGLEAN\texon\t35\t385\t.\t-\t0\tParent=CGI_10000001;\r\n",
        "C17212\tGLEAN\tCDS\t31\t363\t0.999572\t+\t.\tID=CGI_10000002;\r\n",
        "C17212\tGLEAN\texon\t31\t363\t.\t+\t0\tParent=CGI_10000002;\r\n",
        "C17316\tGLEAN\tCDS\t30\t257\t0.555898\t+\t.\tID=CGI_10000003;\r\n",
        "C17316\tGLEAN\texon\t30\t257\t.\t+\t0\tParent=CGI_10000003;\r\n",
        "C17998\tGLEAN\tCDS\t196\t387\t1\t-\t.\tID=CGI_10000005;\r\n",
        "C17998\tGLEAN\texon\t196\t387\t.\t-\t0\tParent=CGI_10000005;\r\n",
        "C18346\tGLEAN\tCDS\t174\t551\t1\t+\t.\tID=CGI_10000009;\r\n",
        "C18346\tGLEAN\texon\t174\t551\t.\t+\t0\tParent=CGI_10000009;\r\n"
       ]
      }
     ],
     "prompt_number": 17
    },
    {
     "cell_type": "code",
     "collapsed": false,
     "input": [
      "!sed 's/ID=/PGUUID=/g' </Volumes/web/cnidarian/ets_v9_b.gff> /Volumes/web/cnidarian/ets_v9_c.gff"
     ],
     "language": "python",
     "metadata": {},
     "outputs": [],
     "prompt_number": 20
    },
    {
     "cell_type": "code",
     "collapsed": false,
     "input": [
      "!head /Volumes/web/cnidarian/ets_v9_c.gff"
     ],
     "language": "python",
     "metadata": {},
     "outputs": [
      {
       "output_type": "stream",
       "stream": "stdout",
       "text": [
        "C16582\tGLEAN\tCDS\t35\t385\t0.555898\t-\t.\tPGUUID=CGI_10000001;\r\n",
        "C16582\tGLEAN\texon\t35\t385\t.\t-\t0\tParent=CGI_10000001;\r\n",
        "C17212\tGLEAN\tCDS\t31\t363\t0.999572\t+\t.\tPGUUID=CGI_10000002;\r\n",
        "C17212\tGLEAN\texon\t31\t363\t.\t+\t0\tParent=CGI_10000002;\r\n",
        "C17316\tGLEAN\tCDS\t30\t257\t0.555898\t+\t.\tPGUUID=CGI_10000003;\r\n",
        "C17316\tGLEAN\texon\t30\t257\t.\t+\t0\tParent=CGI_10000003;\r\n",
        "C17998\tGLEAN\tCDS\t196\t387\t1\t-\t.\tPGUUID=CGI_10000005;\r\n",
        "C17998\tGLEAN\texon\t196\t387\t.\t-\t0\tParent=CGI_10000005;\r\n",
        "C18346\tGLEAN\tCDS\t174\t551\t1\t+\t.\tPGUUID=CGI_10000009;\r\n",
        "C18346\tGLEAN\texon\t174\t551\t.\t+\t0\tParent=CGI_10000009;\r\n"
       ]
      }
     ],
     "prompt_number": 21
    },
    {
     "cell_type": "code",
     "collapsed": false,
     "input": [
      "!sed 's/Parent=/ID=/g' </Volumes/web/cnidarian/ets_v9_c.gff> /Volumes/web/cnidarian/ets_v9_d.gff"
     ],
     "language": "python",
     "metadata": {},
     "outputs": [],
     "prompt_number": 22
    },
    {
     "cell_type": "code",
     "collapsed": false,
     "input": [
      "!head /Volumes/web/cnidarian/ets_v9_d.gff"
     ],
     "language": "python",
     "metadata": {},
     "outputs": [
      {
       "output_type": "stream",
       "stream": "stdout",
       "text": [
        "C16582\tGLEAN\tCDS\t35\t385\t0.555898\t-\t.\tPGUUID=CGI_10000001;\r\n",
        "C16582\tGLEAN\texon\t35\t385\t.\t-\t0\tID=CGI_10000001;\r\n",
        "C17212\tGLEAN\tCDS\t31\t363\t0.999572\t+\t.\tPGUUID=CGI_10000002;\r\n",
        "C17212\tGLEAN\texon\t31\t363\t.\t+\t0\tID=CGI_10000002;\r\n",
        "C17316\tGLEAN\tCDS\t30\t257\t0.555898\t+\t.\tPGUUID=CGI_10000003;\r\n",
        "C17316\tGLEAN\texon\t30\t257\t.\t+\t0\tID=CGI_10000003;\r\n",
        "C17998\tGLEAN\tCDS\t196\t387\t1\t-\t.\tPGUUID=CGI_10000005;\r\n",
        "C17998\tGLEAN\texon\t196\t387\t.\t-\t0\tID=CGI_10000005;\r\n",
        "C18346\tGLEAN\tCDS\t174\t551\t1\t+\t.\tPGUUID=CGI_10000009;\r\n",
        "C18346\tGLEAN\texon\t174\t551\t.\t+\t0\tID=CGI_10000009;\r\n"
       ]
      }
     ],
     "prompt_number": 23
    },
    {
     "cell_type": "code",
     "collapsed": false,
     "input": [
      "!sed 's/PGUUID=/Parent=/g' </Volumes/web/cnidarian/ets_v9_d.gff> /Volumes/web/cnidarian/ets_v9_f.gff"
     ],
     "language": "python",
     "metadata": {},
     "outputs": [],
     "prompt_number": 24
    },
    {
     "cell_type": "code",
     "collapsed": false,
     "input": [
      "!head /Volumes/web/cnidarian/ets_v9_f.gff"
     ],
     "language": "python",
     "metadata": {},
     "outputs": [
      {
       "output_type": "stream",
       "stream": "stdout",
       "text": [
        "C16582\tGLEAN\tCDS\t35\t385\t0.555898\t-\t.\tParent=CGI_10000001;\r\n",
        "C16582\tGLEAN\texon\t35\t385\t.\t-\t0\tID=CGI_10000001;\r\n",
        "C17212\tGLEAN\tCDS\t31\t363\t0.999572\t+\t.\tParent=CGI_10000002;\r\n",
        "C17212\tGLEAN\texon\t31\t363\t.\t+\t0\tID=CGI_10000002;\r\n",
        "C17316\tGLEAN\tCDS\t30\t257\t0.555898\t+\t.\tParent=CGI_10000003;\r\n",
        "C17316\tGLEAN\texon\t30\t257\t.\t+\t0\tID=CGI_10000003;\r\n",
        "C17998\tGLEAN\tCDS\t196\t387\t1\t-\t.\tParent=CGI_10000005;\r\n",
        "C17998\tGLEAN\texon\t196\t387\t.\t-\t0\tID=CGI_10000005;\r\n",
        "C18346\tGLEAN\tCDS\t174\t551\t1\t+\t.\tParent=CGI_10000009;\r\n",
        "C18346\tGLEAN\texon\t174\t551\t.\t+\t0\tID=CGI_10000009;\r\n"
       ]
      }
     ],
     "prompt_number": 25
    },
    {
     "cell_type": "heading",
     "level": 3,
     "metadata": {},
     "source": [
      "Fixed gff issue"
     ]
    },
    {
     "cell_type": "code",
     "collapsed": false,
     "input": [
      "!java -jar /Users/sr320/Desktop/ap11_samifier-master/dist/samifier.jar -r /Volumes/web/oyster/bioinformatics/xml_files/interact-20120821_103B_251_QE_02.pep.mzid -m /Volumes/web/oyster/bioinformatics/103B_251_02_mappingfile.txt -g /Volumes/web/cnidarian/ets_v9_f.gff -c /Volumes/web/oyster/bioinformatics/Crassostrea_gigas.GCA_000297895.1.21.dna.genome.fa.fa -o /Users/sr320/Desktop/Cg_samifier_out20140220 -l /Users/sr320/Desktop/log_20140220 -b /Users/sr320/Desktop/Cg_20140220.bed "
     ],
     "language": "python",
     "metadata": {},
     "outputs": [
      {
       "output_type": "stream",
       "stream": "stdout",
       "text": [
        "Start document\r\n"
       ]
      },
      {
       "output_type": "stream",
       "stream": "stdout",
       "text": [
        "End document!\r\n",
        "Run exception thrown\r\n",
        "java.lang.NumberFormatException: null\r\n",
        "\tat java.lang.Integer.parseInt(Integer.java:454)\r\n",
        "\tat java.lang.Integer.parseInt(Integer.java:527)\r\n",
        "\tat au.org.intersect.samifier.parser.mzidentml.MzidReader.build(MzidReader.java:113)\r\n",
        "\tat au.org.intersect.samifier.parser.mzidentml.MzidReader.processEvidence(MzidReader.java:137)\r\n",
        "\tat au.org.intersect.samifier.parser.mzidentml.MzidReader.run(MzidReader.java:54)\r\n",
        "\tat au.org.intersect.samifier.parser.PeptideSearchResultsParserImpl.parseMascotPeptideSearchResultsMzidentMLFormat(PeptideSearchResultsParserImpl.java:129)\r\n",
        "\tat au.org.intersect.samifier.parser.PeptideSearchResultsParserImpl.parseResults(PeptideSearchResultsParserImpl.java:79)\r\n",
        "\tat au.org.intersect.samifier.parser.PeptideSearchResultsParserImpl.parseResults(PeptideSearchResultsParserImpl.java:56)\r\n",
        "\tat au.org.intersect.samifier.runner.SamifierRunner.run(SamifierRunner.java:90)\r\n",
        "\tat au.org.intersect.samifier.Samifier.main(Samifier.java:125)\r\n",
        "Version = 1.0.9\r\n",
        "java.lang.NullPointerException\r\n"
       ]
      },
      {
       "output_type": "stream",
       "stream": "stdout",
       "text": [
        "usage: samifier [-b <bedFile>] -c <chromosomeDir> -g <genomeFile> [-l\r\n",
        "       <logFile>] -m <mappingFile> -o <outputFile> -r <searchResultsFile>\r\n",
        "       [-s <Confidence Score thresold>]\r\n",
        " -b <bedFile>                     Filename to write IGV regions of\r\n",
        "                                  interest (BED) file to\r\n",
        " -c <chromosomeDir>               Directory containing the chromosome\r\n",
        "                                  files in FASTA format for the given\r\n",
        "                                  genome\r\n",
        " -g <genomeFile>                  Genome file in gff format\r\n",
        " -l <logFile>                     Filename to write the log into\r\n",
        " -m <mappingFile>                 File mapping protein identifier to\r\n",
        "                                  ordered locus name\r\n",
        " -o <outputFile>                  Filename to write the SAM format file to\r\n",
        " -r <searchResultsFile>           Mascot search results file in txt format\r\n",
        " -s <Confidence Score thresold>   Minimum confidence score for peptides to\r\n",
        "                                  be included\r\n",
        "java.lang.NullPointerException\r\n",
        "\tat java.util.ArrayList.addAll(ArrayList.java:559)\r\n",
        "\tat au.org.intersect.samifier.parser.PeptideSearchResultsParserImpl.parseResults(PeptideSearchResultsParserImpl.java:56)\r\n",
        "\tat au.org.intersect.samifier.runner.SamifierRunner.run(SamifierRunner.java:90)\r\n",
        "\tat au.org.intersect.samifier.Samifier.main(Samifier.java:125)\r\n"
       ]
      }
     ],
     "prompt_number": 27
    },
    {
     "cell_type": "raw",
     "metadata": {},
     "source": [
      "!java -jar /Users/sr320/Desktop/ap11_samifier-master/dist/samifier.jar -r /Volumes/web/oyster/bioinformatics/xml_files/interact-20120821_103B_251_QE_02.pep.mzid -m /Volumes/web/oyster/bioinformatics/103B_251_02_mappingfile.txt -g /Volumes/web/cnidarian/ets_v9_f.gff -c /Volumes/web/cnidarian/v9_multi -o /Users/sr320/Desktop/Cg_samifier_out20140220 -l /Users/sr320/Desktop/log_20140220 -b /Users/sr320/Desktop/Cg_20140220.bed "
     ]
    },
    {
     "cell_type": "code",
     "collapsed": false,
     "input": [
      "!head /Volumes/web/cnidarian/oyster.v9.fa"
     ],
     "language": "python",
     "metadata": {},
     "outputs": [
      {
       "output_type": "stream",
       "stream": "stdout",
       "text": [
        ">scaffold360\r\n",
        "TATTCATATATCATTGAGAATGACAGTTTAAAACAGGATTTTTAATTGTGTTTAATAGGCGACCAACATTTAAGTGTCATTTGTTGAGTTATAAGCGAGTTAAAAAGCTTGTAGTTCTTCGCTATGGAAACAAAACTTTACATTTTGTTTACATTTCAGTTTTAGACCTCAAATGAATGTTTTTATCGTTAGGAACTGTTTATTTATGCTTTAAATTGATAAGAAGATTGACAAATCAGCTTGAAAAAGATTTTTTACTGGTGTATTGAACCCAGATGTA\r\n",
        ">scaffold18356\r\n",
        "TTAAACTGGTACAACAGTATATCCAAGAGAAAAAGGACTTTATAAACAATTTAGAACAACATTGTGGGTCGGATCGGAATTCAAGAACACAGGATCCATTGATGGCTTCTACTATGAAGGGCGATACTACCGCTTGGGGTGACGTCAAATACACTCCGTCATCGACAAAATCTCCTGGATTGTATCCATTACAGGAATTGAAGAAATAACTTTCAATGTAAACAATTTACAAAGATATACATATCTTACGTGAATATCTGGCATGGAAACAACACCTACATGATAGAATAAGACAATATTTCCTACGATACATCCATGGGACATGAAGAAAGTGAAACAGTGTATATCCATATTTAAATTATTATTATAACCGTGTAATCCAAAATGAATTTTATTCCTTCTCATCAGTAAGTACACTGAAAATTGACTACTAAGAAGAGGAAAACACAGAAACGCTAGTTACAACCGATGACCGTTATGAACATAATGCGATTATTTCAGTGAACCGTGTATTAGTGATTTCCTATGTAGGAAGGATTAATATAATTTGCTTCCTATTAGTGTAAT\r\n",
        ">scaffold20428\r\n",
        "AGAAATTATCCAGGGGTATATTCAGTAATTAAATTTGAAAAAAAAATTGGTTTCAACATATTTTATTGAATAAGGAAAATAGTTTGTATAACTTTAGTTACAAGTTCCTCTTTCTCAATTACTAGAAACTGAATACAACATGATAGAAGAAAATTAGATTTACAGGAATCAATTTTAATTGAGACACACTTGCTATATTGGGGTAGTGACACTTTCTTATAACACAAACTGCTTTTATTTTTTCAGCAGTTCAAAACTTTATTTAAGAGTCTGGAAGATTTTTAAATAATTAATTTTCTTTTTGTTATGGCTATTCTTACACCGTATATCACTCTATTTACCATACAATCACATTTTGTTTTGTTAATGCATGTTTAGGAATATAATTACTATAAAGTCAATATCTACAAATATAATGCATTATCACTATGGCAGTTGTATATATTATACATATTATAATCAAGAGAGAAACATGTAAGTTAAAAGAACTTGTTACCCACCCTCTTGTCCAATAACAATAAAATATGTTCAAATCAAATCAAACAAGAATTGATATACATGTACTAGTATATGGAATTTTTGTTCCTTTTGATGATGTATAGTGAAGAGTTTTTTAACCGCGTCACCTTTCGAATTGAACGTGAAAACCAGCAGGTTGTAAATTTCCTCTACACCATTCTTTTATATTTTTTAATTTTCAAATTTATTGTTGTGATGTTGGCTAAGAATCCTCATTTCAATCCCTTAATTATAATGGTACATGTAAATAAAATGGCGAGTGTCTATCTATGACGTACAAAGGAAGAAGCACTTTCCGGTGACGTAGTTATCACAATGCCCATACAGTGCTTGTCGATTTTATCAACTTTGATAAATAGGTTAAGTTGTATGTATACTGTATAGAATTCATGGATCCAAGGTCATGTAATAATCAACGCAAATTCCATATTGTGTTGAACATCAATTTAGTTTGTGTTATAAATTTGTAAAAGTTTATACATTCATACAAGCACCTGCTGTA\r\n",
        ">scaffold18720\r\n",
        "TCATGCCGATGATTTATCATACAAACATACGAGAGAAGTATTTAATAAAGCTGCATTTAGGATAATTATATCATTTTGCCATGCCATGACATATTCTGATCATCTCACATCATTGATAAAAAATTGTGCCTTTAATTCCTACCCTAAAATTAAATATTGAATATTATCATAATATTAAATTCAGTTACCTTAGATGTTCCTTTACTTGAGCCGATAAACTGCATGGTTCTATTCATCTTCACAAATAATATAGGAGACAGCCATGTCACCGAGTTTGAACGTCAGCAGGAGGATGTCTGTACAAAAAAATTGCCTTTAATTTGCTTTCAAATTTTCATTTTAAAGTATTGAGAACATTATTGTATAATAATCACCCATATATAATAAAAATCTGTAAAAGAACATCTGCATACTTACATTATTCCTACAGGCAGCCATGATGATAGCATAAGATCAAGTTACTCTGATGGATTTGTCAAAAATGACATCACAGTTCTTTTGGCGGTAATGTTTCATTCACGAGTGCAGAAAAGTTACTATGCATTGATACTGCATTTCATAAATAGTGTAGACAAGTAAAATGCTTCATGATGGACACACATAATATAGTCATGTACATTTAAAAAAA\r\n",
        ">scaffold23246\r\n"
       ]
      },
      {
       "output_type": "stream",
       "stream": "stdout",
       "text": [
        "GAATTGATTTGCCACAATTTTTTGTGTGGTCAATCTAAACTAGGTTCCTCAGCTCTGTTTCTAAATTAGCATTCTGTCCTTTTTCAGAATAAAATTTTGCACAACTAACCAGGATCTTGTTAACAATTTTGAGTTAAGTCTAAATATAAATTCAAAAAATCATTTAGAGTTATTAGTAACATGATATACTAGTGTAAGTCATTTTTTGAGAATTCCCAAATGTTCTTTCTGTTGAGTGAAGATACATGTAGGTCACGAATCTGGCACGTTTCCATTTTTTGTAAACTTGTAAAATAAAACATTTTAAAAATTTTTAAAGTAAAAAGGTGGCATTTACAAAATCTGTTTTTAGTTATAAAGAACAATCATATTTAAAATATATAAAAATGCTGTCTTTGGACTCCGAATAATATTCCAAATATATTGTCTGAAAGTTGGACAATTTTCTACTTCAAATATATTATAATACGTACGTGTATTTCCGAATCTGTAGTCTAGCAATGGGTTAACATTGTCACATAAAATTGCATGTTATGGGAAAAACCGGACATTCTATATTTTACTAAACTGTACGGTTGCTTCAACCCATATTGTTTAAAAGCAATGCGATTAAATCAAAGGAAAGCATGGTCAAATGGGAATTCAAATATATAAGTTAAAGAGGAAAAAACAAAACCATTTTATAAACTCGTATATATTTCACTATTAATGAAATAAAAAATAAGCAGTCTCACATGCCCACACACCCCATGACTTGGCAATGCTACACATTACAAATGGCAGAGTACCCTTTATATACCCTTAATAATAACATGGACATAACCACAAAAATCAAAGTACTGAAGTACTTAAACCCGGACTCTTTCGGTGTAATTATGCACATAGTGTAGTTAAATATTCTCTCTCTCTCTCTCTCTCTCTCTTATAATGCTTTGTAAAGAAGTTCATTGAATTAAGAAGAAATTAAACAATAGGAAATAAAAGGAAATTTTAAAAGTTCAGCATGATTCTAAGTTGCTCATGGCTACAGAAAAATGTATAAACTTACCTTTTGATGATGTAACGAAAGCACAGACTGCAAATGTAAAGATTACACCCTTCATTCTATATGAATGTCTATAACTAGGAAGACAGGCTATTTAAATACAAACCTGTTTATGTGATTTTATTTTTAGAAATAACTAAAGTTAGAGCAATACGCAAGTTAAACATGTGGGTGATAGAAATGCATGCAAAACACAGTTACGTCTCTTCAAGCCTTATCAGGCCTTCTCGGCAAAGTTTAGAAAGCATTTTAAATGCATCTGGCATATTCACTTGGTTTTACTTTCCACCTCTTGTATACTGACTGTTGTGATACATTGTACAGTTTAAAATTTAGATAAACTTTTCTTATTATTTGGACTTGATTTCATTTCCAAGAATAATTCTATCCTGTTTTGATTAGCACTGCATATTGAATATTTTCACAAAGTGTTTTATTGTTGCGCGTGTATCTATAGTCTGTTCCAAGTTACACTGACTTTTTTTAATGATTTTGAACAAAAACATGTATACACATATACGTATAACAATACAAGTAAAGTAATAAAGCAAACGTTATTGAAATTAATGATAAAAAAGTGCAAAGACTATTTGTAAAAATACATGTAATCATCAAAAGAACACTATACAGTATAGTCATATGCATAAAAAAAATCAATGGTGTTACTCGTTTATTCTGGAATCTGATATGTAAACTTAAAAAGTCATGAATGTTATAAAACTGTTGATTTTTATTGCTTGATTTTTAATTGGACGATAGTATTAACATGCATTATTACTCTGTTATGTTGAGTATTTATTTTATTTATTCATTTGGTCGAAATTTATCGGCATAATTTGTCGTTATTTTCAAATTTCTGGCGGCATTATTATTCAGTGTTTTAAAATGATTATCACATGACCAA\r\n"
       ]
      }
     ],
     "prompt_number": 29
    },
    {
     "cell_type": "code",
     "collapsed": false,
     "input": [
      "!/Users/sr320/Desktop/pl.pl /Volumes/web/cnidarian/oyster.v9.fa /Volumes/web/cnidarian/v9_multi"
     ],
     "language": "python",
     "metadata": {},
     "outputs": [
      {
       "output_type": "stream",
       "stream": "stdout",
       "text": [
        "\r\n",
        "  SplitMultiFasta\r\n",
        "  -------------------------------------------------\r\n",
        "  Splits multi fasta into single sequences\r\n",
        " \r\n",
        "  Usage:\r\n",
        "  splitMultiFasta.pl InputFile OutputDirectory\r\n",
        "  -------------------------------------------------\r\n"
       ]
      },
      {
       "output_type": "stream",
       "stream": "stdout",
       "text": [
        "^C\r\n"
       ]
      }
     ],
     "prompt_number": 34
    },
    {
     "cell_type": "code",
     "collapsed": false,
     "input": [
      "!java -jar /Users/sr320/Desktop/ap11_samifier-master/dist/samifier.jar \\\n",
      "-r /Volumes/web/oyster/bioinformatics/xml_files/interact-20120821_103B_251_QE_02.pep.mzid \\\n",
      "-m /Users/sr320/Desktop/103B_251_02_mappingfile.txt \\\n",
      "-g /Volumes/web/cnidarian/ets_v9_f.gff \\\n",
      "-c /Users/sr320/Desktop/multi_fasta \\\n",
      "-o /Users/sr320/Desktop/Cg_samifier_out20140220 \\\n",
      "-l /Users/sr320/Desktop/log_20140220 \\\n",
      "-b /Users/sr320/Desktop/Cg_20140220.bed "
     ],
     "language": "python",
     "metadata": {},
     "outputs": [
      {
       "output_type": "stream",
       "stream": "stdout",
       "text": [
        "Start document\r\n"
       ]
      },
      {
       "output_type": "stream",
       "stream": "stdout",
       "text": [
        "End document!\r\n",
        "Run exception thrown\r\n",
        "java.lang.NumberFormatException: null\r\n",
        "\tat java.lang.Integer.parseInt(Integer.java:454)\r\n",
        "\tat java.lang.Integer.parseInt(Integer.java:527)\r\n",
        "\tat au.org.intersect.samifier.parser.mzidentml.MzidReader.build(MzidReader.java:113)\r\n",
        "\tat au.org.intersect.samifier.parser.mzidentml.MzidReader.processEvidence(MzidReader.java:137)\r\n",
        "\tat au.org.intersect.samifier.parser.mzidentml.MzidReader.run(MzidReader.java:54)\r\n",
        "\tat au.org.intersect.samifier.parser.PeptideSearchResultsParserImpl.parseMascotPeptideSearchResultsMzidentMLFormat(PeptideSearchResultsParserImpl.java:129)\r\n",
        "\tat au.org.intersect.samifier.parser.PeptideSearchResultsParserImpl.parseResults(PeptideSearchResultsParserImpl.java:79)\r\n",
        "\tat au.org.intersect.samifier.parser.PeptideSearchResultsParserImpl.parseResults(PeptideSearchResultsParserImpl.java:56)\r\n",
        "\tat au.org.intersect.samifier.runner.SamifierRunner.run(SamifierRunner.java:90)\r\n",
        "\tat au.org.intersect.samifier.Samifier.main(Samifier.java:125)\r\n",
        "Version = 1.0.9\r\n",
        "java.lang.NullPointerException\r\n",
        "usage: samifier [-b <bedFile>] -c <chromosomeDir> -g <genomeFile> [-l\r\n",
        "       <logFile>] -m <mappingFile> -o <outputFile> -r <searchResultsFile>\r\n",
        "       [-s <Confidence Score thresold>]\r\n",
        " -b <bedFile>                     Filename to write IGV regions of\r\n",
        "                                  interest (BED) file to\r\n",
        " -c <chromosomeDir>               Directory containing the chromosome\r\n",
        "                                  files in FASTA format for the given\r\n",
        "                                  genome\r\n",
        " -g <genomeFile>                  Genome file in gff format\r\n",
        " -l <logFile>                     Filename to write the log into\r\n",
        " -m <mappingFile>                 File mapping protein identifier to\r\n",
        "                                  ordered locus name\r\n",
        " -o <outputFile>                  Filename to write the SAM format file to\r\n",
        " -r <searchResultsFile>           Mascot search results file in txt format\r\n",
        " -s <Confidence Score thresold>   Minimum confidence score for peptides to\r\n",
        "                                  be included\r\n",
        "java.lang.NullPointerException\r\n",
        "\tat java.util.ArrayList.addAll(ArrayList.java:559)\r\n",
        "\tat au.org.intersect.samifier.parser.PeptideSearchResultsParserImpl.parseResults(PeptideSearchResultsParserImpl.java:56)\r\n",
        "\tat au.org.intersect.samifier.runner.SamifierRunner.run(SamifierRunner.java:90)\r\n",
        "\tat au.org.intersect.samifier.Samifier.main(Samifier.java:125)\r\n"
       ]
      }
     ],
     "prompt_number": 63
    },
    {
     "cell_type": "heading",
     "level": 3,
     "metadata": {},
     "source": [
      "Lets Try Example Data"
     ]
    },
    {
     "cell_type": "markdown",
     "metadata": {},
     "source": [
      "    java -jar samifier.jar \\\n",
      "    -c cconcisus_ref/genome_dir \\\n",
      "    -r Mascot_Result/Glimmer/F188715.dat \\\n",
      "    -g pipeline_glimmer.gff \\\n",
      "    -m pipeline_glimmer.accession \\\n",
      "    -l pipeline_glimmer.log \\\n",
      "    -o pipeline_glimmer.sam \\\n",
      "    -b pipeline_glimmer.bed"
     ]
    },
    {
     "cell_type": "code",
     "collapsed": false,
     "input": [
      "!java -jar /Users/sr320/Desktop/ap11_samifier-master/dist/samifier.jar \\\n",
      "-c /Users/sr320/Desktop/wiki_test_cases/cconcisus_ref/genome_dir \\\n",
      "-r /Users/sr320/Desktop/wiki_test_cases/Mascot_Result/Glimmer/F188715.dat \\\n",
      "-g /Users/sr320/Desktop/wiki_test_cases/pipeline_glimmer.gff \\\n",
      "-m /Users/sr320/Desktop/wiki_test_cases/pipeline_glimmer.accession \\\n",
      "-l /Users/sr320/Desktop/pipeline_glimmer.log \\\n",
      "-o /Users/sr320/Desktop/pipeline_glimmer.sam \\\n",
      "-b /Users/sr320/Desktop/pipeline_glimmer.bed"
     ],
     "language": "python",
     "metadata": {},
     "outputs": [],
     "prompt_number": 38
    },
    {
     "cell_type": "code",
     "collapsed": false,
     "input": [
      "!head /Users/sr320/Desktop/wiki_test_cases/pipeline_glimmer.accession"
     ],
     "language": "python",
     "metadata": {},
     "outputs": [
      {
       "output_type": "stream",
       "stream": "stdout",
       "text": [
        "orf00002 orf00002 orf00002\r\n",
        "orf00003 orf00003 orf00003\r\n",
        "orf00004 orf00004 orf00004\r\n",
        "orf00005 orf00005 orf00005\r\n",
        "orf00006 orf00006 orf00006\r\n",
        "orf00007 orf00007 orf00007\r\n",
        "orf00008 orf00008 orf00008\r\n",
        "orf00009 orf00009 orf00009\r\n",
        "orf00011 orf00011 orf00011\r\n",
        "orf00012 orf00012 orf00012\r\n"
       ]
      }
     ],
     "prompt_number": 64
    },
    {
     "cell_type": "code",
     "collapsed": false,
     "input": [
      "!head 103B_251_02_mappingfile.txt"
     ],
     "language": "python",
     "metadata": {},
     "outputs": [
      {
       "output_type": "stream",
       "stream": "stdout",
       "text": [
        "CGI_10000050\tCGI_10000050\tCGI_10000050\r\n",
        "CGI_10000055\tCGI_10000055\tCGI_10000055\r\n",
        "CGI_10000067\tCGI_10000067\tCGI_10000067\r\n",
        "CGI_10000075\tCGI_10000075\tCGI_10000075\r\n",
        "CGI_10000077\tCGI_10000077\tCGI_10000077\r\n",
        "CGI_10000174\tCGI_10000174\tCGI_10000174\r\n",
        "CGI_10000235\tCGI_10000235\tCGI_10000235\r\n",
        "CGI_10000237\tCGI_10000237\tCGI_10000237\r\n",
        "CGI_10000384\tCGI_10000384\tCGI_10000384\r\n",
        "CGI_10000492\tCGI_10000492\tCGI_10000492\r\n"
       ]
      }
     ],
     "prompt_number": 62
    },
    {
     "cell_type": "heading",
     "level": 3,
     "metadata": {},
     "source": [
      "Likely -r file ( Mascot search results file in txt format ) is wrong format"
     ]
    },
    {
     "cell_type": "code",
     "collapsed": false,
     "input": [
      "!head -50 /Volumes/web/oyster/bioinformatics/xml_files/interact-20120821_103B_251_QE_02.pep.mzid"
     ],
     "language": "python",
     "metadata": {},
     "outputs": [
      {
       "output_type": "stream",
       "stream": "stdout",
       "text": [
        "<?xml version=\"1.0\" encoding=\"ISO-8859-1\"?>\r\n",
        "<MzIdentML id=\"\" creationDate=\"2012-09-20T03:13:18\" version=\"1.1.0\" xsi:schemaLocation=\"http://psidev.info/psi/pi/mzIdentML/1.1 http://psidev.info/files/mzIdentML1.1.0.xsd\" xmlns=\"http://psidev.info/psi/pi/mzIdentML/1.1\" xmlns:xsi=\"http://www.w3.org/2001/XMLSchema-instance\">\r\n",
        "  <cvList>\r\n",
        "    <cv id=\"MS\" fullName=\"Proteomics Standards Initiative Mass Spectrometry Ontology\" version=\"3.53.0\" uri=\"http://psidev.cvs.sourceforge.net/*checkout*/psidev/psi/psi-ms/mzML/controlledVocabulary/psi-ms.obo\"/>\r\n",
        "    <cv id=\"UNIMOD\" fullName=\"UNIMOD\" version=\"2013-05-31\" uri=\"http://www.unimod.org/obo/unimod.obo\"/>\r\n",
        "    <cv id=\"UO\" fullName=\"Unit Ontology\" version=\"12:10:2011\" uri=\"http://obo.cvs.sourceforge.net/*checkout*/obo/obo/ontology/phenotype/unit.obo\"/>\r\n",
        "  </cvList>\r\n",
        "  <AnalysisSoftwareList>\r\n",
        "    <AnalysisSoftware id=\"AS_peptideprophet_\" name=\"peptideprophet\">\r\n",
        "      <SoftwareName><cvParam cvRef=\"MS\" accession=\"MS:1001456\" name=\"analysis software\" value=\"peptideprophet\"/></SoftwareName>\r\n",
        "    </AnalysisSoftware>\r\n",
        "    <AnalysisSoftware id=\"AS_database_refresh_\" name=\"database_refresh\">\r\n",
        "      <SoftwareName><cvParam cvRef=\"MS\" accession=\"MS:1001456\" name=\"analysis software\" value=\"database_refresh\"/></SoftwareName>\r\n",
        "    </AnalysisSoftware>\r\n",
        "    <AnalysisSoftware id=\"AS_interact_\" name=\"interact\">\r\n",
        "      <SoftwareName><cvParam cvRef=\"MS\" accession=\"MS:1001456\" name=\"analysis software\" value=\"interact\"/></SoftwareName>\r\n",
        "    </AnalysisSoftware>\r\n",
        "    <AnalysisSoftware id=\"AS_Sequest\" name=\"Sequest\">\r\n",
        "      <SoftwareName><cvParam cvRef=\"MS\" accession=\"MS:1001208\" name=\"SEQUEST\" value=\"\"/></SoftwareName>\r\n",
        "    </AnalysisSoftware>\r\n",
        "    <AnalysisSoftware id=\"pwiz_3.0.5519\" name=\"ProteoWizard MzIdentML\" version=\"3.0.5519\">\r\n",
        "      <ContactRole contact_ref=\"ORG_PWIZ\">\r\n",
        "        <Role><cvParam cvRef=\"MS\" accession=\"MS:1001267\" name=\"software vendor\" value=\"\"/></Role>\r\n",
        "      </ContactRole>\r\n",
        "      <SoftwareName><cvParam cvRef=\"MS\" accession=\"MS:1000615\" name=\"ProteoWizard software\" value=\"\"/></SoftwareName>\r\n",
        "    </AnalysisSoftware>\r\n",
        "  </AnalysisSoftwareList>\r\n",
        "  <AuditCollection>\r\n",
        "    <Organization id=\"ORG_PWIZ\" name=\"ProteoWizard\">\r\n",
        "      <cvParam cvRef=\"MS\" accession=\"MS:1000589\" name=\"contact email\" value=\"support@proteowizard.org\"/>\r\n",
        "    </Organization>\r\n",
        "  </AuditCollection>\r\n",
        "  <SequenceCollection>\r\n",
        "    <DBSequence id=\"DBSeq_CGI_10027476\" accession=\"CGI_10027476\" searchDatabase_ref=\"oyster.v9.glean.final.rename.gff.pep\"/>\r\n",
        "    <DBSequence id=\"DBSeq_CGI_10022468\" accession=\"CGI_10022468\" searchDatabase_ref=\"oyster.v9.glean.final.rename.gff.pep\"/>\r\n",
        "    <DBSequence id=\"DBSeq_CGI_10008057\" accession=\"CGI_10008057\" searchDatabase_ref=\"oyster.v9.glean.final.rename.gff.pep\"/>\r\n",
        "    <DBSequence id=\"DBSeq_CGI_10008062\" accession=\"CGI_10008062\" searchDatabase_ref=\"oyster.v9.glean.final.rename.gff.pep\"/>\r\n",
        "    <DBSequence id=\"DBSeq_CGI_10008068\" accession=\"CGI_10008068\" searchDatabase_ref=\"oyster.v9.glean.final.rename.gff.pep\"/>\r\n",
        "    <DBSequence id=\"DBSeq_CGI_10008073\" accession=\"CGI_10008073\" searchDatabase_ref=\"oyster.v9.glean.final.rename.gff.pep\"/>\r\n",
        "    <DBSequence id=\"DBSeq_CGI_10008078\" accession=\"CGI_10008078\" searchDatabase_ref=\"oyster.v9.glean.final.rename.gff.pep\"/>\r\n",
        "    <DBSequence id=\"DBSeq_CGI_10008083\" accession=\"CGI_10008083\" searchDatabase_ref=\"oyster.v9.glean.final.rename.gff.pep\"/>\r\n",
        "    <DBSequence id=\"DBSeq_CGI_10011811\" accession=\"CGI_10011811\" searchDatabase_ref=\"oyster.v9.glean.final.rename.gff.pep\"/>\r\n",
        "    <DBSequence id=\"DBSeq_CGI_10028133\" accession=\"CGI_10028133\" searchDatabase_ref=\"oyster.v9.glean.final.rename.gff.pep\"/>\r\n",
        "    <DBSequence id=\"DBSeq_CGI_10014966\" accession=\"CGI_10014966\" searchDatabase_ref=\"oyster.v9.glean.final.rename.gff.pep\"/>\r\n",
        "    <DBSequence id=\"DBSeq_CGI_10024399\" accession=\"CGI_10024399\" searchDatabase_ref=\"oyster.v9.glean.final.rename.gff.pep\"/>\r\n",
        "    <DBSequence id=\"DBSeq_CGI_10020326\" accession=\"CGI_10020326\" searchDatabase_ref=\"oyster.v9.glean.final.rename.gff.pep\"/>\r\n",
        "    <DBSequence id=\"DBSeq_CGI_10024572\" accession=\"CGI_10024572\" searchDatabase_ref=\"oyster.v9.glean.final.rename.gff.pep\"/>\r\n"
       ]
      },
      {
       "output_type": "stream",
       "stream": "stdout",
       "text": [
        "    <DBSequence id=\"DBSeq_CGI_10024579\" accession=\"CGI_10024579\" searchDatabase_ref=\"oyster.v9.glean.final.rename.gff.pep\"/>\r\n",
        "    <DBSequence id=\"DBSeq_CGI_10021674\" accession=\"CGI_10021674\" searchDatabase_ref=\"oyster.v9.glean.final.rename.gff.pep\"/>\r\n",
        "    <DBSequence id=\"DBSeq_CGI_10003490\" accession=\"CGI_10003490\" searchDatabase_ref=\"oyster.v9.glean.final.rename.gff.pep\"/>\r\n"
       ]
      }
     ],
     "prompt_number": 48
    },
    {
     "cell_type": "code",
     "collapsed": false,
     "input": [
      "!head -50 /Users/sr320/Desktop/wiki_test_cases/Mascot_Result/Glimmer/F188715.dat"
     ],
     "language": "python",
     "metadata": {},
     "outputs": [
      {
       "output_type": "stream",
       "stream": "stdout",
       "text": [
        "MIME-Version: 1.0 (Generated by Mascot version 1.0)\r\n",
        "Content-Type: multipart/mixed; boundary=gc0p4Jq0M2Yt08jU534c0p\r\n",
        "\r\n",
        "--gc0p4Jq0M2Yt08jU534c0p\r\n",
        "Content-Type: application/x-Mascot; name=\"parameters\"\r\n",
        "\r\n",
        "LICENSE=Licensed to: Australian Proteomics Computational Facility, (51 processors).\r\n",
        "MP=\r\n",
        "NM=\r\n",
        "COM=Submitted from Test virtual protein by Mascot Daemon on WIN-V0L2R2U0DVL\r\n",
        "IATOL=\r\n",
        "IA2TOL=\r\n",
        "IASTOL=\r\n",
        "IBTOL=\r\n",
        "IB2TOL=\r\n",
        "IBSTOL=\r\n",
        "IYTOL=\r\n",
        "IY2TOL=\r\n",
        "IYSTOL=\r\n",
        "SEG=\r\n",
        "SEGT=\r\n",
        "SEGTU=\r\n",
        "LTOL=\r\n",
        "TOL=4\r\n",
        "TOLU=ppm\r\n",
        "ITH=\r\n",
        "ITOL=0.4\r\n",
        "ITOLU=Da\r\n",
        "PFA=1\r\n",
        "DB=contaminants\r\n",
        "DB2=Campylobacter_PR\r\n",
        "MODS=\r\n",
        "MASS=Monoisotopic\r\n",
        "CLE=Trypsin\r\n",
        "FILE=C:\\Users\\ignatius\\Documents\\PostDoc\\2012\\ANDS data integration project\\Sample Data\\Cconcisus Reference proteome\\RawSpectra\\BAA-1457 Reference\\mzML\\Nadeem_29_7_10_1.mzML\r\n",
        "PEAK=\r\n",
        "QUE=\r\n",
        "TWO=\r\n",
        "SEARCH=MIS\r\n",
        "USERNAME=Carlos Aya\r\n",
        "USEREMAIL=carlos@intersect.org.au\r\n",
        "CHARGE=2+ and 3+\r\n",
        "INTERMEDIATE=\r\n",
        "REPORT=AUTO\r\n",
        "OVERVIEW=\r\n",
        "FORMAT=mzML (.mzML)\r\n",
        "FORMVER=1.01\r\n",
        "FRAG=\r\n",
        "IT_MODS=Carbamidomethyl (C),Oxidation (M)\r\n",
        "USER00=\r\n"
       ]
      }
     ],
     "prompt_number": 41
    },
    {
     "cell_type": "code",
     "collapsed": false,
     "input": [
      "!head /Users/sr320/Desktop/wiki_test_cases/pipeline_glimmer.accession"
     ],
     "language": "python",
     "metadata": {},
     "outputs": [
      {
       "output_type": "stream",
       "stream": "stdout",
       "text": [
        "orf00002 orf00002 orf00002\r\n",
        "orf00003 orf00003 orf00003\r\n",
        "orf00004 orf00004 orf00004\r\n",
        "orf00005 orf00005 orf00005\r\n",
        "orf00006 orf00006 orf00006\r\n",
        "orf00007 orf00007 orf00007\r\n",
        "orf00008 orf00008 orf00008\r\n",
        "orf00009 orf00009 orf00009\r\n",
        "orf00011 orf00011 orf00011\r\n",
        "orf00012 orf00012 orf00012\r\n"
       ]
      }
     ],
     "prompt_number": 47
    },
    {
     "cell_type": "code",
     "collapsed": false,
     "input": [],
     "language": "python",
     "metadata": {},
     "outputs": []
    },
    {
     "cell_type": "code",
     "collapsed": false,
     "input": [],
     "language": "python",
     "metadata": {},
     "outputs": []
    },
    {
     "cell_type": "code",
     "collapsed": false,
     "input": [
      "!java -jar /Users/sr320/Desktop/ap11_samifier-master/dist/samifier.jar \\\n",
      "-c /Users/sr320/Desktop/wiki_test_cases/cconcisus_ref/genome_dir \\\n",
      "-r /Users/sr320/Desktop/wiki_test_cases/Mascot_Result/Glimmer/F188715.dat \\\n",
      "-g /Users/sr320/Desktop/wiki_test_cases/pipeline_glimmer.gff \\\n",
      "-m /Users/sr320/Desktop/wiki_test_cases/pipeline_glimmer.accession \\\n",
      "-l /Users/sr320/Desktop/pipeline_glimmer.log \\\n",
      "-o /Users/sr320/Desktop/pipeline_glimmer.sam \\\n",
      "-b /Users/sr320/Desktop/pipeline_glimmer.bed"
     ],
     "language": "python",
     "metadata": {},
     "outputs": []
    }
   ],
   "metadata": {}
  }
 ]
}