{
 "metadata": {
  "name": "",
  "signature": "sha256:50305bb38504711d82ec77fd1cec7dc1caf7833ce1c2c77941eeed182e77eb50"
 },
 "nbformat": 3,
 "nbformat_minor": 0,
 "worksheets": [
  {
   "cells": [
    {
     "cell_type": "code",
     "collapsed": false,
     "input": [],
     "language": "python",
     "metadata": {},
     "outputs": []
    }
   ],
   "metadata": {}
  }
 ]
}