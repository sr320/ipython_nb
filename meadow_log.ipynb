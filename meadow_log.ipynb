{
 "metadata": {
  "name": ""
 },
 "nbformat": 3,
 "nbformat_minor": 0,
 "worksheets": [
  {
   "cells": [
    {
     "cell_type": "code",
     "collapsed": false,
     "input": [
      "!ils"
     ],
     "language": "python",
     "metadata": {},
     "outputs": [
      {
       "output_type": "stream",
       "stream": "stdout",
       "text": [
        "/iplant/home/sr320:\r\n"
       ]
      },
      {
       "output_type": "stream",
       "stream": "stdout",
       "text": [
        "  Galaxy10-[Cut_on_data_7].tabular\r\n",
        "  SPID_and_GO_number.tabular\r\n"
       ]
      },
      {
       "output_type": "stream",
       "stream": "stdout",
       "text": [
        "  C- /iplant/home/sr320/AltSplice\r\n",
        "  C- /iplant/home/sr320/analyses\r\n",
        "  C- /iplant/home/sr320/bamout\r\n",
        "  C- /iplant/home/sr320/BiGo_larvae\r\n",
        "  C- /iplant/home/sr320/bisque_data\r\n",
        "  C- /iplant/home/sr320/Black_Abalone\r\n",
        "  C- /iplant/home/sr320/cacheServiceTempDir\r\n",
        "  C- /iplant/home/sr320/ce\r\n",
        "  C- /iplant/home/sr320/Cgigas_v9\r\n",
        "  C- /iplant/home/sr320/coge_data\r\n",
        "  C- /iplant/home/sr320/fish546\r\n",
        "  C- /iplant/home/sr320/iplant_ws\r\n",
        "  C- /iplant/home/sr320/labshare\r\n",
        "  C- /iplant/home/sr320/meadow\r\n",
        "  C- /iplant/home/sr320/OlympiaOyster\r\n",
        "  C- /iplant/home/sr320/OlyO_PacBio\r\n",
        "  C- /iplant/home/sr320/OlyO_SNPhunt\r\n",
        "  C- /iplant/home/sr320/qdod\r\n"
       ]
      }
     ],
     "prompt_number": 1
    },
    {
     "cell_type": "code",
     "collapsed": false,
     "input": [
      "!icd meadow"
     ],
     "language": "python",
     "metadata": {},
     "outputs": [],
     "prompt_number": 2
    },
    {
     "cell_type": "code",
     "collapsed": false,
     "input": [
      "!ils"
     ],
     "language": "python",
     "metadata": {},
     "outputs": [
      {
       "output_type": "stream",
       "stream": "stdout",
       "text": [
        "/iplant/home/sr320/meadow:\r\n"
       ]
      },
      {
       "output_type": "stream",
       "stream": "stdout",
       "text": [
        "  filtered_106A_Male_Mix_TAGCTT_L004_R1.fastq.gz\r\n",
        "  filtered_106A_Male_Mix_TAGCTT_L004_R2.fastq.gz\r\n",
        "  filtered_108A_Male_Mix_AGTCAA_L004_R1.fastq.gz\r\n",
        "  filtered_108A_Male_Mix_AGTCAA_L004_R2.fastq.gz\r\n",
        "  Ol_Femalemix_106a.fastq.gz\r\n",
        "  Ol_Femalemix_106A_R1.fastq.gz\r\n",
        "  Ol_Femalemix_106A_R2.fastq.gz\r\n",
        "  Ol_Femalemix_108a.fastq.gz\r\n",
        "  Ol_Femalemix_108A_R1.fastq.gz\r\n",
        "  Ol_Femalemix_108A_R2.fastq.gz\r\n",
        "  Ol_larv_1000_2.fastq.gz\r\n",
        "  Ol_larv_1600_2.fastq.gz\r\n",
        "  Ol_larv_2000_1.fastq.gz\r\n",
        "  Ol_larv_2200_2.fastq.gz\r\n",
        "  Ol_larv_400_1.fastq.gz\r\n",
        "  Ol_larv_400_2.fastq.gz\r\n",
        "  Ol_Malemix_106a.fastq.gz\r\n",
        "  Ol_Malemix_108a.fastq.gz\r\n"
       ]
      }
     ],
     "prompt_number": 3
    },
    {
     "cell_type": "code",
     "collapsed": false,
     "input": [
      "!imv filtered_108A_Male_Mix_AGTCAA_L004_R2.fastq.gz Ol_Malemix_108A_R2.fastq.gz"
     ],
     "language": "python",
     "metadata": {},
     "outputs": [],
     "prompt_number": 4
    },
    {
     "cell_type": "code",
     "collapsed": false,
     "input": [
      "!imv filtered_108A_Male_Mix_AGTCAA_L004_R1.fastq.gz Ol_Malemix_108A_R1.fastq.gz"
     ],
     "language": "python",
     "metadata": {},
     "outputs": [],
     "prompt_number": 5
    },
    {
     "cell_type": "code",
     "collapsed": false,
     "input": [
      "!imv filtered_106A_Male_Mix_TAGCTT_L004_R1.fastq.gz Ol_Malemix_106A_R1.fastq.gz\n",
      "  "
     ],
     "language": "python",
     "metadata": {},
     "outputs": [],
     "prompt_number": 7
    },
    {
     "cell_type": "code",
     "collapsed": false,
     "input": [
      "!imv filtered_106A_Male_Mix_TAGCTT_L004_R2.fastq.gz Ol_Malemix_106A_R2.fastq.gz"
     ],
     "language": "python",
     "metadata": {},
     "outputs": [],
     "prompt_number": 8
    },
    {
     "cell_type": "code",
     "collapsed": false,
     "input": [],
     "language": "python",
     "metadata": {},
     "outputs": [],
     "prompt_number": 10
    },
    {
     "cell_type": "code",
     "collapsed": false,
     "input": [],
     "language": "python",
     "metadata": {},
     "outputs": []
    }
   ],
   "metadata": {}
  }
 ]
}