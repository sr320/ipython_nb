{
 "metadata": {
  "name": ""
 },
 "nbformat": 3,
 "nbformat_minor": 0,
 "worksheets": [
  {
   "cells": [
    {
     "cell_type": "heading",
     "level": 1,
     "metadata": {},
     "source": [
      "Redux on data QC"
     ]
    },
    {
     "cell_type": "code",
     "collapsed": false,
     "input": [
      "!date"
     ],
     "language": "python",
     "metadata": {},
     "outputs": [
      {
       "output_type": "stream",
       "stream": "stdout",
       "text": [
        "Wed Mar  5 13:59:56 PST 2014\r\n"
       ]
      }
     ],
     "prompt_number": 7
    },
    {
     "cell_type": "markdown",
     "metadata": {},
     "source": [
      "<img src=\"http://eagle.fish.washington.edu/cnidarian/skitch/Directory_Listing_of__trilobite_Crassostrea_gigas_HTSdata_batterbox_FCC39KL__18C7CFBC.png\" alt=\"Directory_Listing_of__trilobite_Crassostrea_gigas_HTSdata_batterbox_FCC39KL__18C7CFBC_png\"/>"
     ]
    },
    {
     "cell_type": "markdown",
     "metadata": {},
     "source": [
      "<img src=\"http://eagle.fish.washington.edu/cnidarian/skitch/Directory_Listing_of__trilobite_Crassostrea_gigas_HTSdata_batterbox_FCC39KL_Sample_Y38_control__18C7D022.png\" alt=\"Directory_Listing_of__trilobite_Crassostrea_gigas_HTSdata_batterbox_FCC39KL_Sample_Y38_control__18C7D022_png\"/>"
     ]
    },
    {
     "cell_type": "markdown",
     "metadata": {},
     "source": [
      "<img src=\"http://eagle.fish.washington.edu/cnidarian/skitch/Y38_control_GTGAAA_L005_R1_001_fastq_gz_FastQC_Report_18C7D045.png\" alt=\"Y38_control_GTGAAA_L005_R1_001_fastq_gz_FastQC_Report_18C7D045_png\"/>"
     ]
    },
    {
     "cell_type": "markdown",
     "metadata": {},
     "source": [
      "<img src=\"http://eagle.fish.washington.edu/cnidarian/skitch/Y54_Mix_GTGGCC_L005_R1_fastq_gz_FastQC_Report_18C7D07C.png\" alt=\"Y54_Mix_GTGGCC_L005_R1_fastq_gz_FastQC_Report_18C7D07C_png\"/>"
     ]
    },
    {
     "cell_type": "markdown",
     "metadata": {},
     "source": [
      "\n",
      "<img src=\"http://eagle.fish.washington.edu/cnidarian/skitch/Index_of__UW_White_FCC2M5D_Project_White_18C7D302.png\" alt=\"Index_of__UW_White_FCC2M5D_Project_White_18C7D302_png\"/>"
     ]
    },
    {
     "cell_type": "markdown",
     "metadata": {},
     "source": [
      "<img src=\"http://eagle.fish.washington.edu/cnidarian/skitch/Samples_of_Yanouk_-_roberts_sbr_gmail_com_-_Gmail_18C7D582.png\" alt=\"Samples_of_Yanouk_-_roberts_sbr_gmail_com_-_Gmail_18C7D582_png\"/>"
     ]
    },
    {
     "cell_type": "heading",
     "level": 2,
     "metadata": {},
     "source": [
      "Point- Controls are low- November run only one filtered data set was produced."
     ]
    },
    {
     "cell_type": "code",
     "collapsed": false,
     "input": [],
     "language": "python",
     "metadata": {},
     "outputs": []
    },
    {
     "cell_type": "code",
     "collapsed": false,
     "input": [
      "!python methratio.py -d /Volumes/Monarch/cnidary/oyster.v9.fa -z -u -g -o /Volumes/Monarch/cnidary/EY_mixmethratio.txt -s /Applications/bsmap-2.74/samtools /Volumes/Monarch/cnidary/EY_Mixbsmapoutput.sam"
     ],
     "language": "python",
     "metadata": {},
     "outputs": [
      {
       "output_type": "stream",
       "stream": "stdout",
       "text": [
        "@ Wed Nov 13 03:47:15 2013: reading reference /Volumes/Monarch/cnidary/oyster.v9.fa ...\r\n"
       ]
      },
      {
       "output_type": "stream",
       "stream": "stdout",
       "text": [
        "@ Wed Nov 13 03:48:03 2013: reading /Volumes/Monarch/cnidary/EY_Mixbsmapoutput.sam ...\r\n"
       ]
      },
      {
       "output_type": "stream",
       "stream": "stdout",
       "text": [
        "sh: /Applications/bsmap-2.74/samtools/samtools: No such file or directory\r\n",
        "@ Wed Nov 13 03:48:03 2013: combining CpG methylation from both strands ...\r\n"
       ]
      },
      {
       "output_type": "stream",
       "stream": "stdout",
       "text": [
        "@ Wed Nov 13 03:49:05 2013: writing /Volumes/Monarch/cnidary/EY_mixmethratio.txt ...\r\n"
       ]
      },
      {
       "output_type": "stream",
       "stream": "stdout",
       "text": [
        "@ Wed Nov 13 03:51:30 2013: done.\r\n"
       ]
      }
     ],
     "prompt_number": 21
    },
    {
     "cell_type": "code",
     "collapsed": false,
     "input": [
      "!head /Volumes/Monarch/cnidary/EY_mixmethratio.txt "
     ],
     "language": "python",
     "metadata": {},
     "outputs": [
      {
       "output_type": "stream",
       "stream": "stdout",
       "text": [
        "chr\tpos\tstrand\tcontext\tratio\teff_CT_count\tC_count\tCT_count\trev_G_count\trev_GA_count\tCI_lower\tCI_upper\r\n"
       ]
      }
     ],
     "prompt_number": 22
    },
    {
     "cell_type": "code",
     "collapsed": false,
     "input": [
      "!python methratio.py -d /Volumes/Monarch/cnidary/oyster.v9.fa -z -u -g -o /Volumes/Monarch/cnidary/EY_mixmethratio_2.txt -s /Applications/bsmap-2.74/ /Volumes/Monarch/cnidary/EY_Mixbsmapoutput.sam"
     ],
     "language": "python",
     "metadata": {},
     "outputs": [
      {
       "output_type": "stream",
       "stream": "stdout",
       "text": [
        "@ Wed Nov 13 03:51:42 2013: reading reference /Volumes/Monarch/cnidary/oyster.v9.fa ...\r\n"
       ]
      },
      {
       "output_type": "stream",
       "stream": "stdout",
       "text": [
        "@ Wed Nov 13 03:52:30 2013: reading /Volumes/Monarch/cnidary/EY_Mixbsmapoutput.sam ...\r\n"
       ]
      },
      {
       "output_type": "stream",
       "stream": "stdout",
       "text": [
        "sh: /Applications/bsmap-2.74/samtools: is a directory\r\n",
        "@ Wed Nov 13 03:52:30 2013: combining CpG methylation from both strands ...\r\n"
       ]
      },
      {
       "output_type": "stream",
       "stream": "stdout",
       "text": [
        "@ Wed Nov 13 03:53:35 2013: writing /Volumes/Monarch/cnidary/EY_mixmethratio_2.txt ...\r\n"
       ]
      },
      {
       "output_type": "stream",
       "stream": "stdout",
       "text": [
        "@ Wed Nov 13 03:56:01 2013: done.\r\n"
       ]
      }
     ],
     "prompt_number": 23
    },
    {
     "cell_type": "code",
     "collapsed": false,
     "input": [
      "#greenbird\n",
      "!python /Volumes/Bay3/Software/BSMAP/bsmap-2.74/methratio.py -d /Volumes/web/cnidarian/oyster.v9.fa -z -u -g -o /Volumes/web/cnidarian/EY_mixmethratio_3.txt -s /Volumes/Bay3/Software/BSMAP/bsmap-2.73/samtools /Volumes/web/scaphapoda/Yanouk/Mixbsmapoutput.sam"
     ],
     "language": "python",
     "metadata": {},
     "outputs": [
      {
       "output_type": "stream",
       "stream": "stdout",
       "text": [
        "@ Wed Nov 13 04:07:28 2013: reading reference /Volumes/web/cnidarian/oyster.v9.fa ...\r\n"
       ]
      },
      {
       "output_type": "stream",
       "stream": "stdout",
       "text": [
        "@ Wed Nov 13 04:08:37 2013: reading /Volumes/web/scaphapoda/Yanouk/Mixbsmapoutput.sam ...\r\n"
       ]
      },
      {
       "output_type": "stream",
       "stream": "stdout",
       "text": [
        "[samopen] SAM header is present: 11969 sequences.\r\n"
       ]
      },
      {
       "output_type": "stream",
       "stream": "stdout",
       "text": [
        "@ Wed Nov 13 04:14:44 2013: combining CpG methylation from both strands ...\r\n"
       ]
      },
      {
       "output_type": "stream",
       "stream": "stdout",
       "text": [
        "@ Wed Nov 13 04:15:56 2013: writing /Volumes/web/cnidarian/EY_mixmethratio_3.txt ...\r\n"
       ]
      },
      {
       "output_type": "stream",
       "stream": "stdout",
       "text": [
        "@ Wed Nov 13 04:22:10 2013: done.\r\n",
        "total 3279697 valid mappings, 16154541 covered cytosines, average coverage: 1.19 fold.\r\n"
       ]
      }
     ],
     "prompt_number": 2
    },
    {
     "cell_type": "code",
     "collapsed": false,
     "input": [
      "!head /Volumes/web/cnidarian/EY_mixmethratio_3.txt"
     ],
     "language": "python",
     "metadata": {},
     "outputs": [
      {
       "output_type": "stream",
       "stream": "stdout",
       "text": [
        "chr\tpos\tstrand\tcontext\tratio\teff_CT_count\tC_count\tCT_count\trev_G_count\trev_GA_count\tCI_lower\tCI_upper\r\n",
        "C10005\t102\t+\tGTCTC\t0.000\t1.00\t0\t1\t0\t0\t0.000\t0.793\r\n",
        "C10005\t104\t+\tCTCAA\t0.000\t1.00\t0\t1\t0\t0\t0.000\t0.793\r\n",
        "C10005\t117\t+\tGACTT\t0.000\t1.00\t0\t1\t0\t0\t0.000\t0.793\r\n",
        "C10007\t45\t-\tCAGAG\t0.000\t1.00\t0\t1\t0\t0\t0.000\t0.793\r\n",
        "C10007\t47\t-\tGAGCT\t0.000\t1.00\t0\t1\t0\t0\t0.000\t0.793\r\n",
        "C10007\t56\t-\tAAGCA\t0.000\t1.00\t0\t1\t0\t0\t0.000\t0.793\r\n",
        "C10007\t66\t+\tCCCGG\t0.000\t1.00\t0\t1\t1\t1\t0.000\t0.793\r\n",
        "C10007\t68\t-\tCGGAG\t0.000\t1.00\t0\t1\t0\t0\t0.000\t0.793\r\n",
        "C10007\t70\t-\tGAGTT\t0.000\t1.00\t0\t1\t0\t0\t0.000\t0.793\r\n"
       ]
      }
     ],
     "prompt_number": 3
    },
    {
     "cell_type": "code",
     "collapsed": false,
     "input": [
      "!wc /Volumes/web/cnidarian/EY_mixmethratio_3.txt"
     ],
     "language": "python",
     "metadata": {},
     "outputs": [
      {
       "output_type": "stream",
       "stream": "stdout",
       "text": [
        " 16154542 193854471 939011992 /Volumes/web/cnidarian/EY_mixmethratio_3.txt\r\n"
       ]
      }
     ],
     "prompt_number": 4
    },
    {
     "cell_type": "code",
     "collapsed": false,
     "input": [],
     "language": "python",
     "metadata": {},
     "outputs": []
    }
   ],
   "metadata": {}
  }
 ]
}