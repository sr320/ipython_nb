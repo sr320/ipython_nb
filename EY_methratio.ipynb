{
 "metadata": {
  "name": ""
 },
 "nbformat": 3,
 "nbformat_minor": 0,
 "worksheets": [
  {
   "cells": [
    {
     "cell_type": "code",
     "collapsed": false,
     "input": [
      "!python methratio.py -h"
     ],
     "language": "python",
     "metadata": {},
     "outputs": [
      {
       "output_type": "stream",
       "stream": "stdout",
       "text": [
        "Usage: methratio.py [options] BSMAP_MAPPING_FILES\r\n",
        "\r\n",
        "Options:\r\n",
        "  -h, --help            show this help\r\n",
        "                        message and exit\r\n",
        "  -o FILE, --out=FILE   output file name.\r\n",
        "                        (required)\r\n",
        "  -d FILE, --ref=FILE   reference genome\r\n",
        "                        fasta file.\r\n",
        "                        (required)\r\n",
        "  -c CHR, --chr=CHR     process only\r\n",
        "                        specified\r\n",
        "                        chromosomes,\r\n",
        "                        separated by ','.\r\n",
        "                        [default: all]\r\n",
        "                        example: --chroms\r\n",
        "                        =chr1,chr2\r\n",
        "  -s PATH, --sam-path=PATH\r\n",
        "                        path to samtools.\r\n",
        "                        [default: none]\r\n",
        "  -u, --unique          process only\r\n",
        "                        unique\r\n",
        "                        mappings/pairs.\r\n",
        "  -p, --pair            process only\r\n",
        "                        properly paired\r\n",
        "                        mappings.\r\n",
        "  -z, --zero-meth       report loci with\r\n",
        "                        zero methylation\r\n",
        "                        ratios.\r\n",
        "  -q, --quiet           don't print\r\n",
        "                        progress on\r\n",
        "                        stderr.\r\n",
        "  -r, --remove-duplicate\r\n",
        "                        remove duplicated\r\n",
        "                        reads.\r\n",
        "  -t N, --trim-fillin=N\r\n",
        "                        trim N end-\r\n",
        "                        repairing fill-in\r\n",
        "                        nucleotides.\r\n",
        "                        [default: 2]\r\n",
        "  -g, --combine-CpG     combine CpG\r\n",
        "                        methylaion ratios\r\n",
        "                        on both strands.\r\n",
        "  -m FOLD, --min-depth=FOLD\r\n",
        "                        report loci with\r\n",
        "                        sequencing\r\n",
        "                        depth>=FOLD.\r\n",
        "                        [default: 1]\r\n",
        "  -n, --no-header       don't print a\r\n",
        "                        header line\r\n",
        "  -i CT_SNP, --ct-snp=CT_SNP\r\n",
        "                        how to handle CT\r\n",
        "                        SNP (\"no-action\",\r\n",
        "                        \"correct\",\r\n",
        "                        \"skip\"), default:\r\n",
        "                        \"correct\".\r\n"
       ]
      }
     ],
     "prompt_number": 20
    },
    {
     "cell_type": "code",
     "collapsed": false,
     "input": [
      "!python methratio.py -d /Volumes/Monarch/cnidary/oyster.v9.fa -z -u -g -o /Volumes/Monarch/cnidary/EY_mixmethratio.txt -s /Applications/bsmap-2.74/samtools /Volumes/Monarch/cnidary/EY_Mixbsmapoutput.sam"
     ],
     "language": "python",
     "metadata": {},
     "outputs": [
      {
       "output_type": "stream",
       "stream": "stdout",
       "text": [
        "@ Wed Nov 13 03:47:15 2013: reading reference /Volumes/Monarch/cnidary/oyster.v9.fa ...\r\n"
       ]
      },
      {
       "output_type": "stream",
       "stream": "stdout",
       "text": [
        "@ Wed Nov 13 03:48:03 2013: reading /Volumes/Monarch/cnidary/EY_Mixbsmapoutput.sam ...\r\n"
       ]
      },
      {
       "output_type": "stream",
       "stream": "stdout",
       "text": [
        "sh: /Applications/bsmap-2.74/samtools/samtools: No such file or directory\r\n",
        "@ Wed Nov 13 03:48:03 2013: combining CpG methylation from both strands ...\r\n"
       ]
      },
      {
       "output_type": "stream",
       "stream": "stdout",
       "text": [
        "@ Wed Nov 13 03:49:05 2013: writing /Volumes/Monarch/cnidary/EY_mixmethratio.txt ...\r\n"
       ]
      },
      {
       "output_type": "stream",
       "stream": "stdout",
       "text": [
        "@ Wed Nov 13 03:51:30 2013: done.\r\n"
       ]
      }
     ],
     "prompt_number": 21
    },
    {
     "cell_type": "code",
     "collapsed": false,
     "input": [
      "!head /Volumes/Monarch/cnidary/EY_mixmethratio.txt "
     ],
     "language": "python",
     "metadata": {},
     "outputs": [
      {
       "output_type": "stream",
       "stream": "stdout",
       "text": [
        "chr\tpos\tstrand\tcontext\tratio\teff_CT_count\tC_count\tCT_count\trev_G_count\trev_GA_count\tCI_lower\tCI_upper\r\n"
       ]
      }
     ],
     "prompt_number": 22
    },
    {
     "cell_type": "code",
     "collapsed": false,
     "input": [
      "!python methratio.py -d /Volumes/Monarch/cnidary/oyster.v9.fa -z -u -g -o /Volumes/Monarch/cnidary/EY_mixmethratio_2.txt -s /Applications/bsmap-2.74/ /Volumes/Monarch/cnidary/EY_Mixbsmapoutput.sam"
     ],
     "language": "python",
     "metadata": {},
     "outputs": [
      {
       "output_type": "stream",
       "stream": "stdout",
       "text": [
        "@ Wed Nov 13 03:51:42 2013: reading reference /Volumes/Monarch/cnidary/oyster.v9.fa ...\r\n"
       ]
      },
      {
       "output_type": "stream",
       "stream": "stdout",
       "text": [
        "@ Wed Nov 13 03:52:30 2013: reading /Volumes/Monarch/cnidary/EY_Mixbsmapoutput.sam ...\r\n"
       ]
      },
      {
       "output_type": "stream",
       "stream": "stdout",
       "text": [
        "sh: /Applications/bsmap-2.74/samtools: is a directory\r\n",
        "@ Wed Nov 13 03:52:30 2013: combining CpG methylation from both strands ...\r\n"
       ]
      },
      {
       "output_type": "stream",
       "stream": "stdout",
       "text": [
        "@ Wed Nov 13 03:53:35 2013: writing /Volumes/Monarch/cnidary/EY_mixmethratio_2.txt ...\r\n"
       ]
      },
      {
       "output_type": "stream",
       "stream": "stdout",
       "text": [
        "@ Wed Nov 13 03:56:01 2013: done.\r\n"
       ]
      }
     ],
     "prompt_number": 23
    },
    {
     "cell_type": "code",
     "collapsed": false,
     "input": [
      "#greenbird\n",
      "!python /Volumes/Bay3/Software/BSMAP/bsmap-2.74/methratio.py -d /Volumes/web/cnidarian/oyster.v9.fa -z -u -g -o /Volumes/web/cnidarian/EY_mixmethratio_3.txt -s /Volumes/Bay3/Software/BSMAP/bsmap-2.73/samtools /Volumes/web/scaphapoda/Yanouk/Mixbsmapoutput.sam"
     ],
     "language": "python",
     "metadata": {},
     "outputs": [
      {
       "output_type": "stream",
       "stream": "stdout",
       "text": [
        "@ Wed Nov 13 04:07:28 2013: reading reference /Volumes/web/cnidarian/oyster.v9.fa ...\r\n"
       ]
      },
      {
       "output_type": "stream",
       "stream": "stdout",
       "text": [
        "@ Wed Nov 13 04:08:37 2013: reading /Volumes/web/scaphapoda/Yanouk/Mixbsmapoutput.sam ...\r\n"
       ]
      },
      {
       "output_type": "stream",
       "stream": "stdout",
       "text": [
        "[samopen] SAM header is present: 11969 sequences.\r\n"
       ]
      },
      {
       "output_type": "stream",
       "stream": "stdout",
       "text": [
        "@ Wed Nov 13 04:14:44 2013: combining CpG methylation from both strands ...\r\n"
       ]
      },
      {
       "output_type": "stream",
       "stream": "stdout",
       "text": [
        "@ Wed Nov 13 04:15:56 2013: writing /Volumes/web/cnidarian/EY_mixmethratio_3.txt ...\r\n"
       ]
      },
      {
       "output_type": "stream",
       "stream": "stdout",
       "text": [
        "@ Wed Nov 13 04:22:10 2013: done.\r\n",
        "total 3279697 valid mappings, 16154541 covered cytosines, average coverage: 1.19 fold.\r\n"
       ]
      }
     ],
     "prompt_number": 2
    },
    {
     "cell_type": "code",
     "collapsed": false,
     "input": [
      "!head /Volumes/web/cnidarian/EY_mixmethratio_3.txt"
     ],
     "language": "python",
     "metadata": {},
     "outputs": [
      {
       "output_type": "stream",
       "stream": "stdout",
       "text": [
        "chr\tpos\tstrand\tcontext\tratio\teff_CT_count\tC_count\tCT_count\trev_G_count\trev_GA_count\tCI_lower\tCI_upper\r\n",
        "C10005\t102\t+\tGTCTC\t0.000\t1.00\t0\t1\t0\t0\t0.000\t0.793\r\n",
        "C10005\t104\t+\tCTCAA\t0.000\t1.00\t0\t1\t0\t0\t0.000\t0.793\r\n",
        "C10005\t117\t+\tGACTT\t0.000\t1.00\t0\t1\t0\t0\t0.000\t0.793\r\n",
        "C10007\t45\t-\tCAGAG\t0.000\t1.00\t0\t1\t0\t0\t0.000\t0.793\r\n",
        "C10007\t47\t-\tGAGCT\t0.000\t1.00\t0\t1\t0\t0\t0.000\t0.793\r\n",
        "C10007\t56\t-\tAAGCA\t0.000\t1.00\t0\t1\t0\t0\t0.000\t0.793\r\n",
        "C10007\t66\t+\tCCCGG\t0.000\t1.00\t0\t1\t1\t1\t0.000\t0.793\r\n",
        "C10007\t68\t-\tCGGAG\t0.000\t1.00\t0\t1\t0\t0\t0.000\t0.793\r\n",
        "C10007\t70\t-\tGAGTT\t0.000\t1.00\t0\t1\t0\t0\t0.000\t0.793\r\n"
       ]
      }
     ],
     "prompt_number": 3
    },
    {
     "cell_type": "code",
     "collapsed": false,
     "input": [
      "!wc /Volumes/web/cnidarian/EY_mixmethratio_3.txt"
     ],
     "language": "python",
     "metadata": {},
     "outputs": [
      {
       "output_type": "stream",
       "stream": "stdout",
       "text": [
        " 16154542 193854471 939011992 /Volumes/web/cnidarian/EY_mixmethratio_3.txt\r\n"
       ]
      }
     ],
     "prompt_number": 4
    },
    {
     "cell_type": "code",
     "collapsed": false,
     "input": [],
     "language": "python",
     "metadata": {},
     "outputs": []
    }
   ],
   "metadata": {}
  }
 ]
}