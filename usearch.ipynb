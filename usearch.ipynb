{
 "metadata": {
  "name": "",
  "signature": "sha256:08202d75167984bbd39f34020963bd0526a220254d5f7150e7ffe5aca8b37c34"
 },
 "nbformat": 3,
 "nbformat_minor": 0,
 "worksheets": [
  {
   "cells": [
    {
     "cell_type": "code",
     "collapsed": false,
     "input": [
      "!usearch"
     ],
     "language": "python",
     "metadata": {},
     "outputs": [
      {
       "output_type": "stream",
       "stream": "stdout",
       "text": [
        "usearch v7.0.1090_i86osx32, 4.0Gb RAM (15.0Gb total), 4 cores\r\n",
        "(C) Copyright 2013 Robert C. Edgar, all rights reserved.\r\n",
        "http://drive5.com/usearch\r\n",
        "\r\n",
        "Licensed to: sr320@uw.edu\r\n",
        "\r\n"
       ]
      }
     ],
     "prompt_number": 1
    },
    {
     "cell_type": "markdown",
     "metadata": {},
     "source": [
      "<img src=\"http://eagle.fish.washington.edu/cnidarian/skitch/usearch_1A0D1FC8.png\" alt=\"usearch_1A0D1FC8.png\"/>"
     ]
    },
    {
     "cell_type": "code",
     "collapsed": false,
     "input": [
      "!usearch -makeudb_ublast /Volumes/Bay3/Software/ncbi-blast-2.2.29+/db/uniprot_sprot.fasta -output /Volumes/Bay3/usearch/uniprot_sprot.udb"
     ],
     "language": "python",
     "metadata": {},
     "outputs": [
      {
       "output_type": "stream",
       "stream": "stdout",
       "text": [
        "usearch v7.0.1090_i86osx32, 4.0Gb RAM (15.0Gb total), 4 cores\r\n",
        "(C) Copyright 2013 Robert C. Edgar, all rights reserved.\r\n",
        "http://drive5.com/usearch\r\n",
        "\r\n",
        "Licensed to: sr320@uw.edu\r\n",
        "\r\n"
       ]
      },
      {
       "output_type": "stream",
       "stream": "stdout",
       "text": [
        "00:00 983.0kb Reading input\r\n"
       ]
      },
      {
       "output_type": "stream",
       "stream": "stdout",
       "text": [
        "\r\n",
        "\r\n",
        "sfasta.cpp(123): \r\n",
        "WARNING: 29 invalid letters in FASTA\r\n",
        "\r\n",
        "00:03 282Mb    0.0% Masking\r"
       ]
      },
      {
       "output_type": "stream",
       "stream": "stdout",
       "text": [
        "00:04 282Mb    3.0% Masking\r"
       ]
      },
      {
       "output_type": "stream",
       "stream": "stdout",
       "text": [
        "00:05 282Mb   15.4% Masking\r"
       ]
      },
      {
       "output_type": "stream",
       "stream": "stdout",
       "text": [
        "00:06 282Mb   27.5% Masking\r"
       ]
      },
      {
       "output_type": "stream",
       "stream": "stdout",
       "text": [
        "00:07 282Mb   39.8% Masking\r"
       ]
      },
      {
       "output_type": "stream",
       "stream": "stdout",
       "text": [
        "00:08 282Mb   52.0% Masking\r"
       ]
      },
      {
       "output_type": "stream",
       "stream": "stdout",
       "text": [
        "00:09 282Mb   67.6% Masking\r"
       ]
      },
      {
       "output_type": "stream",
       "stream": "stdout",
       "text": [
        "00:10 282Mb   81.8% Masking\r"
       ]
      },
      {
       "output_type": "stream",
       "stream": "stdout",
       "text": [
        "00:11 282Mb   94.9% Masking\r"
       ]
      },
      {
       "output_type": "stream",
       "stream": "stdout",
       "text": [
        "00:11 282Mb  100.0% Masking\r",
        "\r\n",
        "00:11 286Mb    0.0% Word stats\r"
       ]
      },
      {
       "output_type": "stream",
       "stream": "stdout",
       "text": [
        "00:12 286Mb    4.2% Word stats\r"
       ]
      },
      {
       "output_type": "stream",
       "stream": "stdout",
       "text": [
        "00:13 286Mb   11.6% Word stats\r"
       ]
      },
      {
       "output_type": "stream",
       "stream": "stdout",
       "text": [
        "00:14 286Mb   19.4% Word stats\r"
       ]
      },
      {
       "output_type": "stream",
       "stream": "stdout",
       "text": [
        "00:15 286Mb   27.2% Word stats\r"
       ]
      },
      {
       "output_type": "stream",
       "stream": "stdout",
       "text": [
        "00:16 286Mb   35.5% Word stats\r"
       ]
      },
      {
       "output_type": "stream",
       "stream": "stdout",
       "text": [
        "00:17 286Mb   43.0% Word stats\r"
       ]
      },
      {
       "output_type": "stream",
       "stream": "stdout",
       "text": [
        "00:18 286Mb   51.9% Word stats\r"
       ]
      },
      {
       "output_type": "stream",
       "stream": "stdout",
       "text": [
        "00:19 286Mb   60.2% Word stats\r"
       ]
      },
      {
       "output_type": "stream",
       "stream": "stdout",
       "text": [
        "00:20 286Mb   76.0% Word stats\r"
       ]
      },
      {
       "output_type": "stream",
       "stream": "stdout",
       "text": [
        "00:21 286Mb   83.5% Word stats\r"
       ]
      },
      {
       "output_type": "stream",
       "stream": "stdout",
       "text": [
        "00:22 286Mb   92.6% Word stats\r"
       ]
      },
      {
       "output_type": "stream",
       "stream": "stdout",
       "text": [
        "00:22 286Mb  100.0% Word stats\r",
        "\r\n",
        "00:22 290Mb    0.0% Building slots\r"
       ]
      },
      {
       "output_type": "stream",
       "stream": "stdout",
       "text": [
        "00:23 300Mb   80.1% Building slots\r"
       ]
      },
      {
       "output_type": "stream",
       "stream": "stdout",
       "text": [
        "00:23 303Mb  100.0% Building slots\r",
        "\r\n",
        "00:23 303Mb    0.0% Build index   \r"
       ]
      },
      {
       "output_type": "stream",
       "stream": "stdout",
       "text": [
        "00:24 806Mb    0.6% Build index\r"
       ]
      },
      {
       "output_type": "stream",
       "stream": "stdout",
       "text": [
        "00:25 895Mb    2.1% Build index\r"
       ]
      },
      {
       "output_type": "stream",
       "stream": "stdout",
       "text": [
        "0"
       ]
      },
      {
       "output_type": "stream",
       "stream": "stdout",
       "text": [
        "0:26 904Mb    4.2% Build index\r"
       ]
      },
      {
       "output_type": "stream",
       "stream": "stdout",
       "text": [
        "00:27 914Mb    6.4% Build index\r"
       ]
      },
      {
       "output_type": "stream",
       "stream": "stdout",
       "text": [
        "00:28 922Mb    8.6% Build index\r"
       ]
      },
      {
       "output_type": "stream",
       "stream": "stdout",
       "text": [
        "00:29 930Mb   10.5% Build index\r"
       ]
      },
      {
       "output_type": "stream",
       "stream": "stdout",
       "text": [
        "00:30 940Mb   13.0% Build index\r"
       ]
      },
      {
       "output_type": "stream",
       "stream": "stdout",
       "text": [
        "00:31 949Mb   15.6% Build index\r"
       ]
      },
      {
       "output_type": "stream",
       "stream": "stdout",
       "text": [
        "00:32 956Mb   17.8% Build index\r"
       ]
      },
      {
       "output_type": "stream",
       "stream": "stdout",
       "text": [
        "00:33 965Mb   19.4% Build index\r"
       ]
      },
      {
       "output_type": "stream",
       "stream": "stdout",
       "text": [
        "00:34 974Mb   21.3% Build index\r"
       ]
      },
      {
       "output_type": "stream",
       "stream": "stdout",
       "text": [
        "00:35 981Mb   23.5% Build index\r"
       ]
      },
      {
       "output_type": "stream",
       "stream": "stdout",
       "text": [
        "00:36 989Mb   25.8% Build index\r"
       ]
      },
      {
       "output_type": "stream",
       "stream": "stdout",
       "text": [
        "00:37 995Mb   27.3% Build index\r"
       ]
      },
      {
       "output_type": "stream",
       "stream": "stdout",
       "text": [
        "00:38 1.0Gb   29.4% Build index\r"
       ]
      },
      {
       "output_type": "stream",
       "stream": "stdout",
       "text": [
        "00:39 1.0Gb   32.1% Build index\r"
       ]
      },
      {
       "output_type": "stream",
       "stream": "stdout",
       "text": [
        "00:40 1.0Gb   34.4% Build index\r"
       ]
      },
      {
       "output_type": "stream",
       "stream": "stdout",
       "text": [
        "00:41 1.0Gb   36.6% Build index\r"
       ]
      },
      {
       "output_type": "stream",
       "stream": "stdout",
       "text": [
        "00:42 1.0Gb   38.9% Build index\r"
       ]
      },
      {
       "output_type": "stream",
       "stream": "stdout",
       "text": [
        "00:43 1.0Gb   40.9% Build index\r"
       ]
      },
      {
       "output_type": "stream",
       "stream": "stdout",
       "text": [
        "00:44 1.0Gb   42.7% Build index\r"
       ]
      },
      {
       "output_type": "stream",
       "stream": "stdout",
       "text": [
        "00:45 1.0Gb   44.5% Build index\r"
       ]
      },
      {
       "output_type": "stream",
       "stream": "stdout",
       "text": [
        "00:46 1.1Gb   46.1% Build index\r"
       ]
      },
      {
       "output_type": "stream",
       "stream": "stdout",
       "text": [
        "00:47 1.1Gb   47.9% Build index\r"
       ]
      },
      {
       "output_type": "stream",
       "stream": "stdout",
       "text": [
        "00:48 1.1Gb   50.7% Build index\r"
       ]
      },
      {
       "output_type": "stream",
       "stream": "stdout",
       "text": [
        "00:49 1.1Gb   52.6% Build index\r"
       ]
      },
      {
       "output_type": "stream",
       "stream": "stdout",
       "text": [
        "00:50 1.1Gb   54.7% Build index\r"
       ]
      },
      {
       "output_type": "stream",
       "stream": "stdout",
       "text": [
        "00:51 1.1Gb   56.2% Build index\r"
       ]
      },
      {
       "output_type": "stream",
       "stream": "stdout",
       "text": [
        "00:52 1.1Gb   58.9% Build index\r"
       ]
      },
      {
       "output_type": "stream",
       "stream": "stdout",
       "text": [
        "00:53 1.1Gb   61.1% Build index\r"
       ]
      },
      {
       "output_type": "stream",
       "stream": "stdout",
       "text": [
        "00:54 1.1Gb   67.3% Build index\r"
       ]
      },
      {
       "output_type": "stream",
       "stream": "stdout",
       "text": [
        "00:55 1.1Gb   70.3% Build index\r"
       ]
      },
      {
       "output_type": "stream",
       "stream": "stdout",
       "text": [
        "00:56 1.1Gb   75.3% Build index\r"
       ]
      },
      {
       "output_type": "stream",
       "stream": "stdout",
       "text": [
        "00:57 1.1Gb   77.0% Build index\r"
       ]
      },
      {
       "output_type": "stream",
       "stream": "stdout",
       "text": [
        "00:58 1.1Gb   78.3% Build index\r"
       ]
      },
      {
       "output_type": "stream",
       "stream": "stdout",
       "text": [
        "00:59 1.1Gb   80.1% Build index\r"
       ]
      },
      {
       "output_type": "stream",
       "stream": "stdout",
       "text": [
        "01:00 1.1Gb   81.6% Build index\r"
       ]
      },
      {
       "output_type": "stream",
       "stream": "stdout",
       "text": [
        "01:01 1.1Gb   82.9% Build index\r"
       ]
      },
      {
       "output_type": "stream",
       "stream": "stdout",
       "text": [
        "01:02 1.1Gb   84.6% Build index\r"
       ]
      },
      {
       "output_type": "stream",
       "stream": "stdout",
       "text": [
        "01:03 1.1Gb   86.1% Build index\r"
       ]
      },
      {
       "output_type": "stream",
       "stream": "stdout",
       "text": [
        "01:04 1.1Gb   87.7% Build index\r"
       ]
      },
      {
       "output_type": "stream",
       "stream": "stdout",
       "text": [
        "01:05 1.1Gb   89.6% Build index\r"
       ]
      },
      {
       "output_type": "stream",
       "stream": "stdout",
       "text": [
        "01:06 1.1Gb   91.1% Build index\r"
       ]
      },
      {
       "output_type": "stream",
       "stream": "stdout",
       "text": [
        "01:07 1.1Gb   92.4% Build index\r"
       ]
      },
      {
       "output_type": "stream",
       "stream": "stdout",
       "text": [
        "01:08 1.1Gb   94.3% Build index\r"
       ]
      },
      {
       "output_type": "stream",
       "stream": "stdout",
       "text": [
        "01:09 1.1Gb   96.4% Build index\r"
       ]
      },
      {
       "output_type": "stream",
       "stream": "stdout",
       "text": [
        "01:10 1.1Gb   99.0% Build index\r"
       ]
      },
      {
       "output_type": "stream",
       "stream": "stdout",
       "text": [
        "01:10 1.1Gb  100.0% Build index\r",
        "\r\n"
       ]
      },
      {
       "output_type": "stream",
       "stream": "stdout",
       "text": [
        "01:10 1.1Gb    0.0% Rows       \r"
       ]
      },
      {
       "output_type": "stream",
       "stream": "stdout",
       "text": [
        "01:11 1.1Gb    2.0% Rows\r"
       ]
      },
      {
       "output_type": "stream",
       "stream": "stdout",
       "text": [
        "01:12 1.1Gb   11.9% Rows\r"
       ]
      },
      {
       "output_type": "stream",
       "stream": "stdout",
       "text": [
        "01:13 1.1Gb   21.0% Rows\r"
       ]
      },
      {
       "output_type": "stream",
       "stream": "stdout",
       "text": [
        "01:14 1.1Gb   26.3% Rows\r"
       ]
      },
      {
       "output_type": "stream",
       "stream": "stdout",
       "text": [
        "01:15 1.1Gb   42.0% Rows\r"
       ]
      },
      {
       "output_type": "stream",
       "stream": "stdout",
       "text": [
        "01:16 1.1Gb   61.2% Rows\r"
       ]
      },
      {
       "output_type": "stream",
       "stream": "stdout",
       "text": [
        "01:17 1.1Gb   66.1% Rows\r"
       ]
      },
      {
       "output_type": "stream",
       "stream": "stdout",
       "text": [
        "01:18 1.1Gb   69.7% Rows\r"
       ]
      },
      {
       "output_type": "stream",
       "stream": "stdout",
       "text": [
        "01:19 1.1Gb   79.5% Rows\r"
       ]
      },
      {
       "output_type": "stream",
       "stream": "stdout",
       "text": [
        "01:20 1.1Gb   94.7% Rows\r"
       ]
      },
      {
       "output_type": "stream",
       "stream": "stdout",
       "text": [
        "01:20 1.1Gb  100.0% Rows\r",
        "\r\n",
        "01:20 1.1Gb Buffers     \r\n"
       ]
      },
      {
       "output_type": "stream",
       "stream": "stdout",
       "text": [
        "01:20 1.1Gb    0.0% Seqs\r"
       ]
      },
      {
       "output_type": "stream",
       "stream": "stdout",
       "text": [
        "01:21 1.1Gb    8.0% Seqs\r"
       ]
      },
      {
       "output_type": "stream",
       "stream": "stdout",
       "text": [
        "01:22 1.1Gb   48.1% Seqs\r"
       ]
      },
      {
       "output_type": "stream",
       "stream": "stdout",
       "text": [
        "01:23 1.1Gb   94.9% Seqs\r",
        "01:23 1.1Gb  100.0% Seqs\r",
        "\r\n"
       ]
      },
      {
       "output_type": "stream",
       "stream": "stdout",
       "text": [
        "01:23 1.1Gb 100.0% completed, split 1 (542.0k seqs)\r\n",
        "01:23 1.1Gb Total 1 splits, 542.0k seqs\r\n"
       ]
      }
     ],
     "prompt_number": 12
    },
    {
     "cell_type": "code",
     "collapsed": false,
     "input": [
      "!usearch -udbinfo /Volumes/Bay3/usearch/uniprot_sprot.udb\n"
     ],
     "language": "python",
     "metadata": {},
     "outputs": [
      {
       "output_type": "stream",
       "stream": "stdout",
       "text": [
        "usearch v7.0.1090_i86osx32, 4.0Gb RAM (15.0Gb total), 4 cores\r\n",
        "(C) Copyright 2013 Robert C. Edgar, all rights reserved.\r\n",
        "http://drive5.com/usearch\r\n",
        "\r\n",
        "Licensed to: sr320@uw.edu\r\n",
        "\r\n",
        "         Splits  1\r\n",
        "           Seqs  541954 (542.0k)\r\n",
        "         Hashed  0\r\n",
        "     SeqIx bits  21\r\n",
        "    SeqPos bits  11\r\n",
        "          Alpha  A,KR,DENQ,C,G,H,ILMV,FWY,P,ST (10)\r\n",
        "        Pattern  \"10111011\" (6,8)\r\n",
        "     Word width  0\r\n",
        "          Slots  0\r\n",
        "      Dict size  1000000 (1.0M)\r\n",
        "         DBStep  1\r\n",
        "     StepPrefix  \"\"\r\n",
        "        DBAccel  100%\r\n",
        "          Split  1, 964.6M bytes\r\n"
       ]
      }
     ],
     "prompt_number": 13
    },
    {
     "cell_type": "code",
     "collapsed": false,
     "input": [
      "%%time\n",
      "!usearch -ublast /Volumes/web/scaphapoda/Grace/Transcriptomes/mer_tst/query.fa \\\n",
      "-db /Volumes/Bay3/usearch/uniprot_sprot.udb \\\n",
      "-evalue 1e-5 \\\n",
      "-accel 0.9 \\\n",
      "-top_hits_only \\\n",
      "-maxhits 1 \\\n",
      "-blast6out /Volumes/Bay3/usearch/results.b6\n"
     ],
     "language": "python",
     "metadata": {},
     "outputs": [
      {
       "output_type": "stream",
       "stream": "stdout",
       "text": [
        "usearch v7.0.1090_i86osx32, 4.0Gb RAM (15.0Gb total), 4 cores\r\n",
        "(C) Copyright 2013 Robert C. Edgar, all rights reserved.\r\n",
        "http://drive5.com/usearch\r\n",
        "\r\n",
        "Licensed to: sr320@uw.edu\r\n",
        "\r\n",
        "00:00 1.0Mb Reading /Volumes/Bay3/usearch/uniprot_sprot.udb\r\n"
       ]
      },
      {
       "output_type": "stream",
       "stream": "stdout",
       "text": [
        "00:02 1.1Gb Database loaded\r\n",
        "00:02 1.1Gb    0.1% Searching, 0.0% matched\r"
       ]
      },
      {
       "output_type": "stream",
       "stream": "stdout",
       "text": [
        "00:03 1.1Gb   95.5% Searching, 7.0% matched\r"
       ]
      },
      {
       "output_type": "stream",
       "stream": "stdout",
       "text": [
        "00:03 1.1Gb  100.0% Searching, 6.3% matched\r",
        "\r\n"
       ]
      },
      {
       "output_type": "stream",
       "stream": "stdout",
       "text": [
        "CPU times: user 26.2 ms, sys: 14.6 ms, total: 40.8 ms\n",
        "Wall time: 3.47 s\n"
       ]
      }
     ],
     "prompt_number": 63
    },
    {
     "cell_type": "code",
     "collapsed": false,
     "input": [
      "!head /Volumes/Bay3/usearch/results.b6\n"
     ],
     "language": "python",
     "metadata": {},
     "outputs": [
      {
       "output_type": "stream",
       "stream": "stdout",
       "text": [
        "Mmercenaria_Contig_2\tsp|Q6DRI1|EI3EA_DANRE\t72.9\t70\t19\t0\t2\t211\t113\t182\t2.5e-24\t112.1\r\n",
        "Mmercenaria_Contig_9\tsp|A8WGF4|IF122_XENTR\t67.2\t67\t22\t0\t1\t201\t894\t960\t6.4e-20\t97.4\r\n",
        "Mmercenaria_Contig_11\tsp|Q3SZI6|RPN2_BOVIN\t32.4\t71\t48\t0\t2\t214\t223\t293\t4.2e-06\t51.6\r\n",
        "Mmercenaria_Contig_21\tsp|Q95JL5|WDR16_MACFA\t65.0\t80\t28\t0\t5\t244\t467\t546\t1.6e-25\t116.3\r\n",
        "Mmercenaria_Contig_20\tsp|Q7Z7J7|LHPL4_HUMAN\t43.3\t67\t38\t0\t18\t218\t4\t70\t1.1e-11\t70.1\r\n",
        "Mmercenaria_Contig_23\tsp|Q90512|ODO2_TAKRU\t62.3\t77\t29\t0\t2\t232\t27\t103\t5.6e-22\t104.4\r\n",
        "Mmercenaria_Contig_24\tsp|Q29RL1|CF165_BOVIN\t72.4\t76\t21\t0\t1\t228\t64\t139\t1.8e-25\t115.9\r\n",
        "Mmercenaria_Contig_32\tsp|Q54YM7|TM2D2_DICDI\t57.4\t54\t23\t0\t6\t167\t58\t111\t4e-11\t68.6\r\n",
        "Mmercenaria_Contig_37\tsp|P50579|MAP2_HUMAN\t85.9\t92\t13\t0\t2\t277\t338\t429\t3.8e-41\t168.3\r\n",
        "Mmercenaria_Contig_36\tsp|O14508|SOCS2_HUMAN\t39.7\t146\t75\t2\t3\t440\t64\t196\t8.3e-22\t104.8\r\n"
       ]
      }
     ],
     "prompt_number": 64
    },
    {
     "cell_type": "code",
     "collapsed": false,
     "input": [
      "!wc -l /Volumes/Bay3/usearch/results.b6"
     ],
     "language": "python",
     "metadata": {},
     "outputs": [
      {
       "output_type": "stream",
       "stream": "stdout",
       "text": [
        "      10 /Volumes/Bay3/usearch/results.b6\r\n"
       ]
      }
     ],
     "prompt_number": 65
    },
    {
     "cell_type": "code",
     "collapsed": false,
     "input": [
      "%%time\n",
      "!/Volumes/Bay3/Software/ncbi-blast-2.2.29+/bin/blastx \\\n",
      "-query /Volumes/web/scaphapoda/Grace/Transcriptomes/mer_tst/query.fa \\\n",
      "-db /Volumes/Bay3/Software/ncbi-blast-2.2.28+/db/uniprot_sprot \\\n",
      "-evalue 1e-5 \\\n",
      "-max_target_seqs 1 \\\n",
      "-outfmt 6 \\\n",
      "-num_threads 2 \\\n",
      "-out /Volumes/Bay3/usearch/ncbi_results.b6"
     ],
     "language": "python",
     "metadata": {},
     "outputs": [
      {
       "output_type": "stream",
       "stream": "stdout",
       "text": [
        "CPU times: user 173 ms, sys: 43.1 ms, total: 216 ms\n",
        "Wall time: 30.9 s\n"
       ]
      }
     ],
     "prompt_number": 66
    },
    {
     "cell_type": "code",
     "collapsed": false,
     "input": [
      "!head /Volumes/Bay3/usearch/ncbi_results.b6\n"
     ],
     "language": "python",
     "metadata": {},
     "outputs": [
      {
       "output_type": "stream",
       "stream": "stdout",
       "text": [
        "Mmercenaria_Contig_2\tsp|Q6DRI1|EI3EA_DANRE\t75.00\t68\t17\t0\t5\t208\t114\t181\t2e-29\t  112\r\n",
        "Mmercenaria_Contig_9\tsp|A8WGF4|IF122_XENTR\t67.16\t67\t22\t0\t1\t201\t894\t960\t6e-24\t99.4\r\n",
        "Mmercenaria_Contig_20\tsp|Q7Z7J7|LHPL4_HUMAN\t48.33\t60\t31\t0\t24\t203\t6\t65\t2e-15\t71.6\r\n",
        "Mmercenaria_Contig_21\tsp|Q95JL5|WDR16_MACFA\t65.00\t80\t28\t0\t5\t244\t467\t546\t5e-30\t  115\r\n",
        "Mmercenaria_Contig_23\tsp|Q90512|ODO2_TAKRU\t62.34\t77\t29\t0\t2\t232\t27\t103\t1e-26\t  103\r\n",
        "Mmercenaria_Contig_24\tsp|Q6PE87|CF165_MOUSE\t73.68\t76\t20\t0\t1\t228\t64\t139\t1e-31\t  119\r\n",
        "Mmercenaria_Contig_32\tsp|Q9GPR3|TM2D1_DICDI\t56.60\t53\t23\t0\t6\t164\t9\t61\t3e-12\t62.8\r\n",
        "Mmercenaria_Contig_36\tsp|O14508|SOCS2_HUMAN\t40.28\t144\t73\t2\t9\t440\t66\t196\t2e-25\t  102\r\n",
        "Mmercenaria_Contig_37\tsp|P50579|MAP2_HUMAN\t85.87\t92\t13\t0\t2\t277\t338\t429\t2e-51\t  173\r\n"
       ]
      }
     ],
     "prompt_number": 67
    },
    {
     "cell_type": "code",
     "collapsed": false,
     "input": [
      "!wc -l /Volumes/Bay3/usearch/ncbi_results.b6"
     ],
     "language": "python",
     "metadata": {},
     "outputs": [
      {
       "output_type": "stream",
       "stream": "stdout",
       "text": [
        "       9 /Volumes/Bay3/usearch/ncbi_results.b6\r\n"
       ]
      }
     ],
     "prompt_number": 68
    },
    {
     "cell_type": "heading",
     "level": 2,
     "metadata": {},
     "source": [
      "cgigas file"
     ]
    },
    {
     "cell_type": "code",
     "collapsed": false,
     "input": [
      "cp /Volumes/web/astrangia/cgigas /Volumes/Bay3/usearch/cgigas.fa"
     ],
     "language": "python",
     "metadata": {},
     "outputs": [],
     "prompt_number": 73
    },
    {
     "cell_type": "code",
     "collapsed": false,
     "input": [
      "!head /Volumes/Bay3/usearch/cgigas.fa"
     ],
     "language": "python",
     "metadata": {},
     "outputs": [
      {
       "output_type": "stream",
       "stream": "stdout",
       "text": [
        ">AJ565444.p.cg.8\r\n",
        "GTACGTAATTGCTGTTTTGTTTTAAAACAAATATTTGTTTAAATTATCAA\r\n",
        "AATAGGAGAATCGATTAAACCCAGATGCTTTCCGTCGGAGACAGAATCAA\r\n",
        "AAACTGTGAATGTAACAGAAGACAAACCAGTTGGGTTCACCGTGTTCACT\r\n",
        "TATTCGGGTTTTGATGCTGATGGAGATCGCATTAGATTTGTGTTACTTGA\r\n",
        "TAACACGGTGCCGTTCTCGATTCCAACAGCAGGATCCGGGGATGTTGATG\r\n",
        "TGGCTTTACCTGCCTTAGACTTTGAGAGGAAAACTCAATATATTTTGGAC\r\n",
        "AAAATATACGTCACTAAATTTGGATTGAGTGCACTCCTGTTTGGTAATAA\r\n",
        "ATGTGGAACCCTAACCGTCAATGTCCTCCCTGTCAACGAATTTACGCCAG\r\n",
        "TTTTTGATCCCTCATATCAAAATTCCTCACTTCCAGAAGGTCTACTACAA\r\n"
       ]
      }
     ],
     "prompt_number": 76
    },
    {
     "cell_type": "code",
     "collapsed": false,
     "input": [
      "cd /Volumes/web/cnidarian"
     ],
     "language": "python",
     "metadata": {},
     "outputs": [
      {
       "output_type": "stream",
       "stream": "stdout",
       "text": [
        "/Volumes/web/cnidarian\n"
       ]
      }
     ],
     "prompt_number": 82
    },
    {
     "cell_type": "code",
     "collapsed": false,
     "input": [
      "mkdir cg_split"
     ],
     "language": "python",
     "metadata": {},
     "outputs": [],
     "prompt_number": 83
    },
    {
     "cell_type": "code",
     "collapsed": false,
     "input": [
      "cd cg_split"
     ],
     "language": "python",
     "metadata": {},
     "outputs": [
      {
       "output_type": "stream",
       "stream": "stdout",
       "text": [
        "/Volumes/web/cnidarian/cg_split\n"
       ]
      }
     ],
     "prompt_number": 84
    },
    {
     "cell_type": "code",
     "collapsed": false,
     "input": [
      "!perl /Volumes/Bay3/Software/fasta-splitter.pl --part-size 1000 --measure count /Volumes/Bay3/usearch/cgigas.fa "
     ],
     "language": "python",
     "metadata": {},
     "outputs": [
      {
       "output_type": "stream",
       "stream": "stdout",
       "text": [
        "/Volumes/Bay3/usearch/cgigas.fa"
       ]
      },
      {
       "output_type": "stream",
       "stream": "stdout",
       "text": [
        ": 82312 sequences, 67875621 bp => dividing into 83 parts of <= 1000 sequences\r\n"
       ]
      },
      {
       "output_type": "stream",
       "stream": "stdout",
       "text": [
        "All done, 8 seconds elapsed\r\n"
       ]
      }
     ],
     "prompt_number": 85
    },
    {
     "cell_type": "code",
     "collapsed": false,
     "input": [
      "ls"
     ],
     "language": "python",
     "metadata": {},
     "outputs": [
      {
       "output_type": "stream",
       "stream": "stdout",
       "text": [
        "cgigas.part-01.fa  cgigas.part-22.fa  cgigas.part-43.fa  cgigas.part-64.fa\r\n",
        "cgigas.part-02.fa  cgigas.part-23.fa  cgigas.part-44.fa  cgigas.part-65.fa\r\n",
        "cgigas.part-03.fa  cgigas.part-24.fa  cgigas.part-45.fa  cgigas.part-66.fa\r\n",
        "cgigas.part-04.fa  cgigas.part-25.fa  cgigas.part-46.fa  cgigas.part-67.fa\r\n",
        "cgigas.part-05.fa  cgigas.part-26.fa  cgigas.part-47.fa  cgigas.part-68.fa\r\n",
        "cgigas.part-06.fa  cgigas.part-27.fa  cgigas.part-48.fa  cgigas.part-69.fa\r\n",
        "cgigas.part-07.fa  cgigas.part-28.fa  cgigas.part-49.fa  cgigas.part-70.fa\r\n",
        "cgigas.part-08.fa  cgigas.part-29.fa  cgigas.part-50.fa  cgigas.part-71.fa\r\n",
        "cgigas.part-09.fa  cgigas.part-30.fa  cgigas.part-51.fa  cgigas.part-72.fa\r\n",
        "cgigas.part-10.fa  cgigas.part-31.fa  cgigas.part-52.fa  cgigas.part-73.fa\r\n",
        "cgigas.part-11.fa  cgigas.part-32.fa  cgigas.part-53.fa  cgigas.part-74.fa\r\n",
        "cgigas.part-12.fa  cgigas.part-33.fa  cgigas.part-54.fa  cgigas.part-75.fa\r\n",
        "cgigas.part-13.fa  cgigas.part-34.fa  cgigas.part-55.fa  cgigas.part-76.fa\r\n",
        "cgigas.part-14.fa  cgigas.part-35.fa  cgigas.part-56.fa  cgigas.part-77.fa\r\n",
        "cgigas.part-15.fa  cgigas.part-36.fa  cgigas.part-57.fa  cgigas.part-78.fa\r\n",
        "cgigas.part-16.fa  cgigas.part-37.fa  cgigas.part-58.fa  cgigas.part-79.fa\r\n",
        "cgigas.part-17.fa  cgigas.part-38.fa  cgigas.part-59.fa  cgigas.part-80.fa\r\n",
        "cgigas.part-18.fa  cgigas.part-39.fa  cgigas.part-60.fa  cgigas.part-81.fa\r\n",
        "cgigas.part-19.fa  cgigas.part-40.fa  cgigas.part-61.fa  cgigas.part-82.fa\r\n",
        "cgigas.part-20.fa  cgigas.part-41.fa  cgigas.part-62.fa  cgigas.part-83.fa\r\n",
        "cgigas.part-21.fa  cgigas.part-42.fa  cgigas.part-63.fa\r\n"
       ]
      }
     ],
     "prompt_number": 174
    },
    {
     "cell_type": "code",
     "collapsed": false,
     "input": [
      "cd /Volumes/web/cnidarian/cg_split"
     ],
     "language": "python",
     "metadata": {},
     "outputs": [
      {
       "output_type": "stream",
       "stream": "stdout",
       "text": [
        "/Volumes/web/cnidarian/cg_split\n"
       ]
      }
     ],
     "prompt_number": 2
    },
    {
     "cell_type": "code",
     "collapsed": false,
     "input": [
      "!head cgigas.part-01.fa"
     ],
     "language": "python",
     "metadata": {},
     "outputs": [
      {
       "output_type": "stream",
       "stream": "stdout",
       "text": [
        ">AM859803.p.cg.8\r\n",
        "ACGCTCCTCGGTTTTTTGATACGGGGAGCGGATGGAATTAATTTGTGATGGACTGGTGGC\r\n",
        "ACATTCAGGGTGAACCGATGACTTTCATTGCTTAGCAGCACGGAAACCGCGGATAAGCAT\r\n",
        "CGGCCCTATACGACTCATGGCGTGGGGAAGGGTTTGTATTTTAGCTTGTTTTCATATCAA\r\n",
        "TTGGACAAAATTTTGATTAATGCGCACAACCCTTCATTTTCGTCTTCTCCAACCTTTGGT\r\n",
        "GTTTGGTGTGTATATACAGGTATTGTGTTACTTACCTGTACATGAAGCAGGATGACTTAA\r\n",
        "TTTTATACCTGACATATCACTTTTGATGTCAGACAGAATTTAAACAGTACAGCGCTGGTA\r\n",
        "CCTGATACTTTCGTTTGCATGTTTTCAATGTATGCACTATCACGGAATTAATTTCAATCT\r\n",
        "CTAGGCATTTTCAAATTGCTCTATATAAAGATTCTTACTGGCTCCACTTTTTACATCGGT\r\n",
        "TCTCAATATTTTTTTAACACTTTTACATTTTGATTGGTGCTTCAACCTTTCAGGTTGATG\r\n"
       ]
      }
     ],
     "prompt_number": 3
    },
    {
     "cell_type": "code",
     "collapsed": false,
     "input": [
      "pwd"
     ],
     "language": "python",
     "metadata": {},
     "outputs": [
      {
       "metadata": {},
       "output_type": "pyout",
       "prompt_number": 3,
       "text": [
        "u'/Volumes/web/cnidarian/cg_split'"
       ]
      }
     ],
     "prompt_number": 3
    },
    {
     "cell_type": "code",
     "collapsed": false,
     "input": [
      "from __future__ import print_function\n",
      "import glob\n",
      "import os\n",
      "os.chdir(\"/Volumes/web/cnidarian/cg_split\")\n",
      "for file in glob.glob(\"*\"):\n",
      "    !usearch -ublast $file -db /Volumes/Bay3/usearch/uniprot_sprot.udb \\\n",
      "    -evalue 1e-5 \\\n",
      "    -accel 0.2 \\\n",
      "    -top_hits_only \\\n",
      "    -maxhits 1 \\\n",
      "    -blast6out /Volumes/web/cnidarian/$file._ublast_sprot.b6\n"
     ],
     "language": "python",
     "metadata": {},
     "outputs": [
      {
       "output_type": "stream",
       "stream": "stdout",
       "text": [
        "\r\n",
        "Invalid command line\r\n",
        "Expected -option_name or --option_name, got '/Volumes/Bay3/usearch/uniprot_sprot.udb'\r\n"
       ]
      },
      {
       "output_type": "stream",
       "stream": "stdout",
       "text": [
        "\r\n",
        "Invalid command line\r\n",
        "Expected -option_name or --option_name, got '/Volumes/Bay3/usearch/uniprot_sprot.udb'\r\n"
       ]
      },
      {
       "output_type": "stream",
       "stream": "stdout",
       "text": [
        "\r\n",
        "Invalid command line\r\n",
        "Expected -option_name or --option_name, got '/Volumes/Bay3/usearch/uniprot_sprot.udb'\r\n"
       ]
      },
      {
       "output_type": "stream",
       "stream": "stdout",
       "text": [
        "\r\n",
        "Invalid command line\r\n",
        "Expected -option_name or --option_name, got '/Volumes/Bay3/usearch/uniprot_sprot.udb'\r\n"
       ]
      },
      {
       "output_type": "stream",
       "stream": "stdout",
       "text": [
        "\r\n",
        "Invalid command line\r\n",
        "Expected -option_name or --option_name, got '/Volumes/Bay3/usearch/uniprot_sprot.udb'\r\n"
       ]
      },
      {
       "output_type": "stream",
       "stream": "stdout",
       "text": [
        "\r\n",
        "Invalid command line\r\n",
        "Expected -option_name or --option_name, got '/Volumes/Bay3/usearch/uniprot_sprot.udb'\r\n"
       ]
      },
      {
       "output_type": "stream",
       "stream": "stdout",
       "text": [
        "\r\n",
        "Invalid command line\r\n",
        "Expected -option_name or --option_name, got '/Volumes/Bay3/usearch/uniprot_sprot.udb'\r\n"
       ]
      },
      {
       "output_type": "stream",
       "stream": "stdout",
       "text": [
        "\r\n",
        "Invalid command line\r\n",
        "Expected -option_name or --option_name, got '/Volumes/Bay3/usearch/uniprot_sprot.udb'\r\n"
       ]
      },
      {
       "output_type": "stream",
       "stream": "stdout",
       "text": [
        "\r\n",
        "Invalid command line\r\n",
        "Expected -option_name or --option_name, got '/Volumes/Bay3/usearch/uniprot_sprot.udb'\r\n"
       ]
      },
      {
       "output_type": "stream",
       "stream": "stdout",
       "text": [
        "\r\n",
        "Invalid command line\r\n",
        "Expected -option_name or --option_name, got '/Volumes/Bay3/usearch/uniprot_sprot.udb'\r\n"
       ]
      },
      {
       "output_type": "stream",
       "stream": "stdout",
       "text": [
        "\r\n",
        "Invalid command line\r\n",
        "Expected -option_name or --option_name, got '/Volumes/Bay3/usearch/uniprot_sprot.udb'\r\n"
       ]
      },
      {
       "output_type": "stream",
       "stream": "stdout",
       "text": [
        "\r\n",
        "Invalid command line\r\n",
        "Expected -option_name or --option_name, got '/Volumes/Bay3/usearch/uniprot_sprot.udb'\r\n"
       ]
      },
      {
       "output_type": "stream",
       "stream": "stdout",
       "text": [
        "\r\n",
        "Invalid command line\r\n",
        "Expected -option_name or --option_name, got '/Volumes/Bay3/usearch/uniprot_sprot.udb'\r\n"
       ]
      },
      {
       "output_type": "stream",
       "stream": "stdout",
       "text": [
        "\r\n",
        "Invalid command line\r\n",
        "Expected -option_name or --option_name, got '/Volumes/Bay3/usearch/uniprot_sprot.udb'\r\n"
       ]
      },
      {
       "output_type": "stream",
       "stream": "stdout",
       "text": [
        "\r\n",
        "Invalid command line\r\n",
        "Expected -option_name or --option_name, got '/Volumes/Bay3/usearch/uniprot_sprot.udb'\r\n"
       ]
      },
      {
       "output_type": "stream",
       "stream": "stdout",
       "text": [
        "\r\n",
        "Invalid command line\r\n",
        "Expected -option_name or --option_name, got '/Volumes/Bay3/usearch/uniprot_sprot.udb'\r\n"
       ]
      },
      {
       "output_type": "stream",
       "stream": "stdout",
       "text": [
        "\r\n",
        "Invalid command line\r\n",
        "Expected -option_name or --option_name, got '/Volumes/Bay3/usearch/uniprot_sprot.udb'\r\n"
       ]
      },
      {
       "output_type": "stream",
       "stream": "stdout",
       "text": [
        "\r\n",
        "Invalid command line\r\n",
        "Expected -option_name or --option_name, got '/Volumes/Bay3/usearch/uniprot_sprot.udb'\r\n"
       ]
      },
      {
       "output_type": "stream",
       "stream": "stdout",
       "text": [
        "\r\n",
        "Invalid command line\r\n",
        "Expected -option_name or --option_name, got '/Volumes/Bay3/usearch/uniprot_sprot.udb'\r\n"
       ]
      },
      {
       "output_type": "stream",
       "stream": "stdout",
       "text": [
        "\r\n",
        "Invalid command line\r\n",
        "Expected -option_name or --option_name, got '/Volumes/Bay3/usearch/uniprot_sprot.udb'\r\n"
       ]
      },
      {
       "output_type": "stream",
       "stream": "stdout",
       "text": [
        "\r\n",
        "Invalid command line\r\n",
        "Expected -option_name or --option_name, got '/Volumes/Bay3/usearch/uniprot_sprot.udb'\r\n"
       ]
      },
      {
       "output_type": "stream",
       "stream": "stdout",
       "text": [
        "\r\n",
        "Invalid command line\r\n",
        "Expected -option_name or --option_name, got '/Volumes/Bay3/usearch/uniprot_sprot.udb'\r\n"
       ]
      },
      {
       "output_type": "stream",
       "stream": "stdout",
       "text": [
        "\r\n",
        "Invalid command line\r\n",
        "Expected -option_name or --option_name, got '/Volumes/Bay3/usearch/uniprot_sprot.udb'\r\n"
       ]
      },
      {
       "output_type": "stream",
       "stream": "stdout",
       "text": [
        "\r\n",
        "Invalid command line\r\n",
        "Expected -option_name or --option_name, got '/Volumes/Bay3/usearch/uniprot_sprot.udb'\r\n"
       ]
      },
      {
       "output_type": "stream",
       "stream": "stdout",
       "text": [
        "\r\n",
        "Invalid command line\r\n",
        "Expected -option_name or --option_name, got '/Volumes/Bay3/usearch/uniprot_sprot.udb'\r\n"
       ]
      },
      {
       "output_type": "stream",
       "stream": "stdout",
       "text": [
        "\r\n",
        "Invalid command line\r\n",
        "Expected -option_name or --option_name, got '/Volumes/Bay3/usearch/uniprot_sprot.udb'\r\n"
       ]
      },
      {
       "output_type": "stream",
       "stream": "stdout",
       "text": [
        "\r\n",
        "Invalid command line\r\n",
        "Expected -option_name or --option_name, got '/Volumes/Bay3/usearch/uniprot_sprot.udb'\r\n"
       ]
      },
      {
       "output_type": "stream",
       "stream": "stdout",
       "text": [
        "\r\n",
        "Invalid command line\r\n",
        "Expected -option_name or --option_name, got '/Volumes/Bay3/usearch/uniprot_sprot.udb'\r\n"
       ]
      },
      {
       "output_type": "stream",
       "stream": "stdout",
       "text": [
        "\r\n",
        "Invalid command line\r\n",
        "Expected -option_name or --option_name, got '/Volumes/Bay3/usearch/uniprot_sprot.udb'\r\n"
       ]
      },
      {
       "output_type": "stream",
       "stream": "stdout",
       "text": [
        "\r\n",
        "Invalid command line\r\n",
        "Expected -option_name or --option_name, got '/Volumes/Bay3/usearch/uniprot_sprot.udb'\r\n"
       ]
      },
      {
       "output_type": "stream",
       "stream": "stdout",
       "text": [
        "\r\n",
        "Invalid command line\r\n",
        "Expected -option_name or --option_name, got '/Volumes/Bay3/usearch/uniprot_sprot.udb'\r\n"
       ]
      },
      {
       "output_type": "stream",
       "stream": "stdout",
       "text": [
        "\r\n",
        "Invalid command line\r\n",
        "Expected -option_name or --option_name, got '/Volumes/Bay3/usearch/uniprot_sprot.udb'\r\n"
       ]
      },
      {
       "output_type": "stream",
       "stream": "stdout",
       "text": [
        "\r\n",
        "Invalid command line\r\n",
        "Expected -option_name or --option_name, got '/Volumes/Bay3/usearch/uniprot_sprot.udb'\r\n"
       ]
      },
      {
       "output_type": "stream",
       "stream": "stdout",
       "text": [
        "\r\n",
        "Invalid command line\r\n",
        "Expected -option_name or --option_name, got '/Volumes/Bay3/usearch/uniprot_sprot.udb'\r\n"
       ]
      },
      {
       "output_type": "stream",
       "stream": "stdout",
       "text": [
        "\r\n",
        "Invalid command line\r\n",
        "Expected -option_name or --option_name, got '/Volumes/Bay3/usearch/uniprot_sprot.udb'\r\n"
       ]
      },
      {
       "output_type": "stream",
       "stream": "stdout",
       "text": [
        "\r\n",
        "Invalid command line\r\n",
        "Expected -option_name or --option_name, got '/Volumes/Bay3/usearch/uniprot_sprot.udb'\r\n"
       ]
      },
      {
       "output_type": "stream",
       "stream": "stdout",
       "text": [
        "\r\n",
        "Invalid command line\r\n",
        "Expected -option_name or --option_name, got '/Volumes/Bay3/usearch/uniprot_sprot.udb'\r\n"
       ]
      },
      {
       "output_type": "stream",
       "stream": "stdout",
       "text": [
        "\r\n",
        "Invalid command line\r\n",
        "Expected -option_name or --option_name, got '/Volumes/Bay3/usearch/uniprot_sprot.udb'\r\n"
       ]
      },
      {
       "output_type": "stream",
       "stream": "stdout",
       "text": [
        "\r\n",
        "Invalid command line\r\n",
        "Expected -option_name or --option_name, got '/Volumes/Bay3/usearch/uniprot_sprot.udb'\r\n"
       ]
      },
      {
       "output_type": "stream",
       "stream": "stdout",
       "text": [
        "\r\n",
        "Invalid command line\r\n",
        "Expected -option_name or --option_name, got '/Volumes/Bay3/usearch/uniprot_sprot.udb'\r\n"
       ]
      },
      {
       "output_type": "stream",
       "stream": "stdout",
       "text": [
        "\r\n",
        "Invalid command line\r\n",
        "Expected -option_name or --option_name, got '/Volumes/Bay3/usearch/uniprot_sprot.udb'\r\n"
       ]
      },
      {
       "output_type": "stream",
       "stream": "stdout",
       "text": [
        "\r\n",
        "Invalid command line\r\n",
        "Expected -option_name or --option_name, got '/Volumes/Bay3/usearch/uniprot_sprot.udb'\r\n"
       ]
      },
      {
       "output_type": "stream",
       "stream": "stdout",
       "text": [
        "\r\n",
        "Invalid command line\r\n",
        "Expected -option_name or --option_name, got '/Volumes/Bay3/usearch/uniprot_sprot.udb'\r\n"
       ]
      },
      {
       "output_type": "stream",
       "stream": "stdout",
       "text": [
        "\r\n",
        "Invalid command line\r\n",
        "Expected -option_name or --option_name, got '/Volumes/Bay3/usearch/uniprot_sprot.udb'\r\n"
       ]
      },
      {
       "output_type": "stream",
       "stream": "stdout",
       "text": [
        "\r\n",
        "Invalid command line\r\n",
        "Expected -option_name or --option_name, got '/Volumes/Bay3/usearch/uniprot_sprot.udb'\r\n"
       ]
      },
      {
       "output_type": "stream",
       "stream": "stdout",
       "text": [
        "\r\n",
        "Invalid command line\r\n",
        "Expected -option_name or --option_name, got '/Volumes/Bay3/usearch/uniprot_sprot.udb'\r\n"
       ]
      },
      {
       "output_type": "stream",
       "stream": "stdout",
       "text": [
        "\r\n",
        "Invalid command line\r\n",
        "Expected -option_name or --option_name, got '/Volumes/Bay3/usearch/uniprot_sprot.udb'\r\n"
       ]
      },
      {
       "output_type": "stream",
       "stream": "stdout",
       "text": [
        "\r\n",
        "Invalid command line\r\n",
        "Expected -option_name or --option_name, got '/Volumes/Bay3/usearch/uniprot_sprot.udb'\r\n"
       ]
      },
      {
       "output_type": "stream",
       "stream": "stdout",
       "text": [
        "\r\n",
        "Invalid command line\r\n",
        "Expected -option_name or --option_name, got '/Volumes/Bay3/usearch/uniprot_sprot.udb'\r\n"
       ]
      },
      {
       "output_type": "stream",
       "stream": "stdout",
       "text": [
        "\r\n",
        "Invalid command line\r\n",
        "Expected -option_name or --option_name, got '/Volumes/Bay3/usearch/uniprot_sprot.udb'\r\n"
       ]
      },
      {
       "output_type": "stream",
       "stream": "stdout",
       "text": [
        "\r\n",
        "Invalid command line\r\n",
        "Expected -option_name or --option_name, got '/Volumes/Bay3/usearch/uniprot_sprot.udb'\r\n"
       ]
      },
      {
       "output_type": "stream",
       "stream": "stdout",
       "text": [
        "\r\n",
        "Invalid command line\r\n",
        "Expected -option_name or --option_name, got '/Volumes/Bay3/usearch/uniprot_sprot.udb'\r\n"
       ]
      },
      {
       "output_type": "stream",
       "stream": "stdout",
       "text": [
        "\r\n",
        "Invalid command line\r\n",
        "Expected -option_name or --option_name, got '/Volumes/Bay3/usearch/uniprot_sprot.udb'\r\n"
       ]
      },
      {
       "output_type": "stream",
       "stream": "stdout",
       "text": [
        "\r\n",
        "Invalid command line\r\n",
        "Expected -option_name or --option_name, got '/Volumes/Bay3/usearch/uniprot_sprot.udb'\r\n"
       ]
      },
      {
       "output_type": "stream",
       "stream": "stdout",
       "text": [
        "\r\n",
        "Invalid command line\r\n",
        "Expected -option_name or --option_name, got '/Volumes/Bay3/usearch/uniprot_sprot.udb'\r\n"
       ]
      },
      {
       "output_type": "stream",
       "stream": "stdout",
       "text": [
        "\r\n",
        "Invalid command line\r\n",
        "Expected -option_name or --option_name, got '/Volumes/Bay3/usearch/uniprot_sprot.udb'\r\n"
       ]
      },
      {
       "output_type": "stream",
       "stream": "stdout",
       "text": [
        "\r\n",
        "Invalid command line\r\n",
        "Expected -option_name or --option_name, got '/Volumes/Bay3/usearch/uniprot_sprot.udb'\r\n"
       ]
      },
      {
       "output_type": "stream",
       "stream": "stdout",
       "text": [
        "\r\n",
        "Invalid command line\r\n",
        "Expected -option_name or --option_name, got '/Volumes/Bay3/usearch/uniprot_sprot.udb'\r\n"
       ]
      },
      {
       "output_type": "stream",
       "stream": "stdout",
       "text": [
        "\r\n",
        "Invalid command line\r\n",
        "Expected -option_name or --option_name, got '/Volumes/Bay3/usearch/uniprot_sprot.udb'\r\n"
       ]
      },
      {
       "output_type": "stream",
       "stream": "stdout",
       "text": [
        "\r\n",
        "Invalid command line\r\n",
        "Expected -option_name or --option_name, got '/Volumes/Bay3/usearch/uniprot_sprot.udb'\r\n"
       ]
      },
      {
       "output_type": "stream",
       "stream": "stdout",
       "text": [
        "\r\n",
        "Invalid command line\r\n",
        "Expected -option_name or --option_name, got '/Volumes/Bay3/usearch/uniprot_sprot.udb'\r\n"
       ]
      },
      {
       "output_type": "stream",
       "stream": "stdout",
       "text": [
        "\r\n",
        "Invalid command line\r\n",
        "Expected -option_name or --option_name, got '/Volumes/Bay3/usearch/uniprot_sprot.udb'\r\n"
       ]
      },
      {
       "output_type": "stream",
       "stream": "stdout",
       "text": [
        "\r\n",
        "Invalid command line\r\n",
        "Expected -option_name or --option_name, got '/Volumes/Bay3/usearch/uniprot_sprot.udb'\r\n"
       ]
      },
      {
       "output_type": "stream",
       "stream": "stdout",
       "text": [
        "\r\n",
        "Invalid command line\r\n",
        "Expected -option_name or --option_name, got '/Volumes/Bay3/usearch/uniprot_sprot.udb'\r\n"
       ]
      },
      {
       "output_type": "stream",
       "stream": "stdout",
       "text": [
        "\r\n",
        "Invalid command line\r\n",
        "Expected -option_name or --option_name, got '/Volumes/Bay3/usearch/uniprot_sprot.udb'\r\n"
       ]
      },
      {
       "output_type": "stream",
       "stream": "stdout",
       "text": [
        "\r\n",
        "Invalid command line\r\n",
        "Expected -option_name or --option_name, got '/Volumes/Bay3/usearch/uniprot_sprot.udb'\r\n"
       ]
      },
      {
       "output_type": "stream",
       "stream": "stdout",
       "text": [
        "\r\n",
        "Invalid command line\r\n",
        "Expected -option_name or --option_name, got '/Volumes/Bay3/usearch/uniprot_sprot.udb'\r\n"
       ]
      },
      {
       "output_type": "stream",
       "stream": "stdout",
       "text": [
        "\r\n",
        "Invalid command line\r\n",
        "Expected -option_name or --option_name, got '/Volumes/Bay3/usearch/uniprot_sprot.udb'\r\n"
       ]
      },
      {
       "output_type": "stream",
       "stream": "stdout",
       "text": [
        "\r\n",
        "Invalid command line\r\n",
        "Expected -option_name or --option_name, got '/Volumes/Bay3/usearch/uniprot_sprot.udb'\r\n"
       ]
      },
      {
       "output_type": "stream",
       "stream": "stdout",
       "text": [
        "\r\n",
        "Invalid command line\r\n",
        "Expected -option_name or --option_name, got '/Volumes/Bay3/usearch/uniprot_sprot.udb'\r\n"
       ]
      },
      {
       "output_type": "stream",
       "stream": "stdout",
       "text": [
        "\r\n",
        "Invalid command line\r\n",
        "Expected -option_name or --option_name, got '/Volumes/Bay3/usearch/uniprot_sprot.udb'\r\n"
       ]
      },
      {
       "output_type": "stream",
       "stream": "stdout",
       "text": [
        "\r\n",
        "Invalid command line\r\n",
        "Expected -option_name or --option_name, got '/Volumes/Bay3/usearch/uniprot_sprot.udb'\r\n"
       ]
      },
      {
       "output_type": "stream",
       "stream": "stdout",
       "text": [
        "\r\n",
        "Invalid command line\r\n",
        "Expected -option_name or --option_name, got '/Volumes/Bay3/usearch/uniprot_sprot.udb'\r\n"
       ]
      },
      {
       "output_type": "stream",
       "stream": "stdout",
       "text": [
        "\r\n",
        "Invalid command line\r\n",
        "Expected -option_name or --option_name, got '/Volumes/Bay3/usearch/uniprot_sprot.udb'\r\n"
       ]
      },
      {
       "output_type": "stream",
       "stream": "stdout",
       "text": [
        "\r\n",
        "Invalid command line\r\n",
        "Expected -option_name or --option_name, got '/Volumes/Bay3/usearch/uniprot_sprot.udb'\r\n"
       ]
      },
      {
       "output_type": "stream",
       "stream": "stdout",
       "text": [
        "\r\n",
        "Invalid command line\r\n",
        "Expected -option_name or --option_name, got '/Volumes/Bay3/usearch/uniprot_sprot.udb'\r\n"
       ]
      },
      {
       "output_type": "stream",
       "stream": "stdout",
       "text": [
        "\r\n",
        "Invalid command line\r\n",
        "Expected -option_name or --option_name, got '/Volumes/Bay3/usearch/uniprot_sprot.udb'\r\n"
       ]
      },
      {
       "output_type": "stream",
       "stream": "stdout",
       "text": [
        "\r\n",
        "Invalid command line\r\n",
        "Expected -option_name or --option_name, got '/Volumes/Bay3/usearch/uniprot_sprot.udb'\r\n"
       ]
      },
      {
       "output_type": "stream",
       "stream": "stdout",
       "text": [
        "\r\n",
        "Invalid command line\r\n",
        "Expected -option_name or --option_name, got '/Volumes/Bay3/usearch/uniprot_sprot.udb'\r\n"
       ]
      },
      {
       "output_type": "stream",
       "stream": "stdout",
       "text": [
        "\r\n",
        "Invalid command line\r\n",
        "Expected -option_name or --option_name, got '/Volumes/Bay3/usearch/uniprot_sprot.udb'\r\n"
       ]
      },
      {
       "output_type": "stream",
       "stream": "stdout",
       "text": [
        "\r\n",
        "Invalid command line\r\n",
        "Expected -option_name or --option_name, got '/Volumes/Bay3/usearch/uniprot_sprot.udb'\r\n"
       ]
      },
      {
       "output_type": "stream",
       "stream": "stdout",
       "text": [
        "\r\n",
        "Invalid command line\r\n",
        "Expected -option_name or --option_name, got '/Volumes/Bay3/usearch/uniprot_sprot.udb'\r\n"
       ]
      },
      {
       "output_type": "stream",
       "stream": "stdout",
       "text": [
        "\r\n",
        "Invalid command line\r\n",
        "Expected -option_name or --option_name, got '/Volumes/Bay3/usearch/uniprot_sprot.udb'\r\n"
       ]
      },
      {
       "output_type": "stream",
       "stream": "stdout",
       "text": [
        "\r\n",
        "Invalid command line\r\n",
        "Expected -option_name or --option_name, got '/Volumes/Bay3/usearch/uniprot_sprot.udb'\r\n"
       ]
      }
     ],
     "prompt_number": 4
    },
    {
     "cell_type": "code",
     "collapsed": false,
     "input": [
      "for i in \"*\":\n",
      "    !/Volumes/Bay3/Software/ncbi-blast-2.2.29+/bin/blastx \\\n",
      "-query {i} \\\n",
      "-db /Volumes/Bay3/Software/ncbi-blast-2.2.28+/db/uniprot_sprot \\\n",
      "-evalue 1e-5 \\\n",
      "-max_target_seqs 1 \\\n",
      "-outfmt 6 \\\n",
      "-num_threads 2 \\\n",
      "-out /Volumes/Bay3/usearch/ncbi_{i}results.b6\n",
      "!say done"
     ],
     "language": "python",
     "metadata": {},
     "outputs": [
      {
       "output_type": "stream",
       "stream": "stdout",
       "text": [
        "USAGE\r\n",
        "  blastx [-h] [-help] [-import_search_strategy filename]\r\n",
        "    [-export_search_strategy filename] [-db database_name]\r\n",
        "    [-dbsize num_letters] [-gilist filename] [-seqidlist filename]\r\n",
        "    [-negative_gilist filename] [-entrez_query entrez_query]\r\n",
        "    [-db_soft_mask filtering_algorithm] [-db_hard_mask filtering_algorithm]\r\n",
        "    [-subject subject_input_file] [-subject_loc range] [-query input_file]\r\n",
        "    [-out output_file] [-evalue evalue] [-word_size int_value]\r\n",
        "    [-gapopen open_penalty] [-gapextend extend_penalty]\r\n",
        "    [-xdrop_ungap float_value] [-xdrop_gap float_value]\r\n",
        "    [-xdrop_gap_final float_value] [-searchsp int_value] [-max_hsps int_value]\r\n",
        "    [-sum_statistics] [-max_intron_length length] [-seg SEG_options]\r\n",
        "    [-soft_masking soft_masking] [-matrix matrix_name]\r\n",
        "    [-threshold float_value] [-culling_limit int_value]\r\n",
        "    [-best_hit_overhang float_value] [-best_hit_score_edge float_value]\r\n",
        "    [-window_size int_value] [-ungapped] [-lcase_masking] [-query_loc range]\r\n",
        "    [-strand strand] [-parse_deflines] [-query_gencode int_value]\r\n",
        "    [-outfmt format] [-show_gis] [-num_descriptions int_value]\r\n",
        "    [-num_alignments int_value] [-html] [-max_target_seqs num_sequences]\r\n",
        "    [-num_threads int_value] [-remote] [-comp_based_stats compo]\r\n",
        "    [-use_sw_tback] [-version]\r\n",
        "\r\n",
        "DESCRIPTION\r\n",
        "   Translated Query-Protein Subject BLAST 2.2.29+\r\n",
        "\r\n",
        "Use '-help' to print detailed descriptions of command line arguments\r\n",
        "========================================================================\r\n",
        "\r\n",
        "Error: Too many positional arguments (1), the offending value: cgigas.part-02.fa\r\n"
       ]
      }
     ],
     "prompt_number": 200
    },
    {
     "cell_type": "code",
     "collapsed": false,
     "input": [
      "from __future__ import print_function\n",
      "import glob\n",
      "import os\n",
      "os.chdir(\"/Volumes/web/cnidarian/cg_split\")\n",
      "for file in glob.glob(\"*\"):\n",
      "    /Volumes/Bay3/Software/ncbi-blast-2.2.29+/bin/blastx -query $file \\\n",
      "    -db /Volumes/caviar/Dropbox/Steven/eimd/data/blast_db/Biosystem_751435 \\\n",
      "    -out /Volumes/web/cnidarian/$file.blastout"
     ],
     "language": "python",
     "metadata": {},
     "outputs": [
      {
       "ename": "SyntaxError",
       "evalue": "invalid syntax (<ipython-input-12-cad62b0f711c>, line 6)",
       "output_type": "pyerr",
       "traceback": [
        "\u001b[0;36m  File \u001b[0;32m\"<ipython-input-12-cad62b0f711c>\"\u001b[0;36m, line \u001b[0;32m6\u001b[0m\n\u001b[0;31m    Volumes(/Bay3/Software/ncbi-blast-2.2.29+/bin/blastx, -query, $file, -db, /Volumes/caviar/Dropbox/Steven/eimd/data/blast_db/Biosystem_751435, -out, /Volumes/web/cnidarian/$file.blastout)\u001b[0m\n\u001b[0m            ^\u001b[0m\n\u001b[0;31mSyntaxError\u001b[0m\u001b[0;31m:\u001b[0m invalid syntax\n"
       ]
      }
     ],
     "prompt_number": 12
    },
    {
     "cell_type": "code",
     "collapsed": false,
     "input": [
      "for i in (\"cgigas.part-21.fa\",\"cgigas.part-42.fa\"):\n",
      "    !echo {i} "
     ],
     "language": "python",
     "metadata": {},
     "outputs": [
      {
       "ename": "SyntaxError",
       "evalue": "invalid syntax (<ipython-input-36-adb24ac57427>, line 1)",
       "output_type": "pyerr",
       "traceback": [
        "\u001b[0;36m  File \u001b[0;32m\"<ipython-input-36-adb24ac57427>\"\u001b[0;36m, line \u001b[0;32m1\u001b[0m\n\u001b[0;31m    for i in (cgigas.part-01.fa,cgigas.part-02.fa):\u001b[0m\n\u001b[0m                              ^\u001b[0m\n\u001b[0;31mSyntaxError\u001b[0m\u001b[0;31m:\u001b[0m invalid syntax\n"
       ]
      }
     ],
     "prompt_number": 36
    },
    {
     "cell_type": "code",
     "collapsed": false,
     "input": [
      "for i in \"*\":\n",
      "    !echo {i} | tr ' ' , | sed 's/fa/fa\"/g' | sed 's/cgig/\"cgig/g' "
     ],
     "language": "python",
     "metadata": {},
     "outputs": [
      {
       "output_type": "stream",
       "stream": "stdout",
       "text": [
        "\"cgigas.part-01.fa\",\"cgigas.part-02.fa\",\"cgigas.part-03.fa\",\"cgigas.part-04.fa\",\"cgigas.part-05.fa\",\"cgigas.part-06.fa\",\"cgigas.part-07.fa\",\"cgigas.part-08.fa\",\"cgigas.part-09.fa\",\"cgigas.part-10.fa\",\"cgigas.part-11.fa\",\"cgigas.part-12.fa\",\"cgigas.part-13.fa\",\"cgigas.part-14.fa\",\"cgigas.part-15.fa\",\"cgigas.part-16.fa\",\"cgigas.part-17.fa\",\"cgigas.part-18.fa\",\"cgigas.part-19.fa\",\"cgigas.part-20.fa\",\"cgigas.part-21.fa\",\"cgigas.part-22.fa\",\"cgigas.part-23.fa\",\"cgigas.part-24.fa\",\"cgigas.part-25.fa\",\"cgigas.part-26.fa\",\"cgigas.part-27.fa\",\"cgigas.part-28.fa\",\"cgigas.part-29.fa\",\"cgigas.part-30.fa\",\"cgigas.part-31.fa\",\"cgigas.part-32.fa\",\"cgigas.part-33.fa\",\"cgigas.part-34.fa\",\"cgigas.part-35.fa\",\"cgigas.part-36.fa\",\"cgigas.part-37.fa\",\"cgigas.part-38.fa\",\"cgigas.part-39.fa\",\"cgigas.part-40.fa\",\"cgigas.part-41.fa\",\"cgigas.part-42.fa\",\"cgigas.part-43.fa\",\"cgigas.part-44.fa\",\"cgigas.part-45.fa\",\"cgigas.part-46.fa\",\"cgigas.part-47.fa\",\"cgigas.part-48.fa\",\"cgigas.part-49.fa\",\"cgigas.part-50.fa\",\"cgigas.part-51.fa\",\"cgigas.part-52.fa\",\"cgigas.part-53.fa\",\"cgigas.part-54.fa\",\"cgigas.part-55.fa\",\"cgigas.part-56.fa\",\"cgigas.part-57.fa\",\"cgigas.part-58.fa\",\"cgigas.part-59.fa\",\"cgigas.part-60.fa\",\"cgigas.part-61.fa\",\"cgigas.part-62.fa\",\"cgigas.part-63.fa\",\"cgigas.part-64.fa\",\"cgigas.part-65.fa\",\"cgigas.part-66.fa\",\"cgigas.part-67.fa\",\"cgigas.part-68.fa\",\"cgigas.part-69.fa\",\"cgigas.part-70.fa\",\"cgigas.part-71.fa\",\"cgigas.part-72.fa\",\"cgigas.part-73.fa\",\"cgigas.part-74.fa\",\"cgigas.part-75.fa\",\"cgigas.part-76.fa\",\"cgigas.part-77.fa\",\"cgigas.part-78.fa\",\"cgigas.part-79.fa\",\"cgigas.part-80.fa\",\"cgigas.part-81.fa\",\"cgigas.part-82.fa\",\"cgigas.part-83.fa\",tmp\r\n"
       ]
      }
     ],
     "prompt_number": 43
    },
    {
     "cell_type": "code",
     "collapsed": false,
     "input": [
      "%%time\n",
      "for i in (\"cgigas.part-01.fa\",\"cgigas.part-02.fa\",\"cgigas.part-03.fa\",\"cgigas.part-04.fa\",\"cgigas.part-05.fa\",\"cgigas.part-06.fa\",\"cgigas.part-07.fa\",\"cgigas.part-08.fa\",\"cgigas.part-09.fa\",\"cgigas.part-10.fa\",\"cgigas.part-11.fa\",\"cgigas.part-12.fa\",\"cgigas.part-13.fa\",\"cgigas.part-14.fa\",\"cgigas.part-15.fa\",\"cgigas.part-16.fa\",\"cgigas.part-17.fa\",\"cgigas.part-18.fa\",\"cgigas.part-19.fa\",\"cgigas.part-20.fa\",\"cgigas.part-21.fa\",\"cgigas.part-22.fa\",\"cgigas.part-23.fa\",\"cgigas.part-24.fa\",\"cgigas.part-25.fa\",\"cgigas.part-26.fa\",\"cgigas.part-27.fa\",\"cgigas.part-28.fa\",\"cgigas.part-29.fa\",\"cgigas.part-30.fa\",\"cgigas.part-31.fa\",\"cgigas.part-32.fa\",\"cgigas.part-33.fa\",\"cgigas.part-34.fa\",\"cgigas.part-35.fa\",\"cgigas.part-36.fa\",\"cgigas.part-37.fa\",\"cgigas.part-38.fa\",\"cgigas.part-39.fa\",\"cgigas.part-40.fa\",\"cgigas.part-41.fa\",\"cgigas.part-42.fa\",\"cgigas.part-43.fa\",\"cgigas.part-44.fa\",\"cgigas.part-45.fa\",\"cgigas.part-46.fa\",\"cgigas.part-47.fa\",\"cgigas.part-48.fa\",\"cgigas.part-49.fa\",\"cgigas.part-50.fa\",\"cgigas.part-51.fa\",\"cgigas.part-52.fa\",\"cgigas.part-53.fa\",\"cgigas.part-54.fa\",\"cgigas.part-55.fa\",\"cgigas.part-56.fa\",\"cgigas.part-57.fa\",\"cgigas.part-58.fa\",\"cgigas.part-59.fa\",\"cgigas.part-60.fa\",\"cgigas.part-61.fa\",\"cgigas.part-62.fa\",\"cgigas.part-63.fa\",\"cgigas.part-64.fa\",\"cgigas.part-65.fa\",\"cgigas.part-66.fa\",\"cgigas.part-67.fa\",\"cgigas.part-68.fa\",\"cgigas.part-69.fa\",\"cgigas.part-70.fa\",\"cgigas.part-71.fa\",\"cgigas.part-72.fa\",\"cgigas.part-73.fa\",\"cgigas.part-74.fa\",\"cgigas.part-75.fa\",\"cgigas.part-76.fa\",\"cgigas.part-77.fa\",\"cgigas.part-78.fa\",\"cgigas.part-79.fa\",\"cgigas.part-80.fa\",\"cgigas.part-81.fa\",\"cgigas.part-82.fa\",\"cgigas.part-83.fa\"):\n",
      "    !usearch -ublast {i} \\\n",
      "-db /Volumes/Bay3/usearch/uniprot_sprot.udb \\\n",
      "-evalue 1e-5 \\\n",
      "-accel 0.8 \\\n",
      "-top_hits_only \\\n",
      "-maxhits 1 \\\n",
      "-blast6out /Volumes/web/cnidarian/cgigas8_{i}_ublast_sprot.b6\n"
     ],
     "language": "python",
     "metadata": {},
     "outputs": [
      {
       "output_type": "stream",
       "stream": "stdout",
       "text": [
        "usearch v7.0.1090_i86osx32, 4.0Gb RAM (15.0Gb total), 4 cores\r\n",
        "(C) Copyright 2013 Robert C. Edgar, all rights reserved.\r\n",
        "http://drive5.com/usearch\r\n",
        "\r\n",
        "Licensed to: sr320@uw.edu\r\n",
        "\r\n",
        "00:00 1.7Mb Reading /Volumes/Bay3/usearch/uniprot_sprot.udb\r\n"
       ]
      },
      {
       "output_type": "stream",
       "stream": "stdout",
       "text": [
        "00:03 1.1Gb Database loaded\r\n",
        "00:03 1.1Gb    0.1% Searching, 0.0% matched\r"
       ]
      },
      {
       "output_type": "stream",
       "stream": "stdout",
       "text": [
        "00:04 1.1Gb    2.5% Searching, 1.7% matched\r"
       ]
      },
      {
       "output_type": "stream",
       "stream": "stdout",
       "text": [
        "00:05 1.1Gb    6.3% Searching, 2.0% matched\r"
       ]
      },
      {
       "output_type": "stream",
       "stream": "stdout",
       "text": [
        "0"
       ]
      },
      {
       "output_type": "stream",
       "stream": "stdout",
       "text": [
        "0:06 1.1Gb   11.0% Searching, 2.2% matched\r"
       ]
      },
      {
       "output_type": "stream",
       "stream": "stdout",
       "text": [
        "00:07 1.1Gb   14.9% Searching, 2.8% matched\r"
       ]
      },
      {
       "output_type": "stream",
       "stream": "stdout",
       "text": [
        "00:08 1.1Gb   17.8% Searching, 2.8% matched\r"
       ]
      },
      {
       "output_type": "stream",
       "stream": "stdout",
       "text": [
        "00:09 1.1Gb   21.8% Searching, 3.0% matched\r"
       ]
      },
      {
       "output_type": "stream",
       "stream": "stdout",
       "text": [
        "00:10 1.1Gb   24.6% Searching, 3.0% matched\r"
       ]
      },
      {
       "output_type": "stream",
       "stream": "stdout",
       "text": [
        "00:11 1.1Gb   26.1% Searching, 3.2% matched\r"
       ]
      },
      {
       "output_type": "stream",
       "stream": "stdout",
       "text": [
        "00:12 1.1Gb   28.5% Searching, 3.3% matched\r"
       ]
      },
      {
       "output_type": "stream",
       "stream": "stdout",
       "text": [
        "00:13 1.1Gb   31.9% Searching, 3.2% matched\r"
       ]
      },
      {
       "output_type": "stream",
       "stream": "stdout",
       "text": [
        "00:14 1.1Gb   34.9% Searching, 3.1% matched\r"
       ]
      },
      {
       "output_type": "stream",
       "stream": "stdout",
       "text": [
        "00:15 1.1Gb   38.2% Searching, 3.0% matched\r"
       ]
      },
      {
       "output_type": "stream",
       "stream": "stdout",
       "text": [
        "00:16 1.1Gb   41.7% Searching, 3.1% matched\r"
       ]
      },
      {
       "output_type": "stream",
       "stream": "stdout",
       "text": [
        "00:17 1.1Gb   45.1% Searching, 3.2% matched\r"
       ]
      },
      {
       "output_type": "stream",
       "stream": "stdout",
       "text": [
        "00:18 1.1Gb   48.4% Searching, 3.2% matched\r"
       ]
      },
      {
       "output_type": "stream",
       "stream": "stdout",
       "text": [
        "00:19 1.1Gb   52.0% Searching, 3.1% matched\r"
       ]
      },
      {
       "output_type": "stream",
       "stream": "stdout",
       "text": [
        "00:20 1.1Gb   56.1% Searching, 3.0% matched\r"
       ]
      },
      {
       "output_type": "stream",
       "stream": "stdout",
       "text": [
        "00:21 1.1Gb   61.0% Searching, 2.9% matched\r"
       ]
      },
      {
       "output_type": "stream",
       "stream": "stdout",
       "text": [
        "00:22 1.1Gb   64.2% Searching, 2.9% matched\r"
       ]
      },
      {
       "output_type": "stream",
       "stream": "stdout",
       "text": [
        "00:23 1.1Gb   67.8% Searching, 2.9% matched\r"
       ]
      },
      {
       "output_type": "stream",
       "stream": "stdout",
       "text": [
        "00:24 1.1Gb   71.8% Searching, 2.9% matched\r"
       ]
      },
      {
       "output_type": "stream",
       "stream": "stdout",
       "text": [
        "00:25 1.1Gb   75.5% Searching, 2.8% matched\r"
       ]
      },
      {
       "output_type": "stream",
       "stream": "stdout",
       "text": [
        "00:26 1.1Gb   79.0% Searching, 2.8% matched\r"
       ]
      },
      {
       "output_type": "stream",
       "stream": "stdout",
       "text": [
        "00:27 1.1Gb   82.5% Searching, 2.8% matched\r"
       ]
      },
      {
       "output_type": "stream",
       "stream": "stdout",
       "text": [
        "00:28 1.1Gb   85.5% Searching, 2.8% matched\r"
       ]
      },
      {
       "output_type": "stream",
       "stream": "stdout",
       "text": [
        "00:29 1.1Gb   89.5% Searching, 2.7% matched\r"
       ]
      },
      {
       "output_type": "stream",
       "stream": "stdout",
       "text": [
        "00:30 1.1Gb   93.0% Searching, 2.7% matched\r"
       ]
      },
      {
       "output_type": "stream",
       "stream": "stdout",
       "text": [
        "00:31 1.1Gb   96.0% Searching, 2.7% matched\r"
       ]
      },
      {
       "output_type": "stream",
       "stream": "stdout",
       "text": [
        "00:32 1.1Gb   99.7% Searching, 2.7% matched\r"
       ]
      },
      {
       "output_type": "stream",
       "stream": "stdout",
       "text": [
        "00:32 1.1Gb  100.0% Searching, 2.7% matched\r",
        "\r\n"
       ]
      },
      {
       "output_type": "stream",
       "stream": "stdout",
       "text": [
        "usearch v7.0.1090_i86osx32, 4.0Gb RAM (15.0Gb total), 4 cores\r\n",
        "(C) Copyright 2013 Robert C. Edgar, all rights reserved.\r\n",
        "http://drive5.com/usearch\r\n",
        "\r\n",
        "Licensed to: sr320@uw.edu\r\n",
        "\r\n",
        "00:00 1.7Mb Reading /Volumes/Bay3/usearch/uniprot_sprot.udb\r\n"
       ]
      },
      {
       "output_type": "stream",
       "stream": "stdout",
       "text": [
        "00:02 1.1Gb Database loaded\r\n",
        "00:02 1.1Gb    0.1% Searching, 0.0% matched\r"
       ]
      },
      {
       "output_type": "stream",
       "stream": "stdout",
       "text": [
        "00:03 1.1Gb    1.3% Searching, 1.4% matched\r"
       ]
      },
      {
       "output_type": "stream",
       "stream": "stdout",
       "text": [
        "00:04 1.1Gb    4.0% Searching, 0.7% matched\r"
       ]
      },
      {
       "output_type": "stream",
       "stream": "stdout",
       "text": [
        "00:05 1.1Gb    6.9% Searching, 0.8% matched\r"
       ]
      },
      {
       "output_type": "stream",
       "stream": "stdout",
       "text": [
        "00:06 1.1Gb   10.1% Searching, 1.8% matched\r"
       ]
      },
      {
       "output_type": "stream",
       "stream": "stdout",
       "text": [
        "00:07 1.1Gb   14.5% Searching, 1.8% matched\r"
       ]
      },
      {
       "output_type": "stream",
       "stream": "stdout",
       "text": [
        "00:08 1.1Gb   17.7% Searching, 1.6% matched\r"
       ]
      },
      {
       "output_type": "stream",
       "stream": "stdout",
       "text": [
        "00:09 1.1Gb   21.0% Searching, 1.5% matched\r"
       ]
      },
      {
       "output_type": "stream",
       "stream": "stdout",
       "text": [
        "00:10 1.1Gb   24.0% Searching, 1.5% matched\r"
       ]
      },
      {
       "output_type": "stream",
       "stream": "stdout",
       "text": [
        "00:11 1.1Gb   26.9% Searching, 1.7% matched\r"
       ]
      },
      {
       "output_type": "stream",
       "stream": "stdout",
       "text": [
        "00:12 1.1Gb   29.9% Searching, 2.0% matched\r"
       ]
      },
      {
       "output_type": "stream",
       "stream": "stdout",
       "text": [
        "00:13 1.1Gb   33.4% Searching, 2.0% matched\r"
       ]
      },
      {
       "output_type": "stream",
       "stream": "stdout",
       "text": [
        "00:14 1.1Gb   36.3% Searching, 2.0% matched\r"
       ]
      },
      {
       "output_type": "stream",
       "stream": "stdout",
       "text": [
        "00:15 1.1Gb   39.4% Searching, 2.0% matched\r"
       ]
      },
      {
       "output_type": "stream",
       "stream": "stdout",
       "text": [
        "00:16 1.1Gb   42.8% Searching, 2.0% matched\r"
       ]
      },
      {
       "output_type": "stream",
       "stream": "stdout",
       "text": [
        "00:17 1.1Gb   45.8% Searching, 2.1% matched\r"
       ]
      },
      {
       "output_type": "stream",
       "stream": "stdout",
       "text": [
        "00:18 1.1Gb   49.3% Searching, 2.2% matched\r"
       ]
      },
      {
       "output_type": "stream",
       "stream": "stdout",
       "text": [
        "00:19 1.1Gb   53.9% Searching, 2.1% matched\r"
       ]
      },
      {
       "output_type": "stream",
       "stream": "stdout",
       "text": [
        "00:20 1.1Gb   58.1% Searching, 2.2% matched\r"
       ]
      },
      {
       "output_type": "stream",
       "stream": "stdout",
       "text": [
        "00:21 1.1Gb   60.8% Searching, 2.1% matched\r"
       ]
      },
      {
       "output_type": "stream",
       "stream": "stdout",
       "text": [
        "00:22 1.1Gb   63.3% Searching, 2.2% matched\r"
       ]
      },
      {
       "output_type": "stream",
       "stream": "stdout",
       "text": [
        "00:23 1.1Gb   65.8% Searching, 2.2% matched\r"
       ]
      },
      {
       "output_type": "stream",
       "stream": "stdout",
       "text": [
        "00:24 1.1Gb   68.9% Searching, 2.3% matched\r"
       ]
      },
      {
       "output_type": "stream",
       "stream": "stdout",
       "text": [
        "00:25 1.1Gb   71.9% Searching, 2.2% matched\r"
       ]
      },
      {
       "output_type": "stream",
       "stream": "stdout",
       "text": [
        "00:26 1.1Gb   74.8% Searching, 2.2% matched\r"
       ]
      },
      {
       "output_type": "stream",
       "stream": "stdout",
       "text": [
        "00:27 1.1Gb   77.1% Searching, 2.3% matched\r"
       ]
      },
      {
       "output_type": "stream",
       "stream": "stdout",
       "text": [
        "00:28 1.1Gb   78.6% Searching, 2.3% matched\r"
       ]
      },
      {
       "output_type": "stream",
       "stream": "stdout",
       "text": [
        "00:29 1.1Gb   81.1% Searching, 2.3% matched\r"
       ]
      },
      {
       "output_type": "stream",
       "stream": "stdout",
       "text": [
        "00:30 1.1Gb   84.9% Searching, 2.3% matched\r"
       ]
      },
      {
       "output_type": "stream",
       "stream": "stdout",
       "text": [
        "00:31 1.1Gb   88.0% Searching, 2.3% matched\r"
       ]
      },
      {
       "output_type": "stream",
       "stream": "stdout",
       "text": [
        "00:32 1.1Gb   91.0% Searching, 2.3% matched\r"
       ]
      },
      {
       "output_type": "stream",
       "stream": "stdout",
       "text": [
        "00:33 1.1Gb   94.4% Searching, 2.3% matched\r"
       ]
      },
      {
       "output_type": "stream",
       "stream": "stdout",
       "text": [
        "00:34 1.1Gb   96.9% Searching, 2.3% matched\r"
       ]
      },
      {
       "output_type": "stream",
       "stream": "stdout",
       "text": [
        "00:35 1.1Gb   98.3% Searching, 2.3% matched\r"
       ]
      },
      {
       "output_type": "stream",
       "stream": "stdout",
       "text": [
        "00:35 1.1Gb  100.0% Searching, 2.3% matched\r",
        "\r\n"
       ]
      },
      {
       "output_type": "stream",
       "stream": "stdout",
       "text": [
        "usearch v7.0.1090_i86osx32, 4.0Gb RAM (15.0Gb total), 4 cores\r\n",
        "(C) Copyright 2013 Robert C. Edgar, all rights reserved.\r\n",
        "http://drive5.com/usearch\r\n",
        "\r\n",
        "Licensed to: sr320@uw.edu\r\n",
        "\r\n",
        "00:00 1.6Mb Reading /Volumes/Bay3/usearch/uniprot_sprot.udb\r\n"
       ]
      },
      {
       "output_type": "stream",
       "stream": "stdout",
       "text": [
        "00:02 1.1Gb Database loaded\r\n",
        "00:02 1.1Gb    0.1% Searching, 0.0% matched\r"
       ]
      },
      {
       "output_type": "stream",
       "stream": "stdout",
       "text": [
        "00:03 1.1Gb    4.2% Searching, 1.9% matched\r"
       ]
      },
      {
       "output_type": "stream",
       "stream": "stdout",
       "text": [
        "00:04 1.1Gb    7.5% Searching, 3.5% matched\r"
       ]
      },
      {
       "output_type": "stream",
       "stream": "stdout",
       "text": [
        "00:05 1.1Gb   11.8% Searching, 2.7% matched\r"
       ]
      },
      {
       "output_type": "stream",
       "stream": "stdout",
       "text": [
        "00:06 1.1Gb   17.7% Searching, 2.5% matched\r"
       ]
      },
      {
       "output_type": "stream",
       "stream": "stdout",
       "text": [
        "00:07 1.1Gb   21.5% Searching, 2.5% matched\r"
       ]
      },
      {
       "output_type": "stream",
       "stream": "stdout",
       "text": [
        "00:08 1.1Gb   25.6% Searching, 2.7% matched\r"
       ]
      },
      {
       "output_type": "stream",
       "stream": "stdout",
       "text": [
        "00:09 1.1Gb   30.0% Searching, 2.8% matched\r"
       ]
      },
      {
       "output_type": "stream",
       "stream": "stdout",
       "text": [
        "00:10 1.1Gb   33.3% Searching, 3.0% matched\r"
       ]
      },
      {
       "output_type": "stream",
       "stream": "stdout",
       "text": [
        "00:11 1.1Gb   36.6% Searching, 2.9% matched\r"
       ]
      },
      {
       "output_type": "stream",
       "stream": "stdout",
       "text": [
        "00:12 1.1Gb   40.6% Searching, 2.9% matched\r"
       ]
      },
      {
       "output_type": "stream",
       "stream": "stdout",
       "text": [
        "00:13 1.1Gb   43.5% Searching, 2.9% matched\r"
       ]
      },
      {
       "output_type": "stream",
       "stream": "stdout",
       "text": [
        "00:14 1.1Gb   46.9% Searching, 2.8% matched\r"
       ]
      },
      {
       "output_type": "stream",
       "stream": "stdout",
       "text": [
        "00:15 1.1Gb   50.2% Searching, 2.7% matched\r"
       ]
      },
      {
       "output_type": "stream",
       "stream": "stdout",
       "text": [
        "00:16 1.1Gb   53.6% Searching, 2.8% matched\r"
       ]
      },
      {
       "output_type": "stream",
       "stream": "stdout",
       "text": [
        "00:17 1.1Gb   57.5% Searching, 2.7% matched\r"
       ]
      },
      {
       "output_type": "stream",
       "stream": "stdout",
       "text": [
        "00:18 1.1Gb   62.1% Searching, 2.8% matched\r"
       ]
      },
      {
       "output_type": "stream",
       "stream": "stdout",
       "text": [
        "00:19 1.1Gb   64.1% Searching, 2.8% matched\r"
       ]
      },
      {
       "output_type": "stream",
       "stream": "stdout",
       "text": [
        "00:20 1.1Gb   67.4% Searching, 2.9% matched\r"
       ]
      },
      {
       "output_type": "stream",
       "stream": "stdout",
       "text": [
        "00:21 1.1Gb   71.0% Searching, 2.9% matched\r"
       ]
      },
      {
       "output_type": "stream",
       "stream": "stdout",
       "text": [
        "00:22 1.1Gb   74.0% Searching, 3.0% matched\r"
       ]
      },
      {
       "output_type": "stream",
       "stream": "stdout",
       "text": [
        "00:23 1.1Gb   78.1% Searching, 3.0% matched\r"
       ]
      },
      {
       "output_type": "stream",
       "stream": "stdout",
       "text": [
        "00:24 1.1Gb   82.7% Searching, 2.9% matched\r"
       ]
      },
      {
       "output_type": "stream",
       "stream": "stdout",
       "text": [
        "00:25 1.1Gb   85.9% Searching, 2.9% matched\r"
       ]
      },
      {
       "output_type": "stream",
       "stream": "stdout",
       "text": [
        "00:26 1.1Gb   88.5% Searching, 3.0% matched\r"
       ]
      },
      {
       "output_type": "stream",
       "stream": "stdout",
       "text": [
        "00:27 1.1Gb   91.9% Searching, 2.9% matched\r"
       ]
      },
      {
       "output_type": "stream",
       "stream": "stdout",
       "text": [
        "00:28 1.1Gb   97.0% Searching, 2.9% matched\r"
       ]
      },
      {
       "output_type": "stream",
       "stream": "stdout",
       "text": [
        "00:28 1.1Gb  100.0% Searching, 2.9% matched\r",
        "\r\n"
       ]
      },
      {
       "output_type": "stream",
       "stream": "stdout",
       "text": [
        "usearch v7.0.1090_i86osx32, 4.0Gb RAM (15.0Gb total), 4 cores\r\n",
        "(C) Copyright 2013 Robert C. Edgar, all rights reserved.\r\n",
        "http://drive5.com/usearch\r\n",
        "\r\n",
        "Licensed to: sr320@uw.edu\r\n",
        "\r\n",
        "00:00 1.6Mb Reading /Volumes/Bay3/usearch/uniprot_sprot.udb\r\n"
       ]
      },
      {
       "output_type": "stream",
       "stream": "stdout",
       "text": [
        "00:02 1.1Gb Database loaded\r\n"
       ]
      },
      {
       "output_type": "stream",
       "stream": "stdout",
       "text": [
        "00:02 1.1Gb    0.1% Searching, 0.0% matched\r"
       ]
      },
      {
       "output_type": "stream",
       "stream": "stdout",
       "text": [
        "00:03 1.1Gb    2.5% Searching, 1.3% matched\r"
       ]
      },
      {
       "output_type": "stream",
       "stream": "stdout",
       "text": [
        "00:04 1.1Gb    6.8% Searching, 1.7% matched\r"
       ]
      },
      {
       "output_type": "stream",
       "stream": "stdout",
       "text": [
        "00:05 1.1Gb   11.2% Searching, 2.6% matched\r"
       ]
      },
      {
       "output_type": "stream",
       "stream": "stdout",
       "text": [
        "00:06 1.1Gb   16.1% Searching, 2.2% matched\r"
       ]
      },
      {
       "output_type": "stream",
       "stream": "stdout",
       "text": [
        "0"
       ]
      },
      {
       "output_type": "stream",
       "stream": "stdout",
       "text": [
        "0:07 1.1Gb   19.2% Searching, 2.4% matched\r"
       ]
      },
      {
       "output_type": "stream",
       "stream": "stdout",
       "text": [
        "00:08 1.1Gb   22.4% Searching, 2.5% matched\r"
       ]
      },
      {
       "output_type": "stream",
       "stream": "stdout",
       "text": [
        "00:09 1.1Gb   25.8% Searching, 2.5% matched\r"
       ]
      },
      {
       "output_type": "stream",
       "stream": "stdout",
       "text": [
        "00:10 1.1Gb   29.6% Searching, 2.7% matched\r"
       ]
      },
      {
       "output_type": "stream",
       "stream": "stdout",
       "text": [
        "00:11 1.1Gb   33.6% Searching, 2.6% matched\r"
       ]
      },
      {
       "output_type": "stream",
       "stream": "stdout",
       "text": [
        "00:12 1.1Gb   37.5% Searching, 2.7% matched\r"
       ]
      },
      {
       "output_type": "stream",
       "stream": "stdout",
       "text": [
        "0"
       ]
      },
      {
       "output_type": "stream",
       "stream": "stdout",
       "text": [
        "0:13 1.1Gb   41.0% Searching, 2.7% matched\r"
       ]
      },
      {
       "output_type": "stream",
       "stream": "stdout",
       "text": [
        "00:14 1.1Gb   43.5% Searching, 2.8% matched\r"
       ]
      },
      {
       "output_type": "stream",
       "stream": "stdout",
       "text": [
        "00:15 1.1Gb   46.7% Searching, 2.7% matched\r"
       ]
      },
      {
       "output_type": "stream",
       "stream": "stdout",
       "text": [
        "00:16 1.1Gb   50.8% Searching, 2.7% matched\r"
       ]
      },
      {
       "output_type": "stream",
       "stream": "stdout",
       "text": [
        "00:17 1.1Gb   54.8% Searching, 2.7% matched\r"
       ]
      },
      {
       "output_type": "stream",
       "stream": "stdout",
       "text": [
        "00:18 1.1Gb   57.9% Searching, 2.6% matched\r"
       ]
      },
      {
       "output_type": "stream",
       "stream": "stdout",
       "text": [
        "00:19 1.1Gb   61.4% Searching, 2.8% matched\r"
       ]
      },
      {
       "output_type": "stream",
       "stream": "stdout",
       "text": [
        "00:20 1.1Gb   64.8% Searching, 2.8% matched\r"
       ]
      },
      {
       "output_type": "stream",
       "stream": "stdout",
       "text": [
        "00:21 1.1Gb   68.9% Searching, 2.8% matched\r"
       ]
      },
      {
       "output_type": "stream",
       "stream": "stdout",
       "text": [
        "00:22 1.1Gb   73.3% Searching, 2.7% matched\r"
       ]
      },
      {
       "output_type": "stream",
       "stream": "stdout",
       "text": [
        "00:23 1.1Gb   76.1% Searching, 2.7% matched\r"
       ]
      },
      {
       "output_type": "stream",
       "stream": "stdout",
       "text": [
        "00:24 1.1Gb   78.2% Searching, 2.7% matched\r"
       ]
      },
      {
       "output_type": "stream",
       "stream": "stdout",
       "text": [
        "00:25 1.1Gb   81.9% Searching, 2.6% matched\r"
       ]
      },
      {
       "output_type": "stream",
       "stream": "stdout",
       "text": [
        "00:26 1.1Gb   84.8% Searching, 2.6% matched\r"
       ]
      },
      {
       "output_type": "stream",
       "stream": "stdout",
       "text": [
        "00:27 1.1Gb   86.6% Searching, 2.7% matched\r"
       ]
      },
      {
       "output_type": "stream",
       "stream": "stdout",
       "text": [
        "00:28 1.1Gb   88.9% Searching, 2.7% matched\r"
       ]
      },
      {
       "output_type": "stream",
       "stream": "stdout",
       "text": [
        "00:29 1.1Gb   92.0% Searching, 2.7% matched\r"
       ]
      },
      {
       "output_type": "stream",
       "stream": "stdout",
       "text": [
        "00:30 1.1Gb   94.8% Searching, 2.7% matched\r"
       ]
      },
      {
       "output_type": "stream",
       "stream": "stdout",
       "text": [
        "00:31 1.1Gb   98.5% Searching, 2.9% matched\r"
       ]
      },
      {
       "output_type": "stream",
       "stream": "stdout",
       "text": [
        "00:31 1.1Gb  100.0% Searching, 2.9% matched\r",
        "\r\n"
       ]
      },
      {
       "output_type": "stream",
       "stream": "stdout",
       "text": [
        "usearch v7.0.1090_i86osx32, 4.0Gb RAM (15.0Gb total), 4 cores\r\n",
        "(C) Copyright 2013 Robert C. Edgar, all rights reserved.\r\n",
        "http://drive5.com/usearch\r\n",
        "\r\n",
        "Licensed to: sr320@uw.edu\r\n",
        "\r\n",
        "00:00 1.6Mb Reading /Volumes/Bay3/usearch/uniprot_sprot.udb\r\n"
       ]
      },
      {
       "output_type": "stream",
       "stream": "stdout",
       "text": [
        "00:02 1.1Gb Database loaded\r\n",
        "0"
       ]
      },
      {
       "output_type": "stream",
       "stream": "stdout",
       "text": [
        "0:02 1.1Gb    0.1% Searching, 0.0% matched\r"
       ]
      },
      {
       "output_type": "stream",
       "stream": "stdout",
       "text": [
        "00:03 1.1Gb    2.8% Searching, 3.1% matched\r"
       ]
      },
      {
       "output_type": "stream",
       "stream": "stdout",
       "text": [
        "00:04 1.1Gb    5.9% Searching, 3.3% matched\r"
       ]
      },
      {
       "output_type": "stream",
       "stream": "stdout",
       "text": [
        "00:05 1.1Gb    7.9% Searching, 3.0% matched\r"
       ]
      },
      {
       "output_type": "stream",
       "stream": "stdout",
       "text": [
        "00:06 1.1Gb   12.7% Searching, 3.8% matched\r"
       ]
      },
      {
       "output_type": "stream",
       "stream": "stdout",
       "text": [
        "00:07 1.1Gb   17.1% Searching, 3.9% matched\r"
       ]
      },
      {
       "output_type": "stream",
       "stream": "stdout",
       "text": [
        "00:08 1.1Gb   20.6% Searching, 4.4% matched\r"
       ]
      },
      {
       "output_type": "stream",
       "stream": "stdout",
       "text": [
        "00:09 1.1Gb   23.8% Searching, 5.0% matched\r"
       ]
      },
      {
       "output_type": "stream",
       "stream": "stdout",
       "text": [
        "00:10 1.1Gb   28.2% Searching, 5.1% matched\r"
       ]
      },
      {
       "output_type": "stream",
       "stream": "stdout",
       "text": [
        "00:11 1.1Gb   30.6% Searching, 5.1% matched\r"
       ]
      },
      {
       "output_type": "stream",
       "stream": "stdout",
       "text": [
        "00:12 1.1Gb   34.2% Searching, 5.2% matched\r"
       ]
      },
      {
       "output_type": "stream",
       "stream": "stdout",
       "text": [
        "00:13 1.1Gb   37.5% Searching, 4.9% matched\r"
       ]
      },
      {
       "output_type": "stream",
       "stream": "stdout",
       "text": [
        "00:14 1.1Gb   41.6% Searching, 4.7% matched\r"
       ]
      },
      {
       "output_type": "stream",
       "stream": "stdout",
       "text": [
        "00:15 1.1Gb   46.8% Searching, 4.6% matched\r"
       ]
      },
      {
       "output_type": "stream",
       "stream": "stdout",
       "text": [
        "00:16 1.1Gb   50.9% Searching, 4.8% matched\r"
       ]
      },
      {
       "output_type": "stream",
       "stream": "stdout",
       "text": [
        "00:17 1.1Gb   54.2% Searching, 4.8% matched\r"
       ]
      },
      {
       "output_type": "stream",
       "stream": "stdout",
       "text": [
        "00:18 1.1Gb   58.1% Searching, 4.8% matched\r"
       ]
      },
      {
       "output_type": "stream",
       "stream": "stdout",
       "text": [
        "00:19 1.1Gb   61.1% Searching, 4.8% matched\r"
       ]
      },
      {
       "output_type": "stream",
       "stream": "stdout",
       "text": [
        "00:20 1.1Gb   63.8% Searching, 4.8% matched\r"
       ]
      },
      {
       "output_type": "stream",
       "stream": "stdout",
       "text": [
        "00:21 1.1Gb   66.5% Searching, 4.7% matched\r"
       ]
      },
      {
       "output_type": "stream",
       "stream": "stdout",
       "text": [
        "00:22 1.1Gb   70.3% Searching, 4.6% matched\r"
       ]
      },
      {
       "output_type": "stream",
       "stream": "stdout",
       "text": [
        "00:23 1.1Gb   74.7% Searching, 4.7% matched\r"
       ]
      },
      {
       "output_type": "stream",
       "stream": "stdout",
       "text": [
        "00:24 1.1Gb   76.7% Searching, 4.7% matched\r"
       ]
      },
      {
       "output_type": "stream",
       "stream": "stdout",
       "text": [
        "00:25 1.1Gb   81.2% Searching, 4.6% matched\r"
       ]
      },
      {
       "output_type": "stream",
       "stream": "stdout",
       "text": [
        "00:26 1.1Gb   84.3% Searching, 4.5% matched\r"
       ]
      },
      {
       "output_type": "stream",
       "stream": "stdout",
       "text": [
        "00:27 1.1Gb   88.0% Searching, 4.4% matched\r"
       ]
      },
      {
       "output_type": "stream",
       "stream": "stdout",
       "text": [
        "00:28 1.1Gb   91.1% Searching, 4.4% matched\r"
       ]
      },
      {
       "output_type": "stream",
       "stream": "stdout",
       "text": [
        "00:29 1.1Gb   93.1% Searching, 4.4% matched\r"
       ]
      },
      {
       "output_type": "stream",
       "stream": "stdout",
       "text": [
        "00:30 1.1Gb   95.9% Searching, 4.4% matched\r"
       ]
      },
      {
       "output_type": "stream",
       "stream": "stdout",
       "text": [
        "00:31 1.1Gb   99.4% Searching, 4.5% matched\r"
       ]
      },
      {
       "output_type": "stream",
       "stream": "stdout",
       "text": [
        "00:31 1.1Gb  100.0% Searching, 4.5% matched\r",
        "\r\n"
       ]
      },
      {
       "output_type": "stream",
       "stream": "stdout",
       "text": [
        "usearch v7.0.1090_i86osx32, 4.0Gb RAM (15.0Gb total), 4 cores\r\n",
        "(C) Copyright 2013 Robert C. Edgar, all rights reserved.\r\n",
        "http://drive5.com/usearch\r\n",
        "\r\n",
        "Licensed to: sr320@uw.edu\r\n",
        "\r\n"
       ]
      },
      {
       "output_type": "stream",
       "stream": "stdout",
       "text": [
        "00:00 2.0Mb Reading /Volumes/Bay3/usearch/uniprot_sprot.udb\r\n"
       ]
      },
      {
       "output_type": "stream",
       "stream": "stdout",
       "text": [
        "00:02 1.1Gb Database loaded\r\n",
        "00:02 1.1Gb    0.1% Searching, 0.0% matched\r"
       ]
      },
      {
       "output_type": "stream",
       "stream": "stdout",
       "text": [
        "00:03 1.1Gb    0.9% Searching, 0.0% matched\r"
       ]
      },
      {
       "output_type": "stream",
       "stream": "stdout",
       "text": [
        "00:04 1.1Gb    3.2% Searching, 3.7% matched\r"
       ]
      },
      {
       "output_type": "stream",
       "stream": "stdout",
       "text": [
        "00:05 1.1Gb    5.4% Searching, 3.2% matched\r"
       ]
      },
      {
       "output_type": "stream",
       "stream": "stdout",
       "text": [
        "00:06 1.1Gb    7.7% Searching, 4.9% matched\r"
       ]
      },
      {
       "output_type": "stream",
       "stream": "stdout",
       "text": [
        "00:07 1.1Gb   10.7% Searching, 5.1% matched\r"
       ]
      },
      {
       "output_type": "stream",
       "stream": "stdout",
       "text": [
        "00:08 1.1Gb   12.6% Searching, 5.2% matched\r"
       ]
      },
      {
       "output_type": "stream",
       "stream": "stdout",
       "text": [
        "00:09 1.1Gb   15.0% Searching, 5.2% matched\r"
       ]
      },
      {
       "output_type": "stream",
       "stream": "stdout",
       "text": [
        "00:10 1.1Gb   17.2% Searching, 5.0% matched\r"
       ]
      },
      {
       "output_type": "stream",
       "stream": "stdout",
       "text": [
        "00:11 1.1Gb   19.7% Searching, 5.1% matched\r"
       ]
      },
      {
       "output_type": "stream",
       "stream": "stdout",
       "text": [
        "0"
       ]
      },
      {
       "output_type": "stream",
       "stream": "stdout",
       "text": [
        "0:12 1.1Gb   21.0% Searching, 5.1% matched\r"
       ]
      },
      {
       "output_type": "stream",
       "stream": "stdout",
       "text": [
        "usearch(44300,0xb0103000) malloc: *** mmap(size=1123594240) failed (error code=12)\r\n",
        "*** error: can't allocate region\r\n",
        "*** set a breakpoint in malloc_error_break to debug\r\n",
        "\r\n",
        "Out of memory mymalloc(1123590396), curr 1.07e+09 bytes\r\n",
        "\r\n",
        "myutils.cpp(2212): \r\n",
        "\r\n",
        "usearch -ublast cgigas.part-06.fa -db /Volumes/Bay3/usearch/uniprot_sprot.udb -evalue 1e-5 -accel 0.8 -top_hits_only -maxhits 1 -blast6out /Volumes/web/cnidarian/cgigas8_cgigas.part-06.fa_ublast_sprot.b6\r\n",
        "\r\n",
        "---Fatal error---\r\n",
        "Out of memory, mymalloc(1123590396), curr 1.07e+09 bytes\r\n",
        "\r\n"
       ]
      },
      {
       "output_type": "stream",
       "stream": "stdout",
       "text": [
        "usearch v7.0.1090_i86osx32, 4.0Gb RAM (15.0Gb total), 4 cores\r\n",
        "(C) Copyright 2013 Robert C. Edgar, all rights reserved.\r\n",
        "http://drive5.com/usearch\r\n",
        "\r\n",
        "Licensed to: sr320@uw.edu\r\n",
        "\r\n",
        "00:00 2.1Mb Reading /Volumes/Bay3/usearch/uniprot_sprot.udb\r\n"
       ]
      },
      {
       "output_type": "stream",
       "stream": "stdout",
       "text": [
        "00:02 1.1Gb Database loaded\r\n",
        "00:02 1.1Gb    0.1% Searching, 0.0% matched\r"
       ]
      },
      {
       "output_type": "stream",
       "stream": "stdout",
       "text": [
        "00:03 1.1Gb    1.2% Searching, 3.3% matched\r"
       ]
      },
      {
       "output_type": "stream",
       "stream": "stdout",
       "text": [
        "00:04 1.1Gb    3.8% Searching, 5.0% matched\r"
       ]
      },
      {
       "output_type": "stream",
       "stream": "stdout",
       "text": [
        "0"
       ]
      },
      {
       "output_type": "stream",
       "stream": "stdout",
       "text": [
        "0:05 1.1Gb    6.1% Searching, 3.7% matched\r"
       ]
      },
      {
       "output_type": "stream",
       "stream": "stdout",
       "text": [
        "00:06 1.1Gb    7.3% Searching, 4.4% matched\r"
       ]
      },
      {
       "output_type": "stream",
       "stream": "stdout",
       "text": [
        "00:07 1.1Gb    9.6% Searching, 4.8% matched\r"
       ]
      },
      {
       "output_type": "stream",
       "stream": "stdout",
       "text": [
        "00:08 1.1Gb   11.1% Searching, 5.0% matched\r"
       ]
      },
      {
       "output_type": "stream",
       "stream": "stdout",
       "text": [
        "00:09 1.1Gb   13.3% Searching, 4.6% matched\r"
       ]
      },
      {
       "output_type": "stream",
       "stream": "stdout",
       "text": [
        "00:10 1.1Gb   15.4% Searching, 4.3% matched\r"
       ]
      },
      {
       "output_type": "stream",
       "stream": "stdout",
       "text": [
        "00:11 1.1Gb   17.1% Searching, 4.3% matched\r"
       ]
      },
      {
       "output_type": "stream",
       "stream": "stdout",
       "text": [
        "00:12 1.1Gb   19.2% Searching, 4.2% matched\r"
       ]
      },
      {
       "output_type": "stream",
       "stream": "stdout",
       "text": [
        "00:13 1.1Gb   20.9% Searching, 4.4% matched\r"
       ]
      },
      {
       "output_type": "stream",
       "stream": "stdout",
       "text": [
        "00:14 1.1Gb   23.0% Searching, 4.3% matched\r"
       ]
      },
      {
       "output_type": "stream",
       "stream": "stdout",
       "text": [
        "00:15 1.1Gb   24.8% Searching, 4.2% matched\r"
       ]
      },
      {
       "output_type": "stream",
       "stream": "stdout",
       "text": [
        "00:16 1.1Gb   27.0% Searching, 4.4% matched\r"
       ]
      },
      {
       "output_type": "stream",
       "stream": "stdout",
       "text": [
        "00:17 1.1Gb   28.7% Searching, 4.5% matched\r"
       ]
      },
      {
       "output_type": "stream",
       "stream": "stdout",
       "text": [
        "00:18 1.1Gb   30.4% Searching, 4.6% matched\r"
       ]
      },
      {
       "output_type": "stream",
       "stream": "stdout",
       "text": [
        "00:19 1.1Gb   32.8% Searching, 4.5% matched\r"
       ]
      },
      {
       "output_type": "stream",
       "stream": "stdout",
       "text": [
        "00:20 1.1Gb   35.2% Searching, 4.3% matched\r"
       ]
      },
      {
       "output_type": "stream",
       "stream": "stdout",
       "text": [
        "00:21 1.1Gb   36.6% Searching, 4.3% matched\r"
       ]
      },
      {
       "output_type": "stream",
       "stream": "stdout",
       "text": [
        "00:22 1.1Gb   38.0% Searching, 4.2% matched\r"
       ]
      },
      {
       "output_type": "stream",
       "stream": "stdout",
       "text": [
        "00:23 1.1Gb   39.6% Searching, 4.2% matched\r"
       ]
      },
      {
       "output_type": "stream",
       "stream": "stdout",
       "text": [
        "00:24 1.1Gb   40.8% Searching, 4.2% matched\r"
       ]
      },
      {
       "output_type": "stream",
       "stream": "stdout",
       "text": [
        "00:25 1.1Gb   43.3% Searching, 4.2% matched\r"
       ]
      },
      {
       "output_type": "stream",
       "stream": "stdout",
       "text": [
        "00:26 1.1Gb   44.8% Searching, 4.3% matched\r"
       ]
      },
      {
       "output_type": "stream",
       "stream": "stdout",
       "text": [
        "00:27 1.1Gb   46.6% Searching, 4.3% matched\r"
       ]
      },
      {
       "output_type": "stream",
       "stream": "stdout",
       "text": [
        "00:28 1.1Gb   48.3% Searching, 4.2% matched\r"
       ]
      },
      {
       "output_type": "stream",
       "stream": "stdout",
       "text": [
        "00:29 1.1Gb   50.0% Searching, 4.2% matched\r"
       ]
      },
      {
       "output_type": "stream",
       "stream": "stdout",
       "text": [
        "00:30 1.1Gb   51.7% Searching, 4.2% matched\r"
       ]
      },
      {
       "output_type": "stream",
       "stream": "stdout",
       "text": [
        "00:31 1.1Gb   53.4% Searching, 4.1% matched\r"
       ]
      },
      {
       "output_type": "stream",
       "stream": "stdout",
       "text": [
        "00:32 1.1Gb   55.0% Searching, 4.1% matched\r"
       ]
      },
      {
       "output_type": "stream",
       "stream": "stdout",
       "text": [
        "00:33 1.1Gb   56.1% Searching, 4.1% matched\r"
       ]
      },
      {
       "output_type": "stream",
       "stream": "stdout",
       "text": [
        "00:34 1.1Gb   58.6% Searching, 4.1% matched\r"
       ]
      },
      {
       "output_type": "stream",
       "stream": "stdout",
       "text": [
        "00:35 1.1Gb   60.4% Searching, 4.0% matched\r"
       ]
      },
      {
       "output_type": "stream",
       "stream": "stdout",
       "text": [
        "00:36 1.1Gb   62.3% Searching, 4.0% matched\r"
       ]
      },
      {
       "output_type": "stream",
       "stream": "stdout",
       "text": [
        "00:37 1.1Gb   64.2% Searching, 4.0% matched\r"
       ]
      },
      {
       "output_type": "stream",
       "stream": "stdout",
       "text": [
        "00:38 1.1Gb   65.4% Searching, 4.0% matched\r"
       ]
      },
      {
       "output_type": "stream",
       "stream": "stdout",
       "text": [
        "0"
       ]
      },
      {
       "output_type": "stream",
       "stream": "stdout",
       "text": [
        "0:39 1.1Gb   67.2% Searching, 3.9% matched\r"
       ]
      },
      {
       "output_type": "stream",
       "stream": "stdout",
       "text": [
        "00:40 1.1Gb   69.2% Searching, 3.9% matched\r"
       ]
      },
      {
       "output_type": "stream",
       "stream": "stdout",
       "text": [
        "00:41 1.1Gb   70.9% Searching, 3.9% matched\r"
       ]
      },
      {
       "output_type": "stream",
       "stream": "stdout",
       "text": [
        "00:42 1.1Gb   73.2% Searching, 3.8% matched\r"
       ]
      },
      {
       "output_type": "stream",
       "stream": "stdout",
       "text": [
        "00:43 1.1Gb   74.9% Searching, 3.9% matched\r"
       ]
      },
      {
       "output_type": "stream",
       "stream": "stdout",
       "text": [
        "00:44 1.1Gb   76.9% Searching, 3.9% matched\r"
       ]
      },
      {
       "output_type": "stream",
       "stream": "stdout",
       "text": [
        "00:45 1.1Gb   78.4% Searching, 3.9% matched\r"
       ]
      },
      {
       "output_type": "stream",
       "stream": "stdout",
       "text": [
        "00:46 1.1Gb   80.9% Searching, 3.9% matched\r"
       ]
      },
      {
       "output_type": "stream",
       "stream": "stdout",
       "text": [
        "00:47 1.1Gb   83.2% Searching, 3.9% matched\r"
       ]
      },
      {
       "output_type": "stream",
       "stream": "stdout",
       "text": [
        "00:48 1.1Gb   85.1% Searching, 3.9% matched\r"
       ]
      },
      {
       "output_type": "stream",
       "stream": "stdout",
       "text": [
        "00:49 1.1Gb   86.5% Searching, 3.9% matched\r"
       ]
      },
      {
       "output_type": "stream",
       "stream": "stdout",
       "text": [
        "00:50 1.1Gb   88.6% Searching, 3.9% matched\r"
       ]
      },
      {
       "output_type": "stream",
       "stream": "stdout",
       "text": [
        "00:51 1.1Gb   90.3% Searching, 3.9% matched\r"
       ]
      },
      {
       "output_type": "stream",
       "stream": "stdout",
       "text": [
        "00:52 1.1Gb   92.2% Searching, 4.0% matched\r"
       ]
      },
      {
       "output_type": "stream",
       "stream": "stdout",
       "text": [
        "00:53 1.1Gb   93.9% Searching, 4.0% matched\r"
       ]
      },
      {
       "output_type": "stream",
       "stream": "stdout",
       "text": [
        "00:54 1.1Gb   95.9% Searching, 4.0% matched\r"
       ]
      },
      {
       "output_type": "stream",
       "stream": "stdout",
       "text": [
        "00:55 1.1Gb   97.4% Searching, 4.0% matched\r"
       ]
      },
      {
       "output_type": "stream",
       "stream": "stdout",
       "text": [
        "00:56 1.1Gb   99.6% Searching, 4.0% matched\r"
       ]
      },
      {
       "output_type": "stream",
       "stream": "stdout",
       "text": [
        "00:56 1.1Gb  100.0% Searching, 4.0% matched\r",
        "\r\n"
       ]
      },
      {
       "output_type": "stream",
       "stream": "stdout",
       "text": [
        "usearch v7.0.1090_i86osx32, 4.0Gb RAM (15.0Gb total), 4 cores\r\n",
        "(C) Copyright 2013 Robert C. Edgar, all rights reserved.\r\n",
        "http://drive5.com/usearch\r\n",
        "\r\n",
        "Licensed to: sr320@uw.edu\r\n",
        "\r\n",
        "00:00 2.1Mb Reading /Volumes/Bay3/usearch/uniprot_sprot.udb\r\n"
       ]
      },
      {
       "output_type": "stream",
       "stream": "stdout",
       "text": [
        "00:02 1.1Gb Database loaded\r\n",
        "00:02 1.1Gb    0.1% Searching, 0.0% matched\r"
       ]
      },
      {
       "output_type": "stream",
       "stream": "stdout",
       "text": [
        "00:03 1.1Gb    0.7% Searching, 2.3% matched\r"
       ]
      },
      {
       "output_type": "stream",
       "stream": "stdout",
       "text": [
        "00:04 1.1Gb    2.2% Searching, 3.2% matched\r"
       ]
      },
      {
       "output_type": "stream",
       "stream": "stdout",
       "text": [
        "00:05 1.1Gb    4.4% Searching, 3.4% matched\r"
       ]
      },
      {
       "output_type": "stream",
       "stream": "stdout",
       "text": [
        "00:06 1.1Gb    6.2% Searching, 2.9% matched\r"
       ]
      },
      {
       "output_type": "stream",
       "stream": "stdout",
       "text": [
        "00:07 1.1Gb    7.5% Searching, 3.4% matched\r"
       ]
      },
      {
       "output_type": "stream",
       "stream": "stdout",
       "text": [
        "00:08 1.1Gb    9.8% Searching, 3.6% matched\r"
       ]
      },
      {
       "output_type": "stream",
       "stream": "stdout",
       "text": [
        "00:09 1.1Gb   12.0% Searching, 3.7% matched\r"
       ]
      },
      {
       "output_type": "stream",
       "stream": "stdout",
       "text": [
        "00:10 1.1Gb   13.0% Searching, 3.7% matched\r"
       ]
      },
      {
       "output_type": "stream",
       "stream": "stdout",
       "text": [
        "00:11 1.1Gb   14.5% Searching, 4.1% matched\r"
       ]
      },
      {
       "output_type": "stream",
       "stream": "stdout",
       "text": [
        "00:12 1.1Gb   16.1% Searching, 4.1% matched\r"
       ]
      },
      {
       "output_type": "stream",
       "stream": "stdout",
       "text": [
        "00:13 1.1Gb   17.6% Searching, 4.1% matched\r"
       ]
      },
      {
       "output_type": "stream",
       "stream": "stdout",
       "text": [
        "00:14 1.1Gb   19.4% Searching, 4.3% matched\r"
       ]
      },
      {
       "output_type": "stream",
       "stream": "stdout",
       "text": [
        "00:15 1.1Gb   21.8% Searching, 4.3% matched\r"
       ]
      },
      {
       "output_type": "stream",
       "stream": "stdout",
       "text": [
        "00:16 1.1Gb   24.0% Searching, 4.3% matched\r"
       ]
      },
      {
       "output_type": "stream",
       "stream": "stdout",
       "text": [
        "00:17 1.1Gb   25.7% Searching, 4.4% matched\r"
       ]
      },
      {
       "output_type": "stream",
       "stream": "stdout",
       "text": [
        "00:18 1.1Gb   27.3% Searching, 4.6% matched\r"
       ]
      },
      {
       "output_type": "stream",
       "stream": "stdout",
       "text": [
        "00:19 1.1Gb   28.9% Searching, 4.6% matched\r"
       ]
      },
      {
       "output_type": "stream",
       "stream": "stdout",
       "text": [
        "00:20 1.1Gb   30.1% Searching, 4.7% matched\r"
       ]
      },
      {
       "output_type": "stream",
       "stream": "stdout",
       "text": [
        "00:21 1.1Gb   31.9% Searching, 4.7% matched\r"
       ]
      },
      {
       "output_type": "stream",
       "stream": "stdout",
       "text": [
        "00:22 1.1Gb   32.9% Searching, 4.6% matched\r"
       ]
      },
      {
       "output_type": "stream",
       "stream": "stdout",
       "text": [
        "00:23 1.1Gb   34.3% Searching, 4.5% matched\r"
       ]
      },
      {
       "output_type": "stream",
       "stream": "stdout",
       "text": [
        "00:24 1.1Gb   36.4% Searching, 4.6% matched\r"
       ]
      },
      {
       "output_type": "stream",
       "stream": "stdout",
       "text": [
        "00:25 1.1Gb   38.5% Searching, 4.5% matched\r"
       ]
      },
      {
       "output_type": "stream",
       "stream": "stdout",
       "text": [
        "00:26 1.1Gb   40.6% Searching, 4.5% matched\r"
       ]
      },
      {
       "output_type": "stream",
       "stream": "stdout",
       "text": [
        "00:27 1.1Gb   42.4% Searching, 4.4% matched\r"
       ]
      },
      {
       "output_type": "stream",
       "stream": "stdout",
       "text": [
        "00:28 1.1Gb   45.4% Searching, 4.3% matched\r"
       ]
      },
      {
       "output_type": "stream",
       "stream": "stdout",
       "text": [
        "00:29 1.1Gb   47.0% Searching, 4.3% matched\r"
       ]
      },
      {
       "output_type": "stream",
       "stream": "stdout",
       "text": [
        "00:30 1.1Gb   48.5% Searching, 4.3% matched\r"
       ]
      },
      {
       "output_type": "stream",
       "stream": "stdout",
       "text": [
        "00:31 1.1Gb   50.6% Searching, 4.3% matched\r"
       ]
      },
      {
       "output_type": "stream",
       "stream": "stdout",
       "text": [
        "00:32 1.1Gb   51.8% Searching, 4.3% matched\r"
       ]
      },
      {
       "output_type": "stream",
       "stream": "stdout",
       "text": [
        "00:33 1.1Gb   52.8% Searching, 4.3% matched\r"
       ]
      },
      {
       "output_type": "stream",
       "stream": "stdout",
       "text": [
        "00:34 1.1Gb   54.6% Searching, 4.3% matched\r"
       ]
      },
      {
       "output_type": "stream",
       "stream": "stdout",
       "text": [
        "00:35 1.1Gb   56.0% Searching, 4.4% matched\r"
       ]
      },
      {
       "output_type": "stream",
       "stream": "stdout",
       "text": [
        "00:36 1.1Gb   57.4% Searching, 4.3% matched\r"
       ]
      },
      {
       "output_type": "stream",
       "stream": "stdout",
       "text": [
        "00:37 1.1Gb   59.6% Searching, 4.3% matched\r"
       ]
      },
      {
       "output_type": "stream",
       "stream": "stdout",
       "text": [
        "00:38 1.1Gb   61.6% Searching, 4.2% matched\r"
       ]
      },
      {
       "output_type": "stream",
       "stream": "stdout",
       "text": [
        "00:39 1.1Gb   63.3% Searching, 4.2% matched\r"
       ]
      },
      {
       "output_type": "stream",
       "stream": "stdout",
       "text": [
        "00:40 1.1Gb   64.7% Searching, 4.3% matched\r"
       ]
      },
      {
       "output_type": "stream",
       "stream": "stdout",
       "text": [
        "00:41 1.1Gb   66.5% Searching, 4.3% matched\r"
       ]
      },
      {
       "output_type": "stream",
       "stream": "stdout",
       "text": [
        "00:42 1.1Gb   68.9% Searching, 4.3% matched\r"
       ]
      },
      {
       "output_type": "stream",
       "stream": "stdout",
       "text": [
        "00:43 1.1Gb   71.4% Searching, 4.3% matched\r"
       ]
      },
      {
       "output_type": "stream",
       "stream": "stdout",
       "text": [
        "00:44 1.1Gb   73.4% Searching, 4.3% matched\r"
       ]
      },
      {
       "output_type": "stream",
       "stream": "stdout",
       "text": [
        "00:45 1.1Gb   75.0% Searching, 4.3% matched\r"
       ]
      },
      {
       "output_type": "stream",
       "stream": "stdout",
       "text": [
        "00:46 1.1Gb   77.0% Searching, 4.3% matched\r"
       ]
      },
      {
       "output_type": "stream",
       "stream": "stdout",
       "text": [
        "00:47 1.1Gb   79.0% Searching, 4.3% matched\r"
       ]
      },
      {
       "output_type": "stream",
       "stream": "stdout",
       "text": [
        "00:48 1.1Gb   81.4% Searching, 4.3% matched\r"
       ]
      },
      {
       "output_type": "stream",
       "stream": "stdout",
       "text": [
        "00:49 1.1Gb   84.0% Searching, 4.3% matched\r"
       ]
      },
      {
       "output_type": "stream",
       "stream": "stdout",
       "text": [
        "00:50 1.1Gb   86.5% Searching, 4.3% matched\r"
       ]
      },
      {
       "output_type": "stream",
       "stream": "stdout",
       "text": [
        "00:51 1.1Gb   88.5% Searching, 4.3% matched\r"
       ]
      },
      {
       "output_type": "stream",
       "stream": "stdout",
       "text": [
        "00:52 1.1Gb   90.3% Searching, 4.3% matched\r"
       ]
      },
      {
       "output_type": "stream",
       "stream": "stdout",
       "text": [
        "00:53 1.1Gb   92.9% Searching, 4.3% matched\r"
       ]
      },
      {
       "output_type": "stream",
       "stream": "stdout",
       "text": [
        "00:54 1.1Gb   95.0% Searching, 4.3% matched\r"
       ]
      },
      {
       "output_type": "stream",
       "stream": "stdout",
       "text": [
        "00:55 1.1Gb   96.4% Searching, 4.3% matched\r"
       ]
      },
      {
       "output_type": "stream",
       "stream": "stdout",
       "text": [
        "00:56 1.1Gb   97.8% Searching, 4.3% matched\r"
       ]
      },
      {
       "output_type": "stream",
       "stream": "stdout",
       "text": [
        "00:57 1.1Gb   99.6% Searching, 4.3% matched\r"
       ]
      },
      {
       "output_type": "stream",
       "stream": "stdout",
       "text": [
        "00:57 1.1Gb  100.0% Searching, 4.3% matched\r",
        "\r\n"
       ]
      },
      {
       "output_type": "stream",
       "stream": "stdout",
       "text": [
        "usearch v7.0.1090_i86osx32, 4.0Gb RAM (15.0Gb total), 4 cores\r\n",
        "(C) Copyright 2013 Robert C. Edgar, all rights reserved.\r\n",
        "http://drive5.com/usearch\r\n",
        "\r\n",
        "Licensed to: sr320@uw.edu\r\n",
        "\r\n"
       ]
      },
      {
       "output_type": "stream",
       "stream": "stdout",
       "text": [
        "00:00 2.1Mb Reading /Volumes/Bay3/usearch/uniprot_sprot.udb\r\n"
       ]
      },
      {
       "output_type": "stream",
       "stream": "stdout",
       "text": [
        "00:02 1.1Gb Database loaded\r\n",
        "00:02 1.1Gb    0.1% Searching, 0.0% matched\r"
       ]
      },
      {
       "output_type": "stream",
       "stream": "stdout",
       "text": [
        "00:03 1.1Gb    0.6% Searching, 2.9% matched\r"
       ]
      },
      {
       "output_type": "stream",
       "stream": "stdout",
       "text": [
        "00:04 1.1Gb    3.0% Searching, 3.1% matched\r"
       ]
      },
      {
       "output_type": "stream",
       "stream": "stdout",
       "text": [
        "00:05 1.1Gb    4.9% Searching, 3.3% matched\r"
       ]
      },
      {
       "output_type": "stream",
       "stream": "stdout",
       "text": [
        "00:06 1.1Gb    6.6% Searching, 3.5% matched\r"
       ]
      },
      {
       "output_type": "stream",
       "stream": "stdout",
       "text": [
        "00:07 1.1Gb    8.5% Searching, 4.0% matched\r"
       ]
      },
      {
       "output_type": "stream",
       "stream": "stdout",
       "text": [
        "00:08 1.1Gb   10.9% Searching, 4.1% matched\r"
       ]
      },
      {
       "output_type": "stream",
       "stream": "stdout",
       "text": [
        "00:09 1.1Gb   12.6% Searching, 3.9% matched\r"
       ]
      },
      {
       "output_type": "stream",
       "stream": "stdout",
       "text": [
        "00:10 1.1Gb   14.5% Searching, 4.0% matched\r"
       ]
      },
      {
       "output_type": "stream",
       "stream": "stdout",
       "text": [
        "00:11 1.1Gb   16.9% Searching, 4.1% matched\r"
       ]
      },
      {
       "output_type": "stream",
       "stream": "stdout",
       "text": [
        "00:12 1.1Gb   18.9% Searching, 4.0% matched\r"
       ]
      },
      {
       "output_type": "stream",
       "stream": "stdout",
       "text": [
        "00:13 1.1Gb   20.7% Searching, 4.0% matched\r"
       ]
      },
      {
       "output_type": "stream",
       "stream": "stdout",
       "text": [
        "00:14 1.1Gb   23.3% Searching, 4.0% matched\r"
       ]
      },
      {
       "output_type": "stream",
       "stream": "stdout",
       "text": [
        "0"
       ]
      },
      {
       "output_type": "stream",
       "stream": "stdout",
       "text": [
        "0:15 1.1Gb   25.4% Searching, 4.1% matched\r"
       ]
      },
      {
       "output_type": "stream",
       "stream": "stdout",
       "text": [
        "00:16 1.1Gb   28.5% Searching, 3.9% matched\r"
       ]
      },
      {
       "output_type": "stream",
       "stream": "stdout",
       "text": [
        "00:17 1.1Gb   30.0% Searching, 3.8% matched\r"
       ]
      },
      {
       "output_type": "stream",
       "stream": "stdout",
       "text": [
        "00:18 1.1Gb   32.1% Searching, 3.7% matched\r"
       ]
      },
      {
       "output_type": "stream",
       "stream": "stdout",
       "text": [
        "00:19 1.1Gb   34.6% Searching, 3.8% matched\r"
       ]
      },
      {
       "output_type": "stream",
       "stream": "stdout",
       "text": [
        "00:20 1.1Gb   37.5% Searching, 3.9% matched\r"
       ]
      },
      {
       "output_type": "stream",
       "stream": "stdout",
       "text": [
        "00:21 1.1Gb   39.3% Searching, 4.0% matched\r"
       ]
      },
      {
       "output_type": "stream",
       "stream": "stdout",
       "text": [
        "00:22 1.1Gb   41.1% Searching, 4.0% matched\r"
       ]
      },
      {
       "output_type": "stream",
       "stream": "stdout",
       "text": [
        "00:23 1.1Gb   43.1% Searching, 4.0% matched\r"
       ]
      },
      {
       "output_type": "stream",
       "stream": "stdout",
       "text": [
        "00:24 1.1Gb   44.7% Searching, 4.1% matched\r"
       ]
      },
      {
       "output_type": "stream",
       "stream": "stdout",
       "text": [
        "00:25 1.1Gb   47.7% Searching, 4.2% matched\r"
       ]
      },
      {
       "output_type": "stream",
       "stream": "stdout",
       "text": [
        "00:26 1.1Gb   49.2% Searching, 4.2% matched\r"
       ]
      },
      {
       "output_type": "stream",
       "stream": "stdout",
       "text": [
        "00:27 1.1Gb   51.8% Searching, 4.2% matched\r"
       ]
      },
      {
       "output_type": "stream",
       "stream": "stdout",
       "text": [
        "00:28 1.1Gb   53.9% Searching, 4.2% matched\r"
       ]
      },
      {
       "output_type": "stream",
       "stream": "stdout",
       "text": [
        "00:29 1.1Gb   55.7% Searching, 4.2% matched\r"
       ]
      },
      {
       "output_type": "stream",
       "stream": "stdout",
       "text": [
        "00:30 1.1Gb   57.7% Searching, 4.3% matched\r"
       ]
      },
      {
       "output_type": "stream",
       "stream": "stdout",
       "text": [
        "00:31 1.1Gb   59.8% Searching, 4.3% matched\r"
       ]
      },
      {
       "output_type": "stream",
       "stream": "stdout",
       "text": [
        "00:32 1.1Gb   62.0% Searching, 4.3% matched\r"
       ]
      },
      {
       "output_type": "stream",
       "stream": "stdout",
       "text": [
        "00:33 1.1Gb   64.0% Searching, 4.3% matched\r"
       ]
      },
      {
       "output_type": "stream",
       "stream": "stdout",
       "text": [
        "00:34 1.1Gb   66.3% Searching, 4.3% matched\r"
       ]
      },
      {
       "output_type": "stream",
       "stream": "stdout",
       "text": [
        "00:35 1.1Gb   68.4% Searching, 4.3% matched\r"
       ]
      },
      {
       "output_type": "stream",
       "stream": "stdout",
       "text": [
        "00:36 1.1Gb   70.5% Searching, 4.3% matched\r"
       ]
      },
      {
       "output_type": "stream",
       "stream": "stdout",
       "text": [
        "00:37 1.1Gb   72.9% Searching, 4.2% matched\r"
       ]
      },
      {
       "output_type": "stream",
       "stream": "stdout",
       "text": [
        "00:38 1.1Gb   75.1% Searching, 4.2% matched\r"
       ]
      },
      {
       "output_type": "stream",
       "stream": "stdout",
       "text": [
        "00:39 1.1Gb   77.5% Searching, 4.2% matched\r"
       ]
      },
      {
       "output_type": "stream",
       "stream": "stdout",
       "text": [
        "00:40 1.1Gb   79.7% Searching, 4.2% matched\r"
       ]
      },
      {
       "output_type": "stream",
       "stream": "stdout",
       "text": [
        "00:41 1.1Gb   82.1% Searching, 4.2% matched\r"
       ]
      },
      {
       "output_type": "stream",
       "stream": "stdout",
       "text": [
        "00:42 1.1Gb   84.3% Searching, 4.2% matched\r"
       ]
      },
      {
       "output_type": "stream",
       "stream": "stdout",
       "text": [
        "00:43 1.1Gb   85.9% Searching, 4.3% matched\r"
       ]
      },
      {
       "output_type": "stream",
       "stream": "stdout",
       "text": [
        "00:44 1.1Gb   87.7% Searching, 4.3% matched\r"
       ]
      },
      {
       "output_type": "stream",
       "stream": "stdout",
       "text": [
        "00:45 1.1Gb   88.9% Searching, 4.3% matched\r"
       ]
      },
      {
       "output_type": "stream",
       "stream": "stdout",
       "text": [
        "00:46 1.1Gb   91.2% Searching, 4.3% matched\r"
       ]
      },
      {
       "output_type": "stream",
       "stream": "stdout",
       "text": [
        "00:47 1.1Gb   94.1% Searching, 4.2% matched\r"
       ]
      },
      {
       "output_type": "stream",
       "stream": "stdout",
       "text": [
        "00:48 1.1Gb   95.5% Searching, 4.2% matched\r"
       ]
      },
      {
       "output_type": "stream",
       "stream": "stdout",
       "text": [
        "00:49 1.1Gb   98.8% Searching, 4.2% matched\r"
       ]
      },
      {
       "output_type": "stream",
       "stream": "stdout",
       "text": [
        "00:49 1.1Gb  100.0% Searching, 4.2% matched\r",
        "\r\n"
       ]
      },
      {
       "output_type": "stream",
       "stream": "stdout",
       "text": [
        "usearch v7.0.1090_i86osx32, 4.0Gb RAM (15.0Gb total), 4 cores\r\n",
        "(C) Copyright 2013 Robert C. Edgar, all rights reserved.\r\n",
        "http://drive5.com/usearch\r\n",
        "\r\n",
        "Licensed to: sr320@uw.edu\r\n",
        "\r\n"
       ]
      },
      {
       "output_type": "stream",
       "stream": "stdout",
       "text": [
        "00:00 2.1Mb Reading /Volumes/Bay3/usearch/uniprot_sprot.udb\r\n"
       ]
      },
      {
       "output_type": "stream",
       "stream": "stdout",
       "text": [
        "00:02 1.1Gb Database loaded\r\n",
        "00:02 1.1Gb    0.1% Searching, 0.0% matched\r"
       ]
      },
      {
       "output_type": "stream",
       "stream": "stdout",
       "text": [
        "00:03 1.1Gb    1.8% Searching, 3.8% matched\r"
       ]
      },
      {
       "output_type": "stream",
       "stream": "stdout",
       "text": [
        "usearch(46222,0xac31a2c0) malloc: *** mmap(size=1182121984) failed (error code=12)\r\n",
        "*** error: can't allocate region\r\n",
        "*** set a breakpoint in malloc_error_break to debug\r\n",
        "\r\n",
        "Out of memory mymalloc(1182121920), curr 1.06e+09 bytes\r\n",
        "\r\n",
        "myutils.cpp(2212): \r\n",
        "\r\n",
        "usearch -ublast cgigas.part-10.fa -db /Volumes/Bay3/usearch/uniprot_sprot.udb -evalue 1e-5 -accel 0.8 -top_hits_only -maxhits 1 -blast6out /Volumes/web/cnidarian/cgigas8_cgigas.part-10.fa_ublast_sprot.b6\r\n",
        "\r\n",
        "---Fatal error---\r\n",
        "Out of memory, mymalloc(1182121920), curr 1.06e+09 bytes\r\n",
        "\r\n"
       ]
      },
      {
       "output_type": "stream",
       "stream": "stdout",
       "text": [
        "usearch v7.0.1090_i86osx32, 4.0Gb RAM (15.0Gb total), 4 cores\r\n",
        "(C) Copyright 2013 Robert C. Edgar, all rights reserved.\r\n",
        "http://drive5.com/usearch\r\n",
        "\r\n",
        "Licensed to: sr320@uw.edu\r\n",
        "\r\n",
        "00:00 2.1Mb Reading /Volumes/Bay3/usearch/uniprot_sprot.udb\r\n"
       ]
      },
      {
       "output_type": "stream",
       "stream": "stdout",
       "text": [
        "00:02 1.1Gb Database loaded\r\n",
        "00:02 1.1Gb    0.1% Searching, 0.0% matched\r"
       ]
      },
      {
       "output_type": "stream",
       "stream": "stdout",
       "text": [
        "00:03 1.1Gb    2.0% Searching, 3.4% matched\r"
       ]
      },
      {
       "output_type": "stream",
       "stream": "stdout",
       "text": [
        "00:04 1.1Gb    4.1% Searching, 3.0% matched\r"
       ]
      },
      {
       "output_type": "stream",
       "stream": "stdout",
       "text": [
        "00:05 1.1Gb    6.6% Searching, 3.3% matched\r"
       ]
      },
      {
       "output_type": "stream",
       "stream": "stdout",
       "text": [
        "00:06 1.1Gb    9.0% Searching, 3.3% matched\r"
       ]
      },
      {
       "output_type": "stream",
       "stream": "stdout",
       "text": [
        "00:07 1.1Gb   10.8% Searching, 3.8% matched\r"
       ]
      },
      {
       "output_type": "stream",
       "stream": "stdout",
       "text": [
        "00:08 1.1Gb   13.0% Searching, 3.8% matched\r"
       ]
      },
      {
       "output_type": "stream",
       "stream": "stdout",
       "text": [
        "00:09 1.1Gb   15.2% Searching, 4.2% matched\r"
       ]
      },
      {
       "output_type": "stream",
       "stream": "stdout",
       "text": [
        "00:10 1.1Gb   17.9% Searching, 4.3% matched\r"
       ]
      },
      {
       "output_type": "stream",
       "stream": "stdout",
       "text": [
        "00:11 1.1Gb   20.0% Searching, 4.3% matched\r"
       ]
      },
      {
       "output_type": "stream",
       "stream": "stdout",
       "text": [
        "00:12 1.1Gb   21.5% Searching, 4.3% matched\r"
       ]
      },
      {
       "output_type": "stream",
       "stream": "stdout",
       "text": [
        "00:13 1.1Gb   24.3% Searching, 4.4% matched\r"
       ]
      },
      {
       "output_type": "stream",
       "stream": "stdout",
       "text": [
        "00:14 1.1Gb   26.7% Searching, 4.4% matched\r"
       ]
      },
      {
       "output_type": "stream",
       "stream": "stdout",
       "text": [
        "00:15 1.1Gb   29.1% Searching, 4.4% matched\r"
       ]
      },
      {
       "output_type": "stream",
       "stream": "stdout",
       "text": [
        "00:16 1.1Gb   31.0% Searching, 4.4% matched\r"
       ]
      },
      {
       "output_type": "stream",
       "stream": "stdout",
       "text": [
        "00:17 1.1Gb   33.4% Searching, 4.3% matched\r"
       ]
      },
      {
       "output_type": "stream",
       "stream": "stdout",
       "text": [
        "00:18 1.1Gb   35.9% Searching, 4.3% matched\r"
       ]
      },
      {
       "output_type": "stream",
       "stream": "stdout",
       "text": [
        "00:19 1.1Gb   37.7% Searching, 4.3% matched\r"
       ]
      },
      {
       "output_type": "stream",
       "stream": "stdout",
       "text": [
        "00:20 1.1Gb   40.3% Searching, 4.3% matched\r"
       ]
      },
      {
       "output_type": "stream",
       "stream": "stdout",
       "text": [
        "00:21 1.1Gb   43.0% Searching, 4.3% matched\r"
       ]
      },
      {
       "output_type": "stream",
       "stream": "stdout",
       "text": [
        "00:22 1.1Gb   45.3% Searching, 4.2% matched\r"
       ]
      },
      {
       "output_type": "stream",
       "stream": "stdout",
       "text": [
        "00:23 1.1Gb   47.1% Searching, 4.2% matched\r"
       ]
      },
      {
       "output_type": "stream",
       "stream": "stdout",
       "text": [
        "00:24 1.1Gb   49.0% Searching, 4.3% matched\r"
       ]
      },
      {
       "output_type": "stream",
       "stream": "stdout",
       "text": [
        "00:25 1.1Gb   51.3% Searching, 4.4% matched\r"
       ]
      },
      {
       "output_type": "stream",
       "stream": "stdout",
       "text": [
        "00:26 1.1Gb   53.4% Searching, 4.4% matched\r"
       ]
      },
      {
       "output_type": "stream",
       "stream": "stdout",
       "text": [
        "00:27 1.1Gb   55.7% Searching, 4.4% matched\r"
       ]
      },
      {
       "output_type": "stream",
       "stream": "stdout",
       "text": [
        "00:28 1.1Gb   58.5% Searching, 4.3% matched\r"
       ]
      },
      {
       "output_type": "stream",
       "stream": "stdout",
       "text": [
        "00:29 1.1Gb   60.6% Searching, 4.4% matched\r"
       ]
      },
      {
       "output_type": "stream",
       "stream": "stdout",
       "text": [
        "00:30 1.1Gb   63.0% Searching, 4.4% matched\r"
       ]
      },
      {
       "output_type": "stream",
       "stream": "stdout",
       "text": [
        "00:31 1.1Gb   65.7% Searching, 4.3% matched\r"
       ]
      },
      {
       "output_type": "stream",
       "stream": "stdout",
       "text": [
        "00:32 1.1Gb   67.7% Searching, 4.3% matched\r"
       ]
      },
      {
       "output_type": "stream",
       "stream": "stdout",
       "text": [
        "00:33 1.1Gb   69.8% Searching, 4.3% matched\r"
       ]
      },
      {
       "output_type": "stream",
       "stream": "stdout",
       "text": [
        "00:34 1.1Gb   71.5% Searching, 4.4% matched\r"
       ]
      },
      {
       "output_type": "stream",
       "stream": "stdout",
       "text": [
        "00:35 1.1Gb   73.1% Searching, 4.3% matched\r"
       ]
      },
      {
       "output_type": "stream",
       "stream": "stdout",
       "text": [
        "00:36 1.1Gb   75.3% Searching, 4.3% matched\r"
       ]
      },
      {
       "output_type": "stream",
       "stream": "stdout",
       "text": [
        "00:37 1.1Gb   78.1% Searching, 4.3% matched\r"
       ]
      },
      {
       "output_type": "stream",
       "stream": "stdout",
       "text": [
        "00:38 1.1Gb   80.2% Searching, 4.3% matched\r"
       ]
      },
      {
       "output_type": "stream",
       "stream": "stdout",
       "text": [
        "00:39 1.1Gb   82.7% Searching, 4.3% matched\r"
       ]
      },
      {
       "output_type": "stream",
       "stream": "stdout",
       "text": [
        "00:40 1.1Gb   85.1% Searching, 4.2% matched\r"
       ]
      },
      {
       "output_type": "stream",
       "stream": "stdout",
       "text": [
        "00:41 1.1Gb   87.1% Searching, 4.2% matched\r"
       ]
      },
      {
       "output_type": "stream",
       "stream": "stdout",
       "text": [
        "00:42 1.1Gb   89.1% Searching, 4.2% matched\r"
       ]
      },
      {
       "output_type": "stream",
       "stream": "stdout",
       "text": [
        "00:43 1.1Gb   91.7% Searching, 4.2% matched\r"
       ]
      },
      {
       "output_type": "stream",
       "stream": "stdout",
       "text": [
        "00:44 1.1Gb   93.7% Searching, 4.3% matched\r"
       ]
      },
      {
       "output_type": "stream",
       "stream": "stdout",
       "text": [
        "00:45 1.1Gb   95.6% Searching, 4.3% matched\r"
       ]
      },
      {
       "output_type": "stream",
       "stream": "stdout",
       "text": [
        "00:46 1.1Gb   97.6% Searching, 4.3% matched\r"
       ]
      },
      {
       "output_type": "stream",
       "stream": "stdout",
       "text": [
        "00:47 1.1Gb   99.4% Searching, 4.3% matched\r"
       ]
      },
      {
       "output_type": "stream",
       "stream": "stdout",
       "text": [
        "00:47 1.1Gb  100.0% Searching, 4.3% matched\r",
        "\r\n"
       ]
      },
      {
       "output_type": "stream",
       "stream": "stdout",
       "text": [
        "usearch v7.0.1090_i86osx32, 4.0Gb RAM (15.0Gb total), 4 cores\r\n",
        "(C) Copyright 2013 Robert C. Edgar, all rights reserved.\r\n",
        "http://drive5.com/usearch\r\n",
        "\r\n",
        "Licensed to: sr320@uw.edu\r\n",
        "\r\n",
        "00:00 1.5Mb Reading /Volumes/Bay3/usearch/uniprot_sprot.udb\r\n"
       ]
      },
      {
       "output_type": "stream",
       "stream": "stdout",
       "text": [
        "00:02 1.1Gb Database loaded\r\n",
        "00:02 1.1Gb    0.1% Searching, 0.0% matched\r"
       ]
      },
      {
       "output_type": "stream",
       "stream": "stdout",
       "text": [
        "00:03 1.1Gb    2.3% Searching, 2.6% matched\r"
       ]
      },
      {
       "output_type": "stream",
       "stream": "stdout",
       "text": [
        "00:04 1.1Gb    6.3% Searching, 3.7% matched\r"
       ]
      },
      {
       "output_type": "stream",
       "stream": "stdout",
       "text": [
        "00:05 1.1Gb   11.0% Searching, 3.0% matched\r"
       ]
      },
      {
       "output_type": "stream",
       "stream": "stdout",
       "text": [
        "00:06 1.1Gb   16.3% Searching, 3.9% matched\r"
       ]
      },
      {
       "output_type": "stream",
       "stream": "stdout",
       "text": [
        "00:07 1.1Gb   20.5% Searching, 3.7% matched\r"
       ]
      },
      {
       "output_type": "stream",
       "stream": "stdout",
       "text": [
        "00:08 1.1Gb   26.4% Searching, 3.6% matched\r"
       ]
      },
      {
       "output_type": "stream",
       "stream": "stdout",
       "text": [
        "00:09 1.1Gb   31.2% Searching, 3.8% matched\r"
       ]
      },
      {
       "output_type": "stream",
       "stream": "stdout",
       "text": [
        "00:10 1.1Gb   35.2% Searching, 3.9% matched\r"
       ]
      },
      {
       "output_type": "stream",
       "stream": "stdout",
       "text": [
        "00:11 1.1Gb   39.6% Searching, 3.8% matched\r"
       ]
      },
      {
       "output_type": "stream",
       "stream": "stdout",
       "text": [
        "00:12 1.1Gb   45.0% Searching, 3.7% matched\r"
       ]
      },
      {
       "output_type": "stream",
       "stream": "stdout",
       "text": [
        "00:13 1.1Gb   50.1% Searching, 3.7% matched\r"
       ]
      },
      {
       "output_type": "stream",
       "stream": "stdout",
       "text": [
        "00:14 1.1Gb   55.5% Searching, 4.1% matched\r"
       ]
      },
      {
       "output_type": "stream",
       "stream": "stdout",
       "text": [
        "00:15 1.1Gb   63.4% Searching, 3.9% matched\r"
       ]
      },
      {
       "output_type": "stream",
       "stream": "stdout",
       "text": [
        "00:16 1.1Gb   70.8% Searching, 3.7% matched\r"
       ]
      },
      {
       "output_type": "stream",
       "stream": "stdout",
       "text": [
        "00:17 1.1Gb   77.1% Searching, 3.5% matched\r"
       ]
      },
      {
       "output_type": "stream",
       "stream": "stdout",
       "text": [
        "00:18 1.1Gb   84.9% Searching, 3.2% matched\r"
       ]
      },
      {
       "output_type": "stream",
       "stream": "stdout",
       "text": [
        "00:19 1.1Gb   90.3% Searching, 3.1% matched\r"
       ]
      },
      {
       "output_type": "stream",
       "stream": "stdout",
       "text": [
        "00:20 1.1Gb   97.0% Searching, 3.1% matched\r"
       ]
      },
      {
       "output_type": "stream",
       "stream": "stdout",
       "text": [
        "00:20 1.1Gb  100.0% Searching, 3.1% matched\r",
        "\r\n"
       ]
      },
      {
       "output_type": "stream",
       "stream": "stdout",
       "text": [
        "usearch v7.0.1090_i86osx32, 4.0Gb RAM (15.0Gb total), 4 cores\r\n",
        "(C) Copyright 2013 Robert C. Edgar, all rights reserved.\r\n",
        "http://drive5.com/usearch\r\n",
        "\r\n",
        "Licensed to: sr320@uw.edu\r\n",
        "\r\n",
        "00:00 1.7Mb Reading /Volumes/Bay3/usearch/uniprot_sprot.udb\r\n"
       ]
      },
      {
       "output_type": "stream",
       "stream": "stdout",
       "text": [
        "00:02 1.1Gb Database loaded\r\n",
        "00:02 1.1Gb    0.1% Searching, 0.0% matched\r"
       ]
      },
      {
       "output_type": "stream",
       "stream": "stdout",
       "text": [
        "00:03 1.1Gb    1.0% Searching, 4.8% matched\r"
       ]
      },
      {
       "output_type": "stream",
       "stream": "stdout",
       "text": [
        "00:04 1.1Gb    6.3% Searching, 7.6% matched\r"
       ]
      },
      {
       "output_type": "stream",
       "stream": "stdout",
       "text": [
        "00:05 1.1Gb   11.6% Searching, 6.0% matched\r"
       ]
      },
      {
       "output_type": "stream",
       "stream": "stdout",
       "text": [
        "00:06 1.1Gb   16.0% Searching, 5.9% matched\r"
       ]
      },
      {
       "output_type": "stream",
       "stream": "stdout",
       "text": [
        "00:07 1.1Gb   20.1% Searching, 5.5% matched\r"
       ]
      },
      {
       "output_type": "stream",
       "stream": "stdout",
       "text": [
        "00:08 1.1Gb   24.0% Searching, 5.3% matched\r"
       ]
      },
      {
       "output_type": "stream",
       "stream": "stdout",
       "text": [
        "00:09 1.1Gb   27.8% Searching, 5.3% matched\r"
       ]
      },
      {
       "output_type": "stream",
       "stream": "stdout",
       "text": [
        "00:10 1.1Gb   31.4% Searching, 5.1% matched\r"
       ]
      },
      {
       "output_type": "stream",
       "stream": "stdout",
       "text": [
        "00:11 1.1Gb   35.5% Searching, 4.9% matched\r"
       ]
      },
      {
       "output_type": "stream",
       "stream": "stdout",
       "text": [
        "00:12 1.1Gb   37.9% Searching, 4.8% matched\r"
       ]
      },
      {
       "output_type": "stream",
       "stream": "stdout",
       "text": [
        "00:13 1.1Gb   41.0% Searching, 4.7% matched\r"
       ]
      },
      {
       "output_type": "stream",
       "stream": "stdout",
       "text": [
        "00:14 1.1Gb   45.6% Searching, 4.8% matched\r"
       ]
      },
      {
       "output_type": "stream",
       "stream": "stdout",
       "text": [
        "00:15 1.1Gb   50.6% Searching, 4.6% matched\r"
       ]
      },
      {
       "output_type": "stream",
       "stream": "stdout",
       "text": [
        "00:16 1.1Gb   56.4% Searching, 4.5% matched\r"
       ]
      },
      {
       "output_type": "stream",
       "stream": "stdout",
       "text": [
        "00:17 1.1Gb   61.5% Searching, 4.4% matched\r"
       ]
      },
      {
       "output_type": "stream",
       "stream": "stdout",
       "text": [
        "00:18 1.1Gb   65.8% Searching, 4.4% matched\r"
       ]
      },
      {
       "output_type": "stream",
       "stream": "stdout",
       "text": [
        "00:19 1.1Gb   69.7% Searching, 4.3% matched\r"
       ]
      },
      {
       "output_type": "stream",
       "stream": "stdout",
       "text": [
        "00:20 1.1Gb   73.4% Searching, 4.3% matched\r"
       ]
      },
      {
       "output_type": "stream",
       "stream": "stdout",
       "text": [
        "00:21 1.1Gb   76.9% Searching, 4.3% matched\r"
       ]
      },
      {
       "output_type": "stream",
       "stream": "stdout",
       "text": [
        "00:22 1.1Gb   80.1% Searching, 4.3% matched\r"
       ]
      },
      {
       "output_type": "stream",
       "stream": "stdout",
       "text": [
        "00:23 1.1Gb   83.3% Searching, 4.2% matched\r"
       ]
      },
      {
       "output_type": "stream",
       "stream": "stdout",
       "text": [
        "00:24 1.1Gb   86.1% Searching, 4.2% matched\r"
       ]
      },
      {
       "output_type": "stream",
       "stream": "stdout",
       "text": [
        "00:25 1.1Gb   89.6% Searching, 4.3% matched\r"
       ]
      },
      {
       "output_type": "stream",
       "stream": "stdout",
       "text": [
        "00:26 1.1Gb   94.1% Searching, 4.2% matched\r"
       ]
      },
      {
       "output_type": "stream",
       "stream": "stdout",
       "text": [
        "00:27 1.1Gb   98.5% Searching, 4.1% matched\r"
       ]
      },
      {
       "output_type": "stream",
       "stream": "stdout",
       "text": [
        "00:27 1.1Gb  100.0% Searching, 4.2% matched\r",
        "\r\n"
       ]
      },
      {
       "output_type": "stream",
       "stream": "stdout",
       "text": [
        "usearch v7.0.1090_i86osx32, 4.0Gb RAM (15.0Gb total), 4 cores\r\n",
        "(C) Copyright 2013 Robert C. Edgar, all rights reserved.\r\n",
        "http://drive5.com/usearch\r\n",
        "\r\n",
        "Licensed to: sr320@uw.edu\r\n",
        "\r\n"
       ]
      },
      {
       "output_type": "stream",
       "stream": "stdout",
       "text": [
        "00:00 1.6Mb Reading /Volumes/Bay3/usearch/uniprot_sprot.udb\r\n"
       ]
      },
      {
       "output_type": "stream",
       "stream": "stdout",
       "text": [
        "00:02 1.1Gb Database loaded\r\n",
        "00:02 1.1Gb    0.1% Searching, 0.0% matched\r"
       ]
      },
      {
       "output_type": "stream",
       "stream": "stdout",
       "text": [
        "00:03 1.1Gb    1.0% Searching, 7.4% matched\r"
       ]
      },
      {
       "output_type": "stream",
       "stream": "stdout",
       "text": [
        "00:04 1.1Gb    5.3% Searching, 2.9% matched\r"
       ]
      },
      {
       "output_type": "stream",
       "stream": "stdout",
       "text": [
        "00:05 1.1Gb   10.1% Searching, 3.6% matched\r"
       ]
      },
      {
       "output_type": "stream",
       "stream": "stdout",
       "text": [
        "00:06 1.1Gb   13.0% Searching, 3.9% matched\r"
       ]
      },
      {
       "output_type": "stream",
       "stream": "stdout",
       "text": [
        "00:07 1.1Gb   16.6% Searching, 3.9% matched\r"
       ]
      },
      {
       "output_type": "stream",
       "stream": "stdout",
       "text": [
        "00:08 1.1Gb   19.3% Searching, 3.9% matched\r"
       ]
      },
      {
       "output_type": "stream",
       "stream": "stdout",
       "text": [
        "00:09 1.1Gb   23.8% Searching, 3.8% matched\r"
       ]
      },
      {
       "output_type": "stream",
       "stream": "stdout",
       "text": [
        "00:10 1.1Gb   28.5% Searching, 3.8% matched\r"
       ]
      },
      {
       "output_type": "stream",
       "stream": "stdout",
       "text": [
        "00:11 1.1Gb   32.8% Searching, 3.9% matched\r"
       ]
      },
      {
       "output_type": "stream",
       "stream": "stdout",
       "text": [
        "00:12 1.1Gb   36.4% Searching, 3.9% matched\r"
       ]
      },
      {
       "output_type": "stream",
       "stream": "stdout",
       "text": [
        "00:13 1.1Gb   41.0% Searching, 3.8% matched\r"
       ]
      },
      {
       "output_type": "stream",
       "stream": "stdout",
       "text": [
        "00:14 1.1Gb   45.1% Searching, 4.0% matched\r"
       ]
      },
      {
       "output_type": "stream",
       "stream": "stdout",
       "text": [
        "00:15 1.1Gb   49.9% Searching, 4.0% matched\r"
       ]
      },
      {
       "output_type": "stream",
       "stream": "stdout",
       "text": [
        "00:16 1.1Gb   53.7% Searching, 4.0% matched\r"
       ]
      },
      {
       "output_type": "stream",
       "stream": "stdout",
       "text": [
        "00:17 1.1Gb   56.9% Searching, 4.0% matched\r"
       ]
      },
      {
       "output_type": "stream",
       "stream": "stdout",
       "text": [
        "00:18 1.1Gb   60.9% Searching, 4.0% matched\r"
       ]
      },
      {
       "output_type": "stream",
       "stream": "stdout",
       "text": [
        "00:19 1.1Gb   64.6% Searching, 3.9% matched\r"
       ]
      },
      {
       "output_type": "stream",
       "stream": "stdout",
       "text": [
        "00:20 1.1Gb   68.2% Searching, 3.9% matched\r"
       ]
      },
      {
       "output_type": "stream",
       "stream": "stdout",
       "text": [
        "00:21 1.1Gb   72.5% Searching, 3.7% matched\r"
       ]
      },
      {
       "output_type": "stream",
       "stream": "stdout",
       "text": [
        "00:22 1.1Gb   76.7% Searching, 3.7% matched\r"
       ]
      },
      {
       "output_type": "stream",
       "stream": "stdout",
       "text": [
        "00:23 1.1Gb   81.1% Searching, 3.7% matched\r"
       ]
      },
      {
       "output_type": "stream",
       "stream": "stdout",
       "text": [
        "00:24 1.1Gb   84.8% Searching, 3.8% matched\r"
       ]
      },
      {
       "output_type": "stream",
       "stream": "stdout",
       "text": [
        "00:25 1.1Gb   90.4% Searching, 3.8% matched\r"
       ]
      },
      {
       "output_type": "stream",
       "stream": "stdout",
       "text": [
        "00:26 1.1Gb   93.9% Searching, 3.7% matched\r"
       ]
      },
      {
       "output_type": "stream",
       "stream": "stdout",
       "text": [
        "00:27 1.1Gb   98.4% Searching, 3.7% matched\r"
       ]
      },
      {
       "output_type": "stream",
       "stream": "stdout",
       "text": [
        "00:27 1.1Gb  100.0% Searching, 3.6% matched\r",
        "\r\n"
       ]
      },
      {
       "output_type": "stream",
       "stream": "stdout",
       "text": [
        "usearch v7.0.1090_i86osx32, 4.0Gb RAM (15.0Gb total), 4 cores\r\n",
        "(C) Copyright 2013 Robert C. Edgar, all rights reserved.\r\n",
        "http://drive5.com/usearch\r\n",
        "\r\n",
        "Licensed to: sr320@uw.edu\r\n",
        "\r\n",
        "00:00 1.6Mb Reading /Volumes/Bay3/usearch/uniprot_sprot.udb\r\n"
       ]
      },
      {
       "output_type": "stream",
       "stream": "stdout",
       "text": [
        "00:02 1.1Gb Database loaded\r\n",
        "00:02 1.1Gb    0.1% Searching, 0.0% matched\r"
       ]
      },
      {
       "output_type": "stream",
       "stream": "stdout",
       "text": [
        "00:03 1.1Gb    0.8% Searching, 0.0% matched\r"
       ]
      },
      {
       "output_type": "stream",
       "stream": "stdout",
       "text": [
        "00:04 1.1Gb    5.0% Searching, 3.1% matched\r"
       ]
      },
      {
       "output_type": "stream",
       "stream": "stdout",
       "text": [
        "00:05 1.1Gb    9.1% Searching, 2.9% matched\r"
       ]
      },
      {
       "output_type": "stream",
       "stream": "stdout",
       "text": [
        "00:06 1.1Gb   13.7% Searching, 3.1% matched\r"
       ]
      },
      {
       "output_type": "stream",
       "stream": "stdout",
       "text": [
        "0"
       ]
      },
      {
       "output_type": "stream",
       "stream": "stdout",
       "text": [
        "0:07 1.1Gb   18.4% Searching, 3.4% matched\r"
       ]
      },
      {
       "output_type": "stream",
       "stream": "stdout",
       "text": [
        "00:08 1.1Gb   22.7% Searching, 3.3% matched\r"
       ]
      },
      {
       "output_type": "stream",
       "stream": "stdout",
       "text": [
        "00:09 1.1Gb   26.9% Searching, 3.3% matched\r"
       ]
      },
      {
       "output_type": "stream",
       "stream": "stdout",
       "text": [
        "00:10 1.1Gb   30.4% Searching, 3.4% matched\r"
       ]
      },
      {
       "output_type": "stream",
       "stream": "stdout",
       "text": [
        "00:11 1.1Gb   34.5% Searching, 3.5% matched\r"
       ]
      },
      {
       "output_type": "stream",
       "stream": "stdout",
       "text": [
        "00:12 1.1Gb   38.9% Searching, 3.7% matched\r"
       ]
      },
      {
       "output_type": "stream",
       "stream": "stdout",
       "text": [
        "00:13 1.1Gb   42.8% Searching, 3.8% matched\r"
       ]
      },
      {
       "output_type": "stream",
       "stream": "stdout",
       "text": [
        "00:14 1.1Gb   45.9% Searching, 3.8% matched\r"
       ]
      },
      {
       "output_type": "stream",
       "stream": "stdout",
       "text": [
        "00:15 1.1Gb   50.7% Searching, 3.8% matched\r"
       ]
      },
      {
       "output_type": "stream",
       "stream": "stdout",
       "text": [
        "00:16 1.1Gb   54.6% Searching, 3.9% matched\r"
       ]
      },
      {
       "output_type": "stream",
       "stream": "stdout",
       "text": [
        "0"
       ]
      },
      {
       "output_type": "stream",
       "stream": "stdout",
       "text": [
        "0:17 1.1Gb   57.9% Searching, 3.9% matched\r"
       ]
      },
      {
       "output_type": "stream",
       "stream": "stdout",
       "text": [
        "00:18 1.1Gb   62.7% Searching, 3.8% matched\r"
       ]
      },
      {
       "output_type": "stream",
       "stream": "stdout",
       "text": [
        "00:19 1.1Gb   66.6% Searching, 3.8% matc"
       ]
      },
      {
       "output_type": "stream",
       "stream": "stdout",
       "text": [
        "hed\r"
       ]
      },
      {
       "output_type": "stream",
       "stream": "stdout",
       "text": [
        "00:20 1.1Gb   70.6% Searching, 3.7% matched\r"
       ]
      },
      {
       "output_type": "stream",
       "stream": "stdout",
       "text": [
        "00:21 1.1Gb   75.4% Searching, 3.7% matched\r"
       ]
      },
      {
       "output_type": "stream",
       "stream": "stdout",
       "text": [
        "00:22 1.1Gb   78.6% Searching, 3.7% matched\r"
       ]
      },
      {
       "output_type": "stream",
       "stream": "stdout",
       "text": [
        "00:23 1.1Gb   82.6% Searching, 3.7% matched\r"
       ]
      },
      {
       "output_type": "stream",
       "stream": "stdout",
       "text": [
        "00:24 1.1Gb   86.9% Searching, 3.6% matched\r"
       ]
      },
      {
       "output_type": "stream",
       "stream": "stdout",
       "text": [
        "00:25 1.1Gb   89.7% Searching, 3.7% matched\r"
       ]
      },
      {
       "output_type": "stream",
       "stream": "stdout",
       "text": [
        "00:26 1.1Gb   94.1% Searching, 3.7% matched\r"
       ]
      },
      {
       "output_type": "stream",
       "stream": "stdout",
       "text": [
        "00:27 1.1Gb   98.5% Searching, 3.7% matched\r"
       ]
      },
      {
       "output_type": "stream",
       "stream": "stdout",
       "text": [
        "00:27 1.1Gb  100.0% Searching, 3.6% matched\r",
        "\r\n"
       ]
      },
      {
       "output_type": "stream",
       "stream": "stdout",
       "text": [
        "usearch v7.0.1090_i86osx32, 4.0Gb RAM (15.0Gb total), 4 cores\r\n",
        "(C) Copyright 2013 Robert C. Edgar, all rights reserved.\r\n",
        "http://drive5.com/usearch\r\n",
        "\r\n",
        "Licensed to: sr320@uw.edu\r\n",
        "\r\n",
        "00:00 1.7Mb Reading /Volumes/Bay3/usearch/uniprot_sprot.udb\r\n"
       ]
      },
      {
       "output_type": "stream",
       "stream": "stdout",
       "text": [
        "00:02 1.1Gb Database loaded\r\n",
        "00:02 1.1Gb    0.1% Searching, 0.0% matched\r"
       ]
      },
      {
       "output_type": "stream",
       "stream": "stdout",
       "text": [
        "00:03 1.1Gb    1.4% Searching, 2"
       ]
      },
      {
       "output_type": "stream",
       "stream": "stdout",
       "text": [
        ".3% matched\r"
       ]
      },
      {
       "output_type": "stream",
       "stream": "stdout",
       "text": [
        "00:04 1.1Gb    5.8% Searching, 1.9% matched\r"
       ]
      },
      {
       "output_type": "stream",
       "stream": "stdout",
       "text": [
        "00:05 1.1Gb    9.8% Searching, 2.3% matched\r"
       ]
      },
      {
       "output_type": "stream",
       "stream": "stdout",
       "text": [
        "00:06 1.1Gb   13.7% Searching, 2.7% matched\r"
       ]
      },
      {
       "output_type": "stream",
       "stream": "stdout",
       "text": [
        "00:07 1.1Gb   16.8% Searching, 3.1% matched\r"
       ]
      },
      {
       "output_type": "stream",
       "stream": "stdout",
       "text": [
        "00:08 1.1Gb   20.2% Searching, 3.5% matched\r"
       ]
      },
      {
       "output_type": "stream",
       "stream": "stdout",
       "text": [
        "00:09 1.1Gb   23.4% Searching, 3.6% matched\r"
       ]
      },
      {
       "output_type": "stream",
       "stream": "stdout",
       "text": [
        "00:10 1.1Gb   26.6% Searching, 3.8% matched\r"
       ]
      },
      {
       "output_type": "stream",
       "stream": "stdout",
       "text": [
        "00:11 1.1Gb   30.3% Searching, 3.8% matched\r"
       ]
      },
      {
       "output_type": "stream",
       "stream": "stdout",
       "text": [
        "00:12 1.1Gb   34.3% Searching, 3.7% matched\r"
       ]
      },
      {
       "output_type": "stream",
       "stream": "stdout",
       "text": [
        "00:13 1.1Gb   38.9% Searching, 3.7% matched\r"
       ]
      },
      {
       "output_type": "stream",
       "stream": "stdout",
       "text": [
        "00:14 1.1Gb   42.8% Searching, 3.7% matched\r"
       ]
      },
      {
       "output_type": "stream",
       "stream": "stdout",
       "text": [
        "00:15 1.1Gb   46.2% Searching, 3.9% matched\r"
       ]
      },
      {
       "output_type": "stream",
       "stream": "stdout",
       "text": [
        "00:16 1.1Gb   51.4% Searching, 4.0% matched\r"
       ]
      },
      {
       "output_type": "stream",
       "stream": "stdout",
       "text": [
        "00:17 1.1Gb   54.5% Searching, 3.9% matched\r"
       ]
      },
      {
       "output_type": "stream",
       "stream": "stdout",
       "text": [
        "00:18 1.1Gb   57.9% Searching, 3.7% matched\r"
       ]
      },
      {
       "output_type": "stream",
       "stream": "stdout",
       "text": [
        "00:19 1.1Gb   61.3% Searching, 3.7% matched\r"
       ]
      },
      {
       "output_type": "stream",
       "stream": "stdout",
       "text": [
        "00:20 1.1Gb   64.1% Searching, 3.7% matched\r"
       ]
      },
      {
       "output_type": "stream",
       "stream": "stdout",
       "text": [
        "00:21 1.1Gb   67.2% Searching, 3.6% matched\r"
       ]
      },
      {
       "output_type": "stream",
       "stream": "stdout",
       "text": [
        "00:22 1.1Gb   70.9% Searching, 3.5% matched\r"
       ]
      },
      {
       "output_type": "stream",
       "stream": "stdout",
       "text": [
        "00:23 1.1Gb   75.5% Searching, 3.5% matched\r"
       ]
      },
      {
       "output_type": "stream",
       "stream": "stdout",
       "text": [
        "00:24 1.1Gb   79.2% Searching, 3.5% matched\r"
       ]
      },
      {
       "output_type": "stream",
       "stream": "stdout",
       "text": [
        "00:25 1.1Gb   83.3% Searching, 3.5% matched\r"
       ]
      },
      {
       "output_type": "stream",
       "stream": "stdout",
       "text": [
        "00:26 1.1Gb   85.1% Searching, 3.5% matched\r"
       ]
      },
      {
       "output_type": "stream",
       "stream": "stdout",
       "text": [
        "00:27 1.1Gb   89.3% Searching, 3.5% matched\r"
       ]
      },
      {
       "output_type": "stream",
       "stream": "stdout",
       "text": [
        "00:28 1.1Gb   92.6% Searching, 3.4% matched\r"
       ]
      },
      {
       "output_type": "stream",
       "stream": "stdout",
       "text": [
        "00:29 1.1Gb   95.8% Searching, 3.4% matched\r"
       ]
      },
      {
       "output_type": "stream",
       "stream": "stdout",
       "text": [
        "00:30 1.1Gb   98.9% Searching, 3.4% matched\r"
       ]
      },
      {
       "output_type": "stream",
       "stream": "stdout",
       "text": [
        "00:30 1.1Gb  100.0% Searching, 3.4% matched\r",
        "\r\n"
       ]
      },
      {
       "output_type": "stream",
       "stream": "stdout",
       "text": [
        "usearch v7.0.1090_i86osx32, 4.0Gb RAM (15.0Gb total), 4 cores\r\n",
        "(C) Copyright 2013 Robert C. Edgar, all rights reserved.\r\n",
        "http://drive5.com/usearch\r\n",
        "\r\n",
        "Licensed to: sr320@uw.edu\r\n",
        "\r\n"
       ]
      },
      {
       "output_type": "stream",
       "stream": "stdout",
       "text": [
        "00:00 1.7Mb Reading /Volumes/Bay3/usearch/uniprot_sprot.udb\r\n"
       ]
      },
      {
       "output_type": "stream",
       "stream": "stdout",
       "text": [
        "00:02 1.1Gb Database loaded\r\n",
        "00:02 1.1Gb    0.1% Searching, 0.0% matched\r"
       ]
      },
      {
       "output_type": "stream",
       "stream": "stdout",
       "text": [
        "00:03 1.1Gb    0.6% Searching, 0.0% matched\r"
       ]
      },
      {
       "output_type": "stream",
       "stream": "stdout",
       "text": [
        "00:04 1.1Gb    3.7% Searching, 2.1% matched\r"
       ]
      },
      {
       "output_type": "stream",
       "stream": "stdout",
       "text": [
        "00:05 1.1Gb    7.7% Searching, 2.4% matched\r"
       ]
      },
      {
       "output_type": "stream",
       "stream": "stdout",
       "text": [
        "00:06 1.1Gb   11.7% Searching, 2.6% matched\r"
       ]
      },
      {
       "output_type": "stream",
       "stream": "stdout",
       "text": [
        "00:07 1.1Gb   15.4% Searching, 3.2% matched\r"
       ]
      },
      {
       "output_type": "stream",
       "stream": "stdout",
       "text": [
        "00:08 1.1Gb   18.9% Searching, 2.9% matched\r"
       ]
      },
      {
       "output_type": "stream",
       "stream": "stdout",
       "text": [
        "00:09 1.1Gb   22.0% Searching, 3.0% matched\r"
       ]
      },
      {
       "output_type": "stream",
       "stream": "stdout",
       "text": [
        "00:10 1.1Gb   25.5% Searching, 2.9% matched\r"
       ]
      },
      {
       "output_type": "stream",
       "stream": "stdout",
       "text": [
        "00:11 1.1Gb   29.5% Searching, 2.9% matched\r"
       ]
      },
      {
       "output_type": "stream",
       "stream": "stdout",
       "text": [
        "00:12 1.1Gb   32.4% Searching, 2.9% matched\r"
       ]
      },
      {
       "output_type": "stream",
       "stream": "stdout",
       "text": [
        "00:13 1.1Gb   35.4% Searching, 2.9% matched\r"
       ]
      },
      {
       "output_type": "stream",
       "stream": "stdout",
       "text": [
        "00:14 1.1Gb   39.4% Searching, 2.9% matched\r"
       ]
      },
      {
       "output_type": "stream",
       "stream": "stdout",
       "text": [
        "00:15 1.1Gb   43.0% Searching, 2.9% matched\r"
       ]
      },
      {
       "output_type": "stream",
       "stream": "stdout",
       "text": [
        "00:16 1.1Gb   46.5% Searching, 2.9% matched\r"
       ]
      },
      {
       "output_type": "stream",
       "stream": "stdout",
       "text": [
        "00:17 1.1Gb   51.1% Searching, 2.8% matched\r"
       ]
      },
      {
       "output_type": "stream",
       "stream": "stdout",
       "text": [
        "00:18 1.1Gb   55.3% Searching, 2.9% matched\r"
       ]
      },
      {
       "output_type": "stream",
       "stream": "stdout",
       "text": [
        "00:19 1.1Gb   58.5% Searching, 2.9% matched\r"
       ]
      },
      {
       "output_type": "stream",
       "stream": "stdout",
       "text": [
        "00:20 1.1Gb   62.0% Searching, 2.9% matched\r"
       ]
      },
      {
       "output_type": "stream",
       "stream": "stdout",
       "text": [
        "00:21 1.1Gb   67.3% Searching, 3.0% matched\r"
       ]
      },
      {
       "output_type": "stream",
       "stream": "stdout",
       "text": [
        "00:22 1.1Gb   70.6% Searching, 3.2% matched\r"
       ]
      },
      {
       "output_type": "stream",
       "stream": "stdout",
       "text": [
        "00:23 1.1Gb   74.5% Searching, 3.1% matched\r"
       ]
      },
      {
       "output_type": "stream",
       "stream": "stdout",
       "text": [
        "00:24 1.1Gb   77.5% Searching, 3.2% matched\r"
       ]
      },
      {
       "output_type": "stream",
       "stream": "stdout",
       "text": [
        "00:25 1.1Gb   80.8% Searching, 3.3% matched\r"
       ]
      },
      {
       "output_type": "stream",
       "stream": "stdout",
       "text": [
        "00:26 1.1Gb   83.3% Searching, 3.4% matched\r"
       ]
      },
      {
       "output_type": "stream",
       "stream": "stdout",
       "text": [
        "00:27 1.1Gb   85.3% Searching, 3.5% matched\r"
       ]
      },
      {
       "output_type": "stream",
       "stream": "stdout",
       "text": [
        "00:28 1.1Gb   88.7% Searching, 3.5% matched\r"
       ]
      },
      {
       "output_type": "stream",
       "stream": "stdout",
       "text": [
        "00:29 1.1Gb   92.1% Searching, 3.5% matched\r"
       ]
      },
      {
       "output_type": "stream",
       "stream": "stdout",
       "text": [
        "00:30 1.1Gb   95.3% Searching, 3.5% matched\r"
       ]
      },
      {
       "output_type": "stream",
       "stream": "stdout",
       "text": [
        "00:31 1.1Gb   98.0% Searching, 3.4% matched\r"
       ]
      },
      {
       "output_type": "stream",
       "stream": "stdout",
       "text": [
        "00:31 1.1Gb  100.0% Searching, 3.4% matched\r",
        "\r\n"
       ]
      },
      {
       "output_type": "stream",
       "stream": "stdout",
       "text": [
        "usearch v7.0.1090_i86osx32, 4.0Gb RAM (15.0Gb total), 4 cores\r\n",
        "(C) Copyright 2013 Robert C. Edgar, all rights reserved.\r\n",
        "http://drive5.com/usearch\r\n",
        "\r\n",
        "Licensed to: sr320@uw.edu\r\n",
        "\r\n",
        "00:00 1.6Mb Reading /Volumes/Bay3/usearch/uniprot_sprot.udb\r\n"
       ]
      },
      {
       "output_type": "stream",
       "stream": "stdout",
       "text": [
        "00:02 1.1Gb Database loaded\r\n",
        "00:02 1.1Gb    0.1% Searching, 0.0% matched\r"
       ]
      },
      {
       "output_type": "stream",
       "stream": "stdout",
       "text": [
        "00:03 1.1Gb    2.1% Searching, 3.1% matched\r"
       ]
      },
      {
       "output_type": "stream",
       "stream": "stdout",
       "text": [
        "00:04 1.1Gb    5.8% Searching, 4.5% matched\r"
       ]
      },
      {
       "output_type": "stream",
       "stream": "stdout",
       "text": [
        "00:05 1.1Gb   10.5% Searching, 3.6% matched\r"
       ]
      },
      {
       "output_type": "stream",
       "stream": "stdout",
       "text": [
        "00:06 1.1Gb   14.2% Searching, 3.9% matched\r"
       ]
      },
      {
       "output_type": "stream",
       "stream": "stdout",
       "text": [
        "00:07 1.1Gb   17.8% Searching, 3.8% matched\r"
       ]
      },
      {
       "output_type": "stream",
       "stream": "stdout",
       "text": [
        "00:08 1.1Gb   21.1% Searching, 3.8% matched\r"
       ]
      },
      {
       "output_type": "stream",
       "stream": "stdout",
       "text": [
        "00:09 1.1Gb   24.7% Searching, 4.1% matched\r"
       ]
      },
      {
       "output_type": "stream",
       "stream": "stdout",
       "text": [
        "00:10 1.1Gb   28.1% Searching, 4.2% matched\r"
       ]
      },
      {
       "output_type": "stream",
       "stream": "stdout",
       "text": [
        "00:11 1.1Gb   30.6% Searching, 4.2% matched\r"
       ]
      },
      {
       "output_type": "stream",
       "stream": "stdout",
       "text": [
        "00:12 1.1Gb   34.0% Searching, 4.3% matched\r"
       ]
      },
      {
       "output_type": "stream",
       "stream": "stdout",
       "text": [
        "00:13 1.1Gb   37.1% Searching, 4.2% matched\r"
       ]
      },
      {
       "output_type": "stream",
       "stream": "stdout",
       "text": [
        "00:14 1.1Gb   39.2% Searching, 4.3% matched\r"
       ]
      },
      {
       "output_type": "stream",
       "stream": "stdout",
       "text": [
        "00:15 1.1Gb   42.4% Searching, 4.4% matched\r"
       ]
      },
      {
       "output_type": "stream",
       "stream": "stdout",
       "text": [
        "00:16 1.1Gb   45.6% Searching, 4.4% matched\r"
       ]
      },
      {
       "output_type": "stream",
       "stream": "stdout",
       "text": [
        "00:17 1.1Gb   48.9% Searching, 4.3% matched\r"
       ]
      },
      {
       "output_type": "stream",
       "stream": "stdout",
       "text": [
        "00:18 1.1Gb   53.2% Searching, 4.2% matched\r"
       ]
      },
      {
       "output_type": "stream",
       "stream": "stdout",
       "text": [
        "00:19 1.1Gb   56.3% Searching, 4.2% matched\r"
       ]
      },
      {
       "output_type": "stream",
       "stream": "stdout",
       "text": [
        "00:20 1.1Gb   60.3% Searching, 4.2% matched\r"
       ]
      },
      {
       "output_type": "stream",
       "stream": "stdout",
       "text": [
        "00:21 1.1Gb   64.8% Searching, 4.2% matched\r"
       ]
      },
      {
       "output_type": "stream",
       "stream": "stdout",
       "text": [
        "00:22 1.1Gb   68.4% Searching, 4.2% matched\r"
       ]
      },
      {
       "output_type": "stream",
       "stream": "stdout",
       "text": [
        "00:23 1.1Gb   72.3% Searching, 4.1% matched\r"
       ]
      },
      {
       "output_type": "stream",
       "stream": "stdout",
       "text": [
        "00:24 1.1Gb   75.0% Searching, 4.0% matched\r"
       ]
      },
      {
       "output_type": "stream",
       "stream": "stdout",
       "text": [
        "00:25 1.1Gb   77.3% Searching, 4.0% matched\r"
       ]
      },
      {
       "output_type": "stream",
       "stream": "stdout",
       "text": [
        "00:26 1.1Gb   79.9% Searching, 4.0% matched\r"
       ]
      },
      {
       "output_type": "stream",
       "stream": "stdout",
       "text": [
        "00:27 1.1Gb   83.3% Searching, 4.1% matched\r"
       ]
      },
      {
       "output_type": "stream",
       "stream": "stdout",
       "text": [
        "00:28 1.1Gb   87.5% Searching, 4.0% matched\r"
       ]
      },
      {
       "output_type": "stream",
       "stream": "stdout",
       "text": [
        "00:29 1.1Gb   92.0% Searching, 3.9% matched\r"
       ]
      },
      {
       "output_type": "stream",
       "stream": "stdout",
       "text": [
        "00:30 1.1Gb   96.0% Searching, 4.0% matched\r"
       ]
      },
      {
       "output_type": "stream",
       "stream": "stdout",
       "text": [
        "00:31 1.1Gb   99.8% Searching, 4.0% matched\r",
        "00:31 1.1Gb  100.0% Searching, 4.0% matched\r",
        "\r\n"
       ]
      },
      {
       "output_type": "stream",
       "stream": "stdout",
       "text": [
        "usearch v7.0.1090_i86osx32, 4.0Gb RAM (15.0Gb total), 4 cores\r\n",
        "(C) Copyright 2013 Robert C. Edgar, all rights reserved.\r\n",
        "http://drive5.com/usearch\r\n",
        "\r\n",
        "Licensed to: sr320@uw.edu\r\n",
        "\r\n",
        "00:00 1.7Mb Reading /Volumes/Bay3/usearch/uniprot_sprot.udb\r\n"
       ]
      },
      {
       "output_type": "stream",
       "stream": "stdout",
       "text": [
        "00:02 1.1Gb Database loaded\r\n",
        "00:02 1.1Gb    0.1% Searching, 0.0% matched\r"
       ]
      },
      {
       "output_type": "stream",
       "stream": "stdout",
       "text": [
        "00:03 1.1Gb    2.0% Searching, 0.0% matched\r"
       ]
      },
      {
       "output_type": "stream",
       "stream": "stdout",
       "text": [
        "00:04 1.1Gb    4.7% Searching, 2.4% matched\r"
       ]
      },
      {
       "output_type": "stream",
       "stream": "stdout",
       "text": [
        "00:05 1.1Gb    6.8% Searching, 2.4% matched\r"
       ]
      },
      {
       "output_type": "stream",
       "stream": "stdout",
       "text": [
        "00:06 1.1Gb    9.0% Searching, 3.5% matched\r"
       ]
      },
      {
       "output_type": "stream",
       "stream": "stdout",
       "text": [
        "00:07 1.1Gb   11.7% Searching, 3.1% matched\r"
       ]
      },
      {
       "output_type": "stream",
       "stream": "stdout",
       "text": [
        "00:08 1.1Gb   14.5% Searching, 3.6% matched\r"
       ]
      },
      {
       "output_type": "stream",
       "stream": "stdout",
       "text": [
        "00:09 1.1Gb   17.5% Searching, 3.6% matched\r"
       ]
      },
      {
       "output_type": "stream",
       "stream": "stdout",
       "text": [
        "00:10 1.1Gb   20.5% Searching, 3.6% matched\r"
       ]
      },
      {
       "output_type": "stream",
       "stream": "stdout",
       "text": [
        "00:11 1.1Gb   23.7% Searching, 3.5% matched\r"
       ]
      },
      {
       "output_type": "stream",
       "stream": "stdout",
       "text": [
        "00:12 1.1Gb   26.7% Searching, 3.7% matched\r"
       ]
      },
      {
       "output_type": "stream",
       "stream": "stdout",
       "text": [
        "00:13 1.1Gb   29.5% Searching, 3.7% matched\r"
       ]
      },
      {
       "output_type": "stream",
       "stream": "stdout",
       "text": [
        "00:14 1.1Gb   32.3% Searching, 3.6% matched\r"
       ]
      },
      {
       "output_type": "stream",
       "stream": "stdout",
       "text": [
        "00:15 1.1Gb   34.9% Searching, 3.6% matched\r"
       ]
      },
      {
       "output_type": "stream",
       "stream": "stdout",
       "text": [
        "00:16 1.1Gb   37.5% Searching, 3.6% matched\r"
       ]
      },
      {
       "output_type": "stream",
       "stream": "stdout",
       "text": [
        "00:17 1.1Gb   39.6% Searching, 3.7% matched\r"
       ]
      },
      {
       "output_type": "stream",
       "stream": "stdout",
       "text": [
        "00:18 1.1Gb   42.1% Searching, 3.8% matched\r"
       ]
      },
      {
       "output_type": "stream",
       "stream": "stdout",
       "text": [
        "00:19 1.1Gb   45.0% Searching, 3.7% matched\r"
       ]
      },
      {
       "output_type": "stream",
       "stream": "stdout",
       "text": [
        "00:20 1.1Gb   48.2% Searching, 3.6% matched\r"
       ]
      },
      {
       "output_type": "stream",
       "stream": "stdout",
       "text": [
        "00:21 1.1Gb   51.2% Searching, 3.6% matched\r"
       ]
      },
      {
       "output_type": "stream",
       "stream": "stdout",
       "text": [
        "00:22 1.1Gb   53.8% Searching, 3.6% matched\r"
       ]
      },
      {
       "output_type": "stream",
       "stream": "stdout",
       "text": [
        "00:23 1.1Gb   56.9% Searching, 3.5% matched\r"
       ]
      },
      {
       "output_type": "stream",
       "stream": "stdout",
       "text": [
        "00:24 1.1Gb   59.6% Searching, 3.4% matched\r"
       ]
      },
      {
       "output_type": "stream",
       "stream": "stdout",
       "text": [
        "0"
       ]
      },
      {
       "output_type": "stream",
       "stream": "stdout",
       "text": [
        "0:25 1.1Gb   62.5% Searching, 3.5% matched\r"
       ]
      },
      {
       "output_type": "stream",
       "stream": "stdout",
       "text": [
        "00:26 1.1Gb   64.6% Searching, 3.4% matched\r"
       ]
      },
      {
       "output_type": "stream",
       "stream": "stdout",
       "text": [
        "00:27 1.1Gb   67.0% Searching, 3.5% matched\r"
       ]
      },
      {
       "output_type": "stream",
       "stream": "stdout",
       "text": [
        "00:28 1.1Gb   70.0% Searching, 3.5% matched\r"
       ]
      },
      {
       "output_type": "stream",
       "stream": "stdout",
       "text": [
        "00:29 1.1Gb   71.9% Searching, 3.5% matched\r"
       ]
      },
      {
       "output_type": "stream",
       "stream": "stdout",
       "text": [
        "00:30 1.1Gb   75.2% Searching, 3.5% matched\r"
       ]
      },
      {
       "output_type": "stream",
       "stream": "stdout",
       "text": [
        "00:31 1.1Gb   78.0% Searching, 3.5% matched\r"
       ]
      },
      {
       "output_type": "stream",
       "stream": "stdout",
       "text": [
        "00:32 1.1Gb   81.5% Searching, 3.6% match"
       ]
      },
      {
       "output_type": "stream",
       "stream": "stdout",
       "text": [
        "ed\r"
       ]
      },
      {
       "output_type": "stream",
       "stream": "stdout",
       "text": [
        "00:33 1.1Gb   83.5% Searching, 3.6% matched\r"
       ]
      },
      {
       "output_type": "stream",
       "stream": "stdout",
       "text": [
        "00:34 1.1Gb   86.7% Searching, 3.5% matched\r"
       ]
      },
      {
       "output_type": "stream",
       "stream": "stdout",
       "text": [
        "00:35 1.1Gb   89.2% Searching, 3.6% matched\r"
       ]
      },
      {
       "output_type": "stream",
       "stream": "stdout",
       "text": [
        "00:36 1.1Gb   91.7% Searching, 3.6% matched\r"
       ]
      },
      {
       "output_type": "stream",
       "stream": "stdout",
       "text": [
        "00:37 1.1Gb   94.4% Searching, 3.6% matched\r"
       ]
      },
      {
       "output_type": "stream",
       "stream": "stdout",
       "text": [
        "00:38 1.1Gb   96.7% Searching, 3.6% matched\r"
       ]
      },
      {
       "output_type": "stream",
       "stream": "stdout",
       "text": [
        "00:39 1.1Gb   98.9% Searching, 3.6% matched\r"
       ]
      },
      {
       "output_type": "stream",
       "stream": "stdout",
       "text": [
        "00:39 1.1Gb  100.0% Searching, 3.6% matched\r",
        "\r\n"
       ]
      },
      {
       "output_type": "stream",
       "stream": "stdout",
       "text": [
        "usearch v7.0.1090_i86osx32, 4.0Gb RAM (15.0Gb total), 4 cores\r\n",
        "(C) Copyright 2013 Robert C. Edgar, all rights reserved.\r\n",
        "http://drive5.com/usearch\r\n",
        "\r\n",
        "Licensed to: sr320@uw.edu\r\n",
        "\r\n"
       ]
      },
      {
       "output_type": "stream",
       "stream": "stdout",
       "text": [
        "00:00 1.7Mb Reading /Volumes/Bay3/usearch/uniprot_sprot.udb\r\n"
       ]
      },
      {
       "output_type": "stream",
       "stream": "stdout",
       "text": [
        "00:02 1.1Gb Database loaded\r\n",
        "00:02 1.1Gb    0.1% Searching, 0.0% matched\r"
       ]
      },
      {
       "output_type": "stream",
       "stream": "stdout",
       "text": [
        "00:03 1.1Gb    3.0% Searching, 3.9% matched\r"
       ]
      },
      {
       "output_type": "stream",
       "stream": "stdout",
       "text": [
        "00:04 1.1Gb    6.1% Searching, 3.0% matched\r"
       ]
      },
      {
       "output_type": "stream",
       "stream": "stdout",
       "text": [
        "00:05 1.1Gb    8.6% Searching, 3.0% matched\r"
       ]
      },
      {
       "output_type": "stream",
       "stream": "stdout",
       "text": [
        "00:06 1.1Gb   11.6% Searching, 3.4% matched\r"
       ]
      },
      {
       "output_type": "stream",
       "stream": "stdout",
       "text": [
        "00:07 1.1Gb   14.5% Searching, 3.4% matched\r"
       ]
      },
      {
       "output_type": "stream",
       "stream": "stdout",
       "text": [
        "00:08 1.1Gb   17.3% Searching, 3.1% matched\r"
       ]
      },
      {
       "output_type": "stream",
       "stream": "stdout",
       "text": [
        "00:09 1.1Gb   19.9% Searching, 3.1% matched\r"
       ]
      },
      {
       "output_type": "stream",
       "stream": "stdout",
       "text": [
        "00:10 1.1Gb   23.0% Searching, 2.9% matched\r"
       ]
      },
      {
       "output_type": "stream",
       "stream": "stdout",
       "text": [
        "00:11 1.1Gb   24.9% Searching, 3.1% matched\r"
       ]
      },
      {
       "output_type": "stream",
       "stream": "stdout",
       "text": [
        "00:12 1.1Gb   27.7% Searching, 3.2% matched\r"
       ]
      },
      {
       "output_type": "stream",
       "stream": "stdout",
       "text": [
        "00:13 1.1Gb   30.5% Searching, 3.4% matched\r"
       ]
      },
      {
       "output_type": "stream",
       "stream": "stdout",
       "text": [
        "00:14 1.1Gb   33.6% Searching, 3.4% matched\r"
       ]
      },
      {
       "output_type": "stream",
       "stream": "stdout",
       "text": [
        "00:15 1.1Gb   36.8% Searching, 3.4% matched\r"
       ]
      },
      {
       "output_type": "stream",
       "stream": "stdout",
       "text": [
        "00:16 1.1Gb   39.8% Searching, 3.4% matched\r"
       ]
      },
      {
       "output_type": "stream",
       "stream": "stdout",
       "text": [
        "00:17 1.1Gb   43.2% Searching, 3.4% matched\r"
       ]
      },
      {
       "output_type": "stream",
       "stream": "stdout",
       "text": [
        "00:18 1.1Gb   45.3% Searching, 3.4% matched\r"
       ]
      },
      {
       "output_type": "stream",
       "stream": "stdout",
       "text": [
        "00:19 1.1Gb   48.3% Searching, 3.5% matched\r"
       ]
      },
      {
       "output_type": "stream",
       "stream": "stdout",
       "text": [
        "00:20 1.1Gb   51.2% Searching, 3.4% matched\r"
       ]
      },
      {
       "output_type": "stream",
       "stream": "stdout",
       "text": [
        "00:21 1.1Gb   53.3% Searching, 3.4% matched\r"
       ]
      },
      {
       "output_type": "stream",
       "stream": "stdout",
       "text": [
        "00:22 1.1Gb   55.8% Searching, 3.5% matched\r"
       ]
      },
      {
       "output_type": "stream",
       "stream": "stdout",
       "text": [
        "00:23 1.1Gb   57.8% Searching, 3.4% matched\r"
       ]
      },
      {
       "output_type": "stream",
       "stream": "stdout",
       "text": [
        "00:24 1.1Gb   61.6% Searching, 3.5% matched\r"
       ]
      },
      {
       "output_type": "stream",
       "stream": "stdout",
       "text": [
        "00:25 1.1Gb   63.6% Searching, 3.6% matched\r"
       ]
      },
      {
       "output_type": "stream",
       "stream": "stdout",
       "text": [
        "00:26 1.1Gb   66.4% Searching, 3.6% matched\r"
       ]
      },
      {
       "output_type": "stream",
       "stream": "stdout",
       "text": [
        "00:27 1.1Gb   69.7% Searching, 3.5% matched\r"
       ]
      },
      {
       "output_type": "stream",
       "stream": "stdout",
       "text": [
        "00:28 1.1Gb   72.2% Searching, 3.6% matched\r"
       ]
      },
      {
       "output_type": "stream",
       "stream": "stdout",
       "text": [
        "00:29 1.1Gb   75.2% Searching, 3.6% matched\r"
       ]
      },
      {
       "output_type": "stream",
       "stream": "stdout",
       "text": [
        "00:30 1.1Gb   77.8% Searching, 3.6% matched\r"
       ]
      },
      {
       "output_type": "stream",
       "stream": "stdout",
       "text": [
        "00:31 1.1Gb   80.2% Searching, 3.5% matched\r"
       ]
      },
      {
       "output_type": "stream",
       "stream": "stdout",
       "text": [
        "00:32 1.1Gb   82.7% Searching, 3.5% matched\r"
       ]
      },
      {
       "output_type": "stream",
       "stream": "stdout",
       "text": [
        "00:33 1.1Gb   85.1% Searching, 3.5% matched\r"
       ]
      },
      {
       "output_type": "stream",
       "stream": "stdout",
       "text": [
        "00:34 1.1Gb   87.8% Searching, 3.5% matched\r"
       ]
      },
      {
       "output_type": "stream",
       "stream": "stdout",
       "text": [
        "00:35 1.1Gb   90.7% Searching, 3.5% matched\r"
       ]
      },
      {
       "output_type": "stream",
       "stream": "stdout",
       "text": [
        "00:36 1.1Gb   93.4% Searching, 3.5% matched\r"
       ]
      },
      {
       "output_type": "stream",
       "stream": "stdout",
       "text": [
        "00:37 1.1Gb   96.3% Searching, 3.5% matched\r"
       ]
      },
      {
       "output_type": "stream",
       "stream": "stdout",
       "text": [
        "00:38 1.1Gb   99.2% Searching, 3.5% matched\r"
       ]
      },
      {
       "output_type": "stream",
       "stream": "stdout",
       "text": [
        "00:38 1.1Gb  100.0% Searching, 3.4% matched\r",
        "\r\n"
       ]
      },
      {
       "output_type": "stream",
       "stream": "stdout",
       "text": [
        "usearch v7.0.1090_i86osx32, 4.0Gb RAM (15.0Gb total), 4 cores\r\n",
        "(C) Copyright 2013 Robert C. Edgar, all rights reserved.\r\n",
        "http://drive5.com/usearch\r\n",
        "\r\n",
        "Licensed to: sr320@uw.edu\r\n",
        "\r\n"
       ]
      },
      {
       "output_type": "stream",
       "stream": "stdout",
       "text": [
        "00:00 1.7Mb Reading /Volumes/Bay3/usearch/uniprot_sprot.udb\r\n"
       ]
      },
      {
       "output_type": "stream",
       "stream": "stdout",
       "text": [
        "00:02 1.1Gb Database loaded\r\n",
        "00:02 1.1Gb    0.1% Searching, 0.0% matched\r"
       ]
      },
      {
       "output_type": "stream",
       "stream": "stdout",
       "text": [
        "00:03 1.1Gb    0.7% Searching, 12.5% matched\r"
       ]
      },
      {
       "output_type": "stream",
       "stream": "stdout",
       "text": [
        "00:04 1.1Gb    2.6% Searching, 6.4% matched \r"
       ]
      },
      {
       "output_type": "stream",
       "stream": "stdout",
       "text": [
        "00:05 1.1Gb    5.3% Searching, 5.1% matched\r"
       ]
      },
      {
       "output_type": "stream",
       "stream": "stdout",
       "text": [
        "00:06 1.1Gb    7.1% Searching, 5.0% matched\r"
       ]
      },
      {
       "output_type": "stream",
       "stream": "stdout",
       "text": [
        "00:07 1.1Gb    9.3% Searching, 5.2% matched\r"
       ]
      },
      {
       "output_type": "stream",
       "stream": "stdout",
       "text": [
        "00:08 1.1Gb   12.2% Searching, 4.6% matched\r"
       ]
      },
      {
       "output_type": "stream",
       "stream": "stdout",
       "text": [
        "00:09 1.1Gb   14.7% Searching, 4.6% matched\r"
       ]
      },
      {
       "output_type": "stream",
       "stream": "stdout",
       "text": [
        "00:10 1.1Gb   17.8% Searching, 4.2% matched\r"
       ]
      },
      {
       "output_type": "stream",
       "stream": "stdout",
       "text": [
        "00:11 1.1Gb   20.8% Searching, 4.1% matched\r"
       ]
      },
      {
       "output_type": "stream",
       "stream": "stdout",
       "text": [
        "00:12 1.1Gb   23.6% Searching, 3.8% matched\r"
       ]
      },
      {
       "output_type": "stream",
       "stream": "stdout",
       "text": [
        "00:13 1.1Gb   26.9% Searching, 4.1% matched\r"
       ]
      },
      {
       "output_type": "stream",
       "stream": "stdout",
       "text": [
        "00:14 1.1Gb   29.9% Searching, 4.0% matched\r"
       ]
      },
      {
       "output_type": "stream",
       "stream": "stdout",
       "text": [
        "00:15 1.1Gb   32.6% Searching, 4.0% matched\r"
       ]
      },
      {
       "output_type": "stream",
       "stream": "stdout",
       "text": [
        "00:16 1.1Gb   35.5% Searching, 3.9% matched\r"
       ]
      },
      {
       "output_type": "stream",
       "stream": "stdout",
       "text": [
        "00:17 1.1Gb   37.8% Searching, 3.8% matched\r"
       ]
      },
      {
       "output_type": "stream",
       "stream": "stdout",
       "text": [
        "00:18 1.1Gb   40.2% Searching, 3.8% matched\r"
       ]
      },
      {
       "output_type": "stream",
       "stream": "stdout",
       "text": [
        "00:19 1.1Gb   42.5% Searching, 3.8% matched\r"
       ]
      },
      {
       "output_type": "stream",
       "stream": "stdout",
       "text": [
        "00:20 1.1Gb   45.3% Searching, 3.9% matched\r"
       ]
      },
      {
       "output_type": "stream",
       "stream": "stdout",
       "text": [
        "00:21 1.1Gb   47.8% Searching, 4.0% matched\r"
       ]
      },
      {
       "output_type": "stream",
       "stream": "stdout",
       "text": [
        "00:22 1.1Gb   51.0% Searching, 4.0% m"
       ]
      },
      {
       "output_type": "stream",
       "stream": "stdout",
       "text": [
        "atched\r"
       ]
      },
      {
       "output_type": "stream",
       "stream": "stdout",
       "text": [
        "00:23 1.1Gb   54.5% Searching, 3.9% matched\r"
       ]
      },
      {
       "output_type": "stream",
       "stream": "stdout",
       "text": [
        "00:24 1.1Gb   57.4% Searching, 3.8% matched\r"
       ]
      },
      {
       "output_type": "stream",
       "stream": "stdout",
       "text": [
        "00:25 1.1Gb   59.7% Searching, 3.8% matched\r"
       ]
      },
      {
       "output_type": "stream",
       "stream": "stdout",
       "text": [
        "00:26 1.1Gb   62.6% Searching, 3.8% matched\r"
       ]
      },
      {
       "output_type": "stream",
       "stream": "stdout",
       "text": [
        "00:27 1.1Gb   65.0% Searching, 3.8% matched\r"
       ]
      },
      {
       "output_type": "stream",
       "stream": "stdout",
       "text": [
        "00:28 1.1Gb   67.8% Searching, 3.8% matched\r"
       ]
      },
      {
       "output_type": "stream",
       "stream": "stdout",
       "text": [
        "usearch(49735,0xb0103000) malloc: *** mmap(size=1123459072) failed (error code=12)\r\n",
        "*** error: can't allocate region\r\n",
        "*** set a breakpoint in malloc_error_break to debug\r\n",
        "\r\n",
        "Out of memory mymalloc(1123456320), curr 1.07e+09 bytes\r\n",
        "\r\n",
        "myutils.cpp(2212): \r\n",
        "\r\n",
        "usearch -ublast cgigas.part-21.fa -db /Volumes/Bay3/usearch/uniprot_sprot.udb -evalue 1e-5 -accel 0.8 -top_hits_only -maxhits 1 -blast6out /Volumes/web/cnidarian/cgigas8_cgigas.part-21.fa_ublast_sprot.b6\r\n",
        "\r\n",
        "---Fatal error---\r\n",
        "Out of memory, mymalloc(1123456320), curr 1.07e+09 bytes\r\n",
        "\r\n"
       ]
      },
      {
       "output_type": "stream",
       "stream": "stdout",
       "text": [
        "usearch v7.0.1090_i86osx32, 4.0Gb RAM (15.0Gb total), 4 cores\r\n",
        "(C) Copyright 2013 Robert C. Edgar, all rights reserved.\r\n",
        "http://drive5.com/usearch\r\n",
        "\r\n",
        "Licensed to: sr320@uw.edu\r\n",
        "\r\n"
       ]
      },
      {
       "output_type": "stream",
       "stream": "stdout",
       "text": [
        "00:00 1.7Mb Reading /Volumes/Bay3/usearch/uniprot_sprot.udb\r\n"
       ]
      },
      {
       "output_type": "stream",
       "stream": "stdout",
       "text": [
        "00:02 1.1Gb Database loaded\r\n",
        "00:02 1.1Gb    0.1% Searching, 0.0% matched\r"
       ]
      },
      {
       "output_type": "stream",
       "stream": "stdout",
       "text": [
        "00:03 1.1Gb    1.3% Searching, 0.0% matched\r"
       ]
      },
      {
       "output_type": "stream",
       "stream": "stdout",
       "text": [
        "00:04 1.1Gb    3.9% Searching, 2.5% matched\r"
       ]
      },
      {
       "output_type": "stream",
       "stream": "stdout",
       "text": [
        "00:05 1.1Gb    7.3% Searching, 2.4% matched\r"
       ]
      },
      {
       "output_type": "stream",
       "stream": "stdout",
       "text": [
        "00:06 1.1Gb   10.1% Searching, 2.5% matched\r"
       ]
      },
      {
       "output_type": "stream",
       "stream": "stdout",
       "text": [
        "00:07 1.1Gb   13.0% Searching, 2.4% matched\r"
       ]
      },
      {
       "output_type": "stream",
       "stream": "stdout",
       "text": [
        "00:08 1.1Gb   15.2% Searching, 2.5% matched\r"
       ]
      },
      {
       "output_type": "stream",
       "stream": "stdout",
       "text": [
        "00:09 1.1Gb   18.3% Searching, 2.6% matched\r"
       ]
      },
      {
       "output_type": "stream",
       "stream": "stdout",
       "text": [
        "00:10 1.1Gb   20.4% Searching, 3.1% matched\r"
       ]
      },
      {
       "output_type": "stream",
       "stream": "stdout",
       "text": [
        "00:11 1.1Gb   22.9% Searching, 3.1% matched\r"
       ]
      },
      {
       "output_type": "stream",
       "stream": "stdout",
       "text": [
        "00:12 1.1Gb   25.7% Searching, 3.0% matched\r"
       ]
      },
      {
       "output_type": "stream",
       "stream": "stdout",
       "text": [
        "00:13 1.1Gb   28.4% Searching, 3.2% matched\r"
       ]
      },
      {
       "output_type": "stream",
       "stream": "stdout",
       "text": [
        "00:14 1.1Gb   31.9% Searching, 3.1% matched\r"
       ]
      },
      {
       "output_type": "stream",
       "stream": "stdout",
       "text": [
        "00:15 1.1Gb   34.4% Searching, 3.3% matched\r"
       ]
      },
      {
       "output_type": "stream",
       "stream": "stdout",
       "text": [
        "00:16 1.1Gb   37.7% Searching, 3.4% matched\r"
       ]
      },
      {
       "output_type": "stream",
       "stream": "stdout",
       "text": [
        "00:17 1.1Gb   40.5% Searching, 3.4% matched\r"
       ]
      },
      {
       "output_type": "stream",
       "stream": "stdout",
       "text": [
        "00:18 1.1Gb   43.6% Searching, 3.4% matched\r"
       ]
      },
      {
       "output_type": "stream",
       "stream": "stdout",
       "text": [
        "00:19 1.1Gb   46.7% Searching, 3.3% matched\r"
       ]
      },
      {
       "output_type": "stream",
       "stream": "stdout",
       "text": [
        "00:20 1.1Gb   49.6% Searching, 3.4% matched\r"
       ]
      },
      {
       "output_type": "stream",
       "stream": "stdout",
       "text": [
        "00:21 1.1Gb   51.9% Searching, 3.3% matched\r"
       ]
      },
      {
       "output_type": "stream",
       "stream": "stdout",
       "text": [
        "00:22 1.1Gb   54.0% Searching, 3.4% matched\r"
       ]
      },
      {
       "output_type": "stream",
       "stream": "stdout",
       "text": [
        "00:23 1.1Gb   56.4% Searching, 3.4% matched\r"
       ]
      },
      {
       "output_type": "stream",
       "stream": "stdout",
       "text": [
        "00:24 1.1Gb   59.1% Searching, 3.3% matched\r"
       ]
      },
      {
       "output_type": "stream",
       "stream": "stdout",
       "text": [
        "0"
       ]
      },
      {
       "output_type": "stream",
       "stream": "stdout",
       "text": [
        "0:25 1.1Gb   61.9% Searching, 3.3% matched\r"
       ]
      },
      {
       "output_type": "stream",
       "stream": "stdout",
       "text": [
        "00:26 1.1Gb   65.0% Searching, 3.2% matched\r"
       ]
      },
      {
       "output_type": "stream",
       "stream": "stdout",
       "text": [
        "00:27 1.1Gb   68.1% Searching, 3.2% matched\r"
       ]
      },
      {
       "output_type": "stream",
       "stream": "stdout",
       "text": [
        "00:28 1.1Gb   71.5% Searching, 3.2% matched\r"
       ]
      },
      {
       "output_type": "stream",
       "stream": "stdout",
       "text": [
        "00:29 1.1Gb   74.1% Searching, 3.2% matched\r"
       ]
      },
      {
       "output_type": "stream",
       "stream": "stdout",
       "text": [
        "00:30 1.1Gb   76.9% Searching, 3.2% matched\r"
       ]
      },
      {
       "output_type": "stream",
       "stream": "stdout",
       "text": [
        "00:31 1.1Gb   79.4% Searching, 3.2% matched\r"
       ]
      },
      {
       "output_type": "stream",
       "stream": "stdout",
       "text": [
        "00:32 1.1Gb   82.2% Searching, 3.1% matched\r"
       ]
      },
      {
       "output_type": "stream",
       "stream": "stdout",
       "text": [
        "00:33 1.1Gb   84.3% Searching, 3.2% matched\r"
       ]
      },
      {
       "output_type": "stream",
       "stream": "stdout",
       "text": [
        "0"
       ]
      },
      {
       "output_type": "stream",
       "stream": "stdout",
       "text": [
        "0:34 1.1Gb   86.1% Searching, 3.2% matched\r"
       ]
      },
      {
       "output_type": "stream",
       "stream": "stdout",
       "text": [
        "00:35 1.1Gb   87.4% Searching, 3.2% matched\r"
       ]
      },
      {
       "output_type": "stream",
       "stream": "stdout",
       "text": [
        "00:36 1.1Gb   89.9% Searching, 3.2% matched\r"
       ]
      },
      {
       "output_type": "stream",
       "stream": "stdout",
       "text": [
        "00:37 1.1Gb   92.4% Searching, 3.2% matched\r"
       ]
      },
      {
       "output_type": "stream",
       "stream": "stdout",
       "text": [
        "00:38 1.1Gb   95.4% Searching, 3.2% matched\r"
       ]
      },
      {
       "output_type": "stream",
       "stream": "stdout",
       "text": [
        "00:39 1.1Gb   98.0% Searching, 3.2% matched\r"
       ]
      },
      {
       "output_type": "stream",
       "stream": "stdout",
       "text": [
        "00:39 1.1Gb  100.0% Searching, 3.2% matched\r",
        "\r\n"
       ]
      },
      {
       "output_type": "stream",
       "stream": "stdout",
       "text": [
        "usearch v7.0.1090_i86osx32, 4.0Gb RAM (15.0Gb total), 4 cores\r\n",
        "(C) Copyright 2013 Robert C. Edgar, all rights reserved.\r\n",
        "http://drive5.com/usearch\r\n",
        "\r\n",
        "Licensed to: sr320@uw.edu\r\n",
        "\r\n"
       ]
      },
      {
       "output_type": "stream",
       "stream": "stdout",
       "text": [
        "00:00 1.6Mb Reading /Volumes/Bay3/usearch/uniprot_sprot.udb\r\n"
       ]
      },
      {
       "output_type": "stream",
       "stream": "stdout",
       "text": [
        "00:03 1.1Gb Database loaded\r\n",
        "00:03 1.1Gb    0.1% Searching, 0.0% matched\r"
       ]
      },
      {
       "output_type": "stream",
       "stream": "stdout",
       "text": [
        "00:04 1.1Gb    3.5% Searching, 2.4% matched\r"
       ]
      },
      {
       "output_type": "stream",
       "stream": "stdout",
       "text": [
        "00:05 1.1Gb    7.2% Searching, 3.6% matched\r"
       ]
      },
      {
       "output_type": "stream",
       "stream": "stdout",
       "text": [
        "00:06 1.1Gb    9.8% Searching, 3.2% matched\r"
       ]
      },
      {
       "output_type": "stream",
       "stream": "stdout",
       "text": [
        "00:07 1.1Gb   13.0% Searching, 3.0% matched\r"
       ]
      },
      {
       "output_type": "stream",
       "stream": "stdout",
       "text": [
        "usearch(50453,0xb0185000) malloc: *** mmap(size=1097928704) failed (error code=12)\r\n",
        "*** error: can't allocate region\r\n",
        "*** set a breakpoint in malloc_error_break to debug\r\n",
        "\r\n",
        "Out of memory mymalloc(1097928221), curr 1.06e+09 bytes\r\n",
        "\r\n",
        "myutils.cpp(2212): \r\n",
        "\r\n",
        "usearch -ublast cgigas.part-23.fa -db /Volumes/Bay3/usearch/uniprot_sprot.udb -evalue 1e-5 -accel 0.8 -top_hits_only -maxhits 1 -blast6out /Volumes/web/cnidarian/cgigas8_cgigas.part-23.fa_ublast_sprot.b6\r\n",
        "\r\n",
        "---Fatal error---\r\n",
        "Out of memory, mymalloc(1097928221), curr 1.06e+09 bytes\r\n",
        "\r\n"
       ]
      },
      {
       "output_type": "stream",
       "stream": "stdout",
       "text": [
        "usearch v7.0.1090_i86osx32, 4.0Gb RAM (15.0Gb total), 4 cores\r\n",
        "(C) Copyright 2013 Robert C. Edgar, all rights reserved.\r\n",
        "http://drive5.com/usearch\r\n",
        "\r\n",
        "Licensed to: sr320@uw.edu\r\n",
        "\r\n",
        "00:00 1.7Mb Reading /Volumes/Bay3/usearch/uniprot_sprot.udb\r\n"
       ]
      },
      {
       "output_type": "stream",
       "stream": "stdout",
       "text": [
        "00:02 1.1Gb Database loaded\r\n",
        "00:02 1.1Gb    0.1% Searching, 0.0% matched\r"
       ]
      },
      {
       "output_type": "stream",
       "stream": "stdout",
       "text": [
        "00:03 1.1Gb    2.8% Searching, 3.2% matched\r"
       ]
      },
      {
       "output_type": "stream",
       "stream": "stdout",
       "text": [
        "00:04 1.1Gb    5.6% Searching, 2.0% matched\r"
       ]
      },
      {
       "output_type": "stream",
       "stream": "stdout",
       "text": [
        "00:05 1.1Gb    9.5% Searching, 1.6% matched\r"
       ]
      },
      {
       "output_type": "stream",
       "stream": "stdout",
       "text": [
        "00:06 1.1Gb   13.1% Searching, 2.0% matched\r"
       ]
      },
      {
       "output_type": "stream",
       "stream": "stdout",
       "text": [
        "00:07 1.1Gb   16.5% Searching, 2.0% matched\r"
       ]
      },
      {
       "output_type": "stream",
       "stream": "stdout",
       "text": [
        "00:08 1.1Gb   19.9% Searching, 1.9% matched\r"
       ]
      },
      {
       "output_type": "stream",
       "stream": "stdout",
       "text": [
        "00:09 1.1Gb   22.3% Searching, 2.3% matched\r"
       ]
      },
      {
       "output_type": "stream",
       "stream": "stdout",
       "text": [
        "00:10 1.1Gb   25.7% Searching, 2.4% matched\r"
       ]
      },
      {
       "output_type": "stream",
       "stream": "stdout",
       "text": [
        "00:11 1.1Gb   27.8% Searching, 2.6% matched\r"
       ]
      },
      {
       "output_type": "stream",
       "stream": "stdout",
       "text": [
        "00:12 1.1Gb   31.1% Searching, 2.8% matched\r"
       ]
      },
      {
       "output_type": "stream",
       "stream": "stdout",
       "text": [
        "00:13 1.1Gb   35.0% Searching, 2.8% matched\r"
       ]
      },
      {
       "output_type": "stream",
       "stream": "stdout",
       "text": [
        "00:14 1.1Gb   38.7% Searching, 2.8% matched\r"
       ]
      },
      {
       "output_type": "stream",
       "stream": "stdout",
       "text": [
        "00:15 1.1Gb   42.3% Searching, 2.9% matched\r"
       ]
      },
      {
       "output_type": "stream",
       "stream": "stdout",
       "text": [
        "00:16 1.1Gb   46.2% Searching, 3.0% matched\r"
       ]
      },
      {
       "output_type": "stream",
       "stream": "stdout",
       "text": [
        "00:17 1.1Gb   49.4% Searching, 2.9% matched\r"
       ]
      },
      {
       "output_type": "stream",
       "stream": "stdout",
       "text": [
        "00:18 1.1Gb   53.6% Searching, 2.9% matched\r"
       ]
      },
      {
       "output_type": "stream",
       "stream": "stdout",
       "text": [
        "00:19 1.1Gb   57.3% Searching, 3.0% matched\r"
       ]
      },
      {
       "output_type": "stream",
       "stream": "stdout",
       "text": [
        "00:20 1.1Gb   60.8% Searching, 3.0% matched\r"
       ]
      },
      {
       "output_type": "stream",
       "stream": "stdout",
       "text": [
        "00:21 1.1Gb   63.2% Searching, 2.9% matched\r"
       ]
      },
      {
       "output_type": "stream",
       "stream": "stdout",
       "text": [
        "00:22 1.1Gb   65.1% Searching, 2.9% matched\r"
       ]
      },
      {
       "output_type": "stream",
       "stream": "stdout",
       "text": [
        "00:23 1.1Gb   67.0% Searching, 2.9% matched\r"
       ]
      },
      {
       "output_type": "stream",
       "stream": "stdout",
       "text": [
        "00:24 1.1Gb   69.5% Searching, 2.8% matched\r"
       ]
      },
      {
       "output_type": "stream",
       "stream": "stdout",
       "text": [
        "00:25 1.1Gb   72.9% Searching, 2.8% matched\r"
       ]
      },
      {
       "output_type": "stream",
       "stream": "stdout",
       "text": [
        "00:26 1.1Gb   76.3% Searching, 2.7% matched\r"
       ]
      },
      {
       "output_type": "stream",
       "stream": "stdout",
       "text": [
        "00:27 1.1Gb   79.5% Searching, 2.8% matched\r"
       ]
      },
      {
       "output_type": "stream",
       "stream": "stdout",
       "text": [
        "00:28 1.1Gb   83.3% Searching, 2.8% matched\r"
       ]
      },
      {
       "output_type": "stream",
       "stream": "stdout",
       "text": [
        "00:29 1.1Gb   87.3% Searching, 2.8% matched\r"
       ]
      },
      {
       "output_type": "stream",
       "stream": "stdout",
       "text": [
        "00:30 1.1Gb   91.6% Searching, 2.8% matched\r"
       ]
      },
      {
       "output_type": "stream",
       "stream": "stdout",
       "text": [
        "00:31 1.1Gb   94.1% Searching, 2.7% matched\r"
       ]
      },
      {
       "output_type": "stream",
       "stream": "stdout",
       "text": [
        "00:32 1.1Gb   97.0% Searching, 2.7% matched\r"
       ]
      },
      {
       "output_type": "stream",
       "stream": "stdout",
       "text": [
        "00:33 1.1Gb   99.8% Searching, 2.7% matched\r"
       ]
      },
      {
       "output_type": "stream",
       "stream": "stdout",
       "text": [
        "00:33 1.1Gb  100.0% Searching, 2.7% matched\r",
        "\r\n"
       ]
      },
      {
       "output_type": "stream",
       "stream": "stdout",
       "text": [
        "usearch v7.0.1090_i86osx32, 4.0Gb RAM (15.0Gb total), 4 cores\r\n",
        "(C) Copyright 2013 Robert C. Edgar, all rights reserved.\r\n",
        "http://drive5.com/usearch\r\n",
        "\r\n",
        "Licensed to: sr320@uw.edu\r\n",
        "\r\n"
       ]
      },
      {
       "output_type": "stream",
       "stream": "stdout",
       "text": [
        "00:00 1.7Mb Reading /Volumes/Bay3/usearch/uniprot_sprot.udb\r\n"
       ]
      },
      {
       "output_type": "stream",
       "stream": "stdout",
       "text": [
        "00:02 1.1Gb Database loaded\r\n",
        "00:02 1.1Gb    0.1% Searching, 0.0% matched\r"
       ]
      },
      {
       "output_type": "stream",
       "stream": "stdout",
       "text": [
        "00:03 1.1Gb    2.1% Searching, 4.3% matched\r"
       ]
      },
      {
       "output_type": "stream",
       "stream": "stdout",
       "text": [
        "00:04 1.1Gb    5.9% Searching, 2.9% matched\r"
       ]
      },
      {
       "output_type": "stream",
       "stream": "stdout",
       "text": [
        "00:05 1.1Gb    9.7% Searching, 2.1% matched\r"
       ]
      },
      {
       "output_type": "stream",
       "stream": "stdout",
       "text": [
        "00:06 1.1Gb   13.2% Searching, 2.4% matched\r"
       ]
      },
      {
       "output_type": "stream",
       "stream": "stdout",
       "text": [
        "00:07 1.1Gb   17.9% Searching, 2.0% matched\r"
       ]
      },
      {
       "output_type": "stream",
       "stream": "stdout",
       "text": [
        "00:08 1.1Gb   21.9% Searching, 2.2% matched\r"
       ]
      },
      {
       "output_type": "stream",
       "stream": "stdout",
       "text": [
        "00:09 1.1Gb   25.0% Searching, 2.3% matched\r"
       ]
      },
      {
       "output_type": "stream",
       "stream": "stdout",
       "text": [
        "00:10 1.1Gb   28.6% Searching, 2.4% matched\r"
       ]
      },
      {
       "output_type": "stream",
       "stream": "stdout",
       "text": [
        "00:11 1.1Gb   31.9% Searching, 2.3% matched\r"
       ]
      },
      {
       "output_type": "stream",
       "stream": "stdout",
       "text": [
        "00:12 1.1Gb   35.0% Searching, 2.2% matched\r"
       ]
      },
      {
       "output_type": "stream",
       "stream": "stdout",
       "text": [
        "0"
       ]
      },
      {
       "output_type": "stream",
       "stream": "stdout",
       "text": [
        "0:13 1.1Gb   38.3% Searching, 2.3% matched\r"
       ]
      },
      {
       "output_type": "stream",
       "stream": "stdout",
       "text": [
        "00:14 1.1Gb   42.4% Searching, 2.4% matched\r"
       ]
      },
      {
       "output_type": "stream",
       "stream": "stdout",
       "text": [
        "00:15 1.1Gb   46.3% Searching, 2.4% matched\r"
       ]
      },
      {
       "output_type": "stream",
       "stream": "stdout",
       "text": [
        "00:16 1.1Gb   50.1% Searching, 2.4% matched\r"
       ]
      },
      {
       "output_type": "stream",
       "stream": "stdout",
       "text": [
        "00:17 1.1Gb   53.8% Searching, 2.3% matched\r"
       ]
      },
      {
       "output_type": "stream",
       "stream": "stdout",
       "text": [
        "00:18 1.1Gb   58.3% Searching, 2.4% matched\r"
       ]
      },
      {
       "output_type": "stream",
       "stream": "stdout",
       "text": [
        "00:19 1.1Gb   60.7% Searching, 2.4% matched\r"
       ]
      },
      {
       "output_type": "stream",
       "stream": "stdout",
       "text": [
        "00:20 1.1Gb   65.0% Searching, 2.4% matched\r"
       ]
      },
      {
       "output_type": "stream",
       "stream": "stdout",
       "text": [
        "00:21 1.1Gb   67.5% Searching, 2.4% matched\r"
       ]
      },
      {
       "output_type": "stream",
       "stream": "stdout",
       "text": [
        "00:22 1.1Gb   69.7% Searching, 2.4% matched\r"
       ]
      },
      {
       "output_type": "stream",
       "stream": "stdout",
       "text": [
        "00:23 1.1Gb   72.0% Searching, 2.4% matched\r"
       ]
      },
      {
       "output_type": "stream",
       "stream": "stdout",
       "text": [
        "00:24 1.1Gb   74.8% Searching, 2.3% matched\r"
       ]
      },
      {
       "output_type": "stream",
       "stream": "stdout",
       "text": [
        "00:25 1.1Gb   78.4% Searching, 2.4% matched\r"
       ]
      },
      {
       "output_type": "stream",
       "stream": "stdout",
       "text": [
        "00:26 1.1Gb   81.3% Searching, 2.3% matched\r"
       ]
      },
      {
       "output_type": "stream",
       "stream": "stdout",
       "text": [
        "00:27 1.1Gb   84.2% Searching, 2.4% matched\r"
       ]
      },
      {
       "output_type": "stream",
       "stream": "stdout",
       "text": [
        "00:28 1.1Gb   88.4% Searching, 2.3% matched\r"
       ]
      },
      {
       "output_type": "stream",
       "stream": "stdout",
       "text": [
        "00:29 1.1Gb   92.4% Searching, 2.3% matched\r"
       ]
      },
      {
       "output_type": "stream",
       "stream": "stdout",
       "text": [
        "00:30 1.1Gb   95.0% Searching, 2.4% matched\r"
       ]
      },
      {
       "output_type": "stream",
       "stream": "stdout",
       "text": [
        "00:31 1.1Gb   98.6% Searching, 2.4% matched\r"
       ]
      },
      {
       "output_type": "stream",
       "stream": "stdout",
       "text": [
        "00:31 1.1Gb  100.0% Searching, 2.3% matched\r",
        "\r\n"
       ]
      },
      {
       "output_type": "stream",
       "stream": "stdout",
       "text": [
        "usearch v7.0.1090_i86osx32, 4.0Gb RAM (15.0Gb total), 4 cores\r\n",
        "(C) Copyright 2013 Robert C. Edgar, all rights reserved.\r\n",
        "http://drive5.com/usearch\r\n",
        "\r\n",
        "Licensed to: sr320@uw.edu\r\n",
        "\r\n",
        "00:00 1.6Mb Reading /Volumes/Bay3/usearch/uniprot_sprot.udb\r\n"
       ]
      },
      {
       "output_type": "stream",
       "stream": "stdout",
       "text": [
        "00:02 1.1Gb Database loaded\r\n",
        "00:02 1.1Gb    0.1% Searching, 0.0% matched\r"
       ]
      },
      {
       "output_type": "stream",
       "stream": "stdout",
       "text": [
        "00:03 1.1Gb    3.4% Searching, 1.5% matched\r"
       ]
      },
      {
       "output_type": "stream",
       "stream": "stdout",
       "text": [
        "00:04 1.1Gb    7.5% Searching, 1.9% matched\r"
       ]
      },
      {
       "output_type": "stream",
       "stream": "stdout",
       "text": [
        "00:05 1.1Gb   11.2% Searching, 1.8% matched\r"
       ]
      },
      {
       "output_type": "stream",
       "stream": "stdout",
       "text": [
        "00:06 1.1Gb   16.1% Searching, 1.9% matched\r"
       ]
      },
      {
       "output_type": "stream",
       "stream": "stdout",
       "text": [
        "00:07 1.1Gb   19.9% Searching, 2.3% matched\r"
       ]
      },
      {
       "output_type": "stream",
       "stream": "stdout",
       "text": [
        "00:08 1.1Gb   23.6% Searching, 2.5% matched\r"
       ]
      },
      {
       "output_type": "stream",
       "stream": "stdout",
       "text": [
        "00:09 1.1Gb   27.3% Searching, 2.4% matched\r"
       ]
      },
      {
       "output_type": "stream",
       "stream": "stdout",
       "text": [
        "00:10 1.1Gb   31.4% Searching, 2.3% matched\r"
       ]
      },
      {
       "output_type": "stream",
       "stream": "stdout",
       "text": [
        "00:11 1.1Gb   34.5% Searching, 2.4% matched\r"
       ]
      },
      {
       "output_type": "stream",
       "stream": "stdout",
       "text": [
        "00:12 1.1Gb   38.3% Searching, 2.6% matched\r"
       ]
      },
      {
       "output_type": "stream",
       "stream": "stdout",
       "text": [
        "00:13 1.1Gb   40.7% Searching, 2.5% matched\r"
       ]
      },
      {
       "output_type": "stream",
       "stream": "stdout",
       "text": [
        "00:14 1.1Gb   43.0% Searching, 2.6% matched\r"
       ]
      },
      {
       "output_type": "stream",
       "stream": "stdout",
       "text": [
        "00:15 1.1Gb   46.8% Searching, 2.5% matched\r"
       ]
      },
      {
       "output_type": "stream",
       "stream": "stdout",
       "text": [
        "00:16 1.1Gb   51.9% Searching, 2.5% matched\r"
       ]
      },
      {
       "output_type": "stream",
       "stream": "stdout",
       "text": [
        "00:17 1.1Gb   55.4% Searching, 2.5% matched\r"
       ]
      },
      {
       "output_type": "stream",
       "stream": "stdout",
       "text": [
        "00:18 1.1Gb   57.7% Searching, 2.5% matched\r"
       ]
      },
      {
       "output_type": "stream",
       "stream": "stdout",
       "text": [
        "00:19 1.1Gb   61.0% Searching, 2.5% matched\r"
       ]
      },
      {
       "output_type": "stream",
       "stream": "stdout",
       "text": [
        "00:20 1.1Gb   64.2% Searching, 2.5% matched\r"
       ]
      },
      {
       "output_type": "stream",
       "stream": "stdout",
       "text": [
        "00:21 1.1Gb   67.5% Searching, 2.5% matched\r"
       ]
      },
      {
       "output_type": "stream",
       "stream": "stdout",
       "text": [
        "00:22 1.1Gb   70.7% Searching, 2.6% matched\r"
       ]
      },
      {
       "output_type": "stream",
       "stream": "stdout",
       "text": [
        "00:23 1.1Gb   73.5% Searching, 2.6% matched\r"
       ]
      },
      {
       "output_type": "stream",
       "stream": "stdout",
       "text": [
        "00:24 1.1Gb   74.5% Searching, 2.7% matched\r"
       ]
      },
      {
       "output_type": "stream",
       "stream": "stdout",
       "text": [
        "00:25 1.1Gb   76.5% Searching, 2.7% matched\r"
       ]
      },
      {
       "output_type": "stream",
       "stream": "stdout",
       "text": [
        "00:26 1.1Gb   78.8% Searching, 2.6% matched\r"
       ]
      },
      {
       "output_type": "stream",
       "stream": "stdout",
       "text": [
        "00:27 1.1Gb   82.0% Searching, 2.6% matched\r"
       ]
      },
      {
       "output_type": "stream",
       "stream": "stdout",
       "text": [
        "00:28 1.1Gb   86.0% Searching, 2.6% matched\r"
       ]
      },
      {
       "output_type": "stream",
       "stream": "stdout",
       "text": [
        "00:29 1.1Gb   88.7% Searching, 2.6% matched\r"
       ]
      },
      {
       "output_type": "stream",
       "stream": "stdout",
       "text": [
        "00:30 1.1Gb   92.2% Searching, 2.6% matched\r"
       ]
      },
      {
       "output_type": "stream",
       "stream": "stdout",
       "text": [
        "00:31 1.1Gb   95.8% Searching, 2.6% matched\r"
       ]
      },
      {
       "output_type": "stream",
       "stream": "stdout",
       "text": [
        "00:32 1.1Gb   98.3% Searching, 2.6% matched\r"
       ]
      },
      {
       "output_type": "stream",
       "stream": "stdout",
       "text": [
        "00:32 1.1Gb  100.0% Searching, 2.6% matched\r",
        "\r\n"
       ]
      },
      {
       "output_type": "stream",
       "stream": "stdout",
       "text": [
        "usearch v7.0.1090_i86osx32, 4.0Gb RAM (15.0Gb total), 4 cores\r\n",
        "(C) Copyright 2013 Robert C. Edgar, all rights reserved.\r\n",
        "http://drive5.com/usearch\r\n",
        "\r\n",
        "Licensed to: sr320@uw.edu\r\n",
        "\r\n"
       ]
      },
      {
       "output_type": "stream",
       "stream": "stdout",
       "text": [
        "00:00 1.5Mb Reading /Volumes/Bay3/usearch/uniprot_sprot.udb\r\n"
       ]
      },
      {
       "output_type": "stream",
       "stream": "stdout",
       "text": [
        "00:02 1.1Gb Database loaded\r\n",
        "00:02 1.1Gb    0.1% Searching, 0.0% matched\r"
       ]
      },
      {
       "output_type": "stream",
       "stream": "stdout",
       "text": [
        "00:03 1.1Gb    2.7% Searching, 2.9% matched\r"
       ]
      },
      {
       "output_type": "stream",
       "stream": "stdout",
       "text": [
        "00:04 1.1Gb    7.3% Searching, 2.6% matched\r"
       ]
      },
      {
       "output_type": "stream",
       "stream": "stdout",
       "text": [
        "00:05 1.1Gb   10.6% Searching, 2.7% matched\r"
       ]
      },
      {
       "output_type": "stream",
       "stream": "stdout",
       "text": [
        "00:06 1.1Gb   14.0% Searching, 2.4% matched\r"
       ]
      },
      {
       "output_type": "stream",
       "stream": "stdout",
       "text": [
        "00:07 1.1Gb   18.2% Searching, 2.1% matched\r"
       ]
      },
      {
       "output_type": "stream",
       "stream": "stdout",
       "text": [
        "00:08 1.1Gb   22.3% Searching, 2.1% matched\r"
       ]
      },
      {
       "output_type": "stream",
       "stream": "stdout",
       "text": [
        "00:09 1.1Gb   27.1% Searching, 1.8% matched\r"
       ]
      },
      {
       "output_type": "stream",
       "stream": "stdout",
       "text": [
        "00:10 1.1Gb   31.6% Searching, 1.9% matched\r"
       ]
      },
      {
       "output_type": "stream",
       "stream": "stdout",
       "text": [
        "00:11 1.1Gb   36.5% Searching, 2.1% matched\r"
       ]
      },
      {
       "output_type": "stream",
       "stream": "stdout",
       "text": [
        "00:12 1.1Gb   38.8% Searching, 2.1% matched\r"
       ]
      },
      {
       "output_type": "stream",
       "stream": "stdout",
       "text": [
        "00:13 1.1Gb   41.6% Searching, 2.0% matched\r"
       ]
      },
      {
       "output_type": "stream",
       "stream": "stdout",
       "text": [
        "00:14 1.1Gb   43.7% Searching, 2.2% matched\r"
       ]
      },
      {
       "output_type": "stream",
       "stream": "stdout",
       "text": [
        "00:15 1.1Gb   47.0% Searching, 2.1% matched\r"
       ]
      },
      {
       "output_type": "stream",
       "stream": "stdout",
       "text": [
        "00:16 1.1Gb   50.0% Searching, 2.1% matched\r"
       ]
      },
      {
       "output_type": "stream",
       "stream": "stdout",
       "text": [
        "00:17 1.1Gb   52.7% Searching, 2.1% matched\r"
       ]
      },
      {
       "output_type": "stream",
       "stream": "stdout",
       "text": [
        "00:18 1.1Gb   55.9% Searching, 2.1% matched\r"
       ]
      },
      {
       "output_type": "stream",
       "stream": "stdout",
       "text": [
        "00:19 1.1Gb   59.3% Searching, 2.1% matched\r"
       ]
      },
      {
       "output_type": "stream",
       "stream": "stdout",
       "text": [
        "00:20 1.1Gb   61.6% Searching, 2.1% matched\r"
       ]
      },
      {
       "output_type": "stream",
       "stream": "stdout",
       "text": [
        "00:21 1.1Gb   63.9% Searching, 2.1% matched\r"
       ]
      },
      {
       "output_type": "stream",
       "stream": "stdout",
       "text": [
        "00:22 1.1Gb   67.0% Searching, 2.1% matched\r"
       ]
      },
      {
       "output_type": "stream",
       "stream": "stdout",
       "text": [
        "00:23 1.1Gb   69.7% Searching, 2.2% matched\r"
       ]
      },
      {
       "output_type": "stream",
       "stream": "stdout",
       "text": [
        "00:24 1.1Gb   72.3% Searching, 2.1% matched\r"
       ]
      },
      {
       "output_type": "stream",
       "stream": "stdout",
       "text": [
        "00:25 1.1Gb   74.3% Searching, 2.1% matched\r"
       ]
      },
      {
       "output_type": "stream",
       "stream": "stdout",
       "text": [
        "00:26 1.1Gb   76.3% Searching, 2.2% matched\r"
       ]
      },
      {
       "output_type": "stream",
       "stream": "stdout",
       "text": [
        "00:27 1.1Gb   78.8% Searching, 2.2% matched\r"
       ]
      },
      {
       "output_type": "stream",
       "stream": "stdout",
       "text": [
        "00:28 1.1Gb   81.7% Searching, 2.2% matched\r"
       ]
      },
      {
       "output_type": "stream",
       "stream": "stdout",
       "text": [
        "00:29 1.1Gb   84.6% Searching, 2.2% matched\r"
       ]
      },
      {
       "output_type": "stream",
       "stream": "stdout",
       "text": [
        "00:30 1.1Gb   87.3% Searching, 2.2% matched\r"
       ]
      },
      {
       "output_type": "stream",
       "stream": "stdout",
       "text": [
        "00:31 1.1Gb   91.0% Searching, 2.2% matched\r"
       ]
      },
      {
       "output_type": "stream",
       "stream": "stdout",
       "text": [
        "0"
       ]
      },
      {
       "output_type": "stream",
       "stream": "stdout",
       "text": [
        "0:32 1.1Gb   94.6% Searching, 2.2% matched\r"
       ]
      },
      {
       "output_type": "stream",
       "stream": "stdout",
       "text": [
        "00:33 1.1Gb   98.2% Searching, 2.2% matched\r"
       ]
      },
      {
       "output_type": "stream",
       "stream": "stdout",
       "text": [
        "00:33 1.1Gb  100.0% Searching, 2.2% matched\r",
        "\r\n"
       ]
      },
      {
       "output_type": "stream",
       "stream": "stdout",
       "text": [
        "usearch v7.0.1090_i86osx32, 4.0Gb RAM (15.0Gb total), 4 cores\r\n",
        "(C) Copyright 2013 Robert C. Edgar, all rights reserved.\r\n",
        "http://drive5.com/usearch\r\n",
        "\r\n",
        "Licensed to: sr320@uw.edu\r\n",
        "\r\n"
       ]
      },
      {
       "output_type": "stream",
       "stream": "stdout",
       "text": [
        "00:00 1.8Mb Reading /Volumes/Bay3/usearch/uniprot_sprot.udb\r\n"
       ]
      },
      {
       "output_type": "stream",
       "stream": "stdout",
       "text": [
        "00:03 1.1Gb Database loaded\r\n",
        "00:03 1.1Gb    0.1% Searching, 0.0% matched\r"
       ]
      },
      {
       "output_type": "stream",
       "stream": "stdout",
       "text": [
        "00:04 1.1Gb    0.6% Searching, 0.0% matched\r"
       ]
      },
      {
       "output_type": "stream",
       "stream": "stdout",
       "text": [
        "00:05 1.1Gb    2.0% Searching, 2.0% matched\r"
       ]
      },
      {
       "output_type": "stream",
       "stream": "stdout",
       "text": [
        "00:06 1.1Gb    3.9% Searching, 3.7% matched\r"
       ]
      },
      {
       "output_type": "stream",
       "stream": "stdout",
       "text": [
        "00:07 1.1Gb    6.1% Searching, 3.6% matched\r"
       ]
      },
      {
       "output_type": "stream",
       "stream": "stdout",
       "text": [
        "00:08 1.1Gb    7.9% Searching, 2.9% matched\r"
       ]
      },
      {
       "output_type": "stream",
       "stream": "stdout",
       "text": [
        "00:09 1.1Gb   10.1% Searching, 2.7% matched\r"
       ]
      },
      {
       "output_type": "stream",
       "stream": "stdout",
       "text": [
        "00:10 1.1Gb   12.4% Searching, 2.8% matched\r"
       ]
      },
      {
       "output_type": "stream",
       "stream": "stdout",
       "text": [
        "00:11 1.1Gb   14.5% Searching, 2.5% matched\r"
       ]
      },
      {
       "output_type": "stream",
       "stream": "stdout",
       "text": [
        "00:12 1.1Gb   15.9% Searching, 2.5% matched\r"
       ]
      },
      {
       "output_type": "stream",
       "stream": "stdout",
       "text": [
        "00:13 1.1Gb   18.1% Searching, 2.5% matched\r"
       ]
      },
      {
       "output_type": "stream",
       "stream": "stdout",
       "text": [
        "00:14 1.1Gb   19.8% Searching, 2.4% matched\r"
       ]
      },
      {
       "output_type": "stream",
       "stream": "stdout",
       "text": [
        "00:15 1.1Gb   21.5% Searching, 2.3% matched\r"
       ]
      },
      {
       "output_type": "stream",
       "stream": "stdout",
       "text": [
        "00:16 1.1Gb   23.9% Searching, 2.9% matched\r"
       ]
      },
      {
       "output_type": "stream",
       "stream": "stdout",
       "text": [
        "00:18 1.1Gb   25.9% Searching, 3.4% matched\r"
       ]
      },
      {
       "output_type": "stream",
       "stream": "stdout",
       "text": [
        "00:19 1.1Gb   27.4% Searching, 3.5% matched\r"
       ]
      },
      {
       "output_type": "stream",
       "stream": "stdout",
       "text": [
        "00:20 1.1Gb   29.0% Searching, 3.7% matched\r"
       ]
      },
      {
       "output_type": "stream",
       "stream": "stdout",
       "text": [
        "00:21 1.1Gb   29.8% Searching, 3.7% matched\r"
       ]
      },
      {
       "output_type": "stream",
       "stream": "stdout",
       "text": [
        "00:22 1.1Gb   32.7% Searching, 3.8% matched\r"
       ]
      },
      {
       "output_type": "stream",
       "stream": "stdout",
       "text": [
        "00:23 1.1Gb   34.3% Searching, 3.8% matched\r"
       ]
      },
      {
       "output_type": "stream",
       "stream": "stdout",
       "text": [
        "00:24 1.1Gb   35.7% Searching, 3.9% matched\r"
       ]
      },
      {
       "output_type": "stream",
       "stream": "stdout",
       "text": [
        "00:25 1.1Gb   37.3% Searching, 4.1% matched\r"
       ]
      },
      {
       "output_type": "stream",
       "stream": "stdout",
       "text": [
        "00:26 1.1Gb   39.3% Searching, 4.1% matched\r"
       ]
      },
      {
       "output_type": "stream",
       "stream": "stdout",
       "text": [
        "00:27 1.1Gb   40.5% Searching, 4.2% matched\r"
       ]
      },
      {
       "output_type": "stream",
       "stream": "stdout",
       "text": [
        "00:28 1.1Gb   42.6% Searching, 4.2% matched\r"
       ]
      },
      {
       "output_type": "stream",
       "stream": "stdout",
       "text": [
        "00:29 1.1Gb   44.3% Searching, 4.1% matched\r"
       ]
      },
      {
       "output_type": "stream",
       "stream": "stdout",
       "text": [
        "00:30 1.1Gb   46.4% Searching, 4.2% matched\r"
       ]
      },
      {
       "output_type": "stream",
       "stream": "stdout",
       "text": [
        "00:31 1.1Gb   48.4% Searching, 4.1% matched\r"
       ]
      },
      {
       "output_type": "stream",
       "stream": "stdout",
       "text": [
        "00:32 1.1Gb   50.3% Searching, 4.1% matched\r"
       ]
      },
      {
       "output_type": "stream",
       "stream": "stdout",
       "text": [
        "00:33 1.1Gb   52.0% Searching, 4.1% matched\r"
       ]
      },
      {
       "output_type": "stream",
       "stream": "stdout",
       "text": [
        "00:34 1.1Gb   53.6% Sear"
       ]
      },
      {
       "output_type": "stream",
       "stream": "stdout",
       "text": [
        "ching, 4.2% matched\r"
       ]
      },
      {
       "output_type": "stream",
       "stream": "stdout",
       "text": [
        "00:35 1.1Gb   55.2% Searching, 4.2% matched\r"
       ]
      },
      {
       "output_type": "stream",
       "stream": "stdout",
       "text": [
        "00:36 1.1Gb   56.3% Searching, 4.1% matched\r"
       ]
      },
      {
       "output_type": "stream",
       "stream": "stdout",
       "text": [
        "00:37 1.1Gb   58.0% Searching, 4.1% matched\r"
       ]
      },
      {
       "output_type": "stream",
       "stream": "stdout",
       "text": [
        "00:38 1.1Gb   60.2% Searching, 4.1% matched\r"
       ]
      },
      {
       "output_type": "stream",
       "stream": "stdout",
       "text": [
        "00:39 1.1Gb   62.2% Searching, 4.1% matched\r"
       ]
      },
      {
       "output_type": "stream",
       "stream": "stdout",
       "text": [
        "00:40 1.1Gb   63.7% Searching, 4.2% matched\r"
       ]
      },
      {
       "output_type": "stream",
       "stream": "stdout",
       "text": [
        "00:41 1.1Gb   65.4% Searching, 4.2% matched\r"
       ]
      },
      {
       "output_type": "stream",
       "stream": "stdout",
       "text": [
        "00:42 1.1Gb   67.0% Searching, 4.1% matched\r"
       ]
      },
      {
       "output_type": "stream",
       "stream": "stdout",
       "text": [
        "00:43 1.1Gb   68.6% Searching, 4.1% matched\r"
       ]
      },
      {
       "output_type": "stream",
       "stream": "stdout",
       "text": [
        "00:44 1.1Gb   70.5% Searching, 4.1% matched\r"
       ]
      },
      {
       "output_type": "stream",
       "stream": "stdout",
       "text": [
        "00:45 1.1Gb   73.1% Searching, "
       ]
      },
      {
       "output_type": "stream",
       "stream": "stdout",
       "text": [
        "4.0% matched\r"
       ]
      },
      {
       "output_type": "stream",
       "stream": "stdout",
       "text": [
        "00:46 1.1Gb   73.4% Searching, 4.0% matched\r"
       ]
      },
      {
       "output_type": "stream",
       "stream": "stdout",
       "text": [
        "00:47 1.1Gb   74.2% Searching, 4.0% matched\r"
       ]
      },
      {
       "output_type": "stream",
       "stream": "stdout",
       "text": [
        "00:48 1.1Gb   75.7% Searching, 4.0% matched\r"
       ]
      },
      {
       "output_type": "stream",
       "stream": "stdout",
       "text": [
        "00:49 1.1Gb   76.7% Searching, 4.1% matched\r"
       ]
      },
      {
       "output_type": "stream",
       "stream": "stdout",
       "text": [
        "00:50 1.1Gb   77.7% Searching, 4.1% matched\r"
       ]
      },
      {
       "output_type": "stream",
       "stream": "stdout",
       "text": [
        "00:51 1.1Gb   79.5% Searching, 4.2% matched\r"
       ]
      },
      {
       "output_type": "stream",
       "stream": "stdout",
       "text": [
        "00:52 1.1Gb   81.3% Searching, 4.1% matched\r"
       ]
      },
      {
       "output_type": "stream",
       "stream": "stdout",
       "text": [
        "00:53 1.1Gb   82.4% Searching, 4.1% matched\r"
       ]
      },
      {
       "output_type": "stream",
       "stream": "stdout",
       "text": [
        "00:54 1.1Gb   84.3% Searching, 4.2% matched\r"
       ]
      },
      {
       "output_type": "stream",
       "stream": "stdout",
       "text": [
        "00:55 1.1Gb   84.5% Searching, 4.1% matched\r"
       ]
      },
      {
       "output_type": "stream",
       "stream": "stdout",
       "text": [
        "00:56 1.1Gb   85.1% Searching, 4.1% matched\r"
       ]
      },
      {
       "output_type": "stream",
       "stream": "stdout",
       "text": [
        "00:57 1.1Gb   86.8% Searching, 4.1% matched\r"
       ]
      },
      {
       "output_type": "stream",
       "stream": "stdout",
       "text": [
        "00:58 1.1Gb   88.2% Searching, 4.1% matched\r"
       ]
      },
      {
       "output_type": "stream",
       "stream": "stdout",
       "text": [
        "00:59 1.1Gb   89.2% Searching, 4.2% matched\r"
       ]
      },
      {
       "output_type": "stream",
       "stream": "stdout",
       "text": [
        "01:00 1.1Gb   90.9% Searching, 4.2% matched\r"
       ]
      },
      {
       "output_type": "stream",
       "stream": "stdout",
       "text": [
        "01:01 1.1Gb   93.7% Searching, 4.3% matched\r"
       ]
      },
      {
       "output_type": "stream",
       "stream": "stdout",
       "text": [
        "01:02 1.1Gb   95.9% Searching, 4.3% matched\r"
       ]
      },
      {
       "output_type": "stream",
       "stream": "stdout",
       "text": [
        "01:03 1.1Gb   98.1% Searching, 4.2% matched\r"
       ]
      },
      {
       "output_type": "stream",
       "stream": "stdout",
       "text": [
        "01:04 1.1Gb   98.8% Searching, 4.3% matched\r"
       ]
      },
      {
       "output_type": "stream",
       "stream": "stdout",
       "text": [
        "01:04 1.1Gb  100.0% Searching, 4.3% matched\r",
        "\r\n"
       ]
      },
      {
       "output_type": "stream",
       "stream": "stdout",
       "text": [
        "usearch v7.0.1090_i86osx32, 4.0Gb RAM (15.0Gb total), 4 cores\r\n",
        "(C) Copyright 2013 Robert C. Edgar, all rights reserved.\r\n",
        "http://drive5.com/usearch\r\n",
        "\r\n",
        "Licensed to: sr320@uw.edu\r\n",
        "\r\n"
       ]
      },
      {
       "output_type": "stream",
       "stream": "stdout",
       "text": [
        "00:00 1.9Mb Reading /Volumes/Bay3/usearch/uniprot_sprot.udb\r\n"
       ]
      },
      {
       "output_type": "stream",
       "stream": "stdout",
       "text": [
        "00:02 1.1Gb Database loaded\r\n",
        "00:02 1.1Gb    0.1% Searching, 0.0% matched\r"
       ]
      },
      {
       "output_type": "stream",
       "stream": "stdout",
       "text": [
        "00:03 1.1Gb    0.8% Searching, 0.0% matched\r"
       ]
      },
      {
       "output_type": "stream",
       "stream": "stdout",
       "text": [
        "00:04 1.1Gb    2.6% Searching, 6.1% matched\r"
       ]
      },
      {
       "output_type": "stream",
       "stream": "stdout",
       "text": [
        "00:05 1.1Gb    4.9% Searching, 5.7% matched\r"
       ]
      },
      {
       "output_type": "stream",
       "stream": "stdout",
       "text": [
        "00:06 1.1Gb    6.6% Searching, 5.5% matched\r"
       ]
      },
      {
       "output_type": "stream",
       "stream": "stdout",
       "text": [
        "00:07 1.1Gb    8.7% Searching, 5.1% matched\r"
       ]
      },
      {
       "output_type": "stream",
       "stream": "stdout",
       "text": [
        "00:08 1.1Gb   10.0% Searching, 5.5% matched\r"
       ]
      },
      {
       "output_type": "stream",
       "stream": "stdout",
       "text": [
        "00:10 1.1Gb   14.0% Searching, 5.0% matched\r"
       ]
      },
      {
       "output_type": "stream",
       "stream": "stdout",
       "text": [
        "00:11 1.1Gb   14.5% Searching, 4.9% matched\r"
       ]
      },
      {
       "output_type": "stream",
       "stream": "stdout",
       "text": [
        "00:12 1.1Gb   15.7% Searching, 4.8% matched\r"
       ]
      },
      {
       "output_type": "stream",
       "stream": "stdout",
       "text": [
        "00:13 1.1Gb   16.9% Searching, 4.7% matched\r"
       ]
      },
      {
       "output_type": "stream",
       "stream": "stdout",
       "text": [
        "00:14 1.1Gb   18.5% Searching, 4.5% matched\r"
       ]
      },
      {
       "output_type": "stream",
       "stream": "stdout",
       "text": [
        "00:15 1.1Gb   19.9% Searching, 4.6% matched\r"
       ]
      },
      {
       "output_type": "stream",
       "stream": "stdout",
       "text": [
        "00:16 1.1Gb   21.6% Searching, 4.5% matched\r"
       ]
      },
      {
       "output_type": "stream",
       "stream": "stdout",
       "text": [
        "00:17 1.1Gb   23.2% Searching, 4.5% matched\r"
       ]
      },
      {
       "output_type": "stream",
       "stream": "stdout",
       "text": [
        "00:18 1.1Gb   24.8% Searching, 4.4% matched\r"
       ]
      },
      {
       "output_type": "stream",
       "stream": "stdout",
       "text": [
        "00:19 1.1Gb   26.8% Searching, 4.2% matched\r"
       ]
      },
      {
       "output_type": "stream",
       "stream": "stdout",
       "text": [
        "00:20 1.1Gb   28.9% Searching, 4.2% matched\r"
       ]
      },
      {
       "output_type": "stream",
       "stream": "stdout",
       "text": [
        "00:21 1.1Gb   29.5% Searching, 4.4% matched\r"
       ]
      },
      {
       "output_type": "stream",
       "stream": "stdout",
       "text": [
        "00:22 1.1Gb   30.8% Searching, 4.5% matched\r"
       ]
      },
      {
       "output_type": "stream",
       "stream": "stdout",
       "text": [
        "00:23 1.1Gb   33.3% Searching, 4.5% matched\r"
       ]
      },
      {
       "output_type": "stream",
       "stream": "stdout",
       "text": [
        "00:24 1.1Gb   35.2% Searching, 4.4% matched\r"
       ]
      },
      {
       "output_type": "stream",
       "stream": "stdout",
       "text": [
        "00:25 1.1Gb   38.2% Searching, 4.4% matched\r"
       ]
      },
      {
       "output_type": "stream",
       "stream": "stdout",
       "text": [
        "00:26 1.1Gb   39.8% Searching, 4.3% matched\r"
       ]
      },
      {
       "output_type": "stream",
       "stream": "stdout",
       "text": [
        "00:27 1.1Gb   41.7% Searching, 4.3% matched\r"
       ]
      },
      {
       "output_type": "stream",
       "stream": "stdout",
       "text": [
        "00:28 1.1Gb   43.4% Searching, 4.2% matched\r"
       ]
      },
      {
       "output_type": "stream",
       "stream": "stdout",
       "text": [
        "00:29 1.1Gb   45.6% Searching, 4.2% matched\r"
       ]
      },
      {
       "output_type": "stream",
       "stream": "stdout",
       "text": [
        "00:30 1.1Gb   47.9% Searching, 4.3% matched\r"
       ]
      },
      {
       "output_type": "stream",
       "stream": "stdout",
       "text": [
        "00:31 1.1Gb   50.1% Searching, 4.3% matched\r"
       ]
      },
      {
       "output_type": "stream",
       "stream": "stdout",
       "text": [
        "00:32 1.1Gb   52.0% Searching, 4.3% matched\r"
       ]
      },
      {
       "output_type": "stream",
       "stream": "stdout",
       "text": [
        "00:33 1.1Gb   54.0% Searching, 4.3% matched\r"
       ]
      },
      {
       "output_type": "stream",
       "stream": "stdout",
       "text": [
        "00:34 1.1Gb   56.4% Searching, 4.3% matched\r"
       ]
      },
      {
       "output_type": "stream",
       "stream": "stdout",
       "text": [
        "00:35 1.1Gb   57.1% Searching, 4.3% matched\r"
       ]
      },
      {
       "output_type": "stream",
       "stream": "stdout",
       "text": [
        "00:36 1.1Gb   58.8% Searching, 4.4% matched\r"
       ]
      },
      {
       "output_type": "stream",
       "stream": "stdout",
       "text": [
        "00:37 1.1Gb   61.0% Searching, 4.4% matched\r"
       ]
      },
      {
       "output_type": "stream",
       "stream": "stdout",
       "text": [
        "00:38 1.1Gb   62.2% Searching, 4.4% matched\r"
       ]
      },
      {
       "output_type": "stream",
       "stream": "stdout",
       "text": [
        "00:40 1.1Gb   65.3% Searching, 4.3% matched\r"
       ]
      },
      {
       "output_type": "stream",
       "stream": "stdout",
       "text": [
        "00:41 1.1Gb   67.0% Searching, 4.4% matched\r"
       ]
      },
      {
       "output_type": "stream",
       "stream": "stdout",
       "text": [
        "00:42 1.1Gb   68.4% Searching, 4.3% matched\r"
       ]
      },
      {
       "output_type": "stream",
       "stream": "stdout",
       "text": [
        "00:43 1.1Gb   70.1% Searching, 4.3% matched\r"
       ]
      },
      {
       "output_type": "stream",
       "stream": "stdout",
       "text": [
        "00:44 1.1Gb   71.6% Searching, 4.3% matched\r"
       ]
      },
      {
       "output_type": "stream",
       "stream": "stdout",
       "text": [
        "00:45 1.1Gb   72.9% Searching, 4.2% matched\r"
       ]
      },
      {
       "output_type": "stream",
       "stream": "stdout",
       "text": [
        "00:46 1.1Gb   75.0% Searching, 4.3% matched\r"
       ]
      },
      {
       "output_type": "stream",
       "stream": "stdout",
       "text": [
        "00:47 1.1Gb   76.9% Searching, 4.2% matched\r"
       ]
      },
      {
       "output_type": "stream",
       "stream": "stdout",
       "text": [
        "00:48 1.1Gb   78.7% Searching, 4.2% matched\r"
       ]
      },
      {
       "output_type": "stream",
       "stream": "stdout",
       "text": [
        "00:49 1.1Gb   80.2% Searching, 4.3% matched\r"
       ]
      },
      {
       "output_type": "stream",
       "stream": "stdout",
       "text": [
        "00:50 1.1Gb   82.1% Searching, 4.3% matched\r"
       ]
      },
      {
       "output_type": "stream",
       "stream": "stdout",
       "text": [
        "00:51 1.1Gb   84.3% Searching, 4.3% matched\r"
       ]
      },
      {
       "output_type": "stream",
       "stream": "stdout",
       "text": [
        "00:52 1.1Gb   85.6% Searching, 4.2% matched\r"
       ]
      },
      {
       "output_type": "stream",
       "stream": "stdout",
       "text": [
        "00:53 1.1Gb   87.2% Searching, 4.2% matched\r"
       ]
      },
      {
       "output_type": "stream",
       "stream": "stdout",
       "text": [
        "00:54 1.1Gb   89.5% Searching, 4.2% matched\r"
       ]
      },
      {
       "output_type": "stream",
       "stream": "stdout",
       "text": [
        "00:55 1.1Gb   91.4% Searching, 4.2% matched\r"
       ]
      },
      {
       "output_type": "stream",
       "stream": "stdout",
       "text": [
        "00:56 1.1Gb   93.3% Searching, 4.2% matched\r"
       ]
      },
      {
       "output_type": "stream",
       "stream": "stdout",
       "text": [
        "00:57 1.1Gb   95.3% Searching, 4.2% matched\r"
       ]
      },
      {
       "output_type": "stream",
       "stream": "stdout",
       "text": [
        "00:58 1.1Gb   97.8% Searching, 4.1% matched\r"
       ]
      },
      {
       "output_type": "stream",
       "stream": "stdout",
       "text": [
        "00:59 1.1Gb   99.8% Searching, 4.1% matched\r"
       ]
      },
      {
       "output_type": "stream",
       "stream": "stdout",
       "text": [
        "00:59 1.1Gb  100.0% Searching, 4.1% matched\r",
        "\r\n"
       ]
      },
      {
       "output_type": "stream",
       "stream": "stdout",
       "text": [
        "usearch v7.0.1090_i86osx32, 4.0Gb RAM (15.0Gb total), 4 cores\r\n",
        "(C) Copyright 2013 Robert C. Edgar, all rights reserved.\r\n",
        "http://drive5.com/usearch\r\n",
        "\r\n",
        "Licensed to: sr320@uw.edu\r\n",
        "\r\n"
       ]
      },
      {
       "output_type": "stream",
       "stream": "stdout",
       "text": [
        "00:00 1.7Mb Reading /Volumes/Bay3/usearch/uniprot_sprot.udb\r\n"
       ]
      },
      {
       "output_type": "stream",
       "stream": "stdout",
       "text": [
        "00:03 1.1Gb Database loaded\r\n",
        "00:03 1.1Gb    0.1% Searching, 0.0% matched\r"
       ]
      },
      {
       "output_type": "stream",
       "stream": "stdout",
       "text": [
        "00:04 1.1Gb    2.5% Searching, 4.9% matched\r"
       ]
      },
      {
       "output_type": "stream",
       "stream": "stdout",
       "text": [
        "00:05 1.1Gb    5.0% Searching, 4.2% matched\r"
       ]
      },
      {
       "output_type": "stream",
       "stream": "stdout",
       "text": [
        "00:06 1.1Gb    7.8% Searching, 4.0% matched\r"
       ]
      },
      {
       "output_type": "stream",
       "stream": "stdout",
       "text": [
        "00:07 1.1Gb   10.0% Searching, 4.2% matched\r"
       ]
      },
      {
       "output_type": "stream",
       "stream": "stdout",
       "text": [
        "00:08 1.1Gb   12.2% Searching, 4.0% matched\r"
       ]
      },
      {
       "output_type": "stream",
       "stream": "stdout",
       "text": [
        "00:09 1.1Gb   14.8% Searching, 3.7% matched\r"
       ]
      },
      {
       "output_type": "stream",
       "stream": "stdout",
       "text": [
        "00:10 1.1Gb   17.7% Searching, 3.6% matched\r"
       ]
      },
      {
       "output_type": "stream",
       "stream": "stdout",
       "text": [
        "00:11 1.1Gb   20.1% Searching, 3.6% matched\r"
       ]
      },
      {
       "output_type": "stream",
       "stream": "stdout",
       "text": [
        "00:12 1.1Gb   21.9% Searching, 3.4% matched\r"
       ]
      },
      {
       "output_type": "stream",
       "stream": "stdout",
       "text": [
        "00:13 1.1Gb   23.8% Searching, 3.5% matched\r"
       ]
      },
      {
       "output_type": "stream",
       "stream": "stdout",
       "text": [
        "00:14 1.1Gb   26.0% Searching, 3.5% matched\r"
       ]
      },
      {
       "output_type": "stream",
       "stream": "stdout",
       "text": [
        "00:15 1.1Gb   28.7% Searching, 3.4% matched\r"
       ]
      },
      {
       "output_type": "stream",
       "stream": "stdout",
       "text": [
        "00:16 1.1Gb   31.1% Searching, 3.4% matched\r"
       ]
      },
      {
       "output_type": "stream",
       "stream": "stdout",
       "text": [
        "00:17 1.1Gb   33.5% Searching, 3.4% matched\r"
       ]
      },
      {
       "output_type": "stream",
       "stream": "stdout",
       "text": [
        "00:18 1.1Gb   36.2% Searching, 3.4% matched\r"
       ]
      },
      {
       "output_type": "stream",
       "stream": "stdout",
       "text": [
        "00:19 1.1Gb   38.5% Searching, 3.3% matched\r"
       ]
      },
      {
       "output_type": "stream",
       "stream": "stdout",
       "text": [
        "00:20 1.1Gb   41.0% Searching, 3.4% matched\r"
       ]
      },
      {
       "output_type": "stream",
       "stream": "stdout",
       "text": [
        "00:21 1.1Gb   43.7% Searching, 3.4% matched\r"
       ]
      },
      {
       "output_type": "stream",
       "stream": "stdout",
       "text": [
        "00:22 1.1Gb   45.4% Searching, 3.5% matched\r"
       ]
      },
      {
       "output_type": "stream",
       "stream": "stdout",
       "text": [
        "00:23 1.1Gb   47.7% Searching, 3.5% matched\r"
       ]
      },
      {
       "output_type": "stream",
       "stream": "stdout",
       "text": [
        "00:24 1.1Gb   49.3% Searching, 3.6% matched\r"
       ]
      },
      {
       "output_type": "stream",
       "stream": "stdout",
       "text": [
        "00:25 1.1Gb   51.5% Searching, 3.6% matched\r"
       ]
      },
      {
       "output_type": "stream",
       "stream": "stdout",
       "text": [
        "00:26 1.1Gb   54.0% Searching, 3.7% matched\r"
       ]
      },
      {
       "output_type": "stream",
       "stream": "stdout",
       "text": [
        "00:27 1.1Gb   56.1% Searching, 3.7% matched\r"
       ]
      },
      {
       "output_type": "stream",
       "stream": "stdout",
       "text": [
        "00:28 1.1Gb   58.6% Searching, 3.6% matched\r"
       ]
      },
      {
       "output_type": "stream",
       "stream": "stdout",
       "text": [
        "00:29 1.1Gb   61.7% Searching, 3.7% matched\r"
       ]
      },
      {
       "output_type": "stream",
       "stream": "stdout",
       "text": [
        "0"
       ]
      },
      {
       "output_type": "stream",
       "stream": "stdout",
       "text": [
        "0:30 1.1Gb   64.0% Searching, 3.7% matched\r"
       ]
      },
      {
       "output_type": "stream",
       "stream": "stdout",
       "text": [
        "00:31 1.1Gb   67.0% Searching, 3.7% matched\r"
       ]
      },
      {
       "output_type": "stream",
       "stream": "stdout",
       "text": [
        "00:32 1.1Gb   69.2% Searching, 3.7% matched\r"
       ]
      },
      {
       "output_type": "stream",
       "stream": "stdout",
       "text": [
        "00:33 1.1Gb   72.0% Searching, 3.7% matched\r"
       ]
      },
      {
       "output_type": "stream",
       "stream": "stdout",
       "text": [
        "00:34 1.1Gb   74.9% Searching, 3.6% matched\r"
       ]
      },
      {
       "output_type": "stream",
       "stream": "stdout",
       "text": [
        "00:35 1.1Gb   77.2% Searching, 3.6% matched\r"
       ]
      },
      {
       "output_type": "stream",
       "stream": "stdout",
       "text": [
        "00:36 1.1Gb   79.7% Searching, 3.6% matched\r"
       ]
      },
      {
       "output_type": "stream",
       "stream": "stdout",
       "text": [
        "00:37 1.1Gb   81.4% Searching, 3.6% matched\r"
       ]
      },
      {
       "output_type": "stream",
       "stream": "stdout",
       "text": [
        "00:38 1.1Gb   83.8% Searching"
       ]
      },
      {
       "output_type": "stream",
       "stream": "stdout",
       "text": [
        ", 3.7% matched\r"
       ]
      },
      {
       "output_type": "stream",
       "stream": "stdout",
       "text": [
        "00:39 1.1Gb   86.2% Searching, 3.8% matched\r"
       ]
      },
      {
       "output_type": "stream",
       "stream": "stdout",
       "text": [
        "00:40 1.1Gb   89.0% Searching, 3.9% matched\r"
       ]
      },
      {
       "output_type": "stream",
       "stream": "stdout",
       "text": [
        "00:41 1.1Gb   91.4% Searching, 3.8% matched\r"
       ]
      },
      {
       "output_type": "stream",
       "stream": "stdout",
       "text": [
        "00:42 1.1Gb   94.4% Searching, 3.8% matched\r"
       ]
      },
      {
       "output_type": "stream",
       "stream": "stdout",
       "text": [
        "00:43 1.1Gb   96.0% Searching, 3.8% matched\r"
       ]
      },
      {
       "output_type": "stream",
       "stream": "stdout",
       "text": [
        "00:44 1.1Gb   98.7% Searching, 3.8% matched\r"
       ]
      },
      {
       "output_type": "stream",
       "stream": "stdout",
       "text": [
        "00:44 1.1Gb  100.0% Searching, 3.8% matched\r",
        "\r\n"
       ]
      },
      {
       "output_type": "stream",
       "stream": "stdout",
       "text": [
        "usearch v7.0.1090_i86osx32, 4.0Gb RAM (15.0Gb total), 4 cores\r\n",
        "(C) Copyright 2013 Robert C. Edgar, all rights reserved.\r\n",
        "http://drive5.com/usearch\r\n",
        "\r\n",
        "Licensed to: sr320@uw.edu\r\n",
        "\r\n"
       ]
      },
      {
       "output_type": "stream",
       "stream": "stdout",
       "text": [
        "00:00 2.1Mb Reading /Volumes/Bay3/usearch/uniprot_sprot.udb\r\n"
       ]
      },
      {
       "output_type": "stream",
       "stream": "stdout",
       "text": [
        "00:02 1.1Gb Database loaded\r\n",
        "00:02 1.1Gb    0.1% Searching, 0.0% matched\r"
       ]
      },
      {
       "output_type": "stream",
       "stream": "stdout",
       "text": [
        "00:03 1.1Gb    1.2% Searching, 0.0% matched\r"
       ]
      },
      {
       "output_type": "stream",
       "stream": "stdout",
       "text": [
        "00:04 1.1Gb    2.8% Searching, 3.5% matched\r"
       ]
      },
      {
       "output_type": "stream",
       "stream": "stdout",
       "text": [
        "00:05 1.1Gb    4.3% Searching, 3.2% matched\r"
       ]
      },
      {
       "output_type": "stream",
       "stream": "stdout",
       "text": [
        "00:06 1.1Gb    6.0% Searching, 3.5% matched\r"
       ]
      },
      {
       "output_type": "stream",
       "stream": "stdout",
       "text": [
        "00:07 1.1Gb    8.0% Searching, 4.9% matched\r"
       ]
      },
      {
       "output_type": "stream",
       "stream": "stdout",
       "text": [
        "00:08 1.1Gb    9.6% Searching, 4.5% matched\r"
       ]
      },
      {
       "output_type": "stream",
       "stream": "stdout",
       "text": [
        "00:09 1.1Gb   11.2% Searching, 4.6% matched\r"
       ]
      },
      {
       "output_type": "stream",
       "stream": "stdout",
       "text": [
        "00:10 1.1Gb   13.0% Searching, 4.7% matched\r"
       ]
      },
      {
       "output_type": "stream",
       "stream": "stdout",
       "text": [
        "00:11 1.1Gb   14.1% Searching, 4.5% matched\r"
       ]
      },
      {
       "output_type": "stream",
       "stream": "stdout",
       "text": [
        "00:12 1.1Gb   15.7% Searching, 4.3% matched\r"
       ]
      },
      {
       "output_type": "stream",
       "stream": "stdout",
       "text": [
        "00:13 1.1Gb   17.4% Searching, 4.3% matched\r"
       ]
      },
      {
       "output_type": "stream",
       "stream": "stdout",
       "text": [
        "00:14 1.1Gb   19.3% Searching, 4.4% matched\r"
       ]
      },
      {
       "output_type": "stream",
       "stream": "stdout",
       "text": [
        "00:15 1.1Gb   20.1% Searching, 4.4% matched\r"
       ]
      },
      {
       "output_type": "stream",
       "stream": "stdout",
       "text": [
        "00:16 1.1Gb   21.6% Searching, 4.2% matched\r"
       ]
      },
      {
       "output_type": "stream",
       "stream": "stdout",
       "text": [
        "00:17 1.1Gb   23.2% Searching, 4.4% matched\r"
       ]
      },
      {
       "output_type": "stream",
       "stream": "stdout",
       "text": [
        "00:18 1.1Gb   25.0% Searching, 4.3% matched\r"
       ]
      },
      {
       "output_type": "stream",
       "stream": "stdout",
       "text": [
        "00:19 1.1Gb   26.2% Searching, 4.2% matched\r"
       ]
      },
      {
       "output_type": "stream",
       "stream": "stdout",
       "text": [
        "00:20 1.1Gb   27.7% Searching, 4.3% matched\r"
       ]
      },
      {
       "output_type": "stream",
       "stream": "stdout",
       "text": [
        "00:21 1.1Gb   29.4% Searching, 4.2% matched\r"
       ]
      },
      {
       "output_type": "stream",
       "stream": "stdout",
       "text": [
        "00:22 1.1Gb   30.9% Searching, 4.3% matched\r"
       ]
      },
      {
       "output_type": "stream",
       "stream": "stdout",
       "text": [
        "00:23 1.1Gb   32.3% Searching, 4.3% matched\r"
       ]
      },
      {
       "output_type": "stream",
       "stream": "stdout",
       "text": [
        "00:24 1.1Gb   34.1% Searching, 4.4% matched\r"
       ]
      },
      {
       "output_type": "stream",
       "stream": "stdout",
       "text": [
        "00:25 1.1Gb   35.6% Searching, 4.5% matched\r"
       ]
      },
      {
       "output_type": "stream",
       "stream": "stdout",
       "text": [
        "00:26 1.1Gb   38.4% Searching, 4.4% matched\r"
       ]
      },
      {
       "output_type": "stream",
       "stream": "stdout",
       "text": [
        "00:27 1.1Gb   38.6% Searching, 4.4% matched\r"
       ]
      },
      {
       "output_type": "stream",
       "stream": "stdout",
       "text": [
        "00:28 1.1Gb   40.4% Searching, 4.5% matched\r"
       ]
      },
      {
       "output_type": "stream",
       "stream": "stdout",
       "text": [
        "00:29 1.1Gb   41.3% Searching, 4.5% matched\r"
       ]
      },
      {
       "output_type": "stream",
       "stream": "stdout",
       "text": [
        "00:30 1.1Gb   43.5% Searching, 4.6% matched\r"
       ]
      },
      {
       "output_type": "stream",
       "stream": "stdout",
       "text": [
        "00:31 1.1Gb   45.1% Searching, 4.6% matched\r"
       ]
      },
      {
       "output_type": "stream",
       "stream": "stdout",
       "text": [
        "00:32 1.1Gb   46.5% Searching, 4.6% matched\r"
       ]
      },
      {
       "output_type": "stream",
       "stream": "stdout",
       "text": [
        "00:33 1.1Gb   48.6% Searching, 4.6% matched\r"
       ]
      },
      {
       "output_type": "stream",
       "stream": "stdout",
       "text": [
        "00:34 1.1Gb   49.9% Searching, 4.6% matched\r"
       ]
      },
      {
       "output_type": "stream",
       "stream": "stdout",
       "text": [
        "0"
       ]
      },
      {
       "output_type": "stream",
       "stream": "stdout",
       "text": [
        "0:35 1.1Gb   51.1% Searching, 4.6% matched\r"
       ]
      },
      {
       "output_type": "stream",
       "stream": "stdout",
       "text": [
        "00:36 1.1Gb   52.5% Searching, 4.7% matched\r"
       ]
      },
      {
       "output_type": "stream",
       "stream": "stdout",
       "text": [
        "00:37 1.1Gb   54.5% Searching, 4.7% matched\r"
       ]
      },
      {
       "output_type": "stream",
       "stream": "stdout",
       "text": [
        "00:38 1.1Gb   56.1% Searching, 4.7% matched\r"
       ]
      },
      {
       "output_type": "stream",
       "stream": "stdout",
       "text": [
        "00:39 1.1Gb   58.2% Searching, 4.5% matched\r"
       ]
      },
      {
       "output_type": "stream",
       "stream": "stdout",
       "text": [
        "00:40 1.1Gb   60.1% Searching, 4.4% matched\r"
       ]
      },
      {
       "output_type": "stream",
       "stream": "stdout",
       "text": [
        "00:41 1.1Gb   61.3% Searching, 4.4% matched\r"
       ]
      },
      {
       "output_type": "stream",
       "stream": "stdout",
       "text": [
        "00:42 1.1Gb   62.9% Searching, 4.5% matched\r"
       ]
      },
      {
       "output_type": "stream",
       "stream": "stdout",
       "text": [
        "00:43 1.1Gb   64.7% Searching, 4.4% matched\r"
       ]
      },
      {
       "output_type": "stream",
       "stream": "stdout",
       "text": [
        "00:44 1.1Gb   66.5% Searching, 4.4% matched\r"
       ]
      },
      {
       "output_type": "stream",
       "stream": "stdout",
       "text": [
        "00:45 1.1Gb   67.9% Searching, 4.4% matched\r"
       ]
      },
      {
       "output_type": "stream",
       "stream": "stdout",
       "text": [
        "00:46 1.1Gb   69.4% Searching, 4.4% matched\r"
       ]
      },
      {
       "output_type": "stream",
       "stream": "stdout",
       "text": [
        "00:47 1.1Gb   71.0% Searching, 4.3% matched\r"
       ]
      },
      {
       "output_type": "stream",
       "stream": "stdout",
       "text": [
        "00:48 1.1Gb   72.8% Searching, 4.3% matched\r"
       ]
      },
      {
       "output_type": "stream",
       "stream": "stdout",
       "text": [
        "00:49 1.1Gb   75.0% Searching, 4.3% matched\r"
       ]
      },
      {
       "output_type": "stream",
       "stream": "stdout",
       "text": [
        "00:50 1.1Gb   75.9% Searching, 4.3% matched\r"
       ]
      },
      {
       "output_type": "stream",
       "stream": "stdout",
       "text": [
        "00:51 1.1Gb   77.0% Searching, 4.3% matched\r"
       ]
      },
      {
       "output_type": "stream",
       "stream": "stdout",
       "text": [
        "00:52 1.1Gb   78.6% Searching, 4.3% matched\r"
       ]
      },
      {
       "output_type": "stream",
       "stream": "stdout",
       "text": [
        "00:53 1.1Gb   80.1% Searching, 4.2% matched\r"
       ]
      },
      {
       "output_type": "stream",
       "stream": "stdout",
       "text": [
        "00:54 1.1Gb   81.2% Searching, 4.3% matched\r"
       ]
      },
      {
       "output_type": "stream",
       "stream": "stdout",
       "text": [
        "00:55 1.1Gb   82.4% Searching, 4.2% matched\r"
       ]
      },
      {
       "output_type": "stream",
       "stream": "stdout",
       "text": [
        "00:56 1.1Gb   83.8% Searching, 4.2% matched\r"
       ]
      },
      {
       "output_type": "stream",
       "stream": "stdout",
       "text": [
        "00:57 1.1Gb   85.0% Searching, 4.2% matched\r"
       ]
      },
      {
       "output_type": "stream",
       "stream": "stdout",
       "text": [
        "00:58 1.1Gb   85.9% Searching, 4.2% matched\r"
       ]
      },
      {
       "output_type": "stream",
       "stream": "stdout",
       "text": [
        "00:59 1.1Gb   87.3% Searching, 4.1% matched\r"
       ]
      },
      {
       "output_type": "stream",
       "stream": "stdout",
       "text": [
        "01:00 1.1Gb   88.3% Searching, 4.2% matched\r"
       ]
      },
      {
       "output_type": "stream",
       "stream": "stdout",
       "text": [
        "01:01 1.1Gb   89.4% Searching, 4.2% matched\r"
       ]
      },
      {
       "output_type": "stream",
       "stream": "stdout",
       "text": [
        "01:02 1.1Gb   90.9% Searching, 4.2% matched\r"
       ]
      },
      {
       "output_type": "stream",
       "stream": "stdout",
       "text": [
        "01:03 1.1Gb   91.2% Searching, 4.2% matched\r"
       ]
      },
      {
       "output_type": "stream",
       "stream": "stdout",
       "text": [
        "01:04 1.1Gb   92.7% Searching, 4.2% matched\r"
       ]
      },
      {
       "output_type": "stream",
       "stream": "stdout",
       "text": [
        "01:05 1.1Gb   93.5% Searching, 4.1% matched\r"
       ]
      },
      {
       "output_type": "stream",
       "stream": "stdout",
       "text": [
        "01:06 1.1Gb   94.7% Searching, 4.1% matched\r"
       ]
      },
      {
       "output_type": "stream",
       "stream": "stdout",
       "text": [
        "01:07 1.1Gb   96.5% Searching, 4.1% matched\r"
       ]
      },
      {
       "output_type": "stream",
       "stream": "stdout",
       "text": [
        "01:08 1.1Gb   97.8% Searching, 4.1% matched\r"
       ]
      },
      {
       "output_type": "stream",
       "stream": "stdout",
       "text": [
        "01:09 1.1Gb   98.4% Searching, 4.1% matched\r"
       ]
      },
      {
       "output_type": "stream",
       "stream": "stdout",
       "text": [
        "01:10 1.1Gb   99.2% Searching, 4.1% matched\r"
       ]
      },
      {
       "output_type": "stream",
       "stream": "stdout",
       "text": [
        "01:11 1.1Gb   99.8% Searching, 4.1% matched\r",
        "01:11 1.1Gb  100.0% Searching, 4.1% matched\r",
        "\r\n"
       ]
      },
      {
       "output_type": "stream",
       "stream": "stdout",
       "text": [
        "usearch v7.0.1090_i86osx32, 4.0Gb RAM (15.0Gb total), 4 cores\r\n",
        "(C) Copyright 2013 Robert C. Edgar, all rights reserved.\r\n",
        "http://drive5.com/usearch\r\n",
        "\r\n",
        "Licensed to: sr320@uw.edu\r\n",
        "\r\n"
       ]
      },
      {
       "output_type": "stream",
       "stream": "stdout",
       "text": [
        "00:00 2.1Mb Reading /Volumes/Bay3/usearch/uniprot_sprot.udb\r\n"
       ]
      },
      {
       "output_type": "stream",
       "stream": "stdout",
       "text": [
        "00:13 1.1Gb Database loaded\r\n"
       ]
      },
      {
       "output_type": "stream",
       "stream": "stdout",
       "text": [
        "00:13 1.1Gb    0.1% Searching, 0.0% matched\r"
       ]
      },
      {
       "output_type": "stream",
       "stream": "stdout",
       "text": [
        "00:14 1.1Gb    2.2% Searching, 1.6% matched\r"
       ]
      },
      {
       "output_type": "stream",
       "stream": "stdout",
       "text": [
        "00:15 1.1Gb    4.9% Searching, 2.2% matched\r"
       ]
      },
      {
       "output_type": "stream",
       "stream": "stdout",
       "text": [
        "00:16 1.1Gb    7.2% Searching, 2.9% matched\r"
       ]
      },
      {
       "output_type": "stream",
       "stream": "stdout",
       "text": [
        "00:17 1.1Gb    8.4% Searching, 3.5% matched\r"
       ]
      },
      {
       "output_type": "stream",
       "stream": "stdout",
       "text": [
        "00:18 1.1Gb   10.4% Searching, 3.5% matched\r"
       ]
      },
      {
       "output_type": "stream",
       "stream": "stdout",
       "text": [
        "00:19 1.1Gb   12.7% Searching, 4.0% matched\r"
       ]
      },
      {
       "output_type": "stream",
       "stream": "stdout",
       "text": [
        "00:20 1.1Gb   14.3% Searching, 4.2% matched\r"
       ]
      },
      {
       "output_type": "stream",
       "stream": "stdout",
       "text": [
        "00:21 1.1Gb   15.5% Searching, 4.5% matched\r"
       ]
      },
      {
       "output_type": "stream",
       "stream": "stdout",
       "text": [
        "00:22 1.1Gb   17.6% Searching, 4.5% matched\r"
       ]
      },
      {
       "output_type": "stream",
       "stream": "stdout",
       "text": [
        "00:23 1.1Gb   19.0% Searching, 4.5% matched\r"
       ]
      },
      {
       "output_type": "stream",
       "stream": "stdout",
       "text": [
        "00:24 1.1Gb   21.6% Searching, 4.4% matched\r"
       ]
      },
      {
       "output_type": "stream",
       "stream": "stdout",
       "text": [
        "00:25 1.1Gb   24.5% Searching, 4.5% matched\r"
       ]
      },
      {
       "output_type": "stream",
       "stream": "stdout",
       "text": [
        "00:26 1.1Gb   26.4% Searching, 4.4% matched\r"
       ]
      },
      {
       "output_type": "stream",
       "stream": "stdout",
       "text": [
        "00:27 1.1Gb   28.9% Searching, 4.3% matched\r"
       ]
      },
      {
       "output_type": "stream",
       "stream": "stdout",
       "text": [
        "00:28 1.1Gb   30.6% Searching, 4.3% matched\r"
       ]
      },
      {
       "output_type": "stream",
       "stream": "stdout",
       "text": [
        "00:29 1.1Gb   33.4% Searching, 4.1% matched\r"
       ]
      },
      {
       "output_type": "stream",
       "stream": "stdout",
       "text": [
        "00:30 1.1Gb   36.3% Searching, 4.0% matched\r"
       ]
      },
      {
       "output_type": "stream",
       "stream": "stdout",
       "text": [
        "00:31 1.1Gb   38.1% Searching, 3.9% matched\r"
       ]
      },
      {
       "output_type": "stream",
       "stream": "stdout",
       "text": [
        "00:32 1.1Gb   40.1% Searching, 4.0% matched\r"
       ]
      },
      {
       "output_type": "stream",
       "stream": "stdout",
       "text": [
        "00:33 1.1Gb   42.0% Searching, 4.0% matched\r"
       ]
      },
      {
       "output_type": "stream",
       "stream": "stdout",
       "text": [
        "00:34 1.1Gb   44.3% Searching, 4.0% matched\r"
       ]
      },
      {
       "output_type": "stream",
       "stream": "stdout",
       "text": [
        "00:35 1.1Gb   46.8% Searching, 4.0% matched\r"
       ]
      },
      {
       "output_type": "stream",
       "stream": "stdout",
       "text": [
        "00:36 1.1Gb   48.6% Searching, 3.9% matched\r"
       ]
      },
      {
       "output_type": "stream",
       "stream": "stdout",
       "text": [
        "00:37 1.1Gb   50.3% Searching, 4.0% matched\r"
       ]
      },
      {
       "output_type": "stream",
       "stream": "stdout",
       "text": [
        "00:38 1.1Gb   52.5% Searching, 4.0% matched\r"
       ]
      },
      {
       "output_type": "stream",
       "stream": "stdout",
       "text": [
        "00:39 1.1Gb   54.8% Searching, 4.0% matched\r"
       ]
      },
      {
       "output_type": "stream",
       "stream": "stdout",
       "text": [
        "00:40 1.1Gb   56.7% Searching, 3.9% matched\r"
       ]
      },
      {
       "output_type": "stream",
       "stream": "stdout",
       "text": [
        "00:41 1.1Gb   58.6% Searching, 3.9% matched\r"
       ]
      },
      {
       "output_type": "stream",
       "stream": "stdout",
       "text": [
        "00:42 1.1Gb   60.1% Searching, 3.9% matched\r"
       ]
      },
      {
       "output_type": "stream",
       "stream": "stdout",
       "text": [
        "00:43 1.1Gb   61.9% Searching, 3.9% matched\r"
       ]
      },
      {
       "output_type": "stream",
       "stream": "stdout",
       "text": [
        "00:44 1.1Gb   63.4% Searching, 3.9% matched\r"
       ]
      },
      {
       "output_type": "stream",
       "stream": "stdout",
       "text": [
        "00:45 1.1Gb   65.0% Searching, 3.9% matched\r"
       ]
      },
      {
       "output_type": "stream",
       "stream": "stdout",
       "text": [
        "00:46 1.1Gb   66.7% Searching, 3.9% matched\r"
       ]
      },
      {
       "output_type": "stream",
       "stream": "stdout",
       "text": [
        "00:47 1.1Gb   68.7% Searching, 3.9% matched\r"
       ]
      },
      {
       "output_type": "stream",
       "stream": "stdout",
       "text": [
        "00:48 1.1Gb   70.2% Searching, 3.9% matched\r"
       ]
      },
      {
       "output_type": "stream",
       "stream": "stdout",
       "text": [
        "00:49 1.1Gb   72.0% Searching, 3.9% matched\r"
       ]
      },
      {
       "output_type": "stream",
       "stream": "stdout",
       "text": [
        "00:50 1.1Gb   73.7% Searching, 3.9% matched\r"
       ]
      },
      {
       "output_type": "stream",
       "stream": "stdout",
       "text": [
        "00:51 1.1Gb   75.4% Searching, 3.9% matched\r"
       ]
      },
      {
       "output_type": "stream",
       "stream": "stdout",
       "text": [
        "00:52 1.1Gb   77.1% Searching, 4.0% matched\r"
       ]
      },
      {
       "output_type": "stream",
       "stream": "stdout",
       "text": [
        "00:53 1.1Gb   78.5% Searching, 4.0% matched\r"
       ]
      },
      {
       "output_type": "stream",
       "stream": "stdout",
       "text": [
        "00:54 1.1Gb   80.5% Searching, 4.0% matched\r"
       ]
      },
      {
       "output_type": "stream",
       "stream": "stdout",
       "text": [
        "00:55 1.1Gb   82.1% Searching, 4.0% matched\r"
       ]
      },
      {
       "output_type": "stream",
       "stream": "stdout",
       "text": [
        "00:56 1.1Gb   83.7% Searching, 4.0% matched\r"
       ]
      },
      {
       "output_type": "stream",
       "stream": "stdout",
       "text": [
        "00:57 1.1Gb   85.7% Searching, 4.0% matched\r"
       ]
      },
      {
       "output_type": "stream",
       "stream": "stdout",
       "text": [
        "00:58 1.1Gb   87.5% Searching, 3.9% matched\r"
       ]
      },
      {
       "output_type": "stream",
       "stream": "stdout",
       "text": [
        "00:59 1.1Gb   90.6% Search"
       ]
      },
      {
       "output_type": "stream",
       "stream": "stdout",
       "text": [
        "ing, 3.9% matched\r"
       ]
      },
      {
       "output_type": "stream",
       "stream": "stdout",
       "text": [
        "01:00 1.1Gb   92.3% Searching, 3.9% matched\r"
       ]
      },
      {
       "output_type": "stream",
       "stream": "stdout",
       "text": [
        "01:01 1.1Gb   94.9% Searching, 3.9% matched\r"
       ]
      },
      {
       "output_type": "stream",
       "stream": "stdout",
       "text": [
        "01:02 1.1Gb   96.7% Searching, 3.9% matched\r"
       ]
      },
      {
       "output_type": "stream",
       "stream": "stdout",
       "text": [
        "01:03 1.1Gb   98.5% Searching, 3.9% matched\r"
       ]
      },
      {
       "output_type": "stream",
       "stream": "stdout",
       "text": [
        "01:03 1.1Gb  100.0% Searching, 3.9% matched\r",
        "\r\n"
       ]
      },
      {
       "output_type": "stream",
       "stream": "stdout",
       "text": [
        "usearch v7.0.1090_i86osx32, 4.0Gb RAM (15.0Gb total), 4 cores\r\n",
        "(C) Copyright 2013 Robert C. Edgar, all rights reserved.\r\n",
        "http://drive5.com/usearch\r\n",
        "\r\n",
        "Licensed to: sr320@uw.edu\r\n",
        "\r\n"
       ]
      },
      {
       "output_type": "stream",
       "stream": "stdout",
       "text": [
        "00:00 2.0Mb Reading /Volumes/Bay3/usearch/uniprot_sprot.udb\r\n"
       ]
      },
      {
       "output_type": "stream",
       "stream": "stdout",
       "text": [
        "00:03 1.1Gb Database loaded\r\n",
        "00:03 1.1Gb    0.1% Searching, 0.0% matched\r"
       ]
      },
      {
       "output_type": "stream",
       "stream": "stdout",
       "text": [
        "00:04 1.1Gb    2.0% Searching, 3.2% matched\r"
       ]
      },
      {
       "output_type": "stream",
       "stream": "stdout",
       "text": [
        "00:05 1.1Gb    3.3% Searching, 4.3% matched\r"
       ]
      },
      {
       "output_type": "stream",
       "stream": "stdout",
       "text": [
        "00:06 1.1Gb    5.7% Searching, 4.3% matched\r"
       ]
      },
      {
       "output_type": "stream",
       "stream": "stdout",
       "text": [
        "00:07 1.1Gb    8.0% Searching, 4.4% matched\r"
       ]
      },
      {
       "output_type": "stream",
       "stream": "stdout",
       "text": [
        "00:08 1.1Gb   10.0% Searching, 3.9% matched\r"
       ]
      },
      {
       "output_type": "stream",
       "stream": "stdout",
       "text": [
        "00:09 1.1Gb   11.7% Searching, 3.9% matched\r"
       ]
      },
      {
       "output_type": "stream",
       "stream": "stdout",
       "text": [
        "00:10 1.1Gb   13.8% Searching, 3.8% matched\r"
       ]
      },
      {
       "output_type": "stream",
       "stream": "stdout",
       "text": [
        "00:11 1.1Gb   16.2% Searching, 3.4% matched\r"
       ]
      },
      {
       "output_type": "stream",
       "stream": "stdout",
       "text": [
        "00:12 1.1Gb   17.4% Searching, 3.6% matched\r"
       ]
      },
      {
       "output_type": "stream",
       "stream": "stdout",
       "text": [
        "00:13 1.1Gb   18.7% Searching, 3.5% matched\r"
       ]
      },
      {
       "output_type": "stream",
       "stream": "stdout",
       "text": [
        "00:14 1.1Gb   20.9% Searching, 3.4% matched\r"
       ]
      },
      {
       "output_type": "stream",
       "stream": "stdout",
       "text": [
        "00:15 1.1Gb   22.5% Searching, 3.4% matched\r"
       ]
      },
      {
       "output_type": "stream",
       "stream": "stdout",
       "text": [
        "00:16 1.1Gb   24.1% Searching, 3.4% matched\r"
       ]
      },
      {
       "output_type": "stream",
       "stream": "stdout",
       "text": [
        "00:17 1.1Gb   26.0% Searching, 3.3% matched\r"
       ]
      },
      {
       "output_type": "stream",
       "stream": "stdout",
       "text": [
        "00:18 1.1Gb   28.7% Searching, 3.6% matched\r"
       ]
      },
      {
       "output_type": "stream",
       "stream": "stdout",
       "text": [
        "00:19 1.1Gb   30.6% Searching, 3.6% matched\r"
       ]
      },
      {
       "output_type": "stream",
       "stream": "stdout",
       "text": [
        "00:20 1.1Gb   32.3% Searching, 3.5% matched\r"
       ]
      },
      {
       "output_type": "stream",
       "stream": "stdout",
       "text": [
        "00:21 1.1Gb   34.1% Searching, 3.6% matched\r"
       ]
      },
      {
       "output_type": "stream",
       "stream": "stdout",
       "text": [
        "00:22 1.1Gb   35.5% Searching, 3.7% matched\r"
       ]
      },
      {
       "output_type": "stream",
       "stream": "stdout",
       "text": [
        "00:23 1.1Gb   36.8% Searching, 3.8% matched\r"
       ]
      },
      {
       "output_type": "stream",
       "stream": "stdout",
       "text": [
        "00:24 1.1Gb   37.9% Searching, 3.8% matched\r"
       ]
      },
      {
       "output_type": "stream",
       "stream": "stdout",
       "text": [
        "00:25 1.1Gb   39.8% Searching, 3.7% matched\r"
       ]
      },
      {
       "output_type": "stream",
       "stream": "stdout",
       "text": [
        "00:26 1.1Gb   42.0% Searching, 3.8% matched\r"
       ]
      },
      {
       "output_type": "stream",
       "stream": "stdout",
       "text": [
        "00:27 1.1Gb   43.9% Searching, 3.6% matched\r"
       ]
      },
      {
       "output_type": "stream",
       "stream": "stdout",
       "text": [
        "00:28 1.1Gb   45.9% Searching, 3.7% matched\r"
       ]
      },
      {
       "output_type": "stream",
       "stream": "stdout",
       "text": [
        "00:29 1.1Gb   48.0% Searching, 3.6% matched\r"
       ]
      },
      {
       "output_type": "stream",
       "stream": "stdout",
       "text": [
        "00:30 1.1Gb   50.0% Searching, 3.7% matched\r"
       ]
      },
      {
       "output_type": "stream",
       "stream": "stdout",
       "text": [
        "00:31 1.1Gb   51.9% Searching, 3.6% matched\r"
       ]
      },
      {
       "output_type": "stream",
       "stream": "stdout",
       "text": [
        "00:32 1.1Gb   54.6% Searching, 3.6% matched\r"
       ]
      },
      {
       "output_type": "stream",
       "stream": "stdout",
       "text": [
        "00:33 1.1Gb   56.9% Searching, 3.5% matched\r"
       ]
      },
      {
       "output_type": "stream",
       "stream": "stdout",
       "text": [
        "00:34 1.1Gb   59.2% Searching, 3.5% matched\r"
       ]
      },
      {
       "output_type": "stream",
       "stream": "stdout",
       "text": [
        "00:35 1.1Gb   60.9% Searching, 3.5% matched\r"
       ]
      },
      {
       "output_type": "stream",
       "stream": "stdout",
       "text": [
        "00:36 1.1Gb   63.3% Searching, 3.5% matched\r"
       ]
      },
      {
       "output_type": "stream",
       "stream": "stdout",
       "text": [
        "00:37 1.1Gb   65.6% Searching, 3.5% matched\r"
       ]
      },
      {
       "output_type": "stream",
       "stream": "stdout",
       "text": [
        "00:38 1.1Gb   68.4% Searching, 3.3% matched\r"
       ]
      },
      {
       "output_type": "stream",
       "stream": "stdout",
       "text": [
        "00:39 1.1Gb   69.9% Searching, 3.3% matched\r"
       ]
      },
      {
       "output_type": "stream",
       "stream": "stdout",
       "text": [
        "00:40 1.1Gb   72.2% Searching, 3.3% matched\r"
       ]
      },
      {
       "output_type": "stream",
       "stream": "stdout",
       "text": [
        "00:41 1.1Gb   74.2% Searching, 3.3% matched\r"
       ]
      },
      {
       "output_type": "stream",
       "stream": "stdout",
       "text": [
        "00:42 1.1Gb   76.1% Searching, 3.4% matched\r"
       ]
      },
      {
       "output_type": "stream",
       "stream": "stdout",
       "text": [
        "00:43 1.1Gb   78.4% Searching, 3.4% matched\r"
       ]
      },
      {
       "output_type": "stream",
       "stream": "stdout",
       "text": [
        "00:44 1.1Gb   81.0% Searching, 3.4% matched\r"
       ]
      },
      {
       "output_type": "stream",
       "stream": "stdout",
       "text": [
        "00:45 1.1Gb   83.0% Searching, 3.5% matched\r"
       ]
      },
      {
       "output_type": "stream",
       "stream": "stdout",
       "text": [
        "00:46 1.1Gb   85.1% Searching, 3.5% matched\r"
       ]
      },
      {
       "output_type": "stream",
       "stream": "stdout",
       "text": [
        "00:47 1.1Gb   87.7% Searching, 3.5% matched\r"
       ]
      },
      {
       "output_type": "stream",
       "stream": "stdout",
       "text": [
        "00:48 1.1Gb   90.3% Searching, 3.4% matched\r"
       ]
      },
      {
       "output_type": "stream",
       "stream": "stdout",
       "text": [
        "00:49 1.1Gb   92.7% Searching, 3.5% matched\r"
       ]
      },
      {
       "output_type": "stream",
       "stream": "stdout",
       "text": [
        "00:50 1.1Gb   94.4% Searching, 3.5% matched\r"
       ]
      },
      {
       "output_type": "stream",
       "stream": "stdout",
       "text": [
        "00:51 1.1Gb   97.4% Searching, 3.4% matched\r"
       ]
      },
      {
       "output_type": "stream",
       "stream": "stdout",
       "text": [
        "00:52 1.1Gb   99.1% Searching, 3.4% matched\r"
       ]
      },
      {
       "output_type": "stream",
       "stream": "stdout",
       "text": [
        "00:52 1.1Gb  100.0% Searching, 3.4% matched\r",
        "\r\n"
       ]
      },
      {
       "output_type": "stream",
       "stream": "stdout",
       "text": [
        "usearch v7.0.1090_i86osx32, 4.0Gb RAM (15.0Gb total), 4 cores\r\n",
        "(C) Copyright 2013 Robert C. Edgar, all rights reserved.\r\n",
        "http://drive5.com/usearch\r\n",
        "\r\n",
        "Licensed to: sr320@uw.edu\r\n",
        "\r\n"
       ]
      },
      {
       "output_type": "stream",
       "stream": "stdout",
       "text": [
        "00:00 1.8Mb Reading /Volumes/Bay3/usearch/uniprot_sprot.udb\r\n"
       ]
      },
      {
       "output_type": "stream",
       "stream": "stdout",
       "text": [
        "00:02 1.1Gb Database loaded\r\n"
       ]
      },
      {
       "output_type": "stream",
       "stream": "stdout",
       "text": [
        "00:02 1.1Gb    0.1% Searching, 0.0% matched\r"
       ]
      },
      {
       "output_type": "stream",
       "stream": "stdout",
       "text": [
        "00:03 1.1Gb    0.7% Searching, 0.0% matched\r"
       ]
      },
      {
       "output_type": "stream",
       "stream": "stdout",
       "text": [
        "00:04 1.1Gb    3.5% Searching, 2.5% matched\r"
       ]
      },
      {
       "output_type": "stream",
       "stream": "stdout",
       "text": [
        "00:05 1.1Gb    6.1% Searching, 3.8% matched\r"
       ]
      },
      {
       "output_type": "stream",
       "stream": "stdout",
       "text": [
        "00:06 1.1Gb    8.9% Searching, 3.7% matched\r"
       ]
      },
      {
       "output_type": "stream",
       "stream": "stdout",
       "text": [
        "00:07 1.1Gb   12.5% Searching, 3.9% matched\r"
       ]
      },
      {
       "output_type": "stream",
       "stream": "stdout",
       "text": [
        "00:08 1.1Gb   15.3% Searching, 3.7% matched\r"
       ]
      },
      {
       "output_type": "stream",
       "stream": "stdout",
       "text": [
        "00:09 1.1Gb   17.7% Searching, 3.6% matched\r"
       ]
      },
      {
       "output_type": "stream",
       "stream": "stdout",
       "text": [
        "00:10 1.1Gb   20.9% Searching, 3.6% matched\r"
       ]
      },
      {
       "output_type": "stream",
       "stream": "stdout",
       "text": [
        "00:11 1.1Gb   23.4% Searching, 3.6% matched\r"
       ]
      },
      {
       "output_type": "stream",
       "stream": "stdout",
       "text": [
        "00:12 1.1Gb   25.6% Searching, 3.7% matched\r"
       ]
      },
      {
       "output_type": "stream",
       "stream": "stdout",
       "text": [
        "00:13 1.1Gb   29.1% Sea"
       ]
      },
      {
       "output_type": "stream",
       "stream": "stdout",
       "text": [
        "rching, 3.5% matched\r"
       ]
      },
      {
       "output_type": "stream",
       "stream": "stdout",
       "text": [
        "00:14 1.1Gb   32.0% Searching, 3.5% matched\r"
       ]
      },
      {
       "output_type": "stream",
       "stream": "stdout",
       "text": [
        "00:15 1.1Gb   34.8% Searching, 4.0% matched\r"
       ]
      },
      {
       "output_type": "stream",
       "stream": "stdout",
       "text": [
        "00:16 1.1Gb   37.2% Searching, 3.9% matched\r"
       ]
      },
      {
       "output_type": "stream",
       "stream": "stdout",
       "text": [
        "00:17 1.1Gb   40.1% Searching, 3.8% matched\r"
       ]
      },
      {
       "output_type": "stream",
       "stream": "stdout",
       "text": [
        "00:18 1.1Gb   43.2% Searching, 3.8% matched\r"
       ]
      },
      {
       "output_type": "stream",
       "stream": "stdout",
       "text": [
        "00:19 1.1Gb   45.9% Searching, 3.7% matched\r"
       ]
      },
      {
       "output_type": "stream",
       "stream": "stdout",
       "text": [
        "00:20 1.1Gb   48.1% Searching, 3.8% matched\r"
       ]
      },
      {
       "output_type": "stream",
       "stream": "stdout",
       "text": [
        "00:21 1.1Gb   51.2% Searching, 3.9% matched\r"
       ]
      },
      {
       "output_type": "stream",
       "stream": "stdout",
       "text": [
        "00:22 1.1Gb   54.1% Searching, 3.9% matched\r"
       ]
      },
      {
       "output_type": "stream",
       "stream": "stdout",
       "text": [
        "00:23 1.1Gb   57.4% Searching, 4.0% matched\r"
       ]
      },
      {
       "output_type": "stream",
       "stream": "stdout",
       "text": [
        "00:24 1.1Gb   59.9% Searching, 3.9% matched\r"
       ]
      },
      {
       "output_type": "stream",
       "stream": "stdout",
       "text": [
        "00:25 1.1Gb   62.6% Searching, 3.9% matched\r"
       ]
      },
      {
       "output_type": "stream",
       "stream": "stdout",
       "text": [
        "00:26 1.1Gb   66.0% Searching, 4.1% matched\r"
       ]
      },
      {
       "output_type": "stream",
       "stream": "stdout",
       "text": [
        "00:27 1.1Gb   69.0% Searching, 4.0% matched\r"
       ]
      },
      {
       "output_type": "stream",
       "stream": "stdout",
       "text": [
        "00:28 1.1Gb   71.9% Searching, 4.0% matched\r"
       ]
      },
      {
       "output_type": "stream",
       "stream": "stdout",
       "text": [
        "00:29 1.1Gb   75.3% Searching, 4.0% matched\r"
       ]
      },
      {
       "output_type": "stream",
       "stream": "stdout",
       "text": [
        "00:30 1.1Gb   77.5% Searching, 4.0% matched\r"
       ]
      },
      {
       "output_type": "stream",
       "stream": "stdout",
       "text": [
        "00:31 1.1Gb   80.4% Searching, 4.0% matched\r"
       ]
      },
      {
       "output_type": "stream",
       "stream": "stdout",
       "text": [
        "00:32 1.1Gb   83.7% Searching, 4.0% matched\r"
       ]
      },
      {
       "output_type": "stream",
       "stream": "stdout",
       "text": [
        "00:33 1.1Gb   87.1% Searching, 3.9% matched\r"
       ]
      },
      {
       "output_type": "stream",
       "stream": "stdout",
       "text": [
        "00:34 1.1Gb   89.8% Searching, 3.9% matched\r"
       ]
      },
      {
       "output_type": "stream",
       "stream": "stdout",
       "text": [
        "00:35 1.1Gb   92.6% Searching, 3.8% matched\r"
       ]
      },
      {
       "output_type": "stream",
       "stream": "stdout",
       "text": [
        "00:36 1.1Gb   95.7% Searching, 3.8% matched\r"
       ]
      },
      {
       "output_type": "stream",
       "stream": "stdout",
       "text": [
        "00:37 1.1Gb   99.3% Searching, 3.8% matched\r"
       ]
      },
      {
       "output_type": "stream",
       "stream": "stdout",
       "text": [
        "00:37 1.1Gb  100.0% Searching, 3.8% matched\r",
        "\r\n"
       ]
      },
      {
       "output_type": "stream",
       "stream": "stdout",
       "text": [
        "usearch v7.0.1090_i86osx32, 4.0Gb RAM (15.0Gb total), 4 cores\r\n",
        "(C) Copyright 2013 Robert C. Edgar, all rights reserved.\r\n",
        "http://drive5.com/usearch\r\n",
        "\r\n",
        "Licensed to: sr320@uw.edu\r\n",
        "\r\n"
       ]
      },
      {
       "output_type": "stream",
       "stream": "stdout",
       "text": [
        "00:00 1.9Mb Reading /Volumes/Bay3/usearch/uniprot_sprot.udb\r\n"
       ]
      },
      {
       "output_type": "stream",
       "stream": "stdout",
       "text": [
        "00:02 1.1Gb Database loaded\r\n",
        "00:02 1.1Gb    0.1% Searching, 0.0% matched\r"
       ]
      },
      {
       "output_type": "stream",
       "stream": "stdout",
       "text": [
        "00:03 1.1Gb    0.8% Searching, 0.0% matched\r"
       ]
      },
      {
       "output_type": "stream",
       "stream": "stdout",
       "text": [
        "00:04 1.1Gb    3.1% Searching, 3.0% matched\r"
       ]
      },
      {
       "output_type": "stream",
       "stream": "stdout",
       "text": [
        "00:05 1.1Gb    5.6% Searchin"
       ]
      },
      {
       "output_type": "stream",
       "stream": "stdout",
       "text": [
        "g, 3.0% matched\r"
       ]
      },
      {
       "output_type": "stream",
       "stream": "stdout",
       "text": [
        "00:06 1.1Gb    8.3% Searching, 3.3% matched\r"
       ]
      },
      {
       "output_type": "stream",
       "stream": "stdout",
       "text": [
        "00:07 1.1Gb   11.2% Searching, 3.3% matched\r"
       ]
      },
      {
       "output_type": "stream",
       "stream": "stdout",
       "text": [
        "00:08 1.1Gb   14.2% Searching, 3.2% matched\r"
       ]
      },
      {
       "output_type": "stream",
       "stream": "stdout",
       "text": [
        "00:09 1.1Gb   16.8% Searching, 3.2% matched\r"
       ]
      },
      {
       "output_type": "stream",
       "stream": "stdout",
       "text": [
        "00:10 1.1Gb   19.6% Searching, 3.2% matched\r"
       ]
      },
      {
       "output_type": "stream",
       "stream": "stdout",
       "text": [
        "00:11 1.1Gb   21.9% Searching, 3.2% matched\r"
       ]
      },
      {
       "output_type": "stream",
       "stream": "stdout",
       "text": [
        "00:12 1.1Gb   23.5% Searching, 3.2% matched\r"
       ]
      },
      {
       "output_type": "stream",
       "stream": "stdout",
       "text": [
        "00:13 1.1Gb   26.0% Searching, 3.3% matched\r"
       ]
      },
      {
       "output_type": "stream",
       "stream": "stdout",
       "text": [
        "00:14 1.1Gb   28.7% Searching, 3.3% matched\r"
       ]
      },
      {
       "output_type": "stream",
       "stream": "stdout",
       "text": [
        "00:15 1.1Gb   31.0% Searching, 3.4% matched\r"
       ]
      },
      {
       "output_type": "stream",
       "stream": "stdout",
       "text": [
        "00:16 1.1Gb   34.6% Searching, 3.2% matched\r"
       ]
      },
      {
       "output_type": "stream",
       "stream": "stdout",
       "text": [
        "00:17 1.1Gb   37.0% Searching, 3.2% matched\r"
       ]
      },
      {
       "output_type": "stream",
       "stream": "stdout",
       "text": [
        "00:18 1.1Gb   39.6% Searching, 3.2% matched\r"
       ]
      },
      {
       "output_type": "stream",
       "stream": "stdout",
       "text": [
        "00:19 1.1Gb   42.3% Searching, 3.3% matched\r"
       ]
      },
      {
       "output_type": "stream",
       "stream": "stdout",
       "text": [
        "00:20 1.1Gb   46.7% Searching, 3.4% matched\r"
       ]
      },
      {
       "output_type": "stream",
       "stream": "stdout",
       "text": [
        "00:21 1.1Gb   48.0% Searching, 3.5% matched\r"
       ]
      },
      {
       "output_type": "stream",
       "stream": "stdout",
       "text": [
        "00:22 1.1Gb   50.9% Searching, 3.5% matched\r"
       ]
      },
      {
       "output_type": "stream",
       "stream": "stdout",
       "text": [
        "00:23 1.1Gb   53.3% Searching, 3.4% matched\r"
       ]
      },
      {
       "output_type": "stream",
       "stream": "stdout",
       "text": [
        "00:24 1.1Gb   56.3% Searching, 3.4% matched\r"
       ]
      },
      {
       "output_type": "stream",
       "stream": "stdout",
       "text": [
        "00:25 1.1Gb   58.0% Searching, 3.5% matched\r"
       ]
      },
      {
       "output_type": "stream",
       "stream": "stdout",
       "text": [
        "00:26 1.1Gb   60.7% Searching, 3.5% matched\r"
       ]
      },
      {
       "output_type": "stream",
       "stream": "stdout",
       "text": [
        "00:27 1.1Gb   63.5% Searching, 3.4% matched\r"
       ]
      },
      {
       "output_type": "stream",
       "stream": "stdout",
       "text": [
        "00:28 1.1Gb   66.3% Searching, 3.5% matched\r"
       ]
      },
      {
       "output_type": "stream",
       "stream": "stdout",
       "text": [
        "00:29 1.1Gb   69.4% Searching, 3.6% matched\r"
       ]
      },
      {
       "output_type": "stream",
       "stream": "stdout",
       "text": [
        "00:30 1.1Gb   71.7% Searching, 3.6% matched\r"
       ]
      },
      {
       "output_type": "stream",
       "stream": "stdout",
       "text": [
        "00:31 1.1Gb   74.9% Searching, 3.5% matched\r"
       ]
      },
      {
       "output_type": "stream",
       "stream": "stdout",
       "text": [
        "00:32 1.1Gb   78.8% Searching, 3.5% matched\r"
       ]
      },
      {
       "output_type": "stream",
       "stream": "stdout",
       "text": [
        "00:33 1.1Gb   80.7% Searching, 3.5% matched\r"
       ]
      },
      {
       "output_type": "stream",
       "stream": "stdout",
       "text": [
        "00:34 1.1Gb   83.7% Searching, 3.5% matched\r"
       ]
      },
      {
       "output_type": "stream",
       "stream": "stdout",
       "text": [
        "00:35 1.1Gb   85.9% Searching, 3.5% matched\r"
       ]
      },
      {
       "output_type": "stream",
       "stream": "stdout",
       "text": [
        "00:36 1.1Gb   88.3% Searching, 3.6% matched\r"
       ]
      },
      {
       "output_type": "stream",
       "stream": "stdout",
       "text": [
        "00:37 1.1Gb   90.1% Searching, 3.6% matched\r"
       ]
      },
      {
       "output_type": "stream",
       "stream": "stdout",
       "text": [
        "00:38 1.1Gb   93.2% Searching, 3.5% matched\r"
       ]
      },
      {
       "output_type": "stream",
       "stream": "stdout",
       "text": [
        "00:39 1.1Gb   95.3% Searching, 3.6% matched\r"
       ]
      },
      {
       "output_type": "stream",
       "stream": "stdout",
       "text": [
        "00:40 1.1Gb   98.4% Searching, 3.6% matched\r"
       ]
      },
      {
       "output_type": "stream",
       "stream": "stdout",
       "text": [
        "00:41 1.1Gb   99.8% Searching, 3.6% matched\r",
        "00:41 1.1Gb  100.0% Searching, 3.6% matched\r",
        "\r\n"
       ]
      },
      {
       "output_type": "stream",
       "stream": "stdout",
       "text": [
        "usearch v7.0.1090_i86osx32, 4.0Gb RAM (15.0Gb total), 4 cores\r\n",
        "(C) Copyright 2013 Robert C. Edgar, all rights reserved.\r\n",
        "http://drive5.com/usearch\r\n",
        "\r\n",
        "Licensed to: sr320@uw.edu\r\n",
        "\r\n"
       ]
      },
      {
       "output_type": "stream",
       "stream": "stdout",
       "text": [
        "00:00 2.1Mb Reading /Volumes/Bay3/usearch/uniprot_sprot.udb\r\n"
       ]
      },
      {
       "output_type": "stream",
       "stream": "stdout",
       "text": [
        "00:02 1.1Gb Database loaded\r\n",
        "00:02 1.1Gb    0.1% Searching, 0.0% matched\r"
       ]
      },
      {
       "output_type": "stream",
       "stream": "stdout",
       "text": [
        "00:03 1.1Gb    1.1% Searching, 1.2% matched\r"
       ]
      },
      {
       "output_type": "stream",
       "stream": "stdout",
       "text": [
        "00:04 1.1Gb    3.1% Searching, 2.7% matched\r"
       ]
      },
      {
       "output_type": "stream",
       "stream": "stdout",
       "text": [
        "00:05 1.1Gb    5.0% Searching, 4.3% matched\r"
       ]
      },
      {
       "output_type": "stream",
       "stream": "stdout",
       "text": [
        "00:06 1.1Gb    6.0% Searching, 4.1% matched\r"
       ]
      },
      {
       "output_type": "stream",
       "stream": "stdout",
       "text": [
        "00:07 1.1Gb    7.9% Searching, 4.3% matched\r"
       ]
      },
      {
       "output_type": "stream",
       "stream": "stdout",
       "text": [
        "00:08 1.1Gb   10.5% Searching, 4.0% matched\r"
       ]
      },
      {
       "output_type": "stream",
       "stream": "stdout",
       "text": [
        "00:09 1.1Gb   12.9% Searching, 3.6% matched\r"
       ]
      },
      {
       "output_type": "stream",
       "stream": "stdout",
       "text": [
        "00:10 1.1Gb   15.4% Searching, 3.8% matched\r"
       ]
      },
      {
       "output_type": "stream",
       "stream": "stdout",
       "text": [
        "00:11 1.1Gb   18.1% Searching, 4.2% matched\r"
       ]
      },
      {
       "output_type": "stream",
       "stream": "stdout",
       "text": [
        "00:12 1.1Gb   20.1% Searching, 4.2% matched\r"
       ]
      },
      {
       "output_type": "stream",
       "stream": "stdout",
       "text": [
        "00:13 1.1Gb   22.7% Searching, 4.0% matched\r"
       ]
      },
      {
       "output_type": "stream",
       "stream": "stdout",
       "text": [
        "00:14 1.1Gb   24.6% Searching, 3.9% matched\r"
       ]
      },
      {
       "output_type": "stream",
       "stream": "stdout",
       "text": [
        "00:15 1.1Gb   26.9% Searching, 3.8% matched\r"
       ]
      },
      {
       "output_type": "stream",
       "stream": "stdout",
       "text": [
        "00:16 1.1Gb   28.9% Searching, 3.8% matched\r"
       ]
      },
      {
       "output_type": "stream",
       "stream": "stdout",
       "text": [
        "00:17 1.1Gb   31.1% Searching, 3.8% matched\r"
       ]
      },
      {
       "output_type": "stream",
       "stream": "stdout",
       "text": [
        "00:18 1.1Gb   33.5% Searching, 3.9% matched\r"
       ]
      },
      {
       "output_type": "stream",
       "stream": "stdout",
       "text": [
        "00:19 1.1Gb   36.0% Searching, 3.7% matched\r"
       ]
      },
      {
       "output_type": "stream",
       "stream": "stdout",
       "text": [
        "00:20 1.1Gb   38.2% Searching, 3.8% matched\r"
       ]
      },
      {
       "output_type": "stream",
       "stream": "stdout",
       "text": [
        "00:21 1.1Gb   39.7% Searching, 3.8% matched\r"
       ]
      },
      {
       "output_type": "stream",
       "stream": "stdout",
       "text": [
        "00:22 1.1Gb   42.3% Searching, 3.7% matched\r"
       ]
      },
      {
       "output_type": "stream",
       "stream": "stdout",
       "text": [
        "00:23 1.1Gb   44.3% Searching, 3.9% matched\r"
       ]
      },
      {
       "output_type": "stream",
       "stream": "stdout",
       "text": [
        "00:24 1.1Gb   46.1% Searching, 3.8% matched\r"
       ]
      },
      {
       "output_type": "stream",
       "stream": "stdout",
       "text": [
        "00:25 1.1Gb   48.1% Searching, 3.8% matched\r"
       ]
      },
      {
       "output_type": "stream",
       "stream": "stdout",
       "text": [
        "00:26 1.1Gb   49.7% Searching, 3.8% matched\r"
       ]
      },
      {
       "output_type": "stream",
       "stream": "stdout",
       "text": [
        "00:27 1.1Gb   51.6% Searching, 3.8% matched\r"
       ]
      },
      {
       "output_type": "stream",
       "stream": "stdout",
       "text": [
        "00:28 1.1Gb   52.7% Searching, 3.8% matched\r"
       ]
      },
      {
       "output_type": "stream",
       "stream": "stdout",
       "text": [
        "00:29 1.1Gb   55.7% Searching, 3.7% matched\r"
       ]
      },
      {
       "output_type": "stream",
       "stream": "stdout",
       "text": [
        "00:30 1.1Gb   58.1% Searching, 3.7% matched\r"
       ]
      },
      {
       "output_type": "stream",
       "stream": "stdout",
       "text": [
        "00:31 1.1Gb   59.9% Searching, 3.7% matched\r"
       ]
      },
      {
       "output_type": "stream",
       "stream": "stdout",
       "text": [
        "00:32 1.1Gb   61.7% Searching, 3.7% matched\r"
       ]
      },
      {
       "output_type": "stream",
       "stream": "stdout",
       "text": [
        "00:33 1.1Gb   63.5% Searching, 3.7% matched\r"
       ]
      },
      {
       "output_type": "stream",
       "stream": "stdout",
       "text": [
        "00:34 1.1Gb   65.2% Searching, 3.7% matched\r"
       ]
      },
      {
       "output_type": "stream",
       "stream": "stdout",
       "text": [
        "00:35 1.1Gb   66.8% Searching, 3.7% matched\r"
       ]
      },
      {
       "output_type": "stream",
       "stream": "stdout",
       "text": [
        "00:36 1.1Gb   68.8% Searching, 3.7% matched\r"
       ]
      },
      {
       "output_type": "stream",
       "stream": "stdout",
       "text": [
        "00:37 1.1Gb   71.1% Searching, 3.7% matched\r"
       ]
      },
      {
       "output_type": "stream",
       "stream": "stdout",
       "text": [
        "00:38 1.1Gb   73.4% Searching, 3.7% matched\r"
       ]
      },
      {
       "output_type": "stream",
       "stream": "stdout",
       "text": [
        "00:39 1.1Gb   75.0% Searching, 3.6% matched\r"
       ]
      },
      {
       "output_type": "stream",
       "stream": "stdout",
       "text": [
        "00:40 1.1Gb   77.6% Searching, 3.6% matched\r"
       ]
      },
      {
       "output_type": "stream",
       "stream": "stdout",
       "text": [
        "00:41 1.1Gb   79.4% Searching, 3.6% matched\r"
       ]
      },
      {
       "output_type": "stream",
       "stream": "stdout",
       "text": [
        "00:42 1.1Gb   81.1% Searching, 3.7% matched\r"
       ]
      },
      {
       "output_type": "stream",
       "stream": "stdout",
       "text": [
        "00:43 1.1Gb   83.1% Searching, 3.7% matched\r"
       ]
      },
      {
       "output_type": "stream",
       "stream": "stdout",
       "text": [
        "00:44 1.1Gb   84.9% Searching, 3.7% matched\r"
       ]
      },
      {
       "output_type": "stream",
       "stream": "stdout",
       "text": [
        "00:45 1.1Gb   86.5% Searching, 3.7% matched\r"
       ]
      },
      {
       "output_type": "stream",
       "stream": "stdout",
       "text": [
        "00:46 1.1Gb   88.5% Searching, 3.7% matched\r"
       ]
      },
      {
       "output_type": "stream",
       "stream": "stdout",
       "text": [
        "00:47 1.1Gb   90.3% Searching, 3.7% matched\r"
       ]
      },
      {
       "output_type": "stream",
       "stream": "stdout",
       "text": [
        "00:48 1.1Gb   92.8% Searching, 3.7% matched\r"
       ]
      },
      {
       "output_type": "stream",
       "stream": "stdout",
       "text": [
        "00:49 1.1Gb   94.1% Searching, 3.7% matched\r"
       ]
      },
      {
       "output_type": "stream",
       "stream": "stdout",
       "text": [
        "00:50 1.1Gb   95.9% Searching, 3.7% matched\r"
       ]
      },
      {
       "output_type": "stream",
       "stream": "stdout",
       "text": [
        "00:51 1.1Gb   98.1% Searching, 3.7% matched\r"
       ]
      },
      {
       "output_type": "stream",
       "stream": "stdout",
       "text": [
        "00:51 1.1Gb  100.0% Searching, 3.7% matched\r",
        "\r\n"
       ]
      },
      {
       "output_type": "stream",
       "stream": "stdout",
       "text": [
        "usearch v7.0.1090_i86osx32, 4.0Gb RAM (15.0Gb total), 4 cores\r\n",
        "(C) Copyright 2013 Robert C. Edgar, all rights reserved.\r\n",
        "http://drive5.com/usearch\r\n",
        "\r\n",
        "Licensed to: sr320@uw.edu\r\n",
        "\r\n"
       ]
      },
      {
       "output_type": "stream",
       "stream": "stdout",
       "text": [
        "00:00 2.1Mb Reading /Volumes/Bay3/usearch/uniprot_sprot.udb\r\n"
       ]
      },
      {
       "output_type": "stream",
       "stream": "stdout",
       "text": [
        "00:02 1.1Gb Database loaded\r\n",
        "00:02 1.1Gb "
       ]
      },
      {
       "output_type": "stream",
       "stream": "stdout",
       "text": [
        "   0.1% Searching, 0.0% matched\r"
       ]
      },
      {
       "output_type": "stream",
       "stream": "stdout",
       "text": [
        "00:03 1.1Gb    1.9% Searching, 4.5% matched\r"
       ]
      },
      {
       "output_type": "stream",
       "stream": "stdout",
       "text": [
        "00:04 1.1Gb    4.1% Searching, 3.8% matched\r"
       ]
      },
      {
       "output_type": "stream",
       "stream": "stdout",
       "text": [
        "00:05 1.1Gb    5.9% Searching, 3.7% matched\r"
       ]
      },
      {
       "output_type": "stream",
       "stream": "stdout",
       "text": [
        "00:06 1.1Gb    8.0% Searching, 4.0% matched\r"
       ]
      },
      {
       "output_type": "stream",
       "stream": "stdout",
       "text": [
        "00:07 1.1Gb   10.8% Searching, 3.3% matched\r"
       ]
      },
      {
       "output_type": "stream",
       "stream": "stdout",
       "text": [
        "00:08 1.1Gb   13.2% Searching, 3.3% matched\r"
       ]
      },
      {
       "output_type": "stream",
       "stream": "stdout",
       "text": [
        "00:09 1.1Gb   14.9% Searching, 3.6% matched\r"
       ]
      },
      {
       "output_type": "stream",
       "stream": "stdout",
       "text": [
        "00:10 1.1Gb   16.4% Searching, 3.5% matched\r"
       ]
      },
      {
       "output_type": "stream",
       "stream": "stdout",
       "text": [
        "00:11 1.1Gb   18.5% Searching, 3.7% matched\r"
       ]
      },
      {
       "output_type": "stream",
       "stream": "stdout",
       "text": [
        "00:12 1.1Gb   20.1% Searching, 3.6% matched\r"
       ]
      },
      {
       "output_type": "stream",
       "stream": "stdout",
       "text": [
        "00:13 1.1Gb   22.3% Searching, 3.6% matched\r"
       ]
      },
      {
       "output_type": "stream",
       "stream": "stdout",
       "text": [
        "00:14 1.1Gb   24.3% Searching, 3.5% matched\r"
       ]
      },
      {
       "output_type": "stream",
       "stream": "stdout",
       "text": [
        "00:15 1.1Gb   26.7% Searching, 3.5% matched\r"
       ]
      },
      {
       "output_type": "stream",
       "stream": "stdout",
       "text": [
        "00:16 1.1Gb   29.4% Searching, 3.6% matched\r"
       ]
      },
      {
       "output_type": "stream",
       "stream": "stdout",
       "text": [
        "00:17 1.1Gb   31.3% Searching, 3.5% matched\r"
       ]
      },
      {
       "output_type": "stream",
       "stream": "stdout",
       "text": [
        "00:18 1.1Gb   33.6% Searching, 3.6% matched\r"
       ]
      },
      {
       "output_type": "stream",
       "stream": "stdout",
       "text": [
        "00:19 1.1Gb   35.5% Searching, 3.7% matched\r"
       ]
      },
      {
       "output_type": "stream",
       "stream": "stdout",
       "text": [
        "00:20 1.1Gb   37.5% Searching, 3.7% matched\r"
       ]
      },
      {
       "output_type": "stream",
       "stream": "stdout",
       "text": [
        "00:21 1.1Gb   39.1% Searching, 3.8% matched\r"
       ]
      },
      {
       "output_type": "stream",
       "stream": "stdout",
       "text": [
        "00:22 1.1Gb   41.6% Searching, 3.8% matched\r"
       ]
      },
      {
       "output_type": "stream",
       "stream": "stdout",
       "text": [
        "00:23 1.1Gb   43.2% Searching, 3.8% matched\r"
       ]
      },
      {
       "output_type": "stream",
       "stream": "stdout",
       "text": [
        "00:24 1.1Gb   45.5% Searching, 3.9% matched\r"
       ]
      },
      {
       "output_type": "stream",
       "stream": "stdout",
       "text": [
        "00:25 1.1Gb   47.3% Searching, 4.0% matched\r"
       ]
      },
      {
       "output_type": "stream",
       "stream": "stdout",
       "text": [
        "00:26 1.1Gb   49.6% Searching, 3.9% matched\r"
       ]
      },
      {
       "output_type": "stream",
       "stream": "stdout",
       "text": [
        "00:27 1.1Gb   51.8% Searching, 3.9% matched\r"
       ]
      },
      {
       "output_type": "stream",
       "stream": "stdout",
       "text": [
        "00:28 1.1Gb   54.5% Searching, 3.8% matched\r"
       ]
      },
      {
       "output_type": "stream",
       "stream": "stdout",
       "text": [
        "00:29 1.1Gb   57.2% Searching, 3.8% matched\r"
       ]
      },
      {
       "output_type": "stream",
       "stream": "stdout",
       "text": [
        "00:30 1.1Gb   59.4% Searching, 3.9% matched\r"
       ]
      },
      {
       "output_type": "stream",
       "stream": "stdout",
       "text": [
        "00:31 1.1Gb   61.7% Searchi"
       ]
      },
      {
       "output_type": "stream",
       "stream": "stdout",
       "text": [
        "ng, 3.8% matched\r"
       ]
      },
      {
       "output_type": "stream",
       "stream": "stdout",
       "text": [
        "00:32 1.1Gb   63.5% Searching, 3.8% matched\r"
       ]
      },
      {
       "output_type": "stream",
       "stream": "stdout",
       "text": [
        "00:33 1.1Gb   65.9% Searching, 3.8% matched\r"
       ]
      },
      {
       "output_type": "stream",
       "stream": "stdout",
       "text": [
        "00:34 1.1Gb   67.2% Searching, 3.8% matched\r"
       ]
      },
      {
       "output_type": "stream",
       "stream": "stdout",
       "text": [
        "00:35 1.1Gb   69.3% Searching, 3.8% matched\r"
       ]
      },
      {
       "output_type": "stream",
       "stream": "stdout",
       "text": [
        "00:36 1.1Gb   71.4% Searching, 3.8% matched\r"
       ]
      },
      {
       "output_type": "stream",
       "stream": "stdout",
       "text": [
        "00:37 1.1Gb   73.5% Searching, 3.8% matched\r"
       ]
      },
      {
       "output_type": "stream",
       "stream": "stdout",
       "text": [
        "00:38 1.1Gb   75.5% Searching, 3.8% matched\r"
       ]
      },
      {
       "output_type": "stream",
       "stream": "stdout",
       "text": [
        "00:39 1.1Gb   78.3% Searching, 3.8% matched\r"
       ]
      },
      {
       "output_type": "stream",
       "stream": "stdout",
       "text": [
        "00:40 1.1Gb   80.5% Searching, 3.7% matched\r"
       ]
      },
      {
       "output_type": "stream",
       "stream": "stdout",
       "text": [
        "00:41 1.1Gb   82.6% Searching, 3.7% matched\r"
       ]
      },
      {
       "output_type": "stream",
       "stream": "stdout",
       "text": [
        "00:42 1.1Gb   84.9% Searching, 3.6% matched\r"
       ]
      },
      {
       "output_type": "stream",
       "stream": "stdout",
       "text": [
        "00:43 1.1Gb   86.6% Searching, 3.7% matched\r"
       ]
      },
      {
       "output_type": "stream",
       "stream": "stdout",
       "text": [
        "00:44 1.1Gb   88.7% Searching, 3.7% matched\r"
       ]
      },
      {
       "output_type": "stream",
       "stream": "stdout",
       "text": [
        "usearch(57251,0xb0081000) malloc: *** mmap(size=1123725312) failed (error code=12)\r\n",
        "*** error: can't allocate region\r\n",
        "*** set a breakpoint in malloc_error_break to debug\r\n",
        "\r\n",
        "Out of memory mymalloc(1123724480), curr 1.07e+09 bytes\r\n",
        "\r\n",
        "myutils.cpp(2212): \r\n",
        "\r\n",
        "usearch -ublast cgigas.part-37.fa -db /Volumes/Bay3/usearch/uniprot_sprot.udb -evalue 1e-5 -accel 0.8 -top_hits_only -maxhits 1 -blast6out /Volumes/web/cnidarian/cgigas8_cgigas.part-37.fa_ublast_sprot.b6\r\n",
        "\r\n",
        "---Fatal error---\r\n",
        "Out of memory, mymalloc(1123724480), curr 1.07e+09 bytes\r\n",
        "\r\n"
       ]
      },
      {
       "output_type": "stream",
       "stream": "stdout",
       "text": [
        "usearch v7.0.1090_i86osx32, 4.0Gb RAM (15.0Gb total), 4 cores\r\n",
        "(C) Copyright 2013 Robert C. Edgar, all rights reserved.\r\n",
        "http://drive5.com/usearch\r\n",
        "\r\n",
        "Licensed to: sr320@uw.edu\r\n",
        "\r\n"
       ]
      },
      {
       "output_type": "stream",
       "stream": "stdout",
       "text": [
        "00:00 1.9Mb Reading /Volumes/Bay3/usearch/uniprot_sprot.udb\r\n"
       ]
      },
      {
       "output_type": "stream",
       "stream": "stdout",
       "text": [
        "00:02 1.1Gb Database loaded\r\n",
        "00:02 1.1Gb    0.1% Searching, 0.0% matched\r"
       ]
      },
      {
       "output_type": "stream",
       "stream": "stdout",
       "text": [
        "00:03 1.1Gb    1.5% Searching, 4.8% matched\r"
       ]
      },
      {
       "output_type": "stream",
       "stream": "stdout",
       "text": [
        "00:04 1.1Gb    3.6% Searching, 4.5% matched\r"
       ]
      },
      {
       "output_type": "stream",
       "stream": "stdout",
       "text": [
        "00:05 1.1Gb    6.0% Searching, 3.3% matched\r"
       ]
      },
      {
       "output_type": "stream",
       "stream": "stdout",
       "text": [
        "00:06 1.1Gb    8.7% Searching, 2.9% matched\r"
       ]
      },
      {
       "output_type": "stream",
       "stream": "stdout",
       "text": [
        "00:07 1.1Gb   11.6% Searching, 3.2% matched\r"
       ]
      },
      {
       "output_type": "stream",
       "stream": "stdout",
       "text": [
        "00:08 1.1Gb   14.1% Searching, 3.4% matched\r"
       ]
      },
      {
       "output_type": "stream",
       "stream": "stdout",
       "text": [
        "00:09 1.1Gb   16.4% Searching, 3.5% matched\r"
       ]
      },
      {
       "output_type": "stream",
       "stream": "stdout",
       "text": [
        "00:10 1.1Gb   18.7% Searching, 3.4% matched\r"
       ]
      },
      {
       "output_type": "stream",
       "stream": "stdout",
       "text": [
        "00:11 1.1Gb   20.8% Searching, 3.6% matched\r"
       ]
      },
      {
       "output_type": "stream",
       "stream": "stdout",
       "text": [
        "00:12 1.1Gb   23.3% Searching, 3.7% matched\r"
       ]
      },
      {
       "output_type": "stream",
       "stream": "stdout",
       "text": [
        "00:13 1.1Gb   25.8% Searching, 3.6% matched\r"
       ]
      },
      {
       "output_type": "stream",
       "stream": "stdout",
       "text": [
        "00:14 1.1Gb   28.3% Searching, 3.6% matched\r"
       ]
      },
      {
       "output_type": "stream",
       "stream": "stdout",
       "text": [
        "00:15 1.1Gb   31.6% Searching, 3.6% matched\r"
       ]
      },
      {
       "output_type": "stream",
       "stream": "stdout",
       "text": [
        "00:16 1.1Gb   34.7% Searching, 3.5% matched\r"
       ]
      },
      {
       "output_type": "stream",
       "stream": "stdout",
       "text": [
        "00:17 1.1Gb   36.2% Searching, 3.6% matched\r"
       ]
      },
      {
       "output_type": "stream",
       "stream": "stdout",
       "text": [
        "00:18 1.1Gb   39.2% Searching, 3.4% matched\r"
       ]
      },
      {
       "output_type": "stream",
       "stream": "stdout",
       "text": [
        "usearch(57744,0xb0103000) malloc: *** mmap(size=1182121984) failed (error code=12)\r\n",
        "*** error: can't allocate region\r\n",
        "*** set a breakpoint in malloc_error_break to debug\r\n",
        "\r\n",
        "Out of memory mymalloc(1182121920), curr 1.07e+09 bytes\r\n",
        "\r\n",
        "myutils.cpp(2212): \r\n",
        "\r\n",
        "usearch -ublast cgigas.part-38.fa -db /Volumes/Bay3/usearch/uniprot_sprot.udb -evalue 1e-5 -accel 0.8 -top_hits_only -maxhits 1 -blast6out /Volumes/web/cnidarian/cgigas8_cgigas.part-38.fa_ublast_sprot.b6\r\n",
        "\r\n",
        "---Fatal error---\r\n",
        "Out of memory, mymalloc(1182121920), curr 1.07e+09 bytes\r\n",
        "\r\n"
       ]
      },
      {
       "output_type": "stream",
       "stream": "stdout",
       "text": [
        "usearch v7.0.1090_i86osx32, 4.0Gb RAM (15.0Gb total), 4 cores\r\n",
        "(C) Copyright 2013 Robert C. Edgar, all rights reserved.\r\n",
        "http://drive5.com/usearch\r\n",
        "\r\n",
        "Licensed to: sr320@uw.edu\r\n",
        "\r\n"
       ]
      },
      {
       "output_type": "stream",
       "stream": "stdout",
       "text": [
        "00:00 1.7Mb Reading /Volumes/Bay3/usearch/uniprot_sprot.udb\r\n"
       ]
      },
      {
       "output_type": "stream",
       "stream": "stdout",
       "text": [
        "00:02 1.1Gb Database loaded\r\n",
        "00:02 1.1Gb    0.1% Searching, 0.0% matched\r"
       ]
      },
      {
       "output_type": "stream",
       "stream": "stdout",
       "text": [
        "usearch(57931,0xb0185000) malloc: *** mmap(size=1180405760) failed (error code=12)\r\n",
        "*** error: can't allocate region\r\n",
        "*** set a breakpoint in malloc_error_break to debug\r\n",
        "\r\n",
        "Out of memory mymalloc(1180403445), curr 1.06e+09 bytes\r\n",
        "\r\n",
        "myutils.cpp(2212): \r\n",
        "\r\n",
        "usearch -ublast cgigas.part-39.fa -db /Volumes/Bay3/usearch/uniprot_sprot.udb -evalue 1e-5 -accel 0.8 -top_hits_only -maxhits 1 -blast6out /Volumes/web/cnidarian/cgigas8_cgigas.part-39.fa_ublast_sprot.b6\r\n",
        "\r\n",
        "---Fatal error---\r\n",
        "Out of memory, mymalloc(1180403445), curr 1.06e+09 bytes\r\n",
        "\r\n"
       ]
      },
      {
       "output_type": "stream",
       "stream": "stdout",
       "text": [
        "usearch v7.0.1090_i86osx32, 4.0Gb RAM (15.0Gb total), 4 cores\r\n",
        "(C) Copyright 2013 Robert C. Edgar, all rights reserved.\r\n",
        "http://drive5.com/usearch\r\n",
        "\r\n",
        "Licensed to: sr320@uw.edu\r\n",
        "\r\n",
        "00:00 2.0Mb Reading /Volumes/Bay3/usearch/uniprot_sprot.udb\r\n"
       ]
      },
      {
       "output_type": "stream",
       "stream": "stdout",
       "text": [
        "00:02 1.1Gb Database loaded\r\n",
        "00:02 1.1Gb    0.1% Searching, 0.0% matched\r"
       ]
      },
      {
       "output_type": "stream",
       "stream": "stdout",
       "text": [
        "00:03 1.1Gb    2.1% Searching, 1.6% matched\r"
       ]
      },
      {
       "output_type": "stream",
       "stream": "stdout",
       "text": [
        "00:04 1.1Gb    4.2% Searching, 2.2% matched\r"
       ]
      },
      {
       "output_type": "stream",
       "stream": "stdout",
       "text": [
        "00:05 1.1Gb    6.4% Searching, 2.6% matched\r"
       ]
      },
      {
       "output_type": "stream",
       "stream": "stdout",
       "text": [
        "00:06 1.1Gb    8.5% Searching, 2.8% matched\r"
       ]
      },
      {
       "output_type": "stream",
       "stream": "stdout",
       "text": [
        "00:07 1.1Gb   10.7% Searching, 3.1% matched\r"
       ]
      },
      {
       "output_type": "stream",
       "stream": "stdout",
       "text": [
        "00:08 1.1Gb   13.3% Searching, 3.2% matched\r"
       ]
      },
      {
       "output_type": "stream",
       "stream": "stdout",
       "text": [
        "00:09 1.1Gb   15.9% Searching, 3.3% matched\r"
       ]
      },
      {
       "output_type": "stream",
       "stream": "stdout",
       "text": [
        "00:10 1.1Gb   17.8% Searching, 3.3% matched\r"
       ]
      },
      {
       "output_type": "stream",
       "stream": "stdout",
       "text": [
        "00:11 1.1Gb   20.2% Searching, 3.5% matched\r"
       ]
      },
      {
       "output_type": "stream",
       "stream": "stdout",
       "text": [
        "00:12 1.1Gb   22.4% Searching, 3.6% matched\r"
       ]
      },
      {
       "output_type": "stream",
       "stream": "stdout",
       "text": [
        "00:13 1.1Gb   24.4% Searching, 3.7% matched\r"
       ]
      },
      {
       "output_type": "stream",
       "stream": "stdout",
       "text": [
        "00:14 1.1Gb   26.0% Searching, 3.8% matched\r"
       ]
      },
      {
       "output_type": "stream",
       "stream": "stdout",
       "text": [
        "00:15 1.1Gb   27.9% Searching, 4.2% matched\r"
       ]
      },
      {
       "output_type": "stream",
       "stream": "stdout",
       "text": [
        "00:16 1.1Gb   29.7% Searching, 4.2% matched\r"
       ]
      },
      {
       "output_type": "stream",
       "stream": "stdout",
       "text": [
        "00:17 1.1Gb   31.8% Searching, 4.1% matched\r"
       ]
      },
      {
       "output_type": "stream",
       "stream": "stdout",
       "text": [
        "00:18 1.1Gb   34.0% Searching, 4.2% matched\r"
       ]
      },
      {
       "output_type": "stream",
       "stream": "stdout",
       "text": [
        "00:19 1.1Gb   36.8% Searching, 4.3% matched\r"
       ]
      },
      {
       "output_type": "stream",
       "stream": "stdout",
       "text": [
        "00:20 1.1Gb   38.6% Searching, 4.4% matched\r"
       ]
      },
      {
       "output_type": "stream",
       "stream": "stdout",
       "text": [
        "00:21 1.1Gb   41.1% Searching, 4.3% matched\r"
       ]
      },
      {
       "output_type": "stream",
       "stream": "stdout",
       "text": [
        "00:22 1.1Gb   43.3% Searching, 4.2% matched\r"
       ]
      },
      {
       "output_type": "stream",
       "stream": "stdout",
       "text": [
        "00:23 1.1Gb   46.0% Searching, 4.1% matched\r"
       ]
      },
      {
       "output_type": "stream",
       "stream": "stdout",
       "text": [
        "00:24 1.1Gb   48.1% Searching, 4.2% matched\r"
       ]
      },
      {
       "output_type": "stream",
       "stream": "stdout",
       "text": [
        "00:25 1.1Gb   50.7% Searching, 4.2% matched\r"
       ]
      },
      {
       "output_type": "stream",
       "stream": "stdout",
       "text": [
        "00:26 1.1Gb   53.0% Searching, 4.2% matched\r"
       ]
      },
      {
       "output_type": "stream",
       "stream": "stdout",
       "text": [
        "00:27 1.1Gb   55.1% Searching, 4.2% matched\r"
       ]
      },
      {
       "output_type": "stream",
       "stream": "stdout",
       "text": [
        "00:28 1.1Gb   57.2% Searching, 4.3% matched\r"
       ]
      },
      {
       "output_type": "stream",
       "stream": "stdout",
       "text": [
        "00:29 1.1Gb   59.6% Searching, 4.3% matched\r"
       ]
      },
      {
       "output_type": "stream",
       "stream": "stdout",
       "text": [
        "00:30 1.1Gb   62.1% Searching, 4.2% matched\r"
       ]
      },
      {
       "output_type": "stream",
       "stream": "stdout",
       "text": [
        "00:31 1.1Gb   63.8% Searching, 4.2% matched\r"
       ]
      },
      {
       "output_type": "stream",
       "stream": "stdout",
       "text": [
        "00:32 1.1Gb   66.5% Searching, 4.3% matched\r"
       ]
      },
      {
       "output_type": "stream",
       "stream": "stdout",
       "text": [
        "00:33 1.1Gb   68.1% Searching, 4.3% matched\r"
       ]
      },
      {
       "output_type": "stream",
       "stream": "stdout",
       "text": [
        "00:34 1.1Gb   70.6% Searching, 4.3% matched\r"
       ]
      },
      {
       "output_type": "stream",
       "stream": "stdout",
       "text": [
        "00:35 1.1Gb   74.2% Searching, 4.3% matched\r"
       ]
      },
      {
       "output_type": "stream",
       "stream": "stdout",
       "text": [
        "00:37 1.1Gb   77.3% Searching, 4.4% matched\r"
       ]
      },
      {
       "output_type": "stream",
       "stream": "stdout",
       "text": [
        "00:38 1.1Gb   79.8% Searching, 4.4% matched\r"
       ]
      },
      {
       "output_type": "stream",
       "stream": "stdout",
       "text": [
        "00:39 1.1Gb   82.0% Searching, 4.3% matched\r"
       ]
      },
      {
       "output_type": "stream",
       "stream": "stdout",
       "text": [
        "00:40 1.1Gb   84.6% Searching, 4.3% matched\r"
       ]
      },
      {
       "output_type": "stream",
       "stream": "stdout",
       "text": [
        "00:41 1.1Gb   86.2% Searching, 4.3% matched\r"
       ]
      },
      {
       "output_type": "stream",
       "stream": "stdout",
       "text": [
        "00:42 1.1Gb   88.2% Searching, 4.3% matched\r"
       ]
      },
      {
       "output_type": "stream",
       "stream": "stdout",
       "text": [
        "00:44 1.1Gb   93.2% Searching, 4.4% matched\r"
       ]
      },
      {
       "output_type": "stream",
       "stream": "stdout",
       "text": [
        "00:45 1.1Gb   95.6% Searching, 4.4% matched\r"
       ]
      },
      {
       "output_type": "stream",
       "stream": "stdout",
       "text": [
        "00:46 1.1Gb   98.1% Searching, 4.4% matched\r"
       ]
      },
      {
       "output_type": "stream",
       "stream": "stdout",
       "text": [
        "0"
       ]
      },
      {
       "output_type": "stream",
       "stream": "stdout",
       "text": [
        "0:47 1.1Gb   99.8% Searching, 4.3% matched\r"
       ]
      },
      {
       "output_type": "stream",
       "stream": "stdout",
       "text": [
        "00:47 1.1Gb  100.0% Searching, 4.3% matched\r",
        "\r\n"
       ]
      },
      {
       "output_type": "stream",
       "stream": "stdout",
       "text": [
        "usearch v7.0.1090_i86osx32, 4.0Gb RAM (15.0Gb total), 4 cores\r\n",
        "(C) Copyright 2013 Robert C. Edgar, all rights reserved.\r\n",
        "http://drive5.com/usearch\r\n",
        "\r\n",
        "Licensed to: sr320@uw.edu\r\n",
        "\r\n",
        "00:00 2.1Mb Reading /Volumes/Bay3/usearch/uniprot_sprot.udb\r\n"
       ]
      },
      {
       "output_type": "stream",
       "stream": "stdout",
       "text": [
        "00:02 1.1Gb Database loaded\r\n",
        "00:02 1.1Gb    0.1% Searching, 0.0% matched\r"
       ]
      },
      {
       "output_type": "stream",
       "stream": "stdout",
       "text": [
        "00:03 1.1Gb    0.8% Searching, 0.0% matched\r"
       ]
      },
      {
       "output_type": "stream",
       "stream": "stdout",
       "text": [
        "00:04 1.1Gb    2.3% Searching, 4.3% matched\r"
       ]
      },
      {
       "output_type": "stream",
       "stream": "stdout",
       "text": [
        "00:05 1.1Gb    4.1% Searching, 3.4% matched\r"
       ]
      },
      {
       "output_type": "stream",
       "stream": "stdout",
       "text": [
        "00:06 1.1Gb    6.6% Searching, 3.1% matched\r"
       ]
      },
      {
       "output_type": "stream",
       "stream": "stdout",
       "text": [
        "00:07 1.1Gb    8.9% Searching, 3.6% matched\r"
       ]
      },
      {
       "output_type": "stream",
       "stream": "stdout",
       "text": [
        "usearch(58493,0xb0103000) malloc: *** mmap(size=1123659776) failed (error code=12)\r\n",
        "*** error: can't allocate region\r\n",
        "*** set a breakpoint in malloc_error_break to debug\r\n"
       ]
      },
      {
       "output_type": "stream",
       "stream": "stdout",
       "text": [
        "\r\n",
        "Out of memory mymalloc(1123657437), curr 1.06e+09 bytes\r\n",
        "\r\n",
        "myutils.cpp(2212): \r\n",
        "\r\n",
        "usearch -ublast cgigas.part-41.fa -db /Volumes/Bay3/usearch/uniprot_sprot.udb -evalue 1e-5 -accel 0.8 -top_hits_only -maxhits 1 -blast6out /Volumes/web/cnidarian/cgigas8_cgigas.part-41.fa_ublast_sprot.b6\r\n",
        "\r\n",
        "---Fatal error---\r\n",
        "Out of memory, mymalloc(1123657437), curr 1.06e+09 bytes\r\n",
        "\r\n"
       ]
      },
      {
       "output_type": "stream",
       "stream": "stdout",
       "text": [
        "usearch v7.0.1090_i86osx32, 4.0Gb RAM (15.0Gb total), 4 cores\r\n",
        "(C) Copyright 2013 Robert C. Edgar, all rights reserved.\r\n",
        "http://drive5.com/usearch\r\n",
        "\r\n",
        "Licensed to: sr320@uw.edu\r\n",
        "\r\n"
       ]
      },
      {
       "output_type": "stream",
       "stream": "stdout",
       "text": [
        "00:00 2.0Mb Reading /Volumes/Bay3/usearch/uniprot_sprot.udb\r\n"
       ]
      },
      {
       "output_type": "stream",
       "stream": "stdout",
       "text": [
        "00:02 1.1Gb Database loaded\r\n",
        "00:02 1.1Gb    0.1% Searching, 0.0% matched\r"
       ]
      },
      {
       "output_type": "stream",
       "stream": "stdout",
       "text": [
        "00:03 1.1Gb    1.4% Searching, 0.0% matched\r"
       ]
      },
      {
       "output_type": "stream",
       "stream": "stdout",
       "text": [
        "00:04 1.1Gb    3.0% Searching, 2.6% matched\r"
       ]
      },
      {
       "output_type": "stream",
       "stream": "stdout",
       "text": [
        "00:05 1.1Gb    5.0% Searching, 3.0% matched\r"
       ]
      },
      {
       "output_type": "stream",
       "stream": "stdout",
       "text": [
        "00:06 1.1Gb    7.3% Searching, 3.3% matched\r"
       ]
      },
      {
       "output_type": "stream",
       "stream": "stdout",
       "text": [
        "00:07 1.1Gb    9.5% Searching, 3.5% matched\r"
       ]
      },
      {
       "output_type": "stream",
       "stream": "stdout",
       "text": [
        "00:08 1.1Gb   12.2% Searching, 3.0% matched\r"
       ]
      },
      {
       "output_type": "stream",
       "stream": "stdout",
       "text": [
        "00:09 1.1Gb   14.3% Searching, 3.0% matched\r"
       ]
      },
      {
       "output_type": "stream",
       "stream": "stdout",
       "text": [
        "00:10 1.1Gb   17.2% Searching, 2.5% matched\r"
       ]
      },
      {
       "output_type": "stream",
       "stream": "stdout",
       "text": [
        "00:11 1.1Gb   19.0% Searching, 2.6% matched\r"
       ]
      },
      {
       "output_type": "stream",
       "stream": "stdout",
       "text": [
        "00:12 1.1Gb   21.4% Searching, 2.8% matched\r"
       ]
      },
      {
       "output_type": "stream",
       "stream": "stdout",
       "text": [
        "00:13 1.1Gb   23.5% Searching, 2.8% matched\r"
       ]
      },
      {
       "output_type": "stream",
       "stream": "stdout",
       "text": [
        "00:14 1.1Gb   24.9% Searching, 2.8% matched\r"
       ]
      },
      {
       "output_type": "stream",
       "stream": "stdout",
       "text": [
        "00:15 1.1Gb   27.3% Searching, 2.9% matched\r"
       ]
      },
      {
       "output_type": "stream",
       "stream": "stdout",
       "text": [
        "00:16 1.1Gb   28.6% Searching, 3.0% matched\r"
       ]
      },
      {
       "output_type": "stream",
       "stream": "stdout",
       "text": [
        "00:17 1.1Gb   31.0% Searching, 3.1% matched\r"
       ]
      },
      {
       "output_type": "stream",
       "stream": "stdout",
       "text": [
        "00:18 1.1Gb   32.7% Searching, 3.2% matched\r"
       ]
      },
      {
       "output_type": "stream",
       "stream": "stdout",
       "text": [
        "00:19 1.1Gb   35.1% Searching, 3.1% matched\r"
       ]
      },
      {
       "output_type": "stream",
       "stream": "stdout",
       "text": [
        "00:20 1.1Gb   37.4% Searching, 3.3% matched\r"
       ]
      },
      {
       "output_type": "stream",
       "stream": "stdout",
       "text": [
        "00:21 1.1Gb   39.8% Searching, 3.3% matched\r"
       ]
      },
      {
       "output_type": "stream",
       "stream": "stdout",
       "text": [
        "00:22 1.1Gb   41.7% Searching, 3.3% matched\r"
       ]
      },
      {
       "output_type": "stream",
       "stream": "stdout",
       "text": [
        "00:23 1.1Gb   43.5% Searching, 3.2% matched\r"
       ]
      },
      {
       "output_type": "stream",
       "stream": "stdout",
       "text": [
        "00:24 1.1Gb   45.5% Searching, 3.3% matched\r"
       ]
      },
      {
       "output_type": "stream",
       "stream": "stdout",
       "text": [
        "00:25 1.1Gb   47.8% Searching, 3.2% matched\r"
       ]
      },
      {
       "output_type": "stream",
       "stream": "stdout",
       "text": [
        "00:26 1.1Gb   50.1% Searching, 3.3% matched\r"
       ]
      },
      {
       "output_type": "stream",
       "stream": "stdout",
       "text": [
        "00:27 1.1Gb   52.8% Searching, 3.3% matched\r"
       ]
      },
      {
       "output_type": "stream",
       "stream": "stdout",
       "text": [
        "00:28 1.1Gb   54.8% Searching, 3.2% matched\r"
       ]
      },
      {
       "output_type": "stream",
       "stream": "stdout",
       "text": [
        "00:29 1.1Gb   57.1% Searching, 3.2% matched\r"
       ]
      },
      {
       "output_type": "stream",
       "stream": "stdout",
       "text": [
        "00:30 1.1Gb   59.2% Searching, 3.1% matched\r"
       ]
      },
      {
       "output_type": "stream",
       "stream": "stdout",
       "text": [
        "00:31 1.1Gb   61.1% Searching, 3.1% matched\r"
       ]
      },
      {
       "output_type": "stream",
       "stream": "stdout",
       "text": [
        "00:32 1.1Gb   63.4% Searching, 3.1% matched\r"
       ]
      },
      {
       "output_type": "stream",
       "stream": "stdout",
       "text": [
        "00:33 1.1Gb   66.4% Searching, 3.1% matched\r"
       ]
      },
      {
       "output_type": "stream",
       "stream": "stdout",
       "text": [
        "00:34 1.1Gb   67.6% Searching, 3.2% matched\r"
       ]
      },
      {
       "output_type": "stream",
       "stream": "stdout",
       "text": [
        "00:35 1.1Gb   70.1% Searching, 3.1% matched\r"
       ]
      },
      {
       "output_type": "stream",
       "stream": "stdout",
       "text": [
        "00:36 1.1Gb   72.3% Searching, 3.2% matched\r"
       ]
      },
      {
       "output_type": "stream",
       "stream": "stdout",
       "text": [
        "00:37 1.1Gb   74.5% Searching, 3.2% matched\r"
       ]
      },
      {
       "output_type": "stream",
       "stream": "stdout",
       "text": [
        "00:38 1.1Gb   76.4% Searching, 3.2% matched\r"
       ]
      },
      {
       "output_type": "stream",
       "stream": "stdout",
       "text": [
        "00:39 1.1Gb   78.3% Searching, 3.2% matched\r"
       ]
      },
      {
       "output_type": "stream",
       "stream": "stdout",
       "text": [
        "00:40 1.1Gb   80.0% Searching, 3.3% matched\r"
       ]
      },
      {
       "output_type": "stream",
       "stream": "stdout",
       "text": [
        "00:41 1.1Gb   82.8% Searching, 3.2% matched\r"
       ]
      },
      {
       "output_type": "stream",
       "stream": "stdout",
       "text": [
        "00:42 1.1Gb   84.7% Searching, 3.3% matched\r"
       ]
      },
      {
       "output_type": "stream",
       "stream": "stdout",
       "text": [
        "00:43 1.1Gb   86.9% Searching, 3.3% matched\r"
       ]
      },
      {
       "output_type": "stream",
       "stream": "stdout",
       "text": [
        "00:44 1.1Gb   89.3% Searching, 3.3% matched\r"
       ]
      },
      {
       "output_type": "stream",
       "stream": "stdout",
       "text": [
        "00:45 1.1Gb   90.3% Searching, 3.3% matched\r"
       ]
      },
      {
       "output_type": "stream",
       "stream": "stdout",
       "text": [
        "00:46 1.1Gb   92.5% Searching, 3.3% matched\r"
       ]
      },
      {
       "output_type": "stream",
       "stream": "stdout",
       "text": [
        "00:47 1.1Gb   94.7% Searching, 3.3% matched\r"
       ]
      },
      {
       "output_type": "stream",
       "stream": "stdout",
       "text": [
        "00:48 1.1Gb   96.9% Searching, 3.3% matched\r"
       ]
      },
      {
       "output_type": "stream",
       "stream": "stdout",
       "text": [
        "00:49 1.1Gb   98.7% Searching, 3.3% matched\r"
       ]
      },
      {
       "output_type": "stream",
       "stream": "stdout",
       "text": [
        "00:49 1.1Gb  100.0% Searching, 3.4% matched\r",
        "\r\n"
       ]
      },
      {
       "output_type": "stream",
       "stream": "stdout",
       "text": [
        "usearch v7.0.1090_i86osx32, 4.0Gb RAM (15.0Gb total), 4 cores\r\n",
        "(C) Copyright 2013 Robert C. Edgar, all rights reserved.\r\n",
        "http://drive5.com/usearch\r\n",
        "\r\n",
        "Licensed to: sr320@uw.edu\r\n",
        "\r\n",
        "00:00 1.9Mb Reading /Volumes/Bay3/usearch/uniprot_sprot.udb\r\n"
       ]
      },
      {
       "output_type": "stream",
       "stream": "stdout",
       "text": [
        "00:02 1.1Gb Database loaded\r\n",
        "00:02 1.1Gb    0.1% Searching, 0.0% matched\r"
       ]
      },
      {
       "output_type": "stream",
       "stream": "stdout",
       "text": [
        "00:03 1.1Gb    0.7% Searching, 0.0% matched\r"
       ]
      },
      {
       "output_type": "stream",
       "stream": "stdout",
       "text": [
        "00:04 1.1Gb    3.3% Searching, 3.3% matched\r"
       ]
      },
      {
       "output_type": "stream",
       "stream": "stdout",
       "text": [
        "00:05 1.1Gb    5.9% Searching, 4.1% matched\r"
       ]
      },
      {
       "output_type": "stream",
       "stream": "stdout",
       "text": [
        "00:06 1.1Gb    8.7% Searching, 4.0% mat"
       ]
      },
      {
       "output_type": "stream",
       "stream": "stdout",
       "text": [
        "ched\r"
       ]
      },
      {
       "output_type": "stream",
       "stream": "stdout",
       "text": [
        "00:07 1.1Gb   11.4% Searching, 3.8% matched\r"
       ]
      },
      {
       "output_type": "stream",
       "stream": "stdout",
       "text": [
        "00:08 1.1Gb   13.7% Searching, 3.6% matched\r"
       ]
      },
      {
       "output_type": "stream",
       "stream": "stdout",
       "text": [
        "00:09 1.1Gb   16.5%"
       ]
      },
      {
       "output_type": "stream",
       "stream": "stdout",
       "text": [
        " Searching, 3.3% matched\r"
       ]
      },
      {
       "output_type": "stream",
       "stream": "stdout",
       "text": [
        "00:10 1.1Gb   18.9% Searching, 3.4% matched\r"
       ]
      },
      {
       "output_type": "stream",
       "stream": "stdout",
       "text": [
        "00:11 1.1Gb   21.7% Searching, 3.0% matched\r"
       ]
      },
      {
       "output_type": "stream",
       "stream": "stdout",
       "text": [
        "00:12 1.1Gb   24.3% Searching, 3.0% matched\r"
       ]
      },
      {
       "output_type": "stream",
       "stream": "stdout",
       "text": [
        "00:13 1.1Gb   26.5% Searching, 2.9% matched\r"
       ]
      },
      {
       "output_type": "stream",
       "stream": "stdout",
       "text": [
        "00:14 1.1Gb   28.9% Searching, 3.0% matched\r"
       ]
      },
      {
       "output_type": "stream",
       "stream": "stdout",
       "text": [
        "00:15 1.1Gb   31.9% Searching, 2.9% matched\r"
       ]
      },
      {
       "output_type": "stream",
       "stream": "stdout",
       "text": [
        "00:16 1.1Gb   34.1% Searching, 3.1% matched\r"
       ]
      },
      {
       "output_type": "stream",
       "stream": "stdout",
       "text": [
        "00:17 1.1Gb   36.8% Searching, 3.0% matched\r"
       ]
      },
      {
       "output_type": "stream",
       "stream": "stdout",
       "text": [
        "00:18 1.1Gb   39.4% Searching, 3.1% matched\r"
       ]
      },
      {
       "output_type": "stream",
       "stream": "stdout",
       "text": [
        "00:19 1.1Gb   41.3% Searching, 3.2% matched\r"
       ]
      },
      {
       "output_type": "stream",
       "stream": "stdout",
       "text": [
        "00:20 1.1Gb   43.6% Searching, 3.3% matched\r"
       ]
      },
      {
       "output_type": "stream",
       "stream": "stdout",
       "text": [
        "00:21 1.1Gb   46.2% Searching, 3.3% matched\r"
       ]
      },
      {
       "output_type": "stream",
       "stream": "stdout",
       "text": [
        "00:22 1.1Gb   49.2% Searching, 3.2% matched\r"
       ]
      },
      {
       "output_type": "stream",
       "stream": "stdout",
       "text": [
        "00:23 1.1Gb   51.0% Searching, 3.2% matched\r"
       ]
      },
      {
       "output_type": "stream",
       "stream": "stdout",
       "text": [
        "00:24 1.1Gb   53.2% Searching, 3.1% matched\r"
       ]
      },
      {
       "output_type": "stream",
       "stream": "stdout",
       "text": [
        "00:25 1.1Gb   56.5% Searching, 3.2% matched\r"
       ]
      },
      {
       "output_type": "stream",
       "stream": "stdout",
       "text": [
        "00:26 1.1Gb   58.6% Searching, 3.3% matched\r"
       ]
      },
      {
       "output_type": "stream",
       "stream": "stdout",
       "text": [
        "00:27 1.1Gb   60.8% Searching, 3.2% matched\r"
       ]
      },
      {
       "output_type": "stream",
       "stream": "stdout",
       "text": [
        "00:28 1.1Gb   63.2% Searching, 3.3% matched\r"
       ]
      },
      {
       "output_type": "stream",
       "stream": "stdout",
       "text": [
        "00:29 1.1Gb   65.7% Searching, 3.3% matched\r"
       ]
      },
      {
       "output_type": "stream",
       "stream": "stdout",
       "text": [
        "00:30 1.1Gb   67.3% Searching, 3.4% matched\r"
       ]
      },
      {
       "output_type": "stream",
       "stream": "stdout",
       "text": [
        "00:31 1.1Gb   69.5% Searching, 3.3% matched\r"
       ]
      },
      {
       "output_type": "stream",
       "stream": "stdout",
       "text": [
        "00:32 1.1Gb   72.8% Searching, 3.2% matched\r"
       ]
      },
      {
       "output_type": "stream",
       "stream": "stdout",
       "text": [
        "00:33 1.1Gb   75.0% Searching, 3.3% matched\r"
       ]
      },
      {
       "output_type": "stream",
       "stream": "stdout",
       "text": [
        "00:34 1.1Gb   77.5% Searching, 3"
       ]
      },
      {
       "output_type": "stream",
       "stream": "stdout",
       "text": [
        ".3% matched\r"
       ]
      },
      {
       "output_type": "stream",
       "stream": "stdout",
       "text": [
        "00:35 1.1Gb   79.9% Searching, 3.3% matched\r"
       ]
      },
      {
       "output_type": "stream",
       "stream": "stdout",
       "text": [
        "00:36 1.1Gb   82.6% Searching, 3.4% matched\r"
       ]
      },
      {
       "output_type": "stream",
       "stream": "stdout",
       "text": [
        "00:37 1.1Gb   84.7% Searching, 3.4% matched\r"
       ]
      },
      {
       "output_type": "stream",
       "stream": "stdout",
       "text": [
        "00:38 1.1Gb   87.1% Searching, 3.4% matched\r"
       ]
      },
      {
       "output_type": "stream",
       "stream": "stdout",
       "text": [
        "00:39 1.1Gb   89.2% Searching, 3.4% matched\r"
       ]
      },
      {
       "output_type": "stream",
       "stream": "stdout",
       "text": [
        "00:40 1.1Gb   92.0% Searching, 3.4% matched\r"
       ]
      },
      {
       "output_type": "stream",
       "stream": "stdout",
       "text": [
        "00:41 1.1Gb   94.0% Searching, 3.4% matched\r"
       ]
      },
      {
       "output_type": "stream",
       "stream": "stdout",
       "text": [
        "00:42 1.1Gb   96.0% Searching, 3.5% matched\r"
       ]
      },
      {
       "output_type": "stream",
       "stream": "stdout",
       "text": [
        "00:43 1.1Gb   98.1% Searching, 3.5% matched\r"
       ]
      },
      {
       "output_type": "stream",
       "stream": "stdout",
       "text": [
        "00:44 1.1Gb  100.0% Searching, 3.5% matched\r",
        "\r\n"
       ]
      },
      {
       "output_type": "stream",
       "stream": "stdout",
       "text": [
        "usearch v7.0.1090_i86osx32, 4.0Gb RAM (15.0Gb total), 4 cores\r\n",
        "(C) Copyright 2013 Robert C. Edgar, all rights reserved.\r\n",
        "http://drive5.com/usearch\r\n",
        "\r\n",
        "Licensed to: sr320@uw.edu\r\n",
        "\r\n"
       ]
      },
      {
       "output_type": "stream",
       "stream": "stdout",
       "text": [
        "00:00 1.7Mb Reading /Volumes/Bay3/usearch/uniprot_sprot.udb\r\n"
       ]
      },
      {
       "output_type": "stream",
       "stream": "stdout",
       "text": [
        "00:02 1.1Gb Database loaded\r\n",
        "00:02 1.1Gb    0.1% Searching, 0.0% matched\r"
       ]
      },
      {
       "output_type": "stream",
       "stream": "stdout",
       "text": [
        "00:03 1.1Gb    1.6% Searching, 1.2% matched\r"
       ]
      },
      {
       "output_type": "stream",
       "stream": "stdout",
       "text": [
        "00:04 1.1Gb    5.1% Searching, 3.0% matched\r"
       ]
      },
      {
       "output_type": "stream",
       "stream": "stdout",
       "text": [
        "00:05 1.1Gb    8.2% Searching, 3.0% matched\r"
       ]
      },
      {
       "output_type": "stream",
       "stream": "stdout",
       "text": [
        "00:06 1.1Gb   11.4% Searching, 3.1% matched\r"
       ]
      },
      {
       "output_type": "stream",
       "stream": "stdout",
       "text": [
        "00:07 1.1Gb   14.5% Searching, 3.4% matched\r"
       ]
      },
      {
       "output_type": "stream",
       "stream": "stdout",
       "text": [
        "00:08 1.1Gb   17.9% Searching, 3.3% matched\r"
       ]
      },
      {
       "output_type": "stream",
       "stream": "stdout",
       "text": [
        "00:09 1.1Gb   21.3% Searching, 3.1% matched\r"
       ]
      },
      {
       "output_type": "stream",
       "stream": "stdout",
       "text": [
        "00:10 1.1Gb   24.4% Searching, 3.2% matched\r"
       ]
      },
      {
       "output_type": "stream",
       "stream": "stdout",
       "text": [
        "00:11 1.1Gb   27.6% Searching, 3.1% matched\r"
       ]
      },
      {
       "output_type": "stream",
       "stream": "stdout",
       "text": [
        "00:12 1.1Gb   30.6% Searching, 3.4% matched\r"
       ]
      },
      {
       "output_type": "stream",
       "stream": "stdout",
       "text": [
        "00:13 1.1Gb   34.1% Searching, 3.6% matched\r"
       ]
      },
      {
       "output_type": "stream",
       "stream": "stdout",
       "text": [
        "00:14 1.1Gb   37.1% Searching, 3.6% matched\r"
       ]
      },
      {
       "output_type": "stream",
       "stream": "stdout",
       "text": [
        "00:15 1.1Gb   40.3% Searching, 3.5% matched\r"
       ]
      },
      {
       "output_type": "stream",
       "stream": "stdout",
       "text": [
        "00:16 1.1Gb   44.1% Searching, 3.5% matched\r"
       ]
      },
      {
       "output_type": "stream",
       "stream": "stdout",
       "text": [
        "00:17 1.1Gb   48.2% Searching, 3.4% matched\r"
       ]
      },
      {
       "output_type": "stream",
       "stream": "stdout",
       "text": [
        "00:18 1.1Gb   52.0% Searching, 3.4% matched\r"
       ]
      },
      {
       "output_type": "stream",
       "stream": "stdout",
       "text": [
        "00:19 1.1Gb   55.8% Searching, 3.3% matched\r"
       ]
      },
      {
       "output_type": "stream",
       "stream": "stdout",
       "text": [
        "00:20 1.1Gb   58.8% Searching, 3.3% matched\r"
       ]
      },
      {
       "output_type": "stream",
       "stream": "stdout",
       "text": [
        "00:21 1.1Gb   62.6% Searching, 3.4% matched\r"
       ]
      },
      {
       "output_type": "stream",
       "stream": "stdout",
       "text": [
        "00:22 1.1Gb   66.0% Searching, 3.4% matched\r"
       ]
      },
      {
       "output_type": "stream",
       "stream": "stdout",
       "text": [
        "00:23 1.1Gb   69.3% Searching, 3.4% matched\r"
       ]
      },
      {
       "output_type": "stream",
       "stream": "stdout",
       "text": [
        "00:24 1.1Gb   73.5% Searching, 3.5% matched\r"
       ]
      },
      {
       "output_type": "stream",
       "stream": "stdout",
       "text": [
        "00:25 1.1Gb   76.7% Searching, 3.6% matched\r"
       ]
      },
      {
       "output_type": "stream",
       "stream": "stdout",
       "text": [
        "0"
       ]
      },
      {
       "output_type": "stream",
       "stream": "stdout",
       "text": [
        "0:26 1.1Gb   80.2% Searching, 3.6% matched\r"
       ]
      },
      {
       "output_type": "stream",
       "stream": "stdout",
       "text": [
        "00:27 1.1Gb   83.9% Searching, 3.6% matched\r"
       ]
      },
      {
       "output_type": "stream",
       "stream": "stdout",
       "text": [
        "00:28 1.1G"
       ]
      },
      {
       "output_type": "stream",
       "stream": "stdout",
       "text": [
        "b   87.9% Searching, 3.5% matched\r"
       ]
      },
      {
       "output_type": "stream",
       "stream": "stdout",
       "text": [
        "00:29 1.1Gb   90.8% Searching, 3.5% matched\r"
       ]
      },
      {
       "output_type": "stream",
       "stream": "stdout",
       "text": [
        "00:30 1.1Gb   93.7% Searching, 3.6% matched\r"
       ]
      },
      {
       "output_type": "stream",
       "stream": "stdout",
       "text": [
        "00:31 1.1Gb   96.7% Searching, 3.5% matched\r"
       ]
      },
      {
       "output_type": "stream",
       "stream": "stdout",
       "text": [
        "00:32 1.1Gb   99.8% Searching, 3.6% matched\r"
       ]
      },
      {
       "output_type": "stream",
       "stream": "stdout",
       "text": [
        "00:32 1.1Gb  100.0% Searching, 3.6% matched\r",
        "\r\n"
       ]
      },
      {
       "output_type": "stream",
       "stream": "stdout",
       "text": [
        "usearch v7.0.1090_i86osx32, 4.0Gb RAM (15.0Gb total), 4 cores\r\n",
        "(C) Copyright 2013 Robert C. Edgar, all rights reserved.\r\n",
        "http://drive5.com/usearch\r\n",
        "\r\n",
        "Licensed to: sr320@uw.edu\r\n",
        "\r\n"
       ]
      },
      {
       "output_type": "stream",
       "stream": "stdout",
       "text": [
        "00:00 2.1Mb Reading /Volumes/Bay3/usearch/uniprot_sprot.udb\r\n"
       ]
      },
      {
       "output_type": "stream",
       "stream": "stdout",
       "text": [
        "00:02 1.1Gb Database loaded\r\n",
        "00:02 1.1Gb    0.1% Searching, 0.0% matched\r"
       ]
      },
      {
       "output_type": "stream",
       "stream": "stdout",
       "text": [
        "00:03 1.1Gb    1.3% Searching, 6.4% matched\r"
       ]
      },
      {
       "output_type": "stream",
       "stream": "stdout",
       "text": [
        "00:04 1.1Gb    3.7% Searching, 6.4% matched\r"
       ]
      },
      {
       "output_type": "stream",
       "stream": "stdout",
       "text": [
        "0"
       ]
      },
      {
       "output_type": "stream",
       "stream": "stdout",
       "text": [
        "0:05 1.1Gb    5.9% Searching, 5.5% matched\r"
       ]
      },
      {
       "output_type": "stream",
       "stream": "stdout",
       "text": [
        "00:06 1.1Gb    8.3% Searching, 5.6% matched\r"
       ]
      },
      {
       "output_type": "stream",
       "stream": "stdout",
       "text": [
        "00:07 1.1Gb   10.0% Searching, 5.8% matched\r"
       ]
      },
      {
       "output_type": "stream",
       "stream": "stdout",
       "text": [
        "00:08 1.1Gb   11.8% Searching, 5.8% matched\r"
       ]
      },
      {
       "output_type": "stream",
       "stream": "stdout",
       "text": [
        "00:09 1.1Gb   13.5% Searching, 5.8% matched\r"
       ]
      },
      {
       "output_type": "stream",
       "stream": "stdout",
       "text": [
        "00:10 1.1Gb   15.0% Searching, 5.7% matched\r"
       ]
      },
      {
       "output_type": "stream",
       "stream": "stdout",
       "text": [
        "00:11 1.1Gb   17.5% Searching, 5.9% matched\r"
       ]
      },
      {
       "output_type": "stream",
       "stream": "stdout",
       "text": [
        "00:12 1.1Gb   18.2% Searching, 5.9% matched\r"
       ]
      },
      {
       "output_type": "stream",
       "stream": "stdout",
       "text": [
        "00:13 1.1Gb   19.6% Searching, 5.9% matched\r"
       ]
      },
      {
       "output_type": "stream",
       "stream": "stdout",
       "text": [
        "00:14 1.1Gb   21.8% Searching, 5.9% matched\r"
       ]
      },
      {
       "output_type": "stream",
       "stream": "stdout",
       "text": [
        "00:15 1.1Gb   22.9% Searching, 6.0% matched\r"
       ]
      },
      {
       "output_type": "stream",
       "stream": "stdout",
       "text": [
        "00:16 1.1Gb   25.7% Searching, 6.1% matched\r"
       ]
      },
      {
       "output_type": "stream",
       "stream": "stdout",
       "text": [
        "00:17 1.1Gb   28.1% Searching, 6.1% matched\r"
       ]
      },
      {
       "output_type": "stream",
       "stream": "stdout",
       "text": [
        "00:18 1.1Gb   29.8% Searching, 5.9% matched\r"
       ]
      },
      {
       "output_type": "stream",
       "stream": "stdout",
       "text": [
        "00:19 1.1Gb   31.7% Searching, 5.9% matched\r"
       ]
      },
      {
       "output_type": "stream",
       "stream": "stdout",
       "text": [
        "00:20 1.1Gb   33.9% Searching, 5.8% matched\r"
       ]
      },
      {
       "output_type": "stream",
       "stream": "stdout",
       "text": [
        "00:21 1.1Gb   35.9% Searching, 5.5% matched\r"
       ]
      },
      {
       "output_type": "stream",
       "stream": "stdout",
       "text": [
        "00:22 1.1Gb   37.6% Searching, 5.7% matched\r"
       ]
      },
      {
       "output_type": "stream",
       "stream": "stdout",
       "text": [
        "00:23 1.1Gb   40.0% Searching, 5.5% matched\r"
       ]
      },
      {
       "output_type": "stream",
       "stream": "stdout",
       "text": [
        "00:24 1.1Gb   41.7% Searching, 5.6% matched\r"
       ]
      },
      {
       "output_type": "stream",
       "stream": "stdout",
       "text": [
        "00:25 1.1Gb   43.9% Searching, 5.6% matched\r"
       ]
      },
      {
       "output_type": "stream",
       "stream": "stdout",
       "text": [
        "00:26 1.1Gb   46.5% Searching, 5.5% matched\r"
       ]
      },
      {
       "output_type": "stream",
       "stream": "stdout",
       "text": [
        "00:27 1.1Gb   48.6% Searching, 5.4% matched\r"
       ]
      },
      {
       "output_type": "stream",
       "stream": "stdout",
       "text": [
        "00:28 1.1Gb   50.0% Searching, 5.4% matched\r"
       ]
      },
      {
       "output_type": "stream",
       "stream": "stdout",
       "text": [
        "00:29 1.1Gb   51.3% Searching, 5.4% matched\r"
       ]
      },
      {
       "output_type": "stream",
       "stream": "stdout",
       "text": [
        "00:30 1.1Gb   55.2% Searching, 5.2% matched\r"
       ]
      },
      {
       "output_type": "stream",
       "stream": "stdout",
       "text": [
        "00:31 1.1Gb   55.8% Searching, 5.2% matched\r"
       ]
      },
      {
       "output_type": "stream",
       "stream": "stdout",
       "text": [
        "00:32 1.1Gb   58.3% Searching, 5.1% matched\r"
       ]
      },
      {
       "output_type": "stream",
       "stream": "stdout",
       "text": [
        "00:33 1.1Gb   60.5% Searching, 5.1% matched\r"
       ]
      },
      {
       "output_type": "stream",
       "stream": "stdout",
       "text": [
        "00:34 1.1Gb   62.7% Searching, 5.0% matched\r"
       ]
      },
      {
       "output_type": "stream",
       "stream": "stdout",
       "text": [
        "00:35 1.1Gb   64.0% Searching, 5.0% matched\r"
       ]
      },
      {
       "output_type": "stream",
       "stream": "stdout",
       "text": [
        "00:36 1.1Gb   66.7% Searching, 4.9% matched\r"
       ]
      },
      {
       "output_type": "stream",
       "stream": "stdout",
       "text": [
        "00:37 1.1Gb   69.4% Searching, 4.9% matched\r"
       ]
      },
      {
       "output_type": "stream",
       "stream": "stdout",
       "text": [
        "00:38 1.1Gb   72.2% Searching, 4.9% matched\r"
       ]
      },
      {
       "output_type": "stream",
       "stream": "stdout",
       "text": [
        "00:39 1.1Gb   73.9% Searching, 4.9% matched\r"
       ]
      },
      {
       "output_type": "stream",
       "stream": "stdout",
       "text": [
        "00:40 1.1Gb   76.4% Searching, 4.9% matched\r"
       ]
      },
      {
       "output_type": "stream",
       "stream": "stdout",
       "text": [
        "00:41 1.1Gb   78.8% Searching, 4.8% matched\r"
       ]
      },
      {
       "output_type": "stream",
       "stream": "stdout",
       "text": [
        "00:42 1.1Gb   80.5% Searching, 4.8% matched\r"
       ]
      },
      {
       "output_type": "stream",
       "stream": "stdout",
       "text": [
        "00:43 1.1Gb   82.6% Searching, 4.8% matched\r"
       ]
      },
      {
       "output_type": "stream",
       "stream": "stdout",
       "text": [
        "00:44 1.1Gb   84.3% Searching, 4.8% matched\r"
       ]
      },
      {
       "output_type": "stream",
       "stream": "stdout",
       "text": [
        "00:45 1.1Gb   86.7% Searching, 4.8% matched\r"
       ]
      },
      {
       "output_type": "stream",
       "stream": "stdout",
       "text": [
        "00:46 1.1Gb   89.0% Searching, 4.7% matched\r"
       ]
      },
      {
       "output_type": "stream",
       "stream": "stdout",
       "text": [
        "00:47 1.1Gb   90.8% Searching, 4.7% matched\r"
       ]
      },
      {
       "output_type": "stream",
       "stream": "stdout",
       "text": [
        "00:48 1.1Gb   93.0% Searching, 4.8% matched\r"
       ]
      },
      {
       "output_type": "stream",
       "stream": "stdout",
       "text": [
        "00:49 1.1Gb   94.9% Searching, 4.8% matched\r"
       ]
      },
      {
       "output_type": "stream",
       "stream": "stdout",
       "text": [
        "00:50 1.1Gb   98.0% Searching, 4.8% matched\r"
       ]
      },
      {
       "output_type": "stream",
       "stream": "stdout",
       "text": [
        "00:51 1.1Gb   99.8% Searching, 4.8% matched\r"
       ]
      },
      {
       "output_type": "stream",
       "stream": "stdout",
       "text": [
        "00:51 1.1Gb  100.0% Searching, 4.7% matched\r",
        "\r\n"
       ]
      },
      {
       "output_type": "stream",
       "stream": "stdout",
       "text": [
        "usearch v7.0.1090_i86osx32, 4.0Gb RAM (15.0Gb total), 4 cores\r\n",
        "(C) Copyright 2013 Robert C. Edgar, all rights reserved.\r\n",
        "http://drive5.com/usearch\r\n",
        "\r\n",
        "Licensed to: sr320@uw.edu\r\n",
        "\r\n"
       ]
      },
      {
       "output_type": "stream",
       "stream": "stdout",
       "text": [
        "00:00 2.1Mb Reading /Volumes/Bay3/usearch/uniprot_sprot.udb\r\n"
       ]
      },
      {
       "output_type": "stream",
       "stream": "stdout",
       "text": [
        "00:02 1.1Gb Database loaded\r\n",
        "00:02 1.1Gb    0.1% Searching, 0.0% matched\r"
       ]
      },
      {
       "output_type": "stream",
       "stream": "stdout",
       "text": [
        "00:03 1.1Gb    0.8% Searching, 4.7% matched\r"
       ]
      },
      {
       "output_type": "stream",
       "stream": "stdout",
       "text": [
        "00:04 1.1Gb    3.6% Searching, 3.7% matched\r"
       ]
      },
      {
       "output_type": "stream",
       "stream": "stdout",
       "text": [
        "00:05 1.1Gb    5.8% Searching, 4.3% matched\r"
       ]
      },
      {
       "output_type": "stream",
       "stream": "stdout",
       "text": [
        "00:06 1.1Gb    8.1% Searching, 3.8% matched\r"
       ]
      },
      {
       "output_type": "stream",
       "stream": "stdout",
       "text": [
        "00:07 1.1Gb    9.6% Searching, 3.8% matched\r"
       ]
      },
      {
       "output_type": "stream",
       "stream": "stdout",
       "text": [
        "00:08 1.1Gb   11.4% Searching, 3.4% matched\r"
       ]
      },
      {
       "output_type": "stream",
       "stream": "stdout",
       "text": [
        "00:09 1.1Gb   13.9% Searching, 3.4% matched\r"
       ]
      },
      {
       "output_type": "stream",
       "stream": "stdout",
       "text": [
        "00:10 1.1Gb   16.8% Searching, 3.2% matched\r"
       ]
      },
      {
       "output_type": "stream",
       "stream": "stdout",
       "text": [
        "00:11 1.1Gb   18.7% Searching, 3.3% matched\r"
       ]
      },
      {
       "output_type": "stream",
       "stream": "stdout",
       "text": [
        "00:12 1.1Gb   20.0% Searching, 3.3% matched\r"
       ]
      },
      {
       "output_type": "stream",
       "stream": "stdout",
       "text": [
        "00:13 1.1Gb   22.5% Searching, 3.4% matched\r"
       ]
      },
      {
       "output_type": "stream",
       "stream": "stdout",
       "text": [
        "00:14 1.1Gb   24.8% Searching, 3.3% matched\r"
       ]
      },
      {
       "output_type": "stream",
       "stream": "stdout",
       "text": [
        "00:15 1.1Gb   27.7% Searching, 3.3% matched\r"
       ]
      },
      {
       "output_type": "stream",
       "stream": "stdout",
       "text": [
        "00:16 1.1Gb   29.0% Searching, 3.3% matched\r"
       ]
      },
      {
       "output_type": "stream",
       "stream": "stdout",
       "text": [
        "00:17 1.1Gb   31.2% Searching, 3.3% matched\r"
       ]
      },
      {
       "output_type": "stream",
       "stream": "stdout",
       "text": [
        "00:18 1.1Gb   33.2% Searching, 3.4% matched\r"
       ]
      },
      {
       "output_type": "stream",
       "stream": "stdout",
       "text": [
        "00:19 1.1Gb   35.9% Searching, 3.4% matched\r"
       ]
      },
      {
       "output_type": "stream",
       "stream": "stdout",
       "text": [
        "00:20 1.1Gb   36.9% Searching, 3.4% matched\r"
       ]
      },
      {
       "output_type": "stream",
       "stream": "stdout",
       "text": [
        "00:21 1.1Gb   39.3% Searching, 3.4% matched\r"
       ]
      },
      {
       "output_type": "stream",
       "stream": "stdout",
       "text": [
        "00:22 1.1Gb   41.1% Searching, 3.4% matched\r"
       ]
      },
      {
       "output_type": "stream",
       "stream": "stdout",
       "text": [
        "00:23 1.1Gb   43.3% Searching, 3.3% matched\r"
       ]
      },
      {
       "output_type": "stream",
       "stream": "stdout",
       "text": [
        "00:24 1.1Gb   46.0% Searching, 3.3% matched\r"
       ]
      },
      {
       "output_type": "stream",
       "stream": "stdout",
       "text": [
        "00:25 1.1Gb   47.3% Searching, 3.3% matched\r"
       ]
      },
      {
       "output_type": "stream",
       "stream": "stdout",
       "text": [
        "00:26 1.1Gb   49.8% Searching, 3.3% matched\r"
       ]
      },
      {
       "output_type": "stream",
       "stream": "stdout",
       "text": [
        "00:27 1.1Gb   52.2% Searching, 3.3% matched\r"
       ]
      },
      {
       "output_type": "stream",
       "stream": "stdout",
       "text": [
        "00:28 1.1Gb   54.3% Searching, 3.3% matched\r"
       ]
      },
      {
       "output_type": "stream",
       "stream": "stdout",
       "text": [
        "00:29 1.1Gb   56.1% Searching, 3.3% matched\r"
       ]
      },
      {
       "output_type": "stream",
       "stream": "stdout",
       "text": [
        "00:30 1.1Gb   57.9% Searching, 3.2% matched\r"
       ]
      },
      {
       "output_type": "stream",
       "stream": "stdout",
       "text": [
        "0"
       ]
      },
      {
       "output_type": "stream",
       "stream": "stdout",
       "text": [
        "0:31 1.1Gb   60.7% Searching, 3.2% matched\r"
       ]
      },
      {
       "output_type": "stream",
       "stream": "stdout",
       "text": [
        "00:32 1.1Gb   62.7% Searching, 3.2% matched\r"
       ]
      },
      {
       "output_type": "stream",
       "stream": "stdout",
       "text": [
        "00:33 1.1Gb   65.6% Searching, 3.2% matched\r"
       ]
      },
      {
       "output_type": "stream",
       "stream": "stdout",
       "text": [
        "00:34 1.1Gb   67.4% Searching, 3.3% matched\r"
       ]
      },
      {
       "output_type": "stream",
       "stream": "stdout",
       "text": [
        "00:35 1.1Gb   69.4% Searching, 3.3% matched\r"
       ]
      },
      {
       "output_type": "stream",
       "stream": "stdout",
       "text": [
        "00:36 1.1Gb   71.4% Searching, 3.3% matched\r"
       ]
      },
      {
       "output_type": "stream",
       "stream": "stdout",
       "text": [
        "00:37 1.1Gb   73.4% Searching, 3.4% matched\r"
       ]
      },
      {
       "output_type": "stream",
       "stream": "stdout",
       "text": [
        "00:38 1.1Gb   75.5% Searching, 3.4% matched\r"
       ]
      },
      {
       "output_type": "stream",
       "stream": "stdout",
       "text": [
        "00:39 1.1Gb   77.6% Searching, 3.4% matched\r"
       ]
      },
      {
       "output_type": "stream",
       "stream": "stdout",
       "text": [
        "00:40 1.1Gb   79.4% Searching, 3.4% matched\r"
       ]
      },
      {
       "output_type": "stream",
       "stream": "stdout",
       "text": [
        "00:41 1.1Gb   82.0% Searching, 3.5% matched\r"
       ]
      },
      {
       "output_type": "stream",
       "stream": "stdout",
       "text": [
        "00:42 1.1Gb   84.0% Searching, 3.5% matched\r"
       ]
      },
      {
       "output_type": "stream",
       "stream": "stdout",
       "text": [
        "00:43 1.1Gb   86.9% Searching, 3.5% matched\r"
       ]
      },
      {
       "output_type": "stream",
       "stream": "stdout",
       "text": [
        "00:44 1.1Gb   89.7% Searching, 3.5% matched\r"
       ]
      },
      {
       "output_type": "stream",
       "stream": "stdout",
       "text": [
        "00:45 1.1Gb   92.3% Searching, 3.6% matched\r"
       ]
      },
      {
       "output_type": "stream",
       "stream": "stdout",
       "text": [
        "00:46 1.1Gb   93.6% Searching, 3.7% matched\r"
       ]
      },
      {
       "output_type": "stream",
       "stream": "stdout",
       "text": [
        "00:47 1.1Gb   95.9% Searching, 3.7% matched\r"
       ]
      },
      {
       "output_type": "stream",
       "stream": "stdout",
       "text": [
        "00:48 1.1Gb   99.1% Searching, 3.7% matched\r"
       ]
      },
      {
       "output_type": "stream",
       "stream": "stdout",
       "text": [
        "00:49 1.1Gb   99.8% Searching, 3.7% matched\r"
       ]
      },
      {
       "output_type": "stream",
       "stream": "stdout",
       "text": [
        "00:49 1.1Gb  100.0% Searching, 3.7% matched\r",
        "\r\n"
       ]
      },
      {
       "output_type": "stream",
       "stream": "stdout",
       "text": [
        "usearch v7.0.1090_i86osx32, 4.0Gb RAM (15.0Gb total), 4 cores\r\n",
        "(C) Copyright 2013 Robert C. Edgar, all rights reserved.\r\n",
        "http://drive5.com/usearch\r\n",
        "\r\n",
        "Licensed to: sr320@uw.edu\r\n",
        "\r\n"
       ]
      },
      {
       "output_type": "stream",
       "stream": "stdout",
       "text": [
        "00:00 2.0Mb Reading /Volumes/Bay3/usearch/uniprot_sprot.udb\r\n"
       ]
      },
      {
       "output_type": "stream",
       "stream": "stdout",
       "text": [
        "00:02 1.1Gb Database loaded\r\n",
        "00:02 1.1Gb    0.1% Searching, 0.0% matched\r"
       ]
      },
      {
       "output_type": "stream",
       "stream": "stdout",
       "text": [
        "00:03 1.1Gb    0.8% Searching, 1.7% matched\r"
       ]
      },
      {
       "output_type": "stream",
       "stream": "stdout",
       "text": [
        "00:04 1.1Gb    3.1% Searching, 2.6% matched\r"
       ]
      },
      {
       "output_type": "stream",
       "stream": "stdout",
       "text": [
        "00:05 1.1Gb    5.2% Searching, 3.3% matched\r"
       ]
      },
      {
       "output_type": "stream",
       "stream": "stdout",
       "text": [
        "00:06 1.1Gb    7.2% Searching, 2.8% matched\r"
       ]
      },
      {
       "output_type": "stream",
       "stream": "stdout",
       "text": [
        "00:07 1.1Gb    9.4% Searching, 3.5% matched\r"
       ]
      },
      {
       "output_type": "stream",
       "stream": "stdout",
       "text": [
        "00:08 1.1Gb   11.5% Searching, 3.6% matched\r"
       ]
      },
      {
       "output_type": "stream",
       "stream": "stdout",
       "text": [
        "00:09 1.1Gb   14.1% Searching, 3.4% matched\r"
       ]
      },
      {
       "output_type": "stream",
       "stream": "stdout",
       "text": [
        "00:10 1.1Gb   16.4% Searching, 3.2% matched\r"
       ]
      },
      {
       "output_type": "stream",
       "stream": "stdout",
       "text": [
        "00:11 1.1Gb   18.5% Searching, 3.3% matched\r"
       ]
      },
      {
       "output_type": "stream",
       "stream": "stdout",
       "text": [
        "00:12 1.1Gb   20.0% Searching, 3.0% matched\r"
       ]
      },
      {
       "output_type": "stream",
       "stream": "stdout",
       "text": [
        "00:13 1.1Gb   22.1% Searching, 3.1% matched\r"
       ]
      },
      {
       "output_type": "stream",
       "stream": "stdout",
       "text": [
        "00:14 1.1Gb   23.7% Searching, 3.4% matched\r"
       ]
      },
      {
       "output_type": "stream",
       "stream": "stdout",
       "text": [
        "00:15 1.1Gb   25.2% Searching, 3.4% matched\r"
       ]
      },
      {
       "output_type": "stream",
       "stream": "stdout",
       "text": [
        "00:16 1.1Gb   27.4% Searching, 3.5% matched\r"
       ]
      },
      {
       "output_type": "stream",
       "stream": "stdout",
       "text": [
        "00:17 1.1Gb   30.0% Searching, 3.4% matched\r"
       ]
      },
      {
       "output_type": "stream",
       "stream": "stdout",
       "text": [
        "00:18 1.1Gb   32.5% Searching, 3.4% matched\r"
       ]
      },
      {
       "output_type": "stream",
       "stream": "stdout",
       "text": [
        "00:19 1.1Gb   34.7% Searching, 3.3% matched\r"
       ]
      },
      {
       "output_type": "stream",
       "stream": "stdout",
       "text": [
        "00:20 1.1Gb   37.0% Searching, 3.3% matched\r"
       ]
      },
      {
       "output_type": "stream",
       "stream": "stdout",
       "text": [
        "00:21 1.1Gb   38.8% Searching, 3.4% matched\r"
       ]
      },
      {
       "output_type": "stream",
       "stream": "stdout",
       "text": [
        "00:22 1.1Gb   40.2% Searching, 3.3% matched\r"
       ]
      },
      {
       "output_type": "stream",
       "stream": "stdout",
       "text": [
        "00:23 1.1Gb   41.6% Searching, 3.4% matched\r"
       ]
      },
      {
       "output_type": "stream",
       "stream": "stdout",
       "text": [
        "00:24 1.1Gb   42.8% Searching, 3.4% matched\r"
       ]
      },
      {
       "output_type": "stream",
       "stream": "stdout",
       "text": [
        "00:25 1.1Gb   44.5% Searching, 3.4% matched\r"
       ]
      },
      {
       "output_type": "stream",
       "stream": "stdout",
       "text": [
        "00:26 1.1Gb   47.0% Searching, 3.4% matched\r"
       ]
      },
      {
       "output_type": "stream",
       "stream": "stdout",
       "text": [
        "00:27 1.1Gb   49.1% Searching, 3.4% matched\r"
       ]
      },
      {
       "output_type": "stream",
       "stream": "stdout",
       "text": [
        "00:28 1.1Gb   52.7% Searching, 3.4% matched\r"
       ]
      },
      {
       "output_type": "stream",
       "stream": "stdout",
       "text": [
        "00:29 1.1Gb   53.6% Searching, 3.5% matched\r"
       ]
      },
      {
       "output_type": "stream",
       "stream": "stdout",
       "text": [
        "00:30 1.1Gb   55.4% Searching, 3.5% matched\r"
       ]
      },
      {
       "output_type": "stream",
       "stream": "stdout",
       "text": [
        "00:31 1.1Gb   57.9% Searching, 3.5% matched\r"
       ]
      },
      {
       "output_type": "stream",
       "stream": "stdout",
       "text": [
        "00:32 1.1Gb   60.2% Searching, 3.5% matched\r"
       ]
      },
      {
       "output_type": "stream",
       "stream": "stdout",
       "text": [
        "00:33 1.1Gb   62.8% Searching, 3.4% matched\r"
       ]
      },
      {
       "output_type": "stream",
       "stream": "stdout",
       "text": [
        "00:34 1.1Gb   64.4% Searching, 3.4% matched\r"
       ]
      },
      {
       "output_type": "stream",
       "stream": "stdout",
       "text": [
        "00:35 1.1Gb   66.6% Searching, 3.4% matched\r"
       ]
      },
      {
       "output_type": "stream",
       "stream": "stdout",
       "text": [
        "00:36 1.1Gb   69.1% Searching, 3.4% matched\r"
       ]
      },
      {
       "output_type": "stream",
       "stream": "stdout",
       "text": [
        "00:37 1.1Gb   70.9% Searching, 3.5% matched\r"
       ]
      },
      {
       "output_type": "stream",
       "stream": "stdout",
       "text": [
        "00:38 1.1Gb   73.6% Searching, 3.5% matched\r"
       ]
      },
      {
       "output_type": "stream",
       "stream": "stdout",
       "text": [
        "00:39 1.1Gb   76.1% Searching, 3.5% matched\r"
       ]
      },
      {
       "output_type": "stream",
       "stream": "stdout",
       "text": [
        "00:40 1.1Gb   77.9% Searching, 3.5% matched\r"
       ]
      },
      {
       "output_type": "stream",
       "stream": "stdout",
       "text": [
        "00:41 1.1Gb   80.1% Searching, 3.5% matched\r"
       ]
      },
      {
       "output_type": "stream",
       "stream": "stdout",
       "text": [
        "00:42 1.1Gb   82.0% Searching, 3.5% matched\r"
       ]
      },
      {
       "output_type": "stream",
       "stream": "stdout",
       "text": [
        "00:43 1.1Gb   84.1% Searching, 3.5% matched\r"
       ]
      },
      {
       "output_type": "stream",
       "stream": "stdout",
       "text": [
        "00:44 1.1Gb   86.8% Searching, 3.5% matched\r"
       ]
      },
      {
       "output_type": "stream",
       "stream": "stdout",
       "text": [
        "00:45 1.1Gb   89.0% Searching, 3.5% matched\r"
       ]
      },
      {
       "output_type": "stream",
       "stream": "stdout",
       "text": [
        "00:46 1.1Gb   90.5% Searching, 3.5% matched\r"
       ]
      },
      {
       "output_type": "stream",
       "stream": "stdout",
       "text": [
        "00:47 1.1Gb   93.3% Searching, 3.5% matched\r"
       ]
      },
      {
       "output_type": "stream",
       "stream": "stdout",
       "text": [
        "00:48 1.1Gb   94.9% Searching, 3.5% matched\r"
       ]
      },
      {
       "output_type": "stream",
       "stream": "stdout",
       "text": [
        "00:49 1.1Gb   96.4% Searching, 3.6% matched\r"
       ]
      },
      {
       "output_type": "stream",
       "stream": "stdout",
       "text": [
        "00:50 1.1Gb   98.9% Searching, 3.6% matched\r"
       ]
      },
      {
       "output_type": "stream",
       "stream": "stdout",
       "text": [
        "00:50 1.1Gb  100.0% Searching, 3.6% matched\r",
        "\r\n"
       ]
      },
      {
       "output_type": "stream",
       "stream": "stdout",
       "text": [
        "usearch v7.0.1090_i86osx32, 4.0Gb RAM (15.0Gb total), 4 cores\r\n",
        "(C) Copyright 2013 Robert C. Edgar, all rights reserved.\r\n",
        "http://drive5.com/usearch\r\n",
        "\r\n",
        "Licensed to: sr320@uw.edu\r\n",
        "\r\n",
        "00:00 1.8Mb Reading /Volumes"
       ]
      },
      {
       "output_type": "stream",
       "stream": "stdout",
       "text": [
        "/Bay3/usearch/uniprot_sprot.udb\r\n"
       ]
      },
      {
       "output_type": "stream",
       "stream": "stdout",
       "text": [
        "00:02 1.1Gb Database loaded\r\n",
        "00:02 1.1Gb    0.1% Searching, 0.0% matched\r"
       ]
      },
      {
       "output_type": "stream",
       "stream": "stdout",
       "text": [
        "00:03 1.1Gb    0.7% Searching, 0.0% matched\r"
       ]
      },
      {
       "output_type": "stream",
       "stream": "stdout",
       "text": [
        "usearch(61545,0xb0185000) malloc: *** mmap(size=1123594240) failed (error code=12)\r\n",
        "*** error: can't allocate region\r\n",
        "*** set a breakpoint in malloc_error_break to debug\r\n",
        "\r\n",
        "Out of memory mymalloc(1123590396), curr 1.06e+09 bytes\r\n",
        "\r\n",
        "myutils.cpp(2212): \r\n",
        "\r\n",
        "usearch -ublast cgigas.part-48.fa -db /Volumes/Bay3/usearch/uniprot_sprot.udb -evalue 1e-5 -accel 0.8 -top_hits_only -maxhits 1 -blast6out /Volumes/web/cnidarian/cgigas8_cgigas.part-48.fa_ublast_sprot.b6\r\n",
        "\r\n",
        "---Fatal error---\r\n",
        "Out of memory, mymalloc(1123590396), curr 1.06e+09 bytes\r\n",
        "\r\n"
       ]
      },
      {
       "output_type": "stream",
       "stream": "stdout",
       "text": [
        "usearch v7.0.1090_i86osx32, 4.0Gb RAM (15.0Gb total), 4 cores\r\n",
        "(C) Copyright 2013 Robert C. Edgar, all rights reserved.\r\n",
        "http://drive5.com/usearch\r\n",
        "\r\n",
        "Licensed to: sr320@uw.edu\r\n",
        "\r\n"
       ]
      },
      {
       "output_type": "stream",
       "stream": "stdout",
       "text": [
        "00:00 1.7Mb Reading /Volumes/Bay3/usearch/uniprot_sprot.udb\r\n"
       ]
      },
      {
       "output_type": "stream",
       "stream": "stdout",
       "text": [
        "00:03 1.1Gb Database loaded\r\n",
        "00:03 1.1Gb    0.1% Searching, 0.0% matched\r"
       ]
      },
      {
       "output_type": "stream",
       "stream": "stdout",
       "text": [
        "00:04 1.1Gb    3.2% Searching, 7.0% matched\r"
       ]
      },
      {
       "output_type": "stream",
       "stream": "stdout",
       "text": [
        "00:05 1.1Gb    5.7% Searching, 6.0% matched\r"
       ]
      },
      {
       "output_type": "stream",
       "stream": "stdout",
       "text": [
        "00:06 1.1Gb    8.9% Searching, 6.0% matched\r"
       ]
      },
      {
       "output_type": "stream",
       "stream": "stdout",
       "text": [
        "00:07 1.1Gb   12.0% Searching, 5.6% matched\r"
       ]
      },
      {
       "output_type": "stream",
       "stream": "stdout",
       "text": [
        "00:08 1.1Gb   15.4% Searching, 5.0% matched\r"
       ]
      },
      {
       "output_type": "stream",
       "stream": "stdout",
       "text": [
        "00:09 1.1Gb   18.9% Searching, "
       ]
      },
      {
       "output_type": "stream",
       "stream": "stdout",
       "text": [
        "4.8% matched\r"
       ]
      },
      {
       "output_type": "stream",
       "stream": "stdout",
       "text": [
        "00:10 1.1Gb   21.2% Searching, 4.6% matched\r"
       ]
      },
      {
       "output_type": "stream",
       "stream": "stdout",
       "text": [
        "00:11 1.1Gb   24.3% Searching, 4.3% matched\r"
       ]
      },
      {
       "output_type": "stream",
       "stream": "stdout",
       "text": [
        "00:12 1.1Gb   27.4% Searching, 4.2% matched\r"
       ]
      },
      {
       "output_type": "stream",
       "stream": "stdout",
       "text": [
        "00:13 1.1Gb   30.8% Searching, 4.0% matched\r"
       ]
      },
      {
       "output_type": "stream",
       "stream": "stdout",
       "text": [
        "00:14 1.1Gb   34.2% Searching, 4.0% matched\r"
       ]
      },
      {
       "output_type": "stream",
       "stream": "stdout",
       "text": [
        "00:15 1.1Gb   37.1% Searching, 4.0% matched\r"
       ]
      },
      {
       "output_type": "stream",
       "stream": "stdout",
       "text": [
        "00:16 1.1Gb   40.1% Searching, 3.8% matched\r"
       ]
      },
      {
       "output_type": "stream",
       "stream": "stdout",
       "text": [
        "00:17 1.1Gb   43.9% Searching, 3.6% matched\r"
       ]
      },
      {
       "output_type": "stream",
       "stream": "stdout",
       "text": [
        "00:18 1.1Gb   46.7% Searching, 3.6% matched\r"
       ]
      },
      {
       "output_type": "stream",
       "stream": "stdout",
       "text": [
        "00:19 1.1Gb   50.9% Searching, 3.7% matched\r"
       ]
      },
      {
       "output_type": "stream",
       "stream": "stdout",
       "text": [
        "00:20 1.1Gb   53.6% Searching, 3.7% matched\r"
       ]
      },
      {
       "output_type": "stream",
       "stream": "stdout",
       "text": [
        "00:21 1.1Gb   56.9% Searching, 3.7% matched\r"
       ]
      },
      {
       "output_type": "stream",
       "stream": "stdout",
       "text": [
        "00:22 1.1Gb   60.0% Searching, 3.8% matched\r"
       ]
      },
      {
       "output_type": "stream",
       "stream": "stdout",
       "text": [
        "00:23 1.1Gb   63.6% Searching, 3.7% matched\r"
       ]
      },
      {
       "output_type": "stream",
       "stream": "stdout",
       "text": [
        "00:24 1.1Gb   66.2% Searching, 3.7% matched\r"
       ]
      },
      {
       "output_type": "stream",
       "stream": "stdout",
       "text": [
        "0"
       ]
      },
      {
       "output_type": "stream",
       "stream": "stdout",
       "text": [
        "0:25 1.1Gb   69.8% Searching, 3.8% matched\r"
       ]
      },
      {
       "output_type": "stream",
       "stream": "stdout",
       "text": [
        "00:26 1.1Gb   73.9% Searching, 3.8% matched\r"
       ]
      },
      {
       "output_type": "stream",
       "stream": "stdout",
       "text": [
        "00:27 1.1Gb   74.4% Searching, 3.9% matched\r"
       ]
      },
      {
       "output_type": "stream",
       "stream": "stdout",
       "text": [
        "00:28 1.1Gb   77.7% Searching, 3.9% matched\r"
       ]
      },
      {
       "output_type": "stream",
       "stream": "stdout",
       "text": [
        "00:29 1.1Gb   79.4% Searching, 3.9% matched\r"
       ]
      },
      {
       "output_type": "stream",
       "stream": "stdout",
       "text": [
        "00:30 1.1Gb   83.4% Searching, 4.0% matched\r"
       ]
      },
      {
       "output_type": "stream",
       "stream": "stdout",
       "text": [
        "00:31 1.1Gb   85.3% Searching, 4.0% matched\r"
       ]
      },
      {
       "output_type": "stream",
       "stream": "stdout",
       "text": [
        "00:32 1.1Gb   87.6% Searching, 4.0% matched\r"
       ]
      },
      {
       "output_type": "stream",
       "stream": "stdout",
       "text": [
        "00:33 1.1Gb   90.9% Searching, 4.0% matched\r"
       ]
      },
      {
       "output_type": "stream",
       "stream": "stdout",
       "text": [
        "00:34 1.1Gb   94.8% Searching, 4.0% matched\r"
       ]
      },
      {
       "output_type": "stream",
       "stream": "stdout",
       "text": [
        "00:35 1.1Gb   98.1% Searching, 4.0% matched\r"
       ]
      },
      {
       "output_type": "stream",
       "stream": "stdout",
       "text": [
        "00:36 1.1Gb   99.8% Searching, 4.0% matched\r"
       ]
      },
      {
       "output_type": "stream",
       "stream": "stdout",
       "text": [
        "00:36 1.1Gb  100.0% Searching, 4.0% matched\r",
        "\r\n"
       ]
      },
      {
       "output_type": "stream",
       "stream": "stdout",
       "text": [
        "usearch v7.0.1090_i86osx32, 4.0Gb RAM (15.0Gb total), 4 cores\r\n",
        "(C) Copyright 2013 Robert C. Edgar, all rights reserved.\r\n",
        "http://drive5.com/usearch\r\n",
        "\r\n",
        "Licensed to: sr320@uw.edu\r\n",
        "\r\n",
        "00:00 2.1Mb Reading /Volumes/Bay3/usearch/uniprot_sprot.udb\r\n"
       ]
      },
      {
       "output_type": "stream",
       "stream": "stdout",
       "text": [
        "00:02 1.1Gb Database loaded\r\n",
        "00:02 1.1Gb    0.1% Searching, 0.0% matched\r"
       ]
      },
      {
       "output_type": "stream",
       "stream": "stdout",
       "text": [
        "00:03 1.1Gb    1.2% Searching, 5.7% matched\r"
       ]
      },
      {
       "output_type": "stream",
       "stream": "stdout",
       "text": [
        "00:04 1.1Gb    3.2% Searching, 4.4% matched\r"
       ]
      },
      {
       "output_type": "stream",
       "stream": "stdout",
       "text": [
        "00:05 1.1Gb    5.2% Searching, 4.7% matched\r"
       ]
      },
      {
       "output_type": "stream",
       "stream": "stdout",
       "text": [
        "00:06 1.1Gb    7.3% Searching, 4.5% matched\r"
       ]
      },
      {
       "output_type": "stream",
       "stream": "stdout",
       "text": [
        "00:07 1.1Gb    9.2% Searching, 4.7% matched\r"
       ]
      },
      {
       "output_type": "stream",
       "stream": "stdout",
       "text": [
        "00:08 1.1Gb   11.3% Searching, 4.9% matched\r"
       ]
      },
      {
       "output_type": "stream",
       "stream": "stdout",
       "text": [
        "00:09 1.1Gb   14.2% Searching, 4.5% matched\r"
       ]
      },
      {
       "output_type": "stream",
       "stream": "stdout",
       "text": [
        "00:10 1.1Gb   16.4% Searching, 4.4% matched\r"
       ]
      },
      {
       "output_type": "stream",
       "stream": "stdout",
       "text": [
        "00:11 1.1Gb   18.2% Searching, 4.4% matched\r"
       ]
      },
      {
       "output_type": "stream",
       "stream": "stdout",
       "text": [
        "00:12 1.1Gb   20.2% Searching, 4.3% matched\r"
       ]
      },
      {
       "output_type": "stream",
       "stream": "stdout",
       "text": [
        "00:13 1.1Gb   22.3% Searching, 4.2% matched\r"
       ]
      },
      {
       "output_type": "stream",
       "stream": "stdout",
       "text": [
        "usearch(61967,0xac31a2c0) malloc: *** mmap(size=1180405760) failed (error code=12)\r\n",
        "*** error: can't allocate region\r\n",
        "*** set a breakpoint in malloc_error_break to debug\r\n",
        "\r\n",
        "Out of memory mymalloc(1180403445), curr 1.07e+09 bytes\r\n",
        "\r\n",
        "myutils.cpp(2212): \r\n",
        "\r\n",
        "usearch -ublast cgigas.part-50.fa -db /Volumes/Bay3/usearch/uniprot_sprot.udb -evalue 1e-5 -accel 0.8 -top_hits_only -maxhits 1 -blast6out /Volumes/web/cnidarian/cgigas8_cgigas.part-50.fa_ublast_sprot.b6\r\n",
        "\r\n",
        "---Fatal error---\r\n",
        "Out of memory, mymalloc(1180403445), curr 1.07e+09 bytes\r\n",
        "\r\n"
       ]
      },
      {
       "output_type": "stream",
       "stream": "stdout",
       "text": [
        "usearch v7.0.1090_i86osx32, 4.0Gb RAM (15.0Gb total), 4 cores\r\n",
        "(C) Copyright 2013 Robert C. Edgar, all rights reserved.\r\n",
        "http://drive5.com/usearch\r\n",
        "\r\n",
        "Licensed to: sr320@uw.edu\r\n",
        "\r\n"
       ]
      },
      {
       "output_type": "stream",
       "stream": "stdout",
       "text": [
        "00:00 2.1Mb Reading /Volumes/Bay3/usearch/uniprot_sprot.udb\r\n"
       ]
      },
      {
       "output_type": "stream",
       "stream": "stdout",
       "text": [
        "00:02 1.1Gb Database loaded\r\n",
        "00:02 1.1Gb    0.1% Searching, 0.0% matched\r"
       ]
      },
      {
       "output_type": "stream",
       "stream": "stdout",
       "text": [
        "00:03 1.1Gb    2.3% Searching, 4.4% matched\r"
       ]
      },
      {
       "output_type": "stream",
       "stream": "stdout",
       "text": [
        "00:04 1.1Gb    4.8% Searching, 3.1% matched\r"
       ]
      },
      {
       "output_type": "stream",
       "stream": "stdout",
       "text": [
        "00:05 1.1Gb    6.9% Searching, 3.2% matched\r"
       ]
      },
      {
       "output_type": "stream",
       "stream": "stdout",
       "text": [
        "00:06 1.1Gb    8.9% Searching, 3.9% matched\r"
       ]
      },
      {
       "output_type": "stream",
       "stream": "stdout",
       "text": [
        "00:07 1.1Gb   11.2% Searching, 4.2% matched\r"
       ]
      },
      {
       "output_type": "stream",
       "stream": "stdout",
       "text": [
        "00:08 1.1Gb   12.9% Searching, 4.8% matched\r"
       ]
      },
      {
       "output_type": "stream",
       "stream": "stdout",
       "text": [
        "00:09 1.1Gb   14.8% Searching, 4.5% matched\r"
       ]
      },
      {
       "output_type": "stream",
       "stream": "stdout",
       "text": [
        "00:10 1.1Gb   17.7% Searching, 4.2% matched\r"
       ]
      },
      {
       "output_type": "stream",
       "stream": "stdout",
       "text": [
        "00:11 1.1Gb   20.1% Searching, 4.0% matched\r"
       ]
      },
      {
       "output_type": "stream",
       "stream": "stdout",
       "text": [
        "00:12 1.1Gb   21.9% Searching, 4.0% matched\r"
       ]
      },
      {
       "output_type": "stream",
       "stream": "stdout",
       "text": [
        "00:13 1.1Gb   24.7% Searching, 4.0% matched\r"
       ]
      },
      {
       "output_type": "stream",
       "stream": "stdout",
       "text": [
        "00:14 1.1Gb   26.9% Searching, 4.2% matched\r"
       ]
      },
      {
       "output_type": "stream",
       "stream": "stdout",
       "text": [
        "00:15 1.1Gb   29.5% Searching, 4.1% matched\r"
       ]
      },
      {
       "output_type": "stream",
       "stream": "stdout",
       "text": [
        "00:16 1.1Gb   31.3% Searching, 4.1% matched\r"
       ]
      },
      {
       "output_type": "stream",
       "stream": "stdout",
       "text": [
        "00:17 1.1Gb   33.7% Searching, 4.0% matched\r"
       ]
      },
      {
       "output_type": "stream",
       "stream": "stdout",
       "text": [
        "00:18 1.1Gb   35.1% Searching, 4.0% matched\r"
       ]
      },
      {
       "output_type": "stream",
       "stream": "stdout",
       "text": [
        "00:19 1.1Gb   37.6% Searching, 3.9% matched\r"
       ]
      },
      {
       "output_type": "stream",
       "stream": "stdout",
       "text": [
        "00:20 1.1Gb   39.6% Searching, 3.9% matched\r"
       ]
      },
      {
       "output_type": "stream",
       "stream": "stdout",
       "text": [
        "00:21 1.1Gb   42.1% Searching, 3.9% matched\r"
       ]
      },
      {
       "output_type": "stream",
       "stream": "stdout",
       "text": [
        "00:22 1.1Gb   43.9% Searching, 3.8% matched\r"
       ]
      },
      {
       "output_type": "stream",
       "stream": "stdout",
       "text": [
        "00:23 1.1Gb   46.3% Searching, 3.7% matched\r"
       ]
      },
      {
       "output_type": "stream",
       "stream": "stdout",
       "text": [
        "00:24 1.1Gb   48.5% Searching, 3.8% matched\r"
       ]
      },
      {
       "output_type": "stream",
       "stream": "stdout",
       "text": [
        "00:25 1.1Gb   50.5% Searching, 3.8% matched\r"
       ]
      },
      {
       "output_type": "stream",
       "stream": "stdout",
       "text": [
        "00:26 1.1Gb   52.6% Searching, 3.8% matched\r"
       ]
      },
      {
       "output_type": "stream",
       "stream": "stdout",
       "text": [
        "00:27 1.1Gb   54.8% Searching, 3.9% matched\r"
       ]
      },
      {
       "output_type": "stream",
       "stream": "stdout",
       "text": [
        "00:28 1.1Gb   57.4% Searching, 3.8% matched\r"
       ]
      },
      {
       "output_type": "stream",
       "stream": "stdout",
       "text": [
        "00:29 1.1Gb   59.6% Searching, 3.9% matched\r"
       ]
      },
      {
       "output_type": "stream",
       "stream": "stdout",
       "text": [
        "00:30 1.1Gb   61.5% Searching, 3.9% matched\r"
       ]
      },
      {
       "output_type": "stream",
       "stream": "stdout",
       "text": [
        "00:31 1.1Gb   63.6% Searching, 3.9% matched\r"
       ]
      },
      {
       "output_type": "stream",
       "stream": "stdout",
       "text": [
        "00:32 1.1Gb   65.8% Searching, 3.8% matched\r"
       ]
      },
      {
       "output_type": "stream",
       "stream": "stdout",
       "text": [
        "00:33 1.1Gb   68.1% Searching, 3.8% matched\r"
       ]
      },
      {
       "output_type": "stream",
       "stream": "stdout",
       "text": [
        "00:34 1.1Gb   71.0% Searching, 3.8% matched\r"
       ]
      },
      {
       "output_type": "stream",
       "stream": "stdout",
       "text": [
        "00:35 1.1Gb   72.4% Searching, 3.8% matched\r"
       ]
      },
      {
       "output_type": "stream",
       "stream": "stdout",
       "text": [
        "00:36 1.1Gb   75.1% Searching, 3.8% matched\r"
       ]
      },
      {
       "output_type": "stream",
       "stream": "stdout",
       "text": [
        "00:37 1.1Gb   77.1% Searching, 3.8% matched\r"
       ]
      },
      {
       "output_type": "stream",
       "stream": "stdout",
       "text": [
        "00:38 1.1Gb   79.4% Searching, 3.8% matched\r"
       ]
      },
      {
       "output_type": "stream",
       "stream": "stdout",
       "text": [
        "00:39 1.1Gb   81.3% Searching, 3.8% matched\r"
       ]
      },
      {
       "output_type": "stream",
       "stream": "stdout",
       "text": [
        "00:40 1.1Gb   83.3% Searching, 3.8% matched\r"
       ]
      },
      {
       "output_type": "stream",
       "stream": "stdout",
       "text": [
        "00:41 1.1Gb   85.5% Searching, 3.8% matched\r"
       ]
      },
      {
       "output_type": "stream",
       "stream": "stdout",
       "text": [
        "00:42 1.1Gb   87.6% Searching, 3.9% matched\r"
       ]
      },
      {
       "output_type": "stream",
       "stream": "stdout",
       "text": [
        "00:43 1.1Gb   89.9% Searching, 3.8% matched\r"
       ]
      },
      {
       "output_type": "stream",
       "stream": "stdout",
       "text": [
        "00:44 1.1Gb   91.3% Searching, 3.9% matched\r"
       ]
      },
      {
       "output_type": "stream",
       "stream": "stdout",
       "text": [
        "00:45 1.1Gb   93.9% Searching, 3.9% matched\r"
       ]
      },
      {
       "output_type": "stream",
       "stream": "stdout",
       "text": [
        "00:46 1.1Gb   96.2% Searching, 3.9% matched\r"
       ]
      },
      {
       "output_type": "stream",
       "stream": "stdout",
       "text": [
        "00:47 1.1Gb   98.1% Searching, 3.9% matched\r"
       ]
      },
      {
       "output_type": "stream",
       "stream": "stdout",
       "text": [
        "00:47 1.1Gb  100.0% Searching, 3.8% matched\r",
        "\r\n"
       ]
      },
      {
       "output_type": "stream",
       "stream": "stdout",
       "text": [
        "usearch v7.0.1090_i86osx32, 4.0Gb RAM (15.0Gb total), 4 cores\r\n",
        "(C) Copyright 2013 Robert C. Edgar, all rights reserved.\r\n",
        "http://drive5.com/usearch\r\n",
        "\r\n",
        "Licensed to: sr320@uw.edu\r\n",
        "\r\n",
        "00:00 2.0Mb Reading /Volumes/Bay3/usearch/uniprot_sprot.udb\r\n"
       ]
      },
      {
       "output_type": "stream",
       "stream": "stdout",
       "text": [
        "00:02 1.1Gb Database loaded\r\n",
        "00:02 1.1Gb    0.1% Searching, 0.0% matched\r"
       ]
      },
      {
       "output_type": "stream",
       "stream": "stdout",
       "text": [
        "00:03 1.1Gb    1.7% Searching, 2.6% matched\r"
       ]
      },
      {
       "output_type": "stream",
       "stream": "stdout",
       "text": [
        "00:04 1.1Gb    4.2% Searching, 3.5% matched\r"
       ]
      },
      {
       "output_type": "stream",
       "stream": "stdout",
       "text": [
        "00:05 1.1Gb    6.7% Searching, 3.4% matched\r"
       ]
      },
      {
       "output_type": "stream",
       "stream": "stdout",
       "text": [
        "00:06 1.1Gb    8.6% Searching, 3.5% matched\r"
       ]
      },
      {
       "output_type": "stream",
       "stream": "stdout",
       "text": [
        "00:07 1.1Gb   10.6% Searching, 3.7% matched\r"
       ]
      },
      {
       "output_type": "stream",
       "stream": "stdout",
       "text": [
        "00:08 1.1Gb   12.7% Searching, 4.1% matched\r"
       ]
      },
      {
       "output_type": "stream",
       "stream": "stdout",
       "text": [
        "00:09 1.1Gb   14.6% Searching, 3.9% matched\r"
       ]
      },
      {
       "output_type": "stream",
       "stream": "stdout",
       "text": [
        "00:10 1.1Gb   16.7% Searching, 3.8% matched\r"
       ]
      },
      {
       "output_type": "stream",
       "stream": "stdout",
       "text": [
        "00:11 1.1Gb   18.7% Searching, 3.9% matched\r"
       ]
      },
      {
       "output_type": "stream",
       "stream": "stdout",
       "text": [
        "00:12 1.1Gb   20.2% Searching, 3.8% matched\r"
       ]
      },
      {
       "output_type": "stream",
       "stream": "stdout",
       "text": [
        "00:13 1.1Gb   22.4% Searching, 4.0% matched\r"
       ]
      },
      {
       "output_type": "stream",
       "stream": "stdout",
       "text": [
        "00:14 1.1Gb   24.2% Searching, 4.0% matched\r"
       ]
      },
      {
       "output_type": "stream",
       "stream": "stdout",
       "text": [
        "00:15 1.1Gb   25.7% Searching, 3.9% matched\r"
       ]
      },
      {
       "output_type": "stream",
       "stream": "stdout",
       "text": [
        "00:16 1.1Gb   27.7% Searching, 3.9% matched\r"
       ]
      },
      {
       "output_type": "stream",
       "stream": "stdout",
       "text": [
        "00:17 1.1Gb   29.9% Searching, 3.8% matched\r"
       ]
      },
      {
       "output_type": "stream",
       "stream": "stdout",
       "text": [
        "00:18 1.1Gb   31.7% Searching, 3.9% matched\r"
       ]
      },
      {
       "output_type": "stream",
       "stream": "stdout",
       "text": [
        "00:19 1.1Gb   34.1% Searching, 3.9% matched\r"
       ]
      },
      {
       "output_type": "stream",
       "stream": "stdout",
       "text": [
        "00:20 1.1Gb   35.8% Searching, 3.9% matched\r"
       ]
      },
      {
       "output_type": "stream",
       "stream": "stdout",
       "text": [
        "00:21 1.1Gb   37.6% Searching, 3.9% matched\r"
       ]
      },
      {
       "output_type": "stream",
       "stream": "stdout",
       "text": [
        "00:22 1.1Gb   39.9% Searching, 3.9% matched\r"
       ]
      },
      {
       "output_type": "stream",
       "stream": "stdout",
       "text": [
        "00:23 1.1Gb   42.1% Searching, 3.8% matched\r"
       ]
      },
      {
       "output_type": "stream",
       "stream": "stdout",
       "text": [
        "00:24 1.1Gb   44.7% Searching, 3.6% matched\r"
       ]
      },
      {
       "output_type": "stream",
       "stream": "stdout",
       "text": [
        "00:25 1.1Gb   48.0% Searching, 3.5% matched\r"
       ]
      },
      {
       "output_type": "stream",
       "stream": "stdout",
       "text": [
        "00:26 1.1Gb   49.5% Searching, 3.5% matched\r"
       ]
      },
      {
       "output_type": "stream",
       "stream": "stdout",
       "text": [
        "00:27 1.1Gb   51.7% Searching, 3.5% matched\r"
       ]
      },
      {
       "output_type": "stream",
       "stream": "stdout",
       "text": [
        "00:28 1.1Gb   53.4% Searching, 3.5% matched\r"
       ]
      },
      {
       "output_type": "stream",
       "stream": "stdout",
       "text": [
        "00:29 1.1Gb   55.2% Searching, 3.5% matched\r"
       ]
      },
      {
       "output_type": "stream",
       "stream": "stdout",
       "text": [
        "00:30 1.1Gb   58.0% Searching, 3.5% matched\r"
       ]
      },
      {
       "output_type": "stream",
       "stream": "stdout",
       "text": [
        "00:31 1.1Gb   59.5% Searching, 3.4% matched\r"
       ]
      },
      {
       "output_type": "stream",
       "stream": "stdout",
       "text": [
        "00:32 1.1Gb   62.2% Searching, 3.5% matched\r"
       ]
      },
      {
       "output_type": "stream",
       "stream": "stdout",
       "text": [
        "00:33 1.1Gb   65.2% Searching, 3.4% matched\r"
       ]
      },
      {
       "output_type": "stream",
       "stream": "stdout",
       "text": [
        "00:34 1.1Gb   67.5% Searching, 3.5% matched\r"
       ]
      },
      {
       "output_type": "stream",
       "stream": "stdout",
       "text": [
        "00:35 1.1Gb   70.7% Searching, 3.4% matched\r"
       ]
      },
      {
       "output_type": "stream",
       "stream": "stdout",
       "text": [
        "00:36 1.1Gb   73.3% Searching, 3.4% matched\r"
       ]
      },
      {
       "output_type": "stream",
       "stream": "stdout",
       "text": [
        "00:37 1.1Gb   75.3% Searching, 3.4% matched\r"
       ]
      },
      {
       "output_type": "stream",
       "stream": "stdout",
       "text": [
        "00:38 1.1Gb   78.2% Searching, 3.4% matched\r"
       ]
      },
      {
       "output_type": "stream",
       "stream": "stdout",
       "text": [
        "00:39 1.1Gb   80.1% Searching, 3.4% matched\r"
       ]
      },
      {
       "output_type": "stream",
       "stream": "stdout",
       "text": [
        "00:40 1.1Gb   81.8% Searching, 3.4% matched\r"
       ]
      },
      {
       "output_type": "stream",
       "stream": "stdout",
       "text": [
        "00:41 1.1Gb   83.8% Searching, 3.4% matched\r"
       ]
      },
      {
       "output_type": "stream",
       "stream": "stdout",
       "text": [
        "00:42 1.1Gb   86.7% Searching, 3.4% matched\r"
       ]
      },
      {
       "output_type": "stream",
       "stream": "stdout",
       "text": [
        "00:43 1.1Gb   88.8% Searching, 3.4% matched\r"
       ]
      },
      {
       "output_type": "stream",
       "stream": "stdout",
       "text": [
        "00:44 1.1Gb   91.2% Searching, 3.4% matched\r"
       ]
      },
      {
       "output_type": "stream",
       "stream": "stdout",
       "text": [
        "00:45 1.1Gb   93.7% Searching, 3.4% matched\r"
       ]
      },
      {
       "output_type": "stream",
       "stream": "stdout",
       "text": [
        "00:46 1.1Gb   95.8% Searching, 3.5% matched\r"
       ]
      },
      {
       "output_type": "stream",
       "stream": "stdout",
       "text": [
        "00:47 1.1Gb   98.2% Searching, 3.5% matched\r"
       ]
      },
      {
       "output_type": "stream",
       "stream": "stdout",
       "text": [
        "00:48 1.1Gb  100.0% Searching, 3.5% matched\r",
        "\r\n"
       ]
      },
      {
       "output_type": "stream",
       "stream": "stdout",
       "text": [
        "usearch v7.0.1090_i86osx32, 4.0Gb RAM (15.0Gb total), 4 cores\r\n",
        "(C) Copyright 2013 Robert C. Edgar, all rights reserved.\r\n",
        "http://drive5.com/usearch\r\n",
        "\r\n",
        "Licensed to: sr320@uw.edu\r\n",
        "\r\n"
       ]
      },
      {
       "output_type": "stream",
       "stream": "stdout",
       "text": [
        "00:00 1.8Mb Reading /Volumes/Bay3/usearch/uniprot_sprot.udb\r\n"
       ]
      },
      {
       "output_type": "stream",
       "stream": "stdout",
       "text": [
        "00:02 1.1Gb Database loaded\r\n",
        "00:02 1.1Gb    0.1% Searching, 0.0% matched\r"
       ]
      },
      {
       "output_type": "stream",
       "stream": "stdout",
       "text": [
        "00:03 1.1Gb    1.8% Searching, 3.5% matched\r"
       ]
      },
      {
       "output_type": "stream",
       "stream": "stdout",
       "text": [
        "00:04 1.1Gb    4.6% Searching, 4.2% matched\r"
       ]
      },
      {
       "output_type": "stream",
       "stream": "stdout",
       "text": [
        "00:05 1.1Gb    7.1% Searching, 4.5% matched\r"
       ]
      },
      {
       "output_type": "stream",
       "stream": "stdout",
       "text": [
        "00:06 1.1Gb   10.0% Searching, 3.7% matched\r"
       ]
      },
      {
       "output_type": "stream",
       "stream": "stdout",
       "text": [
        "00:07 1.1Gb   13.4% Searching, 3.6% matched\r"
       ]
      },
      {
       "output_type": "stream",
       "stream": "stdout",
       "text": [
        "00:08 1.1Gb   16.4% Searching, 3.6% matched\r"
       ]
      },
      {
       "output_type": "stream",
       "stream": "stdout",
       "text": [
        "00:09 1.1Gb   19.2% Searching, 3.7% matched\r"
       ]
      },
      {
       "output_type": "stream",
       "stream": "stdout",
       "text": [
        "00:10 1.1Gb   22.4% Searching, 4.0% matched\r"
       ]
      },
      {
       "output_type": "stream",
       "stream": "stdout",
       "text": [
        "00:11 1.1Gb   25.0% Searching, 3.8% matched\r"
       ]
      },
      {
       "output_type": "stream",
       "stream": "stdout",
       "text": [
        "00:12 1.1Gb   27.3% Searching, 4.0% matched\r"
       ]
      },
      {
       "output_type": "stream",
       "stream": "stdout",
       "text": [
        "00:13 1.1Gb   31.0% Searching, 4.0% matched\r"
       ]
      },
      {
       "output_type": "stream",
       "stream": "stdout",
       "text": [
        "00:14 1.1Gb   33.2% Searching, 3.9% matched\r"
       ]
      },
      {
       "output_type": "stream",
       "stream": "stdout",
       "text": [
        "00:15 1.1Gb   36.0% Searching, 4.0% matched\r"
       ]
      },
      {
       "output_type": "stream",
       "stream": "stdout",
       "text": [
        "00:16 1.1Gb   38.3% Searching, 4.1% matched\r"
       ]
      },
      {
       "output_type": "stream",
       "stream": "stdout",
       "text": [
        "00:17 1.1Gb   41.0% Searching, 4.2% matched\r"
       ]
      },
      {
       "output_type": "stream",
       "stream": "stdout",
       "text": [
        "00:18 1.1Gb   43.6% Searching, 4.3% matched\r"
       ]
      },
      {
       "output_type": "stream",
       "stream": "stdout",
       "text": [
        "00:19 1.1Gb   46.1% Searching, 4.3% matched\r"
       ]
      },
      {
       "output_type": "stream",
       "stream": "stdout",
       "text": [
        "00:20 1.1Gb   49.0% Searching, 4.2% matched\r"
       ]
      },
      {
       "output_type": "stream",
       "stream": "stdout",
       "text": [
        "00:21 1.1Gb   52.3% Searching, 4.1%"
       ]
      },
      {
       "output_type": "stream",
       "stream": "stdout",
       "text": [
        " matched\r"
       ]
      },
      {
       "output_type": "stream",
       "stream": "stdout",
       "text": [
        "00:22 1.1Gb   55.3% Searching, 4.2% matched\r"
       ]
      },
      {
       "output_type": "stream",
       "stream": "stdout",
       "text": [
        "00:23 1.1Gb   58.0% Searching, 4.2% matched\r"
       ]
      },
      {
       "output_type": "stream",
       "stream": "stdout",
       "text": [
        "00:24 1.1Gb   61.5% Searching, 4.2% matched\r"
       ]
      },
      {
       "output_type": "stream",
       "stream": "stdout",
       "text": [
        "00:25 1.1Gb   63.1% Searching, 4.1% matched\r"
       ]
      },
      {
       "output_type": "stream",
       "stream": "stdout",
       "text": [
        "00:26 1.1Gb   66.2% Searching, 4.1% matched\r"
       ]
      },
      {
       "output_type": "stream",
       "stream": "stdout",
       "text": [
        "00:27 1.1Gb   68.9% Searching, 4.1% matched\r"
       ]
      },
      {
       "output_type": "stream",
       "stream": "stdout",
       "text": [
        "00:28 1.1Gb   71.2% Searching, 4.2% matched\r"
       ]
      },
      {
       "output_type": "stream",
       "stream": "stdout",
       "text": [
        "00:29 1.1Gb   74.3% Searching, 4.1% matched\r"
       ]
      },
      {
       "output_type": "stream",
       "stream": "stdout",
       "text": [
        "00:30 1.1Gb   77.7% Searching, 4.1% matched\r"
       ]
      },
      {
       "output_type": "stream",
       "stream": "stdout",
       "text": [
        "00:31 1.1Gb   80.5% Searching, 4.1% matched\r"
       ]
      },
      {
       "output_type": "stream",
       "stream": "stdout",
       "text": [
        "00:32 1.1Gb   83.7% Searching, 4.0% matched\r"
       ]
      },
      {
       "output_type": "stream",
       "stream": "stdout",
       "text": [
        "00:33 1.1Gb   87.1% Searching, 4.0% matched\r"
       ]
      },
      {
       "output_type": "stream",
       "stream": "stdout",
       "text": [
        "00:34 1.1Gb   90.3% Searching, 4.0% matched\r"
       ]
      },
      {
       "output_type": "stream",
       "stream": "stdout",
       "text": [
        "00:35 1.1Gb   93.2% Searching, 3.9% matched\r"
       ]
      },
      {
       "output_type": "stream",
       "stream": "stdout",
       "text": [
        "00:36 1.1Gb   95.7% Searching, 3.9% matched\r"
       ]
      },
      {
       "output_type": "stream",
       "stream": "stdout",
       "text": [
        "00:37 1.1Gb   98.5% Searching, 3.9% matched\r"
       ]
      },
      {
       "output_type": "stream",
       "stream": "stdout",
       "text": [
        "00:37 1.1Gb  100.0% Searching, 3.9% matched\r",
        "\r\n"
       ]
      },
      {
       "output_type": "stream",
       "stream": "stdout",
       "text": [
        "usearch v7.0.1090_i86osx32, 4.0Gb RAM (15.0Gb total), 4 cores\r\n",
        "(C) Copyright 2013 Robert C. Edgar, all rights reserved.\r\n",
        "http://drive5.com/usearch\r\n",
        "\r\n",
        "Licensed to: sr320@uw.edu\r\n",
        "\r\n"
       ]
      },
      {
       "output_type": "stream",
       "stream": "stdout",
       "text": [
        "00:01 1.8Mb Reading /Volumes/Bay3/usearch/uniprot_sprot.udb\r\n"
       ]
      },
      {
       "output_type": "stream",
       "stream": "stdout",
       "text": [
        "00:03 1.1Gb Database loaded\r\n",
        "00:03 1.1Gb    0.1% Searching, 0.0% matched\r"
       ]
      },
      {
       "output_type": "stream",
       "stream": "stdout",
       "text": [
        "00:04 1.1Gb    3.0% Searching, 3.3% matched\r"
       ]
      },
      {
       "output_type": "stream",
       "stream": "stdout",
       "text": [
        "00:05 1.1Gb    6.0% Searching, 3.4% matched\r"
       ]
      },
      {
       "output_type": "stream",
       "stream": "stdout",
       "text": [
        "00:06 1.1Gb    9.2% Searching, 3.2% matched\r"
       ]
      },
      {
       "output_type": "stream",
       "stream": "stdout",
       "text": [
        "00:07 1.1Gb   11.9% Searching, 3.1% matched\r"
       ]
      },
      {
       "output_type": "stream",
       "stream": "stdout",
       "text": [
        "0"
       ]
      },
      {
       "output_type": "stream",
       "stream": "stdout",
       "text": [
        "0:08 1.1Gb   14.2% Searching, 3.4% matched\r"
       ]
      },
      {
       "output_type": "stream",
       "stream": "stdout",
       "text": [
        "00:09 1.1Gb   16.9% Searching, 3.2% matched\r"
       ]
      },
      {
       "output_type": "stream",
       "stream": "stdout",
       "text": [
        "00:10 1.1Gb   19.5% Searching, 3.3% matched\r"
       ]
      },
      {
       "output_type": "stream",
       "stream": "stdout",
       "text": [
        "00:11 1.1Gb   22.2% Searching, 3.6% matched\r"
       ]
      },
      {
       "output_type": "stream",
       "stream": "stdout",
       "text": [
        "0"
       ]
      },
      {
       "output_type": "stream",
       "stream": "stdout",
       "text": [
        "0:12 1.1Gb   24.6% Searching, 3.8% matched\r"
       ]
      },
      {
       "output_type": "stream",
       "stream": "stdout",
       "text": [
        "00:13 1.1Gb   27.1% Searching, 3.8% matched\r"
       ]
      },
      {
       "output_type": "stream",
       "stream": "stdout",
       "text": [
        "00:14 1.1Gb   30.3% Searching, 3.7% matched\r"
       ]
      },
      {
       "output_type": "stream",
       "stream": "stdout",
       "text": [
        "00:15 1.1Gb   34.0% Searching, 3.5% matched\r"
       ]
      },
      {
       "output_type": "stream",
       "stream": "stdout",
       "text": [
        "00:16 1.1Gb   36.9% Searching, 3.4% matched\r"
       ]
      },
      {
       "output_type": "stream",
       "stream": "stdout",
       "text": [
        "00:17 1.1Gb   39.7% Searching, 3.3% matched\r"
       ]
      },
      {
       "output_type": "stream",
       "stream": "stdout",
       "text": [
        "00:18 1.1Gb   43.1% Searching, 3.4% matched\r"
       ]
      },
      {
       "output_type": "stream",
       "stream": "stdout",
       "text": [
        "00:19 1.1Gb   44.9% Searching, 3.6% matched\r"
       ]
      },
      {
       "output_type": "stream",
       "stream": "stdout",
       "text": [
        "00:20 1.1Gb   46.8% Searching, 3.7% matched\r"
       ]
      },
      {
       "output_type": "stream",
       "stream": "stdout",
       "text": [
        "00:21 1.1Gb   48.7% Searching, 3.7% matched\r"
       ]
      },
      {
       "output_type": "stream",
       "stream": "stdout",
       "text": [
        "00:22 1.1Gb   50.9% Searching, 3.8% matched\r"
       ]
      },
      {
       "output_type": "stream",
       "stream": "stdout",
       "text": [
        "00:23 1.1Gb   53.2% Searching, 3.8% matched\r"
       ]
      },
      {
       "output_type": "stream",
       "stream": "stdout",
       "text": [
        "00:24 1.1Gb   55.8% Searching, 3.9% matched\r"
       ]
      },
      {
       "output_type": "stream",
       "stream": "stdout",
       "text": [
        "00:25 1.1Gb   57.5% Searching, 3.9% matched\r"
       ]
      },
      {
       "output_type": "stream",
       "stream": "stdout",
       "text": [
        "00:26 1.1Gb   60.1% Searching, 3.9% matched\r"
       ]
      },
      {
       "output_type": "stream",
       "stream": "stdout",
       "text": [
        "00:27 1.1Gb   63.4% Searching, 4.0% matched\r"
       ]
      },
      {
       "output_type": "stream",
       "stream": "stdout",
       "text": [
        "00:28 1.1Gb   65.4% Searching, 4.1% matched\r"
       ]
      },
      {
       "output_type": "stream",
       "stream": "stdout",
       "text": [
        "00:29 1.1Gb   66.7% Searching, 4.2% matched\r"
       ]
      },
      {
       "output_type": "stream",
       "stream": "stdout",
       "text": [
        "00:30 1.1Gb   69.6% Searching, 4.1% matched\r"
       ]
      },
      {
       "output_type": "stream",
       "stream": "stdout",
       "text": [
        "00:31 1.1Gb   72.6% Searching, 4.2% matched\r"
       ]
      },
      {
       "output_type": "stream",
       "stream": "stdout",
       "text": [
        "00:32 1.1Gb   75.1% Searching, 4.2% matched\r"
       ]
      },
      {
       "output_type": "stream",
       "stream": "stdout",
       "text": [
        "00:33 1.1Gb   77.9% Searching, 4.1% matched\r"
       ]
      },
      {
       "output_type": "stream",
       "stream": "stdout",
       "text": [
        "00:34 1.1Gb   80.6% Searching, 4.1% matched\r"
       ]
      },
      {
       "output_type": "stream",
       "stream": "stdout",
       "text": [
        "00:35 1.1Gb   82.6% Searching, 4.2% matched\r"
       ]
      },
      {
       "output_type": "stream",
       "stream": "stdout",
       "text": [
        "00:36 1.1Gb   85.7% Searching, 4.2% matched\r"
       ]
      },
      {
       "output_type": "stream",
       "stream": "stdout",
       "text": [
        "00:37 1.1Gb   88.4% Searching, 4.1% matched\r"
       ]
      },
      {
       "output_type": "stream",
       "stream": "stdout",
       "text": [
        "00:38 1.1Gb   89.9% Searching, 4.2% matched\r"
       ]
      },
      {
       "output_type": "stream",
       "stream": "stdout",
       "text": [
        "00:39 1.1Gb   92.7% Searching, 4.2% matched\r"
       ]
      },
      {
       "output_type": "stream",
       "stream": "stdout",
       "text": [
        "00:40 1.1Gb   96.4% Searching, 4.3% matched\r"
       ]
      },
      {
       "output_type": "stream",
       "stream": "stdout",
       "text": [
        "00:41 1.1Gb   99.3% Searching, 4.3% matched\r"
       ]
      },
      {
       "output_type": "stream",
       "stream": "stdout",
       "text": [
        "00:41 1.1Gb  100.0% Searching, 4.3% matched\r",
        "\r\n"
       ]
      },
      {
       "output_type": "stream",
       "stream": "stdout",
       "text": [
        "usearch v7.0.1090_i86osx32, 4.0Gb RAM (15.0Gb total), 4 cores\r\n",
        "(C) Copyright 2013 Robert C. Edgar, all rights reserved.\r\n",
        "http://drive5.com/usearch\r\n",
        "\r\n",
        "Licensed to: sr320@uw.edu\r\n",
        "\r\n"
       ]
      },
      {
       "output_type": "stream",
       "stream": "stdout",
       "text": [
        "00:00 2.0Mb Reading /Volumes/Bay3/usearch/uniprot_sprot.udb\r\n"
       ]
      },
      {
       "output_type": "stream",
       "stream": "stdout",
       "text": [
        "00:02 1.1Gb Database loaded\r\n",
        "00:02 1.1Gb    0.1% Searching, 0.0% matched\r",
        "00:03 1.1Gb    0.4% Searching, 7.1% matched\r"
       ]
      },
      {
       "output_type": "stream",
       "stream": "stdout",
       "text": [
        "00:04 1.1Gb    2.8% Searching, 4.2% matched\r"
       ]
      },
      {
       "output_type": "stream",
       "stream": "stdout",
       "text": [
        "00:05 1.1Gb    4.8% Searching, 4.0% matched\r"
       ]
      },
      {
       "output_type": "stream",
       "stream": "stdout",
       "text": [
        "00:06 1.1Gb    6.7% Searching, 4.7% matched\r"
       ]
      },
      {
       "output_type": "stream",
       "stream": "stdout",
       "text": [
        "00:07 1.1Gb    8.0% Searching, 5.0% matched\r"
       ]
      },
      {
       "output_type": "stream",
       "stream": "stdout",
       "text": [
        "00:08 1.1Gb   10.6% Searching, 4.1% matched\r"
       ]
      },
      {
       "output_type": "stream",
       "stream": "stdout",
       "text": [
        "00:09 1.1Gb   13.8% Searching, 3.6% matched\r"
       ]
      },
      {
       "output_type": "stream",
       "stream": "stdout",
       "text": [
        "00:10 1.1Gb   15.7% Searching, 3.3% matched\r"
       ]
      },
      {
       "output_type": "stream",
       "stream": "stdout",
       "text": [
        "00:11 1.1Gb   17.5% Searching, 3.0% matched\r"
       ]
      },
      {
       "output_type": "stream",
       "stream": "stdout",
       "text": [
        "00:12 1.1Gb   19.7% Searching, 3.1% matched\r"
       ]
      },
      {
       "output_type": "stream",
       "stream": "stdout",
       "text": [
        "00:13 1.1Gb   21.7% Searching, 3.1% matched\r"
       ]
      },
      {
       "output_type": "stream",
       "stream": "stdout",
       "text": [
        "00:14 1.1Gb   23.2% Searching, 3.1% matched\r"
       ]
      },
      {
       "output_type": "stream",
       "stream": "stdout",
       "text": [
        "00:15 1.1Gb   25.0% Searching, 3.3% matched\r"
       ]
      },
      {
       "output_type": "stream",
       "stream": "stdout",
       "text": [
        "00:16 1.1Gb   27.1% Searching, 3.4% matched\r"
       ]
      },
      {
       "output_type": "stream",
       "stream": "stdout",
       "text": [
        "00:17 1.1Gb   28.8% Searc"
       ]
      },
      {
       "output_type": "stream",
       "stream": "stdout",
       "text": [
        "hing, 3.7% matched\r"
       ]
      },
      {
       "output_type": "stream",
       "stream": "stdout",
       "text": [
        "00:18 1.1Gb   30.5% Searching, 3.5% matched\r"
       ]
      },
      {
       "output_type": "stream",
       "stream": "stdout",
       "text": [
        "00:19 1.1Gb   32.6% Searching, 3.6% matched\r"
       ]
      },
      {
       "output_type": "stream",
       "stream": "stdout",
       "text": [
        "00:20 1.1Gb   35.4% Searching, 3.5% matched\r"
       ]
      },
      {
       "output_type": "stream",
       "stream": "stdout",
       "text": [
        "00:21 1.1Gb   37.8% Searching, 3.5% matched\r"
       ]
      },
      {
       "output_type": "stream",
       "stream": "stdout",
       "text": [
        "00:22 1.1Gb   40.4% Searching, 3.5% matched\r"
       ]
      },
      {
       "output_type": "stream",
       "stream": "stdout",
       "text": [
        "00:23 1.1Gb   43.0% Searching, 3.6% matched\r"
       ]
      },
      {
       "output_type": "stream",
       "stream": "stdout",
       "text": [
        "00:24 1.1Gb   45.5% Searching, 3.6% matched\r"
       ]
      },
      {
       "output_type": "stream",
       "stream": "stdout",
       "text": [
        "00:25 1.1Gb   46.7% Searching, 3.5% matched\r"
       ]
      },
      {
       "output_type": "stream",
       "stream": "stdout",
       "text": [
        "00:26 1.1Gb   48.6% Searching, 3.6% matched\r"
       ]
      },
      {
       "output_type": "stream",
       "stream": "stdout",
       "text": [
        "00:27 1.1Gb   50.5% Searching, 3.6% matched\r"
       ]
      },
      {
       "output_type": "stream",
       "stream": "stdout",
       "text": [
        "00:28 1.1Gb   51.8% Searching, 3.6% matched\r"
       ]
      },
      {
       "output_type": "stream",
       "stream": "stdout",
       "text": [
        "00:29 1.1Gb   54.1% Searching, 3.6% matched\r"
       ]
      },
      {
       "output_type": "stream",
       "stream": "stdout",
       "text": [
        "00:30 1.1Gb   55.8% Searching, 3.8% matched\r"
       ]
      },
      {
       "output_type": "stream",
       "stream": "stdout",
       "text": [
        "00:31 1.1Gb   58.8% Searching, 3.7% matched\r"
       ]
      },
      {
       "output_type": "stream",
       "stream": "stdout",
       "text": [
        "00:32 1.1Gb   60.9% Searching, 3.7% matched\r"
       ]
      },
      {
       "output_type": "stream",
       "stream": "stdout",
       "text": [
        "00:33 1.1Gb   62.8% Searching, 3.7% matched\r"
       ]
      },
      {
       "output_type": "stream",
       "stream": "stdout",
       "text": [
        "00:34 1.1Gb   64.7% Searching, 3.7% matched\r"
       ]
      },
      {
       "output_type": "stream",
       "stream": "stdout",
       "text": [
        "00:35 1.1Gb   67.1% Searching, 3.9% matched\r"
       ]
      },
      {
       "output_type": "stream",
       "stream": "stdout",
       "text": [
        "00:36 1.1Gb   68.9% Searching, 3.9% matched\r"
       ]
      },
      {
       "output_type": "stream",
       "stream": "stdout",
       "text": [
        "00:37 1.1Gb   71.2% Searching, 3.8% matched\r"
       ]
      },
      {
       "output_type": "stream",
       "stream": "stdout",
       "text": [
        "00:38 1.1Gb   73.4% Searching, 3.9% matched\r"
       ]
      },
      {
       "output_type": "stream",
       "stream": "stdout",
       "text": [
        "00:39 1.1Gb   75.7% Searching, 3.8% matched\r"
       ]
      },
      {
       "output_type": "stream",
       "stream": "stdout",
       "text": [
        "00:40 1.1Gb   77.2% Searching, 3.8% matched\r"
       ]
      },
      {
       "output_type": "stream",
       "stream": "stdout",
       "text": [
        "00:41 1.1Gb   79.8% Searching, 3.8% matched\r"
       ]
      },
      {
       "output_type": "stream",
       "stream": "stdout",
       "text": [
        "00:42 1.1Gb   81.5% Searching, 3.8% matched\r"
       ]
      },
      {
       "output_type": "stream",
       "stream": "stdout",
       "text": [
        "00:43 1.1Gb   84.6% Searching, 3.7% matched\r"
       ]
      },
      {
       "output_type": "stream",
       "stream": "stdout",
       "text": [
        "00:44 1.1Gb   86.2% Searching, 3.8% matched\r"
       ]
      },
      {
       "output_type": "stream",
       "stream": "stdout",
       "text": [
        "00:45 1.1Gb   88.4% Searching, 3.7% matched\r"
       ]
      },
      {
       "output_type": "stream",
       "stream": "stdout",
       "text": [
        "00:46 1.1Gb   91.0% Searching, 3.8% matched\r"
       ]
      },
      {
       "output_type": "stream",
       "stream": "stdout",
       "text": [
        "00:47 1.1Gb   93.4% Searching, 3.8% matched\r"
       ]
      },
      {
       "output_type": "stream",
       "stream": "stdout",
       "text": [
        "00:48 1.1Gb   95.6% Searching, 3.8% matched\r"
       ]
      },
      {
       "output_type": "stream",
       "stream": "stdout",
       "text": [
        "00:49 1.1Gb   98.3% Searching, 3.8% matched\r"
       ]
      },
      {
       "output_type": "stream",
       "stream": "stdout",
       "text": [
        "00:49 1.1Gb  100.0% Searching, 3.9% matched\r",
        "\r\n"
       ]
      },
      {
       "output_type": "stream",
       "stream": "stdout",
       "text": [
        "usearch v7.0.1090_i86osx32, 4.0Gb RAM (15.0Gb total), 4 cores\r\n",
        "(C) Copyright 2013 Robert C. Edgar, all rights reserved.\r\n",
        "http://drive5.com/usearch\r\n",
        "\r\n",
        "Licensed to: sr320@uw.edu\r\n",
        "\r\n",
        "00:00 2.0Mb Reading /Volumes/Bay3/usearch/uniprot_sprot.udb\r\n"
       ]
      },
      {
       "output_type": "stream",
       "stream": "stdout",
       "text": [
        "00:02 1.1Gb Database loaded\r\n",
        "00:02 1.1Gb    0.1% Searching, 0.0% matched\r"
       ]
      },
      {
       "output_type": "stream",
       "stream": "stdout",
       "text": [
        "00:03 1.1Gb    2.5% Searching, 5.1% matched\r"
       ]
      },
      {
       "output_type": "stream",
       "stream": "stdout",
       "text": [
        "00:04 1.1Gb    4.7% Searching, 2.7% matched\r"
       ]
      },
      {
       "output_type": "stream",
       "stream": "stdout",
       "text": [
        "00:05 1.1Gb    7.3% Searching, 2.6% matched\r"
       ]
      },
      {
       "output_type": "stream",
       "stream": "stdout",
       "text": [
        "00:06 1.1Gb    9.3% Searching, 2.7% matched\r"
       ]
      },
      {
       "output_type": "stream",
       "stream": "stdout",
       "text": [
        "00:07 1.1Gb   12.4% Searching, 2.9% matched\r"
       ]
      },
      {
       "output_type": "stream",
       "stream": "stdout",
       "text": [
        "00:08 1.1Gb   14.7% Searching, 3.1% matched\r"
       ]
      },
      {
       "output_type": "stream",
       "stream": "stdout",
       "text": [
        "00:09 1.1Gb   17.6% Searching, 3.1% matched\r"
       ]
      },
      {
       "output_type": "stream",
       "stream": "stdout",
       "text": [
        "00:10 1.1Gb   19.6% Searching, 2.9% matched\r"
       ]
      },
      {
       "output_type": "stream",
       "stream": "stdout",
       "text": [
        "00:11 1.1Gb   22.0% Searching, 3.1% matched\r"
       ]
      },
      {
       "output_type": "stream",
       "stream": "stdout",
       "text": [
        "00:12 1.1Gb   24.0% Searching, 3.2% matched\r"
       ]
      },
      {
       "output_type": "stream",
       "stream": "stdout",
       "text": [
        "00:13 1.1Gb   26.3% Searching, 3.2% matched\r"
       ]
      },
      {
       "output_type": "stream",
       "stream": "stdout",
       "text": [
        "00:14 1.1Gb   28.6% Searching, 3.3% matched\r"
       ]
      },
      {
       "output_type": "stream",
       "stream": "stdout",
       "text": [
        "00:15 1.1Gb   30.6% Searching, 3.3% matched\r"
       ]
      },
      {
       "output_type": "stream",
       "stream": "stdout",
       "text": [
        "00:16 1.1Gb   32.8% Searching, 3.2% matched\r"
       ]
      },
      {
       "output_type": "stream",
       "stream": "stdout",
       "text": [
        "00:17 1.1Gb   34.8% Searching, 3.3% matched\r"
       ]
      },
      {
       "output_type": "stream",
       "stream": "stdout",
       "text": [
        "00:18 1.1Gb   37.6% Searching, 3.1% matched\r"
       ]
      },
      {
       "output_type": "stream",
       "stream": "stdout",
       "text": [
        "00:19 1.1Gb   40.0% Searching, 3.1% matched\r"
       ]
      },
      {
       "output_type": "stream",
       "stream": "stdout",
       "text": [
        "00:20 1.1Gb   42.5% Searching, 3.0% matched\r"
       ]
      },
      {
       "output_type": "stream",
       "stream": "stdout",
       "text": [
        "00:21 1.1Gb   45.1% Searching, 3.0% matched\r"
       ]
      },
      {
       "output_type": "stream",
       "stream": "stdout",
       "text": [
        "00:22 1.1Gb   46.9% Searching, 3.0% matched\r"
       ]
      },
      {
       "output_type": "stream",
       "stream": "stdout",
       "text": [
        "00:23 1.1Gb   49.9% Searching, 3.1% matched\r"
       ]
      },
      {
       "output_type": "stream",
       "stream": "stdout",
       "text": [
        "00:24 1.1Gb   51.1% Searching, 3.1% matched\r"
       ]
      },
      {
       "output_type": "stream",
       "stream": "stdout",
       "text": [
        "00:25 1.1Gb   53.4% Searching, 3.1% matched\r"
       ]
      },
      {
       "output_type": "stream",
       "stream": "stdout",
       "text": [
        "00:26 1.1Gb   55.1% Searching, 3.1% matched\r"
       ]
      },
      {
       "output_type": "stream",
       "stream": "stdout",
       "text": [
        "00:27 1.1Gb   57.6% Searching, 3.2% matched\r"
       ]
      },
      {
       "output_type": "stream",
       "stream": "stdout",
       "text": [
        "00:28 1.1Gb   59.4% Searching, 3.2% matched\r"
       ]
      },
      {
       "output_type": "stream",
       "stream": "stdout",
       "text": [
        "00:29 1.1Gb   63.0% Searching, 3.2% matched\r"
       ]
      },
      {
       "output_type": "stream",
       "stream": "stdout",
       "text": [
        "00:30 1.1Gb   63.7% Searching, 3.3% matched\r"
       ]
      },
      {
       "output_type": "stream",
       "stream": "stdout",
       "text": [
        "00:31 1.1Gb   66.1% Searching, 3.2% matched\r"
       ]
      },
      {
       "output_type": "stream",
       "stream": "stdout",
       "text": [
        "00:32 1.1Gb   68.5% Searching, 3.2% matched\r"
       ]
      },
      {
       "output_type": "stream",
       "stream": "stdout",
       "text": [
        "00:33 1.1Gb   71.4% Searching, 3.2% matched\r"
       ]
      },
      {
       "output_type": "stream",
       "stream": "stdout",
       "text": [
        "00:34 1.1Gb   72.8% Searching, 3.2% matched\r"
       ]
      },
      {
       "output_type": "stream",
       "stream": "stdout",
       "text": [
        "00:35 1.1Gb   75.1% Searching, 3.2% matched\r"
       ]
      },
      {
       "output_type": "stream",
       "stream": "stdout",
       "text": [
        "00:36 1.1Gb   76.9% Searching, 3.3% matched\r"
       ]
      },
      {
       "output_type": "stream",
       "stream": "stdout",
       "text": [
        "00:37 1.1Gb   79.7% Searching, 3.3% matched\r"
       ]
      },
      {
       "output_type": "stream",
       "stream": "stdout",
       "text": [
        "00:38 1.1Gb   81.4% Searching, 3.3% matched\r"
       ]
      },
      {
       "output_type": "stream",
       "stream": "stdout",
       "text": [
        "00:39 1.1Gb   84.2% Searching, 3.3% matched\r"
       ]
      },
      {
       "output_type": "stream",
       "stream": "stdout",
       "text": [
        "00:40 1.1Gb   86.3% Searching, 3.3% matched\r"
       ]
      },
      {
       "output_type": "stream",
       "stream": "stdout",
       "text": [
        "00:41 1.1Gb   88.9% Searching, 3.3% matched\r"
       ]
      },
      {
       "output_type": "stream",
       "stream": "stdout",
       "text": [
        "00:42 1.1Gb   91.4% Searching, 3.3% matched\r"
       ]
      },
      {
       "output_type": "stream",
       "stream": "stdout",
       "text": [
        "00:43 1.1Gb   93.3% Searching, 3.4% matched\r"
       ]
      },
      {
       "output_type": "stream",
       "stream": "stdout",
       "text": [
        "00:44 1.1Gb   95.2% Searching, 3.4% matched\r"
       ]
      },
      {
       "output_type": "stream",
       "stream": "stdout",
       "text": [
        "00:45 1.1Gb   97.3% Searching, 3.4% matched\r"
       ]
      },
      {
       "output_type": "stream",
       "stream": "stdout",
       "text": [
        "00:46 1.1Gb   99.2% Searching, 3.4% matched\r"
       ]
      },
      {
       "output_type": "stream",
       "stream": "stdout",
       "text": [
        "00:46 1.1Gb  100.0% Searching, 3.4% matched\r",
        "\r\n"
       ]
      },
      {
       "output_type": "stream",
       "stream": "stdout",
       "text": [
        "usearch v7.0.1090_i86osx32, 4.0Gb RAM (15.0Gb total), 4 cores\r\n",
        "(C) Copyright 2013 Robert C. Edgar, all rights reserved.\r\n",
        "http://drive5.com/usearch\r\n",
        "\r\n",
        "Licensed to: sr320@uw.edu\r\n",
        "\r\n"
       ]
      },
      {
       "output_type": "stream",
       "stream": "stdout",
       "text": [
        "00:00 1.9Mb Reading /Volumes/Bay3/usearch/uniprot_sprot.udb\r\n"
       ]
      },
      {
       "output_type": "stream",
       "stream": "stdout",
       "text": [
        "00:02 1.1Gb Database loaded\r\n",
        "00:03 1.1Gb    0.1% Searching, 0.0% matched\r"
       ]
      },
      {
       "output_type": "stream",
       "stream": "stdout",
       "text": [
        "00:04 1.1Gb    3.2% Searching, 1.9% matched\r"
       ]
      },
      {
       "output_type": "stream",
       "stream": "stdout",
       "text": [
        "00:05 1.1Gb    5.7% Searching, 2.2% matched\r"
       ]
      },
      {
       "output_type": "stream",
       "stream": "stdout",
       "text": [
        "00:06 1.1Gb    8.7% Searching, 2.3% matched\r"
       ]
      },
      {
       "output_type": "stream",
       "stream": "stdout",
       "text": [
        "00:07 1.1Gb   11.3% Searching, 2.3% matched\r"
       ]
      },
      {
       "output_type": "stream",
       "stream": "stdout",
       "text": [
        "00:08 1.1Gb   13.4% Searching, 2.5% matched\r"
       ]
      },
      {
       "output_type": "stream",
       "stream": "stdout",
       "text": [
        "00:09 1.1Gb   16.1% Searching, 2.3% matched\r"
       ]
      },
      {
       "output_type": "stream",
       "stream": "stdout",
       "text": [
        "00:10 1.1Gb   18.3% Searching, 2.6% matched\r"
       ]
      },
      {
       "output_type": "stream",
       "stream": "stdout",
       "text": [
        "00:11 1.1Gb   20.4% Searching, 2.9% matched\r"
       ]
      },
      {
       "output_type": "stream",
       "stream": "stdout",
       "text": [
        "00:12 1.1Gb   22.3% Searching, 3.0% matched\r"
       ]
      },
      {
       "output_type": "stream",
       "stream": "stdout",
       "text": [
        "00:13 1.1Gb   25.0% Searching, 3.3% matched\r"
       ]
      },
      {
       "output_type": "stream",
       "stream": "stdout",
       "text": [
        "00:14 1.1Gb   26.8% Searching, 3.5% matched\r"
       ]
      },
      {
       "output_type": "stream",
       "stream": "stdout",
       "text": [
        "00:15 1.1Gb   28.9% Searching, 3.5% matched\r"
       ]
      },
      {
       "output_type": "stream",
       "stream": "stdout",
       "text": [
        "00:16 1.1Gb   31.4% Searching, 3.4% matched\r"
       ]
      },
      {
       "output_type": "stream",
       "stream": "stdout",
       "text": [
        "00:17 1.1Gb   33.7% Searching, 3.5% matched\r"
       ]
      },
      {
       "output_type": "stream",
       "stream": "stdout",
       "text": [
        "00:18 1.1Gb   36.1% Searching, 3.5% matched\r"
       ]
      },
      {
       "output_type": "stream",
       "stream": "stdout",
       "text": [
        "00:19 1.1Gb   37.7% Searching, 3.5% matched\r"
       ]
      },
      {
       "output_type": "stream",
       "stream": "stdout",
       "text": [
        "00:20 1.1Gb   40.1% Searching, 3.6% matched\r"
       ]
      },
      {
       "output_type": "stream",
       "stream": "stdout",
       "text": [
        "00:21 1.1Gb   41.8% Searching, 3.6% matched\r"
       ]
      },
      {
       "output_type": "stream",
       "stream": "stdout",
       "text": [
        "00:22 1.1Gb   44.1% Searching, 3.6% "
       ]
      },
      {
       "output_type": "stream",
       "stream": "stdout",
       "text": [
        "matched\r"
       ]
      },
      {
       "output_type": "stream",
       "stream": "stdout",
       "text": [
        "00:23 1.1Gb   46.4% Searching, 3.6% matched\r"
       ]
      },
      {
       "output_type": "stream",
       "stream": "stdout",
       "text": [
        "00:24 1.1Gb   49.0% Searching, 3.5% matched\r"
       ]
      },
      {
       "output_type": "stream",
       "stream": "stdout",
       "text": [
        "00:25 1.1Gb   51.7% Searching, 3.5% matched\r"
       ]
      },
      {
       "output_type": "stream",
       "stream": "stdout",
       "text": [
        "00:26 1.1Gb   53.8% Searching, 3.5% matched\r"
       ]
      },
      {
       "output_type": "stream",
       "stream": "stdout",
       "text": [
        "00:27 1.1Gb   56.2% Searching, 3.5% matched\r"
       ]
      },
      {
       "output_type": "stream",
       "stream": "stdout",
       "text": [
        "00:28 1.1Gb   58.1% Searching, 3.5% matched\r"
       ]
      },
      {
       "output_type": "stream",
       "stream": "stdout",
       "text": [
        "00:29 1.1Gb   59.9% Searching, 3.5% matched\r"
       ]
      },
      {
       "output_type": "stream",
       "stream": "stdout",
       "text": [
        "00:30 1.1Gb   62.3% Searching, 3.6% matched\r"
       ]
      },
      {
       "output_type": "stream",
       "stream": "stdout",
       "text": [
        "00:31 1.1Gb   64.2% Searching, 3.5% matched\r"
       ]
      },
      {
       "output_type": "stream",
       "stream": "stdout",
       "text": [
        "00:32 1.1Gb   66.0% Searching, 3.5% matched\r"
       ]
      },
      {
       "output_type": "stream",
       "stream": "stdout",
       "text": [
        "00:33 1.1Gb   67.9% Searching, 3.6% matched\r"
       ]
      },
      {
       "output_type": "stream",
       "stream": "stdout",
       "text": [
        "00:34 1.1Gb   69.2% Searching, 3.7% matched\r"
       ]
      },
      {
       "output_type": "stream",
       "stream": "stdout",
       "text": [
        "00:35 1.1Gb   70.9% Searching, 3.6% matched\r"
       ]
      },
      {
       "output_type": "stream",
       "stream": "stdout",
       "text": [
        "00:36 1.1Gb   73.0% Searching, 3.6% matched\r"
       ]
      },
      {
       "output_type": "stream",
       "stream": "stdout",
       "text": [
        "00:37 1.1Gb   75.4% Searching, 3.6% matched\r"
       ]
      },
      {
       "output_type": "stream",
       "stream": "stdout",
       "text": [
        "00:38 1.1Gb   77.3% Searching, 3.7% matched\r"
       ]
      },
      {
       "output_type": "stream",
       "stream": "stdout",
       "text": [
        "00:39 1.1Gb   79.4% Searching, 3.7% matched\r"
       ]
      },
      {
       "output_type": "stream",
       "stream": "stdout",
       "text": [
        "00:40 1.1Gb   81.1% Searching, 3.7% matched\r"
       ]
      },
      {
       "output_type": "stream",
       "stream": "stdout",
       "text": [
        "00:41 1.1Gb   83.9% Searching, 3.7% matched\r"
       ]
      },
      {
       "output_type": "stream",
       "stream": "stdout",
       "text": [
        "00:42 1.1Gb   86.1% Searching, 3.7% matched\r"
       ]
      },
      {
       "output_type": "stream",
       "stream": "stdout",
       "text": [
        "00:43 1.1Gb   87.5% Searching, 3.7% matched\r"
       ]
      },
      {
       "output_type": "stream",
       "stream": "stdout",
       "text": [
        "00:44 1.1Gb   89.5% Searching, 3.7% matched\r"
       ]
      },
      {
       "output_type": "stream",
       "stream": "stdout",
       "text": [
        "00:45 1.1Gb   92.1% Searching, 3.7% matched\r"
       ]
      },
      {
       "output_type": "stream",
       "stream": "stdout",
       "text": [
        "00:46 1.1Gb   94.0% Searching, 3.7% matched\r"
       ]
      },
      {
       "output_type": "stream",
       "stream": "stdout",
       "text": [
        "00:47 1.1Gb   96.1% Searching, 3.7% matched\r"
       ]
      },
      {
       "output_type": "stream",
       "stream": "stdout",
       "text": [
        "00:48 1.1Gb   98.5% Searching, 3.7% matched\r"
       ]
      },
      {
       "output_type": "stream",
       "stream": "stdout",
       "text": [
        "00:49 1.1Gb  100.0% Searching, 3.7% matched\r",
        "\r\n"
       ]
      },
      {
       "output_type": "stream",
       "stream": "stdout",
       "text": [
        "usearch v7.0.1090_i86osx32, 4.0Gb RAM (15.0Gb total), 4 cores\r\n",
        "(C) Copyright 2013 Robert C. Edgar, all rights reserved.\r\n",
        "http://drive5.com/usearch\r\n",
        "\r\n",
        "Licensed to: sr320@uw.edu\r\n",
        "\r\n"
       ]
      },
      {
       "output_type": "stream",
       "stream": "stdout",
       "text": [
        "00:00 1.7Mb Reading /Volumes/Bay3/usearch/uniprot_sprot.udb\r\n"
       ]
      },
      {
       "output_type": "stream",
       "stream": "stdout",
       "text": [
        "00:02 1.1Gb Database loaded\r\n"
       ]
      },
      {
       "output_type": "stream",
       "stream": "stdout",
       "text": [
        "00:02 1.1Gb    0.1% Searching, 0.0% matched\r"
       ]
      },
      {
       "output_type": "stream",
       "stream": "stdout",
       "text": [
        "00:03 1.1Gb    1.4% Searching, 5.0% matched\r"
       ]
      },
      {
       "output_type": "stream",
       "stream": "stdout",
       "text": [
        "00:04 1.1Gb    4.1% Searching, 4.0% matched\r"
       ]
      },
      {
       "output_type": "stream",
       "stream": "stdout",
       "text": [
        "usearch(65564,0xb0081000) malloc: *** mmap(size=1189081088) failed (error code=12)\r\n",
        "*** error: can't allocate region\r\n",
        "*** set a breakpoint in malloc_error_break to debug\r\n",
        "\r\n",
        "Out of memory mymalloc(1189077285), curr 1.06e+09 bytes\r\n",
        "\r\n",
        "myutils.cpp(2212): \r\n",
        "\r\n",
        "usearch -ublast cgigas.part-58.fa -db /Volumes/Bay3/usearch/uniprot_sprot.udb -evalue 1e-5 -accel 0.8 -top_hits_only -maxhits 1 -blast6out /Volumes/web/cnidarian/cgigas8_cgigas.part-58.fa_ublast_sprot.b6\r\n",
        "\r\n",
        "---Fatal error---\r\n",
        "Out of memory, mymalloc(1189077285), curr 1.06e+09 bytes\r\n",
        "\r\n"
       ]
      },
      {
       "output_type": "stream",
       "stream": "stdout",
       "text": [
        "usearch v7.0.1090_i86osx32, 4.0Gb RAM (15.0Gb total), 4 cores\r\n",
        "(C) Copyright 2013 Robert C. Edgar, all rights reserved.\r\n",
        "http://drive5.com/usearch\r\n",
        "\r\n",
        "Licensed to: sr320@uw.edu\r\n",
        "\r\n"
       ]
      },
      {
       "output_type": "stream",
       "stream": "stdout",
       "text": [
        "00:00 1.9Mb Reading /Volumes/Bay3/usearch/uniprot_sprot.udb\r\n"
       ]
      },
      {
       "output_type": "stream",
       "stream": "stdout",
       "text": [
        "00:02 1.1Gb Database loaded\r\n",
        "00:02 1.1Gb    0.1% Searching, 0.0% matched\r"
       ]
      },
      {
       "output_type": "stream",
       "stream": "stdout",
       "text": [
        "00:03 1.1Gb    0.5% Searching, 0.0% matched\r"
       ]
      },
      {
       "output_type": "stream",
       "stream": "stdout",
       "text": [
        "00:04 1.1Gb    2.4% Searching, 4.1% matched\r"
       ]
      },
      {
       "output_type": "stream",
       "stream": "stdout",
       "text": [
        "00:05 1.1Gb    5.2% Searching, 4.1% matched\r"
       ]
      },
      {
       "output_type": "stream",
       "stream": "stdout",
       "text": [
        "00:06 1.1Gb    7.0% Searching, 3.9% matched\r"
       ]
      },
      {
       "output_type": "stream",
       "stream": "stdout",
       "text": [
        "00:07 1.1Gb    9.2% Searching, 3.8% matched\r"
       ]
      },
      {
       "output_type": "stream",
       "stream": "stdout",
       "text": [
        "00:08 1.1Gb   11.8% Searching, 4.0% matched\r"
       ]
      },
      {
       "output_type": "stream",
       "stream": "stdout",
       "text": [
        "00:09 1.1Gb   14.2% Searching, 3.9% matched\r"
       ]
      },
      {
       "output_type": "stream",
       "stream": "stdout",
       "text": [
        "00:10 1.1Gb   16.9% Searching, 3.5% matched\r"
       ]
      },
      {
       "output_type": "stream",
       "stream": "stdout",
       "text": [
        "00:11 1.1Gb   19.2% Searching, 3.8% matched\r"
       ]
      },
      {
       "output_type": "stream",
       "stream": "stdout",
       "text": [
        "00:12 1.1Gb   21.6% Searching, 3.8% matched\r"
       ]
      },
      {
       "output_type": "stream",
       "stream": "stdout",
       "text": [
        "00:13 1.1Gb   23.6% Searching, 3.7% matched\r"
       ]
      },
      {
       "output_type": "stream",
       "stream": "stdout",
       "text": [
        "00:14 1.1Gb   26.2% Searching, 3.7% matched\r"
       ]
      },
      {
       "output_type": "stream",
       "stream": "stdout",
       "text": [
        "00:15 1.1Gb   28.4% Searching, 3.6% matched\r"
       ]
      },
      {
       "output_type": "stream",
       "stream": "stdout",
       "text": [
        "00:16 1.1Gb   31.0% Searching, 3.7% matched\r"
       ]
      },
      {
       "output_type": "stream",
       "stream": "stdout",
       "text": [
        "00:17 1.1Gb   33.8% Searching, 3.9% matched\r"
       ]
      },
      {
       "output_type": "stream",
       "stream": "stdout",
       "text": [
        "00:18 1.1Gb   35.0% Searching, 4.0% matched\r"
       ]
      },
      {
       "output_type": "stream",
       "stream": "stdout",
       "text": [
        "00:19 1.1Gb   37.1% Searching, 3.9% matched\r"
       ]
      },
      {
       "output_type": "stream",
       "stream": "stdout",
       "text": [
        "00:20 1.1Gb   39.1% Searching, 4.0% matched\r"
       ]
      },
      {
       "output_type": "stream",
       "stream": "stdout",
       "text": [
        "00:21 1.1Gb   40.4% Searching, 4.1% matched\r"
       ]
      },
      {
       "output_type": "stream",
       "stream": "stdout",
       "text": [
        "00:22 1.1Gb   42.7% Searching, 4.2% matched\r"
       ]
      },
      {
       "output_type": "stream",
       "stream": "stdout",
       "text": [
        "00:23 1.1Gb   44.5% Searching, 4.2% matched\r"
       ]
      },
      {
       "output_type": "stream",
       "stream": "stdout",
       "text": [
        "00:24 1.1Gb   46.8% Searching, 4.2% matched\r"
       ]
      },
      {
       "output_type": "stream",
       "stream": "stdout",
       "text": [
        "00:25 1.1Gb   48.0% Searching, 4.2% matched\r"
       ]
      },
      {
       "output_type": "stream",
       "stream": "stdout",
       "text": [
        "00:26 1.1Gb   50.6% Searching, 4.3% matched\r"
       ]
      },
      {
       "output_type": "stream",
       "stream": "stdout",
       "text": [
        "00:27 1.1Gb   51.9% Searching, 4.2% matched\r"
       ]
      },
      {
       "output_type": "stream",
       "stream": "stdout",
       "text": [
        "00:28 1.1Gb   54.0% Searching, 4.3% matched\r"
       ]
      },
      {
       "output_type": "stream",
       "stream": "stdout",
       "text": [
        "00:29 1.1Gb   55.3% Searching, 4.3% matched\r"
       ]
      },
      {
       "output_type": "stream",
       "stream": "stdout",
       "text": [
        "0"
       ]
      },
      {
       "output_type": "stream",
       "stream": "stdout",
       "text": [
        "0:30 1.1Gb   58.0% Searching, 4.4% matched\r"
       ]
      },
      {
       "output_type": "stream",
       "stream": "stdout",
       "text": [
        "00:31 1.1Gb   60.4% Searching, 4.5% matched\r"
       ]
      },
      {
       "output_type": "stream",
       "stream": "stdout",
       "text": [
        "00:32 1.1Gb   62.3% Searching, 4.6% matched\r"
       ]
      },
      {
       "output_type": "stream",
       "stream": "stdout",
       "text": [
        "00:33 1.1Gb   65.1% Searching, 4.7% matched\r"
       ]
      },
      {
       "output_type": "stream",
       "stream": "stdout",
       "text": [
        "00:34 1.1Gb   67.5% Searching, 4.7% matched\r"
       ]
      },
      {
       "output_type": "stream",
       "stream": "stdout",
       "text": [
        "00:35 1.1Gb   68.9% Searching, 4.6% matched\r"
       ]
      },
      {
       "output_type": "stream",
       "stream": "stdout",
       "text": [
        "00:36 1.1Gb   70.8% Searching, 4.6% matched\r"
       ]
      },
      {
       "output_type": "stream",
       "stream": "stdout",
       "text": [
        "00:37 1.1Gb   73.2% Searching, 4.6% matched\r"
       ]
      },
      {
       "output_type": "stream",
       "stream": "stdout",
       "text": [
        "00:38 1.1Gb   75.9% Searching, 4.6% matched\r"
       ]
      },
      {
       "output_type": "stream",
       "stream": "stdout",
       "text": [
        "00:39 1.1Gb   78.8% Searching, 4.6% matched\r"
       ]
      },
      {
       "output_type": "stream",
       "stream": "stdout",
       "text": [
        "00:40 1.1Gb   82.4% Searching, 4.6% matched\r"
       ]
      },
      {
       "output_type": "stream",
       "stream": "stdout",
       "text": [
        "00:41 1.1Gb   83.1% Searching, 4.5% matched\r"
       ]
      },
      {
       "output_type": "stream",
       "stream": "stdout",
       "text": [
        "00:42 1.1Gb   87.3% Searching, 4.5% matched\r"
       ]
      },
      {
       "output_type": "stream",
       "stream": "stdout",
       "text": [
        "00:43 1.1Gb   89.7% Searching, 4.4% matched\r"
       ]
      },
      {
       "output_type": "stream",
       "stream": "stdout",
       "text": [
        "00:44 1.1Gb   92.6% Searching, 4.5% matched\r"
       ]
      },
      {
       "output_type": "stream",
       "stream": "stdout",
       "text": [
        "00:45 1.1Gb   95.7% Searching, 4.5% matched\r"
       ]
      },
      {
       "output_type": "stream",
       "stream": "stdout",
       "text": [
        "00:46 1.1Gb   98.0% Searching, 4.5% matched\r"
       ]
      },
      {
       "output_type": "stream",
       "stream": "stdout",
       "text": [
        "00:47 1.1Gb   99.8% Searching, 4.4% matched\r"
       ]
      },
      {
       "output_type": "stream",
       "stream": "stdout",
       "text": [
        "00:47 1.1Gb  100.0% Searching, 4.4% matched\r",
        "\r\n"
       ]
      },
      {
       "output_type": "stream",
       "stream": "stdout",
       "text": [
        "usearch v7.0.1090_i86osx32, 4.0Gb RAM (15.0Gb total), 4 cores\r\n",
        "(C) Copyright 2013 Robert C. Edgar, all rights reserved.\r\n",
        "http://drive5.com/usearch\r\n",
        "\r\n",
        "Licensed to: sr320@uw.edu\r\n",
        "\r\n",
        "00:00 2.1Mb Reading /Volumes/Bay3/usearch/uniprot_sprot.udb\r\n"
       ]
      },
      {
       "output_type": "stream",
       "stream": "stdout",
       "text": [
        "00:02 1.1Gb Database loaded\r\n",
        "00:02 1.1Gb    0.1% Searching, 0.0% matched\r"
       ]
      },
      {
       "output_type": "stream",
       "stream": "stdout",
       "text": [
        "00:03 1.1Gb    1.3% Searching, 5.8% matched\r"
       ]
      },
      {
       "output_type": "stream",
       "stream": "stdout",
       "text": [
        "00:04 1.1Gb    3.6% Searching, 5.4% matched\r"
       ]
      },
      {
       "output_type": "stream",
       "stream": "stdout",
       "text": [
        "00:05 1.1Gb    5.6% Searching, 4.4% matched\r"
       ]
      },
      {
       "output_type": "stream",
       "stream": "stdout",
       "text": [
        "00:06 1.1Gb    7.6% Searching, 4.7% matched\r"
       ]
      },
      {
       "output_type": "stream",
       "stream": "stdout",
       "text": [
        "00:07 1.1Gb    9.9% Searching, 5.0% matched\r"
       ]
      },
      {
       "output_type": "stream",
       "stream": "stdout",
       "text": [
        "00:08 1.1Gb   12.0% Searching, 5.2% matched\r"
       ]
      },
      {
       "output_type": "stream",
       "stream": "stdout",
       "text": [
        "00:09 1.1Gb   13.9% Searching, 4.9% matched\r"
       ]
      },
      {
       "output_type": "stream",
       "stream": "stdout",
       "text": [
        "00:10 1.1Gb   15.5% Searching, 4.7% matched\r"
       ]
      },
      {
       "output_type": "stream",
       "stream": "stdout",
       "text": [
        "00:11 1.1Gb   17.2% Searching, 4.6% matched\r"
       ]
      },
      {
       "output_type": "stream",
       "stream": "stdout",
       "text": [
        "00:12 1.1Gb   18.8% Searching, 4.6% matched\r"
       ]
      },
      {
       "output_type": "stream",
       "stream": "stdout",
       "text": [
        "00:13 1.1Gb   20.5% Searching, 4.8% matched\r"
       ]
      },
      {
       "output_type": "stream",
       "stream": "stdout",
       "text": [
        "00:14 1.1Gb   22.9% Searching, 4.6% matched\r"
       ]
      },
      {
       "output_type": "stream",
       "stream": "stdout",
       "text": [
        "00:15 1.1Gb   25.3% Searching, 4.5% matched\r"
       ]
      },
      {
       "output_type": "stream",
       "stream": "stdout",
       "text": [
        "00:16 1.1Gb   27.7% Searching, 4.3% matched\r"
       ]
      },
      {
       "output_type": "stream",
       "stream": "stdout",
       "text": [
        "00:17 1.1Gb   30.0% Searching, 4.0% matched\r"
       ]
      },
      {
       "output_type": "stream",
       "stream": "stdout",
       "text": [
        "00:18 1.1Gb   32.8% Searching, 4.0% matched\r"
       ]
      },
      {
       "output_type": "stream",
       "stream": "stdout",
       "text": [
        "00:19 1.1Gb   35.5% Searching, 3.8% matched\r"
       ]
      },
      {
       "output_type": "stream",
       "stream": "stdout",
       "text": [
        "00:20 1.1Gb   37.1% Searching, 3.9% matched\r"
       ]
      },
      {
       "output_type": "stream",
       "stream": "stdout",
       "text": [
        "00:21 1.1Gb   38.7% Searching, 3.9% matched\r"
       ]
      },
      {
       "output_type": "stream",
       "stream": "stdout",
       "text": [
        "00:22 1.1Gb   41.1% Searching, 4.0% matched\r"
       ]
      },
      {
       "output_type": "stream",
       "stream": "stdout",
       "text": [
        "00:23 1.1Gb   43.1% Searching, 4.1% matched\r"
       ]
      },
      {
       "output_type": "stream",
       "stream": "stdout",
       "text": [
        "00:24 1.1Gb   44.8% Searching, 4.0% matched\r"
       ]
      },
      {
       "output_type": "stream",
       "stream": "stdout",
       "text": [
        "00:25 1.1Gb   46.6% Searching, 3.9% matched\r"
       ]
      },
      {
       "output_type": "stream",
       "stream": "stdout",
       "text": [
        "00:26 1.1Gb   49.3% Searching, 3.9% matched\r"
       ]
      },
      {
       "output_type": "stream",
       "stream": "stdout",
       "text": [
        "00:27 1.1Gb   52.1% Searching, 3.9% matched\r"
       ]
      },
      {
       "output_type": "stream",
       "stream": "stdout",
       "text": [
        "00:28 1.1Gb   54.4% Searching, 3.8% matched\r"
       ]
      },
      {
       "output_type": "stream",
       "stream": "stdout",
       "text": [
        "00:29 1.1Gb   56.4% Searching, 3.9% matched\r"
       ]
      },
      {
       "output_type": "stream",
       "stream": "stdout",
       "text": [
        "00:30 1.1Gb   58.2% Searching, 3.9% matched\r"
       ]
      },
      {
       "output_type": "stream",
       "stream": "stdout",
       "text": [
        "00:31 1.1Gb   60.9% Searching, 3.8% matched\r"
       ]
      },
      {
       "output_type": "stream",
       "stream": "stdout",
       "text": [
        "00:32 1.1Gb   63.4% Searching, 3.7% matched\r"
       ]
      },
      {
       "output_type": "stream",
       "stream": "stdout",
       "text": [
        "00:33 1.1Gb   65.9% Searching, 3.7% matched\r"
       ]
      },
      {
       "output_type": "stream",
       "stream": "stdout",
       "text": [
        "00:34 1.1Gb   67.6% Searching, 3.8% matched\r"
       ]
      },
      {
       "output_type": "stream",
       "stream": "stdout",
       "text": [
        "00:35 1.1Gb   69.8% Searching, 3.8% matched\r"
       ]
      },
      {
       "output_type": "stream",
       "stream": "stdout",
       "text": [
        "00:36 1.1Gb   71.9% Searching, 3.8% matched\r"
       ]
      },
      {
       "output_type": "stream",
       "stream": "stdout",
       "text": [
        "00:37 1.1Gb   73.8% Searching, 3.9% matched\r"
       ]
      },
      {
       "output_type": "stream",
       "stream": "stdout",
       "text": [
        "00:38 1.1Gb   75.9% Searching, 3.8% matched\r"
       ]
      },
      {
       "output_type": "stream",
       "stream": "stdout",
       "text": [
        "00:39 1.1Gb   77.4% Searching, 3.8% matched\r"
       ]
      },
      {
       "output_type": "stream",
       "stream": "stdout",
       "text": [
        "00:40 1.1Gb   80.0% Searching, 3.8% matched\r"
       ]
      },
      {
       "output_type": "stream",
       "stream": "stdout",
       "text": [
        "00:41 1.1Gb   82.3% Searching, 3.8% matched\r"
       ]
      },
      {
       "output_type": "stream",
       "stream": "stdout",
       "text": [
        "00:42 1.1Gb   84.6% Searching, 3.8% matched\r"
       ]
      },
      {
       "output_type": "stream",
       "stream": "stdout",
       "text": [
        "00:43 1.1Gb   86.6% Searching, 3.8% matched\r"
       ]
      },
      {
       "output_type": "stream",
       "stream": "stdout",
       "text": [
        "00:44 1.1Gb   88.6% Searching, 3.8% matched\r"
       ]
      },
      {
       "output_type": "stream",
       "stream": "stdout",
       "text": [
        "00:45 1.1Gb   90.6% Searching, 3.8% matched\r"
       ]
      },
      {
       "output_type": "stream",
       "stream": "stdout",
       "text": [
        "00:46 1.1Gb   92.7% Searching, 3.8% matched\r"
       ]
      },
      {
       "output_type": "stream",
       "stream": "stdout",
       "text": [
        "00:47 1.1Gb   95.1% Searching, 3.8% matched\r"
       ]
      },
      {
       "output_type": "stream",
       "stream": "stdout",
       "text": [
        "00:48 1.1Gb   97.4% Searching, 3.8% matched\r"
       ]
      },
      {
       "output_type": "stream",
       "stream": "stdout",
       "text": [
        "00:49 1.1Gb   99.4% Searching, 3.7% matched\r"
       ]
      },
      {
       "output_type": "stream",
       "stream": "stdout",
       "text": [
        "00:49 1.1Gb  100.0% Searching, 3.7% matched\r",
        "\r\n"
       ]
      },
      {
       "output_type": "stream",
       "stream": "stdout",
       "text": [
        "usearch v7.0.1090_i86osx32, 4.0Gb RAM (15.0Gb total), 4 cores\r\n",
        "(C) Copyright 2013 Robert C. Edgar, all rights reserved.\r\n",
        "http://drive5.com/usearch\r\n",
        "\r\n",
        "Licensed to: sr320@uw.edu\r\n",
        "\r\n"
       ]
      },
      {
       "output_type": "stream",
       "stream": "stdout",
       "text": [
        "00:00 2.0Mb Reading /Volumes/Bay3/usearch/uniprot_sprot.udb\r\n"
       ]
      },
      {
       "output_type": "stream",
       "stream": "stdout",
       "text": [
        "00:02 1.1Gb Database loaded\r\n",
        "00:02 1.1Gb    0.1% Searching, 0.0% matched\r"
       ]
      },
      {
       "output_type": "stream",
       "stream": "stdout",
       "text": [
        "00:03 1.1Gb    1.4% Searching, 0.0% matched\r"
       ]
      },
      {
       "output_type": "stream",
       "stream": "stdout",
       "text": [
        "00:04 1.1Gb    3.5% Searching, 2.4% matched\r"
       ]
      },
      {
       "output_type": "stream",
       "stream": "stdout",
       "text": [
        "00:05 1.1Gb    5.4% Searching, 3.5% matched\r"
       ]
      },
      {
       "output_type": "stream",
       "stream": "stdout",
       "text": [
        "00:06 1.1Gb    8.1% Searching, 3.0% matched\r"
       ]
      },
      {
       "output_type": "stream",
       "stream": "stdout",
       "text": [
        "00:07 1.1Gb    9.8% Searching, 4.1% matched\r"
       ]
      },
      {
       "output_type": "stream",
       "stream": "stdout",
       "text": [
        "00:08 1.1Gb   13.0% Searching, 3.6% matched\r"
       ]
      },
      {
       "output_type": "stream",
       "stream": "stdout",
       "text": [
        "00:09 1.1Gb   15.1% Searching, 3.6% matched\r"
       ]
      },
      {
       "output_type": "stream",
       "stream": "stdout",
       "text": [
        "00:10 1.1Gb   18.4% Searching, 3.5% matched\r"
       ]
      },
      {
       "output_type": "stream",
       "stream": "stdout",
       "text": [
        "00:11 1.1Gb   20.1% Searching, 3.6% matched\r"
       ]
      },
      {
       "output_type": "stream",
       "stream": "stdout",
       "text": [
        "00:12 1.1Gb   22.2% Searching, 3.6% matched\r"
       ]
      },
      {
       "output_type": "stream",
       "stream": "stdout",
       "text": [
        "00:13 1.1Gb   24.6% Searching, 3.5% matched\r"
       ]
      },
      {
       "output_type": "stream",
       "stream": "stdout",
       "text": [
        "00:14 1.1Gb   26.5% Searching, 3.4% matched\r"
       ]
      },
      {
       "output_type": "stream",
       "stream": "stdout",
       "text": [
        "00:15 1.1Gb   29.2% Searching, 3.5% matched\r"
       ]
      },
      {
       "output_type": "stream",
       "stream": "stdout",
       "text": [
        "00:16 1.1Gb   31.5% Searching, 3.7% matched\r"
       ]
      },
      {
       "output_type": "stream",
       "stream": "stdout",
       "text": [
        "00:17 1.1Gb   33.1% Searching, 3.7% matched\r"
       ]
      },
      {
       "output_type": "stream",
       "stream": "stdout",
       "text": [
        "00:18 1.1Gb   35.3% Searching, 3.6% matched\r"
       ]
      },
      {
       "output_type": "stream",
       "stream": "stdout",
       "text": [
        "00:19 1.1Gb   37.6% Searching, 3.6% matched\r"
       ]
      },
      {
       "output_type": "stream",
       "stream": "stdout",
       "text": [
        "00:20 1.1Gb   40.1% Searching, 3.6% matched\r"
       ]
      },
      {
       "output_type": "stream",
       "stream": "stdout",
       "text": [
        "00:21 1.1Gb   42.4% Searching, 3.7% matched\r"
       ]
      },
      {
       "output_type": "stream",
       "stream": "stdout",
       "text": [
        "00:22 1.1Gb   44.5% Searching, 3.8% matched\r"
       ]
      },
      {
       "output_type": "stream",
       "stream": "stdout",
       "text": [
        "00:23 1.1Gb   46.4% Searching, 3.8% matched\r"
       ]
      },
      {
       "output_type": "stream",
       "stream": "stdout",
       "text": [
        "00:24 1.1Gb   48.6% Searching, 3.9% matched\r"
       ]
      },
      {
       "output_type": "stream",
       "stream": "stdout",
       "text": [
        "00:25 1.1Gb   50.6% Searching, 4.0% matched\r"
       ]
      },
      {
       "output_type": "stream",
       "stream": "stdout",
       "text": [
        "00:26 1.1Gb   53.4% Searching, 4.0% matched\r"
       ]
      },
      {
       "output_type": "stream",
       "stream": "stdout",
       "text": [
        "00:27 1.1Gb   55.8% Searching, 4.0% matched\r"
       ]
      },
      {
       "output_type": "stream",
       "stream": "stdout",
       "text": [
        "00:28 1.1Gb   57.4% Searching, 4.0% matched\r"
       ]
      },
      {
       "output_type": "stream",
       "stream": "stdout",
       "text": [
        "0"
       ]
      },
      {
       "output_type": "stream",
       "stream": "stdout",
       "text": [
        "0:29 1.1Gb   59.9% Searching, 4.0% matched\r"
       ]
      },
      {
       "output_type": "stream",
       "stream": "stdout",
       "text": [
        "00:30 1.1Gb   63.5% Searching, 4.1% matched\r"
       ]
      },
      {
       "output_type": "stream",
       "stream": "stdout",
       "text": [
        "00:31 1.1Gb   63.7% Searching, 4.1% matched\r"
       ]
      },
      {
       "output_type": "stream",
       "stream": "stdout",
       "text": [
        "00:32 1.1Gb   65.9% Searching, 4.2% matched\r"
       ]
      },
      {
       "output_type": "stream",
       "stream": "stdout",
       "text": [
        "00:33 1.1Gb   68.4% Searching, 4.2% matched\r"
       ]
      },
      {
       "output_type": "stream",
       "stream": "stdout",
       "text": [
        "00:34 1.1Gb   71.5% Searching, 4.0% matched\r"
       ]
      },
      {
       "output_type": "stream",
       "stream": "stdout",
       "text": [
        "00:35 1.1Gb   73.3% Searching, 4.0% matched\r"
       ]
      },
      {
       "output_type": "stream",
       "stream": "stdout",
       "text": [
        "00:36 1.1Gb   75.9% Searching, 3.9% matched\r"
       ]
      },
      {
       "output_type": "stream",
       "stream": "stdout",
       "text": [
        "00:37 1.1Gb   78.4% Searching, 3.9% matched\r"
       ]
      },
      {
       "output_type": "stream",
       "stream": "stdout",
       "text": [
        "00:38 1.1Gb   80.5% Searching, 3.9% matched\r"
       ]
      },
      {
       "output_type": "stream",
       "stream": "stdout",
       "text": [
        "00:39 1.1Gb   82.6% Searching, 3.9% matched\r"
       ]
      },
      {
       "output_type": "stream",
       "stream": "stdout",
       "text": [
        "00:40 1.1Gb   84.3% Searching, 4.0% matched\r"
       ]
      },
      {
       "output_type": "stream",
       "stream": "stdout",
       "text": [
        "00:41 1.1Gb   86.6% Searching, 3.9% matched\r"
       ]
      },
      {
       "output_type": "stream",
       "stream": "stdout",
       "text": [
        "00:42 1.1Gb   89.0% Searching, 3.9% matched\r"
       ]
      },
      {
       "output_type": "stream",
       "stream": "stdout",
       "text": [
        "00:43 1.1Gb   91.4% Searching, 3.9% matched\r"
       ]
      },
      {
       "output_type": "stream",
       "stream": "stdout",
       "text": [
        "00:44 1.1Gb   93.3% Searching, 3.9% matched\r"
       ]
      },
      {
       "output_type": "stream",
       "stream": "stdout",
       "text": [
        "00:45 1.1Gb   95.9% Searching, 3.9% matched\r"
       ]
      },
      {
       "output_type": "stream",
       "stream": "stdout",
       "text": [
        "00:46 1.1Gb   98.0% Searching, 3.9% matched\r"
       ]
      },
      {
       "output_type": "stream",
       "stream": "stdout",
       "text": [
        "00:47 1.1Gb   99.7% Searching, 3.8% matched\r"
       ]
      },
      {
       "output_type": "stream",
       "stream": "stdout",
       "text": [
        "00:47 1.1Gb  100.0% Searching, 3.8% matched\r",
        "\r\n"
       ]
      },
      {
       "output_type": "stream",
       "stream": "stdout",
       "text": [
        "usearch v7.0.1090_i86osx32, 4.0Gb RAM (15.0Gb total), 4 cores\r\n",
        "(C) Copyright 2013 Robert C. Edgar, all rights reserved.\r\n",
        "http://drive5.com/usearch\r\n",
        "\r\n",
        "Licensed to: sr320@uw.edu\r\n",
        "\r\n"
       ]
      },
      {
       "output_type": "stream",
       "stream": "stdout",
       "text": [
        "00:00 1.9Mb Reading /Volumes/Bay3/usearch/uniprot_sprot.udb\r\n"
       ]
      },
      {
       "output_type": "stream",
       "stream": "stdout",
       "text": [
        "00:02 1.1Gb Database loaded\r\n",
        "00:02 1.1Gb    0.1% Searching, 0.0% matched\r"
       ]
      },
      {
       "output_type": "stream",
       "stream": "stdout",
       "text": [
        "00:03 1.1Gb    0.8% Searching, 0.0% matched\r"
       ]
      },
      {
       "output_type": "stream",
       "stream": "stdout",
       "text": [
        "00:04 1.1Gb    3.3% Searching, 5.4% matched\r"
       ]
      },
      {
       "output_type": "stream",
       "stream": "stdout",
       "text": [
        "00:05 1.1Gb    6.5% Searching, 3.9% matched\r"
       ]
      },
      {
       "output_type": "stream",
       "stream": "stdout",
       "text": [
        "00:06 1.1Gb    9.1% Searching, 3.6% matched\r"
       ]
      },
      {
       "output_type": "stream",
       "stream": "stdout",
       "text": [
        "00:07 1.1Gb   11.8% Searching, 3.8% matched\r"
       ]
      },
      {
       "output_type": "stream",
       "stream": "stdout",
       "text": [
        "00:08 1.1Gb   14.7% Searching, 3.1% matched\r"
       ]
      },
      {
       "output_type": "stream",
       "stream": "stdout",
       "text": [
        "00:09 1.1Gb   17.4% Searching, 3.3% matched\r"
       ]
      },
      {
       "output_type": "stream",
       "stream": "stdout",
       "text": [
        "00:10 1.1Gb   20.2% Searching, 3.3% matched\r"
       ]
      },
      {
       "output_type": "stream",
       "stream": "stdout",
       "text": [
        "00:11 1.1Gb   22.4% Searching, 3.4% matched\r"
       ]
      },
      {
       "output_type": "stream",
       "stream": "stdout",
       "text": [
        "00:12 1.1Gb   25.0% Searching, 3.6% matched\r"
       ]
      },
      {
       "output_type": "stream",
       "stream": "stdout",
       "text": [
        "00:13 1.1Gb   27.5% Searching, 3.8% matched\r"
       ]
      },
      {
       "output_type": "stream",
       "stream": "stdout",
       "text": [
        "00:14 1.1Gb   30.2% Searching, 3.8% matched\r"
       ]
      },
      {
       "output_type": "stream",
       "stream": "stdout",
       "text": [
        "00:15 1.1Gb   32.8% Searching, 3.8% matched\r"
       ]
      },
      {
       "output_type": "stream",
       "stream": "stdout",
       "text": [
        "00:16 1.1Gb   34.8% Searching, 3.8% matched\r"
       ]
      },
      {
       "output_type": "stream",
       "stream": "stdout",
       "text": [
        "00:17 1.1Gb   37.8% Searching, 3.8% matched\r"
       ]
      },
      {
       "output_type": "stream",
       "stream": "stdout",
       "text": [
        "00:18 1.1Gb   40.4% Searching, 3.8% matched\r"
       ]
      },
      {
       "output_type": "stream",
       "stream": "stdout",
       "text": [
        "00:19 1.1Gb   42.6% Searching, 3.8% matched\r"
       ]
      },
      {
       "output_type": "stream",
       "stream": "stdout",
       "text": [
        "00:20 1.1Gb   45.2% Searching, 3.7% matched\r"
       ]
      },
      {
       "output_type": "stream",
       "stream": "stdout",
       "text": [
        "00:21 1.1Gb   47.2% Searching, 3.7% matched\r"
       ]
      },
      {
       "output_type": "stream",
       "stream": "stdout",
       "text": [
        "00:22 1.1Gb   50.0% Searching, 3.6% matched\r"
       ]
      },
      {
       "output_type": "stream",
       "stream": "stdout",
       "text": [
        "00:23 1.1Gb   52.2% Searching, 3.7% matched\r"
       ]
      },
      {
       "output_type": "stream",
       "stream": "stdout",
       "text": [
        "00:24 1.1Gb   55.0% Searching, 3.7% matched\r"
       ]
      },
      {
       "output_type": "stream",
       "stream": "stdout",
       "text": [
        "00:25 1.1Gb   57.9% Searching, 3.7% matched\r"
       ]
      },
      {
       "output_type": "stream",
       "stream": "stdout",
       "text": [
        "00:26 1.1Gb   59.9% Searching, 3.7% matched\r"
       ]
      },
      {
       "output_type": "stream",
       "stream": "stdout",
       "text": [
        "00:27 1.1Gb   62.9% Searching, 3.7% matched\r"
       ]
      },
      {
       "output_type": "stream",
       "stream": "stdout",
       "text": [
        "00:28 1.1Gb   65.1% Searching, 3.7% matched\r"
       ]
      },
      {
       "output_type": "stream",
       "stream": "stdout",
       "text": [
        "00:29 1.1Gb   67.6% Searching, 3.7% matched\r"
       ]
      },
      {
       "output_type": "stream",
       "stream": "stdout",
       "text": [
        "00:30 1.1Gb   70.1% Searching, 3.6% matched\r"
       ]
      },
      {
       "output_type": "stream",
       "stream": "stdout",
       "text": [
        "00:31 1.1Gb   73.0% Searching, 3.6% matched\r"
       ]
      },
      {
       "output_type": "stream",
       "stream": "stdout",
       "text": [
        "00:32 1.1Gb   75.7% Searching, 3.6% ma"
       ]
      },
      {
       "output_type": "stream",
       "stream": "stdout",
       "text": [
        "tched\r"
       ]
      },
      {
       "output_type": "stream",
       "stream": "stdout",
       "text": [
        "00:33 1.1Gb   78.3% Searching, 3.6% matched\r"
       ]
      },
      {
       "output_type": "stream",
       "stream": "stdout",
       "text": [
        "00:34 1.1Gb   80.5% Searching, 3.6% matched\r"
       ]
      },
      {
       "output_type": "stream",
       "stream": "stdout",
       "text": [
        "00:35 1.1Gb   83.1% Searching, 3.6% matched\r"
       ]
      },
      {
       "output_type": "stream",
       "stream": "stdout",
       "text": [
        "00:36 1.1Gb   85.9% Searching, 3.6% matched\r"
       ]
      },
      {
       "output_type": "stream",
       "stream": "stdout",
       "text": [
        "00:37 1.1Gb   87.9% Searching, 3.6% matched\r"
       ]
      },
      {
       "output_type": "stream",
       "stream": "stdout",
       "text": [
        "00:38 1.1Gb   91.0% Searching, 3.6% matched\r"
       ]
      },
      {
       "output_type": "stream",
       "stream": "stdout",
       "text": [
        "00:39 1.1Gb   93.3% Searching, 3.6% matched\r"
       ]
      },
      {
       "output_type": "stream",
       "stream": "stdout",
       "text": [
        "00:40 1.1Gb   95.7% Searching, 3.6% matched\r"
       ]
      },
      {
       "output_type": "stream",
       "stream": "stdout",
       "text": [
        "00:41 1.1Gb   99.2% Searching, 3.6% matched\r"
       ]
      },
      {
       "output_type": "stream",
       "stream": "stdout",
       "text": [
        "00:41 1.1Gb  100.0% Searching, 3.6% matched\r",
        "\r\n"
       ]
      },
      {
       "output_type": "stream",
       "stream": "stdout",
       "text": [
        "usearch v7.0.1090_i86osx32, 4.0Gb RAM (15.0Gb total), 4 cores\r\n",
        "(C) Copyright 2013 Robert C. Edgar, all rights reserved.\r\n",
        "http://drive5.com/usearch\r\n",
        "\r\n",
        "Licensed to: sr320@uw.edu\r\n",
        "\r\n"
       ]
      },
      {
       "output_type": "stream",
       "stream": "stdout",
       "text": [
        "00:00 1.7Mb Reading /Volumes/Bay3/usearch/uniprot_sprot.udb\r\n"
       ]
      },
      {
       "output_type": "stream",
       "stream": "stdout",
       "text": [
        "00:02 1.1Gb Database loaded\r\n",
        "00:02 1.1Gb    0.1% Searching, 0.0% matched\r",
        "00:03 1.1Gb    0.6% Searching, 0.0% matched\r"
       ]
      },
      {
       "output_type": "stream",
       "stream": "stdout",
       "text": [
        "0"
       ]
      },
      {
       "output_type": "stream",
       "stream": "stdout",
       "text": [
        "0:04 1.1Gb    4.2% Searching, 3.5% matched\r"
       ]
      },
      {
       "output_type": "stream",
       "stream": "stdout",
       "text": [
        "00:05 1.1Gb    7.7% Searching, 3.3% matched\r"
       ]
      },
      {
       "output_type": "stream",
       "stream": "stdout",
       "text": [
        "00:06 1.1Gb   11.2% Searching, 3.3% matched\r"
       ]
      },
      {
       "output_type": "stream",
       "stream": "stdout",
       "text": [
        "00:07 1.1Gb   14.7% Searching, 3.5% matched\r"
       ]
      },
      {
       "output_type": "stream",
       "stream": "stdout",
       "text": [
        "00:08 1.1Gb   18.3% Searching, 3.5% matched\r"
       ]
      },
      {
       "output_type": "stream",
       "stream": "stdout",
       "text": [
        "00:09 1.1Gb   22.1% Searching, 3.2% matched\r"
       ]
      },
      {
       "output_type": "stream",
       "stream": "stdout",
       "text": [
        "00:10 1.1Gb   24.1% Searching, 3.2% matched\r"
       ]
      },
      {
       "output_type": "stream",
       "stream": "stdout",
       "text": [
        "00:11 1.1Gb   27.0% Searching, 3.1% matched\r"
       ]
      },
      {
       "output_type": "stream",
       "stream": "stdout",
       "text": [
        "usearch(67617,0xb0081000) malloc: *** mmap(size=1120374784) failed (error code=12)\r\n",
        "*** error: can't allocate region\r\n",
        "*** set a breakpoint in malloc_error_break to debug\r\n",
        "\r\n",
        "Out of memory mymalloc(1120374780), curr 1.07e+09 bytes\r\n",
        "\r\n",
        "myutils.cpp(2212): \r\n",
        "\r\n",
        "usearch -ublast cgigas.part-63.fa -db /Volumes/Bay3/usearch/uniprot_sprot.udb -evalue 1e-5 -accel 0.8 -top_hits_only -maxhits 1 -blast6out /Volumes/web/cnidarian/cgigas8_cgigas.part-63.fa_ublast_sprot.b6\r\n",
        "\r\n",
        "---Fatal error---\r\n",
        "Out of memory, mymalloc(1120374780), curr 1.07e+09 bytes\r\n",
        "\r\n"
       ]
      },
      {
       "output_type": "stream",
       "stream": "stdout",
       "text": [
        "usearch v7.0.1090_i86osx32, 4.0Gb RAM (15.0Gb total), 4 cores\r\n",
        "(C) Copyright 2013 Robert C. Edgar, all rights reserved.\r\n",
        "http://drive5.com/usearch\r\n",
        "\r\n",
        "Licensed to: sr320@uw.edu\r\n",
        "\r\n"
       ]
      },
      {
       "output_type": "stream",
       "stream": "stdout",
       "text": [
        "00:00 2.0Mb Reading /Volumes/Bay3/usearch/uniprot_sprot.udb\r\n"
       ]
      },
      {
       "output_type": "stream",
       "stream": "stdout",
       "text": [
        "00:02 1.1Gb Database loaded\r\n",
        "00:02 1.1Gb    0.1% Searching, 0.0% matched\r"
       ]
      },
      {
       "output_type": "stream",
       "stream": "stdout",
       "text": [
        "00:03 1.1Gb    2.0% Searching, 5.5% matched\r"
       ]
      },
      {
       "output_type": "stream",
       "stream": "stdout",
       "text": [
        "00:04 1.1Gb    4.8% Searching, 4.4% matched\r"
       ]
      },
      {
       "output_type": "stream",
       "stream": "stdout",
       "text": [
        "00:05 1.1Gb    7.7% Searching, 3.5% matched\r"
       ]
      },
      {
       "output_type": "stream",
       "stream": "stdout",
       "text": [
        "00:06 1.1Gb    9.8% Searching, 3.9% matched\r"
       ]
      },
      {
       "output_type": "stream",
       "stream": "stdout",
       "text": [
        "00:07 1.1Gb   12.1% Searching, 4.4% matched\r"
       ]
      },
      {
       "output_type": "stream",
       "stream": "stdout",
       "text": [
        "00:08 1.1Gb   13.8% Searching, 4.5% matched\r"
       ]
      },
      {
       "output_type": "stream",
       "stream": "stdout",
       "text": [
        "00:09 1.1Gb   15.0% Searching, 4.9% matched\r"
       ]
      },
      {
       "output_type": "stream",
       "stream": "stdout",
       "text": [
        "00:10 1.1Gb   17.2% Searching, 4.5% matched\r"
       ]
      },
      {
       "output_type": "stream",
       "stream": "stdout",
       "text": [
        "00:11 1.1Gb   18.2% Searching, 4.4% matched\r"
       ]
      },
      {
       "output_type": "stream",
       "stream": "stdout",
       "text": [
        "00:12 1.1Gb   19.9% Searching, 4.5% matched\r"
       ]
      },
      {
       "output_type": "stream",
       "stream": "stdout",
       "text": [
        "00:13 1.1Gb   21.9% Searching, 4.8% matched\r"
       ]
      },
      {
       "output_type": "stream",
       "stream": "stdout",
       "text": [
        "00:14 1.1Gb   24.1% Searching, 4.8% matched\r"
       ]
      },
      {
       "output_type": "stream",
       "stream": "stdout",
       "text": [
        "00:15 1.1Gb   25.8% Searching, 4.8% matched\r"
       ]
      },
      {
       "output_type": "stream",
       "stream": "stdout",
       "text": [
        "usearch(67747,0xb0185000) malloc: *** mmap(size=1216057344) failed (error code=12)\r\n",
        "*** error: can't allocate region\r\n",
        "*** set a breakpoint in malloc_error_break to debug\r\n",
        "\r\n",
        "Out of memory mymalloc(1216056380), curr 1.07e+09 bytes\r\n",
        "\r\n",
        "myutils.cpp(2212): \r\n",
        "\r\n",
        "usearch -ublast cgigas.part-64.fa -db /Volumes/Bay3/usearch/uniprot_sprot.udb -evalue 1e-5 -accel 0.8 -top_hits_only -maxhits 1 -blast6out /Volumes/web/cnidarian/cgigas8_cgigas.part-64.fa_ublast_sprot.b6\r\n",
        "\r\n",
        "---Fatal error---\r\n",
        "Out of memory, mymalloc(1216056380), curr 1.07e+09 bytes\r\n",
        "\r\n"
       ]
      },
      {
       "output_type": "stream",
       "stream": "stdout",
       "text": [
        "usearch v7.0.1090_i86osx32, 4.0Gb RAM (15.0Gb total), 4 cores\r\n",
        "(C) Copyright 2013 Robert C. Edgar, all rights reserved.\r\n",
        "http://drive5.com/usearch\r\n",
        "\r\n",
        "Licensed to: sr320@uw.edu\r\n",
        "\r\n"
       ]
      },
      {
       "output_type": "stream",
       "stream": "stdout",
       "text": [
        "00:00 2.1Mb Reading /Volumes/Bay3/usearch/uniprot_sprot.udb\r\n"
       ]
      },
      {
       "output_type": "stream",
       "stream": "stdout",
       "text": [
        "00:02 1.1Gb Database loaded\r\n",
        "00:02 1.1Gb    0.1% Searching, 0.0% matched\r"
       ]
      },
      {
       "output_type": "stream",
       "stream": "stdout",
       "text": [
        "00:03 1.1Gb    1.3% Searching, 2.8% matched\r"
       ]
      },
      {
       "output_type": "stream",
       "stream": "stdout",
       "text": [
        "00:04 1.1Gb    3.7% Searching, 2.5% matched\r"
       ]
      },
      {
       "output_type": "stream",
       "stream": "stdout",
       "text": [
        "00:05 1.1Gb    5.8% Searching, 3.9% matched\r"
       ]
      },
      {
       "output_type": "stream",
       "stream": "stdout",
       "text": [
        "00:06 1.1Gb    8.1% Searching, 3.9% matched\r"
       ]
      },
      {
       "output_type": "stream",
       "stream": "stdout",
       "text": [
        "00:07 1.1Gb   10.3% Searching, 3.8% matched\r"
       ]
      },
      {
       "output_type": "stream",
       "stream": "stdout",
       "text": [
        "00:08 1.1Gb   12.9% Searching, 3.8% matched\r"
       ]
      },
      {
       "output_type": "stream",
       "stream": "stdout",
       "text": [
        "00:09 1.1Gb   15.0% Searching, 4.4% matched\r"
       ]
      },
      {
       "output_type": "stream",
       "stream": "stdout",
       "text": [
        "00:10 1.1Gb   17.6% Searching, 4.5% matched\r"
       ]
      },
      {
       "output_type": "stream",
       "stream": "stdout",
       "text": [
        "00:11 1.1Gb   20.1% Searching, 4.4% matched\r"
       ]
      },
      {
       "output_type": "stream",
       "stream": "stdout",
       "text": [
        "00:12 1.1Gb   22.4% Searching, 4.4% matched\r"
       ]
      },
      {
       "output_type": "stream",
       "stream": "stdout",
       "text": [
        "00:13 1.1Gb   24.4% Searching, 4.3% matched\r"
       ]
      },
      {
       "output_type": "stream",
       "stream": "stdout",
       "text": [
        "00:14 1.1Gb   27.0% Searching, 4.3% matched\r"
       ]
      },
      {
       "output_type": "stream",
       "stream": "stdout",
       "text": [
        "00:15 1.1Gb   29.3% Searching, 4.3% matched\r"
       ]
      },
      {
       "output_type": "stream",
       "stream": "stdout",
       "text": [
        "00:16 1.1Gb   31.1% Searching, 4.1% matched\r"
       ]
      },
      {
       "output_type": "stream",
       "stream": "stdout",
       "text": [
        "00:17 1.1Gb   33.0% Searching, 4.2% matched\r"
       ]
      },
      {
       "output_type": "stream",
       "stream": "stdout",
       "text": [
        "00:18 1.1Gb   35.3% Searching, 4.1% matched\r"
       ]
      },
      {
       "output_type": "stream",
       "stream": "stdout",
       "text": [
        "00:19 1.1Gb   38.1% Searching, 3.9% matched\r"
       ]
      },
      {
       "output_type": "stream",
       "stream": "stdout",
       "text": [
        "00:20 1.1Gb   40.1% Searching, 3.9% matched\r"
       ]
      },
      {
       "output_type": "stream",
       "stream": "stdout",
       "text": [
        "00:21 1.1Gb   43.5% Searching, 3.8% matched\r"
       ]
      },
      {
       "output_type": "stream",
       "stream": "stdout",
       "text": [
        "00:22 1.1Gb   46.7% Searching, 3.8% matched\r"
       ]
      },
      {
       "output_type": "stream",
       "stream": "stdout",
       "text": [
        "00:23 1.1Gb   48.3% Searching, 3.8% matched\r"
       ]
      },
      {
       "output_type": "stream",
       "stream": "stdout",
       "text": [
        "00:24 1.1Gb   50.6% Searching, 3.9% matched\r"
       ]
      },
      {
       "output_type": "stream",
       "stream": "stdout",
       "text": [
        "00:25 1.1Gb   53.2% Searching, 3.9% matched\r"
       ]
      },
      {
       "output_type": "stream",
       "stream": "stdout",
       "text": [
        "00:26 1.1Gb   55.6% Searching, 3.8% matched\r"
       ]
      },
      {
       "output_type": "stream",
       "stream": "stdout",
       "text": [
        "00:27 1.1Gb   57.9% Searching, 3.9% matched\r"
       ]
      },
      {
       "output_type": "stream",
       "stream": "stdout",
       "text": [
        "00:28 1.1Gb   60.3% Searching, 3.8% matched\r"
       ]
      },
      {
       "output_type": "stream",
       "stream": "stdout",
       "text": [
        "00:29 1.1Gb   62.7% Searching, 3.8% matched\r"
       ]
      },
      {
       "output_type": "stream",
       "stream": "stdout",
       "text": [
        "00:30 1.1Gb   65.3% Searching, 3.8% matched\r"
       ]
      },
      {
       "output_type": "stream",
       "stream": "stdout",
       "text": [
        "00:31 1.1Gb   68.3% Searching, 3.8% matched\r"
       ]
      },
      {
       "output_type": "stream",
       "stream": "stdout",
       "text": [
        "00:32 1.1Gb   70.9% Searching, 3.8% matched\r"
       ]
      },
      {
       "output_type": "stream",
       "stream": "stdout",
       "text": [
        "00:33 1.1Gb   72.9% Searching, 3.7% matched\r"
       ]
      },
      {
       "output_type": "stream",
       "stream": "stdout",
       "text": [
        "00:34 1.1Gb   75.0% Searching, 3.7% matched\r"
       ]
      },
      {
       "output_type": "stream",
       "stream": "stdout",
       "text": [
        "00:35 1.1Gb   76.6% Searching, 3.7% matched\r"
       ]
      },
      {
       "output_type": "stream",
       "stream": "stdout",
       "text": [
        "00:36 1.1Gb   79.2% Searching, 3.7% matched\r"
       ]
      },
      {
       "output_type": "stream",
       "stream": "stdout",
       "text": [
        "00:37 1.1Gb   80.3% Searching, 3.7% matched\r"
       ]
      },
      {
       "output_type": "stream",
       "stream": "stdout",
       "text": [
        "00:38 1.1Gb   82.9% Searching, 3.7% matched\r"
       ]
      },
      {
       "output_type": "stream",
       "stream": "stdout",
       "text": [
        "00:39 1.1Gb   85.8% Searching, 3.6% matched\r"
       ]
      },
      {
       "output_type": "stream",
       "stream": "stdout",
       "text": [
        "00:40 1.1Gb   88.2% Searching, 3.5% matched\r"
       ]
      },
      {
       "output_type": "stream",
       "stream": "stdout",
       "text": [
        "00:41 1.1Gb   90.6% Searching, 3.5% matched\r"
       ]
      },
      {
       "output_type": "stream",
       "stream": "stdout",
       "text": [
        "00:42 1.1Gb   92.3% Searching, 3.5% matched\r"
       ]
      },
      {
       "output_type": "stream",
       "stream": "stdout",
       "text": [
        "00:43 1.1Gb   94.9% Searching, 3.5% matched\r"
       ]
      },
      {
       "output_type": "stream",
       "stream": "stdout",
       "text": [
        "00:44 1.1Gb   97.1% Searching, 3.5% matched\r"
       ]
      },
      {
       "output_type": "stream",
       "stream": "stdout",
       "text": [
        "00:45 1.1Gb   99.2% Searching, 3.6% matched\r"
       ]
      },
      {
       "output_type": "stream",
       "stream": "stdout",
       "text": [
        "00:45 1.1Gb  100.0% Searching, 3.6% matched\r",
        "\r\n"
       ]
      },
      {
       "output_type": "stream",
       "stream": "stdout",
       "text": [
        "usearch v7.0.1090_i86osx32, 4.0Gb RAM (15.0Gb total), 4 cores\r\n",
        "(C) Copyright 2013 Robert C. Edgar, all rights reserved.\r\n",
        "http://drive5.com/usearch\r\n",
        "\r\n",
        "Licensed to: sr320@uw.edu\r\n",
        "\r\n"
       ]
      },
      {
       "output_type": "stream",
       "stream": "stdout",
       "text": [
        "00:01 2.0Mb Reading /Volumes/Bay3/usearch/uniprot_sprot.udb\r\n"
       ]
      },
      {
       "output_type": "stream",
       "stream": "stdout",
       "text": [
        "00:03 1.1Gb Database loaded\r\n",
        "00:03 1.1Gb    0.1% Searching, 0.0% matched\r"
       ]
      },
      {
       "output_type": "stream",
       "stream": "stdout",
       "text": [
        "00:04 1.1Gb    2.4% Searching, 2.1% matched\r"
       ]
      },
      {
       "output_type": "stream",
       "stream": "stdout",
       "text": [
        "00:05 1.1Gb    4.5% Searching, 2.4% matched\r"
       ]
      },
      {
       "output_type": "stream",
       "stream": "stdout",
       "text": [
        "00:06 1.1Gb    6.5% Searching, 2.4% matched\r"
       ]
      },
      {
       "output_type": "stream",
       "stream": "stdout",
       "text": [
        "00:07 1.1Gb   10.3% Searching, 2.7% matched\r"
       ]
      },
      {
       "output_type": "stream",
       "stream": "stdout",
       "text": [
        "00:08 1.1Gb   11.8% Searching, 2.6% matched\r"
       ]
      },
      {
       "output_type": "stream",
       "stream": "stdout",
       "text": [
        "00:09 1.1Gb   14.6% Searching, 2.6% matched\r"
       ]
      },
      {
       "output_type": "stream",
       "stream": "stdout",
       "text": [
        "00:10 1.1Gb   17.2% Searching, 2.4% matched\r"
       ]
      },
      {
       "output_type": "stream",
       "stream": "stdout",
       "text": [
        "00:11 1.1Gb   20.6% Searching, 2.3% matched\r"
       ]
      },
      {
       "output_type": "stream",
       "stream": "stdout",
       "text": [
        "00:12 1.1Gb   21.8% Searching, 2.3% matched\r"
       ]
      },
      {
       "output_type": "stream",
       "stream": "stdout",
       "text": [
        "00:13 1.1Gb   24.8% Searching, 2.4% matched\r"
       ]
      },
      {
       "output_type": "stream",
       "stream": "stdout",
       "text": [
        "00:14 1.1Gb   26.9% Searching, 2.4% matched\r"
       ]
      },
      {
       "output_type": "stream",
       "stream": "stdout",
       "text": [
        "00:15 1.1Gb   29.4% Searching, 2.6% matched\r"
       ]
      },
      {
       "output_type": "stream",
       "stream": "stdout",
       "text": [
        "00:16 1.1Gb   32.2% Searching, 2.6% matched\r"
       ]
      },
      {
       "output_type": "stream",
       "stream": "stdout",
       "text": [
        "00:17 1.1Gb   34.3% Searching, 2.7% matched\r"
       ]
      },
      {
       "output_type": "stream",
       "stream": "stdout",
       "text": [
        "00:18 1.1Gb   36.5% Searching, 2.6% matched\r"
       ]
      },
      {
       "output_type": "stream",
       "stream": "stdout",
       "text": [
        "00:19 1.1Gb   38.4% Searching, 2.7% matched\r"
       ]
      },
      {
       "output_type": "stream",
       "stream": "stdout",
       "text": [
        "00:20 1.1Gb   40.9% Searching, 2.8% matched\r"
       ]
      },
      {
       "output_type": "stream",
       "stream": "stdout",
       "text": [
        "00:21 1.1Gb   42.8% Searching, 2.7% matched\r"
       ]
      },
      {
       "output_type": "stream",
       "stream": "stdout",
       "text": [
        "00:22 1.1Gb   45.0% Searching, 2.7% matched\r"
       ]
      },
      {
       "output_type": "stream",
       "stream": "stdout",
       "text": [
        "00:23 1.1Gb   46.9% Searching, 2.7% matched\r"
       ]
      },
      {
       "output_type": "stream",
       "stream": "stdout",
       "text": [
        "00:24 1.1Gb   49.2% Searching, 2.7% matched\r"
       ]
      },
      {
       "output_type": "stream",
       "stream": "stdout",
       "text": [
        "00:25 1.1Gb   50.8% Searching, 2.7% matched\r"
       ]
      },
      {
       "output_type": "stream",
       "stream": "stdout",
       "text": [
        "00:26 1.1Gb   53.1% Searching, 2.9% matched\r"
       ]
      },
      {
       "output_type": "stream",
       "stream": "stdout",
       "text": [
        "00:27 1.1Gb   55.2% Searching, 2.9% matched\r"
       ]
      },
      {
       "output_type": "stream",
       "stream": "stdout",
       "text": [
        "00:28 1.1Gb   57.2% Searching, 2.9% matched\r"
       ]
      },
      {
       "output_type": "stream",
       "stream": "stdout",
       "text": [
        "00:29 1.1Gb   59.1% Searching, 3.0% matched\r"
       ]
      },
      {
       "output_type": "stream",
       "stream": "stdout",
       "text": [
        "00:30 1.1Gb   61.8% Searching, 3.0% matched\r"
       ]
      },
      {
       "output_type": "stream",
       "stream": "stdout",
       "text": [
        "00:31 1.1Gb   63.2% Searching, 3.0% matched\r"
       ]
      },
      {
       "output_type": "stream",
       "stream": "stdout",
       "text": [
        "00:32 1.1Gb   64.9% Searching, 3.0% matched\r"
       ]
      },
      {
       "output_type": "stream",
       "stream": "stdout",
       "text": [
        "00:33 1.1Gb   67.6% Searching, 3.0% matched\r"
       ]
      },
      {
       "output_type": "stream",
       "stream": "stdout",
       "text": [
        "00:34 1.1Gb   69.3% Searching, 3.0% matched\r"
       ]
      },
      {
       "output_type": "stream",
       "stream": "stdout",
       "text": [
        "00:35 1.1Gb   71.2% Searching, 3.0% matched\r"
       ]
      },
      {
       "output_type": "stream",
       "stream": "stdout",
       "text": [
        "00:36 1.1Gb   73.4% Searching, 3.1% matched\r"
       ]
      },
      {
       "output_type": "stream",
       "stream": "stdout",
       "text": [
        "00:37 1.1Gb   75.6% Searching, 3.1% matched\r"
       ]
      },
      {
       "output_type": "stream",
       "stream": "stdout",
       "text": [
        "00:38 1.1Gb   77.3% Searching, 3.1% matched\r"
       ]
      },
      {
       "output_type": "stream",
       "stream": "stdout",
       "text": [
        "00:39 1.1Gb   79.4% Searching, 3.2% matched\r"
       ]
      },
      {
       "output_type": "stream",
       "stream": "stdout",
       "text": [
        "00:40 1.1Gb   81.7% Searching, 3.2% matched\r"
       ]
      },
      {
       "output_type": "stream",
       "stream": "stdout",
       "text": [
        "00:41 1.1Gb   83.3% Searching, 3.2% matched\r"
       ]
      },
      {
       "output_type": "stream",
       "stream": "stdout",
       "text": [
        "00:42 1.1Gb   85.3% Searching, 3.3% matched\r"
       ]
      },
      {
       "output_type": "stream",
       "stream": "stdout",
       "text": [
        "00:43 1.1Gb   87.6% Searching, 3.3% matched\r"
       ]
      },
      {
       "output_type": "stream",
       "stream": "stdout",
       "text": [
        "00:44 1.1Gb   89.7% Searching, 3.2% matched\r"
       ]
      },
      {
       "output_type": "stream",
       "stream": "stdout",
       "text": [
        "00:45 1.1Gb   92.1% Searching, 3.3% matched\r"
       ]
      },
      {
       "output_type": "stream",
       "stream": "stdout",
       "text": [
        "00:46 1.1Gb   93.9% Searching, 3.3% matched\r"
       ]
      },
      {
       "output_type": "stream",
       "stream": "stdout",
       "text": [
        "00:47 1.1Gb   95.9% Searching, 3.2% matched\r"
       ]
      },
      {
       "output_type": "stream",
       "stream": "stdout",
       "text": [
        "00:48 1.1Gb   98.4% Searching, 3.2% matched\r"
       ]
      },
      {
       "output_type": "stream",
       "stream": "stdout",
       "text": [
        "00:48 1.1Gb  100.0% Searching, 3.2% matched\r",
        "\r\n"
       ]
      },
      {
       "output_type": "stream",
       "stream": "stdout",
       "text": [
        "usearch v7.0.1090_i86osx32, 4.0Gb RAM (15.0Gb total), 4 cores\r\n",
        "(C) Copyright 2013 Robert C. Edgar, all rights reserved.\r\n",
        "http://drive5.com/usearch\r\n",
        "\r\n",
        "Licensed to: sr320@uw.edu\r\n",
        "\r\n",
        "00:00 1.9Mb Reading /Volumes/Bay3/usearch/uniprot_sprot.udb\r\n"
       ]
      },
      {
       "output_type": "stream",
       "stream": "stdout",
       "text": [
        "00:02 1.1Gb Database loaded\r\n",
        "00:02 1.1Gb    0.1% Searching, 0.0% matched\r"
       ]
      },
      {
       "output_type": "stream",
       "stream": "stdout",
       "text": [
        "00:03 1.1Gb    2.4% Searching, 1.7% matched\r"
       ]
      },
      {
       "output_type": "stream",
       "stream": "stdout",
       "text": [
        "00:04 1.1Gb    5.3% Searching, 4.0% matched\r"
       ]
      },
      {
       "output_type": "stream",
       "stream": "stdout",
       "text": [
        "00:05 1.1Gb    8.3% Searching, 4.1% matched\r"
       ]
      },
      {
       "output_type": "stream",
       "stream": "stdout",
       "text": [
        "00:06 1.1Gb   11.6% Searching, 4.3% matched\r"
       ]
      },
      {
       "output_type": "stream",
       "stream": "stdout",
       "text": [
        "00:07 1.1Gb   14.0% Searching, 4.1% matched\r"
       ]
      },
      {
       "output_type": "stream",
       "stream": "stdout",
       "text": [
        "00:08 1.1Gb   16.1% Searching, 3.9% matched\r"
       ]
      },
      {
       "output_type": "stream",
       "stream": "stdout",
       "text": [
        "00:09 1.1Gb   19.7% Searching, 3.8% matched\r"
       ]
      },
      {
       "output_type": "stream",
       "stream": "stdout",
       "text": [
        "00:10 1.1Gb   22.7% Searching, 3.9% matched\r"
       ]
      },
      {
       "output_type": "stream",
       "stream": "stdout",
       "text": [
        "00:11 1.1Gb   25.0% Searching, 3.7% matched\r"
       ]
      },
      {
       "output_type": "stream",
       "stream": "stdout",
       "text": [
        "00:12 1.1Gb   27.1% Searching, 3.6% matched\r"
       ]
      },
      {
       "output_type": "stream",
       "stream": "stdout",
       "text": [
        "00:13 1.1Gb   29.9% Searching, 3.4% matched\r"
       ]
      },
      {
       "output_type": "stream",
       "stream": "stdout",
       "text": [
        "00:14 1.1Gb   32.4% Searching, 3.3% matched\r"
       ]
      },
      {
       "output_type": "stream",
       "stream": "stdout",
       "text": [
        "00:15 1.1Gb   34.8% Searching, 3.5% matched\r"
       ]
      },
      {
       "output_type": "stream",
       "stream": "stdout",
       "text": [
        "00:16 1.1Gb   38.5% Searching, 3.4% matched\r"
       ]
      },
      {
       "output_type": "stream",
       "stream": "stdout",
       "text": [
        "00:17 1.1Gb   40.8% Searching, 3.4% matched\r"
       ]
      },
      {
       "output_type": "stream",
       "stream": "stdout",
       "text": [
        "00:18 1.1Gb   43.8% Searching, 3.4% matched\r"
       ]
      },
      {
       "output_type": "stream",
       "stream": "stdout",
       "text": [
        "00:19 1.1Gb   45.9% Searching, 3.5% matched\r"
       ]
      },
      {
       "output_type": "stream",
       "stream": "stdout",
       "text": [
        "00:20 1.1Gb   48.5% Searching, 3.6% matched\r"
       ]
      },
      {
       "output_type": "stream",
       "stream": "stdout",
       "text": [
        "00:21 1.1Gb   51.7% Searching, 3.6% matched\r"
       ]
      },
      {
       "output_type": "stream",
       "stream": "stdout",
       "text": [
        "00:22 1.1Gb   53.7% Searching, 3.7% matched\r"
       ]
      },
      {
       "output_type": "stream",
       "stream": "stdout",
       "text": [
        "00:23 1.1Gb   56.1% Searching, 3.8% matched\r"
       ]
      },
      {
       "output_type": "stream",
       "stream": "stdout",
       "text": [
        "00:24 1.1Gb   58.9% Searching, 3.8% matched\r"
       ]
      },
      {
       "output_type": "stream",
       "stream": "stdout",
       "text": [
        "00:25 1.1Gb   61.2% Searching, 3.8% matched\r"
       ]
      },
      {
       "output_type": "stream",
       "stream": "stdout",
       "text": [
        "00:26 1.1Gb   63.7% Searching, 3.7% matched\r"
       ]
      },
      {
       "output_type": "stream",
       "stream": "stdout",
       "text": [
        "00:27 1.1Gb   66.6% Searching, 3.8% matched\r"
       ]
      },
      {
       "output_type": "stream",
       "stream": "stdout",
       "text": [
        "usearch(68935,0xb0185000) malloc: *** mmap(size=1100185600) failed (error code=12)\r\n",
        "*** error: can't allocate region\r\n",
        "*** set a breakpoint in malloc_error_break to debug\r\n",
        "\r\n",
        "Out of memory mymalloc(1100182557), curr 1.07e+09 bytes\r\n",
        "\r\n",
        "myutils.cpp(2212): \r\n",
        "\r\n",
        "usearch -ublast cgigas.part-67.fa -db /Volumes/Bay3/usearch/uniprot_sprot.udb -evalue 1e-5 -accel 0.8 -top_hits_only -maxhits 1 -blast6out /Volumes/web/cnidarian/cgigas8_cgigas.part-67.fa_ublast_sprot.b6\r\n",
        "\r\n",
        "---Fatal error---\r\n",
        "Out of memory, mymalloc(1100182557), curr 1.07e+09 bytes\r\n",
        "\r\n"
       ]
      },
      {
       "output_type": "stream",
       "stream": "stdout",
       "text": [
        "usearch v7.0.1090_i86osx32, 4.0Gb RAM (15.0Gb total), 4 cores\r\n",
        "(C) Copyright 2013 Robert C. Edgar, all rights reserved.\r\n",
        "http://drive5.com/usearch\r\n",
        "\r\n",
        "Licensed to: sr320@uw.edu\r\n",
        "\r\n"
       ]
      },
      {
       "output_type": "stream",
       "stream": "stdout",
       "text": [
        "00:00 1.7Mb Reading /Volumes/Bay3/usearch/uniprot_sprot.udb\r\n"
       ]
      },
      {
       "output_type": "stream",
       "stream": "stdout",
       "text": [
        "00:02 1.1Gb Database loaded\r\n",
        "00:02 1.1Gb    0.1% Searching, 0.0% matched\r"
       ]
      },
      {
       "output_type": "stream",
       "stream": "stdout",
       "text": [
        "00:03 1.1Gb    1.3% Searching, 1.8% matched\r"
       ]
      },
      {
       "output_type": "stream",
       "stream": "stdout",
       "text": [
        "00:04 1.1Gb    4.2% Searching, 3.2% matched\r"
       ]
      },
      {
       "output_type": "stream",
       "stream": "stdout",
       "text": [
        "00:05 1.1Gb    8.3% Searching, 3.2% matched\r"
       ]
      },
      {
       "output_type": "stream",
       "stream": "stdout",
       "text": [
        "00:06 1.1Gb   11.6% Searching, 3.5% matched\r"
       ]
      },
      {
       "output_type": "stream",
       "stream": "stdout",
       "text": [
        "00:07 1.1Gb   14.3% Searching, 3.5% matched\r"
       ]
      },
      {
       "output_type": "stream",
       "stream": "stdout",
       "text": [
        "00:08 1.1Gb   17.3% Searching, 3.7% matched\r"
       ]
      },
      {
       "output_type": "stream",
       "stream": "stdout",
       "text": [
        "00:09 1.1Gb   22.2% Searching, 3.6% matched\r"
       ]
      },
      {
       "output_type": "stream",
       "stream": "stdout",
       "text": [
        "00:10 1.1Gb   24.4% Searching, 3.6% matched\r"
       ]
      },
      {
       "output_type": "stream",
       "stream": "stdout",
       "text": [
        "00:11 1.1Gb   27.6% Searching, 3.6% matched\r"
       ]
      },
      {
       "output_type": "stream",
       "stream": "stdout",
       "text": [
        "00:12 1.1Gb   31.1% Searching, 3.7% matched\r"
       ]
      },
      {
       "output_type": "stream",
       "stream": "stdout",
       "text": [
        "00:13 1.1Gb   34.7% Searching, 3.7% matched\r"
       ]
      },
      {
       "output_type": "stream",
       "stream": "stdout",
       "text": [
        "00:14 1.1Gb   38.1% Searching, 3.5% matched\r"
       ]
      },
      {
       "output_type": "stream",
       "stream": "stdout",
       "text": [
        "00:15 1.1Gb   41.6% Searching, 3.5% matched\r"
       ]
      },
      {
       "output_type": "stream",
       "stream": "stdout",
       "text": [
        "00:16 1.1Gb   45.2% Searching, 3.3% matched\r"
       ]
      },
      {
       "output_type": "stream",
       "stream": "stdout",
       "text": [
        "00:17 1.1Gb   48.4% Searching, 3.4% matched\r"
       ]
      },
      {
       "output_type": "stream",
       "stream": "stdout",
       "text": [
        "00:18 1.1Gb   51.8% Searching, 3.4% matched\r"
       ]
      },
      {
       "output_type": "stream",
       "stream": "stdout",
       "text": [
        "00:19 1.1Gb   55.2% Searching, 3.5% matched\r"
       ]
      },
      {
       "output_type": "stream",
       "stream": "stdout",
       "text": [
        "00:20 1.1Gb   59.6% Searching, 3.5% matched\r"
       ]
      },
      {
       "output_type": "stream",
       "stream": "stdout",
       "text": [
        "00:21 1.1Gb   62.8% Searching, 3.5% matched\r"
       ]
      },
      {
       "output_type": "stream",
       "stream": "stdout",
       "text": [
        "00:22 1.1Gb   66.6% Searching, 3.6% matched\r"
       ]
      },
      {
       "output_type": "stream",
       "stream": "stdout",
       "text": [
        "00:23 1.1Gb   69.9% Searching, 3.6% matched\r"
       ]
      },
      {
       "output_type": "stream",
       "stream": "stdout",
       "text": [
        "00:24 1.1Gb   73.5% Searching, 3.6% matched\r"
       ]
      },
      {
       "output_type": "stream",
       "stream": "stdout",
       "text": [
        "00:25 1.1Gb   76.6% Searching, 3.7% matched\r"
       ]
      },
      {
       "output_type": "stream",
       "stream": "stdout",
       "text": [
        "00:26 1.1Gb   79.9% Searching, 3.7% matched\r"
       ]
      },
      {
       "output_type": "stream",
       "stream": "stdout",
       "text": [
        "00:27 1.1Gb   83.3% Searching, 3.7% matched\r"
       ]
      },
      {
       "output_type": "stream",
       "stream": "stdout",
       "text": [
        "00:28 1.1Gb   87.0% Searching, 3.7% matched\r"
       ]
      },
      {
       "output_type": "stream",
       "stream": "stdout",
       "text": [
        "00:29 1.1Gb   89.6% Searching, 3.7% matched\r"
       ]
      },
      {
       "output_type": "stream",
       "stream": "stdout",
       "text": [
        "00:30 1.1Gb   93.3% Searching, 3.7% matched\r"
       ]
      },
      {
       "output_type": "stream",
       "stream": "stdout",
       "text": [
        "00:31 1.1Gb   96.2% Searching, 3.8% matched\r"
       ]
      },
      {
       "output_type": "stream",
       "stream": "stdout",
       "text": [
        "00:32 1.1Gb   99.6% Searching, 3.8% matched\r"
       ]
      },
      {
       "output_type": "stream",
       "stream": "stdout",
       "text": [
        "00:32 1.1Gb  100.0% Searching, 3.8% matched\r",
        "\r\n"
       ]
      },
      {
       "output_type": "stream",
       "stream": "stdout",
       "text": [
        "usearch v7.0.1090_i86osx32, 4.0Gb RAM (15.0Gb total), 4 cores\r\n",
        "(C) Copyright 2013 Robert C. Edgar, all rights reserved.\r\n",
        "http://drive5.com/usearch\r\n",
        "\r\n",
        "Licensed to: sr320@uw.edu\r\n",
        "\r\n"
       ]
      },
      {
       "output_type": "stream",
       "stream": "stdout",
       "text": [
        "00:00 2.0Mb Reading /Volumes/Bay3/usearch/uniprot_sprot.udb\r\n"
       ]
      },
      {
       "output_type": "stream",
       "stream": "stdout",
       "text": [
        "00:02 1.1Gb Database loaded\r\n",
        "00:02 1.1Gb    0.1% Searching, 0.0% matched\r"
       ]
      },
      {
       "output_type": "stream",
       "stream": "stdout",
       "text": [
        "00:03 1.1Gb    2.7% Searching, 3.5% matched\r"
       ]
      },
      {
       "output_type": "stream",
       "stream": "stdout",
       "text": [
        "00:04 1.1Gb    4.1% Searching, 4.2% matched\r"
       ]
      },
      {
       "output_type": "stream",
       "stream": "stdout",
       "text": [
        "00:05 1.1Gb    6.2% Searching, 5.0% matched\r"
       ]
      },
      {
       "output_type": "stream",
       "stream": "stdout",
       "text": [
        "00:06 1.1Gb    7.6% Searching, 4.7% matched\r"
       ]
      },
      {
       "output_type": "stream",
       "stream": "stdout",
       "text": [
        "00:07 1.1Gb    9.7% Searching, 4.9% matched\r"
       ]
      },
      {
       "output_type": "stream",
       "stream": "stdout",
       "text": [
        "00:08 1.1Gb   11.4% Searching, 5.0% matched\r"
       ]
      },
      {
       "output_type": "stream",
       "stream": "stdout",
       "text": [
        "00:09 1.1Gb   13.5% Searching, 5.3% matched\r"
       ]
      },
      {
       "output_type": "stream",
       "stream": "stdout",
       "text": [
        "00:10 1.1Gb   14.9% Searching, 5.3% matched\r"
       ]
      },
      {
       "output_type": "stream",
       "stream": "stdout",
       "text": [
        "00:11 1.1Gb   16.7% Searching, 5.3% matched\r"
       ]
      },
      {
       "output_type": "stream",
       "stream": "stdout",
       "text": [
        "00:12 1.1Gb   19.1% Searching, 5.2% matched\r"
       ]
      },
      {
       "output_type": "stream",
       "stream": "stdout",
       "text": [
        "00:13 1.1Gb   20.9% Searching, 5.3% matched\r"
       ]
      },
      {
       "output_type": "stream",
       "stream": "stdout",
       "text": [
        "00:14 1.1Gb   23.1% Searching, 5.2% matched\r"
       ]
      },
      {
       "output_type": "stream",
       "stream": "stdout",
       "text": [
        "00:15 1.1Gb   24.3% Searching, 5.5% matched\r"
       ]
      },
      {
       "output_type": "stream",
       "stream": "stdout",
       "text": [
        "00:16 1.1Gb   26.7% Searching, 5.4% matched\r"
       ]
      },
      {
       "output_type": "stream",
       "stream": "stdout",
       "text": [
        "00:17 1.1Gb   27.9% Searching, 5.3% matched\r"
       ]
      },
      {
       "output_type": "stream",
       "stream": "stdout",
       "text": [
        "00:18 1.1Gb   30.1% Searching, 5.2% matched\r"
       ]
      },
      {
       "output_type": "stream",
       "stream": "stdout",
       "text": [
        "00:19 1.1Gb   32.0% Searching, 5.1% matched\r"
       ]
      },
      {
       "output_type": "stream",
       "stream": "stdout",
       "text": [
        "00:20 1.1Gb   33.9% Searching, 5.1% matched\r"
       ]
      },
      {
       "output_type": "stream",
       "stream": "stdout",
       "text": [
        "00:21 1.1Gb   37.1% Searching, 5.1% matched\r"
       ]
      },
      {
       "output_type": "stream",
       "stream": "stdout",
       "text": [
        "00:22 1.1Gb   39.6% Searching, 5.1% matched\r"
       ]
      },
      {
       "output_type": "stream",
       "stream": "stdout",
       "text": [
        "00:23 1.1Gb   42.0% Searching, 5.0% matched\r"
       ]
      },
      {
       "output_type": "stream",
       "stream": "stdout",
       "text": [
        "00:24 1.1Gb   43.8% Searching, 5.0% matched\r"
       ]
      },
      {
       "output_type": "stream",
       "stream": "stdout",
       "text": [
        "00:25 1.1Gb   46.1% Searching, 5.1% matched\r"
       ]
      },
      {
       "output_type": "stream",
       "stream": "stdout",
       "text": [
        "00:26 1.1Gb   48.5% Searching, 5.1% matched\r"
       ]
      },
      {
       "output_type": "stream",
       "stream": "stdout",
       "text": [
        "00:27 1.1Gb   50.5% Searching, 5.1% matched\r"
       ]
      },
      {
       "output_type": "stream",
       "stream": "stdout",
       "text": [
        "00:28 1.1Gb   52.2% Searching, 5.0% matched\r"
       ]
      },
      {
       "output_type": "stream",
       "stream": "stdout",
       "text": [
        "00:29 1.1Gb   53.8% Searching, 5.0% matched\r"
       ]
      },
      {
       "output_type": "stream",
       "stream": "stdout",
       "text": [
        "00:30 1.1Gb   56.3% Searching, 5.0% matched\r"
       ]
      },
      {
       "output_type": "stream",
       "stream": "stdout",
       "text": [
        "00:31 1.1Gb   57.0% Searching, 5.0% matched\r"
       ]
      },
      {
       "output_type": "stream",
       "stream": "stdout",
       "text": [
        "00:32 1.1Gb   59.6% Searching, 5.0% matched\r"
       ]
      },
      {
       "output_type": "stream",
       "stream": "stdout",
       "text": [
        "00:33 1.1Gb   62.1% Searching, 5.0% matched\r"
       ]
      },
      {
       "output_type": "stream",
       "stream": "stdout",
       "text": [
        "00:34 1.1Gb   64.9% Searching, 4.9% matched\r"
       ]
      },
      {
       "output_type": "stream",
       "stream": "stdout",
       "text": [
        "00:35 1.1Gb   67.7% Searching, 4.9% matched\r"
       ]
      },
      {
       "output_type": "stream",
       "stream": "stdout",
       "text": [
        "00:36 1.1Gb   68.9% Searching, 5.0% matched\r"
       ]
      },
      {
       "output_type": "stream",
       "stream": "stdout",
       "text": [
        "00:37 1.1Gb   71.4% Searching, 5.0% matched\r"
       ]
      },
      {
       "output_type": "stream",
       "stream": "stdout",
       "text": [
        "00:38 1.1Gb   73.8% Searching, 4.9% matched\r"
       ]
      },
      {
       "output_type": "stream",
       "stream": "stdout",
       "text": [
        "00:39 1.1Gb   75.9% Searching, 4.9% matched\r"
       ]
      },
      {
       "output_type": "stream",
       "stream": "stdout",
       "text": [
        "00:40 1.1Gb   77.9% Searching, 4.9% matched\r"
       ]
      },
      {
       "output_type": "stream",
       "stream": "stdout",
       "text": [
        "00:41 1.1Gb   79.7% Searching, 4.8% matched\r"
       ]
      },
      {
       "output_type": "stream",
       "stream": "stdout",
       "text": [
        "00:42 1.1Gb   82.3% Searching, 4.8% matched\r"
       ]
      },
      {
       "output_type": "stream",
       "stream": "stdout",
       "text": [
        "00:43 1.1Gb   83.9% Searching, 4.8% matched\r"
       ]
      },
      {
       "output_type": "stream",
       "stream": "stdout",
       "text": [
        "00:44 1.1Gb   86.4% Searching, 4.7% matched\r"
       ]
      },
      {
       "output_type": "stream",
       "stream": "stdout",
       "text": [
        "00:45 1.1Gb   89.3% Searching, 4.7% matched\r"
       ]
      },
      {
       "output_type": "stream",
       "stream": "stdout",
       "text": [
        "00:46 1.1Gb   91.3% Searching, 4.6% matched\r"
       ]
      },
      {
       "output_type": "stream",
       "stream": "stdout",
       "text": [
        "00:47 1.1Gb   92.6% Searching, 4.6% matched\r"
       ]
      },
      {
       "output_type": "stream",
       "stream": "stdout",
       "text": [
        "00:48 1.1Gb   94.3% Searching, 4.7% matched\r"
       ]
      },
      {
       "output_type": "stream",
       "stream": "stdout",
       "text": [
        "00:49 1.1Gb   96.6% Searching, 4.7% matched\r"
       ]
      },
      {
       "output_type": "stream",
       "stream": "stdout",
       "text": [
        "00:50 1.1Gb   98.5% Searching, 4.6% matched\r"
       ]
      },
      {
       "output_type": "stream",
       "stream": "stdout",
       "text": [
        "00:51 1.1Gb   99.8% Searching, 4.6% matched\r",
        "00:51 1.1Gb  100.0% Searching, 4.6% matched\r",
        "\r\n"
       ]
      },
      {
       "output_type": "stream",
       "stream": "stdout",
       "text": [
        "usearch v7.0.1090_i86osx32, 4.0Gb RAM (15.0Gb total), 4 cores\r\n",
        "(C) Copyright 2013 Robert C. Edgar, all rights reserved.\r\n",
        "http://drive5.com/usearch\r\n",
        "\r\n",
        "Licensed to: sr320@uw.edu\r\n",
        "\r\n"
       ]
      },
      {
       "output_type": "stream",
       "stream": "stdout",
       "text": [
        "00:00 2.1Mb Reading /Volumes/Bay3/usearch/uniprot_sprot.udb\r\n"
       ]
      },
      {
       "output_type": "stream",
       "stream": "stdout",
       "text": [
        "00:02 1.1Gb Database loaded\r\n",
        "00:02 1.1Gb    0.1% Searching, 0.0% matched\r"
       ]
      },
      {
       "output_type": "stream",
       "stream": "stdout",
       "text": [
        "00:03 1.1Gb    1.6% Searching, 6.2% matched\r"
       ]
      },
      {
       "output_type": "stream",
       "stream": "stdout",
       "text": [
        "00:04 1.1Gb    3.6% Searching, 4.7% matched\r"
       ]
      },
      {
       "output_type": "stream",
       "stream": "stdout",
       "text": [
        "00:05 1.1Gb    5.4% Searching, 5.7% matched\r"
       ]
      },
      {
       "output_type": "stream",
       "stream": "stdout",
       "text": [
        "00:06 1.1Gb    7.3% Searching, 5.5% matched\r"
       ]
      },
      {
       "output_type": "stream",
       "stream": "stdout",
       "text": [
        "00:07 1.1Gb    9.4% Searching, 5.1% matched\r"
       ]
      },
      {
       "output_type": "stream",
       "stream": "stdout",
       "text": [
        "00:08 1.1Gb   11.6% Searching, 4.7% matched\r"
       ]
      },
      {
       "output_type": "stream",
       "stream": "stdout",
       "text": [
        "00:09 1.1Gb   14.1% Searching, 4.2% matched\r"
       ]
      },
      {
       "output_type": "stream",
       "stream": "stdout",
       "text": [
        "00:10 1.1Gb   16.7% Searching, 3.9% matched\r"
       ]
      },
      {
       "output_type": "stream",
       "stream": "stdout",
       "text": [
        "00:11 1.1Gb   19.2% Searching, 3.7% matched\r"
       ]
      },
      {
       "output_type": "stream",
       "stream": "stdout",
       "text": [
        "00:12 1.1Gb   21.3% Searching, 3.8% matched\r"
       ]
      },
      {
       "output_type": "stream",
       "stream": "stdout",
       "text": [
        "00:13 1.1Gb   23.0% Searching, 3.7% matched\r"
       ]
      },
      {
       "output_type": "stream",
       "stream": "stdout",
       "text": [
        "00:14 1.1Gb   25.4% Searching, 3.8% matched\r"
       ]
      },
      {
       "output_type": "stream",
       "stream": "stdout",
       "text": [
        "00:15 1.1Gb   27.6% Searching, 4.0% matched\r"
       ]
      },
      {
       "output_type": "stream",
       "stream": "stdout",
       "text": [
        "00:16 1.1Gb   29.3% Searching, 4.0% matched\r"
       ]
      },
      {
       "output_type": "stream",
       "stream": "stdout",
       "text": [
        "00:17 1.1Gb   31.3% Searching, 4.3% matched\r"
       ]
      },
      {
       "output_type": "stream",
       "stream": "stdout",
       "text": [
        "00:18 1.1Gb   33.9% Searching, 4.2% matched\r"
       ]
      },
      {
       "output_type": "stream",
       "stream": "stdout",
       "text": [
        "00:19 1.1Gb   36.5% Searching, 4.3% matched\r"
       ]
      },
      {
       "output_type": "stream",
       "stream": "stdout",
       "text": [
        "00:20 1.1Gb   38.2% Searching, 4.3% matched\r"
       ]
      },
      {
       "output_type": "stream",
       "stream": "stdout",
       "text": [
        "00:21 1.1Gb   40.6% Searching, 4.3% matched\r"
       ]
      },
      {
       "output_type": "stream",
       "stream": "stdout",
       "text": [
        "00:22 1.1Gb   42.2% Searching, 4.3% matched\r"
       ]
      },
      {
       "output_type": "stream",
       "stream": "stdout",
       "text": [
        "00:23 1.1Gb   44.5% Searching, 4.3% matched\r"
       ]
      },
      {
       "output_type": "stream",
       "stream": "stdout",
       "text": [
        "00:24 1.1Gb   46.4% Searching, 4.3% matched\r"
       ]
      },
      {
       "output_type": "stream",
       "stream": "stdout",
       "text": [
        "00:25 1.1Gb   49.4% Searching, 4.1% matched\r"
       ]
      },
      {
       "output_type": "stream",
       "stream": "stdout",
       "text": [
        "00:26 1.1Gb   50.9% Searching, 4.1% matched\r"
       ]
      },
      {
       "output_type": "stream",
       "stream": "stdout",
       "text": [
        "00:27 1.1Gb   52.8% Searching, 4.1% matched\r"
       ]
      },
      {
       "output_type": "stream",
       "stream": "stdout",
       "text": [
        "00:28 1.1Gb   55.3% Searching, 4.1% matched\r"
       ]
      },
      {
       "output_type": "stream",
       "stream": "stdout",
       "text": [
        "00:29 1.1Gb   57.5% Searching, 4.1% matched\r"
       ]
      },
      {
       "output_type": "stream",
       "stream": "stdout",
       "text": [
        "00:30 1.1Gb   59.7% Searching, 4.1% matched\r"
       ]
      },
      {
       "output_type": "stream",
       "stream": "stdout",
       "text": [
        "00:31 1.1Gb   61.5% Searching, 4.0% matched\r"
       ]
      },
      {
       "output_type": "stream",
       "stream": "stdout",
       "text": [
        "0"
       ]
      },
      {
       "output_type": "stream",
       "stream": "stdout",
       "text": [
        "0:32 1.1Gb   63.6% Searching, 4.1% matched\r"
       ]
      },
      {
       "output_type": "stream",
       "stream": "stdout",
       "text": [
        "00:33 1.1Gb   65.7% Searching, 4.1% matched\r"
       ]
      },
      {
       "output_type": "stream",
       "stream": "stdout",
       "text": [
        "00:34 1.1Gb   67.8% Searching, 4.1% matched\r"
       ]
      },
      {
       "output_type": "stream",
       "stream": "stdout",
       "text": [
        "00:35 1.1Gb   70.0% Searching, 4.1% matched\r"
       ]
      },
      {
       "output_type": "stream",
       "stream": "stdout",
       "text": [
        "00:36 1.1Gb   72.7% Searching, 4.1% matched\r"
       ]
      },
      {
       "output_type": "stream",
       "stream": "stdout",
       "text": [
        "00:37 1.1Gb   74.4% Searching, 4.0% matched\r"
       ]
      },
      {
       "output_type": "stream",
       "stream": "stdout",
       "text": [
        "00:38 1.1Gb   76.3% Searching, 4.0% matched\r"
       ]
      },
      {
       "output_type": "stream",
       "stream": "stdout",
       "text": [
        "00:39 1.1Gb   78.2% Searching, 4.0% matched\r"
       ]
      },
      {
       "output_type": "stream",
       "stream": "stdout",
       "text": [
        "00:40 1.1Gb   81.1% Searching, 3.9% matched\r"
       ]
      },
      {
       "output_type": "stream",
       "stream": "stdout",
       "text": [
        "00:41 1.1Gb   83.7% Searching, 3.9% matched\r"
       ]
      },
      {
       "output_type": "stream",
       "stream": "stdout",
       "text": [
        "00:42 1.1Gb   85.3% Searching, 3.9% matched\r"
       ]
      },
      {
       "output_type": "stream",
       "stream": "stdout",
       "text": [
        "00:43 1.1Gb   87.7% Searching, 3.8% matched\r"
       ]
      },
      {
       "output_type": "stream",
       "stream": "stdout",
       "text": [
        "00:44 1.1Gb   89.8% Searching, 3.9% matched\r"
       ]
      },
      {
       "output_type": "stream",
       "stream": "stdout",
       "text": [
        "00:45 1.1Gb   91.7% Searching, 3.9% matched\r"
       ]
      },
      {
       "output_type": "stream",
       "stream": "stdout",
       "text": [
        "00:46 1.1Gb   93.8% Searching, 3.9% matched\r"
       ]
      },
      {
       "output_type": "stream",
       "stream": "stdout",
       "text": [
        "00:47 1.1Gb   96.0% Searching, 3.9% matched\r"
       ]
      },
      {
       "output_type": "stream",
       "stream": "stdout",
       "text": [
        "usearch(70150,0xb0185000) malloc: *** mmap(size=1121312768) failed (error code=12)\r\n",
        "*** error: can't allocate region\r\n",
        "*** set a breakpoint in malloc_error_break to debug\r\n",
        "\r\n",
        "Out of memory mymalloc(1121312192), curr 1.08e+09 bytes\r\n",
        "\r\n",
        "myutils.cpp(2212): \r\n",
        "\r\n",
        "usearch -ublast cgigas.part-70.fa -db /Volumes/Bay3/usearch/uniprot_sprot.udb -evalue 1e-5 -accel 0.8 -top_hits_only -maxhits 1 -blast6out /Volumes/web/cnidarian/cgigas8_cgigas.part-70.fa_ublast_sprot.b6\r\n",
        "\r\n",
        "---Fatal error---\r\n",
        "Out of memory, mymalloc(1121312192), curr 1.08e+09 bytes\r\n",
        "\r\n"
       ]
      },
      {
       "output_type": "stream",
       "stream": "stdout",
       "text": [
        "usearch v7.0.1090_i86osx32, 4.0Gb RAM (15.0Gb total), 4 cores\r\n",
        "(C) Copyright 2013 Robert C. Edgar, all rights reserved.\r\n",
        "http://drive5.com/usearch\r\n",
        "\r\n",
        "Licensed to: sr320@uw.edu\r\n",
        "\r\n"
       ]
      },
      {
       "output_type": "stream",
       "stream": "stdout",
       "text": [
        "00:00 2.0Mb Reading /Volumes/Bay3/usearch/uniprot_sprot.udb\r\n"
       ]
      },
      {
       "output_type": "stream",
       "stream": "stdout",
       "text": [
        "00:02 1.1Gb Database loaded\r\n",
        "00:02 1.1Gb    0.1% Searching, 0.0% matched\r"
       ]
      },
      {
       "output_type": "stream",
       "stream": "stdout",
       "text": [
        "00:03 1.1Gb    0.7% Searching, 0.0% matched\r"
       ]
      },
      {
       "output_type": "stream",
       "stream": "stdout",
       "text": [
        "00:04 1.1Gb    3.1% Searching, 3.6% matched\r"
       ]
      },
      {
       "output_type": "stream",
       "stream": "stdout",
       "text": [
        "00:05 1.1Gb    5.4% Searching, 4.5% matched\r"
       ]
      },
      {
       "output_type": "stream",
       "stream": "stdout",
       "text": [
        "00:06 1.1Gb    6.8% Searching, 4.2% matched\r"
       ]
      },
      {
       "output_type": "stream",
       "stream": "stdout",
       "text": [
        "00:07 1.1Gb    9.2% Searching, 3.8% matched\r"
       ]
      },
      {
       "output_type": "stream",
       "stream": "stdout",
       "text": [
        "00:08 1.1Gb   11.3% Searching, 4.2% matched\r"
       ]
      },
      {
       "output_type": "stream",
       "stream": "stdout",
       "text": [
        "00:09 1.1Gb   13.5% Searching, 4.2% matched\r"
       ]
      },
      {
       "output_type": "stream",
       "stream": "stdout",
       "text": [
        "00:10 1.1Gb   15.6% Searching, 4.0% matched\r"
       ]
      },
      {
       "output_type": "stream",
       "stream": "stdout",
       "text": [
        "00:11 1.1Gb   17.9% Searching, 3.9% matched\r"
       ]
      },
      {
       "output_type": "stream",
       "stream": "stdout",
       "text": [
        "00:12 1.1Gb   20.0% Searching, 4.2% matched\r"
       ]
      },
      {
       "output_type": "stream",
       "stream": "stdout",
       "text": [
        "00:13 1.1Gb   22.7% Searching, 4.1% matched\r"
       ]
      },
      {
       "output_type": "stream",
       "stream": "stdout",
       "text": [
        "00:14 1.1Gb   24.6% Searching, 3.9% matched\r"
       ]
      },
      {
       "output_type": "stream",
       "stream": "stdout",
       "text": [
        "00:15 1.1Gb   27.0% Searching, 4.0% matched\r"
       ]
      },
      {
       "output_type": "stream",
       "stream": "stdout",
       "text": [
        "00:16 1.1Gb   29.3% Searching, 4.1% matched\r"
       ]
      },
      {
       "output_type": "stream",
       "stream": "stdout",
       "text": [
        "00:17 1.1Gb   31.2% Searching, 4.0% matched\r"
       ]
      },
      {
       "output_type": "stream",
       "stream": "stdout",
       "text": [
        "00:18 1.1Gb   33.9% Searching, 3.9% matched\r"
       ]
      },
      {
       "output_type": "stream",
       "stream": "stdout",
       "text": [
        "00:19 1.1Gb   36.4% Searching, 4.0% matched\r"
       ]
      },
      {
       "output_type": "stream",
       "stream": "stdout",
       "text": [
        "00:20 1.1Gb   38.4% Searching, 3.9% matched\r"
       ]
      },
      {
       "output_type": "stream",
       "stream": "stdout",
       "text": [
        "00:21 1.1Gb   40.4% Searching, 3.9% matched\r"
       ]
      },
      {
       "output_type": "stream",
       "stream": "stdout",
       "text": [
        "00:22 1.1Gb   43.2% Searching, 3.8% matched\r"
       ]
      },
      {
       "output_type": "stream",
       "stream": "stdout",
       "text": [
        "00:23 1.1Gb   45.3% Searching, 3.8% matched\r"
       ]
      },
      {
       "output_type": "stream",
       "stream": "stdout",
       "text": [
        "00:24 1.1Gb   47.6% Searching, 3.8% matched\r"
       ]
      },
      {
       "output_type": "stream",
       "stream": "stdout",
       "text": [
        "00:25 1.1Gb   49.7% Searching, 3.8% matched\r"
       ]
      },
      {
       "output_type": "stream",
       "stream": "stdout",
       "text": [
        "00:26 1.1Gb   52.6% Searching, 3.8% matched\r"
       ]
      },
      {
       "output_type": "stream",
       "stream": "stdout",
       "text": [
        "00:27 1.1Gb   54.8% Searching, 3.8% matched\r"
       ]
      },
      {
       "output_type": "stream",
       "stream": "stdout",
       "text": [
        "00:28 1.1Gb   56.6% Searching, 3.9% matched\r"
       ]
      },
      {
       "output_type": "stream",
       "stream": "stdout",
       "text": [
        "00:29 1.1Gb   58.5% Searching, 3.9% matched\r"
       ]
      },
      {
       "output_type": "stream",
       "stream": "stdout",
       "text": [
        "00:30 1.1Gb   61.2% Searching, 3.9% matched\r"
       ]
      },
      {
       "output_type": "stream",
       "stream": "stdout",
       "text": [
        "00:31 1.1Gb   62.6% Searching, 3.9% matched\r"
       ]
      },
      {
       "output_type": "stream",
       "stream": "stdout",
       "text": [
        "00:32 1.1Gb   64.9% Searching, 3.8% matched\r"
       ]
      },
      {
       "output_type": "stream",
       "stream": "stdout",
       "text": [
        "00:33 1.1Gb   67.0% Searching, 3.8% matched\r"
       ]
      },
      {
       "output_type": "stream",
       "stream": "stdout",
       "text": [
        "00:34 1.1Gb   70.0% Searching, 3.8% matched\r"
       ]
      },
      {
       "output_type": "stream",
       "stream": "stdout",
       "text": [
        "00:35 1.1Gb   72.2% Searching, 3.8% matched\r"
       ]
      },
      {
       "output_type": "stream",
       "stream": "stdout",
       "text": [
        "00:36 1.1Gb   74.1% Searching, 3.9% matched\r"
       ]
      },
      {
       "output_type": "stream",
       "stream": "stdout",
       "text": [
        "00:37 1.1Gb   76.7% Searching, 3.8% matched\r"
       ]
      },
      {
       "output_type": "stream",
       "stream": "stdout",
       "text": [
        "00:38 1.1Gb   79.7% Searching, 3.8% matched\r"
       ]
      },
      {
       "output_type": "stream",
       "stream": "stdout",
       "text": [
        "00:39 1.1Gb   82.2% Searching, 3.8% matched\r"
       ]
      },
      {
       "output_type": "stream",
       "stream": "stdout",
       "text": [
        "00:40 1.1Gb   84.6% Searching, 3.8% matched\r"
       ]
      },
      {
       "output_type": "stream",
       "stream": "stdout",
       "text": [
        "00:41 1.1Gb   86.7% Searching, 3.8% matched\r"
       ]
      },
      {
       "output_type": "stream",
       "stream": "stdout",
       "text": [
        "00:42 1.1Gb   89.3% Searching, 3.8% matched\r"
       ]
      },
      {
       "output_type": "stream",
       "stream": "stdout",
       "text": [
        "00:43 1.1Gb   91.0% Searching, 3.8% matched\r"
       ]
      },
      {
       "output_type": "stream",
       "stream": "stdout",
       "text": [
        "00:44 1.1Gb   92.4% Searching, 3.8% matched\r"
       ]
      },
      {
       "output_type": "stream",
       "stream": "stdout",
       "text": [
        "00:45 1.1Gb   95.2% Searching, 3.8% matched\r"
       ]
      },
      {
       "output_type": "stream",
       "stream": "stdout",
       "text": [
        "00:46 1.1Gb   97.8% Searching, 3.7% matched\r"
       ]
      },
      {
       "output_type": "stream",
       "stream": "stdout",
       "text": [
        "00:47 1.1Gb   99.8% Searching, 3.7% matched\r"
       ]
      },
      {
       "output_type": "stream",
       "stream": "stdout",
       "text": [
        "00:47 1.1Gb  100.0% Searching, 3.7% matched\r",
        "\r\n"
       ]
      },
      {
       "output_type": "stream",
       "stream": "stdout",
       "text": [
        "usearch v7.0.1090_i86osx32, 4.0Gb RAM (15.0Gb total), 4 cores\r\n",
        "(C) Copyright 2013 Robert C. Edgar, all rights reserved.\r\n",
        "http://drive5.com/usearch\r\n",
        "\r\n",
        "Licensed to: sr320@uw.edu\r\n",
        "\r\n"
       ]
      },
      {
       "output_type": "stream",
       "stream": "stdout",
       "text": [
        "00:00 1.8Mb Reading /Volumes/Bay3/usearch/uniprot_sprot.udb\r\n"
       ]
      },
      {
       "output_type": "stream",
       "stream": "stdout",
       "text": [
        "00:02 1.1Gb Database loaded\r\n",
        "00:02 1.1Gb    0.1% Searching, 0.0% matched\r"
       ]
      },
      {
       "output_type": "stream",
       "stream": "stdout",
       "text": [
        "00:03 1.1Gb    2.1% Searching, 1.9% matched\r"
       ]
      },
      {
       "output_type": "stream",
       "stream": "stdout",
       "text": [
        "00:04 1.1Gb    4.7% Searching, 3.4% matched\r"
       ]
      },
      {
       "output_type": "stream",
       "stream": "stdout",
       "text": [
        "00:05 1.1Gb    7.5% Searching, 3.3% matched\r"
       ]
      },
      {
       "output_type": "stream",
       "stream": "stdout",
       "text": [
        "00:06 1.1Gb   10.4% Searching, 3.6% matched\r"
       ]
      },
      {
       "output_type": "stream",
       "stream": "stdout",
       "text": [
        "00:07 1.1Gb   13.4% Searching, 3.4% matched\r"
       ]
      },
      {
       "output_type": "stream",
       "stream": "stdout",
       "text": [
        "00:08 1.1Gb   16.0% Searching, 3.3% matched\r"
       ]
      },
      {
       "output_type": "stream",
       "stream": "stdout",
       "text": [
        "00:09 1.1Gb   18.8% Searching, 3.3% matched\r"
       ]
      },
      {
       "output_type": "stream",
       "stream": "stdout",
       "text": [
        "00:10 1.1Gb   21.5% Searching, 3.2% matched\r"
       ]
      },
      {
       "output_type": "stream",
       "stream": "stdout",
       "text": [
        "00:11 1.1Gb   24.4% Searching, 3.2% matched\r"
       ]
      },
      {
       "output_type": "stream",
       "stream": "stdout",
       "text": [
        "00:12 1.1Gb   27.5% Searching, 3.1% matched\r"
       ]
      },
      {
       "output_type": "stream",
       "stream": "stdout",
       "text": [
        "00:13 1.1Gb   30.6% Searching, 3.0% matched\r"
       ]
      },
      {
       "output_type": "stream",
       "stream": "stdout",
       "text": [
        "00:14 1.1Gb   32.7% Searching, 3.1% matched\r"
       ]
      },
      {
       "output_type": "stream",
       "stream": "stdout",
       "text": [
        "00:15 1.1Gb   35.2% Searching, 3.2% matched\r"
       ]
      },
      {
       "output_type": "stream",
       "stream": "stdout",
       "text": [
        "00:16 1.1Gb   37.7% Searching, 3.3% matched\r"
       ]
      },
      {
       "output_type": "stream",
       "stream": "stdout",
       "text": [
        "00:17 1.1Gb   40.3% Searching, 3.5% matched\r"
       ]
      },
      {
       "output_type": "stream",
       "stream": "stdout",
       "text": [
        "00:18 1.1Gb   43.0% Searching, 3.4% matched\r"
       ]
      },
      {
       "output_type": "stream",
       "stream": "stdout",
       "text": [
        "00:19 1.1Gb   45.5% Searching, 3.3% matched\r"
       ]
      },
      {
       "output_type": "stream",
       "stream": "stdout",
       "text": [
        "00:20 1.1Gb   47.9% Searching, 3.3% matched\r"
       ]
      },
      {
       "output_type": "stream",
       "stream": "stdout",
       "text": [
        "00:21 1.1Gb   50.3% Searching, 3.4% matched\r"
       ]
      },
      {
       "output_type": "stream",
       "stream": "stdout",
       "text": [
        "00:22 1.1Gb   52.0% Searching, 3.4% matched\r"
       ]
      },
      {
       "output_type": "stream",
       "stream": "stdout",
       "text": [
        "00:23 1.1Gb   53.8% Searching, 3.4%"
       ]
      },
      {
       "output_type": "stream",
       "stream": "stdout",
       "text": [
        " matched\r"
       ]
      },
      {
       "output_type": "stream",
       "stream": "stdout",
       "text": [
        "00:24 1.1Gb   56.5% Searching, 3.4% matched\r"
       ]
      },
      {
       "output_type": "stream",
       "stream": "stdout",
       "text": [
        "00:25 1.1Gb   59.3% Searching"
       ]
      },
      {
       "output_type": "stream",
       "stream": "stdout",
       "text": [
        ", 3.4% matched\r"
       ]
      },
      {
       "output_type": "stream",
       "stream": "stdout",
       "text": [
        "00:26 1.1Gb   61.8% Searching, 3.4% matched\r"
       ]
      },
      {
       "output_type": "stream",
       "stream": "stdout",
       "text": [
        "00:27 1.1Gb   64.0% Searching, 3.3% matched\r"
       ]
      },
      {
       "output_type": "stream",
       "stream": "stdout",
       "text": [
        "00:28 1.1Gb   66.5% Searching, 3.4% matched\r"
       ]
      },
      {
       "output_type": "stream",
       "stream": "stdout",
       "text": [
        "00:29 1.1Gb   68.7% Searching, 3.4% matched\r"
       ]
      },
      {
       "output_type": "stream",
       "stream": "stdout",
       "text": [
        "00:30 1.1Gb   70.9% Searching, 3.4% matched\r"
       ]
      },
      {
       "output_type": "stream",
       "stream": "stdout",
       "text": [
        "00:31 1.1Gb   73.2% Searching, 3.4% matched\r"
       ]
      },
      {
       "output_type": "stream",
       "stream": "stdout",
       "text": [
        "00:32 1.1Gb   75.4% Searching, 3.4% matched\r"
       ]
      },
      {
       "output_type": "stream",
       "stream": "stdout",
       "text": [
        "00:33 1.1Gb   77.9% Searching, 3.4% matched\r"
       ]
      },
      {
       "output_type": "stream",
       "stream": "stdout",
       "text": [
        "00:34 1.1Gb   80.2% Searching, 3.4% matched\r"
       ]
      },
      {
       "output_type": "stream",
       "stream": "stdout",
       "text": [
        "00:35 1.1Gb   82.0% Searching, 3.5% matched\r"
       ]
      },
      {
       "output_type": "stream",
       "stream": "stdout",
       "text": [
        "00:36 1.1Gb   84.5% Searching, 3.4% matched\r"
       ]
      },
      {
       "output_type": "stream",
       "stream": "stdout",
       "text": [
        "00:37 1.1Gb   87.2% Searching, 3.4% matched\r"
       ]
      },
      {
       "output_type": "stream",
       "stream": "stdout",
       "text": [
        "00:38 1.1Gb   89.9% Searching, 3.5% matched\r"
       ]
      },
      {
       "output_type": "stream",
       "stream": "stdout",
       "text": [
        "00:39 1.1Gb   92.4% Searching, 3.5% matched\r"
       ]
      },
      {
       "output_type": "stream",
       "stream": "stdout",
       "text": [
        "00:40 1.1Gb   95.1% Searching, 3.5% matched\r"
       ]
      },
      {
       "output_type": "stream",
       "stream": "stdout",
       "text": [
        "00:41 1.1Gb   97.9% Searching, 3.5% matched\r"
       ]
      },
      {
       "output_type": "stream",
       "stream": "stdout",
       "text": [
        "00:41 1.1Gb  100.0% Searching, 3.5% matched\r",
        "\r\n"
       ]
      },
      {
       "output_type": "stream",
       "stream": "stdout",
       "text": [
        "usearch v7.0.1090_i86osx32, 4.0Gb RAM (15.0Gb total), 4 cores\r\n",
        "(C) Copyright 2013 Robert C. Edgar, all rights reserved.\r\n",
        "http://drive5.com/usearch\r\n",
        "\r\n",
        "Licensed to: sr320@uw.edu\r\n",
        "\r\n"
       ]
      },
      {
       "output_type": "stream",
       "stream": "stdout",
       "text": [
        "00:00 1.7Mb Reading /Volumes/Bay3/usearch/uniprot_sprot.udb\r\n"
       ]
      },
      {
       "output_type": "stream",
       "stream": "stdout",
       "text": [
        "00:02 1.1Gb Database loaded\r\n",
        "00:02 1.1Gb    0.1% Searching, 0.0% matched\r"
       ]
      },
      {
       "output_type": "stream",
       "stream": "stdout",
       "text": [
        "00:03 1.1Gb    2.6% Searching, 4.1% matched\r"
       ]
      },
      {
       "output_type": "stream",
       "stream": "stdout",
       "text": [
        "00:04 1.1Gb    6.1% Searching, 4.6% matched\r"
       ]
      },
      {
       "output_type": "stream",
       "stream": "stdout",
       "text": [
        "00:05 1.1Gb    9.2% Searching, 4.2% matched\r"
       ]
      },
      {
       "output_type": "stream",
       "stream": "stdout",
       "text": [
        "00:06 1.1Gb   12.4% Searching, 4.0% matched\r"
       ]
      },
      {
       "output_type": "stream",
       "stream": "stdout",
       "text": [
        "00:07 1.1Gb   15.6% Searching, 3.9% matched\r"
       ]
      },
      {
       "output_type": "stream",
       "stream": "stdout",
       "text": [
        "00:08 1.1Gb   19.0% Searching, 4.0% matched\r"
       ]
      },
      {
       "output_type": "stream",
       "stream": "stdout",
       "text": [
        "00:09 1.1Gb   21.8% Searching, 3.9% matched\r"
       ]
      },
      {
       "output_type": "stream",
       "stream": "stdout",
       "text": [
        "00:10 1.1Gb   24.5% Searching, 3.9% matched\r"
       ]
      },
      {
       "output_type": "stream",
       "stream": "stdout",
       "text": [
        "00:11 1.1Gb   27.1% Searching, 3.8% matched\r"
       ]
      },
      {
       "output_type": "stream",
       "stream": "stdout",
       "text": [
        "00:12 1.1Gb   30.1% Searching, 3.9% matched\r"
       ]
      },
      {
       "output_type": "stream",
       "stream": "stdout",
       "text": [
        "00:13 1.1Gb   33.6% Searching, 3.8% matched\r"
       ]
      },
      {
       "output_type": "stream",
       "stream": "stdout",
       "text": [
        "00:14 1.1Gb   37.1% Searching, 3.8% matched\r"
       ]
      },
      {
       "output_type": "stream",
       "stream": "stdout",
       "text": [
        "00:15 1.1Gb   39.9% Searching, 3.9% matched\r"
       ]
      },
      {
       "output_type": "stream",
       "stream": "stdout",
       "text": [
        "00:16 1.1Gb   42.9% Searching, 3.8% matched\r"
       ]
      },
      {
       "output_type": "stream",
       "stream": "stdout",
       "text": [
        "00:17 1.1Gb   45.9% Searching, 3.8% matched\r"
       ]
      },
      {
       "output_type": "stream",
       "stream": "stdout",
       "text": [
        "00:18 1.1Gb   49.1% Searching, 3.7% matched\r"
       ]
      },
      {
       "output_type": "stream",
       "stream": "stdout",
       "text": [
        "00:19 1.1Gb   52.8% Searching, 3.7% matched\r"
       ]
      },
      {
       "output_type": "stream",
       "stream": "stdout",
       "text": [
        "00:20 1.1Gb   56.0% Searching, 3.7% matched\r"
       ]
      },
      {
       "output_type": "stream",
       "stream": "stdout",
       "text": [
        "00:21 1.1Gb   59.7% Searching, 3.5% matched\r"
       ]
      },
      {
       "output_type": "stream",
       "stream": "stdout",
       "text": [
        "00:22 1.1Gb   62.0% Searching, 3.5% matched\r"
       ]
      },
      {
       "output_type": "stream",
       "stream": "stdout",
       "text": [
        "00:23 1.1Gb   65.2% Searching, 3.5% matched\r"
       ]
      },
      {
       "output_type": "stream",
       "stream": "stdout",
       "text": [
        "00:24 1.1Gb   69.6% Searching, 3.6% matched\r"
       ]
      },
      {
       "output_type": "stream",
       "stream": "stdout",
       "text": [
        "00:25 1.1Gb   72.0% Searching, 3.5% matched\r"
       ]
      },
      {
       "output_type": "stream",
       "stream": "stdout",
       "text": [
        "00:26 1.1Gb   75.5% Searching, 3.5% matched\r"
       ]
      },
      {
       "output_type": "stream",
       "stream": "stdout",
       "text": [
        "00:27 1.1Gb   79.5% Searching, 3.5% matched\r"
       ]
      },
      {
       "output_type": "stream",
       "stream": "stdout",
       "text": [
        "00:28 1.1Gb   83.0% Searching, 3.5% matched\r"
       ]
      },
      {
       "output_type": "stream",
       "stream": "stdout",
       "text": [
        "00:29 1.1Gb   86.5% Searching, 3.4% matched\r"
       ]
      },
      {
       "output_type": "stream",
       "stream": "stdout",
       "text": [
        "00:30 1.1Gb   90.3% Searching, 3.4% matched\r"
       ]
      },
      {
       "output_type": "stream",
       "stream": "stdout",
       "text": [
        "00:31 1.1Gb   95.5% Searching, 3.3% matched\r"
       ]
      },
      {
       "output_type": "stream",
       "stream": "stdout",
       "text": [
        "00:32 1.1Gb   97.4% Searching, 3.3% matched\r"
       ]
      },
      {
       "output_type": "stream",
       "stream": "stdout",
       "text": [
        "00:32 1.1Gb  100.0% Searching"
       ]
      },
      {
       "output_type": "stream",
       "stream": "stdout",
       "text": [
        ", 3.3% matched\r",
        "\r\n"
       ]
      },
      {
       "output_type": "stream",
       "stream": "stdout",
       "text": [
        "usearch v7.0.1090_i86osx32, 4.0Gb RAM (15.0Gb total), 4 cores\r\n",
        "(C) Copyright 2013 Robert C. Edgar, all rights reserved.\r\n",
        "http://drive5.com/usearch\r\n",
        "\r\n",
        "Licensed to: sr320@uw.edu\r\n",
        "\r\n"
       ]
      },
      {
       "output_type": "stream",
       "stream": "stdout",
       "text": [
        "00:00 2.1Mb Reading /Volumes/Bay3/usearch/uniprot_sprot.udb\r\n"
       ]
      },
      {
       "output_type": "stream",
       "stream": "stdout",
       "text": [
        "00:02 1.1Gb Database loaded\r\n",
        "00:02 1.1Gb    0.1% Searching, 0.0% matched\r"
       ]
      },
      {
       "output_type": "stream",
       "stream": "stdout",
       "text": [
        "00:03 1.1Gb    2.6% Searching, 3.1% matched\r"
       ]
      },
      {
       "output_type": "stream",
       "stream": "stdout",
       "text": [
        "00:04 1.1Gb    5.5% Searching, 2.7% matched\r"
       ]
      },
      {
       "output_type": "stream",
       "stream": "stdout",
       "text": [
        "00:05 1.1Gb    8.7% Searching, 2.2% matched\r"
       ]
      },
      {
       "output_type": "stream",
       "stream": "stdout",
       "text": [
        "00:06 1.1Gb    9.1% Searching, 2.4% matched\r"
       ]
      },
      {
       "output_type": "stream",
       "stream": "stdout",
       "text": [
        "00:07 1.1Gb   11.4% Searching, 2.3% matched\r"
       ]
      },
      {
       "output_type": "stream",
       "stream": "stdout",
       "text": [
        "0"
       ]
      },
      {
       "output_type": "stream",
       "stream": "stdout",
       "text": [
        "0:08 1.1Gb   14.2% Searching, 2.3% matched\r"
       ]
      },
      {
       "output_type": "stream",
       "stream": "stdout",
       "text": [
        "00:09 1.1Gb   15.5% Searching, 2.7% matched\r"
       ]
      },
      {
       "output_type": "stream",
       "stream": "stdout",
       "text": [
        "00:10 1.1Gb   17.1% Searching, 2.7% matched\r"
       ]
      },
      {
       "output_type": "stream",
       "stream": "stdout",
       "text": [
        "00:11 1.1Gb   19.2% Searching, 3.0% matched\r"
       ]
      },
      {
       "output_type": "stream",
       "stream": "stdout",
       "text": [
        "00:12 1.1Gb   21.3% Searching, 3.4% matched\r"
       ]
      },
      {
       "output_type": "stream",
       "stream": "stdout",
       "text": [
        "00:13 1.1Gb   23.7% Searching, 3.3% matched\r"
       ]
      },
      {
       "output_type": "stream",
       "stream": "stdout",
       "text": [
        "00:14 1.1Gb   25.6% Searching, 3.2% matched\r"
       ]
      },
      {
       "output_type": "stream",
       "stream": "stdout",
       "text": [
        "00:15 1.1Gb   27.6% Searching, 3.3% matched\r"
       ]
      },
      {
       "output_type": "stream",
       "stream": "stdout",
       "text": [
        "00:16 1.1Gb   30.3% Searching, 3.3% matched\r"
       ]
      },
      {
       "output_type": "stream",
       "stream": "stdout",
       "text": [
        "00:17 1.1Gb   32.9% Searching, 3.3% matched\r"
       ]
      },
      {
       "output_type": "stream",
       "stream": "stdout",
       "text": [
        "00:18 1.1Gb   34.3% Searching, 3.4% matched\r"
       ]
      },
      {
       "output_type": "stream",
       "stream": "stdout",
       "text": [
        "00:19 1.1Gb   36.0% Searching, 3.5% matched\r"
       ]
      },
      {
       "output_type": "stream",
       "stream": "stdout",
       "text": [
        "00:20 1.1Gb   38.3% Searching, 3.5% matched\r"
       ]
      },
      {
       "output_type": "stream",
       "stream": "stdout",
       "text": [
        "00:21 1.1Gb   40.5% Searching, 3.5% matched\r"
       ]
      },
      {
       "output_type": "stream",
       "stream": "stdout",
       "text": [
        "00:22 1.1Gb   42.5% Searching, 3.6% matched\r"
       ]
      },
      {
       "output_type": "stream",
       "stream": "stdout",
       "text": [
        "00:23 1.1Gb   44.7% Searching, 3.6% matched\r"
       ]
      },
      {
       "output_type": "stream",
       "stream": "stdout",
       "text": [
        "00:24 1.1Gb   47.2% Searching, 3.7% matched\r"
       ]
      },
      {
       "output_type": "stream",
       "stream": "stdout",
       "text": [
        "00:25 1.1Gb   49.9% Searching, 3.8% matched\r"
       ]
      },
      {
       "output_type": "stream",
       "stream": "stdout",
       "text": [
        "00:26 1.1Gb   52.2% Searching, 3.8% matched\r"
       ]
      },
      {
       "output_type": "stream",
       "stream": "stdout",
       "text": [
        "00:27 1.1Gb   55.1% Searching, 3.7% matched\r"
       ]
      },
      {
       "output_type": "stream",
       "stream": "stdout",
       "text": [
        "00:28 1.1Gb   57.4% Searching, 3.8% matched\r"
       ]
      },
      {
       "output_type": "stream",
       "stream": "stdout",
       "text": [
        "00:29 1.1Gb   59.9% Searching, 3.8% matched\r"
       ]
      },
      {
       "output_type": "stream",
       "stream": "stdout",
       "text": [
        "00:30 1.1Gb   62.2% Searching, 3.8% matched\r"
       ]
      },
      {
       "output_type": "stream",
       "stream": "stdout",
       "text": [
        "00:31 1.1Gb   65.1% Searching, 3.9% matched\r"
       ]
      },
      {
       "output_type": "stream",
       "stream": "stdout",
       "text": [
        "00:32 1.1Gb   66.9% Searching, 3.9% matched\r"
       ]
      },
      {
       "output_type": "stream",
       "stream": "stdout",
       "text": [
        "00:33 1.1Gb   68.8% Searching, 3.8% matched\r"
       ]
      },
      {
       "output_type": "stream",
       "stream": "stdout",
       "text": [
        "00:34 1.1Gb   70.5% Searching, 3.7% matched\r"
       ]
      },
      {
       "output_type": "stream",
       "stream": "stdout",
       "text": [
        "00:35 1.1Gb   72.8% Searching, 3.7% matched\r"
       ]
      },
      {
       "output_type": "stream",
       "stream": "stdout",
       "text": [
        "00:36 1.1Gb   74.0% Searching, 3.8% matched\r"
       ]
      },
      {
       "output_type": "stream",
       "stream": "stdout",
       "text": [
        "00:37 1.1Gb   75.6% Searching, 3.8% matched\r"
       ]
      },
      {
       "output_type": "stream",
       "stream": "stdout",
       "text": [
        "00:38 1.1Gb   77.2% Searching, 3.9% matched\r"
       ]
      },
      {
       "output_type": "stream",
       "stream": "stdout",
       "text": [
        "00:39 1.1Gb   80.5% Searching, 3.9% matched\r"
       ]
      },
      {
       "output_type": "stream",
       "stream": "stdout",
       "text": [
        "00:40 1.1Gb   82.2% Searching, 3.9% matched\r"
       ]
      },
      {
       "output_type": "stream",
       "stream": "stdout",
       "text": [
        "00:41 1.1Gb   84.1% Searching, 3.9% matched\r"
       ]
      },
      {
       "output_type": "stream",
       "stream": "stdout",
       "text": [
        "00:42 1.1Gb   87.2% Searching, 3.8% matched\r"
       ]
      },
      {
       "output_type": "stream",
       "stream": "stdout",
       "text": [
        "00:43 1.1Gb   89.3% Searching, 3.8% matched\r"
       ]
      },
      {
       "output_type": "stream",
       "stream": "stdout",
       "text": [
        "00:44 1.1Gb   91.1% Searching, 3.8% matched\r"
       ]
      },
      {
       "output_type": "stream",
       "stream": "stdout",
       "text": [
        "00:45 1.1Gb   92.7% Searching, 3.8% matched\r"
       ]
      },
      {
       "output_type": "stream",
       "stream": "stdout",
       "text": [
        "00:46 1.1Gb   95.1% Searching, 3.8% matched\r"
       ]
      },
      {
       "output_type": "stream",
       "stream": "stdout",
       "text": [
        "00:47 1.1Gb   97.6% Searching, 3.8% matched\r"
       ]
      },
      {
       "output_type": "stream",
       "stream": "stdout",
       "text": [
        "00:48 1.1Gb  100.0% Searching, 3.8% matched\r",
        "\r\n"
       ]
      },
      {
       "output_type": "stream",
       "stream": "stdout",
       "text": [
        "usearch v7.0.1090_i86osx32, 4.0Gb RAM (15.0Gb total), 4 cores\r\n",
        "(C) Copyright 2013 Robert C. Edgar, all rights reserved.\r\n",
        "http://drive5.com/usearch\r\n",
        "\r\n",
        "Licensed to: sr320@uw.edu\r\n",
        "\r\n"
       ]
      },
      {
       "output_type": "stream",
       "stream": "stdout",
       "text": [
        "00:00 2.1Mb Reading /Volumes/Bay3/usearch/uniprot_sprot.udb\r\n"
       ]
      },
      {
       "output_type": "stream",
       "stream": "stdout",
       "text": [
        "00:02 1.1Gb Database loaded\r\n",
        "00:02 1.1Gb    0.1% Searching, 0.0% matched\r"
       ]
      },
      {
       "output_type": "stream",
       "stream": "stdout",
       "text": [
        "00:03 1.1Gb    1.7% Searching, 6.6% matched\r"
       ]
      },
      {
       "output_type": "stream",
       "stream": "stdout",
       "text": [
        "00:04 1.1Gb    4.3% Searching, 5.2% matched\r"
       ]
      },
      {
       "output_type": "stream",
       "stream": "stdout",
       "text": [
        "00:05 1.1Gb    6.3% Searching, 5.0% matched\r"
       ]
      },
      {
       "output_type": "stream",
       "stream": "stdout",
       "text": [
        "00:06 1.1Gb    8.2% Searching, 5.0% matched\r"
       ]
      },
      {
       "output_type": "stream",
       "stream": "stdout",
       "text": [
        "00:07 1.1Gb   10.3% Searching, 4.8% matched\r"
       ]
      },
      {
       "output_type": "stream",
       "stream": "stdout",
       "text": [
        "00:08 1.1Gb   12.4% Searching, 4.7% matched\r"
       ]
      },
      {
       "output_type": "stream",
       "stream": "stdout",
       "text": [
        "00:09 1.1Gb   14.4% Searching, 4.3% matched\r"
       ]
      },
      {
       "output_type": "stream",
       "stream": "stdout",
       "text": [
        "00:10 1.1Gb   17.4% Searching, 4.2% matched\r"
       ]
      },
      {
       "output_type": "stream",
       "stream": "stdout",
       "text": [
        "00:11 1.1Gb   19.2% Searching, 4.4% matched\r"
       ]
      },
      {
       "output_type": "stream",
       "stream": "stdout",
       "text": [
        "00:12 1.1Gb   21.6% Searching, 4.3% matched\r"
       ]
      },
      {
       "output_type": "stream",
       "stream": "stdout",
       "text": [
        "00:13 1.1Gb   24.8% Searching, 4.2% matched\r"
       ]
      },
      {
       "output_type": "stream",
       "stream": "stdout",
       "text": [
        "00:14 1.1Gb   27.0% Searching, 3.9% matched\r"
       ]
      },
      {
       "output_type": "stream",
       "stream": "stdout",
       "text": [
        "00:15 1.1Gb   28.7% Searching, 4.3% matched\r"
       ]
      },
      {
       "output_type": "stream",
       "stream": "stdout",
       "text": [
        "00:16 1.1Gb   30.8% Searching, 4.3% matched\r"
       ]
      },
      {
       "output_type": "stream",
       "stream": "stdout",
       "text": [
        "00:17 1.1Gb   32.7% Searching, 4.5% matched\r"
       ]
      },
      {
       "output_type": "stream",
       "stream": "stdout",
       "text": [
        "00:18 1.1Gb   35.3% Searching, 4.4% matched\r"
       ]
      },
      {
       "output_type": "stream",
       "stream": "stdout",
       "text": [
        "00:19 1.1Gb   37.1% Searching, 4.3% matched\r"
       ]
      },
      {
       "output_type": "stream",
       "stream": "stdout",
       "text": [
        "00:20 1.1Gb   39.2% Searching, 4.4% matched\r"
       ]
      },
      {
       "output_type": "stream",
       "stream": "stdout",
       "text": [
        "0"
       ]
      },
      {
       "output_type": "stream",
       "stream": "stdout",
       "text": [
        "0:21 1.1Gb   41.7% Searching, 4.3% matched\r"
       ]
      },
      {
       "output_type": "stream",
       "stream": "stdout",
       "text": [
        "00:22 1.1Gb   43.9% Searching, 4.2% matched\r"
       ]
      },
      {
       "output_type": "stream",
       "stream": "stdout",
       "text": [
        "00:23 1.1Gb   46.4% Searching, 4.2% matched\r"
       ]
      },
      {
       "output_type": "stream",
       "stream": "stdout",
       "text": [
        "00:24 1.1Gb   49.6% Searching, 4.1% matched\r"
       ]
      },
      {
       "output_type": "stream",
       "stream": "stdout",
       "text": [
        "00:25 1.1Gb   52.1% Searching, 4.0% matched\r"
       ]
      },
      {
       "output_type": "stream",
       "stream": "stdout",
       "text": [
        "00:26 1.1Gb   54.1% Searching, 4.0% matched\r"
       ]
      },
      {
       "output_type": "stream",
       "stream": "stdout",
       "text": [
        "00:27 1.1Gb   56.2% Searching, 4.0% matched\r"
       ]
      },
      {
       "output_type": "stream",
       "stream": "stdout",
       "text": [
        "00:28 1.1Gb   58.1% Searching, 4.0% matched\r"
       ]
      },
      {
       "output_type": "stream",
       "stream": "stdout",
       "text": [
        "00:29 1.1Gb   60.6% Searching, 4.0% matched\r"
       ]
      },
      {
       "output_type": "stream",
       "stream": "stdout",
       "text": [
        "00:30 1.1Gb   62.7% Searching, 4.0% matched\r"
       ]
      },
      {
       "output_type": "stream",
       "stream": "stdout",
       "text": [
        "00:31 1.1Gb   63.9% Searching, 4.0% matched\r"
       ]
      },
      {
       "output_type": "stream",
       "stream": "stdout",
       "text": [
        "00:32 1.1Gb   66.2% Searching, 4.0% matched\r"
       ]
      },
      {
       "output_type": "stream",
       "stream": "stdout",
       "text": [
        "00:33 1.1Gb   68.7% Searching, 4.0% matched\r"
       ]
      },
      {
       "output_type": "stream",
       "stream": "stdout",
       "text": [
        "00:34 1.1Gb   70.8% Searching, 3.9%"
       ]
      },
      {
       "output_type": "stream",
       "stream": "stdout",
       "text": [
        " matched\r"
       ]
      },
      {
       "output_type": "stream",
       "stream": "stdout",
       "text": [
        "00:35 1.1Gb   73.5% Searching, 4.0% matched\r"
       ]
      },
      {
       "output_type": "stream",
       "stream": "stdout",
       "text": [
        "00:36 1.1Gb   75.5% Searching, 4.1% matched\r"
       ]
      },
      {
       "output_type": "stream",
       "stream": "stdout",
       "text": [
        "00:37 1.1Gb   78.3% Searching, 4.1% matched\r"
       ]
      },
      {
       "output_type": "stream",
       "stream": "stdout",
       "text": [
        "00:38 1.1Gb   79.6% Searching, 4.1% matched\r"
       ]
      },
      {
       "output_type": "stream",
       "stream": "stdout",
       "text": [
        "00:39 1.1Gb   81.9% Searching, 4.1% m"
       ]
      },
      {
       "output_type": "stream",
       "stream": "stdout",
       "text": [
        "atched\r"
       ]
      },
      {
       "output_type": "stream",
       "stream": "stdout",
       "text": [
        "00:40 1.1Gb   83.9% Searching, 4.1% matched\r"
       ]
      },
      {
       "output_type": "stream",
       "stream": "stdout",
       "text": [
        "00:41 1.1Gb   86.0% Searching, 4.1% matched\r"
       ]
      },
      {
       "output_type": "stream",
       "stream": "stdout",
       "text": [
        "00:42 1.1Gb   88.3% Searching, 4.1% matched\r"
       ]
      },
      {
       "output_type": "stream",
       "stream": "stdout",
       "text": [
        "00:43 1.1Gb   90.9% Searching, 4.0% matched\r"
       ]
      },
      {
       "output_type": "stream",
       "stream": "stdout",
       "text": [
        "00:44 1.1Gb   93.2% Searching, 4.0% matched\r"
       ]
      },
      {
       "output_type": "stream",
       "stream": "stdout",
       "text": [
        "00:45 1.1Gb   95.4% Searching, 4.1% matched\r"
       ]
      },
      {
       "output_type": "stream",
       "stream": "stdout",
       "text": [
        "00:46 1.1Gb   98.2% Searching, 4.0% matched\r"
       ]
      },
      {
       "output_type": "stream",
       "stream": "stdout",
       "text": [
        "00:46 1.1Gb  100.0% Searching, 4.0% matched\r",
        "\r\n"
       ]
      },
      {
       "output_type": "stream",
       "stream": "stdout",
       "text": [
        "usearch v7.0.1090_i86osx32, 4.0Gb RAM (15.0Gb total), 4 cores\r\n",
        "(C) Copyright 2013 Robert C. Edgar, all rights reserved.\r\n",
        "http://drive5.com/usearch\r\n",
        "\r\n",
        "Licensed to: sr320@uw.edu\r\n",
        "\r\n"
       ]
      },
      {
       "output_type": "stream",
       "stream": "stdout",
       "text": [
        "00:00 2.0Mb Reading /Volumes/Bay3/usearch/uniprot_sprot.udb\r\n"
       ]
      },
      {
       "output_type": "stream",
       "stream": "stdout",
       "text": [
        "00:02 1.1Gb Database loaded\r\n",
        "00:02 1.1Gb    0.1% Searching, 0.0% matched\r"
       ]
      },
      {
       "output_type": "stream",
       "stream": "stdout",
       "text": [
        "00:03 1.1Gb    2.3% Searching, 2.8% matched\r"
       ]
      },
      {
       "output_type": "stream",
       "stream": "stdout",
       "text": [
        "00:04 1.1Gb    5.0% Searching, 2.3% matched\r"
       ]
      },
      {
       "output_type": "stream",
       "stream": "stdout",
       "text": [
        "00:05 1.1Gb    7.2% Searching, 2.8% matched\r"
       ]
      },
      {
       "output_type": "stream",
       "stream": "stdout",
       "text": [
        "00:06 1.1Gb    9.2% Searching, 2.6% matched\r"
       ]
      },
      {
       "output_type": "stream",
       "stream": "stdout",
       "text": [
        "00:07 1.1Gb   11.5% Searching, 2.5% matched\r"
       ]
      },
      {
       "output_type": "stream",
       "stream": "stdout",
       "text": [
        "00:08 1.1Gb   14.1% Searching, 3.0% matched\r"
       ]
      },
      {
       "output_type": "stream",
       "stream": "stdout",
       "text": [
        "00:09 1.1Gb   16.4% Searching, 3.4% matched\r"
       ]
      },
      {
       "output_type": "stream",
       "stream": "stdout",
       "text": [
        "00:10 1.1Gb   19.1% Searching, 3.4% matched\r"
       ]
      },
      {
       "output_type": "stream",
       "stream": "stdout",
       "text": [
        "00:11 1.1Gb   21.8% Searching, 3.2% matched\r"
       ]
      },
      {
       "output_type": "stream",
       "stream": "stdout",
       "text": [
        "00:12 1.1Gb   24.5% Searching, 3.4% matched\r"
       ]
      },
      {
       "output_type": "stream",
       "stream": "stdout",
       "text": [
        "00:13 1.1Gb   26.8% Searching, 3.4% matched\r"
       ]
      },
      {
       "output_type": "stream",
       "stream": "stdout",
       "text": [
        "00:14 1.1Gb   29.6% Searching, 3.4% matched\r"
       ]
      },
      {
       "output_type": "stream",
       "stream": "stdout",
       "text": [
        "00:15 1.1Gb   32.0% Searching, 3.4% matched\r"
       ]
      },
      {
       "output_type": "stream",
       "stream": "stdout",
       "text": [
        "00:16 1.1Gb   34.5% Searching, 3.5% matched\r"
       ]
      },
      {
       "output_type": "stream",
       "stream": "stdout",
       "text": [
        "00:17 1.1Gb   36.7% Searching, 3.5% matched\r"
       ]
      },
      {
       "output_type": "stream",
       "stream": "stdout",
       "text": [
        "00:18 1.1Gb   38.9% Searching, 3.6% matched\r"
       ]
      },
      {
       "output_type": "stream",
       "stream": "stdout",
       "text": [
        "00:19 1.1Gb   41.4% Searching, 3.7% matched\r"
       ]
      },
      {
       "output_type": "stream",
       "stream": "stdout",
       "text": [
        "00:20 1.1Gb   44.4% Searching, 3.6% matched\r"
       ]
      },
      {
       "output_type": "stream",
       "stream": "stdout",
       "text": [
        "00:21 1.1Gb   47.1% Searching, 3.6% matched\r"
       ]
      },
      {
       "output_type": "stream",
       "stream": "stdout",
       "text": [
        "00:22 1.1Gb   51.0% Searching, 3.6% matched\r"
       ]
      },
      {
       "output_type": "stream",
       "stream": "stdout",
       "text": [
        "00:23 1.1Gb   51.8% Searching, 3.6% matched\r"
       ]
      },
      {
       "output_type": "stream",
       "stream": "stdout",
       "text": [
        "00:24 1.1Gb   54.5% Searching, 3.6% matched\r"
       ]
      },
      {
       "output_type": "stream",
       "stream": "stdout",
       "text": [
        "00:25 1.1Gb   56.9% Searching, 3.5% matched\r"
       ]
      },
      {
       "output_type": "stream",
       "stream": "stdout",
       "text": [
        "00:26 1.1Gb   59.1% Searching, 3.5% matched\r"
       ]
      },
      {
       "output_type": "stream",
       "stream": "stdout",
       "text": [
        "00:27 1.1Gb   61.3% Searching, 3.4% matched\r"
       ]
      },
      {
       "output_type": "stream",
       "stream": "stdout",
       "text": [
        "00:28 1.1Gb   63.3% Searching, 3.5% matched\r"
       ]
      },
      {
       "output_type": "stream",
       "stream": "stdout",
       "text": [
        "00:29 1.1Gb   65.3% Searching, 3.5% matched\r"
       ]
      },
      {
       "output_type": "stream",
       "stream": "stdout",
       "text": [
        "00:30 1.1Gb   68.1% Searching, 3.6% matched\r"
       ]
      },
      {
       "output_type": "stream",
       "stream": "stdout",
       "text": [
        "00:31 1.1Gb   70.7% Searching, 3.6% matched\r"
       ]
      },
      {
       "output_type": "stream",
       "stream": "stdout",
       "text": [
        "00:32 1.1Gb   73.2% Searching, 3.6% matched\r"
       ]
      },
      {
       "output_type": "stream",
       "stream": "stdout",
       "text": [
        "00:33 1.1Gb   75.3% Searching, 3.6% matched\r"
       ]
      },
      {
       "output_type": "stream",
       "stream": "stdout",
       "text": [
        "00:34 1.1Gb   78.1% Searching, 3.6% matched\r"
       ]
      },
      {
       "output_type": "stream",
       "stream": "stdout",
       "text": [
        "00:35 1.1Gb   79.2% Searching, 3.7% matched\r"
       ]
      },
      {
       "output_type": "stream",
       "stream": "stdout",
       "text": [
        "00:36 1.1Gb   81.6% Searching, 3.7% matched\r"
       ]
      },
      {
       "output_type": "stream",
       "stream": "stdout",
       "text": [
        "00:37 1.1Gb   84.2% Searching, 3.7% matched\r"
       ]
      },
      {
       "output_type": "stream",
       "stream": "stdout",
       "text": [
        "00:38 1.1Gb   86.8% Searching, 3.6% matched\r"
       ]
      },
      {
       "output_type": "stream",
       "stream": "stdout",
       "text": [
        "00:39 1.1Gb   88.6% Searching, 3.7% matched\r"
       ]
      },
      {
       "output_type": "stream",
       "stream": "stdout",
       "text": [
        "00:40 1.1Gb   90.5% Searching, 3.6% matched\r"
       ]
      },
      {
       "output_type": "stream",
       "stream": "stdout",
       "text": [
        "00:41 1.1Gb   93.7% Searching, 3.5% matched\r"
       ]
      },
      {
       "output_type": "stream",
       "stream": "stdout",
       "text": [
        "00:42 1.1Gb   96.2% Searching, 3.5% matched\r"
       ]
      },
      {
       "output_type": "stream",
       "stream": "stdout",
       "text": [
        "00:43 1.1Gb   98.5% Searching, 3.5% matched\r"
       ]
      },
      {
       "output_type": "stream",
       "stream": "stdout",
       "text": [
        "00:44 1.1Gb   99.8% Searching, 3.5% matched\r",
        "00:44 1.1Gb  100.0% Searching, 3.5% matched\r",
        "\r\n"
       ]
      },
      {
       "output_type": "stream",
       "stream": "stdout",
       "text": [
        "usearch v7.0.1090_i86osx32, 4.0Gb RAM (15.0Gb total), 4 cores\r\n",
        "(C) Copyright 2013 Robert C. Edgar, all rights reserved.\r\n",
        "http://drive5.com/usearch\r\n",
        "\r\n",
        "Licensed to: sr320@uw.edu\r\n",
        "\r\n",
        "00:00 1.7Mb Reading /Volumes/Bay3/usearch/uniprot_sprot.udb\r\n"
       ]
      },
      {
       "output_type": "stream",
       "stream": "stdout",
       "text": [
        "00:02 1.1Gb Database loaded\r\n",
        "00:02 1.1Gb    0.1% Searching, 0.0% matched\r"
       ]
      },
      {
       "output_type": "stream",
       "stream": "stdout",
       "text": [
        "00:03 1.1Gb    2.8% Searching, 1.6% matched\r"
       ]
      },
      {
       "output_type": "stream",
       "stream": "stdout",
       "text": [
        "00:04 1.1Gb    5.6% Searching, 2.6% matched\r"
       ]
      },
      {
       "output_type": "stream",
       "stream": "stdout",
       "text": [
        "00:05 1.1Gb    8.4% Searching, 3.4% matched\r"
       ]
      },
      {
       "output_type": "stream",
       "stream": "stdout",
       "text": [
        "00:06 1.1Gb   11.5% Searching, 3.1% matched\r"
       ]
      },
      {
       "output_type": "stream",
       "stream": "stdout",
       "text": [
        "00:07 1.1Gb   13.5% Searching, 3.2% matched\r"
       ]
      },
      {
       "output_type": "stream",
       "stream": "stdout",
       "text": [
        "00:08 1.1Gb   16.6% Searching, 3.9% matched\r"
       ]
      },
      {
       "output_type": "stream",
       "stream": "stdout",
       "text": [
        "00:09 1.1Gb   19.4% Searching, 3.8% matched\r"
       ]
      },
      {
       "output_type": "stream",
       "stream": "stdout",
       "text": [
        "00:10 1.1Gb   22.8% Searching, 3.8% matched\r"
       ]
      },
      {
       "output_type": "stream",
       "stream": "stdout",
       "text": [
        "00:11 1.1Gb   25.8% Searching, 3.7% matched\r"
       ]
      },
      {
       "output_type": "stream",
       "stream": "stdout",
       "text": [
        "00:12 1.1Gb   29.0% Searching, 3.8% matched\r"
       ]
      },
      {
       "output_type": "stream",
       "stream": "stdout",
       "text": [
        "00:13 1.1Gb   32.4% Searching, 3.6% matched\r"
       ]
      },
      {
       "output_type": "stream",
       "stream": "stdout",
       "text": [
        "00:14 1.1Gb   35.9% Searching, 3.8% matched\r"
       ]
      },
      {
       "output_type": "stream",
       "stream": "stdout",
       "text": [
        "00:15 1.1Gb   39.4% Searching, 3.8% matched\r"
       ]
      },
      {
       "output_type": "stream",
       "stream": "stdout",
       "text": [
        "00:16 1.1Gb   43.1% Searching, 3.9% matched\r"
       ]
      },
      {
       "output_type": "stream",
       "stream": "stdout",
       "text": [
        "00:17 1.1Gb   45.8% Searching, 3.9% matched\r"
       ]
      },
      {
       "output_type": "stream",
       "stream": "stdout",
       "text": [
        "00:18 1.1Gb   47.6% Searching, 3.9% matched\r"
       ]
      },
      {
       "output_type": "stream",
       "stream": "stdout",
       "text": [
        "00:19 1.1Gb   51.6% Searching, 4.0% matched\r"
       ]
      },
      {
       "output_type": "stream",
       "stream": "stdout",
       "text": [
        "00:20 1.1Gb   53.9% Searching, 4.0% matched\r"
       ]
      },
      {
       "output_type": "stream",
       "stream": "stdout",
       "text": [
        "00:21 1.1Gb   56.8% Searching, 4.0% matched\r"
       ]
      },
      {
       "output_type": "stream",
       "stream": "stdout",
       "text": [
        "00:22 1.1Gb   60.0% Searching, 3.9% matched\r"
       ]
      },
      {
       "output_type": "stream",
       "stream": "stdout",
       "text": [
        "00:23 1.1Gb   63.6% Searching, 3.9% matched\r"
       ]
      },
      {
       "output_type": "stream",
       "stream": "stdout",
       "text": [
        "00:24 1.1Gb   66.9% Searching, 3.9% matched\r"
       ]
      },
      {
       "output_type": "stream",
       "stream": "stdout",
       "text": [
        "00:25 1.1Gb   70.2% Searching, 3.9% matched\r"
       ]
      },
      {
       "output_type": "stream",
       "stream": "stdout",
       "text": [
        "00:26 1.1Gb   74.1% Searching, 3.8% matched\r"
       ]
      },
      {
       "output_type": "stream",
       "stream": "stdout",
       "text": [
        "00:27 1.1Gb   76.4% Searching, 3.8% matched\r"
       ]
      },
      {
       "output_type": "stream",
       "stream": "stdout",
       "text": [
        "00:28 1.1Gb   79.3% Searching, 3.9% matched\r"
       ]
      },
      {
       "output_type": "stream",
       "stream": "stdout",
       "text": [
        "00:29 1.1Gb   82.5% Searching, 3.9% matched\r"
       ]
      },
      {
       "output_type": "stream",
       "stream": "stdout",
       "text": [
        "00:30 1.1Gb   85.0% Searching, 3.9% matched\r"
       ]
      },
      {
       "output_type": "stream",
       "stream": "stdout",
       "text": [
        "00:31 1.1Gb   88.1% Searching, 3.9% matched\r"
       ]
      },
      {
       "output_type": "stream",
       "stream": "stdout",
       "text": [
        "00:32 1.1Gb   91.1% Searching, 3.9% matched\r"
       ]
      },
      {
       "output_type": "stream",
       "stream": "stdout",
       "text": [
        "00:33 1.1Gb   94.4% Searching, 3.9% matched\r"
       ]
      },
      {
       "output_type": "stream",
       "stream": "stdout",
       "text": [
        "00:34 1.1Gb   97.4% Searching, 3.9% matched\r"
       ]
      },
      {
       "output_type": "stream",
       "stream": "stdout",
       "text": [
        "00:34 1.1Gb  100.0% Searching, 3.9% matched\r",
        "\r\n"
       ]
      },
      {
       "output_type": "stream",
       "stream": "stdout",
       "text": [
        "usearch v7.0.1090_i86osx32, 4.0Gb RAM (15.0Gb total), 4 cores\r\n",
        "(C) Copyright 2013 Robert C. Edgar, all rights reserved.\r\n",
        "http://drive5.com/usearch\r\n",
        "\r\n",
        "Licensed to: sr320@uw.edu\r\n",
        "\r\n"
       ]
      },
      {
       "output_type": "stream",
       "stream": "stdout",
       "text": [
        "00:00 1.9Mb Reading /Volumes/Bay3/usearch/uniprot_sprot.udb\r\n"
       ]
      },
      {
       "output_type": "stream",
       "stream": "stdout",
       "text": [
        "00:02 1.1Gb Database loaded\r\n",
        "00:02 1.1Gb    0.1% Searching, 0.0% matched\r"
       ]
      },
      {
       "output_type": "stream",
       "stream": "stdout",
       "text": [
        "00:03 1.1Gb    2.3% Searching, 4.5% matched\r"
       ]
      },
      {
       "output_type": "stream",
       "stream": "stdout",
       "text": [
        "00:04 1.1Gb    5.0% Searching, 3.6% matched\r"
       ]
      },
      {
       "output_type": "stream",
       "stream": "stdout",
       "text": [
        "00:05 1.1Gb    7.3% Searching, 3.8% matched\r"
       ]
      },
      {
       "output_type": "stream",
       "stream": "stdout",
       "text": [
        "00:06 1.1Gb    9.7% Searching, 3.8% matched\r"
       ]
      },
      {
       "output_type": "stream",
       "stream": "stdout",
       "text": [
        "00:07 1.1Gb   12.0% Searching, 3.8% matched\r"
       ]
      },
      {
       "output_type": "stream",
       "stream": "stdout",
       "text": [
        "00:08 1.1Gb   14.7% Searching, 3.6% matched\r"
       ]
      },
      {
       "output_type": "stream",
       "stream": "stdout",
       "text": [
        "00:09 1.1Gb   17.6% Searching, 3.7% matched\r"
       ]
      },
      {
       "output_type": "stream",
       "stream": "stdout",
       "text": [
        "00:10 1.1Gb   20.5% Searching, 3.8% matched\r"
       ]
      },
      {
       "output_type": "stream",
       "stream": "stdout",
       "text": [
        "00:11 1.1Gb   22.9% Searching, 3.8% matched\r"
       ]
      },
      {
       "output_type": "stream",
       "stream": "stdout",
       "text": [
        "00:12 1.1Gb   25.5% Searching, 3.8% matched\r"
       ]
      },
      {
       "output_type": "stream",
       "stream": "stdout",
       "text": [
        "00:13 1.1Gb   28.6% Searching, 3.7% matched\r"
       ]
      },
      {
       "output_type": "stream",
       "stream": "stdout",
       "text": [
        "00:14 1.1Gb   31.3% Searching, 3"
       ]
      },
      {
       "output_type": "stream",
       "stream": "stdout",
       "text": [
        ".6% matched\r"
       ]
      },
      {
       "output_type": "stream",
       "stream": "stdout",
       "text": [
        "00:15 1.1Gb   34.0% Searching, 3.6% matched\r"
       ]
      },
      {
       "output_type": "stream",
       "stream": "stdout",
       "text": [
        "00:16 1.1Gb   36.7% Searching, 3.6% matched\r"
       ]
      },
      {
       "output_type": "stream",
       "stream": "stdout",
       "text": [
        "00:17 1.1Gb   38.8% Searching, 3.7% matched\r"
       ]
      },
      {
       "output_type": "stream",
       "stream": "stdout",
       "text": [
        "0"
       ]
      },
      {
       "output_type": "stream",
       "stream": "stdout",
       "text": [
        "0:18 1.1Gb   42.3% Searching, 3.7% matched\r"
       ]
      },
      {
       "output_type": "stream",
       "stream": "stdout",
       "text": [
        "00:19 1.1Gb   45.3% Searching, 3.7% matched\r"
       ]
      },
      {
       "output_type": "stream",
       "stream": "stdout",
       "text": [
        "00:20 1.1Gb   48.0% Searching, 3.8% matched\r"
       ]
      },
      {
       "output_type": "stream",
       "stream": "stdout",
       "text": [
        "00:21 1.1Gb   51.3% Searching, 3.7% matched\r"
       ]
      },
      {
       "output_type": "stream",
       "stream": "stdout",
       "text": [
        "00:22 1.1Gb   55.2% Searching, 3.7% matched\r"
       ]
      },
      {
       "output_type": "stream",
       "stream": "stdout",
       "text": [
        "00:23 1.1Gb   58.2% Searching, 3.7% matched\r"
       ]
      },
      {
       "output_type": "stream",
       "stream": "stdout",
       "text": [
        "00:24 1.1Gb   61.8% Searching, 3.6% matched\r"
       ]
      },
      {
       "output_type": "stream",
       "stream": "stdout",
       "text": [
        "00:25 1.1Gb   64.5% Searching, 3.7% matched\r"
       ]
      },
      {
       "output_type": "stream",
       "stream": "stdout",
       "text": [
        "00:26 1.1Gb   67.0% Searching, 3.6% matched\r"
       ]
      },
      {
       "output_type": "stream",
       "stream": "stdout",
       "text": [
        "00:27 1.1Gb   69.4% Searching, 3.7% matched\r"
       ]
      },
      {
       "output_type": "stream",
       "stream": "stdout",
       "text": [
        "00:28 1.1Gb   71.5% Searching, 3.7% matched\r"
       ]
      },
      {
       "output_type": "stream",
       "stream": "stdout",
       "text": [
        "00:29 1.1Gb   74.9% Searching, 3.8% matched\r"
       ]
      },
      {
       "output_type": "stream",
       "stream": "stdout",
       "text": [
        "00:30 1.1Gb   76.7% Searching, 3.9% matched\r"
       ]
      },
      {
       "output_type": "stream",
       "stream": "stdout",
       "text": [
        "00:31 1.1Gb   79.4% Searching, 3.9% matched\r"
       ]
      },
      {
       "output_type": "stream",
       "stream": "stdout",
       "text": [
        "00:32 1.1Gb   82.6% Searching, 3.8% matched\r"
       ]
      },
      {
       "output_type": "stream",
       "stream": "stdout",
       "text": [
        "00:33 1.1Gb   85.0% Searching, 3.8% match"
       ]
      },
      {
       "output_type": "stream",
       "stream": "stdout",
       "text": [
        "ed\r"
       ]
      },
      {
       "output_type": "stream",
       "stream": "stdout",
       "text": [
        "00:34 1.1Gb   88.1% Searching, 3.9% matched\r"
       ]
      },
      {
       "output_type": "stream",
       "stream": "stdout",
       "text": [
        "00:35 1.1Gb   90.8% Searching, 3.8% matched\r"
       ]
      },
      {
       "output_type": "stream",
       "stream": "stdout",
       "text": [
        "00:36 1.1Gb   93.8% Searching, 3.8% matched\r"
       ]
      },
      {
       "output_type": "stream",
       "stream": "stdout",
       "text": [
        "00:37 1.1Gb   97.2% Searching, 3.8% matched\r"
       ]
      },
      {
       "output_type": "stream",
       "stream": "stdout",
       "text": [
        "00:38 1.1Gb   99.7% Searching, 3.7% matched\r"
       ]
      },
      {
       "output_type": "stream",
       "stream": "stdout",
       "text": [
        "00:38 1.1Gb  100.0% Searching, 3.8% matched\r",
        "\r\n"
       ]
      },
      {
       "output_type": "stream",
       "stream": "stdout",
       "text": [
        "usearch v7.0.1090_i86osx32, 4.0Gb RAM (15.0Gb total), 4 cores\r\n",
        "(C) Copyright 2013 Robert C. Edgar, all rights reserved.\r\n",
        "http://drive5.com/usearch\r\n",
        "\r\n",
        "Licensed to: sr320@uw.edu\r\n",
        "\r\n"
       ]
      },
      {
       "output_type": "stream",
       "stream": "stdout",
       "text": [
        "00:00 2.0Mb Reading /Volumes/Bay3/usearch/uniprot_sprot.udb\r\n"
       ]
      },
      {
       "output_type": "stream",
       "stream": "stdout",
       "text": [
        "00:02 1.1Gb Database loaded\r\n",
        "00:02 1.1Gb    0.1% Searching, 0.0% matched\r"
       ]
      },
      {
       "output_type": "stream",
       "stream": "stdout",
       "text": [
        "00:03 1.1Gb    2.8% Searching, 2.7% matched\r"
       ]
      },
      {
       "output_type": "stream",
       "stream": "stdout",
       "text": [
        "00:04 1.1Gb    5.1% Searching, 3.6% matched\r"
       ]
      },
      {
       "output_type": "stream",
       "stream": "stdout",
       "text": [
        "00:05 1.1Gb    6.8% Searching, 4.7% matched\r"
       ]
      },
      {
       "output_type": "stream",
       "stream": "stdout",
       "text": [
        "00:06 1.1Gb   10.0% Searching, 4.1% matched\r"
       ]
      },
      {
       "output_type": "stream",
       "stream": "stdout",
       "text": [
        "00:07 1.1Gb   12.8% Searching, 4.0% matched\r"
       ]
      },
      {
       "output_type": "stream",
       "stream": "stdout",
       "text": [
        "00:08 1.1Gb   15.0% Searching, 3.5% matched\r"
       ]
      },
      {
       "output_type": "stream",
       "stream": "stdout",
       "text": [
        "00:09 1.1Gb   17.7% Searching, 3.7% matched\r"
       ]
      },
      {
       "output_type": "stream",
       "stream": "stdout",
       "text": [
        "00:10 1.1Gb   19.7% Searching, 3.6% matched\r"
       ]
      },
      {
       "output_type": "stream",
       "stream": "stdout",
       "text": [
        "00:11 1.1Gb   22.6% Searching, 3.8% matched\r"
       ]
      },
      {
       "output_type": "stream",
       "stream": "stdout",
       "text": [
        "00:12 1.1Gb   24.6% Searching, 3.8% matched\r"
       ]
      },
      {
       "output_type": "stream",
       "stream": "stdout",
       "text": [
        "00:13 1.1Gb   27.1% Searching, 3.8% matched\r"
       ]
      },
      {
       "output_type": "stream",
       "stream": "stdout",
       "text": [
        "00:14 1.1Gb   29.7% Searching, 3.8% matched\r"
       ]
      },
      {
       "output_type": "stream",
       "stream": "stdout",
       "text": [
        "00:15 1.1Gb   32.5% Searching, 3.6% matched\r"
       ]
      },
      {
       "output_type": "stream",
       "stream": "stdout",
       "text": [
        "00:16 1.1Gb   35.1% Searching, 3.6% matched\r"
       ]
      },
      {
       "output_type": "stream",
       "stream": "stdout",
       "text": [
        "00:17 1.1Gb   37.5% Searching, 3.7% matched\r"
       ]
      },
      {
       "output_type": "stream",
       "stream": "stdout",
       "text": [
        "00:18 1.1Gb   39.9% Searching, 3.6% matched\r"
       ]
      },
      {
       "output_type": "stream",
       "stream": "stdout",
       "text": [
        "00:19 1.1Gb   42.5% Searching, 3.6% matched\r"
       ]
      },
      {
       "output_type": "stream",
       "stream": "stdout",
       "text": [
        "00:20 1.1Gb   44.7% Searching, 3.6% matched\r"
       ]
      },
      {
       "output_type": "stream",
       "stream": "stdout",
       "text": [
        "00:21 1.1Gb   47.8% Searching, 3.7% matched\r"
       ]
      },
      {
       "output_type": "stream",
       "stream": "stdout",
       "text": [
        "00:22 1.1Gb   50.1% Searching, 3.7% matched\r"
       ]
      },
      {
       "output_type": "stream",
       "stream": "stdout",
       "text": [
        "00:23 1.1Gb   52.2% Searching, 3.8% matched\r"
       ]
      },
      {
       "output_type": "stream",
       "stream": "stdout",
       "text": [
        "00:24 1.1Gb   55.3% Searching, 3.8% matched\r"
       ]
      },
      {
       "output_type": "stream",
       "stream": "stdout",
       "text": [
        "00:25 1.1Gb   57.3% Searching, 3.7% matched\r"
       ]
      },
      {
       "output_type": "stream",
       "stream": "stdout",
       "text": [
        "00:26 1.1Gb   59.1% Searching, 3.7% matched\r"
       ]
      },
      {
       "output_type": "stream",
       "stream": "stdout",
       "text": [
        "00:27 1.1Gb   62.1% Searching, 3.7% matched\r"
       ]
      },
      {
       "output_type": "stream",
       "stream": "stdout",
       "text": [
        "00:28 1.1Gb   64.2% Searching, 3.8% matched\r"
       ]
      },
      {
       "output_type": "stream",
       "stream": "stdout",
       "text": [
        "00:29 1.1Gb   66.6% Searching, 3.8% matched\r"
       ]
      },
      {
       "output_type": "stream",
       "stream": "stdout",
       "text": [
        "00:30 1.1Gb   68.8% Searching, 3.8% matched\r"
       ]
      },
      {
       "output_type": "stream",
       "stream": "stdout",
       "text": [
        "00:31 1.1Gb   71.3% Searching, 3.8% matched\r"
       ]
      },
      {
       "output_type": "stream",
       "stream": "stdout",
       "text": [
        "00:32 1.1Gb   73.0% Searching, 3.8% matched\r"
       ]
      },
      {
       "output_type": "stream",
       "stream": "stdout",
       "text": [
        "00:33 1.1Gb   74.9% Searching, 3.7% matched\r"
       ]
      },
      {
       "output_type": "stream",
       "stream": "stdout",
       "text": [
        "00:34 1.1Gb   76.8% Searching, 3.7% matched\r"
       ]
      },
      {
       "output_type": "stream",
       "stream": "stdout",
       "text": [
        "00:35 1.1Gb   79.2% Searching, 3.6% matched\r"
       ]
      },
      {
       "output_type": "stream",
       "stream": "stdout",
       "text": [
        "00:36 1.1Gb   81.2% Searching, 3.6% matched\r"
       ]
      },
      {
       "output_type": "stream",
       "stream": "stdout",
       "text": [
        "00:37 1.1Gb   83.8% Searching, 3.7% matched\r"
       ]
      },
      {
       "output_type": "stream",
       "stream": "stdout",
       "text": [
        "00:38 1.1Gb   86.1% Searching, 3.6% matched\r"
       ]
      },
      {
       "output_type": "stream",
       "stream": "stdout",
       "text": [
        "00:39 1.1Gb   88.3% Searching, 3.7% matched\r"
       ]
      },
      {
       "output_type": "stream",
       "stream": "stdout",
       "text": [
        "00:40 1.1Gb   90.6% Searching, 3.7% matched\r"
       ]
      },
      {
       "output_type": "stream",
       "stream": "stdout",
       "text": [
        "00:41 1.1Gb   93.0% Searching, 3.7% matched\r"
       ]
      },
      {
       "output_type": "stream",
       "stream": "stdout",
       "text": [
        "00:42 1.1Gb   95.2% Searching, 3.7% matched\r"
       ]
      },
      {
       "output_type": "stream",
       "stream": "stdout",
       "text": [
        "00:43 1.1Gb   98.4% Searching, 3.7% matched\r"
       ]
      },
      {
       "output_type": "stream",
       "stream": "stdout",
       "text": [
        "00:44 1.1Gb   99.8% Searching, 3.7% matched\r"
       ]
      },
      {
       "output_type": "stream",
       "stream": "stdout",
       "text": [
        "00:44 1.1Gb  100.0% Searching, 3.8% matched\r",
        "\r\n"
       ]
      },
      {
       "output_type": "stream",
       "stream": "stdout",
       "text": [
        "usearch v7.0.1090_i86osx32, 4.0Gb RAM (15.0Gb total), 4 cores\r\n",
        "(C) Copyright 2013 Robert C. Edgar, all rights reserved.\r\n",
        "http://drive5.com/usearch\r\n",
        "\r\n",
        "Licensed to: sr320@uw.edu\r\n",
        "\r\n"
       ]
      },
      {
       "output_type": "stream",
       "stream": "stdout",
       "text": [
        "00:00 2.0Mb Reading /Volumes/Bay3/usearch/uniprot_sprot.udb\r\n"
       ]
      },
      {
       "output_type": "stream",
       "stream": "stdout",
       "text": [
        "00:02 1.1Gb Database loaded\r\n",
        "00:02 1.1Gb    0.1% Searching, 0.0% matched\r"
       ]
      },
      {
       "output_type": "stream",
       "stream": "stdout",
       "text": [
        "00:03 1.1Gb    1.2% Searching, 0.0% matched\r"
       ]
      },
      {
       "output_type": "stream",
       "stream": "stdout",
       "text": [
        "00:04 1.1Gb    3.7% Searching, 3.4% matched\r"
       ]
      },
      {
       "output_type": "stream",
       "stream": "stdout",
       "text": [
        "00:05 1.1Gb    5.7% Searching, 4.2% matched\r"
       ]
      },
      {
       "output_type": "stream",
       "stream": "stdout",
       "text": [
        "00:06 1.1Gb    8.5% Searching, 3.6% matched\r"
       ]
      },
      {
       "output_type": "stream",
       "stream": "stdout",
       "text": [
        "00:07 1.1Gb   10.8% Searching, 3.7% matched\r"
       ]
      },
      {
       "output_type": "stream",
       "stream": "stdout",
       "text": [
        "00:08 1.1Gb   13.6% Searching, 4.0% matched\r"
       ]
      },
      {
       "output_type": "stream",
       "stream": "stdout",
       "text": [
        "00:09 1.1Gb   16.3% Searching, 4.2% matched\r"
       ]
      },
      {
       "output_type": "stream",
       "stream": "stdout",
       "text": [
        "00:10 1.1Gb   18.2% Searching, 4.3% matched\r"
       ]
      },
      {
       "output_type": "stream",
       "stream": "stdout",
       "text": [
        "00:11 1.1Gb   19.9% Searching, 4.4% matched\r"
       ]
      },
      {
       "output_type": "stream",
       "stream": "stdout",
       "text": [
        "00:12 1.1Gb   22.0% Searching, 4.4% matched\r"
       ]
      },
      {
       "output_type": "stream",
       "stream": "stdout",
       "text": [
        "00:13 1.1Gb   24.3% Searching, 4.4% matched\r"
       ]
      },
      {
       "output_type": "stream",
       "stream": "stdout",
       "text": [
        "00:14 1.1Gb   26.9% Searching, 4.3% matched\r"
       ]
      },
      {
       "output_type": "stream",
       "stream": "stdout",
       "text": [
        "00:15 1.1Gb   29.5% Searching, 4.3% matched\r"
       ]
      },
      {
       "output_type": "stream",
       "stream": "stdout",
       "text": [
        "00:16 1.1Gb   31.1% Searching, 4.2% matched\r"
       ]
      },
      {
       "output_type": "stream",
       "stream": "stdout",
       "text": [
        "00:17 1.1Gb   33.6% Searching, 4.2% matched\r"
       ]
      },
      {
       "output_type": "stream",
       "stream": "stdout",
       "text": [
        "00:18 1.1Gb   36.8% Searching, 4.1% matched\r"
       ]
      },
      {
       "output_type": "stream",
       "stream": "stdout",
       "text": [
        "00:19 1.1Gb   39.1% Searching, 3.9% matched\r"
       ]
      },
      {
       "output_type": "stream",
       "stream": "stdout",
       "text": [
        "00:20 1.1Gb   41.8% Searching, 4.0% matched\r"
       ]
      },
      {
       "output_type": "stream",
       "stream": "stdout",
       "text": [
        "00:21 1.1Gb   43.6% Searching, 4.0% matched\r"
       ]
      },
      {
       "output_type": "stream",
       "stream": "stdout",
       "text": [
        "00:22 1.1Gb   46.0% Searching, 4.0% matched\r"
       ]
      },
      {
       "output_type": "stream",
       "stream": "stdout",
       "text": [
        "00:23 1.1Gb   48.3% Searching, 4.0% matched\r"
       ]
      },
      {
       "output_type": "stream",
       "stream": "stdout",
       "text": [
        "00:24 1.1Gb   49.9% Searching, 4.0% matched\r"
       ]
      },
      {
       "output_type": "stream",
       "stream": "stdout",
       "text": [
        "00:25 1.1Gb   52.6% Searching, 4.0% matched\r"
       ]
      },
      {
       "output_type": "stream",
       "stream": "stdout",
       "text": [
        "00:26 1.1Gb   54.6% Searching, 4.0% matched\r"
       ]
      },
      {
       "output_type": "stream",
       "stream": "stdout",
       "text": [
        "00:27 1.1Gb   56.4% Searching, 4.0% matched\r"
       ]
      },
      {
       "output_type": "stream",
       "stream": "stdout",
       "text": [
        "00:28 1.1Gb   59.0% Searching, 4.0% matched\r"
       ]
      },
      {
       "output_type": "stream",
       "stream": "stdout",
       "text": [
        "00:29 1.1Gb   61.0% Searching, 4.0% matched\r"
       ]
      },
      {
       "output_type": "stream",
       "stream": "stdout",
       "text": [
        "usearch(74777,0xb0103000) malloc: *** mmap(size=1242636288) failed (error code=12)\r\n",
        "*** error: can't allocate region\r\n",
        "*** set a breakpoint in malloc_error_break to debug\r\n",
        "\r\n",
        "Out of memory mymalloc(1242632997), curr 1.07e+09 bytes\r\n",
        "\r\n",
        "myutils.cpp(2212): \r\n",
        "\r\n",
        "usearch -ublast cgigas.part-80.fa -db /Volumes/Bay3/usearch/uniprot_sprot.udb -evalue 1e-5 -accel 0.8 -top_hits_only -maxhits 1 -blast6out /Volumes/web/cnidarian/cgigas8_cgigas.part-80.fa_ublast_sprot.b6\r\n",
        "\r\n",
        "---Fatal error---\r\n",
        "Out of memory, mymalloc(1242632997), curr 1.07e+09 bytes\r\n",
        "\r\n"
       ]
      },
      {
       "output_type": "stream",
       "stream": "stdout",
       "text": [
        "usearch v7.0.1090_i86osx32, 4.0Gb RAM (15.0Gb total), 4 cores\r\n",
        "(C) Copyright 2013 Robert C. Edgar, all rights reserved.\r\n",
        "http://drive5.com/usearch\r\n",
        "\r\n",
        "Licensed to: sr320@uw.edu\r\n",
        "\r\n"
       ]
      },
      {
       "output_type": "stream",
       "stream": "stdout",
       "text": [
        "00:00 1.9Mb Reading /Volumes/Bay3/usearch/uniprot_sprot.udb\r\n"
       ]
      },
      {
       "output_type": "stream",
       "stream": "stdout",
       "text": [
        "00:02 1.1Gb Database loaded\r\n",
        "00:02 1.1Gb    0.1% Searching, 0.0% matched\r"
       ]
      },
      {
       "output_type": "stream",
       "stream": "stdout",
       "text": [
        "00:03 1.1Gb    1.9% Searching, 0.7% matched\r"
       ]
      },
      {
       "output_type": "stream",
       "stream": "stdout",
       "text": [
        "00:04 1.1Gb    3.5% Searching, 1.8% matched\r"
       ]
      },
      {
       "output_type": "stream",
       "stream": "stdout",
       "text": [
        "00:05 1.1Gb    6.1% Searching, 3.2% matched\r"
       ]
      },
      {
       "output_type": "stream",
       "stream": "stdout",
       "text": [
        "00:06 1.1Gb    9.0% Searching, 3.1% matched\r"
       ]
      },
      {
       "output_type": "stream",
       "stream": "stdout",
       "text": [
        "00:07 1.1Gb   11.6% Searching, 3.2% matched\r"
       ]
      },
      {
       "output_type": "stream",
       "stream": "stdout",
       "text": [
        "00:08 1.1Gb   13.9% Searching, 3.1% matched\r"
       ]
      },
      {
       "output_type": "stream",
       "stream": "stdout",
       "text": [
        "00:09 1.1Gb   16.5% Searching, 2.7% matched\r"
       ]
      },
      {
       "output_type": "stream",
       "stream": "stdout",
       "text": [
        "00:10 1.1Gb   18.6% Searching, 2.9% matched\r"
       ]
      },
      {
       "output_type": "stream",
       "stream": "stdout",
       "text": [
        "00:11 1.1Gb   21.8% Searching, 2.8% matched\r"
       ]
      },
      {
       "output_type": "stream",
       "stream": "stdout",
       "text": [
        "00:12 1.1Gb   24.7% Searching, 2.7% matched\r"
       ]
      },
      {
       "output_type": "stream",
       "stream": "stdout",
       "text": [
        "00:13 1.1Gb   27.8% Searching, 2.7% matched\r"
       ]
      },
      {
       "output_type": "stream",
       "stream": "stdout",
       "text": [
        "00:14 1.1Gb   29.6% Searching, 2.8% matched\r"
       ]
      },
      {
       "output_type": "stream",
       "stream": "stdout",
       "text": [
        "00:15 1.1Gb   30.9% Searching, 3.0% matched\r"
       ]
      },
      {
       "output_type": "stream",
       "stream": "stdout",
       "text": [
        "00:16 1.1Gb   32.2% Searching, 3.0% matched\r"
       ]
      },
      {
       "output_type": "stream",
       "stream": "stdout",
       "text": [
        "00:17 1.1Gb   34.9% Searching, 3.2% matched\r"
       ]
      },
      {
       "output_type": "stream",
       "stream": "stdout",
       "text": [
        "00:18 1.1Gb   38.2% Searching, 3.1% matched\r"
       ]
      },
      {
       "output_type": "stream",
       "stream": "stdout",
       "text": [
        "00:19 1.1Gb   39.9% Searching, 3.2% matched\r"
       ]
      },
      {
       "output_type": "stream",
       "stream": "stdout",
       "text": [
        "00:20 1.1Gb   42.4% Searching, 3.1% matched\r"
       ]
      },
      {
       "output_type": "stream",
       "stream": "stdout",
       "text": [
        "00:21 1.1Gb   45.7% Searching, 3.0% matched\r"
       ]
      },
      {
       "output_type": "stream",
       "stream": "stdout",
       "text": [
        "00:22 1.1Gb   47.8% Searching, 3.0% matched\r"
       ]
      },
      {
       "output_type": "stream",
       "stream": "stdout",
       "text": [
        "00:23 1.1Gb   50.6% Searching, 3.0% matched\r"
       ]
      },
      {
       "output_type": "stream",
       "stream": "stdout",
       "text": [
        "00:24 1.1Gb   53.1% Searching, 2.9% matched\r"
       ]
      },
      {
       "output_type": "stream",
       "stream": "stdout",
       "text": [
        "00:25 1.1Gb   56.0% Searching, 2.9% matched\r"
       ]
      },
      {
       "output_type": "stream",
       "stream": "stdout",
       "text": [
        "00:26 1.1Gb   57.9% Searching, 2.9% matched\r"
       ]
      },
      {
       "output_type": "stream",
       "stream": "stdout",
       "text": [
        "00:27 1.1Gb   59.4% Searching, 2.9% matched\r"
       ]
      },
      {
       "output_type": "stream",
       "stream": "stdout",
       "text": [
        "00:28 1.1Gb   60.9% Searching, 3.0% matched\r"
       ]
      },
      {
       "output_type": "stream",
       "stream": "stdout",
       "text": [
        "00:29 1.1Gb   63.9% Searching, 3.1% matched\r"
       ]
      },
      {
       "output_type": "stream",
       "stream": "stdout",
       "text": [
        "00:30 1.1Gb   66.2% Searching, 3.1% matched\r"
       ]
      },
      {
       "output_type": "stream",
       "stream": "stdout",
       "text": [
        "00:31 1.1Gb   68.7% Searching, 3.1% matched\r"
       ]
      },
      {
       "output_type": "stream",
       "stream": "stdout",
       "text": [
        "00:32 1.1Gb   71.4% Searching, 3.1% matched\r"
       ]
      },
      {
       "output_type": "stream",
       "stream": "stdout",
       "text": [
        "00:33 1.1Gb   73.9% Searching, 3.1% matched\r"
       ]
      },
      {
       "output_type": "stream",
       "stream": "stdout",
       "text": [
        "00:34 1.1Gb   76.4% Searching, 3.1% matched\r"
       ]
      },
      {
       "output_type": "stream",
       "stream": "stdout",
       "text": [
        "00:35 1.1Gb   78.9% Searching, 3.2% matched\r"
       ]
      },
      {
       "output_type": "stream",
       "stream": "stdout",
       "text": [
        "00:36 1.1Gb   81.5% Searching, 3.1% matched\r"
       ]
      },
      {
       "output_type": "stream",
       "stream": "stdout",
       "text": [
        "00:37 1.1Gb   84.2% Searching, 3.2% matched\r"
       ]
      },
      {
       "output_type": "stream",
       "stream": "stdout",
       "text": [
        "00:38 1.1Gb   85.6% Searching, 3.2% matched\r"
       ]
      },
      {
       "output_type": "stream",
       "stream": "stdout",
       "text": [
        "00:39 1.1Gb   88.1% Searching, 3.2% matched\r"
       ]
      },
      {
       "output_type": "stream",
       "stream": "stdout",
       "text": [
        "00:40 1.1Gb   90.7% Searching, 3.2% matched\r"
       ]
      },
      {
       "output_type": "stream",
       "stream": "stdout",
       "text": [
        "00:41 1.1Gb   93.1% Searching, 3.2% matched\r"
       ]
      },
      {
       "output_type": "stream",
       "stream": "stdout",
       "text": [
        "00:42 1.1Gb   95.4% Searching, 3.2% matched\r"
       ]
      },
      {
       "output_type": "stream",
       "stream": "stdout",
       "text": [
        "00:43 1.1Gb   98.0% Searching, 3.3% matched\r"
       ]
      },
      {
       "output_type": "stream",
       "stream": "stdout",
       "text": [
        "00:43 1.1Gb  100.0% Searching, 3.3% matched\r",
        "\r\n"
       ]
      },
      {
       "output_type": "stream",
       "stream": "stdout",
       "text": [
        "usearch v7.0.1090_i86osx32, 4.0Gb RAM (15.0Gb total), 4 cores\r\n",
        "(C) Copyright 2013 Robert C. Edgar, all rights reserved.\r\n",
        "http://drive5.com/usearch\r\n",
        "\r\n",
        "Licensed to: sr320@uw.edu\r\n",
        "\r\n"
       ]
      },
      {
       "output_type": "stream",
       "stream": "stdout",
       "text": [
        "00:00 1.7Mb Reading /Volumes/Bay3/usearch/uniprot_sprot.udb\r\n"
       ]
      },
      {
       "output_type": "stream",
       "stream": "stdout",
       "text": [
        "00:02 1.1Gb Database loaded\r\n"
       ]
      },
      {
       "output_type": "stream",
       "stream": "stdout",
       "text": [
        "00:02 1.1Gb    0.1% Searching, 0.0% matched\r"
       ]
      },
      {
       "output_type": "stream",
       "stream": "stdout",
       "text": [
        "00:03 1.1Gb    3.2% Searching, 4.8% matched\r"
       ]
      },
      {
       "output_type": "stream",
       "stream": "stdout",
       "text": [
        "00:04 1.1Gb    6.0% Searching, 4.1% matched\r"
       ]
      },
      {
       "output_type": "stream",
       "stream": "stdout",
       "text": [
        "00:05 1.1Gb    7.7% Searching, 4.4% matched\r"
       ]
      },
      {
       "output_type": "stream",
       "stream": "stdout",
       "text": [
        "00:06 1.1Gb   10.6% Searching, 4.8% matched\r"
       ]
      },
      {
       "output_type": "stream",
       "stream": "stdout",
       "text": [
        "00:07 1.1Gb   14.5% Searching, 4.2% matched\r"
       ]
      },
      {
       "output_type": "stream",
       "stream": "stdout",
       "text": [
        "00:08 1.1Gb   18.3% Searching, 4.0% matched\r"
       ]
      },
      {
       "output_type": "stream",
       "stream": "stdout",
       "text": [
        "00:09 1.1Gb   21.2% Searching, 4.1% matched\r"
       ]
      },
      {
       "output_type": "stream",
       "stream": "stdout",
       "text": [
        "00:10 1.1Gb   24.7% Searching, 4.3% matched\r"
       ]
      },
      {
       "output_type": "stream",
       "stream": "stdout",
       "text": [
        "00:11 1.1Gb   28.8% Searching, 4.0% matched\r"
       ]
      },
      {
       "output_type": "stream",
       "stream": "stdout",
       "text": [
        "00:12 1.1Gb   32.6% Searching, 3.8% matched\r"
       ]
      },
      {
       "output_type": "stream",
       "stream": "stdout",
       "text": [
        "00:13 1.1Gb   35.3% Searching, 3.8% matched\r"
       ]
      },
      {
       "output_type": "stream",
       "stream": "stdout",
       "text": [
        "00:14 1.1Gb   39.0% Searching, 3.7% matched\r"
       ]
      },
      {
       "output_type": "stream",
       "stream": "stdout",
       "text": [
        "00:15 1.1Gb   42.3% Searching, 3.8% matched\r"
       ]
      },
      {
       "output_type": "stream",
       "stream": "stdout",
       "text": [
        "00:16 1.1Gb   44.5% Searching, 3.8% matched\r"
       ]
      },
      {
       "output_type": "stream",
       "stream": "stdout",
       "text": [
        "00:17 1.1Gb   47.2% Searching, 3.6% matched\r"
       ]
      },
      {
       "output_type": "stream",
       "stream": "stdout",
       "text": [
        "00:18 1.1Gb   49.9% Searching, 3.7% matched\r"
       ]
      },
      {
       "output_type": "stream",
       "stream": "stdout",
       "text": [
        "00:19 1.1Gb   53.7% Searching, 3.6% matched\r"
       ]
      },
      {
       "output_type": "stream",
       "stream": "stdout",
       "text": [
        "00:20 1.1Gb   56.9% Searching, 3.6% matched\r"
       ]
      },
      {
       "output_type": "stream",
       "stream": "stdout",
       "text": [
        "00:21 1.1Gb   60.9% Searching, 3.6% matched\r"
       ]
      },
      {
       "output_type": "stream",
       "stream": "stdout",
       "text": [
        "00:22 1.1Gb   64.6% Searching, 3.6% matched\r"
       ]
      },
      {
       "output_type": "stream",
       "stream": "stdout",
       "text": [
        "00:23 1.1Gb   68.4% Searching, 3.7% matched\r"
       ]
      },
      {
       "output_type": "stream",
       "stream": "stdout",
       "text": [
        "00:24 1.1Gb   71.4% Searching, 3.7% matched\r"
       ]
      },
      {
       "output_type": "stream",
       "stream": "stdout",
       "text": [
        "00:25 1.1Gb   74.1% Searching, 3.7% matched\r"
       ]
      },
      {
       "output_type": "stream",
       "stream": "stdout",
       "text": [
        "00:26 1.1Gb   78.1% Searching, 3.6% matched\r"
       ]
      },
      {
       "output_type": "stream",
       "stream": "stdout",
       "text": [
        "usearch(75539,0xac31a2c0) malloc: *** mmap(size=1123594240) failed (error code=12)\r\n",
        "*** error: can't allocate region\r\n",
        "*** set a breakpoint in malloc_error_break to debug\r\n",
        "\r\n",
        "Out of memory mymalloc(1123590396), curr 1.07e+09 bytes\r\n",
        "\r\n",
        "myutils.cpp(2212): \r\n",
        "\r\n",
        "usearch -ublast cgigas.part-82.fa -db /Volumes/Bay3/usearch/uniprot_sprot.udb -evalue 1e-5 -accel 0.8 -top_hits_only -maxhits 1 -blast6out /Volumes/web/cnidarian/cgigas8_cgigas.part-82.fa_ublast_sprot.b6\r\n",
        "\r\n",
        "---Fatal error---\r\n",
        "Out of memory, mymalloc(1123590396), curr 1.07e+09 bytes\r\n",
        "\r\n"
       ]
      },
      {
       "output_type": "stream",
       "stream": "stdout",
       "text": [
        "usearch v7.0.1090_i86osx32, 4.0Gb RAM (15.0Gb total), 4 cores\r\n",
        "(C) Copyright 2013 Robert C. Edgar, all rights reserved.\r\n",
        "http://drive5.com/usearch\r\n",
        "\r\n",
        "Licensed to: sr320@uw.edu\r\n",
        "\r\n"
       ]
      },
      {
       "output_type": "stream",
       "stream": "stdout",
       "text": [
        "00:00 1.2Mb Reading /Volumes/Bay3/usearch/uniprot_sprot.udb\r\n"
       ]
      },
      {
       "output_type": "stream",
       "stream": "stdout",
       "text": [
        "00:02 1.1Gb Database loaded\r\n",
        "00:02 1.1Gb    0.1% Searching, 0.0% matched\r"
       ]
      },
      {
       "output_type": "stream",
       "stream": "stdout",
       "text": [
        "00:03 1.1Gb   11.7% Searching, 0.8% matched\r"
       ]
      },
      {
       "output_type": "stream",
       "stream": "stdout",
       "text": [
        "00:04 1.1Gb   22.2% Searching, 2.7% matched\r"
       ]
      },
      {
       "output_type": "stream",
       "stream": "stdout",
       "text": [
        "00:05 1.1Gb   33.8% Searching, 2.5% matched\r"
       ]
      },
      {
       "output_type": "stream",
       "stream": "stdout",
       "text": [
        "00:06 1.1Gb   46.9% Searching, 2.6% matched\r"
       ]
      },
      {
       "output_type": "stream",
       "stream": "stdout",
       "text": [
        "00:07 1.1Gb   59.6% Searching, 2.7% matched\r"
       ]
      },
      {
       "output_type": "stream",
       "stream": "stdout",
       "text": [
        "00:08 1.1Gb   72.8% Searching, 3.1% matched\r"
       ]
      },
      {
       "output_type": "stream",
       "stream": "stdout",
       "text": [
        "00:09 1.1Gb   83.6% Searching, 3.0% matched\r"
       ]
      },
      {
       "output_type": "stream",
       "stream": "stdout",
       "text": [
        "00:10 1.1Gb   98.0% Searching, 2.8% matched\r"
       ]
      },
      {
       "output_type": "stream",
       "stream": "stdout",
       "text": [
        "00:10 1.1Gb  100.0% Searching, 2.8% matched\r",
        "\r\n"
       ]
      },
      {
       "output_type": "stream",
       "stream": "stdout",
       "text": [
        "CPU times: user 22.2 s, sys: 5.51 s, total: 27.7 s\n",
        "Wall time: 51min 16s\n"
       ]
      }
     ],
     "prompt_number": 45
    },
    {
     "cell_type": "code",
     "collapsed": false,
     "input": [
      "%%time\n",
      "for i in (\"cgigas.part-01.fa\",\"cgigas.part-02.fa\",\"cgigas.part-03.fa\",\"cgigas.part-04.fa\",\"cgigas.part-05.fa\",\"cgigas.part-06.fa\",\"cgigas.part-07.fa\",\"cgigas.part-08.fa\",\"cgigas.part-09.fa\",\"cgigas.part-10.fa\",\"cgigas.part-11.fa\",\"cgigas.part-12.fa\",\"cgigas.part-13.fa\",\"cgigas.part-14.fa\",\"cgigas.part-15.fa\",\"cgigas.part-16.fa\",\"cgigas.part-17.fa\",\"cgigas.part-18.fa\",\"cgigas.part-19.fa\",\"cgigas.part-20.fa\",\"cgigas.part-21.fa\",\"cgigas.part-22.fa\",\"cgigas.part-23.fa\",\"cgigas.part-24.fa\",\"cgigas.part-25.fa\",\"cgigas.part-26.fa\",\"cgigas.part-27.fa\",\"cgigas.part-28.fa\",\"cgigas.part-29.fa\",\"cgigas.part-30.fa\",\"cgigas.part-31.fa\",\"cgigas.part-32.fa\",\"cgigas.part-33.fa\",\"cgigas.part-34.fa\",\"cgigas.part-35.fa\",\"cgigas.part-36.fa\",\"cgigas.part-37.fa\",\"cgigas.part-38.fa\",\"cgigas.part-39.fa\",\"cgigas.part-40.fa\",\"cgigas.part-41.fa\",\"cgigas.part-42.fa\",\"cgigas.part-43.fa\",\"cgigas.part-44.fa\",\"cgigas.part-45.fa\",\"cgigas.part-46.fa\",\"cgigas.part-47.fa\",\"cgigas.part-48.fa\",\"cgigas.part-49.fa\",\"cgigas.part-50.fa\",\"cgigas.part-51.fa\",\"cgigas.part-52.fa\",\"cgigas.part-53.fa\",\"cgigas.part-54.fa\",\"cgigas.part-55.fa\",\"cgigas.part-56.fa\",\"cgigas.part-57.fa\",\"cgigas.part-58.fa\",\"cgigas.part-59.fa\",\"cgigas.part-60.fa\",\"cgigas.part-61.fa\",\"cgigas.part-62.fa\",\"cgigas.part-63.fa\",\"cgigas.part-64.fa\",\"cgigas.part-65.fa\",\"cgigas.part-66.fa\",\"cgigas.part-67.fa\",\"cgigas.part-68.fa\",\"cgigas.part-69.fa\",\"cgigas.part-70.fa\",\"cgigas.part-71.fa\",\"cgigas.part-72.fa\",\"cgigas.part-73.fa\",\"cgigas.part-74.fa\",\"cgigas.part-75.fa\",\"cgigas.part-76.fa\",\"cgigas.part-77.fa\",\"cgigas.part-78.fa\",\"cgigas.part-79.fa\",\"cgigas.part-80.fa\",\"cgigas.part-81.fa\",\"cgigas.part-82.fa\",\"cgigas.part-83.fa\"):\n",
      "    !/Volumes/Bay3/Software/ncbi-blast-2.2.29+/bin/blastx \\\n",
      "-query {i} \\\n",
      "-db /Volumes/Bay3/Software/ncbi-blast-2.2.28+/db/uniprot_sprot \\\n",
      "-evalue 1e-5 \\\n",
      "-max_target_seqs 1 \\\n",
      "-max_hsps 1 \\\n",
      "-outfmt 6 \\\n",
      "-num_threads 2 \\\n",
      "-out /Volumes/Bay3/usearch/ncbi_{i}.results.b6"
     ],
     "language": "python",
     "metadata": {},
     "outputs": []
    },
    {
     "cell_type": "heading",
     "level": 2,
     "metadata": {},
     "source": [
      "Split them up even more"
     ]
    },
    {
     "cell_type": "code",
     "collapsed": false,
     "input": [
      "pwd"
     ],
     "language": "python",
     "metadata": {},
     "outputs": []
    },
    {
     "cell_type": "code",
     "collapsed": false,
     "input": [
      "!perl /Volumes/Bay3/Software/fasta-splitter.pl --part-size 1000 --measure count /Volumes/Bay3/usearch/cgigas.fa "
     ],
     "language": "python",
     "metadata": {},
     "outputs": []
    }
   ],
   "metadata": {}
  }
 ]
}