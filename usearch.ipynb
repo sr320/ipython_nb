{
 "metadata": {
  "name": "",
  "signature": "sha256:192d7e30b65873e7b352b28afd6dba69929611a36247a5e6426bc5338bb3514a"
 },
 "nbformat": 3,
 "nbformat_minor": 0,
 "worksheets": [
  {
   "cells": [
    {
     "cell_type": "code",
     "collapsed": false,
     "input": [
      "!usearch"
     ],
     "language": "python",
     "metadata": {},
     "outputs": [
      {
       "output_type": "stream",
       "stream": "stdout",
       "text": [
        "usearch v7.0.1090_i86osx32, 4.0Gb RAM (15.0Gb total), 4 cores\r\n",
        "(C) Copyright 2013 Robert C. Edgar, all rights reserved.\r\n",
        "http://drive5.com/usearch\r\n",
        "\r\n",
        "Licensed to: sr320@uw.edu\r\n",
        "\r\n"
       ]
      }
     ],
     "prompt_number": 1
    },
    {
     "cell_type": "markdown",
     "metadata": {},
     "source": [
      "<img src=\"http://eagle.fish.washington.edu/cnidarian/skitch/usearch_1A0D1FC8.png\" alt=\"usearch_1A0D1FC8.png\"/>"
     ]
    },
    {
     "cell_type": "code",
     "collapsed": false,
     "input": [
      "!usearch -makeudb_ublast /Volumes/Bay3/Software/ncbi-blast-2.2.29+/db/uniprot_sprot.fasta -output /Volumes/Bay3/usearch/uniprot_sprot.udb"
     ],
     "language": "python",
     "metadata": {},
     "outputs": [
      {
       "output_type": "stream",
       "stream": "stdout",
       "text": [
        "usearch v7.0.1090_i86osx32, 4.0Gb RAM (15.0Gb total), 4 cores\r\n",
        "(C) Copyright 2013 Robert C. Edgar, all rights reserved.\r\n",
        "http://drive5.com/usearch\r\n",
        "\r\n",
        "Licensed to: sr320@uw.edu\r\n",
        "\r\n"
       ]
      },
      {
       "output_type": "stream",
       "stream": "stdout",
       "text": [
        "00:00 983.0kb Reading input\r\n"
       ]
      },
      {
       "output_type": "stream",
       "stream": "stdout",
       "text": [
        "\r\n",
        "\r\n",
        "sfasta.cpp(123): \r\n",
        "WARNING: 29 invalid letters in FASTA\r\n",
        "\r\n",
        "00:03 282Mb    0.0% Masking\r"
       ]
      },
      {
       "output_type": "stream",
       "stream": "stdout",
       "text": [
        "00:04 282Mb    3.0% Masking\r"
       ]
      },
      {
       "output_type": "stream",
       "stream": "stdout",
       "text": [
        "00:05 282Mb   15.4% Masking\r"
       ]
      },
      {
       "output_type": "stream",
       "stream": "stdout",
       "text": [
        "00:06 282Mb   27.5% Masking\r"
       ]
      },
      {
       "output_type": "stream",
       "stream": "stdout",
       "text": [
        "00:07 282Mb   39.8% Masking\r"
       ]
      },
      {
       "output_type": "stream",
       "stream": "stdout",
       "text": [
        "00:08 282Mb   52.0% Masking\r"
       ]
      },
      {
       "output_type": "stream",
       "stream": "stdout",
       "text": [
        "00:09 282Mb   67.6% Masking\r"
       ]
      },
      {
       "output_type": "stream",
       "stream": "stdout",
       "text": [
        "00:10 282Mb   81.8% Masking\r"
       ]
      },
      {
       "output_type": "stream",
       "stream": "stdout",
       "text": [
        "00:11 282Mb   94.9% Masking\r"
       ]
      },
      {
       "output_type": "stream",
       "stream": "stdout",
       "text": [
        "00:11 282Mb  100.0% Masking\r",
        "\r\n",
        "00:11 286Mb    0.0% Word stats\r"
       ]
      },
      {
       "output_type": "stream",
       "stream": "stdout",
       "text": [
        "00:12 286Mb    4.2% Word stats\r"
       ]
      },
      {
       "output_type": "stream",
       "stream": "stdout",
       "text": [
        "00:13 286Mb   11.6% Word stats\r"
       ]
      },
      {
       "output_type": "stream",
       "stream": "stdout",
       "text": [
        "00:14 286Mb   19.4% Word stats\r"
       ]
      },
      {
       "output_type": "stream",
       "stream": "stdout",
       "text": [
        "00:15 286Mb   27.2% Word stats\r"
       ]
      },
      {
       "output_type": "stream",
       "stream": "stdout",
       "text": [
        "00:16 286Mb   35.5% Word stats\r"
       ]
      },
      {
       "output_type": "stream",
       "stream": "stdout",
       "text": [
        "00:17 286Mb   43.0% Word stats\r"
       ]
      },
      {
       "output_type": "stream",
       "stream": "stdout",
       "text": [
        "00:18 286Mb   51.9% Word stats\r"
       ]
      },
      {
       "output_type": "stream",
       "stream": "stdout",
       "text": [
        "00:19 286Mb   60.2% Word stats\r"
       ]
      },
      {
       "output_type": "stream",
       "stream": "stdout",
       "text": [
        "00:20 286Mb   76.0% Word stats\r"
       ]
      },
      {
       "output_type": "stream",
       "stream": "stdout",
       "text": [
        "00:21 286Mb   83.5% Word stats\r"
       ]
      },
      {
       "output_type": "stream",
       "stream": "stdout",
       "text": [
        "00:22 286Mb   92.6% Word stats\r"
       ]
      },
      {
       "output_type": "stream",
       "stream": "stdout",
       "text": [
        "00:22 286Mb  100.0% Word stats\r",
        "\r\n",
        "00:22 290Mb    0.0% Building slots\r"
       ]
      },
      {
       "output_type": "stream",
       "stream": "stdout",
       "text": [
        "00:23 300Mb   80.1% Building slots\r"
       ]
      },
      {
       "output_type": "stream",
       "stream": "stdout",
       "text": [
        "00:23 303Mb  100.0% Building slots\r",
        "\r\n",
        "00:23 303Mb    0.0% Build index   \r"
       ]
      },
      {
       "output_type": "stream",
       "stream": "stdout",
       "text": [
        "00:24 806Mb    0.6% Build index\r"
       ]
      },
      {
       "output_type": "stream",
       "stream": "stdout",
       "text": [
        "00:25 895Mb    2.1% Build index\r"
       ]
      },
      {
       "output_type": "stream",
       "stream": "stdout",
       "text": [
        "0"
       ]
      },
      {
       "output_type": "stream",
       "stream": "stdout",
       "text": [
        "0:26 904Mb    4.2% Build index\r"
       ]
      },
      {
       "output_type": "stream",
       "stream": "stdout",
       "text": [
        "00:27 914Mb    6.4% Build index\r"
       ]
      },
      {
       "output_type": "stream",
       "stream": "stdout",
       "text": [
        "00:28 922Mb    8.6% Build index\r"
       ]
      },
      {
       "output_type": "stream",
       "stream": "stdout",
       "text": [
        "00:29 930Mb   10.5% Build index\r"
       ]
      },
      {
       "output_type": "stream",
       "stream": "stdout",
       "text": [
        "00:30 940Mb   13.0% Build index\r"
       ]
      },
      {
       "output_type": "stream",
       "stream": "stdout",
       "text": [
        "00:31 949Mb   15.6% Build index\r"
       ]
      },
      {
       "output_type": "stream",
       "stream": "stdout",
       "text": [
        "00:32 956Mb   17.8% Build index\r"
       ]
      },
      {
       "output_type": "stream",
       "stream": "stdout",
       "text": [
        "00:33 965Mb   19.4% Build index\r"
       ]
      },
      {
       "output_type": "stream",
       "stream": "stdout",
       "text": [
        "00:34 974Mb   21.3% Build index\r"
       ]
      },
      {
       "output_type": "stream",
       "stream": "stdout",
       "text": [
        "00:35 981Mb   23.5% Build index\r"
       ]
      },
      {
       "output_type": "stream",
       "stream": "stdout",
       "text": [
        "00:36 989Mb   25.8% Build index\r"
       ]
      },
      {
       "output_type": "stream",
       "stream": "stdout",
       "text": [
        "00:37 995Mb   27.3% Build index\r"
       ]
      },
      {
       "output_type": "stream",
       "stream": "stdout",
       "text": [
        "00:38 1.0Gb   29.4% Build index\r"
       ]
      },
      {
       "output_type": "stream",
       "stream": "stdout",
       "text": [
        "00:39 1.0Gb   32.1% Build index\r"
       ]
      },
      {
       "output_type": "stream",
       "stream": "stdout",
       "text": [
        "00:40 1.0Gb   34.4% Build index\r"
       ]
      },
      {
       "output_type": "stream",
       "stream": "stdout",
       "text": [
        "00:41 1.0Gb   36.6% Build index\r"
       ]
      },
      {
       "output_type": "stream",
       "stream": "stdout",
       "text": [
        "00:42 1.0Gb   38.9% Build index\r"
       ]
      },
      {
       "output_type": "stream",
       "stream": "stdout",
       "text": [
        "00:43 1.0Gb   40.9% Build index\r"
       ]
      },
      {
       "output_type": "stream",
       "stream": "stdout",
       "text": [
        "00:44 1.0Gb   42.7% Build index\r"
       ]
      },
      {
       "output_type": "stream",
       "stream": "stdout",
       "text": [
        "00:45 1.0Gb   44.5% Build index\r"
       ]
      },
      {
       "output_type": "stream",
       "stream": "stdout",
       "text": [
        "00:46 1.1Gb   46.1% Build index\r"
       ]
      },
      {
       "output_type": "stream",
       "stream": "stdout",
       "text": [
        "00:47 1.1Gb   47.9% Build index\r"
       ]
      },
      {
       "output_type": "stream",
       "stream": "stdout",
       "text": [
        "00:48 1.1Gb   50.7% Build index\r"
       ]
      },
      {
       "output_type": "stream",
       "stream": "stdout",
       "text": [
        "00:49 1.1Gb   52.6% Build index\r"
       ]
      },
      {
       "output_type": "stream",
       "stream": "stdout",
       "text": [
        "00:50 1.1Gb   54.7% Build index\r"
       ]
      },
      {
       "output_type": "stream",
       "stream": "stdout",
       "text": [
        "00:51 1.1Gb   56.2% Build index\r"
       ]
      },
      {
       "output_type": "stream",
       "stream": "stdout",
       "text": [
        "00:52 1.1Gb   58.9% Build index\r"
       ]
      },
      {
       "output_type": "stream",
       "stream": "stdout",
       "text": [
        "00:53 1.1Gb   61.1% Build index\r"
       ]
      },
      {
       "output_type": "stream",
       "stream": "stdout",
       "text": [
        "00:54 1.1Gb   67.3% Build index\r"
       ]
      },
      {
       "output_type": "stream",
       "stream": "stdout",
       "text": [
        "00:55 1.1Gb   70.3% Build index\r"
       ]
      },
      {
       "output_type": "stream",
       "stream": "stdout",
       "text": [
        "00:56 1.1Gb   75.3% Build index\r"
       ]
      },
      {
       "output_type": "stream",
       "stream": "stdout",
       "text": [
        "00:57 1.1Gb   77.0% Build index\r"
       ]
      },
      {
       "output_type": "stream",
       "stream": "stdout",
       "text": [
        "00:58 1.1Gb   78.3% Build index\r"
       ]
      },
      {
       "output_type": "stream",
       "stream": "stdout",
       "text": [
        "00:59 1.1Gb   80.1% Build index\r"
       ]
      },
      {
       "output_type": "stream",
       "stream": "stdout",
       "text": [
        "01:00 1.1Gb   81.6% Build index\r"
       ]
      },
      {
       "output_type": "stream",
       "stream": "stdout",
       "text": [
        "01:01 1.1Gb   82.9% Build index\r"
       ]
      },
      {
       "output_type": "stream",
       "stream": "stdout",
       "text": [
        "01:02 1.1Gb   84.6% Build index\r"
       ]
      },
      {
       "output_type": "stream",
       "stream": "stdout",
       "text": [
        "01:03 1.1Gb   86.1% Build index\r"
       ]
      },
      {
       "output_type": "stream",
       "stream": "stdout",
       "text": [
        "01:04 1.1Gb   87.7% Build index\r"
       ]
      },
      {
       "output_type": "stream",
       "stream": "stdout",
       "text": [
        "01:05 1.1Gb   89.6% Build index\r"
       ]
      },
      {
       "output_type": "stream",
       "stream": "stdout",
       "text": [
        "01:06 1.1Gb   91.1% Build index\r"
       ]
      },
      {
       "output_type": "stream",
       "stream": "stdout",
       "text": [
        "01:07 1.1Gb   92.4% Build index\r"
       ]
      },
      {
       "output_type": "stream",
       "stream": "stdout",
       "text": [
        "01:08 1.1Gb   94.3% Build index\r"
       ]
      },
      {
       "output_type": "stream",
       "stream": "stdout",
       "text": [
        "01:09 1.1Gb   96.4% Build index\r"
       ]
      },
      {
       "output_type": "stream",
       "stream": "stdout",
       "text": [
        "01:10 1.1Gb   99.0% Build index\r"
       ]
      },
      {
       "output_type": "stream",
       "stream": "stdout",
       "text": [
        "01:10 1.1Gb  100.0% Build index\r",
        "\r\n"
       ]
      },
      {
       "output_type": "stream",
       "stream": "stdout",
       "text": [
        "01:10 1.1Gb    0.0% Rows       \r"
       ]
      },
      {
       "output_type": "stream",
       "stream": "stdout",
       "text": [
        "01:11 1.1Gb    2.0% Rows\r"
       ]
      },
      {
       "output_type": "stream",
       "stream": "stdout",
       "text": [
        "01:12 1.1Gb   11.9% Rows\r"
       ]
      },
      {
       "output_type": "stream",
       "stream": "stdout",
       "text": [
        "01:13 1.1Gb   21.0% Rows\r"
       ]
      },
      {
       "output_type": "stream",
       "stream": "stdout",
       "text": [
        "01:14 1.1Gb   26.3% Rows\r"
       ]
      },
      {
       "output_type": "stream",
       "stream": "stdout",
       "text": [
        "01:15 1.1Gb   42.0% Rows\r"
       ]
      },
      {
       "output_type": "stream",
       "stream": "stdout",
       "text": [
        "01:16 1.1Gb   61.2% Rows\r"
       ]
      },
      {
       "output_type": "stream",
       "stream": "stdout",
       "text": [
        "01:17 1.1Gb   66.1% Rows\r"
       ]
      },
      {
       "output_type": "stream",
       "stream": "stdout",
       "text": [
        "01:18 1.1Gb   69.7% Rows\r"
       ]
      },
      {
       "output_type": "stream",
       "stream": "stdout",
       "text": [
        "01:19 1.1Gb   79.5% Rows\r"
       ]
      },
      {
       "output_type": "stream",
       "stream": "stdout",
       "text": [
        "01:20 1.1Gb   94.7% Rows\r"
       ]
      },
      {
       "output_type": "stream",
       "stream": "stdout",
       "text": [
        "01:20 1.1Gb  100.0% Rows\r",
        "\r\n",
        "01:20 1.1Gb Buffers     \r\n"
       ]
      },
      {
       "output_type": "stream",
       "stream": "stdout",
       "text": [
        "01:20 1.1Gb    0.0% Seqs\r"
       ]
      },
      {
       "output_type": "stream",
       "stream": "stdout",
       "text": [
        "01:21 1.1Gb    8.0% Seqs\r"
       ]
      },
      {
       "output_type": "stream",
       "stream": "stdout",
       "text": [
        "01:22 1.1Gb   48.1% Seqs\r"
       ]
      },
      {
       "output_type": "stream",
       "stream": "stdout",
       "text": [
        "01:23 1.1Gb   94.9% Seqs\r",
        "01:23 1.1Gb  100.0% Seqs\r",
        "\r\n"
       ]
      },
      {
       "output_type": "stream",
       "stream": "stdout",
       "text": [
        "01:23 1.1Gb 100.0% completed, split 1 (542.0k seqs)\r\n",
        "01:23 1.1Gb Total 1 splits, 542.0k seqs\r\n"
       ]
      }
     ],
     "prompt_number": 12
    },
    {
     "cell_type": "code",
     "collapsed": false,
     "input": [
      "!usearch -udbinfo /Volumes/Bay3/usearch/uniprot_sprot.udb\n"
     ],
     "language": "python",
     "metadata": {},
     "outputs": [
      {
       "output_type": "stream",
       "stream": "stdout",
       "text": [
        "usearch v7.0.1090_i86osx32, 4.0Gb RAM (15.0Gb total), 4 cores\r\n",
        "(C) Copyright 2013 Robert C. Edgar, all rights reserved.\r\n",
        "http://drive5.com/usearch\r\n",
        "\r\n",
        "Licensed to: sr320@uw.edu\r\n",
        "\r\n",
        "         Splits  1\r\n",
        "           Seqs  541954 (542.0k)\r\n",
        "         Hashed  0\r\n",
        "     SeqIx bits  21\r\n",
        "    SeqPos bits  11\r\n",
        "          Alpha  A,KR,DENQ,C,G,H,ILMV,FWY,P,ST (10)\r\n",
        "        Pattern  \"10111011\" (6,8)\r\n",
        "     Word width  0\r\n",
        "          Slots  0\r\n",
        "      Dict size  1000000 (1.0M)\r\n",
        "         DBStep  1\r\n",
        "     StepPrefix  \"\"\r\n",
        "        DBAccel  100%\r\n",
        "          Split  1, 964.6M bytes\r\n"
       ]
      }
     ],
     "prompt_number": 13
    },
    {
     "cell_type": "code",
     "collapsed": false,
     "input": [
      "%%time\n",
      "!usearch -ublast /Volumes/web/scaphapoda/Grace/Transcriptomes/mer_tst/query.fa \\\n",
      "-db /Volumes/Bay3/usearch/uniprot_sprot.udb \\\n",
      "-evalue 1e-5 \\\n",
      "-accel 0.9 \\\n",
      "-top_hits_only \\\n",
      "-maxhits 1 \\\n",
      "-blast6out /Volumes/Bay3/usearch/results.b6\n"
     ],
     "language": "python",
     "metadata": {},
     "outputs": [
      {
       "output_type": "stream",
       "stream": "stdout",
       "text": [
        "usearch v7.0.1090_i86osx32, 4.0Gb RAM (15.0Gb total), 4 cores\r\n",
        "(C) Copyright 2013 Robert C. Edgar, all rights reserved.\r\n",
        "http://drive5.com/usearch\r\n",
        "\r\n",
        "Licensed to: sr320@uw.edu\r\n",
        "\r\n",
        "00:00 1.0Mb Reading /Volumes/Bay3/usearch/uniprot_sprot.udb\r\n"
       ]
      },
      {
       "output_type": "stream",
       "stream": "stdout",
       "text": [
        "00:02 1.1Gb Database loaded\r\n",
        "00:02 1.1Gb    0.1% Searching, 0.0% matched\r"
       ]
      },
      {
       "output_type": "stream",
       "stream": "stdout",
       "text": [
        "00:03 1.1Gb   95.5% Searching, 7.0% matched\r"
       ]
      },
      {
       "output_type": "stream",
       "stream": "stdout",
       "text": [
        "00:03 1.1Gb  100.0% Searching, 6.3% matched\r",
        "\r\n"
       ]
      },
      {
       "output_type": "stream",
       "stream": "stdout",
       "text": [
        "CPU times: user 26.2 ms, sys: 14.6 ms, total: 40.8 ms\n",
        "Wall time: 3.47 s\n"
       ]
      }
     ],
     "prompt_number": 63
    },
    {
     "cell_type": "code",
     "collapsed": false,
     "input": [
      "!head /Volumes/Bay3/usearch/results.b6\n"
     ],
     "language": "python",
     "metadata": {},
     "outputs": [
      {
       "output_type": "stream",
       "stream": "stdout",
       "text": [
        "Mmercenaria_Contig_2\tsp|Q6DRI1|EI3EA_DANRE\t72.9\t70\t19\t0\t2\t211\t113\t182\t2.5e-24\t112.1\r\n",
        "Mmercenaria_Contig_9\tsp|A8WGF4|IF122_XENTR\t67.2\t67\t22\t0\t1\t201\t894\t960\t6.4e-20\t97.4\r\n",
        "Mmercenaria_Contig_11\tsp|Q3SZI6|RPN2_BOVIN\t32.4\t71\t48\t0\t2\t214\t223\t293\t4.2e-06\t51.6\r\n",
        "Mmercenaria_Contig_21\tsp|Q95JL5|WDR16_MACFA\t65.0\t80\t28\t0\t5\t244\t467\t546\t1.6e-25\t116.3\r\n",
        "Mmercenaria_Contig_20\tsp|Q7Z7J7|LHPL4_HUMAN\t43.3\t67\t38\t0\t18\t218\t4\t70\t1.1e-11\t70.1\r\n",
        "Mmercenaria_Contig_23\tsp|Q90512|ODO2_TAKRU\t62.3\t77\t29\t0\t2\t232\t27\t103\t5.6e-22\t104.4\r\n",
        "Mmercenaria_Contig_24\tsp|Q29RL1|CF165_BOVIN\t72.4\t76\t21\t0\t1\t228\t64\t139\t1.8e-25\t115.9\r\n",
        "Mmercenaria_Contig_32\tsp|Q54YM7|TM2D2_DICDI\t57.4\t54\t23\t0\t6\t167\t58\t111\t4e-11\t68.6\r\n",
        "Mmercenaria_Contig_37\tsp|P50579|MAP2_HUMAN\t85.9\t92\t13\t0\t2\t277\t338\t429\t3.8e-41\t168.3\r\n",
        "Mmercenaria_Contig_36\tsp|O14508|SOCS2_HUMAN\t39.7\t146\t75\t2\t3\t440\t64\t196\t8.3e-22\t104.8\r\n"
       ]
      }
     ],
     "prompt_number": 64
    },
    {
     "cell_type": "code",
     "collapsed": false,
     "input": [
      "!wc -l /Volumes/Bay3/usearch/results.b6"
     ],
     "language": "python",
     "metadata": {},
     "outputs": [
      {
       "output_type": "stream",
       "stream": "stdout",
       "text": [
        "      10 /Volumes/Bay3/usearch/results.b6\r\n"
       ]
      }
     ],
     "prompt_number": 65
    },
    {
     "cell_type": "code",
     "collapsed": false,
     "input": [
      "%%time\n",
      "!/Volumes/Bay3/Software/ncbi-blast-2.2.29+/bin/blastx \\\n",
      "-query /Volumes/web/scaphapoda/Grace/Transcriptomes/mer_tst/query.fa \\\n",
      "-db /Volumes/Bay3/Software/ncbi-blast-2.2.28+/db/uniprot_sprot \\\n",
      "-evalue 1e-5 \\\n",
      "-max_target_seqs 1 \\\n",
      "-outfmt 6 \\\n",
      "-num_threads 2 \\\n",
      "-out /Volumes/Bay3/usearch/ncbi_results.b6"
     ],
     "language": "python",
     "metadata": {},
     "outputs": [
      {
       "output_type": "stream",
       "stream": "stdout",
       "text": [
        "CPU times: user 173 ms, sys: 43.1 ms, total: 216 ms\n",
        "Wall time: 30.9 s\n"
       ]
      }
     ],
     "prompt_number": 66
    },
    {
     "cell_type": "code",
     "collapsed": false,
     "input": [
      "!head /Volumes/Bay3/usearch/ncbi_results.b6\n"
     ],
     "language": "python",
     "metadata": {},
     "outputs": [
      {
       "output_type": "stream",
       "stream": "stdout",
       "text": [
        "Mmercenaria_Contig_2\tsp|Q6DRI1|EI3EA_DANRE\t75.00\t68\t17\t0\t5\t208\t114\t181\t2e-29\t  112\r\n",
        "Mmercenaria_Contig_9\tsp|A8WGF4|IF122_XENTR\t67.16\t67\t22\t0\t1\t201\t894\t960\t6e-24\t99.4\r\n",
        "Mmercenaria_Contig_20\tsp|Q7Z7J7|LHPL4_HUMAN\t48.33\t60\t31\t0\t24\t203\t6\t65\t2e-15\t71.6\r\n",
        "Mmercenaria_Contig_21\tsp|Q95JL5|WDR16_MACFA\t65.00\t80\t28\t0\t5\t244\t467\t546\t5e-30\t  115\r\n",
        "Mmercenaria_Contig_23\tsp|Q90512|ODO2_TAKRU\t62.34\t77\t29\t0\t2\t232\t27\t103\t1e-26\t  103\r\n",
        "Mmercenaria_Contig_24\tsp|Q6PE87|CF165_MOUSE\t73.68\t76\t20\t0\t1\t228\t64\t139\t1e-31\t  119\r\n",
        "Mmercenaria_Contig_32\tsp|Q9GPR3|TM2D1_DICDI\t56.60\t53\t23\t0\t6\t164\t9\t61\t3e-12\t62.8\r\n",
        "Mmercenaria_Contig_36\tsp|O14508|SOCS2_HUMAN\t40.28\t144\t73\t2\t9\t440\t66\t196\t2e-25\t  102\r\n",
        "Mmercenaria_Contig_37\tsp|P50579|MAP2_HUMAN\t85.87\t92\t13\t0\t2\t277\t338\t429\t2e-51\t  173\r\n"
       ]
      }
     ],
     "prompt_number": 67
    },
    {
     "cell_type": "code",
     "collapsed": false,
     "input": [
      "!wc -l /Volumes/Bay3/usearch/ncbi_results.b6"
     ],
     "language": "python",
     "metadata": {},
     "outputs": [
      {
       "output_type": "stream",
       "stream": "stdout",
       "text": [
        "       9 /Volumes/Bay3/usearch/ncbi_results.b6\r\n"
       ]
      }
     ],
     "prompt_number": 68
    },
    {
     "cell_type": "code",
     "collapsed": false,
     "input": [],
     "language": "python",
     "metadata": {},
     "outputs": []
    }
   ],
   "metadata": {}
  }
 ]
}