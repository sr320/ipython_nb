{
 "metadata": {
  "name": "",
  "signature": "sha256:3bbad795cc0493056719444388f74de3b7f6dbd610fc10b7e2074c3a8f1f5c9d"
 },
 "nbformat": 3,
 "nbformat_minor": 0,
 "worksheets": [
  {
   "cells": [
    {
     "cell_type": "code",
     "collapsed": false,
     "input": [
      "!ngsplotdb.py list"
     ],
     "language": "python",
     "metadata": {},
     "outputs": [
      {
       "output_type": "stream",
       "stream": "stdout",
       "text": [
        "ID   Assembly Species              EnsVer   NPVer    \r\n",
        "hg19 GRCh37   homo_sapiens         71.0     1.01     \r\n",
        "mm9  NCBIM37  mus_musculus         67.0     1.01     \r\n",
        "rn4  RGSC3.4  rattus_norvegicus    69.0     1.01     \r\n"
       ]
      }
     ],
     "prompt_number": 10
    },
    {
     "cell_type": "code",
     "collapsed": false,
     "input": [
      "!ngsplotdb.py install /Users/steven/Downloads/ngsplotdb_GCA000297895_22_3.00.tar.gz"
     ],
     "language": "python",
     "metadata": {},
     "outputs": [
      {
       "output_type": "stream",
       "stream": "stdout",
       "text": [
        "Extracting information from package..."
       ]
      },
      {
       "output_type": "stream",
       "stream": "stdout",
       "text": [
        " contains 12 tables.\r\n"
       ]
      },
      {
       "output_type": "stream",
       "stream": "stdout",
       "text": [
        "Will install new genome GCA000297895: Ensembl=> v22.0; ngs.plot=> v3.0. Continue?(y/n): "
       ]
      },
      {
       "output_type": "stream",
       "stream": "stdout",
       "text": [
        "^CTraceback (most recent call last):\r\n",
        "  File \"/usr/local/bioinformatics/ngsplot/bin/ngsplotdb.py\", line 551, in <module>\r\n",
        "    args.func(root_path, args)\r\n",
        "  File \"/usr/local/bioinformatics/ngsplot/bin/ngsplotdb.py\", line 291, in install\r\n",
        "    ans = raw_input(\"Continue?(y/n): \")\r\n",
        "KeyboardInterrupt\r\n",
        "\r\n"
       ]
      }
     ],
     "prompt_number": 11
    },
    {
     "cell_type": "code",
     "collapsed": false,
     "input": [
      "ngsplotdb.py install ngsplotdb_hg19_71_2.0.tar.gz  # Install reference genome from a package file.\n",
      "ngsplotdb.py remove hg19  # Remove installed genome.\n",
      "ngsplotdb.py remove --ftr enhancer hg19  # Remove enhancer installation from hg19.\n"
     ],
     "language": "python",
     "metadata": {},
     "outputs": []
    },
    {
     "cell_type": "code",
     "collapsed": false,
     "input": [
      "!ngs.plot.r -G hg19 -R tss -C hesc.H3k4me3.rmdup.sort.bam -O hesc.H3k4me3.tss -T H3K4me3 -L 3000 -FL 300\n"
     ],
     "language": "python",
     "metadata": {},
     "outputs": [
      {
       "output_type": "stream",
       "stream": "stdout",
       "text": [
        "Loading R libraries"
       ]
      },
      {
       "output_type": "stream",
       "stream": "stdout",
       "text": [
        "."
       ]
      },
      {
       "output_type": "stream",
       "stream": "stdout",
       "text": [
        "."
       ]
      },
      {
       "output_type": "stream",
       "stream": "stdout",
       "text": [
        "."
       ]
      },
      {
       "output_type": "stream",
       "stream": "stdout",
       "text": [
        "..Done\r\n",
        "Configuring variables..."
       ]
      },
      {
       "output_type": "stream",
       "stream": "stdout",
       "text": [
        "\r\n",
        "Using database:\r\n",
        "/usr/local/bioinformatics/ngsplot/database/hg19/hg19.ensembl.genebody.protein_coding.RData\r\n"
       ]
      },
      {
       "output_type": "stream",
       "stream": "stdout",
       "text": [
        "Done\r\n",
        "Analyze bam files and calculate coverage"
       ]
      },
      {
       "output_type": "stream",
       "stream": "stdout",
       "text": [
        "open: No such file or directory\r\n",
        "Error in FUN(\"hesc.H3k4me3.rmdup.sort.bam\"[[1L]], ...) : \r\n",
        "  failed to open SAM/BAM file\r\n",
        "  file: 'hesc.H3k4me3.rmdup.sort.bam'\r\n",
        "Calls: headerIndexBam ... indexBam -> sapply -> sapply -> lapply -> FUN -> .Call\r\n",
        "Execution halted\r\n"
       ]
      }
     ],
     "prompt_number": 4
    },
    {
     "cell_type": "code",
     "collapsed": false,
     "input": [
      "!ngs.plot.r 2>&1|less"
     ],
     "language": "python",
     "metadata": {},
     "outputs": [
      {
       "output_type": "stream",
       "stream": "stdout",
       "text": [
        "\u001b7\u001b[?47h\u001b[?1h\u001b="
       ]
      },
      {
       "output_type": "stream",
       "stream": "stdout",
       "text": [
        "Unpaired argument and value.\r\n",
        "\r\n",
        "Visit http://code.google.com/p/ngsplot/wiki/ProgramArguments101 for details\r\n",
        "Version: 2.08\r\n",
        "Usage: ngs.plot.r -G genome -R region -C [cov|config]file\r\n",
        "                  -O name [Options]\r\n",
        "\r\n",
        "## Mandatory parameters:\r\n",
        "  -G   Genome name. Use ngsplotdb.py list to show available genomes.\r\n",
        "  -R   Genomic regions to plot: tss, tes, genebody, exon, cgi, enhancer, dhs or bed\r\n",
        "  -C   Indexed bam file or a configuration file for multiplot\r\n",
        "  -O   Name for output: multiple files will be generated\r\n",
        "## Optional parameters related to configuration file:\r\n",
        "  -E   Gene list to subset regions OR bed file for custom region\r\n",
        "  -T   Image title\r\n",
        "## Important optional parameters:\r\n",
        "  -F   Further information provided to select database table or plottype:\r\n",
        "         This is a string of description separated by comma.\r\n",
        "         E.g. protein_coding,K562,rnaseq(order of descriptors does not matter)\r\n",
        "              means coding genes in K562 cell line drawn in rnaseq mode.\r\n",
        "  -D   Gene database: ensembl(default), refseq\r\n",
        "  -I   Shall interval be larger than flanking in plot?(0 or 1, default=automatic:\u001b[K"
       ]
      },
      {
       "output_type": "stream",
       "stream": "stdout",
       "text": [
        "\u0007\r",
        "\u001b[K:\u001b[K\r",
        "\u001b[K)\r\n",
        ":\u001b[K"
       ]
      }
     ],
     "prompt_number": 12
    },
    {
     "cell_type": "code",
     "collapsed": false,
     "input": [
      "Visit http://code.google.com/p/ngsplot/wiki/ProgramArguments101 for details\n",
      "Version: 2.08\n",
      "Usage: ngs.plot.r -G genome -R region -C [cov|config]file\n",
      "                  -O name [Options]\n",
      "\n",
      "## Mandatory parameters:\n",
      "  -G   Genome name. Use ngsplotdb.py list to show available genomes.\n",
      "  -R   Genomic regions to plot: tss, tes, genebody, exon, cgi, enhancer, dhs or bed\n",
      "  -C   Indexed bam file or a configuration file for multiplot\n",
      "  -O   Name for output: multiple files will be generated\n",
      "## Optional parameters related to configuration file:\n",
      "  -E   Gene list to subset regions OR bed file for custom region\n",
      "  -T   Image title\n",
      "## Important optional parameters:\n",
      "  -F   Further information provided to select database table or plottype:\n",
      "         This is a string of description separated by comma.\n",
      "         E.g. protein_coding,K562,rnaseq(order of descriptors does not matter)\n",
      "              means coding genes in K562 cell line drawn in rnaseq mode.\n",
      "  -D   Gene database: ensembl(default), refseq\n",
      "  -I   Shall interval be larger than flanking in plot?(0 or 1, default=automatic)\n",
      "  -L   Flanking region size\n",
      "  -N   Flanking region factor(will override flanking size)\n",
      "  -S   Randomly sample the regions for plot, must be:(0, 1]\n",
      "  -P   #CPUs to use. Set 0(default) for auto detection\n",
      "## Misc. parameters:\n",
      "  -GO  Gene order algorithm used in heatmaps: total(default), hc, max,\n",
      "         prod, diff, pca and none(according to gene list supplied)\n",
      "  -AL  Algorithm used to normalize coverage vectors: spline(default), bin\n",
      "  -CS  Chunk size for loading genes in batch(default=100)\n",
      "  -FL  Fragment length used to calculate physical coverage(default=150)\n",
      "  -MQ  Mapping quality cutoff to filter reads(default=20)\n",
      "  -SE  Shall standard errors be plotted?(0 or 1)\n",
      "  -RB  The fraction of extreme values to be trimmed on both ends\n",
      "         default=0, 0.05 means 5% of extreme values will be trimmed\n",
      "  -RZ  Remove all zero profiles in heatmaps(default=1). Set 0 to keep them.\n",
      "  -SC  Color scale used to map values to colors in a heatmap.\n",
      "         local(default): base on each individual heatmap\n",
      "         region: base on all heatmaps belong to the same region\n",
      "         global: base on all heatmaps together\n",
      "         min_val,max_val: custom scale using a pair of numerics\n",
      "  -FC  Flooding fraction:[0, 1), default=0.02\n",
      "  -FI  Forbid image output if set to 1(default=0)\n",
      "  -MW  Moving window width to smooth avg. profiles, must be integer\n",
      "         1=no(default); 3=slightly; 5=somewhat; 9=quite; 13=super.\n",
      "  -H   Opacity of shaded area, suggested value:[0, 0.5]\n",
      "         default=0, i.e. no shading, just curves\n"
     ],
     "language": "python",
     "metadata": {},
     "outputs": [
      {
       "ename": "SyntaxError",
       "evalue": "invalid syntax (<ipython-input-13-d75790595379>, line 1)",
       "output_type": "pyerr",
       "traceback": [
        "\u001b[0;36m  File \u001b[0;32m\"<ipython-input-13-d75790595379>\"\u001b[0;36m, line \u001b[0;32m1\u001b[0m\n\u001b[0;31m    Visit http://code.google.com/p/ngsplot/wiki/ProgramArguments101 for details\u001b[0m\n\u001b[0m             ^\u001b[0m\n\u001b[0;31mSyntaxError\u001b[0m\u001b[0;31m:\u001b[0m invalid syntax\n"
       ]
      }
     ],
     "prompt_number": 13
    },
    {
     "cell_type": "raw",
     "metadata": {},
     "source": [
      "!ngsplotdb.py list"
     ]
    },
    {
     "cell_type": "code",
     "collapsed": false,
     "input": [
      "!ngs.plot.r -G GCA000297895 -R exon -C /Volumes/web/cnidarian/BiGoRNA_GTGTCTAC_1.sorted.bam -O dfredy"
     ],
     "language": "python",
     "metadata": {},
     "outputs": [
      {
       "output_type": "stream",
       "stream": "stdout",
       "text": [
        "Loading R libraries"
       ]
      },
      {
       "output_type": "stream",
       "stream": "stdout",
       "text": [
        "."
       ]
      },
      {
       "output_type": "stream",
       "stream": "stdout",
       "text": [
        "."
       ]
      },
      {
       "output_type": "stream",
       "stream": "stdout",
       "text": [
        "."
       ]
      },
      {
       "output_type": "stream",
       "stream": "stdout",
       "text": [
        "..Done\r\n",
        "Configuring variables..."
       ]
      },
      {
       "output_type": "stream",
       "stream": "stdout",
       "text": [
        "\r\n",
        "Using database:\r\n",
        "/usr/local/bioinformatics/ngsplot/database/GCA000297895/GCA000297895.ensembl.exon.canonical.protein_coding.RData\r\n"
       ]
      },
      {
       "output_type": "stream",
       "stream": "stdout",
       "text": [
        "Done\r\n",
        "Analyze bam files and calculate coverage"
       ]
      },
      {
       "output_type": "stream",
       "stream": "stdout",
       "text": [
        "......."
       ]
      },
      {
       "output_type": "stream",
       "stream": "stdout",
       "text": [
        "Done\r\n"
       ]
      },
      {
       "output_type": "stream",
       "stream": "stdout",
       "text": [
        "Plotting figures..."
       ]
      },
      {
       "output_type": "stream",
       "stream": "stdout",
       "text": [
        "Done\r\n",
        "Saving results..."
       ]
      },
      {
       "output_type": "stream",
       "stream": "stdout",
       "text": [
        "Done\r\n",
        "Wrapping results up..."
       ]
      },
      {
       "output_type": "stream",
       "stream": "stdout",
       "text": [
        "Done\r\n",
        "All done. Cheers!\r\n"
       ]
      }
     ],
     "prompt_number": 6
    },
    {
     "cell_type": "code",
     "collapsed": false,
     "input": [
      "!ls"
     ],
     "language": "python",
     "metadata": {},
     "outputs": [
      {
       "output_type": "stream",
       "stream": "stdout",
       "text": [
        " (White Space Conflict)                 PAG_2014.ipynb\r\n",
        "BSMAP2MK_workflow.ipynb                 README.md\r\n",
        "BSMAP2view_larvae.ipynb                 README_old.md\r\n",
        "BiGill_CpG_Ensembl.ipynb                Roberts_cv.ipynb\r\n",
        "BiGill_Gene_Methylation.ipynb           Ruphi_OA_RNAseq.ipynb\r\n",
        "BiGill_RNAseq.ipynb                     SS_datacheck.ipynb\r\n",
        "BiGill_Tran_Elements.ipynb              TJGR_CpG_binding.ipynb\r\n",
        "BiGill_array.ipynb                      TJGR_CpG_islands.ipynb\r\n",
        "BiGill_bsmap_genometest.ipynb           TJGR_Ensembl.ipynb\r\n",
        "BiGo - methratio error.ipynb            TJGR_Methylation_GenomeSnapshot.ipynb\r\n",
        "BiGo_GFF_dev.ipynb                      TJGR_Mgo_Expression.ipynb\r\n",
        "BiGo_Larvae_QCC.ipynb                   TJGR_OysterGenome_IGV.ipynb\r\n",
        "BiGo_RNAseq.ipynb                       TJGR_ProteinAnnot.ipynb\r\n",
        "BiGo_SpermVSperm.ipynb                  TJGR_pearl.ipynb\r\n",
        "BiGo_larvae.ipynb                       Trait_Oo_exp.ipynb\r\n",
        "BiGo_larvae_2.ipynb                     UW_SoftwareBootcamp.ipynb\r\n",
        "BiGo_larvae_3.ipynb                     YE_DMR.ipynb\r\n",
        "BiGo_larvae_manuscript.ipynb            _03_Widgets.ipynb\r\n",
        "BiGo_larvae_methylkit.ipynb             _BiGO_expPLOT.ipynb\r\n",
        "BiGo_methratio.ipynb                    _BiGo_RNAseq.pdf\r\n",
        "BiGo_methratio_2.ipynb                  _BiGo_larvae_bsmap274.ipynb\r\n",
        "BiGo_methratio_mito.ipynb               _IPsnapshot.ipynb\r\n",
        "BlackAb_Annot.ipynb                     _Larvae_Overrepresented_Sequences.ipynb\r\n",
        "CC_ampk.ipynb                           _scratch.ipynb\r\n",
        "ETS_ipig.ipynb                          bsmap2view_larvae_c.ipynb\r\n",
        "ETS_samifier.ipynb                      dfredy.avgprof.pdf\r\n",
        "ETS_samifier_2.ipynb                    dfredy.heatmap.pdf\r\n",
        "EY_methratio.ipynb                      dfredy.zip\r\n",
        "Gene Specific Methylation.ipynb         \u001b[34mexamples\u001b[m\u001b[m\r\n",
        "Geoduck_hunt.ipynb                      \u001b[34mfish546\u001b[m\u001b[m\r\n",
        "LT_C1q.ipynb                            gen_workflows.ipynb\r\n",
        "MGarray_blast.ipynb                     hs_array.ipynb\r\n",
        "NGSplot.ipynb                           \u001b[34mimg\u001b[m\u001b[m\r\n",
        "OA_MS_data_check.ipynb                  intersectbed.ipynb\r\n",
        "OlyO_Chi_Exp.ipynb                      lft_v05_fasta2goslim.ipynb\r\n",
        "OlyO_GonadExp.ipynb                     meadow_log.ipynb\r\n",
        "OlyO_PacBio.ipynb                       qDOD_RNAseq2.ipynb\r\n",
        "OlyO_transcriptome.ipynb                snippets.md\r\n",
        "OsHV_host.ipynb                         \u001b[34mtools\u001b[m\u001b[m\r\n"
       ]
      }
     ],
     "prompt_number": 7
    },
    {
     "cell_type": "code",
     "collapsed": false,
     "input": [
      "cd /Volumes/web/cnidarian/"
     ],
     "language": "python",
     "metadata": {},
     "outputs": [
      {
       "output_type": "stream",
       "stream": "stdout",
       "text": [
        "/Volumes/web/cnidarian\n"
       ]
      }
     ],
     "prompt_number": 8
    },
    {
     "cell_type": "code",
     "collapsed": false,
     "input": [
      "!ngs.plot.r -G GCA000297895 -R tss -C /Volumes/web/cnidarian/BiGoRNA_GTGTCTAC_1.sorted.bam -O ngsBiGoRNA"
     ],
     "language": "python",
     "metadata": {},
     "outputs": [
      {
       "output_type": "stream",
       "stream": "stdout",
       "text": [
        "Loading R libraries"
       ]
      },
      {
       "output_type": "stream",
       "stream": "stdout",
       "text": [
        "."
       ]
      },
      {
       "output_type": "stream",
       "stream": "stdout",
       "text": [
        "."
       ]
      },
      {
       "output_type": "stream",
       "stream": "stdout",
       "text": [
        "."
       ]
      },
      {
       "output_type": "stream",
       "stream": "stdout",
       "text": [
        "..Done\r\n",
        "Configuring variables..."
       ]
      },
      {
       "output_type": "stream",
       "stream": "stdout",
       "text": [
        "\r\n",
        "Using database:\r\n",
        "/usr/local/bioinformatics/ngsplot/database/GCA000297895/GCA000297895.ensembl.genebody.protein_coding.RData\r\n"
       ]
      },
      {
       "output_type": "stream",
       "stream": "stdout",
       "text": [
        "Done\r\n",
        "Analyze bam files and calculate coverage"
       ]
      },
      {
       "output_type": "stream",
       "stream": "stdout",
       "text": [
        "."
       ]
      },
      {
       "output_type": "stream",
       "stream": "stdout",
       "text": [
        "Done\r\n"
       ]
      },
      {
       "output_type": "stream",
       "stream": "stdout",
       "text": [
        "Plotting figures..."
       ]
      },
      {
       "output_type": "stream",
       "stream": "stdout",
       "text": [
        "Done\r\n",
        "Saving results..."
       ]
      },
      {
       "output_type": "stream",
       "stream": "stdout",
       "text": [
        "Done\r\n",
        "Wrapping results up..."
       ]
      },
      {
       "output_type": "stream",
       "stream": "stdout",
       "text": [
        "Done\r\n",
        "All done. Cheers!\r\n"
       ]
      }
     ],
     "prompt_number": 10
    },
    {
     "cell_type": "code",
     "collapsed": false,
     "input": [
      "!ngs.plot.r -G GCA000297895 -R tes -C /Volumes/web/cnidarian/BiGoRNA_GTGTCTAC_1.sorted.bam -O ngs2BiGoRNA"
     ],
     "language": "python",
     "metadata": {},
     "outputs": [
      {
       "output_type": "stream",
       "stream": "stdout",
       "text": [
        "Loading R libraries"
       ]
      },
      {
       "output_type": "stream",
       "stream": "stdout",
       "text": [
        "."
       ]
      },
      {
       "output_type": "stream",
       "stream": "stdout",
       "text": [
        "."
       ]
      },
      {
       "output_type": "stream",
       "stream": "stdout",
       "text": [
        "."
       ]
      },
      {
       "output_type": "stream",
       "stream": "stdout",
       "text": [
        "..Done\r\n",
        "Configuring variables..."
       ]
      },
      {
       "output_type": "stream",
       "stream": "stdout",
       "text": [
        "\r\n",
        "Using database:\r\n",
        "/usr/local/bioinformatics/ngsplot/database/GCA000297895/GCA000297895.ensembl.genebody.protein_coding.RData\r\n"
       ]
      },
      {
       "output_type": "stream",
       "stream": "stdout",
       "text": [
        "Done\r\n",
        "Analyze bam files and calculate coverage"
       ]
      },
      {
       "output_type": "stream",
       "stream": "stdout",
       "text": [
        "."
       ]
      },
      {
       "output_type": "stream",
       "stream": "stdout",
       "text": [
        "Done\r\n",
        "Plotting figures..."
       ]
      },
      {
       "output_type": "stream",
       "stream": "stdout",
       "text": [
        "Done\r\n",
        "Saving results..."
       ]
      },
      {
       "output_type": "stream",
       "stream": "stdout",
       "text": [
        "Done\r\n",
        "Wrapping results up..."
       ]
      },
      {
       "output_type": "stream",
       "stream": "stdout",
       "text": [
        "Done\r\n",
        "All done. Cheers!\r\n"
       ]
      }
     ],
     "prompt_number": 11
    },
    {
     "cell_type": "code",
     "collapsed": false,
     "input": [
      "!ngs.plot.r -G GCA000297895 -R exon -C /Volumes/web/cnidarian/BiGoRNA_GTGTCTAC_1.sorted.bam -O ngs3BiGoRNA"
     ],
     "language": "python",
     "metadata": {},
     "outputs": [
      {
       "output_type": "stream",
       "stream": "stdout",
       "text": [
        "Loading R libraries"
       ]
      },
      {
       "output_type": "stream",
       "stream": "stdout",
       "text": [
        "."
       ]
      },
      {
       "output_type": "stream",
       "stream": "stdout",
       "text": [
        "."
       ]
      },
      {
       "output_type": "stream",
       "stream": "stdout",
       "text": [
        "."
       ]
      },
      {
       "output_type": "stream",
       "stream": "stdout",
       "text": [
        "..Done\r\n",
        "Configuring variables..."
       ]
      },
      {
       "output_type": "stream",
       "stream": "stdout",
       "text": [
        "\r\n",
        "Using database:\r\n",
        "/usr/local/bioinformatics/ngsplot/database/GCA000297895/GCA000297895.ensembl.exon.canonical.protein_coding.RData\r\n"
       ]
      },
      {
       "output_type": "stream",
       "stream": "stdout",
       "text": [
        "Done\r\n",
        "Analyze bam files and calculate coverage"
       ]
      },
      {
       "output_type": "stream",
       "stream": "stdout",
       "text": [
        "......."
       ]
      },
      {
       "output_type": "stream",
       "stream": "stdout",
       "text": [
        "Done\r\n"
       ]
      },
      {
       "output_type": "stream",
       "stream": "stdout",
       "text": [
        "Plotting figures..."
       ]
      },
      {
       "output_type": "stream",
       "stream": "stdout",
       "text": [
        "Done\r\n",
        "Saving results..."
       ]
      },
      {
       "output_type": "stream",
       "stream": "stdout",
       "text": [
        "Done\r\n",
        "Wrapping results up..."
       ]
      },
      {
       "output_type": "stream",
       "stream": "stdout",
       "text": [
        "Done\r\n",
        "All done. Cheers!\r\n"
       ]
      }
     ],
     "prompt_number": 12
    },
    {
     "cell_type": "code",
     "collapsed": false,
     "input": [
      "!ngs.plot.r -G GCA000297895 -R genebody -C /Volumes/web/cnidarian/BiGoRNA_GTGTCTAC_1.sorted.bam -O ngs4BiGoRNA"
     ],
     "language": "python",
     "metadata": {},
     "outputs": [
      {
       "output_type": "stream",
       "stream": "stdout",
       "text": [
        "Loading R libraries"
       ]
      },
      {
       "output_type": "stream",
       "stream": "stdout",
       "text": [
        "."
       ]
      },
      {
       "output_type": "stream",
       "stream": "stdout",
       "text": [
        "."
       ]
      },
      {
       "output_type": "stream",
       "stream": "stdout",
       "text": [
        "."
       ]
      },
      {
       "output_type": "stream",
       "stream": "stdout",
       "text": [
        "..Done\r\n",
        "Configuring variables..."
       ]
      },
      {
       "output_type": "stream",
       "stream": "stdout",
       "text": [
        "\r\n",
        "Using database:\r\n",
        "/usr/local/bioinformatics/ngsplot/database/GCA000297895/GCA000297895.ensembl.genebody.protein_coding.RData\r\n"
       ]
      },
      {
       "output_type": "stream",
       "stream": "stdout",
       "text": [
        "Done\r\n",
        "Analyze bam files and calculate coverage"
       ]
      },
      {
       "output_type": "stream",
       "stream": "stdout",
       "text": [
        "."
       ]
      },
      {
       "output_type": "stream",
       "stream": "stdout",
       "text": [
        "Done\r\n",
        "Plotting figures..."
       ]
      },
      {
       "output_type": "stream",
       "stream": "stdout",
       "text": [
        "Done\r\n",
        "Saving results..."
       ]
      },
      {
       "output_type": "stream",
       "stream": "stdout",
       "text": [
        "Done\r\n",
        "Wrapping results up..."
       ]
      },
      {
       "output_type": "stream",
       "stream": "stdout",
       "text": [
        "Done\r\n",
        "All done. Cheers!\r\n"
       ]
      }
     ],
     "prompt_number": 13
    },
    {
     "cell_type": "code",
     "collapsed": false,
     "input": [
      "!ngs.plot.r -G GCA000297895 \\\n",
      "-R genebody \\\n",
      "-C /Volumes/web/cnidarian/BiGoRNA_GTGTCTAC_1.sorted.bam \\\n",
      "-O ngs4BiGoRNA"
     ],
     "language": "python",
     "metadata": {},
     "outputs": [
      {
       "output_type": "stream",
       "stream": "stdout",
       "text": [
        "Loading R libraries"
       ]
      },
      {
       "output_type": "stream",
       "stream": "stdout",
       "text": [
        "."
       ]
      },
      {
       "output_type": "stream",
       "stream": "stdout",
       "text": [
        "."
       ]
      },
      {
       "output_type": "stream",
       "stream": "stdout",
       "text": [
        "."
       ]
      },
      {
       "output_type": "stream",
       "stream": "stdout",
       "text": [
        "..Done\r\n",
        "Configuring variables..."
       ]
      },
      {
       "output_type": "stream",
       "stream": "stdout",
       "text": [
        "\r\n",
        "Using database:\r\n",
        "/usr/local/bioinformatics/ngsplot/database/GCA000297895/GCA000297895.ensembl.genebody.protein_coding.RData\r\n"
       ]
      },
      {
       "output_type": "stream",
       "stream": "stdout",
       "text": [
        "Done\r\n",
        "Analyze bam files and calculate coverage"
       ]
      },
      {
       "output_type": "stream",
       "stream": "stdout",
       "text": [
        "."
       ]
      },
      {
       "output_type": "stream",
       "stream": "stdout",
       "text": [
        "Done\r\n"
       ]
      },
      {
       "output_type": "stream",
       "stream": "stdout",
       "text": [
        "Plotting figures..."
       ]
      },
      {
       "output_type": "stream",
       "stream": "stdout",
       "text": [
        "Done\r\n",
        "Saving results..."
       ]
      },
      {
       "output_type": "stream",
       "stream": "stdout",
       "text": [
        "Done\r\n",
        "Wrapping results up..."
       ]
      },
      {
       "output_type": "stream",
       "stream": "stdout",
       "text": [
        "Done\r\n",
        "All done. Cheers!\r\n"
       ]
      }
     ],
     "prompt_number": 14
    },
    {
     "cell_type": "code",
     "collapsed": false,
     "input": [
      "!ngs.plot.r -G GCA000297895 \\\n",
      "-R genebody \\\n",
      "-C /Volumes/web/cnidarian/BiGoRNA_GTGTCTAC_1.sorted.bam \\\n",
      "-O ngs4BiGoRNA"
     ],
     "language": "python",
     "metadata": {},
     "outputs": []
    }
   ],
   "metadata": {}
  }
 ]
}