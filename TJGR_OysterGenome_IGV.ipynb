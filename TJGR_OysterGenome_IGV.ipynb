{
 "metadata": {
  "name": "TJGR_OysterGenome_IGV"
 },
 "nbformat": 3,
 "nbformat_minor": 0,
 "worksheets": [
  {
   "cells": [
    {
     "cell_type": "markdown",
     "metadata": {},
     "source": [
      "#Developing Canonical Tracks for IGV Oyster Genome Browser"
     ]
    },
    {
     "cell_type": "markdown",
     "metadata": {},
     "source": [
      "This is my attempt derive fundamental genomic tracks for the oyster genome that can be easily visualized.  \n",
      "\n",
      "\n",
      "Contents  \n",
      "\n",
      "- [Launching IGV](#IGV)\n",
      "- [Loading Core tracks](#cds)  -- --  [URLs](#qURL)\n",
      "- [Gill Tissue Methylation](#gillmeth)\n",
      "- [Sperm Methylation](#spermmeth)\n",
      "- [Gill and Sperm gene level expression - RPKM](#rpkm)\n",
      "\n",
      "\n",
      "<hr>"
     ]
    },
    {
     "cell_type": "markdown",
     "metadata": {},
     "source": [
      "Will use the full genome as scaffold (should be in cnidaria)"
     ]
    },
    {
     "cell_type": "markdown",
     "metadata": {},
     "source": [
      "###<a id=\"IGV\"></a>Launching Integrative Genome Viewer"
     ]
    },
    {
     "cell_type": "markdown",
     "metadata": {},
     "source": [
      "_Launch IGV_\n",
      "\n",
      "clicking this file opens the app\n",
      "\n",
      "<img src=\"https://www.evernote.com/shard/s10/sh/5451a4e8-ea10-4676-b2ad-ca42357168ec/541e064307ef1dba82c8866044d44d1b/deep/0/Screenshot%205/27/13%2012:14%20PM.jpg\" alt=\"Screenshot%205/27/13%2012:14%20PM\" width = 60%/>\n",
      "\n",
      "###Load genome via url\n",
      "\n",
      "<img src=\"https://www.evernote.com/shard/s10/sh/2227a2fa-f894-428f-9833-c2d27c120bf8/37b9997e0298ea7f6b0514ec5565e0af/deep/0/Screenshot%205/27/13%2012:16%20PM.jpg\" alt=\"Screenshot%205/27/13%2012:16%20PM\" width = 40%/>\n",
      "\n"
     ]
    },
    {
     "cell_type": "markdown",
     "metadata": {},
     "source": [
      "##<a id=\"cds\"></a>Loading / Defining Core Genome tracks\n",
      "\n"
     ]
    },
    {
     "cell_type": "markdown",
     "metadata": {},
     "source": [
      "####Exons and Genes \n",
      "Derived from \n",
      "\n",
      "<ftp://climb.genomics.cn/pub/10.5524/100001_101000/100030/gene_v9/>\n",
      "\n",
      "```\n",
      "gene:\n",
      "\tgene_v9/oyster.v9.glean.final.rename.gff.gz\tgene feature of pacific oyster in gff format\n",
      "\tgene_v9/oyster.v9.glean.final.rename.gff.cds.gz\tcoding sequence of pacific oyster in fasta format\n",
      "\tgene_v9/oyster.v9.glean.final.rename.gff.pep.gz\tprotein sequence of pacific oyster in fasta format\n",
      "```\n",
      "\n"
     ]
    },
    {
     "cell_type": "code",
     "collapsed": false,
     "input": [
      "!head /Volumes/Bay4\\ scratch/oyster.v9.glean.final.rename.gff"
     ],
     "language": "python",
     "metadata": {},
     "outputs": [
      {
       "output_type": "stream",
       "stream": "stdout",
       "text": [
        "C16582\tGLEAN\tmRNA\t35\t385\t0.555898\t-\t.\tID=CGI_10000001;\r\n",
        "C16582\tGLEAN\tCDS\t35\t385\t.\t-\t0\tParent=CGI_10000001;\r\n",
        "C17212\tGLEAN\tmRNA\t31\t363\t0.999572\t+\t.\tID=CGI_10000002;\r\n",
        "C17212\tGLEAN\tCDS\t31\t363\t.\t+\t0\tParent=CGI_10000002;\r\n",
        "C17316\tGLEAN\tmRNA\t30\t257\t0.555898\t+\t.\tID=CGI_10000003;\r\n",
        "C17316\tGLEAN\tCDS\t30\t257\t.\t+\t0\tParent=CGI_10000003;\r\n",
        "C17476\tGLEAN\tmRNA\t34\t257\t0.998947\t-\t.\tID=CGI_10000004;\r\n",
        "C17476\tGLEAN\tCDS\t104\t257\t.\t-\t0\tParent=CGI_10000004;\r\n",
        "C17476\tGLEAN\tCDS\t34\t74\t.\t-\t2\tParent=CGI_10000004;\r\n",
        "C17998\tGLEAN\tmRNA\t196\t387\t1\t-\t.\tID=CGI_10000005;\r\n"
       ]
      }
     ],
     "prompt_number": 3
    },
    {
     "cell_type": "code",
     "collapsed": false,
     "input": [
      "!wc /Volumes/Bay4\\ scratch/oyster.v9.glean.final.rename.gff"
     ],
     "language": "python",
     "metadata": {},
     "outputs": [
      {
       "output_type": "stream",
       "stream": "stdout",
       "text": [
        "  224718 2022462 14179523 /Volumes/Bay4 scratch/oyster.v9.glean.final.rename.gff\r\n"
       ]
      }
     ],
     "prompt_number": 12
    },
    {
     "cell_type": "code",
     "collapsed": false,
     "input": [
      "#not quite a GFF!\n",
      "!head /Volumes/Bay4\\ scratch/oyster.v9.glean.final.rename.gff.pep"
     ],
     "language": "python",
     "metadata": {},
     "outputs": [
      {
       "output_type": "stream",
       "stream": "stdout",
       "text": [
        ">CGI_10000780\r\n",
        "MERYGARRLRMTIWETTRNGQLQTTHLGSILFILVMMYACVFCRVSLKNG\r\n",
        "EEITQLREKGCNTVNRTSQTRNNTIVTTPGQKVHQKCRRDYINANSIKNY\r\n",
        "MREKDVSITEPTRDLRSSTPDFEFQKNCLFCGYFAKFSECKRGIDVFPVR\r\n",
        "TTDFSNTLRNICKKRNDEWSEIVLRRLNIAPSDLHAADAIYHQTCSVNFR\r\n",
        "TGQQIPVSKQANKMVEKGIKTKHADADADVLIALTAIESAKTKPTVLLGE\r\n",
        "DTDLLVLLLHHADVTSNSLIFKSGNVSKVNTHIKIWDILKTKVLLGEELC\r\n",
        "TLLPLIHAISGCDTTSRMFGVSKAATLKKFAEHDFLKTRQLLCNANAKDD\r\n",
        "VISAGENIISSLYNGAPYEELNVLRYRKFAARVLTNKTCVQIHTLPPTSN\r\n",
        "AASFHSQRAYLQMKMWMNEDNLNPCEWGWKVANGNLVPVKCTVKLPLNC\r\n"
       ]
      }
     ],
     "prompt_number": 5
    },
    {
     "cell_type": "code",
     "collapsed": false,
     "input": [
      "#not quite a GFF!\n",
      "!head /Volumes/Bay4\\ scratch/oyster.v9.glean.final.rename.gff.CDS"
     ],
     "language": "python",
     "metadata": {},
     "outputs": [
      {
       "output_type": "stream",
       "stream": "stdout",
       "text": [
        ">CGI_10000780\r\n",
        "ATGGAAAGATATGGCGCCCGTAGATTAAGAATGACGATATGGGAGACAAC\r\n",
        "TCGTAATGGTCAACTGCAGACGACGCATCTAGGTTCCATCCTTTTCATTC\r\n",
        "TGGTAATGATGTATGCTTGTGTTTTTTGTCGGGTGTCTCTAAAAAATGGT\r\n",
        "GAAGAAATAACACAACTAAGAGAAAAAGGATGTAACACAGTTAATAGGAC\r\n",
        "CAGCCAAACCAGAAATAATACAATCGTCACAACTCCAGGACAAAAAGTTC\r\n",
        "ATCAGAAATGTCGACGTGATTACATTAATGCTAACTCAATCAAGAATTAC\r\n",
        "ATGCGAGAAAAGGATGTATCGATAACCGAGCCAACTCGTGACTTACGATC\r\n",
        "TTCTACTCCTGATTTTGAGTTCCAGAAGAACTGTTTATTTTGTGGATATT\r\n",
        "TTGCAAAATTTTCAGAATGCAAAAGGGGAATCGACGTGTTTCCTGTCAGG\r\n"
       ]
      }
     ],
     "prompt_number": 7
    },
    {
     "cell_type": "markdown",
     "metadata": {},
     "source": [
      "Specifically, (/Volumes/Bay4\\ scratch/oyster.v9.glean.final.rename.gff) was parsed to Exon (CDS) and full gene (mRNA). "
     ]
    },
    {
     "cell_type": "code",
     "collapsed": false,
     "input": [
      "!head /Volumes/web/cnidarian/oyster.v9.glean.final.rename.CDS.gff"
     ],
     "language": "python",
     "metadata": {},
     "outputs": [
      {
       "output_type": "stream",
       "stream": "stdout",
       "text": [
        "C16582\tGLEAN\tCDS\t35\t385\t.\t-\t0\tParent=CGI_10000001;\r\n",
        "C17212\tGLEAN\tCDS\t31\t363\t.\t+\t0\tParent=CGI_10000002;\r\n",
        "C17316\tGLEAN\tCDS\t30\t257\t.\t+\t0\tParent=CGI_10000003;\r\n",
        "C17476\tGLEAN\tCDS\t104\t257\t.\t-\t0\tParent=CGI_10000004;\r\n",
        "C17476\tGLEAN\tCDS\t34\t74\t.\t-\t2\tParent=CGI_10000004;\r\n",
        "C17998\tGLEAN\tCDS\t196\t387\t.\t-\t0\tParent=CGI_10000005;\r\n",
        "C18346\tGLEAN\tCDS\t174\t551\t.\t+\t0\tParent=CGI_10000009;\r\n",
        "C18428\tGLEAN\tCDS\t286\t546\t.\t-\t0\tParent=CGI_10000010;\r\n",
        "C18964\tGLEAN\tCDS\t203\t658\t.\t-\t0\tParent=CGI_10000011;\r\n",
        "C18980\tGLEAN\tCDS\t30\t674\t.\t+\t0\tParent=CGI_10000012;\r\n"
       ]
      }
     ],
     "prompt_number": 8
    },
    {
     "cell_type": "code",
     "collapsed": false,
     "input": [
      "!head /Volumes/web/cnidarian/oyster.v9.glean.final.rename.mRNA.gff"
     ],
     "language": "python",
     "metadata": {},
     "outputs": [
      {
       "output_type": "stream",
       "stream": "stdout",
       "text": [
        "C16582\tGLEAN\tmRNA\t35\t385\t0.555898\t-\t.\tID=CGI_10000001;\r\n",
        "C17212\tGLEAN\tmRNA\t31\t363\t0.999572\t+\t.\tID=CGI_10000002;\r\n",
        "C17316\tGLEAN\tmRNA\t30\t257\t0.555898\t+\t.\tID=CGI_10000003;\r\n",
        "C17476\tGLEAN\tmRNA\t34\t257\t0.998947\t-\t.\tID=CGI_10000004;\r\n",
        "C17998\tGLEAN\tmRNA\t196\t387\t1\t-\t.\tID=CGI_10000005;\r\n",
        "C18346\tGLEAN\tmRNA\t174\t551\t1\t+\t.\tID=CGI_10000009;\r\n",
        "C18428\tGLEAN\tmRNA\t286\t546\t0.555898\t-\t.\tID=CGI_10000010;\r\n",
        "C18964\tGLEAN\tmRNA\t203\t658\t0.999572\t-\t.\tID=CGI_10000011;\r\n",
        "C18980\tGLEAN\tmRNA\t30\t674\t0.555898\t+\t.\tID=CGI_10000012;\r\n",
        "C19100\tGLEAN\tmRNA\t160\t681\t0.999955\t-\t.\tID=CGI_10000013;\r\n"
       ]
      }
     ],
     "prompt_number": 9
    },
    {
     "cell_type": "code",
     "collapsed": false,
     "input": [
      "!wc /Volumes/web/cnidarian/oyster.v9.glean.final.rename.CDS.gff"
     ],
     "language": "python",
     "metadata": {},
     "outputs": [
      {
       "output_type": "stream",
       "stream": "stdout",
       "text": [
        "  196691 1770219 12359791 /Volumes/web/cnidarian/oyster.v9.glean.final.rename.CDS.gff\r\n"
       ]
      }
     ],
     "prompt_number": 11
    },
    {
     "cell_type": "code",
     "collapsed": false,
     "input": [
      "!wc /Volumes/web/cnidarian/oyster.v9.glean.final.rename.mRNA.gff"
     ],
     "language": "python",
     "metadata": {},
     "outputs": [
      {
       "output_type": "stream",
       "stream": "stdout",
       "text": [
        "   28027  252243 1819732 /Volumes/web/cnidarian/oyster.v9.glean.final.rename.mRNA.gff\r\n"
       ]
      }
     ],
     "prompt_number": 13
    },
    {
     "cell_type": "code",
     "collapsed": false,
     "input": [
      "#check to make sure files add up.\n",
      "sum(196691 + 28027)"
     ],
     "language": "python",
     "metadata": {},
     "outputs": [
      {
       "output_type": "pyout",
       "prompt_number": 16,
       "text": [
        "224718"
       ]
      }
     ],
     "prompt_number": 16
    },
    {
     "cell_type": "code",
     "collapsed": false,
     "input": [
      "cp /Volumes/web/cnidarian/oyster.v9.glean.final.rename.CDS.gff /Volumes/web/trilobite/Crassostrea_gigas_v9_tracks/Cgigas_v9_exon.gff"
     ],
     "language": "python",
     "metadata": {},
     "outputs": [],
     "prompt_number": 20
    },
    {
     "cell_type": "code",
     "collapsed": false,
     "input": [
      "!head /Volumes/web/trilobite/Crassostrea_gigas_v9_tracks/Cgigas_v9_exon.gff"
     ],
     "language": "python",
     "metadata": {},
     "outputs": [
      {
       "output_type": "stream",
       "stream": "stdout",
       "text": [
        "C16582\tGLEAN\tCDS\t35\t385\t.\t-\t0\tParent=CGI_10000001;\r\n",
        "C17212\tGLEAN\tCDS\t31\t363\t.\t+\t0\tParent=CGI_10000002;\r\n",
        "C17316\tGLEAN\tCDS\t30\t257\t.\t+\t0\tParent=CGI_10000003;\r\n",
        "C17476\tGLEAN\tCDS\t104\t257\t.\t-\t0\tParent=CGI_10000004;\r\n",
        "C17476\tGLEAN\tCDS\t34\t74\t.\t-\t2\tParent=CGI_10000004;\r\n",
        "C17998\tGLEAN\tCDS\t196\t387\t.\t-\t0\tParent=CGI_10000005;\r\n",
        "C18346\tGLEAN\tCDS\t174\t551\t.\t+\t0\tParent=CGI_10000009;\r\n",
        "C18428\tGLEAN\tCDS\t286\t546\t.\t-\t0\tParent=CGI_10000010;\r\n",
        "C18964\tGLEAN\tCDS\t203\t658\t.\t-\t0\tParent=CGI_10000011;\r\n",
        "C18980\tGLEAN\tCDS\t30\t674\t.\t+\t0\tParent=CGI_10000012;\r\n"
       ]
      }
     ],
     "prompt_number": 21
    },
    {
     "cell_type": "code",
     "collapsed": false,
     "input": [
      "cp /Volumes/web/cnidarian/oyster.v9.glean.final.rename.mRNA.gff /Volumes/web/trilobite/Crassostrea_gigas_v9_tracks/Cgigas_v9_gene.gff"
     ],
     "language": "python",
     "metadata": {},
     "outputs": [],
     "prompt_number": 22
    },
    {
     "cell_type": "code",
     "collapsed": false,
     "input": [
      "!head /Volumes/web/trilobite/Crassostrea_gigas_v9_tracks/Cgigas_v9_gene.gff"
     ],
     "language": "python",
     "metadata": {},
     "outputs": [
      {
       "output_type": "stream",
       "stream": "stdout",
       "text": [
        "C16582\tGLEAN\tmRNA\t35\t385\t0.555898\t-\t.\tID=CGI_10000001;\r\n",
        "C17212\tGLEAN\tmRNA\t31\t363\t0.999572\t+\t.\tID=CGI_10000002;\r\n",
        "C17316\tGLEAN\tmRNA\t30\t257\t0.555898\t+\t.\tID=CGI_10000003;\r\n",
        "C17476\tGLEAN\tmRNA\t34\t257\t0.998947\t-\t.\tID=CGI_10000004;\r\n",
        "C17998\tGLEAN\tmRNA\t196\t387\t1\t-\t.\tID=CGI_10000005;\r\n",
        "C18346\tGLEAN\tmRNA\t174\t551\t1\t+\t.\tID=CGI_10000009;\r\n",
        "C18428\tGLEAN\tmRNA\t286\t546\t0.555898\t-\t.\tID=CGI_10000010;\r\n",
        "C18964\tGLEAN\tmRNA\t203\t658\t0.999572\t-\t.\tID=CGI_10000011;\r\n",
        "C18980\tGLEAN\tmRNA\t30\t674\t0.555898\t+\t.\tID=CGI_10000012;\r\n",
        "C19100\tGLEAN\tmRNA\t160\t681\t0.999955\t-\t.\tID=CGI_10000013;\r\n"
       ]
      }
     ],
     "prompt_number": 23
    },
    {
     "cell_type": "markdown",
     "metadata": {},
     "source": [
      "---  \n",
      "\n",
      "#### All CGs\n"
     ]
    },
    {
     "cell_type": "code",
     "collapsed": false,
     "input": [
      "!wc /Volumes/web/cnidarian/TJGR_oyster_v9_CG.gff"
     ],
     "language": "python",
     "metadata": {},
     "outputs": [
      {
       "output_type": "stream",
       "stream": "stdout",
       "text": [
        " 10035701 99934100 977314599 /Volumes/web/cnidarian/TJGR_oyster_v9_CG.gff\r\n"
       ]
      }
     ],
     "prompt_number": 24
    },
    {
     "cell_type": "code",
     "collapsed": false,
     "input": [
      "!fgrep -c \"fuzznuc\tnucleotide_motif\" /Volumes/web/cnidarian/TJGR_oyster_v9_CG.gff"
     ],
     "language": "python",
     "metadata": {},
     "outputs": [
      {
       "output_type": "stream",
       "stream": "stdout",
       "text": [
        "9978551\r\n"
       ]
      }
     ],
     "prompt_number": 28
    },
    {
     "cell_type": "code",
     "collapsed": false,
     "input": [
      "!head /Volumes/web/cnidarian/TJGR_oyster_v9_CG.gff"
     ],
     "language": "python",
     "metadata": {},
     "outputs": [
      {
       "output_type": "stream",
       "stream": "stdout",
       "text": [
        "##gff-version 3\r\n",
        "##sequence-region scaffold360 1 280\r\n",
        "#!Date 2013-04-23\r\n",
        "#!Type DNA\r\n",
        "#!Source-version EMBOSS 6.5.7.0\r\n",
        "scaffold360\tfuzznuc\tnucleotide_motif\t60\t61\t2\t+\t.\tID=scaffold360.1;note=*pat pattern:CG\r\n",
        "scaffold360\tfuzznuc\tnucleotide_motif\t96\t97\t2\t+\t.\tID=scaffold360.2;note=*pat pattern:CG\r\n",
        "scaffold360\tfuzznuc\tnucleotide_motif\t120\t121\t2\t+\t.\tID=scaffold360.3;note=*pat pattern:CG\r\n",
        "scaffold360\tfuzznuc\tnucleotide_motif\t187\t188\t2\t+\t.\tID=scaffold360.4;note=*pat pattern:CG\r\n",
        "##gff-version 3\r\n"
       ]
      }
     ],
     "prompt_number": 25
    },
    {
     "cell_type": "code",
     "collapsed": false,
     "input": [
      "cp /Volumes/web/cnidarian/TJGR_oyster_v9_CG.gff /Volumes/web/trilobite/Crassostrea_gigas_v9_tracks/Cgigas_v9_CG.gff"
     ],
     "language": "python",
     "metadata": {},
     "outputs": [],
     "prompt_number": 26
    },
    {
     "cell_type": "code",
     "collapsed": false,
     "input": [
      "!head /Volumes/web/trilobite/Crassostrea_gigas_v9_tracks/Cgigas_v9_CG.gff"
     ],
     "language": "python",
     "metadata": {},
     "outputs": [
      {
       "output_type": "stream",
       "stream": "stdout",
       "text": [
        "##gff-version 3\r\n",
        "##sequence-region scaffold360 1 280\r\n",
        "#!Date 2013-04-23\r\n",
        "#!Type DNA\r\n",
        "#!Source-version EMBOSS 6.5.7.0\r\n",
        "scaffold360\tfuzznuc\tnucleotide_motif\t60\t61\t2\t+\t.\tID=scaffold360.1;note=*pat pattern:CG\r\n",
        "scaffold360\tfuzznuc\tnucleotide_motif\t96\t97\t2\t+\t.\tID=scaffold360.2;note=*pat pattern:CG\r\n",
        "scaffold360\tfuzznuc\tnucleotide_motif\t120\t121\t2\t+\t.\tID=scaffold360.3;note=*pat pattern:CG\r\n",
        "scaffold360\tfuzznuc\tnucleotide_motif\t187\t188\t2\t+\t.\tID=scaffold360.4;note=*pat pattern:CG\r\n",
        "##gff-version 3\r\n"
       ]
      }
     ],
     "prompt_number": 29
    },
    {
     "cell_type": "markdown",
     "metadata": {},
     "source": [
      "---   \n",
      "####Promoter###"
     ]
    },
    {
     "cell_type": "code",
     "collapsed": false,
     "input": [
      "!head /Volumes/web/cnidarian/qDOD_scaffold_length.csv"
     ],
     "language": "python",
     "metadata": {},
     "outputs": [
      {
       "output_type": "stream",
       "stream": "stdout",
       "text": [
        "sID,length\r",
        "\r\n",
        "C1,100\r",
        "\r\n",
        "C10003,156\r",
        "\r\n",
        "C10005,156\r",
        "\r\n",
        "C10007,156\r",
        "\r\n",
        "C10009,156\r",
        "\r\n",
        "C1001,103\r",
        "\r\n",
        "C10011,156\r",
        "\r\n",
        "C10013,157\r",
        "\r\n",
        "C10015,157\r",
        "\r\n"
       ]
      }
     ],
     "prompt_number": 34
    },
    {
     "cell_type": "code",
     "collapsed": false,
     "input": [
      "!tr ',' \"\\t\" </Volumes/web/cnidarian/qDOD_scaffold_length.csv> /Volumes/web/cnidarian/qDOD_scaffold_length.txt"
     ],
     "language": "python",
     "metadata": {},
     "outputs": [],
     "prompt_number": 36
    },
    {
     "cell_type": "code",
     "collapsed": false,
     "input": [
      "!head /Volumes/web/cnidarian/qDOD_scaffold_length.txt"
     ],
     "language": "python",
     "metadata": {},
     "outputs": [
      {
       "output_type": "stream",
       "stream": "stdout",
       "text": [
        "sID\tlength\r",
        "\r\n",
        "C1\t100\r",
        "\r\n",
        "C10003\t156\r",
        "\r\n",
        "C10005\t156\r",
        "\r\n",
        "C10007\t156\r",
        "\r\n",
        "C10009\t156\r",
        "\r\n",
        "C1001\t103\r",
        "\r\n",
        "C10011\t156\r",
        "\r\n",
        "C10013\t157\r",
        "\r\n",
        "C10015\t157\r",
        "\r\n"
       ]
      }
     ],
     "prompt_number": 37
    },
    {
     "cell_type": "code",
     "collapsed": false,
     "input": [
      "!flankbed -s -l 1000 -r 0 -i /Volumes/web/trilobite/Crassostrea_gigas_v9_tracks/Cgigas_v9_gene.gff -g /Volumes/web/cnidarian/qDOD_scaffold_length.txt > /Volumes/web/cnidarian/TJGR_Promoter_1k5p.gff"
     ],
     "language": "python",
     "metadata": {},
     "outputs": [],
     "prompt_number": 42
    },
    {
     "cell_type": "code",
     "collapsed": false,
     "input": [
      "!head /Volumes/web/cnidarian/TJGR_Promoter_1k5p.gff"
     ],
     "language": "python",
     "metadata": {},
     "outputs": [
      {
       "output_type": "stream",
       "stream": "stdout",
       "text": [
        "C16582\tGLEAN\tmRNA\t386\t395\t0.555898\t-\t.\tID=CGI_10000001;\r\n",
        "C17212\tGLEAN\tmRNA\t1\t30\t0.999572\t+\t.\tID=CGI_10000002;\r\n",
        "C17316\tGLEAN\tmRNA\t1\t29\t0.555898\t+\t.\tID=CGI_10000003;\r\n",
        "C17476\tGLEAN\tmRNA\t258\t491\t0.998947\t-\t.\tID=CGI_10000004;\r\n",
        "C17998\tGLEAN\tmRNA\t388\t559\t1\t-\t.\tID=CGI_10000005;\r\n",
        "C18346\tGLEAN\tmRNA\t1\t173\t1\t+\t.\tID=CGI_10000009;\r\n",
        "C18428\tGLEAN\tmRNA\t547\t611\t0.555898\t-\t.\tID=CGI_10000010;\r\n",
        "C18964\tGLEAN\tmRNA\t659\t714\t0.999572\t-\t.\tID=CGI_10000011;\r\n",
        "C18980\tGLEAN\tmRNA\t1\t29\t0.555898\t+\t.\tID=CGI_10000012;\r\n",
        "C19100\tGLEAN\tmRNA\t682\t743\t0.999955\t-\t.\tID=CGI_10000013;\r\n"
       ]
      }
     ],
     "prompt_number": 43
    },
    {
     "cell_type": "code",
     "collapsed": false,
     "input": [
      "!sed 's/mRNA/promoter/g' </Volumes/web/cnidarian/TJGR_Promoter_1k5p.gff> /Volumes/web/cnidarian/TJGR_Promoter_1k5p_b.gff\n"
     ],
     "language": "python",
     "metadata": {},
     "outputs": [],
     "prompt_number": 44
    },
    {
     "cell_type": "code",
     "collapsed": false,
     "input": [
      "!head /Volumes/web/cnidarian/TJGR_Promoter_1k5p_b.gff"
     ],
     "language": "python",
     "metadata": {},
     "outputs": [
      {
       "output_type": "stream",
       "stream": "stdout",
       "text": [
        "C16582\tGLEAN\tpromoter\t386\t395\t0.555898\t-\t.\tID=CGI_10000001;\r\n",
        "C17212\tGLEAN\tpromoter\t1\t30\t0.999572\t+\t.\tID=CGI_10000002;\r\n",
        "C17316\tGLEAN\tpromoter\t1\t29\t0.555898\t+\t.\tID=CGI_10000003;\r\n",
        "C17476\tGLEAN\tpromoter\t258\t491\t0.998947\t-\t.\tID=CGI_10000004;\r\n",
        "C17998\tGLEAN\tpromoter\t388\t559\t1\t-\t.\tID=CGI_10000005;\r\n",
        "C18346\tGLEAN\tpromoter\t1\t173\t1\t+\t.\tID=CGI_10000009;\r\n",
        "C18428\tGLEAN\tpromoter\t547\t611\t0.555898\t-\t.\tID=CGI_10000010;\r\n",
        "C18964\tGLEAN\tpromoter\t659\t714\t0.999572\t-\t.\tID=CGI_10000011;\r\n",
        "C18980\tGLEAN\tpromoter\t1\t29\t0.555898\t+\t.\tID=CGI_10000012;\r\n",
        "C19100\tGLEAN\tpromoter\t682\t743\t0.999955\t-\t.\tID=CGI_10000013;\r\n"
       ]
      }
     ],
     "prompt_number": 45
    },
    {
     "cell_type": "raw",
     "metadata": {},
     "source": [
      "http://eagle.fish.washington.edu/cnidarian/TJGR_Promoter_1k5p_b.gff"
     ]
    },
    {
     "cell_type": "code",
     "collapsed": false,
     "input": [
      "cp /Volumes/web/cnidarian/TJGR_Promoter_1k5p_b.gff /Volumes/web/trilobite/Crassostrea_gigas_v9_tracks/Cgigas_v9_1k5p_gene_promoter.gff"
     ],
     "language": "python",
     "metadata": {},
     "outputs": [],
     "prompt_number": 46
    },
    {
     "cell_type": "markdown",
     "metadata": {},
     "source": [
      "---   \n",
      "##<a id=\"qURL\"></a>URLS for Canonical Genome Features##\n",
      "\n",
      "**Exons**   \n",
      "`http://eagle.fish.washington.edu/trilobite/Crassostrea_gigas_v9_tracks/Cgigas_v9_exon.gff`   \n",
      "\n",
      "**Gene**   \n",
      "`http://eagle.fish.washington.edu/trilobite/Crassostrea_gigas_v9_tracks/Cgigas_v9_gene.gff`   \n",
      "\n",
      "\n",
      "**All CGs**   \n",
      "`http://eagle.fish.washington.edu/trilobite/Crassostrea_gigas_v9_tracks/Cgigas_v9_CG.gff`\n",
      "\n",
      "**Promoter (= 1kbp 5' of genes)**   \n",
      "`http://eagle.fish.washington.edu/trilobite/Crassostrea_gigas_v9_tracks/Cgigas_v9_1k5p_gene_promoter.gff`   \n"
     ]
    },
    {
     "cell_type": "markdown",
     "metadata": {},
     "source": [
      "<hr>\n",
      "###<a id=\"gillmeth\"></a>Gill Methylation  - MBD BS-Seq data\n",
      "\n",
      "methratio did produce output and his was uploaded to SQLShare\n",
      "\n",
      "<img src=\"https://www.evernote.com/shard/s10/sh/5ad74c9c-a86b-4088-9ded-25c0267dec1b/2d2f85d8808ec3222048042206896f22/deep/0/Screenshot%205/27/13%2012:27%20PM.jpg\" alt=\"Screenshot%205/27/13%2012:27%20PM\" width =50%/>\n",
      "\n",
      "<hr>\n",
      "https://sqlshare.escience.washington.edu/sqlshare#s=query/sr320%40washington.edu/BiGill_methratio_v9_A.txt\n",
      "<hr>\n",
      "<img src=\"https://www.evernote.com/shard/s10/sh/d467f45f-ed6f-4b80-b615-77f38de79a6c/f6ffde4bcd275bda40fa29dde4d3a43d/deep/0/Screenshot%205/27/13%2012:31%20PM.jpg\" alt=\"Screenshot%205/27/13%2012:31%20PM\" width =50% />\n",
      "<hr>\n",
      "_converted to GFF format_ [see example](https://github.com/uwescience/sqlshare/wiki/Workflow:-Analysis-of-BSMAP-data#how-to-convert-methratio-file-to-gff-format)\n",
      "<hr>\n",
      "_resulting file_\n",
      "<https://sqlshare.escience.washington.edu/sqlshare#s=query/sr320%40washington.edu/BiGill_methratio_v9_A_GFF>\n",
      "\n"
     ]
    },
    {
     "cell_type": "raw",
     "metadata": {},
     "source": [
      "IGV session file available:\n",
      "http://eagle.fish.washington.edu/cnidarian/oyster_v9_igv_session.xml"
     ]
    },
    {
     "cell_type": "markdown",
     "metadata": {},
     "source": [
      "<hr>"
     ]
    },
    {
     "cell_type": "markdown",
     "metadata": {},
     "source": [
      "Want to convert to IGV\n",
      "\n",
      "<img src=\"https://www.evernote.com/shard/s10/sh/6c70c33b-e8a0-47d8-8d19-e3759ab1cd65/65a5e127b49e616863ecbcd83b548948/deep/0/Screenshot%205/28/13%208:53%20PM.jpg\" alt=\"Screenshot%205/28/13%208:53%20PM\" width=50% />"
     ]
    },
    {
     "cell_type": "markdown",
     "metadata": {},
     "source": [
      "\n",
      "    SELECT \n",
      "    chr as seqname,  \n",
      "    pos - 1 as start, -- compensating for going to zero-based?\n",
      "    pos + 1 as [end], \n",
      "    'CG' as feature, \n",
      "    ratio as score  \n",
      "\n",
      "    FROM [sr320@washington.edu].     \n",
      "    [BiGill_methratio_v9_A.txt] yel \n",
      "    where \n",
      "    context like '__CG_' --_=single character wildcard\n",
      "    and\n",
      "    CT_Count >= 5\u200b\n"
     ]
    },
    {
     "cell_type": "markdown",
     "metadata": {},
     "source": [
      "---\n",
      "    python fetchdata.py -d \"[sr320@washington.edu].[BiGill_methratio_v9_IGV]\u200b\u200b\u200b\" -f tsv -o /Volumes/web/cnidarian/BiGill_meth_v9_5x.igv"
     ]
    },
    {
     "cell_type": "code",
     "collapsed": false,
     "input": [
      "!head /Volumes/web/cnidarian/BiGill_meth_v9_5x.igv"
     ],
     "language": "python",
     "metadata": {},
     "outputs": [
      {
       "output_type": "stream",
       "stream": "stdout",
       "text": [
        "seqname\tstart\tend\tfeature\tscore\r",
        "\r\n",
        "C10009\t69\t71\tCG\t0.000\r",
        "\r\n",
        "C10049\t42\t44\tCG\t0.200\r",
        "\r\n",
        "C10049\t51\t53\tCG\t0.071\r",
        "\r\n",
        "C10075\t86\t88\tCG\t0.200\r",
        "\r\n",
        "C1009\t88\t90\tCG\t0.833\r",
        "\r\n",
        "C10093\t106\t108\tCG\t0.875\r",
        "\r\n",
        "C10107\t27\t29\tCG\t0.000\r",
        "\r\n",
        "C10107\t92\t94\tCG\t0.667\r",
        "\r\n",
        "C10127\t71\t73\tCG\t0.000\r",
        "\r\n"
       ]
      }
     ],
     "prompt_number": 4
    },
    {
     "cell_type": "markdown",
     "metadata": {},
     "source": [
      "Imported in IGV and looks like coordinates are ok"
     ]
    },
    {
     "cell_type": "markdown",
     "metadata": {},
     "source": [
      "<img src=\"https://www.evernote.com/shard/s10/sh/bb0714ea-5624-484d-9ed7-fbac3ae97f67/f2cbd42751b4ea9b61047c752fd04052/deep/0/Screenshot%205/28/13%209:11%20PM.jpg\" alt=\"Screenshot%205/28/13%209:11%20PM\" />"
     ]
    },
    {
     "cell_type": "markdown",
     "metadata": {},
     "source": [
      "<hr>\n",
      "<img src=\"https://www.evernote.com/shard/s10/sh/cdc8c1da-b71d-4731-9999-9349a13ca98b/2ea5f29f62f7e665e3fe7691558e47e7/deep/0/Screenshot%205/28/13%209:13%20PM.jpg\" alt=\"Screenshot%205/28/13%209:13%20PM\" />"
     ]
    },
    {
     "cell_type": "markdown",
     "metadata": {},
     "source": [
      "<hr>\n",
      "###<a id=\"spermmeth\"></a> Male Gonad Methylation data\n",
      "Developing IGV file format"
     ]
    },
    {
     "cell_type": "markdown",
     "metadata": {},
     "source": [
      "\n",
      "    SELECT \n",
      "    chr as seqname,  \n",
      "    pos - 1 as start, -- compensating for going to zero-based?\n",
      "    pos + 1 as [end], \n",
      "    'CG' as feature, \n",
      "    ratio as score  \n",
      "\n",
      "    FROM [sr320@washington.edu].     \n",
      "    [BiGO_betty_plain_methratio_v1.txt] yel \n",
      "    where \n",
      "    context like '__CG_' --_=single character wildcard\n",
      "    and\n",
      "    CT_Count >= 5\u200b\n"
     ]
    },
    {
     "cell_type": "markdown",
     "metadata": {},
     "source": [
      "---    \n",
      "    python fetchdata.py -d \"[sr320@washington.edu].[BiGO_betty_methratio_v1_IGV]\u200b\u200b\u200b\" -f tsv -o /Volumes/web/cnidarian/BiGO_betty_methratio_v1.igv\n"
     ]
    },
    {
     "cell_type": "markdown",
     "metadata": {},
     "source": [
      "<http://eagle.fish.washington.edu/cnidarian/BiGO_betty_methratio_v1.igv>"
     ]
    },
    {
     "cell_type": "markdown",
     "metadata": {},
     "source": [
      "<img src=\"https://www.evernote.com/shard/s10/sh/67033f02-ced0-47ae-b550-edabcaf5e0e1/cc05f9003f096adfc234fd554d95a967/deep/0/Screenshot%205/29/13%204:01%20PM.jpg\" alt=\"Screenshot%205/29/13%204:01%20PM\" width = 60% />"
     ]
    },
    {
     "cell_type": "markdown",
     "metadata": {},
     "source": [
      "IGV Session resaved\n",
      "http://eagle.fish.washington.edu/cnidarian/oyster_v9_igv_session.xml\n",
      "\n",
      "*Details on sperm exon level expression available [here](http://nbviewer.ipython.org/url/eagle.fish.washington.edu/cnidarian/TJGR_Mgo_Expression.ipynb)*\n",
      "\n",
      "\n",
      "\n"
     ]
    },
    {
     "cell_type": "markdown",
     "metadata": {},
     "source": [
      "<hr>\n",
      "###<a id=\"rpkm\"></a> Adding gene level expresssion for sperm and gill"
     ]
    },
    {
     "cell_type": "markdown",
     "metadata": {},
     "source": [
      "Gene level expression is in SQLShare, originally derived from CLC RNA-Seq"
     ]
    },
    {
     "cell_type": "markdown",
     "metadata": {},
     "source": [
      "**Gill Expression data**\n",
      "\n",
      "<https://sqlshare.escience.washington.edu/sqlshare#s=query/sr320%40washington.edu/qDOD_Zhang_Gil_gene_RNA-seq>\n",
      "\n",
      "<img src=\"https://www.evernote.com/shard/s10/sh/82720b86-5086-44bb-864c-71bb02f3df31/63539ba7f6327889368907f242e328d2/deep/0/Screenshot%206/2/13%208:14%20AM.png\" alt=\"Screenshot%206/2/13%208:14%20AM\" width = 50% />\n",
      "    \n",
      "_SQLShare Query_\n",
      " \n",
      "  \n",
      "    SELECT \n",
      "    Chromosome,\n",
      "     \"Chromosome region start\" - 1 as start,\n",
      "     \"Chromosome region end\" as [end],\n",
      "    'gene' as feature,\n",
      "     RPKM \n",
      "  \n",
      "      FROM [sr320@washington.edu].[qDOD_Zhang_Gil_gene_RNA-seq]\u200b\u200b\u200b\u200b\u200b\u200b\u200b\u200b\u200b\u200b\u200b\u200b\u200b\u200b\n",
      "    \n",
      "_Resulting file_\n",
      "<https://sqlshare.escience.washington.edu/sqlshare#s=query/sr320%40washington.edu/Zhang_Gil_gene_RNA-seq_IGV>\n",
      "    \n",
      "_Downloading_  \n",
      "    `python fetchdata.py -d \"[sr320@washington.edu].[Zhang_Gil_gene_RNA-seq_IGV]\u200b\" -f tsv -o /Volumes/web/cnidarian/Zhang_Gil_gene_RNA-seq.igv`\n",
      "    \n",
      "_Needs to be sorted in IGV_  \n",
      "<http://eagle.fish.washington.edu/cnidarian/Zhang_Gil_gene_RNA-seq.sorted.igv>    \n",
      " "
     ]
    },
    {
     "cell_type": "markdown",
     "metadata": {},
     "source": [
      "**Sperm Gene level expression**\n",
      "\n",
      "File in SQLShare <https://sqlshare.escience.washington.edu/sqlshare#s=query/sr320%40washington.edu/qDOD_Zhang_Mgo_gene_RNA-seq>\n",
      "\n",
      "_SQLShare Query_  \n",
      "```\n",
      "SELECT \n",
      "Chromosome,\n",
      "\"Chromosome region start\" - 1 as start,\n",
      "\"Chromosome region end\" as [end],\n",
      "'gene' as feature,\n",
      "RPKM as Mgo_RPKM\n",
      "FROM [sr320@washington.edu].[qDOD_Zhang_Mgo_gene_RNA-seq]\u200b\n",
      "```\n",
      "\n",
      "_New Dataset_\n",
      "<https://sqlshare.escience.washington.edu/sqlshare#s=query/sr320%40washington.edu/Zhang_Mgo_gene_RNA-seq_IGV>\n",
      "    \n",
      "_Downloading_  \n",
      "`python fetchdata.py -d \"[sr320@washington.edu].[Zhang_Mgo_gene_RNA-seq_IGV]\u200b\u200b\" -f tsv -o /Volumes/web/cnidarian/Zhang_Mgo_gene_RNA-seq.igv `\n",
      "    \n",
      "_Sorted_  \n",
      "<http://eagle.fish.washington.edu/cnidarian/Zhang_Mgo_gene_RNA-seq.sorted.igv>\n",
      "\n",
      "<hr>\n",
      "New IGV Browser ...\n",
      "\n",
      "<img src=\"https://www.evernote.com/shard/s10/sh/a563a699-e434-4c56-9467-3ee5c3e923e2/2052456e505d9ac841b44141bf4e2bde/deep/0/Screenshot%206/2/13%209:48%20AM.png\" alt=\"Screenshot%206/2/13%209:48%20AM\" width = 50%/>    \n",
      "http://eagle.fish.washington.edu/cnidarian/oyster_v9_igv_session.xml\n",
      "    \n"
     ]
    },
    {
     "cell_type": "code",
     "collapsed": false,
     "input": [],
     "language": "python",
     "metadata": {},
     "outputs": []
    }
   ],
   "metadata": {}
  }
 ]
}