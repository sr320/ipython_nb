{
 "metadata": {
  "name": "TJGR_OysterGenome_IGV"
 },
 "nbformat": 3,
 "nbformat_minor": 0,
 "worksheets": [
  {
   "cells": [
    {
     "cell_type": "markdown",
     "metadata": {},
     "source": "#Developing Canonical Tracks for IGV Oyster Genome Browser"
    },
    {
     "cell_type": "markdown",
     "metadata": {},
     "source": "This is my attempt derive fundamental genomic tracks for the oyster genome that can be easily visualized.  \nLast Updated: **June 01, 2013**\n\nContents  \n\n- [Launching IGV](#IGV)\n- [Loading CDS and mRNA tracks](#cds)\n- [Gill Tissue Methylation](#gillmeth)\n- [Sperm Methylation](#spermmeth)\n- [Gill and Sperm gene level expression - RPKM](#rpkm)\n\n\n<hr>"
    },
    {
     "cell_type": "markdown",
     "metadata": {},
     "source": "Will use the full genome as scaffold (should be in cnidaria)"
    },
    {
     "cell_type": "markdown",
     "metadata": {},
     "source": "###<a id=\"IGV\"></a>Launching Integrative Genome Viewer"
    },
    {
     "cell_type": "markdown",
     "metadata": {},
     "source": "_Launch IGV_\n\nclicking this file opens the app\n\n<img src=\"https://www.evernote.com/shard/s10/sh/5451a4e8-ea10-4676-b2ad-ca42357168ec/541e064307ef1dba82c8866044d44d1b/deep/0/Screenshot%205/27/13%2012:14%20PM.jpg\" alt=\"Screenshot%205/27/13%2012:14%20PM\" width = 60%/>\n\n###Load genome via url\n\n<img src=\"https://www.evernote.com/shard/s10/sh/2227a2fa-f894-428f-9833-c2d27c120bf8/37b9997e0298ea7f6b0514ec5565e0af/deep/0/Screenshot%205/27/13%2012:16%20PM.jpg\" alt=\"Screenshot%205/27/13%2012:16%20PM\" width = 40%/>\n\n###<a id=\"cds\"></a>Load CDS and mRNA GFF\n\n<http://eagle.fish.washington.edu/cnidarian/oyster.v9.glean.final.rename.mRNA.gff>\n    \n<http://eagle.fish.washington.edu/cnidarian/oyster.v9.glean.final.rename.CDS.gff>\n    \n<hr>\n<img src=\"https://www.evernote.com/shard/s10/sh/11c60407-adbb-4687-a74b-3bd6e3cae53f/ee885c951e7c40ee646b23e92f1c61b3/deep/0/Screenshot%205/27/13%2012:22%20PM.jpg\" alt=\"Screenshot%205/27/13%2012:22%20PM\" width = 40%/>"
    },
    {
     "cell_type": "markdown",
     "metadata": {},
     "source": "<hr>\n###<a id=\"gillmeth\"></a>Gill Methylation  - MBD BS-Seq data\n\nmethratio did produce output and his was uploaded to SQLShare\n\n<img src=\"https://www.evernote.com/shard/s10/sh/5ad74c9c-a86b-4088-9ded-25c0267dec1b/2d2f85d8808ec3222048042206896f22/deep/0/Screenshot%205/27/13%2012:27%20PM.jpg\" alt=\"Screenshot%205/27/13%2012:27%20PM\" width =50%/>\n\n<hr>\nhttps://sqlshare.escience.washington.edu/sqlshare#s=query/sr320%40washington.edu/BiGill_methratio_v9_A.txt\n<hr>\n<img src=\"https://www.evernote.com/shard/s10/sh/d467f45f-ed6f-4b80-b615-77f38de79a6c/f6ffde4bcd275bda40fa29dde4d3a43d/deep/0/Screenshot%205/27/13%2012:31%20PM.jpg\" alt=\"Screenshot%205/27/13%2012:31%20PM\" width =50% />\n<hr>\n_converted to GFF format_ [see example](https://github.com/uwescience/sqlshare/wiki/Workflow:-Analysis-of-BSMAP-data#how-to-convert-methratio-file-to-gff-format)\n<hr>\n_resulting file_\n<https://sqlshare.escience.washington.edu/sqlshare#s=query/sr320%40washington.edu/BiGill_methratio_v9_A_GFF>\n\n"
    },
    {
     "cell_type": "raw",
     "metadata": {},
     "source": "IGV session file available:\nhttp://eagle.fish.washington.edu/cnidarian/oyster_v9_igv_session.xml"
    },
    {
     "cell_type": "markdown",
     "metadata": {},
     "source": "<hr>"
    },
    {
     "cell_type": "markdown",
     "metadata": {},
     "source": "Want to convert to IGV\n\n<img src=\"https://www.evernote.com/shard/s10/sh/6c70c33b-e8a0-47d8-8d19-e3759ab1cd65/65a5e127b49e616863ecbcd83b548948/deep/0/Screenshot%205/28/13%208:53%20PM.jpg\" alt=\"Screenshot%205/28/13%208:53%20PM\" width=50% />"
    },
    {
     "cell_type": "markdown",
     "metadata": {},
     "source": "\n    SELECT \n    chr as seqname,  \n    pos - 1 as start, -- compensating for going to zero-based?\n    pos + 1 as [end], \n    'CG' as feature, \n    ratio as score  \n\n    FROM [sr320@washington.edu].     \n    [BiGill_methratio_v9_A.txt] yel \n    where \n    context like '__CG_' --_=single character wildcard\n    and\n    CT_Count >= 5\u200b\n"
    },
    {
     "cell_type": "markdown",
     "metadata": {},
     "source": "---\n    python fetchdata.py -d \"[sr320@washington.edu].[BiGill_methratio_v9_IGV]\u200b\u200b\u200b\" -f tsv -o /Volumes/web/cnidarian/BiGill_meth_v9_5x.igv"
    },
    {
     "cell_type": "code",
     "collapsed": false,
     "input": "!head /Volumes/web/cnidarian/BiGill_meth_v9_5x.igv",
     "language": "python",
     "metadata": {},
     "outputs": [
      {
       "output_type": "stream",
       "stream": "stdout",
       "text": "seqname\tstart\tend\tfeature\tscore\r\r\nC10009\t69\t71\tCG\t0.000\r\r\nC10049\t42\t44\tCG\t0.200\r\r\nC10049\t51\t53\tCG\t0.071\r\r\nC10075\t86\t88\tCG\t0.200\r\r\nC1009\t88\t90\tCG\t0.833\r\r\nC10093\t106\t108\tCG\t0.875\r\r\nC10107\t27\t29\tCG\t0.000\r\r\nC10107\t92\t94\tCG\t0.667\r\r\nC10127\t71\t73\tCG\t0.000\r\r\n"
      }
     ],
     "prompt_number": 4
    },
    {
     "cell_type": "markdown",
     "metadata": {},
     "source": "Imported in IGV and looks like coordinates are ok"
    },
    {
     "cell_type": "markdown",
     "metadata": {},
     "source": "<img src=\"https://www.evernote.com/shard/s10/sh/bb0714ea-5624-484d-9ed7-fbac3ae97f67/f2cbd42751b4ea9b61047c752fd04052/deep/0/Screenshot%205/28/13%209:11%20PM.jpg\" alt=\"Screenshot%205/28/13%209:11%20PM\" />"
    },
    {
     "cell_type": "markdown",
     "metadata": {},
     "source": "<hr>\n<img src=\"https://www.evernote.com/shard/s10/sh/cdc8c1da-b71d-4731-9999-9349a13ca98b/2ea5f29f62f7e665e3fe7691558e47e7/deep/0/Screenshot%205/28/13%209:13%20PM.jpg\" alt=\"Screenshot%205/28/13%209:13%20PM\" />"
    },
    {
     "cell_type": "markdown",
     "metadata": {},
     "source": "<hr>\n###<a id=\"spermmeth\"></a> Male Gonad Methylation data\nDeveloping IGV file format"
    },
    {
     "cell_type": "markdown",
     "metadata": {},
     "source": "\n    SELECT \n    chr as seqname,  \n    pos - 1 as start, -- compensating for going to zero-based?\n    pos + 1 as [end], \n    'CG' as feature, \n    ratio as score  \n\n    FROM [sr320@washington.edu].     \n    [BiGO_betty_plain_methratio_v1.txt] yel \n    where \n    context like '__CG_' --_=single character wildcard\n    and\n    CT_Count >= 5\u200b\n"
    },
    {
     "cell_type": "markdown",
     "metadata": {},
     "source": "---    \n    python fetchdata.py -d \"[sr320@washington.edu].[BiGO_betty_methratio_v1_IGV]\u200b\u200b\u200b\" -f tsv -o /Volumes/web/cnidarian/BiGO_betty_methratio_v1.igv\n"
    },
    {
     "cell_type": "markdown",
     "metadata": {},
     "source": "<http://eagle.fish.washington.edu/cnidarian/BiGO_betty_methratio_v1.igv>"
    },
    {
     "cell_type": "markdown",
     "metadata": {},
     "source": "<img src=\"https://www.evernote.com/shard/s10/sh/67033f02-ced0-47ae-b550-edabcaf5e0e1/cc05f9003f096adfc234fd554d95a967/deep/0/Screenshot%205/29/13%204:01%20PM.jpg\" alt=\"Screenshot%205/29/13%204:01%20PM\" width = 60% />"
    },
    {
     "cell_type": "markdown",
     "metadata": {},
     "source": "IGV Session resaved\nhttp://eagle.fish.washington.edu/cnidarian/oyster_v9_igv_session.xml\n\n*Details on sperm exon level expression available [here](http://nbviewer.ipython.org/url/eagle.fish.washington.edu/cnidarian/TJGR_Mgo_Expression.ipynb)*\n\n\n\n"
    },
    {
     "cell_type": "markdown",
     "metadata": {},
     "source": "<hr>\n###<a id=\"rpkm\"></a> Adding gene level expresssion for sperm and gill"
    },
    {
     "cell_type": "markdown",
     "metadata": {},
     "source": "Gene level expression is in SQLShare, originally derived from CLC RNA-Seq"
    },
    {
     "cell_type": "markdown",
     "metadata": {},
     "source": "**Gill Expression data**\n\n<https://sqlshare.escience.washington.edu/sqlshare#s=query/sr320%40washington.edu/qDOD_Zhang_Gil_gene_RNA-seq>\n\n<img src=\"https://www.evernote.com/shard/s10/sh/82720b86-5086-44bb-864c-71bb02f3df31/63539ba7f6327889368907f242e328d2/deep/0/Screenshot%206/2/13%208:14%20AM.png\" alt=\"Screenshot%206/2/13%208:14%20AM\" width = 50% />\n    \n_SQLShare Query_\n \n  \n    SELECT \n    Chromosome,\n     \"Chromosome region start\" - 1 as start,\n     \"Chromosome region end\" as [end],\n    'gene' as feature,\n     RPKM \n  \n      FROM [sr320@washington.edu].[qDOD_Zhang_Gil_gene_RNA-seq]\u200b\u200b\u200b\u200b\u200b\u200b\u200b\u200b\u200b\u200b\u200b\u200b\u200b\u200b\n    \n_Resulting file_\n<https://sqlshare.escience.washington.edu/sqlshare#s=query/sr320%40washington.edu/Zhang_Gil_gene_RNA-seq_IGV>\n    \n_Downloading_  \n    `python fetchdata.py -d \"[sr320@washington.edu].[Zhang_Gil_gene_RNA-seq_IGV]\u200b\" -f tsv -o /Volumes/web/cnidarian/Zhang_Gil_gene_RNA-seq.igv`\n    \n_Needs to be sorted in IGV_  \n<http://eagle.fish.washington.edu/cnidarian/Zhang_Gil_gene_RNA-seq.sorted.igv>    \n "
    },
    {
     "cell_type": "markdown",
     "metadata": {},
     "source": "**Sperm Gene level expression**\n\nFile in SQLShare <https://sqlshare.escience.washington.edu/sqlshare#s=query/sr320%40washington.edu/qDOD_Zhang_Mgo_gene_RNA-seq>\n\n_SQLShare Query_  \n```\nSELECT \nChromosome,\n\"Chromosome region start\" - 1 as start,\n\"Chromosome region end\" as [end],\n'gene' as feature,\nRPKM as Mgo_RPKM\nFROM [sr320@washington.edu].[qDOD_Zhang_Mgo_gene_RNA-seq]\u200b\n```\n\n_New Dataset_\n<https://sqlshare.escience.washington.edu/sqlshare#s=query/sr320%40washington.edu/Zhang_Mgo_gene_RNA-seq_IGV>\n    \n_Downloading_  \n`python fetchdata.py -d \"[sr320@washington.edu].[Zhang_Mgo_gene_RNA-seq_IGV]\u200b\u200b\" -f tsv -o /Volumes/web/cnidarian/Zhang_Mgo_gene_RNA-seq.igv `\n    \n_Sorted_  \n<http://eagle.fish.washington.edu/cnidarian/Zhang_Mgo_gene_RNA-seq.sorted.igv>\n\n<hr>\nNew IGV Browser ...\n\n<img src=\"https://www.evernote.com/shard/s10/sh/a563a699-e434-4c56-9467-3ee5c3e923e2/2052456e505d9ac841b44141bf4e2bde/deep/0/Screenshot%206/2/13%209:48%20AM.png\" alt=\"Screenshot%206/2/13%209:48%20AM\" width = 50%/>    \nhttp://eagle.fish.washington.edu/cnidarian/oyster_v9_igv_session.xml\n    \n"
    },
    {
     "cell_type": "code",
     "collapsed": false,
     "input": "",
     "language": "python",
     "metadata": {},
     "outputs": []
    }
   ],
   "metadata": {}
  }
 ]
}