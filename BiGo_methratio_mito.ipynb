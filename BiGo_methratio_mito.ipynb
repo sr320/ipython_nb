{
 "metadata": {
  "name": ""
 },
 "nbformat": 3,
 "nbformat_minor": 0,
 "worksheets": [
  {
   "cells": [
    {
     "cell_type": "heading",
     "level": 1,
     "metadata": {},
     "source": [
      "Mitochondria Methylation - Sperm"
     ]
    },
    {
     "cell_type": "code",
     "collapsed": true,
     "input": [
      "! /Volumes/Bay3/Software/BSMAP/bsmap-2.74/bsmap -a /Volumes/web/trilobite/Crassostrea_gigas_HTSdata/filtered_174gm_A_NoIndex_L006_R1.fastq -b /Volumes/web/trilobite/Crassostrea_gigas_HTSdata/filtered_174gm_A_NoIndex_L006_R2.fastq -d /Volumes/web/cnidarian/Cgigas_mito_genome.fasta -o /Volumes/web/cnidarian/BiGo_mito.sam -p 3"
     ],
     "language": "python",
     "metadata": {},
     "outputs": [
      {
       "output_type": "stream",
       "stream": "stdout",
       "text": [
        "\r\n",
        "BSMAP v2.74\r\n",
        "Start at:  Mon Dec  2 12:26:22 2013\r\n",
        "\r\n",
        "Input reference file: /Volumes/web/cnidarian/Cgigas_mito_genome.fasta \t(format: FASTA)\r\n"
       ]
      },
      {
       "output_type": "stream",
       "stream": "stdout",
       "text": [
        "Load in 1 db seqs, total size 18224 bp. 0 secs passed\r\n",
        "total_kmers: 43046721\r\n"
       ]
      },
      {
       "output_type": "stream",
       "stream": "stdout",
       "text": [
        "Create seed table. 3 secs passed\r\n",
        "max number of mismatches: read_length * 8% \tmax gap size: 0\r\n",
        "kmer cut-off ratio: 5e-07\r\n",
        "max multi-hits: 100\tmax Ns: 5\tseed size: 16\tindex interval: 4\r\n",
        "quality cutoff: 0\tbase quality char: '!'\r\n",
        "min fragment size:28\tmax fragemt size:500\r\n",
        "start from read #1\tend at read #4294967295\r\n",
        "additional alignment: T in reads => C in reference\r\n",
        "mapping strand (read_1): ++,-+\r\n",
        "mapping strand (read_2): +-,--\r\n",
        "Pair-end alignment(3 threads)\r\n",
        "Input read file #1: /Volumes/web/trilobite/Crassostrea_gigas_HTSdata/filtered_174gm_A_NoIndex_L006_R1.fastq"
       ]
      },
      {
       "output_type": "stream",
       "stream": "stdout",
       "text": [
        " \t(format: FASTQ)\r\n",
        "Input read file #2: /Volumes/web/trilobite/Crassostrea_gigas_HTSdata/filtered_174gm_A_NoIndex_L006_R2.fastq \t(format: FASTQ)\r\n",
        "Output file: /Volumes/web/cnidarian/BiGo_mito.sam\t (format: SAM)\r\n"
       ]
      },
      {
       "output_type": "stream",
       "stream": "stdout",
       "text": [
        "Thread #1: \t50000 read pairs finished. 5 secs passed\r\n"
       ]
      },
      {
       "output_type": "stream",
       "stream": "stdout",
       "text": [
        "Thread #0: \t100000 read pairs finished. 6 secs passed\r\n"
       ]
      },
      {
       "output_type": "stream",
       "stream": "stdout",
       "text": [
        "Thread #2: \t150000 read pairs finished. 7 secs passed\r\n"
       ]
      },
      {
       "output_type": "stream",
       "stream": "stdout",
       "text": [
        "Thread #1: \t200000 read pairs finished. 7 secs passed\r\n"
       ]
      },
      {
       "output_type": "stream",
       "stream": "stdout",
       "text": [
        "Thread #0: \t250000 read pairs finished. 8 secs passed\r\n"
       ]
      },
      {
       "output_type": "stream",
       "stream": "stdout",
       "text": [
        "Thread #2: \t300000 read pairs finished. 9 secs passed\r\n"
       ]
      },
      {
       "output_type": "stream",
       "stream": "stdout",
       "text": [
        "Thread #1: \t350000 read pairs finished. 10 secs passed\r\n"
       ]
      },
      {
       "output_type": "stream",
       "stream": "stdout",
       "text": [
        "Thread #0: \t400000 read pairs finished. 11 secs passed\r\n"
       ]
      },
      {
       "output_type": "stream",
       "stream": "stdout",
       "text": [
        "Thread #2: \t450000 read pairs finished. 11 secs passed\r\n"
       ]
      },
      {
       "output_type": "stream",
       "stream": "stdout",
       "text": [
        "Thread #1: \t500000 read pairs finished. 12 secs passed\r\n"
       ]
      },
      {
       "output_type": "stream",
       "stream": "stdout",
       "text": [
        "Thread #0: \t550000 read pairs finished. 13 secs passed\r\n"
       ]
      },
      {
       "output_type": "stream",
       "stream": "stdout",
       "text": [
        "Thread #2: \t600000 read pairs finished. 14 secs passed\r\n"
       ]
      },
      {
       "output_type": "stream",
       "stream": "stdout",
       "text": [
        "Thread #1: \t650000 read pairs finished. 15 secs passed\r\n"
       ]
      },
      {
       "output_type": "stream",
       "stream": "stdout",
       "text": [
        "Thread #0: \t700000 read pairs finished. 16 secs passed\r\n"
       ]
      },
      {
       "output_type": "stream",
       "stream": "stdout",
       "text": [
        "Thread #2: \t750000 read pairs finished. 17 secs passed\r\n"
       ]
      },
      {
       "output_type": "stream",
       "stream": "stdout",
       "text": [
        "Thread #1: \t800000 read pairs finished. 18 secs passed\r\n"
       ]
      },
      {
       "output_type": "stream",
       "stream": "stdout",
       "text": [
        "Thread #0: \t850000 read pairs finished. 18 secs passed\r\n"
       ]
      },
      {
       "output_type": "stream",
       "stream": "stdout",
       "text": [
        "Thread #2: \t900000 read pairs finished. 19 secs passed\r\n"
       ]
      },
      {
       "output_type": "stream",
       "stream": "stdout",
       "text": [
        "Thread #1: \t950000 read pairs finished. 20 secs passed\r\n"
       ]
      },
      {
       "output_type": "stream",
       "stream": "stdout",
       "text": [
        "Thread #0: \t1000000 read pairs finished. 21 secs passed\r\n"
       ]
      },
      {
       "output_type": "stream",
       "stream": "stdout",
       "text": [
        "Thread #2: \t1050000 read pairs finished. 21 secs passed\r\n"
       ]
      },
      {
       "output_type": "stream",
       "stream": "stdout",
       "text": [
        "Thread #1: \t1100000 read pairs finished. 22 secs passed\r\n"
       ]
      },
      {
       "output_type": "stream",
       "stream": "stdout",
       "text": [
        "Thread #0: \t1150000 read pairs finished. 23 secs passed\r\n"
       ]
      },
      {
       "output_type": "stream",
       "stream": "stdout",
       "text": [
        "Thread #2: \t1200000 read pairs finished. 24 secs passed\r\n"
       ]
      },
      {
       "output_type": "stream",
       "stream": "stdout",
       "text": [
        "Thread #1: \t1250000 read pairs finished. 24 secs passed\r\n"
       ]
      },
      {
       "output_type": "stream",
       "stream": "stdout",
       "text": [
        "Thread #0: \t1300000 read pairs finished. 25 secs passed\r\n"
       ]
      },
      {
       "output_type": "stream",
       "stream": "stdout",
       "text": [
        "Thread #2: \t1350000 read pairs finished. 26 secs passed\r\n"
       ]
      },
      {
       "output_type": "stream",
       "stream": "stdout",
       "text": [
        "Thread #1: \t1400000 read pairs finished. 27 secs passed\r\n"
       ]
      },
      {
       "output_type": "stream",
       "stream": "stdout",
       "text": [
        "Thread #0: \t1450000 read pairs finished. 28 secs passed\r\n"
       ]
      },
      {
       "output_type": "stream",
       "stream": "stdout",
       "text": [
        "Thread #2: \t1500000 read pairs finished. 29 secs passed\r\n"
       ]
      },
      {
       "output_type": "stream",
       "stream": "stdout",
       "text": [
        "Thread #1: \t1550000 read pairs finished. 30 secs passed\r\n"
       ]
      },
      {
       "output_type": "stream",
       "stream": "stdout",
       "text": [
        "Thread #0: \t1600000 read pairs finished. 30 secs passed\r\n"
       ]
      },
      {
       "output_type": "stream",
       "stream": "stdout",
       "text": [
        "Thread #2: \t1650000 read pairs finished. 32 secs passed\r\n"
       ]
      },
      {
       "output_type": "stream",
       "stream": "stdout",
       "text": [
        "Thread #1: \t1700000 read pairs finished. 33 secs passed\r\n"
       ]
      },
      {
       "output_type": "stream",
       "stream": "stdout",
       "text": [
        "Thread #0: \t1750000 read pairs finished. 33 secs passed\r\n"
       ]
      },
      {
       "output_type": "stream",
       "stream": "stdout",
       "text": [
        "Thread #2: \t1800000 read pairs finished. 34 secs passed\r\n"
       ]
      },
      {
       "output_type": "stream",
       "stream": "stdout",
       "text": [
        "Thread #1: \t1850000 read pairs finished. 35 secs passed\r\n"
       ]
      },
      {
       "output_type": "stream",
       "stream": "stdout",
       "text": [
        "Thread #0: \t1900000 read pairs finished. 36 secs passed\r\n"
       ]
      },
      {
       "output_type": "stream",
       "stream": "stdout",
       "text": [
        "Thread #2: \t1950000 read pairs finished. 37 secs passed\r\n"
       ]
      },
      {
       "output_type": "stream",
       "stream": "stdout",
       "text": [
        "Thread #1: \t2000000 read pairs finished. 38 secs passed\r\n"
       ]
      },
      {
       "output_type": "stream",
       "stream": "stdout",
       "text": [
        "Thread #0: \t2050000 read pairs finished. 39 secs passed\r\n"
       ]
      },
      {
       "output_type": "stream",
       "stream": "stdout",
       "text": [
        "Thread #2: \t2100000 read pairs finished. 40 secs passed\r\n"
       ]
      },
      {
       "output_type": "stream",
       "stream": "stdout",
       "text": [
        "Thread #1: \t2150000 read pairs finished. 40 secs passed\r\n"
       ]
      },
      {
       "output_type": "stream",
       "stream": "stdout",
       "text": [
        "Thread #0: \t2200000 read pairs finished. 41 secs passed\r\n"
       ]
      },
      {
       "output_type": "stream",
       "stream": "stdout",
       "text": [
        "Thread #2: \t2250000 read pairs finished. 42 secs passed\r\n"
       ]
      },
      {
       "output_type": "stream",
       "stream": "stdout",
       "text": [
        "Thread #1: \t2300000 read pairs finished. 43 secs passed\r\n"
       ]
      },
      {
       "output_type": "stream",
       "stream": "stdout",
       "text": [
        "Thread #0: \t2350000 read pairs finished. 44 secs passed\r\n"
       ]
      },
      {
       "output_type": "stream",
       "stream": "stdout",
       "text": [
        "Thread #2: \t2400000 read pairs finished. 44 secs passed\r\n"
       ]
      },
      {
       "output_type": "stream",
       "stream": "stdout",
       "text": [
        "Thread #1: \t2450000 read pairs finished. 46 secs passed\r\n"
       ]
      },
      {
       "output_type": "stream",
       "stream": "stdout",
       "text": [
        "Thread #0: \t2500000 read pairs finished. 47 secs passed\r\n"
       ]
      },
      {
       "output_type": "stream",
       "stream": "stdout",
       "text": [
        "Thread #2: \t2550000 read pairs finished. 47 secs passed\r\n"
       ]
      },
      {
       "output_type": "stream",
       "stream": "stdout",
       "text": [
        "Thread #1: \t2600000 read pairs finished. 48 secs passed\r\n"
       ]
      },
      {
       "output_type": "stream",
       "stream": "stdout",
       "text": [
        "Thread #0: \t2650000 read pairs finished. 49 secs passed\r\n"
       ]
      },
      {
       "output_type": "stream",
       "stream": "stdout",
       "text": [
        "Thread #2: \t2700000 read pairs finished. 50 secs passed\r\n"
       ]
      },
      {
       "output_type": "stream",
       "stream": "stdout",
       "text": [
        "Thread #1: \t2750000 read pairs finished. 51 secs passed\r\n"
       ]
      },
      {
       "output_type": "stream",
       "stream": "stdout",
       "text": [
        "Thread #0: \t2800000 read pairs finished. 52 secs passed\r\n"
       ]
      },
      {
       "output_type": "stream",
       "stream": "stdout",
       "text": [
        "Thread #2: \t2850000 read pairs finished. 52 secs passed\r\n"
       ]
      },
      {
       "output_type": "stream",
       "stream": "stdout",
       "text": [
        "Thread #1: \t2900000 read pairs finished. 54 secs passed\r\n"
       ]
      },
      {
       "output_type": "stream",
       "stream": "stdout",
       "text": [
        "Thread #0: \t2950000 read pairs finished. 54 secs passed\r\n"
       ]
      },
      {
       "output_type": "stream",
       "stream": "stdout",
       "text": [
        "Thread #2: \t3000000 read pairs finished. 55 secs passed\r\n"
       ]
      },
      {
       "output_type": "stream",
       "stream": "stdout",
       "text": [
        "Thread #1: \t3050000 read pairs finished. 56 secs passed\r\n"
       ]
      },
      {
       "output_type": "stream",
       "stream": "stdout",
       "text": [
        "Thread #0: \t3100000 read pairs finished. 57 secs passed\r\n"
       ]
      },
      {
       "output_type": "stream",
       "stream": "stdout",
       "text": [
        "Thread #2: \t3150000 read pairs finished. 58 secs passed\r\n"
       ]
      },
      {
       "output_type": "stream",
       "stream": "stdout",
       "text": [
        "Thread #1: \t3200000 read pairs finished. 59 secs passed\r\n"
       ]
      },
      {
       "output_type": "stream",
       "stream": "stdout",
       "text": [
        "Thread #0: \t3250000 read pairs finished. 60 secs passed\r\n"
       ]
      },
      {
       "output_type": "stream",
       "stream": "stdout",
       "text": [
        "Thread #"
       ]
      },
      {
       "output_type": "stream",
       "stream": "stdout",
       "text": [
        "2: \t3300000 read pairs finished. 61 secs passed\r\n"
       ]
      },
      {
       "output_type": "stream",
       "stream": "stdout",
       "text": [
        "Thread #1: \t3350000 read pairs finished. 61 secs passed\r\n"
       ]
      },
      {
       "output_type": "stream",
       "stream": "stdout",
       "text": [
        "Thread #0: \t3400000 read pairs finished. 62 secs passed\r\n"
       ]
      },
      {
       "output_type": "stream",
       "stream": "stdout",
       "text": [
        "Thread #2: \t3450000 read pairs finished. 63 secs passed\r\n"
       ]
      },
      {
       "output_type": "stream",
       "stream": "stdout",
       "text": [
        "Thread #1: \t3500000 read pairs finished. 64 secs passed\r\n"
       ]
      },
      {
       "output_type": "stream",
       "stream": "stdout",
       "text": [
        "Thread #0: \t3550000 read pairs finished. 65 secs passed\r\n"
       ]
      },
      {
       "output_type": "stream",
       "stream": "stdout",
       "text": [
        "Thread #2: \t3600000 read pairs finished. 65 secs passed\r\n"
       ]
      },
      {
       "output_type": "stream",
       "stream": "stdout",
       "text": [
        "Thread #1: \t3650000 read pairs finished. 66 secs passed\r\n"
       ]
      },
      {
       "output_type": "stream",
       "stream": "stdout",
       "text": [
        "Thread #0: \t3700000 read pairs finished. 67 secs passed\r\n"
       ]
      },
      {
       "output_type": "stream",
       "stream": "stdout",
       "text": [
        "Thread #2: \t3750000 read pairs finished. 68 secs passed\r\n"
       ]
      },
      {
       "output_type": "stream",
       "stream": "stdout",
       "text": [
        "Thread #1: \t3800000 read pairs finished. 69 secs passed\r\n"
       ]
      },
      {
       "output_type": "stream",
       "stream": "stdout",
       "text": [
        "Thread #"
       ]
      },
      {
       "output_type": "stream",
       "stream": "stdout",
       "text": [
        "0: \t3850000 read pairs finished. 70 secs passed\r\n"
       ]
      },
      {
       "output_type": "stream",
       "stream": "stdout",
       "text": [
        "Thread #2: \t3900000 read pairs finished. 71 secs passed\r\n"
       ]
      },
      {
       "output_type": "stream",
       "stream": "stdout",
       "text": [
        "Thread #1: \t3950000 read pairs finished. 72 secs passed\r\n"
       ]
      },
      {
       "output_type": "stream",
       "stream": "stdout",
       "text": [
        "Thread #0: \t4000000 read pairs finished. 73 secs passed\r\n"
       ]
      },
      {
       "output_type": "stream",
       "stream": "stdout",
       "text": [
        "Thread #2: \t4050000 read pairs finished. 74 secs passed\r\n"
       ]
      },
      {
       "output_type": "stream",
       "stream": "stdout",
       "text": [
        "Thread #1: \t4100000 read pairs finished. 75 secs passed\r\n"
       ]
      },
      {
       "output_type": "stream",
       "stream": "stdout",
       "text": [
        "Thread #0: \t4150000 read pairs finished. 76 secs passed\r\n"
       ]
      },
      {
       "output_type": "stream",
       "stream": "stdout",
       "text": [
        "Thread #2: \t4200000 read pairs finished. 77 secs passed\r\n"
       ]
      },
      {
       "output_type": "stream",
       "stream": "stdout",
       "text": [
        "Thread #1: \t4250000 read pairs finished. 78 secs passed\r\n"
       ]
      },
      {
       "output_type": "stream",
       "stream": "stdout",
       "text": [
        "Thread #0: \t4300000 read pairs finished. 79 secs passed\r\n"
       ]
      },
      {
       "output_type": "stream",
       "stream": "stdout",
       "text": [
        "Thread #2: \t4350000 read pairs finished. 79 secs passed\r\n"
       ]
      },
      {
       "output_type": "stream",
       "stream": "stdout",
       "text": [
        "Thread #1: \t4400000 read pairs finished. 80 secs passed\r\n"
       ]
      },
      {
       "output_type": "stream",
       "stream": "stdout",
       "text": [
        "Thread #0: \t4450000 read pairs finished. 81 secs passed\r\n"
       ]
      },
      {
       "output_type": "stream",
       "stream": "stdout",
       "text": [
        "Thread #2: \t4500000 read pairs finished. 82 secs passed\r\n"
       ]
      },
      {
       "output_type": "stream",
       "stream": "stdout",
       "text": [
        "Thread #1: \t4550000 read pairs finished. 83 secs passed\r\n"
       ]
      },
      {
       "output_type": "stream",
       "stream": "stdout",
       "text": [
        "Thread #0: \t4600000 read pairs finished. 84 secs passed\r\n"
       ]
      },
      {
       "output_type": "stream",
       "stream": "stdout",
       "text": [
        "Thread #2: \t4650000 read pairs finished. 85 secs passed\r\n"
       ]
      },
      {
       "output_type": "stream",
       "stream": "stdout",
       "text": [
        "Thread #1: \t4700000 read pairs finished. 86 secs passed\r\n"
       ]
      },
      {
       "output_type": "stream",
       "stream": "stdout",
       "text": [
        "Thread #0: \t4750000 read pairs finished. 86 secs passed\r\n"
       ]
      },
      {
       "output_type": "stream",
       "stream": "stdout",
       "text": [
        "Thread #2: \t4800000 read pairs finished. 87 secs passed\r\n"
       ]
      },
      {
       "output_type": "stream",
       "stream": "stdout",
       "text": [
        "Thread #1: \t4850000 read pairs finished. 88 secs passed\r\n"
       ]
      },
      {
       "output_type": "stream",
       "stream": "stdout",
       "text": [
        "Thread #0: \t4900000 read pairs finished. 89 secs passed\r\n"
       ]
      },
      {
       "output_type": "stream",
       "stream": "stdout",
       "text": [
        "Thread #2: \t4950000 read pairs finished. 90 secs passed\r\n"
       ]
      },
      {
       "output_type": "stream",
       "stream": "stdout",
       "text": [
        "Thread #1: \t5000000 read pairs finished. 90 secs passed\r\n"
       ]
      },
      {
       "output_type": "stream",
       "stream": "stdout",
       "text": [
        "Thread #0: \t5050000 read pairs finished. 91 secs passed\r\n"
       ]
      },
      {
       "output_type": "stream",
       "stream": "stdout",
       "text": [
        "Thread #2: \t5100000 read pairs finished. 92 secs passed\r\n"
       ]
      },
      {
       "output_type": "stream",
       "stream": "stdout",
       "text": [
        "Thread #1: \t5150000 read pairs finished. 93 secs passed\r\n"
       ]
      },
      {
       "output_type": "stream",
       "stream": "stdout",
       "text": [
        "Thread #0: \t5200000 read pairs finished. 94 secs passed\r\n"
       ]
      },
      {
       "output_type": "stream",
       "stream": "stdout",
       "text": [
        "Thread #2: \t5250000 read pairs finished. 95 secs passed\r\n"
       ]
      },
      {
       "output_type": "stream",
       "stream": "stdout",
       "text": [
        "Thread #1: \t5300000 read pairs finished. 96 secs passed\r\n"
       ]
      },
      {
       "output_type": "stream",
       "stream": "stdout",
       "text": [
        "Thread #0: \t5350000 read pairs finished. 97 secs passed\r\n"
       ]
      },
      {
       "output_type": "stream",
       "stream": "stdout",
       "text": [
        "Thread #2: \t5400000 read pairs finished. 98 secs passed\r\n"
       ]
      },
      {
       "output_type": "stream",
       "stream": "stdout",
       "text": [
        "Thread #1: \t5450000 read pairs finished. 98 secs passed\r\n"
       ]
      },
      {
       "output_type": "stream",
       "stream": "stdout",
       "text": [
        "Thread #0: \t5500000 read pairs finished. 99 secs passed\r\n"
       ]
      },
      {
       "output_type": "stream",
       "stream": "stdout",
       "text": [
        "Thread #2: \t5550000 read pairs finished. 100 secs passed\r\n"
       ]
      },
      {
       "output_type": "stream",
       "stream": "stdout",
       "text": [
        "Thread #1: \t5600000 read pairs finished. 101 secs passed\r\n"
       ]
      },
      {
       "output_type": "stream",
       "stream": "stdout",
       "text": [
        "Thread #0: \t5650000 read pairs finished. 102 secs passed\r\n"
       ]
      },
      {
       "output_type": "stream",
       "stream": "stdout",
       "text": [
        "Thread #2: \t5700000 read pairs finished. 102 secs passed\r\n"
       ]
      },
      {
       "output_type": "stream",
       "stream": "stdout",
       "text": [
        "Thread #1: \t5750000 read pairs finished. 103 secs passed\r\n"
       ]
      },
      {
       "output_type": "stream",
       "stream": "stdout",
       "text": [
        "Thread #0: \t5800000 read pairs finished. 104 secs passed\r\n"
       ]
      },
      {
       "output_type": "stream",
       "stream": "stdout",
       "text": [
        "Thread #2: \t5850000 read pairs finished. 105 secs passed\r\n"
       ]
      },
      {
       "output_type": "stream",
       "stream": "stdout",
       "text": [
        "Thread #1: \t5900000 read pairs finished. 105 secs passed\r\n"
       ]
      },
      {
       "output_type": "stream",
       "stream": "stdout",
       "text": [
        "Thread #0: \t5950000 read pairs finished. 106 secs passed\r\n"
       ]
      },
      {
       "output_type": "stream",
       "stream": "stdout",
       "text": [
        "Thread #2: \t6000000 read pairs finished. 107 secs passed\r\n"
       ]
      },
      {
       "output_type": "stream",
       "stream": "stdout",
       "text": [
        "Thread #1: \t6050000 read pairs finished. 108 secs passed\r\n"
       ]
      },
      {
       "output_type": "stream",
       "stream": "stdout",
       "text": [
        "Thread #0: \t6100000 read pairs finished. 109 secs passed\r\n"
       ]
      },
      {
       "output_type": "stream",
       "stream": "stdout",
       "text": [
        "Thread #2: \t6150000 read pairs finished. 110 secs passed\r\n"
       ]
      },
      {
       "output_type": "stream",
       "stream": "stdout",
       "text": [
        "Thread #1: \t6200000 read pairs finished. 111 secs passed\r\n"
       ]
      },
      {
       "output_type": "stream",
       "stream": "stdout",
       "text": [
        "Thread #0: \t6250000 read pairs finished. 112 secs passed\r\n"
       ]
      },
      {
       "output_type": "stream",
       "stream": "stdout",
       "text": [
        "Thread #2: \t6300000 read pairs finished. 113 secs passed\r\n"
       ]
      },
      {
       "output_type": "stream",
       "stream": "stdout",
       "text": [
        "Thread #1: \t6350000 read pairs finished. 114 secs passed\r\n"
       ]
      },
      {
       "output_type": "stream",
       "stream": "stdout",
       "text": [
        "Thread #0: \t6400000 read pairs finished. 114 secs passed\r\n"
       ]
      },
      {
       "output_type": "stream",
       "stream": "stdout",
       "text": [
        "Thread #2: \t6450000 read pairs finished. 115 secs passed\r\n"
       ]
      },
      {
       "output_type": "stream",
       "stream": "stdout",
       "text": [
        "Thread #1: \t6500000 read pairs finished. 116 secs passed\r\n"
       ]
      },
      {
       "output_type": "stream",
       "stream": "stdout",
       "text": [
        "Thread #0: \t6550000 read pairs finished. 117 secs passed\r\n"
       ]
      },
      {
       "output_type": "stream",
       "stream": "stdout",
       "text": [
        "Thread #2: \t6600000 read pairs finished. 118 secs passed\r\n"
       ]
      },
      {
       "output_type": "stream",
       "stream": "stdout",
       "text": [
        "Thread #1: \t6650000 read pairs finished. 118 secs passed\r\n"
       ]
      },
      {
       "output_type": "stream",
       "stream": "stdout",
       "text": [
        "Thread #0: \t6700000 read pairs finished. 119 secs passed\r\n"
       ]
      },
      {
       "output_type": "stream",
       "stream": "stdout",
       "text": [
        "Thread #2: \t6750000 read pairs finished. 120 secs passed\r\n"
       ]
      },
      {
       "output_type": "stream",
       "stream": "stdout",
       "text": [
        "Thread #1: \t6800000 read pairs finished. 121 secs passed\r\n"
       ]
      },
      {
       "output_type": "stream",
       "stream": "stdout",
       "text": [
        "Thread #0: \t6850000 read pairs finished. 122 secs passed\r\n"
       ]
      },
      {
       "output_type": "stream",
       "stream": "stdout",
       "text": [
        "Thread #2: \t6900000 read pairs finished. 123 secs passed\r\n"
       ]
      },
      {
       "output_type": "stream",
       "stream": "stdout",
       "text": [
        "Thread #1: \t6950000 read pairs finished. 123 secs passed\r\n"
       ]
      },
      {
       "output_type": "stream",
       "stream": "stdout",
       "text": [
        "Thread #0: \t7000000 read pairs finished. 124 secs passed\r\n"
       ]
      },
      {
       "output_type": "stream",
       "stream": "stdout",
       "text": [
        "Thread #2: \t7050000 read pairs finished. 125 secs passed\r\n"
       ]
      },
      {
       "output_type": "stream",
       "stream": "stdout",
       "text": [
        "Thread #1: \t7100000 read pairs finished. 126 secs passed\r\n"
       ]
      },
      {
       "output_type": "stream",
       "stream": "stdout",
       "text": [
        "Thread #0: \t7150000 read pairs finished. 127 secs passed\r\n"
       ]
      },
      {
       "output_type": "stream",
       "stream": "stdout",
       "text": [
        "Thread #2: \t7200000 read pairs finished. 128 secs passed\r\n"
       ]
      },
      {
       "output_type": "stream",
       "stream": "stdout",
       "text": [
        "Thread #1: \t7250000 read pairs finished. 129 secs passed\r\n"
       ]
      },
      {
       "output_type": "stream",
       "stream": "stdout",
       "text": [
        "Thread #0: \t7300000 read pairs finished. 130 secs passed\r\n"
       ]
      },
      {
       "output_type": "stream",
       "stream": "stdout",
       "text": [
        "Thread #2: \t7350000 read pairs finished. 130 secs passed\r\n"
       ]
      },
      {
       "output_type": "stream",
       "stream": "stdout",
       "text": [
        "Thread #1: \t7400000 read pairs finished. 131 secs passed\r\n"
       ]
      },
      {
       "output_type": "stream",
       "stream": "stdout",
       "text": [
        "Thread #0: \t7450000 read pairs finished. 132 secs passed\r\n"
       ]
      },
      {
       "output_type": "stream",
       "stream": "stdout",
       "text": [
        "Thread #2: \t7500000 read pairs finished. 133 secs passed\r\n"
       ]
      },
      {
       "output_type": "stream",
       "stream": "stdout",
       "text": [
        "Thread #1: \t7550000 read pairs finished. 134 secs passed\r\n"
       ]
      },
      {
       "output_type": "stream",
       "stream": "stdout",
       "text": [
        "Thread #0: \t7600000 read pairs finished. 135 secs passed\r\n"
       ]
      },
      {
       "output_type": "stream",
       "stream": "stdout",
       "text": [
        "Thread #2: \t7650000 read pairs finished. 137 secs passed\r\n"
       ]
      },
      {
       "output_type": "stream",
       "stream": "stdout",
       "text": [
        "Thread #1: \t7700000 read pairs finished. 138 secs passed\r\n"
       ]
      },
      {
       "output_type": "stream",
       "stream": "stdout",
       "text": [
        "Thread #0: \t7750000 read pairs finished. 138 secs passed\r\n"
       ]
      },
      {
       "output_type": "stream",
       "stream": "stdout",
       "text": [
        "Thread #2: \t7800000 read pairs finished. 139 secs passed\r\n"
       ]
      },
      {
       "output_type": "stream",
       "stream": "stdout",
       "text": [
        "Thread #1: \t7850000 read pairs finished. 140 secs passed\r\n"
       ]
      },
      {
       "output_type": "stream",
       "stream": "stdout",
       "text": [
        "Thread #0: \t7900000 read pairs finished. 141 secs passed\r\n"
       ]
      },
      {
       "output_type": "stream",
       "stream": "stdout",
       "text": [
        "Thread #2: \t7950000 read pairs finished. 142 secs passed\r\n"
       ]
      },
      {
       "output_type": "stream",
       "stream": "stdout",
       "text": [
        "Thread #1: \t8000000 read pairs finished. 143 secs passed\r\n"
       ]
      },
      {
       "output_type": "stream",
       "stream": "stdout",
       "text": [
        "Thread #0: \t8050000 read pairs finished. 143 secs passed\r\n"
       ]
      },
      {
       "output_type": "stream",
       "stream": "stdout",
       "text": [
        "Thread #2: \t8100000 read pairs finished. 144 secs passed\r\n"
       ]
      },
      {
       "output_type": "stream",
       "stream": "stdout",
       "text": [
        "Thread #1: \t8150000 read pairs finished. 145 secs passed\r\n"
       ]
      },
      {
       "output_type": "stream",
       "stream": "stdout",
       "text": [
        "Thread #0: \t8200000 read pairs finished. 146 secs passed\r\n"
       ]
      },
      {
       "output_type": "stream",
       "stream": "stdout",
       "text": [
        "Thread #2: \t8250000 read pairs finished. 146 secs passed\r\n"
       ]
      },
      {
       "output_type": "stream",
       "stream": "stdout",
       "text": [
        "Thread #1: \t8300000 read pairs finished. 147 secs passed\r\n"
       ]
      },
      {
       "output_type": "stream",
       "stream": "stdout",
       "text": [
        "Thread #0: \t8350000 read pairs finished. 148 secs passed\r\n"
       ]
      },
      {
       "output_type": "stream",
       "stream": "stdout",
       "text": [
        "Thread #2: \t8400000 read pairs finished. 149 secs passed\r\n"
       ]
      },
      {
       "output_type": "stream",
       "stream": "stdout",
       "text": [
        "Thread #1: \t8450000 read pairs finished. 150 secs passed\r\n"
       ]
      },
      {
       "output_type": "stream",
       "stream": "stdout",
       "text": [
        "Thread #0: \t8500000 read pairs finished. 151 secs passed\r\n"
       ]
      },
      {
       "output_type": "stream",
       "stream": "stdout",
       "text": [
        "Thread #2: \t8550000 read pairs finished. 152 secs passed\r\n"
       ]
      },
      {
       "output_type": "stream",
       "stream": "stdout",
       "text": [
        "Thread #1: \t8600000 read pairs finished. 153 secs passed\r\n"
       ]
      },
      {
       "output_type": "stream",
       "stream": "stdout",
       "text": [
        "Thread #0: \t8650000 read pairs finished. 154 secs passed\r\n"
       ]
      },
      {
       "output_type": "stream",
       "stream": "stdout",
       "text": [
        "Thread #2: \t8700000 read pairs finished. 155 secs passed\r\n"
       ]
      },
      {
       "output_type": "stream",
       "stream": "stdout",
       "text": [
        "Thread #1: \t8750000 read pairs finished. 156 secs passed\r\n"
       ]
      },
      {
       "output_type": "stream",
       "stream": "stdout",
       "text": [
        "Thread #0: \t8800000 read pairs finished. 157 secs passed\r\n"
       ]
      },
      {
       "output_type": "stream",
       "stream": "stdout",
       "text": [
        "Thread #2: \t8850000 read pairs finished. 157 secs passed\r\n"
       ]
      },
      {
       "output_type": "stream",
       "stream": "stdout",
       "text": [
        "Thread #1: \t8900000 read pairs finished. 158 secs passed\r\n"
       ]
      },
      {
       "output_type": "stream",
       "stream": "stdout",
       "text": [
        "Thread #0: \t8950000 read pairs finished. 159 secs passed\r\n"
       ]
      },
      {
       "output_type": "stream",
       "stream": "stdout",
       "text": [
        "Thread #2: \t9000000 read pairs finished. 160 secs passed\r\n"
       ]
      },
      {
       "output_type": "stream",
       "stream": "stdout",
       "text": [
        "Thread #1: \t9050000 read pairs finished. 161 secs passed\r\n"
       ]
      },
      {
       "output_type": "stream",
       "stream": "stdout",
       "text": [
        "Thread #0: \t9100000 read pairs finished. 162 secs passed\r\n"
       ]
      },
      {
       "output_type": "stream",
       "stream": "stdout",
       "text": [
        "Thread #2: \t9150000 read pairs finished. 163 secs passed\r\n"
       ]
      },
      {
       "output_type": "stream",
       "stream": "stdout",
       "text": [
        "Thread #1: \t9200000 read pairs finished. 164 secs passed\r\n"
       ]
      },
      {
       "output_type": "stream",
       "stream": "stdout",
       "text": [
        "Thread #0: \t9250000 read pairs finished. 164 secs passed\r\n"
       ]
      },
      {
       "output_type": "stream",
       "stream": "stdout",
       "text": [
        "Thread #2: \t9300000 read pairs finished. 165 secs passed\r\n"
       ]
      },
      {
       "output_type": "stream",
       "stream": "stdout",
       "text": [
        "Thread #1: \t9350000 read pairs finished. 166 secs passed\r\n"
       ]
      },
      {
       "output_type": "stream",
       "stream": "stdout",
       "text": [
        "Thread #0: \t9400000 read pairs finished. 167 secs passed\r\n"
       ]
      },
      {
       "output_type": "stream",
       "stream": "stdout",
       "text": [
        "Thread #2: \t9450000 read pairs finished. 168 secs passed\r\n"
       ]
      },
      {
       "output_type": "stream",
       "stream": "stdout",
       "text": [
        "Thread #1: \t9500000 read pairs finished. 168 secs passed\r\n"
       ]
      },
      {
       "output_type": "stream",
       "stream": "stdout",
       "text": [
        "Thread #0: \t9550000 read pairs finished. 169 secs passed\r\n"
       ]
      },
      {
       "output_type": "stream",
       "stream": "stdout",
       "text": [
        "Thread #2: \t9600000 read pairs finished. 170 secs passed\r\n"
       ]
      },
      {
       "output_type": "stream",
       "stream": "stdout",
       "text": [
        "Thread #1: \t9650000 read pairs finished. 171 secs passed\r\n"
       ]
      },
      {
       "output_type": "stream",
       "stream": "stdout",
       "text": [
        "Thread #0: \t9700000 read pairs finished. 172 secs passed\r\n"
       ]
      },
      {
       "output_type": "stream",
       "stream": "stdout",
       "text": [
        "Thread #2: \t9750000 read pairs finished. 173 secs passed\r\n"
       ]
      },
      {
       "output_type": "stream",
       "stream": "stdout",
       "text": [
        "Thread #1: \t9800000 read pairs finished. 174 secs passed\r\n"
       ]
      },
      {
       "output_type": "stream",
       "stream": "stdout",
       "text": [
        "Thread #0: \t9850000 read pairs finished. 175 secs passed\r\n"
       ]
      },
      {
       "output_type": "stream",
       "stream": "stdout",
       "text": [
        "Thread #2: \t9900000 read pairs finished. 176 secs passed\r\n"
       ]
      },
      {
       "output_type": "stream",
       "stream": "stdout",
       "text": [
        "Thread #1: \t9950000 read pairs finished. 176 secs passed\r\n"
       ]
      },
      {
       "output_type": "stream",
       "stream": "stdout",
       "text": [
        "Thread #0: \t10000000 read pairs finished. 178 secs passed\r\n"
       ]
      },
      {
       "output_type": "stream",
       "stream": "stdout",
       "text": [
        "Thread #2: \t10050000 read pairs finished. 179 secs passed\r\n"
       ]
      },
      {
       "output_type": "stream",
       "stream": "stdout",
       "text": [
        "Thread #1: \t10100000 read pairs finished. 179 secs passed\r\n"
       ]
      },
      {
       "output_type": "stream",
       "stream": "stdout",
       "text": [
        "Thread #0: \t10150000 read pairs finished. 180 secs passed\r\n"
       ]
      },
      {
       "output_type": "stream",
       "stream": "stdout",
       "text": [
        "Thread #2: \t10200000 read pairs finished. 181 secs passed\r\n"
       ]
      },
      {
       "output_type": "stream",
       "stream": "stdout",
       "text": [
        "Thread #1: \t10250000 read pairs finished. 181 secs passed\r\n"
       ]
      },
      {
       "output_type": "stream",
       "stream": "stdout",
       "text": [
        "Thread #0: \t10300000 read pairs finished. 182 secs passed\r\n"
       ]
      },
      {
       "output_type": "stream",
       "stream": "stdout",
       "text": [
        "Thread #2: \t10350000 read pairs finished. 183 secs passed\r\n"
       ]
      },
      {
       "output_type": "stream",
       "stream": "stdout",
       "text": [
        "Thread #1: \t10400000 read pairs finished. 184 secs passed\r\n"
       ]
      },
      {
       "output_type": "stream",
       "stream": "stdout",
       "text": [
        "Thread #0: \t10450000 read pairs finished. 185 secs passed\r\n"
       ]
      },
      {
       "output_type": "stream",
       "stream": "stdout",
       "text": [
        "Thread #2: \t10500000 read pairs finished. 186 secs passed\r\n"
       ]
      },
      {
       "output_type": "stream",
       "stream": "stdout",
       "text": [
        "Thread #1: \t10550000 read pairs finished. 187 secs passed\r\n"
       ]
      },
      {
       "output_type": "stream",
       "stream": "stdout",
       "text": [
        "Thread #0: \t10600000 read pairs finished. 188 secs passed\r\n"
       ]
      },
      {
       "output_type": "stream",
       "stream": "stdout",
       "text": [
        "Thread #2: \t10650000 read pairs finished. 188 secs passed\r\n"
       ]
      },
      {
       "output_type": "stream",
       "stream": "stdout",
       "text": [
        "Thread #1: \t10700000 read pairs finished. 189 secs passed\r\n"
       ]
      },
      {
       "output_type": "stream",
       "stream": "stdout",
       "text": [
        "Thread #0: \t10750000 read pairs finished. 190 secs passed\r\n"
       ]
      },
      {
       "output_type": "stream",
       "stream": "stdout",
       "text": [
        "Thread #2: \t10800000 read pairs finished. 191 secs passed\r\n"
       ]
      },
      {
       "output_type": "stream",
       "stream": "stdout",
       "text": [
        "Thread #1: \t10850000 read pairs finished. 192 secs passed\r\n"
       ]
      },
      {
       "output_type": "stream",
       "stream": "stdout",
       "text": [
        "Thread #0: \t10900000 read pairs finished. 193 secs passed\r\n"
       ]
      },
      {
       "output_type": "stream",
       "stream": "stdout",
       "text": [
        "Thread #2: \t10950000 read pairs finished. 194 secs passed\r\n"
       ]
      },
      {
       "output_type": "stream",
       "stream": "stdout",
       "text": [
        "Thread #1: \t11000000 read pairs finished. 195 secs passed\r\n"
       ]
      },
      {
       "output_type": "stream",
       "stream": "stdout",
       "text": [
        "Thread #0: \t11050000 read pairs finished. 196 secs passed\r\n"
       ]
      },
      {
       "output_type": "stream",
       "stream": "stdout",
       "text": [
        "Thread #2: \t11100000 read pairs finished. 197 secs passed\r\n"
       ]
      },
      {
       "output_type": "stream",
       "stream": "stdout",
       "text": [
        "Thread #1: \t11150000 read pairs finished. 197 secs passed\r\n"
       ]
      },
      {
       "output_type": "stream",
       "stream": "stdout",
       "text": [
        "Thread #0: \t11200000 read pairs finished. 198 secs passed\r\n"
       ]
      },
      {
       "output_type": "stream",
       "stream": "stdout",
       "text": [
        "Thread #2: \t11250000 read pairs finished. 199 secs passed\r\n"
       ]
      },
      {
       "output_type": "stream",
       "stream": "stdout",
       "text": [
        "Thread #1: \t11300000 read pairs finished. 200 secs passed\r\n"
       ]
      },
      {
       "output_type": "stream",
       "stream": "stdout",
       "text": [
        "Thread #0: \t11350000 read pairs finished. 201 secs passed\r\n"
       ]
      },
      {
       "output_type": "stream",
       "stream": "stdout",
       "text": [
        "Thread #2: \t11400000 read pairs finished. 203 secs passed\r\n"
       ]
      },
      {
       "output_type": "stream",
       "stream": "stdout",
       "text": [
        "Thread #1: \t11450000 read pairs finished. 204 secs passed\r\n"
       ]
      },
      {
       "output_type": "stream",
       "stream": "stdout",
       "text": [
        "Thread #0: \t11500000 read pairs finished. 204 secs passed\r\n"
       ]
      },
      {
       "output_type": "stream",
       "stream": "stdout",
       "text": [
        "Thread #2: \t11550000 read pairs finished. 205 secs passed\r\n"
       ]
      },
      {
       "output_type": "stream",
       "stream": "stdout",
       "text": [
        "Thread #1: \t11600000 read pairs finished. 207 secs passed\r\n"
       ]
      },
      {
       "output_type": "stream",
       "stream": "stdout",
       "text": [
        "Thread #0: \t11650000 read pairs finished. 207 secs passed\r\n"
       ]
      },
      {
       "output_type": "stream",
       "stream": "stdout",
       "text": [
        "Thread #2: \t11700000 read pairs finished. 208 secs passed\r\n"
       ]
      },
      {
       "output_type": "stream",
       "stream": "stdout",
       "text": [
        "Thread #1: \t11750000 read pairs finished. 209 secs passed\r\n"
       ]
      },
      {
       "output_type": "stream",
       "stream": "stdout",
       "text": [
        "Thread #0: \t11800000 read pairs finished. 209 secs passed\r\n"
       ]
      },
      {
       "output_type": "stream",
       "stream": "stdout",
       "text": [
        "Thread #2: \t11850000 read pairs finished. 210 secs passed\r\n"
       ]
      },
      {
       "output_type": "stream",
       "stream": "stdout",
       "text": [
        "Thread #1: \t11900000 read pairs finished. 211 secs passed\r\n"
       ]
      },
      {
       "output_type": "stream",
       "stream": "stdout",
       "text": [
        "Thread #0: \t11950000 read pairs finished. 212 secs passed\r\n"
       ]
      },
      {
       "output_type": "stream",
       "stream": "stdout",
       "text": [
        "Thread #2: \t12000000 read pairs finished. 213 secs passed\r\n"
       ]
      },
      {
       "output_type": "stream",
       "stream": "stdout",
       "text": [
        "Thread #1: \t12050000 read pairs finished. 214 secs passed\r\n"
       ]
      },
      {
       "output_type": "stream",
       "stream": "stdout",
       "text": [
        "Thread #0: \t12100000 read pairs finished. 214 secs passed\r\n"
       ]
      },
      {
       "output_type": "stream",
       "stream": "stdout",
       "text": [
        "Thread #2: \t12150000 read pairs finished. 216 secs passed\r\n"
       ]
      },
      {
       "output_type": "stream",
       "stream": "stdout",
       "text": [
        "Thread #1: \t12200000 read pairs finished. 217 secs passed\r\n"
       ]
      },
      {
       "output_type": "stream",
       "stream": "stdout",
       "text": [
        "Thread #"
       ]
      },
      {
       "output_type": "stream",
       "stream": "stdout",
       "text": [
        "0: \t12250000 read pairs finished. 218 secs passed\r\n"
       ]
      },
      {
       "output_type": "stream",
       "stream": "stdout",
       "text": [
        "Thread #2: \t12300000 read pairs finished. 219 secs passed\r\n"
       ]
      },
      {
       "output_type": "stream",
       "stream": "stdout",
       "text": [
        "Thread #1: \t12350000 read pairs finished. 220 secs passed\r\n"
       ]
      },
      {
       "output_type": "stream",
       "stream": "stdout",
       "text": [
        "Thread #0: \t12400000 read pairs finished. 221 secs passed\r\n"
       ]
      },
      {
       "output_type": "stream",
       "stream": "stdout",
       "text": [
        "Thread #2: \t12450000 read pairs finished. 222 secs passed\r\n"
       ]
      },
      {
       "output_type": "stream",
       "stream": "stdout",
       "text": [
        "Thread #"
       ]
      },
      {
       "output_type": "stream",
       "stream": "stdout",
       "text": [
        "1: \t12500000 read pairs finished. 223 secs passed\r\n"
       ]
      },
      {
       "output_type": "stream",
       "stream": "stdout",
       "text": [
        "Thread #0: \t12550000 read pairs finished. 224 secs passed\r\n"
       ]
      },
      {
       "output_type": "stream",
       "stream": "stdout",
       "text": [
        "Thread #2: \t12600000 read pairs finished. 225 secs passed\r\n"
       ]
      },
      {
       "output_type": "stream",
       "stream": "stdout",
       "text": [
        "Thread #1: \t12650000 read pairs finished. 226 secs passed\r\n"
       ]
      },
      {
       "output_type": "stream",
       "stream": "stdout",
       "text": [
        "Thread #0: \t12700000 read pairs finished. 227 secs passed\r\n"
       ]
      },
      {
       "output_type": "stream",
       "stream": "stdout",
       "text": [
        "Thread #2: \t12750000 read pairs finished. 228 secs passed\r\n"
       ]
      },
      {
       "output_type": "stream",
       "stream": "stdout",
       "text": [
        "Thread #1: \t12800000 read pairs finished. 230 secs passed\r\n"
       ]
      },
      {
       "output_type": "stream",
       "stream": "stdout",
       "text": [
        "Thread #0: \t12850000 read pairs finished. 231 secs passed\r\n"
       ]
      },
      {
       "output_type": "stream",
       "stream": "stdout",
       "text": [
        "Thread #2: \t12900000 read pairs finished. 231 secs passed\r\n"
       ]
      },
      {
       "output_type": "stream",
       "stream": "stdout",
       "text": [
        "Thread #1: \t12950000 read pairs finished. 233 secs passed\r\n"
       ]
      },
      {
       "output_type": "stream",
       "stream": "stdout",
       "text": [
        "Thread #0: \t13000000 read pairs finished. 234 secs passed\r\n"
       ]
      },
      {
       "output_type": "stream",
       "stream": "stdout",
       "text": [
        "Thread #2: \t13050000 read pairs finished. 234 secs passed\r\n"
       ]
      },
      {
       "output_type": "stream",
       "stream": "stdout",
       "text": [
        "Thread #1: \t13100000 read pairs finished. 235 secs passed\r\n"
       ]
      },
      {
       "output_type": "stream",
       "stream": "stdout",
       "text": [
        "Thread #0: \t13150000 read pairs finished. 236 secs passed\r\n"
       ]
      },
      {
       "output_type": "stream",
       "stream": "stdout",
       "text": [
        "Thread #2: \t13200000 read pairs finished. 237 secs passed\r\n"
       ]
      },
      {
       "output_type": "stream",
       "stream": "stdout",
       "text": [
        "Thread #1: \t13250000 read pairs finished. 238 secs passed\r\n"
       ]
      },
      {
       "output_type": "stream",
       "stream": "stdout",
       "text": [
        "Thread #0: \t13300000 read pairs finished. 239 secs passed\r\n"
       ]
      },
      {
       "output_type": "stream",
       "stream": "stdout",
       "text": [
        "Thread #2: \t13350000 read pairs finished. 240 secs passed\r\n"
       ]
      },
      {
       "output_type": "stream",
       "stream": "stdout",
       "text": [
        "Thread #1: \t13400000 read pairs finished. 241 secs passed\r\n"
       ]
      },
      {
       "output_type": "stream",
       "stream": "stdout",
       "text": [
        "Thread #0: \t13450000 read pairs finished. 242 secs passed\r\n"
       ]
      },
      {
       "output_type": "stream",
       "stream": "stdout",
       "text": [
        "Thread #2: \t13500000 read pairs finished. 243 secs passed\r\n"
       ]
      },
      {
       "output_type": "stream",
       "stream": "stdout",
       "text": [
        "Thread #1: \t13550000 read pairs finished. 244 secs passed\r\n"
       ]
      },
      {
       "output_type": "stream",
       "stream": "stdout",
       "text": [
        "Thread #0: \t13600000 read pairs finished. 245 secs passed\r\n"
       ]
      },
      {
       "output_type": "stream",
       "stream": "stdout",
       "text": [
        "Thread #2: \t13650000 read pairs finished. 246 secs passed\r\n"
       ]
      },
      {
       "output_type": "stream",
       "stream": "stdout",
       "text": [
        "Thread #1: \t13700000 read pairs finished. 247 secs passed\r\n"
       ]
      },
      {
       "output_type": "stream",
       "stream": "stdout",
       "text": [
        "Thread #0: \t13750000 read pairs finished. 248 secs passed\r\n"
       ]
      },
      {
       "output_type": "stream",
       "stream": "stdout",
       "text": [
        "Thread #2: \t13800000 read pairs finished. 250 secs passed\r\n"
       ]
      },
      {
       "output_type": "stream",
       "stream": "stdout",
       "text": [
        "Thread #1: \t13850000 read pairs finished. 251 secs passed\r\n"
       ]
      },
      {
       "output_type": "stream",
       "stream": "stdout",
       "text": [
        "Thread #0: \t13900000 read pairs finished. 252 secs passed\r\n"
       ]
      },
      {
       "output_type": "stream",
       "stream": "stdout",
       "text": [
        "Thread #2: \t13950000 read pairs finished. 252 secs passed\r\n"
       ]
      },
      {
       "output_type": "stream",
       "stream": "stdout",
       "text": [
        "Thread #1: \t14000000 read pairs finished. 254 secs passed\r\n"
       ]
      },
      {
       "output_type": "stream",
       "stream": "stdout",
       "text": [
        "Thread #0: \t14050000 read pairs finished. 255 secs passed\r\n"
       ]
      },
      {
       "output_type": "stream",
       "stream": "stdout",
       "text": [
        "Thread #2: \t14100000 read pairs finished. 256 secs passed\r\n"
       ]
      },
      {
       "output_type": "stream",
       "stream": "stdout",
       "text": [
        "Thread #1: \t14150000 read pairs finished. 257 secs passed\r\n"
       ]
      },
      {
       "output_type": "stream",
       "stream": "stdout",
       "text": [
        "Thread #0: \t14200000 read pairs finished. 258 secs passed\r\n"
       ]
      },
      {
       "output_type": "stream",
       "stream": "stdout",
       "text": [
        "Thread #2: \t14250000 read pairs finished. 259 secs passed\r\n"
       ]
      },
      {
       "output_type": "stream",
       "stream": "stdout",
       "text": [
        "Thread #1: \t14300000 read pairs finished. 259 secs passed\r\n"
       ]
      },
      {
       "output_type": "stream",
       "stream": "stdout",
       "text": [
        "Thread #0: \t14350000 read pairs finished. 260 secs passed\r\n"
       ]
      },
      {
       "output_type": "stream",
       "stream": "stdout",
       "text": [
        "Thread #2: \t14400000 read pairs finished. 261 secs passed\r\n"
       ]
      },
      {
       "output_type": "stream",
       "stream": "stdout",
       "text": [
        "Thread #1: \t14450000 read pairs finished. 262 secs passed\r\n"
       ]
      },
      {
       "output_type": "stream",
       "stream": "stdout",
       "text": [
        "Thread #0: \t14500000 read pairs finished. 263 secs passed\r\n"
       ]
      },
      {
       "output_type": "stream",
       "stream": "stdout",
       "text": [
        "Thread #2: \t14550000 read pairs finished. 264 secs passed\r\n"
       ]
      },
      {
       "output_type": "stream",
       "stream": "stdout",
       "text": [
        "Thread #1: \t14600000 read pairs finished. 265 secs passed\r\n"
       ]
      },
      {
       "output_type": "stream",
       "stream": "stdout",
       "text": [
        "Thread #0: \t14650000 read pairs finished. 266 secs passed\r\n"
       ]
      },
      {
       "output_type": "stream",
       "stream": "stdout",
       "text": [
        "Thread #2: \t14700000 read pairs finished. 267 secs passed\r\n"
       ]
      },
      {
       "output_type": "stream",
       "stream": "stdout",
       "text": [
        "Thread #1: \t14750000 read pairs finished. 268 secs passed\r\n"
       ]
      },
      {
       "output_type": "stream",
       "stream": "stdout",
       "text": [
        "Thread #0: \t14800000 read pairs finished. 269 secs passed\r\n"
       ]
      },
      {
       "output_type": "stream",
       "stream": "stdout",
       "text": [
        "Thread #2: \t14850000 read pairs finished. 270 secs passed\r\n"
       ]
      },
      {
       "output_type": "stream",
       "stream": "stdout",
       "text": [
        "Thread #1: \t14900000 read pairs finished. 271 secs passed\r\n"
       ]
      },
      {
       "output_type": "stream",
       "stream": "stdout",
       "text": [
        "Thread #0: \t14950000 read pairs finished. 272 secs passed\r\n"
       ]
      },
      {
       "output_type": "stream",
       "stream": "stdout",
       "text": [
        "Thread #2: \t15000000 read pairs finished. 274 secs passed\r\n"
       ]
      },
      {
       "output_type": "stream",
       "stream": "stdout",
       "text": [
        "Thread #1: \t15050000 read pairs finished. 275 secs passed\r\n"
       ]
      },
      {
       "output_type": "stream",
       "stream": "stdout",
       "text": [
        "Thread #0: \t15100000 read pairs finished. 276 secs passed\r\n"
       ]
      },
      {
       "output_type": "stream",
       "stream": "stdout",
       "text": [
        "Thread #2: \t15150000 read pairs finished. 277 secs passed\r\n"
       ]
      },
      {
       "output_type": "stream",
       "stream": "stdout",
       "text": [
        "Thread #1: \t15200000 read pairs finished. 278 secs passed\r\n"
       ]
      },
      {
       "output_type": "stream",
       "stream": "stdout",
       "text": [
        "Thread #0: \t15250000 read pairs finished. 279 secs passed\r\n"
       ]
      },
      {
       "output_type": "stream",
       "stream": "stdout",
       "text": [
        "Thread #2: \t15300000 read pairs finished. 281 secs passed\r\n"
       ]
      },
      {
       "output_type": "stream",
       "stream": "stdout",
       "text": [
        "Thread #1: \t15350000 read pairs finished. 282 secs passed\r\n"
       ]
      },
      {
       "output_type": "stream",
       "stream": "stdout",
       "text": [
        "Thread #0: \t15400000 read pairs finished. 283 secs passed\r\n"
       ]
      },
      {
       "output_type": "stream",
       "stream": "stdout",
       "text": [
        "Thread #2: \t15450000 read pairs finished. 284 secs passed\r\n"
       ]
      },
      {
       "output_type": "stream",
       "stream": "stdout",
       "text": [
        "Thread #1: \t15500000 read pairs finished. 285 secs passed\r\n"
       ]
      },
      {
       "output_type": "stream",
       "stream": "stdout",
       "text": [
        "Thread #0: \t15550000 read pairs finished. 287 secs passed\r\n"
       ]
      },
      {
       "output_type": "stream",
       "stream": "stdout",
       "text": [
        "Thread #2: \t15600000 read pairs finished. 288 secs passed\r\n"
       ]
      },
      {
       "output_type": "stream",
       "stream": "stdout",
       "text": [
        "Thread #1: \t15650000 read pairs finished. 289 secs passed\r\n"
       ]
      },
      {
       "output_type": "stream",
       "stream": "stdout",
       "text": [
        "Thread #0: \t15700000 read pairs finished. 290 secs passed\r\n"
       ]
      },
      {
       "output_type": "stream",
       "stream": "stdout",
       "text": [
        "Thread #2: \t15750000 read pairs finished. 291 secs passed\r\n"
       ]
      },
      {
       "output_type": "stream",
       "stream": "stdout",
       "text": [
        "Thread #1: \t15800000 read pairs finished. 291 secs passed\r\n"
       ]
      },
      {
       "output_type": "stream",
       "stream": "stdout",
       "text": [
        "Thread #0: \t15850000 read pairs finished. 293 secs passed\r\n"
       ]
      },
      {
       "output_type": "stream",
       "stream": "stdout",
       "text": [
        "Thread #2: \t15900000 read pairs finished. 294 secs passed\r\n"
       ]
      },
      {
       "output_type": "stream",
       "stream": "stdout",
       "text": [
        "Thread #1: \t15950000 read pairs finished. 294 secs passed\r\n"
       ]
      },
      {
       "output_type": "stream",
       "stream": "stdout",
       "text": [
        "Thread #0: \t16000000 read pairs finished. 296 secs passed\r\n"
       ]
      },
      {
       "output_type": "stream",
       "stream": "stdout",
       "text": [
        "Thread #2: \t16050000 read pairs finished. 297 secs passed\r\n"
       ]
      },
      {
       "output_type": "stream",
       "stream": "stdout",
       "text": [
        "Thread #1: \t16100000 read pairs finished. 298 secs passed\r\n"
       ]
      },
      {
       "output_type": "stream",
       "stream": "stdout",
       "text": [
        "Thread #0: \t16150000 read pairs finished. 299 secs passed\r\n"
       ]
      },
      {
       "output_type": "stream",
       "stream": "stdout",
       "text": [
        "Thread #2: \t16200000 read pairs finished. 300 secs passed\r\n"
       ]
      },
      {
       "output_type": "stream",
       "stream": "stdout",
       "text": [
        "Thread #1: \t16250000 read pairs finished. 301 secs passed\r\n"
       ]
      },
      {
       "output_type": "stream",
       "stream": "stdout",
       "text": [
        "Thread #0: \t16300000 read pairs finished. 302 secs passed\r\n"
       ]
      },
      {
       "output_type": "stream",
       "stream": "stdout",
       "text": [
        "Thread #2: \t16350000 read pairs finished. 302 secs passed\r\n"
       ]
      },
      {
       "output_type": "stream",
       "stream": "stdout",
       "text": [
        "Thread #1: \t16400000 read pairs finished. 303 secs passed\r\n"
       ]
      },
      {
       "output_type": "stream",
       "stream": "stdout",
       "text": [
        "Thread #0: \t16450000 read pairs finished. 305 secs passed\r\n"
       ]
      },
      {
       "output_type": "stream",
       "stream": "stdout",
       "text": [
        "Thread #2: \t16500000 read pairs finished. 306 secs passed\r\n"
       ]
      },
      {
       "output_type": "stream",
       "stream": "stdout",
       "text": [
        "Thread #1: \t16550000 read pairs finished. 307 secs passed\r\n"
       ]
      },
      {
       "output_type": "stream",
       "stream": "stdout",
       "text": [
        "Thread #0: \t16600000 read pairs finished. 308 secs passed\r\n"
       ]
      },
      {
       "output_type": "stream",
       "stream": "stdout",
       "text": [
        "Thread #2: \t16650000 read pairs finished. 309 secs passed\r\n"
       ]
      },
      {
       "output_type": "stream",
       "stream": "stdout",
       "text": [
        "Thread #1: \t16700000 read pairs finished. 310 secs passed\r\n"
       ]
      },
      {
       "output_type": "stream",
       "stream": "stdout",
       "text": [
        "Thread #0: \t16750000 read pairs finished. 311 secs passed\r\n"
       ]
      },
      {
       "output_type": "stream",
       "stream": "stdout",
       "text": [
        "Thread #2: \t16800000 read pairs finished. 312 secs passed\r\n"
       ]
      },
      {
       "output_type": "stream",
       "stream": "stdout",
       "text": [
        "Thread #1: \t16850000 read pairs finished. 312 secs passed\r\n"
       ]
      },
      {
       "output_type": "stream",
       "stream": "stdout",
       "text": [
        "Thread #0: \t16900000 read pairs finished. 313 secs passed\r\n"
       ]
      },
      {
       "output_type": "stream",
       "stream": "stdout",
       "text": [
        "Thread #2: \t16950000 read pairs finished. 315 secs passed\r\n"
       ]
      },
      {
       "output_type": "stream",
       "stream": "stdout",
       "text": [
        "Thread #1: \t17000000 read pairs finished. 315 secs passed\r\n"
       ]
      },
      {
       "output_type": "stream",
       "stream": "stdout",
       "text": [
        "Thread #0: \t17050000 read pairs finished. 316 secs passed\r\n"
       ]
      },
      {
       "output_type": "stream",
       "stream": "stdout",
       "text": [
        "Thread #2: \t17100000 read pairs finished. 317 secs passed\r\n"
       ]
      },
      {
       "output_type": "stream",
       "stream": "stdout",
       "text": [
        "Thread #1: \t17150000 read pairs finished. 317 secs passed\r\n"
       ]
      },
      {
       "output_type": "stream",
       "stream": "stdout",
       "text": [
        "Thread #0: \t17200000 read pairs finished. 318 secs passed\r\n"
       ]
      },
      {
       "output_type": "stream",
       "stream": "stdout",
       "text": [
        "Thread #2: \t17250000 read pairs finished. 320 secs passed\r\n"
       ]
      },
      {
       "output_type": "stream",
       "stream": "stdout",
       "text": [
        "Thread #1: \t17300000 read pairs finished. 320 secs passed\r\n"
       ]
      },
      {
       "output_type": "stream",
       "stream": "stdout",
       "text": [
        "Thread #0: \t17350000 read pairs finished. 321 secs passed\r\n"
       ]
      },
      {
       "output_type": "stream",
       "stream": "stdout",
       "text": [
        "Thread #2: \t17400000 read pairs finished. 322 secs passed\r\n"
       ]
      },
      {
       "output_type": "stream",
       "stream": "stdout",
       "text": [
        "Thread #1: \t17450000 read pairs finished. 323 secs passed\r\n"
       ]
      },
      {
       "output_type": "stream",
       "stream": "stdout",
       "text": [
        "Thread #0: \t17500000 read pairs finished. 324 secs passed\r\n"
       ]
      },
      {
       "output_type": "stream",
       "stream": "stdout",
       "text": [
        "Thread #2: \t17550000 read pairs finished. 325 secs passed\r\n"
       ]
      },
      {
       "output_type": "stream",
       "stream": "stdout",
       "text": [
        "Thread #1: \t17600000 read pairs finished. 326 secs passed\r\n"
       ]
      },
      {
       "output_type": "stream",
       "stream": "stdout",
       "text": [
        "Thread #0: \t17650000 read pairs finished. 326 secs passed\r\n"
       ]
      },
      {
       "output_type": "stream",
       "stream": "stdout",
       "text": [
        "Thread #2: \t17700000 read pairs finished. 327 secs passed\r\n"
       ]
      },
      {
       "output_type": "stream",
       "stream": "stdout",
       "text": [
        "Thread #1: \t17750000 read pairs finished. 328 secs passed\r\n"
       ]
      },
      {
       "output_type": "stream",
       "stream": "stdout",
       "text": [
        "Thread #0: \t17800000 read pairs finished. 329 secs passed\r\n"
       ]
      },
      {
       "output_type": "stream",
       "stream": "stdout",
       "text": [
        "Thread #2: \t17850000 read pairs finished. 330 secs passed\r\n"
       ]
      },
      {
       "output_type": "stream",
       "stream": "stdout",
       "text": [
        "Thread #1: \t17900000 read pairs finished. 331 secs passed\r\n"
       ]
      },
      {
       "output_type": "stream",
       "stream": "stdout",
       "text": [
        "Thread #0: \t17950000 read pairs finished. 332 secs passed\r\n"
       ]
      },
      {
       "output_type": "stream",
       "stream": "stdout",
       "text": [
        "Thread #2: \t18000000 read pairs finished. 332 secs passed\r\n"
       ]
      },
      {
       "output_type": "stream",
       "stream": "stdout",
       "text": [
        "Thread #1: \t18050000 read pairs finished. 333 secs passed\r\n"
       ]
      },
      {
       "output_type": "stream",
       "stream": "stdout",
       "text": [
        "Thread #0: \t18100000 read pairs finished. 334 secs passed\r\n"
       ]
      },
      {
       "output_type": "stream",
       "stream": "stdout",
       "text": [
        "Thread #2: \t18150000 read pairs finished. 335 secs passed\r\n"
       ]
      },
      {
       "output_type": "stream",
       "stream": "stdout",
       "text": [
        "Thread #1: \t18200000 read pairs finished. 336 secs passed\r\n"
       ]
      },
      {
       "output_type": "stream",
       "stream": "stdout",
       "text": [
        "Thread #0: \t18250000 read pairs finished. 337 secs passed\r\n"
       ]
      },
      {
       "output_type": "stream",
       "stream": "stdout",
       "text": [
        "Thread #2: \t18300000 read pairs finished. 337 secs passed\r\n"
       ]
      },
      {
       "output_type": "stream",
       "stream": "stdout",
       "text": [
        "Thread #1: \t18350000 read pairs finished. 338 secs passed\r\n"
       ]
      },
      {
       "output_type": "stream",
       "stream": "stdout",
       "text": [
        "Thread #0: \t18400000 read pairs finished. 339 secs passed\r\n"
       ]
      },
      {
       "output_type": "stream",
       "stream": "stdout",
       "text": [
        "Thread #2: \t18450000 read pairs finished. 340 secs passed\r\n"
       ]
      },
      {
       "output_type": "stream",
       "stream": "stdout",
       "text": [
        "Thread #1: \t18500000 read pairs finished. 341 secs passed\r\n"
       ]
      },
      {
       "output_type": "stream",
       "stream": "stdout",
       "text": [
        "Thread #0: \t18550000 read pairs finished. 342 secs passed\r\n"
       ]
      },
      {
       "output_type": "stream",
       "stream": "stdout",
       "text": [
        "Thread #2: \t18600000 read pairs finished. 342 secs passed\r\n"
       ]
      },
      {
       "output_type": "stream",
       "stream": "stdout",
       "text": [
        "Thread #1: \t18650000 read pairs finished. 343 secs passed\r\n"
       ]
      },
      {
       "output_type": "stream",
       "stream": "stdout",
       "text": [
        "Thread #0: \t18700000 read pairs finished. 344 secs passed\r\n"
       ]
      },
      {
       "output_type": "stream",
       "stream": "stdout",
       "text": [
        "Thread #2: \t18750000 read pairs finished. 345 secs passed\r\n"
       ]
      },
      {
       "output_type": "stream",
       "stream": "stdout",
       "text": [
        "Thread #1: \t18800000 read pairs finished. 346 secs passed\r\n"
       ]
      },
      {
       "output_type": "stream",
       "stream": "stdout",
       "text": [
        "Thread #0: \t18850000 read pairs finished. 347 secs passed\r\n"
       ]
      },
      {
       "output_type": "stream",
       "stream": "stdout",
       "text": [
        "Thread #2: \t18900000 read pairs finished. 348 secs passed\r\n"
       ]
      },
      {
       "output_type": "stream",
       "stream": "stdout",
       "text": [
        "Thread #1: \t18950000 read pairs finished. 349 secs passed\r\n"
       ]
      },
      {
       "output_type": "stream",
       "stream": "stdout",
       "text": [
        "Thread #0: \t19000000 read pairs finished. 350 secs passed\r\n"
       ]
      },
      {
       "output_type": "stream",
       "stream": "stdout",
       "text": [
        "Thread #2: \t19050000 read pairs finished. 351 secs passed\r\n"
       ]
      },
      {
       "output_type": "stream",
       "stream": "stdout",
       "text": [
        "Thread #1: \t19100000 read pairs finished. 352 secs passed\r\n"
       ]
      },
      {
       "output_type": "stream",
       "stream": "stdout",
       "text": [
        "Thread #0: \t19150000 read pairs finished. 352 secs passed\r\n"
       ]
      },
      {
       "output_type": "stream",
       "stream": "stdout",
       "text": [
        "Thread #2: \t19200000 read pairs finished. 353 secs passed\r\n"
       ]
      },
      {
       "output_type": "stream",
       "stream": "stdout",
       "text": [
        "Thread #1: \t19250000 read pairs finished. 354 secs passed\r\n"
       ]
      },
      {
       "output_type": "stream",
       "stream": "stdout",
       "text": [
        "Thread #0: \t19300000 read pairs finished. 355 secs passed\r\n"
       ]
      },
      {
       "output_type": "stream",
       "stream": "stdout",
       "text": [
        "Thread #2: \t19350000 read pairs finished. 356 secs passed\r\n"
       ]
      },
      {
       "output_type": "stream",
       "stream": "stdout",
       "text": [
        "Thread #1: \t19400000 read pairs finished. 356 secs passed\r\n"
       ]
      },
      {
       "output_type": "stream",
       "stream": "stdout",
       "text": [
        "Thread #0: \t19450000 read pairs finished. 357 secs passed\r\n"
       ]
      },
      {
       "output_type": "stream",
       "stream": "stdout",
       "text": [
        "Thread #2: \t19500000 read pairs finished. 358 secs passed\r\n"
       ]
      },
      {
       "output_type": "stream",
       "stream": "stdout",
       "text": [
        "Thread #1: \t19550000 read pairs finished. 359 secs passed\r\n"
       ]
      },
      {
       "output_type": "stream",
       "stream": "stdout",
       "text": [
        "Thread #0: \t19600000 read pairs finished. 360 secs passed\r\n"
       ]
      },
      {
       "output_type": "stream",
       "stream": "stdout",
       "text": [
        "Thread #2: \t19650000 read pairs finished. 361 secs passed\r\n"
       ]
      },
      {
       "output_type": "stream",
       "stream": "stdout",
       "text": [
        "Thread #1: \t19700000 read pairs finished. 362 secs passed\r\n"
       ]
      },
      {
       "output_type": "stream",
       "stream": "stdout",
       "text": [
        "Thread #0: \t19750000 read pairs finished. 363 secs passed\r\n"
       ]
      },
      {
       "output_type": "stream",
       "stream": "stdout",
       "text": [
        "Thread #2: \t19800000 read pairs finished. 364 secs passed\r\n"
       ]
      },
      {
       "output_type": "stream",
       "stream": "stdout",
       "text": [
        "Thread #1: \t19850000 read pairs finished. 365 secs passed\r\n"
       ]
      },
      {
       "output_type": "stream",
       "stream": "stdout",
       "text": [
        "Thread #0: \t19900000 read pairs finished. 365 secs passed\r\n"
       ]
      },
      {
       "output_type": "stream",
       "stream": "stdout",
       "text": [
        "Thread #2: \t19950000 read pairs finished. 366 secs passed\r\n"
       ]
      },
      {
       "output_type": "stream",
       "stream": "stdout",
       "text": [
        "Thread #1: \t20000000 read pairs finished. 367 secs passed\r\n"
       ]
      },
      {
       "output_type": "stream",
       "stream": "stdout",
       "text": [
        "Thread #0: \t20050000 read pairs finished. 368 secs passed\r\n"
       ]
      },
      {
       "output_type": "stream",
       "stream": "stdout",
       "text": [
        "Thread #2: \t20100000 read pairs finished. 369 secs passed\r\n"
       ]
      },
      {
       "output_type": "stream",
       "stream": "stdout",
       "text": [
        "Thread #1: \t20150000 read pairs finished. 370 secs passed\r\n"
       ]
      },
      {
       "output_type": "stream",
       "stream": "stdout",
       "text": [
        "Thread #0: \t20200000 read pairs finished. 371 secs passed\r\n"
       ]
      },
      {
       "output_type": "stream",
       "stream": "stdout",
       "text": [
        "Thread #2: \t20250000 read pairs finished. 372 secs passed\r\n"
       ]
      },
      {
       "output_type": "stream",
       "stream": "stdout",
       "text": [
        "Thread #1: \t20300000 read pairs finished. 372 secs passed\r\n"
       ]
      },
      {
       "output_type": "stream",
       "stream": "stdout",
       "text": [
        "Thread #0: \t20350000 read pairs finished. 373 secs passed\r\n"
       ]
      },
      {
       "output_type": "stream",
       "stream": "stdout",
       "text": [
        "Thread #2: \t20400000 read pairs finished. 374 secs passed\r\n"
       ]
      },
      {
       "output_type": "stream",
       "stream": "stdout",
       "text": [
        "Thread #1: \t20450000 read pairs finished. 375 secs passed\r\n"
       ]
      },
      {
       "output_type": "stream",
       "stream": "stdout",
       "text": [
        "Thread #0: \t20500000 read pairs finished. 375 secs passed\r\n"
       ]
      },
      {
       "output_type": "stream",
       "stream": "stdout",
       "text": [
        "Thread #2: \t20550000 read pairs finished. 376 secs passed\r\n"
       ]
      },
      {
       "output_type": "stream",
       "stream": "stdout",
       "text": [
        "Thread #1: \t20600000 read pairs finished. 377 secs passed\r\n"
       ]
      },
      {
       "output_type": "stream",
       "stream": "stdout",
       "text": [
        "Thread #0: \t20650000 read pairs finished. 379 secs passed\r\n"
       ]
      },
      {
       "output_type": "stream",
       "stream": "stdout",
       "text": [
        "Thread #2: \t20700000 read pairs finished. 379 secs passed\r\n"
       ]
      },
      {
       "output_type": "stream",
       "stream": "stdout",
       "text": [
        "Thread #1: \t20750000 read pairs finished. 380 secs passed\r\n"
       ]
      },
      {
       "output_type": "stream",
       "stream": "stdout",
       "text": [
        "Thread #0: \t20800000 read pairs finished. 381 secs passed\r\n"
       ]
      },
      {
       "output_type": "stream",
       "stream": "stdout",
       "text": [
        "Thread #2: \t20850000 read pairs finished. 382 secs passed\r\n"
       ]
      },
      {
       "output_type": "stream",
       "stream": "stdout",
       "text": [
        "Thread #1: \t20900000 read pairs finished. 383 secs passed\r\n"
       ]
      },
      {
       "output_type": "stream",
       "stream": "stdout",
       "text": [
        "Thread #0: \t20950000 read pairs finished. 384 secs passed\r\n"
       ]
      },
      {
       "output_type": "stream",
       "stream": "stdout",
       "text": [
        "Thread #2: \t21000000 read pairs finished. 385 secs passed\r\n"
       ]
      },
      {
       "output_type": "stream",
       "stream": "stdout",
       "text": [
        "Thread #1: \t21050000 read pairs finished. 386 secs passed\r\n"
       ]
      },
      {
       "output_type": "stream",
       "stream": "stdout",
       "text": [
        "Thread #0: \t21100000 read pairs finished. 386 secs passed\r\n"
       ]
      },
      {
       "output_type": "stream",
       "stream": "stdout",
       "text": [
        "Thread #2: \t21150000 read pairs finished. 387 secs passed\r\n"
       ]
      },
      {
       "output_type": "stream",
       "stream": "stdout",
       "text": [
        "Thread #1: \t21200000 read pairs finished. 388 secs passed\r\n"
       ]
      },
      {
       "output_type": "stream",
       "stream": "stdout",
       "text": [
        "Thread #0: \t21250000 read pairs finished. 389 secs passed\r\n"
       ]
      },
      {
       "output_type": "stream",
       "stream": "stdout",
       "text": [
        "Thread #2: \t21300000 read pairs finished. 390 secs passed\r\n"
       ]
      },
      {
       "output_type": "stream",
       "stream": "stdout",
       "text": [
        "Thread #1: \t21350000 read pairs finished. 390 secs passed\r\n"
       ]
      },
      {
       "output_type": "stream",
       "stream": "stdout",
       "text": [
        "Thread #0: \t21400000 read pairs finished. 391 secs passed\r\n"
       ]
      },
      {
       "output_type": "stream",
       "stream": "stdout",
       "text": [
        "Thread #2: \t21450000 read pairs finished. 392 secs passed\r\n"
       ]
      },
      {
       "output_type": "stream",
       "stream": "stdout",
       "text": [
        "Thread #1: \t21500000 read pairs finished. 393 secs passed\r\n"
       ]
      },
      {
       "output_type": "stream",
       "stream": "stdout",
       "text": [
        "Thread #0: \t21550000 read pairs finished. 393 secs passed\r\n"
       ]
      },
      {
       "output_type": "stream",
       "stream": "stdout",
       "text": [
        "Thread #2: \t21600000 read pairs finished. 394 secs passed\r\n"
       ]
      },
      {
       "output_type": "stream",
       "stream": "stdout",
       "text": [
        "Thread #1: \t21650000 read pairs finished. 395 secs passed\r\n"
       ]
      },
      {
       "output_type": "stream",
       "stream": "stdout",
       "text": [
        "Thread #0: \t21700000 read pairs finished. 396 secs passed\r\n"
       ]
      },
      {
       "output_type": "stream",
       "stream": "stdout",
       "text": [
        "Thread #2: \t21750000 read pairs finished. 397 secs passed\r\n"
       ]
      },
      {
       "output_type": "stream",
       "stream": "stdout",
       "text": [
        "Thread #1: \t21800000 read pairs finished. 398 secs passed\r\n"
       ]
      },
      {
       "output_type": "stream",
       "stream": "stdout",
       "text": [
        "Thread #0: \t21850000 read pairs finished. 399 secs passed\r\n"
       ]
      },
      {
       "output_type": "stream",
       "stream": "stdout",
       "text": [
        "Thread #2: \t21900000 read pairs finished. 399 secs passed\r\n"
       ]
      },
      {
       "output_type": "stream",
       "stream": "stdout",
       "text": [
        "Thread #1: \t21950000 read pairs finished. 400 secs passed\r\n"
       ]
      },
      {
       "output_type": "stream",
       "stream": "stdout",
       "text": [
        "Thread #0: \t22000000 read pairs finished. 401 secs passed\r\n"
       ]
      },
      {
       "output_type": "stream",
       "stream": "stdout",
       "text": [
        "Thread #2: \t22050000 read pairs finished. 402 secs passed\r\n"
       ]
      },
      {
       "output_type": "stream",
       "stream": "stdout",
       "text": [
        "Thread #1: \t22100000 read pairs finished. 403 secs passed\r\n"
       ]
      },
      {
       "output_type": "stream",
       "stream": "stdout",
       "text": [
        "Thread #0: \t22150000 read pairs finished. 403 secs passed\r\n"
       ]
      },
      {
       "output_type": "stream",
       "stream": "stdout",
       "text": [
        "Thread #2: \t22200000 read pairs finished. 404 secs passed\r\n"
       ]
      },
      {
       "output_type": "stream",
       "stream": "stdout",
       "text": [
        "Thread #1: \t22250000 read pairs finished. 405 secs passed\r\n"
       ]
      },
      {
       "output_type": "stream",
       "stream": "stdout",
       "text": [
        "Thread #0: \t22300000 read pairs finished. 406 secs passed\r\n"
       ]
      },
      {
       "output_type": "stream",
       "stream": "stdout",
       "text": [
        "Thread #2: \t22350000 read pairs finished. 407 secs passed\r\n"
       ]
      },
      {
       "output_type": "stream",
       "stream": "stdout",
       "text": [
        "Thread #1: \t22400000 read pairs finished. 407 secs passed\r\n"
       ]
      },
      {
       "output_type": "stream",
       "stream": "stdout",
       "text": [
        "Thread #0: \t22450000 read pairs finished. 408 secs passed\r\n"
       ]
      },
      {
       "output_type": "stream",
       "stream": "stdout",
       "text": [
        "Thread #2: \t22500000 read pairs finished. 409 secs passed\r\n"
       ]
      },
      {
       "output_type": "stream",
       "stream": "stdout",
       "text": [
        "Thread #1: \t22550000 read pairs finished. 410 secs passed\r\n"
       ]
      },
      {
       "output_type": "stream",
       "stream": "stdout",
       "text": [
        "Thread #0: \t22600000 read pairs finished. 411 secs passed\r\n"
       ]
      },
      {
       "output_type": "stream",
       "stream": "stdout",
       "text": [
        "Thread #2: \t22650000 read pairs finished. 412 secs passed\r\n"
       ]
      },
      {
       "output_type": "stream",
       "stream": "stdout",
       "text": [
        "Thread #1: \t22700000 read pairs finished. 412 secs passed\r\n"
       ]
      },
      {
       "output_type": "stream",
       "stream": "stdout",
       "text": [
        "Thread #0: \t22750000 read pairs finished. 413 secs passed\r\n"
       ]
      },
      {
       "output_type": "stream",
       "stream": "stdout",
       "text": [
        "Thread #2: \t22800000 read pairs finished. 414 secs passed\r\n"
       ]
      },
      {
       "output_type": "stream",
       "stream": "stdout",
       "text": [
        "Thread #1: \t22850000 read pairs finished. 415 secs passed\r\n"
       ]
      },
      {
       "output_type": "stream",
       "stream": "stdout",
       "text": [
        "Thread #0: \t22900000 read pairs finished. 416 secs passed\r\n"
       ]
      },
      {
       "output_type": "stream",
       "stream": "stdout",
       "text": [
        "Thread #2: \t22950000 read pairs finished. 416 secs passed\r\n"
       ]
      },
      {
       "output_type": "stream",
       "stream": "stdout",
       "text": [
        "Thread #1: \t23000000 read pairs finished. 417 secs passed\r\n"
       ]
      },
      {
       "output_type": "stream",
       "stream": "stdout",
       "text": [
        "Thread #0: \t23050000 read pairs finished. 418 secs passed\r\n"
       ]
      },
      {
       "output_type": "stream",
       "stream": "stdout",
       "text": [
        "Thread #2: \t23100000 read pairs finished. 419 secs passed\r\n"
       ]
      },
      {
       "output_type": "stream",
       "stream": "stdout",
       "text": [
        "Thread #1: \t23150000 read pairs finished. 420 secs passed\r\n"
       ]
      },
      {
       "output_type": "stream",
       "stream": "stdout",
       "text": [
        "Thread #0: \t23200000 read pairs finished. 421 secs passed\r\n"
       ]
      },
      {
       "output_type": "stream",
       "stream": "stdout",
       "text": [
        "Thread #2: \t23250000 read pairs finished. 421 secs passed\r\n"
       ]
      },
      {
       "output_type": "stream",
       "stream": "stdout",
       "text": [
        "Thread #1: \t23300000 read pairs finished. 422 secs passed\r\n"
       ]
      },
      {
       "output_type": "stream",
       "stream": "stdout",
       "text": [
        "Thread #0: \t23350000 read pairs finished. 423 secs passed\r\n"
       ]
      },
      {
       "output_type": "stream",
       "stream": "stdout",
       "text": [
        "Thread #2: \t23400000 read pairs finished. 424 secs passed\r\n"
       ]
      },
      {
       "output_type": "stream",
       "stream": "stdout",
       "text": [
        "Thread #1: \t23450000 read pairs finished. 425 secs passed\r\n"
       ]
      },
      {
       "output_type": "stream",
       "stream": "stdout",
       "text": [
        "Thread #0: \t23500000 read pairs finished. 426 secs passed\r\n"
       ]
      },
      {
       "output_type": "stream",
       "stream": "stdout",
       "text": [
        "Thread #2: \t23550000 read pairs finished. 427 secs passed\r\n"
       ]
      },
      {
       "output_type": "stream",
       "stream": "stdout",
       "text": [
        "Thread #1: \t23600000 read pairs finished. 428 secs passed\r\n"
       ]
      },
      {
       "output_type": "stream",
       "stream": "stdout",
       "text": [
        "Thread #0: \t23650000 read pairs finished. 428 secs passed\r\n"
       ]
      },
      {
       "output_type": "stream",
       "stream": "stdout",
       "text": [
        "Thread #2: \t23700000 read pairs finished. 429 secs passed\r\n"
       ]
      },
      {
       "output_type": "stream",
       "stream": "stdout",
       "text": [
        "Thread #1: \t23750000 read pairs finished. 430 secs passed\r\n"
       ]
      },
      {
       "output_type": "stream",
       "stream": "stdout",
       "text": [
        "Thread #0: \t23800000 read pairs finished. 431 secs passed\r\n"
       ]
      },
      {
       "output_type": "stream",
       "stream": "stdout",
       "text": [
        "Thread #2: \t23850000 read pairs finished. 432 secs passed\r\n"
       ]
      },
      {
       "output_type": "stream",
       "stream": "stdout",
       "text": [
        "Thread #1: \t23900000 read pairs finished. 432 secs passed\r\n"
       ]
      },
      {
       "output_type": "stream",
       "stream": "stdout",
       "text": [
        "Thread #0: \t23950000 read pairs finished. 433 secs passed\r\n"
       ]
      },
      {
       "output_type": "stream",
       "stream": "stdout",
       "text": [
        "Thread #2: \t24000000 read pairs finished. 434 secs passed\r\n"
       ]
      },
      {
       "output_type": "stream",
       "stream": "stdout",
       "text": [
        "Thread #1: \t24050000 read pairs finished. 435 secs passed\r\n"
       ]
      },
      {
       "output_type": "stream",
       "stream": "stdout",
       "text": [
        "Thread #0: \t24100000 read pairs finished. 435 secs passed\r\n"
       ]
      },
      {
       "output_type": "stream",
       "stream": "stdout",
       "text": [
        "Thread #2: \t24150000 read pairs finished. 436 secs passed\r\n"
       ]
      },
      {
       "output_type": "stream",
       "stream": "stdout",
       "text": [
        "Thread #1: \t24200000 read pairs finished. 437 secs passed\r\n"
       ]
      },
      {
       "output_type": "stream",
       "stream": "stdout",
       "text": [
        "Thread #0: \t24250000 read pairs finished. 438 secs passed\r\n"
       ]
      },
      {
       "output_type": "stream",
       "stream": "stdout",
       "text": [
        "Thread #2: \t24300000 read pairs finished. 439 secs passed\r\n"
       ]
      },
      {
       "output_type": "stream",
       "stream": "stdout",
       "text": [
        "Thread #1: \t24350000 read pairs finished. 440 secs passed\r\n"
       ]
      },
      {
       "output_type": "stream",
       "stream": "stdout",
       "text": [
        "Thread #0: \t24400000 read pairs finished. 441 secs passed\r\n"
       ]
      },
      {
       "output_type": "stream",
       "stream": "stdout",
       "text": [
        "Thread #2: \t24450000 read pairs finished. 442 secs passed\r\n"
       ]
      },
      {
       "output_type": "stream",
       "stream": "stdout",
       "text": [
        "Thread #1: \t24500000 read pairs finished. 442 secs passed\r\n"
       ]
      },
      {
       "output_type": "stream",
       "stream": "stdout",
       "text": [
        "Thread #0: \t24550000 read pairs finished. 443 secs passed\r\n"
       ]
      },
      {
       "output_type": "stream",
       "stream": "stdout",
       "text": [
        "Thread #2: \t24600000 read pairs finished. 444 secs passed\r\n"
       ]
      },
      {
       "output_type": "stream",
       "stream": "stdout",
       "text": [
        "Thread #1: \t24650000 read pairs finished. 445 secs passed\r\n"
       ]
      },
      {
       "output_type": "stream",
       "stream": "stdout",
       "text": [
        "Thread #0: \t24700000 read pairs finished. 446 secs passed\r\n"
       ]
      },
      {
       "output_type": "stream",
       "stream": "stdout",
       "text": [
        "Thread #2: \t24750000 read pairs finished. 446 secs passed\r\n"
       ]
      },
      {
       "output_type": "stream",
       "stream": "stdout",
       "text": [
        "Thread #1: \t24800000 read pairs finished. 447 secs passed\r\n"
       ]
      },
      {
       "output_type": "stream",
       "stream": "stdout",
       "text": [
        "Thread #0: \t24850000 read pairs finished. 448 secs passed\r\n"
       ]
      },
      {
       "output_type": "stream",
       "stream": "stdout",
       "text": [
        "Thread #2: \t24900000 read pairs finished. 449 secs passed\r\n"
       ]
      },
      {
       "output_type": "stream",
       "stream": "stdout",
       "text": [
        "Thread #1: \t24950000 read pairs finished. 450 secs passed\r\n"
       ]
      },
      {
       "output_type": "stream",
       "stream": "stdout",
       "text": [
        "Thread #0: \t25000000 read pairs finished. 451 secs passed\r\n"
       ]
      },
      {
       "output_type": "stream",
       "stream": "stdout",
       "text": [
        "Thread #2: \t25050000 read pairs finished. 451 secs passed\r\n"
       ]
      },
      {
       "output_type": "stream",
       "stream": "stdout",
       "text": [
        "Thread #1: \t25100000 read pairs finished. 452 secs passed\r\n"
       ]
      },
      {
       "output_type": "stream",
       "stream": "stdout",
       "text": [
        "Thread #0: \t25150000 read pairs finished. 453 secs passed\r\n"
       ]
      },
      {
       "output_type": "stream",
       "stream": "stdout",
       "text": [
        "Thread #2: \t25200000 read pairs finished. 454 secs passed\r\n"
       ]
      },
      {
       "output_type": "stream",
       "stream": "stdout",
       "text": [
        "Thread #1: \t25250000 read pairs finished. 455 secs passed\r\n"
       ]
      },
      {
       "output_type": "stream",
       "stream": "stdout",
       "text": [
        "Thread #0: \t25300000 read pairs finished. 456 secs passed\r\n"
       ]
      },
      {
       "output_type": "stream",
       "stream": "stdout",
       "text": [
        "Thread #2: \t25350000 read pairs finished. 457 secs passed\r\n"
       ]
      },
      {
       "output_type": "stream",
       "stream": "stdout",
       "text": [
        "Thread #1: \t25400000 read pairs finished. 458 secs passed\r\n"
       ]
      },
      {
       "output_type": "stream",
       "stream": "stdout",
       "text": [
        "Thread #0: \t25450000 read pairs finished. 458 secs passed\r\n"
       ]
      },
      {
       "output_type": "stream",
       "stream": "stdout",
       "text": [
        "Thread #2: \t25500000 read pairs finished. 459 secs passed\r\n"
       ]
      },
      {
       "output_type": "stream",
       "stream": "stdout",
       "text": [
        "Thread #1: \t25550000 read pairs finished. 460 secs passed\r\n"
       ]
      },
      {
       "output_type": "stream",
       "stream": "stdout",
       "text": [
        "Thread #0: \t25600000 read pairs finished. 461 secs passed\r\n"
       ]
      },
      {
       "output_type": "stream",
       "stream": "stdout",
       "text": [
        "Thread #2: \t25650000 read pairs finished. 462 secs passed\r\n"
       ]
      },
      {
       "output_type": "stream",
       "stream": "stdout",
       "text": [
        "Thread #1: \t25700000 read pairs finished. 462 secs passed\r\n"
       ]
      },
      {
       "output_type": "stream",
       "stream": "stdout",
       "text": [
        "Thread #0: \t25750000 read pairs finished. 463 secs passed\r\n"
       ]
      },
      {
       "output_type": "stream",
       "stream": "stdout",
       "text": [
        "Thread #2: \t25800000 read pairs finished. 464 secs passed\r\n"
       ]
      },
      {
       "output_type": "stream",
       "stream": "stdout",
       "text": [
        "Thread #1: \t25850000 read pairs finished. 465 secs passed\r\n"
       ]
      },
      {
       "output_type": "stream",
       "stream": "stdout",
       "text": [
        "Thread #0: \t25900000 read pairs finished. 466 secs passed\r\n"
       ]
      },
      {
       "output_type": "stream",
       "stream": "stdout",
       "text": [
        "Thread #2: \t25950000 read pairs finished. 466 secs passed\r\n"
       ]
      },
      {
       "output_type": "stream",
       "stream": "stdout",
       "text": [
        "Thread #1: \t26000000 read pairs finished. 467 secs passed\r\n"
       ]
      },
      {
       "output_type": "stream",
       "stream": "stdout",
       "text": [
        "Thread #0: \t26050000 read pairs finished. 468 secs passed\r\n"
       ]
      },
      {
       "output_type": "stream",
       "stream": "stdout",
       "text": [
        "Thread #2: \t26100000 read pairs finished. 469 secs passed\r\n"
       ]
      },
      {
       "output_type": "stream",
       "stream": "stdout",
       "text": [
        "Thread #1: \t26150000 read pairs finished. 469 secs passed\r\n"
       ]
      },
      {
       "output_type": "stream",
       "stream": "stdout",
       "text": [
        "Thread #0: \t26200000 read pairs finished. 470 secs passed\r\n"
       ]
      },
      {
       "output_type": "stream",
       "stream": "stdout",
       "text": [
        "Thread #2: \t26250000 read pairs finished. 471 secs passed\r\n"
       ]
      },
      {
       "output_type": "stream",
       "stream": "stdout",
       "text": [
        "Thread #1: \t26300000 read pairs finished. 472 secs passed\r\n"
       ]
      },
      {
       "output_type": "stream",
       "stream": "stdout",
       "text": [
        "Thread #0: \t26350000 read pairs finished. 473 secs passed\r\n"
       ]
      },
      {
       "output_type": "stream",
       "stream": "stdout",
       "text": [
        "Thread #2: \t26400000 read pairs finished. 474 secs passed\r\n"
       ]
      },
      {
       "output_type": "stream",
       "stream": "stdout",
       "text": [
        "Thread #1: \t26450000 read pairs finished. 474 secs passed\r\n"
       ]
      },
      {
       "output_type": "stream",
       "stream": "stdout",
       "text": [
        "Thread #0: \t26500000 read pairs finished. 475 secs passed\r\n"
       ]
      },
      {
       "output_type": "stream",
       "stream": "stdout",
       "text": [
        "Thread #2: \t26550000 read pairs finished. 476 secs passed\r\n"
       ]
      },
      {
       "output_type": "stream",
       "stream": "stdout",
       "text": [
        "Thread #1: \t26600000 read pairs finished. 477 secs passed\r\n"
       ]
      },
      {
       "output_type": "stream",
       "stream": "stdout",
       "text": [
        "Thread #0: \t26650000 read pairs finished. 478 secs passed\r\n"
       ]
      },
      {
       "output_type": "stream",
       "stream": "stdout",
       "text": [
        "Thread #2: \t26700000 read pairs finished. 479 secs passed\r\n"
       ]
      },
      {
       "output_type": "stream",
       "stream": "stdout",
       "text": [
        "Thread #1: \t26750000 read pairs finished. 479 secs passed\r\n"
       ]
      },
      {
       "output_type": "stream",
       "stream": "stdout",
       "text": [
        "Thread #0: \t26800000 read pairs finished. 480 secs passed\r\n"
       ]
      },
      {
       "output_type": "stream",
       "stream": "stdout",
       "text": [
        "Thread #2: \t26850000 read pairs finished. 481 secs passed\r\n"
       ]
      },
      {
       "output_type": "stream",
       "stream": "stdout",
       "text": [
        "Thread #1: \t26900000 read pairs finished. 482 secs passed\r\n"
       ]
      },
      {
       "output_type": "stream",
       "stream": "stdout",
       "text": [
        "Thread #0: \t26950000 read pairs finished. 483 secs passed\r\n"
       ]
      },
      {
       "output_type": "stream",
       "stream": "stdout",
       "text": [
        "Thread #2: \t27000000 read pairs finished. 484 secs passed\r\n"
       ]
      },
      {
       "output_type": "stream",
       "stream": "stdout",
       "text": [
        "Thread #1: \t27050000 read pairs finished. 485 secs passed\r\n"
       ]
      },
      {
       "output_type": "stream",
       "stream": "stdout",
       "text": [
        "Thread #0: \t27100000 read pairs finished. 486 secs passed\r\n"
       ]
      },
      {
       "output_type": "stream",
       "stream": "stdout",
       "text": [
        "Thread #2: \t27150000 read pairs finished. 486 secs passed\r\n"
       ]
      },
      {
       "output_type": "stream",
       "stream": "stdout",
       "text": [
        "Thread #1: \t27200000 read pairs finished. 487 secs passed\r\n"
       ]
      },
      {
       "output_type": "stream",
       "stream": "stdout",
       "text": [
        "Thread #0: \t27250000 read pairs finished. 488 secs passed\r\n"
       ]
      },
      {
       "output_type": "stream",
       "stream": "stdout",
       "text": [
        "Thread #2: \t27300000 read pairs finished. 489 secs passed\r\n"
       ]
      },
      {
       "output_type": "stream",
       "stream": "stdout",
       "text": [
        "Thread #1: \t27350000 read pairs finished. 490 secs passed\r\n"
       ]
      },
      {
       "output_type": "stream",
       "stream": "stdout",
       "text": [
        "Thread #0: \t27400000 read pairs finished. 490 secs passed\r\n"
       ]
      },
      {
       "output_type": "stream",
       "stream": "stdout",
       "text": [
        "Thread #2: \t27450000 read pairs finished. 491 secs passed\r\n"
       ]
      },
      {
       "output_type": "stream",
       "stream": "stdout",
       "text": [
        "Thread #1: \t27500000 read pairs finished. 492 secs passed\r\n"
       ]
      },
      {
       "output_type": "stream",
       "stream": "stdout",
       "text": [
        "Thread #0: \t27550000 read pairs finished. 493 secs passed\r\n"
       ]
      },
      {
       "output_type": "stream",
       "stream": "stdout",
       "text": [
        "Thread #2: \t27600000 read pairs finished. 494 secs passed\r\n"
       ]
      },
      {
       "output_type": "stream",
       "stream": "stdout",
       "text": [
        "Thread #1: \t27650000 read pairs finished. 494 secs passed\r\n"
       ]
      },
      {
       "output_type": "stream",
       "stream": "stdout",
       "text": [
        "Thread #0: \t27700000 read pairs finished. 495 secs passed\r\n"
       ]
      },
      {
       "output_type": "stream",
       "stream": "stdout",
       "text": [
        "Thread #2: \t27750000 read pairs finished. 496 secs passed\r\n"
       ]
      },
      {
       "output_type": "stream",
       "stream": "stdout",
       "text": [
        "Thread #1: \t27800000 read pairs finished. 497 secs passed\r\n"
       ]
      },
      {
       "output_type": "stream",
       "stream": "stdout",
       "text": [
        "Thread #0: \t27850000 read pairs finished. 498 secs passed\r\n"
       ]
      },
      {
       "output_type": "stream",
       "stream": "stdout",
       "text": [
        "Thread #2: \t27900000 read pairs finished. 498 secs passed\r\n"
       ]
      },
      {
       "output_type": "stream",
       "stream": "stdout",
       "text": [
        "Thread #1: \t27950000 read pairs finished. 499 secs passed\r\n"
       ]
      },
      {
       "output_type": "stream",
       "stream": "stdout",
       "text": [
        "Thread #0: \t28000000 read pairs finished. 500 secs passed\r\n"
       ]
      },
      {
       "output_type": "stream",
       "stream": "stdout",
       "text": [
        "Thread #2: \t28050000 read pairs finished. 502 secs passed\r\n"
       ]
      },
      {
       "output_type": "stream",
       "stream": "stdout",
       "text": [
        "Thread #1: \t28100000 read pairs finished. 503 secs passed\r\n"
       ]
      },
      {
       "output_type": "stream",
       "stream": "stdout",
       "text": [
        "Thread #0: \t28150000 read pairs finished. 503 secs passed\r\n"
       ]
      },
      {
       "output_type": "stream",
       "stream": "stdout",
       "text": [
        "Thread #2: \t28200000 read pairs finished. 504 secs passed\r\n"
       ]
      },
      {
       "output_type": "stream",
       "stream": "stdout",
       "text": [
        "Thread #1: \t28250000 read pairs finished. 505 secs passed\r\n"
       ]
      },
      {
       "output_type": "stream",
       "stream": "stdout",
       "text": [
        "Thread #0: \t28300000 read pairs finished. 506 secs passed\r\n"
       ]
      },
      {
       "output_type": "stream",
       "stream": "stdout",
       "text": [
        "Thread #2: \t28350000 read pairs finished. 507 secs passed\r\n"
       ]
      },
      {
       "output_type": "stream",
       "stream": "stdout",
       "text": [
        "Thread #1: \t28400000 read pairs finished. 507 secs passed\r\n"
       ]
      },
      {
       "output_type": "stream",
       "stream": "stdout",
       "text": [
        "Thread #0: \t28450000 read pairs finished. 508 secs passed\r\n"
       ]
      },
      {
       "output_type": "stream",
       "stream": "stdout",
       "text": [
        "Thread #2: \t28500000 read pairs finished. 509 secs passed\r\n"
       ]
      },
      {
       "output_type": "stream",
       "stream": "stdout",
       "text": [
        "Thread #1: \t28550000 read pairs finished. 510 secs passed\r\n"
       ]
      },
      {
       "output_type": "stream",
       "stream": "stdout",
       "text": [
        "Thread #0: \t28600000 read pairs finished. 510 secs passed\r\n"
       ]
      },
      {
       "output_type": "stream",
       "stream": "stdout",
       "text": [
        "Thread #2: \t28650000 read pairs finished. 511 secs passed\r\n"
       ]
      },
      {
       "output_type": "stream",
       "stream": "stdout",
       "text": [
        "Thread #1: \t28700000 read pairs finished. 512 secs passed\r\n"
       ]
      },
      {
       "output_type": "stream",
       "stream": "stdout",
       "text": [
        "Thread #0: \t28750000 read pairs finished. 513 secs passed\r\n"
       ]
      },
      {
       "output_type": "stream",
       "stream": "stdout",
       "text": [
        "Thread #2: \t28800000 read pairs finished. 513 secs passed\r\n"
       ]
      },
      {
       "output_type": "stream",
       "stream": "stdout",
       "text": [
        "Thread #1: \t28850000 read pairs finished. 515 secs passed\r\n"
       ]
      },
      {
       "output_type": "stream",
       "stream": "stdout",
       "text": [
        "Thread #0: \t28900000 read pairs finished. 516 secs passed\r\n"
       ]
      },
      {
       "output_type": "stream",
       "stream": "stdout",
       "text": [
        "Thread #2: \t28950000 read pairs finished. 517 secs passed\r\n"
       ]
      },
      {
       "output_type": "stream",
       "stream": "stdout",
       "text": [
        "Thread #1: \t29000000 read pairs finished. 517 secs passed\r\n"
       ]
      },
      {
       "output_type": "stream",
       "stream": "stdout",
       "text": [
        "Thread #0: \t29050000 read pairs finished. 518 secs passed\r\n"
       ]
      },
      {
       "output_type": "stream",
       "stream": "stdout",
       "text": [
        "Thread #2: \t29100000 read pairs finished. 519 secs passed\r\n"
       ]
      },
      {
       "output_type": "stream",
       "stream": "stdout",
       "text": [
        "Thread #1: \t29150000 read pairs finished. 520 secs passed\r\n"
       ]
      },
      {
       "output_type": "stream",
       "stream": "stdout",
       "text": [
        "Thread #0: \t29200000 read pairs finished. 520 secs passed\r\n"
       ]
      },
      {
       "output_type": "stream",
       "stream": "stdout",
       "text": [
        "Thread #2: \t29250000 read pairs finished. 521 secs passed\r\n"
       ]
      },
      {
       "output_type": "stream",
       "stream": "stdout",
       "text": [
        "Thread #1: \t29300000 read pairs finished. 522 secs passed\r\n"
       ]
      },
      {
       "output_type": "stream",
       "stream": "stdout",
       "text": [
        "Thread #0: \t29350000 read pairs finished. 523 secs passed\r\n"
       ]
      },
      {
       "output_type": "stream",
       "stream": "stdout",
       "text": [
        "Thread #2: \t29400000 read pairs finished. 524 secs passed\r\n"
       ]
      },
      {
       "output_type": "stream",
       "stream": "stdout",
       "text": [
        "Thread #1: \t29450000 read pairs finished. 525 secs passed\r\n"
       ]
      },
      {
       "output_type": "stream",
       "stream": "stdout",
       "text": [
        "Thread #0: \t29500000 read pairs finished. 526 secs passed\r\n"
       ]
      },
      {
       "output_type": "stream",
       "stream": "stdout",
       "text": [
        "Thread #2: \t29550000 read pairs finished. 527 secs passed\r\n"
       ]
      },
      {
       "output_type": "stream",
       "stream": "stdout",
       "text": [
        "Thread #1: \t29600000 read pairs finished. 527 secs passed\r\n"
       ]
      },
      {
       "output_type": "stream",
       "stream": "stdout",
       "text": [
        "Thread #0: \t29650000 read pairs finished. 528 secs passed\r\n"
       ]
      },
      {
       "output_type": "stream",
       "stream": "stdout",
       "text": [
        "Thread #2: \t29700000 read pairs finished. 529 secs passed\r\n"
       ]
      },
      {
       "output_type": "stream",
       "stream": "stdout",
       "text": [
        "Thread #1: \t29750000 read pairs finished. 530 secs passed\r\n"
       ]
      },
      {
       "output_type": "stream",
       "stream": "stdout",
       "text": [
        "Thread #0: \t29800000 read pairs finished. 531 secs passed\r\n"
       ]
      },
      {
       "output_type": "stream",
       "stream": "stdout",
       "text": [
        "Thread #2: \t29850000 read pairs finished. 531 secs passed\r\n"
       ]
      },
      {
       "output_type": "stream",
       "stream": "stdout",
       "text": [
        "Thread #1: \t29900000 read pairs finished. 532 secs passed\r\n"
       ]
      },
      {
       "output_type": "stream",
       "stream": "stdout",
       "text": [
        "Thread #0: \t29950000 read pairs finished. 533 secs passed\r\n"
       ]
      },
      {
       "output_type": "stream",
       "stream": "stdout",
       "text": [
        "Thread #2: \t30000000 read pairs finished. 534 secs passed\r\n"
       ]
      },
      {
       "output_type": "stream",
       "stream": "stdout",
       "text": [
        "Thread #1: \t30050000 read pairs finished. 535 secs passed\r\n"
       ]
      },
      {
       "output_type": "stream",
       "stream": "stdout",
       "text": [
        "Thread #0: \t30100000 read pairs finished. 536 secs passed\r\n"
       ]
      },
      {
       "output_type": "stream",
       "stream": "stdout",
       "text": [
        "Thread #2: \t30150000 read pairs finished. 537 secs passed\r\n"
       ]
      },
      {
       "output_type": "stream",
       "stream": "stdout",
       "text": [
        "Thread #1: \t30200000 read pairs finished. 538 secs passed\r\n"
       ]
      },
      {
       "output_type": "stream",
       "stream": "stdout",
       "text": [
        "Thread #0: \t30250000 read pairs finished. 538 secs passed\r\n"
       ]
      },
      {
       "output_type": "stream",
       "stream": "stdout",
       "text": [
        "Thread #2: \t30300000 read pairs finished. 540 secs passed\r\n"
       ]
      },
      {
       "output_type": "stream",
       "stream": "stdout",
       "text": [
        "Thread #1: \t30350000 read pairs finished. 541 secs passed\r\n"
       ]
      },
      {
       "output_type": "stream",
       "stream": "stdout",
       "text": [
        "Thread #0: \t30400000 read pairs finished. 541 secs passed\r\n"
       ]
      },
      {
       "output_type": "stream",
       "stream": "stdout",
       "text": [
        "Thread #2: \t30450000 read pairs finished. 542 secs passed\r\n"
       ]
      },
      {
       "output_type": "stream",
       "stream": "stdout",
       "text": [
        "Thread #1: \t30500000 read pairs finished. 543 secs passed\r\n"
       ]
      },
      {
       "output_type": "stream",
       "stream": "stdout",
       "text": [
        "Thread #0: \t30550000 read pairs finished. 545 secs passed\r\n"
       ]
      },
      {
       "output_type": "stream",
       "stream": "stdout",
       "text": [
        "Thread #2: \t30600000 read pairs finished. 546 secs passed\r\n"
       ]
      },
      {
       "output_type": "stream",
       "stream": "stdout",
       "text": [
        "Thread #1: \t30650000 read pairs finished. 546 secs passed\r\n"
       ]
      },
      {
       "output_type": "stream",
       "stream": "stdout",
       "text": [
        "Thread #0: \t30700000 read pairs finished. 547 secs passed\r\n"
       ]
      },
      {
       "output_type": "stream",
       "stream": "stdout",
       "text": [
        "Thread #2: \t30750000 read pairs finished. 548 secs passed\r\n"
       ]
      },
      {
       "output_type": "stream",
       "stream": "stdout",
       "text": [
        "Thread #1: \t30800000 read pairs finished. 549 secs passed\r\n"
       ]
      },
      {
       "output_type": "stream",
       "stream": "stdout",
       "text": [
        "Thread #0: \t30850000 read pairs finished. 550 secs passed\r\n"
       ]
      },
      {
       "output_type": "stream",
       "stream": "stdout",
       "text": [
        "Thread #2: \t30900000 read pairs finished. 551 secs passed\r\n"
       ]
      },
      {
       "output_type": "stream",
       "stream": "stdout",
       "text": [
        "Thread #1: \t30950000 read pairs finished. 551 secs passed\r\n"
       ]
      },
      {
       "output_type": "stream",
       "stream": "stdout",
       "text": [
        "Thread #0: \t31000000 read pairs finished. 552 secs passed\r\n"
       ]
      },
      {
       "output_type": "stream",
       "stream": "stdout",
       "text": [
        "Thread #2: \t31050000 read pairs finished. 553 secs passed\r\n"
       ]
      },
      {
       "output_type": "stream",
       "stream": "stdout",
       "text": [
        "Thread #1: \t31100000 read pairs finished. 554 secs passed\r\n"
       ]
      },
      {
       "output_type": "stream",
       "stream": "stdout",
       "text": [
        "Thread #0: \t31150000 read pairs finished. 555 secs passed\r\n"
       ]
      },
      {
       "output_type": "stream",
       "stream": "stdout",
       "text": [
        "Thread #2: \t31200000 read pairs finished. 555 secs passed\r\n"
       ]
      },
      {
       "output_type": "stream",
       "stream": "stdout",
       "text": [
        "Thread #1: \t31250000 read pairs finished. 557 secs passed\r\n"
       ]
      },
      {
       "output_type": "stream",
       "stream": "stdout",
       "text": [
        "Thread #0: \t31300000 read pairs finished. 558 secs passed\r\n"
       ]
      },
      {
       "output_type": "stream",
       "stream": "stdout",
       "text": [
        "Thread #2: \t31350000 read pairs finished. 559 secs passed\r\n"
       ]
      },
      {
       "output_type": "stream",
       "stream": "stdout",
       "text": [
        "Thread #1: \t31400000 read pairs finished. 559 secs passed\r\n"
       ]
      },
      {
       "output_type": "stream",
       "stream": "stdout",
       "text": [
        "Thread #0: \t31450000 read pairs finished. 560 secs passed\r\n"
       ]
      },
      {
       "output_type": "stream",
       "stream": "stdout",
       "text": [
        "Thread #2: \t31500000 read pairs finished. 561 secs passed\r\n"
       ]
      },
      {
       "output_type": "stream",
       "stream": "stdout",
       "text": [
        "Thread #1: \t31550000 read pairs finished. 562 secs passed\r\n"
       ]
      },
      {
       "output_type": "stream",
       "stream": "stdout",
       "text": [
        "Thread #0: \t31600000 read pairs finished. 563 secs passed\r\n"
       ]
      },
      {
       "output_type": "stream",
       "stream": "stdout",
       "text": [
        "Thread #2: \t31650000 read pairs finished. 564 secs passed\r\n"
       ]
      },
      {
       "output_type": "stream",
       "stream": "stdout",
       "text": [
        "Thread #1: \t31700000 read pairs finished. 565 secs passed\r\n"
       ]
      },
      {
       "output_type": "stream",
       "stream": "stdout",
       "text": [
        "Thread #0: \t31750000 read pairs finished. 566 secs passed\r\n"
       ]
      },
      {
       "output_type": "stream",
       "stream": "stdout",
       "text": [
        "Thread #2: \t31800000 read pairs finished. 567 secs passed\r\n"
       ]
      },
      {
       "output_type": "stream",
       "stream": "stdout",
       "text": [
        "Thread #1: \t31850000 read pairs finished. 567 secs passed\r\n"
       ]
      },
      {
       "output_type": "stream",
       "stream": "stdout",
       "text": [
        "Thread #0: \t31900000 read pairs finished. 568 secs passed\r\n"
       ]
      },
      {
       "output_type": "stream",
       "stream": "stdout",
       "text": [
        "Thread #2: \t31950000 read pairs finished. 569 secs passed\r\n"
       ]
      },
      {
       "output_type": "stream",
       "stream": "stdout",
       "text": [
        "Thread #1: \t32000000 read pairs finished. 570 secs passed\r\n"
       ]
      },
      {
       "output_type": "stream",
       "stream": "stdout",
       "text": [
        "Thread #0: \t32050000 read pairs finished. 571 secs passed\r\n"
       ]
      },
      {
       "output_type": "stream",
       "stream": "stdout",
       "text": [
        "Thread #2: \t32100000 read pairs finished. 572 secs passed\r\n"
       ]
      },
      {
       "output_type": "stream",
       "stream": "stdout",
       "text": [
        "Thread #1: \t32150000 read pairs finished. 573 secs passed\r\n"
       ]
      },
      {
       "output_type": "stream",
       "stream": "stdout",
       "text": [
        "Thread #0: \t32200000 read pairs finished. 574 secs passed\r\n"
       ]
      },
      {
       "output_type": "stream",
       "stream": "stdout",
       "text": [
        "Thread #2: \t32250000 read pairs finished. 574 secs passed\r\n"
       ]
      },
      {
       "output_type": "stream",
       "stream": "stdout",
       "text": [
        "Thread #1: \t32300000 read pairs finished. 575 secs passed\r\n"
       ]
      },
      {
       "output_type": "stream",
       "stream": "stdout",
       "text": [
        "Thread #0: \t32350000 read pairs finished. 576 secs passed\r\n"
       ]
      },
      {
       "output_type": "stream",
       "stream": "stdout",
       "text": [
        "Thread #2: \t32400000 read pairs finished. 577 secs passed\r\n"
       ]
      },
      {
       "output_type": "stream",
       "stream": "stdout",
       "text": [
        "Thread #1: \t32450000 read pairs finished. 578 secs passed\r\n"
       ]
      },
      {
       "output_type": "stream",
       "stream": "stdout",
       "text": [
        "Thread #0: \t32500000 read pairs finished. 579 secs passed\r\n"
       ]
      },
      {
       "output_type": "stream",
       "stream": "stdout",
       "text": [
        "Thread #2: \t32550000 read pairs finished. 580 secs passed\r\n"
       ]
      },
      {
       "output_type": "stream",
       "stream": "stdout",
       "text": [
        "Thread #1: \t32600000 read pairs finished. 581 secs passed\r\n"
       ]
      },
      {
       "output_type": "stream",
       "stream": "stdout",
       "text": [
        "Thread #0: \t32650000 read pairs finished. 582 secs passed\r\n"
       ]
      },
      {
       "output_type": "stream",
       "stream": "stdout",
       "text": [
        "Thread #2: \t32700000 read pairs finished. 583 secs passed\r\n"
       ]
      },
      {
       "output_type": "stream",
       "stream": "stdout",
       "text": [
        "Thread #1: \t32750000 read pairs finished. 583 secs passed\r\n"
       ]
      },
      {
       "output_type": "stream",
       "stream": "stdout",
       "text": [
        "Thread #0: \t32800000 read pairs finished. 584 secs passed\r\n"
       ]
      },
      {
       "output_type": "stream",
       "stream": "stdout",
       "text": [
        "Thread #2: \t32850000 read pairs finished. 585 secs passed\r\n"
       ]
      },
      {
       "output_type": "stream",
       "stream": "stdout",
       "text": [
        "Thread #1: \t32900000 read pairs finished. 586 secs passed\r\n"
       ]
      },
      {
       "output_type": "stream",
       "stream": "stdout",
       "text": [
        "Thread #0: \t32950000 read pairs finished. 587 secs passed\r\n"
       ]
      },
      {
       "output_type": "stream",
       "stream": "stdout",
       "text": [
        "Thread #2: \t33000000 read pairs finished. 588 secs passed\r\n"
       ]
      },
      {
       "output_type": "stream",
       "stream": "stdout",
       "text": [
        "Thread #1: \t33050000 read pairs finished. 589 secs passed\r\n"
       ]
      },
      {
       "output_type": "stream",
       "stream": "stdout",
       "text": [
        "Thread #0: \t33100000 read pairs finished. 590 secs passed\r\n"
       ]
      },
      {
       "output_type": "stream",
       "stream": "stdout",
       "text": [
        "Thread #2: \t33150000 read pairs finished. 590 secs passed\r\n"
       ]
      },
      {
       "output_type": "stream",
       "stream": "stdout",
       "text": [
        "Thread #1: \t33200000 read pairs finished. 592 secs passed\r\n"
       ]
      },
      {
       "output_type": "stream",
       "stream": "stdout",
       "text": [
        "Thread #0: \t33250000 read pairs finished. 593 secs passed\r\n"
       ]
      },
      {
       "output_type": "stream",
       "stream": "stdout",
       "text": [
        "Thread #2: \t33300000 read pairs finished. 593 secs passed\r\n"
       ]
      },
      {
       "output_type": "stream",
       "stream": "stdout",
       "text": [
        "Thread #1: \t33350000 read pairs finished. 594 secs passed\r\n"
       ]
      },
      {
       "output_type": "stream",
       "stream": "stdout",
       "text": [
        "Thread #0: \t33400000 read pairs finished. 595 secs passed\r\n"
       ]
      },
      {
       "output_type": "stream",
       "stream": "stdout",
       "text": [
        "Thread #2: \t33450000 read pairs finished. 596 secs passed\r\n"
       ]
      },
      {
       "output_type": "stream",
       "stream": "stdout",
       "text": [
        "Thread #1: \t33500000 read pairs finished. 597 secs passed\r\n"
       ]
      },
      {
       "output_type": "stream",
       "stream": "stdout",
       "text": [
        "Thread #0: \t33550000 read pairs finished. 597 secs passed\r\n"
       ]
      },
      {
       "output_type": "stream",
       "stream": "stdout",
       "text": [
        "Thread #2: \t33600000 read pairs finished. 598 secs passed\r\n"
       ]
      },
      {
       "output_type": "stream",
       "stream": "stdout",
       "text": [
        "Thread #1: \t33650000 read pairs finished. 599 secs passed\r\n"
       ]
      },
      {
       "output_type": "stream",
       "stream": "stdout",
       "text": [
        "Thread #0: \t33700000 read pairs finished. 600 secs passed\r\n"
       ]
      },
      {
       "output_type": "stream",
       "stream": "stdout",
       "text": [
        "Thread #2: \t33750000 read pairs finished. 601 secs passed\r\n"
       ]
      },
      {
       "output_type": "stream",
       "stream": "stdout",
       "text": [
        "Thread #1: \t33800000 read pairs finished. 602 secs passed\r\n"
       ]
      },
      {
       "output_type": "stream",
       "stream": "stdout",
       "text": [
        "Thread #0: \t33850000 read pairs finished. 602 secs passed\r\n"
       ]
      },
      {
       "output_type": "stream",
       "stream": "stdout",
       "text": [
        "Thread #2: \t33900000 read pairs finished. 604 secs passed\r\n"
       ]
      },
      {
       "output_type": "stream",
       "stream": "stdout",
       "text": [
        "Thread #1: \t33950000 read pairs finished. 604 secs passed\r\n"
       ]
      },
      {
       "output_type": "stream",
       "stream": "stdout",
       "text": [
        "Thread #0: \t34000000 read pairs finished. 605 secs passed\r\n"
       ]
      },
      {
       "output_type": "stream",
       "stream": "stdout",
       "text": [
        "Thread #2: \t34050000 read pairs finished. 606 secs passed\r\n"
       ]
      },
      {
       "output_type": "stream",
       "stream": "stdout",
       "text": [
        "Thread #1: \t34100000 read pairs finished. 607 secs passed\r\n"
       ]
      },
      {
       "output_type": "stream",
       "stream": "stdout",
       "text": [
        "Thread #0: \t34150000 read pairs finished. 608 secs passed\r\n"
       ]
      },
      {
       "output_type": "stream",
       "stream": "stdout",
       "text": [
        "Thread #2: \t34200000 read pairs finished. 609 secs passed\r\n"
       ]
      },
      {
       "output_type": "stream",
       "stream": "stdout",
       "text": [
        "Thread #1: \t34250000 read pairs finished. 610 secs passed\r\n"
       ]
      },
      {
       "output_type": "stream",
       "stream": "stdout",
       "text": [
        "Thread #0: \t34300000 read pairs finished. 611 secs passed\r\n"
       ]
      },
      {
       "output_type": "stream",
       "stream": "stdout",
       "text": [
        "Thread #2: \t34350000 read pairs finished. 612 secs passed\r\n"
       ]
      },
      {
       "output_type": "stream",
       "stream": "stdout",
       "text": [
        "Thread #1: \t34400000 read pairs finished. 613 secs passed\r\n"
       ]
      },
      {
       "output_type": "stream",
       "stream": "stdout",
       "text": [
        "Thread #0: \t34450000 read pairs finished. 614 secs passed\r\n"
       ]
      },
      {
       "output_type": "stream",
       "stream": "stdout",
       "text": [
        "Thread #2: \t34500000 read pairs finished. 615 secs passed\r\n"
       ]
      },
      {
       "output_type": "stream",
       "stream": "stdout",
       "text": [
        "Thread #1: \t34550000 read pairs finished. 616 secs passed\r\n"
       ]
      },
      {
       "output_type": "stream",
       "stream": "stdout",
       "text": [
        "Thread #0: \t34600000 read pairs finished. 617 secs passed\r\n"
       ]
      },
      {
       "output_type": "stream",
       "stream": "stdout",
       "text": [
        "Thread #2: \t34650000 read pairs finished. 618 secs passed\r\n"
       ]
      },
      {
       "output_type": "stream",
       "stream": "stdout",
       "text": [
        "Thread #1: \t34700000 read pairs finished. 618 secs passed\r\n"
       ]
      },
      {
       "output_type": "stream",
       "stream": "stdout",
       "text": [
        "Thread #0: \t34750000 read pairs finished. 619 secs passed\r\n"
       ]
      },
      {
       "output_type": "stream",
       "stream": "stdout",
       "text": [
        "Thread #2: \t34800000 read pairs finished. 620 secs passed\r\n"
       ]
      },
      {
       "output_type": "stream",
       "stream": "stdout",
       "text": [
        "Thread #1: \t34850000 read pairs finished. 621 secs passed\r\n"
       ]
      },
      {
       "output_type": "stream",
       "stream": "stdout",
       "text": [
        "Thread #0: \t34900000 read pairs finished. 622 secs passed\r\n"
       ]
      },
      {
       "output_type": "stream",
       "stream": "stdout",
       "text": [
        "Thread #2: \t34950000 read pairs finished. 622 secs passed\r\n"
       ]
      },
      {
       "output_type": "stream",
       "stream": "stdout",
       "text": [
        "Thread #1: \t35000000 read pairs finished. 623 secs passed\r\n"
       ]
      },
      {
       "output_type": "stream",
       "stream": "stdout",
       "text": [
        "Thread #0: \t35050000 read pairs finished. 624 secs passed\r\n"
       ]
      },
      {
       "output_type": "stream",
       "stream": "stdout",
       "text": [
        "Thread #2: \t35100000 read pairs finished. 625 secs passed\r\n"
       ]
      },
      {
       "output_type": "stream",
       "stream": "stdout",
       "text": [
        "Thread #1: \t35150000 read pairs finished. 626 secs passed\r\n"
       ]
      },
      {
       "output_type": "stream",
       "stream": "stdout",
       "text": [
        "Thread #0: \t35200000 read pairs finished. 626 secs passed\r\n"
       ]
      },
      {
       "output_type": "stream",
       "stream": "stdout",
       "text": [
        "Thread #2: \t35250000 read pairs finished. 627 secs passed\r\n"
       ]
      },
      {
       "output_type": "stream",
       "stream": "stdout",
       "text": [
        "Thread #1: \t35300000 read pairs finished. 628 secs passed\r\n"
       ]
      },
      {
       "output_type": "stream",
       "stream": "stdout",
       "text": [
        "Thread #0: \t35350000 read pairs finished. 629 secs passed\r\n"
       ]
      },
      {
       "output_type": "stream",
       "stream": "stdout",
       "text": [
        "Thread #2: \t35400000 read pairs finished. 629 secs passed\r\n"
       ]
      },
      {
       "output_type": "stream",
       "stream": "stdout",
       "text": [
        "Thread #1: \t35450000 read pairs finished. 630 secs passed\r\n"
       ]
      },
      {
       "output_type": "stream",
       "stream": "stdout",
       "text": [
        "Thread #0: \t35500000 read pairs finished. 631 secs passed\r\n"
       ]
      },
      {
       "output_type": "stream",
       "stream": "stdout",
       "text": [
        "Thread #2: \t35550000 read pairs finished. 632 secs passed\r\n"
       ]
      },
      {
       "output_type": "stream",
       "stream": "stdout",
       "text": [
        "Thread #1: \t35600000 read pairs finished. 633 secs passed\r\n"
       ]
      },
      {
       "output_type": "stream",
       "stream": "stdout",
       "text": [
        "Thread #0: \t35650000 read pairs finished. 633 secs passed\r\n"
       ]
      },
      {
       "output_type": "stream",
       "stream": "stdout",
       "text": [
        "Thread #2: \t35700000 read pairs finished. 634 secs passed\r\n"
       ]
      },
      {
       "output_type": "stream",
       "stream": "stdout",
       "text": [
        "Thread #1: \t35750000 read pairs finished. 635 secs passed\r\n"
       ]
      },
      {
       "output_type": "stream",
       "stream": "stdout",
       "text": [
        "Thread #0: \t35800000 read pairs finished. 636 secs passed\r\n"
       ]
      },
      {
       "output_type": "stream",
       "stream": "stdout",
       "text": [
        "Thread #2: \t35850000 read pairs finished. 637 secs passed\r\n"
       ]
      },
      {
       "output_type": "stream",
       "stream": "stdout",
       "text": [
        "Thread #1: \t35900000 read pairs finished. 638 secs passed\r\n"
       ]
      },
      {
       "output_type": "stream",
       "stream": "stdout",
       "text": [
        "Thread #0: \t35950000 read pairs finished. 639 secs passed\r\n"
       ]
      },
      {
       "output_type": "stream",
       "stream": "stdout",
       "text": [
        "Thread #2: \t36000000 read pairs finished. 640 secs passed\r\n"
       ]
      },
      {
       "output_type": "stream",
       "stream": "stdout",
       "text": [
        "Thread #1: \t36050000 read pairs finished. 641 secs passed\r\n"
       ]
      },
      {
       "output_type": "stream",
       "stream": "stdout",
       "text": [
        "Thread #0: \t36100000 read pairs finished. 642 secs passed\r\n"
       ]
      },
      {
       "output_type": "stream",
       "stream": "stdout",
       "text": [
        "Thread #2: \t36150000 read pairs finished. 643 secs passed\r\n"
       ]
      },
      {
       "output_type": "stream",
       "stream": "stdout",
       "text": [
        "Thread #1: \t36200000 read pairs finished. 644 secs passed\r\n"
       ]
      },
      {
       "output_type": "stream",
       "stream": "stdout",
       "text": [
        "Thread #0: \t36250000 read pairs finished. 645 secs passed\r\n"
       ]
      },
      {
       "output_type": "stream",
       "stream": "stdout",
       "text": [
        "Thread #2: \t36300000 read pairs finished. 646 secs passed\r\n"
       ]
      },
      {
       "output_type": "stream",
       "stream": "stdout",
       "text": [
        "Thread #1: \t36350000 read pairs finished. 647 secs passed\r\n"
       ]
      },
      {
       "output_type": "stream",
       "stream": "stdout",
       "text": [
        "Thread #0: \t36400000 read pairs finished. 647 secs passed\r\n"
       ]
      },
      {
       "output_type": "stream",
       "stream": "stdout",
       "text": [
        "Thread #2: \t36450000 read pairs finished. 648 secs passed\r\n"
       ]
      },
      {
       "output_type": "stream",
       "stream": "stdout",
       "text": [
        "Thread #1: \t36500000 read pairs finished. 649 secs passed\r\n"
       ]
      },
      {
       "output_type": "stream",
       "stream": "stdout",
       "text": [
        "Thread #0: \t36550000 read pairs finished. 650 secs passed\r\n"
       ]
      },
      {
       "output_type": "stream",
       "stream": "stdout",
       "text": [
        "Thread #2: \t36600000 read pairs finished. 651 secs passed\r\n"
       ]
      },
      {
       "output_type": "stream",
       "stream": "stdout",
       "text": [
        "Thread #1: \t36650000 read pairs finished. 652 secs passed\r\n"
       ]
      },
      {
       "output_type": "stream",
       "stream": "stdout",
       "text": [
        "Thread #0: \t36700000 read pairs finished. 653 secs passed\r\n"
       ]
      },
      {
       "output_type": "stream",
       "stream": "stdout",
       "text": [
        "Thread #2: \t36750000 read pairs finished. 653 secs passed\r\n"
       ]
      },
      {
       "output_type": "stream",
       "stream": "stdout",
       "text": [
        "Thread #1: \t36800000 read pairs finished. 654 secs passed\r\n"
       ]
      },
      {
       "output_type": "stream",
       "stream": "stdout",
       "text": [
        "Thread #0: \t36850000 read pairs finished. 655 secs passed\r\n"
       ]
      },
      {
       "output_type": "stream",
       "stream": "stdout",
       "text": [
        "Thread #2: \t36900000 read pairs finished. 656 secs passed\r\n"
       ]
      },
      {
       "output_type": "stream",
       "stream": "stdout",
       "text": [
        "Thread #1: \t36950000 read pairs finished. 657 secs passed\r\n"
       ]
      },
      {
       "output_type": "stream",
       "stream": "stdout",
       "text": [
        "Thread #0: \t37000000 read pairs finished. 659 secs passed\r\n"
       ]
      },
      {
       "output_type": "stream",
       "stream": "stdout",
       "text": [
        "Thread #2: \t37050000 read pairs finished. 659 secs passed\r\n"
       ]
      },
      {
       "output_type": "stream",
       "stream": "stdout",
       "text": [
        "Thread #1: \t37100000 read pairs finished. 660 secs passed\r\n"
       ]
      },
      {
       "output_type": "stream",
       "stream": "stdout",
       "text": [
        "Thread #0: \t37150000 read pairs finished. 661 secs passed\r\n"
       ]
      },
      {
       "output_type": "stream",
       "stream": "stdout",
       "text": [
        "Thread #2: \t37200000 read pairs finished. 662 secs passed\r\n"
       ]
      },
      {
       "output_type": "stream",
       "stream": "stdout",
       "text": [
        "Thread #1: \t37250000 read pairs finished. 663 secs passed\r\n"
       ]
      },
      {
       "output_type": "stream",
       "stream": "stdout",
       "text": [
        "Thread #0: \t37300000 read pairs finished. 664 secs passed\r\n"
       ]
      },
      {
       "output_type": "stream",
       "stream": "stdout",
       "text": [
        "Thread #2: \t37350000 read pairs finished. 665 secs passed\r\n"
       ]
      },
      {
       "output_type": "stream",
       "stream": "stdout",
       "text": [
        "Thread #1: \t37400000 read pairs finished. 666 secs passed\r\n"
       ]
      },
      {
       "output_type": "stream",
       "stream": "stdout",
       "text": [
        "Thread #0: \t37450000 read pairs finished. 667 secs passed\r\n"
       ]
      },
      {
       "output_type": "stream",
       "stream": "stdout",
       "text": [
        "Thread #2: \t37500000 read pairs finished. 667 secs passed\r\n"
       ]
      },
      {
       "output_type": "stream",
       "stream": "stdout",
       "text": [
        "Thread #1: \t37550000 read pairs finished. 668 secs passed\r\n"
       ]
      },
      {
       "output_type": "stream",
       "stream": "stdout",
       "text": [
        "Thread #0: \t37600000 read pairs finished. 669 secs passed\r\n"
       ]
      },
      {
       "output_type": "stream",
       "stream": "stdout",
       "text": [
        "Thread #2: \t37650000 read pairs finished. 670 secs passed\r\n"
       ]
      },
      {
       "output_type": "stream",
       "stream": "stdout",
       "text": [
        "Thread #1: \t37700000 read pairs finished. 671 secs passed\r\n"
       ]
      },
      {
       "output_type": "stream",
       "stream": "stdout",
       "text": [
        "Thread #0: \t37750000 read pairs finished. 672 secs passed\r\n"
       ]
      },
      {
       "output_type": "stream",
       "stream": "stdout",
       "text": [
        "Thread #2: \t37800000 read pairs finished. 673 secs passed\r\n"
       ]
      },
      {
       "output_type": "stream",
       "stream": "stdout",
       "text": [
        "Thread #1: \t37850000 read pairs finished. 674 secs passed\r\n"
       ]
      },
      {
       "output_type": "stream",
       "stream": "stdout",
       "text": [
        "Thread #0: \t37900000 read pairs finished. 675 secs passed\r\n"
       ]
      },
      {
       "output_type": "stream",
       "stream": "stdout",
       "text": [
        "Thread #2: \t37950000 read pairs finished. 675 secs passed\r\n"
       ]
      },
      {
       "output_type": "stream",
       "stream": "stdout",
       "text": [
        "Thread #1: \t38000000 read pairs finished. 676 secs passed\r\n"
       ]
      },
      {
       "output_type": "stream",
       "stream": "stdout",
       "text": [
        "Thread #0: \t38050000 read pairs finished. 677 secs passed\r\n"
       ]
      },
      {
       "output_type": "stream",
       "stream": "stdout",
       "text": [
        "Thread #2: \t38100000 read pairs finished. 678 secs passed\r\n"
       ]
      },
      {
       "output_type": "stream",
       "stream": "stdout",
       "text": [
        "Thread #1: \t38150000 read pairs finished. 679 secs passed\r\n"
       ]
      },
      {
       "output_type": "stream",
       "stream": "stdout",
       "text": [
        "Thread #0: \t38200000 read pairs finished. 679 secs passed\r\n"
       ]
      },
      {
       "output_type": "stream",
       "stream": "stdout",
       "text": [
        "Thread #2: \t38250000 read pairs finished. 680 secs passed\r\n"
       ]
      },
      {
       "output_type": "stream",
       "stream": "stdout",
       "text": [
        "Thread #1: \t38300000 read pairs finished. 681 secs passed\r\n"
       ]
      },
      {
       "output_type": "stream",
       "stream": "stdout",
       "text": [
        "Thread #0: \t38350000 read pairs finished. 682 secs passed\r\n"
       ]
      },
      {
       "output_type": "stream",
       "stream": "stdout",
       "text": [
        "Thread #2: \t38400000 read pairs finished. 683 secs passed\r\n"
       ]
      },
      {
       "output_type": "stream",
       "stream": "stdout",
       "text": [
        "Thread #1: \t38450000 read pairs finished. 684 secs passed\r\n"
       ]
      },
      {
       "output_type": "stream",
       "stream": "stdout",
       "text": [
        "Thread #0: \t38500000 read pairs finished. 685 secs passed\r\n"
       ]
      },
      {
       "output_type": "stream",
       "stream": "stdout",
       "text": [
        "Thread #2: \t38550000 read pairs finished. 685 secs passed\r\n"
       ]
      },
      {
       "output_type": "stream",
       "stream": "stdout",
       "text": [
        "Thread #1: \t38600000 read pairs finished. 686 secs passed\r\n"
       ]
      },
      {
       "output_type": "stream",
       "stream": "stdout",
       "text": [
        "Thread #0: \t38650000 read pairs finished. 688 secs passed\r\n"
       ]
      },
      {
       "output_type": "stream",
       "stream": "stdout",
       "text": [
        "Thread #2: \t38700000 read pairs finished. 688 secs passed\r\n"
       ]
      },
      {
       "output_type": "stream",
       "stream": "stdout",
       "text": [
        "Thread #1: \t38750000 read pairs finished. 689 secs passed\r\n"
       ]
      },
      {
       "output_type": "stream",
       "stream": "stdout",
       "text": [
        "Thread #0: \t38800000 read pairs finished. 690 secs passed\r\n"
       ]
      },
      {
       "output_type": "stream",
       "stream": "stdout",
       "text": [
        "Thread #2: \t38850000 read pairs finished. 691 secs passed\r\n"
       ]
      },
      {
       "output_type": "stream",
       "stream": "stdout",
       "text": [
        "Thread #1: \t38900000 read pairs finished. 692 secs passed\r\n"
       ]
      },
      {
       "output_type": "stream",
       "stream": "stdout",
       "text": [
        "Thread #0: \t38950000 read pairs finished. 693 secs passed\r\n"
       ]
      },
      {
       "output_type": "stream",
       "stream": "stdout",
       "text": [
        "Thread #2: \t39000000 read pairs finished. 694 secs passed\r\n"
       ]
      },
      {
       "output_type": "stream",
       "stream": "stdout",
       "text": [
        "Thread #1: \t39050000 read pairs finished. 695 secs passed\r\n"
       ]
      },
      {
       "output_type": "stream",
       "stream": "stdout",
       "text": [
        "Thread #0: \t39100000 read pairs finished. 696 secs passed\r\n"
       ]
      },
      {
       "output_type": "stream",
       "stream": "stdout",
       "text": [
        "Thread #2: \t39150000 read pairs finished. 697 secs passed\r\n"
       ]
      },
      {
       "output_type": "stream",
       "stream": "stdout",
       "text": [
        "Thread #1: \t39200000 read pairs finished. 698 secs passed\r\n"
       ]
      },
      {
       "output_type": "stream",
       "stream": "stdout",
       "text": [
        "Thread #0: \t39250000 read pairs finished. 698 secs passed\r\n"
       ]
      },
      {
       "output_type": "stream",
       "stream": "stdout",
       "text": [
        "Thread #2: \t39300000 read pairs finished. 699 secs passed\r\n"
       ]
      },
      {
       "output_type": "stream",
       "stream": "stdout",
       "text": [
        "Thread #1: \t39350000 read pairs finished. 700 secs passed\r\n"
       ]
      },
      {
       "output_type": "stream",
       "stream": "stdout",
       "text": [
        "Thread #0: \t39400000 read pairs finished. 701 secs passed\r\n"
       ]
      },
      {
       "output_type": "stream",
       "stream": "stdout",
       "text": [
        "Thread #2: \t39450000 read pairs finished. 702 secs passed\r\n"
       ]
      },
      {
       "output_type": "stream",
       "stream": "stdout",
       "text": [
        "Thread #1: \t39500000 read pairs finished. 703 secs passed\r\n"
       ]
      },
      {
       "output_type": "stream",
       "stream": "stdout",
       "text": [
        "Thread #0: \t39550000 read pairs finished. 704 secs passed\r\n"
       ]
      },
      {
       "output_type": "stream",
       "stream": "stdout",
       "text": [
        "Thread #2: \t39600000 read pairs finished. 705 secs passed\r\n"
       ]
      },
      {
       "output_type": "stream",
       "stream": "stdout",
       "text": [
        "Thread #1: \t39650000 read pairs finished. 706 secs passed\r\n"
       ]
      },
      {
       "output_type": "stream",
       "stream": "stdout",
       "text": [
        "Thread #0: \t39700000 read pairs finished. 707 secs passed\r\n"
       ]
      },
      {
       "output_type": "stream",
       "stream": "stdout",
       "text": [
        "Thread #2: \t39750000 read pairs finished. 708 secs passed\r\n"
       ]
      },
      {
       "output_type": "stream",
       "stream": "stdout",
       "text": [
        "Thread #1: \t39800000 read pairs finished. 709 secs passed\r\n"
       ]
      },
      {
       "output_type": "stream",
       "stream": "stdout",
       "text": [
        "Thread #0: \t39850000 read pairs finished. 710 secs passed\r\n"
       ]
      },
      {
       "output_type": "stream",
       "stream": "stdout",
       "text": [
        "Thread #2: \t39900000 read pairs finished. 710 secs passed\r\n"
       ]
      },
      {
       "output_type": "stream",
       "stream": "stdout",
       "text": [
        "Thread #1: \t39950000 read pairs finished. 711 secs passed\r\n"
       ]
      },
      {
       "output_type": "stream",
       "stream": "stdout",
       "text": [
        "Thread #0: \t40000000 read pairs finished. 712 secs passed\r\n"
       ]
      },
      {
       "output_type": "stream",
       "stream": "stdout",
       "text": [
        "Thread #2: \t40050000 read pairs finished. 713 secs passed\r\n"
       ]
      },
      {
       "output_type": "stream",
       "stream": "stdout",
       "text": [
        "Thread #1: \t40100000 read pairs finished. 714 secs passed\r\n"
       ]
      },
      {
       "output_type": "stream",
       "stream": "stdout",
       "text": [
        "Thread #0: \t40150000 read pairs finished. 714 secs passed\r\n"
       ]
      },
      {
       "output_type": "stream",
       "stream": "stdout",
       "text": [
        "Thread #2: \t40200000 read pairs finished. 715 secs passed\r\n"
       ]
      },
      {
       "output_type": "stream",
       "stream": "stdout",
       "text": [
        "Thread #1: \t40250000 read pairs finished. 716 secs passed\r\n"
       ]
      },
      {
       "output_type": "stream",
       "stream": "stdout",
       "text": [
        "Thread #0: \t40300000 read pairs finished. 717 secs passed\r\n"
       ]
      },
      {
       "output_type": "stream",
       "stream": "stdout",
       "text": [
        "Thread #2: \t40350000 read pairs finished. 718 secs passed\r\n"
       ]
      },
      {
       "output_type": "stream",
       "stream": "stdout",
       "text": [
        "Thread #1: \t40400000 read pairs finished. 718 secs passed\r\n"
       ]
      },
      {
       "output_type": "stream",
       "stream": "stdout",
       "text": [
        "Thread #0: \t40450000 read pairs finished. 719 secs passed\r\n"
       ]
      },
      {
       "output_type": "stream",
       "stream": "stdout",
       "text": [
        "Thread #2: \t40500000 read pairs finished. 720 secs passed\r\n"
       ]
      },
      {
       "output_type": "stream",
       "stream": "stdout",
       "text": [
        "Thread #1: \t40550000 read pairs finished. 721 secs passed\r\n"
       ]
      },
      {
       "output_type": "stream",
       "stream": "stdout",
       "text": [
        "Thread #0: \t40600000 read pairs finished. 722 secs passed\r\n"
       ]
      },
      {
       "output_type": "stream",
       "stream": "stdout",
       "text": [
        "Thread #2: \t40650000 read pairs finished. 723 secs passed\r\n"
       ]
      },
      {
       "output_type": "stream",
       "stream": "stdout",
       "text": [
        "Thread #1: \t40700000 read pairs finished. 724 secs passed\r\n"
       ]
      },
      {
       "output_type": "stream",
       "stream": "stdout",
       "text": [
        "Thread #0: \t40750000 read pairs finished. 725 secs passed\r\n"
       ]
      },
      {
       "output_type": "stream",
       "stream": "stdout",
       "text": [
        "Thread #2: \t40800000 read pairs finished. 725 secs passed\r\n"
       ]
      },
      {
       "output_type": "stream",
       "stream": "stdout",
       "text": [
        "Thread #1: \t40850000 read pairs finished. 726 secs passed\r\n"
       ]
      },
      {
       "output_type": "stream",
       "stream": "stdout",
       "text": [
        "Thread #0: \t40900000 read pairs finished. 727 secs passed\r\n"
       ]
      },
      {
       "output_type": "stream",
       "stream": "stdout",
       "text": [
        "Thread #2: \t40950000 read pairs finished. 728 secs passed\r\n"
       ]
      },
      {
       "output_type": "stream",
       "stream": "stdout",
       "text": [
        "Thread #1: \t41000000 read pairs finished. 729 secs passed\r\n"
       ]
      },
      {
       "output_type": "stream",
       "stream": "stdout",
       "text": [
        "Thread #0: \t41050000 read pairs finished. 730 secs passed\r\n"
       ]
      },
      {
       "output_type": "stream",
       "stream": "stdout",
       "text": [
        "Thread #2: \t41100000 read pairs finished. 730 secs passed\r\n"
       ]
      },
      {
       "output_type": "stream",
       "stream": "stdout",
       "text": [
        "Thread #1: \t41150000 read pairs finished. 731 secs passed\r\n"
       ]
      },
      {
       "output_type": "stream",
       "stream": "stdout",
       "text": [
        "Thread #0: \t41200000 read pairs finished. 732 secs passed\r\n"
       ]
      },
      {
       "output_type": "stream",
       "stream": "stdout",
       "text": [
        "Thread #2: \t41250000 read pairs finished. 733 secs passed\r\n"
       ]
      },
      {
       "output_type": "stream",
       "stream": "stdout",
       "text": [
        "Thread #1: \t41300000 read pairs finished. 734 secs passed\r\n"
       ]
      },
      {
       "output_type": "stream",
       "stream": "stdout",
       "text": [
        "Thread #0: \t41350000 read pairs finished. 735 secs passed\r\n"
       ]
      },
      {
       "output_type": "stream",
       "stream": "stdout",
       "text": [
        "Thread #2: \t41400000 read pairs finished. 736 secs passed\r\n"
       ]
      },
      {
       "output_type": "stream",
       "stream": "stdout",
       "text": [
        "Thread #1: \t41450000 read pairs finished. 736 secs passed\r\n"
       ]
      },
      {
       "output_type": "stream",
       "stream": "stdout",
       "text": [
        "Thread #0: \t41500000 read pairs finished. 737 secs passed\r\n"
       ]
      },
      {
       "output_type": "stream",
       "stream": "stdout",
       "text": [
        "Thread #2: \t41550000 read pairs finished. 738 secs passed\r\n"
       ]
      },
      {
       "output_type": "stream",
       "stream": "stdout",
       "text": [
        "Thread #1: \t41600000 read pairs finished. 739 secs passed\r\n"
       ]
      },
      {
       "output_type": "stream",
       "stream": "stdout",
       "text": [
        "Thread #0: \t41650000 read pairs finished. 740 secs passed\r\n"
       ]
      },
      {
       "output_type": "stream",
       "stream": "stdout",
       "text": [
        "Thread #2: \t41700000 read pairs finished. 741 secs passed\r\n"
       ]
      },
      {
       "output_type": "stream",
       "stream": "stdout",
       "text": [
        "Thread #1: \t41750000 read pairs finished. 742 secs passed\r\n"
       ]
      },
      {
       "output_type": "stream",
       "stream": "stdout",
       "text": [
        "Thread #0: \t41800000 read pairs finished. 743 secs passed\r\n"
       ]
      },
      {
       "output_type": "stream",
       "stream": "stdout",
       "text": [
        "Thread #2: \t41850000 read pairs finished. 743 secs passed\r\n"
       ]
      },
      {
       "output_type": "stream",
       "stream": "stdout",
       "text": [
        "Thread #1: \t41900000 read pairs finished. 744 secs passed\r\n"
       ]
      },
      {
       "output_type": "stream",
       "stream": "stdout",
       "text": [
        "Thread #0: \t41950000 read pairs finished. 745 secs passed\r\n"
       ]
      },
      {
       "output_type": "stream",
       "stream": "stdout",
       "text": [
        "Thread #2: \t42000000 read pairs finished. 746 secs passed\r\n"
       ]
      },
      {
       "output_type": "stream",
       "stream": "stdout",
       "text": [
        "Thread #1: \t42050000 read pairs finished. 747 secs passed\r\n"
       ]
      },
      {
       "output_type": "stream",
       "stream": "stdout",
       "text": [
        "Thread #0: \t42100000 read pairs finished. 747 secs passed\r\n"
       ]
      },
      {
       "output_type": "stream",
       "stream": "stdout",
       "text": [
        "Thread #2: \t42150000 read pairs finished. 748 secs passed\r\n"
       ]
      },
      {
       "output_type": "stream",
       "stream": "stdout",
       "text": [
        "Thread #1: \t42200000 read pairs finished. 749 secs passed\r\n"
       ]
      },
      {
       "output_type": "stream",
       "stream": "stdout",
       "text": [
        "Thread #0: \t42250000 read pairs finished. 750 secs passed\r\n"
       ]
      },
      {
       "output_type": "stream",
       "stream": "stdout",
       "text": [
        "Thread #2: \t42300000 read pairs finished. 751 secs passed\r\n"
       ]
      },
      {
       "output_type": "stream",
       "stream": "stdout",
       "text": [
        "Thread #1: \t42350000 read pairs finished. 752 secs passed\r\n"
       ]
      },
      {
       "output_type": "stream",
       "stream": "stdout",
       "text": [
        "Thread #0: \t42400000 read pairs finished. 753 secs passed\r\n"
       ]
      },
      {
       "output_type": "stream",
       "stream": "stdout",
       "text": [
        "Thread #2: \t42450000 read pairs finished. 754 secs passed\r\n"
       ]
      },
      {
       "output_type": "stream",
       "stream": "stdout",
       "text": [
        "Thread #1: \t42500000 read pairs finished. 755 secs passed\r\n"
       ]
      },
      {
       "output_type": "stream",
       "stream": "stdout",
       "text": [
        "Thread #0: \t42550000 read pairs finished. 756 secs passed\r\n"
       ]
      },
      {
       "output_type": "stream",
       "stream": "stdout",
       "text": [
        "Thread #2: \t42600000 read pairs finished. 757 secs passed\r\n"
       ]
      },
      {
       "output_type": "stream",
       "stream": "stdout",
       "text": [
        "Thread #1: \t42650000 read pairs finished. 758 secs passed\r\n"
       ]
      },
      {
       "output_type": "stream",
       "stream": "stdout",
       "text": [
        "Thread #0: \t42700000 read pairs finished. 759 secs passed\r\n"
       ]
      },
      {
       "output_type": "stream",
       "stream": "stdout",
       "text": [
        "Thread #2: \t42750000 read pairs finished. 760 secs passed\r\n"
       ]
      },
      {
       "output_type": "stream",
       "stream": "stdout",
       "text": [
        "Thread #1: \t42800000 read pairs finished. 761 secs passed\r\n"
       ]
      },
      {
       "output_type": "stream",
       "stream": "stdout",
       "text": [
        "Thread #0: \t42850000 read pairs finished. 762 secs passed\r\n"
       ]
      },
      {
       "output_type": "stream",
       "stream": "stdout",
       "text": [
        "Thread #2: \t42900000 read pairs finished. 762 secs passed\r\n"
       ]
      },
      {
       "output_type": "stream",
       "stream": "stdout",
       "text": [
        "Thread #1: \t42950000 read pairs finished. 763 secs passed\r\n"
       ]
      },
      {
       "output_type": "stream",
       "stream": "stdout",
       "text": [
        "Thread #0: \t43000000 read pairs finished. 764 secs passed\r\n"
       ]
      },
      {
       "output_type": "stream",
       "stream": "stdout",
       "text": [
        "Thread #2: \t43050000 read pairs finished. 766 secs passed\r\n"
       ]
      },
      {
       "output_type": "stream",
       "stream": "stdout",
       "text": [
        "Thread #1: \t43100000 read pairs finished. 767 secs passed\r\n"
       ]
      },
      {
       "output_type": "stream",
       "stream": "stdout",
       "text": [
        "Thread #0: \t43150000 read pairs finished. 767 secs passed\r\n"
       ]
      },
      {
       "output_type": "stream",
       "stream": "stdout",
       "text": [
        "Thread #2: \t43200000 read pairs finished. 768 secs passed\r\n"
       ]
      },
      {
       "output_type": "stream",
       "stream": "stdout",
       "text": [
        "Thread #1: \t43250000 read pairs finished. 769 secs passed\r\n"
       ]
      },
      {
       "output_type": "stream",
       "stream": "stdout",
       "text": [
        "Thread #0: \t43300000 read pairs finished. 770 secs passed\r\n"
       ]
      },
      {
       "output_type": "stream",
       "stream": "stdout",
       "text": [
        "Thread #2: \t43350000 read pairs finished. 770 secs passed\r\n"
       ]
      },
      {
       "output_type": "stream",
       "stream": "stdout",
       "text": [
        "Thread #1: \t43400000 read pairs finished. 771 secs passed\r\n"
       ]
      },
      {
       "output_type": "stream",
       "stream": "stdout",
       "text": [
        "Thread #0: \t43450000 read pairs finished. 772 secs passed\r\n"
       ]
      },
      {
       "output_type": "stream",
       "stream": "stdout",
       "text": [
        "Thread #2: \t43500000 read pairs finished. 773 secs passed\r\n"
       ]
      },
      {
       "output_type": "stream",
       "stream": "stdout",
       "text": [
        "Thread #1: \t43550000 read pairs finished. 774 secs passed\r\n"
       ]
      },
      {
       "output_type": "stream",
       "stream": "stdout",
       "text": [
        "Thread #0: \t43600000 read pairs finished. 775 secs passed\r\n"
       ]
      },
      {
       "output_type": "stream",
       "stream": "stdout",
       "text": [
        "Thread #2: \t43650000 read pairs finished. 776 secs passed\r\n"
       ]
      },
      {
       "output_type": "stream",
       "stream": "stdout",
       "text": [
        "Thread #1: \t43700000 read pairs finished. 777 secs passed\r\n"
       ]
      },
      {
       "output_type": "stream",
       "stream": "stdout",
       "text": [
        "Thread #0: \t43750000 read pairs finished. 778 secs passed\r\n"
       ]
      },
      {
       "output_type": "stream",
       "stream": "stdout",
       "text": [
        "Thread #2: \t43800000 read pairs finished. 779 secs passed\r\n"
       ]
      },
      {
       "output_type": "stream",
       "stream": "stdout",
       "text": [
        "Thread #1: \t43850000 read pairs finished. 780 secs passed\r\n"
       ]
      },
      {
       "output_type": "stream",
       "stream": "stdout",
       "text": [
        "Thread #0: \t43900000 read pairs finished. 781 secs passed\r\n"
       ]
      },
      {
       "output_type": "stream",
       "stream": "stdout",
       "text": [
        "Thread #2: \t43950000 read pairs finished. 782 secs passed\r\n"
       ]
      },
      {
       "output_type": "stream",
       "stream": "stdout",
       "text": [
        "Thread #1: \t44000000 read pairs finished. 783 secs passed\r\n"
       ]
      },
      {
       "output_type": "stream",
       "stream": "stdout",
       "text": [
        "Thread #0: \t44050000 read pairs finished. 784 secs passed\r\n"
       ]
      },
      {
       "output_type": "stream",
       "stream": "stdout",
       "text": [
        "Thread #2: \t44100000 read pairs finished. 785 secs passed\r\n"
       ]
      },
      {
       "output_type": "stream",
       "stream": "stdout",
       "text": [
        "Thread #1: \t44150000 read pairs finished. 786 secs passed\r\n"
       ]
      },
      {
       "output_type": "stream",
       "stream": "stdout",
       "text": [
        "Thread #0: \t44200000 read pairs finished. 787 secs passed\r\n"
       ]
      },
      {
       "output_type": "stream",
       "stream": "stdout",
       "text": [
        "Thread #2: \t44250000 read pairs finished. 788 secs passed\r\n"
       ]
      },
      {
       "output_type": "stream",
       "stream": "stdout",
       "text": [
        "Thread #1: \t44300000 read pairs finished. 789 secs passed\r\n"
       ]
      },
      {
       "output_type": "stream",
       "stream": "stdout",
       "text": [
        "Thread #0: \t44350000 read pairs finished. 790 secs passed\r\n"
       ]
      },
      {
       "output_type": "stream",
       "stream": "stdout",
       "text": [
        "Thread #2: \t44400000 read pairs finished. 790 secs passed\r\n"
       ]
      },
      {
       "output_type": "stream",
       "stream": "stdout",
       "text": [
        "Thread #1: \t44450000 read pairs finished. 791 secs passed\r\n"
       ]
      },
      {
       "output_type": "stream",
       "stream": "stdout",
       "text": [
        "Thread #0: \t44500000 read pairs finished. 792 secs passed\r\n"
       ]
      },
      {
       "output_type": "stream",
       "stream": "stdout",
       "text": [
        "Thread #2: \t44550000 read pairs finished. 793 secs passed\r\n"
       ]
      },
      {
       "output_type": "stream",
       "stream": "stdout",
       "text": [
        "Thread #1: \t44600000 read pairs finished. 794 secs passed\r\n"
       ]
      },
      {
       "output_type": "stream",
       "stream": "stdout",
       "text": [
        "Thread #0: \t44650000 read pairs finished. 796 secs passed\r\n"
       ]
      },
      {
       "output_type": "stream",
       "stream": "stdout",
       "text": [
        "Thread #2: \t44700000 read pairs finished. 797 secs passed\r\n"
       ]
      },
      {
       "output_type": "stream",
       "stream": "stdout",
       "text": [
        "Thread #1: \t44750000 read pairs finished. 798 secs passed\r\n"
       ]
      },
      {
       "output_type": "stream",
       "stream": "stdout",
       "text": [
        "Thread #0: \t44800000 read pairs finished. 798 secs passed\r\n"
       ]
      },
      {
       "output_type": "stream",
       "stream": "stdout",
       "text": [
        "Thread #2: \t44850000 read pairs finished. 799 secs passed\r\n"
       ]
      },
      {
       "output_type": "stream",
       "stream": "stdout",
       "text": [
        "Thread #1: \t44900000 read pairs finished. 800 secs passed\r\n"
       ]
      },
      {
       "output_type": "stream",
       "stream": "stdout",
       "text": [
        "Thread #0: \t44950000 read pairs finished. 801 secs passed\r\n"
       ]
      },
      {
       "output_type": "stream",
       "stream": "stdout",
       "text": [
        "Thread #2: \t45000000 read pairs finished. 802 secs passed\r\n"
       ]
      },
      {
       "output_type": "stream",
       "stream": "stdout",
       "text": [
        "Thread #1: \t45050000 read pairs finished. 803 secs passed\r\n"
       ]
      },
      {
       "output_type": "stream",
       "stream": "stdout",
       "text": [
        "Thread #0: \t45100000 read pairs finished. 804 secs passed\r\n"
       ]
      },
      {
       "output_type": "stream",
       "stream": "stdout",
       "text": [
        "Thread #2: \t45150000 read pairs finished. 805 secs passed\r\n"
       ]
      },
      {
       "output_type": "stream",
       "stream": "stdout",
       "text": [
        "Thread #1: \t45200000 read pairs finished. 806 secs passed\r\n"
       ]
      },
      {
       "output_type": "stream",
       "stream": "stdout",
       "text": [
        "Thread #0: \t45250000 read pairs finished. 807 secs passed\r\n"
       ]
      },
      {
       "output_type": "stream",
       "stream": "stdout",
       "text": [
        "Thread #2: \t45300000 read pairs finished. 807 secs passed\r\n"
       ]
      },
      {
       "output_type": "stream",
       "stream": "stdout",
       "text": [
        "Thread #1: \t45350000 read pairs finished. 808 secs passed\r\n"
       ]
      },
      {
       "output_type": "stream",
       "stream": "stdout",
       "text": [
        "Thread #0: \t45400000 read pairs finished. 809 secs passed\r\n"
       ]
      },
      {
       "output_type": "stream",
       "stream": "stdout",
       "text": [
        "Thread #2: \t45450000 read pairs finished. 810 secs passed\r\n"
       ]
      },
      {
       "output_type": "stream",
       "stream": "stdout",
       "text": [
        "Thread #1: \t45500000 read pairs finished. 811 secs passed\r\n"
       ]
      },
      {
       "output_type": "stream",
       "stream": "stdout",
       "text": [
        "Thread #0: \t45550000 read pairs finished. 811 secs passed\r\n"
       ]
      },
      {
       "output_type": "stream",
       "stream": "stdout",
       "text": [
        "Thread #2: \t45600000 read pairs finished. 812 secs passed\r\n"
       ]
      },
      {
       "output_type": "stream",
       "stream": "stdout",
       "text": [
        "Thread #1: \t45650000 read pairs finished. 813 secs passed\r\n"
       ]
      },
      {
       "output_type": "stream",
       "stream": "stdout",
       "text": [
        "Thread #0: \t45700000 read pairs finished. 814 secs passed\r\n"
       ]
      },
      {
       "output_type": "stream",
       "stream": "stdout",
       "text": [
        "Thread #2: \t45750000 read pairs finished. 815 secs passed\r\n"
       ]
      },
      {
       "output_type": "stream",
       "stream": "stdout",
       "text": [
        "Thread #1: \t45800000 read pairs finished. 816 secs passed\r\n"
       ]
      },
      {
       "output_type": "stream",
       "stream": "stdout",
       "text": [
        "Thread #0: \t45850000 read pairs finished. 817 secs passed\r\n"
       ]
      },
      {
       "output_type": "stream",
       "stream": "stdout",
       "text": [
        "Thread #2: \t45900000 read pairs finished. 817 secs passed\r\n"
       ]
      },
      {
       "output_type": "stream",
       "stream": "stdout",
       "text": [
        "Thread #1: \t45950000 read pairs finished. 818 secs passed\r\n"
       ]
      },
      {
       "output_type": "stream",
       "stream": "stdout",
       "text": [
        "Thread #0: \t46000000 read pairs finished. 819 secs passed\r\n"
       ]
      },
      {
       "output_type": "stream",
       "stream": "stdout",
       "text": [
        "Thread #2: \t46050000 read pairs finished. 820 secs passed\r\n"
       ]
      },
      {
       "output_type": "stream",
       "stream": "stdout",
       "text": [
        "Thread #1: \t46100000 read pairs finished. 821 secs passed\r\n"
       ]
      },
      {
       "output_type": "stream",
       "stream": "stdout",
       "text": [
        "Thread #0: \t46150000 read pairs finished. 821 secs passed\r\n"
       ]
      },
      {
       "output_type": "stream",
       "stream": "stdout",
       "text": [
        "Thread #2: \t46200000 read pairs finished. 822 secs passed\r\n"
       ]
      },
      {
       "output_type": "stream",
       "stream": "stdout",
       "text": [
        "Thread #1: \t46250000 read pairs finished. 823 secs passed\r\n"
       ]
      },
      {
       "output_type": "stream",
       "stream": "stdout",
       "text": [
        "Thread #0: \t46300000 read pairs finished. 824 secs passed\r\n"
       ]
      },
      {
       "output_type": "stream",
       "stream": "stdout",
       "text": [
        "Thread #2: \t46350000 read pairs finished. 825 secs passed\r\n"
       ]
      },
      {
       "output_type": "stream",
       "stream": "stdout",
       "text": [
        "Thread #1: \t46400000 read pairs finished. 826 secs passed\r\n"
       ]
      },
      {
       "output_type": "stream",
       "stream": "stdout",
       "text": [
        "Thread #0: \t46450000 read pairs finished. 826 secs passed\r\n"
       ]
      },
      {
       "output_type": "stream",
       "stream": "stdout",
       "text": [
        "Thread #2: \t46500000 read pairs finished. 827 secs passed\r\n"
       ]
      },
      {
       "output_type": "stream",
       "stream": "stdout",
       "text": [
        "Thread #1: \t46550000 read pairs finished. 828 secs passed\r\n"
       ]
      },
      {
       "output_type": "stream",
       "stream": "stdout",
       "text": [
        "Thread #0: \t46600000 read pairs finished. 829 secs passed\r\n"
       ]
      },
      {
       "output_type": "stream",
       "stream": "stdout",
       "text": [
        "Thread #2: \t46650000 read pairs finished. 830 secs passed\r\n"
       ]
      },
      {
       "output_type": "stream",
       "stream": "stdout",
       "text": [
        "Thread #1: \t46700000 read pairs finished. 830 secs passed\r\n"
       ]
      },
      {
       "output_type": "stream",
       "stream": "stdout",
       "text": [
        "Thread #0: \t46750000 read pairs finished. 831 secs passed\r\n"
       ]
      },
      {
       "output_type": "stream",
       "stream": "stdout",
       "text": [
        "Thread #2: \t46800000 read pairs finished. 832 secs passed\r\n"
       ]
      },
      {
       "output_type": "stream",
       "stream": "stdout",
       "text": [
        "Thread #1: \t46850000 read pairs finished. 833 secs passed\r\n"
       ]
      },
      {
       "output_type": "stream",
       "stream": "stdout",
       "text": [
        "Thread #0: \t46900000 read pairs finished. 834 secs passed\r\n"
       ]
      },
      {
       "output_type": "stream",
       "stream": "stdout",
       "text": [
        "Thread #2: \t46950000 read pairs finished. 835 secs passed\r\n"
       ]
      },
      {
       "output_type": "stream",
       "stream": "stdout",
       "text": [
        "Thread #1: \t47000000 read pairs finished. 835 secs passed\r\n"
       ]
      },
      {
       "output_type": "stream",
       "stream": "stdout",
       "text": [
        "Thread #0: \t47050000 read pairs finished. 836 secs passed\r\n"
       ]
      },
      {
       "output_type": "stream",
       "stream": "stdout",
       "text": [
        "Thread #2: \t47100000 read pairs finished. 837 secs passed\r\n"
       ]
      },
      {
       "output_type": "stream",
       "stream": "stdout",
       "text": [
        "Thread #1: \t47150000 read pairs finished. 838 secs passed\r\n"
       ]
      },
      {
       "output_type": "stream",
       "stream": "stdout",
       "text": [
        "Thread #0: \t47200000 read pairs finished. 839 secs passed\r\n"
       ]
      },
      {
       "output_type": "stream",
       "stream": "stdout",
       "text": [
        "Thread #2: \t47250000 read pairs finished. 839 secs passed\r\n"
       ]
      },
      {
       "output_type": "stream",
       "stream": "stdout",
       "text": [
        "Thread #1: \t47300000 read pairs finished. 840 secs passed\r\n"
       ]
      },
      {
       "output_type": "stream",
       "stream": "stdout",
       "text": [
        "Thread #0: \t47350000 read pairs finished. 841 secs passed\r\n"
       ]
      },
      {
       "output_type": "stream",
       "stream": "stdout",
       "text": [
        "Thread #2: \t47400000 read pairs finished. 842 secs passed\r\n"
       ]
      },
      {
       "output_type": "stream",
       "stream": "stdout",
       "text": [
        "Thread #1: \t47450000 read pairs finished. 843 secs passed\r\n"
       ]
      },
      {
       "output_type": "stream",
       "stream": "stdout",
       "text": [
        "Thread #0: \t47500000 read pairs finished. 843 secs passed\r\n"
       ]
      },
      {
       "output_type": "stream",
       "stream": "stdout",
       "text": [
        "Thread #2: \t47550000 read pairs finished. 844 secs passed\r\n"
       ]
      },
      {
       "output_type": "stream",
       "stream": "stdout",
       "text": [
        "Thread #1: \t47600000 read pairs finished. 845 secs passed\r\n"
       ]
      },
      {
       "output_type": "stream",
       "stream": "stdout",
       "text": [
        "Thread #0: \t47650000 read pairs finished. 846 secs passed\r\n"
       ]
      },
      {
       "output_type": "stream",
       "stream": "stdout",
       "text": [
        "Thread #2: \t47700000 read pairs finished. 847 secs passed\r\n"
       ]
      },
      {
       "output_type": "stream",
       "stream": "stdout",
       "text": [
        "Thread #1: \t47750000 read pairs finished. 847 secs passed\r\n"
       ]
      },
      {
       "output_type": "stream",
       "stream": "stdout",
       "text": [
        "Thread #0: \t47800000 read pairs finished. 848 secs passed\r\n"
       ]
      },
      {
       "output_type": "stream",
       "stream": "stdout",
       "text": [
        "Thread #2: \t47850000 read pairs finished. 849 secs passed\r\n"
       ]
      },
      {
       "output_type": "stream",
       "stream": "stdout",
       "text": [
        "Thread #1: \t47900000 read pairs finished. 850 secs passed\r\n"
       ]
      },
      {
       "output_type": "stream",
       "stream": "stdout",
       "text": [
        "Thread #0: \t47950000 read pairs finished. 851 secs passed\r\n"
       ]
      },
      {
       "output_type": "stream",
       "stream": "stdout",
       "text": [
        "Thread #2: \t48000000 read pairs finished. 852 secs passed\r\n"
       ]
      },
      {
       "output_type": "stream",
       "stream": "stdout",
       "text": [
        "Thread #1: \t48050000 read pairs finished. 852 secs passed\r\n"
       ]
      },
      {
       "output_type": "stream",
       "stream": "stdout",
       "text": [
        "Thread #0: \t48100000 read pairs finished. 853 secs passed\r\n"
       ]
      },
      {
       "output_type": "stream",
       "stream": "stdout",
       "text": [
        "Thread #2: \t48150000 read pairs finished. 854 secs passed\r\n"
       ]
      },
      {
       "output_type": "stream",
       "stream": "stdout",
       "text": [
        "Thread #1: \t48200000 read pairs finished. 855 secs passed\r\n"
       ]
      },
      {
       "output_type": "stream",
       "stream": "stdout",
       "text": [
        "Thread #0: \t48250000 read pairs finished. 856 secs passed\r\n"
       ]
      },
      {
       "output_type": "stream",
       "stream": "stdout",
       "text": [
        "Thread #2: \t48300000 read pairs finished. 857 secs passed\r\n"
       ]
      },
      {
       "output_type": "stream",
       "stream": "stdout",
       "text": [
        "Thread #1: \t48350000 read pairs finished. 858 secs passed\r\n"
       ]
      },
      {
       "output_type": "stream",
       "stream": "stdout",
       "text": [
        "Thread #0: \t48400000 read pairs finished. 859 secs passed\r\n"
       ]
      },
      {
       "output_type": "stream",
       "stream": "stdout",
       "text": [
        "Thread #2: \t48450000 read pairs finished. 860 secs passed\r\n"
       ]
      },
      {
       "output_type": "stream",
       "stream": "stdout",
       "text": [
        "Thread #1: \t48500000 read pairs finished. 861 secs passed\r\n"
       ]
      },
      {
       "output_type": "stream",
       "stream": "stdout",
       "text": [
        "Thread #0: \t48550000 read pairs finished. 861 secs passed\r\n"
       ]
      },
      {
       "output_type": "stream",
       "stream": "stdout",
       "text": [
        "Thread #2: \t48600000 read pairs finished. 862 secs passed\r\n"
       ]
      },
      {
       "output_type": "stream",
       "stream": "stdout",
       "text": [
        "Thread #1: \t48650000 read pairs finished. 863 secs passed\r\n"
       ]
      },
      {
       "output_type": "stream",
       "stream": "stdout",
       "text": [
        "Thread #0: \t48700000 read pairs finished. 865 secs passed\r\n"
       ]
      },
      {
       "output_type": "stream",
       "stream": "stdout",
       "text": [
        "Thread #2: \t48750000 read pairs finished. 865 secs passed\r\n"
       ]
      },
      {
       "output_type": "stream",
       "stream": "stdout",
       "text": [
        "Thread #1: \t48800000 read pairs finished. 866 secs passed\r\n"
       ]
      },
      {
       "output_type": "stream",
       "stream": "stdout",
       "text": [
        "Thread #0: \t48850000 read pairs finished. 867 secs passed\r\n"
       ]
      },
      {
       "output_type": "stream",
       "stream": "stdout",
       "text": [
        "Thread #2: \t48900000 read pairs finished. 868 secs passed\r\n"
       ]
      },
      {
       "output_type": "stream",
       "stream": "stdout",
       "text": [
        "Thread #1: \t48950000 read pairs finished. 869 secs passed\r\n"
       ]
      },
      {
       "output_type": "stream",
       "stream": "stdout",
       "text": [
        "Thread #0: \t49000000 read pairs finished. 870 secs passed\r\n"
       ]
      },
      {
       "output_type": "stream",
       "stream": "stdout",
       "text": [
        "Thread #2: \t49050000 read pairs finished. 871 secs passed\r\n"
       ]
      },
      {
       "output_type": "stream",
       "stream": "stdout",
       "text": [
        "Thread #1: \t49100000 read pairs finished. 872 secs passed\r\n"
       ]
      },
      {
       "output_type": "stream",
       "stream": "stdout",
       "text": [
        "Thread #0: \t49150000 read pairs finished. 873 secs passed\r\n"
       ]
      },
      {
       "output_type": "stream",
       "stream": "stdout",
       "text": [
        "Thread #2: \t49200000 read pairs finished. 874 secs passed\r\n"
       ]
      },
      {
       "output_type": "stream",
       "stream": "stdout",
       "text": [
        "Thread #1: \t49250000 read pairs finished. 875 secs passed\r\n"
       ]
      },
      {
       "output_type": "stream",
       "stream": "stdout",
       "text": [
        "Thread #0: \t49300000 read pairs finished. 877 secs passed\r\n"
       ]
      },
      {
       "output_type": "stream",
       "stream": "stdout",
       "text": [
        "Thread #2: \t49350000 read pairs finished. 878 secs passed\r\n"
       ]
      },
      {
       "output_type": "stream",
       "stream": "stdout",
       "text": [
        "Thread #1: \t49400000 read pairs finished. 879 secs passed\r\n"
       ]
      },
      {
       "output_type": "stream",
       "stream": "stdout",
       "text": [
        "Thread #0: \t49450000 read pairs finished. 880 secs passed\r\n"
       ]
      },
      {
       "output_type": "stream",
       "stream": "stdout",
       "text": [
        "Thread #2: \t49500000 read pairs finished. 880 secs passed\r\n"
       ]
      },
      {
       "output_type": "stream",
       "stream": "stdout",
       "text": [
        "Thread #1: \t49550000 read pairs finished. 881 secs passed\r\n"
       ]
      },
      {
       "output_type": "stream",
       "stream": "stdout",
       "text": [
        "Thread #0: \t49600000 read pairs finished. 883 secs passed\r\n"
       ]
      },
      {
       "output_type": "stream",
       "stream": "stdout",
       "text": [
        "Thread #2: \t49650000 read pairs finished. 884 secs passed\r\n"
       ]
      },
      {
       "output_type": "stream",
       "stream": "stdout",
       "text": [
        "Thread #1: \t49700000 read pairs finished. 884 secs passed\r\n"
       ]
      },
      {
       "output_type": "stream",
       "stream": "stdout",
       "text": [
        "Thread #0: \t49750000 read pairs finished. 885 secs passed\r\n"
       ]
      },
      {
       "output_type": "stream",
       "stream": "stdout",
       "text": [
        "Thread #2: \t49800000 read pairs finished. 886 secs passed\r\n"
       ]
      },
      {
       "output_type": "stream",
       "stream": "stdout",
       "text": [
        "Thread #1: \t49850000 read pairs finished. 887 secs passed\r\n"
       ]
      },
      {
       "output_type": "stream",
       "stream": "stdout",
       "text": [
        "Thread #0: \t49900000 read pairs finished. 888 secs passed\r\n"
       ]
      },
      {
       "output_type": "stream",
       "stream": "stdout",
       "text": [
        "Thread #2: \t49950000 read pairs finished. 889 secs passed\r\n"
       ]
      },
      {
       "output_type": "stream",
       "stream": "stdout",
       "text": [
        "Thread #1: \t50000000 read pairs finished. 889 secs passed\r\n"
       ]
      },
      {
       "output_type": "stream",
       "stream": "stdout",
       "text": [
        "Thread #0: \t50050000 read pairs finished. 890 secs passed\r\n"
       ]
      },
      {
       "output_type": "stream",
       "stream": "stdout",
       "text": [
        "Thread #2: \t50100000 read pairs finished. 891 secs passed\r\n"
       ]
      },
      {
       "output_type": "stream",
       "stream": "stdout",
       "text": [
        "Thread #1: \t50150000 read pairs finished. 892 secs passed\r\n"
       ]
      },
      {
       "output_type": "stream",
       "stream": "stdout",
       "text": [
        "Thread #0: \t50200000 read pairs finished. 893 secs passed\r\n"
       ]
      },
      {
       "output_type": "stream",
       "stream": "stdout",
       "text": [
        "Thread #2: \t50250000 read pairs finished. 894 secs passed\r\n"
       ]
      },
      {
       "output_type": "stream",
       "stream": "stdout",
       "text": [
        "Thread #1: \t50300000 read pairs finished. 895 secs passed\r\n"
       ]
      },
      {
       "output_type": "stream",
       "stream": "stdout",
       "text": [
        "Thread #0: \t50350000 read pairs finished. 896 secs passed\r\n"
       ]
      },
      {
       "output_type": "stream",
       "stream": "stdout",
       "text": [
        "Thread #2: \t50400000 read pairs finished. 897 secs passed\r\n"
       ]
      },
      {
       "output_type": "stream",
       "stream": "stdout",
       "text": [
        "Thread #1: \t50450000 read pairs finished. 898 secs passed\r\n"
       ]
      },
      {
       "output_type": "stream",
       "stream": "stdout",
       "text": [
        "Thread #0: \t50500000 read pairs finished. 899 secs passed\r\n"
       ]
      },
      {
       "output_type": "stream",
       "stream": "stdout",
       "text": [
        "Thread #2: \t50550000 read pairs finished. 899 secs passed\r\n"
       ]
      },
      {
       "output_type": "stream",
       "stream": "stdout",
       "text": [
        "Thread #1: \t50600000 read pairs finished. 900 secs passed\r\n"
       ]
      },
      {
       "output_type": "stream",
       "stream": "stdout",
       "text": [
        "Thread #0: \t50650000 read pairs finished. 901 secs passed\r\n"
       ]
      },
      {
       "output_type": "stream",
       "stream": "stdout",
       "text": [
        "Thread #2: \t50700000 read pairs finished. 902 secs passed\r\n"
       ]
      },
      {
       "output_type": "stream",
       "stream": "stdout",
       "text": [
        "Thread #1: \t50750000 read pairs finished. 902 secs passed\r\n"
       ]
      },
      {
       "output_type": "stream",
       "stream": "stdout",
       "text": [
        "Thread #0: \t50800000 read pairs finished. 903 secs passed\r\n"
       ]
      },
      {
       "output_type": "stream",
       "stream": "stdout",
       "text": [
        "Thread #2: \t50850000 read pairs finished. 904 secs passed\r\n"
       ]
      },
      {
       "output_type": "stream",
       "stream": "stdout",
       "text": [
        "Thread #1: \t50900000 read pairs finished. 905 secs passed\r\n"
       ]
      },
      {
       "output_type": "stream",
       "stream": "stdout",
       "text": [
        "Thread #0: \t50950000 read pairs finished. 906 secs passed\r\n"
       ]
      },
      {
       "output_type": "stream",
       "stream": "stdout",
       "text": [
        "Thread #2: \t51000000 read pairs finished. 907 secs passed\r\n"
       ]
      },
      {
       "output_type": "stream",
       "stream": "stdout",
       "text": [
        "Thread #1: \t51050000 read pairs finished. 908 secs passed\r\n"
       ]
      },
      {
       "output_type": "stream",
       "stream": "stdout",
       "text": [
        "Thread #0: \t51100000 read pairs finished. 909 secs passed\r\n"
       ]
      },
      {
       "output_type": "stream",
       "stream": "stdout",
       "text": [
        "Thread #2: \t51150000 read pairs finished. 910 secs passed\r\n"
       ]
      },
      {
       "output_type": "stream",
       "stream": "stdout",
       "text": [
        "Thread #1: \t51200000 read pairs finished. 911 secs passed\r\n"
       ]
      },
      {
       "output_type": "stream",
       "stream": "stdout",
       "text": [
        "Thread #0: \t51250000 read pairs finished. 912 secs passed\r\n"
       ]
      },
      {
       "output_type": "stream",
       "stream": "stdout",
       "text": [
        "Thread #2: \t51300000 read pairs finished. 913 secs passed\r\n"
       ]
      },
      {
       "output_type": "stream",
       "stream": "stdout",
       "text": [
        "Thread #1: \t51350000 read pairs finished. 914 secs passed\r\n"
       ]
      },
      {
       "output_type": "stream",
       "stream": "stdout",
       "text": [
        "Thread #0: \t51400000 read pairs finished. 915 secs passed\r\n"
       ]
      },
      {
       "output_type": "stream",
       "stream": "stdout",
       "text": [
        "Thread #2: \t51450000 read pairs finished. 916 secs passed\r\n"
       ]
      },
      {
       "output_type": "stream",
       "stream": "stdout",
       "text": [
        "Thread #1: \t51500000 read pairs finished. 917 secs passed\r\n"
       ]
      },
      {
       "output_type": "stream",
       "stream": "stdout",
       "text": [
        "Thread #0: \t51550000 read pairs finished. 918 secs passed\r\n"
       ]
      },
      {
       "output_type": "stream",
       "stream": "stdout",
       "text": [
        "Thread #2: \t51600000 read pairs finished. 919 secs passed\r\n"
       ]
      },
      {
       "output_type": "stream",
       "stream": "stdout",
       "text": [
        "Thread #1: \t51650000 read pairs finished. 920 secs passed\r\n"
       ]
      },
      {
       "output_type": "stream",
       "stream": "stdout",
       "text": [
        "Thread #0: \t51700000 read pairs finished. 921 secs passed\r\n"
       ]
      },
      {
       "output_type": "stream",
       "stream": "stdout",
       "text": [
        "Thread #2: \t51750000 read pairs finished. 921 secs passed\r\n"
       ]
      },
      {
       "output_type": "stream",
       "stream": "stdout",
       "text": [
        "Thread #1: \t51800000 read pairs finished. 922 secs passed\r\n"
       ]
      },
      {
       "output_type": "stream",
       "stream": "stdout",
       "text": [
        "Thread #0: \t51850000 read pairs finished. 923 secs passed\r\n"
       ]
      },
      {
       "output_type": "stream",
       "stream": "stdout",
       "text": [
        "Thread #2: \t51900000 read pairs finished. 924 secs passed\r\n"
       ]
      },
      {
       "output_type": "stream",
       "stream": "stdout",
       "text": [
        "Thread #1: \t51950000 read pairs finished. 925 secs passed\r\n"
       ]
      },
      {
       "output_type": "stream",
       "stream": "stdout",
       "text": [
        "Thread #0: \t52000000 read pairs finished. 926 secs passed\r\n"
       ]
      },
      {
       "output_type": "stream",
       "stream": "stdout",
       "text": [
        "Thread #2: \t52050000 read pairs finished. 927 secs passed\r\n"
       ]
      },
      {
       "output_type": "stream",
       "stream": "stdout",
       "text": [
        "Thread #1: \t52100000 read pairs finished. 927 secs passed\r\n"
       ]
      },
      {
       "output_type": "stream",
       "stream": "stdout",
       "text": [
        "Thread #0: \t52150000 read pairs finished. 928 secs passed\r\n"
       ]
      },
      {
       "output_type": "stream",
       "stream": "stdout",
       "text": [
        "Thread #2: \t52200000 read pairs finished. 929 secs passed\r\n"
       ]
      },
      {
       "output_type": "stream",
       "stream": "stdout",
       "text": [
        "Thread #1: \t52250000 read pairs finished. 930 secs passed\r\n"
       ]
      },
      {
       "output_type": "stream",
       "stream": "stdout",
       "text": [
        "Thread #0: \t52300000 read pairs finished. 931 secs passed\r\n"
       ]
      },
      {
       "output_type": "stream",
       "stream": "stdout",
       "text": [
        "Thread #2: \t52350000 read pairs finished. 932 secs passed\r\n"
       ]
      },
      {
       "output_type": "stream",
       "stream": "stdout",
       "text": [
        "Thread #1: \t52400000 read pairs finished. 933 secs passed\r\n"
       ]
      },
      {
       "output_type": "stream",
       "stream": "stdout",
       "text": [
        "Thread #0: \t52450000 read pairs finished. 934 secs passed\r\n"
       ]
      },
      {
       "output_type": "stream",
       "stream": "stdout",
       "text": [
        "Thread #2: \t52500000 read pairs finished. 934 secs passed\r\n"
       ]
      },
      {
       "output_type": "stream",
       "stream": "stdout",
       "text": [
        "Thread #1: \t52550000 read pairs finished. 936 secs passed\r\n"
       ]
      },
      {
       "output_type": "stream",
       "stream": "stdout",
       "text": [
        "Thread #0: \t52600000 read pairs finished. 937 secs passed\r\n"
       ]
      },
      {
       "output_type": "stream",
       "stream": "stdout",
       "text": [
        "Thread #2: \t52650000 read pairs finished. 938 secs passed\r\n"
       ]
      },
      {
       "output_type": "stream",
       "stream": "stdout",
       "text": [
        "Thread #1: \t52700000 read pairs finished. 938 secs passed\r\n"
       ]
      },
      {
       "output_type": "stream",
       "stream": "stdout",
       "text": [
        "Thread #0: \t52750000 read pairs finished. 939 secs passed\r\n"
       ]
      },
      {
       "output_type": "stream",
       "stream": "stdout",
       "text": [
        "Thread #2: \t52800000 read pairs finished. 940 secs passed\r\n"
       ]
      },
      {
       "output_type": "stream",
       "stream": "stdout",
       "text": [
        "Thread #1: \t52850000 read pairs finished. 941 secs passed\r\n"
       ]
      },
      {
       "output_type": "stream",
       "stream": "stdout",
       "text": [
        "Thread #0: \t52900000 read pairs finished. 942 secs passed\r\n"
       ]
      },
      {
       "output_type": "stream",
       "stream": "stdout",
       "text": [
        "Thread #2: \t52950000 read pairs finished. 943 secs passed\r\n"
       ]
      },
      {
       "output_type": "stream",
       "stream": "stdout",
       "text": [
        "Thread #1: \t53000000 read pairs finished. 944 secs passed\r\n"
       ]
      },
      {
       "output_type": "stream",
       "stream": "stdout",
       "text": [
        "Thread #0: \t53050000 read pairs finished. 945 secs passed\r\n"
       ]
      },
      {
       "output_type": "stream",
       "stream": "stdout",
       "text": [
        "Thread #2: \t53100000 read pairs finished. 946 secs passed\r\n"
       ]
      },
      {
       "output_type": "stream",
       "stream": "stdout",
       "text": [
        "Thread #1: \t53150000 read pairs finished. 947 secs passed\r\n"
       ]
      },
      {
       "output_type": "stream",
       "stream": "stdout",
       "text": [
        "Thread #0: \t53200000 read pairs finished. 948 secs passed\r\n"
       ]
      },
      {
       "output_type": "stream",
       "stream": "stdout",
       "text": [
        "Thread #2: \t53250000 read pairs finished. 949 secs passed\r\n"
       ]
      },
      {
       "output_type": "stream",
       "stream": "stdout",
       "text": [
        "Thread #1: \t53300000 read pairs finished. 950 secs passed\r\n"
       ]
      },
      {
       "output_type": "stream",
       "stream": "stdout",
       "text": [
        "Thread #0: \t53350000 read pairs finished. 951 secs passed\r\n"
       ]
      },
      {
       "output_type": "stream",
       "stream": "stdout",
       "text": [
        "Thread #2: \t53400000 read pairs finished. 951 secs passed\r\n"
       ]
      },
      {
       "output_type": "stream",
       "stream": "stdout",
       "text": [
        "Thread #1: \t53450000 read pairs finished. 952 secs passed\r\n"
       ]
      },
      {
       "output_type": "stream",
       "stream": "stdout",
       "text": [
        "Thread #0: \t53500000 read pairs finished. 953 secs passed\r\n"
       ]
      },
      {
       "output_type": "stream",
       "stream": "stdout",
       "text": [
        "Thread #2: \t53550000 read pairs finished. 954 secs passed\r\n"
       ]
      },
      {
       "output_type": "stream",
       "stream": "stdout",
       "text": [
        "Thread #1: \t53600000 read pairs finished. 955 secs passed\r\n"
       ]
      },
      {
       "output_type": "stream",
       "stream": "stdout",
       "text": [
        "Thread #0: \t53650000 read pairs finished. 955 secs passed\r\n"
       ]
      },
      {
       "output_type": "stream",
       "stream": "stdout",
       "text": [
        "Thread #2: \t53700000 read pairs finished. 956 secs passed\r\n"
       ]
      },
      {
       "output_type": "stream",
       "stream": "stdout",
       "text": [
        "Thread #1: \t53750000 read pairs finished. 957 secs passed\r\n"
       ]
      },
      {
       "output_type": "stream",
       "stream": "stdout",
       "text": [
        "Thread #0: \t53800000 read pairs finished. 958 secs passed\r\n"
       ]
      },
      {
       "output_type": "stream",
       "stream": "stdout",
       "text": [
        "Thread #2: \t53850000 read pairs finished. 959 secs passed\r\n"
       ]
      },
      {
       "output_type": "stream",
       "stream": "stdout",
       "text": [
        "Thread #1: \t53900000 read pairs finished. 960 secs passed\r\n"
       ]
      },
      {
       "output_type": "stream",
       "stream": "stdout",
       "text": [
        "Thread #0: \t53950000 read pairs finished. 961 secs passed\r\n"
       ]
      },
      {
       "output_type": "stream",
       "stream": "stdout",
       "text": [
        "Thread #2: \t54000000 read pairs finished. 962 secs passed\r\n"
       ]
      },
      {
       "output_type": "stream",
       "stream": "stdout",
       "text": [
        "Thread #1: \t54050000 read pairs finished. 963 secs passed\r\n"
       ]
      },
      {
       "output_type": "stream",
       "stream": "stdout",
       "text": [
        "Thread #0: \t54100000 read pairs finished. 964 secs passed\r\n"
       ]
      },
      {
       "output_type": "stream",
       "stream": "stdout",
       "text": [
        "Thread #2: \t54150000 read pairs finished. 965 secs passed\r\n"
       ]
      },
      {
       "output_type": "stream",
       "stream": "stdout",
       "text": [
        "Thread #1: \t54200000 read pairs finished. 966 secs passed\r\n"
       ]
      },
      {
       "output_type": "stream",
       "stream": "stdout",
       "text": [
        "Thread #0: \t54250000 read pairs finished. 967 secs passed\r\n"
       ]
      },
      {
       "output_type": "stream",
       "stream": "stdout",
       "text": [
        "Thread #2: \t54300000 read pairs finished. 968 secs passed\r\n"
       ]
      },
      {
       "output_type": "stream",
       "stream": "stdout",
       "text": [
        "Thread #1: \t54350000 read pairs finished. 969 secs passed\r\n"
       ]
      },
      {
       "output_type": "stream",
       "stream": "stdout",
       "text": [
        "Thread #0: \t54400000 read pairs finished. 970 secs passed\r\n"
       ]
      },
      {
       "output_type": "stream",
       "stream": "stdout",
       "text": [
        "Thread #2: \t54450000 read pairs finished. 971 secs passed\r\n"
       ]
      },
      {
       "output_type": "stream",
       "stream": "stdout",
       "text": [
        "Thread #1: \t54500000 read pairs finished. 972 secs passed\r\n"
       ]
      },
      {
       "output_type": "stream",
       "stream": "stdout",
       "text": [
        "Thread #0: \t54550000 read pairs finished. 973 secs passed\r\n"
       ]
      },
      {
       "output_type": "stream",
       "stream": "stdout",
       "text": [
        "Thread #2: \t54600000 read pairs finished. 974 secs passed\r\n"
       ]
      },
      {
       "output_type": "stream",
       "stream": "stdout",
       "text": [
        "Thread #1: \t54650000 read pairs finished. 975 secs passed\r\n"
       ]
      },
      {
       "output_type": "stream",
       "stream": "stdout",
       "text": [
        "Thread #0: \t54700000 read pairs finished. 976 secs passed\r\n"
       ]
      },
      {
       "output_type": "stream",
       "stream": "stdout",
       "text": [
        "Thread #2: \t54750000 read pairs finished. 977 secs passed\r\n"
       ]
      },
      {
       "output_type": "stream",
       "stream": "stdout",
       "text": [
        "Thread #1: \t54800000 read pairs finished. 978 secs passed\r\n"
       ]
      },
      {
       "output_type": "stream",
       "stream": "stdout",
       "text": [
        "Thread #0: \t54850000 read pairs finished. 979 secs passed\r\n"
       ]
      },
      {
       "output_type": "stream",
       "stream": "stdout",
       "text": [
        "Thread #2: \t54900000 read pairs finished. 980 secs passed\r\n"
       ]
      },
      {
       "output_type": "stream",
       "stream": "stdout",
       "text": [
        "Thread #1: \t54950000 read pairs finished. 981 secs passed\r\n"
       ]
      },
      {
       "output_type": "stream",
       "stream": "stdout",
       "text": [
        "Thread #0: \t55000000 read pairs finished. 982 secs passed\r\n"
       ]
      },
      {
       "output_type": "stream",
       "stream": "stdout",
       "text": [
        "Thread #2: \t55050000 read pairs finished. 983 secs passed\r\n"
       ]
      },
      {
       "output_type": "stream",
       "stream": "stdout",
       "text": [
        "Thread #1: \t55100000 read pairs finished. 984 secs passed\r\n"
       ]
      },
      {
       "output_type": "stream",
       "stream": "stdout",
       "text": [
        "Thread #0: \t55150000 read pairs finished. 985 secs passed\r\n"
       ]
      },
      {
       "output_type": "stream",
       "stream": "stdout",
       "text": [
        "Thread #2: \t55200000 read pairs finished. 986 secs passed\r\n"
       ]
      },
      {
       "output_type": "stream",
       "stream": "stdout",
       "text": [
        "Thread #1: \t55250000 read pairs finished. 987 secs passed\r\n"
       ]
      },
      {
       "output_type": "stream",
       "stream": "stdout",
       "text": [
        "Thread #0: \t55300000 read pairs finished. 988 secs passed\r\n"
       ]
      },
      {
       "output_type": "stream",
       "stream": "stdout",
       "text": [
        "Thread #2: \t55350000 read pairs finished. 989 secs passed\r\n"
       ]
      },
      {
       "output_type": "stream",
       "stream": "stdout",
       "text": [
        "Thread #1: \t55400000 read pairs finished. 990 secs passed\r\n"
       ]
      },
      {
       "output_type": "stream",
       "stream": "stdout",
       "text": [
        "Thread #0: \t55450000 read pairs finished. 990 secs passed\r\n"
       ]
      },
      {
       "output_type": "stream",
       "stream": "stdout",
       "text": [
        "Thread #2: \t55500000 read pairs finished. 991 secs passed\r\n"
       ]
      },
      {
       "output_type": "stream",
       "stream": "stdout",
       "text": [
        "Thread #1: \t55550000 read pairs finished. 992 secs passed\r\n"
       ]
      },
      {
       "output_type": "stream",
       "stream": "stdout",
       "text": [
        "Thread #0: \t55600000 read pairs finished. 993 secs passed\r\n"
       ]
      },
      {
       "output_type": "stream",
       "stream": "stdout",
       "text": [
        "Thread #2: \t55650000 read pairs finished. 994 secs passed\r\n"
       ]
      },
      {
       "output_type": "stream",
       "stream": "stdout",
       "text": [
        "Thread #1: \t55700000 read pairs finished. 995 secs passed\r\n"
       ]
      },
      {
       "output_type": "stream",
       "stream": "stdout",
       "text": [
        "Thread #0: \t55750000 read pairs finished. 996 secs passed\r\n"
       ]
      },
      {
       "output_type": "stream",
       "stream": "stdout",
       "text": [
        "Thread #2: \t55800000 read pairs finished. 997 secs passed\r\n"
       ]
      },
      {
       "output_type": "stream",
       "stream": "stdout",
       "text": [
        "Thread #1: \t55850000 read pairs finished. 998 secs passed\r\n"
       ]
      },
      {
       "output_type": "stream",
       "stream": "stdout",
       "text": [
        "Thread #0: \t55900000 read pairs finished. 999 secs passed\r\n"
       ]
      },
      {
       "output_type": "stream",
       "stream": "stdout",
       "text": [
        "Thread #2: \t55950000 read pairs finished. 1000 secs passed\r\n"
       ]
      },
      {
       "output_type": "stream",
       "stream": "stdout",
       "text": [
        "Thread #1: \t56000000 read pairs finished. 1000 secs passed\r\n"
       ]
      },
      {
       "output_type": "stream",
       "stream": "stdout",
       "text": [
        "Thread #0: \t56050000 read pairs finished. 1001 secs passed\r\n"
       ]
      },
      {
       "output_type": "stream",
       "stream": "stdout",
       "text": [
        "Thread #2: \t56100000 read pairs finished. 1002 secs passed\r\n"
       ]
      },
      {
       "output_type": "stream",
       "stream": "stdout",
       "text": [
        "Thread #1: \t56150000 read pairs finished. 1003 secs passed\r\n"
       ]
      },
      {
       "output_type": "stream",
       "stream": "stdout",
       "text": [
        "Thread #0: \t56200000 read pairs finished. 1004 secs passed\r\n"
       ]
      },
      {
       "output_type": "stream",
       "stream": "stdout",
       "text": [
        "Thread #2: \t56250000 read pairs finished. 1004 secs passed\r\n"
       ]
      },
      {
       "output_type": "stream",
       "stream": "stdout",
       "text": [
        "Thread #1: \t56300000 read pairs finished. 1006 secs passed\r\n"
       ]
      },
      {
       "output_type": "stream",
       "stream": "stdout",
       "text": [
        "Thread #0: \t56350000 read pairs finished. 1006 secs passed\r\n"
       ]
      },
      {
       "output_type": "stream",
       "stream": "stdout",
       "text": [
        "Thread #2: \t56400000 read pairs finished. 1007 secs passed\r\n"
       ]
      },
      {
       "output_type": "stream",
       "stream": "stdout",
       "text": [
        "Thread #1: \t56450000 read pairs finished. 1008 secs passed\r\n"
       ]
      },
      {
       "output_type": "stream",
       "stream": "stdout",
       "text": [
        "Thread #0: \t56500000 read pairs finished. 1009 secs passed\r\n"
       ]
      },
      {
       "output_type": "stream",
       "stream": "stdout",
       "text": [
        "Thread #2: \t56550000 read pairs finished. 1010 secs passed\r\n"
       ]
      },
      {
       "output_type": "stream",
       "stream": "stdout",
       "text": [
        "Thread #1: \t56600000 read pairs finished. 1011 secs passed\r\n"
       ]
      },
      {
       "output_type": "stream",
       "stream": "stdout",
       "text": [
        "Thread #0: \t56650000 read pairs finished. 1012 secs passed\r\n"
       ]
      },
      {
       "output_type": "stream",
       "stream": "stdout",
       "text": [
        "Thread #2: \t56700000 read pairs finished. 1014 secs passed\r\n"
       ]
      },
      {
       "output_type": "stream",
       "stream": "stdout",
       "text": [
        "Thread #1: \t56750000 read pairs finished. 1015 secs passed\r\n"
       ]
      },
      {
       "output_type": "stream",
       "stream": "stdout",
       "text": [
        "Thread #0: \t56800000 read pairs finished. 1016 secs passed\r\n"
       ]
      },
      {
       "output_type": "stream",
       "stream": "stdout",
       "text": [
        "Thread #2: \t56850000 read pairs finished. 1017 secs passed\r\n"
       ]
      },
      {
       "output_type": "stream",
       "stream": "stdout",
       "text": [
        "Thread #1: \t56900000 read pairs finished. 1018 secs passed\r\n"
       ]
      },
      {
       "output_type": "stream",
       "stream": "stdout",
       "text": [
        "Thread #0: \t56950000 read pairs finished. 1019 secs passed\r\n"
       ]
      },
      {
       "output_type": "stream",
       "stream": "stdout",
       "text": [
        "Thread #2: \t57000000 read pairs finished. 1020 secs passed\r\n"
       ]
      },
      {
       "output_type": "stream",
       "stream": "stdout",
       "text": [
        "Thread #1: \t57050000 read pairs finished. 1021 secs passed\r\n"
       ]
      },
      {
       "output_type": "stream",
       "stream": "stdout",
       "text": [
        "Thread #0: \t57100000 read pairs finished. 1022 secs passed\r\n"
       ]
      },
      {
       "output_type": "stream",
       "stream": "stdout",
       "text": [
        "Thread #2: \t57150000 read pairs finished. 1022 secs passed\r\n"
       ]
      },
      {
       "output_type": "stream",
       "stream": "stdout",
       "text": [
        "Thread #1: \t57200000 read pairs finished. 1023 secs passed\r\n"
       ]
      },
      {
       "output_type": "stream",
       "stream": "stdout",
       "text": [
        "Thread #0: \t57250000 read pairs finished. 1024 secs passed\r\n"
       ]
      },
      {
       "output_type": "stream",
       "stream": "stdout",
       "text": [
        "Thread #2: \t57300000 read pairs finished. 1025 secs passed\r\n"
       ]
      },
      {
       "output_type": "stream",
       "stream": "stdout",
       "text": [
        "Thread #1: \t57350000 read pairs finished. 1026 secs passed\r\n"
       ]
      },
      {
       "output_type": "stream",
       "stream": "stdout",
       "text": [
        "Thread #0: \t57400000 read pairs finished. 1027 secs passed\r\n"
       ]
      },
      {
       "output_type": "stream",
       "stream": "stdout",
       "text": [
        "Thread #2: \t57450000 read pairs finished. 1027 secs passed\r\n"
       ]
      },
      {
       "output_type": "stream",
       "stream": "stdout",
       "text": [
        "Thread #1: \t57500000 read pairs finished. 1028 secs passed\r\n"
       ]
      },
      {
       "output_type": "stream",
       "stream": "stdout",
       "text": [
        "Thread #0: \t57550000 read pairs finished. 1029 secs passed\r\n"
       ]
      },
      {
       "output_type": "stream",
       "stream": "stdout",
       "text": [
        "Thread #2: \t57600000 read pairs finished. 1030 secs passed\r\n"
       ]
      },
      {
       "output_type": "stream",
       "stream": "stdout",
       "text": [
        "Thread #1: \t57650000 read pairs finished. 1031 secs passed\r\n"
       ]
      },
      {
       "output_type": "stream",
       "stream": "stdout",
       "text": [
        "Thread #0: \t57700000 read pairs finished. 1032 secs passed\r\n"
       ]
      },
      {
       "output_type": "stream",
       "stream": "stdout",
       "text": [
        "Thread #2: \t57750000 read pairs finished. 1033 secs passed\r\n"
       ]
      },
      {
       "output_type": "stream",
       "stream": "stdout",
       "text": [
        "Thread #1: \t57800000 read pairs finished. 1034 secs passed\r\n"
       ]
      },
      {
       "output_type": "stream",
       "stream": "stdout",
       "text": [
        "Thread #0: \t57850000 read pairs finished. 1035 secs passed\r\n"
       ]
      },
      {
       "output_type": "stream",
       "stream": "stdout",
       "text": [
        "Thread #2: \t57900000 read pairs finished. 1035 secs passed\r\n"
       ]
      },
      {
       "output_type": "stream",
       "stream": "stdout",
       "text": [
        "Thread #1: \t57950000 read pairs finished. 1036 secs passed\r\n"
       ]
      },
      {
       "output_type": "stream",
       "stream": "stdout",
       "text": [
        "Thread #0: \t58000000 read pairs finished. 1037 secs passed\r\n"
       ]
      },
      {
       "output_type": "stream",
       "stream": "stdout",
       "text": [
        "Thread #2: \t58050000 read pairs finished. 1038 secs passed\r\n"
       ]
      },
      {
       "output_type": "stream",
       "stream": "stdout",
       "text": [
        "Thread #1: \t58100000 read pairs finished. 1039 secs passed\r\n"
       ]
      },
      {
       "output_type": "stream",
       "stream": "stdout",
       "text": [
        "Thread #0: \t58150000 read pairs finished. 1040 secs passed\r\n"
       ]
      },
      {
       "output_type": "stream",
       "stream": "stdout",
       "text": [
        "Thread #2: \t58200000 read pairs finished. 1041 secs passed\r\n"
       ]
      },
      {
       "output_type": "stream",
       "stream": "stdout",
       "text": [
        "Thread #1: \t58250000 read pairs finished. 1041 secs passed\r\n"
       ]
      },
      {
       "output_type": "stream",
       "stream": "stdout",
       "text": [
        "Thread #0: \t58300000 read pairs finished. 1042 secs passed\r\n"
       ]
      },
      {
       "output_type": "stream",
       "stream": "stdout",
       "text": [
        "Thread #2: \t58350000 read pairs finished. 1043 secs passed\r\n"
       ]
      },
      {
       "output_type": "stream",
       "stream": "stdout",
       "text": [
        "Thread #1: \t58400000 read pairs finished. 1044 secs passed\r\n"
       ]
      },
      {
       "output_type": "stream",
       "stream": "stdout",
       "text": [
        "Thread #0: \t58450000 read pairs finished. 1045 secs passed\r\n"
       ]
      },
      {
       "output_type": "stream",
       "stream": "stdout",
       "text": [
        "Thread #2: \t58500000 read pairs finished. 1046 secs passed\r\n"
       ]
      },
      {
       "output_type": "stream",
       "stream": "stdout",
       "text": [
        "Thread #1: \t58550000 read pairs finished. 1046 secs passed\r\n"
       ]
      },
      {
       "output_type": "stream",
       "stream": "stdout",
       "text": [
        "Thread #0: \t58600000 read pairs finished. 1047 secs passed\r\n"
       ]
      },
      {
       "output_type": "stream",
       "stream": "stdout",
       "text": [
        "Thread #2: \t58650000 read pairs finished. 1048 secs passed\r\n"
       ]
      },
      {
       "output_type": "stream",
       "stream": "stdout",
       "text": [
        "Thread #1: \t58700000 read pairs finished. 1049 secs passed\r\n"
       ]
      },
      {
       "output_type": "stream",
       "stream": "stdout",
       "text": [
        "Thread #0: \t58750000 read pairs finished. 1050 secs passed\r\n"
       ]
      },
      {
       "output_type": "stream",
       "stream": "stdout",
       "text": [
        "Thread #2: \t58800000 read pairs finished. 1051 secs passed\r\n"
       ]
      },
      {
       "output_type": "stream",
       "stream": "stdout",
       "text": [
        "Thread #1: \t58850000 read pairs finished. 1052 secs passed\r\n"
       ]
      },
      {
       "output_type": "stream",
       "stream": "stdout",
       "text": [
        "Thread #0: \t58900000 read pairs finished. 1054 secs passed\r\n"
       ]
      },
      {
       "output_type": "stream",
       "stream": "stdout",
       "text": [
        "Thread #2: \t58950000 read pairs finished. 1054 secs passed\r\n"
       ]
      },
      {
       "output_type": "stream",
       "stream": "stdout",
       "text": [
        "Thread #1: \t59000000 read pairs finished. 1055 secs passed\r\n"
       ]
      },
      {
       "output_type": "stream",
       "stream": "stdout",
       "text": [
        "Thread #0: \t59050000 read pairs finished. 1056 secs passed\r\n"
       ]
      },
      {
       "output_type": "stream",
       "stream": "stdout",
       "text": [
        "Thread #2: \t59100000 read pairs finished. 1056 secs passed\r\n"
       ]
      },
      {
       "output_type": "stream",
       "stream": "stdout",
       "text": [
        "Thread #1: \t59150000 read pairs finished. 1057 secs passed\r\n"
       ]
      },
      {
       "output_type": "stream",
       "stream": "stdout",
       "text": [
        "Thread #0: \t59200000 read pairs finished. 1058 secs passed\r\n"
       ]
      },
      {
       "output_type": "stream",
       "stream": "stdout",
       "text": [
        "Thread #2: \t59250000 read pairs finished. 1059 secs passed\r\n"
       ]
      },
      {
       "output_type": "stream",
       "stream": "stdout",
       "text": [
        "Thread #1: \t59300000 read pairs finished. 1060 secs passed\r\n"
       ]
      },
      {
       "output_type": "stream",
       "stream": "stdout",
       "text": [
        "Thread #0: \t59350000 read pairs finished. 1061 secs passed\r\n"
       ]
      },
      {
       "output_type": "stream",
       "stream": "stdout",
       "text": [
        "Thread #2: \t59400000 read pairs finished. 1061 secs passed\r\n"
       ]
      },
      {
       "output_type": "stream",
       "stream": "stdout",
       "text": [
        "Thread #1: \t59450000 read pairs finished. 1062 secs passed\r\n"
       ]
      },
      {
       "output_type": "stream",
       "stream": "stdout",
       "text": [
        "Thread #0: \t59500000 read pairs finished. 1063 secs passed\r\n"
       ]
      },
      {
       "output_type": "stream",
       "stream": "stdout",
       "text": [
        "Thread #2: \t59550000 read pairs finished. 1064 secs passed\r\n"
       ]
      },
      {
       "output_type": "stream",
       "stream": "stdout",
       "text": [
        "Thread #1: \t59600000 read pairs finished. 1065 secs passed\r\n"
       ]
      },
      {
       "output_type": "stream",
       "stream": "stdout",
       "text": [
        "Thread #0: \t59650000 read pairs finished. 1066 secs passed\r\n"
       ]
      },
      {
       "output_type": "stream",
       "stream": "stdout",
       "text": [
        "Thread #2: \t59700000 read pairs finished. 1067 secs passed\r\n"
       ]
      },
      {
       "output_type": "stream",
       "stream": "stdout",
       "text": [
        "Thread #1: \t59750000 read pairs finished. 1068 secs passed\r\n"
       ]
      },
      {
       "output_type": "stream",
       "stream": "stdout",
       "text": [
        "Thread #0: \t59800000 read pairs finished. 1069 secs passed\r\n"
       ]
      },
      {
       "output_type": "stream",
       "stream": "stdout",
       "text": [
        "Thread #2: \t59850000 read pairs finished. 1069 secs passed\r\n"
       ]
      },
      {
       "output_type": "stream",
       "stream": "stdout",
       "text": [
        "Thread #1: \t59900000 read pairs finished. 1070 secs passed\r\n"
       ]
      },
      {
       "output_type": "stream",
       "stream": "stdout",
       "text": [
        "Thread #0: \t59950000 read pairs finished. 1071 secs passed\r\n"
       ]
      },
      {
       "output_type": "stream",
       "stream": "stdout",
       "text": [
        "Thread #2: \t60000000 read pairs finished. 1072 secs passed\r\n"
       ]
      },
      {
       "output_type": "stream",
       "stream": "stdout",
       "text": [
        "Thread #1: \t60050000 read pairs finished. 1073 secs passed\r\n"
       ]
      },
      {
       "output_type": "stream",
       "stream": "stdout",
       "text": [
        "Thread #0: \t60100000 read pairs finished. 1074 secs passed\r\n"
       ]
      },
      {
       "output_type": "stream",
       "stream": "stdout",
       "text": [
        "Thread #2: \t60150000 read pairs finished. 1075 secs passed\r\n"
       ]
      },
      {
       "output_type": "stream",
       "stream": "stdout",
       "text": [
        "Thread #1: \t60200000 read pairs finished. 1075 secs passed\r\n"
       ]
      },
      {
       "output_type": "stream",
       "stream": "stdout",
       "text": [
        "Thread #0: \t60250000 read pairs finished. 1076 secs passed\r\n"
       ]
      },
      {
       "output_type": "stream",
       "stream": "stdout",
       "text": [
        "Thread #2: \t60300000 read pairs finished. 1077 secs passed\r\n"
       ]
      },
      {
       "output_type": "stream",
       "stream": "stdout",
       "text": [
        "Thread #1: \t60350000 read pairs finished. 1078 secs passed\r\n"
       ]
      },
      {
       "output_type": "stream",
       "stream": "stdout",
       "text": [
        "Thread #0: \t60400000 read pairs finished. 1079 secs passed\r\n"
       ]
      },
      {
       "output_type": "stream",
       "stream": "stdout",
       "text": [
        "Thread #2: \t60450000 read pairs finished. 1080 secs passed\r\n"
       ]
      },
      {
       "output_type": "stream",
       "stream": "stdout",
       "text": [
        "Thread #1: \t60500000 read pairs finished. 1081 secs passed\r\n"
       ]
      },
      {
       "output_type": "stream",
       "stream": "stdout",
       "text": [
        "Thread #0: \t60550000 read pairs finished. 1082 secs passed\r\n"
       ]
      },
      {
       "output_type": "stream",
       "stream": "stdout",
       "text": [
        "Thread #2: \t60600000 read pairs finished. 1083 secs passed\r\n"
       ]
      },
      {
       "output_type": "stream",
       "stream": "stdout",
       "text": [
        "Thread #1: \t60650000 read pairs finished. 1083 secs passed\r\n"
       ]
      },
      {
       "output_type": "stream",
       "stream": "stdout",
       "text": [
        "Thread #0: \t60700000 read pairs finished. 1084 secs passed\r\n"
       ]
      },
      {
       "output_type": "stream",
       "stream": "stdout",
       "text": [
        "Thread #2: \t60750000 read pairs finished. 1085 secs passed\r\n"
       ]
      },
      {
       "output_type": "stream",
       "stream": "stdout",
       "text": [
        "Thread #1: \t60800000 read pairs finished. 1086 secs passed\r\n"
       ]
      },
      {
       "output_type": "stream",
       "stream": "stdout",
       "text": [
        "Thread #0: \t60850000 read pairs finished. 1087 secs passed\r\n"
       ]
      },
      {
       "output_type": "stream",
       "stream": "stdout",
       "text": [
        "Thread #2: \t60900000 read pairs finished. 1088 secs passed\r\n"
       ]
      },
      {
       "output_type": "stream",
       "stream": "stdout",
       "text": [
        "Thread #1: \t60950000 read pairs finished. 1089 secs passed\r\n"
       ]
      },
      {
       "output_type": "stream",
       "stream": "stdout",
       "text": [
        "Thread #0: \t61000000 read pairs finished. 1089 secs passed\r\n"
       ]
      },
      {
       "output_type": "stream",
       "stream": "stdout",
       "text": [
        "Thread #2: \t61050000 read pairs finished. 1090 secs passed\r\n"
       ]
      },
      {
       "output_type": "stream",
       "stream": "stdout",
       "text": [
        "Thread #1: \t61100000 read pairs finished. 1091 secs passed\r\n"
       ]
      },
      {
       "output_type": "stream",
       "stream": "stdout",
       "text": [
        "Thread #0: \t61150000 read pairs finished. 1092 secs passed\r\n"
       ]
      },
      {
       "output_type": "stream",
       "stream": "stdout",
       "text": [
        "Thread #2: \t61200000 read pairs finished. 1092 secs passed\r\n"
       ]
      },
      {
       "output_type": "stream",
       "stream": "stdout",
       "text": [
        "Thread #1: \t61250000 read pairs finished. 1093 secs passed\r\n"
       ]
      },
      {
       "output_type": "stream",
       "stream": "stdout",
       "text": [
        "Thread #0: \t61300000 read pairs finished. 1094 secs passed\r\n"
       ]
      },
      {
       "output_type": "stream",
       "stream": "stdout",
       "text": [
        "Thread #2: \t61350000 read pairs finished. 1095 secs passed\r\n"
       ]
      },
      {
       "output_type": "stream",
       "stream": "stdout",
       "text": [
        "Thread #1: \t61400000 read pairs finished. 1096 secs passed\r\n"
       ]
      },
      {
       "output_type": "stream",
       "stream": "stdout",
       "text": [
        "Thread #0: \t61450000 read pairs finished. 1097 secs passed\r\n"
       ]
      },
      {
       "output_type": "stream",
       "stream": "stdout",
       "text": [
        "Thread #2: \t61500000 read pairs finished. 1097 secs passed\r\n"
       ]
      },
      {
       "output_type": "stream",
       "stream": "stdout",
       "text": [
        "Thread #1: \t61550000 read pairs finished. 1098 secs passed\r\n"
       ]
      },
      {
       "output_type": "stream",
       "stream": "stdout",
       "text": [
        "Thread #0: \t61600000 read pairs finished. 1099 secs passed\r\n"
       ]
      },
      {
       "output_type": "stream",
       "stream": "stdout",
       "text": [
        "Thread #2: \t61650000 read pairs finished. 1100 secs passed\r\n"
       ]
      },
      {
       "output_type": "stream",
       "stream": "stdout",
       "text": [
        "Thread #1: \t61700000 read pairs finished. 1101 secs passed\r\n"
       ]
      },
      {
       "output_type": "stream",
       "stream": "stdout",
       "text": [
        "Thread #0: \t61750000 read pairs finished. 1102 secs passed\r\n"
       ]
      },
      {
       "output_type": "stream",
       "stream": "stdout",
       "text": [
        "Thread #2: \t61800000 read pairs finished. 1103 secs passed\r\n"
       ]
      },
      {
       "output_type": "stream",
       "stream": "stdout",
       "text": [
        "Thread #1: \t61850000 read pairs finished. 1103 secs passed\r\n"
       ]
      },
      {
       "output_type": "stream",
       "stream": "stdout",
       "text": [
        "Thread #0: \t61900000 read pairs finished. 1104 secs passed\r\n"
       ]
      },
      {
       "output_type": "stream",
       "stream": "stdout",
       "text": [
        "Thread #2: \t61950000 read pairs finished. 1105 secs passed\r\n"
       ]
      },
      {
       "output_type": "stream",
       "stream": "stdout",
       "text": [
        "Thread #1: \t62000000 read pairs finished. 1106 secs passed\r\n"
       ]
      },
      {
       "output_type": "stream",
       "stream": "stdout",
       "text": [
        "Thread #0: \t62050000 read pairs finished. 1107 secs passed\r\n"
       ]
      },
      {
       "output_type": "stream",
       "stream": "stdout",
       "text": [
        "Thread #2: \t62100000 read pairs finished. 1108 secs passed\r\n"
       ]
      },
      {
       "output_type": "stream",
       "stream": "stdout",
       "text": [
        "Thread #1: \t62150000 read pairs finished. 1109 secs passed\r\n"
       ]
      },
      {
       "output_type": "stream",
       "stream": "stdout",
       "text": [
        "Thread #0: \t62200000 read pairs finished. 1109 secs passed\r\n"
       ]
      },
      {
       "output_type": "stream",
       "stream": "stdout",
       "text": [
        "Thread #2: \t62250000 read pairs finished. 1110 secs passed\r\n"
       ]
      },
      {
       "output_type": "stream",
       "stream": "stdout",
       "text": [
        "Thread #1: \t62300000 read pairs finished. 1111 secs passed\r\n"
       ]
      },
      {
       "output_type": "stream",
       "stream": "stdout",
       "text": [
        "Thread #0: \t62350000 read pairs finished. 1112 secs passed\r\n"
       ]
      },
      {
       "output_type": "stream",
       "stream": "stdout",
       "text": [
        "Thread #2: \t62400000 read pairs finished. 1113 secs passed\r\n"
       ]
      },
      {
       "output_type": "stream",
       "stream": "stdout",
       "text": [
        "Thread #1: \t62450000 read pairs finished. 1114 secs passed\r\n"
       ]
      },
      {
       "output_type": "stream",
       "stream": "stdout",
       "text": [
        "Thread #0: \t62500000 read pairs finished. 1115 secs passed\r\n"
       ]
      },
      {
       "output_type": "stream",
       "stream": "stdout",
       "text": [
        "Thread #2: \t62550000 read pairs finished. 1115 secs passed\r\n"
       ]
      },
      {
       "output_type": "stream",
       "stream": "stdout",
       "text": [
        "Thread #1: \t62600000 read pairs finished. 1116 secs passed\r\n"
       ]
      },
      {
       "output_type": "stream",
       "stream": "stdout",
       "text": [
        "Thread #0: \t62650000 read pairs finished. 1117 secs passed\r\n"
       ]
      },
      {
       "output_type": "stream",
       "stream": "stdout",
       "text": [
        "Thread #2: \t62700000 read pairs finished. 1118 secs passed\r\n"
       ]
      },
      {
       "output_type": "stream",
       "stream": "stdout",
       "text": [
        "Thread #1: \t62750000 read pairs finished. 1119 secs passed\r\n"
       ]
      },
      {
       "output_type": "stream",
       "stream": "stdout",
       "text": [
        "Thread #0: \t62800000 read pairs finished. 1120 secs passed\r\n"
       ]
      },
      {
       "output_type": "stream",
       "stream": "stdout",
       "text": [
        "Thread #2: \t62850000 read pairs finished. 1120 secs passed\r\n"
       ]
      },
      {
       "output_type": "stream",
       "stream": "stdout",
       "text": [
        "Thread #1: \t62900000 read pairs finished. 1121 secs passed\r\n"
       ]
      },
      {
       "output_type": "stream",
       "stream": "stdout",
       "text": [
        "Thread #0: \t62950000 read pairs finished. 1122 secs passed\r\n"
       ]
      },
      {
       "output_type": "stream",
       "stream": "stdout",
       "text": [
        "Thread #2: \t63000000 read pairs finished. 1123 secs passed\r\n"
       ]
      },
      {
       "output_type": "stream",
       "stream": "stdout",
       "text": [
        "Thread #1: \t63050000 read pairs finished. 1124 secs passed\r\n"
       ]
      },
      {
       "output_type": "stream",
       "stream": "stdout",
       "text": [
        "Thread #0: \t63100000 read pairs finished. 1124 secs passed\r\n"
       ]
      },
      {
       "output_type": "stream",
       "stream": "stdout",
       "text": [
        "Thread #2: \t63150000 read pairs finished. 1125 secs passed\r\n"
       ]
      },
      {
       "output_type": "stream",
       "stream": "stdout",
       "text": [
        "Thread #1: \t63200000 read pairs finished. 1126 secs passed\r\n"
       ]
      },
      {
       "output_type": "stream",
       "stream": "stdout",
       "text": [
        "Thread #0: \t63250000 read pairs finished. 1127 secs passed\r\n"
       ]
      },
      {
       "output_type": "stream",
       "stream": "stdout",
       "text": [
        "Thread #2: \t63300000 read pairs finished. 1127 secs passed\r\n"
       ]
      },
      {
       "output_type": "stream",
       "stream": "stdout",
       "text": [
        "Thread #1: \t63350000 read pairs finished. 1128 secs passed\r\n"
       ]
      },
      {
       "output_type": "stream",
       "stream": "stdout",
       "text": [
        "Thread #0: \t63400000 read pairs finished. 1129 secs passed\r\n"
       ]
      },
      {
       "output_type": "stream",
       "stream": "stdout",
       "text": [
        "Thread #2: \t63450000 read pairs finished. 1130 secs passed\r\n"
       ]
      },
      {
       "output_type": "stream",
       "stream": "stdout",
       "text": [
        "Thread #1: \t63500000 read pairs finished. 1131 secs passed\r\n"
       ]
      },
      {
       "output_type": "stream",
       "stream": "stdout",
       "text": [
        "Thread #0: \t63550000 read pairs finished. 1132 secs passed\r\n"
       ]
      },
      {
       "output_type": "stream",
       "stream": "stdout",
       "text": [
        "Thread #2: \t63600000 read pairs finished. 1133 secs passed\r\n"
       ]
      },
      {
       "output_type": "stream",
       "stream": "stdout",
       "text": [
        "Thread #1: \t63650000 read pairs finished. 1134 secs passed\r\n"
       ]
      },
      {
       "output_type": "stream",
       "stream": "stdout",
       "text": [
        "Thread #0: \t63700000 read pairs finished. 1135 secs passed\r\n"
       ]
      },
      {
       "output_type": "stream",
       "stream": "stdout",
       "text": [
        "Thread #2: \t63750000 read pairs finished. 1136 secs passed\r\n"
       ]
      },
      {
       "output_type": "stream",
       "stream": "stdout",
       "text": [
        "Thread #1: \t63800000 read pairs finished. 1136 secs passed\r\n"
       ]
      },
      {
       "output_type": "stream",
       "stream": "stdout",
       "text": [
        "Thread #0: \t63850000 read pairs finished. 1137 secs passed\r\n"
       ]
      },
      {
       "output_type": "stream",
       "stream": "stdout",
       "text": [
        "Thread #2: \t63900000 read pairs finished. 1138 secs passed\r\n"
       ]
      },
      {
       "output_type": "stream",
       "stream": "stdout",
       "text": [
        "Thread #1: \t63950000 read pairs finished. 1139 secs passed\r\n"
       ]
      },
      {
       "output_type": "stream",
       "stream": "stdout",
       "text": [
        "Thread #0: \t64000000 read pairs finished. 1140 secs passed\r\n"
       ]
      },
      {
       "output_type": "stream",
       "stream": "stdout",
       "text": [
        "Thread #2: \t64050000 read pairs finished. 1140 secs passed\r\n"
       ]
      },
      {
       "output_type": "stream",
       "stream": "stdout",
       "text": [
        "Thread #1: \t64100000 read pairs finished. 1141 secs passed\r\n"
       ]
      },
      {
       "output_type": "stream",
       "stream": "stdout",
       "text": [
        "Thread #0: \t64150000 read pairs finished. 1142 secs passed\r\n"
       ]
      },
      {
       "output_type": "stream",
       "stream": "stdout",
       "text": [
        "Thread #2: \t64200000 read pairs finished. 1143 secs passed\r\n"
       ]
      },
      {
       "output_type": "stream",
       "stream": "stdout",
       "text": [
        "Thread #1: \t64250000 read pairs finished. 1144 secs passed\r\n"
       ]
      },
      {
       "output_type": "stream",
       "stream": "stdout",
       "text": [
        "Thread #"
       ]
      },
      {
       "output_type": "stream",
       "stream": "stdout",
       "text": [
        "0: \t64300000 read pairs finished. 1145 secs passed\r\n"
       ]
      },
      {
       "output_type": "stream",
       "stream": "stdout",
       "text": [
        "Thread #2: \t64350000 read pairs finished. 1146 secs passed\r\n"
       ]
      },
      {
       "output_type": "stream",
       "stream": "stdout",
       "text": [
        "Thread #1: \t64400000 read pairs finished. 1147 secs passed\r\n"
       ]
      },
      {
       "output_type": "stream",
       "stream": "stdout",
       "text": [
        "Thread #0: \t64450000 read pairs finished. 1147 secs passed\r\n"
       ]
      },
      {
       "output_type": "stream",
       "stream": "stdout",
       "text": [
        "Thread #2: \t64500000 read pairs finished. 1148 secs passed\r\n"
       ]
      },
      {
       "output_type": "stream",
       "stream": "stdout",
       "text": [
        "Thread #1: \t64550000 read pairs finished. 1149 secs passed\r\n"
       ]
      },
      {
       "output_type": "stream",
       "stream": "stdout",
       "text": [
        "Thread #0: \t64600000 read pairs finished. 1150 secs passed\r\n"
       ]
      },
      {
       "output_type": "stream",
       "stream": "stdout",
       "text": [
        "Thread #2: \t64650000 read pairs finished. 1151 secs passed\r\n"
       ]
      },
      {
       "output_type": "stream",
       "stream": "stdout",
       "text": [
        "Thread #1: \t64700000 read pairs finished. 1152 secs passed\r\n"
       ]
      },
      {
       "output_type": "stream",
       "stream": "stdout",
       "text": [
        "Thread #0: \t64750000 read pairs finished. 1152 secs passed\r\n"
       ]
      },
      {
       "output_type": "stream",
       "stream": "stdout",
       "text": [
        "Thread #2: \t64800000 read pairs finished. 1153 secs passed\r\n"
       ]
      },
      {
       "output_type": "stream",
       "stream": "stdout",
       "text": [
        "Thread #1: \t64850000 read pairs finished. 1154 secs passed\r\n"
       ]
      },
      {
       "output_type": "stream",
       "stream": "stdout",
       "text": [
        "Thread #0: \t64900000 read pairs finished. 1155 secs passed\r\n"
       ]
      },
      {
       "output_type": "stream",
       "stream": "stdout",
       "text": [
        "Thread #2: \t64950000 read pairs finished. 1156 secs passed\r\n"
       ]
      },
      {
       "output_type": "stream",
       "stream": "stdout",
       "text": [
        "Thread #1: \t65000000 read pairs finished. 1157 secs passed\r\n"
       ]
      },
      {
       "output_type": "stream",
       "stream": "stdout",
       "text": [
        "Thread #0: \t65050000 read pairs finished. 1157 secs passed\r\n"
       ]
      },
      {
       "output_type": "stream",
       "stream": "stdout",
       "text": [
        "Thread #2: \t65100000 read pairs finished. 1158 secs passed\r\n"
       ]
      },
      {
       "output_type": "stream",
       "stream": "stdout",
       "text": [
        "Thread #1: \t65150000 read pairs finished. 1159 secs passed\r\n"
       ]
      },
      {
       "output_type": "stream",
       "stream": "stdout",
       "text": [
        "Thread #0: \t65200000 read pairs finished. 1160 secs passed\r\n"
       ]
      },
      {
       "output_type": "stream",
       "stream": "stdout",
       "text": [
        "Thread #2: \t65250000 read pairs finished. 1161 secs passed\r\n"
       ]
      },
      {
       "output_type": "stream",
       "stream": "stdout",
       "text": [
        "Thread #1: \t65300000 read pairs finished. 1161 secs passed\r\n"
       ]
      },
      {
       "output_type": "stream",
       "stream": "stdout",
       "text": [
        "Thread #0: \t65350000 read pairs finished. 1162 secs passed\r\n"
       ]
      },
      {
       "output_type": "stream",
       "stream": "stdout",
       "text": [
        "Thread #2: \t65400000 read pairs finished. 1163 secs passed\r\n"
       ]
      },
      {
       "output_type": "stream",
       "stream": "stdout",
       "text": [
        "Thread #1: \t65450000 read pairs finished. 1164 secs passed\r\n"
       ]
      },
      {
       "output_type": "stream",
       "stream": "stdout",
       "text": [
        "Thread #0: \t65500000 read pairs finished. 1165 secs passed\r\n"
       ]
      },
      {
       "output_type": "stream",
       "stream": "stdout",
       "text": [
        "Thread #2: \t65550000 read pairs finished. 1165 secs passed\r\n"
       ]
      },
      {
       "output_type": "stream",
       "stream": "stdout",
       "text": [
        "Thread #1: \t65600000 read pairs finished. 1166 secs passed\r\n"
       ]
      },
      {
       "output_type": "stream",
       "stream": "stdout",
       "text": [
        "Thread #0: \t65650000 read pairs finished. 1167 secs passed\r\n"
       ]
      },
      {
       "output_type": "stream",
       "stream": "stdout",
       "text": [
        "Thread #2: \t65700000 read pairs finished. 1168 secs passed\r\n"
       ]
      },
      {
       "output_type": "stream",
       "stream": "stdout",
       "text": [
        "Thread #1: \t65750000 read pairs finished. 1169 secs passed\r\n"
       ]
      },
      {
       "output_type": "stream",
       "stream": "stdout",
       "text": [
        "Thread #0: \t65800000 read pairs finished. 1170 secs passed\r\n"
       ]
      },
      {
       "output_type": "stream",
       "stream": "stdout",
       "text": [
        "Thread #2: \t65850000 read pairs finished. 1171 secs passed\r\n"
       ]
      },
      {
       "output_type": "stream",
       "stream": "stdout",
       "text": [
        "Thread #1: \t65900000 read pairs finished. 1172 secs passed\r\n"
       ]
      },
      {
       "output_type": "stream",
       "stream": "stdout",
       "text": [
        "Thread #0: \t65950000 read pairs finished. 1173 secs passed\r\n"
       ]
      },
      {
       "output_type": "stream",
       "stream": "stdout",
       "text": [
        "Thread #2: \t66000000 read pairs finished. 1173 secs passed\r\n"
       ]
      },
      {
       "output_type": "stream",
       "stream": "stdout",
       "text": [
        "Thread #1: \t66050000 read pairs finished. 1174 secs passed\r\n"
       ]
      },
      {
       "output_type": "stream",
       "stream": "stdout",
       "text": [
        "Thread #0: \t66100000 read pairs finished. 1175 secs passed\r\n"
       ]
      },
      {
       "output_type": "stream",
       "stream": "stdout",
       "text": [
        "Thread #2: \t66150000 read pairs finished. 1176 secs passed\r\n"
       ]
      },
      {
       "output_type": "stream",
       "stream": "stdout",
       "text": [
        "Thread #1: \t66200000 read pairs finished. 1177 secs passed\r\n"
       ]
      },
      {
       "output_type": "stream",
       "stream": "stdout",
       "text": [
        "Thread #0: \t66250000 read pairs finished. 1178 secs passed\r\n"
       ]
      },
      {
       "output_type": "stream",
       "stream": "stdout",
       "text": [
        "Thread #2: \t66300000 read pairs finished. 1178 secs passed\r\n"
       ]
      },
      {
       "output_type": "stream",
       "stream": "stdout",
       "text": [
        "Thread #1: \t66350000 read pairs finished. 1179 secs passed\r\n"
       ]
      },
      {
       "output_type": "stream",
       "stream": "stdout",
       "text": [
        "Thread #0: \t66400000 read pairs finished. 1180 secs passed\r\n"
       ]
      },
      {
       "output_type": "stream",
       "stream": "stdout",
       "text": [
        "Thread #2: \t66450000 read pairs finished. 1181 secs passed\r\n"
       ]
      },
      {
       "output_type": "stream",
       "stream": "stdout",
       "text": [
        "Thread #1: \t66500000 read pairs finished. 1181 secs passed\r\n"
       ]
      },
      {
       "output_type": "stream",
       "stream": "stdout",
       "text": [
        "Thread #0: \t66550000 read pairs finished. 1182 secs passed\r\n"
       ]
      },
      {
       "output_type": "stream",
       "stream": "stdout",
       "text": [
        "Thread #2: \t66600000 read pairs finished. 1183 secs passed\r\n"
       ]
      },
      {
       "output_type": "stream",
       "stream": "stdout",
       "text": [
        "Thread #1: \t66650000 read pairs finished. 1184 secs passed\r\n"
       ]
      },
      {
       "output_type": "stream",
       "stream": "stdout",
       "text": [
        "Thread #0: \t66700000 read pairs finished. 1185 secs passed\r\n"
       ]
      },
      {
       "output_type": "stream",
       "stream": "stdout",
       "text": [
        "Thread #2: \t66750000 read pairs finished. 1186 secs passed\r\n"
       ]
      },
      {
       "output_type": "stream",
       "stream": "stdout",
       "text": [
        "Thread #1: \t66800000 read pairs finished. 1187 secs passed\r\n"
       ]
      },
      {
       "output_type": "stream",
       "stream": "stdout",
       "text": [
        "Thread #0: \t66850000 read pairs finished. 1188 secs passed\r\n"
       ]
      },
      {
       "output_type": "stream",
       "stream": "stdout",
       "text": [
        "Thread #2: \t66900000 read pairs finished. 1188 secs passed\r\n"
       ]
      },
      {
       "output_type": "stream",
       "stream": "stdout",
       "text": [
        "Thread #1: \t66950000 read pairs finished. 1189 secs passed\r\n"
       ]
      },
      {
       "output_type": "stream",
       "stream": "stdout",
       "text": [
        "Thread #0: \t67000000 read pairs finished. 1190 secs passed\r\n"
       ]
      },
      {
       "output_type": "stream",
       "stream": "stdout",
       "text": [
        "Thread #2: \t67050000 read pairs finished. 1191 secs passed\r\n"
       ]
      },
      {
       "output_type": "stream",
       "stream": "stdout",
       "text": [
        "Thread #1: \t67100000 read pairs finished. 1192 secs passed\r\n"
       ]
      },
      {
       "output_type": "stream",
       "stream": "stdout",
       "text": [
        "Thread #0: \t67150000 read pairs finished. 1193 secs passed\r\n"
       ]
      },
      {
       "output_type": "stream",
       "stream": "stdout",
       "text": [
        "Thread #2: \t67200000 read pairs finished. 1194 secs passed\r\n"
       ]
      },
      {
       "output_type": "stream",
       "stream": "stdout",
       "text": [
        "Thread #1: \t67250000 read pairs finished. 1194 secs passed\r\n"
       ]
      },
      {
       "output_type": "stream",
       "stream": "stdout",
       "text": [
        "Thread #0: \t67300000 read pairs finished. 1195 secs passed\r\n"
       ]
      },
      {
       "output_type": "stream",
       "stream": "stdout",
       "text": [
        "Thread #2: \t67350000 read pairs finished. 1196 secs passed\r\n"
       ]
      },
      {
       "output_type": "stream",
       "stream": "stdout",
       "text": [
        "Thread #1: \t67400000 read pairs finished. 1197 secs passed\r\n"
       ]
      },
      {
       "output_type": "stream",
       "stream": "stdout",
       "text": [
        "Thread #0: \t67450000 read pairs finished. 1198 secs passed\r\n"
       ]
      },
      {
       "output_type": "stream",
       "stream": "stdout",
       "text": [
        "Thread #2: \t67500000 read pairs finished. 1198 secs passed\r\n"
       ]
      },
      {
       "output_type": "stream",
       "stream": "stdout",
       "text": [
        "Thread #1: \t67550000 read pairs finished. 1200 secs passed\r\n"
       ]
      },
      {
       "output_type": "stream",
       "stream": "stdout",
       "text": [
        "Thread #0: \t67600000 read pairs finished. 1200 secs passed\r\n"
       ]
      },
      {
       "output_type": "stream",
       "stream": "stdout",
       "text": [
        "Thread #2: \t67650000 read pairs finished. 1201 secs passed\r\n"
       ]
      },
      {
       "output_type": "stream",
       "stream": "stdout",
       "text": [
        "Thread #1: \t67700000 read pairs finished. 1202 secs passed\r\n"
       ]
      },
      {
       "output_type": "stream",
       "stream": "stdout",
       "text": [
        "Thread #0: \t67750000 read pairs finished. 1203 secs passed\r\n"
       ]
      },
      {
       "output_type": "stream",
       "stream": "stdout",
       "text": [
        "Thread #2: \t67800000 read pairs finished. 1204 secs passed\r\n"
       ]
      },
      {
       "output_type": "stream",
       "stream": "stdout",
       "text": [
        "Thread #1: \t67850000 read pairs finished. 1205 secs passed\r\n"
       ]
      },
      {
       "output_type": "stream",
       "stream": "stdout",
       "text": [
        "Thread #0: \t67900000 read pairs finished. 1205 secs passed\r\n"
       ]
      },
      {
       "output_type": "stream",
       "stream": "stdout",
       "text": [
        "Thread #2: \t67950000 read pairs finished. 1206 secs passed\r\n"
       ]
      },
      {
       "output_type": "stream",
       "stream": "stdout",
       "text": [
        "Thread #1: \t68000000 read pairs finished. 1207 secs passed\r\n"
       ]
      },
      {
       "output_type": "stream",
       "stream": "stdout",
       "text": [
        "Thread #0: \t68050000 read pairs finished. 1208 secs passed\r\n"
       ]
      },
      {
       "output_type": "stream",
       "stream": "stdout",
       "text": [
        "Thread #2: \t68100000 read pairs finished. 1209 secs passed\r\n"
       ]
      },
      {
       "output_type": "stream",
       "stream": "stdout",
       "text": [
        "Thread #1: \t68150000 read pairs finished. 1210 secs passed\r\n"
       ]
      },
      {
       "output_type": "stream",
       "stream": "stdout",
       "text": [
        "Thread #0: \t68200000 read pairs finished. 1211 secs passed\r\n"
       ]
      },
      {
       "output_type": "stream",
       "stream": "stdout",
       "text": [
        "Thread #2: \t68250000 read pairs finished. 1212 secs passed\r\n"
       ]
      },
      {
       "output_type": "stream",
       "stream": "stdout",
       "text": [
        "Thread #1: \t68300000 read pairs finished. 1213 secs passed\r\n"
       ]
      },
      {
       "output_type": "stream",
       "stream": "stdout",
       "text": [
        "Thread #0: \t68350000 read pairs finished. 1213 secs passed\r\n"
       ]
      },
      {
       "output_type": "stream",
       "stream": "stdout",
       "text": [
        "Thread #2: \t68400000 read pairs finished. 1214 secs passed\r\n"
       ]
      },
      {
       "output_type": "stream",
       "stream": "stdout",
       "text": [
        "Thread #1: \t68450000 read pairs finished. 1215 secs passed\r\n"
       ]
      },
      {
       "output_type": "stream",
       "stream": "stdout",
       "text": [
        "Thread #0: \t68500000 read pairs finished. 1216 secs passed\r\n"
       ]
      },
      {
       "output_type": "stream",
       "stream": "stdout",
       "text": [
        "Thread #2: \t68550000 read pairs finished. 1216 secs passed\r\n"
       ]
      },
      {
       "output_type": "stream",
       "stream": "stdout",
       "text": [
        "Thread #1: \t68600000 read pairs finished. 1217 secs passed\r\n"
       ]
      },
      {
       "output_type": "stream",
       "stream": "stdout",
       "text": [
        "Thread #0: \t68650000 read pairs finished. 1218 secs passed\r\n"
       ]
      },
      {
       "output_type": "stream",
       "stream": "stdout",
       "text": [
        "Thread #2: \t68700000 read pairs finished. 1219 secs passed\r\n"
       ]
      },
      {
       "output_type": "stream",
       "stream": "stdout",
       "text": [
        "Thread #1: \t68750000 read pairs finished. 1220 secs passed\r\n"
       ]
      },
      {
       "output_type": "stream",
       "stream": "stdout",
       "text": [
        "Thread #0: \t68800000 read pairs finished. 1220 secs passed\r\n"
       ]
      },
      {
       "output_type": "stream",
       "stream": "stdout",
       "text": [
        "Thread #2: \t68850000 read pairs finished. 1221 secs passed\r\n"
       ]
      },
      {
       "output_type": "stream",
       "stream": "stdout",
       "text": [
        "Thread #1: \t68900000 read pairs finished. 1222 secs passed\r\n"
       ]
      },
      {
       "output_type": "stream",
       "stream": "stdout",
       "text": [
        "Thread #0: \t68950000 read pairs finished. 1223 secs passed\r\n"
       ]
      },
      {
       "output_type": "stream",
       "stream": "stdout",
       "text": [
        "Thread #2: \t69000000 read pairs finished. 1224 secs passed\r\n"
       ]
      },
      {
       "output_type": "stream",
       "stream": "stdout",
       "text": [
        "Thread #1: \t69050000 read pairs finished. 1224 secs passed\r\n"
       ]
      },
      {
       "output_type": "stream",
       "stream": "stdout",
       "text": [
        "Thread #0: \t69100000 read pairs finished. 1225 secs passed\r\n"
       ]
      },
      {
       "output_type": "stream",
       "stream": "stdout",
       "text": [
        "Thread #2: \t69150000 read pairs finished. 1226 secs passed\r\n"
       ]
      },
      {
       "output_type": "stream",
       "stream": "stdout",
       "text": [
        "Thread #1: \t69200000 read pairs finished. 1227 secs passed\r\n"
       ]
      },
      {
       "output_type": "stream",
       "stream": "stdout",
       "text": [
        "Thread #0: \t69250000 read pairs finished. 1228 secs passed\r\n"
       ]
      },
      {
       "output_type": "stream",
       "stream": "stdout",
       "text": [
        "Thread #2: \t69300000 read pairs finished. 1228 secs passed\r\n"
       ]
      },
      {
       "output_type": "stream",
       "stream": "stdout",
       "text": [
        "Thread #1: \t69350000 read pairs finished. 1229 secs passed\r\n"
       ]
      },
      {
       "output_type": "stream",
       "stream": "stdout",
       "text": [
        "Thread #0: \t69400000 read pairs finished. 1230 secs passed\r\n"
       ]
      },
      {
       "output_type": "stream",
       "stream": "stdout",
       "text": [
        "Thread #2: \t69450000 read pairs finished. 1231 secs passed\r\n"
       ]
      },
      {
       "output_type": "stream",
       "stream": "stdout",
       "text": [
        "Thread #1: \t69500000 read pairs finished. 1232 secs passed\r\n"
       ]
      },
      {
       "output_type": "stream",
       "stream": "stdout",
       "text": [
        "Thread #0: \t69550000 read pairs finished. 1232 secs passed\r\n"
       ]
      },
      {
       "output_type": "stream",
       "stream": "stdout",
       "text": [
        "Thread #2: \t69600000 read pairs finished. 1233 secs passed\r\n"
       ]
      },
      {
       "output_type": "stream",
       "stream": "stdout",
       "text": [
        "Thread #1: \t69650000 read pairs finished. 1234 secs passed\r\n"
       ]
      },
      {
       "output_type": "stream",
       "stream": "stdout",
       "text": [
        "Thread #0: \t69700000 read pairs finished. 1235 secs passed\r\n"
       ]
      },
      {
       "output_type": "stream",
       "stream": "stdout",
       "text": [
        "Thread #2: \t69750000 read pairs finished. 1236 secs passed\r\n"
       ]
      },
      {
       "output_type": "stream",
       "stream": "stdout",
       "text": [
        "Thread #1: \t69800000 read pairs finished. 1237 secs passed\r\n"
       ]
      },
      {
       "output_type": "stream",
       "stream": "stdout",
       "text": [
        "Thread #0: \t69850000 read pairs finished. 1238 secs passed\r\n"
       ]
      },
      {
       "output_type": "stream",
       "stream": "stdout",
       "text": [
        "Thread #2: \t69900000 read pairs finished. 1238 secs passed\r\n"
       ]
      },
      {
       "output_type": "stream",
       "stream": "stdout",
       "text": [
        "Thread #1: \t69950000 read pairs finished. 1239 secs passed\r\n"
       ]
      },
      {
       "output_type": "stream",
       "stream": "stdout",
       "text": [
        "Thread #0: \t70000000 read pairs finished. 1240 secs passed\r\n"
       ]
      },
      {
       "output_type": "stream",
       "stream": "stdout",
       "text": [
        "Thread #2: \t70050000 read pairs finished. 1241 secs passed\r\n"
       ]
      },
      {
       "output_type": "stream",
       "stream": "stdout",
       "text": [
        "Thread #1: \t70100000 read pairs finished. 1242 secs passed\r\n"
       ]
      },
      {
       "output_type": "stream",
       "stream": "stdout",
       "text": [
        "Thread #0: \t70150000 read pairs finished. 1242 secs passed\r\n"
       ]
      },
      {
       "output_type": "stream",
       "stream": "stdout",
       "text": [
        "Thread #2: \t70200000 read pairs finished. 1243 secs passed\r\n"
       ]
      },
      {
       "output_type": "stream",
       "stream": "stdout",
       "text": [
        "Thread #1: \t70250000 read pairs finished. 1244 secs passed\r\n"
       ]
      },
      {
       "output_type": "stream",
       "stream": "stdout",
       "text": [
        "Thread #0: \t70300000 read pairs finished. 1245 secs passed\r\n"
       ]
      },
      {
       "output_type": "stream",
       "stream": "stdout",
       "text": [
        "Thread #2: \t70350000 read pairs finished. 1246 secs passed\r\n"
       ]
      },
      {
       "output_type": "stream",
       "stream": "stdout",
       "text": [
        "Thread #1: \t70400000 read pairs finished. 1246 secs passed\r\n"
       ]
      },
      {
       "output_type": "stream",
       "stream": "stdout",
       "text": [
        "Thread #0: \t70450000 read pairs finished. 1247 secs passed\r\n"
       ]
      },
      {
       "output_type": "stream",
       "stream": "stdout",
       "text": [
        "Thread #2: \t70500000 read pairs finished. 1248 secs passed\r\n"
       ]
      },
      {
       "output_type": "stream",
       "stream": "stdout",
       "text": [
        "Thread #1: \t70550000 read pairs finished. 1249 secs passed\r\n"
       ]
      },
      {
       "output_type": "stream",
       "stream": "stdout",
       "text": [
        "Thread #0: \t70600000 read pairs finished. 1250 secs passed\r\n"
       ]
      },
      {
       "output_type": "stream",
       "stream": "stdout",
       "text": [
        "Thread #2: \t70650000 read pairs finished. 1250 secs passed\r\n"
       ]
      },
      {
       "output_type": "stream",
       "stream": "stdout",
       "text": [
        "Thread #1: \t70700000 read pairs finished. 1251 secs passed\r\n"
       ]
      },
      {
       "output_type": "stream",
       "stream": "stdout",
       "text": [
        "Thread #0: \t70750000 read pairs finished. 1252 secs passed\r\n"
       ]
      },
      {
       "output_type": "stream",
       "stream": "stdout",
       "text": [
        "Thread #2: \t70800000 read pairs finished. 1253 secs passed\r\n"
       ]
      },
      {
       "output_type": "stream",
       "stream": "stdout",
       "text": [
        "Thread #1: \t70850000 read pairs finished. 1254 secs passed\r\n"
       ]
      },
      {
       "output_type": "stream",
       "stream": "stdout",
       "text": [
        "Thread #0: \t70900000 read pairs finished. 1254 secs passed\r\n"
       ]
      },
      {
       "output_type": "stream",
       "stream": "stdout",
       "text": [
        "Thread #2: \t70950000 read pairs finished. 1255 secs passed\r\n"
       ]
      },
      {
       "output_type": "stream",
       "stream": "stdout",
       "text": [
        "Thread #1: \t71000000 read pairs finished. 1256 secs passed\r\n"
       ]
      },
      {
       "output_type": "stream",
       "stream": "stdout",
       "text": [
        "Thread #0: \t71050000 read pairs finished. 1257 secs passed\r\n"
       ]
      },
      {
       "output_type": "stream",
       "stream": "stdout",
       "text": [
        "Thread #2: \t71100000 read pairs finished. 1258 secs passed\r\n"
       ]
      },
      {
       "output_type": "stream",
       "stream": "stdout",
       "text": [
        "Thread #1: \t71150000 read pairs finished. 1258 secs passed\r\n"
       ]
      },
      {
       "output_type": "stream",
       "stream": "stdout",
       "text": [
        "Thread #0: \t71200000 read pairs finished. 1259 secs passed\r\n"
       ]
      },
      {
       "output_type": "stream",
       "stream": "stdout",
       "text": [
        "Thread #2: \t71250000 read pairs finished. 1260 secs passed\r\n"
       ]
      },
      {
       "output_type": "stream",
       "stream": "stdout",
       "text": [
        "Thread #1: \t71300000 read pairs finished. 1261 secs passed\r\n"
       ]
      },
      {
       "output_type": "stream",
       "stream": "stdout",
       "text": [
        "Thread #0: \t71350000 read pairs finished. 1262 secs passed\r\n"
       ]
      },
      {
       "output_type": "stream",
       "stream": "stdout",
       "text": [
        "Thread #2: \t71400000 read pairs finished. 1262 secs passed\r\n"
       ]
      },
      {
       "output_type": "stream",
       "stream": "stdout",
       "text": [
        "Thread #1: \t71450000 read pairs finished. 1263 secs passed\r\n"
       ]
      },
      {
       "output_type": "stream",
       "stream": "stdout",
       "text": [
        "Thread #0: \t71500000 read pairs finished. 1264 secs passed\r\n"
       ]
      },
      {
       "output_type": "stream",
       "stream": "stdout",
       "text": [
        "Thread #2: \t71550000 read pairs finished. 1265 secs passed\r\n"
       ]
      },
      {
       "output_type": "stream",
       "stream": "stdout",
       "text": [
        "Thread #1: \t71600000 read pairs finished. 1266 secs passed\r\n"
       ]
      },
      {
       "output_type": "stream",
       "stream": "stdout",
       "text": [
        "Thread #0: \t71650000 read pairs finished. 1266 secs passed\r\n"
       ]
      },
      {
       "output_type": "stream",
       "stream": "stdout",
       "text": [
        "Thread #2: \t71700000 read pairs finished. 1267 secs passed\r\n"
       ]
      },
      {
       "output_type": "stream",
       "stream": "stdout",
       "text": [
        "Thread #1: \t71750000 read pairs finished. 1268 secs passed\r\n"
       ]
      },
      {
       "output_type": "stream",
       "stream": "stdout",
       "text": [
        "Thread #0: \t71800000 read pairs finished. 1269 secs passed\r\n"
       ]
      },
      {
       "output_type": "stream",
       "stream": "stdout",
       "text": [
        "Thread #2: \t71850000 read pairs finished. 1270 secs passed\r\n"
       ]
      },
      {
       "output_type": "stream",
       "stream": "stdout",
       "text": [
        "Thread #1: \t71900000 read pairs finished. 1270 secs passed\r\n"
       ]
      },
      {
       "output_type": "stream",
       "stream": "stdout",
       "text": [
        "Thread #0: \t71950000 read pairs finished. 1271 secs passed\r\n"
       ]
      },
      {
       "output_type": "stream",
       "stream": "stdout",
       "text": [
        "Thread #2: \t72000000 read pairs finished. 1272 secs passed\r\n"
       ]
      },
      {
       "output_type": "stream",
       "stream": "stdout",
       "text": [
        "Thread #1: \t72050000 read pairs finished. 1273 secs passed\r\n"
       ]
      },
      {
       "output_type": "stream",
       "stream": "stdout",
       "text": [
        "Thread #0: \t72100000 read pairs finished. 1274 secs passed\r\n"
       ]
      },
      {
       "output_type": "stream",
       "stream": "stdout",
       "text": [
        "Thread #2: \t72150000 read pairs finished. 1275 secs passed\r\n"
       ]
      },
      {
       "output_type": "stream",
       "stream": "stdout",
       "text": [
        "Thread #1: \t72200000 read pairs finished. 1275 secs passed\r\n"
       ]
      },
      {
       "output_type": "stream",
       "stream": "stdout",
       "text": [
        "Thread #0: \t72250000 read pairs finished. 1276 secs passed\r\n"
       ]
      },
      {
       "output_type": "stream",
       "stream": "stdout",
       "text": [
        "Thread #2: \t72300000 read pairs finished. 1277 secs passed\r\n"
       ]
      },
      {
       "output_type": "stream",
       "stream": "stdout",
       "text": [
        "Thread #1: \t72350000 read pairs finished. 1278 secs passed\r\n"
       ]
      },
      {
       "output_type": "stream",
       "stream": "stdout",
       "text": [
        "Thread #0: \t72400000 read pairs finished. 1279 secs passed\r\n"
       ]
      },
      {
       "output_type": "stream",
       "stream": "stdout",
       "text": [
        "Thread #2: \t72450000 read pairs finished. 1279 secs passed\r\n"
       ]
      },
      {
       "output_type": "stream",
       "stream": "stdout",
       "text": [
        "Thread #1: \t72500000 read pairs finished. 1280 secs passed\r\n"
       ]
      },
      {
       "output_type": "stream",
       "stream": "stdout",
       "text": [
        "Thread #0: \t72550000 read pairs finished. 1281 secs passed\r\n"
       ]
      },
      {
       "output_type": "stream",
       "stream": "stdout",
       "text": [
        "Thread #2: \t72600000 read pairs finished. 1282 secs passed\r\n"
       ]
      },
      {
       "output_type": "stream",
       "stream": "stdout",
       "text": [
        "Thread #1: \t72650000 read pairs finished. 1282 secs passed\r\n"
       ]
      },
      {
       "output_type": "stream",
       "stream": "stdout",
       "text": [
        "Thread #0: \t72700000 read pairs finished. 1283 secs passed\r\n"
       ]
      },
      {
       "output_type": "stream",
       "stream": "stdout",
       "text": [
        "Thread #2: \t72750000 read pairs finished. 1284 secs passed\r\n"
       ]
      },
      {
       "output_type": "stream",
       "stream": "stdout",
       "text": [
        "Thread #1: \t72800000 read pairs finished. 1285 secs passed\r\n"
       ]
      },
      {
       "output_type": "stream",
       "stream": "stdout",
       "text": [
        "Thread #0: \t72850000 read pairs finished. 1286 secs passed\r\n"
       ]
      },
      {
       "output_type": "stream",
       "stream": "stdout",
       "text": [
        "Thread #2: \t72900000 read pairs finished. 1286 secs passed\r\n"
       ]
      },
      {
       "output_type": "stream",
       "stream": "stdout",
       "text": [
        "Thread #1: \t72950000 read pairs finished. 1287 secs passed\r\n"
       ]
      },
      {
       "output_type": "stream",
       "stream": "stdout",
       "text": [
        "Thread #0: \t73000000 read pairs finished. 1288 secs passed\r\n"
       ]
      },
      {
       "output_type": "stream",
       "stream": "stdout",
       "text": [
        "Thread #2: \t73050000 read pairs finished. 1289 secs passed\r\n"
       ]
      },
      {
       "output_type": "stream",
       "stream": "stdout",
       "text": [
        "Thread #1: \t73100000 read pairs finished. 1290 secs passed\r\n"
       ]
      },
      {
       "output_type": "stream",
       "stream": "stdout",
       "text": [
        "Thread #0: \t73150000 read pairs finished. 1290 secs passed\r\n"
       ]
      },
      {
       "output_type": "stream",
       "stream": "stdout",
       "text": [
        "Thread #2: \t73200000 read pairs finished. 1291 secs passed\r\n"
       ]
      },
      {
       "output_type": "stream",
       "stream": "stdout",
       "text": [
        "Thread #1: \t73250000 read pairs finished. 1292 secs passed\r\n"
       ]
      },
      {
       "output_type": "stream",
       "stream": "stdout",
       "text": [
        "Thread #0: \t73300000 read pairs finished. 1293 secs passed\r\n"
       ]
      },
      {
       "output_type": "stream",
       "stream": "stdout",
       "text": [
        "Thread #2: \t73350000 read pairs finished. 1293 secs passed\r\n"
       ]
      },
      {
       "output_type": "stream",
       "stream": "stdout",
       "text": [
        "Thread #1: \t73400000 read pairs finished. 1294 secs passed\r\n"
       ]
      },
      {
       "output_type": "stream",
       "stream": "stdout",
       "text": [
        "Thread #0: \t73450000 read pairs finished. 1295 secs passed\r\n"
       ]
      },
      {
       "output_type": "stream",
       "stream": "stdout",
       "text": [
        "Thread #2: \t73500000 read pairs finished. 1296 secs passed\r\n"
       ]
      },
      {
       "output_type": "stream",
       "stream": "stdout",
       "text": [
        "Thread #1: \t73550000 read pairs finished. 1297 secs passed\r\n"
       ]
      },
      {
       "output_type": "stream",
       "stream": "stdout",
       "text": [
        "Thread #0: \t73600000 read pairs finished. 1297 secs passed\r\n"
       ]
      },
      {
       "output_type": "stream",
       "stream": "stdout",
       "text": [
        "Thread #2: \t73650000 read pairs finished. 1298 secs passed\r\n"
       ]
      },
      {
       "output_type": "stream",
       "stream": "stdout",
       "text": [
        "Thread #1: \t73700000 read pairs finished. 1299 secs passed\r\n"
       ]
      },
      {
       "output_type": "stream",
       "stream": "stdout",
       "text": [
        "Thread #0: \t73750000 read pairs finished. 1300 secs passed\r\n"
       ]
      },
      {
       "output_type": "stream",
       "stream": "stdout",
       "text": [
        "Thread #2: \t73800000 read pairs finished. 1301 secs passed\r\n"
       ]
      },
      {
       "output_type": "stream",
       "stream": "stdout",
       "text": [
        "Thread #1: \t73850000 read pairs finished. 1302 secs passed\r\n"
       ]
      },
      {
       "output_type": "stream",
       "stream": "stdout",
       "text": [
        "Thread #0: \t73900000 read pairs finished. 1302 secs passed\r\n"
       ]
      },
      {
       "output_type": "stream",
       "stream": "stdout",
       "text": [
        "Thread #2: \t73950000 read pairs finished. 1303 secs passed\r\n"
       ]
      },
      {
       "output_type": "stream",
       "stream": "stdout",
       "text": [
        "Thread #1: \t74000000 read pairs finished. 1304 secs passed\r\n"
       ]
      },
      {
       "output_type": "stream",
       "stream": "stdout",
       "text": [
        "Thread #0: \t74050000 read pairs finished. 1305 secs passed\r\n"
       ]
      },
      {
       "output_type": "stream",
       "stream": "stdout",
       "text": [
        "Thread #2: \t74100000 read pairs finished. 1306 secs passed\r\n"
       ]
      },
      {
       "output_type": "stream",
       "stream": "stdout",
       "text": [
        "Thread #1: \t74150000 read pairs finished. 1307 secs passed\r\n"
       ]
      },
      {
       "output_type": "stream",
       "stream": "stdout",
       "text": [
        "Thread #0: \t74200000 read pairs finished. 1307 secs passed\r\n"
       ]
      },
      {
       "output_type": "stream",
       "stream": "stdout",
       "text": [
        "Thread #2: \t74250000 read pairs finished. 1308 secs passed\r\n"
       ]
      },
      {
       "output_type": "stream",
       "stream": "stdout",
       "text": [
        "Thread #1: \t74300000 read pairs finished. 1309 secs passed\r\n"
       ]
      },
      {
       "output_type": "stream",
       "stream": "stdout",
       "text": [
        "Thread #0: \t74350000 read pairs finished. 1310 secs passed\r\n"
       ]
      },
      {
       "output_type": "stream",
       "stream": "stdout",
       "text": [
        "Thread #2: \t74400000 read pairs finished. 1311 secs passed\r\n"
       ]
      },
      {
       "output_type": "stream",
       "stream": "stdout",
       "text": [
        "Thread #1: \t74450000 read pairs finished. 1311 secs passed\r\n"
       ]
      },
      {
       "output_type": "stream",
       "stream": "stdout",
       "text": [
        "Thread #0: \t74500000 read pairs finished. 1312 secs passed\r\n"
       ]
      },
      {
       "output_type": "stream",
       "stream": "stdout",
       "text": [
        "Thread #2: \t74550000 read pairs finished. 1313 secs passed\r\n"
       ]
      },
      {
       "output_type": "stream",
       "stream": "stdout",
       "text": [
        "Thread #1: \t74600000 read pairs finished. 1314 secs passed\r\n"
       ]
      },
      {
       "output_type": "stream",
       "stream": "stdout",
       "text": [
        "Thread #0: \t74650000 read pairs finished. 1315 secs passed\r\n"
       ]
      },
      {
       "output_type": "stream",
       "stream": "stdout",
       "text": [
        "Thread #2: \t74700000 read pairs finished. 1316 secs passed\r\n"
       ]
      },
      {
       "output_type": "stream",
       "stream": "stdout",
       "text": [
        "Thread #1: \t74750000 read pairs finished. 1316 secs passed\r\n"
       ]
      },
      {
       "output_type": "stream",
       "stream": "stdout",
       "text": [
        "Thread #0: \t74800000 read pairs finished. 1317 secs passed\r\n"
       ]
      },
      {
       "output_type": "stream",
       "stream": "stdout",
       "text": [
        "Thread #2: \t74850000 read pairs finished. 1318 secs passed\r\n"
       ]
      },
      {
       "output_type": "stream",
       "stream": "stdout",
       "text": [
        "Thread #1: \t74900000 read pairs finished. 1319 secs passed\r\n"
       ]
      },
      {
       "output_type": "stream",
       "stream": "stdout",
       "text": [
        "Thread #0: \t74950000 read pairs finished. 1320 secs passed\r\n"
       ]
      },
      {
       "output_type": "stream",
       "stream": "stdout",
       "text": [
        "Thread #2: \t75000000 read pairs finished. 1321 secs passed\r\n"
       ]
      },
      {
       "output_type": "stream",
       "stream": "stdout",
       "text": [
        "Thread #1: \t75050000 read pairs finished. 1321 secs passed\r\n"
       ]
      },
      {
       "output_type": "stream",
       "stream": "stdout",
       "text": [
        "Thread #0: \t75100000 read pairs finished. 1322 secs passed\r\n"
       ]
      },
      {
       "output_type": "stream",
       "stream": "stdout",
       "text": [
        "Thread #2: \t75150000 read pairs finished. 1323 secs passed\r\n"
       ]
      },
      {
       "output_type": "stream",
       "stream": "stdout",
       "text": [
        "Thread #1: \t75200000 read pairs finished. 1324 secs passed\r\n"
       ]
      },
      {
       "output_type": "stream",
       "stream": "stdout",
       "text": [
        "Thread #0: \t75250000 read pairs finished. 1325 secs passed\r\n"
       ]
      },
      {
       "output_type": "stream",
       "stream": "stdout",
       "text": [
        "Thread #2: \t75300000 read pairs finished. 1326 secs passed\r\n"
       ]
      },
      {
       "output_type": "stream",
       "stream": "stdout",
       "text": [
        "Thread #1: \t75350000 read pairs finished. 1327 secs passed\r\n"
       ]
      },
      {
       "output_type": "stream",
       "stream": "stdout",
       "text": [
        "Thread #0: \t75400000 read pairs finished. 1328 secs passed\r\n"
       ]
      },
      {
       "output_type": "stream",
       "stream": "stdout",
       "text": [
        "Thread #2: \t75450000 read pairs finished. 1328 secs passed\r\n"
       ]
      },
      {
       "output_type": "stream",
       "stream": "stdout",
       "text": [
        "Thread #1: \t75500000 read pairs finished. 1329 secs passed\r\n"
       ]
      },
      {
       "output_type": "stream",
       "stream": "stdout",
       "text": [
        "Thread #0: \t75550000 read pairs finished. 1330 secs passed\r\n"
       ]
      },
      {
       "output_type": "stream",
       "stream": "stdout",
       "text": [
        "Thread #2: \t75600000 read pairs finished. 1331 secs passed\r\n"
       ]
      },
      {
       "output_type": "stream",
       "stream": "stdout",
       "text": [
        "Thread #1: \t75650000 read pairs finished. 1331 secs passed\r\n"
       ]
      },
      {
       "output_type": "stream",
       "stream": "stdout",
       "text": [
        "Thread #0: \t75700000 read pairs finished. 1332 secs passed\r\n"
       ]
      },
      {
       "output_type": "stream",
       "stream": "stdout",
       "text": [
        "Thread #2: \t75750000 read pairs finished. 1333 secs passed\r\n"
       ]
      },
      {
       "output_type": "stream",
       "stream": "stdout",
       "text": [
        "Thread #1: \t75800000 read pairs finished. 1334 secs passed\r\n"
       ]
      },
      {
       "output_type": "stream",
       "stream": "stdout",
       "text": [
        "Thread #0: \t75850000 read pairs finished. 1335 secs passed\r\n"
       ]
      },
      {
       "output_type": "stream",
       "stream": "stdout",
       "text": [
        "Thread #2: \t75900000 read pairs finished. 1335 secs passed\r\n"
       ]
      },
      {
       "output_type": "stream",
       "stream": "stdout",
       "text": [
        "Thread #1: \t75950000 read pairs finished. 1336 secs passed\r\n"
       ]
      },
      {
       "output_type": "stream",
       "stream": "stdout",
       "text": [
        "Thread #0: \t76000000 read pairs finished. 1337 secs passed\r\n"
       ]
      },
      {
       "output_type": "stream",
       "stream": "stdout",
       "text": [
        "Thread #2: \t76050000 read pairs finished. 1338 secs passed\r\n"
       ]
      },
      {
       "output_type": "stream",
       "stream": "stdout",
       "text": [
        "Thread #1: \t76100000 read pairs finished. 1339 secs passed\r\n"
       ]
      },
      {
       "output_type": "stream",
       "stream": "stdout",
       "text": [
        "Thread #0: \t76150000 read pairs finished. 1339 secs passed\r\n"
       ]
      },
      {
       "output_type": "stream",
       "stream": "stdout",
       "text": [
        "Thread #2: \t76200000 read pairs finished. 1340 secs passed\r\n"
       ]
      },
      {
       "output_type": "stream",
       "stream": "stdout",
       "text": [
        "Thread #1: \t76250000 read pairs finished. 1341 secs passed\r\n"
       ]
      },
      {
       "output_type": "stream",
       "stream": "stdout",
       "text": [
        "Thread #0: \t76300000 read pairs finished. 1342 secs passed\r\n"
       ]
      },
      {
       "output_type": "stream",
       "stream": "stdout",
       "text": [
        "Thread #2: \t76350000 read pairs finished. 1343 secs passed\r\n"
       ]
      },
      {
       "output_type": "stream",
       "stream": "stdout",
       "text": [
        "Thread #1: \t76400000 read pairs finished. 1343 secs passed\r\n"
       ]
      },
      {
       "output_type": "stream",
       "stream": "stdout",
       "text": [
        "Thread #0: \t76450000 read pairs finished. 1344 secs passed\r\n"
       ]
      },
      {
       "output_type": "stream",
       "stream": "stdout",
       "text": [
        "Thread #2: \t76500000 read pairs finished. 1345 secs passed\r\n"
       ]
      },
      {
       "output_type": "stream",
       "stream": "stdout",
       "text": [
        "Thread #1: \t76550000 read pairs finished. 1346 secs passed\r\n"
       ]
      },
      {
       "output_type": "stream",
       "stream": "stdout",
       "text": [
        "Thread #0: \t76600000 read pairs finished. 1347 secs passed\r\n"
       ]
      },
      {
       "output_type": "stream",
       "stream": "stdout",
       "text": [
        "Thread #2: \t76650000 read pairs finished. 1348 secs passed\r\n"
       ]
      },
      {
       "output_type": "stream",
       "stream": "stdout",
       "text": [
        "Thread #1: \t76700000 read pairs finished. 1349 secs passed\r\n"
       ]
      },
      {
       "output_type": "stream",
       "stream": "stdout",
       "text": [
        "Thread #0: \t76750000 read pairs finished. 1350 secs passed\r\n"
       ]
      },
      {
       "output_type": "stream",
       "stream": "stdout",
       "text": [
        "Thread #2: \t76800000 read pairs finished. 1350 secs passed\r\n"
       ]
      },
      {
       "output_type": "stream",
       "stream": "stdout",
       "text": [
        "Thread #1: \t76850000 read pairs finished. 1351 secs passed\r\n"
       ]
      },
      {
       "output_type": "stream",
       "stream": "stdout",
       "text": [
        "Thread #0: \t76900000 read pairs finished. 1352 secs passed\r\n"
       ]
      },
      {
       "output_type": "stream",
       "stream": "stdout",
       "text": [
        "Thread #2: \t76950000 read pairs finished. 1353 secs passed\r\n"
       ]
      },
      {
       "output_type": "stream",
       "stream": "stdout",
       "text": [
        "Thread #1: \t77000000 read pairs finished. 1354 secs passed\r\n"
       ]
      },
      {
       "output_type": "stream",
       "stream": "stdout",
       "text": [
        "Thread #0: \t77050000 read pairs finished. 1355 secs passed\r\n"
       ]
      },
      {
       "output_type": "stream",
       "stream": "stdout",
       "text": [
        "Thread #2: \t77100000 read pairs finished. 1356 secs passed\r\n"
       ]
      },
      {
       "output_type": "stream",
       "stream": "stdout",
       "text": [
        "Thread #1: \t77150000 read pairs finished. 1357 secs passed\r\n"
       ]
      },
      {
       "output_type": "stream",
       "stream": "stdout",
       "text": [
        "Thread #0: \t77200000 read pairs finished. 1358 secs passed\r\n"
       ]
      },
      {
       "output_type": "stream",
       "stream": "stdout",
       "text": [
        "Thread #2: \t77250000 read pairs finished. 1359 secs passed\r\n"
       ]
      },
      {
       "output_type": "stream",
       "stream": "stdout",
       "text": [
        "Thread #1: \t77300000 read pairs finished. 1359 secs passed\r\n"
       ]
      },
      {
       "output_type": "stream",
       "stream": "stdout",
       "text": [
        "Thread #0: \t77350000 read pairs finished. 1360 secs passed\r\n"
       ]
      },
      {
       "output_type": "stream",
       "stream": "stdout",
       "text": [
        "Thread #2: \t77400000 read pairs finished. 1361 secs passed\r\n"
       ]
      },
      {
       "output_type": "stream",
       "stream": "stdout",
       "text": [
        "Thread #1: \t77450000 read pairs finished. 1362 secs passed\r\n"
       ]
      },
      {
       "output_type": "stream",
       "stream": "stdout",
       "text": [
        "Thread #0: \t77500000 read pairs finished. 1363 secs passed\r\n"
       ]
      },
      {
       "output_type": "stream",
       "stream": "stdout",
       "text": [
        "Thread #2: \t77550000 read pairs finished. 1363 secs passed\r\n"
       ]
      },
      {
       "output_type": "stream",
       "stream": "stdout",
       "text": [
        "Thread #1: \t77600000 read pairs finished. 1364 secs passed\r\n"
       ]
      },
      {
       "output_type": "stream",
       "stream": "stdout",
       "text": [
        "Thread #0: \t77650000 read pairs finished. 1365 secs passed\r\n"
       ]
      },
      {
       "output_type": "stream",
       "stream": "stdout",
       "text": [
        "Thread #2: \t77700000 read pairs finished. 1366 secs passed\r\n"
       ]
      },
      {
       "output_type": "stream",
       "stream": "stdout",
       "text": [
        "Thread #1: \t77750000 read pairs finished. 1367 secs passed\r\n"
       ]
      },
      {
       "output_type": "stream",
       "stream": "stdout",
       "text": [
        "Thread #0: \t77800000 read pairs finished. 1368 secs passed\r\n"
       ]
      },
      {
       "output_type": "stream",
       "stream": "stdout",
       "text": [
        "Thread #2: \t77850000 read pairs finished. 1369 secs passed\r\n"
       ]
      },
      {
       "output_type": "stream",
       "stream": "stdout",
       "text": [
        "Thread #"
       ]
      },
      {
       "output_type": "stream",
       "stream": "stdout",
       "text": [
        "1: \t77900000 read pairs finished. 1370 secs passed\r\n"
       ]
      },
      {
       "output_type": "stream",
       "stream": "stdout",
       "text": [
        "Thread #0: \t77950000 read pairs finished. 1371 secs passed\r\n"
       ]
      },
      {
       "output_type": "stream",
       "stream": "stdout",
       "text": [
        "Thread #2: \t78000000 read pairs finished. 1371 secs passed\r\n"
       ]
      },
      {
       "output_type": "stream",
       "stream": "stdout",
       "text": [
        "Thread #1: \t78050000 read pairs finished. 1372 secs passed\r\n"
       ]
      },
      {
       "output_type": "stream",
       "stream": "stdout",
       "text": [
        "Thread #0: \t78100000 read pairs finished. 1373 secs passed\r\n"
       ]
      },
      {
       "output_type": "stream",
       "stream": "stdout",
       "text": [
        "Thread #2: \t78150000 read pairs finished. 1374 secs passed\r\n"
       ]
      },
      {
       "output_type": "stream",
       "stream": "stdout",
       "text": [
        "Thread #1: \t78200000 read pairs finished. 1375 secs passed\r\n"
       ]
      },
      {
       "output_type": "stream",
       "stream": "stdout",
       "text": [
        "Thread #0: \t78250000 read pairs finished. 1376 secs passed\r\n"
       ]
      },
      {
       "output_type": "stream",
       "stream": "stdout",
       "text": [
        "Thread #2: \t78300000 read pairs finished. 1377 secs passed\r\n"
       ]
      },
      {
       "output_type": "stream",
       "stream": "stdout",
       "text": [
        "Thread #1: \t78350000 read pairs finished. 1377 secs passed\r\n"
       ]
      },
      {
       "output_type": "stream",
       "stream": "stdout",
       "text": [
        "Thread #0: \t78400000 read pairs finished. 1378 secs passed\r\n"
       ]
      },
      {
       "output_type": "stream",
       "stream": "stdout",
       "text": [
        "Thread #2: \t78450000 read pairs finished. 1379 secs passed\r\n"
       ]
      },
      {
       "output_type": "stream",
       "stream": "stdout",
       "text": [
        "Thread #1: \t78500000 read pairs finished. 1380 secs passed\r\n"
       ]
      },
      {
       "output_type": "stream",
       "stream": "stdout",
       "text": [
        "Thread #0: \t78550000 read pairs finished. 1381 secs passed\r\n"
       ]
      },
      {
       "output_type": "stream",
       "stream": "stdout",
       "text": [
        "Thread #2: \t78600000 read pairs finished. 1381 secs passed\r\n"
       ]
      },
      {
       "output_type": "stream",
       "stream": "stdout",
       "text": [
        "Thread #1: \t78650000 read pairs finished. 1382 secs passed\r\n"
       ]
      },
      {
       "output_type": "stream",
       "stream": "stdout",
       "text": [
        "Thread #0: \t78700000 read pairs finished. 1383 secs passed\r\n"
       ]
      },
      {
       "output_type": "stream",
       "stream": "stdout",
       "text": [
        "Thread #2: \t78750000 read pairs finished. 1384 secs passed\r\n"
       ]
      },
      {
       "output_type": "stream",
       "stream": "stdout",
       "text": [
        "Thread #1: \t78800000 read pairs finished. 1385 secs passed\r\n"
       ]
      },
      {
       "output_type": "stream",
       "stream": "stdout",
       "text": [
        "Thread #0: \t78850000 read pairs finished. 1386 secs passed\r\n"
       ]
      },
      {
       "output_type": "stream",
       "stream": "stdout",
       "text": [
        "Thread #2: \t78900000 read pairs finished. 1386 secs passed\r\n"
       ]
      },
      {
       "output_type": "stream",
       "stream": "stdout",
       "text": [
        "Thread #1: \t78950000 read pairs finished. 1387 secs passed\r\n"
       ]
      },
      {
       "output_type": "stream",
       "stream": "stdout",
       "text": [
        "Thread #0: \t79000000 read pairs finished. 1388 secs passed\r\n"
       ]
      },
      {
       "output_type": "stream",
       "stream": "stdout",
       "text": [
        "Thread #2: \t79050000 read pairs finished. 1389 secs passed\r\n"
       ]
      },
      {
       "output_type": "stream",
       "stream": "stdout",
       "text": [
        "Thread #1: \t79100000 read pairs finished. 1390 secs passed\r\n"
       ]
      },
      {
       "output_type": "stream",
       "stream": "stdout",
       "text": [
        "Thread #0: \t79150000 read pairs finished. 1391 secs passed\r\n"
       ]
      },
      {
       "output_type": "stream",
       "stream": "stdout",
       "text": [
        "Thread #2: \t79200000 read pairs finished. 1392 secs passed\r\n"
       ]
      },
      {
       "output_type": "stream",
       "stream": "stdout",
       "text": [
        "Thread #1: \t79250000 read pairs finished. 1393 secs passed\r\n"
       ]
      },
      {
       "output_type": "stream",
       "stream": "stdout",
       "text": [
        "Thread #0: \t79300000 read pairs finished. 1394 secs passed\r\n"
       ]
      },
      {
       "output_type": "stream",
       "stream": "stdout",
       "text": [
        "Thread #2: \t79350000 read pairs finished. 1395 secs passed\r\n"
       ]
      },
      {
       "output_type": "stream",
       "stream": "stdout",
       "text": [
        "Thread #1: \t79400000 read pairs finished. 1396 secs passed\r\n"
       ]
      },
      {
       "output_type": "stream",
       "stream": "stdout",
       "text": [
        "Thread #0: \t79450000 read pairs finished. 1397 secs passed\r\n"
       ]
      },
      {
       "output_type": "stream",
       "stream": "stdout",
       "text": [
        "Thread #2: \t79500000 read pairs finished. 1397 secs passed\r\n"
       ]
      },
      {
       "output_type": "stream",
       "stream": "stdout",
       "text": [
        "Thread #1: \t79550000 read pairs finished. 1398 secs passed\r\n"
       ]
      },
      {
       "output_type": "stream",
       "stream": "stdout",
       "text": [
        "Thread #0: \t79600000 read pairs finished. 1399 secs passed\r\n"
       ]
      },
      {
       "output_type": "stream",
       "stream": "stdout",
       "text": [
        "Thread #2: \t79650000 read pairs finished. 1400 secs passed\r\n"
       ]
      },
      {
       "output_type": "stream",
       "stream": "stdout",
       "text": [
        "Thread #1: \t79700000 read pairs finished. 1401 secs passed\r\n"
       ]
      },
      {
       "output_type": "stream",
       "stream": "stdout",
       "text": [
        "Thread #0: \t79750000 read pairs finished. 1401 secs passed\r\n"
       ]
      },
      {
       "output_type": "stream",
       "stream": "stdout",
       "text": [
        "Thread #2: \t79800000 read pairs finished. 1402 secs passed\r\n"
       ]
      },
      {
       "output_type": "stream",
       "stream": "stdout",
       "text": [
        "Thread #1: \t79850000 read pairs finished. 1403 secs passed\r\n"
       ]
      },
      {
       "output_type": "stream",
       "stream": "stdout",
       "text": [
        "Thread #0: \t79900000 read pairs finished. 1404 secs passed\r\n"
       ]
      },
      {
       "output_type": "stream",
       "stream": "stdout",
       "text": [
        "Thread #2: \t79950000 read pairs finished. 1405 secs passed\r\n"
       ]
      },
      {
       "output_type": "stream",
       "stream": "stdout",
       "text": [
        "Thread #1: \t80000000 read pairs finished. 1406 secs passed\r\n"
       ]
      },
      {
       "output_type": "stream",
       "stream": "stdout",
       "text": [
        "Thread #0: \t80050000 read pairs finished. 1407 secs passed\r\n"
       ]
      },
      {
       "output_type": "stream",
       "stream": "stdout",
       "text": [
        "Thread #2: \t80100000 read pairs finished. 1408 secs passed\r\n"
       ]
      },
      {
       "output_type": "stream",
       "stream": "stdout",
       "text": [
        "Thread #1: \t80150000 read pairs finished. 1409 secs passed\r\n"
       ]
      },
      {
       "output_type": "stream",
       "stream": "stdout",
       "text": [
        "Thread #0: \t80200000 read pairs finished. 1409 secs passed\r\n"
       ]
      },
      {
       "output_type": "stream",
       "stream": "stdout",
       "text": [
        "Thread #2: \t80250000 read pairs finished. 1410 secs passed\r\n"
       ]
      },
      {
       "output_type": "stream",
       "stream": "stdout",
       "text": [
        "Thread #1: \t80300000 read pairs finished. 1411 secs passed\r\n"
       ]
      },
      {
       "output_type": "stream",
       "stream": "stdout",
       "text": [
        "Thread #0: \t80350000 read pairs finished. 1412 secs passed\r\n"
       ]
      },
      {
       "output_type": "stream",
       "stream": "stdout",
       "text": [
        "Thread #2: \t80400000 read pairs finished. 1413 secs passed\r\n"
       ]
      },
      {
       "output_type": "stream",
       "stream": "stdout",
       "text": [
        "Thread #1: \t80450000 read pairs finished. 1413 secs passed\r\n"
       ]
      },
      {
       "output_type": "stream",
       "stream": "stdout",
       "text": [
        "Thread #0: \t80500000 read pairs finished. 1414 secs passed\r\n"
       ]
      },
      {
       "output_type": "stream",
       "stream": "stdout",
       "text": [
        "Thread #2: \t80550000 read pairs finished. 1415 secs passed\r\n"
       ]
      },
      {
       "output_type": "stream",
       "stream": "stdout",
       "text": [
        "Thread #1: \t80600000 read pairs finished. 1416 secs passed\r\n"
       ]
      },
      {
       "output_type": "stream",
       "stream": "stdout",
       "text": [
        "Thread #0: \t80650000 read pairs finished. 1417 secs passed\r\n"
       ]
      },
      {
       "output_type": "stream",
       "stream": "stdout",
       "text": [
        "Thread #2: \t80700000 read pairs finished. 1418 secs passed\r\n"
       ]
      },
      {
       "output_type": "stream",
       "stream": "stdout",
       "text": [
        "Thread #1: \t80750000 read pairs finished. 1419 secs passed\r\n"
       ]
      },
      {
       "output_type": "stream",
       "stream": "stdout",
       "text": [
        "Thread #0: \t80800000 read pairs finished. 1419 secs passed\r\n"
       ]
      },
      {
       "output_type": "stream",
       "stream": "stdout",
       "text": [
        "Thread #2: \t80850000 read pairs finished. 1420 secs passed\r\n"
       ]
      },
      {
       "output_type": "stream",
       "stream": "stdout",
       "text": [
        "Thread #1: \t80900000 read pairs finished. 1421 secs passed\r\n"
       ]
      },
      {
       "output_type": "stream",
       "stream": "stdout",
       "text": [
        "Thread #0: \t80950000 read pairs finished. 1422 secs passed\r\n"
       ]
      },
      {
       "output_type": "stream",
       "stream": "stdout",
       "text": [
        "Thread #2: \t81000000 read pairs finished. 1423 secs passed\r\n"
       ]
      },
      {
       "output_type": "stream",
       "stream": "stdout",
       "text": [
        "Thread #1: \t81050000 read pairs finished. 1424 secs passed\r\n"
       ]
      },
      {
       "output_type": "stream",
       "stream": "stdout",
       "text": [
        "Thread #0: \t81100000 read pairs finished. 1425 secs passed\r\n"
       ]
      },
      {
       "output_type": "stream",
       "stream": "stdout",
       "text": [
        "Thread #2: \t81150000 read pairs finished. 1425 secs passed\r\n"
       ]
      },
      {
       "output_type": "stream",
       "stream": "stdout",
       "text": [
        "Thread #1: \t81200000 read pairs finished. 1426 secs passed\r\n"
       ]
      },
      {
       "output_type": "stream",
       "stream": "stdout",
       "text": [
        "Thread #0: \t81250000 read pairs finished. 1427 secs passed\r\n"
       ]
      },
      {
       "output_type": "stream",
       "stream": "stdout",
       "text": [
        "Thread #2: \t81300000 read pairs finished. 1428 secs passed\r\n"
       ]
      },
      {
       "output_type": "stream",
       "stream": "stdout",
       "text": [
        "Thread #1: \t81350000 read pairs finished. 1429 secs passed\r\n"
       ]
      },
      {
       "output_type": "stream",
       "stream": "stdout",
       "text": [
        "Thread #0: \t81400000 read pairs finished. 1430 secs passed\r\n"
       ]
      },
      {
       "output_type": "stream",
       "stream": "stdout",
       "text": [
        "Thread #2: \t81450000 read pairs finished. 1431 secs passed\r\n"
       ]
      },
      {
       "output_type": "stream",
       "stream": "stdout",
       "text": [
        "Thread #1: \t81500000 read pairs finished. 1432 secs passed\r\n"
       ]
      },
      {
       "output_type": "stream",
       "stream": "stdout",
       "text": [
        "Thread #0: \t81550000 read pairs finished. 1433 secs passed\r\n"
       ]
      },
      {
       "output_type": "stream",
       "stream": "stdout",
       "text": [
        "Thread #2: \t81600000 read pairs finished. 1434 secs passed\r\n"
       ]
      },
      {
       "output_type": "stream",
       "stream": "stdout",
       "text": [
        "Thread #1: \t81650000 read pairs finished. 1435 secs passed\r\n"
       ]
      },
      {
       "output_type": "stream",
       "stream": "stdout",
       "text": [
        "Thread #0: \t81700000 read pairs finished. 1436 secs passed\r\n"
       ]
      },
      {
       "output_type": "stream",
       "stream": "stdout",
       "text": [
        "Thread #2: \t81750000 read pairs finished. 1436 secs passed\r\n"
       ]
      },
      {
       "output_type": "stream",
       "stream": "stdout",
       "text": [
        "Thread #1: \t81800000 read pairs finished. 1437 secs passed\r\n"
       ]
      },
      {
       "output_type": "stream",
       "stream": "stdout",
       "text": [
        "Thread #0: \t81850000 read pairs finished. 1439 secs passed\r\n"
       ]
      },
      {
       "output_type": "stream",
       "stream": "stdout",
       "text": [
        "Thread #2: \t81900000 read pairs finished. 1439 secs passed\r\n"
       ]
      },
      {
       "output_type": "stream",
       "stream": "stdout",
       "text": [
        "Thread #1: \t81950000 read pairs finished. 1440 secs passed\r\n"
       ]
      },
      {
       "output_type": "stream",
       "stream": "stdout",
       "text": [
        "Thread #0: \t82000000 read pairs finished. 1441 secs passed\r\n"
       ]
      },
      {
       "output_type": "stream",
       "stream": "stdout",
       "text": [
        "Thread #2: \t82050000 read pairs finished. 1442 secs passed\r\n"
       ]
      },
      {
       "output_type": "stream",
       "stream": "stdout",
       "text": [
        "Thread #1: \t82100000 read pairs finished. 1443 secs passed\r\n"
       ]
      },
      {
       "output_type": "stream",
       "stream": "stdout",
       "text": [
        "Thread #0: \t82150000 read pairs finished. 1444 secs passed\r\n"
       ]
      },
      {
       "output_type": "stream",
       "stream": "stdout",
       "text": [
        "Thread #2: \t82200000 read pairs finished. 1445 secs passed\r\n"
       ]
      },
      {
       "output_type": "stream",
       "stream": "stdout",
       "text": [
        "Thread #1: \t82250000 read pairs finished. 1445 secs passed\r\n"
       ]
      },
      {
       "output_type": "stream",
       "stream": "stdout",
       "text": [
        "Thread #0: \t82300000 read pairs finished. 1446 secs passed\r\n"
       ]
      },
      {
       "output_type": "stream",
       "stream": "stdout",
       "text": [
        "Thread #2: \t82350000 read pairs finished. 1447 secs passed\r\n"
       ]
      },
      {
       "output_type": "stream",
       "stream": "stdout",
       "text": [
        "Thread #1: \t82400000 read pairs finished. 1448 secs passed\r\n"
       ]
      },
      {
       "output_type": "stream",
       "stream": "stdout",
       "text": [
        "Thread #0: \t82450000 read pairs finished. 1449 secs passed\r\n"
       ]
      },
      {
       "output_type": "stream",
       "stream": "stdout",
       "text": [
        "Thread #2: \t82500000 read pairs finished. 1450 secs passed\r\n"
       ]
      },
      {
       "output_type": "stream",
       "stream": "stdout",
       "text": [
        "Thread #1: \t82550000 read pairs finished. 1450 secs passed\r\n"
       ]
      },
      {
       "output_type": "stream",
       "stream": "stdout",
       "text": [
        "Thread #0: \t82600000 read pairs finished. 1451 secs passed\r\n"
       ]
      },
      {
       "output_type": "stream",
       "stream": "stdout",
       "text": [
        "Thread #2: \t82650000 read pairs finished. 1452 secs passed\r\n"
       ]
      },
      {
       "output_type": "stream",
       "stream": "stdout",
       "text": [
        "Thread #1: \t82700000 read pairs finished. 1453 secs passed\r\n"
       ]
      },
      {
       "output_type": "stream",
       "stream": "stdout",
       "text": [
        "Thread #0: \t82750000 read pairs finished. 1454 secs passed\r\n"
       ]
      },
      {
       "output_type": "stream",
       "stream": "stdout",
       "text": [
        "Thread #2: \t82800000 read pairs finished. 1454 secs passed\r\n"
       ]
      },
      {
       "output_type": "stream",
       "stream": "stdout",
       "text": [
        "Thread #1: \t82850000 read pairs finished. 1455 secs passed\r\n"
       ]
      },
      {
       "output_type": "stream",
       "stream": "stdout",
       "text": [
        "Thread #0: \t82900000 read pairs finished. 1456 secs passed\r\n"
       ]
      },
      {
       "output_type": "stream",
       "stream": "stdout",
       "text": [
        "Thread #2: \t82950000 read pairs finished. 1457 secs passed\r\n"
       ]
      },
      {
       "output_type": "stream",
       "stream": "stdout",
       "text": [
        "Thread #1: \t83000000 read pairs finished. 1457 secs passed\r\n"
       ]
      },
      {
       "output_type": "stream",
       "stream": "stdout",
       "text": [
        "Thread #0: \t83050000 read pairs finished. 1458 secs passed\r\n"
       ]
      },
      {
       "output_type": "stream",
       "stream": "stdout",
       "text": [
        "Thread #2: \t83100000 read pairs finished. 1459 secs passed\r\n"
       ]
      },
      {
       "output_type": "stream",
       "stream": "stdout",
       "text": [
        "Thread #1: \t83150000 read pairs finished. 1460 secs passed\r\n"
       ]
      },
      {
       "output_type": "stream",
       "stream": "stdout",
       "text": [
        "Thread #0: \t83200000 read pairs finished. 1461 secs passed\r\n"
       ]
      },
      {
       "output_type": "stream",
       "stream": "stdout",
       "text": [
        "Thread #2: \t83250000 read pairs finished. 1461 secs passed\r\n"
       ]
      },
      {
       "output_type": "stream",
       "stream": "stdout",
       "text": [
        "Thread #1: \t83300000 read pairs finished. 1462 secs passed\r\n"
       ]
      },
      {
       "output_type": "stream",
       "stream": "stdout",
       "text": [
        "Thread #"
       ]
      },
      {
       "output_type": "stream",
       "stream": "stdout",
       "text": [
        "0: \t83350000 read pairs finished. 1464 secs passed\r\n"
       ]
      },
      {
       "output_type": "stream",
       "stream": "stdout",
       "text": [
        "Thread #2: \t83400000 read pairs finished. 1465 secs passed\r\n"
       ]
      },
      {
       "output_type": "stream",
       "stream": "stdout",
       "text": [
        "Thread #1: \t83450000 read pairs finished. 1466 secs passed\r\n"
       ]
      },
      {
       "output_type": "stream",
       "stream": "stdout",
       "text": [
        "Thread #0: \t83500000 read pairs finished. 1467 secs passed\r\n"
       ]
      },
      {
       "output_type": "stream",
       "stream": "stdout",
       "text": [
        "Thread #2: \t83550000 read pairs finished. 1467 secs passed\r\n"
       ]
      },
      {
       "output_type": "stream",
       "stream": "stdout",
       "text": [
        "Thread #1: \t83600000 read pairs finished. 1468 secs passed\r\n"
       ]
      },
      {
       "output_type": "stream",
       "stream": "stdout",
       "text": [
        "Thread #0: \t83650000 read pairs finished. 1469 secs passed\r\n"
       ]
      },
      {
       "output_type": "stream",
       "stream": "stdout",
       "text": [
        "Thread #2: \t83700000 read pairs finished. 1470 secs passed\r\n"
       ]
      },
      {
       "output_type": "stream",
       "stream": "stdout",
       "text": [
        "Thread #1: \t83750000 read pairs finished. 1471 secs passed\r\n"
       ]
      },
      {
       "output_type": "stream",
       "stream": "stdout",
       "text": [
        "Thread #0: \t83800000 read pairs finished. 1471 secs passed\r\n"
       ]
      },
      {
       "output_type": "stream",
       "stream": "stdout",
       "text": [
        "Thread #2: \t83850000 read pairs finished. 1472 secs passed\r\n"
       ]
      },
      {
       "output_type": "stream",
       "stream": "stdout",
       "text": [
        "Thread #1: \t83900000 read pairs finished. 1473 secs passed\r\n"
       ]
      },
      {
       "output_type": "stream",
       "stream": "stdout",
       "text": [
        "Thread #0: \t83950000 read pairs finished. 1474 secs passed\r\n"
       ]
      },
      {
       "output_type": "stream",
       "stream": "stdout",
       "text": [
        "Thread #2: \t84000000 read pairs finished. 1475 secs passed\r\n"
       ]
      },
      {
       "output_type": "stream",
       "stream": "stdout",
       "text": [
        "Thread #1: \t84050000 read pairs finished. 1475 secs passed\r\n"
       ]
      },
      {
       "output_type": "stream",
       "stream": "stdout",
       "text": [
        "Thread #0: \t84100000 read pairs finished. 1476 secs passed\r\n"
       ]
      },
      {
       "output_type": "stream",
       "stream": "stdout",
       "text": [
        "Thread #2: \t84150000 read pairs finished. 1477 secs passed\r\n"
       ]
      },
      {
       "output_type": "stream",
       "stream": "stdout",
       "text": [
        "Thread #1: \t84200000 read pairs finished. 1478 secs passed\r\n"
       ]
      },
      {
       "output_type": "stream",
       "stream": "stdout",
       "text": [
        "Thread #0: \t84250000 read pairs finished. 1478 secs passed\r\n"
       ]
      },
      {
       "output_type": "stream",
       "stream": "stdout",
       "text": [
        "Thread #2: \t84300000 read pairs finished. 1479 secs passed\r\n"
       ]
      },
      {
       "output_type": "stream",
       "stream": "stdout",
       "text": [
        "Thread #1: \t84350000 read pairs finished. 1480 secs passed\r\n"
       ]
      },
      {
       "output_type": "stream",
       "stream": "stdout",
       "text": [
        "Thread #0: \t84400000 read pairs finished. 1481 secs passed\r\n"
       ]
      },
      {
       "output_type": "stream",
       "stream": "stdout",
       "text": [
        "Thread #2: \t84450000 read pairs finished. 1482 secs passed\r\n"
       ]
      },
      {
       "output_type": "stream",
       "stream": "stdout",
       "text": [
        "Thread #1: \t84500000 read pairs finished. 1483 secs passed\r\n"
       ]
      },
      {
       "output_type": "stream",
       "stream": "stdout",
       "text": [
        "Thread #0: \t84550000 read pairs finished. 1484 secs passed\r\n"
       ]
      },
      {
       "output_type": "stream",
       "stream": "stdout",
       "text": [
        "Thread #2: \t84600000 read pairs finished. 1485 secs passed\r\n"
       ]
      },
      {
       "output_type": "stream",
       "stream": "stdout",
       "text": [
        "Thread #1: \t84650000 read pairs finished. 1486 secs passed\r\n"
       ]
      },
      {
       "output_type": "stream",
       "stream": "stdout",
       "text": [
        "Thread #0: \t84700000 read pairs finished. 1487 secs passed\r\n"
       ]
      },
      {
       "output_type": "stream",
       "stream": "stdout",
       "text": [
        "Thread #2: \t84750000 read pairs finished. 1488 secs passed\r\n"
       ]
      },
      {
       "output_type": "stream",
       "stream": "stdout",
       "text": [
        "Thread #1: \t84800000 read pairs finished. 1488 secs passed\r\n"
       ]
      },
      {
       "output_type": "stream",
       "stream": "stdout",
       "text": [
        "Thread #0: \t84850000 read pairs finished. 1489 secs passed\r\n"
       ]
      },
      {
       "output_type": "stream",
       "stream": "stdout",
       "text": [
        "Thread #2: \t84900000 read pairs finished. 1490 secs passed\r\n"
       ]
      },
      {
       "output_type": "stream",
       "stream": "stdout",
       "text": [
        "Thread #1: \t84950000 read pairs finished. 1491 secs passed\r\n"
       ]
      },
      {
       "output_type": "stream",
       "stream": "stdout",
       "text": [
        "Thread #0: \t85000000 read pairs finished. 1492 secs passed\r\n"
       ]
      },
      {
       "output_type": "stream",
       "stream": "stdout",
       "text": [
        "Thread #2: \t85050000 read pairs finished. 1493 secs passed\r\n"
       ]
      },
      {
       "output_type": "stream",
       "stream": "stdout",
       "text": [
        "Thread #1: \t85100000 read pairs finished. 1493 secs passed\r\n"
       ]
      },
      {
       "output_type": "stream",
       "stream": "stdout",
       "text": [
        "Thread #0: \t85150000 read pairs finished. 1494 secs passed\r\n"
       ]
      },
      {
       "output_type": "stream",
       "stream": "stdout",
       "text": [
        "Thread #2: \t85200000 read pairs finished. 1495 secs passed\r\n"
       ]
      },
      {
       "output_type": "stream",
       "stream": "stdout",
       "text": [
        "Thread #1: \t85250000 read pairs finished. 1496 secs passed\r\n"
       ]
      },
      {
       "output_type": "stream",
       "stream": "stdout",
       "text": [
        "Thread #0: \t85300000 read pairs finished. 1496 secs passed\r\n"
       ]
      },
      {
       "output_type": "stream",
       "stream": "stdout",
       "text": [
        "Thread #2: \t85350000 read pairs finished. 1497 secs passed\r\n"
       ]
      },
      {
       "output_type": "stream",
       "stream": "stdout",
       "text": [
        "Thread #1: \t85400000 read pairs finished. 1498 secs passed\r\n"
       ]
      },
      {
       "output_type": "stream",
       "stream": "stdout",
       "text": [
        "Thread #0: \t85450000 read pairs finished. 1499 secs passed\r\n"
       ]
      },
      {
       "output_type": "stream",
       "stream": "stdout",
       "text": [
        "Thread #2: \t85500000 read pairs finished. 1500 secs passed\r\n"
       ]
      },
      {
       "output_type": "stream",
       "stream": "stdout",
       "text": [
        "Thread #1: \t85550000 read pairs finished. 1500 secs passed\r\n"
       ]
      },
      {
       "output_type": "stream",
       "stream": "stdout",
       "text": [
        "Thread #0: \t85600000 read pairs finished. 1501 secs passed\r\n"
       ]
      },
      {
       "output_type": "stream",
       "stream": "stdout",
       "text": [
        "Thread #2: \t85650000 read pairs finished. 1502 secs passed\r\n"
       ]
      },
      {
       "output_type": "stream",
       "stream": "stdout",
       "text": [
        "Thread #1: \t85700000 read pairs finished. 1503 secs passed\r\n"
       ]
      },
      {
       "output_type": "stream",
       "stream": "stdout",
       "text": [
        "Thread #0: \t85750000 read pairs finished. 1504 secs passed\r\n"
       ]
      },
      {
       "output_type": "stream",
       "stream": "stdout",
       "text": [
        "Thread #2: \t85800000 read pairs finished. 1504 secs passed\r\n"
       ]
      },
      {
       "output_type": "stream",
       "stream": "stdout",
       "text": [
        "Thread #1: \t85850000 read pairs finished. 1505 secs passed\r\n"
       ]
      },
      {
       "output_type": "stream",
       "stream": "stdout",
       "text": [
        "Thread #0: \t85900000 read pairs finished. 1506 secs passed\r\n"
       ]
      },
      {
       "output_type": "stream",
       "stream": "stdout",
       "text": [
        "Thread #2: \t85950000 read pairs finished. 1507 secs passed\r\n"
       ]
      },
      {
       "output_type": "stream",
       "stream": "stdout",
       "text": [
        "Thread #1: \t86000000 read pairs finished. 1508 secs passed\r\n"
       ]
      },
      {
       "output_type": "stream",
       "stream": "stdout",
       "text": [
        "Thread #0: \t86050000 read pairs finished. 1508 secs passed\r\n"
       ]
      },
      {
       "output_type": "stream",
       "stream": "stdout",
       "text": [
        "Thread #2: \t86100000 read pairs finished. 1509 secs passed\r\n"
       ]
      },
      {
       "output_type": "stream",
       "stream": "stdout",
       "text": [
        "Thread #1: \t86150000 read pairs finished. 1510 secs passed\r\n"
       ]
      },
      {
       "output_type": "stream",
       "stream": "stdout",
       "text": [
        "Thread #0: \t86200000 read pairs finished. 1511 secs passed\r\n"
       ]
      },
      {
       "output_type": "stream",
       "stream": "stdout",
       "text": [
        "Thread #2: \t86250000 read pairs finished. 1511 secs passed\r\n"
       ]
      },
      {
       "output_type": "stream",
       "stream": "stdout",
       "text": [
        "Thread #1: \t86300000 read pairs finished. 1513 secs passed\r\n"
       ]
      },
      {
       "output_type": "stream",
       "stream": "stdout",
       "text": [
        "Thread #0: \t86350000 read pairs finished. 1513 secs passed\r\n"
       ]
      },
      {
       "output_type": "stream",
       "stream": "stdout",
       "text": [
        "Thread #2: \t86400000 read pairs finished. 1514 secs passed\r\n"
       ]
      },
      {
       "output_type": "stream",
       "stream": "stdout",
       "text": [
        "Thread #1: \t86450000 read pairs finished. 1515 secs passed\r\n"
       ]
      },
      {
       "output_type": "stream",
       "stream": "stdout",
       "text": [
        "Thread #0: \t86500000 read pairs finished. 1516 secs passed\r\n"
       ]
      },
      {
       "output_type": "stream",
       "stream": "stdout",
       "text": [
        "Thread #2: \t86550000 read pairs finished. 1517 secs passed\r\n"
       ]
      },
      {
       "output_type": "stream",
       "stream": "stdout",
       "text": [
        "Thread #1: \t86600000 read pairs finished. 1518 secs passed\r\n"
       ]
      },
      {
       "output_type": "stream",
       "stream": "stdout",
       "text": [
        "Thread #0: \t86650000 read pairs finished. 1518 secs passed\r\n"
       ]
      },
      {
       "output_type": "stream",
       "stream": "stdout",
       "text": [
        "Thread #2: \t86700000 read pairs finished. 1519 secs passed\r\n"
       ]
      },
      {
       "output_type": "stream",
       "stream": "stdout",
       "text": [
        "Thread #1: \t86750000 read pairs finished. 1520 secs passed\r\n"
       ]
      },
      {
       "output_type": "stream",
       "stream": "stdout",
       "text": [
        "Thread #0: \t86800000 read pairs finished. 1521 secs passed\r\n"
       ]
      },
      {
       "output_type": "stream",
       "stream": "stdout",
       "text": [
        "Thread #2: \t86850000 read pairs finished. 1522 secs passed\r\n"
       ]
      },
      {
       "output_type": "stream",
       "stream": "stdout",
       "text": [
        "Thread #1: \t86900000 read pairs finished. 1523 secs passed\r\n"
       ]
      },
      {
       "output_type": "stream",
       "stream": "stdout",
       "text": [
        "Thread #0: \t86950000 read pairs finished. 1524 secs passed\r\n"
       ]
      },
      {
       "output_type": "stream",
       "stream": "stdout",
       "text": [
        "Thread #2: \t87000000 read pairs finished. 1524 secs passed\r\n"
       ]
      },
      {
       "output_type": "stream",
       "stream": "stdout",
       "text": [
        "Thread #1: \t87050000 read pairs finished. 1525 secs passed\r\n"
       ]
      },
      {
       "output_type": "stream",
       "stream": "stdout",
       "text": [
        "Thread #0: \t87100000 read pairs finished. 1526 secs passed\r\n"
       ]
      },
      {
       "output_type": "stream",
       "stream": "stdout",
       "text": [
        "Thread #2: \t87150000 read pairs finished. 1527 secs passed\r\n"
       ]
      },
      {
       "output_type": "stream",
       "stream": "stdout",
       "text": [
        "Thread #1: \t87200000 read pairs finished. 1528 secs passed\r\n"
       ]
      },
      {
       "output_type": "stream",
       "stream": "stdout",
       "text": [
        "Thread #0: \t87250000 read pairs finished. 1529 secs passed\r\n"
       ]
      },
      {
       "output_type": "stream",
       "stream": "stdout",
       "text": [
        "Thread #2: \t87300000 read pairs finished. 1530 secs passed\r\n"
       ]
      },
      {
       "output_type": "stream",
       "stream": "stdout",
       "text": [
        "Thread #1: \t87350000 read pairs finished. 1530 secs passed\r\n"
       ]
      },
      {
       "output_type": "stream",
       "stream": "stdout",
       "text": [
        "Thread #0: \t87400000 read pairs finished. 1531 secs passed\r\n"
       ]
      },
      {
       "output_type": "stream",
       "stream": "stdout",
       "text": [
        "Thread #2: \t87450000 read pairs finished. 1532 secs passed\r\n"
       ]
      },
      {
       "output_type": "stream",
       "stream": "stdout",
       "text": [
        "Thread #1: \t87500000 read pairs finished. 1533 secs passed\r\n"
       ]
      },
      {
       "output_type": "stream",
       "stream": "stdout",
       "text": [
        "Thread #0: \t87550000 read pairs finished. 1534 secs passed\r\n"
       ]
      },
      {
       "output_type": "stream",
       "stream": "stdout",
       "text": [
        "Thread #2: \t87600000 read pairs finished. 1534 secs passed\r\n"
       ]
      },
      {
       "output_type": "stream",
       "stream": "stdout",
       "text": [
        "Thread #1: \t87650000 read pairs finished. 1535 secs passed\r\n"
       ]
      },
      {
       "output_type": "stream",
       "stream": "stdout",
       "text": [
        "Thread #0: \t87700000 read pairs finished. 1536 secs passed\r\n"
       ]
      },
      {
       "output_type": "stream",
       "stream": "stdout",
       "text": [
        "Thread #2: \t87750000 read pairs finished. 1537 secs passed\r\n"
       ]
      },
      {
       "output_type": "stream",
       "stream": "stdout",
       "text": [
        "Thread #1: \t87800000 read pairs finished. 1538 secs passed\r\n"
       ]
      },
      {
       "output_type": "stream",
       "stream": "stdout",
       "text": [
        "Thread #0: \t87850000 read pairs finished. 1538 secs passed\r\n"
       ]
      },
      {
       "output_type": "stream",
       "stream": "stdout",
       "text": [
        "Thread #2: \t87900000 read pairs finished. 1539 secs passed\r\n"
       ]
      },
      {
       "output_type": "stream",
       "stream": "stdout",
       "text": [
        "Thread #1: \t87950000 read pairs finished. 1540 secs passed\r\n"
       ]
      },
      {
       "output_type": "stream",
       "stream": "stdout",
       "text": [
        "Thread #0: \t88000000 read pairs finished. 1541 secs passed\r\n"
       ]
      },
      {
       "output_type": "stream",
       "stream": "stdout",
       "text": [
        "Thread #2: \t88050000 read pairs finished. 1542 secs passed\r\n"
       ]
      },
      {
       "output_type": "stream",
       "stream": "stdout",
       "text": [
        "Thread #1: \t88100000 read pairs finished. 1543 secs passed\r\n"
       ]
      },
      {
       "output_type": "stream",
       "stream": "stdout",
       "text": [
        "Thread #0: \t88150000 read pairs finished. 1543 secs passed\r\n"
       ]
      },
      {
       "output_type": "stream",
       "stream": "stdout",
       "text": [
        "Thread #2: \t88200000 read pairs finished. 1544 secs passed\r\n"
       ]
      },
      {
       "output_type": "stream",
       "stream": "stdout",
       "text": [
        "Thread #1: \t88250000 read pairs finished. 1545 secs passed\r\n"
       ]
      },
      {
       "output_type": "stream",
       "stream": "stdout",
       "text": [
        "Thread #0: \t88300000 read pairs finished. 1546 secs passed\r\n"
       ]
      },
      {
       "output_type": "stream",
       "stream": "stdout",
       "text": [
        "Thread #2: \t88350000 read pairs finished. 1547 secs passed\r\n"
       ]
      },
      {
       "output_type": "stream",
       "stream": "stdout",
       "text": [
        "Thread #1: \t88400000 read pairs finished. 1548 secs passed\r\n"
       ]
      },
      {
       "output_type": "stream",
       "stream": "stdout",
       "text": [
        "Thread #0: \t88450000 read pairs finished. 1548 secs passed\r\n"
       ]
      },
      {
       "output_type": "stream",
       "stream": "stdout",
       "text": [
        "Thread #2: \t88500000 read pairs finished. 1549 secs passed\r\n"
       ]
      },
      {
       "output_type": "stream",
       "stream": "stdout",
       "text": [
        "Thread #1: \t88550000 read pairs finished. 1550 secs passed\r\n"
       ]
      },
      {
       "output_type": "stream",
       "stream": "stdout",
       "text": [
        "Thread #0: \t88600000 read pairs finished. 1551 secs passed\r\n"
       ]
      },
      {
       "output_type": "stream",
       "stream": "stdout",
       "text": [
        "Thread #2: \t88650000 read pairs finished. 1552 secs passed\r\n"
       ]
      },
      {
       "output_type": "stream",
       "stream": "stdout",
       "text": [
        "Thread #1: \t88700000 read pairs finished. 1552 secs passed\r\n"
       ]
      },
      {
       "output_type": "stream",
       "stream": "stdout",
       "text": [
        "Thread #0: \t88750000 read pairs finished. 1554 secs passed\r\n"
       ]
      },
      {
       "output_type": "stream",
       "stream": "stdout",
       "text": [
        "Thread #2: \t88800000 read pairs finished. 1554 secs passed\r\n"
       ]
      },
      {
       "output_type": "stream",
       "stream": "stdout",
       "text": [
        "Thread #1: \t88850000 read pairs finished. 1555 secs passed\r\n"
       ]
      },
      {
       "output_type": "stream",
       "stream": "stdout",
       "text": [
        "Thread #0: \t88900000 read pairs finished. 1556 secs passed\r\n"
       ]
      },
      {
       "output_type": "stream",
       "stream": "stdout",
       "text": [
        "Thread #2: \t88950000 read pairs finished. 1557 secs passed\r\n"
       ]
      },
      {
       "output_type": "stream",
       "stream": "stdout",
       "text": [
        "Thread #1: \t89000000 read pairs finished. 1558 secs passed\r\n"
       ]
      },
      {
       "output_type": "stream",
       "stream": "stdout",
       "text": [
        "Thread #0: \t89050000 read pairs finished. 1558 secs passed\r\n"
       ]
      },
      {
       "output_type": "stream",
       "stream": "stdout",
       "text": [
        "Thread #2: \t89100000 read pairs finished. 1559 secs passed\r\n"
       ]
      },
      {
       "output_type": "stream",
       "stream": "stdout",
       "text": [
        "Thread #1: \t89150000 read pairs finished. 1560 secs passed\r\n"
       ]
      },
      {
       "output_type": "stream",
       "stream": "stdout",
       "text": [
        "Thread #0: \t89200000 read pairs finished. 1561 secs passed\r\n"
       ]
      },
      {
       "output_type": "stream",
       "stream": "stdout",
       "text": [
        "Thread #2: \t89250000 read pairs finished. 1562 secs passed\r\n"
       ]
      },
      {
       "output_type": "stream",
       "stream": "stdout",
       "text": [
        "Thread #1: \t89300000 read pairs finished. 1563 secs passed\r\n"
       ]
      },
      {
       "output_type": "stream",
       "stream": "stdout",
       "text": [
        "Thread #0: \t89350000 read pairs finished. 1564 secs passed\r\n"
       ]
      },
      {
       "output_type": "stream",
       "stream": "stdout",
       "text": [
        "Thread #2: \t89400000 read pairs finished. 1564 secs passed\r\n"
       ]
      },
      {
       "output_type": "stream",
       "stream": "stdout",
       "text": [
        "Thread #1: \t89450000 read pairs finished. 1565 secs passed\r\n"
       ]
      },
      {
       "output_type": "stream",
       "stream": "stdout",
       "text": [
        "Thread #0: \t89500000 read pairs finished. 1566 secs passed\r\n"
       ]
      },
      {
       "output_type": "stream",
       "stream": "stdout",
       "text": [
        "Thread #2: \t89550000 read pairs finished. 1567 secs passed\r\n"
       ]
      },
      {
       "output_type": "stream",
       "stream": "stdout",
       "text": [
        "Thread #1: \t89600000 read pairs finished. 1568 secs passed\r\n"
       ]
      },
      {
       "output_type": "stream",
       "stream": "stdout",
       "text": [
        "Thread #0: \t89650000 read pairs finished. 1568 secs passed\r\n"
       ]
      },
      {
       "output_type": "stream",
       "stream": "stdout",
       "text": [
        "Thread #2: \t89700000 read pairs finished. 1569 secs passed\r\n"
       ]
      },
      {
       "output_type": "stream",
       "stream": "stdout",
       "text": [
        "Thread #1: \t89750000 read pairs finished. 1570 secs passed\r\n"
       ]
      },
      {
       "output_type": "stream",
       "stream": "stdout",
       "text": [
        "Thread #0: \t89800000 read pairs finished. 1571 secs passed\r\n"
       ]
      },
      {
       "output_type": "stream",
       "stream": "stdout",
       "text": [
        "Thread #2: \t89850000 read pairs finished. 1572 secs passed\r\n"
       ]
      },
      {
       "output_type": "stream",
       "stream": "stdout",
       "text": [
        "Thread #1: \t89900000 read pairs finished. 1573 secs passed\r\n"
       ]
      },
      {
       "output_type": "stream",
       "stream": "stdout",
       "text": [
        "Thread #0: \t89950000 read pairs finished. 1574 secs passed\r\n"
       ]
      },
      {
       "output_type": "stream",
       "stream": "stdout",
       "text": [
        "Thread #2: \t90000000 read pairs finished. 1575 secs passed\r\n"
       ]
      },
      {
       "output_type": "stream",
       "stream": "stdout",
       "text": [
        "Thread #1: \t90050000 read pairs finished. 1575 secs passed\r\n"
       ]
      },
      {
       "output_type": "stream",
       "stream": "stdout",
       "text": [
        "Thread #0: \t90100000 read pairs finished. 1576 secs passed\r\n"
       ]
      },
      {
       "output_type": "stream",
       "stream": "stdout",
       "text": [
        "Thread #2: \t90150000 read pairs finished. 1577 secs passed\r\n"
       ]
      },
      {
       "output_type": "stream",
       "stream": "stdout",
       "text": [
        "Thread #1: \t90200000 read pairs finished. 1578 secs passed\r\n"
       ]
      },
      {
       "output_type": "stream",
       "stream": "stdout",
       "text": [
        "Thread #0: \t90250000 read pairs finished. 1579 secs passed\r\n"
       ]
      },
      {
       "output_type": "stream",
       "stream": "stdout",
       "text": [
        "Thread #2: \t90300000 read pairs finished. 1579 secs passed\r\n"
       ]
      },
      {
       "output_type": "stream",
       "stream": "stdout",
       "text": [
        "Thread #1: \t90350000 read pairs finished. 1580 secs passed\r\n"
       ]
      },
      {
       "output_type": "stream",
       "stream": "stdout",
       "text": [
        "Thread #0: \t90400000 read pairs finished. 1581 secs passed\r\n"
       ]
      },
      {
       "output_type": "stream",
       "stream": "stdout",
       "text": [
        "Thread #2: \t90450000 read pairs finished. 1582 secs passed\r\n"
       ]
      },
      {
       "output_type": "stream",
       "stream": "stdout",
       "text": [
        "Thread #1: \t90500000 read pairs finished. 1582 secs passed\r\n"
       ]
      },
      {
       "output_type": "stream",
       "stream": "stdout",
       "text": [
        "Thread #0: \t90550000 read pairs finished. 1583 secs passed\r\n"
       ]
      },
      {
       "output_type": "stream",
       "stream": "stdout",
       "text": [
        "Thread #2: \t90600000 read pairs finished. 1584 secs passed\r\n"
       ]
      },
      {
       "output_type": "stream",
       "stream": "stdout",
       "text": [
        "Thread #1: \t90650000 read pairs finished. 1585 secs passed\r\n"
       ]
      },
      {
       "output_type": "stream",
       "stream": "stdout",
       "text": [
        "Thread #0: \t90700000 read pairs finished. 1586 secs passed\r\n"
       ]
      },
      {
       "output_type": "stream",
       "stream": "stdout",
       "text": [
        "Thread #2: \t90750000 read pairs finished. 1587 secs passed\r\n"
       ]
      },
      {
       "output_type": "stream",
       "stream": "stdout",
       "text": [
        "Thread #1: \t90800000 read pairs finished. 1588 secs passed\r\n"
       ]
      },
      {
       "output_type": "stream",
       "stream": "stdout",
       "text": [
        "Thread #0: \t90850000 read pairs finished. 1588 secs passed\r\n"
       ]
      },
      {
       "output_type": "stream",
       "stream": "stdout",
       "text": [
        "Thread #2: \t90900000 read pairs finished. 1589 secs passed\r\n"
       ]
      },
      {
       "output_type": "stream",
       "stream": "stdout",
       "text": [
        "Thread #1: \t90950000 read pairs finished. 1590 secs passed\r\n"
       ]
      },
      {
       "output_type": "stream",
       "stream": "stdout",
       "text": [
        "Thread #0: \t91000000 read pairs finished. 1591 secs passed\r\n"
       ]
      },
      {
       "output_type": "stream",
       "stream": "stdout",
       "text": [
        "Thread #2: \t91050000 read pairs finished. 1592 secs passed\r\n"
       ]
      },
      {
       "output_type": "stream",
       "stream": "stdout",
       "text": [
        "Thread #1: \t91100000 read pairs finished. 1592 secs passed\r\n"
       ]
      },
      {
       "output_type": "stream",
       "stream": "stdout",
       "text": [
        "Thread #0: \t91150000 read pairs finished. 1594 secs passed\r\n"
       ]
      },
      {
       "output_type": "stream",
       "stream": "stdout",
       "text": [
        "Thread #2: \t91200000 read pairs finished. 1595 secs passed\r\n"
       ]
      },
      {
       "output_type": "stream",
       "stream": "stdout",
       "text": [
        "Thread #1: \t91250000 read pairs finished. 1595 secs passed\r\n"
       ]
      },
      {
       "output_type": "stream",
       "stream": "stdout",
       "text": [
        "Thread #0: \t91300000 read pairs finished. 1596 secs passed\r\n"
       ]
      },
      {
       "output_type": "stream",
       "stream": "stdout",
       "text": [
        "Thread #2: \t91350000 read pairs finished. 1597 secs passed\r\n"
       ]
      },
      {
       "output_type": "stream",
       "stream": "stdout",
       "text": [
        "Thread #1: \t91400000 read pairs finished. 1598 secs passed\r\n"
       ]
      },
      {
       "output_type": "stream",
       "stream": "stdout",
       "text": [
        "Thread #0: \t91450000 read pairs finished. 1598 secs passed\r\n"
       ]
      },
      {
       "output_type": "stream",
       "stream": "stdout",
       "text": [
        "Thread #2: \t91500000 read pairs finished. 1599 secs passed\r\n"
       ]
      },
      {
       "output_type": "stream",
       "stream": "stdout",
       "text": [
        "Thread #1: \t91550000 read pairs finished. 1600 secs passed\r\n"
       ]
      },
      {
       "output_type": "stream",
       "stream": "stdout",
       "text": [
        "Thread #0: \t91600000 read pairs finished. 1601 secs passed\r\n"
       ]
      },
      {
       "output_type": "stream",
       "stream": "stdout",
       "text": [
        "Thread #2: \t91650000 read pairs finished. 1602 secs passed\r\n"
       ]
      },
      {
       "output_type": "stream",
       "stream": "stdout",
       "text": [
        "Thread #1: \t91700000 read pairs finished. 1603 secs passed\r\n"
       ]
      },
      {
       "output_type": "stream",
       "stream": "stdout",
       "text": [
        "Thread #0: \t91750000 read pairs finished. 1603 secs passed\r\n"
       ]
      },
      {
       "output_type": "stream",
       "stream": "stdout",
       "text": [
        "Thread #2: \t91800000 read pairs finished. 1605 secs passed\r\n"
       ]
      },
      {
       "output_type": "stream",
       "stream": "stdout",
       "text": [
        "Thread #1: \t91850000 read pairs finished. 1605 secs passed\r\n"
       ]
      },
      {
       "output_type": "stream",
       "stream": "stdout",
       "text": [
        "Thread #0: \t91900000 read pairs finished. 1606 secs passed\r\n"
       ]
      },
      {
       "output_type": "stream",
       "stream": "stdout",
       "text": [
        "Thread #2: \t91950000 read pairs finished. 1607 secs passed\r\n"
       ]
      },
      {
       "output_type": "stream",
       "stream": "stdout",
       "text": [
        "Thread #1: \t92000000 read pairs finished. 1608 secs passed\r\n"
       ]
      },
      {
       "output_type": "stream",
       "stream": "stdout",
       "text": [
        "Thread #0: \t92050000 read pairs finished. 1609 secs passed\r\n"
       ]
      },
      {
       "output_type": "stream",
       "stream": "stdout",
       "text": [
        "Thread #2: \t92100000 read pairs finished. 1610 secs passed\r\n"
       ]
      },
      {
       "output_type": "stream",
       "stream": "stdout",
       "text": [
        "Thread #1: \t92150000 read pairs finished. 1611 secs passed\r\n"
       ]
      },
      {
       "output_type": "stream",
       "stream": "stdout",
       "text": [
        "Thread #0: \t92200000 read pairs finished. 1611 secs passed\r\n"
       ]
      },
      {
       "output_type": "stream",
       "stream": "stdout",
       "text": [
        "Thread #2: \t92250000 read pairs finished. 1612 secs passed\r\n"
       ]
      },
      {
       "output_type": "stream",
       "stream": "stdout",
       "text": [
        "Thread #1: \t92300000 read pairs finished. 1613 secs passed\r\n"
       ]
      },
      {
       "output_type": "stream",
       "stream": "stdout",
       "text": [
        "Thread #0: \t92350000 read pairs finished. 1614 secs passed\r\n"
       ]
      },
      {
       "output_type": "stream",
       "stream": "stdout",
       "text": [
        "Thread #2: \t92400000 read pairs finished. 1615 secs passed\r\n"
       ]
      },
      {
       "output_type": "stream",
       "stream": "stdout",
       "text": [
        "Thread #1: \t92450000 read pairs finished. 1616 secs passed\r\n"
       ]
      },
      {
       "output_type": "stream",
       "stream": "stdout",
       "text": [
        "Thread #0: \t92500000 read pairs finished. 1616 secs passed\r\n"
       ]
      },
      {
       "output_type": "stream",
       "stream": "stdout",
       "text": [
        "Thread #2: \t92550000 read pairs finished. 1617 secs passed\r\n"
       ]
      },
      {
       "output_type": "stream",
       "stream": "stdout",
       "text": [
        "Thread #1: \t92600000 read pairs finished. 1618 secs passed\r\n"
       ]
      },
      {
       "output_type": "stream",
       "stream": "stdout",
       "text": [
        "Thread #0: \t92650000 read pairs finished. 1619 secs passed\r\n"
       ]
      },
      {
       "output_type": "stream",
       "stream": "stdout",
       "text": [
        "Thread #2: \t92700000 read pairs finished. 1620 secs passed\r\n"
       ]
      },
      {
       "output_type": "stream",
       "stream": "stdout",
       "text": [
        "Thread #1: \t92750000 read pairs finished. 1620 secs passed\r\n"
       ]
      },
      {
       "output_type": "stream",
       "stream": "stdout",
       "text": [
        "Thread #0: \t92800000 read pairs finished. 1621 secs passed\r\n"
       ]
      },
      {
       "output_type": "stream",
       "stream": "stdout",
       "text": [
        "Thread #2: \t92850000 read pairs finished. 1622 secs passed\r\n"
       ]
      },
      {
       "output_type": "stream",
       "stream": "stdout",
       "text": [
        "Thread #1: \t92900000 read pairs finished. 1623 secs passed\r\n"
       ]
      },
      {
       "output_type": "stream",
       "stream": "stdout",
       "text": [
        "Thread #0: \t92950000 read pairs finished. 1624 secs passed\r\n"
       ]
      },
      {
       "output_type": "stream",
       "stream": "stdout",
       "text": [
        "Thread #2: \t93000000 read pairs finished. 1624 secs passed\r\n"
       ]
      },
      {
       "output_type": "stream",
       "stream": "stdout",
       "text": [
        "Thread #1: \t93050000 read pairs finished. 1625 secs passed\r\n"
       ]
      },
      {
       "output_type": "stream",
       "stream": "stdout",
       "text": [
        "Thread #0: \t93100000 read pairs finished. 1626 secs passed\r\n"
       ]
      },
      {
       "output_type": "stream",
       "stream": "stdout",
       "text": [
        "Thread #2: \t93150000 read pairs finished. 1627 secs passed\r\n"
       ]
      },
      {
       "output_type": "stream",
       "stream": "stdout",
       "text": [
        "Thread #1: \t93200000 read pairs finished. 1628 secs passed\r\n"
       ]
      },
      {
       "output_type": "stream",
       "stream": "stdout",
       "text": [
        "Thread #0: \t93250000 read pairs finished. 1629 secs passed\r\n"
       ]
      },
      {
       "output_type": "stream",
       "stream": "stdout",
       "text": [
        "Thread #2: \t93300000 read pairs finished. 1630 secs passed\r\n"
       ]
      },
      {
       "output_type": "stream",
       "stream": "stdout",
       "text": [
        "Thread #1: \t93350000 read pairs finished. 1631 secs passed\r\n"
       ]
      },
      {
       "output_type": "stream",
       "stream": "stdout",
       "text": [
        "Thread #0: \t93400000 read pairs finished. 1632 secs passed\r\n"
       ]
      },
      {
       "output_type": "stream",
       "stream": "stdout",
       "text": [
        "Thread #2: \t93450000 read pairs finished. 1633 secs passed\r\n"
       ]
      },
      {
       "output_type": "stream",
       "stream": "stdout",
       "text": [
        "Thread #1: \t93500000 read pairs finished. 1633 secs passed\r\n"
       ]
      },
      {
       "output_type": "stream",
       "stream": "stdout",
       "text": [
        "Thread #0: \t93550000 read pairs finished. 1634 secs passed\r\n"
       ]
      },
      {
       "output_type": "stream",
       "stream": "stdout",
       "text": [
        "Thread #2: \t93600000 read pairs finished. 1635 secs passed\r\n"
       ]
      },
      {
       "output_type": "stream",
       "stream": "stdout",
       "text": [
        "Thread #1: \t93650000 read pairs finished. 1636 secs passed\r\n"
       ]
      },
      {
       "output_type": "stream",
       "stream": "stdout",
       "text": [
        "Thread #0: \t93700000 read pairs finished. 1637 secs passed\r\n"
       ]
      },
      {
       "output_type": "stream",
       "stream": "stdout",
       "text": [
        "Thread #2: \t93750000 read pairs finished. 1637 secs passed\r\n"
       ]
      },
      {
       "output_type": "stream",
       "stream": "stdout",
       "text": [
        "Thread #1: \t93800000 read pairs finished. 1638 secs passed\r\n"
       ]
      },
      {
       "output_type": "stream",
       "stream": "stdout",
       "text": [
        "Thread #0: \t93850000 read pairs finished. 1639 secs passed\r\n"
       ]
      },
      {
       "output_type": "stream",
       "stream": "stdout",
       "text": [
        "Thread #2: \t93900000 read pairs finished. 1640 secs passed\r\n"
       ]
      },
      {
       "output_type": "stream",
       "stream": "stdout",
       "text": [
        "Thread #1: \t93950000 read pairs finished. 1641 secs passed\r\n"
       ]
      },
      {
       "output_type": "stream",
       "stream": "stdout",
       "text": [
        "Thread #0: \t94000000 read pairs finished. 1641 secs passed\r\n"
       ]
      },
      {
       "output_type": "stream",
       "stream": "stdout",
       "text": [
        "Thread #2: \t94050000 read pairs finished. 1643 secs passed\r\n"
       ]
      },
      {
       "output_type": "stream",
       "stream": "stdout",
       "text": [
        "Thread #1: \t94100000 read pairs finished. 1644 secs passed\r\n"
       ]
      },
      {
       "output_type": "stream",
       "stream": "stdout",
       "text": [
        "Thread #0: \t94150000 read pairs finished. 1644 secs passed\r\n"
       ]
      },
      {
       "output_type": "stream",
       "stream": "stdout",
       "text": [
        "Thread #2: \t94200000 read pairs finished. 1645 secs passed\r\n"
       ]
      },
      {
       "output_type": "stream",
       "stream": "stdout",
       "text": [
        "Thread #1: \t94250000 read pairs finished. 1646 secs passed\r\n"
       ]
      },
      {
       "output_type": "stream",
       "stream": "stdout",
       "text": [
        "Thread #0: \t94300000 read pairs finished. 1647 secs passed\r\n"
       ]
      },
      {
       "output_type": "stream",
       "stream": "stdout",
       "text": [
        "Thread #2: \t94350000 read pairs finished. 1648 secs passed\r\n"
       ]
      },
      {
       "output_type": "stream",
       "stream": "stdout",
       "text": [
        "Thread #1: \t94400000 read pairs finished. 1649 secs passed\r\n"
       ]
      },
      {
       "output_type": "stream",
       "stream": "stdout",
       "text": [
        "Thread #0: \t94450000 read pairs finished. 1650 secs passed\r\n"
       ]
      },
      {
       "output_type": "stream",
       "stream": "stdout",
       "text": [
        "Thread #2: \t94500000 read pairs finished. 1651 secs passed\r\n"
       ]
      },
      {
       "output_type": "stream",
       "stream": "stdout",
       "text": [
        "Thread #1: \t94550000 read pairs finished. 1652 secs passed\r\n"
       ]
      },
      {
       "output_type": "stream",
       "stream": "stdout",
       "text": [
        "Thread #0: \t94600000 read pairs finished. 1652 secs passed\r\n"
       ]
      },
      {
       "output_type": "stream",
       "stream": "stdout",
       "text": [
        "Thread #2: \t94650000 read pairs finished. 1653 secs passed\r\n"
       ]
      },
      {
       "output_type": "stream",
       "stream": "stdout",
       "text": [
        "Thread #1: \t94700000 read pairs finished. 1654 secs passed\r\n"
       ]
      },
      {
       "output_type": "stream",
       "stream": "stdout",
       "text": [
        "Thread #0: \t94750000 read pairs finished. 1655 secs passed\r\n"
       ]
      },
      {
       "output_type": "stream",
       "stream": "stdout",
       "text": [
        "Thread #2: \t94800000 read pairs finished. 1656 secs passed\r\n"
       ]
      },
      {
       "output_type": "stream",
       "stream": "stdout",
       "text": [
        "Thread #1: \t94850000 read pairs finished. 1657 secs passed\r\n"
       ]
      },
      {
       "output_type": "stream",
       "stream": "stdout",
       "text": [
        "Thread #0: \t94900000 read pairs finished. 1658 secs passed\r\n"
       ]
      },
      {
       "output_type": "stream",
       "stream": "stdout",
       "text": [
        "Thread #2: \t94950000 read pairs finished. 1659 secs passed\r\n"
       ]
      },
      {
       "output_type": "stream",
       "stream": "stdout",
       "text": [
        "Thread #1: \t95000000 read pairs finished. 1659 secs passed\r\n"
       ]
      },
      {
       "output_type": "stream",
       "stream": "stdout",
       "text": [
        "Thread #0: \t95050000 read pairs finished. 1660 secs passed\r\n"
       ]
      },
      {
       "output_type": "stream",
       "stream": "stdout",
       "text": [
        "Thread #2: \t95100000 read pairs finished. 1661 secs passed\r\n"
       ]
      },
      {
       "output_type": "stream",
       "stream": "stdout",
       "text": [
        "Thread #1: \t95150000 read pairs finished. 1662 secs passed\r\n"
       ]
      },
      {
       "output_type": "stream",
       "stream": "stdout",
       "text": [
        "Thread #0: \t95200000 read pairs finished. 1663 secs passed\r\n"
       ]
      },
      {
       "output_type": "stream",
       "stream": "stdout",
       "text": [
        "Thread #2: \t95250000 read pairs finished. 1664 secs passed\r\n"
       ]
      },
      {
       "output_type": "stream",
       "stream": "stdout",
       "text": [
        "Thread #1: \t95300000 read pairs finished. 1665 secs passed\r\n"
       ]
      },
      {
       "output_type": "stream",
       "stream": "stdout",
       "text": [
        "Thread #0: \t95350000 read pairs finished. 1666 secs passed\r\n"
       ]
      },
      {
       "output_type": "stream",
       "stream": "stdout",
       "text": [
        "Thread #2: \t95400000 read pairs finished. 1667 secs passed\r\n"
       ]
      },
      {
       "output_type": "stream",
       "stream": "stdout",
       "text": [
        "Thread #1: \t95450000 read pairs finished. 1667 secs passed\r\n"
       ]
      },
      {
       "output_type": "stream",
       "stream": "stdout",
       "text": [
        "Thread #0: \t95500000 read pairs finished. 1668 secs passed\r\n"
       ]
      },
      {
       "output_type": "stream",
       "stream": "stdout",
       "text": [
        "Thread #2: \t95550000 read pairs finished. 1669 secs passed\r\n"
       ]
      },
      {
       "output_type": "stream",
       "stream": "stdout",
       "text": [
        "Thread #1: \t95600000 read pairs finished. 1670 secs passed\r\n"
       ]
      },
      {
       "output_type": "stream",
       "stream": "stdout",
       "text": [
        "Thread #0: \t95650000 read pairs finished. 1671 secs passed\r\n"
       ]
      },
      {
       "output_type": "stream",
       "stream": "stdout",
       "text": [
        "Thread #2: \t95700000 read pairs finished. 1672 secs passed\r\n"
       ]
      },
      {
       "output_type": "stream",
       "stream": "stdout",
       "text": [
        "Thread #1: \t95750000 read pairs finished. 1673 secs passed\r\n"
       ]
      },
      {
       "output_type": "stream",
       "stream": "stdout",
       "text": [
        "Thread #0: \t95800000 read pairs finished. 1673 secs passed\r\n"
       ]
      },
      {
       "output_type": "stream",
       "stream": "stdout",
       "text": [
        "Thread #2: \t95850000 read pairs finished. 1674 secs passed\r\n"
       ]
      },
      {
       "output_type": "stream",
       "stream": "stdout",
       "text": [
        "Thread #1: \t95900000 read pairs finished. 1675 secs passed\r\n"
       ]
      },
      {
       "output_type": "stream",
       "stream": "stdout",
       "text": [
        "Thread #0: \t95950000 read pairs finished. 1676 secs passed\r\n"
       ]
      },
      {
       "output_type": "stream",
       "stream": "stdout",
       "text": [
        "Thread #2: \t96000000 read pairs finished. 1677 secs passed\r\n"
       ]
      },
      {
       "output_type": "stream",
       "stream": "stdout",
       "text": [
        "Thread #1: \t96050000 read pairs finished. 1677 secs passed\r\n"
       ]
      },
      {
       "output_type": "stream",
       "stream": "stdout",
       "text": [
        "Thread #0: \t96100000 read pairs finished. 1678 secs passed\r\n"
       ]
      },
      {
       "output_type": "stream",
       "stream": "stdout",
       "text": [
        "Thread #2: \t96150000 read pairs finished. 1679 secs passed\r\n"
       ]
      },
      {
       "output_type": "stream",
       "stream": "stdout",
       "text": [
        "Thread #1: \t96200000 read pairs finished. 1680 secs passed\r\n"
       ]
      },
      {
       "output_type": "stream",
       "stream": "stdout",
       "text": [
        "Thread #0: \t96250000 read pairs finished. 1681 secs passed\r\n"
       ]
      },
      {
       "output_type": "stream",
       "stream": "stdout",
       "text": [
        "Thread #2: \t96300000 read pairs finished. 1681 secs passed\r\n"
       ]
      },
      {
       "output_type": "stream",
       "stream": "stdout",
       "text": [
        "Thread #1: \t96350000 read pairs finished. 1683 secs passed\r\n"
       ]
      },
      {
       "output_type": "stream",
       "stream": "stdout",
       "text": [
        "Thread #0: \t96400000 read pairs finished. 1683 secs passed\r\n"
       ]
      },
      {
       "output_type": "stream",
       "stream": "stdout",
       "text": [
        "Thread #2: \t96450000 read pairs finished. 1684 secs passed\r\n"
       ]
      },
      {
       "output_type": "stream",
       "stream": "stdout",
       "text": [
        "Thread #1: \t96500000 read pairs finished. 1685 secs passed\r\n"
       ]
      },
      {
       "output_type": "stream",
       "stream": "stdout",
       "text": [
        "Thread #0: \t96550000 read pairs finished. 1686 secs passed\r\n"
       ]
      },
      {
       "output_type": "stream",
       "stream": "stdout",
       "text": [
        "Thread #2: \t96600000 read pairs finished. 1687 secs passed\r\n"
       ]
      },
      {
       "output_type": "stream",
       "stream": "stdout",
       "text": [
        "Thread #1: \t96650000 read pairs finished. 1688 secs passed\r\n"
       ]
      },
      {
       "output_type": "stream",
       "stream": "stdout",
       "text": [
        "Thread #0: \t96700000 read pairs finished. 1688 secs passed\r\n"
       ]
      },
      {
       "output_type": "stream",
       "stream": "stdout",
       "text": [
        "Thread #2: \t96750000 read pairs finished. 1689 secs passed\r\n"
       ]
      },
      {
       "output_type": "stream",
       "stream": "stdout",
       "text": [
        "Thread #1: \t96800000 read pairs finished. 1690 secs passed\r\n"
       ]
      },
      {
       "output_type": "stream",
       "stream": "stdout",
       "text": [
        "Thread #0: \t96850000 read pairs finished. 1691 secs passed\r\n"
       ]
      },
      {
       "output_type": "stream",
       "stream": "stdout",
       "text": [
        "Thread #2: \t96900000 read pairs finished. 1692 secs passed\r\n"
       ]
      },
      {
       "output_type": "stream",
       "stream": "stdout",
       "text": [
        "Thread #1: \t96950000 read pairs finished. 1692 secs passed\r\n"
       ]
      },
      {
       "output_type": "stream",
       "stream": "stdout",
       "text": [
        "Thread #0: \t97000000 read pairs finished. 1693 secs passed\r\n"
       ]
      },
      {
       "output_type": "stream",
       "stream": "stdout",
       "text": [
        "Thread #2: \t97050000 read pairs finished. 1694 secs passed\r\n"
       ]
      },
      {
       "output_type": "stream",
       "stream": "stdout",
       "text": [
        "Thread #1: \t97100000 read pairs finished. 1695 secs passed\r\n"
       ]
      },
      {
       "output_type": "stream",
       "stream": "stdout",
       "text": [
        "Thread #0: \t97150000 read pairs finished. 1696 secs passed\r\n"
       ]
      },
      {
       "output_type": "stream",
       "stream": "stdout",
       "text": [
        "Thread #2: \t97200000 read pairs finished. 1696 secs passed\r\n"
       ]
      },
      {
       "output_type": "stream",
       "stream": "stdout",
       "text": [
        "Thread #1: \t97250000 read pairs finished. 1697 secs passed\r\n"
       ]
      },
      {
       "output_type": "stream",
       "stream": "stdout",
       "text": [
        "Thread #0: \t97300000 read pairs finished. 1698 secs passed\r\n"
       ]
      },
      {
       "output_type": "stream",
       "stream": "stdout",
       "text": [
        "Thread #2: \t97350000 read pairs finished. 1699 secs passed\r\n"
       ]
      },
      {
       "output_type": "stream",
       "stream": "stdout",
       "text": [
        "Thread #1: \t97400000 read pairs finished. 1700 secs passed\r\n"
       ]
      },
      {
       "output_type": "stream",
       "stream": "stdout",
       "text": [
        "Thread #0: \t97450000 read pairs finished. 1700 secs passed\r\n"
       ]
      },
      {
       "output_type": "stream",
       "stream": "stdout",
       "text": [
        "Thread #2: \t97500000 read pairs finished. 1701 secs passed\r\n"
       ]
      },
      {
       "output_type": "stream",
       "stream": "stdout",
       "text": [
        "Thread #1: \t97550000 read pairs finished. 1702 secs passed\r\n"
       ]
      },
      {
       "output_type": "stream",
       "stream": "stdout",
       "text": [
        "Thread #0: \t97600000 read pairs finished. 1703 secs passed\r\n"
       ]
      },
      {
       "output_type": "stream",
       "stream": "stdout",
       "text": [
        "Thread #2: \t97650000 read pairs finished. 1704 secs passed\r\n"
       ]
      },
      {
       "output_type": "stream",
       "stream": "stdout",
       "text": [
        "Thread #1: \t97700000 read pairs finished. 1705 secs passed\r\n"
       ]
      },
      {
       "output_type": "stream",
       "stream": "stdout",
       "text": [
        "Thread #0: \t97750000 read pairs finished. 1705 secs passed\r\n"
       ]
      },
      {
       "output_type": "stream",
       "stream": "stdout",
       "text": [
        "Thread #2: \t97800000 read pairs finished. 1706 secs passed\r\n"
       ]
      },
      {
       "output_type": "stream",
       "stream": "stdout",
       "text": [
        "Thread #1: \t97850000 read pairs finished. 1707 secs passed\r\n"
       ]
      },
      {
       "output_type": "stream",
       "stream": "stdout",
       "text": [
        "Thread #0: \t97900000 read pairs finished. 1708 secs passed\r\n"
       ]
      },
      {
       "output_type": "stream",
       "stream": "stdout",
       "text": [
        "Thread #2: \t97950000 read pairs finished. 1709 secs passed\r\n"
       ]
      },
      {
       "output_type": "stream",
       "stream": "stdout",
       "text": [
        "Thread #1: \t98000000 read pairs finished. 1709 secs passed\r\n"
       ]
      },
      {
       "output_type": "stream",
       "stream": "stdout",
       "text": [
        "Thread #0: \t98050000 read pairs finished. 1710 secs passed\r\n"
       ]
      },
      {
       "output_type": "stream",
       "stream": "stdout",
       "text": [
        "Thread #2: \t98100000 read pairs finished. 1711 secs passed\r\n"
       ]
      },
      {
       "output_type": "stream",
       "stream": "stdout",
       "text": [
        "Thread #1: \t98150000 read pairs finished. 1712 secs passed\r\n"
       ]
      },
      {
       "output_type": "stream",
       "stream": "stdout",
       "text": [
        "Thread #0: \t98200000 read pairs finished. 1713 secs passed\r\n"
       ]
      },
      {
       "output_type": "stream",
       "stream": "stdout",
       "text": [
        "Thread #2: \t98250000 read pairs finished. 1714 secs passed\r\n"
       ]
      },
      {
       "output_type": "stream",
       "stream": "stdout",
       "text": [
        "Thread #1: \t98300000 read pairs finished. 1714 secs passed\r\n"
       ]
      },
      {
       "output_type": "stream",
       "stream": "stdout",
       "text": [
        "Thread #0: \t98350000 read pairs finished. 1715 secs passed\r\n"
       ]
      },
      {
       "output_type": "stream",
       "stream": "stdout",
       "text": [
        "Thread #2: \t98400000 read pairs finished. 1716 secs passed\r\n"
       ]
      },
      {
       "output_type": "stream",
       "stream": "stdout",
       "text": [
        "Thread #1: \t98450000 read pairs finished. 1717 secs passed\r\n"
       ]
      },
      {
       "output_type": "stream",
       "stream": "stdout",
       "text": [
        "Thread #0: \t98500000 read pairs finished. 1718 secs passed\r\n"
       ]
      },
      {
       "output_type": "stream",
       "stream": "stdout",
       "text": [
        "Thread #2: \t98550000 read pairs finished. 1719 secs passed\r\n"
       ]
      },
      {
       "output_type": "stream",
       "stream": "stdout",
       "text": [
        "Thread #1: \t98600000 read pairs finished. 1720 secs passed\r\n"
       ]
      },
      {
       "output_type": "stream",
       "stream": "stdout",
       "text": [
        "Thread #0: \t98650000 read pairs finished. 1721 secs passed\r\n"
       ]
      },
      {
       "output_type": "stream",
       "stream": "stdout",
       "text": [
        "Thread #2: \t98700000 read pairs finished. 1721 secs passed\r\n"
       ]
      },
      {
       "output_type": "stream",
       "stream": "stdout",
       "text": [
        "Thread #1: \t98750000 read pairs finished. 1722 secs passed\r\n"
       ]
      },
      {
       "output_type": "stream",
       "stream": "stdout",
       "text": [
        "Thread #0: \t98800000 read pairs finished. 1723 secs passed\r\n"
       ]
      },
      {
       "output_type": "stream",
       "stream": "stdout",
       "text": [
        "Thread #2: \t98850000 read pairs finished. 1724 secs passed\r\n"
       ]
      },
      {
       "output_type": "stream",
       "stream": "stdout",
       "text": [
        "Thread #1: \t98900000 read pairs finished. 1725 secs passed\r\n"
       ]
      },
      {
       "output_type": "stream",
       "stream": "stdout",
       "text": [
        "Thread #0: \t98950000 read pairs finished. 1726 secs passed\r\n"
       ]
      },
      {
       "output_type": "stream",
       "stream": "stdout",
       "text": [
        "Thread #2: \t99000000 read pairs finished. 1726 secs passed\r\n"
       ]
      },
      {
       "output_type": "stream",
       "stream": "stdout",
       "text": [
        "Thread #1: \t99050000 read pairs finished. 1727 secs passed\r\n"
       ]
      },
      {
       "output_type": "stream",
       "stream": "stdout",
       "text": [
        "Thread #0: \t99100000 read pairs finished. 1728 secs passed\r\n"
       ]
      },
      {
       "output_type": "stream",
       "stream": "stdout",
       "text": [
        "Thread #2: \t99150000 read pairs finished. 1729 secs passed\r\n"
       ]
      },
      {
       "output_type": "stream",
       "stream": "stdout",
       "text": [
        "Thread #1: \t99200000 read pairs finished. 1730 secs passed\r\n"
       ]
      },
      {
       "output_type": "stream",
       "stream": "stdout",
       "text": [
        "Thread #0: \t99250000 read pairs finished. 1731 secs passed\r\n"
       ]
      },
      {
       "output_type": "stream",
       "stream": "stdout",
       "text": [
        "Thread #2: \t99300000 read pairs finished. 1732 secs passed\r\n"
       ]
      },
      {
       "output_type": "stream",
       "stream": "stdout",
       "text": [
        "Thread #1: \t99350000 read pairs finished. 1733 secs passed\r\n"
       ]
      },
      {
       "output_type": "stream",
       "stream": "stdout",
       "text": [
        "Thread #0: \t99400000 read pairs finished. 1733 secs passed\r\n"
       ]
      },
      {
       "output_type": "stream",
       "stream": "stdout",
       "text": [
        "Thread #2: \t99450000 read pairs finished. 1734 secs passed\r\n"
       ]
      },
      {
       "output_type": "stream",
       "stream": "stdout",
       "text": [
        "Thread #1: \t99500000 read pairs finished. 1735 secs passed\r\n"
       ]
      },
      {
       "output_type": "stream",
       "stream": "stdout",
       "text": [
        "Thread #0: \t99550000 read pairs finished. 1736 secs passed\r\n"
       ]
      },
      {
       "output_type": "stream",
       "stream": "stdout",
       "text": [
        "Thread #2: \t99600000 read pairs finished. 1737 secs passed\r\n"
       ]
      },
      {
       "output_type": "stream",
       "stream": "stdout",
       "text": [
        "Thread #1: \t99650000 read pairs finished. 1737 secs passed\r\n"
       ]
      },
      {
       "output_type": "stream",
       "stream": "stdout",
       "text": [
        "Thread #0: \t99700000 read pairs finished. 1738 secs passed\r\n"
       ]
      },
      {
       "output_type": "stream",
       "stream": "stdout",
       "text": [
        "Thread #2: \t99750000 read pairs finished. 1739 secs passed\r\n"
       ]
      },
      {
       "output_type": "stream",
       "stream": "stdout",
       "text": [
        "Thread #1: \t99800000 read pairs finished. 1740 secs passed\r\n"
       ]
      },
      {
       "output_type": "stream",
       "stream": "stdout",
       "text": [
        "Thread #0: \t99850000 read pairs finished. 1741 secs passed\r\n"
       ]
      },
      {
       "output_type": "stream",
       "stream": "stdout",
       "text": [
        "Thread #2: \t99900000 read pairs finished. 1741 secs passed\r\n"
       ]
      },
      {
       "output_type": "stream",
       "stream": "stdout",
       "text": [
        "Thread #1: \t99950000 read pairs finished. 1742 secs passed\r\n"
       ]
      },
      {
       "output_type": "stream",
       "stream": "stdout",
       "text": [
        "Thread #0: \t100000000 read pairs finished. 1743 secs passed\r\n"
       ]
      },
      {
       "output_type": "stream",
       "stream": "stdout",
       "text": [
        "Thread #2: \t100050000 read pairs finished. 1744 secs passed\r\n"
       ]
      },
      {
       "output_type": "stream",
       "stream": "stdout",
       "text": [
        "Thread #1: \t100100000 read pairs finished. 1745 secs passed\r\n"
       ]
      },
      {
       "output_type": "stream",
       "stream": "stdout",
       "text": [
        "Thread #0: \t100150000 read pairs finished. 1746 secs passed\r\n"
       ]
      },
      {
       "output_type": "stream",
       "stream": "stdout",
       "text": [
        "Thread #2: \t100200000 read pairs finished. 1747 secs passed\r\n"
       ]
      },
      {
       "output_type": "stream",
       "stream": "stdout",
       "text": [
        "Thread #1: \t100250000 read pairs finished. 1748 secs passed\r\n"
       ]
      },
      {
       "output_type": "stream",
       "stream": "stdout",
       "text": [
        "Thread #0: \t100300000 read pairs finished. 1749 secs passed\r\n"
       ]
      },
      {
       "output_type": "stream",
       "stream": "stdout",
       "text": [
        "Thread #2: \t100350000 read pairs finished. 1749 secs passed\r\n"
       ]
      },
      {
       "output_type": "stream",
       "stream": "stdout",
       "text": [
        "Thread #1: \t100400000 read pairs finished. 1750 secs passed\r\n"
       ]
      },
      {
       "output_type": "stream",
       "stream": "stdout",
       "text": [
        "Thread #0: \t100450000 read pairs finished. 1751 secs passed\r\n"
       ]
      },
      {
       "output_type": "stream",
       "stream": "stdout",
       "text": [
        "Thread #2: \t100500000 read pairs finished. 1752 secs passed\r\n"
       ]
      },
      {
       "output_type": "stream",
       "stream": "stdout",
       "text": [
        "Thread #1: \t100550000 read pairs finished. 1753 secs passed\r\n"
       ]
      },
      {
       "output_type": "stream",
       "stream": "stdout",
       "text": [
        "Thread #0: \t100600000 read pairs finished. 1753 secs passed\r\n"
       ]
      },
      {
       "output_type": "stream",
       "stream": "stdout",
       "text": [
        "Thread #2: \t100650000 read pairs finished. 1754 secs passed\r\n"
       ]
      },
      {
       "output_type": "stream",
       "stream": "stdout",
       "text": [
        "Thread #1: \t100700000 read pairs finished. 1755 secs passed\r\n"
       ]
      },
      {
       "output_type": "stream",
       "stream": "stdout",
       "text": [
        "Thread #0: \t100750000 read pairs finished. 1756 secs passed\r\n"
       ]
      },
      {
       "output_type": "stream",
       "stream": "stdout",
       "text": [
        "Thread #2: \t100800000 read pairs finished. 1757 secs passed\r\n"
       ]
      },
      {
       "output_type": "stream",
       "stream": "stdout",
       "text": [
        "Thread #1: \t100850000 read pairs finished. 1758 secs passed\r\n"
       ]
      },
      {
       "output_type": "stream",
       "stream": "stdout",
       "text": [
        "Thread #0: \t100900000 read pairs finished. 1759 secs passed\r\n"
       ]
      },
      {
       "output_type": "stream",
       "stream": "stdout",
       "text": [
        "Thread #2: \t100950000 read pairs finished. 1760 secs passed\r\n"
       ]
      },
      {
       "output_type": "stream",
       "stream": "stdout",
       "text": [
        "Thread #1: \t101000000 read pairs finished. 1760 secs passed\r\n"
       ]
      },
      {
       "output_type": "stream",
       "stream": "stdout",
       "text": [
        "Thread #0: \t101050000 read pairs finished. 1761 secs passed\r\n"
       ]
      },
      {
       "output_type": "stream",
       "stream": "stdout",
       "text": [
        "Thread #2: \t101100000 read pairs finished. 1762 secs passed\r\n"
       ]
      },
      {
       "output_type": "stream",
       "stream": "stdout",
       "text": [
        "Thread #1: \t101150000 read pairs finished. 1763 secs passed\r\n"
       ]
      },
      {
       "output_type": "stream",
       "stream": "stdout",
       "text": [
        "Thread #0: \t101200000 read pairs finished. 1764 secs passed\r\n"
       ]
      },
      {
       "output_type": "stream",
       "stream": "stdout",
       "text": [
        "Thread #2: \t101250000 read pairs finished. 1765 secs passed\r\n"
       ]
      },
      {
       "output_type": "stream",
       "stream": "stdout",
       "text": [
        "Thread #1: \t101300000 read pairs finished. 1765 secs passed\r\n"
       ]
      },
      {
       "output_type": "stream",
       "stream": "stdout",
       "text": [
        "Thread #0: \t101350000 read pairs finished. 1766 secs passed\r\n"
       ]
      },
      {
       "output_type": "stream",
       "stream": "stdout",
       "text": [
        "Thread #2: \t101400000 read pairs finished. 1767 secs passed\r\n"
       ]
      },
      {
       "output_type": "stream",
       "stream": "stdout",
       "text": [
        "Thread #1: \t101450000 read pairs finished. 1768 secs passed\r\n"
       ]
      },
      {
       "output_type": "stream",
       "stream": "stdout",
       "text": [
        "Thread #0: \t101500000 read pairs finished. 1769 secs passed\r\n"
       ]
      },
      {
       "output_type": "stream",
       "stream": "stdout",
       "text": [
        "Thread #2: \t101550000 read pairs finished. 1769 secs passed\r\n"
       ]
      },
      {
       "output_type": "stream",
       "stream": "stdout",
       "text": [
        "Thread #1: \t101600000 read pairs finished. 1770 secs passed\r\n"
       ]
      },
      {
       "output_type": "stream",
       "stream": "stdout",
       "text": [
        "Thread #0: \t101650000 read pairs finished. 1771 secs passed\r\n"
       ]
      },
      {
       "output_type": "stream",
       "stream": "stdout",
       "text": [
        "Thread #2: \t101700000 read pairs finished. 1772 secs passed\r\n"
       ]
      },
      {
       "output_type": "stream",
       "stream": "stdout",
       "text": [
        "Thread #1: \t101750000 read pairs finished. 1773 secs passed\r\n"
       ]
      },
      {
       "output_type": "stream",
       "stream": "stdout",
       "text": [
        "Thread #0: \t101800000 read pairs finished. 1773 secs passed\r\n"
       ]
      },
      {
       "output_type": "stream",
       "stream": "stdout",
       "text": [
        "Thread #2: \t101850000 read pairs finished. 1774 secs passed\r\n"
       ]
      },
      {
       "output_type": "stream",
       "stream": "stdout",
       "text": [
        "Thread #1: \t101900000 read pairs finished. 1775 secs passed\r\n"
       ]
      },
      {
       "output_type": "stream",
       "stream": "stdout",
       "text": [
        "Thread #0: \t101950000 read pairs finished. 1776 secs passed\r\n"
       ]
      },
      {
       "output_type": "stream",
       "stream": "stdout",
       "text": [
        "Thread #2: \t102000000 read pairs finished. 1777 secs passed\r\n"
       ]
      },
      {
       "output_type": "stream",
       "stream": "stdout",
       "text": [
        "Thread #1: \t102050000 read pairs finished. 1777 secs passed\r\n"
       ]
      },
      {
       "output_type": "stream",
       "stream": "stdout",
       "text": [
        "Thread #0: \t102100000 read pairs finished. 1778 secs passed\r\n"
       ]
      },
      {
       "output_type": "stream",
       "stream": "stdout",
       "text": [
        "Thread #2: \t102150000 read pairs finished. 1779 secs passed\r\n"
       ]
      },
      {
       "output_type": "stream",
       "stream": "stdout",
       "text": [
        "Thread #1: \t102200000 read pairs finished. 1780 secs passed\r\n"
       ]
      },
      {
       "output_type": "stream",
       "stream": "stdout",
       "text": [
        "Thread #0: \t102250000 read pairs finished. 1781 secs passed\r\n"
       ]
      },
      {
       "output_type": "stream",
       "stream": "stdout",
       "text": [
        "Thread #2: \t102300000 read pairs finished. 1781 secs passed\r\n"
       ]
      },
      {
       "output_type": "stream",
       "stream": "stdout",
       "text": [
        "Thread #1: \t102350000 read pairs finished. 1782 secs passed\r\n"
       ]
      },
      {
       "output_type": "stream",
       "stream": "stdout",
       "text": [
        "Thread #0: \t102400000 read pairs finished. 1783 secs passed\r\n"
       ]
      },
      {
       "output_type": "stream",
       "stream": "stdout",
       "text": [
        "Thread #2: \t102450000 read pairs finished. 1784 secs passed\r\n"
       ]
      },
      {
       "output_type": "stream",
       "stream": "stdout",
       "text": [
        "Thread #1: \t102500000 read pairs finished. 1784 secs passed\r\n"
       ]
      },
      {
       "output_type": "stream",
       "stream": "stdout",
       "text": [
        "Thread #0: \t102550000 read pairs finished. 1785 secs passed\r\n"
       ]
      },
      {
       "output_type": "stream",
       "stream": "stdout",
       "text": [
        "Thread #2: \t102600000 read pairs finished. 1786 secs passed\r\n"
       ]
      },
      {
       "output_type": "stream",
       "stream": "stdout",
       "text": [
        "Thread #1: \t102650000 read pairs finished. 1787 secs passed\r\n"
       ]
      },
      {
       "output_type": "stream",
       "stream": "stdout",
       "text": [
        "Thread #0: \t102700000 read pairs finished. 1788 secs passed\r\n"
       ]
      },
      {
       "output_type": "stream",
       "stream": "stdout",
       "text": [
        "Thread #2: \t102750000 read pairs finished. 1789 secs passed\r\n"
       ]
      },
      {
       "output_type": "stream",
       "stream": "stdout",
       "text": [
        "Thread #1: \t102800000 read pairs finished. 1790 secs passed\r\n"
       ]
      },
      {
       "output_type": "stream",
       "stream": "stdout",
       "text": [
        "Thread #0: \t102850000 read pairs finished. 1790 secs passed\r\n"
       ]
      },
      {
       "output_type": "stream",
       "stream": "stdout",
       "text": [
        "Thread #2: \t102900000 read pairs finished. 1791 secs passed\r\n"
       ]
      },
      {
       "output_type": "stream",
       "stream": "stdout",
       "text": [
        "Thread #1: \t102950000 read pairs finished. 1792 secs passed\r\n"
       ]
      },
      {
       "output_type": "stream",
       "stream": "stdout",
       "text": [
        "Thread #0: \t103000000 read pairs finished. 1793 secs passed\r\n"
       ]
      },
      {
       "output_type": "stream",
       "stream": "stdout",
       "text": [
        "Thread #2: \t103050000 read pairs finished. 1794 secs passed\r\n"
       ]
      },
      {
       "output_type": "stream",
       "stream": "stdout",
       "text": [
        "Thread #1: \t103100000 read pairs finished. 1794 secs passed\r\n"
       ]
      },
      {
       "output_type": "stream",
       "stream": "stdout",
       "text": [
        "Thread #0: \t103150000 read pairs finished. 1795 secs passed\r\n"
       ]
      },
      {
       "output_type": "stream",
       "stream": "stdout",
       "text": [
        "Thread #2: \t103200000 read pairs finished. 1796 secs passed\r\n"
       ]
      },
      {
       "output_type": "stream",
       "stream": "stdout",
       "text": [
        "Thread #1: \t103250000 read pairs finished. 1797 secs passed\r\n"
       ]
      },
      {
       "output_type": "stream",
       "stream": "stdout",
       "text": [
        "Thread #0: \t103300000 read pairs finished. 1798 secs passed\r\n"
       ]
      },
      {
       "output_type": "stream",
       "stream": "stdout",
       "text": [
        "Thread #2: \t103350000 read pairs finished. 1798 secs passed\r\n"
       ]
      },
      {
       "output_type": "stream",
       "stream": "stdout",
       "text": [
        "Thread #1: \t103400000 read pairs finished. 1799 secs passed\r\n"
       ]
      },
      {
       "output_type": "stream",
       "stream": "stdout",
       "text": [
        "Thread #0: \t103450000 read pairs finished. 1800 secs passed\r\n"
       ]
      },
      {
       "output_type": "stream",
       "stream": "stdout",
       "text": [
        "Thread #2: \t103500000 read pairs finished. 1801 secs passed\r\n"
       ]
      },
      {
       "output_type": "stream",
       "stream": "stdout",
       "text": [
        "Thread #1: \t103550000 read pairs finished. 1802 secs passed\r\n"
       ]
      },
      {
       "output_type": "stream",
       "stream": "stdout",
       "text": [
        "Thread #0: \t103600000 read pairs finished. 1803 secs passed\r\n"
       ]
      },
      {
       "output_type": "stream",
       "stream": "stdout",
       "text": [
        "Thread #2: \t103650000 read pairs finished. 1804 secs passed\r\n"
       ]
      },
      {
       "output_type": "stream",
       "stream": "stdout",
       "text": [
        "Thread #1: \t103700000 read pairs finished. 1804 secs passed\r\n"
       ]
      },
      {
       "output_type": "stream",
       "stream": "stdout",
       "text": [
        "Thread #0: \t103750000 read pairs finished. 1805 secs passed\r\n"
       ]
      },
      {
       "output_type": "stream",
       "stream": "stdout",
       "text": [
        "Thread #2: \t103800000 read pairs finished. 1806 secs passed\r\n"
       ]
      },
      {
       "output_type": "stream",
       "stream": "stdout",
       "text": [
        "Thread #1: \t103850000 read pairs finished. 1807 secs passed\r\n"
       ]
      },
      {
       "output_type": "stream",
       "stream": "stdout",
       "text": [
        "Thread #0: \t103900000 read pairs finished. 1808 secs passed\r\n"
       ]
      },
      {
       "output_type": "stream",
       "stream": "stdout",
       "text": [
        "Thread #2: \t103950000 read pairs finished. 1808 secs passed\r\n"
       ]
      },
      {
       "output_type": "stream",
       "stream": "stdout",
       "text": [
        "Thread #1: \t104000000 read pairs finished. 1809 secs passed\r\n"
       ]
      },
      {
       "output_type": "stream",
       "stream": "stdout",
       "text": [
        "Thread #0: \t104050000 read pairs finished. 1810 secs passed\r\n"
       ]
      },
      {
       "output_type": "stream",
       "stream": "stdout",
       "text": [
        "Thread #2: \t104100000 read pairs finished. 1811 secs passed\r\n"
       ]
      },
      {
       "output_type": "stream",
       "stream": "stdout",
       "text": [
        "Thread #1: \t104150000 read pairs finished. 1812 secs passed\r\n"
       ]
      },
      {
       "output_type": "stream",
       "stream": "stdout",
       "text": [
        "Thread #0: \t104200000 read pairs finished. 1812 secs passed\r\n"
       ]
      },
      {
       "output_type": "stream",
       "stream": "stdout",
       "text": [
        "Thread #2: \t104250000 read pairs finished. 1813 secs passed\r\n"
       ]
      },
      {
       "output_type": "stream",
       "stream": "stdout",
       "text": [
        "Thread #1: \t104300000 read pairs finished. 1814 secs passed\r\n"
       ]
      },
      {
       "output_type": "stream",
       "stream": "stdout",
       "text": [
        "Thread #0: \t104350000 read pairs finished. 1815 secs passed\r\n"
       ]
      },
      {
       "output_type": "stream",
       "stream": "stdout",
       "text": [
        "Thread #2: \t104400000 read pairs finished. 1816 secs passed\r\n"
       ]
      },
      {
       "output_type": "stream",
       "stream": "stdout",
       "text": [
        "Thread #1: \t104450000 read pairs finished. 1817 secs passed\r\n"
       ]
      },
      {
       "output_type": "stream",
       "stream": "stdout",
       "text": [
        "Thread #0: \t104500000 read pairs finished. 1817 secs passed\r\n"
       ]
      },
      {
       "output_type": "stream",
       "stream": "stdout",
       "text": [
        "Thread #2: \t104550000 read pairs finished. 1818 secs passed\r\n"
       ]
      },
      {
       "output_type": "stream",
       "stream": "stdout",
       "text": [
        "Thread #1: \t104600000 read pairs finished. 1819 secs passed\r\n"
       ]
      },
      {
       "output_type": "stream",
       "stream": "stdout",
       "text": [
        "Thread #0: \t104650000 read pairs finished. 1820 secs passed\r\n"
       ]
      },
      {
       "output_type": "stream",
       "stream": "stdout",
       "text": [
        "Thread #2: \t104700000 read pairs finished. 1820 secs passed\r\n"
       ]
      },
      {
       "output_type": "stream",
       "stream": "stdout",
       "text": [
        "Thread #1: \t104750000 read pairs finished. 1821 secs passed\r\n"
       ]
      },
      {
       "output_type": "stream",
       "stream": "stdout",
       "text": [
        "Thread #0: \t104800000 read pairs finished. 1822 secs passed\r\n"
       ]
      },
      {
       "output_type": "stream",
       "stream": "stdout",
       "text": [
        "Thread #2: \t104850000 read pairs finished. 1823 secs passed\r\n"
       ]
      },
      {
       "output_type": "stream",
       "stream": "stdout",
       "text": [
        "Thread #1: \t104900000 read pairs finished. 1824 secs passed\r\n"
       ]
      },
      {
       "output_type": "stream",
       "stream": "stdout",
       "text": [
        "Thread #0: \t104950000 read pairs finished. 1824 secs passed\r\n"
       ]
      },
      {
       "output_type": "stream",
       "stream": "stdout",
       "text": [
        "Thread #2: \t105000000 read pairs finished. 1825 secs passed\r\n"
       ]
      },
      {
       "output_type": "stream",
       "stream": "stdout",
       "text": [
        "Thread #1: \t105050000 read pairs finished. 1826 secs passed\r\n"
       ]
      },
      {
       "output_type": "stream",
       "stream": "stdout",
       "text": [
        "Thread #0: \t105100000 read pairs finished. 1827 secs passed\r\n"
       ]
      },
      {
       "output_type": "stream",
       "stream": "stdout",
       "text": [
        "Thread #2: \t105150000 read pairs finished. 1828 secs passed\r\n"
       ]
      },
      {
       "output_type": "stream",
       "stream": "stdout",
       "text": [
        "Thread #1: \t105200000 read pairs finished. 1829 secs passed\r\n"
       ]
      },
      {
       "output_type": "stream",
       "stream": "stdout",
       "text": [
        "Thread #0: \t105250000 read pairs finished. 1830 secs passed\r\n"
       ]
      },
      {
       "output_type": "stream",
       "stream": "stdout",
       "text": [
        "Thread #2: \t105300000 read pairs finished. 1831 secs passed\r\n"
       ]
      },
      {
       "output_type": "stream",
       "stream": "stdout",
       "text": [
        "Thread #1: \t105350000 read pairs finished. 1831 secs passed\r\n"
       ]
      },
      {
       "output_type": "stream",
       "stream": "stdout",
       "text": [
        "Thread #0: \t105400000 read pairs finished. 1832 secs passed\r\n"
       ]
      },
      {
       "output_type": "stream",
       "stream": "stdout",
       "text": [
        "Thread #2: \t105450000 read pairs finished. 1833 secs passed\r\n"
       ]
      },
      {
       "output_type": "stream",
       "stream": "stdout",
       "text": [
        "Thread #1: \t105500000 read pairs finished. 1834 secs passed\r\n"
       ]
      },
      {
       "output_type": "stream",
       "stream": "stdout",
       "text": [
        "Thread #0: \t105550000 read pairs finished. 1835 secs passed\r\n"
       ]
      },
      {
       "output_type": "stream",
       "stream": "stdout",
       "text": [
        "Thread #2: \t105600000 read pairs finished. 1835 secs passed\r\n"
       ]
      },
      {
       "output_type": "stream",
       "stream": "stdout",
       "text": [
        "Thread #1: \t105650000 read pairs finished. 1836 secs passed\r\n"
       ]
      },
      {
       "output_type": "stream",
       "stream": "stdout",
       "text": [
        "Thread #0: \t105700000 read pairs finished. 1837 secs passed\r\n"
       ]
      },
      {
       "output_type": "stream",
       "stream": "stdout",
       "text": [
        "Thread #2: \t105750000 read pairs finished. 1838 secs passed\r\n"
       ]
      },
      {
       "output_type": "stream",
       "stream": "stdout",
       "text": [
        "Thread #1: \t105800000 read pairs finished. 1839 secs passed\r\n"
       ]
      },
      {
       "output_type": "stream",
       "stream": "stdout",
       "text": [
        "Thread #0: \t105850000 read pairs finished. 1839 secs passed\r\n"
       ]
      },
      {
       "output_type": "stream",
       "stream": "stdout",
       "text": [
        "Thread #2: \t105900000 read pairs finished. 1840 secs passed\r\n"
       ]
      },
      {
       "output_type": "stream",
       "stream": "stdout",
       "text": [
        "Thread #1: \t105950000 read pairs finished. 1841 secs passed\r\n"
       ]
      },
      {
       "output_type": "stream",
       "stream": "stdout",
       "text": [
        "Thread #0: \t106000000 read pairs finished. 1842 secs passed\r\n"
       ]
      },
      {
       "output_type": "stream",
       "stream": "stdout",
       "text": [
        "Thread #2: \t106050000 read pairs finished. 1843 secs passed\r\n"
       ]
      },
      {
       "output_type": "stream",
       "stream": "stdout",
       "text": [
        "Thread #1: \t106100000 read pairs finished. 1843 secs passed\r\n"
       ]
      },
      {
       "output_type": "stream",
       "stream": "stdout",
       "text": [
        "Thread #0: \t106150000 read pairs finished. 1844 secs passed\r\n"
       ]
      },
      {
       "output_type": "stream",
       "stream": "stdout",
       "text": [
        "Thread #2: \t106200000 read pairs finished. 1845 secs passed\r\n"
       ]
      },
      {
       "output_type": "stream",
       "stream": "stdout",
       "text": [
        "Thread #1: \t106250000 read pairs finished. 1846 secs passed\r\n"
       ]
      },
      {
       "output_type": "stream",
       "stream": "stdout",
       "text": [
        "Thread #0: \t106300000 read pairs finished. 1847 secs passed\r\n"
       ]
      },
      {
       "output_type": "stream",
       "stream": "stdout",
       "text": [
        "Thread #2: \t106350000 read pairs finished. 1848 secs passed\r\n"
       ]
      },
      {
       "output_type": "stream",
       "stream": "stdout",
       "text": [
        "Thread #1: \t106400000 read pairs finished. 1849 secs passed\r\n"
       ]
      },
      {
       "output_type": "stream",
       "stream": "stdout",
       "text": [
        "Thread #0: \t106450000 read pairs finished. 1850 secs passed\r\n"
       ]
      },
      {
       "output_type": "stream",
       "stream": "stdout",
       "text": [
        "Thread #2: \t106500000 read pairs finished. 1851 secs passed\r\n"
       ]
      },
      {
       "output_type": "stream",
       "stream": "stdout",
       "text": [
        "Thread #1: \t106550000 read pairs finished. 1852 secs passed\r\n"
       ]
      },
      {
       "output_type": "stream",
       "stream": "stdout",
       "text": [
        "Thread #0: \t106600000 read pairs finished. 1852 secs passed\r\n"
       ]
      },
      {
       "output_type": "stream",
       "stream": "stdout",
       "text": [
        "Thread #2: \t106650000 read pairs finished. 1854 secs passed\r\n"
       ]
      },
      {
       "output_type": "stream",
       "stream": "stdout",
       "text": [
        "Thread #1: \t106700000 read pairs finished. 1854 secs passed\r\n"
       ]
      },
      {
       "output_type": "stream",
       "stream": "stdout",
       "text": [
        "Thread #0: \t106750000 read pairs finished. 1855 secs passed\r\n"
       ]
      },
      {
       "output_type": "stream",
       "stream": "stdout",
       "text": [
        "Thread #2: \t106800000 read pairs finished. 1856 secs passed\r\n"
       ]
      },
      {
       "output_type": "stream",
       "stream": "stdout",
       "text": [
        "Thread #1: \t106850000 read pairs finished. 1857 secs passed\r\n"
       ]
      },
      {
       "output_type": "stream",
       "stream": "stdout",
       "text": [
        "Thread #0: \t106900000 read pairs finished. 1858 secs passed\r\n"
       ]
      },
      {
       "output_type": "stream",
       "stream": "stdout",
       "text": [
        "Thread #2: \t106950000 read pairs finished. 1859 secs passed\r\n"
       ]
      },
      {
       "output_type": "stream",
       "stream": "stdout",
       "text": [
        "Thread #1: \t107000000 read pairs finished. 1860 secs passed\r\n"
       ]
      },
      {
       "output_type": "stream",
       "stream": "stdout",
       "text": [
        "Thread #0: \t107050000 read pairs finished. 1861 secs passed\r\n"
       ]
      },
      {
       "output_type": "stream",
       "stream": "stdout",
       "text": [
        "Thread #2: \t107100000 read pairs finished. 1862 secs passed\r\n"
       ]
      },
      {
       "output_type": "stream",
       "stream": "stdout",
       "text": [
        "Thread #1: \t107150000 read pairs finished. 1862 secs passed\r\n"
       ]
      },
      {
       "output_type": "stream",
       "stream": "stdout",
       "text": [
        "Thread #0: \t107200000 read pairs finished. 1863 secs passed\r\n"
       ]
      },
      {
       "output_type": "stream",
       "stream": "stdout",
       "text": [
        "Thread #2: \t107250000 read pairs finished. 1864 secs passed\r\n"
       ]
      },
      {
       "output_type": "stream",
       "stream": "stdout",
       "text": [
        "Thread #1: \t107300000 read pairs finished. 1865 secs passed\r\n"
       ]
      },
      {
       "output_type": "stream",
       "stream": "stdout",
       "text": [
        "Thread #0: \t107350000 read pairs finished. 1866 secs passed\r\n"
       ]
      },
      {
       "output_type": "stream",
       "stream": "stdout",
       "text": [
        "Thread #2: \t107400000 read pairs finished. 1867 secs passed\r\n"
       ]
      },
      {
       "output_type": "stream",
       "stream": "stdout",
       "text": [
        "Thread #1: \t107450000 read pairs finished. 1868 secs passed\r\n"
       ]
      },
      {
       "output_type": "stream",
       "stream": "stdout",
       "text": [
        "Thread #0: \t107500000 read pairs finished. 1868 secs passed\r\n"
       ]
      },
      {
       "output_type": "stream",
       "stream": "stdout",
       "text": [
        "Thread #2: \t107550000 read pairs finished. 1870 secs passed\r\n"
       ]
      },
      {
       "output_type": "stream",
       "stream": "stdout",
       "text": [
        "Thread #1: \t107600000 read pairs finished. 1870 secs passed\r\n"
       ]
      },
      {
       "output_type": "stream",
       "stream": "stdout",
       "text": [
        "Thread #0: \t107650000 read pairs finished. 1871 secs passed\r\n"
       ]
      },
      {
       "output_type": "stream",
       "stream": "stdout",
       "text": [
        "Thread #2: \t107700000 read pairs finished. 1872 secs passed\r\n"
       ]
      },
      {
       "output_type": "stream",
       "stream": "stdout",
       "text": [
        "Thread #1: \t107750000 read pairs finished. 1873 secs passed\r\n"
       ]
      },
      {
       "output_type": "stream",
       "stream": "stdout",
       "text": [
        "Thread #0: \t107800000 read pairs finished. 1874 secs passed\r\n"
       ]
      },
      {
       "output_type": "stream",
       "stream": "stdout",
       "text": [
        "Thread #2: \t107850000 read pairs finished. 1874 secs passed\r\n"
       ]
      },
      {
       "output_type": "stream",
       "stream": "stdout",
       "text": [
        "Thread #1: \t107900000 read pairs finished. 1875 secs passed\r\n"
       ]
      },
      {
       "output_type": "stream",
       "stream": "stdout",
       "text": [
        "Thread #0: \t107950000 read pairs finished. 1876 secs passed\r\n"
       ]
      },
      {
       "output_type": "stream",
       "stream": "stdout",
       "text": [
        "Thread #2: \t108000000 read pairs finished. 1877 secs passed\r\n"
       ]
      },
      {
       "output_type": "stream",
       "stream": "stdout",
       "text": [
        "Thread #1: \t108050000 read pairs finished. 1878 secs passed\r\n"
       ]
      },
      {
       "output_type": "stream",
       "stream": "stdout",
       "text": [
        "Thread #0: \t108100000 read pairs finished. 1879 secs passed\r\n"
       ]
      },
      {
       "output_type": "stream",
       "stream": "stdout",
       "text": [
        "Thread #2: \t108150000 read pairs finished. 1879 secs passed\r\n"
       ]
      },
      {
       "output_type": "stream",
       "stream": "stdout",
       "text": [
        "Thread #1: \t108200000 read pairs finished. 1880 secs passed\r\n"
       ]
      },
      {
       "output_type": "stream",
       "stream": "stdout",
       "text": [
        "Thread #0: \t108250000 read pairs finished. 1881 secs passed\r\n"
       ]
      },
      {
       "output_type": "stream",
       "stream": "stdout",
       "text": [
        "Thread #2: \t108300000 read pairs finished. 1882 secs passed\r\n"
       ]
      },
      {
       "output_type": "stream",
       "stream": "stdout",
       "text": [
        "Thread #1: \t108350000 read pairs finished. 1883 secs passed\r\n"
       ]
      },
      {
       "output_type": "stream",
       "stream": "stdout",
       "text": [
        "Thread #0: \t108400000 read pairs finished. 1884 secs passed\r\n"
       ]
      },
      {
       "output_type": "stream",
       "stream": "stdout",
       "text": [
        "Thread #2: \t108450000 read pairs finished. 1885 secs passed\r\n"
       ]
      },
      {
       "output_type": "stream",
       "stream": "stdout",
       "text": [
        "Thread #1: \t108500000 read pairs finished. 1885 secs passed\r\n"
       ]
      },
      {
       "output_type": "stream",
       "stream": "stdout",
       "text": [
        "Thread #0: \t108550000 read pairs finished. 1886 secs passed\r\n"
       ]
      },
      {
       "output_type": "stream",
       "stream": "stdout",
       "text": [
        "Thread #2: \t108600000 read pairs finished. 1887 secs passed\r\n"
       ]
      },
      {
       "output_type": "stream",
       "stream": "stdout",
       "text": [
        "Thread #1: \t108650000 read pairs finished. 1888 secs passed\r\n"
       ]
      },
      {
       "output_type": "stream",
       "stream": "stdout",
       "text": [
        "Thread #0: \t108700000 read pairs finished. 1889 secs passed\r\n"
       ]
      },
      {
       "output_type": "stream",
       "stream": "stdout",
       "text": [
        "Thread #2: \t108750000 read pairs finished. 1890 secs passed\r\n"
       ]
      },
      {
       "output_type": "stream",
       "stream": "stdout",
       "text": [
        "Thread #1: \t108800000 read pairs finished. 1891 secs passed\r\n"
       ]
      },
      {
       "output_type": "stream",
       "stream": "stdout",
       "text": [
        "Thread #0: \t108850000 read pairs finished. 1892 secs passed\r\n"
       ]
      },
      {
       "output_type": "stream",
       "stream": "stdout",
       "text": [
        "Thread #2: \t108900000 read pairs finished. 1893 secs passed\r\n"
       ]
      },
      {
       "output_type": "stream",
       "stream": "stdout",
       "text": [
        "Thread #1: \t108950000 read pairs finished. 1893 secs passed\r\n"
       ]
      },
      {
       "output_type": "stream",
       "stream": "stdout",
       "text": [
        "Thread #0: \t109000000 read pairs finished. 1894 secs passed\r\n"
       ]
      },
      {
       "output_type": "stream",
       "stream": "stdout",
       "text": [
        "Thread #2: \t109050000 read pairs finished. 1895 secs passed\r\n"
       ]
      },
      {
       "output_type": "stream",
       "stream": "stdout",
       "text": [
        "Thread #1: \t109100000 read pairs finished. 1896 secs passed\r\n"
       ]
      },
      {
       "output_type": "stream",
       "stream": "stdout",
       "text": [
        "Thread #0: \t109150000 read pairs finished. 1897 secs passed\r\n"
       ]
      },
      {
       "output_type": "stream",
       "stream": "stdout",
       "text": [
        "Thread #2: \t109200000 read pairs finished. 1897 secs passed\r\n"
       ]
      },
      {
       "output_type": "stream",
       "stream": "stdout",
       "text": [
        "Thread #1: \t109250000 read pairs finished. 1898 secs passed\r\n"
       ]
      },
      {
       "output_type": "stream",
       "stream": "stdout",
       "text": [
        "Thread #0: \t109300000 read pairs finished. 1899 secs passed\r\n"
       ]
      },
      {
       "output_type": "stream",
       "stream": "stdout",
       "text": [
        "Thread #2: \t109350000 read pairs finished. 1900 secs passed\r\n"
       ]
      },
      {
       "output_type": "stream",
       "stream": "stdout",
       "text": [
        "Thread #1: \t109400000 read pairs finished. 1901 secs passed\r\n"
       ]
      },
      {
       "output_type": "stream",
       "stream": "stdout",
       "text": [
        "Thread #0: \t109450000 read pairs finished. 1902 secs passed\r\n"
       ]
      },
      {
       "output_type": "stream",
       "stream": "stdout",
       "text": [
        "Thread #2: \t109500000 read pairs finished. 1903 secs passed\r\n"
       ]
      },
      {
       "output_type": "stream",
       "stream": "stdout",
       "text": [
        "Thread #1: \t109550000 read pairs finished. 1904 secs passed\r\n"
       ]
      },
      {
       "output_type": "stream",
       "stream": "stdout",
       "text": [
        "Thread #0: \t109600000 read pairs finished. 1905 secs passed\r\n"
       ]
      },
      {
       "output_type": "stream",
       "stream": "stdout",
       "text": [
        "Thread #2: \t109650000 read pairs finished. 1906 secs passed\r\n"
       ]
      },
      {
       "output_type": "stream",
       "stream": "stdout",
       "text": [
        "Thread #1: \t109700000 read pairs finished. 1907 secs passed\r\n"
       ]
      },
      {
       "output_type": "stream",
       "stream": "stdout",
       "text": [
        "Thread #0: \t109750000 read pairs finished. 1908 secs passed\r\n"
       ]
      },
      {
       "output_type": "stream",
       "stream": "stdout",
       "text": [
        "Thread #2: \t109800000 read pairs finished. 1908 secs passed\r\n"
       ]
      },
      {
       "output_type": "stream",
       "stream": "stdout",
       "text": [
        "Thread #1: \t109850000 read pairs finished. 1909 secs passed\r\n"
       ]
      },
      {
       "output_type": "stream",
       "stream": "stdout",
       "text": [
        "Thread #0: \t109900000 read pairs finished. 1910 secs passed\r\n"
       ]
      },
      {
       "output_type": "stream",
       "stream": "stdout",
       "text": [
        "Thread #2: \t109950000 read pairs finished. 1911 secs passed\r\n"
       ]
      },
      {
       "output_type": "stream",
       "stream": "stdout",
       "text": [
        "Thread #1: \t110000000 read pairs finished. 1912 secs passed\r\n"
       ]
      },
      {
       "output_type": "stream",
       "stream": "stdout",
       "text": [
        "Thread #0: \t110050000 read pairs finished. 1913 secs passed\r\n"
       ]
      },
      {
       "output_type": "stream",
       "stream": "stdout",
       "text": [
        "Thread #2: \t110100000 read pairs finished. 1914 secs passed\r\n"
       ]
      },
      {
       "output_type": "stream",
       "stream": "stdout",
       "text": [
        "Thread #1: \t110150000 read pairs finished. 1915 secs passed\r\n"
       ]
      },
      {
       "output_type": "stream",
       "stream": "stdout",
       "text": [
        "Thread #0: \t110200000 read pairs finished. 1916 secs passed\r\n"
       ]
      },
      {
       "output_type": "stream",
       "stream": "stdout",
       "text": [
        "Thread #2: \t110250000 read pairs finished. 1917 secs passed\r\n"
       ]
      },
      {
       "output_type": "stream",
       "stream": "stdout",
       "text": [
        "Thread #1: \t110300000 read pairs finished. 1917 secs passed\r\n"
       ]
      },
      {
       "output_type": "stream",
       "stream": "stdout",
       "text": [
        "Thread #0: \t110350000 read pairs finished. 1918 secs passed\r\n"
       ]
      },
      {
       "output_type": "stream",
       "stream": "stdout",
       "text": [
        "Thread #2: \t110400000 read pairs finished. 1920 secs passed\r\n"
       ]
      },
      {
       "output_type": "stream",
       "stream": "stdout",
       "text": [
        "Thread #1: \t110450000 read pairs finished. 1920 secs passed\r\n"
       ]
      },
      {
       "output_type": "stream",
       "stream": "stdout",
       "text": [
        "Thread #0: \t110500000 read pairs finished. 1921 secs passed\r\n"
       ]
      },
      {
       "output_type": "stream",
       "stream": "stdout",
       "text": [
        "Thread #2: \t110550000 read pairs finished. 1922 secs passed\r\n"
       ]
      },
      {
       "output_type": "stream",
       "stream": "stdout",
       "text": [
        "Thread #1: \t110600000 read pairs finished. 1923 secs passed\r\n"
       ]
      },
      {
       "output_type": "stream",
       "stream": "stdout",
       "text": [
        "Thread #0: \t110650000 read pairs finished. 1924 secs passed\r\n"
       ]
      },
      {
       "output_type": "stream",
       "stream": "stdout",
       "text": [
        "Thread #2: \t110700000 read pairs finished. 1926 secs passed\r\n"
       ]
      },
      {
       "output_type": "stream",
       "stream": "stdout",
       "text": [
        "Thread #1: \t110750000 read pairs finished. 1927 secs passed\r\n"
       ]
      },
      {
       "output_type": "stream",
       "stream": "stdout",
       "text": [
        "Thread #0: \t110800000 read pairs finished. 1927 secs passed\r\n"
       ]
      },
      {
       "output_type": "stream",
       "stream": "stdout",
       "text": [
        "Thread #2: \t110850000 read pairs finished. 1928 secs passed\r\n"
       ]
      },
      {
       "output_type": "stream",
       "stream": "stdout",
       "text": [
        "Thread #1: \t110900000 read pairs finished. 1929 secs passed\r\n"
       ]
      },
      {
       "output_type": "stream",
       "stream": "stdout",
       "text": [
        "Thread #0: \t110950000 read pairs finished. 1930 secs passed\r\n"
       ]
      },
      {
       "output_type": "stream",
       "stream": "stdout",
       "text": [
        "Thread #2: \t111000000 read pairs finished. 1931 secs passed\r\n"
       ]
      },
      {
       "output_type": "stream",
       "stream": "stdout",
       "text": [
        "Thread #1: \t111050000 read pairs finished. 1932 secs passed\r\n"
       ]
      },
      {
       "output_type": "stream",
       "stream": "stdout",
       "text": [
        "Thread #0: \t111100000 read pairs finished. 1933 secs passed\r\n"
       ]
      },
      {
       "output_type": "stream",
       "stream": "stdout",
       "text": [
        "Thread #2: \t111150000 read pairs finished. 1934 secs passed\r\n"
       ]
      },
      {
       "output_type": "stream",
       "stream": "stdout",
       "text": [
        "Thread #1: \t111200000 read pairs finished. 1935 secs passed\r\n"
       ]
      },
      {
       "output_type": "stream",
       "stream": "stdout",
       "text": [
        "Thread #0: \t111250000 read pairs finished. 1936 secs passed\r\n"
       ]
      },
      {
       "output_type": "stream",
       "stream": "stdout",
       "text": [
        "Thread #"
       ]
      },
      {
       "output_type": "stream",
       "stream": "stdout",
       "text": [
        "2: \t111300000 read pairs finished. 1937 secs passed\r\n"
       ]
      },
      {
       "output_type": "stream",
       "stream": "stdout",
       "text": [
        "Thread #1: \t111350000 read pairs finished. 1938 secs passed\r\n"
       ]
      },
      {
       "output_type": "stream",
       "stream": "stdout",
       "text": [
        "Thread #0: \t111400000 read pairs finished. 1938 secs passed\r\n"
       ]
      },
      {
       "output_type": "stream",
       "stream": "stdout",
       "text": [
        "Thread #2: \t111450000 read pairs finished. 1939 secs passed\r\n"
       ]
      },
      {
       "output_type": "stream",
       "stream": "stdout",
       "text": [
        "Thread #1: \t111500000 read pairs finished. 1941 secs passed\r\n"
       ]
      },
      {
       "output_type": "stream",
       "stream": "stdout",
       "text": [
        "Thread #0: \t111550000 read pairs finished. 1941 secs passed\r\n"
       ]
      },
      {
       "output_type": "stream",
       "stream": "stdout",
       "text": [
        "Thread #2: \t111600000 read pairs finished. 1942 secs passed\r\n"
       ]
      },
      {
       "output_type": "stream",
       "stream": "stdout",
       "text": [
        "Thread #1: \t111650000 read pairs finished. 1943 secs passed\r\n"
       ]
      },
      {
       "output_type": "stream",
       "stream": "stdout",
       "text": [
        "Thread #0: \t111700000 read pairs finished. 1944 secs passed\r\n"
       ]
      },
      {
       "output_type": "stream",
       "stream": "stdout",
       "text": [
        "Thread #2: \t111750000 read pairs finished. 1945 secs passed\r\n"
       ]
      },
      {
       "output_type": "stream",
       "stream": "stdout",
       "text": [
        "Thread #1: \t111800000 read pairs finished. 1946 secs passed\r\n"
       ]
      },
      {
       "output_type": "stream",
       "stream": "stdout",
       "text": [
        "Thread #0: \t111850000 read pairs finished. 1947 secs passed\r\n"
       ]
      },
      {
       "output_type": "stream",
       "stream": "stdout",
       "text": [
        "Thread #2: \t111900000 read pairs finished. 1948 secs passed\r\n"
       ]
      },
      {
       "output_type": "stream",
       "stream": "stdout",
       "text": [
        "Thread #1: \t111950000 read pairs finished. 1948 secs passed\r\n"
       ]
      },
      {
       "output_type": "stream",
       "stream": "stdout",
       "text": [
        "Thread #0: \t112000000 read pairs finished. 1949 secs passed\r\n"
       ]
      },
      {
       "output_type": "stream",
       "stream": "stdout",
       "text": [
        "Thread #2: \t112050000 read pairs finished. 1950 secs passed\r\n"
       ]
      },
      {
       "output_type": "stream",
       "stream": "stdout",
       "text": [
        "Thread #1: \t112100000 read pairs finished. 1951 secs passed\r\n"
       ]
      },
      {
       "output_type": "stream",
       "stream": "stdout",
       "text": [
        "Thread #0: \t112150000 read pairs finished. 1952 secs passed\r\n"
       ]
      },
      {
       "output_type": "stream",
       "stream": "stdout",
       "text": [
        "Thread #2: \t112200000 read pairs finished. 1953 secs passed\r\n"
       ]
      },
      {
       "output_type": "stream",
       "stream": "stdout",
       "text": [
        "Thread #1: \t112250000 read pairs finished. 1953 secs passed\r\n"
       ]
      },
      {
       "output_type": "stream",
       "stream": "stdout",
       "text": [
        "Thread #0: \t112300000 read pairs finished. 1954 secs passed\r\n"
       ]
      },
      {
       "output_type": "stream",
       "stream": "stdout",
       "text": [
        "Thread #2: \t112350000 read pairs finished. 1955 secs passed\r\n"
       ]
      },
      {
       "output_type": "stream",
       "stream": "stdout",
       "text": [
        "Thread #1: \t112400000 read pairs finished. 1956 secs passed\r\n"
       ]
      },
      {
       "output_type": "stream",
       "stream": "stdout",
       "text": [
        "Thread #0: \t112450000 read pairs finished. 1957 secs passed\r\n"
       ]
      },
      {
       "output_type": "stream",
       "stream": "stdout",
       "text": [
        "Thread #2: \t112500000 read pairs finished. 1957 secs passed\r\n"
       ]
      },
      {
       "output_type": "stream",
       "stream": "stdout",
       "text": [
        "Thread #1: \t112550000 read pairs finished. 1958 secs passed\r\n"
       ]
      },
      {
       "output_type": "stream",
       "stream": "stdout",
       "text": [
        "Thread #0: \t112600000 read pairs finished. 1959 secs passed\r\n"
       ]
      },
      {
       "output_type": "stream",
       "stream": "stdout",
       "text": [
        "Thread #2: \t112650000 read pairs finished. 1960 secs passed\r\n"
       ]
      },
      {
       "output_type": "stream",
       "stream": "stdout",
       "text": [
        "Thread #1: \t112700000 read pairs finished. 1961 secs passed\r\n"
       ]
      },
      {
       "output_type": "stream",
       "stream": "stdout",
       "text": [
        "Thread #0: \t112750000 read pairs finished. 1962 secs passed\r\n"
       ]
      },
      {
       "output_type": "stream",
       "stream": "stdout",
       "text": [
        "Thread #2: \t112800000 read pairs finished. 1962 secs passed\r\n"
       ]
      },
      {
       "output_type": "stream",
       "stream": "stdout",
       "text": [
        "Thread #1: \t112850000 read pairs finished. 1963 secs passed\r\n"
       ]
      },
      {
       "output_type": "stream",
       "stream": "stdout",
       "text": [
        "Thread #0: \t112900000 read pairs finished. 1964 secs passed\r\n"
       ]
      },
      {
       "output_type": "stream",
       "stream": "stdout",
       "text": [
        "Thread #2: \t112950000 read pairs finished. 1965 secs passed\r\n"
       ]
      },
      {
       "output_type": "stream",
       "stream": "stdout",
       "text": [
        "Thread #1: \t113000000 read pairs finished. 1966 secs passed\r\n"
       ]
      },
      {
       "output_type": "stream",
       "stream": "stdout",
       "text": [
        "Thread #0: \t113050000 read pairs finished. 1967 secs passed\r\n"
       ]
      },
      {
       "output_type": "stream",
       "stream": "stdout",
       "text": [
        "Thread #2: \t113100000 read pairs finished. 1968 secs passed\r\n"
       ]
      },
      {
       "output_type": "stream",
       "stream": "stdout",
       "text": [
        "Thread #1: \t113150000 read pairs finished. 1969 secs passed\r\n"
       ]
      },
      {
       "output_type": "stream",
       "stream": "stdout",
       "text": [
        "Thread #0: \t113200000 read pairs finished. 1969 secs passed\r\n"
       ]
      },
      {
       "output_type": "stream",
       "stream": "stdout",
       "text": [
        "Thread #2: \t113250000 read pairs finished. 1970 secs passed\r\n"
       ]
      },
      {
       "output_type": "stream",
       "stream": "stdout",
       "text": [
        "Thread #1: \t113300000 read pairs finished. 1971 secs passed\r\n"
       ]
      },
      {
       "output_type": "stream",
       "stream": "stdout",
       "text": [
        "Thread #0: \t113350000 read pairs finished. 1972 secs passed\r\n"
       ]
      },
      {
       "output_type": "stream",
       "stream": "stdout",
       "text": [
        "Thread #2: \t113400000 read pairs finished. 1973 secs passed\r\n"
       ]
      },
      {
       "output_type": "stream",
       "stream": "stdout",
       "text": [
        "Thread #1: \t113450000 read pairs finished. 1974 secs passed\r\n"
       ]
      },
      {
       "output_type": "stream",
       "stream": "stdout",
       "text": [
        "Thread #0: \t113500000 read pairs finished. 1975 secs passed\r\n"
       ]
      },
      {
       "output_type": "stream",
       "stream": "stdout",
       "text": [
        "Thread #2: \t113550000 read pairs finished. 1975 secs passed\r\n"
       ]
      },
      {
       "output_type": "stream",
       "stream": "stdout",
       "text": [
        "Thread #1: \t113600000 read pairs finished. 1976 secs passed\r\n"
       ]
      },
      {
       "output_type": "stream",
       "stream": "stdout",
       "text": [
        "Thread #0: \t113650000 read pairs finished. 1977 secs passed\r\n"
       ]
      },
      {
       "output_type": "stream",
       "stream": "stdout",
       "text": [
        "Thread #2: \t113700000 read pairs finished. 1978 secs passed\r\n"
       ]
      },
      {
       "output_type": "stream",
       "stream": "stdout",
       "text": [
        "Thread #1: \t113750000 read pairs finished. 1979 secs passed\r\n"
       ]
      },
      {
       "output_type": "stream",
       "stream": "stdout",
       "text": [
        "Thread #0: \t113800000 read pairs finished. 1979 secs passed\r\n"
       ]
      },
      {
       "output_type": "stream",
       "stream": "stdout",
       "text": [
        "Thread #2: \t113850000 read pairs finished. 1980 secs passed\r\n"
       ]
      },
      {
       "output_type": "stream",
       "stream": "stdout",
       "text": [
        "Thread #1: \t113900000 read pairs finished. 1981 secs passed\r\n"
       ]
      },
      {
       "output_type": "stream",
       "stream": "stdout",
       "text": [
        "Thread #0: \t113950000 read pairs finished. 1982 secs passed\r\n"
       ]
      },
      {
       "output_type": "stream",
       "stream": "stdout",
       "text": [
        "Thread #2: \t114000000 read pairs finished. 1984 secs passed\r\n"
       ]
      },
      {
       "output_type": "stream",
       "stream": "stdout",
       "text": [
        "Thread #1: \t114050000 read pairs finished. 1985 secs passed\r\n"
       ]
      },
      {
       "output_type": "stream",
       "stream": "stdout",
       "text": [
        "Thread #0: \t114100000 read pairs finished. 1986 secs passed\r\n"
       ]
      },
      {
       "output_type": "stream",
       "stream": "stdout",
       "text": [
        "Thread #2: \t114150000 read pairs finished. 1987 secs passed\r\n"
       ]
      },
      {
       "output_type": "stream",
       "stream": "stdout",
       "text": [
        "Thread #1: \t114200000 read pairs finished. 1988 secs passed\r\n"
       ]
      },
      {
       "output_type": "stream",
       "stream": "stdout",
       "text": [
        "Thread #0: \t114250000 read pairs finished. 1988 secs passed\r\n"
       ]
      },
      {
       "output_type": "stream",
       "stream": "stdout",
       "text": [
        "Thread #2: \t114300000 read pairs finished. 1990 secs passed\r\n"
       ]
      },
      {
       "output_type": "stream",
       "stream": "stdout",
       "text": [
        "Thread #1: \t114350000 read pairs finished. 1990 secs passed\r\n"
       ]
      },
      {
       "output_type": "stream",
       "stream": "stdout",
       "text": [
        "Thread #0: \t114400000 read pairs finished. 1991 secs passed\r\n"
       ]
      },
      {
       "output_type": "stream",
       "stream": "stdout",
       "text": [
        "Thread #2: \t114450000 read pairs finished. 1992 secs passed\r\n"
       ]
      },
      {
       "output_type": "stream",
       "stream": "stdout",
       "text": [
        "Thread #1: \t114500000 read pairs finished. 1993 secs passed\r\n"
       ]
      },
      {
       "output_type": "stream",
       "stream": "stdout",
       "text": [
        "Thread #0: \t114550000 read pairs finished. 1994 secs passed\r\n"
       ]
      },
      {
       "output_type": "stream",
       "stream": "stdout",
       "text": [
        "Thread #2: \t114600000 read pairs finished. 1994 secs passed\r\n"
       ]
      },
      {
       "output_type": "stream",
       "stream": "stdout",
       "text": [
        "Thread #1: \t114650000 read pairs finished. 1995 secs passed\r\n"
       ]
      },
      {
       "output_type": "stream",
       "stream": "stdout",
       "text": [
        "Thread #0: \t114700000 read pairs finished. 1996 secs passed\r\n"
       ]
      },
      {
       "output_type": "stream",
       "stream": "stdout",
       "text": [
        "Thread #2: \t114750000 read pairs finished. 1997 secs passed\r\n"
       ]
      },
      {
       "output_type": "stream",
       "stream": "stdout",
       "text": [
        "Thread #1: \t114800000 read pairs finished. 1998 secs passed\r\n"
       ]
      },
      {
       "output_type": "stream",
       "stream": "stdout",
       "text": [
        "Thread #0: \t114850000 read pairs finished. 1999 secs passed\r\n"
       ]
      },
      {
       "output_type": "stream",
       "stream": "stdout",
       "text": [
        "Thread #2: \t114900000 read pairs finished. 1999 secs passed\r\n"
       ]
      },
      {
       "output_type": "stream",
       "stream": "stdout",
       "text": [
        "Thread #1: \t114950000 read pairs finished. 2000 secs passed\r\n"
       ]
      },
      {
       "output_type": "stream",
       "stream": "stdout",
       "text": [
        "Thread #0: \t115000000 read pairs finished. 2001 secs passed\r\n"
       ]
      },
      {
       "output_type": "stream",
       "stream": "stdout",
       "text": [
        "Thread #2: \t115050000 read pairs finished. 2002 secs passed\r\n"
       ]
      },
      {
       "output_type": "stream",
       "stream": "stdout",
       "text": [
        "Thread #1: \t115100000 read pairs finished. 2003 secs passed\r\n"
       ]
      },
      {
       "output_type": "stream",
       "stream": "stdout",
       "text": [
        "Thread #0: \t115150000 read pairs finished. 2004 secs passed\r\n"
       ]
      },
      {
       "output_type": "stream",
       "stream": "stdout",
       "text": [
        "Thread #2: \t115200000 read pairs finished. 2005 secs passed\r\n"
       ]
      },
      {
       "output_type": "stream",
       "stream": "stdout",
       "text": [
        "Thread #1: \t115250000 read pairs finished. 2006 secs passed\r\n"
       ]
      },
      {
       "output_type": "stream",
       "stream": "stdout",
       "text": [
        "Thread #0: \t115300000 read pairs finished. 2006 secs passed\r\n"
       ]
      },
      {
       "output_type": "stream",
       "stream": "stdout",
       "text": [
        "Thread #2: \t115350000 read pairs finished. 2008 secs passed\r\n"
       ]
      },
      {
       "output_type": "stream",
       "stream": "stdout",
       "text": [
        "Thread #1: \t115400000 read pairs finished. 2009 secs passed\r\n"
       ]
      },
      {
       "output_type": "stream",
       "stream": "stdout",
       "text": [
        "Thread #0: \t115450000 read pairs finished. 2009 secs passed\r\n"
       ]
      },
      {
       "output_type": "stream",
       "stream": "stdout",
       "text": [
        "Thread #2: \t115500000 read pairs finished. 2010 secs passed\r\n"
       ]
      },
      {
       "output_type": "stream",
       "stream": "stdout",
       "text": [
        "Thread #1: \t115550000 read pairs finished. 2011 secs passed\r\n"
       ]
      },
      {
       "output_type": "stream",
       "stream": "stdout",
       "text": [
        "Thread #0: \t115600000 read pairs finished. 2012 secs passed\r\n"
       ]
      },
      {
       "output_type": "stream",
       "stream": "stdout",
       "text": [
        "Thread #2: \t115650000 read pairs finished. 2013 secs passed\r\n"
       ]
      },
      {
       "output_type": "stream",
       "stream": "stdout",
       "text": [
        "Thread #1: \t115700000 read pairs finished. 2013 secs passed\r\n"
       ]
      },
      {
       "output_type": "stream",
       "stream": "stdout",
       "text": [
        "Thread #0: \t115750000 read pairs finished. 2014 secs passed\r\n"
       ]
      },
      {
       "output_type": "stream",
       "stream": "stdout",
       "text": [
        "Thread #2: \t115800000 read pairs finished. 2015 secs passed\r\n"
       ]
      },
      {
       "output_type": "stream",
       "stream": "stdout",
       "text": [
        "Thread #1: \t115850000 read pairs finished. 2016 secs passed\r\n"
       ]
      },
      {
       "output_type": "stream",
       "stream": "stdout",
       "text": [
        "Thread #0: \t115900000 read pairs finished. 2017 secs passed\r\n"
       ]
      },
      {
       "output_type": "stream",
       "stream": "stdout",
       "text": [
        "Thread #2: \t115950000 read pairs finished. 2018 secs passed\r\n"
       ]
      },
      {
       "output_type": "stream",
       "stream": "stdout",
       "text": [
        "Thread #1: \t116000000 read pairs finished. 2019 secs passed\r\n"
       ]
      },
      {
       "output_type": "stream",
       "stream": "stdout",
       "text": [
        "Thread #0: \t116050000 read pairs finished. 2020 secs passed\r\n"
       ]
      },
      {
       "output_type": "stream",
       "stream": "stdout",
       "text": [
        "Thread #2: \t116100000 read pairs finished. 2021 secs passed\r\n"
       ]
      },
      {
       "output_type": "stream",
       "stream": "stdout",
       "text": [
        "Thread #1: \t116150000 read pairs finished. 2021 secs passed\r\n"
       ]
      },
      {
       "output_type": "stream",
       "stream": "stdout",
       "text": [
        "Thread #0: \t116200000 read pairs finished. 2022 secs passed\r\n"
       ]
      },
      {
       "output_type": "stream",
       "stream": "stdout",
       "text": [
        "Thread #2: \t116250000 read pairs finished. 2023 secs passed\r\n"
       ]
      },
      {
       "output_type": "stream",
       "stream": "stdout",
       "text": [
        "Thread #1: \t116300000 read pairs finished. 2024 secs passed\r\n"
       ]
      },
      {
       "output_type": "stream",
       "stream": "stdout",
       "text": [
        "Thread #0: \t116350000 read pairs finished. 2025 secs passed\r\n"
       ]
      },
      {
       "output_type": "stream",
       "stream": "stdout",
       "text": [
        "Thread #2: \t116400000 read pairs finished. 2026 secs passed\r\n"
       ]
      },
      {
       "output_type": "stream",
       "stream": "stdout",
       "text": [
        "Thread #1: \t116450000 read pairs finished. 2027 secs passed\r\n"
       ]
      },
      {
       "output_type": "stream",
       "stream": "stdout",
       "text": [
        "Thread #0: \t116500000 read pairs finished. 2028 secs passed\r\n"
       ]
      },
      {
       "output_type": "stream",
       "stream": "stdout",
       "text": [
        "Thread #2: \t116550000 read pairs finished. 2029 secs passed\r\n"
       ]
      },
      {
       "output_type": "stream",
       "stream": "stdout",
       "text": [
        "Thread #1: \t116600000 read pairs finished. 2030 secs passed\r\n"
       ]
      },
      {
       "output_type": "stream",
       "stream": "stdout",
       "text": [
        "Thread #0: \t116650000 read pairs finished. 2031 secs passed\r\n"
       ]
      },
      {
       "output_type": "stream",
       "stream": "stdout",
       "text": [
        "Thread #2: \t116700000 read pairs finished. 2032 secs passed\r\n"
       ]
      },
      {
       "output_type": "stream",
       "stream": "stdout",
       "text": [
        "Thread #1: \t116750000 read pairs finished. 2032 secs passed\r\n"
       ]
      },
      {
       "output_type": "stream",
       "stream": "stdout",
       "text": [
        "Thread #0: \t116800000 read pairs finished. 2033 secs passed\r\n"
       ]
      },
      {
       "output_type": "stream",
       "stream": "stdout",
       "text": [
        "Thread #2: \t116850000 read pairs finished. 2034 secs passed\r\n"
       ]
      },
      {
       "output_type": "stream",
       "stream": "stdout",
       "text": [
        "Thread #1: \t116900000 read pairs finished. 2035 secs passed\r\n"
       ]
      },
      {
       "output_type": "stream",
       "stream": "stdout",
       "text": [
        "Thread #0: \t116950000 read pairs finished. 2036 secs passed\r\n"
       ]
      },
      {
       "output_type": "stream",
       "stream": "stdout",
       "text": [
        "Thread #2: \t117000000 read pairs finished. 2037 secs passed\r\n"
       ]
      },
      {
       "output_type": "stream",
       "stream": "stdout",
       "text": [
        "Thread #1: \t117050000 read pairs finished. 2038 secs passed\r\n"
       ]
      },
      {
       "output_type": "stream",
       "stream": "stdout",
       "text": [
        "Thread #0: \t117100000 read pairs finished. 2038 secs passed\r\n"
       ]
      },
      {
       "output_type": "stream",
       "stream": "stdout",
       "text": [
        "Thread #2: \t117150000 read pairs finished. 2039 secs passed\r\n"
       ]
      },
      {
       "output_type": "stream",
       "stream": "stdout",
       "text": [
        "Thread #1: \t117200000 read pairs finished. 2040 secs passed\r\n"
       ]
      },
      {
       "output_type": "stream",
       "stream": "stdout",
       "text": [
        "Thread #0: \t117250000 read pairs finished. 2041 secs passed\r\n"
       ]
      },
      {
       "output_type": "stream",
       "stream": "stdout",
       "text": [
        "Thread #2: \t117300000 read pairs finished. 2042 secs passed\r\n"
       ]
      },
      {
       "output_type": "stream",
       "stream": "stdout",
       "text": [
        "Thread #1: \t117350000 read pairs finished. 2043 secs passed\r\n"
       ]
      },
      {
       "output_type": "stream",
       "stream": "stdout",
       "text": [
        "Thread #0: \t117400000 read pairs finished. 2044 secs passed\r\n"
       ]
      },
      {
       "output_type": "stream",
       "stream": "stdout",
       "text": [
        "Thread #2: \t117450000 read pairs finished. 2045 secs passed\r\n"
       ]
      },
      {
       "output_type": "stream",
       "stream": "stdout",
       "text": [
        "Thread #1: \t117500000 read pairs finished. 2046 secs passed\r\n"
       ]
      },
      {
       "output_type": "stream",
       "stream": "stdout",
       "text": [
        "Thread #0: \t117550000 read pairs finished. 2046 secs passed\r\n"
       ]
      },
      {
       "output_type": "stream",
       "stream": "stdout",
       "text": [
        "Thread #2: \t117600000 read pairs finished. 2047 secs passed\r\n"
       ]
      },
      {
       "output_type": "stream",
       "stream": "stdout",
       "text": [
        "Thread #1: \t117650000 read pairs finished. 2048 secs passed\r\n"
       ]
      },
      {
       "output_type": "stream",
       "stream": "stdout",
       "text": [
        "Thread #0: \t117700000 read pairs finished. 2049 secs passed\r\n"
       ]
      },
      {
       "output_type": "stream",
       "stream": "stdout",
       "text": [
        "Thread #2: \t117750000 read pairs finished. 2050 secs passed\r\n"
       ]
      },
      {
       "output_type": "stream",
       "stream": "stdout",
       "text": [
        "Thread #1: \t117800000 read pairs finished. 2050 secs passed\r\n"
       ]
      },
      {
       "output_type": "stream",
       "stream": "stdout",
       "text": [
        "Thread #0: \t117850000 read pairs finished. 2051 secs passed\r\n"
       ]
      },
      {
       "output_type": "stream",
       "stream": "stdout",
       "text": [
        "Thread #2: \t117900000 read pairs finished. 2052 secs passed\r\n"
       ]
      },
      {
       "output_type": "stream",
       "stream": "stdout",
       "text": [
        "Thread #1: \t117950000 read pairs finished. 2053 secs passed\r\n"
       ]
      },
      {
       "output_type": "stream",
       "stream": "stdout",
       "text": [
        "Thread #0: \t118000000 read pairs finished. 2054 secs passed\r\n"
       ]
      },
      {
       "output_type": "stream",
       "stream": "stdout",
       "text": [
        "Thread #2: \t118050000 read pairs finished. 2055 secs passed\r\n"
       ]
      },
      {
       "output_type": "stream",
       "stream": "stdout",
       "text": [
        "Thread #1: \t118100000 read pairs finished. 2056 secs passed\r\n"
       ]
      },
      {
       "output_type": "stream",
       "stream": "stdout",
       "text": [
        "Thread #0: \t118150000 read pairs finished. 2057 secs passed\r\n"
       ]
      },
      {
       "output_type": "stream",
       "stream": "stdout",
       "text": [
        "Thread #2: \t118200000 read pairs finished. 2058 secs passed\r\n"
       ]
      },
      {
       "output_type": "stream",
       "stream": "stdout",
       "text": [
        "Thread #1: \t118250000 read pairs finished. 2058 secs passed\r\n"
       ]
      },
      {
       "output_type": "stream",
       "stream": "stdout",
       "text": [
        "Thread #0: \t118300000 read pairs finished. 2059 secs passed\r\n"
       ]
      },
      {
       "output_type": "stream",
       "stream": "stdout",
       "text": [
        "Thread #2: \t118350000 read pairs finished. 2060 secs passed\r\n"
       ]
      },
      {
       "output_type": "stream",
       "stream": "stdout",
       "text": [
        "Thread #1: \t118400000 read pairs finished. 2061 secs passed\r\n"
       ]
      },
      {
       "output_type": "stream",
       "stream": "stdout",
       "text": [
        "Thread #0: \t118450000 read pairs finished. 2062 secs passed\r\n"
       ]
      },
      {
       "output_type": "stream",
       "stream": "stdout",
       "text": [
        "Thread #2: \t118500000 read pairs finished. 2063 secs passed\r\n"
       ]
      },
      {
       "output_type": "stream",
       "stream": "stdout",
       "text": [
        "Thread #1: \t118550000 read pairs finished. 2064 secs passed\r\n"
       ]
      },
      {
       "output_type": "stream",
       "stream": "stdout",
       "text": [
        "Thread #0: \t118600000 read pairs finished. 2065 secs passed\r\n"
       ]
      },
      {
       "output_type": "stream",
       "stream": "stdout",
       "text": [
        "Thread #2: \t118650000 read pairs finished. 2065 secs passed\r\n"
       ]
      },
      {
       "output_type": "stream",
       "stream": "stdout",
       "text": [
        "Thread #1: \t118700000 read pairs finished. 2066 secs passed\r\n"
       ]
      },
      {
       "output_type": "stream",
       "stream": "stdout",
       "text": [
        "Thread #0: \t118750000 read pairs finished. 2067 secs passed\r\n"
       ]
      },
      {
       "output_type": "stream",
       "stream": "stdout",
       "text": [
        "Thread #2: \t118800000 read pairs finished. 2068 secs passed\r\n"
       ]
      },
      {
       "output_type": "stream",
       "stream": "stdout",
       "text": [
        "Thread #1: \t118850000 read pairs finished. 2069 secs passed\r\n"
       ]
      },
      {
       "output_type": "stream",
       "stream": "stdout",
       "text": [
        "Thread #0: \t118900000 read pairs finished. 2070 secs passed\r\n"
       ]
      },
      {
       "output_type": "stream",
       "stream": "stdout",
       "text": [
        "Thread #2: \t118950000 read pairs finished. 2071 secs passed\r\n"
       ]
      },
      {
       "output_type": "stream",
       "stream": "stdout",
       "text": [
        "Thread #1: \t119000000 read pairs finished. 2072 secs passed\r\n"
       ]
      },
      {
       "output_type": "stream",
       "stream": "stdout",
       "text": [
        "Thread #0: \t119050000 read pairs finished. 2073 secs passed\r\n"
       ]
      },
      {
       "output_type": "stream",
       "stream": "stdout",
       "text": [
        "Thread #2: \t119100000 read pairs finished. 2074 secs passed\r\n"
       ]
      },
      {
       "output_type": "stream",
       "stream": "stdout",
       "text": [
        "Thread #1: \t119150000 read pairs finished. 2075 secs passed\r\n"
       ]
      },
      {
       "output_type": "stream",
       "stream": "stdout",
       "text": [
        "Thread #0: \t119200000 read pairs finished. 2076 secs passed\r\n"
       ]
      },
      {
       "output_type": "stream",
       "stream": "stdout",
       "text": [
        "Thread #2: \t119250000 read pairs finished. 2077 secs passed\r\n"
       ]
      },
      {
       "output_type": "stream",
       "stream": "stdout",
       "text": [
        "Thread #1: \t119300000 read pairs finished. 2078 secs passed\r\n"
       ]
      },
      {
       "output_type": "stream",
       "stream": "stdout",
       "text": [
        "Thread #0: \t119350000 read pairs finished. 2079 secs passed\r\n"
       ]
      },
      {
       "output_type": "stream",
       "stream": "stdout",
       "text": [
        "Thread #2: \t119400000 read pairs finished. 2080 secs passed\r\n"
       ]
      },
      {
       "output_type": "stream",
       "stream": "stdout",
       "text": [
        "Thread #1: \t119450000 read pairs finished. 2081 secs passed\r\n"
       ]
      },
      {
       "output_type": "stream",
       "stream": "stdout",
       "text": [
        "Thread #0: \t119500000 read pairs finished. 2082 secs passed\r\n"
       ]
      },
      {
       "output_type": "stream",
       "stream": "stdout",
       "text": [
        "Thread #2: \t119550000 read pairs finished. 2082 secs passed\r\n"
       ]
      },
      {
       "output_type": "stream",
       "stream": "stdout",
       "text": [
        "Thread #1: \t119600000 read pairs finished. 2083 secs passed\r\n"
       ]
      },
      {
       "output_type": "stream",
       "stream": "stdout",
       "text": [
        "Thread #0: \t119650000 read pairs finished. 2085 secs passed\r\n"
       ]
      },
      {
       "output_type": "stream",
       "stream": "stdout",
       "text": [
        "Thread #2: \t119700000 read pairs finished. 2085 secs passed\r\n"
       ]
      },
      {
       "output_type": "stream",
       "stream": "stdout",
       "text": [
        "Thread #1: \t119750000 read pairs finished. 2087 secs passed\r\n"
       ]
      },
      {
       "output_type": "stream",
       "stream": "stdout",
       "text": [
        "Thread #0: \t119800000 read pairs finished. 2088 secs passed\r\n"
       ]
      },
      {
       "output_type": "stream",
       "stream": "stdout",
       "text": [
        "Thread #2: \t119850000 read pairs finished. 2089 secs passed\r\n"
       ]
      },
      {
       "output_type": "stream",
       "stream": "stdout",
       "text": [
        "Thread #1: \t119900000 read pairs finished. 2090 secs passed\r\n"
       ]
      },
      {
       "output_type": "stream",
       "stream": "stdout",
       "text": [
        "Thread #0: \t119950000 read pairs finished. 2090 secs passed\r\n"
       ]
      },
      {
       "output_type": "stream",
       "stream": "stdout",
       "text": [
        "Thread #2: \t120000000 read pairs finished. 2091 secs passed\r\n"
       ]
      },
      {
       "output_type": "stream",
       "stream": "stdout",
       "text": [
        "Thread #1: \t120050000 read pairs finished. 2092 secs passed\r\n"
       ]
      },
      {
       "output_type": "stream",
       "stream": "stdout",
       "text": [
        "Thread #0: \t120100000 read pairs finished. 2093 secs passed\r\n"
       ]
      },
      {
       "output_type": "stream",
       "stream": "stdout",
       "text": [
        "Thread #2: \t120150000 read pairs finished. 2094 secs passed\r\n"
       ]
      },
      {
       "output_type": "stream",
       "stream": "stdout",
       "text": [
        "Thread #1: \t120200000 read pairs finished. 2095 secs passed\r\n"
       ]
      },
      {
       "output_type": "stream",
       "stream": "stdout",
       "text": [
        "Thread #0: \t120250000 read pairs finished. 2096 secs passed\r\n"
       ]
      },
      {
       "output_type": "stream",
       "stream": "stdout",
       "text": [
        "Thread #2: \t120300000 read pairs finished. 2097 secs passed\r\n"
       ]
      },
      {
       "output_type": "stream",
       "stream": "stdout",
       "text": [
        "Thread #1: \t120350000 read pairs finished. 2098 secs passed\r\n"
       ]
      },
      {
       "output_type": "stream",
       "stream": "stdout",
       "text": [
        "Thread #0: \t120400000 read pairs finished. 2099 secs passed\r\n"
       ]
      },
      {
       "output_type": "stream",
       "stream": "stdout",
       "text": [
        "Thread #2: \t120450000 read pairs finished. 2100 secs passed\r\n"
       ]
      },
      {
       "output_type": "stream",
       "stream": "stdout",
       "text": [
        "Thread #1: \t120500000 read pairs finished. 2101 secs passed\r\n"
       ]
      },
      {
       "output_type": "stream",
       "stream": "stdout",
       "text": [
        "Thread #0: \t120550000 read pairs finished. 2102 secs passed\r\n"
       ]
      },
      {
       "output_type": "stream",
       "stream": "stdout",
       "text": [
        "Thread #2: \t120600000 read pairs finished. 2103 secs passed\r\n"
       ]
      },
      {
       "output_type": "stream",
       "stream": "stdout",
       "text": [
        "Thread #1: \t120650000 read pairs finished. 2103 secs passed\r\n"
       ]
      },
      {
       "output_type": "stream",
       "stream": "stdout",
       "text": [
        "Thread #0: \t120700000 read pairs finished. 2104 secs passed\r\n"
       ]
      },
      {
       "output_type": "stream",
       "stream": "stdout",
       "text": [
        "Thread #2: \t120750000 read pairs finished. 2105 secs passed\r\n"
       ]
      },
      {
       "output_type": "stream",
       "stream": "stdout",
       "text": [
        "Thread #1: \t120800000 read pairs finished. 2106 secs passed\r\n"
       ]
      },
      {
       "output_type": "stream",
       "stream": "stdout",
       "text": [
        "Thread #0: \t120850000 read pairs finished. 2107 secs passed\r\n"
       ]
      },
      {
       "output_type": "stream",
       "stream": "stdout",
       "text": [
        "Thread #2: \t120900000 read pairs finished. 2108 secs passed\r\n"
       ]
      },
      {
       "output_type": "stream",
       "stream": "stdout",
       "text": [
        "Thread #1: \t120950000 read pairs finished. 2109 secs passed\r\n"
       ]
      },
      {
       "output_type": "stream",
       "stream": "stdout",
       "text": [
        "Thread #0: \t121000000 read pairs finished. 2109 secs passed\r\n"
       ]
      },
      {
       "output_type": "stream",
       "stream": "stdout",
       "text": [
        "Thread #2: \t121050000 read pairs finished. 2110 secs passed\r\n"
       ]
      },
      {
       "output_type": "stream",
       "stream": "stdout",
       "text": [
        "Thread #1: \t121100000 read pairs finished. 2111 secs passed\r\n"
       ]
      },
      {
       "output_type": "stream",
       "stream": "stdout",
       "text": [
        "Thread #0: \t121150000 read pairs finished. 2112 secs passed\r\n"
       ]
      },
      {
       "output_type": "stream",
       "stream": "stdout",
       "text": [
        "Thread #2: \t121200000 read pairs finished. 2113 secs passed\r\n"
       ]
      },
      {
       "output_type": "stream",
       "stream": "stdout",
       "text": [
        "Thread #1: \t121250000 read pairs finished. 2113 secs passed\r\n"
       ]
      },
      {
       "output_type": "stream",
       "stream": "stdout",
       "text": [
        "Thread #0: \t121300000 read pairs finished. 2114 secs passed\r\n"
       ]
      },
      {
       "output_type": "stream",
       "stream": "stdout",
       "text": [
        "Thread #2: \t121350000 read pairs finished. 2115 secs passed\r\n"
       ]
      },
      {
       "output_type": "stream",
       "stream": "stdout",
       "text": [
        "Thread #1: \t121400000 read pairs finished. 2116 secs passed\r\n"
       ]
      },
      {
       "output_type": "stream",
       "stream": "stdout",
       "text": [
        "Thread #0: \t121450000 read pairs finished. 2116 secs passed\r\n"
       ]
      },
      {
       "output_type": "stream",
       "stream": "stdout",
       "text": [
        "Thread #2: \t121500000 read pairs finished. 2117 secs passed\r\n"
       ]
      },
      {
       "output_type": "stream",
       "stream": "stdout",
       "text": [
        "Thread #1: \t121550000 read pairs finished. 2118 secs passed\r\n"
       ]
      },
      {
       "output_type": "stream",
       "stream": "stdout",
       "text": [
        "Thread #0: \t121600000 read pairs finished. 2119 secs passed\r\n"
       ]
      },
      {
       "output_type": "stream",
       "stream": "stdout",
       "text": [
        "Thread #2: \t121650000 read pairs finished. 2120 secs passed\r\n"
       ]
      },
      {
       "output_type": "stream",
       "stream": "stdout",
       "text": [
        "Thread #1: \t121700000 read pairs finished. 2120 secs passed\r\n"
       ]
      },
      {
       "output_type": "stream",
       "stream": "stdout",
       "text": [
        "Thread #0: \t121750000 read pairs finished. 2121 secs passed\r\n"
       ]
      },
      {
       "output_type": "stream",
       "stream": "stdout",
       "text": [
        "Thread #2: \t121800000 read pairs finished. 2122 secs passed\r\n"
       ]
      },
      {
       "output_type": "stream",
       "stream": "stdout",
       "text": [
        "Thread #1: \t121850000 read pairs finished. 2123 secs passed\r\n"
       ]
      },
      {
       "output_type": "stream",
       "stream": "stdout",
       "text": [
        "Thread #0: \t121900000 read pairs finished. 2124 secs passed\r\n"
       ]
      },
      {
       "output_type": "stream",
       "stream": "stdout",
       "text": [
        "Thread #2: \t121950000 read pairs finished. 2125 secs passed\r\n"
       ]
      },
      {
       "output_type": "stream",
       "stream": "stdout",
       "text": [
        "Thread #1: \t122000000 read pairs finished. 2126 secs passed\r\n"
       ]
      },
      {
       "output_type": "stream",
       "stream": "stdout",
       "text": [
        "Thread #0: \t122050000 read pairs finished. 2127 secs passed\r\n"
       ]
      },
      {
       "output_type": "stream",
       "stream": "stdout",
       "text": [
        "Thread #2: \t122100000 read pairs finished. 2128 secs passed\r\n"
       ]
      },
      {
       "output_type": "stream",
       "stream": "stdout",
       "text": [
        "Thread #1: \t122150000 read pairs finished. 2128 secs passed\r\n"
       ]
      },
      {
       "output_type": "stream",
       "stream": "stdout",
       "text": [
        "Thread #0: \t122200000 read pairs finished. 2129 secs passed\r\n"
       ]
      },
      {
       "output_type": "stream",
       "stream": "stdout",
       "text": [
        "Thread #2: \t122250000 read pairs finished. 2130 secs passed\r\n"
       ]
      },
      {
       "output_type": "stream",
       "stream": "stdout",
       "text": [
        "Thread #1: \t122300000 read pairs finished. 2131 secs passed\r\n"
       ]
      },
      {
       "output_type": "stream",
       "stream": "stdout",
       "text": [
        "Thread #0: \t122350000 read pairs finished. 2132 secs passed\r\n"
       ]
      },
      {
       "output_type": "stream",
       "stream": "stdout",
       "text": [
        "Thread #2: \t122400000 read pairs finished. 2133 secs passed\r\n"
       ]
      },
      {
       "output_type": "stream",
       "stream": "stdout",
       "text": [
        "Thread #1: \t122450000 read pairs finished. 2134 secs passed\r\n"
       ]
      },
      {
       "output_type": "stream",
       "stream": "stdout",
       "text": [
        "Thread #0: \t122500000 read pairs finished. 2135 secs passed\r\n"
       ]
      },
      {
       "output_type": "stream",
       "stream": "stdout",
       "text": [
        "Thread #2: \t122550000 read pairs finished. 2135 secs passed\r\n"
       ]
      },
      {
       "output_type": "stream",
       "stream": "stdout",
       "text": [
        "Thread #1: \t122600000 read pairs finished. 2136 secs passed\r\n"
       ]
      },
      {
       "output_type": "stream",
       "stream": "stdout",
       "text": [
        "Thread #0: \t122650000 read pairs finished. 2137 secs passed\r\n"
       ]
      },
      {
       "output_type": "stream",
       "stream": "stdout",
       "text": [
        "Thread #2: \t122700000 read pairs finished. 2138 secs passed\r\n"
       ]
      },
      {
       "output_type": "stream",
       "stream": "stdout",
       "text": [
        "Thread #1: \t122750000 read pairs finished. 2139 secs passed\r\n"
       ]
      },
      {
       "output_type": "stream",
       "stream": "stdout",
       "text": [
        "Thread #0: \t122800000 read pairs finished. 2140 secs passed\r\n"
       ]
      },
      {
       "output_type": "stream",
       "stream": "stdout",
       "text": [
        "Thread #2: \t122850000 read pairs finished. 2140 secs passed\r\n"
       ]
      },
      {
       "output_type": "stream",
       "stream": "stdout",
       "text": [
        "Thread #1: \t122900000 read pairs finished. 2142 secs passed\r\n"
       ]
      },
      {
       "output_type": "stream",
       "stream": "stdout",
       "text": [
        "Thread #0: \t122950000 read pairs finished. 2143 secs passed\r\n"
       ]
      },
      {
       "output_type": "stream",
       "stream": "stdout",
       "text": [
        "Thread #2: \t123000000 read pairs finished. 2143 secs passed\r\n"
       ]
      },
      {
       "output_type": "stream",
       "stream": "stdout",
       "text": [
        "Thread #1: \t123050000 read pairs finished. 2144 secs passed\r\n"
       ]
      },
      {
       "output_type": "stream",
       "stream": "stdout",
       "text": [
        "Thread #0: \t123100000 read pairs finished. 2145 secs passed\r\n"
       ]
      },
      {
       "output_type": "stream",
       "stream": "stdout",
       "text": [
        "Thread #2: \t123150000 read pairs finished. 2146 secs passed\r\n"
       ]
      },
      {
       "output_type": "stream",
       "stream": "stdout",
       "text": [
        "Thread #1: \t123200000 read pairs finished. 2147 secs passed\r\n"
       ]
      },
      {
       "output_type": "stream",
       "stream": "stdout",
       "text": [
        "Thread #0: \t123250000 read pairs finished. 2148 secs passed\r\n"
       ]
      },
      {
       "output_type": "stream",
       "stream": "stdout",
       "text": [
        "Thread #2: \t123300000 read pairs finished. 2148 secs passed\r\n"
       ]
      },
      {
       "output_type": "stream",
       "stream": "stdout",
       "text": [
        "Thread #1: \t123350000 read pairs finished. 2149 secs passed\r\n"
       ]
      },
      {
       "output_type": "stream",
       "stream": "stdout",
       "text": [
        "Thread #0: \t123400000 read pairs finished. 2150 secs passed\r\n"
       ]
      },
      {
       "output_type": "stream",
       "stream": "stdout",
       "text": [
        "Thread #2: \t123450000 read pairs finished. 2151 secs passed\r\n"
       ]
      },
      {
       "output_type": "stream",
       "stream": "stdout",
       "text": [
        "Thread #1: \t123500000 read pairs finished. 2152 secs passed\r\n"
       ]
      },
      {
       "output_type": "stream",
       "stream": "stdout",
       "text": [
        "Thread #0: \t123550000 read pairs finished. 2153 secs passed\r\n"
       ]
      },
      {
       "output_type": "stream",
       "stream": "stdout",
       "text": [
        "Thread #2: \t123600000 read pairs finished. 2154 secs passed\r\n"
       ]
      },
      {
       "output_type": "stream",
       "stream": "stdout",
       "text": [
        "Thread #1: \t123650000 read pairs finished. 2155 secs passed\r\n"
       ]
      },
      {
       "output_type": "stream",
       "stream": "stdout",
       "text": [
        "Thread #0: \t123700000 read pairs finished. 2156 secs passed\r\n"
       ]
      },
      {
       "output_type": "stream",
       "stream": "stdout",
       "text": [
        "Thread #2: \t123750000 read pairs finished. 2157 secs passed\r\n"
       ]
      },
      {
       "output_type": "stream",
       "stream": "stdout",
       "text": [
        "Thread #1: \t123800000 read pairs finished. 2158 secs passed\r\n"
       ]
      },
      {
       "output_type": "stream",
       "stream": "stdout",
       "text": [
        "Thread #0: \t123850000 read pairs finished. 2159 secs passed\r\n"
       ]
      },
      {
       "output_type": "stream",
       "stream": "stdout",
       "text": [
        "Thread #2: \t123900000 read pairs finished. 2160 secs passed\r\n"
       ]
      },
      {
       "output_type": "stream",
       "stream": "stdout",
       "text": [
        "Thread #1: \t123950000 read pairs finished. 2161 secs passed\r\n"
       ]
      },
      {
       "output_type": "stream",
       "stream": "stdout",
       "text": [
        "Thread #0: \t124000000 read pairs finished. 2162 secs passed\r\n"
       ]
      },
      {
       "output_type": "stream",
       "stream": "stdout",
       "text": [
        "Thread #2: \t124050000 read pairs finished. 2163 secs passed\r\n"
       ]
      },
      {
       "output_type": "stream",
       "stream": "stdout",
       "text": [
        "Thread #1: \t124100000 read pairs finished. 2163 secs passed\r\n"
       ]
      },
      {
       "output_type": "stream",
       "stream": "stdout",
       "text": [
        "Thread #0: \t124150000 read pairs finished. 2165 secs passed\r\n"
       ]
      },
      {
       "output_type": "stream",
       "stream": "stdout",
       "text": [
        "Thread #2: \t124200000 read pairs finished. 2165 secs passed\r\n"
       ]
      },
      {
       "output_type": "stream",
       "stream": "stdout",
       "text": [
        "Thread #1: \t124250000 read pairs finished. 2166 secs passed\r\n"
       ]
      },
      {
       "output_type": "stream",
       "stream": "stdout",
       "text": [
        "Thread #0: \t124300000 read pairs finished. 2167 secs passed\r\n"
       ]
      },
      {
       "output_type": "stream",
       "stream": "stdout",
       "text": [
        "Thread #2: \t124350000 read pairs finished. 2168 secs passed\r\n"
       ]
      },
      {
       "output_type": "stream",
       "stream": "stdout",
       "text": [
        "Thread #1: \t124400000 read pairs finished. 2169 secs passed\r\n"
       ]
      },
      {
       "output_type": "stream",
       "stream": "stdout",
       "text": [
        "Thread #0: \t124450000 read pairs finished. 2170 secs passed\r\n"
       ]
      },
      {
       "output_type": "stream",
       "stream": "stdout",
       "text": [
        "Thread #2: \t124500000 read pairs finished. 2170 secs passed\r\n"
       ]
      },
      {
       "output_type": "stream",
       "stream": "stdout",
       "text": [
        "Thread #1: \t124550000 read pairs finished. 2171 secs passed\r\n"
       ]
      },
      {
       "output_type": "stream",
       "stream": "stdout",
       "text": [
        "Thread #0: \t124600000 read pairs finished. 2172 secs passed\r\n"
       ]
      },
      {
       "output_type": "stream",
       "stream": "stdout",
       "text": [
        "Thread #2: \t124650000 read pairs finished. 2173 secs passed\r\n"
       ]
      },
      {
       "output_type": "stream",
       "stream": "stdout",
       "text": [
        "Thread #1: \t124700000 read pairs finished. 2174 secs passed\r\n"
       ]
      },
      {
       "output_type": "stream",
       "stream": "stdout",
       "text": [
        "Thread #0: \t124750000 read pairs finished. 2175 secs passed\r\n"
       ]
      },
      {
       "output_type": "stream",
       "stream": "stdout",
       "text": [
        "Thread #2: \t124800000 read pairs finished. 2176 secs passed\r\n"
       ]
      },
      {
       "output_type": "stream",
       "stream": "stdout",
       "text": [
        "Thread #1: \t124850000 read pairs finished. 2176 secs passed\r\n"
       ]
      },
      {
       "output_type": "stream",
       "stream": "stdout",
       "text": [
        "Thread #0: \t124900000 read pairs finished. 2177 secs passed\r\n"
       ]
      },
      {
       "output_type": "stream",
       "stream": "stdout",
       "text": [
        "Thread #2: \t124950000 read pairs finished. 2178 secs passed\r\n"
       ]
      },
      {
       "output_type": "stream",
       "stream": "stdout",
       "text": [
        "Thread #1: \t125000000 read pairs finished. 2179 secs passed\r\n"
       ]
      },
      {
       "output_type": "stream",
       "stream": "stdout",
       "text": [
        "Thread #0: \t125050000 read pairs finished. 2180 secs passed\r\n"
       ]
      },
      {
       "output_type": "stream",
       "stream": "stdout",
       "text": [
        "Thread #2: \t125100000 read pairs finished. 2180 secs passed\r\n"
       ]
      },
      {
       "output_type": "stream",
       "stream": "stdout",
       "text": [
        "Thread #1: \t125150000 read pairs finished. 2182 secs passed\r\n"
       ]
      },
      {
       "output_type": "stream",
       "stream": "stdout",
       "text": [
        "Thread #0: \t125200000 read pairs finished. 2183 secs passed\r\n"
       ]
      },
      {
       "output_type": "stream",
       "stream": "stdout",
       "text": [
        "Thread #2: \t125250000 read pairs finished. 2183 secs passed\r\n"
       ]
      },
      {
       "output_type": "stream",
       "stream": "stdout",
       "text": [
        "Thread #1: \t125300000 read pairs finished. 2184 secs passed\r\n"
       ]
      },
      {
       "output_type": "stream",
       "stream": "stdout",
       "text": [
        "Thread #0: \t125350000 read pairs finished. 2185 secs passed\r\n"
       ]
      },
      {
       "output_type": "stream",
       "stream": "stdout",
       "text": [
        "Thread #2: \t125400000 read pairs finished. 2186 secs passed\r\n"
       ]
      },
      {
       "output_type": "stream",
       "stream": "stdout",
       "text": [
        "Thread #1: \t125450000 read pairs finished. 2187 secs passed\r\n"
       ]
      },
      {
       "output_type": "stream",
       "stream": "stdout",
       "text": [
        "Thread #0: \t125500000 read pairs finished. 2188 secs passed\r\n"
       ]
      },
      {
       "output_type": "stream",
       "stream": "stdout",
       "text": [
        "Thread #2: \t125550000 read pairs finished. 2189 secs passed\r\n"
       ]
      },
      {
       "output_type": "stream",
       "stream": "stdout",
       "text": [
        "Thread #1: \t125600000 read pairs finished. 2189 secs passed\r\n"
       ]
      },
      {
       "output_type": "stream",
       "stream": "stdout",
       "text": [
        "Thread #0: \t125650000 read pairs finished. 2190 secs passed\r\n"
       ]
      },
      {
       "output_type": "stream",
       "stream": "stdout",
       "text": [
        "Thread #2: \t125700000 read pairs finished. 2191 secs passed\r\n"
       ]
      },
      {
       "output_type": "stream",
       "stream": "stdout",
       "text": [
        "Thread #1: \t125750000 read pairs finished. 2192 secs passed\r\n"
       ]
      },
      {
       "output_type": "stream",
       "stream": "stdout",
       "text": [
        "Thread #0: \t125800000 read pairs finished. 2192 secs passed\r\n"
       ]
      },
      {
       "output_type": "stream",
       "stream": "stdout",
       "text": [
        "Thread #2: \t125850000 read pairs finished. 2194 secs passed\r\n"
       ]
      },
      {
       "output_type": "stream",
       "stream": "stdout",
       "text": [
        "Thread #1: \t125900000 read pairs finished. 2195 secs passed\r\n"
       ]
      },
      {
       "output_type": "stream",
       "stream": "stdout",
       "text": [
        "Thread #0: \t125950000 read pairs finished. 2196 secs passed\r\n"
       ]
      },
      {
       "output_type": "stream",
       "stream": "stdout",
       "text": [
        "Thread #2: \t126000000 read pairs finished. 2196 secs passed\r\n"
       ]
      },
      {
       "output_type": "stream",
       "stream": "stdout",
       "text": [
        "Thread #1: \t126050000 read pairs finished. 2197 secs passed\r\n"
       ]
      },
      {
       "output_type": "stream",
       "stream": "stdout",
       "text": [
        "Thread #0: \t126100000 read pairs finished. 2198 secs passed\r\n"
       ]
      },
      {
       "output_type": "stream",
       "stream": "stdout",
       "text": [
        "Thread #2: \t126150000 read pairs finished. 2199 secs passed\r\n"
       ]
      },
      {
       "output_type": "stream",
       "stream": "stdout",
       "text": [
        "Thread #1: \t126200000 read pairs finished. 2200 secs passed\r\n"
       ]
      },
      {
       "output_type": "stream",
       "stream": "stdout",
       "text": [
        "Thread #0: \t126250000 read pairs finished. 2201 secs passed\r\n"
       ]
      },
      {
       "output_type": "stream",
       "stream": "stdout",
       "text": [
        "Thread #2: \t126300000 read pairs finished. 2202 secs passed\r\n"
       ]
      },
      {
       "output_type": "stream",
       "stream": "stdout",
       "text": [
        "Thread #1: \t126350000 read pairs finished. 2203 secs passed\r\n"
       ]
      },
      {
       "output_type": "stream",
       "stream": "stdout",
       "text": [
        "Thread #0: \t126400000 read pairs finished. 2204 secs passed\r\n"
       ]
      },
      {
       "output_type": "stream",
       "stream": "stdout",
       "text": [
        "Thread #2: \t126450000 read pairs finished. 2204 secs passed\r\n"
       ]
      },
      {
       "output_type": "stream",
       "stream": "stdout",
       "text": [
        "Thread #1: \t126500000 read pairs finished. 2205 secs passed\r\n"
       ]
      },
      {
       "output_type": "stream",
       "stream": "stdout",
       "text": [
        "Thread #0: \t126550000 read pairs finished. 2206 secs passed\r\n"
       ]
      },
      {
       "output_type": "stream",
       "stream": "stdout",
       "text": [
        "Thread #2: \t126600000 read pairs finished. 2207 secs passed\r\n"
       ]
      },
      {
       "output_type": "stream",
       "stream": "stdout",
       "text": [
        "Thread #1: \t126650000 read pairs finished. 2208 secs passed\r\n"
       ]
      },
      {
       "output_type": "stream",
       "stream": "stdout",
       "text": [
        "Thread #0: \t126700000 read pairs finished. 2209 secs passed\r\n"
       ]
      },
      {
       "output_type": "stream",
       "stream": "stdout",
       "text": [
        "Thread #2: \t126750000 read pairs finished. 2210 secs passed\r\n"
       ]
      },
      {
       "output_type": "stream",
       "stream": "stdout",
       "text": [
        "Thread #1: \t126800000 read pairs finished. 2211 secs passed\r\n"
       ]
      },
      {
       "output_type": "stream",
       "stream": "stdout",
       "text": [
        "Thread #0: \t126850000 read pairs finished. 2212 secs passed\r\n"
       ]
      },
      {
       "output_type": "stream",
       "stream": "stdout",
       "text": [
        "Thread #2: \t126900000 read pairs finished. 2212 secs passed\r\n"
       ]
      },
      {
       "output_type": "stream",
       "stream": "stdout",
       "text": [
        "Thread #1: \t126950000 read pairs finished. 2213 secs passed\r\n"
       ]
      },
      {
       "output_type": "stream",
       "stream": "stdout",
       "text": [
        "Thread #0: \t127000000 read pairs finished. 2214 secs passed\r\n"
       ]
      },
      {
       "output_type": "stream",
       "stream": "stdout",
       "text": [
        "Thread #2: \t127050000 read pairs finished. 2215 secs passed\r\n"
       ]
      },
      {
       "output_type": "stream",
       "stream": "stdout",
       "text": [
        "Thread #1: \t127100000 read pairs finished. 2216 secs passed\r\n"
       ]
      },
      {
       "output_type": "stream",
       "stream": "stdout",
       "text": [
        "Thread #0: \t127150000 read pairs finished. 2217 secs passed\r\n"
       ]
      },
      {
       "output_type": "stream",
       "stream": "stdout",
       "text": [
        "Thread #2: \t127200000 read pairs finished. 2217 secs passed\r\n"
       ]
      },
      {
       "output_type": "stream",
       "stream": "stdout",
       "text": [
        "Thread #1: \t127250000 read pairs finished. 2218 secs passed\r\n"
       ]
      },
      {
       "output_type": "stream",
       "stream": "stdout",
       "text": [
        "Thread #0: \t127300000 read pairs finished. 2219 secs passed\r\n"
       ]
      },
      {
       "output_type": "stream",
       "stream": "stdout",
       "text": [
        "Thread #2: \t127350000 read pairs finished. 2220 secs passed\r\n"
       ]
      },
      {
       "output_type": "stream",
       "stream": "stdout",
       "text": [
        "Thread #1: \t127400000 read pairs finished. 2221 secs passed\r\n"
       ]
      },
      {
       "output_type": "stream",
       "stream": "stdout",
       "text": [
        "Thread #0: \t127450000 read pairs finished. 2222 secs passed\r\n"
       ]
      },
      {
       "output_type": "stream",
       "stream": "stdout",
       "text": [
        "Thread #2: \t127500000 read pairs finished. 2223 secs passed\r\n"
       ]
      },
      {
       "output_type": "stream",
       "stream": "stdout",
       "text": [
        "Thread #1: \t127550000 read pairs finished. 2223 secs passed\r\n"
       ]
      },
      {
       "output_type": "stream",
       "stream": "stdout",
       "text": [
        "Thread #0: \t127600000 read pairs finished. 2224 secs passed\r\n"
       ]
      },
      {
       "output_type": "stream",
       "stream": "stdout",
       "text": [
        "Thread #2: \t127650000 read pairs finished. 2225 secs passed\r\n"
       ]
      },
      {
       "output_type": "stream",
       "stream": "stdout",
       "text": [
        "Thread #1: \t127700000 read pairs finished. 2226 secs passed\r\n"
       ]
      },
      {
       "output_type": "stream",
       "stream": "stdout",
       "text": [
        "Thread #0: \t127750000 read pairs finished. 2227 secs passed\r\n"
       ]
      },
      {
       "output_type": "stream",
       "stream": "stdout",
       "text": [
        "Thread #2: \t127800000 read pairs finished. 2227 secs passed\r\n"
       ]
      },
      {
       "output_type": "stream",
       "stream": "stdout",
       "text": [
        "Thread #1: \t127850000 read pairs finished. 2228 secs passed\r\n"
       ]
      },
      {
       "output_type": "stream",
       "stream": "stdout",
       "text": [
        "Thread #0: \t127900000 read pairs finished. 2229 secs passed\r\n"
       ]
      },
      {
       "output_type": "stream",
       "stream": "stdout",
       "text": [
        "Thread #2: \t127950000 read pairs finished. 2230 secs passed\r\n"
       ]
      },
      {
       "output_type": "stream",
       "stream": "stdout",
       "text": [
        "Thread #1: \t128000000 read pairs finished. 2231 secs passed\r\n"
       ]
      },
      {
       "output_type": "stream",
       "stream": "stdout",
       "text": [
        "Thread #0: \t128050000 read pairs finished. 2232 secs passed\r\n"
       ]
      },
      {
       "output_type": "stream",
       "stream": "stdout",
       "text": [
        "Thread #2: \t128100000 read pairs finished. 2233 secs passed\r\n"
       ]
      },
      {
       "output_type": "stream",
       "stream": "stdout",
       "text": [
        "Thread #1: \t128150000 read pairs finished. 2233 secs passed\r\n"
       ]
      },
      {
       "output_type": "stream",
       "stream": "stdout",
       "text": [
        "Thread #0: \t128200000 read pairs finished. 2234 secs passed\r\n"
       ]
      },
      {
       "output_type": "stream",
       "stream": "stdout",
       "text": [
        "Thread #2: \t128250000 read pairs finished. 2235 secs passed\r\n"
       ]
      },
      {
       "output_type": "stream",
       "stream": "stdout",
       "text": [
        "Thread #1: \t128300000 read pairs finished. 2236 secs passed\r\n"
       ]
      },
      {
       "output_type": "stream",
       "stream": "stdout",
       "text": [
        "Thread #0: \t128350000 read pairs finished. 2237 secs passed\r\n"
       ]
      },
      {
       "output_type": "stream",
       "stream": "stdout",
       "text": [
        "Thread #2: \t128400000 read pairs finished. 2237 secs passed\r\n"
       ]
      },
      {
       "output_type": "stream",
       "stream": "stdout",
       "text": [
        "Thread #1: \t128450000 read pairs finished. 2238 secs passed\r\n"
       ]
      },
      {
       "output_type": "stream",
       "stream": "stdout",
       "text": [
        "Thread #0: \t128500000 read pairs finished. 2239 secs passed\r\n"
       ]
      },
      {
       "output_type": "stream",
       "stream": "stdout",
       "text": [
        "Thread #2: \t128550000 read pairs finished. 2240 secs passed\r\n"
       ]
      },
      {
       "output_type": "stream",
       "stream": "stdout",
       "text": [
        "Thread #1: \t128600000 read pairs finished. 2241 secs passed\r\n"
       ]
      },
      {
       "output_type": "stream",
       "stream": "stdout",
       "text": [
        "Thread #0: \t128650000 read pairs finished. 2241 secs passed\r\n"
       ]
      },
      {
       "output_type": "stream",
       "stream": "stdout",
       "text": [
        "Thread #2: \t128700000 read pairs finished. 2242 secs passed\r\n"
       ]
      },
      {
       "output_type": "stream",
       "stream": "stdout",
       "text": [
        "Thread #1: \t128750000 read pairs finished. 2243 secs passed\r\n"
       ]
      },
      {
       "output_type": "stream",
       "stream": "stdout",
       "text": [
        "Thread #0: \t128800000 read pairs finished. 2244 secs passed\r\n"
       ]
      },
      {
       "output_type": "stream",
       "stream": "stdout",
       "text": [
        "Thread #2: \t128850000 read pairs finished. 2245 secs passed\r\n"
       ]
      },
      {
       "output_type": "stream",
       "stream": "stdout",
       "text": [
        "Thread #1: \t128900000 read pairs finished. 2245 secs passed\r\n"
       ]
      },
      {
       "output_type": "stream",
       "stream": "stdout",
       "text": [
        "Thread #0: \t128950000 read pairs finished. 2246 secs passed\r\n"
       ]
      },
      {
       "output_type": "stream",
       "stream": "stdout",
       "text": [
        "Thread #2: \t129000000 read pairs finished. 2247 secs passed\r\n"
       ]
      },
      {
       "output_type": "stream",
       "stream": "stdout",
       "text": [
        "Thread #1: \t129050000 read pairs finished. 2248 secs passed\r\n"
       ]
      },
      {
       "output_type": "stream",
       "stream": "stdout",
       "text": [
        "Thread #0: \t129100000 read pairs finished. 2249 secs passed\r\n"
       ]
      },
      {
       "output_type": "stream",
       "stream": "stdout",
       "text": [
        "Thread #2: \t129150000 read pairs finished. 2250 secs passed\r\n"
       ]
      },
      {
       "output_type": "stream",
       "stream": "stdout",
       "text": [
        "Thread #1: \t129200000 read pairs finished. 2250 secs passed\r\n"
       ]
      },
      {
       "output_type": "stream",
       "stream": "stdout",
       "text": [
        "Thread #0: \t129250000 read pairs finished. 2251 secs passed\r\n"
       ]
      },
      {
       "output_type": "stream",
       "stream": "stdout",
       "text": [
        "Thread #2: \t129300000 read pairs finished. 2252 secs passed\r\n"
       ]
      },
      {
       "output_type": "stream",
       "stream": "stdout",
       "text": [
        "Thread #1: \t129350000 read pairs finished. 2253 secs passed\r\n"
       ]
      },
      {
       "output_type": "stream",
       "stream": "stdout",
       "text": [
        "Thread #0: \t129400000 read pairs finished. 2254 secs passed\r\n"
       ]
      },
      {
       "output_type": "stream",
       "stream": "stdout",
       "text": [
        "Thread #2: \t129450000 read pairs finished. 2254 secs passed\r\n"
       ]
      },
      {
       "output_type": "stream",
       "stream": "stdout",
       "text": [
        "Thread #1: \t129500000 read pairs finished. 2255 secs passed\r\n"
       ]
      },
      {
       "output_type": "stream",
       "stream": "stdout",
       "text": [
        "Thread #0: \t129550000 read pairs finished. 2256 secs passed\r\n"
       ]
      },
      {
       "output_type": "stream",
       "stream": "stdout",
       "text": [
        "Thread #2: \t129600000 read pairs finished. 2257 secs passed\r\n"
       ]
      },
      {
       "output_type": "stream",
       "stream": "stdout",
       "text": [
        "Thread #1: \t129650000 read pairs finished. 2258 secs passed\r\n"
       ]
      },
      {
       "output_type": "stream",
       "stream": "stdout",
       "text": [
        "Thread #0: \t129700000 read pairs finished. 2259 secs passed\r\n"
       ]
      },
      {
       "output_type": "stream",
       "stream": "stdout",
       "text": [
        "Thread #2: \t129750000 read pairs finished. 2260 secs passed\r\n"
       ]
      },
      {
       "output_type": "stream",
       "stream": "stdout",
       "text": [
        "Thread #1: \t129800000 read pairs finished. 2260 secs passed\r\n"
       ]
      },
      {
       "output_type": "stream",
       "stream": "stdout",
       "text": [
        "Thread #0: \t129850000 read pairs finished. 2261 secs passed\r\n"
       ]
      },
      {
       "output_type": "stream",
       "stream": "stdout",
       "text": [
        "Thread #2: \t129900000 read pairs finished. 2262 secs passed\r\n"
       ]
      },
      {
       "output_type": "stream",
       "stream": "stdout",
       "text": [
        "Thread #1: \t129950000 read pairs finished. 2263 secs passed\r\n"
       ]
      },
      {
       "output_type": "stream",
       "stream": "stdout",
       "text": [
        "Thread #0: \t130000000 read pairs finished. 2264 secs passed\r\n"
       ]
      },
      {
       "output_type": "stream",
       "stream": "stdout",
       "text": [
        "Thread #2: \t130050000 read pairs finished. 2265 secs passed\r\n"
       ]
      },
      {
       "output_type": "stream",
       "stream": "stdout",
       "text": [
        "Thread #1: \t130100000 read pairs finished. 2265 secs passed\r\n"
       ]
      },
      {
       "output_type": "stream",
       "stream": "stdout",
       "text": [
        "Thread #0: \t130150000 read pairs finished. 2266 secs passed\r\n"
       ]
      },
      {
       "output_type": "stream",
       "stream": "stdout",
       "text": [
        "Thread #2: \t130200000 read pairs finished. 2267 secs passed\r\n"
       ]
      },
      {
       "output_type": "stream",
       "stream": "stdout",
       "text": [
        "Thread #1: \t130250000 read pairs finished. 2268 secs passed\r\n"
       ]
      },
      {
       "output_type": "stream",
       "stream": "stdout",
       "text": [
        "Thread #0: \t130300000 read pairs finished. 2269 secs passed\r\n"
       ]
      },
      {
       "output_type": "stream",
       "stream": "stdout",
       "text": [
        "Thread #2: \t130350000 read pairs finished. 2270 secs passed\r\n"
       ]
      },
      {
       "output_type": "stream",
       "stream": "stdout",
       "text": [
        "Thread #1: \t130400000 read pairs finished. 2270 secs passed\r\n"
       ]
      },
      {
       "output_type": "stream",
       "stream": "stdout",
       "text": [
        "Thread #0: \t130450000 read pairs finished. 2271 secs passed\r\n"
       ]
      },
      {
       "output_type": "stream",
       "stream": "stdout",
       "text": [
        "Thread #2: \t130500000 read pairs finished. 2272 secs passed\r\n"
       ]
      },
      {
       "output_type": "stream",
       "stream": "stdout",
       "text": [
        "Thread #1: \t130550000 read pairs finished. 2273 secs passed\r\n"
       ]
      },
      {
       "output_type": "stream",
       "stream": "stdout",
       "text": [
        "Thread #0: \t130600000 read pairs finished. 2274 secs passed\r\n"
       ]
      },
      {
       "output_type": "stream",
       "stream": "stdout",
       "text": [
        "Thread #2: \t130650000 read pairs finished. 2276 secs passed\r\n"
       ]
      },
      {
       "output_type": "stream",
       "stream": "stdout",
       "text": [
        "Thread #1: \t130700000 read pairs finished. 2276 secs passed\r\n"
       ]
      },
      {
       "output_type": "stream",
       "stream": "stdout",
       "text": [
        "Thread #0: \t130750000 read pairs finished. 2277 secs passed\r\n"
       ]
      },
      {
       "output_type": "stream",
       "stream": "stdout",
       "text": [
        "Thread #2: \t130800000 read pairs finished. 2278 secs passed\r\n"
       ]
      },
      {
       "output_type": "stream",
       "stream": "stdout",
       "text": [
        "Thread #1: \t130850000 read pairs finished. 2279 secs passed\r\n"
       ]
      },
      {
       "output_type": "stream",
       "stream": "stdout",
       "text": [
        "Thread #0: \t130900000 read pairs finished. 2280 secs passed\r\n"
       ]
      },
      {
       "output_type": "stream",
       "stream": "stdout",
       "text": [
        "Thread #2: \t130950000 read pairs finished. 2280 secs passed\r\n"
       ]
      },
      {
       "output_type": "stream",
       "stream": "stdout",
       "text": [
        "Thread #"
       ]
      },
      {
       "output_type": "stream",
       "stream": "stdout",
       "text": [
        "1: \t131000000 read pairs finished. 2281 secs passed\r\n"
       ]
      },
      {
       "output_type": "stream",
       "stream": "stdout",
       "text": [
        "Thread #0: \t131050000 read pairs finished. 2282 secs passed\r\n"
       ]
      },
      {
       "output_type": "stream",
       "stream": "stdout",
       "text": [
        "Thread #2: \t131100000 read pairs finished. 2283 secs passed\r\n"
       ]
      },
      {
       "output_type": "stream",
       "stream": "stdout",
       "text": [
        "Thread #1: \t131150000 read pairs finished. 2284 secs passed\r\n"
       ]
      },
      {
       "output_type": "stream",
       "stream": "stdout",
       "text": [
        "Thread #0: \t131200000 read pairs finished. 2285 secs passed\r\n"
       ]
      },
      {
       "output_type": "stream",
       "stream": "stdout",
       "text": [
        "Thread #2: \t131250000 read pairs finished. 2285 secs passed\r\n"
       ]
      },
      {
       "output_type": "stream",
       "stream": "stdout",
       "text": [
        "Thread #1: \t131300000 read pairs finished. 2286 secs passed\r\n"
       ]
      },
      {
       "output_type": "stream",
       "stream": "stdout",
       "text": [
        "Thread #0: \t131350000 read pairs finished. 2287 secs passed\r\n"
       ]
      },
      {
       "output_type": "stream",
       "stream": "stdout",
       "text": [
        "Thread #2: \t131400000 read pairs finished. 2288 secs passed\r\n"
       ]
      },
      {
       "output_type": "stream",
       "stream": "stdout",
       "text": [
        "Thread #1: \t131450000 read pairs finished. 2288 secs passed\r\n"
       ]
      },
      {
       "output_type": "stream",
       "stream": "stdout",
       "text": [
        "Thread #0: \t131500000 read pairs finished. 2289 secs passed\r\n"
       ]
      },
      {
       "output_type": "stream",
       "stream": "stdout",
       "text": [
        "Thread #2: \t131550000 read pairs finished. 2290 secs passed\r\n"
       ]
      },
      {
       "output_type": "stream",
       "stream": "stdout",
       "text": [
        "Thread #1: \t131600000 read pairs finished. 2291 secs passed\r\n"
       ]
      },
      {
       "output_type": "stream",
       "stream": "stdout",
       "text": [
        "Thread #0: \t131650000 read pairs finished. 2292 secs passed\r\n"
       ]
      },
      {
       "output_type": "stream",
       "stream": "stdout",
       "text": [
        "Thread #2: \t131700000 read pairs finished. 2293 secs passed\r\n"
       ]
      },
      {
       "output_type": "stream",
       "stream": "stdout",
       "text": [
        "Thread #1: \t131750000 read pairs finished. 2293 secs passed\r\n"
       ]
      },
      {
       "output_type": "stream",
       "stream": "stdout",
       "text": [
        "Thread #0: \t131800000 read pairs finished. 2294 secs passed\r\n"
       ]
      },
      {
       "output_type": "stream",
       "stream": "stdout",
       "text": [
        "Thread #2: \t131850000 read pairs finished. 2295 secs passed\r\n"
       ]
      },
      {
       "output_type": "stream",
       "stream": "stdout",
       "text": [
        "Thread #1: \t131900000 read pairs finished. 2296 secs passed\r\n"
       ]
      },
      {
       "output_type": "stream",
       "stream": "stdout",
       "text": [
        "Thread #0: \t131950000 read pairs finished. 2297 secs passed\r\n"
       ]
      },
      {
       "output_type": "stream",
       "stream": "stdout",
       "text": [
        "Thread #2: \t132000000 read pairs finished. 2298 secs passed\r\n"
       ]
      },
      {
       "output_type": "stream",
       "stream": "stdout",
       "text": [
        "Thread #1: \t132050000 read pairs finished. 2299 secs passed\r\n"
       ]
      },
      {
       "output_type": "stream",
       "stream": "stdout",
       "text": [
        "Thread #0: \t132100000 read pairs finished. 2300 secs passed\r\n"
       ]
      },
      {
       "output_type": "stream",
       "stream": "stdout",
       "text": [
        "Thread #2: \t132150000 read pairs finished. 2300 secs passed\r\n"
       ]
      },
      {
       "output_type": "stream",
       "stream": "stdout",
       "text": [
        "Thread #1: \t132200000 read pairs finished. 2301 secs passed\r\n"
       ]
      },
      {
       "output_type": "stream",
       "stream": "stdout",
       "text": [
        "Thread #0: \t132250000 read pairs finished. 2302 secs passed\r\n"
       ]
      },
      {
       "output_type": "stream",
       "stream": "stdout",
       "text": [
        "Thread #2: \t132300000 read pairs finished. 2303 secs passed\r\n"
       ]
      },
      {
       "output_type": "stream",
       "stream": "stdout",
       "text": [
        "Thread #1: \t132350000 read pairs finished. 2304 secs passed\r\n"
       ]
      },
      {
       "output_type": "stream",
       "stream": "stdout",
       "text": [
        "Thread #0: \t132400000 read pairs finished. 2305 secs passed\r\n"
       ]
      },
      {
       "output_type": "stream",
       "stream": "stdout",
       "text": [
        "Thread #2: \t132450000 read pairs finished. 2305 secs passed\r\n"
       ]
      },
      {
       "output_type": "stream",
       "stream": "stdout",
       "text": [
        "Thread #1: \t132500000 read pairs finished. 2307 secs passed\r\n"
       ]
      },
      {
       "output_type": "stream",
       "stream": "stdout",
       "text": [
        "Thread #0: \t132550000 read pairs finished. 2308 secs passed\r\n"
       ]
      },
      {
       "output_type": "stream",
       "stream": "stdout",
       "text": [
        "Thread #2: \t132600000 read pairs finished. 2308 secs passed\r\n"
       ]
      },
      {
       "output_type": "stream",
       "stream": "stdout",
       "text": [
        "Thread #1: \t132650000 read pairs finished. 2309 secs passed\r\n"
       ]
      },
      {
       "output_type": "stream",
       "stream": "stdout",
       "text": [
        "Thread #0: \t132700000 read pairs finished. 2310 secs passed\r\n"
       ]
      },
      {
       "output_type": "stream",
       "stream": "stdout",
       "text": [
        "Thread #2: \t132750000 read pairs finished. 2311 secs passed\r\n"
       ]
      },
      {
       "output_type": "stream",
       "stream": "stdout",
       "text": [
        "Thread #1: \t132800000 read pairs finished. 2312 secs passed\r\n"
       ]
      },
      {
       "output_type": "stream",
       "stream": "stdout",
       "text": [
        "Thread #0: \t132850000 read pairs finished. 2313 secs passed\r\n"
       ]
      },
      {
       "output_type": "stream",
       "stream": "stdout",
       "text": [
        "Thread #2: \t132900000 read pairs finished. 2314 secs passed\r\n"
       ]
      },
      {
       "output_type": "stream",
       "stream": "stdout",
       "text": [
        "Thread #1: \t132950000 read pairs finished. 2314 secs passed\r\n"
       ]
      },
      {
       "output_type": "stream",
       "stream": "stdout",
       "text": [
        "Thread #0: \t133000000 read pairs finished. 2315 secs passed\r\n"
       ]
      },
      {
       "output_type": "stream",
       "stream": "stdout",
       "text": [
        "Thread #2: \t133050000 read pairs finished. 2316 secs passed\r\n"
       ]
      },
      {
       "output_type": "stream",
       "stream": "stdout",
       "text": [
        "Thread #1: \t133100000 read pairs finished. 2317 secs passed\r\n"
       ]
      },
      {
       "output_type": "stream",
       "stream": "stdout",
       "text": [
        "Thread #0: \t133150000 read pairs finished. 2318 secs passed\r\n"
       ]
      },
      {
       "output_type": "stream",
       "stream": "stdout",
       "text": [
        "Thread #2: \t133200000 read pairs finished. 2319 secs passed\r\n"
       ]
      },
      {
       "output_type": "stream",
       "stream": "stdout",
       "text": [
        "Thread #1: \t133250000 read pairs finished. 2319 secs passed\r\n"
       ]
      },
      {
       "output_type": "stream",
       "stream": "stdout",
       "text": [
        "Thread #0: \t133300000 read pairs finished. 2320 secs passed\r\n"
       ]
      },
      {
       "output_type": "stream",
       "stream": "stdout",
       "text": [
        "Thread #2: \t133350000 read pairs finished. 2321 secs passed\r\n"
       ]
      },
      {
       "output_type": "stream",
       "stream": "stdout",
       "text": [
        "Thread #1: \t133400000 read pairs finished. 2322 secs passed\r\n"
       ]
      },
      {
       "output_type": "stream",
       "stream": "stdout",
       "text": [
        "Thread #0: \t133450000 read pairs finished. 2323 secs passed\r\n"
       ]
      },
      {
       "output_type": "stream",
       "stream": "stdout",
       "text": [
        "Thread #2: \t133500000 read pairs finished. 2324 secs passed\r\n"
       ]
      },
      {
       "output_type": "stream",
       "stream": "stdout",
       "text": [
        "Thread #1: \t133550000 read pairs finished. 2325 secs passed\r\n"
       ]
      },
      {
       "output_type": "stream",
       "stream": "stdout",
       "text": [
        "Thread #0: \t133600000 read pairs finished. 2326 secs passed\r\n"
       ]
      },
      {
       "output_type": "stream",
       "stream": "stdout",
       "text": [
        "Thread #2: \t133650000 read pairs finished. 2327 secs passed\r\n"
       ]
      },
      {
       "output_type": "stream",
       "stream": "stdout",
       "text": [
        "Thread #1: \t133700000 read pairs finished. 2327 secs passed\r\n"
       ]
      },
      {
       "output_type": "stream",
       "stream": "stdout",
       "text": [
        "Thread #0: \t133750000 read pairs finished. 2328 secs passed\r\n"
       ]
      },
      {
       "output_type": "stream",
       "stream": "stdout",
       "text": [
        "Thread #2: \t133800000 read pairs finished. 2329 secs passed\r\n"
       ]
      },
      {
       "output_type": "stream",
       "stream": "stdout",
       "text": [
        "Thread #1: \t133850000 read pairs finished. 2330 secs passed\r\n"
       ]
      },
      {
       "output_type": "stream",
       "stream": "stdout",
       "text": [
        "Thread #0: \t133900000 read pairs finished. 2331 secs passed\r\n"
       ]
      },
      {
       "output_type": "stream",
       "stream": "stdout",
       "text": [
        "Thread #2: \t133950000 read pairs finished. 2332 secs passed\r\n"
       ]
      },
      {
       "output_type": "stream",
       "stream": "stdout",
       "text": [
        "Thread #1: \t134000000 read pairs finished. 2332 secs passed\r\n"
       ]
      },
      {
       "output_type": "stream",
       "stream": "stdout",
       "text": [
        "Thread #0: \t134050000 read pairs finished. 2333 secs passed\r\n"
       ]
      },
      {
       "output_type": "stream",
       "stream": "stdout",
       "text": [
        "Thread #2: \t134100000 read pairs finished. 2334 secs passed\r\n"
       ]
      },
      {
       "output_type": "stream",
       "stream": "stdout",
       "text": [
        "Thread #1: \t134150000 read pairs finished. 2335 secs passed\r\n"
       ]
      },
      {
       "output_type": "stream",
       "stream": "stdout",
       "text": [
        "Thread #0: \t134200000 read pairs finished. 2336 secs passed\r\n"
       ]
      },
      {
       "output_type": "stream",
       "stream": "stdout",
       "text": [
        "Thread #2: \t134250000 read pairs finished. 2336 secs passed\r\n"
       ]
      },
      {
       "output_type": "stream",
       "stream": "stdout",
       "text": [
        "Thread #1: \t134300000 read pairs finished. 2337 secs passed\r\n"
       ]
      },
      {
       "output_type": "stream",
       "stream": "stdout",
       "text": [
        "Thread #0: \t134350000 read pairs finished. 2338 secs passed\r\n"
       ]
      },
      {
       "output_type": "stream",
       "stream": "stdout",
       "text": [
        "Thread #2: \t134400000 read pairs finished. 2339 secs passed\r\n"
       ]
      },
      {
       "output_type": "stream",
       "stream": "stdout",
       "text": [
        "Thread #1: \t134450000 read pairs finished. 2340 secs passed\r\n"
       ]
      },
      {
       "output_type": "stream",
       "stream": "stdout",
       "text": [
        "Thread #0: \t134500000 read pairs finished. 2340 secs passed\r\n"
       ]
      },
      {
       "output_type": "stream",
       "stream": "stdout",
       "text": [
        "Thread #2: \t134550000 read pairs finished. 2341 secs passed\r\n"
       ]
      },
      {
       "output_type": "stream",
       "stream": "stdout",
       "text": [
        "Thread #1: \t134600000 read pairs finished. 2342 secs passed\r\n"
       ]
      },
      {
       "output_type": "stream",
       "stream": "stdout",
       "text": [
        "Thread #0: \t134650000 read pairs finished. 2343 secs passed\r\n"
       ]
      },
      {
       "output_type": "stream",
       "stream": "stdout",
       "text": [
        "Thread #2: \t134700000 read pairs finished. 2344 secs passed\r\n"
       ]
      },
      {
       "output_type": "stream",
       "stream": "stdout",
       "text": [
        "Thread #1: \t134750000 read pairs finished. 2345 secs passed\r\n"
       ]
      },
      {
       "output_type": "stream",
       "stream": "stdout",
       "text": [
        "Thread #0: \t134800000 read pairs finished. 2346 secs passed\r\n"
       ]
      },
      {
       "output_type": "stream",
       "stream": "stdout",
       "text": [
        "Thread #2: \t134850000 read pairs finished. 2347 secs passed\r\n"
       ]
      },
      {
       "output_type": "stream",
       "stream": "stdout",
       "text": [
        "Thread #1: \t134900000 read pairs finished. 2348 secs passed\r\n"
       ]
      },
      {
       "output_type": "stream",
       "stream": "stdout",
       "text": [
        "Thread #0: \t134950000 read pairs finished. 2348 secs passed\r\n"
       ]
      },
      {
       "output_type": "stream",
       "stream": "stdout",
       "text": [
        "Thread #2: \t135000000 read pairs finished. 2349 secs passed\r\n"
       ]
      },
      {
       "output_type": "stream",
       "stream": "stdout",
       "text": [
        "Thread #1: \t135050000 read pairs finished. 2350 secs passed\r\n"
       ]
      },
      {
       "output_type": "stream",
       "stream": "stdout",
       "text": [
        "Thread #0: \t135100000 read pairs finished. 2351 secs passed\r\n"
       ]
      },
      {
       "output_type": "stream",
       "stream": "stdout",
       "text": [
        "Thread #2: \t135150000 read pairs finished. 2352 secs passed\r\n"
       ]
      },
      {
       "output_type": "stream",
       "stream": "stdout",
       "text": [
        "Thread #1: \t135200000 read pairs finished. 2353 secs passed\r\n"
       ]
      },
      {
       "output_type": "stream",
       "stream": "stdout",
       "text": [
        "Thread #0: \t135250000 read pairs finished. 2353 secs passed\r\n"
       ]
      },
      {
       "output_type": "stream",
       "stream": "stdout",
       "text": [
        "Thread #2: \t135300000 read pairs finished. 2354 secs passed\r\n"
       ]
      },
      {
       "output_type": "stream",
       "stream": "stdout",
       "text": [
        "Thread #1: \t135350000 read pairs finished. 2355 secs passed\r\n"
       ]
      },
      {
       "output_type": "stream",
       "stream": "stdout",
       "text": [
        "Thread #0: \t135400000 read pairs finished. 2356 secs passed\r\n"
       ]
      },
      {
       "output_type": "stream",
       "stream": "stdout",
       "text": [
        "Thread #2: \t135450000 read pairs finished. 2357 secs passed\r\n"
       ]
      },
      {
       "output_type": "stream",
       "stream": "stdout",
       "text": [
        "Thread #1: \t135500000 read pairs finished. 2357 secs passed\r\n"
       ]
      },
      {
       "output_type": "stream",
       "stream": "stdout",
       "text": [
        "Thread #0: \t135550000 read pairs finished. 2358 secs passed\r\n"
       ]
      },
      {
       "output_type": "stream",
       "stream": "stdout",
       "text": [
        "Thread #2: \t135600000 read pairs finished. 2359 secs passed\r\n"
       ]
      },
      {
       "output_type": "stream",
       "stream": "stdout",
       "text": [
        "Thread #1: \t135650000 read pairs finished. 2360 secs passed\r\n"
       ]
      },
      {
       "output_type": "stream",
       "stream": "stdout",
       "text": [
        "Thread #0: \t135700000 read pairs finished. 2361 secs passed\r\n"
       ]
      },
      {
       "output_type": "stream",
       "stream": "stdout",
       "text": [
        "Thread #2: \t135750000 read pairs finished. 2362 secs passed\r\n"
       ]
      },
      {
       "output_type": "stream",
       "stream": "stdout",
       "text": [
        "Thread #1: \t135800000 read pairs finished. 2363 secs passed\r\n"
       ]
      },
      {
       "output_type": "stream",
       "stream": "stdout",
       "text": [
        "Thread #0: \t135850000 read pairs finished. 2363 secs passed\r\n"
       ]
      },
      {
       "output_type": "stream",
       "stream": "stdout",
       "text": [
        "Thread #2: \t135900000 read pairs finished. 2364 secs passed\r\n"
       ]
      },
      {
       "output_type": "stream",
       "stream": "stdout",
       "text": [
        "Thread #1: \t135950000 read pairs finished. 2365 secs passed\r\n"
       ]
      },
      {
       "output_type": "stream",
       "stream": "stdout",
       "text": [
        "Thread #0: \t136000000 read pairs finished. 2366 secs passed\r\n"
       ]
      },
      {
       "output_type": "stream",
       "stream": "stdout",
       "text": [
        "Thread #2: \t136050000 read pairs finished. 2366 secs passed\r\n"
       ]
      },
      {
       "output_type": "stream",
       "stream": "stdout",
       "text": [
        "Thread #1: \t136100000 read pairs finished. 2367 secs passed\r\n"
       ]
      },
      {
       "output_type": "stream",
       "stream": "stdout",
       "text": [
        "Thread #0: \t136150000 read pairs finished. 2368 secs passed\r\n"
       ]
      },
      {
       "output_type": "stream",
       "stream": "stdout",
       "text": [
        "Thread #2: \t136200000 read pairs finished. 2369 secs passed\r\n"
       ]
      },
      {
       "output_type": "stream",
       "stream": "stdout",
       "text": [
        "Thread #1: \t136250000 read pairs finished. 2370 secs passed\r\n"
       ]
      },
      {
       "output_type": "stream",
       "stream": "stdout",
       "text": [
        "Thread #0: \t136300000 read pairs finished. 2371 secs passed\r\n"
       ]
      },
      {
       "output_type": "stream",
       "stream": "stdout",
       "text": [
        "Thread #2: \t136350000 read pairs finished. 2371 secs passed\r\n"
       ]
      },
      {
       "output_type": "stream",
       "stream": "stdout",
       "text": [
        "Thread #1: \t136400000 read pairs finished. 2372 secs passed\r\n"
       ]
      },
      {
       "output_type": "stream",
       "stream": "stdout",
       "text": [
        "Thread #0: \t136450000 read pairs finished. 2373 secs passed\r\n"
       ]
      },
      {
       "output_type": "stream",
       "stream": "stdout",
       "text": [
        "Thread #2: \t136500000 read pairs finished. 2374 secs passed\r\n"
       ]
      },
      {
       "output_type": "stream",
       "stream": "stdout",
       "text": [
        "Thread #1: \t136550000 read pairs finished. 2375 secs passed\r\n"
       ]
      },
      {
       "output_type": "stream",
       "stream": "stdout",
       "text": [
        "Thread #0: \t136600000 read pairs finished. 2376 secs passed\r\n"
       ]
      },
      {
       "output_type": "stream",
       "stream": "stdout",
       "text": [
        "Thread #2: \t136650000 read pairs finished. 2377 secs passed\r\n"
       ]
      },
      {
       "output_type": "stream",
       "stream": "stdout",
       "text": [
        "Thread #1: \t136700000 read pairs finished. 2378 secs passed\r\n"
       ]
      },
      {
       "output_type": "stream",
       "stream": "stdout",
       "text": [
        "Thread #0: \t136750000 read pairs finished. 2378 secs passed\r\n"
       ]
      },
      {
       "output_type": "stream",
       "stream": "stdout",
       "text": [
        "Thread #2: \t136800000 read pairs finished. 2379 secs passed\r\n"
       ]
      },
      {
       "output_type": "stream",
       "stream": "stdout",
       "text": [
        "Thread #1: \t136850000 read pairs finished. 2380 secs passed\r\n"
       ]
      },
      {
       "output_type": "stream",
       "stream": "stdout",
       "text": [
        "Thread #0: \t136900000 read pairs finished. 2381 secs passed\r\n"
       ]
      },
      {
       "output_type": "stream",
       "stream": "stdout",
       "text": [
        "Thread #2: \t136950000 read pairs finished. 2382 secs passed\r\n"
       ]
      },
      {
       "output_type": "stream",
       "stream": "stdout",
       "text": [
        "Thread #1: \t137000000 read pairs finished. 2382 secs passed\r\n"
       ]
      },
      {
       "output_type": "stream",
       "stream": "stdout",
       "text": [
        "Thread #0: \t137050000 read pairs finished. 2383 secs passed\r\n"
       ]
      },
      {
       "output_type": "stream",
       "stream": "stdout",
       "text": [
        "Thread #2: \t137100000 read pairs finished. 2384 secs passed\r\n"
       ]
      },
      {
       "output_type": "stream",
       "stream": "stdout",
       "text": [
        "Thread #1: \t137150000 read pairs finished. 2385 secs passed\r\n"
       ]
      },
      {
       "output_type": "stream",
       "stream": "stdout",
       "text": [
        "Thread #0: \t137200000 read pairs finished. 2386 secs passed\r\n"
       ]
      },
      {
       "output_type": "stream",
       "stream": "stdout",
       "text": [
        "Thread #2: \t137250000 read pairs finished. 2387 secs passed\r\n"
       ]
      },
      {
       "output_type": "stream",
       "stream": "stdout",
       "text": [
        "Thread #1: \t137300000 read pairs finished. 2388 secs passed\r\n"
       ]
      },
      {
       "output_type": "stream",
       "stream": "stdout",
       "text": [
        "Thread #0: \t137350000 read pairs finished. 2388 secs passed\r\n"
       ]
      },
      {
       "output_type": "stream",
       "stream": "stdout",
       "text": [
        "Thread #2: \t137400000 read pairs finished. 2389 secs passed\r\n"
       ]
      },
      {
       "output_type": "stream",
       "stream": "stdout",
       "text": [
        "Thread #1: \t137450000 read pairs finished. 2390 secs passed\r\n"
       ]
      },
      {
       "output_type": "stream",
       "stream": "stdout",
       "text": [
        "Thread #0: \t137500000 read pairs finished. 2391 secs passed\r\n"
       ]
      },
      {
       "output_type": "stream",
       "stream": "stdout",
       "text": [
        "Thread #2: \t137550000 read pairs finished. 2392 secs passed\r\n"
       ]
      },
      {
       "output_type": "stream",
       "stream": "stdout",
       "text": [
        "Thread #1: \t137600000 read pairs finished. 2393 secs passed\r\n"
       ]
      },
      {
       "output_type": "stream",
       "stream": "stdout",
       "text": [
        "Thread #0: \t137650000 read pairs finished. 2393 secs passed\r\n"
       ]
      },
      {
       "output_type": "stream",
       "stream": "stdout",
       "text": [
        "Thread #2: \t137700000 read pairs finished. 2394 secs passed\r\n"
       ]
      },
      {
       "output_type": "stream",
       "stream": "stdout",
       "text": [
        "Thread #1: \t137750000 read pairs finished. 2395 secs passed\r\n"
       ]
      },
      {
       "output_type": "stream",
       "stream": "stdout",
       "text": [
        "Thread #0: \t137800000 read pairs finished. 2396 secs passed\r\n"
       ]
      },
      {
       "output_type": "stream",
       "stream": "stdout",
       "text": [
        "Thread #2: \t137850000 read pairs finished. 2397 secs passed\r\n"
       ]
      },
      {
       "output_type": "stream",
       "stream": "stdout",
       "text": [
        "Thread #1: \t137900000 read pairs finished. 2398 secs passed\r\n"
       ]
      },
      {
       "output_type": "stream",
       "stream": "stdout",
       "text": [
        "Thread #0: \t137950000 read pairs finished. 2398 secs passed\r\n"
       ]
      },
      {
       "output_type": "stream",
       "stream": "stdout",
       "text": [
        "Thread #2: \t138000000 read pairs finished. 2399 secs passed\r\n"
       ]
      },
      {
       "output_type": "stream",
       "stream": "stdout",
       "text": [
        "Thread #1: \t138050000 read pairs finished. 2400 secs passed\r\n"
       ]
      },
      {
       "output_type": "stream",
       "stream": "stdout",
       "text": [
        "Thread #0: \t138100000 read pairs finished. 2401 secs passed\r\n"
       ]
      },
      {
       "output_type": "stream",
       "stream": "stdout",
       "text": [
        "Thread #2: \t138150000 read pairs finished. 2402 secs passed\r\n"
       ]
      },
      {
       "output_type": "stream",
       "stream": "stdout",
       "text": [
        "Thread #1: \t138200000 read pairs finished. 2403 secs passed\r\n"
       ]
      },
      {
       "output_type": "stream",
       "stream": "stdout",
       "text": [
        "Thread #0: \t138250000 read pairs finished. 2404 secs passed\r\n"
       ]
      },
      {
       "output_type": "stream",
       "stream": "stdout",
       "text": [
        "Thread #2: \t138300000 read pairs finished. 2405 secs passed\r\n"
       ]
      },
      {
       "output_type": "stream",
       "stream": "stdout",
       "text": [
        "Thread #1: \t138350000 read pairs finished. 2406 secs passed\r\n"
       ]
      },
      {
       "output_type": "stream",
       "stream": "stdout",
       "text": [
        "Thread #0: \t138400000 read pairs finished. 2406 secs passed\r\n"
       ]
      },
      {
       "output_type": "stream",
       "stream": "stdout",
       "text": [
        "Thread #2: \t138450000 read pairs finished. 2407 secs passed\r\n"
       ]
      },
      {
       "output_type": "stream",
       "stream": "stdout",
       "text": [
        "Thread #1: \t138500000 read pairs finished. 2408 secs passed\r\n"
       ]
      },
      {
       "output_type": "stream",
       "stream": "stdout",
       "text": [
        "Thread #0: \t138550000 read pairs finished. 2409 secs passed\r\n"
       ]
      },
      {
       "output_type": "stream",
       "stream": "stdout",
       "text": [
        "Thread #2: \t138600000 read pairs finished. 2410 secs passed\r\n"
       ]
      },
      {
       "output_type": "stream",
       "stream": "stdout",
       "text": [
        "Thread #1: \t138650000 read pairs finished. 2411 secs passed\r\n"
       ]
      },
      {
       "output_type": "stream",
       "stream": "stdout",
       "text": [
        "Thread #0: \t138700000 read pairs finished. 2411 secs passed\r\n"
       ]
      },
      {
       "output_type": "stream",
       "stream": "stdout",
       "text": [
        "Thread #2: \t138750000 read pairs finished. 2412 secs passed\r\n"
       ]
      },
      {
       "output_type": "stream",
       "stream": "stdout",
       "text": [
        "Thread #1: \t138800000 read pairs finished. 2413 secs passed\r\n"
       ]
      },
      {
       "output_type": "stream",
       "stream": "stdout",
       "text": [
        "Thread #0: \t138850000 read pairs finished. 2414 secs passed\r\n"
       ]
      },
      {
       "output_type": "stream",
       "stream": "stdout",
       "text": [
        "Thread #2: \t138900000 read pairs finished. 2415 secs passed\r\n"
       ]
      },
      {
       "output_type": "stream",
       "stream": "stdout",
       "text": [
        "Thread #1: \t138950000 read pairs finished. 2415 secs passed\r\n"
       ]
      },
      {
       "output_type": "stream",
       "stream": "stdout",
       "text": [
        "Thread #0: \t139000000 read pairs finished. 2417 secs passed\r\n"
       ]
      },
      {
       "output_type": "stream",
       "stream": "stdout",
       "text": [
        "Thread #2: \t139050000 read pairs finished. 2417 secs passed\r\n"
       ]
      },
      {
       "output_type": "stream",
       "stream": "stdout",
       "text": [
        "Thread #1: \t139100000 read pairs finished. 2418 secs passed\r\n"
       ]
      },
      {
       "output_type": "stream",
       "stream": "stdout",
       "text": [
        "Thread #0: \t139150000 read pairs finished. 2419 secs passed\r\n"
       ]
      },
      {
       "output_type": "stream",
       "stream": "stdout",
       "text": [
        "Thread #2: \t139200000 read pairs finished. 2420 secs passed\r\n"
       ]
      },
      {
       "output_type": "stream",
       "stream": "stdout",
       "text": [
        "Thread #1: \t139250000 read pairs finished. 2421 secs passed\r\n"
       ]
      },
      {
       "output_type": "stream",
       "stream": "stdout",
       "text": [
        "Thread #0: \t139300000 read pairs finished. 2421 secs passed\r\n"
       ]
      },
      {
       "output_type": "stream",
       "stream": "stdout",
       "text": [
        "Thread #2: \t139350000 read pairs finished. 2422 secs passed\r\n"
       ]
      },
      {
       "output_type": "stream",
       "stream": "stdout",
       "text": [
        "Thread #1: \t139400000 read pairs finished. 2423 secs passed\r\n"
       ]
      },
      {
       "output_type": "stream",
       "stream": "stdout",
       "text": [
        "Thread #0: \t139450000 read pairs finished. 2424 secs passed\r\n"
       ]
      },
      {
       "output_type": "stream",
       "stream": "stdout",
       "text": [
        "Thread #2: \t139500000 read pairs finished. 2425 secs passed\r\n"
       ]
      },
      {
       "output_type": "stream",
       "stream": "stdout",
       "text": [
        "Thread #1: \t139550000 read pairs finished. 2426 secs passed\r\n"
       ]
      },
      {
       "output_type": "stream",
       "stream": "stdout",
       "text": [
        "Thread #0: \t139600000 read pairs finished. 2426 secs passed\r\n"
       ]
      },
      {
       "output_type": "stream",
       "stream": "stdout",
       "text": [
        "Thread #2: \t139650000 read pairs finished. 2427 secs passed\r\n"
       ]
      },
      {
       "output_type": "stream",
       "stream": "stdout",
       "text": [
        "Thread #1: \t139700000 read pairs finished. 2428 secs passed\r\n"
       ]
      },
      {
       "output_type": "stream",
       "stream": "stdout",
       "text": [
        "Thread #0: \t139750000 read pairs finished. 2429 secs passed\r\n"
       ]
      },
      {
       "output_type": "stream",
       "stream": "stdout",
       "text": [
        "Thread #2: \t139800000 read pairs finished. 2430 secs passed\r\n"
       ]
      },
      {
       "output_type": "stream",
       "stream": "stdout",
       "text": [
        "Thread #1: \t139850000 read pairs finished. 2431 secs passed\r\n"
       ]
      },
      {
       "output_type": "stream",
       "stream": "stdout",
       "text": [
        "Thread #0: \t139900000 read pairs finished. 2431 secs passed\r\n"
       ]
      },
      {
       "output_type": "stream",
       "stream": "stdout",
       "text": [
        "Thread #2: \t139950000 read pairs finished. 2432 secs passed\r\n"
       ]
      },
      {
       "output_type": "stream",
       "stream": "stdout",
       "text": [
        "Thread #1: \t140000000 read pairs finished. 2433 secs passed\r\n"
       ]
      },
      {
       "output_type": "stream",
       "stream": "stdout",
       "text": [
        "Thread #0: \t140050000 read pairs finished. 2434 secs passed\r\n"
       ]
      },
      {
       "output_type": "stream",
       "stream": "stdout",
       "text": [
        "Thread #2: \t140100000 read pairs finished. 2435 secs passed\r\n"
       ]
      },
      {
       "output_type": "stream",
       "stream": "stdout",
       "text": [
        "Thread #1: \t140150000 read pairs finished. 2436 secs passed\r\n"
       ]
      },
      {
       "output_type": "stream",
       "stream": "stdout",
       "text": [
        "Thread #0: \t140200000 read pairs finished. 2437 secs passed\r\n"
       ]
      },
      {
       "output_type": "stream",
       "stream": "stdout",
       "text": [
        "Thread #2: \t140250000 read pairs finished. 2437 secs passed\r\n"
       ]
      },
      {
       "output_type": "stream",
       "stream": "stdout",
       "text": [
        "Thread #1: \t140300000 read pairs finished. 2438 secs passed\r\n"
       ]
      },
      {
       "output_type": "stream",
       "stream": "stdout",
       "text": [
        "Thread #0: \t140350000 read pairs finished. 2439 secs passed\r\n"
       ]
      },
      {
       "output_type": "stream",
       "stream": "stdout",
       "text": [
        "Thread #2: \t140400000 read pairs finished. 2440 secs passed\r\n"
       ]
      },
      {
       "output_type": "stream",
       "stream": "stdout",
       "text": [
        "Thread #1: \t140450000 read pairs finished. 2441 secs passed\r\n"
       ]
      },
      {
       "output_type": "stream",
       "stream": "stdout",
       "text": [
        "Thread #0: \t140500000 read pairs finished. 2442 secs passed\r\n"
       ]
      },
      {
       "output_type": "stream",
       "stream": "stdout",
       "text": [
        "Thread #2: \t140550000 read pairs finished. 2443 secs passed\r\n"
       ]
      },
      {
       "output_type": "stream",
       "stream": "stdout",
       "text": [
        "Thread #1: \t140600000 read pairs finished. 2444 secs passed\r\n"
       ]
      },
      {
       "output_type": "stream",
       "stream": "stdout",
       "text": [
        "Thread #0: \t140650000 read pairs finished. 2445 secs passed\r\n"
       ]
      },
      {
       "output_type": "stream",
       "stream": "stdout",
       "text": [
        "Thread #2: \t140700000 read pairs finished. 2445 secs passed\r\n"
       ]
      },
      {
       "output_type": "stream",
       "stream": "stdout",
       "text": [
        "Thread #1: \t140750000 read pairs finished. 2446 secs passed\r\n"
       ]
      },
      {
       "output_type": "stream",
       "stream": "stdout",
       "text": [
        "Thread #0: \t140800000 read pairs finished. 2447 secs passed\r\n"
       ]
      },
      {
       "output_type": "stream",
       "stream": "stdout",
       "text": [
        "Thread #2: \t140850000 read pairs finished. 2448 secs passed\r\n"
       ]
      },
      {
       "output_type": "stream",
       "stream": "stdout",
       "text": [
        "Thread #1: \t140900000 read pairs finished. 2449 secs passed\r\n"
       ]
      },
      {
       "output_type": "stream",
       "stream": "stdout",
       "text": [
        "Thread #0: \t140950000 read pairs finished. 2450 secs passed\r\n"
       ]
      },
      {
       "output_type": "stream",
       "stream": "stdout",
       "text": [
        "Thread #2: \t141000000 read pairs finished. 2451 secs passed\r\n"
       ]
      },
      {
       "output_type": "stream",
       "stream": "stdout",
       "text": [
        "Thread #1: \t141050000 read pairs finished. 2452 secs passed\r\n"
       ]
      },
      {
       "output_type": "stream",
       "stream": "stdout",
       "text": [
        "Thread #0: \t141100000 read pairs finished. 2452 secs passed\r\n"
       ]
      },
      {
       "output_type": "stream",
       "stream": "stdout",
       "text": [
        "Thread #2: \t141150000 read pairs finished. 2453 secs passed\r\n"
       ]
      },
      {
       "output_type": "stream",
       "stream": "stdout",
       "text": [
        "Thread #1: \t141200000 read pairs finished. 2454 secs passed\r\n"
       ]
      },
      {
       "output_type": "stream",
       "stream": "stdout",
       "text": [
        "Thread #0: \t141250000 read pairs finished. 2455 secs passed\r\n"
       ]
      },
      {
       "output_type": "stream",
       "stream": "stdout",
       "text": [
        "Thread #2: \t141300000 read pairs finished. 2456 secs passed\r\n"
       ]
      },
      {
       "output_type": "stream",
       "stream": "stdout",
       "text": [
        "Thread #1: \t141350000 read pairs finished. 2456 secs passed\r\n"
       ]
      },
      {
       "output_type": "stream",
       "stream": "stdout",
       "text": [
        "Thread #0: \t141400000 read pairs finished. 2457 secs passed\r\n"
       ]
      },
      {
       "output_type": "stream",
       "stream": "stdout",
       "text": [
        "Thread #2: \t141450000 read pairs finished. 2458 secs passed\r\n"
       ]
      },
      {
       "output_type": "stream",
       "stream": "stdout",
       "text": [
        "Thread #1: \t141500000 read pairs finished. 2459 secs passed\r\n"
       ]
      },
      {
       "output_type": "stream",
       "stream": "stdout",
       "text": [
        "Thread #0: \t141550000 read pairs finished. 2460 secs passed\r\n"
       ]
      },
      {
       "output_type": "stream",
       "stream": "stdout",
       "text": [
        "Thread #2: \t141600000 read pairs finished. 2461 secs passed\r\n"
       ]
      },
      {
       "output_type": "stream",
       "stream": "stdout",
       "text": [
        "Thread #1: \t141650000 read pairs finished. 2462 secs passed\r\n"
       ]
      },
      {
       "output_type": "stream",
       "stream": "stdout",
       "text": [
        "Thread #0: \t141700000 read pairs finished. 2463 secs passed\r\n"
       ]
      },
      {
       "output_type": "stream",
       "stream": "stdout",
       "text": [
        "Thread #2: \t141750000 read pairs finished. 2463 secs passed\r\n"
       ]
      },
      {
       "output_type": "stream",
       "stream": "stdout",
       "text": [
        "Thread #1: \t141800000 read pairs finished. 2464 secs passed\r\n"
       ]
      },
      {
       "output_type": "stream",
       "stream": "stdout",
       "text": [
        "Thread #0: \t141850000 read pairs finished. 2465 secs passed\r\n"
       ]
      },
      {
       "output_type": "stream",
       "stream": "stdout",
       "text": [
        "Thread #2: \t141900000 read pairs finished. 2466 secs passed\r\n"
       ]
      },
      {
       "output_type": "stream",
       "stream": "stdout",
       "text": [
        "Thread #1: \t141950000 read pairs finished. 2467 secs passed\r\n"
       ]
      },
      {
       "output_type": "stream",
       "stream": "stdout",
       "text": [
        "Thread #0: \t142000000 read pairs finished. 2468 secs passed\r\n"
       ]
      },
      {
       "output_type": "stream",
       "stream": "stdout",
       "text": [
        "Thread #2: \t142050000 read pairs finished. 2469 secs passed\r\n"
       ]
      },
      {
       "output_type": "stream",
       "stream": "stdout",
       "text": [
        "Thread #1: \t142100000 read pairs finished. 2470 secs passed\r\n"
       ]
      },
      {
       "output_type": "stream",
       "stream": "stdout",
       "text": [
        "Thread #0: \t142150000 read pairs finished. 2471 secs passed\r\n"
       ]
      },
      {
       "output_type": "stream",
       "stream": "stdout",
       "text": [
        "Thread #2: \t142200000 read pairs finished. 2471 secs passed\r\n"
       ]
      },
      {
       "output_type": "stream",
       "stream": "stdout",
       "text": [
        "Thread #1: \t142250000 read pairs finished. 2472 secs passed\r\n"
       ]
      },
      {
       "output_type": "stream",
       "stream": "stdout",
       "text": [
        "Thread #0: \t142300000 read pairs finished. 2473 secs passed\r\n"
       ]
      },
      {
       "output_type": "stream",
       "stream": "stdout",
       "text": [
        "Thread #2: \t142350000 read pairs finished. 2474 secs passed\r\n"
       ]
      },
      {
       "output_type": "stream",
       "stream": "stdout",
       "text": [
        "Thread #1: \t142400000 read pairs finished. 2474 secs passed\r\n"
       ]
      },
      {
       "output_type": "stream",
       "stream": "stdout",
       "text": [
        "Thread #0: \t142450000 read pairs finished. 2475 secs passed\r\n"
       ]
      },
      {
       "output_type": "stream",
       "stream": "stdout",
       "text": [
        "Thread #2: \t142500000 read pairs finished. 2476 secs passed\r\n"
       ]
      },
      {
       "output_type": "stream",
       "stream": "stdout",
       "text": [
        "Thread #1: \t142550000 read pairs finished. 2477 secs passed\r\n"
       ]
      },
      {
       "output_type": "stream",
       "stream": "stdout",
       "text": [
        "Thread #0: \t142600000 read pairs finished. 2478 secs passed\r\n"
       ]
      },
      {
       "output_type": "stream",
       "stream": "stdout",
       "text": [
        "Thread #2: \t142650000 read pairs finished. 2479 secs passed\r\n"
       ]
      },
      {
       "output_type": "stream",
       "stream": "stdout",
       "text": [
        "Thread #1: \t142700000 read pairs finished. 2480 secs passed\r\n"
       ]
      },
      {
       "output_type": "stream",
       "stream": "stdout",
       "text": [
        "Thread #0: \t142750000 read pairs finished. 2481 secs passed\r\n"
       ]
      },
      {
       "output_type": "stream",
       "stream": "stdout",
       "text": [
        "Thread #2: \t142800000 read pairs finished. 2482 secs passed\r\n"
       ]
      },
      {
       "output_type": "stream",
       "stream": "stdout",
       "text": [
        "Thread #1: \t142850000 read pairs finished. 2482 secs passed\r\n"
       ]
      },
      {
       "output_type": "stream",
       "stream": "stdout",
       "text": [
        "Thread #0: \t142900000 read pairs finished. 2483 secs passed\r\n"
       ]
      },
      {
       "output_type": "stream",
       "stream": "stdout",
       "text": [
        "Thread #2: \t142950000 read pairs finished. 2484 secs passed\r\n"
       ]
      },
      {
       "output_type": "stream",
       "stream": "stdout",
       "text": [
        "Thread #1: \t143000000 read pairs finished. 2485 secs passed\r\n"
       ]
      },
      {
       "output_type": "stream",
       "stream": "stdout",
       "text": [
        "Thread #0: \t143050000 read pairs finished. 2486 secs passed\r\n"
       ]
      },
      {
       "output_type": "stream",
       "stream": "stdout",
       "text": [
        "Thread #2: \t143100000 read pairs finished. 2487 secs passed\r\n"
       ]
      },
      {
       "output_type": "stream",
       "stream": "stdout",
       "text": [
        "Thread #1: \t143150000 read pairs finished. 2487 secs passed\r\n"
       ]
      },
      {
       "output_type": "stream",
       "stream": "stdout",
       "text": [
        "Thread #0: \t143200000 read pairs finished. 2488 secs passed\r\n"
       ]
      },
      {
       "output_type": "stream",
       "stream": "stdout",
       "text": [
        "Thread #2: \t143250000 read pairs finished. 2489 secs passed\r\n"
       ]
      },
      {
       "output_type": "stream",
       "stream": "stdout",
       "text": [
        "Thread #1: \t143300000 read pairs finished. 2490 secs passed\r\n"
       ]
      },
      {
       "output_type": "stream",
       "stream": "stdout",
       "text": [
        "Thread #0: \t143350000 read pairs finished. 2491 secs passed\r\n"
       ]
      },
      {
       "output_type": "stream",
       "stream": "stdout",
       "text": [
        "Thread #2: \t143400000 read pairs finished. 2491 secs passed\r\n"
       ]
      },
      {
       "output_type": "stream",
       "stream": "stdout",
       "text": [
        "Thread #1: \t143450000 read pairs finished. 2492 secs passed\r\n"
       ]
      },
      {
       "output_type": "stream",
       "stream": "stdout",
       "text": [
        "Thread #0: \t143500000 read pairs finished. 2493 secs passed\r\n"
       ]
      },
      {
       "output_type": "stream",
       "stream": "stdout",
       "text": [
        "Thread #2: \t143550000 read pairs finished. 2494 secs passed\r\n"
       ]
      },
      {
       "output_type": "stream",
       "stream": "stdout",
       "text": [
        "Thread #1: \t143600000 read pairs finished. 2495 secs passed\r\n"
       ]
      },
      {
       "output_type": "stream",
       "stream": "stdout",
       "text": [
        "Thread #0: \t143650000 read pairs finished. 2496 secs passed\r\n"
       ]
      },
      {
       "output_type": "stream",
       "stream": "stdout",
       "text": [
        "Thread #2: \t143700000 read pairs finished. 2497 secs passed\r\n"
       ]
      },
      {
       "output_type": "stream",
       "stream": "stdout",
       "text": [
        "Thread #1: \t143750000 read pairs finished. 2498 secs passed\r\n"
       ]
      },
      {
       "output_type": "stream",
       "stream": "stdout",
       "text": [
        "Thread #0: \t143800000 read pairs finished. 2499 secs passed\r\n"
       ]
      },
      {
       "output_type": "stream",
       "stream": "stdout",
       "text": [
        "Thread #2: \t143850000 read pairs finished. 2500 secs passed\r\n"
       ]
      },
      {
       "output_type": "stream",
       "stream": "stdout",
       "text": [
        "Thread #1: \t143900000 read pairs finished. 2501 secs passed\r\n"
       ]
      },
      {
       "output_type": "stream",
       "stream": "stdout",
       "text": [
        "Thread #0: \t143950000 read pairs finished. 2502 secs passed\r\n"
       ]
      },
      {
       "output_type": "stream",
       "stream": "stdout",
       "text": [
        "Thread #2: \t144000000 read pairs finished. 2502 secs passed\r\n"
       ]
      },
      {
       "output_type": "stream",
       "stream": "stdout",
       "text": [
        "Thread #1: \t144050000 read pairs finished. 2503 secs passed\r\n"
       ]
      },
      {
       "output_type": "stream",
       "stream": "stdout",
       "text": [
        "Thread #0: \t144100000 read pairs finished. 2504 secs passed\r\n"
       ]
      },
      {
       "output_type": "stream",
       "stream": "stdout",
       "text": [
        "Thread #2: \t144150000 read pairs finished. 2505 secs passed\r\n"
       ]
      },
      {
       "output_type": "stream",
       "stream": "stdout",
       "text": [
        "Thread #1: \t144200000 read pairs finished. 2506 secs passed\r\n"
       ]
      },
      {
       "output_type": "stream",
       "stream": "stdout",
       "text": [
        "Thread #0: \t144250000 read pairs finished. 2506 secs passed\r\n"
       ]
      },
      {
       "output_type": "stream",
       "stream": "stdout",
       "text": [
        "Thread #2: \t144300000 read pairs finished. 2507 secs passed\r\n"
       ]
      },
      {
       "output_type": "stream",
       "stream": "stdout",
       "text": [
        "Thread #1: \t144350000 read pairs finished. 2508 secs passed\r\n"
       ]
      },
      {
       "output_type": "stream",
       "stream": "stdout",
       "text": [
        "Thread #0: \t144400000 read pairs finished. 2509 secs passed\r\n"
       ]
      },
      {
       "output_type": "stream",
       "stream": "stdout",
       "text": [
        "Thread #2: \t144450000 read pairs finished. 2510 secs passed\r\n"
       ]
      },
      {
       "output_type": "stream",
       "stream": "stdout",
       "text": [
        "Thread #1: \t144500000 read pairs finished. 2510 secs passed\r\n"
       ]
      },
      {
       "output_type": "stream",
       "stream": "stdout",
       "text": [
        "Thread #0: \t144550000 read pairs finished. 2511 secs passed\r\n"
       ]
      },
      {
       "output_type": "stream",
       "stream": "stdout",
       "text": [
        "Thread #2: \t144600000 read pairs finished. 2512 secs passed\r\n"
       ]
      },
      {
       "output_type": "stream",
       "stream": "stdout",
       "text": [
        "Thread #1: \t144650000 read pairs finished. 2513 secs passed\r\n"
       ]
      },
      {
       "output_type": "stream",
       "stream": "stdout",
       "text": [
        "Thread #0: \t144700000 read pairs finished. 2514 secs passed\r\n"
       ]
      },
      {
       "output_type": "stream",
       "stream": "stdout",
       "text": [
        "Thread #2: \t144750000 read pairs finished. 2515 secs passed\r\n"
       ]
      },
      {
       "output_type": "stream",
       "stream": "stdout",
       "text": [
        "Thread #1: \t144800000 read pairs finished. 2516 secs passed\r\n"
       ]
      },
      {
       "output_type": "stream",
       "stream": "stdout",
       "text": [
        "Thread #0: \t144850000 read pairs finished. 2517 secs passed\r\n"
       ]
      },
      {
       "output_type": "stream",
       "stream": "stdout",
       "text": [
        "Thread #2: \t144900000 read pairs finished. 2517 secs passed\r\n"
       ]
      },
      {
       "output_type": "stream",
       "stream": "stdout",
       "text": [
        "Thread #1: \t144950000 read pairs finished. 2518 secs passed\r\n"
       ]
      },
      {
       "output_type": "stream",
       "stream": "stdout",
       "text": [
        "Thread #0: \t145000000 read pairs finished. 2519 secs passed\r\n"
       ]
      },
      {
       "output_type": "stream",
       "stream": "stdout",
       "text": [
        "Thread #2: \t145050000 read pairs finished. 2520 secs passed\r\n"
       ]
      },
      {
       "output_type": "stream",
       "stream": "stdout",
       "text": [
        "Thread #"
       ]
      },
      {
       "output_type": "stream",
       "stream": "stdout",
       "text": [
        "1: \t145100000 read pairs finished. 2521 secs passed\r\n"
       ]
      },
      {
       "output_type": "stream",
       "stream": "stdout",
       "text": [
        "Thread #0: \t145150000 read pairs finished. 2522 secs passed\r\n"
       ]
      },
      {
       "output_type": "stream",
       "stream": "stdout",
       "text": [
        "Thread #2: \t145200000 read pairs finished. 2522 secs passed\r\n"
       ]
      },
      {
       "output_type": "stream",
       "stream": "stdout",
       "text": [
        "Thread #1: \t145250000 read pairs finished. 2523 secs passed\r\n"
       ]
      },
      {
       "output_type": "stream",
       "stream": "stdout",
       "text": [
        "Thread #0: \t145300000 read pairs finished. 2524 secs passed\r\n"
       ]
      },
      {
       "output_type": "stream",
       "stream": "stdout",
       "text": [
        "Thread #2: \t145350000 read pairs finished. 2525 secs passed\r\n"
       ]
      },
      {
       "output_type": "stream",
       "stream": "stdout",
       "text": [
        "Thread #1: \t145400000 read pairs finished. 2525 secs passed\r\n"
       ]
      },
      {
       "output_type": "stream",
       "stream": "stdout",
       "text": [
        "Thread #0: \t145450000 read pairs finished. 2526 secs passed\r\n"
       ]
      },
      {
       "output_type": "stream",
       "stream": "stdout",
       "text": [
        "Thread #2: \t145500000 read pairs finished. 2527 secs passed\r\n"
       ]
      },
      {
       "output_type": "stream",
       "stream": "stdout",
       "text": [
        "Thread #1: \t145550000 read pairs finished. 2528 secs passed\r\n"
       ]
      },
      {
       "output_type": "stream",
       "stream": "stdout",
       "text": [
        "Thread #0: \t145600000 read pairs finished. 2529 secs passed\r\n"
       ]
      },
      {
       "output_type": "stream",
       "stream": "stdout",
       "text": [
        "Thread #2: \t145650000 read pairs finished. 2530 secs passed\r\n"
       ]
      },
      {
       "output_type": "stream",
       "stream": "stdout",
       "text": [
        "Thread #1: \t145700000 read pairs finished. 2531 secs passed\r\n"
       ]
      },
      {
       "output_type": "stream",
       "stream": "stdout",
       "text": [
        "Thread #0: \t145750000 read pairs finished. 2532 secs passed\r\n"
       ]
      },
      {
       "output_type": "stream",
       "stream": "stdout",
       "text": [
        "Thread #2: \t145800000 read pairs finished. 2532 secs passed\r\n"
       ]
      },
      {
       "output_type": "stream",
       "stream": "stdout",
       "text": [
        "Thread #1: \t145850000 read pairs finished. 2533 secs passed\r\n"
       ]
      },
      {
       "output_type": "stream",
       "stream": "stdout",
       "text": [
        "Thread #0: \t145900000 read pairs finished. 2534 secs passed\r\n"
       ]
      },
      {
       "output_type": "stream",
       "stream": "stdout",
       "text": [
        "Thread #2: \t145950000 read pairs finished. 2535 secs passed\r\n"
       ]
      },
      {
       "output_type": "stream",
       "stream": "stdout",
       "text": [
        "Thread #1: \t146000000 read pairs finished. 2536 secs passed\r\n"
       ]
      },
      {
       "output_type": "stream",
       "stream": "stdout",
       "text": [
        "Thread #0: \t146050000 read pairs finished. 2537 secs passed\r\n"
       ]
      },
      {
       "output_type": "stream",
       "stream": "stdout",
       "text": [
        "Thread #2: \t146100000 read pairs finished. 2538 secs passed\r\n"
       ]
      },
      {
       "output_type": "stream",
       "stream": "stdout",
       "text": [
        "Thread #1: \t146150000 read pairs finished. 2539 secs passed\r\n"
       ]
      },
      {
       "output_type": "stream",
       "stream": "stdout",
       "text": [
        "Thread #0: \t146200000 read pairs finished. 2540 secs passed\r\n"
       ]
      },
      {
       "output_type": "stream",
       "stream": "stdout",
       "text": [
        "Thread #2: \t146250000 read pairs finished. 2541 secs passed\r\n"
       ]
      },
      {
       "output_type": "stream",
       "stream": "stdout",
       "text": [
        "Thread #1: \t146300000 read pairs finished. 2541 secs passed\r\n"
       ]
      },
      {
       "output_type": "stream",
       "stream": "stdout",
       "text": [
        "Thread #0: \t146350000 read pairs finished. 2542 secs passed\r\n"
       ]
      },
      {
       "output_type": "stream",
       "stream": "stdout",
       "text": [
        "Thread #2: \t146400000 read pairs finished. 2543 secs passed\r\n"
       ]
      },
      {
       "output_type": "stream",
       "stream": "stdout",
       "text": [
        "Thread #1: \t146450000 read pairs finished. 2544 secs passed\r\n"
       ]
      },
      {
       "output_type": "stream",
       "stream": "stdout",
       "text": [
        "Thread #0: \t146500000 read pairs finished. 2545 secs passed\r\n"
       ]
      },
      {
       "output_type": "stream",
       "stream": "stdout",
       "text": [
        "Thread #2: \t146550000 read pairs finished. 2545 secs passed\r\n"
       ]
      },
      {
       "output_type": "stream",
       "stream": "stdout",
       "text": [
        "Thread #1: \t146600000 read pairs finished. 2546 secs passed\r\n"
       ]
      },
      {
       "output_type": "stream",
       "stream": "stdout",
       "text": [
        "Thread #0: \t146650000 read pairs finished. 2547 secs passed\r\n"
       ]
      },
      {
       "output_type": "stream",
       "stream": "stdout",
       "text": [
        "Thread #2: \t146700000 read pairs finished. 2548 secs passed\r\n"
       ]
      },
      {
       "output_type": "stream",
       "stream": "stdout",
       "text": [
        "Thread #1: \t146750000 read pairs finished. 2549 secs passed\r\n"
       ]
      },
      {
       "output_type": "stream",
       "stream": "stdout",
       "text": [
        "Thread #0: \t146800000 read pairs finished. 2550 secs passed\r\n"
       ]
      },
      {
       "output_type": "stream",
       "stream": "stdout",
       "text": [
        "Thread #2: \t146850000 read pairs finished. 2550 secs passed\r\n"
       ]
      },
      {
       "output_type": "stream",
       "stream": "stdout",
       "text": [
        "Thread #1: \t146900000 read pairs finished. 2551 secs passed\r\n"
       ]
      },
      {
       "output_type": "stream",
       "stream": "stdout",
       "text": [
        "Thread #0: \t146950000 read pairs finished. 2552 secs passed\r\n"
       ]
      },
      {
       "output_type": "stream",
       "stream": "stdout",
       "text": [
        "Thread #2: \t147000000 read pairs finished. 2553 secs passed\r\n"
       ]
      },
      {
       "output_type": "stream",
       "stream": "stdout",
       "text": [
        "Thread #1: \t147050000 read pairs finished. 2554 secs passed\r\n"
       ]
      },
      {
       "output_type": "stream",
       "stream": "stdout",
       "text": [
        "Thread #0: \t147100000 read pairs finished. 2555 secs passed\r\n"
       ]
      },
      {
       "output_type": "stream",
       "stream": "stdout",
       "text": [
        "Thread #2: \t147150000 read pairs finished. 2555 secs passed\r\n"
       ]
      },
      {
       "output_type": "stream",
       "stream": "stdout",
       "text": [
        "Thread #1: \t147200000 read pairs finished. 2556 secs passed\r\n"
       ]
      },
      {
       "output_type": "stream",
       "stream": "stdout",
       "text": [
        "Thread #0: \t147250000 read pairs finished. 2557 secs passed\r\n"
       ]
      },
      {
       "output_type": "stream",
       "stream": "stdout",
       "text": [
        "Thread #2: \t147300000 read pairs finished. 2558 secs passed\r\n"
       ]
      },
      {
       "output_type": "stream",
       "stream": "stdout",
       "text": [
        "Thread #1: \t147350000 read pairs finished. 2559 secs passed\r\n"
       ]
      },
      {
       "output_type": "stream",
       "stream": "stdout",
       "text": [
        "Thread #0: \t147400000 read pairs finished. 2560 secs passed\r\n"
       ]
      },
      {
       "output_type": "stream",
       "stream": "stdout",
       "text": [
        "Thread #2: \t147450000 read pairs finished. 2561 secs passed\r\n"
       ]
      },
      {
       "output_type": "stream",
       "stream": "stdout",
       "text": [
        "Thread #1: \t147500000 read pairs finished. 2562 secs passed\r\n"
       ]
      },
      {
       "output_type": "stream",
       "stream": "stdout",
       "text": [
        "Thread #0: \t147550000 read pairs finished. 2562 secs passed\r\n"
       ]
      },
      {
       "output_type": "stream",
       "stream": "stdout",
       "text": [
        "Thread #2: \t147600000 read pairs finished. 2563 secs passed\r\n"
       ]
      },
      {
       "output_type": "stream",
       "stream": "stdout",
       "text": [
        "Thread #1: \t147650000 read pairs finished. 2564 secs passed\r\n"
       ]
      },
      {
       "output_type": "stream",
       "stream": "stdout",
       "text": [
        "Thread #0: \t147700000 read pairs finished. 2565 secs passed\r\n"
       ]
      },
      {
       "output_type": "stream",
       "stream": "stdout",
       "text": [
        "Thread #2: \t147750000 read pairs finished. 2566 secs passed\r\n"
       ]
      },
      {
       "output_type": "stream",
       "stream": "stdout",
       "text": [
        "Thread #1: \t147800000 read pairs finished. 2567 secs passed\r\n"
       ]
      },
      {
       "output_type": "stream",
       "stream": "stdout",
       "text": [
        "Thread #0: \t147850000 read pairs finished. 2567 secs passed\r\n"
       ]
      },
      {
       "output_type": "stream",
       "stream": "stdout",
       "text": [
        "Thread #2: \t147900000 read pairs finished. 2568 secs passed\r\n"
       ]
      },
      {
       "output_type": "stream",
       "stream": "stdout",
       "text": [
        "Thread #1: \t147950000 read pairs finished. 2569 secs passed\r\n"
       ]
      },
      {
       "output_type": "stream",
       "stream": "stdout",
       "text": [
        "Thread #0: \t148000000 read pairs finished. 2570 secs passed\r\n"
       ]
      },
      {
       "output_type": "stream",
       "stream": "stdout",
       "text": [
        "Thread #2: \t148050000 read pairs finished. 2571 secs passed\r\n"
       ]
      },
      {
       "output_type": "stream",
       "stream": "stdout",
       "text": [
        "Thread #1: \t148100000 read pairs finished. 2572 secs passed\r\n"
       ]
      },
      {
       "output_type": "stream",
       "stream": "stdout",
       "text": [
        "Thread #0: \t148150000 read pairs finished. 2572 secs passed\r\n"
       ]
      },
      {
       "output_type": "stream",
       "stream": "stdout",
       "text": [
        "Thread #2: \t148200000 read pairs finished. 2573 secs passed\r\n"
       ]
      },
      {
       "output_type": "stream",
       "stream": "stdout",
       "text": [
        "Thread #1: \t148250000 read pairs finished. 2574 secs passed\r\n"
       ]
      },
      {
       "output_type": "stream",
       "stream": "stdout",
       "text": [
        "Thread #0: \t148300000 read pairs finished. 2575 secs passed\r\n"
       ]
      },
      {
       "output_type": "stream",
       "stream": "stdout",
       "text": [
        "Thread #2: \t148350000 read pairs finished. 2576 secs passed\r\n"
       ]
      },
      {
       "output_type": "stream",
       "stream": "stdout",
       "text": [
        "Thread #1: \t148400000 read pairs finished. 2576 secs passed\r\n"
       ]
      },
      {
       "output_type": "stream",
       "stream": "stdout",
       "text": [
        "Thread #0: \t148450000 read pairs finished. 2577 secs passed\r\n"
       ]
      },
      {
       "output_type": "stream",
       "stream": "stdout",
       "text": [
        "Thread #2: \t148500000 read pairs finished. 2578 secs passed\r\n"
       ]
      },
      {
       "output_type": "stream",
       "stream": "stdout",
       "text": [
        "Thread #1: \t148550000 read pairs finished. 2579 secs passed\r\n"
       ]
      },
      {
       "output_type": "stream",
       "stream": "stdout",
       "text": [
        "Thread #0: \t148600000 read pairs finished. 2580 secs passed\r\n"
       ]
      },
      {
       "output_type": "stream",
       "stream": "stdout",
       "text": [
        "Thread #2: \t148650000 read pairs finished. 2580 secs passed\r\n"
       ]
      },
      {
       "output_type": "stream",
       "stream": "stdout",
       "text": [
        "Thread #1: \t148700000 read pairs finished. 2581 secs passed\r\n"
       ]
      },
      {
       "output_type": "stream",
       "stream": "stdout",
       "text": [
        "Thread #0: \t148750000 read pairs finished. 2582 secs passed\r\n"
       ]
      },
      {
       "output_type": "stream",
       "stream": "stdout",
       "text": [
        "Thread #2: \t148800000 read pairs finished. 2583 secs passed\r\n"
       ]
      },
      {
       "output_type": "stream",
       "stream": "stdout",
       "text": [
        "Thread #1: \t148850000 read pairs finished. 2584 secs passed\r\n"
       ]
      },
      {
       "output_type": "stream",
       "stream": "stdout",
       "text": [
        "Thread #0: \t148900000 read pairs finished. 2585 secs passed\r\n"
       ]
      },
      {
       "output_type": "stream",
       "stream": "stdout",
       "text": [
        "Thread #2: \t148950000 read pairs finished. 2585 secs passed\r\n"
       ]
      },
      {
       "output_type": "stream",
       "stream": "stdout",
       "text": [
        "Thread #1: \t149000000 read pairs finished. 2586 secs passed\r\n"
       ]
      },
      {
       "output_type": "stream",
       "stream": "stdout",
       "text": [
        "Thread #0: \t149050000 read pairs finished. 2587 secs passed\r\n"
       ]
      },
      {
       "output_type": "stream",
       "stream": "stdout",
       "text": [
        "Thread #2: \t149100000 read pairs finished. 2588 secs passed\r\n"
       ]
      },
      {
       "output_type": "stream",
       "stream": "stdout",
       "text": [
        "Thread #1: \t149150000 read pairs finished. 2589 secs passed\r\n"
       ]
      },
      {
       "output_type": "stream",
       "stream": "stdout",
       "text": [
        "Thread #0: \t149200000 read pairs finished. 2590 secs passed\r\n"
       ]
      },
      {
       "output_type": "stream",
       "stream": "stdout",
       "text": [
        "Thread #2: \t149250000 read pairs finished. 2591 secs passed\r\n"
       ]
      },
      {
       "output_type": "stream",
       "stream": "stdout",
       "text": [
        "Thread #1: \t149300000 read pairs finished. 2591 secs passed\r\n"
       ]
      },
      {
       "output_type": "stream",
       "stream": "stdout",
       "text": [
        "Thread #0: \t149350000 read pairs finished. 2592 secs passed\r\n"
       ]
      },
      {
       "output_type": "stream",
       "stream": "stdout",
       "text": [
        "Thread #2: \t149400000 read pairs finished. 2593 secs passed\r\n"
       ]
      },
      {
       "output_type": "stream",
       "stream": "stdout",
       "text": [
        "Thread #1: \t149450000 read pairs finished. 2594 secs passed\r\n"
       ]
      },
      {
       "output_type": "stream",
       "stream": "stdout",
       "text": [
        "Thread #0: \t149500000 read pairs finished. 2595 secs passed\r\n"
       ]
      },
      {
       "output_type": "stream",
       "stream": "stdout",
       "text": [
        "Thread #2: \t149550000 read pairs finished. 2596 secs passed\r\n"
       ]
      },
      {
       "output_type": "stream",
       "stream": "stdout",
       "text": [
        "Thread #1: \t149600000 read pairs finished. 2597 secs passed\r\n"
       ]
      },
      {
       "output_type": "stream",
       "stream": "stdout",
       "text": [
        "Thread #0: \t149650000 read pairs finished. 2598 secs passed\r\n"
       ]
      },
      {
       "output_type": "stream",
       "stream": "stdout",
       "text": [
        "Thread #2: \t149700000 read pairs finished. 2599 secs passed\r\n"
       ]
      },
      {
       "output_type": "stream",
       "stream": "stdout",
       "text": [
        "Thread #1: \t149750000 read pairs finished. 2599 secs passed\r\n"
       ]
      },
      {
       "output_type": "stream",
       "stream": "stdout",
       "text": [
        "Thread #0: \t149800000 read pairs finished. 2600 secs passed\r\n"
       ]
      },
      {
       "output_type": "stream",
       "stream": "stdout",
       "text": [
        "Thread #2: \t149850000 read pairs finished. 2601 secs passed\r\n"
       ]
      },
      {
       "output_type": "stream",
       "stream": "stdout",
       "text": [
        "Thread #1: \t149900000 read pairs finished. 2602 secs passed\r\n"
       ]
      },
      {
       "output_type": "stream",
       "stream": "stdout",
       "text": [
        "Thread #0: \t149950000 read pairs finished. 2603 secs passed\r\n"
       ]
      },
      {
       "output_type": "stream",
       "stream": "stdout",
       "text": [
        "Thread #2: \t150000000 read pairs finished. 2604 secs passed\r\n"
       ]
      },
      {
       "output_type": "stream",
       "stream": "stdout",
       "text": [
        "Thread #1: \t150050000 read pairs finished. 2605 secs passed\r\n"
       ]
      },
      {
       "output_type": "stream",
       "stream": "stdout",
       "text": [
        "Thread #0: \t150100000 read pairs finished. 2606 secs passed\r\n"
       ]
      },
      {
       "output_type": "stream",
       "stream": "stdout",
       "text": [
        "Thread #2: \t150150000 read pairs finished. 2606 secs passed\r\n"
       ]
      },
      {
       "output_type": "stream",
       "stream": "stdout",
       "text": [
        "Thread #1: \t150200000 read pairs finished. 2607 secs passed\r\n"
       ]
      },
      {
       "output_type": "stream",
       "stream": "stdout",
       "text": [
        "Thread #0: \t150250000 read pairs finished. 2608 secs passed\r\n"
       ]
      },
      {
       "output_type": "stream",
       "stream": "stdout",
       "text": [
        "Thread #2: \t150300000 read pairs finished. 2609 secs passed\r\n"
       ]
      },
      {
       "output_type": "stream",
       "stream": "stdout",
       "text": [
        "Thread #1: \t150350000 read pairs finished. 2610 secs passed\r\n"
       ]
      },
      {
       "output_type": "stream",
       "stream": "stdout",
       "text": [
        "Thread #0: \t150400000 read pairs finished. 2611 secs passed\r\n"
       ]
      },
      {
       "output_type": "stream",
       "stream": "stdout",
       "text": [
        "Thread #2: \t150450000 read pairs finished. 2611 secs passed\r\n"
       ]
      },
      {
       "output_type": "stream",
       "stream": "stdout",
       "text": [
        "Thread #1: \t150500000 read pairs finished. 2612 secs passed\r\n"
       ]
      },
      {
       "output_type": "stream",
       "stream": "stdout",
       "text": [
        "Thread #0: \t150550000 read pairs finished. 2613 secs passed\r\n"
       ]
      },
      {
       "output_type": "stream",
       "stream": "stdout",
       "text": [
        "Thread #2: \t150600000 read pairs finished. 2614 secs passed\r\n"
       ]
      },
      {
       "output_type": "stream",
       "stream": "stdout",
       "text": [
        "Thread #1: \t150650000 read pairs finished. 2615 secs passed\r\n"
       ]
      },
      {
       "output_type": "stream",
       "stream": "stdout",
       "text": [
        "Thread #0: \t150700000 read pairs finished. 2616 secs passed\r\n"
       ]
      },
      {
       "output_type": "stream",
       "stream": "stdout",
       "text": [
        "Thread #2: \t150750000 read pairs finished. 2616 secs passed\r\n"
       ]
      },
      {
       "output_type": "stream",
       "stream": "stdout",
       "text": [
        "Thread #1: \t150800000 read pairs finished. 2617 secs passed\r\n"
       ]
      },
      {
       "output_type": "stream",
       "stream": "stdout",
       "text": [
        "Thread #0: \t150850000 read pairs finished. 2618 secs passed\r\n"
       ]
      },
      {
       "output_type": "stream",
       "stream": "stdout",
       "text": [
        "Thread #2: \t150900000 read pairs finished. 2619 secs passed\r\n"
       ]
      },
      {
       "output_type": "stream",
       "stream": "stdout",
       "text": [
        "Thread #1: \t150950000 read pairs finished. 2620 secs passed\r\n"
       ]
      },
      {
       "output_type": "stream",
       "stream": "stdout",
       "text": [
        "Thread #0: \t151000000 read pairs finished. 2621 secs passed\r\n"
       ]
      },
      {
       "output_type": "stream",
       "stream": "stdout",
       "text": [
        "Thread #2: \t151050000 read pairs finished. 2622 secs passed\r\n"
       ]
      },
      {
       "output_type": "stream",
       "stream": "stdout",
       "text": [
        "Thread #1: \t151100000 read pairs finished. 2623 secs passed\r\n"
       ]
      },
      {
       "output_type": "stream",
       "stream": "stdout",
       "text": [
        "Thread #0: \t151150000 read pairs finished. 2624 secs passed\r\n"
       ]
      },
      {
       "output_type": "stream",
       "stream": "stdout",
       "text": [
        "Thread #2: \t151200000 read pairs finished. 2625 secs passed\r\n"
       ]
      },
      {
       "output_type": "stream",
       "stream": "stdout",
       "text": [
        "Thread #1: \t151250000 read pairs finished. 2626 secs passed\r\n"
       ]
      },
      {
       "output_type": "stream",
       "stream": "stdout",
       "text": [
        "Thread #0: \t151300000 read pairs finished. 2627 secs passed\r\n"
       ]
      },
      {
       "output_type": "stream",
       "stream": "stdout",
       "text": [
        "Thread #2: \t151350000 read pairs finished. 2628 secs passed\r\n"
       ]
      },
      {
       "output_type": "stream",
       "stream": "stdout",
       "text": [
        "Thread #1: \t151400000 read pairs finished. 2628 secs passed\r\n"
       ]
      },
      {
       "output_type": "stream",
       "stream": "stdout",
       "text": [
        "Thread #0: \t151450000 read pairs finished. 2629 secs passed\r\n"
       ]
      },
      {
       "output_type": "stream",
       "stream": "stdout",
       "text": [
        "Thread #2: \t151500000 read pairs finished. 2630 secs passed\r\n"
       ]
      },
      {
       "output_type": "stream",
       "stream": "stdout",
       "text": [
        "Thread #1: \t151550000 read pairs finished. 2631 secs passed\r\n"
       ]
      },
      {
       "output_type": "stream",
       "stream": "stdout",
       "text": [
        "Thread #0: \t151600000 read pairs finished. 2632 secs passed\r\n"
       ]
      },
      {
       "output_type": "stream",
       "stream": "stdout",
       "text": [
        "Thread #2: \t151650000 read pairs finished. 2633 secs passed\r\n"
       ]
      },
      {
       "output_type": "stream",
       "stream": "stdout",
       "text": [
        "Thread #1: \t151700000 read pairs finished. 2634 secs passed\r\n"
       ]
      },
      {
       "output_type": "stream",
       "stream": "stdout",
       "text": [
        "Thread #0: \t151750000 read pairs finished. 2635 secs passed\r\n"
       ]
      },
      {
       "output_type": "stream",
       "stream": "stdout",
       "text": [
        "Thread #2: \t151800000 read pairs finished. 2636 secs passed\r\n"
       ]
      },
      {
       "output_type": "stream",
       "stream": "stdout",
       "text": [
        "Thread #1: \t151850000 read pairs finished. 2637 secs passed\r\n"
       ]
      },
      {
       "output_type": "stream",
       "stream": "stdout",
       "text": [
        "Thread #0: \t151900000 read pairs finished. 2637 secs passed\r\n"
       ]
      },
      {
       "output_type": "stream",
       "stream": "stdout",
       "text": [
        "Thread #2: \t151950000 read pairs finished. 2639 secs passed\r\n"
       ]
      },
      {
       "output_type": "stream",
       "stream": "stdout",
       "text": [
        "Thread #1: \t152000000 read pairs finished. 2639 secs passed\r\n"
       ]
      },
      {
       "output_type": "stream",
       "stream": "stdout",
       "text": [
        "Thread #0: \t152050000 read pairs finished. 2640 secs passed\r\n"
       ]
      },
      {
       "output_type": "stream",
       "stream": "stdout",
       "text": [
        "Thread #2: \t152100000 read pairs finished. 2641 secs passed\r\n"
       ]
      },
      {
       "output_type": "stream",
       "stream": "stdout",
       "text": [
        "Thread #1: \t152150000 read pairs finished. 2642 secs passed\r\n"
       ]
      },
      {
       "output_type": "stream",
       "stream": "stdout",
       "text": [
        "Thread #0: \t152200000 read pairs finished. 2643 secs passed\r\n"
       ]
      },
      {
       "output_type": "stream",
       "stream": "stdout",
       "text": [
        "Thread #2: \t152250000 read pairs finished. 2644 secs passed\r\n"
       ]
      },
      {
       "output_type": "stream",
       "stream": "stdout",
       "text": [
        "Thread #1: \t152300000 read pairs finished. 2645 secs passed\r\n"
       ]
      },
      {
       "output_type": "stream",
       "stream": "stdout",
       "text": [
        "Thread #0: \t152350000 read pairs finished. 2646 secs passed\r\n"
       ]
      },
      {
       "output_type": "stream",
       "stream": "stdout",
       "text": [
        "Thread #2: \t152400000 read pairs finished. 2647 secs passed\r\n"
       ]
      },
      {
       "output_type": "stream",
       "stream": "stdout",
       "text": [
        "Thread #1: \t152450000 read pairs finished. 2647 secs passed\r\n"
       ]
      },
      {
       "output_type": "stream",
       "stream": "stdout",
       "text": [
        "Thread #0: \t152500000 read pairs finished. 2648 secs passed\r\n"
       ]
      },
      {
       "output_type": "stream",
       "stream": "stdout",
       "text": [
        "Thread #2: \t152550000 read pairs finished. 2649 secs passed\r\n"
       ]
      },
      {
       "output_type": "stream",
       "stream": "stdout",
       "text": [
        "Thread #1: \t152600000 read pairs finished. 2650 secs passed\r\n"
       ]
      },
      {
       "output_type": "stream",
       "stream": "stdout",
       "text": [
        "Thread #0: \t152650000 read pairs finished. 2651 secs passed\r\n"
       ]
      },
      {
       "output_type": "stream",
       "stream": "stdout",
       "text": [
        "Thread #2: \t152700000 read pairs finished. 2652 secs passed\r\n"
       ]
      },
      {
       "output_type": "stream",
       "stream": "stdout",
       "text": [
        "Thread #1: \t152750000 read pairs finished. 2652 secs passed\r\n"
       ]
      },
      {
       "output_type": "stream",
       "stream": "stdout",
       "text": [
        "Thread #0: \t152800000 read pairs finished. 2654 secs passed\r\n"
       ]
      },
      {
       "output_type": "stream",
       "stream": "stdout",
       "text": [
        "Thread #2: \t152850000 read pairs finished. 2654 secs passed\r\n"
       ]
      },
      {
       "output_type": "stream",
       "stream": "stdout",
       "text": [
        "Thread #1: \t152900000 read pairs finished. 2656 secs passed\r\n"
       ]
      },
      {
       "output_type": "stream",
       "stream": "stdout",
       "text": [
        "Thread #0: \t152950000 read pairs finished. 2656 secs passed\r\n"
       ]
      },
      {
       "output_type": "stream",
       "stream": "stdout",
       "text": [
        "Thread #2: \t153000000 read pairs finished. 2657 secs passed\r\n"
       ]
      },
      {
       "output_type": "stream",
       "stream": "stdout",
       "text": [
        "Thread #1: \t153050000 read pairs finished. 2658 secs passed\r\n"
       ]
      },
      {
       "output_type": "stream",
       "stream": "stdout",
       "text": [
        "Thread #0: \t153100000 read pairs finished. 2659 secs passed\r\n"
       ]
      },
      {
       "output_type": "stream",
       "stream": "stdout",
       "text": [
        "Thread #2: \t153150000 read pairs finished. 2660 secs passed\r\n"
       ]
      },
      {
       "output_type": "stream",
       "stream": "stdout",
       "text": [
        "Thread #1: \t153200000 read pairs finished. 2661 secs passed\r\n"
       ]
      },
      {
       "output_type": "stream",
       "stream": "stdout",
       "text": [
        "Thread #0: \t153250000 read pairs finished. 2662 secs passed\r\n"
       ]
      },
      {
       "output_type": "stream",
       "stream": "stdout",
       "text": [
        "Thread #2: \t153300000 read pairs finished. 2663 secs passed\r\n"
       ]
      },
      {
       "output_type": "stream",
       "stream": "stdout",
       "text": [
        "Thread #1: \t153350000 read pairs finished. 2664 secs passed\r\n"
       ]
      },
      {
       "output_type": "stream",
       "stream": "stdout",
       "text": [
        "Thread #0: \t153400000 read pairs finished. 2665 secs passed\r\n"
       ]
      },
      {
       "output_type": "stream",
       "stream": "stdout",
       "text": [
        "Thread #2: \t153450000 read pairs finished. 2665 secs passed\r\n"
       ]
      },
      {
       "output_type": "stream",
       "stream": "stdout",
       "text": [
        "Thread #1: \t153500000 read pairs finished. 2666 secs passed\r\n"
       ]
      },
      {
       "output_type": "stream",
       "stream": "stdout",
       "text": [
        "Thread #0: \t153550000 read pairs finished. 2667 secs passed\r\n"
       ]
      },
      {
       "output_type": "stream",
       "stream": "stdout",
       "text": [
        "Thread #2: \t153600000 read pairs finished. 2668 secs passed\r\n"
       ]
      },
      {
       "output_type": "stream",
       "stream": "stdout",
       "text": [
        "Thread #1: \t153650000 read pairs finished. 2669 secs passed\r\n"
       ]
      },
      {
       "output_type": "stream",
       "stream": "stdout",
       "text": [
        "Thread #0: \t153700000 read pairs finished. 2670 secs passed\r\n"
       ]
      },
      {
       "output_type": "stream",
       "stream": "stdout",
       "text": [
        "Thread #2: \t153750000 read pairs finished. 2671 secs passed\r\n"
       ]
      },
      {
       "output_type": "stream",
       "stream": "stdout",
       "text": [
        "Thread #1: \t153800000 read pairs finished. 2672 secs passed\r\n"
       ]
      },
      {
       "output_type": "stream",
       "stream": "stdout",
       "text": [
        "Thread #0: \t153850000 read pairs finished. 2673 secs passed\r\n"
       ]
      },
      {
       "output_type": "stream",
       "stream": "stdout",
       "text": [
        "Thread #2: \t153900000 read pairs finished. 2673 secs passed\r\n"
       ]
      },
      {
       "output_type": "stream",
       "stream": "stdout",
       "text": [
        "Thread #1: \t153950000 read pairs finished. 2674 secs passed\r\n"
       ]
      },
      {
       "output_type": "stream",
       "stream": "stdout",
       "text": [
        "Thread #0: \t154000000 read pairs finished. 2675 secs passed\r\n"
       ]
      },
      {
       "output_type": "stream",
       "stream": "stdout",
       "text": [
        "Thread #2: \t154050000 read pairs finished. 2676 secs passed\r\n"
       ]
      },
      {
       "output_type": "stream",
       "stream": "stdout",
       "text": [
        "Thread #1: \t154100000 read pairs finished. 2677 secs passed\r\n"
       ]
      },
      {
       "output_type": "stream",
       "stream": "stdout",
       "text": [
        "Thread #0: \t154150000 read pairs finished. 2678 secs passed\r\n"
       ]
      },
      {
       "output_type": "stream",
       "stream": "stdout",
       "text": [
        "Thread #2: \t154200000 read pairs finished. 2678 secs passed\r\n"
       ]
      },
      {
       "output_type": "stream",
       "stream": "stdout",
       "text": [
        "Thread #1: \t154250000 read pairs finished. 2679 secs passed\r\n"
       ]
      },
      {
       "output_type": "stream",
       "stream": "stdout",
       "text": [
        "Thread #0: \t154300000 read pairs finished. 2680 secs passed\r\n"
       ]
      },
      {
       "output_type": "stream",
       "stream": "stdout",
       "text": [
        "Thread #2: \t154350000 read pairs finished. 2681 secs passed\r\n"
       ]
      },
      {
       "output_type": "stream",
       "stream": "stdout",
       "text": [
        "Thread #1: \t154400000 read pairs finished. 2682 secs passed\r\n"
       ]
      },
      {
       "output_type": "stream",
       "stream": "stdout",
       "text": [
        "Thread #0: \t154450000 read pairs finished. 2683 secs passed\r\n"
       ]
      },
      {
       "output_type": "stream",
       "stream": "stdout",
       "text": [
        "Thread #2: \t154500000 read pairs finished. 2684 secs passed\r\n"
       ]
      },
      {
       "output_type": "stream",
       "stream": "stdout",
       "text": [
        "Thread #1: \t154550000 read pairs finished. 2684 secs passed\r\n"
       ]
      },
      {
       "output_type": "stream",
       "stream": "stdout",
       "text": [
        "Thread #0: \t154600000 read pairs finished. 2685 secs passed\r\n"
       ]
      },
      {
       "output_type": "stream",
       "stream": "stdout",
       "text": [
        "Thread #2: \t154650000 read pairs finished. 2686 secs passed\r\n"
       ]
      },
      {
       "output_type": "stream",
       "stream": "stdout",
       "text": [
        "Thread #1: \t154700000 read pairs finished. 2687 secs passed\r\n"
       ]
      },
      {
       "output_type": "stream",
       "stream": "stdout",
       "text": [
        "Thread #0: \t154750000 read pairs finished. 2688 secs passed\r\n"
       ]
      },
      {
       "output_type": "stream",
       "stream": "stdout",
       "text": [
        "Thread #2: \t154800000 read pairs finished. 2689 secs passed\r\n"
       ]
      },
      {
       "output_type": "stream",
       "stream": "stdout",
       "text": [
        "Thread #1: \t154850000 read pairs finished. 2690 secs passed\r\n"
       ]
      },
      {
       "output_type": "stream",
       "stream": "stdout",
       "text": [
        "Thread #0: \t154900000 read pairs finished. 2691 secs passed\r\n"
       ]
      },
      {
       "output_type": "stream",
       "stream": "stdout",
       "text": [
        "Thread #2: \t154950000 read pairs finished. 2692 secs passed\r\n"
       ]
      },
      {
       "output_type": "stream",
       "stream": "stdout",
       "text": [
        "Thread #1: \t155000000 read pairs finished. 2693 secs passed\r\n"
       ]
      },
      {
       "output_type": "stream",
       "stream": "stdout",
       "text": [
        "Thread #0: \t155050000 read pairs finished. 2693 secs passed\r\n"
       ]
      },
      {
       "output_type": "stream",
       "stream": "stdout",
       "text": [
        "Thread #2: \t155100000 read pairs finished. 2694 secs passed\r\n"
       ]
      },
      {
       "output_type": "stream",
       "stream": "stdout",
       "text": [
        "Thread #1: \t155150000 read pairs finished. 2695 secs passed\r\n"
       ]
      },
      {
       "output_type": "stream",
       "stream": "stdout",
       "text": [
        "Thread #0: \t155200000 read pairs finished. 2696 secs passed\r\n"
       ]
      },
      {
       "output_type": "stream",
       "stream": "stdout",
       "text": [
        "Thread #2: \t155250000 read pairs finished. 2697 secs passed\r\n"
       ]
      },
      {
       "output_type": "stream",
       "stream": "stdout",
       "text": [
        "Thread #1: \t155300000 read pairs finished. 2698 secs passed\r\n"
       ]
      },
      {
       "output_type": "stream",
       "stream": "stdout",
       "text": [
        "Thread #0: \t155350000 read pairs finished. 2698 secs passed\r\n"
       ]
      },
      {
       "output_type": "stream",
       "stream": "stdout",
       "text": [
        "Thread #2: \t155400000 read pairs finished. 2699 secs passed\r\n"
       ]
      },
      {
       "output_type": "stream",
       "stream": "stdout",
       "text": [
        "Thread #1: \t155450000 read pairs finished. 2700 secs passed\r\n"
       ]
      },
      {
       "output_type": "stream",
       "stream": "stdout",
       "text": [
        "Thread #0: \t155500000 read pairs finished. 2701 secs passed\r\n"
       ]
      },
      {
       "output_type": "stream",
       "stream": "stdout",
       "text": [
        "Thread #2: \t155550000 read pairs finished. 2702 secs passed\r\n"
       ]
      },
      {
       "output_type": "stream",
       "stream": "stdout",
       "text": [
        "Thread #1: \t155600000 read pairs finished. 2703 secs passed\r\n"
       ]
      },
      {
       "output_type": "stream",
       "stream": "stdout",
       "text": [
        "Thread #0: \t155650000 read pairs finished. 2704 secs passed\r\n"
       ]
      },
      {
       "output_type": "stream",
       "stream": "stdout",
       "text": [
        "Thread #2: \t155700000 read pairs finished. 2705 secs passed\r\n"
       ]
      },
      {
       "output_type": "stream",
       "stream": "stdout",
       "text": [
        "Thread #1: \t155750000 read pairs finished. 2706 secs passed\r\n"
       ]
      },
      {
       "output_type": "stream",
       "stream": "stdout",
       "text": [
        "Thread #0: \t155800000 read pairs finished. 2707 secs passed\r\n"
       ]
      },
      {
       "output_type": "stream",
       "stream": "stdout",
       "text": [
        "Thread #2: \t155850000 read pairs finished. 2707 secs passed\r\n"
       ]
      },
      {
       "output_type": "stream",
       "stream": "stdout",
       "text": [
        "Thread #1: \t155900000 read pairs finished. 2708 secs passed\r\n"
       ]
      },
      {
       "output_type": "stream",
       "stream": "stdout",
       "text": [
        "Thread #0: \t155950000 read pairs finished. 2709 secs passed\r\n"
       ]
      },
      {
       "output_type": "stream",
       "stream": "stdout",
       "text": [
        "Thread #2: \t156000000 read pairs finished. 2710 secs passed\r\n"
       ]
      },
      {
       "output_type": "stream",
       "stream": "stdout",
       "text": [
        "Thread #1: \t156050000 read pairs finished. 2711 secs passed\r\n"
       ]
      },
      {
       "output_type": "stream",
       "stream": "stdout",
       "text": [
        "Thread #0: \t156100000 read pairs finished. 2712 secs passed\r\n"
       ]
      },
      {
       "output_type": "stream",
       "stream": "stdout",
       "text": [
        "Thread #2: \t156150000 read pairs finished. 2712 secs passed\r\n"
       ]
      },
      {
       "output_type": "stream",
       "stream": "stdout",
       "text": [
        "Thread #1: \t156200000 read pairs finished. 2713 secs passed\r\n"
       ]
      },
      {
       "output_type": "stream",
       "stream": "stdout",
       "text": [
        "Thread #0: \t156250000 read pairs finished. 2714 secs passed\r\n"
       ]
      },
      {
       "output_type": "stream",
       "stream": "stdout",
       "text": [
        "Thread #2: \t156300000 read pairs finished. 2715 secs passed\r\n"
       ]
      },
      {
       "output_type": "stream",
       "stream": "stdout",
       "text": [
        "Thread #1: \t156350000 read pairs finished. 2715 secs passed\r\n"
       ]
      },
      {
       "output_type": "stream",
       "stream": "stdout",
       "text": [
        "Thread #0: \t156400000 read pairs finished. 2716 secs passed\r\n"
       ]
      },
      {
       "output_type": "stream",
       "stream": "stdout",
       "text": [
        "Thread #2: \t156450000 read pairs finished. 2717 secs passed\r\n"
       ]
      },
      {
       "output_type": "stream",
       "stream": "stdout",
       "text": [
        "Thread #1: \t156500000 read pairs finished. 2718 secs passed\r\n"
       ]
      },
      {
       "output_type": "stream",
       "stream": "stdout",
       "text": [
        "Thread #0: \t156550000 read pairs finished. 2719 secs passed\r\n"
       ]
      },
      {
       "output_type": "stream",
       "stream": "stdout",
       "text": [
        "Thread #2: \t156600000 read pairs finished. 2720 secs passed\r\n"
       ]
      },
      {
       "output_type": "stream",
       "stream": "stdout",
       "text": [
        "Thread #1: \t156650000 read pairs finished. 2721 secs passed\r\n"
       ]
      },
      {
       "output_type": "stream",
       "stream": "stdout",
       "text": [
        "Thread #0: \t156700000 read pairs finished. 2721 secs passed\r\n"
       ]
      },
      {
       "output_type": "stream",
       "stream": "stdout",
       "text": [
        "Thread #2: \t156750000 read pairs finished. 2722 secs passed\r\n"
       ]
      },
      {
       "output_type": "stream",
       "stream": "stdout",
       "text": [
        "Thread #1: \t156800000 read pairs finished. 2723 secs passed\r\n"
       ]
      },
      {
       "output_type": "stream",
       "stream": "stdout",
       "text": [
        "Thread #0: \t156850000 read pairs finished. 2724 secs passed\r\n"
       ]
      },
      {
       "output_type": "stream",
       "stream": "stdout",
       "text": [
        "Thread #2: \t156900000 read pairs finished. 2725 secs passed\r\n"
       ]
      },
      {
       "output_type": "stream",
       "stream": "stdout",
       "text": [
        "Thread #1: \t156950000 read pairs finished. 2726 secs passed\r\n"
       ]
      },
      {
       "output_type": "stream",
       "stream": "stdout",
       "text": [
        "Thread #0: \t157000000 read pairs finished. 2727 secs passed\r\n"
       ]
      },
      {
       "output_type": "stream",
       "stream": "stdout",
       "text": [
        "Thread #2: \t157050000 read pairs finished. 2728 secs passed\r\n"
       ]
      },
      {
       "output_type": "stream",
       "stream": "stdout",
       "text": [
        "Thread #1: \t157100000 read pairs finished. 2729 secs passed\r\n"
       ]
      },
      {
       "output_type": "stream",
       "stream": "stdout",
       "text": [
        "Thread #0: \t157150000 read pairs finished. 2730 secs passed\r\n"
       ]
      },
      {
       "output_type": "stream",
       "stream": "stdout",
       "text": [
        "Thread #2: \t157200000 read pairs finished. 2731 secs passed\r\n"
       ]
      },
      {
       "output_type": "stream",
       "stream": "stdout",
       "text": [
        "Thread #1: \t157250000 read pairs finished. 2732 secs passed\r\n"
       ]
      },
      {
       "output_type": "stream",
       "stream": "stdout",
       "text": [
        "Thread #0: \t157300000 read pairs finished. 2733 secs passed\r\n"
       ]
      },
      {
       "output_type": "stream",
       "stream": "stdout",
       "text": [
        "Thread #2: \t157350000 read pairs finished. 2733 secs passed\r\n"
       ]
      },
      {
       "output_type": "stream",
       "stream": "stdout",
       "text": [
        "Thread #1: \t157400000 read pairs finished. 2734 secs passed\r\n"
       ]
      },
      {
       "output_type": "stream",
       "stream": "stdout",
       "text": [
        "Thread #0: \t157450000 read pairs finished. 2735 secs passed\r\n"
       ]
      },
      {
       "output_type": "stream",
       "stream": "stdout",
       "text": [
        "Thread #2: \t157500000 read pairs finished. 2736 secs passed\r\n"
       ]
      },
      {
       "output_type": "stream",
       "stream": "stdout",
       "text": [
        "Thread #1: \t157550000 read pairs finished. 2737 secs passed\r\n"
       ]
      },
      {
       "output_type": "stream",
       "stream": "stdout",
       "text": [
        "Thread #0: \t157600000 read pairs finished. 2737 secs passed\r\n"
       ]
      },
      {
       "output_type": "stream",
       "stream": "stdout",
       "text": [
        "Thread #2: \t157650000 read pairs finished. 2738 secs passed\r\n"
       ]
      },
      {
       "output_type": "stream",
       "stream": "stdout",
       "text": [
        "Thread #1: \t157700000 read pairs finished. 2739 secs passed\r\n"
       ]
      },
      {
       "output_type": "stream",
       "stream": "stdout",
       "text": [
        "Thread #0: \t157750000 read pairs finished. 2740 secs passed\r\n"
       ]
      },
      {
       "output_type": "stream",
       "stream": "stdout",
       "text": [
        "Thread #2: \t157800000 read pairs finished. 2741 secs passed\r\n"
       ]
      },
      {
       "output_type": "stream",
       "stream": "stdout",
       "text": [
        "Thread #1: \t157850000 read pairs finished. 2741 secs passed\r\n"
       ]
      },
      {
       "output_type": "stream",
       "stream": "stdout",
       "text": [
        "Thread #0: \t157900000 read pairs finished. 2742 secs passed\r\n"
       ]
      },
      {
       "output_type": "stream",
       "stream": "stdout",
       "text": [
        "Thread #2: \t157950000 read pairs finished. 2743 secs passed\r\n"
       ]
      },
      {
       "output_type": "stream",
       "stream": "stdout",
       "text": [
        "Thread #1: \t158000000 read pairs finished. 2744 secs passed\r\n"
       ]
      },
      {
       "output_type": "stream",
       "stream": "stdout",
       "text": [
        "Thread #0: \t158050000 read pairs finished. 2745 secs passed\r\n"
       ]
      },
      {
       "output_type": "stream",
       "stream": "stdout",
       "text": [
        "Thread #2: \t158100000 read pairs finished. 2746 secs passed\r\n"
       ]
      },
      {
       "output_type": "stream",
       "stream": "stdout",
       "text": [
        "Thread #1: \t158150000 read pairs finished. 2747 secs passed\r\n"
       ]
      },
      {
       "output_type": "stream",
       "stream": "stdout",
       "text": [
        "Thread #0: \t158200000 read pairs finished. 2747 secs passed\r\n"
       ]
      },
      {
       "output_type": "stream",
       "stream": "stdout",
       "text": [
        "Thread #2: \t158250000 read pairs finished. 2748 secs passed\r\n"
       ]
      },
      {
       "output_type": "stream",
       "stream": "stdout",
       "text": [
        "Thread #1: \t158300000 read pairs finished. 2749 secs passed\r\n"
       ]
      },
      {
       "output_type": "stream",
       "stream": "stdout",
       "text": [
        "Thread #0: \t158350000 read pairs finished. 2750 secs passed\r\n"
       ]
      },
      {
       "output_type": "stream",
       "stream": "stdout",
       "text": [
        "Thread #2: \t158400000 read pairs finished. 2751 secs passed\r\n"
       ]
      },
      {
       "output_type": "stream",
       "stream": "stdout",
       "text": [
        "Thread #1: \t158450000 read pairs finished. 2752 secs passed\r\n"
       ]
      },
      {
       "output_type": "stream",
       "stream": "stdout",
       "text": [
        "Thread #0: \t158500000 read pairs finished. 2752 secs passed\r\n"
       ]
      },
      {
       "output_type": "stream",
       "stream": "stdout",
       "text": [
        "Thread #2: \t158550000 read pairs finished. 2753 secs passed\r\n"
       ]
      },
      {
       "output_type": "stream",
       "stream": "stdout",
       "text": [
        "Thread #1: \t158600000 read pairs finished. 2754 secs passed\r\n"
       ]
      },
      {
       "output_type": "stream",
       "stream": "stdout",
       "text": [
        "Thread #0: \t158650000 read pairs finished. 2755 secs passed\r\n"
       ]
      },
      {
       "output_type": "stream",
       "stream": "stdout",
       "text": [
        "Thread #2: \t158700000 read pairs finished. 2756 secs passed\r\n"
       ]
      },
      {
       "output_type": "stream",
       "stream": "stdout",
       "text": [
        "Thread #1: \t158750000 read pairs finished. 2757 secs passed\r\n"
       ]
      },
      {
       "output_type": "stream",
       "stream": "stdout",
       "text": [
        "Thread #0: \t158800000 read pairs finished. 2757 secs passed\r\n"
       ]
      },
      {
       "output_type": "stream",
       "stream": "stdout",
       "text": [
        "Thread #2: \t158850000 read pairs finished. 2758 secs passed\r\n"
       ]
      },
      {
       "output_type": "stream",
       "stream": "stdout",
       "text": [
        "Thread #1: \t158900000 read pairs finished. 2759 secs passed\r\n"
       ]
      },
      {
       "output_type": "stream",
       "stream": "stdout",
       "text": [
        "Thread #0: \t158950000 read pairs finished. 2760 secs passed\r\n"
       ]
      },
      {
       "output_type": "stream",
       "stream": "stdout",
       "text": [
        "Thread #2: \t159000000 read pairs finished. 2761 secs passed\r\n"
       ]
      },
      {
       "output_type": "stream",
       "stream": "stdout",
       "text": [
        "Thread #1: \t159050000 read pairs finished. 2762 secs passed\r\n"
       ]
      },
      {
       "output_type": "stream",
       "stream": "stdout",
       "text": [
        "Thread #0: \t159100000 read pairs finished. 2762 secs passed\r\n"
       ]
      },
      {
       "output_type": "stream",
       "stream": "stdout",
       "text": [
        "Thread #2: \t159150000 read pairs finished. 2763 secs passed\r\n"
       ]
      },
      {
       "output_type": "stream",
       "stream": "stdout",
       "text": [
        "Thread #1: \t159200000 read pairs finished. 2764 secs passed\r\n"
       ]
      },
      {
       "output_type": "stream",
       "stream": "stdout",
       "text": [
        "Thread #0: \t159250000 read pairs finished. 2765 secs passed\r\n"
       ]
      },
      {
       "output_type": "stream",
       "stream": "stdout",
       "text": [
        "Thread #2: \t159300000 read pairs finished. 2766 secs passed\r\n"
       ]
      },
      {
       "output_type": "stream",
       "stream": "stdout",
       "text": [
        "Thread #1: \t159350000 read pairs finished. 2766 secs passed\r\n"
       ]
      },
      {
       "output_type": "stream",
       "stream": "stdout",
       "text": [
        "Thread #0: \t159400000 read pairs finished. 2767 secs passed\r\n"
       ]
      },
      {
       "output_type": "stream",
       "stream": "stdout",
       "text": [
        "Thread #2: \t159450000 read pairs finished. 2768 secs passed\r\n"
       ]
      },
      {
       "output_type": "stream",
       "stream": "stdout",
       "text": [
        "Thread #1: \t159500000 read pairs finished. 2769 secs passed\r\n"
       ]
      },
      {
       "output_type": "stream",
       "stream": "stdout",
       "text": [
        "Thread #0: \t159550000 read pairs finished. 2770 secs passed\r\n"
       ]
      },
      {
       "output_type": "stream",
       "stream": "stdout",
       "text": [
        "Thread #2: \t159600000 read pairs finished. 2771 secs passed\r\n"
       ]
      },
      {
       "output_type": "stream",
       "stream": "stdout",
       "text": [
        "Thread #1: \t159650000 read pairs finished. 2771 secs passed\r\n"
       ]
      },
      {
       "output_type": "stream",
       "stream": "stdout",
       "text": [
        "Thread #0: \t159700000 read pairs finished. 2772 secs passed\r\n"
       ]
      },
      {
       "output_type": "stream",
       "stream": "stdout",
       "text": [
        "Thread #2: \t159750000 read pairs finished. 2773 secs passed\r\n"
       ]
      },
      {
       "output_type": "stream",
       "stream": "stdout",
       "text": [
        "Thread #1: \t159800000 read pairs finished. 2774 secs passed\r\n"
       ]
      },
      {
       "output_type": "stream",
       "stream": "stdout",
       "text": [
        "Thread #0: \t159850000 read pairs finished. 2775 secs passed\r\n"
       ]
      },
      {
       "output_type": "stream",
       "stream": "stdout",
       "text": [
        "Thread #2: \t159900000 read pairs finished. 2776 secs passed\r\n"
       ]
      },
      {
       "output_type": "stream",
       "stream": "stdout",
       "text": [
        "Thread #1: \t159950000 read pairs finished. 2776 secs passed\r\n"
       ]
      },
      {
       "output_type": "stream",
       "stream": "stdout",
       "text": [
        "Thread #0: \t160000000 read pairs finished. 2777 secs passed\r\n"
       ]
      },
      {
       "output_type": "stream",
       "stream": "stdout",
       "text": [
        "Thread #2: \t160050000 read pairs finished. 2778 secs passed\r\n"
       ]
      },
      {
       "output_type": "stream",
       "stream": "stdout",
       "text": [
        "Thread #1: \t160100000 read pairs finished. 2779 secs passed\r\n"
       ]
      },
      {
       "output_type": "stream",
       "stream": "stdout",
       "text": [
        "Thread #0: \t160150000 read pairs finished. 2780 secs passed\r\n"
       ]
      },
      {
       "output_type": "stream",
       "stream": "stdout",
       "text": [
        "Thread #2: \t160200000 read pairs finished. 2781 secs passed\r\n"
       ]
      },
      {
       "output_type": "stream",
       "stream": "stdout",
       "text": [
        "Thread #1: \t160250000 read pairs finished. 2781 secs passed\r\n"
       ]
      },
      {
       "output_type": "stream",
       "stream": "stdout",
       "text": [
        "Thread #0: \t160300000 read pairs finished. 2782 secs passed\r\n"
       ]
      },
      {
       "output_type": "stream",
       "stream": "stdout",
       "text": [
        "Thread #2: \t160350000 read pairs finished. 2783 secs passed\r\n"
       ]
      },
      {
       "output_type": "stream",
       "stream": "stdout",
       "text": [
        "Thread #1: \t160400000 read pairs finished. 2784 secs passed\r\n"
       ]
      },
      {
       "output_type": "stream",
       "stream": "stdout",
       "text": [
        "Thread #0: \t160450000 read pairs finished. 2785 secs passed\r\n"
       ]
      },
      {
       "output_type": "stream",
       "stream": "stdout",
       "text": [
        "Thread #2: \t160500000 read pairs finished. 2785 secs passed\r\n"
       ]
      },
      {
       "output_type": "stream",
       "stream": "stdout",
       "text": [
        "Thread #1: \t160550000 read pairs finished. 2786 secs passed\r\n"
       ]
      },
      {
       "output_type": "stream",
       "stream": "stdout",
       "text": [
        "Thread #0: \t160600000 read pairs finished. 2787 secs passed\r\n"
       ]
      },
      {
       "output_type": "stream",
       "stream": "stdout",
       "text": [
        "Thread #2: \t160650000 read pairs finished. 2788 secs passed\r\n"
       ]
      },
      {
       "output_type": "stream",
       "stream": "stdout",
       "text": [
        "Thread #1: \t160700000 read pairs finished. 2789 secs passed\r\n"
       ]
      },
      {
       "output_type": "stream",
       "stream": "stdout",
       "text": [
        "Thread #0: \t160750000 read pairs finished. 2789 secs passed\r\n"
       ]
      },
      {
       "output_type": "stream",
       "stream": "stdout",
       "text": [
        "Thread #2: \t160800000 read pairs finished. 2790 secs passed\r\n"
       ]
      },
      {
       "output_type": "stream",
       "stream": "stdout",
       "text": [
        "Thread #1: \t160850000 read pairs finished. 2791 secs passed\r\n"
       ]
      },
      {
       "output_type": "stream",
       "stream": "stdout",
       "text": [
        "Thread #0: \t160900000 read pairs finished. 2792 secs passed\r\n"
       ]
      },
      {
       "output_type": "stream",
       "stream": "stdout",
       "text": [
        "Thread #2: \t160950000 read pairs finished. 2793 secs passed\r\n"
       ]
      },
      {
       "output_type": "stream",
       "stream": "stdout",
       "text": [
        "Thread #1: \t161000000 read pairs finished. 2793 secs passed\r\n"
       ]
      },
      {
       "output_type": "stream",
       "stream": "stdout",
       "text": [
        "Thread #0: \t161050000 read pairs finished. 2794 secs passed\r\n"
       ]
      },
      {
       "output_type": "stream",
       "stream": "stdout",
       "text": [
        "Thread #2: \t161100000 read pairs finished. 2795 secs passed\r\n"
       ]
      },
      {
       "output_type": "stream",
       "stream": "stdout",
       "text": [
        "Thread #1: \t161150000 read pairs finished. 2796 secs passed\r\n"
       ]
      },
      {
       "output_type": "stream",
       "stream": "stdout",
       "text": [
        "Thread #0: \t161200000 read pairs finished. 2797 secs passed\r\n"
       ]
      },
      {
       "output_type": "stream",
       "stream": "stdout",
       "text": [
        "Thread #2: \t161250000 read pairs finished. 2797 secs passed\r\n"
       ]
      },
      {
       "output_type": "stream",
       "stream": "stdout",
       "text": [
        "Thread #1: \t161300000 read pairs finished. 2798 secs passed\r\n"
       ]
      },
      {
       "output_type": "stream",
       "stream": "stdout",
       "text": [
        "Thread #0: \t161350000 read pairs finished. 2799 secs passed\r\n"
       ]
      },
      {
       "output_type": "stream",
       "stream": "stdout",
       "text": [
        "Thread #2: \t161400000 read pairs finished. 2800 secs passed\r\n"
       ]
      },
      {
       "output_type": "stream",
       "stream": "stdout",
       "text": [
        "Thread #1: \t161450000 read pairs finished. 2801 secs passed\r\n"
       ]
      },
      {
       "output_type": "stream",
       "stream": "stdout",
       "text": [
        "Thread #0: \t161500000 read pairs finished. 2802 secs passed\r\n"
       ]
      },
      {
       "output_type": "stream",
       "stream": "stdout",
       "text": [
        "Thread #2: \t161550000 read pairs finished. 2802 secs passed\r\n"
       ]
      },
      {
       "output_type": "stream",
       "stream": "stdout",
       "text": [
        "Thread #1: \t161600000 read pairs finished. 2803 secs passed\r\n"
       ]
      },
      {
       "output_type": "stream",
       "stream": "stdout",
       "text": [
        "Thread #0: \t161650000 read pairs finished. 2804 secs passed\r\n"
       ]
      },
      {
       "output_type": "stream",
       "stream": "stdout",
       "text": [
        "Thread #2: \t161700000 read pairs finished. 2805 secs passed\r\n"
       ]
      },
      {
       "output_type": "stream",
       "stream": "stdout",
       "text": [
        "Thread #1: \t161750000 read pairs finished. 2806 secs passed\r\n"
       ]
      },
      {
       "output_type": "stream",
       "stream": "stdout",
       "text": [
        "Thread #0: \t161800000 read pairs finished. 2807 secs passed\r\n"
       ]
      },
      {
       "output_type": "stream",
       "stream": "stdout",
       "text": [
        "Thread #2: \t161850000 read pairs finished. 2807 secs passed\r\n"
       ]
      },
      {
       "output_type": "stream",
       "stream": "stdout",
       "text": [
        "Thread #1: \t161900000 read pairs finished. 2808 secs passed\r\n"
       ]
      },
      {
       "output_type": "stream",
       "stream": "stdout",
       "text": [
        "Thread #0: \t161950000 read pairs finished. 2809 secs passed\r\n"
       ]
      },
      {
       "output_type": "stream",
       "stream": "stdout",
       "text": [
        "Thread #2: \t162000000 read pairs finished. 2810 secs passed\r\n"
       ]
      },
      {
       "output_type": "stream",
       "stream": "stdout",
       "text": [
        "Thread #1: \t162050000 read pairs finished. 2811 secs passed\r\n"
       ]
      },
      {
       "output_type": "stream",
       "stream": "stdout",
       "text": [
        "Thread #0: \t162100000 read pairs finished. 2812 secs passed\r\n"
       ]
      },
      {
       "output_type": "stream",
       "stream": "stdout",
       "text": [
        "Thread #2: \t162150000 read pairs finished. 2813 secs passed\r\n"
       ]
      },
      {
       "output_type": "stream",
       "stream": "stdout",
       "text": [
        "Thread #1: \t162200000 read pairs finished. 2813 secs passed\r\n"
       ]
      },
      {
       "output_type": "stream",
       "stream": "stdout",
       "text": [
        "Thread #0: \t162250000 read pairs finished. 2814 secs passed\r\n"
       ]
      },
      {
       "output_type": "stream",
       "stream": "stdout",
       "text": [
        "Thread #2: \t162300000 read pairs finished. 2815 secs passed\r\n"
       ]
      },
      {
       "output_type": "stream",
       "stream": "stdout",
       "text": [
        "Thread #1: \t162350000 read pairs finished. 2816 secs passed\r\n"
       ]
      },
      {
       "output_type": "stream",
       "stream": "stdout",
       "text": [
        "Thread #0: \t162400000 read pairs finished. 2817 secs passed\r\n"
       ]
      },
      {
       "output_type": "stream",
       "stream": "stdout",
       "text": [
        "Thread #2: \t162450000 read pairs finished. 2818 secs passed\r\n"
       ]
      },
      {
       "output_type": "stream",
       "stream": "stdout",
       "text": [
        "Thread #1: \t162500000 read pairs finished. 2818 secs passed\r\n"
       ]
      },
      {
       "output_type": "stream",
       "stream": "stdout",
       "text": [
        "Thread #0: \t162550000 read pairs finished. 2819 secs passed\r\n"
       ]
      },
      {
       "output_type": "stream",
       "stream": "stdout",
       "text": [
        "Thread #2: \t162600000 read pairs finished. 2820 secs passed\r\n"
       ]
      },
      {
       "output_type": "stream",
       "stream": "stdout",
       "text": [
        "Thread #1: \t162650000 read pairs finished. 2821 secs passed\r\n"
       ]
      },
      {
       "output_type": "stream",
       "stream": "stdout",
       "text": [
        "Thread #0: \t162700000 read pairs finished. 2822 secs passed\r\n"
       ]
      },
      {
       "output_type": "stream",
       "stream": "stdout",
       "text": [
        "Thread #2: \t162750000 read pairs finished. 2822 secs passed\r\n"
       ]
      },
      {
       "output_type": "stream",
       "stream": "stdout",
       "text": [
        "Thread #1: \t162800000 read pairs finished. 2823 secs passed\r\n"
       ]
      },
      {
       "output_type": "stream",
       "stream": "stdout",
       "text": [
        "Thread #0: \t162850000 read pairs finished. 2824 secs passed\r\n"
       ]
      },
      {
       "output_type": "stream",
       "stream": "stdout",
       "text": [
        "Thread #2: \t162900000 read pairs finished. 2825 secs passed\r\n"
       ]
      },
      {
       "output_type": "stream",
       "stream": "stdout",
       "text": [
        "Thread #1: \t162950000 read pairs finished. 2826 secs passed\r\n"
       ]
      },
      {
       "output_type": "stream",
       "stream": "stdout",
       "text": [
        "Thread #0: \t163000000 read pairs finished. 2826 secs passed\r\n"
       ]
      },
      {
       "output_type": "stream",
       "stream": "stdout",
       "text": [
        "Thread #2: \t163050000 read pairs finished. 2827 secs passed\r\n"
       ]
      },
      {
       "output_type": "stream",
       "stream": "stdout",
       "text": [
        "Thread #1: \t163100000 read pairs finished. 2828 secs passed\r\n"
       ]
      },
      {
       "output_type": "stream",
       "stream": "stdout",
       "text": [
        "Thread #0: \t163150000 read pairs finished. 2829 secs passed\r\n"
       ]
      },
      {
       "output_type": "stream",
       "stream": "stdout",
       "text": [
        "Thread #2: \t163200000 read pairs finished. 2830 secs passed\r\n"
       ]
      },
      {
       "output_type": "stream",
       "stream": "stdout",
       "text": [
        "Thread #1: \t163250000 read pairs finished. 2830 secs passed\r\n"
       ]
      },
      {
       "output_type": "stream",
       "stream": "stdout",
       "text": [
        "Thread #0: \t163300000 read pairs finished. 2831 secs passed\r\n"
       ]
      },
      {
       "output_type": "stream",
       "stream": "stdout",
       "text": [
        "Thread #2: \t163350000 read pairs finished. 2832 secs passed\r\n"
       ]
      },
      {
       "output_type": "stream",
       "stream": "stdout",
       "text": [
        "Thread #1: \t163400000 read pairs finished. 2833 secs passed\r\n"
       ]
      },
      {
       "output_type": "stream",
       "stream": "stdout",
       "text": [
        "Thread #0: \t163450000 read pairs finished. 2834 secs passed\r\n"
       ]
      },
      {
       "output_type": "stream",
       "stream": "stdout",
       "text": [
        "Thread #2: \t163500000 read pairs finished. 2834 secs passed\r\n"
       ]
      },
      {
       "output_type": "stream",
       "stream": "stdout",
       "text": [
        "Thread #1: \t163550000 read pairs finished. 2835 secs passed\r\n"
       ]
      },
      {
       "output_type": "stream",
       "stream": "stdout",
       "text": [
        "Thread #0: \t163600000 read pairs finished. 2836 secs passed\r\n"
       ]
      },
      {
       "output_type": "stream",
       "stream": "stdout",
       "text": [
        "Thread #2: \t163650000 read pairs finished. 2837 secs passed\r\n"
       ]
      },
      {
       "output_type": "stream",
       "stream": "stdout",
       "text": [
        "Thread #1: \t163700000 read pairs finished. 2838 secs passed\r\n"
       ]
      },
      {
       "output_type": "stream",
       "stream": "stdout",
       "text": [
        "Thread #0: \t163750000 read pairs finished. 2839 secs passed\r\n"
       ]
      },
      {
       "output_type": "stream",
       "stream": "stdout",
       "text": [
        "Thread #2: \t163800000 read pairs finished. 2840 secs passed\r\n"
       ]
      },
      {
       "output_type": "stream",
       "stream": "stdout",
       "text": [
        "Thread #1: \t163850000 read pairs finished. 2840 secs passed\r\n"
       ]
      },
      {
       "output_type": "stream",
       "stream": "stdout",
       "text": [
        "Thread #0: \t163900000 read pairs finished. 2841 secs passed\r\n"
       ]
      },
      {
       "output_type": "stream",
       "stream": "stdout",
       "text": [
        "Thread #2: \t163950000 read pairs finished. 2842 secs passed\r\n"
       ]
      },
      {
       "output_type": "stream",
       "stream": "stdout",
       "text": [
        "Thread #1: \t164000000 read pairs finished. 2843 secs passed\r\n"
       ]
      },
      {
       "output_type": "stream",
       "stream": "stdout",
       "text": [
        "Thread #0: \t164050000 read pairs finished. 2844 secs passed\r\n"
       ]
      },
      {
       "output_type": "stream",
       "stream": "stdout",
       "text": [
        "Thread #2: \t164100000 read pairs finished. 2844 secs passed\r\n"
       ]
      },
      {
       "output_type": "stream",
       "stream": "stdout",
       "text": [
        "Thread #1: \t164150000 read pairs finished. 2845 secs passed\r\n"
       ]
      },
      {
       "output_type": "stream",
       "stream": "stdout",
       "text": [
        "Thread #0: \t164200000 read pairs finished. 2846 secs passed\r\n"
       ]
      },
      {
       "output_type": "stream",
       "stream": "stdout",
       "text": [
        "Thread #2: \t164250000 read pairs finished. 2847 secs passed\r\n"
       ]
      },
      {
       "output_type": "stream",
       "stream": "stdout",
       "text": [
        "Thread #1: \t164300000 read pairs finished. 2848 secs passed\r\n"
       ]
      },
      {
       "output_type": "stream",
       "stream": "stdout",
       "text": [
        "Thread #0: \t164350000 read pairs finished. 2849 secs passed\r\n"
       ]
      },
      {
       "output_type": "stream",
       "stream": "stdout",
       "text": [
        "Thread #2: \t164400000 read pairs finished. 2850 secs passed\r\n"
       ]
      },
      {
       "output_type": "stream",
       "stream": "stdout",
       "text": [
        "Thread #1: \t164450000 read pairs finished. 2851 secs passed\r\n"
       ]
      },
      {
       "output_type": "stream",
       "stream": "stdout",
       "text": [
        "Thread #0: \t164500000 read pairs finished. 2851 secs passed\r\n"
       ]
      },
      {
       "output_type": "stream",
       "stream": "stdout",
       "text": [
        "Thread #2: \t164550000 read pairs finished. 2852 secs passed\r\n"
       ]
      },
      {
       "output_type": "stream",
       "stream": "stdout",
       "text": [
        "Thread #1: \t164600000 read pairs finished. 2853 secs passed\r\n"
       ]
      },
      {
       "output_type": "stream",
       "stream": "stdout",
       "text": [
        "Thread #0: \t164650000 read pairs finished. 2854 secs passed\r\n"
       ]
      },
      {
       "output_type": "stream",
       "stream": "stdout",
       "text": [
        "Thread #2: \t164700000 read pairs finished. 2855 secs passed\r\n"
       ]
      },
      {
       "output_type": "stream",
       "stream": "stdout",
       "text": [
        "Thread #1: \t164750000 read pairs finished. 2856 secs passed\r\n"
       ]
      },
      {
       "output_type": "stream",
       "stream": "stdout",
       "text": [
        "Thread #0: \t164800000 read pairs finished. 2857 secs passed\r\n"
       ]
      },
      {
       "output_type": "stream",
       "stream": "stdout",
       "text": [
        "Thread #2: \t164850000 read pairs finished. 2858 secs passed\r\n"
       ]
      },
      {
       "output_type": "stream",
       "stream": "stdout",
       "text": [
        "Thread #1: \t164900000 read pairs finished. 2858 secs passed\r\n"
       ]
      },
      {
       "output_type": "stream",
       "stream": "stdout",
       "text": [
        "Thread #0: \t164950000 read pairs finished. 2859 secs passed\r\n"
       ]
      },
      {
       "output_type": "stream",
       "stream": "stdout",
       "text": [
        "Thread #2: \t165000000 read pairs finished. 2860 secs passed\r\n"
       ]
      },
      {
       "output_type": "stream",
       "stream": "stdout",
       "text": [
        "Thread #1: \t165050000 read pairs finished. 2861 secs passed\r\n"
       ]
      },
      {
       "output_type": "stream",
       "stream": "stdout",
       "text": [
        "Thread #0: \t165100000 read pairs finished. 2862 secs passed\r\n"
       ]
      },
      {
       "output_type": "stream",
       "stream": "stdout",
       "text": [
        "Thread #2: \t165150000 read pairs finished. 2863 secs passed\r\n"
       ]
      },
      {
       "output_type": "stream",
       "stream": "stdout",
       "text": [
        "Thread #1: \t165200000 read pairs finished. 2864 secs passed\r\n"
       ]
      },
      {
       "output_type": "stream",
       "stream": "stdout",
       "text": [
        "Thread #0: \t165250000 read pairs finished. 2865 secs passed\r\n"
       ]
      },
      {
       "output_type": "stream",
       "stream": "stdout",
       "text": [
        "Thread #2: \t165300000 read pairs finished. 2865 secs passed\r\n"
       ]
      },
      {
       "output_type": "stream",
       "stream": "stdout",
       "text": [
        "Thread #1: \t165350000 read pairs finished. 2866 secs passed\r\n"
       ]
      },
      {
       "output_type": "stream",
       "stream": "stdout",
       "text": [
        "Thread #0: \t165400000 read pairs finished. 2867 secs passed\r\n"
       ]
      },
      {
       "output_type": "stream",
       "stream": "stdout",
       "text": [
        "Thread #2: \t165450000 read pairs finished. 2868 secs passed\r\n"
       ]
      },
      {
       "output_type": "stream",
       "stream": "stdout",
       "text": [
        "Thread #1: \t165500000 read pairs finished. 2869 secs passed\r\n"
       ]
      },
      {
       "output_type": "stream",
       "stream": "stdout",
       "text": [
        "Thread #0: \t165550000 read pairs finished. 2870 secs passed\r\n"
       ]
      },
      {
       "output_type": "stream",
       "stream": "stdout",
       "text": [
        "Thread #2: \t165600000 read pairs finished. 2871 secs passed\r\n"
       ]
      },
      {
       "output_type": "stream",
       "stream": "stdout",
       "text": [
        "Thread #1: \t165650000 read pairs finished. 2871 secs passed\r\n"
       ]
      },
      {
       "output_type": "stream",
       "stream": "stdout",
       "text": [
        "Thread #0: \t165700000 read pairs finished. 2872 secs passed\r\n"
       ]
      },
      {
       "output_type": "stream",
       "stream": "stdout",
       "text": [
        "Thread #2: \t165750000 read pairs finished. 2873 secs passed\r\n"
       ]
      },
      {
       "output_type": "stream",
       "stream": "stdout",
       "text": [
        "Thread #1: \t165800000 read pairs finished. 2874 secs passed\r\n"
       ]
      },
      {
       "output_type": "stream",
       "stream": "stdout",
       "text": [
        "Thread #0: \t165850000 read pairs finished. 2875 secs passed\r\n"
       ]
      },
      {
       "output_type": "stream",
       "stream": "stdout",
       "text": [
        "Thread #2: \t165900000 read pairs finished. 2876 secs passed\r\n"
       ]
      },
      {
       "output_type": "stream",
       "stream": "stdout",
       "text": [
        "Thread #1: \t165950000 read pairs finished. 2877 secs passed\r\n"
       ]
      },
      {
       "output_type": "stream",
       "stream": "stdout",
       "text": [
        "Thread #0: \t166000000 read pairs finished. 2877 secs passed\r\n"
       ]
      },
      {
       "output_type": "stream",
       "stream": "stdout",
       "text": [
        "Thread #2: \t166050000 read pairs finished. 2878 secs passed\r\n"
       ]
      },
      {
       "output_type": "stream",
       "stream": "stdout",
       "text": [
        "Thread #1: \t166100000 read pairs finished. 2879 secs passed\r\n"
       ]
      },
      {
       "output_type": "stream",
       "stream": "stdout",
       "text": [
        "Thread #0: \t166150000 read pairs finished. 2880 secs passed\r\n"
       ]
      },
      {
       "output_type": "stream",
       "stream": "stdout",
       "text": [
        "Thread #2: \t166200000 read pairs finished. 2881 secs passed\r\n"
       ]
      },
      {
       "output_type": "stream",
       "stream": "stdout",
       "text": [
        "Thread #1: \t166250000 read pairs finished. 2881 secs passed\r\n"
       ]
      },
      {
       "output_type": "stream",
       "stream": "stdout",
       "text": [
        "Thread #0: \t166300000 read pairs finished. 2882 secs passed\r\n"
       ]
      },
      {
       "output_type": "stream",
       "stream": "stdout",
       "text": [
        "Thread #2: \t166350000 read pairs finished. 2883 secs passed\r\n"
       ]
      },
      {
       "output_type": "stream",
       "stream": "stdout",
       "text": [
        "Thread #1: \t166400000 read pairs finished. 2884 secs passed\r\n"
       ]
      },
      {
       "output_type": "stream",
       "stream": "stdout",
       "text": [
        "Thread #0: \t166450000 read pairs finished. 2885 secs passed\r\n"
       ]
      },
      {
       "output_type": "stream",
       "stream": "stdout",
       "text": [
        "Thread #2: \t166500000 read pairs finished. 2886 secs passed\r\n"
       ]
      },
      {
       "output_type": "stream",
       "stream": "stdout",
       "text": [
        "Thread #1: \t166550000 read pairs finished. 2886 secs passed\r\n"
       ]
      },
      {
       "output_type": "stream",
       "stream": "stdout",
       "text": [
        "Thread #0: \t166600000 read pairs finished. 2887 secs passed\r\n"
       ]
      },
      {
       "output_type": "stream",
       "stream": "stdout",
       "text": [
        "Thread #2: \t166650000 read pairs finished. 2888 secs passed\r\n"
       ]
      },
      {
       "output_type": "stream",
       "stream": "stdout",
       "text": [
        "Thread #1: \t166700000 read pairs finished. 2889 secs passed\r\n"
       ]
      },
      {
       "output_type": "stream",
       "stream": "stdout",
       "text": [
        "Thread #0: \t166750000 read pairs finished. 2890 secs passed\r\n"
       ]
      },
      {
       "output_type": "stream",
       "stream": "stdout",
       "text": [
        "Thread #2: \t166800000 read pairs finished. 2891 secs passed\r\n"
       ]
      },
      {
       "output_type": "stream",
       "stream": "stdout",
       "text": [
        "Thread #1: \t166850000 read pairs finished. 2891 secs passed\r\n"
       ]
      },
      {
       "output_type": "stream",
       "stream": "stdout",
       "text": [
        "Thread #0: \t166900000 read pairs finished. 2892 secs passed\r\n"
       ]
      },
      {
       "output_type": "stream",
       "stream": "stdout",
       "text": [
        "Thread #2: \t166950000 read pairs finished. 2893 secs passed\r\n"
       ]
      },
      {
       "output_type": "stream",
       "stream": "stdout",
       "text": [
        "Thread #1: \t167000000 read pairs finished. 2894 secs passed\r\n"
       ]
      },
      {
       "output_type": "stream",
       "stream": "stdout",
       "text": [
        "Thread #0: \t167050000 read pairs finished. 2895 secs passed\r\n"
       ]
      },
      {
       "output_type": "stream",
       "stream": "stdout",
       "text": [
        "Thread #2: \t167100000 read pairs finished. 2895 secs passed\r\n"
       ]
      },
      {
       "output_type": "stream",
       "stream": "stdout",
       "text": [
        "Thread #1: \t167150000 read pairs finished. 2896 secs passed\r\n"
       ]
      },
      {
       "output_type": "stream",
       "stream": "stdout",
       "text": [
        "Thread #0: \t167200000 read pairs finished. 2897 secs passed\r\n"
       ]
      },
      {
       "output_type": "stream",
       "stream": "stdout",
       "text": [
        "Thread #2: \t167250000 read pairs finished. 2898 secs passed\r\n"
       ]
      },
      {
       "output_type": "stream",
       "stream": "stdout",
       "text": [
        "Thread #1: \t167300000 read pairs finished. 2899 secs passed\r\n"
       ]
      },
      {
       "output_type": "stream",
       "stream": "stdout",
       "text": [
        "Thread #0: \t167350000 read pairs finished. 2900 secs passed\r\n"
       ]
      },
      {
       "output_type": "stream",
       "stream": "stdout",
       "text": [
        "Thread #2: \t167400000 read pairs finished. 2901 secs passed\r\n"
       ]
      },
      {
       "output_type": "stream",
       "stream": "stdout",
       "text": [
        "Thread #1: \t167450000 read pairs finished. 2901 secs passed\r\n"
       ]
      },
      {
       "output_type": "stream",
       "stream": "stdout",
       "text": [
        "Thread #0: \t167500000 read pairs finished. 2902 secs passed\r\n"
       ]
      },
      {
       "output_type": "stream",
       "stream": "stdout",
       "text": [
        "Thread #2: \t167550000 read pairs finished. 2903 secs passed\r\n"
       ]
      },
      {
       "output_type": "stream",
       "stream": "stdout",
       "text": [
        "Thread #1: \t167600000 read pairs finished. 2904 secs passed\r\n"
       ]
      },
      {
       "output_type": "stream",
       "stream": "stdout",
       "text": [
        "Thread #0: \t167650000 read pairs finished. 2905 secs passed\r\n"
       ]
      },
      {
       "output_type": "stream",
       "stream": "stdout",
       "text": [
        "Thread #2: \t167700000 read pairs finished. 2905 secs passed\r\n"
       ]
      },
      {
       "output_type": "stream",
       "stream": "stdout",
       "text": [
        "Thread #1: \t167750000 read pairs finished. 2906 secs passed\r\n"
       ]
      },
      {
       "output_type": "stream",
       "stream": "stdout",
       "text": [
        "Thread #0: \t167800000 read pairs finished. 2907 secs passed\r\n"
       ]
      },
      {
       "output_type": "stream",
       "stream": "stdout",
       "text": [
        "Thread #2: \t167850000 read pairs finished. 2908 secs passed\r\n"
       ]
      },
      {
       "output_type": "stream",
       "stream": "stdout",
       "text": [
        "Thread #1: \t167900000 read pairs finished. 2908 secs passed\r\n"
       ]
      },
      {
       "output_type": "stream",
       "stream": "stdout",
       "text": [
        "Thread #0: \t167950000 read pairs finished. 2909 secs passed\r\n"
       ]
      },
      {
       "output_type": "stream",
       "stream": "stdout",
       "text": [
        "Thread #2: \t168000000 read pairs finished. 2910 secs passed\r\n"
       ]
      },
      {
       "output_type": "stream",
       "stream": "stdout",
       "text": [
        "Thread #1: \t168050000 read pairs finished. 2911 secs passed\r\n"
       ]
      },
      {
       "output_type": "stream",
       "stream": "stdout",
       "text": [
        "Thread #0: \t168100000 read pairs finished. 2912 secs passed\r\n"
       ]
      },
      {
       "output_type": "stream",
       "stream": "stdout",
       "text": [
        "Thread #2: \t168150000 read pairs finished. 2913 secs passed\r\n"
       ]
      },
      {
       "output_type": "stream",
       "stream": "stdout",
       "text": [
        "Thread #1: \t168200000 read pairs finished. 2914 secs passed\r\n"
       ]
      },
      {
       "output_type": "stream",
       "stream": "stdout",
       "text": [
        "Thread #0: \t168250000 read pairs finished. 2914 secs passed\r\n"
       ]
      },
      {
       "output_type": "stream",
       "stream": "stdout",
       "text": [
        "Thread #2: \t168300000 read pairs finished. 2915 secs passed\r\n"
       ]
      },
      {
       "output_type": "stream",
       "stream": "stdout",
       "text": [
        "Thread #1: \t168350000 read pairs finished. 2916 secs passed\r\n"
       ]
      },
      {
       "output_type": "stream",
       "stream": "stdout",
       "text": [
        "Thread #0: \t168400000 read pairs finished. 2917 secs passed\r\n"
       ]
      },
      {
       "output_type": "stream",
       "stream": "stdout",
       "text": [
        "Thread #2: \t168450000 read pairs finished. 2918 secs passed\r\n"
       ]
      },
      {
       "output_type": "stream",
       "stream": "stdout",
       "text": [
        "Thread #1: \t168500000 read pairs finished. 2918 secs passed\r\n"
       ]
      },
      {
       "output_type": "stream",
       "stream": "stdout",
       "text": [
        "Thread #0: \t168550000 read pairs finished. 2919 secs passed\r\n"
       ]
      },
      {
       "output_type": "stream",
       "stream": "stdout",
       "text": [
        "Thread #2: \t168600000 read pairs finished. 2920 secs passed\r\n"
       ]
      },
      {
       "output_type": "stream",
       "stream": "stdout",
       "text": [
        "Thread #1: \t168650000 read pairs finished. 2921 secs passed\r\n"
       ]
      },
      {
       "output_type": "stream",
       "stream": "stdout",
       "text": [
        "Thread #0: \t168700000 read pairs finished. 2922 secs passed\r\n"
       ]
      },
      {
       "output_type": "stream",
       "stream": "stdout",
       "text": [
        "Thread #2: \t168750000 read pairs finished. 2922 secs passed\r\n"
       ]
      },
      {
       "output_type": "stream",
       "stream": "stdout",
       "text": [
        "Thread #1: \t168800000 read pairs finished. 2923 secs passed\r\n"
       ]
      },
      {
       "output_type": "stream",
       "stream": "stdout",
       "text": [
        "Thread #0: \t168850000 read pairs finished. 2924 secs passed\r\n"
       ]
      },
      {
       "output_type": "stream",
       "stream": "stdout",
       "text": [
        "Thread #2: \t168900000 read pairs finished. 2925 secs passed\r\n"
       ]
      },
      {
       "output_type": "stream",
       "stream": "stdout",
       "text": [
        "Thread #1: \t168950000 read pairs finished. 2926 secs passed\r\n"
       ]
      },
      {
       "output_type": "stream",
       "stream": "stdout",
       "text": [
        "Thread #0: \t169000000 read pairs finished. 2926 secs passed\r\n"
       ]
      },
      {
       "output_type": "stream",
       "stream": "stdout",
       "text": [
        "Thread #2: \t169050000 read pairs finished. 2927 secs passed\r\n"
       ]
      },
      {
       "output_type": "stream",
       "stream": "stdout",
       "text": [
        "Thread #1: \t169100000 read pairs finished. 2928 secs passed\r\n"
       ]
      },
      {
       "output_type": "stream",
       "stream": "stdout",
       "text": [
        "Thread #0: \t169150000 read pairs finished. 2929 secs passed\r\n"
       ]
      },
      {
       "output_type": "stream",
       "stream": "stdout",
       "text": [
        "Thread #2: \t169200000 read pairs finished. 2930 secs passed\r\n"
       ]
      },
      {
       "output_type": "stream",
       "stream": "stdout",
       "text": [
        "Thread #1: \t169250000 read pairs finished. 2931 secs passed\r\n"
       ]
      },
      {
       "output_type": "stream",
       "stream": "stdout",
       "text": [
        "Thread #0: \t169300000 read pairs finished. 2931 secs passed\r\n"
       ]
      },
      {
       "output_type": "stream",
       "stream": "stdout",
       "text": [
        "Thread #2: \t169350000 read pairs finished. 2932 secs passed\r\n"
       ]
      },
      {
       "output_type": "stream",
       "stream": "stdout",
       "text": [
        "Thread #1: \t169400000 read pairs finished. 2933 secs passed\r\n"
       ]
      },
      {
       "output_type": "stream",
       "stream": "stdout",
       "text": [
        "Thread #0: \t169450000 read pairs finished. 2934 secs passed\r\n"
       ]
      },
      {
       "output_type": "stream",
       "stream": "stdout",
       "text": [
        "Thread #2: \t169500000 read pairs finished. 2935 secs passed\r\n"
       ]
      },
      {
       "output_type": "stream",
       "stream": "stdout",
       "text": [
        "Thread #1: \t169550000 read pairs finished. 2936 secs passed\r\n"
       ]
      },
      {
       "output_type": "stream",
       "stream": "stdout",
       "text": [
        "Thread #0: \t169600000 read pairs finished. 2936 secs passed\r\n"
       ]
      },
      {
       "output_type": "stream",
       "stream": "stdout",
       "text": [
        "Thread #2: \t169650000 read pairs finished. 2937 secs passed\r\n"
       ]
      },
      {
       "output_type": "stream",
       "stream": "stdout",
       "text": [
        "Thread #1: \t169700000 read pairs finished. 2938 secs passed\r\n"
       ]
      },
      {
       "output_type": "stream",
       "stream": "stdout",
       "text": [
        "Thread #0: \t169750000 read pairs finished. 2939 secs passed\r\n"
       ]
      },
      {
       "output_type": "stream",
       "stream": "stdout",
       "text": [
        "Thread #2: \t169800000 read pairs finished. 2940 secs passed\r\n"
       ]
      },
      {
       "output_type": "stream",
       "stream": "stdout",
       "text": [
        "Thread #1: \t169850000 read pairs finished. 2940 secs passed\r\n"
       ]
      },
      {
       "output_type": "stream",
       "stream": "stdout",
       "text": [
        "Thread #0: \t169900000 read pairs finished. 2941 secs passed\r\n"
       ]
      },
      {
       "output_type": "stream",
       "stream": "stdout",
       "text": [
        "Thread #2: \t169950000 read pairs finished. 2942 secs passed\r\n"
       ]
      },
      {
       "output_type": "stream",
       "stream": "stdout",
       "text": [
        "Thread #1: \t170000000 read pairs finished. 2943 secs passed\r\n"
       ]
      },
      {
       "output_type": "stream",
       "stream": "stdout",
       "text": [
        "Thread #0: \t170050000 read pairs finished. 2944 secs passed\r\n"
       ]
      },
      {
       "output_type": "stream",
       "stream": "stdout",
       "text": [
        "Thread #2: \t170100000 read pairs finished. 2945 secs passed\r\n"
       ]
      },
      {
       "output_type": "stream",
       "stream": "stdout",
       "text": [
        "Thread #1: \t170150000 read pairs finished. 2946 secs passed\r\n"
       ]
      },
      {
       "output_type": "stream",
       "stream": "stdout",
       "text": [
        "Thread #0: \t170200000 read pairs finished. 2947 secs passed\r\n"
       ]
      },
      {
       "output_type": "stream",
       "stream": "stdout",
       "text": [
        "Thread #2: \t170250000 read pairs finished. 2948 secs passed\r\n"
       ]
      },
      {
       "output_type": "stream",
       "stream": "stdout",
       "text": [
        "Thread #1: \t170300000 read pairs finished. 2949 secs passed\r\n"
       ]
      },
      {
       "output_type": "stream",
       "stream": "stdout",
       "text": [
        "Thread #0: \t170350000 read pairs finished. 2950 secs passed\r\n"
       ]
      },
      {
       "output_type": "stream",
       "stream": "stdout",
       "text": [
        "Thread #2: \t170400000 read pairs finished. 2951 secs passed\r\n"
       ]
      },
      {
       "output_type": "stream",
       "stream": "stdout",
       "text": [
        "Thread #1: \t170450000 read pairs finished. 2952 secs passed\r\n"
       ]
      },
      {
       "output_type": "stream",
       "stream": "stdout",
       "text": [
        "Thread #0: \t170500000 read pairs finished. 2953 secs passed\r\n"
       ]
      },
      {
       "output_type": "stream",
       "stream": "stdout",
       "text": [
        "Thread #2: \t170550000 read pairs finished. 2954 secs passed\r\n"
       ]
      },
      {
       "output_type": "stream",
       "stream": "stdout",
       "text": [
        "Thread #1: \t170600000 read pairs finished. 2955 secs passed\r\n"
       ]
      },
      {
       "output_type": "stream",
       "stream": "stdout",
       "text": [
        "Thread #0: \t170650000 read pairs finished. 2955 secs passed\r\n"
       ]
      },
      {
       "output_type": "stream",
       "stream": "stdout",
       "text": [
        "Thread #2: \t170700000 read pairs finished. 2956 secs passed\r\n"
       ]
      },
      {
       "output_type": "stream",
       "stream": "stdout",
       "text": [
        "Thread #1: \t170750000 read pairs finished. 2957 secs passed\r\n"
       ]
      },
      {
       "output_type": "stream",
       "stream": "stdout",
       "text": [
        "Thread #0: \t170800000 read pairs finished. 2958 secs passed\r\n"
       ]
      },
      {
       "output_type": "stream",
       "stream": "stdout",
       "text": [
        "Thread #2: \t170850000 read pairs finished. 2959 secs passed\r\n"
       ]
      },
      {
       "output_type": "stream",
       "stream": "stdout",
       "text": [
        "Thread #1: \t170900000 read pairs finished. 2960 secs passed\r\n"
       ]
      },
      {
       "output_type": "stream",
       "stream": "stdout",
       "text": [
        "Thread #0: \t170950000 read pairs finished. 2961 secs passed\r\n"
       ]
      },
      {
       "output_type": "stream",
       "stream": "stdout",
       "text": [
        "Thread #2: \t171000000 read pairs finished. 2962 secs passed\r\n"
       ]
      },
      {
       "output_type": "stream",
       "stream": "stdout",
       "text": [
        "Thread #1: \t171050000 read pairs finished. 2963 secs passed\r\n"
       ]
      },
      {
       "output_type": "stream",
       "stream": "stdout",
       "text": [
        "Thread #0: \t171100000 read pairs finished. 2963 secs passed\r\n"
       ]
      },
      {
       "output_type": "stream",
       "stream": "stdout",
       "text": [
        "Thread #2: \t171150000 read pairs finished. 2964 secs passed\r\n"
       ]
      },
      {
       "output_type": "stream",
       "stream": "stdout",
       "text": [
        "Thread #1: \t171200000 read pairs finished. 2965 secs passed\r\n"
       ]
      },
      {
       "output_type": "stream",
       "stream": "stdout",
       "text": [
        "Thread #0: \t171250000 read pairs finished. 2966 secs passed\r\n"
       ]
      },
      {
       "output_type": "stream",
       "stream": "stdout",
       "text": [
        "Thread #2: \t171300000 read pairs finished. 2967 secs passed\r\n"
       ]
      },
      {
       "output_type": "stream",
       "stream": "stdout",
       "text": [
        "Thread #1: \t171350000 read pairs finished. 2968 secs passed\r\n"
       ]
      },
      {
       "output_type": "stream",
       "stream": "stdout",
       "text": [
        "Thread #0: \t171400000 read pairs finished. 2969 secs passed\r\n"
       ]
      },
      {
       "output_type": "stream",
       "stream": "stdout",
       "text": [
        "Thread #2: \t171450000 read pairs finished. 2970 secs passed\r\n"
       ]
      },
      {
       "output_type": "stream",
       "stream": "stdout",
       "text": [
        "Thread #1: \t171500000 read pairs finished. 2971 secs passed\r\n"
       ]
      },
      {
       "output_type": "stream",
       "stream": "stdout",
       "text": [
        "Thread #0: \t171550000 read pairs finished. 2972 secs passed\r\n"
       ]
      },
      {
       "output_type": "stream",
       "stream": "stdout",
       "text": [
        "Thread #2: \t171582441 read pairs finished. 2972 secs passed\r\n"
       ]
      },
      {
       "output_type": "stream",
       "stream": "stdout",
       "text": [
        "Total number of aligned reads: \r\n",
        "pairs:       11907 (0.0069%)\r\n",
        "single a:    405 (0.00024%)\r\n",
        "single b:    357 (0.00021%)\r\n",
        "Done.\r\n",
        "Finished at Mon Dec  2 13:15:54 2013\r\n",
        "Total time consumed:  2972 secs\r\n"
       ]
      }
     ],
     "prompt_number": 1
    },
    {
     "cell_type": "code",
     "collapsed": false,
     "input": [
      "!python /Volumes/Bay3/Software/BSMAP/bsmap-2.74/methratio.py -d /Volumes/web/cnidarian/Cgigas_mito_genome.fasta -u -z -g -o  /Volumes/web/cnidarian/BiGo_mito_methratio_A.txt -s /Volumes/Bay3/Software/BSMAP/bsmap-2.74/samtools /Volumes/web/cnidarian/BiGo_mito.sam"
     ],
     "language": "python",
     "metadata": {},
     "outputs": [
      {
       "output_type": "stream",
       "stream": "stdout",
       "text": [
        "@ Mon Dec  2 13:26:03 2013: reading reference /Volumes/web/cnidarian/Cgigas_mito_genome.fasta ...\r\n",
        "@ Mon Dec  2 13:26:03 2013: reading /Volumes/web/cnidarian/BiGo_mito.sam ...\r\n"
       ]
      },
      {
       "output_type": "stream",
       "stream": "stdout",
       "text": [
        "[samopen] SAM header is present: 1 sequences.\r\n"
       ]
      },
      {
       "output_type": "stream",
       "stream": "stdout",
       "text": [
        "@ Mon Dec  2 13:26:05 2013: combining CpG methylation from both strands ...\r\n",
        "@ Mon Dec  2 13:26:05 2013: writing /Volumes/web/cnidarian/BiGo_mito_methratio_A.txt ...\r\n"
       ]
      },
      {
       "output_type": "stream",
       "stream": "stdout",
       "text": [
        "@ Mon Dec  2 13:26:05 2013: done.\r\n",
        "total 22760 valid mappings, 6030 covered cytosines, average coverage: 39.76 fold.\r\n"
       ]
      }
     ],
     "prompt_number": 2
    },
    {
     "cell_type": "code",
     "collapsed": false,
     "input": [
      "!head /Volumes/web/cnidarian/BiGo_mito_methratio_A.txt"
     ],
     "language": "python",
     "metadata": {},
     "outputs": [
      {
       "output_type": "stream",
       "stream": "stdout",
       "text": [
        "chr\tpos\tstrand\tcontext\tratio\teff_CT_count\tC_count\tCT_count\trev_G_count\trev_GA_count\tCI_lower\tCI_upper\r\n",
        "gi|7212445|ref|NC_001276.1|\t9\t-\tATGGG\t0.000\t5.00\t0\t5\t9\t9\t-0.000\t0.434\r\n",
        "gi|7212445|ref|NC_001276.1|\t10\t-\tTGGGT\t0.000\t5.00\t0\t5\t10\t10\t-0.000\t0.434\r\n",
        "gi|7212445|ref|NC_001276.1|\t11\t-\tGGGTG\t0.000\t5.00\t0\t5\t10\t10\t-0.000\t0.434\r\n",
        "gi|7212445|ref|NC_001276.1|\t13\t-\tGTGCA\t0.000\t7.00\t0\t7\t11\t11\t0.000\t0.354\r\n",
        "gi|7212445|ref|NC_001276.1|\t14\t+\tTGCAA\t0.000\t11.00\t0\t11\t7\t7\t0.000\t0.259\r\n",
        "gi|7212445|ref|NC_001276.1|\t18\t+\tAACTT\t0.000\t14.00\t0\t14\t9\t9\t0.000\t0.215\r\n",
        "gi|7212445|ref|NC_001276.1|\t23\t-\tATGGG\t0.000\t11.00\t0\t11\t16\t16\t0.000\t0.259\r\n",
        "gi|7212445|ref|NC_001276.1|\t24\t-\tTGGGG\t0.000\t12.00\t0\t12\t16\t16\t0.000\t0.243\r\n",
        "gi|7212445|ref|NC_001276.1|\t25\t-\tGGGGA\t0.000\t12.00\t0\t12\t16\t16\t0.000\t0.243\r\n"
       ]
      }
     ],
     "prompt_number": 3
    },
    {
     "cell_type": "code",
     "collapsed": false,
     "input": [],
     "language": "python",
     "metadata": {},
     "outputs": []
    }
   ],
   "metadata": {}
  }
 ]
}