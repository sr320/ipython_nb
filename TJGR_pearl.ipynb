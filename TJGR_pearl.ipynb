{
 "metadata": {
  "name": ""
 },
 "nbformat": 3,
 "nbformat_minor": 0,
 "worksheets": [
  {
   "cells": [
    {
     "cell_type": "markdown",
     "metadata": {},
     "source": [
      "#Searching for Pearl\n",
      "\n",
      "Summary   \n",
      "\n",
      "Blastn of <http://eagle.fish.washington.edu/cnidarian/pearl_te.fa> against the oyster genome (v9) with the following output:  \n",
      "\n",
      "<http://eagle.fish.washington.edu/cnidarian/oyster_v9_blastn_pearl>\n",
      "\n",
      "---    "
     ]
    },
    {
     "cell_type": "markdown",
     "metadata": {},
     "source": [
      "local image?\n",
      "![pearl](files/img/pearl.jpeg)\n"
     ]
    },
    {
     "cell_type": "markdown",
     "metadata": {},
     "source": [
      "Need to make blast database from entire oyster genome."
     ]
    },
    {
     "cell_type": "code",
     "collapsed": false,
     "input": [
      "!makeblastdb -in /Volumes/web/cnidarian/oyster.v9.fa -dbtype nucl -out /Volumes/Bay3/Software/ncbi-blast-2.2.27\\+/db/oyster_v9"
     ],
     "language": "python",
     "metadata": {},
     "outputs": [
      {
       "output_type": "stream",
       "stream": "stdout",
       "text": [
        "\r\n",
        "\r\n",
        "Building a new DB, current time: 06/11/2013 11:56:32\r\n",
        "New DB name:   /Volumes/Bay3/Software/ncbi-blast-2.2.27+/db/oyster_v9\r\n",
        "New DB title:  /Volumes/web/cnidarian/oyster.v9.fa\r\n",
        "Sequence type: Nucleotide\r\n",
        "Keep Linkouts: T\r\n",
        "Keep MBits: T\r\n",
        "Maximum file size: 1000000000B\r\n"
       ]
      },
      {
       "output_type": "stream",
       "stream": "stdout",
       "text": [
        "Adding sequences from FASTA; added 11969 sequences in 33.6918 seconds.\r\n"
       ]
      }
     ],
     "prompt_number": 17
    },
    {
     "cell_type": "code",
     "collapsed": false,
     "input": [
      "!blastn -query /Volumes/web/cnidarian/pearl_te.fa -db /Volumes/Bay3/Software/ncbi-blast-2.2.27\\+/db/oyster_v9 -out /Volumes/web/cnidarian/oyster_v9_blastn_pearl -outfmt 6 -evalue 1E-5 -num_threads 2 -task blastn"
     ],
     "language": "python",
     "metadata": {},
     "outputs": [],
     "prompt_number": 19
    },
    {
     "cell_type": "code",
     "collapsed": false,
     "input": [
      "!head /Volumes/web/cnidarian/oyster_v9_blastn_pearl"
     ],
     "language": "python",
     "metadata": {},
     "outputs": [
      {
       "output_type": "stream",
       "stream": "stdout",
       "text": [
        "CVA\tscaffold1347\t87.17\t265\t29\t4\t203\t465\t62899\t63160\t4e-83\t 311\r\n",
        "CVA\tscaffold1347\t79.39\t131\t23\t2\t335\t465\t120974\t120848\t3e-22\t 109\r\n",
        "CVA\tscaffold1347\t87.36\t87\t11\t0\t131\t217\t62983\t63069\t9e-22\t 107\r\n",
        "CVA\tscaffold1347\t71.05\t152\t13\t3\t320\t463\t290562\t290690\t7e-17\t91.5\r\n",
        "CVA\tscaffold1347\t82.19\t73\t13\t0\t136\t208\t259668\t259740\t2e-11\t73.4\r\n",
        "CVA\tscaffold1347\t82.19\t73\t13\t0\t292\t364\t259668\t259740\t2e-11\t73.4\r\n",
        "CVA\tscaffold1347\t92.50\t40\t2\t1\t1\t39\t287927\t287966\t5e-06\t55.4\r\n",
        "CVA\tscaffold492\t86.42\t265\t31\t3\t203\t465\t658118\t658379\t5e-82\t 307\r\n",
        "CVA\tscaffold492\t84.68\t222\t30\t2\t203\t422\t959949\t959730\t2e-62\t 242\r\n",
        "CVA\tscaffold492\t75.00\t276\t59\t4\t195\t465\t175106\t175376\t6e-43\t 178\r\n"
       ]
      }
     ],
     "prompt_number": 20
    },
    {
     "cell_type": "code",
     "collapsed": false,
     "input": [
      "!wc -l /Volumes/web/cnidarian/oyster_v9_blastn_pearl"
     ],
     "language": "python",
     "metadata": {},
     "outputs": [
      {
       "output_type": "stream",
       "stream": "stdout",
       "text": [
        "    8769 /Volumes/web/cnidarian/oyster_v9_blastn_pearl\r\n"
       ]
      }
     ],
     "prompt_number": 21
    },
    {
     "cell_type": "code",
     "collapsed": false,
     "input": [],
     "language": "python",
     "metadata": {},
     "outputs": []
    }
   ],
   "metadata": {}
  }
 ]
}