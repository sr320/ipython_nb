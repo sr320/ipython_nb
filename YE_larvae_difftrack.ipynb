{
 "metadata": {
  "name": "",
  "signature": "sha256:554981b186a25aeb2a2eb7d4c3753e53a5a73502ec9b609d59f46c7651588442"
 },
 "nbformat": 3,
 "nbformat_minor": 0,
 "worksheets": [
  {
   "cells": [
    {
     "cell_type": "heading",
     "level": 1,
     "metadata": {},
     "source": [
      "Yanouk's samples - Hypo and Hypermethylated loci (3x)"
     ]
    },
    {
     "cell_type": "markdown",
     "metadata": {},
     "source": [
      "<img src=\"http://eagle.fish.washington.edu/cnidarian/skitch/greenbird_196B0D35.png\" alt=\"greenbird_196B0D35.png\"/>"
     ]
    },
    {
     "cell_type": "heading",
     "level": 2,
     "metadata": {},
     "source": [
      "Instructions for Visualization"
     ]
    },
    {
     "cell_type": "markdown",
     "metadata": {},
     "source": [
      "1) Install IGV (free software) http://www.broadinstitute.org/software/igv/home"
     ]
    },
    {
     "cell_type": "code",
     "collapsed": false,
     "input": [
      "from IPython.display import HTML\n",
      "HTML('<iframe src=http://www.broadinstitute.org/software/igv/home width=100% height=650></iframe>')\n",
      "\n"
     ],
     "language": "python",
     "metadata": {},
     "outputs": [
      {
       "html": [
        "<iframe src=http://www.broadinstitute.org/software/igv/home width=100% height=650></iframe>"
       ],
       "metadata": {},
       "output_type": "pyout",
       "prompt_number": 4,
       "text": [
        "<IPython.core.display.HTML at 0x104274350>"
       ]
      }
     ],
     "prompt_number": 4
    },
    {
     "cell_type": "markdown",
     "metadata": {},
     "source": [
      "2) Open IGV"
     ]
    },
    {
     "cell_type": "markdown",
     "metadata": {},
     "source": [
      "3) Go to File > Load from URL...   \n",
      "<img src=\"http://eagle.fish.washington.edu/cnidarian/skitch/File_196B2C85.png\" alt=\"File_196B2C85.png\"/>"
     ]
    },
    {
     "cell_type": "markdown",
     "metadata": {},
     "source": [
      "4) Enter `http://eagle.fish.washington.edu/cnidarian/igv_session_YElarvae.xml`   \n",
      "\n",
      "<img src=\"http://eagle.fish.washington.edu/cnidarian/skitch/Screenshot_7_7_14__12_30_PM_196B2CE2.png\" alt=\"Screenshot_7_7_14__12_30_PM_196B2CE2.png\"/>"
     ]
    },
    {
     "cell_type": "markdown",
     "metadata": {},
     "source": [
      "Voila- you should get a window similar to the what is at the top of the page.\n",
      "\n",
      "Tracks include\n",
      "methylation data at 3x and 5x coverage and a track representing loci that are hypermethylated in mix library and hypomethylated in mix sample.\n",
      "\n",
      "---"
     ]
    },
    {
     "cell_type": "markdown",
     "metadata": {},
     "source": [
      "IGV xml to directly load all tracks above\n",
      "\n",
      "http://eagle.fish.washington.edu/cnidarian/igv_session_YElarvae.xml"
     ]
    },
    {
     "cell_type": "code",
     "collapsed": false,
     "input": [
      "!cat /Volumes/web/cnidarian/igv_session_YElarvae.xml"
     ],
     "language": "python",
     "metadata": {},
     "outputs": [
      {
       "output_type": "stream",
       "stream": "stdout",
       "text": [
        "<?xml version=\"1.0\" encoding=\"UTF-8\" standalone=\"no\"?>\r\n",
        "<Session genome=\"http://eagle.fish.washington.edu/whale/ensembl/ftp.ensemblgenomes.org/pub/release-21/metazoa/fasta/crassostrea_gigas/dna/Crassostrea_gigas.GCA_000297895.1.21.dna_sm.genome.fa\" locus=\"scaffold334:356874-366720\" version=\"5\">\r\n",
        "    <Resources>\r\n",
        "        <Resource path=\"http://eagle.fish.washington.edu/cnidarian/filt_YE_mix_22smCG5x.igv\"/>\r\n",
        "        <Resource path=\"http://eagle.fish.washington.edu/trilobite/Crassostrea_gigas_ensembl_tracks/Crassostrea_gigas.GCA_000297895.1.22.gtf\"/>\r\n",
        "        <Resource path=\"http://eagle.fish.washington.edu/cnidarian/YE_mixHYPER.bed\"/>\r\n",
        "        <Resource path=\"http://eagle.fish.washington.edu/cnidarian/filt_YE_control_22smCG5x.igv\"/>\r\n",
        "        <Resource path=\"http://eagle.fish.washington.edu/cnidarian/zearly_th_genomecov.bedgraph\"/>\r\n",
        "        <Resource path=\"http://eagle.fish.washington.edu/cnidarian/filt_YE_control_22smCG3x.igv\"/>\r\n",
        "        <Resource path=\"http://eagle.fish.washington.edu/cnidarian/filt_YE_mix_22smCG3x.igv\"/>\r\n",
        "        <Resource path=\"http://eagle.fish.washington.edu/trilobite/Crassostrea_gigas_ensembl_tracks/Crassostrea_gigas.GCA_000297895.1.22.gff3\"/>\r\n",
        "        <Resource path=\"http://eagle.fish.washington.edu/trilobite/Crassostrea_gigas_v9_tracks/Cgigas_v9_TE.gff\"/>\r\n",
        "        <Resource path=\"http://eagle.fish.washington.edu/cnidarian/YE_mixHYPO.bed\"/>\r\n",
        "    </Resources>\r\n",
        "    <Panel height=\"233\" name=\"DataPanel\" width=\"1133\">\r\n",
        "        <Track altColor=\"0,0,178\" autoScale=\"true\" color=\"0,0,178\" displayMode=\"COLLAPSED\" featureVisibilityWindow=\"-1\" fontSize=\"10\" id=\"http://eagle.fish.washington.edu/cnidarian/filt_YE_mix_22smCG3x.igv_0.000\" name=\"YE_mix_3x\" normalize=\"false\" renderer=\"BAR_CHART\" sortable=\"true\" visible=\"true\" windowFunction=\"mean\">\r\n",
        "            <DataRange baseline=\"0.0\" drawBaseline=\"true\" flipAxis=\"false\" maximum=\"1.0\" minimum=\"0.0\" type=\"LINEAR\"/>\r\n",
        "        </Track>\r\n",
        "        <Track altColor=\"0,0,178\" autoScale=\"true\" color=\"0,0,178\" displayMode=\"COLLAPSED\" featureVisibilityWindow=\"-1\" fontSize=\"10\" id=\"http://eagle.fish.washington.edu/cnidarian/filt_YE_control_22smCG3x.igv_0.000\" name=\"YE_control_3x\" normalize=\"false\" renderer=\"BAR_CHART\" sortable=\"true\" visible=\"true\" windowFunction=\"mean\">\r\n",
        "            <DataRange baseline=\"0.0\" drawBaseline=\"true\" flipAxis=\"false\" maximum=\"0.667\" minimum=\"0.0\" type=\"LINEAR\"/>\r\n",
        "        </Track>\r\n",
        "        <Track altColor=\"0,0,178\" autoScale=\"true\" color=\"0,0,178\" colorScale=\"ContinuousColorScale;0.0;1.0;255,255,255;0,0,178\" displayMode=\"COLLAPSED\" featureVisibilityWindow=\"-1\" fontSize=\"10\" id=\"http://eagle.fish.washington.edu/cnidarian/filt_YE_mix_22smCG5x.igv_0.000\" name=\"YE_mix_5x\" normalize=\"false\" renderer=\"BAR_CHART\" sortable=\"true\" visible=\"true\" windowFunction=\"mean\">\r\n",
        "            <DataRange baseline=\"0.0\" drawBaseline=\"true\" flipAxis=\"false\" maximum=\"0.8\" minimum=\"0.0\" type=\"LINEAR\"/>\r\n",
        "        </Track>\r\n",
        "        <Track altColor=\"0,0,178\" autoScale=\"true\" color=\"0,0,178\" colorScale=\"ContinuousColorScale;0.0;1.0;255,255,255;0,0,178\" displayMode=\"COLLAPSED\" featureVisibilityWindow=\"-1\" fontSize=\"10\" id=\"http://eagle.fish.washington.edu/cnidarian/filt_YE_control_22smCG5x.igv_0.000\" name=\"YE_control_5x\" normalize=\"false\" renderer=\"BAR_CHART\" sortable=\"true\" visible=\"true\" windowFunction=\"mean\">\r\n",
        "            <DataRange baseline=\"0.0\" drawBaseline=\"true\" flipAxis=\"false\" maximum=\"1.0\" minimum=\"0.0\" type=\"LINEAR\"/>\r\n",
        "        </Track>\r\n",
        "        <Track altColor=\"0,0,178\" autoScale=\"true\" color=\"0,0,178\" displayMode=\"COLLAPSED\" featureVisibilityWindow=\"-1\" fontSize=\"10\" id=\"http://eagle.fish.washington.edu/cnidarian/zearly_th_genomecov.bedgraph\" name=\"zearly_th_genomecov.bedgraph\" normalize=\"false\" renderer=\"BAR_CHART\" sortable=\"true\" visible=\"true\" windowFunction=\"mean\">\r\n",
        "            <DataRange baseline=\"0.0\" drawBaseline=\"true\" flipAxis=\"false\" maximum=\"1725.0\" minimum=\"0.0\" type=\"LINEAR\"/>\r\n",
        "        </Track>\r\n",
        "    </Panel>\r\n",
        "    <Panel height=\"615\" name=\"FeaturePanel\" width=\"1133\">\r\n",
        "        <Track altColor=\"0,0,178\" autoScale=\"false\" color=\"0,0,178\" displayMode=\"COLLAPSED\" featureVisibilityWindow=\"-1\" fontSize=\"10\" id=\"Reference sequence\" name=\"Reference sequence\" sortable=\"false\" visible=\"true\"/>\r\n",
        "        <Track altColor=\"0,0,178\" autoScale=\"false\" clazz=\"org.broad.igv.track.FeatureTrack\" color=\"0,0,178\" displayMode=\"COLLAPSED\" featureVisibilityWindow=\"-1\" fontSize=\"10\" height=\"45\" id=\"http://eagle.fish.washington.edu/cnidarian/YE_mixHYPER.bed\" name=\"YE_mixHYPER.bed\" renderer=\"BASIC_FEATURE\" sortable=\"false\" visible=\"true\" windowFunction=\"count\"/>\r\n",
        "        <Track altColor=\"0,0,178\" autoScale=\"false\" clazz=\"org.broad.igv.track.FeatureTrack\" color=\"0,0,178\" displayMode=\"COLLAPSED\" featureVisibilityWindow=\"-1\" fontSize=\"10\" height=\"45\" id=\"http://eagle.fish.washington.edu/cnidarian/YE_mixHYPO.bed\" name=\"YE_mixHYPO.bed\" renderer=\"BASIC_FEATURE\" sortable=\"false\" visible=\"true\" windowFunction=\"count\"/>\r\n",
        "        <Track altColor=\"0,0,178\" autoScale=\"false\" clazz=\"org.broad.igv.track.FeatureTrack\" color=\"0,0,178\" displayMode=\"SQUISHED\" featureVisibilityWindow=\"-1\" fontSize=\"10\" height=\"45\" id=\"http://eagle.fish.washington.edu/trilobite/Crassostrea_gigas_v9_tracks/Cgigas_v9_TE.gff\" name=\"Cgigas_v9_TE.gff\" renderer=\"GENE_TRACK\" sortable=\"false\" visible=\"true\" windowFunction=\"count\"/>\r\n",
        "        <Track altColor=\"0,0,178\" autoScale=\"false\" clazz=\"org.broad.igv.track.FeatureTrack\" color=\"0,0,178\" displayMode=\"COLLAPSED\" featureVisibilityWindow=\"-1\" fontSize=\"10\" height=\"45\" id=\"http://eagle.fish.washington.edu/trilobite/Crassostrea_gigas_ensembl_tracks/Crassostrea_gigas.GCA_000297895.1.22.gtf\" name=\"Crassostrea_gigas.GCA_000297895.1.22.gtf\" renderer=\"GENE_TRACK\" sortable=\"false\" visible=\"true\" windowFunction=\"count\"/>\r\n",
        "        <Track altColor=\"0,0,178\" autoScale=\"false\" clazz=\"org.broad.igv.track.FeatureTrack\" color=\"0,0,178\" displayMode=\"EXPANDED\" featureVisibilityWindow=\"-1\" fontSize=\"10\" height=\"45\" id=\"http://eagle.fish.washington.edu/trilobite/Crassostrea_gigas_ensembl_tracks/Crassostrea_gigas.GCA_000297895.1.22.gff3\" name=\"Crassostrea_gigas.GCA_000297895.1.22.gff3\" renderer=\"GENE_TRACK\" sortable=\"false\" visible=\"true\" windowFunction=\"count\"/>\r\n",
        "    </Panel>\r\n",
        "    <PanelLayout dividerFractions=\"0.39965986394557823\"/>\r\n",
        "</Session>\r\n"
       ]
      }
     ],
     "prompt_number": 12
    },
    {
     "cell_type": "heading",
     "level": 1,
     "metadata": {},
     "source": [
      "Adding some larvae RNA-seq Tracks"
     ]
    },
    {
     "cell_type": "code",
     "collapsed": false,
     "input": [
      "bgdir=\"/iplant/home/sr320/Cgigas_v9/Zhang/bgraph\"\n",
      "!ils {bgdir}"
     ],
     "language": "python",
     "metadata": {},
     "outputs": [
      {
       "output_type": "stream",
       "stream": "stdout",
       "text": [
        "/iplant/home/sr320/Cgigas_v9/Zhang/bgraph:\r\n"
       ]
      },
      {
       "output_type": "stream",
       "stream": "stdout",
       "text": [
        "  C- /iplant/home/sr320/Cgigas_v9/Zhang/bgraph/RNAseq2bedgraph_E-2014-03-08-07-36-07.971\r\n",
        "  C- /iplant/home/sr320/Cgigas_v9/Zhang/bgraph/RNAseq2bedgraph_early-2014-07-08-09-17-15.654\r\n",
        "  C- /iplant/home/sr320/Cgigas_v9/Zhang/bgraph/RNAseq2bedgraph_Fgo-2014-03-07-10-07-12.617\r\n",
        "  C- /iplant/home/sr320/Cgigas_v9/Zhang/bgraph/RNAseq2bedgraph_G3-2014-03-06-16-26-41.026\r\n",
        "  C- /iplant/home/sr320/Cgigas_v9/Zhang/bgraph/RNAseq2bedgraph_late-2014-07-08-09-15-42.258\r\n",
        "  C- /iplant/home/sr320/Cgigas_v9/Zhang/bgraph/RNAseq2bedgraph_Man1-2014-07-02-08-36-42.069\r\n",
        "  C- /iplant/home/sr320/Cgigas_v9/Zhang/bgraph/RNAseq2bedgraph_Mgo1.3-2014-03-07-14-06-07.430\r\n",
        "  C- /iplant/home/sr320/Cgigas_v9/Zhang/bgraph/RNAseq2bedgraph_Mgo-2014-03-07-14-03-33.677\r\n"
       ]
      }
     ],
     "prompt_number": 8
    },
    {
     "cell_type": "code",
     "collapsed": false,
     "input": [
      "folder=\"RNAseq2bedgraph_late-2014-07-08-09-15-42.258\"\n",
      "id=\"late\""
     ],
     "language": "python",
     "metadata": {},
     "outputs": [],
     "prompt_number": 9
    },
    {
     "cell_type": "code",
     "collapsed": false,
     "input": [
      "cd /Volumes/web/cnidarian/\n"
     ],
     "language": "python",
     "metadata": {},
     "outputs": [
      {
       "output_type": "stream",
       "stream": "stdout",
       "text": [
        "/Volumes/web/cnidarian\n"
       ]
      }
     ],
     "prompt_number": 10
    },
    {
     "cell_type": "code",
     "collapsed": true,
     "input": [
      "!icd /iplant/home/sr320/Cgigas_v9/Zhang/bgraph/{folder}\n",
      "!imv accepted_hits.bam z{id}_tophat.bam\n",
      "!imv bedtools_genomecov_output z{id}_th_genomecov.bedgraph\n",
      "!iget -f z{id}_th_genomecov.bedgraph\n",
      "!iget -f z{id}_tophat.bam\n",
      "!igvtools toTDF z{id}_th_genomecov.bedgraph z{id}_th_genomecov.bedgraph.tdf /Volumes/web/cnidarian/cgigas_v9_genome03.chrom.sizes \n",
      "!iput z{id}_th_genomecov.bedgraph.tdf"
     ],
     "language": "python",
     "metadata": {},
     "outputs": []
    },
    {
     "cell_type": "code",
     "collapsed": false,
     "input": [],
     "language": "python",
     "metadata": {},
     "outputs": []
    }
   ],
   "metadata": {}
  }
 ]
}