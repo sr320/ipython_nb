{
 "metadata": {
  "name": "",
  "signature": "sha256:e6047ef09162a82222a55c85f1177609d0471067262453b1df5f0344375cad0c"
 },
 "nbformat": 3,
 "nbformat_minor": 0,
 "worksheets": [
  {
   "cells": [
    {
     "cell_type": "heading",
     "level": 1,
     "metadata": {},
     "source": [
      "Yanouk's samples - Hypo and Hypermethylated loci (3x)"
     ]
    },
    {
     "cell_type": "markdown",
     "metadata": {},
     "source": [
      "<img src=\"http://eagle.fish.washington.edu/cnidarian/skitch/greenbird_196B0D35.png\" alt=\"greenbird_196B0D35.png\"/>"
     ]
    },
    {
     "cell_type": "heading",
     "level": 2,
     "metadata": {},
     "source": [
      "Instructions for Visualization"
     ]
    },
    {
     "cell_type": "markdown",
     "metadata": {},
     "source": [
      "1) Install IGV (free software) http://www.broadinstitute.org/software/igv/home"
     ]
    },
    {
     "cell_type": "code",
     "collapsed": false,
     "input": [
      "from IPython.display import HTML\n",
      "HTML('<iframe src=http://www.broadinstitute.org/software/igv/home width=100% height=650></iframe>')\n",
      "\n"
     ],
     "language": "python",
     "metadata": {},
     "outputs": [
      {
       "html": [
        "<iframe src=http://www.broadinstitute.org/software/igv/home width=100% height=650></iframe>"
       ],
       "metadata": {},
       "output_type": "pyout",
       "prompt_number": 4,
       "text": [
        "<IPython.core.display.HTML at 0x104274350>"
       ]
      }
     ],
     "prompt_number": 4
    },
    {
     "cell_type": "markdown",
     "metadata": {},
     "source": [
      "2) Open IGV"
     ]
    },
    {
     "cell_type": "markdown",
     "metadata": {},
     "source": [
      "3) Go to File > Load from URL...   \n",
      "<img src=\"http://eagle.fish.washington.edu/cnidarian/skitch/File_196B2C85.png\" alt=\"File_196B2C85.png\"/>"
     ]
    },
    {
     "cell_type": "markdown",
     "metadata": {},
     "source": [
      "4) Enter `http://eagle.fish.washington.edu/cnidarian/igv_session_YElarvae.xml`   \n",
      "\n",
      "<img src=\"http://eagle.fish.washington.edu/cnidarian/skitch/Screenshot_7_7_14__12_30_PM_196B2CE2.png\" alt=\"Screenshot_7_7_14__12_30_PM_196B2CE2.png\"/>"
     ]
    },
    {
     "cell_type": "markdown",
     "metadata": {},
     "source": [
      "IGV xml to directly load all tracks above\n",
      "\n",
      "http://eagle.fish.washington.edu/cnidarian/igv_session_YElarvae.xml"
     ]
    },
    {
     "cell_type": "code",
     "collapsed": false,
     "input": [
      "!cat /Volumes/web/cnidarian/igv_session_YElarvae.xml"
     ],
     "language": "python",
     "metadata": {},
     "outputs": [
      {
       "output_type": "stream",
       "stream": "stdout",
       "text": [
        "<?xml version=\"1.0\" encoding=\"UTF-8\" standalone=\"no\"?>\r\n",
        "<Session genome=\"http://eagle.fish.washington.edu/whale/ensembl/ftp.ensemblgenomes.org/pub/release-21/metazoa/fasta/crassostrea_gigas/dna/Crassostrea_gigas.GCA_000297895.1.21.dna_sm.genome.fa\" locus=\"scaffold1532:967769-1388993\" version=\"5\">\r\n",
        "    <Resources>\r\n",
        "        <Resource path=\"http://eagle.fish.washington.edu/cnidarian/filt_YE_mix_22smCG5x.igv\"/>\r\n",
        "        <Resource path=\"http://eagle.fish.washington.edu/trilobite/Crassostrea_gigas_ensembl_tracks/Crassostrea_gigas.GCA_000297895.1.22.gtf\"/>\r\n",
        "        <Resource path=\"http://eagle.fish.washington.edu/cnidarian/YE_mixHYPER.bed\"/>\r\n",
        "        <Resource path=\"http://eagle.fish.washington.edu/cnidarian/filt_YE_control_22smCG5x.igv\"/>\r\n",
        "        <Resource path=\"http://eagle.fish.washington.edu/cnidarian/YE_mixHYPO.bed\"/>\r\n",
        "        <Resource path=\"http://eagle.fish.washington.edu/cnidarian/filt_YE_control_22smCG3x.igv\"/>\r\n",
        "        <Resource path=\"http://eagle.fish.washington.edu/cnidarian/filt_YE_mix_22smCG3x.igv\"/>\r\n",
        "        <Resource path=\"http://eagle.fish.washington.edu/trilobite/Crassostrea_gigas_ensembl_tracks/Crassostrea_gigas.GCA_000297895.1.22.gff3\"/>\r\n",
        "        <Resource path=\"http://eagle.fish.washington.edu/trilobite/Crassostrea_gigas_v9_tracks/Cgigas_v9_TE.gff\"/>\r\n",
        "    </Resources>\r\n",
        "    <Panel height=\"217\" name=\"DataPanel\" width=\"1579\">\r\n",
        "        <Track altColor=\"0,0,178\" autoScale=\"true\" color=\"0,0,178\" displayMode=\"COLLAPSED\" featureVisibilityWindow=\"-1\" fontSize=\"10\" id=\"http://eagle.fish.washington.edu/cnidarian/filt_YE_mix_22smCG3x.igv_0.000\" name=\"YE_mix_3x\" normalize=\"false\" renderer=\"SCATTER_PLOT\" sortable=\"true\" visible=\"true\" windowFunction=\"mean\">\r\n",
        "            <DataRange baseline=\"0.0\" drawBaseline=\"true\" flipAxis=\"false\" maximum=\"1.0\" minimum=\"0.0\" type=\"LINEAR\"/>\r\n",
        "        </Track>\r\n",
        "        <Track altColor=\"0,0,178\" autoScale=\"true\" color=\"0,0,178\" displayMode=\"COLLAPSED\" featureVisibilityWindow=\"-1\" fontSize=\"10\" id=\"http://eagle.fish.washington.edu/cnidarian/filt_YE_control_22smCG3x.igv_0.000\" name=\"YE_control_3x\" normalize=\"false\" renderer=\"SCATTER_PLOT\" sortable=\"true\" visible=\"true\" windowFunction=\"mean\">\r\n",
        "            <DataRange baseline=\"0.0\" drawBaseline=\"true\" flipAxis=\"false\" maximum=\"1.0\" minimum=\"0.0\" type=\"LINEAR\"/>\r\n",
        "        </Track>\r\n",
        "        <Track altColor=\"0,0,178\" autoScale=\"true\" color=\"0,0,178\" colorScale=\"ContinuousColorScale;0.0;1.0;255,255,255;0,0,178\" displayMode=\"COLLAPSED\" featureVisibilityWindow=\"-1\" fontSize=\"10\" id=\"http://eagle.fish.washington.edu/cnidarian/filt_YE_mix_22smCG5x.igv_0.000\" name=\"YE_mix_5x\" normalize=\"false\" renderer=\"HEATMAP\" sortable=\"true\" visible=\"true\" windowFunction=\"mean\">\r\n",
        "            <DataRange baseline=\"0.0\" drawBaseline=\"true\" flipAxis=\"false\" maximum=\"1.0\" minimum=\"0.0\" type=\"LINEAR\"/>\r\n",
        "        </Track>\r\n",
        "        <Track altColor=\"0,0,178\" autoScale=\"true\" color=\"0,0,178\" colorScale=\"ContinuousColorScale;0.0;1.0;255,255,255;0,0,178\" displayMode=\"COLLAPSED\" featureVisibilityWindow=\"-1\" fontSize=\"10\" id=\"http://eagle.fish.washington.edu/cnidarian/filt_YE_control_22smCG5x.igv_0.000\" name=\"YE_control_5x\" normalize=\"false\" renderer=\"HEATMAP\" sortable=\"true\" visible=\"true\" windowFunction=\"mean\">\r\n",
        "            <DataRange baseline=\"0.0\" drawBaseline=\"true\" flipAxis=\"false\" maximum=\"0.2\" minimum=\"0.0\" type=\"LINEAR\"/>\r\n",
        "        </Track>\r\n",
        "    </Panel>\r\n",
        "    <Panel height=\"740\" name=\"FeaturePanel\" width=\"1579\">\r\n",
        "        <Track altColor=\"0,0,178\" autoScale=\"false\" color=\"0,0,178\" displayMode=\"COLLAPSED\" featureVisibilityWindow=\"-1\" fontSize=\"10\" id=\"Reference sequence\" name=\"Reference sequence\" sortable=\"false\" visible=\"true\"/>\r\n",
        "        <Track altColor=\"0,0,178\" autoScale=\"false\" clazz=\"org.broad.igv.track.FeatureTrack\" color=\"0,0,178\" displayMode=\"COLLAPSED\" featureVisibilityWindow=\"-1\" fontSize=\"10\" height=\"45\" id=\"http://eagle.fish.washington.edu/cnidarian/YE_mixHYPER.bed\" name=\"YE_mixHYPER.bed\" renderer=\"BASIC_FEATURE\" sortable=\"false\" visible=\"true\" windowFunction=\"count\"/>\r\n",
        "        <Track altColor=\"0,0,178\" autoScale=\"false\" clazz=\"org.broad.igv.track.FeatureTrack\" color=\"0,0,178\" displayMode=\"COLLAPSED\" featureVisibilityWindow=\"-1\" fontSize=\"10\" height=\"45\" id=\"http://eagle.fish.washington.edu/cnidarian/YE_mixHYPO.bed\" name=\"YE_mixHYPO.bed\" renderer=\"BASIC_FEATURE\" sortable=\"false\" visible=\"true\" windowFunction=\"count\"/>\r\n",
        "        <Track altColor=\"0,0,178\" autoScale=\"false\" clazz=\"org.broad.igv.track.FeatureTrack\" color=\"0,0,178\" displayMode=\"COLLAPSED\" featureVisibilityWindow=\"-1\" fontSize=\"10\" height=\"45\" id=\"http://eagle.fish.washington.edu/trilobite/Crassostrea_gigas_v9_tracks/Cgigas_v9_TE.gff\" name=\"Cgigas_v9_TE.gff\" renderer=\"GENE_TRACK\" sortable=\"false\" visible=\"true\" windowFunction=\"count\"/>\r\n",
        "        <Track altColor=\"0,0,178\" autoScale=\"false\" clazz=\"org.broad.igv.track.FeatureTrack\" color=\"0,0,178\" displayMode=\"COLLAPSED\" featureVisibilityWindow=\"-1\" fontSize=\"10\" height=\"45\" id=\"http://eagle.fish.washington.edu/trilobite/Crassostrea_gigas_ensembl_tracks/Crassostrea_gigas.GCA_000297895.1.22.gtf\" name=\"Crassostrea_gigas.GCA_000297895.1.22.gtf\" renderer=\"GENE_TRACK\" sortable=\"false\" visible=\"true\" windowFunction=\"count\"/>\r\n",
        "        <Track altColor=\"0,0,178\" autoScale=\"false\" clazz=\"org.broad.igv.track.FeatureTrack\" color=\"0,0,178\" displayMode=\"COLLAPSED\" featureVisibilityWindow=\"-1\" fontSize=\"10\" height=\"45\" id=\"http://eagle.fish.washington.edu/trilobite/Crassostrea_gigas_ensembl_tracks/Crassostrea_gigas.GCA_000297895.1.22.gff3\" name=\"Crassostrea_gigas.GCA_000297895.1.22.gff3\" renderer=\"GENE_TRACK\" sortable=\"false\" visible=\"true\" windowFunction=\"count\"/>\r\n",
        "    </Panel>\r\n",
        "    <PanelLayout dividerFractions=\"0.22717842323651452\"/>\r\n",
        "</Session>\r\n"
       ]
      }
     ],
     "prompt_number": 1
    },
    {
     "cell_type": "code",
     "collapsed": false,
     "input": [],
     "language": "python",
     "metadata": {},
     "outputs": []
    }
   ],
   "metadata": {}
  }
 ]
}