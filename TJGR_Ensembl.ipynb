{
 "metadata": {
  "name": ""
 },
 "nbformat": 3,
 "nbformat_minor": 0,
 "worksheets": [
  {
   "cells": [
    {
     "cell_type": "heading",
     "level": 1,
     "metadata": {},
     "source": [
      "Exploring new files on Ensembl"
     ]
    },
    {
     "cell_type": "markdown",
     "metadata": {},
     "source": [
      "<http://metazoa.ensembl.org/Crassostrea_gigas/Info/Index>"
     ]
    },
    {
     "cell_type": "markdown",
     "metadata": {},
     "source": [
      "Data at <http://metazoa.ensembl.org/info/data/ftp/index.html>"
     ]
    },
    {
     "cell_type": "markdown",
     "metadata": {},
     "source": [
      "![ss](https://www.evernote.com/shard/s10/sh/46686bba-15bb-4de9-aa97-829a57fb1c6c/da3751aaf940080fec3e06f4aa932ee7/deep/0/Ensembl-Metazoa.png)"
     ]
    },
    {
     "cell_type": "code",
     "collapsed": false,
     "input": [],
     "language": "python",
     "metadata": {},
     "outputs": []
    }
   ],
   "metadata": {}
  }
 ]
}