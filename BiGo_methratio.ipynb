{
 "metadata": {
  "name": "BiGo_methratio"
 },
 "nbformat": 3,
 "nbformat_minor": 0,
 "worksheets": [
  {
   "cells": [
    {
     "cell_type": "markdown",
     "metadata": {},
     "source": [
      "#DNA methylation of Oyster Sperm based on Genomic Features"
     ]
    },
    {
     "cell_type": "markdown",
     "metadata": {},
     "source": [
      "_methratio_ file in SQLShare\n",
      "<https://sqlshare.escience.washington.edu/sqlshare#s=query/sr320%2540washington.edu/clean_BiGo_methratio_v1>"
     ]
    },
    {
     "cell_type": "markdown",
     "metadata": {},
     "source": [
      "### BiGO GFF\n",
      "\n",
      "```\n",
      "SELECT \n",
      "chr as seqname,  \n",
      "'methratio' as source,  \n",
      "'CpG' as feature, \n",
      "pos as start,\n",
      "pos + 1 as [end],\n",
      "ratio as score,  \n",
      "strand,  \n",
      "'.' as frame,  \n",
      "'.' as attribute  \n",
      "FROM [sr320@washington.edu].[clean_BiGo_methratio_v1]\n",
      "where \n",
      "context like '__CG_' \n",
      "and\n",
      "CT_Count >= 5\n",
      "```\n",
      "\n",
      "<https://sqlshare.escience.washington.edu/sqlshare#s=query/sr320%2540washington.edu/BiGo_methratio_GFF_boop&q=>"
     ]
    },
    {
     "cell_type": "code",
     "collapsed": false,
     "input": [
      "# ie python fetchdata.py -d \"[sr320@washington.edu].[BiGO_Methylation_oysterv9_GFF]\u200b\" -f tsv -o /Volumes/web/cnidarian/BiGO_Methylation10x_oysterv9.gff\n",
      "\n",
      "# running on commandline because cannot get to work in IPython"
     ],
     "language": "python",
     "metadata": {},
     "outputs": [],
     "prompt_number": 13
    },
    {
     "cell_type": "raw",
     "metadata": {},
     "source": [
      "python fetchdata.py -d \"[sr320@washington.edu].[BiGo_methratio_GFF_boop]\u200b\" -f tsv -o /Volumes/web/cnidarian/BiGo_methratio_boop.gff"
     ]
    },
    {
     "cell_type": "code",
     "collapsed": false,
     "input": [
      "#fetchdata failed"
     ],
     "language": "python",
     "metadata": {},
     "outputs": [],
     "prompt_number": 15
    },
    {
     "cell_type": "code",
     "collapsed": false,
     "input": [
      "#Dowloaded csv\n",
      "# should be same as \n",
      "!head /Volumes/web/cnidarian/BiGO_Methylation5x_oysterv9.gff"
     ],
     "language": "python",
     "metadata": {},
     "outputs": [
      {
       "output_type": "stream",
       "stream": "stdout",
       "text": [
        "seqname\tsource\tfeature\tstart\tend\tscore\tstrand\tframe\tattribute\r",
        "\r\n",
        "C10005\tmethratio\tCpG\t57\t58\t0.000\t+\t.\t.\r",
        "\r\n",
        "C10009\tmethratio\tCpG\t70\t71\t0.000\t+\t.\t.\r",
        "\r\n",
        "C10009\tmethratio\tCpG\t124\t125\t0.000\t+\t.\t.\r",
        "\r\n",
        "C10009\tmethratio\tCpG\t128\t129\t0.000\t+\t.\t.\r",
        "\r\n",
        "C10009\tmethratio\tCpG\t136\t137\t0.000\t+\t.\t.\r",
        "\r\n",
        "C10011\tmethratio\tCpG\t51\t52\t0.000\t+\t.\t.\r",
        "\r\n",
        "C10011\tmethratio\tCpG\t62\t63\t0.000\t+\t.\t.\r",
        "\r\n",
        "C10011\tmethratio\tCpG\t101\t102\t0.000\t+\t.\t.\r",
        "\r\n",
        "C10011\tmethratio\tCpG\t108\t109\t0.000\t+\t.\t.\r",
        "\r\n"
       ]
      }
     ],
     "prompt_number": 16
    },
    {
     "cell_type": "code",
     "collapsed": false,
     "input": [
      "!wc /Volumes/web/cnidarian/BiGO_Methylation5x_oysterv9.gff"
     ],
     "language": "python",
     "metadata": {},
     "outputs": [
      {
       "output_type": "stream",
       "stream": "stdout",
       "text": [
        " 7648305 68834745 402812022 /Volumes/web/cnidarian/BiGO_Methylation5x_oysterv9.gff\r\n"
       ]
      }
     ],
     "prompt_number": 17
    },
    {
     "cell_type": "code",
     "collapsed": false,
     "input": [
      "!head /Volumes/web/cnidarian/BiGo_methratio_boop.gff"
     ],
     "language": "python",
     "metadata": {},
     "outputs": [
      {
       "output_type": "stream",
       "stream": "stdout",
       "text": [
        "seqname\tsource\tfeature\tstart\tend\tscore\tstrand\tframe\tattribute\r",
        "\r\n",
        "C10005\tmethratio\tCpG\t57\t58\t0\t+\t.\t.\r",
        "\r\n",
        "C10009\tmethratio\tCpG\t70\t71\t0\t+\t.\t.\r",
        "\r\n",
        "C10009\tmethratio\tCpG\t124\t125\t0\t+\t.\t.\r",
        "\r\n",
        "C10009\tmethratio\tCpG\t128\t129\t0\t+\t.\t.\r",
        "\r\n",
        "C10009\tmethratio\tCpG\t136\t137\t0\t+\t.\t.\r",
        "\r\n",
        "C10011\tmethratio\tCpG\t51\t52\t0\t+\t.\t.\r",
        "\r\n",
        "C10011\tmethratio\tCpG\t62\t63\t0\t+\t.\t.\r",
        "\r\n",
        "C10011\tmethratio\tCpG\t101\t102\t0\t+\t.\t.\r",
        "\r\n",
        "C10011\tmethratio\tCpG\t108\t109\t0\t+\t.\t.\r",
        "\r\n"
       ]
      }
     ],
     "prompt_number": 1
    },
    {
     "cell_type": "code",
     "collapsed": false,
     "input": [
      "!wc /Volumes/web/cnidarian/BiGo_methratio_boop.gff"
     ],
     "language": "python",
     "metadata": {},
     "outputs": [
      {
       "output_type": "stream",
       "stream": "stdout",
       "text": [
        " 7642817 68785353 378876013 /Volumes/web/cnidarian/BiGo_methratio_boop.gff\r\n"
       ]
      }
     ],
     "prompt_number": 21
    },
    {
     "cell_type": "code",
     "collapsed": false,
     "input": [
      "from pandas import *\n",
      "\n",
      "# read data from data file into a pandas DataFrame  \n",
      "BiGOboop = read_csv(\"http://eagle.fish.washington.edu/cnidarian/BiGo_methratio_GFF_boop.csv\", # name of the data file\n",
      "            sep=\",\", # what character separates each column?\n",
      "            na_values=[\"\", \" \"]) # what values should be considered \"blank\" values?"
     ],
     "language": "python",
     "metadata": {},
     "outputs": [],
     "prompt_number": 18
    },
    {
     "cell_type": "code",
     "collapsed": false,
     "input": [
      "BiGOboop['score'].hist(bins=50);\n",
      "#Axis limits are changed using the axis([xmin, xmax, ymin, ymax]) function.\n",
      "plt.axis([0, 1, 0, 400000])\n"
     ],
     "language": "python",
     "metadata": {},
     "outputs": [
      {
       "output_type": "pyout",
       "prompt_number": 20,
       "text": [
        "[0, 1, 0, 400000]"
       ]
      },
      {
       "output_type": "display_data",
       "png": "[encoded data removed]"
      }
     ],
     "prompt_number": 20
    },
    {
     "cell_type": "markdown",
     "metadata": {},
     "source": [
      "---\n",
      "### CG motif confirmation"
     ]
    },
    {
     "cell_type": "code",
     "collapsed": false,
     "input": [
      "!head /Volumes/web/cnidarian/TJGR_oyster_v9_CGmotif.gff"
     ],
     "language": "python",
     "metadata": {},
     "outputs": [
      {
       "output_type": "stream",
       "stream": "stdout",
       "text": [
        "##gff-version 2.0\r\n",
        "##date 2013-04-23\r\n",
        "##Type DNA scaffold360\r\n",
        "scaffold360\tfuzznuc\tmisc_feature\t60\t61\t2.000\t+\t.\tSequence \"scaffold360.1\" ; note \"*pat pattern1\"\r\n",
        "scaffold360\tfuzznuc\tmisc_feature\t96\t97\t2.000\t+\t.\tSequence \"scaffold360.2\" ; note \"*pat pattern1\"\r\n",
        "scaffold360\tfuzznuc\tmisc_feature\t120\t121\t2.000\t+\t.\tSequence \"scaffold360.3\" ; note \"*pat pattern1\"\r\n",
        "scaffold360\tfuzznuc\tmisc_feature\t187\t188\t2.000\t+\t.\tSequence \"scaffold360.4\" ; note \"*pat pattern1\"\r\n",
        "##gff-version 2.0\r\n",
        "##date 2013-04-23\r\n",
        "##Type DNA scaffold18356\r\n"
       ]
      }
     ],
     "prompt_number": 29
    },
    {
     "cell_type": "code",
     "collapsed": false,
     "input": [
      "!fgrep -c \"fuzznuc\" /Volumes/web/cnidarian/TJGR_oyster_v9_CGmotif.gff"
     ],
     "language": "python",
     "metadata": {},
     "outputs": [
      {
       "output_type": "stream",
       "stream": "stdout",
       "text": [
        "5625744\r\n"
       ]
      }
     ],
     "prompt_number": 30
    },
    {
     "cell_type": "code",
     "collapsed": false,
     "input": [
      "!head /Volumes/web/cnidarian/TJGR_oyster_v9_CG.gff\n"
     ],
     "language": "python",
     "metadata": {},
     "outputs": [
      {
       "output_type": "stream",
       "stream": "stdout",
       "text": [
        "##gff-version 3\r\n",
        "##sequence-region scaffold360 1 280\r\n",
        "#!Date 2013-04-23\r\n",
        "#!Type DNA\r\n",
        "#!Source-version EMBOSS 6.5.7.0\r\n",
        "scaffold360\tfuzznuc\tnucleotide_motif\t60\t61\t2\t+\t.\tID=scaffold360.1;note=*pat pattern:CG\r\n",
        "scaffold360\tfuzznuc\tnucleotide_motif\t96\t97\t2\t+\t.\tID=scaffold360.2;note=*pat pattern:CG\r\n",
        "scaffold360\tfuzznuc\tnucleotide_motif\t120\t121\t2\t+\t.\tID=scaffold360.3;note=*pat pattern:CG\r\n",
        "scaffold360\tfuzznuc\tnucleotide_motif\t187\t188\t2\t+\t.\tID=scaffold360.4;note=*pat pattern:CG\r\n",
        "##gff-version 3\r\n"
       ]
      }
     ],
     "prompt_number": 31
    },
    {
     "cell_type": "code",
     "collapsed": false,
     "input": [
      "!fgrep -c \"fuzznuc\" /Volumes/web/cnidarian/TJGR_oyster_v9_CG.gff"
     ],
     "language": "python",
     "metadata": {},
     "outputs": [
      {
       "output_type": "stream",
       "stream": "stdout",
       "text": [
        "9978551\r\n"
       ]
      }
     ],
     "prompt_number": 32
    },
    {
     "cell_type": "markdown",
     "metadata": {},
     "source": [
      "---\n",
      "###Confirming CG\n"
     ]
    },
    {
     "cell_type": "code",
     "collapsed": false,
     "input": [
      "#ran before\n",
      "!head /Volumes/web/cnidarian/oyster_v9_CG_fuzznuc.output"
     ],
     "language": "python",
     "metadata": {},
     "outputs": [
      {
       "output_type": "stream",
       "stream": "stdout",
       "text": [
        "########################################\r\n",
        "# Program: fuzznuc\r\n",
        "# Rundate: Fri 19 Apr 2013 14:58:14\r\n",
        "# Commandline: fuzznuc\r\n",
        "#    -sequence oyster.v9.fa\r\n",
        "#    -pattern CG\r\n",
        "#    -outfile fuzznuc.output\r\n",
        "# Report_format: seqtable\r\n",
        "# Report_file: fuzznuc.output\r\n",
        "########################################\r\n"
       ]
      }
     ],
     "prompt_number": 7
    },
    {
     "cell_type": "code",
     "collapsed": false,
     "input": [
      "!fgrep -c \"+ pattern: \" /Volumes/web/cnidarian/oyster_v9_CG_fuzznuc.output"
     ],
     "language": "python",
     "metadata": {},
     "outputs": [
      {
       "output_type": "stream",
       "stream": "stdout",
       "text": [
        "9978551\r\n"
       ]
      }
     ],
     "prompt_number": 9
    },
    {
     "cell_type": "code",
     "collapsed": false,
     "input": [
      "!fgrep -c \"nucleotide_motif\" /Volumes/web/bivalvia/wholegenomefiles_MBDbsSeq_gill/gffs/TJGR_oyster_v9_CG.gff"
     ],
     "language": "python",
     "metadata": {},
     "outputs": [
      {
       "output_type": "stream",
       "stream": "stdout",
       "text": [
        "9978551\r\n"
       ]
      }
     ],
     "prompt_number": 10
    },
    {
     "cell_type": "markdown",
     "metadata": {},
     "source": [
      "---\n",
      "###CDS (Exon) file check"
     ]
    },
    {
     "cell_type": "code",
     "collapsed": false,
     "input": [
      "!wc /Volumes/web/cnidarian/oyster.v9.glean.final.rename.CDS.gff"
     ],
     "language": "python",
     "metadata": {},
     "outputs": [
      {
       "output_type": "stream",
       "stream": "stdout",
       "text": [
        "  196691 1770219 12359791 /Volumes/web/cnidarian/oyster.v9.glean.final.rename.CDS.gff\r\n"
       ]
      }
     ],
     "prompt_number": 10
    },
    {
     "cell_type": "code",
     "collapsed": false,
     "input": [
      "!wc /Volumes/web/Mollusk/174gm_analysis/Whole_Genome_Analyses/oyster.v9.glean.final.rename.CDS.gff.gff"
     ],
     "language": "python",
     "metadata": {},
     "outputs": [
      {
       "output_type": "stream",
       "stream": "stdout",
       "text": [
        "  196691 1770219 12359791 /Volumes/web/Mollusk/174gm_analysis/Whole_Genome_Analyses/oyster.v9.glean.final.rename.CDS.gff.gff\r\n"
       ]
      }
     ],
     "prompt_number": 13
    },
    {
     "cell_type": "code",
     "collapsed": false,
     "input": [
      "!wc /Volumes/web/bivalvia/wholegenomefiles_MBDbsSeq_gill/gffs/oysterv9_glean_final_rename_CDS.gff\n"
     ],
     "language": "python",
     "metadata": {},
     "outputs": [
      {
       "output_type": "stream",
       "stream": "stdout",
       "text": [
        "  196691 1770219 12359791 /Volumes/web/bivalvia/wholegenomefiles_MBDbsSeq_gill/gffs/oysterv9_glean_final_rename_CDS.gff\r\n"
       ]
      }
     ],
     "prompt_number": 1
    },
    {
     "cell_type": "markdown",
     "metadata": {},
     "source": [
      "---"
     ]
    },
    {
     "cell_type": "code",
     "collapsed": false,
     "input": [
      "!intersectbed -a /Volumes/web/cnidarian/oyster.v9.glean.final.rename.CDS.gff -b /Volumes/web/cnidarian/TJGR_oyster_v9_CG.gff -c > /Volumes/web/cnidarian/TGR_intersectbed_CDS_v9_CGmotif.txt "
     ],
     "language": "python",
     "metadata": {},
     "outputs": [],
     "prompt_number": 35
    },
    {
     "cell_type": "code",
     "collapsed": false,
     "input": [
      "!head /Volumes/web/cnidarian/TGR_intersectbed_CDS_v9_CGmotif.txt"
     ],
     "language": "python",
     "metadata": {},
     "outputs": [
      {
       "output_type": "stream",
       "stream": "stdout",
       "text": [
        "C16582\tGLEAN\tCDS\t35\t385\t.\t-\t0\tParent=CGI_10000001;\t14\r\n",
        "C17212\tGLEAN\tCDS\t31\t363\t.\t+\t0\tParent=CGI_10000002;\t6\r\n",
        "C17316\tGLEAN\tCDS\t30\t257\t.\t+\t0\tParent=CGI_10000003;\t10\r\n",
        "C17476\tGLEAN\tCDS\t104\t257\t.\t-\t0\tParent=CGI_10000004;\t5\r\n",
        "C17476\tGLEAN\tCDS\t34\t74\t.\t-\t2\tParent=CGI_10000004;\t2\r\n",
        "C17998\tGLEAN\tCDS\t196\t387\t.\t-\t0\tParent=CGI_10000005;\t11\r\n",
        "C18346\tGLEAN\tCDS\t174\t551\t.\t+\t0\tParent=CGI_10000009;\t29\r\n",
        "C18428\tGLEAN\tCDS\t286\t546\t.\t-\t0\tParent=CGI_10000010;\t24\r\n",
        "C18964\tGLEAN\tCDS\t203\t658\t.\t-\t0\tParent=CGI_10000011;\t9\r\n",
        "C18980\tGLEAN\tCDS\t30\t674\t.\t+\t0\tParent=CGI_10000012;\t56\r\n"
       ]
      }
     ],
     "prompt_number": 37
    },
    {
     "cell_type": "code",
     "collapsed": false,
     "input": [
      "cat /Volumes/web/cnidarian/TGR_intersectbed_CDS_v9_CGmotif.txt | awk -F\"\\t\" '{ sum+=$10} END {print sum}'"
     ],
     "language": "python",
     "metadata": {},
     "outputs": [
      {
       "output_type": "stream",
       "stream": "stdout",
       "text": [
        "1134622\r\n"
       ]
      }
     ],
     "prompt_number": 43
    },
    {
     "cell_type": "code",
     "collapsed": false,
     "input": [
      "!intersectbed -a /Volumes/web/cnidarian/oyster.v9.glean.final.rename.CDS.gff -b /Volumes/web/cnidarian/TJGR_oyster_v9_CG.gff -c > /Volumes/web/cnidarian/TGR_intersectbed_CDS_v9_CGmotif.txt "
     ],
     "language": "python",
     "metadata": {},
     "outputs": []
    },
    {
     "cell_type": "markdown",
     "metadata": {},
     "source": [
      "<table>\n",
      "<tr>\n",
      "<th>Feature</th>\n",
      "<th>No. Features</th>\n",
      "<th>CG</th>  \n",
      "<th>mCG</th>\n",
      "<th>NmCG</th>     \n",
      "</tr>\n",
      "<tr>\n",
      "<td>Exons</td>\n",
      "<td>196691</td>\n",
      "<td>1134622</td>\n",
      "<td>196691</td>    \n",
      "</tr>\n",
      "<tr>\n",
      "<td>row 2, cell 1</td>\n",
      "<td>row 2, cell 2</td>\n",
      "</tr>\n",
      "</table>"
     ]
    },
    {
     "cell_type": "markdown",
     "metadata": {},
     "source": [
      "---\n",
      "\n",
      "##Histogram for all features"
     ]
    },
    {
     "cell_type": "code",
     "collapsed": false,
     "input": [
      "!tail -n +2 /Volumes/web/cnidarian/BiGo_methratio_boop.gff > /Volumes/web/cnidarian/BiGo_methratio_boop_c.gff"
     ],
     "language": "python",
     "metadata": {},
     "outputs": [],
     "prompt_number": 5
    },
    {
     "cell_type": "code",
     "collapsed": false,
     "input": [
      "!head /Volumes/web/cnidarian/BiGo_methratio_boop_c.gff"
     ],
     "language": "python",
     "metadata": {},
     "outputs": [
      {
       "output_type": "stream",
       "stream": "stdout",
       "text": [
        "C10005\tmethratio\tCpG\t57\t58\t0\t+\t.\t.\r",
        "\r\n",
        "C10009\tmethratio\tCpG\t70\t71\t0\t+\t.\t.\r",
        "\r\n",
        "C10009\tmethratio\tCpG\t124\t125\t0\t+\t.\t.\r",
        "\r\n",
        "C10009\tmethratio\tCpG\t128\t129\t0\t+\t.\t.\r",
        "\r\n",
        "C10009\tmethratio\tCpG\t136\t137\t0\t+\t.\t.\r",
        "\r\n",
        "C10011\tmethratio\tCpG\t51\t52\t0\t+\t.\t.\r",
        "\r\n",
        "C10011\tmethratio\tCpG\t62\t63\t0\t+\t.\t.\r",
        "\r\n",
        "C10011\tmethratio\tCpG\t101\t102\t0\t+\t.\t.\r",
        "\r\n",
        "C10011\tmethratio\tCpG\t108\t109\t0\t+\t.\t.\r",
        "\r\n",
        "C10011\tmethratio\tCpG\t115\t116\t0\t+\t.\t.\r",
        "\r\n"
       ]
      }
     ],
     "prompt_number": 6
    },
    {
     "cell_type": "code",
     "collapsed": false,
     "input": [
      "!wc /Volumes/web/cnidarian/BiGo_methratio_boop_c.gff"
     ],
     "language": "python",
     "metadata": {},
     "outputs": [
      {
       "output_type": "stream",
       "stream": "stdout",
       "text": [
        " 7642816 68785344 378875950 /Volumes/web/cnidarian/BiGo_methratio_boop_c.gff\r\n"
       ]
      }
     ],
     "prompt_number": 7
    },
    {
     "cell_type": "code",
     "collapsed": false,
     "input": [
      "!wc /Volumes/web/cnidarian/BiGo_methratio_boop.gff"
     ],
     "language": "python",
     "metadata": {},
     "outputs": [
      {
       "output_type": "stream",
       "stream": "stdout",
       "text": [
        " 7642817 68785353 378876013 /Volumes/web/cnidarian/BiGo_methratio_boop.gff\r\n"
       ]
      }
     ],
     "prompt_number": 8
    },
    {
     "cell_type": "code",
     "collapsed": false,
     "input": [
      "!intersectbed -a /Volumes/web/cnidarian/oyster.v9.glean.final.rename.CDS.gff -b /Volumes/web/cnidarian/BiGo_methratio_boop_c.gff -c > /Volumes/web/cnidarian/BiGo_CDS_v9_intersect_methratio_boop.txt "
     ],
     "language": "python",
     "metadata": {},
     "outputs": [],
     "prompt_number": 11
    },
    {
     "cell_type": "code",
     "collapsed": false,
     "input": [
      "!head /Volumes/web/cnidarian/BiGo_CDS_v9_intersect_methratio_boop.txt "
     ],
     "language": "python",
     "metadata": {},
     "outputs": [
      {
       "output_type": "stream",
       "stream": "stdout",
       "text": [
        "C16582\tGLEAN\tCDS\t35\t385\t.\t-\t0\tParent=CGI_10000001;\t0\r\n",
        "C17212\tGLEAN\tCDS\t31\t363\t.\t+\t0\tParent=CGI_10000002;\t4\r\n",
        "C17316\tGLEAN\tCDS\t30\t257\t.\t+\t0\tParent=CGI_10000003;\t9\r\n",
        "C17476\tGLEAN\tCDS\t104\t257\t.\t-\t0\tParent=CGI_10000004;\t5\r\n",
        "C17476\tGLEAN\tCDS\t34\t74\t.\t-\t2\tParent=CGI_10000004;\t1\r\n",
        "C17998\tGLEAN\tCDS\t196\t387\t.\t-\t0\tParent=CGI_10000005;\t11\r\n",
        "C18346\tGLEAN\tCDS\t174\t551\t.\t+\t0\tParent=CGI_10000009;\t0\r\n",
        "C18428\tGLEAN\tCDS\t286\t546\t.\t-\t0\tParent=CGI_10000010;\t0\r\n",
        "C18964\tGLEAN\tCDS\t203\t658\t.\t-\t0\tParent=CGI_10000011;\t9\r\n",
        "C18980\tGLEAN\tCDS\t30\t674\t.\t+\t0\tParent=CGI_10000012;\t0\r\n"
       ]
      }
     ],
     "prompt_number": 10
    },
    {
     "cell_type": "code",
     "collapsed": false,
     "input": [
      "#wrong order "
     ],
     "language": "python",
     "metadata": {},
     "outputs": [],
     "prompt_number": 12
    },
    {
     "cell_type": "markdown",
     "metadata": {},
     "source": [
      "---   \n",
      "###BiGo methratio intersect Exon"
     ]
    },
    {
     "cell_type": "code",
     "collapsed": false,
     "input": [
      "!intersectbed -a /Volumes/web/cnidarian/BiGo_methratio_boop_c.gff -b /Volumes/web/trilobite/Crassostrea_gigas_v9_tracks/Cgigas_v9_exon.gff > /Volumes/web/cnidarian/BiGo_methratio_boop_intersect_CDS_b.gff "
     ],
     "language": "python",
     "metadata": {},
     "outputs": [],
     "prompt_number": 35
    },
    {
     "cell_type": "code",
     "collapsed": false,
     "input": [
      "!wc /Volumes/web/cnidarian/BiGo_methratio_boop_intersect_CDS_b.gff"
     ],
     "language": "python",
     "metadata": {},
     "outputs": [
      {
       "output_type": "stream",
       "stream": "stdout",
       "text": [
        " 1028202 9253818 51391228 /Volumes/web/cnidarian/BiGo_methratio_boop_intersect_CDS_b.gff\r\n"
       ]
      }
     ],
     "prompt_number": 36
    },
    {
     "cell_type": "code",
     "collapsed": false,
     "input": [
      "!head /Volumes/web/cnidarian/BiGo_methratio_boop_intersect_CDS_b.gff"
     ],
     "language": "python",
     "metadata": {},
     "outputs": [
      {
       "output_type": "stream",
       "stream": "stdout",
       "text": [
        "C17212\tmethratio\tCpG\t165\t166\t0\t+\t.\t.\r",
        "\r\n",
        "C17212\tmethratio\tCpG\t169\t170\t0\t+\t.\t.\r",
        "\r\n",
        "C17212\tmethratio\tCpG\t234\t235\t0\t+\t.\t.\r",
        "\r\n",
        "C17212\tmethratio\tCpG\t249\t250\t0\t+\t.\t.\r",
        "\r\n",
        "C17316\tmethratio\tCpG\t45\t46\t0.125\t+\t.\t.\r",
        "\r\n",
        "C17316\tmethratio\tCpG\t71\t72\t0\t+\t.\t.\r",
        "\r\n",
        "C17316\tmethratio\tCpG\t74\t75\t0\t+\t.\t.\r",
        "\r\n",
        "C17316\tmethratio\tCpG\t89\t90\t0\t+\t.\t.\r",
        "\r\n",
        "C17316\tmethratio\tCpG\t101\t102\t0\t+\t.\t.\r",
        "\r\n",
        "C17316\tmethratio\tCpG\t208\t209\t0\t+\t.\t.\r",
        "\r\n"
       ]
      }
     ],
     "prompt_number": 37
    },
    {
     "cell_type": "code",
     "collapsed": false,
     "input": [
      "from pandas import *\n",
      "\n",
      "# read data from data file into a pandas DataFrame  \n",
      "CDSmr = read_table(\"/Volumes/web/cnidarian/BiGo_methratio_boop_intersect_CDS_b.gff\", # name of the data file\n",
      "            #sep=\"\\t\", # what character separates each column?\n",
      "            #na_values=[\"\", \" \"], # what values should be considered \"blank\" values?\n",
      "            header=None)"
     ],
     "language": "python",
     "metadata": {},
     "outputs": [],
     "prompt_number": 38
    },
    {
     "cell_type": "code",
     "collapsed": false,
     "input": [
      "CDSmr[5].hist(bins=50);\n",
      "#Axis limits are changed using the axis([xmin, xmax, ymin, ymax]) function.\n",
      "plt.axis([0, 1, 0, 90000]);\n",
      "plt.title('CDS');"
     ],
     "language": "python",
     "metadata": {},
     "outputs": [
      {
       "output_type": "display_data",
       "png": "[encoded data removed]"
      }
     ],
     "prompt_number": 39
    },
    {
     "cell_type": "code",
     "collapsed": false,
     "input": [
      "# pandas density plot\n",
      "CDSmr[5].plot(kind='kde', linewidth=3);\n",
      "plt.title('CDS')"
     ],
     "language": "python",
     "metadata": {},
     "outputs": [],
     "prompt_number": "*"
    },
    {
     "cell_type": "markdown",
     "metadata": {},
     "source": [
      "---   \n",
      "###BiGo methratio intersect Promoter"
     ]
    },
    {
     "cell_type": "code",
     "collapsed": false,
     "input": [
      "!intersectbed -a /Volumes/web/cnidarian/BiGo_methratio_boop_c.gff -b /Volumes/web/trilobite/Crassostrea_gigas_v9_tracks/Cgigas_v9_1k5p_gene_promoter.gff > /Volumes/web/cnidarian/BiGo_methratio_boop_intersect_promoter.gff "
     ],
     "language": "python",
     "metadata": {},
     "outputs": [],
     "prompt_number": 52
    },
    {
     "cell_type": "code",
     "collapsed": false,
     "input": [
      "!head /Volumes/web/cnidarian/BiGo_methratio_boop_intersect_promoter.gff"
     ],
     "language": "python",
     "metadata": {},
     "outputs": [
      {
       "output_type": "stream",
       "stream": "stdout",
       "text": [
        "C17476\tmethratio\tCpG\t291\t292\t0\t+\t.\t.\r",
        "\r\n",
        "C17476\tmethratio\tCpG\t389\t390\t0\t+\t.\t.\r",
        "\r\n",
        "C17476\tmethratio\tCpG\t391\t392\t0\t+\t.\t.\r",
        "\r\n",
        "C17476\tmethratio\tCpG\t398\t399\t0\t+\t.\t.\r",
        "\r\n",
        "C17476\tmethratio\tCpG\t414\t415\t0\t+\t.\t.\r",
        "\r\n",
        "C17476\tmethratio\tCpG\t439\t440\t0\t+\t.\t.\r",
        "\r\n",
        "C17476\tmethratio\tCpG\t455\t456\t0\t+\t.\t.\r",
        "\r\n",
        "C17476\tmethratio\tCpG\t460\t461\t0\t+\t.\t.\r",
        "\r\n",
        "C17476\tmethratio\tCpG\t469\t470\t0\t+\t.\t.\r",
        "\r\n",
        "C17998\tmethratio\tCpG\t424\t425\t0\t+\t.\t.\r",
        "\r\n"
       ]
      }
     ],
     "prompt_number": 53
    },
    {
     "cell_type": "code",
     "collapsed": false,
     "input": [
      "from pandas import *\n",
      "\n",
      "# read data from data file into a pandas DataFrame  \n",
      "Promr = read_table(\"/Volumes/web/cnidarian/BiGo_methratio_boop_intersect_promoter.gff\", # name of the data file\n",
      "            #sep=\"\\t\", # what character separates each column?\n",
      "            #na_values=[\"\", \" \"], # what values should be considered \"blank\" values?\n",
      "            header=None)"
     ],
     "language": "python",
     "metadata": {},
     "outputs": [],
     "prompt_number": 54
    },
    {
     "cell_type": "code",
     "collapsed": false,
     "input": [
      "Promr[5].hist(bins=50);\n",
      "#Axis limits are changed using the axis([xmin, xmax, ymin, ymax]) function.\n",
      "plt.axis([0, 1, 0, 5000]);\n",
      "plt.title('Promoter');"
     ],
     "language": "python",
     "metadata": {},
     "outputs": [
      {
       "output_type": "display_data",
       "png": "[encoded data removed]"
      }
     ],
     "prompt_number": 55
    },
    {
     "cell_type": "code",
     "collapsed": false,
     "input": [
      "# pandas density plot\n",
      "Promr[5].plot(kind='kde', linewidth=3);"
     ],
     "language": "python",
     "metadata": {},
     "outputs": [
      {
       "output_type": "display_data",
       "png": "[encoded data removed]"
      }
     ],
     "prompt_number": 34
    },
    {
     "cell_type": "markdown",
     "metadata": {},
     "source": [
      "---   \n",
      "###BiGo methratio intersect TE"
     ]
    },
    {
     "cell_type": "code",
     "collapsed": false,
     "input": [
      "!intersectbed -a /Volumes/web/cnidarian/BiGo_methratio_boop_c.gff -b /Volumes/web/trilobite/Crassostrea_gigas_v9_tracks/Cgigas_v9_TE.gff > /Volumes/web/cnidarian/BiGo_methratio_boop_intersect_TE.gff "
     ],
     "language": "python",
     "metadata": {},
     "outputs": [],
     "prompt_number": 49
    },
    {
     "cell_type": "code",
     "collapsed": false,
     "input": [
      "!head /Volumes/web/cnidarian/BiGo_methratio_boop_intersect_TE.gff"
     ],
     "language": "python",
     "metadata": {},
     "outputs": [
      {
       "output_type": "stream",
       "stream": "stdout",
       "text": [
        "C10245\tmethratio\tCpG\t55\t56\t0\t+\t.\t.\r",
        "\r\n",
        "C10245\tmethratio\tCpG\t68\t69\t0\t+\t.\t.\r",
        "\r\n",
        "C11826\tmethratio\tCpG\t76\t77\t0.2\t+\t.\t.\r",
        "\r\n",
        "C11826\tmethratio\tCpG\t121\t122\t0.2\t+\t.\t.\r",
        "\r\n",
        "C11826\tmethratio\tCpG\t129\t130\t0.2\t+\t.\t.\r",
        "\r\n",
        "C11826\tmethratio\tCpG\t149\t150\t0.2\t+\t.\t.\r",
        "\r\n",
        "C11826\tmethratio\tCpG\t157\t158\t0.154\t+\t.\t.\r",
        "\r\n",
        "C13946\tmethratio\tCpG\t86\t87\t0\t+\t.\t.\r",
        "\r\n",
        "C13946\tmethratio\tCpG\t125\t126\t0\t+\t.\t.\r",
        "\r\n",
        "C13946\tmethratio\tCpG\t125\t126\t0\t+\t.\t.\r",
        "\r\n"
       ]
      }
     ],
     "prompt_number": 50
    },
    {
     "cell_type": "code",
     "collapsed": false,
     "input": [
      "from pandas import *\n",
      "\n",
      "# read data from data file into a pandas DataFrame  \n",
      "TEmr = read_table(\"/Volumes/web/cnidarian/BiGo_methratio_boop_intersect_TE.gff\", # name of the data file\n",
      "            #sep=\"\\t\", # what character separates each column?\n",
      "            #na_values=[\"\", \" \"], # what values should be considered \"blank\" values?\n",
      "            header=None)"
     ],
     "language": "python",
     "metadata": {},
     "outputs": [],
     "prompt_number": 56
    },
    {
     "cell_type": "code",
     "collapsed": false,
     "input": [
      "TEmr[5].hist(bins=50);\n",
      "#Axis limits are changed using the axis([xmin, xmax, ymin, ymax]) function.\n",
      "plt.axis([0, 1, 0, 15000]);\n",
      "plt.title('Transposable Elements');"
     ],
     "language": "python",
     "metadata": {},
     "outputs": [
      {
       "output_type": "display_data",
       "png": "[encoded data removed]"
      }
     ],
     "prompt_number": 63
    },
    {
     "cell_type": "code",
     "collapsed": false,
     "input": [
      "# pandas density plot\n",
      "TEmr[5].plot(kind='kde', linewidth=3);"
     ],
     "language": "python",
     "metadata": {},
     "outputs": [
      {
       "output_type": "display_data",
       "png": "[encoded data removed]"
      }
     ],
     "prompt_number": 58
    },
    {
     "cell_type": "markdown",
     "metadata": {},
     "source": [
      "---   \n",
      "###BiGO methration intersect intron"
     ]
    },
    {
     "cell_type": "code",
     "collapsed": false,
     "input": [
      "!intersectbed -a /Volumes/web/cnidarian/BiGo_methratio_boop_c.gff -b /Volumes/web/trilobite/Crassostrea_gigas_v9_tracks/Cgigas_v9_intron.gff > /Volumes/web/cnidarian/BiGo_methratio_boop_intersect_intron.gff "
     ],
     "language": "python",
     "metadata": {},
     "outputs": [],
     "prompt_number": 60
    },
    {
     "cell_type": "code",
     "collapsed": false,
     "input": [
      "from pandas import *\n",
      "\n",
      "# read data from data file into a pandas DataFrame  \n",
      "Intronmr = read_table(\"/Volumes/web/cnidarian/BiGo_methratio_boop_intersect_intron.gff\", # name of the data file\n",
      "            #sep=\"\\t\", # what character separates each column?\n",
      "            #na_values=[\"\", \" \"], # what values should be considered \"blank\" values?\n",
      "            header=None)"
     ],
     "language": "python",
     "metadata": {},
     "outputs": [],
     "prompt_number": 61
    },
    {
     "cell_type": "code",
     "collapsed": false,
     "input": [
      "Intronmr[5].hist(bins=50);\n",
      "#Axis limits are changed using the axis([xmin, xmax, ymin, ymax]) function.\n",
      "plt.axis([0, 1, 0, 40000]);\n",
      "plt.title('Intron');"
     ],
     "language": "python",
     "metadata": {},
     "outputs": [
      {
       "output_type": "display_data",
       "png": "[encoded data removed]"
      }
     ],
     "prompt_number": 64
    },
    {
     "cell_type": "code",
     "collapsed": false,
     "input": [
      "# pandas density plot\n",
      "Intronmr[5].plot(kind='kde', linewidth=3);"
     ],
     "language": "python",
     "metadata": {},
     "outputs": [
      {
       "output_type": "display_data",
       "png": "[encoded data removed]"
      }
     ],
     "prompt_number": "*"
    },
    {
     "cell_type": "markdown",
     "metadata": {},
     "source": [
      "---   \n",
      "###BiGO methratio intersect 'other'"
     ]
    },
    {
     "cell_type": "code",
     "collapsed": false,
     "input": [
      "!intersectbed -a /Volumes/web/cnidarian/BiGo_methratio_boop_c.gff -b /Volumes/web/trilobite/Crassostrea_gigas_v9_tracks/Cgigas_v9_COMP_gene_prom_TE.bed > /Volumes/web/cnidarian/BiGo_methratio_boop_intersect_other.gff "
     ],
     "language": "python",
     "metadata": {},
     "outputs": [],
     "prompt_number": "*"
    },
    {
     "cell_type": "code",
     "collapsed": false,
     "input": [
      "from pandas import *\n",
      "\n",
      "# read data from data file into a pandas DataFrame  \n",
      "othermr = read_table(\"/Volumes/web/cnidarian/BiGo_methratio_boop_intersect_other.gff\", # name of the data file\n",
      "            #sep=\"\\t\", # what character separates each column?\n",
      "            #na_values=[\"\", \" \"], # what values should be considered \"blank\" values?\n",
      "            header=None)"
     ],
     "language": "python",
     "metadata": {},
     "outputs": [],
     "prompt_number": "*"
    },
    {
     "cell_type": "code",
     "collapsed": false,
     "input": [
      "othermr[5].hist(bins=50);\n",
      "#Axis limits are changed using the axis([xmin, xmax, ymin, ymax]) function.\n",
      "plt.axis([0, 1, 0, 40000]);\n",
      "plt.title('Other');"
     ],
     "language": "python",
     "metadata": {},
     "outputs": [],
     "prompt_number": "*"
    },
    {
     "cell_type": "code",
     "collapsed": false,
     "input": [
      "# pandas density plot\n",
      "othermr[5].plot(kind='kde', linewidth=3);\n",
      "plt.title('Other');"
     ],
     "language": "python",
     "metadata": {},
     "outputs": [],
     "prompt_number": "*"
    },
    {
     "cell_type": "code",
     "collapsed": false,
     "input": [],
     "language": "python",
     "metadata": {},
     "outputs": []
    }
   ],
   "metadata": {}
  }
 ]
}