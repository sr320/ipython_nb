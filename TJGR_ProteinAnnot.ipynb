{
 "metadata": {
  "name": "",
  "signature": "sha256:cd58382ebde07494bf68b059b82f508398a9f24a6035fe68b6ceb76ad6501e50"
 },
 "nbformat": 3,
 "nbformat_minor": 0,
 "worksheets": [
  {
   "cells": [
    {
     "cell_type": "heading",
     "level": 1,
     "metadata": {},
     "source": [
      "Annotating the C. gigas Proteome"
     ]
    },
    {
     "cell_type": "heading",
     "level": 2,
     "metadata": {},
     "source": [
      "Swiss-Prot"
     ]
    },
    {
     "cell_type": "markdown",
     "metadata": {},
     "source": [
      "UniProt release 2013_08\n",
      "Published July 24, 2013\n",
      "\n",
      "Note that it updated about every 4 weeks\n",
      "\n",
      "current release @   \n",
      "ftp://ftp.uniprot.org/pub/databases/uniprot/current_release/knowledgebase/complete/uniprot_sprot.fasta.gz"
     ]
    },
    {
     "cell_type": "code",
     "collapsed": false,
     "input": [
      "!makeblastdb -in /Volumes/Bay3/Software/ncbi-blast-2.2.28\\+/db/uniprot_sprot.fasta -dbtype prot -out /Volumes/Bay3/Software/ncbi-blast-2.2.28\\+/db/uniprot_sprot"
     ],
     "language": "python",
     "metadata": {},
     "outputs": [
      {
       "output_type": "stream",
       "stream": "stdout",
       "text": [
        "\r\n",
        "\r\n",
        "Building a new DB, current time: 09/09/2013 08:52:57\r\n",
        "New DB name:   /Volumes/Bay3/Software/ncbi-blast-2.2.28+/db/uniprot_sprot\r\n",
        "New DB title:  /Volumes/Bay3/Software/ncbi-blast-2.2.28+/db/uniprot_sprot.fasta\r\n",
        "Sequence type: Protein\r\n",
        "Keep Linkouts: T\r\n",
        "Keep MBits: T\r\n",
        "Maximum file size: 1000000000B\r\n"
       ]
      },
      {
       "output_type": "stream",
       "stream": "stdout",
       "text": [
        "Adding sequences from FASTA; added 540732 sequences in 35.5685 seconds.\r\n"
       ]
      }
     ],
     "prompt_number": 4
    },
    {
     "cell_type": "code",
     "collapsed": false,
     "input": [
      "!blastp -query /Volumes/web/cnidarian/oyster_v9_protein.fa -db /Volumes/Bay3/Software/ncbi-blast-2.2.28\\+/db/uniprot_sprot -out /Volumes/web/cnidarian/qDOD_proteome_swissprot.txt -outfmt 6 -evalue 1E-10 -max_target_seqs 1 -num_threads 2"
     ],
     "language": "python",
     "metadata": {},
     "outputs": []
    },
    {
     "cell_type": "markdown",
     "metadata": {},
     "source": [
      "Also running on hummingbird"
     ]
    },
    {
     "cell_type": "code",
     "collapsed": false,
     "input": [
      "!head /Volumes/web/cnidarian/qDOD_proteome_swissprot.txt"
     ],
     "language": "python",
     "metadata": {},
     "outputs": [
      {
       "output_type": "stream",
       "stream": "stdout",
       "text": [
        "CGI_10000456\tsp|Q9Z223|MOC2B_MOUSE\t59.15\t142\t58\t0\t2\t143\t45\t186\t5e-60\t 190\r\n",
        "CGI_10000457\tsp|Q9BUI4|RPC3_HUMAN\t52.53\t198\t90\t1\t3\t196\t337\t534\t9e-64\t 211\r\n",
        "CGI_10000994\tsp|P95896|AMID_SULSO\t47.17\t494\t252\t4\t53\t538\t9\t501\t3e-145\t 434\r\n",
        "CGI_10000643\tsp|O00602|FCN1_HUMAN\t50.28\t179\t87\t1\t1\t179\t148\t324\t6e-54\t 180\r\n",
        "CGI_10000610\tsp|A2A690|TANC2_MOUSE\t51.85\t378\t176\t2\t2\t373\t879\t1256\t8e-122\t 393\r\n",
        "CGI_10001333\tsp|Q6P799|SYSC_RAT\t69.80\t500\t149\t2\t1\t499\t1\t499\t0.0\t 738\r\n",
        "CGI_10002404\tsp|Q01177|PLMN_RAT\t40.35\t114\t55\t2\t45\t145\t279\t392\t7e-18\t86.3\r\n",
        "CGI_10002404\tsp|Q01177|PLMN_RAT\t49.32\t73\t32\t1\t46\t113\t190\t262\t2e-15\t78.6\r\n",
        "CGI_10002404\tsp|Q01177|PLMN_RAT\t44.74\t76\t32\t3\t46\t113\t108\t181\t1e-11\t67.0\r\n",
        "CGI_10002404\tsp|Q01177|PLMN_RAT\t40.79\t76\t39\t2\t46\t115\t381\t456\t2e-11\t66.2\r\n"
       ]
      }
     ],
     "prompt_number": 8
    },
    {
     "cell_type": "code",
     "collapsed": false,
     "input": [
      "!wc /Volumes/web/cnidarian/qDOD_proteome_swissprot.txt"
     ],
     "language": "python",
     "metadata": {},
     "outputs": [
      {
       "output_type": "stream",
       "stream": "stdout",
       "text": [
        "   22033  264396 1679754 /Volumes/web/cnidarian/qDOD_proteome_swissprot.txt\r\n"
       ]
      }
     ],
     "prompt_number": 10
    },
    {
     "cell_type": "code",
     "collapsed": false,
     "input": [
      "!head /Volumes/web/cnidarian/qDOD_proteome_swissprot3.txt"
     ],
     "language": "python",
     "metadata": {},
     "outputs": [
      {
       "output_type": "stream",
       "stream": "stdout",
       "text": [
        "CGI_10000456\tsp|Q9Z223|MOC2B_MOUSE\t59.15\t142\t58\t0\t2\t143\t45\t186\t5e-60\t 190\r\n",
        "CGI_10000457\tsp|Q9BUI4|RPC3_HUMAN\t52.53\t198\t90\t1\t3\t196\t337\t534\t9e-64\t 211\r\n",
        "CGI_10000994\tsp|P95896|AMID_SULSO\t47.17\t494\t252\t4\t53\t538\t9\t501\t3e-145\t 434\r\n",
        "CGI_10000643\tsp|O00602|FCN1_HUMAN\t50.28\t179\t87\t1\t1\t179\t148\t324\t6e-54\t 180\r\n",
        "CGI_10000610\tsp|A2A690|TANC2_MOUSE\t51.85\t378\t176\t2\t2\t373\t879\t1256\t8e-122\t 393\r\n",
        "CGI_10001333\tsp|Q6P799|SYSC_RAT\t69.80\t500\t149\t2\t1\t499\t1\t499\t0.0\t 738\r\n",
        "CGI_10002404\tsp|Q01177|PLMN_RAT\t40.35\t114\t55\t2\t45\t145\t279\t392\t7e-18\t86.3\r\n",
        "CGI_10002404\tsp|Q01177|PLMN_RAT\t49.32\t73\t32\t1\t46\t113\t190\t262\t2e-15\t78.6\r\n",
        "CGI_10002404\tsp|Q01177|PLMN_RAT\t44.74\t76\t32\t3\t46\t113\t108\t181\t1e-11\t67.0\r\n",
        "CGI_10002404\tsp|Q01177|PLMN_RAT\t40.79\t76\t39\t2\t46\t115\t381\t456\t2e-11\t66.2\r\n"
       ]
      }
     ],
     "prompt_number": 11
    },
    {
     "cell_type": "heading",
     "level": 2,
     "metadata": {},
     "source": [
      "String"
     ]
    },
    {
     "cell_type": "markdown",
     "metadata": {},
     "source": [
      "Download and inspect data"
     ]
    },
    {
     "cell_type": "markdown",
     "metadata": {},
     "source": [
      "<img src=\"http://eagle.fish.washington.edu/cnidarian/skitch/Downloads_STRING__functional_protein_association_networks_17DBA6A3.png\" alt=\"Downloads_STRING__functional_protein_association_networks_17DBA6A3.png\" width=50%\n",
      "/>"
     ]
    },
    {
     "cell_type": "markdown",
     "metadata": {},
     "source": [
      "<http://eagle.fish.washington.edu/whale/index.php?dir=String%2F>"
     ]
    },
    {
     "cell_type": "code",
     "collapsed": false,
     "input": [
      "!makeblastdb -in /Volumes/web/whale/String/protein.sequences.v9.05.fa -dbtype prot -out /Volumes/web/whale/String/string_protein_v9"
     ],
     "language": "python",
     "metadata": {},
     "outputs": [
      {
       "output_type": "stream",
       "stream": "stdout",
       "text": [
        "\r\n",
        "\r\n",
        "Building a new DB, current time: 09/11/2013 07:04:03\r\n",
        "New DB name:   /Volumes/web/whale/String/string_protein_v9\r\n",
        "New DB title:  /Volumes/web/whale/String/protein.sequences.v9.05.fa\r\n",
        "Sequence type: Protein\r\n",
        "Keep Linkouts: T\r\n",
        "Keep MBits: T\r\n",
        "Maximum file size: 1000000000B\r\n"
       ]
      },
      {
       "output_type": "stream",
       "stream": "stdout",
       "text": [
        "Adding sequences from FASTA; added 5214234 sequences in 840.513 seconds.\r\n"
       ]
      }
     ],
     "prompt_number": 13
    },
    {
     "cell_type": "code",
     "collapsed": false,
     "input": [
      "!blastp -query /Volumes/web/cnidarian/oyster_v9_protein.fa -db /Volumes/web/whale/String/string_protein_v9 -out /Volumes/web/cnidarian/qDOD_proteome_string.txt -outfmt 6 -evalue 1E-10 -max_target_seqs 1 -num_threads 2"
     ],
     "language": "python",
     "metadata": {},
     "outputs": [],
     "prompt_number": "*"
    },
    {
     "cell_type": "raw",
     "metadata": {},
     "source": [
      "#also run on hummingbird\n",
      "./blastp -query /Volumes/web/cnidarian/oyster_v9_protein.fa -db /Volumes/web/whale/String/string_protein_v9 -out /Volumes/web/cnidarian/qDOD_proteome_string3.txt -outfmt 6 -evalue 1E-10 -max_target_seqs 1 -num_threads 14"
     ]
    },
    {
     "cell_type": "code",
     "collapsed": false,
     "input": [
      "#output from hummingbird\n",
      "!head /Volumes/web/cnidarian/qDOD_proteome_string3.txt"
     ],
     "language": "python",
     "metadata": {},
     "outputs": [
      {
       "output_type": "stream",
       "stream": "stdout",
       "text": [
        "CGI_10000780\t45351.JGI209560\t37.60\t242\t140\t4\t206\t438\t14\t253\t2e-39\t 152\r\n",
        "CGI_10000456\t10228.JGI23075\t63.64\t143\t51\t1\t2\t144\t9\t150\t8e-61\t 193\r\n",
        "CGI_10000457\t9986.ENSOCUP00000002653\t54.45\t191\t83\t1\t3\t189\t337\t527\t4e-64\t 215\r\n",
        "CGI_10000774\t7739.JGI74119\t46.97\t66\t35\t0\t58\t123\t135\t200\t5e-13\t68.9\r\n",
        "CGI_10000994\t7739.JGI94568\t53.88\t503\t224\t4\t44\t538\t27\t529\t1e-172\t 508\r\n",
        "CGI_10000643\t7739.JGI125263\t54.75\t179\t78\t2\t1\t179\t230\t405\t2e-59\t 199\r\n",
        "CGI_10000610\t7668.XP_797470\t56.65\t376\t159\t2\t2\t373\t1529\t1904\t7e-128\t 414\r\n",
        "CGI_10000846\t7668.XP_001191243\t43.43\t99\t53\t2\t33\t131\t240\t335\t1e-13\t74.7\r\n",
        "CGI_10001568\t7668.XP_001178224\t24.11\t896\t498\t28\t8\t824\t8\t800\t2e-28\t 130\r\n",
        "CGI_10001333\t7070.XP_968460\t73.08\t494\t132\t1\t1\t493\t1\t494\t0.0\t 763\r\n"
       ]
      }
     ],
     "prompt_number": 17
    },
    {
     "cell_type": "code",
     "collapsed": false,
     "input": [
      "!wc /Volumes/web/cnidarian/qDOD_proteome_string3.txt"
     ],
     "language": "python",
     "metadata": {},
     "outputs": [
      {
       "output_type": "stream",
       "stream": "stdout",
       "text": [
        "   24246  290952 1762519 /Volumes/web/cnidarian/qDOD_proteome_string3.txt\r\n"
       ]
      }
     ],
     "prompt_number": 1
    },
    {
     "cell_type": "heading",
     "level": 2,
     "metadata": {},
     "source": [
      "Mouse Uniprot Reference"
     ]
    },
    {
     "cell_type": "code",
     "collapsed": false,
     "input": [
      "!makeblastdb -in /Volumes/Bay3/Software/ncbi-blast-2.2.29\\+/db/uniprot-mouse-reference.fasta -dbtype prot -out /Volumes/Bay3/Software/ncbi-blast-2.2.29\\+/db/uniprot-mouse-reference"
     ],
     "language": "python",
     "metadata": {},
     "outputs": [
      {
       "output_type": "stream",
       "stream": "stdout",
       "text": [
        "\r\n",
        "\r\n",
        "Building a new DB, current time: 01/23/2014 08:23:45\r\n",
        "New DB name:   /Volumes/Bay3/Software/ncbi-blast-2.2.29+/db/uniprot-mouse-reference\r\n",
        "New DB title:  /Volumes/Bay3/Software/ncbi-blast-2.2.29+/db/uniprot-mouse-reference.fasta\r\n",
        "Sequence type: Protein\r\n",
        "Keep Linkouts: T\r\n",
        "Keep MBits: T\r\n",
        "Maximum file size: 1000000000B\r\n"
       ]
      },
      {
       "output_type": "stream",
       "stream": "stdout",
       "text": [
        "Adding sequences from FASTA; added 43156 sequences in 2.99319 seconds.\r\n"
       ]
      }
     ],
     "prompt_number": 14
    },
    {
     "cell_type": "code",
     "collapsed": false,
     "input": [
      "!blastp -query /Volumes/web/cnidarian/oyster_v9_protein.fa -db /Volumes/Bay3/Software/ncbi-blast-2.2.29\\+/db/uniprot-mouse-reference -outfmt 6 -evalue 1E-05 -max_hsps_per_subject 1 -max_target_seqs 1 -num_threads 3 -out /Volumes/web/cnidarian/qdod_proteome_blastp.txt"
     ],
     "language": "python",
     "metadata": {},
     "outputs": [
      {
       "output_type": "stream",
       "stream": "stdout",
       "text": [
        "Selenocysteine (U) at position 47 replaced by X\r\n",
        "Selenocysteine (U) at position 40 replaced by X\r\n",
        "Selenocysteine (U) at position 73 replaced by X\r\n",
        "Selenocysteine (U) at position 73 replaced by X\r\n",
        "Selenocysteine (U) at position 129 replaced by X\r\n",
        "Selenocysteine (U) at position 129 replaced by X\r\n"
       ]
      },
      {
       "output_type": "stream",
       "stream": "stdout",
       "text": [
        "Selenocysteine (U) at position 612 replaced by X\r\n",
        "Selenocysteine (U) at position 651 replaced by X\r\n",
        "Selenocysteine (U) at position 523 replaced by X\r\n"
       ]
      },
      {
       "output_type": "stream",
       "stream": "stdout",
       "text": [
        "Selenocysteine (U) at position 126 replaced by X\r\n",
        "Selenocysteine (U) at position 144 replaced by X\r\n",
        "Selenocysteine (U) at position 130 replaced by X\r\n",
        "Selenocysteine (U) at position 263 replaced by X\r\n"
       ]
      },
      {
       "output_type": "stream",
       "stream": "stdout",
       "text": [
        "Selenocysteine (U) at position 388 replaced by X\r\n"
       ]
      },
      {
       "output_type": "stream",
       "stream": "stdout",
       "text": [
        "Selenocysteine (U) at position 73 replaced by X\r\n",
        "Selenocysteine (U) at position 129 replaced by X\r\n",
        "Selenocysteine (U) at position 129 replaced by X\r\n",
        "Selenocysteine (U) at position 73 replaced by X\r\n",
        "Selenocysteine (U) at position 47 replaced by X\r\n",
        "Selenocysteine (U) at position 40 replaced by X\r\n"
       ]
      },
      {
       "output_type": "stream",
       "stream": "stdout",
       "text": [
        "Selenocysteine (U) at position 95 replaced by X\r\n"
       ]
      },
      {
       "output_type": "stream",
       "stream": "stdout",
       "text": [
        "Selenocysteine (U) at position 73 replaced by X\r\n",
        "Selenocysteine (U) at position 40 replaced by X\r\n",
        "Selenocysteine (U) at position 47 replaced by X\r\n",
        "Selenocysteine (U) at position 73 replaced by X\r\n",
        "Selenocysteine (U) at position 129 replaced by X\r\n",
        "Selenocysteine (U) at position 129 replaced by X\r\n"
       ]
      },
      {
       "output_type": "stream",
       "stream": "stdout",
       "text": [
        "Selenocysteine (U) at position 73 replaced by X\r\n",
        "Selenocysteine (U) at position 129 replaced by X\r\n",
        "Selenocysteine (U) at position 129 replaced by X\r\n",
        "Selenocysteine (U) at position 40 replaced by X\r\n",
        "Selenocysteine (U) at position 47 replaced by X\r\n",
        "Selenocysteine (U) at position 73 replaced by X\r\n"
       ]
      },
      {
       "output_type": "stream",
       "stream": "stdout",
       "text": [
        "Selenocysteine (U) at position 388 replaced by X\r\n"
       ]
      },
      {
       "output_type": "stream",
       "stream": "stdout",
       "text": [
        "Selenocysteine (U) at position 95 replaced by X\r\n"
       ]
      },
      {
       "output_type": "stream",
       "stream": "stdout",
       "text": [
        "Selenocysteine (U) at position 63 replaced by X\r\n"
       ]
      },
      {
       "output_type": "stream",
       "stream": "stdout",
       "text": [
        "Selenocysteine (U) at position 144 replaced by X\r\n",
        "Selenocysteine (U) at position 144 replaced by X\r\n",
        "Selenocysteine (U) at position 130 replaced by X\r\n",
        "Selenocysteine (U) at position 263 replaced by X\r\n",
        "Selenocysteine (U) at position 126 replaced by X\r\n"
       ]
      },
      {
       "output_type": "stream",
       "stream": "stdout",
       "text": [
        "Selenocysteine (U) at position 612 replaced by X\r\n",
        "Selenocysteine (U) at position 651 replaced by X\r\n"
       ]
      },
      {
       "output_type": "stream",
       "stream": "stdout",
       "text": [
        "Selenocysteine (U) at position 523 replaced by X\r\n"
       ]
      },
      {
       "output_type": "stream",
       "stream": "stdout",
       "text": [
        "Selenocysteine (U) at position 651 replaced by X\r\n",
        "Selenocysteine (U) at position 651 replaced by X\r\n"
       ]
      },
      {
       "output_type": "stream",
       "stream": "stdout",
       "text": [
        "Selenocysteine (U) at position 665 replaced by X\r\n"
       ]
      },
      {
       "output_type": "stream",
       "stream": "stdout",
       "text": [
        "Selenocysteine (U) at position 665 replaced by X\r\n"
       ]
      },
      {
       "output_type": "stream",
       "stream": "stdout",
       "text": [
        "Selenocysteine (U) at position 255 replaced by X\r\n"
       ]
      },
      {
       "output_type": "stream",
       "stream": "stdout",
       "text": [
        "Selenocysteine (U) at position 47 replaced by X\r\n",
        "Selenocysteine (U) at position 40 replaced by X\r\n",
        "Selenocysteine (U) at position 73 replaced by X\r\n",
        "Selenocysteine (U) at position 73 replaced by X\r\n",
        "Selenocysteine (U) at position 129 replaced by X\r\n",
        "Selenocysteine (U) at position 129 replaced by X\r\n"
       ]
      },
      {
       "output_type": "stream",
       "stream": "stdout",
       "text": [
        "Selenocysteine (U) at position 63 replaced by X\r\n"
       ]
      },
      {
       "output_type": "stream",
       "stream": "stdout",
       "text": [
        "Selenocysteine (U) at position 189 replaced by X\r\n"
       ]
      },
      {
       "output_type": "stream",
       "stream": "stdout",
       "text": [
        "Selenocysteine (U) at position 523 replaced by X\r\n",
        "Selenocysteine (U) at position 612 replaced by X\r\n",
        "Selenocysteine (U) at position 651 replaced by X\r\n"
       ]
      },
      {
       "output_type": "stream",
       "stream": "stdout",
       "text": [
        "Selenocysteine (U) at position 523 replaced by X\r\n",
        "Selenocysteine (U) at position 612 replaced by X\r\n",
        "Selenocysteine (U) at position 651 replaced by X\r\n"
       ]
      },
      {
       "output_type": "stream",
       "stream": "stdout",
       "text": [
        "Selenocysteine (U) at position 38 replaced by X\r\n"
       ]
      },
      {
       "output_type": "stream",
       "stream": "stdout",
       "text": [
        "Selenocysteine (U) at position 388 replaced by X\r\n"
       ]
      },
      {
       "output_type": "stream",
       "stream": "stdout",
       "text": [
        "Selenocysteine (U) at position 651 replaced by X\r\n"
       ]
      },
      {
       "output_type": "stream",
       "stream": "stdout",
       "text": [
        "Selenocysteine (U) at position 73 replaced by X\r\n",
        "Selenocysteine (U) at position 47 replaced by X\r\n",
        "Selenocysteine (U) at position 40 replaced by X\r\n",
        "Selenocysteine (U) at position 73 replaced by X\r\n",
        "Selenocysteine (U) at position 129 replaced by X\r\n",
        "Selenocysteine (U) at position 129 replaced by X\r\n"
       ]
      },
      {
       "output_type": "stream",
       "stream": "stdout",
       "text": [
        "Selenocysteine (U) at position 651 replaced by X\r\n",
        "Selenocysteine (U) at position 523 replaced by X\r\n"
       ]
      },
      {
       "output_type": "stream",
       "stream": "stdout",
       "text": [
        "Selenocysteine (U) at position 651 replaced by X\r\n"
       ]
      },
      {
       "output_type": "stream",
       "stream": "stdout",
       "text": [
        "Selenocysteine (U) at position 95 replaced by X\r\n"
       ]
      },
      {
       "output_type": "stream",
       "stream": "stdout",
       "text": [
        "Selenocysteine (U) at position 651 replaced by X\r\n"
       ]
      },
      {
       "output_type": "stream",
       "stream": "stdout",
       "text": [
        "Selenocysteine (U) at position 523 replaced by X\r\n",
        "Selenocysteine (U) at position 651 replaced by X\r\n",
        "Selenocysteine (U) at position 612 replaced by X\r\n"
       ]
      },
      {
       "output_type": "stream",
       "stream": "stdout",
       "text": [
        "Selenocysteine (U) at position 73 replaced by X\r\n",
        "Selenocysteine (U) at position 47 replaced by X\r\n",
        "Selenocysteine (U) at position 40 replaced by X\r\n",
        "Selenocysteine (U) at position 73 replaced by X\r\n",
        "Selenocysteine (U) at position 129 replaced by X\r\n",
        "Selenocysteine (U) at position 129 replaced by X\r\n",
        "Selenocysteine (U) at position 73 replaced by X\r\n",
        "Selenocysteine (U) at position 47 replaced by X\r\n",
        "Selenocysteine (U) at position 40 replaced by X\r\n",
        "Selenocysteine (U) at position 73 replaced by X\r\n",
        "Selenocysteine (U) at position 129 replaced by X\r\n",
        "Selenocysteine (U) at position 129 replaced by X\r\n"
       ]
      }
     ],
     "prompt_number": 16
    },
    {
     "cell_type": "code",
     "collapsed": false,
     "input": [
      "!wc /Volumes/web/cnidarian/qdod_proteome_blastp.txt"
     ],
     "language": "python",
     "metadata": {},
     "outputs": [
      {
       "output_type": "stream",
       "stream": "stdout",
       "text": [
        "   26742  320904 2057200 /Volumes/web/cnidarian/qdod_proteome_blastp.txt\r\n"
       ]
      }
     ],
     "prompt_number": 19
    },
    {
     "cell_type": "code",
     "collapsed": false,
     "input": [
      "#Translate pipes to tab so SPID is in separate column for Joining\n",
      "!tr '|' \"\\t\" </Volumes/web/cnidarian/qdod_proteome_blastp.txt> /Volumes/web/cnidarian/qdod_proteome_blastp2.txt"
     ],
     "language": "python",
     "metadata": {},
     "outputs": [],
     "prompt_number": 20
    },
    {
     "cell_type": "code",
     "collapsed": false,
     "input": [
      "!head /Volumes/web/cnidarian/qdod_proteome_blastp2.txt"
     ],
     "language": "python",
     "metadata": {},
     "outputs": [
      {
       "output_type": "stream",
       "stream": "stdout",
       "text": [
        "CGI_10000456\tsp\tQ9Z223\tMOC2B_MOUSE\t59.15\t142\t58\t0\t2\t143\t45\t186\t5e-61\t 190\r\n",
        "CGI_10000457\tsp\tQ9D483\tRPC3_MOUSE\t52.53\t198\t90\t1\t3\t196\t336\t533\t2e-64\t 211\r\n",
        "CGI_10000861\ttr\tD3Z742\tD3Z742_MOUSE\t28.19\t149\t99\t4\t173\t320\t244\t385\t3e-11\t66.6\r\n",
        "CGI_10000994\tsp\tQ9CZN8\tGATA_MOUSE\t29.32\t440\t281\t10\t121\t538\t61\t492\t6e-41\t 156\r\n",
        "CGI_10000643\tsp\tO70497\tFCN2_MOUSE\t49.72\t181\t89\t2\t1\t181\t136\t314\t1e-54\t 179\r\n",
        "CGI_10000610\tsp\tA2A690\tTANC2_MOUSE\t51.85\t378\t176\t2\t2\t373\t879\t1256\t8e-123\t 393\r\n",
        "CGI_10001333\tsp\tP26638\tSYSC_MOUSE\t70.34\t499\t146\t2\t1\t498\t1\t498\t0.0\t 736\r\n",
        "CGI_10002404\tsp\tP20918\tPLMN_MOUSE\t52.70\t74\t30\t1\t45\t113\t279\t352\t1e-17\t82.4\r\n",
        "CGI_10002404\tsp\tP20918\tPLMN_MOUSE\t50.68\t73\t31\t1\t46\t113\t190\t262\t1e-16\t79.3\r\n",
        "CGI_10002404\tsp\tP20918\tPLMN_MOUSE\t39.58\t96\t49\t3\t26\t115\t364\t456\t3e-14\t72.0\r\n"
       ]
      }
     ],
     "prompt_number": 21
    },
    {
     "cell_type": "markdown",
     "metadata": {},
     "source": [
      "url: `http://eagle.fish.washington.edu/cnidarian/qdod_proteome_blastp2.txt`"
     ]
    },
    {
     "cell_type": "code",
     "collapsed": false,
     "input": [
      "!python /Users/sr320/sqlshare-pythonclient/tools/singleupload.py -d qdod_proteome_blast_mouse /Volumes/web/cnidarian/qdod_proteome_blastp2.txt"
     ],
     "language": "python",
     "metadata": {},
     "outputs": [
      {
       "output_type": "stream",
       "stream": "stdout",
       "text": [
        "processing chunk line 0 to 26742 (0.0200278759003 s elapsed)\r\n",
        "pushing /Volumes/web/cnidarian/qdod_proteome_blastp2.txt...\r\n"
       ]
      },
      {
       "output_type": "stream",
       "stream": "stdout",
       "text": [
        "parsing 441CF2CA...\r\n"
       ]
      },
      {
       "output_type": "stream",
       "stream": "stdout",
       "text": [
        "finished qdod_proteome_blast_mouse\r\n"
       ]
      }
     ],
     "prompt_number": 23
    },
    {
     "cell_type": "heading",
     "level": 3,
     "metadata": {},
     "source": [
      "In SQLShare!"
     ]
    },
    {
     "cell_type": "code",
     "collapsed": false,
     "input": [],
     "language": "python",
     "metadata": {},
     "outputs": []
    }
   ],
   "metadata": {}
  }
 ]
}