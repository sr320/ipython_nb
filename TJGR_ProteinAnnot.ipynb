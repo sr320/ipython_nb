{
 "metadata": {
  "name": ""
 },
 "nbformat": 3,
 "nbformat_minor": 0,
 "worksheets": [
  {
   "cells": [
    {
     "cell_type": "heading",
     "level": 1,
     "metadata": {},
     "source": [
      "Annotating the C. gigas Proteome"
     ]
    },
    {
     "cell_type": "heading",
     "level": 2,
     "metadata": {},
     "source": [
      "Swiss-Prot"
     ]
    },
    {
     "cell_type": "markdown",
     "metadata": {},
     "source": [
      "UniProt release 2013_08\n",
      "Published July 24, 2013\n",
      "\n",
      "Note that it updated about every 4 weeks\n",
      "\n",
      "current release @ ftp://ftp.uniprot.org/pub/databases/uniprot/current_release/knowledgebase/complete/uniprot_sprot.fasta.gz"
     ]
    },
    {
     "cell_type": "code",
     "collapsed": false,
     "input": [
      "!makeblastdb -in /Volumes/Bay3/Software/ncbi-blast-2.2.28\\+/db/uniprot_sprot.fasta -dbtype prot -out /Volumes/Bay3/Software/ncbi-blast-2.2.28\\+/db/uniprot_sprot"
     ],
     "language": "python",
     "metadata": {},
     "outputs": [
      {
       "output_type": "stream",
       "stream": "stdout",
       "text": [
        "\r\n",
        "\r\n",
        "Building a new DB, current time: 09/09/2013 08:52:57\r\n",
        "New DB name:   /Volumes/Bay3/Software/ncbi-blast-2.2.28+/db/uniprot_sprot\r\n",
        "New DB title:  /Volumes/Bay3/Software/ncbi-blast-2.2.28+/db/uniprot_sprot.fasta\r\n",
        "Sequence type: Protein\r\n",
        "Keep Linkouts: T\r\n",
        "Keep MBits: T\r\n",
        "Maximum file size: 1000000000B\r\n"
       ]
      },
      {
       "output_type": "stream",
       "stream": "stdout",
       "text": [
        "Adding sequences from FASTA; added 540732 sequences in 35.5685 seconds.\r\n"
       ]
      }
     ],
     "prompt_number": 4
    },
    {
     "cell_type": "code",
     "collapsed": false,
     "input": [
      "!blastp -query /Volumes/web/cnidarian/oyster_v9_protein.fa -db /Volumes/Bay3/Software/ncbi-blast-2.2.28\\+/db/uniprot_sprot -out /Volumes/web/cnidarian/qDOD_proteome_swissprot.txt -outfmt 6 -evalue 1E-10 -max_target_seqs 1 -num_threads 2"
     ],
     "language": "python",
     "metadata": {},
     "outputs": []
    },
    {
     "cell_type": "markdown",
     "metadata": {},
     "source": [
      "Also running on hummingbird"
     ]
    },
    {
     "cell_type": "code",
     "collapsed": false,
     "input": [
      "!head /Volumes/web/cnidarian/qDOD_proteome_swissprot.txt"
     ],
     "language": "python",
     "metadata": {},
     "outputs": [
      {
       "output_type": "stream",
       "stream": "stdout",
       "text": [
        "CGI_10000456\tsp|Q9Z223|MOC2B_MOUSE\t59.15\t142\t58\t0\t2\t143\t45\t186\t5e-60\t 190\r\n",
        "CGI_10000457\tsp|Q9BUI4|RPC3_HUMAN\t52.53\t198\t90\t1\t3\t196\t337\t534\t9e-64\t 211\r\n",
        "CGI_10000994\tsp|P95896|AMID_SULSO\t47.17\t494\t252\t4\t53\t538\t9\t501\t3e-145\t 434\r\n",
        "CGI_10000643\tsp|O00602|FCN1_HUMAN\t50.28\t179\t87\t1\t1\t179\t148\t324\t6e-54\t 180\r\n",
        "CGI_10000610\tsp|A2A690|TANC2_MOUSE\t51.85\t378\t176\t2\t2\t373\t879\t1256\t8e-122\t 393\r\n",
        "CGI_10001333\tsp|Q6P799|SYSC_RAT\t69.80\t500\t149\t2\t1\t499\t1\t499\t0.0\t 738\r\n",
        "CGI_10002404\tsp|Q01177|PLMN_RAT\t40.35\t114\t55\t2\t45\t145\t279\t392\t7e-18\t86.3\r\n",
        "CGI_10002404\tsp|Q01177|PLMN_RAT\t49.32\t73\t32\t1\t46\t113\t190\t262\t2e-15\t78.6\r\n",
        "CGI_10002404\tsp|Q01177|PLMN_RAT\t44.74\t76\t32\t3\t46\t113\t108\t181\t1e-11\t67.0\r\n",
        "CGI_10002404\tsp|Q01177|PLMN_RAT\t40.79\t76\t39\t2\t46\t115\t381\t456\t2e-11\t66.2\r\n"
       ]
      }
     ],
     "prompt_number": 8
    },
    {
     "cell_type": "code",
     "collapsed": false,
     "input": [
      "!wc /Volumes/web/cnidarian/qDOD_proteome_swissprot.txt"
     ],
     "language": "python",
     "metadata": {},
     "outputs": [
      {
       "output_type": "stream",
       "stream": "stdout",
       "text": [
        "   22033  264396 1679754 /Volumes/web/cnidarian/qDOD_proteome_swissprot.txt\r\n"
       ]
      }
     ],
     "prompt_number": 10
    },
    {
     "cell_type": "code",
     "collapsed": false,
     "input": [
      "!head /Volumes/web/cnidarian/qDOD_proteome_swissprot3.txt"
     ],
     "language": "python",
     "metadata": {},
     "outputs": [
      {
       "output_type": "stream",
       "stream": "stdout",
       "text": [
        "CGI_10000456\tsp|Q9Z223|MOC2B_MOUSE\t59.15\t142\t58\t0\t2\t143\t45\t186\t5e-60\t 190\r\n",
        "CGI_10000457\tsp|Q9BUI4|RPC3_HUMAN\t52.53\t198\t90\t1\t3\t196\t337\t534\t9e-64\t 211\r\n",
        "CGI_10000994\tsp|P95896|AMID_SULSO\t47.17\t494\t252\t4\t53\t538\t9\t501\t3e-145\t 434\r\n",
        "CGI_10000643\tsp|O00602|FCN1_HUMAN\t50.28\t179\t87\t1\t1\t179\t148\t324\t6e-54\t 180\r\n",
        "CGI_10000610\tsp|A2A690|TANC2_MOUSE\t51.85\t378\t176\t2\t2\t373\t879\t1256\t8e-122\t 393\r\n",
        "CGI_10001333\tsp|Q6P799|SYSC_RAT\t69.80\t500\t149\t2\t1\t499\t1\t499\t0.0\t 738\r\n",
        "CGI_10002404\tsp|Q01177|PLMN_RAT\t40.35\t114\t55\t2\t45\t145\t279\t392\t7e-18\t86.3\r\n",
        "CGI_10002404\tsp|Q01177|PLMN_RAT\t49.32\t73\t32\t1\t46\t113\t190\t262\t2e-15\t78.6\r\n",
        "CGI_10002404\tsp|Q01177|PLMN_RAT\t44.74\t76\t32\t3\t46\t113\t108\t181\t1e-11\t67.0\r\n",
        "CGI_10002404\tsp|Q01177|PLMN_RAT\t40.79\t76\t39\t2\t46\t115\t381\t456\t2e-11\t66.2\r\n"
       ]
      }
     ],
     "prompt_number": 11
    },
    {
     "cell_type": "heading",
     "level": 2,
     "metadata": {},
     "source": [
      "String"
     ]
    },
    {
     "cell_type": "markdown",
     "metadata": {},
     "source": [
      "Download and inspect data"
     ]
    },
    {
     "cell_type": "markdown",
     "metadata": {},
     "source": [
      "<img src=\"http://eagle.fish.washington.edu/cnidarian/skitch/Downloads_STRING__functional_protein_association_networks_17DBA6A3.png\" alt=\"Downloads_STRING__functional_protein_association_networks_17DBA6A3.png\" width=50%\n",
      "/>"
     ]
    },
    {
     "cell_type": "markdown",
     "metadata": {},
     "source": [
      "<http://eagle.fish.washington.edu/whale/index.php?dir=String%2F>"
     ]
    },
    {
     "cell_type": "code",
     "collapsed": false,
     "input": [
      "!makeblastdb -in /Volumes/web/whale/String/protein.sequences.v9.05.fa -dbtype prot -out /Volumes/web/whale/String/string_protein_v9"
     ],
     "language": "python",
     "metadata": {},
     "outputs": [
      {
       "output_type": "stream",
       "stream": "stdout",
       "text": [
        "\r\n",
        "\r\n",
        "Building a new DB, current time: 09/11/2013 07:04:03\r\n",
        "New DB name:   /Volumes/web/whale/String/string_protein_v9\r\n",
        "New DB title:  /Volumes/web/whale/String/protein.sequences.v9.05.fa\r\n",
        "Sequence type: Protein\r\n",
        "Keep Linkouts: T\r\n",
        "Keep MBits: T\r\n",
        "Maximum file size: 1000000000B\r\n"
       ]
      },
      {
       "output_type": "stream",
       "stream": "stdout",
       "text": [
        "Adding sequences from FASTA; added 5214234 sequences in 840.513 seconds.\r\n"
       ]
      }
     ],
     "prompt_number": 13
    },
    {
     "cell_type": "code",
     "collapsed": false,
     "input": [
      "!blastp -help\n"
     ],
     "language": "python",
     "metadata": {},
     "outputs": [
      {
       "output_type": "stream",
       "stream": "stdout",
       "text": [
        "USAGE\r\n",
        "  blastp [-h] [-help] [-import_search_strategy filename]\r\n",
        "    [-export_search_strategy filename] [-task task_name] [-db database_name]\r\n",
        "    [-dbsize num_letters] [-gilist filename] [-seqidlist filename]\r\n",
        "    [-negative_gilist filename] [-entrez_query entrez_query]\r\n",
        "    [-db_soft_mask filtering_algorithm] [-db_hard_mask filtering_algorithm]\r\n",
        "    [-subject subject_input_file] [-subject_loc range] [-query input_file]\r\n",
        "    [-out output_file] [-evalue evalue] [-word_size int_value]\r\n",
        "    [-gapopen open_penalty] [-gapextend extend_penalty]\r\n",
        "    [-xdrop_ungap float_value] [-xdrop_gap float_value]\r\n",
        "    [-xdrop_gap_final float_value] [-searchsp int_value]\r\n",
        "    [-max_hsps_per_subject int_value] [-seg SEG_options]\r\n",
        "    [-soft_masking soft_masking] [-matrix matrix_name]\r\n",
        "    [-threshold float_value] [-culling_limit int_value]\r\n",
        "    [-best_hit_overhang float_value] [-best_hit_score_edge float_value]\r\n",
        "    [-window_size int_value] [-lcase_masking] [-query_loc range]\r\n",
        "    [-parse_deflines] [-outfmt format] [-show_gis]\r\n",
        "    [-num_descriptions int_value] [-num_alignments int_value] [-html]\r\n",
        "    [-max_target_seqs num_sequences] [-num_threads int_value] [-ungapped]\r\n",
        "    [-remote] [-comp_based_stats compo] [-use_sw_tback] [-version]\r\n",
        "\r\n",
        "DESCRIPTION\r\n",
        "   Protein-Protein BLAST 2.2.28+\r\n",
        "\r\n",
        "OPTIONAL ARGUMENTS\r\n",
        " -h\r\n",
        "   Print USAGE and DESCRIPTION;  ignore all other parameters\r\n",
        " -help\r\n",
        "   Print USAGE, DESCRIPTION and ARGUMENTS; ignore all other parameters\r\n",
        " -version\r\n",
        "   Print version number;  ignore other arguments\r\n",
        "\r\n",
        " *** Input query options\r\n",
        " -query <File_In>\r\n",
        "   Input file name\r\n",
        "   Default = `-'\r\n",
        " -query_loc <String>\r\n",
        "   Location on the query sequence in 1-based offsets (Format: start-stop)\r\n",
        "\r\n",
        " *** General search options\r\n",
        " -task <String, Permissible values: 'blastp' 'blastp-short' 'deltablast' >\r\n",
        "   Task to execute\r\n",
        "   Default = `blastp'\r\n",
        " -db <String>\r\n",
        "   BLAST database name\r\n",
        "    * Incompatible with:  subject, subject_loc\r\n",
        " -out <File_Out>\r\n",
        "   Output file name\r\n",
        "   Default = `-'\r\n",
        " -evalue <Real>\r\n",
        "   Expectation value (E) threshold for saving hits \r\n",
        "   Default = `10'\r\n",
        " -word_size <Integer, >=2>\r\n",
        "   Word size for wordfinder algorithm\r\n",
        " -gapopen <Integer>\r\n",
        "   Cost to open a gap\r\n",
        " -gapextend <Integer>\r\n",
        "   Cost to extend a gap\r\n",
        " -matrix <String>\r\n",
        "   Scoring matrix name (normally BLOSUM62)\r\n",
        " -threshold <Real, >=0>\r\n",
        "   Minimum word score such that the word is added to the BLAST lookup table\r\n",
        " -comp_based_stats <String>\r\n",
        "   Use composition-based statistics:\r\n",
        "       D or d: default (equivalent to 2 )\r\n",
        "       0 or F or f: No composition-based statistics\r\n",
        "       1: Composition-based statistics as in NAR 29:2994-3005, 2001\r\n",
        "       2 or T or t : Composition-based score adjustment as in Bioinformatics\r\n",
        "   21:902-911,\r\n",
        "       2005, conditioned on sequence properties\r\n",
        "       3: Composition-based score adjustment as in Bioinformatics 21:902-911,\r\n",
        "       2005, unconditionally\r\n",
        "   Default = `2'\r\n",
        "\r\n",
        " *** BLAST-2-Sequences options\r\n",
        " -subject <File_In>\r\n",
        "   Subject sequence(s) to search\r\n",
        "    * Incompatible with:  db, gilist, seqidlist, negative_gilist,\r\n",
        "   db_soft_mask, db_hard_mask\r\n",
        " -subject_loc <String>\r\n",
        "   Location on the subject sequence in 1-based offsets (Format: start-stop)\r\n",
        "    * Incompatible with:  db, gilist, seqidlist, negative_gilist,\r\n",
        "   db_soft_mask, db_hard_mask, remote\r\n",
        "\r\n",
        " *** Formatting options\r\n",
        " -outfmt <String>\r\n",
        "   alignment view options:\r\n",
        "     0 = pairwise,\r\n",
        "     1 = query-anchored showing identities,\r\n",
        "     2 = query-anchored no identities,\r\n",
        "     3 = flat query-anchored, show identities,\r\n",
        "     4 = flat query-anchored, no identities,\r\n",
        "     5 = XML Blast output,\r\n",
        "     6 = tabular,\r\n",
        "     7 = tabular with comment lines,\r\n",
        "     8 = Text ASN.1,\r\n",
        "     9 = Binary ASN.1,\r\n",
        "    10 = Comma-separated values,\r\n",
        "    11 = BLAST archive format (ASN.1) \r\n",
        "   \r\n",
        "   Options 6, 7, and 10 can be additionally configured to produce\r\n",
        "   a custom format specified by space delimited format specifiers.\r\n",
        "   The supported format specifiers are:\r\n",
        "   \t    qseqid means Query Seq-id\r\n",
        "   \t       qgi means Query GI\r\n",
        "   \t      qacc means Query accesion\r\n",
        "   \t   qaccver means Query accesion.version\r\n",
        "   \t      qlen means Query sequence length\r\n",
        "   \t    sseqid means Subject Seq-id\r\n",
        "   \t sallseqid means All subject Seq-id(s), separated by a ';'\r\n",
        "   \t       sgi means Subject GI\r\n",
        "   \t    sallgi means All subject GIs\r\n",
        "   \t      sacc means Subject accession\r\n",
        "   \t   saccver means Subject accession.version\r\n",
        "   \t   sallacc means All subject accessions\r\n",
        "   \t      slen means Subject sequence length\r\n",
        "   \t    qstart means Start of alignment in query\r\n",
        "   \t      qend means End of alignment in query\r\n",
        "   \t    sstart means Start of alignment in subject\r\n",
        "   \t      send means End of alignment in subject\r\n",
        "   \t      qseq means Aligned part of query sequence\r\n",
        "   \t      sseq means Aligned part of subject sequence\r\n",
        "   \t    evalue means Expect value\r\n",
        "   \t  bitscore means Bit score\r\n",
        "   \t     score means Raw score\r\n",
        "   \t    length means Alignment length\r\n",
        "   \t    pident means Percentage of identical matches\r\n",
        "   \t    nident means Number of identical matches\r\n",
        "   \t  mismatch means Number of mismatches\r\n",
        "   \t  positive means Number of positive-scoring matches\r\n",
        "   \t   gapopen means Number of gap openings\r\n",
        "   \t      gaps means Total number of gaps\r\n",
        "   \t      ppos means Percentage of positive-scoring matches\r\n",
        "   \t    frames means Query and subject frames separated by a '/'\r\n",
        "   \t    qframe means Query frame\r\n",
        "   \t    sframe means Subject frame\r\n",
        "   \t      btop means Blast traceback operations (BTOP)\r\n",
        "   \t   staxids means Subject Taxonomy ID(s), separated by a ';'\r\n",
        "   \t sscinames means Subject Scientific Name(s), separated by a ';'\r\n",
        "   \t scomnames means Subject Common Name(s), separated by a ';'\r\n",
        "   \tsblastnames means Subject Blast Name(s), separated by a ';'\r\n",
        "   \t\t\t (in alphabetical order)\r\n",
        "   \tsskingdoms means Subject Super Kingdom(s), separated by a ';'\r\n",
        "   \t\t\t (in alphabetical order) \r\n",
        "   \t    stitle means Subject Title\r\n",
        "   \tsalltitles means All Subject Title(s), separated by a '<>'\r\n",
        "   \t   sstrand means Subject Strand\r\n",
        "   \t     qcovs means Query Coverage Per Subject\r\n",
        "   \t   qcovhsp means Query Coverage Per HSP\r\n",
        "   When not provided, the default value is:\r\n",
        "   'qseqid sseqid pident length mismatch gapopen qstart qend sstart send\r\n",
        "   evalue bitscore', which is equivalent to the keyword 'std'\r\n",
        "   Default = `0'\r\n",
        " -show_gis\r\n",
        "   Show NCBI GIs in deflines?\r\n",
        " -num_descriptions <Integer, >=0>\r\n",
        "   Number of database sequences to show one-line descriptions for\r\n",
        "   Not applicable for outfmt > 4\r\n",
        "   Default = `500'\r\n",
        "    * Incompatible with:  max_target_seqs\r\n",
        " -num_alignments <Integer, >=0>\r\n",
        "   Number of database sequences to show alignments for\r\n",
        "   Default = `250'\r\n",
        "    * Incompatible with:  max_target_seqs\r\n",
        " -html\r\n",
        "   Produce HTML output?\r\n",
        "\r\n",
        " *** Query filtering options\r\n",
        " -seg <String>\r\n",
        "   Filter query sequence with SEG (Format: 'yes', 'window locut hicut', or\r\n",
        "   'no' to disable)\r\n",
        "   Default = `no'\r\n",
        " -soft_masking <Boolean>\r\n",
        "   Apply filtering locations as soft masks\r\n",
        "   Default = `false'\r\n",
        " -lcase_masking\r\n",
        "   Use lower case filtering in query and subject sequence(s)?\r\n",
        "\r\n",
        " *** Restrict search or results\r\n",
        " -gilist <String>\r\n",
        "   Restrict search of database to list of GI's\r\n",
        "    * Incompatible with:  negative_gilist, seqidlist, remote, subject,\r\n",
        "   subject_loc\r\n",
        " -seqidlist <String>\r\n",
        "   Restrict search of database to list of SeqId's\r\n",
        "    * Incompatible with:  gilist, negative_gilist, remote, subject,\r\n",
        "   subject_loc\r\n",
        " -negative_gilist <String>\r\n",
        "   Restrict search of database to everything except the listed GIs\r\n",
        "    * Incompatible with:  gilist, seqidlist, remote, subject, subject_loc\r\n",
        " -entrez_query <String>\r\n",
        "   Restrict search with the given Entrez query\r\n",
        "    * Requires:  remote\r\n",
        " -db_soft_mask <String>\r\n",
        "   Filtering algorithm ID to apply to the BLAST database as soft masking\r\n",
        "    * Incompatible with:  db_hard_mask, subject, subject_loc\r\n",
        " -db_hard_mask <String>\r\n",
        "   Filtering algorithm ID to apply to the BLAST database as hard masking\r\n",
        "    * Incompatible with:  db_soft_mask, subject, subject_loc\r\n",
        " -culling_limit <Integer, >=0>\r\n",
        "   If the query range of a hit is enveloped by that of at least this many\r\n",
        "   higher-scoring hits, delete the hit\r\n",
        "    * Incompatible with:  best_hit_overhang, best_hit_score_edge\r\n",
        " -best_hit_overhang <Real, (>=0 and =<0.5)>\r\n",
        "   Best Hit algorithm overhang value (recommended value: 0.1)\r\n",
        "    * Incompatible with:  culling_limit\r\n",
        " -best_hit_score_edge <Real, (>=0 and =<0.5)>\r\n",
        "   Best Hit algorithm score edge value (recommended value: 0.1)\r\n",
        "    * Incompatible with:  culling_limit\r\n",
        " -max_target_seqs <Integer, >=1>\r\n",
        "   Maximum number of aligned sequences to keep \r\n",
        "   Not applicable for outfmt <= 4\r\n",
        "   Default = `500'\r\n",
        "    * Incompatible with:  num_descriptions, num_alignments\r\n",
        "\r\n",
        " *** Statistical options\r\n",
        " -dbsize <Int8>\r\n",
        "   Effective length of the database \r\n",
        " -searchsp <Int8, >=0>\r\n",
        "   Effective length of the search space\r\n",
        " -max_hsps_per_subject <Integer, >=0>\r\n",
        "   Override maximum number of HSPs per subject to save for ungapped searches\r\n",
        "   (0 means do not override)\r\n",
        "   Default = `0'\r\n",
        "\r\n",
        " *** Search strategy options\r\n",
        " -import_search_strategy <File_In>\r\n",
        "   Search strategy to use\r\n",
        "    * Incompatible with:  export_search_strategy\r\n",
        " -export_search_strategy <File_Out>\r\n",
        "   File name to record the search strategy used\r\n",
        "    * Incompatible with:  import_search_strategy\r\n",
        "\r\n",
        " *** Extension options\r\n",
        " -xdrop_ungap <Real>\r\n",
        "   X-dropoff value (in bits) for ungapped extensions\r\n",
        " -xdrop_gap <Real>\r\n",
        "   X-dropoff value (in bits) for preliminary gapped extensions\r\n",
        " -xdrop_gap_final <Real>\r\n",
        "   X-dropoff value (in bits) for final gapped alignment\r\n",
        " -window_size <Integer, >=0>\r\n",
        "   Multiple hits window size, use 0 to specify 1-hit algorithm\r\n",
        " -ungapped\r\n",
        "   Perform ungapped alignment only?\r\n",
        "\r\n",
        " *** Miscellaneous options\r\n",
        " -parse_deflines\r\n",
        "   Should the query and subject defline(s) be parsed?\r\n",
        " -num_threads <Integer, >=1>\r\n",
        "   Number of threads (CPUs) to use in the BLAST search\r\n",
        "   Default = `1'\r\n",
        "    * Incompatible with:  remote\r\n",
        " -remote\r\n",
        "   Execute search remotely?\r\n",
        "    * Incompatible with:  gilist, seqidlist, negative_gilist, subject_loc,\r\n",
        "   num_threads\r\n",
        " -use_sw_tback\r\n",
        "   Compute locally optimal Smith-Waterman alignments?\r\n",
        "\r\n"
       ]
      }
     ],
     "prompt_number": 15
    },
    {
     "cell_type": "code",
     "collapsed": false,
     "input": [
      "!blastp -query /Volumes/web/cnidarian/oyster_v9_protein.fa -db /Volumes/web/whale/String/string_protein_v9 -out /Volumes/web/cnidarian/qDOD_proteome_string.txt -outfmt 6 -evalue 1E-10 -max_target_seqs 1 -num_threads 2"
     ],
     "language": "python",
     "metadata": {},
     "outputs": [],
     "prompt_number": "*"
    },
    {
     "cell_type": "raw",
     "metadata": {},
     "source": [
      "#also run on hummingbird\n",
      "./blastp -query /Volumes/web/cnidarian/oyster_v9_protein.fa -db /Volumes/web/whale/String/string_protein_v9 -out /Volumes/web/cnidarian/qDOD_proteome_string3.txt -outfmt 6 -evalue 1E-10 -max_target_seqs 1 -num_threads 14"
     ]
    }
   ],
   "metadata": {}
  }
 ]
}