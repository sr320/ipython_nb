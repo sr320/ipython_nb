{
 "metadata": {
  "name": "",
  "signature": "sha256:c0511ca7ced4ca8e44c481cbf4bbe461fbfb7434a7e83f644e2643d8baf7a41e"
 },
 "nbformat": 3,
 "nbformat_minor": 0,
 "worksheets": [
  {
   "cells": [
    {
     "cell_type": "heading",
     "level": 1,
     "metadata": {},
     "source": [
      "BSMAP-methatio-feature track\n"
     ]
    },
    {
     "cell_type": "markdown",
     "metadata": {},
     "source": [
      "Examining how to best proceed with Larvae Trial samples - which genome etc."
     ]
    },
    {
     "cell_type": "code",
     "collapsed": false,
     "input": [
      "#SR playing around with merge and mapping different genomes\n",
      "!date "
     ],
     "language": "python",
     "metadata": {},
     "outputs": [
      {
       "output_type": "stream",
       "stream": "stdout",
       "text": [
        "Fri Feb 28 15:25:57 PST 2014\r\n"
       ]
      }
     ],
     "prompt_number": 84
    },
    {
     "cell_type": "markdown",
     "metadata": {},
     "source": [
      "Summary\n",
      "```\n",
      "M1 merge + Esm =\n",
      "pairs:       3832546 (46%)\n",
      "single a:    1591687 (19%)\n",
      "single b:    1349271 (16%)\n",
      "\n",
      "M1 merge + E =\n",
      "Total number of aligned reads: \n",
      "pairs:       2340694 (28%)\n",
      "single a:    3150081 (38%)\n",
      "single b:    2811635 (34%)\n",
      "    \n",
      "M1_A8 + Esm =     \n",
      "Total number of aligned reads: \n",
      "pairs:       2597461 (47%)\n",
      "single a:    1090241 (20%)\n",
      "single b:    894626 (16%)\n",
      "\n",
      "M1_A8 + Erm =         \n",
      "Total number of aligned reads: \n",
      "pairs:       2174860 (39%)\n",
      "single a:    1168661 (21%)\n",
      "single b:    982745 (18%)    \n",
      "\n",
      "M1_A8 + E =    \n",
      "Total number of aligned reads: \n",
      "pairs:       2597461 (47%)\n",
      "single a:    1090241 (20%)\n",
      "single b:    894626 (16%)\n",
      "\n",
      "\n",
      "\n",
      "```    \n",
      "    "
     ]
    },
    {
     "cell_type": "code",
     "collapsed": false,
     "input": [
      "filename='BSMAP2view_larvae'"
     ],
     "language": "python",
     "metadata": {},
     "outputs": [],
     "prompt_number": 51
    },
    {
     "cell_type": "markdown",
     "metadata": {},
     "source": [
      "Assumptions- as with most worflows in development - a working directory is used."
     ]
    },
    {
     "cell_type": "heading",
     "level": 4,
     "metadata": {},
     "source": [
      "ipynb viewer format:"
     ]
    },
    {
     "cell_type": "code",
     "collapsed": false,
     "input": [
      "!echo 'http://nbviewer.ipython.org/github/sr320/ipython_nb/blob/master/''{filename}''.ipynb'"
     ],
     "language": "python",
     "metadata": {},
     "outputs": [
      {
       "output_type": "stream",
       "stream": "stdout",
       "text": [
        "http://nbviewer.ipython.org/github/sr320/ipython_nb/blob/master/BSMAP2view_larvae.ipynb\r\n"
       ]
      }
     ],
     "prompt_number": 52
    },
    {
     "cell_type": "heading",
     "level": 4,
     "metadata": {},
     "source": [
      "ipynb file:"
     ]
    },
    {
     "cell_type": "code",
     "collapsed": false,
     "input": [
      "#this needs fixing!\n",
      "!echo 'https://raw.github.com/sr320/ipython_nb/master/''{filename}''.ipynb'"
     ],
     "language": "python",
     "metadata": {},
     "outputs": [
      {
       "output_type": "stream",
       "stream": "stdout",
       "text": [
        "https://raw.github.com/sr320/ipython_nb/master/BSMAP2view_larvae.ipynb\r\n"
       ]
      }
     ],
     "prompt_number": 53
    },
    {
     "cell_type": "heading",
     "level": 2,
     "metadata": {},
     "source": [
      "Do some concatenates "
     ]
    },
    {
     "cell_type": "markdown",
     "metadata": {},
     "source": [
      "September is known as FCD2CA8: November Core ID FCC39EM\n",
      "\n"
     ]
    },
    {
     "cell_type": "heading",
     "level": 4,
     "metadata": {},
     "source": [
      "M1"
     ]
    },
    {
     "cell_type": "code",
     "collapsed": false,
     "input": [
      "#Will go September then Novemeber\n",
      "!cat /Volumes/web/trilobite/Crassostrea_gigas_HTSdata/batterbox/FCD2CA8_2/Sample_BS_CgM1/filtered_BS_CgM1_ACTTGA_L007_R1.fastq \\\n",
      "/Volumes/web/trilobite/Crassostrea_gigas_HTSdata/batterbox/FCC39EM_02/FCC39EM/Sample_BS_CgM1/filtered_BS_CgM1_ACTTGA_L004_R1.fastq > \\\n",
      "/Volumes/web/cnidarian/BiGo_larvae_merge/CgM1_R1a.fastq \\"
     ],
     "language": "python",
     "metadata": {},
     "outputs": [],
     "prompt_number": 11
    },
    {
     "cell_type": "code",
     "collapsed": false,
     "input": [
      "!cat /Volumes/web/trilobite/Crassostrea_gigas_HTSdata/batterbox/FCD2CA8_2/Sample_BS_CgM1/filtered_BS_CgM1_ACTTGA_L007_R2.fastq \\\n",
      "/Volumes/web/trilobite/Crassostrea_gigas_HTSdata/batterbox/FCC39EM_02/FCC39EM/Sample_BS_CgM1/filtered_BS_CgM1_ACTTGA_L004_R2.fastq > \\\n",
      "/Volumes/web/cnidarian/BiGo_larvae_merge/CgM1_R2a.fastq \\"
     ],
     "language": "python",
     "metadata": {},
     "outputs": [],
     "prompt_number": 12
    },
    {
     "cell_type": "heading",
     "level": 4,
     "metadata": {},
     "source": [
      "M3"
     ]
    },
    {
     "cell_type": "code",
     "collapsed": false,
     "input": [
      "R1_A8=\"/Volumes/web/trilobite/Crassostrea_gigas_HTSdata/batterbox/FCD2CA8_2/Sample_BS_CgM3/filtered_BS_CgM3_GATCAG_L007_R1.fastq\"\n",
      "R1_EM=\"/Volumes/web/trilobite/Crassostrea_gigas_HTSdata/batterbox/FCC39EM_02/FCC39EM/Sample_BS_CgM3/filtered_BS_CgM3_GATCAG_L004_R1.fastq\""
     ],
     "language": "python",
     "metadata": {},
     "outputs": [],
     "prompt_number": 2
    },
    {
     "cell_type": "code",
     "collapsed": false,
     "input": [
      "!cat {R1_A8} \\\n",
      "{R1_EM} > \\\n",
      "/Volumes/web/cnidarian/BiGo_larvae_merge/CgM3_R1a.fastq \\"
     ],
     "language": "python",
     "metadata": {},
     "outputs": [
      {
       "output_type": "stream",
       "stream": "stdout",
       "text": [
        "^C\r\n"
       ]
      }
     ],
     "prompt_number": 4
    },
    {
     "cell_type": "code",
     "collapsed": false,
     "input": [
      "!cat /Volumes/web/trilobite/Crassostrea_gigas_HTSdata/batterbox/FCD2CA8_2/Sample_BS_CgM1/filtered_BS_CgM1_ACTTGA_L007_R2.fastq \\\n",
      "/Volumes/web/trilobite/Crassostrea_gigas_HTSdata/batterbox/FCC39EM_02/FCC39EM/Sample_BS_CgM1/filtered_BS_CgM1_ACTTGA_L004_R2.fastq > \\\n",
      "/Volumes/web/cnidarian/BiGo_larvae_merge/CgM1_R2a.fastq \\"
     ],
     "language": "python",
     "metadata": {},
     "outputs": []
    },
    {
     "cell_type": "heading",
     "level": 2,
     "metadata": {},
     "source": [
      "BSMAP"
     ]
    },
    {
     "cell_type": "heading",
     "level": 3,
     "metadata": {},
     "source": [
      "Setting Variables"
     ]
    },
    {
     "cell_type": "code",
     "collapsed": false,
     "input": [
      "#file ID\n",
      "fid=\"CgM1\"\n",
      "\n",
      "#TIMESTAMP\n",
      "date=!date +%m%d_%H%M\n",
      "\n",
      "#working directory (parent)\n",
      "wd=\"/Volumes/web/cnidarian/BiGo_larvae_merge/\"\n",
      "\n",
      "#where is bsmap\n",
      "#bsmap=\"/Users/Shared/Apps/bsmap-2.73/\"\n",
      "bsmap=\"/Volumes/Bay3/Software/BSMAP/bsmap-2.74/\"\n",
      "\n",
      "#fastq files location R1 location\n",
      "R1=\"/Volumes/web/cnidarian/BiGo_larvae_merge/CgM1_R1a.fastq\"\n",
      "\n",
      "#fastq files location R2 location\n",
      "#comment out if SE\n",
      "R2=\"/Volumes/web/cnidarian/BiGo_larvae_merge/CgM1_R2a.fastq\"\n",
      "\n",
      "#genome file \n",
      "genome=\"/Volumes/web/whale/ensembl/ftp.ensemblgenomes.org/pub/release-21/metazoa/fasta/crassostrea_gigas/dna/Crassostrea_gigas.GCA_000297895.1.21.dna_sm.genome.fa\""
     ],
     "language": "python",
     "metadata": {},
     "outputs": [],
     "prompt_number": 29
    },
    {
     "cell_type": "code",
     "collapsed": false,
     "input": [
      "cd {wd} "
     ],
     "language": "python",
     "metadata": {},
     "outputs": [
      {
       "output_type": "stream",
       "stream": "stdout",
       "text": [
        "/Volumes/web/cnidarian/BiGo_larvae_merge\n"
       ]
      }
     ],
     "prompt_number": 34
    },
    {
     "cell_type": "code",
     "collapsed": false,
     "input": [
      "mkdir {fid}_{date}  \n"
     ],
     "language": "python",
     "metadata": {},
     "outputs": [],
     "prompt_number": 40
    },
    {
     "cell_type": "code",
     "collapsed": false,
     "input": [
      "cd {fid}_{date} "
     ],
     "language": "python",
     "metadata": {},
     "outputs": [
      {
       "output_type": "stream",
       "stream": "stdout",
       "text": [
        "/Volumes/web/cnidarian/BiGo_larvae_merge/CgM1_[0228_0652]\n"
       ]
      }
     ],
     "prompt_number": 41
    },
    {
     "cell_type": "code",
     "collapsed": false,
     "input": [
      "#option - number of processes \n",
      "!{bsmap}bsmap -a {R1} -b {R2} -d {genome} -o bsmap_out.sam -p 1"
     ],
     "language": "python",
     "metadata": {},
     "outputs": [
      {
       "output_type": "stream",
       "stream": "stdout",
       "text": [
        "\r\n",
        "BSMAP v2.74\r\n",
        "Start at:  Fri Feb 28 06:55:11 2014\r\n",
        "\r\n",
        "Input reference file: /Volumes/web/whale/ensembl/ftp.ensemblgenomes.org/pub/release-21/metazoa/fasta/crassostrea_gigas/dna/Crassostrea_gigas.GCA_000297895.1.21.dna_sm.genome.fa"
       ]
      },
      {
       "output_type": "stream",
       "stream": "stdout",
       "text": [
        " \t(format: FASTA)\r\n"
       ]
      },
      {
       "output_type": "stream",
       "stream": "stdout",
       "text": [
        "Load in 7658 db seqs, total size 557717710 bp. 22 secs passed\r\n",
        "total_kmers: 43046721\r\n"
       ]
      },
      {
       "output_type": "stream",
       "stream": "stdout",
       "text": [
        "Create seed table. 75 secs passed\r\n",
        "max number of mismatches: read_length * 8% \tmax gap size: 0\r\n",
        "kmer cut-off ratio: 5e-07\r\n",
        "max multi-hits: 100\tmax Ns: 5\tseed size: 16\tindex interval: 4\r\n",
        "quality cutoff: 0\tbase quality char: '!'\r\n",
        "min fragment size:28\tmax fragemt size:500\r\n",
        "start from read #1\tend at read #4294967295\r\n",
        "additional alignment: T in reads => C in reference\r\n",
        "mapping strand (read_1): ++,-+\r\n",
        "mapping strand (read_2): +-,--\r\n",
        "Pair-end alignment(1 threads)\r\n",
        "Input read file #1: /Volumes/web/cnidarian/BiGo_larvae_merge/CgM1_R1a.fastq \t(format: FASTQ)\r\n",
        "Input read file #2: /Volumes/web/cnidarian/BiGo_larvae_merge/CgM1_R2a.fastq \t(format: FASTQ)\r\n",
        "Output file: bsmap_out.sam\t (format: SAM)\r\n"
       ]
      },
      {
       "output_type": "stream",
       "stream": "stdout",
       "text": [
        "Thread #0: \t50000 read pairs finished. 99 secs passed\r\n"
       ]
      },
      {
       "output_type": "stream",
       "stream": "stdout",
       "text": [
        "Thread #0: \t100000 read pairs finished. 123 secs passed\r\n"
       ]
      },
      {
       "output_type": "stream",
       "stream": "stdout",
       "text": [
        "Thread #0: \t150000 read pairs finished. 155 secs passed\r\n"
       ]
      },
      {
       "output_type": "stream",
       "stream": "stdout",
       "text": [
        "Thread #0: \t200000 read pairs finished. 187 secs passed\r\n"
       ]
      },
      {
       "output_type": "stream",
       "stream": "stdout",
       "text": [
        "Thread #0: \t250000 read pairs finished. 225 secs passed\r\n"
       ]
      },
      {
       "output_type": "stream",
       "stream": "stdout",
       "text": [
        "Thread #0: \t300000 read pairs finished. 250 secs passed\r\n"
       ]
      },
      {
       "output_type": "stream",
       "stream": "stdout",
       "text": [
        "Thread #0: \t350000 read pairs finished. 272 secs passed\r\n"
       ]
      },
      {
       "output_type": "stream",
       "stream": "stdout",
       "text": [
        "Thread #0: \t400000 read pairs finished. 293 secs passed\r\n"
       ]
      },
      {
       "output_type": "stream",
       "stream": "stdout",
       "text": [
        "Thread #0: \t450000 read pairs finished. 314 secs passed\r\n"
       ]
      },
      {
       "output_type": "stream",
       "stream": "stdout",
       "text": [
        "Thread #0: \t500000 read pairs finished. 336 secs passed\r\n"
       ]
      },
      {
       "output_type": "stream",
       "stream": "stdout",
       "text": [
        "Thread #0: \t550000 read pairs finished. 357 secs passed\r\n"
       ]
      },
      {
       "output_type": "stream",
       "stream": "stdout",
       "text": [
        "Thread #0: \t600000 read pairs finished. 384 secs passed\r\n"
       ]
      },
      {
       "output_type": "stream",
       "stream": "stdout",
       "text": [
        "Thread #0: \t650000 read pairs finished. 409 secs passed\r\n"
       ]
      },
      {
       "output_type": "stream",
       "stream": "stdout",
       "text": [
        "Thread #0: \t700000 read pairs finished. 431 secs passed\r\n"
       ]
      },
      {
       "output_type": "stream",
       "stream": "stdout",
       "text": [
        "Thread #0: \t750000 read pairs finished. 464 secs passed\r\n"
       ]
      },
      {
       "output_type": "stream",
       "stream": "stdout",
       "text": [
        "Thread #0: \t800000 read pairs finished. 487 secs passed\r\n"
       ]
      },
      {
       "output_type": "stream",
       "stream": "stdout",
       "text": [
        "Thread #0: \t850000 read pairs finished. 513 secs passed\r\n"
       ]
      },
      {
       "output_type": "stream",
       "stream": "stdout",
       "text": [
        "Thread #0: \t900000 read pairs finished. 538 secs passed\r\n"
       ]
      },
      {
       "output_type": "stream",
       "stream": "stdout",
       "text": [
        "Thread #0: \t950000 read pairs finished. 565 secs passed\r\n"
       ]
      },
      {
       "output_type": "stream",
       "stream": "stdout",
       "text": [
        "Thread #0: \t1000000 read pairs finished. 614 secs passed\r\n"
       ]
      },
      {
       "output_type": "stream",
       "stream": "stdout",
       "text": [
        "Thread #0: \t1050000 read pairs finished. 636 secs passed\r\n"
       ]
      },
      {
       "output_type": "stream",
       "stream": "stdout",
       "text": [
        "Thread #0: \t1100000 read pairs finished. 657 secs passed\r\n"
       ]
      },
      {
       "output_type": "stream",
       "stream": "stdout",
       "text": [
        "Thread #0: \t1150000 read pairs finished. 677 secs passed\r\n"
       ]
      },
      {
       "output_type": "stream",
       "stream": "stdout",
       "text": [
        "Thread #0: \t1200000 read pairs finished. 698 secs passed\r\n"
       ]
      },
      {
       "output_type": "stream",
       "stream": "stdout",
       "text": [
        "Thread #0: \t1250000 read pairs finished. 719 secs passed\r\n"
       ]
      },
      {
       "output_type": "stream",
       "stream": "stdout",
       "text": [
        "Thread #0: \t1300000 read pairs finished. 743 secs passed\r\n"
       ]
      },
      {
       "output_type": "stream",
       "stream": "stdout",
       "text": [
        "Thread #0: \t1350000 read pairs finished. 763 secs passed\r\n"
       ]
      },
      {
       "output_type": "stream",
       "stream": "stdout",
       "text": [
        "Thread #0: \t1400000 read pairs finished. 785 secs passed\r\n"
       ]
      },
      {
       "output_type": "stream",
       "stream": "stdout",
       "text": [
        "Thread #0: \t1450000 read pairs finished. 806 secs passed\r\n"
       ]
      },
      {
       "output_type": "stream",
       "stream": "stdout",
       "text": [
        "Thread #0: \t1500000 read pairs finished. 827 secs passed\r\n"
       ]
      },
      {
       "output_type": "stream",
       "stream": "stdout",
       "text": [
        "Thread #0: \t1550000 read pairs finished. 849 secs passed\r\n"
       ]
      },
      {
       "output_type": "stream",
       "stream": "stdout",
       "text": [
        "Thread #0: \t1600000 read pairs finished. 870 secs passed\r\n"
       ]
      },
      {
       "output_type": "stream",
       "stream": "stdout",
       "text": [
        "Thread #0: \t1650000 read pairs finished. 891 secs passed\r\n"
       ]
      },
      {
       "output_type": "stream",
       "stream": "stdout",
       "text": [
        "Thread #0: \t1700000 read pairs finished. 912 secs passed\r\n"
       ]
      },
      {
       "output_type": "stream",
       "stream": "stdout",
       "text": [
        "Thread #0: \t1750000 read pairs finished. 932 secs passed\r\n"
       ]
      },
      {
       "output_type": "stream",
       "stream": "stdout",
       "text": [
        "Thread #0: \t1800000 read pairs finished. 953 secs passed\r\n"
       ]
      },
      {
       "output_type": "stream",
       "stream": "stdout",
       "text": [
        "Thread #0: \t1850000 read pairs finished. 979 secs passed\r\n"
       ]
      },
      {
       "output_type": "stream",
       "stream": "stdout",
       "text": [
        "Thread #0: \t1900000 read pairs finished. 1001 secs passed\r\n"
       ]
      },
      {
       "output_type": "stream",
       "stream": "stdout",
       "text": [
        "Thread #0: \t1950000 read pairs finished. 1021 secs passed\r\n"
       ]
      },
      {
       "output_type": "stream",
       "stream": "stdout",
       "text": [
        "Thread #0: \t2000000 read pairs finished. 1041 secs passed\r\n"
       ]
      },
      {
       "output_type": "stream",
       "stream": "stdout",
       "text": [
        "Thread #0: \t2050000 read pairs finished. 1061 secs passed\r\n"
       ]
      },
      {
       "output_type": "stream",
       "stream": "stdout",
       "text": [
        "Thread #0: \t2100000 read pairs finished. 1081 secs passed\r\n"
       ]
      },
      {
       "output_type": "stream",
       "stream": "stdout",
       "text": [
        "Thread #0: \t2150000 read pairs finished. 1101 secs passed\r\n"
       ]
      },
      {
       "output_type": "stream",
       "stream": "stdout",
       "text": [
        "Thread #0: \t2200000 read pairs finished. 1121 secs passed\r\n"
       ]
      },
      {
       "output_type": "stream",
       "stream": "stdout",
       "text": [
        "Thread #0: \t2250000 read pairs finished. 1141 secs passed\r\n"
       ]
      },
      {
       "output_type": "stream",
       "stream": "stdout",
       "text": [
        "Thread #0: \t2300000 read pairs finished. 1162 secs passed\r\n"
       ]
      },
      {
       "output_type": "stream",
       "stream": "stdout",
       "text": [
        "Thread #0: \t2350000 read pairs finished. 1183 secs passed\r\n"
       ]
      },
      {
       "output_type": "stream",
       "stream": "stdout",
       "text": [
        "Thread #0: \t2400000 read pairs finished. 1204 secs passed\r\n"
       ]
      },
      {
       "output_type": "stream",
       "stream": "stdout",
       "text": [
        "Thread #0: \t2450000 read pairs finished. 1225 secs passed\r\n"
       ]
      },
      {
       "output_type": "stream",
       "stream": "stdout",
       "text": [
        "Thread #0: \t2500000 read pairs finished. 1246 secs passed\r\n"
       ]
      },
      {
       "output_type": "stream",
       "stream": "stdout",
       "text": [
        "Thread #0: \t2550000 read pairs finished. 1266 secs passed\r\n"
       ]
      },
      {
       "output_type": "stream",
       "stream": "stdout",
       "text": [
        "Thread #0: \t2600000 read pairs finished. 1287 secs passed\r\n"
       ]
      },
      {
       "output_type": "stream",
       "stream": "stdout",
       "text": [
        "Thread #0: \t2650000 read pairs finished. 1307 secs passed\r\n"
       ]
      },
      {
       "output_type": "stream",
       "stream": "stdout",
       "text": [
        "Thread #0: \t2700000 read pairs finished. 1329 secs passed\r\n"
       ]
      },
      {
       "output_type": "stream",
       "stream": "stdout",
       "text": [
        "Thread #0: \t2750000 read pairs finished. 1352 secs passed\r\n"
       ]
      },
      {
       "output_type": "stream",
       "stream": "stdout",
       "text": [
        "Thread #0: \t2800000 read pairs finished. 1374 secs passed\r\n"
       ]
      },
      {
       "output_type": "stream",
       "stream": "stdout",
       "text": [
        "Thread #0: \t2850000 read pairs finished. 1395 secs passed\r\n"
       ]
      },
      {
       "output_type": "stream",
       "stream": "stdout",
       "text": [
        "Thread #0: \t2900000 read pairs finished. 1421 secs passed\r\n"
       ]
      },
      {
       "output_type": "stream",
       "stream": "stdout",
       "text": [
        "Thread #0: \t2950000 read pairs finished. 1452 secs passed\r\n"
       ]
      },
      {
       "output_type": "stream",
       "stream": "stdout",
       "text": [
        "Thread #0: \t3000000 read pairs finished. 1476 secs passed\r\n"
       ]
      },
      {
       "output_type": "stream",
       "stream": "stdout",
       "text": [
        "Thread #0: \t3050000 read pairs finished. 1500 secs passed\r\n"
       ]
      },
      {
       "output_type": "stream",
       "stream": "stdout",
       "text": [
        "Thread #0: \t3100000 read pairs finished. 1524 secs passed\r\n"
       ]
      },
      {
       "output_type": "stream",
       "stream": "stdout",
       "text": [
        "Thread #0: \t3150000 read pairs finished. 1546 secs passed\r\n"
       ]
      },
      {
       "output_type": "stream",
       "stream": "stdout",
       "text": [
        "Thread #0: \t3200000 read pairs finished. 1568 secs passed\r\n"
       ]
      },
      {
       "output_type": "stream",
       "stream": "stdout",
       "text": [
        "Thread #0: \t3250000 read pairs finished. 1594 secs passed\r\n"
       ]
      },
      {
       "output_type": "stream",
       "stream": "stdout",
       "text": [
        "Thread #0: \t3300000 read pairs finished. 1618 secs passed\r\n"
       ]
      },
      {
       "output_type": "stream",
       "stream": "stdout",
       "text": [
        "Thread #0: \t3350000 read pairs finished. 1643 secs passed\r\n"
       ]
      },
      {
       "output_type": "stream",
       "stream": "stdout",
       "text": [
        "Thread #0: \t3400000 read pairs finished. 1665 secs passed\r\n"
       ]
      },
      {
       "output_type": "stream",
       "stream": "stdout",
       "text": [
        "Thread #0: \t3450000 read pairs finished. 1689 secs passed\r\n"
       ]
      },
      {
       "output_type": "stream",
       "stream": "stdout",
       "text": [
        "Thread #0: \t3500000 read pairs finished. 1712 secs passed\r\n"
       ]
      },
      {
       "output_type": "stream",
       "stream": "stdout",
       "text": [
        "Thread #0: \t3550000 read pairs finished. 1734 secs passed\r\n"
       ]
      },
      {
       "output_type": "stream",
       "stream": "stdout",
       "text": [
        "Thread #0: \t3600000 read pairs finished. 1764 secs passed\r\n"
       ]
      },
      {
       "output_type": "stream",
       "stream": "stdout",
       "text": [
        "Thread #0: \t3650000 read pairs finished. 1793 secs passed\r\n"
       ]
      },
      {
       "output_type": "stream",
       "stream": "stdout",
       "text": [
        "Thread #0: \t3700000 read pairs finished. 1819 secs passed\r\n"
       ]
      },
      {
       "output_type": "stream",
       "stream": "stdout",
       "text": [
        "Thread #0: \t3750000 read pairs finished. 1850 secs passed\r\n"
       ]
      },
      {
       "output_type": "stream",
       "stream": "stdout",
       "text": [
        "Thread #0: \t3800000 read pairs finished. 1880 secs passed\r\n"
       ]
      },
      {
       "output_type": "stream",
       "stream": "stdout",
       "text": [
        "Thread #0: \t3850000 read pairs finished. 1907 secs passed\r\n"
       ]
      },
      {
       "output_type": "stream",
       "stream": "stdout",
       "text": [
        "Thread #0: \t3900000 read pairs finished. 1940 secs passed\r\n"
       ]
      },
      {
       "output_type": "stream",
       "stream": "stdout",
       "text": [
        "Thread #0: \t3950000 read pairs finished. 1967 secs passed\r\n"
       ]
      },
      {
       "output_type": "stream",
       "stream": "stdout",
       "text": [
        "Thread #0: \t4000000 read pairs finished. 1998 secs passed\r\n"
       ]
      },
      {
       "output_type": "stream",
       "stream": "stdout",
       "text": [
        "Thread #0: \t4050000 read pairs finished. 2021 secs passed\r\n"
       ]
      },
      {
       "output_type": "stream",
       "stream": "stdout",
       "text": [
        "Thread #0: \t4100000 read pairs finished. 2050 secs passed\r\n"
       ]
      },
      {
       "output_type": "stream",
       "stream": "stdout",
       "text": [
        "Thread #0: \t4150000 read pairs finished. 2074 secs passed\r\n"
       ]
      },
      {
       "output_type": "stream",
       "stream": "stdout",
       "text": [
        "Thread #0: \t4200000 read pairs finished. 2104 secs passed\r\n"
       ]
      },
      {
       "output_type": "stream",
       "stream": "stdout",
       "text": [
        "Thread #0: \t4250000 read pairs finished. 2128 secs passed\r\n"
       ]
      },
      {
       "output_type": "stream",
       "stream": "stdout",
       "text": [
        "Thread #0: \t4300000 read pairs finished. 2152 secs passed\r\n"
       ]
      },
      {
       "output_type": "stream",
       "stream": "stdout",
       "text": [
        "Thread #0: \t4350000 read pairs finished. 2175 secs passed\r\n"
       ]
      },
      {
       "output_type": "stream",
       "stream": "stdout",
       "text": [
        "Thread #0: \t4400000 read pairs finished. 2196 secs passed\r\n"
       ]
      },
      {
       "output_type": "stream",
       "stream": "stdout",
       "text": [
        "Thread #0: \t4450000 read pairs finished. 2221 secs passed\r\n"
       ]
      },
      {
       "output_type": "stream",
       "stream": "stdout",
       "text": [
        "Thread #0: \t4500000 read pairs finished. 2250 secs passed\r\n"
       ]
      },
      {
       "output_type": "stream",
       "stream": "stdout",
       "text": [
        "Thread #0: \t4550000 read pairs finished. 2275 secs passed\r\n"
       ]
      },
      {
       "output_type": "stream",
       "stream": "stdout",
       "text": [
        "Thread #0: \t4600000 read pairs finished. 2303 secs passed\r\n"
       ]
      },
      {
       "output_type": "stream",
       "stream": "stdout",
       "text": [
        "Thread #0: \t4650000 read pairs finished. 2331 secs passed\r\n"
       ]
      },
      {
       "output_type": "stream",
       "stream": "stdout",
       "text": [
        "Thread #0: \t4700000 read pairs finished. 2359 secs passed\r\n"
       ]
      },
      {
       "output_type": "stream",
       "stream": "stdout",
       "text": [
        "Thread #0: \t4750000 read pairs finished. 2384 secs passed\r\n"
       ]
      },
      {
       "output_type": "stream",
       "stream": "stdout",
       "text": [
        "Thread #0: \t4800000 read pairs finished. 2405 secs passed\r\n"
       ]
      },
      {
       "output_type": "stream",
       "stream": "stdout",
       "text": [
        "Thread #0: \t4850000 read pairs finished. 2432 secs passed\r\n"
       ]
      },
      {
       "output_type": "stream",
       "stream": "stdout",
       "text": [
        "Thread #0: \t4900000 read pairs finished. 2459 secs passed\r\n"
       ]
      },
      {
       "output_type": "stream",
       "stream": "stdout",
       "text": [
        "Thread #0: \t4950000 read pairs finished. 2480 secs passed\r\n"
       ]
      },
      {
       "output_type": "stream",
       "stream": "stdout",
       "text": [
        "Thread #0: \t5000000 read pairs finished. 2503 secs passed\r\n"
       ]
      },
      {
       "output_type": "stream",
       "stream": "stdout",
       "text": [
        "Thread #0: \t5050000 read pairs finished. 2527 secs passed\r\n"
       ]
      },
      {
       "output_type": "stream",
       "stream": "stdout",
       "text": [
        "Thread #0: \t5100000 read pairs finished. 2548 secs passed\r\n"
       ]
      },
      {
       "output_type": "stream",
       "stream": "stdout",
       "text": [
        "Thread #0: \t5150000 read pairs finished. 2572 secs passed\r\n"
       ]
      },
      {
       "output_type": "stream",
       "stream": "stdout",
       "text": [
        "Thread #0: \t5200000 read pairs finished. 2594 secs passed\r\n"
       ]
      },
      {
       "output_type": "stream",
       "stream": "stdout",
       "text": [
        "Thread #0: \t5250000 read pairs finished. 2621 secs passed\r\n"
       ]
      },
      {
       "output_type": "stream",
       "stream": "stdout",
       "text": [
        "Thread #0: \t5300000 read pairs finished. 2646 secs passed\r\n"
       ]
      },
      {
       "output_type": "stream",
       "stream": "stdout",
       "text": [
        "Thread #0: \t5350000 read pairs finished. 2672 secs passed\r\n"
       ]
      },
      {
       "output_type": "stream",
       "stream": "stdout",
       "text": [
        "Thread #0: \t5400000 read pairs finished. 2695 secs passed\r\n"
       ]
      },
      {
       "output_type": "stream",
       "stream": "stdout",
       "text": [
        "Thread #0: \t5450000 read pairs finished. 2722 secs passed\r\n"
       ]
      },
      {
       "output_type": "stream",
       "stream": "stdout",
       "text": [
        "Thread #0: \t5500000 read pairs finished. 2745 secs passed\r\n"
       ]
      },
      {
       "output_type": "stream",
       "stream": "stdout",
       "text": [
        "Thread #0: \t5550000 read pairs finished. 2769 secs passed\r\n"
       ]
      },
      {
       "output_type": "stream",
       "stream": "stdout",
       "text": [
        "Thread #0: \t5600000 read pairs finished. 2793 secs passed\r\n"
       ]
      },
      {
       "output_type": "stream",
       "stream": "stdout",
       "text": [
        "Thread #0: \t5650000 read pairs finished. 2816 secs passed\r\n"
       ]
      },
      {
       "output_type": "stream",
       "stream": "stdout",
       "text": [
        "Thread #0: \t5700000 read pairs finished. 2840 secs passed\r\n"
       ]
      },
      {
       "output_type": "stream",
       "stream": "stdout",
       "text": [
        "Thread #0: \t5750000 read pairs finished. 2870 secs passed\r\n"
       ]
      },
      {
       "output_type": "stream",
       "stream": "stdout",
       "text": [
        "Thread #0: \t5800000 read pairs finished. 2901 secs passed\r\n"
       ]
      },
      {
       "output_type": "stream",
       "stream": "stdout",
       "text": [
        "Thread #0: \t5850000 read pairs finished. 2928 secs passed\r\n"
       ]
      },
      {
       "output_type": "stream",
       "stream": "stdout",
       "text": [
        "Thread #0: \t5900000 read pairs finished. 2956 secs passed\r\n"
       ]
      },
      {
       "output_type": "stream",
       "stream": "stdout",
       "text": [
        "Thread #0: \t5950000 read pairs finished. 2986 secs passed\r\n"
       ]
      },
      {
       "output_type": "stream",
       "stream": "stdout",
       "text": [
        "Thread #0: \t6000000 read pairs finished. 3016 secs passed\r\n"
       ]
      },
      {
       "output_type": "stream",
       "stream": "stdout",
       "text": [
        "Thread #0: \t6050000 read pairs finished. 3050 secs passed\r\n"
       ]
      },
      {
       "output_type": "stream",
       "stream": "stdout",
       "text": [
        "Thread #0: \t6100000 read pairs finished. 3078 secs passed\r\n"
       ]
      },
      {
       "output_type": "stream",
       "stream": "stdout",
       "text": [
        "Thread #0: \t6150000 read pairs finished. 3107 secs passed\r\n"
       ]
      },
      {
       "output_type": "stream",
       "stream": "stdout",
       "text": [
        "Thread #0: \t6200000 read pairs finished. 3130 secs passed\r\n"
       ]
      },
      {
       "output_type": "stream",
       "stream": "stdout",
       "text": [
        "Thread #0: \t6250000 read pairs finished. 3152 secs passed\r\n"
       ]
      },
      {
       "output_type": "stream",
       "stream": "stdout",
       "text": [
        "Thread #0: \t6300000 read pairs finished. 3174 secs passed\r\n"
       ]
      },
      {
       "output_type": "stream",
       "stream": "stdout",
       "text": [
        "Thread #0: \t6350000 read pairs finished. 3197 secs passed\r\n"
       ]
      },
      {
       "output_type": "stream",
       "stream": "stdout",
       "text": [
        "Thread #0: \t6400000 read pairs finished. 3219 secs passed\r\n"
       ]
      },
      {
       "output_type": "stream",
       "stream": "stdout",
       "text": [
        "Thread #0: \t6450000 read pairs finished. 3244 secs passed\r\n"
       ]
      },
      {
       "output_type": "stream",
       "stream": "stdout",
       "text": [
        "Thread #0: \t6500000 read pairs finished. 3268 secs passed\r\n"
       ]
      },
      {
       "output_type": "stream",
       "stream": "stdout",
       "text": [
        "Thread #0: \t6550000 read pairs finished. 3295 secs passed\r\n"
       ]
      },
      {
       "output_type": "stream",
       "stream": "stdout",
       "text": [
        "Thread #0: \t6600000 read pairs finished. 3321 secs passed\r\n"
       ]
      },
      {
       "output_type": "stream",
       "stream": "stdout",
       "text": [
        "Thread #0: \t6650000 read pairs finished. 3344 secs passed\r\n"
       ]
      },
      {
       "output_type": "stream",
       "stream": "stdout",
       "text": [
        "Thread #0: \t6700000 read pairs finished. 3368 secs passed\r\n"
       ]
      },
      {
       "output_type": "stream",
       "stream": "stdout",
       "text": [
        "Thread #0: \t6750000 read pairs finished. 3393 secs passed\r\n"
       ]
      },
      {
       "output_type": "stream",
       "stream": "stdout",
       "text": [
        "Thread #0: \t6800000 read pairs finished. 3419 secs passed\r\n"
       ]
      },
      {
       "output_type": "stream",
       "stream": "stdout",
       "text": [
        "Thread #0: \t6850000 read pairs finished. 3441 secs passed\r\n"
       ]
      },
      {
       "output_type": "stream",
       "stream": "stdout",
       "text": [
        "Thread #0: \t6900000 read pairs finished. 3468 secs passed\r\n"
       ]
      },
      {
       "output_type": "stream",
       "stream": "stdout",
       "text": [
        "Thread #0: \t6950000 read pairs finished. 3494 secs passed\r\n"
       ]
      },
      {
       "output_type": "stream",
       "stream": "stdout",
       "text": [
        "Thread #0: \t7000000 read pairs finished. 3518 secs passed\r\n"
       ]
      },
      {
       "output_type": "stream",
       "stream": "stdout",
       "text": [
        "Thread #0: \t7050000 read pairs finished. 3543 secs passed\r\n"
       ]
      },
      {
       "output_type": "stream",
       "stream": "stdout",
       "text": [
        "Thread #0: \t7100000 read pairs finished. 3566 secs passed\r\n"
       ]
      },
      {
       "output_type": "stream",
       "stream": "stdout",
       "text": [
        "Thread #0: \t7150000 read pairs finished. 3591 secs passed\r\n"
       ]
      },
      {
       "output_type": "stream",
       "stream": "stdout",
       "text": [
        "Thread #"
       ]
      },
      {
       "output_type": "stream",
       "stream": "stdout",
       "text": [
        "0: \t7200000 read pairs finished. 3615 secs passed\r\n"
       ]
      },
      {
       "output_type": "stream",
       "stream": "stdout",
       "text": [
        "Thread #0: \t7250000 read pairs finished. 3643 secs passed\r\n"
       ]
      },
      {
       "output_type": "stream",
       "stream": "stdout",
       "text": [
        "Thread #0: \t7300000 read pairs finished. 3667 secs passed\r\n"
       ]
      },
      {
       "output_type": "stream",
       "stream": "stdout",
       "text": [
        "Thread #0: \t7350000 read pairs finished. 3691 secs passed\r\n"
       ]
      },
      {
       "output_type": "stream",
       "stream": "stdout",
       "text": [
        "Thread #0: \t7400000 read pairs finished. 3715 secs passed\r\n"
       ]
      },
      {
       "output_type": "stream",
       "stream": "stdout",
       "text": [
        "Thread #0: \t7450000 read pairs finished. 3736 secs passed\r\n"
       ]
      },
      {
       "output_type": "stream",
       "stream": "stdout",
       "text": [
        "Thread #0: \t7500000 read pairs finished. 3760 secs passed\r\n"
       ]
      },
      {
       "output_type": "stream",
       "stream": "stdout",
       "text": [
        "Thread #0: \t7550000 read pairs finished. 3784 secs passed\r\n"
       ]
      },
      {
       "output_type": "stream",
       "stream": "stdout",
       "text": [
        "Thread #0: \t7600000 read pairs finished. 3807 secs passed\r\n"
       ]
      },
      {
       "output_type": "stream",
       "stream": "stdout",
       "text": [
        "Thread #0: \t7650000 read pairs finished. 3831 secs passed\r\n"
       ]
      },
      {
       "output_type": "stream",
       "stream": "stdout",
       "text": [
        "Thread #0: \t7700000 read pairs finished. 3865 secs passed\r\n"
       ]
      },
      {
       "output_type": "stream",
       "stream": "stdout",
       "text": [
        "Thread #0: \t7750000 read pairs finished. 3888 secs passed\r\n"
       ]
      },
      {
       "output_type": "stream",
       "stream": "stdout",
       "text": [
        "Thread #0: \t7800000 read pairs finished. 3931 secs passed\r\n"
       ]
      },
      {
       "output_type": "stream",
       "stream": "stdout",
       "text": [
        "Thread #0: \t7850000 read pairs finished. 3954 secs passed\r\n"
       ]
      },
      {
       "output_type": "stream",
       "stream": "stdout",
       "text": [
        "Thread #0: \t7900000 read pairs finished. 3975 secs passed\r\n"
       ]
      },
      {
       "output_type": "stream",
       "stream": "stdout",
       "text": [
        "Thread #0: \t7950000 read pairs finished. 3999 secs passed\r\n"
       ]
      },
      {
       "output_type": "stream",
       "stream": "stdout",
       "text": [
        "Thread #0: \t8000000 read pairs finished. 4021 secs passed\r\n"
       ]
      },
      {
       "output_type": "stream",
       "stream": "stdout",
       "text": [
        "Thread #0: \t8050000 read pairs finished. 4043 secs passed\r\n"
       ]
      },
      {
       "output_type": "stream",
       "stream": "stdout",
       "text": [
        "Thread #0: \t8100000 read pairs finished. 4066 secs passed\r\n"
       ]
      },
      {
       "output_type": "stream",
       "stream": "stdout",
       "text": [
        "Thread #0: \t8150000 read pairs finished. 4088 secs passed\r\n"
       ]
      },
      {
       "output_type": "stream",
       "stream": "stdout",
       "text": [
        "Thread #0: \t8200000 read pairs finished. 4111 secs passed\r\n"
       ]
      },
      {
       "output_type": "stream",
       "stream": "stdout",
       "text": [
        "Thread #0: \t8250000 read pairs finished. 4137 secs passed\r\n"
       ]
      },
      {
       "output_type": "stream",
       "stream": "stdout",
       "text": [
        "Thread #0: \t8297202 read pairs finished. 4159 secs passed\r\n"
       ]
      },
      {
       "output_type": "stream",
       "stream": "stdout",
       "text": [
        "Total number of aligned reads: \r\n",
        "pairs:       3832546 (46%)\r\n",
        "single a:    1591687 (19%)\r\n",
        "single b:    1349271 (16%)\r\n",
        "Done.\r\n",
        "Finished at Fri Feb 28 08:04:30 2014\r\n",
        "Total time consumed:  4159 secs\r\n"
       ]
      }
     ],
     "prompt_number": 42
    },
    {
     "cell_type": "code",
     "collapsed": false,
     "input": [
      "#!python {bsmap}methratio.py -d {genome} -u -z -g -o methratio_out.txt -s {bsmap}samtools bsmap_out.sam"
     ],
     "language": "python",
     "metadata": {},
     "outputs": [],
     "prompt_number": 73
    },
    {
     "cell_type": "heading",
     "level": 3,
     "metadata": {},
     "source": [
      "Concerned about bsmap coverage lets try unmasked"
     ]
    },
    {
     "cell_type": "code",
     "collapsed": false,
     "input": [
      "\n",
      "#file ID\n",
      "fid=\"CgM1_Enm\"\n",
      "\n",
      "#TIMESTAMP\n",
      "date=!date +%m%d_%H%M\n",
      "\n",
      "#working directory (parent)\n",
      "wd=\"/Volumes/web/cnidarian/BiGo_larvae_merge/\"\n",
      "\n",
      "#where is bsmap\n",
      "#bsmap=\"/Users/Shared/Apps/bsmap-2.73/\"\n",
      "bsmap=\"/Volumes/Bay3/Software/BSMAP/bsmap-2.74/\"\n",
      "\n",
      "#fastq files location R1 location\n",
      "R1=\"/Volumes/web/cnidarian/BiGo_larvae_merge/CgM1_R1a.fastq\"\n",
      "\n",
      "#fastq files location R2 location\n",
      "#comment out if SE\n",
      "R2=\"/Volumes/web/cnidarian/BiGo_larvae_merge/CgM1_R2a.fastq\"\n",
      "\n",
      "#genome file \n",
      "#genome=\"/Volumes/web/whale/ensembl/ftp.ensemblgenomes.org/pub/release-21/metazoa/fasta/crassostrea_gigas/dna/Crassostrea_gigas.GCA_000297895.1.21.dna_sm.genome.fa\"\n",
      "genome=\"/Volumes/web/whale/ensembl/ftp.ensemblgenomes.org/pub/release-21/metazoa/fasta/crassostrea_gigas/dna/Crassostrea_gigas.GCA_000297895.1.21.dna.genome.fa\"\n"
     ],
     "language": "python",
     "metadata": {},
     "outputs": [],
     "prompt_number": 58
    },
    {
     "cell_type": "code",
     "collapsed": false,
     "input": [
      "cd {wd} "
     ],
     "language": "python",
     "metadata": {},
     "outputs": [
      {
       "output_type": "stream",
       "stream": "stdout",
       "text": [
        "/Volumes/web/cnidarian/BiGo_larvae_merge\n"
       ]
      }
     ],
     "prompt_number": 59
    },
    {
     "cell_type": "code",
     "collapsed": false,
     "input": [
      "mkdir {fid}_{date}  \n"
     ],
     "language": "python",
     "metadata": {},
     "outputs": [],
     "prompt_number": 60
    },
    {
     "cell_type": "code",
     "collapsed": false,
     "input": [
      "cd {fid}_{date} "
     ],
     "language": "python",
     "metadata": {},
     "outputs": [
      {
       "output_type": "stream",
       "stream": "stdout",
       "text": [
        "/Volumes/web/cnidarian/BiGo_larvae_merge/CgM1_Enm_[0228_0836]\n"
       ]
      }
     ],
     "prompt_number": 61
    },
    {
     "cell_type": "code",
     "collapsed": false,
     "input": [
      "!{bsmap}bsmap -a {R1} -b {R2} -d {genome} -o bsmap_out.sam -p 2"
     ],
     "language": "python",
     "metadata": {},
     "outputs": [
      {
       "output_type": "stream",
       "stream": "stdout",
       "text": [
        "\r\n",
        "BSMAP v2.74\r\n",
        "Start at:  Fri Feb 28 08:37:29 2014\r\n",
        "\r\n",
        "Input reference file: /Volumes/web/whale/ensembl/ftp.ensemblgenomes.org/pub/release-21/metazoa/fasta/crassostrea_gigas/dna/Crassostrea_gigas.GCA_000297895.1.21.dna.genome.fa"
       ]
      },
      {
       "output_type": "stream",
       "stream": "stdout",
       "text": [
        " \t(format: FASTA)\r\n"
       ]
      },
      {
       "output_type": "stream",
       "stream": "stdout",
       "text": [
        "Load in 7658 db seqs, total size 557717710 bp. 22 secs passed\r\n",
        "total_kmers: 43046721\r\n"
       ]
      },
      {
       "output_type": "stream",
       "stream": "stdout",
       "text": [
        "Create seed table. 72 secs passed\r\n",
        "max number of mismatches: read_length * 8% \tmax gap size: 0\r\n",
        "kmer cut-off ratio: "
       ]
      },
      {
       "output_type": "stream",
       "stream": "stdout",
       "text": [
        "5e-07\r\n",
        "max multi-hits: 100\tmax Ns: 5\tseed size: 16\tindex interval: 4\r\n",
        "quality cutoff: 0\tbase quality char: '!'\r\n",
        "min fragment size:28\tmax fragemt size:500\r\n",
        "start from read #1\tend at read #4294967295\r\n",
        "additional alignment: T in reads => C in reference\r\n",
        "mapping strand (read_1): ++,-+\r\n",
        "mapping strand (read_2): +-,--\r\n",
        "Pair-end alignment(2 threads)\r\n",
        "Input read file #1: /Volumes/web/cnidarian/BiGo_larvae_merge/CgM1_R1a.fastq \t(format: FASTQ)\r\n",
        "Input read file #2: /Volumes/web/cnidarian/BiGo_larvae_merge/CgM1_R2a.fastq"
       ]
      },
      {
       "output_type": "stream",
       "stream": "stdout",
       "text": [
        " \t(format: FASTQ)\r\n",
        "Output file: bsmap_out.sam\t (format: SAM)\r\n"
       ]
      },
      {
       "output_type": "stream",
       "stream": "stdout",
       "text": [
        "Thread #0: \t100000 read pairs finished. 105 secs passed\r\n"
       ]
      },
      {
       "output_type": "stream",
       "stream": "stdout",
       "text": [
        "Thread #1: \t50000 read pairs finished. 105 secs passed\r\n"
       ]
      },
      {
       "output_type": "stream",
       "stream": "stdout",
       "text": [
        "Thread #0: \t150000 read pairs finished. 136 secs passed\r\n"
       ]
      },
      {
       "output_type": "stream",
       "stream": "stdout",
       "text": [
        "Thread #1: \t200000 read pairs finished. 136 secs passed\r\n"
       ]
      },
      {
       "output_type": "stream",
       "stream": "stdout",
       "text": [
        "Thread #0: \t250000 read pairs finished. 163 secs passed\r\n"
       ]
      },
      {
       "output_type": "stream",
       "stream": "stdout",
       "text": [
        "Thread #1: \t300000 read pairs finished. 164 secs passed\r\n"
       ]
      },
      {
       "output_type": "stream",
       "stream": "stdout",
       "text": [
        "Thread #0: \t350000 read pairs finished. 188 secs passed\r\n"
       ]
      },
      {
       "output_type": "stream",
       "stream": "stdout",
       "text": [
        "Thread #1: \t400000 read pairs finished. 190 secs passed\r\n"
       ]
      },
      {
       "output_type": "stream",
       "stream": "stdout",
       "text": [
        "Thread #"
       ]
      },
      {
       "output_type": "stream",
       "stream": "stdout",
       "text": [
        "0: \t450000 read pairs finished. 227 secs passed\r\n"
       ]
      },
      {
       "output_type": "stream",
       "stream": "stdout",
       "text": [
        "Thread #1: \t500000 read pairs finished. 229 secs passed\r\n"
       ]
      },
      {
       "output_type": "stream",
       "stream": "stdout",
       "text": [
        "Thread #0: \t550000 read pairs finished. 258 secs passed\r\n"
       ]
      },
      {
       "output_type": "stream",
       "stream": "stdout",
       "text": [
        "Thread #1: \t600000 read pairs finished. 261 secs passed\r\n"
       ]
      },
      {
       "output_type": "stream",
       "stream": "stdout",
       "text": [
        "Thread #0: \t650000 read pairs finished. 285 secs passed\r\n"
       ]
      },
      {
       "output_type": "stream",
       "stream": "stdout",
       "text": [
        "Thread #1: \t700000 read pairs finished. 287 secs passed\r\n"
       ]
      },
      {
       "output_type": "stream",
       "stream": "stdout",
       "text": [
        "Thread #0: \t750000 read pairs finished. 311 secs passed\r\n"
       ]
      },
      {
       "output_type": "stream",
       "stream": "stdout",
       "text": [
        "Thread #1: \t800000 read pairs finished. 313 secs passed\r\n"
       ]
      },
      {
       "output_type": "stream",
       "stream": "stdout",
       "text": [
        "Thread #0: \t850000 read pairs finished. 336 secs passed\r\n"
       ]
      },
      {
       "output_type": "stream",
       "stream": "stdout",
       "text": [
        "Thread #1: \t900000 read pairs finished. 340 secs passed\r\n"
       ]
      },
      {
       "output_type": "stream",
       "stream": "stdout",
       "text": [
        "Thread #0: \t950000 read pairs finished. 376 secs passed\r\n"
       ]
      },
      {
       "output_type": "stream",
       "stream": "stdout",
       "text": [
        "Thread #1: \t1000000 read pairs finished. 380 secs passed\r\n"
       ]
      },
      {
       "output_type": "stream",
       "stream": "stdout",
       "text": [
        "Thread #0: \t1050000 read pairs finished. 409 secs passed\r\n"
       ]
      },
      {
       "output_type": "stream",
       "stream": "stdout",
       "text": [
        "Thread #1: \t1100000 read pairs finished. 411 secs passed\r\n"
       ]
      },
      {
       "output_type": "stream",
       "stream": "stdout",
       "text": [
        "Thread #0: \t1150000 read pairs finished. 439 secs passed\r\n"
       ]
      },
      {
       "output_type": "stream",
       "stream": "stdout",
       "text": [
        "Thread #1: \t1200000 read pairs finished. 441 secs passed\r\n"
       ]
      },
      {
       "output_type": "stream",
       "stream": "stdout",
       "text": [
        "Thread #0: \t1250000 read pairs finished. 464 secs passed\r\n"
       ]
      },
      {
       "output_type": "stream",
       "stream": "stdout",
       "text": [
        "Thread #1: \t1300000 read pairs finished. 467 secs passed\r\n"
       ]
      },
      {
       "output_type": "stream",
       "stream": "stdout",
       "text": [
        "Thread #0: \t1350000 read pairs finished. 490 secs passed\r\n"
       ]
      },
      {
       "output_type": "stream",
       "stream": "stdout",
       "text": [
        "Thread #1: \t1400000 read pairs finished. 492 secs passed\r\n"
       ]
      },
      {
       "output_type": "stream",
       "stream": "stdout",
       "text": [
        "Thread #0: \t1450000 read pairs finished. 514 secs passed\r\n"
       ]
      },
      {
       "output_type": "stream",
       "stream": "stdout",
       "text": [
        "Thread #1: \t1500000 read pairs finished. 518 secs passed\r\n"
       ]
      },
      {
       "output_type": "stream",
       "stream": "stdout",
       "text": [
        "Thread #0: \t1550000 read pairs finished. 544 secs passed\r\n"
       ]
      },
      {
       "output_type": "stream",
       "stream": "stdout",
       "text": [
        "Thread #1: \t1600000 read pairs finished. 547 secs passed\r\n"
       ]
      },
      {
       "output_type": "stream",
       "stream": "stdout",
       "text": [
        "Thread #0: \t1650000 read pairs finished. 576 secs passed\r\n"
       ]
      },
      {
       "output_type": "stream",
       "stream": "stdout",
       "text": [
        "Thread #1: \t1700000 read pairs finished. 580 secs passed\r\n"
       ]
      },
      {
       "output_type": "stream",
       "stream": "stdout",
       "text": [
        "Thread #0: \t1750000 read pairs finished. 610 secs passed\r\n"
       ]
      },
      {
       "output_type": "stream",
       "stream": "stdout",
       "text": [
        "Thread #1: \t1800000 read pairs finished. 616 secs passed\r\n"
       ]
      },
      {
       "output_type": "stream",
       "stream": "stdout",
       "text": [
        "Thread #0: \t1850000 read pairs finished. 644 secs passed\r\n"
       ]
      },
      {
       "output_type": "stream",
       "stream": "stdout",
       "text": [
        "Thread #1: \t1900000 read pairs finished. 651 secs passed\r\n"
       ]
      },
      {
       "output_type": "stream",
       "stream": "stdout",
       "text": [
        "Thread #0: \t1950000 read pairs finished. 686 secs passed\r\n"
       ]
      },
      {
       "output_type": "stream",
       "stream": "stdout",
       "text": [
        "Thread #1: \t2000000 read pairs finished. 693 secs passed\r\n"
       ]
      },
      {
       "output_type": "stream",
       "stream": "stdout",
       "text": [
        "Thread #0: \t2050000 read pairs finished. 731 secs passed\r\n"
       ]
      },
      {
       "output_type": "stream",
       "stream": "stdout",
       "text": [
        "Thread #1: \t2100000 read pairs finished. 735 secs passed\r\n"
       ]
      },
      {
       "output_type": "stream",
       "stream": "stdout",
       "text": [
        "Thread #0: \t2150000 read pairs finished. 772 secs passed\r\n"
       ]
      },
      {
       "output_type": "stream",
       "stream": "stdout",
       "text": [
        "Thread #1: \t2200000 read pairs finished. 779 secs passed\r\n"
       ]
      },
      {
       "output_type": "stream",
       "stream": "stdout",
       "text": [
        "Thread #0: \t2250000 read pairs finished. 826 secs passed\r\n"
       ]
      },
      {
       "output_type": "stream",
       "stream": "stdout",
       "text": [
        "Thread #1: \t2300000 read pairs finished. 832 secs passed\r\n"
       ]
      },
      {
       "output_type": "stream",
       "stream": "stdout",
       "text": [
        "Thread #0: \t2350000 read pairs finished. 861 secs passed\r\n"
       ]
      },
      {
       "output_type": "stream",
       "stream": "stdout",
       "text": [
        "Thread #1: \t2400000 read pairs finished. 867 secs passed\r\n"
       ]
      },
      {
       "output_type": "stream",
       "stream": "stdout",
       "text": [
        "Thread #0: \t2450000 read pairs finished. 901 secs passed\r\n"
       ]
      },
      {
       "output_type": "stream",
       "stream": "stdout",
       "text": [
        "Thread #1: \t2500000 read pairs finished. 909 secs passed\r\n"
       ]
      },
      {
       "output_type": "stream",
       "stream": "stdout",
       "text": [
        "Thread #0: \t2550000 read pairs finished. 935 secs passed\r\n"
       ]
      },
      {
       "output_type": "stream",
       "stream": "stdout",
       "text": [
        "Thread #1: \t2600000 read pairs finished. 942 secs passed\r\n"
       ]
      },
      {
       "output_type": "stream",
       "stream": "stdout",
       "text": [
        "Thread #0: \t2650000 read pairs finished. 977 secs passed\r\n"
       ]
      },
      {
       "output_type": "stream",
       "stream": "stdout",
       "text": [
        "Thread #1: \t2700000 read pairs finished. 984 secs passed\r\n"
       ]
      },
      {
       "output_type": "stream",
       "stream": "stdout",
       "text": [
        "Thread #0: \t2750000 read pairs finished. 1013 secs passed\r\n"
       ]
      },
      {
       "output_type": "stream",
       "stream": "stdout",
       "text": [
        "Thread #1: \t2800000 read pairs finished. 1018 secs passed\r\n"
       ]
      },
      {
       "output_type": "stream",
       "stream": "stdout",
       "text": [
        "Thread #0: \t2850000 read pairs finished. 1049 secs passed\r\n"
       ]
      },
      {
       "output_type": "stream",
       "stream": "stdout",
       "text": [
        "Thread #1: \t2900000 read pairs finished. 1055 secs passed\r\n"
       ]
      },
      {
       "output_type": "stream",
       "stream": "stdout",
       "text": [
        "Thread #0: \t2950000 read pairs finished. 1084 secs passed\r\n"
       ]
      },
      {
       "output_type": "stream",
       "stream": "stdout",
       "text": [
        "Thread #1: \t3000000 read pairs finished. 1100 secs passed\r\n"
       ]
      },
      {
       "output_type": "stream",
       "stream": "stdout",
       "text": [
        "Thread #0: \t3050000 read pairs finished. 1118 secs passed\r\n"
       ]
      },
      {
       "output_type": "stream",
       "stream": "stdout",
       "text": [
        "Thread #1: \t3100000 read pairs finished. 1141 secs passed\r\n"
       ]
      },
      {
       "output_type": "stream",
       "stream": "stdout",
       "text": [
        "Thread #0: \t3150000 read pairs finished. 1152 secs passed\r\n"
       ]
      },
      {
       "output_type": "stream",
       "stream": "stdout",
       "text": [
        "Thread #1: \t3200000 read pairs finished. 1204 secs passed\r\n"
       ]
      },
      {
       "output_type": "stream",
       "stream": "stdout",
       "text": [
        "Thread #0: \t3250000 read pairs finished. 1212 secs passed\r\n"
       ]
      },
      {
       "output_type": "stream",
       "stream": "stdout",
       "text": [
        "Thread #1: \t3300000 read pairs finished. 1240 secs passed\r\n"
       ]
      },
      {
       "output_type": "stream",
       "stream": "stdout",
       "text": [
        "Thread #0: \t3350000 read pairs finished. 1248 secs passed\r\n"
       ]
      },
      {
       "output_type": "stream",
       "stream": "stdout",
       "text": [
        "Thread #1: \t3400000 read pairs finished. 1276 secs passed\r\n"
       ]
      },
      {
       "output_type": "stream",
       "stream": "stdout",
       "text": [
        "Thread #0: \t3450000 read pairs finished. 1284 secs passed\r\n"
       ]
      },
      {
       "output_type": "stream",
       "stream": "stdout",
       "text": [
        "Thread #1: \t3500000 read pairs finished. 1310 secs passed\r\n"
       ]
      },
      {
       "output_type": "stream",
       "stream": "stdout",
       "text": [
        "Thread #0: \t3550000 read pairs finished. 1319 secs passed\r\n"
       ]
      },
      {
       "output_type": "stream",
       "stream": "stdout",
       "text": [
        "Thread #1: \t3600000 read pairs finished. 1342 secs passed\r\n"
       ]
      },
      {
       "output_type": "stream",
       "stream": "stdout",
       "text": [
        "Thread #0: \t3650000 read pairs finished. 1350 secs passed\r\n"
       ]
      },
      {
       "output_type": "stream",
       "stream": "stdout",
       "text": [
        "Thread #1: \t3700000 read pairs finished. 1389 secs passed\r\n"
       ]
      },
      {
       "output_type": "stream",
       "stream": "stdout",
       "text": [
        "Thread #0: \t3750000 read pairs finished. 1428 secs passed\r\n"
       ]
      },
      {
       "output_type": "stream",
       "stream": "stdout",
       "text": [
        "Thread #1: \t3800000 read pairs finished. 1489 secs passed\r\n"
       ]
      },
      {
       "output_type": "stream",
       "stream": "stdout",
       "text": [
        "Thread #0: \t3850000 read pairs finished. 1516 secs passed\r\n"
       ]
      },
      {
       "output_type": "stream",
       "stream": "stdout",
       "text": [
        "Thread #1: \t3900000 read pairs finished. 1578 secs passed\r\n"
       ]
      },
      {
       "output_type": "stream",
       "stream": "stdout",
       "text": [
        "Thread #0: \t3950000 read pairs finished. 1590 secs passed\r\n"
       ]
      },
      {
       "output_type": "stream",
       "stream": "stdout",
       "text": [
        "Thread #1: \t4000000 read pairs finished. 1633 secs passed\r\n"
       ]
      },
      {
       "output_type": "stream",
       "stream": "stdout",
       "text": [
        "Thread #0: \t4050000 read pairs finished. 1662 secs passed\r\n"
       ]
      },
      {
       "output_type": "stream",
       "stream": "stdout",
       "text": [
        "Thread #1: \t4100000 read pairs finished. 1718 secs passed\r\n"
       ]
      },
      {
       "output_type": "stream",
       "stream": "stdout",
       "text": [
        "Thread #0: \t4150000 read pairs finished. 1813 secs passed\r\n"
       ]
      },
      {
       "output_type": "stream",
       "stream": "stdout",
       "text": [
        "Thread #1: \t4200000 read pairs finished. 1829 secs passed\r\n"
       ]
      },
      {
       "output_type": "stream",
       "stream": "stdout",
       "text": [
        "Thread #0: \t4250000 read pairs finished. 1858 secs passed\r\n"
       ]
      },
      {
       "output_type": "stream",
       "stream": "stdout",
       "text": [
        "Thread #1: \t4300000 read pairs finished. 1866 secs passed\r\n"
       ]
      },
      {
       "output_type": "stream",
       "stream": "stdout",
       "text": [
        "Thread #0: \t4350000 read pairs finished. 1885 secs passed\r\n"
       ]
      },
      {
       "output_type": "stream",
       "stream": "stdout",
       "text": [
        "Thread #1: \t4400000 read pairs finished. 1894 secs passed\r\n"
       ]
      },
      {
       "output_type": "stream",
       "stream": "stdout",
       "text": [
        "Thread #0: \t4450000 read pairs finished. 1914 secs passed\r\n"
       ]
      },
      {
       "output_type": "stream",
       "stream": "stdout",
       "text": [
        "Thread #1: \t4500000 read pairs finished. 1924 secs passed\r\n"
       ]
      },
      {
       "output_type": "stream",
       "stream": "stdout",
       "text": [
        "Thread #0: \t4550000 read pairs finished. 1940 secs passed\r\n"
       ]
      },
      {
       "output_type": "stream",
       "stream": "stdout",
       "text": [
        "Thread #1: \t4600000 read pairs finished. 1954 secs passed\r\n"
       ]
      },
      {
       "output_type": "stream",
       "stream": "stdout",
       "text": [
        "Thread #0: \t4650000 read pairs finished. 1984 secs passed\r\n"
       ]
      },
      {
       "output_type": "stream",
       "stream": "stdout",
       "text": [
        "Thread #1: \t4700000 read pairs finished. 1986 secs passed\r\n"
       ]
      },
      {
       "output_type": "stream",
       "stream": "stdout",
       "text": [
        "Thread #0: \t4750000 read pairs finished. 2012 secs passed\r\n"
       ]
      },
      {
       "output_type": "stream",
       "stream": "stdout",
       "text": [
        "Thread #1: \t4800000 read pairs finished. 2046 secs passed\r\n"
       ]
      },
      {
       "output_type": "stream",
       "stream": "stdout",
       "text": [
        "Thread #0: \t4850000 read pairs finished. 2075 secs passed\r\n"
       ]
      },
      {
       "output_type": "stream",
       "stream": "stdout",
       "text": [
        "Thread #1: \t4900000 read pairs finished. 2080 secs passed\r\n"
       ]
      },
      {
       "output_type": "stream",
       "stream": "stdout",
       "text": [
        "Thread #0: \t4950000 read pairs finished. 2137 secs passed\r\n"
       ]
      },
      {
       "output_type": "stream",
       "stream": "stdout",
       "text": [
        "Thread #1: \t5000000 read pairs finished. 2163 secs passed\r\n"
       ]
      },
      {
       "output_type": "stream",
       "stream": "stdout",
       "text": [
        "Thread #0: \t5050000 read pairs finished. 2172 secs passed\r\n"
       ]
      },
      {
       "output_type": "stream",
       "stream": "stdout",
       "text": [
        "Thread #1: \t5100000 read pairs finished. 2193 secs passed\r\n"
       ]
      },
      {
       "output_type": "stream",
       "stream": "stdout",
       "text": [
        "Thread #0: \t5150000 read pairs finished. 2201 secs passed\r\n"
       ]
      },
      {
       "output_type": "stream",
       "stream": "stdout",
       "text": [
        "Thread #1: \t5200000 read pairs finished. 2251 secs passed\r\n"
       ]
      },
      {
       "output_type": "stream",
       "stream": "stdout",
       "text": [
        "Thread #0: \t5250000 read pairs finished. 2253 secs passed\r\n"
       ]
      },
      {
       "output_type": "stream",
       "stream": "stdout",
       "text": [
        "Thread #1: \t5300000 read pairs finished. 2307 secs passed\r\n"
       ]
      },
      {
       "output_type": "stream",
       "stream": "stdout",
       "text": [
        "Thread #0: \t5350000 read pairs finished. 2309 secs passed\r\n"
       ]
      },
      {
       "output_type": "stream",
       "stream": "stdout",
       "text": [
        "Thread #1: \t5400000 read pairs finished. 2333 secs passed\r\n"
       ]
      },
      {
       "output_type": "stream",
       "stream": "stdout",
       "text": [
        "Thread #0: \t5450000 read pairs finished. 2438 secs passed\r\n"
       ]
      },
      {
       "output_type": "stream",
       "stream": "stdout",
       "text": [
        "Thread #1: \t5500000 read pairs finished. 2439 secs passed\r\n"
       ]
      },
      {
       "output_type": "stream",
       "stream": "stdout",
       "text": [
        "Thread #0: \t5550000 read pairs finished. 2539 secs passed\r\n"
       ]
      },
      {
       "output_type": "stream",
       "stream": "stdout",
       "text": [
        "Thread #1: \t5600000 read pairs finished. 2554 secs passed\r\n"
       ]
      },
      {
       "output_type": "stream",
       "stream": "stdout",
       "text": [
        "Thread #0: \t5650000 read pairs finished. 2567 secs passed\r\n"
       ]
      },
      {
       "output_type": "stream",
       "stream": "stdout",
       "text": [
        "Thread #1: \t5700000 read pairs finished. 2596 secs passed\r\n"
       ]
      },
      {
       "output_type": "stream",
       "stream": "stdout",
       "text": [
        "Thread #0: \t5750000 read pairs finished. 2605 secs passed\r\n"
       ]
      },
      {
       "output_type": "stream",
       "stream": "stdout",
       "text": [
        "Thread #1: \t5800000 read pairs finished. 2662 secs passed\r\n"
       ]
      },
      {
       "output_type": "stream",
       "stream": "stdout",
       "text": [
        "Thread #0: \t5850000 read pairs finished. 2664 secs passed\r\n"
       ]
      },
      {
       "output_type": "stream",
       "stream": "stdout",
       "text": [
        "Thread #1: \t5900000 read pairs finished. 2693 secs passed\r\n"
       ]
      },
      {
       "output_type": "stream",
       "stream": "stdout",
       "text": [
        "Thread #0: \t5950000 read pairs finished. 2723 secs passed\r\n"
       ]
      },
      {
       "output_type": "stream",
       "stream": "stdout",
       "text": [
        "Thread #1: \t6000000 read pairs finished. 2735 secs passed\r\n"
       ]
      },
      {
       "output_type": "stream",
       "stream": "stdout",
       "text": [
        "Thread #0: \t6050000 read pairs finished. 2767 secs passed\r\n"
       ]
      },
      {
       "output_type": "stream",
       "stream": "stdout",
       "text": [
        "Thread #1: \t6100000 read pairs finished. 2769 secs passed\r\n"
       ]
      },
      {
       "output_type": "stream",
       "stream": "stdout",
       "text": [
        "Thread #0: \t6150000 read pairs finished. 2809 secs passed\r\n"
       ]
      },
      {
       "output_type": "stream",
       "stream": "stdout",
       "text": [
        "Thread #1: \t6200000 read pairs finished. 2811 secs passed\r\n"
       ]
      },
      {
       "output_type": "stream",
       "stream": "stdout",
       "text": [
        "Thread #0: \t6250000 read pairs finished. 2871 secs passed\r\n"
       ]
      },
      {
       "output_type": "stream",
       "stream": "stdout",
       "text": [
        "Thread #1: \t6300000 read pairs finished. 2889 secs passed\r\n"
       ]
      },
      {
       "output_type": "stream",
       "stream": "stdout",
       "text": [
        "Thread #0: \t6350000 read pairs finished. 2912 secs passed\r\n"
       ]
      },
      {
       "output_type": "stream",
       "stream": "stdout",
       "text": [
        "Thread #1: \t6400000 read pairs finished. 2934 secs passed\r\n"
       ]
      },
      {
       "output_type": "stream",
       "stream": "stdout",
       "text": [
        "Thread #0: \t6450000 read pairs finished. 2956 secs passed\r\n"
       ]
      },
      {
       "output_type": "stream",
       "stream": "stdout",
       "text": [
        "Thread #1: \t6500000 read pairs finished. 2966 secs passed\r\n"
       ]
      },
      {
       "output_type": "stream",
       "stream": "stdout",
       "text": [
        "Thread #0: \t6550000 read pairs finished. 3008 secs passed\r\n"
       ]
      },
      {
       "output_type": "stream",
       "stream": "stdout",
       "text": [
        "Thread #1: \t6600000 read pairs finished. 3018 secs passed\r\n"
       ]
      },
      {
       "output_type": "stream",
       "stream": "stdout",
       "text": [
        "Thread #0: \t6650000 read pairs finished. 3058 secs passed\r\n"
       ]
      },
      {
       "output_type": "stream",
       "stream": "stdout",
       "text": [
        "Thread #1: \t6700000 read pairs finished. 3100 secs passed\r\n"
       ]
      },
      {
       "output_type": "stream",
       "stream": "stdout",
       "text": [
        "Thread #0: \t6750000 read pairs finished. 3102 secs passed\r\n"
       ]
      },
      {
       "output_type": "stream",
       "stream": "stdout",
       "text": [
        "Thread #1: \t6800000 read pairs finished. 3137 secs passed\r\n"
       ]
      },
      {
       "output_type": "stream",
       "stream": "stdout",
       "text": [
        "Thread #0: \t6850000 read pairs finished. 3139 secs passed\r\n"
       ]
      },
      {
       "output_type": "stream",
       "stream": "stdout",
       "text": [
        "Thread #1: \t6900000 read pairs finished. 3174 secs passed\r\n"
       ]
      },
      {
       "output_type": "stream",
       "stream": "stdout",
       "text": [
        "Thread #0: \t6950000 read pairs finished. 3187 secs passed\r\n"
       ]
      },
      {
       "output_type": "stream",
       "stream": "stdout",
       "text": [
        "Thread #1: \t7000000 read pairs finished. 3211 secs passed\r\n"
       ]
      },
      {
       "output_type": "stream",
       "stream": "stdout",
       "text": [
        "Thread #0: \t7050000 read pairs finished. 3244 secs passed\r\n"
       ]
      },
      {
       "output_type": "stream",
       "stream": "stdout",
       "text": [
        "Thread #1: \t7100000 read pairs finished. 3246 secs passed\r\n"
       ]
      },
      {
       "output_type": "stream",
       "stream": "stdout",
       "text": [
        "Thread #0: \t7150000 read pairs finished. 3284 secs passed\r\n"
       ]
      },
      {
       "output_type": "stream",
       "stream": "stdout",
       "text": [
        "Thread #1: \t7200000 read pairs finished. 3290 secs passed\r\n"
       ]
      },
      {
       "output_type": "stream",
       "stream": "stdout",
       "text": [
        "Thread #0: \t7250000 read pairs finished. 3358 secs passed\r\n"
       ]
      },
      {
       "output_type": "stream",
       "stream": "stdout",
       "text": [
        "Thread #1: \t7300000 read pairs finished. 3361 secs passed\r\n"
       ]
      },
      {
       "output_type": "stream",
       "stream": "stdout",
       "text": [
        "Thread #0: \t7350000 read pairs finished. 3413 secs passed\r\n"
       ]
      },
      {
       "output_type": "stream",
       "stream": "stdout",
       "text": [
        "Thread #1: \t7400000 read pairs finished. 3433 secs passed\r\n"
       ]
      },
      {
       "output_type": "stream",
       "stream": "stdout",
       "text": [
        "Thread #0: \t7450000 read pairs finished. 3456 secs passed\r\n"
       ]
      },
      {
       "output_type": "stream",
       "stream": "stdout",
       "text": [
        "Thread #1: \t7500000 read pairs finished. 3479 secs passed\r\n"
       ]
      },
      {
       "output_type": "stream",
       "stream": "stdout",
       "text": [
        "Thread #0: \t7550000 read pairs finished. 3496 secs passed\r\n"
       ]
      },
      {
       "output_type": "stream",
       "stream": "stdout",
       "text": [
        "Thread #1: \t7600000 read pairs finished. 3512 secs passed\r\n"
       ]
      },
      {
       "output_type": "stream",
       "stream": "stdout",
       "text": [
        "Thread #0: \t7650000 read pairs finished. 3531 secs passed\r\n"
       ]
      },
      {
       "output_type": "stream",
       "stream": "stdout",
       "text": [
        "Thread #1: \t7700000 read pairs finished. 3562 secs passed\r\n"
       ]
      },
      {
       "output_type": "stream",
       "stream": "stdout",
       "text": [
        "Thread #0: \t7750000 read pairs finished. 3571 secs passed\r\n"
       ]
      },
      {
       "output_type": "stream",
       "stream": "stdout",
       "text": [
        "Thread #1: \t7800000 read pairs finished. 3590 secs passed\r\n"
       ]
      },
      {
       "output_type": "stream",
       "stream": "stdout",
       "text": [
        "Thread #0: \t7850000 read pairs finished. 3625 secs passed\r\n"
       ]
      },
      {
       "output_type": "stream",
       "stream": "stdout",
       "text": [
        "Thread #1: \t7900000 read pairs finished. 3629 secs passed\r\n"
       ]
      },
      {
       "output_type": "stream",
       "stream": "stdout",
       "text": [
        "Thread #0: \t7950000 read pairs finished. 3659 secs passed\r\n"
       ]
      },
      {
       "output_type": "stream",
       "stream": "stdout",
       "text": [
        "Thread #1: \t8000000 read pairs finished. 3672 secs passed\r\n"
       ]
      },
      {
       "output_type": "stream",
       "stream": "stdout",
       "text": [
        "Thread #0: \t8050000 read pairs finished. 3702 secs passed\r\n"
       ]
      },
      {
       "output_type": "stream",
       "stream": "stdout",
       "text": [
        "Thread #1: \t8100000 read pairs finished. 3711 secs passed\r\n"
       ]
      },
      {
       "output_type": "stream",
       "stream": "stdout",
       "text": [
        "Thread #0: \t8150000 read pairs finished. 3732 secs passed\r\n"
       ]
      },
      {
       "output_type": "stream",
       "stream": "stdout",
       "text": [
        "Thread #1: \t8200000 read pairs finished. 3791 secs passed\r\n"
       ]
      },
      {
       "output_type": "stream",
       "stream": "stdout",
       "text": [
        "Thread #0: \t8250000 read pairs finished. 3808 secs passed\r\n"
       ]
      },
      {
       "output_type": "stream",
       "stream": "stdout",
       "text": [
        "Total number of aligned reads: \r\n",
        "pairs:       2340694 (28%)\r\n",
        "single a:    3150081 (38%)\r\n",
        "single b:    2811635 (34%)\r\n",
        "Done.\r\n",
        "Finished at Fri Feb 28 09:41:09 2014\r\n",
        "Total time consumed:  3820 secs\r\n"
       ]
      }
     ],
     "prompt_number": 62
    },
    {
     "cell_type": "code",
     "collapsed": false,
     "input": [],
     "language": "python",
     "metadata": {},
     "outputs": []
    },
    {
     "cell_type": "code",
     "collapsed": false,
     "input": [],
     "language": "python",
     "metadata": {},
     "outputs": []
    },
    {
     "cell_type": "heading",
     "level": 3,
     "metadata": {},
     "source": [
      "Concerned about average coverage - lets do unmerged"
     ]
    },
    {
     "cell_type": "code",
     "collapsed": false,
     "input": [
      "\n",
      "#file ID\n",
      "fid=\"CgM1_A8__Esm\"\n",
      "\n",
      "#TIMESTAMP\n",
      "date=!date +%m%d_%H%M\n",
      "\n",
      "#working directory (parent)\n",
      "wd=\"/Volumes/web/cnidarian/BiGo_larvae_merge/\"\n",
      "\n",
      "#where is bsmap\n",
      "#bsmap=\"/Users/Shared/Apps/bsmap-2.73/\"\n",
      "bsmap=\"/Volumes/Bay3/Software/BSMAP/bsmap-2.74/\"\n",
      "\n",
      "#fastq files location R1 location\n",
      "#R1=\"/Volumes/web/cnidarian/BiGo_larvae_merge/CgM1_R1a.fastq\"\n",
      "R1=\"/Volumes/web/trilobite/Crassostrea_gigas_HTSdata/batterbox/FCD2CA8_2/Sample_BS_CgM1/filtered_BS_CgM1_ACTTGA_L007_R1.fastq\"\n",
      "\n",
      "#fastq files location R2 location\n",
      "#comment out if SE\n",
      "#R2=\"/Volumes/web/cnidarian/BiGo_larvae_merge/CgM1_R2a.fastq\"\n",
      "R2=\"/Volumes/web/trilobite/Crassostrea_gigas_HTSdata/batterbox/FCD2CA8_2/Sample_BS_CgM1/filtered_BS_CgM1_ACTTGA_L007_R2.fastq\"\n",
      "\n",
      "#genome file \n",
      "genome=\"/Volumes/web/whale/ensembl/ftp.ensemblgenomes.org/pub/release-21/metazoa/fasta/crassostrea_gigas/dna/Crassostrea_gigas.GCA_000297895.1.21.dna_sm.genome.fa\"\n",
      "#genome=\"/Volumes/web/whale/ensembl/ftp.ensemblgenomes.org/pub/release-21/metazoa/fasta/crassostrea_gigas/dna/Crassostrea_gigas.GCA_000297895.1.21.dna.genome.fa\"\n"
     ],
     "language": "python",
     "metadata": {},
     "outputs": [],
     "prompt_number": 63
    },
    {
     "cell_type": "code",
     "collapsed": false,
     "input": [
      "cd {wd} "
     ],
     "language": "python",
     "metadata": {},
     "outputs": [
      {
       "output_type": "stream",
       "stream": "stdout",
       "text": [
        "/Volumes/web/cnidarian/BiGo_larvae_merge\n"
       ]
      }
     ],
     "prompt_number": 64
    },
    {
     "cell_type": "code",
     "collapsed": false,
     "input": [
      "mkdir {fid}_{date}  \n"
     ],
     "language": "python",
     "metadata": {},
     "outputs": [],
     "prompt_number": 65
    },
    {
     "cell_type": "code",
     "collapsed": false,
     "input": [
      "cd {fid}_{date} "
     ],
     "language": "python",
     "metadata": {},
     "outputs": [
      {
       "output_type": "stream",
       "stream": "stdout",
       "text": [
        "/Volumes/web/cnidarian/BiGo_larvae_merge/CgM1_A8__Esm_[0228_0958]\n"
       ]
      }
     ],
     "prompt_number": 66
    },
    {
     "cell_type": "code",
     "collapsed": false,
     "input": [
      "!{bsmap}bsmap -a {R1} -b {R2} -d {genome} -o bsmap_out.sam -p 2"
     ],
     "language": "python",
     "metadata": {},
     "outputs": [
      {
       "output_type": "stream",
       "stream": "stdout",
       "text": [
        "\r\n",
        "BSMAP v2.74\r\n",
        "Start at:  Fri Feb 28 09:59:43 2014\r\n",
        "\r\n",
        "Input reference file: /Volumes/web/whale/ensembl/ftp.ensemblgenomes.org/pub/release-21/metazoa/fasta/crassostrea_gigas/dna/Crassostrea_gigas.GCA_000297895.1.21.dna_sm.genome.fa"
       ]
      },
      {
       "output_type": "stream",
       "stream": "stdout",
       "text": [
        " \t(format: FASTA)\r\n"
       ]
      },
      {
       "output_type": "stream",
       "stream": "stdout",
       "text": [
        "Load in 7658 db seqs, total size 557717710 bp. 629 secs passed\r\n",
        "total_kmers: 43046721\r\n"
       ]
      },
      {
       "output_type": "stream",
       "stream": "stdout",
       "text": [
        "Create seed table. 683 secs passed\r\n",
        "max number of mismatches: read_length * 8% \tmax gap size: 0\r\n",
        "kmer cut-off ratio: 5e-07\r\n",
        "max multi-hits: 100\tmax Ns: 5\tseed size: 16\tindex interval: 4\r\n",
        "quality cutoff: 0\tbase quality char: '!'\r\n",
        "min fragment size:28\tmax fragemt size:500\r\n",
        "start from read #1\tend at read #4294967295\r\n",
        "additional alignment: T in reads => C in reference\r\n",
        "mapping strand (read_1): ++,-+\r\n",
        "mapping strand (read_2): +-,--\r\n",
        "Pair-end alignment(2 threads)\r\n",
        "Input read file #1: /Volumes/web/trilobite/Crassostrea_gigas_HTSdata/batterbox/FCD2CA8_2/Sample_BS_CgM1/filtered_BS_CgM1_ACTTGA_L007_R1.fastq"
       ]
      },
      {
       "output_type": "stream",
       "stream": "stdout",
       "text": [
        " \t(format: FASTQ)\r\n"
       ]
      },
      {
       "output_type": "stream",
       "stream": "stdout",
       "text": [
        "Input read file #2: /Volumes/web/trilobite/Crassostrea_gigas_HTSdata/batterbox/FCD2CA8_2/Sample_BS_CgM1/filtered_BS_CgM1_ACTTGA_L007_R2.fastq"
       ]
      },
      {
       "output_type": "stream",
       "stream": "stdout",
       "text": [
        " \t(format: FASTQ)\r\n"
       ]
      },
      {
       "output_type": "stream",
       "stream": "stdout",
       "text": [
        "Output file: bsmap_out.sam\t (format: SAM)\r\n"
       ]
      },
      {
       "output_type": "stream",
       "stream": "stdout",
       "text": [
        "Thread #0: \t50000 read pairs finished. 854 secs passed\r\n"
       ]
      },
      {
       "output_type": "stream",
       "stream": "stdout",
       "text": [
        "Thread #1: \t100000 read pairs finished. 881 secs passed\r\n"
       ]
      },
      {
       "output_type": "stream",
       "stream": "stdout",
       "text": [
        "Thread #1: \t200000 read pairs finished. 921 secs passed\r\n"
       ]
      },
      {
       "output_type": "stream",
       "stream": "stdout",
       "text": [
        "Thread #0: \t150000 read pairs finished. 1001 secs passed\r\n"
       ]
      },
      {
       "output_type": "stream",
       "stream": "stdout",
       "text": [
        "Thread #1: \t250000 read pairs finished. 1040 secs passed\r\n"
       ]
      },
      {
       "output_type": "stream",
       "stream": "stdout",
       "text": [
        "Thread #0: \t300000 read pairs finished. 1041 secs passed\r\n"
       ]
      },
      {
       "output_type": "stream",
       "stream": "stdout",
       "text": [
        "Thread #1: \t350000 read pairs finished. 1073 secs passed\r\n"
       ]
      },
      {
       "output_type": "stream",
       "stream": "stdout",
       "text": [
        "Thread #0: \t400000 read pairs finished. 1074 secs passed\r\n"
       ]
      },
      {
       "output_type": "stream",
       "stream": "stdout",
       "text": [
        "Thread #1: \t450000 read pairs finished. 1098 secs passed\r\n"
       ]
      },
      {
       "output_type": "stream",
       "stream": "stdout",
       "text": [
        "Thread #0: \t500000 read pairs finished. 1099 secs passed\r\n"
       ]
      },
      {
       "output_type": "stream",
       "stream": "stdout",
       "text": [
        "Thread #1: \t550000 read pairs finished. 1129 secs passed\r\n"
       ]
      },
      {
       "output_type": "stream",
       "stream": "stdout",
       "text": [
        "Thread #0: \t600000 read pairs finished. 1130 secs passed\r\n"
       ]
      },
      {
       "output_type": "stream",
       "stream": "stdout",
       "text": [
        "Thread #1: \t650000 read pairs finished. 1188 secs passed\r\n"
       ]
      },
      {
       "output_type": "stream",
       "stream": "stdout",
       "text": [
        "Thread #0: \t700000 read pairs finished. 1192 secs passed\r\n"
       ]
      },
      {
       "output_type": "stream",
       "stream": "stdout",
       "text": [
        "Thread #1: \t750000 read pairs finished. 1236 secs passed\r\n"
       ]
      },
      {
       "output_type": "stream",
       "stream": "stdout",
       "text": [
        "Thread #0: \t800000 read pairs finished. 1238 secs passed\r\n"
       ]
      },
      {
       "output_type": "stream",
       "stream": "stdout",
       "text": [
        "Thread #1: \t850000 read pairs finished. 1273 secs passed\r\n"
       ]
      },
      {
       "output_type": "stream",
       "stream": "stdout",
       "text": [
        "Thread #0: \t900000 read pairs finished. 1275 secs passed\r\n"
       ]
      },
      {
       "output_type": "stream",
       "stream": "stdout",
       "text": [
        "Thread #1: \t950000 read pairs finished. 1311 secs passed\r\n"
       ]
      },
      {
       "output_type": "stream",
       "stream": "stdout",
       "text": [
        "Thread #0: \t1000000 read pairs finished. 1312 secs passed\r\n"
       ]
      },
      {
       "output_type": "stream",
       "stream": "stdout",
       "text": [
        "Thread #1: \t1050000 read pairs finished. 1345 secs passed\r\n"
       ]
      },
      {
       "output_type": "stream",
       "stream": "stdout",
       "text": [
        "Thread #0: \t1100000 read pairs finished. 1348 secs passed\r\n"
       ]
      },
      {
       "output_type": "stream",
       "stream": "stdout",
       "text": [
        "Thread #1: \t1150000 read pairs finished. 1378 secs passed\r\n"
       ]
      },
      {
       "output_type": "stream",
       "stream": "stdout",
       "text": [
        "Thread #0: \t1200000 read pairs finished. 1382 secs passed\r\n"
       ]
      },
      {
       "output_type": "stream",
       "stream": "stdout",
       "text": [
        "Thread #1: \t1250000 read pairs finished. 1415 secs passed\r\n"
       ]
      },
      {
       "output_type": "stream",
       "stream": "stdout",
       "text": [
        "Thread #0: \t1300000 read pairs finished. 1419 secs passed\r\n"
       ]
      },
      {
       "output_type": "stream",
       "stream": "stdout",
       "text": [
        "Thread #1: \t1350000 read pairs finished. 1451 secs passed\r\n"
       ]
      },
      {
       "output_type": "stream",
       "stream": "stdout",
       "text": [
        "Thread #0: \t1400000 read pairs finished. 1453 secs passed\r\n"
       ]
      },
      {
       "output_type": "stream",
       "stream": "stdout",
       "text": [
        "Thread #1: \t1450000 read pairs finished. 1486 secs passed\r\n"
       ]
      },
      {
       "output_type": "stream",
       "stream": "stdout",
       "text": [
        "Thread #0: \t1500000 read pairs finished. 1490 secs passed\r\n"
       ]
      },
      {
       "output_type": "stream",
       "stream": "stdout",
       "text": [
        "Thread #1: \t1550000 read pairs finished. 1516 secs passed\r\n"
       ]
      },
      {
       "output_type": "stream",
       "stream": "stdout",
       "text": [
        "Thread #0: \t1600000 read pairs finished. 1519 secs passed\r\n"
       ]
      },
      {
       "output_type": "stream",
       "stream": "stdout",
       "text": [
        "Thread #1: \t1650000 read pairs finished. 1548 secs passed\r\n"
       ]
      },
      {
       "output_type": "stream",
       "stream": "stdout",
       "text": [
        "Thread #0: \t1700000 read pairs finished. 1553 secs passed\r\n"
       ]
      },
      {
       "output_type": "stream",
       "stream": "stdout",
       "text": [
        "Thread #1: \t1750000 read pairs finished. 1584 secs passed\r\n"
       ]
      },
      {
       "output_type": "stream",
       "stream": "stdout",
       "text": [
        "Thread #0: \t1800000 read pairs finished. 1588 secs passed\r\n"
       ]
      },
      {
       "output_type": "stream",
       "stream": "stdout",
       "text": [
        "Thread #1: \t1850000 read pairs finished. 1609 secs passed\r\n"
       ]
      },
      {
       "output_type": "stream",
       "stream": "stdout",
       "text": [
        "Thread #0: \t1900000 read pairs finished. 1613 secs passed\r\n"
       ]
      },
      {
       "output_type": "stream",
       "stream": "stdout",
       "text": [
        "Thread #1: \t1950000 read pairs finished. 1637 secs passed\r\n"
       ]
      },
      {
       "output_type": "stream",
       "stream": "stdout",
       "text": [
        "Thread #0: \t2000000 read pairs finished. 1642 secs passed\r\n"
       ]
      },
      {
       "output_type": "stream",
       "stream": "stdout",
       "text": [
        "Thread #1: \t2050000 read pairs finished. 1664 secs passed\r\n"
       ]
      },
      {
       "output_type": "stream",
       "stream": "stdout",
       "text": [
        "Thread #0: \t2100000 read pairs finished. 1667 secs passed\r\n"
       ]
      },
      {
       "output_type": "stream",
       "stream": "stdout",
       "text": [
        "Thread #1: \t2150000 read pairs finished. 1692 secs passed\r\n"
       ]
      },
      {
       "output_type": "stream",
       "stream": "stdout",
       "text": [
        "Thread #0: \t2200000 read pairs finished. 1698 secs passed\r\n"
       ]
      },
      {
       "output_type": "stream",
       "stream": "stdout",
       "text": [
        "Thread #1: \t2250000 read pairs finished. 1722 secs passed\r\n"
       ]
      },
      {
       "output_type": "stream",
       "stream": "stdout",
       "text": [
        "Thread #0: \t2300000 read pairs finished. 1728 secs passed\r\n"
       ]
      },
      {
       "output_type": "stream",
       "stream": "stdout",
       "text": [
        "Thread #1: \t2350000 read pairs finished. 1749 secs passed\r\n"
       ]
      },
      {
       "output_type": "stream",
       "stream": "stdout",
       "text": [
        "Thread #0: \t2400000 read pairs finished. 1756 secs passed\r\n"
       ]
      },
      {
       "output_type": "stream",
       "stream": "stdout",
       "text": [
        "Thread #1: \t2450000 read pairs finished. 1783 secs passed\r\n"
       ]
      },
      {
       "output_type": "stream",
       "stream": "stdout",
       "text": [
        "Thread #0: \t2500000 read pairs finished. 1790 secs passed\r\n"
       ]
      },
      {
       "output_type": "stream",
       "stream": "stdout",
       "text": [
        "Thread #1: \t2550000 read pairs finished. 1810 secs passed\r\n"
       ]
      },
      {
       "output_type": "stream",
       "stream": "stdout",
       "text": [
        "Thread #0: \t2600000 read pairs finished. 1818 secs passed\r\n"
       ]
      },
      {
       "output_type": "stream",
       "stream": "stdout",
       "text": [
        "Thread #1: \t2650000 read pairs finished. 1837 secs passed\r\n"
       ]
      },
      {
       "output_type": "stream",
       "stream": "stdout",
       "text": [
        "Thread #0: \t2700000 read pairs finished. 1843 secs passed\r\n"
       ]
      },
      {
       "output_type": "stream",
       "stream": "stdout",
       "text": [
        "Thread #1: \t2750000 read pairs finished. 1862 secs passed\r\n"
       ]
      },
      {
       "output_type": "stream",
       "stream": "stdout",
       "text": [
        "Thread #0: \t2800000 read pairs finished. 1870 secs passed\r\n"
       ]
      },
      {
       "output_type": "stream",
       "stream": "stdout",
       "text": [
        "Thread #1: \t2850000 read pairs finished. 1891 secs passed\r\n"
       ]
      },
      {
       "output_type": "stream",
       "stream": "stdout",
       "text": [
        "Thread #0: \t2900000 read pairs finished. 1899 secs passed\r\n"
       ]
      },
      {
       "output_type": "stream",
       "stream": "stdout",
       "text": [
        "Thread #1: \t2950000 read pairs finished. 1928 secs passed\r\n"
       ]
      },
      {
       "output_type": "stream",
       "stream": "stdout",
       "text": [
        "Thread #0: \t3000000 read pairs finished. 1939 secs passed\r\n"
       ]
      },
      {
       "output_type": "stream",
       "stream": "stdout",
       "text": [
        "Thread #1: \t3050000 read pairs finished. 1972 secs passed\r\n"
       ]
      },
      {
       "output_type": "stream",
       "stream": "stdout",
       "text": [
        "Thread #0: \t3100000 read pairs finished. 1982 secs passed\r\n"
       ]
      },
      {
       "output_type": "stream",
       "stream": "stdout",
       "text": [
        "Thread #1: \t3150000 read pairs finished. 2002 secs passed\r\n"
       ]
      },
      {
       "output_type": "stream",
       "stream": "stdout",
       "text": [
        "Thread #0: \t3200000 read pairs finished. 2008 secs passed\r\n"
       ]
      },
      {
       "output_type": "stream",
       "stream": "stdout",
       "text": [
        "Thread #1: \t3250000 read pairs finished. 2028 secs passed\r\n"
       ]
      },
      {
       "output_type": "stream",
       "stream": "stdout",
       "text": [
        "Thread #0: \t3300000 read pairs finished. 2036 secs passed\r\n"
       ]
      },
      {
       "output_type": "stream",
       "stream": "stdout",
       "text": [
        "Thread #1: \t3350000 read pairs finished. 2054 secs passed\r\n"
       ]
      },
      {
       "output_type": "stream",
       "stream": "stdout",
       "text": [
        "Thread #0: \t3400000 read pairs finished. 2064 secs passed\r\n"
       ]
      },
      {
       "output_type": "stream",
       "stream": "stdout",
       "text": [
        "Thread #1: \t3450000 read pairs finished. 2084 secs passed\r\n"
       ]
      },
      {
       "output_type": "stream",
       "stream": "stdout",
       "text": [
        "Thread #0: \t3500000 read pairs finished. 2093 secs passed\r\n"
       ]
      },
      {
       "output_type": "stream",
       "stream": "stdout",
       "text": [
        "Thread #1: \t3550000 read pairs finished. 2114 secs passed\r\n"
       ]
      },
      {
       "output_type": "stream",
       "stream": "stdout",
       "text": [
        "Thread #0: \t3600000 read pairs finished. 2122 secs passed\r\n"
       ]
      },
      {
       "output_type": "stream",
       "stream": "stdout",
       "text": [
        "Thread #1: \t3650000 read pairs finished. 2139 secs passed\r\n"
       ]
      },
      {
       "output_type": "stream",
       "stream": "stdout",
       "text": [
        "Thread #0: \t3700000 read pairs finished. 2148 secs passed\r\n"
       ]
      },
      {
       "output_type": "stream",
       "stream": "stdout",
       "text": [
        "Thread #1: \t3750000 read pairs finished. 2169 secs passed\r\n"
       ]
      },
      {
       "output_type": "stream",
       "stream": "stdout",
       "text": [
        "Thread #0: \t3800000 read pairs finished. 2177 secs passed\r\n"
       ]
      },
      {
       "output_type": "stream",
       "stream": "stdout",
       "text": [
        "Thread #1: \t3850000 read pairs finished. 2194 secs passed\r\n"
       ]
      },
      {
       "output_type": "stream",
       "stream": "stdout",
       "text": [
        "Thread #0: \t3900000 read pairs finished. 2203 secs passed\r\n"
       ]
      },
      {
       "output_type": "stream",
       "stream": "stdout",
       "text": [
        "Thread #1: \t3950000 read pairs finished. 2222 secs passed\r\n"
       ]
      },
      {
       "output_type": "stream",
       "stream": "stdout",
       "text": [
        "Thread #0: \t4000000 read pairs finished. 2229 secs passed\r\n"
       ]
      },
      {
       "output_type": "stream",
       "stream": "stdout",
       "text": [
        "Thread #1: \t4050000 read pairs finished. 2246 secs passed\r\n"
       ]
      },
      {
       "output_type": "stream",
       "stream": "stdout",
       "text": [
        "Thread #0: \t4100000 read pairs finished. 2255 secs passed\r\n"
       ]
      },
      {
       "output_type": "stream",
       "stream": "stdout",
       "text": [
        "Thread #1: \t4150000 read pairs finished. 2277 secs passed\r\n"
       ]
      },
      {
       "output_type": "stream",
       "stream": "stdout",
       "text": [
        "Thread #0: \t4200000 read pairs finished. 2287 secs passed\r\n"
       ]
      },
      {
       "output_type": "stream",
       "stream": "stdout",
       "text": [
        "Thread #1: \t4250000 read pairs finished. 2306 secs passed\r\n"
       ]
      },
      {
       "output_type": "stream",
       "stream": "stdout",
       "text": [
        "Thread #0: \t4300000 read pairs finished. 2315 secs passed\r\n"
       ]
      },
      {
       "output_type": "stream",
       "stream": "stdout",
       "text": [
        "Thread #1: \t4350000 read pairs finished. 2332 secs passed\r\n"
       ]
      },
      {
       "output_type": "stream",
       "stream": "stdout",
       "text": [
        "Thread #0: \t4400000 read pairs finished. 2342 secs passed\r\n"
       ]
      },
      {
       "output_type": "stream",
       "stream": "stdout",
       "text": [
        "Thread #1: \t4450000 read pairs finished. 2359 secs passed\r\n"
       ]
      },
      {
       "output_type": "stream",
       "stream": "stdout",
       "text": [
        "Thread #0: \t4500000 read pairs finished. 2368 secs passed\r\n"
       ]
      },
      {
       "output_type": "stream",
       "stream": "stdout",
       "text": [
        "Thread #1: \t4550000 read pairs finished. 2386 secs passed\r\n"
       ]
      },
      {
       "output_type": "stream",
       "stream": "stdout",
       "text": [
        "Thread #0: \t4600000 read pairs finished. 2395 secs passed\r\n"
       ]
      },
      {
       "output_type": "stream",
       "stream": "stdout",
       "text": [
        "Thread #1: \t4650000 read pairs finished. 2415 secs passed\r\n"
       ]
      },
      {
       "output_type": "stream",
       "stream": "stdout",
       "text": [
        "Thread #0: \t4700000 read pairs finished. 2428 secs passed\r\n"
       ]
      },
      {
       "output_type": "stream",
       "stream": "stdout",
       "text": [
        "Thread #1: \t4750000 read pairs finished. 2445 secs passed\r\n"
       ]
      },
      {
       "output_type": "stream",
       "stream": "stdout",
       "text": [
        "Thread #0: \t4800000 read pairs finished. 2456 secs passed\r\n"
       ]
      },
      {
       "output_type": "stream",
       "stream": "stdout",
       "text": [
        "Thread #1: \t4850000 read pairs finished. 2475 secs passed\r\n"
       ]
      },
      {
       "output_type": "stream",
       "stream": "stdout",
       "text": [
        "Thread #0: \t4900000 read pairs finished. 2488 secs passed\r\n"
       ]
      },
      {
       "output_type": "stream",
       "stream": "stdout",
       "text": [
        "Thread #1: \t4950000 read pairs finished. 2504 secs passed\r\n"
       ]
      },
      {
       "output_type": "stream",
       "stream": "stdout",
       "text": [
        "Thread #0: \t5000000 read pairs finished. 2516 secs passed\r\n"
       ]
      },
      {
       "output_type": "stream",
       "stream": "stdout",
       "text": [
        "Thread #1: \t5050000 read pairs finished. 2534 secs passed\r\n"
       ]
      },
      {
       "output_type": "stream",
       "stream": "stdout",
       "text": [
        "Thread #0: \t5100000 read pairs finished. 2545 secs passed\r\n"
       ]
      },
      {
       "output_type": "stream",
       "stream": "stdout",
       "text": [
        "Thread #1: \t5150000 read pairs finished. 2560 secs passed\r\n"
       ]
      },
      {
       "output_type": "stream",
       "stream": "stdout",
       "text": [
        "Thread #0: \t5200000 read pairs finished. 2571 secs passed\r\n"
       ]
      },
      {
       "output_type": "stream",
       "stream": "stdout",
       "text": [
        "Thread #1: \t5250000 read pairs finished. 2587 secs passed\r\n"
       ]
      },
      {
       "output_type": "stream",
       "stream": "stdout",
       "text": [
        "Thread #0: \t5300000 read pairs finished. 2598 secs passed\r\n"
       ]
      },
      {
       "output_type": "stream",
       "stream": "stdout",
       "text": [
        "Thread #1: \t5350000 read pairs finished. 2613 secs passed\r\n"
       ]
      },
      {
       "output_type": "stream",
       "stream": "stdout",
       "text": [
        "Thread #0: \t5400000 read pairs finished. 2625 secs passed\r\n"
       ]
      },
      {
       "output_type": "stream",
       "stream": "stdout",
       "text": [
        "Thread #1: \t5450000 read pairs finished. 2641 secs passed\r\n"
       ]
      },
      {
       "output_type": "stream",
       "stream": "stdout",
       "text": [
        "Thread #0: \t5500000 read pairs finished. 2655 secs passed\r\n"
       ]
      },
      {
       "output_type": "stream",
       "stream": "stdout",
       "text": [
        "Thread #1: \t5543163 read pairs finished. 2664 secs passed\r\n"
       ]
      },
      {
       "output_type": "stream",
       "stream": "stdout",
       "text": [
        "Total number of aligned reads: \r\n",
        "pairs:       2597461 (47%)\r\n",
        "single a:    1090241 (20%)\r\n",
        "single b:    894626 (16%)\r\n",
        "Done.\r\n",
        "Finished at Fri Feb 28 10:44:07 2014\r\n",
        "Total time consumed:  2664 secs\r\n"
       ]
      }
     ],
     "prompt_number": 67
    },
    {
     "cell_type": "markdown",
     "metadata": {},
     "source": [
      "About the same percent map with using unmerged file."
     ]
    },
    {
     "cell_type": "heading",
     "level": 3,
     "metadata": {},
     "source": [
      "Same run but lets use rm verion ie NNNNNNNNN"
     ]
    },
    {
     "cell_type": "code",
     "collapsed": false,
     "input": [
      "\n",
      "#file ID\n",
      "fid=\"CgM1_A8__Erm\"\n",
      "\n",
      "#TIMESTAMP\n",
      "date=!date +%m%d_%H%M\n",
      "\n",
      "#working directory (parent)\n",
      "wd=\"/Volumes/web/cnidarian/BiGo_larvae_merge/\"\n",
      "\n",
      "#where is bsmap\n",
      "#bsmap=\"/Users/Shared/Apps/bsmap-2.73/\"\n",
      "bsmap=\"/Volumes/Bay3/Software/BSMAP/bsmap-2.74/\"\n",
      "\n",
      "#fastq files location R1 location\n",
      "#R1=\"/Volumes/web/cnidarian/BiGo_larvae_merge/CgM1_R1a.fastq\"\n",
      "R1=\"/Volumes/web/trilobite/Crassostrea_gigas_HTSdata/batterbox/FCD2CA8_2/Sample_BS_CgM1/filtered_BS_CgM1_ACTTGA_L007_R1.fastq\"\n",
      "\n",
      "#fastq files location R2 location\n",
      "#comment out if SE\n",
      "#R2=\"/Volumes/web/cnidarian/BiGo_larvae_merge/CgM1_R2a.fastq\"\n",
      "R2=\"/Volumes/web/trilobite/Crassostrea_gigas_HTSdata/batterbox/FCD2CA8_2/Sample_BS_CgM1/filtered_BS_CgM1_ACTTGA_L007_R2.fastq\"\n",
      "\n",
      "#genome file \n",
      "genome=\"/Volumes/web/whale/ensembl/ftp.ensemblgenomes.org/pub/release-21/metazoa/fasta/crassostrea_gigas/dna/Crassostrea_gigas.GCA_000297895.1.21.dna_rm.genome.fa\"\n",
      "#genome=\"/Volumes/web/whale/ensembl/ftp.ensemblgenomes.org/pub/release-21/metazoa/fasta/crassostrea_gigas/dna/Crassostrea_gigas.GCA_000297895.1.21.dna.genome.fa\"\n"
     ],
     "language": "python",
     "metadata": {},
     "outputs": [],
     "prompt_number": 68
    },
    {
     "cell_type": "code",
     "collapsed": false,
     "input": [
      "cd {wd} "
     ],
     "language": "python",
     "metadata": {},
     "outputs": [
      {
       "output_type": "stream",
       "stream": "stdout",
       "text": [
        "/Volumes/web/cnidarian/BiGo_larvae_merge\n"
       ]
      }
     ],
     "prompt_number": 69
    },
    {
     "cell_type": "code",
     "collapsed": false,
     "input": [
      "mkdir {fid}_{date}  \n"
     ],
     "language": "python",
     "metadata": {},
     "outputs": [],
     "prompt_number": 70
    },
    {
     "cell_type": "code",
     "collapsed": false,
     "input": [
      "cd {fid}_{date} "
     ],
     "language": "python",
     "metadata": {},
     "outputs": [
      {
       "output_type": "stream",
       "stream": "stdout",
       "text": [
        "/Volumes/web/cnidarian/BiGo_larvae_merge/CgM1_A8__Erm_[0228_1048]\n"
       ]
      }
     ],
     "prompt_number": 71
    },
    {
     "cell_type": "code",
     "collapsed": false,
     "input": [
      "!{bsmap}bsmap -a {R1} -b {R2} -d {genome} -o bsmap_out.sam -p 2"
     ],
     "language": "python",
     "metadata": {},
     "outputs": [
      {
       "output_type": "stream",
       "stream": "stdout",
       "text": [
        "\r\n",
        "BSMAP v2.74\r\n"
       ]
      },
      {
       "output_type": "stream",
       "stream": "stdout",
       "text": [
        "Start at:  Fri Feb 28 10:49:29 2014\r\n",
        "\r\n",
        "Input reference file: /Volumes/web/whale/ensembl/ftp.ensemblgenomes.org/pub/release-21/metazoa/fasta/crassostrea_gigas/dna/Crassostrea_gigas.GCA_000297895.1.21.dna_rm.genome.fa"
       ]
      },
      {
       "output_type": "stream",
       "stream": "stdout",
       "text": [
        " \t(format: FASTA)\r\n"
       ]
      },
      {
       "output_type": "stream",
       "stream": "stdout",
       "text": [
        "Load in 7658 db seqs, total size 557717710 bp. 87 secs passed\r\n",
        "total_kmers: 43046721\r\n"
       ]
      },
      {
       "output_type": "stream",
       "stream": "stdout",
       "text": [
        "Create seed table. 134 secs passed\r\n",
        "max number of mismatches: read_length * 8% \tmax gap size: 0\r\n",
        "kmer cut-off ratio: 5e-07\r\n",
        "max multi-hits: 100\tmax Ns: 5\tseed size: 16\tindex interval: 4\r\n",
        "quality cutoff: 0\tbase quality char: '!'\r\n",
        "min fragment size:28\tmax fragemt size:500\r\n",
        "start from read #1\tend at read #4294967295\r\n",
        "additional alignment: T in reads => C in reference\r\n",
        "mapping strand (read_1): ++,-+\r\n",
        "mapping strand (read_2): +-,--\r\n",
        "Pair-end alignment(2 threads)\r\n",
        "Input read file #1: /Volumes/web/trilobite/Crassostrea_gigas_HTSdata/batterbox/FCD2CA8_2/Sample_BS_CgM1/filtered_BS_CgM1_ACTTGA_L007_R1.fastq"
       ]
      },
      {
       "output_type": "stream",
       "stream": "stdout",
       "text": [
        " \t(format: FASTQ)\r\n",
        "Input read file #2: /Volumes/web/trilobite/Crassostrea_gigas_HTSdata/batterbox/FCD2CA8_2/Sample_BS_CgM1/filtered_BS_CgM1_ACTTGA_L007_R2.fastq \t(format: FASTQ)\r\n",
        "Output file: bsmap_out.sam\t (format: SAM)\r\n"
       ]
      },
      {
       "output_type": "stream",
       "stream": "stdout",
       "text": [
        "Thread #1: \t100000 read pairs finished. 161 secs passed\r\n"
       ]
      },
      {
       "output_type": "stream",
       "stream": "stdout",
       "text": [
        "Thread #0: \t50000 read pairs finished. 161 secs passed\r\n"
       ]
      },
      {
       "output_type": "stream",
       "stream": "stdout",
       "text": [
        "Thread #1: \t150000 read pairs finished. 186 secs passed\r\n"
       ]
      },
      {
       "output_type": "stream",
       "stream": "stdout",
       "text": [
        "Thread #0: \t200000 read pairs finished. 187 secs passed\r\n"
       ]
      },
      {
       "output_type": "stream",
       "stream": "stdout",
       "text": [
        "Thread #1: \t250000 read pairs finished. 212 secs passed\r\n"
       ]
      },
      {
       "output_type": "stream",
       "stream": "stdout",
       "text": [
        "Thread #0: \t300000 read pairs finished. 213 secs passed\r\n"
       ]
      },
      {
       "output_type": "stream",
       "stream": "stdout",
       "text": [
        "Thread #1: \t350000 read pairs finished. 238 secs passed\r\n"
       ]
      },
      {
       "output_type": "stream",
       "stream": "stdout",
       "text": [
        "Thread #0: \t400000 read pairs finished. 239 secs passed\r\n"
       ]
      },
      {
       "output_type": "stream",
       "stream": "stdout",
       "text": [
        "Thread #1: \t450000 read pairs finished. 262 secs passed\r\n"
       ]
      },
      {
       "output_type": "stream",
       "stream": "stdout",
       "text": [
        "Thread #0: \t500000 read pairs finished. 264 secs passed\r\n"
       ]
      },
      {
       "output_type": "stream",
       "stream": "stdout",
       "text": [
        "Thread #1: \t550000 read pairs finished. 287 secs passed\r\n"
       ]
      },
      {
       "output_type": "stream",
       "stream": "stdout",
       "text": [
        "Thread #0: \t600000 read pairs finished. 290 secs passed\r\n"
       ]
      },
      {
       "output_type": "stream",
       "stream": "stdout",
       "text": [
        "Thread #1: \t650000 read pairs finished. 313 secs passed\r\n"
       ]
      },
      {
       "output_type": "stream",
       "stream": "stdout",
       "text": [
        "Thread #0: \t700000 read pairs finished. 318 secs passed\r\n"
       ]
      },
      {
       "output_type": "stream",
       "stream": "stdout",
       "text": [
        "Thread #1: \t750000 read pairs finished. 404 secs passed\r\n"
       ]
      },
      {
       "output_type": "stream",
       "stream": "stdout",
       "text": [
        "Thread #0: \t800000 read pairs finished. 410 secs passed\r\n"
       ]
      },
      {
       "output_type": "stream",
       "stream": "stdout",
       "text": [
        "Thread #1: \t850000 read pairs finished. 437 secs passed\r\n"
       ]
      },
      {
       "output_type": "stream",
       "stream": "stdout",
       "text": [
        "Thread #0: \t900000 read pairs finished. 442 secs passed\r\n"
       ]
      },
      {
       "output_type": "stream",
       "stream": "stdout",
       "text": [
        "Thread #1: \t950000 read pairs finished. 472 secs passed\r\n"
       ]
      },
      {
       "output_type": "stream",
       "stream": "stdout",
       "text": [
        "Thread #0: \t1000000 read pairs finished. 479 secs passed\r\n"
       ]
      },
      {
       "output_type": "stream",
       "stream": "stdout",
       "text": [
        "Thread #1: \t1050000 read pairs finished. 517 secs passed\r\n"
       ]
      },
      {
       "output_type": "stream",
       "stream": "stdout",
       "text": [
        "Thread #0: \t1100000 read pairs finished. 525 secs passed\r\n"
       ]
      },
      {
       "output_type": "stream",
       "stream": "stdout",
       "text": [
        "Thread #1: \t1150000 read pairs finished. 598 secs passed\r\n"
       ]
      },
      {
       "output_type": "stream",
       "stream": "stdout",
       "text": [
        "Thread #0: \t1200000 read pairs finished. 605 secs passed\r\n"
       ]
      },
      {
       "output_type": "stream",
       "stream": "stdout",
       "text": [
        "Thread #1: \t1250000 read pairs finished. 653 secs passed\r\n"
       ]
      },
      {
       "output_type": "stream",
       "stream": "stdout",
       "text": [
        "Thread #0: \t1300000 read pairs finished. 680 secs passed\r\n"
       ]
      },
      {
       "output_type": "stream",
       "stream": "stdout",
       "text": [
        "Thread #1: \t1350000 read pairs finished. 777 secs passed\r\n"
       ]
      },
      {
       "output_type": "stream",
       "stream": "stdout",
       "text": [
        "Thread #0: \t1400000 read pairs finished. 783 secs passed\r\n"
       ]
      },
      {
       "output_type": "stream",
       "stream": "stdout",
       "text": [
        "Thread #1: \t1450000 read pairs finished. 874 secs passed\r\n"
       ]
      },
      {
       "output_type": "stream",
       "stream": "stdout",
       "text": [
        "Thread #0: \t1500000 read pairs finished. 892 secs passed\r\n"
       ]
      },
      {
       "output_type": "stream",
       "stream": "stdout",
       "text": [
        "Thread #1: \t1550000 read pairs finished. 949 secs passed\r\n"
       ]
      },
      {
       "output_type": "stream",
       "stream": "stdout",
       "text": [
        "Thread #0: \t1600000 read pairs finished. 994 secs passed\r\n"
       ]
      },
      {
       "output_type": "stream",
       "stream": "stdout",
       "text": [
        "Thread #1: \t1650000 read pairs finished. 1009 secs passed\r\n"
       ]
      },
      {
       "output_type": "stream",
       "stream": "stdout",
       "text": [
        "Thread #0: \t1700000 read pairs finished. 1056 secs passed\r\n"
       ]
      },
      {
       "output_type": "stream",
       "stream": "stdout",
       "text": [
        "Thread #1: \t1750000 read pairs finished. 1073 secs passed\r\n"
       ]
      },
      {
       "output_type": "stream",
       "stream": "stdout",
       "text": [
        "Thread #0: \t1800000 read pairs finished. 1119 secs passed\r\n"
       ]
      },
      {
       "output_type": "stream",
       "stream": "stdout",
       "text": [
        "Thread #1: \t1850000 read pairs finished. 1131 secs passed\r\n"
       ]
      },
      {
       "output_type": "stream",
       "stream": "stdout",
       "text": [
        "Thread #0: \t1900000 read pairs finished. 1167 secs passed\r\n"
       ]
      },
      {
       "output_type": "stream",
       "stream": "stdout",
       "text": [
        "Thread #1: \t1950000 read pairs finished. 1236 secs passed\r\n"
       ]
      },
      {
       "output_type": "stream",
       "stream": "stdout",
       "text": [
        "Thread #0: \t2000000 read pairs finished. 1281 secs passed\r\n"
       ]
      },
      {
       "output_type": "stream",
       "stream": "stdout",
       "text": [
        "Thread #1: \t2050000 read pairs finished. 1354 secs passed\r\n"
       ]
      },
      {
       "output_type": "stream",
       "stream": "stdout",
       "text": [
        "Thread #0: \t2100000 read pairs finished. 1361 secs passed\r\n"
       ]
      },
      {
       "output_type": "stream",
       "stream": "stdout",
       "text": [
        "Thread #1: \t2150000 read pairs finished. 1417 secs passed\r\n"
       ]
      },
      {
       "output_type": "stream",
       "stream": "stdout",
       "text": [
        "Thread #0: \t2200000 read pairs finished. 1424 secs passed\r\n"
       ]
      },
      {
       "output_type": "stream",
       "stream": "stdout",
       "text": [
        "Thread #1: \t2250000 read pairs finished. 1467 secs passed\r\n"
       ]
      },
      {
       "output_type": "stream",
       "stream": "stdout",
       "text": [
        "Thread #0: \t2300000 read pairs finished. 1470 secs passed\r\n"
       ]
      },
      {
       "output_type": "stream",
       "stream": "stdout",
       "text": [
        "Thread #1: \t2350000 read pairs finished. 1516 secs passed\r\n"
       ]
      },
      {
       "output_type": "stream",
       "stream": "stdout",
       "text": [
        "Thread #0: \t2400000 read pairs finished. 1521 secs passed\r\n"
       ]
      },
      {
       "output_type": "stream",
       "stream": "stdout",
       "text": [
        "Thread #1: \t2450000 read pairs finished. 1568 secs passed\r\n"
       ]
      },
      {
       "output_type": "stream",
       "stream": "stdout",
       "text": [
        "Thread #0: \t2500000 read pairs finished. 1574 secs passed\r\n"
       ]
      },
      {
       "output_type": "stream",
       "stream": "stdout",
       "text": [
        "Thread #1: \t2550000 read pairs finished. 1630 secs passed\r\n"
       ]
      },
      {
       "output_type": "stream",
       "stream": "stdout",
       "text": [
        "Thread #0: \t2600000 read pairs finished. 1668 secs passed\r\n"
       ]
      },
      {
       "output_type": "stream",
       "stream": "stdout",
       "text": [
        "Thread #1: \t2650000 read pairs finished. 1727 secs passed\r\n"
       ]
      },
      {
       "output_type": "stream",
       "stream": "stdout",
       "text": [
        "Thread #0: \t2700000 read pairs finished. 1729 secs passed\r\n"
       ]
      },
      {
       "output_type": "stream",
       "stream": "stdout",
       "text": [
        "Thread #1: \t2750000 read pairs finished. 1774 secs passed\r\n"
       ]
      },
      {
       "output_type": "stream",
       "stream": "stdout",
       "text": [
        "Thread #0: \t2800000 read pairs finished. 1777 secs passed\r\n"
       ]
      },
      {
       "output_type": "stream",
       "stream": "stdout",
       "text": [
        "Thread #1: \t2850000 read pairs finished. 1825 secs passed\r\n"
       ]
      },
      {
       "output_type": "stream",
       "stream": "stdout",
       "text": [
        "Thread #0: \t2900000 read pairs finished. 1827 secs passed\r\n"
       ]
      },
      {
       "output_type": "stream",
       "stream": "stdout",
       "text": [
        "Thread #1: \t2950000 read pairs finished. 1883 secs passed\r\n"
       ]
      },
      {
       "output_type": "stream",
       "stream": "stdout",
       "text": [
        "Thread #0: \t3000000 read pairs finished. 1886 secs passed\r\n"
       ]
      },
      {
       "output_type": "stream",
       "stream": "stdout",
       "text": [
        "Thread #1: \t3050000 read pairs finished. 1938 secs passed\r\n"
       ]
      },
      {
       "output_type": "stream",
       "stream": "stdout",
       "text": [
        "Thread #0: \t3100000 read pairs finished. 1942 secs passed\r\n"
       ]
      },
      {
       "output_type": "stream",
       "stream": "stdout",
       "text": [
        "Thread #1: \t3150000 read pairs finished. 1989 secs passed\r\n"
       ]
      },
      {
       "output_type": "stream",
       "stream": "stdout",
       "text": [
        "Thread #0: \t3200000 read pairs finished. 1994 secs passed\r\n"
       ]
      },
      {
       "output_type": "stream",
       "stream": "stdout",
       "text": [
        "Thread #1: \t3250000 read pairs finished. 2035 secs passed\r\n"
       ]
      },
      {
       "output_type": "stream",
       "stream": "stdout",
       "text": [
        "Thread #0: \t3300000 read pairs finished. 2041 secs passed\r\n"
       ]
      },
      {
       "output_type": "stream",
       "stream": "stdout",
       "text": [
        "Thread #1: \t3350000 read pairs finished. 2080 secs passed\r\n"
       ]
      },
      {
       "output_type": "stream",
       "stream": "stdout",
       "text": [
        "Thread #0: \t3400000 read pairs finished. 2086 secs passed\r\n"
       ]
      },
      {
       "output_type": "stream",
       "stream": "stdout",
       "text": [
        "Thread #1: \t3450000 read pairs finished. 2130 secs passed\r\n"
       ]
      },
      {
       "output_type": "stream",
       "stream": "stdout",
       "text": [
        "Thread #0: \t3500000 read pairs finished. 2136 secs passed\r\n"
       ]
      },
      {
       "output_type": "stream",
       "stream": "stdout",
       "text": [
        "Thread #1: \t3550000 read pairs finished. 2175 secs passed\r\n"
       ]
      },
      {
       "output_type": "stream",
       "stream": "stdout",
       "text": [
        "Thread #0: \t3600000 read pairs finished. 2184 secs passed\r\n"
       ]
      },
      {
       "output_type": "stream",
       "stream": "stdout",
       "text": [
        "Thread #1: \t3650000 read pairs finished. 2238 secs passed\r\n"
       ]
      },
      {
       "output_type": "stream",
       "stream": "stdout",
       "text": [
        "Thread #0: \t3700000 read pairs finished. 2255 secs passed\r\n"
       ]
      },
      {
       "output_type": "stream",
       "stream": "stdout",
       "text": [
        "Thread #1: \t3750000 read pairs finished. 2316 secs passed\r\n"
       ]
      },
      {
       "output_type": "stream",
       "stream": "stdout",
       "text": [
        "Thread #0: \t3800000 read pairs finished. 2328 secs passed\r\n"
       ]
      },
      {
       "output_type": "stream",
       "stream": "stdout",
       "text": [
        "Thread #1: \t3850000 read pairs finished. 2377 secs passed\r\n"
       ]
      },
      {
       "output_type": "stream",
       "stream": "stdout",
       "text": [
        "Thread #0: \t3900000 read pairs finished. 2385 secs passed\r\n"
       ]
      },
      {
       "output_type": "stream",
       "stream": "stdout",
       "text": [
        "Thread #1: \t3950000 read pairs finished. 2426 secs passed\r\n"
       ]
      },
      {
       "output_type": "stream",
       "stream": "stdout",
       "text": [
        "Thread #0: \t4000000 read pairs finished. 2432 secs passed\r\n"
       ]
      },
      {
       "output_type": "stream",
       "stream": "stdout",
       "text": [
        "Thread #1: \t4050000 read pairs finished. 2467 secs passed\r\n"
       ]
      },
      {
       "output_type": "stream",
       "stream": "stdout",
       "text": [
        "Thread #0: \t4100000 read pairs finished. 2476 secs passed\r\n"
       ]
      },
      {
       "output_type": "stream",
       "stream": "stdout",
       "text": [
        "Thread #1: \t4150000 read pairs finished. 2516 secs passed\r\n"
       ]
      },
      {
       "output_type": "stream",
       "stream": "stdout",
       "text": [
        "Thread #0: \t4200000 read pairs finished. 2525 secs passed\r\n"
       ]
      },
      {
       "output_type": "stream",
       "stream": "stdout",
       "text": [
        "Thread #1: \t4250000 read pairs finished. 2573 secs passed\r\n"
       ]
      },
      {
       "output_type": "stream",
       "stream": "stdout",
       "text": [
        "Thread #0: \t4300000 read pairs finished. 2586 secs passed\r\n"
       ]
      },
      {
       "output_type": "stream",
       "stream": "stdout",
       "text": [
        "Thread #1: \t4350000 read pairs finished. 2638 secs passed\r\n"
       ]
      },
      {
       "output_type": "stream",
       "stream": "stdout",
       "text": [
        "Thread #0: \t4400000 read pairs finished. 2650 secs passed\r\n"
       ]
      },
      {
       "output_type": "stream",
       "stream": "stdout",
       "text": [
        "Thread #1: \t4450000 read pairs finished. 2694 secs passed\r\n"
       ]
      },
      {
       "output_type": "stream",
       "stream": "stdout",
       "text": [
        "Thread #0: \t4500000 read pairs finished. 2705 secs passed\r\n"
       ]
      },
      {
       "output_type": "stream",
       "stream": "stdout",
       "text": [
        "Thread #1: \t4550000 read pairs finished. 2740 secs passed\r\n"
       ]
      },
      {
       "output_type": "stream",
       "stream": "stdout",
       "text": [
        "Thread #0: \t4600000 read pairs finished. 2756 secs passed\r\n"
       ]
      },
      {
       "output_type": "stream",
       "stream": "stdout",
       "text": [
        "Thread #1: \t4650000 read pairs finished. 2784 secs passed\r\n"
       ]
      },
      {
       "output_type": "stream",
       "stream": "stdout",
       "text": [
        "Thread #0: \t4700000 read pairs finished. 2795 secs passed\r\n"
       ]
      },
      {
       "output_type": "stream",
       "stream": "stdout",
       "text": [
        "Thread #1: \t4750000 read pairs finished. 2821 secs passed\r\n"
       ]
      },
      {
       "output_type": "stream",
       "stream": "stdout",
       "text": [
        "Thread #0: \t4800000 read pairs finished. 2833 secs passed\r\n"
       ]
      },
      {
       "output_type": "stream",
       "stream": "stdout",
       "text": [
        "Thread #1: \t4850000 read pairs finished. 2857 secs passed\r\n"
       ]
      },
      {
       "output_type": "stream",
       "stream": "stdout",
       "text": [
        "Thread #0: \t4900000 read pairs finished. 2869 secs passed\r\n"
       ]
      },
      {
       "output_type": "stream",
       "stream": "stdout",
       "text": [
        "Thread #1: \t4950000 read pairs finished. 2894 secs passed\r\n"
       ]
      },
      {
       "output_type": "stream",
       "stream": "stdout",
       "text": [
        "Thread #0: \t5000000 read pairs finished. 2907 secs passed\r\n"
       ]
      },
      {
       "output_type": "stream",
       "stream": "stdout",
       "text": [
        "Thread #1: \t5050000 read pairs finished. 2930 secs passed\r\n"
       ]
      },
      {
       "output_type": "stream",
       "stream": "stdout",
       "text": [
        "Thread #0: \t5100000 read pairs finished. 2942 secs passed\r\n"
       ]
      },
      {
       "output_type": "stream",
       "stream": "stdout",
       "text": [
        "Thread #1: \t5150000 read pairs finished. 2965 secs passed\r\n"
       ]
      },
      {
       "output_type": "stream",
       "stream": "stdout",
       "text": [
        "Thread #0: \t5200000 read pairs finished. 2976 secs passed\r\n"
       ]
      },
      {
       "output_type": "stream",
       "stream": "stdout",
       "text": [
        "Thread #"
       ]
      },
      {
       "output_type": "stream",
       "stream": "stdout",
       "text": [
        "1: \t5250000 read pairs finished. 2999 secs passed\r\n"
       ]
      },
      {
       "output_type": "stream",
       "stream": "stdout",
       "text": [
        "Thread #0: \t5300000 read pairs finished. 3012 secs passed\r\n"
       ]
      },
      {
       "output_type": "stream",
       "stream": "stdout",
       "text": [
        "Thread #1: \t5350000 read pairs finished. 3036 secs passed\r\n"
       ]
      },
      {
       "output_type": "stream",
       "stream": "stdout",
       "text": [
        "Thread #0: \t5400000 read pairs finished. 3048 secs passed\r\n"
       ]
      },
      {
       "output_type": "stream",
       "stream": "stdout",
       "text": [
        "Thread #1: \t5450000 read pairs finished. 3070 secs passed\r\n"
       ]
      },
      {
       "output_type": "stream",
       "stream": "stdout",
       "text": [
        "Thread #0: \t5500000 read pairs finished. 3083 secs passed\r\n"
       ]
      },
      {
       "output_type": "stream",
       "stream": "stdout",
       "text": [
        "Thread #1: \t5543163 read pairs finished. 3096 secs passed\r\n"
       ]
      },
      {
       "output_type": "stream",
       "stream": "stdout",
       "text": [
        "Total number of aligned reads: \r\n",
        "pairs:       2174860 (39%)\r\n",
        "single a:    1168661 (21%)\r\n",
        "single b:    982745 (18%)\r\n",
        "Done.\r\n",
        "Finished at Fri Feb 28 11:41:05 2014\r\n",
        "Total time consumed:  3096 secs\r\n"
       ]
      }
     ],
     "prompt_number": 72
    },
    {
     "cell_type": "heading",
     "level": 3,
     "metadata": {},
     "source": [
      "Lets Run unmerged on Ensemble no mask\n"
     ]
    },
    {
     "cell_type": "code",
     "collapsed": false,
     "input": [
      "\n",
      "#file ID\n",
      "fid=\"CgM1_A8__E\"\n",
      "\n",
      "#TIMESTAMP\n",
      "date=!date +%m%d_%H%M\n",
      "\n",
      "#working directory (parent)\n",
      "wd=\"/Volumes/web/cnidarian/BiGo_larvae_merge/\"\n",
      "\n",
      "#where is bsmap\n",
      "#bsmap=\"/Users/Shared/Apps/bsmap-2.73/\"\n",
      "bsmap=\"/Volumes/Bay3/Software/BSMAP/bsmap-2.74/\"\n",
      "\n",
      "#fastq files location R1 location\n",
      "#R1=\"/Volumes/web/cnidarian/BiGo_larvae_merge/CgM1_R1a.fastq\"\n",
      "R1=\"/Volumes/web/trilobite/Crassostrea_gigas_HTSdata/batterbox/FCD2CA8_2/Sample_BS_CgM1/filtered_BS_CgM1_ACTTGA_L007_R1.fastq\"\n",
      "\n",
      "#fastq files location R2 location\n",
      "#comment out if SE\n",
      "#R2=\"/Volumes/web/cnidarian/BiGo_larvae_merge/CgM1_R2a.fastq\"\n",
      "R2=\"/Volumes/web/trilobite/Crassostrea_gigas_HTSdata/batterbox/FCD2CA8_2/Sample_BS_CgM1/filtered_BS_CgM1_ACTTGA_L007_R2.fastq\"\n",
      "\n",
      "#genome file \n",
      "#genome=\"/Volumes/web/whale/ensembl/ftp.ensemblgenomes.org/pub/release-21/metazoa/fasta/crassostrea_gigas/dna/Crassostrea_gigas.GCA_000297895.1.21.dna_sm.genome.fa\"\n",
      "genome=\"/Volumes/web/whale/ensembl/ftp.ensemblgenomes.org/pub/release-21/metazoa/fasta/crassostrea_gigas/dna/Crassostrea_gigas.GCA_000297895.1.21.dna.genome.fa\"\n"
     ],
     "language": "python",
     "metadata": {},
     "outputs": [],
     "prompt_number": 79
    },
    {
     "cell_type": "code",
     "collapsed": false,
     "input": [
      "cd {wd} "
     ],
     "language": "python",
     "metadata": {},
     "outputs": [
      {
       "output_type": "stream",
       "stream": "stdout",
       "text": [
        "/Volumes/web/cnidarian/BiGo_larvae_merge\n"
       ]
      }
     ],
     "prompt_number": 80
    },
    {
     "cell_type": "code",
     "collapsed": false,
     "input": [
      "mkdir {fid}_{date}  \n"
     ],
     "language": "python",
     "metadata": {},
     "outputs": [],
     "prompt_number": 81
    },
    {
     "cell_type": "code",
     "collapsed": false,
     "input": [
      "cd {fid}_{date} "
     ],
     "language": "python",
     "metadata": {},
     "outputs": [
      {
       "output_type": "stream",
       "stream": "stdout",
       "text": [
        "/Volumes/web/cnidarian/BiGo_larvae_merge/CgM1_A8__E_[0228_1457]\n"
       ]
      }
     ],
     "prompt_number": 82
    },
    {
     "cell_type": "code",
     "collapsed": false,
     "input": [
      "!{bsmap}bsmap -a {R1} -b {R2} -d {genome} -o bsmap_out.sam -p 2"
     ],
     "language": "python",
     "metadata": {},
     "outputs": [
      {
       "output_type": "stream",
       "stream": "stdout",
       "text": [
        "\r\n",
        "BSMAP v2.74\r\n",
        "Start at:  Fri Feb 28 14:57:35 2014\r\n",
        "\r\n",
        "Input reference file: /Volumes/web/whale/ensembl/ftp.ensemblgenomes.org/pub/release-21/metazoa/fasta/crassostrea_gigas/dna/Crassostrea_gigas.GCA_000297895.1.21.dna.genome.fa"
       ]
      },
      {
       "output_type": "stream",
       "stream": "stdout",
       "text": [
        " \t(format: FASTA)\r\n"
       ]
      },
      {
       "output_type": "stream",
       "stream": "stdout",
       "text": [
        "Load in 7658 db seqs, total size 557717710 bp. 22 secs passed\r\n",
        "total_kmers: 43046721\r\n"
       ]
      },
      {
       "output_type": "stream",
       "stream": "stdout",
       "text": [
        "Create seed table. 69 secs passed\r\n",
        "max number of mismatches: read_length * 8% \tmax gap size: 0\r\n",
        "kmer cut-off ratio: 5e-07\r\n",
        "max multi-hits: 100\tmax Ns: 5\tseed size: 16\tindex interval: 4\r\n",
        "quality cutoff: 0\tbase quality char: '!'\r\n",
        "min fragment size:28\tmax fragemt size:500\r\n",
        "start from read #1\tend at read #4294967295\r\n",
        "additional alignment: T in reads => C in reference\r\n",
        "mapping strand (read_1): ++,-+\r\n",
        "mapping strand (read_2): +-,--\r\n",
        "Pair-end alignment(2 threads)\r\n",
        "Input read file #1: /Volumes/web/trilobite/Crassostrea_gigas_HTSdata/batterbox/FCD2CA8_2/Sample_BS_CgM1/filtered_BS_CgM1_ACTTGA_L007_R1.fastq"
       ]
      },
      {
       "output_type": "stream",
       "stream": "stdout",
       "text": [
        " \t(format: FASTQ)\r\n",
        "Input read file #2: /Volumes/web/trilobite/Crassostrea_gigas_HTSdata/batterbox/FCD2CA8_2/Sample_BS_CgM1/filtered_BS_CgM1_ACTTGA_L007_R2.fastq \t(format: FASTQ)\r\n",
        "Output file: bsmap_out.sam\t (format: SAM)\r\n"
       ]
      },
      {
       "output_type": "stream",
       "stream": "stdout",
       "text": [
        "Thread #0: \t50000 read pairs finished. 98 secs passed\r\n"
       ]
      },
      {
       "output_type": "stream",
       "stream": "stdout",
       "text": [
        "Thread #1: \t100000 read pairs finished. 99 secs passed\r\n"
       ]
      },
      {
       "output_type": "stream",
       "stream": "stdout",
       "text": [
        "Thread #0: \t150000 read pairs finished. 126 secs passed\r\n"
       ]
      },
      {
       "output_type": "stream",
       "stream": "stdout",
       "text": [
        "Thread #1: \t200000 read pairs finished. 126 secs passed\r\n"
       ]
      },
      {
       "output_type": "stream",
       "stream": "stdout",
       "text": [
        "Thread #0: \t250000 read pairs finished. 152 secs passed\r\n"
       ]
      },
      {
       "output_type": "stream",
       "stream": "stdout",
       "text": [
        "Thread #1: \t300000 read pairs finished. 153 secs passed\r\n"
       ]
      },
      {
       "output_type": "stream",
       "stream": "stdout",
       "text": [
        "Thread #0: \t350000 read pairs finished. 187 secs passed\r\n"
       ]
      },
      {
       "output_type": "stream",
       "stream": "stdout",
       "text": [
        "Thread #1: \t400000 read pairs finished. 189 secs passed\r\n"
       ]
      },
      {
       "output_type": "stream",
       "stream": "stdout",
       "text": [
        "Thread #0: \t450000 read pairs finished. 225 secs passed\r\n"
       ]
      },
      {
       "output_type": "stream",
       "stream": "stdout",
       "text": [
        "Thread #1: \t500000 read pairs finished. 228 secs passed\r\n"
       ]
      },
      {
       "output_type": "stream",
       "stream": "stdout",
       "text": [
        "Thread #0: \t550000 read pairs finished. 268 secs passed\r\n"
       ]
      },
      {
       "output_type": "stream",
       "stream": "stdout",
       "text": [
        "Thread #1: \t600000 read pairs finished. 270 secs passed\r\n"
       ]
      },
      {
       "output_type": "stream",
       "stream": "stdout",
       "text": [
        "Thread #0: \t650000 read pairs finished. 299 secs passed\r\n"
       ]
      },
      {
       "output_type": "stream",
       "stream": "stdout",
       "text": [
        "Thread #1: \t700000 read pairs finished. 302 secs passed\r\n"
       ]
      },
      {
       "output_type": "stream",
       "stream": "stdout",
       "text": [
        "Thread #0: \t750000 read pairs finished. 334 secs passed\r\n"
       ]
      },
      {
       "output_type": "stream",
       "stream": "stdout",
       "text": [
        "Thread #1: \t800000 read pairs finished. 337 secs passed\r\n"
       ]
      },
      {
       "output_type": "stream",
       "stream": "stdout",
       "text": [
        "Thread #0: \t850000 read pairs finished. 368 secs passed\r\n"
       ]
      },
      {
       "output_type": "stream",
       "stream": "stdout",
       "text": [
        "Thread #1: \t900000 read pairs finished. 371 secs passed\r\n"
       ]
      },
      {
       "output_type": "stream",
       "stream": "stdout",
       "text": [
        "Thread #0: \t950000 read pairs finished. 402 secs passed\r\n"
       ]
      },
      {
       "output_type": "stream",
       "stream": "stdout",
       "text": [
        "Thread #1: \t1000000 read pairs finished. 406 secs passed\r\n"
       ]
      },
      {
       "output_type": "stream",
       "stream": "stdout",
       "text": [
        "Thread #0: \t1050000 read pairs finished. 436 secs passed\r\n"
       ]
      },
      {
       "output_type": "stream",
       "stream": "stdout",
       "text": [
        "Thread #1: \t1100000 read pairs finished. 440 secs passed\r\n"
       ]
      },
      {
       "output_type": "stream",
       "stream": "stdout",
       "text": [
        "Thread #0: \t1150000 read pairs finished. 470 secs passed\r\n"
       ]
      },
      {
       "output_type": "stream",
       "stream": "stdout",
       "text": [
        "Thread #1: \t1200000 read pairs finished. 475 secs passed\r\n"
       ]
      },
      {
       "output_type": "stream",
       "stream": "stdout",
       "text": [
        "Thread #0: \t1250000 read pairs finished. 499 secs passed\r\n"
       ]
      },
      {
       "output_type": "stream",
       "stream": "stdout",
       "text": [
        "Thread #1: \t1300000 read pairs finished. 503 secs passed\r\n"
       ]
      },
      {
       "output_type": "stream",
       "stream": "stdout",
       "text": [
        "Thread #0: \t1350000 read pairs finished. 529 secs passed\r\n"
       ]
      },
      {
       "output_type": "stream",
       "stream": "stdout",
       "text": [
        "Thread #1: \t1400000 read pairs finished. 533 secs passed\r\n"
       ]
      },
      {
       "output_type": "stream",
       "stream": "stdout",
       "text": [
        "Thread #0: \t1450000 read pairs finished. 557 secs passed\r\n"
       ]
      },
      {
       "output_type": "stream",
       "stream": "stdout",
       "text": [
        "Thread #1: \t1500000 read pairs finished. 562 secs passed\r\n"
       ]
      },
      {
       "output_type": "stream",
       "stream": "stdout",
       "text": [
        "Thread #0: \t1550000 read pairs finished. 586 secs passed\r\n"
       ]
      },
      {
       "output_type": "stream",
       "stream": "stdout",
       "text": [
        "Thread #1: \t1600000 read pairs finished. 590 secs passed\r\n"
       ]
      },
      {
       "output_type": "stream",
       "stream": "stdout",
       "text": [
        "Thread #0: \t1650000 read pairs finished. 615 secs passed\r\n"
       ]
      },
      {
       "output_type": "stream",
       "stream": "stdout",
       "text": [
        "Thread #1: \t1700000 read pairs finished. 621 secs passed\r\n"
       ]
      },
      {
       "output_type": "stream",
       "stream": "stdout",
       "text": [
        "Thread #0: \t1750000 read pairs finished. 644 secs passed\r\n"
       ]
      },
      {
       "output_type": "stream",
       "stream": "stdout",
       "text": [
        "Thread #1: \t1800000 read pairs finished. 649 secs passed\r\n"
       ]
      },
      {
       "output_type": "stream",
       "stream": "stdout",
       "text": [
        "Thread #0: \t1850000 read pairs finished. 672 secs passed\r\n"
       ]
      },
      {
       "output_type": "stream",
       "stream": "stdout",
       "text": [
        "Thread #1: \t1900000 read pairs finished. 678 secs passed\r\n"
       ]
      },
      {
       "output_type": "stream",
       "stream": "stdout",
       "text": [
        "Thread #0: \t1950000 read pairs finished. 701 secs passed\r\n"
       ]
      },
      {
       "output_type": "stream",
       "stream": "stdout",
       "text": [
        "Thread #1: \t2000000 read pairs finished. 706 secs passed\r\n"
       ]
      },
      {
       "output_type": "stream",
       "stream": "stdout",
       "text": [
        "Thread #0: \t2050000 read pairs finished. 729 secs passed\r\n"
       ]
      },
      {
       "output_type": "stream",
       "stream": "stdout",
       "text": [
        "Thread #1: \t2100000 read pairs finished. 735 secs passed\r\n"
       ]
      },
      {
       "output_type": "stream",
       "stream": "stdout",
       "text": [
        "Thread #0: \t2150000 read pairs finished. 757 secs passed\r\n"
       ]
      },
      {
       "output_type": "stream",
       "stream": "stdout",
       "text": [
        "Thread #1: \t2200000 read pairs finished. 763 secs passed\r\n"
       ]
      },
      {
       "output_type": "stream",
       "stream": "stdout",
       "text": [
        "Thread #0: \t2250000 read pairs finished. 785 secs passed\r\n"
       ]
      },
      {
       "output_type": "stream",
       "stream": "stdout",
       "text": [
        "Thread #1: \t2300000 read pairs finished. 792 secs passed\r\n"
       ]
      },
      {
       "output_type": "stream",
       "stream": "stdout",
       "text": [
        "Thread #0: \t2350000 read pairs finished. 817 secs passed\r\n"
       ]
      },
      {
       "output_type": "stream",
       "stream": "stdout",
       "text": [
        "Thread #1: \t2400000 read pairs finished. 823 secs passed\r\n"
       ]
      },
      {
       "output_type": "stream",
       "stream": "stdout",
       "text": [
        "Thread #0: \t2450000 read pairs finished. 845 secs passed\r\n"
       ]
      },
      {
       "output_type": "stream",
       "stream": "stdout",
       "text": [
        "Thread #1: \t2500000 read pairs finished. 851 secs passed\r\n"
       ]
      },
      {
       "output_type": "stream",
       "stream": "stdout",
       "text": [
        "Thread #0: \t2550000 read pairs finished. 873 secs passed\r\n"
       ]
      },
      {
       "output_type": "stream",
       "stream": "stdout",
       "text": [
        "Thread #1: \t2600000 read pairs finished. 879 secs passed\r\n"
       ]
      },
      {
       "output_type": "stream",
       "stream": "stdout",
       "text": [
        "Thread #0: \t2650000 read pairs finished. 901 secs passed\r\n"
       ]
      },
      {
       "output_type": "stream",
       "stream": "stdout",
       "text": [
        "Thread #1: \t2700000 read pairs finished. 907 secs passed\r\n"
       ]
      },
      {
       "output_type": "stream",
       "stream": "stdout",
       "text": [
        "Thread #0: \t2750000 read pairs finished. 930 secs passed\r\n"
       ]
      },
      {
       "output_type": "stream",
       "stream": "stdout",
       "text": [
        "Thread #1: \t2800000 read pairs finished. 937 secs passed\r\n"
       ]
      },
      {
       "output_type": "stream",
       "stream": "stdout",
       "text": [
        "Thread #0: \t2850000 read pairs finished. 959 secs passed\r\n"
       ]
      },
      {
       "output_type": "stream",
       "stream": "stdout",
       "text": [
        "Thread #1: \t2900000 read pairs finished. 965 secs passed\r\n"
       ]
      },
      {
       "output_type": "stream",
       "stream": "stdout",
       "text": [
        "Thread #0: \t2950000 read pairs finished. 987 secs passed\r\n"
       ]
      },
      {
       "output_type": "stream",
       "stream": "stdout",
       "text": [
        "Thread #1: \t3000000 read pairs finished. 993 secs passed\r\n"
       ]
      },
      {
       "output_type": "stream",
       "stream": "stdout",
       "text": [
        "Thread #0: \t3050000 read pairs finished. 1015 secs passed\r\n"
       ]
      },
      {
       "output_type": "stream",
       "stream": "stdout",
       "text": [
        "Thread #1: \t3100000 read pairs finished. 1021 secs passed\r\n"
       ]
      },
      {
       "output_type": "stream",
       "stream": "stdout",
       "text": [
        "Thread #0: \t3150000 read pairs finished. 1043 secs passed\r\n"
       ]
      },
      {
       "output_type": "stream",
       "stream": "stdout",
       "text": [
        "Thread #1: \t3200000 read pairs finished. 1050 secs passed\r\n"
       ]
      },
      {
       "output_type": "stream",
       "stream": "stdout",
       "text": [
        "Thread #0: \t3250000 read pairs finished. 1070 secs passed\r\n"
       ]
      },
      {
       "output_type": "stream",
       "stream": "stdout",
       "text": [
        "Thread #1: \t3300000 read pairs finished. 1078 secs passed\r\n"
       ]
      },
      {
       "output_type": "stream",
       "stream": "stdout",
       "text": [
        "Thread #0: \t3350000 read pairs finished. 1098 secs passed\r\n"
       ]
      },
      {
       "output_type": "stream",
       "stream": "stdout",
       "text": [
        "Thread #1: \t3400000 read pairs finished. 1106 secs passed\r\n"
       ]
      },
      {
       "output_type": "stream",
       "stream": "stdout",
       "text": [
        "Thread #0: \t3450000 read pairs finished. 1127 secs passed\r\n"
       ]
      },
      {
       "output_type": "stream",
       "stream": "stdout",
       "text": [
        "Thread #1: \t3500000 read pairs finished. 1134 secs passed\r\n"
       ]
      },
      {
       "output_type": "stream",
       "stream": "stdout",
       "text": [
        "Thread #0: \t3550000 read pairs finished. 1154 secs passed\r\n"
       ]
      },
      {
       "output_type": "stream",
       "stream": "stdout",
       "text": [
        "Thread #1: \t3600000 read pairs finished. 1162 secs passed\r\n"
       ]
      },
      {
       "output_type": "stream",
       "stream": "stdout",
       "text": [
        "Thread #0: \t3650000 read pairs finished. 1184 secs passed\r\n"
       ]
      },
      {
       "output_type": "stream",
       "stream": "stdout",
       "text": [
        "Thread #1: \t3700000 read pairs finished. 1192 secs passed\r\n"
       ]
      },
      {
       "output_type": "stream",
       "stream": "stdout",
       "text": [
        "Thread #0: \t3750000 read pairs finished. 1215 secs passed\r\n"
       ]
      },
      {
       "output_type": "stream",
       "stream": "stdout",
       "text": [
        "Thread #1: \t3800000 read pairs finished. 1222 secs passed\r\n"
       ]
      },
      {
       "output_type": "stream",
       "stream": "stdout",
       "text": [
        "Thread #0: \t3850000 read pairs finished. 1241 secs passed\r\n"
       ]
      },
      {
       "output_type": "stream",
       "stream": "stdout",
       "text": [
        "Thread #1: \t3900000 read pairs finished. 1247 secs passed\r\n"
       ]
      },
      {
       "output_type": "stream",
       "stream": "stdout",
       "text": [
        "Thread #0: \t3950000 read pairs finished. 1265 secs passed\r\n"
       ]
      },
      {
       "output_type": "stream",
       "stream": "stdout",
       "text": [
        "Thread #1: \t4000000 read pairs finished. 1271 secs passed\r\n"
       ]
      },
      {
       "output_type": "stream",
       "stream": "stdout",
       "text": [
        "Thread #0: \t4050000 read pairs finished. 1289 secs passed\r\n"
       ]
      },
      {
       "output_type": "stream",
       "stream": "stdout",
       "text": [
        "Thread #1: \t4100000 read pairs finished. 1295 secs passed\r\n"
       ]
      },
      {
       "output_type": "stream",
       "stream": "stdout",
       "text": [
        "Thread #0: \t4150000 read pairs finished. 1315 secs passed\r\n"
       ]
      },
      {
       "output_type": "stream",
       "stream": "stdout",
       "text": [
        "Thread #1: \t4200000 read pairs finished. 1323 secs passed\r\n"
       ]
      },
      {
       "output_type": "stream",
       "stream": "stdout",
       "text": [
        "Thread #0: \t4250000 read pairs finished. 1341 secs passed\r\n"
       ]
      },
      {
       "output_type": "stream",
       "stream": "stdout",
       "text": [
        "Thread #1: \t4300000 read pairs finished. 1348 secs passed\r\n"
       ]
      },
      {
       "output_type": "stream",
       "stream": "stdout",
       "text": [
        "Thread #0: \t4350000 read pairs finished. 1366 secs passed\r\n"
       ]
      },
      {
       "output_type": "stream",
       "stream": "stdout",
       "text": [
        "Thread #1: \t4400000 read pairs finished. 1372 secs passed\r\n"
       ]
      },
      {
       "output_type": "stream",
       "stream": "stdout",
       "text": [
        "Thread #0: \t4450000 read pairs finished. 1394 secs passed\r\n"
       ]
      },
      {
       "output_type": "stream",
       "stream": "stdout",
       "text": [
        "Thread #1: \t4500000 read pairs finished. 1404 secs passed\r\n"
       ]
      },
      {
       "output_type": "stream",
       "stream": "stdout",
       "text": [
        "Thread #0: \t4550000 read pairs finished. 1432 secs passed\r\n"
       ]
      },
      {
       "output_type": "stream",
       "stream": "stdout",
       "text": [
        "Thread #1: \t4600000 read pairs finished. 1443 secs passed\r\n"
       ]
      },
      {
       "output_type": "stream",
       "stream": "stdout",
       "text": [
        "Thread #0: \t4650000 read pairs finished. 1464 secs passed\r\n"
       ]
      },
      {
       "output_type": "stream",
       "stream": "stdout",
       "text": [
        "Thread #1: \t4700000 read pairs finished. 1473 secs passed\r\n"
       ]
      },
      {
       "output_type": "stream",
       "stream": "stdout",
       "text": [
        "Thread #0: \t4750000 read pairs finished. 1494 secs passed\r\n"
       ]
      },
      {
       "output_type": "stream",
       "stream": "stdout",
       "text": [
        "Thread #1: \t4800000 read pairs finished. 1504 secs passed\r\n"
       ]
      },
      {
       "output_type": "stream",
       "stream": "stdout",
       "text": [
        "Thread #0: \t4850000 read pairs finished. 1523 secs passed\r\n"
       ]
      },
      {
       "output_type": "stream",
       "stream": "stdout",
       "text": [
        "Thread #1: \t4900000 read pairs finished. 1531 secs passed\r\n"
       ]
      },
      {
       "output_type": "stream",
       "stream": "stdout",
       "text": [
        "Thread #0: \t4950000 read pairs finished. 1550 secs passed\r\n"
       ]
      },
      {
       "output_type": "stream",
       "stream": "stdout",
       "text": [
        "Thread #1: \t5000000 read pairs finished. 1558 secs passed\r\n"
       ]
      },
      {
       "output_type": "stream",
       "stream": "stdout",
       "text": [
        "Thread #0: \t5050000 read pairs finished. 1577 secs passed\r\n"
       ]
      },
      {
       "output_type": "stream",
       "stream": "stdout",
       "text": [
        "Thread #1: \t5100000 read pairs finished. 1586 secs passed\r\n"
       ]
      },
      {
       "output_type": "stream",
       "stream": "stdout",
       "text": [
        "Thread #0: \t5150000 read pairs finished. 1604 secs passed\r\n"
       ]
      },
      {
       "output_type": "stream",
       "stream": "stdout",
       "text": [
        "Thread #1: \t5200000 read pairs finished. 1613 secs passed\r\n"
       ]
      },
      {
       "output_type": "stream",
       "stream": "stdout",
       "text": [
        "Thread #0: \t5250000 read pairs finished. 1631 secs passed\r\n"
       ]
      },
      {
       "output_type": "stream",
       "stream": "stdout",
       "text": [
        "Thread #1: \t5300000 read pairs finished. 1639 secs passed\r\n"
       ]
      },
      {
       "output_type": "stream",
       "stream": "stdout",
       "text": [
        "Thread #0: \t5350000 read pairs finished. 1657 secs passed\r\n"
       ]
      },
      {
       "output_type": "stream",
       "stream": "stdout",
       "text": [
        "Thread #1: \t5400000 read pairs finished. 1664 secs passed\r\n"
       ]
      },
      {
       "output_type": "stream",
       "stream": "stdout",
       "text": [
        "Thread #0: \t5450000 read pairs finished. 1682 secs passed\r\n"
       ]
      },
      {
       "output_type": "stream",
       "stream": "stdout",
       "text": [
        "Thread #1: \t5500000 read pairs finished. 1689 secs passed\r\n"
       ]
      },
      {
       "output_type": "stream",
       "stream": "stdout",
       "text": [
        "Thread #0: \t5543163 read pairs finished. 1700 secs passed\r\n"
       ]
      },
      {
       "output_type": "stream",
       "stream": "stdout",
       "text": [
        "Total number of aligned reads: \r\n",
        "pairs:       2597461 (47%)\r\n",
        "single a:    1090241 (20%)\r\n",
        "single b:    894626 (16%)\r\n",
        "Done.\r\n",
        "Finished at Fri Feb 28 15:25:56 2014\r\n",
        "Total time consumed:  1701 secs\r\n"
       ]
      }
     ],
     "prompt_number": 83
    },
    {
     "cell_type": "code",
     "collapsed": false,
     "input": [],
     "language": "python",
     "metadata": {},
     "outputs": [],
     "prompt_number": 16
    },
    {
     "cell_type": "heading",
     "level": 1,
     "metadata": {},
     "source": [
      "Running scenarios through IPlant"
     ]
    },
    {
     "cell_type": "code",
     "collapsed": false,
     "input": [
      "!date"
     ],
     "language": "python",
     "metadata": {},
     "outputs": [
      {
       "output_type": "stream",
       "stream": "stdout",
       "text": [
        "Sat Mar  1 06:06:22 PST 2014\r\n"
       ]
      }
     ],
     "prompt_number": 1
    },
    {
     "cell_type": "markdown",
     "metadata": {},
     "source": [
      "First set M1_07 against 3 Ensembl Version    \n",
      "07 is file name differentiator and corresponds to FCD2CA8 / September Run"
     ]
    },
    {
     "cell_type": "raw",
     "metadata": {},
     "source": [
      "###No Mask\n",
      "BSMAP v2.74\n",
      "Start at:  Sat Mar  1 07:01:35 2014\n",
      "\n",
      "Input reference file: Crassostrea_gigas.GCA_000297895.1.21.dna.genome.fa \t(format: FASTA)\n",
      "Load in 7658 db seqs, total size 557717710 bp. 9 secs passed\n",
      "total_kmers: 43046721\n",
      "Create seed table. 26 secs passed\n",
      "max number of mismatches: read_length * 8% \tmax gap size: 0\n",
      "kmer cut-off ratio: 5e-07\n",
      "max multi-hits: 100\tmax Ns: 5\tseed size: 16\tindex interval: 4\n",
      "quality cutoff: 0\tbase quality char: '!'\n",
      "min fragment size:28\tmax fragemt size:500\n",
      "start from read #1\tend at read #4294967295\n",
      "additional alignment: T in reads => C in reference\n",
      "mapping strand (read_1): ++,-+\n",
      "mapping strand (read_2): +-,--\n",
      "Pair-end alignment(8 threads)\n",
      "Input read file #1: filtered_BS_CgM1_ACTTGA_L007_R1.fastq \t(format: FASTQ)\n",
      "Input read file #2: filtered_BS_CgM1_ACTTGA_L007_R2.fastq \t(format: FASTQ)\n",
      "Output: STDOUT\t (format: SAM)\n",
      "Total number of aligned reads: \n",
      "pairs:       2597461 (47%)\n",
      "single a:    1090241 (20%)\n",
      "single b:    894626 (16%)\n",
      "Done.\n",
      "Finished at Sat Mar  1 07:04:57 2014\n",
      "Total time consumed:  202 secs"
     ]
    },
    {
     "cell_type": "raw",
     "metadata": {},
     "source": [
      "###rm (repeat mask)\n",
      "\n",
      "```\n",
      "BSMAP v2.74\n",
      "Start at:  Sat Mar  1 07:06:01 2014\n",
      "\n",
      "Input reference file: Crassostrea_gigas.GCA_000297895.1.21.dna_rm.genome.fa \t(format: FASTA)\n",
      "Load in 7658 db seqs, total size 557717710 bp. 56 secs passed\n",
      "total_kmers: 43046721\n",
      "Create seed table. 75 secs passed\n",
      "max number of mismatches: read_length * 8% \tmax gap size: 0\n",
      "kmer cut-off ratio: 5e-07\n",
      "max multi-hits: 100\tmax Ns: 5\tseed size: 16\tindex interval: 4\n",
      "quality cutoff: 0\tbase quality char: '!'\n",
      "min fragment size:28\tmax fragemt size:500\n",
      "start from read #1\tend at read #4294967295\n",
      "additional alignment: T in reads => C in reference\n",
      "mapping strand (read_1): ++,-+\n",
      "mapping strand (read_2): +-,--\n",
      "Pair-end alignment(8 threads)\n",
      "Input read file #1: filtered_BS_CgM1_ACTTGA_L007_R1.fastq \t(format: FASTQ)\n",
      "Input read file #2: filtered_BS_CgM1_ACTTGA_L007_R2.fastq \t(format: FASTQ)\n",
      "Output: STDOUT\t (format: SAM)\n",
      "\n",
      "Total number of aligned reads: \n",
      "pairs:       2174860 (39%)\n",
      "single a:    1168661 (21%)\n",
      "single b:    982745 (18%)\n",
      "Done.\n",
      "Finished at Sat Mar  1 07:10:02 2014\n",
      "Total time consumed:  241 secs\n",
      "```"
     ]
    },
    {
     "cell_type": "raw",
     "metadata": {},
     "source": [
      "### sm (soft mask)\n",
      "\n",
      "BSMAP v2.74\n",
      "Start at:  Sat Mar  1 07:04:19 2014\n",
      "\n",
      "Input reference file: Crassostrea_gigas.GCA_000297895.1.21.dna_sm.genome.fa \t(format: FASTA)\n",
      "Load in 7658 db seqs, total size 557717710 bp. 9 secs passed\n",
      "total_kmers: 43046721\n",
      "Create seed table. 32 secs passed\n",
      "max number of mismatches: read_length * 8% \tmax gap size: 0\n",
      "kmer cut-off ratio: 5e-07\n",
      "max multi-hits: 100\tmax Ns: 5\tseed size: 16\tindex interval: 4\n",
      "quality cutoff: 0\tbase quality char: '!'\n",
      "min fragment size:28\tmax fragemt size:500\n",
      "start from read #1\tend at read #4294967295\n",
      "additional alignment: T in reads => C in reference\n",
      "mapping strand (read_1): ++,-+\n",
      "mapping strand (read_2): +-,--\n",
      "Pair-end alignment(8 threads)\n",
      "Input read file #1: filtered_BS_CgM1_ACTTGA_L007_R1.fastq \t(format: FASTQ)\n",
      "Input read file #2: filtered_BS_CgM1_ACTTGA_L007_R2.fastq \t(format: FASTQ)\n",
      "Output: STDOUT\t (format: SAM)\n",
      "\n",
      "Total number of aligned reads: \n",
      "pairs:       2597461 (47%)\n",
      "single a:    1090241 (20%)\n",
      "single b:    894626 (16%)\n",
      "Done.\n",
      "Finished at Sat Mar  1 07:07:53 2014\n",
      "Total time consumed:  214 secs\n"
     ]
    },
    {
     "cell_type": "heading",
     "level": 1,
     "metadata": {},
     "source": [
      "Reproducing Claire's Results"
     ]
    },
    {
     "cell_type": "code",
     "collapsed": false,
     "input": [],
     "language": "python",
     "metadata": {},
     "outputs": []
    }
   ],
   "metadata": {}
  }
 ]
}