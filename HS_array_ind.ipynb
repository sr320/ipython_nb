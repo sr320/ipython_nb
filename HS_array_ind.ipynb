{
 "metadata": {
  "name": "",
  "signature": "sha256:1c8e20f2a98207d940f64a9626099ab6ac8e52f9bd74f3d567f1aec57233b1d6"
 },
 "nbformat": 3,
 "nbformat_minor": 0,
 "worksheets": [
  {
   "cells": [
    {
     "cell_type": "markdown",
     "metadata": {},
     "source": [
      "http://eagle.fish.washington.edu/cnidarian/HS_array_igv_session3.xml"
     ]
    },
    {
     "cell_type": "code",
     "collapsed": false,
     "input": [],
     "language": "python",
     "metadata": {},
     "outputs": []
    }
   ],
   "metadata": {}
  }
 ]
}