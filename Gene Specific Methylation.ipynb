{
 "metadata": {
  "name": "Gene Specific Methylation",
  "signature": "sha256:5be9839d23eabd18572a99959b4712b01f4009bc32966757d4595ab86e751674"
 },
 "nbformat": 3,
 "nbformat_minor": 0,
 "worksheets": [
  {
   "cells": [
    {
     "cell_type": "raw",
     "metadata": {},
     "source": [
      "Need to use bedtools to obtain \"mRNA\" fasta from genome. "
     ]
    },
    {
     "cell_type": "code",
     "collapsed": false,
     "input": [
      "pwd"
     ],
     "language": "python",
     "metadata": {},
     "outputs": [
      {
       "output_type": "pyout",
       "prompt_number": 1,
       "text": [
        "u'/Users/sr320/anaconda/bin'"
       ]
      }
     ],
     "prompt_number": 1
    },
    {
     "cell_type": "code",
     "collapsed": false,
     "input": [
      "cd /Volumes/Bay3/Software/bedtools-2.17.0"
     ],
     "language": "python",
     "metadata": {},
     "outputs": [
      {
       "output_type": "stream",
       "stream": "stdout",
       "text": [
        "/Volumes/Bay3/Software/bedtools-2.17.0\n"
       ]
      }
     ],
     "prompt_number": 2
    },
    {
     "cell_type": "code",
     "collapsed": false,
     "input": [
      "ls"
     ],
     "language": "python",
     "metadata": {},
     "outputs": [
      {
       "output_type": "stream",
       "stream": "stdout",
       "text": [
        "LICENSE          README.rst       \u001b[34mbin\u001b[m\u001b[m/             \u001b[34mdocs\u001b[m\u001b[m/            \u001b[34mobj\u001b[m\u001b[m/             \u001b[34msrc\u001b[m\u001b[m/\r\n",
        "Makefile         RELEASE_HISTORY  \u001b[34mdata\u001b[m\u001b[m/            \u001b[34mgenomes\u001b[m\u001b[m/         \u001b[34mscripts\u001b[m\u001b[m/         \u001b[34mtest\u001b[m\u001b[m/\r\n"
       ]
      }
     ],
     "prompt_number": 3
    },
    {
     "cell_type": "code",
     "collapsed": false,
     "input": [
      "cd bin"
     ],
     "language": "python",
     "metadata": {},
     "outputs": [
      {
       "output_type": "stream",
       "stream": "stdout",
       "text": [
        "/Volumes/Bay3/Software/bedtools-2.17.0/bin\n"
       ]
      }
     ],
     "prompt_number": 4
    },
    {
     "cell_type": "code",
     "collapsed": false,
     "input": [
      "ls"
     ],
     "language": "python",
     "metadata": {},
     "outputs": [
      {
       "output_type": "stream",
       "stream": "stdout",
       "text": [
        "\u001b[31mannotateBed\u001b[m\u001b[m*       \u001b[31mbedtools\u001b[m\u001b[m*          \u001b[31mflankBed\u001b[m\u001b[m*          \u001b[31mmaskFastaFromBed\u001b[m\u001b[m*  \u001b[31mrandomBed\u001b[m\u001b[m*         \u001b[31mwindowBed\u001b[m\u001b[m*\r\n",
        "\u001b[31mbamToBed\u001b[m\u001b[m*          \u001b[31mclosestBed\u001b[m\u001b[m*        \u001b[31mgenomeCoverageBed\u001b[m\u001b[m* \u001b[31mmergeBed\u001b[m\u001b[m*          \u001b[31mshuffleBed\u001b[m\u001b[m*        \u001b[31mwindowMaker\u001b[m\u001b[m*\r\n",
        "\u001b[31mbamToFastq\u001b[m\u001b[m*        \u001b[31mclusterBed\u001b[m\u001b[m*        \u001b[31mgetOverlap\u001b[m\u001b[m*        \u001b[31mmultiBamCov\u001b[m\u001b[m*       \u001b[31mslopBed\u001b[m\u001b[m*\r\n",
        "\u001b[31mbed12ToBed6\u001b[m\u001b[m*       \u001b[31mcomplementBed\u001b[m\u001b[m*     \u001b[31mgroupBy\u001b[m\u001b[m*           \u001b[31mmultiIntersectBed\u001b[m\u001b[m* \u001b[31msortBed\u001b[m\u001b[m*\r\n",
        "\u001b[31mbedToBam\u001b[m\u001b[m*          \u001b[31mcoverageBed\u001b[m\u001b[m*       \u001b[31mintersectBed\u001b[m\u001b[m*      \u001b[31mnucBed\u001b[m\u001b[m*            \u001b[31msubtractBed\u001b[m\u001b[m*\r\n",
        "\u001b[31mbedToIgv\u001b[m\u001b[m*          \u001b[31mexpandCols\u001b[m\u001b[m*        \u001b[31mlinksBed\u001b[m\u001b[m*          \u001b[31mpairToBed\u001b[m\u001b[m*         \u001b[31mtagBam\u001b[m\u001b[m*\r\n",
        "\u001b[31mbedpeToBam\u001b[m\u001b[m*        \u001b[31mfastaFromBed\u001b[m\u001b[m*      \u001b[31mmapBed\u001b[m\u001b[m*            \u001b[31mpairToPair\u001b[m\u001b[m*        \u001b[31munionBedGraphs\u001b[m\u001b[m*\r\n"
       ]
      }
     ],
     "prompt_number": 5
    },
    {
     "cell_type": "code",
     "collapsed": false,
     "input": [
      "!fastaFromBed -h"
     ],
     "language": "python",
     "metadata": {},
     "outputs": [
      {
       "output_type": "stream",
       "stream": "stdout",
       "text": [
        "\r\n",
        "Tool:    bedtools getfasta (aka fastaFromBed)\r\n",
        "Version: v2.17.0\r\n",
        "Summary: Extract DNA sequences into a fasta file based on feature coordinates.\r\n",
        "\r\n",
        "Usage:   bedtools getfasta [OPTIONS] -fi <fasta> -bed <bed/gff/vcf> -fo <fasta> \r\n",
        "\r\n",
        "Options: \r\n",
        "\t-fi\tInput FASTA file\r\n",
        "\t-bed\tBED/GFF/VCF file of ranges to extract from -fi\r\n",
        "\t-fo\tOutput file (can be FASTA or TAB-delimited)\r\n",
        "\t-name\tUse the name field for the FASTA header\r\n",
        "\t-split\tgiven BED12 fmt., extract and concatenate the sequencesfrom the BED \"blocks\" (e.g., exons)\r\n",
        "\t-tab\tWrite output in TAB delimited format.\r\n",
        "\t\t- Default is FASTA format.\r\n",
        "\r\n",
        "\t-s\tForce strandedness. If the feature occupies the antisense,\r\n",
        "\t\tstrand, the sequence will be reverse complemented.\r\n",
        "\t\t- By default, strand information is ignored.\r\n",
        "\r\n"
       ]
      }
     ],
     "prompt_number": 7
    },
    {
     "cell_type": "code",
     "collapsed": false,
     "input": [
      "!fastaFromBed -s -fi /Volumes/web/cnidarian/oyster.v9.fa -bed /Volumes/web/cnidarian/oyster.v9.glean.final.rename.mRNA.gff -fo /Volumes/web/cnidarian/TJGR_genomic_gene_FS.fa"
     ],
     "language": "python",
     "metadata": {},
     "outputs": [],
     "prompt_number": 8
    },
    {
     "cell_type": "code",
     "collapsed": false,
     "input": [
      "!head /Volumes/web/cnidarian/TJGR_genomic_gene_FS.fa"
     ],
     "language": "python",
     "metadata": {},
     "outputs": [
      {
       "output_type": "stream",
       "stream": "stdout",
       "text": [
        ">C16582:34-385(-)\r\n",
        "ATGGCGAACACTGAGGAAGACCCTCAAATCGAAGTGGAAGAATCAACGGAAATTAAGACAAAGAAGCATGATTCGGGTGCAAGAGATCTTGAAAAGGTCACCGATTATGTTGAAGAAAAGGAAATTTCGGCACAAAGCATAGGAGATGCTATGAAAGCAATGAGTGACCGGAAAACAAAAGAGAGGGCTAAAAAACAGGAAAGGGAGCGGGAACTAGCAAAAGTAAAAATAAACAAAGAAGATGTTGATTTGATTGTAGCGGAAATGGAAATAACAAGACAAATAGCTGAACGGACATTACGAGAACACAATGGGGACGTTGTGGAAGCATTGGTTGCGCTAACGAACTGA\r\n",
        ">C17212:30-363(+)\r\n",
        "ATGTATGGAGTGATGAATTCCAATATCCATGAACACATAAACAACAGTATCATGAAATGTGATGTGGATATCCATGAAGACATGTTCTCTAACATTGTGTTATCTGGAGGTTCAACCATGTTTCCAGGTATAGCCGATCGTATGCAGAAAGAAATCACAGCACTTGCTCCAAGCTCTATTAAAGTCAAAATCATTGCTCCACCCGAGAGGAAATACTCCGCCTGGATTGGAGGATCCATCCTGGGTTCTCTCTCCACTTTCGAAGATATGTGGATCAGCAAAGAGGAATACGATGAAAATGGTCCCTGCATTGTTCACAAGAAGTGCTTCTAA\r\n",
        ">C17316:29-257(+)\r\n",
        "ATGGCGTTTACTACACGGGATCAGGATGATGACAGGTGGAGCGGCGGAAACTGTGCCACCGACTGGGGTTCCGCTGGGTGGTTCAATATATGTTTCAAGGCCAACCCTAATGGACAGTATATAGACTTTGAGAAGACAAATGATCCTAAATACCTTGTATGGTATCACTGGAAAAACTCGTGGGTGTCTCTGAAATCGATGAAATTGATGATTCGTCCTCGAGCTTGA\r\n",
        ">C17476:33-257(-)\r\n",
        "ATGTACGGGGACTTTCCTTTGGCCATAAACTTTTCCCTTATTTTCGAACCTGGAATACTTTTTCTGAAAGATGTCATCGGCAGACGGATGGAGGGGAAAATGGATTCCGAAAAAAGGGCCCTGCAGAAATTGGAAGATTATGTGAAGGAAATGGGTAAATATTATATCTATTGTTTTCTAAAGAGCGTTATCTTGGCCTACAATTTAGCTGCAATATCGTGTAA\r\n",
        ">C17998:195-387(-)\r\n",
        "ATGGCGAATGTTTTTACTGCAGCAAACTTACTGCCACGGTCGACAACACTGTCTGATTATAGGGGCCACGATGCCACGAAACATCGCGTGTACCCTCGAATATTGTCCCCTACCAGGCGAGCTAATCCGCACCCTATTGGATTAAAATATCAGCTAATCACTCAGAAAAAACCGGTAAGCATGATATTCTGA\r\n"
       ]
      }
     ],
     "prompt_number": 11
    },
    {
     "cell_type": "markdown",
     "metadata": {},
     "source": [
      "<s>Problem: expected all to start with ATG</s>\n",
      "\n",
      "had just headed wrong file."
     ]
    },
    {
     "cell_type": "code",
     "collapsed": false,
     "input": [
      "!fastaFromBed -fi /Volumes/web/cnidarian/oyster.v9.fa -bed /Volumes/web/cnidarian/oyster.v9.glean.final.rename.mRNA.gff -fo /Volumes/web/cnidarian/TJGR_genomic_gene_nFS.fa"
     ],
     "language": "python",
     "metadata": {},
     "outputs": [],
     "prompt_number": 10
    },
    {
     "cell_type": "code",
     "collapsed": false,
     "input": [
      "rm /Volumes/web/cnidarian/TJGR_genomic_gene_nFS.fa"
     ],
     "language": "python",
     "metadata": {},
     "outputs": [
      {
       "output_type": "stream",
       "stream": "stdout",
       "text": [
        "remove /Volumes/web/cnidarian/TJGR_genomic_gene_nFS.fa? "
       ]
      }
     ],
     "prompt_number": "*"
    },
    {
     "cell_type": "code",
     "collapsed": false,
     "input": [
      "yes"
     ],
     "language": "python",
     "metadata": {},
     "outputs": [],
     "prompt_number": "*"
    },
    {
     "cell_type": "markdown",
     "metadata": {},
     "source": [
      "Note did not really seem to delete\n",
      "\n",
      "\n",
      "- Looks like forced strandedness in getFasta worked HOWEVER name is Scaffold\n",
      "- Will use previously derived /Volumes/web/cnidarian/TJGR_Gene_28027_column_mod.gff\n",
      "- AHHH forget -name also"
     ]
    },
    {
     "cell_type": "code",
     "collapsed": false,
     "input": [
      "!head /Volumes/web/cnidarian/TJGR_Gene_28027_column_mod.gff"
     ],
     "language": "python",
     "metadata": {},
     "outputs": [
      {
       "output_type": "stream",
       "stream": "stdout",
       "text": [
        "C16582\tGLEAN\tCGI_10000001\t35\t385\t0.555898\t-\t.\tID\r\n",
        "C17212\tGLEAN\tCGI_10000002\t31\t363\t0.999572\t+\t.\tID\r\n",
        "C17316\tGLEAN\tCGI_10000003\t30\t257\t0.555898\t+\t.\tID\r\n",
        "C17476\tGLEAN\tCGI_10000004\t34\t257\t0.998947\t-\t.\tID\r\n",
        "C17998\tGLEAN\tCGI_10000005\t196\t387\t1\t-\t.\tID\r\n",
        "C18346\tGLEAN\tCGI_10000009\t174\t551\t1\t+\t.\tID\r\n",
        "C18428\tGLEAN\tCGI_10000010\t286\t546\t0.555898\t-\t.\tID\r\n",
        "C18964\tGLEAN\tCGI_10000011\t203\t658\t0.999572\t-\t.\tID\r\n",
        "C18980\tGLEAN\tCGI_10000012\t30\t674\t0.555898\t+\t.\tID\r\n",
        "C19100\tGLEAN\tCGI_10000013\t160\t681\t0.999955\t-\t.\tID\r\n"
       ]
      }
     ],
     "prompt_number": 3
    },
    {
     "cell_type": "code",
     "collapsed": false,
     "input": [
      "!head /Volumes/web/cnidarian/oyster.v9.glean.final.rename.mRNA.gff"
     ],
     "language": "python",
     "metadata": {},
     "outputs": [
      {
       "output_type": "stream",
       "stream": "stdout",
       "text": [
        "C16582\tGLEAN\tmRNA\t35\t385\t0.555898\t-\t.\tID=CGI_10000001;\r\n",
        "C17212\tGLEAN\tmRNA\t31\t363\t0.999572\t+\t.\tID=CGI_10000002;\r\n",
        "C17316\tGLEAN\tmRNA\t30\t257\t0.555898\t+\t.\tID=CGI_10000003;\r\n",
        "C17476\tGLEAN\tmRNA\t34\t257\t0.998947\t-\t.\tID=CGI_10000004;\r\n",
        "C17998\tGLEAN\tmRNA\t196\t387\t1\t-\t.\tID=CGI_10000005;\r\n",
        "C18346\tGLEAN\tmRNA\t174\t551\t1\t+\t.\tID=CGI_10000009;\r\n",
        "C18428\tGLEAN\tmRNA\t286\t546\t0.555898\t-\t.\tID=CGI_10000010;\r\n",
        "C18964\tGLEAN\tmRNA\t203\t658\t0.999572\t-\t.\tID=CGI_10000011;\r\n",
        "C18980\tGLEAN\tmRNA\t30\t674\t0.555898\t+\t.\tID=CGI_10000012;\r\n",
        "C19100\tGLEAN\tmRNA\t160\t681\t0.999955\t-\t.\tID=CGI_10000013;\r\n"
       ]
      }
     ],
     "prompt_number": 4
    },
    {
     "cell_type": "code",
     "collapsed": false,
     "input": [
      "!fastaFromBed -s -name -fi /Volumes/web/cnidarian/oyster.v9.fa -bed /Volumes/web/cnidarian/TJGR_Gene_28027_column_mod.gff -fo /Volumes/web/cnidarian/TJGR_genomic_gene_FS.fa"
     ],
     "language": "python",
     "metadata": {},
     "outputs": [],
     "prompt_number": 12
    },
    {
     "cell_type": "code",
     "collapsed": false,
     "input": [
      "!head /Volumes/web/cnidarian/TJGR_genomic_gene_FS.fa"
     ],
     "language": "python",
     "metadata": {},
     "outputs": [
      {
       "output_type": "stream",
       "stream": "stdout",
       "text": [
        ">CGI_10000001\r\n",
        "ATGGCGAACACTGAGGAAGACCCTCAAATCGAAGTGGAAGAATCAACGGAAATTAAGACAAAGAAGCATGATTCGGGTGCAAGAGATCTTGAAAAGGTCACCGATTATGTTGAAGAAAAGGAAATTTCGGCACAAAGCATAGGAGATGCTATGAAAGCAATGAGTGACCGGAAAACAAAAGAGAGGGCTAAAAAACAGGAAAGGGAGCGGGAACTAGCAAAAGTAAAAATAAACAAAGAAGATGTTGATTTGATTGTAGCGGAAATGGAAATAACAAGACAAATAGCTGAACGGACATTACGAGAACACAATGGGGACGTTGTGGAAGCATTGGTTGCGCTAACGAACTGA\r\n",
        ">CGI_10000002\r\n",
        "ATGTATGGAGTGATGAATTCCAATATCCATGAACACATAAACAACAGTATCATGAAATGTGATGTGGATATCCATGAAGACATGTTCTCTAACATTGTGTTATCTGGAGGTTCAACCATGTTTCCAGGTATAGCCGATCGTATGCAGAAAGAAATCACAGCACTTGCTCCAAGCTCTATTAAAGTCAAAATCATTGCTCCACCCGAGAGGAAATACTCCGCCTGGATTGGAGGATCCATCCTGGGTTCTCTCTCCACTTTCGAAGATATGTGGATCAGCAAAGAGGAATACGATGAAAATGGTCCCTGCATTGTTCACAAGAAGTGCTTCTAA\r\n",
        ">CGI_10000003\r\n",
        "ATGGCGTTTACTACACGGGATCAGGATGATGACAGGTGGAGCGGCGGAAACTGTGCCACCGACTGGGGTTCCGCTGGGTGGTTCAATATATGTTTCAAGGCCAACCCTAATGGACAGTATATAGACTTTGAGAAGACAAATGATCCTAAATACCTTGTATGGTATCACTGGAAAAACTCGTGGGTGTCTCTGAAATCGATGAAATTGATGATTCGTCCTCGAGCTTGA\r\n",
        ">CGI_10000004\r\n",
        "ATGTACGGGGACTTTCCTTTGGCCATAAACTTTTCCCTTATTTTCGAACCTGGAATACTTTTTCTGAAAGATGTCATCGGCAGACGGATGGAGGGGAAAATGGATTCCGAAAAAAGGGCCCTGCAGAAATTGGAAGATTATGTGAAGGAAATGGGTAAATATTATATCTATTGTTTTCTAAAGAGCGTTATCTTGGCCTACAATTTAGCTGCAATATCGTGTAA\r\n",
        ">CGI_10000005\r\n",
        "ATGGCGAATGTTTTTACTGCAGCAAACTTACTGCCACGGTCGACAACACTGTCTGATTATAGGGGCCACGATGCCACGAAACATCGCGTGTACCCTCGAATATTGTCCCCTACCAGGCGAGCTAATCCGCACCCTATTGGATTAAAATATCAGCTAATCACTCAGAAAAAACCGGTAAGCATGATATTCTGA\r\n"
       ]
      }
     ],
     "prompt_number": 14
    },
    {
     "cell_type": "markdown",
     "metadata": {},
     "source": [
      "wwcd\n",
      "\n",
      "**Now** ready to BSMAP\n",
      "Will start by mapping the Gill MBD data."
     ]
    },
    {
     "cell_type": "code",
     "collapsed": false,
     "input": [
      "cd /Volumes/Bay3/Software/BSMAP/bsmap-2.74"
     ],
     "language": "python",
     "metadata": {},
     "outputs": [
      {
       "output_type": "stream",
       "stream": "stdout",
       "text": [
        "/Volumes/Bay3/Software/BSMAP/bsmap-2.74"
       ]
      },
      {
       "output_type": "stream",
       "stream": "stdout",
       "text": [
        "\n"
       ]
      }
     ],
     "prompt_number": 16
    },
    {
     "cell_type": "code",
     "collapsed": false,
     "input": [
      "ls"
     ],
     "language": "python",
     "metadata": {},
     "outputs": [
      {
       "output_type": "stream",
       "stream": "stdout",
       "text": [
        "GPL_3.0.txt    RELEASE.txt~   \u001b[31mbsmap\u001b[m\u001b[m*         dbseq.h        makefile       pairs.h        reads.cpp      \u001b[34msamtools\u001b[m\u001b[m/\r\n",
        "README.txt     align.cpp      bsp2sam.py     \u001b[34mgzstream\u001b[m\u001b[m/      methratio.py   param.cpp      reads.h        utilities.cpp\r\n",
        "RELEASE.txt    align.h        dbseq.cpp      main.cpp       pairs.cpp      param.h        \u001b[31msam2bam.sh\u001b[m\u001b[m*    utilities.h\r\n"
       ]
      }
     ],
     "prompt_number": 17
    },
    {
     "cell_type": "code",
     "collapsed": false,
     "input": [
      "!bsmap -a /Volumes/NGS\\ Drive/NGS\\ Raw\\ Data/Oyster_BSseq/filtered_Unlabeled_NoIndex_L003_R1.fastq.gz -d /Volumes/web/cnidarian/TJGR_genomic_gene_FS.fa -o /Volumes/web/cnidarian/BiGill_BSMAP_GillMBD_genomic_gene_v4.sam -p 3"
     ],
     "language": "python",
     "metadata": {},
     "outputs": [
      {
       "output_type": "stream",
       "stream": "stdout",
       "text": [
        "\r\n",
        "BSMAP v2.74\r\n",
        "Start at:  Fri May 24 06:52:00 2013\r\n",
        "\r\n",
        "Input reference file: /Volumes/web/cnidarian/TJGR_genomic_gene_FS.fa \t(format: FASTA)\r\n"
       ]
      },
      {
       "output_type": "stream",
       "stream": "stdout",
       "text": [
        "Load in 28027 db seqs, total size 226602635 bp. 7 secs passed\r\n",
        "total_kmers: 43046721\r\n"
       ]
      },
      {
       "output_type": "stream",
       "stream": "stdout",
       "text": [
        "Create seed table. 32 secs passed\r\n",
        "max number of mismatches: read_length * 8% \tmax gap size: 0\r\n",
        "kmer cut-off ratio: 5e-07\r\n",
        "max multi-hits: 100\tmax Ns: 5\tseed size: 16\tindex interval: 4\r\n",
        "quality cutoff: 0\tbase quality char: '!'\r\n",
        "min fragment size:28\tmax fragemt size:500\r\n",
        "start from read #1\tend at read #4294967295\r\n",
        "additional alignment: T in reads => C in reference\r\n",
        "mapping strand: ++,-+\r\n",
        "Single-end alignment(3 threads)\r\n",
        "Input read file: /Volumes/NGS Drive/NGS Raw Data/Oyster_BSseq/filtered_Unlabeled_NoIndex_L003_R1.fastq.gz"
       ]
      },
      {
       "output_type": "stream",
       "stream": "stdout",
       "text": [
        " \t(format: gzipped FASTQ)\r\n",
        "Output file: /Volumes/web/cnidarian/BiGill_BSMAP_GillMBD_genomic_gene_v4.sam\t (format: SAM)\r\n"
       ]
      },
      {
       "output_type": "stream",
       "stream": "stdout",
       "text": [
        "Thread #0: \t100000 reads finished. 97 secs passed\r\n"
       ]
      },
      {
       "output_type": "stream",
       "stream": "stdout",
       "text": [
        "Thread #1: \t50000 reads finished. 97 secs passed\r\n"
       ]
      },
      {
       "output_type": "stream",
       "stream": "stdout",
       "text": [
        "Thread #2: \t150000 reads finished. 98 secs passed\r\n"
       ]
      },
      {
       "output_type": "stream",
       "stream": "stdout",
       "text": [
        "Thread #0: \t200000 reads finished. 165 secs passed\r\n"
       ]
      },
      {
       "output_type": "stream",
       "stream": "stdout",
       "text": [
        "Thread #1: \t250000 reads finished. 166 secs passed\r\n"
       ]
      },
      {
       "output_type": "stream",
       "stream": "stdout",
       "text": [
        "Thread #2: \t300000 reads finished. 168 secs passed\r\n"
       ]
      },
      {
       "output_type": "stream",
       "stream": "stdout",
       "text": [
        "Thread #0: \t350000 reads finished. 235 secs passed\r\n"
       ]
      },
      {
       "output_type": "stream",
       "stream": "stdout",
       "text": [
        "Thread #1: \t400000 reads finished. 236 secs passed\r\n"
       ]
      },
      {
       "output_type": "stream",
       "stream": "stdout",
       "text": [
        "Thread #2: \t450000 reads finished. 237 secs passed\r\n"
       ]
      },
      {
       "output_type": "stream",
       "stream": "stdout",
       "text": [
        "Thread #0: \t500000 reads finished. 311 secs passed\r\n"
       ]
      },
      {
       "output_type": "stream",
       "stream": "stdout",
       "text": [
        "Thread #1: \t550000 reads finished. 312 secs passed\r\n"
       ]
      },
      {
       "output_type": "stream",
       "stream": "stdout",
       "text": [
        "Thread #2: \t600000 reads finished. 314 secs passed\r\n"
       ]
      },
      {
       "output_type": "stream",
       "stream": "stdout",
       "text": [
        "Thread #0: \t650000 reads finished. 375 secs passed\r\n"
       ]
      },
      {
       "output_type": "stream",
       "stream": "stdout",
       "text": [
        "Thread #1: \t700000 reads finished. 376 secs passed\r\n"
       ]
      },
      {
       "output_type": "stream",
       "stream": "stdout",
       "text": [
        "Thread #2: \t750000 reads finished. 378 secs passed\r\n"
       ]
      },
      {
       "output_type": "stream",
       "stream": "stdout",
       "text": [
        "Thread #0: \t800000 reads finished. 437 secs passed\r\n"
       ]
      },
      {
       "output_type": "stream",
       "stream": "stdout",
       "text": [
        "Thread #1: \t850000 reads finished. 440 secs passed\r\n"
       ]
      },
      {
       "output_type": "stream",
       "stream": "stdout",
       "text": [
        "Thread #2: \t900000 reads finished. 440 secs passed\r\n"
       ]
      },
      {
       "output_type": "stream",
       "stream": "stdout",
       "text": [
        "Thread #0: \t950000 reads finished. 504 secs passed\r\n"
       ]
      },
      {
       "output_type": "stream",
       "stream": "stdout",
       "text": [
        "Thread #1: \t1000000 reads finished. 506 secs passed\r\n"
       ]
      },
      {
       "output_type": "stream",
       "stream": "stdout",
       "text": [
        "Thread #2: \t1050000 reads finished. 506 secs passed\r\n"
       ]
      },
      {
       "output_type": "stream",
       "stream": "stdout",
       "text": [
        "Thread #0: \t1100000 reads finished. 586 secs passed\r\n"
       ]
      },
      {
       "output_type": "stream",
       "stream": "stdout",
       "text": [
        "Thread #1: \t1150000 reads finished. 588 secs passed\r\n"
       ]
      },
      {
       "output_type": "stream",
       "stream": "stdout",
       "text": [
        "Thread #2: \t1200000 reads finished. 589 secs passed\r\n"
       ]
      },
      {
       "output_type": "stream",
       "stream": "stdout",
       "text": [
        "Thread #0: \t1250000 reads finished. 658 secs passed\r\n"
       ]
      },
      {
       "output_type": "stream",
       "stream": "stdout",
       "text": [
        "Thread #1: \t1300000 reads finished. 661 secs passed\r\n"
       ]
      },
      {
       "output_type": "stream",
       "stream": "stdout",
       "text": [
        "Thread #2: \t1350000 reads finished. 662 secs passed\r\n"
       ]
      },
      {
       "output_type": "stream",
       "stream": "stdout",
       "text": [
        "Thread #0: \t1400000 reads finished. 730 secs passed\r\n"
       ]
      },
      {
       "output_type": "stream",
       "stream": "stdout",
       "text": [
        "Thread #1: \t1450000 reads finished. 733 secs passed\r\n"
       ]
      },
      {
       "output_type": "stream",
       "stream": "stdout",
       "text": [
        "Thread #2: \t1500000 reads finished. 734 secs passed\r\n"
       ]
      },
      {
       "output_type": "stream",
       "stream": "stdout",
       "text": [
        "Thread #0: \t1550000 reads finished. 806 secs passed\r\n"
       ]
      },
      {
       "output_type": "stream",
       "stream": "stdout",
       "text": [
        "Thread #1: \t1600000 reads finished. 810 secs passed\r\n"
       ]
      },
      {
       "output_type": "stream",
       "stream": "stdout",
       "text": [
        "Thread #2: \t1650000 reads finished. 810 secs passed\r\n"
       ]
      },
      {
       "output_type": "stream",
       "stream": "stdout",
       "text": [
        "Thread #0: \t1700000 reads finished. 878 secs passed\r\n"
       ]
      },
      {
       "output_type": "stream",
       "stream": "stdout",
       "text": [
        "Thread #2: \t1800000 reads finished. 881 secs passed\r\n"
       ]
      },
      {
       "output_type": "stream",
       "stream": "stdout",
       "text": [
        "Thread #1: \t1750000 reads finished. 882 secs passed\r\n"
       ]
      },
      {
       "output_type": "stream",
       "stream": "stdout",
       "text": [
        "Thread #0: \t1850000 reads finished. 945 secs passed\r\n"
       ]
      },
      {
       "output_type": "stream",
       "stream": "stdout",
       "text": [
        "Thread #2: \t1900000 reads finished. 948 secs passed\r\n"
       ]
      },
      {
       "output_type": "stream",
       "stream": "stdout",
       "text": [
        "Thread #1: \t1950000 reads finished. 949 secs passed\r\n"
       ]
      },
      {
       "output_type": "stream",
       "stream": "stdout",
       "text": [
        "Thread #0: \t2000000 reads finished. 1016 secs passed\r\n"
       ]
      },
      {
       "output_type": "stream",
       "stream": "stdout",
       "text": [
        "Thread #2: \t2050000 reads finished. 1020 secs passed\r\n"
       ]
      },
      {
       "output_type": "stream",
       "stream": "stdout",
       "text": [
        "Thread #1: \t2100000 reads finished. 1022 secs passed\r\n"
       ]
      },
      {
       "output_type": "stream",
       "stream": "stdout",
       "text": [
        "Thread #0: \t2150000 reads finished. 1100 secs passed\r\n"
       ]
      },
      {
       "output_type": "stream",
       "stream": "stdout",
       "text": [
        "Thread #2: \t2200000 reads finished. 1107 secs passed\r\n"
       ]
      },
      {
       "output_type": "stream",
       "stream": "stdout",
       "text": [
        "Thread #1: \t2250000 reads finished. 1108 secs passed\r\n"
       ]
      },
      {
       "output_type": "stream",
       "stream": "stdout",
       "text": [
        "Thread #0: \t2300000 reads finished. 1183 secs passed\r\n"
       ]
      },
      {
       "output_type": "stream",
       "stream": "stdout",
       "text": [
        "Thread #2: \t2350000 reads finished. 1190 secs passed\r\n",
        "Thread #1: \t2400000 reads finished. 1190 secs passed\r\n"
       ]
      },
      {
       "output_type": "stream",
       "stream": "stdout",
       "text": [
        "Thread #0: \t2450000 reads finished. 1254 secs passed\r\n"
       ]
      },
      {
       "output_type": "stream",
       "stream": "stdout",
       "text": [
        "Thread #2: \t2500000 reads finished. 1260 secs passed\r\n"
       ]
      },
      {
       "output_type": "stream",
       "stream": "stdout",
       "text": [
        "Thread #1: \t2550000 reads finished. 1260 secs passed\r\n"
       ]
      },
      {
       "output_type": "stream",
       "stream": "stdout",
       "text": [
        "Thread #0: \t2600000 reads finished. 1329 secs passed\r\n"
       ]
      },
      {
       "output_type": "stream",
       "stream": "stdout",
       "text": [
        "Thread #2: \t2650000 reads finished. 1333 secs passed\r\n"
       ]
      },
      {
       "output_type": "stream",
       "stream": "stdout",
       "text": [
        "Thread #1: \t2700000 reads finished. 1334 secs passed\r\n"
       ]
      }
     ],
     "prompt_number": "*"
    },
    {
     "cell_type": "markdown",
     "metadata": {},
     "source": [
      "<hr/>\n",
      "Start at:  Fri May 24 06:52:00 2013 \n",
      "\n",
      "Will also see if can run remotely on hummingbird via RemoteDesktop\n",
      "\n",
      "\n"
     ]
    },
    {
     "cell_type": "markdown",
     "metadata": {},
     "source": [
      "This is the code run on _hummingbird_\n",
      "\n",
      "    bsmap-2.74 sr320$ ./bsmap -a /Volumes/NGS\\ Drive/NGS\\ Raw\\ Data/Oyster_BSseq/filtered_Unlabeled_NoIndex_L003_R1.fastq -d /Volumes/web/cnidarian/TJGR_genomic_gene_FS.fa -o /Volumes/web/cnidarian/BiGill_BSMAP_GillMBD_genomic_gene_v5.sam -p 12\n"
     ]
    },
    {
     "cell_type": "markdown",
     "metadata": {},
     "source": [
      "**Now we wait**"
     ]
    },
    {
     "cell_type": "code",
     "collapsed": false,
     "input": [],
     "language": "python",
     "metadata": {},
     "outputs": []
    }
   ],
   "metadata": {}
  }
 ]
}