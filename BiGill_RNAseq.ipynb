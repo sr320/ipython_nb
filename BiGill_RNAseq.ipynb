{
 "metadata": {
  "name": "BiGill_RNAseq"
 },
 "nbformat": 3,
 "nbformat_minor": 0,
 "worksheets": [
  {
   "cells": [
    {
     "cell_type": "markdown",
     "metadata": {},
     "source": [
      "#Analysis of RNA-Seq data that corresponds to oyster gill BS-Seq data\n"
     ]
    },
    {
     "cell_type": "markdown",
     "metadata": {},
     "source": [
      "##Galaxy\n",
      "\n",
      "Upload via FTP\n",
      "\n",
      "<img src=\"http://eagle.fish.washington.edu/cnidarian/skitch/NGS_Raw_Data_17A1B3BA.png\" alt=\"NGS_Raw_Data_17A1B3BA.png\"/>   \n",
      "\n",
      "<img src=\"http://eagle.fish.washington.edu/cnidarian/skitch/Galaxy_17A28D59.png\" alt=\"Galaxy_17A28D59.png\"/>\n"
     ]
    },
    {
     "cell_type": "markdown",
     "metadata": {},
     "source": [
      "Grooming - assuming 1.8 thus Sanger\n",
      "Doing this because Galaxy will not recognize"
     ]
    },
    {
     "cell_type": "markdown",
     "metadata": {},
     "source": [
      "still moving along\n",
      "<img src=\"http://eagle.fish.washington.edu/cnidarian/skitch/https__main.g2.bx.psu.edu_workflow_gen_image_id_def91d78ab0220d9_and_Directory_Listing_of__cnidarian_17A868E0.png\" alt=\"https__main.g2.bx.psu.edu_workflow_gen_image_id_def91d78ab0220d9_and_Directory_Listing_of__cnidarian_17A868E0.png\"/>"
     ]
    },
    {
     "cell_type": "code",
     "collapsed": false,
     "input": [
      "\""
     ],
     "language": "python",
     "metadata": {},
     "outputs": []
    }
   ],
   "metadata": {}
  }
 ]
}