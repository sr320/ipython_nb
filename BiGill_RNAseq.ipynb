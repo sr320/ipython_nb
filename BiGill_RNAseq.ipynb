{
 "metadata": {
  "name": "BiGill_RNAseq"
 },
 "nbformat": 3,
 "nbformat_minor": 0,
 "worksheets": [
  {
   "cells": [
    {
     "cell_type": "markdown",
     "metadata": {},
     "source": [
      "#Analysis of RNA-Seq data that corresponds to oyster gill BS-Seq data\n"
     ]
    },
    {
     "cell_type": "markdown",
     "metadata": {},
     "source": [
      "##Galaxy\n",
      "\n",
      "Upload via FTP\n",
      "\n",
      "<img src=\"http://eagle.fish.washington.edu/cnidarian/skitch/NGS_Raw_Data_17A1B3BA.png\" alt=\"NGS_Raw_Data_17A1B3BA.png\"/>   \n",
      "\n",
      "<img src=\"http://eagle.fish.washington.edu/cnidarian/skitch/Galaxy_17A28D59.png\" alt=\"Galaxy_17A28D59.png\"/>\n"
     ]
    },
    {
     "cell_type": "markdown",
     "metadata": {},
     "source": [
      "Number of Reads   \n",
      "<img src=\"http://eagle.fish.washington.edu/cnidarian/skitch/Galaxy_17AAFB84.png\" alt=\"Galaxy_17AAFB84.png\"/>"
     ]
    },
    {
     "cell_type": "markdown",
     "metadata": {},
     "source": [
      "Grooming - assuming 1.8 thus Sanger\n",
      "Doing this because Galaxy will not recognize"
     ]
    },
    {
     "cell_type": "code",
     "collapsed": false,
     "input": [
      "#Tophat complete, had to go back and quality trim individual files"
     ],
     "language": "python",
     "metadata": {},
     "outputs": [],
     "prompt_number": 1
    },
    {
     "cell_type": "markdown",
     "metadata": {},
     "source": [
      "<img src=\"http://eagle.fish.washington.edu/cnidarian/skitch/Galaxy_17AAF717.png\" alt=\"Galaxy_17AAF717.png\"/>"
     ]
    },
    {
     "cell_type": "code",
     "collapsed": false,
     "input": [
      "#checking accepted hits \n",
      "!samtools view -c /Volumes/web/cnidarian/BiGill_RNAseqGalaxy_Tophat.bam"
     ],
     "language": "python",
     "metadata": {},
     "outputs": [
      {
       "output_type": "stream",
       "stream": "stdout",
       "text": [
        "24876898\r\n"
       ]
      }
     ],
     "prompt_number": 3
    },
    {
     "cell_type": "code",
     "collapsed": false,
     "input": [
      "#only mapped reads\n",
      "!samtools view -c -F 4 /Volumes/web/cnidarian/BiGill_RNAseqGalaxy_Tophat.bam"
     ],
     "language": "python",
     "metadata": {},
     "outputs": [
      {
       "output_type": "stream",
       "stream": "stdout",
       "text": [
        "24876898\r\n"
       ]
      }
     ],
     "prompt_number": 6
    },
    {
     "cell_type": "code",
     "collapsed": false,
     "input": [
      "!samtools flagstat /Volumes/web/cnidarian/BiGill_RNAseqGalaxy_Tophat.bam"
     ],
     "language": "python",
     "metadata": {},
     "outputs": [
      {
       "output_type": "stream",
       "stream": "stdout",
       "text": [
        "24876898 + 0 in total (QC-passed reads + QC-failed reads)\r\n",
        "0 + 0 duplicates\r\n",
        "24876898 + 0 mapped (100.00%:nan%)\r\n",
        "24876898 + 0 paired in sequencing\r\n",
        "12557606 + 0 read1\r\n",
        "12319292 + 0 read2\r\n",
        "108356 + 0 properly paired (0.44%:nan%)\r\n",
        "1412054 + 0 with itself and mate mapped\r\n",
        "23464844 + 0 singletons (94.32%:nan%)\r\n",
        "0 + 0 with mate mapped to a different chr\r\n",
        "0 + 0 with mate mapped to a different chr (mapQ>=5)\r\n"
       ]
      }
     ],
     "prompt_number": 4
    },
    {
     "cell_type": "markdown",
     "metadata": {},
     "source": [
      "---"
     ]
    },
    {
     "cell_type": "code",
     "collapsed": false,
     "input": [
      "#Cufflinks needs GTF\n",
      "!head /Volumes/web/cnidarian/TJGR_CDSgffread_filtered.gtf"
     ],
     "language": "python",
     "metadata": {},
     "outputs": [
      {
       "output_type": "stream",
       "stream": "stdout",
       "text": [
        "# /usr/local2/cufflinks-1.0.3.Linux_x86_64/gffread oyster.v9.glean.final.rename.CDS.gff -o gffread_filtered.gtf\r\n",
        "##gff-version 3\r\n",
        "C16582\tGLEAN\tmRNA\t35\t385\t.\t-\t.\tID=CGI_10000001\r\n",
        "C16582\tGLEAN\tCDS\t35\t385\t.\t-\t0\tParent=CGI_10000001\r\n",
        "C17212\tGLEAN\tmRNA\t31\t363\t.\t+\t.\tID=CGI_10000002\r\n",
        "C17212\tGLEAN\tCDS\t31\t363\t.\t+\t0\tParent=CGI_10000002\r\n",
        "C17316\tGLEAN\tmRNA\t30\t257\t.\t+\t.\tID=CGI_10000003\r\n",
        "C17316\tGLEAN\tCDS\t30\t257\t.\t+\t0\tParent=CGI_10000003\r\n",
        "C17476\tGLEAN\tmRNA\t34\t257\t.\t-\t.\tID=CGI_10000004\r\n",
        "C17476\tGLEAN\tCDS\t34\t74\t.\t-\t2\tParent=CGI_10000004\r\n"
       ]
      }
     ],
     "prompt_number": 2
    },
    {
     "cell_type": "markdown",
     "metadata": {},
     "source": [
      "---   \n",
      "Running cufflinks 1   \n",
      "\n",
      "<img src=\"http://eagle.fish.washington.edu/cnidarian/skitch/Galaxy_17AAF7AC.png\" alt=\"Galaxy_17AAF7AC.png\"/>"
     ]
    },
    {
     "cell_type": "markdown",
     "metadata": {},
     "source": [
      "<img src=\"http://eagle.fish.washington.edu/cnidarian/skitch/Galaxy_17ABC793.png\" alt=\"Galaxy_17ABC793.png\"/>"
     ]
    },
    {
     "cell_type": "markdown",
     "metadata": {},
     "source": [
      "---   \n",
      "\n",
      "<img src=\"http://eagle.fish.washington.edu/cnidarian/skitch/Galaxy_17ABC847.png\" alt=\"Galaxy_17ABC847.png\"/>"
     ]
    },
    {
     "cell_type": "code",
     "collapsed": false,
     "input": [],
     "language": "python",
     "metadata": {},
     "outputs": []
    }
   ],
   "metadata": {}
  }
 ]
}