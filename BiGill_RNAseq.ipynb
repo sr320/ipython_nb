{
 "metadata": {
  "name": ""
 },
 "nbformat": 3,
 "nbformat_minor": 0,
 "worksheets": [
  {
   "cells": [
    {
     "cell_type": "markdown",
     "metadata": {},
     "source": [
      "#Analysis of RNA-Seq data that corresponds to oyster gill BS-Seq data\n"
     ]
    },
    {
     "cell_type": "markdown",
     "metadata": {},
     "source": [
      "##Galaxy\n",
      "\n",
      "Upload via FTP\n",
      "\n",
      "<img src=\"http://eagle.fish.washington.edu/cnidarian/skitch/NGS_Raw_Data_17A1B3BA.png\" alt=\"NGS_Raw_Data_17A1B3BA.png\"/>   \n",
      "\n",
      "<img src=\"http://eagle.fish.washington.edu/cnidarian/skitch/Galaxy_17A28D59.png\" alt=\"Galaxy_17A28D59.png\"/>\n"
     ]
    },
    {
     "cell_type": "markdown",
     "metadata": {},
     "source": [
      "Number of Reads   \n",
      "<img src=\"http://eagle.fish.washington.edu/cnidarian/skitch/Galaxy_17AAFB84.png\" alt=\"Galaxy_17AAFB84.png\"/>"
     ]
    },
    {
     "cell_type": "markdown",
     "metadata": {},
     "source": [
      "Grooming - assuming 1.8 thus Sanger\n",
      "Doing this because Galaxy will not recognize"
     ]
    },
    {
     "cell_type": "code",
     "collapsed": false,
     "input": [
      "#Tophat complete, had to go back and quality trim individual files"
     ],
     "language": "python",
     "metadata": {},
     "outputs": [],
     "prompt_number": 1
    },
    {
     "cell_type": "markdown",
     "metadata": {},
     "source": [
      "<img src=\"http://eagle.fish.washington.edu/cnidarian/skitch/Galaxy_17AAF717.png\" alt=\"Galaxy_17AAF717.png\"/>"
     ]
    },
    {
     "cell_type": "code",
     "collapsed": false,
     "input": [
      "#checking accepted hits \n",
      "!samtools view -c /Volumes/web/cnidarian/BiGill_RNAseqGalaxy_Tophat.bam"
     ],
     "language": "python",
     "metadata": {},
     "outputs": [
      {
       "output_type": "stream",
       "stream": "stdout",
       "text": [
        "24876898\r\n"
       ]
      }
     ],
     "prompt_number": 3
    },
    {
     "cell_type": "code",
     "collapsed": false,
     "input": [
      "#only mapped reads\n",
      "!samtools view -c -F 4 /Volumes/web/cnidarian/BiGill_RNAseqGalaxy_Tophat.bam"
     ],
     "language": "python",
     "metadata": {},
     "outputs": [
      {
       "output_type": "stream",
       "stream": "stdout",
       "text": [
        "24876898\r\n"
       ]
      }
     ],
     "prompt_number": 6
    },
    {
     "cell_type": "code",
     "collapsed": false,
     "input": [
      "!samtools flagstat /Volumes/web/cnidarian/BiGill_RNAseqGalaxy_Tophat.bam"
     ],
     "language": "python",
     "metadata": {},
     "outputs": [
      {
       "output_type": "stream",
       "stream": "stdout",
       "text": [
        "24876898 + 0 in total (QC-passed reads + QC-failed reads)\r\n",
        "0 + 0 duplicates\r\n",
        "24876898 + 0 mapped (100.00%:nan%)\r\n",
        "24876898 + 0 paired in sequencing\r\n",
        "12557606 + 0 read1\r\n",
        "12319292 + 0 read2\r\n",
        "108356 + 0 properly paired (0.44%:nan%)\r\n",
        "1412054 + 0 with itself and mate mapped\r\n",
        "23464844 + 0 singletons (94.32%:nan%)\r\n",
        "0 + 0 with mate mapped to a different chr\r\n",
        "0 + 0 with mate mapped to a different chr (mapQ>=5)\r\n"
       ]
      }
     ],
     "prompt_number": 4
    },
    {
     "cell_type": "markdown",
     "metadata": {},
     "source": [
      "---"
     ]
    },
    {
     "cell_type": "code",
     "collapsed": false,
     "input": [
      "#Cufflinks needs GTF\n",
      "!head /Volumes/web/cnidarian/TJGR_CDSgffread_filtered.gtf"
     ],
     "language": "python",
     "metadata": {},
     "outputs": [
      {
       "output_type": "stream",
       "stream": "stdout",
       "text": [
        "# /usr/local2/cufflinks-1.0.3.Linux_x86_64/gffread oyster.v9.glean.final.rename.CDS.gff -o gffread_filtered.gtf\r\n",
        "##gff-version 3\r\n",
        "C16582\tGLEAN\tmRNA\t35\t385\t.\t-\t.\tID=CGI_10000001\r\n",
        "C16582\tGLEAN\tCDS\t35\t385\t.\t-\t0\tParent=CGI_10000001\r\n",
        "C17212\tGLEAN\tmRNA\t31\t363\t.\t+\t.\tID=CGI_10000002\r\n",
        "C17212\tGLEAN\tCDS\t31\t363\t.\t+\t0\tParent=CGI_10000002\r\n",
        "C17316\tGLEAN\tmRNA\t30\t257\t.\t+\t.\tID=CGI_10000003\r\n",
        "C17316\tGLEAN\tCDS\t30\t257\t.\t+\t0\tParent=CGI_10000003\r\n",
        "C17476\tGLEAN\tmRNA\t34\t257\t.\t-\t.\tID=CGI_10000004\r\n",
        "C17476\tGLEAN\tCDS\t34\t74\t.\t-\t2\tParent=CGI_10000004\r\n"
       ]
      }
     ],
     "prompt_number": 2
    },
    {
     "cell_type": "markdown",
     "metadata": {},
     "source": [
      "---   \n",
      "Running cufflinks 1   \n",
      "\n",
      "<img src=\"http://eagle.fish.washington.edu/cnidarian/skitch/Galaxy_17AAF7AC.png\" alt=\"Galaxy_17AAF7AC.png\"/>"
     ]
    },
    {
     "cell_type": "markdown",
     "metadata": {},
     "source": [
      "<img src=\"http://eagle.fish.washington.edu/cnidarian/skitch/Galaxy_17ABC793.png\" alt=\"Galaxy_17ABC793.png\"/>"
     ]
    },
    {
     "cell_type": "markdown",
     "metadata": {},
     "source": [
      "---   \n",
      "\n",
      "<img src=\"http://eagle.fish.washington.edu/cnidarian/skitch/Galaxy_17ABC847.png\" alt=\"Galaxy_17ABC847.png\"/>"
     ]
    },
    {
     "cell_type": "code",
     "collapsed": false,
     "input": [
      "#hung for days; restart"
     ],
     "language": "python",
     "metadata": {},
     "outputs": [],
     "prompt_number": 7
    },
    {
     "cell_type": "markdown",
     "metadata": {},
     "source": [
      "<img src=\"http://eagle.fish.washington.edu/cnidarian/skitch/Galaxy_17AFDD6C.png\" alt=\"Galaxy_17AFDD6C.png\"/>"
     ]
    },
    {
     "cell_type": "heading",
     "level": 2,
     "metadata": {},
     "source": [
      "<a id=\"cuff\"></a>Cufflinks worked in Galaxy"
     ]
    },
    {
     "cell_type": "markdown",
     "metadata": {},
     "source": [
      "<img src=\"http://eagle.fish.washington.edu/cnidarian/skitch/Galaxy_17B3FB13.png\" alt=\"Galaxy_17B3FB13.png\"/>"
     ]
    },
    {
     "cell_type": "markdown",
     "metadata": {},
     "source": [
      "downloaded <http://eagle.fish.washington.edu/cnidarian/BiGillCufflinks_assembled_transcripts1.gtf>"
     ]
    },
    {
     "cell_type": "code",
     "collapsed": false,
     "input": [
      "!head /Volumes/web/cnidarian/BiGillCufflinks_assembled_transcripts1.gtf"
     ],
     "language": "python",
     "metadata": {},
     "outputs": [
      {
       "output_type": "stream",
       "stream": "stdout",
       "text": [
        "C10091\tCufflinks\ttranscript\t2\t155\t1000\t.\t.\tgene_id \"CUFF.1\"; transcript_id \"CUFF.1.1\"; FPKM \"212.5240682926\"; frac \"1.000000\"; conf_lo \"10.704568\"; conf_hi \"24.291136\"; cov \"167.595205\";\r\n",
        "C10091\tCufflinks\texon\t2\t155\t1000\t.\t.\tgene_id \"CUFF.1\"; transcript_id \"CUFF.1.1\"; exon_number \"1\"; FPKM \"212.5240682926\"; frac \"1.000000\"; conf_lo \"10.704568\"; conf_hi \"24.291136\"; cov \"167.595205\";\r\n",
        "C10959\tCufflinks\ttranscript\t2\t162\t1000\t.\t.\tgene_id \"CUFF.2\"; transcript_id \"CUFF.2.1\"; FPKM \"49.8667629708\"; frac \"1.000000\"; conf_lo \"1.969068\"; conf_hi \"9.451525\"; cov \"39.324630\";\r\n",
        "C10959\tCufflinks\texon\t2\t162\t1000\t.\t.\tgene_id \"CUFF.2\"; transcript_id \"CUFF.2.1\"; exon_number \"1\"; FPKM \"49.8667629708\"; frac \"1.000000\"; conf_lo \"1.969068\"; conf_hi \"9.451525\"; cov \"39.324630\";\r\n",
        "C11045\tCufflinks\ttranscript\t1\t60\t1000\t.\t.\tgene_id \"CUFF.3\"; transcript_id \"CUFF.3.1\"; FPKM \"28466.3975885016\"; frac \"1.000000\"; conf_lo \"29.588525\"; conf_hi \"66.574181\"; cov \"22448.430340\";\r\n",
        "C11045\tCufflinks\texon\t1\t60\t1000\t.\t.\tgene_id \"CUFF.3\"; transcript_id \"CUFF.3.1\"; exon_number \"1\"; FPKM \"28466.3975885016\"; frac \"1.000000\"; conf_lo \"29.588525\"; conf_hi \"66.574181\"; cov \"22448.430340\";\r\n",
        "C11484\tCufflinks\ttranscript\t3\t116\t1000\t.\t.\tgene_id \"CUFF.4\"; transcript_id \"CUFF.4.1\"; FPKM \"245.8763696681\"; frac \"1.000000\"; conf_lo \"3.893227\"; conf_hi \"16.129083\"; cov \"193.896630\";\r\n",
        "C11484\tCufflinks\texon\t3\t116\t1000\t.\t.\tgene_id \"CUFF.4\"; transcript_id \"CUFF.4.1\"; exon_number \"1\"; FPKM \"245.8763696681\"; frac \"1.000000\"; conf_lo \"3.893227\"; conf_hi \"16.129083\"; cov \"193.896630\";\r\n",
        "C11558\tCufflinks\ttranscript\t1\t130\t1000\t.\t.\tgene_id \"CUFF.5\"; transcript_id \"CUFF.5.1\"; FPKM \"332.4008375524\"; frac \"1.000000\"; conf_lo \"10.242182\"; conf_hi \"24.386147\"; cov \"262.129306\";\r\n",
        "C11558\tCufflinks\texon\t1\t130\t1000\t.\t.\tgene_id \"CUFF.5\"; transcript_id \"CUFF.5.1\"; exon_number \"1\"; FPKM \"332.4008375524\"; frac \"1.000000\"; conf_lo \"10.242182\"; conf_hi \"24.386147\"; cov \"262.129306\";\r\n"
       ]
      }
     ],
     "prompt_number": 2
    },
    {
     "cell_type": "markdown",
     "metadata": {},
     "source": [
      "\n",
      "\n",
      "\n",
      "This is a screenshot of file #28. interesting     \n",
      "\n",
      "<img src=\"http://eagle.fish.washington.edu/cnidarian/skitch/IGV_-_Session__http__eagle.fish.washington.edu_cnidarian_igv_session_073013.xml_17B4011F.png\" alt=\"IGV_-_Session__http__eagle.fish.washington.edu_cnidarian_igv_session_073013.xml_17B4011F.png\"/>"
     ]
    },
    {
     "cell_type": "markdown",
     "metadata": {},
     "source": [
      "The two other files that cufflinks produced\n",
      "\n",
      "<img src=\"http://eagle.fish.washington.edu/cnidarian/skitch/Galaxy_17B40900.png\" alt=\"Galaxy_17B40900.png\"/>\n",
      "\n",
      "\n",
      "<http://eagle.fish.washington.edu/cnidarian/BiGillCufflinks_transcripts_exp1.tabular>   \n",
      "<http://eagle.fish.washington.edu/cnidarian/BiGillCufflinks_gene_exp1.tabular>"
     ]
    },
    {
     "cell_type": "code",
     "collapsed": false,
     "input": [
      "!wc /Volumes/web/cnidarian/BiGillCufflinks_transcripts_exp1.tabular"
     ],
     "language": "python",
     "metadata": {},
     "outputs": [
      {
       "output_type": "stream",
       "stream": "stdout",
       "text": [
        "   42867  557271 4118574 /Volumes/web/cnidarian/BiGillCufflinks_transcripts_exp1.tabular\r\n"
       ]
      }
     ],
     "prompt_number": 3
    },
    {
     "cell_type": "code",
     "collapsed": false,
     "input": [
      "!wc /Volumes/web/cnidarian/BiGillCufflinks_gene_exp1.tabular"
     ],
     "language": "python",
     "metadata": {},
     "outputs": [
      {
       "output_type": "stream",
       "stream": "stdout",
       "text": [
        "   37092  482196 3179694 /Volumes/web/cnidarian/BiGillCufflinks_gene_exp1.tabular\r\n"
       ]
      }
     ],
     "prompt_number": 5
    },
    {
     "cell_type": "heading",
     "level": 1,
     "metadata": {},
     "source": [
      "Using Bedtools to get exon coverage"
     ]
    },
    {
     "cell_type": "code",
     "collapsed": false,
     "input": [
      "!coveragebed -hist -abam /Volumes/web/cnidarian/BiGill_RNAseqGalaxy_Tophat.bam -b /Volumes/web/trilobite/Crassostrea_gigas_v9_tracks/Cgigas_v9_exon.gff > /Volumes/web/cnidarian/BiGill_ThBAM_cov_exon_1.txt"
     ],
     "language": "python",
     "metadata": {},
     "outputs": [],
     "prompt_number": 8
    },
    {
     "cell_type": "code",
     "collapsed": false,
     "input": [
      "!head /Volumes/web/cnidarian/BiGill_ThBAM_cov_exon_1.txt"
     ],
     "language": "python",
     "metadata": {},
     "outputs": [
      {
       "output_type": "stream",
       "stream": "stdout",
       "text": [
        "C16582\tGLEAN\tCDS\t35\t385\t.\t-\t0\tParent=CGI_10000001;\t0\t49\t351\t0.1396011\r\n",
        "C16582\tGLEAN\tCDS\t35\t385\t.\t-\t0\tParent=CGI_10000001;\t1\t1\t351\t0.0028490\r\n",
        "C16582\tGLEAN\tCDS\t35\t385\t.\t-\t0\tParent=CGI_10000001;\t2\t2\t351\t0.0056980\r\n",
        "C16582\tGLEAN\tCDS\t35\t385\t.\t-\t0\tParent=CGI_10000001;\t3\t4\t351\t0.0113960\r\n",
        "C16582\tGLEAN\tCDS\t35\t385\t.\t-\t0\tParent=CGI_10000001;\t5\t2\t351\t0.0056980\r\n",
        "C16582\tGLEAN\tCDS\t35\t385\t.\t-\t0\tParent=CGI_10000001;\t6\t2\t351\t0.0056980\r\n",
        "C16582\tGLEAN\tCDS\t35\t385\t.\t-\t0\tParent=CGI_10000001;\t7\t2\t351\t0.0056980\r\n",
        "C16582\tGLEAN\tCDS\t35\t385\t.\t-\t0\tParent=CGI_10000001;\t8\t1\t351\t0.0028490\r\n",
        "C16582\tGLEAN\tCDS\t35\t385\t.\t-\t0\tParent=CGI_10000001;\t9\t2\t351\t0.0056980\r\n",
        "C16582\tGLEAN\tCDS\t35\t385\t.\t-\t0\tParent=CGI_10000001;\t10\t2\t351\t0.0056980\r\n"
       ]
      }
     ],
     "prompt_number": 9
    },
    {
     "cell_type": "code",
     "collapsed": false,
     "input": [
      "from pandas import *\n",
      "\n",
      "# read data from data file into a pandas DataFrame  \n",
      "ex = read_table(\"http://eagle.fish.washington.edu/cnidarian/BiGill_ThBAM_cov_exon_1.txt\", # name of the data file\n",
      "            #sep=\",\", # what character separates each column?\n",
      "            na_values=[\"\", \" \"]) # what values should be considered \"blank\" values?"
     ],
     "language": "python",
     "metadata": {},
     "outputs": [],
     "prompt_number": 13
    },
    {
     "cell_type": "code",
     "collapsed": false,
     "input": [
      "print ex\n",
      "#need to figure out column titles @fu"
     ],
     "language": "python",
     "metadata": {},
     "outputs": [
      {
       "output_type": "stream",
       "stream": "stdout",
       "text": [
        "<class 'pandas.core.frame.DataFrame'>\n",
        "Int64Index: 2030332 entries, 0 to 2030331\n",
        "Data columns:\n",
        "C16582                  2030332  non-null values\n",
        "GLEAN                   2030332  non-null values\n",
        "CDS                     2030332  non-null values\n",
        "35                      2030332  non-null values\n",
        "385                     2030332  non-null values\n",
        ".                       2020281  non-null values\n",
        "-                       2020281  non-null values\n",
        "0                       2020281  non-null values\n",
        "Parent=CGI_10000001;    2020281  non-null values\n",
        "0.1                     2020281  non-null values\n",
        "49                      2020281  non-null values\n",
        "351                     2020281  non-null values\n",
        "0.1396011               2020281  non-null values\n",
        "dtypes: float64(6), int64(1), object(6)"
       ]
      },
      {
       "output_type": "stream",
       "stream": "stdout",
       "text": [
        "\n"
       ]
      }
     ],
     "prompt_number": 15
    },
    {
     "cell_type": "code",
     "collapsed": false,
     "input": [
      "ex ['0.1396011'].hist(bins=50);\n",
      "#Axis limits are changed using the axis([xmin, xmax, ymin, ymax]) function.\n",
      "#plt.axis([0, 1, 0, 400000])"
     ],
     "language": "python",
     "metadata": {},
     "outputs": [
      {
       "output_type": "pyout",
       "prompt_number": 17,
       "text": [
        "<matplotlib.axes.AxesSubplot at 0x107198e50>"
       ]
      },
      {
       "output_type": "display_data",
       "png": "[encoded data removed]"
      }
     ],
     "prompt_number": 17
    },
    {
     "cell_type": "code",
     "collapsed": false,
     "input": [
      "!coveragebed -abam /Volumes/web/cnidarian/BiGill_RNAseqGalaxy_Tophat.bam -b /Volumes/web/trilobite/Crassostrea_gigas_v9_tracks/Cgigas_v9_exon.gff > /Volumes/web/cnidarian/BiGill_ThBAM_cov_exon_2.txt"
     ],
     "language": "python",
     "metadata": {},
     "outputs": [],
     "prompt_number": 10
    },
    {
     "cell_type": "code",
     "collapsed": false,
     "input": [
      "!head /Volumes/web/cnidarian/BiGill_ThBAM_cov_exon_2.txt"
     ],
     "language": "python",
     "metadata": {},
     "outputs": [
      {
       "output_type": "stream",
       "stream": "stdout",
       "text": [
        "C16582\tGLEAN\tCDS\t35\t385\t.\t-\t0\tParent=CGI_10000001;\t410\t302\t351\t0.8603989\r\n",
        "C17212\tGLEAN\tCDS\t31\t363\t.\t+\t0\tParent=CGI_10000002;\t16\t314\t333\t0.9429429\r\n",
        "C17316\tGLEAN\tCDS\t30\t257\t.\t+\t0\tParent=CGI_10000003;\t15\t218\t228\t0.9561403\r\n",
        "C17476\tGLEAN\tCDS\t104\t257\t.\t-\t0\tParent=CGI_10000004;\t2\t73\t154\t0.4740260\r\n",
        "C17476\tGLEAN\tCDS\t34\t74\t.\t-\t2\tParent=CGI_10000004;\t0\t0\t41\t0.0000000\r\n",
        "C17998\tGLEAN\tCDS\t196\t387\t.\t-\t0\tParent=CGI_10000005;\t0\t0\t192\t0.0000000\r\n",
        "C18346\tGLEAN\tCDS\t174\t551\t.\t+\t0\tParent=CGI_10000009;\t3577\t378\t378\t1.0000000\r\n",
        "C18428\tGLEAN\tCDS\t286\t546\t.\t-\t0\tParent=CGI_10000010;\t3474\t261\t261\t1.0000000\r\n",
        "C18964\tGLEAN\tCDS\t203\t658\t.\t-\t0\tParent=CGI_10000011;\t22\t274\t456\t0.6008772\r\n",
        "C18980\tGLEAN\tCDS\t30\t674\t.\t+\t0\tParent=CGI_10000012;\t15\t446\t645\t0.6914729\r\n"
       ]
      }
     ],
     "prompt_number": 11
    },
    {
     "cell_type": "raw",
     "metadata": {},
     "source": [
      "DEFAULT: After each interval in B, coverageBed will report:\n",
      "\n",
      "The number of features in A that overlapped (by at least one base pair) the B interval.\n",
      "The number of bases in B that had non-zero coverage from features in A.\n",
      "The length of the entry in B.\n",
      "The fraction of bases in B that had non-zero coverage from features in A.\n",
      "Below are the number of features in A (N=...) overlapping B and fraction of bases in B with coverage.\n",
      "\n",
      "Chromosome  ~~~~~~~~~~~~~~~~~~~~~~~~~~~~~~~~~~~~~~~~~~~~~~~~~~~~~~~~~~~~~~~~\n",
      "\n",
      "BED FILE B  ***************     ***************     ******    **************\n",
      "\n",
      "BED File A  ^^^^ ^^^^              ^^             ^^^^^^^^^    ^^^ ^^ ^^^^\n",
      "              ^^^^^^^^                                      ^^^^^ ^^^^^ ^^\n",
      "\n",
      "Result      [  N=3, 10/15 ]     [  N=1, 2/15 ]     [N=1,6/6]   [N=6, 12/14 ]\n"
     ]
    },
    {
     "cell_type": "code",
     "collapsed": false,
     "input": [
      "#into SQLShare"
     ],
     "language": "python",
     "metadata": {},
     "outputs": [],
     "prompt_number": 12
    },
    {
     "cell_type": "markdown",
     "metadata": {},
     "source": [
      "```\n",
      "SELECT Column1 as seqid,\n",
      " Column4 as start,\n",
      " Column5 as [end],\n",
      " 'BiGillExonExp' as Feature,\n",
      "  ((cast([Column10]as float)/(cast([Column12]as float)))) as feat_bp\n",
      "  FROM [sr320@washington.edu].[BiGill_ThBAM_cov_exon_2.txt]\u200b\n",
      "```"
     ]
    },
    {
     "cell_type": "code",
     "collapsed": false,
     "input": [
      "!head /Volumes/web/cnidarian/BiGill_ThBam_exon_feature.csv"
     ],
     "language": "python",
     "metadata": {},
     "outputs": [
      {
       "output_type": "stream",
       "stream": "stdout",
       "text": [
        "seqid,start,end,Feature,feat_bp\r",
        "\r\n",
        "C16582,35,385,BiGillExonExp,1.16809116809117\r",
        "\r\n",
        "C17212,31,363,BiGillExonExp,0.048048048048048\r",
        "\r\n",
        "C17316,30,257,BiGillExonExp,0.0657894736842105\r",
        "\r\n",
        "C17476,104,257,BiGillExonExp,0.012987012987013\r",
        "\r\n",
        "C17476,34,74,BiGillExonExp,0\r",
        "\r\n",
        "C17998,196,387,BiGillExonExp,0\r",
        "\r\n",
        "C18346,174,551,BiGillExonExp,9.46296296296296\r",
        "\r\n",
        "C18428,286,546,BiGillExonExp,13.3103448275862\r",
        "\r\n",
        "C18964,203,658,BiGillExonExp,0.0482456140350877\r",
        "\r\n"
       ]
      }
     ],
     "prompt_number": 25
    },
    {
     "cell_type": "code",
     "collapsed": false,
     "input": [
      "!tr ',' \"\\t\" </Volumes/web/cnidarian/BiGill_ThBam_exon_feature.csv> /Volumes/web/cnidarian/BiGill_ThBam_exon_feature.igv"
     ],
     "language": "python",
     "metadata": {},
     "outputs": [],
     "prompt_number": 26
    },
    {
     "cell_type": "code",
     "collapsed": false,
     "input": [
      "!head /Volumes/web/cnidarian/BiGill_ThBam_exon_feature.igv"
     ],
     "language": "python",
     "metadata": {},
     "outputs": [
      {
       "output_type": "stream",
       "stream": "stdout",
       "text": [
        "seqid\tstart\tend\tFeature\tfeat_bp\r",
        "\r\n",
        "C16582\t35\t385\tBiGillExonExp\t1.16809116809117\r",
        "\r\n",
        "C17212\t31\t363\tBiGillExonExp\t0.048048048048048\r",
        "\r\n",
        "C17316\t30\t257\tBiGillExonExp\t0.0657894736842105\r",
        "\r\n",
        "C17476\t104\t257\tBiGillExonExp\t0.012987012987013\r",
        "\r\n",
        "C17476\t34\t74\tBiGillExonExp\t0\r",
        "\r\n",
        "C17998\t196\t387\tBiGillExonExp\t0\r",
        "\r\n",
        "C18346\t174\t551\tBiGillExonExp\t9.46296296296296\r",
        "\r\n",
        "C18428\t286\t546\tBiGillExonExp\t13.3103448275862\r",
        "\r\n",
        "C18964\t203\t658\tBiGillExonExp\t0.0482456140350877\r",
        "\r\n"
       ]
      }
     ],
     "prompt_number": 27
    },
    {
     "cell_type": "code",
     "collapsed": false,
     "input": [
      "!head /Volumes/web/cnidarian/BiGill_ThBam_exon_feature.sorted.igv"
     ],
     "language": "python",
     "metadata": {},
     "outputs": [
      {
       "output_type": "stream",
       "stream": "stdout",
       "text": [
        "seqid\tstart\tend\tFeature\tfeat_bp\r\n",
        "C16582\t35\t385\tBiGillExonExp\t1.16809116809117\r\n",
        "C17212\t31\t363\tBiGillExonExp\t0.048048048048048\r\n",
        "C17316\t30\t257\tBiGillExonExp\t0.0657894736842105\r\n",
        "C17476\t34\t74\tBiGillExonExp\t0\r\n",
        "C17476\t104\t257\tBiGillExonExp\t0.012987012987013\r\n",
        "C17998\t196\t387\tBiGillExonExp\t0\r\n",
        "C18346\t174\t551\tBiGillExonExp\t9.46296296296296\r\n",
        "C18428\t286\t546\tBiGillExonExp\t13.3103448275862\r\n",
        "C18964\t203\t658\tBiGillExonExp\t0.0482456140350877\r\n"
       ]
      }
     ],
     "prompt_number": 32
    },
    {
     "cell_type": "markdown",
     "metadata": {},
     "source": [
      "```\n",
      "SELECT \n",
      "  Gene,\n",
      "  count(feat_bp) as count,\n",
      "  stdev(feat_bp) as sd,\n",
      "  sum(feat_bp) as sum,\n",
      "  (stdev(feat_bp))/(sum(feat_bp)) as cv  \n",
      "  FROM [sr320@washington.edu].[BiGill_RNAseq_exon]\n",
      "  Group by Gene\n",
      "  Having sum(feat_bp) > 0\n",
      "```"
     ]
    },
    {
     "cell_type": "code",
     "collapsed": false,
     "input": [
      "!head /Volumes/web/cnidarian/BiGill_exonexp_gene.csv"
     ],
     "language": "python",
     "metadata": {},
     "outputs": [
      {
       "output_type": "stream",
       "stream": "stdout",
       "text": [
        "Gene,count,sd,sum,cv\r",
        "\r\n",
        "Parent=CGI_10028436;,8,0.0154124519245155,0.485755413498187,0.031728832034052\r",
        "\r\n",
        "Parent=CGI_10024278;,7,0.00429195136554519,0.0169956140350877,0.252532880346917\r",
        "\r\n",
        "Parent=CGI_10019070;,8,0.103813488307781,1.67397722515665,0.0620160697216576\r",
        "\r\n",
        "Parent=CGI_10021016;,4,0.032419484481148,0.42331787781172,0.0765842554269992\r",
        "\r\n",
        "Parent=CGI_10007821;,6,0.0676276042041267,1.11924329996958,0.0604226124971795\r",
        "\r\n",
        "Parent=CGI_10014879;,12,0.174623636138173,11.5634662794622,0.0151013227277984\r",
        "\r\n",
        "Parent=CGI_10024860;,4,0.0952480651199777,0.57039170639803,0.166987114384009\r",
        "\r\n",
        "Parent=CGI_10022407;,1,,0.0609318996415771,\r",
        "\r\n",
        "Parent=CGI_10017802;,1,,0.00432900432900433,\r",
        "\r\n"
       ]
      }
     ],
     "prompt_number": 35
    },
    {
     "cell_type": "code",
     "collapsed": false,
     "input": [
      "!tr ',' \"\\t\" </Volumes/web/cnidarian/BiGill_exonexp_gene.csv> /Volumes/web/cnidarian/BiGill_exonexp_gene.txt"
     ],
     "language": "python",
     "metadata": {},
     "outputs": [],
     "prompt_number": 36
    },
    {
     "cell_type": "code",
     "collapsed": false,
     "input": [
      "!head /Volumes/web/cnidarian/BiGill_exonexp_gene.txt"
     ],
     "language": "python",
     "metadata": {},
     "outputs": [
      {
       "output_type": "stream",
       "stream": "stdout",
       "text": [
        "Gene\tcount\tsd\tsum\tcv\r",
        "\r\n",
        "Parent=CGI_10028436;\t8\t0.0154124519245155\t0.485755413498187\t0.031728832034052\r",
        "\r\n",
        "Parent=CGI_10024278;\t7\t0.00429195136554519\t0.0169956140350877\t0.252532880346917\r",
        "\r\n",
        "Parent=CGI_10019070;\t8\t0.103813488307781\t1.67397722515665\t0.0620160697216576\r",
        "\r\n",
        "Parent=CGI_10021016;\t4\t0.032419484481148\t0.42331787781172\t0.0765842554269992\r",
        "\r\n",
        "Parent=CGI_10007821;\t6\t0.0676276042041267\t1.11924329996958\t0.0604226124971795\r",
        "\r\n",
        "Parent=CGI_10014879;\t12\t0.174623636138173\t11.5634662794622\t0.0151013227277984\r",
        "\r\n",
        "Parent=CGI_10024860;\t4\t0.0952480651199777\t0.57039170639803\t0.166987114384009\r",
        "\r\n",
        "Parent=CGI_10022407;\t1\t\t0.0609318996415771\t\r",
        "\r\n",
        "Parent=CGI_10017802;\t1\t\t0.00432900432900433\t\r",
        "\r\n"
       ]
      }
     ],
     "prompt_number": 7
    },
    {
     "cell_type": "code",
     "collapsed": false,
     "input": [],
     "language": "python",
     "metadata": {},
     "outputs": [
      {
       "output_type": "stream",
       "stream": "stdout",
       "text": [
        "sort: invalid number at field start: invalid count at start of `POS5'\r\n"
       ]
      }
     ],
     "prompt_number": 11
    },
    {
     "cell_type": "code",
     "collapsed": false,
     "input": [],
     "language": "python",
     "metadata": {},
     "outputs": []
    },
    {
     "cell_type": "code",
     "collapsed": false,
     "input": [
      "#need to make igv file\n",
      "#clean up Gene name and join\n",
      "#find tails of genes with uniform versus variable expression @fu"
     ],
     "language": "python",
     "metadata": {},
     "outputs": [],
     "prompt_number": 45
    },
    {
     "cell_type": "heading",
     "level": 2,
     "metadata": {},
     "source": [
      "Make Basic BiGill methylated CG (>50%) feature track "
     ]
    },
    {
     "cell_type": "code",
     "collapsed": false,
     "input": [
      "!head /Volumes/web/cnidarian/BiGill_mCG_feature.csv"
     ],
     "language": "python",
     "metadata": {},
     "outputs": [
      {
       "output_type": "stream",
       "stream": "stdout",
       "text": [
        "Column1,Column4,Column4,feature,Column6\r",
        "\r\n",
        "C1009,89,89,BiGill_cgM,0.833\r",
        "\r\n",
        "C10093,107,107,BiGill_cgM,0.875\r",
        "\r\n",
        "C10107,93,93,BiGill_cgM,0.667\r",
        "\r\n",
        "C10137,13,13,BiGill_cgM,0.91\r",
        "\r\n",
        "C10137,18,18,BiGill_cgM,0.947\r",
        "\r\n",
        "C10137,30,30,BiGill_cgM,0.906\r",
        "\r\n",
        "C10137,39,39,BiGill_cgM,0.885\r",
        "\r\n",
        "C10333,85,85,BiGill_cgM,0.7\r",
        "\r\n",
        "C10333,92,92,BiGill_cgM,0.857\r",
        "\r\n"
       ]
      }
     ],
     "prompt_number": 40
    },
    {
     "cell_type": "code",
     "collapsed": false,
     "input": [
      "!tr ',' \"\\t\" </Volumes/web/cnidarian/BiGill_mCG_feature.csv> /Volumes/web/cnidarian/BiGill_mCG_feature.igv"
     ],
     "language": "python",
     "metadata": {},
     "outputs": [],
     "prompt_number": 41
    },
    {
     "cell_type": "code",
     "collapsed": false,
     "input": [
      "!samtools sort -h\n"
     ],
     "language": "python",
     "metadata": {},
     "outputs": [
      {
       "output_type": "stream",
       "stream": "stdout",
       "text": [
        "sort: illegal option -- h\r\n",
        "Usage: samtools sort [-on] [-m <maxMem>] <in.bam> <out.prefix>\r\n"
       ]
      }
     ],
     "prompt_number": 44
    },
    {
     "cell_type": "markdown",
     "metadata": {},
     "source": [
      "<img src=\"http://eagle.fish.washington.edu/cnidarian/skitch/IGV_-_Session__http__eagle.fish.washington.edu_cnidarian_igv_session_073013.xml_17AFF782.png\" alt=\"IGV_-_Session__http__eagle.fish.washington.edu_cnidarian_igv_session_073013.xml_17AFF782.png\"/>\n",
      "\n",
      "link   \n",
      "`http://eagle.fish.washington.edu/cnidarian/igv_session_080513.xml`"
     ]
    },
    {
     "cell_type": "heading",
     "level": 2,
     "metadata": {},
     "source": [
      "CLC Exon Specific Expression "
     ]
    },
    {
     "cell_type": "markdown",
     "metadata": {},
     "source": [
      "<img src=\"http://eagle.fish.washington.edu/cnidarian/skitch/Illumina_17CE4FBE.png\" alt=\"Illumina_17CE4FBE.png\"/>"
     ]
    },
    {
     "cell_type": "markdown",
     "metadata": {},
     "source": [
      "<img src=\"http://eagle.fish.washington.edu/cnidarian/skitch/RNA-Seq_Analysis_17CE61C7.png\" alt=\"RNA-Seq_Analysis_17CE61C7.png\"/>"
     ]
    },
    {
     "cell_type": "code",
     "collapsed": false,
     "input": [
      "#complete, though oddly not many reads map.....\n"
     ],
     "language": "python",
     "metadata": {},
     "outputs": [],
     "prompt_number": 1
    },
    {
     "cell_type": "markdown",
     "metadata": {},
     "source": [
      "<img src=\"http://eagle.fish.washington.edu/cnidarian/skitch/CLC_Genomics_Workbench_6.5_17CFABB2.png\" alt=\"CLC_Genomics_Workbench_6.5_17CFABB2.png\"/>"
     ]
    },
    {
     "cell_type": "heading",
     "level": 1,
     "metadata": {},
     "source": [
      "CLC Gene Expression"
     ]
    },
    {
     "cell_type": "markdown",
     "metadata": {},
     "source": [
      "<img src=\"http://eagle.fish.washington.edu/cnidarian/skitch/CLC_Genomics_Workbench_6.5_18060151.png\" alt=\"CLC_Genomics_Workbench_6.5_18060151.png\" width = 80%/>"
     ]
    },
    {
     "cell_type": "markdown",
     "metadata": {},
     "source": [
      "<img src=\"http://eagle.fish.washington.edu/cnidarian/skitch/CLC_Genomics_Workbench_6.5_180602CC.png\" alt=\"CLC_Genomics_Workbench_6.5_180602CC.png\"/>"
     ]
    },
    {
     "cell_type": "markdown",
     "metadata": {},
     "source": [
      "<hr>  \n",
      "<img src=\"http://eagle.fish.washington.edu/cnidarian/skitch/CLC_Genomics_Workbench_6.5_1806021D.png\" alt=\"CLC_Genomics_Workbench_6.5_1806021D.png\"/>"
     ]
    },
    {
     "cell_type": "markdown",
     "metadata": {},
     "source": [
      "Full Report:   \n",
      "<http://eagle.fish.washington.edu/cnidarian/BiGill_RNAseq_report>"
     ]
    },
    {
     "cell_type": "heading",
     "level": 5,
     "metadata": {},
     "source": [
      "RPKM per Gene"
     ]
    },
    {
     "cell_type": "code",
     "collapsed": false,
     "input": [
      "#snapshot"
     ],
     "language": "python",
     "metadata": {},
     "outputs": [],
     "prompt_number": 3
    },
    {
     "cell_type": "markdown",
     "metadata": {},
     "source": [
      "<img src=\"http://eagle.fish.washington.edu/cnidarian/skitch/CLC_Genomics_Workbench_6.5_1806036F.png\" alt=\"CLC_Genomics_Workbench_6.5_1806036F.png\"/>"
     ]
    },
    {
     "cell_type": "markdown",
     "metadata": {},
     "source": [
      "full table   \n",
      "<http://eagle.fish.washington.edu/cnidarian/BiGill_RNAseq_gene.1>"
     ]
    },
    {
     "cell_type": "code",
     "collapsed": false,
     "input": [
      "from pandas import *\n",
      "\n",
      "# read data from data file into a pandas DataFrame  \n",
      "BiGillrna = read_table(\"http://eagle.fish.washington.edu/cnidarian/BiGill_RNAseq_gene.1\" # name of the data file\n",
      "           #sep=\",\", # what character separates each column?\n",
      "           #na_values=[\"\", \" \"]) # what values should be considered \"blank\" values?\n",
      "           )"
     ],
     "language": "python",
     "metadata": {},
     "outputs": [],
     "prompt_number": 9
    },
    {
     "cell_type": "code",
     "collapsed": false,
     "input": [
      "BiGillrna"
     ],
     "language": "python",
     "metadata": {},
     "outputs": [
      {
       "metadata": {},
       "output_type": "pyout",
       "prompt_number": 21,
       "text": [
        "<class 'pandas.core.frame.DataFrame'>\n",
        "Int64Index: 28027 entries, 0 to 28026\n",
        "Data columns:\n",
        "Feature ID                               28027  non-null values\n",
        "Expression values                        28027  non-null values\n",
        "Transcripts annotated                    28027  non-null values\n",
        "Detected transcripts                     28027  non-null values\n",
        "Exon length                              28027  non-null values\n",
        "Unique gene reads                        28027  non-null values\n",
        "Total gene reads                         28027  non-null values\n",
        "Unique exon reads                        28027  non-null values\n",
        "Total exon reads                         28027  non-null values\n",
        "Ratio of unique to total (exon reads)    28027  non-null values\n",
        "Unique exon-exon reads                   28027  non-null values\n",
        "Total exon-exon reads                    28027  non-null values\n",
        "Unique intron-exon reads                 28027  non-null values\n",
        "Total intron-exon reads                  28027  non-null values\n",
        "Exons                                    28027  non-null values\n",
        "RPKM                                     28027  non-null values\n",
        "Median coverage                          28027  non-null values\n",
        "Chromosome                               28027  non-null values\n",
        "Chromosome region start                  28027  non-null values\n",
        "Chromosome region end                    28027  non-null values\n",
        "dtypes: float64(3), int64(14), object(3)"
       ]
      }
     ],
     "prompt_number": 21
    },
    {
     "cell_type": "code",
     "collapsed": false,
     "input": [
      "BiGillrna['Total gene reads'].hist(bins=1000);\n",
      "#Axis limits are changed using the axis([xmin, xmax, ymin, ymax]) function.\n",
      "#plt.axis([0, 0, 0, 20000])\n",
      "#plt.xlabel('x', fontsize=20)\n",
      "#plt.ylabel('RPKM', fontsize= 20)\n",
      "#plt.title('Gill', fontsize= 20)"
     ],
     "language": "python",
     "metadata": {},
     "outputs": [
      {
       "metadata": {},
       "output_type": "pyout",
       "prompt_number": 20,
       "text": [
        "<matplotlib.axes.AxesSubplot at 0x10c2af390>"
       ]
      },
      {
       "metadata": {},
       "output_type": "display_data",
       "png": "[encoded data removed]",
       "text": [
        "<matplotlib.figure.Figure at 0x108a23bd0>"
       ]
      }
     ],
     "prompt_number": 20
    },
    {
     "cell_type": "code",
     "collapsed": false,
     "input": [
      "\"\"\"\n",
      "Simple demo of a scatter plot.\n",
      "\"\"\"\n",
      "import numpy as np\n",
      "import matplotlib.pyplot as plt\n",
      "\n",
      "\n",
      "N = 50\n",
      "x = BiGillrna['Total gene reads']\n",
      "y = np.random.rand(N)\n",
      "area = np.pi * (15 * np.random.rand(N))**2 # 0 to 15 point radiuses\n",
      "\n",
      "plt.scatter(x, y, s=area, alpha=0.5)\n",
      "plt.show()"
     ],
     "language": "python",
     "metadata": {},
     "outputs": [
      {
       "ename": "ValueError",
       "evalue": "x and y must be the same size",
       "output_type": "pyerr",
       "traceback": [
        "\u001b[0;31m---------------------------------------------------------------------------\u001b[0m\n\u001b[0;31mValueError\u001b[0m                                Traceback (most recent call last)",
        "\u001b[0;32m<ipython-input-30-d3694b00e2ae>\u001b[0m in \u001b[0;36m<module>\u001b[0;34m()\u001b[0m\n\u001b[1;32m     11\u001b[0m \u001b[0marea\u001b[0m \u001b[0;34m=\u001b[0m \u001b[0mnp\u001b[0m\u001b[0;34m.\u001b[0m\u001b[0mpi\u001b[0m \u001b[0;34m*\u001b[0m \u001b[0;34m(\u001b[0m\u001b[0;36m15\u001b[0m \u001b[0;34m*\u001b[0m \u001b[0mnp\u001b[0m\u001b[0;34m.\u001b[0m\u001b[0mrandom\u001b[0m\u001b[0;34m.\u001b[0m\u001b[0mrand\u001b[0m\u001b[0;34m(\u001b[0m\u001b[0mN\u001b[0m\u001b[0;34m)\u001b[0m\u001b[0;34m)\u001b[0m\u001b[0;34m**\u001b[0m\u001b[0;36m2\u001b[0m \u001b[0;31m# 0 to 15 point radiuses\u001b[0m\u001b[0;34m\u001b[0m\u001b[0m\n\u001b[1;32m     12\u001b[0m \u001b[0;34m\u001b[0m\u001b[0m\n\u001b[0;32m---> 13\u001b[0;31m \u001b[0mplt\u001b[0m\u001b[0;34m.\u001b[0m\u001b[0mscatter\u001b[0m\u001b[0;34m(\u001b[0m\u001b[0mx\u001b[0m\u001b[0;34m,\u001b[0m \u001b[0my\u001b[0m\u001b[0;34m,\u001b[0m \u001b[0ms\u001b[0m\u001b[0;34m=\u001b[0m\u001b[0marea\u001b[0m\u001b[0;34m,\u001b[0m \u001b[0malpha\u001b[0m\u001b[0;34m=\u001b[0m\u001b[0;36m0.5\u001b[0m\u001b[0;34m)\u001b[0m\u001b[0;34m\u001b[0m\u001b[0m\n\u001b[0m\u001b[1;32m     14\u001b[0m \u001b[0mplt\u001b[0m\u001b[0;34m.\u001b[0m\u001b[0mshow\u001b[0m\u001b[0;34m(\u001b[0m\u001b[0;34m)\u001b[0m\u001b[0;34m\u001b[0m\u001b[0m\n",
        "\u001b[0;32m/Users/sr320/anaconda/lib/python2.7/site-packages/matplotlib/pyplot.pyc\u001b[0m in \u001b[0;36mscatter\u001b[0;34m(x, y, s, c, marker, cmap, norm, vmin, vmax, alpha, linewidths, faceted, verts, hold, **kwargs)\u001b[0m\n\u001b[1;32m   2916\u001b[0m                          \u001b[0mvmin\u001b[0m\u001b[0;34m=\u001b[0m\u001b[0mvmin\u001b[0m\u001b[0;34m,\u001b[0m \u001b[0mvmax\u001b[0m\u001b[0;34m=\u001b[0m\u001b[0mvmax\u001b[0m\u001b[0;34m,\u001b[0m \u001b[0malpha\u001b[0m\u001b[0;34m=\u001b[0m\u001b[0malpha\u001b[0m\u001b[0;34m,\u001b[0m\u001b[0;34m\u001b[0m\u001b[0m\n\u001b[1;32m   2917\u001b[0m                          \u001b[0mlinewidths\u001b[0m\u001b[0;34m=\u001b[0m\u001b[0mlinewidths\u001b[0m\u001b[0;34m,\u001b[0m \u001b[0mfaceted\u001b[0m\u001b[0;34m=\u001b[0m\u001b[0mfaceted\u001b[0m\u001b[0;34m,\u001b[0m \u001b[0mverts\u001b[0m\u001b[0;34m=\u001b[0m\u001b[0mverts\u001b[0m\u001b[0;34m,\u001b[0m\u001b[0;34m\u001b[0m\u001b[0m\n\u001b[0;32m-> 2918\u001b[0;31m                          **kwargs)\n\u001b[0m\u001b[1;32m   2919\u001b[0m         \u001b[0mdraw_if_interactive\u001b[0m\u001b[0;34m(\u001b[0m\u001b[0;34m)\u001b[0m\u001b[0;34m\u001b[0m\u001b[0m\n\u001b[1;32m   2920\u001b[0m     \u001b[0;32mfinally\u001b[0m\u001b[0;34m:\u001b[0m\u001b[0;34m\u001b[0m\u001b[0m\n",
        "\u001b[0;32m/Users/sr320/anaconda/lib/python2.7/site-packages/matplotlib/axes.pyc\u001b[0m in \u001b[0;36mscatter\u001b[0;34m(self, x, y, s, c, marker, cmap, norm, vmin, vmax, alpha, linewidths, faceted, verts, **kwargs)\u001b[0m\n\u001b[1;32m   6057\u001b[0m         \u001b[0my\u001b[0m \u001b[0;34m=\u001b[0m \u001b[0mnp\u001b[0m\u001b[0;34m.\u001b[0m\u001b[0mma\u001b[0m\u001b[0;34m.\u001b[0m\u001b[0mravel\u001b[0m\u001b[0;34m(\u001b[0m\u001b[0my\u001b[0m\u001b[0;34m)\u001b[0m\u001b[0;34m\u001b[0m\u001b[0m\n\u001b[1;32m   6058\u001b[0m         \u001b[0;32mif\u001b[0m \u001b[0mx\u001b[0m\u001b[0;34m.\u001b[0m\u001b[0msize\u001b[0m \u001b[0;34m!=\u001b[0m \u001b[0my\u001b[0m\u001b[0;34m.\u001b[0m\u001b[0msize\u001b[0m\u001b[0;34m:\u001b[0m\u001b[0;34m\u001b[0m\u001b[0m\n\u001b[0;32m-> 6059\u001b[0;31m             \u001b[0;32mraise\u001b[0m \u001b[0mValueError\u001b[0m\u001b[0;34m(\u001b[0m\u001b[0;34m\"x and y must be the same size\"\u001b[0m\u001b[0;34m)\u001b[0m\u001b[0;34m\u001b[0m\u001b[0m\n\u001b[0m\u001b[1;32m   6060\u001b[0m \u001b[0;34m\u001b[0m\u001b[0m\n\u001b[1;32m   6061\u001b[0m         \u001b[0ms\u001b[0m \u001b[0;34m=\u001b[0m \u001b[0mnp\u001b[0m\u001b[0;34m.\u001b[0m\u001b[0mma\u001b[0m\u001b[0;34m.\u001b[0m\u001b[0mravel\u001b[0m\u001b[0;34m(\u001b[0m\u001b[0ms\u001b[0m\u001b[0;34m)\u001b[0m  \u001b[0;31m# This doesn't have to match x, y in size.\u001b[0m\u001b[0;34m\u001b[0m\u001b[0m\n",
        "\u001b[0;31mValueError\u001b[0m: x and y must be the same size"
       ]
      },
      {
       "metadata": {},
       "output_type": "display_data",
       "png": "[encoded data removed]",
       "text": [
        "<matplotlib.figure.Figure at 0x10a7c4710>"
       ]
      }
     ],
     "prompt_number": 30
    },
    {
     "cell_type": "code",
     "collapsed": false,
     "input": [],
     "language": "python",
     "metadata": {},
     "outputs": [
      {
       "ename": "SyntaxError",
       "evalue": "invalid syntax (<ipython-input-29-b7e33849ddba>, line 1)",
       "output_type": "pyerr",
       "traceback": [
        "\u001b[0;36m  File \u001b[0;32m\"<ipython-input-29-b7e33849ddba>\"\u001b[0;36m, line \u001b[0;32m1\u001b[0m\n\u001b[0;31m    plot BiGillrna[Total gene reads]\u001b[0m\n\u001b[0m                 ^\u001b[0m\n\u001b[0;31mSyntaxError\u001b[0m\u001b[0;31m:\u001b[0m invalid syntax\n"
       ]
      }
     ],
     "prompt_number": 29
    },
    {
     "cell_type": "heading",
     "level": 2,
     "metadata": {},
     "source": [
      "Identifying examples of MERV"
     ]
    },
    {
     "cell_type": "markdown",
     "metadata": {},
     "source": [
      "Step 1) Based on exon specific expression data (RPKM) from CLC, identified all genes where number of exons was greater than 4 and exon expression was > 0 for all exons. This resulted in 38 genes."
     ]
    },
    {
     "cell_type": "markdown",
     "metadata": {},
     "source": [
      "Step 2) Calculated Expression Coefficient of Variance (stdev/mean RPKM) and average RPKM for all genes."
     ]
    },
    {
     "cell_type": "markdown",
     "metadata": {},
     "source": [
      "Step 3) For comparison, simply took the two genes with highest avg expression that also had a contrasting CV (1.6 v 0.5) AND similar avg expression levels (199 v 197) AND same number of exons (5). "
     ]
    },
    {
     "cell_type": "markdown",
     "metadata": {},
     "source": [
      "<img src=\"http://eagle.fish.washington.edu/cnidarian/skitch/Untitled_180A143B.png\" alt=\"Untitled_180A143B.png\"/>"
     ]
    },
    {
     "cell_type": "markdown",
     "metadata": {},
     "source": [
      "IGV session: <http://eagle.fish.washington.edu/cnidarian/igv_session_101213.xml>"
     ]
    },
    {
     "cell_type": "heading",
     "level": 2,
     "metadata": {},
     "source": [
      "Changing Insert Size"
     ]
    },
    {
     "cell_type": "markdown",
     "metadata": {},
     "source": [
      "<img src=\"http://eagle.fish.washington.edu/cnidarian/skitch/Screenshot_10_24_13_1_28_PM_1819BAC5.png\" alt=\"Screenshot_10_24_13_1_28_PM_1819BAC5.png\"/>"
     ]
    },
    {
     "cell_type": "markdown",
     "metadata": {},
     "source": [
      "Upon changing insert size and inadvertably a couple more parameters, output changed"
     ]
    },
    {
     "cell_type": "markdown",
     "metadata": {},
     "source": [
      "New (larger insert +) \n",
      "\n",
      "<img src=\"http://eagle.fish.washington.edu/cnidarian/skitch/CLC_Genomics_Workbench_6.5_1819BBF6.png\" alt=\"CLC_Genomics_Workbench_6.5_1819BBF6.png\"/>"
     ]
    },
    {
     "cell_type": "markdown",
     "metadata": {},
     "source": [
      "Original   \n",
      "\n",
      "<img src=\"http://eagle.fish.washington.edu/cnidarian/skitch/CLC_Genomics_Workbench_6.5_1819BB68.png\" alt=\"CLC_Genomics_Workbench_6.5_1819BB68.png\"/>"
     ]
    },
    {
     "cell_type": "markdown",
     "metadata": {},
     "source": [
      "<img src=\"http://eagle.fish.washington.edu/cnidarian/skitch/RNA-Seq_Analysis_1819BEA7.png\" alt=\"RNA-Seq_Analysis_1819BEA7.png\"/>"
     ]
    },
    {
     "cell_type": "code",
     "collapsed": false,
     "input": [],
     "language": "python",
     "metadata": {},
     "outputs": []
    }
   ],
   "metadata": {}
  }
 ]
}