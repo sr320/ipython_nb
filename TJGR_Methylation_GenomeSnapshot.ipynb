{
 "metadata": {
  "name": "",
  "signature": "sha256:cb36ad5a9d3fca4838ebf3adc25cbc8a90cca7e719dc7da7c3b037a624282c57"
 },
 "nbformat": 3,
 "nbformat_minor": 0,
 "worksheets": [
  {
   "cells": [
    {
     "cell_type": "heading",
     "level": 1,
     "metadata": {},
     "source": [
      "Developing 'Whole Genome' visual of DNA Methylation Pattern in Oysters"
     ]
    },
    {
     "cell_type": "markdown",
     "metadata": {},
     "source": [
      "Concept 1: Generate view IGV tracks using only scaffolds > 1M bp   \n",
      "This represents 60 sequences"
     ]
    },
    {
     "cell_type": "code",
     "collapsed": false,
     "input": [
      "#Files Located on Figshare for gill \n",
      "from IPython.display import HTML\n",
      "HTML('<iframe src=http://figshare.com/articles/Crassostrea_gigas_high_throughput_bisulfite_sequencing_gill_tissue_/749728 width=700 height=350></iframe>')"
     ],
     "language": "python",
     "metadata": {},
     "outputs": [
      {
       "html": [
        "<iframe src=http://figshare.com/articles/Crassostrea_gigas_high_throughput_bisulfite_sequencing_gill_tissue_/749728 width=700 height=350></iframe>"
       ],
       "metadata": {},
       "output_type": "pyout",
       "prompt_number": 1,
       "text": [
        "<IPython.core.display.HTML at 0x10587c890>"
       ]
      }
     ],
     "prompt_number": 1
    },
    {
     "cell_type": "code",
     "collapsed": false,
     "input": [],
     "language": "python",
     "metadata": {},
     "outputs": []
    }
   ],
   "metadata": {}
  }
 ]
}