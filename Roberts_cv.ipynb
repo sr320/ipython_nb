{
 "metadata": {
  "name": "",
  "signature": "sha256:f8a14043e712b6ff77c0cafa3a3b5b3284acfb039f64185062540f87dac95cfb"
 },
 "nbformat": 3,
 "nbformat_minor": 0,
 "worksheets": [
  {
   "cells": [
    {
     "cell_type": "markdown",
     "metadata": {},
     "source": [
      "###**STEVEN BEYER ROBERTS** \n",
      " \n",
      "Associate Professor; University of Washington    \n",
      "School of Aquatic and Fishery Sciences, Box 355020, Seattle WA 98195     \n",
      "phone: 206-866-5141 - email: sr320@uw.edu - website: robertslab.info     \n",
      " \n",
      "_Professional Preparation_    \n",
      "BSc, North Carolina State University, 1997, Natural Resources    \n",
      "PhD, University of Notre Dame, 2002, Biological Sciences \n",
      " \n",
      "_Appointments_  \n",
      "2007-present Assistant Professor - University of Washington    \n",
      "2003-2006 Assistant Research Scientist - Marine Biological Laboratory, MA    \n",
      "2002-2003 Post-doctoral scholar \u2013 USDA NRI Fellowship Marine Biological Laboratory, MA \n",
      " \n",
      "_Research Interests_     \n",
      "Physiological response of aquatic species to environmental change with a particular focus on the relationship of transcriptomics, genetics, and epigenetic modifications. Current research efforts include characterizing the adaptive potential of native oysters in Puget Sound and the functional role of DNA methylation in shellfish."
     ]
    },
    {
     "cell_type": "heading",
     "level": 3,
     "metadata": {},
     "source": [
      "*_Recent Publications_*"
     ]
    },
    {
     "cell_type": "markdown",
     "metadata": {},
     "source": [
      "<p>Garcia-Vedrenne AE, Groner M, Page-Karjian A, Siegmund G-F, Singhal S, Sziklay J, Roberts SB. (<strong>2013</strong>) <a href=\"http://www.plosone.org/article/info%3Adoi%2F10.1371%2Fjournal.pone.0074196\">Development of Genomic Resources for a thraustochytrid Pathogen and Investigation of Temperature Influences on Gene Expression</a>.<span class=\"impactstory-embed\" data-id=\"10.1371/journal.pone.0074196\" data-id-type=\"doi\" data-api-key=\"ROBERTSf058cdcd\" data-show-logo=\"false\" data-badge-size=\"small\"></span> PLoS ONE 8(9): e74196. doi:10.1371/journal.pone.0074196\n",
      "\n",
      "\n",
      "<p>Storer CS, Quinn TP and Roberts SB. (<strong>2013</strong>) <a href=\"http://link.springer.com/article/10.1007/s10522-013-9448-1\">Quantitative PCR analysis used to characterize physiological changes in brain tissue of senescent sockeye salmon</a>.<span class=\"impactstory-embed\" data-id=\"10.1007/s10522-013-9448-1\" data-id-type=\"doi\" data-api-key=\"ROBERTSf058cdcd\" data-show-logo=\"false\" data-badge-size=\"small\"></span> Biogerontology. 10.1007/s10522-013-9448-1</p>\n",
      "\n",
      "<p>Burge CA, Mouchka ME, Harvell CD and Roberts SB. (<strong>2013</strong>) <a href=\"http://www.frontiersin.org/invertebrate_physiology/10.3389/fphys.2013.00180/abstract\">Immune response of the Caribbean sea fan, Gorgonia ventalina, exposed to an Aplanochytrium parasite as revealed by transcriptome sequencing.</a>.<span class=\"impactstory-embed\" data-id=\"http://www.frontiersin.org/invertebrate_physiology/10.3389/fphys.2013.00180/abstract\" data-id-type=\"url\" data-api-key=\"ROBERTSf058cdcd\" data-show-logo=\"false\" data-badge-size=\"small\"></span> Frontiers in Physiology. 4:180. 10.3389/fphys.2013.00180</p>\n",
      "\n",
      "<p>Timmins-Schiffman EB* Nunn BL, Goodlett DR and Roberts SB. (<strong>2013</strong>) <a href=\"http://conphys.oxfordjournals.org/content/1/1/cot009.full.pdf+html\">Shotgun proteomics as a viable approach for biological discovery in the Pacific oyster</a>.<span class=\"impactstory-embed\" data-id=\"http://conphys.oxfordjournals.org/content/1/1/cot009.abstract\" data-id-type=\"url\" data-api-key=\"ROBERTSf058cdcd\" data-show-logo=\"false\" data-badge-size=\"small\"></span> Conservation Physiology. doi:10.1093/conphys/cot009</p>\n",
      "\n",
      "<p>Timmins-Schiffman EB* Friedman CS, Metzger DC, White SJ and Roberts SB. (<strong>2013</strong>) <a href=\"http://onlinelibrary.wiley.com/doi/10.1111/1755-0998.12052/abstract\">Genomic resource development for shellfish of conservation concern</a>.<span class=\"impactstory-embed\" data-id=\"10.1111/1755-0998.12052\" data-id-type=\"doi\" data-api-key=\"ROBERTSf058cdcd\" data-show-logo=\"false\" data-badge-size=\"small\"></span> Molecular Ecology Resources. doi:10.1111/1755-0998.12052</p>\n",
      "\n",
      "<p>Timmins-Schiffman EB*  and Roberts SB. (<strong>2012</strong>) <a href=\"http://www.biomedcentral.com/1756-0500/5/502\">Characterization of genes involved in ceramide metabolism in the Pacific oyster (<em>Crassostrea gigas</em>)</a>.<span class=\"impactstory-embed\" data-id=\"10.1186/1756-0500-5-502\" data-id-type=\"doi\" data-api-key=\"ROBERTSf058cdcd\" data-show-logo=\"false\" data-badge-size=\"small\"></span> BMC Research Notes 5:502  doi:10.1186/1756-0500-5-502</p>\n",
      "\n",
      "<p>Storer CG*, Pascal CE, Roberts SB, Templin WD, Seeb LW, Seeb JE. (<strong>2012</strong>) <a href=\"http://www.plosone.org/article/info%3Adoi%2F10.1371%2Fjournal.pone.0049018\">Rank and Order: Evaluating the Performance of SNPs for Individual Assignment in a Non-Model Organism</a>.<span class=\"impactstory-embed\" data-id=\"10.1371/journal.pone.0049018\" data-id-type=\"doi\" data-api-key=\"ROBERTSf058cdcd\" data-show-logo=\"false\" data-badge-size=\"small\"></span> PLoS ONE 7(11): e49018 doi:10.1371/journal.pone.0049018</p>\n",
      "\n",
      "<p>Timmins-Schiffman E*,  O\u2019Donnell M, Friedman CS, and Roberts SB. (<strong>2012</strong>) <a href=\"http://www.springerlink.com/content/j051782638k7n058/\">Elevated pCO2 causes developmental delay in early larval Pacific oysters, </a><em><a href=\"http://www.springerlink.com/content/j051782638k7n058/\">Crassostrea gigas</a>.<span class=\"impactstory-embed\" data-id=\"10.1007/s00227-012-2055-x\" data-id-type=\"doi\" data-api-key=\"ROBERTSf058cdcd\" data-show-logo=\"false\" data-badge-size=\"small\"></span> </em>Marine Biology. doi:10.1007/s00227-012-2055-x <a href=\"http://eagle.fish.washington.edu/cnidarian/ETS_oyster_larve_MB.pdf\">pdf</a></p>\n",
      "\n",
      "<p>Burge CA, Douglas N, Conti-Jerpe I, Weil E, Roberts SB, Friedman CS,  CD Harvell. (<strong>2012</strong>) <a href=\"http://www.int-res.com/abstracts/dao/v101/n1/p1-12/\">Friend or foe: the association of Labyrinthulomycetes with the Caribbean sea fan, <em>Gorgonia ventalina</em></a>.<span class=\"impactstory-embed\" data-id=\"10.3354/dao02487\" data-id-type=\"doi\" data-api-key=\"ROBERTSf058cdcd\" data-show-logo=\"false\" data-badge-size=\"small\"></span> Diseases of Aquatic Organisms. 101:1-12  doi:10.3354/dao02487</p>\n",
      "\n",
      "<p>Metzger DC*, Pratt P, Roberts SB. (<strong>2012</strong>)  <a href=\"http://dx.doi.org/10.2983/035.031.0305\">Characterizing the effects of heavy metal and <em>Vibrio</em> exposure on hsp70 expression in <em>Crassostrea gigas</em> gill tissue</a>.<span class=\"impactstory-embed\" data-id=\"10.2983/035.031.0305\" data-id-type=\"doi\" data-api-key=\"ROBERTSf058cdcd\" data-show-logo=\"false\" data-badge-size=\"small\"></span> Journal of Shellfish Research. 31(3):627-630. doi:10.2983/035.031.0305 <a href=\"http://faculty.washington.edu/sr320/wordpress/wp-content/uploads/2012/03/Meztger_JSR.pdf\">download pdf</a></p>\n",
      "\n",
      "<p>Roberts SB, Hauser L, Seeb LW, Seeb JE (<strong>2012</strong>) <a href=\"http://www.plosone.org/article/info%3Adoi%2F10.1371%2Fjournal.pone.0030908\">Development of genomic resources for Pacific herring through targeted transcriptome pyrosequencing</a>.<span class=\"impactstory-embed\" data-id=\"10.1371/journal.pone.0030908\" data-id-type=\"doi\" data-api-key=\"ROBERTSf058cdcd\" data-show-logo=\"false\" data-badge-size=\"small\"></span> PLoS ONE 7(2): e30908. doi:10.1371/journal.pone.0030908</p>\n",
      "\n",
      "\n",
      "<p>Roberts SB and Gavery MR (<strong>2012</strong>) <a href=\"http://www.ncbi.nlm.nih.gov/pmc/articles/PMC3249382/?tool=pubmed\">Is there a relationship between DNA methylation and phenotypic plasticity in invertebrates</a>? <span class=\"impactstory-embed\" data-id=\"10.3389/fphys.2011.00116\" data-id-type=\"doi\" data-api-key=\"ROBERTSf058cdcd\" data-show-logo=\"false\" data-badge-size=\"small\"></span> Frontiers in Physiology. 2:116. doi:10.3389/fphys.2011.00116</p>\n",
      "\n",
      "<p>Gavery MR* and Roberts SB. (<strong>2012</strong>) <a href=\"http://www.sciencedirect.com/science/article/pii/S1744117X11001018\">Characterizing short read sequencing for gene discovery and RNA-Seq analysis in <em>Crassostrea gigas</em></a>.<span class=\"impactstory-embed\" data-id=\"10.1016/j.cbd.2011.12.003\" data-id-type=\"doi\" data-api-key=\"ROBERTSf058cdcd\" data-show-logo=\"false\" data-badge-size=\"small\"></span> Comparative Biochemistry and Physiology Part D: Genomics and Proteomics, 7:2 94-99 June 2012. doi:10.1016/j.cbd.2011.12.003 </p>\n",
      "\n"
     ]
    },
    {
     "cell_type": "code",
     "collapsed": false,
     "input": [],
     "language": "python",
     "metadata": {},
     "outputs": []
    }
   ],
   "metadata": {}
  }
 ]
}