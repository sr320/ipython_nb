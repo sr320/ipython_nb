{
 "metadata": {
  "name": ""
 },
 "nbformat": 3,
 "nbformat_minor": 0,
 "worksheets": [
  {
   "cells": [
    {
     "cell_type": "heading",
     "level": 1,
     "metadata": {},
     "source": [
      "Bisulfite Sequencing - Larvae 5 day Trial"
     ]
    },
    {
     "cell_type": "raw",
     "metadata": {},
     "source": [
      "Summary: 7 libraries were made. Egg, Sperm 1, Larvae1_day3, Larvae1_day5, Sperm 3, Larvae3_day3, Larvae3_day5. Egg sample has consistenly failed at sequencing, but have two sets of sequencing for everything else. The first step will be to compile libraries. MAYBE? check and see if data is different between technical reps."
     ]
    },
    {
     "cell_type": "heading",
     "level": 3,
     "metadata": {},
     "source": [
      "QC check on new egg library"
     ]
    },
    {
     "cell_type": "raw",
     "metadata": {},
     "source": [
      "#maybe on genefish \n",
      "! /Users/Shared/Apps/bsmap-2.73/bsmap -a /Volumes/NGS\\ Drive/NGS\\ Raw\\ Data/Cg_larvae_BSseq/filtered_BS_CgF_TTAGGC_L007_R1.fastq.gz -b /Volumes/NGS\\ Drive/NGS\\ Raw\\ Data/Cg_larvae_BSseq/filtered_BS_CgF_TTAGGC_L007_R2.fastq.gz -d /Volumes/web/cnidarian/oyster.v9.fa -o /Volumes/web/cnidarian/BiGo_lar_F.sam -p 8"
     ]
    }
   ],
   "metadata": {}
  }
 ]
}