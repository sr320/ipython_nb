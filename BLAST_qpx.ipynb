{
 "metadata": {
  "name": "BLAST (QPX)"
 },
 "nbformat": 3,
 "nbformat_minor": 0,
 "worksheets": [
  {
   "cells": [
    {
     "cell_type": "code",
     "collapsed": false,
     "input": "cd /Volumes/Bay3/Software",
     "language": "python",
     "metadata": {},
     "outputs": [
      {
       "output_type": "stream",
       "stream": "stdout",
       "text": "/Volumes/Bay3/Software\n"
      }
     ],
     "prompt_number": 1
    },
    {
     "cell_type": "code",
     "collapsed": false,
     "input": "cd ncbi-blast-2.2.27+/bin/",
     "language": "python",
     "metadata": {},
     "outputs": [
      {
       "output_type": "stream",
       "stream": "stdout",
       "text": "/Volumes/Bay3/Software/ncbi-blast-2.2.27+/bin\n"
      }
     ],
     "prompt_number": 3
    },
    {
     "cell_type": "code",
     "collapsed": false,
     "input": "ls",
     "language": "python",
     "metadata": {},
     "outputs": [
      {
       "output_type": "stream",
       "stream": "stdout",
       "text": "\u001b[31mblast_formatter\u001b[m\u001b[m*   \u001b[31mblastn\u001b[m\u001b[m*            \u001b[31mdeltablast\u001b[m\u001b[m*        \u001b[31mmakembindex\u001b[m\u001b[m*       \u001b[31mrpstblastn\u001b[m\u001b[m*        \u001b[31mupdate_blastdb.pl\u001b[m\u001b[m*\r\n\u001b[31mblastdb_aliastool\u001b[m\u001b[m* \u001b[31mblastp\u001b[m\u001b[m*            \u001b[31mdustmasker\u001b[m\u001b[m*        \u001b[31mmakeprofiledb\u001b[m\u001b[m*     \u001b[31msegmasker\u001b[m\u001b[m*         \u001b[31mwindowmasker\u001b[m\u001b[m*\r\n\u001b[31mblastdbcheck\u001b[m\u001b[m*      \u001b[31mblastx\u001b[m\u001b[m*            \u001b[31mlegacy_blast.pl\u001b[m\u001b[m*   \u001b[31mpsiblast\u001b[m\u001b[m*          \u001b[31mtblastn\u001b[m\u001b[m*\r\n\u001b[31mblastdbcmd\u001b[m\u001b[m*        \u001b[31mconvert2blastmask\u001b[m\u001b[m* \u001b[31mmakeblastdb\u001b[m\u001b[m*       \u001b[31mrpsblast\u001b[m\u001b[m*          \u001b[31mtblastx\u001b[m\u001b[m*\r\n"
      }
     ],
     "prompt_number": 4
    },
    {
     "cell_type": "code",
     "collapsed": false,
     "input": "./blastn",
     "language": "python",
     "metadata": {},
     "outputs": [
      {
       "ename": "SyntaxError",
       "evalue": "invalid syntax (<ipython-input-5-0561265429af>, line 1)",
       "output_type": "pyerr",
       "traceback": [
        "\u001b[0;36m  File \u001b[0;32m\"<ipython-input-5-0561265429af>\"\u001b[0;36m, line \u001b[0;32m1\u001b[0m\n\u001b[0;31m    ./blastn\u001b[0m\n\u001b[0m    ^\u001b[0m\n\u001b[0;31mSyntaxError\u001b[0m\u001b[0;31m:\u001b[0m invalid syntax\n"
       ]
      }
     ],
     "prompt_number": 5
    },
    {
     "cell_type": "code",
     "collapsed": false,
     "input": "run blastn",
     "language": "python",
     "metadata": {},
     "outputs": [
      {
       "ename": "SyntaxError",
       "evalue": "Non-ASCII character '\\xca' in file /Volumes/Bay3/Software/ncbi-blast-2.2.27+/bin/blastn on line 1, but no encoding declared; see http://www.python.org/peps/pep-0263.html for details (blastn, line 1)",
       "output_type": "pyerr",
       "traceback": [
        "\u001b[0;36m  File \u001b[0;32m\"/Volumes/Bay3/Software/ncbi-blast-2.2.27+/bin/blastn\"\u001b[0;36m, line \u001b[0;32m1\u001b[0m\n\u001b[0;31mSyntaxError\u001b[0m\u001b[0;31m:\u001b[0m Non-ASCII character '\\xca' in file /Volumes/Bay3/Software/ncbi-blast-2.2.27+/bin/blastn on line 1, but no encoding declared; see http://www.python.org/peps/pep-0263.html for details\n"
       ]
      }
     ],
     "prompt_number": 6
    },
    {
     "cell_type": "code",
     "collapsed": false,
     "input": "!blastn",
     "language": "python",
     "metadata": {},
     "outputs": [
      {
       "output_type": "stream",
       "stream": "stdout",
       "text": "/bin/sh: blastn: command not found\r\n"
      }
     ],
     "prompt_number": 8
    },
    {
     "cell_type": "code",
     "collapsed": false,
     "input": "cd ..",
     "language": "python",
     "metadata": {},
     "outputs": [
      {
       "output_type": "stream",
       "stream": "stdout",
       "text": "/Volumes/Bay3/Software/ncbi-blast-2.2.27+\n"
      }
     ],
     "prompt_number": 9
    },
    {
     "cell_type": "code",
     "collapsed": false,
     "input": "ls",
     "language": "python",
     "metadata": {},
     "outputs": [
      {
       "output_type": "stream",
       "stream": "stdout",
       "text": "\u001b[31mChangeLog\u001b[m\u001b[m*         \u001b[31mLICENSE\u001b[m\u001b[m*           \u001b[31mREADME\u001b[m\u001b[m*            \u001b[34mbin\u001b[m\u001b[m/               \u001b[34mdoc\u001b[m\u001b[m/               \u001b[31mncbi_package_info\u001b[m\u001b[m*\r\n"
      }
     ],
     "prompt_number": 10
    },
    {
     "cell_type": "code",
     "collapsed": false,
     "input": "cd bin",
     "language": "python",
     "metadata": {},
     "outputs": [
      {
       "output_type": "stream",
       "stream": "stdout",
       "text": "/Volumes/Bay3/Software/ncbi-blast-2.2.27+/bin\n"
      }
     ],
     "prompt_number": 11
    },
    {
     "cell_type": "code",
     "collapsed": false,
     "input": "ls",
     "language": "python",
     "metadata": {},
     "outputs": [
      {
       "output_type": "stream",
       "stream": "stdout",
       "text": "\u001b[31mblast_formatter\u001b[m\u001b[m*   \u001b[31mblastn\u001b[m\u001b[m*            \u001b[31mdeltablast\u001b[m\u001b[m*        \u001b[31mmakembindex\u001b[m\u001b[m*       \u001b[31mrpstblastn\u001b[m\u001b[m*        \u001b[31mupdate_blastdb.pl\u001b[m\u001b[m*\r\n\u001b[31mblastdb_aliastool\u001b[m\u001b[m* \u001b[31mblastp\u001b[m\u001b[m*            \u001b[31mdustmasker\u001b[m\u001b[m*        \u001b[31mmakeprofiledb\u001b[m\u001b[m*     \u001b[31msegmasker\u001b[m\u001b[m*         \u001b[31mwindowmasker\u001b[m\u001b[m*\r\n\u001b[31mblastdbcheck\u001b[m\u001b[m*      \u001b[31mblastx\u001b[m\u001b[m*            \u001b[31mlegacy_blast.pl\u001b[m\u001b[m*   \u001b[31mpsiblast\u001b[m\u001b[m*          \u001b[31mtblastn\u001b[m\u001b[m*\r\n\u001b[31mblastdbcmd\u001b[m\u001b[m*        \u001b[31mconvert2blastmask\u001b[m\u001b[m* \u001b[31mmakeblastdb\u001b[m\u001b[m*       \u001b[31mrpsblast\u001b[m\u001b[m*          \u001b[31mtblastx\u001b[m\u001b[m*\r\n"
      }
     ],
     "prompt_number": 12
    },
    {
     "cell_type": "code",
     "collapsed": false,
     "input": "!blastn",
     "language": "python",
     "metadata": {},
     "outputs": [
      {
       "output_type": "stream",
       "stream": "stdout",
       "text": "/bin/sh: blastn: command not found\r\n"
      }
     ],
     "prompt_number": 13
    },
    {
     "cell_type": "code",
     "collapsed": false,
     "input": "cd ..\n",
     "language": "python",
     "metadata": {},
     "outputs": [
      {
       "output_type": "stream",
       "stream": "stdout",
       "text": "/Volumes/Bay3/Software/ncbi-blast-2.2.27+\n"
      }
     ],
     "prompt_number": 14
    },
    {
     "cell_type": "code",
     "collapsed": false,
     "input": "cd ..",
     "language": "python",
     "metadata": {},
     "outputs": [
      {
       "output_type": "stream",
       "stream": "stdout",
       "text": "/Volumes/Bay3/Software\n"
      }
     ],
     "prompt_number": 15
    },
    {
     "cell_type": "code",
     "collapsed": false,
     "input": "cd ncbi-blast-2.2.26+/",
     "language": "python",
     "metadata": {},
     "outputs": [
      {
       "output_type": "stream",
       "stream": "stdout",
       "text": "/Volumes/Bay3/Software/ncbi-blast-2.2.26+\n"
      }
     ],
     "prompt_number": 16
    },
    {
     "cell_type": "code",
     "collapsed": false,
     "input": "ls",
     "language": "python",
     "metadata": {},
     "outputs": [
      {
       "output_type": "stream",
       "stream": "stdout",
       "text": "ChangeLog          README             blastdb.ncbirc     \u001b[34mdoc\u001b[m\u001b[m/               \u001b[34mout\u001b[m\u001b[m/\r\nLICENSE            \u001b[34mbin\u001b[m\u001b[m/               \u001b[34mdb\u001b[m\u001b[m/                ncbi_package_info  \u001b[34mquery\u001b[m\u001b[m/\r\n"
      }
     ],
     "prompt_number": 17
    },
    {
     "cell_type": "code",
     "collapsed": false,
     "input": "cd ..",
     "language": "python",
     "metadata": {},
     "outputs": [
      {
       "output_type": "stream",
       "stream": "stdout",
       "text": "/Volumes/Bay3/Software/ncbi-blast-2.2.26+\n"
      }
     ],
     "prompt_number": 23
    },
    {
     "cell_type": "code",
     "collapsed": false,
     "input": "cd ..",
     "language": "python",
     "metadata": {},
     "outputs": [
      {
       "output_type": "stream",
       "stream": "stdout",
       "text": "/Volumes/Bay3/Software\n"
      }
     ],
     "prompt_number": 24
    },
    {
     "cell_type": "raw",
     "metadata": {},
     "source": "This next command was key!\n\nh/t \n\nhttp://nbviewer.ipython.org/urls/raw.github.com/ngs-docs/ngs-notebooks/rendered/ngs-10-blast.ipynb"
    },
    {
     "cell_type": "code",
     "collapsed": false,
     "input": "cp ncbi-blast-2.2.27+/bin/* /usr/local/bin",
     "language": "python",
     "metadata": {},
     "outputs": [],
     "prompt_number": 25
    },
    {
     "cell_type": "code",
     "collapsed": false,
     "input": "!blastn",
     "language": "python",
     "metadata": {},
     "outputs": [
      {
       "output_type": "stream",
       "stream": "stdout",
       "text": "BLAST query/options error: Either a BLAST database or subject sequence(s) must be specified\r\n"
      }
     ],
     "prompt_number": 27
    },
    {
     "cell_type": "code",
     "collapsed": false,
     "input": "!makeblasdb",
     "language": "python",
     "metadata": {},
     "outputs": [
      {
       "output_type": "stream",
       "stream": "stdout",
       "text": "/bin/sh: makeblasdb: command not found\r\n"
      }
     ],
     "prompt_number": 28
    },
    {
     "cell_type": "code",
     "collapsed": false,
     "input": "!makeblastdb",
     "language": "python",
     "metadata": {},
     "outputs": [
      {
       "output_type": "stream",
       "stream": "stdout",
       "text": "USAGE\r\n  makeblastdb [-h] [-help] [-in input_file] [-input_type type]\r\n    -dbtype molecule_type [-title database_title] [-parse_seqids]\r\n    [-hash_index] [-mask_data mask_data_files] [-gi_mask]\r\n    [-gi_mask_name gi_based_mask_names] [-out database_name]\r\n    [-max_file_sz number_of_bytes] [-taxid TaxID] [-taxid_map TaxIDMapFile]\r\n    [-logfile File_Name] [-version]\r\n\r\nDESCRIPTION\r\n   Application to create BLAST databases, version 2.2.27+\r\n\r\nUse '-help' to print detailed descriptions of command line arguments\r\n========================================================================\r\n\r\nError: Argument \"dbtype\". Mandatory value is missing:  `String, `nucl', `prot''\r\n"
      }
     ],
     "prompt_number": 29
    },
    {
     "cell_type": "code",
     "collapsed": false,
     "input": "!makeblastdb -in /Users/sr320/Desktop/QPX_transcriptome_v1.fasta -dbtype nucl -out /Volumes/Bay3/Software/ncbi-blast-2.2.27\\+/db/QPX_tran_v1plos",
     "language": "python",
     "metadata": {},
     "outputs": [
      {
       "output_type": "stream",
       "stream": "stdout",
       "text": "\r\n\r\nBuilding a new DB, current time: 05/02/2013 13:56:40\r\nNew DB name:   /Volumes/Bay3/Software/ncbi-blast-2.2.27+/db/QPX_tran_v1plos\r\nNew DB title:  /Users/sr320/Desktop/QPX_transcriptome_v1.fasta\r\nSequence type: Nucleotide\r\nKeep Linkouts: T\r\nKeep MBits: T\r\nMaximum file size: 1000000000B\r\n"
      },
      {
       "output_type": "stream",
       "stream": "stdout",
       "text": "Adding sequences from FASTA; added 11271 sequences in 0.944333 seconds.\r\n"
      }
     ],
     "prompt_number": 33
    },
    {
     "cell_type": "code",
     "collapsed": false,
     "input": "!makeblastdb -in /Users/sr320/Desktop/QPX_v015.fasta -dbtype nucl -out /Volumes/Bay3/Software/ncbi-blast-2.2.27\\+/db/QPX_v015",
     "language": "python",
     "metadata": {},
     "outputs": [
      {
       "output_type": "stream",
       "stream": "stdout",
       "text": "\r\n\r\nBuilding a new DB, current time: 05/02/2013 13:59:27\r\nNew DB name:   /Volumes/Bay3/Software/ncbi-blast-2.2.27+/db/QPX_v015\r\nNew DB title:  /Users/sr320/Desktop/QPX_v015.fasta\r\nSequence type: Nucleotide\r\nKeep Linkouts: T\r\nKeep MBits: T\r\nMaximum file size: 1000000000B\r\n"
      },
      {
       "output_type": "stream",
       "stream": "stdout",
       "text": "Adding sequences from FASTA; added 21280 sequences in 1.99526 seconds.\r\n"
      }
     ],
     "prompt_number": 34
    },
    {
     "cell_type": "code",
     "collapsed": false,
     "input": "!blastn -query /Users/sr320/Desktop/QPX_transcriptome_v1.fasta -db /Volumes/Bay3/Software/ncbi-blast-2.2.27\\+/db/QPX_v015 -out /Volumes/web/cnidarian/QPX_trans_blastn_genome -outfmt 6 -evalue 1E-5 -max_target_seqs 1 -num_threads 2 -task blastn",
     "language": "python",
     "metadata": {},
     "outputs": [],
     "prompt_number": 35
    },
    {
     "cell_type": "code",
     "collapsed": false,
     "input": "head /Volumes/web/cnidarian/QPX_trans_blastn_genome",
     "language": "python",
     "metadata": {},
     "outputs": [
      {
       "ename": "NameError",
       "evalue": "name 'head' is not defined",
       "output_type": "pyerr",
       "traceback": [
        "\u001b[0;31m---------------------------------------------------------------------------\u001b[0m\n\u001b[0;31mNameError\u001b[0m                                 Traceback (most recent call last)",
        "\u001b[0;32m<ipython-input-43-b84294e9129a>\u001b[0m in \u001b[0;36m<module>\u001b[0;34m()\u001b[0m\n\u001b[0;32m----> 1\u001b[0;31m \u001b[0mhead\u001b[0m \u001b[0;34m/\u001b[0m\u001b[0mVolumes\u001b[0m\u001b[0;34m/\u001b[0m\u001b[0mweb\u001b[0m\u001b[0;34m/\u001b[0m\u001b[0mcnidarian\u001b[0m\u001b[0;34m/\u001b[0m\u001b[0mQPX_trans_blastn_genome\u001b[0m\u001b[0;34m\u001b[0m\u001b[0m\n\u001b[0m",
        "\u001b[0;31mNameError\u001b[0m: name 'head' is not defined"
       ]
      }
     ],
     "prompt_number": 43
    },
    {
     "cell_type": "code",
     "collapsed": false,
     "input": "!head /Volumes/web/cnidarian/QPX_trans_blastn_genome",
     "language": "python",
     "metadata": {},
     "outputs": [
      {
       "output_type": "stream",
       "stream": "stdout",
       "text": "QPX_transcriptome_v1_Contig_1\tQPX_v015_contig_5139\t100.00\t1269\t0\t0\t246\t1514\t2166\t898\t0.0\t2289\r\nQPX_transcriptome_v1_Contig_2\tQPX_v015_contig_1360\t100.00\t3682\t0\t0\t1\t3682\t3900\t7581\t0.0\t6641\r\nQPX_transcriptome_v1_Contig_3\tQPX_v015_contig_3723\t99.79\t2337\t5\t0\t1\t2337\t2886\t550\t0.0\t4192\r\nQPX_transcriptome_v1_Contig_4\tQPX_v015_contig_4109\t99.82\t1110\t2\t0\t7\t1116\t1862\t753\t0.0\t1994\r\nQPX_transcriptome_v1_Contig_6\tQPX_v015_contig_10488\t99.12\t913\t8\t0\t1\t913\t915\t3\t0.0\t1611\r\nQPX_transcriptome_v1_Contig_7\tQPX_v015_contig_1558\t100.00\t564\t0\t0\t1\t564\t3588\t3025\t0.0\t1018\r\nQPX_transcriptome_v1_Contig_8\tQPX_v015_contig_3052\t100.00\t2228\t0\t0\t1\t2228\t3651\t1424\t0.0\t4019\r\nQPX_transcriptome_v1_Contig_9\tQPX_v015_contig_4909\t100.00\t1971\t0\t0\t1\t1971\t6230\t8200\t0.0\t3555\r\nQPX_transcriptome_v1_Contig_10\tQPX_v015_contig_4102\t100.00\t1862\t0\t0\t1\t1862\t2453\t592\t0.0\t3359\r\nQPX_transcriptome_v1_Contig_11\tQPX_v015_contig_2947\t99.48\t1530\t8\t0\t986\t2515\t1751\t222\t0.0\t2724\r\n"
      }
     ],
     "prompt_number": 44
    },
    {
     "cell_type": "code",
     "collapsed": false,
     "input": "",
     "language": "python",
     "metadata": {},
     "outputs": []
    }
   ],
   "metadata": {}
  }
 ]
}