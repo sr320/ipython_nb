{
 "metadata": {
  "name": "",
  "signature": "sha256:c2fbede9c4484547eaaeab21e7fec913a4382ae4e10e3c531b08a89ff69e6447"
 },
 "nbformat": 3,
 "nbformat_minor": 0,
 "worksheets": [
  {
   "cells": [
    {
     "cell_type": "heading",
     "level": 1,
     "metadata": {},
     "source": [
      "SeaStar Data Check"
     ]
    },
    {
     "cell_type": "code",
     "collapsed": false,
     "input": [
      "!ls /Volumes/web/whale/SeaStarRNASeq"
     ],
     "language": "python",
     "metadata": {},
     "outputs": [
      {
       "output_type": "stream",
       "stream": "stdout",
       "text": [
        "3291_5903_10007_H94MGADXX_V_CF71_ATCACG_R1.fastq.gz\r\n",
        "3291_5903_10007_H94MGADXX_V_CF71_ATCACG_R2.fastq.gz\r\n",
        "3291_5903_10008_H94MGADXX_V_CF34_CGATGT_R1.fastq.gz\r\n",
        "3291_5903_10008_H94MGADXX_V_CF34_CGATGT_R2.fastq.gz\r\n",
        "3291_5903_10009_H94MGADXX_V_CF26_TTAGGC_R1.fastq.gz\r\n",
        "3291_5903_10009_H94MGADXX_V_CF26_TTAGGC_R2.fastq.gz\r\n",
        "3291_5903_10010_H94MGADXX_HK_CF2_TGACCA_R1.fastq.gz\r\n",
        "3291_5903_10010_H94MGADXX_HK_CF2_TGACCA_R2.fastq.gz\r\n",
        "3291_5903_10011_H94MGADXX_HK_CF35_ACAGTG_R1.fastq.gz\r\n",
        "3291_5903_10011_H94MGADXX_HK_CF35_ACAGTG_R2.fastq.gz\r\n",
        "3291_5903_10012_H94MGADXX_HK_CF70_GCCAAT_R1.fastq.gz\r\n",
        "3291_5903_10012_H94MGADXX_HK_CF70_GCCAAT_R2.fastq.gz\r\n",
        "\u001b[31mdownload.sh\u001b[m\u001b[m\r\n"
       ]
      }
     ],
     "prompt_number": 1
    },
    {
     "cell_type": "code",
     "collapsed": false,
     "input": [
      "#variables\n",
      "sr=\"/Volumes/web/whale/SeaStarRNASeq/\"\n",
      "\n",
      "go=\"/Volumes/web/cnidarian/\""
     ],
     "language": "python",
     "metadata": {},
     "outputs": [],
     "prompt_number": 1
    },
    {
     "cell_type": "code",
     "collapsed": false,
     "input": [
      "!gzcat {sr}3291_5903_10007_H94MGADXX_V_CF71_ATCACG_R1.fastq.gz > {go}3291_5903_10007_H94MGADXX_V_CF71_ATCACG_R1.fastq"
     ],
     "language": "python",
     "metadata": {},
     "outputs": [],
     "prompt_number": 9
    },
    {
     "cell_type": "code",
     "collapsed": false,
     "input": [
      "!gzcat {sr}3291_5903_10007_H94MGADXX_V_CF71_ATCACG_R2.fastq.gz > {go}3291_5903_10007_H94MGADXX_V_CF71_ATCACG_R2.fastq"
     ],
     "language": "python",
     "metadata": {},
     "outputs": [],
     "prompt_number": 10
    },
    {
     "cell_type": "code",
     "collapsed": false,
     "input": [
      "!gzcat {sr}3291_5903_10008_H94MGADXX_V_CF34_CGATGT_R1.fastq.gz > {go}3291_5903_10008_H94MGADXX_V_CF34_CGATGT_R1.fastq"
     ],
     "language": "python",
     "metadata": {},
     "outputs": [],
     "prompt_number": 11
    },
    {
     "cell_type": "code",
     "collapsed": false,
     "input": [
      "!gzcat {sr}3291_5903_10008_H94MGADXX_V_CF34_CGATGT_R2.fastq.gz > {go}3291_5903_10008_H94MGADXX_V_CF34_CGATGT_R2.fastq"
     ],
     "language": "python",
     "metadata": {},
     "outputs": [],
     "prompt_number": 12
    },
    {
     "cell_type": "code",
     "collapsed": false,
     "input": [
      "!gzcat {sr}3291_5903_10009_H94MGADXX_V_CF26_TTAGGC_R1.fastq.gz > {go}3291_5903_10009_H94MGADXX_V_CF26_TTAGGC_R1.fastq"
     ],
     "language": "python",
     "metadata": {},
     "outputs": [],
     "prompt_number": 13
    },
    {
     "cell_type": "code",
     "collapsed": false,
     "input": [
      "!gzcat {sr}3291_5903_10009_H94MGADXX_V_CF26_TTAGGC_R2.fastq.gz > {go}3291_5903_10009_H94MGADXX_V_CF26_TTAGGC_R2.fastq"
     ],
     "language": "python",
     "metadata": {},
     "outputs": [],
     "prompt_number": 14
    },
    {
     "cell_type": "code",
     "collapsed": false,
     "input": [
      "!gzcat {sr}3291_5903_10010_H94MGADXX_HK_CF2_TGACCA_R1.fastq.gz > {go}3291_5903_10010_H94MGADXX_HK_CF2_TGACCA_R1.fastq"
     ],
     "language": "python",
     "metadata": {},
     "outputs": [],
     "prompt_number": 15
    },
    {
     "cell_type": "code",
     "collapsed": false,
     "input": [
      "!gzcat {sr}3291_5903_10010_H94MGADXX_HK_CF2_TGACCA_R2.fastq.gz > {go}3291_5903_10010_H94MGADXX_HK_CF2_TGACCA_R2.fastq"
     ],
     "language": "python",
     "metadata": {},
     "outputs": [],
     "prompt_number": 16
    },
    {
     "cell_type": "code",
     "collapsed": false,
     "input": [
      "!gzcat {sr}3291_5903_10011_H94MGADXX_HK_CF35_ACAGTG_R1.fastq.gz > {go}3291_5903_10011_H94MGADXX_HK_CF35_ACAGTG_R1.fastq"
     ],
     "language": "python",
     "metadata": {},
     "outputs": [],
     "prompt_number": 17
    },
    {
     "cell_type": "code",
     "collapsed": false,
     "input": [
      "!gzcat {sr}3291_5903_10011_H94MGADXX_HK_CF35_ACAGTG_R2.fastq.gz > {go}3291_5903_10011_H94MGADXX_HK_CF35_ACAGTG_R2.fastq"
     ],
     "language": "python",
     "metadata": {},
     "outputs": [],
     "prompt_number": 18
    },
    {
     "cell_type": "code",
     "collapsed": false,
     "input": [
      "!gzcat {sr}3291_5903_10012_H94MGADXX_HK_CF70_GCCAAT_R1.fastq.gz > {go}3291_5903_10012_H94MGADXX_HK_CF70_GCCAAT_R1.fastq"
     ],
     "language": "python",
     "metadata": {},
     "outputs": [],
     "prompt_number": 19
    },
    {
     "cell_type": "code",
     "collapsed": false,
     "input": [
      "!gzcat {sr}3291_5903_10012_H94MGADXX_HK_CF70_GCCAAT_R2.fastq.gz > {go}3291_5903_10012_H94MGADXX_HK_CF70_GCCAAT_R2.fastq"
     ],
     "language": "python",
     "metadata": {},
     "outputs": [],
     "prompt_number": 20
    },
    {
     "cell_type": "code",
     "collapsed": false,
     "input": [
      "!ls {go}3291*"
     ],
     "language": "python",
     "metadata": {},
     "outputs": [
      {
       "output_type": "stream",
       "stream": "stdout",
       "text": [
        "/Volumes/web/cnidarian/3291_5903_10007_H94MGADXX_V_CF71_ATCACG_R1.fastq\r\n",
        "/Volumes/web/cnidarian/3291_5903_10007_H94MGADXX_V_CF71_ATCACG_R2.fastq\r\n",
        "/Volumes/web/cnidarian/3291_5903_10008_H94MGADXX_V_CF34_CGATGT_R1.fastq\r\n",
        "/Volumes/web/cnidarian/3291_5903_10008_H94MGADXX_V_CF34_CGATGT_R2.fastq\r\n",
        "/Volumes/web/cnidarian/3291_5903_10009_H94MGADXX_V_CF26_TTAGGC_R1.fastq\r\n",
        "/Volumes/web/cnidarian/3291_5903_10009_H94MGADXX_V_CF26_TTAGGC_R2.fastq\r\n",
        "/Volumes/web/cnidarian/3291_5903_10010_H94MGADXX_HK_CF2_TGACCA_R1.fastq\r\n",
        "/Volumes/web/cnidarian/3291_5903_10010_H94MGADXX_HK_CF2_TGACCA_R2.fastq\r\n",
        "/Volumes/web/cnidarian/3291_5903_10011_H94MGADXX_HK_CF35_ACAGTG_R1.fastq\r\n",
        "/Volumes/web/cnidarian/3291_5903_10011_H94MGADXX_HK_CF35_ACAGTG_R2.fastq\r\n",
        "/Volumes/web/cnidarian/3291_5903_10012_H94MGADXX_HK_CF70_GCCAAT_R1.fastq\r\n",
        "/Volumes/web/cnidarian/3291_5903_10012_H94MGADXX_HK_CF70_GCCAAT_R2.fastq\r\n"
       ]
      }
     ],
     "prompt_number": 2
    },
    {
     "cell_type": "heading",
     "level": 2,
     "metadata": {},
     "source": [
      "fastqc"
     ]
    },
    {
     "cell_type": "code",
     "collapsed": false,
     "input": [
      "#more variables\n",
      "s71=\"3291_5903_10007_H94MGADXX_V_CF71_ATCACG_\""
     ],
     "language": "python",
     "metadata": {},
     "outputs": [],
     "prompt_number": 2
    },
    {
     "cell_type": "code",
     "collapsed": false,
     "input": [
      "!/Volumes/Bay3/Software/FastQC/fastqc \\\n",
      "{go}{s71}R1.fastq \\\n",
      "-q \\\n",
      "-o /Volumes/web/cnidarian/"
     ],
     "language": "python",
     "metadata": {},
     "outputs": [],
     "prompt_number": 3
    },
    {
     "cell_type": "code",
     "collapsed": false,
     "input": [
      "!echo http://eagle.fish.washington.edu/cnidarian/{s71}R1_fastqc/fastqc_report.html"
     ],
     "language": "python",
     "metadata": {},
     "outputs": [
      {
       "output_type": "stream",
       "stream": "stdout",
       "text": [
        "http://eagle.fish.washington.edu/cnidarian/3291_5903_10007_H94MGADXX_V_CF71_ATCACG_R1_fastqc/fastqc_report.html\r\n"
       ]
      }
     ],
     "prompt_number": 4
    },
    {
     "cell_type": "code",
     "collapsed": false,
     "input": [
      "!sed -n \"/>>Overrepresented/,/>>END_MODULE/p\" /Volumes/web/cnidarian/{s71}R1_fastqc/fastqc_data.txt"
     ],
     "language": "python",
     "metadata": {},
     "outputs": [
      {
       "output_type": "stream",
       "stream": "stdout",
       "text": [
        ">>Overrepresented sequences\twarn\r\n",
        "#Sequence\tCount\tPercentage\tPossible Source\r\n",
        "GCCCCAACCAAAGTTATCTTATTAACTAACTAAATATAAATTATTAAAGC\t10191\t0.1282133220070474\tNo Hit\r\n",
        "GATCGGAAGAGCACACGTCTGAACTCCAGTCACATCACGATCTCGTATGC\t9013\t0.11339286343337437\tTruSeq Adapter, Index 1 (100% over 50bp)\r\n",
        "CCCCAACCAAAGTTATCTTATTAACTAACTAAATATAAATTATTAAAGCT\t7985\t0.1004595600261283\tNo Hit\r\n",
        "CTCCTGTTCACTTTTCTTCCCCAATTCGAGGCTCTACACGCAAATGGCTG\t7979\t0.10038407381947122\tNo Hit\r\n",
        ">>END_MODULE\r\n"
       ]
      }
     ],
     "prompt_number": 5
    },
    {
     "cell_type": "code",
     "collapsed": false,
     "input": [
      "!/Volumes/Bay3/Software/FastQC/fastqc \\\n",
      "{go}{s71}R2.fastq \\\n",
      "-q \\\n",
      "-o /Volumes/web/cnidarian/"
     ],
     "language": "python",
     "metadata": {},
     "outputs": [],
     "prompt_number": 6
    },
    {
     "cell_type": "code",
     "collapsed": false,
     "input": [
      "!echo http://eagle.fish.washington.edu/cnidarian/{s71}R2_fastqc/fastqc_report.html"
     ],
     "language": "python",
     "metadata": {},
     "outputs": [
      {
       "output_type": "stream",
       "stream": "stdout",
       "text": [
        "http://eagle.fish.washington.edu/cnidarian/3291_5903_10007_H94MGADXX_V_CF71_ATCACG_R2_fastqc/fastqc_report.html\r\n"
       ]
      }
     ],
     "prompt_number": 7
    },
    {
     "cell_type": "code",
     "collapsed": false,
     "input": [
      "!sed -n \"/>>Overrepresented/,/>>END_MODULE/p\" /Volumes/web/cnidarian/{s71}R2_fastqc/fastqc_data.txt"
     ],
     "language": "python",
     "metadata": {},
     "outputs": [
      {
       "output_type": "stream",
       "stream": "stdout",
       "text": [
        ">>Overrepresented sequences\twarn\r\n",
        "#Sequence\tCount\tPercentage\tPossible Source\r\n",
        "GCCCCAACCAAAGTTATCTTATTAACTAACTAAATATAAATTATTAAAGC\t11609\t0.14605322884700356\tNo Hit\r\n",
        "CCCCAACCAAAGTTATCTTATTAACTAACTAAATATAAATTATTAAAGCT\t8572\t0.10784462724407912\tNo Hit\r\n",
        "CTCCTGTTCACTTTTCTTCCCCAATTCGAGGCTCTACACGCAAATGGCTG\t7990\t0.10052246519834253\tNo Hit\r\n",
        ">>END_MODULE\r\n"
       ]
      }
     ],
     "prompt_number": 8
    },
    {
     "cell_type": "code",
     "collapsed": false,
     "input": [
      "samp=\"3291_5903_10008_H94MGADXX_V_CF34_CGATGT_\""
     ],
     "language": "python",
     "metadata": {},
     "outputs": [],
     "prompt_number": 9
    },
    {
     "cell_type": "code",
     "collapsed": false,
     "input": [
      "!/Volumes/Bay3/Software/FastQC/fastqc \\\n",
      "{go}{samp}R1.fastq \\\n",
      "-q \\\n",
      "-o /Volumes/web/cnidarian/"
     ],
     "language": "python",
     "metadata": {},
     "outputs": [],
     "prompt_number": 10
    },
    {
     "cell_type": "code",
     "collapsed": false,
     "input": [
      "!echo http://eagle.fish.washington.edu/cnidarian/{samp}R1_fastqc/fastqc_report.html"
     ],
     "language": "python",
     "metadata": {},
     "outputs": [
      {
       "output_type": "stream",
       "stream": "stdout",
       "text": [
        "http://eagle.fish.washington.edu/cnidarian/3291_5903_10008_H94MGADXX_V_CF34_CGATGT_R1_fastqc/fastqc_report.html\r\n"
       ]
      }
     ],
     "prompt_number": 11
    },
    {
     "cell_type": "code",
     "collapsed": false,
     "input": [
      "!sed -n \"/>>Overrepresented/,/>>END_MODULE/p\" /Volumes/web/cnidarian/{samp}R1_fastqc/fastqc_data.txt"
     ],
     "language": "python",
     "metadata": {},
     "outputs": [
      {
       "output_type": "stream",
       "stream": "stdout",
       "text": [
        ">>Overrepresented sequences\twarn\r\n",
        "#Sequence\tCount\tPercentage\tPossible Source\r\n",
        "ACTAGTATGGCCCGGGGGATCCTACGTTCCAAATGCAGCGAGCTCGTATA\t28097\t0.28809762158735774\tNo Hit\r\n",
        "ACTGGATGCATCTGCAGGATATCGCGGCCGCTCGACGTAGAACTCAATCT\t25507\t0.2615405927262246\tNo Hit\r\n",
        "GATCCTTATCTGTCAAAACCGCTAATGTCCGTTCTAAGACCGTCTGGAGA\t24623\t0.2524763404045097\tNo Hit\r\n",
        "ACTAGTATGGCCCGGGGGATCCTTATCTGTCAAAACCGCTAATGTCCGTT\t20542\t0.2106310760098054\tNo Hit\r\n",
        "TCTGCAGGATATCGCGGCCGCCATCTGCCCTACGTTTGAGGGTTATAAGC\t19098\t0.1958247633937914\tNo Hit\r\n",
        "ACTGGATGCATCTGCAGGATATCGCGGCCGCCATCTGCCCTACGTTTGAG\t18493\t0.18962128754012905\tNo Hit\r\n",
        "CTCCTGTTCACTTTTCTTCCCCAATTCGAGGCTCTACACGCAAATGGCTG\t17594\t0.1804032300319597\tNo Hit\r\n",
        ">>END_MODULE\r\n"
       ]
      }
     ],
     "prompt_number": 12
    },
    {
     "cell_type": "code",
     "collapsed": false,
     "input": [
      "!/Volumes/Bay3/Software/FastQC/fastqc \\\n",
      "{go}{samp}R2.fastq \\\n",
      "-q \\\n",
      "-o /Volumes/web/cnidarian/"
     ],
     "language": "python",
     "metadata": {},
     "outputs": [],
     "prompt_number": 13
    },
    {
     "cell_type": "code",
     "collapsed": false,
     "input": [
      "!echo http://eagle.fish.washington.edu/cnidarian/{samp}R2_fastqc/fastqc_report.html"
     ],
     "language": "python",
     "metadata": {},
     "outputs": [
      {
       "output_type": "stream",
       "stream": "stdout",
       "text": [
        "http://eagle.fish.washington.edu/cnidarian/3291_5903_10008_H94MGADXX_V_CF34_CGATGT_R2_fastqc/fastqc_report.html\r\n"
       ]
      }
     ],
     "prompt_number": 14
    },
    {
     "cell_type": "code",
     "collapsed": false,
     "input": [
      "!sed -n \"/>>Overrepresented/,/>>END_MODULE/p\" /Volumes/web/cnidarian/{samp}R2_fastqc/fastqc_data.txt"
     ],
     "language": "python",
     "metadata": {},
     "outputs": [
      {
       "output_type": "stream",
       "stream": "stdout",
       "text": [
        ">>Overrepresented sequences\twarn\r\n",
        "#Sequence\tCount\tPercentage\tPossible Source\r\n",
        "GATCCTTATCTGTCAAAACCGCTAATGTCCGTTCTAAGACCGTCTGGAGA\t28726\t0.2945471857393472\tNo Hit\r\n",
        "ACTGGATGCATCTGCAGGATATCGCGGCCGCTCGACGTAGAACTCAATCT\t28110\t0.2882309194156182\tNo Hit\r\n",
        "ACTAGTATGGCCCGGGGGATCCTACGTTCCAAATGCAGCGAGCTCGTATA\t25055\t0.2569059297743975\tNo Hit\r\n",
        "ACTGGATGCATCTGCAGGATATCGCGGCCGCCATCTGCCCTACGTTTGAG\t20727\t0.21252800664274346\tNo Hit\r\n",
        "CTCCTGTTCACTTTTCTTCCCCAATTCGAGGCTCTACACGCAAATGGCTG\t17970\t0.18425861337241764\tNo Hit\r\n",
        "ACTAGTATGGCCCGGGGGATCCTTATCTGTCAAAACCGCTAATGTCCGTT\t17860\t0.18313070867175174\tNo Hit\r\n",
        "TCTGCAGGATATCGCGGCCGCCATCTGCCCTACGTTTGAGGGTTATAAGC\t15140\t0.1552407015280135\tNo Hit\r\n",
        "GATCCTACGTTCCAAATGCAGCGAGCTCGTATAACCCTTTAAGAGTTGCT\t10435\t0.10699714137680455\tNo Hit\r\n",
        ">>END_MODULE\r\n"
       ]
      }
     ],
     "prompt_number": 15
    },
    {
     "cell_type": "code",
     "collapsed": false,
     "input": [],
     "language": "python",
     "metadata": {},
     "outputs": []
    }
   ],
   "metadata": {}
  }
 ]
}