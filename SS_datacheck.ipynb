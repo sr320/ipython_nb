{
 "metadata": {
  "name": "",
  "signature": "sha256:c9c87b4c63f312eb0635861affea86e5ba6e31a5f22101deebe24b09ed664319"
 },
 "nbformat": 3,
 "nbformat_minor": 0,
 "worksheets": [
  {
   "cells": [
    {
     "cell_type": "heading",
     "level": 1,
     "metadata": {},
     "source": [
      "SeaStar Data Check"
     ]
    },
    {
     "cell_type": "code",
     "collapsed": false,
     "input": [
      "!ls /Volumes/web/whale/SeaStarRNASeq"
     ],
     "language": "python",
     "metadata": {},
     "outputs": [
      {
       "output_type": "stream",
       "stream": "stdout",
       "text": [
        "3291_5903_10007_H94MGADXX_V_CF71_ATCACG_R1.fastq.gz\r\n",
        "3291_5903_10007_H94MGADXX_V_CF71_ATCACG_R2.fastq.gz\r\n",
        "3291_5903_10008_H94MGADXX_V_CF34_CGATGT_R1.fastq.gz\r\n",
        "3291_5903_10008_H94MGADXX_V_CF34_CGATGT_R2.fastq.gz\r\n",
        "3291_5903_10009_H94MGADXX_V_CF26_TTAGGC_R1.fastq.gz\r\n",
        "3291_5903_10009_H94MGADXX_V_CF26_TTAGGC_R2.fastq.gz\r\n",
        "3291_5903_10010_H94MGADXX_HK_CF2_TGACCA_R1.fastq.gz\r\n",
        "3291_5903_10010_H94MGADXX_HK_CF2_TGACCA_R2.fastq.gz\r\n",
        "3291_5903_10011_H94MGADXX_HK_CF35_ACAGTG_R1.fastq.gz\r\n",
        "3291_5903_10011_H94MGADXX_HK_CF35_ACAGTG_R2.fastq.gz\r\n",
        "3291_5903_10012_H94MGADXX_HK_CF70_GCCAAT_R1.fastq.gz\r\n",
        "3291_5903_10012_H94MGADXX_HK_CF70_GCCAAT_R2.fastq.gz\r\n",
        "\u001b[31mdownload.sh\u001b[m\u001b[m\r\n"
       ]
      }
     ],
     "prompt_number": 1
    },
    {
     "cell_type": "code",
     "collapsed": false,
     "input": [],
     "language": "python",
     "metadata": {},
     "outputs": []
    },
    {
     "cell_type": "code",
     "collapsed": false,
     "input": [
      "#variables\n",
      "sr=\"/Volumes/web/whale/SeaStarRNASeq/\"\n",
      "\n",
      "go=\"/Volumes/web/cnidarian/\""
     ],
     "language": "python",
     "metadata": {},
     "outputs": [],
     "prompt_number": 1
    },
    {
     "cell_type": "code",
     "collapsed": false,
     "input": [
      "!gzcat {sr}3291_5903_10007_H94MGADXX_V_CF71_ATCACG_R1.fastq.gz > {go}3291_5903_10007_H94MGADXX_V_CF71_ATCACG_R1.fastq"
     ],
     "language": "python",
     "metadata": {},
     "outputs": [],
     "prompt_number": 9
    },
    {
     "cell_type": "code",
     "collapsed": false,
     "input": [
      "!gzcat {sr}3291_5903_10007_H94MGADXX_V_CF71_ATCACG_R2.fastq.gz > {go}3291_5903_10007_H94MGADXX_V_CF71_ATCACG_R2.fastq"
     ],
     "language": "python",
     "metadata": {},
     "outputs": [],
     "prompt_number": 10
    },
    {
     "cell_type": "code",
     "collapsed": false,
     "input": [
      "!gzcat {sr}3291_5903_10008_H94MGADXX_V_CF34_CGATGT_R1.fastq.gz > {go}3291_5903_10008_H94MGADXX_V_CF34_CGATGT_R1.fastq"
     ],
     "language": "python",
     "metadata": {},
     "outputs": [],
     "prompt_number": 11
    },
    {
     "cell_type": "code",
     "collapsed": false,
     "input": [
      "!gzcat {sr}3291_5903_10008_H94MGADXX_V_CF34_CGATGT_R2.fastq.gz > {go}3291_5903_10008_H94MGADXX_V_CF34_CGATGT_R2.fastq"
     ],
     "language": "python",
     "metadata": {},
     "outputs": [],
     "prompt_number": 12
    },
    {
     "cell_type": "code",
     "collapsed": false,
     "input": [
      "!gzcat {sr}3291_5903_10009_H94MGADXX_V_CF26_TTAGGC_R1.fastq.gz > {go}3291_5903_10009_H94MGADXX_V_CF26_TTAGGC_R1.fastq"
     ],
     "language": "python",
     "metadata": {},
     "outputs": [],
     "prompt_number": 13
    },
    {
     "cell_type": "code",
     "collapsed": false,
     "input": [
      "!gzcat {sr}3291_5903_10009_H94MGADXX_V_CF26_TTAGGC_R2.fastq.gz > {go}3291_5903_10009_H94MGADXX_V_CF26_TTAGGC_R2.fastq"
     ],
     "language": "python",
     "metadata": {},
     "outputs": [],
     "prompt_number": 14
    },
    {
     "cell_type": "code",
     "collapsed": false,
     "input": [
      "!gzcat {sr}3291_5903_10010_H94MGADXX_HK_CF2_TGACCA_R1.fastq.gz > {go}3291_5903_10010_H94MGADXX_HK_CF2_TGACCA_R1.fastq"
     ],
     "language": "python",
     "metadata": {},
     "outputs": [],
     "prompt_number": 15
    },
    {
     "cell_type": "code",
     "collapsed": false,
     "input": [
      "!gzcat {sr}3291_5903_10010_H94MGADXX_HK_CF2_TGACCA_R2.fastq.gz > {go}3291_5903_10010_H94MGADXX_HK_CF2_TGACCA_R2.fastq"
     ],
     "language": "python",
     "metadata": {},
     "outputs": [],
     "prompt_number": 16
    },
    {
     "cell_type": "code",
     "collapsed": false,
     "input": [
      "!gzcat {sr}3291_5903_10011_H94MGADXX_HK_CF35_ACAGTG_R1.fastq.gz > {go}3291_5903_10011_H94MGADXX_HK_CF35_ACAGTG_R1.fastq"
     ],
     "language": "python",
     "metadata": {},
     "outputs": [],
     "prompt_number": 17
    },
    {
     "cell_type": "code",
     "collapsed": false,
     "input": [
      "!gzcat {sr}3291_5903_10011_H94MGADXX_HK_CF35_ACAGTG_R2.fastq.gz > {go}3291_5903_10011_H94MGADXX_HK_CF35_ACAGTG_R2.fastq"
     ],
     "language": "python",
     "metadata": {},
     "outputs": [],
     "prompt_number": 18
    },
    {
     "cell_type": "code",
     "collapsed": false,
     "input": [
      "!gzcat {sr}3291_5903_10012_H94MGADXX_HK_CF70_GCCAAT_R1.fastq.gz > {go}3291_5903_10012_H94MGADXX_HK_CF70_GCCAAT_R1.fastq"
     ],
     "language": "python",
     "metadata": {},
     "outputs": [],
     "prompt_number": 19
    },
    {
     "cell_type": "code",
     "collapsed": false,
     "input": [
      "!gzcat {sr}3291_5903_10012_H94MGADXX_HK_CF70_GCCAAT_R2.fastq.gz > {go}3291_5903_10012_H94MGADXX_HK_CF70_GCCAAT_R2.fastq"
     ],
     "language": "python",
     "metadata": {},
     "outputs": [],
     "prompt_number": 20
    },
    {
     "cell_type": "code",
     "collapsed": false,
     "input": [
      "!ls {go}3291*"
     ],
     "language": "python",
     "metadata": {},
     "outputs": [
      {
       "output_type": "stream",
       "stream": "stdout",
       "text": [
        "/Volumes/web/cnidarian/3291_5903_10007_H94MGADXX_V_CF71_ATCACG_R1.fastq\r\n",
        "/Volumes/web/cnidarian/3291_5903_10007_H94MGADXX_V_CF71_ATCACG_R2.fastq\r\n",
        "/Volumes/web/cnidarian/3291_5903_10008_H94MGADXX_V_CF34_CGATGT_R1.fastq\r\n",
        "/Volumes/web/cnidarian/3291_5903_10008_H94MGADXX_V_CF34_CGATGT_R2.fastq\r\n",
        "/Volumes/web/cnidarian/3291_5903_10009_H94MGADXX_V_CF26_TTAGGC_R1.fastq\r\n",
        "/Volumes/web/cnidarian/3291_5903_10009_H94MGADXX_V_CF26_TTAGGC_R2.fastq\r\n",
        "/Volumes/web/cnidarian/3291_5903_10010_H94MGADXX_HK_CF2_TGACCA_R1.fastq\r\n",
        "/Volumes/web/cnidarian/3291_5903_10010_H94MGADXX_HK_CF2_TGACCA_R2.fastq\r\n",
        "/Volumes/web/cnidarian/3291_5903_10011_H94MGADXX_HK_CF35_ACAGTG_R1.fastq\r\n",
        "/Volumes/web/cnidarian/3291_5903_10011_H94MGADXX_HK_CF35_ACAGTG_R2.fastq\r\n",
        "/Volumes/web/cnidarian/3291_5903_10012_H94MGADXX_HK_CF70_GCCAAT_R1.fastq\r\n",
        "/Volumes/web/cnidarian/3291_5903_10012_H94MGADXX_HK_CF70_GCCAAT_R2.fastq\r\n"
       ]
      }
     ],
     "prompt_number": 2
    },
    {
     "cell_type": "heading",
     "level": 2,
     "metadata": {},
     "source": [
      "fastqc"
     ]
    },
    {
     "cell_type": "heading",
     "level": 3,
     "metadata": {},
     "source": [
      "71"
     ]
    },
    {
     "cell_type": "code",
     "collapsed": false,
     "input": [
      "#more variables\n",
      "s71=\"3291_5903_10007_H94MGADXX_V_CF71_ATCACG_\""
     ],
     "language": "python",
     "metadata": {},
     "outputs": [],
     "prompt_number": 2
    },
    {
     "cell_type": "code",
     "collapsed": false,
     "input": [
      "!/Volumes/Bay3/Software/FastQC/fastqc \\\n",
      "{go}{s71}R1.fastq \\\n",
      "-q \\\n",
      "-o /Volumes/web/cnidarian/"
     ],
     "language": "python",
     "metadata": {},
     "outputs": [],
     "prompt_number": 3
    },
    {
     "cell_type": "code",
     "collapsed": false,
     "input": [
      "!echo http://eagle.fish.washington.edu/cnidarian/{s71}R1_fastqc/fastqc_report.html"
     ],
     "language": "python",
     "metadata": {},
     "outputs": [
      {
       "output_type": "stream",
       "stream": "stdout",
       "text": [
        "http://eagle.fish.washington.edu/cnidarian/3291_5903_10007_H94MGADXX_V_CF71_ATCACG_R1_fastqc/fastqc_report.html\r\n"
       ]
      }
     ],
     "prompt_number": 4
    },
    {
     "cell_type": "code",
     "collapsed": false,
     "input": [
      "!sed -n \"/>>Overrepresented/,/>>END_MODULE/p\" /Volumes/web/cnidarian/{s71}R1_fastqc/fastqc_data.txt"
     ],
     "language": "python",
     "metadata": {},
     "outputs": [
      {
       "output_type": "stream",
       "stream": "stdout",
       "text": [
        ">>Overrepresented sequences\twarn\r\n",
        "#Sequence\tCount\tPercentage\tPossible Source\r\n",
        "GCCCCAACCAAAGTTATCTTATTAACTAACTAAATATAAATTATTAAAGC\t10191\t0.1282133220070474\tNo Hit\r\n",
        "GATCGGAAGAGCACACGTCTGAACTCCAGTCACATCACGATCTCGTATGC\t9013\t0.11339286343337437\tTruSeq Adapter, Index 1 (100% over 50bp)\r\n",
        "CCCCAACCAAAGTTATCTTATTAACTAACTAAATATAAATTATTAAAGCT\t7985\t0.1004595600261283\tNo Hit\r\n",
        "CTCCTGTTCACTTTTCTTCCCCAATTCGAGGCTCTACACGCAAATGGCTG\t7979\t0.10038407381947122\tNo Hit\r\n",
        ">>END_MODULE\r\n"
       ]
      }
     ],
     "prompt_number": 5
    },
    {
     "cell_type": "code",
     "collapsed": false,
     "input": [
      "!/Volumes/Bay3/Software/FastQC/fastqc \\\n",
      "{go}{s71}R2.fastq \\\n",
      "-q \\\n",
      "-o /Volumes/web/cnidarian/"
     ],
     "language": "python",
     "metadata": {},
     "outputs": [],
     "prompt_number": 6
    },
    {
     "cell_type": "code",
     "collapsed": false,
     "input": [
      "!echo http://eagle.fish.washington.edu/cnidarian/{s71}R2_fastqc/fastqc_report.html"
     ],
     "language": "python",
     "metadata": {},
     "outputs": [
      {
       "output_type": "stream",
       "stream": "stdout",
       "text": [
        "http://eagle.fish.washington.edu/cnidarian/3291_5903_10007_H94MGADXX_V_CF71_ATCACG_R2_fastqc/fastqc_report.html\r\n"
       ]
      }
     ],
     "prompt_number": 7
    },
    {
     "cell_type": "code",
     "collapsed": false,
     "input": [
      "!sed -n \"/>>Overrepresented/,/>>END_MODULE/p\" /Volumes/web/cnidarian/{s71}R2_fastqc/fastqc_data.txt"
     ],
     "language": "python",
     "metadata": {},
     "outputs": [
      {
       "output_type": "stream",
       "stream": "stdout",
       "text": [
        ">>Overrepresented sequences\twarn\r\n",
        "#Sequence\tCount\tPercentage\tPossible Source\r\n",
        "GCCCCAACCAAAGTTATCTTATTAACTAACTAAATATAAATTATTAAAGC\t11609\t0.14605322884700356\tNo Hit\r\n",
        "CCCCAACCAAAGTTATCTTATTAACTAACTAAATATAAATTATTAAAGCT\t8572\t0.10784462724407912\tNo Hit\r\n",
        "CTCCTGTTCACTTTTCTTCCCCAATTCGAGGCTCTACACGCAAATGGCTG\t7990\t0.10052246519834253\tNo Hit\r\n",
        ">>END_MODULE\r\n"
       ]
      }
     ],
     "prompt_number": 8
    },
    {
     "cell_type": "heading",
     "level": 3,
     "metadata": {},
     "source": [
      "34"
     ]
    },
    {
     "cell_type": "code",
     "collapsed": false,
     "input": [
      "samp=\"3291_5903_10008_H94MGADXX_V_CF34_CGATGT_\""
     ],
     "language": "python",
     "metadata": {},
     "outputs": [],
     "prompt_number": 9
    },
    {
     "cell_type": "code",
     "collapsed": false,
     "input": [
      "!/Volumes/Bay3/Software/FastQC/fastqc \\\n",
      "{go}{samp}R1.fastq \\\n",
      "-q \\\n",
      "-o /Volumes/web/cnidarian/"
     ],
     "language": "python",
     "metadata": {},
     "outputs": [],
     "prompt_number": 10
    },
    {
     "cell_type": "code",
     "collapsed": false,
     "input": [
      "!echo http://eagle.fish.washington.edu/cnidarian/{samp}R1_fastqc/fastqc_report.html"
     ],
     "language": "python",
     "metadata": {},
     "outputs": [
      {
       "output_type": "stream",
       "stream": "stdout",
       "text": [
        "http://eagle.fish.washington.edu/cnidarian/3291_5903_10008_H94MGADXX_V_CF34_CGATGT_R1_fastqc/fastqc_report.html\r\n"
       ]
      }
     ],
     "prompt_number": 11
    },
    {
     "cell_type": "code",
     "collapsed": false,
     "input": [
      "!sed -n \"/>>Overrepresented/,/>>END_MODULE/p\" /Volumes/web/cnidarian/{samp}R1_fastqc/fastqc_data.txt"
     ],
     "language": "python",
     "metadata": {},
     "outputs": [
      {
       "output_type": "stream",
       "stream": "stdout",
       "text": [
        ">>Overrepresented sequences\twarn\r\n",
        "#Sequence\tCount\tPercentage\tPossible Source\r\n",
        "ACTAGTATGGCCCGGGGGATCCTACGTTCCAAATGCAGCGAGCTCGTATA\t28097\t0.28809762158735774\tNo Hit\r\n",
        "ACTGGATGCATCTGCAGGATATCGCGGCCGCTCGACGTAGAACTCAATCT\t25507\t0.2615405927262246\tNo Hit\r\n",
        "GATCCTTATCTGTCAAAACCGCTAATGTCCGTTCTAAGACCGTCTGGAGA\t24623\t0.2524763404045097\tNo Hit\r\n",
        "ACTAGTATGGCCCGGGGGATCCTTATCTGTCAAAACCGCTAATGTCCGTT\t20542\t0.2106310760098054\tNo Hit\r\n",
        "TCTGCAGGATATCGCGGCCGCCATCTGCCCTACGTTTGAGGGTTATAAGC\t19098\t0.1958247633937914\tNo Hit\r\n",
        "ACTGGATGCATCTGCAGGATATCGCGGCCGCCATCTGCCCTACGTTTGAG\t18493\t0.18962128754012905\tNo Hit\r\n",
        "CTCCTGTTCACTTTTCTTCCCCAATTCGAGGCTCTACACGCAAATGGCTG\t17594\t0.1804032300319597\tNo Hit\r\n",
        ">>END_MODULE\r\n"
       ]
      }
     ],
     "prompt_number": 12
    },
    {
     "cell_type": "code",
     "collapsed": false,
     "input": [
      "!/Volumes/Bay3/Software/FastQC/fastqc \\\n",
      "{go}{samp}R2.fastq \\\n",
      "-q \\\n",
      "-o /Volumes/web/cnidarian/"
     ],
     "language": "python",
     "metadata": {},
     "outputs": [],
     "prompt_number": 13
    },
    {
     "cell_type": "code",
     "collapsed": false,
     "input": [
      "!echo http://eagle.fish.washington.edu/cnidarian/{samp}R2_fastqc/fastqc_report.html"
     ],
     "language": "python",
     "metadata": {},
     "outputs": [
      {
       "output_type": "stream",
       "stream": "stdout",
       "text": [
        "http://eagle.fish.washington.edu/cnidarian/3291_5903_10008_H94MGADXX_V_CF34_CGATGT_R2_fastqc/fastqc_report.html\r\n"
       ]
      }
     ],
     "prompt_number": 14
    },
    {
     "cell_type": "code",
     "collapsed": false,
     "input": [
      "!sed -n \"/>>Overrepresented/,/>>END_MODULE/p\" /Volumes/web/cnidarian/{samp}R2_fastqc/fastqc_data.txt"
     ],
     "language": "python",
     "metadata": {},
     "outputs": [
      {
       "output_type": "stream",
       "stream": "stdout",
       "text": [
        ">>Overrepresented sequences\twarn\r\n",
        "#Sequence\tCount\tPercentage\tPossible Source\r\n",
        "GATCCTTATCTGTCAAAACCGCTAATGTCCGTTCTAAGACCGTCTGGAGA\t28726\t0.2945471857393472\tNo Hit\r\n",
        "ACTGGATGCATCTGCAGGATATCGCGGCCGCTCGACGTAGAACTCAATCT\t28110\t0.2882309194156182\tNo Hit\r\n",
        "ACTAGTATGGCCCGGGGGATCCTACGTTCCAAATGCAGCGAGCTCGTATA\t25055\t0.2569059297743975\tNo Hit\r\n",
        "ACTGGATGCATCTGCAGGATATCGCGGCCGCCATCTGCCCTACGTTTGAG\t20727\t0.21252800664274346\tNo Hit\r\n",
        "CTCCTGTTCACTTTTCTTCCCCAATTCGAGGCTCTACACGCAAATGGCTG\t17970\t0.18425861337241764\tNo Hit\r\n",
        "ACTAGTATGGCCCGGGGGATCCTTATCTGTCAAAACCGCTAATGTCCGTT\t17860\t0.18313070867175174\tNo Hit\r\n",
        "TCTGCAGGATATCGCGGCCGCCATCTGCCCTACGTTTGAGGGTTATAAGC\t15140\t0.1552407015280135\tNo Hit\r\n",
        "GATCCTACGTTCCAAATGCAGCGAGCTCGTATAACCCTTTAAGAGTTGCT\t10435\t0.10699714137680455\tNo Hit\r\n",
        ">>END_MODULE\r\n"
       ]
      }
     ],
     "prompt_number": 15
    },
    {
     "cell_type": "heading",
     "level": 3,
     "metadata": {},
     "source": [
      "26"
     ]
    },
    {
     "cell_type": "code",
     "collapsed": false,
     "input": [
      "samp=\"3291_5903_10009_H94MGADXX_V_CF26_TTAGGC_\""
     ],
     "language": "python",
     "metadata": {},
     "outputs": [],
     "prompt_number": 16
    },
    {
     "cell_type": "code",
     "collapsed": false,
     "input": [
      "!/Volumes/Bay3/Software/FastQC/fastqc \\\n",
      "{go}{samp}R1.fastq \\\n",
      "-q \\\n",
      "-o /Volumes/web/cnidarian/"
     ],
     "language": "python",
     "metadata": {},
     "outputs": [],
     "prompt_number": 17
    },
    {
     "cell_type": "code",
     "collapsed": false,
     "input": [
      "!echo http://eagle.fish.washington.edu/cnidarian/{samp}R1_fastqc/fastqc_report.html"
     ],
     "language": "python",
     "metadata": {},
     "outputs": [
      {
       "output_type": "stream",
       "stream": "stdout",
       "text": [
        "http://eagle.fish.washington.edu/cnidarian/3291_5903_10009_H94MGADXX_V_CF26_TTAGGC_R1_fastqc/fastqc_report.html\r\n"
       ]
      }
     ],
     "prompt_number": 18
    },
    {
     "cell_type": "code",
     "collapsed": false,
     "input": [
      "!sed -n \"/>>Overrepresented/,/>>END_MODULE/p\" /Volumes/web/cnidarian/{samp}R1_fastqc/fastqc_data.txt"
     ],
     "language": "python",
     "metadata": {},
     "outputs": [
      {
       "output_type": "stream",
       "stream": "stdout",
       "text": [
        ">>Overrepresented sequences\twarn\r\n",
        "#Sequence\tCount\tPercentage\tPossible Source\r\n",
        "GCCCCAACCAAAGTTATCTTATTAACTAACTAAATATAAATTATTAAAGC\t128262\t0.6639032585981921\tNo Hit\r\n",
        "CTTAGAAACTGCTGCATCTCTAGGAAATCTCGATCCAACATCGAGGTCGC\t112448\t0.5820476339278158\tNo Hit\r\n",
        "GTCCTTTCGTACTAAGAAAAGTATAACTTTCGTGGATAGAAACTGACCTG\t103188\t0.5341164916205131\tNo Hit\r\n",
        "CCCCAACCAAAGTTATCTTATTAACTAACTAAATATAAATTATTAAAGCT\t97001\t0.502091656042189\tNo Hit\r\n",
        "CTCTCCAAAAAAATTACGCTGTTATCCCTACGGTAACTTATTCCTTTGCT\t50347\t0.2606035876615302\tNo Hit\r\n",
        "CTTTGCTTAAAAGAAAAGCTTTAACGCTTTTATGCGAGTTAGATGCTATT\t49274\t0.2550495794870446\tNo Hit\r\n",
        "GCTGCATCTCTAGGAAATCTCGATCCAACATCGAGGTCGCAAACTTTTTT\t46900\t0.2427614011028614\tNo Hit\r\n",
        "CCCTACGGTAACTTATTCCTTTGCTCGCTATTTAGCGGATCACTTAATTT\t41323\t0.21389401658365764\tNo Hit\r\n",
        "CCTTTGCTTAAAAGAAAAGCTTTAACGCTTTTATGCGAGTTAGATGCTAT\t41070\t0.21258445081651423\tNo Hit\r\n",
        "CAAAAACATCGCCCCTTGCAAAATAATTAACGAATAAGGGGTCCTGCCTG\t38083\t0.19712329292537892\tNo Hit\r\n",
        "CTGCTGCATCTCTAGGAAATCTCGATCCAACATCGAGGTCGCAAACTTTT\t37711\t0.19519776539424322\tNo Hit\r\n",
        "CTCCGCGATTGCCCCAACCAAAGTTATCTTATTAACTAACTAAATATAAA\t37387\t0.19352069302841535\tNo Hit\r\n",
        "CCCCAGTCTTGCCATTCATACCAGCCTCTAATTAAGAGGCAAATGATTAT\t36717\t0.19005267301266018\tNo Hit\r\n",
        "CCTCGATGTTGGATCGAGATTTCCTAGAGATGCAGCAGTTTCTAAGGGTT\t36568\t0.18928142677035045\tNo Hit\r\n",
        "CGAGAAGACCCTATCGAGCTTTAGTAAAATTGTTAGTAGCATGTAAATAT\t35094\t0.1816517827356891\tNo Hit\r\n",
        "CTGCATCTCTAGGAAATCTCGATCCAACATCGAGGTCGCAAACTTTTTTA\t31808\t0.16464295621065705\tNo Hit\r\n",
        "CCCTTAGAAACTGCTGCATCTCTAGGAAATCTCGATCCAACATCGAGGTC\t30840\t0.15963244371028243\tNo Hit\r\n",
        "GCTACCTTTGCACGGTCAAAATACCGCGGCCGTTTAACTACGTCACTGGG\t30693\t0.1588715497665272\tNo Hit\r\n",
        "CCCCAGTCTTGCCATTCATACCAGCCTCTATTTAAGAGGCAAATGATTAT\t29922\t0.15488073867377014\tNo Hit\r\n",
        "CTCTGGTCCTTTCGTACTAAGAAAAGTATAACTTTCGTGGATAGAAACTG\t29852\t0.15451840822436289\tNo Hit\r\n",
        "GCCGAGTTCCTTTTTCTTATTTTATTAAAAAATTAATTACCTGAGTTGGA\t29712\t0.15379374732554837\tNo Hit\r\n",
        "GCTAAATAGCGAGCAAAGGAATAAGTTACCGTAGGGATAACAGCGTAATT\t29680\t0.15362811054867648\tNo Hit\r\n",
        "ACTAGTATGGCCCGGGGGATCCTACGTTCCAAATGCAGCGAGCTCGTATA\t29613\t0.15328130854710098\tNo Hit\r\n",
        "GTCGCAAACTTTTTTATCAATATGAACTCTCCAAAAAAATTACGCTGTTA\t29332\t0.1518268106001947\tNo Hit\r\n",
        "ATTTTTGTGAAGAAGCAGAAATAAATTCGTAGGACGAGAAGACCCTATCG\t28280\t0.14638150156053137\tNo Hit\r\n",
        "GGGCGATGTTTTTGGTAAACAGGCGAAGTCAATATTTGCCGAGTTCCTTT\t27695\t0.14335345423334217\tNo Hit\r\n",
        "ACTGGATGCATCTGCAGGATATCGCGGCCGCTCGACGTAGAACTCAATCT\t26467\t0.13699714292088344\tNo Hit\r\n",
        "AGCTCATCAAGTTTCGGGACACAAAACACTTTTAGTAAAAGCTTGCTCAA\t26349\t0.13638635730616835\tNo Hit\r\n",
        "GAATAAGTTACCGTAGGGATAACAGCGTAATTTTTTTGGAGAGTTCATAT\t25107\t0.12995757990382817\tNo Hit\r\n",
        "ACCAGCTATAACTTGATGCGATTAGCATTTCACATCTAATGTATCCTCAA\t24199\t0.12525763636008833\tNo Hit\r\n",
        "GCTACTAACAATTTTACTAAAGCTCGATAGGGTCTTCTCGTCCTACGAAT\t24176\t0.12513858492671168\tNo Hit\r\n",
        "GCCCCGACCAAAGTTATCTTATTAACTAACTAAATATAAATTATTAAAGC\t23352\t0.12087343792226055\tNo Hit\r\n",
        "CACCATTAACTAAAATTAATTTCTTAGAAAACCAGCTATAACTTGATGCG\t23020\t0.11915495636221471\tNo Hit\r\n",
        "CCCAACCAAAGTTATCTTATTAACTAACTAAATATAAATTATTAAAGCTT\t22836\t0.11820254489520135\tNo Hit\r\n",
        "ATAAATTCGTAGGACGAGAAGACCCTATCGAGCTTTAGTAAAATTGTTAG\t22425\t0.11607514754225304\tNo Hit\r\n",
        "AGAAGACCCTATCGAGCTTTAGTAAAATTGTTAGTAGCATGTAAATATAA\t21508\t0.11132861865501799\tNo Hit\r\n",
        "AGATAACTTTGGTTGGGGCAATCGCGGAGAATATAAATCCTCCGCTAAAA\t21403\t0.1107851229809071\tNo Hit\r\n",
        "GCCGTTTAACTACGTCACTGGGCAGGCAGGACCCCTTATTCGTTAATTAT\t20662\t0.10694959636646742\tNo Hit\r\n",
        "CCCCGACCAAAGTTATCTTATTAACTAACTAAATATAAATTATTAAAGCT\t20086\t0.10396813438277346\tNo Hit\r\n",
        "TATAAATCCTCCGCTAAAAGTATTAAAAATTACTATTTTTAAATTAAGTG\t19952\t0.10327453037962242\tNo Hit\r\n",
        "GCTCGCTATTTAGCGGATCACTTAATTTAAAAATAGTAATTTTTAATACT\t19899\t0.10300019446792834\tNo Hit\r\n",
        ">>END_MODULE\r\n"
       ]
      }
     ],
     "prompt_number": 19
    },
    {
     "cell_type": "code",
     "collapsed": false,
     "input": [
      "!/Volumes/Bay3/Software/FastQC/fastqc \\\n",
      "{go}{samp}R2.fastq \\\n",
      "-q \\\n",
      "-o /Volumes/web/cnidarian/"
     ],
     "language": "python",
     "metadata": {},
     "outputs": [],
     "prompt_number": 20
    },
    {
     "cell_type": "code",
     "collapsed": false,
     "input": [
      "!echo http://eagle.fish.washington.edu/cnidarian/{samp}R2_fastqc/fastqc_report.html"
     ],
     "language": "python",
     "metadata": {},
     "outputs": [
      {
       "output_type": "stream",
       "stream": "stdout",
       "text": [
        "http://eagle.fish.washington.edu/cnidarian/3291_5903_10009_H94MGADXX_V_CF26_TTAGGC_R2_fastqc/fastqc_report.html\r\n"
       ]
      }
     ],
     "prompt_number": 21
    },
    {
     "cell_type": "code",
     "collapsed": false,
     "input": [
      "!sed -n \"/>>Overrepresented/,/>>END_MODULE/p\" /Volumes/web/cnidarian/{samp}R2_fastqc/fastqc_data.txt"
     ],
     "language": "python",
     "metadata": {},
     "outputs": [
      {
       "output_type": "stream",
       "stream": "stdout",
       "text": [
        ">>Overrepresented sequences\twarn\r\n",
        "#Sequence\tCount\tPercentage\tPossible Source\r\n",
        "GCCCCAACCAAAGTTATCTTATTAACTAACTAAATATAAATTATTAAAGC\t144086\t0.745810644761341\tNo Hit\r\n",
        "CTTAGAAACTGCTGCATCTCTAGGAAATCTCGATCCAACATCGAGGTCGC\t110876\t0.5739107272639843\tNo Hit\r\n",
        "GTCCTTTCGTACTAAGAAAAGTATAACTTTCGTGGATAGAAACTGACCTG\t107226\t0.5550177824020345\tNo Hit\r\n",
        "CCCCAACCAAAGTTATCTTATTAACTAACTAAATATAAATTATTAAAGCT\t106475\t0.5511304942948224\tNo Hit\r\n",
        "GCTGCATCTCTAGGAAATCTCGATCCAACATCGAGGTCGCAAACTTTTTT\t52790\t0.2732489203458434\tNo Hit\r\n",
        "CTCTCCAAAAAAATTACGCTGTTATCCCTACGGTAACTTATTCCTTTGCT\t50188\t0.259780579926448\tNo Hit\r\n",
        "CTTTGCTTAAAAGAAAAGCTTTAACGCTTTTATGCGAGTTAGATGCTATT\t47713\t0.24696961046526286\tNo Hit\r\n",
        "CCCTACGGTAACTTATTCCTTTGCTCGCTATTTAGCGGATCACTTAATTT\t41325\t0.2139043688822121\tNo Hit\r\n",
        "CTGCTGCATCTCTAGGAAATCTCGATCCAACATCGAGGTCGCAAACTTTT\t40795\t0.21116100976527147\tNo Hit\r\n",
        "CCCCAGTCTTGCCATTCATACCAGCCTCTAATTAAGAGGCAAATGATTAT\t40277\t0.20847976443965777\tNo Hit\r\n",
        "CTCCGCGATTGCCCCAACCAAAGTTATCTTATTAACTAACTAAATATAAA\t39872\t0.20638342398237294\tNo Hit\r\n",
        "CCTTTGCTTAAAAGAAAAGCTTTAACGCTTTTATGCGAGTTAGATGCTAT\t39658\t0.2052757280370422\tNo Hit\r\n",
        "GCCGAGTTCCTTTTTCTTATTTTATTAAAAAATTAATTACCTGAGTTGGA\t35079\t0.1815741404965304\tNo Hit\r\n",
        "CGAGAAGACCCTATCGAGCTTTAGTAAAATTGTTAGTAGCATGTAAATAT\t33784\t0.17487102718249617\tNo Hit\r\n",
        "CTGCATCTCTAGGAAATCTCGATCCAACATCGAGGTCGCAAACTTTTTTA\t33701\t0.1744414067924847\tNo Hit\r\n",
        "CCTCGATGTTGGATCGAGATTTCCTAGAGATGCAGCAGTTTCTAAGGGTT\t33497\t0.17338547233992643\tNo Hit\r\n",
        "CCCCAGTCTTGCCATTCATACCAGCCTCTATTTAAGAGGCAAATGATTAT\t33351\t0.17262975454544843\tNo Hit\r\n",
        "GCTACCTTTGCACGGTCAAAATACCGCGGCCGTTTAACTACGTCACTGGG\t32833\t0.16994850921983473\tNo Hit\r\n",
        "CAAAAACATCGCCCCTTGCAAAATAATTAACGAATAAGGGGTCCTGCCTG\t32242\t0.16688940499698204\tNo Hit\r\n",
        "GGGCGATGTTTTTGGTAAACAGGCGAAGTCAATATTTGCCGAGTTCCTTT\t31822\t0.1647154223005385\tNo Hit\r\n",
        "CTCTGGTCCTTTCGTACTAAGAAAAGTATAACTTTCGTGGATAGAAACTG\t31604\t0.16358702175809878\tNo Hit\r\n",
        "GTCGCAAACTTTTTTATCAATATGAACTCTCCAAAAAAATTACGCTGTTA\t30272\t0.15669239092080642\tNo Hit\r\n",
        "CCCTTAGAAACTGCTGCATCTCTAGGAAATCTCGATCCAACATCGAGGTC\t30037\t0.1554759958406535\tNo Hit\r\n",
        "ACTGGATGCATCTGCAGGATATCGCGGCCGCTCGACGTAGAACTCAATCT\t29748\t0.15398008869952923\tNo Hit\r\n",
        "GCTAAATAGCGAGCAAAGGAATAAGTTACCGTAGGGATAACAGCGTAATT\t27557\t0.14263914563308214\tNo Hit\r\n",
        "ACTAGTATGGCCCGGGGGATCCTACGTTCCAAATGCAGCGAGCTCGTATA\t26141\t0.13530971825650107\tNo Hit\r\n",
        "GCCCCGACCAAAGTTATCTTATTAACTAACTAAATATAAATTATTAAAGC\t25587\t0.1324421315569065\tNo Hit\r\n",
        "CCCAACCAAAGTTATCTTATTAACTAACTAAATATAAATTATTAAAGCTT\t24892\t0.1288447078092202\tNo Hit\r\n",
        "GAATAAGTTACCGTAGGGATAACAGCGTAATTTTTTTGGAGAGTTCATAT\t24293\t0.1257441943921495\tNo Hit\r\n",
        "AGCTCATCAAGTTTCGGGACACAAAACACTTTTAGTAAAAGCTTGCTCAA\t23874\t0.12357538784498322\tNo Hit\r\n",
        "ATTTTTGTGAAGAAGCAGAAATAAATTCGTAGGACGAGAAGACCCTATCG\t23472\t0.12149457583553014\tNo Hit\r\n",
        "GCCGTTTAACTACGTCACTGGGCAGGCAGGACCCCTTATTCGTTAATTAT\t23254\t0.1203661752930904\tNo Hit\r\n",
        "GCTACTAACAATTTTACTAAAGCTCGATAGGGTCTTCTCGTCCTACGAAT\t22783\t0.11792820898350728\tNo Hit\r\n",
        "ACCAGCTATAACTTGATGCGATTAGCATTTCACATCTAATGTATCCTCAA\t22421\t0.11605444294514404\tNo Hit\r\n",
        "CCCCGACCAAAGTTATCTTATTAACTAACTAAATATAAATTATTAAAGCT\t22248\t0.11515896912018041\tNo Hit\r\n",
        "CACCATTAACTAAAATTAATTTCTTAGAAAACCAGCTATAACTTGATGCG\t21647\t0.11204810340455523\tNo Hit\r\n",
        "AGATAACTTTGGTTGGGGCAATCGCGGAGAATATAAATCCTCCGCTAAAA\t21627\t0.11194458041901031\tNo Hit\r\n",
        "AGAAGACCCTATCGAGCTTTAGTAAAATTGTTAGTAGCATGTAAATATAA\t20964\t0.10851279344819588\tNo Hit\r\n",
        "CTGGGGTTAAGCTGTCTCTTTCTTAATACTTGAATTTTATATTTTTGTGA\t20608\t0.10667008430549613\tNo Hit\r\n",
        "CTTTCGTACTAAGAAAAGTATAACTTTCGTGGATAGAAACTGACCTGGCT\t20137\t0.10423211799591302\tNo Hit\r\n",
        "GGGCAGGCAGGACCCCTTATTCGTTAATTATTTTGCAAGGGGCGATGTTT\t20055\t0.10380767375517881\tNo Hit\r\n",
        "GCTCGCTATTTAGCGGATCACTTAATTTAAAAATAGTAATTTTTAATACT\t19810\t0.1025395171822534\tNo Hit\r\n",
        "CTGGTCCTTTCGTACTAAGAAAAGTATAACTTTCGTGGATAGAAACTGAC\t19694\t0.10193908386609281\tNo Hit\r\n",
        "TGCCCCAACCAAAGTTATCTTATTAACTAACTAAATATAAATTATTAAAG\t19585\t0.10137488359487294\tNo Hit\r\n",
        "AAAGTATTAAAAATTACTATTTTTAAATTAAGTGATCCGCTAAATAGCGA\t19503\t0.10095043935413872\tNo Hit\r\n",
        ">>END_MODULE\r\n"
       ]
      }
     ],
     "prompt_number": 22
    },
    {
     "cell_type": "heading",
     "level": 3,
     "metadata": {},
     "source": [
      "2"
     ]
    },
    {
     "cell_type": "code",
     "collapsed": false,
     "input": [
      "samp=\"3291_5903_10010_H94MGADXX_HK_CF2_TGACCA_\""
     ],
     "language": "python",
     "metadata": {},
     "outputs": [],
     "prompt_number": 23
    },
    {
     "cell_type": "code",
     "collapsed": false,
     "input": [
      "!/Volumes/Bay3/Software/FastQC/fastqc \\\n",
      "{go}{samp}R1.fastq \\\n",
      "-q \\\n",
      "-o /Volumes/web/cnidarian/"
     ],
     "language": "python",
     "metadata": {},
     "outputs": [],
     "prompt_number": 24
    },
    {
     "cell_type": "code",
     "collapsed": false,
     "input": [
      "!echo http://eagle.fish.washington.edu/cnidarian/{samp}R1_fastqc/fastqc_report.html"
     ],
     "language": "python",
     "metadata": {},
     "outputs": [
      {
       "output_type": "stream",
       "stream": "stdout",
       "text": [
        "http://eagle.fish.washington.edu/cnidarian/3291_5903_10010_H94MGADXX_HK_CF2_TGACCA_R1_fastqc/fastqc_report.html\r\n"
       ]
      }
     ],
     "prompt_number": 25
    },
    {
     "cell_type": "code",
     "collapsed": false,
     "input": [
      "!sed -n \"/>>Overrepresented/,/>>END_MODULE/p\" /Volumes/web/cnidarian/{samp}R1_fastqc/fastqc_data.txt"
     ],
     "language": "python",
     "metadata": {},
     "outputs": [
      {
       "output_type": "stream",
       "stream": "stdout",
       "text": [
        ">>Overrepresented sequences\twarn\r\n",
        "#Sequence\tCount\tPercentage\tPossible Source\r\n",
        "ACTAGTATGGCCCGGGGGATCCTACGTTCCAAATGCAGCGAGCTCGTATA\t155891\t0.672730828610568\tNo Hit\r\n",
        "ACTGGATGCATCTGCAGGATATCGCGGCCGCTCGACGTAGAACTCAATCT\t139621\t0.6025193950993715\tNo Hit\r\n",
        "GATCCTTATCTGTCAAAACCGCTAATGTCCGTTCTAAGACCGTCTGGAGA\t77254\t0.3333813204962494\tNo Hit\r\n",
        "GATCCTACGTTCCAAATGCAGCGAGCTCGTATAACCCTTTAAGAGTTGCT\t74393\t0.32103498298699723\tNo Hit\r\n",
        "ACTAGTATGGCCCGGGGGATCCTTATCTGTCAAAACCGCTAATGTCCGTT\t66005\t0.2848374719672113\tNo Hit\r\n",
        "TCTGCAGGATATCGCGGCCGCCATCTGCCCTACGTTTGAGGGTTATAAGC\t62344\t0.26903882057910494\tNo Hit\r\n",
        "ACTGGATGCATCTGCAGGATATCGCGGCCGCCATCTGCCCTACGTTTGAG\t61587\t0.2657720685712392\tNo Hit\r\n",
        "TCTGCAGGATATCGCGGCCGCTCGACGTAGAACTCAATCTAAAACTTCGA\t47907\t0.206737501242833\tNo Hit\r\n",
        "GATCGGAAGAGCACACGTCTGAACTCCAGTCACTGACCAATCTCGTATGC\t32998\t0.1423993167180371\tTruSeq Adapter, Index 4 (100% over 50bp)\r\n",
        "CTGCAGGATATCGCGGCCGCCATCTGCCCTACGTTTGAGGGTTATAAGCT\t25885\t0.11170393094267503\tNo Hit\r\n",
        "CTGCAGGATATCGCGGCCGCTCGACGTAGAACTCAATCTAAAACTTCGAT\t24597\t0.10614570559771981\tNo Hit\r\n",
        ">>END_MODULE\r\n"
       ]
      }
     ],
     "prompt_number": 26
    },
    {
     "cell_type": "code",
     "collapsed": false,
     "input": [
      "!/Volumes/Bay3/Software/FastQC/fastqc \\\n",
      "{go}{samp}R2.fastq \\\n",
      "-q \\\n",
      "-o /Volumes/web/cnidarian/"
     ],
     "language": "python",
     "metadata": {},
     "outputs": [],
     "prompt_number": 27
    },
    {
     "cell_type": "code",
     "collapsed": false,
     "input": [
      "!echo http://eagle.fish.washington.edu/cnidarian/{samp}R2_fastqc/fastqc_report.html"
     ],
     "language": "python",
     "metadata": {},
     "outputs": [
      {
       "output_type": "stream",
       "stream": "stdout",
       "text": [
        "http://eagle.fish.washington.edu/cnidarian/3291_5903_10010_H94MGADXX_HK_CF2_TGACCA_R2_fastqc/fastqc_report.html\r\n"
       ]
      }
     ],
     "prompt_number": 28
    },
    {
     "cell_type": "code",
     "collapsed": false,
     "input": [
      "!sed -n \"/>>Overrepresented/,/>>END_MODULE/p\" /Volumes/web/cnidarian/{samp}R2_fastqc/fastqc_data.txt"
     ],
     "language": "python",
     "metadata": {},
     "outputs": [
      {
       "output_type": "stream",
       "stream": "stdout",
       "text": [
        ">>Overrepresented sequences\twarn\r\n",
        "#Sequence\tCount\tPercentage\tPossible Source\r\n",
        "ACTGGATGCATCTGCAGGATATCGCGGCCGCTCGACGTAGAACTCAATCT\t156718\t0.6762996580828334\tNo Hit\r\n",
        "ACTAGTATGGCCCGGGGGATCCTACGTTCCAAATGCAGCGAGCTCGTATA\t137922\t0.5951875434991548\tNo Hit\r\n",
        "GATCCTTATCTGTCAAAACCGCTAATGTCCGTTCTAAGACCGTCTGGAGA\t94192\t0.40647543609628917\tNo Hit\r\n",
        "GATCCTACGTTCCAAATGCAGCGAGCTCGTATAACCCTTTAAGAGTTGCT\t77393\t0.33398116003270034\tNo Hit\r\n",
        "ACTGGATGCATCTGCAGGATATCGCGGCCGCCATCTGCCCTACGTTTGAG\t66861\t0.2885314478175853\tNo Hit\r\n",
        "ACTAGTATGGCCCGGGGGATCCTTATCTGTCAAAACCGCTAATGTCCGTT\t59600\t0.25719738397463515\tNo Hit\r\n",
        "TCTGCAGGATATCGCGGCCGCCATCTGCCCTACGTTTGAGGGTTATAAGC\t47641\t0.20558960687811398\tNo Hit\r\n",
        "TCTGCAGGATATCGCGGCCGCTCGACGTAGAACTCAATCTAAAACTTCGA\t43031\t0.1856956481512169\tNo Hit\r\n",
        "CTGCAGGATATCGCGGCCGCTCGACGTAGAACTCAATCTAAAACTTCGAT\t25938\t0.1119326467371491\tNo Hit\r\n",
        "CTGCAGGATATCGCGGCCGCCATCTGCCCTACGTTTGAGGGTTATAAGCT\t23441\t0.10115711204277554\tNo Hit\r\n",
        ">>END_MODULE\r\n"
       ]
      }
     ],
     "prompt_number": 29
    },
    {
     "cell_type": "heading",
     "level": 3,
     "metadata": {},
     "source": [
      "35"
     ]
    },
    {
     "cell_type": "code",
     "collapsed": false,
     "input": [
      "samp=\"3291_5903_10011_H94MGADXX_HK_CF35_ACAGTG_\""
     ],
     "language": "python",
     "metadata": {},
     "outputs": [],
     "prompt_number": 30
    },
    {
     "cell_type": "code",
     "collapsed": false,
     "input": [
      "!/Volumes/Bay3/Software/FastQC/fastqc \\\n",
      "{go}{samp}R1.fastq \\\n",
      "-q \\\n",
      "-o /Volumes/web/cnidarian/"
     ],
     "language": "python",
     "metadata": {},
     "outputs": [],
     "prompt_number": 31
    },
    {
     "cell_type": "code",
     "collapsed": false,
     "input": [
      "!echo http://eagle.fish.washington.edu/cnidarian/{samp}R1_fastqc/fastqc_report.html"
     ],
     "language": "python",
     "metadata": {},
     "outputs": [
      {
       "output_type": "stream",
       "stream": "stdout",
       "text": [
        "http://eagle.fish.washington.edu/cnidarian/3291_5903_10011_H94MGADXX_HK_CF35_ACAGTG_R1_fastqc/fastqc_report.html\r\n"
       ]
      }
     ],
     "prompt_number": 32
    },
    {
     "cell_type": "code",
     "collapsed": false,
     "input": [
      "!sed -n \"/>>Overrepresented/,/>>END_MODULE/p\" /Volumes/web/cnidarian/{samp}R1_fastqc/fastqc_data.txt"
     ],
     "language": "python",
     "metadata": {},
     "outputs": [
      {
       "output_type": "stream",
       "stream": "stdout",
       "text": [
        ">>Overrepresented sequences\twarn\r\n",
        "#Sequence\tCount\tPercentage\tPossible Source\r\n",
        "CTCCTGTTCACTTTTCTTCCCCAATTCGAGGCTCTACACGCAAATGGCTG\t127163\t0.14611770420352194\tNo Hit\r\n",
        ">>END_MODULE\r\n"
       ]
      }
     ],
     "prompt_number": 33
    },
    {
     "cell_type": "code",
     "collapsed": false,
     "input": [
      "!/Volumes/Bay3/Software/FastQC/fastqc \\\n",
      "{go}{samp}R2.fastq \\\n",
      "-q \\\n",
      "-o /Volumes/web/cnidarian/"
     ],
     "language": "python",
     "metadata": {},
     "outputs": [],
     "prompt_number": 34
    },
    {
     "cell_type": "code",
     "collapsed": false,
     "input": [
      "!echo http://eagle.fish.washington.edu/cnidarian/{samp}R2_fastqc/fastqc_report.html"
     ],
     "language": "python",
     "metadata": {},
     "outputs": [
      {
       "output_type": "stream",
       "stream": "stdout",
       "text": [
        "http://eagle.fish.washington.edu/cnidarian/3291_5903_10011_H94MGADXX_HK_CF35_ACAGTG_R2_fastqc/fastqc_report.html\r\n"
       ]
      }
     ],
     "prompt_number": 35
    },
    {
     "cell_type": "code",
     "collapsed": false,
     "input": [
      "!sed -n \"/>>Overrepresented/,/>>END_MODULE/p\" /Volumes/web/cnidarian/{samp}R2_fastqc/fastqc_data.txt"
     ],
     "language": "python",
     "metadata": {},
     "outputs": [
      {
       "output_type": "stream",
       "stream": "stdout",
       "text": [
        ">>Overrepresented sequences\twarn\r\n",
        "#Sequence\tCount\tPercentage\tPossible Source\r\n",
        "CTCCTGTTCACTTTTCTTCCCCAATTCGAGGCTCTACACGCAAATGGCTG\t126433\t0.145278891623852\tNo Hit\r\n",
        ">>END_MODULE\r\n"
       ]
      }
     ],
     "prompt_number": 36
    },
    {
     "cell_type": "heading",
     "level": 3,
     "metadata": {},
     "source": [
      "70"
     ]
    },
    {
     "cell_type": "code",
     "collapsed": false,
     "input": [
      "samp=\"3291_5903_10012_H94MGADXX_HK_CF70_GCCAAT_\""
     ],
     "language": "python",
     "metadata": {},
     "outputs": [],
     "prompt_number": 37
    },
    {
     "cell_type": "code",
     "collapsed": false,
     "input": [
      "!/Volumes/Bay3/Software/FastQC/fastqc \\\n",
      "{go}{samp}R1.fastq \\\n",
      "-q \\\n",
      "-o /Volumes/web/cnidarian/"
     ],
     "language": "python",
     "metadata": {},
     "outputs": [],
     "prompt_number": 38
    },
    {
     "cell_type": "code",
     "collapsed": false,
     "input": [
      "!echo http://eagle.fish.washington.edu/cnidarian/{samp}R1_fastqc/fastqc_report.html"
     ],
     "language": "python",
     "metadata": {},
     "outputs": [
      {
       "output_type": "stream",
       "stream": "stdout",
       "text": [
        "http://eagle.fish.washington.edu/cnidarian/3291_5903_10012_H94MGADXX_HK_CF70_GCCAAT_R1_fastqc/fastqc_report.html\r\n"
       ]
      }
     ],
     "prompt_number": 39
    },
    {
     "cell_type": "code",
     "collapsed": false,
     "input": [
      "!sed -n \"/>>Overrepresented/,/>>END_MODULE/p\" /Volumes/web/cnidarian/{samp}R1_fastqc/fastqc_data.txt"
     ],
     "language": "python",
     "metadata": {},
     "outputs": [
      {
       "output_type": "stream",
       "stream": "stdout",
       "text": [
        ">>Overrepresented sequences\twarn\r\n",
        "#Sequence\tCount\tPercentage\tPossible Source\r\n",
        "ACTAGTATGGCCCGGGGGATCCTACGTTCCAAATGCAGCGAGCTCGTATA\t32672\t0.273339089807268\tNo Hit\r\n",
        "ACTGGATGCATCTGCAGGATATCGCGGCCGCTCGACGTAGAACTCAATCT\t28987\t0.24250980032576144\tNo Hit\r\n",
        "GATCCTTATCTGTCAAAACCGCTAATGTCCGTTCTAAGACCGTCTGGAGA\t17944\t0.1501223257682914\tNo Hit\r\n",
        "CTCCTGTTCACTTTTCTTCCCCAATTCGAGGCTCTACACGCAAATGGCTG\t17602\t0.14726109998737547\tNo Hit\r\n",
        "GATCGGAAGAGCACACGTCTGAACTCCAGTCACGCCAATATCTCGTATGC\t17453\t0.1460145425565086\tTruSeq Adapter, Index 6 (100% over 50bp)\r\n",
        "TCTGCAGGATATCGCGGCCGCCATCTGCCCTACGTTTGAGGGTTATAAGC\t15369\t0.12857947083888044\tNo Hit\r\n",
        "GATCCTACGTTCCAAATGCAGCGAGCTCGTATAACCCTTTAAGAGTTGCT\t15221\t0.1273412795652677\tNo Hit\r\n",
        "ACTAGTATGGCCCGGGGGATCCTTATCTGTCAAAACCGCTAATGTCCGTT\t14291\t0.11956075331891734\tNo Hit\r\n",
        "ACTGGATGCATCTGCAGGATATCGCGGCCGCCATCTGCCCTACGTTTGAG\t13584\t0.11364588014024023\tNo Hit\r\n",
        ">>END_MODULE\r\n"
       ]
      }
     ],
     "prompt_number": 40
    },
    {
     "cell_type": "code",
     "collapsed": false,
     "input": [
      "!/Volumes/Bay3/Software/FastQC/fastqc \\\n",
      "{go}{samp}R2.fastq \\\n",
      "-q \\\n",
      "-o /Volumes/web/cnidarian/"
     ],
     "language": "python",
     "metadata": {},
     "outputs": [],
     "prompt_number": 41
    },
    {
     "cell_type": "code",
     "collapsed": false,
     "input": [
      "!echo http://eagle.fish.washington.edu/cnidarian/{samp}R2_fastqc/fastqc_report.html"
     ],
     "language": "python",
     "metadata": {},
     "outputs": [
      {
       "output_type": "stream",
       "stream": "stdout",
       "text": [
        "http://eagle.fish.washington.edu/cnidarian/3291_5903_10012_H94MGADXX_HK_CF70_GCCAAT_R2_fastqc/fastqc_report.html\r\n"
       ]
      }
     ],
     "prompt_number": 42
    },
    {
     "cell_type": "code",
     "collapsed": false,
     "input": [
      "!sed -n \"/>>Overrepresented/,/>>END_MODULE/p\" /Volumes/web/cnidarian/{samp}R2_fastqc/fastqc_data.txt"
     ],
     "language": "python",
     "metadata": {},
     "outputs": [
      {
       "output_type": "stream",
       "stream": "stdout",
       "text": [
        ">>Overrepresented sequences\twarn\r\n",
        "#Sequence\tCount\tPercentage\tPossible Source\r\n",
        "ACTGGATGCATCTGCAGGATATCGCGGCCGCTCGACGTAGAACTCAATCT\t32602\t0.2727534587994782\tNo Hit\r\n",
        "ACTAGTATGGCCCGGGGGATCCTACGTTCCAAATGCAGCGAGCTCGTATA\t28397\t0.23757376754581874\tNo Hit\r\n",
        "GATCCTTATCTGTCAAAACCGCTAATGTCCGTTCTAAGACCGTCTGGAGA\t22851\t0.19117505941435728\tNo Hit\r\n",
        "CTCCTGTTCACTTTTCTTCCCCAATTCGAGGCTCTACACGCAAATGGCTG\t18355\t0.153560816399743\tNo Hit\r\n",
        "GATCCTACGTTCCAAATGCAGCGAGCTCGTATAACCCTTTAAGAGTTGCT\t15827\t0.13241117086127666\tNo Hit\r\n",
        "ACTGGATGCATCTGCAGGATATCGCGGCCGCCATCTGCCCTACGTTTGAG\t14383\t0.12033043978629822\tNo Hit\r\n",
        "ACTAGTATGGCCCGGGGGATCCTTATCTGTCAAAACCGCTAATGTCCGTT\t13149\t0.11000660173468924\tNo Hit\r\n",
        ">>END_MODULE\r\n"
       ]
      }
     ],
     "prompt_number": 43
    },
    {
     "cell_type": "code",
     "collapsed": false,
     "input": [],
     "language": "python",
     "metadata": {},
     "outputs": []
    }
   ],
   "metadata": {}
  }
 ]
}