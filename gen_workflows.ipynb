{
 "metadata": {
  "name": "gen_workflows"
 },
 "nbformat": 3,
 "nbformat_minor": 0,
 "worksheets": [
  {
   "cells": [
    {
     "cell_type": "markdown",
     "metadata": {},
     "source": [
      "#General Workflows for Handling Biggish Data"
     ]
    },
    {
     "cell_type": "markdown",
     "metadata": {},
     "source": [
      "##Sequence Data  \n",
      "\n",
      "Files from the core facility are downloaded locally to my computer; \"NGS Drive\".    \n",
      "\n",
      "<img src=\"http://eagle.fish.washington.edu/cnidarian/skitch/NGS_Raw_Data_-_837.8_GB_17A0A4B5.png\" alt=\"NGS_Raw_Data_-_837.8_GB_17A0A4B5.png\"/>   \n",
      "\n",
      "\n",
      "\n",
      "This drive is backuped up in multiple places including   \n",
      "\n",
      "a)\n",
      "\n",
      "\n",
      "---\n",
      "\n",
      "### Primary Analysis\n",
      "\n",
      "<img src=\"http://eagle.fish.washington.edu/cnidarian/skitch/SimpleMind_Free_17A0A687.png\" alt=\"SimpleMind_Free_17A0A687.png\"/>    \n",
      "\n",
      "\n",
      "---\n",
      "###Documentation via IPython Notebook   \n",
      "I have been using for a few months and just started hosting on Github <https://github.com/sr320/ipython_nb>. IPython is great for so many reasons.   \n",
      "\n",
      "_demo_  \n",
      "\n",
      "GitHub is nice given the iterative nature of going back to a notebook, thus having version control?   \n",
      "\n",
      "Here is a recent entry acessible via <http://nbviewer.ipython.org/>\n",
      "\n",
      "\n",
      "<http://nbviewer.ipython.org/urls/raw.github.com/sr320/ipython_nb/master/BlackAb_Annot.ipynb>   \n",
      "    \n",
      "A screencast from early on\n",
      "    \n",
      "<iframe width=\"560\" height=\"315\" src=\"//www.youtube.com/embed/-CYuVDOu_No\" frameborder=\"0\" allowfullscreen></iframe>    \n",
      "    \n",
      "---\n",
      "    \n",
      "### Secondary Analysis\n",
      "Most of the \"secondary\" analysis (which I consider playing with large text files) I try to do within my IPython Notebook or [SQLShare](https://sqlshare.escience.washington.edu/sqlshare/).  I put BLAST in this category and this is accomplished locally on 16 core machine (hummingbird) for big jobs or 4 core machine (greenbird) for light jobs. See example above for how I try to go from IPython to SQLShare. \n",
      "    \n",
      "    \n",
      "---\n",
      "### Pretty Pictures\n",
      "After the secondary analysis, pretty pictures need to be made. Some examples of how this might be done...\n",
      "\n",
      "a) [DAVID](http://david.abcc.ncifcrf.gov/) > [Revigo](http://revigo.irb.hr/)    \n",
      "b) GO table from SQLShare > [GO Categorizer](http://www.animalgenome.org/tools/catego/)    \n",
      "c) [Many Eyes](http://www-958.ibm.com/software/analytics/manyeyes/)   \n",
      "d) R    \n",
      "e)    \n",
      "    \n",
      "    \n"
     ]
    },
    {
     "cell_type": "code",
     "collapsed": false,
     "input": [],
     "language": "python",
     "metadata": {},
     "outputs": []
    }
   ],
   "metadata": {}
  }
 ]
}