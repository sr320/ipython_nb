{
 "metadata": {
  "name": "OlyO_Chi_Exp",
  "signature": "sha256:827b0f385a1e7ce4a6cc9efe03efab96d41f1779c9cef703f441ea600c3b97f4"
 },
 "nbformat": 3,
 "nbformat_minor": 0,
 "worksheets": [
  {
   "cells": [
    {
     "cell_type": "markdown",
     "metadata": {},
     "source": [
      "#Influence of mechanical stress and photoperiod on _Ostrea lurida_\n",
      "Confirming molecular aspects of B. Chi's Capstone Project  \n",
      "\n",
      "--\n",
      "\n",
      "##Primer Design\n",
      "\n",
      "<http://figshare.com/articles/Transcriptome_characterization_of_the_Olympia_oyster_and_pinto_abalone/156431>"
     ]
    },
    {
     "cell_type": "code",
     "collapsed": false,
     "input": [
      "!wget http://eagle.fish.washington.edu/cnidarian/Supp_1_Ostrea_lurida_transcriptome.fasta"
     ],
     "language": "python",
     "metadata": {},
     "outputs": [
      {
       "output_type": "stream",
       "stream": "stdout",
       "text": [
        "--2013-07-12 07:55:37--  http://eagle.fish.washington.edu/cnidarian/Supp_1_Ostrea_lurida_transcriptome.fasta\r\n",
        "Resolving eagle.fish.washington.edu... "
       ]
      },
      {
       "output_type": "stream",
       "stream": "stdout",
       "text": [
        "128.95.149.81\r\n",
        "Connecting to eagle.fish.washington.edu|128.95.149.81|:80... connected.\r\n",
        "HTTP request sent, awaiting response... 200 OK\r\n",
        "Length: 26154986 (25M) [text/plain]\r\n",
        "Saving to: `Supp_1_Ostrea_lurida_transcriptome.fasta'\r\n",
        "\r\n",
        "\r",
        " 0% [                                       ] 0           --.-K/s              "
       ]
      },
      {
       "output_type": "stream",
       "stream": "stdout",
       "text": [
        "\r",
        "30% [==========>                            ] 7,872,512   36.9M/s              "
       ]
      },
      {
       "output_type": "stream",
       "stream": "stdout",
       "text": [
        "\r",
        "54% [====================>                  ] 14,158,672  32.5M/s              "
       ]
      },
      {
       "output_type": "stream",
       "stream": "stdout",
       "text": [
        "\r",
        "98% [=====================================> ] 25,867,368  40.1M/s              \r",
        "100%[======================================>] 26,154,986  40.4M/s   in 0.6s    \r\n",
        "\r\n",
        "2013-07-12 07:55:38 (40.4 MB/s) - `Supp_1_Ostrea_lurida_transcriptome.fasta' saved [26154986/26154986]\r\n",
        "\r\n"
       ]
      }
     ],
     "prompt_number": 15
    },
    {
     "cell_type": "code",
     "collapsed": false,
     "input": [
      "!head /Volumes/web/cnidarian/Supp_1_Ostrea_lurida_transcriptome.fasta"
     ],
     "language": "python",
     "metadata": {},
     "outputs": [
      {
       "output_type": "stream",
       "stream": "stdout",
       "text": [
        ">Ostrea_lur_contig1\r\n",
        "GATTTGACAGCCTCTATTTCTTGATTGGATTTGACAGCCTCTATTTCTTGGACCTGAAGTAGTCATTGAGAACATCCAGGGCTTGAGACTCCTTTCCGTAATCCTTGACTACCACACAGCTGCAGCCAACAACTTTCCTGGCTTTGCCCTCTTTGTCAATCTTACAAAGACCAGACCACTCTCCCAGTTTTTTGTTGTCATCAACCTTCAAAAGGTTGATCCCATGTTCAGCACAGAGTGCTTCCACCAGCTTTACATACATGGGTTCATCGCAGTTGTTGGCAAGAATGCACAAATGAGCTTGACGTTTGTCAAGGGCCTTTGCACACTCATGCAGTCCTTTTGCTAAACCATCGTGAATCATGGCCGTCTTCAGAACTTCCTGGACCGCTGTAAATACGTCCATCGATCCACCCGATACAGTGGGAACATCATCTCCTTCCGCATCCGACATTTTCGCGAAAACGGACGTCCTTAATGATGTTCCAAGAGAAGTT\r\n",
        ">Ostrea_lur_contig2\r\n",
        "ATATTGTCCGTTTTTGCGGCTGTCAGGTGTTTTGAAATGGAAGAAGACCAGATTCAGGTGGCCAACTTTGACGTGAAGCCAGGCGGCGCTCTGCTGTCGTTTGAGAAGGAATGGGACGAAATCACCTGCAGATTTTCATATCGGGCACAGGGTGGAACCAATGAGCTGTGGAATCTGGGAATGGTGCAGAGTAAAGATGGCCGCGATTTCAGCTGCTCTGTAGAACGTCCGAGCGGCCAGTCCTACCTCTTCTTCCAGGCCTTTAAACTGGAAGTGACCGGAATCCCAACTGTAGAAGGGGAAGTCTATGGACCTGGAATGACTCCACTGAAGTCCGAGGAATTCGAATTCGACAAGGCCGCTAATCAAATTACAGAGACCGGGAAGTTCCACTCTCAGCTGGACAAAGTTGTGCTCTATGCCCGAAGGGGAAAATCCGAGTTATAATCCAGCCAAGAATCGAACCATCCAAACTCCTAACAGTTGGCAGTCTACAAAGAGTTCAAATGTTCCAAATTTTGATGACATGTTATTGACACATGTTTTATCTTTGTACTAAAAATGGGGGGATTTTATTGATGATGAAGCAAAATGGCAGCATCAATTTACAAGAGTTTTTCTCATTGAAAAGAATGTAGACTGTAATAGATTTAAAATAGTGTTATCTAAATCAAATTGATGGGAATTATCAGAAGGTGTAAAGTAGAATTGAATGTAGATTTCCTGTGTTGTATACCTTAGGTGTTCAATAGGCTCTGTATTGTAATCGGCATTATAAAAAAAAATCTGGGCCACTACTGTACACAGGGAAATAATTTTCACCTTTGTTATGGGAGGCCAAGATAGGGGAAACTTTTAACCAGAGTTACCTCTCTTTTGACACAACATAAAAATGGGTTGTACCTGTTTACACGTGTAGAAAAGTGAAAATTAAAATAGGTCCAAAACATCCCGTGTGTACAGGTGGTTTAGGTTAAACAGGAAATTAGACTTTCTGTTAATTAATCGCTTTACGGAGGGTAGTAGCTGGAGATTTTTATTTACAGCAACATAAAATGTCAAGTCACATTCAAGCGTCTCGTCTGATGATTGTTCTGTAGCGATTGGGTGTTTGTATGTAATCTATCCTGTAAGGATATTGTATGTAATCTATCCTGTAA\r\n",
        ">Ostrea_lur_contig3\r\n",
        "CCCTCTGTCTGTCCTTCCATGCACGCAGGGGGCCCTTGTTAGGTTTATATTGTACGGTAACTCCATCAGGGATCAGGCGCCCGTCCGCTCTCATCACCTCGTACTGAGGCTTCTCCCACTTAGTGAATCCCCACTTCTTGGACACGTGGATCTTCTGACGTCCGGGGAACTTGAACTTGGCTCTCCTGAGTGCTTCTATCACGGCAGCCTGGTGACTCTCACGAGCACGTACAGACATGATTGGCTGTCCTATGTGTACACGGGCTACGGTGCCTTGTGGTTTACCAAAAGCTCCTCTCATTCCCGTCTGAAGCCTATCGGCTCCAGCGCACGACAACATCTTGTTGATTCTGATGACGTGGAAGGGGTGCACTCGAATTCGCATGTGGAAAGCATCTTTACCACAGTTCTTGACCAAATACTTGTTGGCACAGATACGTCCTGCTTCTAGAGCTTCCGAGGAGAGCTGTTCGTACTCATCAGATACGAGATGCACACACAGGGGGAAGTCATCTACCTTGGCCTTCTTCCTCCCAAGATCAAAAATACGGATCTTTGCATCTGGGACACCTCTACAAAATCTGGACTTCGGATAAGGTTTGTTCTTACAGTACCGGTAACACCGAGCTGGTCGGCGTCCCATTTTGAATTAGAA\r\n",
        ">Ostrea_lur_contig4\r\n",
        "CAAAAATATAAGACAAGCGTAATTAAAACCTACTTTTAAAAATGTACATGCTTTATCTACGATAAGCAATAACTTTTAAGCTACATGTATGATACACATTGTTTAGCAGTTACGATTGCATGTATCTCACTATATCTTTTCTCTATTAGCGCCTTACAGATACTCGTCCCGCTTTCGGTTCATCGGTACTTCTTCCTCCAAATTGTCACTTATTGTCTTGTCTTTGGTTTCCTTCAGCAAAAGGCACGTAATTGCAGAGGCCAACATCACAATAAAACATATTATGTACATTACTCCTGGGTTCTCTTTGTTCACAACAACGAGTTGAGGCGCTATCAAAGCTCCTATACGAGAGATCGAGTTTTGGGTTCCATAACCGATGTTCCTGACGACAGTTGGATACACTTCCGTTGTGAAGGCTATGATGGCAGCCCAAGACGCAGAGACACCAAACTTGGCTGCCAG\r\n",
        ">Ostrea_lur_contig5\r\n",
        "CAGCCCAAGTCGAGTGCATTTGGACGATGGAACATATTGGTCAGAAAGAGCAGCGTTATTTCAAGGAAAATCTCATCGACAAGTGTTTAACGACAGCATGAGCAAGCTCTACTCCAAAATGTACCGGAACGCGCTGCGTCCAGGGCCGATCTGATAGTTTATACCTCAGTAGATTCCTCTCAGCTGTGATATTAGATAGTGTCTGTGTATATTTATGATATTTAGGATAAAAGCTATGTGACTCCAGCCATTTCCTGGCACTAAAAGTTTCACTTCAAAACATATGTTGTCTACCATTTTGTCTATTTTTTTATGTTACTAGTGCTCTGTTAACTTTTGATCAGTGAAATTGTTGGTGGCTTTTGATTTGGGGTCTCGGATTCCGTAACTTTTATCCGTGCTTGTTTTGTGTGACAGTACTCGAGTAGTGTGGCCAGTGACACAGAGTTTGTATGGGGGAGGCGGAGTTATCTCTTGCAGGTATCCCAGGGTTCCTCTTACAGGTATCCCAGGATTCCACCTGGTTACCAAACGTCTGACAAATGAAATAAAGCGTATCTTTTGTTTTTGACTGGGTGTAGAGAATCAAAATGTATAATTGCTCCAATATTACAGGGATGTGTATAGCTTTTCAGATTTTAATATAACAATTCCTATTTCCATAAATGTCTCATTTTAGTGTTTTTTTTATTTTATATAATATGCAGCACAAGCCTACACATGATTATATTAATACGGAATCAGCTGGCTTTTATTGTATCACA\r\n"
       ]
      }
     ],
     "prompt_number": 16
    },
    {
     "cell_type": "code",
     "collapsed": false,
     "input": [
      "!tail /Volumes/web/cnidarian/Supp_1_Ostrea_lurida_transcriptome.fasta"
     ],
     "language": "python",
     "metadata": {},
     "outputs": [
      {
       "output_type": "stream",
       "stream": "stdout",
       "text": [
        ">Ostrea_lur_contig41132\r\n",
        "AAATTTATAGGAATCCCCCGTCCACCCACAACTGAGAAAACAGACTTGTTCGATATTGATTTATCACAATGACCGCAACCTTGAAGTGTGAAGTTTCAGATCATGTAGTACAAATCAAAGAAAAAATAGAAATACAAATGCTTGCAAAATGATTTAGATAATCTACCTATTATCTGAGATATATTTGTGGTAAACTAAGTAGTTCATATTTGATATTTTTGGTAAAAATTCAATTTTATTTCTCTGTTTATTTATTTTATTTTTAAAAGTTAGGATGTATTTTCAATACAGTTT\r\n",
        ">Ostrea_lur_contig41133\r\n",
        "GGCTAATACAATATTGGAATCAGTAAACACCTGTACACAAAGTTTAGTGAAAATATGAAATGGCATGTGTCGGCCTTTGTCTGATTATACACTGGACAGCCTCTTTTTTTAAAATGTTTTTAAAATCATTGGTTCTATTGGGAATTTTACAAGGTCGTTTAGAACATAGACGATTTAGTGCCGATAGAAAAGCACTATAAATGTGCACTGGAGAACACGTCTACAATAAGG\r\n",
        ">Ostrea_lur_contig41134\r\n",
        "ATATGAAAAAACAGACAGTCAATAAGGAAGCTCAATTTGTGCCCATGGGAATTCTAAGATCATGACATCAGTTAATGGCCTTATAATTAACAACAAGGCTACATGTACCCCGTTCAAATGGAAAGTAAACAGATATTAGAGACGGAGCGCTTCAACAGTACTATGTTTTACAGCAAGTTTCATAGAAATGTATATTGTCAGTTTTGATGACGTCATGCATCTTGTCAATTACCTTTACTGCTTCGTCTTTTCC\r\n",
        ">Ostrea_lur_contig41135\r\n",
        "GGTAGATCTATCTAATGTTTGGGCTATCAGCTGGCTATCAATGCAATGATGTTCAGTTCTCTAATAATCACGGAGATAGTTTGTGGAAAAGATAGATTATTCATTCTACGGAAGTTGAAATAGATTGATCTATTCATTTCTAAATGTAATCAGGTGATTAGAGGTTTAGTTATACTGATTTAATGTATTCCTGTCAAACAGGTACCCGATGGCTACCTATCA\r\n",
        ">Ostrea_lur_contig41136\r\n",
        "TTTATAAACCTGTAAAATAAGTTTATTCACCAATCGTGGACCCTTTACATGCAATCGTCTAAAACCATTGCCGTTCAATATAGGTATCATCTAGATTTGAAAGTTTGATTTCAGTATTACCGATTTAGCATGGATTATACTGATCTCAAACCGGCCACGATTGTTCTATGGTGACGTCTCCATATGAGTGAAATATTCTCGAGTGGGACGTAAAACAATAA\r\n"
       ]
      }
     ],
     "prompt_number": 17
    },
    {
     "cell_type": "code",
     "collapsed": false,
     "input": [
      "!tail /Users/sr320/Desktop/0001_DataS1.fa"
     ],
     "language": "python",
     "metadata": {},
     "outputs": [
      {
       "output_type": "stream",
       "stream": "stdout",
       "text": [
        ">Ostrea_lur_contig41132\r\n",
        "AAATTTATAGGAATCCCCCGTCCACCCACAACTGAGAAAACAGACTTGTTCGATATTGATTTATCACAATGACCGCAACCTTGAAGTGTGAAGTTTCAGATCATGTAGTACAAATCAAAGAAAAAATAGAAATACAAATGCTTGCAAAATGATTTAGATAATCTACCTATTATCTGAGATATATTTGTGGTAAACTAAGTAGTTCATATTTGATATTTTTGGTAAAAATTCAATTTTATTTCTCTGTTTATTTATTTTATTTTTAAAAGTTAGGATGTATTTTCAATACAGTTT\r\n",
        ">Ostrea_lur_contig41133\r\n",
        "GGCTAATACAATATTGGAATCAGTAAACACCTGTACACAAAGTTTAGTGAAAATATGAAATGGCATGTGTCGGCCTTTGTCTGATTATACACTGGACAGCCTCTTTTTTTAAAATGTTTTTAAAATCATTGGTTCTATTGGGAATTTTACAAGGTCGTTTAGAACATAGACGATTTAGTGCCGATAGAAAAGCACTATAAATGTGCACTGGAGAACACGTCTACAATAAGG\r\n",
        ">Ostrea_lur_contig41134\r\n",
        "ATATGAAAAAACAGACAGTCAATAAGGAAGCTCAATTTGTGCCCATGGGAATTCTAAGATCATGACATCAGTTAATGGCCTTATAATTAACAACAAGGCTACATGTACCCCGTTCAAATGGAAAGTAAACAGATATTAGAGACGGAGCGCTTCAACAGTACTATGTTTTACAGCAAGTTTCATAGAAATGTATATTGTCAGTTTTGATGACGTCATGCATCTTGTCAATTACCTTTACTGCTTCGTCTTTTCC\r\n",
        ">Ostrea_lur_contig41135\r\n",
        "GGTAGATCTATCTAATGTTTGGGCTATCAGCTGGCTATCAATGCAATGATGTTCAGTTCTCTAATAATCACGGAGATAGTTTGTGGAAAAGATAGATTATTCATTCTACGGAAGTTGAAATAGATTGATCTATTCATTTCTAAATGTAATCAGGTGATTAGAGGTTTAGTTATACTGATTTAATGTATTCCTGTCAAACAGGTACCCGATGGCTACCTATCA\r\n",
        ">Ostrea_lur_contig41136\r\n",
        "TTTATAAACCTGTAAAATAAGTTTATTCACCAATCGTGGACCCTTTACATGCAATCGTCTAAAACCATTGCCGTTCAATATAGGTATCATCTAGATTTGAAAGTTTGATTTCAGTATTACCGATTTAGCATGGATTATACTGATCTCAAACCGGCCACGATTGTTCTATGGTGACGTCTCCATATGAGTGAAATATTCTCGAGTGGGACGTAAAACAATAA\r\n"
       ]
      }
     ],
     "prompt_number": 18
    },
    {
     "cell_type": "code",
     "collapsed": false,
     "input": [
      "#confirmed file in question was published on Figshare and MER Notes. "
     ],
     "language": "python",
     "metadata": {},
     "outputs": [],
     "prompt_number": 19
    },
    {
     "cell_type": "markdown",
     "metadata": {},
     "source": [
      "<iframe src=\"https://docs.google.com/file/d/0B9V_gF766XZAWHRicWg1bEgwTGs/preview\" width=\"640\" height=\"480\"></iframe>"
     ]
    },
    {
     "cell_type": "code",
     "collapsed": false,
     "input": [
      "#not looking good re the word doc and the data.\n",
      "#will try to blast primers as independant verification"
     ],
     "language": "python",
     "metadata": {},
     "outputs": [],
     "prompt_number": 31
    },
    {
     "cell_type": "code",
     "collapsed": false,
     "input": [
      "!makeblastdb -in /Volumes/web/cnidarian/Supp_1_Ostrea_lurida_transcriptome.fasta -dbtype nucl -out /Volumes/Bay3/Software/ncbi-blast-2.2.27\\+/db/OlyO_transcriptome_v1"
     ],
     "language": "python",
     "metadata": {},
     "outputs": [
      {
       "output_type": "stream",
       "stream": "stdout",
       "text": [
        "\r\n",
        "\r\n",
        "Building a new DB, current time: 07/12/2013 08:23:28\r\n",
        "New DB name:   /Volumes/Bay3/Software/ncbi-blast-2.2.27+/db/OlyO_transcriptome_v1\r\n",
        "New DB title:  /Volumes/web/cnidarian/Supp_1_Ostrea_lurida_transcriptome.fasta\r\n",
        "Sequence type: Nucleotide\r\n",
        "Keep Linkouts: T\r\n",
        "Keep MBits: T\r\n",
        "Maximum file size: 1000000000B\r\n"
       ]
      },
      {
       "output_type": "stream",
       "stream": "stdout",
       "text": [
        "Adding sequences from FASTA; added 41136 sequences in 2.70528 seconds.\r\n"
       ]
      }
     ],
     "prompt_number": 39
    },
    {
     "cell_type": "code",
     "collapsed": false,
     "input": [
      "#query sequence needs to be primers"
     ],
     "language": "python",
     "metadata": {},
     "outputs": [],
     "prompt_number": 40
    },
    {
     "cell_type": "code",
     "collapsed": false,
     "input": [
      "!blastn -query /Volumes/web/cnidarian/OlyO_Chi_primers.fa -db /Volumes/Bay3/Software/ncbi-blast-2.2.27\\+/db/OlyO_transcriptome_v1 -out /Volumes/web/cnidarian/OlyO_Chi_primers_blastn1 -word_size 20 -outfmt 6  "
     ],
     "language": "python",
     "metadata": {},
     "outputs": [],
     "prompt_number": 48
    },
    {
     "cell_type": "code",
     "collapsed": false,
     "input": [
      "!head /Volumes/web/cnidarian/OlyO_Chi_primers_blastn1"
     ],
     "language": "python",
     "metadata": {},
     "outputs": [
      {
       "output_type": "stream",
       "stream": "stdout",
       "text": [
        "BagF\tOstrea_lur_contig28411\t100.00\t20\t0\t0\t1\t20\t308\t327\t3e-04\t38.1\r\n",
        "BagR\tOstrea_lur_contig28411\t100.00\t22\t0\t0\t1\t22\t408\t387\t3e-05\t41.7\r\n",
        "HspF\tOstrea_lur_contig402\t100.00\t20\t0\t0\t1\t20\t1879\t1898\t3e-04\t38.1\r\n",
        "HspR\tOstrea_lur_contig402\t100.00\t20\t0\t0\t1\t20\t2027\t2008\t3e-04\t38.1\r\n",
        "U2aF\tOstrea_lur_contig2667\t100.00\t20\t0\t0\t1\t20\t638\t657\t3e-04\t38.1\r\n",
        "U2aR\tOstrea_lur_contig2667\t100.00\t20\t0\t0\t1\t20\t767\t748\t3e-04\t38.1\r\n",
        "PygmF\tOstrea_lur_contig95\t100.00\t20\t0\t0\t1\t20\t912\t931\t3e-04\t38.1\r\n",
        "PygmR\tOstrea_lur_contig95\t100.00\t20\t0\t0\t1\t20\t1042\t1023\t3e-04\t38.1\r\n",
        "IgfrF\tOstrea_lur_contig16177\t100.00\t20\t0\t0\t1\t20\t1997\t2016\t3e-04\t38.1\r\n",
        "IgfrR\tOstrea_lur_contig16177\t100.00\t20\t0\t0\t1\t20\t2097\t2078\t3e-04\t38.1\r\n"
       ]
      }
     ],
     "prompt_number": 49
    },
    {
     "cell_type": "code",
     "collapsed": false,
     "input": [
      "!grep \"Ostrea_lur_contig28411\" /Volumes/web/cnidarian/Supp_3_Ost_lurida_SPIDs.txt"
     ],
     "language": "python",
     "metadata": {},
     "outputs": [
      {
       "output_type": "stream",
       "stream": "stdout",
       "text": [
        "Ostrea_lur_contig28411\tQ3ZBG5\t9.00E-21\tBAG2_BOVIN BAG family molecular chaperone regulator 2 OS=Bos taurus PE=2 SV=1\r\n"
       ]
      }
     ],
     "prompt_number": 68
    },
    {
     "cell_type": "code",
     "collapsed": false,
     "input": [
      "!grep -w \"Ostrea_lur_contig402\" /Volumes/web/cnidarian/Supp_3_Ost_lurida_SPIDs.txt\n",
      "#need exact mactch to exclude 402X -w"
     ],
     "language": "python",
     "metadata": {},
     "outputs": [
      {
       "output_type": "stream",
       "stream": "stdout",
       "text": [
        "Ostrea_lur_contig402\tQ9GKX8\t0\tHS90B_HORSE Heat shock protein HSP 90-beta OS=Equus caballus GN=HSP90AB1 PE=2 SV=3\r\n"
       ]
      }
     ],
     "prompt_number": 73
    },
    {
     "cell_type": "code",
     "collapsed": false,
     "input": [
      "!grep -w \"Ostrea_lur_contig2667\" /Volumes/web/cnidarian/Supp_3_Ost_lurida_SPIDs.txt"
     ],
     "language": "python",
     "metadata": {},
     "outputs": [
      {
       "output_type": "stream",
       "stream": "stdout",
       "text": [
        "Ostrea_lur_contig2667\tQ3T127\t3.00E-104\tU2AF4_BOVIN Splicing factor U2AF 26 kDa subunit OS=Bos taurus GN=U2AF1L4 PE=2 SV=1\r\n"
       ]
      }
     ],
     "prompt_number": 74
    },
    {
     "cell_type": "code",
     "collapsed": false,
     "input": [
      "!grep -w \"Ostrea_lur_contig95\" /Volumes/web/cnidarian/Supp_3_Ost_lurida_SPIDs.txt"
     ],
     "language": "python",
     "metadata": {},
     "outputs": [
      {
       "output_type": "stream",
       "stream": "stdout",
       "text": [
        "Ostrea_lur_contig95\tQ9WUB3\t0\t\"PYGM_MOUSE Glycogen phosphorylase, muscle form OS=Mus musculus GN=Pygm PE=1 SV=3\"\r\n"
       ]
      }
     ],
     "prompt_number": 75
    },
    {
     "cell_type": "code",
     "collapsed": false,
     "input": [
      "!grep -w \"Ostrea_lur_contig16177\" /Volumes/web/cnidarian/Supp_3_Ost_lurida_SPIDs.txt"
     ],
     "language": "python",
     "metadata": {},
     "outputs": [
      {
       "output_type": "stream",
       "stream": "stdout",
       "text": [
        "Ostrea_lur_contig16177\tQ05688\t1.00E-138\tIGF1R_BOVIN Insulin-like growth factor 1 receptor (Fragment) OS=Bos taurus GN=IGF1R PE=2 SV=1\r\n"
       ]
      }
     ],
     "prompt_number": 76
    },
    {
     "cell_type": "code",
     "collapsed": false,
     "input": [],
     "language": "python",
     "metadata": {},
     "outputs": []
    }
   ],
   "metadata": {}
  }
 ]
}