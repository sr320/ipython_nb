{
 "metadata": {
  "name": "BiGo_core_analysis"
 },
 "nbformat": 3,
 "nbformat_minor": 0,
 "worksheets": [
  {
   "cells": [
    {
     "cell_type": "markdown",
     "metadata": {},
     "source": [
      "#Examining basic parameters of sperm methylation based on methratio file."
     ]
    },
    {
     "cell_type": "markdown",
     "metadata": {},
     "source": [
      "This is an analysis of the basic information provided in the methratio output detailed elsewhere\n",
      "\n",
      "<https://github.com/uwescience/sqlshare/wiki/Workflow:-Analysis-of-BSMAP-data>\n",
      "\n",
      "<hr>\n",
      "    <img src=\"https://www.evernote.com/shard/s10/sh/8a33d7a0-b05a-491b-a445-9ec0345056ae/5207ebd0608264195e9bb99b5f042f37/deep/0/Screenshot%205/28/13%2012:51%20PM.png\" alt=\"Screenshot%205/28/13%2012:51%20PM\" width=30% />\n",
      "    <hr>\n",
      "    Initially sequencing reads, in this case from oyster sperm, are mapped to the genome using BS-MAP.\n",
      "\n",
      "```\n",
      "./bsmap -a /Volumes/betty/filtered_174gm_A_NoIndex_L006_R1.fastq.gz -b /Volumes/betty/filtered_174gm_A_NoIndex_L006_R2.fastq.gz -d /Volumes/betty/oyster_v9.fa -o /Volumes/betty/BiGO_Betty_plain.sam -p 4\n",
      "```\n",
      "\n",
      "_output_:  \n",
      "Total number of aligned reads:  \n",
      "pairs:       90102067 (53%)  \n",
      "single a:    17033002 (9.9%)  \n",
      "single b:    15975991 (9.3%)  \n",
      "\n",
      "<http://eagle.fish.washington.edu/cnidarian/BiGO_Betty_plain.sam>\n",
      "\n",
      "\n",
      "Resulting SAM file then subjected to methratio python script\n",
      "\n",
      "    python methratio.py -d /Volumes/betty/oyster_v9.fa -u -z -g -o  /Volumes/betty/BiGO_betty_plain_methratio_v1.txt -s /Volumes/Bay3/Software/BSMAP/bsmap-2.73/samtools /Volumes/betty/BiGO_Betty_plain.sam\n",
      "    \n",
      "_output_:  \n",
      "total 167774088 valid mappings, 127192776 covered cytosines, average coverage: 13.23 fold.\n",
      "\n",
      "<http://eagle.fish.washington.edu/cnidarian/BiGO_betty_plain_methratio_v1.txt>\n",
      "\n",
      "**See also [this evernote page](https://www.evernote.com/shard/s10/sh/7764b2a3-2c69-4a92-a4c2-a251fc93b987/de649b2cd0decda57e0400644dc891f5)**\n",
      "    \n",
      "    \n",
      "The file was uploaded to SQLShare using python script  \n",
      "    \n",
      "    python singleupload.py sr320@washington.edu c8APIKEYAPIKEYAPIKEY5c15c /Volumes/web/cnidarian/BiGO_betty_plain_methratio_v1.txt"
     ]
    },
    {
     "cell_type": "code",
     "collapsed": false,
     "input": [
      "!head /Volumes/web/cnidarian/BiGO_betty_plain_methratio_v1.txt"
     ],
     "language": "python",
     "metadata": {},
     "outputs": [
      {
       "output_type": "stream",
       "stream": "stdout",
       "text": [
        "chr\tpos\tstrand\tcontext\tratio\teff_CT_count\tC_count\tCT_count\trev_G_count\trev_GA_count\tCI_lower\tCI_upper\r\n",
        "C10003\t71\t-\tGAGAA\t0.000\t1.00\t0\t1\t1\t1\t0.000\t0.793\r\n",
        "C10003\t76\t-\tAAGGT\t0.000\t1.00\t0\t1\t1\t1\t0.000\t0.793\r\n",
        "C10003\t77\t-\tAGGTA\t0.000\t1.00\t0\t1\t1\t1\t0.000\t0.793\r\n",
        "C10003\t80\t+\tTACAT\t0.000\t1.00\t0\t1\t1\t1\t0.000\t0.793\r\n",
        "C10003\t83\t-\tATGTA\t0.000\t2.00\t0\t2\t1\t1\t0.000\t0.658\r\n",
        "C10003\t90\t+\tAACTA\t0.000\t1.00\t0\t1\t2\t2\t0.000\t0.793\r\n",
        "C10003\t94\t+\tATCAT\t0.000\t1.00\t0\t1\t2\t2\t0.000\t0.793\r\n",
        "C10003\t98\t-\tTTGAG\t0.000\t2.00\t0\t2\t1\t1\t0.000\t0.658\r\n",
        "C10003\t100\t-\tGAGAA\t0.000\t2.00\t0\t2\t1\t1\t0.000\t0.658\r\n"
       ]
      }
     ],
     "prompt_number": 1
    },
    {
     "cell_type": "markdown",
     "metadata": {},
     "source": [
      "<hr>\n",
      "<https://sqlshare.escience.washington.edu/sqlshare#s=query/sr320%40washington.edu/BiGO_betty_plain_methratio_v1.txt>"
     ]
    },
    {
     "cell_type": "markdown",
     "metadata": {},
     "source": [
      "<hr>\n",
      "<img src=\"https://www.evernote.com/shard/s10/sh/f1c4796b-c52d-4814-b2a6-b8063eb08612/25a5f2aedc71fd2813bd10c81f5a40ba/deep/0/Screenshot%205/28/13%2012:56%20PM.png\" alt=\"Screenshot%205/28/13%2012:56%20PM\" width=30% />\n",
      "\n",
      "\n",
      "There are 127,192,776 rows of data\n",
      "\n",
      "\n"
     ]
    },
    {
     "cell_type": "code",
     "collapsed": false,
     "input": [
      "import pandas as pd"
     ],
     "language": "python",
     "metadata": {},
     "outputs": [],
     "prompt_number": 2
    },
    {
     "cell_type": "code",
     "collapsed": false,
     "input": [
      "!tr ',' \"\\t\" </Volumes/web/cnidarian/BiGO_betty_plain_methratio_v1.txt> /Volumes/web/cnidarian/BiGO_betty_plain_methratio_v1.csv"
     ],
     "language": "python",
     "metadata": {},
     "outputs": []
    },
    {
     "cell_type": "markdown",
     "metadata": {},
     "source": [
      "<hr>\n",
      "\n",
      "```\n",
      "Select count(*) from\n",
      "  (\n",
      "SELECT \n",
      "  * \n",
      "  FROM [sr320@washington.edu].[BiGO_betty_plain_methratio_v1.txt]\n",
      "  Where CT_count >=10\n",
      "  \u200b) pls\u200b\n",
      "```\n",
      "<hr>\n",
      "74,663,926\n",
      "<hr>\n",
      "```\n",
      "Select count(*) from\n",
      "  (\n",
      "SELECT \n",
      "  * \n",
      "  FROM [sr320@washington.edu].[BiGO_betty_plain_methratio_v1.txt]\n",
      "  Where CT_count >=5\n",
      "  \u200b) pls\u200b\n",
      "```\n",
      "<hr>\n",
      "104,500,062\n",
      "<hr>\n",
      "```\n",
      "Select count(*) from\n",
      "  (\n",
      "SELECT \n",
      "  * \n",
      "  FROM [sr320@washington.edu].[BiGO_betty_plain_methratio_v1.txt]\n",
      "  Where CT_count >=5\n",
      "  and context like '__CG_'\n",
      "  \u200b) pls\u200b\u200b\u200b\u200b\u200b\n",
      "```\n",
      "<hr>\n",
      "7,648,304\n",
      "<hr>\n",
      "```\n",
      "Select count(*) from\n",
      "  (\n",
      "SELECT \n",
      "  * \n",
      "  FROM [sr320@washington.edu].[BiGO_betty_plain_methratio_v1.txt]\n",
      "  Where CT_count >=5\n",
      "  and context like '__CA_'\n",
      "  and strand = '+'\n",
      "  ) pls\u200b\u200b\u200b\n",
      "```\n",
      "<hr>\n",
      "21678289\n",
      "<hr>\n"
     ]
    },
    {
     "cell_type": "code",
     "collapsed": false,
     "input": [],
     "language": "python",
     "metadata": {},
     "outputs": []
    }
   ],
   "metadata": {}
  }
 ]
}