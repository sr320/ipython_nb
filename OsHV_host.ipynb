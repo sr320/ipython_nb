{
 "metadata": {
  "name": "",
  "signature": "sha256:daca025075ea76c53f1aebabcab7c2d58040f14d10a54d74a6a7da0a763edd5b"
 },
 "nbformat": 3,
 "nbformat_minor": 0,
 "worksheets": [
  {
   "cells": [
    {
     "cell_type": "markdown",
     "metadata": {},
     "source": [
      "#Larval Transcriptome of OsHV exposed oysters\n",
      "A re-examination of Cgigas larval transcriptome using genome.\n",
      "\n",
      "\n",
      "\n",
      "---\n",
      "Solid Files --  http://eagle.fish.washington.edu/whale/index.php?dir=GE%2Freads%2F  \n",
      "\n",
      "Importing into CLCv6\n",
      "\n",
      "###Quality trim  \n",
      "`\n",
      "          Ambiguous trim = Yes\n",
      "          Ambiguous limit = 2\n",
      "          Quality trim = Yes\n",
      "          Quality limit = 0.05\n",
      "          Create report = Yes\n",
      "          Save discarded sequences = No\n",
      "          Remove 5' terminal nucleotides = No\n",
      "          Minimum number of nucleotides in reads = 20\n",
      "          Discard short reads = Yes\n",
      "          Remove 3' terminal nucleotides = No\n",
      "          Discard long reads = No\n",
      "          Save broken pairs = No\n",
      "`\n",
      "\n",
      "<img src=\"https://www.evernote.com/shard/s10/sh/9ab43f0b-4bc5-495c-8cf2-52eb042f749c/d421b659a73e8203728b006f0c9e5f53/deep/0/CLC%20Genomics%20Workbench%206.0.2.png\" alt=\"CLC%20Genomics%20Workbench%206.0.2\" height =\"480\" />\n",
      "\n",
      "###QC Report\n",
      "\n",
      "<https://docs.google.com/file/d/0B9V_gF766XZAQXp4OE45VXc0U00/preview>\n",
      "\n",
      "###Mapping to Transcriptome\n",
      "\n",
      "RNA-seq to genes\n",
      "\n",
      "Parameters  \n",
      "\n",
      "`\n",
      "          Use strand specific assembly = No\n",
      "          Create report = Yes\n",
      "          References = oyster_v9_gene\n",
      "          Count paired reads as two = No\n",
      "          Use colorspace encoding = Yes\n",
      "          Minimum number of reads = 10\n",
      "          Additional upstream bases = 0\n",
      "          Minimum read count fusion gene table = 5\n",
      "          Minimum length of putative exons = 25\n",
      "          Minimum exon coverage fraction = 0.2\n",
      "          Minimum length fraction (long reads) = 0.9\n",
      "          Use annotations for gene and transcript identification = No\n",
      "          Create fusion gene table = No\n",
      "          Expression value = TOTAL_GENE_COUNT\n",
      "          Minimum similarity fraction = 0.8\n",
      "          Expression level = Genes\n",
      "          Create list of unmapped reads = No\n",
      "          Unspecific match limit = 5\n",
      "          Exon discovery = No\n",
      "          Organism type = PROKARYOTE\n",
      "          Additional downstream bases = 0\n",
      "          Maximum paired distance = 250\n",
      "          Minimum paired distance = 180\n",
      "          Strand = Forward\n",
      "          Maximum number of mismatches allowed (applies to short reads) = 2\n",
      "          Expression value = Number of reads mapped to the gene\n",
      "`  \n",
      "\n",
      "\n",
      "<img src=\"https://www.evernote.com/shard/s10/sh/fb71e97b-c53d-4b00-8455-5e26d6e627c0/7b7a68841d9fc9d9a1993bec39b9038b/deep/0/CLC%20Genomics%20Workbench%206.0.2.png\" alt=\"CLC%20Genomics%20Workbench%206.0.2\" height =\"480\"  />\n",
      "\n",
      "\n"
     ]
    },
    {
     "cell_type": "code",
     "collapsed": false,
     "input": [
      "#tab delim RNA-Seq file\n",
      "!head /Volumes/web/cnidarian/solid0078_20091105_RobertsLab_GE_F3\\ trimmed\\ RNA-Seq.txt"
     ],
     "language": "python",
     "metadata": {},
     "outputs": [
      {
       "output_type": "stream",
       "stream": "stdout",
       "text": [
        "\"Feature ID\"\t\"Expression values\"\t\"Gene length\"\t\"Unique gene reads\"\t\"Total gene reads\"\t\"RPKM\"\r\n",
        "CGI_10000780\t2\t1350\t2\t2\t0.272\r\n",
        "CGI_10000456\t28\t438\t18\t28\t11.735\r\n",
        "CGI_10000457\t5\t603\t4\t5\t1.522\r\n",
        "CGI_10000774\t1\t375\t1\t1\t0.49\r\n",
        "CGI_10000917\t2\t426\t2\t2\t0.862\r\n",
        "CGI_10000861\t7\t2004\t7\t7\t0.641\r\n",
        "CGI_10000994\t96\t1635\t74\t96\t10.779\r\n",
        "CGI_10000643\t0\t552\t0\t0\t0\r\n",
        "CGI_10000763\t4\t249\t4\t4\t2.949\r\n"
       ]
      }
     ],
     "prompt_number": 3
    },
    {
     "cell_type": "code",
     "collapsed": false,
     "input": [
      "#SAM output\n",
      "!head /Volumes/web/cnidarian/solid0078_20091105_RobertsLab_GE_F3_tr_RNA-Seq.sam"
     ],
     "language": "python",
     "metadata": {},
     "outputs": [
      {
       "output_type": "stream",
       "stream": "stdout",
       "text": [
        "@HD\tVN:1.0\tSO:unsorted\r\n",
        "@SQ\tSN:CGI_10000780\tLN:1350\r\n",
        "@SQ\tSN:CGI_10000456\tLN:438\r\n",
        "@SQ\tSN:CGI_10000457\tLN:603\r\n",
        "@SQ\tSN:CGI_10000774\tLN:375\r\n",
        "@SQ\tSN:CGI_10000917\tLN:426\r\n",
        "@SQ\tSN:CGI_10000861\tLN:2004\r\n",
        "@SQ\tSN:CGI_10000994\tLN:1635\r\n",
        "@SQ\tSN:CGI_10000643\tLN:552\r\n",
        "@SQ\tSN:CGI_10000763\tLN:249\r\n"
       ]
      }
     ],
     "prompt_number": 5
    },
    {
     "cell_type": "code",
     "collapsed": false,
     "input": [
      "#SAM output\n",
      "!tail /Volumes/web/cnidarian/solid0078_20091105_RobertsLab_GE_F3_tr_RNA-Seq.sam"
     ],
     "language": "python",
     "metadata": {},
     "outputs": [
      {
       "output_type": "stream",
       "stream": "stdout",
       "text": [
        "read_5447380\t0\tCGI_10003117\t263\t60\t50M\t*\t0\t0\tCCTCGCATTGGAAAACCCCAGTGTTTGGGTGGGTGTCACAAGAGGAAGAA\t@A@?B=AA;@BB@:@<BA?:?B=:92?3;@?>:;<=2;>6:?98>:77/7\tNH:i:1\tCS:Z:T20223313010200010001211100100110011121110222020220\r\n",
        "read_5447381\t0\tCGI_10003117\t357\t60\t48M\t*\t0\t0\tACCATTGAATCGATTTCCAAATGTGATGTTCCATCTGCAGTCCCTCTT\tB@B@BA?ABBAAABAABBA@5A@?@ABA>AAB@=?AB@?@7@@8@?@5\tNH:i:1\tCS:Z:T310130120323230020100311123110201322131212002220\r\n",
        "read_5447382\t0\tCGI_10003117\t375\t60\t44M\t*\t0\t0\tAAATGTGATGTTCCATCTGCAGTCCCTCTTTAAATGGTCACAGT\t@?BB@@BABB>B@A??BBB9=B:B@@AAB<59>@><@>A?>?<:\tNH:i:1\tCS:Z:T30031112311020132213121200222003003101211121\r\n",
        "read_5447383\t0\tCGI_10003117\t375\t60\t44M\t*\t0\t0\tAAATGTGATGTTCCATCTGCAGTCCCTCTTTAAATGGTCACAGT\t>@BB@?BBBA<BAA=ABAB<=@;>>@B>@<78?@=9@?A>>?;;\tNH:i:1\tCS:Z:T30031112311020132213121200222003003101211121\r\n",
        "read_5447384\t0\tCGI_10003117\t375\t60\t44M\t*\t0\t0\tAAATGTGATGTTCCATCTGCAGTCCCTCTTTAAATGGTCACAGT\t@BB@@>@BAA=@@B?=B@B::@>5==?@@=/*?B81>;AA?@:7\tNH:i:1\tCS:Z:T30031112311020132213121200222003003101211121\r\n",
        "read_5447385\t0\tCGI_10003117\t507\t60\t29M\t*\t0\t0\tGATGAATTGGTATAACATTGTCAACTCTT\tBBB?<@BBA=@BA?>=AA@;6@?<:8AA/\tNH:i:1\tCS:Z:T12312030101333011301121012220\r\n",
        "read_5447386\t0\tCGI_10003117\t609\t60\t3S35M\t*\t0\t0\tAGCACAGATCCAAACTGGAATTTACCAGAACCGCCAGA\tBBBABBBABBBB>BA>@??BB@?AB@B<3@A>=9AA>=\tNH:i:1\tCS:Z:T32311122320100121020300310122010330122\r\n",
        "read_5447387\t0\tCGI_10003117\t609\t60\t3S47M\t*\t0\t0\tAGCACAAATCCAAACTGGAATTTACCAGAACCGCCAGAAGAATACATCCC\tBBBABAA=BBBA@?B@=@?AB??BA?@<;A@:>=@>8:7@=><=@=<5;?\tNH:i:1\tCS:Z:T32311100320100121020300310122010330122022033113200\r\n",
        "read_5447388\t0\tCGI_10003117\t609\t60\t3S35M\t*\t0\t0\tAGCACAGATCCAAACTGGAATTTACCAGAACCGCCAGA\tBBBBBBB@BBBBBB@B?BBBBB@BB@@==BA;A>AA@=\tNH:i:1\tCS:Z:T32311122320100121020300310122010330122\r\n",
        "read_5447389\t0\tCGI_10003117\t609\t60\t48M2S\t*\t0\t0\tACAGATCCAAACTGGAATTTACCAGAACCGCCAGAAGAATACATCCCCCC\tBA@BBBBAB@BBAAB>ABB?BAA??>;=??>A>=97<?>@@AA537<;@=\tNH:i:1\tCS:Z:T31122320100121020300310122010330122022033113200000\r\n"
       ]
      }
     ],
     "prompt_number": 8
    },
    {
     "cell_type": "code",
     "collapsed": false,
     "input": [
      "#Lets figure out a way to visualize what genes are expressed\n",
      "#Take RNA-seq file import into SQLShare\n",
      "#imported /Volumes/web/cnidarian/solid0078_20091105_RobertsLab_GE_F3\\ trimmed\\ RNA-Seq.txt\n",
      "#cleaned up\n"
     ],
     "language": "python",
     "metadata": {},
     "outputs": [],
     "prompt_number": 39
    },
    {
     "cell_type": "markdown",
     "metadata": {},
     "source": [
      "<img src=\"https://www.evernote.com/shard/s10/sh/5a9822f0-10d8-4d86-9141-a57e66ff0042/63cd49b619703e1d86951b471b8bad60/deep/0/SQLShare%20-%20View%20Query.png\" alt=\"SQLShare%20-%20View%20Query\" />   \n",
      "\n",
      "<https://sqlshare.escience.washington.edu/sqlshare#s=query/sr320%40washington.edu/solid0078_20091105_RobertsLab_GE_F3%20trimmed%20RNA-Seq.txt>"
     ]
    },
    {
     "cell_type": "code",
     "collapsed": false,
     "input": [
      "#joining with annotation data.\n",
      "#create generic SQLShare Wiki workflow.\n"
     ],
     "language": "python",
     "metadata": {},
     "outputs": [],
     "prompt_number": 42
    },
    {
     "cell_type": "markdown",
     "metadata": {},
     "source": [
      "<https://github.com/uwescience/sqlshare/wiki/Workflow%3A-Annotating-Oyster-Genes>\n",
      "    \n",
      "---    "
     ]
    },
    {
     "cell_type": "markdown",
     "metadata": {},
     "source": [
      "<http://eagle.fish.washington.edu/cnidarian/OsHV_larvae_RNAseq_UR10.txt>"
     ]
    },
    {
     "cell_type": "code",
     "collapsed": false,
     "input": [
      "!head /Volumes/web/cnidarian/Cgigas_larvae_RNAseq_OsHV_GO.csv"
     ],
     "language": "python",
     "metadata": {},
     "outputs": [
      {
       "output_type": "stream",
       "stream": "stdout",
       "text": [
        "ID,SPID1,GOID,term,aspect\r",
        "\r\n",
        "CGI_10023548,A0AVK6,GO:0003677,DNA binding,F\r",
        "\r\n",
        "CGI_10023548,A0AVK6,GO:0003700,transcription factor activity,F\r",
        "\r\n",
        "CGI_10023548,A0AVK6,GO:0005634,nucleus,C\r",
        "\r\n",
        "CGI_10023548,A0AVK6,GO:0005667,transcription factor complex,C\r",
        "\r\n",
        "CGI_10023548,A0AVK6,GO:0006351,\"\"\"transcription, DNA-dependent\"\"\",P\r",
        "\r\n",
        "CGI_10023548,A0AVK6,GO:0006355,\"\"\"regulation of transcription, DNA-dependent\"\"\",P\r",
        "\r\n",
        "CGI_10023548,A0AVK6,GO:0007049,cell cycle,P\r",
        "\r\n",
        "CGI_10003125,A0AVT1,GO:0000166,nucleotide binding,F\r",
        "\r\n",
        "CGI_10012444,A0AVT1,GO:0000166,nucleotide binding,F\r",
        "\r\n"
       ]
      }
     ],
     "prompt_number": 43
    },
    {
     "cell_type": "code",
     "collapsed": false,
     "input": [
      "!wc /Volumes/web/cnidarian/Cgigas_larvae_RNAseq_OsHV_GO.csv"
     ],
     "language": "python",
     "metadata": {},
     "outputs": [
      {
       "output_type": "stream",
       "stream": "stdout",
       "text": [
        "  121979  315335 6935565 /Volumes/web/cnidarian/Cgigas_larvae_RNAseq_OsHV_GO.csv\r\n"
       ]
      }
     ],
     "prompt_number": 44
    },
    {
     "cell_type": "code",
     "collapsed": false,
     "input": [
      "#into GoCategorizer then ManyEyes"
     ],
     "language": "python",
     "metadata": {},
     "outputs": [],
     "prompt_number": 45
    },
    {
     "cell_type": "markdown",
     "metadata": {},
     "source": [
      "<img src=\"https://www.evernote.com/shard/s10/sh/d736ad4c-9bb3-48d1-adf8-408809c9b586/4c0b8547bb60016eca673f2647eb86fe/deep/0/Many%20Eyes%20:%20Customizing%20Bubble%20Chart.png\" alt=\"Many%20Eyes%20:%20Customizing%20Bubble%20Chart\" />"
     ]
    },
    {
     "cell_type": "markdown",
     "metadata": {},
     "source": [
      "###Enrichment Analysis\n",
      "\n",
      "Background - all SPIDs associated with oyster transcriptome\n",
      "Gene list - SPID of gene with at least 10 unique reads\n",
      "\n",
      "Kegg   \n",
      "\n",
      "<img src=\"https://www.evernote.com/shard/s10/sh/63606fa1-3a14-49c6-977b-1502dbdf57f1/bf587c5d258cff8e5d981aa426e3481e/deep/0/DAVID:%20Database%20for%20Annotation,%20Visualization,%20and%20Integrated%20Discovery%20(Laboratory%20of%20Immunopathogenesis%20and%20Bioinformatics%20(LIB);%20National%20Institute%20of%20Allergies%20and%20Infectious%20Diseases%20(NIAID);%20Science%20Applications%20International%20Corporation%20(SAIC).png\" alt=\"DAVID:%20Database%20for%20Annotation,%20Visualization,%20and%20Integrated%20Discovery%20(Laboratory%20of%20Immunopathogenesis%20and%20Bioinformatics%20(LIB);%20National%20Institute%20of%20Allergies%20and%20Infectious%20Diseases%20(NIAID);%20Science%20Applications%20International%20Corporation%20(SAIC)\" />\n",
      "\n",
      "<http://eagle.fish.washington.edu/cnidarian/chart_5EB4CB21C87A1374501610998.txt>\n",
      "\n",
      "---\n",
      "BP-Fat  \n",
      "\n",
      "<img src=\"https://www.evernote.com/shard/s10/sh/446f8132-0791-4882-ad7e-2b807f027caf/d652cc54b0cf45543eaefbaf7641da61/deep/0/DAVID:%20Database%20for%20Annotation,%20Visualization,%20and%20Integrated%20Discovery%20(Laboratory%20of%20Immunopathogenesis%20and%20Bioinformatics%20(LIB);%20National%20Institute%20of%20Allergies%20and%20Infectious%20Diseases%20(NIAID);%20Science%20Applications%20International%20Corporation%20(SAIC)%20and.png\" alt=\"DAVID:%20Database%20for%20Annotation,%20Visualization,%20and%20Integrated%20Discovery%20(Laboratory%20of%20Immunopathogenesis%20and%20Bioinformatics%20(LIB);%20National%20Institute%20of%20Allergies%20and%20Infectious%20Diseases%20(NIAID);%20Science%20Applications%20International%20Corporation%20(SAIC)%20and\" />\n",
      "    \n",
      "<http://eagle.fish.washington.edu/cnidarian/chart_5EB4CB21C87A1374501882704.txt>    \n"
     ]
    },
    {
     "cell_type": "markdown",
     "metadata": {},
     "source": [
      "pvalue <.05 into Revigo"
     ]
    },
    {
     "cell_type": "raw",
     "metadata": {},
     "source": [
      "GO:0008104\t1.87E-10\n",
      "GO:0045184\t4.06E-10\n",
      "GO:0015031\t1.55E-09\n",
      "GO:0051056\t2.29E-08\n",
      "GO:0046578\t7.92E-07\n",
      "GO:0046907\t1.69E-06\n",
      "GO:0006796\t8.93E-06\n",
      "GO:0016310\t9.71E-06\n",
      "GO:0006793\t1.68E-05\n",
      "GO:0006396\t1.80E-05\n",
      "GO:0016071\t2.05E-05\n",
      "GO:0006886\t9.38E-05\n",
      "GO:0043087\t3.10E-04\n",
      "GO:0006468\t3.15E-04\n",
      "GO:0034613\t3.40E-04\n",
      "GO:0006511\t4.70E-04\n",
      "GO:0006397\t4.72E-04\n",
      "GO:0070727\t4.87E-04\n",
      "GO:0006091\t5.48E-04\n",
      "GO:0008380\t0.001634341\n",
      "GO:0007049\t0.001856279\n",
      "GO:0032318\t0.001879989\n",
      "GO:0035023\t0.002340023\n",
      "GO:0046034\t0.002847324\n",
      "GO:0006644\t0.002942199\n",
      "GO:0007017\t0.003300719\n",
      "GO:0032313\t0.003409026\n",
      "GO:0032483\t0.003409026\n",
      "GO:0051169\t0.003795828\n",
      "GO:0019637\t0.003832318\n",
      "GO:0006913\t0.004482562\n",
      "GO:0006412\t0.005141395\n",
      "GO:0016568\t0.005563156\n",
      "GO:0050657\t0.006346393\n",
      "GO:0050658\t0.006346393\n",
      "GO:0051236\t0.006346393\n",
      "GO:0016265\t0.006480115\n",
      "GO:0007010\t0.007213165\n",
      "GO:0009141\t0.007619486\n",
      "GO:0008219\t0.007723643\n",
      "GO:0009142\t0.008393563\n",
      "GO:0009057\t0.008477453\n",
      "GO:0006818\t0.008580567\n",
      "GO:0043954\t0.009700576\n",
      "GO:0006325\t0.009965083\n",
      "GO:0009205\t0.010315383\n",
      "GO:0009199\t0.010315383\n",
      "GO:0009145\t0.010315719\n",
      "GO:0009206\t0.010315719\n",
      "GO:0009201\t0.010315719\n",
      "GO:0044265\t0.010376148\n",
      "GO:0015992\t0.010857381\n",
      "GO:0006403\t0.011334734\n",
      "GO:0012501\t0.012741549\n",
      "GO:0006754\t0.013504604\n",
      "GO:0009894\t0.013504604\n",
      "GO:0051301\t0.014127469\n",
      "GO:0046486\t0.01575266\n",
      "GO:0006650\t0.01589459\n",
      "GO:0009165\t0.016043426\n",
      "GO:0043632\t0.016123335\n",
      "GO:0019941\t0.016123335\n",
      "GO:0034330\t0.016219917\n",
      "GO:0015986\t0.016219917\n",
      "GO:0015985\t0.016219917\n",
      "GO:0045494\t0.016219917\n",
      "GO:0022613\t0.016633231\n",
      "GO:0006119\t0.016730696\n",
      "GO:0034622\t0.016780957\n",
      "GO:0006915\t0.016867222\n",
      "GO:0009144\t0.018450072\n",
      "GO:0051028\t0.018450072\n",
      "GO:0022618\t0.018899413\n",
      "GO:0007265\t0.02172187\n",
      "GO:0015931\t0.021879897\n",
      "GO:0006163\t0.022368298\n",
      "GO:0000278\t0.02349573\n",
      "GO:0009150\t0.024939324\n",
      "GO:0016192\t0.025101667\n",
      "GO:0008203\t0.025445341\n",
      "GO:0006413\t0.025494209\n",
      "GO:0034504\t0.025886646\n",
      "GO:0046822\t0.027243792\n",
      "GO:0001701\t0.027310746\n",
      "GO:0030163\t0.028215019\n",
      "GO:0016042\t0.028610538\n",
      "GO:0048193\t0.02882247\n",
      "GO:0007163\t0.029465914\n",
      "GO:0009259\t0.032187365\n",
      "GO:0044257\t0.032802252\n",
      "GO:0017038\t0.033241064\n",
      "GO:0006164\t0.0341163\n",
      "GO:0006605\t0.034586659\n",
      "GO:0051603\t0.034854969\n",
      "GO:0006401\t0.035288451\n",
      "GO:0030031\t0.035977875\n",
      "GO:0034621\t0.038678526\n",
      "GO:0055085\t0.040014925\n",
      "GO:0007018\t0.042241787\n",
      "GO:0051170\t0.042255571\n",
      "GO:0009311\t0.042515336\n",
      "GO:0016579\t0.044317708\n",
      "GO:0070646\t0.044317708\n",
      "GO:0051276\t0.045536962\n",
      "GO:0034654\t0.045690801\n",
      "GO:0034404\t0.045690801\n",
      "GO:0000226\t0.046104738\n",
      "GO:0000375\t0.0482382\n",
      "GO:0043161\t0.049498849\n",
      "GO:0010498\t0.049498849"
     ]
    },
    {
     "cell_type": "markdown",
     "metadata": {},
     "source": [
      "R script for treemap\n",
      "<http://eagle.fish.washington.edu/cnidarian/OsHV_Cg_REVIGO_treemap.r>"
     ]
    },
    {
     "cell_type": "markdown",
     "metadata": {},
     "source": [
      "<img src=\"http://eagle.fish.washington.edu/cnidarian/skitch/revigo_treemap.pdf__1_page__17E0FC3B.png\" alt=\"revigo_treemap.pdf__1_page__17E0FC3B.png\"/>mm"
     ]
    },
    {
     "cell_type": "heading",
     "level": 2,
     "metadata": {},
     "source": [
      "iPath"
     ]
    },
    {
     "cell_type": "code",
     "collapsed": false,
     "input": [],
     "language": "python",
     "metadata": {},
     "outputs": []
    },
    {
     "cell_type": "markdown",
     "metadata": {},
     "source": [
      "---   \n",
      "###Mapping to OsHV\n",
      "<http://www.ncbi.nlm.nih.gov/nuccore/NC_005881.1>\n",
      "    \n",
      "imported genbank format to hav CDS, gene information..   \n",
      "started in CLC using same parameters..\n",
      "    \n",
      "          Minimum number of reads = 10\n",
      "          Minimum exon coverage fraction = 0.2\n",
      "          Additional downstream bases = 0\n",
      "          Use colorspace encoding = Yes\n",
      "          Create report = Yes\n",
      "          Use strand specific assembly = No\n",
      "          Count paired reads as two = No\n",
      "          Minimum length fraction (long reads) = 0.9\n",
      "          Additional upstream bases = 0\n",
      "          Unspecific match limit = 5\n",
      "          Expression value = RPKM\n",
      "          Minimum read count fusion gene table = 5\n",
      "          Create fusion gene table = No\n",
      "          Minimum paired distance = 180\n",
      "          Use annotations for gene and transcript identification = Yes\n",
      "          Strand = Forward\n",
      "          Organism type = PROKARYOTE\n",
      "          Maximum number of mismatches allowed (applies to short reads) = 2\n",
      "          Minimum similarity fraction = 0.8\n",
      "          References = NC_005881\n",
      "          Expression level = Genes\n",
      "          Minimum length of putative exons = 25\n",
      "          Maximum paired distance = 250\n",
      "          Create list of unmapped reads = No\n",
      "          Exon discovery = No\n",
      "          Expression value = Read Per Kilobase of exon Model value\n",
      "    \n",
      "---\n",
      "`\n",
      "Found: 127 genes.\n",
      "Total number of reads : 21344598 ( single reads: 21344598, paired reads: 0 )\n",
      "Total number of mapped reads : 21135 ( single reads: 21135, paired reads: 0 )\n",
      "Total number of unmapped reads : 21323463 ( single reads: 21323463, paired reads: 0 )\n",
      "`    \n",
      "    \n",
      "<img src=\"https://www.evernote.com/shard/s10/sh/8fcd60f9-6ca1-44d9-90f0-cef9d164b6a6/ee695ff9d24d3ecd701abe2e4b1c4ba6/deep/0/CLC%20Genomics%20Workbench%206.0.2.png\" alt=\"CLC%20Genomics%20Workbench%206.0.2\" width = 40%/>\n",
      "    \n",
      "    \n",
      "---\n",
      "    \n",
      "<img src=\"https://www.evernote.com/shard/s10/sh/95a71b71-cbc5-47ce-a81a-e149d482fbd9/2c599b916fc70cc73930c6ee0a0decfa/deep/0/CLC%20Genomics%20Workbench%206.0.2.png\" alt=\"CLC%20Genomics%20Workbench%206.0.2\" width = 30%/>    \n",
      "    \n",
      "    \n"
     ]
    },
    {
     "cell_type": "code",
     "collapsed": false,
     "input": [
      "!head /Volumes/web/cnidarian/solid0078_20091105_RobertsLab_GE_F3trim_RNAseqOSHV.csv"
     ],
     "language": "python",
     "metadata": {},
     "outputs": [
      {
       "output_type": "stream",
       "stream": "stdout",
       "text": [
        "\"Feature ID\",\"Expression values\",\"Gene length\",\"Unique gene reads\",\"Total gene reads\",\"RPKM\",\"Chromosome region start\",\"Chromosome region end\"\r\n",
        "\"OsHV1_gp001\",\"423.399\",\"447\",\"0\",\"4\",\"423.399\",\"115\",\"561\"\r\n",
        "\"OsHV1_gp002\",\"751.03\",\"504\",\"0\",\"8\",\"751.03\",\"680\",\"1183\"\r\n",
        "\"OsHV1_gp003\",\"61.85\",\"765\",\"0\",\"1\",\"61.85\",\"1890\",\"2654\"\r\n",
        "\"OsHV1_gp004\",\"2748.769\",\"1050\",\"0\",\"61\",\"2748.769\",\"3384\",\"4433\"\r\n",
        "\"OsHV1_gp005\",\"3168.303\",\"2031\",\"70\",\"136\",\"3168.303\",\"6421\",\"8451\"\r\n",
        "\"OsHV1_gp006\",\"1534.465\",\"3546\",\"115\",\"115\",\"1534.465\",\"8628\",\"12173\"\r\n",
        "\"OsHV1_gp007\",\"1429.304\",\"960\",\"29\",\"29\",\"1429.304\",\"12211\",\"13170\"\r\n",
        "\"OsHV1_gp008\",\"4016.047\",\"1779\",\"151\",\"151\",\"4016.047\",\"13258\",\"15036\"\r\n",
        "\"OsHV1_gp009\",\"6345.436\",\"1029\",\"138\",\"138\",\"6345.436\",\"15297\",\"16325\"\r\n"
       ]
      }
     ],
     "prompt_number": 2
    },
    {
     "cell_type": "markdown",
     "metadata": {},
     "source": [
      "---\n",
      "### Reference Mapping to OsHV\n",
      "    \n",
      "    \n",
      "<img src=\"https://www.evernote.com/shard/s10/sh/8b352b22-d5d7-4cd3-aa7c-65c405f38021/41a3ad8065188e0b7bda38f4e8d512d5/deep/0/Map%20Reads%20to%20Reference.png\" alt=\"Map%20Reads%20to%20Reference\" />\n",
      "\n",
      "\n",
      "<img src=\"https://www.evernote.com/shard/s10/sh/778dcffb-c1d6-4631-818f-a7265f7fc422/87bb72143c88447953c0eabd13148996/deep/0/CLC%20Genomics%20Workbench%206.0.2.png\" alt=\"CLC%20Genomics%20Workbench%206.0.2\" />\n"
     ]
    },
    {
     "cell_type": "markdown",
     "metadata": {},
     "source": [
      "SAM file <http://eagle.fish.washington.edu/cnidarian/solid0078_20091105_RbbertsLab_GE_F3%20trimmed%20mapping.sam>"
     ]
    },
    {
     "cell_type": "heading",
     "level": 3,
     "metadata": {},
     "source": [
      "SNP ID based on Reference Mapping"
     ]
    },
    {
     "cell_type": "markdown",
     "metadata": {},
     "source": [
      "<img src=\"http://eagle.fish.washington.edu/cnidarian/skitch/CLC_Genomics_Workbench_7_0_4_195B0AB2.png\" alt=\"CLC_Genomics_Workbench_7_0_4_195B0AB2.png\"/>"
     ]
    },
    {
     "cell_type": "markdown",
     "metadata": {},
     "source": [
      "<img src=\"http://eagle.fish.washington.edu/cnidarian/skitch/CLC_Genomics_Workbench_7_0_4_195B0AD6.png\" alt=\"CLC_Genomics_Workbench_7_0_4_195B0AD6.png\"/>"
     ]
    },
    {
     "cell_type": "code",
     "collapsed": false,
     "input": [
      "!cat /Volumes/web/cnidarian/OsHV_snp_table"
     ],
     "language": "python",
     "metadata": {},
     "outputs": [
      {
       "output_type": "stream",
       "stream": "stdout",
       "text": [
        "\"Reference Position\"\t\"Type\"\t\"Length\"\t\"Reference\"\t\"Allele\"\t\"Linkage\"\t\"Zygosity\"\t\"Count\"\t\"Coverage\"\t\"Frequency\"\t\"Forward/reverse balance\"\t\"Average quality\"\t\"Overlapping annotations\"\t\"Coding region change\"\t\"Amino acid change\"\r\n",
        "32003\tSNV\t1\tG\tA\t\tHomozygous\t12\t12\t100\t0.417\t23.833\tGene: OsHV1_gp021, CDS: OsHV1_gp021, Misc. feature: UL\tYP_024567.1:c.1533G>A\tYP_024567.1:p.Met511Ile\r\n",
        "57377\tSNV\t1\tC\tT\t\tHomozygous\t10\t10\t100\t0.1\t24.1\tGene: OsHV1_gp039, CDS: OsHV1_gp039, Misc. feature: UL\tYP_024585.1:c.1468C>T\tYP_024585.1:p.Pro490Ser\r\n",
        "83889\tSNV\t1\tA\tG\t\tHomozygous\t18\t18\t100\t0.056\t27.222\tGene: OsHV1_gp053, CDS: OsHV1_gp053, Misc. feature: UL\tYP_024599.1:c.554A>G\tYP_024599.1:p.Glu185Gly\r\n",
        "92644\tSNV\t1\tA\tG\t\tHomozygous\t13\t13\t100\t0.462\t23.769\tGene: OsHV1_gp058, CDS: OsHV1_gp058, Misc. feature: UL\tYP_024604.1:c.1349A>G\tYP_024604.1:p.Tyr450Cys\r\n",
        "124796\tSNV\t1\tG\tA\t\tHomozygous\t10\t10\t100\t0.1\t30.2\tGene: OsHV1_gp071, CDS: OsHV1_gp071, Misc. feature: UL\tYP_024617.1:c.2083G>A\tYP_024617.1:p.Ala695Thr\r\n"
       ]
      }
     ],
     "prompt_number": 3
    },
    {
     "cell_type": "markdown",
     "metadata": {},
     "source": [
      "##IGV Browser for OsHV"
     ]
    },
    {
     "cell_type": "code",
     "collapsed": false,
     "input": [
      "!head /Volumes/web/cnidarian/solid0078_20091105_RbbertsLab_GE_F3\\ trimmed\\ mapping.sam"
     ],
     "language": "python",
     "metadata": {},
     "outputs": [
      {
       "output_type": "stream",
       "stream": "stdout",
       "text": [
        "@HD\tVN:1.0\tSO:unsorted\r\n",
        "@SQ\tSN:NC_005881\tLN:207439\tSP:Ostreid herpesvirus 1\r\n",
        "@PG\tID:0\tPN:clcgenomicswb\tVN:7.0\r\n",
        "read_1\t0\tNC_005881\t2764\t60\t2S18M\t*\t0\t0\tCATGGGGGGGGGGGGGGGGG\tBB@??979/12.=<+9-;22\tNH:i:1\tCS:Z:T21312000000000000000\r\n",
        "read_2\t16\tNC_005881\t7624\t60\t32M\t*\t0\t0\tCACTTGACAACATCCATACATATCGTCATCCA\t>9;3,@5>/<@7?=8BA>B:B?A<=@AA;7B@\tNH:i:1\tCS:Z:T01023121323331133102311011200211\r\n",
        "read_3\t16\tNC_005881\t7624\t60\t26M\t*\t0\t0\tCACTTGACAACATCCATACATATCGT\t?>;>2?5>?><AA@=ABA>BBBBABB\tNH:i:1\tCS:Z:T31323331133102311011210211\r\n",
        "read_4\t16\tNC_005881\t7638\t60\t46M\t*\t0\t0\tCATACATATCGTCATCCAGGGTCTCTCCGTGTTTAGGATATAGCGT\t<?A>0=??6&A8:?9>>>@9??>@@B6@ABBA?ABBBB>BBBBBAB\tNH:i:1\tCS:Z:T3133233332023001113022222100210231211233311331\r\n",
        "read_5\t0\tNC_005881\t7640\t60\t34M\t*\t0\t0\tTACATATCGTCATCCAGGGTCTCTCCGTGTTTAG\tBBAABBBBBABBBBABBBBAB@BB@BBA@+>BBB\tNH:i:1\tCS:Z:T0311333231213201200122222031110032\r\n",
        "read_6\t16\tNC_005881\t7640\t60\t44M\t*\t0\t0\tTACATATCGTCATCCAGGGTCTCTCCGTGTTTAGGATATAGCGT\t=26?+:0/:04;=87232=1-1<A:<:@=@8=@BAA<@@1BA=B\tNH:i:1\tCS:Z:T31332333320230011130222221002102312132323113\r\n",
        "read_7\t0\tNC_005881\t7640\t60\t46M3S\t*\t0\t0\tTACATATCGTCATCCAGGGTCTCTCCGTGTTTAGGATATAGCGTATATA\tBBBBBBBBB=BBBBBABB@AB@BA@BB=B/>ABA+@BB?%B@B;??6B>\tNH:i:1\tCS:Z:T0311333231213201200122222031110032023333233133333\r\n"
       ]
      }
     ],
     "prompt_number": 6
    },
    {
     "cell_type": "code",
     "collapsed": false,
     "input": [
      "!head /Volumes/web/cnidarian/NC_005881"
     ],
     "language": "python",
     "metadata": {},
     "outputs": [
      {
       "output_type": "stream",
       "stream": "stdout",
       "text": [
        ">NC_005881 Ostreid herpesvirus 1, complete genome.\r\n",
        "CCCCCCACCTCCCCAACACCTCCCCCATCCTCCCCACCTCCTCCCCCTCCTCTCTTCCGC\r\n",
        "CCGCGATCCCGCCAATACCCATAATGCACCTGGGCACTCTCTTTTTTCCTTTCCTTATCC\r\n",
        "AAGATGTCCGCCCATTGCCAGGTACAGCCTTCCCACCGTGTGAACAATGTCCATCCTCTT\r\n",
        "CTCCGAGACTTCCCTGACCAGATTGTCGTAATCCAATTGACACATTCTCGTCAATGCCCT\r\n",
        "CCTCATATTCTCCATCGGCCAACTGTCGTCTCTACTCATGGTCATAAACAATCCCAATCC\r\n",
        "ACTCTTGGCATCCCGCAACCTTTCCAATAGCCTCCCGAATTCGTCTACCGCCGCCTTATC\r\n",
        "GTCGTCCGTGCTGCAATGTGGTCTTACCGCATTTTTAAGCAATGCGCACGCCACTCTCAA\r\n",
        "TTCCTGACAGGTAATCTCCTCCACCGGTTTCCTATCGTGTAATAGACTGACCACGGCGGC\r\n",
        "CATGTCTCTCAGTTCCTTGCTCATCTCACCACCGCCAACCAATTCAGCAGTGACAGTTAC\r\n"
       ]
      }
     ],
     "prompt_number": 7
    },
    {
     "cell_type": "markdown",
     "metadata": {},
     "source": [
      "<img src=\"http://eagle.fish.washington.edu/cnidarian/skitch/IGV_and_Directory_Listing_of__cnidarian__and_CLC_Genomics_Workbench_7_0_4_195B0EAF.png\" alt=\"IGV_and_Directory_Listing_of__cnidarian__and_CLC_Genomics_Workbench_7_0_4_195B0EAF.png\"/>"
     ]
    },
    {
     "cell_type": "markdown",
     "metadata": {},
     "source": [
      "LINKOUT to xml `http://eagle.fish.washington.edu/cnidarian/OsHV_igv_session.xml`"
     ]
    },
    {
     "cell_type": "heading",
     "level": 3,
     "metadata": {},
     "source": [
      "Mapping to GQ153938"
     ]
    },
    {
     "cell_type": "markdown",
     "metadata": {},
     "source": [
      "<img src=\"http://eagle.fish.washington.edu/cnidarian/skitch/CLC_Genomics_Workbench_7_0_4_195B15F3.png\" alt=\"CLC_Genomics_Workbench_7_0_4_195B15F3.png\"/>"
     ]
    },
    {
     "cell_type": "markdown",
     "metadata": {},
     "source": [
      "<img src=\"http://eagle.fish.washington.edu/cnidarian/skitch/CLC_Genomics_Workbench_7_0_4_195B166E.png\" alt=\"CLC_Genomics_Workbench_7_0_4_195B166E.png\"/>"
     ]
    },
    {
     "cell_type": "markdown",
     "metadata": {},
     "source": [
      "<img src=\"http://eagle.fish.washington.edu/cnidarian/skitch/CLC_Genomics_Workbench_7_0_4_195B168F.png\" alt=\"CLC_Genomics_Workbench_7_0_4_195B168F.png\"/>"
     ]
    },
    {
     "cell_type": "code",
     "collapsed": false,
     "input": [],
     "language": "python",
     "metadata": {},
     "outputs": []
    }
   ],
   "metadata": {}
  }
 ]
}