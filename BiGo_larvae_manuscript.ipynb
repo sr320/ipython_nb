{
 "metadata": {
  "name": "",
  "signature": "sha256:430c244ac436693c853a15d9b818afad5194e365b8450af6a4690ee0ceddc864"
 },
 "nbformat": 3,
 "nbformat_minor": 0,
 "worksheets": [
  {
   "cells": [
    {
     "cell_type": "markdown",
     "metadata": {},
     "source": [
      "An attempt to develop a notebook where the analysis could be reproduced by other."
     ]
    },
    {
     "cell_type": "code",
     "collapsed": false,
     "input": [
      "#First things.\n",
      "#Decide and set a local working directory\n",
      "\n",
      "lwd=\"/Users/sr320/Desktop\""
     ],
     "language": "python",
     "metadata": {},
     "outputs": [],
     "prompt_number": 1
    },
    {
     "cell_type": "code",
     "collapsed": false,
     "input": [
      "cd {lwd}"
     ],
     "language": "python",
     "metadata": {},
     "outputs": [
      {
       "output_type": "stream",
       "stream": "stdout",
       "text": [
        "/Users/sr320/Desktop\n"
       ]
      }
     ],
     "prompt_number": 2
    },
    {
     "cell_type": "heading",
     "level": 1,
     "metadata": {},
     "source": [
      "Quality trimmed fastq files"
     ]
    },
    {
     "cell_type": "code",
     "collapsed": false,
     "input": [
      "!wget http://eagle.fish.washington.edu/trilobite/BiGo_larvae_test.zip"
     ],
     "language": "python",
     "metadata": {},
     "outputs": [
      {
       "output_type": "stream",
       "stream": "stdout",
       "text": [
        "--2014-06-26 07:58:32--  http://eagle.fish.washington.edu/trilobite/BiGo_larvae_test.zip\r\n",
        "Resolving eagle.fish.washington.edu... 128.95.149.81\r\n",
        "Connecting to eagle.fish.washington.edu|128.95.149.81|:80... connected.\r\n",
        "HTTP request sent, awaiting response... 200 OK\r\n",
        "Length: 20701 (20K) [application/zip]\r\n",
        "Saving to: `BiGo_larvae_test.zip'\r\n",
        "\r\n",
        "\r",
        " 0% [                                       ] 0           --.-K/s              "
       ]
      },
      {
       "output_type": "stream",
       "stream": "stdout",
       "text": [
        "\r",
        "100%[======================================>] 20,701      --.-K/s   in 0.04s   \r\n",
        "\r\n",
        "2014-06-26 07:58:32 (481 KB/s) - `BiGo_larvae_test.zip' saved [20701/20701]\r\n",
        "\r\n"
       ]
      }
     ],
     "prompt_number": 9
    },
    {
     "cell_type": "code",
     "collapsed": false,
     "input": [],
     "language": "python",
     "metadata": {},
     "outputs": []
    }
   ],
   "metadata": {}
  }
 ]
}