{
 "metadata": {
  "name": "",
  "signature": "sha256:386622e0ad3433e7008abd621d32c9e3dfdab9c612db8707dad560a3f966cb01"
 },
 "nbformat": 3,
 "nbformat_minor": 0,
 "worksheets": [
  {
   "cells": [
    {
     "cell_type": "heading",
     "level": 1,
     "metadata": {},
     "source": [
      "Post Manuscript Review - data crunch"
     ]
    },
    {
     "cell_type": "code",
     "collapsed": false,
     "input": [
      "#file ID\n",
      "#fid=\"CgM1\"\n",
      "\n",
      "#TIMESTAMP\n",
      "date=!date +%m%d_%H%M\n",
      "\n",
      "#working directory (parent)\n",
      "#wd=\"/Volumes/web/cnidarian/BiGo_larvae_merge/\"\n",
      "\n",
      "#where is bsmap\n",
      "#bsmap=\"/Users/Shared/Apps/bsmap-2.73/\"\n",
      "bsmap=\"/Volumes/Bay3/Software/BSMAP/bsmap-2.74/\"\n",
      "\n",
      "#fastq files location R1 location\n",
      "R1=\"/Volumes/web/trilobite/Crassostrea_gigas_HTSdata/filtered_174gm_A_BiGosperm_L006_R1.fastq\"\n",
      "\n",
      "#fastq files location R2 location\n",
      "#comment out if SE\n",
      "R2=\"/Volumes/web/trilobite/Crassostrea_gigas_HTSdata/filtered_174gm_A_BiGosperm_L006_R2.fastq\"\n"
     ],
     "language": "python",
     "metadata": {},
     "outputs": [],
     "prompt_number": 3
    },
    {
     "cell_type": "code",
     "collapsed": false,
     "input": [
      "#option - number of processes \n",
      "!{bsmap}bsmap -a {R1} -b {R2} -d /Volumes/web/cnidarian/oyster.v9.fa -o /Volumes/web/cnidarian/BiGo_bsmap_v9_{date}.sam -p 3"
     ],
     "language": "python",
     "metadata": {},
     "outputs": []
    },
    {
     "cell_type": "markdown",
     "metadata": {},
     "source": [
      "###bsmap on iplant\n",
      "```\n",
      "\n",
      "BSMAP v2.74\n",
      "Start at:  Thu Apr  3 14:49:12 2014\n",
      "\n",
      "Input reference file: oyster.v9.fa.gz \t(format: gzipped FASTA)\n",
      "Load in 11969 db seqs, total size 558601156 bp. 12 secs passed\n",
      "total_kmers: 43046721\n",
      "Create seed table. 34 secs passed\n",
      "max number of mismatches: read_length * 8% \tmax gap size: 0\n",
      "kmer cut-off ratio: 5e-07\n",
      "max multi-hits: 100\tmax Ns: 5\tseed size: 16\tindex interval: 4\n",
      "quality cutoff: 0\tbase quality char: '!'\n",
      "min fragment size:28\tmax fragemt size:500\n",
      "start from read #1\tend at read #4294967295\n",
      "additional alignment: T in reads => C in reference\n",
      "mapping strand (read_1): ++,-+\n",
      "mapping strand (read_2): +-,--\n",
      "Pair-end alignment(8 threads)\n",
      "Input read file #1: BiGoRNA_GTGTCTAC_1.fastq \t(format: FASTQ)\n",
      "Input read file #2: BiGoRNA_GTGTCTAC_2.fastq \t(format: FASTQ)\n",
      "Output file: bsmap_out.sam\t (format: SAM)\n",
      "Thread #2: \t50000 read pairs finished. 47 secs passed\n",
      "Total number of aligned reads: \n",
      "pairs:       14245353 (56%)\n",
      "single a:    6073960 (24%)\n",
      "single b:    5624917 (22%)\n",
      "Done.\n",
      "Finished at Thu Apr  3 15:03:24 2014\n",
      "Total time consumed:  852 secs\n",
      "```"
     ]
    },
    {
     "cell_type": "code",
     "collapsed": false,
     "input": [
      "!python {bsmap}methratio.py -d {genome} -u -z -g -o methratio_out.txt -s {bsmap}samtools bsmap_out.sam \n",
      "#command for only obtaining the context '__CG_'\n",
      "!grep \"[A-Z][A-Z]CG[A-Z]\" <methratio_out.txt> methratio_out_CG.txt \n",
      "#5x coverage\n",
      "!awk '{if ($8 >= 5) print $1,$2-1,$2+1,\"CpG\",$5}' <methratio_out_CG.txt> filt_methratio_out_CG.igv \n",
      "!tr ' ' \"\\t\" <filt_methratio_out_CG.igv> filt_methratio_{fid}.igv"
     ],
     "language": "python",
     "metadata": {},
     "outputs": []
    },
    {
     "cell_type": "code",
     "collapsed": false,
     "input": [],
     "language": "python",
     "metadata": {},
     "outputs": []
    }
   ],
   "metadata": {}
  }
 ]
}