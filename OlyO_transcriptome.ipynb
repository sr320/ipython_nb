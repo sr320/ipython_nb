{
 "metadata": {
  "name": ""
 },
 "nbformat": 3,
 "nbformat_minor": 0,
 "worksheets": [
  {
   "cells": [
    {
     "cell_type": "heading",
     "level": 2,
     "metadata": {},
     "source": [
      "Ostrea lurida transcriptome version 3"
     ]
    },
    {
     "cell_type": "code",
     "collapsed": false,
     "input": [
      "!head /Volumes/web/cnidarian/Olurida_transcriptome_v3.fasta"
     ],
     "language": "python",
     "metadata": {},
     "outputs": [
      {
       "output_type": "stream",
       "stream": "stdout",
       "text": [
        ">comp13_c0_seq1 len=486 path=[5581:0-485]\r\n",
        "ATAAAGAGGATATGATGAATCGACATGATTGGTTAGAAAGGGCAGTATCCAACAGCAATC\r\n",
        "ACTACATCTTCATTGTGACCAAACAAATGGGAGAAATATTTAATGAACCACTCTCGGAGG\r\n",
        "AAAGAGAAGATAGAATGCGTTTGTTGACAGAGTGCGAGGATGGAACGTGTGCGTATACAG\r\n",
        "TCAATTTGATAAGAAACAAATTTATCAAAAGCCGAAAGAACCCTGGATCATGTCACTTGG\r\n",
        "TAAGTTTTGAAGAGGAGGACGAGAAAGTCGTCTCGCAGTTAAAACATGGACTTCAGTTGT\r\n",
        "TTCAGAATGTCAGAACACATTGCTACCATTTATATACTGGAAAACGGTTCAGATATAACG\r\n",
        "CCGCATGCAGCATAATCAATAATATCAAGAAAATAGAGTGATCAAGGAACCGGAAGACTA\r\n",
        "ATCAGACTTTTGACTGGGTTTCTCAAAAACCTTGGTTCAGCTCAACCAGTGGTTAAATAC\r\n",
        "TGTGTA\r\n"
       ]
      }
     ],
     "prompt_number": 1
    },
    {
     "cell_type": "markdown",
     "metadata": {},
     "source": [
      "<http://eagle.fish.washington.edu/cnidarian/Olurida_transcriptome_v3.fasta>"
     ]
    },
    {
     "cell_type": "code",
     "collapsed": false,
     "input": [
      "#blast on hummingbird\n"
     ],
     "language": "python",
     "metadata": {},
     "outputs": []
    },
    {
     "cell_type": "raw",
     "metadata": {},
     "source": [
      "./blastx -query /Volumes/web/cnidarian/Olurida_transcriptome_v3.fasta -db /Users/Shared/Apps/ncbi-blast_28/db/uniprot_sprot -out /Volumes/web/cnidarian/OlyO_trans_v3_swissprot.txt -outfmt 6 -evalue 1E-10 -max_target_seqs 1 -num_threads 14"
     ]
    }
   ],
   "metadata": {}
  }
 ]
}