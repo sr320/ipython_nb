{
 "metadata": {
  "name": ""
 },
 "nbformat": 3,
 "nbformat_minor": 0,
 "worksheets": [
  {
   "cells": [
    {
     "cell_type": "heading",
     "level": 1,
     "metadata": {},
     "source": [
      "ESTs"
     ]
    },
    {
     "cell_type": "markdown",
     "metadata": {},
     "source": [
      "<img src=\"http://eagle.fish.washington.edu/cnidarian/skitch/Taxonomy_browser__Veneroida__18CEAA35.png\" alt=\"Taxonomy_browser__Veneroida__18CEAA35.png\"/>"
     ]
    },
    {
     "cell_type": "markdown",
     "metadata": {},
     "source": [
      "<http://www.ncbi.nlm.nih.gov/nucest/?term=txid6580[Organism:exp]>"
     ]
    },
    {
     "cell_type": "code",
     "collapsed": false,
     "input": [
      "!head /Volumes/web/cnidarian/txid6580_EST.fasta"
     ],
     "language": "python",
     "metadata": {},
     "outputs": [
      {
       "output_type": "stream",
       "stream": "stdout",
       "text": [
        ">gi|570036565|gb|HO206539.1|HO206539 rhcca0_002164 Meretrix meretrix pediveliger library Meretrix meretrix cDNA, mRNA sequence\r\n",
        "GGATCGAATCTGATTTTGAAGGACCATGTGAAGATACCGAAGAAAACGTTCATTTTTTGAATATGAAGAC\r\n",
        "TGCGCATGTCCAAAGATTTATCTTCCTGTGTGTGGCTCAGATGACGTCATTTACCCCAGTCAATGTGTCA\r\n",
        "GACAGTGCGCTGGAGTAGGTTTTAA\r\n",
        "\r\n",
        ">gi|570036564|gb|HO206538.1|HO206538 rhcca0_001892 Meretrix meretrix pediveliger library Meretrix meretrix cDNA, mRNA sequence\r\n",
        "CTCTAAACTAGTTGATCCCCGTGGCTGCAGTGACTGGGCGACAGACAGAGAGATATTAGCACAACCTGTT\r\n",
        "ATCTTCCTTGTGCAATAATGATGAAGACAGCCTTGATTTTCTTTGTGGTCAGCTTACTTGTGGTAACAGA\r\n",
        "AGTTACCAAGTACGGTAAATGCCAGAA\r\n",
        "\r\n"
       ]
      }
     ],
     "prompt_number": 3
    },
    {
     "cell_type": "heading",
     "level": 1,
     "metadata": {},
     "source": [
      "mRNA"
     ]
    },
    {
     "cell_type": "markdown",
     "metadata": {},
     "source": [
      "<img src=\"http://eagle.fish.washington.edu/cnidarian/skitch/txid6580_Organism_exp__-_Nucleotide_-_NCBI_18CEAB78.png\" alt=\"txid6580_Organism_exp__-_Nucleotide_-_NCBI_18CEAB78.png\"/>"
     ]
    },
    {
     "cell_type": "code",
     "collapsed": false,
     "input": [],
     "language": "python",
     "metadata": {},
     "outputs": []
    }
   ],
   "metadata": {}
  }
 ]
}