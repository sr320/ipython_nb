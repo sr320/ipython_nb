{
 "metadata": {
  "name": ""
 },
 "nbformat": 3,
 "nbformat_minor": 0,
 "worksheets": [
  {
   "cells": [
    {
     "cell_type": "heading",
     "level": 1,
     "metadata": {},
     "source": [
      "Identifying CpG islands in the Oyster Genome"
     ]
    },
    {
     "cell_type": "markdown",
     "metadata": {},
     "source": [
      "Thinking about comparing CpG islands (evolutionary deplete with methylation) with experiementally determined regions to see what might be transient"
     ]
    },
    {
     "cell_type": "markdown",
     "metadata": {},
     "source": [
      "##CpG Report\n",
      "<img src=\"http://eagle.fish.washington.edu/cnidarian/skitch/_266__Discovery_Environment_17BBF393.png\" alt=\"_266__Discovery_Environment_17BBF393.png\"/>"
     ]
    },
    {
     "cell_type": "code",
     "collapsed": false,
     "input": [
      "!head /Volumes/web/cnidarian/TJGR_v9_cpgreport_1.output"
     ],
     "language": "python",
     "metadata": {},
     "outputs": [
      {
       "output_type": "stream",
       "stream": "stdout",
       "text": [
        "\r\n",
        "\r\n",
        "CPGREPORT of scaffold360 from 1 to 280\r\n",
        "\r\n",
        "Sequence              Begin    End Score        CpG   %CG  CG/GC\r\n",
        "scaffold360              60     61    17          1 100.0    -\r\n",
        "scaffold360              96     97    17          1 100.0    -\r\n",
        "scaffold360             120    121    17          1 100.0    -\r\n",
        "scaffold360             187    188    17          1 100.0    -\r\n",
        "\r\n"
       ]
      }
     ],
     "prompt_number": 1
    },
    {
     "cell_type": "code",
     "collapsed": false,
     "input": [
      "!head /Volumes/web/cnidarian/TJGR_v9_cpgreport_1.gff"
     ],
     "language": "python",
     "metadata": {},
     "outputs": [
      {
       "output_type": "stream",
       "stream": "stdout",
       "text": [
        "##gff-version 3\r\n",
        "##sequence-region scaffold360 1 1964554\r\n",
        "#!Date 2013-08-14\r\n",
        "#!Type DNA\r\n",
        "#!Source-version EMBOSS 6.4.0.0\r\n",
        "scaffold360\tcpgreport\tsequence_feature\t1\t13910\t13703.000\t+\t.\tID=scaffold360.5581277\r\n",
        "scaffold360\tcpgreport\tsequence_feature\t1\t7092\t9397.000\t+\t.\tID=scaffold360.5530319\r\n",
        "scaffold360\tcpgreport\tsequence_feature\t1\t2866\t3093.000\t+\t.\tID=scaffold360.5465795\r\n",
        "scaffold360\tcpgreport\tsequence_feature\t1\t1259\t452.000\t+\t.\tID=scaffold360.5437400\r\n",
        "scaffold360\tcpgreport\tsequence_feature\t1\t725\t572.000\t+\t.\tID=scaffold360.5433333\r\n"
       ]
      }
     ],
     "prompt_number": 3
    },
    {
     "cell_type": "markdown",
     "metadata": {},
     "source": [
      "---   \n",
      "##newCpG Report  \n",
      "<img src=\"http://eagle.fish.washington.edu/cnidarian/skitch/_270__Discovery_Environment_17BBF46B.png\" alt=\"_270__Discovery_Environment_17BBF46B.png\"/>"
     ]
    },
    {
     "cell_type": "code",
     "collapsed": false,
     "input": [
      "!head /Volumes/web/cnidarian/TJGR_v9_newcpgreport_1.output"
     ],
     "language": "python",
     "metadata": {},
     "outputs": [
      {
       "output_type": "stream",
       "stream": "stdout",
       "text": [
        "ID   scaffold360  280 BP.\r\n",
        "XX\r\n",
        "DE   CpG Island report.\r\n",
        "XX\r\n",
        "CC   Obs/Exp ratio > 0.60.\r\n",
        "CC   % C + % G > 50.00.\r\n",
        "CC   Length > 200.\r\n",
        "XX\r\n",
        "FH   Key              Location/Qualifiers\r\n",
        "FT   no islands detected\r\n"
       ]
      }
     ],
     "prompt_number": 2
    },
    {
     "cell_type": "heading",
     "level": 2,
     "metadata": {},
     "source": [
      "CpG Plot (Galaxy)"
     ]
    },
    {
     "cell_type": "markdown",
     "metadata": {},
     "source": [
      "<img src=\"http://eagle.fish.washington.edu/cnidarian/skitch/Galaxy_17C94754.png\" alt=\"Galaxy_17C94754.png\"/>"
     ]
    },
    {
     "cell_type": "code",
     "collapsed": false,
     "input": [
      "Failed"
     ],
     "language": "python",
     "metadata": {},
     "outputs": []
    },
    {
     "cell_type": "markdown",
     "metadata": {},
     "source": [
      "<img src=\"http://eagle.fish.washington.edu/cnidarian/skitch/Galaxy_17CA59B4.png\" alt=\"Galaxy_17CA59B4.png\"/>"
     ]
    },
    {
     "cell_type": "heading",
     "level": 1,
     "metadata": {},
     "source": [
      "CpGPlot (commandline)"
     ]
    },
    {
     "cell_type": "raw",
     "metadata": {},
     "source": [
      "./cpgplot -sequence /Volumes/Bay3/Software/bismark_v0.6.4/genomes/oyster.v9.fa\n"
     ]
    },
    {
     "cell_type": "markdown",
     "metadata": {},
     "source": [
      "`\n",
      "Window size [100]: \n",
      "Minimum length of an island [200]: \n",
      "Minimum observed/expected [0.6]: \n",
      "Minimum percentage [50.]: \n",
      "`    "
     ]
    },
    {
     "cell_type": "code",
     "collapsed": false,
     "input": [
      "!head /Volumes/web/cnidarian/TJGR_v9cpgplot1.gff\n"
     ],
     "language": "python",
     "metadata": {},
     "outputs": [
      {
       "output_type": "stream",
       "stream": "stdout",
       "text": [
        "##gff-version 3\r\n",
        "##sequence-region scaffold360 1 0\r\n",
        "#!Date 2013-08-26\r\n",
        "#!Type DNA\r\n",
        "#!Source-version EMBOSS 6.5.7.0\r\n",
        "##gff-version 3\r\n",
        "##sequence-region scaffold18356 1 0\r\n",
        "#!Date 2013-08-26\r\n",
        "#!Type DNA\r\n",
        "#!Source-version EMBOSS 6.5.7.0\r\n"
       ]
      }
     ],
     "prompt_number": 1
    },
    {
     "cell_type": "code",
     "collapsed": false,
     "input": [
      "!fgrep -c \"sequence_feature\" /Volumes/web/cnidarian/TJGR_v9cpgplot1.gff"
     ],
     "language": "python",
     "metadata": {},
     "outputs": [
      {
       "output_type": "stream",
       "stream": "stdout",
       "text": [
        "7536\r\n"
       ]
      }
     ],
     "prompt_number": 1
    },
    {
     "cell_type": "markdown",
     "metadata": {},
     "source": [
      "http://eagle.fish.washington.edu/cnidarian/TJGR_v9cpgplot1.gff"
     ]
    },
    {
     "cell_type": "markdown",
     "metadata": {},
     "source": [
      "again   \n",
      "`\n",
      "Window size [100]:\n",
      "Minimum length of an island [200]: 150\n",
      "Minimum observed/expected [0.6]: \n",
      "Minimum percentage [50.]: 40\n",
      "Output file [scaffold360.cpgplot]: /Users/sr320/Desktop/v9.cpgplot    \n",
      "Graph type [x11]: none\n",
      "Features output [scaffold360.gff]: /Volumes/web/cnidarian/TJGR_v9cpgplot2.gff\n",
      "`    "
     ]
    },
    {
     "cell_type": "code",
     "collapsed": false,
     "input": [
      "!head /Volumes/web/cnidarian/TJGR_v9cpgplot2.gff\n"
     ],
     "language": "python",
     "metadata": {},
     "outputs": [
      {
       "output_type": "stream",
       "stream": "stdout",
       "text": [
        "##gff-version 3\r\n",
        "##sequence-region scaffold360 1 0\r\n",
        "#!Date 2013-08-26\r\n",
        "#!Type DNA\r\n",
        "#!Source-version EMBOSS 6.5.7.0\r\n",
        "##gff-version 3\r\n",
        "##sequence-region scaffold18356 1 0\r\n",
        "#!Date 2013-08-26\r\n",
        "#!Type DNA\r\n",
        "#!Source-version EMBOSS 6.5.7.0\r\n"
       ]
      }
     ],
     "prompt_number": 2
    },
    {
     "cell_type": "code",
     "collapsed": false,
     "input": [
      "!fgrep -c \"sequence_feature\" /Volumes/web/cnidarian/TJGR_v9cpgplot2.gff"
     ],
     "language": "python",
     "metadata": {},
     "outputs": [
      {
       "output_type": "stream",
       "stream": "stdout",
       "text": [
        "121844\r\n"
       ]
      }
     ],
     "prompt_number": 4
    },
    {
     "cell_type": "markdown",
     "metadata": {},
     "source": [
      "*again*   \n",
      "`\n",
      "Window size [100]: \n",
      "Minimum length of an island [200]: \n",
      "Minimum observed/expected [0.6]: \n",
      "Minimum percentage [50.]: 45\n",
      "Output file [scaffold360.cpgplot]: /Users/sr320/Desktop/v9.cpgplot \n",
      "Graph type [x11]: none\n",
      "Features output [scaffold360.gff]: /Volumes/web/cnidarian/TJGR_v9cpgplot3.gff\n",
      "`"
     ]
    },
    {
     "cell_type": "code",
     "collapsed": false,
     "input": [
      "!head /Volumes/web/cnidarian/TJGR_v9cpgplot3.gff\n"
     ],
     "language": "python",
     "metadata": {},
     "outputs": [
      {
       "output_type": "stream",
       "stream": "stdout",
       "text": [
        "##gff-version 3\r\n",
        "##sequence-region scaffold360 1 0\r\n",
        "#!Date 2013-08-26\r\n",
        "#!Type DNA\r\n",
        "#!Source-version EMBOSS 6.5.7.0\r\n",
        "##gff-version 3\r\n",
        "##sequence-region scaffold18356 1 0\r\n",
        "#!Date 2013-08-26\r\n",
        "#!Type DNA\r\n",
        "#!Source-version EMBOSS 6.5.7.0\r\n"
       ]
      }
     ],
     "prompt_number": 5
    },
    {
     "cell_type": "code",
     "collapsed": false,
     "input": [
      "!fgrep -c \"sequence_feature\" /Volumes/web/cnidarian/TJGR_v9cpgplot3.gff"
     ],
     "language": "python",
     "metadata": {},
     "outputs": [
      {
       "output_type": "stream",
       "stream": "stdout",
       "text": [
        "22410\r\n"
       ]
      }
     ],
     "prompt_number": 7
    },
    {
     "cell_type": "code",
     "collapsed": false,
     "input": [
      "#how about intersecting methylation with CpG islands and plot histogram?"
     ],
     "language": "python",
     "metadata": {},
     "outputs": [],
     "prompt_number": 8
    },
    {
     "cell_type": "code",
     "collapsed": false,
     "input": [
      "!intersectbed -c -a /Volumes/web/cnidarian/TJGR_v9cpgplot3.gff -b /Volumes/web/bivalvia/wholegenomefiles_MBDbsSeq_gill/finalSupp_figshare/Cgigas_gill_HTbisulfiteSeq_CG_methylated.gff > /Volumes/web/cnidarian/BiGill_island3_intersect_mCpG.txt"
     ],
     "language": "python",
     "metadata": {},
     "outputs": [],
     "prompt_number": 9
    },
    {
     "cell_type": "code",
     "collapsed": false,
     "input": [
      "!head /Volumes/web/cnidarian/BiGill_island3_intersect_mCpG.txt"
     ],
     "language": "python",
     "metadata": {},
     "outputs": [
      {
       "output_type": "stream",
       "stream": "stdout",
       "text": [
        "scaffold23910\tcpgplot\tsequence_feature\t1279\t1555\t.\t+\t.\tID=scaffold23910.1\t0\r\n",
        "scaffold32586\tcpgplot\tsequence_feature\t1692\t1941\t.\t+\t.\tID=scaffold32586.1\t0\r\n",
        "scaffold32586\tcpgplot\tsequence_feature\t5695\t6035\t.\t+\t.\tID=scaffold32586.2\t1\r\n",
        "scaffold32586\tcpgplot\tsequence_feature\t6602\t6806\t.\t+\t.\tID=scaffold32586.3\t0\r\n",
        "scaffold900\tcpgplot\tsequence_feature\t2406\t3042\t.\t+\t.\tID=scaffold900.1\t0\r\n",
        "scaffold33640\tcpgplot\tsequence_feature\t4077\t4288\t.\t+\t.\tID=scaffold33640.1\t0\r\n",
        "scaffold32024\tcpgplot\tsequence_feature\t8005\t8296\t.\t+\t.\tID=scaffold32024.1\t2\r\n",
        "scaffold33132\tcpgplot\tsequence_feature\t8510\t8775\t.\t+\t.\tID=scaffold33132.1\t0\r\n",
        "scaffold33132\tcpgplot\tsequence_feature\t8834\t9115\t.\t+\t.\tID=scaffold33132.2\t0\r\n",
        "scaffold32140\tcpgplot\tsequence_feature\t480\t821\t.\t+\t.\tID=scaffold32140.1\t0\r\n"
       ]
      }
     ],
     "prompt_number": 10
    },
    {
     "cell_type": "code",
     "collapsed": false,
     "input": [
      "!wc /Volumes/web/cnidarian/BiGill_island3_intersect_mCpG.txt"
     ],
     "language": "python",
     "metadata": {},
     "outputs": [
      {
       "output_type": "stream",
       "stream": "stdout",
       "text": [
        "   22410  224100 1713353 /Volumes/web/cnidarian/BiGill_island3_intersect_mCpG.txt\r\n"
       ]
      }
     ],
     "prompt_number": 35
    },
    {
     "cell_type": "code",
     "collapsed": false,
     "input": [
      "from pandas import *\n",
      "\n",
      "# read data from data file into a pandas DataFrame  \n",
      "island = read_table(\"/Volumes/web/cnidarian/BiGill_island3_intersect_mCpG.txt\", # name of the data file\n",
      "            #sep=\"\\t\", # what character separates each column?\n",
      "            #na_values=[\"\", \" \"], # what values should be considered \"blank\" values?\n",
      "            header=None)"
     ],
     "language": "python",
     "metadata": {},
     "outputs": [],
     "prompt_number": 11
    },
    {
     "cell_type": "code",
     "collapsed": false,
     "input": [],
     "language": "python",
     "metadata": {},
     "outputs": []
    },
    {
     "cell_type": "code",
     "collapsed": false,
     "input": [
      "island[9].hist(bins=50);\n",
      "#Axis limits are changed using the axis([xmin, xmax, ymin, ymax]) function.\n",
      "#plt.axis([0, 30, 0, 1000]);\n",
      "plt.title('island_meth');"
     ],
     "language": "python",
     "metadata": {},
     "outputs": [
      {
       "metadata": {},
       "output_type": "display_data",
       "png": "[encoded data removed]",
       "text": [
        "<matplotlib.figure.Figure at 0x1078df410>"
       ]
      }
     ],
     "prompt_number": 25
    },
    {
     "cell_type": "code",
     "collapsed": false,
     "input": [
      "#also need to get total CG..."
     ],
     "language": "python",
     "metadata": {},
     "outputs": [],
     "prompt_number": 22
    },
    {
     "cell_type": "code",
     "collapsed": false,
     "input": [
      "!intersectbed -c -a /Volumes/web/cnidarian/TJGR_v9cpgplot3.gff -b /Volumes/web/trilobite/Crassostrea_gigas_v9_tracks/Cgigas_v9_CG.gff > /Volumes/web/cnidarian/BiGill_island3_intersect_CG.txt"
     ],
     "language": "python",
     "metadata": {},
     "outputs": [],
     "prompt_number": 23
    },
    {
     "cell_type": "code",
     "collapsed": false,
     "input": [
      "!head /Volumes/web/cnidarian/BiGill_island3_intersect_CG.txt"
     ],
     "language": "python",
     "metadata": {},
     "outputs": [
      {
       "output_type": "stream",
       "stream": "stdout",
       "text": [
        "scaffold23910\tcpgplot\tsequence_feature\t1279\t1555\t.\t+\t.\tID=scaffold23910.1\t17\r\n",
        "scaffold32586\tcpgplot\tsequence_feature\t1692\t1941\t.\t+\t.\tID=scaffold32586.1\t10\r\n",
        "scaffold32586\tcpgplot\tsequence_feature\t5695\t6035\t.\t+\t.\tID=scaffold32586.2\t30\r\n",
        "scaffold32586\tcpgplot\tsequence_feature\t6602\t6806\t.\t+\t.\tID=scaffold32586.3\t16\r\n",
        "scaffold900\tcpgplot\tsequence_feature\t2406\t3042\t.\t+\t.\tID=scaffold900.1\t36\r\n",
        "scaffold33640\tcpgplot\tsequence_feature\t4077\t4288\t.\t+\t.\tID=scaffold33640.1\t15\r\n",
        "scaffold32024\tcpgplot\tsequence_feature\t8005\t8296\t.\t+\t.\tID=scaffold32024.1\t17\r\n",
        "scaffold33132\tcpgplot\tsequence_feature\t8510\t8775\t.\t+\t.\tID=scaffold33132.1\t16\r\n",
        "scaffold33132\tcpgplot\tsequence_feature\t8834\t9115\t.\t+\t.\tID=scaffold33132.2\t10\r\n",
        "scaffold32140\tcpgplot\tsequence_feature\t480\t821\t.\t+\t.\tID=scaffold32140.1\t23\r\n"
       ]
      }
     ],
     "prompt_number": 24
    },
    {
     "cell_type": "code",
     "collapsed": false,
     "input": [
      "!wc /Volumes/web/cnidarian/BiGill_island3_intersect_CG.txt"
     ],
     "language": "python",
     "metadata": {},
     "outputs": [
      {
       "output_type": "stream",
       "stream": "stdout",
       "text": [
        "   22410  224100 1733171 /Volumes/web/cnidarian/BiGill_island3_intersect_CG.txt\r\n"
       ]
      }
     ],
     "prompt_number": 34
    },
    {
     "cell_type": "code",
     "collapsed": false,
     "input": [
      "# read data from data file into a pandas DataFrame  \n",
      "iscg = read_table(\"/Volumes/web/cnidarian/BiGill_island3_intersect_CG.txt\", # name of the data file\n",
      "            #sep=\"\\t\", # what character separates each column?\n",
      "            #na_values=[\"\", \" \"], # what values should be considered \"blank\" values?\n",
      "            header=None)"
     ],
     "language": "python",
     "metadata": {},
     "outputs": [],
     "prompt_number": 26
    },
    {
     "cell_type": "code",
     "collapsed": false,
     "input": [
      "iscg[9].hist(bins=50);\n",
      "#Axis limits are changed using the axis([xmin, xmax, ymin, ymax]) function.\n",
      "#plt.axis([0, 1000, 0, 200]);\n",
      "plt.title('island_cg');"
     ],
     "language": "python",
     "metadata": {},
     "outputs": [
      {
       "metadata": {},
       "output_type": "display_data",
       "png": "[encoded data removed]",
       "text": [
        "<matplotlib.figure.Figure at 0x10793f710>"
       ]
      }
     ],
     "prompt_number": 32
    },
    {
     "cell_type": "code",
     "collapsed": false,
     "input": [
      "#now need to do some math (SQLShare?) for each island mCG/totalCG to get %methylation"
     ],
     "language": "python",
     "metadata": {},
     "outputs": [],
     "prompt_number": 33
    },
    {
     "cell_type": "code",
     "collapsed": false,
     "input": [
      "print island[9],iscg[9],island[9]/iscg[9]\n",
      "\n"
     ],
     "language": "python",
     "metadata": {},
     "outputs": [
      {
       "ename": "NameError",
       "evalue": "name 'island' is not defined",
       "output_type": "pyerr",
       "traceback": [
        "\u001b[0;31m---------------------------------------------------------------------------\u001b[0m\n\u001b[0;31mNameError\u001b[0m                                 Traceback (most recent call last)",
        "\u001b[0;32m<ipython-input-3-d40ab837282e>\u001b[0m in \u001b[0;36m<module>\u001b[0;34m()\u001b[0m\n\u001b[0;32m----> 1\u001b[0;31m \u001b[0;32mprint\u001b[0m \u001b[0misland\u001b[0m\u001b[0;34m[\u001b[0m\u001b[0;36m9\u001b[0m\u001b[0;34m]\u001b[0m\u001b[0;34m,\u001b[0m\u001b[0miscg\u001b[0m\u001b[0;34m[\u001b[0m\u001b[0;36m9\u001b[0m\u001b[0;34m]\u001b[0m\u001b[0;34m,\u001b[0m\u001b[0misland\u001b[0m\u001b[0;34m[\u001b[0m\u001b[0;36m9\u001b[0m\u001b[0;34m]\u001b[0m\u001b[0;34m/\u001b[0m\u001b[0miscg\u001b[0m\u001b[0;34m[\u001b[0m\u001b[0;36m9\u001b[0m\u001b[0;34m]\u001b[0m\u001b[0;34m\u001b[0m\u001b[0m\n\u001b[0m\u001b[1;32m      2\u001b[0m \u001b[0;34m\u001b[0m\u001b[0m\n",
        "\u001b[0;31mNameError\u001b[0m: name 'island' is not defined"
       ]
      }
     ],
     "prompt_number": 3
    },
    {
     "cell_type": "code",
     "collapsed": false,
     "input": [
      "GAVE UP -- excelled it\n"
     ],
     "language": "python",
     "metadata": {},
     "outputs": [
      {
       "ename": "SyntaxError",
       "evalue": "invalid syntax (<ipython-input-70-31e33965a1a2>, line 1)",
       "output_type": "pyerr",
       "traceback": [
        "\u001b[0;36m  File \u001b[0;32m\"<ipython-input-70-31e33965a1a2>\"\u001b[0;36m, line \u001b[0;32m1\u001b[0m\n\u001b[0;31m    GAVE UP -- excelled it\u001b[0m\n\u001b[0m          ^\u001b[0m\n\u001b[0;31mSyntaxError\u001b[0m\u001b[0;31m:\u001b[0m invalid syntax\n"
       ]
      }
     ],
     "prompt_number": 70
    },
    {
     "cell_type": "code",
     "collapsed": false,
     "input": [
      "!head /Volumes/web/cnidarian/BiGill_island3_intersect_PERmCpG.txt"
     ],
     "language": "python",
     "metadata": {},
     "outputs": [
      {
       "output_type": "stream",
       "stream": "stdout",
       "text": [
        "scaffold23910\tcpgplot\tsequence_feature\t1279\t1555\t.\t+\t.\tID=scaffold23910.1\t0\t17\t0\r\n",
        "scaffold32586\tcpgplot\tsequence_feature\t1692\t1941\t.\t+\t.\tID=scaffold32586.1\t0\t10\t0\r\n",
        "scaffold32586\tcpgplot\tsequence_feature\t5695\t6035\t.\t+\t.\tID=scaffold32586.2\t1\t30\t0.033333333\r\n",
        "scaffold32586\tcpgplot\tsequence_feature\t6602\t6806\t.\t+\t.\tID=scaffold32586.3\t0\t16\t0\r\n",
        "scaffold900\tcpgplot\tsequence_feature\t2406\t3042\t.\t+\t.\tID=scaffold900.1\t0\t36\t0\r\n",
        "scaffold33640\tcpgplot\tsequence_feature\t4077\t4288\t.\t+\t.\tID=scaffold33640.1\t0\t15\t0\r\n",
        "scaffold32024\tcpgplot\tsequence_feature\t8005\t8296\t.\t+\t.\tID=scaffold32024.1\t2\t17\t0.117647059\r\n",
        "scaffold33132\tcpgplot\tsequence_feature\t8510\t8775\t.\t+\t.\tID=scaffold33132.1\t0\t16\t0\r\n",
        "scaffold33132\tcpgplot\tsequence_feature\t8834\t9115\t.\t+\t.\tID=scaffold33132.2\t0\t10\t0\r\n",
        "scaffold32140\tcpgplot\tsequence_feature\t480\t821\t.\t+\t.\tID=scaffold32140.1\t0\t23\t0\r\n"
       ]
      }
     ],
     "prompt_number": 73
    },
    {
     "cell_type": "code",
     "collapsed": false,
     "input": [
      "# read data from data file into a pandas DataFrame  \n",
      "perMcg = read_table(\"/Volumes/web/cnidarian/BiGill_island3_intersect_PERmCpG.txt\", # name of the data file\n",
      "            #sep=\"\\t\", # what character separates each column?\n",
      "            #na_values=[\"\", \" \"], # what values should be considered \"blank\" values?\n",
      "            header=None)"
     ],
     "language": "python",
     "metadata": {},
     "outputs": [],
     "prompt_number": 75
    },
    {
     "cell_type": "code",
     "collapsed": false,
     "input": [
      "perMcg[11].hist(bins=50);\n",
      "#Axis limits are changed using the axis([xmin, xmax, ymin, ymax]) function.\n",
      "plt.axis([0, 1, 0, 2000]);\n",
      "plt.title('Island percent_mcg');"
     ],
     "language": "python",
     "metadata": {},
     "outputs": [
      {
       "metadata": {},
       "output_type": "display_data",
       "png": "[encoded data removed]",
       "text": [
        "<matplotlib.figure.Figure at 0x106f6f290>"
       ]
      }
     ],
     "prompt_number": 82
    },
    {
     "cell_type": "code",
     "collapsed": false,
     "input": [
      "# Develop track of CpG islands that are >80% methylated"
     ],
     "language": "python",
     "metadata": {},
     "outputs": [],
     "prompt_number": 83
    },
    {
     "cell_type": "code",
     "collapsed": false,
     "input": [
      "!head /Volumes/web/cnidarian/TJGR_v9cpgplot3_80.gff"
     ],
     "language": "python",
     "metadata": {},
     "outputs": [
      {
       "output_type": "stream",
       "stream": "stdout",
       "text": [
        "scaffold1260\tcpgplot\tsequence_feature\t113426\t113836\t.\t+\t.\tID=scaffold1260.1\r\n",
        "scaffold1260\tcpgplot\tsequence_feature\t138056\t138259\t.\t+\t.\tID=scaffold1260.2\r\n",
        "scaffold1050\tcpgplot\tsequence_feature\t63117\t63359\t.\t+\t.\tID=scaffold1050.2\r\n",
        "scaffold560\tcpgplot\tsequence_feature\t162469\t162709\t.\t+\t.\tID=scaffold560.8\r\n",
        "scaffold560\tcpgplot\tsequence_feature\t166332\t166575\t.\t+\t.\tID=scaffold560.9\r\n",
        "scaffold40246\tcpgplot\tsequence_feature\t67350\t67561\t.\t+\t.\tID=scaffold40246.1\r\n",
        "scaffold42236\tcpgplot\tsequence_feature\t31313\t31549\t.\t+\t.\tID=scaffold42236.1\r\n",
        "scaffold42236\tcpgplot\tsequence_feature\t32151\t32455\t.\t+\t.\tID=scaffold42236.2\r\n",
        "scaffold39720\tcpgplot\tsequence_feature\t44558\t44761\t.\t+\t.\tID=scaffold39720.3\r\n",
        "scaffold37178\tcpgplot\tsequence_feature\t3880\t4081\t.\t+\t.\tID=scaffold37178.1\r\n"
       ]
      }
     ],
     "prompt_number": 84
    },
    {
     "cell_type": "code",
     "collapsed": false,
     "input": [
      "!wc /Volumes/web/cnidarian/TJGR_v9cpgplot3_80.gff"
     ],
     "language": "python",
     "metadata": {},
     "outputs": [
      {
       "output_type": "stream",
       "stream": "stdout",
       "text": [
        "    1723   15516  129211 /Volumes/web/cnidarian/TJGR_v9cpgplot3_80.gff\r\n"
       ]
      }
     ],
     "prompt_number": 85
    },
    {
     "cell_type": "markdown",
     "metadata": {},
     "source": [
      "**Represents 1723 islands that are 80% methylated or higher**"
     ]
    },
    {
     "cell_type": "markdown",
     "metadata": {},
     "source": [
      "http://eagle.fish.washington.edu/cnidarian/TJGR_v9cpgplot3_80.gff"
     ]
    },
    {
     "cell_type": "heading",
     "level": 2,
     "metadata": {},
     "source": [
      "Defining Promoter Track [contains CpG Islands / does not overlap gene]"
     ]
    },
    {
     "cell_type": "code",
     "collapsed": false,
     "input": [
      "#ID promoters that do not overlap gene bodies"
     ],
     "language": "python",
     "metadata": {},
     "outputs": [],
     "prompt_number": 86
    },
    {
     "cell_type": "code",
     "collapsed": false,
     "input": [],
     "language": "python",
     "metadata": {},
     "outputs": []
    },
    {
     "cell_type": "code",
     "collapsed": false,
     "input": [
      "!subtractbed -a /Volumes/web/trilobite/Crassostrea_gigas_v9_tracks/Cgigas_v9_1k5p_gene_promoter.gff -b /Volumes/web/trilobite/Crassostrea_gigas_v9_tracks/Cgigas_v9_gene.gff > /Volumes/web/cnidarian/TJGR_prom_subtract_gene1.gff "
     ],
     "language": "python",
     "metadata": {},
     "outputs": [],
     "prompt_number": 87
    },
    {
     "cell_type": "code",
     "collapsed": false,
     "input": [
      "!head /Volumes/web/cnidarian/TJGR_prom_subtract_gene1.gff "
     ],
     "language": "python",
     "metadata": {},
     "outputs": [
      {
       "output_type": "stream",
       "stream": "stdout",
       "text": [
        "C16582\tflankbed\tpromoter\t386\t395\t.\t-\t.\tID=CGI_10000001;\r",
        "\r\n",
        "C17212\tflankbed\tpromoter\t1\t30\t.\t+\t.\tID=CGI_10000002;\r",
        "\r\n",
        "C17316\tflankbed\tpromoter\t1\t29\t.\t+\t.\tID=CGI_10000003;\r",
        "\r\n",
        "C17476\tflankbed\tpromoter\t258\t491\t.\t-\t.\tID=CGI_10000004;\r",
        "\r\n",
        "C17998\tflankbed\tpromoter\t388\t559\t.\t-\t.\tID=CGI_10000005;\r",
        "\r\n",
        "C18346\tflankbed\tpromoter\t1\t173\t.\t+\t.\tID=CGI_10000009;\r",
        "\r\n",
        "C18428\tflankbed\tpromoter\t547\t611\t.\t-\t.\tID=CGI_10000010;\r",
        "\r\n",
        "C18964\tflankbed\tpromoter\t659\t714\t.\t-\t.\tID=CGI_10000011;\r",
        "\r\n",
        "C18980\tflankbed\tpromoter\t1\t29\t.\t+\t.\tID=CGI_10000012;\r",
        "\r\n",
        "C19100\tflankbed\tpromoter\t682\t743\t.\t-\t.\tID=CGI_10000013;\r",
        "\r\n"
       ]
      }
     ],
     "prompt_number": 89
    },
    {
     "cell_type": "code",
     "collapsed": false,
     "input": [
      "!wc /Volumes/web/cnidarian/TJGR_prom_subtract_gene1.gff "
     ],
     "language": "python",
     "metadata": {},
     "outputs": [
      {
       "output_type": "stream",
       "stream": "stdout",
       "text": [
        "   26706  240354 1803061 /Volumes/web/cnidarian/TJGR_prom_subtract_gene1.gff\r\n"
       ]
      }
     ],
     "prompt_number": 90
    },
    {
     "cell_type": "code",
     "collapsed": false,
     "input": [
      "!wc /Volumes/web/trilobite/Crassostrea_gigas_v9_tracks/Cgigas_v9_1k5p_gene_promoter.gff"
     ],
     "language": "python",
     "metadata": {},
     "outputs": [
      {
       "output_type": "stream",
       "stream": "stdout",
       "text": [
        "   28023  252207 1892891 /Volumes/web/trilobite/Crassostrea_gigas_v9_tracks/Cgigas_v9_1k5p_gene_promoter.gff\r\n"
       ]
      }
     ],
     "prompt_number": 91
    },
    {
     "cell_type": "code",
     "collapsed": false,
     "input": [],
     "language": "python",
     "metadata": {},
     "outputs": []
    },
    {
     "cell_type": "markdown",
     "metadata": {},
     "source": [
      "*take promoter track and keep only contain CpG Islands as defined by /Volumes/web/cnidarian/TJGR_v9cpgplot3.gff*    \n",
      "`\n",
      "Window size [100]: \n",
      "Minimum length of an island [200]: \n",
      "Minimum observed/expected [0.6]: \n",
      "Minimum percentage [50.]: 45\n",
      "Output file [scaffold360.cpgplot]: /Users/sr320/Desktop/v9.cpgplot \n",
      "`"
     ]
    },
    {
     "cell_type": "code",
     "collapsed": false,
     "input": [
      "!intersectbed -wa -a /Volumes/web/cnidarian/TJGR_prom_subtract_gene1.gff -b /Volumes/web/cnidarian/TJGR_v9cpgplot3.gff > /Volumes/web/cnidarian/TJGR_prom_notgene_cpgIsland1.gff  "
     ],
     "language": "python",
     "metadata": {},
     "outputs": [],
     "prompt_number": 92
    },
    {
     "cell_type": "code",
     "collapsed": false,
     "input": [
      "!head /Volumes/web/cnidarian/TJGR_prom_notgene_cpgIsland1.gff  "
     ],
     "language": "python",
     "metadata": {},
     "outputs": [
      {
       "output_type": "stream",
       "stream": "stdout",
       "text": [
        "C18346\tflankbed\tpromoter\t1\t173\t.\t+\t.\tID=CGI_10000009;\r",
        "\r\n",
        "C18428\tflankbed\tpromoter\t547\t611\t.\t-\t.\tID=CGI_10000010;\r",
        "\r\n",
        "C19356\tflankbed\tpromoter\t1\t354\t.\t+\t.\tID=CGI_10000014;\r",
        "\r\n",
        "C19532\tflankbed\tpromoter\t602\t843\t.\t-\t.\tID=CGI_10000017;\r",
        "\r\n",
        "C20578\tflankbed\tpromoter\t1\t698\t.\t+\t.\tID=CGI_10000034;\r",
        "\r\n",
        "C21046\tflankbed\tpromoter\t813\t1275\t.\t-\t.\tID=CGI_10000042;\r",
        "\r\n",
        "C21254\tflankbed\tpromoter\t1\t669\t.\t+\t.\tID=CGI_10000047;\r",
        "\r\n",
        "C21254\tflankbed\tpromoter\t1\t669\t.\t+\t.\tID=CGI_10000047;\r",
        "\r\n",
        "C21260\tflankbed\tpromoter\t1176\t1343\t.\t-\t.\tID=CGI_10000048;\r",
        "\r\n",
        "C22036\tflankbed\tpromoter\t1\t947\t.\t+\t.\tID=CGI_10000068;\r",
        "\r\n"
       ]
      }
     ],
     "prompt_number": 93
    },
    {
     "cell_type": "code",
     "collapsed": false,
     "input": [
      "!wc /Volumes/web/cnidarian/TJGR_prom_notgene_cpgIsland1.gff  "
     ],
     "language": "python",
     "metadata": {},
     "outputs": [
      {
       "output_type": "stream",
       "stream": "stdout",
       "text": [
        "    2649   23841  178121 /Volumes/web/cnidarian/TJGR_prom_notgene_cpgIsland1.gff\r\n"
       ]
      }
     ],
     "prompt_number": 94
    },
    {
     "cell_type": "markdown",
     "metadata": {},
     "source": [
      "http://eagle.fish.washington.edu/cnidarian/TJGR_prom_notgene_cpgIsland1.gff"
     ]
    },
    {
     "cell_type": "code",
     "collapsed": false,
     "input": [
      "#again with more generous definition of CpG Island "
     ],
     "language": "python",
     "metadata": {},
     "outputs": [],
     "prompt_number": 95
    },
    {
     "cell_type": "markdown",
     "metadata": {},
     "source": [
      "`\n",
      "Window size [100]:\n",
      "Minimum length of an island [200]: 150\n",
      "Minimum observed/expected [0.6]: \n",
      "Minimum percentage [50.]: 40\n",
      "Output file [scaffold360.cpgplot]: /Users/sr320/Desktop/v9.cpgplot    \n",
      "Graph type [x11]: none\n",
      "Features output [scaffold360.gff]: */Volumes/web/cnidarian/TJGR_v9cpgplot2.gff*\n",
      "    `"
     ]
    },
    {
     "cell_type": "code",
     "collapsed": false,
     "input": [
      "!intersectbed -wa -a /Volumes/web/cnidarian/TJGR_prom_subtract_gene1.gff -b /Volumes/web/cnidarian/TJGR_v9cpgplot2.gff > /Volumes/web/cnidarian/TJGR_prom_notgene_cpgIsland2.gff  "
     ],
     "language": "python",
     "metadata": {},
     "outputs": [],
     "prompt_number": 96
    },
    {
     "cell_type": "code",
     "collapsed": false,
     "input": [
      "!wc /Volumes/web/cnidarian/TJGR_prom_notgene_cpgIsland2.gff  "
     ],
     "language": "python",
     "metadata": {},
     "outputs": [
      {
       "output_type": "stream",
       "stream": "stdout",
       "text": [
        "   12286  110574  830426 /Volumes/web/cnidarian/TJGR_prom_notgene_cpgIsland2.gff\r\n"
       ]
      }
     ],
     "prompt_number": 97
    },
    {
     "cell_type": "markdown",
     "metadata": {},
     "source": [
      "http://eagle.fish.washington.edu/cnidarian/TJGR_prom_notgene_cpgIsland2.gff"
     ]
    },
    {
     "cell_type": "code",
     "collapsed": false,
     "input": [],
     "language": "python",
     "metadata": {},
     "outputs": []
    }
   ],
   "metadata": {}
  }
 ]
}