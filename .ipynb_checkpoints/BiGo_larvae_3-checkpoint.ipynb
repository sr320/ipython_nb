{
 "metadata": {
  "name": "",
  "signature": "sha256:ccc5bb27212d9d94fe4868c83edb6472b143a607316f5cabd077cb70bee3c98b"
 },
 "nbformat": 3,
 "nbformat_minor": 0,
 "worksheets": [
  {
   "cells": [
    {
     "cell_type": "heading",
     "level": 1,
     "metadata": {},
     "source": [
      "Goal: Larvae BS data (adaptor trimmed) from methratio to genome feature tracks"
     ]
    },
    {
     "cell_type": "heading",
     "level": 2,
     "metadata": {},
     "source": [
      "methratio files"
     ]
    },
    {
     "cell_type": "markdown",
     "metadata": {},
     "source": [
      "<img src=\"http://eagle.fish.washington.edu/cnidarian/skitch/Index_of__Volumes_web_Mollusk_bs_larvae_exp_AdapterTrimmed_methratio_files__19198F3E.png\" width=75% alt=\"Index_of__Volumes_web_Mollusk_bs_larvae_exp_AdapterTrimmed_methratio_files__19198F3E.png\"/>"
     ]
    },
    {
     "cell_type": "markdown",
     "metadata": {},
     "source": [
      "<http://eagle.fish.washington.edu/Mollusk/index.php?dir=bs_larvae_exp%2FAdapterTrimmed_methratio_files%2F>"
     ]
    },
    {
     "cell_type": "code",
     "collapsed": false,
     "input": [
      "!head /Volumes/web/Mollusk/bs_larvae_exp/AdapterTrimmed_methratio_files/methratio_out_M1.txt"
     ],
     "language": "python",
     "metadata": {},
     "outputs": [
      {
       "output_type": "stream",
       "stream": "stdout",
       "text": [
        "chr\tpos\tstrand\tcontext\tratio\teff_CT_count\tC_count\tCT_count\trev_G_count\trev_GA_count\tCI_lower\tCI_upper\r\n",
        "C12706\t51\t-\tCAGAG\t0.000\t1.00\t0\t1\t0\t0\t0.000\t0.793\r\n",
        "C12706\t53\t-\tGAGAG\t0.000\t1.00\t0\t1\t0\t0\t0.000\t0.793\r\n",
        "C12706\t55\t-\tGAGGG\t0.000\t1.00\t0\t1\t0\t0\t0.000\t0.793\r\n",
        "C12706\t60\t-\tAAGAA\t0.000\t1.00\t0\t1\t0\t0\t0.000\t0.793\r\n",
        "C12706\t69\t+\tTCCGC\t0.000\t1.00\t0\t1\t1\t1\t0.000\t0.793\r\n",
        "C12706\t71\t+\tCGCGT\t0.000\t1.00\t0\t1\t1\t1\t0.000\t0.793\r\n",
        "C12706\t78\t-\tTTGAA\t0.000\t1.00\t0\t1\t0\t0\t0.000\t0.793\r\n",
        "C12706\t82\t-\tATGTC\t0.000\t1.00\t0\t1\t0\t0\t0.000\t0.793\r\n",
        "C12706\t95\t-\tTTGCA\t0.000\t1.00\t0\t1\t0\t0\t0.000\t0.793\r\n"
       ]
      }
     ],
     "prompt_number": 3
    },
    {
     "cell_type": "heading",
     "level": 2,
     "metadata": {},
     "source": [
      "Convert with awk"
     ]
    },
    {
     "cell_type": "markdown",
     "metadata": {},
     "source": [
      "take above file and generate table as such  \n",
      "```\n",
      "chr as seqname, 'methratio' as source, 'CpG' as feature, pos as start, pos + 1 as [end], ratio as score, strand, '.' as frame, '.' as attribute\n",
      "\n",
      "where \n",
      "context like '__CG_' \n",
      "and\n",
      "CT_Count > 3\n",
      "```\n",
      "\n",
      "example output\n",
      "```\n",
      "    seqname source feature start end score strand frame attribute\n",
      "    C12706 methratio CpG 71 72\t0.000 +\t. . \n",
      "```    "
     ]
    },
    {
     "cell_type": "heading",
     "level": 3,
     "metadata": {},
     "source": [
      "via Claire's NB"
     ]
    },
    {
     "cell_type": "code",
     "collapsed": false,
     "input": [
      "\n",
      "#Output for methratio file\n",
      "mr=\"/Volumes/web/Mollusk/bs_larvae_exp/AdapterTrimmed_methratio_files/\"\n",
      "\n",
      "#Location of filtered files\n",
      "filt=\"/Volumes/web/cnidarian/\""
     ],
     "language": "python",
     "metadata": {},
     "outputs": [],
     "prompt_number": 10
    },
    {
     "cell_type": "code",
     "collapsed": false,
     "input": [
      "### note to self let get into directory structure and process "
     ],
     "language": "python",
     "metadata": {},
     "outputs": []
    },
    {
     "cell_type": "code",
     "collapsed": false,
     "input": [
      "#command for only obtaining the context '__CG_'\n",
      "!grep \"[A-Z][A-Z]CG[A-Z]\" <{mr}methratio_out_M1.txt> {filt}methratio_out_CG_M1a.txt"
     ],
     "language": "python",
     "metadata": {},
     "outputs": [],
     "prompt_number": 11
    },
    {
     "cell_type": "code",
     "collapsed": false,
     "input": [
      "!head {filt}methratio_out_CG_M1a.txt"
     ],
     "language": "python",
     "metadata": {},
     "outputs": [
      {
       "output_type": "stream",
       "stream": "stdout",
       "text": [
        "C12706\t69\t+\tTCCGC\t0.000\t1.00\t0\t1\t1\t1\t0.000\t0.793\r\n",
        "C12706\t71\t+\tCGCGT\t0.000\t1.00\t0\t1\t1\t1\t0.000\t0.793\r\n",
        "C12722\t104\t+\tTACGT\t0.500\t2.00\t1\t2\t1\t1\t0.095\t0.905\r\n",
        "C12722\t134\t+\tTGCGG\t0.500\t2.00\t1\t2\t2\t2\t0.095\t0.905\r\n",
        "C12768\t103\t+\tTTCGT\t0.167\t6.00\t1\t6\t6\t6\t0.030\t0.564\r\n",
        "C12768\t119\t+\tTTCGT\t0.250\t4.00\t1\t4\t4\t4\t0.046\t0.699\r\n",
        "C12768\t145\t+\tTTCGT\t0.000\t3.00\t0\t3\t3\t3\t0.000\t0.562\r\n",
        "C12768\t161\t+\tTTCGT\t0.000\t1.00\t0\t1\t1\t1\t0.000\t0.793\r\n",
        "C12778\t114\t+\tAGCGG\t0.000\t1.00\t0\t1\t1\t1\t0.000\t0.793\r\n",
        "C12782\t75\t+\tCGCGT\t0.000\t1.00\t0\t1\t0\t0\t0.000\t0.793\r\n"
       ]
      }
     ],
     "prompt_number": 13
    },
    {
     "cell_type": "code",
     "collapsed": false,
     "input": [
      "#command for only obtaining the context '__CG_'\n",
      "!grep \"[A-Z][A-Z]CG[A-Z]\" <methratio_out.txt> methratio_out_CG.txt \n",
      "#5x coverage\n",
      "!awk '{if ($8 >= 5) print $1,$2-1,$2+1,\"CpG\",$5}' <methratio_out_CG.txt> filt_methratio_out_CG.igv \n",
      "!tr ' ' \"\\t\" <filt_methratio_out_CG.igv> filt_methratio_{fid}.igv"
     ],
     "language": "python",
     "metadata": {},
     "outputs": []
    },
    {
     "cell_type": "heading",
     "level": 3,
     "metadata": {},
     "source": [
      "via Giles tip"
     ]
    },
    {
     "cell_type": "code",
     "collapsed": false,
     "input": [
      "BEGIN { print \"header here\"; }\n",
      "{   \n",
      "    pos=$2 + 1;\n",
      "    print $1\"\\t\"$5\"\\tNotsurewhatCpGIs\\t\"$2\"\\t\"pos\"\\t\"$3\"\\t.\\t.\\n\";\n",
      "}\n",
      "END { }"
     ],
     "language": "python",
     "metadata": {},
     "outputs": [
      {
       "ename": "SyntaxError",
       "evalue": "invalid syntax (<ipython-input-14-389ab61c8754>, line 1)",
       "output_type": "pyerr",
       "traceback": [
        "\u001b[0;36m  File \u001b[0;32m\"<ipython-input-14-389ab61c8754>\"\u001b[0;36m, line \u001b[0;32m1\u001b[0m\n\u001b[0;31m    BEGIN { print \"header here\"; }\u001b[0m\n\u001b[0m          ^\u001b[0m\n\u001b[0;31mSyntaxError\u001b[0m\u001b[0;31m:\u001b[0m invalid syntax\n"
       ]
      }
     ],
     "prompt_number": 14
    },
    {
     "cell_type": "code",
     "collapsed": false,
     "input": [
      "Oh nevermind I gotyah, just replace the first \"$5\" with methratio and the Notsure...etc with CpG\ufeff"
     ],
     "language": "python",
     "metadata": {},
     "outputs": [
      {
       "ename": "SyntaxError",
       "evalue": "invalid syntax (<ipython-input-15-41eb0ab3bd1e>, line 1)",
       "output_type": "pyerr",
       "traceback": [
        "\u001b[0;36m  File \u001b[0;32m\"<ipython-input-15-41eb0ab3bd1e>\"\u001b[0;36m, line \u001b[0;32m1\u001b[0m\n\u001b[0;31m    Oh nevermind I gotyah, just replace the first \"$5\" with methratio and the Notsure...etc with CpG\ufeff\u001b[0m\n\u001b[0m               ^\u001b[0m\n\u001b[0;31mSyntaxError\u001b[0m\u001b[0;31m:\u001b[0m invalid syntax\n"
       ]
      }
     ],
     "prompt_number": 15
    },
    {
     "cell_type": "heading",
     "level": 2,
     "metadata": {},
     "source": [
      "Conversion to GFF using SQLShare"
     ]
    },
    {
     "cell_type": "code",
     "collapsed": false,
     "input": [
      "!python /Users/sr320/sqlshare-pythonclient/tools/singleupload.py -d scratch_methratio_out /Volumes/web/Mollusk/bs_larvae_exp/AdapterTrimmed_methratio_files/methratio_out_M1.txt\n"
     ],
     "language": "python",
     "metadata": {},
     "outputs": [
      {
       "output_type": "stream",
       "stream": "stdout",
       "text": [
        "processing chunk line 0 to 1945274 (3.89732503891 s elapsed)\r\n"
       ]
      },
      {
       "output_type": "stream",
       "stream": "stdout",
       "text": [
        "pushing /Volumes/web/Mollusk/bs_larvae_exp/AdapterTrimmed_methratio_files/methratio_out_M1.txt...\r\n"
       ]
      },
      {
       "output_type": "stream",
       "stream": "stdout",
       "text": [
        "parsing ED163753...\r\n"
       ]
      },
      {
       "output_type": "stream",
       "stream": "stdout",
       "text": [
        "processing chunk line 1945274 to 3736796 (273.087306023 s elapsed)\r\n"
       ]
      },
      {
       "output_type": "stream",
       "stream": "stdout",
       "text": [
        "pushing /Volumes/web/Mollusk/bs_larvae_exp/AdapterTrimmed_methratio_files/methratio_out_M1.txt...\r\n"
       ]
      },
      {
       "output_type": "stream",
       "stream": "stdout",
       "text": [
        "parsing 53DD1195...\r\n"
       ]
      },
      {
       "output_type": "stream",
       "stream": "stdout",
       "text": [
        "processing chunk line 3736796 to 5525892 (546.91216898 s elapsed)\r\n"
       ]
      },
      {
       "output_type": "stream",
       "stream": "stdout",
       "text": [
        "pushing /Volumes/web/Mollusk/bs_larvae_exp/AdapterTrimmed_methratio_files/methratio_out_M1.txt...\r\n"
       ]
      },
      {
       "output_type": "stream",
       "stream": "stdout",
       "text": [
        "parsing 768F91E1...\r\n"
       ]
      },
      {
       "output_type": "stream",
       "stream": "stdout",
       "text": [
        "processing chunk line 5525892 to 7319801 (947.744837999 s elapsed)\r\n"
       ]
      },
      {
       "output_type": "stream",
       "stream": "stdout",
       "text": [
        "pushing /Volumes/web/Mollusk/bs_larvae_exp/AdapterTrimmed_methratio_files/methratio_out_M1.txt...\r\n"
       ]
      },
      {
       "output_type": "stream",
       "stream": "stdout",
       "text": [
        "parsing F8960D89...\r\n"
       ]
      },
      {
       "output_type": "stream",
       "stream": "stdout",
       "text": [
        "processing chunk line 7319801 to 9109442 (1234.69283199 s elapsed)\r\n"
       ]
      },
      {
       "output_type": "stream",
       "stream": "stdout",
       "text": [
        "pushing /Volumes/web/Mollusk/bs_larvae_exp/AdapterTrimmed_methratio_files/methratio_out_M1.txt...\r\n"
       ]
      },
      {
       "output_type": "stream",
       "stream": "stdout",
       "text": [
        "parsing 51DB6B5E...\r\n"
       ]
      },
      {
       "output_type": "stream",
       "stream": "stdout",
       "text": [
        "processing chunk line 9109442 to 10908661 (2074.72074103 s elapsed)\r\n"
       ]
      },
      {
       "output_type": "stream",
       "stream": "stdout",
       "text": [
        "pushing /Volumes/web/Mollusk/bs_larvae_exp/AdapterTrimmed_methratio_files/methratio_out_M1.txt...\r\n"
       ]
      },
      {
       "output_type": "stream",
       "stream": "stdout",
       "text": [
        "parsing EFE293D0...\r\n"
       ]
      },
      {
       "output_type": "stream",
       "stream": "stdout",
       "text": [
        "^C\r\n"
       ]
      }
     ],
     "prompt_number": 8
    },
    {
     "cell_type": "code",
     "collapsed": false,
     "input": [],
     "language": "python",
     "metadata": {},
     "outputs": []
    }
   ],
   "metadata": {}
  }
 ]
}