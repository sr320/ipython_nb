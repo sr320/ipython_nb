{
 "metadata": {
  "name": "",
  "signature": "sha256:a0b004a06ed4503f9a321ddfda8e218d9d0225dea51f2dbf4f6cf663182af15e"
 },
 "nbformat": 3,
 "nbformat_minor": 0,
 "worksheets": []
}