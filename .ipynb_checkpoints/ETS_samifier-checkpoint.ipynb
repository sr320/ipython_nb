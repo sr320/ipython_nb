{
 "metadata": {
  "name": ""
 },
 "nbformat": 3,
 "nbformat_minor": 0,
 "worksheets": [
  {
   "cells": [
    {
     "cell_type": "heading",
     "level": 1,
     "metadata": {},
     "source": [
      "Visualizing Emma's Proteomic Data in Genome Browser"
     ]
    },
    {
     "cell_type": "code",
     "collapsed": false,
     "input": [
      "!java -jar samifier.jar -r /Volumes/web/oyster/bioinformatics/xml_files/interact-20120821_103B_251_QE_02.pep.mzid -m /Volumes/web/oyster/bioinformatics/103B_251_02_mappingfile.txt -g /Volumes/web/oyster/bioinformatics/oyster.v9.glean.final.rename.fixed.gff -c /Volumes/web/oyster/bioinformatics/Crassostrea_gigas.GCA_000297895.1.21.dna.genome.fa.fa -o /Users/emmatimminsschiffman/Documents/winter_2014/Bioinformatics/Cg_samifier_out20140220 -l /Users/emmatimminsschiffman/Documents/winter_2014/Bioinformatics/log_20140220 -b /Users/emmatimminsschiffman/Documents/winter_2014/Cg_20140220.bed \n"
     ],
     "language": "python",
     "metadata": {},
     "outputs": []
    },
    {
     "cell_type": "code",
     "collapsed": false,
     "input": [
      "!java -jar /Users/sr320/Desktop/ap11_samifier-master/dist/samifier.jar -r"
     ],
     "language": "python",
     "metadata": {},
     "outputs": [
      {
       "output_type": "stream",
       "stream": "stdout",
       "text": [
        "org.apache.commons.cli.MissingOptionException: Missing required options: r, m, g, c, o\r\n",
        "Version = 1.0.9\r\n"
       ]
      },
      {
       "output_type": "stream",
       "stream": "stdout",
       "text": [
        "usage: samifier [-b <bedFile>] -c <chromosomeDir> -g <genomeFile> [-l\r\n",
        "       <logFile>] -m <mappingFile> -o <outputFile> -r <searchResultsFile>\r\n",
        "       [-s <Confidence Score thresold>]\r\n",
        " -b <bedFile>                     Filename to write IGV regions of\r\n",
        "                                  interest (BED) file to\r\n",
        " -c <chromosomeDir>               Directory containing the chromosome\r\n",
        "                                  files in FASTA format for the given\r\n",
        "                                  genome\r\n",
        " -g <genomeFile>                  Genome file in gff format\r\n",
        " -l <logFile>                     Filename to write the log into\r\n",
        " -m <mappingFile>                 File mapping protein identifier to\r\n",
        "                                  ordered locus name\r\n",
        " -o <outputFile>                  Filename to write the SAM format file to\r\n",
        " -r <searchResultsFile>           Mascot search results file in txt format\r\n",
        " -s <Confidence Score thresold>   Minimum confidence score for peptides to\r\n",
        "                                  be included\r\n"
       ]
      }
     ],
     "prompt_number": 2
    },
    {
     "cell_type": "code",
     "collapsed": false,
     "input": [
      "# -r <searchResultsFile>           Mascot search results file in txt format\n",
      "!head -50 /Volumes/web/oyster/bioinformatics/xml_files/interact-20120821_103B_251_QE_02.pep.mzid"
     ],
     "language": "python",
     "metadata": {},
     "outputs": [
      {
       "output_type": "stream",
       "stream": "stdout",
       "text": [
        "<?xml version=\"1.0\" encoding=\"ISO-8859-1\"?>\r\n",
        "<MzIdentML id=\"\" creationDate=\"2012-09-20T03:13:18\" version=\"1.1.0\" xsi:schemaLocation=\"http://psidev.info/psi/pi/mzIdentML/1.1 http://psidev.info/files/mzIdentML1.1.0.xsd\" xmlns=\"http://psidev.info/psi/pi/mzIdentML/1.1\" xmlns:xsi=\"http://www.w3.org/2001/XMLSchema-instance\">\r\n",
        "  <cvList>\r\n",
        "    <cv id=\"MS\" fullName=\"Proteomics Standards Initiative Mass Spectrometry Ontology\" version=\"3.53.0\" uri=\"http://psidev.cvs.sourceforge.net/*checkout*/psidev/psi/psi-ms/mzML/controlledVocabulary/psi-ms.obo\"/>\r\n",
        "    <cv id=\"UNIMOD\" fullName=\"UNIMOD\" version=\"2013-05-31\" uri=\"http://www.unimod.org/obo/unimod.obo\"/>\r\n",
        "    <cv id=\"UO\" fullName=\"Unit Ontology\" version=\"12:10:2011\" uri=\"http://obo.cvs.sourceforge.net/*checkout*/obo/obo/ontology/phenotype/unit.obo\"/>\r\n",
        "  </cvList>\r\n",
        "  <AnalysisSoftwareList>\r\n",
        "    <AnalysisSoftware id=\"AS_peptideprophet_\" name=\"peptideprophet\">\r\n",
        "      <SoftwareName><cvParam cvRef=\"MS\" accession=\"MS:1001456\" name=\"analysis software\" value=\"peptideprophet\"/></SoftwareName>\r\n",
        "    </AnalysisSoftware>\r\n",
        "    <AnalysisSoftware id=\"AS_database_refresh_\" name=\"database_refresh\">\r\n",
        "      <SoftwareName><cvParam cvRef=\"MS\" accession=\"MS:1001456\" name=\"analysis software\" value=\"database_refresh\"/></SoftwareName>\r\n",
        "    </AnalysisSoftware>\r\n",
        "    <AnalysisSoftware id=\"AS_interact_\" name=\"interact\">\r\n",
        "      <SoftwareName><cvParam cvRef=\"MS\" accession=\"MS:1001456\" name=\"analysis software\" value=\"interact\"/></SoftwareName>\r\n",
        "    </AnalysisSoftware>\r\n",
        "    <AnalysisSoftware id=\"AS_Sequest\" name=\"Sequest\">\r\n",
        "      <SoftwareName><cvParam cvRef=\"MS\" accession=\"MS:1001208\" name=\"SEQUEST\" value=\"\"/></SoftwareName>\r\n",
        "    </AnalysisSoftware>\r\n",
        "    <AnalysisSoftware id=\"pwiz_3.0.5519\" name=\"ProteoWizard MzIdentML\" version=\"3.0.5519\">\r\n",
        "      <ContactRole contact_ref=\"ORG_PWIZ\">\r\n",
        "        <Role><cvParam cvRef=\"MS\" accession=\"MS:1001267\" name=\"software vendor\" value=\"\"/></Role>\r\n",
        "      </ContactRole>\r\n",
        "      <SoftwareName><cvParam cvRef=\"MS\" accession=\"MS:1000615\" name=\"ProteoWizard software\" value=\"\"/></SoftwareName>\r\n",
        "    </AnalysisSoftware>\r\n",
        "  </AnalysisSoftwareList>\r\n",
        "  <AuditCollection>\r\n",
        "    <Organization id=\"ORG_PWIZ\" name=\"ProteoWizard\">\r\n",
        "      <cvParam cvRef=\"MS\" accession=\"MS:1000589\" name=\"contact email\" value=\"support@proteowizard.org\"/>\r\n",
        "    </Organization>\r\n",
        "  </AuditCollection>\r\n",
        "  <SequenceCollection>\r\n",
        "    <DBSequence id=\"DBSeq_CGI_10027476\" accession=\"CGI_10027476\" searchDatabase_ref=\"oyster.v9.glean.final.rename.gff.pep\"/>\r\n",
        "    <DBSequence id=\"DBSeq_CGI_10022468\" accession=\"CGI_10022468\" searchDatabase_ref=\"oyster.v9.glean.final.rename.gff.pep\"/>\r\n",
        "    <DBSequence id=\"DBSeq_CGI_10008057\" accession=\"CGI_10008057\" searchDatabase_ref=\"oyster.v9.glean.final.rename.gff.pep\"/>\r\n",
        "    <DBSequence id=\"DBSeq_CGI_10008062\" accession=\"CGI_10008062\" searchDatabase_ref=\"oyster.v9.glean.final.rename.gff.pep\"/>\r\n",
        "    <DBSequence id=\"DBSeq_CGI_10008068\" accession=\"CGI_10008068\" searchDatabase_ref=\"oyster.v9.glean.final.rename.gff.pep\"/>\r\n",
        "    <DBSequence id=\"DBSeq_CGI_10008073\" accession=\"CGI_10008073\" searchDatabase_ref=\"oyster.v9.glean.final.rename.gff.pep\"/>\r\n",
        "    <DBSequence id=\"DBSeq_CGI_10008078\" accession=\"CGI_10008078\" searchDatabase_ref=\"oyster.v9.glean.final.rename.gff.pep\"/>\r\n",
        "    <DBSequence id=\"DBSeq_CGI_10008083\" accession=\"CGI_10008083\" searchDatabase_ref=\"oyster.v9.glean.final.rename.gff.pep\"/>\r\n",
        "    <DBSequence id=\"DBSeq_CGI_10011811\" accession=\"CGI_10011811\" searchDatabase_ref=\"oyster.v9.glean.final.rename.gff.pep\"/>\r\n",
        "    <DBSequence id=\"DBSeq_CGI_10028133\" accession=\"CGI_10028133\" searchDatabase_ref=\"oyster.v9.glean.final.rename.gff.pep\"/>\r\n",
        "    <DBSequence id=\"DBSeq_CGI_10014966\" accession=\"CGI_10014966\" searchDatabase_ref=\"oyster.v9.glean.final.rename.gff.pep\"/>\r\n",
        "    <DBSequence id=\"DBSeq_CGI_10024399\" accession=\"CGI_10024399\" searchDatabase_ref=\"oyster.v9.glean.final.rename.gff.pep\"/>\r\n",
        "    <DBSequence id=\"DBSeq_CGI_10020326\" accession=\"CGI_10020326\" searchDatabase_ref=\"oyster.v9.glean.final.rename.gff.pep\"/>\r\n",
        "    <DBSequence id=\"DBSeq_CGI_10024572\" accession=\"CGI_10024572\" searchDatabase_ref=\"oyster.v9.glean.final.rename.gff.pep\"/>\r\n"
       ]
      },
      {
       "output_type": "stream",
       "stream": "stdout",
       "text": [
        "    <DBSequence id=\"DBSeq_CGI_10024579\" accession=\"CGI_10024579\" searchDatabase_ref=\"oyster.v9.glean.final.rename.gff.pep\"/>\r\n",
        "    <DBSequence id=\"DBSeq_CGI_10021674\" accession=\"CGI_10021674\" searchDatabase_ref=\"oyster.v9.glean.final.rename.gff.pep\"/>\r\n",
        "    <DBSequence id=\"DBSeq_CGI_10003490\" accession=\"CGI_10003490\" searchDatabase_ref=\"oyster.v9.glean.final.rename.gff.pep\"/>\r\n"
       ]
      }
     ],
     "prompt_number": 5
    },
    {
     "cell_type": "markdown",
     "metadata": {},
     "source": [
      "<http://eagle.fish.washington.edu/oyster/bioinformatics/xml_files/interact-20120821_103B_251_QE_02.pep.mzid>"
     ]
    },
    {
     "cell_type": "code",
     "collapsed": false,
     "input": [
      "!java -jar /Users/sr320/Desktop/ap11_samifier-master/dist/samifier.jar -r /Volumes/web/oyster/bioinformatics/xml_files/interact-20120821_103B_251_QE_02.pep.mzid -m /Volumes/we!b/oyster/bioinformatics/103B_251_02_mappingfile.txt -g /Volumes/web/oyster/bioinformatics/oyster.v9.glean.final.rename.fixed.gff -c /Volumes/web/oyster/bioinformatics/Crassostrea_gigas.GCA_000297895.1.21.dna.genome.fa.fa -o /Users/sr320/Desktop/Cg_samifier_out20140220 -l /Users/sr320/Desktop/log_20140220 -b /Users/sr320/Desktop/Cg_20140220.bed "
     ],
     "language": "python",
     "metadata": {},
     "outputs": [
      {
       "output_type": "stream",
       "stream": "stdout",
       "text": [
        "Version = 1.0.9\r\n",
        "au.org.intersect.samifier.parser.GenomeFileParsingException: Error in /Volumes/web/oyster/bioinformatics/oyster.v9.glean.final.rename.fixed.gff:23 C19392\tGLEAN\tCDS\t452\t610\t.\t+\t0\tParent=CGI_10000015;\r\n",
        " > Stop of sequence in gene CGI_10000015 overflows gene\r\n",
        "usage: samifier [-b <bedFile>] -c <chromosomeDir> -g <genomeFile> [-l\r\n",
        "       <logFile>] -m <mappingFile> -o <outputFile> -r <searchResultsFile>\r\n",
        "       [-s <Confidence Score thresold>]\r\n",
        " -b <bedFile>                     Filename to write IGV regions of\r\n",
        "                                  interest (BED) file to\r\n",
        " -c <chromosomeDir>               Directory containing the chromosome\r\n",
        "                                  files in FASTA format for the given\r\n",
        "                                  genome\r\n",
        " -g <genomeFile>                  Genome file in gff format\r\n",
        " -l <logFile>                     Filename to write the log into\r\n",
        " -m <mappingFile>                 File mapping protein identifier to\r\n",
        "                                  ordered locus name\r\n",
        " -o <outputFile>                  Filename to write the SAM format file to\r\n",
        " -r <searchResultsFile>           Mascot search results file in txt format\r\n",
        " -s <Confidence Score thresold>   Minimum confidence score for peptides to\r\n",
        "                                  be included\r\n"
       ]
      },
      {
       "output_type": "stream",
       "stream": "stdout",
       "text": [
        "au.org.intersect.samifier.parser.GenomeFileParsingException: Error in /Volumes/web/oyster/bioinformatics/oyster.v9.glean.final.rename.fixed.gff:23 C19392\tGLEAN\tCDS\t452\t610\t.\t+\t0\tParent=CGI_10000015;\r\n",
        " > Stop of sequence in gene CGI_10000015 overflows gene\r\n",
        "\tat au.org.intersect.samifier.parser.GenomeParserImpl.throwParsingException(GenomeParserImpl.java:98)\r\n",
        "\tat au.org.intersect.samifier.parser.GenomeParserImpl.processSequence(GenomeParserImpl.java:181)\r\n",
        "\tat au.org.intersect.samifier.parser.GenomeParserImpl.doParsing(GenomeParserImpl.java:84)\r\n",
        "\tat au.org.intersect.samifier.parser.GenomeParserImpl.parseGenomeFile(GenomeParserImpl.java:46)\r\n",
        "\tat au.org.intersect.samifier.runner.SamifierRunner.run(SamifierRunner.java:84)\r\n",
        "\tat au.org.intersect.samifier.Samifier.main(Samifier.java:125)\r\n"
       ]
      }
     ],
     "prompt_number": 7
    },
    {
     "cell_type": "code",
     "collapsed": false,
     "input": [],
     "language": "python",
     "metadata": {},
     "outputs": []
    }
   ],
   "metadata": {}
  }
 ]
}