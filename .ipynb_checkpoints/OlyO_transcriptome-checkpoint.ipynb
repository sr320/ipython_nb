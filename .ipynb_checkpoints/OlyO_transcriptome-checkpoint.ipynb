{
 "metadata": {
  "name": ""
 },
 "nbformat": 3,
 "nbformat_minor": 0,
 "worksheets": [
  {
   "cells": [
    {
     "cell_type": "heading",
     "level": 2,
     "metadata": {},
     "source": [
      "Ostrea lurida transcriptome version 3"
     ]
    },
    {
     "cell_type": "code",
     "collapsed": false,
     "input": [
      "!head /Volumes/web/cnidarian/Olurida_transcriptome_v3.fasta"
     ],
     "language": "python",
     "metadata": {},
     "outputs": [
      {
       "output_type": "stream",
       "stream": "stdout",
       "text": [
        ">comp13_c0_seq1 len=486 path=[5581:0-485]\r\n",
        "ATAAAGAGGATATGATGAATCGACATGATTGGTTAGAAAGGGCAGTATCCAACAGCAATC\r\n",
        "ACTACATCTTCATTGTGACCAAACAAATGGGAGAAATATTTAATGAACCACTCTCGGAGG\r\n",
        "AAAGAGAAGATAGAATGCGTTTGTTGACAGAGTGCGAGGATGGAACGTGTGCGTATACAG\r\n",
        "TCAATTTGATAAGAAACAAATTTATCAAAAGCCGAAAGAACCCTGGATCATGTCACTTGG\r\n",
        "TAAGTTTTGAAGAGGAGGACGAGAAAGTCGTCTCGCAGTTAAAACATGGACTTCAGTTGT\r\n",
        "TTCAGAATGTCAGAACACATTGCTACCATTTATATACTGGAAAACGGTTCAGATATAACG\r\n",
        "CCGCATGCAGCATAATCAATAATATCAAGAAAATAGAGTGATCAAGGAACCGGAAGACTA\r\n",
        "ATCAGACTTTTGACTGGGTTTCTCAAAAACCTTGGTTCAGCTCAACCAGTGGTTAAATAC\r\n",
        "TGTGTA\r\n"
       ]
      }
     ],
     "prompt_number": 1
    },
    {
     "cell_type": "markdown",
     "metadata": {},
     "source": [
      "<http://eagle.fish.washington.edu/cnidarian/Olurida_transcriptome_v3.fasta>"
     ]
    },
    {
     "cell_type": "code",
     "collapsed": false,
     "input": [
      "#blast on hummingbird\n"
     ],
     "language": "python",
     "metadata": {},
     "outputs": []
    },
    {
     "cell_type": "raw",
     "metadata": {},
     "source": [
      "./blastx -query /Volumes/web/cnidarian/Olurida_transcriptome_v3.fasta -db /Users/Shared/Apps/ncbi-blast_28/db/uniprot_sprot -out /Volumes/web/cnidarian/OlyO_trans_v3_swissprot.txt -outfmt 6 -evalue 1E-10 -max_target_seqs 1 -num_threads 14"
     ]
    },
    {
     "cell_type": "code",
     "collapsed": false,
     "input": [
      "!wc /Volumes/web/cnidarian/OlyO_trans_v3_swissprot.txt"
     ],
     "language": "python",
     "metadata": {},
     "outputs": [],
     "prompt_number": "*"
    },
    {
     "cell_type": "code",
     "collapsed": false,
     "input": [
      "#concerned that getting more than one hit per query"
     ],
     "language": "python",
     "metadata": {},
     "outputs": []
    },
    {
     "cell_type": "code",
     "collapsed": false,
     "input": [
      "!blastx -h"
     ],
     "language": "python",
     "metadata": {},
     "outputs": [
      {
       "output_type": "stream",
       "stream": "stdout",
       "text": [
        "USAGE\r\n",
        "  blastx [-h] [-help] [-import_search_strategy filename]\r\n",
        "    [-export_search_strategy filename] [-db database_name]\r\n",
        "    [-dbsize num_letters] [-gilist filename] [-seqidlist filename]\r\n",
        "    [-negative_gilist filename] [-entrez_query entrez_query]\r\n",
        "    [-db_soft_mask filtering_algorithm] [-db_hard_mask filtering_algorithm]\r\n",
        "    [-subject subject_input_file] [-subject_loc range] [-query input_file]\r\n",
        "    [-out output_file] [-evalue evalue] [-word_size int_value]\r\n",
        "    [-gapopen open_penalty] [-gapextend extend_penalty]\r\n",
        "    [-xdrop_ungap float_value] [-xdrop_gap float_value]\r\n",
        "    [-xdrop_gap_final float_value] [-searchsp int_value]\r\n",
        "    [-max_hsps_per_subject int_value] [-max_intron_length length]\r\n",
        "    [-seg SEG_options] [-soft_masking soft_masking] [-matrix matrix_name]\r\n",
        "    [-threshold float_value] [-culling_limit int_value]\r\n",
        "    [-best_hit_overhang float_value] [-best_hit_score_edge float_value]\r\n",
        "    [-window_size int_value] [-ungapped] [-lcase_masking] [-query_loc range]\r\n",
        "    [-strand strand] [-parse_deflines] [-query_gencode int_value]\r\n",
        "    [-outfmt format] [-show_gis] [-num_descriptions int_value]\r\n",
        "    [-num_alignments int_value] [-html] [-max_target_seqs num_sequences]\r\n",
        "    [-num_threads int_value] [-remote] [-comp_based_stats compo]\r\n",
        "    [-use_sw_tback] [-version]\r\n",
        "\r\n",
        "DESCRIPTION\r\n",
        "   Translated Query-Protein Subject BLAST 2.2.28+\r\n",
        "\r\n",
        "Use '-help' to print detailed descriptions of command line arguments\r\n"
       ]
      }
     ],
     "prompt_number": 2
    },
    {
     "cell_type": "code",
     "collapsed": false,
     "input": [
      "#trying using -num_descriptions arguement \n",
      "!blastx -query /Volumes/web/cnidarian/Olurida_transcriptome_v3.fasta -db /Volumes/Bay3/Software/ncbi-blast-2.2.26\\+/db/uniprot_sprot -evalue 1E-10 -out /Volumes/web/cnidarian/OlyO_trans_v3_swissprot_test.txt -outfmt 6 -num_descriptions 1 -num_threads 2"
     ],
     "language": "python",
     "metadata": {},
     "outputs": [
      {
       "output_type": "stream",
       "stream": "stdout",
       "text": [
        "Warning: The parameter -num_descriptions is ignored for output formats > 4 . Use -max_target_seqs to control output\r\n"
       ]
      },
      {
       "output_type": "stream",
       "stream": "stdout",
       "text": [
        "^C\r\n"
       ]
      }
     ],
     "prompt_number": 6
    },
    {
     "cell_type": "raw",
     "metadata": {},
     "source": [
      "#trying using -num_descriptions arguement \n",
      "!blastx -query /Volumes/web/cnidarian/Olurida_transcriptome_v3.fasta -db /Volumes/Bay3/Software/ncbi-blast-2.2.26\\+/db/uniprot_sprot -evalue 1E-10 -out /Volumes/web/cnidarian/OlyO_trans_v3_swissprot_test2.txt -outfmt 6 -max_target_seqs 1 -num_threads 2"
     ]
    },
    {
     "cell_type": "markdown",
     "metadata": {},
     "source": [
      "example of issue  \n",
      "\n",
      "<img src=\"http://eagle.fish.washington.edu/cnidarian/skitch/eagle.fish.washington.edu_cnidarian_OlyO_trans_v3_swissprot_test2.txt_17F2041A.png\" alt=\"eagle.fish.washington.edu_cnidarian_OlyO_trans_v3_swissprot_test2.txt_17F2041A.png\"/>"
     ]
    },
    {
     "cell_type": "markdown",
     "metadata": {},
     "source": [
      "![hittable](http://www.ncbi.nlm.nih.gov/books/NBK21097/bin/ch16f6.jpg)"
     ]
    },
    {
     "cell_type": "code",
     "collapsed": false,
     "input": [
      "Lets "
     ],
     "language": "python",
     "metadata": {},
     "outputs": []
    }
   ],
   "metadata": {}
  }
 ]
}