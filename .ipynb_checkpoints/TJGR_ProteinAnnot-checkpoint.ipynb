{
 "metadata": {
  "name": ""
 },
 "nbformat": 3,
 "nbformat_minor": 0,
 "worksheets": [
  {
   "cells": [
    {
     "cell_type": "heading",
     "level": 1,
     "metadata": {},
     "source": [
      "Annotating the C. gigas Proteome"
     ]
    },
    {
     "cell_type": "heading",
     "level": 2,
     "metadata": {},
     "source": [
      "Swiss-Prot"
     ]
    },
    {
     "cell_type": "markdown",
     "metadata": {},
     "source": [
      "UniProt release 2013_08\n",
      "Published July 24, 2013\n",
      "\n",
      "Note that it updated about every 4 weeks\n",
      "\n",
      "current release @ ftp://ftp.uniprot.org/pub/databases/uniprot/current_release/knowledgebase/complete/uniprot_sprot.fasta.gz"
     ]
    },
    {
     "cell_type": "markdown",
     "metadata": {},
     "source": [
      "computer: hummingbird\n",
      "```\n",
      "./makeblastdb -in /Volumes/web/whale/fish546/blast/db/uniprot_sprot.fasta -dbtype prot -out /Volumes/web/whale/fish546/blast/db/uniprot_sprot\n",
      "```"
     ]
    },
    {
     "cell_type": "markdown",
     "metadata": {},
     "source": [
      "computer: hummingbird\n",
      "````\n",
      "./blastx -query /Users/Shared/Apps/ncbi-blast_28/query/oysterv9_protein.fa -db /Users/Shared/Apps/ncbi-blast_28/db/uniprot_sprot -out /Volumes/web/cnidarian/qDOD_proteome_swissprot3.txt -outfmt 6 -evalue 1E-10 -max_target_seqs 1 -num_threads 14\n",
      "```"
     ]
    },
    {
     "cell_type": "code",
     "collapsed": false,
     "input": [
      "!head /Volumes/web/cnidarian/qDOD_proteome_swissprot3.txt"
     ],
     "language": "python",
     "metadata": {},
     "outputs": [],
     "prompt_number": 12
    },
    {
     "cell_type": "code",
     "collapsed": false,
     "input": [
      "!wc /Volumes/web/cnidarian/qDOD_proteome_swissprot.txt"
     ],
     "language": "python",
     "metadata": {},
     "outputs": [
      {
       "output_type": "stream",
       "stream": "stdout",
       "text": [
        "       0       0       0 /Volumes/web/cnidarian/qDOD_proteome_swissprot.txt\r\n"
       ]
      }
     ],
     "prompt_number": 11
    },
    {
     "cell_type": "heading",
     "level": 2,
     "metadata": {},
     "source": [
      "String"
     ]
    },
    {
     "cell_type": "markdown",
     "metadata": {},
     "source": [
      "Download and inspect data"
     ]
    },
    {
     "cell_type": "markdown",
     "metadata": {},
     "source": [
      "<img src=\"http://eagle.fish.washington.edu/cnidarian/skitch/Downloads_STRING__functional_protein_association_networks_17DBA6A3.png\" alt=\"Downloads_STRING__functional_protein_association_networks_17DBA6A3.png\" width=50%\n",
      "/>"
     ]
    },
    {
     "cell_type": "code",
     "collapsed": false,
     "input": [
      "<http://eagle.fish.washington.edu/whale/index.php?dir=String%2F>"
     ],
     "language": "python",
     "metadata": {},
     "outputs": []
    }
   ],
   "metadata": {}
  }
 ]
}