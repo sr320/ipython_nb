{
 "metadata": {
  "name": ""
 },
 "nbformat": 3,
 "nbformat_minor": 0,
 "worksheets": [
  {
   "cells": [
    {
     "cell_type": "heading",
     "level": 1,
     "metadata": {},
     "source": [
      "Annotating the C. gigas Proteome"
     ]
    },
    {
     "cell_type": "heading",
     "level": 2,
     "metadata": {},
     "source": [
      "Swiss-Prot"
     ]
    },
    {
     "cell_type": "markdown",
     "metadata": {},
     "source": [
      "UniProt release 2013_08\n",
      "Published July 24, 2013\n",
      "\n",
      "Note that it updated about every 4 weeks\n",
      "\n",
      "current release @ ftp://ftp.uniprot.org/pub/databases/uniprot/current_release/knowledgebase/complete/uniprot_sprot.fasta.gz"
     ]
    },
    {
     "cell_type": "markdown",
     "metadata": {},
     "source": [
      "computer: hummingbird\n",
      "```\n",
      "./makeblastdb -in /Volumes/web/whale/fish546/blast/db/uniprot_sprot.fasta -dbtype prot -out /Volumes/web/whale/fish546/blast/db/uniprot_sprot\n",
      "```"
     ]
    },
    {
     "cell_type": "markdown",
     "metadata": {},
     "source": [
      "computer: hummingbird\n",
      "````\n",
      "./blastx -query /Volumes/web/cnidarian/oyster.v9_protein -db /Volumes/web/whale/fish546/blast/db/uniprot_sprot -out /Volumes/web/cnidarian/qDOD_proteome_swissprot.txt -outfmt 6 -evalue 1E-10 -max_target_seqs 1 -num_threads 14\n",
      "```"
     ]
    },
    {
     "cell_type": "code",
     "collapsed": false,
     "input": [],
     "language": "python",
     "metadata": {},
     "outputs": []
    }
   ],
   "metadata": {}
  }
 ]
}