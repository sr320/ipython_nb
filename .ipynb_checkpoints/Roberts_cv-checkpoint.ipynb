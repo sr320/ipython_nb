{
 "metadata": {
  "name": ""
 },
 "nbformat": 3,
 "nbformat_minor": 0,
 "worksheets": [
  {
   "cells": [
    {
     "cell_type": "markdown",
     "metadata": {},
     "source": [
      "**STEVEN BEYER ROBERTS** \n",
      " \n",
      "Associate Professor; University of Washington    \n",
      "School of Aquatic and Fishery Sciences, Box 355020, Seattle WA 98195     \n",
      "phone: 206-866-5141 - email: sr320@uw.edu - website: robertslab.info     \n",
      " \n",
      "_Professional Preparation_    \n",
      "BSc, North Carolina State University, 1997, Natural Resources    \n",
      "PhD, University of Notre Dame, 2002, Biological Sciences \n",
      " \n",
      "_Appointments_  \n",
      "2007-present Assistant Professor - University of Washington    \n",
      "2003-2006 Assistant Research Scientist - Marine Biological Laboratory, MA    \n",
      "2002-2003 Post-doctoral scholar \u2013 USDA NRI Fellowship Marine Biological Laboratory, MA \n",
      " \n",
      "_Research Interests_     \n",
      "Physiological response of aquatic species to environmental change with a particular focus on the relationship of transcriptomics, genetics, and epigenetic modifications. Current research efforts include characterizing the adaptive potential of native oysters in Puget Sound and the functional role of DNA methylation in shellfish."
     ]
    },
    {
     "cell_type": "code",
     "collapsed": false,
     "input": [],
     "language": "python",
     "metadata": {},
     "outputs": []
    }
   ],
   "metadata": {}
  }
 ]
}