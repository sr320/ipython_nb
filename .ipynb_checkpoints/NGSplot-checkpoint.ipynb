{
 "metadata": {
  "name": "",
  "signature": "sha256:3c8163949d879df955ed3956051e98cf2fd8df8ebdaf1997e02e89702ab3442b"
 },
 "nbformat": 3,
 "nbformat_minor": 0,
 "worksheets": []
}