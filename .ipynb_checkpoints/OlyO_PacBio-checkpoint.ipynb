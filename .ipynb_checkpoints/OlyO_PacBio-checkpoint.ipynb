{
 "metadata": {
  "name": ""
 },
 "nbformat": 3,
 "nbformat_minor": 0,
 "worksheets": [
  {
   "cells": [
    {
     "cell_type": "markdown",
     "metadata": {},
     "source": [
      "#Olympia Oyster (Pat) -Initial- PacBio Data Analysis\n",
      "\n",
      "_Includes conversion, mapping RNA-seq data, and blast comparison of transcriptome_  \n",
      "_Focus is on scaffolds made from assembly of reads > 10k bp_\n",
      "\n"
     ]
    },
    {
     "cell_type": "code",
     "collapsed": false,
     "input": [
      "#updated - trying out new software\n",
      "!date"
     ],
     "language": "python",
     "metadata": {},
     "outputs": [
      {
       "output_type": "stream",
       "stream": "stdout",
       "text": [
        "Sat Feb 22 10:43:06 PST 2014\r\n"
       ]
      }
     ],
     "prompt_number": 1
    },
    {
     "cell_type": "heading",
     "level": 2,
     "metadata": {},
     "source": [
      "pbh5tools"
     ]
    },
    {
     "cell_type": "markdown",
     "metadata": {},
     "source": [
      "dependency- https://github.com/PacificBiosciences/pbcore"
     ]
    },
    {
     "cell_type": "code",
     "collapsed": false,
     "input": [
      "!bash5tools.py -h"
     ],
     "language": "python",
     "metadata": {},
     "outputs": [
      {
       "output_type": "stream",
       "stream": "stdout",
       "text": [
        "usage: bash5tools.py [-h] [--verbose] [--version] [--profile] [--debug] [--outFilePrefix OUTFILEPREFIX]\r\n",
        "                     [--readType {ccs,subreads,unrolled}] [--outType OUTTYPE] [--minLength MINLENGTH]\r\n",
        "                     [--minReadScore MINREADSCORE] [--minPasses MINPASSES]\r\n",
        "                     input.bas.h5\r\n",
        "\r\n",
        "Tool for extracting data from .bas.h5 files\r\n",
        "\r\n",
        "positional arguments:\r\n",
        "  input.bas.h5          input .bas.h5 filename\r\n",
        "\r\n",
        "optional arguments:\r\n",
        "  -h, --help            show this help message and exit\r\n",
        "  --verbose, -v         Set the verbosity level (default: None)\r\n",
        "  --version             show program's version number and exit\r\n",
        "  --profile             Print runtime profile at exit (default: False)\r\n",
        "  --debug               Run within a debugger session (default: False)\r\n",
        "  --outFilePrefix OUTFILEPREFIX\r\n",
        "                        output filename prefix [None]\r\n",
        "  --readType {ccs,subreads,unrolled}\r\n",
        "                        read type (ccs, subreads, or unrolled) []\r\n",
        "  --outType OUTTYPE     output file type (fasta, fastq) [fasta]\r\n",
        "\r\n",
        "Read filtering arguments:\r\n",
        "  --minLength MINLENGTH\r\n",
        "                        min read length [0]\r\n",
        "  --minReadScore MINREADSCORE\r\n",
        "                        min read score, valid only with --readType={unrolled,subreads} [0]\r\n",
        "  --minPasses MINPASSES\r\n",
        "                        min number of CCS passes, valid only with --readType=ccs [0]\r\n"
       ]
      }
     ],
     "prompt_number": 26
    },
    {
     "cell_type": "code",
     "collapsed": false,
     "input": [
      "!wget http://eagle.fish.washington.edu/whale/Pat/Analysis_Results/m130619_081336_42134_c100525122550000001823081109281326_s1_p0.bas.h5"
     ],
     "language": "python",
     "metadata": {},
     "outputs": [
      {
       "output_type": "stream",
       "stream": "stdout",
       "text": [
        "--2014-02-22 11:14:49--  http://eagle.fish.washington.edu/whale/Pat/Analysis_Results/m130619_081336_42134_c100525122550000001823081109281326_s1_p0.bas.h5\r\n",
        "Resolving eagle.fish.washington.edu... "
       ]
      },
      {
       "output_type": "stream",
       "stream": "stdout",
       "text": [
        "128.95.149.81\r\n",
        "Connecting to eagle.fish.washington.edu|128.95.149.81|:80... "
       ]
      },
      {
       "output_type": "stream",
       "stream": "stdout",
       "text": [
        "connected.\r\n",
        "HTTP request sent, awaiting response... "
       ]
      },
      {
       "output_type": "stream",
       "stream": "stdout",
       "text": [
        "200 OK\r\n",
        "Length: 3871355187 (3.6G) [text/plain]\r\n",
        "Saving to: `m130619_081336_42134_c100525122550000001823081109281326_s1_p0.bas.h5'\r\n",
        "\r\n",
        "\r",
        " 0% [                                       ] 0           --.-K/s              "
       ]
      },
      {
       "output_type": "stream",
       "stream": "stdout",
       "text": [
        "\r",
        " 0% [                                       ] 145,552      710K/s              "
       ]
      },
      {
       "output_type": "stream",
       "stream": "stdout",
       "text": [
        "\r",
        " 0% [                                       ] 244,392      596K/s              "
       ]
      },
      {
       "output_type": "stream",
       "stream": "stdout",
       "text": [
        "\r",
        " 0% [                                       ] 486,208      790K/s              "
       ]
      },
      {
       "output_type": "stream",
       "stream": "stdout",
       "text": [
        "\r",
        " 0% [                                       ] 722,232      878K/s              "
       ]
      },
      {
       "output_type": "stream",
       "stream": "stdout",
       "text": [
        "\r",
        " 0% [                                       ] 937,984      913K/s              "
       ]
      },
      {
       "output_type": "stream",
       "stream": "stdout",
       "text": [
        "\r",
        " 0% [                                       ] 1,210,208    980K/s              "
       ]
      },
      {
       "output_type": "stream",
       "stream": "stdout",
       "text": [
        "\r",
        " 0% [                                       ] 1,447,680   1005K/s              "
       ]
      },
      {
       "output_type": "stream",
       "stream": "stdout",
       "text": [
        "\r",
        " 0% [                                       ] 1,743,072   1.03M/s              "
       ]
      },
      {
       "output_type": "stream",
       "stream": "stdout",
       "text": [
        "\r",
        " 0% [                                       ] 2,047,152   1.07M/s              "
       ]
      },
      {
       "output_type": "stream",
       "stream": "stdout",
       "text": [
        "\r",
        " 0% [                                       ] 2,332,408   1.10M/s              "
       ]
      },
      {
       "output_type": "stream",
       "stream": "stdout",
       "text": [
        "\r",
        " 0% [                                       ] 2,632,144   1.13M/s              "
       ]
      },
      {
       "output_type": "stream",
       "stream": "stdout",
       "text": [
        "\r",
        " 0% [                                       ] 2,891,792   1.13M/s              "
       ]
      },
      {
       "output_type": "stream",
       "stream": "stdout",
       "text": [
        "\r",
        " 0% [                                       ] 3,053,512   1.10M/s              "
       ]
      },
      {
       "output_type": "stream",
       "stream": "stdout",
       "text": [
        "\r",
        " 0% [                                       ] 3,286,640   1.10M/s              "
       ]
      },
      {
       "output_type": "stream",
       "stream": "stdout",
       "text": [
        "\r",
        " 0% [                                       ] 3,542,936   1.11M/s  eta 55m 21s "
       ]
      },
      {
       "output_type": "stream",
       "stream": "stdout",
       "text": [
        "\r",
        " 0% [                                       ] 3,794,888   1.12M/s  eta 55m 21s "
       ]
      },
      {
       "output_type": "stream",
       "stream": "stdout",
       "text": [
        "\r",
        " 0% [                                       ] 4,081,592   1.21M/s  eta 55m 21s "
       ]
      },
      {
       "output_type": "stream",
       "stream": "stdout",
       "text": [
        "\r",
        " 0% [                                       ] 4,323,408   1.20M/s  eta 55m 21s "
       ]
      },
      {
       "output_type": "stream",
       "stream": "stdout",
       "text": [
        "\r",
        " 0% [                                       ] 4,546,400   1.20M/s  eta 55m 21s "
       ]
      },
      {
       "output_type": "stream",
       "stream": "stdout",
       "text": [
        "\r",
        " 0% [                                       ] 4,741,880   1.18M/s  eta 55m 3s  "
       ]
      },
      {
       "output_type": "stream",
       "stream": "stdout",
       "text": [
        "\r",
        " 0% [                                       ] 4,911,296   1.17M/s  eta 55m 3s  "
       ]
      },
      {
       "output_type": "stream",
       "stream": "stdout",
       "text": [
        "\r",
        " 0% [                                       ] 5,007,320   1.11M/s  eta 55m 3s  "
       ]
      },
      {
       "output_type": "stream",
       "stream": "stdout",
       "text": [
        "\r",
        " 0% [                                       ] 5,198,000   1.09M/s  eta 55m 3s  "
       ]
      },
      {
       "output_type": "stream",
       "stream": "stdout",
       "text": [
        "\r",
        " 0% [                                       ] 5,350,040   1.06M/s  eta 55m 3s  "
       ]
      },
      {
       "output_type": "stream",
       "stream": "stdout",
       "text": [
        "\r",
        " 0% [                                       ] 5,500,632   1.00M/s  eta 59m 27s "
       ]
      },
      {
       "output_type": "stream",
       "stream": "stdout",
       "text": [
        "\r",
        " 0% [                                       ] 5,659,912    993K/s  eta 59m 27s "
       ]
      },
      {
       "output_type": "stream",
       "stream": "stdout",
       "text": [
        "\r",
        " 0% [                                       ] 5,845,256    966K/s  eta 59m 27s "
       ]
      },
      {
       "output_type": "stream",
       "stream": "stdout",
       "text": [
        "\r",
        " 0% [                                       ] 6,049,424    955K/s  eta 59m 27s "
       ]
      },
      {
       "output_type": "stream",
       "stream": "stdout",
       "text": [
        "\r",
        " 0% [                                       ] 6,270,968    967K/s  eta 59m 27s "
       ]
      },
      {
       "output_type": "stream",
       "stream": "stdout",
       "text": [
        "\r",
        " 0% [                                       ] 6,498,304    969K/s  eta 60m 20s "
       ]
      },
      {
       "output_type": "stream",
       "stream": "stdout",
       "text": [
        "\r",
        " 0% [                                       ] 6,721,296    964K/s  eta 60m 20s "
       ]
      },
      {
       "output_type": "stream",
       "stream": "stdout",
       "text": [
        "\r",
        " 0% [                                       ] 6,853,064    911K/s  eta 60m 20s "
       ]
      },
      {
       "output_type": "stream",
       "stream": "stdout",
       "text": [
        "\r",
        " 0% [                                       ] 7,086,192    904K/s  eta 60m 20s "
       ]
      },
      {
       "output_type": "stream",
       "stream": "stdout",
       "text": [
        "\r",
        " 0% [                                       ] 7,258,504    905K/s  eta 60m 20s "
       ]
      },
      {
       "output_type": "stream",
       "stream": "stdout",
       "text": [
        "\r",
        " 0% [                                       ] 7,448,192    886K/s  eta 61m 36s "
       ]
      },
      {
       "output_type": "stream",
       "stream": "stdout",
       "text": [
        "\r",
        " 0% [                                       ] 7,646,568    866K/s  eta 61m 36s "
       ]
      },
      {
       "output_type": "stream",
       "stream": "stdout",
       "text": [
        "\r",
        " 0% [                                       ] 7,871,008    882K/s  eta 61m 36s "
       ]
      },
      {
       "output_type": "stream",
       "stream": "stdout",
       "text": [
        "\r",
        " 0% [                                       ] 8,107,032    922K/s  eta 61m 36s "
       ]
      },
      {
       "output_type": "stream",
       "stream": "stdout",
       "text": [
        "\r",
        " 0% [                                       ] 8,334,368    945K/s  eta 61m 36s "
       ]
      },
      {
       "output_type": "stream",
       "stream": "stdout",
       "text": [
        "\r",
        " 0% [                                       ] 8,567,496    965K/s  eta 61m 10s "
       ]
      },
      {
       "output_type": "stream",
       "stream": "stdout",
       "text": [
        "\r",
        " 0% [                                       ] 8,826,688    992K/s  eta 61m 10s "
       ]
      },
      {
       "output_type": "stream",
       "stream": "stdout",
       "text": [
        "\r",
        " 0% [                                       ] 9,091,672   1.01M/s  eta 61m 10s "
       ]
      },
      {
       "output_type": "stream",
       "stream": "stdout",
       "text": [
        "\r",
        " 0% [                                       ] 9,363,896   1.03M/s  eta 61m 10s "
       ]
      },
      {
       "output_type": "stream",
       "stream": "stdout",
       "text": [
        "\r",
        " 0% [                                       ] 9,620,192   1.04M/s  eta 61m 10s "
       ]
      },
      {
       "output_type": "stream",
       "stream": "stdout",
       "text": [
        "\r",
        " 0% [                                       ] 9,851,872   1.05M/s  eta 59m 49s "
       ]
      },
      {
       "output_type": "stream",
       "stream": "stdout",
       "text": [
        "\r",
        " 0% [                                       ] 10,113,960  1.05M/s  eta 59m 49s "
       ]
      },
      {
       "output_type": "stream",
       "stream": "stdout",
       "text": [
        "\r",
        " 0% [                                       ] 10,374,600  1.06M/s  eta 59m 49s "
       ]
      },
      {
       "output_type": "stream",
       "stream": "stdout",
       "text": [
        "\r",
        " 0% [                                       ] 10,625,104  1.10M/s  eta 59m 49s "
       ]
      },
      {
       "output_type": "stream",
       "stream": "stdout",
       "text": [
        "\r",
        " 0% [                                       ] 10,869,816  1.12M/s  eta 59m 49s "
       ]
      },
      {
       "output_type": "stream",
       "stream": "stdout",
       "text": [
        "\r",
        " 0% [                                       ] 11,127,560  1.14M/s  eta 58m 47s "
       ]
      },
      {
       "output_type": "stream",
       "stream": "stdout",
       "text": [
        "\r",
        " 0% [                                       ] 11,440,328  1.19M/s  eta 58m 47s "
       ]
      },
      {
       "output_type": "stream",
       "stream": "stdout",
       "text": [
        "\r",
        " 0% [                                       ] 11,744,408  1.21M/s  eta 58m 47s "
       ]
      },
      {
       "output_type": "stream",
       "stream": "stdout",
       "text": [
        "\r",
        " 0% [                                       ] 12,094,824  1.25M/s  eta 58m 47s "
       ]
      },
      {
       "output_type": "stream",
       "stream": "stdout",
       "text": [
        "\r",
        " 0% [                                       ] 12,465,512  1.30M/s  eta 58m 47s "
       ]
      },
      {
       "output_type": "stream",
       "stream": "stdout",
       "text": [
        "\r",
        " 0% [                                       ] 12,608,864  1.28M/s  eta 57m 1s  "
       ]
      },
      {
       "output_type": "stream",
       "stream": "stdout",
       "text": [
        "\r",
        " 0% [                                       ] 12,736,744  1.23M/s  eta 57m 1s  "
       ]
      },
      {
       "output_type": "stream",
       "stream": "stdout",
       "text": [
        "\r",
        " 0% [                                       ] 12,983,896  1.22M/s  eta 57m 1s  "
       ]
      },
      {
       "output_type": "stream",
       "stream": "stdout",
       "text": [
        "\r",
        " 0% [                                       ] 13,198,200  1.21M/s  eta 57m 1s  "
       ]
      },
      {
       "output_type": "stream",
       "stream": "stdout",
       "text": [
        "\r",
        " 0% [                                       ] 13,412,504  1.19M/s  eta 57m 1s  "
       ]
      },
      {
       "output_type": "stream",
       "stream": "stdout",
       "text": [
        "\r",
        " 0% [                                       ] 13,660,112  1.20M/s  eta 57m 21s "
       ]
      },
      {
       "output_type": "stream",
       "stream": "stdout",
       "text": [
        "\r",
        " 0% [                                       ] 13,909,168  1.20M/s  eta 57m 21s "
       ]
      },
      {
       "output_type": "stream",
       "stream": "stdout",
       "text": [
        "\r",
        " 0% [                                       ] 14,156,776  1.18M/s  eta 57m 21s "
       ]
      },
      {
       "output_type": "stream",
       "stream": "stdout",
       "text": [
        "\r",
        " 0% [                                       ] 14,417,416  1.19M/s  eta 57m 21s "
       ]
      },
      {
       "output_type": "stream",
       "stream": "stdout",
       "text": [
        "\r",
        " 0% [                                       ] 14,656,336  1.19M/s  eta 57m 21s "
       ]
      },
      {
       "output_type": "stream",
       "stream": "stdout",
       "text": [
        "\r",
        " 0% [                                       ] 14,883,672  1.18M/s  eta 57m 3s  "
       ]
      },
      {
       "output_type": "stream",
       "stream": "stdout",
       "text": [
        "\r",
        " 0% [                                       ] 15,113,904  1.15M/s  eta 57m 3s  "
       ]
      },
      {
       "output_type": "stream",
       "stream": "stdout",
       "text": [
        "\r",
        " 0% [                                       ] 15,335,448  1.13M/s  eta 57m 3s  "
       ]
      },
      {
       "output_type": "stream",
       "stream": "stdout",
       "text": [
        "\r",
        " 0% [                                       ] 15,530,928  1.10M/s  eta 57m 3s  "
       ]
      },
      {
       "output_type": "stream",
       "stream": "stdout",
       "text": [
        "\r",
        " 0% [                                       ] 15,775,640  1.04M/s  eta 57m 3s  "
       ]
      },
      {
       "output_type": "stream",
       "stream": "stdout",
       "text": [
        "\r",
        " 0% [                                       ] 16,040,624  1.05M/s  eta 57m 3s  "
       ]
      },
      {
       "output_type": "stream",
       "stream": "stdout",
       "text": [
        "\r",
        " 0% [                                       ] 16,289,680  1.07M/s  eta 57m 3s  "
       ]
      },
      {
       "output_type": "stream",
       "stream": "stdout",
       "text": [
        "\r",
        " 0% [                                       ] 16,527,152  1.09M/s  eta 57m 3s  "
       ]
      },
      {
       "output_type": "stream",
       "stream": "stdout",
       "text": [
        "\r",
        " 0% [                                       ] 16,768,968  1.11M/s  eta 57m 3s  "
       ]
      },
      {
       "output_type": "stream",
       "stream": "stdout",
       "text": [
        "\r",
        " 0% [                                       ] 17,009,336  1.11M/s  eta 57m 3s  "
       ]
      },
      {
       "output_type": "stream",
       "stream": "stdout",
       "text": [
        "\r",
        " 0% [                                       ] 17,265,632  1.11M/s  eta 56m 49s "
       ]
      },
      {
       "output_type": "stream",
       "stream": "stdout",
       "text": [
        "\r",
        " 0% [                                       ] 17,568,264  1.13M/s  eta 56m 49s "
       ]
      },
      {
       "output_type": "stream",
       "stream": "stdout",
       "text": [
        "\r",
        " 0% [                                       ] 17,795,600  1.11M/s  eta 56m 49s "
       ]
      },
      {
       "output_type": "stream",
       "stream": "stdout",
       "text": [
        "\r",
        " 0% [                                       ] 18,011,352  1.11M/s  eta 56m 49s "
       ]
      },
      {
       "output_type": "stream",
       "stream": "stdout",
       "text": [
        "\r",
        " 0% [                                       ] 18,198,144  1.09M/s  eta 56m 49s "
       ]
      },
      {
       "output_type": "stream",
       "stream": "stdout",
       "text": [
        "\r",
        " 0% [                                       ] 18,335,704  1.00M/s  eta 57m 47s "
       ]
      },
      {
       "output_type": "stream",
       "stream": "stdout",
       "text": [
        "\r",
        " 0% [                                       ] 18,561,592  1023K/s  eta 57m 47s "
       ]
      },
      {
       "output_type": "stream",
       "stream": "stdout",
       "text": [
        "\r",
        " 0% [                                       ] 18,704,944   998K/s  eta 57m 47s "
       ]
      },
      {
       "output_type": "stream",
       "stream": "stdout",
       "text": [
        "\r",
        " 0% [                                       ] 18,865,672   991K/s  eta 57m 47s "
       ]
      },
      {
       "output_type": "stream",
       "stream": "stdout",
       "text": [
        "\r",
        " 0% [                                       ] 19,011,920   964K/s  eta 57m 47s "
       ]
      },
      {
       "output_type": "stream",
       "stream": "stdout",
       "text": [
        "\r",
        " 0% [                                       ] 19,142,240   938K/s  eta 58m 45s "
       ]
      },
      {
       "output_type": "stream",
       "stream": "stdout",
       "text": [
        "\r",
        " 0% [                                       ] 19,310,208   904K/s  eta 58m 45s "
       ]
      },
      {
       "output_type": "stream",
       "stream": "stdout",
       "text": [
        "\r",
        " 0% [                                       ] 19,479,624   884K/s  eta 58m 45s "
       ]
      },
      {
       "output_type": "stream",
       "stream": "stdout",
       "text": [
        "\r",
        " 0% [                                       ] 19,684,248   879K/s  eta 58m 45s "
       ]
      },
      {
       "output_type": "stream",
       "stream": "stdout",
       "text": [
        "\r",
        " 0% [                                       ] 19,798,184   831K/s  eta 58m 45s "
       ]
      }
     ],
     "prompt_number": "*"
    },
    {
     "cell_type": "heading",
     "level": 2,
     "metadata": {},
     "source": [
      "_Initial_ analysis"
     ]
    },
    {
     "cell_type": "markdown",
     "metadata": {},
     "source": [
      "---\n",
      "_Data was provided by core facility with comments:_\n",
      "\n",
      "Data are grouped into folders by SMRT cell. Folders are generically named by the position of the cell in the run (A01_1, B01_1, etc.). Reads are available in PacBio's HDF5 format as .bas.h5 files. Metadata for each SMRT cell is available in PacBio's XML format.\n",
      "\n",
      "Tools for analysis of .bas.h5 files are available on PacBio's DevNet site (http://pacbiodevnet.com/) including the SMRT Analysis toolkit which can perform de novo assembly and resequencing.\n",
      "\n",
      "_Data was downloaded locally._  \n",
      "<http://eagle.fish.washington.edu/whale/index.php?dir=Pat%2F>\n",
      "    \n",
      "Two files\n",
      "\n",
      "<img src=\"https://www.evernote.com/shard/s10/sh/f3666265-4768-4529-b16f-9c9d2458ab2a/18a16265a05c085c37230ba26509119d/deep/0/Screenshot%207/8/13%2012:20%20PM.png\" alt=\"Screenshot%207/8/13%2012:20%20PM\" />"
     ]
    },
    {
     "cell_type": "markdown",
     "metadata": {},
     "source": [
      "##Conversion to fastq\n",
      "\n",
      "\n",
      "_via Giles._\n",
      "\n",
      "Basically I took the bas.h5 file and ran it through the pbh5tools, specifically bash5tools.py.\n",
      "\n",
      "The exact command I ran was\n",
      "\n",
      "bash5tools.py --readType unrolled --outType fastq inputfile.bas.h5\n",
      "\n",
      "where inputfile.bas.h5 was the name of the file you got from them.\n",
      "\n",
      "**My only question was whether I did the --readType correctly**.  I found some info on that online as well as some examples of running this command and they all talked about using a \"Raw\" mode which was removed from this version of bash5tools so I assumed it was the unrolled option because the other two options (ccs and subreads) where the same in previous versions.\n",
      "\n",
      "To Install,\n",
      "\n",
      "First you need numpy and h5py, both are python libraries.  I installed these via MacPorts.  Then you to install the pbcore library, which is a python library provided by PacBios (same website as the pbh5tools).\n",
      "\n",
      "Basically download pbcore, unpack, then run\n",
      "python setup.py build\n",
      "sudo python setup.py install\n",
      "\n",
      "This will install it with all the other python libraries, then do same with pbh5tools.  You might need to add things to your PYTHONPATH and PATH environment variables.  If you want to, you can customize where it goes by adding a --prefix <LOCATION> to the install command but then you have to adjust PYTHONPATH and PATH (which is what I did).\n",
      "\n",
      "Links:\n",
      "\n",
      "Understanding PacBios reads\n",
      "https://github.com/PacificBiosciences/Bioinformatics-Training/wiki/Understanding-PacBio-transcriptome-data#wiki-readexplained\n",
      "\n",
      "Examples for bash5tools.py\n",
      "http://seqanswers.com/forums/archive/index.php/t-16895.html\n",
      "\n",
      "Github for tools\n",
      "https://github.com/PacificBiosciences\n",
      "\n",
      "---\n",
      "resulting in   \n",
      "<http://eagle.fish.washington.edu/cnidarian/OlyO_Pat_PacBio_1.fastq>\n",
      "\n",
      "    \n",
      "    "
     ]
    },
    {
     "cell_type": "markdown",
     "metadata": {},
     "source": [
      "##Importing into CLC\n",
      "\n",
      "_info via CLC_  \n",
      "\n",
      "CLC bio tools are currently not optimized to handle the specific error profile of PacBio reads, and we therefore do not yet provide support for using this data type.\n",
      "\n",
      "If you still wish to try using PacBio data in the Genomics Workbench, then if you have your data in standard fastq format, you should be able to succeed in importing it into the CLC bio Genomics Workbench using the Illumina import option. If you choose to do this, please choose the option \"NCBI/Sanger or Illumina Pipeline 1.8 or later\" under 'Quality scores' in the Import wizard .\n",
      "\n",
      "Our developers are currently evaluating methods for error correction of PacBio reads (using short read data), and for hybrid de novo assembly using PacBio and short read data combined as input. If the outcome of this work matches the performance of tools commonly used for PacBio error correction (e.g. Celera Assembler using the pacBioToCA utility; Koren et al. 2012. Nature Biotechnology), or hybrid de novo assembly (e.g. ALPATHS-LG; Ribeiro et al. 2012. Genome Research), we will be considering providing such functionality in the future.\n"
     ]
    },
    {
     "cell_type": "markdown",
     "metadata": {},
     "source": [
      "_thus_\n",
      "\n",
      "<img src=\"https://www.evernote.com/shard/s10/sh/c650d9d8-d87c-4cd5-8cd5-5957fb31b515/1655f6ede0b68e282eef9e79002774a6/deep/0/Screenshot%207/8/13%2012:27%20PM.png\" alt=\"Screenshot%207/8/13%2012:27%20PM\" width = 50%/>\n",
      "\n",
      "###Stats\n",
      "47,475 Sequences  \n",
      "\n",
      "QC Report - <http://eagle.fish.washington.edu/cnidarian/OlyO_PacBio_QC.pdf>\n",
      "\n",
      "_also viewable below_\n",
      "\n",
      "<iframe src=\"https://docs.google.com/file/d/0B9V_gF766XZATTlWVzBDMkxxOGM/preview\" width=\"90%\" height=\"480\"></iframe>"
     ]
    },
    {
     "cell_type": "markdown",
     "metadata": {},
     "source": [
      "---\n",
      "More stats-  \n",
      "**3058 sequences > 10000 bp**  \n",
      "\n",
      "<http://eagle.fish.washington.edu/cnidarian/OlyO_Pat_PacBio_10k.fa>  \n",
      "    \n",
      "    Running denovo assembly on\n",
      "    Fast (simple contigs) \n",
      "<http://eagle.fish.washington.edu/cnidarian/OlyO_Pat_PacBio_10k_contigs.fa>\n",
      "    \n",
      "<iframe src=\"https://docs.google.com/file/d/0B9V_gF766XZAOUg3ajNnbDZoMk0/preview\" width=\"90%\" height=\"480\"></iframe>\n",
      "    "
     ]
    },
    {
     "cell_type": "code",
     "collapsed": false,
     "input": [
      "!head /Volumes/web/cnidarian/OlyO_Pat_PacBio_10k_contigs.fa"
     ],
     "language": "python",
     "metadata": {},
     "outputs": [
      {
       "output_type": "stream",
       "stream": "stdout",
       "text": [
        ">OlyO_Pat_PacBio_10k_contig_1\r\n",
        "AAAAAAAGGGAGATGTTTTCCTCATGTTGAATTGAATTCTTCAACTCATTTAAATCAGGC\r\n",
        "AAGTGTTCAACACTAACGCTAGTTCCGGTTAGCCTGTAGGTCTAATAACTTTTGTCCAAA\r\n",
        "CTACCAGGATATACAATTATGCACTGTTTAGCAGGGAGACATCACAAAAGGTATTTAATT\r\n",
        "CCGATTACGCAAGAGCTTTTCTGCGTATTGATCAGGTTTTTTGAATCGAGGCAATGCTAC\r\n",
        "CTTACAGACAAAGTTTGTTGTTGTTCAGGGGTTTCAATAGTCACGTTTTAAAGGCAGCAT\r\n",
        "AATTTCGTTATAATTCTAATGGTCGTTATACAATTTAGTTTACCAATATTTGACCTATCA\r\n",
        "TTTGAGTCAAATACTTGGTCCTGATTGTGGTTTCATAGCCATTGTTAAGTGCCGTTTTAC\r\n",
        "ACACTGTATTTGACTACGGACTGTTCCGTTACCTGATCAAGACTATGGGGCCTCCCACGG\r\n",
        "CGGGTGTGACGCGGTCAACAGGGGATGCCTACTCCTCTCTAGGCAGCCTGATCCCCACTT\r\n"
       ]
      }
     ],
     "prompt_number": 5
    },
    {
     "cell_type": "markdown",
     "metadata": {},
     "source": [
      "---\n",
      "###Ran cd-hit-est via webserver\n",
      "\n",
      "\n",
      "Summary: Nothing combined at 90% level (probably to big for cd-est hit)\n",
      "\n",
      "\n"
     ]
    },
    {
     "cell_type": "markdown",
     "metadata": {},
     "source": [
      "---\n",
      "###Importing in iPlant\n",
      "\n",
      "<img src=\"https://www.evernote.com/shard/s10/sh/27343fdc-9473-4c4e-9736-bcac9d0ea81c/16a1cd3d7ed6a500b81bb7315bf43d70/deep/0/Screenshot%207/10/13%207:09%20AM.png\" alt=\"Screenshot%207/10/13%207:09%20AM\" />\n",
      "\n",
      "\n"
     ]
    },
    {
     "cell_type": "markdown",
     "metadata": {},
     "source": [
      "TopHat2-PE  \n",
      "<img src=\"https://www.evernote.com/shard/s10/sh/459553be-e99a-4bd6-8c63-13d38cd7704a/b59aa6d62e89e9fd5b95f7298a69e767/deep/0/Screenshot%207/10/13%207:10%20AM.png\" alt=\"Screenshot%207/10/13%207:10%20AM\" />\n",
      "\n",
      "---\n",
      "<img src=\"https://www.evernote.com/shard/s10/sh/e6391b0d-fb8e-4fa6-9440-71fdf5104d74/51b686554935cb1efa7bcc4e1f0003dc/deep/0/Screenshot%207/10/13%207:11%20AM.png\" alt=\"Screenshot%207/10/13%207:11%20AM\" />\n",
      "\n",
      "---\n",
      "Reference Genome - OlyO_Pat_PacBio_10k_contigs.fa\n",
      "\n",
      "Output - OlyO_10kcontigs_TopHatm106\n"
     ]
    },
    {
     "cell_type": "code",
     "collapsed": false,
     "input": [
      "#finished"
     ],
     "language": "python",
     "metadata": {},
     "outputs": [],
     "prompt_number": 32
    },
    {
     "cell_type": "markdown",
     "metadata": {},
     "source": [
      "output file   \n",
      "`http://eagle.fish.washington.edu/cnidarian/OlyO10k_filtered_106A_Male_Mix_TAGCTT_L004_R1.bam`\n",
      "\n",
      "<img src=\"https://www.evernote.com/shard/s10/sh/1107e754-c96c-4a3b-aa96-1e75a072d6a0/0fd7cf33ccdd81ccccf958203a1f1134/deep/0/Screenshot%207/10/13%201:53%20PM.png\" alt=\"Screenshot%207/10/13%201:53%20PM\" />"
     ]
    },
    {
     "cell_type": "markdown",
     "metadata": {},
     "source": [
      "---\n",
      "##Annotating 10kcontigs\n",
      "<http://eagle.fish.washington.edu/cnidarian/OlyO_Pat_PacBio_10k_contigs.fa>\n",
      "    \n",
      "Have working copy of transcriptome <http://eagle.fish.washington.edu/cnidarian/OlyOv3_400bp.fasta> and will blastn against 10k contigs    "
     ]
    },
    {
     "cell_type": "code",
     "collapsed": false,
     "input": [
      "!makeblastdb -in /Volumes/web/cnidarian/OlyO_Pat_PacBio_10k_contigs.fa -dbtype nucl -out /Volumes/Bay3/Software/ncbi-blast-2.2.27\\+/db/OlyO_PacBio_10kcontigs"
     ],
     "language": "python",
     "metadata": {},
     "outputs": [
      {
       "output_type": "stream",
       "stream": "stdout",
       "text": [
        "\r\n",
        "\r\n",
        "Building a new DB, current time: 07/10/2013 07:40:30\r\n",
        "New DB name:   /Volumes/Bay3/Software/ncbi-blast-2.2.27+/db/OlyO_PacBio_10kcontigs\r\n",
        "New DB title:  /Volumes/web/cnidarian/OlyO_Pat_PacBio_10k_contigs.fa\r\n",
        "Sequence type: Nucleotide\r\n",
        "Keep Linkouts: T\r\n",
        "Keep MBits: T\r\n",
        "Maximum file size: 1000000000B\r\n"
       ]
      },
      {
       "output_type": "stream",
       "stream": "stdout",
       "text": [
        "Adding sequences from FASTA; added 553 sequences in 0.575964 seconds.\r\n"
       ]
      }
     ],
     "prompt_number": 8
    },
    {
     "cell_type": "code",
     "collapsed": false,
     "input": [
      "!blastn -query /Volumes/web/cnidarian/OlyOv3_400bp.fasta -db /Volumes/Bay3/Software/ncbi-blast-2.2.27\\+/db/OlyO_PacBio_10kcontigs -out /Volumes/web/cnidarian/OlyOv3_400_blastn_OlyO10kcontigs -outfmt 6 -evalue 1E-20 -num_threads 2 -task blastn"
     ],
     "language": "python",
     "metadata": {},
     "outputs": [],
     "prompt_number": 11
    },
    {
     "cell_type": "code",
     "collapsed": false,
     "input": [
      "!head /Volumes/web/cnidarian/OlyOv3_400_blastn_OlyO10kcontigs"
     ],
     "language": "python",
     "metadata": {},
     "outputs": [
      {
       "output_type": "stream",
       "stream": "stdout",
       "text": [
        "4486232\tOlyO_Pat_PacBio_10k_contig_319\t89.39\t132\t4\t5\t142\t264\t21178\t21048\t1e-39\t 161\r\n",
        "4486232\tOlyO_Pat_PacBio_10k_contig_319\t90.00\t130\t4\t6\t268\t390\t13091\t12964\t1e-38\t 158\r\n",
        "4486232\tOlyO_Pat_PacBio_10k_contig_319\t90.00\t130\t4\t6\t268\t390\t20765\t20638\t1e-38\t 158\r\n",
        "4486232\tOlyO_Pat_PacBio_10k_contig_319\t87.88\t132\t6\t5\t142\t264\t13504\t13374\t5e-37\t 152\r\n",
        "4486232\tOlyO_Pat_PacBio_10k_contig_319\t84.50\t129\t9\t9\t144\t267\t11561\t11683\t4e-25\t 113\r\n",
        "4486232\tOlyO_Pat_PacBio_10k_contig_319\t84.50\t129\t9\t9\t144\t267\t19235\t19357\t4e-25\t 113\r\n",
        "4486232\tOlyO_Pat_PacBio_10k_contig_319\t82.14\t140\t9\t11\t142\t265\t5867\t5728\t7e-23\t 105\r\n",
        "4486255\tOlyO_Pat_PacBio_10k_contig_420\t77.51\t418\t31\t33\t36\t397\t9827\t10237\t4e-63\t 239\r\n",
        "4486256\tOlyO_Pat_PacBio_10k_contig_420\t77.51\t418\t31\t33\t5\t366\t10237\t9827\t4e-63\t 239\r\n",
        "4486297\tOlyO_Pat_PacBio_10k_contig_420\t78.89\t289\t34\t17\t2\t276\t24459\t24184\t2e-49\t 194\r\n"
       ]
      }
     ],
     "prompt_number": 12
    },
    {
     "cell_type": "code",
     "collapsed": false,
     "input": [
      "!head /Volumes/web/cnidarian/OlyOv3_400bp.fasta"
     ],
     "language": "python",
     "metadata": {},
     "outputs": [
      {
       "output_type": "stream",
       "stream": "stdout",
       "text": [
        ">4485895 length 400 cvg_67.8_tip_0\r\n",
        "ACCCAGAAAGGTTTAAAGAATGTATTTGATGAAGCCATTCTGGCTGCTCTGGAACCTCCTGAACCACCCAAAAAGAAGAAGTGTGTGTTGTTGTAATCTT\r\n",
        "TGAACTCTCGTCAGTTTCATGTGTAATCATAGAATGATTTCAACTTGTCATCTGTGGGAAAATCTTGTGCAAAATTAAAAATAAAAACCACTTTTATACA\r\n",
        "TGTCTGGATAAGTATTTTCACAGATGGAAGAGTGCGGGTTGAAATAGAGATTATTCCAACTTTCTGAAGAAAAGGAATATTTGAAGTTCCTGAGACGGAA\r\n",
        "AAGGCAGGTGTTATTTTCAAGCGAACCACTAGCACAGTGCTGTGGTTTTATTATCCCATATGGGTCCAATGAACATATGATTTGTAAATATATATATAAT\r\n",
        "\r\n",
        ">4485897 length 400 cvg_5.5_tip_1\r\n",
        "ACACTGCACATCGCGGTCCTAGATTTTAACGACAACACGCCGTATTTCCTTAACAGTACATATAAATTTAGTGAAAATGAATCCACTTACAACAGAACAA\r\n",
        "GAATTGGAGCATTGTATGCCCATGATCTGGACTCGGGACAAAACGCCAATATAACGTTTTCTATCTCTGGAGGAAACAGTCAAGGACATTTTCAAATAGA\r\n",
        "TCCATACACGGGTGATTTATTCATAAATGGCCTTATCGACAGAGAAAATGTATCCTCATACAACCTGAGAGTTACTATAAGAGATAATCCGTCTAATCCG\r\n"
       ]
      }
     ],
     "prompt_number": 13
    },
    {
     "cell_type": "code",
     "collapsed": false,
     "input": [
      "!grep -c \"OlyO_Pat_\" /Volumes/web/cnidarian/OlyOv3_400_blastn_OlyO10kcontigs "
     ],
     "language": "python",
     "metadata": {},
     "outputs": [
      {
       "output_type": "stream",
       "stream": "stdout",
       "text": [
        "1730\r\n"
       ]
      }
     ],
     "prompt_number": 14
    },
    {
     "cell_type": "markdown",
     "metadata": {},
     "source": [
      "---\n",
      "Will try perl script I modified to take this \"reverse\" blast and make a gff file.  \n",
      "\n",
      "Another option in SQLShare"
     ]
    },
    {
     "cell_type": "code",
     "collapsed": false,
     "input": [
      "!2_Blast2gff.pl -i /Volumes/web/cnidarian/OlyOv3_400_blastn_OlyO10kcontigs -o /Users/sr320/Desktop/OlyO10kcontigs_exon_a.gff -d \"OlyOv3_400\" -p EXON -s \"something\""
     ],
     "language": "python",
     "metadata": {},
     "outputs": [],
     "prompt_number": 27
    },
    {
     "cell_type": "code",
     "collapsed": false,
     "input": [
      "mv /Users/sr320/Desktop/OlyO10kcontigs_exon_a.gff /Volumes/web/cnidarian/"
     ],
     "language": "python",
     "metadata": {},
     "outputs": [
      {
       "output_type": "stream",
       "stream": "stdout",
       "text": [
        "mv: /Volumes/web/cnidarian/OlyO10kcontigs_exon_a.gff: set owner/group (was: 501/20): Operation not permitted\r\n"
       ]
      }
     ],
     "prompt_number": 30
    },
    {
     "cell_type": "markdown",
     "metadata": {},
     "source": [
      "perl script would not write to eagle so had to move"
     ]
    },
    {
     "cell_type": "markdown",
     "metadata": {},
     "source": [
      "<http://eagle.fish.washington.edu/cnidarian/OlyO10kcontigs_exon_a.gff>"
     ]
    },
    {
     "cell_type": "code",
     "collapsed": false,
     "input": [
      "!head /Volumes/web/cnidarian/OlyO10kcontigs_exon_a.gff"
     ],
     "language": "python",
     "metadata": {},
     "outputs": [
      {
       "output_type": "stream",
       "stream": "stdout",
       "text": [
        "OlyO_Pat_PacBio_10k_contig_319\tblastn:OlyOv3_400\tblastn\t21178\t21048\t1e-39\t-\t.\t4486232\t\r\n",
        "OlyO_Pat_PacBio_10k_contig_319\tblastn:OlyOv3_400\tblastn\t13091\t12964\t1e-38\t-\t.\t4486232\t\r\n",
        "OlyO_Pat_PacBio_10k_contig_319\tblastn:OlyOv3_400\tblastn\t20765\t20638\t1e-38\t-\t.\t4486232\t\r\n",
        "OlyO_Pat_PacBio_10k_contig_319\tblastn:OlyOv3_400\tblastn\t13504\t13374\t5e-37\t-\t.\t4486232\t\r\n",
        "OlyO_Pat_PacBio_10k_contig_319\tblastn:OlyOv3_400\tblastn\t11561\t11683\t4e-25\t+\t.\t4486232\t\r\n",
        "OlyO_Pat_PacBio_10k_contig_319\tblastn:OlyOv3_400\tblastn\t19235\t19357\t4e-25\t+\t.\t4486232\t\r\n",
        "OlyO_Pat_PacBio_10k_contig_319\tblastn:OlyOv3_400\tblastn\t5867\t5728\t7e-23\t-\t.\t4486232\t\r\n",
        "OlyO_Pat_PacBio_10k_contig_420\tblastn:OlyOv3_400\tblastn\t9827\t10237\t4e-63\t+\t.\t4486255\t\r\n",
        "OlyO_Pat_PacBio_10k_contig_420\tblastn:OlyOv3_400\tblastn\t10237\t9827\t4e-63\t-\t.\t4486256\t\r\n",
        "OlyO_Pat_PacBio_10k_contig_420\tblastn:OlyOv3_400\tblastn\t24459\t24184\t2e-49\t-\t.\t4486297\t\r\n"
       ]
      }
     ],
     "prompt_number": 31
    },
    {
     "cell_type": "markdown",
     "metadata": {},
     "source": [
      " <img src=\"https://www.evernote.com/shard/s10/sh/984ad64e-20c5-418a-91ae-a7a94f2d95c8/6a1ab77f10a0c0941d0f439286b51d99/deep/0/Screenshot%207/10/13%208:18%20AM.png\" alt=\"Screenshot%207/10/13%208:18%20AM\" />"
     ]
    },
    {
     "cell_type": "code",
     "collapsed": false,
     "input": [
      "!wget https://usegalaxy.org/dataset/display?dataset_id=bbd44e69cb8906b586614e867a9985b1&to_ext=bed"
     ],
     "language": "python",
     "metadata": {},
     "outputs": [],
     "prompt_number": 2
    },
    {
     "cell_type": "code",
     "collapsed": false,
     "input": [
      "pwd"
     ],
     "language": "python",
     "metadata": {},
     "outputs": [
      {
       "metadata": {},
       "output_type": "pyout",
       "prompt_number": 3,
       "text": [
        "u'/Users/Steven/Dropbox/Steven/ipython_nb'"
       ]
      }
     ],
     "prompt_number": 3
    },
    {
     "cell_type": "code",
     "collapsed": false,
     "input": [
      "ls"
     ],
     "language": "python",
     "metadata": {},
     "outputs": [
      {
       "output_type": "stream",
       "stream": "stdout",
       "text": [
        "\u001b[31mBiGill_Gene_Methylation.ipynb\u001b[m\u001b[m*         README.md\r\n",
        "BiGill_RNAseq.ipynb                    README_old.md\r\n",
        "\u001b[31mBiGill_Tran_Elements.ipynb\u001b[m\u001b[m*            Roberts_cv.ipynb\r\n",
        "BiGill_array.ipynb                     \u001b[31mRuphi_OA_RNAseq.ipynb\u001b[m\u001b[m*\r\n",
        "\u001b[31mBiGo - methratio error.ipynb\u001b[m\u001b[m*          TJGR_CpG_binding.ipynb\r\n",
        "\u001b[31mBiGo_GFF_dev.ipynb\u001b[m\u001b[m*                    TJGR_CpG_islands.ipynb\r\n",
        "\u001b[31mBiGo_RNAseq.ipynb\u001b[m\u001b[m*                     TJGR_Methylation_GenomeSnapshot.ipynb\r\n",
        "BiGo_larvae.ipynb                      \u001b[31mTJGR_Mgo_Expression.ipynb\u001b[m\u001b[m*\r\n",
        "BiGo_larvae_2.ipynb                    \u001b[31mTJGR_OysterGenome_IGV.ipynb\u001b[m\u001b[m*\r\n",
        "BiGo_larvae_methylkit.ipynb            TJGR_ProteinAnnot.ipynb\r\n",
        "BiGo_methratio.ipynb                   \u001b[31mTJGR_pearl.ipynb\u001b[m\u001b[m*\r\n",
        "BiGo_methratio_mito.ipynb              UW_SoftwareBootcamp.ipynb\r\n",
        "\u001b[31mBlackAb_Annot.ipynb\u001b[m\u001b[m*                   _BiGO_expPLOT.ipynb\r\n",
        "CC_ampk.ipynb                          _BiGo_RNAseq.pdf\r\n",
        "EY_methratio.ipynb                     _BiGo_larvae_bsmap274.ipynb\r\n",
        "\u001b[31mGene Specific Methylation.ipynb\u001b[m\u001b[m*       _MGarray_blast.ipynb\r\n",
        "LT_C1q.ipynb                           _scratch.ipynb\r\n",
        "OA_MS_data_check.ipynb                 \u001b[30m\u001b[43mfish546\u001b[m\u001b[m/\r\n",
        "\u001b[31mOlyO_Chi_Exp.ipynb\u001b[m\u001b[m*                    gen_workflows.ipynb\r\n",
        "OlyO_GonadExp.ipynb                    \u001b[30m\u001b[43mimg\u001b[m\u001b[m/\r\n",
        "\u001b[31mOlyO_PacBio.ipynb\u001b[m\u001b[m*                     intersectbed.ipynb\r\n",
        "OlyO_transcriptome.ipynb               snippets.md\r\n",
        "\u001b[31mOsHV_host.ipynb\u001b[m\u001b[m*                       \u001b[30m\u001b[43mtools\u001b[m\u001b[m/\r\n",
        "PAG_2014.ipynb\r\n"
       ]
      }
     ],
     "prompt_number": 4
    },
    {
     "cell_type": "code",
     "collapsed": false,
     "input": [],
     "language": "python",
     "metadata": {},
     "outputs": []
    }
   ],
   "metadata": {}
  }
 ]
}