{
 "metadata": {
  "name": "",
  "signature": "sha256:46d1ca9989fc6582f94ba50bed57941f5de6a1936242fe9e9f22627c30f21ed3"
 },
 "nbformat": 3,
 "nbformat_minor": 0,
 "worksheets": [
  {
   "cells": [
    {
     "cell_type": "heading",
     "level": 1,
     "metadata": {},
     "source": [
      "Experimenting with simple graphs"
     ]
    },
    {
     "cell_type": "markdown",
     "metadata": {},
     "source": [
      "Plotting traits of Olympia oysters"
     ]
    },
    {
     "cell_type": "heading",
     "level": 2,
     "metadata": {},
     "source": [
      "TimepointX size"
     ]
    },
    {
     "cell_type": "code",
     "collapsed": false,
     "input": [
      "import numpy as np\n",
      "import pandas as pd"
     ],
     "language": "python",
     "metadata": {},
     "outputs": [],
     "prompt_number": 3
    },
    {
     "cell_type": "code",
     "collapsed": false,
     "input": [
      "Txsize = pd.DataFrame({'size':[15, 20, 15, \n",
      "                               17, 11, 13,\n",
      "                               15, 14, 15,\n",
      "                               22, 21, 24,],\n",
      "                     'site':['Fid', 'Fid', 'Fid',\n",
      "                             'Dab', 'Dab', 'Dab',\n",
      "                             'Man', 'Man', 'Man',\n",
      "                             'Obay', 'Obay', 'Obay'],\n",
      "                     'pop':['Fidalgo', 'Dabob', 'OysterBay',\n",
      "                            'Fidalgo', 'Dabob', 'OysterBay',\n",
      "                            'Fidalgo', 'Dabob', 'OysterBay',\n",
      "                            'Fidalgo', 'Dabob', 'OysterBay']})\n",
      "Txsize"
     ],
     "language": "python",
     "metadata": {},
     "outputs": [
      {
       "html": [
        "<div style=\"max-height:1000px;max-width:1500px;overflow:auto;\">\n",
        "<table border=\"1\" class=\"dataframe\">\n",
        "  <thead>\n",
        "    <tr style=\"text-align: right;\">\n",
        "      <th></th>\n",
        "      <th>pop</th>\n",
        "      <th>site</th>\n",
        "      <th>size</th>\n",
        "    </tr>\n",
        "  </thead>\n",
        "  <tbody>\n",
        "    <tr>\n",
        "      <th>0 </th>\n",
        "      <td>   Fidalgo</td>\n",
        "      <td>  Fid</td>\n",
        "      <td> 15</td>\n",
        "    </tr>\n",
        "    <tr>\n",
        "      <th>1 </th>\n",
        "      <td>     Dabob</td>\n",
        "      <td>  Fid</td>\n",
        "      <td> 20</td>\n",
        "    </tr>\n",
        "    <tr>\n",
        "      <th>2 </th>\n",
        "      <td> OysterBay</td>\n",
        "      <td>  Fid</td>\n",
        "      <td> 15</td>\n",
        "    </tr>\n",
        "    <tr>\n",
        "      <th>3 </th>\n",
        "      <td>   Fidalgo</td>\n",
        "      <td>  Dab</td>\n",
        "      <td> 17</td>\n",
        "    </tr>\n",
        "    <tr>\n",
        "      <th>4 </th>\n",
        "      <td>     Dabob</td>\n",
        "      <td>  Dab</td>\n",
        "      <td> 11</td>\n",
        "    </tr>\n",
        "    <tr>\n",
        "      <th>5 </th>\n",
        "      <td> OysterBay</td>\n",
        "      <td>  Dab</td>\n",
        "      <td> 13</td>\n",
        "    </tr>\n",
        "    <tr>\n",
        "      <th>6 </th>\n",
        "      <td>   Fidalgo</td>\n",
        "      <td>  Man</td>\n",
        "      <td> 15</td>\n",
        "    </tr>\n",
        "    <tr>\n",
        "      <th>7 </th>\n",
        "      <td>     Dabob</td>\n",
        "      <td>  Man</td>\n",
        "      <td> 14</td>\n",
        "    </tr>\n",
        "    <tr>\n",
        "      <th>8 </th>\n",
        "      <td> OysterBay</td>\n",
        "      <td>  Man</td>\n",
        "      <td> 15</td>\n",
        "    </tr>\n",
        "    <tr>\n",
        "      <th>9 </th>\n",
        "      <td>   Fidalgo</td>\n",
        "      <td> Obay</td>\n",
        "      <td> 22</td>\n",
        "    </tr>\n",
        "    <tr>\n",
        "      <th>10</th>\n",
        "      <td>     Dabob</td>\n",
        "      <td> Obay</td>\n",
        "      <td> 21</td>\n",
        "    </tr>\n",
        "    <tr>\n",
        "      <th>11</th>\n",
        "      <td> OysterBay</td>\n",
        "      <td> Obay</td>\n",
        "      <td> 24</td>\n",
        "    </tr>\n",
        "  </tbody>\n",
        "</table>\n",
        "<p>12 rows \u00d7 3 columns</p>\n",
        "</div>"
       ],
       "metadata": {},
       "output_type": "pyout",
       "prompt_number": 6,
       "text": [
        "          pop  site  size\n",
        "0     Fidalgo   Fid    15\n",
        "1       Dabob   Fid    20\n",
        "2   OysterBay   Fid    15\n",
        "3     Fidalgo   Dab    17\n",
        "4       Dabob   Dab    11\n",
        "5   OysterBay   Dab    13\n",
        "6     Fidalgo   Man    15\n",
        "7       Dabob   Man    14\n",
        "8   OysterBay   Man    15\n",
        "9     Fidalgo  Obay    22\n",
        "10      Dabob  Obay    21\n",
        "11  OysterBay  Obay    24\n",
        "\n",
        "[12 rows x 3 columns]"
       ]
      }
     ],
     "prompt_number": 6
    },
    {
     "cell_type": "code",
     "collapsed": false,
     "input": [
      "Txsize.plot()"
     ],
     "language": "python",
     "metadata": {},
     "outputs": [
      {
       "metadata": {},
       "output_type": "pyout",
       "prompt_number": 28,
       "text": [
        "<matplotlib.axes.AxesSubplot at 0x107e472d0>"
       ]
      },
      {
       "metadata": {},
       "output_type": "display_data",
       "png": "[encoded data removed]",
       "text": [
        "<matplotlib.figure.Figure at 0x10790f850>"
       ]
      }
     ],
     "prompt_number": 28
    },
    {
     "cell_type": "heading",
     "level": 2,
     "metadata": {},
     "source": [
      "another way"
     ]
    },
    {
     "cell_type": "code",
     "collapsed": false,
     "input": [
      "Txsize2 = pd.DataFrame({'population':['Fidalgo', 'Dabob', 'OysterBay'],\n",
      "                        'FID':[15, 20, 15],\n",
      "                        'DAB':[17, 11, 13],\n",
      "                        'MAN':[15, 14, 14],\n",
      "                        'OBY':[22, 21, 24],})\n",
      "Txsize2"
     ],
     "language": "python",
     "metadata": {},
     "outputs": [
      {
       "html": [
        "<div style=\"max-height:1000px;max-width:1500px;overflow:auto;\">\n",
        "<table border=\"1\" class=\"dataframe\">\n",
        "  <thead>\n",
        "    <tr style=\"text-align: right;\">\n",
        "      <th></th>\n",
        "      <th>DAB</th>\n",
        "      <th>FID</th>\n",
        "      <th>MAN</th>\n",
        "      <th>OBY</th>\n",
        "      <th>population</th>\n",
        "    </tr>\n",
        "  </thead>\n",
        "  <tbody>\n",
        "    <tr>\n",
        "      <th>0</th>\n",
        "      <td> 17</td>\n",
        "      <td> 15</td>\n",
        "      <td> 15</td>\n",
        "      <td> 22</td>\n",
        "      <td>   Fidalgo</td>\n",
        "    </tr>\n",
        "    <tr>\n",
        "      <th>1</th>\n",
        "      <td> 11</td>\n",
        "      <td> 20</td>\n",
        "      <td> 14</td>\n",
        "      <td> 21</td>\n",
        "      <td>     Dabob</td>\n",
        "    </tr>\n",
        "    <tr>\n",
        "      <th>2</th>\n",
        "      <td> 13</td>\n",
        "      <td> 15</td>\n",
        "      <td> 14</td>\n",
        "      <td> 24</td>\n",
        "      <td> OysterBay</td>\n",
        "    </tr>\n",
        "  </tbody>\n",
        "</table>\n",
        "<p>3 rows \u00d7 5 columns</p>\n",
        "</div>"
       ],
       "metadata": {},
       "output_type": "pyout",
       "prompt_number": 41,
       "text": [
        "   DAB  FID  MAN  OBY population\n",
        "0   17   15   15   22    Fidalgo\n",
        "1   11   20   14   21      Dabob\n",
        "2   13   15   14   24  OysterBay\n",
        "\n",
        "[3 rows x 5 columns]"
       ]
      }
     ],
     "prompt_number": 41
    },
    {
     "cell_type": "code",
     "collapsed": false,
     "input": [
      "Txsize2.plot(#subplots='true',\n",
      "             ylim=(0, 25),\n",
      "             alpha=1,\n",
      "             x='population'\n",
      "             )\n",
      "\n"
     ],
     "language": "python",
     "metadata": {},
     "outputs": [
      {
       "metadata": {},
       "output_type": "pyout",
       "prompt_number": 69,
       "text": [
        "<matplotlib.axes.AxesSubplot at 0x10a0477d0>"
       ]
      },
      {
       "metadata": {},
       "output_type": "display_data",
       "png": "[encoded data removed]",
       "text": [
        "<matplotlib.figure.Figure at 0x10a02f810>"
       ]
      }
     ],
     "prompt_number": 69
    },
    {
     "cell_type": "heading",
     "level": 2,
     "metadata": {},
     "source": [
      "Yet another"
     ]
    },
    {
     "cell_type": "code",
     "collapsed": false,
     "input": [
      "Txsize3 = pd.DataFrame({'site':['Fidalgo', 'Dabob', 'Manchester','OysterBay'],\n",
      "                        'FID':[21, 18, 15, 22],\n",
      "                        'DAB':[26, 23, 14, 22],\n",
      "                        'OBY':[19, 24, 15, 24]})\n",
      "Txsize3"
     ],
     "language": "python",
     "metadata": {},
     "outputs": [
      {
       "html": [
        "<div style=\"max-height:1000px;max-width:1500px;overflow:auto;\">\n",
        "<table border=\"1\" class=\"dataframe\">\n",
        "  <thead>\n",
        "    <tr style=\"text-align: right;\">\n",
        "      <th></th>\n",
        "      <th>DAB</th>\n",
        "      <th>FID</th>\n",
        "      <th>OBY</th>\n",
        "      <th>site</th>\n",
        "    </tr>\n",
        "  </thead>\n",
        "  <tbody>\n",
        "    <tr>\n",
        "      <th>0</th>\n",
        "      <td> 26</td>\n",
        "      <td> 21</td>\n",
        "      <td> 19</td>\n",
        "      <td>    Fidalgo</td>\n",
        "    </tr>\n",
        "    <tr>\n",
        "      <th>1</th>\n",
        "      <td> 23</td>\n",
        "      <td> 18</td>\n",
        "      <td> 24</td>\n",
        "      <td>      Dabob</td>\n",
        "    </tr>\n",
        "    <tr>\n",
        "      <th>2</th>\n",
        "      <td> 14</td>\n",
        "      <td> 15</td>\n",
        "      <td> 15</td>\n",
        "      <td> Manchester</td>\n",
        "    </tr>\n",
        "    <tr>\n",
        "      <th>3</th>\n",
        "      <td> 22</td>\n",
        "      <td> 22</td>\n",
        "      <td> 24</td>\n",
        "      <td>  OysterBay</td>\n",
        "    </tr>\n",
        "  </tbody>\n",
        "</table>\n",
        "<p>4 rows \u00d7 4 columns</p>\n",
        "</div>"
       ],
       "metadata": {},
       "output_type": "pyout",
       "prompt_number": 76,
       "text": [
        "   DAB  FID  OBY        site\n",
        "0   26   21   19     Fidalgo\n",
        "1   23   18   24       Dabob\n",
        "2   14   15   15  Manchester\n",
        "3   22   22   24   OysterBay\n",
        "\n",
        "[4 rows x 4 columns]"
       ]
      }
     ],
     "prompt_number": 76
    },
    {
     "cell_type": "code",
     "collapsed": false,
     "input": [
      "Txsize3.plot(#subplots='true',\n",
      "             ylim=(0, 30),\n",
      "             alpha=1,\n",
      "             x='site',\n",
      "             grid='off',\n",
      "             kind='bar'\n",
      "             )\n",
      "\n"
     ],
     "language": "python",
     "metadata": {},
     "outputs": [
      {
       "metadata": {},
       "output_type": "pyout",
       "prompt_number": 95,
       "text": [
        "<matplotlib.axes.AxesSubplot at 0x10e67f3d0>"
       ]
      },
      {
       "metadata": {},
       "output_type": "display_data",
       "png": "[encoded data removed]",
       "text": [
        "<matplotlib.figure.Figure at 0x10ab77590>"
       ]
      }
     ],
     "prompt_number": 95
    },
    {
     "cell_type": "code",
     "collapsed": false,
     "input": [
      "Txsize3.plot(#subplots='true',\n",
      "             #ylim=(0, 30),\n",
      "             alpha=1,\n",
      "             x='site',\n",
      "             grid='off',\n",
      "             kind='barh'\n",
      "             )\n"
     ],
     "language": "python",
     "metadata": {},
     "outputs": [
      {
       "metadata": {},
       "output_type": "pyout",
       "prompt_number": 97,
       "text": [
        "<matplotlib.axes.AxesSubplot at 0x10e73b7d0>"
       ]
      },
      {
       "metadata": {},
       "output_type": "display_data",
       "png": "[encoded data removed]",
       "text": [
        "<matplotlib.figure.Figure at 0x10bdd0290>"
       ]
      }
     ],
     "prompt_number": 97
    },
    {
     "cell_type": "code",
     "collapsed": false,
     "input": [
      "Txsize3.plot(#subplots='true',\n",
      "             ylim=(0, 30),\n",
      "             alpha=1,\n",
      "             x='site',\n",
      "             grid='off',\n",
      "             #kind='barh'\n",
      "             )\n"
     ],
     "language": "python",
     "metadata": {},
     "outputs": [
      {
       "metadata": {},
       "output_type": "pyout",
       "prompt_number": 100,
       "text": [
        "<matplotlib.axes.AxesSubplot at 0x10f49c610>"
       ]
      },
      {
       "metadata": {},
       "output_type": "display_data",
       "png": "[encoded data removed]",
       "text": [
        "<matplotlib.figure.Figure at 0x10f2919d0>"
       ]
      }
     ],
     "prompt_number": 100
    },
    {
     "cell_type": "code",
     "collapsed": false,
     "input": [],
     "language": "python",
     "metadata": {},
     "outputs": []
    }
   ],
   "metadata": {}
  }
 ]
}