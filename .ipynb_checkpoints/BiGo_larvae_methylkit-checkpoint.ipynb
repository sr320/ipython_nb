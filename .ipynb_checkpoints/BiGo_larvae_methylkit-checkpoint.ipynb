{
 "metadata": {
  "name": ""
 },
 "nbformat": 3,
 "nbformat_minor": 0,
 "worksheets": [
  {
   "cells": [
    {
     "cell_type": "heading",
     "level": 1,
     "metadata": {},
     "source": [
      "Converting methratio files for methylkit analysis"
     ]
    },
    {
     "cell_type": "heading",
     "level": 2,
     "metadata": {},
     "source": [
      "M3"
     ]
    },
    {
     "cell_type": "markdown",
     "metadata": {},
     "source": [
      "```sql\n",
      "SELECT \n",
      "  chr as chr,\n",
      "  pos as start,\n",
      "  '+' as strand,\n",
      "  cast (CT_count as float) as CT_count,\n",
      "  cast (C_count as float) as C_count\n",
      "FROM [sr320@washington.edu].[BiGo_lar_M3]\n",
      "  where \n",
      "context like '__CG_'\n",
      "and\n",
      "  CT_Count >= 5 \n",
      "and \n",
      "  ratio <> 'NA'\n",
      "```"
     ]
    },
    {
     "cell_type": "markdown",
     "metadata": {},
     "source": [
      "```\n",
      "SELECT \n",
      " chr as chr,\n",
      "  start as start,\n",
      "  strand as strand,\n",
      "  CT_count as CT_count,\n",
      " C_count as C_count,\n",
      "  C_count/CT_count as freqC  \n",
      "  \n",
      "  \n",
      "  FROM [sr320@washington.edu].[_M3methylkit_s1]\u200b\n",
      "``` "
     ]
    },
    {
     "cell_type": "markdown",
     "metadata": {},
     "source": [
      "```sql\n",
      "SELECT  \n",
      "  chr as chr,\n",
      "  start as start,\n",
      "  strand as strand,\n",
      "  CT_count as CT_count,\n",
      "  freqC as freqC\n",
      "  \n",
      "  FROM [sr320@washington.edu].[_M3mehthykit_step2]\u200b\n",
      "```"
     ]
    },
    {
     "cell_type": "code",
     "collapsed": false,
     "input": [
      "!head /Volumes/web/cnidarian/BiGo_lar_M3_methylkit_input.csv"
     ],
     "language": "python",
     "metadata": {},
     "outputs": [
      {
       "output_type": "stream",
       "stream": "stdout",
       "text": [
        "chr,start,strand,CT_count,freqC\r",
        "\r\n",
        "C10295,38,+,15,0\r",
        "\r\n",
        "C10295,51,+,21,0\r",
        "\r\n",
        "C10295,142,+,9,0\r",
        "\r\n",
        "C10845,110,+,6,0\r",
        "\r\n",
        "C10845,145,+,6,0\r",
        "\r\n",
        "C11248,71,+,5,0\r",
        "\r\n",
        "C11870,109,+,6,0\r",
        "\r\n",
        "C12272,65,+,5,1\r",
        "\r\n",
        "C14220,96,+,6,0\r",
        "\r\n"
       ]
      }
     ],
     "prompt_number": 7
    },
    {
     "cell_type": "code",
     "collapsed": false,
     "input": [
      "!tail -n +2 /Volumes/web/cnidarian/BiGo_lar_M3_methylkit_input.csv > /Volumes/web/cnidarian/BiGo_lar_M3_methylkit.csv"
     ],
     "language": "python",
     "metadata": {},
     "outputs": [],
     "prompt_number": 8
    },
    {
     "cell_type": "code",
     "collapsed": false,
     "input": [
      "!head /Volumes/web/cnidarian/BiGo_lar_M3_methylkit.csv"
     ],
     "language": "python",
     "metadata": {},
     "outputs": [
      {
       "output_type": "stream",
       "stream": "stdout",
       "text": [
        "C10295,38,+,15,0\r",
        "\r\n",
        "C10295,51,+,21,0\r",
        "\r\n",
        "C10295,142,+,9,0\r",
        "\r\n",
        "C10845,110,+,6,0\r",
        "\r\n",
        "C10845,145,+,6,0\r",
        "\r\n",
        "C11248,71,+,5,0\r",
        "\r\n",
        "C11870,109,+,6,0\r",
        "\r\n",
        "C12272,65,+,5,1\r",
        "\r\n",
        "C14220,96,+,6,0\r",
        "\r\n",
        "C14450,60,+,6,0.333333333333333\r",
        "\r\n"
       ]
      }
     ],
     "prompt_number": 9
    },
    {
     "cell_type": "markdown",
     "metadata": {},
     "source": [
      "<http://eagle.fish.washington.edu/cnidarian/BiGo_lar_M3_methylkit.csv>"
     ]
    },
    {
     "cell_type": "heading",
     "level": 3,
     "metadata": {},
     "source": [
      "T3D3"
     ]
    },
    {
     "cell_type": "code",
     "collapsed": false,
     "input": [
      "!head /Volumes/web/cnidarian/BiGo_lar_T3D3_methylkit_input.csv"
     ],
     "language": "python",
     "metadata": {},
     "outputs": [
      {
       "output_type": "stream",
       "stream": "stdout",
       "text": [
        "chr,start,strand,CT_count,freqC\r",
        "\r\n",
        "C10295,38,+,14,0\r",
        "\r\n",
        "C10295,51,+,21,0\r",
        "\r\n",
        "C10295,142,+,7,0\r",
        "\r\n",
        "C10845,110,+,9,0\r",
        "\r\n",
        "C10845,145,+,6,0\r",
        "\r\n",
        "C11870,109,+,8,0\r",
        "\r\n",
        "C12052,112,+,7,0\r",
        "\r\n",
        "C12570,118,+,5,0\r",
        "\r\n",
        "C13546,84,+,5,0\r",
        "\r\n"
       ]
      }
     ],
     "prompt_number": 12
    },
    {
     "cell_type": "code",
     "collapsed": false,
     "input": [
      "!tail -n +2 /Volumes/web/cnidarian/BiGo_lar_T3D3_methylkit_input.csv > /Volumes/web/cnidarian/BiGo_lar_T3D3_methylkit.csv"
     ],
     "language": "python",
     "metadata": {},
     "outputs": [],
     "prompt_number": 13
    },
    {
     "cell_type": "code",
     "collapsed": false,
     "input": [
      "!head /Volumes/web/cnidarian/BiGo_lar_T3D3_methylkit.csv"
     ],
     "language": "python",
     "metadata": {},
     "outputs": [
      {
       "output_type": "stream",
       "stream": "stdout",
       "text": [
        "C10295,38,+,14,0\r",
        "\r\n",
        "C10295,51,+,21,0\r",
        "\r\n",
        "C10295,142,+,7,0\r",
        "\r\n",
        "C10845,110,+,9,0\r",
        "\r\n",
        "C10845,145,+,6,0\r",
        "\r\n",
        "C11870,109,+,8,0\r",
        "\r\n",
        "C12052,112,+,7,0\r",
        "\r\n",
        "C12570,118,+,5,0\r",
        "\r\n",
        "C13546,84,+,5,0\r",
        "\r\n",
        "C13878,147,+,5,0\r",
        "\r\n"
       ]
      }
     ],
     "prompt_number": 14
    },
    {
     "cell_type": "markdown",
     "metadata": {},
     "source": [
      "<http://eagle.fish.washington.edu/cnidarian/BiGo_lar_T3D3_methylkit.csv>"
     ]
    },
    {
     "cell_type": "heading",
     "level": 2,
     "metadata": {},
     "source": [
      "T3D5"
     ]
    },
    {
     "cell_type": "markdown",
     "metadata": {},
     "source": [
      "```\n",
      "SELECT \n",
      "  chr as chr,\n",
      "  pos as start,\n",
      "  '+' as strand,\n",
      "  cast (CT_count as float) as CT_count,\n",
      "  cast (C_count as float) as C_count\n",
      "FROM [sr320@washington.edu].[BiGo_lar_T3D5]\n",
      "  where \n",
      "context like '__CG_'\n",
      "and\n",
      "  CT_Count >= 5 \n",
      "and \n",
      "  ratio <> 'NA'\n",
      "```    "
     ]
    },
    {
     "cell_type": "code",
     "collapsed": false,
     "input": [
      "#realize made error naming sqlfile\n",
      "!python /Users/sr320/sqlshare-pythonclient/tools/fetchdata.py -s \"SELECT chr as chr, start as start, strand as strand, CT_count as CT_count, C_count as C_count, C_count/CT_count as freqC FROM [sr320@washington.edu].[_T3D3_methylkit_s1]\" -f tsv -o /Volumes/web/cnidarian/BiGo_lar_T3D5_methylkit_input.csv"
     ],
     "language": "python",
     "metadata": {},
     "outputs": [],
     "prompt_number": "*"
    },
    {
     "cell_type": "code",
     "collapsed": false,
     "input": [
      "!head /Volumes/web/cnidarian/BiGo_lar_T3D5_methylkit_input.csv"
     ],
     "language": "python",
     "metadata": {},
     "outputs": [],
     "prompt_number": "*"
    },
    {
     "cell_type": "heading",
     "level": 2,
     "metadata": {},
     "source": [
      "M1"
     ]
    },
    {
     "cell_type": "code",
     "collapsed": false,
     "input": [
      "!head /Volumes/web/cnidarian/BiGo_lar_M1_methylkit_input.csv"
     ],
     "language": "python",
     "metadata": {},
     "outputs": [],
     "prompt_number": "*"
    },
    {
     "cell_type": "heading",
     "level": 2,
     "metadata": {},
     "source": [
      "T1D3"
     ]
    },
    {
     "cell_type": "code",
     "collapsed": false,
     "input": [],
     "language": "python",
     "metadata": {},
     "outputs": []
    },
    {
     "cell_type": "heading",
     "level": 2,
     "metadata": {},
     "source": [
      "T1D5"
     ]
    },
    {
     "cell_type": "markdown",
     "metadata": {},
     "source": [
      "\n",
      "`python /Users/sr320/sqlshare-pythonclient/tools/fetchdata.py -s \"SELECT chr as chr, pos as start, '+' as strand, cast (CT_count as float) as CT_count, cast (C_count as float) as C_count, cast (C_count as float) / cast (CT_count as float) as freqC FROM [sr320@washington.edu].[BiGo_lar_T1D5] where context like '__CG_' and CT_Count >= 5 and ratio <> 'NA'\" -o /Volumes/web/cnidarian/BiGo_lar_T1D5_methylkit_input.csv`"
     ]
    },
    {
     "cell_type": "raw",
     "metadata": {},
     "source": [
      "tail -n +2 /Volumes/web/cnidarian/BiGo_lar_T1D5_methylkit_input.csv > /Volumes/web/cnidarian/BiGo_lar_T1D5_methylkit.csv"
     ]
    },
    {
     "cell_type": "raw",
     "metadata": {},
     "source": [
      "head /Volumes/web/cnidarian/BiGo_lar_T1D5_methylkit.csv"
     ]
    },
    {
     "cell_type": "markdown",
     "metadata": {},
     "source": [
      "FILE   \n",
      "/Volumes/web/cnidarian/BiGo_lar_T1D5_methylkit.csv"
     ]
    },
    {
     "cell_type": "code",
     "collapsed": false,
     "input": [],
     "language": "python",
     "metadata": {},
     "outputs": []
    },
    {
     "cell_type": "code",
     "collapsed": false,
     "input": [],
     "language": "python",
     "metadata": {},
     "outputs": []
    }
   ],
   "metadata": {}
  }
 ]
}