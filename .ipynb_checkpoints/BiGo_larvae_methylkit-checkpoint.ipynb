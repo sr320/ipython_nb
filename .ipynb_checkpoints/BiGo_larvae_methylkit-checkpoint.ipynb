{
 "metadata": {
  "name": ""
 },
 "nbformat": 3,
 "nbformat_minor": 0,
 "worksheets": [
  {
   "cells": [
    {
     "cell_type": "heading",
     "level": 1,
     "metadata": {},
     "source": [
      "Converting methratio files for methylkit analysis"
     ]
    },
    {
     "cell_type": "markdown",
     "metadata": {},
     "source": [
      "**Quicklist**   \n",
      "M3   \n",
      "`http://eagle.fish.washington.edu/cnidarian/BiGo_lar_M3_methylkit.csv`   \n",
      "    \n",
      "T3D3   \n",
      "`http://eagle.fish.washington.edu/cnidarian/BiGo_lar_T3D3_methylkit.csv`  \n",
      "\n",
      "T3D5   \n",
      "`http://eagle.fish.washington.edu/cnidarian/BiGo_lar_T3D5_methylkit.csv`   \n",
      "\n",
      "M1   \n",
      "`http://eagle.fish.washington.edu/cnidarian/BiGo_lar_M1_methylkit.csv`   \n",
      "\n",
      "T1D3   \n",
      "`http://eagle.fish.washington.edu/cnidarian/BiGo_lar_T1D3_methylkit.csv`\n",
      "\n",
      "T1D5    \n",
      "`http://eagle.fish.washington.edu/cnidarian/BiGo_lar_T1D5_methylkit.csv`  \n",
      "\n",
      "---\n",
      "**QC**  \n",
      "M3   \n",
      "`http://eagle.fish.washington.edu/cnidarian/BiGo_lar_M3_methylkit_oner.csv`\n",
      "\n",
      "BiGo(gonad)    \n",
      "`http://eagle.fish.washington.edu/cnidarian/BiGO_betty_plain_methylkit.csv`"
     ]
    },
    {
     "cell_type": "code",
     "collapsed": false,
     "input": [
      "!python /Users/sr320/sqlshare-pythonclient/tools/fetchdata.py -s \"SELECT chr as chr, pos as start, '+' as strand, cast (CT_count as float) as CT_count, cast (C_count as float) as C_count, cast (C_count as float) / cast (CT_count as float) as freqC FROM [sr320@washington.edu].[BiGO_betty_plain_methratio_v1.txt] where context like '__CG_' and CT_Count >= 5 and ratio <> 'NA'\" -o /Volumes/web/cnidarian/BiGO_betty_plain_methylkit_input.csv\n",
      "\n"
     ],
     "language": "python",
     "metadata": {},
     "outputs": [],
     "prompt_number": 1
    },
    {
     "cell_type": "code",
     "collapsed": false,
     "input": [
      "!head /Volumes/web/cnidarian/BiGO_betty_plain_methylkit_input.csv"
     ],
     "language": "python",
     "metadata": {},
     "outputs": [
      {
       "output_type": "stream",
       "stream": "stdout",
       "text": [
        "chr,start,strand,CT_count,C_count,freqC\r",
        "\r\n",
        "C10005,57,+,52,0,0\r",
        "\r\n",
        "C10009,70,+,28,0,0\r",
        "\r\n",
        "C10009,124,+,13,0,0\r",
        "\r\n",
        "C10009,128,+,13,0,0\r",
        "\r\n",
        "C10009,136,+,9,0,0\r",
        "\r\n",
        "C10011,51,+,14,0,0\r",
        "\r\n",
        "C10011,62,+,17,0,0\r",
        "\r\n",
        "C10011,101,+,21,0,0\r",
        "\r\n",
        "C10011,108,+,21,0,0\r",
        "\r\n"
       ]
      }
     ],
     "prompt_number": 2
    },
    {
     "cell_type": "code",
     "collapsed": false,
     "input": [
      "!tail -n +2 /Volumes/web/cnidarian/BiGO_betty_plain_methylkit_input.csv > /Volumes/web/cnidarian/BiGO_betty_plain_methylkit.csv"
     ],
     "language": "python",
     "metadata": {},
     "outputs": [],
     "prompt_number": 3
    },
    {
     "cell_type": "code",
     "collapsed": false,
     "input": [
      "!head /Volumes/web/cnidarian/BiGO_betty_plain_methylkit.csv"
     ],
     "language": "python",
     "metadata": {},
     "outputs": [
      {
       "output_type": "stream",
       "stream": "stdout",
       "text": [
        "C10005,57,+,52,0,0\r",
        "\r\n",
        "C10009,70,+,28,0,0\r",
        "\r\n",
        "C10009,124,+,13,0,0\r",
        "\r\n",
        "C10009,128,+,13,0,0\r",
        "\r\n",
        "C10009,136,+,9,0,0\r",
        "\r\n",
        "C10011,51,+,14,0,0\r",
        "\r\n",
        "C10011,62,+,17,0,0\r",
        "\r\n",
        "C10011,101,+,21,0,0\r",
        "\r\n",
        "C10011,108,+,21,0,0\r",
        "\r\n",
        "C10011,115,+,19,0,0\r",
        "\r\n"
       ]
      }
     ],
     "prompt_number": 4
    },
    {
     "cell_type": "heading",
     "level": 2,
     "metadata": {},
     "source": [
      "M3"
     ]
    },
    {
     "cell_type": "markdown",
     "metadata": {},
     "source": [
      "```sql\n",
      "SELECT \n",
      "  chr as chr,\n",
      "  pos as start,\n",
      "  '+' as strand,\n",
      "  cast (CT_count as float) as CT_count,\n",
      "  cast (C_count as float) as C_count\n",
      "FROM [sr320@washington.edu].[BiGo_lar_M3]\n",
      "  where \n",
      "context like '__CG_'\n",
      "and\n",
      "  CT_Count >= 5 \n",
      "and \n",
      "  ratio <> 'NA'\n",
      "```"
     ]
    },
    {
     "cell_type": "markdown",
     "metadata": {},
     "source": [
      "```\n",
      "SELECT \n",
      " chr as chr,\n",
      "  start as start,\n",
      "  strand as strand,\n",
      "  CT_count as CT_count,\n",
      " C_count as C_count,\n",
      "  C_count/CT_count as freqC  \n",
      "  \n",
      "  \n",
      "  FROM [sr320@washington.edu].[_M3methylkit_s1]\u200b\n",
      "``` "
     ]
    },
    {
     "cell_type": "markdown",
     "metadata": {},
     "source": [
      "```sql\n",
      "SELECT  \n",
      "  chr as chr,\n",
      "  start as start,\n",
      "  strand as strand,\n",
      "  CT_count as CT_count,\n",
      "  freqC as freqC\n",
      "  \n",
      "  FROM [sr320@washington.edu].[_M3mehthykit_step2]\u200b\n",
      "```"
     ]
    },
    {
     "cell_type": "code",
     "collapsed": false,
     "input": [
      "!head /Volumes/web/cnidarian/BiGo_lar_M3_methylkit_input.csv"
     ],
     "language": "python",
     "metadata": {},
     "outputs": [
      {
       "output_type": "stream",
       "stream": "stdout",
       "text": [
        "chr,start,strand,CT_count,freqC\r",
        "\r\n",
        "C10295,38,+,15,0\r",
        "\r\n",
        "C10295,51,+,21,0\r",
        "\r\n",
        "C10295,142,+,9,0\r",
        "\r\n",
        "C10845,110,+,6,0\r",
        "\r\n",
        "C10845,145,+,6,0\r",
        "\r\n",
        "C11248,71,+,5,0\r",
        "\r\n",
        "C11870,109,+,6,0\r",
        "\r\n",
        "C12272,65,+,5,1\r",
        "\r\n",
        "C14220,96,+,6,0\r",
        "\r\n"
       ]
      }
     ],
     "prompt_number": 7
    },
    {
     "cell_type": "code",
     "collapsed": false,
     "input": [
      "!tail -n +2 /Volumes/web/cnidarian/BiGo_lar_M3_methylkit_input.csv > /Volumes/web/cnidarian/BiGo_lar_M3_methylkit.csv"
     ],
     "language": "python",
     "metadata": {},
     "outputs": [],
     "prompt_number": 8
    },
    {
     "cell_type": "code",
     "collapsed": false,
     "input": [
      "!head /Volumes/web/cnidarian/BiGo_lar_M3_methylkit.csv"
     ],
     "language": "python",
     "metadata": {},
     "outputs": [
      {
       "output_type": "stream",
       "stream": "stdout",
       "text": [
        "C10295,38,+,15,0\r",
        "\r\n",
        "C10295,51,+,21,0\r",
        "\r\n",
        "C10295,142,+,9,0\r",
        "\r\n",
        "C10845,110,+,6,0\r",
        "\r\n",
        "C10845,145,+,6,0\r",
        "\r\n",
        "C11248,71,+,5,0\r",
        "\r\n",
        "C11870,109,+,6,0\r",
        "\r\n",
        "C12272,65,+,5,1\r",
        "\r\n",
        "C14220,96,+,6,0\r",
        "\r\n",
        "C14450,60,+,6,0.333333333333333\r",
        "\r\n"
       ]
      }
     ],
     "prompt_number": 9
    },
    {
     "cell_type": "code",
     "collapsed": false,
     "input": [
      "!wc /Volumes/web/cnidarian/BiGo_lar_M3_methylkit.csv"
     ],
     "language": "python",
     "metadata": {},
     "outputs": [
      {
       "output_type": "stream",
       "stream": "stdout",
       "text": [
        "  182475  182475 5044686 /Volumes/web/cnidarian/BiGo_lar_M3_methylkit.csv\r\n"
       ]
      }
     ],
     "prompt_number": 18
    },
    {
     "cell_type": "markdown",
     "metadata": {},
     "source": [
      "<http://eagle.fish.washington.edu/cnidarian/BiGo_lar_M3_methylkit.csv>"
     ]
    },
    {
     "cell_type": "code",
     "collapsed": false,
     "input": [
      "#with one line of code...   \n",
      "!head /Volumes/web/cnidarian/BiGo_lar_M3_methylkit_input_oner.csv"
     ],
     "language": "python",
     "metadata": {},
     "outputs": [
      {
       "output_type": "stream",
       "stream": "stdout",
       "text": [
        "chr,start,strand,CT_count,C_count,freqC\r",
        "\r\n",
        "C10295,38,+,15,0,0\r",
        "\r\n",
        "C10295,51,+,21,0,0\r",
        "\r\n",
        "C10295,142,+,9,0,0\r",
        "\r\n",
        "C10845,110,+,6,0,0\r",
        "\r\n",
        "C10845,145,+,6,0,0\r",
        "\r\n",
        "C11248,71,+,5,0,0\r",
        "\r\n",
        "C11870,109,+,6,0,0\r",
        "\r\n",
        "C12272,65,+,5,5,1\r",
        "\r\n",
        "C14220,96,+,6,0,0\r",
        "\r\n"
       ]
      }
     ],
     "prompt_number": 14
    },
    {
     "cell_type": "code",
     "collapsed": false,
     "input": [
      "!tail -n +2 /Volumes/web/cnidarian/BiGo_lar_M3_methylkit_input_oner.csv > /Volumes/web/cnidarian/BiGo_lar_M3_methylkit_oner.csv"
     ],
     "language": "python",
     "metadata": {},
     "outputs": [],
     "prompt_number": 15
    },
    {
     "cell_type": "code",
     "collapsed": false,
     "input": [
      "!head /Volumes/web/cnidarian/BiGo_lar_M3_methylkit_oner.csv"
     ],
     "language": "python",
     "metadata": {},
     "outputs": [
      {
       "output_type": "stream",
       "stream": "stdout",
       "text": [
        "C10295,38,+,15,0,0\r",
        "\r\n",
        "C10295,51,+,21,0,0\r",
        "\r\n",
        "C10295,142,+,9,0,0\r",
        "\r\n",
        "C10845,110,+,6,0,0\r",
        "\r\n",
        "C10845,145,+,6,0,0\r",
        "\r\n",
        "C11248,71,+,5,0,0\r",
        "\r\n",
        "C11870,109,+,6,0,0\r",
        "\r\n",
        "C12272,65,+,5,5,1\r",
        "\r\n",
        "C14220,96,+,6,0,0\r",
        "\r\n",
        "C14450,60,+,6,2,0.333333333333333\r",
        "\r\n"
       ]
      }
     ],
     "prompt_number": 16
    },
    {
     "cell_type": "code",
     "collapsed": false,
     "input": [
      "!wc /Volumes/web/cnidarian/BiGo_lar_M3_methylkit_oner.csv"
     ],
     "language": "python",
     "metadata": {},
     "outputs": [
      {
       "output_type": "stream",
       "stream": "stdout",
       "text": [
        "  182475  182475 5410598 /Volumes/web/cnidarian/BiGo_lar_M3_methylkit_oner.csv\r\n"
       ]
      }
     ],
     "prompt_number": 17
    },
    {
     "cell_type": "heading",
     "level": 3,
     "metadata": {},
     "source": [
      "T3D3"
     ]
    },
    {
     "cell_type": "code",
     "collapsed": false,
     "input": [
      "!head /Volumes/web/cnidarian/BiGo_lar_T3D3_methylkit_input.csv"
     ],
     "language": "python",
     "metadata": {},
     "outputs": [
      {
       "output_type": "stream",
       "stream": "stdout",
       "text": [
        "chr,start,strand,CT_count,freqC\r",
        "\r\n",
        "C10295,38,+,14,0\r",
        "\r\n",
        "C10295,51,+,21,0\r",
        "\r\n",
        "C10295,142,+,7,0\r",
        "\r\n",
        "C10845,110,+,9,0\r",
        "\r\n",
        "C10845,145,+,6,0\r",
        "\r\n",
        "C11870,109,+,8,0\r",
        "\r\n",
        "C12052,112,+,7,0\r",
        "\r\n",
        "C12570,118,+,5,0\r",
        "\r\n",
        "C13546,84,+,5,0\r",
        "\r\n"
       ]
      }
     ],
     "prompt_number": 12
    },
    {
     "cell_type": "code",
     "collapsed": false,
     "input": [
      "!tail -n +2 /Volumes/web/cnidarian/BiGo_lar_T3D3_methylkit_input.csv > /Volumes/web/cnidarian/BiGo_lar_T3D3_methylkit.csv"
     ],
     "language": "python",
     "metadata": {},
     "outputs": [],
     "prompt_number": 13
    },
    {
     "cell_type": "code",
     "collapsed": false,
     "input": [
      "!head /Volumes/web/cnidarian/BiGo_lar_T3D3_methylkit.csv"
     ],
     "language": "python",
     "metadata": {},
     "outputs": [
      {
       "output_type": "stream",
       "stream": "stdout",
       "text": [
        "C10295,38,+,14,0\r",
        "\r\n",
        "C10295,51,+,21,0\r",
        "\r\n",
        "C10295,142,+,7,0\r",
        "\r\n",
        "C10845,110,+,9,0\r",
        "\r\n",
        "C10845,145,+,6,0\r",
        "\r\n",
        "C11870,109,+,8,0\r",
        "\r\n",
        "C12052,112,+,7,0\r",
        "\r\n",
        "C12570,118,+,5,0\r",
        "\r\n",
        "C13546,84,+,5,0\r",
        "\r\n",
        "C13878,147,+,5,0\r",
        "\r\n"
       ]
      }
     ],
     "prompt_number": 14
    },
    {
     "cell_type": "markdown",
     "metadata": {},
     "source": [
      "<http://eagle.fish.washington.edu/cnidarian/BiGo_lar_T3D3_methylkit.csv>"
     ]
    },
    {
     "cell_type": "heading",
     "level": 2,
     "metadata": {},
     "source": [
      "T3D5"
     ]
    },
    {
     "cell_type": "raw",
     "metadata": {},
     "source": [
      "python /Users/sr320/sqlshare-pythonclient/tools/fetchdata.py -s \"SELECT chr as chr, pos as start, '+' as strand, cast (CT_count as float) as CT_count, cast (C_count as float) as C_count, cast (C_count as float) / cast (CT_count as float) as freqC FROM [sr320@washington.edu].[BiGo_lar_T3D5] where context like '__CG_' and CT_Count >= 5 and ratio <> 'NA'\" -o /Volumes/web/cnidarian/BiGo_lar_T3D5_methylkit_input.csv"
     ]
    },
    {
     "cell_type": "code",
     "collapsed": false,
     "input": [
      "!head /Volumes/web/cnidarian/BiGo_lar_T3D5_methylkit_input.csv"
     ],
     "language": "python",
     "metadata": {},
     "outputs": [
      {
       "output_type": "stream",
       "stream": "stdout",
       "text": [
        "chr,start,strand,CT_count,C_count,freqC\r",
        "\r\n",
        "C10295,38,+,15,0,0\r",
        "\r\n",
        "C10295,51,+,18,0,0\r",
        "\r\n",
        "C10295,142,+,9,0,0\r",
        "\r\n",
        "C14220,96,+,5,0,0\r",
        "\r\n",
        "C14450,60,+,5,0,0\r",
        "\r\n",
        "C14796,69,+,12,10,0.833333333333333\r",
        "\r\n",
        "C15066,82,+,7,0,0\r",
        "\r\n",
        "C15066,89,+,5,0,0\r",
        "\r\n",
        "C15066,193,+,6,0,0\r",
        "\r\n"
       ]
      }
     ],
     "prompt_number": 9
    },
    {
     "cell_type": "code",
     "collapsed": false,
     "input": [
      "!tail -n +2 /Volumes/web/cnidarian/BiGo_lar_T3D5_methylkit_input.csv > /Volumes/web/cnidarian/BiGo_lar_T3D5_methylkit.csv"
     ],
     "language": "python",
     "metadata": {},
     "outputs": [],
     "prompt_number": 10
    },
    {
     "cell_type": "code",
     "collapsed": false,
     "input": [
      "!head /Volumes/web/cnidarian/BiGo_lar_T3D5_methylkit.csv"
     ],
     "language": "python",
     "metadata": {},
     "outputs": [
      {
       "output_type": "stream",
       "stream": "stdout",
       "text": [
        "C10295,38,+,15,0,0\r",
        "\r\n",
        "C10295,51,+,18,0,0\r",
        "\r\n",
        "C10295,142,+,9,0,0\r",
        "\r\n",
        "C14220,96,+,5,0,0\r",
        "\r\n",
        "C14450,60,+,5,0,0\r",
        "\r\n",
        "C14796,69,+,12,10,0.833333333333333\r",
        "\r\n",
        "C15066,82,+,7,0,0\r",
        "\r\n",
        "C15066,89,+,5,0,0\r",
        "\r\n",
        "C15066,193,+,6,0,0\r",
        "\r\n",
        "C15066,197,+,6,0,0\r",
        "\r\n"
       ]
      }
     ],
     "prompt_number": 11
    },
    {
     "cell_type": "markdown",
     "metadata": {},
     "source": [
      "FILE    \n",
      "/Volumes/web/cnidarian/BiGo_lar_T3D5_methylkit.csv"
     ]
    },
    {
     "cell_type": "heading",
     "level": 2,
     "metadata": {},
     "source": [
      "M1"
     ]
    },
    {
     "cell_type": "code",
     "collapsed": false,
     "input": [
      "!head /Volumes/web/cnidarian/BiGo_lar_M1_methylkit_input.csv"
     ],
     "language": "python",
     "metadata": {},
     "outputs": [
      {
       "output_type": "stream",
       "stream": "stdout",
       "text": [
        "chr,start,strand,CT_count,C_count,freqC\r",
        "\r\n",
        "C10295,51,+,5,0,0\r",
        "\r\n",
        "C11141,58,+,5,0,0\r",
        "\r\n",
        "C11141,73,+,5,0,0\r",
        "\r\n",
        "C11141,78,+,5,0,0\r",
        "\r\n",
        "C11848,108,+,6,0,0\r",
        "\r\n",
        "C12768,103,+,6,1,0.166666666666667\r",
        "\r\n",
        "C13766,126,+,9,0,0\r",
        "\r\n",
        "C13766,145,+,8,0,0\r",
        "\r\n",
        "C14220,96,+,7,0,0\r",
        "\r\n"
       ]
      }
     ],
     "prompt_number": 5
    },
    {
     "cell_type": "code",
     "collapsed": false,
     "input": [
      "!tail -n +2 /Volumes/web/cnidarian/BiGo_lar_M1_methylkit_input.csv > /Volumes/web/cnidarian/BiGo_lar_M1_methylkit.csv"
     ],
     "language": "python",
     "metadata": {},
     "outputs": [],
     "prompt_number": 6
    },
    {
     "cell_type": "code",
     "collapsed": false,
     "input": [
      "!head /Volumes/web/cnidarian/BiGo_lar_M1_methylkit.csv"
     ],
     "language": "python",
     "metadata": {},
     "outputs": [
      {
       "output_type": "stream",
       "stream": "stdout",
       "text": [
        "C10295,51,+,5,0,0\r",
        "\r\n",
        "C11141,58,+,5,0,0\r",
        "\r\n",
        "C11141,73,+,5,0,0\r",
        "\r\n",
        "C11141,78,+,5,0,0\r",
        "\r\n",
        "C11848,108,+,6,0,0\r",
        "\r\n",
        "C12768,103,+,6,1,0.166666666666667\r",
        "\r\n",
        "C13766,126,+,9,0,0\r",
        "\r\n",
        "C13766,145,+,8,0,0\r",
        "\r\n",
        "C14220,96,+,7,0,0\r",
        "\r\n",
        "C14220,143,+,6,0,0\r",
        "\r\n"
       ]
      }
     ],
     "prompt_number": 7
    },
    {
     "cell_type": "markdown",
     "metadata": {},
     "source": [
      "FILE   \n",
      "/Volumes/web/cnidarian/BiGo_lar_M1_methylkit.csv"
     ]
    },
    {
     "cell_type": "heading",
     "level": 2,
     "metadata": {},
     "source": [
      "T1D3"
     ]
    },
    {
     "cell_type": "raw",
     "metadata": {},
     "source": [
      "python /Users/sr320/sqlshare-pythonclient/tools/fetchdata.py -s \"SELECT chr as chr, pos as start, '+' as strand, cast (CT_count as float) as CT_count, cast (C_count as float) as C_count, cast (C_count as float) / cast (CT_count as float) as freqC FROM [sr320@washington.edu].[BiGo_lar_T1D3] where context like '__CG_' and CT_Count >= 5 and ratio <> 'NA'\" -o /Volumes/web/cnidarian/BiGo_lar_T1D3_methylkit_input.csv"
     ]
    },
    {
     "cell_type": "raw",
     "metadata": {},
     "source": [
      "tail -n +2 /Volumes/web/cnidarian/BiGo_lar_T1D3_methylkit_input.csv > /Volumes/web/cnidarian/BiGo_lar_T1D3_methylkit.csv"
     ]
    },
    {
     "cell_type": "code",
     "collapsed": false,
     "input": [
      "!head /Volumes/web/cnidarian/BiGo_lar_T1D3_methylkit.csv"
     ],
     "language": "python",
     "metadata": {},
     "outputs": [
      {
       "output_type": "stream",
       "stream": "stdout",
       "text": [
        "C10295,38,+,7,0,0\r",
        "\r\n",
        "C10295,51,+,10,0,0\r",
        "\r\n",
        "C12960,123,+,7,0,0\r",
        "\r\n",
        "C13766,126,+,6,0,0\r",
        "\r\n",
        "C13766,145,+,8,0,0\r",
        "\r\n",
        "C13874,46,+,5,0,0\r",
        "\r\n",
        "C14796,69,+,11,8,0.727272727272727\r",
        "\r\n",
        "C14944,199,+,6,0,0\r",
        "\r\n",
        "C15352,208,+,5,0,0\r",
        "\r\n",
        "C15814,143,+,6,0,0\r",
        "\r\n"
       ]
      }
     ],
     "prompt_number": 3
    },
    {
     "cell_type": "markdown",
     "metadata": {},
     "source": [
      "FILE   \n",
      "/Volumes/web/cnidarian/BiGo_lar_T1D3_methylkit.csv"
     ]
    },
    {
     "cell_type": "heading",
     "level": 2,
     "metadata": {},
     "source": [
      "T1D5"
     ]
    },
    {
     "cell_type": "markdown",
     "metadata": {},
     "source": [
      "\n",
      "`python /Users/sr320/sqlshare-pythonclient/tools/fetchdata.py -s \"SELECT chr as chr, pos as start, '+' as strand, cast (CT_count as float) as CT_count, cast (C_count as float) as C_count, cast (C_count as float) / cast (CT_count as float) as freqC FROM [sr320@washington.edu].[BiGo_lar_T1D5] where context like '__CG_' and CT_Count >= 5 and ratio <> 'NA'\" -o /Volumes/web/cnidarian/BiGo_lar_T1D5_methylkit_input.csv`"
     ]
    },
    {
     "cell_type": "raw",
     "metadata": {},
     "source": [
      "tail -n +2 /Volumes/web/cnidarian/BiGo_lar_T1D5_methylkit_input.csv > /Volumes/web/cnidarian/BiGo_lar_T1D5_methylkit.csv"
     ]
    },
    {
     "cell_type": "code",
     "collapsed": false,
     "input": [
      "!head /Volumes/web/cnidarian/BiGo_lar_T1D5_methylkit.csv"
     ],
     "language": "python",
     "metadata": {},
     "outputs": [
      {
       "output_type": "stream",
       "stream": "stdout",
       "text": [
        "C13766,145,+,5,0,0\r",
        "\r\n",
        "C16318,32,+,7,0,0\r",
        "\r\n",
        "C16318,177,+,11,0,0\r",
        "\r\n",
        "C16318,196,+,7,0,0\r",
        "\r\n",
        "C16318,203,+,7,0,0\r",
        "\r\n",
        "C16318,206,+,7,1,0.142857142857143\r",
        "\r\n",
        "C16318,302,+,16,0,0\r",
        "\r\n",
        "C17734,242,+,5,2,0.4\r",
        "\r\n",
        "C18932,429,+,6,0,0\r",
        "\r\n",
        "C19344,310,+,6,0,0\r",
        "\r\n"
       ]
      }
     ],
     "prompt_number": 4
    },
    {
     "cell_type": "markdown",
     "metadata": {},
     "source": [
      "FILE   \n",
      "/Volumes/web/cnidarian/BiGo_lar_T1D5_methylkit.csv"
     ]
    },
    {
     "cell_type": "code",
     "collapsed": false,
     "input": [],
     "language": "python",
     "metadata": {},
     "outputs": []
    },
    {
     "cell_type": "code",
     "collapsed": false,
     "input": [],
     "language": "python",
     "metadata": {},
     "outputs": []
    }
   ],
   "metadata": {}
  }
 ]
}