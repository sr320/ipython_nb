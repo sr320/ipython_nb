{
 "metadata": {
  "name": "",
  "signature": "sha256:b7058582e60a843cc2516caae53ad826ca16c0d90f8f6b0280075034533954e0"
 },
 "nbformat": 3,
 "nbformat_minor": 0,
 "worksheets": [
  {
   "cells": [
    {
     "cell_type": "heading",
     "level": 1,
     "metadata": {},
     "source": [
      "Replicating BiGO_larvae concatenation"
     ]
    },
    {
     "cell_type": "code",
     "collapsed": false,
     "input": [
      "M1_R1"
     ],
     "language": "python",
     "metadata": {},
     "outputs": []
    },
    {
     "cell_type": "code",
     "collapsed": false,
     "input": [
      "#Claire's M1_R1\n",
      "!head /Volumes/web/Mollusk/bs_larvae_exp/Concatenated_Files_R1/M1_R1.fastq"
     ],
     "language": "python",
     "metadata": {},
     "outputs": [
      {
       "output_type": "stream",
       "stream": "stdout",
       "text": [
        "@HWI-ST700693:373:C39EMACXX:4:1101:15213:2222\r\n",
        "TTTTAATAAGAATTATTGATAAAGAAGTATTTGTATATGTTTGAATTGGTTTATTTTGTTTTTTTTTGAAATGATA\r\n",
        "+\r\n",
        "4:BD42243323<EGHJJIJIJJJIJJHJIJJJIJJIIJIJIIHGIIJJFHEFGHIGIIJJJJJJHFEECCCA@C#\r\n",
        "@HWI-ST700693:373:C39EMACXX:4:1101:15748:2215\r\n",
        "AAATATGTAATTATTGTTATTGTGAATTATTGAAAGATTTTGTTTGAATAGTATTGTATTAGTAGCGGAATAATTT\r\n",
        "+\r\n",
        "1:?D44223333<EHIIJIJJJIJIJJJJJJJGIJJJJJJJJFHIJHIHIJHIIJIJJJJJJIJIEIJGHHHHIJC\r\n",
        "@HWI-ST700693:373:C39EMACXX:4:1101:15816:2198\r\n",
        "AGGTTAAGGTTTTATTTTCGGTTAAGGTTAAGGTATCGTTTATTTTTTAGAAGTTTTAGTTTTGATAGTAGTAGTT\r\n"
       ]
      }
     ],
     "prompt_number": 9
    },
    {
     "cell_type": "code",
     "collapsed": false,
     "input": [
      "!wc /Volumes/web/Mollusk/bs_larvae_exp/Concatenated_Files_R1/M1_R1.fastq"
     ],
     "language": "python",
     "metadata": {},
     "outputs": [
      {
       "output_type": "stream",
       "stream": "stdout",
       "text": [
        " 33188808 33188808 1680104182 /Volumes/web/Mollusk/bs_larvae_exp/Concatenated_Files_R1/M1_R1.fastq\r\n"
       ]
      }
     ],
     "prompt_number": 10
    },
    {
     "cell_type": "code",
     "collapsed": false,
     "input": [
      "!grep -c \"@HWI\" /Volumes/web/Mollusk/bs_larvae_exp/Concatenated_Files_R1/M1_R1.fastq"
     ],
     "language": "python",
     "metadata": {},
     "outputs": [
      {
       "output_type": "stream",
       "stream": "stdout",
       "text": [
        "8297202\r\n"
       ]
      }
     ],
     "prompt_number": 13
    },
    {
     "cell_type": "code",
     "collapsed": false,
     "input": [
      "#Steven's M1_R1\n",
      "!head /Volumes/web/cnidarian/BiGo_larvae_merge/CgM1_R1a.fastq"
     ],
     "language": "python",
     "metadata": {},
     "outputs": [
      {
       "output_type": "stream",
       "stream": "stdout",
       "text": [
        "@HWI-ST700693:351:D2CA8ACXX:7:1101:1686:2216\r\n",
        "AAAAAAGTATTTAAAATGGTTTTTGTTTTAGAATGAAAAAAAAAATTGATATGTTTAAGATAAGGGATGAATTTGA\r\n",
        "+\r\n",
        "B@@FFFFBFHHHHJJJJJJFHIJJJIJJJIIIJJJJJJJJJIJJHHHC@DDFFFDEECA>ACCDDD?CDDDEEDDC\r\n",
        "@HWI-ST700693:351:D2CA8ACXX:7:1101:2200:2105\r\n",
        "TTTAATATAAATTATATATAAAATTGTTTGAGGTAAAGAAAAAATATTAGTTAATATTTAATATATTGTGTTAGTT\r\n",
        "+\r\n",
        "BBCFDFFFHHHHHJJJJJJJJJJJJJJJJHEHIAFGCHIIJIJJJJJJJJIJJJIIJJJJJJIJJJJJGIIHJJGB\r\n",
        "@HWI-ST700693:351:D2CA8ACXX:7:1101:2596:2201\r\n",
        "GATTTTTTATTTTTAATTTAATTAATATGGTTATTTAAAAATGGGTTGAATTTGTTTGATGAGAGGGGAGATAGGT\r\n"
       ]
      }
     ],
     "prompt_number": 11
    },
    {
     "cell_type": "code",
     "collapsed": false,
     "input": [
      "!wc /Volumes/web/cnidarian/BiGo_larvae_merge/CgM1_R1a.fastq"
     ],
     "language": "python",
     "metadata": {},
     "outputs": [
      {
       "output_type": "stream",
       "stream": "stdout",
       "text": [
        " 33188808 33188808 1680104182 /Volumes/web/cnidarian/BiGo_larvae_merge/CgM1_R1a.fastq\r\n"
       ]
      }
     ],
     "prompt_number": 12
    },
    {
     "cell_type": "code",
     "collapsed": false,
     "input": [
      "!grep -c \"@HWI\" /Volumes/web/cnidarian/BiGo_larvae_merge/CgM1_R1a.fastq"
     ],
     "language": "python",
     "metadata": {},
     "outputs": [
      {
       "output_type": "stream",
       "stream": "stdout",
       "text": [
        "8297202\r\n"
       ]
      }
     ],
     "prompt_number": 14
    },
    {
     "cell_type": "heading",
     "level": 2,
     "metadata": {},
     "source": [
      "T3D5"
     ]
    },
    {
     "cell_type": "code",
     "collapsed": false,
     "input": [
      "!wc /Volumes/web/Mollusk/bs_larvae_exp/Concatenated_Files_R2/T3D5_R2.fastq   "
     ],
     "language": "python",
     "metadata": {},
     "outputs": [
      {
       "output_type": "stream",
       "stream": "stdout",
       "text": [
        " 29402580 29402580 1488447849 /Volumes/web/Mollusk/bs_larvae_exp/Concatenated_Files_R2/T3D5_R2.fastq\r\n"
       ]
      }
     ],
     "prompt_number": 15
    },
    {
     "cell_type": "code",
     "collapsed": false,
     "input": [
      "!wc /Volumes/web/cnidarian/BiGo_larvae_merge/CgT3D5_R1a.fastq"
     ],
     "language": "python",
     "metadata": {},
     "outputs": [
      {
       "output_type": "stream",
       "stream": "stdout",
       "text": [
        " 29402580 29402580 1488447849 /Volumes/web/cnidarian/BiGo_larvae_merge/CgT3D5_R1a.fastq\r\n"
       ]
      }
     ],
     "prompt_number": 16
    },
    {
     "cell_type": "code",
     "collapsed": false,
     "input": [
      "!grep -c \"@HWI\" /Volumes/web/Mollusk/bs_larvae_exp/Concatenated_Files_R2/T3D5_R2.fastq "
     ],
     "language": "python",
     "metadata": {},
     "outputs": [
      {
       "output_type": "stream",
       "stream": "stdout",
       "text": [
        "7350645\r\n"
       ]
      }
     ],
     "prompt_number": 17
    },
    {
     "cell_type": "code",
     "collapsed": false,
     "input": [
      "!grep -c \"@HWI\" /Volumes/web/cnidarian/BiGo_larvae_merge/CgT3D5_R1a.fastq"
     ],
     "language": "python",
     "metadata": {},
     "outputs": [
      {
       "output_type": "stream",
       "stream": "stdout",
       "text": [
        "7350645\r\n"
       ]
      }
     ],
     "prompt_number": 18
    },
    {
     "cell_type": "heading",
     "level": 2,
     "metadata": {},
     "source": [
      "Removing Adaptors from concatenated files"
     ]
    },
    {
     "cell_type": "code",
     "collapsed": false,
     "input": [
      "!/Users/sr320/galaxy-dist/tools/fastq/fastq_trimmer.py"
     ],
     "language": "python",
     "metadata": {},
     "outputs": [
      {
       "output_type": "stream",
       "stream": "stdout",
       "text": [
        "/bin/sh: /Users/sr320/galaxy-dist/tools/fastq/fastq_trimmer.py: Permission denied\r\n"
       ]
      }
     ],
     "prompt_number": 1
    },
    {
     "cell_type": "code",
     "collapsed": false,
     "input": [
      "!/Volumes/Bay3/Software/bin/fastx_clipper -h"
     ],
     "language": "python",
     "metadata": {},
     "outputs": [
      {
       "output_type": "stream",
       "stream": "stdout",
       "text": [
        "usage: fastx_clipper [-h] [-a ADAPTER] [-D] [-l N] [-n] [-d N] [-c] [-C] [-o] [-v] [-z] [-i INFILE] [-o OUTFILE]\r\n",
        "Part of FASTX Toolkit 0.0.13 by A. Gordon (gordon@cshl.edu)\r\n",
        "\r\n",
        "   [-h]         = This helpful help screen.\r\n",
        "   [-a ADAPTER] = ADAPTER string. default is CCTTAAGG (dummy adapter).\r\n",
        "   [-l N]       = discard sequences shorter than N nucleotides. default is 5.\r\n",
        "   [-d N]       = Keep the adapter and N bases after it.\r\n",
        "                  (using '-d 0' is the same as not using '-d' at all. which is the default).\r\n",
        "   [-c]         = Discard non-clipped sequences (i.e. - keep only sequences which contained the adapter).\r\n",
        "   [-C]         = Discard clipped sequences (i.e. - keep only sequences which did not contained the adapter).\r\n",
        "   [-k]         = Report Adapter-Only sequences.\r\n",
        "   [-n]         = keep sequences with unknown (N) nucleotides. default is to discard such sequences.\r\n",
        "   [-v]         = Verbose - report number of sequences.\r\n",
        "                  If [-o] is specified,  report will be printed to STDOUT.\r\n",
        "                  If [-o] is not specified (and output goes to STDOUT),\r\n",
        "                  report will be printed to STDERR.\r\n",
        "   [-z]         = Compress output with GZIP.\r\n",
        "   [-D]\t = DEBUG output.\r\n",
        "   [-M N]       = require minimum adapter alignment length of N.\r\n",
        "                  If less than N nucleotides aligned with the adapter - don't clip it.   [-i INFILE]  = FASTA/Q input file. default is STDIN.\r\n",
        "   [-o OUTFILE] = FASTA/Q output file. default is STDOUT.\r\n",
        "\r\n"
       ]
      }
     ],
     "prompt_number": 3
    },
    {
     "cell_type": "code",
     "collapsed": false,
     "input": [
      "!/Volumes/Bay3/Software/ea-utils.1.1.2-537/fastq-clipper"
     ],
     "language": "python",
     "metadata": {},
     "outputs": [
      {
       "output_type": "stream",
       "stream": "stdout",
       "text": [
        "usage: fastq-clipper [options] <fastq-file> <adapters>\r\n",
        "\r\n",
        "Removes one or more adapter sequences from the fastq file.\r\n",
        "Adapter sequences are colon-delimited.\r\n",
        "Stats go to stderr, unless -o is specified.\r\n",
        "\r\n",
        "Options:\r\n",
        "\t-h\tThis help\r\n",
        "\t-o FIL\tOutput file (stats to stdout)\r\n",
        "\t-p N\tMaximum difference percentage (10)\r\n",
        "\t-m N\tMinimum clip length (1)\r\n",
        "\t-l N\tMinimum remaining sequence length (15)\r\n",
        "\t-x [N]\tExtra match length past adapter length, \r\n",
        "\t\t N =-1 : search all\r\n",
        "\t\t N = 0 : search only up to adapter length\r\n",
        "\t-e\tEnd-of-line (default)\r\n",
        "\t-b\tBeginning-of-line (not supported yet)\r\n"
       ]
      }
     ],
     "prompt_number": 4
    },
    {
     "cell_type": "code",
     "collapsed": false,
     "input": [
      "!/Volumes/Bay3/Software/ea-utils.1.1.2-537/fastq-mcf -o /Volumes/web/cnidarian/test_adp /Volumes/web/Mollusk/bs_larvae_exp/Adapters_LarvaeSequencingFiles.txt /Volumes/web/cnidarian/BiGo_larvae_merge/CgT3D5_R1a.fastq\n"
     ],
     "language": "python",
     "metadata": {},
     "outputs": []
    },
    {
     "cell_type": "heading",
     "level": 2,
     "metadata": {},
     "source": [
      "Comparing pre and post"
     ]
    },
    {
     "cell_type": "code",
     "collapsed": false,
     "input": [
      "!wc /Volumes/web/cnidarian/BiGo_larvae_merge/CgT3D5_R1a.fastq"
     ],
     "language": "python",
     "metadata": {},
     "outputs": [
      {
       "output_type": "stream",
       "stream": "stdout",
       "text": [
        " 29402580 29402580 1488447849 /Volumes/web/cnidarian/BiGo_larvae_merge/CgT3D5_R1a.fastq\r\n"
       ]
      }
     ],
     "prompt_number": 9
    },
    {
     "cell_type": "code",
     "collapsed": false,
     "input": [
      "!wc /Volumes/web/cnidarian/test_adp"
     ],
     "language": "python",
     "metadata": {},
     "outputs": [
      {
       "output_type": "stream",
       "stream": "stdout",
       "text": [
        " 28807196 28807196 1439780747 /Volumes/web/cnidarian/test_adp\r\n"
       ]
      }
     ],
     "prompt_number": 10
    },
    {
     "cell_type": "markdown",
     "metadata": {},
     "source": [
      "post\n",
      "<img src=\"http://eagle.fish.washington.edu/cnidarian/skitch/FastQC_18EC6333.png\" alt=\"FastQC_18EC6333.png\"/>"
     ]
    },
    {
     "cell_type": "markdown",
     "metadata": {},
     "source": [
      "pre  <img src=\"http://eagle.fish.washington.edu/cnidarian/skitch/FastQC_18EC6493.png\" alt=\"FastQC_18EC6493.png\"/>"
     ]
    },
    {
     "cell_type": "heading",
     "level": 2,
     "metadata": {},
     "source": [
      "Trimming all files"
     ]
    },
    {
     "cell_type": "code",
     "collapsed": false,
     "input": [
      "!ls /Volumes/web/Mollusk/bs_larvae_exp/Concatenated_Files_R1/"
     ],
     "language": "python",
     "metadata": {},
     "outputs": [
      {
       "output_type": "stream",
       "stream": "stdout",
       "text": [
        "F_R1.fastq    M3_R1.fastq   T1D5_R1.fastq T3D5_R1.fastq\r\n",
        "M1_R1.fastq   T1D3_R1.fastq T3D3_R1.fastq\r\n"
       ]
      }
     ],
     "prompt_number": 11
    },
    {
     "cell_type": "code",
     "collapsed": false,
     "input": [
      "!ls /Volumes/web/Mollusk/bs_larvae_exp/Concatenated_Files_R2"
     ],
     "language": "python",
     "metadata": {},
     "outputs": [
      {
       "output_type": "stream",
       "stream": "stdout",
       "text": [
        "F_R2.fastq    M3_R2.fastq   T1D5_R2.fastq T3D5_R2.fastq\r\n",
        "M1_R2.fastq   T1D3_R2.fastq T3D3_R2.fastq\r\n"
       ]
      }
     ],
     "prompt_number": 12
    },
    {
     "cell_type": "code",
     "collapsed": false,
     "input": [
      "#variables\n",
      "lib=\"M1\"\n"
     ],
     "language": "python",
     "metadata": {},
     "outputs": [],
     "prompt_number": 13
    },
    {
     "cell_type": "code",
     "collapsed": false,
     "input": [
      "!/Volumes/Bay3/Software/ea-utils.1.1.2-537/fastq-mcf \\\n",
      "-o /Volumes/web/cnidarian/mcf_{lib}_R1.fastq \\\n",
      "-o /Volumes/web/cnidarian/mcf_{lib}_R2.fastq \\\n",
      "/Volumes/web/Mollusk/bs_larvae_exp/Adapters_LarvaeSequencingFiles.txt \\\n",
      "/Volumes/web/Mollusk/bs_larvae_exp/Concatenated_Files_R1/{lib}_R1.fastq \\\n",
      "/Volumes/web/Mollusk/bs_larvae_exp/Concatenated_Files_R2/{lib}_R2.fastq"
     ],
     "language": "python",
     "metadata": {},
     "outputs": [
      {
       "output_type": "stream",
       "stream": "stdout",
       "text": [
        "Scale used: 2.2\r\n"
       ]
      },
      {
       "output_type": "stream",
       "stream": "stdout",
       "text": [
        "Phred: 33\r\n"
       ]
      },
      {
       "output_type": "stream",
       "stream": "stdout",
       "text": [
        "Within-read Skew: Position 14 from the start of reads is skewed!\r\n",
        "Within-read Skew: Position 16 from the start of reads is skewed!\r\n",
        "Within-read Skew: Position 17 from the start of reads is skewed!\r\n",
        "Within-read Skew: Position 18 from the start of reads is skewed!\r\n",
        "Within-read Skew: Position 19 from the start of reads is skewed!\r\n",
        "Within-read Skew: Position 20 from the start of reads is skewed!\r\n",
        "Within-read Skew: Position 21 from the start of reads is skewed!\r\n",
        "Within-read Skew: Position 22 from the start of reads is skewed!\r\n",
        "Within-read Skew: Position 23 from the start of reads is skewed!\r\n",
        "Within-read Skew: Position 24 from the start of reads is skewed!\r\n",
        "Within-read Skew: Position 25 from the start of reads is skewed!\r\n",
        "Within-read Skew: Position 26 from the start of reads is skewed!\r\n",
        "Within-read Skew: Position 27 from the start of reads is skewed!\r\n",
        "Within-read Skew: Position 28 from the start of reads is skewed!\r\n",
        "Within-read Skew: Position 29 from the start of reads is skewed!\r\n",
        "Within-read Skew: Position 30 from the start of reads is skewed!\r\n",
        "Within-read Skew: Position 31 from the start of reads is skewed!\r\n",
        "Within-read Skew: Position 32 from the start of reads is skewed!\r\n",
        "Within-read Skew: Position 33 from the start of reads is skewed!\r\n",
        "Within-read Skew: Position 34 from the start of reads is skewed!\r\n",
        "Within-read Skew: Position 35 from the start of reads is skewed!\r\n",
        "Within-read Skew: Position 36 from the start of reads is skewed!\r\n",
        "Within-read Skew: Position 37 from the start of reads is skewed!\r\n",
        "Within-read Skew: Position 17 from the end of reads is skewed!\r\n",
        "Within-read Skew: Position 18 from the end of reads is skewed!\r\n",
        "Within-read Skew: Position 20 from the end of reads is skewed!\r\n",
        "Within-read Skew: Position 21 from the end of reads is skewed!\r\n",
        "Within-read Skew: Position 23 from the end of reads is skewed!\r\n",
        "Within-read Skew: Position 24 from the end of reads is skewed!\r\n",
        "Within-read Skew: Position 27 from the end of reads is skewed!\r\n",
        "Within-read Skew: Position 28 from the end of reads is skewed!\r\n",
        "Within-read Skew: Position 29 from the end of reads is skewed!\r\n",
        "Within-read Skew: Position 30 from the end of reads is skewed!\r\n",
        "Within-read Skew: Position 31 from the end of reads is skewed!\r\n",
        "Within-read Skew: Position 32 from the end of reads is skewed!\r\n",
        "Within-read Skew: Position 33 from the end of reads is skewed!\r\n",
        "Within-read Skew: Position 34 from the end of reads is skewed!\r\n",
        "Within-read Skew: Position 35 from the end of reads is skewed!\r\n",
        "Within-read Skew: Position 36 from the end of reads is skewed!\r\n",
        "Within-read Skew: Position 37 from the end of reads is skewed!\r\n",
        "Warning: Too much skewing found (76), disabling skew clipping\r\n",
        "Threshold used: 751 out of 300000\r\n",
        "Adapter TruSeq Adapter, Index 3 (100% over 50bp)  (GATCGGAAGAGCACACGTCTGAACTCCAGTCACTTAGGCATCTCGTATGC): counted 5154 at the 'start' of '/Volumes/web/Mollusk/bs_larvae_exp/Concatenated_Files_R1/M1_R1.fastq', clip set to 5\r\n",
        "Adapter No Hit (AGAGAGAGAGAGAGAGAGAGAGAGAGAGAGAGAGAGAGAGAGAGAGAGAG): counted 1699 at the 'end' of '/Volumes/web/Mollusk/bs_larvae_exp/Concatenated_Files_R1/M1_R1.fastq', clip set to 6\r\n",
        "Adapter TruSeq Adapter, Index 3 (100% over 50bp)  (ATCGGAAGAGCACACGTCTGAACTCCAGTCACTTAGGCATCTCGTATGCC): counted 6822 at the 'end' of '/Volumes/web/Mollusk/bs_larvae_exp/Concatenated_Files_R1/M1_R1.fastq', clip set to 4\r\n",
        "Adapter No Hit  (GAGAGAGAGAGAGAGAGAGAGAGAGAGAGAGAGAGAGAGAGAGAGAGAGA): counted 1672 at the 'end' of '/Volumes/web/Mollusk/bs_larvae_exp/Concatenated_Files_R1/M1_R1.fastq', clip set to 6\r\n",
        "Adapter Illumina Single End PCR Primer 1 (100% over 50bp)  (GATCGGAAGAGCGTCGTGTAGGGAAAGAGTGTAGATCTCGGTGGTCGCCG): counted 2136 at the 'end' of '/Volumes/web/Mollusk/bs_larvae_exp/Concatenated_Files_R2/M1_R2.fastq', clip set to 6\r\n",
        "Adapter No Hit  (TCTCTCTCTCTCTCTCTCTCTCTCTCTCTCTCTCTCTCTCTCTCTCTCTC): counted 2720 at the 'end' of '/Volumes/web/Mollusk/bs_larvae_exp/Concatenated_Files_R2/M1_R2.fastq', clip set to 5\r\n",
        "Adapter Illumina Single End PCR Primer 1 (100% over 50bp)  (ATCGGAAGAGCGTCGTGTAGGGAAAGAGTGTAGATCTCGGTGGTCGCCGT): counted 1933 at the 'end' of '/Volumes/web/Mollusk/bs_larvae_exp/Concatenated_Files_R2/M1_R2.fastq', clip set to 6\r\n",
        "Adapter Illumina Single End PCR Primer 1 (98% over 50bp) (ATCGGAAGAGCGTCGTGTAGGGAAAGAGGGTAGATCTCGGTGGTCGCCGT): counted 1933 at the 'end' of '/Volumes/web/Mollusk/bs_larvae_exp/Concatenated_Files_R2/M1_R2.fastq', clip set to 6\r\n",
        "Adapter TruSeq Adapter, Index 6 (100% over 50bp) (GATCGGAAGAGCACACGTCTGAACTCCAGTCACGCCAATATCTCGTATGC): counted 5154 at the 'start' of '/Volumes/web/Mollusk/bs_larvae_exp/Concatenated_Files_R1/M1_R1.fastq', clip set to 5\r\n",
        "Adapter TruSeq Adapter, Index 6 (100% over 50bp) (ATCGGAAGAGCACACGTCTGAACTCCAGTCACGCCAATATCTCGTATGCC): counted 6822 at the 'end' of '/Volumes/web/Mollusk/bs_larvae_exp/Concatenated_Files_R1/M1_R1.fastq', clip set to 4\r\n",
        "Adapter Illumina Single End PCR Primer 1 (100% over 50bp) (GATCGGAAGAGCGTCGTGTAGGGAAAGAGTGTAGATCTCGGTGGTCGCCG): counted 2136 at the 'end' of '/Volumes/web/Mollusk/bs_larvae_exp/Concatenated_Files_R2/M1_R2.fastq', clip set to 6\r\n",
        "Adapter Illumina Single End PCR Primer 1 (100% over 50bp) (ATCGGAAGAGCGTCGTGTAGGGAAAGAGTGTAGATCTCGGTGGTCGCCGT): counted 1933 at the 'end' of '/Volumes/web/Mollusk/bs_larvae_exp/Concatenated_Files_R2/M1_R2.fastq', clip set to 6\r\n",
        "Adapter Illumina Single End PCR Primer 1 (98% over 50bp) (ATCGGAAGAGCGTCGTGTAGGGAAAGAGGGTAGATCTCGGTGGTCGCCGT): counted 1933 at the 'end' of '/Volumes/web/Mollusk/bs_larvae_exp/Concatenated_Files_R2/M1_R2.fastq', clip set to 6\r\n",
        "Adapter TruSeq Adapter, Index 4 (100% over 50bp) (GATCGGAAGAGCACACGTCTGAACTCCAGTCACTGACCAATCTCGTATGC): counted 5154 at the 'start' of '/Volumes/web/Mollusk/bs_larvae_exp/Concatenated_Files_R1/M1_R1.fastq', clip set to 5\r\n",
        "Adapter TruSeq Adapter, Index 4 (100% over 50bp) (ATCGGAAGAGCACACGTCTGAACTCCAGTCACTGACCAATCTCGTATGCC): counted 6822 at the 'end' of '/Volumes/web/Mollusk/bs_larvae_exp/Concatenated_Files_R1/M1_R1.fastq', clip set to 4\r\n",
        "Adapter Illumina Single End PCR Primer 1 (100% over 50bp) (GATCGGAAGAGCGTCGTGTAGGGAAAGAGTGTAGATCTCGGTGGTCGCCG): counted 2136 at the 'end' of '/Volumes/web/Mollusk/bs_larvae_exp/Concatenated_Files_R2/M1_R2.fastq', clip set to 6\r\n",
        "Adapter Illumina Single End PCR Primer 1 (100% over 50bp) (ATCGGAAGAGCGTCGTGTAGGGAAAGAGTGTAGATCTCGGTGGTCGCCGT): counted 1933 at the 'end' of '/Volumes/web/Mollusk/bs_larvae_exp/Concatenated_Files_R2/M1_R2.fastq', clip set to 6\r\n",
        "Adapter TruSeq Adapter, Index 5 (100% over 50bp) (GATCGGAAGAGCACACGTCTGAACTCCAGTCACACAGTGATCTCGTATGC): counted 5154 at the 'start' of '/Volumes/web/Mollusk/bs_larvae_exp/Concatenated_Files_R1/M1_R1.fastq', clip set to 5\r\n",
        "Adapter TruSeq Adapter, Index 5 (100% over 50bp) (ATCGGAAGAGCACACGTCTGAACTCCAGTCACACAGTGATCTCGTATGCC): counted 6822 at the 'end' of '/Volumes/web/Mollusk/bs_larvae_exp/Concatenated_Files_R1/M1_R1.fastq', clip set to 4\r\n",
        "Adapter Illumina Single End PCR Primer 1 (100% over 50bp) (GATCGGAAGAGCGTCGTGTAGGGAAAGAGTGTAGATCTCGGTGGTCGCCG): counted 2136 at the 'end' of '/Volumes/web/Mollusk/bs_larvae_exp/Concatenated_Files_R2/M1_R2.fastq', clip set to 6\r\n",
        "Adapter Illumina Single End PCR Primer 1 (100% over 50bp) (ATCGGAAGAGCGTCGTGTAGGGAAAGAGTGTAGATCTCGGTGGTCGCCGT): counted 1933 at the 'end' of '/Volumes/web/Mollusk/bs_larvae_exp/Concatenated_Files_R2/M1_R2.fastq', clip set to 6\r\n",
        "Adapter TruSeq Adapter, Index 7 (100% over 50bp) (GATCGGAAGAGCACACGTCTGAACTCCAGTCACCAGATCATCTCGTATGC): counted 5154 at the 'start' of '/Volumes/web/Mollusk/bs_larvae_exp/Concatenated_Files_R1/M1_R1.fastq', clip set to 5\r\n",
        "Adapter TruSeq Adapter, Index 7 (100% over 50bp) (ATCGGAAGAGCACACGTCTGAACTCCAGTCACCAGATCATCTCGTATGCC): counted 6822 at the 'end' of '/Volumes/web/Mollusk/bs_larvae_exp/Concatenated_Files_R1/M1_R1.fastq', clip set to 4\r\n",
        "Adapter Illumina Single End PCR Primer 1 (100% over 50bp) (GATCGGAAGAGCGTCGTGTAGGGAAAGAGTGTAGATCTCGGTGGTCGCCG): counted 2136 at the 'end' of '/Volumes/web/Mollusk/bs_larvae_exp/Concatenated_Files_R2/M1_R2.fastq', clip set to 6\r\n",
        "Adapter Illumina Single End PCR Primer 1 (100% over 50bp) (ATCGGAAGAGCGTCGTGTAGGGAAAGAGTGTAGATCTCGGTGGTCGCCGT): counted 1933 at the 'end' of '/Volumes/web/Mollusk/bs_larvae_exp/Concatenated_Files_R2/M1_R2.fastq', clip set to 6\r\n",
        "Adapter TruSeq Adapter, Index 8 (100% over 50bp) (GATCGGAAGAGCACACGTCTGAACTCCAGTCACACTTGAATCTCGTATGC): counted 5154 at the 'start' of '/Volumes/web/Mollusk/bs_larvae_exp/Concatenated_Files_R1/M1_R1.fastq', clip set to 5\r\n",
        "Adapter TruSeq Adapter, Index 8 (100% over 50bp) (ATCGGAAGAGCACACGTCTGAACTCCAGTCACACTTGAATCTCGTATGCC): counted 6822 at the 'end' of '/Volumes/web/Mollusk/bs_larvae_exp/Concatenated_Files_R1/M1_R1.fastq', clip set to 4\r\n",
        "Adapter Illumina Single End PCR Primer 1 (100% over 50bp) (GATCGGAAGAGCGTCGTGTAGGGAAAGAGTGTAGATCTCGGTGGTCGCCG): counted 2136 at the 'end' of '/Volumes/web/Mollusk/bs_larvae_exp/Concatenated_Files_R2/M1_R2.fastq', clip set to 6\r\n",
        "Adapter Illumina Single End PCR Primer 1 (100% over 50bp) (ATCGGAAGAGCGTCGTGTAGGGAAAGAGTGTAGATCTCGGTGGTCGCCGT): counted 1933 at the 'end' of '/Volumes/web/Mollusk/bs_larvae_exp/Concatenated_Files_R2/M1_R2.fastq', clip set to 6\r\n",
        "Adapter Illumina Single End PCR Primer 1 (98% over 50bp) (ATCGGAAGAGCGTCGTGTAGGGAAAGAGGGTAGATCTCGGTGGTCGCCGT): counted 1933 at the 'end' of '/Volumes/web/Mollusk/bs_larvae_exp/Concatenated_Files_R2/M1_R2.fastq', clip set to 6\r\n",
        "Adapter TruSeq Adapter, Index 9 (100% over 50bp) (GATCGGAAGAGCACACGTCTGAACTCCAGTCACGATCAGATCTCGTATGC): counted 5154 at the 'start' of '/Volumes/web/Mollusk/bs_larvae_exp/Concatenated_Files_R1/M1_R1.fastq', clip set to 5\r\n",
        "Adapter Illumina Single End PCR Primer 1 (100% over 50bp) (GATCGGAAGAGCGTCGTGTAGGGAAAGAGTGTAGATCTCGGTGGTCGCCG): counted 2136 at the 'end' of '/Volumes/web/Mollusk/bs_larvae_exp/Concatenated_Files_R2/M1_R2.fastq', clip set to 6\r\n",
        "Adapter No Hit (AGAGAGAGAGAGAGAGAGAGAGAGAGAGAGAGAGAGAGAGAGAGAGAGAG): counted 1699 at the 'end' of '/Volumes/web/Mollusk/bs_larvae_exp/Concatenated_Files_R1/M1_R1.fastq', clip set to 6\r\n",
        "Adapter No Hit  (GAGAGAGAGAGAGAGAGAGAGAGAGAGAGAGAGAGAGAGAGAGAGAGAGA): counted 1672 at the 'end' of '/Volumes/web/Mollusk/bs_larvae_exp/Concatenated_Files_R1/M1_R1.fastq', clip set to 6\r\n",
        "Adapter TruSeq Adapter, Index 3 (100% over 50bp) (ATCGGAAGAGCACACGTCTGAACTCCAGTCACTTAGGCATCTCGTATGCC): counted 6822 at the 'end' of '/Volumes/web/Mollusk/bs_larvae_exp/Concatenated_Files_R1/M1_R1.fastq', clip set to 4\r\n",
        "Adapter TruSeq Adapter, Index 3 (100% over 50bp) (GATCGGAAGAGCACACGTCTGAACTCCAGTCACTTAGGCATCTCGTATGC): counted 5154 at the 'start' of '/Volumes/web/Mollusk/bs_larvae_exp/Concatenated_Files_R1/M1_R1.fastq', clip set to 5\r\n",
        "Adapter No Hit (TCTCTCTCTCTCTCTCTCTCTCTCTCTCTCTCTCTCTCTCTCTCTCTCTC): counted 2720 at the 'end' of '/Volumes/web/Mollusk/bs_larvae_exp/Concatenated_Files_R2/M1_R2.fastq', clip set to 5\r\n",
        "Adapter TruSeq Adapter, Index 6 (100% over 50bp) (GATCGGAAGAGCACACGTCTGAACTCCAGTCACGCCAATATCTCGTATGC): counted 5154 at the 'start' of '/Volumes/web/Mollusk/bs_larvae_exp/Concatenated_Files_R1/M1_R1.fastq', clip set to 5\r\n",
        "Adapter TruSeq Adapter, Index 6 (100% over 50bp) (ATCGGAAGAGCACACGTCTGAACTCCAGTCACGCCAATATCTCGTATGCC): counted 6822 at the 'end' of '/Volumes/web/Mollusk/bs_larvae_exp/Concatenated_Files_R1/M1_R1.fastq', clip set to 4\r\n",
        "Adapter TruSeq Adapter, Index 4 (100% over 50bp) (GATCGGAAGAGCACACGTCTGAACTCCAGTCACTGACCAATCTCGTATGC): counted 5154 at the 'start' of '/Volumes/web/Mollusk/bs_larvae_exp/Concatenated_Files_R1/M1_R1.fastq', clip set to 5\r\n",
        "Adapter TruSeq Adapter, Index 5 (100% over 50bp) (GATCGGAAGAGCACACGTCTGAACTCCAGTCACACAGTGATCTCGTATGC): counted 5154 at the 'start' of '/Volumes/web/Mollusk/bs_larvae_exp/Concatenated_Files_R1/M1_R1.fastq', clip set to 5\r\n",
        "Adapter TruSeq Adapter, Index 5 (100% over 50bp) (ATCGGAAGAGCACACGTCTGAACTCCAGTCACACAGTGATCTCGTATGCC): counted 6822 at the 'end' of '/Volumes/web/Mollusk/bs_larvae_exp/Concatenated_Files_R1/M1_R1.fastq', clip set to 4\r\n",
        "Adapter TruSeq Adapter, Index 7 (100% over 50bp) (GATCGGAAGAGCACACGTCTGAACTCCAGTCACCAGATCATCTCGTATGC): counted 5154 at the 'start' of '/Volumes/web/Mollusk/bs_larvae_exp/Concatenated_Files_R1/M1_R1.fastq', clip set to 5\r\n",
        "Adapter TruSeq Adapter, Index 7 (100% over 50bp) (ATCGGAAGAGCACACGTCTGAACTCCAGTCACCAGATCATCTCGTATGCC): counted 6822 at the 'end' of '/Volumes/web/Mollusk/bs_larvae_exp/Concatenated_Files_R1/M1_R1.fastq', clip set to 4\r\n",
        "Adapter TruSeq Adapter, Index 8 (100% over 50bp) (GATCGGAAGAGCACACGTCTGAACTCCAGTCACACTTGAATCTCGTATGC): counted 5154 at the 'start' of '/Volumes/web/Mollusk/bs_larvae_exp/Concatenated_Files_R1/M1_R1.fastq', clip set to 5\r\n",
        "Adapter TruSeq Adapter, Index 8 (100% over 50bp) (ATCGGAAGAGCACACGTCTGAACTCCAGTCACACTTGAATCTCGTATGCC): counted 6822 at the 'end' of '/Volumes/web/Mollusk/bs_larvae_exp/Concatenated_Files_R1/M1_R1.fastq', clip set to 4\r\n",
        "Adapter TruSeq Adapter, Index 9 (100% over 50bp) (GATCGGAAGAGCACACGTCTGAACTCCAGTCACGATCAGATCTCGTATG): counted 5154 at the 'start' of '/Volumes/web/Mollusk/bs_larvae_exp/Concatenated_Files_R1/M1_R1.fastq', clip set to 5\r\n",
        "Files: 2\r\n"
       ]
      },
      {
       "output_type": "stream",
       "stream": "stdout",
       "text": [
        "Total reads: 8297202\r\n",
        "Too short after clip: 273559\r\n",
        "Clipped 'start' reads (/Volumes/web/Mollusk/bs_larvae_exp/Concatenated_Files_R1/M1_R1.fastq): Count 19291, Mean: 6.69, Sd: 8.01\r\n",
        "Clipped 'end' reads (/Volumes/web/Mollusk/bs_larvae_exp/Concatenated_Files_R1/M1_R1.fastq): Count 162366, Mean: 18.88, Sd: 14.83\r\n",
        "Trimmed 749148 reads (/Volumes/web/Mollusk/bs_larvae_exp/Concatenated_Files_R1/M1_R1.fastq) by an average of 11.48 bases on quality < 7\r\n",
        "Clipped 'end' reads (/Volumes/web/Mollusk/bs_larvae_exp/Concatenated_Files_R2/M1_R2.fastq): Count 158664, Mean: 17.93, Sd: 13.92\r\n",
        "Trimmed 4912567 reads (/Volumes/web/Mollusk/bs_larvae_exp/Concatenated_Files_R2/M1_R2.fastq) by an average of 10.92 bases on quality < 7\r\n"
       ]
      }
     ],
     "prompt_number": 15
    },
    {
     "cell_type": "code",
     "collapsed": false,
     "input": [
      "#variables\n",
      "lib=\"M3\""
     ],
     "language": "python",
     "metadata": {},
     "outputs": [],
     "prompt_number": 16
    },
    {
     "cell_type": "code",
     "collapsed": false,
     "input": [
      "!/Volumes/Bay3/Software/ea-utils.1.1.2-537/fastq-mcf \\\n",
      "-o /Volumes/web/cnidarian/mcf_{lib}_R1.fastq \\\n",
      "-o /Volumes/web/cnidarian/mcf_{lib}_R2.fastq \\\n",
      "/Volumes/web/Mollusk/bs_larvae_exp/Adapters_LarvaeSequencingFiles.txt \\\n",
      "/Volumes/web/Mollusk/bs_larvae_exp/Concatenated_Files_R1/{lib}_R1.fastq \\\n",
      "/Volumes/web/Mollusk/bs_larvae_exp/Concatenated_Files_R2/{lib}_R2.fastq"
     ],
     "language": "python",
     "metadata": {},
     "outputs": [
      {
       "output_type": "stream",
       "stream": "stdout",
       "text": [
        "Scale used: 2.2\r\n"
       ]
      },
      {
       "output_type": "stream",
       "stream": "stdout",
       "text": [
        "Phred: 33\r\n"
       ]
      },
      {
       "output_type": "stream",
       "stream": "stdout",
       "text": [
        "Warning: Too much skewing found (76), disabling skew clipping\r\n",
        "Threshold used: 751 out of 300000\r\n",
        "Adapter TruSeq Adapter, Index 3 (100% over 50bp)  (GATCGGAAGAGCACACGTCTGAACTCCAGTCACTTAGGCATCTCGTATGC): counted 3237 at the 'end' of '/Volumes/web/Mollusk/bs_larvae_exp/Concatenated_Files_R1/M3_R1.fastq', clip set to 5\r\n",
        "Adapter No Hit (AGAGAGAGAGAGAGAGAGAGAGAGAGAGAGAGAGAGAGAGAGAGAGAGAG): counted 1851 at the 'end' of '/Volumes/web/Mollusk/bs_larvae_exp/Concatenated_Files_R1/M3_R1.fastq', clip set to 6\r\n",
        "Adapter TruSeq Adapter, Index 3 (100% over 50bp)  (ATCGGAAGAGCACACGTCTGAACTCCAGTCACTTAGGCATCTCGTATGCC): counted 5462 at the 'end' of '/Volumes/web/Mollusk/bs_larvae_exp/Concatenated_Files_R1/M3_R1.fastq', clip set to 5\r\n",
        "Adapter No Hit  (GAGAGAGAGAGAGAGAGAGAGAGAGAGAGAGAGAGAGAGAGAGAGAGAGA): counted 1816 at the 'end' of '/Volumes/web/Mollusk/bs_larvae_exp/Concatenated_Files_R1/M3_R1.fastq', clip set to 6\r\n",
        "Adapter Illumina Single End PCR Primer 1 (100% over 50bp)  (GATCGGAAGAGCGTCGTGTAGGGAAAGAGTGTAGATCTCGGTGGTCGCCG): counted 3177 at the 'end' of '/Volumes/web/Mollusk/bs_larvae_exp/Concatenated_Files_R2/M3_R2.fastq', clip set to 5\r\n",
        "Adapter No Hit  (TCTCTCTCTCTCTCTCTCTCTCTCTCTCTCTCTCTCTCTCTCTCTCTCTC): counted 2878 at the 'end' of '/Volumes/web/Mollusk/bs_larvae_exp/Concatenated_Files_R2/M3_R2.fastq', clip set to 5\r\n",
        "Adapter Illumina Single End PCR Primer 1 (100% over 50bp)  (ATCGGAAGAGCGTCGTGTAGGGAAAGAGTGTAGATCTCGGTGGTCGCCGT): counted 2880 at the 'end' of '/Volumes/web/Mollusk/bs_larvae_exp/Concatenated_Files_R2/M3_R2.fastq', clip set to 5\r\n",
        "Adapter Illumina Single End PCR Primer 1 (98% over 50bp) (ATCGGAAGAGCGTCGTGTAGGGAAAGAGGGTAGATCTCGGTGGTCGCCGT): counted 2880 at the 'end' of '/Volumes/web/Mollusk/bs_larvae_exp/Concatenated_Files_R2/M3_R2.fastq', clip set to 5\r\n",
        "Adapter TruSeq Adapter, Index 6 (100% over 50bp) (GATCGGAAGAGCACACGTCTGAACTCCAGTCACGCCAATATCTCGTATGC): counted 3237 at the 'end' of '/Volumes/web/Mollusk/bs_larvae_exp/Concatenated_Files_R1/M3_R1.fastq', clip set to 5\r\n",
        "Adapter TruSeq Adapter, Index 6 (100% over 50bp) (ATCGGAAGAGCACACGTCTGAACTCCAGTCACGCCAATATCTCGTATGCC): counted 5462 at the 'end' of '/Volumes/web/Mollusk/bs_larvae_exp/Concatenated_Files_R1/M3_R1.fastq', clip set to 5\r\n",
        "Adapter Illumina Single End PCR Primer 1 (100% over 50bp) (GATCGGAAGAGCGTCGTGTAGGGAAAGAGTGTAGATCTCGGTGGTCGCCG): counted 3177 at the 'end' of '/Volumes/web/Mollusk/bs_larvae_exp/Concatenated_Files_R2/M3_R2.fastq', clip set to 5\r\n",
        "Adapter Illumina Single End PCR Primer 1 (100% over 50bp) (ATCGGAAGAGCGTCGTGTAGGGAAAGAGTGTAGATCTCGGTGGTCGCCGT): counted 2880 at the 'end' of '/Volumes/web/Mollusk/bs_larvae_exp/Concatenated_Files_R2/M3_R2.fastq', clip set to 5\r\n",
        "Adapter Illumina Single End PCR Primer 1 (98% over 50bp) (ATCGGAAGAGCGTCGTGTAGGGAAAGAGGGTAGATCTCGGTGGTCGCCGT): counted 2880 at the 'end' of '/Volumes/web/Mollusk/bs_larvae_exp/Concatenated_Files_R2/M3_R2.fastq', clip set to 5\r\n",
        "Adapter TruSeq Adapter, Index 4 (100% over 50bp) (GATCGGAAGAGCACACGTCTGAACTCCAGTCACTGACCAATCTCGTATGC): counted 3237 at the 'end' of '/Volumes/web/Mollusk/bs_larvae_exp/Concatenated_Files_R1/M3_R1.fastq', clip set to 5\r\n",
        "Adapter TruSeq Adapter, Index 4 (100% over 50bp) (ATCGGAAGAGCACACGTCTGAACTCCAGTCACTGACCAATCTCGTATGCC): counted 5462 at the 'end' of '/Volumes/web/Mollusk/bs_larvae_exp/Concatenated_Files_R1/M3_R1.fastq', clip set to 5\r\n",
        "Adapter Illumina Single End PCR Primer 1 (100% over 50bp) (GATCGGAAGAGCGTCGTGTAGGGAAAGAGTGTAGATCTCGGTGGTCGCCG): counted 3177 at the 'end' of '/Volumes/web/Mollusk/bs_larvae_exp/Concatenated_Files_R2/M3_R2.fastq', clip set to 5\r\n",
        "Adapter Illumina Single End PCR Primer 1 (100% over 50bp) (ATCGGAAGAGCGTCGTGTAGGGAAAGAGTGTAGATCTCGGTGGTCGCCGT): counted 2880 at the 'end' of '/Volumes/web/Mollusk/bs_larvae_exp/Concatenated_Files_R2/M3_R2.fastq', clip set to 5\r\n",
        "Adapter TruSeq Adapter, Index 5 (100% over 50bp) (GATCGGAAGAGCACACGTCTGAACTCCAGTCACACAGTGATCTCGTATGC): counted 3237 at the 'end' of '/Volumes/web/Mollusk/bs_larvae_exp/Concatenated_Files_R1/M3_R1.fastq', clip set to 5\r\n",
        "Adapter TruSeq Adapter, Index 5 (100% over 50bp) (ATCGGAAGAGCACACGTCTGAACTCCAGTCACACAGTGATCTCGTATGCC): counted 5462 at the 'end' of '/Volumes/web/Mollusk/bs_larvae_exp/Concatenated_Files_R1/M3_R1.fastq', clip set to 5\r\n",
        "Adapter Illumina Single End PCR Primer 1 (100% over 50bp) (GATCGGAAGAGCGTCGTGTAGGGAAAGAGTGTAGATCTCGGTGGTCGCCG): counted 3177 at the 'end' of '/Volumes/web/Mollusk/bs_larvae_exp/Concatenated_Files_R2/M3_R2.fastq', clip set to 5\r\n",
        "Adapter Illumina Single End PCR Primer 1 (100% over 50bp) (ATCGGAAGAGCGTCGTGTAGGGAAAGAGTGTAGATCTCGGTGGTCGCCGT): counted 2880 at the 'end' of '/Volumes/web/Mollusk/bs_larvae_exp/Concatenated_Files_R2/M3_R2.fastq', clip set to 5\r\n",
        "Adapter TruSeq Adapter, Index 7 (100% over 50bp) (GATCGGAAGAGCACACGTCTGAACTCCAGTCACCAGATCATCTCGTATGC): counted 3237 at the 'end' of '/Volumes/web/Mollusk/bs_larvae_exp/Concatenated_Files_R1/M3_R1.fastq', clip set to 5\r\n",
        "Adapter TruSeq Adapter, Index 7 (100% over 50bp) (ATCGGAAGAGCACACGTCTGAACTCCAGTCACCAGATCATCTCGTATGCC): counted 5462 at the 'end' of '/Volumes/web/Mollusk/bs_larvae_exp/Concatenated_Files_R1/M3_R1.fastq', clip set to 5\r\n",
        "Adapter Illumina Single End PCR Primer 1 (100% over 50bp) (GATCGGAAGAGCGTCGTGTAGGGAAAGAGTGTAGATCTCGGTGGTCGCCG): counted 3177 at the 'end' of '/Volumes/web/Mollusk/bs_larvae_exp/Concatenated_Files_R2/M3_R2.fastq', clip set to 5\r\n",
        "Adapter Illumina Single End PCR Primer 1 (100% over 50bp) (ATCGGAAGAGCGTCGTGTAGGGAAAGAGTGTAGATCTCGGTGGTCGCCGT): counted 2880 at the 'end' of '/Volumes/web/Mollusk/bs_larvae_exp/Concatenated_Files_R2/M3_R2.fastq', clip set to 5\r\n",
        "Adapter TruSeq Adapter, Index 8 (100% over 50bp) (GATCGGAAGAGCACACGTCTGAACTCCAGTCACACTTGAATCTCGTATGC): counted 3237 at the 'end' of '/Volumes/web/Mollusk/bs_larvae_exp/Concatenated_Files_R1/M3_R1.fastq', clip set to 5\r\n",
        "Adapter TruSeq Adapter, Index 8 (100% over 50bp) (ATCGGAAGAGCACACGTCTGAACTCCAGTCACACTTGAATCTCGTATGCC): counted 5462 at the 'end' of '/Volumes/web/Mollusk/bs_larvae_exp/Concatenated_Files_R1/M3_R1.fastq', clip set to 5\r\n",
        "Adapter Illumina Single End PCR Primer 1 (100% over 50bp) (GATCGGAAGAGCGTCGTGTAGGGAAAGAGTGTAGATCTCGGTGGTCGCCG): counted 3177 at the 'end' of '/Volumes/web/Mollusk/bs_larvae_exp/Concatenated_Files_R2/M3_R2.fastq', clip set to 5\r\n",
        "Adapter Illumina Single End PCR Primer 1 (100% over 50bp) (ATCGGAAGAGCGTCGTGTAGGGAAAGAGTGTAGATCTCGGTGGTCGCCGT): counted 2880 at the 'end' of '/Volumes/web/Mollusk/bs_larvae_exp/Concatenated_Files_R2/M3_R2.fastq', clip set to 5\r\n",
        "Adapter Illumina Single End PCR Primer 1 (98% over 50bp) (ATCGGAAGAGCGTCGTGTAGGGAAAGAGGGTAGATCTCGGTGGTCGCCGT): counted 2880 at the 'end' of '/Volumes/web/Mollusk/bs_larvae_exp/Concatenated_Files_R2/M3_R2.fastq', clip set to 5\r\n",
        "Adapter TruSeq Adapter, Index 9 (100% over 50bp) (GATCGGAAGAGCACACGTCTGAACTCCAGTCACGATCAGATCTCGTATGC): counted 3237 at the 'end' of '/Volumes/web/Mollusk/bs_larvae_exp/Concatenated_Files_R1/M3_R1.fastq', clip set to 5\r\n",
        "Adapter Illumina Single End PCR Primer 1 (100% over 50bp) (GATCGGAAGAGCGTCGTGTAGGGAAAGAGTGTAGATCTCGGTGGTCGCCG): counted 3177 at the 'end' of '/Volumes/web/Mollusk/bs_larvae_exp/Concatenated_Files_R2/M3_R2.fastq', clip set to 5\r\n",
        "Adapter No Hit (AGAGAGAGAGAGAGAGAGAGAGAGAGAGAGAGAGAGAGAGAGAGAGAGAG): counted 1851 at the 'end' of '/Volumes/web/Mollusk/bs_larvae_exp/Concatenated_Files_R1/M3_R1.fastq', clip set to 6\r\n",
        "Adapter No Hit  (GAGAGAGAGAGAGAGAGAGAGAGAGAGAGAGAGAGAGAGAGAGAGAGAGA): counted 1816 at the 'end' of '/Volumes/web/Mollusk/bs_larvae_exp/Concatenated_Files_R1/M3_R1.fastq', clip set to 6\r\n",
        "Adapter TruSeq Adapter, Index 3 (100% over 50bp) (ATCGGAAGAGCACACGTCTGAACTCCAGTCACTTAGGCATCTCGTATGCC): counted 5462 at the 'end' of '/Volumes/web/Mollusk/bs_larvae_exp/Concatenated_Files_R1/M3_R1.fastq', clip set to 5\r\n",
        "Adapter TruSeq Adapter, Index 3 (100% over 50bp) (GATCGGAAGAGCACACGTCTGAACTCCAGTCACTTAGGCATCTCGTATGC): counted 3237 at the 'end' of '/Volumes/web/Mollusk/bs_larvae_exp/Concatenated_Files_R1/M3_R1.fastq', clip set to 5\r\n",
        "Adapter No Hit (TCTCTCTCTCTCTCTCTCTCTCTCTCTCTCTCTCTCTCTCTCTCTCTCTC): counted 2878 at the 'end' of '/Volumes/web/Mollusk/bs_larvae_exp/Concatenated_Files_R2/M3_R2.fastq', clip set to 5\r\n",
        "Adapter TruSeq Adapter, Index 6 (100% over 50bp) (GATCGGAAGAGCACACGTCTGAACTCCAGTCACGCCAATATCTCGTATGC): counted 3237 at the 'end' of '/Volumes/web/Mollusk/bs_larvae_exp/Concatenated_Files_R1/M3_R1.fastq', clip set to 5\r\n",
        "Adapter TruSeq Adapter, Index 6 (100% over 50bp) (ATCGGAAGAGCACACGTCTGAACTCCAGTCACGCCAATATCTCGTATGCC): counted 5462 at the 'end' of '/Volumes/web/Mollusk/bs_larvae_exp/Concatenated_Files_R1/M3_R1.fastq', clip set to 5\r\n",
        "Adapter TruSeq Adapter, Index 4 (100% over 50bp) (GATCGGAAGAGCACACGTCTGAACTCCAGTCACTGACCAATCTCGTATGC): counted 3237 at the 'end' of '/Volumes/web/Mollusk/bs_larvae_exp/Concatenated_Files_R1/M3_R1.fastq', clip set to 5\r\n",
        "Adapter TruSeq Adapter, Index 5 (100% over 50bp) (GATCGGAAGAGCACACGTCTGAACTCCAGTCACACAGTGATCTCGTATGC): counted 3237 at the 'end' of '/Volumes/web/Mollusk/bs_larvae_exp/Concatenated_Files_R1/M3_R1.fastq', clip set to 5\r\n",
        "Adapter TruSeq Adapter, Index 5 (100% over 50bp) (ATCGGAAGAGCACACGTCTGAACTCCAGTCACACAGTGATCTCGTATGCC): counted 5462 at the 'end' of '/Volumes/web/Mollusk/bs_larvae_exp/Concatenated_Files_R1/M3_R1.fastq', clip set to 5\r\n",
        "Adapter TruSeq Adapter, Index 7 (100% over 50bp) (GATCGGAAGAGCACACGTCTGAACTCCAGTCACCAGATCATCTCGTATGC): counted 3237 at the 'end' of '/Volumes/web/Mollusk/bs_larvae_exp/Concatenated_Files_R1/M3_R1.fastq', clip set to 5\r\n",
        "Adapter TruSeq Adapter, Index 7 (100% over 50bp) (ATCGGAAGAGCACACGTCTGAACTCCAGTCACCAGATCATCTCGTATGCC): counted 5462 at the 'end' of '/Volumes/web/Mollusk/bs_larvae_exp/Concatenated_Files_R1/M3_R1.fastq', clip set to 5\r\n",
        "Adapter TruSeq Adapter, Index 8 (100% over 50bp) (GATCGGAAGAGCACACGTCTGAACTCCAGTCACACTTGAATCTCGTATGC): counted 3237 at the 'end' of '/Volumes/web/Mollusk/bs_larvae_exp/Concatenated_Files_R1/M3_R1.fastq', clip set to 5\r\n",
        "Adapter TruSeq Adapter, Index 8 (100% over 50bp) (ATCGGAAGAGCACACGTCTGAACTCCAGTCACACTTGAATCTCGTATGCC): counted 5462 at the 'end' of '/Volumes/web/Mollusk/bs_larvae_exp/Concatenated_Files_R1/M3_R1.fastq', clip set to 5\r\n",
        "Adapter TruSeq Adapter, Index 9 (100% over 50bp) (GATCGGAAGAGCACACGTCTGAACTCCAGTCACGATCAGATCTCGTATG): counted 3237 at the 'end' of '/Volumes/web/Mollusk/bs_larvae_exp/Concatenated_Files_R1/M3_R1.fastq', clip set to 5\r\n"
       ]
      },
      {
       "output_type": "stream",
       "stream": "stdout",
       "text": [
        "Files: 2\r\n"
       ]
      },
      {
       "output_type": "stream",
       "stream": "stdout",
       "text": [
        "Total reads: 8078115\r\n",
        "Too short after clip: 210991\r\n",
        "Clipped 'end' reads (/Volumes/web/Mollusk/bs_larvae_exp/Concatenated_Files_R1/M3_R1.fastq): Count 202159, Mean: 18.74, Sd: 14.05\r\n",
        "Trimmed 680382 reads (/Volumes/web/Mollusk/bs_larvae_exp/Concatenated_Files_R1/M3_R1.fastq) by an average of 11.74 bases on quality < 7\r\n",
        "Clipped 'end' reads (/Volumes/web/Mollusk/bs_larvae_exp/Concatenated_Files_R2/M3_R2.fastq): Count 205913, Mean: 16.97, Sd: 13.53\r\n",
        "Trimmed 4893990 reads (/Volumes/web/Mollusk/bs_larvae_exp/Concatenated_Files_R2/M3_R2.fastq) by an average of 10.93 bases on quality < 7\r\n"
       ]
      }
     ],
     "prompt_number": 17
    },
    {
     "cell_type": "code",
     "collapsed": false,
     "input": [
      "#variables\n",
      "lib=\"T1D3\""
     ],
     "language": "python",
     "metadata": {},
     "outputs": [],
     "prompt_number": 18
    },
    {
     "cell_type": "code",
     "collapsed": false,
     "input": [
      "!/Volumes/Bay3/Software/ea-utils.1.1.2-537/fastq-mcf \\\n",
      "-o /Volumes/web/cnidarian/mcf_{lib}_R1.fastq \\\n",
      "-o /Volumes/web/cnidarian/mcf_{lib}_R2.fastq \\\n",
      "/Volumes/web/Mollusk/bs_larvae_exp/Adapters_LarvaeSequencingFiles.txt \\\n",
      "/Volumes/web/Mollusk/bs_larvae_exp/Concatenated_Files_R1/{lib}_R1.fastq \\\n",
      "/Volumes/web/Mollusk/bs_larvae_exp/Concatenated_Files_R2/{lib}_R2.fastq"
     ],
     "language": "python",
     "metadata": {},
     "outputs": [
      {
       "output_type": "stream",
       "stream": "stdout",
       "text": [
        "Scale used: 2.2\r\n"
       ]
      },
      {
       "output_type": "stream",
       "stream": "stdout",
       "text": [
        "Phred: 33\r\n"
       ]
      },
      {
       "output_type": "stream",
       "stream": "stdout",
       "text": [
        "Within-read Skew: Position 4 from the start of reads is skewed!\r\n",
        "Within-read Skew: Position 5 from the start of reads is skewed!\r\n",
        "Within-read Skew: Position 6 from the start of reads is skewed!\r\n",
        "Within-read Skew: Position 7 from the start of reads is skewed!\r\n",
        "Within-read Skew: Position 8 from the start of reads is skewed!\r\n",
        "Within-read Skew: Position 9 from the start of reads is skewed!\r\n",
        "Within-read Skew: Position 10 from the start of reads is skewed!\r\n",
        "Within-read Skew: Position 12 from the start of reads is skewed!\r\n",
        "Within-read Skew: Position 14 from the start of reads is skewed!\r\n",
        "Within-read Skew: Position 16 from the start of reads is skewed!\r\n",
        "Within-read Skew: Position 17 from the start of reads is skewed!\r\n",
        "Within-read Skew: Position 19 from the start of reads is skewed!\r\n",
        "Within-read Skew: Position 20 from the start of reads is skewed!\r\n",
        "Within-read Skew: Position 21 from the start of reads is skewed!\r\n",
        "Within-read Skew: Position 22 from the start of reads is skewed!\r\n",
        "Within-read Skew: Position 24 from the start of reads is skewed!\r\n",
        "Within-read Skew: Position 27 from the start of reads is skewed!\r\n",
        "Within-read Skew: Position 28 from the start of reads is skewed!\r\n",
        "Within-read Skew: Position 29 from the start of reads is skewed!\r\n",
        "Within-read Skew: Position 31 from the start of reads is skewed!\r\n",
        "Within-read Skew: Position 33 from the start of reads is skewed!\r\n",
        "Within-read Skew: Position 34 from the start of reads is skewed!\r\n",
        "Within-read Skew: Position 35 from the start of reads is skewed!\r\n",
        "Within-read Skew: Position 17 from the end of reads is skewed!\r\n",
        "Within-read Skew: Position 18 from the end of reads is skewed!\r\n",
        "Within-read Skew: Position 20 from the end of reads is skewed!\r\n",
        "Within-read Skew: Position 21 from the end of reads is skewed!\r\n",
        "Within-read Skew: Position 23 from the end of reads is skewed!\r\n",
        "Within-read Skew: Position 24 from the end of reads is skewed!\r\n",
        "Within-read Skew: Position 27 from the end of reads is skewed!\r\n",
        "Within-read Skew: Position 28 from the end of reads is skewed!\r\n",
        "Within-read Skew: Position 29 from the end of reads is skewed!\r\n",
        "Within-read Skew: Position 30 from the end of reads is skewed!\r\n",
        "Within-read Skew: Position 31 from the end of reads is skewed!\r\n",
        "Within-read Skew: Position 33 from the end of reads is skewed!\r\n",
        "Within-read Skew: Position 35 from the end of reads is skewed!\r\n",
        "Within-read Skew: Position 36 from the end of reads is skewed!\r\n",
        "Within-read Skew: Position 37 from the end of reads is skewed!\r\n",
        "Within-read Skew: Position 1 from the end of reads is skewed!\r\n",
        "Within-read Skew: Position 2 from the end of reads is skewed!\r\n",
        "Within-read Skew: Position 3 from the end of reads is skewed!\r\n",
        "Within-read Skew: Position 4 from the end of reads is skewed!\r\n",
        "Within-read Skew: Position 5 from the end of reads is skewed!\r\n",
        "Within-read Skew: Position 6 from the end of reads is skewed!\r\n",
        "Within-read Skew: Position 7 from the end of reads is skewed!\r\n",
        "Within-read Skew: Position 8 from the end of reads is skewed!\r\n",
        "Within-read Skew: Position 9 from the end of reads is skewed!\r\n",
        "Within-read Skew: Position 10 from the end of reads is skewed!\r\n",
        "Within-read Skew: Position 11 from the end of reads is skewed!\r\n",
        "Within-read Skew: Position 12 from the end of reads is skewed!\r\n",
        "Within-read Skew: Position 13 from the end of reads is skewed!\r\n",
        "Within-read Skew: Position 14 from the end of reads is skewed!\r\n",
        "Within-read Skew: Position 15 from the end of reads is skewed!\r\n",
        "Within-read Skew: Position 16 from the end of reads is skewed!\r\n",
        "Within-read Skew: Position 17 from the end of reads is skewed!\r\n",
        "Within-read Skew: Position 18 from the end of reads is skewed!\r\n",
        "Within-read Skew: Position 19 from the end of reads is skewed!\r\n",
        "Within-read Skew: Position 20 from the end of reads is skewed!\r\n",
        "Within-read Skew: Position 21 from the end of reads is skewed!\r\n",
        "Within-read Skew: Position 22 from the end of reads is skewed!\r\n",
        "Within-read Skew: Position 23 from the end of reads is skewed!\r\n",
        "Within-read Skew: Position 24 from the end of reads is skewed!\r\n",
        "Within-read Skew: Position 25 from the end of reads is skewed!\r\n",
        "Within-read Skew: Position 26 from the end of reads is skewed!\r\n",
        "Within-read Skew: Position 27 from the end of reads is skewed!\r\n",
        "Within-read Skew: Position 28 from the end of reads is skewed!\r\n",
        "Within-read Skew: Position 29 from the end of reads is skewed!\r\n",
        "Within-read Skew: Position 30 from the end of reads is skewed!\r\n",
        "Within-read Skew: Position 31 from the end of reads is skewed!\r\n",
        "Within-read Skew: Position 32 from the end of reads is skewed!\r\n",
        "Within-read Skew: Position 33 from the end of reads is skewed!\r\n",
        "Within-read Skew: Position 34 from the end of reads is skewed!\r\n",
        "Within-read Skew: Position 35 from the end of reads is skewed!\r\n",
        "Within-read Skew: Position 36 from the end of reads is skewed!\r\n",
        "Within-read Skew: Position 37 from the end of reads is skewed!\r\n",
        "Trim 'start': 3 from /Volumes/web/Mollusk/bs_larvae_exp/Concatenated_Files_R1/T1D3_R1.fastq\r\n",
        "Trim 'end': 16 from /Volumes/web/Mollusk/bs_larvae_exp/Concatenated_Files_R1/T1D3_R1.fastq\r\n",
        "Trim 'start': 38 from /Volumes/web/Mollusk/bs_larvae_exp/Concatenated_Files_R2/T1D3_R2.fastq\r\n",
        "Threshold used: 751 out of 300000\r\n",
        "Adapter TruSeq Adapter, Index 3 (100% over 50bp)  (GATCGGAAGAGCACACGTCTGAACTCCAGTCACTTAGGCATCTCGTATGC): counted 4411 at the 'end' of '/Volumes/web/Mollusk/bs_larvae_exp/Concatenated_Files_R1/T1D3_R1.fastq', clip set to 5\r\n",
        "Adapter No Hit (AGAGAGAGAGAGAGAGAGAGAGAGAGAGAGAGAGAGAGAGAGAGAGAGAG): counted 1581 at the 'end' of '/Volumes/web/Mollusk/bs_larvae_exp/Concatenated_Files_R1/T1D3_R1.fastq', clip set to 6\r\n",
        "Adapter TruSeq Adapter, Index 3 (100% over 50bp)  (ATCGGAAGAGCACACGTCTGAACTCCAGTCACTTAGGCATCTCGTATGCC): counted 9162 at the 'end' of '/Volumes/web/Mollusk/bs_larvae_exp/Concatenated_Files_R1/T1D3_R1.fastq', clip set to 4\r\n",
        "Adapter No Hit  (GAGAGAGAGAGAGAGAGAGAGAGAGAGAGAGAGAGAGAGAGAGAGAGAGA): counted 1542 at the 'end' of '/Volumes/web/Mollusk/bs_larvae_exp/Concatenated_Files_R1/T1D3_R1.fastq', clip set to 6\r\n",
        "Adapter Illumina Single End PCR Primer 1 (100% over 50bp)  (GATCGGAAGAGCGTCGTGTAGGGAAAGAGTGTAGATCTCGGTGGTCGCCG): counted 4300 at the 'end' of '/Volumes/web/Mollusk/bs_larvae_exp/Concatenated_Files_R2/T1D3_R2.fastq', clip set to 5\r\n",
        "Adapter No Hit  (TCTCTCTCTCTCTCTCTCTCTCTCTCTCTCTCTCTCTCTCTCTCTCTCTC): counted 2560 at the 'end' of '/Volumes/web/Mollusk/bs_larvae_exp/Concatenated_Files_R2/T1D3_R2.fastq', clip set to 6\r\n",
        "Adapter Illumina Single End PCR Primer 1 (100% over 50bp)  (ATCGGAAGAGCGTCGTGTAGGGAAAGAGTGTAGATCTCGGTGGTCGCCGT): counted 3898 at the 'end' of '/Volumes/web/Mollusk/bs_larvae_exp/Concatenated_Files_R2/T1D3_R2.fastq', clip set to 5\r\n",
        "Adapter Illumina Single End PCR Primer 1 (98% over 50bp) (ATCGGAAGAGCGTCGTGTAGGGAAAGAGGGTAGATCTCGGTGGTCGCCGT): counted 3898 at the 'end' of '/Volumes/web/Mollusk/bs_larvae_exp/Concatenated_Files_R2/T1D3_R2.fastq', clip set to 5\r\n",
        "Adapter TruSeq Adapter, Index 6 (100% over 50bp) (GATCGGAAGAGCACACGTCTGAACTCCAGTCACGCCAATATCTCGTATGC): counted 4411 at the 'end' of '/Volumes/web/Mollusk/bs_larvae_exp/Concatenated_Files_R1/T1D3_R1.fastq', clip set to 5\r\n",
        "Adapter TruSeq Adapter, Index 6 (100% over 50bp) (ATCGGAAGAGCACACGTCTGAACTCCAGTCACGCCAATATCTCGTATGCC): counted 9162 at the 'end' of '/Volumes/web/Mollusk/bs_larvae_exp/Concatenated_Files_R1/T1D3_R1.fastq', clip set to 4\r\n",
        "Adapter Illumina Single End PCR Primer 1 (100% over 50bp) (GATCGGAAGAGCGTCGTGTAGGGAAAGAGTGTAGATCTCGGTGGTCGCCG): counted 4300 at the 'end' of '/Volumes/web/Mollusk/bs_larvae_exp/Concatenated_Files_R2/T1D3_R2.fastq', clip set to 5\r\n",
        "Adapter Illumina Single End PCR Primer 1 (100% over 50bp) (ATCGGAAGAGCGTCGTGTAGGGAAAGAGTGTAGATCTCGGTGGTCGCCGT): counted 3898 at the 'end' of '/Volumes/web/Mollusk/bs_larvae_exp/Concatenated_Files_R2/T1D3_R2.fastq', clip set to 5\r\n",
        "Adapter Illumina Single End PCR Primer 1 (98% over 50bp) (ATCGGAAGAGCGTCGTGTAGGGAAAGAGGGTAGATCTCGGTGGTCGCCGT): counted 3898 at the 'end' of '/Volumes/web/Mollusk/bs_larvae_exp/Concatenated_Files_R2/T1D3_R2.fastq', clip set to 5\r\n",
        "Adapter TruSeq Adapter, Index 4 (100% over 50bp) (GATCGGAAGAGCACACGTCTGAACTCCAGTCACTGACCAATCTCGTATGC): counted 4411 at the 'end' of '/Volumes/web/Mollusk/bs_larvae_exp/Concatenated_Files_R1/T1D3_R1.fastq', clip set to 5\r\n",
        "Adapter TruSeq Adapter, Index 4 (100% over 50bp) (ATCGGAAGAGCACACGTCTGAACTCCAGTCACTGACCAATCTCGTATGCC): counted 9162 at the 'end' of '/Volumes/web/Mollusk/bs_larvae_exp/Concatenated_Files_R1/T1D3_R1.fastq', clip set to 4\r\n",
        "Adapter Illumina Single End PCR Primer 1 (100% over 50bp) (GATCGGAAGAGCGTCGTGTAGGGAAAGAGTGTAGATCTCGGTGGTCGCCG): counted 4300 at the 'end' of '/Volumes/web/Mollusk/bs_larvae_exp/Concatenated_Files_R2/T1D3_R2.fastq', clip set to 5\r\n",
        "Adapter Illumina Single End PCR Primer 1 (100% over 50bp) (ATCGGAAGAGCGTCGTGTAGGGAAAGAGTGTAGATCTCGGTGGTCGCCGT): counted 3898 at the 'end' of '/Volumes/web/Mollusk/bs_larvae_exp/Concatenated_Files_R2/T1D3_R2.fastq', clip set to 5\r\n",
        "Adapter TruSeq Adapter, Index 5 (100% over 50bp) (GATCGGAAGAGCACACGTCTGAACTCCAGTCACACAGTGATCTCGTATGC): counted 4411 at the 'end' of '/Volumes/web/Mollusk/bs_larvae_exp/Concatenated_Files_R1/T1D3_R1.fastq', clip set to 5\r\n",
        "Adapter TruSeq Adapter, Index 5 (100% over 50bp) (ATCGGAAGAGCACACGTCTGAACTCCAGTCACACAGTGATCTCGTATGCC): counted 9162 at the 'end' of '/Volumes/web/Mollusk/bs_larvae_exp/Concatenated_Files_R1/T1D3_R1.fastq', clip set to 4\r\n",
        "Adapter Illumina Single End PCR Primer 1 (100% over 50bp) (GATCGGAAGAGCGTCGTGTAGGGAAAGAGTGTAGATCTCGGTGGTCGCCG): counted 4300 at the 'end' of '/Volumes/web/Mollusk/bs_larvae_exp/Concatenated_Files_R2/T1D3_R2.fastq', clip set to 5\r\n",
        "Adapter Illumina Single End PCR Primer 1 (100% over 50bp) (ATCGGAAGAGCGTCGTGTAGGGAAAGAGTGTAGATCTCGGTGGTCGCCGT): counted 3898 at the 'end' of '/Volumes/web/Mollusk/bs_larvae_exp/Concatenated_Files_R2/T1D3_R2.fastq', clip set to 5\r\n",
        "Adapter TruSeq Adapter, Index 7 (100% over 50bp) (GATCGGAAGAGCACACGTCTGAACTCCAGTCACCAGATCATCTCGTATGC): counted 4411 at the 'end' of '/Volumes/web/Mollusk/bs_larvae_exp/Concatenated_Files_R1/T1D3_R1.fastq', clip set to 5\r\n",
        "Adapter TruSeq Adapter, Index 7 (100% over 50bp) (ATCGGAAGAGCACACGTCTGAACTCCAGTCACCAGATCATCTCGTATGCC): counted 9162 at the 'end' of '/Volumes/web/Mollusk/bs_larvae_exp/Concatenated_Files_R1/T1D3_R1.fastq', clip set to 4\r\n",
        "Adapter Illumina Single End PCR Primer 1 (100% over 50bp) (GATCGGAAGAGCGTCGTGTAGGGAAAGAGTGTAGATCTCGGTGGTCGCCG): counted 4300 at the 'end' of '/Volumes/web/Mollusk/bs_larvae_exp/Concatenated_Files_R2/T1D3_R2.fastq', clip set to 5\r\n",
        "Adapter Illumina Single End PCR Primer 1 (100% over 50bp) (ATCGGAAGAGCGTCGTGTAGGGAAAGAGTGTAGATCTCGGTGGTCGCCGT): counted 3898 at the 'end' of '/Volumes/web/Mollusk/bs_larvae_exp/Concatenated_Files_R2/T1D3_R2.fastq', clip set to 5\r\n",
        "Adapter TruSeq Adapter, Index 8 (100% over 50bp) (GATCGGAAGAGCACACGTCTGAACTCCAGTCACACTTGAATCTCGTATGC): counted 4411 at the 'end' of '/Volumes/web/Mollusk/bs_larvae_exp/Concatenated_Files_R1/T1D3_R1.fastq', clip set to 5\r\n",
        "Adapter TruSeq Adapter, Index 8 (100% over 50bp) (ATCGGAAGAGCACACGTCTGAACTCCAGTCACACTTGAATCTCGTATGCC): counted 9162 at the 'end' of '/Volumes/web/Mollusk/bs_larvae_exp/Concatenated_Files_R1/T1D3_R1.fastq', clip set to 4\r\n",
        "Adapter Illumina Single End PCR Primer 1 (100% over 50bp) (GATCGGAAGAGCGTCGTGTAGGGAAAGAGTGTAGATCTCGGTGGTCGCCG): counted 4300 at the 'end' of '/Volumes/web/Mollusk/bs_larvae_exp/Concatenated_Files_R2/T1D3_R2.fastq', clip set to 5\r\n",
        "Adapter Illumina Single End PCR Primer 1 (100% over 50bp) (ATCGGAAGAGCGTCGTGTAGGGAAAGAGTGTAGATCTCGGTGGTCGCCGT): counted 3898 at the 'end' of '/Volumes/web/Mollusk/bs_larvae_exp/Concatenated_Files_R2/T1D3_R2.fastq', clip set to 5\r\n",
        "Adapter Illumina Single End PCR Primer 1 (98% over 50bp) (ATCGGAAGAGCGTCGTGTAGGGAAAGAGGGTAGATCTCGGTGGTCGCCGT): counted 3898 at the 'end' of '/Volumes/web/Mollusk/bs_larvae_exp/Concatenated_Files_R2/T1D3_R2.fastq', clip set to 5\r\n",
        "Adapter TruSeq Adapter, Index 9 (100% over 50bp) (GATCGGAAGAGCACACGTCTGAACTCCAGTCACGATCAGATCTCGTATGC): counted 4411 at the 'end' of '/Volumes/web/Mollusk/bs_larvae_exp/Concatenated_Files_R1/T1D3_R1.fastq', clip set to 5\r\n",
        "Adapter Illumina Single End PCR Primer 1 (100% over 50bp) (GATCGGAAGAGCGTCGTGTAGGGAAAGAGTGTAGATCTCGGTGGTCGCCG): counted 4300 at the 'end' of '/Volumes/web/Mollusk/bs_larvae_exp/Concatenated_Files_R2/T1D3_R2.fastq', clip set to 5\r\n",
        "Adapter No Hit (AGAGAGAGAGAGAGAGAGAGAGAGAGAGAGAGAGAGAGAGAGAGAGAGAG): counted 1581 at the 'end' of '/Volumes/web/Mollusk/bs_larvae_exp/Concatenated_Files_R1/T1D3_R1.fastq', clip set to 6\r\n",
        "Adapter No Hit  (GAGAGAGAGAGAGAGAGAGAGAGAGAGAGAGAGAGAGAGAGAGAGAGAGA): counted 1542 at the 'end' of '/Volumes/web/Mollusk/bs_larvae_exp/Concatenated_Files_R1/T1D3_R1.fastq', clip set to 6\r\n",
        "Adapter TruSeq Adapter, Index 3 (100% over 50bp) (ATCGGAAGAGCACACGTCTGAACTCCAGTCACTTAGGCATCTCGTATGCC): counted 9162 at the 'end' of '/Volumes/web/Mollusk/bs_larvae_exp/Concatenated_Files_R1/T1D3_R1.fastq', clip set to 4\r\n",
        "Adapter TruSeq Adapter, Index 3 (100% over 50bp) (GATCGGAAGAGCACACGTCTGAACTCCAGTCACTTAGGCATCTCGTATGC): counted 4411 at the 'end' of '/Volumes/web/Mollusk/bs_larvae_exp/Concatenated_Files_R1/T1D3_R1.fastq', clip set to 5\r\n",
        "Adapter No Hit (TCTCTCTCTCTCTCTCTCTCTCTCTCTCTCTCTCTCTCTCTCTCTCTCTC): counted 2560 at the 'end' of '/Volumes/web/Mollusk/bs_larvae_exp/Concatenated_Files_R2/T1D3_R2.fastq', clip set to 6\r\n",
        "Adapter TruSeq Adapter, Index 6 (100% over 50bp) (GATCGGAAGAGCACACGTCTGAACTCCAGTCACGCCAATATCTCGTATGC): counted 4411 at the 'end' of '/Volumes/web/Mollusk/bs_larvae_exp/Concatenated_Files_R1/T1D3_R1.fastq', clip set to 5\r\n",
        "Adapter TruSeq Adapter, Index 6 (100% over 50bp) (ATCGGAAGAGCACACGTCTGAACTCCAGTCACGCCAATATCTCGTATGCC): counted 9162 at the 'end' of '/Volumes/web/Mollusk/bs_larvae_exp/Concatenated_Files_R1/T1D3_R1.fastq', clip set to 4\r\n",
        "Adapter TruSeq Adapter, Index 4 (100% over 50bp) (GATCGGAAGAGCACACGTCTGAACTCCAGTCACTGACCAATCTCGTATGC): counted 4411 at the 'end' of '/Volumes/web/Mollusk/bs_larvae_exp/Concatenated_Files_R1/T1D3_R1.fastq', clip set to 5\r\n",
        "Adapter TruSeq Adapter, Index 5 (100% over 50bp) (GATCGGAAGAGCACACGTCTGAACTCCAGTCACACAGTGATCTCGTATGC): counted 4411 at the 'end' of '/Volumes/web/Mollusk/bs_larvae_exp/Concatenated_Files_R1/T1D3_R1.fastq', clip set to 5\r\n",
        "Adapter TruSeq Adapter, Index 5 (100% over 50bp) (ATCGGAAGAGCACACGTCTGAACTCCAGTCACACAGTGATCTCGTATGCC): counted 9162 at the 'end' of '/Volumes/web/Mollusk/bs_larvae_exp/Concatenated_Files_R1/T1D3_R1.fastq', clip set to 4\r\n",
        "Adapter TruSeq Adapter, Index 7 (100% over 50bp) (GATCGGAAGAGCACACGTCTGAACTCCAGTCACCAGATCATCTCGTATGC): counted 4411 at the 'end' of '/Volumes/web/Mollusk/bs_larvae_exp/Concatenated_Files_R1/T1D3_R1.fastq', clip set to 5\r\n",
        "Adapter TruSeq Adapter, Index 7 (100% over 50bp) (ATCGGAAGAGCACACGTCTGAACTCCAGTCACCAGATCATCTCGTATGCC): counted 9162 at the 'end' of '/Volumes/web/Mollusk/bs_larvae_exp/Concatenated_Files_R1/T1D3_R1.fastq', clip set to 4\r\n",
        "Adapter TruSeq Adapter, Index 8 (100% over 50bp) (GATCGGAAGAGCACACGTCTGAACTCCAGTCACACTTGAATCTCGTATGC): counted 4411 at the 'end' of '/Volumes/web/Mollusk/bs_larvae_exp/Concatenated_Files_R1/T1D3_R1.fastq', clip set to 5\r\n",
        "Adapter TruSeq Adapter, Index 8 (100% over 50bp) (ATCGGAAGAGCACACGTCTGAACTCCAGTCACACTTGAATCTCGTATGCC): counted 9162 at the 'end' of '/Volumes/web/Mollusk/bs_larvae_exp/Concatenated_Files_R1/T1D3_R1.fastq', clip set to 4\r\n",
        "Adapter TruSeq Adapter, Index 9 (100% over 50bp) (GATCGGAAGAGCACACGTCTGAACTCCAGTCACGATCAGATCTCGTATG): counted 4411 at the 'end' of '/Volumes/web/Mollusk/bs_larvae_exp/Concatenated_Files_R1/T1D3_R1.fastq', clip set to 5\r\n"
       ]
      },
      {
       "output_type": "stream",
       "stream": "stdout",
       "text": [
        "Files: 2\r\n"
       ]
      },
      {
       "output_type": "stream",
       "stream": "stdout",
       "text": [
        "Total reads: 5465974\r\n",
        "Too short after clip: 449574\r\n",
        "Clipped 'end' reads (/Volumes/web/Mollusk/bs_larvae_exp/Concatenated_Files_R1/T1D3_R1.fastq): Count 166326, Mean: 16.63, Sd: 12.16\r\n",
        "Trimmed 113807 reads (/Volumes/web/Mollusk/bs_larvae_exp/Concatenated_Files_R1/T1D3_R1.fastq) by an average of 17.38 bases on quality < 7\r\n",
        "Clipped 'end' reads (/Volumes/web/Mollusk/bs_larvae_exp/Concatenated_Files_R2/T1D3_R2.fastq): Count 100612, Mean: 10.09, Sd: 3.88\r\n",
        "Trimmed 2999841 reads (/Volumes/web/Mollusk/bs_larvae_exp/Concatenated_Files_R2/T1D3_R2.fastq) by an average of 11.91 bases on quality < 7\r\n"
       ]
      }
     ],
     "prompt_number": 19
    },
    {
     "cell_type": "code",
     "collapsed": false,
     "input": [
      "#variables\n",
      "lib=\"T1D5\""
     ],
     "language": "python",
     "metadata": {},
     "outputs": [],
     "prompt_number": 20
    },
    {
     "cell_type": "code",
     "collapsed": false,
     "input": [
      "!/Volumes/Bay3/Software/ea-utils.1.1.2-537/fastq-mcf \\\n",
      "-o /Volumes/web/cnidarian/mcf_{lib}_R1.fastq \\\n",
      "-o /Volumes/web/cnidarian/mcf_{lib}_R2.fastq \\\n",
      "/Volumes/web/Mollusk/bs_larvae_exp/Adapters_LarvaeSequencingFiles.txt \\\n",
      "/Volumes/web/Mollusk/bs_larvae_exp/Concatenated_Files_R1/{lib}_R1.fastq \\\n",
      "/Volumes/web/Mollusk/bs_larvae_exp/Concatenated_Files_R2/{lib}_R2.fastq"
     ],
     "language": "python",
     "metadata": {},
     "outputs": [
      {
       "output_type": "stream",
       "stream": "stdout",
       "text": [
        "Scale used: 2.2\r\n"
       ]
      },
      {
       "output_type": "stream",
       "stream": "stdout",
       "text": [
        "Phred: 33\r\n"
       ]
      },
      {
       "output_type": "stream",
       "stream": "stdout",
       "text": [
        "Warning: Too much skewing found (76), disabling skew clipping\r\n",
        "Threshold used: 751 out of 300000\r\n",
        "Adapter TruSeq Adapter, Index 3 (100% over 50bp)  (GATCGGAAGAGCACACGTCTGAACTCCAGTCACTTAGGCATCTCGTATGC): counted 2948 at the 'end' of '/Volumes/web/Mollusk/bs_larvae_exp/Concatenated_Files_R1/T1D5_R1.fastq', clip set to 5\r\n",
        "Adapter No Hit (AGAGAGAGAGAGAGAGAGAGAGAGAGAGAGAGAGAGAGAGAGAGAGAGAG): counted 1107 at the 'end' of '/Volumes/web/Mollusk/bs_larvae_exp/Concatenated_Files_R1/T1D5_R1.fastq', clip set to 7\r\n",
        "Adapter TruSeq Adapter, Index 3 (100% over 50bp)  (ATCGGAAGAGCACACGTCTGAACTCCAGTCACTTAGGCATCTCGTATGCC): counted 4607 at the 'end' of '/Volumes/web/Mollusk/bs_larvae_exp/Concatenated_Files_R1/T1D5_R1.fastq', clip set to 5\r\n",
        "Adapter No Hit  (GAGAGAGAGAGAGAGAGAGAGAGAGAGAGAGAGAGAGAGAGAGAGAGAGA): counted 1081 at the 'end' of '/Volumes/web/Mollusk/bs_larvae_exp/Concatenated_Files_R1/T1D5_R1.fastq', clip set to 7\r\n",
        "Adapter Illumina Single End PCR Primer 1 (100% over 50bp)  (GATCGGAAGAGCGTCGTGTAGGGAAAGAGTGTAGATCTCGGTGGTCGCCG): counted 2851 at the 'end' of '/Volumes/web/Mollusk/bs_larvae_exp/Concatenated_Files_R2/T1D5_R2.fastq', clip set to 5\r\n",
        "Adapter No Hit  (TCTCTCTCTCTCTCTCTCTCTCTCTCTCTCTCTCTCTCTCTCTCTCTCTC): counted 1910 at the 'end' of '/Volumes/web/Mollusk/bs_larvae_exp/Concatenated_Files_R2/T1D5_R2.fastq', clip set to 6\r\n",
        "Adapter Illumina Single End PCR Primer 1 (100% over 50bp)  (ATCGGAAGAGCGTCGTGTAGGGAAAGAGTGTAGATCTCGGTGGTCGCCGT): counted 2562 at the 'end' of '/Volumes/web/Mollusk/bs_larvae_exp/Concatenated_Files_R2/T1D5_R2.fastq', clip set to 6\r\n",
        "Adapter Illumina Single End PCR Primer 1 (98% over 50bp) (ATCGGAAGAGCGTCGTGTAGGGAAAGAGGGTAGATCTCGGTGGTCGCCGT): counted 2562 at the 'end' of '/Volumes/web/Mollusk/bs_larvae_exp/Concatenated_Files_R2/T1D5_R2.fastq', clip set to 6\r\n",
        "Adapter TruSeq Adapter, Index 6 (100% over 50bp) (GATCGGAAGAGCACACGTCTGAACTCCAGTCACGCCAATATCTCGTATGC): counted 2948 at the 'end' of '/Volumes/web/Mollusk/bs_larvae_exp/Concatenated_Files_R1/T1D5_R1.fastq', clip set to 5\r\n",
        "Adapter TruSeq Adapter, Index 6 (100% over 50bp) (ATCGGAAGAGCACACGTCTGAACTCCAGTCACGCCAATATCTCGTATGCC): counted 4607 at the 'end' of '/Volumes/web/Mollusk/bs_larvae_exp/Concatenated_Files_R1/T1D5_R1.fastq', clip set to 5\r\n",
        "Adapter Illumina Single End PCR Primer 1 (100% over 50bp) (GATCGGAAGAGCGTCGTGTAGGGAAAGAGTGTAGATCTCGGTGGTCGCCG): counted 2851 at the 'end' of '/Volumes/web/Mollusk/bs_larvae_exp/Concatenated_Files_R2/T1D5_R2.fastq', clip set to 5\r\n",
        "Adapter Illumina Single End PCR Primer 1 (100% over 50bp) (ATCGGAAGAGCGTCGTGTAGGGAAAGAGTGTAGATCTCGGTGGTCGCCGT): counted 2562 at the 'end' of '/Volumes/web/Mollusk/bs_larvae_exp/Concatenated_Files_R2/T1D5_R2.fastq', clip set to 6\r\n",
        "Adapter Illumina Single End PCR Primer 1 (98% over 50bp) (ATCGGAAGAGCGTCGTGTAGGGAAAGAGGGTAGATCTCGGTGGTCGCCGT): counted 2562 at the 'end' of '/Volumes/web/Mollusk/bs_larvae_exp/Concatenated_Files_R2/T1D5_R2.fastq', clip set to 6\r\n",
        "Adapter TruSeq Adapter, Index 4 (100% over 50bp) (GATCGGAAGAGCACACGTCTGAACTCCAGTCACTGACCAATCTCGTATGC): counted 2948 at the 'end' of '/Volumes/web/Mollusk/bs_larvae_exp/Concatenated_Files_R1/T1D5_R1.fastq', clip set to 5\r\n",
        "Adapter TruSeq Adapter, Index 4 (100% over 50bp) (ATCGGAAGAGCACACGTCTGAACTCCAGTCACTGACCAATCTCGTATGCC): counted 4607 at the 'end' of '/Volumes/web/Mollusk/bs_larvae_exp/Concatenated_Files_R1/T1D5_R1.fastq', clip set to 5\r\n",
        "Adapter Illumina Single End PCR Primer 1 (100% over 50bp) (GATCGGAAGAGCGTCGTGTAGGGAAAGAGTGTAGATCTCGGTGGTCGCCG): counted 2851 at the 'end' of '/Volumes/web/Mollusk/bs_larvae_exp/Concatenated_Files_R2/T1D5_R2.fastq', clip set to 5\r\n",
        "Adapter Illumina Single End PCR Primer 1 (100% over 50bp) (ATCGGAAGAGCGTCGTGTAGGGAAAGAGTGTAGATCTCGGTGGTCGCCGT): counted 2562 at the 'end' of '/Volumes/web/Mollusk/bs_larvae_exp/Concatenated_Files_R2/T1D5_R2.fastq', clip set to 6\r\n",
        "Adapter TruSeq Adapter, Index 5 (100% over 50bp) (GATCGGAAGAGCACACGTCTGAACTCCAGTCACACAGTGATCTCGTATGC): counted 2948 at the 'end' of '/Volumes/web/Mollusk/bs_larvae_exp/Concatenated_Files_R1/T1D5_R1.fastq', clip set to 5\r\n",
        "Adapter TruSeq Adapter, Index 5 (100% over 50bp) (ATCGGAAGAGCACACGTCTGAACTCCAGTCACACAGTGATCTCGTATGCC): counted 4607 at the 'end' of '/Volumes/web/Mollusk/bs_larvae_exp/Concatenated_Files_R1/T1D5_R1.fastq', clip set to 5\r\n",
        "Adapter Illumina Single End PCR Primer 1 (100% over 50bp) (GATCGGAAGAGCGTCGTGTAGGGAAAGAGTGTAGATCTCGGTGGTCGCCG): counted 2851 at the 'end' of '/Volumes/web/Mollusk/bs_larvae_exp/Concatenated_Files_R2/T1D5_R2.fastq', clip set to 5\r\n",
        "Adapter Illumina Single End PCR Primer 1 (100% over 50bp) (ATCGGAAGAGCGTCGTGTAGGGAAAGAGTGTAGATCTCGGTGGTCGCCGT): counted 2562 at the 'end' of '/Volumes/web/Mollusk/bs_larvae_exp/Concatenated_Files_R2/T1D5_R2.fastq', clip set to 6\r\n",
        "Adapter TruSeq Adapter, Index 7 (100% over 50bp) (GATCGGAAGAGCACACGTCTGAACTCCAGTCACCAGATCATCTCGTATGC): counted 2948 at the 'end' of '/Volumes/web/Mollusk/bs_larvae_exp/Concatenated_Files_R1/T1D5_R1.fastq', clip set to 5\r\n",
        "Adapter TruSeq Adapter, Index 7 (100% over 50bp) (ATCGGAAGAGCACACGTCTGAACTCCAGTCACCAGATCATCTCGTATGCC): counted 4607 at the 'end' of '/Volumes/web/Mollusk/bs_larvae_exp/Concatenated_Files_R1/T1D5_R1.fastq', clip set to 5\r\n",
        "Adapter Illumina Single End PCR Primer 1 (100% over 50bp) (GATCGGAAGAGCGTCGTGTAGGGAAAGAGTGTAGATCTCGGTGGTCGCCG): counted 2851 at the 'end' of '/Volumes/web/Mollusk/bs_larvae_exp/Concatenated_Files_R2/T1D5_R2.fastq', clip set to 5\r\n",
        "Adapter Illumina Single End PCR Primer 1 (100% over 50bp) (ATCGGAAGAGCGTCGTGTAGGGAAAGAGTGTAGATCTCGGTGGTCGCCGT): counted 2562 at the 'end' of '/Volumes/web/Mollusk/bs_larvae_exp/Concatenated_Files_R2/T1D5_R2.fastq', clip set to 6\r\n",
        "Adapter TruSeq Adapter, Index 8 (100% over 50bp) (GATCGGAAGAGCACACGTCTGAACTCCAGTCACACTTGAATCTCGTATGC): counted 2948 at the 'end' of '/Volumes/web/Mollusk/bs_larvae_exp/Concatenated_Files_R1/T1D5_R1.fastq', clip set to 5\r\n",
        "Adapter TruSeq Adapter, Index 8 (100% over 50bp) (ATCGGAAGAGCACACGTCTGAACTCCAGTCACACTTGAATCTCGTATGCC): counted 4607 at the 'end' of '/Volumes/web/Mollusk/bs_larvae_exp/Concatenated_Files_R1/T1D5_R1.fastq', clip set to 5\r\n",
        "Adapter Illumina Single End PCR Primer 1 (100% over 50bp) (GATCGGAAGAGCGTCGTGTAGGGAAAGAGTGTAGATCTCGGTGGTCGCCG): counted 2851 at the 'end' of '/Volumes/web/Mollusk/bs_larvae_exp/Concatenated_Files_R2/T1D5_R2.fastq', clip set to 5\r\n",
        "Adapter Illumina Single End PCR Primer 1 (100% over 50bp) (ATCGGAAGAGCGTCGTGTAGGGAAAGAGTGTAGATCTCGGTGGTCGCCGT): counted 2562 at the 'end' of '/Volumes/web/Mollusk/bs_larvae_exp/Concatenated_Files_R2/T1D5_R2.fastq', clip set to 6\r\n",
        "Adapter Illumina Single End PCR Primer 1 (98% over 50bp) (ATCGGAAGAGCGTCGTGTAGGGAAAGAGGGTAGATCTCGGTGGTCGCCGT): counted 2562 at the 'end' of '/Volumes/web/Mollusk/bs_larvae_exp/Concatenated_Files_R2/T1D5_R2.fastq', clip set to 6\r\n",
        "Adapter TruSeq Adapter, Index 9 (100% over 50bp) (GATCGGAAGAGCACACGTCTGAACTCCAGTCACGATCAGATCTCGTATGC): counted 2948 at the 'end' of '/Volumes/web/Mollusk/bs_larvae_exp/Concatenated_Files_R1/T1D5_R1.fastq', clip set to 5\r\n",
        "Adapter Illumina Single End PCR Primer 1 (100% over 50bp) (GATCGGAAGAGCGTCGTGTAGGGAAAGAGTGTAGATCTCGGTGGTCGCCG): counted 2851 at the 'end' of '/Volumes/web/Mollusk/bs_larvae_exp/Concatenated_Files_R2/T1D5_R2.fastq', clip set to 5\r\n",
        "Adapter No Hit (AGAGAGAGAGAGAGAGAGAGAGAGAGAGAGAGAGAGAGAGAGAGAGAGAG): counted 1107 at the 'end' of '/Volumes/web/Mollusk/bs_larvae_exp/Concatenated_Files_R1/T1D5_R1.fastq', clip set to 7\r\n",
        "Adapter No Hit  (GAGAGAGAGAGAGAGAGAGAGAGAGAGAGAGAGAGAGAGAGAGAGAGAGA): counted 1081 at the 'end' of '/Volumes/web/Mollusk/bs_larvae_exp/Concatenated_Files_R1/T1D5_R1.fastq', clip set to 7\r\n",
        "Adapter TruSeq Adapter, Index 3 (100% over 50bp) (ATCGGAAGAGCACACGTCTGAACTCCAGTCACTTAGGCATCTCGTATGCC): counted 4607 at the 'end' of '/Volumes/web/Mollusk/bs_larvae_exp/Concatenated_Files_R1/T1D5_R1.fastq', clip set to 5\r\n",
        "Adapter TruSeq Adapter, Index 3 (100% over 50bp) (GATCGGAAGAGCACACGTCTGAACTCCAGTCACTTAGGCATCTCGTATGC): counted 2948 at the 'end' of '/Volumes/web/Mollusk/bs_larvae_exp/Concatenated_Files_R1/T1D5_R1.fastq', clip set to 5\r\n",
        "Adapter No Hit (TCTCTCTCTCTCTCTCTCTCTCTCTCTCTCTCTCTCTCTCTCTCTCTCTC): counted 1910 at the 'end' of '/Volumes/web/Mollusk/bs_larvae_exp/Concatenated_Files_R2/T1D5_R2.fastq', clip set to 6\r\n",
        "Adapter TruSeq Adapter, Index 6 (100% over 50bp) (GATCGGAAGAGCACACGTCTGAACTCCAGTCACGCCAATATCTCGTATGC): counted 2948 at the 'end' of '/Volumes/web/Mollusk/bs_larvae_exp/Concatenated_Files_R1/T1D5_R1.fastq', clip set to 5\r\n",
        "Adapter TruSeq Adapter, Index 6 (100% over 50bp) (ATCGGAAGAGCACACGTCTGAACTCCAGTCACGCCAATATCTCGTATGCC): counted 4607 at the 'end' of '/Volumes/web/Mollusk/bs_larvae_exp/Concatenated_Files_R1/T1D5_R1.fastq', clip set to 5\r\n",
        "Adapter TruSeq Adapter, Index 4 (100% over 50bp) (GATCGGAAGAGCACACGTCTGAACTCCAGTCACTGACCAATCTCGTATGC): counted 2948 at the 'end' of '/Volumes/web/Mollusk/bs_larvae_exp/Concatenated_Files_R1/T1D5_R1.fastq', clip set to 5\r\n",
        "Adapter TruSeq Adapter, Index 5 (100% over 50bp) (GATCGGAAGAGCACACGTCTGAACTCCAGTCACACAGTGATCTCGTATGC): counted 2948 at the 'end' of '/Volumes/web/Mollusk/bs_larvae_exp/Concatenated_Files_R1/T1D5_R1.fastq', clip set to 5\r\n",
        "Adapter TruSeq Adapter, Index 5 (100% over 50bp) (ATCGGAAGAGCACACGTCTGAACTCCAGTCACACAGTGATCTCGTATGCC): counted 4607 at the 'end' of '/Volumes/web/Mollusk/bs_larvae_exp/Concatenated_Files_R1/T1D5_R1.fastq', clip set to 5\r\n",
        "Adapter TruSeq Adapter, Index 7 (100% over 50bp) (GATCGGAAGAGCACACGTCTGAACTCCAGTCACCAGATCATCTCGTATGC): counted 2948 at the 'end' of '/Volumes/web/Mollusk/bs_larvae_exp/Concatenated_Files_R1/T1D5_R1.fastq', clip set to 5\r\n",
        "Adapter TruSeq Adapter, Index 7 (100% over 50bp) (ATCGGAAGAGCACACGTCTGAACTCCAGTCACCAGATCATCTCGTATGCC): counted 4607 at the 'end' of '/Volumes/web/Mollusk/bs_larvae_exp/Concatenated_Files_R1/T1D5_R1.fastq', clip set to 5\r\n",
        "Adapter TruSeq Adapter, Index 8 (100% over 50bp) (GATCGGAAGAGCACACGTCTGAACTCCAGTCACACTTGAATCTCGTATGC): counted 2948 at the 'end' of '/Volumes/web/Mollusk/bs_larvae_exp/Concatenated_Files_R1/T1D5_R1.fastq', clip set to 5\r\n",
        "Adapter TruSeq Adapter, Index 8 (100% over 50bp) (ATCGGAAGAGCACACGTCTGAACTCCAGTCACACTTGAATCTCGTATGCC): counted 4607 at the 'end' of '/Volumes/web/Mollusk/bs_larvae_exp/Concatenated_Files_R1/T1D5_R1.fastq', clip set to 5\r\n",
        "Adapter TruSeq Adapter, Index 9 (100% over 50bp) (GATCGGAAGAGCACACGTCTGAACTCCAGTCACGATCAGATCTCGTATG): counted 2948 at the 'end' of '/Volumes/web/Mollusk/bs_larvae_exp/Concatenated_Files_R1/T1D5_R1.fastq', clip set to 5\r\n",
        "Files: 2\r\n"
       ]
      },
      {
       "output_type": "stream",
       "stream": "stdout",
       "text": [
        "Total reads: 6327160\r\n",
        "Too short after clip: 147886\r\n",
        "Clipped 'end' reads (/Volumes/web/Mollusk/bs_larvae_exp/Concatenated_Files_R1/T1D5_R1.fastq): Count 143711, Mean: 17.70, Sd: 12.45\r\n",
        "Trimmed 614930 reads (/Volumes/web/Mollusk/bs_larvae_exp/Concatenated_Files_R1/T1D5_R1.fastq) by an average of 11.55 bases on quality < 7\r\n",
        "Clipped 'end' reads (/Volumes/web/Mollusk/bs_larvae_exp/Concatenated_Files_R2/T1D5_R2.fastq): Count 136939, Mean: 17.47, Sd: 12.21\r\n",
        "Trimmed 2554684 reads (/Volumes/web/Mollusk/bs_larvae_exp/Concatenated_Files_R2/T1D5_R2.fastq) by an average of 11.73 bases on quality < 7\r\n"
       ]
      }
     ],
     "prompt_number": 21
    },
    {
     "cell_type": "code",
     "collapsed": false,
     "input": [
      "#variables\n",
      "lib=\"T3D3\""
     ],
     "language": "python",
     "metadata": {},
     "outputs": [],
     "prompt_number": 22
    },
    {
     "cell_type": "code",
     "collapsed": false,
     "input": [
      "!/Volumes/Bay3/Software/ea-utils.1.1.2-537/fastq-mcf \\\n",
      "-o /Volumes/web/cnidarian/mcf_{lib}_R1.fastq \\\n",
      "-o /Volumes/web/cnidarian/mcf_{lib}_R2.fastq \\\n",
      "/Volumes/web/Mollusk/bs_larvae_exp/Adapters_LarvaeSequencingFiles.txt \\\n",
      "/Volumes/web/Mollusk/bs_larvae_exp/Concatenated_Files_R1/{lib}_R1.fastq \\\n",
      "/Volumes/web/Mollusk/bs_larvae_exp/Concatenated_Files_R2/{lib}_R2.fastq"
     ],
     "language": "python",
     "metadata": {},
     "outputs": [
      {
       "output_type": "stream",
       "stream": "stdout",
       "text": [
        "Scale used: 2.2\r\n"
       ]
      },
      {
       "output_type": "stream",
       "stream": "stdout",
       "text": [
        "Phred: 33\r\n"
       ]
      },
      {
       "output_type": "stream",
       "stream": "stdout",
       "text": [
        "Within-read Skew: Position 4 from the start of reads is skewed!\r\n",
        "Within-read Skew: Position 5 from the start of reads is skewed!\r\n",
        "Within-read Skew: Position 6 from the start of reads is skewed!\r\n",
        "Within-read Skew: Position 7 from the start of reads is skewed!\r\n",
        "Within-read Skew: Position 8 from the start of reads is skewed!\r\n",
        "Within-read Skew: Position 9 from the start of reads is skewed!\r\n",
        "Within-read Skew: Position 10 from the start of reads is skewed!\r\n",
        "Within-read Skew: Position 12 from the start of reads is skewed!\r\n",
        "Within-read Skew: Position 14 from the start of reads is skewed!\r\n",
        "Within-read Skew: Position 16 from the start of reads is skewed!\r\n",
        "Within-read Skew: Position 17 from the start of reads is skewed!\r\n",
        "Within-read Skew: Position 19 from the start of reads is skewed!\r\n",
        "Within-read Skew: Position 20 from the start of reads is skewed!\r\n",
        "Within-read Skew: Position 21 from the start of reads is skewed!\r\n",
        "Within-read Skew: Position 22 from the start of reads is skewed!\r\n",
        "Within-read Skew: Position 24 from the start of reads is skewed!\r\n",
        "Within-read Skew: Position 27 from the start of reads is skewed!\r\n",
        "Within-read Skew: Position 28 from the start of reads is skewed!\r\n",
        "Within-read Skew: Position 29 from the start of reads is skewed!\r\n",
        "Within-read Skew: Position 31 from the start of reads is skewed!\r\n",
        "Within-read Skew: Position 33 from the start of reads is skewed!\r\n",
        "Within-read Skew: Position 36 from the start of reads is skewed!\r\n",
        "Within-read Skew: Position 37 from the start of reads is skewed!\r\n",
        "Within-read Skew: Position 17 from the end of reads is skewed!\r\n",
        "Within-read Skew: Position 18 from the end of reads is skewed!\r\n",
        "Within-read Skew: Position 20 from the end of reads is skewed!\r\n",
        "Within-read Skew: Position 21 from the end of reads is skewed!\r\n",
        "Within-read Skew: Position 23 from the end of reads is skewed!\r\n",
        "Within-read Skew: Position 24 from the end of reads is skewed!\r\n",
        "Within-read Skew: Position 27 from the end of reads is skewed!\r\n",
        "Within-read Skew: Position 28 from the end of reads is skewed!\r\n",
        "Within-read Skew: Position 29 from the end of reads is skewed!\r\n",
        "Within-read Skew: Position 30 from the end of reads is skewed!\r\n",
        "Within-read Skew: Position 31 from the end of reads is skewed!\r\n",
        "Within-read Skew: Position 33 from the end of reads is skewed!\r\n",
        "Within-read Skew: Position 35 from the end of reads is skewed!\r\n",
        "Within-read Skew: Position 36 from the end of reads is skewed!\r\n",
        "Within-read Skew: Position 37 from the end of reads is skewed!\r\n",
        "Within-read Skew: Position 27 from the end of reads is skewed!\r\n",
        "Within-read Skew: Position 28 from the end of reads is skewed!\r\n",
        "Within-read Skew: Position 29 from the end of reads is skewed!\r\n",
        "Within-read Skew: Position 30 from the end of reads is skewed!\r\n",
        "Within-read Skew: Position 31 from the end of reads is skewed!\r\n",
        "Within-read Skew: Position 32 from the end of reads is skewed!\r\n",
        "Within-read Skew: Position 33 from the end of reads is skewed!\r\n",
        "Within-read Skew: Position 34 from the end of reads is skewed!\r\n",
        "Within-read Skew: Position 35 from the end of reads is skewed!\r\n",
        "Within-read Skew: Position 36 from the end of reads is skewed!\r\n",
        "Within-read Skew: Position 37 from the end of reads is skewed!\r\n",
        "Warning: Too much skewing found (64), disabling skew clipping\r\n",
        "Threshold used: 751 out of 300000\r\n",
        "Adapter TruSeq Adapter, Index 3 (100% over 50bp)  (GATCGGAAGAGCACACGTCTGAACTCCAGTCACTTAGGCATCTCGTATGC): counted 6933 at the 'start' of '/Volumes/web/Mollusk/bs_larvae_exp/Concatenated_Files_R1/T3D3_R1.fastq', clip set to 4\r\n",
        "Adapter No Hit (AGAGAGAGAGAGAGAGAGAGAGAGAGAGAGAGAGAGAGAGAGAGAGAGAG): counted 1409 at the 'end' of '/Volumes/web/Mollusk/bs_larvae_exp/Concatenated_Files_R1/T3D3_R1.fastq', clip set to 6\r\n",
        "Adapter TruSeq Adapter, Index 3 (100% over 50bp)  (ATCGGAAGAGCACACGTCTGAACTCCAGTCACTTAGGCATCTCGTATGCC): counted 9568 at the 'end' of '/Volumes/web/Mollusk/bs_larvae_exp/Concatenated_Files_R1/T3D3_R1.fastq', clip set to 4\r\n",
        "Adapter No Hit  (GAGAGAGAGAGAGAGAGAGAGAGAGAGAGAGAGAGAGAGAGAGAGAGAGA): counted 1371 at the 'end' of '/Volumes/web/Mollusk/bs_larvae_exp/Concatenated_Files_R1/T3D3_R1.fastq', clip set to 6\r\n",
        "Adapter Illumina Single End PCR Primer 1 (100% over 50bp)  (GATCGGAAGAGCGTCGTGTAGGGAAAGAGTGTAGATCTCGGTGGTCGCCG): counted 3169 at the 'end' of '/Volumes/web/Mollusk/bs_larvae_exp/Concatenated_Files_R2/T3D3_R2.fastq', clip set to 5\r\n",
        "Adapter No Hit  (TCTCTCTCTCTCTCTCTCTCTCTCTCTCTCTCTCTCTCTCTCTCTCTCTC): counted 2497 at the 'end' of '/Volumes/web/Mollusk/bs_larvae_exp/Concatenated_Files_R2/T3D3_R2.fastq', clip set to 6\r\n",
        "Adapter Illumina Single End PCR Primer 1 (100% over 50bp)  (ATCGGAAGAGCGTCGTGTAGGGAAAGAGTGTAGATCTCGGTGGTCGCCGT): counted 2903 at the 'end' of '/Volumes/web/Mollusk/bs_larvae_exp/Concatenated_Files_R2/T3D3_R2.fastq', clip set to 5\r\n",
        "Adapter Illumina Single End PCR Primer 1 (98% over 50bp) (ATCGGAAGAGCGTCGTGTAGGGAAAGAGGGTAGATCTCGGTGGTCGCCGT): counted 2903 at the 'end' of '/Volumes/web/Mollusk/bs_larvae_exp/Concatenated_Files_R2/T3D3_R2.fastq', clip set to 5\r\n",
        "Adapter TruSeq Adapter, Index 6 (100% over 50bp) (GATCGGAAGAGCACACGTCTGAACTCCAGTCACGCCAATATCTCGTATGC): counted 6934 at the 'start' of '/Volumes/web/Mollusk/bs_larvae_exp/Concatenated_Files_R1/T3D3_R1.fastq', clip set to 4\r\n",
        "Adapter TruSeq Adapter, Index 6 (100% over 50bp) (ATCGGAAGAGCACACGTCTGAACTCCAGTCACGCCAATATCTCGTATGCC): counted 9568 at the 'end' of '/Volumes/web/Mollusk/bs_larvae_exp/Concatenated_Files_R1/T3D3_R1.fastq', clip set to 4\r\n",
        "Adapter Illumina Single End PCR Primer 1 (100% over 50bp) (GATCGGAAGAGCGTCGTGTAGGGAAAGAGTGTAGATCTCGGTGGTCGCCG): counted 3169 at the 'end' of '/Volumes/web/Mollusk/bs_larvae_exp/Concatenated_Files_R2/T3D3_R2.fastq', clip set to 5\r\n",
        "Adapter Illumina Single End PCR Primer 1 (100% over 50bp) (ATCGGAAGAGCGTCGTGTAGGGAAAGAGTGTAGATCTCGGTGGTCGCCGT): counted 2903 at the 'end' of '/Volumes/web/Mollusk/bs_larvae_exp/Concatenated_Files_R2/T3D3_R2.fastq', clip set to 5\r\n",
        "Adapter Illumina Single End PCR Primer 1 (98% over 50bp) (ATCGGAAGAGCGTCGTGTAGGGAAAGAGGGTAGATCTCGGTGGTCGCCGT): counted 2903 at the 'end' of '/Volumes/web/Mollusk/bs_larvae_exp/Concatenated_Files_R2/T3D3_R2.fastq', clip set to 5\r\n",
        "Adapter TruSeq Adapter, Index 4 (100% over 50bp) (GATCGGAAGAGCACACGTCTGAACTCCAGTCACTGACCAATCTCGTATGC): counted 6933 at the 'start' of '/Volumes/web/Mollusk/bs_larvae_exp/Concatenated_Files_R1/T3D3_R1.fastq', clip set to 4\r\n",
        "Adapter TruSeq Adapter, Index 4 (100% over 50bp) (ATCGGAAGAGCACACGTCTGAACTCCAGTCACTGACCAATCTCGTATGCC): counted 9568 at the 'end' of '/Volumes/web/Mollusk/bs_larvae_exp/Concatenated_Files_R1/T3D3_R1.fastq', clip set to 4\r\n",
        "Adapter Illumina Single End PCR Primer 1 (100% over 50bp) (GATCGGAAGAGCGTCGTGTAGGGAAAGAGTGTAGATCTCGGTGGTCGCCG): counted 3169 at the 'end' of '/Volumes/web/Mollusk/bs_larvae_exp/Concatenated_Files_R2/T3D3_R2.fastq', clip set to 5\r\n",
        "Adapter Illumina Single End PCR Primer 1 (100% over 50bp) (ATCGGAAGAGCGTCGTGTAGGGAAAGAGTGTAGATCTCGGTGGTCGCCGT): counted 2903 at the 'end' of '/Volumes/web/Mollusk/bs_larvae_exp/Concatenated_Files_R2/T3D3_R2.fastq', clip set to 5\r\n",
        "Adapter TruSeq Adapter, Index 5 (100% over 50bp) (GATCGGAAGAGCACACGTCTGAACTCCAGTCACACAGTGATCTCGTATGC): counted 6933 at the 'start' of '/Volumes/web/Mollusk/bs_larvae_exp/Concatenated_Files_R1/T3D3_R1.fastq', clip set to 4\r\n",
        "Adapter TruSeq Adapter, Index 5 (100% over 50bp) (ATCGGAAGAGCACACGTCTGAACTCCAGTCACACAGTGATCTCGTATGCC): counted 9568 at the 'end' of '/Volumes/web/Mollusk/bs_larvae_exp/Concatenated_Files_R1/T3D3_R1.fastq', clip set to 4\r\n",
        "Adapter Illumina Single End PCR Primer 1 (100% over 50bp) (GATCGGAAGAGCGTCGTGTAGGGAAAGAGTGTAGATCTCGGTGGTCGCCG): counted 3169 at the 'end' of '/Volumes/web/Mollusk/bs_larvae_exp/Concatenated_Files_R2/T3D3_R2.fastq', clip set to 5\r\n",
        "Adapter Illumina Single End PCR Primer 1 (100% over 50bp) (ATCGGAAGAGCGTCGTGTAGGGAAAGAGTGTAGATCTCGGTGGTCGCCGT): counted 2903 at the 'end' of '/Volumes/web/Mollusk/bs_larvae_exp/Concatenated_Files_R2/T3D3_R2.fastq', clip set to 5\r\n",
        "Adapter TruSeq Adapter, Index 7 (100% over 50bp) (GATCGGAAGAGCACACGTCTGAACTCCAGTCACCAGATCATCTCGTATGC): counted 6933 at the 'start' of '/Volumes/web/Mollusk/bs_larvae_exp/Concatenated_Files_R1/T3D3_R1.fastq', clip set to 4\r\n",
        "Adapter TruSeq Adapter, Index 7 (100% over 50bp) (ATCGGAAGAGCACACGTCTGAACTCCAGTCACCAGATCATCTCGTATGCC): counted 9568 at the 'end' of '/Volumes/web/Mollusk/bs_larvae_exp/Concatenated_Files_R1/T3D3_R1.fastq', clip set to 4\r\n",
        "Adapter Illumina Single End PCR Primer 1 (100% over 50bp) (GATCGGAAGAGCGTCGTGTAGGGAAAGAGTGTAGATCTCGGTGGTCGCCG): counted 3169 at the 'end' of '/Volumes/web/Mollusk/bs_larvae_exp/Concatenated_Files_R2/T3D3_R2.fastq', clip set to 5\r\n",
        "Adapter Illumina Single End PCR Primer 1 (100% over 50bp) (ATCGGAAGAGCGTCGTGTAGGGAAAGAGTGTAGATCTCGGTGGTCGCCGT): counted 2903 at the 'end' of '/Volumes/web/Mollusk/bs_larvae_exp/Concatenated_Files_R2/T3D3_R2.fastq', clip set to 5\r\n",
        "Adapter TruSeq Adapter, Index 8 (100% over 50bp) (GATCGGAAGAGCACACGTCTGAACTCCAGTCACACTTGAATCTCGTATGC): counted 6933 at the 'start' of '/Volumes/web/Mollusk/bs_larvae_exp/Concatenated_Files_R1/T3D3_R1.fastq', clip set to 4\r\n",
        "Adapter TruSeq Adapter, Index 8 (100% over 50bp) (ATCGGAAGAGCACACGTCTGAACTCCAGTCACACTTGAATCTCGTATGCC): counted 9568 at the 'end' of '/Volumes/web/Mollusk/bs_larvae_exp/Concatenated_Files_R1/T3D3_R1.fastq', clip set to 4\r\n",
        "Adapter Illumina Single End PCR Primer 1 (100% over 50bp) (GATCGGAAGAGCGTCGTGTAGGGAAAGAGTGTAGATCTCGGTGGTCGCCG): counted 3169 at the 'end' of '/Volumes/web/Mollusk/bs_larvae_exp/Concatenated_Files_R2/T3D3_R2.fastq', clip set to 5\r\n",
        "Adapter Illumina Single End PCR Primer 1 (100% over 50bp) (ATCGGAAGAGCGTCGTGTAGGGAAAGAGTGTAGATCTCGGTGGTCGCCGT): counted 2903 at the 'end' of '/Volumes/web/Mollusk/bs_larvae_exp/Concatenated_Files_R2/T3D3_R2.fastq', clip set to 5\r\n",
        "Adapter Illumina Single End PCR Primer 1 (98% over 50bp) (ATCGGAAGAGCGTCGTGTAGGGAAAGAGGGTAGATCTCGGTGGTCGCCGT): counted 2903 at the 'end' of '/Volumes/web/Mollusk/bs_larvae_exp/Concatenated_Files_R2/T3D3_R2.fastq', clip set to 5\r\n",
        "Adapter TruSeq Adapter, Index 9 (100% over 50bp) (GATCGGAAGAGCACACGTCTGAACTCCAGTCACGATCAGATCTCGTATGC): counted 6933 at the 'start' of '/Volumes/web/Mollusk/bs_larvae_exp/Concatenated_Files_R1/T3D3_R1.fastq', clip set to 4\r\n",
        "Adapter Illumina Single End PCR Primer 1 (100% over 50bp) (GATCGGAAGAGCGTCGTGTAGGGAAAGAGTGTAGATCTCGGTGGTCGCCG): counted 3169 at the 'end' of '/Volumes/web/Mollusk/bs_larvae_exp/Concatenated_Files_R2/T3D3_R2.fastq', clip set to 5\r\n",
        "Adapter No Hit (AGAGAGAGAGAGAGAGAGAGAGAGAGAGAGAGAGAGAGAGAGAGAGAGAG): counted 1409 at the 'end' of '/Volumes/web/Mollusk/bs_larvae_exp/Concatenated_Files_R1/T3D3_R1.fastq', clip set to 6\r\n",
        "Adapter No Hit  (GAGAGAGAGAGAGAGAGAGAGAGAGAGAGAGAGAGAGAGAGAGAGAGAGA): counted 1371 at the 'end' of '/Volumes/web/Mollusk/bs_larvae_exp/Concatenated_Files_R1/T3D3_R1.fastq', clip set to 6\r\n",
        "Adapter TruSeq Adapter, Index 3 (100% over 50bp) (ATCGGAAGAGCACACGTCTGAACTCCAGTCACTTAGGCATCTCGTATGCC): counted 9568 at the 'end' of '/Volumes/web/Mollusk/bs_larvae_exp/Concatenated_Files_R1/T3D3_R1.fastq', clip set to 4\r\n",
        "Adapter TruSeq Adapter, Index 3 (100% over 50bp) (GATCGGAAGAGCACACGTCTGAACTCCAGTCACTTAGGCATCTCGTATGC): counted 6933 at the 'start' of '/Volumes/web/Mollusk/bs_larvae_exp/Concatenated_Files_R1/T3D3_R1.fastq', clip set to 4\r\n",
        "Adapter No Hit (TCTCTCTCTCTCTCTCTCTCTCTCTCTCTCTCTCTCTCTCTCTCTCTCTC): counted 2497 at the 'end' of '/Volumes/web/Mollusk/bs_larvae_exp/Concatenated_Files_R2/T3D3_R2.fastq', clip set to 6\r\n",
        "Adapter TruSeq Adapter, Index 6 (100% over 50bp) (GATCGGAAGAGCACACGTCTGAACTCCAGTCACGCCAATATCTCGTATGC): counted 6934 at the 'start' of '/Volumes/web/Mollusk/bs_larvae_exp/Concatenated_Files_R1/T3D3_R1.fastq', clip set to 4\r\n",
        "Adapter TruSeq Adapter, Index 6 (100% over 50bp) (ATCGGAAGAGCACACGTCTGAACTCCAGTCACGCCAATATCTCGTATGCC): counted 9568 at the 'end' of '/Volumes/web/Mollusk/bs_larvae_exp/Concatenated_Files_R1/T3D3_R1.fastq', clip set to 4\r\n",
        "Adapter TruSeq Adapter, Index 4 (100% over 50bp) (GATCGGAAGAGCACACGTCTGAACTCCAGTCACTGACCAATCTCGTATGC): counted 6933 at the 'start' of '/Volumes/web/Mollusk/bs_larvae_exp/Concatenated_Files_R1/T3D3_R1.fastq', clip set to 4\r\n",
        "Adapter TruSeq Adapter, Index 5 (100% over 50bp) (GATCGGAAGAGCACACGTCTGAACTCCAGTCACACAGTGATCTCGTATGC): counted 6933 at the 'start' of '/Volumes/web/Mollusk/bs_larvae_exp/Concatenated_Files_R1/T3D3_R1.fastq', clip set to 4\r\n",
        "Adapter TruSeq Adapter, Index 5 (100% over 50bp) (ATCGGAAGAGCACACGTCTGAACTCCAGTCACACAGTGATCTCGTATGCC): counted 9568 at the 'end' of '/Volumes/web/Mollusk/bs_larvae_exp/Concatenated_Files_R1/T3D3_R1.fastq', clip set to 4\r\n",
        "Adapter TruSeq Adapter, Index 7 (100% over 50bp) (GATCGGAAGAGCACACGTCTGAACTCCAGTCACCAGATCATCTCGTATGC): counted 6933 at the 'start' of '/Volumes/web/Mollusk/bs_larvae_exp/Concatenated_Files_R1/T3D3_R1.fastq', clip set to 4\r\n",
        "Adapter TruSeq Adapter, Index 7 (100% over 50bp) (ATCGGAAGAGCACACGTCTGAACTCCAGTCACCAGATCATCTCGTATGCC): counted 9568 at the 'end' of '/Volumes/web/Mollusk/bs_larvae_exp/Concatenated_Files_R1/T3D3_R1.fastq', clip set to 4\r\n",
        "Adapter TruSeq Adapter, Index 8 (100% over 50bp) (GATCGGAAGAGCACACGTCTGAACTCCAGTCACACTTGAATCTCGTATGC): counted 6933 at the 'start' of '/Volumes/web/Mollusk/bs_larvae_exp/Concatenated_Files_R1/T3D3_R1.fastq', clip set to 4\r\n",
        "Adapter TruSeq Adapter, Index 8 (100% over 50bp) (ATCGGAAGAGCACACGTCTGAACTCCAGTCACACTTGAATCTCGTATGCC): counted 9568 at the 'end' of '/Volumes/web/Mollusk/bs_larvae_exp/Concatenated_Files_R1/T3D3_R1.fastq', clip set to 4\r\n",
        "Adapter TruSeq Adapter, Index 9 (100% over 50bp) (GATCGGAAGAGCACACGTCTGAACTCCAGTCACGATCAGATCTCGTATG): counted 6933 at the 'start' of '/Volumes/web/Mollusk/bs_larvae_exp/Concatenated_Files_R1/T3D3_R1.fastq', clip set to 4\r\n"
       ]
      },
      {
       "output_type": "stream",
       "stream": "stdout",
       "text": [
        "Files: 2\r\n"
       ]
      },
      {
       "output_type": "stream",
       "stream": "stdout",
       "text": [
        "Total reads: 7380649\r\n",
        "Too short after clip: 270860\r\n",
        "Clipped 'start' reads (/Volumes/web/Mollusk/bs_larvae_exp/Concatenated_Files_R1/T3D3_R1.fastq): Count 112025, Mean: 4.65, Sd: 4.54\r\n",
        "Clipped 'end' reads (/Volumes/web/Mollusk/bs_larvae_exp/Concatenated_Files_R1/T3D3_R1.fastq): Count 164426, Mean: 16.65, Sd: 13.80\r\n",
        "Trimmed 647629 reads (/Volumes/web/Mollusk/bs_larvae_exp/Concatenated_Files_R1/T3D3_R1.fastq) by an average of 10.89 bases on quality < 7\r\n",
        "Clipped 'end' reads (/Volumes/web/Mollusk/bs_larvae_exp/Concatenated_Files_R2/T3D3_R2.fastq): Count 144073, Mean: 17.36, Sd: 13.18\r\n",
        "Trimmed 5076848 reads (/Volumes/web/Mollusk/bs_larvae_exp/Concatenated_Files_R2/T3D3_R2.fastq) by an average of 10.78 bases on quality < 7\r\n"
       ]
      }
     ],
     "prompt_number": 23
    },
    {
     "cell_type": "code",
     "collapsed": false,
     "input": [
      "#variables\n",
      "lib=\"T3D5\""
     ],
     "language": "python",
     "metadata": {},
     "outputs": [],
     "prompt_number": 24
    },
    {
     "cell_type": "code",
     "collapsed": false,
     "input": [
      "!/Volumes/Bay3/Software/ea-utils.1.1.2-537/fastq-mcf \\\n",
      "-o /Volumes/web/cnidarian/mcf_{lib}_R1.fastq \\\n",
      "-o /Volumes/web/cnidarian/mcf_{lib}_R2.fastq \\\n",
      "/Volumes/web/Mollusk/bs_larvae_exp/Adapters_LarvaeSequencingFiles.txt \\\n",
      "/Volumes/web/Mollusk/bs_larvae_exp/Concatenated_Files_R1/{lib}_R1.fastq \\\n",
      "/Volumes/web/Mollusk/bs_larvae_exp/Concatenated_Files_R2/{lib}_R2.fastq"
     ],
     "language": "python",
     "metadata": {},
     "outputs": [
      {
       "output_type": "stream",
       "stream": "stdout",
       "text": [
        "Scale used: 2.2\r\n"
       ]
      },
      {
       "output_type": "stream",
       "stream": "stdout",
       "text": [
        "Phred: 33\r\n"
       ]
      },
      {
       "output_type": "stream",
       "stream": "stdout",
       "text": [
        "Warning: Too much skewing found (76), disabling skew clipping\r\n",
        "Threshold used: 751 out of 300000\r\n",
        "Adapter TruSeq Adapter, Index 3 (100% over 50bp)  (GATCGGAAGAGCACACGTCTGAACTCCAGTCACTTAGGCATCTCGTATGC): counted 2626 at the 'end' of '/Volumes/web/Mollusk/bs_larvae_exp/Concatenated_Files_R1/T3D5_R1.fastq', clip set to 6\r\n",
        "Adapter No Hit (AGAGAGAGAGAGAGAGAGAGAGAGAGAGAGAGAGAGAGAGAGAGAGAGAG): counted 1606 at the 'end' of '/Volumes/web/Mollusk/bs_larvae_exp/Concatenated_Files_R1/T3D5_R1.fastq', clip set to 6\r\n",
        "Adapter TruSeq Adapter, Index 3 (100% over 50bp)  (ATCGGAAGAGCACACGTCTGAACTCCAGTCACTTAGGCATCTCGTATGCC): counted 6629 at the 'end' of '/Volumes/web/Mollusk/bs_larvae_exp/Concatenated_Files_R1/T3D5_R1.fastq', clip set to 4\r\n",
        "Adapter No Hit  (GAGAGAGAGAGAGAGAGAGAGAGAGAGAGAGAGAGAGAGAGAGAGAGAGA): counted 1591 at the 'end' of '/Volumes/web/Mollusk/bs_larvae_exp/Concatenated_Files_R1/T3D5_R1.fastq', clip set to 6\r\n",
        "Adapter Illumina Single End PCR Primer 1 (100% over 50bp)  (GATCGGAAGAGCGTCGTGTAGGGAAAGAGTGTAGATCTCGGTGGTCGCCG): counted 2631 at the 'end' of '/Volumes/web/Mollusk/bs_larvae_exp/Concatenated_Files_R2/T3D5_R2.fastq', clip set to 6\r\n",
        "Adapter No Hit  (TCTCTCTCTCTCTCTCTCTCTCTCTCTCTCTCTCTCTCTCTCTCTCTCTC): counted 2720 at the 'end' of '/Volumes/web/Mollusk/bs_larvae_exp/Concatenated_Files_R2/T3D5_R2.fastq', clip set to 5\r\n",
        "Adapter Illumina Single End PCR Primer 1 (100% over 50bp)  (ATCGGAAGAGCGTCGTGTAGGGAAAGAGTGTAGATCTCGGTGGTCGCCGT): counted 2408 at the 'end' of '/Volumes/web/Mollusk/bs_larvae_exp/Concatenated_Files_R2/T3D5_R2.fastq', clip set to 6\r\n",
        "Adapter Illumina Single End PCR Primer 1 (98% over 50bp) (ATCGGAAGAGCGTCGTGTAGGGAAAGAGGGTAGATCTCGGTGGTCGCCGT): counted 2408 at the 'end' of '/Volumes/web/Mollusk/bs_larvae_exp/Concatenated_Files_R2/T3D5_R2.fastq', clip set to 6\r\n",
        "Adapter TruSeq Adapter, Index 6 (100% over 50bp) (GATCGGAAGAGCACACGTCTGAACTCCAGTCACGCCAATATCTCGTATGC): counted 2626 at the 'end' of '/Volumes/web/Mollusk/bs_larvae_exp/Concatenated_Files_R1/T3D5_R1.fastq', clip set to 6\r\n",
        "Adapter TruSeq Adapter, Index 6 (100% over 50bp) (ATCGGAAGAGCACACGTCTGAACTCCAGTCACGCCAATATCTCGTATGCC): counted 6629 at the 'end' of '/Volumes/web/Mollusk/bs_larvae_exp/Concatenated_Files_R1/T3D5_R1.fastq', clip set to 4\r\n",
        "Adapter Illumina Single End PCR Primer 1 (100% over 50bp) (GATCGGAAGAGCGTCGTGTAGGGAAAGAGTGTAGATCTCGGTGGTCGCCG): counted 2631 at the 'end' of '/Volumes/web/Mollusk/bs_larvae_exp/Concatenated_Files_R2/T3D5_R2.fastq', clip set to 6\r\n",
        "Adapter Illumina Single End PCR Primer 1 (100% over 50bp) (ATCGGAAGAGCGTCGTGTAGGGAAAGAGTGTAGATCTCGGTGGTCGCCGT): counted 2408 at the 'end' of '/Volumes/web/Mollusk/bs_larvae_exp/Concatenated_Files_R2/T3D5_R2.fastq', clip set to 6\r\n",
        "Adapter Illumina Single End PCR Primer 1 (98% over 50bp) (ATCGGAAGAGCGTCGTGTAGGGAAAGAGGGTAGATCTCGGTGGTCGCCGT): counted 2408 at the 'end' of '/Volumes/web/Mollusk/bs_larvae_exp/Concatenated_Files_R2/T3D5_R2.fastq', clip set to 6\r\n",
        "Adapter TruSeq Adapter, Index 4 (100% over 50bp) (GATCGGAAGAGCACACGTCTGAACTCCAGTCACTGACCAATCTCGTATGC): counted 2626 at the 'end' of '/Volumes/web/Mollusk/bs_larvae_exp/Concatenated_Files_R1/T3D5_R1.fastq', clip set to 6\r\n",
        "Adapter TruSeq Adapter, Index 4 (100% over 50bp) (ATCGGAAGAGCACACGTCTGAACTCCAGTCACTGACCAATCTCGTATGCC): counted 6629 at the 'end' of '/Volumes/web/Mollusk/bs_larvae_exp/Concatenated_Files_R1/T3D5_R1.fastq', clip set to 4\r\n",
        "Adapter Illumina Single End PCR Primer 1 (100% over 50bp) (GATCGGAAGAGCGTCGTGTAGGGAAAGAGTGTAGATCTCGGTGGTCGCCG): counted 2631 at the 'end' of '/Volumes/web/Mollusk/bs_larvae_exp/Concatenated_Files_R2/T3D5_R2.fastq', clip set to 6\r\n",
        "Adapter Illumina Single End PCR Primer 1 (100% over 50bp) (ATCGGAAGAGCGTCGTGTAGGGAAAGAGTGTAGATCTCGGTGGTCGCCGT): counted 2408 at the 'end' of '/Volumes/web/Mollusk/bs_larvae_exp/Concatenated_Files_R2/T3D5_R2.fastq', clip set to 6\r\n",
        "Adapter TruSeq Adapter, Index 5 (100% over 50bp) (GATCGGAAGAGCACACGTCTGAACTCCAGTCACACAGTGATCTCGTATGC): counted 2626 at the 'end' of '/Volumes/web/Mollusk/bs_larvae_exp/Concatenated_Files_R1/T3D5_R1.fastq', clip set to 6\r\n",
        "Adapter TruSeq Adapter, Index 5 (100% over 50bp) (ATCGGAAGAGCACACGTCTGAACTCCAGTCACACAGTGATCTCGTATGCC): counted 6629 at the 'end' of '/Volumes/web/Mollusk/bs_larvae_exp/Concatenated_Files_R1/T3D5_R1.fastq', clip set to 4\r\n",
        "Adapter Illumina Single End PCR Primer 1 (100% over 50bp) (GATCGGAAGAGCGTCGTGTAGGGAAAGAGTGTAGATCTCGGTGGTCGCCG): counted 2631 at the 'end' of '/Volumes/web/Mollusk/bs_larvae_exp/Concatenated_Files_R2/T3D5_R2.fastq', clip set to 6\r\n",
        "Adapter Illumina Single End PCR Primer 1 (100% over 50bp) (ATCGGAAGAGCGTCGTGTAGGGAAAGAGTGTAGATCTCGGTGGTCGCCGT): counted 2408 at the 'end' of '/Volumes/web/Mollusk/bs_larvae_exp/Concatenated_Files_R2/T3D5_R2.fastq', clip set to 6\r\n",
        "Adapter TruSeq Adapter, Index 7 (100% over 50bp) (GATCGGAAGAGCACACGTCTGAACTCCAGTCACCAGATCATCTCGTATGC): counted 2626 at the 'end' of '/Volumes/web/Mollusk/bs_larvae_exp/Concatenated_Files_R1/T3D5_R1.fastq', clip set to 6\r\n",
        "Adapter TruSeq Adapter, Index 7 (100% over 50bp) (ATCGGAAGAGCACACGTCTGAACTCCAGTCACCAGATCATCTCGTATGCC): counted 6629 at the 'end' of '/Volumes/web/Mollusk/bs_larvae_exp/Concatenated_Files_R1/T3D5_R1.fastq', clip set to 4\r\n",
        "Adapter Illumina Single End PCR Primer 1 (100% over 50bp) (GATCGGAAGAGCGTCGTGTAGGGAAAGAGTGTAGATCTCGGTGGTCGCCG): counted 2631 at the 'end' of '/Volumes/web/Mollusk/bs_larvae_exp/Concatenated_Files_R2/T3D5_R2.fastq', clip set to 6\r\n",
        "Adapter Illumina Single End PCR Primer 1 (100% over 50bp) (ATCGGAAGAGCGTCGTGTAGGGAAAGAGTGTAGATCTCGGTGGTCGCCGT): counted 2408 at the 'end' of '/Volumes/web/Mollusk/bs_larvae_exp/Concatenated_Files_R2/T3D5_R2.fastq', clip set to 6\r\n",
        "Adapter TruSeq Adapter, Index 8 (100% over 50bp) (GATCGGAAGAGCACACGTCTGAACTCCAGTCACACTTGAATCTCGTATGC): counted 2626 at the 'end' of '/Volumes/web/Mollusk/bs_larvae_exp/Concatenated_Files_R1/T3D5_R1.fastq', clip set to 6\r\n",
        "Adapter TruSeq Adapter, Index 8 (100% over 50bp) (ATCGGAAGAGCACACGTCTGAACTCCAGTCACACTTGAATCTCGTATGCC): counted 6629 at the 'end' of '/Volumes/web/Mollusk/bs_larvae_exp/Concatenated_Files_R1/T3D5_R1.fastq', clip set to 4\r\n",
        "Adapter Illumina Single End PCR Primer 1 (100% over 50bp) (GATCGGAAGAGCGTCGTGTAGGGAAAGAGTGTAGATCTCGGTGGTCGCCG): counted 2631 at the 'end' of '/Volumes/web/Mollusk/bs_larvae_exp/Concatenated_Files_R2/T3D5_R2.fastq', clip set to 6\r\n",
        "Adapter Illumina Single End PCR Primer 1 (100% over 50bp) (ATCGGAAGAGCGTCGTGTAGGGAAAGAGTGTAGATCTCGGTGGTCGCCGT): counted 2408 at the 'end' of '/Volumes/web/Mollusk/bs_larvae_exp/Concatenated_Files_R2/T3D5_R2.fastq', clip set to 6\r\n",
        "Adapter Illumina Single End PCR Primer 1 (98% over 50bp) (ATCGGAAGAGCGTCGTGTAGGGAAAGAGGGTAGATCTCGGTGGTCGCCGT): counted 2408 at the 'end' of '/Volumes/web/Mollusk/bs_larvae_exp/Concatenated_Files_R2/T3D5_R2.fastq', clip set to 6\r\n",
        "Adapter TruSeq Adapter, Index 9 (100% over 50bp) (GATCGGAAGAGCACACGTCTGAACTCCAGTCACGATCAGATCTCGTATGC): counted 2626 at the 'end' of '/Volumes/web/Mollusk/bs_larvae_exp/Concatenated_Files_R1/T3D5_R1.fastq', clip set to 6\r\n",
        "Adapter Illumina Single End PCR Primer 1 (100% over 50bp) (GATCGGAAGAGCGTCGTGTAGGGAAAGAGTGTAGATCTCGGTGGTCGCCG): counted 2631 at the 'end' of '/Volumes/web/Mollusk/bs_larvae_exp/Concatenated_Files_R2/T3D5_R2.fastq', clip set to 6\r\n",
        "Adapter No Hit (AGAGAGAGAGAGAGAGAGAGAGAGAGAGAGAGAGAGAGAGAGAGAGAGAG): counted 1606 at the 'end' of '/Volumes/web/Mollusk/bs_larvae_exp/Concatenated_Files_R1/T3D5_R1.fastq', clip set to 6\r\n",
        "Adapter No Hit  (GAGAGAGAGAGAGAGAGAGAGAGAGAGAGAGAGAGAGAGAGAGAGAGAGA): counted 1591 at the 'end' of '/Volumes/web/Mollusk/bs_larvae_exp/Concatenated_Files_R1/T3D5_R1.fastq', clip set to 6\r\n",
        "Adapter TruSeq Adapter, Index 3 (100% over 50bp) (ATCGGAAGAGCACACGTCTGAACTCCAGTCACTTAGGCATCTCGTATGCC): counted 6629 at the 'end' of '/Volumes/web/Mollusk/bs_larvae_exp/Concatenated_Files_R1/T3D5_R1.fastq', clip set to 4\r\n",
        "Adapter TruSeq Adapter, Index 3 (100% over 50bp) (GATCGGAAGAGCACACGTCTGAACTCCAGTCACTTAGGCATCTCGTATGC): counted 2626 at the 'end' of '/Volumes/web/Mollusk/bs_larvae_exp/Concatenated_Files_R1/T3D5_R1.fastq', clip set to 6\r\n",
        "Adapter No Hit (TCTCTCTCTCTCTCTCTCTCTCTCTCTCTCTCTCTCTCTCTCTCTCTCTC): counted 2720 at the 'end' of '/Volumes/web/Mollusk/bs_larvae_exp/Concatenated_Files_R2/T3D5_R2.fastq', clip set to 5\r\n",
        "Adapter TruSeq Adapter, Index 6 (100% over 50bp) (GATCGGAAGAGCACACGTCTGAACTCCAGTCACGCCAATATCTCGTATGC): counted 2626 at the 'end' of '/Volumes/web/Mollusk/bs_larvae_exp/Concatenated_Files_R1/T3D5_R1.fastq', clip set to 6\r\n",
        "Adapter TruSeq Adapter, Index 6 (100% over 50bp) (ATCGGAAGAGCACACGTCTGAACTCCAGTCACGCCAATATCTCGTATGCC): counted 6629 at the 'end' of '/Volumes/web/Mollusk/bs_larvae_exp/Concatenated_Files_R1/T3D5_R1.fastq', clip set to 4\r\n",
        "Adapter TruSeq Adapter, Index 4 (100% over 50bp) (GATCGGAAGAGCACACGTCTGAACTCCAGTCACTGACCAATCTCGTATGC): counted 2626 at the 'end' of '/Volumes/web/Mollusk/bs_larvae_exp/Concatenated_Files_R1/T3D5_R1.fastq', clip set to 6\r\n",
        "Adapter TruSeq Adapter, Index 5 (100% over 50bp) (GATCGGAAGAGCACACGTCTGAACTCCAGTCACACAGTGATCTCGTATGC): counted 2626 at the 'end' of '/Volumes/web/Mollusk/bs_larvae_exp/Concatenated_Files_R1/T3D5_R1.fastq', clip set to 6\r\n",
        "Adapter TruSeq Adapter, Index 5 (100% over 50bp) (ATCGGAAGAGCACACGTCTGAACTCCAGTCACACAGTGATCTCGTATGCC): counted 6629 at the 'end' of '/Volumes/web/Mollusk/bs_larvae_exp/Concatenated_Files_R1/T3D5_R1.fastq', clip set to 4\r\n",
        "Adapter TruSeq Adapter, Index 7 (100% over 50bp) (GATCGGAAGAGCACACGTCTGAACTCCAGTCACCAGATCATCTCGTATGC): counted 2626 at the 'end' of '/Volumes/web/Mollusk/bs_larvae_exp/Concatenated_Files_R1/T3D5_R1.fastq', clip set to 6\r\n",
        "Adapter TruSeq Adapter, Index 7 (100% over 50bp) (ATCGGAAGAGCACACGTCTGAACTCCAGTCACCAGATCATCTCGTATGCC): counted 6629 at the 'end' of '/Volumes/web/Mollusk/bs_larvae_exp/Concatenated_Files_R1/T3D5_R1.fastq', clip set to 4\r\n",
        "Adapter TruSeq Adapter, Index 8 (100% over 50bp) (GATCGGAAGAGCACACGTCTGAACTCCAGTCACACTTGAATCTCGTATGC): counted 2626 at the 'end' of '/Volumes/web/Mollusk/bs_larvae_exp/Concatenated_Files_R1/T3D5_R1.fastq', clip set to 6\r\n",
        "Adapter TruSeq Adapter, Index 8 (100% over 50bp) (ATCGGAAGAGCACACGTCTGAACTCCAGTCACACTTGAATCTCGTATGCC): counted 6629 at the 'end' of '/Volumes/web/Mollusk/bs_larvae_exp/Concatenated_Files_R1/T3D5_R1.fastq', clip set to 4\r\n",
        "Adapter TruSeq Adapter, Index 9 (100% over 50bp) (GATCGGAAGAGCACACGTCTGAACTCCAGTCACGATCAGATCTCGTATG): counted 2626 at the 'end' of '/Volumes/web/Mollusk/bs_larvae_exp/Concatenated_Files_R1/T3D5_R1.fastq', clip set to 6\r\n"
       ]
      },
      {
       "output_type": "stream",
       "stream": "stdout",
       "text": [
        "Files: 2\r\n"
       ]
      },
      {
       "output_type": "stream",
       "stream": "stdout",
       "text": [
        "Total reads: 7350645\r\n",
        "Too short after clip: 224845\r\n",
        "Clipped 'end' reads (/Volumes/web/Mollusk/bs_larvae_exp/Concatenated_Files_R1/T3D5_R1.fastq): Count 171219, Mean: 18.47, Sd: 13.89\r\n",
        "Trimmed 683973 reads (/Volumes/web/Mollusk/bs_larvae_exp/Concatenated_Files_R1/T3D5_R1.fastq) by an average of 11.34 bases on quality < 7\r\n",
        "Clipped 'end' reads (/Volumes/web/Mollusk/bs_larvae_exp/Concatenated_Files_R2/T3D5_R2.fastq): Count 164649, Mean: 17.84, Sd: 13.46\r\n",
        "Trimmed 3969240 reads (/Volumes/web/Mollusk/bs_larvae_exp/Concatenated_Files_R2/T3D5_R2.fastq) by an average of 11.14 bases on quality < 7\r\n"
       ]
      }
     ],
     "prompt_number": 25
    },
    {
     "cell_type": "code",
     "collapsed": false,
     "input": [],
     "language": "python",
     "metadata": {},
     "outputs": []
    }
   ],
   "metadata": {}
  }
 ]
}