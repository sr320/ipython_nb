{
 "metadata": {
  "name": "",
  "signature": "sha256:92982fcc75979361516d694f4a206c49d9a120d9454d51a5df2252d0db276e56"
 },
 "nbformat": 3,
 "nbformat_minor": 0,
 "worksheets": [
  {
   "cells": [
    {
     "cell_type": "heading",
     "level": 1,
     "metadata": {},
     "source": [
      "SeaStar Data Check"
     ]
    },
    {
     "cell_type": "code",
     "collapsed": false,
     "input": [
      "!ls /Volumes/web/whale/SeaStarRNASeq"
     ],
     "language": "python",
     "metadata": {},
     "outputs": [
      {
       "output_type": "stream",
       "stream": "stdout",
       "text": [
        "3291_5903_10007_H94MGADXX_V_CF71_ATCACG_R1.fastq.gz\r\n",
        "3291_5903_10007_H94MGADXX_V_CF71_ATCACG_R2.fastq.gz\r\n",
        "3291_5903_10008_H94MGADXX_V_CF34_CGATGT_R1.fastq.gz\r\n",
        "3291_5903_10008_H94MGADXX_V_CF34_CGATGT_R2.fastq.gz\r\n",
        "3291_5903_10009_H94MGADXX_V_CF26_TTAGGC_R1.fastq.gz\r\n",
        "3291_5903_10009_H94MGADXX_V_CF26_TTAGGC_R2.fastq.gz\r\n",
        "3291_5903_10010_H94MGADXX_HK_CF2_TGACCA_R1.fastq.gz\r\n",
        "3291_5903_10010_H94MGADXX_HK_CF2_TGACCA_R2.fastq.gz\r\n",
        "3291_5903_10011_H94MGADXX_HK_CF35_ACAGTG_R1.fastq.gz\r\n",
        "3291_5903_10011_H94MGADXX_HK_CF35_ACAGTG_R2.fastq.gz\r\n",
        "3291_5903_10012_H94MGADXX_HK_CF70_GCCAAT_R1.fastq.gz\r\n",
        "3291_5903_10012_H94MGADXX_HK_CF70_GCCAAT_R2.fastq.gz\r\n",
        "\u001b[31mdownload.sh\u001b[m\u001b[m\r\n"
       ]
      }
     ],
     "prompt_number": 1
    },
    {
     "cell_type": "code",
     "collapsed": false,
     "input": [
      "#variables\n",
      "sr=\"/Volumes/web/whale/SeaStarRNASeq/\"\n",
      "\n",
      "go=\"/Volumes/web/cnidarian/\""
     ],
     "language": "python",
     "metadata": {},
     "outputs": [],
     "prompt_number": 1
    },
    {
     "cell_type": "code",
     "collapsed": false,
     "input": [
      "!gzcat {sr}3291_5903_10007_H94MGADXX_V_CF71_ATCACG_R1.fastq.gz > {go}3291_5903_10007_H94MGADXX_V_CF71_ATCACG_R1.fastq"
     ],
     "language": "python",
     "metadata": {},
     "outputs": [],
     "prompt_number": 9
    },
    {
     "cell_type": "code",
     "collapsed": false,
     "input": [
      "!gzcat {sr}3291_5903_10007_H94MGADXX_V_CF71_ATCACG_R2.fastq.gz > {go}3291_5903_10007_H94MGADXX_V_CF71_ATCACG_R2.fastq"
     ],
     "language": "python",
     "metadata": {},
     "outputs": [],
     "prompt_number": 10
    },
    {
     "cell_type": "code",
     "collapsed": false,
     "input": [
      "!gzcat {sr}3291_5903_10008_H94MGADXX_V_CF34_CGATGT_R1.fastq.gz > {go}3291_5903_10008_H94MGADXX_V_CF34_CGATGT_R1.fastq"
     ],
     "language": "python",
     "metadata": {},
     "outputs": [],
     "prompt_number": 11
    },
    {
     "cell_type": "code",
     "collapsed": false,
     "input": [
      "!gzcat {sr}3291_5903_10008_H94MGADXX_V_CF34_CGATGT_R2.fastq.gz > {go}3291_5903_10008_H94MGADXX_V_CF34_CGATGT_R2.fastq"
     ],
     "language": "python",
     "metadata": {},
     "outputs": [],
     "prompt_number": 12
    },
    {
     "cell_type": "code",
     "collapsed": false,
     "input": [
      "!gzcat {sr}3291_5903_10009_H94MGADXX_V_CF26_TTAGGC_R1.fastq.gz > {go}3291_5903_10009_H94MGADXX_V_CF26_TTAGGC_R1.fastq"
     ],
     "language": "python",
     "metadata": {},
     "outputs": [],
     "prompt_number": 13
    },
    {
     "cell_type": "code",
     "collapsed": false,
     "input": [
      "!gzcat {sr}3291_5903_10009_H94MGADXX_V_CF26_TTAGGC_R2.fastq.gz > {go}3291_5903_10009_H94MGADXX_V_CF26_TTAGGC_R2.fastq"
     ],
     "language": "python",
     "metadata": {},
     "outputs": [],
     "prompt_number": 14
    },
    {
     "cell_type": "code",
     "collapsed": false,
     "input": [
      "!gzcat {sr}3291_5903_10010_H94MGADXX_HK_CF2_TGACCA_R1.fastq.gz > {go}3291_5903_10010_H94MGADXX_HK_CF2_TGACCA_R1.fastq"
     ],
     "language": "python",
     "metadata": {},
     "outputs": [],
     "prompt_number": 15
    },
    {
     "cell_type": "code",
     "collapsed": false,
     "input": [
      "!gzcat {sr}3291_5903_10010_H94MGADXX_HK_CF2_TGACCA_R2.fastq.gz > {go}3291_5903_10010_H94MGADXX_HK_CF2_TGACCA_R2.fastq"
     ],
     "language": "python",
     "metadata": {},
     "outputs": [],
     "prompt_number": 16
    },
    {
     "cell_type": "code",
     "collapsed": false,
     "input": [
      "!gzcat {sr}3291_5903_10011_H94MGADXX_HK_CF35_ACAGTG_R1.fastq.gz > {go}3291_5903_10011_H94MGADXX_HK_CF35_ACAGTG_R1.fastq"
     ],
     "language": "python",
     "metadata": {},
     "outputs": [],
     "prompt_number": 17
    },
    {
     "cell_type": "code",
     "collapsed": false,
     "input": [
      "!gzcat {sr}3291_5903_10011_H94MGADXX_HK_CF35_ACAGTG_R2.fastq.gz > {go}3291_5903_10011_H94MGADXX_HK_CF35_ACAGTG_R2.fastq"
     ],
     "language": "python",
     "metadata": {},
     "outputs": [],
     "prompt_number": 18
    },
    {
     "cell_type": "code",
     "collapsed": false,
     "input": [
      "!gzcat {sr}3291_5903_10012_H94MGADXX_HK_CF70_GCCAAT_R1.fastq.gz > {go}3291_5903_10012_H94MGADXX_HK_CF70_GCCAAT_R1.fastq"
     ],
     "language": "python",
     "metadata": {},
     "outputs": [],
     "prompt_number": 19
    },
    {
     "cell_type": "code",
     "collapsed": false,
     "input": [
      "!gzcat {sr}3291_5903_10012_H94MGADXX_HK_CF70_GCCAAT_R2.fastq.gz > {go}3291_5903_10012_H94MGADXX_HK_CF70_GCCAAT_R2.fastq"
     ],
     "language": "python",
     "metadata": {},
     "outputs": [],
     "prompt_number": 20
    },
    {
     "cell_type": "code",
     "collapsed": false,
     "input": [
      "!ls {go}3291*"
     ],
     "language": "python",
     "metadata": {},
     "outputs": [
      {
       "output_type": "stream",
       "stream": "stdout",
       "text": [
        "/Volumes/web/cnidarian/3291_5903_10007_H94MGADXX_V_CF71_ATCACG_R1.fastq\r\n",
        "/Volumes/web/cnidarian/3291_5903_10007_H94MGADXX_V_CF71_ATCACG_R2.fastq\r\n",
        "/Volumes/web/cnidarian/3291_5903_10008_H94MGADXX_V_CF34_CGATGT_R1.fastq\r\n",
        "/Volumes/web/cnidarian/3291_5903_10008_H94MGADXX_V_CF34_CGATGT_R2.fastq\r\n",
        "/Volumes/web/cnidarian/3291_5903_10009_H94MGADXX_V_CF26_TTAGGC_R1.fastq\r\n",
        "/Volumes/web/cnidarian/3291_5903_10009_H94MGADXX_V_CF26_TTAGGC_R2.fastq\r\n",
        "/Volumes/web/cnidarian/3291_5903_10010_H94MGADXX_HK_CF2_TGACCA_R1.fastq\r\n",
        "/Volumes/web/cnidarian/3291_5903_10010_H94MGADXX_HK_CF2_TGACCA_R2.fastq\r\n",
        "/Volumes/web/cnidarian/3291_5903_10011_H94MGADXX_HK_CF35_ACAGTG_R1.fastq\r\n",
        "/Volumes/web/cnidarian/3291_5903_10011_H94MGADXX_HK_CF35_ACAGTG_R2.fastq\r\n",
        "/Volumes/web/cnidarian/3291_5903_10012_H94MGADXX_HK_CF70_GCCAAT_R1.fastq\r\n",
        "/Volumes/web/cnidarian/3291_5903_10012_H94MGADXX_HK_CF70_GCCAAT_R2.fastq\r\n"
       ]
      }
     ],
     "prompt_number": 2
    },
    {
     "cell_type": "heading",
     "level": 2,
     "metadata": {},
     "source": [
      "fastqc"
     ]
    },
    {
     "cell_type": "code",
     "collapsed": false,
     "input": [
      "#more variables\n",
      "s71=\"3291_5903_10007_H94MGADXX_V_CF71_ATCACG_\""
     ],
     "language": "python",
     "metadata": {},
     "outputs": [],
     "prompt_number": 22
    },
    {
     "cell_type": "code",
     "collapsed": false,
     "input": [
      "!/Volumes/Bay3/Software/FastQC/fastqc \\\n",
      "{go}{s71}_R1.fastq \\\n",
      "-q \\\n",
      "-o /Volumes/web/cnidarian/"
     ],
     "language": "python",
     "metadata": {},
     "outputs": [
      {
       "output_type": "stream",
       "stream": "stdout",
       "text": [
        "Skipping '/Volumes/web/cnidarian/3291_5903_10007_H94MGADXX_V_CF71_ATCACG__R1.fastq' which didn't exist, or couldn't be read\r\n"
       ]
      }
     ],
     "prompt_number": 23
    },
    {
     "cell_type": "code",
     "collapsed": false,
     "input": [
      "!echo http://eagle.fish.washington.edu/cnidarian/{s71}R1_fastqc/fastqc_report.html"
     ],
     "language": "python",
     "metadata": {},
     "outputs": [
      {
       "output_type": "stream",
       "stream": "stdout",
       "text": [
        "http://eagle.fish.washington.edu/cnidarian/3291_5903_10007_H94MGADXX_V_CF71_ATCACG__R1_fastqc/fastqc_report.html\r\n"
       ]
      }
     ],
     "prompt_number": 24
    },
    {
     "cell_type": "code",
     "collapsed": false,
     "input": [
      "!sed -n \"/>>Overrepresented/,/>>END_MODULE/p\" /Volumes/web/cnidarian/{s71}R1_fastqc/fastqc_data.txt"
     ],
     "language": "python",
     "metadata": {},
     "outputs": [
      {
       "output_type": "stream",
       "stream": "stdout",
       "text": [
        "sed: /Volumes/web/cnidarian/3291_5903_10007_H94MGADXX_V_CF71_ATCACG_R1_fastqc/fastqc_data.txt: No such file or directory\r\n"
       ]
      }
     ],
     "prompt_number": 25
    },
    {
     "cell_type": "code",
     "collapsed": false,
     "input": [
      "!/Volumes/Bay3/Software/FastQC/fastqc \\\n",
      "{go}{s71}_R2.fastq \\\n",
      "-q \\\n",
      "-o /Volumes/web/cnidarian/"
     ],
     "language": "python",
     "metadata": {},
     "outputs": [
      {
       "output_type": "stream",
       "stream": "stdout",
       "text": [
        "Skipping '/Volumes/web/cnidarian/3291_5903_10007_H94MGADXX_V_CF71_ATCACG__R2.fastq' which didn't exist, or couldn't be read\r\n"
       ]
      }
     ],
     "prompt_number": 26
    },
    {
     "cell_type": "code",
     "collapsed": false,
     "input": [
      "!echo http://eagle.fish.washington.edu/cnidarian/{s71}R2_fastqc/fastqc_report.html"
     ],
     "language": "python",
     "metadata": {},
     "outputs": [
      {
       "output_type": "stream",
       "stream": "stdout",
       "text": [
        "http://eagle.fish.washington.edu/cnidarian/3291_5903_10007_H94MGADXX_V_CF71_ATCACG_R2_fastqc/fastqc_report.html\r\n"
       ]
      }
     ],
     "prompt_number": 27
    },
    {
     "cell_type": "code",
     "collapsed": false,
     "input": [
      "!sed -n \"/>>Overrepresented/,/>>END_MODULE/p\" /Volumes/web/cnidarian/{s71}R2_fastqc/fastqc_data.txt"
     ],
     "language": "python",
     "metadata": {},
     "outputs": [
      {
       "output_type": "stream",
       "stream": "stdout",
       "text": [
        "sed: /Volumes/web/cnidarian/3291_5903_10007_H94MGADXX_V_CF71_ATCACG_R2_fastqc/fastqc_data.txt: No such file or directory\r\n"
       ]
      }
     ],
     "prompt_number": 28
    },
    {
     "cell_type": "code",
     "collapsed": false,
     "input": [],
     "language": "python",
     "metadata": {},
     "outputs": []
    }
   ],
   "metadata": {}
  }
 ]
}