{
 "metadata": {
  "name": "",
  "signature": "sha256:b1301a13d32441d6521993a2d7ba2d67cb72516f3c525d9348a325b532e84d2d"
 },
 "nbformat": 3,
 "nbformat_minor": 0,
 "worksheets": [
  {
   "cells": [
    {
     "cell_type": "markdown",
     "metadata": {},
     "source": [
      "An effort to reproduce the Olson development / lineage paper"
     ]
    },
    {
     "cell_type": "code",
     "collapsed": false,
     "input": [
      "#some things to start - set working directory\n",
      "mywd=\"/Users/sr320/Desktop/\"\n"
     ],
     "language": "python",
     "metadata": {},
     "outputs": [],
     "prompt_number": 1
    },
    {
     "cell_type": "code",
     "collapsed": false,
     "input": [
      "cd {mywd}"
     ],
     "language": "python",
     "metadata": {},
     "outputs": [
      {
       "output_type": "stream",
       "stream": "stdout",
       "text": [
        "/Users/sr320/Desktop\n"
       ]
      }
     ],
     "prompt_number": 2
    },
    {
     "cell_type": "heading",
     "level": 1,
     "metadata": {},
     "source": [
      "Download Quality Trimmed Fastq files"
     ]
    },
    {
     "cell_type": "code",
     "collapsed": false,
     "input": [
      "!wget http://eagle.fish.washington.edu/trilobite/Crassostrea_gigas_HTSdata/BiGo_larvae_cc/BiGo_lar_fastq.tgz"
     ],
     "language": "python",
     "metadata": {},
     "outputs": [
      {
       "output_type": "stream",
       "stream": "stdout",
       "text": [
        "--2014-07-07 14:39:47--  http://eagle.fish.washington.edu/trilobite/Crassostrea_gigas_HTSdata/BiGo_larvae_cc/BiGo_lar_fastq.tgz\r\n",
        "Resolving eagle.fish.washington.edu... "
       ]
      },
      {
       "output_type": "stream",
       "stream": "stdout",
       "text": [
        "128.95.149.81\r\n",
        "Connecting to eagle.fish.washington.edu|128.95.149.81|:80... "
       ]
      },
      {
       "output_type": "stream",
       "stream": "stdout",
       "text": [
        "connected.\r\n",
        "HTTP request sent, awaiting response... "
       ]
      },
      {
       "output_type": "stream",
       "stream": "stdout",
       "text": [
        "200 OK\r\n",
        "Length: 4898503276 (4.6G) [application/x-gzip]\r\n",
        "Saving to: `BiGo_lar_fastq.tgz'\r\n",
        "\r\n",
        "\r",
        " 0% [                                       ] 0           --.-K/s              "
       ]
      },
      {
       "output_type": "stream",
       "stream": "stdout",
       "text": [
        "\r",
        " 0% [                                       ] 1,063,980   5.03M/s              "
       ]
      },
      {
       "output_type": "stream",
       "stream": "stdout",
       "text": [
        "\r",
        " 0% [                                       ] 2,340,640   5.55M/s              "
       ]
      },
      {
       "output_type": "stream",
       "stream": "stdout",
       "text": [
        "\r",
        " 0% [                                       ] 3,731,128   5.91M/s              "
       ]
      },
      {
       "output_type": "stream",
       "stream": "stdout",
       "text": [
        "\r",
        " 0% [                                       ] 5,275,932   6.26M/s              "
       ]
      },
      {
       "output_type": "stream",
       "stream": "stdout",
       "text": [
        "\r",
        " 0% [                                       ] 6,913,740   6.57M/s              "
       ]
      },
      {
       "output_type": "stream",
       "stream": "stdout",
       "text": [
        "\r",
        " 0% [                                       ] 8,405,800   6.36M/s              "
       ]
      },
      {
       "output_type": "stream",
       "stream": "stdout",
       "text": [
        "\r",
        " 0% [                                       ] 10,420,188  6.80M/s              "
       ]
      },
      {
       "output_type": "stream",
       "stream": "stdout",
       "text": [
        "\r",
        " 0% [                                       ] 12,140,436  6.97M/s              "
       ]
      },
      {
       "output_type": "stream",
       "stream": "stdout",
       "text": [
        "\r",
        " 0% [                                       ] 14,109,378  7.23M/s              "
       ]
      },
      {
       "output_type": "stream",
       "stream": "stdout",
       "text": [
        "\r",
        " 0% [                                       ] 15,983,514  7.39M/s              "
       ]
      },
      {
       "output_type": "stream",
       "stream": "stdout",
       "text": [
        "\r",
        " 0% [                                       ] 17,883,756  7.54M/s              "
       ]
      },
      {
       "output_type": "stream",
       "stream": "stdout",
       "text": [
        "\r",
        " 0% [                                       ] 19,808,730  7.67M/s              "
       ]
      },
      {
       "output_type": "stream",
       "stream": "stdout",
       "text": [
        "\r",
        " 0% [                                       ] 21,807,900  7.81M/s              "
       ]
      },
      {
       "output_type": "stream",
       "stream": "stdout",
       "text": [
        "\r",
        " 0% [                                       ] 23,583,108  7.85M/s              "
       ]
      },
      {
       "output_type": "stream",
       "stream": "stdout",
       "text": [
        "\r",
        " 0% [                                       ] 25,421,520  7.91M/s  eta 9m 47s  "
       ]
      },
      {
       "output_type": "stream",
       "stream": "stdout",
       "text": [
        "\r",
        " 0% [                                       ] 27,420,690  8.16M/s  eta 9m 47s  "
       ]
      },
      {
       "output_type": "stream",
       "stream": "stdout",
       "text": [
        "\r",
        " 0% [                                       ] 29,491,308  8.38M/s  eta 9m 47s  "
       ]
      },
      {
       "output_type": "stream",
       "stream": "stdout",
       "text": [
        "\r",
        " 0% [                                       ] 31,478,112  8.55M/s  eta 9m 47s  "
       ]
      },
      {
       "output_type": "stream",
       "stream": "stdout",
       "text": [
        "\r",
        " 0% [                                       ] 33,459,420  8.75M/s  eta 9m 47s  "
       ]
      },
      {
       "output_type": "stream",
       "stream": "stdout",
       "text": [
        "\r",
        " 0% [                                       ] 35,515,848  8.87M/s  eta 9m 17s  "
       ]
      },
      {
       "output_type": "stream",
       "stream": "stdout",
       "text": [
        "\r",
        " 0% [                                       ] 37,497,156  8.98M/s  eta 9m 17s  "
       ]
      },
      {
       "output_type": "stream",
       "stream": "stdout",
       "text": [
        "\r",
        " 0% [                                       ] 39,604,872  9.23M/s  eta 9m 17s  "
       ]
      },
      {
       "output_type": "stream",
       "stream": "stdout",
       "text": [
        "\r",
        " 0% [                                       ] 41,751,060  9.37M/s  eta 9m 17s  "
       ]
      },
      {
       "output_type": "stream",
       "stream": "stdout",
       "text": [
        "\r",
        " 0% [                                       ] 43,827,174  9.41M/s  eta 9m 17s  "
       ]
      },
      {
       "output_type": "stream",
       "stream": "stdout",
       "text": [
        "\r",
        " 0% [                                       ] 45,807,108  9.45M/s  eta 8m 57s  "
       ]
      },
      {
       "output_type": "stream",
       "stream": "stdout",
       "text": [
        "\r",
        " 0% [                                       ] 47,843,376  9.50M/s  eta 8m 57s  "
       ]
      },
      {
       "output_type": "stream",
       "stream": "stdout",
       "text": [
        "\r",
        " 1% [                                       ] 49,945,596  9.54M/s  eta 8m 57s  "
       ]
      },
      {
       "output_type": "stream",
       "stream": "stdout",
       "text": [
        "\r",
        " 1% [                                       ] 52,116,516  9.60M/s  eta 8m 57s  "
       ]
      },
      {
       "output_type": "stream",
       "stream": "stdout",
       "text": [
        "\r",
        " 1% [                                       ] 54,312,168  9.68M/s  eta 8m 57s  "
       ]
      },
      {
       "output_type": "stream",
       "stream": "stdout",
       "text": [
        "\r",
        " 1% [                                       ] 56,500,950  9.87M/s  eta 8m 40s  "
       ]
      },
      {
       "output_type": "stream",
       "stream": "stdout",
       "text": [
        "\r",
        " 1% [                                       ] 58,697,976  9.91M/s  eta 8m 40s  "
       ]
      },
      {
       "output_type": "stream",
       "stream": "stdout",
       "text": [
        "\r",
        " 1% [                                       ] 60,896,376  9.96M/s  eta 8m 40s  "
       ]
      },
      {
       "output_type": "stream",
       "stream": "stdout",
       "text": [
        "\r",
        " 1% [                                       ] 63,093,402  10.0M/s  eta 8m 40s  "
       ]
      },
      {
       "output_type": "stream",
       "stream": "stdout",
       "text": [
        "\r",
        " 1% [                                       ] 65,348,136  10.1M/s  eta 8m 40s  "
       ]
      },
      {
       "output_type": "stream",
       "stream": "stdout",
       "text": [
        "\r",
        " 1% [                                       ] 67,571,268  10.2M/s  eta 8m 26s  "
       ]
      },
      {
       "output_type": "stream",
       "stream": "stdout",
       "text": [
        "\r",
        " 1% [                                       ] 69,841,116  10.2M/s  eta 8m 26s  "
       ]
      },
      {
       "output_type": "stream",
       "stream": "stdout",
       "text": [
        "\r",
        " 1% [                                       ] 72,095,850  10.3M/s  eta 8m 26s  "
       ]
      },
      {
       "output_type": "stream",
       "stream": "stdout",
       "text": [
        "\r",
        " 1% [                                       ] 74,368,446  10.3M/s  eta 8m 26s  "
       ]
      },
      {
       "output_type": "stream",
       "stream": "stdout",
       "text": [
        "\r",
        " 1% [                                       ] 76,620,432  10.4M/s  eta 8m 26s  "
       ]
      },
      {
       "output_type": "stream",
       "stream": "stdout",
       "text": [
        "\r",
        " 1% [                                       ] 78,217,020  10.3M/s  eta 8m 18s  "
       ]
      },
      {
       "output_type": "stream",
       "stream": "stdout",
       "text": [
        "\r",
        " 1% [                                       ] 79,441,254  10.0M/s  eta 8m 18s  "
       ]
      },
      {
       "output_type": "stream",
       "stream": "stdout",
       "text": [
        "\r",
        " 1% [                                       ] 80,727,318  9.76M/s  eta 8m 18s  "
       ]
      },
      {
       "output_type": "stream",
       "stream": "stdout",
       "text": [
        "\r",
        " 1% [                                       ] 82,069,716  9.50M/s  eta 8m 18s  "
       ]
      },
      {
       "output_type": "stream",
       "stream": "stdout",
       "text": [
        "\r",
        " 1% [                                       ] 83,559,132  9.30M/s  eta 8m 18s  "
       ]
      },
      {
       "output_type": "stream",
       "stream": "stdout",
       "text": [
        "\r",
        " 1% [                                       ] 85,102,134  9.12M/s  eta 8m 33s  "
       ]
      },
      {
       "output_type": "stream",
       "stream": "stdout",
       "text": [
        "\r",
        " 1% [                                       ] 86,709,714  8.89M/s  eta 8m 33s  "
       ]
      },
      {
       "output_type": "stream",
       "stream": "stdout",
       "text": [
        "\r",
        " 1% [                                       ] 88,387,368  8.75M/s  eta 8m 33s  "
       ]
      },
      {
       "output_type": "stream",
       "stream": "stdout",
       "text": [
        "\r",
        " 1% [                                       ] 90,161,202  8.65M/s  eta 8m 33s  "
       ]
      },
      {
       "output_type": "stream",
       "stream": "stdout",
       "text": [
        "\r",
        " 1% [                                       ] 91,899,312  8.43M/s  eta 8m 33s  "
       ]
      },
      {
       "output_type": "stream",
       "stream": "stdout",
       "text": [
        "\r",
        " 1% [                                       ] 93,702,000  8.34M/s  eta 8m 37s  "
       ]
      },
      {
       "output_type": "stream",
       "stream": "stdout",
       "text": [
        "\r",
        " 1% [                                       ] 95,427,744  8.21M/s  eta 8m 37s  "
       ]
      },
      {
       "output_type": "stream",
       "stream": "stdout",
       "text": [
        "\r",
        " 1% [                                       ] 97,213,944  7.98M/s  eta 8m 37s  "
       ]
      },
      {
       "output_type": "stream",
       "stream": "stdout",
       "text": [
        "\r",
        " 2% [                                       ] 98,965,794  7.87M/s  eta 8m 37s  "
       ]
      },
      {
       "output_type": "stream",
       "stream": "stdout",
       "text": [
        "\r",
        " 2% [                                       ] 100,687,416 7.76M/s  eta 8m 37s  "
       ]
      },
      {
       "output_type": "stream",
       "stream": "stdout",
       "text": [
        "\r",
        " 2% [                                       ] 102,404,916 7.66M/s  eta 8m 39s  "
       ]
      },
      {
       "output_type": "stream",
       "stream": "stdout",
       "text": [
        "\r",
        " 2% [                                       ] 104,235,084 7.82M/s  eta 8m 39s  "
       ]
      },
      {
       "output_type": "stream",
       "stream": "stdout",
       "text": [
        "\r",
        " 2% [                                       ] 106,072,122 7.97M/s  eta 8m 39s  "
       ]
      },
      {
       "output_type": "stream",
       "stream": "stdout",
       "text": [
        "\r",
        " 2% [                                       ] 107,885,802 8.18M/s  eta 8m 39s  "
       ]
      },
      {
       "output_type": "stream",
       "stream": "stdout",
       "text": [
        "\r",
        " 2% [                                       ] 109,846,396 8.33M/s  eta 8m 39s  "
       ]
      },
      {
       "output_type": "stream",
       "stream": "stdout",
       "text": [
        "\r",
        " 2% [                                       ] 111,830,556 8.44M/s  eta 8m 37s  "
       ]
      },
      {
       "output_type": "stream",
       "stream": "stdout",
       "text": [
        "\r",
        " 2% [                                       ] 113,783,010 8.59M/s  eta 8m 37s  "
       ]
      },
      {
       "output_type": "stream",
       "stream": "stdout",
       "text": [
        "\r",
        " 2% [                                       ] 115,716,228 8.66M/s  eta 8m 37s  "
       ]
      },
      {
       "output_type": "stream",
       "stream": "stdout",
       "text": [
        "\r",
        " 2% [                                       ] 117,679,674 8.72M/s  eta 8m 37s  "
       ]
      },
      {
       "output_type": "stream",
       "stream": "stdout",
       "text": [
        "\r",
        " 2% [                                       ] 119,560,680 8.77M/s  eta 8m 37s  "
       ]
      },
      {
       "output_type": "stream",
       "stream": "stdout",
       "text": [
        "\r",
        " 2% [                                       ] 121,436,190 8.79M/s  eta 8m 35s  "
       ]
      },
      {
       "output_type": "stream",
       "stream": "stdout",
       "text": [
        "\r",
        " 2% [                                       ] 123,387,270 8.84M/s  eta 8m 35s  "
       ]
      },
      {
       "output_type": "stream",
       "stream": "stdout",
       "text": [
        "\r",
        " 2% [                                       ] 125,455,140 8.96M/s  eta 8m 35s  "
       ]
      },
      {
       "output_type": "stream",
       "stream": "stdout",
       "text": [
        "\r",
        " 2% [>                                      ] 127,580,718 9.05M/s  eta 8m 35s  "
       ]
      },
      {
       "output_type": "stream",
       "stream": "stdout",
       "text": [
        "\r",
        " 2% [>                                      ] 129,703,548 9.17M/s  eta 8m 35s  "
       ]
      },
      {
       "output_type": "stream",
       "stream": "stdout",
       "text": [
        "\r",
        " 2% [>                                      ] 131,892,330 9.35M/s  eta 8m 29s  "
       ]
      },
      {
       "output_type": "stream",
       "stream": "stdout",
       "text": [
        "\r",
        " 2% [>                                      ] 133,858,524 9.38M/s  eta 8m 29s  "
       ]
      },
      {
       "output_type": "stream",
       "stream": "stdout",
       "text": [
        "\r",
        " 2% [>                                      ] 136,102,266 9.49M/s  eta 8m 29s  "
       ]
      },
      {
       "output_type": "stream",
       "stream": "stdout",
       "text": [
        "\r",
        " 2% [>                                      ] 138,249,828 9.63M/s  eta 8m 29s  "
       ]
      },
      {
       "output_type": "stream",
       "stream": "stdout",
       "text": [
        "\r",
        " 2% [>                                      ] 140,343,804 9.65M/s  eta 8m 29s  "
       ]
      },
      {
       "output_type": "stream",
       "stream": "stdout",
       "text": [
        "\r",
        " 2% [>                                      ] 142,605,408 9.74M/s  eta 8m 23s  "
       ]
      },
      {
       "output_type": "stream",
       "stream": "stdout",
       "text": [
        "\r",
        " 2% [>                                      ] 144,856,020 9.84M/s  eta 8m 23s  "
       ]
      },
      {
       "output_type": "stream",
       "stream": "stdout",
       "text": [
        "\r",
        " 3% [>                                      ] 147,099,762 9.96M/s  eta 8m 23s  "
       ]
      },
      {
       "output_type": "stream",
       "stream": "stdout",
       "text": [
        "\r",
        " 3% [>                                      ] 149,353,122 10.1M/s  eta 8m 23s  "
       ]
      },
      {
       "output_type": "stream",
       "stream": "stdout",
       "text": [
        "\r",
        " 3% [>                                      ] 151,595,490 10.1M/s  eta 8m 23s  "
       ]
      },
      {
       "output_type": "stream",
       "stream": "stdout",
       "text": [
        "\r",
        " 3% [>                                      ] 153,858,468 10.3M/s  eta 8m 16s  "
       ]
      },
      {
       "output_type": "stream",
       "stream": "stdout",
       "text": [
        "\r",
        " 3% [>                                      ] 155,577,342 10.2M/s  eta 8m 16s  "
       ]
      },
      {
       "output_type": "stream",
       "stream": "stdout",
       "text": [
        "\r",
        " 3% [>                                      ] 156,804,324 9.94M/s  eta 8m 16s  "
       ]
      },
      {
       "output_type": "stream",
       "stream": "stdout",
       "text": [
        "\r",
        " 3% [>                                      ] 158,132,982 9.71M/s  eta 8m 16s  "
       ]
      },
      {
       "output_type": "stream",
       "stream": "stdout",
       "text": [
        "\r",
        " 3% [>                                      ] 159,452,022 9.45M/s  eta 8m 16s  "
       ]
      },
      {
       "output_type": "stream",
       "stream": "stdout",
       "text": [
        "\r",
        " 3% [>                                      ] 160,731,216 9.22M/s  eta 8m 24s  "
       ]
      },
      {
       "output_type": "stream",
       "stream": "stdout",
       "text": [
        "\r",
        " 3% [>                                      ] 162,143,688 8.98M/s  eta 8m 24s  "
       ]
      },
      {
       "output_type": "stream",
       "stream": "stdout",
       "text": [
        "\r",
        " 3% [>                                      ] 163,734,780 8.83M/s  eta 8m 24s  "
       ]
      },
      {
       "output_type": "stream",
       "stream": "stdout",
       "text": [
        "\r",
        " 3% [>                                      ] 165,349,230 8.69M/s  eta 8m 24s  "
       ]
      },
      {
       "output_type": "stream",
       "stream": "stdout",
       "text": [
        "\r",
        " 3% [>                                      ] 167,013,144 8.50M/s  eta 8m 24s  "
       ]
      },
      {
       "output_type": "stream",
       "stream": "stdout",
       "text": [
        "\r",
        " 3% [>                                      ] 168,755,376 8.38M/s  eta 8m 27s  "
       ]
      },
      {
       "output_type": "stream",
       "stream": "stdout",
       "text": [
        "\r",
        " 3% [>                                      ] 170,457,762 8.25M/s  eta 8m 27s  "
       ]
      },
      {
       "output_type": "stream",
       "stream": "stdout",
       "text": [
        "\r",
        " 3% [>                                      ] 172,242,588 8.03M/s  eta 8m 27s  "
       ]
      },
      {
       "output_type": "stream",
       "stream": "stdout",
       "text": [
        "\r",
        " 3% [>                                      ] 174,258,246 7.99M/s  eta 8m 27s  "
       ]
      },
      {
       "output_type": "stream",
       "stream": "stdout",
       "text": [
        "\r",
        " 3% [>                                      ] 176,357,718 7.99M/s  eta 8m 27s  "
       ]
      },
      {
       "output_type": "stream",
       "stream": "stdout",
       "text": [
        "\r",
        " 3% [>                                      ] 178,411,848 7.84M/s  eta 8m 25s  "
       ]
      },
      {
       "output_type": "stream",
       "stream": "stdout",
       "text": [
        "\r",
        " 3% [>                                      ] 180,393,156 7.93M/s  eta 8m 25s  "
       ]
      },
      {
       "output_type": "stream",
       "stream": "stdout",
       "text": [
        "\r",
        " 3% [>                                      ] 182,500,768 8.06M/s  eta 8m 25s  "
       ]
      },
      {
       "output_type": "stream",
       "stream": "stdout",
       "text": [
        "\r",
        " 3% [>                                      ] 184,616,832 8.38M/s  eta 8m 25s  "
       ]
      },
      {
       "output_type": "stream",
       "stream": "stdout",
       "text": [
        "\r",
        " 3% [>                                      ] 186,747,906 8.65M/s  eta 8m 25s  "
       ]
      },
      {
       "output_type": "stream",
       "stream": "stdout",
       "text": [
        "\r",
        " 3% [>                                      ] 188,876,232 8.82M/s  eta 8m 21s  "
       ]
      },
      {
       "output_type": "stream",
       "stream": "stdout",
       "text": [
        "\r",
        " 3% [>                                      ] 191,059,518 9.15M/s  eta 8m 21s  "
       ]
      },
      {
       "output_type": "stream",
       "stream": "stdout",
       "text": [
        "\r",
        " 3% [>                                      ] 193,212,576 9.31M/s  eta 8m 21s  "
       ]
      },
      {
       "output_type": "stream",
       "stream": "stdout",
       "text": [
        "\r",
        " 3% [>                                      ] 195,369,756 9.45M/s  eta 8m 21s  "
       ]
      },
      {
       "output_type": "stream",
       "stream": "stdout",
       "text": [
        "\r",
        " 4% [>                                      ] 197,533,806 9.67M/s  eta 8m 21s  "
       ]
      },
      {
       "output_type": "stream",
       "stream": "stdout",
       "text": [
        "\r",
        " 4% [>                                      ] 199,690,986 9.78M/s  eta 8m 16s  "
       ]
      },
      {
       "output_type": "stream",
       "stream": "stdout",
       "text": [
        "\r",
        " 4% [>                                      ] 201,885,264 9.93M/s  eta 8m 16s  "
       ]
      },
      {
       "output_type": "stream",
       "stream": "stdout",
       "text": [
        "\r",
        " 4% [>                                      ] 204,021,834 10.1M/s  eta 8m 16s  "
       ]
      },
      {
       "output_type": "stream",
       "stream": "stdout",
       "text": [
        "\r",
        " 4% [>                                      ] 206,213,364 10.1M/s  eta 8m 16s  "
       ]
      },
      {
       "output_type": "stream",
       "stream": "stdout",
       "text": [
        "\r",
        " 4% [>                                      ] 208,404,894 10.2M/s  eta 8m 16s  "
       ]
      },
      {
       "output_type": "stream",
       "stream": "stdout",
       "text": [
        "\r",
        " 4% [>                                      ] 210,630,774 10.2M/s  eta 8m 12s  "
       ]
      },
      {
       "output_type": "stream",
       "stream": "stdout",
       "text": [
        "\r",
        " 4% [>                                      ] 212,831,922 10.3M/s  eta 8m 12s  "
       ]
      },
      {
       "output_type": "stream",
       "stream": "stdout",
       "text": [
        "\r",
        " 4% [>                                      ] 214,943,760 10.3M/s  eta 8m 12s  "
       ]
      },
      {
       "output_type": "stream",
       "stream": "stdout",
       "text": [
        "\r",
        " 4% [>                                      ] 217,066,590 10.3M/s  eta 8m 12s  "
       ]
      },
      {
       "output_type": "stream",
       "stream": "stdout",
       "text": [
        "\r",
        " 4% [>                                      ] 219,212,778 10.3M/s  eta 8m 12s  "
       ]
      },
      {
       "output_type": "stream",
       "stream": "stdout",
       "text": [
        "\r",
        " 4% [>                                      ] 221,442,780 10.3M/s  eta 8m 8s   "
       ]
      },
      {
       "output_type": "stream",
       "stream": "stdout",
       "text": [
        "\r",
        " 4% [>                                      ] 223,654,920 10.3M/s  eta 8m 8s   "
       ]
      },
      {
       "output_type": "stream",
       "stream": "stdout",
       "text": [
        "\r",
        " 4% [>                                      ] 225,880,800 10.3M/s  eta 8m 8s   "
       ]
      },
      {
       "output_type": "stream",
       "stream": "stdout",
       "text": [
        "\r",
        " 4% [>                                      ] 228,127,290 10.4M/s  eta 8m 8s   "
       ]
      },
      {
       "output_type": "stream",
       "stream": "stdout",
       "text": [
        "\r",
        " 4% [>                                      ] 230,314,698 10.4M/s  eta 8m 8s   "
       ]
      },
      {
       "output_type": "stream",
       "stream": "stdout",
       "text": [
        "\r",
        " 4% [>                                      ] 232,524,090 10.4M/s  eta 8m 4s   "
       ]
      },
      {
       "output_type": "stream",
       "stream": "stdout",
       "text": [
        "\r",
        " 4% [>                                      ] 234,641,424 10.4M/s  eta 8m 4s   "
       ]
      },
      {
       "output_type": "stream",
       "stream": "stdout",
       "text": [
        "\r",
        " 4% [>                                      ] 236,626,854 10.3M/s  eta 8m 4s   "
       ]
      },
      {
       "output_type": "stream",
       "stream": "stdout",
       "text": [
        "\r",
        " 4% [>                                      ] 238,609,536 10.3M/s  eta 8m 4s   "
       ]
      },
      {
       "output_type": "stream",
       "stream": "stdout",
       "text": [
        "\r",
        " 4% [>                                      ] 240,836,790 10.3M/s  eta 8m 4s   "
       ]
      },
      {
       "output_type": "stream",
       "stream": "stdout",
       "text": [
        "\r",
        " 4% [>                                      ] 243,084,654 10.3M/s  eta 8m 1s   "
       ]
      },
      {
       "output_type": "stream",
       "stream": "stdout",
       "text": [
        "\r",
        " 5% [>                                      ] 245,338,014 10.3M/s  eta 8m 1s   "
       ]
      },
      {
       "output_type": "stream",
       "stream": "stdout",
       "text": [
        "\r",
        " 5% [>                                      ] 247,599,618 10.3M/s  eta 8m 1s   "
       ]
      },
      {
       "output_type": "stream",
       "stream": "stdout",
       "text": [
        "\r",
        " 5% [>                                      ] 249,413,298 10.2M/s  eta 8m 1s   "
       ]
      },
      {
       "output_type": "stream",
       "stream": "stdout",
       "text": [
        "\r",
        " 5% [=>                                     ] 251,680,398 10.3M/s  eta 8m 1s   "
       ]
      },
      {
       "output_type": "stream",
       "stream": "stdout",
       "text": [
        "\r",
        " 5% [=>                                     ] 253,943,376 10.3M/s  eta 7m 58s  "
       ]
      },
      {
       "output_type": "stream",
       "stream": "stdout",
       "text": [
        "\r",
        " 5% [=>                                     ] 256,180,248 10.3M/s  eta 7m 58s  "
       ]
      },
      {
       "output_type": "stream",
       "stream": "stdout",
       "text": [
        "\r",
        " 5% [=>                                     ] 258,459,714 10.3M/s  eta 7m 58s  "
       ]
      },
      {
       "output_type": "stream",
       "stream": "stdout",
       "text": [
        "\r",
        " 5% [=>                                     ] 260,715,822 10.3M/s  eta 7m 58s  "
       ]
      },
      {
       "output_type": "stream",
       "stream": "stdout",
       "text": [
        "\r",
        " 5% [=>                                     ] 262,974,678 10.4M/s  eta 7m 58s  "
       ]
      },
      {
       "output_type": "stream",
       "stream": "stdout",
       "text": [
        "\r",
        " 5% [=>                                     ] 265,228,038 10.4M/s  eta 7m 54s  "
       ]
      },
      {
       "output_type": "stream",
       "stream": "stdout",
       "text": [
        "\r",
        " 5% [=>                                     ] 267,365,462 10.3M/s  eta 7m 54s  "
       ]
      },
      {
       "output_type": "stream",
       "stream": "stdout",
       "text": [
        "\r",
        " 5% [=>                                     ] 268,616,322 10.1M/s  eta 7m 54s  "
       ]
      },
      {
       "output_type": "stream",
       "stream": "stdout",
       "text": [
        "\r",
        " 5% [=>                                     ] 270,124,974 10.0M/s  eta 7m 54s  "
       ]
      },
      {
       "output_type": "stream",
       "stream": "stdout",
       "text": [
        "\r",
        " 5% [=>                                     ] 271,714,692 9.83M/s  eta 7m 54s  "
       ]
      },
      {
       "output_type": "stream",
       "stream": "stdout",
       "text": [
        "\r",
        " 5% [=>                                     ] 273,430,818 9.64M/s  eta 7m 56s  "
       ]
      },
      {
       "output_type": "stream",
       "stream": "stdout",
       "text": [
        "\r",
        " 5% [=>                                     ] 275,234,880 9.51M/s  eta 7m 56s  "
       ]
      },
      {
       "output_type": "stream",
       "stream": "stdout",
       "text": [
        "\r",
        " 5% [=>                                     ] 277,132,374 9.43M/s  eta 7m 56s  "
       ]
      },
      {
       "output_type": "stream",
       "stream": "stdout",
       "text": [
        "\r",
        " 5% [=>                                     ] 279,028,494 9.41M/s  eta 7m 56s  "
       ]
      },
      {
       "output_type": "stream",
       "stream": "stdout",
       "text": [
        "\r",
        " 5% [=>                                     ] 280,946,598 9.32M/s  eta 7m 56s  "
       ]
      },
      {
       "output_type": "stream",
       "stream": "stdout",
       "text": [
        "\r",
        " 5% [=>                                     ] 282,916,914 9.26M/s  eta 7m 55s  "
       ]
      },
      {
       "output_type": "stream",
       "stream": "stdout",
       "text": [
        "\r",
        " 5% [=>                                     ] 285,021,882 9.16M/s  eta 7m 55s  "
       ]
      },
      {
       "output_type": "stream",
       "stream": "stdout",
       "text": [
        "\r",
        " 5% [=>                                     ] 287,067,768 9.12M/s  eta 7m 55s  "
       ]
      },
      {
       "output_type": "stream",
       "stream": "stdout",
       "text": [
        "\r",
        " 5% [=>                                     ] 289,167,240 9.10M/s  eta 7m 55s  "
       ]
      },
      {
       "output_type": "stream",
       "stream": "stdout",
       "text": [
        "\r",
        " 5% [=>                                     ] 291,204,882 8.97M/s  eta 7m 55s  "
       ]
      },
      {
       "output_type": "stream",
       "stream": "stdout",
       "text": [
        "\r",
        " 5% [=>                                     ] 293,216,418 8.92M/s  eta 7m 53s  "
       ]
      },
      {
       "output_type": "stream",
       "stream": "stdout",
       "text": [
        "\r",
        " 6% [=>                                     ] 295,259,556 8.89M/s  eta 7m 53s  "
       ]
      },
      {
       "output_type": "stream",
       "stream": "stdout",
       "text": [
        "\r",
        " 6% [=>                                     ] 297,324,678 9.10M/s  eta 7m 53s  "
       ]
      },
      {
       "output_type": "stream",
       "stream": "stdout",
       "text": [
        "\r",
        " 6% [=>                                     ] 299,496,972 9.28M/s  eta 7m 53s  "
       ]
      },
      {
       "output_type": "stream",
       "stream": "stdout",
       "text": [
        "\r",
        " 6% [=>                                     ] 301,645,908 9.43M/s  eta 7m 53s  "
       ]
      },
      {
       "output_type": "stream",
       "stream": "stdout",
       "text": [
        "\r",
        " 6% [=>                                     ] 303,809,958 9.63M/s  eta 7m 51s  "
       ]
      },
      {
       "output_type": "stream",
       "stream": "stdout",
       "text": [
        "\r",
        " 6% [=>                                     ] 305,971,260 9.73M/s  eta 7m 51s  "
       ]
      },
      {
       "output_type": "stream",
       "stream": "stdout",
       "text": [
        "\r",
        " 6% [=>                                     ] 308,124,318 9.80M/s  eta 7m 51s  "
       ]
      },
      {
       "output_type": "stream",
       "stream": "stdout",
       "text": [
        "\r",
        " 6% [=>                                     ] 310,315,848 9.93M/s  eta 7m 51s  "
       ]
      },
      {
       "output_type": "stream",
       "stream": "stdout",
       "text": [
        "\r",
        " 6% [=>                                     ] 312,490,890 10.0M/s  eta 7m 51s  "
       ]
      },
      {
       "output_type": "stream",
       "stream": "stdout",
       "text": [
        "\r",
        " 6% [=>                                     ] 314,705,778 10.1M/s  eta 7m 48s  "
       ]
      },
      {
       "output_type": "stream",
       "stream": "stdout",
       "text": [
        "\r",
        " 6% [=>                                     ] 316,968,756 10.1M/s  eta 7m 48s  "
       ]
      },
      {
       "output_type": "stream",
       "stream": "stdout",
       "text": [
        "\r",
        " 6% [=>                                     ] 319,227,612 10.2M/s  eta 7m 48s  "
       ]
      },
      {
       "output_type": "stream",
       "stream": "stdout",
       "text": [
        "\r",
        " 6% [=>                                     ] 321,460,258 10.2M/s  eta 7m 48s  "
       ]
      },
      {
       "output_type": "stream",
       "stream": "stdout",
       "text": [
        "\r",
        " 6% [=>                                     ] 323,671,128 10.3M/s  eta 7m 48s  "
       ]
      },
      {
       "output_type": "stream",
       "stream": "stdout",
       "text": [
        "\r",
        " 6% [=>                                     ] 325,920,366 10.3M/s  eta 7m 45s  "
       ]
      },
      {
       "output_type": "stream",
       "stream": "stdout",
       "text": [
        "\r",
        " 6% [=>                                     ] 328,190,214 10.4M/s  eta 7m 45s  "
       ]
      },
      {
       "output_type": "stream",
       "stream": "stdout",
       "text": [
        "\r",
        " 6% [=>                                     ] 330,444,948 10.5M/s  eta 7m 45s  "
       ]
      },
      {
       "output_type": "stream",
       "stream": "stdout",
       "text": [
        "\r",
        " 6% [=>                                     ] 332,701,056 10.5M/s  eta 7m 45s  "
       ]
      },
      {
       "output_type": "stream",
       "stream": "stdout",
       "text": [
        "\r",
        " 6% [=>                                     ] 334,964,034 10.6M/s  eta 7m 45s  "
       ]
      },
      {
       "output_type": "stream",
       "stream": "stdout",
       "text": [
        "\r",
        " 6% [=>                                     ] 337,217,394 10.6M/s  eta 7m 42s  "
       ]
      },
      {
       "output_type": "stream",
       "stream": "stdout",
       "text": [
        "\r",
        " 6% [=>                                     ] 339,488,512 10.6M/s  eta 7m 42s  "
       ]
      },
      {
       "output_type": "stream",
       "stream": "stdout",
       "text": [
        "\r",
        " 6% [=>                                     ] 341,744,724 10.6M/s  eta 7m 42s  "
       ]
      },
      {
       "output_type": "stream",
       "stream": "stdout",
       "text": [
        "\r",
        " 7% [=>                                     ] 344,014,468 10.7M/s  eta 7m 42s  "
       ]
      },
      {
       "output_type": "stream",
       "stream": "stdout",
       "text": [
        "\r",
        " 7% [=>                                     ] 346,023,256 10.4M/s  eta 7m 42s  "
       ]
      },
      {
       "output_type": "stream",
       "stream": "stdout",
       "text": [
        "\r",
        " 7% [=>                                     ] 348,247,658 10.4M/s  eta 7m 40s  "
       ]
      },
      {
       "output_type": "stream",
       "stream": "stdout",
       "text": [
        "\r",
        " 7% [=>                                     ] 350,934,036 10.5M/s  eta 7m 40s  "
       ]
      },
      {
       "output_type": "stream",
       "stream": "stdout",
       "text": [
        "\r",
        " 7% [=>                                     ] 352,839,774 10.4M/s  eta 7m 40s  "
       ]
      },
      {
       "output_type": "stream",
       "stream": "stdout",
       "text": [
        "\r",
        " 7% [=>                                     ] 354,491,322 10.2M/s  eta 7m 40s  "
       ]
      },
      {
       "output_type": "stream",
       "stream": "stdout",
       "text": [
        "\r",
        " 7% [=>                                     ] 355,854,330 9.92M/s  eta 7m 40s  "
       ]
      },
      {
       "output_type": "stream",
       "stream": "stdout",
       "text": [
        "\r",
        " 7% [=>                                     ] 357,358,756 9.70M/s  eta 7m 40s  "
       ]
      },
      {
       "output_type": "stream",
       "stream": "stdout",
       "text": [
        "\r",
        " 7% [=>                                     ] 359,025,522 9.48M/s  eta 7m 40s  "
       ]
      },
      {
       "output_type": "stream",
       "stream": "stdout",
       "text": [
        "\r",
        " 7% [=>                                     ] 360,682,566 9.32M/s  eta 7m 40s  "
       ]
      },
      {
       "output_type": "stream",
       "stream": "stdout",
       "text": [
        "\r",
        " 7% [=>                                     ] 362,405,562 9.18M/s  eta 7m 40s  "
       ]
      },
      {
       "output_type": "stream",
       "stream": "stdout",
       "text": [
        "\r",
        " 7% [=>                                     ] 364,169,778 8.97M/s  eta 7m 40s  "
       ]
      },
      {
       "output_type": "stream",
       "stream": "stdout",
       "text": [
        "\r",
        " 7% [=>                                     ] 366,027,426 8.88M/s  eta 7m 41s  "
       ]
      },
      {
       "output_type": "stream",
       "stream": "stdout",
       "text": [
        "\r",
        " 7% [=>                                     ] 367,901,562 8.79M/s  eta 7m 41s  "
       ]
      },
      {
       "output_type": "stream",
       "stream": "stdout",
       "text": [
        "\r",
        " 7% [=>                                     ] 369,829,284 8.63M/s  eta 7m 41s  "
       ]
      },
      {
       "output_type": "stream",
       "stream": "stdout",
       "text": [
        "\r",
        " 7% [=>                                     ] 371,822,958 8.57M/s  eta 7m 41s  "
       ]
      },
      {
       "output_type": "stream",
       "stream": "stdout",
       "text": [
        "\r",
        " 7% [=>                                     ] 373,831,746 8.54M/s  eta 7m 41s  "
       ]
      },
      {
       "output_type": "stream",
       "stream": "stdout",
       "text": [
        "\r",
        " 7% [=>                                     ] 375,887,250 8.73M/s  eta 7m 40s  "
       ]
      },
      {
       "output_type": "stream",
       "stream": "stdout",
       "text": [
        "\r",
        " 7% [==>                                    ] 378,003,210 8.58M/s  eta 7m 40s  "
       ]
      },
      {
       "output_type": "stream",
       "stream": "stdout",
       "text": [
        "\r",
        " 7% [==>                                    ] 380,088,942 8.57M/s  eta 7m 40s  "
       ]
      },
      {
       "output_type": "stream",
       "stream": "stdout",
       "text": [
        "\r",
        " 7% [==>                                    ] 382,165,056 8.76M/s  eta 7m 40s  "
       ]
      },
      {
       "output_type": "stream",
       "stream": "stdout",
       "text": [
        "\r",
        " 7% [==>                                    ] 384,205,446 8.94M/s  eta 7m 40s  "
       ]
      },
      {
       "output_type": "stream",
       "stream": "stdout",
       "text": [
        "\r",
        " 7% [==>                                    ] 386,255,454 9.10M/s  eta 7m 38s  "
       ]
      },
      {
       "output_type": "stream",
       "stream": "stdout",
       "text": [
        "\r",
        " 7% [==>                                    ] 388,385,154 9.38M/s  eta 7m 38s  "
       ]
      },
      {
       "output_type": "stream",
       "stream": "stdout",
       "text": [
        "\r",
        " 7% [==>                                    ] 390,573,832 9.44M/s  eta 7m 38s  "
       ]
      },
      {
       "output_type": "stream",
       "stream": "stdout",
       "text": [
        "\r",
        " 8% [==>                                    ] 392,498,910 9.50M/s  eta 7m 38s  "
       ]
      },
      {
       "output_type": "stream",
       "stream": "stdout",
       "text": [
        "\r",
        " 8% [==>                                    ] 394,645,098 9.66M/s  eta 7m 38s  "
       ]
      },
      {
       "output_type": "stream",
       "stream": "stdout",
       "text": [
        "\r",
        " 8% [==>                                    ] 396,835,254 9.75M/s  eta 7m 36s  "
       ]
      },
      {
       "output_type": "stream",
       "stream": "stdout",
       "text": [
        "\r",
        " 8% [==>                                    ] 399,013,044 9.84M/s  eta 7m 36s  "
       ]
      },
      {
       "output_type": "stream",
       "stream": "stdout",
       "text": [
        "\r",
        " 8% [==>                                    ] 401,181,216 9.95M/s  eta 7m 36s  "
       ]
      },
      {
       "output_type": "stream",
       "stream": "stdout",
       "text": [
        "\r",
        " 8% [==>                                    ] 403,328,778 9.99M/s  eta 7m 36s  "
       ]
      },
      {
       "output_type": "stream",
       "stream": "stdout",
       "text": [
        "\r",
        " 8% [==>                                    ] 405,506,568 10.0M/s  eta 7m 36s  "
       ]
      },
      {
       "output_type": "stream",
       "stream": "stdout",
       "text": [
        "\r",
        " 8% [==>                                    ] 407,751,684 10.1M/s  eta 7m 34s  "
       ]
      },
      {
       "output_type": "stream",
       "stream": "stdout",
       "text": [
        "\r",
        " 8% [==>                                    ] 409,950,084 10.1M/s  eta 7m 34s  "
       ]
      },
      {
       "output_type": "stream",
       "stream": "stdout",
       "text": [
        "\r",
        " 8% [==>                                    ] 412,193,826 10.2M/s  eta 7m 34s  "
       ]
      },
      {
       "output_type": "stream",
       "stream": "stdout",
       "text": [
        "\r",
        " 8% [==>                                    ] 414,235,590 10.2M/s  eta 7m 34s  "
       ]
      },
      {
       "output_type": "stream",
       "stream": "stdout",
       "text": [
        "\r",
        " 8% [==>                                    ] 416,438,112 10.2M/s  eta 7m 34s  "
       ]
      },
      {
       "output_type": "stream",
       "stream": "stdout",
       "text": [
        "\r",
        " 8% [==>                                    ] 418,687,350 10.3M/s  eta 7m 32s  "
       ]
      },
      {
       "output_type": "stream",
       "stream": "stdout",
       "text": [
        "\r",
        " 8% [==>                                    ] 420,940,710 10.3M/s  eta 7m 32s  "
       ]
      },
      {
       "output_type": "stream",
       "stream": "stdout",
       "text": [
        "\r",
        " 8% [==>                                    ] 423,189,948 10.4M/s  eta 7m 32s  "
       ]
      },
      {
       "output_type": "stream",
       "stream": "stdout",
       "text": [
        "\r",
        " 8% [==>                                    ] 425,447,430 10.4M/s  eta 7m 32s  "
       ]
      },
      {
       "output_type": "stream",
       "stream": "stdout",
       "text": [
        "\r",
        " 8% [==>                                    ] 427,689,798 10.5M/s  eta 7m 32s  "
       ]
      },
      {
       "output_type": "stream",
       "stream": "stdout",
       "text": [
        "\r",
        " 8% [==>                                    ] 429,943,158 10.5M/s  eta 7m 29s  "
       ]
      },
      {
       "output_type": "stream",
       "stream": "stdout",
       "text": [
        "\r",
        " 8% [==>                                    ] 432,200,640 10.5M/s  eta 7m 29s  "
       ]
      },
      {
       "output_type": "stream",
       "stream": "stdout",
       "text": [
        "\r",
        " 8% [==>                                    ] 434,469,114 10.5M/s  eta 7m 29s  "
       ]
      },
      {
       "output_type": "stream",
       "stream": "stdout",
       "text": [
        "\r",
        " 8% [==>                                    ] 435,943,416 10.3M/s  eta 7m 29s  "
       ]
      },
      {
       "output_type": "stream",
       "stream": "stdout",
       "text": [
        "\r",
        " 8% [==>                                    ] 437,287,188 10.1M/s  eta 7m 29s  "
       ]
      },
      {
       "output_type": "stream",
       "stream": "stdout",
       "text": [
        "\r",
        " 8% [==>                                    ] 438,622,716 9.84M/s  eta 7m 30s  "
       ]
      },
      {
       "output_type": "stream",
       "stream": "stdout",
       "text": [
        "\r",
        " 8% [==>                                    ] 440,086,026 9.59M/s  eta 7m 30s  "
       ]
      },
      {
       "output_type": "stream",
       "stream": "stdout",
       "text": [
        "\r",
        " 9% [==>                                    ] 441,422,928 9.33M/s  eta 7m 30s  "
       ]
      },
      {
       "output_type": "stream",
       "stream": "stdout",
       "text": [
        "\r",
        " 9% [==>                                    ] 442,078,326 8.91M/s  eta 7m 30s  "
       ]
      },
      {
       "output_type": "stream",
       "stream": "stdout",
       "text": [
        "\r",
        " 9% [==>                                    ] 443,064,858 8.58M/s  eta 7m 30s  "
       ]
      },
      {
       "output_type": "stream",
       "stream": "stdout",
       "text": [
        "\r",
        " 9% [==>                                    ] 443,434,464 7.24M/s  eta 7m 38s  "
       ]
      },
      {
       "output_type": "stream",
       "stream": "stdout",
       "text": [
        "\r",
        " 9% [==>                                    ] 443,639,190 6.72M/s  eta 7m 38s  "
       ]
      },
      {
       "output_type": "stream",
       "stream": "stdout",
       "text": [
        "\r",
        " 9% [==>                                    ] 444,969,222 6.52M/s  eta 7m 38s  "
       ]
      },
      {
       "output_type": "stream",
       "stream": "stdout",
       "text": [
        "\r",
        " 9% [==>                                    ] 446,398,182 6.36M/s  eta 7m 38s  "
       ]
      },
      {
       "output_type": "stream",
       "stream": "stdout",
       "text": [
        "\r",
        " 9% [==>                                    ] 447,985,152 6.05M/s  eta 7m 38s  "
       ]
      },
      {
       "output_type": "stream",
       "stream": "stdout",
       "text": [
        "\r",
        " 9% [==>                                    ] 449,691,660 5.97M/s  eta 7m 41s  "
       ]
      },
      {
       "output_type": "stream",
       "stream": "stdout",
       "text": [
        "\r",
        " 9% [==>                                    ] 451,446,258 5.90M/s  eta 7m 41s  "
       ]
      },
      {
       "output_type": "stream",
       "stream": "stdout",
       "text": [
        "\r",
        " 9% [==>                                    ] 453,255,816 5.64M/s  eta 7m 41s  "
       ]
      },
      {
       "output_type": "stream",
       "stream": "stdout",
       "text": [
        "\r",
        " 9% [==>                                    ] 455,111,882 5.60M/s  eta 7m 41s  "
       ]
      },
      {
       "output_type": "stream",
       "stream": "stdout",
       "text": [
        "\r",
        " 9% [==>                                    ] 456,979,356 5.72M/s  eta 7m 41s  "
       ]
      },
      {
       "output_type": "stream",
       "stream": "stdout",
       "text": [
        "\r",
        " 9% [==>                                    ] 458,793,036 5.83M/s  eta 7m 40s  "
       ]
      },
      {
       "output_type": "stream",
       "stream": "stdout",
       "text": [
        "\r",
        " 9% [==>                                    ] 460,759,230 6.01M/s  eta 7m 40s  "
       ]
      },
      {
       "output_type": "stream",
       "stream": "stdout",
       "text": [
        "\r",
        " 9% [==>                                    ] 462,761,148 6.17M/s  eta 7m 40s  "
       ]
      },
      {
       "output_type": "stream",
       "stream": "stdout",
       "text": [
        "\r",
        " 9% [==>                                    ] 464,724,594 6.53M/s  eta 7m 40s  "
       ]
      },
      {
       "output_type": "stream",
       "stream": "stdout",
       "text": [
        "\r",
        " 9% [==>                                    ] 466,835,058 6.79M/s  eta 7m 40s  "
       ]
      },
      {
       "output_type": "stream",
       "stream": "stdout",
       "text": [
        "\r",
        " 9% [==>                                    ] 468,890,562 7.03M/s  eta 7m 39s  "
       ]
      },
      {
       "output_type": "stream",
       "stream": "stdout",
       "text": [
        "\r",
        " 9% [==>                                    ] 470,886,984 8.60M/s  eta 7m 39s  "
       ]
      },
      {
       "output_type": "stream",
       "stream": "stdout",
       "text": [
        "\r",
        " 9% [==>                                    ] 473,002,944 8.82M/s  eta 7m 39s  "
       ]
      },
      {
       "output_type": "stream",
       "stream": "stdout",
       "text": [
        "\r",
        " 9% [==>                                    ] 475,095,546 9.02M/s  eta 7m 39s  "
       ]
      },
      {
       "output_type": "stream",
       "stream": "stdout",
       "text": [
        "\r",
        " 9% [==>                                    ] 477,199,140 9.26M/s  eta 7m 39s  "
       ]
      },
      {
       "output_type": "stream",
       "stream": "stdout",
       "text": [
        "\r",
        " 9% [==>                                    ] 479,338,354 9.39M/s  eta 7m 37s  "
       ]
      },
      {
       "output_type": "stream",
       "stream": "stdout",
       "text": [
        "\r",
        " 9% [==>                                    ] 481,494,264 9.49M/s  eta 7m 37s  "
       ]
      },
      {
       "output_type": "stream",
       "stream": "stdout",
       "text": [
        "\r",
        " 9% [==>                                    ] 483,672,054 9.65M/s  eta 7m 37s  "
       ]
      },
      {
       "output_type": "stream",
       "stream": "stdout",
       "text": [
        "\r",
        " 9% [==>                                    ] 485,875,846 9.73M/s  eta 7m 37s  "
       ]
      },
      {
       "output_type": "stream",
       "stream": "stdout",
       "text": [
        "\r",
        " 9% [==>                                    ] 488,061,984 9.82M/s  eta 7m 37s  "
       ]
      },
      {
       "output_type": "stream",
       "stream": "stdout",
       "text": [
        "\r",
        "10% [==>                                    ] 490,301,604 9.99M/s  eta 7m 35s  "
       ]
      },
      {
       "output_type": "stream",
       "stream": "stdout",
       "text": [
        "\r",
        "10% [==>                                    ] 492,526,110 10.1M/s  eta 7m 35s  "
       ]
      },
      {
       "output_type": "stream",
       "stream": "stdout",
       "text": [
        "\r",
        "10% [==>                                    ] 494,725,884 10.1M/s  eta 7m 35s  "
       ]
      },
      {
       "output_type": "stream",
       "stream": "stdout",
       "text": [
        "\r",
        "10% [==>                                    ] 496,924,284 10.2M/s  eta 7m 35s  "
       ]
      },
      {
       "output_type": "stream",
       "stream": "stdout",
       "text": [
        "\r",
        "10% [==>                                    ] 499,155,660 10.2M/s  eta 7m 35s  "
       ]
      },
      {
       "output_type": "stream",
       "stream": "stdout",
       "text": [
        "\r",
        "10% [==>                                    ] 501,388,410 10.3M/s  eta 7m 32s  "
       ]
      },
      {
       "output_type": "stream",
       "stream": "stdout",
       "text": [
        "\r",
        "10% [===>                                   ] 503,643,144 10.4M/s  eta 7m 32s  "
       ]
      },
      {
       "output_type": "stream",
       "stream": "stdout",
       "text": [
        "\r",
        "10% [===>                                   ] 505,891,008 10.4M/s  eta 7m 32s  "
       ]
      },
      {
       "output_type": "stream",
       "stream": "stdout",
       "text": [
        "\r",
        "10% [===>                                   ] 508,159,482 10.5M/s  eta 7m 32s  "
       ]
      },
      {
       "output_type": "stream",
       "stream": "stdout",
       "text": [
        "\r",
        "10% [===>                                   ] 510,415,590 10.5M/s  eta 7m 32s  "
       ]
      },
      {
       "output_type": "stream",
       "stream": "stdout",
       "text": [
        "\r",
        "10% [===>                                   ] 512,673,072 10.6M/s  eta 7m 30s  "
       ]
      },
      {
       "output_type": "stream",
       "stream": "stdout",
       "text": [
        "\r",
        "10% [===>                                   ] 514,933,302 10.6M/s  eta 7m 30s  "
       ]
      },
      {
       "output_type": "stream",
       "stream": "stdout",
       "text": [
        "\r",
        "10% [===>                                   ] 517,207,272 10.6M/s  eta 7m 30s  "
       ]
      },
      {
       "output_type": "stream",
       "stream": "stdout",
       "text": [
        "\r",
        "10% [===>                                   ] 519,474,268 10.6M/s  eta 7m 30s  "
       ]
      },
      {
       "output_type": "stream",
       "stream": "stdout",
       "text": [
        "\r",
        "10% [===>                                   ] 521,726,358 10.7M/s  eta 7m 30s  "
       ]
      },
      {
       "output_type": "stream",
       "stream": "stdout",
       "text": [
        "\r",
        "10% [===>                                   ] 523,740,642 10.6M/s  eta 7m 27s  "
       ]
      },
      {
       "output_type": "stream",
       "stream": "stdout",
       "text": [
        "\r",
        "10% [===>                                   ] 524,650,230 10.2M/s  eta 7m 27s  "
       ]
      },
      {
       "output_type": "stream",
       "stream": "stdout",
       "text": [
        "\r",
        "10% [===>                                   ] 526,009,116 9.95M/s  eta 7m 27s  "
       ]
      },
      {
       "output_type": "stream",
       "stream": "stdout",
       "text": [
        "\r",
        "10% [===>                                   ] 527,416,092 9.68M/s  eta 7m 27s  "
       ]
      },
      {
       "output_type": "stream",
       "stream": "stdout",
       "text": [
        "\r",
        "10% [===>                                   ] 528,876,654 9.46M/s  eta 7m 27s  "
       ]
      },
      {
       "output_type": "stream",
       "stream": "stdout",
       "text": [
        "\r",
        "10% [===>                                   ] 530,580,414 9.32M/s  eta 7m 29s  "
       ]
      },
      {
       "output_type": "stream",
       "stream": "stdout",
       "text": [
        "\r",
        "10% [===>                                   ] 532,260,816 9.10M/s  eta 7m 29s  "
       ]
      },
      {
       "output_type": "stream",
       "stream": "stdout",
       "text": [
        "\r",
        "10% [===>                                   ] 534,108,846 8.99M/s  eta 7m 29s  "
       ]
      },
      {
       "output_type": "stream",
       "stream": "stdout",
       "text": [
        "\r",
        "10% [===>                                   ] 535,987,104 8.91M/s  eta 7m 29s  "
       ]
      },
      {
       "output_type": "stream",
       "stream": "stdout",
       "text": [
        "\r",
        "10% [===>                                   ] 538,037,112 8.78M/s  eta 7m 29s  "
       ]
      },
      {
       "output_type": "stream",
       "stream": "stdout",
       "text": [
        "\r",
        "11% [===>                                   ] 540,047,274 8.73M/s  eta 7m 29s  "
       ]
      },
      {
       "output_type": "stream",
       "stream": "stdout",
       "text": [
        "\r",
        "11% [===>                                   ] 542,020,338 8.68M/s  eta 7m 29s  "
       ]
      },
      {
       "output_type": "stream",
       "stream": "stdout",
       "text": [
        "\r",
        "11% [===>                                   ] 544,048,362 8.54M/s  eta 7m 29s  "
       ]
      },
      {
       "output_type": "stream",
       "stream": "stdout",
       "text": [
        "\r",
        "11% [===>                                   ] 546,086,004 8.50M/s  eta 7m 29s  "
       ]
      },
      {
       "output_type": "stream",
       "stream": "stdout",
       "text": [
        "\r",
        "11% [===>                                   ] 548,138,760 8.47M/s  eta 7m 29s  "
       ]
      },
      {
       "output_type": "stream",
       "stream": "stdout",
       "text": [
        "\r",
        "11% [===>                                   ] 550,191,516 8.42M/s  eta 7m 27s  "
       ]
      },
      {
       "output_type": "stream",
       "stream": "stdout",
       "text": [
        "\r",
        "11% [===>                                   ] 552,271,752 8.67M/s  eta 7m 27s  "
       ]
      },
      {
       "output_type": "stream",
       "stream": "stdout",
       "text": [
        "\r",
        "11% [===>                                   ] 554,378,094 8.88M/s  eta 7m 27s  "
       ]
      },
      {
       "output_type": "stream",
       "stream": "stdout",
       "text": [
        "\r",
        "11% [===>                                   ] 556,481,688 9.17M/s  eta 7m 27s  "
       ]
      },
      {
       "output_type": "stream",
       "stream": "stdout",
       "text": [
        "\r",
        "11% [===>                                   ] 558,637,494 9.38M/s  eta 7m 27s  "
       ]
      },
      {
       "output_type": "stream",
       "stream": "stdout",
       "text": [
        "\r",
        "11% [===>                                   ] 560,752,080 9.50M/s  eta 7m 25s  "
       ]
      },
      {
       "output_type": "stream",
       "stream": "stdout",
       "text": [
        "\r",
        "11% [===>                                   ] 562,883,154 9.69M/s  eta 7m 25s  "
       ]
      },
      {
       "output_type": "stream",
       "stream": "stdout",
       "text": [
        "\r",
        "11% [===>                                   ] 565,059,570 9.80M/s  eta 7m 25s  "
       ]
      },
      {
       "output_type": "stream",
       "stream": "stdout",
       "text": [
        "\r",
        "11% [===>                                   ] 567,274,458 9.86M/s  eta 7m 25s  "
       ]
      },
      {
       "output_type": "stream",
       "stream": "stdout",
       "text": [
        "\r",
        "11% [===>                                   ] 569,507,208 9.97M/s  eta 7m 25s  "
       ]
      },
      {
       "output_type": "stream",
       "stream": "stdout",
       "text": [
        "\r",
        "11% [===>                                   ] 571,739,958 10.0M/s  eta 7m 23s  "
       ]
      },
      {
       "output_type": "stream",
       "stream": "stdout",
       "text": [
        "\r",
        "11% [===>                                   ] 573,950,724 10.1M/s  eta 7m 23s  "
       ]
      },
      {
       "output_type": "stream",
       "stream": "stdout",
       "text": [
        "\r",
        "11% [===>                                   ] 576,164,238 10.2M/s  eta 7m 23s  "
       ]
      },
      {
       "output_type": "stream",
       "stream": "stdout",
       "text": [
        "\r",
        "11% [===>                                   ] 578,410,728 10.2M/s  eta 7m 23s  "
       ]
      },
      {
       "output_type": "stream",
       "stream": "stdout",
       "text": [
        "\r",
        "11% [===>                                   ] 580,611,876 10.3M/s  eta 7m 23s  "
       ]
      },
      {
       "output_type": "stream",
       "stream": "stdout",
       "text": [
        "\r",
        "11% [===>                                   ] 582,431,052 10.2M/s  eta 7m 22s  "
       ]
      },
      {
       "output_type": "stream",
       "stream": "stdout",
       "text": [
        "\r",
        "11% [===>                                   ] 584,691,282 10.3M/s  eta 7m 22s  "
       ]
      },
      {
       "output_type": "stream",
       "stream": "stdout",
       "text": [
        "\r",
        "11% [===>                                   ] 586,941,790 10.3M/s  eta 7m 22s  "
       ]
      },
      {
       "output_type": "stream",
       "stream": "stdout",
       "text": [
        "\r",
        "12% [===>                                   ] 589,204,872 10.4M/s  eta 7m 22s  "
       ]
      },
      {
       "output_type": "stream",
       "stream": "stdout",
       "text": [
        "\r",
        "12% [===>                                   ] 591,498,078 10.4M/s  eta 7m 22s  "
       ]
      },
      {
       "output_type": "stream",
       "stream": "stdout",
       "text": [
        "\r",
        "12% [===>                                   ] 593,736,324 10.4M/s  eta 7m 19s  "
       ]
      },
      {
       "output_type": "stream",
       "stream": "stdout",
       "text": [
        "\r",
        "12% [===>                                   ] 595,993,806 10.5M/s  eta 7m 19s  "
       ]
      },
      {
       "output_type": "stream",
       "stream": "stdout",
       "text": [
        "\r",
        "12% [===>                                   ] 598,254,036 10.5M/s  eta 7m 19s  "
       ]
      },
      {
       "output_type": "stream",
       "stream": "stdout",
       "text": [
        "\r",
        "12% [===>                                   ] 600,518,388 10.5M/s  eta 7m 19s  "
       ]
      },
      {
       "output_type": "stream",
       "stream": "stdout",
       "text": [
        "\r",
        "12% [===>                                   ] 602,774,496 10.6M/s  eta 7m 19s  "
       ]
      },
      {
       "output_type": "stream",
       "stream": "stdout",
       "text": [
        "\r",
        "12% [===>                                   ] 604,718,706 10.5M/s  eta 7m 17s  "
       ]
      },
      {
       "output_type": "stream",
       "stream": "stdout",
       "text": [
        "\r",
        "12% [===>                                   ] 605,753,328 10.1M/s  eta 7m 17s  "
       ]
      },
      {
       "output_type": "stream",
       "stream": "stdout",
       "text": [
        "\r",
        "12% [===>                                   ] 607,271,598 9.88M/s  eta 7m 17s  "
       ]
      },
      {
       "output_type": "stream",
       "stream": "stdout",
       "text": [
        "\r",
        "12% [===>                                   ] 608,789,868 9.67M/s  eta 7m 17s  "
       ]
      },
      {
       "output_type": "stream",
       "stream": "stdout",
       "text": [
        "\r",
        "12% [===>                                   ] 610,302,642 9.46M/s  eta 7m 17s  "
       ]
      },
      {
       "output_type": "stream",
       "stream": "stdout",
       "text": [
        "\r",
        "12% [===>                                   ] 611,967,930 9.39M/s  eta 7m 18s  "
       ]
      },
      {
       "output_type": "stream",
       "stream": "stdout",
       "text": [
        "\r",
        "12% [===>                                   ] 613,804,968 9.27M/s  eta 7m 18s  "
       ]
      },
      {
       "output_type": "stream",
       "stream": "stdout",
       "text": [
        "\r",
        "12% [===>                                   ] 615,633,762 9.17M/s  eta 7m 18s  "
       ]
      },
      {
       "output_type": "stream",
       "stream": "stdout",
       "text": [
        "\r",
        "12% [===>                                   ] 617,527,134 9.00M/s  eta 7m 18s  "
       ]
      },
      {
       "output_type": "stream",
       "stream": "stdout",
       "text": [
        "\r",
        "12% [===>                                   ] 619,465,848 8.93M/s  eta 7m 18s  "
       ]
      },
      {
       "output_type": "stream",
       "stream": "stdout",
       "text": [
        "\r",
        "12% [===>                                   ] 621,539,214 8.91M/s  eta 7m 18s  "
       ]
      },
      {
       "output_type": "stream",
       "stream": "stdout",
       "text": [
        "\r",
        "12% [===>                                   ] 623,593,344 8.78M/s  eta 7m 18s  "
       ]
      },
      {
       "output_type": "stream",
       "stream": "stdout",
       "text": [
        "\r",
        "12% [===>                                   ] 625,592,514 8.73M/s  eta 7m 18s  "
       ]
      },
      {
       "output_type": "stream",
       "stream": "stdout",
       "text": [
        "\r",
        "12% [===>                                   ] 627,580,692 8.68M/s  eta 7m 18s  "
       ]
      },
      {
       "output_type": "stream",
       "stream": "stdout",
       "text": [
        "\r",
        "12% [====>                                  ] 629,671,920 8.56M/s  eta 7m 18s  "
       ]
      },
      {
       "output_type": "stream",
       "stream": "stdout",
       "text": [
        "\r",
        "12% [====>                                  ] 631,783,758 8.55M/s  eta 7m 16s  "
       ]
      },
      {
       "output_type": "stream",
       "stream": "stdout",
       "text": [
        "\r",
        "12% [====>                                  ] 633,957,426 8.82M/s  eta 7m 16s  "
       ]
      },
      {
       "output_type": "stream",
       "stream": "stdout",
       "text": [
        "\r",
        "12% [====>                                  ] 636,085,752 9.13M/s  eta 7m 16s  "
       ]
      },
      {
       "output_type": "stream",
       "stream": "stdout",
       "text": [
        "\r",
        "13% [====>                                  ] 638,219,574 9.28M/s  eta 7m 16s  "
       ]
      },
      {
       "output_type": "stream",
       "stream": "stdout",
       "text": [
        "\r",
        "13% [====>                                  ] 639,702,016 9.24M/s  eta 7m 16s  "
       ]
      },
      {
       "output_type": "stream",
       "stream": "stdout",
       "text": [
        "\r",
        "13% [====>                                  ] 642,059,904 9.52M/s  eta 7m 15s  "
       ]
      },
      {
       "output_type": "stream",
       "stream": "stdout",
       "text": [
        "\r",
        "13% [====>                                  ] 644,206,092 9.62M/s  eta 7m 15s  "
       ]
      },
      {
       "output_type": "stream",
       "stream": "stdout",
       "text": [
        "\r",
        "13% [====>                                  ] 646,294,468 9.67M/s  eta 7m 15s  "
       ]
      },
      {
       "output_type": "stream",
       "stream": "stdout",
       "text": [
        "\r",
        "13% [====>                                  ] 648,208,554 9.70M/s  eta 7m 15s  "
       ]
      },
      {
       "output_type": "stream",
       "stream": "stdout",
       "text": [
        "\r",
        "13% [====>                                  ] 650,336,880 9.76M/s  eta 7m 15s  "
       ]
      },
      {
       "output_type": "stream",
       "stream": "stdout",
       "text": [
        "\r",
        "13% [====>                                  ] 652,491,312 9.80M/s  eta 7m 13s  "
       ]
      },
      {
       "output_type": "stream",
       "stream": "stdout",
       "text": [
        "\r",
        "13% [====>                                  ] 654,627,882 9.82M/s  eta 7m 13s  "
       ]
      },
      {
       "output_type": "stream",
       "stream": "stdout",
       "text": [
        "\r",
        "13% [====>                                  ] 656,797,428 9.88M/s  eta 7m 13s  "
       ]
      },
      {
       "output_type": "stream",
       "stream": "stdout",
       "text": [
        "\r",
        "13% [====>                                  ] 658,994,454 9.92M/s  eta 7m 13s  "
       ]
      },
      {
       "output_type": "stream",
       "stream": "stdout",
       "text": [
        "\r",
        "13% [====>                                  ] 661,202,472 9.98M/s  eta 7m 13s  "
       ]
      },
      {
       "output_type": "stream",
       "stream": "stdout",
       "text": [
        "\r",
        "13% [====>                                  ] 663,448,962 10.0M/s  eta 7m 12s  "
       ]
      },
      {
       "output_type": "stream",
       "stream": "stdout",
       "text": [
        "\r",
        "13% [====>                                  ] 665,678,964 10.1M/s  eta 7m 12s  "
       ]
      },
      {
       "output_type": "stream",
       "stream": "stdout",
       "text": [
        "\r",
        "13% [====>                                  ] 667,930,950 10.1M/s  eta 7m 12s  "
       ]
      },
      {
       "output_type": "stream",
       "stream": "stdout",
       "text": [
        "\r",
        "13% [====>                                  ] 670,176,066 10.1M/s  eta 7m 12s  "
       ]
      },
      {
       "output_type": "stream",
       "stream": "stdout",
       "text": [
        "\r",
        "13% [====>                                  ] 672,415,686 10.2M/s  eta 7m 12s  "
       ]
      },
      {
       "output_type": "stream",
       "stream": "stdout",
       "text": [
        "\r",
        "13% [====>                                  ] 674,692,404 10.4M/s  eta 7m 9s   "
       ]
      },
      {
       "output_type": "stream",
       "stream": "stdout",
       "text": [
        "\r",
        "13% [====>                                  ] 676,945,764 10.4M/s  eta 7m 9s   "
       ]
      },
      {
       "output_type": "stream",
       "stream": "stdout",
       "text": [
        "\r",
        "13% [====>                                  ] 679,211,490 10.4M/s  eta 7m 9s   "
       ]
      },
      {
       "output_type": "stream",
       "stream": "stdout",
       "text": [
        "\r",
        "13% [====>                                  ] 681,456,606 10.6M/s  eta 7m 9s   "
       ]
      },
      {
       "output_type": "stream",
       "stream": "stdout",
       "text": [
        "\r",
        "13% [====>                                  ] 683,708,592 10.6M/s  eta 7m 9s   "
       ]
      },
      {
       "output_type": "stream",
       "stream": "stdout",
       "text": [
        "\r",
        "13% [====>                                  ] 685,628,070 10.5M/s  eta 7m 8s   "
       ]
      },
      {
       "output_type": "stream",
       "stream": "stdout",
       "text": [
        "\r",
        "14% [====>                                  ] 686,675,058 10.2M/s  eta 7m 8s   "
       ]
      },
      {
       "output_type": "stream",
       "stream": "stdout",
       "text": [
        "\r",
        "14% [====>                                  ] 687,919,902 9.88M/s  eta 7m 8s   "
       ]
      },
      {
       "output_type": "stream",
       "stream": "stdout",
       "text": [
        "\r",
        "14% [====>                                  ] 689,293,902 9.65M/s  eta 7m 8s   "
       ]
      },
      {
       "output_type": "stream",
       "stream": "stdout",
       "text": [
        "\r",
        "14% [====>                                  ] 690,626,682 9.33M/s  eta 7m 8s   "
       ]
      },
      {
       "output_type": "stream",
       "stream": "stdout",
       "text": [
        "\r",
        "14% [====>                                  ] 692,057,016 9.11M/s  eta 7m 9s   "
       ]
      },
      {
       "output_type": "stream",
       "stream": "stdout",
       "text": [
        "\r",
        "14% [====>                                  ] 693,642,612 8.94M/s  eta 7m 9s   "
       ]
      },
      {
       "output_type": "stream",
       "stream": "stdout",
       "text": [
        "\r",
        "14% [====>                                  ] 695,305,152 8.70M/s  eta 7m 9s   "
       ]
      },
      {
       "output_type": "stream",
       "stream": "stdout",
       "text": [
        "\r",
        "14% [====>                                  ] 697,003,416 8.55M/s  eta 7m 9s   "
       ]
      },
      {
       "output_type": "stream",
       "stream": "stdout",
       "text": [
        "\r",
        "14% [====>                                  ] 698,792,364 8.44M/s  eta 7m 9s   "
       ]
      },
      {
       "output_type": "stream",
       "stream": "stdout",
       "text": [
        "\r",
        "14% [====>                                  ] 700,567,572 8.22M/s  eta 7m 9s   "
       ]
      },
      {
       "output_type": "stream",
       "stream": "stdout",
       "text": [
        "\r",
        "14% [====>                                  ] 702,437,586 8.14M/s  eta 7m 9s   "
       ]
      },
      {
       "output_type": "stream",
       "stream": "stdout",
       "text": [
        "\r",
        "14% [====>                                  ] 704,372,178 8.09M/s  eta 7m 9s   "
       ]
      },
      {
       "output_type": "stream",
       "stream": "stdout",
       "text": [
        "\r",
        "14% [====>                                  ] 706,353,486 7.91M/s  eta 7m 9s   "
       ]
      },
      {
       "output_type": "stream",
       "stream": "stdout",
       "text": [
        "\r",
        "14% [====>                                  ] 708,359,526 7.88M/s  eta 7m 9s   "
       ]
      },
      {
       "output_type": "stream",
       "stream": "stdout",
       "text": [
        "\r",
        "14% [====>                                  ] 710,412,282 7.86M/s  eta 7m 8s   "
       ]
      },
      {
       "output_type": "stream",
       "stream": "stdout",
       "text": [
        "\r",
        "14% [====>                                  ] 712,396,338 8.16M/s  eta 7m 8s   "
       ]
      },
      {
       "output_type": "stream",
       "stream": "stdout",
       "text": [
        "\r",
        "14% [====>                                  ] 714,361,158 8.35M/s  eta 7m 8s   "
       ]
      },
      {
       "output_type": "stream",
       "stream": "stdout",
       "text": [
        "\r",
        "14% [====>                                  ] 716,408,418 8.54M/s  eta 7m 8s   "
       ]
      },
      {
       "output_type": "stream",
       "stream": "stdout",
       "text": [
        "\r",
        "14% [====>                                  ] 718,533,996 8.85M/s  eta 7m 8s   "
       ]
      },
      {
       "output_type": "stream",
       "stream": "stdout",
       "text": [
        "\r",
        "14% [====>                                  ] 720,647,208 9.04M/s  eta 7m 7s   "
       ]
      },
      {
       "output_type": "stream",
       "stream": "stdout",
       "text": [
        "\r",
        "14% [====>                                  ] 722,528,214 9.12M/s  eta 7m 7s   "
       ]
      },
      {
       "output_type": "stream",
       "stream": "stdout",
       "text": [
        "\r",
        "14% [====>                                  ] 724,652,418 9.31M/s  eta 7m 7s   "
       ]
      },
      {
       "output_type": "stream",
       "stream": "stdout",
       "text": [
        "\r",
        "14% [====>                                  ] 726,813,720 9.43M/s  eta 7m 7s   "
       ]
      },
      {
       "output_type": "stream",
       "stream": "stdout",
       "text": [
        "\r",
        "14% [====>                                  ] 728,907,696 9.52M/s  eta 7m 7s   "
       ]
      },
      {
       "output_type": "stream",
       "stream": "stdout",
       "text": [
        "\r",
        "14% [====>                                  ] 731,068,998 9.68M/s  eta 7m 5s   "
       ]
      },
      {
       "output_type": "stream",
       "stream": "stdout",
       "text": [
        "\r",
        "14% [====>                                  ] 733,184,958 9.75M/s  eta 7m 5s   "
       ]
      },
      {
       "output_type": "stream",
       "stream": "stdout",
       "text": [
        "\r",
        "15% [====>                                  ] 735,379,236 9.82M/s  eta 7m 5s   "
       ]
      },
      {
       "output_type": "stream",
       "stream": "stdout",
       "text": [
        "\r",
        "15% [====>                                  ] 737,595,498 9.92M/s  eta 7m 5s   "
       ]
      },
      {
       "output_type": "stream",
       "stream": "stdout",
       "text": [
        "\r",
        "15% [====>                                  ] 739,776,036 9.96M/s  eta 7m 5s   "
       ]
      },
      {
       "output_type": "stream",
       "stream": "stdout",
       "text": [
        "\r",
        "15% [====>                                  ] 742,008,786 10.0M/s  eta 7m 4s   "
       ]
      },
      {
       "output_type": "stream",
       "stream": "stdout",
       "text": [
        "\r",
        "15% [====>                                  ] 744,252,528 10.1M/s  eta 7m 4s   "
       ]
      },
      {
       "output_type": "stream",
       "stream": "stdout",
       "text": [
        "\r",
        "15% [====>                                  ] 746,459,172 10.2M/s  eta 7m 4s   "
       ]
      },
      {
       "output_type": "stream",
       "stream": "stdout",
       "text": [
        "\r",
        "15% [====>                                  ] 748,711,158 10.2M/s  eta 7m 4s   "
       ]
      },
      {
       "output_type": "stream",
       "stream": "stdout",
       "text": [
        "\r",
        "15% [====>                                  ] 750,934,186 10.3M/s  eta 7m 4s   "
       ]
      },
      {
       "output_type": "stream",
       "stream": "stdout",
       "text": [
        "\r",
        "15% [====>                                  ] 753,259,098 10.3M/s  eta 7m 2s   "
       ]
      },
      {
       "output_type": "stream",
       "stream": "stdout",
       "text": [
        "\r",
        "15% [=====>                                 ] 755,511,084 10.4M/s  eta 7m 2s   "
       ]
      },
      {
       "output_type": "stream",
       "stream": "stdout",
       "text": [
        "\r",
        "15% [=====>                                 ] 757,758,948 10.5M/s  eta 7m 2s   "
       ]
      },
      {
       "output_type": "stream",
       "stream": "stdout",
       "text": [
        "\r",
        "15% [=====>                                 ] 760,016,430 10.5M/s  eta 7m 2s   "
       ]
      },
      {
       "output_type": "stream",
       "stream": "stdout",
       "text": [
        "\r",
        "15% [=====>                                 ] 762,268,416 10.6M/s  eta 7m 2s   "
       ]
      },
      {
       "output_type": "stream",
       "stream": "stdout",
       "text": [
        "\r",
        "15% [=====>                                 ] 764,344,530 10.6M/s  eta 7m 0s   "
       ]
      },
      {
       "output_type": "stream",
       "stream": "stdout",
       "text": [
        "\r",
        "15% [=====>                                 ] 765,141,450 10.1M/s  eta 7m 0s   "
       ]
      },
      {
       "output_type": "stream",
       "stream": "stdout",
       "text": [
        "\r",
        "15% [=====>                                 ] 766,471,482 9.89M/s  eta 7m 0s   "
       ]
      },
      {
       "output_type": "stream",
       "stream": "stdout",
       "text": [
        "\r",
        "15% [=====>                                 ] 767,812,506 9.59M/s  eta 7m 0s   "
       ]
      },
      {
       "output_type": "stream",
       "stream": "stdout",
       "text": [
        "\r",
        "15% [=====>                                 ] 769,095,822 9.32M/s  eta 7m 0s   "
       ]
      },
      {
       "output_type": "stream",
       "stream": "stdout",
       "text": [
        "\r",
        "15% [=====>                                 ] 770,450,586 9.08M/s  eta 7m 1s   "
       ]
      },
      {
       "output_type": "stream",
       "stream": "stdout",
       "text": [
        "\r",
        "15% [=====>                                 ] 771,992,214 8.80M/s  eta 7m 1s   "
       ]
      },
      {
       "output_type": "stream",
       "stream": "stdout",
       "text": [
        "\r",
        "15% [=====>                                 ] 773,641,014 8.65M/s  eta 7m 1s   "
       ]
      },
      {
       "output_type": "stream",
       "stream": "stdout",
       "text": [
        "\r",
        "15% [=====>                                 ] 775,353,018 8.53M/s  eta 7m 1s   "
       ]
      },
      {
       "output_type": "stream",
       "stream": "stdout",
       "text": [
        "\r",
        "15% [=====>                                 ] 777,144,714 8.30M/s  eta 7m 1s   "
       ]
      },
      {
       "output_type": "stream",
       "stream": "stdout",
       "text": [
        "\r",
        "15% [=====>                                 ] 779,002,362 8.23M/s  eta 7m 1s   "
       ]
      },
      {
       "output_type": "stream",
       "stream": "stdout",
       "text": [
        "\r",
        "15% [=====>                                 ] 780,930,084 8.16M/s  eta 7m 1s   "
       ]
      },
      {
       "output_type": "stream",
       "stream": "stdout",
       "text": [
        "\r",
        "15% [=====>                                 ] 782,886,660 7.99M/s  eta 7m 1s   "
       ]
      },
      {
       "output_type": "stream",
       "stream": "stdout",
       "text": [
        "\r",
        "16% [=====>                                 ] 784,841,862 7.93M/s  eta 7m 1s   "
       ]
      },
      {
       "output_type": "stream",
       "stream": "stdout",
       "text": [
        "\r",
        "16% [=====>                                 ] 786,621,192 7.83M/s  eta 7m 1s   "
       ]
      },
      {
       "output_type": "stream",
       "stream": "stdout",
       "text": [
        "\r",
        "16% [=====>                                 ] 788,603,874 7.76M/s  eta 7m 0s   "
       ]
      },
      {
       "output_type": "stream",
       "stream": "stdout",
       "text": [
        "\r",
        "16% [=====>                                 ] 790,567,320 8.01M/s  eta 7m 0s   "
       ]
      },
      {
       "output_type": "stream",
       "stream": "stdout",
       "text": [
        "\r",
        "16% [=====>                                 ] 792,599,466 8.22M/s  eta 7m 0s   "
       ]
      },
      {
       "output_type": "stream",
       "stream": "stdout",
       "text": [
        "\r",
        "16% [=====>                                 ] 794,730,540 8.53M/s  eta 7m 0s   "
       ]
      },
      {
       "output_type": "stream",
       "stream": "stdout",
       "text": [
        "\r",
        "16% [=====>                                 ] 796,911,078 8.78M/s  eta 7m 0s   "
       ]
      },
      {
       "output_type": "stream",
       "stream": "stdout",
       "text": [
        "\r",
        "16% [=====>                                 ] 799,021,542 8.97M/s  eta 6m 59s  "
       ]
      },
      {
       "output_type": "stream",
       "stream": "stdout",
       "text": [
        "\r",
        "16% [=====>                                 ] 801,160,860 9.24M/s  eta 6m 59s  "
       ]
      },
      {
       "output_type": "stream",
       "stream": "stdout",
       "text": [
        "\r",
        "16% [=====>                                 ] 803,309,796 9.39M/s  eta 6m 59s  "
       ]
      },
      {
       "output_type": "stream",
       "stream": "stdout",
       "text": [
        "\r",
        "16% [=====>                                 ] 805,423,008 9.49M/s  eta 6m 59s  "
       ]
      },
      {
       "output_type": "stream",
       "stream": "stdout",
       "text": [
        "\r",
        "16% [=====>                                 ] 807,633,774 9.67M/s  eta 6m 59s  "
       ]
      },
      {
       "output_type": "stream",
       "stream": "stdout",
       "text": [
        "\r",
        "16% [=====>                                 ] 809,722,254 9.73M/s  eta 6m 57s  "
       ]
      },
      {
       "output_type": "stream",
       "stream": "stdout",
       "text": [
        "\r",
        "16% [=====>                                 ] 811,823,100 9.78M/s  eta 6m 57s  "
       ]
      },
      {
       "output_type": "stream",
       "stream": "stdout",
       "text": [
        "\r",
        "16% [=====>                                 ] 814,028,370 9.88M/s  eta 6m 57s  "
       ]
      },
      {
       "output_type": "stream",
       "stream": "stdout",
       "text": [
        "\r",
        "16% [=====>                                 ] 816,207,534 9.95M/s  eta 6m 57s  "
       ]
      },
      {
       "output_type": "stream",
       "stream": "stdout",
       "text": [
        "\r",
        "16% [=====>                                 ] 818,400,438 10.1M/s  eta 6m 57s  "
       ]
      },
      {
       "output_type": "stream",
       "stream": "stdout",
       "text": [
        "\r",
        "16% [=====>                                 ] 820,648,302 10.2M/s  eta 6m 56s  "
       ]
      },
      {
       "output_type": "stream",
       "stream": "stdout",
       "text": [
        "\r",
        "16% [=====>                                 ] 822,896,166 10.3M/s  eta 6m 56s  "
       ]
      },
      {
       "output_type": "stream",
       "stream": "stdout",
       "text": [
        "\r",
        "16% [=====>                                 ] 825,119,298 10.2M/s  eta 6m 56s  "
       ]
      },
      {
       "output_type": "stream",
       "stream": "stdout",
       "text": [
        "\r",
        "16% [=====>                                 ] 827,240,754 10.2M/s  eta 6m 56s  "
       ]
      },
      {
       "output_type": "stream",
       "stream": "stdout",
       "text": [
        "\r",
        "16% [=====>                                 ] 829,483,122 10.3M/s  eta 6m 56s  "
       ]
      },
      {
       "output_type": "stream",
       "stream": "stdout",
       "text": [
        "\r",
        "16% [=====>                                 ] 831,757,092 10.3M/s  eta 6m 54s  "
       ]
      },
      {
       "output_type": "stream",
       "stream": "stdout",
       "text": [
        "\r",
        "17% [=====>                                 ] 834,032,436 10.4M/s  eta 6m 54s  "
       ]
      },
      {
       "output_type": "stream",
       "stream": "stdout",
       "text": [
        "\r",
        "17% [=====>                                 ] 836,284,422 10.4M/s  eta 6m 54s  "
       ]
      },
      {
       "output_type": "stream",
       "stream": "stdout",
       "text": [
        "\r",
        "17% [=====>                                 ] 838,544,652 10.4M/s  eta 6m 54s  "
       ]
      },
      {
       "output_type": "stream",
       "stream": "stdout",
       "text": [
        "\r",
        "17% [=====>                                 ] 840,799,386 10.4M/s  eta 6m 54s  "
       ]
      },
      {
       "output_type": "stream",
       "stream": "stdout",
       "text": [
        "\r",
        "17% [=====>                                 ] 842,564,976 10.3M/s  eta 6m 52s  "
       ]
      },
      {
       "output_type": "stream",
       "stream": "stdout",
       "text": [
        "\r",
        "17% [=====>                                 ] 843,855,162 10.1M/s  eta 6m 52s  "
       ]
      },
      {
       "output_type": "stream",
       "stream": "stdout",
       "text": [
        "\r",
        "17% [=====>                                 ] 845,159,088 9.81M/s  eta 6m 52s  "
       ]
      },
      {
       "output_type": "stream",
       "stream": "stdout",
       "text": [
        "\r",
        "17% [=====>                                 ] 846,461,640 9.54M/s  eta 6m 52s  "
       ]
      },
      {
       "output_type": "stream",
       "stream": "stdout",
       "text": [
        "\r",
        "17% [=====>                                 ] 847,959,300 9.34M/s  eta 6m 52s  "
       ]
      },
      {
       "output_type": "stream",
       "stream": "stdout",
       "text": [
        "\r",
        "17% [=====>                                 ] 849,700,158 9.15M/s  eta 6m 53s  "
       ]
      },
      {
       "output_type": "stream",
       "stream": "stdout",
       "text": [
        "\r",
        "17% [=====>                                 ] 851,498,724 9.04M/s  eta 6m 53s  "
       ]
      },
      {
       "output_type": "stream",
       "stream": "stdout",
       "text": [
        "\r",
        "17% [=====>                                 ] 853,328,892 8.94M/s  eta 6m 53s  "
       ]
      },
      {
       "output_type": "stream",
       "stream": "stdout",
       "text": [
        "\r",
        "17% [=====>                                 ] 855,227,760 8.89M/s  eta 6m 53s  "
       ]
      },
      {
       "output_type": "stream",
       "stream": "stdout",
       "text": [
        "\r",
        "17% [=====>                                 ] 857,125,254 8.81M/s  eta 6m 53s  "
       ]
      },
      {
       "output_type": "stream",
       "stream": "stdout",
       "text": [
        "\r",
        "17% [=====>                                 ] 859,095,570 8.75M/s  eta 6m 52s  "
       ]
      },
      {
       "output_type": "stream",
       "stream": "stdout",
       "text": [
        "\r",
        "17% [=====>                                 ] 861,130,464 8.62M/s  eta 6m 52s  "
       ]
      },
      {
       "output_type": "stream",
       "stream": "stdout",
       "text": [
        "\r",
        "17% [=====>                                 ] 863,168,106 8.58M/s  eta 6m 52s  "
       ]
      },
      {
       "output_type": "stream",
       "stream": "stdout",
       "text": [
        "\r",
        "17% [=====>                                 ] 865,259,334 8.56M/s  eta 6m 52s  "
       ]
      },
      {
       "output_type": "stream",
       "stream": "stdout",
       "text": [
        "\r",
        "17% [=====>                                 ] 867,242,016 8.42M/s  eta 6m 52s  "
       ]
      },
      {
       "output_type": "stream",
       "stream": "stdout",
       "text": [
        "\r",
        "17% [=====>                                 ] 869,151,876 8.46M/s  eta 6m 51s  "
       ]
      },
      {
       "output_type": "stream",
       "stream": "stdout",
       "text": [
        "\r",
        "17% [=====>                                 ] 871,192,266 8.57M/s  eta 6m 51s  "
       ]
      },
      {
       "output_type": "stream",
       "stream": "stdout",
       "text": [
        "\r",
        "17% [=====>                                 ] 873,331,584 8.99M/s  eta 6m 51s  "
       ]
      },
      {
       "output_type": "stream",
       "stream": "stdout",
       "text": [
        "\r",
        "17% [=====>                                 ] 875,415,942 9.12M/s  eta 6m 51s  "
       ]
      },
      {
       "output_type": "stream",
       "stream": "stdout",
       "text": [
        "\r",
        "17% [=====>                                 ] 877,538,772 9.31M/s  eta 6m 51s  "
       ]
      },
      {
       "output_type": "stream",
       "stream": "stdout",
       "text": [
        "\r",
        "17% [=====>                                 ] 878,599,500 9.12M/s  eta 6m 50s  "
       ]
      },
      {
       "output_type": "stream",
       "stream": "stdout",
       "text": [
        "\r",
        "17% [======>                                ] 879,838,848 8.97M/s  eta 6m 50s  "
       ]
      },
      {
       "output_type": "stream",
       "stream": "stdout",
       "text": [
        "\r",
        "17% [======>                                ] 881,212,848 8.85M/s  eta 6m 50s  "
       ]
      },
      {
       "output_type": "stream",
       "stream": "stdout",
       "text": [
        "\r",
        "18% [======>                                ] 882,474,180 8.66M/s  eta 6m 50s  "
       ]
      },
      {
       "output_type": "stream",
       "stream": "stdout",
       "text": [
        "\r",
        "18% [======>                                ] 883,719,024 8.43M/s  eta 6m 50s  "
       ]
      },
      {
       "output_type": "stream",
       "stream": "stdout",
       "text": [
        "\r",
        "18% [======>                                ] 885,315,612 8.36M/s  eta 6m 51s  "
       ]
      },
      {
       "output_type": "stream",
       "stream": "stdout",
       "text": [
        "\r",
        "18% [======>                                ] 886,906,704 8.25M/s  eta 6m 51s  "
       ]
      },
      {
       "output_type": "stream",
       "stream": "stdout",
       "text": [
        "\r",
        "18% [======>                                ] 888,625,578 8.11M/s  eta 6m 51s  "
       ]
      },
      {
       "output_type": "stream",
       "stream": "stdout",
       "text": [
        "\r",
        "18% [======>                                ] 890,404,908 8.05M/s  eta 6m 51s  "
       ]
      },
      {
       "output_type": "stream",
       "stream": "stdout",
       "text": [
        "\r",
        "18% [======>                                ] 892,284,540 8.02M/s  eta 6m 51s  "
       ]
      },
      {
       "output_type": "stream",
       "stream": "stdout",
       "text": [
        "\r",
        "18% [======>                                ] 894,149,058 7.94M/s  eta 6m 51s  "
       ]
      },
      {
       "output_type": "stream",
       "stream": "stdout",
       "text": [
        "\r",
        "18% [======>                                ] 895,959,990 7.93M/s  eta 6m 51s  "
       ]
      },
      {
       "output_type": "stream",
       "stream": "stdout",
       "text": [
        "\r",
        "18% [======>                                ] 897,814,890 7.89M/s  eta 6m 51s  "
       ]
      },
      {
       "output_type": "stream",
       "stream": "stdout",
       "text": [
        "\r",
        "18% [======>                                ] 899,503,536 7.69M/s  eta 6m 51s  "
       ]
      },
      {
       "output_type": "stream",
       "stream": "stdout",
       "text": [
        "\r",
        "18% [======>                                ] 901,285,614 7.61M/s  eta 6m 51s  "
       ]
      },
      {
       "output_type": "stream",
       "stream": "stdout",
       "text": [
        "\r",
        "18% [======>                                ] 902,762,664 7.65M/s  eta 6m 50s  "
       ]
      },
      {
       "output_type": "stream",
       "stream": "stdout",
       "text": [
        "\r",
        "18% [======>                                ] 904,151,778 7.67M/s  eta 6m 50s  "
       ]
      },
      {
       "output_type": "stream",
       "stream": "stdout",
       "text": [
        "\r",
        "18% [======>                                ] 905,433,616 7.51M/s  eta 6m 50s  "
       ]
      },
      {
       "output_type": "stream",
       "stream": "stdout",
       "text": [
        "\r",
        "18% [======>                                ] 906,800,850 7.58M/s  eta 6m 50s  "
       ]
      },
      {
       "output_type": "stream",
       "stream": "stdout",
       "text": [
        "\r",
        "18% [======>                                ] 908,614,530 7.73M/s  eta 6m 50s  "
       ]
      },
      {
       "output_type": "stream",
       "stream": "stdout",
       "text": [
        "\r",
        "18% [======>                                ] 910,806,060 7.94M/s  eta 6m 50s  "
       ]
      },
      {
       "output_type": "stream",
       "stream": "stdout",
       "text": [
        "\r",
        "18% [======>                                ] 913,025,070 8.13M/s  eta 6m 50s  "
       ]
      },
      {
       "output_type": "stream",
       "stream": "stdout",
       "text": [
        "\r",
        "18% [======>                                ] 915,154,770 8.26M/s  eta 6m 50s  "
       ]
      },
      {
       "output_type": "stream",
       "stream": "stdout",
       "text": [
        "\r",
        "18% [======>                                ] 917,343,552 8.38M/s  eta 6m 50s  "
       ]
      },
      {
       "output_type": "stream",
       "stream": "stdout",
       "text": [
        "\r",
        "18% [======>                                ] 919,482,870 8.47M/s  eta 6m 50s  "
       ]
      },
      {
       "output_type": "stream",
       "stream": "stdout",
       "text": [
        "\r",
        "18% [======>                                ] 921,640,050 8.57M/s  eta 6m 49s  "
       ]
      },
      {
       "output_type": "stream",
       "stream": "stdout",
       "text": [
        "\r",
        "18% [======>                                ] 923,857,686 8.69M/s  eta 6m 49s  "
       ]
      },
      {
       "output_type": "stream",
       "stream": "stdout",
       "text": [
        "\r",
        "18% [======>                                ] 926,076,696 8.80M/s  eta 6m 49s  "
       ]
      },
      {
       "output_type": "stream",
       "stream": "stdout",
       "text": [
        "\r",
        "18% [======>                                ] 928,236,624 8.87M/s  eta 6m 49s  "
       ]
      },
      {
       "output_type": "stream",
       "stream": "stdout",
       "text": [
        "\r",
        "18% [======>                                ] 930,477,618 9.05M/s  eta 6m 49s  "
       ]
      },
      {
       "output_type": "stream",
       "stream": "stdout",
       "text": [
        "\r",
        "19% [======>                                ] 931,634,422 8.97M/s  eta 6m 48s  "
       ]
      },
      {
       "output_type": "stream",
       "stream": "stdout",
       "text": [
        "\r",
        "19% [======>                                ] 934,326,192 9.29M/s  eta 6m 48s  "
       ]
      },
      {
       "output_type": "stream",
       "stream": "stdout",
       "text": [
        "\r",
        "19% [======>                                ] 936,497,112 9.49M/s  eta 6m 48s  "
       ]
      },
      {
       "output_type": "stream",
       "stream": "stdout",
       "text": [
        "\r",
        "19% [======>                                ] 938,721,618 9.84M/s  eta 6m 48s  "
       ]
      },
      {
       "output_type": "stream",
       "stream": "stdout",
       "text": [
        "\r",
        "19% [======>                                ] 940,933,758 10.1M/s  eta 6m 48s  "
       ]
      },
      {
       "output_type": "stream",
       "stream": "stdout",
       "text": [
        "\r",
        "19% [======>                                ] 943,148,646 10.2M/s  eta 6m 46s  "
       ]
      },
      {
       "output_type": "stream",
       "stream": "stdout",
       "text": [
        "\r",
        "19% [======>                                ] 945,314,070 10.2M/s  eta 6m 46s  "
       ]
      },
      {
       "output_type": "stream",
       "stream": "stdout",
       "text": [
        "\r",
        "19% [======>                                ] 947,546,820 10.2M/s  eta 6m 46s  "
       ]
      },
      {
       "output_type": "stream",
       "stream": "stdout",
       "text": [
        "\r",
        "19% [======>                                ] 949,643,544 10.2M/s  eta 6m 46s  "
       ]
      },
      {
       "output_type": "stream",
       "stream": "stdout",
       "text": [
        "\r",
        "19% [======>                                ] 951,863,928 10.2M/s  eta 6m 46s  "
       ]
      },
      {
       "output_type": "stream",
       "stream": "stdout",
       "text": [
        "\r",
        "19% [======>                                ] 954,074,694 10.2M/s  eta 6m 44s  "
       ]
      },
      {
       "output_type": "stream",
       "stream": "stdout",
       "text": [
        "\r",
        "19% [======>                                ] 955,570,980 10.0M/s  eta 6m 44s  "
       ]
      },
      {
       "output_type": "stream",
       "stream": "stdout",
       "text": [
        "\r",
        "19% [======>                                ] 956,628,960 9.66M/s  eta 6m 44s  "
       ]
      },
      {
       "output_type": "stream",
       "stream": "stdout",
       "text": [
        "\r",
        "19% [======>                                ] 957,897,162 9.35M/s  eta 6m 44s  "
       ]
      },
      {
       "output_type": "stream",
       "stream": "stdout",
       "text": [
        "\r",
        "19% [======>                                ] 959,213,454 9.10M/s  eta 6m 44s  "
       ]
      },
      {
       "output_type": "stream",
       "stream": "stdout",
       "text": [
        "\r",
        "19% [======>                                ] 960,555,852 8.86M/s  eta 6m 45s  "
       ]
      },
      {
       "output_type": "stream",
       "stream": "stdout",
       "text": [
        "\r",
        "19% [======>                                ] 962,039,772 8.90M/s  eta 6m 45s  "
       ]
      },
      {
       "output_type": "stream",
       "stream": "stdout",
       "text": [
        "\r",
        "19% [======>                                ] 963,658,344 8.62M/s  eta 6m 45s  "
       ]
      },
      {
       "output_type": "stream",
       "stream": "stdout",
       "text": [
        "\r",
        "19% [======>                                ] 965,374,470 8.50M/s  eta 6m 45s  "
       ]
      },
      {
       "output_type": "stream",
       "stream": "stdout",
       "text": [
        "\r",
        "19% [======>                                ] 967,203,264 8.32M/s  eta 6m 45s  "
       ]
      },
      {
       "output_type": "stream",
       "stream": "stdout",
       "text": [
        "\r",
        "19% [======>                                ] 969,036,180 8.24M/s  eta 6m 45s  "
       ]
      },
      {
       "output_type": "stream",
       "stream": "stdout",
       "text": [
        "\r",
        "19% [======>                                ] 970,858,104 8.16M/s  eta 6m 45s  "
       ]
      },
      {
       "output_type": "stream",
       "stream": "stdout",
       "text": [
        "\r",
        "19% [======>                                ] 972,817,428 8.00M/s  eta 6m 45s  "
       ]
      },
      {
       "output_type": "stream",
       "stream": "stdout",
       "text": [
        "\r",
        "19% [======>                                ] 974,834,460 7.98M/s  eta 6m 45s  "
       ]
      },
      {
       "output_type": "stream",
       "stream": "stdout",
       "text": [
        "\r",
        "19% [======>                                ] 976,793,784 8.05M/s  eta 6m 45s  "
       ]
      },
      {
       "output_type": "stream",
       "stream": "stdout",
       "text": [
        "\r",
        "19% [======>                                ] 978,769,596 7.85M/s  eta 6m 44s  "
       ]
      },
      {
       "output_type": "stream",
       "stream": "stdout",
       "text": [
        "\r",
        "20% [======>                                ] 980,815,482 7.89M/s  eta 6m 44s  "
       ]
      },
      {
       "output_type": "stream",
       "stream": "stdout",
       "text": [
        "\r",
        "20% [======>                                ] 982,857,142 8.22M/s  eta 6m 44s  "
       ]
      },
      {
       "output_type": "stream",
       "stream": "stdout",
       "text": [
        "\r",
        "20% [======>                                ] 984,904,506 8.53M/s  eta 6m 44s  "
       ]
      },
      {
       "output_type": "stream",
       "stream": "stdout",
       "text": [
        "\r",
        "20% [======>                                ] 986,167,212 8.48M/s  eta 6m 44s  "
       ]
      },
      {
       "output_type": "stream",
       "stream": "stdout",
       "text": [
        "\r",
        "20% [======>                                ] 987,552,204 8.47M/s  eta 6m 43s  "
       ]
      },
      {
       "output_type": "stream",
       "stream": "stdout",
       "text": [
        "\r",
        "20% [======>                                ] 989,019,636 8.53M/s  eta 6m 43s  "
       ]
      },
      {
       "output_type": "stream",
       "stream": "stdout",
       "text": [
        "\r",
        "20% [======>                                ] 990,609,354 8.52M/s  eta 6m 43s  "
       ]
      },
      {
       "output_type": "stream",
       "stream": "stdout",
       "text": [
        "\r",
        "20% [======>                                ] 992,322,732 8.51M/s  eta 6m 43s  "
       ]
      },
      {
       "output_type": "stream",
       "stream": "stdout",
       "text": [
        "\r",
        "20% [======>                                ] 994,093,818 8.52M/s  eta 6m 43s  "
       ]
      },
      {
       "output_type": "stream",
       "stream": "stdout",
       "text": [
        "\r",
        "20% [======>                                ] 995,904,750 8.50M/s  eta 6m 43s  "
       ]
      },
      {
       "output_type": "stream",
       "stream": "stdout",
       "text": [
        "\r",
        "20% [======>                                ] 997,794,000 8.52M/s  eta 6m 43s  "
       ]
      },
      {
       "output_type": "stream",
       "stream": "stdout",
       "text": [
        "\r",
        "20% [======>                                ] 999,710,730 8.51M/s  eta 6m 43s  "
       ]
      },
      {
       "output_type": "stream",
       "stream": "stdout",
       "text": [
        "\r",
        "20% [======>                              ] 1,001,692,038 8.51M/s  eta 6m 43s  "
       ]
      },
      {
       "output_type": "stream",
       "stream": "stdout",
       "text": [
        "\r",
        "20% [======>                              ] 1,003,662,354 8.53M/s  eta 6m 43s  "
       ]
      },
      {
       "output_type": "stream",
       "stream": "stdout",
       "text": [
        "\r",
        "20% [======>                              ] 1,005,616,182 8.50M/s  eta 6m 42s  "
       ]
      },
      {
       "output_type": "stream",
       "stream": "stdout",
       "text": [
        "\r",
        "20% [======>                              ] 1,007,688,174 8.53M/s  eta 6m 42s  "
       ]
      },
      {
       "output_type": "stream",
       "stream": "stdout",
       "text": [
        "\r",
        "20% [======>                              ] 1,009,738,182 8.54M/s  eta 6m 42s  "
       ]
      },
      {
       "output_type": "stream",
       "stream": "stdout",
       "text": [
        "\r",
        "20% [======>                              ] 1,011,807,426 8.52M/s  eta 6m 42s  "
       ]
      },
      {
       "output_type": "stream",
       "stream": "stdout",
       "text": [
        "\r",
        "20% [======>                              ] 1,013,927,508 8.75M/s  eta 6m 42s  "
       ]
      },
      {
       "output_type": "stream",
       "stream": "stdout",
       "text": [
        "\r",
        "20% [======>                              ] 1,016,068,200 8.95M/s  eta 6m 40s  "
       ]
      },
      {
       "output_type": "stream",
       "stream": "stdout",
       "text": [
        "\r",
        "20% [======>                              ] 1,018,221,258 9.25M/s  eta 6m 40s  "
       ]
      },
      {
       "output_type": "stream",
       "stream": "stdout",
       "text": [
        "\r",
        "20% [======>                              ] 1,020,381,186 9.41M/s  eta 6m 40s  "
       ]
      },
      {
       "output_type": "stream",
       "stream": "stdout",
       "text": [
        "\r",
        "20% [======>                              ] 1,022,542,488 9.53M/s  eta 6m 40s  "
       ]
      },
      {
       "output_type": "stream",
       "stream": "stdout",
       "text": [
        "\r",
        "20% [======>                              ] 1,024,641,960 9.68M/s  eta 6m 40s  "
       ]
      },
      {
       "output_type": "stream",
       "stream": "stdout",
       "text": [
        "\r",
        "20% [======>                              ] 1,026,863,718 9.80M/s  eta 6m 39s  "
       ]
      },
      {
       "output_type": "stream",
       "stream": "stdout",
       "text": [
        "\r",
        "21% [======>                              ] 1,029,063,492 9.89M/s  eta 6m 39s  "
       ]
      },
      {
       "output_type": "stream",
       "stream": "stdout",
       "text": [
        "\r",
        "21% [======>                              ] 1,031,304,486 10.0M/s  eta 6m 39s  "
       ]
      },
      {
       "output_type": "stream",
       "stream": "stdout",
       "text": [
        "\r",
        "21% [======>                              ] 1,033,512,504 10.1M/s  eta 6m 39s  "
       ]
      },
      {
       "output_type": "stream",
       "stream": "stdout",
       "text": [
        "\r",
        "21% [======>                              ] 1,035,734,262 10.1M/s  eta 6m 39s  "
       ]
      },
      {
       "output_type": "stream",
       "stream": "stdout",
       "text": [
        "\r",
        "21% [======>                              ] 1,037,934,036 10.2M/s  eta 6m 37s  "
       ]
      },
      {
       "output_type": "stream",
       "stream": "stdout",
       "text": [
        "\r",
        "21% [======>                              ] 1,040,136,558 10.3M/s  eta 6m 37s  "
       ]
      },
      {
       "output_type": "stream",
       "stream": "stdout",
       "text": [
        "\r",
        "21% [======>                              ] 1,042,381,674 10.3M/s  eta 6m 37s  "
       ]
      },
      {
       "output_type": "stream",
       "stream": "stdout",
       "text": [
        "\r",
        "21% [======>                              ] 1,044,619,920 10.4M/s  eta 6m 37s  "
       ]
      },
      {
       "output_type": "stream",
       "stream": "stdout",
       "text": [
        "\r",
        "21% [======>                              ] 1,046,891,142 10.5M/s  eta 6m 37s  "
       ]
      },
      {
       "output_type": "stream",
       "stream": "stdout",
       "text": [
        "\r",
        "21% [======>                              ] 1,049,143,024 10.5M/s  eta 6m 36s  "
       ]
      },
      {
       "output_type": "stream",
       "stream": "stdout",
       "text": [
        "\r",
        "21% [======>                              ] 1,051,408,854 10.5M/s  eta 6m 36s  "
       ]
      },
      {
       "output_type": "stream",
       "stream": "stdout",
       "text": [
        "\r",
        "21% [======>                              ] 1,053,664,962 10.5M/s  eta 6m 36s  "
       ]
      },
      {
       "output_type": "stream",
       "stream": "stdout",
       "text": [
        "\r",
        "21% [======>                              ] 1,055,111,784 10.3M/s  eta 6m 36s  "
       ]
      },
      {
       "output_type": "stream",
       "stream": "stdout",
       "text": [
        "\r",
        "21% [======>                              ] 1,056,358,002 10.1M/s  eta 6m 36s  "
       ]
      },
      {
       "output_type": "stream",
       "stream": "stdout",
       "text": [
        "\r",
        "21% [======>                              ] 1,057,697,652 9.79M/s  eta 6m 35s  "
       ]
      },
      {
       "output_type": "stream",
       "stream": "stdout",
       "text": [
        "\r",
        "21% [======>                              ] 1,058,853,186 9.49M/s  eta 6m 35s  "
       ]
      },
      {
       "output_type": "stream",
       "stream": "stdout",
       "text": [
        "\r",
        "21% [=======>                             ] 1,060,359,090 9.22M/s  eta 6m 35s  "
       ]
      },
      {
       "output_type": "stream",
       "stream": "stdout",
       "text": [
        "\r",
        "21% [=======>                             ] 1,061,528,364 8.93M/s  eta 6m 35s  "
       ]
      },
      {
       "output_type": "stream",
       "stream": "stdout",
       "text": [
        "\r",
        "21% [=======>                             ] 1,062,884,502 8.70M/s  eta 6m 35s  "
       ]
      },
      {
       "output_type": "stream",
       "stream": "stdout",
       "text": [
        "\r",
        "21% [=======>                             ] 1,064,221,404 8.35M/s  eta 6m 36s  "
       ]
      },
      {
       "output_type": "stream",
       "stream": "stdout",
       "text": [
        "\r",
        "21% [=======>                             ] 1,065,664,104 8.15M/s  eta 6m 36s  "
       ]
      },
      {
       "output_type": "stream",
       "stream": "stdout",
       "text": [
        "\r",
        "21% [=======>                             ] 1,067,330,766 8.02M/s  eta 6m 36s  "
       ]
      },
      {
       "output_type": "stream",
       "stream": "stdout",
       "text": [
        "\r",
        "21% [=======>                             ] 1,069,062,006 7.77M/s  eta 6m 36s  "
       ]
      },
      {
       "output_type": "stream",
       "stream": "stdout",
       "text": [
        "\r",
        "21% [=======>                             ] 1,070,868,816 7.68M/s  eta 6m 36s  "
       ]
      },
      {
       "output_type": "stream",
       "stream": "stdout",
       "text": [
        "\r",
        "21% [=======>                             ] 1,072,685,244 7.59M/s  eta 6m 35s  "
       ]
      },
      {
       "output_type": "stream",
       "stream": "stdout",
       "text": [
        "\r",
        "21% [=======>                             ] 1,074,578,616 7.37M/s  eta 6m 35s  "
       ]
      },
      {
       "output_type": "stream",
       "stream": "stdout",
       "text": [
        "\r",
        "21% [=======>                             ] 1,076,417,028 7.30M/s  eta 6m 35s  "
       ]
      },
      {
       "output_type": "stream",
       "stream": "stdout",
       "text": [
        "\r",
        "22% [=======>                             ] 1,078,445,052 7.35M/s  eta 6m 35s  "
       ]
      },
      {
       "output_type": "stream",
       "stream": "stdout",
       "text": [
        "\r",
        "22% [=======>                             ] 1,080,251,862 7.58M/s  eta 6m 35s  "
       ]
      },
      {
       "output_type": "stream",
       "stream": "stdout",
       "text": [
        "\r",
        "22% [=======>                             ] 1,082,087,526 7.71M/s  eta 6m 34s  "
       ]
      },
      {
       "output_type": "stream",
       "stream": "stdout",
       "text": [
        "\r",
        "22% [=======>                             ] 1,083,936,930 7.88M/s  eta 6m 34s  "
       ]
      },
      {
       "output_type": "stream",
       "stream": "stdout",
       "text": [
        "\r",
        "22% [=======>                             ] 1,085,967,702 8.17M/s  eta 6m 34s  "
       ]
      },
      {
       "output_type": "stream",
       "stream": "stdout",
       "text": [
        "\r",
        "22% [=======>                             ] 1,087,977,864 8.34M/s  eta 6m 34s  "
       ]
      },
      {
       "output_type": "stream",
       "stream": "stdout",
       "text": [
        "\r",
        "22% [=======>                             ] 1,090,074,588 8.56M/s  eta 6m 34s  "
       ]
      },
      {
       "output_type": "stream",
       "stream": "stdout",
       "text": [
        "\r",
        "22% [=======>                             ] 1,092,219,402 8.88M/s  eta 6m 33s  "
       ]
      },
      {
       "output_type": "stream",
       "stream": "stdout",
       "text": [
        "\r",
        "22% [=======>                             ] 1,093,310,358 8.74M/s  eta 6m 33s  "
       ]
      },
      {
       "output_type": "stream",
       "stream": "stdout",
       "text": [
        "\r",
        "22% [=======>                             ] 1,095,434,562 8.89M/s  eta 6m 33s  "
       ]
      },
      {
       "output_type": "stream",
       "stream": "stdout",
       "text": [
        "\r",
        "22% [=======>                             ] 1,097,518,920 8.99M/s  eta 6m 33s  "
       ]
      },
      {
       "output_type": "stream",
       "stream": "stdout",
       "text": [
        "\r",
        "22% [=======>                             ] 1,099,480,992 9.07M/s  eta 6m 33s  "
       ]
      },
      {
       "output_type": "stream",
       "stream": "stdout",
       "text": [
        "\r",
        "22% [=======>                             ] 1,101,625,806 9.16M/s  eta 6m 32s  "
       ]
      },
      {
       "output_type": "stream",
       "stream": "stdout",
       "text": [
        "\r",
        "22% [=======>                             ] 1,103,785,734 9.26M/s  eta 6m 32s  "
       ]
      },
      {
       "output_type": "stream",
       "stream": "stdout",
       "text": [
        "\r",
        "22% [=======>                             ] 1,105,809,636 9.33M/s  eta 6m 32s  "
       ]
      },
      {
       "output_type": "stream",
       "stream": "stdout",
       "text": [
        "\r",
        "22% [=======>                             ] 1,107,946,206 9.38M/s  eta 6m 32s  "
       ]
      },
      {
       "output_type": "stream",
       "stream": "stdout",
       "text": [
        "\r",
        "22% [=======>                             ] 1,110,133,614 9.44M/s  eta 6m 32s  "
       ]
      },
      {
       "output_type": "stream",
       "stream": "stdout",
       "text": [
        "\r",
        "22% [=======>                             ] 1,112,378,730 9.60M/s  eta 6m 31s  "
       ]
      },
      {
       "output_type": "stream",
       "stream": "stdout",
       "text": [
        "\r",
        "22% [=======>                             ] 1,114,605,880 9.70M/s  eta 6m 31s  "
       ]
      },
      {
       "output_type": "stream",
       "stream": "stdout",
       "text": [
        "\r",
        "22% [=======>                             ] 1,116,845,604 9.79M/s  eta 6m 31s  "
       ]
      },
      {
       "output_type": "stream",
       "stream": "stdout",
       "text": [
        "\r",
        "22% [=======>                             ] 1,119,098,964 9.89M/s  eta 6m 31s  "
       ]
      },
      {
       "output_type": "stream",
       "stream": "stdout",
       "text": [
        "\r",
        "22% [=======>                             ] 1,121,319,348 9.93M/s  eta 6m 31s  "
       ]
      },
      {
       "output_type": "stream",
       "stream": "stdout",
       "text": [
        "\r",
        "22% [=======>                             ] 1,123,576,830 9.97M/s  eta 6m 29s  "
       ]
      },
      {
       "output_type": "stream",
       "stream": "stdout",
       "text": [
        "\r",
        "22% [=======>                             ] 1,125,832,938 10.5M/s  eta 6m 29s  "
       ]
      },
      {
       "output_type": "stream",
       "stream": "stdout",
       "text": [
        "\r",
        "23% [=======>                             ] 1,128,086,298 10.4M/s  eta 6m 29s  "
       ]
      },
      {
       "output_type": "stream",
       "stream": "stdout",
       "text": [
        "\r"
       ]
      },
      {
       "output_type": "stream",
       "stream": "stdout",
       "text": [
        "23% [=======>                             ] 1,130,308,056 10.4M/s  eta 6m 29s  "
       ]
      },
      {
       "output_type": "stream",
       "stream": "stdout",
       "text": [
        "\r",
        "23% [=======>                             ] 1,132,572,408 10.5M/s  eta 6m 29s  "
       ]
      },
      {
       "output_type": "stream",
       "stream": "stdout",
       "text": [
        "\r",
        "23% [=======>                             ] 1,134,851,874 10.5M/s  eta 6m 27s  "
       ]
      },
      {
       "output_type": "stream",
       "stream": "stdout",
       "text": [
        "\r",
        "23% [=======>                             ] 1,137,109,356 10.6M/s  eta 6m 27s  "
       ]
      },
      {
       "output_type": "stream",
       "stream": "stdout",
       "text": [
        "\r",
        "23% [=======>                             ] 1,138,255,272 10.3M/s  eta 6m 27s  "
       ]
      },
      {
       "output_type": "stream",
       "stream": "stdout",
       "text": [
        "\r",
        "23% [=======>                             ] 1,139,640,264 10.1M/s  eta 6m 27s  "
       ]
      },
      {
       "output_type": "stream",
       "stream": "stdout",
       "text": [
        "\r",
        "23% [=======>                             ] 1,141,089,834 9.84M/s  eta 6m 27s  "
       ]
      },
      {
       "output_type": "stream",
       "stream": "stdout",
       "text": [
        "\r",
        "23% [=======>                             ] 1,142,543,526 9.57M/s  eta 6m 27s  "
       ]
      },
      {
       "output_type": "stream",
       "stream": "stdout",
       "text": [
        "\r",
        "23% [=======>                             ] 1,144,104,390 9.39M/s  eta 6m 27s  "
       ]
      },
      {
       "output_type": "stream",
       "stream": "stdout",
       "text": [
        "\r",
        "23% [=======>                             ] 1,145,771,052 9.23M/s  eta 6m 27s  "
       ]
      },
      {
       "output_type": "stream",
       "stream": "stdout",
       "text": [
        "\r",
        "23% [=======>                             ] 1,147,550,382 9.04M/s  eta 6m 27s  "
       ]
      },
      {
       "output_type": "stream",
       "stream": "stdout",
       "text": [
        "\r",
        "23% [=======>                             ] 1,149,060,408 8.83M/s  eta 6m 27s  "
       ]
      },
      {
       "output_type": "stream",
       "stream": "stdout",
       "text": [
        "\r",
        "23% [=======>                             ] 1,150,900,194 8.75M/s  eta 6m 27s  "
       ]
      },
      {
       "output_type": "stream",
       "stream": "stdout",
       "text": [
        "\r",
        "23% [=======>                             ] 1,152,830,664 8.58M/s  eta 6m 27s  "
       ]
      },
      {
       "output_type": "stream",
       "stream": "stdout",
       "text": [
        "\r",
        "23% [=======>                             ] 1,154,853,192 8.54M/s  eta 6m 27s  "
       ]
      },
      {
       "output_type": "stream",
       "stream": "stdout",
       "text": [
        "\r",
        "23% [=======>                             ] 1,156,853,736 8.50M/s  eta 6m 27s  "
       ]
      },
      {
       "output_type": "stream",
       "stream": "stdout",
       "text": [
        "\r",
        "23% [=======>                             ] 1,158,826,800 8.34M/s  eta 6m 27s  "
       ]
      },
      {
       "output_type": "stream",
       "stream": "stdout",
       "text": [
        "\r",
        "23% [=======>                             ] 1,160,893,296 8.32M/s  eta 6m 26s  "
       ]
      },
      {
       "output_type": "stream",
       "stream": "stdout",
       "text": [
        "\r",
        "23% [=======>                             ] 1,162,936,434 8.29M/s  eta 6m 26s  "
       ]
      },
      {
       "output_type": "stream",
       "stream": "stdout",
       "text": [
        "\r",
        "23% [=======>                             ] 1,165,037,280 8.49M/s  eta 6m 26s  "
       ]
      },
      {
       "output_type": "stream",
       "stream": "stdout",
       "text": [
        "\r",
        "23% [=======>                             ] 1,167,139,500 8.70M/s  eta 6m 26s  "
       ]
      },
      {
       "output_type": "stream",
       "stream": "stdout",
       "text": [
        "\r",
        "23% [=======>                             ] 1,169,276,070 8.87M/s  eta 6m 26s  "
       ]
      },
      {
       "output_type": "stream",
       "stream": "stdout",
       "text": [
        "\r",
        "23% [=======>                             ] 1,171,431,876 9.16M/s  eta 6m 24s  "
       ]
      },
      {
       "output_type": "stream",
       "stream": "stdout",
       "text": [
        "\r",
        "23% [=======>                             ] 1,173,540,966 9.32M/s  eta 6m 24s  "
       ]
      },
      {
       "output_type": "stream",
       "stream": "stdout",
       "text": [
        "\r",
        "24% [=======>                             ] 1,175,711,782 9.44M/s  eta 6m 24s  "
       ]
      },
      {
       "output_type": "stream",
       "stream": "stdout",
       "text": [
        "\r",
        "24% [=======>                             ] 1,177,952,880 9.63M/s  eta 6m 24s  "
       ]
      },
      {
       "output_type": "stream",
       "stream": "stdout",
       "text": [
        "\r",
        "24% [=======>                             ] 1,180,162,272 9.76M/s  eta 6m 24s  "
       ]
      },
      {
       "output_type": "stream",
       "stream": "stdout",
       "text": [
        "\r",
        "24% [=======>                             ] 1,182,341,436 9.93M/s  eta 6m 23s  "
       ]
      },
      {
       "output_type": "stream",
       "stream": "stdout",
       "text": [
        "\r",
        "24% [=======>                             ] 1,184,495,868 10.0M/s  eta 6m 23s  "
       ]
      },
      {
       "output_type": "stream",
       "stream": "stdout",
       "text": [
        "\r",
        "24% [=======>                             ] 1,186,699,764 10.1M/s  eta 6m 23s  "
       ]
      },
      {
       "output_type": "stream",
       "stream": "stdout",
       "text": [
        "\r",
        "24% [=======>                             ] 1,188,877,554 10.1M/s  eta 6m 23s  "
       ]
      },
      {
       "output_type": "stream",
       "stream": "stdout",
       "text": [
        "\r",
        "24% [=======>                             ] 1,190,999,010 10.2M/s  eta 6m 23s  "
       ]
      },
      {
       "output_type": "stream",
       "stream": "stdout",
       "text": [
        "\r",
        "24% [========>                            ] 1,193,168,556 10.2M/s  eta 6m 21s  "
       ]
      },
      {
       "output_type": "stream",
       "stream": "stdout",
       "text": [
        "\r",
        "24% [========>                            ] 1,195,427,412 10.3M/s  eta 6m 21s  "
       ]
      },
      {
       "output_type": "stream",
       "stream": "stdout",
       "text": [
        "\r",
        "24% [========>                            ] 1,197,686,268 10.3M/s  eta 6m 21s  "
       ]
      },
      {
       "output_type": "stream",
       "stream": "stdout",
       "text": [
        "\r",
        "24% [========>                            ] 1,199,943,750 10.4M/s  eta 6m 21s  "
       ]
      },
      {
       "output_type": "stream",
       "stream": "stdout",
       "text": [
        "\r",
        "24% [========>                            ] 1,202,176,500 10.4M/s  eta 6m 21s  "
       ]
      },
      {
       "output_type": "stream",
       "stream": "stdout",
       "text": [
        "\r",
        "24% [========>                            ] 1,204,432,608 10.5M/s  eta 6m 20s  "
       ]
      },
      {
       "output_type": "stream",
       "stream": "stdout",
       "text": [
        "\r",
        "24% [========>                            ] 1,206,687,342 10.5M/s  eta 6m 20s  "
       ]
      },
      {
       "output_type": "stream",
       "stream": "stdout",
       "text": [
        "\r",
        "24% [========>                            ] 1,208,946,198 10.5M/s  eta 6m 20s  "
       ]
      },
      {
       "output_type": "stream",
       "stream": "stdout",
       "text": [
        "\r",
        "24% [========>                            ] 1,211,203,680 10.5M/s  eta 6m 20s  "
       ]
      },
      {
       "output_type": "stream",
       "stream": "stdout",
       "text": [
        "\r",
        "24% [========>                            ] 1,213,455,666 10.6M/s  eta 6m 20s  "
       ]
      },
      {
       "output_type": "stream",
       "stream": "stdout",
       "text": [
        "\r",
        "24% [========>                            ] 1,215,702,156 10.6M/s  eta 6m 18s  "
       ]
      },
      {
       "output_type": "stream",
       "stream": "stdout",
       "text": [
        "\r",
        "24% [========>                            ] 1,217,987,118 10.6M/s  eta 6m 18s  "
       ]
      },
      {
       "output_type": "stream",
       "stream": "stdout",
       "text": [
        "\r",
        "24% [========>                            ] 1,219,499,892 10.4M/s  eta 6m 18s  "
       ]
      },
      {
       "output_type": "stream",
       "stream": "stdout",
       "text": [
        "\r",
        "24% [========>                            ] 1,220,684,280 10.1M/s  eta 6m 18s  "
       ]
      },
      {
       "output_type": "stream",
       "stream": "stdout",
       "text": [
        "\r",
        "24% [========>                            ] 1,222,187,436 9.93M/s  eta 6m 18s  "
       ]
      },
      {
       "output_type": "stream",
       "stream": "stdout",
       "text": [
        "\r",
        "24% [========>                            ] 1,223,621,892 9.69M/s  eta 6m 18s  "
       ]
      },
      {
       "output_type": "stream",
       "stream": "stdout",
       "text": [
        "\r",
        "25% [========>                            ] 1,224,954,568 9.06M/s  eta 6m 18s  "
       ]
      },
      {
       "output_type": "stream",
       "stream": "stdout",
       "text": [
        "\r",
        "25% [========>                            ] 1,226,967,582 9.01M/s  eta 6m 18s  "
       ]
      },
      {
       "output_type": "stream",
       "stream": "stdout",
       "text": [
        "\r",
        "25% [========>                            ] 1,228,616,382 8.85M/s  eta 6m 18s  "
       ]
      },
      {
       "output_type": "stream",
       "stream": "stdout",
       "text": [
        "\r",
        "25% [========>                            ] 1,230,359,988 8.74M/s  eta 6m 18s  "
       ]
      },
      {
       "output_type": "stream",
       "stream": "stdout",
       "text": [
        "\r",
        "25% [========>                            ] 1,232,132,448 8.52M/s  eta 6m 18s  "
       ]
      },
      {
       "output_type": "stream",
       "stream": "stdout",
       "text": [
        "\r",
        "25% [========>                            ] 1,233,339,986 7.85M/s  eta 6m 18s  "
       ]
      },
      {
       "output_type": "stream",
       "stream": "stdout",
       "text": [
        "\r",
        "25% [========>                            ] 1,235,719,962 7.93M/s  eta 6m 18s  "
       ]
      },
      {
       "output_type": "stream",
       "stream": "stdout",
       "text": [
        "\r",
        "25% [========>                            ] 1,237,653,180 7.88M/s  eta 6m 18s  "
       ]
      },
      {
       "output_type": "stream",
       "stream": "stdout",
       "text": [
        "\r",
        "25% [========>                            ] 1,239,675,708 7.85M/s  eta 6m 18s  "
       ]
      },
      {
       "output_type": "stream",
       "stream": "stdout",
       "text": [
        "\r",
        "25% [========>                            ] 1,241,707,854 7.69M/s  eta 6m 17s  "
       ]
      },
      {
       "output_type": "stream",
       "stream": "stdout",
       "text": [
        "\r",
        "25% [========>                            ] 1,243,741,374 7.67M/s  eta 6m 17s  "
       ]
      },
      {
       "output_type": "stream",
       "stream": "stdout",
       "text": [
        "\r",
        "25% [========>                            ] 1,245,814,740 7.77M/s  eta 6m 17s  "
       ]
      },
      {
       "output_type": "stream",
       "stream": "stdout",
       "text": [
        "\r",
        "25% [========>                            ] 1,247,889,480 8.12M/s  eta 6m 17s  "
       ]
      },
      {
       "output_type": "stream",
       "stream": "stdout",
       "text": [
        "\r",
        "25% [========>                            ] 1,249,982,082 8.28M/s  eta 6m 17s  "
       ]
      },
      {
       "output_type": "stream",
       "stream": "stdout",
       "text": [
        "\r",
        "25% [========>                            ] 1,252,092,546 8.46M/s  eta 6m 16s  "
       ]
      },
      {
       "output_type": "stream",
       "stream": "stdout",
       "text": [
        "\r",
        "25% [========>                            ] 1,254,218,124 8.99M/s  eta 6m 16s  "
       ]
      },
      {
       "output_type": "stream",
       "stream": "stdout",
       "text": [
        "\r",
        "25% [========>                            ] 1,256,368,434 9.01M/s  eta 6m 16s  "
       ]
      },
      {
       "output_type": "stream",
       "stream": "stdout",
       "text": [
        "\r",
        "25% [========>                            ] 1,258,540,728 9.16M/s  eta 6m 16s  "
       ]
      },
      {
       "output_type": "stream",
       "stream": "stdout",
       "text": [
        "\r",
        "25% [========>                            ] 1,260,697,908 9.32M/s  eta 6m 16s  "
       ]
      },
      {
       "output_type": "stream",
       "stream": "stdout",
       "text": [
        "\r",
        "25% [========>                            ] 1,262,877,072 9.43M/s  eta 6m 14s  "
       ]
      },
      {
       "output_type": "stream",
       "stream": "stdout",
       "text": [
        "\r",
        "25% [========>                            ] 1,265,105,596 9.54M/s  eta 6m 14s  "
       ]
      },
      {
       "output_type": "stream",
       "stream": "stdout",
       "text": [
        "\r",
        "25% [========>                            ] 1,267,342,572 10.0M/s  eta 6m 14s  "
       ]
      },
      {
       "output_type": "stream",
       "stream": "stdout",
       "text": [
        "\r",
        "25% [========>                            ] 1,269,589,062 10.1M/s  eta 6m 14s  "
       ]
      },
      {
       "output_type": "stream",
       "stream": "stdout",
       "text": [
        "\r",
        "25% [========>                            ] 1,271,739,372 10.1M/s  eta 6m 14s  "
       ]
      },
      {
       "output_type": "stream",
       "stream": "stdout",
       "text": [
        "\r",
        "26% [========>                            ] 1,273,956,904 10.2M/s  eta 6m 13s  "
       ]
      },
      {
       "output_type": "stream",
       "stream": "stdout",
       "text": [
        "\r",
        "26% [========>                            ] 1,276,196,628 10.3M/s  eta 6m 13s  "
       ]
      },
      {
       "output_type": "stream",
       "stream": "stdout",
       "text": [
        "\r",
        "26% [========>                            ] 1,278,423,882 10.3M/s  eta 6m 13s  "
       ]
      },
      {
       "output_type": "stream",
       "stream": "stdout",
       "text": [
        "\r",
        "26% [========>                            ] 1,280,675,868 10.4M/s  eta 6m 13s  "
       ]
      },
      {
       "output_type": "stream",
       "stream": "stdout",
       "text": [
        "\r",
        "26% [========>                            ] 1,282,859,154 10.4M/s  eta 6m 13s  "
       ]
      },
      {
       "output_type": "stream",
       "stream": "stdout",
       "text": [
        "\r",
        "26% [========>                            ] 1,285,109,766 10.4M/s  eta 6m 11s  "
       ]
      },
      {
       "output_type": "stream",
       "stream": "stdout",
       "text": [
        "\r",
        "26% [========>                            ] 1,287,364,500 10.5M/s  eta 6m 11s  "
       ]
      },
      {
       "output_type": "stream",
       "stream": "stdout",
       "text": [
        "\r",
        "26% [========>                            ] 1,289,595,876 10.5M/s  eta 6m 11s  "
       ]
      },
      {
       "output_type": "stream",
       "stream": "stdout",
       "text": [
        "\r",
        "26% [========>                            ] 1,291,850,610 10.6M/s  eta 6m 11s  "
       ]
      },
      {
       "output_type": "stream",
       "stream": "stdout",
       "text": [
        "\r",
        "26% [========>                            ] 1,294,105,344 10.6M/s  eta 6m 11s  "
       ]
      },
      {
       "output_type": "stream",
       "stream": "stdout",
       "text": [
        "\r",
        "26% [========>                            ] 1,296,353,208 10.6M/s  eta 6m 10s  "
       ]
      },
      {
       "output_type": "stream",
       "stream": "stdout",
       "text": [
        "\r",
        "26% [========>                            ] 1,298,223,222 10.5M/s  eta 6m 10s  "
       ]
      },
      {
       "output_type": "stream",
       "stream": "stdout",
       "text": [
        "\r",
        "26% [========>                            ] 1,299,498,294 10.2M/s  eta 6m 10s  "
       ]
      },
      {
       "output_type": "stream",
       "stream": "stdout",
       "text": [
        "\r",
        "26% [========>                            ] 1,300,888,782 9.96M/s  eta 6m 10s  "
       ]
      },
      {
       "output_type": "stream",
       "stream": "stdout",
       "text": [
        "\r",
        "26% [========>                            ] 1,302,187,212 9.69M/s  eta 6m 10s  "
       ]
      },
      {
       "output_type": "stream",
       "stream": "stdout",
       "text": [
        "\r",
        "26% [========>                            ] 1,303,631,286 9.44M/s  eta 6m 10s  "
       ]
      },
      {
       "output_type": "stream",
       "stream": "stdout",
       "text": [
        "\r",
        "26% [========>                            ] 1,305,328,176 9.29M/s  eta 6m 10s  "
       ]
      },
      {
       "output_type": "stream",
       "stream": "stdout",
       "text": [
        "\r",
        "26% [========>                            ] 1,307,165,214 9.19M/s  eta 6m 10s  "
       ]
      },
      {
       "output_type": "stream",
       "stream": "stdout",
       "text": [
        "\r",
        "26% [========>                            ] 1,309,029,732 9.03M/s  eta 6m 10s  "
       ]
      },
      {
       "output_type": "stream",
       "stream": "stdout",
       "text": [
        "\r",
        "26% [========>                            ] 1,310,912,112 8.94M/s  eta 6m 10s  "
       ]
      },
      {
       "output_type": "stream",
       "stream": "stdout",
       "text": [
        "\r",
        "26% [========>                            ] 1,312,820,598 8.89M/s  eta 6m 9s   "
       ]
      },
      {
       "output_type": "stream",
       "stream": "stdout",
       "text": [
        "\r",
        "26% [========>                            ] 1,314,763,434 8.72M/s  eta 6m 9s   "
       ]
      },
      {
       "output_type": "stream",
       "stream": "stdout",
       "text": [
        "\r",
        "26% [========>                            ] 1,316,721,384 8.67M/s  eta 6m 9s   "
       ]
      },
      {
       "output_type": "stream",
       "stream": "stdout",
       "text": [
        "\r",
        "26% [========>                            ] 1,318,688,952 8.62M/s  eta 6m 9s   "
       ]
      },
      {
       "output_type": "stream",
       "stream": "stdout",
       "text": [
        "\r",
        "26% [========>                            ] 1,320,719,724 8.48M/s  eta 6m 9s   "
       ]
      },
      {
       "output_type": "stream",
       "stream": "stdout",
       "text": [
        "\r",
        "27% [========>                            ] 1,322,747,748 8.45M/s  eta 6m 8s   "
       ]
      },
      {
       "output_type": "stream",
       "stream": "stdout",
       "text": [
        "\r",
        "27% [=========>                           ] 1,324,876,074 8.46M/s  eta 6m 8s   "
       ]
      },
      {
       "output_type": "stream",
       "stream": "stdout",
       "text": [
        "\r",
        "27% [=========>                           ] 1,327,008,522 8.68M/s  eta 6m 8s   "
       ]
      },
      {
       "output_type": "stream",
       "stream": "stdout",
       "text": [
        "\r",
        "27% [=========>                           ] 1,329,120,360 8.90M/s  eta 6m 8s   "
       ]
      },
      {
       "output_type": "stream",
       "stream": "stdout",
       "text": [
        "\r",
        "27% [=========>                           ] 1,331,266,548 9.08M/s  eta 6m 8s   "
       ]
      },
      {
       "output_type": "stream",
       "stream": "stdout",
       "text": [
        "\r",
        "27% [=========>                           ] 1,333,418,232 9.44M/s  eta 6m 6s   "
       ]
      },
      {
       "output_type": "stream",
       "stream": "stdout",
       "text": [
        "\r",
        "27% [=========>                           ] 1,335,580,908 9.57M/s  eta 6m 6s   "
       ]
      },
      {
       "output_type": "stream",
       "stream": "stdout",
       "text": [
        "\r",
        "27% [=========>                           ] 1,337,743,584 9.66M/s  eta 6m 6s   "
       ]
      },
      {
       "output_type": "stream",
       "stream": "stdout",
       "text": [
        "\r",
        "27% [=========>                           ] 1,339,904,886 9.79M/s  eta 6m 6s   "
       ]
      },
      {
       "output_type": "stream",
       "stream": "stdout",
       "text": [
        "\r",
        "27% [=========>                           ] 1,342,104,660 9.88M/s  eta 6m 6s   "
       ]
      },
      {
       "output_type": "stream",
       "stream": "stdout",
       "text": [
        "\r",
        "27% [=========>                           ] 1,344,304,434 9.97M/s  eta 6m 5s   "
       ]
      },
      {
       "output_type": "stream",
       "stream": "stdout",
       "text": [
        "\r",
        "27% [=========>                           ] 1,346,531,688 10.1M/s  eta 6m 5s   "
       ]
      },
      {
       "output_type": "stream",
       "stream": "stdout",
       "text": [
        "\r",
        "27% [=========>                           ] 1,348,775,430 10.2M/s  eta 6m 5s   "
       ]
      },
      {
       "output_type": "stream",
       "stream": "stdout",
       "text": [
        "\r",
        "27% [=========>                           ] 1,350,966,752 10.2M/s  eta 6m 5s   "
       ]
      },
      {
       "output_type": "stream",
       "stream": "stdout",
       "text": [
        "\r",
        "27% [=========>                           ] 1,353,210,702 10.3M/s  eta 6m 5s   "
       ]
      },
      {
       "output_type": "stream",
       "stream": "stdout",
       "text": [
        "\r",
        "27% [=========>                           ] 1,355,464,062 10.4M/s  eta 6m 3s   "
       ]
      },
      {
       "output_type": "stream",
       "stream": "stdout",
       "text": [
        "\r",
        "27% [=========>                           ] 1,357,711,926 10.4M/s  eta 6m 3s   "
       ]
      },
      {
       "output_type": "stream",
       "stream": "stdout",
       "text": [
        "\r",
        "27% [=========>                           ] 1,359,939,180 10.5M/s  eta 6m 3s   "
       ]
      },
      {
       "output_type": "stream",
       "stream": "stdout",
       "text": [
        "\r",
        "27% [=========>                           ] 1,362,221,394 10.5M/s  eta 6m 3s   "
       ]
      },
      {
       "output_type": "stream",
       "stream": "stdout",
       "text": [
        "\r",
        "27% [=========>                           ] 1,364,466,510 10.5M/s  eta 6m 3s   "
       ]
      },
      {
       "output_type": "stream",
       "stream": "stdout",
       "text": [
        "\r",
        "27% [=========>                           ] 1,366,728,114 10.6M/s  eta 6m 2s   "
       ]
      },
      {
       "output_type": "stream",
       "stream": "stdout",
       "text": [
        "\r",
        "27% [=========>                           ] 1,368,977,352 10.6M/s  eta 6m 2s   "
       ]
      },
      {
       "output_type": "stream",
       "stream": "stdout",
       "text": [
        "\r",
        "27% [=========>                           ] 1,371,229,338 10.6M/s  eta 6m 2s   "
       ]
      },
      {
       "output_type": "stream",
       "stream": "stdout",
       "text": [
        "\r",
        "28% [=========>                           ] 1,373,473,080 10.7M/s  eta 6m 2s   "
       ]
      },
      {
       "output_type": "stream",
       "stream": "stdout",
       "text": [
        "\r",
        "28% [=========>                           ] 1,375,727,814 10.7M/s  eta 6m 2s   "
       ]
      },
      {
       "output_type": "stream",
       "stream": "stdout",
       "text": [
        "\r",
        "28% [=========>                           ] 1,377,886,264 10.6M/s  eta 6m 0s   "
       ]
      },
      {
       "output_type": "stream",
       "stream": "stdout",
       "text": [
        "\r",
        "28% [=========>                           ] 1,379,590,128 10.4M/s  eta 6m 0s   "
       ]
      },
      {
       "output_type": "stream",
       "stream": "stdout",
       "text": [
        "\r",
        "28% [=========>                           ] 1,380,906,420 10.1M/s  eta 6m 0s   "
       ]
      },
      {
       "output_type": "stream",
       "stream": "stdout",
       "text": [
        "\r",
        "28% [=========>                           ] 1,382,295,534 9.87M/s  eta 6m 0s   "
       ]
      },
      {
       "output_type": "stream",
       "stream": "stdout",
       "text": [
        "\r",
        "28% [=========>                           ] 1,383,794,568 9.63M/s  eta 6m 0s   "
       ]
      },
      {
       "output_type": "stream",
       "stream": "stdout",
       "text": [
        "\r",
        "28% [=========>                           ] 1,385,462,604 9.47M/s  eta 6m 0s   "
       ]
      },
      {
       "output_type": "stream",
       "stream": "stdout",
       "text": [
        "\r",
        "28% [=========>                           ] 1,387,246,056 9.35M/s  eta 6m 0s   "
       ]
      },
      {
       "output_type": "stream",
       "stream": "stdout",
       "text": [
        "\r",
        "28% [=========>                           ] 1,389,035,004 9.16M/s  eta 6m 0s   "
       ]
      },
      {
       "output_type": "stream",
       "stream": "stdout",
       "text": [
        "\r",
        "28% [=========>                           ] 1,390,900,792 9.07M/s  eta 6m 0s   "
       ]
      },
      {
       "output_type": "stream",
       "stream": "stdout",
       "text": [
        "\r",
        "28% [=========>                           ] 1,392,834,114 9.00M/s  eta 6m 0s   "
       ]
      },
      {
       "output_type": "stream",
       "stream": "stdout",
       "text": [
        "\r",
        "28% [=========>                           ] 1,394,715,120 8.82M/s  eta 5m 59s  "
       ]
      },
      {
       "output_type": "stream",
       "stream": "stdout",
       "text": [
        "\r",
        "28% [=========>                           ] 1,396,748,640 8.79M/s  eta 5m 59s  "
       ]
      },
      {
       "output_type": "stream",
       "stream": "stdout",
       "text": [
        "\r",
        "28% [=========>                           ] 1,398,784,908 8.75M/s  eta 5m 59s  "
       ]
      },
      {
       "output_type": "stream",
       "stream": "stdout",
       "text": [
        "\r",
        "28% [=========>                           ] 1,400,755,224 8.61M/s  eta 5m 59s  "
       ]
      },
      {
       "output_type": "stream",
       "stream": "stdout",
       "text": [
        "\r",
        "28% [=========>                           ] 1,402,810,728 8.58M/s  eta 5m 59s  "
       ]
      },
      {
       "output_type": "stream",
       "stream": "stdout",
       "text": [
        "\r",
        "28% [=========>                           ] 1,404,908,826 8.56M/s  eta 5m 58s  "
       ]
      },
      {
       "output_type": "stream",
       "stream": "stdout",
       "text": [
        "\r",
        "28% [=========>                           ] 1,407,033,030 8.69M/s  eta 5m 58s  "
       ]
      },
      {
       "output_type": "stream",
       "stream": "stdout",
       "text": [
        "\r",
        "28% [=========>                           ] 1,409,166,852 8.89M/s  eta 5m 58s  "
       ]
      },
      {
       "output_type": "stream",
       "stream": "stdout",
       "text": [
        "\r",
        "28% [=========>                           ] 1,411,264,950 9.08M/s  eta 5m 58s  "
       ]
      },
      {
       "output_type": "stream",
       "stream": "stdout",
       "text": [
        "\r",
        "28% [=========>                           ] 1,413,367,170 9.36M/s  eta 5m 58s  "
       ]
      },
      {
       "output_type": "stream",
       "stream": "stdout",
       "text": [
        "\r",
        "28% [=========>                           ] 1,415,550,456 9.50M/s  eta 5m 57s  "
       ]
      },
      {
       "output_type": "stream",
       "stream": "stdout",
       "text": [
        "\r",
        "28% [=========>                           ] 1,417,750,126 9.62M/s  eta 5m 57s  "
       ]
      },
      {
       "output_type": "stream",
       "stream": "stdout",
       "text": [
        "\r",
        "28% [=========>                           ] 1,420,003,590 9.80M/s  eta 5m 57s  "
       ]
      },
      {
       "output_type": "stream",
       "stream": "stdout",
       "text": [
        "\r",
        "29% [=========>                           ] 1,422,250,080 9.91M/s  eta 5m 57s  "
       ]
      },
      {
       "output_type": "stream",
       "stream": "stdout",
       "text": [
        "\r",
        "29% [=========>                           ] 1,424,423,748 9.98M/s  eta 5m 57s  "
       ]
      },
      {
       "output_type": "stream",
       "stream": "stdout",
       "text": [
        "\r",
        "29% [=========>                           ] 1,426,642,758 10.1M/s  eta 5m 56s  "
       ]
      },
      {
       "output_type": "stream",
       "stream": "stdout",
       "text": [
        "\r",
        "29% [=========>                           ] 1,428,881,004 10.2M/s  eta 5m 56s  "
       ]
      },
      {
       "output_type": "stream",
       "stream": "stdout",
       "text": [
        "\r",
        "29% [=========>                           ] 1,431,132,990 10.2M/s  eta 5m 56s  "
       ]
      },
      {
       "output_type": "stream",
       "stream": "stdout",
       "text": [
        "\r",
        "29% [=========>                           ] 1,433,380,854 10.3M/s  eta 5m 56s  "
       ]
      },
      {
       "output_type": "stream",
       "stream": "stdout",
       "text": [
        "\r",
        "29% [=========>                           ] 1,435,609,482 10.4M/s  eta 5m 56s  "
       ]
      },
      {
       "output_type": "stream",
       "stream": "stdout",
       "text": [
        "\r",
        "29% [=========>                           ] 1,437,673,230 10.4M/s  eta 5m 54s  "
       ]
      },
      {
       "output_type": "stream",
       "stream": "stdout",
       "text": [
        "\r",
        "29% [=========>                           ] 1,439,932,086 10.4M/s  eta 5m 54s  "
       ]
      },
      {
       "output_type": "stream",
       "stream": "stdout",
       "text": [
        "\r",
        "29% [=========>                           ] 1,442,149,722 10.5M/s  eta 5m 54s  "
       ]
      },
      {
       "output_type": "stream",
       "stream": "stdout",
       "text": [
        "\r",
        "29% [=========>                           ] 1,444,425,066 10.5M/s  eta 5m 54s  "
       ]
      },
      {
       "output_type": "stream",
       "stream": "stdout",
       "text": [
        "\r",
        "29% [=========>                           ] 1,446,681,174 10.6M/s  eta 5m 54s  "
       ]
      },
      {
       "output_type": "stream",
       "stream": "stdout",
       "text": [
        "\r",
        "29% [=========>                           ] 1,448,944,152 10.6M/s  eta 5m 53s  "
       ]
      },
      {
       "output_type": "stream",
       "stream": "stdout",
       "text": [
        "\r",
        "29% [=========>                           ] 1,451,207,130 10.6M/s  eta 5m 53s  "
       ]
      },
      {
       "output_type": "stream",
       "stream": "stdout",
       "text": [
        "\r",
        "29% [=========>                           ] 1,453,472,856 10.6M/s  eta 5m 53s  "
       ]
      },
      {
       "output_type": "stream",
       "stream": "stdout",
       "text": [
        "\r",
        "29% [=========>                           ] 1,455,731,712 10.6M/s  eta 5m 53s  "
       ]
      },
      {
       "output_type": "stream",
       "stream": "stdout",
       "text": [
        "\r",
        "29% [==========>                          ] 1,457,288,454 10.4M/s  eta 5m 53s  "
       ]
      },
      {
       "output_type": "stream",
       "stream": "stdout",
       "text": [
        "\r",
        "29% [==========>                          ] 1,458,452,232 10.1M/s  eta 5m 52s  "
       ]
      },
      {
       "output_type": "stream",
       "stream": "stdout",
       "text": [
        "\r",
        "29% [==========>                          ] 1,460,013,096 9.91M/s  eta 5m 52s  "
       ]
      },
      {
       "output_type": "stream",
       "stream": "stdout",
       "text": [
        "\r",
        "29% [==========>                          ] 1,461,510,756 9.69M/s  eta 5m 52s  "
       ]
      },
      {
       "output_type": "stream",
       "stream": "stdout",
       "text": [
        "\r",
        "29% [==========>                          ] 1,463,059,254 9.44M/s  eta 5m 52s  "
       ]
      },
      {
       "output_type": "stream",
       "stream": "stdout",
       "text": [
        "\r",
        "29% [==========>                          ] 1,464,806,982 9.31M/s  eta 5m 52s  "
       ]
      },
      {
       "output_type": "stream",
       "stream": "stdout",
       "text": [
        "\r",
        "29% [==========>                          ] 1,466,583,564 9.20M/s  eta 5m 51s  "
       ]
      },
      {
       "output_type": "stream",
       "stream": "stdout",
       "text": [
        "\r",
        "29% [==========>                          ] 1,468,449,456 9.07M/s  eta 5m 51s  "
       ]
      },
      {
       "output_type": "stream",
       "stream": "stdout",
       "text": [
        "\r",
        "30% [==========>                          ] 1,470,346,950 9.00M/s  eta 5m 51s  "
       ]
      },
      {
       "output_type": "stream",
       "stream": "stdout",
       "text": [
        "\r",
        "30% [==========>                          ] 1,472,298,030 8.94M/s  eta 5m 51s  "
       ]
      },
      {
       "output_type": "stream",
       "stream": "stdout",
       "text": [
        "\r",
        "30% [==========>                          ] 1,474,334,298 8.81M/s  eta 5m 51s  "
       ]
      },
      {
       "output_type": "stream",
       "stream": "stdout",
       "text": [
        "\r",
        "30% [==========>                          ] 1,476,418,656 8.78M/s  eta 5m 50s  "
       ]
      },
      {
       "output_type": "stream",
       "stream": "stdout",
       "text": [
        "\r",
        "30% [==========>                          ] 1,478,520,876 8.78M/s  eta 5m 50s  "
       ]
      },
      {
       "output_type": "stream",
       "stream": "stdout",
       "text": [
        "\r",
        "30% [==========>                          ] 1,480,562,640 8.63M/s  eta 5m 50s  "
       ]
      },
      {
       "output_type": "stream",
       "stream": "stdout",
       "text": [
        "\r",
        "30% [==========>                          ] 1,482,605,778 8.60M/s  eta 5m 50s  "
       ]
      },
      {
       "output_type": "stream",
       "stream": "stdout",
       "text": [
        "\r",
        "30% [==========>                          ] 1,484,691,510 8.58M/s  eta 5m 50s  "
       ]
      },
      {
       "output_type": "stream",
       "stream": "stdout",
       "text": [
        "\r",
        "30% [==========>                          ] 1,486,420,002 8.85M/s  eta 5m 49s  "
       ]
      },
      {
       "output_type": "stream",
       "stream": "stdout",
       "text": [
        "\r",
        "30% [==========>                          ] 1,488,597,792 9.03M/s  eta 5m 49s  "
       ]
      },
      {
       "output_type": "stream",
       "stream": "stdout",
       "text": [
        "\r",
        "30% [==========>                          ] 1,490,748,102 9.19M/s  eta 5m 49s  "
       ]
      },
      {
       "output_type": "stream",
       "stream": "stdout",
       "text": [
        "\r",
        "30% [==========>                          ] 1,492,931,388 9.46M/s  eta 5m 49s  "
       ]
      },
      {
       "output_type": "stream",
       "stream": "stdout",
       "text": [
        "\r",
        "30% [==========>                          ] 1,495,120,170 9.59M/s  eta 5m 49s  "
       ]
      },
      {
       "output_type": "stream",
       "stream": "stdout",
       "text": [
        "\r",
        "30% [==========>                          ] 1,497,310,326 9.70M/s  eta 5m 48s  "
       ]
      },
      {
       "output_type": "stream",
       "stream": "stdout",
       "text": [
        "\r",
        "30% [==========>                          ] 1,499,532,084 9.85M/s  eta 5m 48s  "
       ]
      },
      {
       "output_type": "stream",
       "stream": "stdout",
       "text": [
        "\r",
        "30% [==========>                          ] 1,501,738,728 9.94M/s  eta 5m 48s  "
       ]
      },
      {
       "output_type": "stream",
       "stream": "stdout",
       "text": [
        "\r",
        "30% [==========>                          ] 1,503,974,226 10.0M/s  eta 5m 48s  "
       ]
      },
      {
       "output_type": "stream",
       "stream": "stdout",
       "text": [
        "\r",
        "30% [==========>                          ] 1,506,219,342 10.1M/s  eta 5m 48s  "
       ]
      },
      {
       "output_type": "stream",
       "stream": "stdout",
       "text": [
        "\r",
        "30% [==========>                          ] 1,508,467,206 10.2M/s  eta 5m 46s  "
       ]
      },
      {
       "output_type": "stream",
       "stream": "stdout",
       "text": [
        "\r",
        "30% [==========>                          ] 1,510,720,566 10.2M/s  eta 5m 46s  "
       ]
      },
      {
       "output_type": "stream",
       "stream": "stdout",
       "text": [
        "\r",
        "30% [==========>                          ] 1,512,951,942 10.3M/s  eta 5m 46s  "
       ]
      },
      {
       "output_type": "stream",
       "stream": "stdout",
       "text": [
        "\r",
        "30% [==========>                          ] 1,515,195,684 10.3M/s  eta 5m 46s  "
       ]
      },
      {
       "output_type": "stream",
       "stream": "stdout",
       "text": [
        "\r",
        "30% [==========>                          ] 1,517,405,076 10.4M/s  eta 5m 46s  "
       ]
      },
      {
       "output_type": "stream",
       "stream": "stdout",
       "text": [
        "\r",
        "31% [==========>                          ] 1,519,668,054 10.6M/s  eta 5m 45s  "
       ]
      },
      {
       "output_type": "stream",
       "stream": "stdout",
       "text": [
        "\r",
        "31% [==========>                          ] 1,521,920,040 10.6M/s  eta 5m 45s  "
       ]
      },
      {
       "output_type": "stream",
       "stream": "stdout",
       "text": [
        "\r",
        "31% [==========>                          ] 1,524,169,278 10.6M/s  eta 5m 45s  "
       ]
      },
      {
       "output_type": "stream",
       "stream": "stdout",
       "text": [
        "\r",
        "31% [==========>                          ] 1,526,421,264 10.6M/s  eta 5m 45s  "
       ]
      },
      {
       "output_type": "stream",
       "stream": "stdout",
       "text": [
        "\r",
        "31% [==========>                          ] 1,528,667,754 10.6M/s  eta 5m 45s  "
       ]
      },
      {
       "output_type": "stream",
       "stream": "stdout",
       "text": [
        "\r",
        "31% [==========>                          ] 1,530,919,740 10.7M/s  eta 5m 43s  "
       ]
      },
      {
       "output_type": "stream",
       "stream": "stdout",
       "text": [
        "\r",
        "31% [==========>                          ] 1,533,197,832 10.7M/s  eta 5m 43s  "
       ]
      },
      {
       "output_type": "stream",
       "stream": "stdout",
       "text": [
        "\r",
        "31% [==========>                          ] 1,534,415,448 9.90M/s  eta 5m 43s  "
       ]
      },
      {
       "output_type": "stream",
       "stream": "stdout",
       "text": [
        "\r",
        "31% [==========>                          ] 1,536,748,248 9.95M/s  eta 5m 43s  "
       ]
      },
      {
       "output_type": "stream",
       "stream": "stdout",
       "text": [
        "\r",
        "31% [==========>                          ] 1,538,972,754 9.95M/s  eta 5m 43s  "
       ]
      },
      {
       "output_type": "stream",
       "stream": "stdout",
       "text": [
        "\r",
        "31% [==========>                          ] 1,541,194,512 9.95M/s  eta 5m 43s  "
       ]
      },
      {
       "output_type": "stream",
       "stream": "stdout",
       "text": [
        "\r",
        "31% [==========>                          ] 1,542,350,046 9.60M/s  eta 5m 43s  "
       ]
      },
      {
       "output_type": "stream",
       "stream": "stdout",
       "text": [
        "\r",
        "31% [==========>                          ] 1,543,479,474 9.28M/s  eta 5m 43s  "
       ]
      },
      {
       "output_type": "stream",
       "stream": "stdout",
       "text": [
        "\r",
        "31% [==========>                          ] 1,544,816,376 9.05M/s  eta 5m 43s  "
       ]
      },
      {
       "output_type": "stream",
       "stream": "stdout",
       "text": [
        "\r",
        "31% [==========>                          ] 1,546,135,416 8.71M/s  eta 5m 43s  "
       ]
      },
      {
       "output_type": "stream",
       "stream": "stdout",
       "text": [
        "\r",
        "31% [==========>                          ] 1,547,487,432 8.47M/s  eta 5m 43s  "
       ]
      },
      {
       "output_type": "stream",
       "stream": "stdout",
       "text": [
        "\r",
        "31% [==========>                          ] 1,548,957,612 8.27M/s  eta 5m 43s  "
       ]
      },
      {
       "output_type": "stream",
       "stream": "stdout",
       "text": [
        "\r",
        "31% [==========>                          ] 1,550,632,518 8.02M/s  eta 5m 43s  "
       ]
      },
      {
       "output_type": "stream",
       "stream": "stdout",
       "text": [
        "\r",
        "31% [==========>                          ] 1,552,362,384 7.91M/s  eta 5m 43s  "
       ]
      },
      {
       "output_type": "stream",
       "stream": "stdout",
       "text": [
        "\r",
        "31% [==========>                          ] 1,554,154,080 7.82M/s  eta 5m 43s  "
       ]
      },
      {
       "output_type": "stream",
       "stream": "stdout",
       "text": [
        "\r",
        "31% [==========>                          ] 1,556,028,216 7.61M/s  eta 5m 42s  "
       ]
      },
      {
       "output_type": "stream",
       "stream": "stdout",
       "text": [
        "\r",
        "31% [==========>                          ] 1,557,913,344 7.55M/s  eta 5m 42s  "
       ]
      },
      {
       "output_type": "stream",
       "stream": "stdout",
       "text": [
        "\r",
        "31% [==========>                          ] 1,559,878,164 7.63M/s  eta 5m 42s  "
       ]
      },
      {
       "output_type": "stream",
       "stream": "stdout",
       "text": [
        "\r",
        "31% [==========>                          ] 1,561,840,236 8.01M/s  eta 5m 42s  "
       ]
      },
      {
       "output_type": "stream",
       "stream": "stdout",
       "text": [
        "\r",
        "31% [==========>                          ] 1,563,869,634 7.99M/s  eta 5m 42s  "
       ]
      },
      {
       "output_type": "stream",
       "stream": "stdout",
       "text": [
        "\r",
        "31% [==========>                          ] 1,565,889,414 7.97M/s  eta 5m 41s  "
       ]
      },
      {
       "output_type": "stream",
       "stream": "stdout",
       "text": [
        "\r",
        "32% [==========>                          ] 1,567,960,032 8.06M/s  eta 5m 41s  "
       ]
      },
      {
       "output_type": "stream",
       "stream": "stdout",
       "text": [
        "\r",
        "32% [==========>                          ] 1,569,997,674 8.33M/s  eta 5m 41s  "
       ]
      },
      {
       "output_type": "stream",
       "stream": "stdout",
       "text": [
        "\r",
        "32% [==========>                          ] 1,572,046,308 8.54M/s  eta 5m 41s  "
       ]
      },
      {
       "output_type": "stream",
       "stream": "stdout",
       "text": [
        "\r",
        "32% [==========>                          ] 1,574,255,700 8.87M/s  eta 5m 41s  "
       ]
      },
      {
       "output_type": "stream",
       "stream": "stdout",
       "text": [
        "\r",
        "32% [==========>                          ] 1,576,421,124 9.09M/s  eta 5m 40s  "
       ]
      },
      {
       "output_type": "stream",
       "stream": "stdout",
       "text": [
        "\r",
        "32% [==========>                          ] 1,578,583,800 9.29M/s  eta 5m 40s  "
       ]
      },
      {
       "output_type": "stream",
       "stream": "stdout",
       "text": [
        "\r",
        "32% [==========>                          ] 1,580,712,126 9.52M/s  eta 5m 40s  "
       ]
      },
      {
       "output_type": "stream",
       "stream": "stdout",
       "text": [
        "\r",
        "32% [==========>                          ] 1,582,876,176 9.64M/s  eta 5m 40s  "
       ]
      },
      {
       "output_type": "stream",
       "stream": "stdout",
       "text": [
        "\r",
        "32% [==========>                          ] 1,585,075,950 9.75M/s  eta 5m 40s  "
       ]
      },
      {
       "output_type": "stream",
       "stream": "stdout",
       "text": [
        "\r",
        "32% [==========>                          ] 1,587,191,910 9.86M/s  eta 5m 39s  "
       ]
      },
      {
       "output_type": "stream",
       "stream": "stdout",
       "text": [
        "\r",
        "32% [===========>                         ] 1,589,332,602 9.93M/s  eta 5m 39s  "
       ]
      },
      {
       "output_type": "stream",
       "stream": "stdout",
       "text": [
        "\r",
        "32% [===========>                         ] 1,591,522,758 10.0M/s  eta 5m 39s  "
       ]
      },
      {
       "output_type": "stream",
       "stream": "stdout",
       "text": [
        "\r",
        "32% [===========>                         ] 1,593,721,158 10.1M/s  eta 5m 39s  "
       ]
      },
      {
       "output_type": "stream",
       "stream": "stdout",
       "text": [
        "\r",
        "32% [===========>                         ] 1,595,947,038 10.2M/s  eta 5m 39s  "
       ]
      },
      {
       "output_type": "stream",
       "stream": "stdout",
       "text": [
        "\r",
        "32% [===========>                         ] 1,598,175,666 10.2M/s  eta 5m 37s  "
       ]
      },
      {
       "output_type": "stream",
       "stream": "stdout",
       "text": [
        "\r",
        "32% [===========>                         ] 1,600,419,408 10.3M/s  eta 5m 37s  "
       ]
      },
      {
       "output_type": "stream",
       "stream": "stdout",
       "text": [
        "\r",
        "32% [===========>                         ] 1,602,639,792 10.3M/s  eta 5m 37s  "
       ]
      },
      {
       "output_type": "stream",
       "stream": "stdout",
       "text": [
        "\r",
        "32% [===========>                         ] 1,604,862,924 10.4M/s  eta 5m 37s  "
       ]
      },
      {
       "output_type": "stream",
       "stream": "stdout",
       "text": [
        "\r",
        "32% [===========>                         ] 1,607,109,414 10.4M/s  eta 5m 37s  "
       ]
      },
      {
       "output_type": "stream",
       "stream": "stdout",
       "text": [
        "\r",
        "32% [===========>                         ] 1,609,266,594 10.4M/s  eta 5m 36s  "
       ]
      },
      {
       "output_type": "stream",
       "stream": "stdout",
       "text": [
        "\r",
        "32% [===========>                         ] 1,611,528,094 10.4M/s  eta 5m 36s  "
       ]
      },
      {
       "output_type": "stream",
       "stream": "stdout",
       "text": [
        "\r",
        "32% [===========>                         ] 1,613,754,078 10.5M/s  eta 5m 36s  "
       ]
      },
      {
       "output_type": "stream",
       "stream": "stdout",
       "text": [
        "\r",
        "32% [===========>                         ] 1,615,200,900 10.3M/s  eta 5m 36s  "
       ]
      },
      {
       "output_type": "stream",
       "stream": "stdout",
       "text": [
        "\r",
        "33% [===========>                         ] 1,617,465,252 10.3M/s  eta 5m 36s  "
       ]
      },
      {
       "output_type": "stream",
       "stream": "stdout",
       "text": [
        "\r",
        "33% [===========>                         ] 1,619,722,734 10.3M/s  eta 5m 35s  "
       ]
      },
      {
       "output_type": "stream",
       "stream": "stdout",
       "text": [
        "\r",
        "33% [===========>                         ] 1,621,251,996 10.1M/s  eta 5m 35s  "
       ]
      },
      {
       "output_type": "stream",
       "stream": "stdout",
       "text": [
        "\r",
        "33% [===========>                         ] 1,622,463,760 9.82M/s  eta 5m 35s  "
       ]
      },
      {
       "output_type": "stream",
       "stream": "stdout",
       "text": [
        "\r",
        "33% [===========>                         ] 1,623,675,732 9.50M/s  eta 5m 35s  "
       ]
      },
      {
       "output_type": "stream",
       "stream": "stdout",
       "text": [
        "\r",
        "33% [===========>                         ] 1,625,180,262 9.29M/s  eta 5m 35s  "
       ]
      },
      {
       "output_type": "stream",
       "stream": "stdout",
       "text": [
        "\r",
        "33% [===========>                         ] 1,626,816,696 9.06M/s  eta 5m 34s  "
       ]
      },
      {
       "output_type": "stream",
       "stream": "stdout",
       "text": [
        "\r",
        "33% [===========>                         ] 1,628,487,480 8.91M/s  eta 5m 34s  "
       ]
      },
      {
       "output_type": "stream",
       "stream": "stdout",
       "text": [
        "\r",
        "33% [===========>                         ] 1,630,270,932 8.80M/s  eta 5m 34s  "
       ]
      },
      {
       "output_type": "stream",
       "stream": "stdout",
       "text": [
        "\r",
        "33% [===========>                         ] 1,632,070,872 8.71M/s  eta 5m 34s  "
       ]
      },
      {
       "output_type": "stream",
       "stream": "stdout",
       "text": [
        "\r",
        "33% [===========>                         ] 1,633,975,236 8.53M/s  eta 5m 34s  "
       ]
      },
      {
       "output_type": "stream",
       "stream": "stdout",
       "text": [
        "\r",
        "33% [===========>                         ] 1,635,842,502 8.45M/s  eta 5m 34s  "
       ]
      },
      {
       "output_type": "stream",
       "stream": "stdout",
       "text": [
        "\r",
        "33% [===========>                         ] 1,637,311,308 8.26M/s  eta 5m 34s  "
       ]
      },
      {
       "output_type": "stream",
       "stream": "stdout",
       "text": [
        "\r",
        "33% [===========>                         ] 1,638,593,250 7.90M/s  eta 5m 34s  "
       ]
      },
      {
       "output_type": "stream",
       "stream": "stdout",
       "text": [
        "\r",
        "33% [===========>                         ] 1,639,871,070 7.76M/s  eta 5m 34s  "
       ]
      },
      {
       "output_type": "stream",
       "stream": "stdout",
       "text": [
        "\r",
        "33% [===========>                         ] 1,641,272,550 7.68M/s  eta 5m 34s  "
       ]
      },
      {
       "output_type": "stream",
       "stream": "stdout",
       "text": [
        "\r",
        "33% [===========>                         ] 1,642,871,886 7.37M/s  eta 5m 33s  "
       ]
      },
      {
       "output_type": "stream",
       "stream": "stdout",
       "text": [
        "\r",
        "33% [===========>                         ] 1,644,458,856 7.29M/s  eta 5m 33s  "
       ]
      },
      {
       "output_type": "stream",
       "stream": "stdout",
       "text": [
        "\r",
        "33% [===========>                         ] 1,646,166,738 7.41M/s  eta 5m 33s  "
       ]
      },
      {
       "output_type": "stream",
       "stream": "stdout",
       "text": [
        "\r",
        "33% [===========>                         ] 1,647,117,546 6.95M/s  eta 5m 33s  "
       ]
      },
      {
       "output_type": "stream",
       "stream": "stdout",
       "text": [
        "\r",
        "33% [===========>                         ] 1,647,845,766 6.72M/s  eta 5m 34s  "
       ]
      },
      {
       "output_type": "stream",
       "stream": "stdout",
       "text": [
        "\r",
        "33% [===========>                         ] 1,648,804,818 6.52M/s  eta 5m 34s  "
       ]
      },
      {
       "output_type": "stream",
       "stream": "stdout",
       "text": [
        "\r",
        "33% [===========>                         ] 1,649,795,472 6.35M/s  eta 5m 34s  "
       ]
      },
      {
       "output_type": "stream",
       "stream": "stdout",
       "text": [
        "\r",
        "33% [===========>                         ] 1,650,907,038 6.08M/s  eta 5m 34s  "
       ]
      },
      {
       "output_type": "stream",
       "stream": "stdout",
       "text": [
        "\r",
        "33% [===========>                         ] 1,651,970,514 5.90M/s  eta 5m 34s  "
       ]
      },
      {
       "output_type": "stream",
       "stream": "stdout",
       "text": [
        "\r",
        "33% [===========>                         ] 1,653,098,568 5.73M/s  eta 5m 34s  "
       ]
      },
      {
       "output_type": "stream",
       "stream": "stdout",
       "text": [
        "\r",
        "33% [===========>                         ] 1,654,296,696 5.42M/s  eta 5m 34s  "
       ]
      },
      {
       "output_type": "stream",
       "stream": "stdout",
       "text": [
        "\r",
        "33% [===========>                         ] 1,655,529,174 5.41M/s  eta 5m 34s  "
       ]
      },
      {
       "output_type": "stream",
       "stream": "stdout",
       "text": [
        "\r",
        "33% [===========>                         ] 1,656,738,294 5.39M/s  eta 5m 34s  "
       ]
      },
      {
       "output_type": "stream",
       "stream": "stdout",
       "text": [
        "\r",
        "33% [===========>                         ] 1,658,138,400 5.40M/s  eta 5m 34s  "
       ]
      },
      {
       "output_type": "stream",
       "stream": "stdout",
       "text": [
        "\r",
        "33% [===========>                         ] 1,659,342,024 5.36M/s  eta 5m 34s  "
       ]
      },
      {
       "output_type": "stream",
       "stream": "stdout",
       "text": [
        "\r",
        "33% [===========>                         ] 1,660,559,388 5.29M/s  eta 5m 34s  "
       ]
      },
      {
       "output_type": "stream",
       "stream": "stdout",
       "text": [
        "\r",
        "33% [===========>                         ] 1,661,805,606 5.10M/s  eta 5m 34s  "
       ]
      },
      {
       "output_type": "stream",
       "stream": "stdout",
       "text": [
        "\r",
        "33% [===========>                         ] 1,662,862,212 4.94M/s  eta 5m 34s  "
       ]
      },
      {
       "output_type": "stream",
       "stream": "stdout",
       "text": [
        "\r",
        "33% [===========>                         ] 1,663,524,376 4.99M/s  eta 5m 34s  "
       ]
      },
      {
       "output_type": "stream",
       "stream": "stdout",
       "text": [
        "\r",
        "33% [===========>                         ] 1,664,403,840 5.01M/s  eta 5m 35s  "
       ]
      },
      {
       "output_type": "stream",
       "stream": "stdout",
       "text": [
        "\r",
        "33% [===========>                         ] 1,665,035,880 4.93M/s  eta 5m 35s  "
       ]
      },
      {
       "output_type": "stream",
       "stream": "stdout",
       "text": [
        "\r",
        "34% [===========>                         ] 1,665,931,728 4.89M/s  eta 5m 35s  "
       ]
      },
      {
       "output_type": "stream",
       "stream": "stdout",
       "text": [
        "\r",
        "34% [===========>                         ] 1,666,841,316 4.84M/s  eta 5m 35s  "
       ]
      },
      {
       "output_type": "stream",
       "stream": "stdout",
       "text": [
        "\r",
        "34% [===========>                         ] 1,667,635,488 4.77M/s  eta 5m 35s  "
       ]
      },
      {
       "output_type": "stream",
       "stream": "stdout",
       "text": [
        "\r",
        "34% [===========>                         ] 1,668,503,856 4.74M/s  eta 5m 36s  "
       ]
      },
      {
       "output_type": "stream",
       "stream": "stdout",
       "text": [
        "\r",
        "34% [===========>                         ] 1,669,399,704 4.60M/s  eta 5m 36s  "
       ]
      },
      {
       "output_type": "stream",
       "stream": "stdout",
       "text": [
        "\r",
        "34% [===========>                         ] 1,670,276,316 4.51M/s  eta 5m 36s  "
       ]
      },
      {
       "output_type": "stream",
       "stream": "stdout",
       "text": [
        "\r",
        "34% [===========>                         ] 1,671,199,644 4.45M/s  eta 5m 36s  "
       ]
      },
      {
       "output_type": "stream",
       "stream": "stdout",
       "text": [
        "\r",
        "34% [===========>                         ] 1,671,375,516 3.94M/s  eta 5m 36s  "
       ]
      },
      {
       "output_type": "stream",
       "stream": "stdout",
       "text": [
        "\r",
        "34% [===========>                         ] 1,671,779,472 3.72M/s  eta 5m 37s  "
       ]
      },
      {
       "output_type": "stream",
       "stream": "stdout",
       "text": [
        "\r",
        "34% [===========>                         ] 1,672,370,292 3.59M/s  eta 5m 37s  "
       ]
      },
      {
       "output_type": "stream",
       "stream": "stdout",
       "text": [
        "\r",
        "34% [===========>                         ] 1,672,749,516 3.15M/s  eta 5m 37s  "
       ]
      },
      {
       "output_type": "stream",
       "stream": "stdout",
       "text": [
        "\r",
        "34% [===========>                         ] 1,673,330,718 3.05M/s  eta 5m 37s  "
       ]
      },
      {
       "output_type": "stream",
       "stream": "stdout",
       "text": [
        "\r",
        "34% [===========>                         ] 1,673,874,822 2.91M/s  eta 5m 37s  "
       ]
      },
      {
       "output_type": "stream",
       "stream": "stdout",
       "text": [
        "\r",
        "34% [===========>                         ] 1,674,520,602 3.07M/s  eta 5m 38s  "
       ]
      },
      {
       "output_type": "stream",
       "stream": "stdout",
       "text": [
        "\r",
        "34% [===========>                         ] 1,675,423,320 3.09M/s  eta 5m 38s  "
       ]
      },
      {
       "output_type": "stream",
       "stream": "stdout",
       "text": [
        "\r",
        "34% [===========>                         ] 1,676,299,932 3.13M/s  eta 5m 38s  "
       ]
      },
      {
       "output_type": "stream",
       "stream": "stdout",
       "text": [
        "\r",
        "34% [===========>                         ] 1,676,882,508 3.06M/s  eta 5m 38s  "
       ]
      },
      {
       "output_type": "stream",
       "stream": "stdout",
       "text": [
        "\r",
        "34% [===========>                         ] 1,677,278,220 2.79M/s  eta 5m 38s  "
       ]
      },
      {
       "output_type": "stream",
       "stream": "stdout",
       "text": [
        "\r",
        "34% [===========>                         ] 1,678,294,980 2.84M/s  eta 5m 39s  "
       ]
      },
      {
       "output_type": "stream",
       "stream": "stdout",
       "text": [
        "\r",
        "34% [===========>                         ] 1,679,256,780 2.90M/s  eta 5m 39s  "
       ]
      },
      {
       "output_type": "stream",
       "stream": "stdout",
       "text": [
        "\r",
        "34% [===========>                         ] 1,680,316,134 2.90M/s  eta 5m 39s  "
       ]
      },
      {
       "output_type": "stream",
       "stream": "stdout",
       "text": [
        "\r",
        "34% [===========>                         ] 1,681,337,016 2.95M/s  eta 5m 39s  "
       ]
      },
      {
       "output_type": "stream",
       "stream": "stdout",
       "text": [
        "\r",
        "34% [===========>                         ] 1,682,440,338 3.02M/s  eta 5m 39s  "
       ]
      },
      {
       "output_type": "stream",
       "stream": "stdout",
       "text": [
        "\r",
        "34% [===========>                         ] 1,683,540,912 3.35M/s  eta 5m 39s  "
       ]
      },
      {
       "output_type": "stream",
       "stream": "stdout",
       "text": [
        "\r",
        "34% [===========>                         ] 1,684,590,648 3.56M/s  eta 5m 39s  "
       ]
      },
      {
       "output_type": "stream",
       "stream": "stdout",
       "text": [
        "\r",
        "34% [===========>                         ] 1,685,803,890 3.70M/s  eta 5m 39s  "
       ]
      },
      {
       "output_type": "stream",
       "stream": "stdout",
       "text": [
        "\r",
        "34% [===========>                         ] 1,686,938,814 4.06M/s  eta 5m 39s  "
       ]
      },
      {
       "output_type": "stream",
       "stream": "stdout",
       "text": [
        "\r",
        "34% [===========>                         ] 1,688,068,242 4.26M/s  eta 5m 39s  "
       ]
      },
      {
       "output_type": "stream",
       "stream": "stdout",
       "text": [
        "\r",
        "34% [===========>                         ] 1,689,025,920 4.36M/s  eta 5m 40s  "
       ]
      },
      {
       "output_type": "stream",
       "stream": "stdout",
       "text": [
        "\r",
        "34% [===========>                         ] 1,689,837,954 4.38M/s  eta 5m 40s  "
       ]
      },
      {
       "output_type": "stream",
       "stream": "stdout",
       "text": [
        "\r",
        "34% [===========>                         ] 1,690,759,908 4.39M/s  eta 5m 40s  "
       ]
      },
      {
       "output_type": "stream",
       "stream": "stdout",
       "text": [
        "\r",
        "34% [===========>                         ] 1,691,626,798 4.42M/s  eta 5m 40s  "
       ]
      },
      {
       "output_type": "stream",
       "stream": "stdout",
       "text": [
        "\r",
        "34% [===========>                         ] 1,692,324,894 4.41M/s  eta 5m 40s  "
       ]
      },
      {
       "output_type": "stream",
       "stream": "stdout",
       "text": [
        "\r",
        "34% [===========>                         ] 1,693,356,768 4.75M/s  eta 5m 40s  "
       ]
      },
      {
       "output_type": "stream",
       "stream": "stdout",
       "text": [
        "\r",
        "34% [===========>                         ] 1,694,446,350 4.81M/s  eta 5m 40s  "
       ]
      },
      {
       "output_type": "stream",
       "stream": "stdout",
       "text": [
        "\r",
        "34% [===========>                         ] 1,695,406,672 4.79M/s  eta 5m 40s  "
       ]
      },
      {
       "output_type": "stream",
       "stream": "stdout",
       "text": [
        "\r",
        "34% [===========>                         ] 1,696,402,926 4.78M/s  eta 5m 40s  "
       ]
      },
      {
       "output_type": "stream",
       "stream": "stdout",
       "text": [
        "\r",
        "34% [===========>                         ] 1,697,426,556 4.76M/s  eta 5m 40s  "
       ]
      },
      {
       "output_type": "stream",
       "stream": "stdout",
       "text": [
        "\r",
        "34% [===========>                         ] 1,698,411,714 4.74M/s  eta 5m 41s  "
       ]
      },
      {
       "output_type": "stream",
       "stream": "stdout",
       "text": [
        "\r",
        "34% [===========>                         ] 1,699,204,512 4.64M/s  eta 5m 41s  "
       ]
      },
      {
       "output_type": "stream",
       "stream": "stdout",
       "text": [
        "\r",
        "34% [===========>                         ] 1,699,785,714 4.47M/s  eta 5m 41s  "
       ]
      },
      {
       "output_type": "stream",
       "stream": "stdout",
       "text": [
        "\r",
        "34% [===========>                         ] 1,700,116,848 4.18M/s  eta 5m 41s  "
       ]
      },
      {
       "output_type": "stream",
       "stream": "stdout",
       "text": [
        "\r",
        "34% [===========>                         ] 1,700,401,266 3.72M/s  eta 5m 41s  "
       ]
      },
      {
       "output_type": "stream",
       "stream": "stdout",
       "text": [
        "\r",
        "34% [===========>                         ] 1,700,937,126 3.60M/s  eta 5m 42s  "
       ]
      },
      {
       "output_type": "stream",
       "stream": "stdout",
       "text": [
        "\r",
        "34% [===========>                         ] 1,701,738,168 3.58M/s  eta 5m 42s  "
       ]
      },
      {
       "output_type": "stream",
       "stream": "stdout",
       "text": [
        "\r",
        "34% [===========>                         ] 1,702,730,196 3.62M/s  eta 5m 42s  "
       ]
      },
      {
       "output_type": "stream",
       "stream": "stdout",
       "text": [
        "\r",
        "34% [===========>                         ] 1,703,821,152 3.66M/s  eta 5m 42s  "
       ]
      },
      {
       "output_type": "stream",
       "stream": "stdout",
       "text": [
        "\r",
        "34% [===========>                         ] 1,704,912,004 3.77M/s  eta 5m 42s  "
       ]
      },
      {
       "output_type": "stream",
       "stream": "stdout",
       "text": [
        "\r",
        "34% [===========>                         ] 1,705,838,184 3.81M/s  eta 5m 42s  "
       ]
      },
      {
       "output_type": "stream",
       "stream": "stdout",
       "text": [
        "\r",
        "34% [===========>                         ] 1,706,810,976 3.73M/s  eta 5m 42s  "
       ]
      },
      {
       "output_type": "stream",
       "stream": "stdout",
       "text": [
        "\r",
        "34% [===========>                         ] 1,707,712,320 3.70M/s  eta 5m 42s  "
       ]
      },
      {
       "output_type": "stream",
       "stream": "stdout",
       "text": [
        "\r",
        "34% [===========>                         ] 1,708,727,706 3.72M/s  eta 5m 42s  "
       ]
      },
      {
       "output_type": "stream",
       "stream": "stdout",
       "text": [
        "\r",
        "34% [===========>                         ] 1,709,826,906 3.74M/s  eta 5m 42s  "
       ]
      },
      {
       "output_type": "stream",
       "stream": "stdout",
       "text": [
        "\r",
        "34% [===========>                         ] 1,710,087,966 3.40M/s  eta 5m 43s  "
       ]
      },
      {
       "output_type": "stream",
       "stream": "stdout",
       "text": [
        "\r",
        "34% [===========>                         ] 1,710,982,440 3.42M/s  eta 5m 43s  "
       ]
      },
      {
       "output_type": "stream",
       "stream": "stdout",
       "text": [
        "\r",
        "34% [===========>                         ] 1,711,507,308 3.33M/s  eta 5m 43s  "
       ]
      },
      {
       "output_type": "stream",
       "stream": "stdout",
       "text": [
        "\r",
        "34% [===========>                         ] 1,712,339,952 3.44M/s  eta 5m 43s  "
       ]
      },
      {
       "output_type": "stream",
       "stream": "stdout",
       "text": [
        "\r",
        "34% [===========>                         ] 1,713,257,784 3.61M/s  eta 5m 43s  "
       ]
      },
      {
       "output_type": "stream",
       "stream": "stdout",
       "text": [
        "\r",
        "34% [===========>                         ] 1,714,161,876 3.78M/s  eta 5m 44s  "
       ]
      },
      {
       "output_type": "stream",
       "stream": "stdout",
       "text": [
        "\r",
        "35% [===========>                         ] 1,714,978,032 3.80M/s  eta 5m 44s  "
       ]
      },
      {
       "output_type": "stream",
       "stream": "stdout",
       "text": [
        "\r",
        "35% [===========>                         ] 1,715,965,938 3.84M/s  eta 5m 44s  "
       ]
      },
      {
       "output_type": "stream",
       "stream": "stdout",
       "text": [
        "\r",
        "35% [===========>                         ] 1,717,026,666 3.87M/s  eta 5m 44s  "
       ]
      },
      {
       "output_type": "stream",
       "stream": "stdout",
       "text": [
        "\r",
        "35% [===========>                         ] 1,718,120,370 3.83M/s  eta 5m 44s  "
       ]
      },
      {
       "output_type": "stream",
       "stream": "stdout",
       "text": [
        "\r",
        "35% [===========>                         ] 1,719,193,464 3.85M/s  eta 5m 44s  "
       ]
      },
      {
       "output_type": "stream",
       "stream": "stdout",
       "text": [
        "\r",
        "35% [===========>                         ] 1,719,516,354 3.49M/s  eta 5m 44s  "
       ]
      },
      {
       "output_type": "stream",
       "stream": "stdout",
       "text": [
        "\r",
        "35% [===========>                         ] 1,720,064,476 3.38M/s  eta 5m 44s  "
       ]
      },
      {
       "output_type": "stream",
       "stream": "stdout",
       "text": [
        "\r",
        "35% [===========>                         ] 1,721,068,974 3.41M/s  eta 5m 44s  "
       ]
      },
      {
       "output_type": "stream",
       "stream": "stdout",
       "text": [
        "\r",
        "35% [============>                        ] 1,722,062,376 3.35M/s  eta 5m 45s  "
       ]
      },
      {
       "output_type": "stream",
       "stream": "stdout",
       "text": [
        "\r",
        "35% [============>                        ] 1,723,069,518 3.65M/s  eta 5m 45s  "
       ]
      },
      {
       "output_type": "stream",
       "stream": "stdout",
       "text": [
        "\r",
        "35% [============>                        ] 1,723,947,504 3.48M/s  eta 5m 45s  "
       ]
      },
      {
       "output_type": "stream",
       "stream": "stdout",
       "text": [
        "\r",
        "35% [============>                        ] 1,724,417,412 3.45M/s  eta 5m 45s  "
       ]
      },
      {
       "output_type": "stream",
       "stream": "stdout",
       "text": [
        "\r",
        "35% [============>                        ] 1,725,289,902 3.46M/s  eta 5m 45s  "
       ]
      },
      {
       "output_type": "stream",
       "stream": "stdout",
       "text": [
        "\r",
        "35% [============>                        ] 1,726,269,564 3.44M/s  eta 5m 46s  "
       ]
      },
      {
       "output_type": "stream",
       "stream": "stdout",
       "text": [
        "\r",
        "35% [============>                        ] 1,727,360,520 3.72M/s  eta 5m 46s  "
       ]
      },
      {
       "output_type": "stream",
       "stream": "stdout",
       "text": [
        "\r",
        "35% [============>                        ] 1,728,352,548 3.78M/s  eta 5m 46s  "
       ]
      },
      {
       "output_type": "stream",
       "stream": "stdout",
       "text": [
        "\r",
        "35% [============>                        ] 1,729,270,380 3.78M/s  eta 5m 46s  "
       ]
      },
      {
       "output_type": "stream",
       "stream": "stdout",
       "text": [
        "\r",
        "35% [============>                        ] 1,730,309,124 3.79M/s  eta 5m 46s  "
       ]
      },
      {
       "output_type": "stream",
       "stream": "stdout",
       "text": [
        "\r",
        "35% [============>                        ] 1,731,393,210 3.76M/s  eta 5m 47s  "
       ]
      },
      {
       "output_type": "stream",
       "stream": "stdout",
       "text": [
        "\r",
        "35% [============>                        ] 1,732,508,898 3.78M/s  eta 5m 47s  "
       ]
      },
      {
       "output_type": "stream",
       "stream": "stdout",
       "text": [
        "\r",
        "35% [============>                        ] 1,733,588,862 3.80M/s  eta 5m 47s  "
       ]
      },
      {
       "output_type": "stream",
       "stream": "stdout",
       "text": [
        "\r",
        "35% [============>                        ] 1,734,742,918 4.33M/s  eta 5m 47s  "
       ]
      },
      {
       "output_type": "stream",
       "stream": "stdout",
       "text": [
        "\r",
        "35% [============>                        ] 1,735,949,394 4.47M/s  eta 5m 47s  "
       ]
      },
      {
       "output_type": "stream",
       "stream": "stdout",
       "text": [
        "\r",
        "35% [============>                        ] 1,737,120,042 4.52M/s  eta 5m 47s  "
       ]
      },
      {
       "output_type": "stream",
       "stream": "stdout",
       "text": [
        "\r",
        "35% [============>                        ] 1,738,263,210 4.55M/s  eta 5m 47s  "
       ]
      },
      {
       "output_type": "stream",
       "stream": "stdout",
       "text": [
        "\r",
        "35% [============>                        ] 1,739,469,582 4.60M/s  eta 5m 47s  "
       ]
      },
      {
       "output_type": "stream",
       "stream": "stdout",
       "text": [
        "\r",
        "35% [============>                        ] 1,740,777,630 5.00M/s  eta 5m 47s  "
       ]
      },
      {
       "output_type": "stream",
       "stream": "stdout",
       "text": [
        "\r",
        "35% [============>                        ] 1,742,360,478 5.39M/s  eta 5m 47s  "
       ]
      },
      {
       "output_type": "stream",
       "stream": "stdout",
       "text": [
        "\r",
        "35% [============>                        ] 1,743,770,202 5.51M/s  eta 5m 46s  "
       ]
      },
      {
       "output_type": "stream",
       "stream": "stdout",
       "text": [
        "\r",
        "35% [============>                        ] 1,745,252,748 5.64M/s  eta 5m 46s  "
       ]
      },
      {
       "output_type": "stream",
       "stream": "stdout",
       "text": [
        "\r",
        "35% [============>                        ] 1,746,593,772 5.75M/s  eta 5m 46s  "
       ]
      },
      {
       "output_type": "stream",
       "stream": "stdout",
       "text": [
        "\r",
        "35% [============>                        ] 1,747,780,908 6.00M/s  eta 5m 46s  "
       ]
      },
      {
       "output_type": "stream",
       "stream": "stdout",
       "text": [
        "\r",
        "35% [============>                        ] 1,748,961,174 5.87M/s  eta 5m 46s  "
       ]
      },
      {
       "output_type": "stream",
       "stream": "stdout",
       "text": [
        "\r",
        "35% [============>                        ] 1,750,078,236 5.92M/s  eta 5m 46s  "
       ]
      },
      {
       "output_type": "stream",
       "stream": "stdout",
       "text": [
        "\r",
        "35% [============>                        ] 1,751,180,184 5.90M/s  eta 5m 46s  "
       ]
      },
      {
       "output_type": "stream",
       "stream": "stdout",
       "text": [
        "\r",
        "35% [============>                        ] 1,752,385,182 5.93M/s  eta 5m 46s  "
       ]
      },
      {
       "output_type": "stream",
       "stream": "stdout",
       "text": [
        "\r",
        "35% [============>                        ] 1,753,455,528 5.93M/s  eta 5m 46s  "
       ]
      },
      {
       "output_type": "stream",
       "stream": "stdout",
       "text": [
        "\r",
        "35% [============>                        ] 1,754,528,622 5.89M/s  eta 5m 46s  "
       ]
      },
      {
       "output_type": "stream",
       "stream": "stdout",
       "text": [
        "\r",
        "35% [============>                        ] 1,755,528,894 5.82M/s  eta 5m 46s  "
       ]
      },
      {
       "output_type": "stream",
       "stream": "stdout",
       "text": [
        "\r",
        "35% [============>                        ] 1,756,372,530 5.73M/s  eta 5m 46s  "
       ]
      },
      {
       "output_type": "stream",
       "stream": "stdout",
       "text": [
        "\r",
        "35% [============>                        ] 1,757,238,150 5.64M/s  eta 5m 46s  "
       ]
      },
      {
       "output_type": "stream",
       "stream": "stdout",
       "text": [
        "\r",
        "35% [============>                        ] 1,758,146,364 5.55M/s  eta 5m 46s  "
       ]
      },
      {
       "output_type": "stream",
       "stream": "stdout",
       "text": [
        "\r",
        "35% [============>                        ] 1,759,182,360 5.43M/s  eta 5m 46s  "
       ]
      },
      {
       "output_type": "stream",
       "stream": "stdout",
       "text": [
        "\r",
        "35% [============>                        ] 1,760,130,420 5.21M/s  eta 5m 47s  "
       ]
      },
      {
       "output_type": "stream",
       "stream": "stdout",
       "text": [
        "\r",
        "35% [============>                        ] 1,761,075,732 5.07M/s  eta 5m 47s  "
       ]
      },
      {
       "output_type": "stream",
       "stream": "stdout",
       "text": [
        "\r",
        "35% [============>                        ] 1,762,060,890 4.89M/s  eta 5m 47s  "
       ]
      },
      {
       "output_type": "stream",
       "stream": "stdout",
       "text": [
        "\r",
        "35% [============>                        ] 1,763,043,300 4.83M/s  eta 5m 47s  "
       ]
      },
      {
       "output_type": "stream",
       "stream": "stdout",
       "text": [
        "\r",
        "36% [============>                        ] 1,763,910,294 4.75M/s  eta 5m 47s  "
       ]
      },
      {
       "output_type": "stream",
       "stream": "stdout",
       "text": [
        "\r",
        "36% [============>                        ] 1,763,918,538 4.40M/s  eta 5m 47s  "
       ]
      },
      {
       "output_type": "stream",
       "stream": "stdout",
       "text": [
        "\r",
        "36% [============>                        ] 1,764,433,788 4.23M/s  eta 5m 47s  "
       ]
      },
      {
       "output_type": "stream",
       "stream": "stdout",
       "text": [
        "\r",
        "36% [============>                        ] 1,765,149,642 4.14M/s  eta 5m 47s  "
       ]
      },
      {
       "output_type": "stream",
       "stream": "stdout",
       "text": [
        "\r",
        "36% [============>                        ] 1,765,890,228 4.05M/s  eta 5m 47s  "
       ]
      },
      {
       "output_type": "stream",
       "stream": "stdout",
       "text": [
        "\r",
        "36% [============>                        ] 1,766,770,962 3.93M/s  eta 5m 47s  "
       ]
      },
      {
       "output_type": "stream",
       "stream": "stdout",
       "text": [
        "\r",
        "36% [============>                        ] 1,767,606,354 3.88M/s  eta 5m 48s  "
       ]
      },
      {
       "output_type": "stream",
       "stream": "stdout",
       "text": [
        "\r",
        "36% [============>                        ] 1,768,513,194 3.84M/s  eta 5m 48s  "
       ]
      },
      {
       "output_type": "stream",
       "stream": "stdout",
       "text": [
        "\r",
        "36% [============>                        ] 1,769,406,294 3.84M/s  eta 5m 48s  "
       ]
      },
      {
       "output_type": "stream",
       "stream": "stdout",
       "text": [
        "\r",
        "36% [============>                        ] 1,770,310,386 3.86M/s  eta 5m 48s  "
       ]
      },
      {
       "output_type": "stream",
       "stream": "stdout",
       "text": [
        "\r",
        "36% [============>                        ] 1,771,268,064 3.89M/s  eta 5m 48s  "
       ]
      },
      {
       "output_type": "stream",
       "stream": "stdout",
       "text": [
        "\r",
        "36% [============>                        ] 1,772,323,296 3.88M/s  eta 5m 48s  "
       ]
      },
      {
       "output_type": "stream",
       "stream": "stdout",
       "text": [
        "\r",
        "36% [============>                        ] 1,773,932,250 4.08M/s  eta 5m 48s  "
       ]
      },
      {
       "output_type": "stream",
       "stream": "stdout",
       "text": [
        "\r",
        "36% [============>                        ] 1,775,739,060 4.33M/s  eta 5m 48s  "
       ]
      },
      {
       "output_type": "stream",
       "stream": "stdout",
       "text": [
        "\r",
        "36% [============>                        ] 1,777,560,984 4.58M/s  eta 5m 48s  "
       ]
      },
      {
       "output_type": "stream",
       "stream": "stdout",
       "text": [
        "\r",
        "36% [============>                        ] 1,779,414,510 4.84M/s  eta 5m 48s  "
       ]
      },
      {
       "output_type": "stream",
       "stream": "stdout",
       "text": [
        "\r",
        "36% [============>                        ] 1,781,336,736 5.11M/s  eta 5m 47s  "
       ]
      },
      {
       "output_type": "stream",
       "stream": "stdout",
       "text": [
        "\r",
        "36% [============>                        ] 1,783,346,898 5.95M/s  eta 5m 47s  "
       ]
      },
      {
       "output_type": "stream",
       "stream": "stdout",
       "text": [
        "\r",
        "36% [============>                        ] 1,785,454,614 6.35M/s  eta 5m 47s  "
       ]
      },
      {
       "output_type": "stream",
       "stream": "stdout",
       "text": [
        "\r",
        "36% [============>                        ] 1,787,511,492 6.71M/s  eta 5m 47s  "
       ]
      },
      {
       "output_type": "stream",
       "stream": "stdout",
       "text": [
        "\r",
        "36% [============>                        ] 1,789,586,232 7.20M/s  eta 5m 47s  "
       ]
      },
      {
       "output_type": "stream",
       "stream": "stdout",
       "text": [
        "\r",
        "36% [============>                        ] 1,791,644,484 7.51M/s  eta 5m 46s  "
       ]
      },
      {
       "output_type": "stream",
       "stream": "stdout",
       "text": [
        "\r",
        "36% [============>                        ] 1,793,607,930 7.81M/s  eta 5m 46s  "
       ]
      },
      {
       "output_type": "stream",
       "stream": "stdout",
       "text": [
        "\r",
        "36% [============>                        ] 1,795,630,458 8.26M/s  eta 5m 46s  "
       ]
      },
      {
       "output_type": "stream",
       "stream": "stdout",
       "text": [
        "\r",
        "36% [============>                        ] 1,797,819,240 8.59M/s  eta 5m 46s  "
       ]
      },
      {
       "output_type": "stream",
       "stream": "stdout",
       "text": [
        "\r",
        "36% [============>                        ] 1,799,980,542 8.90M/s  eta 5m 46s  "
       ]
      },
      {
       "output_type": "stream",
       "stream": "stdout",
       "text": [
        "\r",
        "36% [============>                        ] 1,802,115,738 9.39M/s  eta 5m 45s  "
       ]
      },
      {
       "output_type": "stream",
       "stream": "stdout",
       "text": [
        "\r",
        "36% [============>                        ] 1,804,305,894 9.59M/s  eta 5m 45s  "
       ]
      },
      {
       "output_type": "stream",
       "stream": "stdout",
       "text": [
        "\r",
        "36% [============>                        ] 1,806,497,424 9.71M/s  eta 5m 45s  "
       ]
      },
      {
       "output_type": "stream",
       "stream": "stdout",
       "text": [
        "\r",
        "36% [============>                        ] 1,808,662,848 9.86M/s  eta 5m 45s  "
       ]
      },
      {
       "output_type": "stream",
       "stream": "stdout",
       "text": [
        "\r",
        "36% [============>                        ] 1,809,793,650 9.62M/s  eta 5m 45s  "
       ]
      },
      {
       "output_type": "stream",
       "stream": "stdout",
       "text": [
        "\r",
        "36% [============>                        ] 1,810,572,708 9.27M/s  eta 5m 44s  "
       ]
      },
      {
       "output_type": "stream",
       "stream": "stdout",
       "text": [
        "\r",
        "36% [============>                        ] 1,811,439,702 8.92M/s  eta 5m 44s  "
       ]
      },
      {
       "output_type": "stream",
       "stream": "stdout",
       "text": [
        "\r",
        "36% [============>                        ] 1,812,334,176 8.57M/s  eta 5m 44s  "
       ]
      },
      {
       "output_type": "stream",
       "stream": "stdout",
       "text": [
        "\r",
        "37% [============>                        ] 1,813,210,788 8.23M/s  eta 5m 44s  "
       ]
      },
      {
       "output_type": "stream",
       "stream": "stdout",
       "text": [
        "\r",
        "37% [============>                        ] 1,813,559,784 7.65M/s  eta 5m 44s  "
       ]
      },
      {
       "output_type": "stream",
       "stream": "stdout",
       "text": [
        "\r",
        "37% [============>                        ] 1,814,858,214 7.43M/s  eta 5m 44s  "
       ]
      },
      {
       "output_type": "stream",
       "stream": "stdout",
       "text": [
        "\r",
        "37% [============>                        ] 1,816,311,906 7.29M/s  eta 5m 44s  "
       ]
      },
      {
       "output_type": "stream",
       "stream": "stdout",
       "text": [
        "\r",
        "37% [============>                        ] 1,817,327,292 6.92M/s  eta 5m 44s  "
       ]
      },
      {
       "output_type": "stream",
       "stream": "stdout",
       "text": [
        "\r",
        "37% [============>                        ] 1,818,442,980 6.65M/s  eta 5m 44s  "
       ]
      },
      {
       "output_type": "stream",
       "stream": "stdout",
       "text": [
        "\r",
        "37% [============>                        ] 1,819,509,204 6.38M/s  eta 5m 44s  "
       ]
      },
      {
       "output_type": "stream",
       "stream": "stdout",
       "text": [
        "\r",
        "37% [============>                        ] 1,820,666,112 5.94M/s  eta 5m 44s  "
       ]
      },
      {
       "output_type": "stream",
       "stream": "stdout",
       "text": [
        "\r",
        "37% [============>                        ] 1,821,871,110 5.71M/s  eta 5m 44s  "
       ]
      },
      {
       "output_type": "stream",
       "stream": "stdout",
       "text": [
        "\r",
        "37% [============>                        ] 1,823,109,084 5.49M/s  eta 5m 44s  "
       ]
      },
      {
       "output_type": "stream",
       "stream": "stdout",
       "text": [
        "\r",
        "37% [============>                        ] 1,824,671,322 4.98M/s  eta 5m 44s  "
       ]
      },
      {
       "output_type": "stream",
       "stream": "stdout",
       "text": [
        "\r",
        "37% [============>                        ] 1,825,532,820 4.82M/s  eta 5m 44s  "
       ]
      },
      {
       "output_type": "stream",
       "stream": "stdout",
       "text": [
        "\r",
        "37% [============>                        ] 1,826,485,002 4.86M/s  eta 5m 44s  "
       ]
      },
      {
       "output_type": "stream",
       "stream": "stdout",
       "text": [
        "\r",
        "37% [============>                        ] 1,827,472,908 4.89M/s  eta 5m 44s  "
       ]
      },
      {
       "output_type": "stream",
       "stream": "stdout",
       "text": [
        "\r",
        "37% [============>                        ] 1,828,500,660 4.96M/s  eta 5m 44s  "
       ]
      },
      {
       "output_type": "stream",
       "stream": "stdout",
       "text": [
        "\r",
        "37% [============>                        ] 1,829,554,518 5.00M/s  eta 5m 44s  "
       ]
      },
      {
       "output_type": "stream",
       "stream": "stdout",
       "text": [
        "\r",
        "37% [============>                        ] 1,830,690,816 5.07M/s  eta 5m 44s  "
       ]
      },
      {
       "output_type": "stream",
       "stream": "stdout",
       "text": [
        "\r",
        "37% [============>                        ] 1,831,820,244 5.24M/s  eta 5m 44s  "
       ]
      },
      {
       "output_type": "stream",
       "stream": "stdout",
       "text": [
        "\r",
        "37% [============>                        ] 1,832,707,848 5.11M/s  eta 5m 44s  "
       ]
      },
      {
       "output_type": "stream",
       "stream": "stdout",
       "text": [
        "\r",
        "37% [============>                        ] 1,833,635,298 5.02M/s  eta 5m 44s  "
       ]
      },
      {
       "output_type": "stream",
       "stream": "stdout",
       "text": [
        "\r",
        "37% [============>                        ] 1,834,551,756 4.96M/s  eta 5m 44s  "
       ]
      },
      {
       "output_type": "stream",
       "stream": "stdout",
       "text": [
        "\r",
        "37% [============>                        ] 1,835,534,166 4.94M/s  eta 5m 44s  "
       ]
      },
      {
       "output_type": "stream",
       "stream": "stdout",
       "text": [
        "\r",
        "37% [============>                        ] 1,836,505,584 4.90M/s  eta 5m 45s  "
       ]
      },
      {
       "output_type": "stream",
       "stream": "stdout",
       "text": [
        "\r",
        "37% [============>                        ] 1,837,615,776 4.85M/s  eta 5m 45s  "
       ]
      },
      {
       "output_type": "stream",
       "stream": "stdout",
       "text": [
        "\r"
       ]
      },
      {
       "output_type": "stream",
       "stream": "stdout",
       "text": [
        "37% [============>                        ] 1,838,676,504 4.83M/s  eta 5m 45s  "
       ]
      },
      {
       "output_type": "stream",
       "stream": "stdout",
       "text": [
        "\r",
        "37% [============>                        ] 1,839,734,484 4.77M/s  eta 5m 45s  "
       ]
      },
      {
       "output_type": "stream",
       "stream": "stdout",
       "text": [
        "\r",
        "37% [============>                        ] 1,840,814,448 4.84M/s  eta 5m 45s  "
       ]
      },
      {
       "output_type": "stream",
       "stream": "stdout",
       "text": [
        "\r",
        "37% [============>                        ] 1,841,967,234 4.89M/s  eta 5m 45s  "
       ]
      },
      {
       "output_type": "stream",
       "stream": "stdout",
       "text": [
        "\r",
        "37% [============>                        ] 1,843,073,304 4.94M/s  eta 5m 45s  "
       ]
      },
      {
       "output_type": "stream",
       "stream": "stdout",
       "text": [
        "\r",
        "37% [============>                        ] 1,844,248,074 4.99M/s  eta 5m 45s  "
       ]
      },
      {
       "output_type": "stream",
       "stream": "stdout",
       "text": [
        "\r",
        "37% [============>                        ] 1,845,704,514 5.12M/s  eta 5m 45s  "
       ]
      },
      {
       "output_type": "stream",
       "stream": "stdout",
       "text": [
        "\r",
        "37% [============>                        ] 1,847,018,058 5.18M/s  eta 5m 45s  "
       ]
      },
      {
       "output_type": "stream",
       "stream": "stdout",
       "text": [
        "\r",
        "37% [============>                        ] 1,848,192,828 5.15M/s  eta 5m 44s  "
       ]
      },
      {
       "output_type": "stream",
       "stream": "stdout",
       "text": [
        "\r",
        "37% [============>                        ] 1,848,978,756 5.15M/s  eta 5m 44s  "
       ]
      },
      {
       "output_type": "stream",
       "stream": "stdout",
       "text": [
        "\r",
        "37% [============>                        ] 1,849,807,278 5.10M/s  eta 5m 44s  "
       ]
      },
      {
       "output_type": "stream",
       "stream": "stdout",
       "text": [
        "\r",
        "37% [============>                        ] 1,850,814,420 5.15M/s  eta 5m 44s  "
       ]
      },
      {
       "output_type": "stream",
       "stream": "stdout",
       "text": [
        "\r",
        "37% [============>                        ] 1,851,935,604 5.20M/s  eta 5m 44s  "
       ]
      },
      {
       "output_type": "stream",
       "stream": "stdout",
       "text": [
        "\r",
        "37% [============>                        ] 1,852,908,396 5.18M/s  eta 5m 45s  "
       ]
      },
      {
       "output_type": "stream",
       "stream": "stdout",
       "text": [
        "\r",
        "37% [=============>                       ] 1,853,937,522 5.20M/s  eta 5m 45s  "
       ]
      },
      {
       "output_type": "stream",
       "stream": "stdout",
       "text": [
        "\r",
        "37% [=============>                       ] 1,855,245,570 5.25M/s  eta 5m 45s  "
       ]
      },
      {
       "output_type": "stream",
       "stream": "stdout",
       "text": [
        "\r",
        "37% [=============>                       ] 1,857,009,786 5.46M/s  eta 5m 45s  "
       ]
      },
      {
       "output_type": "stream",
       "stream": "stdout",
       "text": [
        "\r",
        "37% [=============>                       ] 1,858,808,352 5.70M/s  eta 5m 45s  "
       ]
      },
      {
       "output_type": "stream",
       "stream": "stdout",
       "text": [
        "\r",
        "37% [=============>                       ] 1,860,716,838 5.94M/s  eta 5m 44s  "
       ]
      },
      {
       "output_type": "stream",
       "stream": "stdout",
       "text": [
        "\r",
        "38% [=============>                       ] 1,862,618,454 6.19M/s  eta 5m 44s  "
       ]
      },
      {
       "output_type": "stream",
       "stream": "stdout",
       "text": [
        "\r",
        "38% [=============>                       ] 1,864,572,282 6.46M/s  eta 5m 44s  "
       ]
      },
      {
       "output_type": "stream",
       "stream": "stdout",
       "text": [
        "\r",
        "38% [=============>                       ] 1,866,587,940 6.62M/s  eta 5m 44s  "
       ]
      },
      {
       "output_type": "stream",
       "stream": "stdout",
       "text": [
        "\r",
        "38% [=============>                       ] 1,868,665,428 6.85M/s  eta 5m 44s  "
       ]
      },
      {
       "output_type": "stream",
       "stream": "stdout",
       "text": [
        "\r",
        "38% [=============>                       ] 1,870,766,274 7.15M/s  eta 5m 43s  "
       ]
      },
      {
       "output_type": "stream",
       "stream": "stdout",
       "text": [
        "\r",
        "38% [=============>                       ] 1,872,828,648 7.46M/s  eta 5m 43s  "
       ]
      },
      {
       "output_type": "stream",
       "stream": "stdout",
       "text": [
        "\r",
        "38% [=============>                       ] 1,874,917,128 7.81M/s  eta 5m 43s  "
       ]
      },
      {
       "output_type": "stream",
       "stream": "stdout",
       "text": [
        "\r",
        "38% [=============>                       ] 1,877,000,112 8.27M/s  eta 5m 43s  "
       ]
      },
      {
       "output_type": "stream",
       "stream": "stdout",
       "text": [
        "\r",
        "38% [=============>                       ] 1,879,113,324 8.54M/s  eta 5m 43s  "
       ]
      },
      {
       "output_type": "stream",
       "stream": "stdout",
       "text": [
        "\r",
        "38% [=============>                       ] 1,880,767,620 8.66M/s  eta 5m 41s  "
       ]
      },
      {
       "output_type": "stream",
       "stream": "stdout",
       "text": [
        "\r",
        "38% [=============>                       ] 1,881,836,592 8.80M/s  eta 5m 41s  "
       ]
      },
      {
       "output_type": "stream",
       "stream": "stdout",
       "text": [
        "\r",
        "38% [=============>                       ] 1,882,981,134 8.76M/s  eta 5m 41s  "
       ]
      },
      {
       "output_type": "stream",
       "stream": "stdout",
       "text": [
        "\r",
        "38% [=============>                       ] 1,884,364,752 8.66M/s  eta 5m 41s  "
       ]
      },
      {
       "output_type": "stream",
       "stream": "stdout",
       "text": [
        "\r",
        "38% [=============>                       ] 1,885,079,232 8.30M/s  eta 5m 41s  "
       ]
      },
      {
       "output_type": "stream",
       "stream": "stdout",
       "text": [
        "\r",
        "38% [=============>                       ] 1,886,046,528 8.03M/s  eta 5m 41s  "
       ]
      },
      {
       "output_type": "stream",
       "stream": "stdout",
       "text": [
        "\r",
        "38% [=============>                       ] 1,887,057,792 7.78M/s  eta 5m 41s  "
       ]
      },
      {
       "output_type": "stream",
       "stream": "stdout",
       "text": [
        "\r",
        "38% [=============>                       ] 1,888,114,398 7.54M/s  eta 5m 41s  "
       ]
      },
      {
       "output_type": "stream",
       "stream": "stdout",
       "text": [
        "\r",
        "38% [=============>                       ] 1,889,010,246 7.16M/s  eta 5m 41s  "
       ]
      },
      {
       "output_type": "stream",
       "stream": "stdout",
       "text": [
        "\r",
        "38% [=============>                       ] 1,889,820,802 6.71M/s  eta 5m 41s  "
       ]
      },
      {
       "output_type": "stream",
       "stream": "stdout",
       "text": [
        "\r",
        "38% [=============>                       ] 1,890,469,434 6.15M/s  eta 5m 42s  "
       ]
      },
      {
       "output_type": "stream",
       "stream": "stdout",
       "text": [
        "\r",
        "38% [=============>                       ] 1,891,137,198 5.80M/s  eta 5m 42s  "
       ]
      },
      {
       "output_type": "stream",
       "stream": "stdout",
       "text": [
        "\r",
        "38% [=============>                       ] 1,891,629,090 5.38M/s  eta 5m 42s  "
       ]
      },
      {
       "output_type": "stream",
       "stream": "stdout",
       "text": [
        "\r",
        "38% [=============>                       ] 1,892,059,152 4.97M/s  eta 5m 42s  "
       ]
      },
      {
       "output_type": "stream",
       "stream": "stdout",
       "text": [
        "\r",
        "38% [=============>                       ] 1,892,491,962 4.31M/s  eta 5m 42s  "
       ]
      },
      {
       "output_type": "stream",
       "stream": "stdout",
       "text": [
        "\r",
        "38% [=============>                       ] 1,892,923,398 3.89M/s  eta 5m 43s  "
       ]
      },
      {
       "output_type": "stream",
       "stream": "stdout",
       "text": [
        "\r",
        "38% [=============>                       ] 1,893,434,526 3.68M/s  eta 5m 43s  "
       ]
      },
      {
       "output_type": "stream",
       "stream": "stdout",
       "text": [
        "\r",
        "38% [=============>                       ] 1,893,988,248 3.47M/s  eta 5m 43s  "
       ]
      },
      {
       "output_type": "stream",
       "stream": "stdout",
       "text": [
        "\r",
        "38% [=============>                       ] 1,894,481,514 3.27M/s  eta 5m 43s  "
       ]
      },
      {
       "output_type": "stream",
       "stream": "stdout",
       "text": [
        "\r",
        "38% [=============>                       ] 1,894,884,096 3.04M/s  eta 5m 43s  "
       ]
      },
      {
       "output_type": "stream",
       "stream": "stdout",
       "text": [
        "\r",
        "38% [=============>                       ] 1,895,485,908 2.96M/s  eta 5m 43s  "
       ]
      },
      {
       "output_type": "stream",
       "stream": "stdout",
       "text": [
        "\r",
        "38% [=============>                       ] 1,895,896,734 2.81M/s  eta 5m 43s  "
       ]
      },
      {
       "output_type": "stream",
       "stream": "stdout",
       "text": [
        "\r",
        "38% [=============>                       ] 1,896,227,764 2.63M/s  eta 5m 43s  "
       ]
      },
      {
       "output_type": "stream",
       "stream": "stdout",
       "text": [
        "\r",
        "38% [=============>                       ] 1,896,594,726 2.37M/s  eta 5m 43s  "
       ]
      },
      {
       "output_type": "stream",
       "stream": "stdout",
       "text": [
        "\r",
        "38% [=============>                       ] 1,896,965,706 2.21M/s  eta 5m 43s  "
       ]
      },
      {
       "output_type": "stream",
       "stream": "stdout",
       "text": [
        "\r",
        "38% [=============>                       ] 1,897,351,800 2.14M/s  eta 5m 44s  "
       ]
      },
      {
       "output_type": "stream",
       "stream": "stdout",
       "text": [
        "\r",
        "38% [=============>                       ] 1,897,770,870 2.09M/s  eta 5m 44s  "
       ]
      },
      {
       "output_type": "stream",
       "stream": "stdout",
       "text": [
        "\r",
        "38% [=============>                       ] 1,898,265,510 2.09M/s  eta 5m 44s  "
       ]
      },
      {
       "output_type": "stream",
       "stream": "stdout",
       "text": [
        "\r",
        "38% [=============>                       ] 1,898,821,980 2.13M/s  eta 5m 44s  "
       ]
      },
      {
       "output_type": "stream",
       "stream": "stdout",
       "text": [
        "\r",
        "38% [=============>                       ] 1,899,371,580 2.16M/s  eta 5m 44s  "
       ]
      },
      {
       "output_type": "stream",
       "stream": "stdout",
       "text": [
        "\r",
        "38% [=============>                       ] 1,899,864,846 2.17M/s  eta 5m 45s  "
       ]
      },
      {
       "output_type": "stream",
       "stream": "stdout",
       "text": [
        "\r",
        "38% [=============>                       ] 1,900,370,478 2.20M/s  eta 5m 45s  "
       ]
      },
      {
       "output_type": "stream",
       "stream": "stdout",
       "text": [
        "\r",
        "38% [=============>                       ] 1,900,929,696 2.19M/s  eta 5m 45s  "
       ]
      },
      {
       "output_type": "stream",
       "stream": "stdout",
       "text": [
        "\r",
        "38% [=============>                       ] 1,901,515,020 2.21M/s  eta 5m 45s  "
       ]
      },
      {
       "output_type": "stream",
       "stream": "stdout",
       "text": [
        "\r",
        "38% [=============>                       ] 1,902,065,994 2.24M/s  eta 5m 45s  "
       ]
      },
      {
       "output_type": "stream",
       "stream": "stdout",
       "text": [
        "\r",
        "38% [=============>                       ] 1,902,659,562 2.26M/s  eta 5m 46s  "
       ]
      },
      {
       "output_type": "stream",
       "stream": "stdout",
       "text": [
        "\r",
        "38% [=============>                       ] 1,903,229,772 2.29M/s  eta 5m 46s  "
       ]
      },
      {
       "output_type": "stream",
       "stream": "stdout",
       "text": [
        "\r",
        "38% [=============>                       ] 1,903,817,844 2.35M/s  eta 5m 46s  "
       ]
      },
      {
       "output_type": "stream",
       "stream": "stdout",
       "text": [
        "\r",
        "38% [=============>                       ] 1,904,388,054 2.52M/s  eta 5m 46s  "
       ]
      },
      {
       "output_type": "stream",
       "stream": "stdout",
       "text": [
        "\r",
        "38% [=============>                       ] 1,905,047,574 2.53M/s  eta 5m 46s  "
       ]
      },
      {
       "output_type": "stream",
       "stream": "stdout",
       "text": [
        "\r",
        "38% [=============>                       ] 1,905,602,670 2.57M/s  eta 5m 47s  "
       ]
      },
      {
       "output_type": "stream",
       "stream": "stdout",
       "text": [
        "\r",
        "38% [=============>                       ] 1,905,822,510 2.52M/s  eta 5m 47s  "
       ]
      },
      {
       "output_type": "stream",
       "stream": "stdout",
       "text": [
        "\r",
        "38% [=============>                       ] 1,906,387,224 2.54M/s  eta 5m 47s  "
       ]
      },
      {
       "output_type": "stream",
       "stream": "stdout",
       "text": [
        "\r",
        "38% [=============>                       ] 1,906,770,570 2.49M/s  eta 5m 47s  "
       ]
      },
      {
       "output_type": "stream",
       "stream": "stdout",
       "text": [
        "\r",
        "38% [=============>                       ] 1,907,136,054 2.44M/s  eta 5m 47s  "
       ]
      },
      {
       "output_type": "stream",
       "stream": "stdout",
       "text": [
        "\r",
        "38% [=============>                       ] 1,907,496,042 2.39M/s  eta 5m 48s  "
       ]
      },
      {
       "output_type": "stream",
       "stream": "stdout",
       "text": [
        "\r",
        "38% [=============>                       ] 1,907,879,388 2.36M/s  eta 5m 48s  "
       ]
      },
      {
       "output_type": "stream",
       "stream": "stdout",
       "text": [
        "\r",
        "38% [=============>                       ] 1,908,365,784 2.34M/s  eta 5m 48s  "
       ]
      },
      {
       "output_type": "stream",
       "stream": "stdout",
       "text": [
        "\r",
        "38% [=============>                       ] 1,908,830,196 2.31M/s  eta 5m 48s  "
       ]
      },
      {
       "output_type": "stream",
       "stream": "stdout",
       "text": [
        "\r",
        "38% [=============>                       ] 1,909,283,616 2.27M/s  eta 5m 48s  "
       ]
      },
      {
       "output_type": "stream",
       "stream": "stdout",
       "text": [
        "\r",
        "38% [=============>                       ] 1,909,765,890 2.25M/s  eta 5m 49s  "
       ]
      },
      {
       "output_type": "stream",
       "stream": "stdout",
       "text": [
        "\r",
        "38% [=============>                       ] 1,910,261,904 2.22M/s  eta 5m 49s  "
       ]
      },
      {
       "output_type": "stream",
       "stream": "stdout",
       "text": [
        "\r",
        "39% [=============>                       ] 1,910,788,146 2.20M/s  eta 5m 49s  "
       ]
      },
      {
       "output_type": "stream",
       "stream": "stdout",
       "text": [
        "\r",
        "39% [=============>                       ] 1,911,348,738 2.21M/s  eta 5m 49s  "
       ]
      },
      {
       "output_type": "stream",
       "stream": "stdout",
       "text": [
        "\r",
        "39% [=============>                       ] 1,911,884,598 2.16M/s  eta 5m 49s  "
       ]
      },
      {
       "output_type": "stream",
       "stream": "stdout",
       "text": [
        "\r",
        "39% [=============>                       ] 1,912,412,214 2.14M/s  eta 5m 49s  "
       ]
      },
      {
       "output_type": "stream",
       "stream": "stdout",
       "text": [
        "\r",
        "39% [=============>                       ] 1,912,740,600 2.14M/s  eta 5m 49s  "
       ]
      },
      {
       "output_type": "stream",
       "stream": "stdout",
       "text": [
        "\r",
        "39% [=============>                       ] 1,913,003,034 1.98M/s  eta 5m 49s  "
       ]
      },
      {
       "output_type": "stream",
       "stream": "stdout",
       "text": [
        "\r",
        "39% [=============>                       ] 1,913,258,598 1.94M/s  eta 5m 49s  "
       ]
      },
      {
       "output_type": "stream",
       "stream": "stdout",
       "text": [
        "\r",
        "39% [=============>                       ] 1,913,578,740 1.92M/s  eta 5m 49s  "
       ]
      },
      {
       "output_type": "stream",
       "stream": "stdout",
       "text": [
        "\r",
        "39% [=============>                       ] 1,914,393,522 2.04M/s  eta 5m 51s  "
       ]
      },
      {
       "output_type": "stream",
       "stream": "stdout",
       "text": [
        "\r",
        "39% [=============>                       ] 1,914,965,106 2.11M/s  eta 5m 51s  "
       ]
      },
      {
       "output_type": "stream",
       "stream": "stdout",
       "text": [
        "\r",
        "39% [=============>                       ] 1,915,331,964 2.10M/s  eta 5m 51s  "
       ]
      },
      {
       "output_type": "stream",
       "stream": "stdout",
       "text": [
        "\r",
        "39% [=============>                       ] 1,915,745,538 2.08M/s  eta 5m 51s  "
       ]
      },
      {
       "output_type": "stream",
       "stream": "stdout",
       "text": [
        "\r",
        "39% [=============>                       ] 1,916,207,202 2.08M/s  eta 5m 51s  "
       ]
      },
      {
       "output_type": "stream",
       "stream": "stdout",
       "text": [
        "\r",
        "39% [=============>                       ] 1,916,736,192 2.10M/s  eta 5m 52s  "
       ]
      },
      {
       "output_type": "stream",
       "stream": "stdout",
       "text": [
        "\r",
        "39% [=============>                       ] 1,917,158,010 2.09M/s  eta 5m 52s  "
       ]
      },
      {
       "output_type": "stream",
       "stream": "stdout",
       "text": [
        "\r",
        "39% [=============>                       ] 1,917,762,570 2.10M/s  eta 5m 52s  "
       ]
      },
      {
       "output_type": "stream",
       "stream": "stdout",
       "text": [
        "\r",
        "39% [=============>                       ] 1,919,142,066 2.35M/s  eta 5m 52s  "
       ]
      },
      {
       "output_type": "stream",
       "stream": "stdout",
       "text": [
        "\r",
        "39% [=============>                       ] 1,920,536,676 2.60M/s  eta 5m 52s  "
       ]
      },
      {
       "output_type": "stream",
       "stream": "stdout",
       "text": [
        "\r",
        "39% [=============>                       ] 1,922,070,060 2.90M/s  eta 5m 52s  "
       ]
      },
      {
       "output_type": "stream",
       "stream": "stdout",
       "text": [
        "\r",
        "39% [=============>                       ] 1,923,691,380 3.21M/s  eta 5m 52s  "
       ]
      },
      {
       "output_type": "stream",
       "stream": "stdout",
       "text": [
        "\r",
        "39% [=============>                       ] 1,925,461,092 3.65M/s  eta 5m 52s  "
       ]
      },
      {
       "output_type": "stream",
       "stream": "stdout",
       "text": [
        "\r",
        "39% [=============>                       ] 1,927,234,926 4.37M/s  eta 5m 52s  "
       ]
      },
      {
       "output_type": "stream",
       "stream": "stdout",
       "text": [
        "\r",
        "39% [=============>                       ] 1,929,109,062 4.81M/s  eta 5m 52s  "
       ]
      },
      {
       "output_type": "stream",
       "stream": "stdout",
       "text": [
        "\r",
        "39% [=============>                       ] 1,930,909,002 5.17M/s  eta 5m 50s  "
       ]
      },
      {
       "output_type": "stream",
       "stream": "stdout",
       "text": [
        "\r",
        "39% [=============>                       ] 1,932,897,180 5.63M/s  eta 5m 50s  "
       ]
      },
      {
       "output_type": "stream",
       "stream": "stdout",
       "text": [
        "\r",
        "39% [=============>                       ] 1,934,863,374 6.09M/s  eta 5m 50s  "
       ]
      },
      {
       "output_type": "stream",
       "stream": "stdout",
       "text": [
        "\r",
        "39% [=============>                       ] 1,936,921,626 6.53M/s  eta 5m 50s  "
       ]
      },
      {
       "output_type": "stream",
       "stream": "stdout",
       "text": [
        "\r",
        "39% [=============>                       ] 1,938,890,568 7.17M/s  eta 5m 50s  "
       ]
      },
      {
       "output_type": "stream",
       "stream": "stdout",
       "text": [
        "\r",
        "39% [=============>                       ] 1,940,913,096 7.57M/s  eta 5m 49s  "
       ]
      },
      {
       "output_type": "stream",
       "stream": "stdout",
       "text": [
        "\r",
        "39% [=============>                       ] 1,942,975,470 7.98M/s  eta 5m 49s  "
       ]
      },
      {
       "output_type": "stream",
       "stream": "stdout",
       "text": [
        "\r",
        "39% [=============>                       ] 1,945,140,894 8.68M/s  eta 5m 49s  "
       ]
      },
      {
       "output_type": "stream",
       "stream": "stdout",
       "text": [
        "\r",
        "39% [=============>                       ] 1,947,241,740 8.88M/s  eta 5m 49s  "
       ]
      },
      {
       "output_type": "stream",
       "stream": "stdout",
       "text": [
        "\r",
        "39% [=============>                       ] 1,949,356,326 9.06M/s  eta 5m 49s  "
       ]
      },
      {
       "output_type": "stream",
       "stream": "stdout",
       "text": [
        "\r",
        "39% [=============>                       ] 1,951,329,390 9.28M/s  eta 5m 47s  "
       ]
      },
      {
       "output_type": "stream",
       "stream": "stdout",
       "text": [
        "\r",
        "39% [=============>                       ] 1,953,081,240 9.32M/s  eta 5m 47s  "
       ]
      },
      {
       "output_type": "stream",
       "stream": "stdout",
       "text": [
        "\r",
        "39% [=============>                       ] 1,955,084,532 9.37M/s  eta 5m 47s  "
       ]
      },
      {
       "output_type": "stream",
       "stream": "stdout",
       "text": [
        "\r",
        "39% [=============>                       ] 1,956,832,260 9.38M/s  eta 5m 47s  "
       ]
      },
      {
       "output_type": "stream",
       "stream": "stdout",
       "text": [
        "\r",
        "39% [=============>                       ] 1,958,596,476 9.35M/s  eta 5m 47s  "
       ]
      },
      {
       "output_type": "stream",
       "stream": "stdout",
       "text": [
        "\r",
        "40% [=============>                       ] 1,960,495,344 9.36M/s  eta 5m 46s  "
       ]
      },
      {
       "output_type": "stream",
       "stream": "stdout",
       "text": [
        "\r",
        "40% [=============>                       ] 1,962,607,182 9.42M/s  eta 5m 46s  "
       ]
      },
      {
       "output_type": "stream",
       "stream": "stdout",
       "text": [
        "\r",
        "40% [=============>                       ] 1,964,767,110 9.49M/s  eta 5m 46s  "
       ]
      },
      {
       "output_type": "stream",
       "stream": "stdout",
       "text": [
        "\r",
        "40% [=============>                       ] 1,966,839,102 9.49M/s  eta 5m 46s  "
       ]
      },
      {
       "output_type": "stream",
       "stream": "stdout",
       "text": [
        "\r",
        "40% [=============>                       ] 1,969,051,242 9.57M/s  eta 5m 46s  "
       ]
      },
      {
       "output_type": "stream",
       "stream": "stdout",
       "text": [
        "\r",
        "40% [=============>                       ] 1,971,216,666 9.61M/s  eta 5m 45s  "
       ]
      },
      {
       "output_type": "stream",
       "stream": "stdout",
       "text": [
        "\r",
        "40% [=============>                       ] 1,973,410,944 9.66M/s  eta 5m 45s  "
       ]
      },
      {
       "output_type": "stream",
       "stream": "stdout",
       "text": [
        "\r",
        "40% [=============>                       ] 1,975,623,084 9.67M/s  eta 5m 45s  "
       ]
      },
      {
       "output_type": "stream",
       "stream": "stdout",
       "text": [
        "\r",
        "40% [=============>                       ] 1,977,836,598 9.71M/s  eta 5m 45s  "
       ]
      },
      {
       "output_type": "stream",
       "stream": "stdout",
       "text": [
        "\r",
        "40% [=============>                       ] 1,980,047,364 9.75M/s  eta 5m 45s  "
       ]
      },
      {
       "output_type": "stream",
       "stream": "stdout",
       "text": [
        "\r",
        "40% [=============>                       ] 1,982,210,040 9.79M/s  eta 5m 43s  "
       ]
      },
      {
       "output_type": "stream",
       "stream": "stdout",
       "text": [
        "\r",
        "40% [=============>                       ] 1,984,411,188 9.92M/s  eta 5m 43s  "
       ]
      },
      {
       "output_type": "stream",
       "stream": "stdout",
       "text": [
        "\r",
        "40% [==============>                      ] 1,986,630,198 9.99M/s  eta 5m 43s  "
       ]
      },
      {
       "output_type": "stream",
       "stream": "stdout",
       "text": [
        "\r",
        "40% [==============>                      ] 1,988,887,680 10.2M/s  eta 5m 43s  "
       ]
      },
      {
       "output_type": "stream",
       "stream": "stdout",
       "text": [
        "\r",
        "40% [==============>                      ] 1,991,130,048 10.3M/s  eta 5m 43s  "
       ]
      },
      {
       "output_type": "stream",
       "stream": "stdout",
       "text": [
        "\r",
        "40% [==============>                      ] 1,993,397,044 10.4M/s  eta 5m 41s  "
       ]
      },
      {
       "output_type": "stream",
       "stream": "stdout",
       "text": [
        "\r",
        "40% [==============>                      ] 1,995,651,882 10.5M/s  eta 5m 41s  "
       ]
      },
      {
       "output_type": "stream",
       "stream": "stdout",
       "text": [
        "\r",
        "40% [==============>                      ] 1,997,907,990 10.5M/s  eta 5m 41s  "
       ]
      },
      {
       "output_type": "stream",
       "stream": "stdout",
       "text": [
        "\r",
        "40% [==============>                      ] 2,000,132,496 10.5M/s  eta 5m 41s  "
       ]
      },
      {
       "output_type": "stream",
       "stream": "stdout",
       "text": [
        "\r",
        "40% [==============>                      ] 2,002,421,580 10.6M/s  eta 5m 41s  "
       ]
      },
      {
       "output_type": "stream",
       "stream": "stdout",
       "text": [
        "\r",
        "40% [==============>                      ] 2,004,679,062 10.6M/s  eta 5m 39s  "
       ]
      },
      {
       "output_type": "stream",
       "stream": "stdout",
       "text": [
        "\r",
        "40% [==============>                      ] 2,006,925,552 10.6M/s  eta 5m 39s  "
       ]
      },
      {
       "output_type": "stream",
       "stream": "stdout",
       "text": [
        "\r",
        "41% [==============>                      ] 2,009,183,034 10.7M/s  eta 5m 39s  "
       ]
      },
      {
       "output_type": "stream",
       "stream": "stdout",
       "text": [
        "\r",
        "41% [==============>                      ] 2,011,397,922 10.7M/s  eta 5m 39s  "
       ]
      },
      {
       "output_type": "stream",
       "stream": "stdout",
       "text": [
        "\r",
        "41% [==============>                      ] 2,013,641,664 10.7M/s  eta 5m 39s  "
       ]
      },
      {
       "output_type": "stream",
       "stream": "stdout",
       "text": [
        "\r",
        "41% [==============>                      ] 2,015,925,252 10.7M/s  eta 5m 37s  "
       ]
      },
      {
       "output_type": "stream",
       "stream": "stdout",
       "text": [
        "\r",
        "41% [==============>                      ] 2,017,712,826 10.6M/s  eta 5m 37s  "
       ]
      },
      {
       "output_type": "stream",
       "stream": "stdout",
       "text": [
        "\r",
        "41% [==============>                      ] 2,018,501,502 10.1M/s  eta 5m 37s  "
       ]
      },
      {
       "output_type": "stream",
       "stream": "stdout",
       "text": [
        "\r",
        "41% [==============>                      ] 2,019,754,590 9.84M/s  eta 5m 37s  "
       ]
      },
      {
       "output_type": "stream",
       "stream": "stdout",
       "text": [
        "\r",
        "41% [==============>                      ] 2,021,043,402 9.51M/s  eta 5m 37s  "
       ]
      },
      {
       "output_type": "stream",
       "stream": "stdout",
       "text": [
        "\r",
        "41% [==============>                      ] 2,022,303,360 9.22M/s  eta 5m 37s  "
       ]
      },
      {
       "output_type": "stream",
       "stream": "stdout",
       "text": [
        "\r",
        "41% [==============>                      ] 2,023,636,140 8.97M/s  eta 5m 37s  "
       ]
      },
      {
       "output_type": "stream",
       "stream": "stdout",
       "text": [
        "\r",
        "41% [==============>                      ] 2,025,122,808 8.67M/s  eta 5m 37s  "
       ]
      },
      {
       "output_type": "stream",
       "stream": "stdout",
       "text": [
        "\r",
        "41% [==============>                      ] 2,026,186,284 8.34M/s  eta 5m 37s  "
       ]
      },
      {
       "output_type": "stream",
       "stream": "stdout",
       "text": [
        "\r",
        "41% [==============>                      ] 2,027,435,250 8.07M/s  eta 5m 37s  "
       ]
      },
      {
       "output_type": "stream",
       "stream": "stdout",
       "text": [
        "\r",
        "41% [==============>                      ] 2,028,717,192 7.68M/s  eta 5m 37s  "
       ]
      },
      {
       "output_type": "stream",
       "stream": "stdout",
       "text": [
        "\r",
        "41% [==============>                      ] 2,030,153,022 7.48M/s  eta 5m 37s  "
       ]
      },
      {
       "output_type": "stream",
       "stream": "stdout",
       "text": [
        "\r",
        "41% [==============>                      ] 2,031,708,390 7.32M/s  eta 5m 37s  "
       ]
      },
      {
       "output_type": "stream",
       "stream": "stdout",
       "text": [
        "\r",
        "41% [==============>                      ] 2,033,302,230 7.00M/s  eta 5m 37s  "
       ]
      },
      {
       "output_type": "stream",
       "stream": "stdout",
       "text": [
        "\r",
        "41% [==============>                      ] 2,034,915,306 6.86M/s  eta 5m 37s  "
       ]
      },
      {
       "output_type": "stream",
       "stream": "stdout",
       "text": [
        "\r",
        "41% [==============>                      ] 2,036,599,830 6.77M/s  eta 5m 36s  "
       ]
      },
      {
       "output_type": "stream",
       "stream": "stdout",
       "text": [
        "\r",
        "41% [==============>                      ] 2,038,361,298 6.61M/s  eta 5m 36s  "
       ]
      },
      {
       "output_type": "stream",
       "stream": "stdout",
       "text": [
        "\r",
        "41% [==============>                      ] 2,040,155,742 6.79M/s  eta 5m 36s  "
       ]
      },
      {
       "output_type": "stream",
       "stream": "stdout",
       "text": [
        "\r",
        "41% [==============>                      ] 2,042,086,212 7.05M/s  eta 5m 36s  "
       ]
      },
      {
       "output_type": "stream",
       "stream": "stdout",
       "text": [
        "\r",
        "41% [==============>                      ] 2,044,149,960 7.30M/s  eta 5m 36s  "
       ]
      },
      {
       "output_type": "stream",
       "stream": "stdout",
       "text": [
        "\r",
        "41% [==============>                      ] 2,046,169,740 7.51M/s  eta 5m 35s  "
       ]
      },
      {
       "output_type": "stream",
       "stream": "stdout",
       "text": [
        "\r",
        "41% [==============>                      ] 2,048,219,748 7.73M/s  eta 5m 35s  "
       ]
      },
      {
       "output_type": "stream",
       "stream": "stdout",
       "text": [
        "\r",
        "41% [==============>                      ] 2,050,309,602 7.98M/s  eta 5m 35s  "
       ]
      },
      {
       "output_type": "stream",
       "stream": "stdout",
       "text": [
        "\r",
        "41% [==============>                      ] 2,052,380,220 8.23M/s  eta 5m 35s  "
       ]
      },
      {
       "output_type": "stream",
       "stream": "stdout",
       "text": [
        "\r",
        "41% [==============>                      ] 2,054,518,164 8.48M/s  eta 5m 35s  "
       ]
      },
      {
       "output_type": "stream",
       "stream": "stdout",
       "text": [
        "\r",
        "41% [==============>                      ] 2,056,686,336 8.85M/s  eta 5m 33s  "
       ]
      },
      {
       "output_type": "stream",
       "stream": "stdout",
       "text": [
        "\r",
        "42% [==============>                      ] 2,058,881,988 9.05M/s  eta 5m 33s  "
       ]
      },
      {
       "output_type": "stream",
       "stream": "stdout",
       "text": [
        "\r",
        "42% [==============>                      ] 2,061,017,184 9.22M/s  eta 5m 33s  "
       ]
      },
      {
       "output_type": "stream",
       "stream": "stdout",
       "text": [
        "\r",
        "42% [==============>                      ] 2,062,946,176 9.37M/s  eta 5m 33s  "
       ]
      },
      {
       "output_type": "stream",
       "stream": "stdout",
       "text": [
        "\r",
        "42% [==============>                      ] 2,065,497,798 9.62M/s  eta 5m 33s  "
       ]
      },
      {
       "output_type": "stream",
       "stream": "stdout",
       "text": [
        "\r",
        "42% [==============>                      ] 2,067,663,222 9.84M/s  eta 5m 31s  "
       ]
      },
      {
       "output_type": "stream",
       "stream": "stdout",
       "text": [
        "\r",
        "42% [==============>                      ] 2,069,801,166 9.94M/s  eta 5m 31s  "
       ]
      },
      {
       "output_type": "stream",
       "stream": "stdout",
       "text": [
        "\r",
        "42% [==============>                      ] 2,071,963,842 10.0M/s  eta 5m 31s  "
       ]
      },
      {
       "output_type": "stream",
       "stream": "stdout",
       "text": [
        "\r",
        "42% [==============>                      ] 2,074,099,038 10.1M/s  eta 5m 31s  "
       ]
      },
      {
       "output_type": "stream",
       "stream": "stdout",
       "text": [
        "\r",
        "42% [==============>                      ] 2,076,327,666 10.2M/s  eta 5m 31s  "
       ]
      },
      {
       "output_type": "stream",
       "stream": "stdout",
       "text": [
        "\r",
        "42% [==============>                      ] 2,078,563,164 10.3M/s  eta 5m 30s  "
       ]
      },
      {
       "output_type": "stream",
       "stream": "stdout",
       "text": [
        "\r",
        "42% [==============>                      ] 2,080,823,394 10.3M/s  eta 5m 30s  "
       ]
      },
      {
       "output_type": "stream",
       "stream": "stdout",
       "text": [
        "\r",
        "42% [==============>                      ] 2,083,083,624 10.4M/s  eta 5m 30s  "
       ]
      },
      {
       "output_type": "stream",
       "stream": "stdout",
       "text": [
        "\r",
        "42% [==============>                      ] 2,085,334,236 10.4M/s  eta 5m 30s  "
       ]
      },
      {
       "output_type": "stream",
       "stream": "stdout",
       "text": [
        "\r",
        "42% [==============>                      ] 2,087,558,742 10.5M/s  eta 5m 30s  "
       ]
      },
      {
       "output_type": "stream",
       "stream": "stdout",
       "text": [
        "\r",
        "42% [==============>                      ] 2,089,817,598 10.5M/s  eta 5m 28s  "
       ]
      },
      {
       "output_type": "stream",
       "stream": "stdout",
       "text": [
        "\r",
        "42% [==============>                      ] 2,092,084,698 10.5M/s  eta 5m 28s  "
       ]
      },
      {
       "output_type": "stream",
       "stream": "stdout",
       "text": [
        "\r",
        "42% [==============>                      ] 2,094,342,180 10.6M/s  eta 5m 28s  "
       ]
      },
      {
       "output_type": "stream",
       "stream": "stdout",
       "text": [
        "\r",
        "42% [==============>                      ] 2,096,601,036 10.6M/s  eta 5m 28s  "
       ]
      },
      {
       "output_type": "stream",
       "stream": "stdout",
       "text": [
        "\r",
        "42% [==============>                      ] 2,098,853,022 10.6M/s  eta 5m 28s  "
       ]
      },
      {
       "output_type": "stream",
       "stream": "stdout",
       "text": [
        "\r",
        "42% [==============>                      ] 2,101,105,008 10.6M/s  eta 5m 26s  "
       ]
      },
      {
       "output_type": "stream",
       "stream": "stdout",
       "text": [
        "\r",
        "42% [==============>                      ] 2,103,346,002 10.6M/s  eta 5m 26s  "
       ]
      },
      {
       "output_type": "stream",
       "stream": "stdout",
       "text": [
        "\r",
        "42% [==============>                      ] 2,105,206,398 10.5M/s  eta 5m 26s  "
       ]
      },
      {
       "output_type": "stream",
       "stream": "stdout",
       "text": [
        "\r",
        "42% [==============>                      ] 2,106,199,800 10.2M/s  eta 5m 26s  "
       ]
      },
      {
       "output_type": "stream",
       "stream": "stdout",
       "text": [
        "\r",
        "43% [==============>                      ] 2,107,661,736 9.97M/s  eta 5m 26s  "
       ]
      },
      {
       "output_type": "stream",
       "stream": "stdout",
       "text": [
        "\r",
        "43% [==============>                      ] 2,109,181,380 9.76M/s  eta 5m 25s  "
       ]
      },
      {
       "output_type": "stream",
       "stream": "stdout",
       "text": [
        "\r",
        "43% [==============>                      ] 2,110,665,300 9.48M/s  eta 5m 25s  "
       ]
      },
      {
       "output_type": "stream",
       "stream": "stdout",
       "text": [
        "\r",
        "43% [==============>                      ] 2,112,319,596 9.31M/s  eta 5m 25s  "
       ]
      },
      {
       "output_type": "stream",
       "stream": "stdout",
       "text": [
        "\r",
        "43% [==============>                      ] 2,114,103,048 9.19M/s  eta 5m 25s  "
       ]
      },
      {
       "output_type": "stream",
       "stream": "stdout",
       "text": [
        "\r",
        "43% [==============>                      ] 2,115,900,240 9.00M/s  eta 5m 25s  "
       ]
      },
      {
       "output_type": "stream",
       "stream": "stdout",
       "text": [
        "\r",
        "43% [==============>                      ] 2,117,672,700 8.88M/s  eta 5m 24s  "
       ]
      },
      {
       "output_type": "stream",
       "stream": "stdout",
       "text": [
        "\r",
        "43% [===============>                     ] 2,119,561,950 8.80M/s  eta 5m 24s  "
       ]
      },
      {
       "output_type": "stream",
       "stream": "stdout",
       "text": [
        "\r",
        "43% [===============>                     ] 2,121,562,494 8.75M/s  eta 5m 24s  "
       ]
      },
      {
       "output_type": "stream",
       "stream": "stdout",
       "text": [
        "\r",
        "43% [===============>                     ] 2,123,388,436 8.54M/s  eta 5m 24s  "
       ]
      },
      {
       "output_type": "stream",
       "stream": "stdout",
       "text": [
        "\r",
        "43% [===============>                     ] 2,125,454,932 8.52M/s  eta 5m 24s  "
       ]
      },
      {
       "output_type": "stream",
       "stream": "stdout",
       "text": [
        "\r",
        "43% [===============>                     ] 2,127,531,150 8.50M/s  eta 5m 23s  "
       ]
      },
      {
       "output_type": "stream",
       "stream": "stdout",
       "text": [
        "\r",
        "43% [===============>                     ] 2,129,403,912 8.31M/s  eta 5m 23s  "
       ]
      },
      {
       "output_type": "stream",
       "stream": "stdout",
       "text": [
        "\r",
        "43% [===============>                     ] 2,131,335,756 8.24M/s  eta 5m 23s  "
       ]
      },
      {
       "output_type": "stream",
       "stream": "stdout",
       "text": [
        "\r",
        "43% [===============>                     ] 2,133,391,260 8.46M/s  eta 5m 23s  "
       ]
      },
      {
       "output_type": "stream",
       "stream": "stdout",
       "text": [
        "\r",
        "43% [===============>                     ] 2,135,449,408 8.79M/s  eta 5m 23s  "
       ]
      },
      {
       "output_type": "stream",
       "stream": "stdout",
       "text": [
        "\r",
        "43% [===============>                     ] 2,137,414,332 8.90M/s  eta 5m 22s  "
       ]
      },
      {
       "output_type": "stream",
       "stream": "stdout",
       "text": [
        "\r",
        "43% [===============>                     ] 2,139,487,698 9.04M/s  eta 5m 22s  "
       ]
      },
      {
       "output_type": "stream",
       "stream": "stdout",
       "text": [
        "\r",
        "43% [===============>                     ] 2,141,594,040 9.26M/s  eta 5m 22s  "
       ]
      },
      {
       "output_type": "stream",
       "stream": "stdout",
       "text": [
        "\r",
        "43% [===============>                     ] 2,143,690,764 9.35M/s  eta 5m 22s  "
       ]
      },
      {
       "output_type": "stream",
       "stream": "stdout",
       "text": [
        "\r",
        "43% [===============>                     ] 2,145,854,814 9.46M/s  eta 5m 22s  "
       ]
      },
      {
       "output_type": "stream",
       "stream": "stdout",
       "text": [
        "\r",
        "43% [===============>                     ] 2,148,010,620 9.60M/s  eta 5m 20s  "
       ]
      },
      {
       "output_type": "stream",
       "stream": "stdout",
       "text": [
        "\r",
        "43% [===============>                     ] 2,150,193,906 9.70M/s  eta 5m 20s  "
       ]
      },
      {
       "output_type": "stream",
       "stream": "stdout",
       "text": [
        "\r",
        "43% [===============>                     ] 2,152,400,550 9.77M/s  eta 5m 20s  "
       ]
      },
      {
       "output_type": "stream",
       "stream": "stdout",
       "text": [
        "\r",
        "43% [===============>                     ] 2,154,450,558 9.96M/s  eta 5m 20s  "
       ]
      },
      {
       "output_type": "stream",
       "stream": "stdout",
       "text": [
        "\r",
        "44% [===============>                     ] 2,155,489,302 9.54M/s  eta 5m 20s  "
       ]
      },
      {
       "output_type": "stream",
       "stream": "stdout",
       "text": [
        "\r",
        "44% [===============>                     ] 2,156,816,586 9.31M/s  eta 5m 19s  "
       ]
      },
      {
       "output_type": "stream",
       "stream": "stdout",
       "text": [
        "\r",
        "44% [===============>                     ] 2,158,293,636 9.17M/s  eta 5m 19s  "
       ]
      },
      {
       "output_type": "stream",
       "stream": "stdout",
       "text": [
        "\r",
        "44% [===============>                     ] 2,159,913,582 9.22M/s  eta 5m 19s  "
       ]
      },
      {
       "output_type": "stream",
       "stream": "stdout",
       "text": [
        "\r",
        "44% [===============>                     ] 2,161,658,562 8.99M/s  eta 5m 19s  "
       ]
      },
      {
       "output_type": "stream",
       "stream": "stdout",
       "text": [
        "\r",
        "44% [===============>                     ] 2,163,444,762 8.89M/s  eta 5m 19s  "
       ]
      },
      {
       "output_type": "stream",
       "stream": "stdout",
       "text": [
        "\r",
        "44% [===============>                     ] 2,165,244,702 8.84M/s  eta 5m 18s  "
       ]
      },
      {
       "output_type": "stream",
       "stream": "stdout",
       "text": [
        "\r",
        "44% [===============>                     ] 2,167,155,936 8.82M/s  eta 5m 18s  "
       ]
      },
      {
       "output_type": "stream",
       "stream": "stdout",
       "text": [
        "\r",
        "44% [===============>                     ] 2,169,047,934 8.73M/s  eta 5m 18s  "
       ]
      },
      {
       "output_type": "stream",
       "stream": "stdout",
       "text": [
        "\r",
        "44% [===============>                     ] 2,171,012,754 8.71M/s  eta 5m 18s  "
       ]
      },
      {
       "output_type": "stream",
       "stream": "stdout",
       "text": [
        "\r",
        "44% [===============>                     ] 2,173,051,770 8.69M/s  eta 5m 18s  "
       ]
      },
      {
       "output_type": "stream",
       "stream": "stdout",
       "text": [
        "\r",
        "44% [===============>                     ] 2,175,081,168 8.60M/s  eta 5m 17s  "
       ]
      },
      {
       "output_type": "stream",
       "stream": "stdout",
       "text": [
        "\r",
        "44% [===============>                     ] 2,177,111,940 8.58M/s  eta 5m 17s  "
       ]
      },
      {
       "output_type": "stream",
       "stream": "stdout",
       "text": [
        "\r",
        "44% [===============>                     ] 2,179,188,054 8.57M/s  eta 5m 17s  "
       ]
      },
      {
       "output_type": "stream",
       "stream": "stdout",
       "text": [
        "\r",
        "44% [===============>                     ] 2,181,229,818 8.49M/s  eta 5m 17s  "
       ]
      },
      {
       "output_type": "stream",
       "stream": "stdout",
       "text": [
        "\r",
        "44% [===============>                     ] 2,183,319,672 8.77M/s  eta 5m 17s  "
       ]
      },
      {
       "output_type": "stream",
       "stream": "stdout",
       "text": [
        "\r",
        "44% [===============>                     ] 2,185,324,338 8.96M/s  eta 5m 15s  "
       ]
      },
      {
       "output_type": "stream",
       "stream": "stdout",
       "text": [
        "\r",
        "44% [===============>                     ] 2,187,355,110 9.22M/s  eta 5m 15s  "
       ]
      },
      {
       "output_type": "stream",
       "stream": "stdout",
       "text": [
        "\r",
        "44% [===============>                     ] 2,189,395,500 9.33M/s  eta 5m 15s  "
       ]
      },
      {
       "output_type": "stream",
       "stream": "stdout",
       "text": [
        "\r",
        "44% [===============>                     ] 2,191,545,810 9.45M/s  eta 5m 15s  "
       ]
      },
      {
       "output_type": "stream",
       "stream": "stdout",
       "text": [
        "\r",
        "44% [===============>                     ] 2,193,701,616 9.60M/s  eta 5m 15s  "
       ]
      },
      {
       "output_type": "stream",
       "stream": "stdout",
       "text": [
        "\r",
        "44% [===============>                     ] 2,195,861,544 9.69M/s  eta 5m 14s  "
       ]
      },
      {
       "output_type": "stream",
       "stream": "stdout",
       "text": [
        "\r",
        "44% [===============>                     ] 2,197,945,902 9.76M/s  eta 5m 14s  "
       ]
      },
      {
       "output_type": "stream",
       "stream": "stdout",
       "text": [
        "\r",
        "44% [===============>                     ] 2,200,096,212 9.85M/s  eta 5m 14s  "
       ]
      },
      {
       "output_type": "stream",
       "stream": "stdout",
       "text": [
        "\r",
        "44% [===============>                     ] 2,202,275,376 9.92M/s  eta 5m 14s  "
       ]
      },
      {
       "output_type": "stream",
       "stream": "stdout",
       "text": [
        "\r",
        "45% [===============>                     ] 2,204,454,540 9.96M/s  eta 5m 14s  "
       ]
      },
      {
       "output_type": "stream",
       "stream": "stdout",
       "text": [
        "\r",
        "45% [===============>                     ] 2,206,578,744 10.0M/s  eta 5m 12s  "
       ]
      },
      {
       "output_type": "stream",
       "stream": "stdout",
       "text": [
        "\r",
        "45% [===============>                     ] 2,208,430,896 9.94M/s  eta 5m 12s  "
       ]
      },
      {
       "output_type": "stream",
       "stream": "stdout",
       "text": [
        "\r",
        "45% [===============>                     ] 2,210,684,256 9.99M/s  eta 5m 12s  "
       ]
      },
      {
       "output_type": "stream",
       "stream": "stdout",
       "text": [
        "\r",
        "45% [===============>                     ] 2,212,914,258 10.1M/s  eta 5m 12s  "
       ]
      },
      {
       "output_type": "stream",
       "stream": "stdout",
       "text": [
        "\r",
        "45% [===============>                     ] 2,215,166,244 10.1M/s  eta 5m 12s  "
       ]
      },
      {
       "output_type": "stream",
       "stream": "stdout",
       "text": [
        "\r",
        "45% [===============>                     ] 2,217,409,986 10.2M/s  eta 5m 11s  "
       ]
      },
      {
       "output_type": "stream",
       "stream": "stdout",
       "text": [
        "\r",
        "45% [===============>                     ] 2,219,661,972 10.3M/s  eta 5m 11s  "
       ]
      },
      {
       "output_type": "stream",
       "stream": "stdout",
       "text": [
        "\r",
        "45% [===============>                     ] 2,221,912,584 10.3M/s  eta 5m 11s  "
       ]
      },
      {
       "output_type": "stream",
       "stream": "stdout",
       "text": [
        "\r",
        "45% [===============>                     ] 2,224,149,456 10.4M/s  eta 5m 11s  "
       ]
      },
      {
       "output_type": "stream",
       "stream": "stdout",
       "text": [
        "\r",
        "45% [===============>                     ] 2,226,427,548 10.4M/s  eta 5m 11s  "
       ]
      },
      {
       "output_type": "stream",
       "stream": "stdout",
       "text": [
        "\r",
        "45% [===============>                     ] 2,228,682,282 10.4M/s  eta 5m 9s   "
       ]
      },
      {
       "output_type": "stream",
       "stream": "stdout",
       "text": [
        "\r",
        "45% [===============>                     ] 2,230,928,772 10.5M/s  eta 5m 9s   "
       ]
      },
      {
       "output_type": "stream",
       "stream": "stdout",
       "text": [
        "\r",
        "45% [===============>                     ] 2,232,574,824 10.3M/s  eta 5m 9s   "
       ]
      },
      {
       "output_type": "stream",
       "stream": "stdout",
       "text": [
        "\r",
        "45% [===============>                     ] 2,233,388,232 9.89M/s  eta 5m 9s   "
       ]
      },
      {
       "output_type": "stream",
       "stream": "stdout",
       "text": [
        "\r",
        "45% [===============>                     ] 2,234,561,628 9.59M/s  eta 5m 9s   "
       ]
      },
      {
       "output_type": "stream",
       "stream": "stdout",
       "text": [
        "\r",
        "45% [===============>                     ] 2,235,969,978 9.37M/s  eta 5m 8s   "
       ]
      },
      {
       "output_type": "stream",
       "stream": "stdout",
       "text": [
        "\r",
        "45% [===============>                     ] 2,237,313,750 9.19M/s  eta 5m 8s   "
       ]
      },
      {
       "output_type": "stream",
       "stream": "stdout",
       "text": [
        "\r",
        "45% [===============>                     ] 2,238,671,262 8.94M/s  eta 5m 8s   "
       ]
      },
      {
       "output_type": "stream",
       "stream": "stdout",
       "text": [
        "\r",
        "45% [===============>                     ] 2,240,243,118 8.77M/s  eta 5m 8s   "
       ]
      },
      {
       "output_type": "stream",
       "stream": "stdout",
       "text": [
        "\r",
        "45% [===============>                     ] 2,241,923,520 8.54M/s  eta 5m 8s   "
       ]
      },
      {
       "output_type": "stream",
       "stream": "stdout",
       "text": [
        "\r",
        "45% [===============>                     ] 2,243,547,588 8.37M/s  eta 5m 8s   "
       ]
      },
      {
       "output_type": "stream",
       "stream": "stdout",
       "text": [
        "\r",
        "45% [===============>                     ] 2,245,291,194 8.26M/s  eta 5m 8s   "
       ]
      },
      {
       "output_type": "stream",
       "stream": "stdout",
       "text": [
        "\r",
        "45% [===============>                     ] 2,247,106,248 8.04M/s  eta 5m 8s   "
       ]
      },
      {
       "output_type": "stream",
       "stream": "stdout",
       "text": [
        "\r",
        "45% [===============>                     ] 2,248,906,188 7.92M/s  eta 5m 8s   "
       ]
      },
      {
       "output_type": "stream",
       "stream": "stdout",
       "text": [
        "\r",
        "45% [===============>                     ] 2,250,571,476 7.79M/s  eta 5m 8s   "
       ]
      },
      {
       "output_type": "stream",
       "stream": "stdout",
       "text": [
        "\r",
        "45% [================>                    ] 2,251,989,444 7.43M/s  eta 5m 7s   "
       ]
      },
      {
       "output_type": "stream",
       "stream": "stdout",
       "text": [
        "\r",
        "46% [================>                    ] 2,253,697,326 7.32M/s  eta 5m 7s   "
       ]
      },
      {
       "output_type": "stream",
       "stream": "stdout",
       "text": [
        "\r",
        "46% [================>                    ] 2,255,379,102 7.20M/s  eta 5m 7s   "
       ]
      },
      {
       "output_type": "stream",
       "stream": "stdout",
       "text": [
        "\r",
        "46% [================>                    ] 2,257,246,368 7.67M/s  eta 5m 7s   "
       ]
      },
      {
       "output_type": "stream",
       "stream": "stdout",
       "text": [
        "\r",
        "46% [================>                    ] 2,259,189,204 7.75M/s  eta 5m 7s   "
       ]
      },
      {
       "output_type": "stream",
       "stream": "stdout",
       "text": [
        "\r",
        "46% [================>                    ] 2,261,166,390 7.93M/s  eta 5m 6s   "
       ]
      },
      {
       "output_type": "stream",
       "stream": "stdout",
       "text": [
        "\r",
        "46% [================>                    ] 2,263,151,820 8.16M/s  eta 5m 6s   "
       ]
      },
      {
       "output_type": "stream",
       "stream": "stdout",
       "text": [
        "\r",
        "46% [================>                    ] 2,265,247,170 8.37M/s  eta 5m 6s   "
       ]
      },
      {
       "output_type": "stream",
       "stream": "stdout",
       "text": [
        "\r",
        "46% [================>                    ] 2,267,350,764 8.54M/s  eta 5m 6s   "
       ]
      },
      {
       "output_type": "stream",
       "stream": "stdout",
       "text": [
        "\r",
        "46% [================>                    ] 2,269,468,098 8.72M/s  eta 5m 6s   "
       ]
      },
      {
       "output_type": "stream",
       "stream": "stdout",
       "text": [
        "\r",
        "46% [================>                    ] 2,271,658,254 8.87M/s  eta 5m 4s   "
       ]
      },
      {
       "output_type": "stream",
       "stream": "stdout",
       "text": [
        "\r",
        "46% [================>                    ] 2,273,827,800 9.00M/s  eta 5m 4s   "
       ]
      },
      {
       "output_type": "stream",
       "stream": "stdout",
       "text": [
        "\r",
        "46% [================>                    ] 2,275,721,172 9.05M/s  eta 5m 4s   "
       ]
      },
      {
       "output_type": "stream",
       "stream": "stdout",
       "text": [
        "\r",
        "46% [================>                    ] 2,277,797,286 9.13M/s  eta 5m 4s   "
       ]
      },
      {
       "output_type": "stream",
       "stream": "stdout",
       "text": [
        "\r",
        "46% [================>                    ] 2,279,896,758 9.23M/s  eta 5m 4s   "
       ]
      },
      {
       "output_type": "stream",
       "stream": "stdout",
       "text": [
        "\r",
        "46% [================>                    ] 2,282,001,726 9.50M/s  eta 5m 3s   "
       ]
      },
      {
       "output_type": "stream",
       "stream": "stdout",
       "text": [
        "\r",
        "46% [================>                    ] 2,284,138,296 9.70M/s  eta 5m 3s   "
       ]
      },
      {
       "output_type": "stream",
       "stream": "stdout",
       "text": [
        "\r",
        "46% [================>                    ] 2,286,218,532 9.74M/s  eta 5m 3s   "
       ]
      },
      {
       "output_type": "stream",
       "stream": "stdout",
       "text": [
        "\r",
        "46% [================>                    ] 2,288,209,458 9.77M/s  eta 5m 3s   "
       ]
      },
      {
       "output_type": "stream",
       "stream": "stdout",
       "text": [
        "\r",
        "46% [================>                    ] 2,290,421,598 9.89M/s  eta 5m 3s   "
       ]
      },
      {
       "output_type": "stream",
       "stream": "stdout",
       "text": [
        "\r",
        "46% [================>                    ] 2,292,683,202 9.99M/s  eta 5m 1s   "
       ]
      },
      {
       "output_type": "stream",
       "stream": "stdout",
       "text": [
        "\r",
        "46% [================>                    ] 2,294,892,594 10.0M/s  eta 5m 1s   "
       ]
      },
      {
       "output_type": "stream",
       "stream": "stdout",
       "text": [
        "\r",
        "46% [================>                    ] 2,297,147,328 10.1M/s  eta 5m 1s   "
       ]
      },
      {
       "output_type": "stream",
       "stream": "stdout",
       "text": [
        "\r",
        "46% [================>                    ] 2,299,341,606 10.1M/s  eta 5m 1s   "
       ]
      },
      {
       "output_type": "stream",
       "stream": "stdout",
       "text": [
        "\r",
        "46% [================>                    ] 2,301,589,470 10.2M/s  eta 5m 1s   "
       ]
      },
      {
       "output_type": "stream",
       "stream": "stdout",
       "text": [
        "\r",
        "47% [================>                    ] 2,303,846,952 10.2M/s  eta 5m 0s   "
       ]
      },
      {
       "output_type": "stream",
       "stream": "stdout",
       "text": [
        "\r",
        "47% [================>                    ] 2,306,098,938 10.3M/s  eta 5m 0s   "
       ]
      },
      {
       "output_type": "stream",
       "stream": "stdout",
       "text": [
        "\r",
        "47% [================>                    ] 2,308,356,420 10.3M/s  eta 5m 0s   "
       ]
      },
      {
       "output_type": "stream",
       "stream": "stdout",
       "text": [
        "\r",
        "47% [================>                    ] 2,309,609,508 10.1M/s  eta 5m 0s   "
       ]
      },
      {
       "output_type": "stream",
       "stream": "stdout",
       "text": [
        "\r",
        "47% [================>                    ] 2,310,420,168 9.71M/s  eta 5m 0s   "
       ]
      },
      {
       "output_type": "stream",
       "stream": "stdout",
       "text": [
        "\r",
        "47% [================>                    ] 2,311,557,840 9.41M/s  eta 4m 59s  "
       ]
      },
      {
       "output_type": "stream",
       "stream": "stdout",
       "text": [
        "\r",
        "47% [================>                    ] 2,312,677,650 9.08M/s  eta 4m 59s  "
       ]
      },
      {
       "output_type": "stream",
       "stream": "stdout",
       "text": [
        "\r",
        "47% [================>                    ] 2,313,776,850 8.76M/s  eta 4m 59s  "
       ]
      },
      {
       "output_type": "stream",
       "stream": "stdout",
       "text": [
        "\r",
        "47% [================>                    ] 2,314,924,140 8.56M/s  eta 4m 59s  "
       ]
      },
      {
       "output_type": "stream",
       "stream": "stdout",
       "text": [
        "\r",
        "47% [================>                    ] 2,316,053,568 8.16M/s  eta 4m 59s  "
       ]
      },
      {
       "output_type": "stream",
       "stream": "stdout",
       "text": [
        "\r",
        "47% [================>                    ] 2,317,413,828 7.93M/s  eta 4m 59s  "
       ]
      },
      {
       "output_type": "stream",
       "stream": "stdout",
       "text": [
        "\r",
        "47% [================>                    ] 2,318,925,228 7.76M/s  eta 4m 59s  "
       ]
      },
      {
       "output_type": "stream",
       "stream": "stdout",
       "text": [
        "\r",
        "47% [================>                    ] 2,320,403,652 7.42M/s  eta 4m 59s  "
       ]
      },
      {
       "output_type": "stream",
       "stream": "stdout",
       "text": [
        "\r",
        "47% [================>                    ] 2,322,097,794 7.32M/s  eta 4m 59s  "
       ]
      },
      {
       "output_type": "stream",
       "stream": "stdout",
       "text": [
        "\r",
        "47% [================>                    ] 2,323,969,182 7.26M/s  eta 4m 59s  "
       ]
      },
      {
       "output_type": "stream",
       "stream": "stdout",
       "text": [
        "\r",
        "47% [================>                    ] 2,325,957,360 7.09M/s  eta 4m 58s  "
       ]
      },
      {
       "output_type": "stream",
       "stream": "stdout",
       "text": [
        "\r",
        "47% [================>                    ] 2,328,005,994 7.06M/s  eta 4m 58s  "
       ]
      },
      {
       "output_type": "stream",
       "stream": "stdout",
       "text": [
        "\r",
        "47% [================>                    ] 2,330,012,034 7.05M/s  eta 4m 58s  "
       ]
      },
      {
       "output_type": "stream",
       "stream": "stdout",
       "text": [
        "\r",
        "47% [================>                    ] 2,331,799,608 6.97M/s  eta 4m 58s  "
       ]
      },
      {
       "output_type": "stream",
       "stream": "stdout",
       "text": [
        "\r",
        "47% [================>                    ] 2,333,797,404 7.32M/s  eta 4m 58s  "
       ]
      },
      {
       "output_type": "stream",
       "stream": "stdout",
       "text": [
        "\r",
        "47% [================>                    ] 2,335,659,174 7.54M/s  eta 4m 56s  "
       ]
      },
      {
       "output_type": "stream",
       "stream": "stdout",
       "text": [
        "\r",
        "47% [================>                    ] 2,337,379,422 7.77M/s  eta 4m 56s  "
       ]
      },
      {
       "output_type": "stream",
       "stream": "stdout",
       "text": [
        "\r",
        "47% [================>                    ] 2,339,274,168 7.99M/s  eta 4m 56s  "
       ]
      },
      {
       "output_type": "stream",
       "stream": "stdout",
       "text": [
        "\r",
        "47% [================>                    ] 2,341,269,216 8.23M/s  eta 4m 56s  "
       ]
      },
      {
       "output_type": "stream",
       "stream": "stdout",
       "text": [
        "\r",
        "47% [================>                    ] 2,343,327,468 8.60M/s  eta 4m 56s  "
       ]
      },
      {
       "output_type": "stream",
       "stream": "stdout",
       "text": [
        "\r",
        "47% [================>                    ] 2,345,455,794 8.82M/s  eta 4m 55s  "
       ]
      },
      {
       "output_type": "stream",
       "stream": "stdout",
       "text": [
        "\r",
        "47% [================>                    ] 2,347,549,770 8.99M/s  eta 4m 55s  "
       ]
      },
      {
       "output_type": "stream",
       "stream": "stdout",
       "text": [
        "\r",
        "47% [================>                    ] 2,349,511,842 9.21M/s  eta 4m 55s  "
       ]
      },
      {
       "output_type": "stream",
       "stream": "stdout",
       "text": [
        "\r",
        "48% [================>                    ] 2,351,605,818 9.33M/s  eta 4m 55s  "
       ]
      },
      {
       "output_type": "stream",
       "stream": "stdout",
       "text": [
        "\r",
        "48% [================>                    ] 2,353,577,508 9.37M/s  eta 4m 55s  "
       ]
      },
      {
       "output_type": "stream",
       "stream": "stdout",
       "text": [
        "\r",
        "48% [================>                    ] 2,355,628,890 9.42M/s  eta 4m 54s  "
       ]
      },
      {
       "output_type": "stream",
       "stream": "stdout",
       "text": [
        "\r",
        "48% [================>                    ] 2,357,735,232 9.45M/s  eta 4m 54s  "
       ]
      },
      {
       "output_type": "stream",
       "stream": "stdout",
       "text": [
        "\r",
        "48% [================>                    ] 2,359,867,680 9.47M/s  eta 4m 54s  "
       ]
      },
      {
       "output_type": "stream",
       "stream": "stdout",
       "text": [
        "\r",
        "48% [================>                    ] 2,362,096,308 9.61M/s  eta 4m 54s  "
       ]
      },
      {
       "output_type": "stream",
       "stream": "stdout",
       "text": [
        "\r",
        "48% [================>                    ] 2,364,356,538 9.68M/s  eta 4m 54s  "
       ]
      },
      {
       "output_type": "stream",
       "stream": "stdout",
       "text": [
        "\r",
        "48% [================>                    ] 2,366,607,150 9.78M/s  eta 4m 52s  "
       ]
      },
      {
       "output_type": "stream",
       "stream": "stdout",
       "text": [
        "\r",
        "48% [================>                    ] 2,368,812,420 9.96M/s  eta 4m 52s  "
       ]
      },
      {
       "output_type": "stream",
       "stream": "stdout",
       "text": [
        "\r",
        "48% [================>                    ] 2,371,094,634 10.1M/s  eta 4m 52s  "
       ]
      },
      {
       "output_type": "stream",
       "stream": "stdout",
       "text": [
        "\r",
        "48% [================>                    ] 2,373,284,790 10.1M/s  eta 4m 52s  "
       ]
      },
      {
       "output_type": "stream",
       "stream": "stdout",
       "text": [
        "\r",
        "48% [================>                    ] 2,375,524,410 10.2M/s  eta 4m 52s  "
       ]
      },
      {
       "output_type": "stream",
       "stream": "stdout",
       "text": [
        "\r",
        "48% [================>                    ] 2,377,747,542 10.2M/s  eta 4m 51s  "
       ]
      },
      {
       "output_type": "stream",
       "stream": "stdout",
       "text": [
        "\r",
        "48% [================>                    ] 2,380,006,398 10.3M/s  eta 4m 51s  "
       ]
      },
      {
       "output_type": "stream",
       "stream": "stdout",
       "text": [
        "\r",
        "48% [================>                    ] 2,382,263,880 10.4M/s  eta 4m 51s  "
       ]
      },
      {
       "output_type": "stream",
       "stream": "stdout",
       "text": [
        "\r",
        "48% [=================>                   ] 2,384,517,240 10.4M/s  eta 4m 51s  "
       ]
      },
      {
       "output_type": "stream",
       "stream": "stdout",
       "text": [
        "\r",
        "48% [=================>                   ] 2,386,741,746 10.5M/s  eta 4m 51s  "
       ]
      },
      {
       "output_type": "stream",
       "stream": "stdout",
       "text": [
        "\r",
        "48% [=================>                   ] 2,388,743,560 10.5M/s  eta 4m 49s  "
       ]
      },
      {
       "output_type": "stream",
       "stream": "stdout",
       "text": [
        "\r",
        "48% [=================>                   ] 2,389,914,312 10.2M/s  eta 4m 49s  "
       ]
      },
      {
       "output_type": "stream",
       "stream": "stdout",
       "text": [
        "\r",
        "48% [=================>                   ] 2,391,220,986 9.91M/s  eta 4m 49s  "
       ]
      },
      {
       "output_type": "stream",
       "stream": "stdout",
       "text": [
        "\r",
        "48% [=================>                   ] 2,392,637,580 9.66M/s  eta 4m 49s  "
       ]
      },
      {
       "output_type": "stream",
       "stream": "stdout",
       "text": [
        "\r",
        "48% [=================>                   ] 2,394,041,808 9.42M/s  eta 4m 49s  "
       ]
      },
      {
       "output_type": "stream",
       "stream": "stdout",
       "text": [
        "\r",
        "48% [=================>                   ] 2,395,450,158 9.18M/s  eta 4m 49s  "
       ]
      },
      {
       "output_type": "stream",
       "stream": "stdout",
       "text": [
        "\r",
        "48% [=================>                   ] 2,396,978,046 8.92M/s  eta 4m 49s  "
       ]
      },
      {
       "output_type": "stream",
       "stream": "stdout",
       "text": [
        "\r",
        "48% [=================>                   ] 2,398,533,414 8.73M/s  eta 4m 49s  "
       ]
      },
      {
       "output_type": "stream",
       "stream": "stdout",
       "text": [
        "\r",
        "48% [=================>                   ] 2,400,206,946 8.58M/s  eta 4m 49s  "
       ]
      },
      {
       "output_type": "stream",
       "stream": "stdout",
       "text": [
        "\r",
        "49% [=================>                   ] 2,401,947,804 8.37M/s  eta 4m 49s  "
       ]
      },
      {
       "output_type": "stream",
       "stream": "stdout",
       "text": [
        "\r",
        "49% [=================>                   ] 2,403,383,634 8.19M/s  eta 4m 48s  "
       ]
      },
      {
       "output_type": "stream",
       "stream": "stdout",
       "text": [
        "\r",
        "49% [=================>                   ] 2,405,252,274 8.09M/s  eta 4m 48s  "
       ]
      },
      {
       "output_type": "stream",
       "stream": "stdout",
       "text": [
        "\r",
        "49% [=================>                   ] 2,407,032,978 7.98M/s  eta 4m 48s  "
       ]
      },
      {
       "output_type": "stream",
       "stream": "stdout",
       "text": [
        "\r",
        "49% [=================>                   ] 2,408,548,396 7.67M/s  eta 4m 48s  "
       ]
      },
      {
       "output_type": "stream",
       "stream": "stdout",
       "text": [
        "\r",
        "49% [=================>                   ] 2,410,449,306 7.62M/s  eta 4m 48s  "
       ]
      },
      {
       "output_type": "stream",
       "stream": "stdout",
       "text": [
        "\r",
        "49% [=================>                   ] 2,412,517,986 7.60M/s  eta 4m 47s  "
       ]
      },
      {
       "output_type": "stream",
       "stream": "stdout",
       "text": [
        "\r",
        "49% [=================>                   ] 2,414,315,178 7.58M/s  eta 4m 47s  "
       ]
      },
      {
       "output_type": "stream",
       "stream": "stdout",
       "text": [
        "\r",
        "49% [=================>                   ] 2,416,208,550 7.86M/s  eta 4m 47s  "
       ]
      },
      {
       "output_type": "stream",
       "stream": "stdout",
       "text": [
        "\r",
        "49% [=================>                   ] 2,418,090,930 8.00M/s  eta 4m 47s  "
       ]
      },
      {
       "output_type": "stream",
       "stream": "stdout",
       "text": [
        "\r",
        "49% [=================>                   ] 2,419,965,066 8.12M/s  eta 4m 47s  "
       ]
      },
      {
       "output_type": "stream",
       "stream": "stdout",
       "text": [
        "\r",
        "49% [=================>                   ] 2,421,810,348 8.32M/s  eta 4m 45s  "
       ]
      },
      {
       "output_type": "stream",
       "stream": "stdout",
       "text": [
        "\r",
        "49% [=================>                   ] 2,423,830,128 8.46M/s  eta 4m 45s  "
       ]
      },
      {
       "output_type": "stream",
       "stream": "stdout",
       "text": [
        "\r",
        "49% [=================>                   ] 2,425,744,110 8.56M/s  eta 4m 45s  "
       ]
      },
      {
       "output_type": "stream",
       "stream": "stdout",
       "text": [
        "\r",
        "49% [=================>                   ] 2,427,758,394 8.71M/s  eta 4m 45s  "
       ]
      },
      {
       "output_type": "stream",
       "stream": "stdout",
       "text": [
        "\r",
        "49% [=================>                   ] 2,429,758,938 8.80M/s  eta 4m 45s  "
       ]
      },
      {
       "output_type": "stream",
       "stream": "stdout",
       "text": [
        "\r",
        "49% [=================>                   ] 2,431,796,580 8.87M/s  eta 4m 44s  "
       ]
      },
      {
       "output_type": "stream",
       "stream": "stdout",
       "text": [
        "\r",
        "49% [=================>                   ] 2,433,880,938 9.07M/s  eta 4m 44s  "
       ]
      },
      {
       "output_type": "stream",
       "stream": "stdout",
       "text": [
        "\r",
        "49% [=================>                   ] 2,435,962,548 9.15M/s  eta 4m 44s  "
       ]
      },
      {
       "output_type": "stream",
       "stream": "stdout",
       "text": [
        "\r",
        "49% [=================>                   ] 2,438,027,670 9.22M/s  eta 4m 44s  "
       ]
      },
      {
       "output_type": "stream",
       "stream": "stdout",
       "text": [
        "\r",
        "49% [=================>                   ] 2,440,105,158 9.34M/s  eta 4m 44s  "
       ]
      },
      {
       "output_type": "stream",
       "stream": "stdout",
       "text": [
        "\r",
        "49% [=================>                   ] 2,442,223,866 9.39M/s  eta 4m 43s  "
       ]
      },
      {
       "output_type": "stream",
       "stream": "stdout",
       "text": [
        "\r",
        "49% [=================>                   ] 2,444,320,590 9.47M/s  eta 4m 43s  "
       ]
      },
      {
       "output_type": "stream",
       "stream": "stdout",
       "text": [
        "\r",
        "49% [=================>                   ] 2,446,545,096 9.61M/s  eta 4m 43s  "
       ]
      },
      {
       "output_type": "stream",
       "stream": "stdout",
       "text": [
        "\r",
        "49% [=================>                   ] 2,448,792,960 9.87M/s  eta 4m 43s  "
       ]
      },
      {
       "output_type": "stream",
       "stream": "stdout",
       "text": [
        "\r",
        "50% [=================>                   ] 2,451,058,686 9.84M/s  eta 4m 43s  "
       ]
      },
      {
       "output_type": "stream",
       "stream": "stdout",
       "text": [
        "\r",
        "50% [=================>                   ] 2,453,185,638 9.93M/s  eta 4m 41s  "
       ]
      },
      {
       "output_type": "stream",
       "stream": "stdout",
       "text": [
        "\r",
        "50% [=================>                   ] 2,455,230,150 9.95M/s  eta 4m 41s  "
       ]
      },
      {
       "output_type": "stream",
       "stream": "stdout",
       "text": [
        "\r",
        "50% [=================>                   ] 2,457,405,192 9.99M/s  eta 4m 41s  "
       ]
      },
      {
       "output_type": "stream",
       "stream": "stdout",
       "text": [
        "\r",
        "50% [=================>                   ] 2,459,658,552 10.1M/s  eta 4m 41s  "
       ]
      },
      {
       "output_type": "stream",
       "stream": "stdout",
       "text": [
        "\r",
        "50% [=================>                   ] 2,461,891,302 10.2M/s  eta 4m 41s  "
       ]
      },
      {
       "output_type": "stream",
       "stream": "stdout",
       "text": [
        "\r",
        "50% [=================>                   ] 2,464,107,564 10.2M/s  eta 4m 40s  "
       ]
      },
      {
       "output_type": "stream",
       "stream": "stdout",
       "text": [
        "\r",
        "50% [=================>                   ] 2,466,398,022 10.3M/s  eta 4m 40s  "
       ]
      },
      {
       "output_type": "stream",
       "stream": "stdout",
       "text": [
        "\r",
        "50% [=================>                   ] 2,468,652,756 10.4M/s  eta 4m 40s  "
       ]
      },
      {
       "output_type": "stream",
       "stream": "stdout",
       "text": [
        "\r",
        "50% [=================>                   ] 2,470,874,514 10.4M/s  eta 4m 40s  "
       ]
      },
      {
       "output_type": "stream",
       "stream": "stdout",
       "text": [
        "\r",
        "50% [=================>                   ] 2,472,650,992 10.3M/s  eta 4m 40s  "
       ]
      },
      {
       "output_type": "stream",
       "stream": "stdout",
       "text": [
        "\r",
        "50% [=================>                   ] 2,473,736,556 10.0M/s  eta 4m 38s  "
       ]
      },
      {
       "output_type": "stream",
       "stream": "stdout",
       "text": [
        "\r",
        "50% [=================>                   ] 2,474,955,294 9.71M/s  eta 4m 38s  "
       ]
      },
      {
       "output_type": "stream",
       "stream": "stdout",
       "text": [
        "\r",
        "50% [=================>                   ] 2,476,282,578 9.44M/s  eta 4m 38s  "
       ]
      },
      {
       "output_type": "stream",
       "stream": "stdout",
       "text": [
        "\r",
        "50% [=================>                   ] 2,477,564,520 9.16M/s  eta 4m 38s  "
       ]
      },
      {
       "output_type": "stream",
       "stream": "stdout",
       "text": [
        "\r",
        "50% [=================>                   ] 2,477,716,930 8.37M/s  eta 4m 38s  "
       ]
      },
      {
       "output_type": "stream",
       "stream": "stdout",
       "text": [
        "\r",
        "50% [=================>                   ] 2,478,480,978 7.97M/s  eta 4m 38s  "
       ]
      },
      {
       "output_type": "stream",
       "stream": "stdout",
       "text": [
        "\r",
        "50% [=================>                   ] 2,479,734,066 7.76M/s  eta 4m 38s  "
       ]
      },
      {
       "output_type": "stream",
       "stream": "stdout",
       "text": [
        "\r",
        "50% [=================>                   ] 2,481,070,864 7.61M/s  eta 4m 38s  "
       ]
      },
      {
       "output_type": "stream",
       "stream": "stdout",
       "text": [
        "\r",
        "50% [=================>                   ] 2,482,306,194 7.23M/s  eta 4m 38s  "
       ]
      },
      {
       "output_type": "stream",
       "stream": "stdout",
       "text": [
        "\r",
        "50% [=================>                   ] 2,483,703,552 7.03M/s  eta 4m 38s  "
       ]
      },
      {
       "output_type": "stream",
       "stream": "stdout",
       "text": [
        "\r",
        "50% [=================>                   ] 2,485,253,424 6.89M/s  eta 4m 38s  "
       ]
      },
      {
       "output_type": "stream",
       "stream": "stdout",
       "text": [
        "\r",
        "50% [=================>                   ] 2,486,909,094 6.61M/s  eta 4m 38s  "
       ]
      },
      {
       "output_type": "stream",
       "stream": "stdout",
       "text": [
        "\r",
        "50% [=================>                   ] 2,488,563,390 6.48M/s  eta 4m 38s  "
       ]
      },
      {
       "output_type": "stream",
       "stream": "stdout",
       "text": [
        "\r",
        "50% [=================>                   ] 2,490,268,524 6.40M/s  eta 4m 38s  "
       ]
      },
      {
       "output_type": "stream",
       "stream": "stdout",
       "text": [
        "\r",
        "50% [=================>                   ] 2,491,979,050 6.09M/s  eta 4m 38s  "
       ]
      },
      {
       "output_type": "stream",
       "stream": "stdout",
       "text": [
        "\r",
        "50% [=================>                   ] 2,493,583,986 6.14M/s  eta 4m 37s  "
       ]
      },
      {
       "output_type": "stream",
       "stream": "stdout",
       "text": [
        "\r",
        "50% [=================>                   ] 2,495,371,560 6.28M/s  eta 4m 37s  "
       ]
      },
      {
       "output_type": "stream",
       "stream": "stdout",
       "text": [
        "\r",
        "50% [=================>                   ] 2,497,264,932 6.51M/s  eta 4m 37s  "
       ]
      },
      {
       "output_type": "stream",
       "stream": "stdout",
       "text": [
        "\r",
        "51% [=================>                   ] 2,499,181,662 6.68M/s  eta 4m 37s  "
       ]
      },
      {
       "output_type": "stream",
       "stream": "stdout",
       "text": [
        "\r",
        "51% [=================>                   ] 2,501,083,278 6.84M/s  eta 4m 37s  "
       ]
      },
      {
       "output_type": "stream",
       "stream": "stdout",
       "text": [
        "\r",
        "51% [=================>                   ] 2,502,929,934 7.70M/s  eta 4m 36s  "
       ]
      },
      {
       "output_type": "stream",
       "stream": "stdout",
       "text": [
        "\r",
        "51% [=================>                   ] 2,504,585,604 7.82M/s  eta 4m 36s  "
       ]
      },
      {
       "output_type": "stream",
       "stream": "stdout",
       "text": [
        "\r",
        "51% [=================>                   ] 2,506,584,774 8.00M/s  eta 4m 36s  "
       ]
      },
      {
       "output_type": "stream",
       "stream": "stdout",
       "text": [
        "\r",
        "51% [=================>                   ] 2,508,665,010 8.33M/s  eta 4m 36s  "
       ]
      },
      {
       "output_type": "stream",
       "stream": "stdout",
       "text": [
        "\r",
        "51% [=================>                   ] 2,510,785,092 8.53M/s  eta 4m 36s  "
       ]
      },
      {
       "output_type": "stream",
       "stream": "stdout",
       "text": [
        "\r",
        "51% [=================>                   ] 2,512,874,946 8.76M/s  eta 4m 35s  "
       ]
      },
      {
       "output_type": "stream",
       "stream": "stdout",
       "text": [
        "\r",
        "51% [=================>                   ] 2,514,968,922 8.88M/s  eta 4m 35s  "
       ]
      },
      {
       "output_type": "stream",
       "stream": "stdout",
       "text": [
        "\r",
        "51% [==================>                  ] 2,517,141,216 9.03M/s  eta 4m 35s  "
       ]
      },
      {
       "output_type": "stream",
       "stream": "stdout",
       "text": [
        "\r",
        "51% [==================>                  ] 2,519,329,998 9.18M/s  eta 4m 35s  "
       ]
      },
      {
       "output_type": "stream",
       "stream": "stdout",
       "text": [
        "\r",
        "51% [==================>                  ] 2,521,540,764 9.37M/s  eta 4m 35s  "
       ]
      },
      {
       "output_type": "stream",
       "stream": "stdout",
       "text": [
        "\r",
        "51% [==================>                  ] 2,523,714,432 9.50M/s  eta 4m 33s  "
       ]
      },
      {
       "output_type": "stream",
       "stream": "stdout",
       "text": [
        "\r",
        "51% [==================>                  ] 2,525,859,246 9.67M/s  eta 4m 33s  "
       ]
      },
      {
       "output_type": "stream",
       "stream": "stdout",
       "text": [
        "\r",
        "51% [==================>                  ] 2,527,994,442 9.74M/s  eta 4m 33s  "
       ]
      },
      {
       "output_type": "stream",
       "stream": "stdout",
       "text": [
        "\r",
        "51% [==================>                  ] 2,530,146,126 9.80M/s  eta 4m 33s  "
       ]
      },
      {
       "output_type": "stream",
       "stream": "stdout",
       "text": [
        "\r",
        "51% [==================>                  ] 2,532,315,672 9.91M/s  eta 4m 33s  "
       ]
      },
      {
       "output_type": "stream",
       "stream": "stdout",
       "text": [
        "\r",
        "51% [==================>                  ] 2,534,519,568 9.99M/s  eta 4m 32s  "
       ]
      },
      {
       "output_type": "stream",
       "stream": "stdout",
       "text": [
        "\r",
        "51% [==================>                  ] 2,536,752,318 10.1M/s  eta 4m 32s  "
       ]
      },
      {
       "output_type": "stream",
       "stream": "stdout",
       "text": [
        "\r",
        "51% [==================>                  ] 2,539,005,678 10.3M/s  eta 4m 32s  "
       ]
      },
      {
       "output_type": "stream",
       "stream": "stdout",
       "text": [
        "\r",
        "51% [==================>                  ] 2,541,257,664 10.3M/s  eta 4m 32s  "
       ]
      },
      {
       "output_type": "stream",
       "stream": "stdout",
       "text": [
        "\r",
        "51% [==================>                  ] 2,543,512,398 10.4M/s  eta 4m 32s  "
       ]
      },
      {
       "output_type": "stream",
       "stream": "stdout",
       "text": [
        "\r",
        "51% [==================>                  ] 2,545,752,018 10.4M/s  eta 4m 30s  "
       ]
      },
      {
       "output_type": "stream",
       "stream": "stdout",
       "text": [
        "\r",
        "52% [==================>                  ] 2,548,019,118 10.5M/s  eta 4m 30s  "
       ]
      },
      {
       "output_type": "stream",
       "stream": "stdout",
       "text": [
        "\r",
        "52% [==================>                  ] 2,550,272,478 10.5M/s  eta 4m 30s  "
       ]
      },
      {
       "output_type": "stream",
       "stream": "stdout",
       "text": [
        "\r",
        "52% [==================>                  ] 2,552,528,586 10.5M/s  eta 4m 30s  "
       ]
      },
      {
       "output_type": "stream",
       "stream": "stdout",
       "text": [
        "\r",
        "52% [==================>                  ] 2,554,788,816 10.6M/s  eta 4m 30s  "
       ]
      },
      {
       "output_type": "stream",
       "stream": "stdout",
       "text": [
        "\r",
        "52% [==================>                  ] 2,556,742,644 10.5M/s  eta 4m 29s  "
       ]
      },
      {
       "output_type": "stream",
       "stream": "stdout",
       "text": [
        "\r",
        "52% [==================>                  ] 2,558,384,574 10.3M/s  eta 4m 29s  "
       ]
      },
      {
       "output_type": "stream",
       "stream": "stdout",
       "text": [
        "\r",
        "52% [==================>                  ] 2,559,663,768 10.0M/s  eta 4m 29s  "
       ]
      },
      {
       "output_type": "stream",
       "stream": "stdout",
       "text": [
        "\r",
        "52% [==================>                  ] 2,561,011,662 9.80M/s  eta 4m 29s  "
       ]
      },
      {
       "output_type": "stream",
       "stream": "stdout",
       "text": [
        "\r",
        "52% [==================>                  ] 2,562,501,078 9.59M/s  eta 4m 29s  "
       ]
      },
      {
       "output_type": "stream",
       "stream": "stdout",
       "text": [
        "\r",
        "52% [==================>                  ] 2,564,145,756 9.42M/s  eta 4m 28s  "
       ]
      },
      {
       "output_type": "stream",
       "stream": "stdout",
       "text": [
        "\r",
        "52% [==================>                  ] 2,565,923,712 9.30M/s  eta 4m 28s  "
       ]
      },
      {
       "output_type": "stream",
       "stream": "stdout",
       "text": [
        "\r",
        "52% [==================>                  ] 2,567,711,286 9.18M/s  eta 4m 28s  "
       ]
      },
      {
       "output_type": "stream",
       "stream": "stdout",
       "text": [
        "\r",
        "52% [==================>                  ] 2,569,523,592 9.00M/s  eta 4m 28s  "
       ]
      },
      {
       "output_type": "stream",
       "stream": "stdout",
       "text": [
        "\r",
        "52% [==================>                  ] 2,571,412,842 8.91M/s  eta 4m 28s  "
       ]
      },
      {
       "output_type": "stream",
       "stream": "stdout",
       "text": [
        "\r",
        "52% [==================>                  ] 2,573,381,784 8.85M/s  eta 4m 27s  "
       ]
      },
      {
       "output_type": "stream",
       "stream": "stdout",
       "text": [
        "\r",
        "52% [==================>                  ] 2,575,339,734 8.69M/s  eta 4m 27s  "
       ]
      },
      {
       "output_type": "stream",
       "stream": "stdout",
       "text": [
        "\r",
        "52% [==================>                  ] 2,576,917,086 8.52M/s  eta 4m 27s  "
       ]
      },
      {
       "output_type": "stream",
       "stream": "stdout",
       "text": [
        "\r",
        "52% [==================>                  ] 2,578,936,866 8.48M/s  eta 4m 27s  "
       ]
      },
      {
       "output_type": "stream",
       "stream": "stdout",
       "text": [
        "\r",
        "52% [==================>                  ] 2,581,014,354 8.35M/s  eta 4m 27s  "
       ]
      },
      {
       "output_type": "stream",
       "stream": "stdout",
       "text": [
        "\r",
        "52% [==================>                  ] 2,583,039,630 8.32M/s  eta 4m 26s  "
       ]
      },
      {
       "output_type": "stream",
       "stream": "stdout",
       "text": [
        "\r",
        "52% [==================>                  ] 2,585,114,370 8.38M/s  eta 4m 26s  "
       ]
      },
      {
       "output_type": "stream",
       "stream": "stdout",
       "text": [
        "\r",
        "52% [==================>                  ] 2,587,172,622 8.69M/s  eta 4m 26s  "
       ]
      },
      {
       "output_type": "stream",
       "stream": "stdout",
       "text": [
        "\r",
        "52% [==================>                  ] 2,589,248,736 8.88M/s  eta 4m 26s  "
       ]
      },
      {
       "output_type": "stream",
       "stream": "stdout",
       "text": [
        "\r",
        "52% [==================>                  ] 2,591,390,802 9.07M/s  eta 4m 26s  "
       ]
      },
      {
       "output_type": "stream",
       "stream": "stdout",
       "text": [
        "\r",
        "52% [==================>                  ] 2,593,457,298 9.28M/s  eta 4m 24s  "
       ]
      },
      {
       "output_type": "stream",
       "stream": "stdout",
       "text": [
        "\r",
        "52% [==================>                  ] 2,595,586,998 9.38M/s  eta 4m 24s  "
       ]
      },
      {
       "output_type": "stream",
       "stream": "stdout",
       "text": [
        "\r",
        "53% [==================>                  ] 2,597,724,942 9.48M/s  eta 4m 24s  "
       ]
      },
      {
       "output_type": "stream",
       "stream": "stdout",
       "text": [
        "\r",
        "53% [==================>                  ] 2,599,878,000 9.61M/s  eta 4m 24s  "
       ]
      },
      {
       "output_type": "stream",
       "stream": "stdout",
       "text": [
        "\r",
        "53% [==================>                  ] 2,602,066,678 9.68M/s  eta 4m 24s  "
       ]
      },
      {
       "output_type": "stream",
       "stream": "stdout",
       "text": [
        "\r",
        "53% [==================>                  ] 2,604,339,378 9.77M/s  eta 4m 23s  "
       ]
      },
      {
       "output_type": "stream",
       "stream": "stdout",
       "text": [
        "\r",
        "53% [==================>                  ] 2,606,569,380 9.87M/s  eta 4m 23s  "
       ]
      },
      {
       "output_type": "stream",
       "stream": "stdout",
       "text": [
        "\r",
        "53% [==================>                  ] 2,608,752,666 9.99M/s  eta 4m 23s  "
       ]
      },
      {
       "output_type": "stream",
       "stream": "stdout",
       "text": [
        "\r",
        "53% [==================>                  ] 2,611,003,278 10.1M/s  eta 4m 23s  "
       ]
      },
      {
       "output_type": "stream",
       "stream": "stdout",
       "text": [
        "\r",
        "53% [==================>                  ] 2,613,223,662 10.2M/s  eta 4m 23s  "
       ]
      },
      {
       "output_type": "stream",
       "stream": "stdout",
       "text": [
        "\r",
        "53% [==================>                  ] 2,615,434,428 10.2M/s  eta 4m 21s  "
       ]
      },
      {
       "output_type": "stream",
       "stream": "stdout",
       "text": [
        "\r",
        "53% [==================>                  ] 2,617,720,764 10.3M/s  eta 4m 21s  "
       ]
      },
      {
       "output_type": "stream",
       "stream": "stdout",
       "text": [
        "\r",
        "53% [==================>                  ] 2,619,982,368 10.4M/s  eta 4m 21s  "
       ]
      },
      {
       "output_type": "stream",
       "stream": "stdout",
       "text": [
        "\r",
        "53% [==================>                  ] 2,622,239,850 10.4M/s  eta 4m 21s  "
       ]
      },
      {
       "output_type": "stream",
       "stream": "stdout",
       "text": [
        "\r",
        "53% [==================>                  ] 2,624,495,958 10.5M/s  eta 4m 21s  "
       ]
      },
      {
       "output_type": "stream",
       "stream": "stdout",
       "text": [
        "\r",
        "53% [==================>                  ] 2,626,743,822 10.5M/s  eta 4m 20s  "
       ]
      },
      {
       "output_type": "stream",
       "stream": "stdout",
       "text": [
        "\r",
        "53% [==================>                  ] 2,628,991,686 10.6M/s  eta 4m 20s  "
       ]
      },
      {
       "output_type": "stream",
       "stream": "stdout",
       "text": [
        "\r",
        "53% [==================>                  ] 2,631,267,030 10.6M/s  eta 4m 20s  "
       ]
      },
      {
       "output_type": "stream",
       "stream": "stdout",
       "text": [
        "\r",
        "53% [==================>                  ] 2,633,557,488 10.7M/s  eta 4m 20s  "
       ]
      },
      {
       "output_type": "stream",
       "stream": "stdout",
       "text": [
        "\r",
        "53% [==================>                  ] 2,635,816,344 10.7M/s  eta 4m 20s  "
       ]
      },
      {
       "output_type": "stream",
       "stream": "stdout",
       "text": [
        "\r",
        "53% [==================>                  ] 2,637,278,280 10.5M/s  eta 4m 18s  "
       ]
      },
      {
       "output_type": "stream",
       "stream": "stdout",
       "text": [
        "\r",
        "53% [==================>                  ] 2,638,729,224 10.2M/s  eta 4m 18s  "
       ]
      },
      {
       "output_type": "stream",
       "stream": "stdout",
       "text": [
        "\r",
        "53% [==================>                  ] 2,640,235,128 10.0M/s  eta 4m 18s  "
       ]
      },
      {
       "output_type": "stream",
       "stream": "stdout",
       "text": [
        "\r",
        "53% [==================>                  ] 2,641,868,814 9.83M/s  eta 4m 18s  "
       ]
      },
      {
       "output_type": "stream",
       "stream": "stdout",
       "text": [
        "\r",
        "53% [==================>                  ] 2,643,608,298 9.65M/s  eta 4m 18s  "
       ]
      },
      {
       "output_type": "stream",
       "stream": "stdout",
       "text": [
        "\r",
        "54% [==================>                  ] 2,645,409,612 9.53M/s  eta 4m 17s  "
       ]
      },
      {
       "output_type": "stream",
       "stream": "stdout",
       "text": [
        "\r",
        "54% [==================>                  ] 2,647,254,894 9.43M/s  eta 4m 17s  "
       ]
      },
      {
       "output_type": "stream",
       "stream": "stdout",
       "text": [
        "\r",
        "54% [===================>                 ] 2,649,131,778 9.27M/s  eta 4m 17s  "
       ]
      },
      {
       "output_type": "stream",
       "stream": "stdout",
       "text": [
        "\r",
        "54% [===================>                 ] 2,651,135,070 9.22M/s  eta 4m 17s  "
       ]
      },
      {
       "output_type": "stream",
       "stream": "stdout",
       "text": [
        "\r",
        "54% [===================>                 ] 2,653,124,622 9.15M/s  eta 4m 17s  "
       ]
      },
      {
       "output_type": "stream",
       "stream": "stdout",
       "text": [
        "\r",
        "54% [===================>                 ] 2,655,118,296 9.02M/s  eta 4m 16s  "
       ]
      },
      {
       "output_type": "stream",
       "stream": "stdout",
       "text": [
        "\r",
        "54% [===================>                 ] 2,657,219,142 9.00M/s  eta 4m 16s  "
       ]
      },
      {
       "output_type": "stream",
       "stream": "stdout",
       "text": [
        "\r",
        "54% [===================>                 ] 2,659,265,028 8.96M/s  eta 4m 16s  "
       ]
      },
      {
       "output_type": "stream",
       "stream": "stdout",
       "text": [
        "\r",
        "54% [===================>                 ] 2,661,372,744 8.85M/s  eta 4m 16s  "
       ]
      },
      {
       "output_type": "stream",
       "stream": "stdout",
       "text": [
        "\r",
        "54% [===================>                 ] 2,663,485,956 8.85M/s  eta 4m 16s  "
       ]
      },
      {
       "output_type": "stream",
       "stream": "stdout",
       "text": [
        "\r",
        "54% [===================>                 ] 2,665,659,624 8.97M/s  eta 4m 15s  "
       ]
      },
      {
       "output_type": "stream",
       "stream": "stdout",
       "text": [
        "\r",
        "54% [===================>                 ] 2,667,804,438 9.20M/s  eta 4m 15s  "
       ]
      },
      {
       "output_type": "stream",
       "stream": "stdout",
       "text": [
        "\r",
        "54% [===================>                 ] 2,669,987,724 9.38M/s  eta 4m 15s  "
       ]
      },
      {
       "output_type": "stream",
       "stream": "stdout",
       "text": [
        "\r",
        "54% [===================>                 ] 2,672,147,652 9.53M/s  eta 4m 15s  "
       ]
      },
      {
       "output_type": "stream",
       "stream": "stdout",
       "text": [
        "\r",
        "54% [===================>                 ] 2,674,368,036 9.74M/s  eta 4m 15s  "
       ]
      },
      {
       "output_type": "stream",
       "stream": "stdout",
       "text": [
        "\r",
        "54% [===================>                 ] 2,676,558,192 9.87M/s  eta 4m 13s  "
       ]
      },
      {
       "output_type": "stream",
       "stream": "stdout",
       "text": [
        "\r",
        "54% [===================>                 ] 2,678,756,592 9.94M/s  eta 4m 13s  "
       ]
      },
      {
       "output_type": "stream",
       "stream": "stdout",
       "text": [
        "\r",
        "54% [===================>                 ] 2,680,993,464 10.1M/s  eta 4m 13s  "
       ]
      },
      {
       "output_type": "stream",
       "stream": "stdout",
       "text": [
        "\r",
        "54% [===================>                 ] 2,683,143,774 10.1M/s  eta 4m 13s  "
       ]
      },
      {
       "output_type": "stream",
       "stream": "stdout",
       "text": [
        "\r",
        "54% [===================>                 ] 2,685,329,808 10.2M/s  eta 4m 13s  "
       ]
      },
      {
       "output_type": "stream",
       "stream": "stdout",
       "text": [
        "\r",
        "54% [===================>                 ] 2,687,529,582 10.3M/s  eta 4m 12s  "
       ]
      },
      {
       "output_type": "stream",
       "stream": "stdout",
       "text": [
        "\r",
        "54% [===================>                 ] 2,689,762,332 10.3M/s  eta 4m 12s  "
       ]
      },
      {
       "output_type": "stream",
       "stream": "stdout",
       "text": [
        "\r",
        "54% [===================>                 ] 2,691,940,122 10.3M/s  eta 4m 12s  "
       ]
      },
      {
       "output_type": "stream",
       "stream": "stdout",
       "text": [
        "\r",
        "55% [===================>                 ] 2,694,201,726 10.4M/s  eta 4m 12s  "
       ]
      },
      {
       "output_type": "stream",
       "stream": "stdout",
       "text": [
        "\r",
        "55% [===================>                 ] 2,696,459,208 10.5M/s  eta 4m 12s  "
       ]
      },
      {
       "output_type": "stream",
       "stream": "stdout",
       "text": [
        "\r",
        "55% [===================>                 ] 2,698,720,812 10.5M/s  eta 4m 10s  "
       ]
      },
      {
       "output_type": "stream",
       "stream": "stdout",
       "text": [
        "\r",
        "55% [===================>                 ] 2,700,956,310 10.5M/s  eta 4m 10s  "
       ]
      },
      {
       "output_type": "stream",
       "stream": "stdout",
       "text": [
        "\r",
        "55% [===================>                 ] 2,703,200,052 10.5M/s  eta 4m 10s  "
       ]
      },
      {
       "output_type": "stream",
       "stream": "stdout",
       "text": [
        "\r",
        "55% [===================>                 ] 2,705,461,656 10.6M/s  eta 4m 10s  "
       ]
      },
      {
       "output_type": "stream",
       "stream": "stdout",
       "text": [
        "\r",
        "55% [===================>                 ] 2,707,547,662 10.5M/s  eta 4m 10s  "
       ]
      },
      {
       "output_type": "stream",
       "stream": "stdout",
       "text": [
        "\r",
        "55% [===================>                 ] 2,709,862,578 10.6M/s  eta 4m 9s   "
       ]
      },
      {
       "output_type": "stream",
       "stream": "stdout",
       "text": [
        "\r",
        "55% [===================>                 ] 2,712,076,092 10.6M/s  eta 4m 9s   "
       ]
      },
      {
       "output_type": "stream",
       "stream": "stdout",
       "text": [
        "\r",
        "55% [===================>                 ] 2,714,284,110 10.6M/s  eta 4m 9s   "
       ]
      },
      {
       "output_type": "stream",
       "stream": "stdout",
       "text": [
        "\r",
        "55% [===================>                 ] 2,716,471,518 10.6M/s  eta 4m 9s   "
       ]
      },
      {
       "output_type": "stream",
       "stream": "stdout",
       "text": [
        "\r",
        "55% [===================>                 ] 2,718,683,658 10.6M/s  eta 4m 9s   "
       ]
      },
      {
       "output_type": "stream",
       "stream": "stdout",
       "text": [
        "\r",
        "55% [===================>                 ] 2,720,490,364 10.5M/s  eta 4m 8s   "
       ]
      },
      {
       "output_type": "stream",
       "stream": "stdout",
       "text": [
        "\r",
        "55% [===================>                 ] 2,721,981,258 10.2M/s  eta 4m 8s   "
       ]
      },
      {
       "output_type": "stream",
       "stream": "stdout",
       "text": [
        "\r",
        "55% [===================>                 ] 2,723,282,436 9.96M/s  eta 4m 8s   "
       ]
      },
      {
       "output_type": "stream",
       "stream": "stdout",
       "text": [
        "\r",
        "55% [===================>                 ] 2,724,653,688 9.68M/s  eta 4m 8s   "
       ]
      },
      {
       "output_type": "stream",
       "stream": "stdout",
       "text": [
        "\r",
        "55% [===================>                 ] 2,726,151,348 9.46M/s  eta 4m 8s   "
       ]
      },
      {
       "output_type": "stream",
       "stream": "stdout",
       "text": [
        "\r",
        "55% [===================>                 ] 2,727,868,848 9.32M/s  eta 4m 7s   "
       ]
      },
      {
       "output_type": "stream",
       "stream": "stdout",
       "text": [
        "\r",
        "55% [===================>                 ] 2,729,657,796 9.13M/s  eta 4m 7s   "
       ]
      },
      {
       "output_type": "stream",
       "stream": "stdout",
       "text": [
        "\r",
        "55% [===================>                 ] 2,731,475,598 9.03M/s  eta 4m 7s   "
       ]
      },
      {
       "output_type": "stream",
       "stream": "stdout",
       "text": [
        "\r",
        "55% [===================>                 ] 2,733,276,912 8.91M/s  eta 4m 7s   "
       ]
      },
      {
       "output_type": "stream",
       "stream": "stdout",
       "text": [
        "\r",
        "55% [===================>                 ] 2,735,146,926 8.89M/s  eta 4m 7s   "
       ]
      },
      {
       "output_type": "stream",
       "stream": "stdout",
       "text": [
        "\r",
        "55% [===================>                 ] 2,737,114,494 8.69M/s  eta 4m 6s   "
       ]
      },
      {
       "output_type": "stream",
       "stream": "stdout",
       "text": [
        "\r",
        "55% [===================>                 ] 2,739,098,550 8.65M/s  eta 4m 6s   "
       ]
      },
      {
       "output_type": "stream",
       "stream": "stdout",
       "text": [
        "\r",
        "55% [===================>                 ] 2,741,086,728 8.52M/s  eta 4m 6s   "
       ]
      },
      {
       "output_type": "stream",
       "stream": "stdout",
       "text": [
        "\r",
        "55% [===================>                 ] 2,743,043,304 8.62M/s  eta 4m 6s   "
       ]
      },
      {
       "output_type": "stream",
       "stream": "stdout",
       "text": [
        "\r",
        "56% [===================>                 ] 2,744,679,738 8.34M/s  eta 4m 6s   "
       ]
      },
      {
       "output_type": "stream",
       "stream": "stdout",
       "text": [
        "\r",
        "56% [===================>                 ] 2,746,765,470 8.36M/s  eta 4m 5s   "
       ]
      },
      {
       "output_type": "stream",
       "stream": "stdout",
       "text": [
        "\r",
        "56% [===================>                 ] 2,748,838,836 8.49M/s  eta 4m 5s   "
       ]
      },
      {
       "output_type": "stream",
       "stream": "stdout",
       "text": [
        "\r",
        "56% [===================>                 ] 2,750,936,934 8.69M/s  eta 4m 5s   "
       ]
      },
      {
       "output_type": "stream",
       "stream": "stdout",
       "text": [
        "\r",
        "56% [===================>                 ] 2,753,074,878 9.01M/s  eta 4m 5s   "
       ]
      },
      {
       "output_type": "stream",
       "stream": "stdout",
       "text": [
        "\r",
        "56% [===================>                 ] 2,755,225,188 9.19M/s  eta 4m 5s   "
       ]
      },
      {
       "output_type": "stream",
       "stream": "stdout",
       "text": [
        "\r",
        "56% [===================>                 ] 2,757,370,002 9.33M/s  eta 4m 3s   "
       ]
      },
      {
       "output_type": "stream",
       "stream": "stdout",
       "text": [
        "\r",
        "56% [===================>                 ] 2,759,564,280 9.49M/s  eta 4m 3s   "
       ]
      },
      {
       "output_type": "stream",
       "stream": "stdout",
       "text": [
        "\r",
        "56% [===================>                 ] 2,761,674,744 9.58M/s  eta 4m 3s   "
       ]
      },
      {
       "output_type": "stream",
       "stream": "stdout",
       "text": [
        "\r",
        "56% [===================>                 ] 2,763,856,656 9.66M/s  eta 4m 3s   "
       ]
      },
      {
       "output_type": "stream",
       "stream": "stdout",
       "text": [
        "\r",
        "56% [===================>                 ] 2,765,961,624 9.78M/s  eta 4m 3s   "
       ]
      },
      {
       "output_type": "stream",
       "stream": "stdout",
       "text": [
        "\r",
        "56% [===================>                 ] 2,768,129,796 9.84M/s  eta 4m 2s   "
       ]
      },
      {
       "output_type": "stream",
       "stream": "stdout",
       "text": [
        "\r",
        "56% [===================>                 ] 2,770,303,464 9.88M/s  eta 4m 2s   "
       ]
      },
      {
       "output_type": "stream",
       "stream": "stdout",
       "text": [
        "\r",
        "56% [===================>                 ] 2,772,529,344 9.97M/s  eta 4m 2s   "
       ]
      },
      {
       "output_type": "stream",
       "stream": "stdout",
       "text": [
        "\r",
        "56% [===================>                 ] 2,774,718,126 10.0M/s  eta 4m 2s   "
       ]
      },
      {
       "output_type": "stream",
       "stream": "stdout",
       "text": [
        "\r",
        "56% [===================>                 ] 2,776,950,876 10.2M/s  eta 4m 2s   "
       ]
      },
      {
       "output_type": "stream",
       "stream": "stdout",
       "text": [
        "\r",
        "56% [===================>                 ] 2,779,149,276 10.3M/s  eta 4m 0s   "
       ]
      },
      {
       "output_type": "stream",
       "stream": "stdout",
       "text": [
        "\r",
        "56% [====================>                ] 2,781,401,262 10.3M/s  eta 4m 0s   "
       ]
      },
      {
       "output_type": "stream",
       "stream": "stdout",
       "text": [
        "\r",
        "56% [====================>                ] 2,783,629,890 10.4M/s  eta 4m 0s   "
       ]
      },
      {
       "output_type": "stream",
       "stream": "stdout",
       "text": [
        "\r",
        "56% [====================>                ] 2,785,880,502 10.4M/s  eta 4m 0s   "
       ]
      },
      {
       "output_type": "stream",
       "stream": "stdout",
       "text": [
        "\r",
        "56% [====================>                ] 2,788,125,618 10.4M/s  eta 4m 0s   "
       ]
      },
      {
       "output_type": "stream",
       "stream": "stdout",
       "text": [
        "\r",
        "56% [====================>                ] 2,790,378,978 10.5M/s  eta 3m 59s  "
       ]
      },
      {
       "output_type": "stream",
       "stream": "stdout",
       "text": [
        "\r",
        "57% [====================>                ] 2,792,633,712 10.5M/s  eta 3m 59s  "
       ]
      },
      {
       "output_type": "stream",
       "stream": "stdout",
       "text": [
        "\r",
        "57% [====================>                ] 2,794,862,340 10.5M/s  eta 3m 59s  "
       ]
      },
      {
       "output_type": "stream",
       "stream": "stdout",
       "text": [
        "\r",
        "57% [====================>                ] 2,797,119,822 10.5M/s  eta 3m 59s  "
       ]
      },
      {
       "output_type": "stream",
       "stream": "stdout",
       "text": [
        "\r",
        "57% [====================>                ] 2,799,059,910 10.5M/s  eta 3m 59s  "
       ]
      },
      {
       "output_type": "stream",
       "stream": "stdout",
       "text": [
        "\r",
        "57% [====================>                ] 2,800,722,450 10.3M/s  eta 3m 58s  "
       ]
      },
      {
       "output_type": "stream",
       "stream": "stdout",
       "text": [
        "\r",
        "57% [====================>                ] 2,802,056,604 10.0M/s  eta 3m 58s  "
       ]
      },
      {
       "output_type": "stream",
       "stream": "stdout",
       "text": [
        "\r",
        "57% [====================>                ] 2,803,469,076 9.79M/s  eta 3m 58s  "
       ]
      },
      {
       "output_type": "stream",
       "stream": "stdout",
       "text": [
        "\r",
        "57% [====================>                ] 2,805,017,574 9.61M/s  eta 3m 58s  "
       ]
      },
      {
       "output_type": "stream",
       "stream": "stdout",
       "text": [
        "\r",
        "57% [====================>                ] 2,806,743,318 9.47M/s  eta 3m 58s  "
       ]
      },
      {
       "output_type": "stream",
       "stream": "stdout",
       "text": [
        "\r",
        "57% [====================>                ] 2,808,473,184 9.29M/s  eta 3m 57s  "
       ]
      },
      {
       "output_type": "stream",
       "stream": "stdout",
       "text": [
        "\r",
        "57% [====================>                ] 2,810,286,864 9.18M/s  eta 3m 57s  "
       ]
      },
      {
       "output_type": "stream",
       "stream": "stdout",
       "text": [
        "\r",
        "57% [====================>                ] 2,812,071,690 9.05M/s  eta 3m 57s  "
       ]
      },
      {
       "output_type": "stream",
       "stream": "stdout",
       "text": [
        "\r",
        "57% [====================>                ] 2,813,848,272 8.85M/s  eta 3m 57s  "
       ]
      },
      {
       "output_type": "stream",
       "stream": "stdout",
       "text": [
        "\r",
        "57% [====================>                ] 2,815,773,246 8.80M/s  eta 3m 57s  "
       ]
      },
      {
       "output_type": "stream",
       "stream": "stdout",
       "text": [
        "\r",
        "57% [====================>                ] 2,817,764,172 8.74M/s  eta 3m 56s  "
       ]
      },
      {
       "output_type": "stream",
       "stream": "stdout",
       "text": [
        "\r",
        "57% [====================>                ] 2,819,701,512 8.67M/s  eta 3m 56s  "
       ]
      },
      {
       "output_type": "stream",
       "stream": "stdout",
       "text": [
        "\r",
        "57% [====================>                ] 2,821,678,698 8.54M/s  eta 3m 56s  "
       ]
      },
      {
       "output_type": "stream",
       "stream": "stdout",
       "text": [
        "\r",
        "57% [====================>                ] 2,823,746,568 8.51M/s  eta 3m 56s  "
       ]
      },
      {
       "output_type": "stream",
       "stream": "stdout",
       "text": [
        "\r",
        "57% [====================>                ] 2,825,804,820 8.48M/s  eta 3m 56s  "
       ]
      },
      {
       "output_type": "stream",
       "stream": "stdout",
       "text": [
        "\r",
        "57% [====================>                ] 2,827,938,642 8.61M/s  eta 3m 54s  "
       ]
      },
      {
       "output_type": "stream",
       "stream": "stdout",
       "text": [
        "\r",
        "57% [====================>                ] 2,830,020,252 8.79M/s  eta 3m 54s  "
       ]
      },
      {
       "output_type": "stream",
       "stream": "stdout",
       "text": [
        "\r",
        "57% [====================>                ] 2,832,114,228 8.98M/s  eta 3m 54s  "
       ]
      },
      {
       "output_type": "stream",
       "stream": "stdout",
       "text": [
        "\r",
        "57% [====================>                ] 2,834,208,204 9.24M/s  eta 3m 54s  "
       ]
      },
      {
       "output_type": "stream",
       "stream": "stdout",
       "text": [
        "\r",
        "57% [====================>                ] 2,836,306,302 9.35M/s  eta 3m 54s  "
       ]
      },
      {
       "output_type": "stream",
       "stream": "stdout",
       "text": [
        "\r",
        "57% [====================>                ] 2,838,470,352 9.46M/s  eta 3m 53s  "
       ]
      },
      {
       "output_type": "stream",
       "stream": "stdout",
       "text": [
        "\r",
        "57% [====================>                ] 2,840,657,760 9.62M/s  eta 3m 53s  "
       ]
      },
      {
       "output_type": "stream",
       "stream": "stdout",
       "text": [
        "\r",
        "58% [====================>                ] 2,842,809,444 9.72M/s  eta 3m 53s  "
       ]
      },
      {
       "output_type": "stream",
       "stream": "stdout",
       "text": [
        "\r",
        "58% [====================>                ] 2,845,002,348 9.82M/s  eta 3m 53s  "
       ]
      },
      {
       "output_type": "stream",
       "stream": "stdout",
       "text": [
        "\r",
        "58% [====================>                ] 2,847,228,228 9.98M/s  eta 3m 53s  "
       ]
      },
      {
       "output_type": "stream",
       "stream": "stdout",
       "text": [
        "\r",
        "58% [====================>                ] 2,849,440,368 10.0M/s  eta 3m 52s  "
       ]
      },
      {
       "output_type": "stream",
       "stream": "stdout",
       "text": [
        "\r",
        "58% [====================>                ] 2,851,656,630 10.1M/s  eta 3m 52s  "
       ]
      },
      {
       "output_type": "stream",
       "stream": "stdout",
       "text": [
        "\r",
        "58% [====================>                ] 2,853,892,128 10.2M/s  eta 3m 52s  "
       ]
      },
      {
       "output_type": "stream",
       "stream": "stdout",
       "text": [
        "\r",
        "58% [====================>                ] 2,856,146,862 10.3M/s  eta 3m 52s  "
       ]
      },
      {
       "output_type": "stream",
       "stream": "stdout",
       "text": [
        "\r",
        "58% [====================>                ] 2,858,380,986 10.3M/s  eta 3m 52s  "
       ]
      },
      {
       "output_type": "stream",
       "stream": "stdout",
       "text": [
        "\r",
        "58% [====================>                ] 2,860,638,468 10.4M/s  eta 3m 50s  "
       ]
      },
      {
       "output_type": "stream",
       "stream": "stdout",
       "text": [
        "\r",
        "58% [====================>                ] 2,862,883,584 10.4M/s  eta 3m 50s  "
       ]
      },
      {
       "output_type": "stream",
       "stream": "stdout",
       "text": [
        "\r",
        "58% [====================>                ] 2,865,135,570 10.5M/s  eta 3m 50s  "
       ]
      },
      {
       "output_type": "stream",
       "stream": "stdout",
       "text": [
        "\r",
        "58% [====================>                ] 2,867,393,052 10.5M/s  eta 3m 50s  "
       ]
      },
      {
       "output_type": "stream",
       "stream": "stdout",
       "text": [
        "\r",
        "58% [====================>                ] 2,869,635,420 10.6M/s  eta 3m 50s  "
       ]
      },
      {
       "output_type": "stream",
       "stream": "stdout",
       "text": [
        "\r",
        "58% [====================>                ] 2,871,914,886 10.6M/s  eta 3m 49s  "
       ]
      },
      {
       "output_type": "stream",
       "stream": "stdout",
       "text": [
        "\r",
        "58% [====================>                ] 2,874,166,872 10.6M/s  eta 3m 49s  "
       ]
      },
      {
       "output_type": "stream",
       "stream": "stdout",
       "text": [
        "\r",
        "58% [====================>                ] 2,876,427,102 10.6M/s  eta 3m 49s  "
       ]
      },
      {
       "output_type": "stream",
       "stream": "stdout",
       "text": [
        "\r",
        "58% [====================>                ] 2,878,015,446 10.5M/s  eta 3m 49s  "
       ]
      },
      {
       "output_type": "stream",
       "stream": "stdout",
       "text": [
        "\r",
        "58% [====================>                ] 2,878,930,530 10.1M/s  eta 3m 49s  "
       ]
      },
      {
       "output_type": "stream",
       "stream": "stdout",
       "text": [
        "\r",
        "58% [====================>                ] 2,880,130,032 9.76M/s  eta 3m 48s  "
       ]
      },
      {
       "output_type": "stream",
       "stream": "stdout",
       "text": [
        "\r",
        "58% [====================>                ] 2,881,457,316 9.51M/s  eta 3m 48s  "
       ]
      },
      {
       "output_type": "stream",
       "stream": "stdout",
       "text": [
        "\r",
        "58% [====================>                ] 2,882,809,332 9.19M/s  eta 3m 48s  "
       ]
      },
      {
       "output_type": "stream",
       "stream": "stdout",
       "text": [
        "\r",
        "58% [====================>                ] 2,884,235,544 8.97M/s  eta 3m 48s  "
       ]
      },
      {
       "output_type": "stream",
       "stream": "stdout",
       "text": [
        "\r",
        "58% [====================>                ] 2,885,865,108 8.81M/s  eta 3m 48s  "
       ]
      },
      {
       "output_type": "stream",
       "stream": "stdout",
       "text": [
        "\r",
        "58% [====================>                ] 2,887,575,738 8.58M/s  eta 3m 47s  "
       ]
      },
      {
       "output_type": "stream",
       "stream": "stdout",
       "text": [
        "\r",
        "58% [====================>                ] 2,889,267,132 8.45M/s  eta 3m 47s  "
       ]
      },
      {
       "output_type": "stream",
       "stream": "stdout",
       "text": [
        "\r",
        "59% [====================>                ] 2,891,069,820 8.35M/s  eta 3m 47s  "
       ]
      },
      {
       "output_type": "stream",
       "stream": "stdout",
       "text": [
        "\r",
        "59% [====================>                ] 2,892,928,842 8.14M/s  eta 3m 47s  "
       ]
      },
      {
       "output_type": "stream",
       "stream": "stdout",
       "text": [
        "\r",
        "59% [====================>                ] 2,894,851,068 8.08M/s  eta 3m 47s  "
       ]
      },
      {
       "output_type": "stream",
       "stream": "stdout",
       "text": [
        "\r",
        "59% [====================>                ] 2,896,807,644 8.03M/s  eta 3m 46s  "
       ]
      },
      {
       "output_type": "stream",
       "stream": "stdout",
       "text": [
        "\r",
        "59% [====================>                ] 2,898,817,806 7.87M/s  eta 3m 46s  "
       ]
      },
      {
       "output_type": "stream",
       "stream": "stdout",
       "text": [
        "\r",
        "59% [====================>                ] 2,900,796,366 7.83M/s  eta 3m 46s  "
       ]
      },
      {
       "output_type": "stream",
       "stream": "stdout",
       "text": [
        "\r",
        "59% [====================>                ] 2,902,834,008 7.81M/s  eta 3m 46s  "
       ]
      },
      {
       "output_type": "stream",
       "stream": "stdout",
       "text": [
        "\r",
        "59% [====================>                ] 2,904,877,146 8.18M/s  eta 3m 46s  "
       ]
      },
      {
       "output_type": "stream",
       "stream": "stdout",
       "text": [
        "\r",
        "59% [====================>                ] 2,906,932,650 8.44M/s  eta 3m 45s  "
       ]
      },
      {
       "output_type": "stream",
       "stream": "stdout",
       "text": [
        "\r",
        "59% [====================>                ] 2,909,082,960 8.66M/s  eta 3m 45s  "
       ]
      },
      {
       "output_type": "stream",
       "stream": "stdout",
       "text": [
        "\r",
        "59% [====================>                ] 2,911,198,920 8.97M/s  eta 3m 45s  "
       ]
      },
      {
       "output_type": "stream",
       "stream": "stdout",
       "text": [
        "\r",
        "59% [=====================>               ] 2,913,320,376 9.16M/s  eta 3m 45s  "
       ]
      },
      {
       "output_type": "stream",
       "stream": "stdout",
       "text": [
        "\r",
        "59% [=====================>               ] 2,915,500,914 9.34M/s  eta 3m 45s  "
       ]
      },
      {
       "output_type": "stream",
       "stream": "stdout",
       "text": [
        "\r",
        "59% [=====================>               ] 2,917,686,948 9.54M/s  eta 3m 44s  "
       ]
      },
      {
       "output_type": "stream",
       "stream": "stdout",
       "text": [
        "\r",
        "59% [=====================>               ] 2,919,874,356 9.66M/s  eta 3m 44s  "
       ]
      },
      {
       "output_type": "stream",
       "stream": "stdout",
       "text": [
        "\r",
        "59% [=====================>               ] 2,922,101,610 9.79M/s  eta 3m 44s  "
       ]
      },
      {
       "output_type": "stream",
       "stream": "stdout",
       "text": [
        "\r",
        "59% [=====================>               ] 2,924,301,384 9.94M/s  eta 3m 44s  "
       ]
      },
      {
       "output_type": "stream",
       "stream": "stdout",
       "text": [
        "\r",
        "59% [=====================>               ] 2,926,535,508 10.0M/s  eta 3m 44s  "
       ]
      },
      {
       "output_type": "stream",
       "stream": "stdout",
       "text": [
        "\r",
        "59% [=====================>               ] 2,928,781,998 10.1M/s  eta 3m 42s  "
       ]
      },
      {
       "output_type": "stream",
       "stream": "stdout",
       "text": [
        "\r",
        "59% [=====================>               ] 2,930,929,560 10.2M/s  eta 3m 42s  "
       ]
      },
      {
       "output_type": "stream",
       "stream": "stdout",
       "text": [
        "\r",
        "59% [=====================>               ] 2,933,133,456 10.2M/s  eta 3m 42s  "
       ]
      },
      {
       "output_type": "stream",
       "stream": "stdout",
       "text": [
        "\r",
        "59% [=====================>               ] 2,935,344,222 10.3M/s  eta 3m 42s  "
       ]
      },
      {
       "output_type": "stream",
       "stream": "stdout",
       "text": [
        "\r",
        "59% [=====================>               ] 2,937,589,338 10.4M/s  eta 3m 42s  "
       ]
      },
      {
       "output_type": "stream",
       "stream": "stdout",
       "text": [
        "\r",
        "60% [=====================>               ] 2,939,822,088 10.4M/s  eta 3m 41s  "
       ]
      },
      {
       "output_type": "stream",
       "stream": "stdout",
       "text": [
        "\r",
        "60% [=====================>               ] 2,942,072,700 10.5M/s  eta 3m 41s  "
       ]
      },
      {
       "output_type": "stream",
       "stream": "stdout",
       "text": [
        "\r",
        "60% [=====================>               ] 2,944,327,434 10.5M/s  eta 3m 41s  "
       ]
      },
      {
       "output_type": "stream",
       "stream": "stdout",
       "text": [
        "\r",
        "60% [=====================>               ] 2,946,575,298 10.5M/s  eta 3m 41s  "
       ]
      },
      {
       "output_type": "stream",
       "stream": "stdout",
       "text": [
        "\r",
        "60% [=====================>               ] 2,948,814,918 10.6M/s  eta 3m 41s  "
       ]
      },
      {
       "output_type": "stream",
       "stream": "stdout",
       "text": [
        "\r",
        "60% [=====================>               ] 2,951,069,652 10.6M/s  eta 3m 39s  "
       ]
      },
      {
       "output_type": "stream",
       "stream": "stdout",
       "text": [
        "\r",
        "60% [=====================>               ] 2,953,331,256 10.6M/s  eta 3m 39s  "
       ]
      },
      {
       "output_type": "stream",
       "stream": "stdout",
       "text": [
        "\r",
        "60% [=====================>               ] 2,955,583,242 10.6M/s  eta 3m 39s  "
       ]
      },
      {
       "output_type": "stream",
       "stream": "stdout",
       "text": [
        "\r",
        "60% [=====================>               ] 2,957,833,854 10.6M/s  eta 3m 39s  "
       ]
      },
      {
       "output_type": "stream",
       "stream": "stdout",
       "text": [
        "\r",
        "60% [=====================>               ] 2,960,062,482 10.6M/s  eta 3m 39s  "
       ]
      },
      {
       "output_type": "stream",
       "stream": "stdout",
       "text": [
        "\r",
        "60% [=====================>               ] 2,962,348,818 10.7M/s  eta 3m 38s  "
       ]
      },
      {
       "output_type": "stream",
       "stream": "stdout",
       "text": [
        "\r",
        "60% [=====================>               ] 2,964,615,918 10.7M/s  eta 3m 38s  "
       ]
      },
      {
       "output_type": "stream",
       "stream": "stdout",
       "text": [
        "\r",
        "60% [=====================>               ] 2,966,891,262 10.7M/s  eta 3m 38s  "
       ]
      },
      {
       "output_type": "stream",
       "stream": "stdout",
       "text": [
        "\r",
        "60% [=====================>               ] 2,969,100,550 10.6M/s  eta 3m 38s  "
       ]
      },
      {
       "output_type": "stream",
       "stream": "stdout",
       "text": [
        "\r",
        "60% [=====================>               ] 2,971,641,180 10.7M/s  eta 3m 38s  "
       ]
      },
      {
       "output_type": "stream",
       "stream": "stdout",
       "text": [
        "\r",
        "60% [=====================>               ] 2,973,879,426 10.7M/s  eta 3m 36s  "
       ]
      },
      {
       "output_type": "stream",
       "stream": "stdout",
       "text": [
        "\r",
        "60% [=====================>               ] 2,976,158,892 10.7M/s  eta 3m 36s  "
       ]
      },
      {
       "output_type": "stream",
       "stream": "stdout",
       "text": [
        "\r",
        "60% [=====================>               ] 2,978,420,496 10.7M/s  eta 3m 36s  "
       ]
      },
      {
       "output_type": "stream",
       "stream": "stdout",
       "text": [
        "\r",
        "60% [=====================>               ] 2,980,074,792 10.5M/s  eta 3m 36s  "
       ]
      },
      {
       "output_type": "stream",
       "stream": "stdout",
       "text": [
        "\r",
        "60% [=====================>               ] 2,981,224,830 10.2M/s  eta 3m 36s  "
       ]
      },
      {
       "output_type": "stream",
       "stream": "stdout",
       "text": [
        "\r",
        "60% [=====================>               ] 2,982,762,336 9.98M/s  eta 3m 35s  "
       ]
      },
      {
       "output_type": "stream",
       "stream": "stdout",
       "text": [
        "\r",
        "60% [=====================>               ] 2,984,229,768 9.75M/s  eta 3m 35s  "
       ]
      },
      {
       "output_type": "stream",
       "stream": "stdout",
       "text": [
        "\r",
        "60% [=====================>               ] 2,985,823,608 9.57M/s  eta 3m 35s  "
       ]
      },
      {
       "output_type": "stream",
       "stream": "stdout",
       "text": [
        "\r",
        "60% [=====================>               ] 2,987,574,084 9.37M/s  eta 3m 35s  "
       ]
      },
      {
       "output_type": "stream",
       "stream": "stdout",
       "text": [
        "\r",
        "61% [=====================>               ] 2,989,368,528 9.25M/s  eta 3m 35s  "
       ]
      },
      {
       "output_type": "stream",
       "stream": "stdout",
       "text": [
        "\r",
        "61% [=====================>               ] 2,991,298,998 9.18M/s  eta 3m 34s  "
       ]
      },
      {
       "output_type": "stream",
       "stream": "stdout",
       "text": [
        "\r",
        "61% [=====================>               ] 2,993,258,322 9.04M/s  eta 3m 34s  "
       ]
      },
      {
       "output_type": "stream",
       "stream": "stdout",
       "text": [
        "\r",
        "61% [=====================>               ] 2,995,253,370 8.99M/s  eta 3m 34s  "
       ]
      },
      {
       "output_type": "stream",
       "stream": "stdout",
       "text": [
        "\r",
        "61% [=====================>               ] 2,997,231,930 8.93M/s  eta 3m 34s  "
       ]
      },
      {
       "output_type": "stream",
       "stream": "stdout",
       "text": [
        "\r",
        "61% [=====================>               ] 2,999,287,434 8.81M/s  eta 3m 34s  "
       ]
      },
      {
       "output_type": "stream",
       "stream": "stdout",
       "text": [
        "\r",
        "61% [=====================>               ] 3,001,211,034 8.74M/s  eta 3m 33s  "
       ]
      },
      {
       "output_type": "stream",
       "stream": "stdout",
       "text": [
        "\r",
        "61% [=====================>               ] 3,001,612,138 8.20M/s  eta 3m 33s  "
       ]
      },
      {
       "output_type": "stream",
       "stream": "stdout",
       "text": [
        "\r",
        "61% [=====================>               ] 3,004,063,458 8.31M/s  eta 3m 33s  "
       ]
      },
      {
       "output_type": "stream",
       "stream": "stdout",
       "text": [
        "\r",
        "61% [=====================>               ] 3,006,058,506 8.26M/s  eta 3m 33s  "
       ]
      },
      {
       "output_type": "stream",
       "stream": "stdout",
       "text": [
        "\r",
        "61% [=====================>               ] 3,008,123,628 8.24M/s  eta 3m 33s  "
       ]
      },
      {
       "output_type": "stream",
       "stream": "stdout",
       "text": [
        "\r",
        "61% [=====================>               ] 3,009,724,338 8.48M/s  eta 3m 32s  "
       ]
      },
      {
       "output_type": "stream",
       "stream": "stdout",
       "text": [
        "\r",
        "61% [=====================>               ] 3,011,830,680 8.64M/s  eta 3m 32s  "
       ]
      },
      {
       "output_type": "stream",
       "stream": "stdout",
       "text": [
        "\r",
        "61% [=====================>               ] 3,013,954,884 8.79M/s  eta 3m 32s  "
       ]
      },
      {
       "output_type": "stream",
       "stream": "stdout",
       "text": [
        "\r",
        "61% [=====================>               ] 3,016,044,738 8.99M/s  eta 3m 32s  "
       ]
      },
      {
       "output_type": "stream",
       "stream": "stdout",
       "text": [
        "\r",
        "61% [=====================>               ] 3,018,167,568 9.10M/s  eta 3m 32s  "
       ]
      },
      {
       "output_type": "stream",
       "stream": "stdout",
       "text": [
        "\r",
        "61% [=====================>               ] 3,020,246,430 9.18M/s  eta 3m 31s  "
       ]
      },
      {
       "output_type": "stream",
       "stream": "stdout",
       "text": [
        "\r",
        "61% [=====================>               ] 3,022,087,486 9.12M/s  eta 3m 31s  "
       ]
      },
      {
       "output_type": "stream",
       "stream": "stdout",
       "text": [
        "\r",
        "61% [=====================>               ] 3,024,184,210 9.14M/s  eta 3m 31s  "
       ]
      },
      {
       "output_type": "stream",
       "stream": "stdout",
       "text": [
        "\r",
        "61% [=====================>               ] 3,026,282,308 9.03M/s  eta 3m 31s  "
       ]
      },
      {
       "output_type": "stream",
       "stream": "stdout",
       "text": [
        "\r",
        "61% [=====================>               ] 3,028,377,658 8.92M/s  eta 3m 31s  "
       ]
      },
      {
       "output_type": "stream",
       "stream": "stdout",
       "text": [
        "\r",
        "61% [=====================>               ] 3,030,475,756 8.90M/s  eta 3m 30s  "
       ]
      },
      {
       "output_type": "stream",
       "stream": "stdout",
       "text": [
        "\r",
        "61% [=====================>               ] 3,032,572,480 9.30M/s  eta 3m 30s  "
       ]
      },
      {
       "output_type": "stream",
       "stream": "stdout",
       "text": [
        "\r",
        "61% [=====================>               ] 3,035,231,274 9.37M/s  eta 3m 30s  "
       ]
      },
      {
       "output_type": "stream",
       "stream": "stdout",
       "text": [
        "\r",
        "62% [=====================>               ] 3,037,348,608 9.41M/s  eta 3m 30s  "
       ]
      },
      {
       "output_type": "stream",
       "stream": "stdout",
       "text": [
        "\r",
        "62% [=====================>               ] 3,039,470,064 9.43M/s  eta 3m 30s  "
       ]
      },
      {
       "output_type": "stream",
       "stream": "stdout",
       "text": [
        "\r",
        "62% [=====================>               ] 3,040,960,750 9.28M/s  eta 3m 29s  "
       ]
      },
      {
       "output_type": "stream",
       "stream": "stdout",
       "text": [
        "\r",
        "62% [=====================>               ] 3,043,058,848 9.26M/s  eta 3m 29s  "
       ]
      },
      {
       "output_type": "stream",
       "stream": "stdout",
       "text": [
        "\r",
        "62% [======================>              ] 3,045,155,572 9.12M/s  eta 3m 29s  "
       ]
      },
      {
       "output_type": "stream",
       "stream": "stdout",
       "text": [
        "\r",
        "62% [======================>              ] 3,047,252,296 9.07M/s  eta 3m 29s  "
       ]
      },
      {
       "output_type": "stream",
       "stream": "stdout",
       "text": [
        "\r",
        "62% [======================>              ] 3,049,970,172 9.37M/s  eta 3m 29s  "
       ]
      },
      {
       "output_type": "stream",
       "stream": "stdout",
       "text": [
        "\r",
        "62% [======================>              ] 3,051,447,118 9.06M/s  eta 3m 27s  "
       ]
      },
      {
       "output_type": "stream",
       "stream": "stdout",
       "text": [
        "\r",
        "62% [======================>              ] 3,053,543,842 8.93M/s  eta 3m 27s  "
       ]
      },
      {
       "output_type": "stream",
       "stream": "stdout",
       "text": [
        "\r",
        "62% [======================>              ] 3,055,641,940 8.76M/s  eta 3m 27s  "
       ]
      },
      {
       "output_type": "stream",
       "stream": "stdout",
       "text": [
        "\r",
        "62% [======================>              ] 3,057,738,664 8.88M/s  eta 3m 27s  "
       ]
      },
      {
       "output_type": "stream",
       "stream": "stdout",
       "text": [
        "\r",
        "62% [======================>              ] 3,059,835,388 8.83M/s  eta 3m 27s  "
       ]
      },
      {
       "output_type": "stream",
       "stream": "stdout",
       "text": [
        "\r",
        "62% [======================>              ] 3,061,932,112 8.92M/s  eta 3m 26s  "
       ]
      },
      {
       "output_type": "stream",
       "stream": "stdout",
       "text": [
        "\r",
        "62% [======================>              ] 3,064,030,210 8.96M/s  eta 3m 26s  "
       ]
      },
      {
       "output_type": "stream",
       "stream": "stdout",
       "text": [
        "\r",
        "62% [======================>              ] 3,066,627,968 9.31M/s  eta 3m 26s  "
       ]
      },
      {
       "output_type": "stream",
       "stream": "stdout",
       "text": [
        "\r",
        "62% [======================>              ] 3,068,809,086 9.31M/s  eta 3m 26s  "
       ]
      },
      {
       "output_type": "stream",
       "stream": "stdout",
       "text": [
        "\r",
        "62% [======================>              ] 3,070,321,756 9.12M/s  eta 3m 26s  "
       ]
      },
      {
       "output_type": "stream",
       "stream": "stdout",
       "text": [
        "\r",
        "62% [======================>              ] 3,072,418,480 8.86M/s  eta 3m 25s  "
       ]
      },
      {
       "output_type": "stream",
       "stream": "stdout",
       "text": [
        "\r",
        "62% [======================>              ] 3,074,528,736 8.68M/s  eta 3m 25s  "
       ]
      },
      {
       "output_type": "stream",
       "stream": "stdout",
       "text": [
        "\r",
        "62% [======================>              ] 3,076,613,302 8.83M/s  eta 3m 25s  "
       ]
      },
      {
       "output_type": "stream",
       "stream": "stdout",
       "text": [
        "\r",
        "62% [======================>              ] 3,078,710,026 8.74M/s  eta 3m 25s  "
       ]
      },
      {
       "output_type": "stream",
       "stream": "stdout",
       "text": [
        "\r",
        "62% [======================>              ] 3,081,382,560 9.05M/s  eta 3m 25s  "
       ]
      },
      {
       "output_type": "stream",
       "stream": "stdout",
       "text": [
        "\r",
        "62% [======================>              ] 3,083,590,578 9.05M/s  eta 3m 24s  "
       ]
      },
      {
       "output_type": "stream",
       "stream": "stdout",
       "text": [
        "\r",
        "62% [======================>              ] 3,085,001,572 8.77M/s  eta 3m 24s  "
       ]
      },
      {
       "output_type": "stream",
       "stream": "stdout",
       "text": [
        "\r",
        "63% [======================>              ] 3,087,098,296 8.59M/s  eta 3m 24s  "
       ]
      },
      {
       "output_type": "stream",
       "stream": "stdout",
       "text": [
        "\r",
        "63% [======================>              ] 3,089,196,394 8.68M/s  eta 3m 24s  "
       ]
      },
      {
       "output_type": "stream",
       "stream": "stdout",
       "text": [
        "\r",
        "63% [======================>              ] 3,091,375,038 8.92M/s  eta 3m 24s  "
       ]
      },
      {
       "output_type": "stream",
       "stream": "stdout",
       "text": [
        "\r",
        "63% [======================>              ] 3,093,391,216 8.88M/s  eta 3m 23s  "
       ]
      },
      {
       "output_type": "stream",
       "stream": "stdout",
       "text": [
        "\r",
        "63% [======================>              ] 3,095,486,566 8.67M/s  eta 3m 23s  "
       ]
      },
      {
       "output_type": "stream",
       "stream": "stdout",
       "text": [
        "\r",
        "63% [======================>              ] 3,097,584,664 8.64M/s  eta 3m 23s  "
       ]
      },
      {
       "output_type": "stream",
       "stream": "stdout",
       "text": [
        "\r",
        "63% [======================>              ] 3,099,681,388 8.50M/s  eta 3m 23s  "
       ]
      },
      {
       "output_type": "stream",
       "stream": "stdout",
       "text": [
        "\r",
        "63% [======================>              ] 3,101,778,112 8.43M/s  eta 3m 23s  "
       ]
      },
      {
       "output_type": "stream",
       "stream": "stdout",
       "text": [
        "\r",
        "63% [======================>              ] 3,104,491,866 8.72M/s  eta 3m 21s  "
       ]
      },
      {
       "output_type": "stream",
       "stream": "stdout",
       "text": [
        "\r",
        "63% [======================>              ] 3,106,646,298 9.04M/s  eta 3m 21s  "
       ]
      },
      {
       "output_type": "stream",
       "stream": "stdout",
       "text": [
        "\r",
        "63% [======================>              ] 3,108,846,072 9.04M/s  eta 3m 21s  "
       ]
      },
      {
       "output_type": "stream",
       "stream": "stdout",
       "text": [
        "\r",
        "63% [======================>              ] 3,110,169,130 8.98M/s  eta 3m 21s  "
       ]
      },
      {
       "output_type": "stream",
       "stream": "stdout",
       "text": [
        "\r",
        "63% [======================>              ] 3,112,274,098 8.81M/s  eta 3m 21s  "
       ]
      },
      {
       "output_type": "stream",
       "stream": "stdout",
       "text": [
        "\r",
        "63% [======================>              ] 3,114,361,204 8.73M/s  eta 3m 20s  "
       ]
      },
      {
       "output_type": "stream",
       "stream": "stdout",
       "text": [
        "\r",
        "63% [======================>              ] 3,116,606,758 8.88M/s  eta 3m 20s  "
       ]
      },
      {
       "output_type": "stream",
       "stream": "stdout",
       "text": [
        "\r",
        "63% [======================>              ] 3,119,094,738 9.10M/s  eta 3m 20s  "
       ]
      },
      {
       "output_type": "stream",
       "stream": "stdout",
       "text": [
        "\r",
        "63% [======================>              ] 3,121,184,592 9.18M/s  eta 3m 20s  "
       ]
      },
      {
       "output_type": "stream",
       "stream": "stdout",
       "text": [
        "\r",
        "63% [======================>              ] 3,123,413,220 9.44M/s  eta 3m 20s  "
       ]
      },
      {
       "output_type": "stream",
       "stream": "stdout",
       "text": [
        "\r",
        "63% [======================>              ] 3,124,978,644 9.29M/s  eta 3m 19s  "
       ]
      },
      {
       "output_type": "stream",
       "stream": "stdout",
       "text": [
        "\r",
        "63% [======================>              ] 3,126,944,296 9.22M/s  eta 3m 19s  "
       ]
      },
      {
       "output_type": "stream",
       "stream": "stdout",
       "text": [
        "\r",
        "63% [======================>              ] 3,129,042,394 9.20M/s  eta 3m 19s  "
       ]
      },
      {
       "output_type": "stream",
       "stream": "stdout",
       "text": [
        "\r",
        "63% [======================>              ] 3,131,141,866 9.21M/s  eta 3m 19s  "
       ]
      },
      {
       "output_type": "stream",
       "stream": "stdout",
       "text": [
        "\r",
        "63% [======================>              ] 3,133,235,842 9.32M/s  eta 3m 19s  "
       ]
      },
      {
       "output_type": "stream",
       "stream": "stdout",
       "text": [
        "\r",
        "64% [======================>              ] 3,135,332,566 9.43M/s  eta 3m 18s  "
       ]
      },
      {
       "output_type": "stream",
       "stream": "stdout",
       "text": [
        "\r",
        "64% [======================>              ] 3,137,856,648 9.51M/s  eta 3m 18s  "
       ]
      },
      {
       "output_type": "stream",
       "stream": "stdout",
       "text": [
        "\r",
        "64% [======================>              ] 3,140,038,620 9.36M/s  eta 3m 18s  "
       ]
      },
      {
       "output_type": "stream",
       "stream": "stdout",
       "text": [
        "\r",
        "64% [======================>              ] 3,142,216,410 9.60M/s  eta 3m 18s  "
       ]
      },
      {
       "output_type": "stream",
       "stream": "stdout",
       "text": [
        "\r",
        "64% [======================>              ] 3,143,722,210 9.39M/s  eta 3m 18s  "
       ]
      },
      {
       "output_type": "stream",
       "stream": "stdout",
       "text": [
        "\r",
        "64% [======================>              ] 3,145,818,934 9.43M/s  eta 3m 16s  "
       ]
      },
      {
       "output_type": "stream",
       "stream": "stdout",
       "text": [
        "\r",
        "64% [======================>              ] 3,147,918,406 9.51M/s  eta 3m 16s  "
       ]
      },
      {
       "output_type": "stream",
       "stream": "stdout",
       "text": [
        "\r",
        "64% [======================>              ] 3,150,013,756 9.64M/s  eta 3m 16s  "
       ]
      },
      {
       "output_type": "stream",
       "stream": "stdout",
       "text": [
        "\r",
        "64% [======================>              ] 3,152,110,480 9.60M/s  eta 3m 16s  "
       ]
      },
      {
       "output_type": "stream",
       "stream": "stdout",
       "text": [
        "\r",
        "64% [======================>              ] 3,153,018,798 9.24M/s  eta 3m 16s  "
       ]
      },
      {
       "output_type": "stream",
       "stream": "stdout",
       "text": [
        "\r",
        "64% [======================>              ] 3,154,207,204 8.87M/s  eta 3m 16s  "
       ]
      },
      {
       "output_type": "stream",
       "stream": "stdout",
       "text": [
        "\r",
        "64% [======================>              ] 3,155,970,150 8.66M/s  eta 3m 16s  "
       ]
      },
      {
       "output_type": "stream",
       "stream": "stdout",
       "text": [
        "\r",
        "64% [======================>              ] 3,157,318,044 8.42M/s  eta 3m 16s  "
       ]
      },
      {
       "output_type": "stream",
       "stream": "stdout",
       "text": [
        "\r",
        "64% [======================>              ] 3,158,402,026 8.32M/s  eta 3m 16s  "
       ]
      },
      {
       "output_type": "stream",
       "stream": "stdout",
       "text": [
        "\r",
        "64% [======================>              ] 3,160,435,650 8.36M/s  eta 3m 16s  "
       ]
      },
      {
       "output_type": "stream",
       "stream": "stdout",
       "text": [
        "\r",
        "64% [======================>              ] 3,162,188,874 8.16M/s  eta 3m 15s  "
       ]
      },
      {
       "output_type": "stream",
       "stream": "stdout",
       "text": [
        "\r",
        "64% [======================>              ] 3,163,647,958 8.07M/s  eta 3m 15s  "
       ]
      },
      {
       "output_type": "stream",
       "stream": "stdout",
       "text": [
        "\r",
        "64% [======================>              ] 3,165,741,934 7.95M/s  eta 3m 15s  "
       ]
      },
      {
       "output_type": "stream",
       "stream": "stdout",
       "text": [
        "\r",
        "64% [======================>              ] 3,167,838,658 7.84M/s  eta 3m 15s  "
       ]
      },
      {
       "output_type": "stream",
       "stream": "stdout",
       "text": [
        "\r",
        "64% [======================>              ] 3,169,936,756 7.75M/s  eta 3m 15s  "
       ]
      },
      {
       "output_type": "stream",
       "stream": "stdout",
       "text": [
        "\r",
        "64% [======================>              ] 3,172,033,480 7.66M/s  eta 3m 14s  "
       ]
      },
      {
       "output_type": "stream",
       "stream": "stdout",
       "text": [
        "\r",
        "64% [======================>              ] 3,174,130,204 7.63M/s  eta 3m 14s  "
       ]
      },
      {
       "output_type": "stream",
       "stream": "stdout",
       "text": [
        "\r",
        "64% [======================>              ] 3,176,228,302 7.55M/s  eta 3m 14s  "
       ]
      },
      {
       "output_type": "stream",
       "stream": "stdout",
       "text": [
        "\r",
        "64% [=======================>             ] 3,178,325,026 7.64M/s  eta 3m 14s  "
       ]
      },
      {
       "output_type": "stream",
       "stream": "stdout",
       "text": [
        "\r",
        "64% [=======================>             ] 3,180,421,750 7.97M/s  eta 3m 14s  "
       ]
      },
      {
       "output_type": "stream",
       "stream": "stdout",
       "text": [
        "\r",
        "64% [=======================>             ] 3,182,519,848 8.13M/s  eta 3m 12s  "
       ]
      },
      {
       "output_type": "stream",
       "stream": "stdout",
       "text": [
        "\r",
        "65% [=======================>             ] 3,184,622,068 8.28M/s  eta 3m 12s  "
       ]
      },
      {
       "output_type": "stream",
       "stream": "stdout",
       "text": [
        "\r",
        "65% [=======================>             ] 3,186,713,296 8.47M/s  eta 3m 12s  "
       ]
      },
      {
       "output_type": "stream",
       "stream": "stdout",
       "text": [
        "\r",
        "65% [=======================>             ] 3,188,810,020 8.60M/s  eta 3m 12s  "
       ]
      },
      {
       "output_type": "stream",
       "stream": "stdout",
       "text": [
        "\r",
        "65% [=======================>             ] 3,190,908,118 8.66M/s  eta 3m 12s  "
       ]
      },
      {
       "output_type": "stream",
       "stream": "stdout",
       "text": [
        "\r",
        "65% [=======================>             ] 3,193,006,216 8.73M/s  eta 3m 11s  "
       ]
      },
      {
       "output_type": "stream",
       "stream": "stdout",
       "text": [
        "\r",
        "65% [=======================>             ] 3,195,101,566 8.75M/s  eta 3m 11s  "
       ]
      },
      {
       "output_type": "stream",
       "stream": "stdout",
       "text": [
        "\r",
        "65% [=======================>             ] 3,197,199,664 8.93M/s  eta 3m 11s  "
       ]
      },
      {
       "output_type": "stream",
       "stream": "stdout",
       "text": [
        "\r",
        "65% [=======================>             ] 3,199,297,762 8.99M/s  eta 3m 11s  "
       ]
      },
      {
       "output_type": "stream",
       "stream": "stdout",
       "text": [
        "\r",
        "65% [=======================>             ] 3,201,404,104 8.88M/s  eta 3m 11s  "
       ]
      },
      {
       "output_type": "stream",
       "stream": "stdout",
       "text": [
        "\r",
        "65% [=======================>             ] 3,204,016,182 9.22M/s  eta 3m 10s  "
       ]
      },
      {
       "output_type": "stream",
       "stream": "stdout",
       "text": [
        "\r",
        "65% [=======================>             ] 3,205,597,574 9.01M/s  eta 3m 10s  "
       ]
      },
      {
       "output_type": "stream",
       "stream": "stdout",
       "text": [
        "\r",
        "65% [=======================>             ] 3,208,326,420 9.21M/s  eta 3m 10s  "
       ]
      },
      {
       "output_type": "stream",
       "stream": "stdout",
       "text": [
        "\r",
        "65% [=======================>             ] 3,210,561,918 9.44M/s  eta 3m 10s  "
       ]
      },
      {
       "output_type": "stream",
       "stream": "stdout",
       "text": [
        "\r",
        "65% [=======================>             ] 3,211,890,472 9.08M/s  eta 3m 10s  "
       ]
      },
      {
       "output_type": "stream",
       "stream": "stdout",
       "text": [
        "\r",
        "65% [=======================>             ] 3,213,976,204 9.12M/s  eta 3m 9s   "
       ]
      },
      {
       "output_type": "stream",
       "stream": "stdout",
       "text": [
        "\r",
        "65% [=======================>             ] 3,216,644,616 9.45M/s  eta 3m 9s   "
       ]
      },
      {
       "output_type": "stream",
       "stream": "stdout",
       "text": [
        "\r",
        "65% [=======================>             ] 3,218,895,228 9.39M/s  eta 3m 9s   "
       ]
      },
      {
       "output_type": "stream",
       "stream": "stdout",
       "text": [
        "\r",
        "65% [=======================>             ] 3,220,267,750 9.42M/s  eta 3m 9s   "
       ]
      },
      {
       "output_type": "stream",
       "stream": "stdout",
       "text": [
        "\r",
        "65% [=======================>             ] 3,222,969,138 9.49M/s  eta 3m 9s   "
       ]
      },
      {
       "output_type": "stream",
       "stream": "stdout",
       "text": [
        "\r",
        "65% [=======================>             ] 3,224,463,946 9.45M/s  eta 3m 7s   "
       ]
      },
      {
       "output_type": "stream",
       "stream": "stdout",
       "text": [
        "\r",
        "65% [=======================>             ] 3,226,559,296 9.34M/s  eta 3m 7s   "
       ]
      },
      {
       "output_type": "stream",
       "stream": "stdout",
       "text": [
        "\r",
        "65% [=======================>             ] 3,228,656,020 9.52M/s  eta 3m 7s   "
       ]
      },
      {
       "output_type": "stream",
       "stream": "stdout",
       "text": [
        "\r",
        "65% [=======================>             ] 3,231,321,684 9.56M/s  eta 3m 7s   "
       ]
      },
      {
       "output_type": "stream",
       "stream": "stdout",
       "text": [
        "\r",
        "66% [=======================>             ] 3,233,542,068 9.79M/s  eta 3m 7s   "
       ]
      },
      {
       "output_type": "stream",
       "stream": "stdout",
       "text": [
        "\r",
        "66% [=======================>             ] 3,234,947,566 9.48M/s  eta 3m 6s   "
       ]
      },
      {
       "output_type": "stream",
       "stream": "stdout",
       "text": [
        "\r",
        "66% [=======================>             ] 3,237,577,506 9.63M/s  eta 3m 6s   "
       ]
      },
      {
       "output_type": "stream",
       "stream": "stdout",
       "text": [
        "\r",
        "66% [=======================>             ] 3,239,142,388 9.60M/s  eta 3m 6s   "
       ]
      },
      {
       "output_type": "stream",
       "stream": "stdout",
       "text": [
        "\r",
        "66% [=======================>             ] 3,241,852,020 9.77M/s  eta 3m 6s   "
       ]
      },
      {
       "output_type": "stream",
       "stream": "stdout",
       "text": [
        "\r",
        "66% [=======================>             ] 3,244,061,412 9.98M/s  eta 3m 6s   "
       ]
      },
      {
       "output_type": "stream",
       "stream": "stdout",
       "text": [
        "\r",
        "66% [=======================>             ] 3,246,004,248 9.86M/s  eta 3m 5s   "
       ]
      },
      {
       "output_type": "stream",
       "stream": "stdout",
       "text": [
        "\r",
        "66% [=======================>             ] 3,247,530,658 9.74M/s  eta 3m 5s   "
       ]
      },
      {
       "output_type": "stream",
       "stream": "stdout",
       "text": [
        "\r",
        "66% [=======================>             ] 3,249,630,130 9.65M/s  eta 3m 5s   "
       ]
      },
      {
       "output_type": "stream",
       "stream": "stdout",
       "text": [
        "\r",
        "66% [=======================>             ] 3,252,291,672 9.95M/s  eta 3m 5s   "
       ]
      },
      {
       "output_type": "stream",
       "stream": "stdout",
       "text": [
        "\r",
        "66% [=======================>             ] 3,253,823,578 9.72M/s  eta 3m 5s   "
       ]
      },
      {
       "output_type": "stream",
       "stream": "stdout",
       "text": [
        "\r",
        "66% [=======================>             ] 3,255,918,928 9.55M/s  eta 3m 4s   "
       ]
      },
      {
       "output_type": "stream",
       "stream": "stdout",
       "text": [
        "\r",
        "66% [=======================>             ] 3,258,018,400 9.63M/s  eta 3m 4s   "
       ]
      },
      {
       "output_type": "stream",
       "stream": "stdout",
       "text": [
        "\r",
        "66% [=======================>             ] 3,260,113,750 9.62M/s  eta 3m 4s   "
       ]
      },
      {
       "output_type": "stream",
       "stream": "stdout",
       "text": [
        "\r",
        "66% [=======================>             ] 3,262,210,474 9.63M/s  eta 3m 4s   "
       ]
      },
      {
       "output_type": "stream",
       "stream": "stdout",
       "text": [
        "\r",
        "66% [=======================>             ] 3,264,308,572 9.53M/s  eta 3m 4s   "
       ]
      },
      {
       "output_type": "stream",
       "stream": "stdout",
       "text": [
        "\r",
        "66% [=======================>             ] 3,266,439,438 9.50M/s  eta 3m 3s   "
       ]
      },
      {
       "output_type": "stream",
       "stream": "stdout",
       "text": [
        "\r",
        "66% [=======================>             ] 3,268,502,020 9.30M/s  eta 3m 3s   "
       ]
      },
      {
       "output_type": "stream",
       "stream": "stdout",
       "text": [
        "\r",
        "66% [=======================>             ] 3,271,224,018 9.61M/s  eta 3m 3s   "
       ]
      },
      {
       "output_type": "stream",
       "stream": "stdout",
       "text": [
        "\r",
        "66% [=======================>             ] 3,272,698,216 9.25M/s  eta 3m 3s   "
       ]
      },
      {
       "output_type": "stream",
       "stream": "stdout",
       "text": [
        "\r",
        "66% [=======================>             ] 3,274,797,584 9.31M/s  eta 3m 3s   "
       ]
      },
      {
       "output_type": "stream",
       "stream": "stdout",
       "text": [
        "\r",
        "66% [=======================>             ] 3,276,656,814 9.14M/s  eta 3m 1s   "
       ]
      },
      {
       "output_type": "stream",
       "stream": "stdout",
       "text": [
        "\r",
        "66% [=======================>             ] 3,277,940,026 8.75M/s  eta 3m 1s   "
       ]
      },
      {
       "output_type": "stream",
       "stream": "stdout",
       "text": [
        "\r",
        "66% [=======================>             ] 3,279,988,764 8.78M/s  eta 3m 1s   "
       ]
      },
      {
       "output_type": "stream",
       "stream": "stdout",
       "text": [
        "\r",
        "66% [=======================>             ] 3,281,593,596 8.78M/s  eta 3m 1s   "
       ]
      },
      {
       "output_type": "stream",
       "stream": "stdout",
       "text": [
        "\r",
        "67% [=======================>             ] 3,283,181,836 8.66M/s  eta 3m 1s   "
       ]
      },
      {
       "output_type": "stream",
       "stream": "stdout",
       "text": [
        "\r",
        "67% [=======================>             ] 3,285,279,934 8.53M/s  eta 3m 0s   "
       ]
      },
      {
       "output_type": "stream",
       "stream": "stdout",
       "text": [
        "\r",
        "67% [=======================>             ] 3,287,382,154 8.46M/s  eta 3m 0s   "
       ]
      },
      {
       "output_type": "stream",
       "stream": "stdout",
       "text": [
        "\r",
        "67% [=======================>             ] 3,289,473,382 8.37M/s  eta 3m 0s   "
       ]
      },
      {
       "output_type": "stream",
       "stream": "stdout",
       "text": [
        "\r",
        "67% [=======================>             ] 3,291,575,602 8.43M/s  eta 3m 0s   "
       ]
      },
      {
       "output_type": "stream",
       "stream": "stdout",
       "text": [
        "\r",
        "67% [=======================>             ] 3,293,668,204 8.41M/s  eta 3m 0s   "
       ]
      },
      {
       "output_type": "stream",
       "stream": "stdout",
       "text": [
        "\r",
        "67% [=======================>             ] 3,295,396,696 8.01M/s  eta 2m 59s  "
       ]
      },
      {
       "output_type": "stream",
       "stream": "stdout",
       "text": [
        "\r",
        "67% [=======================>             ] 3,297,805,318 8.34M/s  eta 2m 59s  "
       ]
      },
      {
       "output_type": "stream",
       "stream": "stdout",
       "text": [
        "\r",
        "67% [=======================>             ] 3,299,797,722 8.12M/s  eta 2m 59s  "
       ]
      },
      {
       "output_type": "stream",
       "stream": "stdout",
       "text": [
        "\r",
        "67% [=======================>             ] 3,301,822,998 8.31M/s  eta 2m 59s  "
       ]
      },
      {
       "output_type": "stream",
       "stream": "stdout",
       "text": [
        "\r",
        "67% [=======================>             ] 3,303,599,476 8.26M/s  eta 2m 59s  "
       ]
      },
      {
       "output_type": "stream",
       "stream": "stdout",
       "text": [
        "\r",
        "67% [=======================>             ] 3,305,704,340 8.43M/s  eta 2m 58s  "
       ]
      },
      {
       "output_type": "stream",
       "stream": "stdout",
       "text": [
        "\r",
        "67% [=======================>             ] 3,307,799,794 8.45M/s  eta 2m 58s  "
       ]
      },
      {
       "output_type": "stream",
       "stream": "stdout",
       "text": [
        "\r",
        "67% [========================>            ] 3,309,888,274 8.62M/s  eta 2m 58s  "
       ]
      },
      {
       "output_type": "stream",
       "stream": "stdout",
       "text": [
        "\r",
        "67% [========================>            ] 3,311,984,998 8.74M/s  eta 2m 58s  "
       ]
      },
      {
       "output_type": "stream",
       "stream": "stdout",
       "text": [
        "\r",
        "67% [========================>            ] 3,314,084,470 8.55M/s  eta 2m 58s  "
       ]
      },
      {
       "output_type": "stream",
       "stream": "stdout",
       "text": [
        "\r",
        "67% [========================>            ] 3,316,192,082 8.62M/s  eta 2m 57s  "
       ]
      },
      {
       "output_type": "stream",
       "stream": "stdout",
       "text": [
        "\r",
        "67% [========================>            ] 3,318,282,040 8.56M/s  eta 2m 57s  "
       ]
      },
      {
       "output_type": "stream",
       "stream": "stdout",
       "text": [
        "\r",
        "67% [========================>            ] 3,320,858,394 8.81M/s  eta 2m 57s  "
       ]
      },
      {
       "output_type": "stream",
       "stream": "stdout",
       "text": [
        "\r",
        "67% [========================>            ] 3,323,016,948 9.04M/s  eta 2m 57s  "
       ]
      },
      {
       "output_type": "stream",
       "stream": "stdout",
       "text": [
        "\r",
        "67% [========================>            ] 3,324,568,090 8.77M/s  eta 2m 57s  "
       ]
      },
      {
       "output_type": "stream",
       "stream": "stdout",
       "text": [
        "\r",
        "67% [========================>            ] 3,326,664,814 9.07M/s  eta 2m 56s  "
       ]
      },
      {
       "output_type": "stream",
       "stream": "stdout",
       "text": [
        "\r",
        "67% [========================>            ] 3,329,381,316 9.27M/s  eta 2m 56s  "
       ]
      },
      {
       "output_type": "stream",
       "stream": "stdout",
       "text": [
        "\r",
        "67% [========================>            ] 3,330,871,794 9.06M/s  eta 2m 56s  "
       ]
      },
      {
       "output_type": "stream",
       "stream": "stdout",
       "text": [
        "\r",
        "68% [========================>            ] 3,332,956,360 9.04M/s  eta 2m 56s  "
       ]
      },
      {
       "output_type": "stream",
       "stream": "stdout",
       "text": [
        "\r",
        "68% [========================>            ] 3,335,054,458 8.98M/s  eta 2m 56s  "
       ]
      },
      {
       "output_type": "stream",
       "stream": "stdout",
       "text": [
        "\r",
        "68% [========================>            ] 3,337,151,182 9.03M/s  eta 2m 55s  "
       ]
      },
      {
       "output_type": "stream",
       "stream": "stdout",
       "text": [
        "\r",
        "68% [========================>            ] 3,339,561,950 9.20M/s  eta 2m 55s  "
       ]
      },
      {
       "output_type": "stream",
       "stream": "stdout",
       "text": [
        "\r",
        "68% [========================>            ] 3,341,346,004 8.97M/s  eta 2m 55s  "
       ]
      },
      {
       "output_type": "stream",
       "stream": "stdout",
       "text": [
        "\r",
        "68% [========================>            ] 3,343,469,792 9.13M/s  eta 2m 55s  "
       ]
      },
      {
       "output_type": "stream",
       "stream": "stdout",
       "text": [
        "\r",
        "68% [========================>            ] 3,345,551,610 9.18M/s  eta 2m 55s  "
       ]
      },
      {
       "output_type": "stream",
       "stream": "stdout",
       "text": [
        "\r",
        "68% [========================>            ] 3,347,637,550 9.18M/s  eta 2m 53s  "
       ]
      },
      {
       "output_type": "stream",
       "stream": "stdout",
       "text": [
        "\r",
        "68% [========================>            ] 3,349,744,746 9.26M/s  eta 2m 53s  "
       ]
      },
      {
       "output_type": "stream",
       "stream": "stdout",
       "text": [
        "\r",
        "68% [========================>            ] 3,351,297,990 9.00M/s  eta 2m 53s  "
       ]
      },
      {
       "output_type": "stream",
       "stream": "stdout",
       "text": [
        "\r",
        "68% [========================>            ] 3,352,654,128 8.88M/s  eta 2m 53s  "
       ]
      },
      {
       "output_type": "stream",
       "stream": "stdout",
       "text": [
        "\r",
        "68% [========================>            ] 3,353,929,096 8.56M/s  eta 2m 53s  "
       ]
      },
      {
       "output_type": "stream",
       "stream": "stdout",
       "text": [
        "\r",
        "68% [========================>            ] 3,356,025,820 8.45M/s  eta 2m 52s  "
       ]
      },
      {
       "output_type": "stream",
       "stream": "stdout",
       "text": [
        "\r",
        "68% [========================>            ] 3,358,005,858 8.37M/s  eta 2m 52s  "
       ]
      },
      {
       "output_type": "stream",
       "stream": "stdout",
       "text": [
        "\r",
        "68% [========================>            ] 3,359,671,146 8.24M/s  eta 2m 52s  "
       ]
      },
      {
       "output_type": "stream",
       "stream": "stdout",
       "text": [
        "\r",
        "68% [========================>            ] 3,361,269,004 8.03M/s  eta 2m 52s  "
       ]
      },
      {
       "output_type": "stream",
       "stream": "stdout",
       "text": [
        "\r",
        "68% [========================>            ] 3,363,367,102 8.05M/s  eta 2m 52s  "
       ]
      },
      {
       "output_type": "stream",
       "stream": "stdout",
       "text": [
        "\r",
        "68% [========================>            ] 3,365,462,452 8.16M/s  eta 2m 51s  "
       ]
      },
      {
       "output_type": "stream",
       "stream": "stdout",
       "text": [
        "\r",
        "68% [========================>            ] 3,367,559,176 8.05M/s  eta 2m 51s  "
       ]
      },
      {
       "output_type": "stream",
       "stream": "stdout",
       "text": [
        "\r",
        "68% [========================>            ] 3,369,657,274 7.93M/s  eta 2m 51s  "
       ]
      },
      {
       "output_type": "stream",
       "stream": "stdout",
       "text": [
        "\r",
        "68% [========================>            ] 3,370,707,010 7.69M/s  eta 2m 51s  "
       ]
      },
      {
       "output_type": "stream",
       "stream": "stdout",
       "text": [
        "\r",
        "68% [========================>            ] 3,372,803,734 7.55M/s  eta 2m 51s  "
       ]
      },
      {
       "output_type": "stream",
       "stream": "stdout",
       "text": [
        "\r",
        "68% [========================>            ] 3,374,901,832 7.62M/s  eta 2m 50s  "
       ]
      },
      {
       "output_type": "stream",
       "stream": "stdout",
       "text": [
        "\r",
        "68% [========================>            ] 3,376,998,556 7.66M/s  eta 2m 50s  "
       ]
      },
      {
       "output_type": "stream",
       "stream": "stdout",
       "text": [
        "\r",
        "68% [========================>            ] 3,379,093,906 7.81M/s  eta 2m 50s  "
       ]
      },
      {
       "output_type": "stream",
       "stream": "stdout",
       "text": [
        "\r",
        "69% [========================>            ] 3,381,196,126 8.01M/s  eta 2m 50s  "
       ]
      },
      {
       "output_type": "stream",
       "stream": "stdout",
       "text": [
        "\r",
        "69% [========================>            ] 3,383,290,102 8.09M/s  eta 2m 50s  "
       ]
      },
      {
       "output_type": "stream",
       "stream": "stdout",
       "text": [
        "\r",
        "69% [========================>            ] 3,385,256,400 8.19M/s  eta 2m 49s  "
       ]
      },
      {
       "output_type": "stream",
       "stream": "stdout",
       "text": [
        "\r",
        "69% [========================>            ] 3,386,237,436 8.16M/s  eta 2m 49s  "
       ]
      },
      {
       "output_type": "stream",
       "stream": "stdout",
       "text": [
        "\r",
        "69% [========================>            ] 3,387,483,550 7.73M/s  eta 2m 49s  "
       ]
      },
      {
       "output_type": "stream",
       "stream": "stdout",
       "text": [
        "\r",
        "69% [========================>            ] 3,389,301,456 7.89M/s  eta 2m 49s  "
       ]
      },
      {
       "output_type": "stream",
       "stream": "stdout",
       "text": [
        "\r",
        "69% [========================>            ] 3,390,628,636 7.56M/s  eta 2m 49s  "
       ]
      },
      {
       "output_type": "stream",
       "stream": "stdout",
       "text": [
        "\r",
        "69% [========================>            ] 3,392,482,266 7.53M/s  eta 2m 49s  "
       ]
      },
      {
       "output_type": "stream",
       "stream": "stdout",
       "text": [
        "\r",
        "69% [========================>            ] 3,394,143,432 7.52M/s  eta 2m 49s  "
       ]
      },
      {
       "output_type": "stream",
       "stream": "stdout",
       "text": [
        "\r",
        "69% [========================>            ] 3,395,871,820 7.25M/s  eta 2m 49s  "
       ]
      },
      {
       "output_type": "stream",
       "stream": "stdout",
       "text": [
        "\r",
        "69% [========================>            ] 3,397,968,544 7.59M/s  eta 2m 49s  "
       ]
      },
      {
       "output_type": "stream",
       "stream": "stdout",
       "text": [
        "\r",
        "69% [========================>            ] 3,400,065,268 7.60M/s  eta 2m 49s  "
       ]
      },
      {
       "output_type": "stream",
       "stream": "stdout",
       "text": [
        "\r",
        "69% [========================>            ] 3,402,163,366 7.39M/s  eta 2m 48s  "
       ]
      },
      {
       "output_type": "stream",
       "stream": "stdout",
       "text": [
        "\r",
        "69% [========================>            ] 3,404,261,464 7.27M/s  eta 2m 48s  "
       ]
      },
      {
       "output_type": "stream",
       "stream": "stdout",
       "text": [
        "\r",
        "69% [========================>            ] 3,405,981,816 7.34M/s  eta 2m 48s  "
       ]
      },
      {
       "output_type": "stream",
       "stream": "stdout",
       "text": [
        "\r",
        "69% [========================>            ] 3,407,326,962 7.17M/s  eta 2m 48s  "
       ]
      },
      {
       "output_type": "stream",
       "stream": "stdout",
       "text": [
        "\r",
        "69% [========================>            ] 3,408,454,912 6.75M/s  eta 2m 48s  "
       ]
      },
      {
       "output_type": "stream",
       "stream": "stdout",
       "text": [
        "\r",
        "69% [========================>            ] 3,410,426,706 7.22M/s  eta 2m 47s  "
       ]
      },
      {
       "output_type": "stream",
       "stream": "stdout",
       "text": [
        "\r",
        "69% [========================>            ] 3,411,599,998 7.20M/s  eta 2m 47s  "
       ]
      },
      {
       "output_type": "stream",
       "stream": "stdout",
       "text": [
        "\r",
        "69% [========================>            ] 3,413,287,374 7.14M/s  eta 2m 47s  "
       ]
      },
      {
       "output_type": "stream",
       "stream": "stdout",
       "text": [
        "\r",
        "69% [========================>            ] 3,414,607,788 7.16M/s  eta 2m 47s  "
       ]
      },
      {
       "output_type": "stream",
       "stream": "stdout",
       "text": [
        "\r",
        "69% [========================>            ] 3,415,796,194 7.17M/s  eta 2m 47s  "
       ]
      },
      {
       "output_type": "stream",
       "stream": "stdout",
       "text": [
        "\r",
        "69% [========================>            ] 3,417,515,172 7.01M/s  eta 2m 46s  "
       ]
      },
      {
       "output_type": "stream",
       "stream": "stdout",
       "text": [
        "\r",
        "69% [========================>            ] 3,418,942,654 6.95M/s  eta 2m 46s  "
       ]
      },
      {
       "output_type": "stream",
       "stream": "stdout",
       "text": [
        "\r",
        "69% [========================>            ] 3,421,036,630 6.84M/s  eta 2m 46s  "
       ]
      },
      {
       "output_type": "stream",
       "stream": "stdout",
       "text": [
        "\r",
        "69% [========================>            ] 3,422,871,024 7.01M/s  eta 2m 46s  "
       ]
      },
      {
       "output_type": "stream",
       "stream": "stdout",
       "text": [
        "\r",
        "69% [========================>            ] 3,424,874,316 7.02M/s  eta 2m 46s  "
       ]
      },
      {
       "output_type": "stream",
       "stream": "stdout",
       "text": [
        "\r",
        "69% [========================>            ] 3,426,282,562 6.82M/s  eta 2m 45s  "
       ]
      },
      {
       "output_type": "stream",
       "stream": "stdout",
       "text": [
        "\r",
        "69% [========================>            ] 3,428,377,912 7.00M/s  eta 2m 45s  "
       ]
      },
      {
       "output_type": "stream",
       "stream": "stdout",
       "text": [
        "\r",
        "70% [========================>            ] 3,430,474,636 7.16M/s  eta 2m 45s  "
       ]
      },
      {
       "output_type": "stream",
       "stream": "stdout",
       "text": [
        "\r",
        "70% [========================>            ] 3,432,571,360 7.42M/s  eta 2m 45s  "
       ]
      },
      {
       "output_type": "stream",
       "stream": "stdout",
       "text": [
        "\r",
        "70% [========================>            ] 3,434,668,084 7.54M/s  eta 2m 45s  "
       ]
      },
      {
       "output_type": "stream",
       "stream": "stdout",
       "text": [
        "\r",
        "70% [========================>            ] 3,436,767,556 7.65M/s  eta 2m 44s  "
       ]
      },
      {
       "output_type": "stream",
       "stream": "stdout",
       "text": [
        "\r",
        "70% [========================>            ] 3,438,865,654 7.77M/s  eta 2m 44s  "
       ]
      },
      {
       "output_type": "stream",
       "stream": "stdout",
       "text": [
        "\r",
        "70% [========================>            ] 3,440,959,630 7.90M/s  eta 2m 44s  "
       ]
      },
      {
       "output_type": "stream",
       "stream": "stdout",
       "text": [
        "\r",
        "70% [=========================>           ] 3,442,546,704 7.95M/s  eta 2m 44s  "
       ]
      },
      {
       "output_type": "stream",
       "stream": "stdout",
       "text": [
        "\r",
        "70% [=========================>           ] 3,444,106,090 7.98M/s  eta 2m 44s  "
       ]
      },
      {
       "output_type": "stream",
       "stream": "stdout",
       "text": [
        "\r",
        "70% [=========================>           ] 3,446,202,814 8.10M/s  eta 2m 43s  "
       ]
      },
      {
       "output_type": "stream",
       "stream": "stdout",
       "text": [
        "\r",
        "70% [=========================>           ] 3,448,790,160 8.37M/s  eta 2m 43s  "
       ]
      },
      {
       "output_type": "stream",
       "stream": "stdout",
       "text": [
        "\r",
        "70% [=========================>           ] 3,450,397,636 8.40M/s  eta 2m 43s  "
       ]
      },
      {
       "output_type": "stream",
       "stream": "stdout",
       "text": [
        "\r",
        "70% [=========================>           ] 3,452,494,360 8.45M/s  eta 2m 43s  "
       ]
      },
      {
       "output_type": "stream",
       "stream": "stdout",
       "text": [
        "\r",
        "70% [=========================>           ] 3,454,592,458 8.65M/s  eta 2m 43s  "
       ]
      },
      {
       "output_type": "stream",
       "stream": "stdout",
       "text": [
        "\r",
        "70% [=========================>           ] 3,456,698,800 8.48M/s  eta 2m 42s  "
       ]
      },
      {
       "output_type": "stream",
       "stream": "stdout",
       "text": [
        "\r",
        "70% [=========================>           ] 3,459,386,448 8.93M/s  eta 2m 42s  "
       ]
      },
      {
       "output_type": "stream",
       "stream": "stdout",
       "text": [
        "\r",
        "70% [=========================>           ] 3,460,882,630 8.70M/s  eta 2m 42s  "
       ]
      },
      {
       "output_type": "stream",
       "stream": "stdout",
       "text": [
        "\r",
        "70% [=========================>           ] 3,462,980,728 8.69M/s  eta 2m 42s  "
       ]
      },
      {
       "output_type": "stream",
       "stream": "stdout",
       "text": [
        "\r",
        "70% [=========================>           ] 3,465,077,452 8.79M/s  eta 2m 42s  "
       ]
      },
      {
       "output_type": "stream",
       "stream": "stdout",
       "text": [
        "\r",
        "70% [=========================>           ] 3,467,174,176 8.67M/s  eta 2m 40s  "
       ]
      },
      {
       "output_type": "stream",
       "stream": "stdout",
       "text": [
        "\r",
        "70% [=========================>           ] 3,469,816,482 8.84M/s  eta 2m 40s  "
       ]
      },
      {
       "output_type": "stream",
       "stream": "stdout",
       "text": [
        "\r",
        "70% [=========================>           ] 3,471,371,746 8.83M/s  eta 2m 40s  "
       ]
      },
      {
       "output_type": "stream",
       "stream": "stdout",
       "text": [
        "\r",
        "70% [=========================>           ] 3,473,465,722 8.83M/s  eta 2m 40s  "
       ]
      },
      {
       "output_type": "stream",
       "stream": "stdout",
       "text": [
        "\r",
        "70% [=========================>           ] 3,475,925,642 9.30M/s  eta 2m 40s  "
       ]
      },
      {
       "output_type": "stream",
       "stream": "stdout",
       "text": [
        "\r",
        "71% [=========================>           ] 3,478,245,972 9.27M/s  eta 2m 39s  "
       ]
      },
      {
       "output_type": "stream",
       "stream": "stdout",
       "text": [
        "\r",
        "71% [=========================>           ] 3,479,757,268 9.34M/s  eta 2m 39s  "
       ]
      },
      {
       "output_type": "stream",
       "stream": "stdout",
       "text": [
        "\r",
        "71% [=========================>           ] 3,482,404,966 9.40M/s  eta 2m 39s  "
       ]
      },
      {
       "output_type": "stream",
       "stream": "stdout",
       "text": [
        "\r",
        "71% [=========================>           ] 3,483,952,090 9.28M/s  eta 2m 39s  "
       ]
      },
      {
       "output_type": "stream",
       "stream": "stdout",
       "text": [
        "\r",
        "71% [=========================>           ] 3,486,572,412 9.45M/s  eta 2m 39s  "
       ]
      },
      {
       "output_type": "stream",
       "stream": "stdout",
       "text": [
        "\r",
        "71% [=========================>           ] 3,488,146,912 9.12M/s  eta 2m 38s  "
       ]
      },
      {
       "output_type": "stream",
       "stream": "stdout",
       "text": [
        "\r",
        "71% [=========================>           ] 3,490,816,698 9.45M/s  eta 2m 38s  "
       ]
      },
      {
       "output_type": "stream",
       "stream": "stdout",
       "text": [
        "\r",
        "71% [=========================>           ] 3,493,046,700 9.42M/s  eta 2m 38s  "
       ]
      },
      {
       "output_type": "stream",
       "stream": "stdout",
       "text": [
        "\r",
        "71% [=========================>           ] 3,494,438,458 9.41M/s  eta 2m 38s  "
       ]
      },
      {
       "output_type": "stream",
       "stream": "stdout",
       "text": [
        "\r",
        "71% [=========================>           ] 3,496,043,290 9.06M/s  eta 2m 38s  "
       ]
      },
      {
       "output_type": "stream",
       "stream": "stdout",
       "text": [
        "\r",
        "71% [=========================>           ] 3,498,189,582 9.29M/s  eta 2m 37s  "
       ]
      },
      {
       "output_type": "stream",
       "stream": "stdout",
       "text": [
        "\r",
        "71% [=========================>           ] 3,500,331,648 9.22M/s  eta 2m 37s  "
       ]
      },
      {
       "output_type": "stream",
       "stream": "stdout",
       "text": [
        "\r",
        "71% [=========================>           ] 3,502,337,584 9.39M/s  eta 2m 37s  "
       ]
      },
      {
       "output_type": "stream",
       "stream": "stdout",
       "text": [
        "\r",
        "71% [=========================>           ] 3,503,883,356 9.17M/s  eta 2m 37s  "
       ]
      },
      {
       "output_type": "stream",
       "stream": "stdout",
       "text": [
        "\r",
        "71% [=========================>           ] 3,505,971,814 9.05M/s  eta 2m 37s  "
       ]
      },
      {
       "output_type": "stream",
       "stream": "stdout",
       "text": [
        "\r",
        "71% [=========================>           ] 3,508,068,538 9.20M/s  eta 2m 36s  "
       ]
      },
      {
       "output_type": "stream",
       "stream": "stdout",
       "text": [
        "\r",
        "71% [=========================>           ] 3,510,168,010 9.12M/s  eta 2m 36s  "
       ]
      },
      {
       "output_type": "stream",
       "stream": "stdout",
       "text": [
        "\r",
        "71% [=========================>           ] 3,512,263,360 9.05M/s  eta 2m 36s  "
       ]
      },
      {
       "output_type": "stream",
       "stream": "stdout",
       "text": [
        "\r",
        "71% [=========================>           ] 3,514,360,084 8.97M/s  eta 2m 36s  "
       ]
      },
      {
       "output_type": "stream",
       "stream": "stdout",
       "text": [
        "\r",
        "71% [=========================>           ] 3,516,460,930 8.98M/s  eta 2m 36s  "
       ]
      },
      {
       "output_type": "stream",
       "stream": "stdout",
       "text": [
        "\r",
        "71% [=========================>           ] 3,518,554,906 8.89M/s  eta 2m 35s  "
       ]
      },
      {
       "output_type": "stream",
       "stream": "stdout",
       "text": [
        "\r",
        "71% [=========================>           ] 3,520,653,004 8.76M/s  eta 2m 35s  "
       ]
      },
      {
       "output_type": "stream",
       "stream": "stdout",
       "text": [
        "\r",
        "71% [=========================>           ] 3,522,749,728 8.69M/s  eta 2m 35s  "
       ]
      },
      {
       "output_type": "stream",
       "stream": "stdout",
       "text": [
        "\r",
        "71% [=========================>           ] 3,524,849,200 8.60M/s  eta 2m 35s  "
       ]
      },
      {
       "output_type": "stream",
       "stream": "stdout",
       "text": [
        "\r",
        "72% [=========================>           ] 3,526,943,176 8.51M/s  eta 2m 35s  "
       ]
      },
      {
       "output_type": "stream",
       "stream": "stdout",
       "text": [
        "\r",
        "72% [=========================>           ] 3,529,041,274 8.87M/s  eta 2m 33s  "
       ]
      },
      {
       "output_type": "stream",
       "stream": "stdout",
       "text": [
        "\r",
        "72% [=========================>           ] 3,531,450,668 8.84M/s  eta 2m 33s  "
       ]
      },
      {
       "output_type": "stream",
       "stream": "stdout",
       "text": [
        "\r",
        "72% [=========================>           ] 3,533,234,722 8.73M/s  eta 2m 33s  "
       ]
      },
      {
       "output_type": "stream",
       "stream": "stdout",
       "text": [
        "\r",
        "72% [=========================>           ] 3,535,331,446 8.76M/s  eta 2m 33s  "
       ]
      },
      {
       "output_type": "stream",
       "stream": "stdout",
       "text": [
        "\r",
        "72% [=========================>           ] 3,537,429,544 9.01M/s  eta 2m 33s  "
       ]
      },
      {
       "output_type": "stream",
       "stream": "stdout",
       "text": [
        "\r",
        "72% [=========================>           ] 3,539,526,268 8.92M/s  eta 2m 32s  "
       ]
      },
      {
       "output_type": "stream",
       "stream": "stdout",
       "text": [
        "\r",
        "72% [=========================>           ] 3,541,622,992 9.06M/s  eta 2m 32s  "
       ]
      },
      {
       "output_type": "stream",
       "stream": "stdout",
       "text": [
        "\r",
        "72% [=========================>           ] 3,543,721,090 8.97M/s  eta 2m 32s  "
       ]
      },
      {
       "output_type": "stream",
       "stream": "stdout",
       "text": [
        "\r",
        "72% [=========================>           ] 3,546,326,298 9.25M/s  eta 2m 32s  "
       ]
      },
      {
       "output_type": "stream",
       "stream": "stdout",
       "text": [
        "\r",
        "72% [=========================>           ] 3,548,542,560 9.21M/s  eta 2m 32s  "
       ]
      },
      {
       "output_type": "stream",
       "stream": "stdout",
       "text": [
        "\r",
        "72% [=========================>           ] 3,550,014,010 9.18M/s  eta 2m 31s  "
       ]
      },
      {
       "output_type": "stream",
       "stream": "stdout",
       "text": [
        "\r",
        "72% [=========================>           ] 3,552,109,360 9.21M/s  eta 2m 31s  "
       ]
      },
      {
       "output_type": "stream",
       "stream": "stdout",
       "text": [
        "\r",
        "72% [=========================>           ] 3,554,207,458 9.04M/s  eta 2m 31s  "
       ]
      },
      {
       "output_type": "stream",
       "stream": "stdout",
       "text": [
        "\r",
        "72% [=========================>           ] 3,556,304,182 9.15M/s  eta 2m 31s  "
       ]
      },
      {
       "output_type": "stream",
       "stream": "stdout",
       "text": [
        "\r",
        "72% [=========================>           ] 3,558,400,906 9.14M/s  eta 2m 31s  "
       ]
      },
      {
       "output_type": "stream",
       "stream": "stdout",
       "text": [
        "\r",
        "72% [=========================>           ] 3,560,497,630 8.94M/s  eta 2m 30s  "
       ]
      },
      {
       "output_type": "stream",
       "stream": "stdout",
       "text": [
        "\r",
        "72% [=========================>           ] 3,562,594,354 9.02M/s  eta 2m 30s  "
       ]
      },
      {
       "output_type": "stream",
       "stream": "stdout",
       "text": [
        "\r",
        "72% [=========================>           ] 3,564,794,128 7.85M/s  eta 2m 30s  "
       ]
      },
      {
       "output_type": "stream",
       "stream": "stdout",
       "text": [
        "\r",
        "72% [=========================>           ] 3,567,461,062 7.91M/s  eta 2m 29s  "
       ]
      },
      {
       "output_type": "stream",
       "stream": "stdout",
       "text": [
        "\r",
        "72% [=========================>           ] 3,569,571,630 7.99M/s  eta 2m 29s  "
       ]
      },
      {
       "output_type": "stream",
       "stream": "stdout",
       "text": [
        "\r",
        "72% [=========================>           ] 3,571,188,724 7.70M/s  eta 2m 29s  "
       ]
      },
      {
       "output_type": "stream",
       "stream": "stdout",
       "text": [
        "\r",
        "72% [=========================>           ] 3,572,437,794 7.65M/s  eta 2m 29s  "
       ]
      },
      {
       "output_type": "stream",
       "stream": "stdout",
       "text": [
        "\r",
        "72% [=========================>           ] 3,573,609,712 7.35M/s  eta 2m 29s  "
       ]
      },
      {
       "output_type": "stream",
       "stream": "stdout",
       "text": [
        "\r",
        "72% [==========================>          ] 3,575,354,796 7.24M/s  eta 2m 28s  "
       ]
      },
      {
       "output_type": "stream",
       "stream": "stdout",
       "text": [
        "\r",
        "73% [==========================>          ] 3,576,754,798 6.93M/s  eta 2m 28s  "
       ]
      },
      {
       "output_type": "stream",
       "stream": "stdout",
       "text": [
        "\r",
        "73% [==========================>          ] 3,578,851,522 6.95M/s  eta 2m 28s  "
       ]
      },
      {
       "output_type": "stream",
       "stream": "stdout",
       "text": [
        "\r",
        "73% [==========================>          ] 3,580,915,374 6.97M/s  eta 2m 28s  "
       ]
      },
      {
       "output_type": "stream",
       "stream": "stdout",
       "text": [
        "\r",
        "73% [==========================>          ] 3,582,691,956 6.88M/s  eta 2m 28s  "
       ]
      },
      {
       "output_type": "stream",
       "stream": "stdout",
       "text": [
        "\r",
        "73% [==========================>          ] 3,584,659,524 6.94M/s  eta 2m 27s  "
       ]
      },
      {
       "output_type": "stream",
       "stream": "stdout",
       "text": [
        "\r",
        "73% [==========================>          ] 3,586,165,428 7.03M/s  eta 2m 27s  "
       ]
      },
      {
       "output_type": "stream",
       "stream": "stdout",
       "text": [
        "\r",
        "73% [==========================>          ] 3,588,102,768 6.95M/s  eta 2m 27s  "
       ]
      },
      {
       "output_type": "stream",
       "stream": "stdout",
       "text": [
        "\r",
        "73% [==========================>          ] 3,590,015,376 7.02M/s  eta 2m 27s  "
       ]
      },
      {
       "output_type": "stream",
       "stream": "stdout",
       "text": [
        "\r",
        "73% [==========================>          ] 3,592,047,522 8.15M/s  eta 2m 27s  "
       ]
      },
      {
       "output_type": "stream",
       "stream": "stdout",
       "text": [
        "\r",
        "73% [==========================>          ] 3,594,151,116 8.02M/s  eta 2m 26s  "
       ]
      },
      {
       "output_type": "stream",
       "stream": "stdout",
       "text": [
        "\r",
        "73% [==========================>          ] 3,596,227,230 7.93M/s  eta 2m 26s  "
       ]
      },
      {
       "output_type": "stream",
       "stream": "stdout",
       "text": [
        "\r",
        "73% [==========================>          ] 3,598,288,230 8.19M/s  eta 2m 26s  "
       ]
      },
      {
       "output_type": "stream",
       "stream": "stdout",
       "text": [
        "\r",
        "73% [==========================>          ] 3,599,825,216 8.22M/s  eta 2m 26s  "
       ]
      },
      {
       "output_type": "stream",
       "stream": "stdout",
       "text": [
        "\r",
        "73% [==========================>          ] 3,602,019,286 8.52M/s  eta 2m 26s  "
       ]
      },
      {
       "output_type": "stream",
       "stream": "stdout",
       "text": [
        "\r",
        "73% [==========================>          ] 3,604,520,694 8.96M/s  eta 2m 25s  "
       ]
      },
      {
       "output_type": "stream",
       "stream": "stdout",
       "text": [
        "\r",
        "73% [==========================>          ] 3,606,699,858 9.08M/s  eta 2m 25s  "
       ]
      },
      {
       "output_type": "stream",
       "stream": "stdout",
       "text": [
        "\r",
        "73% [==========================>          ] 3,608,737,500 9.14M/s  eta 2m 25s  "
       ]
      },
      {
       "output_type": "stream",
       "stream": "stdout",
       "text": [
        "\r",
        "73% [==========================>          ] 3,610,316,018 9.19M/s  eta 2m 25s  "
       ]
      },
      {
       "output_type": "stream",
       "stream": "stdout",
       "text": [
        "\r",
        "73% [==========================>          ] 3,612,407,350 9.22M/s  eta 2m 25s  "
       ]
      },
      {
       "output_type": "stream",
       "stream": "stdout",
       "text": [
        "\r",
        "73% [==========================>          ] 3,614,145,460 9.31M/s  eta 2m 24s  "
       ]
      },
      {
       "output_type": "stream",
       "stream": "stdout",
       "text": [
        "\r",
        "73% [==========================>          ] 3,614,328,306 8.61M/s  eta 2m 24s  "
       ]
      },
      {
       "output_type": "stream",
       "stream": "stdout",
       "text": [
        "\r",
        "73% [==========================>          ] 3,614,377,770 8.22M/s  eta 2m 24s  "
       ]
      },
      {
       "output_type": "stream",
       "stream": "stdout",
       "text": [
        "\r",
        "73% [==========================>          ] 3,615,265,374 8.07M/s  eta 2m 24s  "
       ]
      },
      {
       "output_type": "stream",
       "stream": "stdout",
       "text": [
        "\r",
        "73% [==========================>          ] 3,616,506,096 7.75M/s  eta 2m 24s  "
       ]
      },
      {
       "output_type": "stream",
       "stream": "stdout",
       "text": [
        "\r",
        "73% [==========================>          ] 3,617,649,160 7.33M/s  eta 2m 24s  "
       ]
      },
      {
       "output_type": "stream",
       "stream": "stdout",
       "text": [
        "\r",
        "73% [==========================>          ] 3,619,392,662 7.23M/s  eta 2m 24s  "
       ]
      },
      {
       "output_type": "stream",
       "stream": "stdout",
       "text": [
        "\r",
        "73% [==========================>          ] 3,620,795,620 6.93M/s  eta 2m 24s  "
       ]
      },
      {
       "output_type": "stream",
       "stream": "stdout",
       "text": [
        "\r",
        "73% [==========================>          ] 3,622,834,740 6.84M/s  eta 2m 24s  "
       ]
      },
      {
       "output_type": "stream",
       "stream": "stdout",
       "text": [
        "\r",
        "73% [==========================>          ] 3,623,940,706 6.65M/s  eta 2m 24s  "
       ]
      },
      {
       "output_type": "stream",
       "stream": "stdout",
       "text": [
        "\r",
        "74% [==========================>          ] 3,626,038,804 6.46M/s  eta 2m 23s  "
       ]
      },
      {
       "output_type": "stream",
       "stream": "stdout",
       "text": [
        "\r",
        "74% [==========================>          ] 3,628,135,528 6.15M/s  eta 2m 23s  "
       ]
      },
      {
       "output_type": "stream",
       "stream": "stdout",
       "text": [
        "\r",
        "74% [==========================>          ] 3,629,185,264 5.98M/s  eta 2m 23s  "
       ]
      },
      {
       "output_type": "stream",
       "stream": "stdout",
       "text": [
        "\r",
        "74% [==========================>          ] 3,631,280,614 5.90M/s  eta 2m 23s  "
       ]
      },
      {
       "output_type": "stream",
       "stream": "stdout",
       "text": [
        "\r",
        "74% [==========================>          ] 3,633,377,338 6.06M/s  eta 2m 23s  "
       ]
      },
      {
       "output_type": "stream",
       "stream": "stdout",
       "text": [
        "\r",
        "74% [==========================>          ] 3,635,478,184 6.01M/s  eta 2m 22s  "
       ]
      },
      {
       "output_type": "stream",
       "stream": "stdout",
       "text": [
        "\r",
        "74% [==========================>          ] 3,637,498,068 6.57M/s  eta 2m 22s  "
       ]
      },
      {
       "output_type": "stream",
       "stream": "stdout",
       "text": [
        "\r",
        "74% [==========================>          ] 3,639,412,050 7.05M/s  eta 2m 22s  "
       ]
      },
      {
       "output_type": "stream",
       "stream": "stdout",
       "text": [
        "\r",
        "74% [==========================>          ] 3,641,319,162 7.44M/s  eta 2m 22s  "
       ]
      },
      {
       "output_type": "stream",
       "stream": "stdout",
       "text": [
        "\r",
        "74% [==========================>          ] 3,643,241,328 7.80M/s  eta 2m 22s  "
       ]
      },
      {
       "output_type": "stream",
       "stream": "stdout",
       "text": [
        "\r",
        "74% [==========================>          ] 3,645,410,934 8.01M/s  eta 2m 21s  "
       ]
      },
      {
       "output_type": "stream",
       "stream": "stdout",
       "text": [
        "\r",
        "74% [==========================>          ] 3,647,525,520 8.23M/s  eta 2m 21s  "
       ]
      },
      {
       "output_type": "stream",
       "stream": "stdout",
       "text": [
        "\r",
        "74% [==========================>          ] 3,649,109,140 8.37M/s  eta 2m 21s  "
       ]
      },
      {
       "output_type": "stream",
       "stream": "stdout",
       "text": [
        "\r",
        "74% [==========================>          ] 3,651,203,614 8.38M/s  eta 2m 21s  "
       ]
      },
      {
       "output_type": "stream",
       "stream": "stdout",
       "text": [
        "\r",
        "74% [==========================>          ] 3,653,300,338 8.46M/s  eta 2m 21s  "
       ]
      },
      {
       "output_type": "stream",
       "stream": "stdout",
       "text": [
        "\r",
        "74% [==========================>          ] 3,655,399,810 8.53M/s  eta 2m 20s  "
       ]
      },
      {
       "output_type": "stream",
       "stream": "stdout",
       "text": [
        "\r",
        "74% [==========================>          ] 3,657,497,908 8.62M/s  eta 2m 20s  "
       ]
      },
      {
       "output_type": "stream",
       "stream": "stdout",
       "text": [
        "\r",
        "74% [==========================>          ] 3,659,591,884 8.76M/s  eta 2m 20s  "
       ]
      },
      {
       "output_type": "stream",
       "stream": "stdout",
       "text": [
        "\r",
        "74% [==========================>          ] 3,661,692,730 8.60M/s  eta 2m 20s  "
       ]
      },
      {
       "output_type": "stream",
       "stream": "stdout",
       "text": [
        "\r",
        "74% [==========================>          ] 3,663,790,724 8.35M/s  eta 2m 19s  "
       ]
      },
      {
       "output_type": "stream",
       "stream": "stdout",
       "text": [
        "\r",
        "74% [==========================>          ] 3,665,887,552 8.48M/s  eta 2m 19s  "
       ]
      },
      {
       "output_type": "stream",
       "stream": "stdout",
       "text": [
        "\r",
        "74% [==========================>          ] 3,667,981,528 8.26M/s  eta 2m 19s  "
       ]
      },
      {
       "output_type": "stream",
       "stream": "stdout",
       "text": [
        "\r",
        "74% [==========================>          ] 3,670,078,252 8.20M/s  eta 2m 19s  "
       ]
      },
      {
       "output_type": "stream",
       "stream": "stdout",
       "text": [
        "\r",
        "74% [==========================>          ] 3,672,179,098 8.21M/s  eta 2m 18s  "
       ]
      },
      {
       "output_type": "stream",
       "stream": "stdout",
       "text": [
        "\r",
        "75% [==========================>          ] 3,674,274,448 8.06M/s  eta 2m 18s  "
       ]
      },
      {
       "output_type": "stream",
       "stream": "stdout",
       "text": [
        "\r",
        "75% [==========================>          ] 3,676,369,798 7.91M/s  eta 2m 18s  "
       ]
      },
      {
       "output_type": "stream",
       "stream": "stdout",
       "text": [
        "\r",
        "75% [==========================>          ] 3,678,477,410 8.05M/s  eta 2m 18s  "
       ]
      },
      {
       "output_type": "stream",
       "stream": "stdout",
       "text": [
        "\r",
        "75% [==========================>          ] 3,680,564,620 7.90M/s  eta 2m 18s  "
       ]
      },
      {
       "output_type": "stream",
       "stream": "stdout",
       "text": [
        "\r",
        "75% [==========================>          ] 3,682,662,718 7.93M/s  eta 2m 17s  "
       ]
      },
      {
       "output_type": "stream",
       "stream": "stdout",
       "text": [
        "\r",
        "75% [==========================>          ] 3,684,758,068 8.01M/s  eta 2m 17s  "
       ]
      },
      {
       "output_type": "stream",
       "stream": "stdout",
       "text": [
        "\r",
        "75% [==========================>          ] 3,686,854,792 8.35M/s  eta 2m 17s  "
       ]
      },
      {
       "output_type": "stream",
       "stream": "stdout",
       "text": [
        "\r",
        "75% [==========================>          ] 3,688,952,890 8.32M/s  eta 2m 17s  "
       ]
      },
      {
       "output_type": "stream",
       "stream": "stdout",
       "text": [
        "\r",
        "75% [==========================>          ] 3,691,049,614 8.43M/s  eta 2m 17s  "
       ]
      },
      {
       "output_type": "stream",
       "stream": "stdout",
       "text": [
        "\r",
        "75% [==========================>          ] 3,693,149,086 8.79M/s  eta 2m 15s  "
       ]
      },
      {
       "output_type": "stream",
       "stream": "stdout",
       "text": [
        "\r",
        "75% [==========================>          ] 3,695,408,276 8.81M/s  eta 2m 15s  "
       ]
      },
      {
       "output_type": "stream",
       "stream": "stdout",
       "text": [
        "\r",
        "75% [==========================>          ] 3,697,342,534 8.35M/s  eta 2m 15s  "
       ]
      },
      {
       "output_type": "stream",
       "stream": "stdout",
       "text": [
        "\r",
        "75% [==========================>          ] 3,700,046,670 8.47M/s  eta 2m 15s  "
       ]
      },
      {
       "output_type": "stream",
       "stream": "stdout",
       "text": [
        "\r",
        "75% [==========================>          ] 3,702,165,378 8.72M/s  eta 2m 14s  "
       ]
      },
      {
       "output_type": "stream",
       "stream": "stdout",
       "text": [
        "\r",
        "75% [==========================>          ] 3,703,491,288 8.52M/s  eta 2m 14s  "
       ]
      },
      {
       "output_type": "stream",
       "stream": "stdout",
       "text": [
        "\r",
        "75% [==========================>          ] 3,704,682,442 8.27M/s  eta 2m 14s  "
       ]
      },
      {
       "output_type": "stream",
       "stream": "stdout",
       "text": [
        "\r",
        "75% [==========================>          ] 3,706,779,166 8.22M/s  eta 2m 14s  "
       ]
      },
      {
       "output_type": "stream",
       "stream": "stdout",
       "text": [
        "\r",
        "75% [===========================>         ] 3,708,875,890 8.34M/s  eta 2m 14s  "
       ]
      },
      {
       "output_type": "stream",
       "stream": "stdout",
       "text": [
        "\r",
        "75% [===========================>         ] 3,710,972,614 8.23M/s  eta 2m 13s  "
       ]
      },
      {
       "output_type": "stream",
       "stream": "stdout",
       "text": [
        "\r",
        "75% [===========================>         ] 3,713,069,338 8.05M/s  eta 2m 13s  "
       ]
      },
      {
       "output_type": "stream",
       "stream": "stdout",
       "text": [
        "\r",
        "75% [===========================>         ] 3,715,167,436 7.99M/s  eta 2m 13s  "
       ]
      },
      {
       "output_type": "stream",
       "stream": "stdout",
       "text": [
        "\r",
        "75% [===========================>         ] 3,717,265,534 8.09M/s  eta 2m 13s  "
       ]
      },
      {
       "output_type": "stream",
       "stream": "stdout",
       "text": [
        "\r",
        "75% [===========================>         ] 3,719,360,884 7.98M/s  eta 2m 13s  "
       ]
      },
      {
       "output_type": "stream",
       "stream": "stdout",
       "text": [
        "\r",
        "75% [===========================>         ] 3,721,458,982 7.95M/s  eta 2m 12s  "
       ]
      },
      {
       "output_type": "stream",
       "stream": "stdout",
       "text": [
        "\r",
        "76% [===========================>         ] 3,723,557,080 8.12M/s  eta 2m 12s  "
       ]
      },
      {
       "output_type": "stream",
       "stream": "stdout",
       "text": [
        "\r",
        "76% [===========================>         ] 3,725,506,890 7.97M/s  eta 2m 12s  "
       ]
      },
      {
       "output_type": "stream",
       "stream": "stdout",
       "text": [
        "\r",
        "76% [===========================>         ] 3,727,691,550 8.21M/s  eta 2m 12s  "
       ]
      },
      {
       "output_type": "stream",
       "stream": "stdout",
       "text": [
        "\r",
        "76% [===========================>         ] 3,729,852,748 8.67M/s  eta 2m 12s  "
       ]
      },
      {
       "output_type": "stream",
       "stream": "stdout",
       "text": [
        "\r",
        "76% [===========================>         ] 3,732,530,778 8.74M/s  eta 2m 11s  "
       ]
      },
      {
       "output_type": "stream",
       "stream": "stdout",
       "text": [
        "\r",
        "76% [===========================>         ] 3,734,638,494 8.96M/s  eta 2m 11s  "
       ]
      },
      {
       "output_type": "stream",
       "stream": "stdout",
       "text": [
        "\r",
        "76% [===========================>         ] 3,736,138,798 9.02M/s  eta 2m 11s  "
       ]
      },
      {
       "output_type": "stream",
       "stream": "stdout",
       "text": [
        "\r",
        "76% [===========================>         ] 3,738,236,896 8.93M/s  eta 2m 11s  "
       ]
      },
      {
       "output_type": "stream",
       "stream": "stdout",
       "text": [
        "\r",
        "76% [===========================>         ] 3,740,332,246 9.09M/s  eta 2m 11s  "
       ]
      },
      {
       "output_type": "stream",
       "stream": "stdout",
       "text": [
        "\r",
        "76% [===========================>         ] 3,741,381,982 8.71M/s  eta 2m 10s  "
       ]
      },
      {
       "output_type": "stream",
       "stream": "stdout",
       "text": [
        "\r",
        "76% [===========================>         ] 3,743,478,706 8.74M/s  eta 2m 10s  "
       ]
      },
      {
       "output_type": "stream",
       "stream": "stdout",
       "text": [
        "\r",
        "76% [===========================>         ] 3,745,575,430 8.88M/s  eta 2m 10s  "
       ]
      },
      {
       "output_type": "stream",
       "stream": "stdout",
       "text": [
        "\r",
        "76% [===========================>         ] 3,747,673,528 8.78M/s  eta 2m 10s  "
       ]
      },
      {
       "output_type": "stream",
       "stream": "stdout",
       "text": [
        "\r",
        "76% [===========================>         ] 3,749,770,252 8.61M/s  eta 2m 9s   "
       ]
      },
      {
       "output_type": "stream",
       "stream": "stdout",
       "text": [
        "\r",
        "76% [===========================>         ] 3,751,871,098 8.49M/s  eta 2m 9s   "
       ]
      },
      {
       "output_type": "stream",
       "stream": "stdout",
       "text": [
        "\r",
        "76% [===========================>         ] 3,753,967,822 8.57M/s  eta 2m 9s   "
       ]
      },
      {
       "output_type": "stream",
       "stream": "stdout",
       "text": [
        "\r",
        "76% [===========================>         ] 3,756,061,798 8.40M/s  eta 2m 9s   "
       ]
      },
      {
       "output_type": "stream",
       "stream": "stdout",
       "text": [
        "\r",
        "76% [===========================>         ] 3,758,161,270 8.61M/s  eta 2m 9s   "
       ]
      },
      {
       "output_type": "stream",
       "stream": "stdout",
       "text": [
        "\r",
        "76% [===========================>         ] 3,760,255,246 8.49M/s  eta 2m 8s   "
       ]
      },
      {
       "output_type": "stream",
       "stream": "stdout",
       "text": [
        "\r",
        "76% [===========================>         ] 3,762,863,202 8.58M/s  eta 2m 8s   "
       ]
      },
      {
       "output_type": "stream",
       "stream": "stdout",
       "text": [
        "\r",
        "76% [===========================>         ] 3,765,008,016 8.57M/s  eta 2m 8s   "
       ]
      },
      {
       "output_type": "stream",
       "stream": "stdout",
       "text": [
        "\r",
        "76% [===========================>         ] 3,767,136,342 8.47M/s  eta 2m 8s   "
       ]
      },
      {
       "output_type": "stream",
       "stream": "stdout",
       "text": [
        "\r",
        "76% [===========================>         ] 3,769,366,344 8.51M/s  eta 2m 8s   "
       ]
      },
      {
       "output_type": "stream",
       "stream": "stdout",
       "text": [
        "\r",
        "76% [===========================>         ] 3,771,571,614 8.61M/s  eta 2m 6s   "
       ]
      },
      {
       "output_type": "stream",
       "stream": "stdout",
       "text": [
        "\r",
        "77% [===========================>         ] 3,773,588,646 8.82M/s  eta 2m 6s   "
       ]
      },
      {
       "output_type": "stream",
       "stream": "stdout",
       "text": [
        "\r",
        "77% [===========================>         ] 3,774,936,436 8.91M/s  eta 2m 6s   "
       ]
      },
      {
       "output_type": "stream",
       "stream": "stdout",
       "text": [
        "\r",
        "77% [===========================>         ] 3,777,040,030 8.79M/s  eta 2m 6s   "
       ]
      },
      {
       "output_type": "stream",
       "stream": "stdout",
       "text": [
        "\r",
        "77% [===========================>         ] 3,779,139,398 8.90M/s  eta 2m 6s   "
       ]
      },
      {
       "output_type": "stream",
       "stream": "stdout",
       "text": [
        "\r",
        "77% [===========================>         ] 3,781,226,608 9.04M/s  eta 2m 5s   "
       ]
      },
      {
       "output_type": "stream",
       "stream": "stdout",
       "text": [
        "\r",
        "77% [===========================>         ] 3,783,324,706 8.91M/s  eta 2m 5s   "
       ]
      },
      {
       "output_type": "stream",
       "stream": "stdout",
       "text": [
        "\r",
        "77% [===========================>         ] 3,785,422,804 8.93M/s  eta 2m 5s   "
       ]
      },
      {
       "output_type": "stream",
       "stream": "stdout",
       "text": [
        "\r",
        "77% [===========================>         ] 3,787,518,154 8.96M/s  eta 2m 5s   "
       ]
      },
      {
       "output_type": "stream",
       "stream": "stdout",
       "text": [
        "\r",
        "77% [===========================>         ] 3,789,616,252 9.11M/s  eta 2m 5s   "
       ]
      },
      {
       "output_type": "stream",
       "stream": "stdout",
       "text": [
        "\r",
        "77% [===========================>         ] 3,791,399,808 8.93M/s  eta 2m 4s   "
       ]
      },
      {
       "output_type": "stream",
       "stream": "stdout",
       "text": [
        "\r",
        "77% [===========================>         ] 3,792,761,338 8.82M/s  eta 2m 4s   "
       ]
      },
      {
       "output_type": "stream",
       "stream": "stdout",
       "text": [
        "\r",
        "77% [===========================>         ] 3,794,718,018 8.90M/s  eta 2m 4s   "
       ]
      },
      {
       "output_type": "stream",
       "stream": "stdout",
       "text": [
        "\r",
        "77% [===========================>         ] 3,795,914,794 8.54M/s  eta 2m 4s   "
       ]
      },
      {
       "output_type": "stream",
       "stream": "stdout",
       "text": [
        "\r",
        "77% [===========================>         ] 3,798,005,792 8.38M/s  eta 2m 4s   "
       ]
      },
      {
       "output_type": "stream",
       "stream": "stdout",
       "text": [
        "\r",
        "77% [===========================>         ] 3,800,101,246 8.34M/s  eta 2m 3s   "
       ]
      },
      {
       "output_type": "stream",
       "stream": "stdout",
       "text": [
        "\r",
        "77% [===========================>         ] 3,802,199,344 8.08M/s  eta 2m 3s   "
       ]
      },
      {
       "output_type": "stream",
       "stream": "stdout",
       "text": [
        "\r",
        "77% [===========================>         ] 3,804,297,442 8.30M/s  eta 2m 3s   "
       ]
      },
      {
       "output_type": "stream",
       "stream": "stdout",
       "text": [
        "\r",
        "77% [===========================>         ] 3,806,392,792 8.15M/s  eta 2m 3s   "
       ]
      },
      {
       "output_type": "stream",
       "stream": "stdout",
       "text": [
        "\r",
        "77% [===========================>         ] 3,808,489,516 8.09M/s  eta 2m 3s   "
       ]
      },
      {
       "output_type": "stream",
       "stream": "stdout",
       "text": [
        "\r",
        "77% [===========================>         ] 3,810,590,362 7.99M/s  eta 2m 2s   "
       ]
      },
      {
       "output_type": "stream",
       "stream": "stdout",
       "text": [
        "\r",
        "77% [===========================>         ] 3,811,752,038 7.93M/s  eta 2m 2s   "
       ]
      },
      {
       "output_type": "stream",
       "stream": "stdout",
       "text": [
        "\r",
        "77% [===========================>         ] 3,813,732,700 7.65M/s  eta 2m 2s   "
       ]
      },
      {
       "output_type": "stream",
       "stream": "stdout",
       "text": [
        "\r",
        "77% [===========================>         ] 3,815,832,172 7.61M/s  eta 2m 2s   "
       ]
      },
      {
       "output_type": "stream",
       "stream": "stdout",
       "text": [
        "\r",
        "77% [===========================>         ] 3,817,927,522 7.68M/s  eta 2m 2s   "
       ]
      },
      {
       "output_type": "stream",
       "stream": "stdout",
       "text": [
        "\r",
        "77% [===========================>         ] 3,820,024,246 7.89M/s  eta 2m 1s   "
       ]
      },
      {
       "output_type": "stream",
       "stream": "stdout",
       "text": [
        "\r",
        "78% [===========================>         ] 3,821,684,142 7.80M/s  eta 2m 1s   "
       ]
      },
      {
       "output_type": "stream",
       "stream": "stdout",
       "text": [
        "\r",
        "78% [===========================>         ] 3,823,172,080 7.72M/s  eta 2m 1s   "
       ]
      },
      {
       "output_type": "stream",
       "stream": "stdout",
       "text": [
        "\r",
        "78% [===========================>         ] 3,825,612,408 8.03M/s  eta 2m 1s   "
       ]
      },
      {
       "output_type": "stream",
       "stream": "stdout",
       "text": [
        "\r",
        "78% [===========================>         ] 3,827,740,734 8.12M/s  eta 2m 1s   "
       ]
      },
      {
       "output_type": "stream",
       "stream": "stdout",
       "text": [
        "\r",
        "78% [===========================>         ] 3,829,803,108 8.12M/s  eta 2m 0s   "
       ]
      },
      {
       "output_type": "stream",
       "stream": "stdout",
       "text": [
        "\r",
        "78% [===========================>         ] 3,831,909,450 8.29M/s  eta 2m 0s   "
       ]
      },
      {
       "output_type": "stream",
       "stream": "stdout",
       "text": [
        "\r",
        "78% [===========================>         ] 3,833,732,748 8.16M/s  eta 2m 0s   "
       ]
      },
      {
       "output_type": "stream",
       "stream": "stdout",
       "text": [
        "\r",
        "78% [===========================>         ] 3,835,242,670 8.03M/s  eta 2m 0s   "
       ]
      },
      {
       "output_type": "stream",
       "stream": "stdout",
       "text": [
        "\r",
        "78% [===========================>         ] 3,837,338,020 8.13M/s  eta 2m 0s   "
       ]
      },
      {
       "output_type": "stream",
       "stream": "stdout",
       "text": [
        "\r",
        "78% [============================>        ] 3,839,436,118 8.22M/s  eta 1m 59s  "
       ]
      },
      {
       "output_type": "stream",
       "stream": "stdout",
       "text": [
        "\r",
        "78% [============================>        ] 3,841,532,842 8.70M/s  eta 1m 59s  "
       ]
      },
      {
       "output_type": "stream",
       "stream": "stdout",
       "text": [
        "\r",
        "78% [============================>        ] 3,843,629,566 8.72M/s  eta 1m 59s  "
       ]
      },
      {
       "output_type": "stream",
       "stream": "stdout",
       "text": [
        "\r",
        "78% [============================>        ] 3,845,727,664 8.84M/s  eta 1m 59s  "
       ]
      },
      {
       "output_type": "stream",
       "stream": "stdout",
       "text": [
        "\r",
        "78% [============================>        ] 3,848,446,914 9.27M/s  eta 1m 59s  "
       ]
      },
      {
       "output_type": "stream",
       "stream": "stdout",
       "text": [
        "\r",
        "78% [============================>        ] 3,849,926,608 9.01M/s  eta 1m 58s  "
       ]
      },
      {
       "output_type": "stream",
       "stream": "stdout",
       "text": [
        "\r",
        "78% [============================>        ] 3,852,573,036 9.45M/s  eta 1m 58s  "
       ]
      },
      {
       "output_type": "stream",
       "stream": "stdout",
       "text": [
        "\r",
        "78% [============================>        ] 3,854,771,436 9.74M/s  eta 1m 58s  "
       ]
      },
      {
       "output_type": "stream",
       "stream": "stdout",
       "text": [
        "\r",
        "78% [============================>        ] 3,856,976,706 9.68M/s  eta 1m 58s  "
       ]
      },
      {
       "output_type": "stream",
       "stream": "stdout",
       "text": [
        "\r",
        "78% [============================>        ] 3,859,190,220 9.93M/s  eta 1m 58s  "
       ]
      },
      {
       "output_type": "stream",
       "stream": "stdout",
       "text": [
        "\r",
        "78% [============================>        ] 3,861,432,588 9.84M/s  eta 1m 56s  "
       ]
      },
      {
       "output_type": "stream",
       "stream": "stdout",
       "text": [
        "\r",
        "78% [============================>        ] 3,862,505,578 9.54M/s  eta 1m 56s  "
       ]
      },
      {
       "output_type": "stream",
       "stream": "stdout",
       "text": [
        "\r",
        "78% [============================>        ] 3,864,602,302 9.36M/s  eta 1m 56s  "
       ]
      },
      {
       "output_type": "stream",
       "stream": "stdout",
       "text": [
        "\r",
        "78% [============================>        ] 3,866,699,026 9.24M/s  eta 1m 56s  "
       ]
      },
      {
       "output_type": "stream",
       "stream": "stdout",
       "text": [
        "\r",
        "78% [============================>        ] 3,868,795,750 9.32M/s  eta 1m 56s  "
       ]
      },
      {
       "output_type": "stream",
       "stream": "stdout",
       "text": [
        "\r",
        "79% [============================>        ] 3,870,892,474 9.09M/s  eta 1m 55s  "
       ]
      },
      {
       "output_type": "stream",
       "stream": "stdout",
       "text": [
        "\r",
        "79% [============================>        ] 3,872,989,198 9.19M/s  eta 1m 55s  "
       ]
      },
      {
       "output_type": "stream",
       "stream": "stdout",
       "text": [
        "\r",
        "79% [============================>        ] 3,875,087,296 9.11M/s  eta 1m 55s  "
       ]
      },
      {
       "output_type": "stream",
       "stream": "stdout",
       "text": [
        "\r",
        "79% [============================>        ] 3,877,184,020 8.93M/s  eta 1m 55s  "
       ]
      },
      {
       "output_type": "stream",
       "stream": "stdout",
       "text": [
        "\r",
        "79% [============================>        ] 3,879,280,744 9.01M/s  eta 1m 55s  "
       ]
      },
      {
       "output_type": "stream",
       "stream": "stdout",
       "text": [
        "\r",
        "79% [============================>        ] 3,881,378,842 8.83M/s  eta 1m 54s  "
       ]
      },
      {
       "output_type": "stream",
       "stream": "stdout",
       "text": [
        "\r",
        "79% [============================>        ] 3,883,475,566 8.80M/s  eta 1m 54s  "
       ]
      },
      {
       "output_type": "stream",
       "stream": "stdout",
       "text": [
        "\r",
        "79% [============================>        ] 3,885,572,290 8.88M/s  eta 1m 54s  "
       ]
      },
      {
       "output_type": "stream",
       "stream": "stdout",
       "text": [
        "\r",
        "79% [============================>        ] 3,887,670,388 8.69M/s  eta 1m 54s  "
       ]
      },
      {
       "output_type": "stream",
       "stream": "stdout",
       "text": [
        "\r",
        "79% [============================>        ] 3,889,767,112 8.78M/s  eta 1m 54s  "
       ]
      },
      {
       "output_type": "stream",
       "stream": "stdout",
       "text": [
        "\r",
        "79% [============================>        ] 3,891,738,802 8.70M/s  eta 1m 53s  "
       ]
      },
      {
       "output_type": "stream",
       "stream": "stdout",
       "text": [
        "\r",
        "79% [============================>        ] 3,893,942,802 8.67M/s  eta 1m 53s  "
       ]
      },
      {
       "output_type": "stream",
       "stream": "stdout",
       "text": [
        "\r",
        "79% [============================>        ] 3,895,660,302 8.68M/s  eta 1m 53s  "
       ]
      },
      {
       "output_type": "stream",
       "stream": "stdout",
       "text": [
        "\r",
        "79% [============================>        ] 3,897,107,020 8.78M/s  eta 1m 53s  "
       ]
      },
      {
       "output_type": "stream",
       "stream": "stdout",
       "text": [
        "\r",
        "79% [============================>        ] 3,899,203,744 8.69M/s  eta 1m 53s  "
       ]
      },
      {
       "output_type": "stream",
       "stream": "stdout",
       "text": [
        "\r",
        "79% [============================>        ] 3,901,303,216 8.79M/s  eta 1m 52s  "
       ]
      },
      {
       "output_type": "stream",
       "stream": "stdout",
       "text": [
        "\r",
        "79% [============================>        ] 3,903,398,566 9.05M/s  eta 1m 52s  "
       ]
      },
      {
       "output_type": "stream",
       "stream": "stdout",
       "text": [
        "\r",
        "79% [============================>        ] 3,905,495,290 8.94M/s  eta 1m 52s  "
       ]
      },
      {
       "output_type": "stream",
       "stream": "stdout",
       "text": [
        "\r",
        "79% [============================>        ] 3,907,600,258 9.19M/s  eta 1m 52s  "
       ]
      },
      {
       "output_type": "stream",
       "stream": "stdout",
       "text": [
        "\r",
        "79% [============================>        ] 3,909,690,112 9.24M/s  eta 1m 52s  "
       ]
      },
      {
       "output_type": "stream",
       "stream": "stdout",
       "text": [
        "\r",
        "79% [============================>        ] 3,911,786,836 9.12M/s  eta 1m 51s  "
       ]
      },
      {
       "output_type": "stream",
       "stream": "stdout",
       "text": [
        "\r",
        "79% [============================>        ] 3,913,884,934 9.34M/s  eta 1m 51s  "
       ]
      },
      {
       "output_type": "stream",
       "stream": "stdout",
       "text": [
        "\r",
        "79% [============================>        ] 3,915,987,154 9.22M/s  eta 1m 51s  "
       ]
      },
      {
       "output_type": "stream",
       "stream": "stdout",
       "text": [
        "\r",
        "79% [============================>        ] 3,918,078,382 9.23M/s  eta 1m 51s  "
       ]
      },
      {
       "output_type": "stream",
       "stream": "stdout",
       "text": [
        "\r",
        "80% [============================>        ] 3,920,175,106 9.37M/s  eta 1m 51s  "
       ]
      },
      {
       "output_type": "stream",
       "stream": "stdout",
       "text": [
        "\r",
        "80% [============================>        ] 3,922,787,184 9.41M/s  eta 1m 49s  "
       ]
      },
      {
       "output_type": "stream",
       "stream": "stdout",
       "text": [
        "\r",
        "80% [============================>        ] 3,924,955,356 9.57M/s  eta 1m 49s  "
       ]
      },
      {
       "output_type": "stream",
       "stream": "stdout",
       "text": [
        "\r",
        "80% [============================>        ] 3,927,113,910 9.75M/s  eta 1m 49s  "
       ]
      },
      {
       "output_type": "stream",
       "stream": "stdout",
       "text": [
        "\r",
        "80% [============================>        ] 3,928,564,750 9.44M/s  eta 1m 49s  "
       ]
      },
      {
       "output_type": "stream",
       "stream": "stdout",
       "text": [
        "\r",
        "80% [============================>        ] 3,930,662,848 9.54M/s  eta 1m 49s  "
       ]
      },
      {
       "output_type": "stream",
       "stream": "stdout",
       "text": [
        "\r",
        "80% [============================>        ] 3,932,759,572 9.35M/s  eta 1m 48s  "
       ]
      },
      {
       "output_type": "stream",
       "stream": "stdout",
       "text": [
        "\r",
        "80% [============================>        ] 3,934,857,670 9.34M/s  eta 1m 48s  "
       ]
      },
      {
       "output_type": "stream",
       "stream": "stdout",
       "text": [
        "\r",
        "80% [============================>        ] 3,936,954,394 9.42M/s  eta 1m 48s  "
       ]
      },
      {
       "output_type": "stream",
       "stream": "stdout",
       "text": [
        "\r",
        "80% [============================>        ] 3,939,052,492 9.23M/s  eta 1m 48s  "
       ]
      },
      {
       "output_type": "stream",
       "stream": "stdout",
       "text": [
        "\r",
        "80% [============================>        ] 3,941,147,842 9.03M/s  eta 1m 47s  "
       ]
      },
      {
       "output_type": "stream",
       "stream": "stdout",
       "text": [
        "\r",
        "80% [============================>        ] 3,943,244,566 8.89M/s  eta 1m 47s  "
       ]
      },
      {
       "output_type": "stream",
       "stream": "stdout",
       "text": [
        "\r",
        "80% [============================>        ] 3,945,342,664 8.97M/s  eta 1m 47s  "
       ]
      },
      {
       "output_type": "stream",
       "stream": "stdout",
       "text": [
        "\r",
        "80% [============================>        ] 3,947,440,762 8.80M/s  eta 1m 47s  "
       ]
      },
      {
       "output_type": "stream",
       "stream": "stdout",
       "text": [
        "\r",
        "80% [============================>        ] 3,950,146,272 9.03M/s  eta 1m 47s  "
       ]
      },
      {
       "output_type": "stream",
       "stream": "stdout",
       "text": [
        "\r",
        "80% [============================>        ] 3,952,379,022 8.96M/s  eta 1m 46s  "
       ]
      },
      {
       "output_type": "stream",
       "stream": "stdout",
       "text": [
        "\r",
        "80% [============================>        ] 3,953,926,168 8.97M/s  eta 1m 46s  "
       ]
      },
      {
       "output_type": "stream",
       "stream": "stdout",
       "text": [
        "\r",
        "80% [============================>        ] 3,955,827,658 8.88M/s  eta 1m 46s  "
       ]
      },
      {
       "output_type": "stream",
       "stream": "stdout",
       "text": [
        "\r",
        "80% [============================>        ] 3,957,924,382 8.75M/s  eta 1m 46s  "
       ]
      },
      {
       "output_type": "stream",
       "stream": "stdout",
       "text": [
        "\r",
        "80% [============================>        ] 3,960,000,600 8.73M/s  eta 1m 46s  "
       ]
      },
      {
       "output_type": "stream",
       "stream": "stdout",
       "text": [
        "\r",
        "80% [============================>        ] 3,961,898,094 8.73M/s  eta 1m 45s  "
       ]
      },
      {
       "output_type": "stream",
       "stream": "stdout",
       "text": [
        "\r",
        "80% [============================>        ] 3,963,742,002 8.63M/s  eta 1m 45s  "
       ]
      },
      {
       "output_type": "stream",
       "stream": "stdout",
       "text": [
        "\r",
        "80% [============================>        ] 3,965,602,398 8.66M/s  eta 1m 45s  "
       ]
      },
      {
       "output_type": "stream",
       "stream": "stdout",
       "text": [
        "\r",
        "80% [============================>        ] 3,967,363,762 8.75M/s  eta 1m 45s  "
       ]
      },
      {
       "output_type": "stream",
       "stream": "stdout",
       "text": [
        "\r",
        "81% [============================>        ] 3,969,459,112 8.68M/s  eta 1m 45s  "
       ]
      },
      {
       "output_type": "stream",
       "stream": "stdout",
       "text": [
        "\r",
        "81% [============================>        ] 3,971,555,836 8.87M/s  eta 1m 44s  "
       ]
      },
      {
       "output_type": "stream",
       "stream": "stdout",
       "text": [
        "\r",
        "81% [=============================>       ] 3,973,653,934 9.17M/s  eta 1m 44s  "
       ]
      },
      {
       "output_type": "stream",
       "stream": "stdout",
       "text": [
        "\r",
        "81% [=============================>       ] 3,975,750,658 9.19M/s  eta 1m 44s  "
       ]
      },
      {
       "output_type": "stream",
       "stream": "stdout",
       "text": [
        "\r",
        "81% [=============================>       ] 3,977,848,756 9.10M/s  eta 1m 44s  "
       ]
      },
      {
       "output_type": "stream",
       "stream": "stdout",
       "text": [
        "\r",
        "81% [=============================>       ] 3,979,946,854 9.19M/s  eta 1m 44s  "
       ]
      },
      {
       "output_type": "stream",
       "stream": "stdout",
       "text": [
        "\r",
        "81% [=============================>       ] 3,982,043,578 9.28M/s  eta 1m 43s  "
       ]
      },
      {
       "output_type": "stream",
       "stream": "stdout",
       "text": [
        "\r",
        "81% [=============================>       ] 3,984,144,008 9.26M/s  eta 1m 43s  "
       ]
      },
      {
       "output_type": "stream",
       "stream": "stdout",
       "text": [
        "\r",
        "81% [=============================>       ] 3,986,253,410 9.16M/s  eta 1m 43s  "
       ]
      },
      {
       "output_type": "stream",
       "stream": "stdout",
       "text": [
        "\r",
        "81% [=============================>       ] 3,988,866,966 9.53M/s  eta 1m 43s  "
       ]
      },
      {
       "output_type": "stream",
       "stream": "stdout",
       "text": [
        "\r",
        "81% [=============================>       ] 3,990,432,286 9.19M/s  eta 1m 43s  "
       ]
      },
      {
       "output_type": "stream",
       "stream": "stdout",
       "text": [
        "\r",
        "81% [=============================>       ] 3,992,067,012 9.38M/s  eta 1m 41s  "
       ]
      },
      {
       "output_type": "stream",
       "stream": "stdout",
       "text": [
        "\r",
        "81% [=============================>       ] 3,993,217,050 9.00M/s  eta 1m 41s  "
       ]
      },
      {
       "output_type": "stream",
       "stream": "stdout",
       "text": [
        "\r",
        "81% [=============================>       ] 3,994,443,928 8.77M/s  eta 1m 41s  "
       ]
      },
      {
       "output_type": "stream",
       "stream": "stdout",
       "text": [
        "\r",
        "81% [=============================>       ] 3,995,681,612 8.45M/s  eta 1m 41s  "
       ]
      },
      {
       "output_type": "stream",
       "stream": "stdout",
       "text": [
        "\r",
        "81% [=============================>       ] 3,997,490,190 8.27M/s  eta 1m 41s  "
       ]
      },
      {
       "output_type": "stream",
       "stream": "stdout",
       "text": [
        "\r",
        "81% [=============================>       ] 3,998,594,782 8.11M/s  eta 1m 41s  "
       ]
      },
      {
       "output_type": "stream",
       "stream": "stdout",
       "text": [
        "\r",
        "81% [=============================>       ] 3,999,871,250 7.61M/s  eta 1m 41s  "
       ]
      },
      {
       "output_type": "stream",
       "stream": "stdout",
       "text": [
        "\r",
        "81% [=============================>       ] 4,001,734,372 7.66M/s  eta 1m 41s  "
       ]
      },
      {
       "output_type": "stream",
       "stream": "stdout",
       "text": [
        "\r",
        "81% [=============================>       ] 4,003,013,068 7.32M/s  eta 1m 41s  "
       ]
      },
      {
       "output_type": "stream",
       "stream": "stdout",
       "text": [
        "\r",
        "81% [=============================>       ] 4,004,831,368 7.08M/s  eta 1m 41s  "
       ]
      },
      {
       "output_type": "stream",
       "stream": "stdout",
       "text": [
        "\r",
        "81% [=============================>       ] 4,006,160,152 6.74M/s  eta 1m 40s  "
       ]
      },
      {
       "output_type": "stream",
       "stream": "stdout",
       "text": [
        "\r",
        "81% [=============================>       ] 4,008,256,750 6.91M/s  eta 1m 40s  "
       ]
      },
      {
       "output_type": "stream",
       "stream": "stdout",
       "text": [
        "\r",
        "81% [=============================>       ] 4,009,310,006 6.61M/s  eta 1m 40s  "
       ]
      },
      {
       "output_type": "stream",
       "stream": "stdout",
       "text": [
        "\r",
        "81% [=============================>       ] 4,010,864,706 6.46M/s  eta 1m 40s  "
       ]
      },
      {
       "output_type": "stream",
       "stream": "stdout",
       "text": [
        "\r",
        "81% [=============================>       ] 4,011,414,870 6.03M/s  eta 1m 40s  "
       ]
      },
      {
       "output_type": "stream",
       "stream": "stdout",
       "text": [
        "\r",
        "81% [=============================>       ] 4,013,127,684 5.95M/s  eta 99s     "
       ]
      },
      {
       "output_type": "stream",
       "stream": "stdout",
       "text": [
        "\r",
        "81% [=============================>       ] 4,014,311,968 6.08M/s  eta 99s     "
       ]
      },
      {
       "output_type": "stream",
       "stream": "stdout",
       "text": [
        "\r",
        "81% [=============================>       ] 4,016,449,912 6.20M/s  eta 99s     "
       ]
      },
      {
       "output_type": "stream",
       "stream": "stdout",
       "text": [
        "\r",
        "82% [=============================>       ] 4,017,499,648 6.16M/s  eta 99s     "
       ]
      },
      {
       "output_type": "stream",
       "stream": "stdout",
       "text": [
        "\r",
        "82% [=============================>       ] 4,018,743,140 6.08M/s  eta 99s     "
       ]
      },
      {
       "output_type": "stream",
       "stream": "stdout",
       "text": [
        "\r",
        "82% [=============================>       ] 4,020,543,162 6.24M/s  eta 99s     "
       ]
      },
      {
       "output_type": "stream",
       "stream": "stdout",
       "text": [
        "\r",
        "82% [=============================>       ] 4,021,672,486 5.95M/s  eta 99s     "
       ]
      },
      {
       "output_type": "stream",
       "stream": "stdout",
       "text": [
        "\r",
        "82% [=============================>       ] 4,022,936,380 6.05M/s  eta 99s     "
       ]
      },
      {
       "output_type": "stream",
       "stream": "stdout",
       "text": [
        "\r",
        "82% [=============================>       ] 4,024,751,724 6.17M/s  eta 99s     "
       ]
      },
      {
       "output_type": "stream",
       "stream": "stdout",
       "text": [
        "\r",
        "82% [=============================>       ] 4,025,723,142 5.93M/s  eta 99s     "
       ]
      },
      {
       "output_type": "stream",
       "stream": "stdout",
       "text": [
        "\r",
        "82% [=============================>       ] 4,026,768,756 5.81M/s  eta 98s     "
       ]
      },
      {
       "output_type": "stream",
       "stream": "stdout",
       "text": [
        "\r",
        "82% [=============================>       ] 4,027,360,764 5.78M/s  eta 98s     "
       ]
      },
      {
       "output_type": "stream",
       "stream": "stdout",
       "text": [
        "\r",
        "82% [=============================>       ] 4,028,873,620 5.85M/s  eta 98s     "
       ]
      },
      {
       "output_type": "stream",
       "stream": "stdout",
       "text": [
        "\r",
        "82% [=============================>       ] 4,030,009,918 5.61M/s  eta 98s     "
       ]
      },
      {
       "output_type": "stream",
       "stream": "stdout",
       "text": [
        "\r",
        "82% [=============================>       ] 4,031,234,152 5.52M/s  eta 98s     "
       ]
      },
      {
       "output_type": "stream",
       "stream": "stdout",
       "text": [
        "\r",
        "82% [=============================>       ] 4,032,911,910 5.64M/s  eta 97s     "
       ]
      },
      {
       "output_type": "stream",
       "stream": "stdout",
       "text": [
        "\r",
        "82% [=============================>       ] 4,034,469,922 5.71M/s  eta 97s     "
       ]
      },
      {
       "output_type": "stream",
       "stream": "stdout",
       "text": [
        "\r",
        "82% [=============================>       ] 4,036,568,020 5.92M/s  eta 97s     "
       ]
      },
      {
       "output_type": "stream",
       "stream": "stdout",
       "text": [
        "\r",
        "82% [=============================>       ] 4,038,214,072 5.77M/s  eta 97s     "
       ]
      },
      {
       "output_type": "stream",
       "stream": "stdout",
       "text": [
        "\r",
        "82% [=============================>       ] 4,039,718,312 6.04M/s  eta 97s     "
       ]
      },
      {
       "output_type": "stream",
       "stream": "stdout",
       "text": [
        "\r",
        "82% [=============================>       ] 4,041,558,492 6.27M/s  eta 96s     "
       ]
      },
      {
       "output_type": "stream",
       "stream": "stdout",
       "text": [
        "\r",
        "82% [=============================>       ] 4,042,799,214 6.27M/s  eta 96s     "
       ]
      },
      {
       "output_type": "stream",
       "stream": "stdout",
       "text": [
        "\r",
        "82% [=============================>       ] 4,043,907,928 6.25M/s  eta 96s     "
       ]
      },
      {
       "output_type": "stream",
       "stream": "stdout",
       "text": [
        "\r",
        "82% [=============================>       ] 4,044,972,674 6.19M/s  eta 96s     "
       ]
      },
      {
       "output_type": "stream",
       "stream": "stdout",
       "text": [
        "\r",
        "82% [=============================>       ] 4,046,690,382 6.30M/s  eta 96s     "
       ]
      },
      {
       "output_type": "stream",
       "stream": "stdout",
       "text": [
        "\r",
        "82% [=============================>       ] 4,048,107,748 6.28M/s  eta 96s     "
       ]
      },
      {
       "output_type": "stream",
       "stream": "stdout",
       "text": [
        "\r",
        "82% [=============================>       ] 4,049,832,616 6.52M/s  eta 96s     "
       ]
      },
      {
       "output_type": "stream",
       "stream": "stdout",
       "text": [
        "\r",
        "82% [=============================>       ] 4,051,961,046 6.81M/s  eta 96s     "
       ]
      },
      {
       "output_type": "stream",
       "stream": "stdout",
       "text": [
        "\r",
        "82% [=============================>       ] 4,053,214,030 6.85M/s  eta 96s     "
       ]
      },
      {
       "output_type": "stream",
       "stream": "stdout",
       "text": [
        "\r",
        "82% [=============================>       ] 4,055,236,662 7.07M/s  eta 96s     "
       ]
      },
      {
       "output_type": "stream",
       "stream": "stdout",
       "text": [
        "\r",
        "82% [=============================>       ] 4,056,490,938 7.17M/s  eta 95s     "
       ]
      },
      {
       "output_type": "stream",
       "stream": "stdout",
       "text": [
        "\r",
        "82% [=============================>       ] 4,058,587,744 7.16M/s  eta 95s     "
       ]
      },
      {
       "output_type": "stream",
       "stream": "stdout",
       "text": [
        "\r",
        "82% [=============================>       ] 4,060,487,986 7.18M/s  eta 95s     "
       ]
      },
      {
       "output_type": "stream",
       "stream": "stdout",
       "text": [
        "\r",
        "82% [=============================>       ] 4,062,648,018 7.14M/s  eta 95s     "
       ]
      },
      {
       "output_type": "stream",
       "stream": "stdout",
       "text": [
        "\r",
        "82% [=============================>       ] 4,063,956,838 7.23M/s  eta 95s     "
       ]
      },
      {
       "output_type": "stream",
       "stream": "stdout",
       "text": [
        "\r",
        "83% [=============================>       ] 4,065,929,026 7.23M/s  eta 94s     "
       ]
      },
      {
       "output_type": "stream",
       "stream": "stdout",
       "text": [
        "\r",
        "83% [=============================>       ] 4,068,024,376 7.45M/s  eta 94s     "
       ]
      },
      {
       "output_type": "stream",
       "stream": "stdout",
       "text": [
        "\r",
        "83% [=============================>       ] 4,070,005,788 7.67M/s  eta 94s     "
       ]
      },
      {
       "output_type": "stream",
       "stream": "stdout",
       "text": [
        "\r",
        "83% [=============================>       ] 4,071,750,768 7.80M/s  eta 94s     "
       ]
      },
      {
       "output_type": "stream",
       "stream": "stdout",
       "text": [
        "\r",
        "83% [=============================>       ] 4,073,269,060 7.84M/s  eta 94s     "
       ]
      },
      {
       "output_type": "stream",
       "stream": "stdout",
       "text": [
        "\r",
        "83% [=============================>       ] 4,075,261,130 7.88M/s  eta 93s     "
       ]
      },
      {
       "output_type": "stream",
       "stream": "stdout",
       "text": [
        "\r",
        "83% [=============================>       ] 4,077,260,508 7.97M/s  eta 93s     "
       ]
      },
      {
       "output_type": "stream",
       "stream": "stdout",
       "text": [
        "\r",
        "83% [=============================>       ] 4,078,520,488 7.99M/s  eta 93s     "
       ]
      },
      {
       "output_type": "stream",
       "stream": "stdout",
       "text": [
        "\r",
        "83% [=============================>       ] 4,081,071,984 8.25M/s  eta 93s     "
       ]
      },
      {
       "output_type": "stream",
       "stream": "stdout",
       "text": [
        "\r",
        "83% [=============================>       ] 4,082,958,382 8.26M/s  eta 93s     "
       ]
      },
      {
       "output_type": "stream",
       "stream": "stdout",
       "text": [
        "\r",
        "83% [=============================>       ] 4,085,570,356 8.58M/s  eta 92s     "
       ]
      },
      {
       "output_type": "stream",
       "stream": "stdout",
       "text": [
        "\r",
        "83% [=============================>       ] 4,087,510,548 8.75M/s  eta 92s     "
       ]
      },
      {
       "output_type": "stream",
       "stream": "stdout",
       "text": [
        "\r",
        "83% [=============================>       ] 4,088,747,148 8.63M/s  eta 92s     "
       ]
      },
      {
       "output_type": "stream",
       "stream": "stdout",
       "text": [
        "\r",
        "83% [=============================>       ] 4,090,114,278 8.59M/s  eta 92s     "
       ]
      },
      {
       "output_type": "stream",
       "stream": "stdout",
       "text": [
        "\r",
        "83% [=============================>       ] 4,091,569,240 8.24M/s  eta 92s     "
       ]
      },
      {
       "output_type": "stream",
       "stream": "stdout",
       "text": [
        "\r",
        "83% [=============================>       ] 4,093,422,870 8.44M/s  eta 91s     "
       ]
      },
      {
       "output_type": "stream",
       "stream": "stdout",
       "text": [
        "\r",
        "83% [=============================>       ] 4,094,715,700 8.02M/s  eta 91s     "
       ]
      },
      {
       "output_type": "stream",
       "stream": "stdout",
       "text": [
        "\r",
        "83% [=============================>       ] 4,096,705,356 8.26M/s  eta 91s     "
       ]
      },
      {
       "output_type": "stream",
       "stream": "stdout",
       "text": [
        "\r",
        "83% [=============================>       ] 4,097,863,534 7.94M/s  eta 91s     "
       ]
      },
      {
       "output_type": "stream",
       "stream": "stdout",
       "text": [
        "\r",
        "83% [=============================>       ] 4,099,941,126 7.87M/s  eta 91s     "
       ]
      },
      {
       "output_type": "stream",
       "stream": "stdout",
       "text": [
        "\r",
        "83% [=============================>       ] 4,101,005,872 7.79M/s  eta 90s     "
       ]
      },
      {
       "output_type": "stream",
       "stream": "stdout",
       "text": [
        "\r",
        "83% [=============================>       ] 4,103,102,596 7.83M/s  eta 90s     "
       ]
      },
      {
       "output_type": "stream",
       "stream": "stdout",
       "text": [
        "\r",
        "83% [==============================>      ] 4,105,200,694 7.74M/s  eta 90s     "
       ]
      },
      {
       "output_type": "stream",
       "stream": "stdout",
       "text": [
        "\r",
        "83% [==============================>      ] 4,107,307,036 7.46M/s  eta 90s     "
       ]
      },
      {
       "output_type": "stream",
       "stream": "stdout",
       "text": [
        "\r",
        "83% [==============================>      ] 4,109,395,516 7.17M/s  eta 89s     "
       ]
      },
      {
       "output_type": "stream",
       "stream": "stdout",
       "text": [
        "\r",
        "83% [==============================>      ] 4,111,492,240 7.00M/s  eta 89s     "
       ]
      },
      {
       "output_type": "stream",
       "stream": "stdout",
       "text": [
        "\r",
        "83% [==============================>      ] 4,113,594,460 7.10M/s  eta 89s     "
       ]
      },
      {
       "output_type": "stream",
       "stream": "stdout",
       "text": [
        "\r",
        "84% [==============================>      ] 4,115,556,636 7.33M/s  eta 89s     "
       ]
      },
      {
       "output_type": "stream",
       "stream": "stdout",
       "text": [
        "\r",
        "84% [==============================>      ] 4,116,734,050 7.11M/s  eta 89s     "
       ]
      },
      {
       "output_type": "stream",
       "stream": "stdout",
       "text": [
        "\r",
        "84% [==============================>      ] 4,118,833,522 7.12M/s  eta 88s     "
       ]
      },
      {
       "output_type": "stream",
       "stream": "stdout",
       "text": [
        "\r",
        "84% [==============================>      ] 4,120,932,994 7.18M/s  eta 88s     "
       ]
      },
      {
       "output_type": "stream",
       "stream": "stdout",
       "text": [
        "\r",
        "84% [==============================>      ] 4,122,950,130 7.36M/s  eta 88s     "
       ]
      },
      {
       "output_type": "stream",
       "stream": "stdout",
       "text": [
        "\r",
        "84% [==============================>      ] 4,123,817,124 7.17M/s  eta 88s     "
       ]
      },
      {
       "output_type": "stream",
       "stream": "stdout",
       "text": [
        "\r",
        "84% [==============================>      ] 4,125,082,578 7.10M/s  eta 88s     "
       ]
      },
      {
       "output_type": "stream",
       "stream": "stdout",
       "text": [
        "\r",
        "84% [==============================>      ] 4,126,177,552 6.86M/s  eta 87s     "
       ]
      },
      {
       "output_type": "stream",
       "stream": "stdout",
       "text": [
        "\r",
        "84% [==============================>      ] 4,127,945,994 6.92M/s  eta 87s     "
       ]
      },
      {
       "output_type": "stream",
       "stream": "stdout",
       "text": [
        "\r",
        "84% [==============================>      ] 4,129,260,912 6.82M/s  eta 87s     "
       ]
      },
      {
       "output_type": "stream",
       "stream": "stdout",
       "text": [
        "\r",
        "84% [==============================>      ] 4,130,369,626 6.73M/s  eta 87s     "
       ]
      },
      {
       "output_type": "stream",
       "stream": "stdout",
       "text": [
        "\r",
        "84% [==============================>      ] 4,132,463,602 6.66M/s  eta 87s     "
       ]
      },
      {
       "output_type": "stream",
       "stream": "stdout",
       "text": [
        "\r",
        "84% [==============================>      ] 4,134,497,226 6.74M/s  eta 86s     "
       ]
      },
      {
       "output_type": "stream",
       "stream": "stdout",
       "text": [
        "\r",
        "84% [==============================>      ] 4,136,119,920 6.92M/s  eta 86s     "
       ]
      },
      {
       "output_type": "stream",
       "stream": "stdout",
       "text": [
        "\r",
        "84% [==============================>      ] 4,137,708,160 6.84M/s  eta 86s     "
       ]
      },
      {
       "output_type": "stream",
       "stream": "stdout",
       "text": [
        "\r",
        "84% [==============================>      ] 4,139,803,510 6.77M/s  eta 86s     "
       ]
      },
      {
       "output_type": "stream",
       "stream": "stdout",
       "text": [
        "\r",
        "84% [==============================>      ] 4,141,902,982 6.73M/s  eta 86s     "
       ]
      },
      {
       "output_type": "stream",
       "stream": "stdout",
       "text": [
        "\r",
        "84% [==============================>      ] 4,143,999,706 6.90M/s  eta 85s     "
       ]
      },
      {
       "output_type": "stream",
       "stream": "stdout",
       "text": [
        "\r",
        "84% [==============================>      ] 4,146,095,056 6.70M/s  eta 85s     "
       ]
      },
      {
       "output_type": "stream",
       "stream": "stdout",
       "text": [
        "\r",
        "84% [==============================>      ] 4,148,191,780 6.95M/s  eta 85s     "
       ]
      },
      {
       "output_type": "stream",
       "stream": "stdout",
       "text": [
        "\r",
        "84% [==============================>      ] 4,150,288,504 7.28M/s  eta 85s     "
       ]
      },
      {
       "output_type": "stream",
       "stream": "stdout",
       "text": [
        "\r",
        "84% [==============================>      ] 4,152,175,110 7.44M/s  eta 85s     "
       ]
      },
      {
       "output_type": "stream",
       "stream": "stdout",
       "text": [
        "\r",
        "84% [==============================>      ] 4,153,437,712 7.39M/s  eta 84s     "
       ]
      },
      {
       "output_type": "stream",
       "stream": "stdout",
       "text": [
        "\r",
        "84% [==============================>      ] 4,155,533,062 7.50M/s  eta 84s     "
       ]
      },
      {
       "output_type": "stream",
       "stream": "stdout",
       "text": [
        "\r",
        "84% [==============================>      ] 4,157,633,908 7.65M/s  eta 84s     "
       ]
      },
      {
       "output_type": "stream",
       "stream": "stdout",
       "text": [
        "\r",
        "84% [==============================>      ] 4,159,729,258 7.58M/s  eta 84s     "
       ]
      },
      {
       "output_type": "stream",
       "stream": "stdout",
       "text": [
        "\r",
        "84% [==============================>      ] 4,161,831,374 7.63M/s  eta 84s     "
       ]
      },
      {
       "output_type": "stream",
       "stream": "stdout",
       "text": [
        "\r",
        "85% [==============================>      ] 4,163,919,958 7.67M/s  eta 83s     "
       ]
      },
      {
       "output_type": "stream",
       "stream": "stdout",
       "text": [
        "\r",
        "85% [==============================>      ] 4,166,018,056 7.92M/s  eta 83s     "
       ]
      },
      {
       "output_type": "stream",
       "stream": "stdout",
       "text": [
        "\r",
        "85% [==============================>      ] 4,168,116,154 7.82M/s  eta 83s     "
       ]
      },
      {
       "output_type": "stream",
       "stream": "stdout",
       "text": [
        "\r",
        "85% [==============================>      ] 4,170,214,252 7.77M/s  eta 83s     "
       ]
      },
      {
       "output_type": "stream",
       "stream": "stdout",
       "text": [
        "\r",
        "85% [==============================>      ] 4,172,309,602 7.78M/s  eta 82s     "
       ]
      },
      {
       "output_type": "stream",
       "stream": "stdout",
       "text": [
        "\r",
        "85% [==============================>      ] 4,174,406,326 7.76M/s  eta 82s     "
       ]
      },
      {
       "output_type": "stream",
       "stream": "stdout",
       "text": [
        "\r",
        "85% [==============================>      ] 4,176,503,050 7.88M/s  eta 82s     "
       ]
      },
      {
       "output_type": "stream",
       "stream": "stdout",
       "text": [
        "\r",
        "85% [==============================>      ] 4,178,602,522 7.72M/s  eta 82s     "
       ]
      },
      {
       "output_type": "stream",
       "stream": "stdout",
       "text": [
        "\r",
        "85% [==============================>      ] 4,180,700,620 7.90M/s  eta 81s     "
       ]
      },
      {
       "output_type": "stream",
       "stream": "stdout",
       "text": [
        "\r",
        "85% [==============================>      ] 4,182,794,596 7.76M/s  eta 81s     "
       ]
      },
      {
       "output_type": "stream",
       "stream": "stdout",
       "text": [
        "\r",
        "85% [==============================>      ] 4,184,892,694 7.79M/s  eta 81s     "
       ]
      },
      {
       "output_type": "stream",
       "stream": "stdout",
       "text": [
        "\r",
        "85% [==============================>      ] 4,186,997,662 7.82M/s  eta 81s     "
       ]
      },
      {
       "output_type": "stream",
       "stream": "stdout",
       "text": [
        "\r",
        "85% [==============================>      ] 4,189,086,142 7.97M/s  eta 81s     "
       ]
      },
      {
       "output_type": "stream",
       "stream": "stdout",
       "text": [
        "\r",
        "85% [==============================>      ] 4,191,184,240 7.95M/s  eta 80s     "
       ]
      },
      {
       "output_type": "stream",
       "stream": "stdout",
       "text": [
        "\r",
        "85% [==============================>      ] 4,193,280,964 7.84M/s  eta 80s     "
       ]
      },
      {
       "output_type": "stream",
       "stream": "stdout",
       "text": [
        "\r",
        "85% [==============================>      ] 4,195,379,062 7.94M/s  eta 80s     "
       ]
      },
      {
       "output_type": "stream",
       "stream": "stdout",
       "text": [
        "\r",
        "85% [==============================>      ] 4,197,474,412 7.76M/s  eta 80s     "
       ]
      },
      {
       "output_type": "stream",
       "stream": "stdout",
       "text": [
        "\r",
        "85% [==============================>      ] 4,199,572,510 7.83M/s  eta 80s     "
       ]
      },
      {
       "output_type": "stream",
       "stream": "stdout",
       "text": [
        "\r",
        "85% [==============================>      ] 4,201,669,234 7.88M/s  eta 79s     "
       ]
      },
      {
       "output_type": "stream",
       "stream": "stdout",
       "text": [
        "\r",
        "85% [==============================>      ] 4,203,765,958 8.00M/s  eta 79s     "
       ]
      },
      {
       "output_type": "stream",
       "stream": "stdout",
       "text": [
        "\r",
        "85% [==============================>      ] 4,205,865,430 8.03M/s  eta 79s     "
       ]
      },
      {
       "output_type": "stream",
       "stream": "stdout",
       "text": [
        "\r",
        "85% [==============================>      ] 4,207,960,780 8.08M/s  eta 79s     "
       ]
      },
      {
       "output_type": "stream",
       "stream": "stdout",
       "text": [
        "\r",
        "85% [==============================>      ] 4,210,057,504 8.18M/s  eta 79s     "
       ]
      },
      {
       "output_type": "stream",
       "stream": "stdout",
       "text": [
        "\r",
        "85% [==============================>      ] 4,212,155,602 8.18M/s  eta 78s     "
       ]
      },
      {
       "output_type": "stream",
       "stream": "stdout",
       "text": [
        "\r",
        "86% [==============================>      ] 4,214,252,326 8.40M/s  eta 78s     "
       ]
      },
      {
       "output_type": "stream",
       "stream": "stdout",
       "text": [
        "\r",
        "86% [==============================>      ] 4,216,104,582 8.43M/s  eta 78s     "
       ]
      },
      {
       "output_type": "stream",
       "stream": "stdout",
       "text": [
        "\r",
        "86% [==============================>      ] 4,217,397,412 8.17M/s  eta 78s     "
       ]
      },
      {
       "output_type": "stream",
       "stream": "stdout",
       "text": [
        "\r",
        "86% [==============================>      ] 4,218,446,524 8.07M/s  eta 78s     "
       ]
      },
      {
       "output_type": "stream",
       "stream": "stdout",
       "text": [
        "\r",
        "86% [==============================>      ] 4,220,377,722 7.96M/s  eta 77s     "
       ]
      },
      {
       "output_type": "stream",
       "stream": "stdout",
       "text": [
        "\r",
        "86% [==============================>      ] 4,221,599,104 7.89M/s  eta 77s     "
       ]
      },
      {
       "output_type": "stream",
       "stream": "stdout",
       "text": [
        "\r",
        "86% [==============================>      ] 4,223,558,532 7.92M/s  eta 77s     "
       ]
      },
      {
       "output_type": "stream",
       "stream": "stdout",
       "text": [
        "\r",
        "86% [==============================>      ] 4,224,461,146 7.43M/s  eta 77s     "
       ]
      },
      {
       "output_type": "stream",
       "stream": "stdout",
       "text": [
        "\r",
        "86% [==============================>      ] 4,225,792,552 6.95M/s  eta 76s     "
       ]
      },
      {
       "output_type": "stream",
       "stream": "stdout",
       "text": [
        "\r",
        "86% [==============================>      ] 4,227,885,154 7.03M/s  eta 76s     "
       ]
      },
      {
       "output_type": "stream",
       "stream": "stdout",
       "text": [
        "\r",
        "86% [==============================>      ] 4,229,981,878 6.96M/s  eta 76s     "
       ]
      },
      {
       "output_type": "stream",
       "stream": "stdout",
       "text": [
        "\r",
        "86% [==============================>      ] 4,232,078,602 6.85M/s  eta 76s     "
       ]
      },
      {
       "output_type": "stream",
       "stream": "stdout",
       "text": [
        "\r",
        "86% [==============================>      ] 4,234,103,982 7.04M/s  eta 76s     "
       ]
      },
      {
       "output_type": "stream",
       "stream": "stdout",
       "text": [
        "\r",
        "86% [==============================>      ] 4,235,868,198 6.92M/s  eta 75s     "
       ]
      },
      {
       "output_type": "stream",
       "stream": "stdout",
       "text": [
        "\r",
        "86% [===============================>     ] 4,237,320,412 6.72M/s  eta 75s     "
       ]
      },
      {
       "output_type": "stream",
       "stream": "stdout",
       "text": [
        "\r",
        "86% [===============================>     ] 4,239,419,884 6.93M/s  eta 75s     "
       ]
      },
      {
       "output_type": "stream",
       "stream": "stdout",
       "text": [
        "\r",
        "86% [===============================>     ] 4,241,515,234 6.82M/s  eta 75s     "
       ]
      },
      {
       "output_type": "stream",
       "stream": "stdout",
       "text": [
        "\r",
        "86% [===============================>     ] 4,243,611,958 7.04M/s  eta 75s     "
       ]
      },
      {
       "output_type": "stream",
       "stream": "stdout",
       "text": [
        "\r",
        "86% [===============================>     ] 4,245,710,056 7.27M/s  eta 74s     "
       ]
      },
      {
       "output_type": "stream",
       "stream": "stdout",
       "text": [
        "\r",
        "86% [===============================>     ] 4,247,808,154 7.27M/s  eta 74s     "
       ]
      },
      {
       "output_type": "stream",
       "stream": "stdout",
       "text": [
        "\r",
        "86% [===============================>     ] 4,249,904,878 7.46M/s  eta 74s     "
       ]
      },
      {
       "output_type": "stream",
       "stream": "stdout",
       "text": [
        "\r",
        "86% [===============================>     ] 4,252,001,602 7.50M/s  eta 74s     "
       ]
      },
      {
       "output_type": "stream",
       "stream": "stdout",
       "text": [
        "\r",
        "86% [===============================>     ] 4,254,098,326 7.80M/s  eta 74s     "
       ]
      },
      {
       "output_type": "stream",
       "stream": "stdout",
       "text": [
        "\r",
        "86% [===============================>     ] 4,256,196,424 8.35M/s  eta 73s     "
       ]
      },
      {
       "output_type": "stream",
       "stream": "stdout",
       "text": [
        "\r",
        "86% [===============================>     ] 4,258,114,632 8.30M/s  eta 73s     "
       ]
      },
      {
       "output_type": "stream",
       "stream": "stdout",
       "text": [
        "\r",
        "86% [===============================>     ] 4,259,878,848 8.32M/s  eta 73s     "
       ]
      },
      {
       "output_type": "stream",
       "stream": "stdout",
       "text": [
        "\r",
        "86% [===============================>     ] 4,261,438,234 8.35M/s  eta 73s     "
       ]
      },
      {
       "output_type": "stream",
       "stream": "stdout",
       "text": [
        "\r",
        "87% [===============================>     ] 4,263,536,332 8.40M/s  eta 73s     "
       ]
      },
      {
       "output_type": "stream",
       "stream": "stdout",
       "text": [
        "\r",
        "87% [===============================>     ] 4,264,583,320 8.10M/s  eta 72s     "
       ]
      },
      {
       "output_type": "stream",
       "stream": "stdout",
       "text": [
        "\r",
        "87% [===============================>     ] 4,266,682,792 8.08M/s  eta 72s     "
       ]
      },
      {
       "output_type": "stream",
       "stream": "stdout",
       "text": [
        "\r",
        "87% [===============================>     ] 4,268,780,890 8.25M/s  eta 72s     "
       ]
      },
      {
       "output_type": "stream",
       "stream": "stdout",
       "text": [
        "\r",
        "87% [===============================>     ] 4,270,874,866 8.22M/s  eta 72s     "
       ]
      },
      {
       "output_type": "stream",
       "stream": "stdout",
       "text": [
        "\r",
        "87% [===============================>     ] 4,271,923,228 7.82M/s  eta 72s     "
       ]
      },
      {
       "output_type": "stream",
       "stream": "stdout",
       "text": [
        "\r",
        "87% [===============================>     ] 4,274,025,344 7.96M/s  eta 71s     "
       ]
      },
      {
       "output_type": "stream",
       "stream": "stdout",
       "text": [
        "\r",
        "87% [===============================>     ] 4,276,118,050 7.87M/s  eta 71s     "
       ]
      },
      {
       "output_type": "stream",
       "stream": "stdout",
       "text": [
        "\r",
        "87% [===============================>     ] 4,278,216,148 7.84M/s  eta 71s     "
       ]
      },
      {
       "output_type": "stream",
       "stream": "stdout",
       "text": [
        "\r",
        "87% [===============================>     ] 4,280,312,872 8.00M/s  eta 71s     "
       ]
      },
      {
       "output_type": "stream",
       "stream": "stdout",
       "text": [
        "\r",
        "87% [===============================>     ] 4,282,412,344 7.85M/s  eta 71s     "
       ]
      },
      {
       "output_type": "stream",
       "stream": "stdout",
       "text": [
        "\r",
        "87% [===============================>     ] 4,284,507,694 7.87M/s  eta 70s     "
       ]
      },
      {
       "output_type": "stream",
       "stream": "stdout",
       "text": [
        "\r",
        "87% [===============================>     ] 4,286,604,314 8.02M/s  eta 70s     "
       ]
      },
      {
       "output_type": "stream",
       "stream": "stdout",
       "text": [
        "\r",
        "87% [===============================>     ] 4,288,702,516 8.15M/s  eta 70s     "
       ]
      },
      {
       "output_type": "stream",
       "stream": "stdout",
       "text": [
        "\r",
        "87% [===============================>     ] 4,290,797,866 8.16M/s  eta 70s     "
       ]
      },
      {
       "output_type": "stream",
       "stream": "stdout",
       "text": [
        "\r",
        "87% [===============================>     ] 4,292,895,964 8.04M/s  eta 70s     "
       ]
      },
      {
       "output_type": "stream",
       "stream": "stdout",
       "text": [
        "\r",
        "87% [===============================>     ] 4,294,543,390 8.13M/s  eta 68s     "
       ]
      },
      {
       "output_type": "stream",
       "stream": "stdout",
       "text": [
        "\r",
        "87% [===============================>     ] 4,296,041,050 8.28M/s  eta 68s     "
       ]
      },
      {
       "output_type": "stream",
       "stream": "stdout",
       "text": [
        "\r",
        "87% [===============================>     ] 4,297,660,892 7.52M/s  eta 68s     "
       ]
      },
      {
       "output_type": "stream",
       "stream": "stdout",
       "text": [
        "\r",
        "87% [===============================>     ] 4,298,188,716 7.07M/s  eta 68s     "
       ]
      },
      {
       "output_type": "stream",
       "stream": "stdout",
       "text": [
        "\r",
        "87% [===============================>     ] 4,299,187,510 6.99M/s  eta 68s     "
       ]
      },
      {
       "output_type": "stream",
       "stream": "stdout",
       "text": [
        "\r",
        "87% [===============================>     ] 4,301,001,294 7.22M/s  eta 68s     "
       ]
      },
      {
       "output_type": "stream",
       "stream": "stdout",
       "text": [
        "\r",
        "87% [===============================>     ] 4,302,332,596 6.95M/s  eta 68s     "
       ]
      },
      {
       "output_type": "stream",
       "stream": "stdout",
       "text": [
        "\r",
        "87% [===============================>     ] 4,304,371,716 6.89M/s  eta 68s     "
       ]
      },
      {
       "output_type": "stream",
       "stream": "stdout",
       "text": [
        "\r",
        "87% [===============================>     ] 4,305,477,682 6.83M/s  eta 68s     "
       ]
      },
      {
       "output_type": "stream",
       "stream": "stdout",
       "text": [
        "\r",
        "87% [===============================>     ] 4,307,575,780 6.74M/s  eta 67s     "
       ]
      },
      {
       "output_type": "stream",
       "stream": "stdout",
       "text": [
        "\r",
        "87% [===============================>     ] 4,309,682,018 6.64M/s  eta 67s     "
       ]
      },
      {
       "output_type": "stream",
       "stream": "stdout",
       "text": [
        "\r",
        "88% [===============================>     ] 4,311,770,602 6.79M/s  eta 67s     "
       ]
      },
      {
       "output_type": "stream",
       "stream": "stdout",
       "text": [
        "\r",
        "88% [===============================>     ] 4,313,510,086 6.70M/s  eta 67s     "
       ]
      },
      {
       "output_type": "stream",
       "stream": "stdout",
       "text": [
        "\r",
        "88% [===============================>     ] 4,315,617,906 6.69M/s  eta 67s     "
       ]
      },
      {
       "output_type": "stream",
       "stream": "stdout",
       "text": [
        "\r",
        "88% [===============================>     ] 4,317,526,392 6.82M/s  eta 66s     "
       ]
      },
      {
       "output_type": "stream",
       "stream": "stdout",
       "text": [
        "\r",
        "88% [===============================>     ] 4,319,113,258 6.61M/s  eta 66s     "
       ]
      },
      {
       "output_type": "stream",
       "stream": "stdout",
       "text": [
        "\r",
        "88% [===============================>     ] 4,321,207,234 6.81M/s  eta 66s     "
       ]
      },
      {
       "output_type": "stream",
       "stream": "stdout",
       "text": [
        "\r",
        "88% [===============================>     ] 4,323,230,408 6.73M/s  eta 66s     "
       ]
      },
      {
       "output_type": "stream",
       "stream": "stdout",
       "text": [
        "\r",
        "88% [===============================>     ] 4,325,395,290 7.68M/s  eta 66s     "
       ]
      },
      {
       "output_type": "stream",
       "stream": "stdout",
       "text": [
        "\r",
        "88% [===============================>     ] 4,327,478,274 8.22M/s  eta 65s     "
       ]
      },
      {
       "output_type": "stream",
       "stream": "stdout",
       "text": [
        "\r",
        "88% [===============================>     ] 4,329,550,266 8.38M/s  eta 65s     "
       ]
      },
      {
       "output_type": "stream",
       "stream": "stdout",
       "text": [
        "\r",
        "88% [===============================>     ] 4,331,524,704 8.63M/s  eta 65s     "
       ]
      },
      {
       "output_type": "stream",
       "stream": "stdout",
       "text": [
        "\r",
        "88% [===============================>     ] 4,332,857,380 8.59M/s  eta 65s     "
       ]
      },
      {
       "output_type": "stream",
       "stream": "stdout",
       "text": [
        "\r",
        "88% [===============================>     ] 4,334,952,730 8.58M/s  eta 65s     "
       ]
      },
      {
       "output_type": "stream",
       "stream": "stdout",
       "text": [
        "\r",
        "88% [===============================>     ] 4,337,050,828 8.63M/s  eta 64s     "
       ]
      },
      {
       "output_type": "stream",
       "stream": "stdout",
       "text": [
        "\r",
        "88% [===============================>     ] 4,339,147,552 8.86M/s  eta 64s     "
       ]
      },
      {
       "output_type": "stream",
       "stream": "stdout",
       "text": [
        "\r",
        "88% [===============================>     ] 4,341,244,276 8.97M/s  eta 64s     "
       ]
      },
      {
       "output_type": "stream",
       "stream": "stdout",
       "text": [
        "\r",
        "88% [===============================>     ] 4,343,342,374 8.87M/s  eta 64s     "
       ]
      },
      {
       "output_type": "stream",
       "stream": "stdout",
       "text": [
        "\r",
        "88% [===============================>     ] 4,345,440,472 9.07M/s  eta 64s     "
       ]
      },
      {
       "output_type": "stream",
       "stream": "stdout",
       "text": [
        "\r",
        "88% [===============================>     ] 4,347,538,570 9.02M/s  eta 62s     "
       ]
      },
      {
       "output_type": "stream",
       "stream": "stdout",
       "text": [
        "\r",
        "88% [===============================>     ] 4,349,632,546 9.20M/s  eta 62s     "
       ]
      },
      {
       "output_type": "stream",
       "stream": "stdout",
       "text": [
        "\r",
        "88% [===============================>     ] 4,351,730,644 9.09M/s  eta 62s     "
       ]
      },
      {
       "output_type": "stream",
       "stream": "stdout",
       "text": [
        "\r",
        "88% [===============================>     ] 4,353,790,374 9.31M/s  eta 62s     "
       ]
      },
      {
       "output_type": "stream",
       "stream": "stdout",
       "text": [
        "\r",
        "88% [===============================>     ] 4,355,691,886 9.38M/s  eta 62s     "
       ]
      },
      {
       "output_type": "stream",
       "stream": "stdout",
       "text": [
        "\r",
        "88% [===============================>     ] 4,357,706,274 9.24M/s  eta 61s     "
       ]
      },
      {
       "output_type": "stream",
       "stream": "stdout",
       "text": [
        "\r",
        "89% [===============================>     ] 4,359,743,916 9.23M/s  eta 61s     "
       ]
      },
      {
       "output_type": "stream",
       "stream": "stdout",
       "text": [
        "\r",
        "89% [===============================>     ] 4,361,177,956 9.06M/s  eta 61s     "
       ]
      },
      {
       "output_type": "stream",
       "stream": "stdout",
       "text": [
        "\r",
        "89% [===============================>     ] 4,363,265,374 9.18M/s  eta 61s     "
       ]
      },
      {
       "output_type": "stream",
       "stream": "stdout",
       "text": [
        "\r",
        "89% [===============================>     ] 4,365,362,098 9.06M/s  eta 61s     "
       ]
      },
      {
       "output_type": "stream",
       "stream": "stdout",
       "text": [
        "\r",
        "89% [===============================>     ] 4,367,458,822 9.23M/s  eta 60s     "
       ]
      },
      {
       "output_type": "stream",
       "stream": "stdout",
       "text": [
        "\r",
        "89% [================================>    ] 4,369,555,546 9.23M/s  eta 60s     "
       ]
      },
      {
       "output_type": "stream",
       "stream": "stdout",
       "text": [
        "\r",
        "89% [================================>    ] 4,371,668,654 9.04M/s  eta 60s     "
       ]
      },
      {
       "output_type": "stream",
       "stream": "stdout",
       "text": [
        "\r",
        "89% [================================>    ] 4,373,750,368 9.18M/s  eta 60s     "
       ]
      },
      {
       "output_type": "stream",
       "stream": "stdout",
       "text": [
        "\r",
        "89% [================================>    ] 4,375,847,092 9.17M/s  eta 60s     "
       ]
      },
      {
       "output_type": "stream",
       "stream": "stdout",
       "text": [
        "\r",
        "89% [================================>    ] 4,377,945,190 9.07M/s  eta 59s     "
       ]
      },
      {
       "output_type": "stream",
       "stream": "stdout",
       "text": [
        "\r",
        "89% [================================>    ] 4,380,041,914 9.25M/s  eta 59s     "
       ]
      },
      {
       "output_type": "stream",
       "stream": "stdout",
       "text": [
        "\r",
        "89% [================================>    ] 4,382,138,638 9.16M/s  eta 59s     "
       ]
      },
      {
       "output_type": "stream",
       "stream": "stdout",
       "text": [
        "\r",
        "89% [================================>    ] 4,384,238,110 9.17M/s  eta 59s     "
       ]
      },
      {
       "output_type": "stream",
       "stream": "stdout",
       "text": [
        "\r",
        "89% [================================>    ] 4,386,334,834 9.46M/s  eta 59s     "
       ]
      },
      {
       "output_type": "stream",
       "stream": "stdout",
       "text": [
        "\r",
        "89% [================================>    ] 4,388,430,184 9.33M/s  eta 58s     "
       ]
      },
      {
       "output_type": "stream",
       "stream": "stdout",
       "text": [
        "\r",
        "89% [================================>    ] 4,390,531,030 9.33M/s  eta 58s     "
       ]
      },
      {
       "output_type": "stream",
       "stream": "stdout",
       "text": [
        "\r",
        "89% [================================>    ] 4,392,625,006 9.45M/s  eta 58s     "
       ]
      },
      {
       "output_type": "stream",
       "stream": "stdout",
       "text": [
        "\r",
        "89% [================================>    ] 4,394,721,730 9.33M/s  eta 58s     "
       ]
      },
      {
       "output_type": "stream",
       "stream": "stdout",
       "text": [
        "\r",
        "89% [================================>    ] 4,396,818,454 9.36M/s  eta 58s     "
       ]
      },
      {
       "output_type": "stream",
       "stream": "stdout",
       "text": [
        "\r",
        "89% [================================>    ] 4,398,917,926 9.52M/s  eta 57s     "
       ]
      },
      {
       "output_type": "stream",
       "stream": "stdout",
       "text": [
        "\r",
        "89% [================================>    ] 4,401,013,276 9.44M/s  eta 57s     "
       ]
      },
      {
       "output_type": "stream",
       "stream": "stdout",
       "text": [
        "\r",
        "89% [================================>    ] 4,403,111,374 9.34M/s  eta 57s     "
       ]
      },
      {
       "output_type": "stream",
       "stream": "stdout",
       "text": [
        "\r",
        "89% [================================>    ] 4,405,706,964 9.70M/s  eta 57s     "
       ]
      },
      {
       "output_type": "stream",
       "stream": "stdout",
       "text": [
        "\r",
        "89% [================================>    ] 4,407,877,884 9.60M/s  eta 57s     "
       ]
      },
      {
       "output_type": "stream",
       "stream": "stdout",
       "text": [
        "\r",
        "90% [================================>    ] 4,409,417,930 9.29M/s  eta 55s     "
       ]
      },
      {
       "output_type": "stream",
       "stream": "stdout",
       "text": [
        "\r",
        "90% [================================>    ] 4,411,499,644 9.46M/s  eta 55s     "
       ]
      },
      {
       "output_type": "stream",
       "stream": "stdout",
       "text": [
        "\r",
        "90% [================================>    ] 4,413,596,368 9.45M/s  eta 55s     "
       ]
      },
      {
       "output_type": "stream",
       "stream": "stdout",
       "text": [
        "\r",
        "90% [================================>    ] 4,415,693,092 9.42M/s  eta 55s     "
       ]
      },
      {
       "output_type": "stream",
       "stream": "stdout",
       "text": [
        "\r",
        "90% [================================>    ] 4,417,791,086 9.24M/s  eta 55s     "
       ]
      },
      {
       "output_type": "stream",
       "stream": "stdout",
       "text": [
        "\r",
        "90% [================================>    ] 4,419,887,914 9.27M/s  eta 54s     "
       ]
      },
      {
       "output_type": "stream",
       "stream": "stdout",
       "text": [
        "\r",
        "90% [================================>    ] 4,421,987,386 9.25M/s  eta 54s     "
       ]
      },
      {
       "output_type": "stream",
       "stream": "stdout",
       "text": [
        "\r",
        "90% [================================>    ] 4,424,088,232 9.13M/s  eta 54s     "
       ]
      },
      {
       "output_type": "stream",
       "stream": "stdout",
       "text": [
        "\r",
        "90% [================================>    ] 4,426,195,844 9.34M/s  eta 54s     "
       ]
      },
      {
       "output_type": "stream",
       "stream": "stdout",
       "text": [
        "\r",
        "90% [================================>    ] 4,428,175,986 9.32M/s  eta 54s     "
       ]
      },
      {
       "output_type": "stream",
       "stream": "stdout",
       "text": [
        "\r",
        "90% [================================>    ] 4,430,322,174 9.22M/s  eta 53s     "
       ]
      },
      {
       "output_type": "stream",
       "stream": "stdout",
       "text": [
        "\r",
        "90% [================================>    ] 4,432,424,394 9.38M/s  eta 53s     "
       ]
      },
      {
       "output_type": "stream",
       "stream": "stdout",
       "text": [
        "\r",
        "90% [================================>    ] 4,434,548,598 9.56M/s  eta 53s     "
       ]
      },
      {
       "output_type": "stream",
       "stream": "stdout",
       "text": [
        "\r",
        "90% [================================>    ] 4,436,557,386 9.40M/s  eta 53s     "
       ]
      },
      {
       "output_type": "stream",
       "stream": "stdout",
       "text": [
        "\r",
        "90% [================================>    ] 4,438,698,078 9.52M/s  eta 53s     "
       ]
      },
      {
       "output_type": "stream",
       "stream": "stdout",
       "text": [
        "\r",
        "90% [================================>    ] 4,440,819,534 9.51M/s  eta 52s     "
       ]
      },
      {
       "output_type": "stream",
       "stream": "stdout",
       "text": [
        "\r",
        "90% [================================>    ] 4,442,917,632 9.68M/s  eta 52s     "
       ]
      },
      {
       "output_type": "stream",
       "stream": "stdout",
       "text": [
        "\r",
        "90% [================================>    ] 4,444,793,142 9.50M/s  eta 52s     "
       ]
      },
      {
       "output_type": "stream",
       "stream": "stdout",
       "text": [
        "\r",
        "90% [================================>    ] 4,446,961,314 9.65M/s  eta 52s     "
       ]
      },
      {
       "output_type": "stream",
       "stream": "stdout",
       "text": [
        "\r",
        "90% [================================>    ] 4,448,998,956 9.51M/s  eta 52s     "
       ]
      },
      {
       "output_type": "stream",
       "stream": "stdout",
       "text": [
        "\r",
        "90% [================================>    ] 4,451,145,144 9.57M/s  eta 51s     "
       ]
      },
      {
       "output_type": "stream",
       "stream": "stdout",
       "text": [
        "\r",
        "90% [================================>    ] 4,453,269,348 9.75M/s  eta 51s     "
       ]
      },
      {
       "output_type": "stream",
       "stream": "stdout",
       "text": [
        "\r",
        "90% [================================>    ] 4,455,396,300 9.84M/s  eta 51s     "
       ]
      },
      {
       "output_type": "stream",
       "stream": "stdout",
       "text": [
        "\r",
        "90% [================================>    ] 4,457,510,886 9.78M/s  eta 51s     "
       ]
      },
      {
       "output_type": "stream",
       "stream": "stdout",
       "text": [
        "\r",
        "91% [================================>    ] 4,459,733,914 9.71M/s  eta 51s     "
       ]
      },
      {
       "output_type": "stream",
       "stream": "stdout",
       "text": [
        "\r",
        "91% [================================>    ] 4,462,348,636 9.89M/s  eta 49s     "
       ]
      },
      {
       "output_type": "stream",
       "stream": "stdout",
       "text": [
        "\r",
        "91% [================================>    ] 4,463,943,746 9.94M/s  eta 49s     "
       ]
      },
      {
       "output_type": "stream",
       "stream": "stdout",
       "text": [
        "\r",
        "91% [================================>    ] 4,466,612,262 9.96M/s  eta 49s     "
       ]
      },
      {
       "output_type": "stream",
       "stream": "stdout",
       "text": [
        "\r",
        "91% [================================>    ] 4,468,846,386 10.1M/s  eta 49s     "
       ]
      },
      {
       "output_type": "stream",
       "stream": "stdout",
       "text": [
        "\r",
        "91% [================================>    ] 4,471,059,900 10.2M/s  eta 49s     "
       ]
      },
      {
       "output_type": "stream",
       "stream": "stdout",
       "text": [
        "\r",
        "91% [================================>    ] 4,473,200,592 10.1M/s  eta 48s     "
       ]
      },
      {
       "output_type": "stream",
       "stream": "stdout",
       "text": [
        "\r",
        "91% [================================>    ] 4,475,398,992 10.1M/s  eta 48s     "
       ]
      },
      {
       "output_type": "stream",
       "stream": "stdout",
       "text": [
        "\r",
        "91% [================================>    ] 4,477,560,190 9.99M/s  eta 48s     "
       ]
      },
      {
       "output_type": "stream",
       "stream": "stdout",
       "text": [
        "\r",
        "91% [================================>    ] 4,480,180,512 10.3M/s  eta 48s     "
       ]
      },
      {
       "output_type": "stream",
       "stream": "stdout",
       "text": [
        "\r",
        "91% [================================>    ] 4,482,405,018 10.3M/s  eta 48s     "
       ]
      },
      {
       "output_type": "stream",
       "stream": "stdout",
       "text": [
        "\r",
        "91% [================================>    ] 4,484,472,888 10.3M/s  eta 47s     "
       ]
      },
      {
       "output_type": "stream",
       "stream": "stdout",
       "text": [
        "\r",
        "91% [================================>    ] 4,486,613,580 10.3M/s  eta 47s     "
       ]
      },
      {
       "output_type": "stream",
       "stream": "stdout",
       "text": [
        "\r",
        "91% [================================>    ] 4,488,832,590 10.3M/s  eta 47s     "
       ]
      },
      {
       "output_type": "stream",
       "stream": "stdout",
       "text": [
        "\r",
        "91% [================================>    ] 4,491,048,852 10.3M/s  eta 47s     "
       ]
      },
      {
       "output_type": "stream",
       "stream": "stdout",
       "text": [
        "\r",
        "91% [================================>    ] 4,493,212,902 10.4M/s  eta 47s     "
       ]
      },
      {
       "output_type": "stream",
       "stream": "stdout",
       "text": [
        "\r",
        "91% [================================>    ] 4,495,297,260 10.3M/s  eta 45s     "
       ]
      },
      {
       "output_type": "stream",
       "stream": "stdout",
       "text": [
        "\r",
        "91% [================================>    ] 4,497,462,684 10.3M/s  eta 45s     "
       ]
      },
      {
       "output_type": "stream",
       "stream": "stdout",
       "text": [
        "\r",
        "91% [================================>    ] 4,499,579,914 10.3M/s  eta 45s     "
       ]
      },
      {
       "output_type": "stream",
       "stream": "stdout",
       "text": [
        "\r",
        "91% [=================================>   ] 4,502,218,098 10.4M/s  eta 45s     "
       ]
      },
      {
       "output_type": "stream",
       "stream": "stdout",
       "text": [
        "\r",
        "91% [=================================>   ] 4,504,004,112 10.4M/s  eta 45s     "
       ]
      },
      {
       "output_type": "stream",
       "stream": "stdout",
       "text": [
        "\r",
        "91% [=================================>   ] 4,506,408,798 10.4M/s  eta 44s     "
       ]
      },
      {
       "output_type": "stream",
       "stream": "stdout",
       "text": [
        "\r",
        "92% [=================================>   ] 4,508,647,044 10.3M/s  eta 44s     "
       ]
      },
      {
       "output_type": "stream",
       "stream": "stdout",
       "text": [
        "\r",
        "92% [=================================>   ] 4,510,894,908 10.3M/s  eta 44s     "
       ]
      },
      {
       "output_type": "stream",
       "stream": "stdout",
       "text": [
        "\r",
        "92% [=================================>   ] 4,513,031,478 10.4M/s  eta 44s     "
       ]
      },
      {
       "output_type": "stream",
       "stream": "stdout",
       "text": [
        "\r",
        "92% [=================================>   ] 4,515,262,854 10.4M/s  eta 44s     "
       ]
      },
      {
       "output_type": "stream",
       "stream": "stdout",
       "text": [
        "\r",
        "92% [=================================>   ] 4,517,404,816 10.2M/s  eta 43s     "
       ]
      },
      {
       "output_type": "stream",
       "stream": "stdout",
       "text": [
        "\r",
        "92% [=================================>   ] 4,520,041,626 10.5M/s  eta 43s     "
       ]
      },
      {
       "output_type": "stream",
       "stream": "stdout",
       "text": [
        "\r",
        "92% [=================================>   ] 4,522,294,986 10.4M/s  eta 43s     "
       ]
      },
      {
       "output_type": "stream",
       "stream": "stdout",
       "text": [
        "\r",
        "92% [=================================>   ] 4,523,712,746 10.2M/s  eta 43s     "
       ]
      },
      {
       "output_type": "stream",
       "stream": "stdout",
       "text": [
        "\r",
        "92% [=================================>   ] 4,526,396,376 10.4M/s  eta 43s     "
       ]
      },
      {
       "output_type": "stream",
       "stream": "stdout",
       "text": [
        "\r",
        "92% [=================================>   ] 4,528,582,410 10.4M/s  eta 42s     "
       ]
      },
      {
       "output_type": "stream",
       "stream": "stdout",
       "text": [
        "\r",
        "92% [=================================>   ] 4,530,841,266 10.4M/s  eta 42s     "
       ]
      },
      {
       "output_type": "stream",
       "stream": "stdout",
       "text": [
        "\r",
        "92% [=================================>   ] 4,532,086,006 9.97M/s  eta 42s     "
       ]
      },
      {
       "output_type": "stream",
       "stream": "stdout",
       "text": [
        "\r",
        "92% [=================================>   ] 4,533,135,742 9.73M/s  eta 42s     "
       ]
      },
      {
       "output_type": "stream",
       "stream": "stdout",
       "text": [
        "\r",
        "92% [=================================>   ] 4,535,235,214 9.41M/s  eta 42s     "
       ]
      },
      {
       "output_type": "stream",
       "stream": "stdout",
       "text": [
        "\r",
        "92% [=================================>   ] 4,537,327,816 9.35M/s  eta 41s     "
       ]
      },
      {
       "output_type": "stream",
       "stream": "stdout",
       "text": [
        "\r",
        "92% [=================================>   ] 4,539,425,914 9.27M/s  eta 41s     "
       ]
      },
      {
       "output_type": "stream",
       "stream": "stdout",
       "text": [
        "\r",
        "92% [=================================>   ] 4,541,532,256 9.39M/s  eta 41s     "
       ]
      },
      {
       "output_type": "stream",
       "stream": "stdout",
       "text": [
        "\r",
        "92% [=================================>   ] 4,543,624,546 9.23M/s  eta 41s     "
       ]
      },
      {
       "output_type": "stream",
       "stream": "stdout",
       "text": [
        "\r",
        "92% [=================================>   ] 4,546,209,456 9.17M/s  eta 41s     "
       ]
      },
      {
       "output_type": "stream",
       "stream": "stdout",
       "text": [
        "\r",
        "92% [=================================>   ] 4,548,350,148 9.17M/s  eta 39s     "
       ]
      },
      {
       "output_type": "stream",
       "stream": "stdout",
       "text": [
        "\r",
        "92% [=================================>   ] 4,550,519,694 9.30M/s  eta 39s     "
       ]
      },
      {
       "output_type": "stream",
       "stream": "stdout",
       "text": [
        "\r",
        "92% [=================================>   ] 4,552,009,006 9.07M/s  eta 39s     "
       ]
      },
      {
       "output_type": "stream",
       "stream": "stdout",
       "text": [
        "\r",
        "92% [=================================>   ] 4,554,105,730 8.79M/s  eta 39s     "
       ]
      },
      {
       "output_type": "stream",
       "stream": "stdout",
       "text": [
        "\r",
        "93% [=================================>   ] 4,556,210,698 8.66M/s  eta 39s     "
       ]
      },
      {
       "output_type": "stream",
       "stream": "stdout",
       "text": [
        "\r",
        "93% [=================================>   ] 4,557,896,596 8.58M/s  eta 38s     "
       ]
      },
      {
       "output_type": "stream",
       "stream": "stdout",
       "text": [
        "\r",
        "93% [=================================>   ] 4,559,350,288 8.33M/s  eta 38s     "
       ]
      },
      {
       "output_type": "stream",
       "stream": "stdout",
       "text": [
        "\r",
        "93% [=================================>   ] 4,561,445,638 8.40M/s  eta 38s     "
       ]
      },
      {
       "output_type": "stream",
       "stream": "stdout",
       "text": [
        "\r",
        "93% [=================================>   ] 4,563,557,520 8.69M/s  eta 38s     "
       ]
      },
      {
       "output_type": "stream",
       "stream": "stdout",
       "text": [
        "\r",
        "93% [=================================>   ] 4,565,640,460 8.63M/s  eta 38s     "
       ]
      },
      {
       "output_type": "stream",
       "stream": "stdout",
       "text": [
        "\r",
        "93% [=================================>   ] 4,567,737,184 8.76M/s  eta 37s     "
       ]
      },
      {
       "output_type": "stream",
       "stream": "stdout",
       "text": [
        "\r",
        "93% [=================================>   ] 4,568,785,546 8.44M/s  eta 37s     "
       ]
      },
      {
       "output_type": "stream",
       "stream": "stdout",
       "text": [
        "\r",
        "93% [=================================>   ] 4,571,392,128 8.48M/s  eta 37s     "
       ]
      },
      {
       "output_type": "stream",
       "stream": "stdout",
       "text": [
        "\r",
        "93% [=================================>   ] 4,573,600,146 8.67M/s  eta 37s     "
       ]
      },
      {
       "output_type": "stream",
       "stream": "stdout",
       "text": [
        "\r",
        "93% [=================================>   ] 4,575,739,464 8.71M/s  eta 37s     "
       ]
      },
      {
       "output_type": "stream",
       "stream": "stdout",
       "text": [
        "\r",
        "93% [=================================>   ] 4,577,928,246 8.75M/s  eta 36s     "
       ]
      },
      {
       "output_type": "stream",
       "stream": "stdout",
       "text": [
        "\r",
        "93% [=================================>   ] 4,580,100,540 8.76M/s  eta 36s     "
       ]
      },
      {
       "output_type": "stream",
       "stream": "stdout",
       "text": [
        "\r",
        "93% [=================================>   ] 4,582,212,274 8.90M/s  eta 36s     "
       ]
      },
      {
       "output_type": "stream",
       "stream": "stdout",
       "text": [
        "\r",
        "93% [=================================>   ] 4,583,330,814 8.50M/s  eta 36s     "
       ]
      },
      {
       "output_type": "stream",
       "stream": "stdout",
       "text": [
        "\r",
        "93% [=================================>   ] 4,585,339,602 8.57M/s  eta 36s     "
       ]
      },
      {
       "output_type": "stream",
       "stream": "stdout",
       "text": [
        "\r",
        "93% [=================================>   ] 4,586,625,250 8.56M/s  eta 35s     "
       ]
      },
      {
       "output_type": "stream",
       "stream": "stdout",
       "text": [
        "\r",
        "93% [=================================>   ] 4,587,673,114 8.14M/s  eta 35s     "
       ]
      },
      {
       "output_type": "stream",
       "stream": "stdout",
       "text": [
        "\r",
        "93% [=================================>   ] 4,589,756,908 8.36M/s  eta 35s     "
       ]
      },
      {
       "output_type": "stream",
       "stream": "stdout",
       "text": [
        "\r",
        "93% [=================================>   ] 4,591,855,006 8.28M/s  eta 35s     "
       ]
      },
      {
       "output_type": "stream",
       "stream": "stdout",
       "text": [
        "\r",
        "93% [=================================>   ] 4,593,951,730 8.11M/s  eta 34s     "
       ]
      },
      {
       "output_type": "stream",
       "stream": "stdout",
       "text": [
        "\r",
        "93% [=================================>   ] 4,596,048,454 8.09M/s  eta 34s     "
       ]
      },
      {
       "output_type": "stream",
       "stream": "stdout",
       "text": [
        "\r",
        "93% [=================================>   ] 4,598,145,178 8.21M/s  eta 34s     "
       ]
      },
      {
       "output_type": "stream",
       "stream": "stdout",
       "text": [
        "\r",
        "93% [=================================>   ] 4,600,193,812 8.23M/s  eta 34s     "
       ]
      },
      {
       "output_type": "stream",
       "stream": "stdout",
       "text": [
        "\r",
        "93% [=================================>   ] 4,602,080,418 8.51M/s  eta 34s     "
       ]
      },
      {
       "output_type": "stream",
       "stream": "stdout",
       "text": [
        "\r",
        "93% [=================================>   ] 4,603,388,362 8.18M/s  eta 33s     "
       ]
      },
      {
       "output_type": "stream",
       "stream": "stdout",
       "text": [
        "\r",
        "94% [=================================>   ] 4,605,485,086 8.11M/s  eta 33s     "
       ]
      },
      {
       "output_type": "stream",
       "stream": "stdout",
       "text": [
        "\r",
        "94% [=================================>   ] 4,607,513,214 7.99M/s  eta 33s     "
       ]
      },
      {
       "output_type": "stream",
       "stream": "stdout",
       "text": [
        "\r",
        "94% [=================================>   ] 4,609,376,358 7.94M/s  eta 33s     "
       ]
      },
      {
       "output_type": "stream",
       "stream": "stdout",
       "text": [
        "\r",
        "94% [=================================>   ] 4,611,368,658 7.91M/s  eta 33s     "
       ]
      },
      {
       "output_type": "stream",
       "stream": "stdout",
       "text": [
        "\r",
        "94% [=================================>   ] 4,612,826,368 7.85M/s  eta 32s     "
       ]
      },
      {
       "output_type": "stream",
       "stream": "stdout",
       "text": [
        "\r",
        "94% [=================================>   ] 4,614,923,092 7.97M/s  eta 32s     "
       ]
      },
      {
       "output_type": "stream",
       "stream": "stdout",
       "text": [
        "\r",
        "94% [=================================>   ] 4,617,372,830 7.95M/s  eta 32s     "
       ]
      },
      {
       "output_type": "stream",
       "stream": "stdout",
       "text": [
        "\r",
        "94% [=================================>   ] 4,620,088,062 8.25M/s  eta 32s     "
       ]
      },
      {
       "output_type": "stream",
       "stream": "stdout",
       "text": [
        "\r",
        "94% [=================================>   ] 4,622,228,754 8.18M/s  eta 31s     "
       ]
      },
      {
       "output_type": "stream",
       "stream": "stdout",
       "text": [
        "\r",
        "94% [=================================>   ] 4,623,876,180 8.31M/s  eta 31s     "
       ]
      },
      {
       "output_type": "stream",
       "stream": "stdout",
       "text": [
        "\r",
        "94% [=================================>   ] 4,625,258,424 8.06M/s  eta 31s     "
       ]
      },
      {
       "output_type": "stream",
       "stream": "stdout",
       "text": [
        "\r",
        "94% [=================================>   ] 4,626,675,018 8.09M/s  eta 31s     "
       ]
      },
      {
       "output_type": "stream",
       "stream": "stdout",
       "text": [
        "\r",
        "94% [=================================>   ] 4,627,849,684 7.79M/s  eta 31s     "
       ]
      },
      {
       "output_type": "stream",
       "stream": "stdout",
       "text": [
        "\r",
        "94% [=================================>   ] 4,629,946,408 8.02M/s  eta 30s     "
       ]
      },
      {
       "output_type": "stream",
       "stream": "stdout",
       "text": [
        "\r",
        "94% [=================================>   ] 4,632,044,506 7.83M/s  eta 30s     "
       ]
      },
      {
       "output_type": "stream",
       "stream": "stdout",
       "text": [
        "\r",
        "94% [==================================>  ] 4,634,141,230 7.81M/s  eta 30s     "
       ]
      },
      {
       "output_type": "stream",
       "stream": "stdout",
       "text": [
        "\r",
        "94% [==================================>  ] 4,636,196,838 8.02M/s  eta 30s     "
       ]
      },
      {
       "output_type": "stream",
       "stream": "stdout",
       "text": [
        "\r",
        "94% [==================================>  ] 4,638,077,844 8.13M/s  eta 30s     "
       ]
      },
      {
       "output_type": "stream",
       "stream": "stdout",
       "text": [
        "\r",
        "94% [==================================>  ] 4,639,384,414 7.77M/s  eta 29s     "
       ]
      },
      {
       "output_type": "stream",
       "stream": "stdout",
       "text": [
        "\r",
        "94% [==================================>  ] 4,641,488,008 7.70M/s  eta 29s     "
       ]
      },
      {
       "output_type": "stream",
       "stream": "stdout",
       "text": [
        "\r",
        "94% [==================================>  ] 4,643,577,862 7.53M/s  eta 29s     "
       ]
      },
      {
       "output_type": "stream",
       "stream": "stdout",
       "text": [
        "\r",
        "94% [==================================>  ] 4,645,675,960 7.98M/s  eta 29s     "
       ]
      },
      {
       "output_type": "stream",
       "stream": "stdout",
       "text": [
        "\r",
        "94% [==================================>  ] 4,647,387,340 7.61M/s  eta 29s     "
       ]
      },
      {
       "output_type": "stream",
       "stream": "stdout",
       "text": [
        "\r",
        "94% [==================================>  ] 4,649,414,718 7.63M/s  eta 28s     "
       ]
      },
      {
       "output_type": "stream",
       "stream": "stdout",
       "text": [
        "\r",
        "94% [==================================>  ] 4,650,919,144 7.65M/s  eta 28s     "
       ]
      },
      {
       "output_type": "stream",
       "stream": "stdout",
       "text": [
        "\r",
        "94% [==================================>  ] 4,653,015,868 7.80M/s  eta 28s     "
       ]
      },
      {
       "output_type": "stream",
       "stream": "stdout",
       "text": [
        "\r",
        "95% [==================================>  ] 4,653,936,552 7.78M/s  eta 28s     "
       ]
      },
      {
       "output_type": "stream",
       "stream": "stdout",
       "text": [
        "\r",
        "95% [==================================>  ] 4,655,063,232 7.55M/s  eta 28s     "
       ]
      },
      {
       "output_type": "stream",
       "stream": "stdout",
       "text": [
        "\r",
        "95% [==================================>  ] 4,656,160,954 7.33M/s  eta 27s     "
       ]
      },
      {
       "output_type": "stream",
       "stream": "stdout",
       "text": [
        "\r",
        "95% [==================================>  ] 4,657,781,004 7.38M/s  eta 27s     "
       ]
      },
      {
       "output_type": "stream",
       "stream": "stdout",
       "text": [
        "\r",
        "95% [==================================>  ] 4,658,814,148 7.07M/s  eta 27s     "
       ]
      },
      {
       "output_type": "stream",
       "stream": "stdout",
       "text": [
        "\r",
        "95% [==================================>  ] 4,659,308,788 6.63M/s  eta 27s     "
       ]
      },
      {
       "output_type": "stream",
       "stream": "stdout",
       "text": [
        "\r",
        "95% [==================================>  ] 4,661,111,580 6.80M/s  eta 27s     "
       ]
      },
      {
       "output_type": "stream",
       "stream": "stdout",
       "text": [
        "\r",
        "95% [==================================>  ] 4,662,452,500 6.49M/s  eta 27s     "
       ]
      },
      {
       "output_type": "stream",
       "stream": "stdout",
       "text": [
        "\r",
        "95% [==================================>  ] 4,664,370,708 6.51M/s  eta 27s     "
       ]
      },
      {
       "output_type": "stream",
       "stream": "stdout",
       "text": [
        "\r",
        "95% [==================================>  ] 4,666,110,192 6.56M/s  eta 27s     "
       ]
      },
      {
       "output_type": "stream",
       "stream": "stdout",
       "text": [
        "\r",
        "95% [==================================>  ] 4,667,695,684 6.48M/s  eta 27s     "
       ]
      },
      {
       "output_type": "stream",
       "stream": "stdout",
       "text": [
        "\r",
        "95% [==================================>  ] 4,669,792,408 6.52M/s  eta 27s     "
       ]
      },
      {
       "output_type": "stream",
       "stream": "stdout",
       "text": [
        "\r",
        "95% [==================================>  ] 4,671,890,506 6.61M/s  eta 26s     "
       ]
      },
      {
       "output_type": "stream",
       "stream": "stdout",
       "text": [
        "\r",
        "95% [==================================>  ] 4,673,987,230 6.81M/s  eta 26s     "
       ]
      },
      {
       "output_type": "stream",
       "stream": "stdout",
       "text": [
        "\r",
        "95% [==================================>  ] 4,676,085,328 6.73M/s  eta 26s     "
       ]
      },
      {
       "output_type": "stream",
       "stream": "stdout",
       "text": [
        "\r",
        "95% [==================================>  ] 4,678,231,204 6.95M/s  eta 26s     "
       ]
      },
      {
       "output_type": "stream",
       "stream": "stdout",
       "text": [
        "\r",
        "95% [==================================>  ] 4,680,278,776 7.28M/s  eta 26s     "
       ]
      },
      {
       "output_type": "stream",
       "stream": "stdout",
       "text": [
        "\r",
        "95% [==================================>  ] 4,682,375,500 7.61M/s  eta 24s     "
       ]
      },
      {
       "output_type": "stream",
       "stream": "stdout",
       "text": [
        "\r",
        "95% [==================================>  ] 4,684,473,598 7.52M/s  eta 24s     "
       ]
      },
      {
       "output_type": "stream",
       "stream": "stdout",
       "text": [
        "\r",
        "95% [==================================>  ] 4,686,571,696 8.10M/s  eta 24s     "
       ]
      },
      {
       "output_type": "stream",
       "stream": "stdout",
       "text": [
        "\r",
        "95% [==================================>  ] 4,688,667,046 8.01M/s  eta 24s     "
       ]
      },
      {
       "output_type": "stream",
       "stream": "stdout",
       "text": [
        "\r",
        "95% [==================================>  ] 4,690,765,144 8.15M/s  eta 23s     "
       ]
      },
      {
       "output_type": "stream",
       "stream": "stdout",
       "text": [
        "\r",
        "95% [==================================>  ] 4,692,861,868 8.19M/s  eta 23s     "
       ]
      },
      {
       "output_type": "stream",
       "stream": "stdout",
       "text": [
        "\r",
        "95% [==================================>  ] 4,694,958,592 8.31M/s  eta 23s     "
       ]
      },
      {
       "output_type": "stream",
       "stream": "stdout",
       "text": [
        "\r",
        "95% [==================================>  ] 4,697,055,316 8.26M/s  eta 23s     "
       ]
      },
      {
       "output_type": "stream",
       "stream": "stdout",
       "text": [
        "\r",
        "95% [==================================>  ] 4,699,672,890 8.48M/s  eta 23s     "
       ]
      },
      {
       "output_type": "stream",
       "stream": "stdout",
       "text": [
        "\r",
        "95% [==================================>  ] 4,701,250,138 8.40M/s  eta 22s     "
       ]
      },
      {
       "output_type": "stream",
       "stream": "stdout",
       "text": [
        "\r",
        "95% [==================================>  ] 4,702,317,238 8.07M/s  eta 22s     "
       ]
      },
      {
       "output_type": "stream",
       "stream": "stdout",
       "text": [
        "\r",
        "96% [==================================>  ] 4,703,346,862 7.68M/s  eta 22s     "
       ]
      },
      {
       "output_type": "stream",
       "stream": "stdout",
       "text": [
        "\r",
        "96% [==================================>  ] 4,705,821,792 7.75M/s  eta 22s     "
       ]
      },
      {
       "output_type": "stream",
       "stream": "stdout",
       "text": [
        "\r",
        "96% [==================================>  ] 4,708,072,152 7.99M/s  eta 22s     "
       ]
      },
      {
       "output_type": "stream",
       "stream": "stdout",
       "text": [
        "\r",
        "96% [==================================>  ] 4,709,639,782 7.65M/s  eta 21s     "
       ]
      },
      {
       "output_type": "stream",
       "stream": "stdout",
       "text": [
        "\r",
        "96% [==================================>  ] 4,711,736,506 7.82M/s  eta 21s     "
       ]
      },
      {
       "output_type": "stream",
       "stream": "stdout",
       "text": [
        "\r",
        "96% [==================================>  ] 4,714,457,130 7.97M/s  eta 21s     "
       ]
      },
      {
       "output_type": "stream",
       "stream": "stdout",
       "text": [
        "\r",
        "96% [==================================>  ] 4,715,934,076 7.93M/s  eta 21s     "
       ]
      },
      {
       "output_type": "stream",
       "stream": "stdout",
       "text": [
        "\r",
        "96% [==================================>  ] 4,718,531,040 8.37M/s  eta 21s     "
       ]
      },
      {
       "output_type": "stream",
       "stream": "stdout",
       "text": [
        "\r",
        "96% [==================================>  ] 4,719,090,406 8.03M/s  eta 20s     "
       ]
      },
      {
       "output_type": "stream",
       "stream": "stdout",
       "text": [
        "\r",
        "96% [==================================>  ] 4,720,128,608 7.87M/s  eta 20s     "
       ]
      },
      {
       "output_type": "stream",
       "stream": "stdout",
       "text": [
        "\r",
        "96% [==================================>  ] 4,722,221,500 7.71M/s  eta 20s     "
       ]
      },
      {
       "output_type": "stream",
       "stream": "stdout",
       "text": [
        "\r",
        "96% [==================================>  ] 4,724,325,094 7.66M/s  eta 20s     "
       ]
      },
      {
       "output_type": "stream",
       "stream": "stdout",
       "text": [
        "\r",
        "96% [==================================>  ] 4,726,423,088 7.74M/s  eta 19s     "
       ]
      },
      {
       "output_type": "stream",
       "stream": "stdout",
       "text": [
        "\r",
        "96% [==================================>  ] 4,728,513,046 7.43M/s  eta 19s     "
       ]
      },
      {
       "output_type": "stream",
       "stream": "stdout",
       "text": [
        "\r",
        "96% [==================================>  ] 4,730,374,608 7.46M/s  eta 19s     "
       ]
      },
      {
       "output_type": "stream",
       "stream": "stdout",
       "text": [
        "\r",
        "96% [==================================>  ] 4,731,384,810 7.51M/s  eta 19s     "
       ]
      },
      {
       "output_type": "stream",
       "stream": "stdout",
       "text": [
        "\r",
        "96% [==================================>  ] 4,732,724,252 7.54M/s  eta 19s     "
       ]
      },
      {
       "output_type": "stream",
       "stream": "stdout",
       "text": [
        "\r",
        "96% [==================================>  ] 4,734,804,592 7.59M/s  eta 19s     "
       ]
      },
      {
       "output_type": "stream",
       "stream": "stdout",
       "text": [
        "\r",
        "96% [==================================>  ] 4,737,488,118 7.77M/s  eta 19s     "
       ]
      },
      {
       "output_type": "stream",
       "stream": "stdout",
       "text": [
        "\r",
        "96% [==================================>  ] 4,739,737,356 7.94M/s  eta 19s     "
       ]
      },
      {
       "output_type": "stream",
       "stream": "stdout",
       "text": [
        "\r",
        "96% [==================================>  ] 4,742,001,708 7.98M/s  eta 19s     "
       ]
      },
      {
       "output_type": "stream",
       "stream": "stdout",
       "text": [
        "\r",
        "96% [==================================>  ] 4,744,256,234 8.03M/s  eta 19s     "
       ]
      },
      {
       "output_type": "stream",
       "stream": "stdout",
       "text": [
        "\r",
        "96% [==================================>  ] 4,746,555,144 8.01M/s  eta 17s     "
       ]
      },
      {
       "output_type": "stream",
       "stream": "stdout",
       "text": [
        "\r",
        "96% [==================================>  ] 4,747,406,712 8.02M/s  eta 17s     "
       ]
      },
      {
       "output_type": "stream",
       "stream": "stdout",
       "text": [
        "\r",
        "96% [==================================>  ] 4,749,484,408 8.37M/s  eta 17s     "
       ]
      },
      {
       "output_type": "stream",
       "stream": "stdout",
       "text": [
        "\r",
        "97% [==================================>  ] 4,751,582,506 8.24M/s  eta 17s     "
       ]
      },
      {
       "output_type": "stream",
       "stream": "stdout",
       "text": [
        "\r",
        "97% [==================================>  ] 4,753,679,230 8.44M/s  eta 17s     "
       ]
      },
      {
       "output_type": "stream",
       "stream": "stdout",
       "text": [
        "\r",
        "97% [==================================>  ] 4,755,780,076 8.30M/s  eta 16s     "
       ]
      },
      {
       "output_type": "stream",
       "stream": "stdout",
       "text": [
        "\r",
        "97% [==================================>  ] 4,757,649,986 8.22M/s  eta 16s     "
       ]
      },
      {
       "output_type": "stream",
       "stream": "stdout",
       "text": [
        "\r",
        "97% [==================================>  ] 4,758,922,414 8.21M/s  eta 16s     "
       ]
      },
      {
       "output_type": "stream",
       "stream": "stdout",
       "text": [
        "\r",
        "97% [==================================>  ] 4,760,660,212 8.27M/s  eta 16s     "
       ]
      },
      {
       "output_type": "stream",
       "stream": "stdout",
       "text": [
        "\r",
        "97% [==================================>  ] 4,761,798,300 8.16M/s  eta 16s     "
       ]
      },
      {
       "output_type": "stream",
       "stream": "stdout",
       "text": [
        "\r",
        "97% [==================================>  ] 4,763,117,236 8.07M/s  eta 15s     "
       ]
      },
      {
       "output_type": "stream",
       "stream": "stdout",
       "text": [
        "\r",
        "97% [==================================>  ] 4,765,213,960 8.05M/s  eta 15s     "
       ]
      },
      {
       "output_type": "stream",
       "stream": "stdout",
       "text": [
        "\r",
        "97% [===================================> ] 4,767,312,058 7.92M/s  eta 15s     "
       ]
      },
      {
       "output_type": "stream",
       "stream": "stdout",
       "text": [
        "\r",
        "97% [===================================> ] 4,769,407,408 7.73M/s  eta 15s     "
       ]
      },
      {
       "output_type": "stream",
       "stream": "stdout",
       "text": [
        "\r",
        "97% [===================================> ] 4,771,504,132 7.39M/s  eta 14s     "
       ]
      },
      {
       "output_type": "stream",
       "stream": "stdout",
       "text": [
        "\r",
        "97% [===================================> ] 4,772,674,052 7.13M/s  eta 14s     "
       ]
      },
      {
       "output_type": "stream",
       "stream": "stdout",
       "text": [
        "\r",
        "97% [===================================> ] 4,773,607,940 6.75M/s  eta 14s     "
       ]
      },
      {
       "output_type": "stream",
       "stream": "stdout",
       "text": [
        "\r",
        "97% [===================================> ] 4,775,700,328 6.90M/s  eta 14s     "
       ]
      },
      {
       "output_type": "stream",
       "stream": "stdout",
       "text": [
        "\r",
        "97% [===================================> ] 4,778,290,422 7.25M/s  eta 14s     "
       ]
      },
      {
       "output_type": "stream",
       "stream": "stdout",
       "text": [
        "\r",
        "97% [===================================> ] 4,780,446,228 7.24M/s  eta 13s     "
       ]
      },
      {
       "output_type": "stream",
       "stream": "stdout",
       "text": [
        "\r",
        "97% [===================================> ] 4,782,008,258 6.98M/s  eta 13s     "
       ]
      },
      {
       "output_type": "stream",
       "stream": "stdout",
       "text": [
        "\r",
        "97% [===================================> ] 4,784,675,400 7.34M/s  eta 13s     "
       ]
      },
      {
       "output_type": "stream",
       "stream": "stdout",
       "text": [
        "\r",
        "97% [===================================> ] 4,786,185,322 7.50M/s  eta 13s     "
       ]
      },
      {
       "output_type": "stream",
       "stream": "stdout",
       "text": [
        "\r",
        "97% [===================================> ] 4,788,282,046 7.45M/s  eta 13s     "
       ]
      },
      {
       "output_type": "stream",
       "stream": "stdout",
       "text": [
        "\r",
        "97% [===================================> ] 4,790,378,770 7.61M/s  eta 12s     "
       ]
      },
      {
       "output_type": "stream",
       "stream": "stdout",
       "text": [
        "\r",
        "97% [===================================> ] 4,792,479,616 8.14M/s  eta 12s     "
       ]
      },
      {
       "output_type": "stream",
       "stream": "stdout",
       "text": [
        "\r",
        "97% [===================================> ] 4,794,573,592 8.04M/s  eta 12s     "
       ]
      },
      {
       "output_type": "stream",
       "stream": "stdout",
       "text": [
        "\r",
        "97% [===================================> ] 4,796,671,690 8.17M/s  eta 12s     "
       ]
      },
      {
       "output_type": "stream",
       "stream": "stdout",
       "text": [
        "\r",
        "97% [===================================> ] 4,798,768,414 8.19M/s  eta 12s     "
       ]
      },
      {
       "output_type": "stream",
       "stream": "stdout",
       "text": [
        "\r",
        "98% [===================================> ] 4,800,819,900 8.12M/s  eta 11s     "
       ]
      },
      {
       "output_type": "stream",
       "stream": "stdout",
       "text": [
        "\r",
        "98% [===================================> ] 4,802,625,336 8.40M/s  eta 11s     "
       ]
      },
      {
       "output_type": "stream",
       "stream": "stdout",
       "text": [
        "\r",
        "98% [===================================> ] 4,804,705,572 8.58M/s  eta 11s     "
       ]
      },
      {
       "output_type": "stream",
       "stream": "stdout",
       "text": [
        "\r",
        "98% [===================================> ] 4,806,721,230 8.96M/s  eta 11s     "
       ]
      },
      {
       "output_type": "stream",
       "stream": "stdout",
       "text": [
        "\r",
        "98% [===================================> ] 4,808,886,654 9.13M/s  eta 11s     "
       ]
      },
      {
       "output_type": "stream",
       "stream": "stdout",
       "text": [
        "\r",
        "98% [===================================> ] 4,810,828,116 8.98M/s  eta 10s     "
       ]
      },
      {
       "output_type": "stream",
       "stream": "stdout",
       "text": [
        "\r",
        "98% [===================================> ] 4,812,048,228 8.73M/s  eta 10s     "
       ]
      },
      {
       "output_type": "stream",
       "stream": "stdout",
       "text": [
        "\r",
        "98% [===================================> ] 4,813,449,604 8.58M/s  eta 10s     "
       ]
      },
      {
       "output_type": "stream",
       "stream": "stdout",
       "text": [
        "\r",
        "98% [===================================> ] 4,815,546,328 8.64M/s  eta 10s     "
       ]
      },
      {
       "output_type": "stream",
       "stream": "stdout",
       "text": [
        "\r",
        "98% [===================================> ] 4,818,240,846 8.86M/s  eta 10s     "
       ]
      },
      {
       "output_type": "stream",
       "stream": "stdout",
       "text": [
        "\r",
        "98% [===================================> ] 4,819,743,066 8.56M/s  eta 9s      "
       ]
      },
      {
       "output_type": "stream",
       "stream": "stdout",
       "text": [
        "\r",
        "98% [===================================> ] 4,822,471,392 8.92M/s  eta 9s      "
       ]
      },
      {
       "output_type": "stream",
       "stream": "stdout",
       "text": [
        "\r",
        "98% [===================================> ] 4,824,695,898 8.88M/s  eta 9s      "
       ]
      },
      {
       "output_type": "stream",
       "stream": "stdout",
       "text": [
        "\r",
        "98% [===================================> ] 4,826,920,404 9.07M/s  eta 9s      "
       ]
      },
      {
       "output_type": "stream",
       "stream": "stdout",
       "text": [
        "\r",
        "98% [===================================> ] 4,828,813,672 8.94M/s  eta 9s      "
       ]
      },
      {
       "output_type": "stream",
       "stream": "stdout",
       "text": [
        "\r",
        "98% [===================================> ] 4,830,224,770 8.85M/s  eta 8s      "
       ]
      },
      {
       "output_type": "stream",
       "stream": "stdout",
       "text": [
        "\r",
        "98% [===================================> ] 4,832,324,242 9.06M/s  eta 8s      "
       ]
      },
      {
       "output_type": "stream",
       "stream": "stdout",
       "text": [
        "\r",
        "98% [===================================> ] 4,834,424,984 9.13M/s  eta 8s      "
       ]
      },
      {
       "output_type": "stream",
       "stream": "stdout",
       "text": [
        "\r",
        "98% [===================================> ] 4,836,516,316 9.08M/s  eta 8s      "
       ]
      },
      {
       "output_type": "stream",
       "stream": "stdout",
       "text": [
        "\r",
        "98% [===================================> ] 4,838,519,608 8.87M/s  eta 8s      "
       ]
      },
      {
       "output_type": "stream",
       "stream": "stdout",
       "text": [
        "\r",
        "98% [===================================> ] 4,840,297,668 8.96M/s  eta 7s      "
       ]
      },
      {
       "output_type": "stream",
       "stream": "stdout",
       "text": [
        "\r",
        "98% [===================================> ] 4,841,759,500 8.59M/s  eta 7s      "
       ]
      },
      {
       "output_type": "stream",
       "stream": "stdout",
       "text": [
        "\r",
        "98% [===================================> ] 4,843,856,224 8.95M/s  eta 7s      "
       ]
      },
      {
       "output_type": "stream",
       "stream": "stdout",
       "text": [
        "\r",
        "98% [===================================> ] 4,845,954,322 9.12M/s  eta 7s      "
       ]
      },
      {
       "output_type": "stream",
       "stream": "stdout",
       "text": [
        "\r",
        "98% [===================================> ] 4,847,979,702 8.97M/s  eta 7s      "
       ]
      },
      {
       "output_type": "stream",
       "stream": "stdout",
       "text": [
        "\r",
        "98% [===================================> ] 4,849,099,408 8.69M/s  eta 6s      "
       ]
      },
      {
       "output_type": "stream",
       "stream": "stdout",
       "text": [
        "\r",
        "99% [===================================> ] 4,851,196,132 8.69M/s  eta 6s      "
       ]
      },
      {
       "output_type": "stream",
       "stream": "stdout",
       "text": [
        "\r",
        "99% [===================================> ] 4,853,823,324 8.78M/s  eta 6s      "
       ]
      },
      {
       "output_type": "stream",
       "stream": "stdout",
       "text": [
        "\r",
        "99% [===================================> ] 4,855,392,328 8.73M/s  eta 6s      "
       ]
      },
      {
       "output_type": "stream",
       "stream": "stdout",
       "text": [
        "\r",
        "99% [===================================> ] 4,857,413,586 8.61M/s  eta 6s      "
       ]
      },
      {
       "output_type": "stream",
       "stream": "stdout",
       "text": [
        "\r",
        "99% [===================================> ] 4,859,588,524 8.46M/s  eta 4s      "
       ]
      },
      {
       "output_type": "stream",
       "stream": "stdout",
       "text": [
        "\r",
        "99% [===================================> ] 4,862,191,778 8.84M/s  eta 4s      "
       ]
      },
      {
       "output_type": "stream",
       "stream": "stdout",
       "text": [
        "\r",
        "99% [===================================> ] 4,864,458,084 8.82M/s  eta 4s      "
       ]
      },
      {
       "output_type": "stream",
       "stream": "stdout",
       "text": [
        "\r",
        "99% [===================================> ] 4,866,616,638 8.96M/s  eta 4s      "
       ]
      },
      {
       "output_type": "stream",
       "stream": "stdout",
       "text": [
        "\r",
        "99% [===================================> ] 4,867,984,414 8.66M/s  eta 4s      "
       ]
      },
      {
       "output_type": "stream",
       "stream": "stdout",
       "text": [
        "\r",
        "99% [===================================> ] 4,870,072,144 8.47M/s  eta 3s      "
       ]
      },
      {
       "output_type": "stream",
       "stream": "stdout",
       "text": [
        "\r",
        "99% [===================================> ] 4,872,167,494 8.57M/s  eta 3s      "
       ]
      },
      {
       "output_type": "stream",
       "stream": "stdout",
       "text": [
        "\r",
        "99% [===================================> ] 4,874,266,966 8.33M/s  eta 3s      "
       ]
      },
      {
       "output_type": "stream",
       "stream": "stdout",
       "text": [
        "\r",
        "99% [===================================> ] 4,876,362,316 8.45M/s  eta 3s      "
       ]
      },
      {
       "output_type": "stream",
       "stream": "stdout",
       "text": [
        "\r",
        "99% [===================================> ] 4,878,459,040 8.52M/s  eta 2s      "
       ]
      },
      {
       "output_type": "stream",
       "stream": "stdout",
       "text": [
        "\r",
        "99% [===================================> ] 4,880,561,156 8.74M/s  eta 2s      "
       ]
      },
      {
       "output_type": "stream",
       "stream": "stdout",
       "text": [
        "\r",
        "99% [===================================> ] 4,882,653,862 8.57M/s  eta 2s      "
       ]
      },
      {
       "output_type": "stream",
       "stream": "stdout",
       "text": [
        "\r",
        "99% [===================================> ] 4,884,643,518 8.69M/s  eta 2s      "
       ]
      },
      {
       "output_type": "stream",
       "stream": "stdout",
       "text": [
        "\r",
        "99% [===================================> ] 4,886,557,500 8.65M/s  eta 2s      "
       ]
      },
      {
       "output_type": "stream",
       "stream": "stdout",
       "text": [
        "\r",
        "99% [===================================> ] 4,888,520,946 8.72M/s  eta 1s      "
       ]
      },
      {
       "output_type": "stream",
       "stream": "stdout",
       "text": [
        "\r",
        "99% [===================================> ] 4,889,995,144 8.45M/s  eta 1s      "
       ]
      },
      {
       "output_type": "stream",
       "stream": "stdout",
       "text": [
        "\r",
        "99% [===================================> ] 4,892,090,494 8.29M/s  eta 1s      "
       ]
      },
      {
       "output_type": "stream",
       "stream": "stdout",
       "text": [
        "\r",
        "99% [===================================> ] 4,894,699,824 8.41M/s  eta 1s      "
       ]
      },
      {
       "output_type": "stream",
       "stream": "stdout",
       "text": [
        "\r",
        "99% [===================================> ] 4,896,884,484 8.50M/s  eta 1s      "
       ]
      },
      {
       "output_type": "stream",
       "stream": "stdout",
       "text": [
        "\r",
        "99% [===================================> ] 4,898,391,554 8.59M/s  eta 0s      \r",
        "100%[====================================>] 4,898,503,276 8.62M/s   in 9m 14s  \r\n",
        "\r\n"
       ]
      },
      {
       "output_type": "stream",
       "stream": "stdout",
       "text": [
        "2014-07-07 14:49:02 (8.44 MB/s) - `BiGo_lar_fastq.tgz' saved [4898503276/4898503276]\r\n",
        "\r\n"
       ]
      }
     ],
     "prompt_number": 3
    },
    {
     "cell_type": "code",
     "collapsed": false,
     "input": [
      "!"
     ],
     "language": "python",
     "metadata": {},
     "outputs": [
      {
       "output_type": "stream",
       "stream": "stdout",
       "text": [
        "BiGo_lar_fastq.tgz               filt_YE_control_22smCG5x.txt\r\n",
        "Jake_Heare_Research_Central.jpg  filt_YE_mix_22smCG5x.txt\r\n"
       ]
      }
     ],
     "prompt_number": 4
    },
    {
     "cell_type": "code",
     "collapsed": false,
     "input": [],
     "language": "python",
     "metadata": {},
     "outputs": []
    }
   ],
   "metadata": {}
  }
 ]
}