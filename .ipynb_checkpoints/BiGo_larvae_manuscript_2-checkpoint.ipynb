{
 "metadata": {
  "name": "",
  "signature": "sha256:8a6a48d785f42845c2d60f26e51abe41e7d3da8e374e05de8ac4f6756002aa4d"
 },
 "nbformat": 3,
 "nbformat_minor": 0,
 "worksheets": [
  {
   "cells": [
    {
     "cell_type": "markdown",
     "metadata": {},
     "source": [
      "An effort to reproduce the Olson development / lineage paper"
     ]
    },
    {
     "cell_type": "code",
     "collapsed": false,
     "input": [
      "#some things to start - set working directory\n",
      "mywd=\"/Users/sr320/Desktop/\"\n"
     ],
     "language": "python",
     "metadata": {},
     "outputs": [],
     "prompt_number": 8
    },
    {
     "cell_type": "code",
     "collapsed": false,
     "input": [
      "cd {mywd}"
     ],
     "language": "python",
     "metadata": {},
     "outputs": [
      {
       "output_type": "stream",
       "stream": "stdout",
       "text": [
        "/Users/sr320/Desktop\n"
       ]
      }
     ],
     "prompt_number": 9
    },
    {
     "cell_type": "heading",
     "level": 1,
     "metadata": {},
     "source": [
      "Download Quality Trimmed Fastq files"
     ]
    },
    {
     "cell_type": "code",
     "collapsed": false,
     "input": [
      "!wget http://eagle.fish.washington.edu/trilobite/Crassostrea_gigas_HTSdata/BiGo_larvae_cc/BiGo_lar_fastq.tgz"
     ],
     "language": "python",
     "metadata": {},
     "outputs": []
    }
   ],
   "metadata": {}
  }
 ]
}