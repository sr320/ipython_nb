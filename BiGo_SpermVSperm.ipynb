{
 "metadata": {
  "name": ""
 },
 "nbformat": 3,
 "nbformat_minor": 0,
 "worksheets": [
  {
   "cells": [
    {
     "cell_type": "heading",
     "level": 1,
     "metadata": {},
     "source": [
      "Comparing Methylation between two Sperm Samples"
     ]
    },
    {
     "cell_type": "code",
     "collapsed": false,
     "input": [
      "!head /Volumes/web/cnidarian/BiGo_larvae_merge/CgM1_[0316_0954]/filt_methratio_CgM1.igv"
     ],
     "language": "python",
     "metadata": {},
     "outputs": [
      {
       "output_type": "stream",
       "stream": "stdout",
       "text": [
        "C12768\t102\t104\tCpG\t0.167\r\n",
        "C12806\t141\t143\tCpG\t0.333\r\n",
        "C12924\t29\t31\tCpG\t0.000\r\n",
        "C12924\t37\t39\tCpG\t0.000\r\n",
        "C12924\t51\t53\tCpG\t0.000\r\n",
        "C12924\t59\t61\tCpG\t0.000\r\n",
        "C12924\t126\t128\tCpG\t0.000\r\n",
        "C12924\t135\t137\tCpG\t0.000\r\n",
        "C13128\t86\t88\tCpG\t0.000\r\n",
        "C13208\t82\t84\tCpG\t0.400\r\n"
       ]
      }
     ],
     "prompt_number": 2
    },
    {
     "cell_type": "code",
     "collapsed": false,
     "input": [
      "!awk '{print ($1\"_\"$2),$1,$2,$3,$4,$5}' </Volumes/web/cnidarian/BiGo_larvae_merge/CgM1_[0316_0954]/filt_methratio_CgM1.igv> \\\n",
      "/Volumes/web/cnidarian/BiGo_larvae_merge/CgM1_[0316_0954]/filt_methratio_CgM1_id.tab"
     ],
     "language": "python",
     "metadata": {},
     "outputs": [],
     "prompt_number": 4
    },
    {
     "cell_type": "code",
     "collapsed": false,
     "input": [
      "!head /Volumes/web/cnidarian/BiGo_larvae_merge/CgM1_[0316_0954]/filt_methratio_CgM1_id.tab"
     ],
     "language": "python",
     "metadata": {},
     "outputs": [
      {
       "output_type": "stream",
       "stream": "stdout",
       "text": [
        "C12768_102 C12768 102 104 CpG 0.167\r\n",
        "C12806_141 C12806 141 143 CpG 0.333\r\n",
        "C12924_29 C12924 29 31 CpG 0.000\r\n",
        "C12924_37 C12924 37 39 CpG 0.000\r\n",
        "C12924_51 C12924 51 53 CpG 0.000\r\n",
        "C12924_59 C12924 59 61 CpG 0.000\r\n",
        "C12924_126 C12924 126 128 CpG 0.000\r\n",
        "C12924_135 C12924 135 137 CpG 0.000\r\n",
        "C13128_86 C13128 86 88 CpG 0.000\r\n",
        "C13208_82 C13208 82 84 CpG 0.400\r\n"
       ]
      }
     ],
     "prompt_number": 5
    },
    {
     "cell_type": "code",
     "collapsed": false,
     "input": [
      "#Location of SQLShare python tools: you can empty (\"\") if tools are in PATH\n",
      "spd=\"/Users/sr320/sqlshare-pythonclient/tools/\""
     ],
     "language": "python",
     "metadata": {},
     "outputs": [],
     "prompt_number": 6
    },
    {
     "cell_type": "code",
     "collapsed": false,
     "input": [
      "!python {spd}singleupload.py -d filt_methratio_CgM1_id /Volumes/web/cnidarian/BiGo_larvae_merge/CgM1_[0316_0954]/filt_methratio_CgM1_id.tab"
     ],
     "language": "python",
     "metadata": {},
     "outputs": [
      {
       "output_type": "stream",
       "stream": "stdout",
       "text": [
        "processing chunk line 0 to 380223 (3.3083050251 s elapsed)\r\n",
        "pushing /Volumes/web/cnidarian/BiGo_larvae_merge/CgM1_[0316_0954]/filt_methratio_CgM1_id.tab...\r\n"
       ]
      },
      {
       "output_type": "stream",
       "stream": "stdout",
       "text": [
        "parsing 2A8E1985...\r\n"
       ]
      },
      {
       "output_type": "stream",
       "stream": "stdout",
       "text": [
        "finished filt_methratio_CgM1_id\r\n"
       ]
      }
     ],
     "prompt_number": 7
    },
    {
     "cell_type": "code",
     "collapsed": false,
     "input": [],
     "language": "python",
     "metadata": {},
     "outputs": []
    },
    {
     "cell_type": "code",
     "collapsed": false,
     "input": [],
     "language": "python",
     "metadata": {},
     "outputs": []
    },
    {
     "cell_type": "code",
     "collapsed": false,
     "input": [],
     "language": "python",
     "metadata": {},
     "outputs": []
    },
    {
     "cell_type": "code",
     "collapsed": false,
     "input": [],
     "language": "python",
     "metadata": {},
     "outputs": []
    },
    {
     "cell_type": "code",
     "collapsed": false,
     "input": [
      "!head /Volumes/web/cnidarian/BiGo_larvae_merge/CgM3_[0316_1207]/filt_methratio_CgM3.igv"
     ],
     "language": "python",
     "metadata": {},
     "outputs": [
      {
       "output_type": "stream",
       "stream": "stdout",
       "text": [
        "C13128\t86\t88\tCpG\t0.000\r\n",
        "C13208\t82\t84\tCpG\t0.429\r\n",
        "C13442\t64\t66\tCpG\t0.000\r\n",
        "C13442\t78\t80\tCpG\t0.000\r\n",
        "C13612\t88\t90\tCpG\t0.000\r\n",
        "C13992\t53\t55\tCpG\t0.000\r\n",
        "C14180\t157\t159\tCpG\t0.000\r\n",
        "C14180\t192\t194\tCpG\t0.000\r\n",
        "C14220\t95\t97\tCpG\t0.000\r\n",
        "C14220\t142\t144\tCpG\t0.000\r\n"
       ]
      }
     ],
     "prompt_number": 3
    },
    {
     "cell_type": "code",
     "collapsed": false,
     "input": [],
     "language": "python",
     "metadata": {},
     "outputs": []
    }
   ],
   "metadata": {}
  }
 ]
}